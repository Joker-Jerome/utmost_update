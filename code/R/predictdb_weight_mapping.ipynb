{
 "cells": [
  {
   "cell_type": "markdown",
   "metadata": {},
   "source": [
    "### check predictDB signs and non-coding RNAs"
   ]
  },
  {
   "cell_type": "code",
   "execution_count": 3,
   "metadata": {},
   "outputs": [],
   "source": [
    "suppressPackageStartupMessages(library(dplyr))\n",
    "suppressPackageStartupMessages(library(data.table))\n",
    "suppressPackageStartupMessages(library(kableExtra))\n",
    "suppressPackageStartupMessages(library(RSQLite))\n",
    "suppressPackageStartupMessages(library(formattable))\n",
    "\n"
   ]
  },
  {
   "cell_type": "code",
   "execution_count": null,
   "metadata": {},
   "outputs": [],
   "source": []
  },
  {
   "cell_type": "code",
   "execution_count": 4,
   "metadata": {},
   "outputs": [],
   "source": [
    "predictDB_dir <- \"/ysm-gpfs/pi/zhao-data/zy92/predictDB/\"\n",
    "db_vec <- list.files(predictDB_dir, pattern = \"*.db\")"
   ]
  },
  {
   "cell_type": "code",
   "execution_count": 5,
   "metadata": {},
   "outputs": [],
   "source": [
    "## convenience query function\n",
    "sqlite <- dbDriver(\"SQLite\")\n",
    "query <- function(...) dbGetQuery(db, ...)"
   ]
  },
  {
   "cell_type": "code",
   "execution_count": 6,
   "metadata": {},
   "outputs": [
    {
     "data": {
      "text/html": [
       "INFO: reading gtex_v7_Adipose_Subcutaneous_imputed_europeans_tw_0.5_signif.db"
      ]
     },
     "metadata": {},
     "output_type": "display_data"
    },
    {
     "data": {
      "text/html": [
       "INFO: reading gtex_v7_Adipose_Visceral_Omentum_imputed_europeans_tw_0.5_signif.db"
      ]
     },
     "metadata": {},
     "output_type": "display_data"
    },
    {
     "data": {
      "text/html": [
       "INFO: reading gtex_v7_Adrenal_Gland_imputed_europeans_tw_0.5_signif.db"
      ]
     },
     "metadata": {},
     "output_type": "display_data"
    },
    {
     "data": {
      "text/html": [
       "INFO: reading gtex_v7_Artery_Aorta_imputed_europeans_tw_0.5_signif.db"
      ]
     },
     "metadata": {},
     "output_type": "display_data"
    },
    {
     "data": {
      "text/html": [
       "INFO: reading gtex_v7_Artery_Coronary_imputed_europeans_tw_0.5_signif.db"
      ]
     },
     "metadata": {},
     "output_type": "display_data"
    },
    {
     "data": {
      "text/html": [
       "INFO: reading gtex_v7_Artery_Tibial_imputed_europeans_tw_0.5_signif.db"
      ]
     },
     "metadata": {},
     "output_type": "display_data"
    },
    {
     "data": {
      "text/html": [
       "INFO: reading gtex_v7_Brain_Amygdala_imputed_europeans_tw_0.5_signif.db"
      ]
     },
     "metadata": {},
     "output_type": "display_data"
    },
    {
     "data": {
      "text/html": [
       "INFO: reading gtex_v7_Brain_Anterior_cingulate_cortex_BA24_imputed_europeans_tw_0.5_signif.db"
      ]
     },
     "metadata": {},
     "output_type": "display_data"
    },
    {
     "data": {
      "text/html": [
       "INFO: reading gtex_v7_Brain_Caudate_basal_ganglia_imputed_europeans_tw_0.5_signif.db"
      ]
     },
     "metadata": {},
     "output_type": "display_data"
    },
    {
     "data": {
      "text/html": [
       "INFO: reading gtex_v7_Brain_Cerebellar_Hemisphere_imputed_europeans_tw_0.5_signif.db"
      ]
     },
     "metadata": {},
     "output_type": "display_data"
    },
    {
     "data": {
      "text/html": [
       "INFO: reading gtex_v7_Brain_Cerebellum_imputed_europeans_tw_0.5_signif.db"
      ]
     },
     "metadata": {},
     "output_type": "display_data"
    },
    {
     "data": {
      "text/html": [
       "INFO: reading gtex_v7_Brain_Cortex_imputed_europeans_tw_0.5_signif.db"
      ]
     },
     "metadata": {},
     "output_type": "display_data"
    },
    {
     "data": {
      "text/html": [
       "INFO: reading gtex_v7_Brain_Frontal_Cortex_BA9_imputed_europeans_tw_0.5_signif.db"
      ]
     },
     "metadata": {},
     "output_type": "display_data"
    },
    {
     "data": {
      "text/html": [
       "INFO: reading gtex_v7_Brain_Hippocampus_imputed_europeans_tw_0.5_signif.db"
      ]
     },
     "metadata": {},
     "output_type": "display_data"
    },
    {
     "data": {
      "text/html": [
       "INFO: reading gtex_v7_Brain_Hypothalamus_imputed_europeans_tw_0.5_signif.db"
      ]
     },
     "metadata": {},
     "output_type": "display_data"
    },
    {
     "data": {
      "text/html": [
       "INFO: reading gtex_v7_Brain_Nucleus_accumbens_basal_ganglia_imputed_europeans_tw_0.5_signif.db"
      ]
     },
     "metadata": {},
     "output_type": "display_data"
    },
    {
     "data": {
      "text/html": [
       "INFO: reading gtex_v7_Brain_Putamen_basal_ganglia_imputed_europeans_tw_0.5_signif.db"
      ]
     },
     "metadata": {},
     "output_type": "display_data"
    },
    {
     "data": {
      "text/html": [
       "INFO: reading gtex_v7_Brain_Spinal_cord_cervical_c-1_imputed_europeans_tw_0.5_signif.db"
      ]
     },
     "metadata": {},
     "output_type": "display_data"
    },
    {
     "data": {
      "text/html": [
       "INFO: reading gtex_v7_Brain_Substantia_nigra_imputed_europeans_tw_0.5_signif.db"
      ]
     },
     "metadata": {},
     "output_type": "display_data"
    },
    {
     "data": {
      "text/html": [
       "INFO: reading gtex_v7_Breast_Mammary_Tissue_imputed_europeans_tw_0.5_signif.db"
      ]
     },
     "metadata": {},
     "output_type": "display_data"
    },
    {
     "data": {
      "text/html": [
       "INFO: reading gtex_v7_Cells_EBV-transformed_lymphocytes_imputed_europeans_tw_0.5_signif.db"
      ]
     },
     "metadata": {},
     "output_type": "display_data"
    },
    {
     "data": {
      "text/html": [
       "INFO: reading gtex_v7_Cells_Transformed_fibroblasts_imputed_europeans_tw_0.5_signif.db"
      ]
     },
     "metadata": {},
     "output_type": "display_data"
    },
    {
     "data": {
      "text/html": [
       "INFO: reading gtex_v7_Colon_Sigmoid_imputed_europeans_tw_0.5_signif.db"
      ]
     },
     "metadata": {},
     "output_type": "display_data"
    },
    {
     "data": {
      "text/html": [
       "INFO: reading gtex_v7_Colon_Transverse_imputed_europeans_tw_0.5_signif.db"
      ]
     },
     "metadata": {},
     "output_type": "display_data"
    },
    {
     "data": {
      "text/html": [
       "INFO: reading gtex_v7_Esophagus_Gastroesophageal_Junction_imputed_europeans_tw_0.5_signif.db"
      ]
     },
     "metadata": {},
     "output_type": "display_data"
    },
    {
     "data": {
      "text/html": [
       "INFO: reading gtex_v7_Esophagus_Mucosa_imputed_europeans_tw_0.5_signif.db"
      ]
     },
     "metadata": {},
     "output_type": "display_data"
    },
    {
     "data": {
      "text/html": [
       "INFO: reading gtex_v7_Esophagus_Muscularis_imputed_europeans_tw_0.5_signif.db"
      ]
     },
     "metadata": {},
     "output_type": "display_data"
    },
    {
     "data": {
      "text/html": [
       "INFO: reading gtex_v7_Heart_Atrial_Appendage_imputed_europeans_tw_0.5_signif.db"
      ]
     },
     "metadata": {},
     "output_type": "display_data"
    },
    {
     "data": {
      "text/html": [
       "INFO: reading gtex_v7_Heart_Left_Ventricle_imputed_europeans_tw_0.5_signif.db"
      ]
     },
     "metadata": {},
     "output_type": "display_data"
    },
    {
     "data": {
      "text/html": [
       "INFO: reading gtex_v7_Liver_imputed_europeans_tw_0.5_signif.db"
      ]
     },
     "metadata": {},
     "output_type": "display_data"
    },
    {
     "data": {
      "text/html": [
       "INFO: reading gtex_v7_Lung_imputed_europeans_tw_0.5_signif.db"
      ]
     },
     "metadata": {},
     "output_type": "display_data"
    },
    {
     "data": {
      "text/html": [
       "INFO: reading gtex_v7_Minor_Salivary_Gland_imputed_europeans_tw_0.5_signif.db"
      ]
     },
     "metadata": {},
     "output_type": "display_data"
    },
    {
     "data": {
      "text/html": [
       "INFO: reading gtex_v7_Muscle_Skeletal_imputed_europeans_tw_0.5_signif.db"
      ]
     },
     "metadata": {},
     "output_type": "display_data"
    },
    {
     "data": {
      "text/html": [
       "INFO: reading gtex_v7_Nerve_Tibial_imputed_europeans_tw_0.5_signif.db"
      ]
     },
     "metadata": {},
     "output_type": "display_data"
    },
    {
     "data": {
      "text/html": [
       "INFO: reading gtex_v7_Ovary_imputed_europeans_tw_0.5_signif.db"
      ]
     },
     "metadata": {},
     "output_type": "display_data"
    },
    {
     "data": {
      "text/html": [
       "INFO: reading gtex_v7_Pancreas_imputed_europeans_tw_0.5_signif.db"
      ]
     },
     "metadata": {},
     "output_type": "display_data"
    },
    {
     "data": {
      "text/html": [
       "INFO: reading gtex_v7_Pituitary_imputed_europeans_tw_0.5_signif.db"
      ]
     },
     "metadata": {},
     "output_type": "display_data"
    },
    {
     "data": {
      "text/html": [
       "INFO: reading gtex_v7_Prostate_imputed_europeans_tw_0.5_signif.db"
      ]
     },
     "metadata": {},
     "output_type": "display_data"
    },
    {
     "data": {
      "text/html": [
       "INFO: reading gtex_v7_Skin_Not_Sun_Exposed_Suprapubic_imputed_europeans_tw_0.5_signif.db"
      ]
     },
     "metadata": {},
     "output_type": "display_data"
    },
    {
     "data": {
      "text/html": [
       "INFO: reading gtex_v7_Skin_Sun_Exposed_Lower_leg_imputed_europeans_tw_0.5_signif.db"
      ]
     },
     "metadata": {},
     "output_type": "display_data"
    },
    {
     "data": {
      "text/html": [
       "INFO: reading gtex_v7_Small_Intestine_Terminal_Ileum_imputed_europeans_tw_0.5_signif.db"
      ]
     },
     "metadata": {},
     "output_type": "display_data"
    },
    {
     "data": {
      "text/html": [
       "INFO: reading gtex_v7_Spleen_imputed_europeans_tw_0.5_signif.db"
      ]
     },
     "metadata": {},
     "output_type": "display_data"
    },
    {
     "data": {
      "text/html": [
       "INFO: reading gtex_v7_Stomach_imputed_europeans_tw_0.5_signif.db"
      ]
     },
     "metadata": {},
     "output_type": "display_data"
    },
    {
     "data": {
      "text/html": [
       "INFO: reading gtex_v7_Testis_imputed_europeans_tw_0.5_signif.db"
      ]
     },
     "metadata": {},
     "output_type": "display_data"
    },
    {
     "data": {
      "text/html": [
       "INFO: reading gtex_v7_Thyroid_imputed_europeans_tw_0.5_signif.db"
      ]
     },
     "metadata": {},
     "output_type": "display_data"
    },
    {
     "data": {
      "text/html": [
       "INFO: reading gtex_v7_Uterus_imputed_europeans_tw_0.5_signif.db"
      ]
     },
     "metadata": {},
     "output_type": "display_data"
    },
    {
     "data": {
      "text/html": [
       "INFO: reading gtex_v7_Vagina_imputed_europeans_tw_0.5_signif.db"
      ]
     },
     "metadata": {},
     "output_type": "display_data"
    },
    {
     "data": {
      "text/html": [
       "INFO: reading gtex_v7_Whole_Blood_imputed_europeans_tw_0.5_signif.db"
      ]
     },
     "metadata": {},
     "output_type": "display_data"
    }
   ],
   "source": [
    "setwd(predictDB_dir)\n",
    "gene_list <- list()\n",
    "for(i in 1:length(db_vec))\n",
    "  {\n",
    "    IRdisplay::display_html(paste0(\"INFO: reading \", db_vec[i]))\n",
    "    dbname <- db_vec[i]\n",
    "    db <- dbConnect(sqlite, dbname)\n",
    "    #print(query('select count(*) from weights'))\n",
    "    gene_list[[dbname]] <- query(paste('select distinct(gene) from weights'))\n",
    "    \n",
    "}"
   ]
  },
  {
   "cell_type": "code",
   "execution_count": 7,
   "metadata": {},
   "outputs": [
    {
     "data": {
      "text/html": [
       "<table>\n",
       "<caption>A data.frame: 6 × 1</caption>\n",
       "<thead>\n",
       "\t<tr><th></th><th scope=col>gene</th></tr>\n",
       "\t<tr><th></th><th scope=col>&lt;chr&gt;</th></tr>\n",
       "</thead>\n",
       "<tbody>\n",
       "\t<tr><th scope=row>1</th><td>ENSG00000000457.9 </td></tr>\n",
       "\t<tr><th scope=row>2</th><td>ENSG00000000460.12</td></tr>\n",
       "\t<tr><th scope=row>3</th><td>ENSG00000000971.11</td></tr>\n",
       "\t<tr><th scope=row>4</th><td>ENSG00000001167.10</td></tr>\n",
       "\t<tr><th scope=row>5</th><td>ENSG00000001460.13</td></tr>\n",
       "\t<tr><th scope=row>6</th><td>ENSG00000001461.12</td></tr>\n",
       "</tbody>\n",
       "</table>\n"
      ],
      "text/latex": [
       "A data.frame: 6 × 1\n",
       "\\begin{tabular}{r|l}\n",
       "  & gene\\\\\n",
       "  & <chr>\\\\\n",
       "\\hline\n",
       "\t1 & ENSG00000000457.9 \\\\\n",
       "\t2 & ENSG00000000460.12\\\\\n",
       "\t3 & ENSG00000000971.11\\\\\n",
       "\t4 & ENSG00000001167.10\\\\\n",
       "\t5 & ENSG00000001460.13\\\\\n",
       "\t6 & ENSG00000001461.12\\\\\n",
       "\\end{tabular}\n"
      ],
      "text/markdown": [
       "\n",
       "A data.frame: 6 × 1\n",
       "\n",
       "| <!--/--> | gene &lt;chr&gt; |\n",
       "|---|---|\n",
       "| 1 | ENSG00000000457.9  |\n",
       "| 2 | ENSG00000000460.12 |\n",
       "| 3 | ENSG00000000971.11 |\n",
       "| 4 | ENSG00000001167.10 |\n",
       "| 5 | ENSG00000001460.13 |\n",
       "| 6 | ENSG00000001461.12 |\n",
       "\n"
      ],
      "text/plain": [
       "  gene              \n",
       "1 ENSG00000000457.9 \n",
       "2 ENSG00000000460.12\n",
       "3 ENSG00000000971.11\n",
       "4 ENSG00000001167.10\n",
       "5 ENSG00000001460.13\n",
       "6 ENSG00000001461.12"
      ]
     },
     "metadata": {},
     "output_type": "display_data"
    }
   ],
   "source": [
    "head(gene_list[[1]])"
   ]
  },
  {
   "cell_type": "code",
   "execution_count": 8,
   "metadata": {},
   "outputs": [
    {
     "data": {
      "text/html": [
       "25851"
      ],
      "text/latex": [
       "25851"
      ],
      "text/markdown": [
       "25851"
      ],
      "text/plain": [
       "[1] 25851"
      ]
     },
     "metadata": {},
     "output_type": "display_data"
    }
   ],
   "source": [
    "gene_set <- unique(unlist(gene_list))\n",
    "length(gene_set)"
   ]
  },
  {
   "cell_type": "code",
   "execution_count": 9,
   "metadata": {},
   "outputs": [],
   "source": [
    "# preprocess\n",
    "gene_set_clean <- as.character(sapply(gene_set, \n",
    "                                function(x) \n",
    "                                unlist(stringr::str_split(x, pattern = \"\\\\.\"))[1]))\n",
    "                      "
   ]
  },
  {
   "cell_type": "code",
   "execution_count": 10,
   "metadata": {},
   "outputs": [],
   "source": [
    "# grch37 \n",
    "suppressPackageStartupMessages(library(biomaRt))\n",
    "#grch37 = useMart(biomart=\"ENSEMBL_MART_ENSEMBL\", host=\"grch37.ensembl.org\", path=\"/biomart/martservice\", dataset=\"hsapiens_gene_ensembl\")\n",
    "us_mart <- useEnsembl(biomart = \"ensembl\", mirror = \"uswest\", dataset=\"hsapiens_gene_ensembl\")\n",
    "#grch37 = useMart(biomart=\"ensembl\", mirror = \"uswest\", dataset=\"hsapiens_gene_ensembl\")\n",
    "\n",
    "\n",
    "gene_info = getBM(filters= \"ensembl_gene_id\", \n",
    "                  attributes= c(\"ensembl_gene_id\",'hgnc_symbol','chromosome_name',\"transcript_biotype\"), \n",
    "                  values= gene_set_clean, \n",
    "                  #mart= grch37)\n",
    "                   mart= us_mart)"
   ]
  },
  {
   "cell_type": "code",
   "execution_count": 11,
   "metadata": {},
   "outputs": [
    {
     "data": {
      "text/html": [
       "<style>\n",
       ".list-inline {list-style: none; margin:0; padding: 0}\n",
       ".list-inline>li {display: inline-block}\n",
       ".list-inline>li:not(:last-child)::after {content: \"\\00b7\"; padding: 0 .5ex}\n",
       "</style>\n",
       "<ol class=list-inline><li>50484</li><li>4</li></ol>\n"
      ],
      "text/latex": [
       "\\begin{enumerate*}\n",
       "\\item 50484\n",
       "\\item 4\n",
       "\\end{enumerate*}\n"
      ],
      "text/markdown": [
       "1. 50484\n",
       "2. 4\n",
       "\n",
       "\n"
      ],
      "text/plain": [
       "[1] 50484     4"
      ]
     },
     "metadata": {},
     "output_type": "display_data"
    },
    {
     "data": {
      "text/html": [
       "<table>\n",
       "<caption>A data.frame: 6 × 4</caption>\n",
       "<thead>\n",
       "\t<tr><th></th><th scope=col>ensembl_gene_id</th><th scope=col>hgnc_symbol</th><th scope=col>chromosome_name</th><th scope=col>transcript_biotype</th></tr>\n",
       "\t<tr><th></th><th scope=col>&lt;chr&gt;</th><th scope=col>&lt;chr&gt;</th><th scope=col>&lt;chr&gt;</th><th scope=col>&lt;chr&gt;</th></tr>\n",
       "</thead>\n",
       "<tbody>\n",
       "\t<tr><th scope=row>1</th><td>ENSG00000000457</td><td>SCYL3   </td><td>1</td><td>protein_coding         </td></tr>\n",
       "\t<tr><th scope=row>2</th><td>ENSG00000000457</td><td>SCYL3   </td><td>1</td><td>processed_transcript   </td></tr>\n",
       "\t<tr><th scope=row>3</th><td>ENSG00000000460</td><td>C1orf112</td><td>1</td><td>processed_transcript   </td></tr>\n",
       "\t<tr><th scope=row>4</th><td>ENSG00000000460</td><td>C1orf112</td><td>1</td><td>protein_coding         </td></tr>\n",
       "\t<tr><th scope=row>5</th><td>ENSG00000000460</td><td>C1orf112</td><td>1</td><td>nonsense_mediated_decay</td></tr>\n",
       "\t<tr><th scope=row>6</th><td>ENSG00000000971</td><td>CFH     </td><td>1</td><td>protein_coding         </td></tr>\n",
       "</tbody>\n",
       "</table>\n"
      ],
      "text/latex": [
       "A data.frame: 6 × 4\n",
       "\\begin{tabular}{r|llll}\n",
       "  & ensembl\\_gene\\_id & hgnc\\_symbol & chromosome\\_name & transcript\\_biotype\\\\\n",
       "  & <chr> & <chr> & <chr> & <chr>\\\\\n",
       "\\hline\n",
       "\t1 & ENSG00000000457 & SCYL3    & 1 & protein\\_coding         \\\\\n",
       "\t2 & ENSG00000000457 & SCYL3    & 1 & processed\\_transcript   \\\\\n",
       "\t3 & ENSG00000000460 & C1orf112 & 1 & processed\\_transcript   \\\\\n",
       "\t4 & ENSG00000000460 & C1orf112 & 1 & protein\\_coding         \\\\\n",
       "\t5 & ENSG00000000460 & C1orf112 & 1 & nonsense\\_mediated\\_decay\\\\\n",
       "\t6 & ENSG00000000971 & CFH      & 1 & protein\\_coding         \\\\\n",
       "\\end{tabular}\n"
      ],
      "text/markdown": [
       "\n",
       "A data.frame: 6 × 4\n",
       "\n",
       "| <!--/--> | ensembl_gene_id &lt;chr&gt; | hgnc_symbol &lt;chr&gt; | chromosome_name &lt;chr&gt; | transcript_biotype &lt;chr&gt; |\n",
       "|---|---|---|---|---|\n",
       "| 1 | ENSG00000000457 | SCYL3    | 1 | protein_coding          |\n",
       "| 2 | ENSG00000000457 | SCYL3    | 1 | processed_transcript    |\n",
       "| 3 | ENSG00000000460 | C1orf112 | 1 | processed_transcript    |\n",
       "| 4 | ENSG00000000460 | C1orf112 | 1 | protein_coding          |\n",
       "| 5 | ENSG00000000460 | C1orf112 | 1 | nonsense_mediated_decay |\n",
       "| 6 | ENSG00000000971 | CFH      | 1 | protein_coding          |\n",
       "\n"
      ],
      "text/plain": [
       "  ensembl_gene_id hgnc_symbol chromosome_name transcript_biotype     \n",
       "1 ENSG00000000457 SCYL3       1               protein_coding         \n",
       "2 ENSG00000000457 SCYL3       1               processed_transcript   \n",
       "3 ENSG00000000460 C1orf112    1               processed_transcript   \n",
       "4 ENSG00000000460 C1orf112    1               protein_coding         \n",
       "5 ENSG00000000460 C1orf112    1               nonsense_mediated_decay\n",
       "6 ENSG00000000971 CFH         1               protein_coding         "
      ]
     },
     "metadata": {},
     "output_type": "display_data"
    }
   ],
   "source": [
    "dim(gene_info)\n",
    "head(gene_info)"
   ]
  },
  {
   "cell_type": "code",
   "execution_count": 12,
   "metadata": {},
   "outputs": [
    {
     "data": {
      "text/plain": [
       "\n",
       "                         IG_V_gene                             lncRNA \n",
       "                                 1                               3917 \n",
       "                          misc_RNA                     non_stop_decay \n",
       "                                 6                                 77 \n",
       "           nonsense_mediated_decay             polymorphic_pseudogene \n",
       "                              6472                                 20 \n",
       "              processed_pseudogene               processed_transcript \n",
       "                              2789                              10035 \n",
       "                    protein_coding                         pseudogene \n",
       "                             16686                                  5 \n",
       "                   retained_intron                              scRNA \n",
       "                              8894                                  1 \n",
       "                            snoRNA                                TEC \n",
       "                                 5                                 56 \n",
       "  transcribed_processed_pseudogene     transcribed_unitary_pseudogene \n",
       "                               276                                 80 \n",
       "transcribed_unprocessed_pseudogene                 unitary_pseudogene \n",
       "                               564                                 28 \n",
       "            unprocessed_pseudogene \n",
       "                               572 "
      ]
     },
     "metadata": {},
     "output_type": "display_data"
    }
   ],
   "source": [
    "table(gene_info$transcript_biotype)"
   ]
  },
  {
   "cell_type": "code",
   "execution_count": 13,
   "metadata": {},
   "outputs": [],
   "source": [
    "lnc_info <- gene_info %>% filter(transcript_biotype == \"lncRNA\")"
   ]
  },
  {
   "cell_type": "code",
   "execution_count": 14,
   "metadata": {},
   "outputs": [
    {
     "data": {
      "text/html": [
       "<style>\n",
       ".list-inline {list-style: none; margin:0; padding: 0}\n",
       ".list-inline>li {display: inline-block}\n",
       ".list-inline>li:not(:last-child)::after {content: \"\\00b7\"; padding: 0 .5ex}\n",
       "</style>\n",
       "<ol class=list-inline><li>3917</li><li>4</li></ol>\n"
      ],
      "text/latex": [
       "\\begin{enumerate*}\n",
       "\\item 3917\n",
       "\\item 4\n",
       "\\end{enumerate*}\n"
      ],
      "text/markdown": [
       "1. 3917\n",
       "2. 4\n",
       "\n",
       "\n"
      ],
      "text/plain": [
       "[1] 3917    4"
      ]
     },
     "metadata": {},
     "output_type": "display_data"
    },
    {
     "data": {
      "text/html": [
       "<table>\n",
       "<caption>A data.frame: 6 × 4</caption>\n",
       "<thead>\n",
       "\t<tr><th></th><th scope=col>ensembl_gene_id</th><th scope=col>hgnc_symbol</th><th scope=col>chromosome_name</th><th scope=col>transcript_biotype</th></tr>\n",
       "\t<tr><th></th><th scope=col>&lt;chr&gt;</th><th scope=col>&lt;chr&gt;</th><th scope=col>&lt;chr&gt;</th><th scope=col>&lt;chr&gt;</th></tr>\n",
       "</thead>\n",
       "<tbody>\n",
       "\t<tr><th scope=row>1</th><td>ENSG00000103472</td><td>RRN3P2     </td><td>16</td><td>lncRNA</td></tr>\n",
       "\t<tr><th scope=row>2</th><td>ENSG00000122548</td><td>KIAA0087   </td><td>7 </td><td>lncRNA</td></tr>\n",
       "\t<tr><th scope=row>3</th><td>ENSG00000164385</td><td>LINC01600  </td><td>6 </td><td>lncRNA</td></tr>\n",
       "\t<tr><th scope=row>4</th><td>ENSG00000165511</td><td>C10orf25   </td><td>10</td><td>lncRNA</td></tr>\n",
       "\t<tr><th scope=row>5</th><td>ENSG00000167920</td><td>TMEM99     </td><td>17</td><td>lncRNA</td></tr>\n",
       "\t<tr><th scope=row>6</th><td>ENSG00000172965</td><td>MIR4435-2HG</td><td>2 </td><td>lncRNA</td></tr>\n",
       "</tbody>\n",
       "</table>\n"
      ],
      "text/latex": [
       "A data.frame: 6 × 4\n",
       "\\begin{tabular}{r|llll}\n",
       "  & ensembl\\_gene\\_id & hgnc\\_symbol & chromosome\\_name & transcript\\_biotype\\\\\n",
       "  & <chr> & <chr> & <chr> & <chr>\\\\\n",
       "\\hline\n",
       "\t1 & ENSG00000103472 & RRN3P2      & 16 & lncRNA\\\\\n",
       "\t2 & ENSG00000122548 & KIAA0087    & 7  & lncRNA\\\\\n",
       "\t3 & ENSG00000164385 & LINC01600   & 6  & lncRNA\\\\\n",
       "\t4 & ENSG00000165511 & C10orf25    & 10 & lncRNA\\\\\n",
       "\t5 & ENSG00000167920 & TMEM99      & 17 & lncRNA\\\\\n",
       "\t6 & ENSG00000172965 & MIR4435-2HG & 2  & lncRNA\\\\\n",
       "\\end{tabular}\n"
      ],
      "text/markdown": [
       "\n",
       "A data.frame: 6 × 4\n",
       "\n",
       "| <!--/--> | ensembl_gene_id &lt;chr&gt; | hgnc_symbol &lt;chr&gt; | chromosome_name &lt;chr&gt; | transcript_biotype &lt;chr&gt; |\n",
       "|---|---|---|---|---|\n",
       "| 1 | ENSG00000103472 | RRN3P2      | 16 | lncRNA |\n",
       "| 2 | ENSG00000122548 | KIAA0087    | 7  | lncRNA |\n",
       "| 3 | ENSG00000164385 | LINC01600   | 6  | lncRNA |\n",
       "| 4 | ENSG00000165511 | C10orf25    | 10 | lncRNA |\n",
       "| 5 | ENSG00000167920 | TMEM99      | 17 | lncRNA |\n",
       "| 6 | ENSG00000172965 | MIR4435-2HG | 2  | lncRNA |\n",
       "\n"
      ],
      "text/plain": [
       "  ensembl_gene_id hgnc_symbol chromosome_name transcript_biotype\n",
       "1 ENSG00000103472 RRN3P2      16              lncRNA            \n",
       "2 ENSG00000122548 KIAA0087    7               lncRNA            \n",
       "3 ENSG00000164385 LINC01600   6               lncRNA            \n",
       "4 ENSG00000165511 C10orf25    10              lncRNA            \n",
       "5 ENSG00000167920 TMEM99      17              lncRNA            \n",
       "6 ENSG00000172965 MIR4435-2HG 2               lncRNA            "
      ]
     },
     "metadata": {},
     "output_type": "display_data"
    }
   ],
   "source": [
    "dim(lnc_info)\n",
    "head(lnc_info)"
   ]
  },
  {
   "cell_type": "code",
   "execution_count": 15,
   "metadata": {},
   "outputs": [
    {
     "data": {
      "text/html": [
       "1161"
      ],
      "text/latex": [
       "1161"
      ],
      "text/markdown": [
       "1161"
      ],
      "text/plain": [
       "[1] 1161"
      ]
     },
     "metadata": {},
     "output_type": "display_data"
    }
   ],
   "source": [
    "sum(startsWith(lnc_info$hgnc_symbol, \"LINC\"))"
   ]
  },
  {
   "cell_type": "code",
   "execution_count": 16,
   "metadata": {},
   "outputs": [],
   "source": [
    "### check the weight directions\n"
   ]
  },
  {
   "cell_type": "code",
   "execution_count": 17,
   "metadata": {},
   "outputs": [
    {
     "data": {
      "text/html": [
       "<style>\n",
       ".list-inline {list-style: none; margin:0; padding: 0}\n",
       ".list-inline>li {display: inline-block}\n",
       ".list-inline>li:not(:last-child)::after {content: \"\\00b7\"; padding: 0 .5ex}\n",
       "</style>\n",
       "<ol class=list-inline><li>'gtex_v7_Adipose_Subcutaneous_imputed_europeans_tw_0.5_signif.db'</li><li>'gtex_v7_Adipose_Visceral_Omentum_imputed_europeans_tw_0.5_signif.db'</li><li>'gtex_v7_Adrenal_Gland_imputed_europeans_tw_0.5_signif.db'</li><li>'gtex_v7_Artery_Aorta_imputed_europeans_tw_0.5_signif.db'</li><li>'gtex_v7_Artery_Coronary_imputed_europeans_tw_0.5_signif.db'</li><li>'gtex_v7_Artery_Tibial_imputed_europeans_tw_0.5_signif.db'</li><li>'gtex_v7_Brain_Amygdala_imputed_europeans_tw_0.5_signif.db'</li><li>'gtex_v7_Brain_Anterior_cingulate_cortex_BA24_imputed_europeans_tw_0.5_signif.db'</li><li>'gtex_v7_Brain_Caudate_basal_ganglia_imputed_europeans_tw_0.5_signif.db'</li><li>'gtex_v7_Brain_Cerebellar_Hemisphere_imputed_europeans_tw_0.5_signif.db'</li><li>'gtex_v7_Brain_Cerebellum_imputed_europeans_tw_0.5_signif.db'</li><li>'gtex_v7_Brain_Cortex_imputed_europeans_tw_0.5_signif.db'</li><li>'gtex_v7_Brain_Frontal_Cortex_BA9_imputed_europeans_tw_0.5_signif.db'</li><li>'gtex_v7_Brain_Hippocampus_imputed_europeans_tw_0.5_signif.db'</li><li>'gtex_v7_Brain_Hypothalamus_imputed_europeans_tw_0.5_signif.db'</li><li>'gtex_v7_Brain_Nucleus_accumbens_basal_ganglia_imputed_europeans_tw_0.5_signif.db'</li><li>'gtex_v7_Brain_Putamen_basal_ganglia_imputed_europeans_tw_0.5_signif.db'</li><li>'gtex_v7_Brain_Spinal_cord_cervical_c-1_imputed_europeans_tw_0.5_signif.db'</li><li>'gtex_v7_Brain_Substantia_nigra_imputed_europeans_tw_0.5_signif.db'</li><li>'gtex_v7_Breast_Mammary_Tissue_imputed_europeans_tw_0.5_signif.db'</li><li>'gtex_v7_Cells_EBV-transformed_lymphocytes_imputed_europeans_tw_0.5_signif.db'</li><li>'gtex_v7_Cells_Transformed_fibroblasts_imputed_europeans_tw_0.5_signif.db'</li><li>'gtex_v7_Colon_Sigmoid_imputed_europeans_tw_0.5_signif.db'</li><li>'gtex_v7_Colon_Transverse_imputed_europeans_tw_0.5_signif.db'</li><li>'gtex_v7_Esophagus_Gastroesophageal_Junction_imputed_europeans_tw_0.5_signif.db'</li><li>'gtex_v7_Esophagus_Mucosa_imputed_europeans_tw_0.5_signif.db'</li><li>'gtex_v7_Esophagus_Muscularis_imputed_europeans_tw_0.5_signif.db'</li><li>'gtex_v7_Heart_Atrial_Appendage_imputed_europeans_tw_0.5_signif.db'</li><li>'gtex_v7_Heart_Left_Ventricle_imputed_europeans_tw_0.5_signif.db'</li><li>'gtex_v7_Liver_imputed_europeans_tw_0.5_signif.db'</li><li>'gtex_v7_Lung_imputed_europeans_tw_0.5_signif.db'</li><li>'gtex_v7_Minor_Salivary_Gland_imputed_europeans_tw_0.5_signif.db'</li><li>'gtex_v7_Muscle_Skeletal_imputed_europeans_tw_0.5_signif.db'</li><li>'gtex_v7_Nerve_Tibial_imputed_europeans_tw_0.5_signif.db'</li><li>'gtex_v7_Ovary_imputed_europeans_tw_0.5_signif.db'</li><li>'gtex_v7_Pancreas_imputed_europeans_tw_0.5_signif.db'</li><li>'gtex_v7_Pituitary_imputed_europeans_tw_0.5_signif.db'</li><li>'gtex_v7_Prostate_imputed_europeans_tw_0.5_signif.db'</li><li>'gtex_v7_Skin_Not_Sun_Exposed_Suprapubic_imputed_europeans_tw_0.5_signif.db'</li><li>'gtex_v7_Skin_Sun_Exposed_Lower_leg_imputed_europeans_tw_0.5_signif.db'</li><li>'gtex_v7_Small_Intestine_Terminal_Ileum_imputed_europeans_tw_0.5_signif.db'</li><li>'gtex_v7_Spleen_imputed_europeans_tw_0.5_signif.db'</li><li>'gtex_v7_Stomach_imputed_europeans_tw_0.5_signif.db'</li><li>'gtex_v7_Testis_imputed_europeans_tw_0.5_signif.db'</li><li>'gtex_v7_Thyroid_imputed_europeans_tw_0.5_signif.db'</li><li>'gtex_v7_Uterus_imputed_europeans_tw_0.5_signif.db'</li><li>'gtex_v7_Vagina_imputed_europeans_tw_0.5_signif.db'</li><li>'gtex_v7_Whole_Blood_imputed_europeans_tw_0.5_signif.db'</li></ol>\n"
      ],
      "text/latex": [
       "\\begin{enumerate*}\n",
       "\\item 'gtex\\_v7\\_Adipose\\_Subcutaneous\\_imputed\\_europeans\\_tw\\_0.5\\_signif.db'\n",
       "\\item 'gtex\\_v7\\_Adipose\\_Visceral\\_Omentum\\_imputed\\_europeans\\_tw\\_0.5\\_signif.db'\n",
       "\\item 'gtex\\_v7\\_Adrenal\\_Gland\\_imputed\\_europeans\\_tw\\_0.5\\_signif.db'\n",
       "\\item 'gtex\\_v7\\_Artery\\_Aorta\\_imputed\\_europeans\\_tw\\_0.5\\_signif.db'\n",
       "\\item 'gtex\\_v7\\_Artery\\_Coronary\\_imputed\\_europeans\\_tw\\_0.5\\_signif.db'\n",
       "\\item 'gtex\\_v7\\_Artery\\_Tibial\\_imputed\\_europeans\\_tw\\_0.5\\_signif.db'\n",
       "\\item 'gtex\\_v7\\_Brain\\_Amygdala\\_imputed\\_europeans\\_tw\\_0.5\\_signif.db'\n",
       "\\item 'gtex\\_v7\\_Brain\\_Anterior\\_cingulate\\_cortex\\_BA24\\_imputed\\_europeans\\_tw\\_0.5\\_signif.db'\n",
       "\\item 'gtex\\_v7\\_Brain\\_Caudate\\_basal\\_ganglia\\_imputed\\_europeans\\_tw\\_0.5\\_signif.db'\n",
       "\\item 'gtex\\_v7\\_Brain\\_Cerebellar\\_Hemisphere\\_imputed\\_europeans\\_tw\\_0.5\\_signif.db'\n",
       "\\item 'gtex\\_v7\\_Brain\\_Cerebellum\\_imputed\\_europeans\\_tw\\_0.5\\_signif.db'\n",
       "\\item 'gtex\\_v7\\_Brain\\_Cortex\\_imputed\\_europeans\\_tw\\_0.5\\_signif.db'\n",
       "\\item 'gtex\\_v7\\_Brain\\_Frontal\\_Cortex\\_BA9\\_imputed\\_europeans\\_tw\\_0.5\\_signif.db'\n",
       "\\item 'gtex\\_v7\\_Brain\\_Hippocampus\\_imputed\\_europeans\\_tw\\_0.5\\_signif.db'\n",
       "\\item 'gtex\\_v7\\_Brain\\_Hypothalamus\\_imputed\\_europeans\\_tw\\_0.5\\_signif.db'\n",
       "\\item 'gtex\\_v7\\_Brain\\_Nucleus\\_accumbens\\_basal\\_ganglia\\_imputed\\_europeans\\_tw\\_0.5\\_signif.db'\n",
       "\\item 'gtex\\_v7\\_Brain\\_Putamen\\_basal\\_ganglia\\_imputed\\_europeans\\_tw\\_0.5\\_signif.db'\n",
       "\\item 'gtex\\_v7\\_Brain\\_Spinal\\_cord\\_cervical\\_c-1\\_imputed\\_europeans\\_tw\\_0.5\\_signif.db'\n",
       "\\item 'gtex\\_v7\\_Brain\\_Substantia\\_nigra\\_imputed\\_europeans\\_tw\\_0.5\\_signif.db'\n",
       "\\item 'gtex\\_v7\\_Breast\\_Mammary\\_Tissue\\_imputed\\_europeans\\_tw\\_0.5\\_signif.db'\n",
       "\\item 'gtex\\_v7\\_Cells\\_EBV-transformed\\_lymphocytes\\_imputed\\_europeans\\_tw\\_0.5\\_signif.db'\n",
       "\\item 'gtex\\_v7\\_Cells\\_Transformed\\_fibroblasts\\_imputed\\_europeans\\_tw\\_0.5\\_signif.db'\n",
       "\\item 'gtex\\_v7\\_Colon\\_Sigmoid\\_imputed\\_europeans\\_tw\\_0.5\\_signif.db'\n",
       "\\item 'gtex\\_v7\\_Colon\\_Transverse\\_imputed\\_europeans\\_tw\\_0.5\\_signif.db'\n",
       "\\item 'gtex\\_v7\\_Esophagus\\_Gastroesophageal\\_Junction\\_imputed\\_europeans\\_tw\\_0.5\\_signif.db'\n",
       "\\item 'gtex\\_v7\\_Esophagus\\_Mucosa\\_imputed\\_europeans\\_tw\\_0.5\\_signif.db'\n",
       "\\item 'gtex\\_v7\\_Esophagus\\_Muscularis\\_imputed\\_europeans\\_tw\\_0.5\\_signif.db'\n",
       "\\item 'gtex\\_v7\\_Heart\\_Atrial\\_Appendage\\_imputed\\_europeans\\_tw\\_0.5\\_signif.db'\n",
       "\\item 'gtex\\_v7\\_Heart\\_Left\\_Ventricle\\_imputed\\_europeans\\_tw\\_0.5\\_signif.db'\n",
       "\\item 'gtex\\_v7\\_Liver\\_imputed\\_europeans\\_tw\\_0.5\\_signif.db'\n",
       "\\item 'gtex\\_v7\\_Lung\\_imputed\\_europeans\\_tw\\_0.5\\_signif.db'\n",
       "\\item 'gtex\\_v7\\_Minor\\_Salivary\\_Gland\\_imputed\\_europeans\\_tw\\_0.5\\_signif.db'\n",
       "\\item 'gtex\\_v7\\_Muscle\\_Skeletal\\_imputed\\_europeans\\_tw\\_0.5\\_signif.db'\n",
       "\\item 'gtex\\_v7\\_Nerve\\_Tibial\\_imputed\\_europeans\\_tw\\_0.5\\_signif.db'\n",
       "\\item 'gtex\\_v7\\_Ovary\\_imputed\\_europeans\\_tw\\_0.5\\_signif.db'\n",
       "\\item 'gtex\\_v7\\_Pancreas\\_imputed\\_europeans\\_tw\\_0.5\\_signif.db'\n",
       "\\item 'gtex\\_v7\\_Pituitary\\_imputed\\_europeans\\_tw\\_0.5\\_signif.db'\n",
       "\\item 'gtex\\_v7\\_Prostate\\_imputed\\_europeans\\_tw\\_0.5\\_signif.db'\n",
       "\\item 'gtex\\_v7\\_Skin\\_Not\\_Sun\\_Exposed\\_Suprapubic\\_imputed\\_europeans\\_tw\\_0.5\\_signif.db'\n",
       "\\item 'gtex\\_v7\\_Skin\\_Sun\\_Exposed\\_Lower\\_leg\\_imputed\\_europeans\\_tw\\_0.5\\_signif.db'\n",
       "\\item 'gtex\\_v7\\_Small\\_Intestine\\_Terminal\\_Ileum\\_imputed\\_europeans\\_tw\\_0.5\\_signif.db'\n",
       "\\item 'gtex\\_v7\\_Spleen\\_imputed\\_europeans\\_tw\\_0.5\\_signif.db'\n",
       "\\item 'gtex\\_v7\\_Stomach\\_imputed\\_europeans\\_tw\\_0.5\\_signif.db'\n",
       "\\item 'gtex\\_v7\\_Testis\\_imputed\\_europeans\\_tw\\_0.5\\_signif.db'\n",
       "\\item 'gtex\\_v7\\_Thyroid\\_imputed\\_europeans\\_tw\\_0.5\\_signif.db'\n",
       "\\item 'gtex\\_v7\\_Uterus\\_imputed\\_europeans\\_tw\\_0.5\\_signif.db'\n",
       "\\item 'gtex\\_v7\\_Vagina\\_imputed\\_europeans\\_tw\\_0.5\\_signif.db'\n",
       "\\item 'gtex\\_v7\\_Whole\\_Blood\\_imputed\\_europeans\\_tw\\_0.5\\_signif.db'\n",
       "\\end{enumerate*}\n"
      ],
      "text/markdown": [
       "1. 'gtex_v7_Adipose_Subcutaneous_imputed_europeans_tw_0.5_signif.db'\n",
       "2. 'gtex_v7_Adipose_Visceral_Omentum_imputed_europeans_tw_0.5_signif.db'\n",
       "3. 'gtex_v7_Adrenal_Gland_imputed_europeans_tw_0.5_signif.db'\n",
       "4. 'gtex_v7_Artery_Aorta_imputed_europeans_tw_0.5_signif.db'\n",
       "5. 'gtex_v7_Artery_Coronary_imputed_europeans_tw_0.5_signif.db'\n",
       "6. 'gtex_v7_Artery_Tibial_imputed_europeans_tw_0.5_signif.db'\n",
       "7. 'gtex_v7_Brain_Amygdala_imputed_europeans_tw_0.5_signif.db'\n",
       "8. 'gtex_v7_Brain_Anterior_cingulate_cortex_BA24_imputed_europeans_tw_0.5_signif.db'\n",
       "9. 'gtex_v7_Brain_Caudate_basal_ganglia_imputed_europeans_tw_0.5_signif.db'\n",
       "10. 'gtex_v7_Brain_Cerebellar_Hemisphere_imputed_europeans_tw_0.5_signif.db'\n",
       "11. 'gtex_v7_Brain_Cerebellum_imputed_europeans_tw_0.5_signif.db'\n",
       "12. 'gtex_v7_Brain_Cortex_imputed_europeans_tw_0.5_signif.db'\n",
       "13. 'gtex_v7_Brain_Frontal_Cortex_BA9_imputed_europeans_tw_0.5_signif.db'\n",
       "14. 'gtex_v7_Brain_Hippocampus_imputed_europeans_tw_0.5_signif.db'\n",
       "15. 'gtex_v7_Brain_Hypothalamus_imputed_europeans_tw_0.5_signif.db'\n",
       "16. 'gtex_v7_Brain_Nucleus_accumbens_basal_ganglia_imputed_europeans_tw_0.5_signif.db'\n",
       "17. 'gtex_v7_Brain_Putamen_basal_ganglia_imputed_europeans_tw_0.5_signif.db'\n",
       "18. 'gtex_v7_Brain_Spinal_cord_cervical_c-1_imputed_europeans_tw_0.5_signif.db'\n",
       "19. 'gtex_v7_Brain_Substantia_nigra_imputed_europeans_tw_0.5_signif.db'\n",
       "20. 'gtex_v7_Breast_Mammary_Tissue_imputed_europeans_tw_0.5_signif.db'\n",
       "21. 'gtex_v7_Cells_EBV-transformed_lymphocytes_imputed_europeans_tw_0.5_signif.db'\n",
       "22. 'gtex_v7_Cells_Transformed_fibroblasts_imputed_europeans_tw_0.5_signif.db'\n",
       "23. 'gtex_v7_Colon_Sigmoid_imputed_europeans_tw_0.5_signif.db'\n",
       "24. 'gtex_v7_Colon_Transverse_imputed_europeans_tw_0.5_signif.db'\n",
       "25. 'gtex_v7_Esophagus_Gastroesophageal_Junction_imputed_europeans_tw_0.5_signif.db'\n",
       "26. 'gtex_v7_Esophagus_Mucosa_imputed_europeans_tw_0.5_signif.db'\n",
       "27. 'gtex_v7_Esophagus_Muscularis_imputed_europeans_tw_0.5_signif.db'\n",
       "28. 'gtex_v7_Heart_Atrial_Appendage_imputed_europeans_tw_0.5_signif.db'\n",
       "29. 'gtex_v7_Heart_Left_Ventricle_imputed_europeans_tw_0.5_signif.db'\n",
       "30. 'gtex_v7_Liver_imputed_europeans_tw_0.5_signif.db'\n",
       "31. 'gtex_v7_Lung_imputed_europeans_tw_0.5_signif.db'\n",
       "32. 'gtex_v7_Minor_Salivary_Gland_imputed_europeans_tw_0.5_signif.db'\n",
       "33. 'gtex_v7_Muscle_Skeletal_imputed_europeans_tw_0.5_signif.db'\n",
       "34. 'gtex_v7_Nerve_Tibial_imputed_europeans_tw_0.5_signif.db'\n",
       "35. 'gtex_v7_Ovary_imputed_europeans_tw_0.5_signif.db'\n",
       "36. 'gtex_v7_Pancreas_imputed_europeans_tw_0.5_signif.db'\n",
       "37. 'gtex_v7_Pituitary_imputed_europeans_tw_0.5_signif.db'\n",
       "38. 'gtex_v7_Prostate_imputed_europeans_tw_0.5_signif.db'\n",
       "39. 'gtex_v7_Skin_Not_Sun_Exposed_Suprapubic_imputed_europeans_tw_0.5_signif.db'\n",
       "40. 'gtex_v7_Skin_Sun_Exposed_Lower_leg_imputed_europeans_tw_0.5_signif.db'\n",
       "41. 'gtex_v7_Small_Intestine_Terminal_Ileum_imputed_europeans_tw_0.5_signif.db'\n",
       "42. 'gtex_v7_Spleen_imputed_europeans_tw_0.5_signif.db'\n",
       "43. 'gtex_v7_Stomach_imputed_europeans_tw_0.5_signif.db'\n",
       "44. 'gtex_v7_Testis_imputed_europeans_tw_0.5_signif.db'\n",
       "45. 'gtex_v7_Thyroid_imputed_europeans_tw_0.5_signif.db'\n",
       "46. 'gtex_v7_Uterus_imputed_europeans_tw_0.5_signif.db'\n",
       "47. 'gtex_v7_Vagina_imputed_europeans_tw_0.5_signif.db'\n",
       "48. 'gtex_v7_Whole_Blood_imputed_europeans_tw_0.5_signif.db'\n",
       "\n",
       "\n"
      ],
      "text/plain": [
       " [1] \"gtex_v7_Adipose_Subcutaneous_imputed_europeans_tw_0.5_signif.db\"                 \n",
       " [2] \"gtex_v7_Adipose_Visceral_Omentum_imputed_europeans_tw_0.5_signif.db\"             \n",
       " [3] \"gtex_v7_Adrenal_Gland_imputed_europeans_tw_0.5_signif.db\"                        \n",
       " [4] \"gtex_v7_Artery_Aorta_imputed_europeans_tw_0.5_signif.db\"                         \n",
       " [5] \"gtex_v7_Artery_Coronary_imputed_europeans_tw_0.5_signif.db\"                      \n",
       " [6] \"gtex_v7_Artery_Tibial_imputed_europeans_tw_0.5_signif.db\"                        \n",
       " [7] \"gtex_v7_Brain_Amygdala_imputed_europeans_tw_0.5_signif.db\"                       \n",
       " [8] \"gtex_v7_Brain_Anterior_cingulate_cortex_BA24_imputed_europeans_tw_0.5_signif.db\" \n",
       " [9] \"gtex_v7_Brain_Caudate_basal_ganglia_imputed_europeans_tw_0.5_signif.db\"          \n",
       "[10] \"gtex_v7_Brain_Cerebellar_Hemisphere_imputed_europeans_tw_0.5_signif.db\"          \n",
       "[11] \"gtex_v7_Brain_Cerebellum_imputed_europeans_tw_0.5_signif.db\"                     \n",
       "[12] \"gtex_v7_Brain_Cortex_imputed_europeans_tw_0.5_signif.db\"                         \n",
       "[13] \"gtex_v7_Brain_Frontal_Cortex_BA9_imputed_europeans_tw_0.5_signif.db\"             \n",
       "[14] \"gtex_v7_Brain_Hippocampus_imputed_europeans_tw_0.5_signif.db\"                    \n",
       "[15] \"gtex_v7_Brain_Hypothalamus_imputed_europeans_tw_0.5_signif.db\"                   \n",
       "[16] \"gtex_v7_Brain_Nucleus_accumbens_basal_ganglia_imputed_europeans_tw_0.5_signif.db\"\n",
       "[17] \"gtex_v7_Brain_Putamen_basal_ganglia_imputed_europeans_tw_0.5_signif.db\"          \n",
       "[18] \"gtex_v7_Brain_Spinal_cord_cervical_c-1_imputed_europeans_tw_0.5_signif.db\"       \n",
       "[19] \"gtex_v7_Brain_Substantia_nigra_imputed_europeans_tw_0.5_signif.db\"               \n",
       "[20] \"gtex_v7_Breast_Mammary_Tissue_imputed_europeans_tw_0.5_signif.db\"                \n",
       "[21] \"gtex_v7_Cells_EBV-transformed_lymphocytes_imputed_europeans_tw_0.5_signif.db\"    \n",
       "[22] \"gtex_v7_Cells_Transformed_fibroblasts_imputed_europeans_tw_0.5_signif.db\"        \n",
       "[23] \"gtex_v7_Colon_Sigmoid_imputed_europeans_tw_0.5_signif.db\"                        \n",
       "[24] \"gtex_v7_Colon_Transverse_imputed_europeans_tw_0.5_signif.db\"                     \n",
       "[25] \"gtex_v7_Esophagus_Gastroesophageal_Junction_imputed_europeans_tw_0.5_signif.db\"  \n",
       "[26] \"gtex_v7_Esophagus_Mucosa_imputed_europeans_tw_0.5_signif.db\"                     \n",
       "[27] \"gtex_v7_Esophagus_Muscularis_imputed_europeans_tw_0.5_signif.db\"                 \n",
       "[28] \"gtex_v7_Heart_Atrial_Appendage_imputed_europeans_tw_0.5_signif.db\"               \n",
       "[29] \"gtex_v7_Heart_Left_Ventricle_imputed_europeans_tw_0.5_signif.db\"                 \n",
       "[30] \"gtex_v7_Liver_imputed_europeans_tw_0.5_signif.db\"                                \n",
       "[31] \"gtex_v7_Lung_imputed_europeans_tw_0.5_signif.db\"                                 \n",
       "[32] \"gtex_v7_Minor_Salivary_Gland_imputed_europeans_tw_0.5_signif.db\"                 \n",
       "[33] \"gtex_v7_Muscle_Skeletal_imputed_europeans_tw_0.5_signif.db\"                      \n",
       "[34] \"gtex_v7_Nerve_Tibial_imputed_europeans_tw_0.5_signif.db\"                         \n",
       "[35] \"gtex_v7_Ovary_imputed_europeans_tw_0.5_signif.db\"                                \n",
       "[36] \"gtex_v7_Pancreas_imputed_europeans_tw_0.5_signif.db\"                             \n",
       "[37] \"gtex_v7_Pituitary_imputed_europeans_tw_0.5_signif.db\"                            \n",
       "[38] \"gtex_v7_Prostate_imputed_europeans_tw_0.5_signif.db\"                             \n",
       "[39] \"gtex_v7_Skin_Not_Sun_Exposed_Suprapubic_imputed_europeans_tw_0.5_signif.db\"      \n",
       "[40] \"gtex_v7_Skin_Sun_Exposed_Lower_leg_imputed_europeans_tw_0.5_signif.db\"           \n",
       "[41] \"gtex_v7_Small_Intestine_Terminal_Ileum_imputed_europeans_tw_0.5_signif.db\"       \n",
       "[42] \"gtex_v7_Spleen_imputed_europeans_tw_0.5_signif.db\"                               \n",
       "[43] \"gtex_v7_Stomach_imputed_europeans_tw_0.5_signif.db\"                              \n",
       "[44] \"gtex_v7_Testis_imputed_europeans_tw_0.5_signif.db\"                               \n",
       "[45] \"gtex_v7_Thyroid_imputed_europeans_tw_0.5_signif.db\"                              \n",
       "[46] \"gtex_v7_Uterus_imputed_europeans_tw_0.5_signif.db\"                               \n",
       "[47] \"gtex_v7_Vagina_imputed_europeans_tw_0.5_signif.db\"                               \n",
       "[48] \"gtex_v7_Whole_Blood_imputed_europeans_tw_0.5_signif.db\"                          "
      ]
     },
     "metadata": {},
     "output_type": "display_data"
    }
   ],
   "source": [
    "db_vec"
   ]
  },
  {
   "cell_type": "code",
   "execution_count": 18,
   "metadata": {},
   "outputs": [
    {
     "data": {
      "text/html": [
       "'/gpfs/ysm/pi/zhao-data/zy92/predictDB'"
      ],
      "text/latex": [
       "'/gpfs/ysm/pi/zhao-data/zy92/predictDB'"
      ],
      "text/markdown": [
       "'/gpfs/ysm/pi/zhao-data/zy92/predictDB'"
      ],
      "text/plain": [
       "[1] \"/gpfs/ysm/pi/zhao-data/zy92/predictDB\""
      ]
     },
     "metadata": {},
     "output_type": "display_data"
    }
   ],
   "source": [
    "getwd()"
   ]
  },
  {
   "cell_type": "code",
   "execution_count": 24,
   "metadata": {},
   "outputs": [],
   "source": [
    "check_weights <- function(gene)  { \n",
    "    snp_total <- c()\n",
    "    snp_gene <- list()\n",
    "    weights_gene <- list()\n",
    "    IRdisplay::display_html(paste0(\"INFO: reading snp info\"))\n",
    "    for(i in 1:length(db_vec))\n",
    "      { \n",
    "        dbname <- db_vec[i]\n",
    "        db <- dbConnect(sqlite,dbname)\n",
    "        query <- function(...) dbGetQuery(db, ...)\n",
    "        #print(query('select count(*) from weights'))\n",
    "        snp_cur <- query(paste0('select * from weights where gene = \"', gene, '\"', sep = \"\"))$rsid\n",
    "        snp_gene[[dbname]] <- snp_cur\n",
    "        snp_total <- c(snp_total, snp_cur)\n",
    "        weights_gene[[dbname]] <- query(paste('select * from weights where gene = \"', gene, '\"', sep = \"\"))$weight\n",
    "      }\n",
    "    \n",
    "    snp_total <- unique(snp_total)\n",
    "    weights <- matrix(0, length(snp_total), length(db_vec))\n",
    "    IRdisplay::display_html(paste0(\"INFO: finish loading snp info\"))\n",
    "    for(i in 1:length(db_vec))\n",
    "      { \n",
    "        total_snp <- c()\n",
    "        #IRdisplay::display_html(paste0(\"INFO: reading \", db_vec[i]))\n",
    "        dbname <- db_vec[i]\n",
    "        #db <- dbConnect(sqlite,dbname)\n",
    "        #print(query('select count(*) from weights'))\n",
    "        snp_cur <- snp_gene[[dbname]]\n",
    "        index <- match(snp_cur, snp_total)\n",
    "        indi <- is.na(index) == FALSE\n",
    "        index <- match(snp_cur, snp_total)\n",
    "        indi <- !is.na(index)\n",
    "        weights[index[indi],i] <- weights_gene[[dbname]][indi]\n",
    "    }\n",
    "    return(list(weights = weights, snp_total = snp_total))  \n",
    "    #return(weights)\n",
    "}"
   ]
  },
  {
   "cell_type": "code",
   "execution_count": 20,
   "metadata": {},
   "outputs": [],
   "source": [
    "query <- function(...) dbGetQuery(db, ...)"
   ]
  },
  {
   "cell_type": "code",
   "execution_count": 25,
   "metadata": {},
   "outputs": [
    {
     "data": {
      "text/html": [
       "INFO: reading snp info"
      ]
     },
     "metadata": {},
     "output_type": "display_data"
    },
    {
     "data": {
      "text/html": [
       "INFO: finish loading snp info"
      ]
     },
     "metadata": {},
     "output_type": "display_data"
    }
   ],
   "source": [
    "test_weights <- check_weights(\"ENSG00000228327.2\")"
   ]
  },
  {
   "cell_type": "code",
   "execution_count": 23,
   "metadata": {},
   "outputs": [
    {
     "data": {
      "text/html": [
       "'matrix'"
      ],
      "text/latex": [
       "'matrix'"
      ],
      "text/markdown": [
       "'matrix'"
      ],
      "text/plain": [
       "[1] \"matrix\""
      ]
     },
     "metadata": {},
     "output_type": "display_data"
    }
   ],
   "source": [
    "class(test_weights)"
   ]
  },
  {
   "cell_type": "code",
   "execution_count": 27,
   "metadata": {},
   "outputs": [
    {
     "data": {
      "text/html": [
       "<style>\n",
       ".list-inline {list-style: none; margin:0; padding: 0}\n",
       ".list-inline>li {display: inline-block}\n",
       ".list-inline>li:not(:last-child)::after {content: \"\\00b7\"; padding: 0 .5ex}\n",
       "</style>\n",
       "<ol class=list-inline><li>'rs9442400'</li><li>'rs7548798'</li><li>'rs2298217'</li><li>'rs1891905'</li><li>'rs6670693'</li><li>'rs4442317'</li><li>'rs12064046'</li><li>'rs11260556'</li><li>'rs9729550'</li><li>'rs2887286'</li><li>'rs11260562'</li><li>'rs715643'</li><li>'rs6603787'</li><li>'rs13306651'</li><li>'rs11586188'</li><li>'rs12142199'</li><li>'rs1312568'</li><li>'rs1627833'</li><li>'rs1781145'</li><li>'rs2649579'</li><li>'rs819980'</li><li>'rs9439458'</li><li>'rs2031709'</li><li>'rs2031708'</li><li>'rs880051'</li><li>'rs2296716'</li><li>'rs601141'</li><li>'rs1107910'</li><li>'rs10907194'</li><li>'rs7534617'</li><li>'rs3094315'</li><li>'rs3131972'</li><li>'rs3115860'</li><li>'rs2073813'</li><li>'rs1048488'</li><li>'rs3115850'</li><li>'rs12562034'</li><li>'rs12124819'</li><li>'rs1806509'</li><li>'rs13303106'</li><li>'rs28504611'</li><li>'rs35940137'</li><li>'rs2465126'</li><li>'rs3128126'</li><li>'rs12737205'</li><li>'rs3753349'</li><li>'rs2765015'</li><li>'rs2291889'</li><li>'rs1887284'</li><li>'rs7520996'</li><li>'rs7519837'</li><li>'rs12044597'</li><li>'rs28576697'</li><li>'rs3748592'</li><li>'rs2340582'</li><li>'rs3748594'</li><li>'rs3748595'</li><li>'rs3748597'</li><li>'rs13303010'</li><li>'rs3935066'</li><li>'rs4074137'</li><li>'rs6689308'</li><li>'rs6687776'</li><li>'rs6678318'</li><li>'rs4970358'</li><li>'rs4970362'</li><li>'rs3818646'</li><li>'rs12072310'</li><li>'rs1240732'</li><li>'rs1153105'</li><li>'rs3118505'</li><li>'rs7540231'</li><li>'rs6604983'</li><li>'rs11552172'</li><li>'rs2294489'</li><li>'rs2235536'</li><li>'rs3131969'</li><li>'rs3131968'</li><li>'rs3131967'</li><li>'rs2519031'</li><li>'rs4951864'</li><li>'rs12132517'</li><li>'rs4970383'</li><li>'rs7537756'</li><li>'rs2488991'</li><li>'rs9442371'</li><li>'rs9651273'</li><li>'rs4970357'</li><li>'rs9442380'</li><li>'rs4970421'</li><li>'rs11260542'</li><li>'rs12092254'</li><li>'rs1320565'</li><li>'rs12036216'</li><li>'rs12077700'</li><li>'rs11488462'</li><li>'rs1695824'</li><li>'rs873927'</li><li>'rs2185539'</li><li>'rs1110052'</li><li>'rs6696281'</li><li>'rs3128097'</li><li>'rs17160826'</li><li>'rs12748370'</li><li>'rs12757754'</li><li>'rs3128117'</li><li>'rs1891906'</li><li>'rs12132100'</li><li>'rs12731175'</li><li>'rs7545952'</li><li>'rs4970420'</li><li>'rs3737725'</li><li>'rs4970364'</li><li>'rs1058161'</li><li>'rs621668'</li><li>'rs4970432'</li><li>'rs1240743'</li><li>'rs12089560'</li><li>'rs9439457'</li><li>'rs6669795'</li><li>'rs9439462'</li><li>'rs12032637'</li><li>'rs7533'</li><li>'rs909823'</li><li>'rs2294488'</li><li>'rs11240777'</li><li>'rs4475691'</li><li>'rs2710872'</li><li>'rs4970405'</li><li>'rs11807848'</li><li>'rs9442373'</li><li>'rs10907182'</li><li>'rs9442387'</li><li>'rs11466681'</li><li>'rs3118509'</li><li>'rs6684487'</li><li>'rs34054191'</li><li>'rs3813216'</li><li>'rs34238514'</li><li>'rs2340587'</li><li>'rs6694632'</li><li>'rs2341354'</li><li>'rs2465136'</li></ol>\n"
      ],
      "text/latex": [
       "\\begin{enumerate*}\n",
       "\\item 'rs9442400'\n",
       "\\item 'rs7548798'\n",
       "\\item 'rs2298217'\n",
       "\\item 'rs1891905'\n",
       "\\item 'rs6670693'\n",
       "\\item 'rs4442317'\n",
       "\\item 'rs12064046'\n",
       "\\item 'rs11260556'\n",
       "\\item 'rs9729550'\n",
       "\\item 'rs2887286'\n",
       "\\item 'rs11260562'\n",
       "\\item 'rs715643'\n",
       "\\item 'rs6603787'\n",
       "\\item 'rs13306651'\n",
       "\\item 'rs11586188'\n",
       "\\item 'rs12142199'\n",
       "\\item 'rs1312568'\n",
       "\\item 'rs1627833'\n",
       "\\item 'rs1781145'\n",
       "\\item 'rs2649579'\n",
       "\\item 'rs819980'\n",
       "\\item 'rs9439458'\n",
       "\\item 'rs2031709'\n",
       "\\item 'rs2031708'\n",
       "\\item 'rs880051'\n",
       "\\item 'rs2296716'\n",
       "\\item 'rs601141'\n",
       "\\item 'rs1107910'\n",
       "\\item 'rs10907194'\n",
       "\\item 'rs7534617'\n",
       "\\item 'rs3094315'\n",
       "\\item 'rs3131972'\n",
       "\\item 'rs3115860'\n",
       "\\item 'rs2073813'\n",
       "\\item 'rs1048488'\n",
       "\\item 'rs3115850'\n",
       "\\item 'rs12562034'\n",
       "\\item 'rs12124819'\n",
       "\\item 'rs1806509'\n",
       "\\item 'rs13303106'\n",
       "\\item 'rs28504611'\n",
       "\\item 'rs35940137'\n",
       "\\item 'rs2465126'\n",
       "\\item 'rs3128126'\n",
       "\\item 'rs12737205'\n",
       "\\item 'rs3753349'\n",
       "\\item 'rs2765015'\n",
       "\\item 'rs2291889'\n",
       "\\item 'rs1887284'\n",
       "\\item 'rs7520996'\n",
       "\\item 'rs7519837'\n",
       "\\item 'rs12044597'\n",
       "\\item 'rs28576697'\n",
       "\\item 'rs3748592'\n",
       "\\item 'rs2340582'\n",
       "\\item 'rs3748594'\n",
       "\\item 'rs3748595'\n",
       "\\item 'rs3748597'\n",
       "\\item 'rs13303010'\n",
       "\\item 'rs3935066'\n",
       "\\item 'rs4074137'\n",
       "\\item 'rs6689308'\n",
       "\\item 'rs6687776'\n",
       "\\item 'rs6678318'\n",
       "\\item 'rs4970358'\n",
       "\\item 'rs4970362'\n",
       "\\item 'rs3818646'\n",
       "\\item 'rs12072310'\n",
       "\\item 'rs1240732'\n",
       "\\item 'rs1153105'\n",
       "\\item 'rs3118505'\n",
       "\\item 'rs7540231'\n",
       "\\item 'rs6604983'\n",
       "\\item 'rs11552172'\n",
       "\\item 'rs2294489'\n",
       "\\item 'rs2235536'\n",
       "\\item 'rs3131969'\n",
       "\\item 'rs3131968'\n",
       "\\item 'rs3131967'\n",
       "\\item 'rs2519031'\n",
       "\\item 'rs4951864'\n",
       "\\item 'rs12132517'\n",
       "\\item 'rs4970383'\n",
       "\\item 'rs7537756'\n",
       "\\item 'rs2488991'\n",
       "\\item 'rs9442371'\n",
       "\\item 'rs9651273'\n",
       "\\item 'rs4970357'\n",
       "\\item 'rs9442380'\n",
       "\\item 'rs4970421'\n",
       "\\item 'rs11260542'\n",
       "\\item 'rs12092254'\n",
       "\\item 'rs1320565'\n",
       "\\item 'rs12036216'\n",
       "\\item 'rs12077700'\n",
       "\\item 'rs11488462'\n",
       "\\item 'rs1695824'\n",
       "\\item 'rs873927'\n",
       "\\item 'rs2185539'\n",
       "\\item 'rs1110052'\n",
       "\\item 'rs6696281'\n",
       "\\item 'rs3128097'\n",
       "\\item 'rs17160826'\n",
       "\\item 'rs12748370'\n",
       "\\item 'rs12757754'\n",
       "\\item 'rs3128117'\n",
       "\\item 'rs1891906'\n",
       "\\item 'rs12132100'\n",
       "\\item 'rs12731175'\n",
       "\\item 'rs7545952'\n",
       "\\item 'rs4970420'\n",
       "\\item 'rs3737725'\n",
       "\\item 'rs4970364'\n",
       "\\item 'rs1058161'\n",
       "\\item 'rs621668'\n",
       "\\item 'rs4970432'\n",
       "\\item 'rs1240743'\n",
       "\\item 'rs12089560'\n",
       "\\item 'rs9439457'\n",
       "\\item 'rs6669795'\n",
       "\\item 'rs9439462'\n",
       "\\item 'rs12032637'\n",
       "\\item 'rs7533'\n",
       "\\item 'rs909823'\n",
       "\\item 'rs2294488'\n",
       "\\item 'rs11240777'\n",
       "\\item 'rs4475691'\n",
       "\\item 'rs2710872'\n",
       "\\item 'rs4970405'\n",
       "\\item 'rs11807848'\n",
       "\\item 'rs9442373'\n",
       "\\item 'rs10907182'\n",
       "\\item 'rs9442387'\n",
       "\\item 'rs11466681'\n",
       "\\item 'rs3118509'\n",
       "\\item 'rs6684487'\n",
       "\\item 'rs34054191'\n",
       "\\item 'rs3813216'\n",
       "\\item 'rs34238514'\n",
       "\\item 'rs2340587'\n",
       "\\item 'rs6694632'\n",
       "\\item 'rs2341354'\n",
       "\\item 'rs2465136'\n",
       "\\end{enumerate*}\n"
      ],
      "text/markdown": [
       "1. 'rs9442400'\n",
       "2. 'rs7548798'\n",
       "3. 'rs2298217'\n",
       "4. 'rs1891905'\n",
       "5. 'rs6670693'\n",
       "6. 'rs4442317'\n",
       "7. 'rs12064046'\n",
       "8. 'rs11260556'\n",
       "9. 'rs9729550'\n",
       "10. 'rs2887286'\n",
       "11. 'rs11260562'\n",
       "12. 'rs715643'\n",
       "13. 'rs6603787'\n",
       "14. 'rs13306651'\n",
       "15. 'rs11586188'\n",
       "16. 'rs12142199'\n",
       "17. 'rs1312568'\n",
       "18. 'rs1627833'\n",
       "19. 'rs1781145'\n",
       "20. 'rs2649579'\n",
       "21. 'rs819980'\n",
       "22. 'rs9439458'\n",
       "23. 'rs2031709'\n",
       "24. 'rs2031708'\n",
       "25. 'rs880051'\n",
       "26. 'rs2296716'\n",
       "27. 'rs601141'\n",
       "28. 'rs1107910'\n",
       "29. 'rs10907194'\n",
       "30. 'rs7534617'\n",
       "31. 'rs3094315'\n",
       "32. 'rs3131972'\n",
       "33. 'rs3115860'\n",
       "34. 'rs2073813'\n",
       "35. 'rs1048488'\n",
       "36. 'rs3115850'\n",
       "37. 'rs12562034'\n",
       "38. 'rs12124819'\n",
       "39. 'rs1806509'\n",
       "40. 'rs13303106'\n",
       "41. 'rs28504611'\n",
       "42. 'rs35940137'\n",
       "43. 'rs2465126'\n",
       "44. 'rs3128126'\n",
       "45. 'rs12737205'\n",
       "46. 'rs3753349'\n",
       "47. 'rs2765015'\n",
       "48. 'rs2291889'\n",
       "49. 'rs1887284'\n",
       "50. 'rs7520996'\n",
       "51. 'rs7519837'\n",
       "52. 'rs12044597'\n",
       "53. 'rs28576697'\n",
       "54. 'rs3748592'\n",
       "55. 'rs2340582'\n",
       "56. 'rs3748594'\n",
       "57. 'rs3748595'\n",
       "58. 'rs3748597'\n",
       "59. 'rs13303010'\n",
       "60. 'rs3935066'\n",
       "61. 'rs4074137'\n",
       "62. 'rs6689308'\n",
       "63. 'rs6687776'\n",
       "64. 'rs6678318'\n",
       "65. 'rs4970358'\n",
       "66. 'rs4970362'\n",
       "67. 'rs3818646'\n",
       "68. 'rs12072310'\n",
       "69. 'rs1240732'\n",
       "70. 'rs1153105'\n",
       "71. 'rs3118505'\n",
       "72. 'rs7540231'\n",
       "73. 'rs6604983'\n",
       "74. 'rs11552172'\n",
       "75. 'rs2294489'\n",
       "76. 'rs2235536'\n",
       "77. 'rs3131969'\n",
       "78. 'rs3131968'\n",
       "79. 'rs3131967'\n",
       "80. 'rs2519031'\n",
       "81. 'rs4951864'\n",
       "82. 'rs12132517'\n",
       "83. 'rs4970383'\n",
       "84. 'rs7537756'\n",
       "85. 'rs2488991'\n",
       "86. 'rs9442371'\n",
       "87. 'rs9651273'\n",
       "88. 'rs4970357'\n",
       "89. 'rs9442380'\n",
       "90. 'rs4970421'\n",
       "91. 'rs11260542'\n",
       "92. 'rs12092254'\n",
       "93. 'rs1320565'\n",
       "94. 'rs12036216'\n",
       "95. 'rs12077700'\n",
       "96. 'rs11488462'\n",
       "97. 'rs1695824'\n",
       "98. 'rs873927'\n",
       "99. 'rs2185539'\n",
       "100. 'rs1110052'\n",
       "101. 'rs6696281'\n",
       "102. 'rs3128097'\n",
       "103. 'rs17160826'\n",
       "104. 'rs12748370'\n",
       "105. 'rs12757754'\n",
       "106. 'rs3128117'\n",
       "107. 'rs1891906'\n",
       "108. 'rs12132100'\n",
       "109. 'rs12731175'\n",
       "110. 'rs7545952'\n",
       "111. 'rs4970420'\n",
       "112. 'rs3737725'\n",
       "113. 'rs4970364'\n",
       "114. 'rs1058161'\n",
       "115. 'rs621668'\n",
       "116. 'rs4970432'\n",
       "117. 'rs1240743'\n",
       "118. 'rs12089560'\n",
       "119. 'rs9439457'\n",
       "120. 'rs6669795'\n",
       "121. 'rs9439462'\n",
       "122. 'rs12032637'\n",
       "123. 'rs7533'\n",
       "124. 'rs909823'\n",
       "125. 'rs2294488'\n",
       "126. 'rs11240777'\n",
       "127. 'rs4475691'\n",
       "128. 'rs2710872'\n",
       "129. 'rs4970405'\n",
       "130. 'rs11807848'\n",
       "131. 'rs9442373'\n",
       "132. 'rs10907182'\n",
       "133. 'rs9442387'\n",
       "134. 'rs11466681'\n",
       "135. 'rs3118509'\n",
       "136. 'rs6684487'\n",
       "137. 'rs34054191'\n",
       "138. 'rs3813216'\n",
       "139. 'rs34238514'\n",
       "140. 'rs2340587'\n",
       "141. 'rs6694632'\n",
       "142. 'rs2341354'\n",
       "143. 'rs2465136'\n",
       "\n",
       "\n"
      ],
      "text/plain": [
       "  [1] \"rs9442400\"  \"rs7548798\"  \"rs2298217\"  \"rs1891905\"  \"rs6670693\" \n",
       "  [6] \"rs4442317\"  \"rs12064046\" \"rs11260556\" \"rs9729550\"  \"rs2887286\" \n",
       " [11] \"rs11260562\" \"rs715643\"   \"rs6603787\"  \"rs13306651\" \"rs11586188\"\n",
       " [16] \"rs12142199\" \"rs1312568\"  \"rs1627833\"  \"rs1781145\"  \"rs2649579\" \n",
       " [21] \"rs819980\"   \"rs9439458\"  \"rs2031709\"  \"rs2031708\"  \"rs880051\"  \n",
       " [26] \"rs2296716\"  \"rs601141\"   \"rs1107910\"  \"rs10907194\" \"rs7534617\" \n",
       " [31] \"rs3094315\"  \"rs3131972\"  \"rs3115860\"  \"rs2073813\"  \"rs1048488\" \n",
       " [36] \"rs3115850\"  \"rs12562034\" \"rs12124819\" \"rs1806509\"  \"rs13303106\"\n",
       " [41] \"rs28504611\" \"rs35940137\" \"rs2465126\"  \"rs3128126\"  \"rs12737205\"\n",
       " [46] \"rs3753349\"  \"rs2765015\"  \"rs2291889\"  \"rs1887284\"  \"rs7520996\" \n",
       " [51] \"rs7519837\"  \"rs12044597\" \"rs28576697\" \"rs3748592\"  \"rs2340582\" \n",
       " [56] \"rs3748594\"  \"rs3748595\"  \"rs3748597\"  \"rs13303010\" \"rs3935066\" \n",
       " [61] \"rs4074137\"  \"rs6689308\"  \"rs6687776\"  \"rs6678318\"  \"rs4970358\" \n",
       " [66] \"rs4970362\"  \"rs3818646\"  \"rs12072310\" \"rs1240732\"  \"rs1153105\" \n",
       " [71] \"rs3118505\"  \"rs7540231\"  \"rs6604983\"  \"rs11552172\" \"rs2294489\" \n",
       " [76] \"rs2235536\"  \"rs3131969\"  \"rs3131968\"  \"rs3131967\"  \"rs2519031\" \n",
       " [81] \"rs4951864\"  \"rs12132517\" \"rs4970383\"  \"rs7537756\"  \"rs2488991\" \n",
       " [86] \"rs9442371\"  \"rs9651273\"  \"rs4970357\"  \"rs9442380\"  \"rs4970421\" \n",
       " [91] \"rs11260542\" \"rs12092254\" \"rs1320565\"  \"rs12036216\" \"rs12077700\"\n",
       " [96] \"rs11488462\" \"rs1695824\"  \"rs873927\"   \"rs2185539\"  \"rs1110052\" \n",
       "[101] \"rs6696281\"  \"rs3128097\"  \"rs17160826\" \"rs12748370\" \"rs12757754\"\n",
       "[106] \"rs3128117\"  \"rs1891906\"  \"rs12132100\" \"rs12731175\" \"rs7545952\" \n",
       "[111] \"rs4970420\"  \"rs3737725\"  \"rs4970364\"  \"rs1058161\"  \"rs621668\"  \n",
       "[116] \"rs4970432\"  \"rs1240743\"  \"rs12089560\" \"rs9439457\"  \"rs6669795\" \n",
       "[121] \"rs9439462\"  \"rs12032637\" \"rs7533\"     \"rs909823\"   \"rs2294488\" \n",
       "[126] \"rs11240777\" \"rs4475691\"  \"rs2710872\"  \"rs4970405\"  \"rs11807848\"\n",
       "[131] \"rs9442373\"  \"rs10907182\" \"rs9442387\"  \"rs11466681\" \"rs3118509\" \n",
       "[136] \"rs6684487\"  \"rs34054191\" \"rs3813216\"  \"rs34238514\" \"rs2340587\" \n",
       "[141] \"rs6694632\"  \"rs2341354\"  \"rs2465136\" "
      ]
     },
     "metadata": {},
     "output_type": "display_data"
    },
    {
     "data": {
      "text/html": [
       "143"
      ],
      "text/latex": [
       "143"
      ],
      "text/markdown": [
       "143"
      ],
      "text/plain": [
       "[1] 143"
      ]
     },
     "metadata": {},
     "output_type": "display_data"
    }
   ],
   "source": [
    "test_weights$snp_total\n",
    "length(test_weights$snp_total)"
   ]
  },
  {
   "cell_type": "code",
   "execution_count": 29,
   "metadata": {},
   "outputs": [
    {
     "data": {
      "text/html": [
       "<style>\n",
       ".list-inline {list-style: none; margin:0; padding: 0}\n",
       ".list-inline>li {display: inline-block}\n",
       ".list-inline>li:not(:last-child)::after {content: \"\\00b7\"; padding: 0 .5ex}\n",
       "</style>\n",
       "<ol class=list-inline><li>143</li><li>48</li></ol>\n"
      ],
      "text/latex": [
       "\\begin{enumerate*}\n",
       "\\item 143\n",
       "\\item 48\n",
       "\\end{enumerate*}\n"
      ],
      "text/markdown": [
       "1. 143\n",
       "2. 48\n",
       "\n",
       "\n"
      ],
      "text/plain": [
       "[1] 143  48"
      ]
     },
     "metadata": {},
     "output_type": "display_data"
    },
    {
     "data": {
      "text/html": [
       "<table>\n",
       "<caption>A matrix: 6 × 48 of type dbl</caption>\n",
       "<tbody>\n",
       "\t<tr><td>0</td><td>0</td><td>0</td><td>0</td><td>0</td><td>-0.06196984</td><td>0</td><td>0</td><td>0</td><td>0</td><td>⋯</td><td> 0.000000000</td><td>0</td><td>0</td><td>0</td><td> 0.0000000</td><td>0</td><td>0.00000000</td><td>0</td><td>0</td><td>0</td></tr>\n",
       "\t<tr><td>0</td><td>0</td><td>0</td><td>0</td><td>0</td><td>-0.02233228</td><td>0</td><td>0</td><td>0</td><td>0</td><td>⋯</td><td> 0.000000000</td><td>0</td><td>0</td><td>0</td><td> 0.0000000</td><td>0</td><td>0.00000000</td><td>0</td><td>0</td><td>0</td></tr>\n",
       "\t<tr><td>0</td><td>0</td><td>0</td><td>0</td><td>0</td><td> 0.04236974</td><td>0</td><td>0</td><td>0</td><td>0</td><td>⋯</td><td> 0.000000000</td><td>0</td><td>0</td><td>0</td><td>-0.1428288</td><td>0</td><td>0.00000000</td><td>0</td><td>0</td><td>0</td></tr>\n",
       "\t<tr><td>0</td><td>0</td><td>0</td><td>0</td><td>0</td><td>-0.08358777</td><td>0</td><td>0</td><td>0</td><td>0</td><td>⋯</td><td>-0.007685157</td><td>0</td><td>0</td><td>0</td><td> 0.0000000</td><td>0</td><td>0.16563189</td><td>0</td><td>0</td><td>0</td></tr>\n",
       "\t<tr><td>0</td><td>0</td><td>0</td><td>0</td><td>0</td><td> 0.20049585</td><td>0</td><td>0</td><td>0</td><td>0</td><td>⋯</td><td>-0.015274046</td><td>0</td><td>0</td><td>0</td><td> 0.0000000</td><td>0</td><td>0.00000000</td><td>0</td><td>0</td><td>0</td></tr>\n",
       "\t<tr><td>0</td><td>0</td><td>0</td><td>0</td><td>0</td><td> 0.12979086</td><td>0</td><td>0</td><td>0</td><td>0</td><td>⋯</td><td> 0.000000000</td><td>0</td><td>0</td><td>0</td><td> 0.0000000</td><td>0</td><td>0.02350298</td><td>0</td><td>0</td><td>0</td></tr>\n",
       "</tbody>\n",
       "</table>\n"
      ],
      "text/latex": [
       "A matrix: 6 × 48 of type dbl\n",
       "\\begin{tabular}{lllllllllllllllllllll}\n",
       "\t 0 & 0 & 0 & 0 & 0 & -0.06196984 & 0 & 0 & 0 & 0 & ⋯ &  0.000000000 & 0 & 0 & 0 &  0.0000000 & 0 & 0.00000000 & 0 & 0 & 0\\\\\n",
       "\t 0 & 0 & 0 & 0 & 0 & -0.02233228 & 0 & 0 & 0 & 0 & ⋯ &  0.000000000 & 0 & 0 & 0 &  0.0000000 & 0 & 0.00000000 & 0 & 0 & 0\\\\\n",
       "\t 0 & 0 & 0 & 0 & 0 &  0.04236974 & 0 & 0 & 0 & 0 & ⋯ &  0.000000000 & 0 & 0 & 0 & -0.1428288 & 0 & 0.00000000 & 0 & 0 & 0\\\\\n",
       "\t 0 & 0 & 0 & 0 & 0 & -0.08358777 & 0 & 0 & 0 & 0 & ⋯ & -0.007685157 & 0 & 0 & 0 &  0.0000000 & 0 & 0.16563189 & 0 & 0 & 0\\\\\n",
       "\t 0 & 0 & 0 & 0 & 0 &  0.20049585 & 0 & 0 & 0 & 0 & ⋯ & -0.015274046 & 0 & 0 & 0 &  0.0000000 & 0 & 0.00000000 & 0 & 0 & 0\\\\\n",
       "\t 0 & 0 & 0 & 0 & 0 &  0.12979086 & 0 & 0 & 0 & 0 & ⋯ &  0.000000000 & 0 & 0 & 0 &  0.0000000 & 0 & 0.02350298 & 0 & 0 & 0\\\\\n",
       "\\end{tabular}\n"
      ],
      "text/markdown": [
       "\n",
       "A matrix: 6 × 48 of type dbl\n",
       "\n",
       "| 0 | 0 | 0 | 0 | 0 | -0.06196984 | 0 | 0 | 0 | 0 | ⋯ |  0.000000000 | 0 | 0 | 0 |  0.0000000 | 0 | 0.00000000 | 0 | 0 | 0 |\n",
       "| 0 | 0 | 0 | 0 | 0 | -0.02233228 | 0 | 0 | 0 | 0 | ⋯ |  0.000000000 | 0 | 0 | 0 |  0.0000000 | 0 | 0.00000000 | 0 | 0 | 0 |\n",
       "| 0 | 0 | 0 | 0 | 0 |  0.04236974 | 0 | 0 | 0 | 0 | ⋯ |  0.000000000 | 0 | 0 | 0 | -0.1428288 | 0 | 0.00000000 | 0 | 0 | 0 |\n",
       "| 0 | 0 | 0 | 0 | 0 | -0.08358777 | 0 | 0 | 0 | 0 | ⋯ | -0.007685157 | 0 | 0 | 0 |  0.0000000 | 0 | 0.16563189 | 0 | 0 | 0 |\n",
       "| 0 | 0 | 0 | 0 | 0 |  0.20049585 | 0 | 0 | 0 | 0 | ⋯ | -0.015274046 | 0 | 0 | 0 |  0.0000000 | 0 | 0.00000000 | 0 | 0 | 0 |\n",
       "| 0 | 0 | 0 | 0 | 0 |  0.12979086 | 0 | 0 | 0 | 0 | ⋯ |  0.000000000 | 0 | 0 | 0 |  0.0000000 | 0 | 0.02350298 | 0 | 0 | 0 |\n",
       "\n"
      ],
      "text/plain": [
       "     [,1] [,2] [,3] [,4] [,5] [,6]        [,7] [,8] [,9] [,10] [,11]\n",
       "[1,] 0    0    0    0    0    -0.06196984 0    0    0    0     ⋯    \n",
       "[2,] 0    0    0    0    0    -0.02233228 0    0    0    0     ⋯    \n",
       "[3,] 0    0    0    0    0     0.04236974 0    0    0    0     ⋯    \n",
       "[4,] 0    0    0    0    0    -0.08358777 0    0    0    0     ⋯    \n",
       "[5,] 0    0    0    0    0     0.20049585 0    0    0    0     ⋯    \n",
       "[6,] 0    0    0    0    0     0.12979086 0    0    0    0     ⋯    \n",
       "     [,12]        [,13] [,14] [,15] [,16]      [,17] [,18]      [,19] [,20]\n",
       "[1,]  0.000000000 0     0     0      0.0000000 0     0.00000000 0     0    \n",
       "[2,]  0.000000000 0     0     0      0.0000000 0     0.00000000 0     0    \n",
       "[3,]  0.000000000 0     0     0     -0.1428288 0     0.00000000 0     0    \n",
       "[4,] -0.007685157 0     0     0      0.0000000 0     0.16563189 0     0    \n",
       "[5,] -0.015274046 0     0     0      0.0000000 0     0.00000000 0     0    \n",
       "[6,]  0.000000000 0     0     0      0.0000000 0     0.02350298 0     0    \n",
       "     [,21]\n",
       "[1,] 0    \n",
       "[2,] 0    \n",
       "[3,] 0    \n",
       "[4,] 0    \n",
       "[5,] 0    \n",
       "[6,] 0    "
      ]
     },
     "metadata": {},
     "output_type": "display_data"
    }
   ],
   "source": [
    "dim(test_weights$weights)\n",
    "head(test_weights$weights)"
   ]
  },
  {
   "cell_type": "code",
   "execution_count": 107,
   "metadata": {},
   "outputs": [
    {
     "name": "stderr",
     "output_type": "stream",
     "text": [
      "Warning message in f(...):\n",
      "“Raster pixels are placed at uneven horizontal intervals and will be shifted. Consider using geom_tile() instead.”"
     ]
    },
    {
     "data": {
      "image/png": "[encoded data removed]",
      "text/plain": [
       "plot without title"
      ]
     },
     "metadata": {},
     "output_type": "display_data"
    }
   ],
   "source": [
    "suppressPackageStartupMessages(library(reshape2))\n",
    "suppressPackageStartupMessages(library(ggplot2))\n",
    "\n",
    "longData<-melt(test_weights)\n",
    "longData<-longData[longData$value!=0,]\n",
    "\n",
    "ggplot(longData, aes(x = Var2, y = Var1)) + \n",
    "  geom_raster(aes(fill=value)) + \n",
    "  scale_fill_gradient2() + \n",
    "  #scale_fill_gradientn(colours=c(\"blue\",\"red\"), \n",
    "  #  values=rescale(c(-1, 0, 1))) + \n",
    "    #values=rescale(c(-1,0-.Machine$double.eps,0,0+.Machine$double.eps,1)))\n",
    "\n",
    "\n",
    "\n",
    "  #scale_fill_gradient(low=\"blue\", high=\"red\") +\n",
    "  labs(x=\"tissues\", y=\"SNPs\", title=\"Weight Values\") +\n",
    "  theme_bw() + theme(axis.text.x=element_text(size=5, angle=0),\n",
    "                     axis.text.y=element_text(size=5),\n",
    "                    plot.title=element_text(size=11))\n"
   ]
  },
  {
   "cell_type": "code",
   "execution_count": 109,
   "metadata": {},
   "outputs": [
    {
     "name": "stderr",
     "output_type": "stream",
     "text": [
      "Warning message in f(...):\n",
      "“Raster pixels are placed at uneven vertical intervals and will be shifted. Consider using geom_tile() instead.”"
     ]
    },
    {
     "data": {
      "image/png": "[encoded data removed]",
      "text/plain": [
       "plot without title"
      ]
     },
     "metadata": {},
     "output_type": "display_data"
    }
   ],
   "source": [
    "plot_weights <- function(test_weights) {\n",
    "\n",
    "    longData<-melt(test_weights)\n",
    "    longData<-longData[longData$value!=0,]\n",
    "\n",
    "    ggplot(longData, aes(x = Var1, y = Var2)) + \n",
    "      geom_raster(aes(fill=value)) + \n",
    "      scale_fill_gradient2() + \n",
    "      labs(x=\"SNPs\", y=\"tissues\", title=\"Weight Values\") +\n",
    "      theme_bw() + theme(axis.text.x=element_text(size=5, angle=0),\n",
    "                         axis.text.y=element_text(size=5),\n",
    "                        plot.title=element_text(size=11))\n",
    "    }"
   ]
  },
  {
   "cell_type": "code",
   "execution_count": 112,
   "metadata": {},
   "outputs": [],
   "source": [
    "\n",
    "\n",
    "\n",
    "plot_weights <- function(gene) {\n",
    "    test_weights <- check_weights(gene)\n",
    "    longData<-melt(test_weights)\n",
    "    longData<-longData[longData$value!=0,]\n",
    "\n",
    "    ggplot(longData, aes(x = Var1, y = Var2)) + \n",
    "      geom_raster(aes(fill=value)) + \n",
    "      scale_fill_gradient2() + \n",
    "      labs(x=\"SNPs\", y=\"tissues\", title=\"Weight Values\") +\n",
    "      theme_bw() + theme(axis.text.x=element_text(size=11, angle=0),\n",
    "                         axis.text.y=element_text(size=11),\n",
    "                        plot.title=element_text(size=11))\n",
    "    }\n",
    "\n"
   ]
  },
  {
   "cell_type": "code",
   "execution_count": 113,
   "metadata": {},
   "outputs": [
    {
     "data": {
      "text/html": [
       "'ENSG00000000457.9'"
      ],
      "text/latex": [
       "'ENSG00000000457.9'"
      ],
      "text/markdown": [
       "'ENSG00000000457.9'"
      ],
      "text/plain": [
       "[1] \"ENSG00000000457.9\""
      ]
     },
     "metadata": {},
     "output_type": "display_data"
    },
    {
     "data": {
      "text/html": [
       "INFO: reading snp info"
      ]
     },
     "metadata": {},
     "output_type": "display_data"
    },
    {
     "data": {
      "text/html": [
       "INFO: finish loading snp info"
      ]
     },
     "metadata": {},
     "output_type": "display_data"
    },
    {
     "name": "stderr",
     "output_type": "stream",
     "text": [
      "Warning message in f(...):\n",
      "“Raster pixels are placed at uneven vertical intervals and will be shifted. Consider using geom_tile() instead.”"
     ]
    },
    {
     "data": {
      "image/png": "[encoded data removed]",
      "text/plain": [
       "plot without title"
      ]
     },
     "metadata": {},
     "output_type": "display_data"
    }
   ],
   "source": [
    "\n",
    "gene_set[1]\n",
    "plot_weights(gene_set[1])"
   ]
  },
  {
   "cell_type": "code",
   "execution_count": 114,
   "metadata": {},
   "outputs": [
    {
     "data": {
      "text/html": [
       "'ENSG00000000460.12'"
      ],
      "text/latex": [
       "'ENSG00000000460.12'"
      ],
      "text/markdown": [
       "'ENSG00000000460.12'"
      ],
      "text/plain": [
       "[1] \"ENSG00000000460.12\""
      ]
     },
     "metadata": {},
     "output_type": "display_data"
    },
    {
     "data": {
      "text/html": [
       "INFO: reading snp info"
      ]
     },
     "metadata": {},
     "output_type": "display_data"
    },
    {
     "data": {
      "text/html": [
       "INFO: finish loading snp info"
      ]
     },
     "metadata": {},
     "output_type": "display_data"
    },
    {
     "name": "stderr",
     "output_type": "stream",
     "text": [
      "Warning message in f(...):\n",
      "“Raster pixels are placed at uneven vertical intervals and will be shifted. Consider using geom_tile() instead.”"
     ]
    },
    {
     "data": {
      "image/png": "[encoded data removed]",
      "text/plain": [
       "plot without title"
      ]
     },
     "metadata": {},
     "output_type": "display_data"
    }
   ],
   "source": [
    "gene_set[2]\n",
    "plot_weights(gene_set[2])"
   ]
  },
  {
   "cell_type": "code",
   "execution_count": 115,
   "metadata": {},
   "outputs": [
    {
     "data": {
      "text/html": [
       "'ENSG00000000971.11'"
      ],
      "text/latex": [
       "'ENSG00000000971.11'"
      ],
      "text/markdown": [
       "'ENSG00000000971.11'"
      ],
      "text/plain": [
       "[1] \"ENSG00000000971.11\""
      ]
     },
     "metadata": {},
     "output_type": "display_data"
    },
    {
     "data": {
      "text/html": [
       "INFO: reading snp info"
      ]
     },
     "metadata": {},
     "output_type": "display_data"
    },
    {
     "data": {
      "text/html": [
       "INFO: finish loading snp info"
      ]
     },
     "metadata": {},
     "output_type": "display_data"
    },
    {
     "name": "stderr",
     "output_type": "stream",
     "text": [
      "Warning message in f(...):\n",
      "“Raster pixels are placed at uneven vertical intervals and will be shifted. Consider using geom_tile() instead.”"
     ]
    },
    {
     "data": {
      "image/png": "[encoded data removed]",
      "text/plain": [
       "plot without title"
      ]
     },
     "metadata": {},
     "output_type": "display_data"
    }
   ],
   "source": [
    "gene_set[3]\n",
    "plot_weights(gene_set[3])"
   ]
  },
  {
   "cell_type": "markdown",
   "metadata": {},
   "source": [
    "### summary of different directions"
   ]
  },
  {
   "cell_type": "code",
   "execution_count": null,
   "metadata": {},
   "outputs": [],
   "source": [
    "length(geen_set)"
   ]
  },
  {
   "cell_type": "code",
   "execution_count": null,
   "metadata": {},
   "outputs": [],
   "source": []
  },
  {
   "cell_type": "code",
   "execution_count": 98,
   "metadata": {},
   "outputs": [
    {
     "data": {
      "image/png": "[encoded data removed]",
      "text/plain": [
       "Plot with title “Weight Values”"
      ]
     },
     "metadata": {},
     "output_type": "display_data"
    }
   ],
   "source": [
    "library(smoothAPC)\n",
    "plot(test_weights, labs = c(\"tissues\", \"SNPs\"), color.palette = c(\"default\"), main = \"Weight Values\")"
   ]
  },
  {
   "cell_type": "code",
   "execution_count": 86,
   "metadata": {},
   "outputs": [
    {
     "data": {
      "text/html": [
       "<ol class=list-inline>\n",
       "\t<li>143</li>\n",
       "\t<li>48</li>\n",
       "</ol>\n"
      ],
      "text/latex": [
       "\\begin{enumerate*}\n",
       "\\item 143\n",
       "\\item 48\n",
       "\\end{enumerate*}\n"
      ],
      "text/markdown": [
       "1. 143\n",
       "2. 48\n",
       "\n",
       "\n"
      ],
      "text/plain": [
       "[1] 143  48"
      ]
     },
     "metadata": {},
     "output_type": "display_data"
    }
   ],
   "source": [
    "# Library\n",
    "library(ggplot2)\n",
    "\n",
    "# Dummy data\n",
    "plot+matrix function()\n",
    "x <- \n",
    "y <- paste0(\"var\", seq(1,20))\n",
    "data <- expand.grid(X=x, Y=y)\n",
    "data$Z <- runif(400, 0, 5)\n",
    " \n",
    "# Heatmap \n",
    "ggplot(data, aes(X, Y, fill= Z)) + \n",
    "  geom_tile()"
   ]
  },
  {
   "cell_type": "code",
   "execution_count": 89,
   "metadata": {},
   "outputs": [],
   "source": [
    "suppressPackageStartupMessages(library(raster))"
   ]
  },
  {
   "cell_type": "code",
   "execution_count": 90,
   "metadata": {},
   "outputs": [
    {
     "data": {
      "image/png": "[encoded data removed]",
      "text/plain": [
       "Plot with title “”"
      ]
     },
     "metadata": {},
     "output_type": "display_data"
    }
   ],
   "source": [
    "plot(raster(test_weights))"
   ]
  },
  {
   "cell_type": "code",
   "execution_count": 45,
   "metadata": {},
   "outputs": [
    {
     "data": {
      "text/html": [
       "INFO: reading snp info"
      ]
     },
     "metadata": {},
     "output_type": "display_data"
    },
    {
     "data": {
      "text/html": [
       "INFO: reading gtex_v7_Adipose_Subcutaneous_imputed_europeans_tw_0.5_signif.db"
      ]
     },
     "metadata": {},
     "output_type": "display_data"
    },
    {
     "data": {
      "text/html": [
       "INFO: reading gtex_v7_Adipose_Visceral_Omentum_imputed_europeans_tw_0.5_signif.db"
      ]
     },
     "metadata": {},
     "output_type": "display_data"
    },
    {
     "data": {
      "text/html": [
       "INFO: reading gtex_v7_Adrenal_Gland_imputed_europeans_tw_0.5_signif.db"
      ]
     },
     "metadata": {},
     "output_type": "display_data"
    },
    {
     "data": {
      "text/html": [
       "INFO: reading gtex_v7_Artery_Aorta_imputed_europeans_tw_0.5_signif.db"
      ]
     },
     "metadata": {},
     "output_type": "display_data"
    },
    {
     "data": {
      "text/html": [
       "INFO: reading gtex_v7_Artery_Coronary_imputed_europeans_tw_0.5_signif.db"
      ]
     },
     "metadata": {},
     "output_type": "display_data"
    },
    {
     "data": {
      "text/html": [
       "INFO: reading gtex_v7_Artery_Tibial_imputed_europeans_tw_0.5_signif.db"
      ]
     },
     "metadata": {},
     "output_type": "display_data"
    },
    {
     "data": {
      "text/html": [
       "INFO: reading gtex_v7_Brain_Amygdala_imputed_europeans_tw_0.5_signif.db"
      ]
     },
     "metadata": {},
     "output_type": "display_data"
    },
    {
     "data": {
      "text/html": [
       "INFO: reading gtex_v7_Brain_Anterior_cingulate_cortex_BA24_imputed_europeans_tw_0.5_signif.db"
      ]
     },
     "metadata": {},
     "output_type": "display_data"
    },
    {
     "data": {
      "text/html": [
       "INFO: reading gtex_v7_Brain_Caudate_basal_ganglia_imputed_europeans_tw_0.5_signif.db"
      ]
     },
     "metadata": {},
     "output_type": "display_data"
    },
    {
     "data": {
      "text/html": [
       "INFO: reading gtex_v7_Brain_Cerebellar_Hemisphere_imputed_europeans_tw_0.5_signif.db"
      ]
     },
     "metadata": {},
     "output_type": "display_data"
    },
    {
     "data": {
      "text/html": [
       "INFO: reading gtex_v7_Brain_Cerebellum_imputed_europeans_tw_0.5_signif.db"
      ]
     },
     "metadata": {},
     "output_type": "display_data"
    },
    {
     "data": {
      "text/html": [
       "INFO: reading gtex_v7_Brain_Cortex_imputed_europeans_tw_0.5_signif.db"
      ]
     },
     "metadata": {},
     "output_type": "display_data"
    },
    {
     "data": {
      "text/html": [
       "INFO: reading gtex_v7_Brain_Frontal_Cortex_BA9_imputed_europeans_tw_0.5_signif.db"
      ]
     },
     "metadata": {},
     "output_type": "display_data"
    },
    {
     "data": {
      "text/html": [
       "INFO: reading gtex_v7_Brain_Hippocampus_imputed_europeans_tw_0.5_signif.db"
      ]
     },
     "metadata": {},
     "output_type": "display_data"
    },
    {
     "data": {
      "text/html": [
       "INFO: reading gtex_v7_Brain_Hypothalamus_imputed_europeans_tw_0.5_signif.db"
      ]
     },
     "metadata": {},
     "output_type": "display_data"
    },
    {
     "data": {
      "text/html": [
       "INFO: reading gtex_v7_Brain_Nucleus_accumbens_basal_ganglia_imputed_europeans_tw_0.5_signif.db"
      ]
     },
     "metadata": {},
     "output_type": "display_data"
    },
    {
     "data": {
      "text/html": [
       "INFO: reading gtex_v7_Brain_Putamen_basal_ganglia_imputed_europeans_tw_0.5_signif.db"
      ]
     },
     "metadata": {},
     "output_type": "display_data"
    },
    {
     "data": {
      "text/html": [
       "INFO: reading gtex_v7_Brain_Spinal_cord_cervical_c-1_imputed_europeans_tw_0.5_signif.db"
      ]
     },
     "metadata": {},
     "output_type": "display_data"
    },
    {
     "data": {
      "text/html": [
       "INFO: reading gtex_v7_Brain_Substantia_nigra_imputed_europeans_tw_0.5_signif.db"
      ]
     },
     "metadata": {},
     "output_type": "display_data"
    },
    {
     "data": {
      "text/html": [
       "INFO: reading gtex_v7_Breast_Mammary_Tissue_imputed_europeans_tw_0.5_signif.db"
      ]
     },
     "metadata": {},
     "output_type": "display_data"
    },
    {
     "data": {
      "text/html": [
       "INFO: reading gtex_v7_Cells_EBV-transformed_lymphocytes_imputed_europeans_tw_0.5_signif.db"
      ]
     },
     "metadata": {},
     "output_type": "display_data"
    },
    {
     "data": {
      "text/html": [
       "INFO: reading gtex_v7_Cells_Transformed_fibroblasts_imputed_europeans_tw_0.5_signif.db"
      ]
     },
     "metadata": {},
     "output_type": "display_data"
    },
    {
     "data": {
      "text/html": [
       "INFO: reading gtex_v7_Colon_Sigmoid_imputed_europeans_tw_0.5_signif.db"
      ]
     },
     "metadata": {},
     "output_type": "display_data"
    },
    {
     "data": {
      "text/html": [
       "INFO: reading gtex_v7_Colon_Transverse_imputed_europeans_tw_0.5_signif.db"
      ]
     },
     "metadata": {},
     "output_type": "display_data"
    },
    {
     "data": {
      "text/html": [
       "INFO: reading gtex_v7_Esophagus_Gastroesophageal_Junction_imputed_europeans_tw_0.5_signif.db"
      ]
     },
     "metadata": {},
     "output_type": "display_data"
    },
    {
     "data": {
      "text/html": [
       "INFO: reading gtex_v7_Esophagus_Mucosa_imputed_europeans_tw_0.5_signif.db"
      ]
     },
     "metadata": {},
     "output_type": "display_data"
    },
    {
     "data": {
      "text/html": [
       "INFO: reading gtex_v7_Esophagus_Muscularis_imputed_europeans_tw_0.5_signif.db"
      ]
     },
     "metadata": {},
     "output_type": "display_data"
    },
    {
     "data": {
      "text/html": [
       "INFO: reading gtex_v7_Heart_Atrial_Appendage_imputed_europeans_tw_0.5_signif.db"
      ]
     },
     "metadata": {},
     "output_type": "display_data"
    },
    {
     "data": {
      "text/html": [
       "INFO: reading gtex_v7_Heart_Left_Ventricle_imputed_europeans_tw_0.5_signif.db"
      ]
     },
     "metadata": {},
     "output_type": "display_data"
    },
    {
     "data": {
      "text/html": [
       "INFO: reading gtex_v7_Liver_imputed_europeans_tw_0.5_signif.db"
      ]
     },
     "metadata": {},
     "output_type": "display_data"
    },
    {
     "data": {
      "text/html": [
       "INFO: reading gtex_v7_Lung_imputed_europeans_tw_0.5_signif.db"
      ]
     },
     "metadata": {},
     "output_type": "display_data"
    },
    {
     "data": {
      "text/html": [
       "INFO: reading gtex_v7_Minor_Salivary_Gland_imputed_europeans_tw_0.5_signif.db"
      ]
     },
     "metadata": {},
     "output_type": "display_data"
    },
    {
     "data": {
      "text/html": [
       "INFO: reading gtex_v7_Muscle_Skeletal_imputed_europeans_tw_0.5_signif.db"
      ]
     },
     "metadata": {},
     "output_type": "display_data"
    },
    {
     "data": {
      "text/html": [
       "INFO: reading gtex_v7_Nerve_Tibial_imputed_europeans_tw_0.5_signif.db"
      ]
     },
     "metadata": {},
     "output_type": "display_data"
    },
    {
     "data": {
      "text/html": [
       "INFO: reading gtex_v7_Ovary_imputed_europeans_tw_0.5_signif.db"
      ]
     },
     "metadata": {},
     "output_type": "display_data"
    },
    {
     "data": {
      "text/html": [
       "INFO: reading gtex_v7_Pancreas_imputed_europeans_tw_0.5_signif.db"
      ]
     },
     "metadata": {},
     "output_type": "display_data"
    },
    {
     "data": {
      "text/html": [
       "INFO: reading gtex_v7_Pituitary_imputed_europeans_tw_0.5_signif.db"
      ]
     },
     "metadata": {},
     "output_type": "display_data"
    },
    {
     "data": {
      "text/html": [
       "INFO: reading gtex_v7_Prostate_imputed_europeans_tw_0.5_signif.db"
      ]
     },
     "metadata": {},
     "output_type": "display_data"
    },
    {
     "data": {
      "text/html": [
       "INFO: reading gtex_v7_Skin_Not_Sun_Exposed_Suprapubic_imputed_europeans_tw_0.5_signif.db"
      ]
     },
     "metadata": {},
     "output_type": "display_data"
    },
    {
     "data": {
      "text/html": [
       "INFO: reading gtex_v7_Skin_Sun_Exposed_Lower_leg_imputed_europeans_tw_0.5_signif.db"
      ]
     },
     "metadata": {},
     "output_type": "display_data"
    },
    {
     "data": {
      "text/html": [
       "INFO: reading gtex_v7_Small_Intestine_Terminal_Ileum_imputed_europeans_tw_0.5_signif.db"
      ]
     },
     "metadata": {},
     "output_type": "display_data"
    },
    {
     "data": {
      "text/html": [
       "INFO: reading gtex_v7_Spleen_imputed_europeans_tw_0.5_signif.db"
      ]
     },
     "metadata": {},
     "output_type": "display_data"
    },
    {
     "data": {
      "text/html": [
       "INFO: reading gtex_v7_Stomach_imputed_europeans_tw_0.5_signif.db"
      ]
     },
     "metadata": {},
     "output_type": "display_data"
    },
    {
     "data": {
      "text/html": [
       "INFO: reading gtex_v7_Testis_imputed_europeans_tw_0.5_signif.db"
      ]
     },
     "metadata": {},
     "output_type": "display_data"
    },
    {
     "data": {
      "text/html": [
       "INFO: reading gtex_v7_Thyroid_imputed_europeans_tw_0.5_signif.db"
      ]
     },
     "metadata": {},
     "output_type": "display_data"
    },
    {
     "data": {
      "text/html": [
       "INFO: reading gtex_v7_Uterus_imputed_europeans_tw_0.5_signif.db"
      ]
     },
     "metadata": {},
     "output_type": "display_data"
    },
    {
     "data": {
      "text/html": [
       "INFO: reading gtex_v7_Vagina_imputed_europeans_tw_0.5_signif.db"
      ]
     },
     "metadata": {},
     "output_type": "display_data"
    },
    {
     "data": {
      "text/html": [
       "INFO: reading gtex_v7_Whole_Blood_imputed_europeans_tw_0.5_signif.db"
      ]
     },
     "metadata": {},
     "output_type": "display_data"
    },
    {
     "data": {
      "text/html": [
       "<table>\n",
       "<caption>A matrix: 31 × 48 of type dbl</caption>\n",
       "<tbody>\n",
       "\t<tr><td>-0.0102360210</td><td>-0.0102360210</td><td>-0.0102360210</td><td>-0.0102360210</td><td>-0.0102360210</td><td>-0.0102360210</td><td>-0.0102360210</td><td>-0.0102360210</td><td>-0.0102360210</td><td>-0.0102360210</td><td>⋯</td><td>-0.0102360210</td><td>-0.0102360210</td><td>-0.0102360210</td><td>-0.0102360210</td><td>-0.0102360210</td><td>-0.0102360210</td><td>-0.0102360210</td><td>-0.0102360210</td><td>-0.0102360210</td><td>-0.0102360210</td></tr>\n",
       "\t<tr><td> 0.0010955080</td><td> 0.0010955080</td><td> 0.0010955080</td><td> 0.0010955080</td><td> 0.0010955080</td><td> 0.0010955080</td><td> 0.0010955080</td><td> 0.0010955080</td><td> 0.0010955080</td><td> 0.0010955080</td><td>⋯</td><td> 0.0010955080</td><td> 0.0010955080</td><td> 0.0010955080</td><td> 0.0010955080</td><td> 0.0010955080</td><td> 0.0010955080</td><td> 0.0010955080</td><td> 0.0010955080</td><td> 0.0010955080</td><td> 0.0010955080</td></tr>\n",
       "\t<tr><td>-0.0244812786</td><td>-0.0244812786</td><td>-0.0244812786</td><td>-0.0244812786</td><td>-0.0244812786</td><td>-0.0244812786</td><td>-0.0244812786</td><td>-0.0244812786</td><td>-0.0244812786</td><td>-0.0244812786</td><td>⋯</td><td>-0.0244812786</td><td>-0.0244812786</td><td>-0.0244812786</td><td>-0.0244812786</td><td>-0.0244812786</td><td>-0.0244812786</td><td>-0.0244812786</td><td>-0.0244812786</td><td>-0.0244812786</td><td>-0.0244812786</td></tr>\n",
       "\t<tr><td>-0.1021663612</td><td>-0.1021663612</td><td>-0.1021663612</td><td>-0.1021663612</td><td>-0.1021663612</td><td>-0.1021663612</td><td>-0.1021663612</td><td>-0.1021663612</td><td>-0.1021663612</td><td>-0.1021663612</td><td>⋯</td><td>-0.1021663612</td><td>-0.1021663612</td><td>-0.1021663612</td><td>-0.1021663612</td><td>-0.1021663612</td><td>-0.1021663612</td><td>-0.1021663612</td><td>-0.1021663612</td><td>-0.1021663612</td><td>-0.1021663612</td></tr>\n",
       "\t<tr><td>-0.0025637827</td><td>-0.0025637827</td><td>-0.0025637827</td><td>-0.0025637827</td><td>-0.0025637827</td><td>-0.0025637827</td><td>-0.0025637827</td><td>-0.0025637827</td><td>-0.0025637827</td><td>-0.0025637827</td><td>⋯</td><td>-0.0025637827</td><td>-0.0025637827</td><td>-0.0025637827</td><td>-0.0025637827</td><td>-0.0025637827</td><td>-0.0025637827</td><td>-0.0025637827</td><td>-0.0025637827</td><td>-0.0025637827</td><td>-0.0025637827</td></tr>\n",
       "\t<tr><td>-0.0297592720</td><td>-0.0297592720</td><td>-0.0297592720</td><td>-0.0297592720</td><td>-0.0297592720</td><td>-0.0297592720</td><td>-0.0297592720</td><td>-0.0297592720</td><td>-0.0297592720</td><td>-0.0297592720</td><td>⋯</td><td>-0.0297592720</td><td>-0.0297592720</td><td>-0.0297592720</td><td>-0.0297592720</td><td>-0.0297592720</td><td>-0.0297592720</td><td>-0.0297592720</td><td>-0.0297592720</td><td>-0.0297592720</td><td>-0.0297592720</td></tr>\n",
       "\t<tr><td>-0.0492844817</td><td>-0.0492844817</td><td>-0.0492844817</td><td>-0.0492844817</td><td>-0.0492844817</td><td>-0.0492844817</td><td>-0.0492844817</td><td>-0.0492844817</td><td>-0.0492844817</td><td>-0.0492844817</td><td>⋯</td><td>-0.0492844817</td><td>-0.0492844817</td><td>-0.0492844817</td><td>-0.0492844817</td><td>-0.0492844817</td><td>-0.0492844817</td><td>-0.0492844817</td><td>-0.0492844817</td><td>-0.0492844817</td><td>-0.0492844817</td></tr>\n",
       "\t<tr><td> 0.0051548909</td><td> 0.0051548909</td><td> 0.0051548909</td><td> 0.0051548909</td><td> 0.0051548909</td><td> 0.0051548909</td><td> 0.0051548909</td><td> 0.0051548909</td><td> 0.0051548909</td><td> 0.0051548909</td><td>⋯</td><td> 0.0051548909</td><td> 0.0051548909</td><td> 0.0051548909</td><td> 0.0051548909</td><td> 0.0051548909</td><td> 0.0051548909</td><td> 0.0051548909</td><td> 0.0051548909</td><td> 0.0051548909</td><td> 0.0051548909</td></tr>\n",
       "\t<tr><td> 0.1125793254</td><td> 0.1125793254</td><td> 0.1125793254</td><td> 0.1125793254</td><td> 0.1125793254</td><td> 0.1125793254</td><td> 0.1125793254</td><td> 0.1125793254</td><td> 0.1125793254</td><td> 0.1125793254</td><td>⋯</td><td> 0.1125793254</td><td> 0.1125793254</td><td> 0.1125793254</td><td> 0.1125793254</td><td> 0.1125793254</td><td> 0.1125793254</td><td> 0.1125793254</td><td> 0.1125793254</td><td> 0.1125793254</td><td> 0.1125793254</td></tr>\n",
       "\t<tr><td> 0.0166847921</td><td> 0.0166847921</td><td> 0.0166847921</td><td> 0.0166847921</td><td> 0.0166847921</td><td> 0.0166847921</td><td> 0.0166847921</td><td> 0.0166847921</td><td> 0.0166847921</td><td> 0.0166847921</td><td>⋯</td><td> 0.0166847921</td><td> 0.0166847921</td><td> 0.0166847921</td><td> 0.0166847921</td><td> 0.0166847921</td><td> 0.0166847921</td><td> 0.0166847921</td><td> 0.0166847921</td><td> 0.0166847921</td><td> 0.0166847921</td></tr>\n",
       "\t<tr><td>-0.6388817275</td><td>-0.6388817275</td><td>-0.6388817275</td><td>-0.6388817275</td><td>-0.6388817275</td><td>-0.6388817275</td><td>-0.6388817275</td><td>-0.6388817275</td><td>-0.6388817275</td><td>-0.6388817275</td><td>⋯</td><td>-0.6388817275</td><td>-0.6388817275</td><td>-0.6388817275</td><td>-0.6388817275</td><td>-0.6388817275</td><td>-0.6388817275</td><td>-0.6388817275</td><td>-0.6388817275</td><td>-0.6388817275</td><td>-0.6388817275</td></tr>\n",
       "\t<tr><td> 0.1487638628</td><td> 0.1487638628</td><td> 0.1487638628</td><td> 0.1487638628</td><td> 0.1487638628</td><td> 0.1487638628</td><td> 0.1487638628</td><td> 0.1487638628</td><td> 0.1487638628</td><td> 0.1487638628</td><td>⋯</td><td> 0.1487638628</td><td> 0.1487638628</td><td> 0.1487638628</td><td> 0.1487638628</td><td> 0.1487638628</td><td> 0.1487638628</td><td> 0.1487638628</td><td> 0.1487638628</td><td> 0.1487638628</td><td> 0.1487638628</td></tr>\n",
       "\t<tr><td>-0.0952224856</td><td>-0.0952224856</td><td>-0.0952224856</td><td>-0.0952224856</td><td>-0.0952224856</td><td>-0.0952224856</td><td>-0.0952224856</td><td>-0.0952224856</td><td>-0.0952224856</td><td>-0.0952224856</td><td>⋯</td><td>-0.0952224856</td><td>-0.0952224856</td><td>-0.0952224856</td><td>-0.0952224856</td><td>-0.0952224856</td><td>-0.0952224856</td><td>-0.0952224856</td><td>-0.0952224856</td><td>-0.0952224856</td><td>-0.0952224856</td></tr>\n",
       "\t<tr><td>-0.0670452695</td><td>-0.0670452695</td><td>-0.0670452695</td><td>-0.0670452695</td><td>-0.0670452695</td><td>-0.0670452695</td><td>-0.0670452695</td><td>-0.0670452695</td><td>-0.0670452695</td><td>-0.0670452695</td><td>⋯</td><td>-0.0670452695</td><td>-0.0670452695</td><td>-0.0670452695</td><td>-0.0670452695</td><td>-0.0670452695</td><td>-0.0670452695</td><td>-0.0670452695</td><td>-0.0670452695</td><td>-0.0670452695</td><td>-0.0670452695</td></tr>\n",
       "\t<tr><td> 0.1309136470</td><td> 0.1309136470</td><td> 0.1309136470</td><td> 0.1309136470</td><td> 0.1309136470</td><td> 0.1309136470</td><td> 0.1309136470</td><td> 0.1309136470</td><td> 0.1309136470</td><td> 0.1309136470</td><td>⋯</td><td> 0.1309136470</td><td> 0.1309136470</td><td> 0.1309136470</td><td> 0.1309136470</td><td> 0.1309136470</td><td> 0.1309136470</td><td> 0.1309136470</td><td> 0.1309136470</td><td> 0.1309136470</td><td> 0.1309136470</td></tr>\n",
       "\t<tr><td>-0.1740581090</td><td>-0.1740581090</td><td>-0.1740581090</td><td>-0.1740581090</td><td>-0.1740581090</td><td>-0.1740581090</td><td>-0.1740581090</td><td>-0.1740581090</td><td>-0.1740581090</td><td>-0.1740581090</td><td>⋯</td><td>-0.1740581090</td><td>-0.1740581090</td><td>-0.1740581090</td><td>-0.1740581090</td><td>-0.1740581090</td><td>-0.1740581090</td><td>-0.1740581090</td><td>-0.1740581090</td><td>-0.1740581090</td><td>-0.1740581090</td></tr>\n",
       "\t<tr><td> 0.1047166113</td><td> 0.1047166113</td><td> 0.1047166113</td><td> 0.1047166113</td><td> 0.1047166113</td><td> 0.1047166113</td><td> 0.1047166113</td><td> 0.1047166113</td><td> 0.1047166113</td><td> 0.1047166113</td><td>⋯</td><td> 0.1047166113</td><td> 0.1047166113</td><td> 0.1047166113</td><td> 0.1047166113</td><td> 0.1047166113</td><td> 0.1047166113</td><td> 0.1047166113</td><td> 0.1047166113</td><td> 0.1047166113</td><td> 0.1047166113</td></tr>\n",
       "\t<tr><td> 0.1143452741</td><td> 0.1143452741</td><td> 0.1143452741</td><td> 0.1143452741</td><td> 0.1143452741</td><td> 0.1143452741</td><td> 0.1143452741</td><td> 0.1143452741</td><td> 0.1143452741</td><td> 0.1143452741</td><td>⋯</td><td> 0.1143452741</td><td> 0.1143452741</td><td> 0.1143452741</td><td> 0.1143452741</td><td> 0.1143452741</td><td> 0.1143452741</td><td> 0.1143452741</td><td> 0.1143452741</td><td> 0.1143452741</td><td> 0.1143452741</td></tr>\n",
       "\t<tr><td>-0.1760091295</td><td>-0.1760091295</td><td>-0.1760091295</td><td>-0.1760091295</td><td>-0.1760091295</td><td>-0.1760091295</td><td>-0.1760091295</td><td>-0.1760091295</td><td>-0.1760091295</td><td>-0.1760091295</td><td>⋯</td><td>-0.1760091295</td><td>-0.1760091295</td><td>-0.1760091295</td><td>-0.1760091295</td><td>-0.1760091295</td><td>-0.1760091295</td><td>-0.1760091295</td><td>-0.1760091295</td><td>-0.1760091295</td><td>-0.1760091295</td></tr>\n",
       "\t<tr><td>-0.1794836161</td><td>-0.1794836161</td><td>-0.1794836161</td><td>-0.1794836161</td><td>-0.1794836161</td><td>-0.1794836161</td><td>-0.1794836161</td><td>-0.1794836161</td><td>-0.1794836161</td><td>-0.1794836161</td><td>⋯</td><td>-0.1794836161</td><td>-0.1794836161</td><td>-0.1794836161</td><td>-0.1794836161</td><td>-0.1794836161</td><td>-0.1794836161</td><td>-0.1794836161</td><td>-0.1794836161</td><td>-0.1794836161</td><td>-0.1794836161</td></tr>\n",
       "\t<tr><td> 0.0182485968</td><td> 0.0182485968</td><td> 0.0182485968</td><td> 0.0182485968</td><td> 0.0182485968</td><td> 0.0182485968</td><td> 0.0182485968</td><td> 0.0182485968</td><td> 0.0182485968</td><td> 0.0182485968</td><td>⋯</td><td> 0.0182485968</td><td> 0.0182485968</td><td> 0.0182485968</td><td> 0.0182485968</td><td> 0.0182485968</td><td> 0.0182485968</td><td> 0.0182485968</td><td> 0.0182485968</td><td> 0.0182485968</td><td> 0.0182485968</td></tr>\n",
       "\t<tr><td>-0.3641060429</td><td>-0.3641060429</td><td>-0.3641060429</td><td>-0.3641060429</td><td>-0.3641060429</td><td>-0.3641060429</td><td>-0.3641060429</td><td>-0.3641060429</td><td>-0.3641060429</td><td>-0.3641060429</td><td>⋯</td><td>-0.3641060429</td><td>-0.3641060429</td><td>-0.3641060429</td><td>-0.3641060429</td><td>-0.3641060429</td><td>-0.3641060429</td><td>-0.3641060429</td><td>-0.3641060429</td><td>-0.3641060429</td><td>-0.3641060429</td></tr>\n",
       "\t<tr><td>-0.1778292554</td><td>-0.1778292554</td><td>-0.1778292554</td><td>-0.1778292554</td><td>-0.1778292554</td><td>-0.1778292554</td><td>-0.1778292554</td><td>-0.1778292554</td><td>-0.1778292554</td><td>-0.1778292554</td><td>⋯</td><td>-0.1778292554</td><td>-0.1778292554</td><td>-0.1778292554</td><td>-0.1778292554</td><td>-0.1778292554</td><td>-0.1778292554</td><td>-0.1778292554</td><td>-0.1778292554</td><td>-0.1778292554</td><td>-0.1778292554</td></tr>\n",
       "\t<tr><td>-0.1729697338</td><td>-0.1729697338</td><td>-0.1729697338</td><td>-0.1729697338</td><td>-0.1729697338</td><td>-0.1729697338</td><td>-0.1729697338</td><td>-0.1729697338</td><td>-0.1729697338</td><td>-0.1729697338</td><td>⋯</td><td>-0.1729697338</td><td>-0.1729697338</td><td>-0.1729697338</td><td>-0.1729697338</td><td>-0.1729697338</td><td>-0.1729697338</td><td>-0.1729697338</td><td>-0.1729697338</td><td>-0.1729697338</td><td>-0.1729697338</td></tr>\n",
       "\t<tr><td>-0.0459085296</td><td>-0.0459085296</td><td>-0.0459085296</td><td>-0.0459085296</td><td>-0.0459085296</td><td>-0.0459085296</td><td>-0.0459085296</td><td>-0.0459085296</td><td>-0.0459085296</td><td>-0.0459085296</td><td>⋯</td><td>-0.0459085296</td><td>-0.0459085296</td><td>-0.0459085296</td><td>-0.0459085296</td><td>-0.0459085296</td><td>-0.0459085296</td><td>-0.0459085296</td><td>-0.0459085296</td><td>-0.0459085296</td><td>-0.0459085296</td></tr>\n",
       "\t<tr><td>-0.0608545344</td><td>-0.0608545344</td><td>-0.0608545344</td><td>-0.0608545344</td><td>-0.0608545344</td><td>-0.0608545344</td><td>-0.0608545344</td><td>-0.0608545344</td><td>-0.0608545344</td><td>-0.0608545344</td><td>⋯</td><td>-0.0608545344</td><td>-0.0608545344</td><td>-0.0608545344</td><td>-0.0608545344</td><td>-0.0608545344</td><td>-0.0608545344</td><td>-0.0608545344</td><td>-0.0608545344</td><td>-0.0608545344</td><td>-0.0608545344</td></tr>\n",
       "\t<tr><td> 0.0051137134</td><td> 0.0051137134</td><td> 0.0051137134</td><td> 0.0051137134</td><td> 0.0051137134</td><td> 0.0051137134</td><td> 0.0051137134</td><td> 0.0051137134</td><td> 0.0051137134</td><td> 0.0051137134</td><td>⋯</td><td> 0.0051137134</td><td> 0.0051137134</td><td> 0.0051137134</td><td> 0.0051137134</td><td> 0.0051137134</td><td> 0.0051137134</td><td> 0.0051137134</td><td> 0.0051137134</td><td> 0.0051137134</td><td> 0.0051137134</td></tr>\n",
       "\t<tr><td>-0.0005267655</td><td>-0.0005267655</td><td>-0.0005267655</td><td>-0.0005267655</td><td>-0.0005267655</td><td>-0.0005267655</td><td>-0.0005267655</td><td>-0.0005267655</td><td>-0.0005267655</td><td>-0.0005267655</td><td>⋯</td><td>-0.0005267655</td><td>-0.0005267655</td><td>-0.0005267655</td><td>-0.0005267655</td><td>-0.0005267655</td><td>-0.0005267655</td><td>-0.0005267655</td><td>-0.0005267655</td><td>-0.0005267655</td><td>-0.0005267655</td></tr>\n",
       "\t<tr><td>-0.0012721243</td><td>-0.0012721243</td><td>-0.0012721243</td><td>-0.0012721243</td><td>-0.0012721243</td><td>-0.0012721243</td><td>-0.0012721243</td><td>-0.0012721243</td><td>-0.0012721243</td><td>-0.0012721243</td><td>⋯</td><td>-0.0012721243</td><td>-0.0012721243</td><td>-0.0012721243</td><td>-0.0012721243</td><td>-0.0012721243</td><td>-0.0012721243</td><td>-0.0012721243</td><td>-0.0012721243</td><td>-0.0012721243</td><td>-0.0012721243</td></tr>\n",
       "\t<tr><td> 0.0556237083</td><td> 0.0556237083</td><td> 0.0556237083</td><td> 0.0556237083</td><td> 0.0556237083</td><td> 0.0556237083</td><td> 0.0556237083</td><td> 0.0556237083</td><td> 0.0556237083</td><td> 0.0556237083</td><td>⋯</td><td> 0.0556237083</td><td> 0.0556237083</td><td> 0.0556237083</td><td> 0.0556237083</td><td> 0.0556237083</td><td> 0.0556237083</td><td> 0.0556237083</td><td> 0.0556237083</td><td> 0.0556237083</td><td> 0.0556237083</td></tr>\n",
       "\t<tr><td> 0.0117271136</td><td> 0.0117271136</td><td> 0.0117271136</td><td> 0.0117271136</td><td> 0.0117271136</td><td> 0.0117271136</td><td> 0.0117271136</td><td> 0.0117271136</td><td> 0.0117271136</td><td> 0.0117271136</td><td>⋯</td><td> 0.0117271136</td><td> 0.0117271136</td><td> 0.0117271136</td><td> 0.0117271136</td><td> 0.0117271136</td><td> 0.0117271136</td><td> 0.0117271136</td><td> 0.0117271136</td><td> 0.0117271136</td><td> 0.0117271136</td></tr>\n",
       "</tbody>\n",
       "</table>\n"
      ],
      "text/latex": [
       "A matrix: 31 × 48 of type dbl\n",
       "\\begin{tabular}{llllllllllllllllllllllllllllllllllllllllllllllll}\n",
       "\t -0.0102360210 & -0.0102360210 & -0.0102360210 & -0.0102360210 & -0.0102360210 & -0.0102360210 & -0.0102360210 & -0.0102360210 & -0.0102360210 & -0.0102360210 & -0.0102360210 & -0.0102360210 & -0.0102360210 & -0.0102360210 & -0.0102360210 & -0.0102360210 & -0.0102360210 & -0.0102360210 & -0.0102360210 & -0.0102360210 & -0.0102360210 & -0.0102360210 & -0.0102360210 & -0.0102360210 & -0.0102360210 & -0.0102360210 & -0.0102360210 & -0.0102360210 & -0.0102360210 & -0.0102360210 & -0.0102360210 & -0.0102360210 & -0.0102360210 & -0.0102360210 & -0.0102360210 & -0.0102360210 & -0.0102360210 & -0.0102360210 & -0.0102360210 & -0.0102360210 & -0.0102360210 & -0.0102360210 & -0.0102360210 & -0.0102360210 & -0.0102360210 & -0.0102360210 & -0.0102360210 & -0.0102360210\\\\\n",
       "\t  0.0010955080 &  0.0010955080 &  0.0010955080 &  0.0010955080 &  0.0010955080 &  0.0010955080 &  0.0010955080 &  0.0010955080 &  0.0010955080 &  0.0010955080 &  0.0010955080 &  0.0010955080 &  0.0010955080 &  0.0010955080 &  0.0010955080 &  0.0010955080 &  0.0010955080 &  0.0010955080 &  0.0010955080 &  0.0010955080 &  0.0010955080 &  0.0010955080 &  0.0010955080 &  0.0010955080 &  0.0010955080 &  0.0010955080 &  0.0010955080 &  0.0010955080 &  0.0010955080 &  0.0010955080 &  0.0010955080 &  0.0010955080 &  0.0010955080 &  0.0010955080 &  0.0010955080 &  0.0010955080 &  0.0010955080 &  0.0010955080 &  0.0010955080 &  0.0010955080 &  0.0010955080 &  0.0010955080 &  0.0010955080 &  0.0010955080 &  0.0010955080 &  0.0010955080 &  0.0010955080 &  0.0010955080\\\\\n",
       "\t -0.0244812786 & -0.0244812786 & -0.0244812786 & -0.0244812786 & -0.0244812786 & -0.0244812786 & -0.0244812786 & -0.0244812786 & -0.0244812786 & -0.0244812786 & -0.0244812786 & -0.0244812786 & -0.0244812786 & -0.0244812786 & -0.0244812786 & -0.0244812786 & -0.0244812786 & -0.0244812786 & -0.0244812786 & -0.0244812786 & -0.0244812786 & -0.0244812786 & -0.0244812786 & -0.0244812786 & -0.0244812786 & -0.0244812786 & -0.0244812786 & -0.0244812786 & -0.0244812786 & -0.0244812786 & -0.0244812786 & -0.0244812786 & -0.0244812786 & -0.0244812786 & -0.0244812786 & -0.0244812786 & -0.0244812786 & -0.0244812786 & -0.0244812786 & -0.0244812786 & -0.0244812786 & -0.0244812786 & -0.0244812786 & -0.0244812786 & -0.0244812786 & -0.0244812786 & -0.0244812786 & -0.0244812786\\\\\n",
       "\t -0.1021663612 & -0.1021663612 & -0.1021663612 & -0.1021663612 & -0.1021663612 & -0.1021663612 & -0.1021663612 & -0.1021663612 & -0.1021663612 & -0.1021663612 & -0.1021663612 & -0.1021663612 & -0.1021663612 & -0.1021663612 & -0.1021663612 & -0.1021663612 & -0.1021663612 & -0.1021663612 & -0.1021663612 & -0.1021663612 & -0.1021663612 & -0.1021663612 & -0.1021663612 & -0.1021663612 & -0.1021663612 & -0.1021663612 & -0.1021663612 & -0.1021663612 & -0.1021663612 & -0.1021663612 & -0.1021663612 & -0.1021663612 & -0.1021663612 & -0.1021663612 & -0.1021663612 & -0.1021663612 & -0.1021663612 & -0.1021663612 & -0.1021663612 & -0.1021663612 & -0.1021663612 & -0.1021663612 & -0.1021663612 & -0.1021663612 & -0.1021663612 & -0.1021663612 & -0.1021663612 & -0.1021663612\\\\\n",
       "\t -0.0025637827 & -0.0025637827 & -0.0025637827 & -0.0025637827 & -0.0025637827 & -0.0025637827 & -0.0025637827 & -0.0025637827 & -0.0025637827 & -0.0025637827 & -0.0025637827 & -0.0025637827 & -0.0025637827 & -0.0025637827 & -0.0025637827 & -0.0025637827 & -0.0025637827 & -0.0025637827 & -0.0025637827 & -0.0025637827 & -0.0025637827 & -0.0025637827 & -0.0025637827 & -0.0025637827 & -0.0025637827 & -0.0025637827 & -0.0025637827 & -0.0025637827 & -0.0025637827 & -0.0025637827 & -0.0025637827 & -0.0025637827 & -0.0025637827 & -0.0025637827 & -0.0025637827 & -0.0025637827 & -0.0025637827 & -0.0025637827 & -0.0025637827 & -0.0025637827 & -0.0025637827 & -0.0025637827 & -0.0025637827 & -0.0025637827 & -0.0025637827 & -0.0025637827 & -0.0025637827 & -0.0025637827\\\\\n",
       "\t -0.0297592720 & -0.0297592720 & -0.0297592720 & -0.0297592720 & -0.0297592720 & -0.0297592720 & -0.0297592720 & -0.0297592720 & -0.0297592720 & -0.0297592720 & -0.0297592720 & -0.0297592720 & -0.0297592720 & -0.0297592720 & -0.0297592720 & -0.0297592720 & -0.0297592720 & -0.0297592720 & -0.0297592720 & -0.0297592720 & -0.0297592720 & -0.0297592720 & -0.0297592720 & -0.0297592720 & -0.0297592720 & -0.0297592720 & -0.0297592720 & -0.0297592720 & -0.0297592720 & -0.0297592720 & -0.0297592720 & -0.0297592720 & -0.0297592720 & -0.0297592720 & -0.0297592720 & -0.0297592720 & -0.0297592720 & -0.0297592720 & -0.0297592720 & -0.0297592720 & -0.0297592720 & -0.0297592720 & -0.0297592720 & -0.0297592720 & -0.0297592720 & -0.0297592720 & -0.0297592720 & -0.0297592720\\\\\n",
       "\t -0.0492844817 & -0.0492844817 & -0.0492844817 & -0.0492844817 & -0.0492844817 & -0.0492844817 & -0.0492844817 & -0.0492844817 & -0.0492844817 & -0.0492844817 & -0.0492844817 & -0.0492844817 & -0.0492844817 & -0.0492844817 & -0.0492844817 & -0.0492844817 & -0.0492844817 & -0.0492844817 & -0.0492844817 & -0.0492844817 & -0.0492844817 & -0.0492844817 & -0.0492844817 & -0.0492844817 & -0.0492844817 & -0.0492844817 & -0.0492844817 & -0.0492844817 & -0.0492844817 & -0.0492844817 & -0.0492844817 & -0.0492844817 & -0.0492844817 & -0.0492844817 & -0.0492844817 & -0.0492844817 & -0.0492844817 & -0.0492844817 & -0.0492844817 & -0.0492844817 & -0.0492844817 & -0.0492844817 & -0.0492844817 & -0.0492844817 & -0.0492844817 & -0.0492844817 & -0.0492844817 & -0.0492844817\\\\\n",
       "\t  0.0051548909 &  0.0051548909 &  0.0051548909 &  0.0051548909 &  0.0051548909 &  0.0051548909 &  0.0051548909 &  0.0051548909 &  0.0051548909 &  0.0051548909 &  0.0051548909 &  0.0051548909 &  0.0051548909 &  0.0051548909 &  0.0051548909 &  0.0051548909 &  0.0051548909 &  0.0051548909 &  0.0051548909 &  0.0051548909 &  0.0051548909 &  0.0051548909 &  0.0051548909 &  0.0051548909 &  0.0051548909 &  0.0051548909 &  0.0051548909 &  0.0051548909 &  0.0051548909 &  0.0051548909 &  0.0051548909 &  0.0051548909 &  0.0051548909 &  0.0051548909 &  0.0051548909 &  0.0051548909 &  0.0051548909 &  0.0051548909 &  0.0051548909 &  0.0051548909 &  0.0051548909 &  0.0051548909 &  0.0051548909 &  0.0051548909 &  0.0051548909 &  0.0051548909 &  0.0051548909 &  0.0051548909\\\\\n",
       "\t  0.1125793254 &  0.1125793254 &  0.1125793254 &  0.1125793254 &  0.1125793254 &  0.1125793254 &  0.1125793254 &  0.1125793254 &  0.1125793254 &  0.1125793254 &  0.1125793254 &  0.1125793254 &  0.1125793254 &  0.1125793254 &  0.1125793254 &  0.1125793254 &  0.1125793254 &  0.1125793254 &  0.1125793254 &  0.1125793254 &  0.1125793254 &  0.1125793254 &  0.1125793254 &  0.1125793254 &  0.1125793254 &  0.1125793254 &  0.1125793254 &  0.1125793254 &  0.1125793254 &  0.1125793254 &  0.1125793254 &  0.1125793254 &  0.1125793254 &  0.1125793254 &  0.1125793254 &  0.1125793254 &  0.1125793254 &  0.1125793254 &  0.1125793254 &  0.1125793254 &  0.1125793254 &  0.1125793254 &  0.1125793254 &  0.1125793254 &  0.1125793254 &  0.1125793254 &  0.1125793254 &  0.1125793254\\\\\n",
       "\t  0.0166847921 &  0.0166847921 &  0.0166847921 &  0.0166847921 &  0.0166847921 &  0.0166847921 &  0.0166847921 &  0.0166847921 &  0.0166847921 &  0.0166847921 &  0.0166847921 &  0.0166847921 &  0.0166847921 &  0.0166847921 &  0.0166847921 &  0.0166847921 &  0.0166847921 &  0.0166847921 &  0.0166847921 &  0.0166847921 &  0.0166847921 &  0.0166847921 &  0.0166847921 &  0.0166847921 &  0.0166847921 &  0.0166847921 &  0.0166847921 &  0.0166847921 &  0.0166847921 &  0.0166847921 &  0.0166847921 &  0.0166847921 &  0.0166847921 &  0.0166847921 &  0.0166847921 &  0.0166847921 &  0.0166847921 &  0.0166847921 &  0.0166847921 &  0.0166847921 &  0.0166847921 &  0.0166847921 &  0.0166847921 &  0.0166847921 &  0.0166847921 &  0.0166847921 &  0.0166847921 &  0.0166847921\\\\\n",
       "\t -0.6388817275 & -0.6388817275 & -0.6388817275 & -0.6388817275 & -0.6388817275 & -0.6388817275 & -0.6388817275 & -0.6388817275 & -0.6388817275 & -0.6388817275 & -0.6388817275 & -0.6388817275 & -0.6388817275 & -0.6388817275 & -0.6388817275 & -0.6388817275 & -0.6388817275 & -0.6388817275 & -0.6388817275 & -0.6388817275 & -0.6388817275 & -0.6388817275 & -0.6388817275 & -0.6388817275 & -0.6388817275 & -0.6388817275 & -0.6388817275 & -0.6388817275 & -0.6388817275 & -0.6388817275 & -0.6388817275 & -0.6388817275 & -0.6388817275 & -0.6388817275 & -0.6388817275 & -0.6388817275 & -0.6388817275 & -0.6388817275 & -0.6388817275 & -0.6388817275 & -0.6388817275 & -0.6388817275 & -0.6388817275 & -0.6388817275 & -0.6388817275 & -0.6388817275 & -0.6388817275 & -0.6388817275\\\\\n",
       "\t  0.1487638628 &  0.1487638628 &  0.1487638628 &  0.1487638628 &  0.1487638628 &  0.1487638628 &  0.1487638628 &  0.1487638628 &  0.1487638628 &  0.1487638628 &  0.1487638628 &  0.1487638628 &  0.1487638628 &  0.1487638628 &  0.1487638628 &  0.1487638628 &  0.1487638628 &  0.1487638628 &  0.1487638628 &  0.1487638628 &  0.1487638628 &  0.1487638628 &  0.1487638628 &  0.1487638628 &  0.1487638628 &  0.1487638628 &  0.1487638628 &  0.1487638628 &  0.1487638628 &  0.1487638628 &  0.1487638628 &  0.1487638628 &  0.1487638628 &  0.1487638628 &  0.1487638628 &  0.1487638628 &  0.1487638628 &  0.1487638628 &  0.1487638628 &  0.1487638628 &  0.1487638628 &  0.1487638628 &  0.1487638628 &  0.1487638628 &  0.1487638628 &  0.1487638628 &  0.1487638628 &  0.1487638628\\\\\n",
       "\t -0.0952224856 & -0.0952224856 & -0.0952224856 & -0.0952224856 & -0.0952224856 & -0.0952224856 & -0.0952224856 & -0.0952224856 & -0.0952224856 & -0.0952224856 & -0.0952224856 & -0.0952224856 & -0.0952224856 & -0.0952224856 & -0.0952224856 & -0.0952224856 & -0.0952224856 & -0.0952224856 & -0.0952224856 & -0.0952224856 & -0.0952224856 & -0.0952224856 & -0.0952224856 & -0.0952224856 & -0.0952224856 & -0.0952224856 & -0.0952224856 & -0.0952224856 & -0.0952224856 & -0.0952224856 & -0.0952224856 & -0.0952224856 & -0.0952224856 & -0.0952224856 & -0.0952224856 & -0.0952224856 & -0.0952224856 & -0.0952224856 & -0.0952224856 & -0.0952224856 & -0.0952224856 & -0.0952224856 & -0.0952224856 & -0.0952224856 & -0.0952224856 & -0.0952224856 & -0.0952224856 & -0.0952224856\\\\\n",
       "\t -0.0670452695 & -0.0670452695 & -0.0670452695 & -0.0670452695 & -0.0670452695 & -0.0670452695 & -0.0670452695 & -0.0670452695 & -0.0670452695 & -0.0670452695 & -0.0670452695 & -0.0670452695 & -0.0670452695 & -0.0670452695 & -0.0670452695 & -0.0670452695 & -0.0670452695 & -0.0670452695 & -0.0670452695 & -0.0670452695 & -0.0670452695 & -0.0670452695 & -0.0670452695 & -0.0670452695 & -0.0670452695 & -0.0670452695 & -0.0670452695 & -0.0670452695 & -0.0670452695 & -0.0670452695 & -0.0670452695 & -0.0670452695 & -0.0670452695 & -0.0670452695 & -0.0670452695 & -0.0670452695 & -0.0670452695 & -0.0670452695 & -0.0670452695 & -0.0670452695 & -0.0670452695 & -0.0670452695 & -0.0670452695 & -0.0670452695 & -0.0670452695 & -0.0670452695 & -0.0670452695 & -0.0670452695\\\\\n",
       "\t  0.1309136470 &  0.1309136470 &  0.1309136470 &  0.1309136470 &  0.1309136470 &  0.1309136470 &  0.1309136470 &  0.1309136470 &  0.1309136470 &  0.1309136470 &  0.1309136470 &  0.1309136470 &  0.1309136470 &  0.1309136470 &  0.1309136470 &  0.1309136470 &  0.1309136470 &  0.1309136470 &  0.1309136470 &  0.1309136470 &  0.1309136470 &  0.1309136470 &  0.1309136470 &  0.1309136470 &  0.1309136470 &  0.1309136470 &  0.1309136470 &  0.1309136470 &  0.1309136470 &  0.1309136470 &  0.1309136470 &  0.1309136470 &  0.1309136470 &  0.1309136470 &  0.1309136470 &  0.1309136470 &  0.1309136470 &  0.1309136470 &  0.1309136470 &  0.1309136470 &  0.1309136470 &  0.1309136470 &  0.1309136470 &  0.1309136470 &  0.1309136470 &  0.1309136470 &  0.1309136470 &  0.1309136470\\\\\n",
       "\t -0.1740581090 & -0.1740581090 & -0.1740581090 & -0.1740581090 & -0.1740581090 & -0.1740581090 & -0.1740581090 & -0.1740581090 & -0.1740581090 & -0.1740581090 & -0.1740581090 & -0.1740581090 & -0.1740581090 & -0.1740581090 & -0.1740581090 & -0.1740581090 & -0.1740581090 & -0.1740581090 & -0.1740581090 & -0.1740581090 & -0.1740581090 & -0.1740581090 & -0.1740581090 & -0.1740581090 & -0.1740581090 & -0.1740581090 & -0.1740581090 & -0.1740581090 & -0.1740581090 & -0.1740581090 & -0.1740581090 & -0.1740581090 & -0.1740581090 & -0.1740581090 & -0.1740581090 & -0.1740581090 & -0.1740581090 & -0.1740581090 & -0.1740581090 & -0.1740581090 & -0.1740581090 & -0.1740581090 & -0.1740581090 & -0.1740581090 & -0.1740581090 & -0.1740581090 & -0.1740581090 & -0.1740581090\\\\\n",
       "\t  0.1047166113 &  0.1047166113 &  0.1047166113 &  0.1047166113 &  0.1047166113 &  0.1047166113 &  0.1047166113 &  0.1047166113 &  0.1047166113 &  0.1047166113 &  0.1047166113 &  0.1047166113 &  0.1047166113 &  0.1047166113 &  0.1047166113 &  0.1047166113 &  0.1047166113 &  0.1047166113 &  0.1047166113 &  0.1047166113 &  0.1047166113 &  0.1047166113 &  0.1047166113 &  0.1047166113 &  0.1047166113 &  0.1047166113 &  0.1047166113 &  0.1047166113 &  0.1047166113 &  0.1047166113 &  0.1047166113 &  0.1047166113 &  0.1047166113 &  0.1047166113 &  0.1047166113 &  0.1047166113 &  0.1047166113 &  0.1047166113 &  0.1047166113 &  0.1047166113 &  0.1047166113 &  0.1047166113 &  0.1047166113 &  0.1047166113 &  0.1047166113 &  0.1047166113 &  0.1047166113 &  0.1047166113\\\\\n",
       "\t  0.1143452741 &  0.1143452741 &  0.1143452741 &  0.1143452741 &  0.1143452741 &  0.1143452741 &  0.1143452741 &  0.1143452741 &  0.1143452741 &  0.1143452741 &  0.1143452741 &  0.1143452741 &  0.1143452741 &  0.1143452741 &  0.1143452741 &  0.1143452741 &  0.1143452741 &  0.1143452741 &  0.1143452741 &  0.1143452741 &  0.1143452741 &  0.1143452741 &  0.1143452741 &  0.1143452741 &  0.1143452741 &  0.1143452741 &  0.1143452741 &  0.1143452741 &  0.1143452741 &  0.1143452741 &  0.1143452741 &  0.1143452741 &  0.1143452741 &  0.1143452741 &  0.1143452741 &  0.1143452741 &  0.1143452741 &  0.1143452741 &  0.1143452741 &  0.1143452741 &  0.1143452741 &  0.1143452741 &  0.1143452741 &  0.1143452741 &  0.1143452741 &  0.1143452741 &  0.1143452741 &  0.1143452741\\\\\n",
       "\t -0.1760091295 & -0.1760091295 & -0.1760091295 & -0.1760091295 & -0.1760091295 & -0.1760091295 & -0.1760091295 & -0.1760091295 & -0.1760091295 & -0.1760091295 & -0.1760091295 & -0.1760091295 & -0.1760091295 & -0.1760091295 & -0.1760091295 & -0.1760091295 & -0.1760091295 & -0.1760091295 & -0.1760091295 & -0.1760091295 & -0.1760091295 & -0.1760091295 & -0.1760091295 & -0.1760091295 & -0.1760091295 & -0.1760091295 & -0.1760091295 & -0.1760091295 & -0.1760091295 & -0.1760091295 & -0.1760091295 & -0.1760091295 & -0.1760091295 & -0.1760091295 & -0.1760091295 & -0.1760091295 & -0.1760091295 & -0.1760091295 & -0.1760091295 & -0.1760091295 & -0.1760091295 & -0.1760091295 & -0.1760091295 & -0.1760091295 & -0.1760091295 & -0.1760091295 & -0.1760091295 & -0.1760091295\\\\\n",
       "\t -0.1794836161 & -0.1794836161 & -0.1794836161 & -0.1794836161 & -0.1794836161 & -0.1794836161 & -0.1794836161 & -0.1794836161 & -0.1794836161 & -0.1794836161 & -0.1794836161 & -0.1794836161 & -0.1794836161 & -0.1794836161 & -0.1794836161 & -0.1794836161 & -0.1794836161 & -0.1794836161 & -0.1794836161 & -0.1794836161 & -0.1794836161 & -0.1794836161 & -0.1794836161 & -0.1794836161 & -0.1794836161 & -0.1794836161 & -0.1794836161 & -0.1794836161 & -0.1794836161 & -0.1794836161 & -0.1794836161 & -0.1794836161 & -0.1794836161 & -0.1794836161 & -0.1794836161 & -0.1794836161 & -0.1794836161 & -0.1794836161 & -0.1794836161 & -0.1794836161 & -0.1794836161 & -0.1794836161 & -0.1794836161 & -0.1794836161 & -0.1794836161 & -0.1794836161 & -0.1794836161 & -0.1794836161\\\\\n",
       "\t  0.0182485968 &  0.0182485968 &  0.0182485968 &  0.0182485968 &  0.0182485968 &  0.0182485968 &  0.0182485968 &  0.0182485968 &  0.0182485968 &  0.0182485968 &  0.0182485968 &  0.0182485968 &  0.0182485968 &  0.0182485968 &  0.0182485968 &  0.0182485968 &  0.0182485968 &  0.0182485968 &  0.0182485968 &  0.0182485968 &  0.0182485968 &  0.0182485968 &  0.0182485968 &  0.0182485968 &  0.0182485968 &  0.0182485968 &  0.0182485968 &  0.0182485968 &  0.0182485968 &  0.0182485968 &  0.0182485968 &  0.0182485968 &  0.0182485968 &  0.0182485968 &  0.0182485968 &  0.0182485968 &  0.0182485968 &  0.0182485968 &  0.0182485968 &  0.0182485968 &  0.0182485968 &  0.0182485968 &  0.0182485968 &  0.0182485968 &  0.0182485968 &  0.0182485968 &  0.0182485968 &  0.0182485968\\\\\n",
       "\t -0.3641060429 & -0.3641060429 & -0.3641060429 & -0.3641060429 & -0.3641060429 & -0.3641060429 & -0.3641060429 & -0.3641060429 & -0.3641060429 & -0.3641060429 & -0.3641060429 & -0.3641060429 & -0.3641060429 & -0.3641060429 & -0.3641060429 & -0.3641060429 & -0.3641060429 & -0.3641060429 & -0.3641060429 & -0.3641060429 & -0.3641060429 & -0.3641060429 & -0.3641060429 & -0.3641060429 & -0.3641060429 & -0.3641060429 & -0.3641060429 & -0.3641060429 & -0.3641060429 & -0.3641060429 & -0.3641060429 & -0.3641060429 & -0.3641060429 & -0.3641060429 & -0.3641060429 & -0.3641060429 & -0.3641060429 & -0.3641060429 & -0.3641060429 & -0.3641060429 & -0.3641060429 & -0.3641060429 & -0.3641060429 & -0.3641060429 & -0.3641060429 & -0.3641060429 & -0.3641060429 & -0.3641060429\\\\\n",
       "\t -0.1778292554 & -0.1778292554 & -0.1778292554 & -0.1778292554 & -0.1778292554 & -0.1778292554 & -0.1778292554 & -0.1778292554 & -0.1778292554 & -0.1778292554 & -0.1778292554 & -0.1778292554 & -0.1778292554 & -0.1778292554 & -0.1778292554 & -0.1778292554 & -0.1778292554 & -0.1778292554 & -0.1778292554 & -0.1778292554 & -0.1778292554 & -0.1778292554 & -0.1778292554 & -0.1778292554 & -0.1778292554 & -0.1778292554 & -0.1778292554 & -0.1778292554 & -0.1778292554 & -0.1778292554 & -0.1778292554 & -0.1778292554 & -0.1778292554 & -0.1778292554 & -0.1778292554 & -0.1778292554 & -0.1778292554 & -0.1778292554 & -0.1778292554 & -0.1778292554 & -0.1778292554 & -0.1778292554 & -0.1778292554 & -0.1778292554 & -0.1778292554 & -0.1778292554 & -0.1778292554 & -0.1778292554\\\\\n",
       "\t -0.1729697338 & -0.1729697338 & -0.1729697338 & -0.1729697338 & -0.1729697338 & -0.1729697338 & -0.1729697338 & -0.1729697338 & -0.1729697338 & -0.1729697338 & -0.1729697338 & -0.1729697338 & -0.1729697338 & -0.1729697338 & -0.1729697338 & -0.1729697338 & -0.1729697338 & -0.1729697338 & -0.1729697338 & -0.1729697338 & -0.1729697338 & -0.1729697338 & -0.1729697338 & -0.1729697338 & -0.1729697338 & -0.1729697338 & -0.1729697338 & -0.1729697338 & -0.1729697338 & -0.1729697338 & -0.1729697338 & -0.1729697338 & -0.1729697338 & -0.1729697338 & -0.1729697338 & -0.1729697338 & -0.1729697338 & -0.1729697338 & -0.1729697338 & -0.1729697338 & -0.1729697338 & -0.1729697338 & -0.1729697338 & -0.1729697338 & -0.1729697338 & -0.1729697338 & -0.1729697338 & -0.1729697338\\\\\n",
       "\t -0.0459085296 & -0.0459085296 & -0.0459085296 & -0.0459085296 & -0.0459085296 & -0.0459085296 & -0.0459085296 & -0.0459085296 & -0.0459085296 & -0.0459085296 & -0.0459085296 & -0.0459085296 & -0.0459085296 & -0.0459085296 & -0.0459085296 & -0.0459085296 & -0.0459085296 & -0.0459085296 & -0.0459085296 & -0.0459085296 & -0.0459085296 & -0.0459085296 & -0.0459085296 & -0.0459085296 & -0.0459085296 & -0.0459085296 & -0.0459085296 & -0.0459085296 & -0.0459085296 & -0.0459085296 & -0.0459085296 & -0.0459085296 & -0.0459085296 & -0.0459085296 & -0.0459085296 & -0.0459085296 & -0.0459085296 & -0.0459085296 & -0.0459085296 & -0.0459085296 & -0.0459085296 & -0.0459085296 & -0.0459085296 & -0.0459085296 & -0.0459085296 & -0.0459085296 & -0.0459085296 & -0.0459085296\\\\\n",
       "\t -0.0608545344 & -0.0608545344 & -0.0608545344 & -0.0608545344 & -0.0608545344 & -0.0608545344 & -0.0608545344 & -0.0608545344 & -0.0608545344 & -0.0608545344 & -0.0608545344 & -0.0608545344 & -0.0608545344 & -0.0608545344 & -0.0608545344 & -0.0608545344 & -0.0608545344 & -0.0608545344 & -0.0608545344 & -0.0608545344 & -0.0608545344 & -0.0608545344 & -0.0608545344 & -0.0608545344 & -0.0608545344 & -0.0608545344 & -0.0608545344 & -0.0608545344 & -0.0608545344 & -0.0608545344 & -0.0608545344 & -0.0608545344 & -0.0608545344 & -0.0608545344 & -0.0608545344 & -0.0608545344 & -0.0608545344 & -0.0608545344 & -0.0608545344 & -0.0608545344 & -0.0608545344 & -0.0608545344 & -0.0608545344 & -0.0608545344 & -0.0608545344 & -0.0608545344 & -0.0608545344 & -0.0608545344\\\\\n",
       "\t  0.0051137134 &  0.0051137134 &  0.0051137134 &  0.0051137134 &  0.0051137134 &  0.0051137134 &  0.0051137134 &  0.0051137134 &  0.0051137134 &  0.0051137134 &  0.0051137134 &  0.0051137134 &  0.0051137134 &  0.0051137134 &  0.0051137134 &  0.0051137134 &  0.0051137134 &  0.0051137134 &  0.0051137134 &  0.0051137134 &  0.0051137134 &  0.0051137134 &  0.0051137134 &  0.0051137134 &  0.0051137134 &  0.0051137134 &  0.0051137134 &  0.0051137134 &  0.0051137134 &  0.0051137134 &  0.0051137134 &  0.0051137134 &  0.0051137134 &  0.0051137134 &  0.0051137134 &  0.0051137134 &  0.0051137134 &  0.0051137134 &  0.0051137134 &  0.0051137134 &  0.0051137134 &  0.0051137134 &  0.0051137134 &  0.0051137134 &  0.0051137134 &  0.0051137134 &  0.0051137134 &  0.0051137134\\\\\n",
       "\t -0.0005267655 & -0.0005267655 & -0.0005267655 & -0.0005267655 & -0.0005267655 & -0.0005267655 & -0.0005267655 & -0.0005267655 & -0.0005267655 & -0.0005267655 & -0.0005267655 & -0.0005267655 & -0.0005267655 & -0.0005267655 & -0.0005267655 & -0.0005267655 & -0.0005267655 & -0.0005267655 & -0.0005267655 & -0.0005267655 & -0.0005267655 & -0.0005267655 & -0.0005267655 & -0.0005267655 & -0.0005267655 & -0.0005267655 & -0.0005267655 & -0.0005267655 & -0.0005267655 & -0.0005267655 & -0.0005267655 & -0.0005267655 & -0.0005267655 & -0.0005267655 & -0.0005267655 & -0.0005267655 & -0.0005267655 & -0.0005267655 & -0.0005267655 & -0.0005267655 & -0.0005267655 & -0.0005267655 & -0.0005267655 & -0.0005267655 & -0.0005267655 & -0.0005267655 & -0.0005267655 & -0.0005267655\\\\\n",
       "\t -0.0012721243 & -0.0012721243 & -0.0012721243 & -0.0012721243 & -0.0012721243 & -0.0012721243 & -0.0012721243 & -0.0012721243 & -0.0012721243 & -0.0012721243 & -0.0012721243 & -0.0012721243 & -0.0012721243 & -0.0012721243 & -0.0012721243 & -0.0012721243 & -0.0012721243 & -0.0012721243 & -0.0012721243 & -0.0012721243 & -0.0012721243 & -0.0012721243 & -0.0012721243 & -0.0012721243 & -0.0012721243 & -0.0012721243 & -0.0012721243 & -0.0012721243 & -0.0012721243 & -0.0012721243 & -0.0012721243 & -0.0012721243 & -0.0012721243 & -0.0012721243 & -0.0012721243 & -0.0012721243 & -0.0012721243 & -0.0012721243 & -0.0012721243 & -0.0012721243 & -0.0012721243 & -0.0012721243 & -0.0012721243 & -0.0012721243 & -0.0012721243 & -0.0012721243 & -0.0012721243 & -0.0012721243\\\\\n",
       "\t  0.0556237083 &  0.0556237083 &  0.0556237083 &  0.0556237083 &  0.0556237083 &  0.0556237083 &  0.0556237083 &  0.0556237083 &  0.0556237083 &  0.0556237083 &  0.0556237083 &  0.0556237083 &  0.0556237083 &  0.0556237083 &  0.0556237083 &  0.0556237083 &  0.0556237083 &  0.0556237083 &  0.0556237083 &  0.0556237083 &  0.0556237083 &  0.0556237083 &  0.0556237083 &  0.0556237083 &  0.0556237083 &  0.0556237083 &  0.0556237083 &  0.0556237083 &  0.0556237083 &  0.0556237083 &  0.0556237083 &  0.0556237083 &  0.0556237083 &  0.0556237083 &  0.0556237083 &  0.0556237083 &  0.0556237083 &  0.0556237083 &  0.0556237083 &  0.0556237083 &  0.0556237083 &  0.0556237083 &  0.0556237083 &  0.0556237083 &  0.0556237083 &  0.0556237083 &  0.0556237083 &  0.0556237083\\\\\n",
       "\t  0.0117271136 &  0.0117271136 &  0.0117271136 &  0.0117271136 &  0.0117271136 &  0.0117271136 &  0.0117271136 &  0.0117271136 &  0.0117271136 &  0.0117271136 &  0.0117271136 &  0.0117271136 &  0.0117271136 &  0.0117271136 &  0.0117271136 &  0.0117271136 &  0.0117271136 &  0.0117271136 &  0.0117271136 &  0.0117271136 &  0.0117271136 &  0.0117271136 &  0.0117271136 &  0.0117271136 &  0.0117271136 &  0.0117271136 &  0.0117271136 &  0.0117271136 &  0.0117271136 &  0.0117271136 &  0.0117271136 &  0.0117271136 &  0.0117271136 &  0.0117271136 &  0.0117271136 &  0.0117271136 &  0.0117271136 &  0.0117271136 &  0.0117271136 &  0.0117271136 &  0.0117271136 &  0.0117271136 &  0.0117271136 &  0.0117271136 &  0.0117271136 &  0.0117271136 &  0.0117271136 &  0.0117271136\\\\\n",
       "\\end{tabular}\n"
      ],
      "text/markdown": [
       "\n",
       "A matrix: 31 × 48 of type dbl\n",
       "\n",
       "| -0.0102360210 | -0.0102360210 | -0.0102360210 | -0.0102360210 | -0.0102360210 | -0.0102360210 | -0.0102360210 | -0.0102360210 | -0.0102360210 | -0.0102360210 | ⋯ | -0.0102360210 | -0.0102360210 | -0.0102360210 | -0.0102360210 | -0.0102360210 | -0.0102360210 | -0.0102360210 | -0.0102360210 | -0.0102360210 | -0.0102360210 |\n",
       "|  0.0010955080 |  0.0010955080 |  0.0010955080 |  0.0010955080 |  0.0010955080 |  0.0010955080 |  0.0010955080 |  0.0010955080 |  0.0010955080 |  0.0010955080 | ⋯ |  0.0010955080 |  0.0010955080 |  0.0010955080 |  0.0010955080 |  0.0010955080 |  0.0010955080 |  0.0010955080 |  0.0010955080 |  0.0010955080 |  0.0010955080 |\n",
       "| -0.0244812786 | -0.0244812786 | -0.0244812786 | -0.0244812786 | -0.0244812786 | -0.0244812786 | -0.0244812786 | -0.0244812786 | -0.0244812786 | -0.0244812786 | ⋯ | -0.0244812786 | -0.0244812786 | -0.0244812786 | -0.0244812786 | -0.0244812786 | -0.0244812786 | -0.0244812786 | -0.0244812786 | -0.0244812786 | -0.0244812786 |\n",
       "| -0.1021663612 | -0.1021663612 | -0.1021663612 | -0.1021663612 | -0.1021663612 | -0.1021663612 | -0.1021663612 | -0.1021663612 | -0.1021663612 | -0.1021663612 | ⋯ | -0.1021663612 | -0.1021663612 | -0.1021663612 | -0.1021663612 | -0.1021663612 | -0.1021663612 | -0.1021663612 | -0.1021663612 | -0.1021663612 | -0.1021663612 |\n",
       "| -0.0025637827 | -0.0025637827 | -0.0025637827 | -0.0025637827 | -0.0025637827 | -0.0025637827 | -0.0025637827 | -0.0025637827 | -0.0025637827 | -0.0025637827 | ⋯ | -0.0025637827 | -0.0025637827 | -0.0025637827 | -0.0025637827 | -0.0025637827 | -0.0025637827 | -0.0025637827 | -0.0025637827 | -0.0025637827 | -0.0025637827 |\n",
       "| -0.0297592720 | -0.0297592720 | -0.0297592720 | -0.0297592720 | -0.0297592720 | -0.0297592720 | -0.0297592720 | -0.0297592720 | -0.0297592720 | -0.0297592720 | ⋯ | -0.0297592720 | -0.0297592720 | -0.0297592720 | -0.0297592720 | -0.0297592720 | -0.0297592720 | -0.0297592720 | -0.0297592720 | -0.0297592720 | -0.0297592720 |\n",
       "| -0.0492844817 | -0.0492844817 | -0.0492844817 | -0.0492844817 | -0.0492844817 | -0.0492844817 | -0.0492844817 | -0.0492844817 | -0.0492844817 | -0.0492844817 | ⋯ | -0.0492844817 | -0.0492844817 | -0.0492844817 | -0.0492844817 | -0.0492844817 | -0.0492844817 | -0.0492844817 | -0.0492844817 | -0.0492844817 | -0.0492844817 |\n",
       "|  0.0051548909 |  0.0051548909 |  0.0051548909 |  0.0051548909 |  0.0051548909 |  0.0051548909 |  0.0051548909 |  0.0051548909 |  0.0051548909 |  0.0051548909 | ⋯ |  0.0051548909 |  0.0051548909 |  0.0051548909 |  0.0051548909 |  0.0051548909 |  0.0051548909 |  0.0051548909 |  0.0051548909 |  0.0051548909 |  0.0051548909 |\n",
       "|  0.1125793254 |  0.1125793254 |  0.1125793254 |  0.1125793254 |  0.1125793254 |  0.1125793254 |  0.1125793254 |  0.1125793254 |  0.1125793254 |  0.1125793254 | ⋯ |  0.1125793254 |  0.1125793254 |  0.1125793254 |  0.1125793254 |  0.1125793254 |  0.1125793254 |  0.1125793254 |  0.1125793254 |  0.1125793254 |  0.1125793254 |\n",
       "|  0.0166847921 |  0.0166847921 |  0.0166847921 |  0.0166847921 |  0.0166847921 |  0.0166847921 |  0.0166847921 |  0.0166847921 |  0.0166847921 |  0.0166847921 | ⋯ |  0.0166847921 |  0.0166847921 |  0.0166847921 |  0.0166847921 |  0.0166847921 |  0.0166847921 |  0.0166847921 |  0.0166847921 |  0.0166847921 |  0.0166847921 |\n",
       "| -0.6388817275 | -0.6388817275 | -0.6388817275 | -0.6388817275 | -0.6388817275 | -0.6388817275 | -0.6388817275 | -0.6388817275 | -0.6388817275 | -0.6388817275 | ⋯ | -0.6388817275 | -0.6388817275 | -0.6388817275 | -0.6388817275 | -0.6388817275 | -0.6388817275 | -0.6388817275 | -0.6388817275 | -0.6388817275 | -0.6388817275 |\n",
       "|  0.1487638628 |  0.1487638628 |  0.1487638628 |  0.1487638628 |  0.1487638628 |  0.1487638628 |  0.1487638628 |  0.1487638628 |  0.1487638628 |  0.1487638628 | ⋯ |  0.1487638628 |  0.1487638628 |  0.1487638628 |  0.1487638628 |  0.1487638628 |  0.1487638628 |  0.1487638628 |  0.1487638628 |  0.1487638628 |  0.1487638628 |\n",
       "| -0.0952224856 | -0.0952224856 | -0.0952224856 | -0.0952224856 | -0.0952224856 | -0.0952224856 | -0.0952224856 | -0.0952224856 | -0.0952224856 | -0.0952224856 | ⋯ | -0.0952224856 | -0.0952224856 | -0.0952224856 | -0.0952224856 | -0.0952224856 | -0.0952224856 | -0.0952224856 | -0.0952224856 | -0.0952224856 | -0.0952224856 |\n",
       "| -0.0670452695 | -0.0670452695 | -0.0670452695 | -0.0670452695 | -0.0670452695 | -0.0670452695 | -0.0670452695 | -0.0670452695 | -0.0670452695 | -0.0670452695 | ⋯ | -0.0670452695 | -0.0670452695 | -0.0670452695 | -0.0670452695 | -0.0670452695 | -0.0670452695 | -0.0670452695 | -0.0670452695 | -0.0670452695 | -0.0670452695 |\n",
       "|  0.1309136470 |  0.1309136470 |  0.1309136470 |  0.1309136470 |  0.1309136470 |  0.1309136470 |  0.1309136470 |  0.1309136470 |  0.1309136470 |  0.1309136470 | ⋯ |  0.1309136470 |  0.1309136470 |  0.1309136470 |  0.1309136470 |  0.1309136470 |  0.1309136470 |  0.1309136470 |  0.1309136470 |  0.1309136470 |  0.1309136470 |\n",
       "| -0.1740581090 | -0.1740581090 | -0.1740581090 | -0.1740581090 | -0.1740581090 | -0.1740581090 | -0.1740581090 | -0.1740581090 | -0.1740581090 | -0.1740581090 | ⋯ | -0.1740581090 | -0.1740581090 | -0.1740581090 | -0.1740581090 | -0.1740581090 | -0.1740581090 | -0.1740581090 | -0.1740581090 | -0.1740581090 | -0.1740581090 |\n",
       "|  0.1047166113 |  0.1047166113 |  0.1047166113 |  0.1047166113 |  0.1047166113 |  0.1047166113 |  0.1047166113 |  0.1047166113 |  0.1047166113 |  0.1047166113 | ⋯ |  0.1047166113 |  0.1047166113 |  0.1047166113 |  0.1047166113 |  0.1047166113 |  0.1047166113 |  0.1047166113 |  0.1047166113 |  0.1047166113 |  0.1047166113 |\n",
       "|  0.1143452741 |  0.1143452741 |  0.1143452741 |  0.1143452741 |  0.1143452741 |  0.1143452741 |  0.1143452741 |  0.1143452741 |  0.1143452741 |  0.1143452741 | ⋯ |  0.1143452741 |  0.1143452741 |  0.1143452741 |  0.1143452741 |  0.1143452741 |  0.1143452741 |  0.1143452741 |  0.1143452741 |  0.1143452741 |  0.1143452741 |\n",
       "| -0.1760091295 | -0.1760091295 | -0.1760091295 | -0.1760091295 | -0.1760091295 | -0.1760091295 | -0.1760091295 | -0.1760091295 | -0.1760091295 | -0.1760091295 | ⋯ | -0.1760091295 | -0.1760091295 | -0.1760091295 | -0.1760091295 | -0.1760091295 | -0.1760091295 | -0.1760091295 | -0.1760091295 | -0.1760091295 | -0.1760091295 |\n",
       "| -0.1794836161 | -0.1794836161 | -0.1794836161 | -0.1794836161 | -0.1794836161 | -0.1794836161 | -0.1794836161 | -0.1794836161 | -0.1794836161 | -0.1794836161 | ⋯ | -0.1794836161 | -0.1794836161 | -0.1794836161 | -0.1794836161 | -0.1794836161 | -0.1794836161 | -0.1794836161 | -0.1794836161 | -0.1794836161 | -0.1794836161 |\n",
       "|  0.0182485968 |  0.0182485968 |  0.0182485968 |  0.0182485968 |  0.0182485968 |  0.0182485968 |  0.0182485968 |  0.0182485968 |  0.0182485968 |  0.0182485968 | ⋯ |  0.0182485968 |  0.0182485968 |  0.0182485968 |  0.0182485968 |  0.0182485968 |  0.0182485968 |  0.0182485968 |  0.0182485968 |  0.0182485968 |  0.0182485968 |\n",
       "| -0.3641060429 | -0.3641060429 | -0.3641060429 | -0.3641060429 | -0.3641060429 | -0.3641060429 | -0.3641060429 | -0.3641060429 | -0.3641060429 | -0.3641060429 | ⋯ | -0.3641060429 | -0.3641060429 | -0.3641060429 | -0.3641060429 | -0.3641060429 | -0.3641060429 | -0.3641060429 | -0.3641060429 | -0.3641060429 | -0.3641060429 |\n",
       "| -0.1778292554 | -0.1778292554 | -0.1778292554 | -0.1778292554 | -0.1778292554 | -0.1778292554 | -0.1778292554 | -0.1778292554 | -0.1778292554 | -0.1778292554 | ⋯ | -0.1778292554 | -0.1778292554 | -0.1778292554 | -0.1778292554 | -0.1778292554 | -0.1778292554 | -0.1778292554 | -0.1778292554 | -0.1778292554 | -0.1778292554 |\n",
       "| -0.1729697338 | -0.1729697338 | -0.1729697338 | -0.1729697338 | -0.1729697338 | -0.1729697338 | -0.1729697338 | -0.1729697338 | -0.1729697338 | -0.1729697338 | ⋯ | -0.1729697338 | -0.1729697338 | -0.1729697338 | -0.1729697338 | -0.1729697338 | -0.1729697338 | -0.1729697338 | -0.1729697338 | -0.1729697338 | -0.1729697338 |\n",
       "| -0.0459085296 | -0.0459085296 | -0.0459085296 | -0.0459085296 | -0.0459085296 | -0.0459085296 | -0.0459085296 | -0.0459085296 | -0.0459085296 | -0.0459085296 | ⋯ | -0.0459085296 | -0.0459085296 | -0.0459085296 | -0.0459085296 | -0.0459085296 | -0.0459085296 | -0.0459085296 | -0.0459085296 | -0.0459085296 | -0.0459085296 |\n",
       "| -0.0608545344 | -0.0608545344 | -0.0608545344 | -0.0608545344 | -0.0608545344 | -0.0608545344 | -0.0608545344 | -0.0608545344 | -0.0608545344 | -0.0608545344 | ⋯ | -0.0608545344 | -0.0608545344 | -0.0608545344 | -0.0608545344 | -0.0608545344 | -0.0608545344 | -0.0608545344 | -0.0608545344 | -0.0608545344 | -0.0608545344 |\n",
       "|  0.0051137134 |  0.0051137134 |  0.0051137134 |  0.0051137134 |  0.0051137134 |  0.0051137134 |  0.0051137134 |  0.0051137134 |  0.0051137134 |  0.0051137134 | ⋯ |  0.0051137134 |  0.0051137134 |  0.0051137134 |  0.0051137134 |  0.0051137134 |  0.0051137134 |  0.0051137134 |  0.0051137134 |  0.0051137134 |  0.0051137134 |\n",
       "| -0.0005267655 | -0.0005267655 | -0.0005267655 | -0.0005267655 | -0.0005267655 | -0.0005267655 | -0.0005267655 | -0.0005267655 | -0.0005267655 | -0.0005267655 | ⋯ | -0.0005267655 | -0.0005267655 | -0.0005267655 | -0.0005267655 | -0.0005267655 | -0.0005267655 | -0.0005267655 | -0.0005267655 | -0.0005267655 | -0.0005267655 |\n",
       "| -0.0012721243 | -0.0012721243 | -0.0012721243 | -0.0012721243 | -0.0012721243 | -0.0012721243 | -0.0012721243 | -0.0012721243 | -0.0012721243 | -0.0012721243 | ⋯ | -0.0012721243 | -0.0012721243 | -0.0012721243 | -0.0012721243 | -0.0012721243 | -0.0012721243 | -0.0012721243 | -0.0012721243 | -0.0012721243 | -0.0012721243 |\n",
       "|  0.0556237083 |  0.0556237083 |  0.0556237083 |  0.0556237083 |  0.0556237083 |  0.0556237083 |  0.0556237083 |  0.0556237083 |  0.0556237083 |  0.0556237083 | ⋯ |  0.0556237083 |  0.0556237083 |  0.0556237083 |  0.0556237083 |  0.0556237083 |  0.0556237083 |  0.0556237083 |  0.0556237083 |  0.0556237083 |  0.0556237083 |\n",
       "|  0.0117271136 |  0.0117271136 |  0.0117271136 |  0.0117271136 |  0.0117271136 |  0.0117271136 |  0.0117271136 |  0.0117271136 |  0.0117271136 |  0.0117271136 | ⋯ |  0.0117271136 |  0.0117271136 |  0.0117271136 |  0.0117271136 |  0.0117271136 |  0.0117271136 |  0.0117271136 |  0.0117271136 |  0.0117271136 |  0.0117271136 |\n",
       "\n"
      ],
      "text/plain": [
       "      [,1]          [,2]          [,3]          [,4]          [,5]         \n",
       " [1,] -0.0102360210 -0.0102360210 -0.0102360210 -0.0102360210 -0.0102360210\n",
       " [2,]  0.0010955080  0.0010955080  0.0010955080  0.0010955080  0.0010955080\n",
       " [3,] -0.0244812786 -0.0244812786 -0.0244812786 -0.0244812786 -0.0244812786\n",
       " [4,] -0.1021663612 -0.1021663612 -0.1021663612 -0.1021663612 -0.1021663612\n",
       " [5,] -0.0025637827 -0.0025637827 -0.0025637827 -0.0025637827 -0.0025637827\n",
       " [6,] -0.0297592720 -0.0297592720 -0.0297592720 -0.0297592720 -0.0297592720\n",
       " [7,] -0.0492844817 -0.0492844817 -0.0492844817 -0.0492844817 -0.0492844817\n",
       " [8,]  0.0051548909  0.0051548909  0.0051548909  0.0051548909  0.0051548909\n",
       " [9,]  0.1125793254  0.1125793254  0.1125793254  0.1125793254  0.1125793254\n",
       "[10,]  0.0166847921  0.0166847921  0.0166847921  0.0166847921  0.0166847921\n",
       "[11,] -0.6388817275 -0.6388817275 -0.6388817275 -0.6388817275 -0.6388817275\n",
       "[12,]  0.1487638628  0.1487638628  0.1487638628  0.1487638628  0.1487638628\n",
       "[13,] -0.0952224856 -0.0952224856 -0.0952224856 -0.0952224856 -0.0952224856\n",
       "[14,] -0.0670452695 -0.0670452695 -0.0670452695 -0.0670452695 -0.0670452695\n",
       "[15,]  0.1309136470  0.1309136470  0.1309136470  0.1309136470  0.1309136470\n",
       "[16,] -0.1740581090 -0.1740581090 -0.1740581090 -0.1740581090 -0.1740581090\n",
       "[17,]  0.1047166113  0.1047166113  0.1047166113  0.1047166113  0.1047166113\n",
       "[18,]  0.1143452741  0.1143452741  0.1143452741  0.1143452741  0.1143452741\n",
       "[19,] -0.1760091295 -0.1760091295 -0.1760091295 -0.1760091295 -0.1760091295\n",
       "[20,] -0.1794836161 -0.1794836161 -0.1794836161 -0.1794836161 -0.1794836161\n",
       "[21,]  0.0182485968  0.0182485968  0.0182485968  0.0182485968  0.0182485968\n",
       "[22,] -0.3641060429 -0.3641060429 -0.3641060429 -0.3641060429 -0.3641060429\n",
       "[23,] -0.1778292554 -0.1778292554 -0.1778292554 -0.1778292554 -0.1778292554\n",
       "[24,] -0.1729697338 -0.1729697338 -0.1729697338 -0.1729697338 -0.1729697338\n",
       "[25,] -0.0459085296 -0.0459085296 -0.0459085296 -0.0459085296 -0.0459085296\n",
       "[26,] -0.0608545344 -0.0608545344 -0.0608545344 -0.0608545344 -0.0608545344\n",
       "[27,]  0.0051137134  0.0051137134  0.0051137134  0.0051137134  0.0051137134\n",
       "[28,] -0.0005267655 -0.0005267655 -0.0005267655 -0.0005267655 -0.0005267655\n",
       "[29,] -0.0012721243 -0.0012721243 -0.0012721243 -0.0012721243 -0.0012721243\n",
       "[30,]  0.0556237083  0.0556237083  0.0556237083  0.0556237083  0.0556237083\n",
       "[31,]  0.0117271136  0.0117271136  0.0117271136  0.0117271136  0.0117271136\n",
       "      [,6]          [,7]          [,8]          [,9]          [,10]        \n",
       " [1,] -0.0102360210 -0.0102360210 -0.0102360210 -0.0102360210 -0.0102360210\n",
       " [2,]  0.0010955080  0.0010955080  0.0010955080  0.0010955080  0.0010955080\n",
       " [3,] -0.0244812786 -0.0244812786 -0.0244812786 -0.0244812786 -0.0244812786\n",
       " [4,] -0.1021663612 -0.1021663612 -0.1021663612 -0.1021663612 -0.1021663612\n",
       " [5,] -0.0025637827 -0.0025637827 -0.0025637827 -0.0025637827 -0.0025637827\n",
       " [6,] -0.0297592720 -0.0297592720 -0.0297592720 -0.0297592720 -0.0297592720\n",
       " [7,] -0.0492844817 -0.0492844817 -0.0492844817 -0.0492844817 -0.0492844817\n",
       " [8,]  0.0051548909  0.0051548909  0.0051548909  0.0051548909  0.0051548909\n",
       " [9,]  0.1125793254  0.1125793254  0.1125793254  0.1125793254  0.1125793254\n",
       "[10,]  0.0166847921  0.0166847921  0.0166847921  0.0166847921  0.0166847921\n",
       "[11,] -0.6388817275 -0.6388817275 -0.6388817275 -0.6388817275 -0.6388817275\n",
       "[12,]  0.1487638628  0.1487638628  0.1487638628  0.1487638628  0.1487638628\n",
       "[13,] -0.0952224856 -0.0952224856 -0.0952224856 -0.0952224856 -0.0952224856\n",
       "[14,] -0.0670452695 -0.0670452695 -0.0670452695 -0.0670452695 -0.0670452695\n",
       "[15,]  0.1309136470  0.1309136470  0.1309136470  0.1309136470  0.1309136470\n",
       "[16,] -0.1740581090 -0.1740581090 -0.1740581090 -0.1740581090 -0.1740581090\n",
       "[17,]  0.1047166113  0.1047166113  0.1047166113  0.1047166113  0.1047166113\n",
       "[18,]  0.1143452741  0.1143452741  0.1143452741  0.1143452741  0.1143452741\n",
       "[19,] -0.1760091295 -0.1760091295 -0.1760091295 -0.1760091295 -0.1760091295\n",
       "[20,] -0.1794836161 -0.1794836161 -0.1794836161 -0.1794836161 -0.1794836161\n",
       "[21,]  0.0182485968  0.0182485968  0.0182485968  0.0182485968  0.0182485968\n",
       "[22,] -0.3641060429 -0.3641060429 -0.3641060429 -0.3641060429 -0.3641060429\n",
       "[23,] -0.1778292554 -0.1778292554 -0.1778292554 -0.1778292554 -0.1778292554\n",
       "[24,] -0.1729697338 -0.1729697338 -0.1729697338 -0.1729697338 -0.1729697338\n",
       "[25,] -0.0459085296 -0.0459085296 -0.0459085296 -0.0459085296 -0.0459085296\n",
       "[26,] -0.0608545344 -0.0608545344 -0.0608545344 -0.0608545344 -0.0608545344\n",
       "[27,]  0.0051137134  0.0051137134  0.0051137134  0.0051137134  0.0051137134\n",
       "[28,] -0.0005267655 -0.0005267655 -0.0005267655 -0.0005267655 -0.0005267655\n",
       "[29,] -0.0012721243 -0.0012721243 -0.0012721243 -0.0012721243 -0.0012721243\n",
       "[30,]  0.0556237083  0.0556237083  0.0556237083  0.0556237083  0.0556237083\n",
       "[31,]  0.0117271136  0.0117271136  0.0117271136  0.0117271136  0.0117271136\n",
       "      [,11] [,12]         [,13]         [,14]         [,15]        \n",
       " [1,] ⋯     -0.0102360210 -0.0102360210 -0.0102360210 -0.0102360210\n",
       " [2,] ⋯      0.0010955080  0.0010955080  0.0010955080  0.0010955080\n",
       " [3,] ⋯     -0.0244812786 -0.0244812786 -0.0244812786 -0.0244812786\n",
       " [4,] ⋯     -0.1021663612 -0.1021663612 -0.1021663612 -0.1021663612\n",
       " [5,] ⋯     -0.0025637827 -0.0025637827 -0.0025637827 -0.0025637827\n",
       " [6,] ⋯     -0.0297592720 -0.0297592720 -0.0297592720 -0.0297592720\n",
       " [7,] ⋯     -0.0492844817 -0.0492844817 -0.0492844817 -0.0492844817\n",
       " [8,] ⋯      0.0051548909  0.0051548909  0.0051548909  0.0051548909\n",
       " [9,] ⋯      0.1125793254  0.1125793254  0.1125793254  0.1125793254\n",
       "[10,] ⋯      0.0166847921  0.0166847921  0.0166847921  0.0166847921\n",
       "[11,] ⋯     -0.6388817275 -0.6388817275 -0.6388817275 -0.6388817275\n",
       "[12,] ⋯      0.1487638628  0.1487638628  0.1487638628  0.1487638628\n",
       "[13,] ⋯     -0.0952224856 -0.0952224856 -0.0952224856 -0.0952224856\n",
       "[14,] ⋯     -0.0670452695 -0.0670452695 -0.0670452695 -0.0670452695\n",
       "[15,] ⋯      0.1309136470  0.1309136470  0.1309136470  0.1309136470\n",
       "[16,] ⋯     -0.1740581090 -0.1740581090 -0.1740581090 -0.1740581090\n",
       "[17,] ⋯      0.1047166113  0.1047166113  0.1047166113  0.1047166113\n",
       "[18,] ⋯      0.1143452741  0.1143452741  0.1143452741  0.1143452741\n",
       "[19,] ⋯     -0.1760091295 -0.1760091295 -0.1760091295 -0.1760091295\n",
       "[20,] ⋯     -0.1794836161 -0.1794836161 -0.1794836161 -0.1794836161\n",
       "[21,] ⋯      0.0182485968  0.0182485968  0.0182485968  0.0182485968\n",
       "[22,] ⋯     -0.3641060429 -0.3641060429 -0.3641060429 -0.3641060429\n",
       "[23,] ⋯     -0.1778292554 -0.1778292554 -0.1778292554 -0.1778292554\n",
       "[24,] ⋯     -0.1729697338 -0.1729697338 -0.1729697338 -0.1729697338\n",
       "[25,] ⋯     -0.0459085296 -0.0459085296 -0.0459085296 -0.0459085296\n",
       "[26,] ⋯     -0.0608545344 -0.0608545344 -0.0608545344 -0.0608545344\n",
       "[27,] ⋯      0.0051137134  0.0051137134  0.0051137134  0.0051137134\n",
       "[28,] ⋯     -0.0005267655 -0.0005267655 -0.0005267655 -0.0005267655\n",
       "[29,] ⋯     -0.0012721243 -0.0012721243 -0.0012721243 -0.0012721243\n",
       "[30,] ⋯      0.0556237083  0.0556237083  0.0556237083  0.0556237083\n",
       "[31,] ⋯      0.0117271136  0.0117271136  0.0117271136  0.0117271136\n",
       "      [,16]         [,17]         [,18]         [,19]         [,20]        \n",
       " [1,] -0.0102360210 -0.0102360210 -0.0102360210 -0.0102360210 -0.0102360210\n",
       " [2,]  0.0010955080  0.0010955080  0.0010955080  0.0010955080  0.0010955080\n",
       " [3,] -0.0244812786 -0.0244812786 -0.0244812786 -0.0244812786 -0.0244812786\n",
       " [4,] -0.1021663612 -0.1021663612 -0.1021663612 -0.1021663612 -0.1021663612\n",
       " [5,] -0.0025637827 -0.0025637827 -0.0025637827 -0.0025637827 -0.0025637827\n",
       " [6,] -0.0297592720 -0.0297592720 -0.0297592720 -0.0297592720 -0.0297592720\n",
       " [7,] -0.0492844817 -0.0492844817 -0.0492844817 -0.0492844817 -0.0492844817\n",
       " [8,]  0.0051548909  0.0051548909  0.0051548909  0.0051548909  0.0051548909\n",
       " [9,]  0.1125793254  0.1125793254  0.1125793254  0.1125793254  0.1125793254\n",
       "[10,]  0.0166847921  0.0166847921  0.0166847921  0.0166847921  0.0166847921\n",
       "[11,] -0.6388817275 -0.6388817275 -0.6388817275 -0.6388817275 -0.6388817275\n",
       "[12,]  0.1487638628  0.1487638628  0.1487638628  0.1487638628  0.1487638628\n",
       "[13,] -0.0952224856 -0.0952224856 -0.0952224856 -0.0952224856 -0.0952224856\n",
       "[14,] -0.0670452695 -0.0670452695 -0.0670452695 -0.0670452695 -0.0670452695\n",
       "[15,]  0.1309136470  0.1309136470  0.1309136470  0.1309136470  0.1309136470\n",
       "[16,] -0.1740581090 -0.1740581090 -0.1740581090 -0.1740581090 -0.1740581090\n",
       "[17,]  0.1047166113  0.1047166113  0.1047166113  0.1047166113  0.1047166113\n",
       "[18,]  0.1143452741  0.1143452741  0.1143452741  0.1143452741  0.1143452741\n",
       "[19,] -0.1760091295 -0.1760091295 -0.1760091295 -0.1760091295 -0.1760091295\n",
       "[20,] -0.1794836161 -0.1794836161 -0.1794836161 -0.1794836161 -0.1794836161\n",
       "[21,]  0.0182485968  0.0182485968  0.0182485968  0.0182485968  0.0182485968\n",
       "[22,] -0.3641060429 -0.3641060429 -0.3641060429 -0.3641060429 -0.3641060429\n",
       "[23,] -0.1778292554 -0.1778292554 -0.1778292554 -0.1778292554 -0.1778292554\n",
       "[24,] -0.1729697338 -0.1729697338 -0.1729697338 -0.1729697338 -0.1729697338\n",
       "[25,] -0.0459085296 -0.0459085296 -0.0459085296 -0.0459085296 -0.0459085296\n",
       "[26,] -0.0608545344 -0.0608545344 -0.0608545344 -0.0608545344 -0.0608545344\n",
       "[27,]  0.0051137134  0.0051137134  0.0051137134  0.0051137134  0.0051137134\n",
       "[28,] -0.0005267655 -0.0005267655 -0.0005267655 -0.0005267655 -0.0005267655\n",
       "[29,] -0.0012721243 -0.0012721243 -0.0012721243 -0.0012721243 -0.0012721243\n",
       "[30,]  0.0556237083  0.0556237083  0.0556237083  0.0556237083  0.0556237083\n",
       "[31,]  0.0117271136  0.0117271136  0.0117271136  0.0117271136  0.0117271136\n",
       "      [,21]        \n",
       " [1,] -0.0102360210\n",
       " [2,]  0.0010955080\n",
       " [3,] -0.0244812786\n",
       " [4,] -0.1021663612\n",
       " [5,] -0.0025637827\n",
       " [6,] -0.0297592720\n",
       " [7,] -0.0492844817\n",
       " [8,]  0.0051548909\n",
       " [9,]  0.1125793254\n",
       "[10,]  0.0166847921\n",
       "[11,] -0.6388817275\n",
       "[12,]  0.1487638628\n",
       "[13,] -0.0952224856\n",
       "[14,] -0.0670452695\n",
       "[15,]  0.1309136470\n",
       "[16,] -0.1740581090\n",
       "[17,]  0.1047166113\n",
       "[18,]  0.1143452741\n",
       "[19,] -0.1760091295\n",
       "[20,] -0.1794836161\n",
       "[21,]  0.0182485968\n",
       "[22,] -0.3641060429\n",
       "[23,] -0.1778292554\n",
       "[24,] -0.1729697338\n",
       "[25,] -0.0459085296\n",
       "[26,] -0.0608545344\n",
       "[27,]  0.0051137134\n",
       "[28,] -0.0005267655\n",
       "[29,] -0.0012721243\n",
       "[30,]  0.0556237083\n",
       "[31,]  0.0117271136"
      ]
     },
     "metadata": {},
     "output_type": "display_data"
    }
   ],
   "source": [
    "check_weights(\"ENSG00000237491.4\")"
   ]
  }
 ],
 "metadata": {
  "kernelspec": {
   "display_name": "R",
   "language": "R",
   "name": "ir"
  },
  "language_info": {
   "codemirror_mode": "r",
   "file_extension": ".r",
   "mimetype": "text/x-r-source",
   "name": "R",
   "pygments_lexer": "r",
   "version": "3.5.0"
  }
 },
 "nbformat": 4,
 "nbformat_minor": 4
}
