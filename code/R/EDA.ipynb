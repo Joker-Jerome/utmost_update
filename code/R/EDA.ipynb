{
 "cells": [
  {
   "cell_type": "markdown",
   "metadata": {},
   "source": [
    "### EDA"
   ]
  },
  {
   "cell_type": "code",
   "execution_count": 1,
   "metadata": {},
   "outputs": [],
   "source": [
    "# library\n",
    "options(stringsAsFactors=F)\n",
    "suppressMessages(library(\"dplyr\"))\n",
    "suppressMessages(library(\"data.table\"))"
   ]
  },
  {
   "cell_type": "code",
   "execution_count": null,
   "metadata": {},
   "outputs": [],
   "source": [
    "omni_df <- as.data.frame(fread(\"/ysm-gpfs/pi/zhao/zy92/ncbi/phg000520.v2.GTEx_MidPoint_Imputation.genotype-calls-vcf.c1/GTEx_Analysis_20150112_OMNI_2.5M_5M_450Indiv_chr1to22_genot_imput_info04_maf01_HWEp1E6_ConstrVarIDs.vep.vcf\"))"
   ]
  },
  {
   "cell_type": "code",
   "execution_count": 6,
   "metadata": {},
   "outputs": [],
   "source": [
    "omni_df <- as.data.frame(fread(\"/ysm-gpfs/pi/zhao/zy92/ncbi/phg000520.v2.GTEx_MidPoint_Imputation.genotype-calls-vcf.c1/GTEx_Analysis_20150112_OMNI_2.5M_5M_450Indiv_chr1to22_genot_imput_info04_maf01_HWEp1E6_ConstrVarIDs.vep.sample.vcf\",\n",
    "                              skip = \"##\"))"
   ]
  },
  {
   "cell_type": "code",
   "execution_count": 7,
   "metadata": {},
   "outputs": [
    {
     "data": {
      "text/html": [
       "<ol class=list-inline>\n",
       "\t<li>76</li>\n",
       "\t<li>459</li>\n",
       "</ol>\n"
      ],
      "text/latex": [
       "\\begin{enumerate*}\n",
       "\\item 76\n",
       "\\item 459\n",
       "\\end{enumerate*}\n"
      ],
      "text/markdown": [
       "1. 76\n",
       "2. 459\n",
       "\n",
       "\n"
      ],
      "text/plain": [
       "[1]  76 459"
      ]
     },
     "metadata": {},
     "output_type": "display_data"
    }
   ],
   "source": [
    "dim(omni_df)"
   ]
  },
  {
   "cell_type": "code",
   "execution_count": 15,
   "metadata": {},
   "outputs": [
    {
     "data": {
      "text/html": [
       "<table>\n",
       "<thead><tr><th scope=col>#CHROM</th><th scope=col>POS</th><th scope=col>ID</th><th scope=col>REF</th><th scope=col>ALT</th><th scope=col>QUAL</th><th scope=col>FILTER</th><th scope=col>INFO</th><th scope=col>FORMAT</th><th scope=col>GTEX-P4PP-0004-SM-2H2WW</th><th scope=col>⋯</th><th scope=col>GTEX-YF7O-0002-SM-4YUUX</th><th scope=col>GTEX-11TTK-0002-SM-5DWT4</th><th scope=col>GTEX-Y3IK-0004-SM-4YUX2</th><th scope=col>GTEX-12WSE-0002-SM-5DWRT</th><th scope=col>GTEX-1212Z-0004-SM-5DWTI</th><th scope=col>GTEX-YEC3-0004-SM-4YUXB</th><th scope=col>GTEX-11ONC-0003-SM-5DWT5</th><th scope=col>GTEX-ZZPT-0002-SM-5DWTU</th><th scope=col>GTEX-ZVTK-0002-SM-4YUW7</th><th scope=col>GTEX-XBEC-0002-SM-4YUVW_1</th></tr></thead>\n",
       "<tbody>\n",
       "\t<tr><td>1                                                                                                                                                                                                                                                                                                                                                                                                                                                                                                                                                                                           </td><td>30923                                                                                                                                                                                                                                                                                                                                                                                                                                                                                                                                                                                       </td><td>1_30923_G_T_b37                                                                                                                                                                                                                                                                                                                                                                                                                                                                                                                                                                             </td><td>G                                                                                                                                                                                                                                                                                                                                                                                                                                                                                                                                                                                           </td><td>T                                                                                                                                                                                                                                                                                                                                                                                                                                                                                                                                                                                           </td><td>.                                                                                                                                                                                                                                                                                                                                                                                                                                                                                                                                                                                           </td><td>PASS                                                                                                                                                                                                                                                                                                                                                                                                                                                                                                                                                                                        </td><td>EXP_FREQ_A1=0.732;IMPINFO=0.446;CERTAINTY=0.730;TYPE=0;MISS=0.7867;HW=0.31695;CSQ=T|ENSG00000243485|ENST00000473358|Transcript|intron_variant&amp;non_coding_transcript_variant||||||rs140337953|1||1|MIR1302-10|HGNC|38233|lincRNA|YES|||||||||2/2||ENST00000473358.1:n.591-53G&gt;T||G:0.2746|T:0.48|T:0.80|T:0.89|T:0.73|||||||||||||,T|ENSG00000243485|ENST00000469289|Transcript|intron_variant&amp;non_coding_transcript_variant||||||rs140337953|1||1|MIR1302-10|HGNC|38233|lincRNA||||||||||1/1||ENST00000469289.1:n.402-53G&gt;T||G:0.2746|T:0.48|T:0.80|T:0.89|T:0.73|||||||||||||</td><td>GT:GL:DS                                                                                                                                                                                                                                                                                                                                                                                                                                                                                                                                                                                    </td><td>./.:0.006,0.483,0.511:1.505                                                                                                                                                                                                                                                                                                                                                                                                                                                                                                                                                                 </td><td>⋯                                                                                                                                                                                                                                                                                                                                                                                                                                                                                                                                                                                           </td><td>1/1:0.001,0.035,0.964:1.963                                                                                                                                                                                                                                                                                                                                                                                                                                                                                                                                                                 </td><td>./.:0.004,0.324,0.672:1.668                                                                                                                                                                                                                                                                                                                                                                                                                                                                                                                                                                 </td><td>1/1:0.001,0.056,0.943:1.942                                                                                                                                                                                                                                                                                                                                                                                                                                                                                                                                                                 </td><td>0/1:0.013,0.948,0.039:1.026                                                                                                                                                                                                                                                                                                                                                                                                                                                                                                                                                                 </td><td>0/1:0.017,0.942,0.041:1.024                                                                                                                                                                                                                                                                                                                                                                                                                                                                                                                                                                 </td><td>./.:0.027,0.358,0.615:1.588                                                                                                                                                                                                                                                                                                                                                                                                                                                                                                                                                                 </td><td>./.:0.016,0.232,0.752:1.736                                                                                                                                                                                                                                                                                                                                                                                                                                                                                                                                                                 </td><td>./.:0.069,0.483,0.448:1.379                                                                                                                                                                                                                                                                                                                                                                                                                                                                                                                                                                 </td><td>./.:0.009,0.366,0.625:1.616                                                                                                                                                                                                                                                                                                                                                                                                                                                                                                                                                                 </td><td>./.:0.003,0.261,0.736:1.733                                                                                                                                                                                                                                                                                                                                                                                                                                                                                                                                                                 </td></tr>\n",
       "\t<tr><td>1                                                                                                                                                                                                                                                                                                                                                                                                                                                                                                                                                                             </td><td>51479                                                                                                                                                                                                                                                                                                                                                                                                                                                                                                                                                                         </td><td>1_51479_T_A_b37                                                                                                                                                                                                                                                                                                                                                                                                                                                                                                                                                               </td><td>T                                                                                                                                                                                                                                                                                                                                                                                                                                                                                                                                                                             </td><td>A                                                                                                                                                                                                                                                                                                                                                                                                                                                                                                                                                                             </td><td>.                                                                                                                                                                                                                                                                                                                                                                                                                                                                                                                                                                             </td><td>PASS                                                                                                                                                                                                                                                                                                                                                                                                                                                                                                                                                                          </td><td>EXP_FREQ_A1=0.182;IMPINFO=0.405;CERTAINTY=0.779;TYPE=0;MISS=0.6600;HW=0.87518                                                                                                                                                                                                                                                                                                                                                                                                                                                                                                 </td><td>GT:GL:DS                                                                                                                                                                                                                                                                                                                                                                                                                                                                                                                                                                      </td><td>./.:0.514,0.481,0.005:0.491                                                                                                                                                                                                                                                                                                                                                                                                                                                                                                                                                   </td><td>⋯                                                                                                                                                                                                                                                                                                                                                                                                                                                                                                                                                                             </td><td>0/0:0.971,0.029,0:0.029                                                                                                                                                                                                                                                                                                                                                                                                                                                                                                                                                       </td><td>./.:0.028,0.696,0.276:1.248                                                                                                                                                                                                                                                                                                                                                                                                                                                                                                                                                   </td><td>0/0:0.968,0.032,0:0.032                                                                                                                                                                                                                                                                                                                                                                                                                                                                                                                                                       </td><td>./.:0.865,0.134,0.001:0.136                                                                                                                                                                                                                                                                                                                                                                                                                                                                                                                                                   </td><td>0/0:0.973,0.027,0:0.027                                                                                                                                                                                                                                                                                                                                                                                                                                                                                                                                                       </td><td>./.:0.759,0.238,0.003:0.244                                                                                                                                                                                                                                                                                                                                                                                                                                                                                                                                                   </td><td>./.:0.741,0.24,0.019:0.278                                                                                                                                                                                                                                                                                                                                                                                                                                                                                                                                                    </td><td>./.:0.449,0.483,0.068:0.619                                                                                                                                                                                                                                                                                                                                                                                                                                                                                                                                                   </td><td>./.:0.641,0.358,0.001:0.360                                                                                                                                                                                                                                                                                                                                                                                                                                                                                                                                                   </td><td>0/0:0.959,0.041,0:0.041                                                                                                                                                                                                                                                                                                                                                                                                                                                                                                                                                       </td></tr>\n",
       "\t<tr><td>1                                                                                                                                                                                                                                                                                                                                                                                                                                                                                                                                                                             </td><td>52058                                                                                                                                                                                                                                                                                                                                                                                                                                                                                                                                                                         </td><td>1_52058_G_C_b37                                                                                                                                                                                                                                                                                                                                                                                                                                                                                                                                                               </td><td>G                                                                                                                                                                                                                                                                                                                                                                                                                                                                                                                                                                             </td><td>C                                                                                                                                                                                                                                                                                                                                                                                                                                                                                                                                                                             </td><td>.                                                                                                                                                                                                                                                                                                                                                                                                                                                                                                                                                                             </td><td>maf05                                                                                                                                                                                                                                                                                                                                                                                                                                                                                                                                                                         </td><td>EXP_FREQ_A1=0.045;IMPINFO=0.473;CERTAINTY=0.945;TYPE=0;MISS=0.1378;HW=1                                                                                                                                                                                                                                                                                                                                                                                                                                                                                                       </td><td>GT:GL:DS                                                                                                                                                                                                                                                                                                                                                                                                                                                                                                                                                                      </td><td>0/0:0.996,0.004,0:0.004                                                                                                                                                                                                                                                                                                                                                                                                                                                                                                                                                       </td><td>⋯                                                                                                                                                                                                                                                                                                                                                                                                                                                                                                                                                                             </td><td>0/0:0.995,0.005,0:0.005                                                                                                                                                                                                                                                                                                                                                                                                                                                                                                                                                       </td><td>0/0:0.981,0.019,0:0.019                                                                                                                                                                                                                                                                                                                                                                                                                                                                                                                                                       </td><td>0/0:0.996,0.004,0:0.004                                                                                                                                                                                                                                                                                                                                                                                                                                                                                                                                                       </td><td>./.:0.878,0.122,0:0.122                                                                                                                                                                                                                                                                                                                                                                                                                                                                                                                                                       </td><td>0/0:0.995,0.005,0:0.005                                                                                                                                                                                                                                                                                                                                                                                                                                                                                                                                                       </td><td>0/0:0.981,0.019,0:0.019                                                                                                                                                                                                                                                                                                                                                                                                                                                                                                                                                       </td><td>0/0:0.966,0.034,0:0.034                                                                                                                                                                                                                                                                                                                                                                                                                                                                                                                                                       </td><td>./.:0.523,0.476,0.001:0.478                                                                                                                                                                                                                                                                                                                                                                                                                                                                                                                                                   </td><td>0/0:0.997,0.003,0:0.003                                                                                                                                                                                                                                                                                                                                                                                                                                                                                                                                                       </td><td>0/0:0.990,0.01,0:0.010                                                                                                                                                                                                                                                                                                                                                                                                                                                                                                                                                        </td></tr>\n",
       "\t<tr><td>1                                                                                                                                                                                                                                                                                                                                                                                                                                                                                                                                                                             </td><td>52238                                                                                                                                                                                                                                                                                                                                                                                                                                                                                                                                                                         </td><td>1_52238_T_G_b37                                                                                                                                                                                                                                                                                                                                                                                                                                                                                                                                                               </td><td>T                                                                                                                                                                                                                                                                                                                                                                                                                                                                                                                                                                             </td><td>G                                                                                                                                                                                                                                                                                                                                                                                                                                                                                                                                                                             </td><td>.                                                                                                                                                                                                                                                                                                                                                                                                                                                                                                                                                                             </td><td>PASS                                                                                                                                                                                                                                                                                                                                                                                                                                                                                                                                                                          </td><td>EXP_FREQ_A1=0.920;IMPINFO=0.481;CERTAINTY=0.906;TYPE=0;MISS=0.2800;HW=1                                                                                                                                                                                                                                                                                                                                                                                                                                                                                                       </td><td>GT:GL:DS                                                                                                                                                                                                                                                                                                                                                                                                                                                                                                                                                                      </td><td>./.:0,0.238,0.762:1.762                                                                                                                                                                                                                                                                                                                                                                                                                                                                                                                                                       </td><td>⋯                                                                                                                                                                                                                                                                                                                                                                                                                                                                                                                                                                             </td><td>1/1:0,0.006,0.994:1.994                                                                                                                                                                                                                                                                                                                                                                                                                                                                                                                                                       </td><td>1/1:0,0.051,0.949:1.949                                                                                                                                                                                                                                                                                                                                                                                                                                                                                                                                                       </td><td>1/1:0,0.013,0.987:1.987                                                                                                                                                                                                                                                                                                                                                                                                                                                                                                                                                       </td><td>1/1:0,0.005,0.995:1.995                                                                                                                                                                                                                                                                                                                                                                                                                                                                                                                                                       </td><td>1/1:0,0.006,0.994:1.994                                                                                                                                                                                                                                                                                                                                                                                                                                                                                                                                                       </td><td>1/1:0,0.005,0.995:1.995                                                                                                                                                                                                                                                                                                                                                                                                                                                                                                                                                       </td><td>1/1:0,0.067,0.933:1.933                                                                                                                                                                                                                                                                                                                                                                                                                                                                                                                                                       </td><td>1/1:0,0.005,0.995:1.995                                                                                                                                                                                                                                                                                                                                                                                                                                                                                                                                                       </td><td>./.:0.067,0.707,0.226:1.159                                                                                                                                                                                                                                                                                                                                                                                                                                                                                                                                                   </td><td>1/1:0,0.007,0.993:1.993                                                                                                                                                                                                                                                                                                                                                                                                                                                                                                                                                       </td></tr>\n",
       "\t<tr><td>1                                                                                                                                                                                                                                                                                                                                                                                                                                                                                                                                                                                                                            </td><td>54490                                                                                                                                                                                                                                                                                                                                                                                                                                                                                                                                                                                                                        </td><td>1_54490_G_A_b37                                                                                                                                                                                                                                                                                                                                                                                                                                                                                                                                                                                                              </td><td>G                                                                                                                                                                                                                                                                                                                                                                                                                                                                                                                                                                                                                            </td><td>A                                                                                                                                                                                                                                                                                                                                                                                                                                                                                                                                                                                                                            </td><td>.                                                                                                                                                                                                                                                                                                                                                                                                                                                                                                                                                                                                                            </td><td>PASS                                                                                                                                                                                                                                                                                                                                                                                                                                                                                                                                                                                                                         </td><td><span style=white-space:pre-wrap>EXP_FREQ_A1=0.139;IMPINFO=0.405;CERTAINTY=0.824;TYPE=0;MISS=0.6111;HW=0.84487;CSQ=A|ENSG00000268020|ENST00000594647|Transcript|intron_variant&amp;non_coding_transcript_variant||||||rs141149254|1||1|OR4G4P|HGNC|14822|unprocessed_pseudogene||||||||||1/1||ENST00000594647.1:n.20-340G&gt;A||A:0.0803|A:0.03|A:0.12|A:0.0035|A:0.15|||||||||||||                                                                                                                                                                                                                                   </span></td><td>GT:GL:DS                                                                                                                                                                                                                                                                                                                                                                                                                                                                                                                                                                                                                     </td><td>./.:0.519,0.478,0.003:0.484                                                                                                                                                                                                                                                                                                                                                                                                                                                                                                                                                                                                  </td><td>⋯                                                                                                                                                                                                                                                                                                                                                                                                                                                                                                                                                                                                                            </td><td><span style=white-space:pre-wrap>0/0:0.981,0.019,0:0.019    </span>                                                                                                                                                                                                                                                                                                                                                                                                                                                                                                                                                          </td><td>./.:0.032,0.739,0.229:1.197                                                                                                                                                                                                                                                                                                                                                                                                                                                                                                                                                                                                  </td><td><span style=white-space:pre-wrap>0/0:0.973,0.027,0:0.027    </span>                                                                                                                                                                                                                                                                                                                                                                                                                                                                                                                                                          </td><td><span style=white-space:pre-wrap>./.:0.870,0.13,0:0.130     </span>                                                                                                                                                                                                                                                                                                                                                                                                                                                                                                                                                          </td><td><span style=white-space:pre-wrap>0/0:0.980,0.02,0:0.020     </span>                                                                                                                                                                                                                                                                                                                                                                                                                                                                                                                                                          </td><td>./.:0.771,0.227,0.002:0.231                                                                                                                                                                                                                                                                                                                                                                                                                                                                                                                                                                                                  </td><td>0/0:0.907,0.091,0.002:0.095                                                                                                                                                                                                                                                                                                                                                                                                                                                                                                                                                                                                  </td><td>./.:0.524,0.473,0.003:0.479                                                                                                                                                                                                                                                                                                                                                                                                                                                                                                                                                                                                  </td><td><span style=white-space:pre-wrap>./.:0.731,0.269,0:0.269    </span>                                                                                                                                                                                                                                                                                                                                                                                                                                                                                                                                                          </td><td><span style=white-space:pre-wrap>0/0:0.972,0.028,0:0.028    </span>                                                                                                                                                                                                                                                                                                                                                                                                                                                                                                                                                          </td></tr>\n",
       "\t<tr><td>1                                                                                                                                                                                                                                                                                                                                                                                                                                                                                                                                                                                                                            </td><td>54753                                                                                                                                                                                                                                                                                                                                                                                                                                                                                                                                                                                                                        </td><td>1_54753_T_G_b37                                                                                                                                                                                                                                                                                                                                                                                                                                                                                                                                                                                                              </td><td>T                                                                                                                                                                                                                                                                                                                                                                                                                                                                                                                                                                                                                            </td><td>G                                                                                                                                                                                                                                                                                                                                                                                                                                                                                                                                                                                                                            </td><td>.                                                                                                                                                                                                                                                                                                                                                                                                                                                                                                                                                                                                                            </td><td>maf05                                                                                                                                                                                                                                                                                                                                                                                                                                                                                                                                                                                                                        </td><td><span style=white-space:pre-wrap>EXP_FREQ_A1=0.033;IMPINFO=0.472;CERTAINTY=0.959;TYPE=0;MISS=0.0644;HW=1;CSQ=G|ENSG00000268020|ENST00000594647|Transcript|intron_variant&amp;non_coding_transcript_variant||||||rs143174675|1||1|OR4G4P|HGNC|14822|unprocessed_pseudogene||||||||||1/1||ENST00000594647.1:n.20-77T&gt;G||G:0.0298|G:0.07|G:0.04||G:0.03|||||||||||||                                                                                                                                                                                                                                                  </span></td><td>GT:GL:DS                                                                                                                                                                                                                                                                                                                                                                                                                                                                                                                                                                                                                     </td><td><span style=white-space:pre-wrap>0/0:0.997,0.003,0:0.003    </span>                                                                                                                                                                                                                                                                                                                                                                                                                                                                                                                                                          </td><td>⋯                                                                                                                                                                                                                                                                                                                                                                                                                                                                                                                                                                                                                            </td><td><span style=white-space:pre-wrap>0/0:0.997,0.003,0:0.003    </span>                                                                                                                                                                                                                                                                                                                                                                                                                                                                                                                                                          </td><td><span style=white-space:pre-wrap>0/0:0.982,0.018,0:0.018    </span>                                                                                                                                                                                                                                                                                                                                                                                                                                                                                                                                                          </td><td><span style=white-space:pre-wrap>0/0:0.997,0.003,0:0.003    </span>                                                                                                                                                                                                                                                                                                                                                                                                                                                                                                                                                          </td><td><span style=white-space:pre-wrap>0/0:0.997,0.003,0:0.003    </span>                                                                                                                                                                                                                                                                                                                                                                                                                                                                                                                                                          </td><td><span style=white-space:pre-wrap>0/0:0.997,0.003,0:0.003    </span>                                                                                                                                                                                                                                                                                                                                                                                                                                                                                                                                                          </td><td><span style=white-space:pre-wrap>0/0:0.994,0.006,0:0.006    </span>                                                                                                                                                                                                                                                                                                                                                                                                                                                                                                                                                          </td><td><span style=white-space:pre-wrap>0/0:0.965,0.035,0:0.035    </span>                                                                                                                                                                                                                                                                                                                                                                                                                                                                                                                                                          </td><td><span style=white-space:pre-wrap>0/0:0.984,0.016,0:0.016    </span>                                                                                                                                                                                                                                                                                                                                                                                                                                                                                                                                                          </td><td><span style=white-space:pre-wrap>0/0:0.995,0.005,0:0.005    </span>                                                                                                                                                                                                                                                                                                                                                                                                                                                                                                                                                          </td><td><span style=white-space:pre-wrap>0/0:0.991,0.009,0:0.009    </span>                                                                                                                                                                                                                                                                                                                                                                                                                                                                                                                                                          </td></tr>\n",
       "</tbody>\n",
       "</table>\n"
      ],
      "text/latex": [
       "\\begin{tabular}{r|lllllllllllllllllllllllllllllllllllllllllllllllllllllllllllllllllllllllllllllllllllllllllllllllllllllllllllllllllllllllllllllllllllllllllllllllllllllllllllllllllllllllllllllllllllllllllllllllllllllllllllllllllllllllllllllllllllllllllllllllllllllllllllllllllllllllllllllllllllllllllllllllllllllllllllllllllllllllllllllllllllllllllllllllllllllllllllllllllllllllllllllllllllllllllllllllllllllllllllllllllllllllllllllllllllllllllllllllllllllllllllllllllllllllllll}\n",
       " \\#CHROM & POS & ID & REF & ALT & QUAL & FILTER & INFO & FORMAT & GTEX-P4PP-0004-SM-2H2WW & ⋯ & GTEX-YF7O-0002-SM-4YUUX & GTEX-11TTK-0002-SM-5DWT4 & GTEX-Y3IK-0004-SM-4YUX2 & GTEX-12WSE-0002-SM-5DWRT & GTEX-1212Z-0004-SM-5DWTI & GTEX-YEC3-0004-SM-4YUXB & GTEX-11ONC-0003-SM-5DWT5 & GTEX-ZZPT-0002-SM-5DWTU & GTEX-ZVTK-0002-SM-4YUW7 & GTEX-XBEC-0002-SM-4YUVW\\_1\\\\\n",
       "\\hline\n",
       "\t 1                                                                                                                                                                                                                                                                                                                                                                                                                                                                                                                                                                                                                                                                                                                                                                                                                                                                                                                                                                                                                                                                                                                                                                                                                                                                                                                                                                                                                                                                                                                                                                                                      & 30923                                                                                                                                                                                                                                                                                                                                                                                                                                                                                                                                                                                                                                                                                                                                                                                                                                                                                                                                                                                                                                                                                                                                                                                                                                                                                                                                                                                                                                                                                                                                                                                                  & 1\\_30923\\_G\\_T\\_b37                                                                                                                                                                                                                                                                                                                                                                                                                                                                                                                                                                                                                                                                                                                                                                                                                                                                                                                                                                                                                                                                                                                                                                                                                                                                                                                                                                                                                                                                                                                                                                                & G                                                                                                                                                                                                                                                                                                                                                                                                                                                                                                                                                                                                                                                                                                                                                                                                                                                                                                                                                                                                                                                                                                                                                                                                                                                                                                                                                                                                                                                                                                                                                                                                      & T                                                                                                                                                                                                                                                                                                                                                                                                                                                                                                                                                                                                                                                                                                                                                                                                                                                                                                                                                                                                                                                                                                                                                                                                                                                                                                                                                                                                                                                                                                                                                                                                      & .                                                                                                                                                                                                                                                                                                                                                                                                                                                                                                                                                                                                                                                                                                                                                                                                                                                                                                                                                                                                                                                                                                                                                                                                                                                                                                                                                                                                                                                                                                                                                                                                      & PASS                                                                                                                                                                                                                                                                                                                                                                                                                                                                                                                                                                                                                                                                                                                                                                                                                                                                                                                                                                                                                                                                                                                                                                                                                                                                                                                                                                                                                                                                                                                                                                                                   & EXP\\_FREQ\\_A1=0.732;IMPINFO=0.446;CERTAINTY=0.730;TYPE=0;MISS=0.7867;HW=0.31695;CSQ=T\\textbar{}ENSG00000243485\\textbar{}ENST00000473358\\textbar{}Transcript\\textbar{}intron\\_variant\\&non\\_coding\\_transcript\\_variant\\textbar{}\\textbar{}\\textbar{}\\textbar{}\\textbar{}\\textbar{}rs140337953\\textbar{}1\\textbar{}\\textbar{}1\\textbar{}MIR1302-10\\textbar{}HGNC\\textbar{}38233\\textbar{}lincRNA\\textbar{}YES\\textbar{}\\textbar{}\\textbar{}\\textbar{}\\textbar{}\\textbar{}\\textbar{}\\textbar{}\\textbar{}2/2\\textbar{}\\textbar{}ENST00000473358.1:n.591-53G>T\\textbar{}\\textbar{}G:0.2746\\textbar{}T:0.48\\textbar{}T:0.80\\textbar{}T:0.89\\textbar{}T:0.73\\textbar{}\\textbar{}\\textbar{}\\textbar{}\\textbar{}\\textbar{}\\textbar{}\\textbar{}\\textbar{}\\textbar{}\\textbar{}\\textbar{}\\textbar{},T\\textbar{}ENSG00000243485\\textbar{}ENST00000469289\\textbar{}Transcript\\textbar{}intron\\_variant\\&non\\_coding\\_transcript\\_variant\\textbar{}\\textbar{}\\textbar{}\\textbar{}\\textbar{}\\textbar{}rs140337953\\textbar{}1\\textbar{}\\textbar{}1\\textbar{}MIR1302-10\\textbar{}HGNC\\textbar{}38233\\textbar{}lincRNA\\textbar{}\\textbar{}\\textbar{}\\textbar{}\\textbar{}\\textbar{}\\textbar{}\\textbar{}\\textbar{}\\textbar{}1/1\\textbar{}\\textbar{}ENST00000469289.1:n.402-53G>T\\textbar{}\\textbar{}G:0.2746\\textbar{}T:0.48\\textbar{}T:0.80\\textbar{}T:0.89\\textbar{}T:0.73\\textbar{}\\textbar{}\\textbar{}\\textbar{}\\textbar{}\\textbar{}\\textbar{}\\textbar{}\\textbar{}\\textbar{}\\textbar{}\\textbar{}\\textbar{} & GT:GL:DS                                                                                                                                                                                                                                                                                                                                                                                                                                                                                                                                                                                                                                                                                                                                                                                                                                                                                                                                                                                                                                                                                                                                                                                                                                                                                                                                                                                                                                                                                                                                                                                               & ./.:0.006,0.483,0.511:1.505                                                                                                                                                                                                                                                                                                                                                                                                                                                                                                                                                                                                                                                                                                                                                                                                                                                                                                                                                                                                                                                                                                                                                                                                                                                                                                                                                                                                                                                                                                                                                                            & ⋯                                                                                                                                                                                                                                                                                                                                                                                                                                                                                                                                                                                                                                                                                                                                                                                                                                                                                                                                                                                                                                                                                                                                                                                                                                                                                                                                                                                                                                                                                                                                                                                                      & 1/1:0.001,0.035,0.964:1.963                                                                                                                                                                                                                                                                                                                                                                                                                                                                                                                                                                                                                                                                                                                                                                                                                                                                                                                                                                                                                                                                                                                                                                                                                                                                                                                                                                                                                                                                                                                                                                            & ./.:0.004,0.324,0.672:1.668                                                                                                                                                                                                                                                                                                                                                                                                                                                                                                                                                                                                                                                                                                                                                                                                                                                                                                                                                                                                                                                                                                                                                                                                                                                                                                                                                                                                                                                                                                                                                                            & 1/1:0.001,0.056,0.943:1.942                                                                                                                                                                                                                                                                                                                                                                                                                                                                                                                                                                                                                                                                                                                                                                                                                                                                                                                                                                                                                                                                                                                                                                                                                                                                                                                                                                                                                                                                                                                                                                            & 0/1:0.013,0.948,0.039:1.026                                                                                                                                                                                                                                                                                                                                                                                                                                                                                                                                                                                                                                                                                                                                                                                                                                                                                                                                                                                                                                                                                                                                                                                                                                                                                                                                                                                                                                                                                                                                                                            & 0/1:0.017,0.942,0.041:1.024                                                                                                                                                                                                                                                                                                                                                                                                                                                                                                                                                                                                                                                                                                                                                                                                                                                                                                                                                                                                                                                                                                                                                                                                                                                                                                                                                                                                                                                                                                                                                                            & ./.:0.027,0.358,0.615:1.588                                                                                                                                                                                                                                                                                                                                                                                                                                                                                                                                                                                                                                                                                                                                                                                                                                                                                                                                                                                                                                                                                                                                                                                                                                                                                                                                                                                                                                                                                                                                                                            & ./.:0.016,0.232,0.752:1.736                                                                                                                                                                                                                                                                                                                                                                                                                                                                                                                                                                                                                                                                                                                                                                                                                                                                                                                                                                                                                                                                                                                                                                                                                                                                                                                                                                                                                                                                                                                                                                            & ./.:0.069,0.483,0.448:1.379                                                                                                                                                                                                                                                                                                                                                                                                                                                                                                                                                                                                                                                                                                                                                                                                                                                                                                                                                                                                                                                                                                                                                                                                                                                                                                                                                                                                                                                                                                                                                                            & ./.:0.009,0.366,0.625:1.616                                                                                                                                                                                                                                                                                                                                                                                                                                                                                                                                                                                                                                                                                                                                                                                                                                                                                                                                                                                                                                                                                                                                                                                                                                                                                                                                                                                                                                                                                                                                                                            & ./.:0.003,0.261,0.736:1.733                                                                                                                                                                                                                                                                                                                                                                                                                                                                                                                                                                                                                                                                                                                                                                                                                                                                                                                                                                                                                                                                                                                                                                                                                                                                                                                                                                                                                                                                                                                                                                           \\\\\n",
       "\t 1                                                                                                                                                                                                                                                                                                                                                                                                                                                                                                                                                                                  & 51479                                                                                                                                                                                                                                                                                                                                                                                                                                                                                                                                                                              & 1\\_51479\\_T\\_A\\_b37                                                                                                                                                                                                                                                                                                                                                                                                                                                                                                                                                            & T                                                                                                                                                                                                                                                                                                                                                                                                                                                                                                                                                                                  & A                                                                                                                                                                                                                                                                                                                                                                                                                                                                                                                                                                                  & .                                                                                                                                                                                                                                                                                                                                                                                                                                                                                                                                                                                  & PASS                                                                                                                                                                                                                                                                                                                                                                                                                                                                                                                                                                               & EXP\\_FREQ\\_A1=0.182;IMPINFO=0.405;CERTAINTY=0.779;TYPE=0;MISS=0.6600;HW=0.87518                                                                                                                                                                                                                                                                                                                                                                                                                                                                                                  & GT:GL:DS                                                                                                                                                                                                                                                                                                                                                                                                                                                                                                                                                                           & ./.:0.514,0.481,0.005:0.491                                                                                                                                                                                                                                                                                                                                                                                                                                                                                                                                                        & ⋯                                                                                                                                                                                                                                                                                                                                                                                                                                                                                                                                                                                  & 0/0:0.971,0.029,0:0.029                                                                                                                                                                                                                                                                                                                                                                                                                                                                                                                                                            & ./.:0.028,0.696,0.276:1.248                                                                                                                                                                                                                                                                                                                                                                                                                                                                                                                                                        & 0/0:0.968,0.032,0:0.032                                                                                                                                                                                                                                                                                                                                                                                                                                                                                                                                                            & ./.:0.865,0.134,0.001:0.136                                                                                                                                                                                                                                                                                                                                                                                                                                                                                                                                                        & 0/0:0.973,0.027,0:0.027                                                                                                                                                                                                                                                                                                                                                                                                                                                                                                                                                            & ./.:0.759,0.238,0.003:0.244                                                                                                                                                                                                                                                                                                                                                                                                                                                                                                                                                        & ./.:0.741,0.24,0.019:0.278                                                                                                                                                                                                                                                                                                                                                                                                                                                                                                                                                         & ./.:0.449,0.483,0.068:0.619                                                                                                                                                                                                                                                                                                                                                                                                                                                                                                                                                        & ./.:0.641,0.358,0.001:0.360                                                                                                                                                                                                                                                                                                                                                                                                                                                                                                                                                        & 0/0:0.959,0.041,0:0.041                                                                                                                                                                                                                                                                                                                                                                                                                                                                                                                                                           \\\\\n",
       "\t 1                                                                                                                                                                                                                                                                                                                                                                                                                                                                                                                                                                                  & 52058                                                                                                                                                                                                                                                                                                                                                                                                                                                                                                                                                                              & 1\\_52058\\_G\\_C\\_b37                                                                                                                                                                                                                                                                                                                                                                                                                                                                                                                                                            & G                                                                                                                                                                                                                                                                                                                                                                                                                                                                                                                                                                                  & C                                                                                                                                                                                                                                                                                                                                                                                                                                                                                                                                                                                  & .                                                                                                                                                                                                                                                                                                                                                                                                                                                                                                                                                                                  & maf05                                                                                                                                                                                                                                                                                                                                                                                                                                                                                                                                                                              & EXP\\_FREQ\\_A1=0.045;IMPINFO=0.473;CERTAINTY=0.945;TYPE=0;MISS=0.1378;HW=1                                                                                                                                                                                                                                                                                                                                                                                                                                                                                                        & GT:GL:DS                                                                                                                                                                                                                                                                                                                                                                                                                                                                                                                                                                           & 0/0:0.996,0.004,0:0.004                                                                                                                                                                                                                                                                                                                                                                                                                                                                                                                                                            & ⋯                                                                                                                                                                                                                                                                                                                                                                                                                                                                                                                                                                                  & 0/0:0.995,0.005,0:0.005                                                                                                                                                                                                                                                                                                                                                                                                                                                                                                                                                            & 0/0:0.981,0.019,0:0.019                                                                                                                                                                                                                                                                                                                                                                                                                                                                                                                                                            & 0/0:0.996,0.004,0:0.004                                                                                                                                                                                                                                                                                                                                                                                                                                                                                                                                                            & ./.:0.878,0.122,0:0.122                                                                                                                                                                                                                                                                                                                                                                                                                                                                                                                                                            & 0/0:0.995,0.005,0:0.005                                                                                                                                                                                                                                                                                                                                                                                                                                                                                                                                                            & 0/0:0.981,0.019,0:0.019                                                                                                                                                                                                                                                                                                                                                                                                                                                                                                                                                            & 0/0:0.966,0.034,0:0.034                                                                                                                                                                                                                                                                                                                                                                                                                                                                                                                                                            & ./.:0.523,0.476,0.001:0.478                                                                                                                                                                                                                                                                                                                                                                                                                                                                                                                                                        & 0/0:0.997,0.003,0:0.003                                                                                                                                                                                                                                                                                                                                                                                                                                                                                                                                                            & 0/0:0.990,0.01,0:0.010                                                                                                                                                                                                                                                                                                                                                                                                                                                                                                                                                            \\\\\n",
       "\t 1                                                                                                                                                                                                                                                                                                                                                                                                                                                                                                                                                                                  & 52238                                                                                                                                                                                                                                                                                                                                                                                                                                                                                                                                                                              & 1\\_52238\\_T\\_G\\_b37                                                                                                                                                                                                                                                                                                                                                                                                                                                                                                                                                            & T                                                                                                                                                                                                                                                                                                                                                                                                                                                                                                                                                                                  & G                                                                                                                                                                                                                                                                                                                                                                                                                                                                                                                                                                                  & .                                                                                                                                                                                                                                                                                                                                                                                                                                                                                                                                                                                  & PASS                                                                                                                                                                                                                                                                                                                                                                                                                                                                                                                                                                               & EXP\\_FREQ\\_A1=0.920;IMPINFO=0.481;CERTAINTY=0.906;TYPE=0;MISS=0.2800;HW=1                                                                                                                                                                                                                                                                                                                                                                                                                                                                                                        & GT:GL:DS                                                                                                                                                                                                                                                                                                                                                                                                                                                                                                                                                                           & ./.:0,0.238,0.762:1.762                                                                                                                                                                                                                                                                                                                                                                                                                                                                                                                                                            & ⋯                                                                                                                                                                                                                                                                                                                                                                                                                                                                                                                                                                                  & 1/1:0,0.006,0.994:1.994                                                                                                                                                                                                                                                                                                                                                                                                                                                                                                                                                            & 1/1:0,0.051,0.949:1.949                                                                                                                                                                                                                                                                                                                                                                                                                                                                                                                                                            & 1/1:0,0.013,0.987:1.987                                                                                                                                                                                                                                                                                                                                                                                                                                                                                                                                                            & 1/1:0,0.005,0.995:1.995                                                                                                                                                                                                                                                                                                                                                                                                                                                                                                                                                            & 1/1:0,0.006,0.994:1.994                                                                                                                                                                                                                                                                                                                                                                                                                                                                                                                                                            & 1/1:0,0.005,0.995:1.995                                                                                                                                                                                                                                                                                                                                                                                                                                                                                                                                                            & 1/1:0,0.067,0.933:1.933                                                                                                                                                                                                                                                                                                                                                                                                                                                                                                                                                            & 1/1:0,0.005,0.995:1.995                                                                                                                                                                                                                                                                                                                                                                                                                                                                                                                                                            & ./.:0.067,0.707,0.226:1.159                                                                                                                                                                                                                                                                                                                                                                                                                                                                                                                                                        & 1/1:0,0.007,0.993:1.993                                                                                                                                                                                                                                                                                                                                                                                                                                                                                                                                                           \\\\\n",
       "\t 1                                                                                                                                                                                                                                                                                                                                                                                                                                                                                                                                                                                                                                                                                                                                                                                                                                                                                                                                                                                                                                                                                              & 54490                                                                                                                                                                                                                                                                                                                                                                                                                                                                                                                                                                                                                                                                                                                                                                                                                                                                                                                                                                                                                                                                                          & 1\\_54490\\_G\\_A\\_b37                                                                                                                                                                                                                                                                                                                                                                                                                                                                                                                                                                                                                                                                                                                                                                                                                                                                                                                                                                                                                                                                        & G                                                                                                                                                                                                                                                                                                                                                                                                                                                                                                                                                                                                                                                                                                                                                                                                                                                                                                                                                                                                                                                                                              & A                                                                                                                                                                                                                                                                                                                                                                                                                                                                                                                                                                                                                                                                                                                                                                                                                                                                                                                                                                                                                                                                                              & .                                                                                                                                                                                                                                                                                                                                                                                                                                                                                                                                                                                                                                                                                                                                                                                                                                                                                                                                                                                                                                                                                              & PASS                                                                                                                                                                                                                                                                                                                                                                                                                                                                                                                                                                                                                                                                                                                                                                                                                                                                                                                                                                                                                                                                                           & EXP\\_FREQ\\_A1=0.139;IMPINFO=0.405;CERTAINTY=0.824;TYPE=0;MISS=0.6111;HW=0.84487;CSQ=A\\textbar{}ENSG00000268020\\textbar{}ENST00000594647\\textbar{}Transcript\\textbar{}intron\\_variant\\&non\\_coding\\_transcript\\_variant\\textbar{}\\textbar{}\\textbar{}\\textbar{}\\textbar{}\\textbar{}rs141149254\\textbar{}1\\textbar{}\\textbar{}1\\textbar{}OR4G4P\\textbar{}HGNC\\textbar{}14822\\textbar{}unprocessed\\_pseudogene\\textbar{}\\textbar{}\\textbar{}\\textbar{}\\textbar{}\\textbar{}\\textbar{}\\textbar{}\\textbar{}\\textbar{}1/1\\textbar{}\\textbar{}ENST00000594647.1:n.20-340G>A\\textbar{}\\textbar{}A:0.0803\\textbar{}A:0.03\\textbar{}A:0.12\\textbar{}A:0.0035\\textbar{}A:0.15\\textbar{}\\textbar{}\\textbar{}\\textbar{}\\textbar{}\\textbar{}\\textbar{}\\textbar{}\\textbar{}\\textbar{}\\textbar{}\\textbar{}\\textbar{}                                                                                                                                                                                                                                    & GT:GL:DS                                                                                                                                                                                                                                                                                                                                                                                                                                                                                                                                                                                                                                                                                                                                                                                                                                                                                                                                                                                                                                                                                       & ./.:0.519,0.478,0.003:0.484                                                                                                                                                                                                                                                                                                                                                                                                                                                                                                                                                                                                                                                                                                                                                                                                                                                                                                                                                                                                                                                                    & ⋯                                                                                                                                                                                                                                                                                                                                                                                                                                                                                                                                                                                                                                                                                                                                                                                                                                                                                                                                                                                                                                                                                              & 0/0:0.981,0.019,0:0.019                                                                                                                                                                                                                                                                                                                                                                                                                                                                                                                                                                                                                                                                                                                                                                                                                                                                                                                                                                                                                                                                        & ./.:0.032,0.739,0.229:1.197                                                                                                                                                                                                                                                                                                                                                                                                                                                                                                                                                                                                                                                                                                                                                                                                                                                                                                                                                                                                                                                                    & 0/0:0.973,0.027,0:0.027                                                                                                                                                                                                                                                                                                                                                                                                                                                                                                                                                                                                                                                                                                                                                                                                                                                                                                                                                                                                                                                                        & ./.:0.870,0.13,0:0.130                                                                                                                                                                                                                                                                                                                                                                                                                                                                                                                                                                                                                                                                                                                                                                                                                                                                                                                                                                                                                                                                         & 0/0:0.980,0.02,0:0.020                                                                                                                                                                                                                                                                                                                                                                                                                                                                                                                                                                                                                                                                                                                                                                                                                                                                                                                                                                                                                                                                         & ./.:0.771,0.227,0.002:0.231                                                                                                                                                                                                                                                                                                                                                                                                                                                                                                                                                                                                                                                                                                                                                                                                                                                                                                                                                                                                                                                                    & 0/0:0.907,0.091,0.002:0.095                                                                                                                                                                                                                                                                                                                                                                                                                                                                                                                                                                                                                                                                                                                                                                                                                                                                                                                                                                                                                                                                    & ./.:0.524,0.473,0.003:0.479                                                                                                                                                                                                                                                                                                                                                                                                                                                                                                                                                                                                                                                                                                                                                                                                                                                                                                                                                                                                                                                                    & ./.:0.731,0.269,0:0.269                                                                                                                                                                                                                                                                                                                                                                                                                                                                                                                                                                                                                                                                                                                                                                                                                                                                                                                                                                                                                                                                        & 0/0:0.972,0.028,0:0.028                                                                                                                                                                                                                                                                                                                                                                                                                                                                                                                                                                                                                                                                                                                                                                                                                                                                                                                                                                                                                                                                       \\\\\n",
       "\t 1                                                                                                                                                                                                                                                                                                                                                                                                                                                                                                                                                                                                                                                                                                                                                                                                                                                                                                                                                                                                                                                                                              & 54753                                                                                                                                                                                                                                                                                                                                                                                                                                                                                                                                                                                                                                                                                                                                                                                                                                                                                                                                                                                                                                                                                          & 1\\_54753\\_T\\_G\\_b37                                                                                                                                                                                                                                                                                                                                                                                                                                                                                                                                                                                                                                                                                                                                                                                                                                                                                                                                                                                                                                                                        & T                                                                                                                                                                                                                                                                                                                                                                                                                                                                                                                                                                                                                                                                                                                                                                                                                                                                                                                                                                                                                                                                                              & G                                                                                                                                                                                                                                                                                                                                                                                                                                                                                                                                                                                                                                                                                                                                                                                                                                                                                                                                                                                                                                                                                              & .                                                                                                                                                                                                                                                                                                                                                                                                                                                                                                                                                                                                                                                                                                                                                                                                                                                                                                                                                                                                                                                                                              & maf05                                                                                                                                                                                                                                                                                                                                                                                                                                                                                                                                                                                                                                                                                                                                                                                                                                                                                                                                                                                                                                                                                          & EXP\\_FREQ\\_A1=0.033;IMPINFO=0.472;CERTAINTY=0.959;TYPE=0;MISS=0.0644;HW=1;CSQ=G\\textbar{}ENSG00000268020\\textbar{}ENST00000594647\\textbar{}Transcript\\textbar{}intron\\_variant\\&non\\_coding\\_transcript\\_variant\\textbar{}\\textbar{}\\textbar{}\\textbar{}\\textbar{}\\textbar{}rs143174675\\textbar{}1\\textbar{}\\textbar{}1\\textbar{}OR4G4P\\textbar{}HGNC\\textbar{}14822\\textbar{}unprocessed\\_pseudogene\\textbar{}\\textbar{}\\textbar{}\\textbar{}\\textbar{}\\textbar{}\\textbar{}\\textbar{}\\textbar{}\\textbar{}1/1\\textbar{}\\textbar{}ENST00000594647.1:n.20-77T>G\\textbar{}\\textbar{}G:0.0298\\textbar{}G:0.07\\textbar{}G:0.04\\textbar{}\\textbar{}G:0.03\\textbar{}\\textbar{}\\textbar{}\\textbar{}\\textbar{}\\textbar{}\\textbar{}\\textbar{}\\textbar{}\\textbar{}\\textbar{}\\textbar{}\\textbar{}                                                                                                                                                                                                                                                   & GT:GL:DS                                                                                                                                                                                                                                                                                                                                                                                                                                                                                                                                                                                                                                                                                                                                                                                                                                                                                                                                                                                                                                                                                       & 0/0:0.997,0.003,0:0.003                                                                                                                                                                                                                                                                                                                                                                                                                                                                                                                                                                                                                                                                                                                                                                                                                                                                                                                                                                                                                                                                        & ⋯                                                                                                                                                                                                                                                                                                                                                                                                                                                                                                                                                                                                                                                                                                                                                                                                                                                                                                                                                                                                                                                                                              & 0/0:0.997,0.003,0:0.003                                                                                                                                                                                                                                                                                                                                                                                                                                                                                                                                                                                                                                                                                                                                                                                                                                                                                                                                                                                                                                                                        & 0/0:0.982,0.018,0:0.018                                                                                                                                                                                                                                                                                                                                                                                                                                                                                                                                                                                                                                                                                                                                                                                                                                                                                                                                                                                                                                                                        & 0/0:0.997,0.003,0:0.003                                                                                                                                                                                                                                                                                                                                                                                                                                                                                                                                                                                                                                                                                                                                                                                                                                                                                                                                                                                                                                                                        & 0/0:0.997,0.003,0:0.003                                                                                                                                                                                                                                                                                                                                                                                                                                                                                                                                                                                                                                                                                                                                                                                                                                                                                                                                                                                                                                                                        & 0/0:0.997,0.003,0:0.003                                                                                                                                                                                                                                                                                                                                                                                                                                                                                                                                                                                                                                                                                                                                                                                                                                                                                                                                                                                                                                                                        & 0/0:0.994,0.006,0:0.006                                                                                                                                                                                                                                                                                                                                                                                                                                                                                                                                                                                                                                                                                                                                                                                                                                                                                                                                                                                                                                                                        & 0/0:0.965,0.035,0:0.035                                                                                                                                                                                                                                                                                                                                                                                                                                                                                                                                                                                                                                                                                                                                                                                                                                                                                                                                                                                                                                                                        & 0/0:0.984,0.016,0:0.016                                                                                                                                                                                                                                                                                                                                                                                                                                                                                                                                                                                                                                                                                                                                                                                                                                                                                                                                                                                                                                                                        & 0/0:0.995,0.005,0:0.005                                                                                                                                                                                                                                                                                                                                                                                                                                                                                                                                                                                                                                                                                                                                                                                                                                                                                                                                                                                                                                                                        & 0/0:0.991,0.009,0:0.009                                                                                                                                                                                                                                                                                                                                                                                                                                                                                                                                                                                                                                                                                                                                                                                                                                                                                                                                                                                                                                                                       \\\\\n",
       "\\end{tabular}\n"
      ],
      "text/markdown": [
       "\n",
       "#CHROM | POS | ID | REF | ALT | QUAL | FILTER | INFO | FORMAT | GTEX-P4PP-0004-SM-2H2WW | ⋯ | GTEX-YF7O-0002-SM-4YUUX | GTEX-11TTK-0002-SM-5DWT4 | GTEX-Y3IK-0004-SM-4YUX2 | GTEX-12WSE-0002-SM-5DWRT | GTEX-1212Z-0004-SM-5DWTI | GTEX-YEC3-0004-SM-4YUXB | GTEX-11ONC-0003-SM-5DWT5 | GTEX-ZZPT-0002-SM-5DWTU | GTEX-ZVTK-0002-SM-4YUW7 | GTEX-XBEC-0002-SM-4YUVW_1 | \n",
       "|---|---|---|---|---|---|\n",
       "| 1                                                                                                                                                                                                                                                                                                                                                                                                                                                                                                                                                                              | 30923                                                                                                                                                                                                                                                                                                                                                                                                                                                                                                                                                                          | 1_30923_G_T_b37                                                                                                                                                                                                                                                                                                                                                                                                                                                                                                                                                                | G                                                                                                                                                                                                                                                                                                                                                                                                                                                                                                                                                                              | T                                                                                                                                                                                                                                                                                                                                                                                                                                                                                                                                                                              | .                                                                                                                                                                                                                                                                                                                                                                                                                                                                                                                                                                              | PASS                                                                                                                                                                                                                                                                                                                                                                                                                                                                                                                                                                           | EXP_FREQ_A1=0.732;IMPINFO=0.446;CERTAINTY=0.730;TYPE=0;MISS=0.7867;HW=0.31695;CSQ=T|ENSG00000243485|ENST00000473358|Transcript|intron_variant&non_coding_transcript_variant||||||rs140337953|1||1|MIR1302-10|HGNC|38233|lincRNA|YES|||||||||2/2||ENST00000473358.1:n.591-53G>T||G:0.2746|T:0.48|T:0.80|T:0.89|T:0.73|||||||||||||,T|ENSG00000243485|ENST00000469289|Transcript|intron_variant&non_coding_transcript_variant||||||rs140337953|1||1|MIR1302-10|HGNC|38233|lincRNA||||||||||1/1||ENST00000469289.1:n.402-53G>T||G:0.2746|T:0.48|T:0.80|T:0.89|T:0.73||||||||||||| | GT:GL:DS                                                                                                                                                                                                                                                                                                                                                                                                                                                                                                                                                                       | ./.:0.006,0.483,0.511:1.505                                                                                                                                                                                                                                                                                                                                                                                                                                                                                                                                                    | ⋯                                                                                                                                                                                                                                                                                                                                                                                                                                                                                                                                                                              | 1/1:0.001,0.035,0.964:1.963                                                                                                                                                                                                                                                                                                                                                                                                                                                                                                                                                    | ./.:0.004,0.324,0.672:1.668                                                                                                                                                                                                                                                                                                                                                                                                                                                                                                                                                    | 1/1:0.001,0.056,0.943:1.942                                                                                                                                                                                                                                                                                                                                                                                                                                                                                                                                                    | 0/1:0.013,0.948,0.039:1.026                                                                                                                                                                                                                                                                                                                                                                                                                                                                                                                                                    | 0/1:0.017,0.942,0.041:1.024                                                                                                                                                                                                                                                                                                                                                                                                                                                                                                                                                    | ./.:0.027,0.358,0.615:1.588                                                                                                                                                                                                                                                                                                                                                                                                                                                                                                                                                    | ./.:0.016,0.232,0.752:1.736                                                                                                                                                                                                                                                                                                                                                                                                                                                                                                                                                    | ./.:0.069,0.483,0.448:1.379                                                                                                                                                                                                                                                                                                                                                                                                                                                                                                                                                    | ./.:0.009,0.366,0.625:1.616                                                                                                                                                                                                                                                                                                                                                                                                                                                                                                                                                    | ./.:0.003,0.261,0.736:1.733                                                                                                                                                                                                                                                                                                                                                                                                                                                                                                                                                    | \n",
       "| 1                                                                                                                                                                                                                                                                                                                                                                                                                                                                                                                                                                              | 51479                                                                                                                                                                                                                                                                                                                                                                                                                                                                                                                                                                          | 1_51479_T_A_b37                                                                                                                                                                                                                                                                                                                                                                                                                                                                                                                                                                | T                                                                                                                                                                                                                                                                                                                                                                                                                                                                                                                                                                              | A                                                                                                                                                                                                                                                                                                                                                                                                                                                                                                                                                                              | .                                                                                                                                                                                                                                                                                                                                                                                                                                                                                                                                                                              | PASS                                                                                                                                                                                                                                                                                                                                                                                                                                                                                                                                                                           | EXP_FREQ_A1=0.182;IMPINFO=0.405;CERTAINTY=0.779;TYPE=0;MISS=0.6600;HW=0.87518                                                                                                                                                                                                                                                                                                                                                                                                                                                                                                  | GT:GL:DS                                                                                                                                                                                                                                                                                                                                                                                                                                                                                                                                                                       | ./.:0.514,0.481,0.005:0.491                                                                                                                                                                                                                                                                                                                                                                                                                                                                                                                                                    | ⋯                                                                                                                                                                                                                                                                                                                                                                                                                                                                                                                                                                              | 0/0:0.971,0.029,0:0.029                                                                                                                                                                                                                                                                                                                                                                                                                                                                                                                                                        | ./.:0.028,0.696,0.276:1.248                                                                                                                                                                                                                                                                                                                                                                                                                                                                                                                                                    | 0/0:0.968,0.032,0:0.032                                                                                                                                                                                                                                                                                                                                                                                                                                                                                                                                                        | ./.:0.865,0.134,0.001:0.136                                                                                                                                                                                                                                                                                                                                                                                                                                                                                                                                                    | 0/0:0.973,0.027,0:0.027                                                                                                                                                                                                                                                                                                                                                                                                                                                                                                                                                        | ./.:0.759,0.238,0.003:0.244                                                                                                                                                                                                                                                                                                                                                                                                                                                                                                                                                    | ./.:0.741,0.24,0.019:0.278                                                                                                                                                                                                                                                                                                                                                                                                                                                                                                                                                     | ./.:0.449,0.483,0.068:0.619                                                                                                                                                                                                                                                                                                                                                                                                                                                                                                                                                    | ./.:0.641,0.358,0.001:0.360                                                                                                                                                                                                                                                                                                                                                                                                                                                                                                                                                    | 0/0:0.959,0.041,0:0.041                                                                                                                                                                                                                                                                                                                                                                                                                                                                                                                                                        | \n",
       "| 1                                                                                                                                                                                                                                                                                                                                                                                                                                                                                                                                                                              | 52058                                                                                                                                                                                                                                                                                                                                                                                                                                                                                                                                                                          | 1_52058_G_C_b37                                                                                                                                                                                                                                                                                                                                                                                                                                                                                                                                                                | G                                                                                                                                                                                                                                                                                                                                                                                                                                                                                                                                                                              | C                                                                                                                                                                                                                                                                                                                                                                                                                                                                                                                                                                              | .                                                                                                                                                                                                                                                                                                                                                                                                                                                                                                                                                                              | maf05                                                                                                                                                                                                                                                                                                                                                                                                                                                                                                                                                                          | EXP_FREQ_A1=0.045;IMPINFO=0.473;CERTAINTY=0.945;TYPE=0;MISS=0.1378;HW=1                                                                                                                                                                                                                                                                                                                                                                                                                                                                                                        | GT:GL:DS                                                                                                                                                                                                                                                                                                                                                                                                                                                                                                                                                                       | 0/0:0.996,0.004,0:0.004                                                                                                                                                                                                                                                                                                                                                                                                                                                                                                                                                        | ⋯                                                                                                                                                                                                                                                                                                                                                                                                                                                                                                                                                                              | 0/0:0.995,0.005,0:0.005                                                                                                                                                                                                                                                                                                                                                                                                                                                                                                                                                        | 0/0:0.981,0.019,0:0.019                                                                                                                                                                                                                                                                                                                                                                                                                                                                                                                                                        | 0/0:0.996,0.004,0:0.004                                                                                                                                                                                                                                                                                                                                                                                                                                                                                                                                                        | ./.:0.878,0.122,0:0.122                                                                                                                                                                                                                                                                                                                                                                                                                                                                                                                                                        | 0/0:0.995,0.005,0:0.005                                                                                                                                                                                                                                                                                                                                                                                                                                                                                                                                                        | 0/0:0.981,0.019,0:0.019                                                                                                                                                                                                                                                                                                                                                                                                                                                                                                                                                        | 0/0:0.966,0.034,0:0.034                                                                                                                                                                                                                                                                                                                                                                                                                                                                                                                                                        | ./.:0.523,0.476,0.001:0.478                                                                                                                                                                                                                                                                                                                                                                                                                                                                                                                                                    | 0/0:0.997,0.003,0:0.003                                                                                                                                                                                                                                                                                                                                                                                                                                                                                                                                                        | 0/0:0.990,0.01,0:0.010                                                                                                                                                                                                                                                                                                                                                                                                                                                                                                                                                         | \n",
       "| 1                                                                                                                                                                                                                                                                                                                                                                                                                                                                                                                                                                              | 52238                                                                                                                                                                                                                                                                                                                                                                                                                                                                                                                                                                          | 1_52238_T_G_b37                                                                                                                                                                                                                                                                                                                                                                                                                                                                                                                                                                | T                                                                                                                                                                                                                                                                                                                                                                                                                                                                                                                                                                              | G                                                                                                                                                                                                                                                                                                                                                                                                                                                                                                                                                                              | .                                                                                                                                                                                                                                                                                                                                                                                                                                                                                                                                                                              | PASS                                                                                                                                                                                                                                                                                                                                                                                                                                                                                                                                                                           | EXP_FREQ_A1=0.920;IMPINFO=0.481;CERTAINTY=0.906;TYPE=0;MISS=0.2800;HW=1                                                                                                                                                                                                                                                                                                                                                                                                                                                                                                        | GT:GL:DS                                                                                                                                                                                                                                                                                                                                                                                                                                                                                                                                                                       | ./.:0,0.238,0.762:1.762                                                                                                                                                                                                                                                                                                                                                                                                                                                                                                                                                        | ⋯                                                                                                                                                                                                                                                                                                                                                                                                                                                                                                                                                                              | 1/1:0,0.006,0.994:1.994                                                                                                                                                                                                                                                                                                                                                                                                                                                                                                                                                        | 1/1:0,0.051,0.949:1.949                                                                                                                                                                                                                                                                                                                                                                                                                                                                                                                                                        | 1/1:0,0.013,0.987:1.987                                                                                                                                                                                                                                                                                                                                                                                                                                                                                                                                                        | 1/1:0,0.005,0.995:1.995                                                                                                                                                                                                                                                                                                                                                                                                                                                                                                                                                        | 1/1:0,0.006,0.994:1.994                                                                                                                                                                                                                                                                                                                                                                                                                                                                                                                                                        | 1/1:0,0.005,0.995:1.995                                                                                                                                                                                                                                                                                                                                                                                                                                                                                                                                                        | 1/1:0,0.067,0.933:1.933                                                                                                                                                                                                                                                                                                                                                                                                                                                                                                                                                        | 1/1:0,0.005,0.995:1.995                                                                                                                                                                                                                                                                                                                                                                                                                                                                                                                                                        | ./.:0.067,0.707,0.226:1.159                                                                                                                                                                                                                                                                                                                                                                                                                                                                                                                                                    | 1/1:0,0.007,0.993:1.993                                                                                                                                                                                                                                                                                                                                                                                                                                                                                                                                                        | \n",
       "| 1                                                                                                                                                                                                                                                                                                                                                                                                                                                                                                                                                                              | 54490                                                                                                                                                                                                                                                                                                                                                                                                                                                                                                                                                                          | 1_54490_G_A_b37                                                                                                                                                                                                                                                                                                                                                                                                                                                                                                                                                                | G                                                                                                                                                                                                                                                                                                                                                                                                                                                                                                                                                                              | A                                                                                                                                                                                                                                                                                                                                                                                                                                                                                                                                                                              | .                                                                                                                                                                                                                                                                                                                                                                                                                                                                                                                                                                              | PASS                                                                                                                                                                                                                                                                                                                                                                                                                                                                                                                                                                           | EXP_FREQ_A1=0.139;IMPINFO=0.405;CERTAINTY=0.824;TYPE=0;MISS=0.6111;HW=0.84487;CSQ=A|ENSG00000268020|ENST00000594647|Transcript|intron_variant&non_coding_transcript_variant||||||rs141149254|1||1|OR4G4P|HGNC|14822|unprocessed_pseudogene||||||||||1/1||ENST00000594647.1:n.20-340G>A||A:0.0803|A:0.03|A:0.12|A:0.0035|A:0.15|||||||||||||                                                                                                                                                                                                                                    | GT:GL:DS                                                                                                                                                                                                                                                                                                                                                                                                                                                                                                                                                                       | ./.:0.519,0.478,0.003:0.484                                                                                                                                                                                                                                                                                                                                                                                                                                                                                                                                                    | ⋯                                                                                                                                                                                                                                                                                                                                                                                                                                                                                                                                                                              | 0/0:0.981,0.019,0:0.019                                                                                                                                                                                                                                                                                                                                                                                                                                                                                                                                                        | ./.:0.032,0.739,0.229:1.197                                                                                                                                                                                                                                                                                                                                                                                                                                                                                                                                                    | 0/0:0.973,0.027,0:0.027                                                                                                                                                                                                                                                                                                                                                                                                                                                                                                                                                        | ./.:0.870,0.13,0:0.130                                                                                                                                                                                                                                                                                                                                                                                                                                                                                                                                                         | 0/0:0.980,0.02,0:0.020                                                                                                                                                                                                                                                                                                                                                                                                                                                                                                                                                         | ./.:0.771,0.227,0.002:0.231                                                                                                                                                                                                                                                                                                                                                                                                                                                                                                                                                    | 0/0:0.907,0.091,0.002:0.095                                                                                                                                                                                                                                                                                                                                                                                                                                                                                                                                                    | ./.:0.524,0.473,0.003:0.479                                                                                                                                                                                                                                                                                                                                                                                                                                                                                                                                                    | ./.:0.731,0.269,0:0.269                                                                                                                                                                                                                                                                                                                                                                                                                                                                                                                                                        | 0/0:0.972,0.028,0:0.028                                                                                                                                                                                                                                                                                                                                                                                                                                                                                                                                                        | \n",
       "| 1                                                                                                                                                                                                                                                                                                                                                                                                                                                                                                                                                                              | 54753                                                                                                                                                                                                                                                                                                                                                                                                                                                                                                                                                                          | 1_54753_T_G_b37                                                                                                                                                                                                                                                                                                                                                                                                                                                                                                                                                                | T                                                                                                                                                                                                                                                                                                                                                                                                                                                                                                                                                                              | G                                                                                                                                                                                                                                                                                                                                                                                                                                                                                                                                                                              | .                                                                                                                                                                                                                                                                                                                                                                                                                                                                                                                                                                              | maf05                                                                                                                                                                                                                                                                                                                                                                                                                                                                                                                                                                          | EXP_FREQ_A1=0.033;IMPINFO=0.472;CERTAINTY=0.959;TYPE=0;MISS=0.0644;HW=1;CSQ=G|ENSG00000268020|ENST00000594647|Transcript|intron_variant&non_coding_transcript_variant||||||rs143174675|1||1|OR4G4P|HGNC|14822|unprocessed_pseudogene||||||||||1/1||ENST00000594647.1:n.20-77T>G||G:0.0298|G:0.07|G:0.04||G:0.03|||||||||||||                                                                                                                                                                                                                                                   | GT:GL:DS                                                                                                                                                                                                                                                                                                                                                                                                                                                                                                                                                                       | 0/0:0.997,0.003,0:0.003                                                                                                                                                                                                                                                                                                                                                                                                                                                                                                                                                        | ⋯                                                                                                                                                                                                                                                                                                                                                                                                                                                                                                                                                                              | 0/0:0.997,0.003,0:0.003                                                                                                                                                                                                                                                                                                                                                                                                                                                                                                                                                        | 0/0:0.982,0.018,0:0.018                                                                                                                                                                                                                                                                                                                                                                                                                                                                                                                                                        | 0/0:0.997,0.003,0:0.003                                                                                                                                                                                                                                                                                                                                                                                                                                                                                                                                                        | 0/0:0.997,0.003,0:0.003                                                                                                                                                                                                                                                                                                                                                                                                                                                                                                                                                        | 0/0:0.997,0.003,0:0.003                                                                                                                                                                                                                                                                                                                                                                                                                                                                                                                                                        | 0/0:0.994,0.006,0:0.006                                                                                                                                                                                                                                                                                                                                                                                                                                                                                                                                                        | 0/0:0.965,0.035,0:0.035                                                                                                                                                                                                                                                                                                                                                                                                                                                                                                                                                        | 0/0:0.984,0.016,0:0.016                                                                                                                                                                                                                                                                                                                                                                                                                                                                                                                                                        | 0/0:0.995,0.005,0:0.005                                                                                                                                                                                                                                                                                                                                                                                                                                                                                                                                                        | 0/0:0.991,0.009,0:0.009                                                                                                                                                                                                                                                                                                                                                                                                                                                                                                                                                        | \n",
       "\n",
       "\n"
      ],
      "text/plain": [
       "  #CHROM POS   ID              REF ALT QUAL FILTER\n",
       "1 1      30923 1_30923_G_T_b37 G   T   .    PASS  \n",
       "2 1      51479 1_51479_T_A_b37 T   A   .    PASS  \n",
       "3 1      52058 1_52058_G_C_b37 G   C   .    maf05 \n",
       "4 1      52238 1_52238_T_G_b37 T   G   .    PASS  \n",
       "5 1      54490 1_54490_G_A_b37 G   A   .    PASS  \n",
       "6 1      54753 1_54753_T_G_b37 T   G   .    maf05 \n",
       "  INFO                                                                                                                                                                                                                                                                                                                                                                                                                                                                                                                                                                          \n",
       "1 EXP_FREQ_A1=0.732;IMPINFO=0.446;CERTAINTY=0.730;TYPE=0;MISS=0.7867;HW=0.31695;CSQ=T|ENSG00000243485|ENST00000473358|Transcript|intron_variant&non_coding_transcript_variant||||||rs140337953|1||1|MIR1302-10|HGNC|38233|lincRNA|YES|||||||||2/2||ENST00000473358.1:n.591-53G>T||G:0.2746|T:0.48|T:0.80|T:0.89|T:0.73|||||||||||||,T|ENSG00000243485|ENST00000469289|Transcript|intron_variant&non_coding_transcript_variant||||||rs140337953|1||1|MIR1302-10|HGNC|38233|lincRNA||||||||||1/1||ENST00000469289.1:n.402-53G>T||G:0.2746|T:0.48|T:0.80|T:0.89|T:0.73|||||||||||||\n",
       "2 EXP_FREQ_A1=0.182;IMPINFO=0.405;CERTAINTY=0.779;TYPE=0;MISS=0.6600;HW=0.87518                                                                                                                                                                                                                                                                                                                                                                                                                                                                                                 \n",
       "3 EXP_FREQ_A1=0.045;IMPINFO=0.473;CERTAINTY=0.945;TYPE=0;MISS=0.1378;HW=1                                                                                                                                                                                                                                                                                                                                                                                                                                                                                                       \n",
       "4 EXP_FREQ_A1=0.920;IMPINFO=0.481;CERTAINTY=0.906;TYPE=0;MISS=0.2800;HW=1                                                                                                                                                                                                                                                                                                                                                                                                                                                                                                       \n",
       "5 EXP_FREQ_A1=0.139;IMPINFO=0.405;CERTAINTY=0.824;TYPE=0;MISS=0.6111;HW=0.84487;CSQ=A|ENSG00000268020|ENST00000594647|Transcript|intron_variant&non_coding_transcript_variant||||||rs141149254|1||1|OR4G4P|HGNC|14822|unprocessed_pseudogene||||||||||1/1||ENST00000594647.1:n.20-340G>A||A:0.0803|A:0.03|A:0.12|A:0.0035|A:0.15|||||||||||||                                                                                                                                                                                                                                   \n",
       "6 EXP_FREQ_A1=0.033;IMPINFO=0.472;CERTAINTY=0.959;TYPE=0;MISS=0.0644;HW=1;CSQ=G|ENSG00000268020|ENST00000594647|Transcript|intron_variant&non_coding_transcript_variant||||||rs143174675|1||1|OR4G4P|HGNC|14822|unprocessed_pseudogene||||||||||1/1||ENST00000594647.1:n.20-77T>G||G:0.0298|G:0.07|G:0.04||G:0.03|||||||||||||                                                                                                                                                                                                                                                  \n",
       "  FORMAT   GTEX-P4PP-0004-SM-2H2WW     ⋯ GTEX-YF7O-0002-SM-4YUUX    \n",
       "1 GT:GL:DS ./.:0.006,0.483,0.511:1.505 ⋯ 1/1:0.001,0.035,0.964:1.963\n",
       "2 GT:GL:DS ./.:0.514,0.481,0.005:0.491 ⋯ 0/0:0.971,0.029,0:0.029    \n",
       "3 GT:GL:DS 0/0:0.996,0.004,0:0.004     ⋯ 0/0:0.995,0.005,0:0.005    \n",
       "4 GT:GL:DS ./.:0,0.238,0.762:1.762     ⋯ 1/1:0,0.006,0.994:1.994    \n",
       "5 GT:GL:DS ./.:0.519,0.478,0.003:0.484 ⋯ 0/0:0.981,0.019,0:0.019    \n",
       "6 GT:GL:DS 0/0:0.997,0.003,0:0.003     ⋯ 0/0:0.997,0.003,0:0.003    \n",
       "  GTEX-11TTK-0002-SM-5DWT4    GTEX-Y3IK-0004-SM-4YUX2    \n",
       "1 ./.:0.004,0.324,0.672:1.668 1/1:0.001,0.056,0.943:1.942\n",
       "2 ./.:0.028,0.696,0.276:1.248 0/0:0.968,0.032,0:0.032    \n",
       "3 0/0:0.981,0.019,0:0.019     0/0:0.996,0.004,0:0.004    \n",
       "4 1/1:0,0.051,0.949:1.949     1/1:0,0.013,0.987:1.987    \n",
       "5 ./.:0.032,0.739,0.229:1.197 0/0:0.973,0.027,0:0.027    \n",
       "6 0/0:0.982,0.018,0:0.018     0/0:0.997,0.003,0:0.003    \n",
       "  GTEX-12WSE-0002-SM-5DWRT    GTEX-1212Z-0004-SM-5DWTI   \n",
       "1 0/1:0.013,0.948,0.039:1.026 0/1:0.017,0.942,0.041:1.024\n",
       "2 ./.:0.865,0.134,0.001:0.136 0/0:0.973,0.027,0:0.027    \n",
       "3 ./.:0.878,0.122,0:0.122     0/0:0.995,0.005,0:0.005    \n",
       "4 1/1:0,0.005,0.995:1.995     1/1:0,0.006,0.994:1.994    \n",
       "5 ./.:0.870,0.13,0:0.130      0/0:0.980,0.02,0:0.020     \n",
       "6 0/0:0.997,0.003,0:0.003     0/0:0.997,0.003,0:0.003    \n",
       "  GTEX-YEC3-0004-SM-4YUXB     GTEX-11ONC-0003-SM-5DWT5   \n",
       "1 ./.:0.027,0.358,0.615:1.588 ./.:0.016,0.232,0.752:1.736\n",
       "2 ./.:0.759,0.238,0.003:0.244 ./.:0.741,0.24,0.019:0.278 \n",
       "3 0/0:0.981,0.019,0:0.019     0/0:0.966,0.034,0:0.034    \n",
       "4 1/1:0,0.005,0.995:1.995     1/1:0,0.067,0.933:1.933    \n",
       "5 ./.:0.771,0.227,0.002:0.231 0/0:0.907,0.091,0.002:0.095\n",
       "6 0/0:0.994,0.006,0:0.006     0/0:0.965,0.035,0:0.035    \n",
       "  GTEX-ZZPT-0002-SM-5DWTU     GTEX-ZVTK-0002-SM-4YUW7    \n",
       "1 ./.:0.069,0.483,0.448:1.379 ./.:0.009,0.366,0.625:1.616\n",
       "2 ./.:0.449,0.483,0.068:0.619 ./.:0.641,0.358,0.001:0.360\n",
       "3 ./.:0.523,0.476,0.001:0.478 0/0:0.997,0.003,0:0.003    \n",
       "4 1/1:0,0.005,0.995:1.995     ./.:0.067,0.707,0.226:1.159\n",
       "5 ./.:0.524,0.473,0.003:0.479 ./.:0.731,0.269,0:0.269    \n",
       "6 0/0:0.984,0.016,0:0.016     0/0:0.995,0.005,0:0.005    \n",
       "  GTEX-XBEC-0002-SM-4YUVW_1  \n",
       "1 ./.:0.003,0.261,0.736:1.733\n",
       "2 0/0:0.959,0.041,0:0.041    \n",
       "3 0/0:0.990,0.01,0:0.010     \n",
       "4 1/1:0,0.007,0.993:1.993    \n",
       "5 0/0:0.972,0.028,0:0.028    \n",
       "6 0/0:0.991,0.009,0:0.009    "
      ]
     },
     "metadata": {},
     "output_type": "display_data"
    }
   ],
   "source": [
    "head(omni_df)"
   ]
  },
  {
   "cell_type": "code",
   "execution_count": 18,
   "metadata": {},
   "outputs": [
    {
     "data": {
      "text/html": [
       "<ol class=list-inline>\n",
       "\t<li>'GTEX-P4PP-0004-SM-2H2WW'</li>\n",
       "\t<li>'GTEX-PWO3-0004-SM-2IJGP'</li>\n",
       "\t<li>'GTEX-SNOS-0004-SM-325AE'</li>\n",
       "\t<li>'GTEX-PW2O-0004-SM-2IJGJ'</li>\n",
       "\t<li>'GTEX-RU72-0004-SM-2RXF6'</li>\n",
       "\t<li>'GTEX-VJYA-0003-SM-3G3S9'</li>\n",
       "</ol>\n"
      ],
      "text/latex": [
       "\\begin{enumerate*}\n",
       "\\item 'GTEX-P4PP-0004-SM-2H2WW'\n",
       "\\item 'GTEX-PWO3-0004-SM-2IJGP'\n",
       "\\item 'GTEX-SNOS-0004-SM-325AE'\n",
       "\\item 'GTEX-PW2O-0004-SM-2IJGJ'\n",
       "\\item 'GTEX-RU72-0004-SM-2RXF6'\n",
       "\\item 'GTEX-VJYA-0003-SM-3G3S9'\n",
       "\\end{enumerate*}\n"
      ],
      "text/markdown": [
       "1. 'GTEX-P4PP-0004-SM-2H2WW'\n",
       "2. 'GTEX-PWO3-0004-SM-2IJGP'\n",
       "3. 'GTEX-SNOS-0004-SM-325AE'\n",
       "4. 'GTEX-PW2O-0004-SM-2IJGJ'\n",
       "5. 'GTEX-RU72-0004-SM-2RXF6'\n",
       "6. 'GTEX-VJYA-0003-SM-3G3S9'\n",
       "\n",
       "\n"
      ],
      "text/plain": [
       "[1] \"GTEX-P4PP-0004-SM-2H2WW\" \"GTEX-PWO3-0004-SM-2IJGP\"\n",
       "[3] \"GTEX-SNOS-0004-SM-325AE\" \"GTEX-PW2O-0004-SM-2IJGJ\"\n",
       "[5] \"GTEX-RU72-0004-SM-2RXF6\" \"GTEX-VJYA-0003-SM-3G3S9\""
      ]
     },
     "metadata": {},
     "output_type": "display_data"
    }
   ],
   "source": [
    "gtex_omni_id <- colnames(omni_df)[-c(1:9)]\n",
    "head(gtex_omni_id)"
   ]
  },
  {
   "cell_type": "code",
   "execution_count": 22,
   "metadata": {},
   "outputs": [],
   "source": [
    "concat <- function(str) {\n",
    "    return(paste0(\"GTEX-\", substr(str, 19, 24)))\n",
    "}"
   ]
  },
  {
   "cell_type": "code",
   "execution_count": 25,
   "metadata": {},
   "outputs": [],
   "source": [
    "gtex_omni_id_short <- as.character(sapply(gtex_omni_id, concat))"
   ]
  },
  {
   "cell_type": "code",
   "execution_count": 26,
   "metadata": {},
   "outputs": [
    {
     "data": {
      "text/html": [
       "<ol class=list-inline>\n",
       "\t<li>'GTEX-2H2WW'</li>\n",
       "\t<li>'GTEX-2IJGP'</li>\n",
       "\t<li>'GTEX-325AE'</li>\n",
       "\t<li>'GTEX-2IJGJ'</li>\n",
       "\t<li>'GTEX-2RXF6'</li>\n",
       "\t<li>'GTEX-3G3S9'</li>\n",
       "</ol>\n"
      ],
      "text/latex": [
       "\\begin{enumerate*}\n",
       "\\item 'GTEX-2H2WW'\n",
       "\\item 'GTEX-2IJGP'\n",
       "\\item 'GTEX-325AE'\n",
       "\\item 'GTEX-2IJGJ'\n",
       "\\item 'GTEX-2RXF6'\n",
       "\\item 'GTEX-3G3S9'\n",
       "\\end{enumerate*}\n"
      ],
      "text/markdown": [
       "1. 'GTEX-2H2WW'\n",
       "2. 'GTEX-2IJGP'\n",
       "3. 'GTEX-325AE'\n",
       "4. 'GTEX-2IJGJ'\n",
       "5. 'GTEX-2RXF6'\n",
       "6. 'GTEX-3G3S9'\n",
       "\n",
       "\n"
      ],
      "text/plain": [
       "[1] \"GTEX-2H2WW\" \"GTEX-2IJGP\" \"GTEX-325AE\" \"GTEX-2IJGJ\" \"GTEX-2RXF6\"\n",
       "[6] \"GTEX-3G3S9\""
      ]
     },
     "metadata": {},
     "output_type": "display_data"
    }
   ],
   "source": [
    "head(gtex_omni_id_short)"
   ]
  },
  {
   "cell_type": "code",
   "execution_count": 21,
   "metadata": {},
   "outputs": [
    {
     "data": {
      "text/html": [
       "'2H2WW'"
      ],
      "text/latex": [
       "'2H2WW'"
      ],
      "text/markdown": [
       "'2H2WW'"
      ],
      "text/plain": [
       "[1] \"2H2WW\""
      ]
     },
     "metadata": {},
     "output_type": "display_data"
    }
   ],
   "source": [
    "substr(\"GTEX-P4PP-0004-SM-2H2WW\", 19, 24)\n"
   ]
  },
  {
   "cell_type": "code",
   "execution_count": null,
   "metadata": {},
   "outputs": [],
   "source": [
    "gsub('GTEX-P4PP-0004-SM-2H2WW', "
   ]
  },
  {
   "cell_type": "code",
   "execution_count": 9,
   "metadata": {},
   "outputs": [],
   "source": [
    "wgs_path <- \"/ysm-gpfs/pi/zhao/zy92/ncbi/phg001219.v1.GTEx_v8_WGS.genotype-calls-vcf.c1/\"\n",
    "sample_name <- \"sample_WholeGenomeSeq.vcf\"\n",
    "wgs_df <- as.data.frame(fread(paste0(wgs_path, sample_name)))"
   ]
  },
  {
   "cell_type": "code",
   "execution_count": 11,
   "metadata": {},
   "outputs": [
    {
     "data": {
      "text/html": [
       "<ol class=list-inline>\n",
       "\t<li>917</li>\n",
       "\t<li>875</li>\n",
       "</ol>\n"
      ],
      "text/latex": [
       "\\begin{enumerate*}\n",
       "\\item 917\n",
       "\\item 875\n",
       "\\end{enumerate*}\n"
      ],
      "text/markdown": [
       "1. 917\n",
       "2. 875\n",
       "\n",
       "\n"
      ],
      "text/plain": [
       "[1] 917 875"
      ]
     },
     "metadata": {},
     "output_type": "display_data"
    }
   ],
   "source": [
    "dim(wgs_df)"
   ]
  },
  {
   "cell_type": "code",
   "execution_count": null,
   "metadata": {},
   "outputs": [],
   "source": [
    "866"
   ]
  },
  {
   "cell_type": "code",
   "execution_count": 12,
   "metadata": {},
   "outputs": [
    {
     "data": {
      "text/html": [
       "<table>\n",
       "<thead><tr><th scope=col>#CHROM</th><th scope=col>POS</th><th scope=col>ID</th><th scope=col>REF</th><th scope=col>ALT</th><th scope=col>QUAL</th><th scope=col>FILTER</th><th scope=col>INFO</th><th scope=col>FORMAT</th><th scope=col>GTEX-1117F</th><th scope=col>⋯</th><th scope=col>GTEX-ZYFD</th><th scope=col>GTEX-ZYFG</th><th scope=col>GTEX-ZYT6</th><th scope=col>GTEX-ZYVF</th><th scope=col>GTEX-ZYW4</th><th scope=col>GTEX-ZYWO</th><th scope=col>GTEX-ZYY3</th><th scope=col>GTEX-ZZ64</th><th scope=col>GTEX-ZZPT</th><th scope=col>GTEX-ZZPU</th></tr></thead>\n",
       "<tbody>\n",
       "\t<tr><td>chr1                                                                                                                                                                                                                                                                                                                                                               </td><td>10109                                                                                                                                                                                                                                                                                                                                                              </td><td>chr1_10109_AACCCT_A_b38                                                                                                                                                                                                                                                                                                                                            </td><td>AACCCT                                                                                                                                                                                                                                                                                                                                                             </td><td>A                                                                                                                                                                                                                                                                                                                                                                  </td><td> 1623.01                                                                                                                                                                                                                                                                                                                                                           </td><td>InbreedingCoeff                                                                                                                                                                                                                                                                                                                                                    </td><td>AC=6;AF=3.71747e-03;AN=1614;BaseQRankSum=-1.30700e+00;ClippingRankSum=-5.83000e-01;DP=105438;ExcessHet=2.14748e+09;FS=6.17150e+01;InbreedingCoeff=-3.20300e-01;MLEAC=11;MLEAF=6.29300e-03;MQ=6.38000e+00;MQRankSum=7.29000e-01;QD=1.56100e+01;ReadPosRankSum=-2.44000e-01;SOR=4.63400e+00;                                                                         </td><td>GT:AD:DP:GQ:PL                                                                                                                                                                                                                                                                                                                                                     </td><td>0/0:140,0:140:0:0,0,2441                                                                                                                                                                                                                                                                                                                                           </td><td>⋯                                                                                                                                                                                                                                                                                                                                                                  </td><td>0/0:91,0:91:0:0,0,1003                                                                                                                                                                                                                                                                                                                                             </td><td>0/0:98,0:98:0:0,0,496                                                                                                                                                                                                                                                                                                                                              </td><td>0/0:96,0:96:0:0,0,962                                                                                                                                                                                                                                                                                                                                              </td><td>0/1:3,6:9:62:105,0,62                                                                                                                                                                                                                                                                                                                                              </td><td>0/0:133,0:133:0:0,0,665                                                                                                                                                                                                                                                                                                                                            </td><td>./.:113,0:113:.:0,0,0                                                                                                                                                                                                                                                                                                                                              </td><td>0/0:108,0:108:0:0,0,647                                                                                                                                                                                                                                                                                                                                            </td><td>0/0:158,0:158:0:0,0,2167                                                                                                                                                                                                                                                                                                                                           </td><td>0/0:163,0:163:0:0,0,117                                                                                                                                                                                                                                                                                                                                            </td><td>0/0:141,0:141:0:0,0,2211                                                                                                                                                                                                                                                                                                                                           </td></tr>\n",
       "\t<tr><td>chr1                                                                                                                                                                                                                                                                                                                                                               </td><td>10134                                                                                                                                                                                                                                                                                                                                                              </td><td>chr1_10134_ACCCTAACCCTAAC_A_b38                                                                                                                                                                                                                                                                                                                                    </td><td>ACCCTAACCCTAAC                                                                                                                                                                                                                                                                                                                                                     </td><td>A                                                                                                                                                                                                                                                                                                                                                                  </td><td>  135.85                                                                                                                                                                                                                                                                                                                                                           </td><td>PASS                                                                                                                                                                                                                                                                                                                                                               </td><td>AC=1;AF=6.00240e-04;AN=1666;BaseQRankSum=-1.10400e+00;ClippingRankSum=3.59000e-01;DP=84632;ExcessHet=1.32990e+01;FS=2.55500e+00;InbreedingCoeff=-3.04000e-02;MLEAC=1;MLEAF=5.55600e-04;MQ=2.40100e+01;MQRankSum=-3.49000e-01;NEGATIVE_TRAIN_SITE;QD=1.23500e+01;ReadPosRankSum=-3.08000e-01;SOR=9.42000e-01;VQSLOD=-1.16400e+01;culprit=DP;                        </td><td>GT:AD:DP:GQ:PL                                                                                                                                                                                                                                                                                                                                                     </td><td>0/0:123,0:123:36:0,36,540                                                                                                                                                                                                                                                                                                                                          </td><td>⋯                                                                                                                                                                                                                                                                                                                                                                  </td><td>0/0:82,0:82:0:0,0,1649                                                                                                                                                                                                                                                                                                                                             </td><td>0/0:68,0:68:0:0,0,748                                                                                                                                                                                                                                                                                                                                              </td><td>0/0:85,0:85:54:0,54,810                                                                                                                                                                                                                                                                                                                                            </td><td>0/0:91,0:91:0:0,0,741                                                                                                                                                                                                                                                                                                                                              </td><td>./.:11,0:11:.:0,0,0                                                                                                                                                                                                                                                                                                                                                </td><td>0/0:108,0:108:0:0,0,1265                                                                                                                                                                                                                                                                                                                                           </td><td>0/0:105,0:105:0:0,0,2325                                                                                                                                                                                                                                                                                                                                           </td><td>0/0:127,0:127:60:0,60,900                                                                                                                                                                                                                                                                                                                                          </td><td>0/0:158,0:158:0:0,0,2693                                                                                                                                                                                                                                                                                                                                           </td><td>0/0:129,0:129:60:0,60,900                                                                                                                                                                                                                                                                                                                                          </td></tr>\n",
       "\t<tr><td>chr1                                                                                                                                                                                                                                                                                                                                                               </td><td>10140                                                                                                                                                                                                                                                                                                                                                              </td><td>chr1_10140_ACCCTAAC_A_b38                                                                                                                                                                                                                                                                                                                                          </td><td>ACCCTAAC                                                                                                                                                                                                                                                                                                                                                           </td><td>A                                                                                                                                                                                                                                                                                                                                                                  </td><td>  677.80                                                                                                                                                                                                                                                                                                                                                           </td><td>PASS                                                                                                                                                                                                                                                                                                                                                               </td><td>AC=1;AF=6.07533e-04;AN=1646;BaseQRankSum=5.53000e-01;ClippingRankSum=1.12000e-01;DP=76686;ExcessHet=3.01950e+00;FS=1.55560e+01;InbreedingCoeff=3.47000e-02;MLEAC=1,1;MLEAF=5.61800e-04,5.61800e-04;MQ=2.06100e+01;MQRankSum=-4.10000e-01;NEGATIVE_TRAIN_SITE;QD=1.99400e+01;ReadPosRankSum=-2.23000e-01;SOR=1.72600e+00;VQSLOD=-7.00900e+00;culprit=DP;wasSplit    </td><td>GT:AD:DP:GQ:PL                                                                                                                                                                                                                                                                                                                                                     </td><td>0/0:103,0:103:33:0,33,495                                                                                                                                                                                                                                                                                                                                          </td><td>⋯                                                                                                                                                                                                                                                                                                                                                                  </td><td>0/0:76,0:76:0:0,0,1417                                                                                                                                                                                                                                                                                                                                             </td><td>0/0:68,0:68:0:0,0,748                                                                                                                                                                                                                                                                                                                                              </td><td>0/0:79,0:79:36:0,36,540                                                                                                                                                                                                                                                                                                                                            </td><td>0/0:91,0:91:0:0,0,741                                                                                                                                                                                                                                                                                                                                              </td><td>./.:11,0:11:0:0,0,0                                                                                                                                                                                                                                                                                                                                                </td><td>0/0:105,0:105:0:0,0,1806                                                                                                                                                                                                                                                                                                                                           </td><td>0/0:97,0:97:17:0,17,2130                                                                                                                                                                                                                                                                                                                                           </td><td>0/0:110,0:110:42:0,42,2544                                                                                                                                                                                                                                                                                                                                         </td><td>0/0:7,0:7:29:0,29,209                                                                                                                                                                                                                                                                                                                                              </td><td>0/0:117,0:117:0:0,0,2473                                                                                                                                                                                                                                                                                                                                           </td></tr>\n",
       "\t<tr><td>chr1                                                                                                                                                                                                                                                                                                                                                               </td><td>10144                                                                                                                                                                                                                                                                                                                                                              </td><td>chr1_10144_T_C_b38                                                                                                                                                                                                                                                                                                                                                 </td><td>T                                                                                                                                                                                                                                                                                                                                                                  </td><td>C                                                                                                                                                                                                                                                                                                                                                                  </td><td> 3461.52                                                                                                                                                                                                                                                                                                                                                           </td><td>PASS                                                                                                                                                                                                                                                                                                                                                               </td><td>AC=7;AF=4.39698e-03;AN=1592;BaseQRankSum=-8.52000e-01;ClippingRankSum=-4.41000e-01;DP=63039;ExcessHet=4.29180e+00;FS=5.11500e+00;InbreedingCoeff=9.33000e-02;MLEAC=7,7;MLEAF=4.06000e-03,4.06000e-03;MQ=2.17000e+01;MQRankSum=1.02000e-01;NEGATIVE_TRAIN_SITE;QD=1.01200e+01;ReadPosRankSum=-5.29000e-01;SOR=1.30700e+00;VQSLOD=-5.17400e+00;culprit=DP;wasSplit   </td><td>GT:AD:DP:GQ:PL                                                                                                                                                                                                                                                                                                                                                     </td><td>0/0:86,0:86:0:0,0,1644                                                                                                                                                                                                                                                                                                                                             </td><td>⋯                                                                                                                                                                                                                                                                                                                                                                  </td><td>0/0:54,0:54:0:0,0,160                                                                                                                                                                                                                                                                                                                                              </td><td>0/0:68,0:68:0:0,0,748                                                                                                                                                                                                                                                                                                                                              </td><td>0/0:69,0:69:0:0,0,989                                                                                                                                                                                                                                                                                                                                              </td><td>0/0:91,0:91:0:0,0,741                                                                                                                                                                                                                                                                                                                                              </td><td>./.:11,0:11:0:0,0,0                                                                                                                                                                                                                                                                                                                                                </td><td>0/0:97,0:97:0:0,0,1431                                                                                                                                                                                                                                                                                                                                             </td><td>0/0:88,0:88:0:0,0,1028                                                                                                                                                                                                                                                                                                                                             </td><td>0/0:79,0:79:0:0,0,1119                                                                                                                                                                                                                                                                                                                                             </td><td>0/0:135,0:135:0:0,0,2369                                                                                                                                                                                                                                                                                                                                           </td><td>0/0:110,0:110:0:0,0,1498                                                                                                                                                                                                                                                                                                                                           </td></tr>\n",
       "\t<tr><td>chr1                                                                                                                                                                                                                                                                                                                                                               </td><td>10145                                                                                                                                                                                                                                                                                                                                                              </td><td>chr1_10145_AAC_A_b38                                                                                                                                                                                                                                                                                                                                               </td><td>AAC                                                                                                                                                                                                                                                                                                                                                                </td><td>A                                                                                                                                                                                                                                                                                                                                                                  </td><td> 3323.20                                                                                                                                                                                                                                                                                                                                                           </td><td>PASS                                                                                                                                                                                                                                                                                                                                                               </td><td>AC=4;AF=2.51572e-03;AN=1590;BaseQRankSum=3.22000e-01;ClippingRankSum=-1.37000e-01;DP=63983;ExcessHet=3.51780e+00;FS=3.54000e+00;InbreedingCoeff=7.87000e-02;MLEAC=8,4;MLEAF=4.64600e-03,2.32300e-03;MQ=1.32900e+01;MQRankSum=-1.18200e+00;NEGATIVE_TRAIN_SITE;QD=1.07500e+01;ReadPosRankSum=7.76000e-01;SOR=1.10300e+00;VQSLOD=-5.66600e+00;culprit=DP;wasSplit    </td><td>GT:AD:DP:GQ:PL                                                                                                                                                                                                                                                                                                                                                     </td><td>0/0:97,0:97:30:0,30,450                                                                                                                                                                                                                                                                                                                                            </td><td>⋯                                                                                                                                                                                                                                                                                                                                                                  </td><td>0/0:54,0:54:0:0,0,160                                                                                                                                                                                                                                                                                                                                              </td><td>0/0:68,0:68:0:0,0,748                                                                                                                                                                                                                                                                                                                                              </td><td>0/0:69,0:69:0:0,0,989                                                                                                                                                                                                                                                                                                                                              </td><td>0/0:91,0:91:0:0,0,741                                                                                                                                                                                                                                                                                                                                              </td><td>./.:11,0:11:0:0,0,0                                                                                                                                                                                                                                                                                                                                                </td><td>0/0:97,0:97:0:0,0,1431                                                                                                                                                                                                                                                                                                                                             </td><td>0/0:88,0:88:0:0,0,1028                                                                                                                                                                                                                                                                                                                                             </td><td>0/0:79,0:79:0:0,0,1119                                                                                                                                                                                                                                                                                                                                             </td><td>0/0:135,0:135:0:0,0,2369                                                                                                                                                                                                                                                                                                                                           </td><td>0/0:110,0:110:0:0,0,1498                                                                                                                                                                                                                                                                                                                                           </td></tr>\n",
       "\t<tr><td>chr1                                                                                                                                                                                                                                                                                                                                                               </td><td>10146                                                                                                                                                                                                                                                                                                                                                              </td><td>chr1_10146_AC_A_b38                                                                                                                                                                                                                                                                                                                                                </td><td>AC                                                                                                                                                                                                                                                                                                                                                                 </td><td>A                                                                                                                                                                                                                                                                                                                                                                  </td><td>60780.94                                                                                                                                                                                                                                                                                                                                                           </td><td>PASS                                                                                                                                                                                                                                                                                                                                                               </td><td>AC=274;AF=1.73198e-01;AN=1582;BaseQRankSum=-2.06000e-01;ClippingRankSum=-2.00000e-01;DP=54059;ExcessHet=4.28838e+01;FS=0.00000e+00;InbreedingCoeff=1.41300e-01;MLEAC=337,9;MLEAF=1.97000e-01,5.25100e-03;MQ=3.15800e+01;MQRankSum=5.30000e-02;NEGATIVE_TRAIN_SITE;QD=1.18400e+01;ReadPosRankSum=5.18000e-01;SOR=6.68000e-01;VQSLOD=-6.38100e-01;culprit=DP;wasSplit</td><td>GT:AD:DP:GQ:PL                                                                                                                                                                                                                                                                                                                                                     </td><td>0/0:92,0:92:0:0,0,416                                                                                                                                                                                                                                                                                                                                              </td><td>⋯                                                                                                                                                                                                                                                                                                                                                                  </td><td>0/0:54,0:54:0:0,0,160                                                                                                                                                                                                                                                                                                                                              </td><td>0/0:68,0:68:0:0,0,748                                                                                                                                                                                                                                                                                                                                              </td><td>0/1:5,19:24:50:266,0,50                                                                                                                                                                                                                                                                                                                                            </td><td>0/1:1,5:6:2:108,0,2                                                                                                                                                                                                                                                                                                                                                </td><td>./.:11,0:11:0:0,0,0                                                                                                                                                                                                                                                                                                                                                </td><td>0/1:1,5:6:4:36,0,4                                                                                                                                                                                                                                                                                                                                                 </td><td>0/0:88,0:88:0:0,0,1028                                                                                                                                                                                                                                                                                                                                             </td><td>0/0:79,0:79:0:0,0,1119                                                                                                                                                                                                                                                                                                                                             </td><td>0/1:2,3:5:26:26,0,44                                                                                                                                                                                                                                                                                                                                               </td><td>0/0:110,0:110:0:0,0,1498                                                                                                                                                                                                                                                                                                                                           </td></tr>\n",
       "</tbody>\n",
       "</table>\n"
      ],
      "text/latex": [
       "\\begin{tabular}{r|lllllllllllllllllllllllllllllllllllllllllllllllllllllllllllllllllllllllllllllllllllllllllllllllllllllllllllllllllllllllllllllllllllllllllllllllllllllllllllllllllllllllllllllllllllllllllllllllllllllllllllllllllllllllllllllllllllllllllllllllllllllllllllllllllllllllllllllllllllllllllllllllllllllllllllllllllllllllllllllllllllllllllllllllllllllllllllllllllllllllllllllllllllllllllllllllllllllllllllllllllllllllllllllllllllllllllllllllllllllllllllllllllllllllllllllllllllllllllllllllllllllllllllllllllllllllllllllllllllllllllllllllllllllllllllllllllllllllllllllllllllllllllllllllllllllllllllllllllllllllllllllllllllllllllllllllllllllllllllllllllllllllllllllllllllllllllllllllllllllllllllllllllllllllllllllllllllllllllllllllllllllllllllllllllllllllllllllllllllllllllllllllllllllllllllllllllllllllllllllllllllllllllllllllllllllllllllllllllllllllllllllllllllllllllllllllllllllllllll}\n",
       " \\#CHROM & POS & ID & REF & ALT & QUAL & FILTER & INFO & FORMAT & GTEX-1117F & ⋯ & GTEX-ZYFD & GTEX-ZYFG & GTEX-ZYT6 & GTEX-ZYVF & GTEX-ZYW4 & GTEX-ZYWO & GTEX-ZYY3 & GTEX-ZZ64 & GTEX-ZZPT & GTEX-ZZPU\\\\\n",
       "\\hline\n",
       "\t chr1                                                                                                                                                                                                                                                                                                                                                                & 10109                                                                                                                                                                                                                                                                                                                                                               & chr1\\_10109\\_AACCCT\\_A\\_b38                                                                                                                                                                                                                                                                                                                                     & AACCCT                                                                                                                                                                                                                                                                                                                                                              & A                                                                                                                                                                                                                                                                                                                                                                   &  1623.01                                                                                                                                                                                                                                                                                                                                                            & InbreedingCoeff                                                                                                                                                                                                                                                                                                                                                     & AC=6;AF=3.71747e-03;AN=1614;BaseQRankSum=-1.30700e+00;ClippingRankSum=-5.83000e-01;DP=105438;ExcessHet=2.14748e+09;FS=6.17150e+01;InbreedingCoeff=-3.20300e-01;MLEAC=11;MLEAF=6.29300e-03;MQ=6.38000e+00;MQRankSum=7.29000e-01;QD=1.56100e+01;ReadPosRankSum=-2.44000e-01;SOR=4.63400e+00;                                                                          & GT:AD:DP:GQ:PL                                                                                                                                                                                                                                                                                                                                                      & 0/0:140,0:140:0:0,0,2441                                                                                                                                                                                                                                                                                                                                            & ⋯                                                                                                                                                                                                                                                                                                                                                                   & 0/0:91,0:91:0:0,0,1003                                                                                                                                                                                                                                                                                                                                              & 0/0:98,0:98:0:0,0,496                                                                                                                                                                                                                                                                                                                                               & 0/0:96,0:96:0:0,0,962                                                                                                                                                                                                                                                                                                                                               & 0/1:3,6:9:62:105,0,62                                                                                                                                                                                                                                                                                                                                               & 0/0:133,0:133:0:0,0,665                                                                                                                                                                                                                                                                                                                                             & ./.:113,0:113:.:0,0,0                                                                                                                                                                                                                                                                                                                                               & 0/0:108,0:108:0:0,0,647                                                                                                                                                                                                                                                                                                                                             & 0/0:158,0:158:0:0,0,2167                                                                                                                                                                                                                                                                                                                                            & 0/0:163,0:163:0:0,0,117                                                                                                                                                                                                                                                                                                                                             & 0/0:141,0:141:0:0,0,2211                                                                                                                                                                                                                                                                                                                                           \\\\\n",
       "\t chr1                                                                                                                                                                                                                                                                                                                                                                    & 10134                                                                                                                                                                                                                                                                                                                                                                   & chr1\\_10134\\_ACCCTAACCCTAAC\\_A\\_b38                                                                                                                                                                                                                                                                                                                                 & ACCCTAACCCTAAC                                                                                                                                                                                                                                                                                                                                                          & A                                                                                                                                                                                                                                                                                                                                                                       &   135.85                                                                                                                                                                                                                                                                                                                                                                & PASS                                                                                                                                                                                                                                                                                                                                                                    & AC=1;AF=6.00240e-04;AN=1666;BaseQRankSum=-1.10400e+00;ClippingRankSum=3.59000e-01;DP=84632;ExcessHet=1.32990e+01;FS=2.55500e+00;InbreedingCoeff=-3.04000e-02;MLEAC=1;MLEAF=5.55600e-04;MQ=2.40100e+01;MQRankSum=-3.49000e-01;NEGATIVE\\_TRAIN\\_SITE;QD=1.23500e+01;ReadPosRankSum=-3.08000e-01;SOR=9.42000e-01;VQSLOD=-1.16400e+01;culprit=DP;                         & GT:AD:DP:GQ:PL                                                                                                                                                                                                                                                                                                                                                          & 0/0:123,0:123:36:0,36,540                                                                                                                                                                                                                                                                                                                                               & ⋯                                                                                                                                                                                                                                                                                                                                                                       & 0/0:82,0:82:0:0,0,1649                                                                                                                                                                                                                                                                                                                                                  & 0/0:68,0:68:0:0,0,748                                                                                                                                                                                                                                                                                                                                                   & 0/0:85,0:85:54:0,54,810                                                                                                                                                                                                                                                                                                                                                 & 0/0:91,0:91:0:0,0,741                                                                                                                                                                                                                                                                                                                                                   & ./.:11,0:11:.:0,0,0                                                                                                                                                                                                                                                                                                                                                     & 0/0:108,0:108:0:0,0,1265                                                                                                                                                                                                                                                                                                                                                & 0/0:105,0:105:0:0,0,2325                                                                                                                                                                                                                                                                                                                                                & 0/0:127,0:127:60:0,60,900                                                                                                                                                                                                                                                                                                                                               & 0/0:158,0:158:0:0,0,2693                                                                                                                                                                                                                                                                                                                                                & 0/0:129,0:129:60:0,60,900                                                                                                                                                                                                                                                                                                                                              \\\\\n",
       "\t chr1                                                                                                                                                                                                                                                                                                                                                                    & 10140                                                                                                                                                                                                                                                                                                                                                                   & chr1\\_10140\\_ACCCTAAC\\_A\\_b38                                                                                                                                                                                                                                                                                                                                       & ACCCTAAC                                                                                                                                                                                                                                                                                                                                                                & A                                                                                                                                                                                                                                                                                                                                                                       &   677.80                                                                                                                                                                                                                                                                                                                                                                & PASS                                                                                                                                                                                                                                                                                                                                                                    & AC=1;AF=6.07533e-04;AN=1646;BaseQRankSum=5.53000e-01;ClippingRankSum=1.12000e-01;DP=76686;ExcessHet=3.01950e+00;FS=1.55560e+01;InbreedingCoeff=3.47000e-02;MLEAC=1,1;MLEAF=5.61800e-04,5.61800e-04;MQ=2.06100e+01;MQRankSum=-4.10000e-01;NEGATIVE\\_TRAIN\\_SITE;QD=1.99400e+01;ReadPosRankSum=-2.23000e-01;SOR=1.72600e+00;VQSLOD=-7.00900e+00;culprit=DP;wasSplit     & GT:AD:DP:GQ:PL                                                                                                                                                                                                                                                                                                                                                          & 0/0:103,0:103:33:0,33,495                                                                                                                                                                                                                                                                                                                                               & ⋯                                                                                                                                                                                                                                                                                                                                                                       & 0/0:76,0:76:0:0,0,1417                                                                                                                                                                                                                                                                                                                                                  & 0/0:68,0:68:0:0,0,748                                                                                                                                                                                                                                                                                                                                                   & 0/0:79,0:79:36:0,36,540                                                                                                                                                                                                                                                                                                                                                 & 0/0:91,0:91:0:0,0,741                                                                                                                                                                                                                                                                                                                                                   & ./.:11,0:11:0:0,0,0                                                                                                                                                                                                                                                                                                                                                     & 0/0:105,0:105:0:0,0,1806                                                                                                                                                                                                                                                                                                                                                & 0/0:97,0:97:17:0,17,2130                                                                                                                                                                                                                                                                                                                                                & 0/0:110,0:110:42:0,42,2544                                                                                                                                                                                                                                                                                                                                              & 0/0:7,0:7:29:0,29,209                                                                                                                                                                                                                                                                                                                                                   & 0/0:117,0:117:0:0,0,2473                                                                                                                                                                                                                                                                                                                                               \\\\\n",
       "\t chr1                                                                                                                                                                                                                                                                                                                                                                    & 10144                                                                                                                                                                                                                                                                                                                                                                   & chr1\\_10144\\_T\\_C\\_b38                                                                                                                                                                                                                                                                                                                                              & T                                                                                                                                                                                                                                                                                                                                                                       & C                                                                                                                                                                                                                                                                                                                                                                       &  3461.52                                                                                                                                                                                                                                                                                                                                                                & PASS                                                                                                                                                                                                                                                                                                                                                                    & AC=7;AF=4.39698e-03;AN=1592;BaseQRankSum=-8.52000e-01;ClippingRankSum=-4.41000e-01;DP=63039;ExcessHet=4.29180e+00;FS=5.11500e+00;InbreedingCoeff=9.33000e-02;MLEAC=7,7;MLEAF=4.06000e-03,4.06000e-03;MQ=2.17000e+01;MQRankSum=1.02000e-01;NEGATIVE\\_TRAIN\\_SITE;QD=1.01200e+01;ReadPosRankSum=-5.29000e-01;SOR=1.30700e+00;VQSLOD=-5.17400e+00;culprit=DP;wasSplit    & GT:AD:DP:GQ:PL                                                                                                                                                                                                                                                                                                                                                          & 0/0:86,0:86:0:0,0,1644                                                                                                                                                                                                                                                                                                                                                  & ⋯                                                                                                                                                                                                                                                                                                                                                                       & 0/0:54,0:54:0:0,0,160                                                                                                                                                                                                                                                                                                                                                   & 0/0:68,0:68:0:0,0,748                                                                                                                                                                                                                                                                                                                                                   & 0/0:69,0:69:0:0,0,989                                                                                                                                                                                                                                                                                                                                                   & 0/0:91,0:91:0:0,0,741                                                                                                                                                                                                                                                                                                                                                   & ./.:11,0:11:0:0,0,0                                                                                                                                                                                                                                                                                                                                                     & 0/0:97,0:97:0:0,0,1431                                                                                                                                                                                                                                                                                                                                                  & 0/0:88,0:88:0:0,0,1028                                                                                                                                                                                                                                                                                                                                                  & 0/0:79,0:79:0:0,0,1119                                                                                                                                                                                                                                                                                                                                                  & 0/0:135,0:135:0:0,0,2369                                                                                                                                                                                                                                                                                                                                                & 0/0:110,0:110:0:0,0,1498                                                                                                                                                                                                                                                                                                                                               \\\\\n",
       "\t chr1                                                                                                                                                                                                                                                                                                                                                                    & 10145                                                                                                                                                                                                                                                                                                                                                                   & chr1\\_10145\\_AAC\\_A\\_b38                                                                                                                                                                                                                                                                                                                                            & AAC                                                                                                                                                                                                                                                                                                                                                                     & A                                                                                                                                                                                                                                                                                                                                                                       &  3323.20                                                                                                                                                                                                                                                                                                                                                                & PASS                                                                                                                                                                                                                                                                                                                                                                    & AC=4;AF=2.51572e-03;AN=1590;BaseQRankSum=3.22000e-01;ClippingRankSum=-1.37000e-01;DP=63983;ExcessHet=3.51780e+00;FS=3.54000e+00;InbreedingCoeff=7.87000e-02;MLEAC=8,4;MLEAF=4.64600e-03,2.32300e-03;MQ=1.32900e+01;MQRankSum=-1.18200e+00;NEGATIVE\\_TRAIN\\_SITE;QD=1.07500e+01;ReadPosRankSum=7.76000e-01;SOR=1.10300e+00;VQSLOD=-5.66600e+00;culprit=DP;wasSplit     & GT:AD:DP:GQ:PL                                                                                                                                                                                                                                                                                                                                                          & 0/0:97,0:97:30:0,30,450                                                                                                                                                                                                                                                                                                                                                 & ⋯                                                                                                                                                                                                                                                                                                                                                                       & 0/0:54,0:54:0:0,0,160                                                                                                                                                                                                                                                                                                                                                   & 0/0:68,0:68:0:0,0,748                                                                                                                                                                                                                                                                                                                                                   & 0/0:69,0:69:0:0,0,989                                                                                                                                                                                                                                                                                                                                                   & 0/0:91,0:91:0:0,0,741                                                                                                                                                                                                                                                                                                                                                   & ./.:11,0:11:0:0,0,0                                                                                                                                                                                                                                                                                                                                                     & 0/0:97,0:97:0:0,0,1431                                                                                                                                                                                                                                                                                                                                                  & 0/0:88,0:88:0:0,0,1028                                                                                                                                                                                                                                                                                                                                                  & 0/0:79,0:79:0:0,0,1119                                                                                                                                                                                                                                                                                                                                                  & 0/0:135,0:135:0:0,0,2369                                                                                                                                                                                                                                                                                                                                                & 0/0:110,0:110:0:0,0,1498                                                                                                                                                                                                                                                                                                                                               \\\\\n",
       "\t chr1                                                                                                                                                                                                                                                                                                                                                                    & 10146                                                                                                                                                                                                                                                                                                                                                                   & chr1\\_10146\\_AC\\_A\\_b38                                                                                                                                                                                                                                                                                                                                             & AC                                                                                                                                                                                                                                                                                                                                                                      & A                                                                                                                                                                                                                                                                                                                                                                       & 60780.94                                                                                                                                                                                                                                                                                                                                                                & PASS                                                                                                                                                                                                                                                                                                                                                                    & AC=274;AF=1.73198e-01;AN=1582;BaseQRankSum=-2.06000e-01;ClippingRankSum=-2.00000e-01;DP=54059;ExcessHet=4.28838e+01;FS=0.00000e+00;InbreedingCoeff=1.41300e-01;MLEAC=337,9;MLEAF=1.97000e-01,5.25100e-03;MQ=3.15800e+01;MQRankSum=5.30000e-02;NEGATIVE\\_TRAIN\\_SITE;QD=1.18400e+01;ReadPosRankSum=5.18000e-01;SOR=6.68000e-01;VQSLOD=-6.38100e-01;culprit=DP;wasSplit & GT:AD:DP:GQ:PL                                                                                                                                                                                                                                                                                                                                                          & 0/0:92,0:92:0:0,0,416                                                                                                                                                                                                                                                                                                                                                   & ⋯                                                                                                                                                                                                                                                                                                                                                                       & 0/0:54,0:54:0:0,0,160                                                                                                                                                                                                                                                                                                                                                   & 0/0:68,0:68:0:0,0,748                                                                                                                                                                                                                                                                                                                                                   & 0/1:5,19:24:50:266,0,50                                                                                                                                                                                                                                                                                                                                                 & 0/1:1,5:6:2:108,0,2                                                                                                                                                                                                                                                                                                                                                     & ./.:11,0:11:0:0,0,0                                                                                                                                                                                                                                                                                                                                                     & 0/1:1,5:6:4:36,0,4                                                                                                                                                                                                                                                                                                                                                      & 0/0:88,0:88:0:0,0,1028                                                                                                                                                                                                                                                                                                                                                  & 0/0:79,0:79:0:0,0,1119                                                                                                                                                                                                                                                                                                                                                  & 0/1:2,3:5:26:26,0,44                                                                                                                                                                                                                                                                                                                                                    & 0/0:110,0:110:0:0,0,1498                                                                                                                                                                                                                                                                                                                                               \\\\\n",
       "\\end{tabular}\n"
      ],
      "text/markdown": [
       "\n",
       "#CHROM | POS | ID | REF | ALT | QUAL | FILTER | INFO | FORMAT | GTEX-1117F | ⋯ | GTEX-ZYFD | GTEX-ZYFG | GTEX-ZYT6 | GTEX-ZYVF | GTEX-ZYW4 | GTEX-ZYWO | GTEX-ZYY3 | GTEX-ZZ64 | GTEX-ZZPT | GTEX-ZZPU | \n",
       "|---|---|---|---|---|---|\n",
       "| chr1                                                                                                                                                                                                                                                                                                                                                                | 10109                                                                                                                                                                                                                                                                                                                                                               | chr1_10109_AACCCT_A_b38                                                                                                                                                                                                                                                                                                                                             | AACCCT                                                                                                                                                                                                                                                                                                                                                              | A                                                                                                                                                                                                                                                                                                                                                                   |  1623.01                                                                                                                                                                                                                                                                                                                                                            | InbreedingCoeff                                                                                                                                                                                                                                                                                                                                                     | AC=6;AF=3.71747e-03;AN=1614;BaseQRankSum=-1.30700e+00;ClippingRankSum=-5.83000e-01;DP=105438;ExcessHet=2.14748e+09;FS=6.17150e+01;InbreedingCoeff=-3.20300e-01;MLEAC=11;MLEAF=6.29300e-03;MQ=6.38000e+00;MQRankSum=7.29000e-01;QD=1.56100e+01;ReadPosRankSum=-2.44000e-01;SOR=4.63400e+00;                                                                          | GT:AD:DP:GQ:PL                                                                                                                                                                                                                                                                                                                                                      | 0/0:140,0:140:0:0,0,2441                                                                                                                                                                                                                                                                                                                                            | ⋯                                                                                                                                                                                                                                                                                                                                                                   | 0/0:91,0:91:0:0,0,1003                                                                                                                                                                                                                                                                                                                                              | 0/0:98,0:98:0:0,0,496                                                                                                                                                                                                                                                                                                                                               | 0/0:96,0:96:0:0,0,962                                                                                                                                                                                                                                                                                                                                               | 0/1:3,6:9:62:105,0,62                                                                                                                                                                                                                                                                                                                                               | 0/0:133,0:133:0:0,0,665                                                                                                                                                                                                                                                                                                                                             | ./.:113,0:113:.:0,0,0                                                                                                                                                                                                                                                                                                                                               | 0/0:108,0:108:0:0,0,647                                                                                                                                                                                                                                                                                                                                             | 0/0:158,0:158:0:0,0,2167                                                                                                                                                                                                                                                                                                                                            | 0/0:163,0:163:0:0,0,117                                                                                                                                                                                                                                                                                                                                             | 0/0:141,0:141:0:0,0,2211                                                                                                                                                                                                                                                                                                                                            | \n",
       "| chr1                                                                                                                                                                                                                                                                                                                                                                | 10134                                                                                                                                                                                                                                                                                                                                                               | chr1_10134_ACCCTAACCCTAAC_A_b38                                                                                                                                                                                                                                                                                                                                     | ACCCTAACCCTAAC                                                                                                                                                                                                                                                                                                                                                      | A                                                                                                                                                                                                                                                                                                                                                                   |   135.85                                                                                                                                                                                                                                                                                                                                                            | PASS                                                                                                                                                                                                                                                                                                                                                                | AC=1;AF=6.00240e-04;AN=1666;BaseQRankSum=-1.10400e+00;ClippingRankSum=3.59000e-01;DP=84632;ExcessHet=1.32990e+01;FS=2.55500e+00;InbreedingCoeff=-3.04000e-02;MLEAC=1;MLEAF=5.55600e-04;MQ=2.40100e+01;MQRankSum=-3.49000e-01;NEGATIVE_TRAIN_SITE;QD=1.23500e+01;ReadPosRankSum=-3.08000e-01;SOR=9.42000e-01;VQSLOD=-1.16400e+01;culprit=DP;                         | GT:AD:DP:GQ:PL                                                                                                                                                                                                                                                                                                                                                      | 0/0:123,0:123:36:0,36,540                                                                                                                                                                                                                                                                                                                                           | ⋯                                                                                                                                                                                                                                                                                                                                                                   | 0/0:82,0:82:0:0,0,1649                                                                                                                                                                                                                                                                                                                                              | 0/0:68,0:68:0:0,0,748                                                                                                                                                                                                                                                                                                                                               | 0/0:85,0:85:54:0,54,810                                                                                                                                                                                                                                                                                                                                             | 0/0:91,0:91:0:0,0,741                                                                                                                                                                                                                                                                                                                                               | ./.:11,0:11:.:0,0,0                                                                                                                                                                                                                                                                                                                                                 | 0/0:108,0:108:0:0,0,1265                                                                                                                                                                                                                                                                                                                                            | 0/0:105,0:105:0:0,0,2325                                                                                                                                                                                                                                                                                                                                            | 0/0:127,0:127:60:0,60,900                                                                                                                                                                                                                                                                                                                                           | 0/0:158,0:158:0:0,0,2693                                                                                                                                                                                                                                                                                                                                            | 0/0:129,0:129:60:0,60,900                                                                                                                                                                                                                                                                                                                                           | \n",
       "| chr1                                                                                                                                                                                                                                                                                                                                                                | 10140                                                                                                                                                                                                                                                                                                                                                               | chr1_10140_ACCCTAAC_A_b38                                                                                                                                                                                                                                                                                                                                           | ACCCTAAC                                                                                                                                                                                                                                                                                                                                                            | A                                                                                                                                                                                                                                                                                                                                                                   |   677.80                                                                                                                                                                                                                                                                                                                                                            | PASS                                                                                                                                                                                                                                                                                                                                                                | AC=1;AF=6.07533e-04;AN=1646;BaseQRankSum=5.53000e-01;ClippingRankSum=1.12000e-01;DP=76686;ExcessHet=3.01950e+00;FS=1.55560e+01;InbreedingCoeff=3.47000e-02;MLEAC=1,1;MLEAF=5.61800e-04,5.61800e-04;MQ=2.06100e+01;MQRankSum=-4.10000e-01;NEGATIVE_TRAIN_SITE;QD=1.99400e+01;ReadPosRankSum=-2.23000e-01;SOR=1.72600e+00;VQSLOD=-7.00900e+00;culprit=DP;wasSplit     | GT:AD:DP:GQ:PL                                                                                                                                                                                                                                                                                                                                                      | 0/0:103,0:103:33:0,33,495                                                                                                                                                                                                                                                                                                                                           | ⋯                                                                                                                                                                                                                                                                                                                                                                   | 0/0:76,0:76:0:0,0,1417                                                                                                                                                                                                                                                                                                                                              | 0/0:68,0:68:0:0,0,748                                                                                                                                                                                                                                                                                                                                               | 0/0:79,0:79:36:0,36,540                                                                                                                                                                                                                                                                                                                                             | 0/0:91,0:91:0:0,0,741                                                                                                                                                                                                                                                                                                                                               | ./.:11,0:11:0:0,0,0                                                                                                                                                                                                                                                                                                                                                 | 0/0:105,0:105:0:0,0,1806                                                                                                                                                                                                                                                                                                                                            | 0/0:97,0:97:17:0,17,2130                                                                                                                                                                                                                                                                                                                                            | 0/0:110,0:110:42:0,42,2544                                                                                                                                                                                                                                                                                                                                          | 0/0:7,0:7:29:0,29,209                                                                                                                                                                                                                                                                                                                                               | 0/0:117,0:117:0:0,0,2473                                                                                                                                                                                                                                                                                                                                            | \n",
       "| chr1                                                                                                                                                                                                                                                                                                                                                                | 10144                                                                                                                                                                                                                                                                                                                                                               | chr1_10144_T_C_b38                                                                                                                                                                                                                                                                                                                                                  | T                                                                                                                                                                                                                                                                                                                                                                   | C                                                                                                                                                                                                                                                                                                                                                                   |  3461.52                                                                                                                                                                                                                                                                                                                                                            | PASS                                                                                                                                                                                                                                                                                                                                                                | AC=7;AF=4.39698e-03;AN=1592;BaseQRankSum=-8.52000e-01;ClippingRankSum=-4.41000e-01;DP=63039;ExcessHet=4.29180e+00;FS=5.11500e+00;InbreedingCoeff=9.33000e-02;MLEAC=7,7;MLEAF=4.06000e-03,4.06000e-03;MQ=2.17000e+01;MQRankSum=1.02000e-01;NEGATIVE_TRAIN_SITE;QD=1.01200e+01;ReadPosRankSum=-5.29000e-01;SOR=1.30700e+00;VQSLOD=-5.17400e+00;culprit=DP;wasSplit    | GT:AD:DP:GQ:PL                                                                                                                                                                                                                                                                                                                                                      | 0/0:86,0:86:0:0,0,1644                                                                                                                                                                                                                                                                                                                                              | ⋯                                                                                                                                                                                                                                                                                                                                                                   | 0/0:54,0:54:0:0,0,160                                                                                                                                                                                                                                                                                                                                               | 0/0:68,0:68:0:0,0,748                                                                                                                                                                                                                                                                                                                                               | 0/0:69,0:69:0:0,0,989                                                                                                                                                                                                                                                                                                                                               | 0/0:91,0:91:0:0,0,741                                                                                                                                                                                                                                                                                                                                               | ./.:11,0:11:0:0,0,0                                                                                                                                                                                                                                                                                                                                                 | 0/0:97,0:97:0:0,0,1431                                                                                                                                                                                                                                                                                                                                              | 0/0:88,0:88:0:0,0,1028                                                                                                                                                                                                                                                                                                                                              | 0/0:79,0:79:0:0,0,1119                                                                                                                                                                                                                                                                                                                                              | 0/0:135,0:135:0:0,0,2369                                                                                                                                                                                                                                                                                                                                            | 0/0:110,0:110:0:0,0,1498                                                                                                                                                                                                                                                                                                                                            | \n",
       "| chr1                                                                                                                                                                                                                                                                                                                                                                | 10145                                                                                                                                                                                                                                                                                                                                                               | chr1_10145_AAC_A_b38                                                                                                                                                                                                                                                                                                                                                | AAC                                                                                                                                                                                                                                                                                                                                                                 | A                                                                                                                                                                                                                                                                                                                                                                   |  3323.20                                                                                                                                                                                                                                                                                                                                                            | PASS                                                                                                                                                                                                                                                                                                                                                                | AC=4;AF=2.51572e-03;AN=1590;BaseQRankSum=3.22000e-01;ClippingRankSum=-1.37000e-01;DP=63983;ExcessHet=3.51780e+00;FS=3.54000e+00;InbreedingCoeff=7.87000e-02;MLEAC=8,4;MLEAF=4.64600e-03,2.32300e-03;MQ=1.32900e+01;MQRankSum=-1.18200e+00;NEGATIVE_TRAIN_SITE;QD=1.07500e+01;ReadPosRankSum=7.76000e-01;SOR=1.10300e+00;VQSLOD=-5.66600e+00;culprit=DP;wasSplit     | GT:AD:DP:GQ:PL                                                                                                                                                                                                                                                                                                                                                      | 0/0:97,0:97:30:0,30,450                                                                                                                                                                                                                                                                                                                                             | ⋯                                                                                                                                                                                                                                                                                                                                                                   | 0/0:54,0:54:0:0,0,160                                                                                                                                                                                                                                                                                                                                               | 0/0:68,0:68:0:0,0,748                                                                                                                                                                                                                                                                                                                                               | 0/0:69,0:69:0:0,0,989                                                                                                                                                                                                                                                                                                                                               | 0/0:91,0:91:0:0,0,741                                                                                                                                                                                                                                                                                                                                               | ./.:11,0:11:0:0,0,0                                                                                                                                                                                                                                                                                                                                                 | 0/0:97,0:97:0:0,0,1431                                                                                                                                                                                                                                                                                                                                              | 0/0:88,0:88:0:0,0,1028                                                                                                                                                                                                                                                                                                                                              | 0/0:79,0:79:0:0,0,1119                                                                                                                                                                                                                                                                                                                                              | 0/0:135,0:135:0:0,0,2369                                                                                                                                                                                                                                                                                                                                            | 0/0:110,0:110:0:0,0,1498                                                                                                                                                                                                                                                                                                                                            | \n",
       "| chr1                                                                                                                                                                                                                                                                                                                                                                | 10146                                                                                                                                                                                                                                                                                                                                                               | chr1_10146_AC_A_b38                                                                                                                                                                                                                                                                                                                                                 | AC                                                                                                                                                                                                                                                                                                                                                                  | A                                                                                                                                                                                                                                                                                                                                                                   | 60780.94                                                                                                                                                                                                                                                                                                                                                            | PASS                                                                                                                                                                                                                                                                                                                                                                | AC=274;AF=1.73198e-01;AN=1582;BaseQRankSum=-2.06000e-01;ClippingRankSum=-2.00000e-01;DP=54059;ExcessHet=4.28838e+01;FS=0.00000e+00;InbreedingCoeff=1.41300e-01;MLEAC=337,9;MLEAF=1.97000e-01,5.25100e-03;MQ=3.15800e+01;MQRankSum=5.30000e-02;NEGATIVE_TRAIN_SITE;QD=1.18400e+01;ReadPosRankSum=5.18000e-01;SOR=6.68000e-01;VQSLOD=-6.38100e-01;culprit=DP;wasSplit | GT:AD:DP:GQ:PL                                                                                                                                                                                                                                                                                                                                                      | 0/0:92,0:92:0:0,0,416                                                                                                                                                                                                                                                                                                                                               | ⋯                                                                                                                                                                                                                                                                                                                                                                   | 0/0:54,0:54:0:0,0,160                                                                                                                                                                                                                                                                                                                                               | 0/0:68,0:68:0:0,0,748                                                                                                                                                                                                                                                                                                                                               | 0/1:5,19:24:50:266,0,50                                                                                                                                                                                                                                                                                                                                             | 0/1:1,5:6:2:108,0,2                                                                                                                                                                                                                                                                                                                                                 | ./.:11,0:11:0:0,0,0                                                                                                                                                                                                                                                                                                                                                 | 0/1:1,5:6:4:36,0,4                                                                                                                                                                                                                                                                                                                                                  | 0/0:88,0:88:0:0,0,1028                                                                                                                                                                                                                                                                                                                                              | 0/0:79,0:79:0:0,0,1119                                                                                                                                                                                                                                                                                                                                              | 0/1:2,3:5:26:26,0,44                                                                                                                                                                                                                                                                                                                                                | 0/0:110,0:110:0:0,0,1498                                                                                                                                                                                                                                                                                                                                            | \n",
       "\n",
       "\n"
      ],
      "text/plain": [
       "  #CHROM POS   ID                              REF            ALT QUAL    \n",
       "1 chr1   10109 chr1_10109_AACCCT_A_b38         AACCCT         A    1623.01\n",
       "2 chr1   10134 chr1_10134_ACCCTAACCCTAAC_A_b38 ACCCTAACCCTAAC A     135.85\n",
       "3 chr1   10140 chr1_10140_ACCCTAAC_A_b38       ACCCTAAC       A     677.80\n",
       "4 chr1   10144 chr1_10144_T_C_b38              T              C    3461.52\n",
       "5 chr1   10145 chr1_10145_AAC_A_b38            AAC            A    3323.20\n",
       "6 chr1   10146 chr1_10146_AC_A_b38             AC             A   60780.94\n",
       "  FILTER         \n",
       "1 InbreedingCoeff\n",
       "2 PASS           \n",
       "3 PASS           \n",
       "4 PASS           \n",
       "5 PASS           \n",
       "6 PASS           \n",
       "  INFO                                                                                                                                                                                                                                                                                                                                                               \n",
       "1 AC=6;AF=3.71747e-03;AN=1614;BaseQRankSum=-1.30700e+00;ClippingRankSum=-5.83000e-01;DP=105438;ExcessHet=2.14748e+09;FS=6.17150e+01;InbreedingCoeff=-3.20300e-01;MLEAC=11;MLEAF=6.29300e-03;MQ=6.38000e+00;MQRankSum=7.29000e-01;QD=1.56100e+01;ReadPosRankSum=-2.44000e-01;SOR=4.63400e+00;                                                                         \n",
       "2 AC=1;AF=6.00240e-04;AN=1666;BaseQRankSum=-1.10400e+00;ClippingRankSum=3.59000e-01;DP=84632;ExcessHet=1.32990e+01;FS=2.55500e+00;InbreedingCoeff=-3.04000e-02;MLEAC=1;MLEAF=5.55600e-04;MQ=2.40100e+01;MQRankSum=-3.49000e-01;NEGATIVE_TRAIN_SITE;QD=1.23500e+01;ReadPosRankSum=-3.08000e-01;SOR=9.42000e-01;VQSLOD=-1.16400e+01;culprit=DP;                        \n",
       "3 AC=1;AF=6.07533e-04;AN=1646;BaseQRankSum=5.53000e-01;ClippingRankSum=1.12000e-01;DP=76686;ExcessHet=3.01950e+00;FS=1.55560e+01;InbreedingCoeff=3.47000e-02;MLEAC=1,1;MLEAF=5.61800e-04,5.61800e-04;MQ=2.06100e+01;MQRankSum=-4.10000e-01;NEGATIVE_TRAIN_SITE;QD=1.99400e+01;ReadPosRankSum=-2.23000e-01;SOR=1.72600e+00;VQSLOD=-7.00900e+00;culprit=DP;wasSplit    \n",
       "4 AC=7;AF=4.39698e-03;AN=1592;BaseQRankSum=-8.52000e-01;ClippingRankSum=-4.41000e-01;DP=63039;ExcessHet=4.29180e+00;FS=5.11500e+00;InbreedingCoeff=9.33000e-02;MLEAC=7,7;MLEAF=4.06000e-03,4.06000e-03;MQ=2.17000e+01;MQRankSum=1.02000e-01;NEGATIVE_TRAIN_SITE;QD=1.01200e+01;ReadPosRankSum=-5.29000e-01;SOR=1.30700e+00;VQSLOD=-5.17400e+00;culprit=DP;wasSplit   \n",
       "5 AC=4;AF=2.51572e-03;AN=1590;BaseQRankSum=3.22000e-01;ClippingRankSum=-1.37000e-01;DP=63983;ExcessHet=3.51780e+00;FS=3.54000e+00;InbreedingCoeff=7.87000e-02;MLEAC=8,4;MLEAF=4.64600e-03,2.32300e-03;MQ=1.32900e+01;MQRankSum=-1.18200e+00;NEGATIVE_TRAIN_SITE;QD=1.07500e+01;ReadPosRankSum=7.76000e-01;SOR=1.10300e+00;VQSLOD=-5.66600e+00;culprit=DP;wasSplit    \n",
       "6 AC=274;AF=1.73198e-01;AN=1582;BaseQRankSum=-2.06000e-01;ClippingRankSum=-2.00000e-01;DP=54059;ExcessHet=4.28838e+01;FS=0.00000e+00;InbreedingCoeff=1.41300e-01;MLEAC=337,9;MLEAF=1.97000e-01,5.25100e-03;MQ=3.15800e+01;MQRankSum=5.30000e-02;NEGATIVE_TRAIN_SITE;QD=1.18400e+01;ReadPosRankSum=5.18000e-01;SOR=6.68000e-01;VQSLOD=-6.38100e-01;culprit=DP;wasSplit\n",
       "  FORMAT         GTEX-1117F                ⋯ GTEX-ZYFD             \n",
       "1 GT:AD:DP:GQ:PL 0/0:140,0:140:0:0,0,2441  ⋯ 0/0:91,0:91:0:0,0,1003\n",
       "2 GT:AD:DP:GQ:PL 0/0:123,0:123:36:0,36,540 ⋯ 0/0:82,0:82:0:0,0,1649\n",
       "3 GT:AD:DP:GQ:PL 0/0:103,0:103:33:0,33,495 ⋯ 0/0:76,0:76:0:0,0,1417\n",
       "4 GT:AD:DP:GQ:PL 0/0:86,0:86:0:0,0,1644    ⋯ 0/0:54,0:54:0:0,0,160 \n",
       "5 GT:AD:DP:GQ:PL 0/0:97,0:97:30:0,30,450   ⋯ 0/0:54,0:54:0:0,0,160 \n",
       "6 GT:AD:DP:GQ:PL 0/0:92,0:92:0:0,0,416     ⋯ 0/0:54,0:54:0:0,0,160 \n",
       "  GTEX-ZYFG             GTEX-ZYT6               GTEX-ZYVF            \n",
       "1 0/0:98,0:98:0:0,0,496 0/0:96,0:96:0:0,0,962   0/1:3,6:9:62:105,0,62\n",
       "2 0/0:68,0:68:0:0,0,748 0/0:85,0:85:54:0,54,810 0/0:91,0:91:0:0,0,741\n",
       "3 0/0:68,0:68:0:0,0,748 0/0:79,0:79:36:0,36,540 0/0:91,0:91:0:0,0,741\n",
       "4 0/0:68,0:68:0:0,0,748 0/0:69,0:69:0:0,0,989   0/0:91,0:91:0:0,0,741\n",
       "5 0/0:68,0:68:0:0,0,748 0/0:69,0:69:0:0,0,989   0/0:91,0:91:0:0,0,741\n",
       "6 0/0:68,0:68:0:0,0,748 0/1:5,19:24:50:266,0,50 0/1:1,5:6:2:108,0,2  \n",
       "  GTEX-ZYW4               GTEX-ZYWO                GTEX-ZYY3               \n",
       "1 0/0:133,0:133:0:0,0,665 ./.:113,0:113:.:0,0,0    0/0:108,0:108:0:0,0,647 \n",
       "2 ./.:11,0:11:.:0,0,0     0/0:108,0:108:0:0,0,1265 0/0:105,0:105:0:0,0,2325\n",
       "3 ./.:11,0:11:0:0,0,0     0/0:105,0:105:0:0,0,1806 0/0:97,0:97:17:0,17,2130\n",
       "4 ./.:11,0:11:0:0,0,0     0/0:97,0:97:0:0,0,1431   0/0:88,0:88:0:0,0,1028  \n",
       "5 ./.:11,0:11:0:0,0,0     0/0:97,0:97:0:0,0,1431   0/0:88,0:88:0:0,0,1028  \n",
       "6 ./.:11,0:11:0:0,0,0     0/1:1,5:6:4:36,0,4       0/0:88,0:88:0:0,0,1028  \n",
       "  GTEX-ZZ64                  GTEX-ZZPT                GTEX-ZZPU                \n",
       "1 0/0:158,0:158:0:0,0,2167   0/0:163,0:163:0:0,0,117  0/0:141,0:141:0:0,0,2211 \n",
       "2 0/0:127,0:127:60:0,60,900  0/0:158,0:158:0:0,0,2693 0/0:129,0:129:60:0,60,900\n",
       "3 0/0:110,0:110:42:0,42,2544 0/0:7,0:7:29:0,29,209    0/0:117,0:117:0:0,0,2473 \n",
       "4 0/0:79,0:79:0:0,0,1119     0/0:135,0:135:0:0,0,2369 0/0:110,0:110:0:0,0,1498 \n",
       "5 0/0:79,0:79:0:0,0,1119     0/0:135,0:135:0:0,0,2369 0/0:110,0:110:0:0,0,1498 \n",
       "6 0/0:79,0:79:0:0,0,1119     0/1:2,3:5:26:26,0,44     0/0:110,0:110:0:0,0,1498 "
      ]
     },
     "metadata": {},
     "output_type": "display_data"
    }
   ],
   "source": [
    "head(wgs_df)"
   ]
  },
  {
   "cell_type": "code",
   "execution_count": null,
   "metadata": {},
   "outputs": [],
   "source": [
    "vcf -> dosage_file "
   ]
  },
  {
   "cell_type": "code",
   "execution_count": 13,
   "metadata": {},
   "outputs": [],
   "source": [
    "gtex_v8_wgs_id <- colnames(wgs_df)[-c(1:9)]"
   ]
  },
  {
   "cell_type": "code",
   "execution_count": 14,
   "metadata": {},
   "outputs": [
    {
     "data": {
      "text/html": [
       "<ol class=list-inline>\n",
       "\t<li>'GTEX-1117F'</li>\n",
       "\t<li>'GTEX-111CU'</li>\n",
       "\t<li>'GTEX-111FC'</li>\n",
       "\t<li>'GTEX-111VG'</li>\n",
       "\t<li>'GTEX-111YS'</li>\n",
       "\t<li>'GTEX-1122O'</li>\n",
       "</ol>\n"
      ],
      "text/latex": [
       "\\begin{enumerate*}\n",
       "\\item 'GTEX-1117F'\n",
       "\\item 'GTEX-111CU'\n",
       "\\item 'GTEX-111FC'\n",
       "\\item 'GTEX-111VG'\n",
       "\\item 'GTEX-111YS'\n",
       "\\item 'GTEX-1122O'\n",
       "\\end{enumerate*}\n"
      ],
      "text/markdown": [
       "1. 'GTEX-1117F'\n",
       "2. 'GTEX-111CU'\n",
       "3. 'GTEX-111FC'\n",
       "4. 'GTEX-111VG'\n",
       "5. 'GTEX-111YS'\n",
       "6. 'GTEX-1122O'\n",
       "\n",
       "\n"
      ],
      "text/plain": [
       "[1] \"GTEX-1117F\" \"GTEX-111CU\" \"GTEX-111FC\" \"GTEX-111VG\" \"GTEX-111YS\"\n",
       "[6] \"GTEX-1122O\""
      ]
     },
     "metadata": {},
     "output_type": "display_data"
    }
   ],
   "source": [
    "head(gtex_v8_wgs_id)"
   ]
  },
  {
   "cell_type": "code",
   "execution_count": null,
   "metadata": {},
   "outputs": [],
   "source": [
    "write.table(gtex_v8_wgs_id, file = \"g\")"
   ]
  },
  {
   "cell_type": "code",
   "execution_count": 27,
   "metadata": {},
   "outputs": [],
   "source": [
    "inter_id <- intersect(gtex_omni_id_short, gtex_v8_wgs_id)"
   ]
  },
  {
   "cell_type": "code",
   "execution_count": 29,
   "metadata": {},
   "outputs": [
    {
     "data": {
      "text/html": [
       "<ol class=list-inline>\n",
       "\t<li>'GTEX-2H2WW'</li>\n",
       "\t<li>'GTEX-2IJGP'</li>\n",
       "\t<li>'GTEX-325AE'</li>\n",
       "\t<li>'GTEX-2IJGJ'</li>\n",
       "\t<li>'GTEX-2RXF6'</li>\n",
       "\t<li>'GTEX-3G3S9'</li>\n",
       "</ol>\n"
      ],
      "text/latex": [
       "\\begin{enumerate*}\n",
       "\\item 'GTEX-2H2WW'\n",
       "\\item 'GTEX-2IJGP'\n",
       "\\item 'GTEX-325AE'\n",
       "\\item 'GTEX-2IJGJ'\n",
       "\\item 'GTEX-2RXF6'\n",
       "\\item 'GTEX-3G3S9'\n",
       "\\end{enumerate*}\n"
      ],
      "text/markdown": [
       "1. 'GTEX-2H2WW'\n",
       "2. 'GTEX-2IJGP'\n",
       "3. 'GTEX-325AE'\n",
       "4. 'GTEX-2IJGJ'\n",
       "5. 'GTEX-2RXF6'\n",
       "6. 'GTEX-3G3S9'\n",
       "\n",
       "\n"
      ],
      "text/plain": [
       "[1] \"GTEX-2H2WW\" \"GTEX-2IJGP\" \"GTEX-325AE\" \"GTEX-2IJGJ\" \"GTEX-2RXF6\"\n",
       "[6] \"GTEX-3G3S9\""
      ]
     },
     "metadata": {},
     "output_type": "display_data"
    }
   ],
   "source": [
    "head(gtex_omni_id_short)"
   ]
  },
  {
   "cell_type": "code",
   "execution_count": 30,
   "metadata": {},
   "outputs": [
    {
     "data": {
      "text/html": [
       "<ol class=list-inline>\n",
       "\t<li>'GTEX-1117F'</li>\n",
       "\t<li>'GTEX-111CU'</li>\n",
       "\t<li>'GTEX-111FC'</li>\n",
       "\t<li>'GTEX-111VG'</li>\n",
       "\t<li>'GTEX-111YS'</li>\n",
       "\t<li>'GTEX-1122O'</li>\n",
       "</ol>\n"
      ],
      "text/latex": [
       "\\begin{enumerate*}\n",
       "\\item 'GTEX-1117F'\n",
       "\\item 'GTEX-111CU'\n",
       "\\item 'GTEX-111FC'\n",
       "\\item 'GTEX-111VG'\n",
       "\\item 'GTEX-111YS'\n",
       "\\item 'GTEX-1122O'\n",
       "\\end{enumerate*}\n"
      ],
      "text/markdown": [
       "1. 'GTEX-1117F'\n",
       "2. 'GTEX-111CU'\n",
       "3. 'GTEX-111FC'\n",
       "4. 'GTEX-111VG'\n",
       "5. 'GTEX-111YS'\n",
       "6. 'GTEX-1122O'\n",
       "\n",
       "\n"
      ],
      "text/plain": [
       "[1] \"GTEX-1117F\" \"GTEX-111CU\" \"GTEX-111FC\" \"GTEX-111VG\" \"GTEX-111YS\"\n",
       "[6] \"GTEX-1122O\""
      ]
     },
     "metadata": {},
     "output_type": "display_data"
    }
   ],
   "source": [
    "head(gtex_v8_wgs_id)"
   ]
  },
  {
   "cell_type": "code",
   "execution_count": 31,
   "metadata": {},
   "outputs": [],
   "source": [
    "match_id <- match(gtex_omni_id_short, gtex_v8_wgs_id)"
   ]
  },
  {
   "cell_type": "code",
   "execution_count": null,
   "metadata": {},
   "outputs": [],
   "source": [
    "### Freeze "
   ]
  },
  {
   "cell_type": "code",
   "execution_count": 39,
   "metadata": {},
   "outputs": [],
   "source": [
    "wgs_path <- \"/ysm-gpfs/pi/zhao/zy92/ncbi/phg001219.v1.GTEx_v8_WGS.genotype-calls-vcf.c1/\"\n",
    "sample_name <- \"sample_WholeGenomeSeq_Freeze.vcf\"\n",
    "#sample_name <- \"sample_WholeGenomeSeq_Freeze.SHAPEIT2.vcf\"\n",
    "wgs_df <- as.data.frame(fread(paste0(wgs_path, sample_name),\n",
    "                             skip = \"#CHROM\"))"
   ]
  },
  {
   "cell_type": "code",
   "execution_count": 40,
   "metadata": {},
   "outputs": [
    {
     "data": {
      "text/html": [
       "<table>\n",
       "<thead><tr><th scope=col>#CHROM</th><th scope=col>POS</th><th scope=col>ID</th><th scope=col>REF</th><th scope=col>ALT</th><th scope=col>QUAL</th><th scope=col>FILTER</th><th scope=col>INFO</th><th scope=col>FORMAT</th><th scope=col>GTEX-1117F</th><th scope=col>⋯</th><th scope=col>GTEX-ZYFC</th><th scope=col>GTEX-ZYFD</th><th scope=col>GTEX-ZYFG</th><th scope=col>GTEX-ZYT6</th><th scope=col>GTEX-ZYVF</th><th scope=col>GTEX-ZYW4</th><th scope=col>GTEX-ZYY3</th><th scope=col>GTEX-ZZ64</th><th scope=col>GTEX-ZZPT</th><th scope=col>GTEX-ZZPU</th></tr></thead>\n",
       "<tbody>\n",
       "\t<tr><td>chr1                                                                                                                                                                                                                                                                                                                                                                                                                         </td><td>13526                                                                                                                                                                                                                                                                                                                                                                                                                        </td><td>chr1_13526_C_T_b38                                                                                                                                                                                                                                                                                                                                                                                                           </td><td>C                                                                                                                                                                                                                                                                                                                                                                                                                            </td><td>T                                                                                                                                                                                                                                                                                                                                                                                                                            </td><td> 183.85                                                                                                                                                                                                                                                                                                                                                                                                                      </td><td>PASS                                                                                                                                                                                                                                                                                                                                                                                                                         </td><td>AC=1;AF=5.96659e-04;AN=1676;BaseQRankSum=-1.92900e+00;ClippingRankSum=-2.31000e-01;DP=15698;ExcessHet=3.01270e+00;FS=1.15530e+01;InbreedingCoeff=-1.03000e-02;MQ=2.54200e+01;MQRankSum=-5.40000e-01;NEGATIVE_TRAIN_SITE;PG=0,33,69;QD=1.41400e+01;ReadPosRankSum=1.77000e+00;SOR=1.13200e+00;VQSLOD=-2.37900e+00;culprit=MQ;pHWEEUR=5.00000e-01;pHWEAFR=5.00000e-01;pPCR=1.00000e+00;pSEQ=1.00000e+00;pLCSET=1.08592e-01;    </td><td>GT:AD:DP:GQ:PP                                                                                                                                                                                                                                                                                                                                                                                                               </td><td>0/0:23,0:23:93:0,93,969                                                                                                                                                                                                                                                                                                                                                                                                      </td><td>⋯                                                                                                                                                                                                                                                                                                                                                                                                                            </td><td>0/0:40,0:40:99:0,139,1495                                                                                                                                                                                                                                                                                                                                                                                                    </td><td>0/0:3,0:3:33:0,33,134                                                                                                                                                                                                                                                                                                                                                                                                        </td><td>0/0:8,0:8:57:0,57,337                                                                                                                                                                                                                                                                                                                                                                                                        </td><td>0/0:18,0:18:81:0,81,789                                                                                                                                                                                                                                                                                                                                                                                                      </td><td>0/0:24,0:24:99:0,102,1104                                                                                                                                                                                                                                                                                                                                                                                                    </td><td>0/0:18,0:18:81:0,81,789                                                                                                                                                                                                                                                                                                                                                                                                      </td><td>0/0:7,0:7:51:0,51,339                                                                                                                                                                                                                                                                                                                                                                                                        </td><td>0/0:22,0:22:93:0,93,763                                                                                                                                                                                                                                                                                                                                                                                                      </td><td>0/0:19,0:19:76:0,76,660                                                                                                                                                                                                                                                                                                                                                                                                      </td><td>0/0:12,0:12:69:0,69,486                                                                                                                                                                                                                                                                                                                                                                                                      </td></tr>\n",
       "\t<tr><td>chr1                                                                                                                                                                                                                                                                                                                                                                                                                         </td><td>13550                                                                                                                                                                                                                                                                                                                                                                                                                        </td><td>chr1_13550_G_A_b38                                                                                                                                                                                                                                                                                                                                                                                                           </td><td>G                                                                                                                                                                                                                                                                                                                                                                                                                            </td><td>A                                                                                                                                                                                                                                                                                                                                                                                                                            </td><td>6306.59                                                                                                                                                                                                                                                                                                                                                                                                                      </td><td>PASS                                                                                                                                                                                                                                                                                                                                                                                                                         </td><td>AC=25;AF=1.52812e-02;AN=1636;BaseQRankSum=4.10000e-01;ClippingRankSum=-1.34000e-01;DP=18019;ExcessHet=4.13130e+00;FS=1.05730e+01;InbreedingCoeff=-2.38000e-02;MQ=2.86800e+01;MQRankSum=3.25000e-01;NEGATIVE_TRAIN_SITE;PG=0,19,43;QD=6.77000e+00;ReadPosRankSum=7.65000e-01;SOR=1.43800e+00;VQSLOD=-2.56000e+00;culprit=MQ;pHWEEUR=5.94055e-01;pHWEAFR=5.00000e-01;pPCR=1.00000e+00;pSEQ=2.50564e-01;pLCSET=1.43088e-01;     </td><td>GT:AD:DP:GQ:PP                                                                                                                                                                                                                                                                                                                                                                                                               </td><td>0/0:25,0:25:88:0,88,1078                                                                                                                                                                                                                                                                                                                                                                                                     </td><td>⋯                                                                                                                                                                                                                                                                                                                                                                                                                            </td><td>0/0:40,0:40:99:0,125,1469                                                                                                                                                                                                                                                                                                                                                                                                    </td><td>0/0:3,0:3:28:0,28,147                                                                                                                                                                                                                                                                                                                                                                                                        </td><td>0/0:10,0:10:49:0,49,350                                                                                                                                                                                                                                                                                                                                                                                                      </td><td>0/0:19,0:19:76:0,76,673                                                                                                                                                                                                                                                                                                                                                                                                      </td><td>0/0:30,0:30:99:0,109,1035                                                                                                                                                                                                                                                                                                                                                                                                    </td><td>0/0:18,0:18:73:0,73,659                                                                                                                                                                                                                                                                                                                                                                                                      </td><td>0/1:6,3:9:32:32,0,167                                                                                                                                                                                                                                                                                                                                                                                                        </td><td>0/0:30,0:30:99:0,109,1020                                                                                                                                                                                                                                                                                                                                                                                                    </td><td>0/0:24,0:24:88:0,88,1078                                                                                                                                                                                                                                                                                                                                                                                                     </td><td>0/0:17,0:17:70:0,70,593                                                                                                                                                                                                                                                                                                                                                                                                      </td></tr>\n",
       "\t<tr><td>chr1                                                                                                                                                                                                                                                                                                                                                                                                                         </td><td>14451                                                                                                                                                                                                                                                                                                                                                                                                                        </td><td>chr1_14451_CTCT_C_b38                                                                                                                                                                                                                                                                                                                                                                                                        </td><td>CTCT                                                                                                                                                                                                                                                                                                                                                                                                                         </td><td>C                                                                                                                                                                                                                                                                                                                                                                                                                            </td><td> 492.49                                                                                                                                                                                                                                                                                                                                                                                                                      </td><td>PASS                                                                                                                                                                                                                                                                                                                                                                                                                         </td><td>AC=1;AF=6.42674e-04;AN=1556;BaseQRankSum=-3.38000e-01;ClippingRankSum=-1.22000e-01;DP=24292;ExcessHet=3.01260e+00;FS=1.28710e+01;InbreedingCoeff=1.20000e-03;MQ=3.53500e+01;MQRankSum=-1.82700e+00;NEGATIVE_TRAIN_SITE;PG=0,0,0;QD=1.20100e+01;ReadPosRankSum=3.65000e-01;SOR=1.82100e+00;VQSLOD=-5.20500e-01;culprit=MQRankSum;pHWEEUR=5.00000e-01;pHWEAFR=5.00000e-01;pPCR=1.00000e+00;pSEQ=1.00000e+00;pLCSET=1.06684e-01;</td><td>GT:AD:DP:GQ:PP                                                                                                                                                                                                                                                                                                                                                                                                               </td><td>0/0:27,0:27:81:0,81,888                                                                                                                                                                                                                                                                                                                                                                                                      </td><td>⋯                                                                                                                                                                                                                                                                                                                                                                                                                            </td><td>0/0:37,0:37:99:0,102,1410                                                                                                                                                                                                                                                                                                                                                                                                    </td><td>0/0:9,0:9:27:0,27,313                                                                                                                                                                                                                                                                                                                                                                                                        </td><td>0/0:24,0:24:72:0,72,773                                                                                                                                                                                                                                                                                                                                                                                                      </td><td>0/0:25,0:25:72:0,72,828                                                                                                                                                                                                                                                                                                                                                                                                      </td><td>0/1:26,15:41:99:552,0,1365                                                                                                                                                                                                                                                                                                                                                                                                   </td><td>0/0:25,0:25:75:0,75,819                                                                                                                                                                                                                                                                                                                                                                                                      </td><td>0/0:27,0:27:81:0,81,949                                                                                                                                                                                                                                                                                                                                                                                                      </td><td>0/0:37,0:37:99:0,103,1246                                                                                                                                                                                                                                                                                                                                                                                                    </td><td>0/0:28,0:28:81:0,81,1215                                                                                                                                                                                                                                                                                                                                                                                                     </td><td>0/0:47,0:47:99:0,110,1512                                                                                                                                                                                                                                                                                                                                                                                                    </td></tr>\n",
       "\t<tr><td>chr1                                                                                                                                                                                                                                                                                                                                                                                                                         </td><td>14469                                                                                                                                                                                                                                                                                                                                                                                                                        </td><td>chr1_14469_C_T_b38                                                                                                                                                                                                                                                                                                                                                                                                           </td><td>C                                                                                                                                                                                                                                                                                                                                                                                                                            </td><td>T                                                                                                                                                                                                                                                                                                                                                                                                                            </td><td>4139.42                                                                                                                                                                                                                                                                                                                                                                                                                      </td><td>PASS                                                                                                                                                                                                                                                                                                                                                                                                                         </td><td>AC=5;AF=2.99043e-03;AN=1672;BaseQRankSum=1.01000e+00;ClippingRankSum=-3.06000e-01;DP=26322;ExcessHet=3.29000e-02;FS=3.64800e+00;InbreedingCoeff=1.80300e-01;MQ=3.60800e+01;MQRankSum=1.93000e+00;NEGATIVE_TRAIN_SITE;PG=0,24,54;QD=1.80000e+01;ReadPosRankSum=1.08000e+00;SOR=5.40000e-01;VQSLOD=-2.30900e+00;culprit=MQ;pHWEEUR=5.03617e-01;pHWEAFR=5.00000e-01;pPCR=1.00000e+00;pSEQ=1.00000e+00;pLCSET=5.84631e-02;       </td><td>GT:AD:DP:GQ:PP                                                                                                                                                                                                                                                                                                                                                                                                               </td><td>0/0:30,0:30:99:0,108,1314                                                                                                                                                                                                                                                                                                                                                                                                    </td><td>⋯                                                                                                                                                                                                                                                                                                                                                                                                                            </td><td>0/0:37,0:37:99:0,126,1464                                                                                                                                                                                                                                                                                                                                                                                                    </td><td>0/0:13,0:13:63:0,63,496                                                                                                                                                                                                                                                                                                                                                                                                      </td><td>0/0:23,0:23:81:0,81,909                                                                                                                                                                                                                                                                                                                                                                                                      </td><td>0/1:6,14:20:99:578,0,280                                                                                                                                                                                                                                                                                                                                                                                                     </td><td>0/0:43,0:43:99:0,130,1547                                                                                                                                                                                                                                                                                                                                                                                                    </td><td>0/0:23,0:23:84:0,84,954                                                                                                                                                                                                                                                                                                                                                                                                      </td><td>0/0:35,0:35:99:0,126,1220                                                                                                                                                                                                                                                                                                                                                                                                    </td><td>0/0:56,0:56:99:0,144,1854                                                                                                                                                                                                                                                                                                                                                                                                    </td><td>0/0:24,0:24:84:0,84,903                                                                                                                                                                                                                                                                                                                                                                                                      </td><td>0/0:37,0:37:99:0,123,1384                                                                                                                                                                                                                                                                                                                                                                                                    </td></tr>\n",
       "\t<tr><td>chr1                                                                                                                                                                                                                                                                                                                                                                                                                         </td><td>14470                                                                                                                                                                                                                                                                                                                                                                                                                        </td><td>chr1_14470_G_A_b38                                                                                                                                                                                                                                                                                                                                                                                                           </td><td>G                                                                                                                                                                                                                                                                                                                                                                                                                            </td><td>A                                                                                                                                                                                                                                                                                                                                                                                                                            </td><td> 690.55                                                                                                                                                                                                                                                                                                                                                                                                                      </td><td>PASS                                                                                                                                                                                                                                                                                                                                                                                                                         </td><td>AC=6;AF=3.64078e-03;AN=1648;BaseQRankSum=7.04000e-01;ClippingRankSum=-1.39000e-01;DP=26578;ExcessHet=4.94430e+00;FS=6.97100e+00;InbreedingCoeff=-1.92000e-02;MQ=6.42400e+01;MQRankSum=-1.37400e+00;NEGATIVE_TRAIN_SITE;PG=0,20,46;QD=1.12000e+00;ReadPosRankSum=8.42000e-01;SOR=1.61200e+00;VQSLOD=-1.77300e+00;culprit=QD;pHWEEUR=5.03670e-01;pHWEAFR=5.00000e-01;pPCR=3.59028e-01;pSEQ=1.00000e+00;pLCSET=2.88182e-02;     </td><td>GT:AD:DP:GQ:PP                                                                                                                                                                                                                                                                                                                                                                                                               </td><td>0/0:31,0:31:99:0,110,1396                                                                                                                                                                                                                                                                                                                                                                                                    </td><td>⋯                                                                                                                                                                                                                                                                                                                                                                                                                            </td><td>0/0:37,0:37:99:0,122,1456                                                                                                                                                                                                                                                                                                                                                                                                    </td><td>0/0:13,0:13:59:0,59,488                                                                                                                                                                                                                                                                                                                                                                                                      </td><td>0/0:23,0:23:77:0,77,901                                                                                                                                                                                                                                                                                                                                                                                                      </td><td>0/0:21,0:21:83:0,83,715                                                                                                                                                                                                                                                                                                                                                                                                      </td><td>0/0:43,0:43:99:0,126,1539                                                                                                                                                                                                                                                                                                                                                                                                    </td><td>0/0:23,0:23:80:0,80,946                                                                                                                                                                                                                                                                                                                                                                                                      </td><td>0/0:35,0:35:99:0,122,1212                                                                                                                                                                                                                                                                                                                                                                                                    </td><td>0/0:56,0:56:99:0,140,1846                                                                                                                                                                                                                                                                                                                                                                                                    </td><td>0/0:24,0:24:80:0,80,895                                                                                                                                                                                                                                                                                                                                                                                                      </td><td>0/0:37,0:37:99:0,119,1376                                                                                                                                                                                                                                                                                                                                                                                                    </td></tr>\n",
       "\t<tr><td>chr1                                                                                                                                                                                                                                                                                                                                                                                                                         </td><td>14488                                                                                                                                                                                                                                                                                                                                                                                                                        </td><td>chr1_14488_T_TC_b38                                                                                                                                                                                                                                                                                                                                                                                                          </td><td>T                                                                                                                                                                                                                                                                                                                                                                                                                            </td><td>TC                                                                                                                                                                                                                                                                                                                                                                                                                           </td><td> 509.05                                                                                                                                                                                                                                                                                                                                                                                                                      </td><td>PASS                                                                                                                                                                                                                                                                                                                                                                                                                         </td><td>AC=2;AF=1.24378e-03;AN=1608;BaseQRankSum=-9.87000e-01;ClippingRankSum=-4.30000e-01;DP=26735;ExcessHet=3.01260e+00;FS=1.06130e+01;InbreedingCoeff=-3.40000e-03;MQ=5.29700e+01;MQRankSum=-4.78000e-01;NEGATIVE_TRAIN_SITE;PG=0,0,0;QD=6.88000e+00;ReadPosRankSum=9.04000e-01;SOR=8.17000e-01;VQSLOD=1.50000e-02;culprit=QD;pHWEEUR=5.00000e-01;pHWEAFR=5.02463e-01;pPCR=1.00000e+00;pSEQ=1.00000e+00;pLCSET=1.98098e-01;       </td><td>GT:AD:DP:GQ:PP                                                                                                                                                                                                                                                                                                                                                                                                               </td><td>0/0:34,0:34:91:0,91,1097                                                                                                                                                                                                                                                                                                                                                                                                     </td><td>⋯                                                                                                                                                                                                                                                                                                                                                                                                                            </td><td>0/0:37,0:37:99:0,102,1410                                                                                                                                                                                                                                                                                                                                                                                                    </td><td>0/0:19,0:19:54:0,54,810                                                                                                                                                                                                                                                                                                                                                                                                      </td><td>0/0:21,0:21:60:0,60,900                                                                                                                                                                                                                                                                                                                                                                                                      </td><td>0/0:26,0:26:69:0,69,1035                                                                                                                                                                                                                                                                                                                                                                                                     </td><td>0/0:44,0:44:97:0,97,1369                                                                                                                                                                                                                                                                                                                                                                                                     </td><td>0/0:18,0:18:45:0,45,675                                                                                                                                                                                                                                                                                                                                                                                                      </td><td>0/0:38,0:38:99:0,102,1307                                                                                                                                                                                                                                                                                                                                                                                                    </td><td>0/0:56,0:56:99:0,120,1800                                                                                                                                                                                                                                                                                                                                                                                                    </td><td>0/0:23,0:23:60:0,60,900                                                                                                                                                                                                                                                                                                                                                                                                      </td><td>0/0:37,0:37:99:0,99,1330                                                                                                                                                                                                                                                                                                                                                                                                     </td></tr>\n",
       "</tbody>\n",
       "</table>\n"
      ],
      "text/latex": [
       "\\begin{tabular}{r|lllllllllllllllllllllllllllllllllllllllllllllllllllllllllllllllllllllllllllllllllllllllllllllllllllllllllllllllllllllllllllllllllllllllllllllllllllllllllllllllllllllllllllllllllllllllllllllllllllllllllllllllllllllllllllllllllllllllllllllllllllllllllllllllllllllllllllllllllllllllllllllllllllllllllllllllllllllllllllllllllllllllllllllllllllllllllllllllllllllllllllllllllllllllllllllllllllllllllllllllllllllllllllllllllllllllllllllllllllllllllllllllllllllllllllllllllllllllllllllllllllllllllllllllllllllllllllllllllllllllllllllllllllllllllllllllllllllllllllllllllllllllllllllllllllllllllllllllllllllllllllllllllllllllllllllllllllllllllllllllllllllllllllllllllllllllllllllllllllllllllllllllllllllllllllllllllllllllllllllllllllllllllllllllllllllllllllllllllllllllllllllllllllllllllllllllllllllllllllllllllllllllllllllllllllllllllllllllllllllllllllllll}\n",
       " \\#CHROM & POS & ID & REF & ALT & QUAL & FILTER & INFO & FORMAT & GTEX-1117F & ⋯ & GTEX-ZYFC & GTEX-ZYFD & GTEX-ZYFG & GTEX-ZYT6 & GTEX-ZYVF & GTEX-ZYW4 & GTEX-ZYY3 & GTEX-ZZ64 & GTEX-ZZPT & GTEX-ZZPU\\\\\n",
       "\\hline\n",
       "\t chr1                                                                                                                                                                                                                                                                                                                                                                                                                              & 13526                                                                                                                                                                                                                                                                                                                                                                                                                             & chr1\\_13526\\_C\\_T\\_b38                                                                                                                                                                                                                                                                                                                                                                                                        & C                                                                                                                                                                                                                                                                                                                                                                                                                                 & T                                                                                                                                                                                                                                                                                                                                                                                                                                 &  183.85                                                                                                                                                                                                                                                                                                                                                                                                                           & PASS                                                                                                                                                                                                                                                                                                                                                                                                                              & AC=1;AF=5.96659e-04;AN=1676;BaseQRankSum=-1.92900e+00;ClippingRankSum=-2.31000e-01;DP=15698;ExcessHet=3.01270e+00;FS=1.15530e+01;InbreedingCoeff=-1.03000e-02;MQ=2.54200e+01;MQRankSum=-5.40000e-01;NEGATIVE\\_TRAIN\\_SITE;PG=0,33,69;QD=1.41400e+01;ReadPosRankSum=1.77000e+00;SOR=1.13200e+00;VQSLOD=-2.37900e+00;culprit=MQ;pHWEEUR=5.00000e-01;pHWEAFR=5.00000e-01;pPCR=1.00000e+00;pSEQ=1.00000e+00;pLCSET=1.08592e-01;     & GT:AD:DP:GQ:PP                                                                                                                                                                                                                                                                                                                                                                                                                    & 0/0:23,0:23:93:0,93,969                                                                                                                                                                                                                                                                                                                                                                                                           & ⋯                                                                                                                                                                                                                                                                                                                                                                                                                                 & 0/0:40,0:40:99:0,139,1495                                                                                                                                                                                                                                                                                                                                                                                                         & 0/0:3,0:3:33:0,33,134                                                                                                                                                                                                                                                                                                                                                                                                             & 0/0:8,0:8:57:0,57,337                                                                                                                                                                                                                                                                                                                                                                                                             & 0/0:18,0:18:81:0,81,789                                                                                                                                                                                                                                                                                                                                                                                                           & 0/0:24,0:24:99:0,102,1104                                                                                                                                                                                                                                                                                                                                                                                                         & 0/0:18,0:18:81:0,81,789                                                                                                                                                                                                                                                                                                                                                                                                           & 0/0:7,0:7:51:0,51,339                                                                                                                                                                                                                                                                                                                                                                                                             & 0/0:22,0:22:93:0,93,763                                                                                                                                                                                                                                                                                                                                                                                                           & 0/0:19,0:19:76:0,76,660                                                                                                                                                                                                                                                                                                                                                                                                           & 0/0:12,0:12:69:0,69,486                                                                                                                                                                                                                                                                                                                                                                                                          \\\\\n",
       "\t chr1                                                                                                                                                                                                                                                                                                                                                                                                                              & 13550                                                                                                                                                                                                                                                                                                                                                                                                                             & chr1\\_13550\\_G\\_A\\_b38                                                                                                                                                                                                                                                                                                                                                                                                        & G                                                                                                                                                                                                                                                                                                                                                                                                                                 & A                                                                                                                                                                                                                                                                                                                                                                                                                                 & 6306.59                                                                                                                                                                                                                                                                                                                                                                                                                           & PASS                                                                                                                                                                                                                                                                                                                                                                                                                              & AC=25;AF=1.52812e-02;AN=1636;BaseQRankSum=4.10000e-01;ClippingRankSum=-1.34000e-01;DP=18019;ExcessHet=4.13130e+00;FS=1.05730e+01;InbreedingCoeff=-2.38000e-02;MQ=2.86800e+01;MQRankSum=3.25000e-01;NEGATIVE\\_TRAIN\\_SITE;PG=0,19,43;QD=6.77000e+00;ReadPosRankSum=7.65000e-01;SOR=1.43800e+00;VQSLOD=-2.56000e+00;culprit=MQ;pHWEEUR=5.94055e-01;pHWEAFR=5.00000e-01;pPCR=1.00000e+00;pSEQ=2.50564e-01;pLCSET=1.43088e-01;      & GT:AD:DP:GQ:PP                                                                                                                                                                                                                                                                                                                                                                                                                    & 0/0:25,0:25:88:0,88,1078                                                                                                                                                                                                                                                                                                                                                                                                          & ⋯                                                                                                                                                                                                                                                                                                                                                                                                                                 & 0/0:40,0:40:99:0,125,1469                                                                                                                                                                                                                                                                                                                                                                                                         & 0/0:3,0:3:28:0,28,147                                                                                                                                                                                                                                                                                                                                                                                                             & 0/0:10,0:10:49:0,49,350                                                                                                                                                                                                                                                                                                                                                                                                           & 0/0:19,0:19:76:0,76,673                                                                                                                                                                                                                                                                                                                                                                                                           & 0/0:30,0:30:99:0,109,1035                                                                                                                                                                                                                                                                                                                                                                                                         & 0/0:18,0:18:73:0,73,659                                                                                                                                                                                                                                                                                                                                                                                                           & 0/1:6,3:9:32:32,0,167                                                                                                                                                                                                                                                                                                                                                                                                             & 0/0:30,0:30:99:0,109,1020                                                                                                                                                                                                                                                                                                                                                                                                         & 0/0:24,0:24:88:0,88,1078                                                                                                                                                                                                                                                                                                                                                                                                          & 0/0:17,0:17:70:0,70,593                                                                                                                                                                                                                                                                                                                                                                                                          \\\\\n",
       "\t chr1                                                                                                                                                                                                                                                                                                                                                                                                                              & 14451                                                                                                                                                                                                                                                                                                                                                                                                                             & chr1\\_14451\\_CTCT\\_C\\_b38                                                                                                                                                                                                                                                                                                                                                                                                     & CTCT                                                                                                                                                                                                                                                                                                                                                                                                                              & C                                                                                                                                                                                                                                                                                                                                                                                                                                 &  492.49                                                                                                                                                                                                                                                                                                                                                                                                                           & PASS                                                                                                                                                                                                                                                                                                                                                                                                                              & AC=1;AF=6.42674e-04;AN=1556;BaseQRankSum=-3.38000e-01;ClippingRankSum=-1.22000e-01;DP=24292;ExcessHet=3.01260e+00;FS=1.28710e+01;InbreedingCoeff=1.20000e-03;MQ=3.53500e+01;MQRankSum=-1.82700e+00;NEGATIVE\\_TRAIN\\_SITE;PG=0,0,0;QD=1.20100e+01;ReadPosRankSum=3.65000e-01;SOR=1.82100e+00;VQSLOD=-5.20500e-01;culprit=MQRankSum;pHWEEUR=5.00000e-01;pHWEAFR=5.00000e-01;pPCR=1.00000e+00;pSEQ=1.00000e+00;pLCSET=1.06684e-01; & GT:AD:DP:GQ:PP                                                                                                                                                                                                                                                                                                                                                                                                                    & 0/0:27,0:27:81:0,81,888                                                                                                                                                                                                                                                                                                                                                                                                           & ⋯                                                                                                                                                                                                                                                                                                                                                                                                                                 & 0/0:37,0:37:99:0,102,1410                                                                                                                                                                                                                                                                                                                                                                                                         & 0/0:9,0:9:27:0,27,313                                                                                                                                                                                                                                                                                                                                                                                                             & 0/0:24,0:24:72:0,72,773                                                                                                                                                                                                                                                                                                                                                                                                           & 0/0:25,0:25:72:0,72,828                                                                                                                                                                                                                                                                                                                                                                                                           & 0/1:26,15:41:99:552,0,1365                                                                                                                                                                                                                                                                                                                                                                                                        & 0/0:25,0:25:75:0,75,819                                                                                                                                                                                                                                                                                                                                                                                                           & 0/0:27,0:27:81:0,81,949                                                                                                                                                                                                                                                                                                                                                                                                           & 0/0:37,0:37:99:0,103,1246                                                                                                                                                                                                                                                                                                                                                                                                         & 0/0:28,0:28:81:0,81,1215                                                                                                                                                                                                                                                                                                                                                                                                          & 0/0:47,0:47:99:0,110,1512                                                                                                                                                                                                                                                                                                                                                                                                        \\\\\n",
       "\t chr1                                                                                                                                                                                                                                                                                                                                                                                                                              & 14469                                                                                                                                                                                                                                                                                                                                                                                                                             & chr1\\_14469\\_C\\_T\\_b38                                                                                                                                                                                                                                                                                                                                                                                                        & C                                                                                                                                                                                                                                                                                                                                                                                                                                 & T                                                                                                                                                                                                                                                                                                                                                                                                                                 & 4139.42                                                                                                                                                                                                                                                                                                                                                                                                                           & PASS                                                                                                                                                                                                                                                                                                                                                                                                                              & AC=5;AF=2.99043e-03;AN=1672;BaseQRankSum=1.01000e+00;ClippingRankSum=-3.06000e-01;DP=26322;ExcessHet=3.29000e-02;FS=3.64800e+00;InbreedingCoeff=1.80300e-01;MQ=3.60800e+01;MQRankSum=1.93000e+00;NEGATIVE\\_TRAIN\\_SITE;PG=0,24,54;QD=1.80000e+01;ReadPosRankSum=1.08000e+00;SOR=5.40000e-01;VQSLOD=-2.30900e+00;culprit=MQ;pHWEEUR=5.03617e-01;pHWEAFR=5.00000e-01;pPCR=1.00000e+00;pSEQ=1.00000e+00;pLCSET=5.84631e-02;        & GT:AD:DP:GQ:PP                                                                                                                                                                                                                                                                                                                                                                                                                    & 0/0:30,0:30:99:0,108,1314                                                                                                                                                                                                                                                                                                                                                                                                         & ⋯                                                                                                                                                                                                                                                                                                                                                                                                                                 & 0/0:37,0:37:99:0,126,1464                                                                                                                                                                                                                                                                                                                                                                                                         & 0/0:13,0:13:63:0,63,496                                                                                                                                                                                                                                                                                                                                                                                                           & 0/0:23,0:23:81:0,81,909                                                                                                                                                                                                                                                                                                                                                                                                           & 0/1:6,14:20:99:578,0,280                                                                                                                                                                                                                                                                                                                                                                                                          & 0/0:43,0:43:99:0,130,1547                                                                                                                                                                                                                                                                                                                                                                                                         & 0/0:23,0:23:84:0,84,954                                                                                                                                                                                                                                                                                                                                                                                                           & 0/0:35,0:35:99:0,126,1220                                                                                                                                                                                                                                                                                                                                                                                                         & 0/0:56,0:56:99:0,144,1854                                                                                                                                                                                                                                                                                                                                                                                                         & 0/0:24,0:24:84:0,84,903                                                                                                                                                                                                                                                                                                                                                                                                           & 0/0:37,0:37:99:0,123,1384                                                                                                                                                                                                                                                                                                                                                                                                        \\\\\n",
       "\t chr1                                                                                                                                                                                                                                                                                                                                                                                                                              & 14470                                                                                                                                                                                                                                                                                                                                                                                                                             & chr1\\_14470\\_G\\_A\\_b38                                                                                                                                                                                                                                                                                                                                                                                                        & G                                                                                                                                                                                                                                                                                                                                                                                                                                 & A                                                                                                                                                                                                                                                                                                                                                                                                                                 &  690.55                                                                                                                                                                                                                                                                                                                                                                                                                           & PASS                                                                                                                                                                                                                                                                                                                                                                                                                              & AC=6;AF=3.64078e-03;AN=1648;BaseQRankSum=7.04000e-01;ClippingRankSum=-1.39000e-01;DP=26578;ExcessHet=4.94430e+00;FS=6.97100e+00;InbreedingCoeff=-1.92000e-02;MQ=6.42400e+01;MQRankSum=-1.37400e+00;NEGATIVE\\_TRAIN\\_SITE;PG=0,20,46;QD=1.12000e+00;ReadPosRankSum=8.42000e-01;SOR=1.61200e+00;VQSLOD=-1.77300e+00;culprit=QD;pHWEEUR=5.03670e-01;pHWEAFR=5.00000e-01;pPCR=3.59028e-01;pSEQ=1.00000e+00;pLCSET=2.88182e-02;      & GT:AD:DP:GQ:PP                                                                                                                                                                                                                                                                                                                                                                                                                    & 0/0:31,0:31:99:0,110,1396                                                                                                                                                                                                                                                                                                                                                                                                         & ⋯                                                                                                                                                                                                                                                                                                                                                                                                                                 & 0/0:37,0:37:99:0,122,1456                                                                                                                                                                                                                                                                                                                                                                                                         & 0/0:13,0:13:59:0,59,488                                                                                                                                                                                                                                                                                                                                                                                                           & 0/0:23,0:23:77:0,77,901                                                                                                                                                                                                                                                                                                                                                                                                           & 0/0:21,0:21:83:0,83,715                                                                                                                                                                                                                                                                                                                                                                                                           & 0/0:43,0:43:99:0,126,1539                                                                                                                                                                                                                                                                                                                                                                                                         & 0/0:23,0:23:80:0,80,946                                                                                                                                                                                                                                                                                                                                                                                                           & 0/0:35,0:35:99:0,122,1212                                                                                                                                                                                                                                                                                                                                                                                                         & 0/0:56,0:56:99:0,140,1846                                                                                                                                                                                                                                                                                                                                                                                                         & 0/0:24,0:24:80:0,80,895                                                                                                                                                                                                                                                                                                                                                                                                           & 0/0:37,0:37:99:0,119,1376                                                                                                                                                                                                                                                                                                                                                                                                        \\\\\n",
       "\t chr1                                                                                                                                                                                                                                                                                                                                                                                                                              & 14488                                                                                                                                                                                                                                                                                                                                                                                                                             & chr1\\_14488\\_T\\_TC\\_b38                                                                                                                                                                                                                                                                                                                                                                                                       & T                                                                                                                                                                                                                                                                                                                                                                                                                                 & TC                                                                                                                                                                                                                                                                                                                                                                                                                                &  509.05                                                                                                                                                                                                                                                                                                                                                                                                                           & PASS                                                                                                                                                                                                                                                                                                                                                                                                                              & AC=2;AF=1.24378e-03;AN=1608;BaseQRankSum=-9.87000e-01;ClippingRankSum=-4.30000e-01;DP=26735;ExcessHet=3.01260e+00;FS=1.06130e+01;InbreedingCoeff=-3.40000e-03;MQ=5.29700e+01;MQRankSum=-4.78000e-01;NEGATIVE\\_TRAIN\\_SITE;PG=0,0,0;QD=6.88000e+00;ReadPosRankSum=9.04000e-01;SOR=8.17000e-01;VQSLOD=1.50000e-02;culprit=QD;pHWEEUR=5.00000e-01;pHWEAFR=5.02463e-01;pPCR=1.00000e+00;pSEQ=1.00000e+00;pLCSET=1.98098e-01;        & GT:AD:DP:GQ:PP                                                                                                                                                                                                                                                                                                                                                                                                                    & 0/0:34,0:34:91:0,91,1097                                                                                                                                                                                                                                                                                                                                                                                                          & ⋯                                                                                                                                                                                                                                                                                                                                                                                                                                 & 0/0:37,0:37:99:0,102,1410                                                                                                                                                                                                                                                                                                                                                                                                         & 0/0:19,0:19:54:0,54,810                                                                                                                                                                                                                                                                                                                                                                                                           & 0/0:21,0:21:60:0,60,900                                                                                                                                                                                                                                                                                                                                                                                                           & 0/0:26,0:26:69:0,69,1035                                                                                                                                                                                                                                                                                                                                                                                                          & 0/0:44,0:44:97:0,97,1369                                                                                                                                                                                                                                                                                                                                                                                                          & 0/0:18,0:18:45:0,45,675                                                                                                                                                                                                                                                                                                                                                                                                           & 0/0:38,0:38:99:0,102,1307                                                                                                                                                                                                                                                                                                                                                                                                         & 0/0:56,0:56:99:0,120,1800                                                                                                                                                                                                                                                                                                                                                                                                         & 0/0:23,0:23:60:0,60,900                                                                                                                                                                                                                                                                                                                                                                                                           & 0/0:37,0:37:99:0,99,1330                                                                                                                                                                                                                                                                                                                                                                                                         \\\\\n",
       "\\end{tabular}\n"
      ],
      "text/markdown": [
       "\n",
       "#CHROM | POS | ID | REF | ALT | QUAL | FILTER | INFO | FORMAT | GTEX-1117F | ⋯ | GTEX-ZYFC | GTEX-ZYFD | GTEX-ZYFG | GTEX-ZYT6 | GTEX-ZYVF | GTEX-ZYW4 | GTEX-ZYY3 | GTEX-ZZ64 | GTEX-ZZPT | GTEX-ZZPU | \n",
       "|---|---|---|---|---|---|\n",
       "| chr1                                                                                                                                                                                                                                                                                                                                                                                                                          | 13526                                                                                                                                                                                                                                                                                                                                                                                                                         | chr1_13526_C_T_b38                                                                                                                                                                                                                                                                                                                                                                                                            | C                                                                                                                                                                                                                                                                                                                                                                                                                             | T                                                                                                                                                                                                                                                                                                                                                                                                                             |  183.85                                                                                                                                                                                                                                                                                                                                                                                                                       | PASS                                                                                                                                                                                                                                                                                                                                                                                                                          | AC=1;AF=5.96659e-04;AN=1676;BaseQRankSum=-1.92900e+00;ClippingRankSum=-2.31000e-01;DP=15698;ExcessHet=3.01270e+00;FS=1.15530e+01;InbreedingCoeff=-1.03000e-02;MQ=2.54200e+01;MQRankSum=-5.40000e-01;NEGATIVE_TRAIN_SITE;PG=0,33,69;QD=1.41400e+01;ReadPosRankSum=1.77000e+00;SOR=1.13200e+00;VQSLOD=-2.37900e+00;culprit=MQ;pHWEEUR=5.00000e-01;pHWEAFR=5.00000e-01;pPCR=1.00000e+00;pSEQ=1.00000e+00;pLCSET=1.08592e-01;     | GT:AD:DP:GQ:PP                                                                                                                                                                                                                                                                                                                                                                                                                | 0/0:23,0:23:93:0,93,969                                                                                                                                                                                                                                                                                                                                                                                                       | ⋯                                                                                                                                                                                                                                                                                                                                                                                                                             | 0/0:40,0:40:99:0,139,1495                                                                                                                                                                                                                                                                                                                                                                                                     | 0/0:3,0:3:33:0,33,134                                                                                                                                                                                                                                                                                                                                                                                                         | 0/0:8,0:8:57:0,57,337                                                                                                                                                                                                                                                                                                                                                                                                         | 0/0:18,0:18:81:0,81,789                                                                                                                                                                                                                                                                                                                                                                                                       | 0/0:24,0:24:99:0,102,1104                                                                                                                                                                                                                                                                                                                                                                                                     | 0/0:18,0:18:81:0,81,789                                                                                                                                                                                                                                                                                                                                                                                                       | 0/0:7,0:7:51:0,51,339                                                                                                                                                                                                                                                                                                                                                                                                         | 0/0:22,0:22:93:0,93,763                                                                                                                                                                                                                                                                                                                                                                                                       | 0/0:19,0:19:76:0,76,660                                                                                                                                                                                                                                                                                                                                                                                                       | 0/0:12,0:12:69:0,69,486                                                                                                                                                                                                                                                                                                                                                                                                       | \n",
       "| chr1                                                                                                                                                                                                                                                                                                                                                                                                                          | 13550                                                                                                                                                                                                                                                                                                                                                                                                                         | chr1_13550_G_A_b38                                                                                                                                                                                                                                                                                                                                                                                                            | G                                                                                                                                                                                                                                                                                                                                                                                                                             | A                                                                                                                                                                                                                                                                                                                                                                                                                             | 6306.59                                                                                                                                                                                                                                                                                                                                                                                                                       | PASS                                                                                                                                                                                                                                                                                                                                                                                                                          | AC=25;AF=1.52812e-02;AN=1636;BaseQRankSum=4.10000e-01;ClippingRankSum=-1.34000e-01;DP=18019;ExcessHet=4.13130e+00;FS=1.05730e+01;InbreedingCoeff=-2.38000e-02;MQ=2.86800e+01;MQRankSum=3.25000e-01;NEGATIVE_TRAIN_SITE;PG=0,19,43;QD=6.77000e+00;ReadPosRankSum=7.65000e-01;SOR=1.43800e+00;VQSLOD=-2.56000e+00;culprit=MQ;pHWEEUR=5.94055e-01;pHWEAFR=5.00000e-01;pPCR=1.00000e+00;pSEQ=2.50564e-01;pLCSET=1.43088e-01;      | GT:AD:DP:GQ:PP                                                                                                                                                                                                                                                                                                                                                                                                                | 0/0:25,0:25:88:0,88,1078                                                                                                                                                                                                                                                                                                                                                                                                      | ⋯                                                                                                                                                                                                                                                                                                                                                                                                                             | 0/0:40,0:40:99:0,125,1469                                                                                                                                                                                                                                                                                                                                                                                                     | 0/0:3,0:3:28:0,28,147                                                                                                                                                                                                                                                                                                                                                                                                         | 0/0:10,0:10:49:0,49,350                                                                                                                                                                                                                                                                                                                                                                                                       | 0/0:19,0:19:76:0,76,673                                                                                                                                                                                                                                                                                                                                                                                                       | 0/0:30,0:30:99:0,109,1035                                                                                                                                                                                                                                                                                                                                                                                                     | 0/0:18,0:18:73:0,73,659                                                                                                                                                                                                                                                                                                                                                                                                       | 0/1:6,3:9:32:32,0,167                                                                                                                                                                                                                                                                                                                                                                                                         | 0/0:30,0:30:99:0,109,1020                                                                                                                                                                                                                                                                                                                                                                                                     | 0/0:24,0:24:88:0,88,1078                                                                                                                                                                                                                                                                                                                                                                                                      | 0/0:17,0:17:70:0,70,593                                                                                                                                                                                                                                                                                                                                                                                                       | \n",
       "| chr1                                                                                                                                                                                                                                                                                                                                                                                                                          | 14451                                                                                                                                                                                                                                                                                                                                                                                                                         | chr1_14451_CTCT_C_b38                                                                                                                                                                                                                                                                                                                                                                                                         | CTCT                                                                                                                                                                                                                                                                                                                                                                                                                          | C                                                                                                                                                                                                                                                                                                                                                                                                                             |  492.49                                                                                                                                                                                                                                                                                                                                                                                                                       | PASS                                                                                                                                                                                                                                                                                                                                                                                                                          | AC=1;AF=6.42674e-04;AN=1556;BaseQRankSum=-3.38000e-01;ClippingRankSum=-1.22000e-01;DP=24292;ExcessHet=3.01260e+00;FS=1.28710e+01;InbreedingCoeff=1.20000e-03;MQ=3.53500e+01;MQRankSum=-1.82700e+00;NEGATIVE_TRAIN_SITE;PG=0,0,0;QD=1.20100e+01;ReadPosRankSum=3.65000e-01;SOR=1.82100e+00;VQSLOD=-5.20500e-01;culprit=MQRankSum;pHWEEUR=5.00000e-01;pHWEAFR=5.00000e-01;pPCR=1.00000e+00;pSEQ=1.00000e+00;pLCSET=1.06684e-01; | GT:AD:DP:GQ:PP                                                                                                                                                                                                                                                                                                                                                                                                                | 0/0:27,0:27:81:0,81,888                                                                                                                                                                                                                                                                                                                                                                                                       | ⋯                                                                                                                                                                                                                                                                                                                                                                                                                             | 0/0:37,0:37:99:0,102,1410                                                                                                                                                                                                                                                                                                                                                                                                     | 0/0:9,0:9:27:0,27,313                                                                                                                                                                                                                                                                                                                                                                                                         | 0/0:24,0:24:72:0,72,773                                                                                                                                                                                                                                                                                                                                                                                                       | 0/0:25,0:25:72:0,72,828                                                                                                                                                                                                                                                                                                                                                                                                       | 0/1:26,15:41:99:552,0,1365                                                                                                                                                                                                                                                                                                                                                                                                    | 0/0:25,0:25:75:0,75,819                                                                                                                                                                                                                                                                                                                                                                                                       | 0/0:27,0:27:81:0,81,949                                                                                                                                                                                                                                                                                                                                                                                                       | 0/0:37,0:37:99:0,103,1246                                                                                                                                                                                                                                                                                                                                                                                                     | 0/0:28,0:28:81:0,81,1215                                                                                                                                                                                                                                                                                                                                                                                                      | 0/0:47,0:47:99:0,110,1512                                                                                                                                                                                                                                                                                                                                                                                                     | \n",
       "| chr1                                                                                                                                                                                                                                                                                                                                                                                                                          | 14469                                                                                                                                                                                                                                                                                                                                                                                                                         | chr1_14469_C_T_b38                                                                                                                                                                                                                                                                                                                                                                                                            | C                                                                                                                                                                                                                                                                                                                                                                                                                             | T                                                                                                                                                                                                                                                                                                                                                                                                                             | 4139.42                                                                                                                                                                                                                                                                                                                                                                                                                       | PASS                                                                                                                                                                                                                                                                                                                                                                                                                          | AC=5;AF=2.99043e-03;AN=1672;BaseQRankSum=1.01000e+00;ClippingRankSum=-3.06000e-01;DP=26322;ExcessHet=3.29000e-02;FS=3.64800e+00;InbreedingCoeff=1.80300e-01;MQ=3.60800e+01;MQRankSum=1.93000e+00;NEGATIVE_TRAIN_SITE;PG=0,24,54;QD=1.80000e+01;ReadPosRankSum=1.08000e+00;SOR=5.40000e-01;VQSLOD=-2.30900e+00;culprit=MQ;pHWEEUR=5.03617e-01;pHWEAFR=5.00000e-01;pPCR=1.00000e+00;pSEQ=1.00000e+00;pLCSET=5.84631e-02;        | GT:AD:DP:GQ:PP                                                                                                                                                                                                                                                                                                                                                                                                                | 0/0:30,0:30:99:0,108,1314                                                                                                                                                                                                                                                                                                                                                                                                     | ⋯                                                                                                                                                                                                                                                                                                                                                                                                                             | 0/0:37,0:37:99:0,126,1464                                                                                                                                                                                                                                                                                                                                                                                                     | 0/0:13,0:13:63:0,63,496                                                                                                                                                                                                                                                                                                                                                                                                       | 0/0:23,0:23:81:0,81,909                                                                                                                                                                                                                                                                                                                                                                                                       | 0/1:6,14:20:99:578,0,280                                                                                                                                                                                                                                                                                                                                                                                                      | 0/0:43,0:43:99:0,130,1547                                                                                                                                                                                                                                                                                                                                                                                                     | 0/0:23,0:23:84:0,84,954                                                                                                                                                                                                                                                                                                                                                                                                       | 0/0:35,0:35:99:0,126,1220                                                                                                                                                                                                                                                                                                                                                                                                     | 0/0:56,0:56:99:0,144,1854                                                                                                                                                                                                                                                                                                                                                                                                     | 0/0:24,0:24:84:0,84,903                                                                                                                                                                                                                                                                                                                                                                                                       | 0/0:37,0:37:99:0,123,1384                                                                                                                                                                                                                                                                                                                                                                                                     | \n",
       "| chr1                                                                                                                                                                                                                                                                                                                                                                                                                          | 14470                                                                                                                                                                                                                                                                                                                                                                                                                         | chr1_14470_G_A_b38                                                                                                                                                                                                                                                                                                                                                                                                            | G                                                                                                                                                                                                                                                                                                                                                                                                                             | A                                                                                                                                                                                                                                                                                                                                                                                                                             |  690.55                                                                                                                                                                                                                                                                                                                                                                                                                       | PASS                                                                                                                                                                                                                                                                                                                                                                                                                          | AC=6;AF=3.64078e-03;AN=1648;BaseQRankSum=7.04000e-01;ClippingRankSum=-1.39000e-01;DP=26578;ExcessHet=4.94430e+00;FS=6.97100e+00;InbreedingCoeff=-1.92000e-02;MQ=6.42400e+01;MQRankSum=-1.37400e+00;NEGATIVE_TRAIN_SITE;PG=0,20,46;QD=1.12000e+00;ReadPosRankSum=8.42000e-01;SOR=1.61200e+00;VQSLOD=-1.77300e+00;culprit=QD;pHWEEUR=5.03670e-01;pHWEAFR=5.00000e-01;pPCR=3.59028e-01;pSEQ=1.00000e+00;pLCSET=2.88182e-02;      | GT:AD:DP:GQ:PP                                                                                                                                                                                                                                                                                                                                                                                                                | 0/0:31,0:31:99:0,110,1396                                                                                                                                                                                                                                                                                                                                                                                                     | ⋯                                                                                                                                                                                                                                                                                                                                                                                                                             | 0/0:37,0:37:99:0,122,1456                                                                                                                                                                                                                                                                                                                                                                                                     | 0/0:13,0:13:59:0,59,488                                                                                                                                                                                                                                                                                                                                                                                                       | 0/0:23,0:23:77:0,77,901                                                                                                                                                                                                                                                                                                                                                                                                       | 0/0:21,0:21:83:0,83,715                                                                                                                                                                                                                                                                                                                                                                                                       | 0/0:43,0:43:99:0,126,1539                                                                                                                                                                                                                                                                                                                                                                                                     | 0/0:23,0:23:80:0,80,946                                                                                                                                                                                                                                                                                                                                                                                                       | 0/0:35,0:35:99:0,122,1212                                                                                                                                                                                                                                                                                                                                                                                                     | 0/0:56,0:56:99:0,140,1846                                                                                                                                                                                                                                                                                                                                                                                                     | 0/0:24,0:24:80:0,80,895                                                                                                                                                                                                                                                                                                                                                                                                       | 0/0:37,0:37:99:0,119,1376                                                                                                                                                                                                                                                                                                                                                                                                     | \n",
       "| chr1                                                                                                                                                                                                                                                                                                                                                                                                                          | 14488                                                                                                                                                                                                                                                                                                                                                                                                                         | chr1_14488_T_TC_b38                                                                                                                                                                                                                                                                                                                                                                                                           | T                                                                                                                                                                                                                                                                                                                                                                                                                             | TC                                                                                                                                                                                                                                                                                                                                                                                                                            |  509.05                                                                                                                                                                                                                                                                                                                                                                                                                       | PASS                                                                                                                                                                                                                                                                                                                                                                                                                          | AC=2;AF=1.24378e-03;AN=1608;BaseQRankSum=-9.87000e-01;ClippingRankSum=-4.30000e-01;DP=26735;ExcessHet=3.01260e+00;FS=1.06130e+01;InbreedingCoeff=-3.40000e-03;MQ=5.29700e+01;MQRankSum=-4.78000e-01;NEGATIVE_TRAIN_SITE;PG=0,0,0;QD=6.88000e+00;ReadPosRankSum=9.04000e-01;SOR=8.17000e-01;VQSLOD=1.50000e-02;culprit=QD;pHWEEUR=5.00000e-01;pHWEAFR=5.02463e-01;pPCR=1.00000e+00;pSEQ=1.00000e+00;pLCSET=1.98098e-01;        | GT:AD:DP:GQ:PP                                                                                                                                                                                                                                                                                                                                                                                                                | 0/0:34,0:34:91:0,91,1097                                                                                                                                                                                                                                                                                                                                                                                                      | ⋯                                                                                                                                                                                                                                                                                                                                                                                                                             | 0/0:37,0:37:99:0,102,1410                                                                                                                                                                                                                                                                                                                                                                                                     | 0/0:19,0:19:54:0,54,810                                                                                                                                                                                                                                                                                                                                                                                                       | 0/0:21,0:21:60:0,60,900                                                                                                                                                                                                                                                                                                                                                                                                       | 0/0:26,0:26:69:0,69,1035                                                                                                                                                                                                                                                                                                                                                                                                      | 0/0:44,0:44:97:0,97,1369                                                                                                                                                                                                                                                                                                                                                                                                      | 0/0:18,0:18:45:0,45,675                                                                                                                                                                                                                                                                                                                                                                                                       | 0/0:38,0:38:99:0,102,1307                                                                                                                                                                                                                                                                                                                                                                                                     | 0/0:56,0:56:99:0,120,1800                                                                                                                                                                                                                                                                                                                                                                                                     | 0/0:23,0:23:60:0,60,900                                                                                                                                                                                                                                                                                                                                                                                                       | 0/0:37,0:37:99:0,99,1330                                                                                                                                                                                                                                                                                                                                                                                                      | \n",
       "\n",
       "\n"
      ],
      "text/plain": [
       "  #CHROM POS   ID                    REF  ALT QUAL    FILTER\n",
       "1 chr1   13526 chr1_13526_C_T_b38    C    T    183.85 PASS  \n",
       "2 chr1   13550 chr1_13550_G_A_b38    G    A   6306.59 PASS  \n",
       "3 chr1   14451 chr1_14451_CTCT_C_b38 CTCT C    492.49 PASS  \n",
       "4 chr1   14469 chr1_14469_C_T_b38    C    T   4139.42 PASS  \n",
       "5 chr1   14470 chr1_14470_G_A_b38    G    A    690.55 PASS  \n",
       "6 chr1   14488 chr1_14488_T_TC_b38   T    TC   509.05 PASS  \n",
       "  INFO                                                                                                                                                                                                                                                                                                                                                                                                                         \n",
       "1 AC=1;AF=5.96659e-04;AN=1676;BaseQRankSum=-1.92900e+00;ClippingRankSum=-2.31000e-01;DP=15698;ExcessHet=3.01270e+00;FS=1.15530e+01;InbreedingCoeff=-1.03000e-02;MQ=2.54200e+01;MQRankSum=-5.40000e-01;NEGATIVE_TRAIN_SITE;PG=0,33,69;QD=1.41400e+01;ReadPosRankSum=1.77000e+00;SOR=1.13200e+00;VQSLOD=-2.37900e+00;culprit=MQ;pHWEEUR=5.00000e-01;pHWEAFR=5.00000e-01;pPCR=1.00000e+00;pSEQ=1.00000e+00;pLCSET=1.08592e-01;    \n",
       "2 AC=25;AF=1.52812e-02;AN=1636;BaseQRankSum=4.10000e-01;ClippingRankSum=-1.34000e-01;DP=18019;ExcessHet=4.13130e+00;FS=1.05730e+01;InbreedingCoeff=-2.38000e-02;MQ=2.86800e+01;MQRankSum=3.25000e-01;NEGATIVE_TRAIN_SITE;PG=0,19,43;QD=6.77000e+00;ReadPosRankSum=7.65000e-01;SOR=1.43800e+00;VQSLOD=-2.56000e+00;culprit=MQ;pHWEEUR=5.94055e-01;pHWEAFR=5.00000e-01;pPCR=1.00000e+00;pSEQ=2.50564e-01;pLCSET=1.43088e-01;     \n",
       "3 AC=1;AF=6.42674e-04;AN=1556;BaseQRankSum=-3.38000e-01;ClippingRankSum=-1.22000e-01;DP=24292;ExcessHet=3.01260e+00;FS=1.28710e+01;InbreedingCoeff=1.20000e-03;MQ=3.53500e+01;MQRankSum=-1.82700e+00;NEGATIVE_TRAIN_SITE;PG=0,0,0;QD=1.20100e+01;ReadPosRankSum=3.65000e-01;SOR=1.82100e+00;VQSLOD=-5.20500e-01;culprit=MQRankSum;pHWEEUR=5.00000e-01;pHWEAFR=5.00000e-01;pPCR=1.00000e+00;pSEQ=1.00000e+00;pLCSET=1.06684e-01;\n",
       "4 AC=5;AF=2.99043e-03;AN=1672;BaseQRankSum=1.01000e+00;ClippingRankSum=-3.06000e-01;DP=26322;ExcessHet=3.29000e-02;FS=3.64800e+00;InbreedingCoeff=1.80300e-01;MQ=3.60800e+01;MQRankSum=1.93000e+00;NEGATIVE_TRAIN_SITE;PG=0,24,54;QD=1.80000e+01;ReadPosRankSum=1.08000e+00;SOR=5.40000e-01;VQSLOD=-2.30900e+00;culprit=MQ;pHWEEUR=5.03617e-01;pHWEAFR=5.00000e-01;pPCR=1.00000e+00;pSEQ=1.00000e+00;pLCSET=5.84631e-02;       \n",
       "5 AC=6;AF=3.64078e-03;AN=1648;BaseQRankSum=7.04000e-01;ClippingRankSum=-1.39000e-01;DP=26578;ExcessHet=4.94430e+00;FS=6.97100e+00;InbreedingCoeff=-1.92000e-02;MQ=6.42400e+01;MQRankSum=-1.37400e+00;NEGATIVE_TRAIN_SITE;PG=0,20,46;QD=1.12000e+00;ReadPosRankSum=8.42000e-01;SOR=1.61200e+00;VQSLOD=-1.77300e+00;culprit=QD;pHWEEUR=5.03670e-01;pHWEAFR=5.00000e-01;pPCR=3.59028e-01;pSEQ=1.00000e+00;pLCSET=2.88182e-02;     \n",
       "6 AC=2;AF=1.24378e-03;AN=1608;BaseQRankSum=-9.87000e-01;ClippingRankSum=-4.30000e-01;DP=26735;ExcessHet=3.01260e+00;FS=1.06130e+01;InbreedingCoeff=-3.40000e-03;MQ=5.29700e+01;MQRankSum=-4.78000e-01;NEGATIVE_TRAIN_SITE;PG=0,0,0;QD=6.88000e+00;ReadPosRankSum=9.04000e-01;SOR=8.17000e-01;VQSLOD=1.50000e-02;culprit=QD;pHWEEUR=5.00000e-01;pHWEAFR=5.02463e-01;pPCR=1.00000e+00;pSEQ=1.00000e+00;pLCSET=1.98098e-01;       \n",
       "  FORMAT         GTEX-1117F                ⋯ GTEX-ZYFC                \n",
       "1 GT:AD:DP:GQ:PP 0/0:23,0:23:93:0,93,969   ⋯ 0/0:40,0:40:99:0,139,1495\n",
       "2 GT:AD:DP:GQ:PP 0/0:25,0:25:88:0,88,1078  ⋯ 0/0:40,0:40:99:0,125,1469\n",
       "3 GT:AD:DP:GQ:PP 0/0:27,0:27:81:0,81,888   ⋯ 0/0:37,0:37:99:0,102,1410\n",
       "4 GT:AD:DP:GQ:PP 0/0:30,0:30:99:0,108,1314 ⋯ 0/0:37,0:37:99:0,126,1464\n",
       "5 GT:AD:DP:GQ:PP 0/0:31,0:31:99:0,110,1396 ⋯ 0/0:37,0:37:99:0,122,1456\n",
       "6 GT:AD:DP:GQ:PP 0/0:34,0:34:91:0,91,1097  ⋯ 0/0:37,0:37:99:0,102,1410\n",
       "  GTEX-ZYFD               GTEX-ZYFG               GTEX-ZYT6               \n",
       "1 0/0:3,0:3:33:0,33,134   0/0:8,0:8:57:0,57,337   0/0:18,0:18:81:0,81,789 \n",
       "2 0/0:3,0:3:28:0,28,147   0/0:10,0:10:49:0,49,350 0/0:19,0:19:76:0,76,673 \n",
       "3 0/0:9,0:9:27:0,27,313   0/0:24,0:24:72:0,72,773 0/0:25,0:25:72:0,72,828 \n",
       "4 0/0:13,0:13:63:0,63,496 0/0:23,0:23:81:0,81,909 0/1:6,14:20:99:578,0,280\n",
       "5 0/0:13,0:13:59:0,59,488 0/0:23,0:23:77:0,77,901 0/0:21,0:21:83:0,83,715 \n",
       "6 0/0:19,0:19:54:0,54,810 0/0:21,0:21:60:0,60,900 0/0:26,0:26:69:0,69,1035\n",
       "  GTEX-ZYVF                  GTEX-ZYW4               GTEX-ZYY3                \n",
       "1 0/0:24,0:24:99:0,102,1104  0/0:18,0:18:81:0,81,789 0/0:7,0:7:51:0,51,339    \n",
       "2 0/0:30,0:30:99:0,109,1035  0/0:18,0:18:73:0,73,659 0/1:6,3:9:32:32,0,167    \n",
       "3 0/1:26,15:41:99:552,0,1365 0/0:25,0:25:75:0,75,819 0/0:27,0:27:81:0,81,949  \n",
       "4 0/0:43,0:43:99:0,130,1547  0/0:23,0:23:84:0,84,954 0/0:35,0:35:99:0,126,1220\n",
       "5 0/0:43,0:43:99:0,126,1539  0/0:23,0:23:80:0,80,946 0/0:35,0:35:99:0,122,1212\n",
       "6 0/0:44,0:44:97:0,97,1369   0/0:18,0:18:45:0,45,675 0/0:38,0:38:99:0,102,1307\n",
       "  GTEX-ZZ64                 GTEX-ZZPT                GTEX-ZZPU                \n",
       "1 0/0:22,0:22:93:0,93,763   0/0:19,0:19:76:0,76,660  0/0:12,0:12:69:0,69,486  \n",
       "2 0/0:30,0:30:99:0,109,1020 0/0:24,0:24:88:0,88,1078 0/0:17,0:17:70:0,70,593  \n",
       "3 0/0:37,0:37:99:0,103,1246 0/0:28,0:28:81:0,81,1215 0/0:47,0:47:99:0,110,1512\n",
       "4 0/0:56,0:56:99:0,144,1854 0/0:24,0:24:84:0,84,903  0/0:37,0:37:99:0,123,1384\n",
       "5 0/0:56,0:56:99:0,140,1846 0/0:24,0:24:80:0,80,895  0/0:37,0:37:99:0,119,1376\n",
       "6 0/0:56,0:56:99:0,120,1800 0/0:23,0:23:60:0,60,900  0/0:37,0:37:99:0,99,1330 "
      ]
     },
     "metadata": {},
     "output_type": "display_data"
    }
   ],
   "source": [
    "head(wgs_df)"
   ]
  },
  {
   "cell_type": "code",
   "execution_count": null,
   "metadata": {},
   "outputs": [],
   "source": [
    "### Shape it "
   ]
  },
  {
   "cell_type": "code",
   "execution_count": 41,
   "metadata": {},
   "outputs": [],
   "source": [
    "wgs_path <- \"/ysm-gpfs/pi/zhao/zy92/ncbi/phg001219.v1.GTEx_v8_WGS.genotype-calls-vcf.c1/\"\n",
    "sample_name <- \"sample_WholeGenomeSeq_Freeze.SHAPEIT2.vcf\"\n",
    "wgs_df <- as.data.frame(fread(paste0(wgs_path, sample_name),\n",
    "                             skip = \"#CHROM\"))"
   ]
  },
  {
   "cell_type": "code",
   "execution_count": 42,
   "metadata": {},
   "outputs": [
    {
     "data": {
      "text/html": [
       "<table>\n",
       "<thead><tr><th scope=col>#CHROM</th><th scope=col>POS</th><th scope=col>ID</th><th scope=col>REF</th><th scope=col>ALT</th><th scope=col>QUAL</th><th scope=col>FILTER</th><th scope=col>INFO</th><th scope=col>FORMAT</th><th scope=col>GTEX-1117F</th><th scope=col>⋯</th><th scope=col>GTEX-ZYFC</th><th scope=col>GTEX-ZYFD</th><th scope=col>GTEX-ZYFG</th><th scope=col>GTEX-ZYT6</th><th scope=col>GTEX-ZYVF</th><th scope=col>GTEX-ZYW4</th><th scope=col>GTEX-ZYY3</th><th scope=col>GTEX-ZZ64</th><th scope=col>GTEX-ZZPT</th><th scope=col>GTEX-ZZPU</th></tr></thead>\n",
       "<tbody>\n",
       "\t<tr><td>chr1                       </td><td>13526                      </td><td>chr1_13526_C_T_b38         </td><td>C                          </td><td>T                          </td><td>.                          </td><td>PASS                       </td><td>AN=1676;AF=0.000596659;AC=1</td><td>GT                         </td><td>0|0                        </td><td>⋯                          </td><td>0|0                        </td><td>0|0                        </td><td>0|0                        </td><td>0|0                        </td><td>0|0                        </td><td>0|0                        </td><td>0|0                        </td><td>0|0                        </td><td>0|0                        </td><td>0|0                        </td></tr>\n",
       "\t<tr><td>chr1                       </td><td>13550                      </td><td>chr1_13550_G_A_b38         </td><td>G                          </td><td>A                          </td><td>.                          </td><td>PASS                       </td><td>AN=1676;AF=0.0149165;AC=25 </td><td>GT                         </td><td>0|0                        </td><td>⋯                          </td><td>0|0                        </td><td>0|0                        </td><td>0|0                        </td><td>0|0                        </td><td>0|0                        </td><td>0|0                        </td><td>0|1                        </td><td>0|0                        </td><td>0|0                        </td><td>0|0                        </td></tr>\n",
       "\t<tr><td>chr1                       </td><td>14451                      </td><td>chr1_14451_CTCT_C_b38      </td><td>CTCT                       </td><td>C                          </td><td>.                          </td><td>PASS                       </td><td>AN=1676;AF=0.000596659;AC=1</td><td>GT                         </td><td>0|0                        </td><td>⋯                          </td><td>0|0                        </td><td>0|0                        </td><td>0|0                        </td><td>0|0                        </td><td>0|1                        </td><td>0|0                        </td><td>0|0                        </td><td>0|0                        </td><td>0|0                        </td><td>0|0                        </td></tr>\n",
       "\t<tr><td>chr1                       </td><td>14469                      </td><td>chr1_14469_C_T_b38         </td><td>C                          </td><td>T                          </td><td>.                          </td><td>PASS                       </td><td>AN=1676;AF=0.00298329;AC=5 </td><td>GT                         </td><td>0|0                        </td><td>⋯                          </td><td>0|0                        </td><td>0|0                        </td><td>0|0                        </td><td>0|1                        </td><td>0|0                        </td><td>0|0                        </td><td>0|0                        </td><td>0|0                        </td><td>0|0                        </td><td>0|0                        </td></tr>\n",
       "\t<tr><td>chr1                       </td><td>14470                      </td><td>chr1_14470_G_A_b38         </td><td>G                          </td><td>A                          </td><td>.                          </td><td>PASS                       </td><td>AN=1676;AF=0.00357995;AC=6 </td><td>GT                         </td><td>0|0                        </td><td>⋯                          </td><td>0|0                        </td><td>0|0                        </td><td>0|0                        </td><td>0|0                        </td><td>0|0                        </td><td>0|0                        </td><td>0|0                        </td><td>0|0                        </td><td>0|0                        </td><td>0|0                        </td></tr>\n",
       "\t<tr><td>chr1                       </td><td>14488                      </td><td>chr1_14488_T_TC_b38        </td><td>T                          </td><td>TC                         </td><td>.                          </td><td>PASS                       </td><td>AN=1676;AF=0.00119332;AC=2 </td><td>GT                         </td><td>0|0                        </td><td>⋯                          </td><td>0|0                        </td><td>0|0                        </td><td>0|0                        </td><td>0|0                        </td><td>0|0                        </td><td>0|0                        </td><td>0|0                        </td><td>0|0                        </td><td>0|0                        </td><td>0|0                        </td></tr>\n",
       "</tbody>\n",
       "</table>\n"
      ],
      "text/latex": [
       "\\begin{tabular}{r|lllllllllllllllllllllllllllllllllllllllllllllllllllllllllllllllllllllllllllllllllllllllllllllllllllllllllllllllllllllllllllllllllllllllllllllllllllllllllllllllllllllllllllllllllllllllllllllllllllllllllllllllllllllllllllllllllllllllllllllllllllllllllllllllllllllllllllllllllllllllllllllllllllllllllllllllllllllllllllllllllllllllllllllllllllllllllllllllllllllllllllllllllllllllllllllllllllllllllllllllllllllllllllllllllllllllllllllllllllllllllllllllllllllllllllllllllllllllllllllllllllllllllllllllllllllllllllllllllllllllllllllllllllllllllllllllllllllllllllllllllllllllllllllllllllllllllllllllllllllllllllllllllllllllllllllllllllllllllllllllllllllllllllllllllllllllllllllllllllllllllllllllllllllllllllllllllllllllllllllllllllllllllllllllllllllllllllllllllllllllllllllllllllllllllllllllllllllllllllllllllllllllllllllllllllllllllllllllllllllllllllllll}\n",
       " \\#CHROM & POS & ID & REF & ALT & QUAL & FILTER & INFO & FORMAT & GTEX-1117F & ⋯ & GTEX-ZYFC & GTEX-ZYFD & GTEX-ZYFG & GTEX-ZYT6 & GTEX-ZYVF & GTEX-ZYW4 & GTEX-ZYY3 & GTEX-ZZ64 & GTEX-ZZPT & GTEX-ZZPU\\\\\n",
       "\\hline\n",
       "\t chr1                          & 13526                         & chr1\\_13526\\_C\\_T\\_b38    & C                             & T                             & .                             & PASS                          & AN=1676;AF=0.000596659;AC=1   & GT                            & 0\\textbar{}0                 & ⋯                             & 0\\textbar{}0                 & 0\\textbar{}0                 & 0\\textbar{}0                 & 0\\textbar{}0                 & 0\\textbar{}0                 & 0\\textbar{}0                 & 0\\textbar{}0                 & 0\\textbar{}0                 & 0\\textbar{}0                 & 0\\textbar{}0                \\\\\n",
       "\t chr1                          & 13550                         & chr1\\_13550\\_G\\_A\\_b38    & G                             & A                             & .                             & PASS                          & AN=1676;AF=0.0149165;AC=25    & GT                            & 0\\textbar{}0                 & ⋯                             & 0\\textbar{}0                 & 0\\textbar{}0                 & 0\\textbar{}0                 & 0\\textbar{}0                 & 0\\textbar{}0                 & 0\\textbar{}0                 & 0\\textbar{}1                 & 0\\textbar{}0                 & 0\\textbar{}0                 & 0\\textbar{}0                \\\\\n",
       "\t chr1                          & 14451                         & chr1\\_14451\\_CTCT\\_C\\_b38 & CTCT                          & C                             & .                             & PASS                          & AN=1676;AF=0.000596659;AC=1   & GT                            & 0\\textbar{}0                 & ⋯                             & 0\\textbar{}0                 & 0\\textbar{}0                 & 0\\textbar{}0                 & 0\\textbar{}0                 & 0\\textbar{}1                 & 0\\textbar{}0                 & 0\\textbar{}0                 & 0\\textbar{}0                 & 0\\textbar{}0                 & 0\\textbar{}0                \\\\\n",
       "\t chr1                          & 14469                         & chr1\\_14469\\_C\\_T\\_b38    & C                             & T                             & .                             & PASS                          & AN=1676;AF=0.00298329;AC=5    & GT                            & 0\\textbar{}0                 & ⋯                             & 0\\textbar{}0                 & 0\\textbar{}0                 & 0\\textbar{}0                 & 0\\textbar{}1                 & 0\\textbar{}0                 & 0\\textbar{}0                 & 0\\textbar{}0                 & 0\\textbar{}0                 & 0\\textbar{}0                 & 0\\textbar{}0                \\\\\n",
       "\t chr1                          & 14470                         & chr1\\_14470\\_G\\_A\\_b38    & G                             & A                             & .                             & PASS                          & AN=1676;AF=0.00357995;AC=6    & GT                            & 0\\textbar{}0                 & ⋯                             & 0\\textbar{}0                 & 0\\textbar{}0                 & 0\\textbar{}0                 & 0\\textbar{}0                 & 0\\textbar{}0                 & 0\\textbar{}0                 & 0\\textbar{}0                 & 0\\textbar{}0                 & 0\\textbar{}0                 & 0\\textbar{}0                \\\\\n",
       "\t chr1                          & 14488                         & chr1\\_14488\\_T\\_TC\\_b38   & T                             & TC                            & .                             & PASS                          & AN=1676;AF=0.00119332;AC=2    & GT                            & 0\\textbar{}0                 & ⋯                             & 0\\textbar{}0                 & 0\\textbar{}0                 & 0\\textbar{}0                 & 0\\textbar{}0                 & 0\\textbar{}0                 & 0\\textbar{}0                 & 0\\textbar{}0                 & 0\\textbar{}0                 & 0\\textbar{}0                 & 0\\textbar{}0                \\\\\n",
       "\\end{tabular}\n"
      ],
      "text/markdown": [
       "\n",
       "#CHROM | POS | ID | REF | ALT | QUAL | FILTER | INFO | FORMAT | GTEX-1117F | ⋯ | GTEX-ZYFC | GTEX-ZYFD | GTEX-ZYFG | GTEX-ZYT6 | GTEX-ZYVF | GTEX-ZYW4 | GTEX-ZYY3 | GTEX-ZZ64 | GTEX-ZZPT | GTEX-ZZPU | \n",
       "|---|---|---|---|---|---|\n",
       "| chr1                        | 13526                       | chr1_13526_C_T_b38          | C                           | T                           | .                           | PASS                        | AN=1676;AF=0.000596659;AC=1 | GT                          | 0|0                         | ⋯                           | 0|0                         | 0|0                         | 0|0                         | 0|0                         | 0|0                         | 0|0                         | 0|0                         | 0|0                         | 0|0                         | 0|0                         | \n",
       "| chr1                        | 13550                       | chr1_13550_G_A_b38          | G                           | A                           | .                           | PASS                        | AN=1676;AF=0.0149165;AC=25  | GT                          | 0|0                         | ⋯                           | 0|0                         | 0|0                         | 0|0                         | 0|0                         | 0|0                         | 0|0                         | 0|1                         | 0|0                         | 0|0                         | 0|0                         | \n",
       "| chr1                        | 14451                       | chr1_14451_CTCT_C_b38       | CTCT                        | C                           | .                           | PASS                        | AN=1676;AF=0.000596659;AC=1 | GT                          | 0|0                         | ⋯                           | 0|0                         | 0|0                         | 0|0                         | 0|0                         | 0|1                         | 0|0                         | 0|0                         | 0|0                         | 0|0                         | 0|0                         | \n",
       "| chr1                        | 14469                       | chr1_14469_C_T_b38          | C                           | T                           | .                           | PASS                        | AN=1676;AF=0.00298329;AC=5  | GT                          | 0|0                         | ⋯                           | 0|0                         | 0|0                         | 0|0                         | 0|1                         | 0|0                         | 0|0                         | 0|0                         | 0|0                         | 0|0                         | 0|0                         | \n",
       "| chr1                        | 14470                       | chr1_14470_G_A_b38          | G                           | A                           | .                           | PASS                        | AN=1676;AF=0.00357995;AC=6  | GT                          | 0|0                         | ⋯                           | 0|0                         | 0|0                         | 0|0                         | 0|0                         | 0|0                         | 0|0                         | 0|0                         | 0|0                         | 0|0                         | 0|0                         | \n",
       "| chr1                        | 14488                       | chr1_14488_T_TC_b38         | T                           | TC                          | .                           | PASS                        | AN=1676;AF=0.00119332;AC=2  | GT                          | 0|0                         | ⋯                           | 0|0                         | 0|0                         | 0|0                         | 0|0                         | 0|0                         | 0|0                         | 0|0                         | 0|0                         | 0|0                         | 0|0                         | \n",
       "\n",
       "\n"
      ],
      "text/plain": [
       "  #CHROM POS   ID                    REF  ALT QUAL FILTER\n",
       "1 chr1   13526 chr1_13526_C_T_b38    C    T   .    PASS  \n",
       "2 chr1   13550 chr1_13550_G_A_b38    G    A   .    PASS  \n",
       "3 chr1   14451 chr1_14451_CTCT_C_b38 CTCT C   .    PASS  \n",
       "4 chr1   14469 chr1_14469_C_T_b38    C    T   .    PASS  \n",
       "5 chr1   14470 chr1_14470_G_A_b38    G    A   .    PASS  \n",
       "6 chr1   14488 chr1_14488_T_TC_b38   T    TC  .    PASS  \n",
       "  INFO                        FORMAT GTEX-1117F ⋯ GTEX-ZYFC GTEX-ZYFD GTEX-ZYFG\n",
       "1 AN=1676;AF=0.000596659;AC=1 GT     0|0        ⋯ 0|0       0|0       0|0      \n",
       "2 AN=1676;AF=0.0149165;AC=25  GT     0|0        ⋯ 0|0       0|0       0|0      \n",
       "3 AN=1676;AF=0.000596659;AC=1 GT     0|0        ⋯ 0|0       0|0       0|0      \n",
       "4 AN=1676;AF=0.00298329;AC=5  GT     0|0        ⋯ 0|0       0|0       0|0      \n",
       "5 AN=1676;AF=0.00357995;AC=6  GT     0|0        ⋯ 0|0       0|0       0|0      \n",
       "6 AN=1676;AF=0.00119332;AC=2  GT     0|0        ⋯ 0|0       0|0       0|0      \n",
       "  GTEX-ZYT6 GTEX-ZYVF GTEX-ZYW4 GTEX-ZYY3 GTEX-ZZ64 GTEX-ZZPT GTEX-ZZPU\n",
       "1 0|0       0|0       0|0       0|0       0|0       0|0       0|0      \n",
       "2 0|0       0|0       0|0       0|1       0|0       0|0       0|0      \n",
       "3 0|0       0|1       0|0       0|0       0|0       0|0       0|0      \n",
       "4 0|1       0|0       0|0       0|0       0|0       0|0       0|0      \n",
       "5 0|0       0|0       0|0       0|0       0|0       0|0       0|0      \n",
       "6 0|0       0|0       0|0       0|0       0|0       0|0       0|0      "
      ]
     },
     "metadata": {},
     "output_type": "display_data"
    }
   ],
   "source": [
    "head(wgs_df)"
   ]
  },
  {
   "cell_type": "code",
   "execution_count": null,
   "metadata": {},
   "outputs": [],
   "source": [
    "### covariate\n"
   ]
  },
  {
   "cell_type": "code",
   "execution_count": 2,
   "metadata": {},
   "outputs": [],
   "source": [
    "covariate_path <- \"/ysm-gpfs/pi/zhao-data/zy92/GTEx_V8/GTEx_Analysis_v8_eQTL_covariates\""
   ]
  },
  {
   "cell_type": "code",
   "execution_count": 3,
   "metadata": {},
   "outputs": [],
   "source": [
    "covariate_files <- list.files(covariate_path)"
   ]
  },
  {
   "cell_type": "code",
   "execution_count": 4,
   "metadata": {},
   "outputs": [],
   "source": [
    "tissues_included <- as.character(sapply(covariate_files, function(x) \n",
    "                            {\n",
    "                                unlist(stringr::str_split(x, pattern = \".v8.covariates.txt\"))[1]\n",
    "                            }\n",
    "                           ))"
   ]
  },
  {
   "cell_type": "code",
   "execution_count": 5,
   "metadata": {},
   "outputs": [
    {
     "data": {
      "text/html": [
       "<ol class=list-inline>\n",
       "\t<li>'Adipose_Subcutaneous'</li>\n",
       "\t<li>'Adipose_Visceral_Omentum'</li>\n",
       "\t<li>'Adrenal_Gland'</li>\n",
       "\t<li>'Artery_Aorta'</li>\n",
       "\t<li>'Artery_Coronary'</li>\n",
       "\t<li>'Artery_Tibial'</li>\n",
       "\t<li>'Brain_Amygdala'</li>\n",
       "\t<li>'Brain_Anterior_cingulate_cortex_BA24'</li>\n",
       "\t<li>'Brain_Caudate_basal_ganglia'</li>\n",
       "\t<li>'Brain_Cerebellar_Hemisphere'</li>\n",
       "\t<li>'Brain_Cerebellum'</li>\n",
       "\t<li>'Brain_Cortex'</li>\n",
       "\t<li>'Brain_Frontal_Cortex_BA9'</li>\n",
       "\t<li>'Brain_Hippocampus'</li>\n",
       "\t<li>'Brain_Hypothalamus'</li>\n",
       "\t<li>'Brain_Nucleus_accumbens_basal_ganglia'</li>\n",
       "\t<li>'Brain_Putamen_basal_ganglia'</li>\n",
       "\t<li>'Brain_Spinal_cord_cervical_c-1'</li>\n",
       "\t<li>'Brain_Substantia_nigra'</li>\n",
       "\t<li>'Breast_Mammary_Tissue'</li>\n",
       "\t<li>'Cells_Cultured_fibroblasts'</li>\n",
       "\t<li>'Cells_EBV-transformed_lymphocytes'</li>\n",
       "\t<li>'Colon_Sigmoid'</li>\n",
       "\t<li>'Colon_Transverse'</li>\n",
       "\t<li>'Esophagus_Gastroesophageal_Junction'</li>\n",
       "\t<li>'Esophagus_Mucosa'</li>\n",
       "\t<li>'Esophagus_Muscularis'</li>\n",
       "\t<li>'Heart_Atrial_Appendage'</li>\n",
       "\t<li>'Heart_Left_Ventricle'</li>\n",
       "\t<li>'Kidney_Cortex'</li>\n",
       "\t<li>'Liver'</li>\n",
       "\t<li>'Lung'</li>\n",
       "\t<li>'Minor_Salivary_Gland'</li>\n",
       "\t<li>'Muscle_Skeletal'</li>\n",
       "\t<li>'Nerve_Tibial'</li>\n",
       "\t<li>'Ovary'</li>\n",
       "\t<li>'Pancreas'</li>\n",
       "\t<li>'Pituitary'</li>\n",
       "\t<li>'Prostate'</li>\n",
       "\t<li>'Skin_Not_Sun_Exposed_Suprapubic'</li>\n",
       "\t<li>'Skin_Sun_Exposed_Lower_leg'</li>\n",
       "\t<li>'Small_Intestine_Terminal_Ileum'</li>\n",
       "\t<li>'Spleen'</li>\n",
       "\t<li>'Stomach'</li>\n",
       "\t<li>'Testis'</li>\n",
       "\t<li>'Thyroid'</li>\n",
       "\t<li>'Uterus'</li>\n",
       "\t<li>'Vagina'</li>\n",
       "\t<li>'Whole_Blood'</li>\n",
       "</ol>\n"
      ],
      "text/latex": [
       "\\begin{enumerate*}\n",
       "\\item 'Adipose\\_Subcutaneous'\n",
       "\\item 'Adipose\\_Visceral\\_Omentum'\n",
       "\\item 'Adrenal\\_Gland'\n",
       "\\item 'Artery\\_Aorta'\n",
       "\\item 'Artery\\_Coronary'\n",
       "\\item 'Artery\\_Tibial'\n",
       "\\item 'Brain\\_Amygdala'\n",
       "\\item 'Brain\\_Anterior\\_cingulate\\_cortex\\_BA24'\n",
       "\\item 'Brain\\_Caudate\\_basal\\_ganglia'\n",
       "\\item 'Brain\\_Cerebellar\\_Hemisphere'\n",
       "\\item 'Brain\\_Cerebellum'\n",
       "\\item 'Brain\\_Cortex'\n",
       "\\item 'Brain\\_Frontal\\_Cortex\\_BA9'\n",
       "\\item 'Brain\\_Hippocampus'\n",
       "\\item 'Brain\\_Hypothalamus'\n",
       "\\item 'Brain\\_Nucleus\\_accumbens\\_basal\\_ganglia'\n",
       "\\item 'Brain\\_Putamen\\_basal\\_ganglia'\n",
       "\\item 'Brain\\_Spinal\\_cord\\_cervical\\_c-1'\n",
       "\\item 'Brain\\_Substantia\\_nigra'\n",
       "\\item 'Breast\\_Mammary\\_Tissue'\n",
       "\\item 'Cells\\_Cultured\\_fibroblasts'\n",
       "\\item 'Cells\\_EBV-transformed\\_lymphocytes'\n",
       "\\item 'Colon\\_Sigmoid'\n",
       "\\item 'Colon\\_Transverse'\n",
       "\\item 'Esophagus\\_Gastroesophageal\\_Junction'\n",
       "\\item 'Esophagus\\_Mucosa'\n",
       "\\item 'Esophagus\\_Muscularis'\n",
       "\\item 'Heart\\_Atrial\\_Appendage'\n",
       "\\item 'Heart\\_Left\\_Ventricle'\n",
       "\\item 'Kidney\\_Cortex'\n",
       "\\item 'Liver'\n",
       "\\item 'Lung'\n",
       "\\item 'Minor\\_Salivary\\_Gland'\n",
       "\\item 'Muscle\\_Skeletal'\n",
       "\\item 'Nerve\\_Tibial'\n",
       "\\item 'Ovary'\n",
       "\\item 'Pancreas'\n",
       "\\item 'Pituitary'\n",
       "\\item 'Prostate'\n",
       "\\item 'Skin\\_Not\\_Sun\\_Exposed\\_Suprapubic'\n",
       "\\item 'Skin\\_Sun\\_Exposed\\_Lower\\_leg'\n",
       "\\item 'Small\\_Intestine\\_Terminal\\_Ileum'\n",
       "\\item 'Spleen'\n",
       "\\item 'Stomach'\n",
       "\\item 'Testis'\n",
       "\\item 'Thyroid'\n",
       "\\item 'Uterus'\n",
       "\\item 'Vagina'\n",
       "\\item 'Whole\\_Blood'\n",
       "\\end{enumerate*}\n"
      ],
      "text/markdown": [
       "1. 'Adipose_Subcutaneous'\n",
       "2. 'Adipose_Visceral_Omentum'\n",
       "3. 'Adrenal_Gland'\n",
       "4. 'Artery_Aorta'\n",
       "5. 'Artery_Coronary'\n",
       "6. 'Artery_Tibial'\n",
       "7. 'Brain_Amygdala'\n",
       "8. 'Brain_Anterior_cingulate_cortex_BA24'\n",
       "9. 'Brain_Caudate_basal_ganglia'\n",
       "10. 'Brain_Cerebellar_Hemisphere'\n",
       "11. 'Brain_Cerebellum'\n",
       "12. 'Brain_Cortex'\n",
       "13. 'Brain_Frontal_Cortex_BA9'\n",
       "14. 'Brain_Hippocampus'\n",
       "15. 'Brain_Hypothalamus'\n",
       "16. 'Brain_Nucleus_accumbens_basal_ganglia'\n",
       "17. 'Brain_Putamen_basal_ganglia'\n",
       "18. 'Brain_Spinal_cord_cervical_c-1'\n",
       "19. 'Brain_Substantia_nigra'\n",
       "20. 'Breast_Mammary_Tissue'\n",
       "21. 'Cells_Cultured_fibroblasts'\n",
       "22. 'Cells_EBV-transformed_lymphocytes'\n",
       "23. 'Colon_Sigmoid'\n",
       "24. 'Colon_Transverse'\n",
       "25. 'Esophagus_Gastroesophageal_Junction'\n",
       "26. 'Esophagus_Mucosa'\n",
       "27. 'Esophagus_Muscularis'\n",
       "28. 'Heart_Atrial_Appendage'\n",
       "29. 'Heart_Left_Ventricle'\n",
       "30. 'Kidney_Cortex'\n",
       "31. 'Liver'\n",
       "32. 'Lung'\n",
       "33. 'Minor_Salivary_Gland'\n",
       "34. 'Muscle_Skeletal'\n",
       "35. 'Nerve_Tibial'\n",
       "36. 'Ovary'\n",
       "37. 'Pancreas'\n",
       "38. 'Pituitary'\n",
       "39. 'Prostate'\n",
       "40. 'Skin_Not_Sun_Exposed_Suprapubic'\n",
       "41. 'Skin_Sun_Exposed_Lower_leg'\n",
       "42. 'Small_Intestine_Terminal_Ileum'\n",
       "43. 'Spleen'\n",
       "44. 'Stomach'\n",
       "45. 'Testis'\n",
       "46. 'Thyroid'\n",
       "47. 'Uterus'\n",
       "48. 'Vagina'\n",
       "49. 'Whole_Blood'\n",
       "\n",
       "\n"
      ],
      "text/plain": [
       " [1] \"Adipose_Subcutaneous\"                 \n",
       " [2] \"Adipose_Visceral_Omentum\"             \n",
       " [3] \"Adrenal_Gland\"                        \n",
       " [4] \"Artery_Aorta\"                         \n",
       " [5] \"Artery_Coronary\"                      \n",
       " [6] \"Artery_Tibial\"                        \n",
       " [7] \"Brain_Amygdala\"                       \n",
       " [8] \"Brain_Anterior_cingulate_cortex_BA24\" \n",
       " [9] \"Brain_Caudate_basal_ganglia\"          \n",
       "[10] \"Brain_Cerebellar_Hemisphere\"          \n",
       "[11] \"Brain_Cerebellum\"                     \n",
       "[12] \"Brain_Cortex\"                         \n",
       "[13] \"Brain_Frontal_Cortex_BA9\"             \n",
       "[14] \"Brain_Hippocampus\"                    \n",
       "[15] \"Brain_Hypothalamus\"                   \n",
       "[16] \"Brain_Nucleus_accumbens_basal_ganglia\"\n",
       "[17] \"Brain_Putamen_basal_ganglia\"          \n",
       "[18] \"Brain_Spinal_cord_cervical_c-1\"       \n",
       "[19] \"Brain_Substantia_nigra\"               \n",
       "[20] \"Breast_Mammary_Tissue\"                \n",
       "[21] \"Cells_Cultured_fibroblasts\"           \n",
       "[22] \"Cells_EBV-transformed_lymphocytes\"    \n",
       "[23] \"Colon_Sigmoid\"                        \n",
       "[24] \"Colon_Transverse\"                     \n",
       "[25] \"Esophagus_Gastroesophageal_Junction\"  \n",
       "[26] \"Esophagus_Mucosa\"                     \n",
       "[27] \"Esophagus_Muscularis\"                 \n",
       "[28] \"Heart_Atrial_Appendage\"               \n",
       "[29] \"Heart_Left_Ventricle\"                 \n",
       "[30] \"Kidney_Cortex\"                        \n",
       "[31] \"Liver\"                                \n",
       "[32] \"Lung\"                                 \n",
       "[33] \"Minor_Salivary_Gland\"                 \n",
       "[34] \"Muscle_Skeletal\"                      \n",
       "[35] \"Nerve_Tibial\"                         \n",
       "[36] \"Ovary\"                                \n",
       "[37] \"Pancreas\"                             \n",
       "[38] \"Pituitary\"                            \n",
       "[39] \"Prostate\"                             \n",
       "[40] \"Skin_Not_Sun_Exposed_Suprapubic\"      \n",
       "[41] \"Skin_Sun_Exposed_Lower_leg\"           \n",
       "[42] \"Small_Intestine_Terminal_Ileum\"       \n",
       "[43] \"Spleen\"                               \n",
       "[44] \"Stomach\"                              \n",
       "[45] \"Testis\"                               \n",
       "[46] \"Thyroid\"                              \n",
       "[47] \"Uterus\"                               \n",
       "[48] \"Vagina\"                               \n",
       "[49] \"Whole_Blood\"                          "
      ]
     },
     "metadata": {},
     "output_type": "display_data"
    }
   ],
   "source": [
    "tissues_included"
   ]
  },
  {
   "cell_type": "code",
   "execution_count": 6,
   "metadata": {},
   "outputs": [],
   "source": [
    "map_id_df <- fread(\"/ysm-gpfs/pi/zhao/zy92/ncbi/phs000424.v8.pht002743.v8.p2.c1.GTEx_Sample_Attributes.GRU.txt\",\n",
    "                  skip = \"dbGaP\")"
   ]
  },
  {
   "cell_type": "code",
   "execution_count": 7,
   "metadata": {},
   "outputs": [
    {
     "data": {
      "text/html": [
       "<table>\n",
       "<caption>A data.table: 6 × 75</caption>\n",
       "<thead>\n",
       "\t<tr><th scope=col>dbGaP_Sample_ID</th><th scope=col>SAMPID</th><th scope=col>SMATSSCR</th><th scope=col>SMCAT</th><th scope=col>SMCENTER</th><th scope=col>SMMTRLTP</th><th scope=col>SMNOTES</th><th scope=col>SMOMTRLTP</th><th scope=col>SMPTHNTS</th><th scope=col>SMRIN</th><th scope=col>⋯</th><th scope=col>SME1ANTI</th><th scope=col>SMSPLTRD</th><th scope=col>SMBSMMRT</th><th scope=col>SME1SNSE</th><th scope=col>SME1PCTS</th><th scope=col>SMRRNART</th><th scope=col>SME1MPRT</th><th scope=col>SMNUM5CD</th><th scope=col>SMDPMPRT</th><th scope=col>SME2PCTS</th></tr>\n",
       "\t<tr><th scope=col>&lt;int&gt;</th><th scope=col>&lt;chr&gt;</th><th scope=col>&lt;int&gt;</th><th scope=col>&lt;chr&gt;</th><th scope=col>&lt;chr&gt;</th><th scope=col>&lt;chr&gt;</th><th scope=col>&lt;chr&gt;</th><th scope=col>&lt;chr&gt;</th><th scope=col>&lt;chr&gt;</th><th scope=col>&lt;dbl&gt;</th><th scope=col>⋯</th><th scope=col>&lt;dbl&gt;</th><th scope=col>&lt;dbl&gt;</th><th scope=col>&lt;dbl&gt;</th><th scope=col>&lt;dbl&gt;</th><th scope=col>&lt;dbl&gt;</th><th scope=col>&lt;dbl&gt;</th><th scope=col>&lt;dbl&gt;</th><th scope=col>&lt;lgl&gt;</th><th scope=col>&lt;int&gt;</th><th scope=col>&lt;dbl&gt;</th></tr>\n",
       "</thead>\n",
       "<tbody>\n",
       "\t<tr><td>1663514</td><td>GTEX-1117F-0003-SM-58Q7G     </td><td>NA</td><td>Yellow Kit: Skin and Blood Donation</td><td>B1    </td><td>Whole Blood:Whole Blood   </td><td></td><td>Whole Blood:Whole Blood   </td><td>                                            </td><td> NA</td><td>⋯</td><td>      NA</td><td>      NA</td><td>        NA</td><td>      NA</td><td>     NA</td><td>        NA</td><td>     NA</td><td>NA</td><td>NA</td><td>     NA</td></tr>\n",
       "\t<tr><td>1663515</td><td>GTEX-1117F-0003-SM-5DWSB     </td><td>NA</td><td>Yellow Kit: Skin and Blood Donation</td><td>B1    </td><td>Whole Blood:Whole Blood   </td><td></td><td>Whole Blood:Whole Blood   </td><td>                                            </td><td> NA</td><td>⋯</td><td>      NA</td><td>      NA</td><td>        NA</td><td>      NA</td><td>     NA</td><td>        NA</td><td>     NA</td><td>NA</td><td>NA</td><td>     NA</td></tr>\n",
       "\t<tr><td>1905755</td><td>GTEX-1117F-0003-SM-6WBT7     </td><td>NA</td><td>Yellow Kit: Skin and Blood Donation</td><td>B1    </td><td>Whole Blood:Whole Blood   </td><td></td><td>Whole Blood:Whole Blood   </td><td>                                            </td><td> NA</td><td>⋯</td><td>      NA</td><td>      NA</td><td>        NA</td><td>      NA</td><td>     NA</td><td>        NA</td><td>     NA</td><td>NA</td><td>NA</td><td>     NA</td></tr>\n",
       "\t<tr><td>3556764</td><td>GTEX-1117F-0011-R10a-SM-AHZ7F</td><td>NA</td><td>Green Kit: Brain Donation          </td><td>B1, A1</td><td>Tissue:Fresh Frozen Tissue</td><td></td><td>Tissue:Fresh Frozen Tissue</td><td>                                            </td><td> NA</td><td>⋯</td><td>      NA</td><td>      NA</td><td>        NA</td><td>      NA</td><td>     NA</td><td>        NA</td><td>     NA</td><td>NA</td><td>NA</td><td>     NA</td></tr>\n",
       "\t<tr><td>3556765</td><td>GTEX-1117F-0011-R10b-SM-CYKQ8</td><td>NA</td><td>Green Kit: Brain Donation          </td><td>B1, A1</td><td>Tissue:Fresh Frozen Tissue</td><td></td><td>Tissue:Fresh Frozen Tissue</td><td>                                            </td><td>7.2</td><td>⋯</td><td>      NA</td><td>      NA</td><td>        NA</td><td>      NA</td><td>     NA</td><td>        NA</td><td>     NA</td><td>NA</td><td>NA</td><td>     NA</td></tr>\n",
       "\t<tr><td>1267262</td><td>GTEX-1117F-0226-SM-5GZZ7     </td><td> 0</td><td>Aqua Kit: Organ and Tissue Donation</td><td>B1    </td><td>Tissue:PAXgene Preserved  </td><td></td><td>Tissue:Fresh Tissue       </td><td>2 pieces, ~15% vessel stroma, rep delineated</td><td>6.8</td><td>⋯</td><td>14648800</td><td>11999300</td><td>0.00315785</td><td>14669500</td><td>50.0354</td><td>0.00310538</td><td>0.99474</td><td>NA</td><td> 0</td><td>50.1944</td></tr>\n",
       "</tbody>\n",
       "</table>\n"
      ],
      "text/latex": [
       "A data.table: 6 × 75\n",
       "\\begin{tabular}{r|lllllllllllllllllllllllllllllllllllllllllllllllllllllllllllllllllllllllllll}\n",
       " dbGaP\\_Sample\\_ID & SAMPID & SMATSSCR & SMCAT & SMCENTER & SMMTRLTP & SMNOTES & SMOMTRLTP & SMPTHNTS & SMRIN & SMSMPSTE & SMSTYP & SMTS & SMTSC & SMTSD & SMUBRID & SMUBRTRM & SMTSISCH & SMTSPAX & SMNABTCH & SMNABTCHT & SMNABTCHD & SMGEBTCH & SMGEBTCHD & SMGEBTCHT & ANALYTE\\_TYPE & SMTORMVE & SMFLGRMRK & SMAFRZE & SMGTC & SME2MPRT & SMCHMPRS & SMNTRART & SMNUMGPS & SMMAPRT & SMEXNCRT & SM550NRM & SMGNSDTC & SMUNMPRT & SM350NRM & SMRDLGTH & SMMNCPB & SME1MMRT & SMSFLGTH & SMESTLBS & SMMPPD & SMNTERRT & SMRRNANM & SMRDTTL & SMVQCFL & SMMNCV & SMTRSCPT & SMMPPDPR & SMCGLGTH & SMGAPPCT & SMUNPDRD & SMNTRNRT & SMMPUNRT & SMEXPEFF & SMMPPDUN & SME2MMRT & SME2ANTI & SMALTALG & SME2SNSE & SMMFLGTH & SME1ANTI & SMSPLTRD & SMBSMMRT & SME1SNSE & SME1PCTS & SMRRNART & SME1MPRT & SMNUM5CD & SMDPMPRT & SME2PCTS\\\\\n",
       " <int> & <chr> & <int> & <chr> & <chr> & <chr> & <chr> & <chr> & <chr> & <dbl> & <chr> & <chr> & <chr> & <chr> & <chr> & <chr> & <chr> & <int> & <int> & <chr> & <chr> & <chr> & <chr> & <chr> & <chr> & <chr> & <chr> & <chr> & <chr> & <chr> & <dbl> & <dbl> & <dbl> & <lgl> & <dbl> & <dbl> & <lgl> & <int> & <int> & <lgl> & <int> & <lgl> & <dbl> & <int> & <int> & <dbl> & <dbl> & <dbl> & <dbl> & <dbl> & <lgl> & <int> & <dbl> & <lgl> & <lgl> & <int> & <dbl> & <dbl> & <dbl> & <dbl> & <dbl> & <dbl> & <dbl> & <dbl> & <int> & <dbl> & <dbl> & <dbl> & <dbl> & <dbl> & <dbl> & <dbl> & <lgl> & <int> & <dbl>\\\\\n",
       "\\hline\n",
       "\t 1663514 & GTEX-1117F-0003-SM-58Q7G      & NA & Yellow Kit: Skin and Blood Donation & B1     & Whole Blood:Whole Blood    &  & Whole Blood:Whole Blood    &                                              &  NA &           & Normal & Blood          &  & Whole Blood                  & 0013756 & venous blood                   & 1188 &   NA & BP-38516 & DNA isolation\\_Whole Blood\\_QIAGEN Puregene (Manual)     & 05/02/2013 & LCSET-4574       & 01/15/2014 & Standard Exome Sequencing v3 (ICE) & DNA:DNA Genomic            &  &  & WES    &  &       NA &     NA &       NA & NA &       NA &       NA & NA &    NA & NA & NA & NA & NA &         NA &  NA & NA &       NA &        NA &     NA &       NA &      NA & NA &    NA &       NA & NA & NA & NA &       NA &       NA &       NA &       NA &         NA &       NA &      NA &       NA &  NA &       NA &       NA &         NA &       NA &      NA &         NA &      NA & NA & NA &      NA\\\\\n",
       "\t 1663515 & GTEX-1117F-0003-SM-5DWSB      & NA & Yellow Kit: Skin and Blood Donation & B1     & Whole Blood:Whole Blood    &  & Whole Blood:Whole Blood    &                                              &  NA &           & Normal & Blood          &  & Whole Blood                  & 0013756 & venous blood                   & 1188 &   NA & BP-38516 & DNA isolation\\_Whole Blood\\_QIAGEN Puregene (Manual)     & 05/02/2013 & GTEx\\_OM25\\_Dec\\_01 & 01/28/2014 & Illumina OMNI SNP Array            & DNA:DNA Genomic            &  &  & OMNI   &  &       NA &     NA &       NA & NA &       NA &       NA & NA &    NA & NA & NA & NA & NA &         NA &  NA & NA &       NA &        NA &     NA &       NA &      NA & NA &    NA &       NA & NA & NA & NA &       NA &       NA &       NA &       NA &         NA &       NA &      NA &       NA &  NA &       NA &       NA &         NA &       NA &      NA &         NA &      NA & NA & NA &      NA\\\\\n",
       "\t 1905755 & GTEX-1117F-0003-SM-6WBT7      & NA & Yellow Kit: Skin and Blood Donation & B1     & Whole Blood:Whole Blood    &  & Whole Blood:Whole Blood    &                                              &  NA &           & Normal & Blood          &  & Whole Blood                  & 0013756 & venous blood                   & 1188 &   NA & BP-38516 & DNA isolation\\_Whole Blood\\_QIAGEN Puregene (Manual)     & 05/02/2013 & LCSET-6056       & 09/20/2014 & PCR+ 30x Coverage WGS v2 (HiSeqX)  & DNA:DNA Genomic            &  &  & WGS    &  &       NA &     NA &       NA & NA &       NA &       NA & NA &    NA & NA & NA & NA & NA &         NA &  NA & NA &       NA &        NA &     NA &       NA &      NA & NA &    NA &       NA & NA & NA & NA &       NA &       NA &       NA &       NA &         NA &       NA &      NA &       NA &  NA &       NA &       NA &         NA &       NA &      NA &         NA &      NA & NA & NA &      NA\\\\\n",
       "\t 3556764 & GTEX-1117F-0011-R10a-SM-AHZ7F & NA & Green Kit: Brain Donation           & B1, A1 & Tissue:Fresh Frozen Tissue &  & Tissue:Fresh Frozen Tissue &                                              &  NA &           & Normal & Brain          &  & Brain - Frontal Cortex (BA9) & 0009834 & dorsolateral prefrontal cortex & 1193 &   NA &          &                                                        &            &                  &            & ChIP-Seq                           & Tissue:Fresh Frozen Tissue &  &  &        &  &       NA &     NA &       NA & NA &       NA &       NA & NA &    NA & NA & NA & NA & NA &         NA &  NA & NA &       NA &        NA &     NA &       NA &      NA & NA &    NA &       NA & NA & NA & NA &       NA &       NA &       NA &       NA &         NA &       NA &      NA &       NA &  NA &       NA &       NA &         NA &       NA &      NA &         NA &      NA & NA & NA &      NA\\\\\n",
       "\t 3556765 & GTEX-1117F-0011-R10b-SM-CYKQ8 & NA & Green Kit: Brain Donation           & B1, A1 & Tissue:Fresh Frozen Tissue &  & Tissue:Fresh Frozen Tissue &                                              & 7.2 &           & Normal & Brain          &  & Brain - Frontal Cortex (BA9) & 0009834 & dorsolateral prefrontal cortex & 1193 &   NA & BP-42319 & RNA isolation\\_PAXgene Tissue miRNA                     & 08/14/2013 &                  &            & RIP-Seq                            & RNA:Total RNA              &  &  &        &  &       NA &     NA &       NA & NA &       NA &       NA & NA &    NA & NA & NA & NA & NA &         NA &  NA & NA &       NA &        NA &     NA &       NA &      NA & NA &    NA &       NA & NA & NA & NA &       NA &       NA &       NA &       NA &         NA &       NA &      NA &       NA &  NA &       NA &       NA &         NA &       NA &      NA &         NA &      NA & NA & NA &      NA\\\\\n",
       "\t 1267262 & GTEX-1117F-0226-SM-5GZZ7      &  0 & Aqua Kit: Organ and Tissue Donation & B1     & Tissue:PAXgene Preserved   &  & Tissue:Fresh Tissue        & 2 pieces, \\textasciitilde{}15\\% vessel stroma, rep delineated & 6.8 & Leg, left & Normal & Adipose Tissue &  & Adipose - Subcutaneous       & 0002190 & subcutaneous adipose tissue    & 1214 & 1125 & BP-43693 & RNA Extraction from Paxgene-derived Lysate Plate Based & 09/17/2013 & LCSET-4804       & 03/05/2014 & TruSeq.v1                          & RNA:Total RNA              &  &  & RNASEQ &  & 0.986026 & 345562 & 0.966793 & NA & 0.990383 & 0.756726 & NA & 23548 &  1 & NA & 76 & NA & 0.00240323 & 136 &  0 & 66833200 & 0.0329192 & 209558 & 67482200 & 8797660 & NA & 23575 & 33158000 & NA & NA &  0 & 0.210067 & 0.990383 & 0.749449 & 66833200 & 0.00391915 & 14462700 & 8914900 & 14575600 & 144 & 14648800 & 11999300 & 0.00315785 & 14669500 & 50.0354 & 0.00310538 & 0.99474 & NA &  0 & 50.1944\\\\\n",
       "\\end{tabular}\n"
      ],
      "text/markdown": [
       "\n",
       "A data.table: 6 × 75\n",
       "\n",
       "| dbGaP_Sample_ID &lt;int&gt; | SAMPID &lt;chr&gt; | SMATSSCR &lt;int&gt; | SMCAT &lt;chr&gt; | SMCENTER &lt;chr&gt; | SMMTRLTP &lt;chr&gt; | SMNOTES &lt;chr&gt; | SMOMTRLTP &lt;chr&gt; | SMPTHNTS &lt;chr&gt; | SMRIN &lt;dbl&gt; | ⋯ ⋯ | SME1ANTI &lt;dbl&gt; | SMSPLTRD &lt;dbl&gt; | SMBSMMRT &lt;dbl&gt; | SME1SNSE &lt;dbl&gt; | SME1PCTS &lt;dbl&gt; | SMRRNART &lt;dbl&gt; | SME1MPRT &lt;dbl&gt; | SMNUM5CD &lt;lgl&gt; | SMDPMPRT &lt;int&gt; | SME2PCTS &lt;dbl&gt; |\n",
       "|---|---|---|---|---|---|---|---|---|---|---|---|---|---|---|---|---|---|---|---|---|\n",
       "| 1663514 | GTEX-1117F-0003-SM-58Q7G      | NA | Yellow Kit: Skin and Blood Donation | B1     | Whole Blood:Whole Blood    | <!----> | Whole Blood:Whole Blood    | <!----> |  NA | ⋯ |       NA |       NA |         NA |       NA |      NA |         NA |      NA | NA | NA |      NA |\n",
       "| 1663515 | GTEX-1117F-0003-SM-5DWSB      | NA | Yellow Kit: Skin and Blood Donation | B1     | Whole Blood:Whole Blood    | <!----> | Whole Blood:Whole Blood    | <!----> |  NA | ⋯ |       NA |       NA |         NA |       NA |      NA |         NA |      NA | NA | NA |      NA |\n",
       "| 1905755 | GTEX-1117F-0003-SM-6WBT7      | NA | Yellow Kit: Skin and Blood Donation | B1     | Whole Blood:Whole Blood    | <!----> | Whole Blood:Whole Blood    | <!----> |  NA | ⋯ |       NA |       NA |         NA |       NA |      NA |         NA |      NA | NA | NA |      NA |\n",
       "| 3556764 | GTEX-1117F-0011-R10a-SM-AHZ7F | NA | Green Kit: Brain Donation           | B1, A1 | Tissue:Fresh Frozen Tissue | <!----> | Tissue:Fresh Frozen Tissue | <!----> |  NA | ⋯ |       NA |       NA |         NA |       NA |      NA |         NA |      NA | NA | NA |      NA |\n",
       "| 3556765 | GTEX-1117F-0011-R10b-SM-CYKQ8 | NA | Green Kit: Brain Donation           | B1, A1 | Tissue:Fresh Frozen Tissue | <!----> | Tissue:Fresh Frozen Tissue | <!----> | 7.2 | ⋯ |       NA |       NA |         NA |       NA |      NA |         NA |      NA | NA | NA |      NA |\n",
       "| 1267262 | GTEX-1117F-0226-SM-5GZZ7      |  0 | Aqua Kit: Organ and Tissue Donation | B1     | Tissue:PAXgene Preserved   | <!----> | Tissue:Fresh Tissue        | 2 pieces, ~15% vessel stroma, rep delineated | 6.8 | ⋯ | 14648800 | 11999300 | 0.00315785 | 14669500 | 50.0354 | 0.00310538 | 0.99474 | NA |  0 | 50.1944 |\n",
       "\n"
      ],
      "text/plain": [
       "  dbGaP_Sample_ID SAMPID                        SMATSSCR\n",
       "1 1663514         GTEX-1117F-0003-SM-58Q7G      NA      \n",
       "2 1663515         GTEX-1117F-0003-SM-5DWSB      NA      \n",
       "3 1905755         GTEX-1117F-0003-SM-6WBT7      NA      \n",
       "4 3556764         GTEX-1117F-0011-R10a-SM-AHZ7F NA      \n",
       "5 3556765         GTEX-1117F-0011-R10b-SM-CYKQ8 NA      \n",
       "6 1267262         GTEX-1117F-0226-SM-5GZZ7       0      \n",
       "  SMCAT                               SMCENTER SMMTRLTP                  \n",
       "1 Yellow Kit: Skin and Blood Donation B1       Whole Blood:Whole Blood   \n",
       "2 Yellow Kit: Skin and Blood Donation B1       Whole Blood:Whole Blood   \n",
       "3 Yellow Kit: Skin and Blood Donation B1       Whole Blood:Whole Blood   \n",
       "4 Green Kit: Brain Donation           B1, A1   Tissue:Fresh Frozen Tissue\n",
       "5 Green Kit: Brain Donation           B1, A1   Tissue:Fresh Frozen Tissue\n",
       "6 Aqua Kit: Organ and Tissue Donation B1       Tissue:PAXgene Preserved  \n",
       "  SMNOTES SMOMTRLTP                 \n",
       "1         Whole Blood:Whole Blood   \n",
       "2         Whole Blood:Whole Blood   \n",
       "3         Whole Blood:Whole Blood   \n",
       "4         Tissue:Fresh Frozen Tissue\n",
       "5         Tissue:Fresh Frozen Tissue\n",
       "6         Tissue:Fresh Tissue       \n",
       "  SMPTHNTS                                     SMRIN ⋯ SME1ANTI SMSPLTRD\n",
       "1                                               NA   ⋯       NA       NA\n",
       "2                                               NA   ⋯       NA       NA\n",
       "3                                               NA   ⋯       NA       NA\n",
       "4                                               NA   ⋯       NA       NA\n",
       "5                                              7.2   ⋯       NA       NA\n",
       "6 2 pieces, ~15% vessel stroma, rep delineated 6.8   ⋯ 14648800 11999300\n",
       "  SMBSMMRT   SME1SNSE SME1PCTS SMRRNART   SME1MPRT SMNUM5CD SMDPMPRT SME2PCTS\n",
       "1         NA       NA      NA          NA      NA  NA       NA            NA \n",
       "2         NA       NA      NA          NA      NA  NA       NA            NA \n",
       "3         NA       NA      NA          NA      NA  NA       NA            NA \n",
       "4         NA       NA      NA          NA      NA  NA       NA            NA \n",
       "5         NA       NA      NA          NA      NA  NA       NA            NA \n",
       "6 0.00315785 14669500 50.0354  0.00310538 0.99474  NA        0       50.1944 "
      ]
     },
     "metadata": {},
     "output_type": "display_data"
    }
   ],
   "source": [
    "head(map_id_df)"
   ]
  },
  {
   "cell_type": "code",
   "execution_count": 8,
   "metadata": {},
   "outputs": [
    {
     "data": {
      "text/plain": [
       "\n",
       "      Cells:Cell Line, Viable           Tissue:Fixed Tissue \n",
       "                          217                            46 \n",
       "   Tissue:Fresh Frozen Tissue       Tissue:Fresh Skin Punch \n",
       "                         2946                            88 \n",
       "          Tissue:Fresh Tissue      Tissue:PAXgene Preserved \n",
       "                        16156                            18 \n",
       "      Whole Blood:Blood Cells Whole Blood:PAXgene Preserved \n",
       "                            5                            20 \n",
       "      Whole Blood:Whole Blood Whole Blood:Whole Blood Fresh \n",
       "                         3434                            21 "
      ]
     },
     "metadata": {},
     "output_type": "display_data"
    }
   ],
   "source": [
    "table(map_id_df$SMOMTRLTP)"
   ]
  },
  {
   "cell_type": "code",
   "execution_count": 9,
   "metadata": {},
   "outputs": [],
   "source": [
    "sample_annotation <- fread(\"/ysm-gpfs/pi/zhao/zy92/ncbi/GTEx_Analysis_v8_Annotations_SampleAttributesDS.txt\")"
   ]
  },
  {
   "cell_type": "code",
   "execution_count": 10,
   "metadata": {},
   "outputs": [
    {
     "data": {
      "text/html": [
       "<table>\n",
       "<caption>A data.table: 6 × 63</caption>\n",
       "<thead>\n",
       "\t<tr><th scope=col>SAMPID</th><th scope=col>SMATSSCR</th><th scope=col>SMCENTER</th><th scope=col>SMPTHNTS</th><th scope=col>SMRIN</th><th scope=col>SMTS</th><th scope=col>SMTSD</th><th scope=col>SMUBRID</th><th scope=col>SMTSISCH</th><th scope=col>SMTSPAX</th><th scope=col>⋯</th><th scope=col>SME1ANTI</th><th scope=col>SMSPLTRD</th><th scope=col>SMBSMMRT</th><th scope=col>SME1SNSE</th><th scope=col>SME1PCTS</th><th scope=col>SMRRNART</th><th scope=col>SME1MPRT</th><th scope=col>SMNUM5CD</th><th scope=col>SMDPMPRT</th><th scope=col>SME2PCTS</th></tr>\n",
       "\t<tr><th scope=col>&lt;chr&gt;</th><th scope=col>&lt;int&gt;</th><th scope=col>&lt;chr&gt;</th><th scope=col>&lt;chr&gt;</th><th scope=col>&lt;dbl&gt;</th><th scope=col>&lt;chr&gt;</th><th scope=col>&lt;chr&gt;</th><th scope=col>&lt;chr&gt;</th><th scope=col>&lt;int&gt;</th><th scope=col>&lt;int&gt;</th><th scope=col>⋯</th><th scope=col>&lt;dbl&gt;</th><th scope=col>&lt;dbl&gt;</th><th scope=col>&lt;dbl&gt;</th><th scope=col>&lt;dbl&gt;</th><th scope=col>&lt;dbl&gt;</th><th scope=col>&lt;dbl&gt;</th><th scope=col>&lt;dbl&gt;</th><th scope=col>&lt;lgl&gt;</th><th scope=col>&lt;int&gt;</th><th scope=col>&lt;dbl&gt;</th></tr>\n",
       "</thead>\n",
       "<tbody>\n",
       "\t<tr><td>GTEX-1117F-0003-SM-58Q7G     </td><td>NA</td><td>B1    </td><td>                                            </td><td> NA</td><td>Blood         </td><td>Whole Blood                 </td><td>0013756</td><td>1188</td><td>  NA</td><td>⋯</td><td>      NA</td><td>      NA</td><td>        NA</td><td>      NA</td><td>     NA</td><td>        NA</td><td>     NA</td><td>NA</td><td>NA</td><td>     NA</td></tr>\n",
       "\t<tr><td>GTEX-1117F-0003-SM-5DWSB     </td><td>NA</td><td>B1    </td><td>                                            </td><td> NA</td><td>Blood         </td><td>Whole Blood                 </td><td>0013756</td><td>1188</td><td>  NA</td><td>⋯</td><td>      NA</td><td>      NA</td><td>        NA</td><td>      NA</td><td>     NA</td><td>        NA</td><td>     NA</td><td>NA</td><td>NA</td><td>     NA</td></tr>\n",
       "\t<tr><td>GTEX-1117F-0003-SM-6WBT7     </td><td>NA</td><td>B1    </td><td>                                            </td><td> NA</td><td>Blood         </td><td>Whole Blood                 </td><td>0013756</td><td>1188</td><td>  NA</td><td>⋯</td><td>      NA</td><td>      NA</td><td>        NA</td><td>      NA</td><td>     NA</td><td>        NA</td><td>     NA</td><td>NA</td><td>NA</td><td>     NA</td></tr>\n",
       "\t<tr><td>GTEX-1117F-0011-R10a-SM-AHZ7F</td><td>NA</td><td>B1, A1</td><td>                                            </td><td> NA</td><td>Brain         </td><td>Brain - Frontal Cortex (BA9)</td><td>0009834</td><td>1193</td><td>  NA</td><td>⋯</td><td>      NA</td><td>      NA</td><td>        NA</td><td>      NA</td><td>     NA</td><td>        NA</td><td>     NA</td><td>NA</td><td>NA</td><td>     NA</td></tr>\n",
       "\t<tr><td>GTEX-1117F-0011-R10b-SM-CYKQ8</td><td>NA</td><td>B1, A1</td><td>                                            </td><td>7.2</td><td>Brain         </td><td>Brain - Frontal Cortex (BA9)</td><td>0009834</td><td>1193</td><td>  NA</td><td>⋯</td><td>      NA</td><td>      NA</td><td>        NA</td><td>      NA</td><td>     NA</td><td>        NA</td><td>     NA</td><td>NA</td><td>NA</td><td>     NA</td></tr>\n",
       "\t<tr><td>GTEX-1117F-0226-SM-5GZZ7     </td><td> 0</td><td>B1    </td><td>2 pieces, ~15% vessel stroma, rep delineated</td><td>6.8</td><td>Adipose Tissue</td><td>Adipose - Subcutaneous      </td><td>0002190</td><td>1214</td><td>1125</td><td>⋯</td><td>14648800</td><td>11999300</td><td>0.00315785</td><td>14669500</td><td>50.0354</td><td>0.00310538</td><td>0.99474</td><td>NA</td><td> 0</td><td>50.1944</td></tr>\n",
       "</tbody>\n",
       "</table>\n"
      ],
      "text/latex": [
       "A data.table: 6 × 63\n",
       "\\begin{tabular}{r|lllllllllllllllllllllllllllllllllllllllllllllllllllllllllllllll}\n",
       " SAMPID & SMATSSCR & SMCENTER & SMPTHNTS & SMRIN & SMTS & SMTSD & SMUBRID & SMTSISCH & SMTSPAX & SMNABTCH & SMNABTCHT & SMNABTCHD & SMGEBTCH & SMGEBTCHD & SMGEBTCHT & SMAFRZE & SMGTC & SME2MPRT & SMCHMPRS & SMNTRART & SMNUMGPS & SMMAPRT & SMEXNCRT & SM550NRM & SMGNSDTC & SMUNMPRT & SM350NRM & SMRDLGTH & SMMNCPB & SME1MMRT & SMSFLGTH & SMESTLBS & SMMPPD & SMNTERRT & SMRRNANM & SMRDTTL & SMVQCFL & SMMNCV & SMTRSCPT & SMMPPDPR & SMCGLGTH & SMGAPPCT & SMUNPDRD & SMNTRNRT & SMMPUNRT & SMEXPEFF & SMMPPDUN & SME2MMRT & SME2ANTI & SMALTALG & SME2SNSE & SMMFLGTH & SME1ANTI & SMSPLTRD & SMBSMMRT & SME1SNSE & SME1PCTS & SMRRNART & SME1MPRT & SMNUM5CD & SMDPMPRT & SME2PCTS\\\\\n",
       " <chr> & <int> & <chr> & <chr> & <dbl> & <chr> & <chr> & <chr> & <int> & <int> & <chr> & <chr> & <chr> & <chr> & <chr> & <chr> & <chr> & <chr> & <dbl> & <dbl> & <dbl> & <lgl> & <dbl> & <dbl> & <lgl> & <int> & <int> & <lgl> & <int> & <lgl> & <dbl> & <int> & <int> & <dbl> & <dbl> & <dbl> & <dbl> & <dbl> & <lgl> & <int> & <dbl> & <lgl> & <lgl> & <int> & <dbl> & <dbl> & <dbl> & <dbl> & <dbl> & <dbl> & <dbl> & <dbl> & <int> & <dbl> & <dbl> & <dbl> & <dbl> & <dbl> & <dbl> & <dbl> & <lgl> & <int> & <dbl>\\\\\n",
       "\\hline\n",
       "\t GTEX-1117F-0003-SM-58Q7G      & NA & B1     &                                              &  NA & Blood          & Whole Blood                  & 0013756 & 1188 &   NA & BP-38516 & DNA isolation\\_Whole Blood\\_QIAGEN Puregene (Manual)     & 05/02/2013 & LCSET-4574       & 01/15/2014 & Standard Exome Sequencing v3 (ICE) & WES    &  &       NA &     NA &       NA & NA &       NA &       NA & NA &    NA & NA & NA & NA & NA &         NA &  NA & NA &       NA &        NA &     NA &       NA &      NA & NA &    NA &       NA & NA & NA & NA &       NA &       NA &       NA &       NA &         NA &       NA &      NA &       NA &  NA &       NA &       NA &         NA &       NA &      NA &         NA &      NA & NA & NA &      NA\\\\\n",
       "\t GTEX-1117F-0003-SM-5DWSB      & NA & B1     &                                              &  NA & Blood          & Whole Blood                  & 0013756 & 1188 &   NA & BP-38516 & DNA isolation\\_Whole Blood\\_QIAGEN Puregene (Manual)     & 05/02/2013 & GTEx\\_OM25\\_Dec\\_01 & 01/28/2014 & Illumina OMNI SNP Array            & OMNI   &  &       NA &     NA &       NA & NA &       NA &       NA & NA &    NA & NA & NA & NA & NA &         NA &  NA & NA &       NA &        NA &     NA &       NA &      NA & NA &    NA &       NA & NA & NA & NA &       NA &       NA &       NA &       NA &         NA &       NA &      NA &       NA &  NA &       NA &       NA &         NA &       NA &      NA &         NA &      NA & NA & NA &      NA\\\\\n",
       "\t GTEX-1117F-0003-SM-6WBT7      & NA & B1     &                                              &  NA & Blood          & Whole Blood                  & 0013756 & 1188 &   NA & BP-38516 & DNA isolation\\_Whole Blood\\_QIAGEN Puregene (Manual)     & 05/02/2013 & LCSET-6056       & 09/20/2014 & PCR+ 30x Coverage WGS v2 (HiSeqX)  & WGS    &  &       NA &     NA &       NA & NA &       NA &       NA & NA &    NA & NA & NA & NA & NA &         NA &  NA & NA &       NA &        NA &     NA &       NA &      NA & NA &    NA &       NA & NA & NA & NA &       NA &       NA &       NA &       NA &         NA &       NA &      NA &       NA &  NA &       NA &       NA &         NA &       NA &      NA &         NA &      NA & NA & NA &      NA\\\\\n",
       "\t GTEX-1117F-0011-R10a-SM-AHZ7F & NA & B1, A1 &                                              &  NA & Brain          & Brain - Frontal Cortex (BA9) & 0009834 & 1193 &   NA &          &                                                        &            &                  &            & ChIP-Seq                           &        &  &       NA &     NA &       NA & NA &       NA &       NA & NA &    NA & NA & NA & NA & NA &         NA &  NA & NA &       NA &        NA &     NA &       NA &      NA & NA &    NA &       NA & NA & NA & NA &       NA &       NA &       NA &       NA &         NA &       NA &      NA &       NA &  NA &       NA &       NA &         NA &       NA &      NA &         NA &      NA & NA & NA &      NA\\\\\n",
       "\t GTEX-1117F-0011-R10b-SM-CYKQ8 & NA & B1, A1 &                                              & 7.2 & Brain          & Brain - Frontal Cortex (BA9) & 0009834 & 1193 &   NA & BP-42319 & RNA isolation\\_PAXgene Tissue miRNA                     & 08/14/2013 &                  &            & RIP-Seq                            &        &  &       NA &     NA &       NA & NA &       NA &       NA & NA &    NA & NA & NA & NA & NA &         NA &  NA & NA &       NA &        NA &     NA &       NA &      NA & NA &    NA &       NA & NA & NA & NA &       NA &       NA &       NA &       NA &         NA &       NA &      NA &       NA &  NA &       NA &       NA &         NA &       NA &      NA &         NA &      NA & NA & NA &      NA\\\\\n",
       "\t GTEX-1117F-0226-SM-5GZZ7      &  0 & B1     & 2 pieces, \\textasciitilde{}15\\% vessel stroma, rep delineated & 6.8 & Adipose Tissue & Adipose - Subcutaneous       & 0002190 & 1214 & 1125 & BP-43693 & RNA Extraction from Paxgene-derived Lysate Plate Based & 09/17/2013 & LCSET-4804       & 03/05/2014 & TruSeq.v1                          & RNASEQ &  & 0.986026 & 345562 & 0.966793 & NA & 0.990383 & 0.756726 & NA & 23548 &  1 & NA & 76 & NA & 0.00240323 & 136 &  0 & 66833200 & 0.0329192 & 209558 & 67482200 & 8797660 & NA & 23575 & 33158000 & NA & NA &  0 & 0.210067 & 0.990383 & 0.749449 & 66833200 & 0.00391915 & 14462700 & 8914900 & 14575600 & 144 & 14648800 & 11999300 & 0.00315785 & 14669500 & 50.0354 & 0.00310538 & 0.99474 & NA &  0 & 50.1944\\\\\n",
       "\\end{tabular}\n"
      ],
      "text/markdown": [
       "\n",
       "A data.table: 6 × 63\n",
       "\n",
       "| SAMPID &lt;chr&gt; | SMATSSCR &lt;int&gt; | SMCENTER &lt;chr&gt; | SMPTHNTS &lt;chr&gt; | SMRIN &lt;dbl&gt; | SMTS &lt;chr&gt; | SMTSD &lt;chr&gt; | SMUBRID &lt;chr&gt; | SMTSISCH &lt;int&gt; | SMTSPAX &lt;int&gt; | ⋯ ⋯ | SME1ANTI &lt;dbl&gt; | SMSPLTRD &lt;dbl&gt; | SMBSMMRT &lt;dbl&gt; | SME1SNSE &lt;dbl&gt; | SME1PCTS &lt;dbl&gt; | SMRRNART &lt;dbl&gt; | SME1MPRT &lt;dbl&gt; | SMNUM5CD &lt;lgl&gt; | SMDPMPRT &lt;int&gt; | SME2PCTS &lt;dbl&gt; |\n",
       "|---|---|---|---|---|---|---|---|---|---|---|---|---|---|---|---|---|---|---|---|---|\n",
       "| GTEX-1117F-0003-SM-58Q7G      | NA | B1     | <!----> |  NA | Blood          | Whole Blood                  | 0013756 | 1188 |   NA | ⋯ |       NA |       NA |         NA |       NA |      NA |         NA |      NA | NA | NA |      NA |\n",
       "| GTEX-1117F-0003-SM-5DWSB      | NA | B1     | <!----> |  NA | Blood          | Whole Blood                  | 0013756 | 1188 |   NA | ⋯ |       NA |       NA |         NA |       NA |      NA |         NA |      NA | NA | NA |      NA |\n",
       "| GTEX-1117F-0003-SM-6WBT7      | NA | B1     | <!----> |  NA | Blood          | Whole Blood                  | 0013756 | 1188 |   NA | ⋯ |       NA |       NA |         NA |       NA |      NA |         NA |      NA | NA | NA |      NA |\n",
       "| GTEX-1117F-0011-R10a-SM-AHZ7F | NA | B1, A1 | <!----> |  NA | Brain          | Brain - Frontal Cortex (BA9) | 0009834 | 1193 |   NA | ⋯ |       NA |       NA |         NA |       NA |      NA |         NA |      NA | NA | NA |      NA |\n",
       "| GTEX-1117F-0011-R10b-SM-CYKQ8 | NA | B1, A1 | <!----> | 7.2 | Brain          | Brain - Frontal Cortex (BA9) | 0009834 | 1193 |   NA | ⋯ |       NA |       NA |         NA |       NA |      NA |         NA |      NA | NA | NA |      NA |\n",
       "| GTEX-1117F-0226-SM-5GZZ7      |  0 | B1     | 2 pieces, ~15% vessel stroma, rep delineated | 6.8 | Adipose Tissue | Adipose - Subcutaneous       | 0002190 | 1214 | 1125 | ⋯ | 14648800 | 11999300 | 0.00315785 | 14669500 | 50.0354 | 0.00310538 | 0.99474 | NA |  0 | 50.1944 |\n",
       "\n"
      ],
      "text/plain": [
       "  SAMPID                        SMATSSCR SMCENTER\n",
       "1 GTEX-1117F-0003-SM-58Q7G      NA       B1      \n",
       "2 GTEX-1117F-0003-SM-5DWSB      NA       B1      \n",
       "3 GTEX-1117F-0003-SM-6WBT7      NA       B1      \n",
       "4 GTEX-1117F-0011-R10a-SM-AHZ7F NA       B1, A1  \n",
       "5 GTEX-1117F-0011-R10b-SM-CYKQ8 NA       B1, A1  \n",
       "6 GTEX-1117F-0226-SM-5GZZ7       0       B1      \n",
       "  SMPTHNTS                                     SMRIN SMTS          \n",
       "1                                               NA   Blood         \n",
       "2                                               NA   Blood         \n",
       "3                                               NA   Blood         \n",
       "4                                               NA   Brain         \n",
       "5                                              7.2   Brain         \n",
       "6 2 pieces, ~15% vessel stroma, rep delineated 6.8   Adipose Tissue\n",
       "  SMTSD                        SMUBRID SMTSISCH SMTSPAX ⋯ SME1ANTI SMSPLTRD\n",
       "1 Whole Blood                  0013756 1188       NA    ⋯       NA       NA\n",
       "2 Whole Blood                  0013756 1188       NA    ⋯       NA       NA\n",
       "3 Whole Blood                  0013756 1188       NA    ⋯       NA       NA\n",
       "4 Brain - Frontal Cortex (BA9) 0009834 1193       NA    ⋯       NA       NA\n",
       "5 Brain - Frontal Cortex (BA9) 0009834 1193       NA    ⋯       NA       NA\n",
       "6 Adipose - Subcutaneous       0002190 1214     1125    ⋯ 14648800 11999300\n",
       "  SMBSMMRT   SME1SNSE SME1PCTS SMRRNART   SME1MPRT SMNUM5CD SMDPMPRT SME2PCTS\n",
       "1         NA       NA      NA          NA      NA  NA       NA            NA \n",
       "2         NA       NA      NA          NA      NA  NA       NA            NA \n",
       "3         NA       NA      NA          NA      NA  NA       NA            NA \n",
       "4         NA       NA      NA          NA      NA  NA       NA            NA \n",
       "5         NA       NA      NA          NA      NA  NA       NA            NA \n",
       "6 0.00315785 14669500 50.0354  0.00310538 0.99474  NA        0       50.1944 "
      ]
     },
     "metadata": {},
     "output_type": "display_data"
    }
   ],
   "source": [
    "head(sample_annotation)"
   ]
  },
  {
   "cell_type": "code",
   "execution_count": 11,
   "metadata": {},
   "outputs": [],
   "source": [
    "tissue_vec <- unique(sample_annotation$SMTSD)"
   ]
  },
  {
   "cell_type": "code",
   "execution_count": null,
   "metadata": {},
   "outputs": [],
   "source": [
    "tissue_vec"
   ]
  },
  {
   "cell_type": "code",
   "execution_count": 13,
   "metadata": {},
   "outputs": [
    {
     "data": {
      "text/plain": [
       "\n",
       "                   Adipose - Subcutaneous \n",
       "                                      763 \n",
       "             Adipose - Visceral (Omentum) \n",
       "                                      564 \n",
       "                            Adrenal Gland \n",
       "                                      275 \n",
       "                           Artery - Aorta \n",
       "                                      450 \n",
       "                        Artery - Coronary \n",
       "                                      253 \n",
       "                          Artery - Tibial \n",
       "                                      770 \n",
       "                                  Bladder \n",
       "                                       21 \n",
       "                         Brain - Amygdala \n",
       "                                      177 \n",
       " Brain - Anterior cingulate cortex (BA24) \n",
       "                                      213 \n",
       "          Brain - Caudate (basal ganglia) \n",
       "                                      291 \n",
       "            Brain - Cerebellar Hemisphere \n",
       "                                      263 \n",
       "                       Brain - Cerebellum \n",
       "                                      298 \n",
       "                           Brain - Cortex \n",
       "                                      325 \n",
       "             Brain - Frontal Cortex (BA9) \n",
       "                                      425 \n",
       "                      Brain - Hippocampus \n",
       "                                      243 \n",
       "                     Brain - Hypothalamus \n",
       "                                      236 \n",
       "Brain - Nucleus accumbens (basal ganglia) \n",
       "                                      277 \n",
       "          Brain - Putamen (basal ganglia) \n",
       "                                      232 \n",
       "       Brain - Spinal cord (cervical c-1) \n",
       "                                      182 \n",
       "                 Brain - Substantia nigra \n",
       "                                      164 \n",
       "                  Breast - Mammary Tissue \n",
       "                                      480 \n",
       "             Cells - Cultured fibroblasts \n",
       "                                      527 \n",
       "      Cells - EBV-transformed lymphocytes \n",
       "                                      192 \n",
       "         Cells - Leukemia cell line (CML) \n",
       "                                      217 \n",
       "                      Cervix - Ectocervix \n",
       "                                        9 \n",
       "                      Cervix - Endocervix \n",
       "                                       10 \n",
       "                          Colon - Sigmoid \n",
       "                                      389 \n",
       "                       Colon - Transverse \n",
       "                                      432 \n",
       "    Esophagus - Gastroesophageal Junction \n",
       "                                      401 \n",
       "                       Esophagus - Mucosa \n",
       "                                      622 \n",
       "                   Esophagus - Muscularis \n",
       "                                      559 \n",
       "                           Fallopian Tube \n",
       "                                        9 \n",
       "                 Heart - Atrial Appendage \n",
       "                                      452 \n",
       "                   Heart - Left Ventricle \n",
       "                                      689 \n",
       "                          Kidney - Cortex \n",
       "                                      100 \n",
       "                         Kidney - Medulla \n",
       "                                        4 \n",
       "                                    Liver \n",
       "                                      251 \n",
       "                                     Lung \n",
       "                                      867 \n",
       "                     Minor Salivary Gland \n",
       "                                      181 \n",
       "                        Muscle - Skeletal \n",
       "                                     1132 \n",
       "                           Nerve - Tibial \n",
       "                                      722 \n",
       "                                    Ovary \n",
       "                                      195 \n",
       "                                 Pancreas \n",
       "                                      360 \n",
       "                                Pituitary \n",
       "                                      301 \n",
       "                                 Prostate \n",
       "                                      262 \n",
       "      Skin - Not Sun Exposed (Suprapubic) \n",
       "                                      638 \n",
       "           Skin - Sun Exposed (Lower leg) \n",
       "                                      849 \n",
       "         Small Intestine - Terminal Ileum \n",
       "                                      193 \n",
       "                                   Spleen \n",
       "                                      260 \n",
       "                                  Stomach \n",
       "                                      381 \n",
       "                                   Testis \n",
       "                                      406 \n",
       "                                  Thyroid \n",
       "                                      812 \n",
       "                                   Uterus \n",
       "                                      166 \n",
       "                                   Vagina \n",
       "                                      173 \n",
       "                              Whole Blood \n",
       "                                     3288 "
      ]
     },
     "metadata": {},
     "output_type": "display_data"
    }
   ],
   "source": [
    "table(sample_annotation$SMTSD)"
   ]
  },
  {
   "cell_type": "code",
   "execution_count": null,
   "metadata": {},
   "outputs": [],
   "source": [
    "# kidney <- 1 (cortex only)\n",
    "# Fallopian Tube <- small\n",
    "# bladder <- small\n",
    "# Cervix <- 2"
   ]
  },
  {
   "cell_type": "code",
   "execution_count": null,
   "metadata": {},
   "outputs": [],
   "source": [
    "5 tissues"
   ]
  },
  {
   "cell_type": "code",
   "execution_count": null,
   "metadata": {},
   "outputs": [],
   "source": [
    "54 tissues: \n",
    "49 tissues:"
   ]
  },
  {
   "cell_type": "markdown",
   "metadata": {},
   "source": [
    "### new tissues\n",
    "Minor Salivary Gland"
   ]
  },
  {
   "cell_type": "code",
   "execution_count": 14,
   "metadata": {},
   "outputs": [],
   "source": [
    "process_anno <- function(string) {\n",
    "    tmp <- unlist(stringr::str_split(string, \"\\\\.\"))[1]\n",
    "}"
   ]
  },
  {
   "cell_type": "code",
   "execution_count": null,
   "metadata": {},
   "outputs": [],
   "source": []
  },
  {
   "cell_type": "code",
   "execution_count": 15,
   "metadata": {},
   "outputs": [],
   "source": [
    "tissue_cov <- list.files(\"/ysm-gpfs/pi/zhao-data/zy92/GTEx_V8/GTEx_Analysis_v8_eQTL_covariates\")"
   ]
  },
  {
   "cell_type": "code",
   "execution_count": 16,
   "metadata": {},
   "outputs": [
    {
     "data": {
      "text/html": [
       "49"
      ],
      "text/latex": [
       "49"
      ],
      "text/markdown": [
       "49"
      ],
      "text/plain": [
       "[1] 49"
      ]
     },
     "metadata": {},
     "output_type": "display_data"
    }
   ],
   "source": [
    "length(tissue_cov)"
   ]
  },
  {
   "cell_type": "code",
   "execution_count": 17,
   "metadata": {},
   "outputs": [
    {
     "data": {
      "text/html": [
       "'Adipose_Subcutaneous'"
      ],
      "text/latex": [
       "'Adipose\\_Subcutaneous'"
      ],
      "text/markdown": [
       "'Adipose_Subcutaneous'"
      ],
      "text/plain": [
       "[1] \"Adipose_Subcutaneous\""
      ]
     },
     "metadata": {},
     "output_type": "display_data"
    }
   ],
   "source": [
    "extract_tissue <- function(string) {\n",
    "    return(unlist(stringr::str_split(string, \"\\\\.\"))[1])\n",
    "}\n",
    "extract_tissue(tissue_cov[1])"
   ]
  },
  {
   "cell_type": "code",
   "execution_count": 18,
   "metadata": {},
   "outputs": [
    {
     "data": {
      "text/html": [
       "<ol class=list-inline>\n",
       "\t<li>'Adipose_Subcutaneous'</li>\n",
       "\t<li>'Adipose_Visceral_Omentum'</li>\n",
       "\t<li>'Adrenal_Gland'</li>\n",
       "\t<li>'Artery_Aorta'</li>\n",
       "\t<li>'Artery_Coronary'</li>\n",
       "\t<li>'Artery_Tibial'</li>\n",
       "\t<li>'Brain_Amygdala'</li>\n",
       "\t<li>'Brain_Anterior_cingulate_cortex_BA24'</li>\n",
       "\t<li>'Brain_Caudate_basal_ganglia'</li>\n",
       "\t<li>'Brain_Cerebellar_Hemisphere'</li>\n",
       "\t<li>'Brain_Cerebellum'</li>\n",
       "\t<li>'Brain_Cortex'</li>\n",
       "\t<li>'Brain_Frontal_Cortex_BA9'</li>\n",
       "\t<li>'Brain_Hippocampus'</li>\n",
       "\t<li>'Brain_Hypothalamus'</li>\n",
       "\t<li>'Brain_Nucleus_accumbens_basal_ganglia'</li>\n",
       "\t<li>'Brain_Putamen_basal_ganglia'</li>\n",
       "\t<li>'Brain_Spinal_cord_cervical_c-1'</li>\n",
       "\t<li>'Brain_Substantia_nigra'</li>\n",
       "\t<li>'Breast_Mammary_Tissue'</li>\n",
       "\t<li>'Cells_Cultured_fibroblasts'</li>\n",
       "\t<li>'Cells_EBV-transformed_lymphocytes'</li>\n",
       "\t<li>'Colon_Sigmoid'</li>\n",
       "\t<li>'Colon_Transverse'</li>\n",
       "\t<li>'Esophagus_Gastroesophageal_Junction'</li>\n",
       "\t<li>'Esophagus_Mucosa'</li>\n",
       "\t<li>'Esophagus_Muscularis'</li>\n",
       "\t<li>'Heart_Atrial_Appendage'</li>\n",
       "\t<li>'Heart_Left_Ventricle'</li>\n",
       "\t<li>'Kidney_Cortex'</li>\n",
       "\t<li>'Liver'</li>\n",
       "\t<li>'Lung'</li>\n",
       "\t<li>'Minor_Salivary_Gland'</li>\n",
       "\t<li>'Muscle_Skeletal'</li>\n",
       "\t<li>'Nerve_Tibial'</li>\n",
       "\t<li>'Ovary'</li>\n",
       "\t<li>'Pancreas'</li>\n",
       "\t<li>'Pituitary'</li>\n",
       "\t<li>'Prostate'</li>\n",
       "\t<li>'Skin_Not_Sun_Exposed_Suprapubic'</li>\n",
       "\t<li>'Skin_Sun_Exposed_Lower_leg'</li>\n",
       "\t<li>'Small_Intestine_Terminal_Ileum'</li>\n",
       "\t<li>'Spleen'</li>\n",
       "\t<li>'Stomach'</li>\n",
       "\t<li>'Testis'</li>\n",
       "\t<li>'Thyroid'</li>\n",
       "\t<li>'Uterus'</li>\n",
       "\t<li>'Vagina'</li>\n",
       "\t<li>'Whole_Blood'</li>\n",
       "</ol>\n"
      ],
      "text/latex": [
       "\\begin{enumerate*}\n",
       "\\item 'Adipose\\_Subcutaneous'\n",
       "\\item 'Adipose\\_Visceral\\_Omentum'\n",
       "\\item 'Adrenal\\_Gland'\n",
       "\\item 'Artery\\_Aorta'\n",
       "\\item 'Artery\\_Coronary'\n",
       "\\item 'Artery\\_Tibial'\n",
       "\\item 'Brain\\_Amygdala'\n",
       "\\item 'Brain\\_Anterior\\_cingulate\\_cortex\\_BA24'\n",
       "\\item 'Brain\\_Caudate\\_basal\\_ganglia'\n",
       "\\item 'Brain\\_Cerebellar\\_Hemisphere'\n",
       "\\item 'Brain\\_Cerebellum'\n",
       "\\item 'Brain\\_Cortex'\n",
       "\\item 'Brain\\_Frontal\\_Cortex\\_BA9'\n",
       "\\item 'Brain\\_Hippocampus'\n",
       "\\item 'Brain\\_Hypothalamus'\n",
       "\\item 'Brain\\_Nucleus\\_accumbens\\_basal\\_ganglia'\n",
       "\\item 'Brain\\_Putamen\\_basal\\_ganglia'\n",
       "\\item 'Brain\\_Spinal\\_cord\\_cervical\\_c-1'\n",
       "\\item 'Brain\\_Substantia\\_nigra'\n",
       "\\item 'Breast\\_Mammary\\_Tissue'\n",
       "\\item 'Cells\\_Cultured\\_fibroblasts'\n",
       "\\item 'Cells\\_EBV-transformed\\_lymphocytes'\n",
       "\\item 'Colon\\_Sigmoid'\n",
       "\\item 'Colon\\_Transverse'\n",
       "\\item 'Esophagus\\_Gastroesophageal\\_Junction'\n",
       "\\item 'Esophagus\\_Mucosa'\n",
       "\\item 'Esophagus\\_Muscularis'\n",
       "\\item 'Heart\\_Atrial\\_Appendage'\n",
       "\\item 'Heart\\_Left\\_Ventricle'\n",
       "\\item 'Kidney\\_Cortex'\n",
       "\\item 'Liver'\n",
       "\\item 'Lung'\n",
       "\\item 'Minor\\_Salivary\\_Gland'\n",
       "\\item 'Muscle\\_Skeletal'\n",
       "\\item 'Nerve\\_Tibial'\n",
       "\\item 'Ovary'\n",
       "\\item 'Pancreas'\n",
       "\\item 'Pituitary'\n",
       "\\item 'Prostate'\n",
       "\\item 'Skin\\_Not\\_Sun\\_Exposed\\_Suprapubic'\n",
       "\\item 'Skin\\_Sun\\_Exposed\\_Lower\\_leg'\n",
       "\\item 'Small\\_Intestine\\_Terminal\\_Ileum'\n",
       "\\item 'Spleen'\n",
       "\\item 'Stomach'\n",
       "\\item 'Testis'\n",
       "\\item 'Thyroid'\n",
       "\\item 'Uterus'\n",
       "\\item 'Vagina'\n",
       "\\item 'Whole\\_Blood'\n",
       "\\end{enumerate*}\n"
      ],
      "text/markdown": [
       "1. 'Adipose_Subcutaneous'\n",
       "2. 'Adipose_Visceral_Omentum'\n",
       "3. 'Adrenal_Gland'\n",
       "4. 'Artery_Aorta'\n",
       "5. 'Artery_Coronary'\n",
       "6. 'Artery_Tibial'\n",
       "7. 'Brain_Amygdala'\n",
       "8. 'Brain_Anterior_cingulate_cortex_BA24'\n",
       "9. 'Brain_Caudate_basal_ganglia'\n",
       "10. 'Brain_Cerebellar_Hemisphere'\n",
       "11. 'Brain_Cerebellum'\n",
       "12. 'Brain_Cortex'\n",
       "13. 'Brain_Frontal_Cortex_BA9'\n",
       "14. 'Brain_Hippocampus'\n",
       "15. 'Brain_Hypothalamus'\n",
       "16. 'Brain_Nucleus_accumbens_basal_ganglia'\n",
       "17. 'Brain_Putamen_basal_ganglia'\n",
       "18. 'Brain_Spinal_cord_cervical_c-1'\n",
       "19. 'Brain_Substantia_nigra'\n",
       "20. 'Breast_Mammary_Tissue'\n",
       "21. 'Cells_Cultured_fibroblasts'\n",
       "22. 'Cells_EBV-transformed_lymphocytes'\n",
       "23. 'Colon_Sigmoid'\n",
       "24. 'Colon_Transverse'\n",
       "25. 'Esophagus_Gastroesophageal_Junction'\n",
       "26. 'Esophagus_Mucosa'\n",
       "27. 'Esophagus_Muscularis'\n",
       "28. 'Heart_Atrial_Appendage'\n",
       "29. 'Heart_Left_Ventricle'\n",
       "30. 'Kidney_Cortex'\n",
       "31. 'Liver'\n",
       "32. 'Lung'\n",
       "33. 'Minor_Salivary_Gland'\n",
       "34. 'Muscle_Skeletal'\n",
       "35. 'Nerve_Tibial'\n",
       "36. 'Ovary'\n",
       "37. 'Pancreas'\n",
       "38. 'Pituitary'\n",
       "39. 'Prostate'\n",
       "40. 'Skin_Not_Sun_Exposed_Suprapubic'\n",
       "41. 'Skin_Sun_Exposed_Lower_leg'\n",
       "42. 'Small_Intestine_Terminal_Ileum'\n",
       "43. 'Spleen'\n",
       "44. 'Stomach'\n",
       "45. 'Testis'\n",
       "46. 'Thyroid'\n",
       "47. 'Uterus'\n",
       "48. 'Vagina'\n",
       "49. 'Whole_Blood'\n",
       "\n",
       "\n"
      ],
      "text/plain": [
       " [1] \"Adipose_Subcutaneous\"                 \n",
       " [2] \"Adipose_Visceral_Omentum\"             \n",
       " [3] \"Adrenal_Gland\"                        \n",
       " [4] \"Artery_Aorta\"                         \n",
       " [5] \"Artery_Coronary\"                      \n",
       " [6] \"Artery_Tibial\"                        \n",
       " [7] \"Brain_Amygdala\"                       \n",
       " [8] \"Brain_Anterior_cingulate_cortex_BA24\" \n",
       " [9] \"Brain_Caudate_basal_ganglia\"          \n",
       "[10] \"Brain_Cerebellar_Hemisphere\"          \n",
       "[11] \"Brain_Cerebellum\"                     \n",
       "[12] \"Brain_Cortex\"                         \n",
       "[13] \"Brain_Frontal_Cortex_BA9\"             \n",
       "[14] \"Brain_Hippocampus\"                    \n",
       "[15] \"Brain_Hypothalamus\"                   \n",
       "[16] \"Brain_Nucleus_accumbens_basal_ganglia\"\n",
       "[17] \"Brain_Putamen_basal_ganglia\"          \n",
       "[18] \"Brain_Spinal_cord_cervical_c-1\"       \n",
       "[19] \"Brain_Substantia_nigra\"               \n",
       "[20] \"Breast_Mammary_Tissue\"                \n",
       "[21] \"Cells_Cultured_fibroblasts\"           \n",
       "[22] \"Cells_EBV-transformed_lymphocytes\"    \n",
       "[23] \"Colon_Sigmoid\"                        \n",
       "[24] \"Colon_Transverse\"                     \n",
       "[25] \"Esophagus_Gastroesophageal_Junction\"  \n",
       "[26] \"Esophagus_Mucosa\"                     \n",
       "[27] \"Esophagus_Muscularis\"                 \n",
       "[28] \"Heart_Atrial_Appendage\"               \n",
       "[29] \"Heart_Left_Ventricle\"                 \n",
       "[30] \"Kidney_Cortex\"                        \n",
       "[31] \"Liver\"                                \n",
       "[32] \"Lung\"                                 \n",
       "[33] \"Minor_Salivary_Gland\"                 \n",
       "[34] \"Muscle_Skeletal\"                      \n",
       "[35] \"Nerve_Tibial\"                         \n",
       "[36] \"Ovary\"                                \n",
       "[37] \"Pancreas\"                             \n",
       "[38] \"Pituitary\"                            \n",
       "[39] \"Prostate\"                             \n",
       "[40] \"Skin_Not_Sun_Exposed_Suprapubic\"      \n",
       "[41] \"Skin_Sun_Exposed_Lower_leg\"           \n",
       "[42] \"Small_Intestine_Terminal_Ileum\"       \n",
       "[43] \"Spleen\"                               \n",
       "[44] \"Stomach\"                              \n",
       "[45] \"Testis\"                               \n",
       "[46] \"Thyroid\"                              \n",
       "[47] \"Uterus\"                               \n",
       "[48] \"Vagina\"                               \n",
       "[49] \"Whole_Blood\"                          "
      ]
     },
     "metadata": {},
     "output_type": "display_data"
    }
   ],
   "source": [
    "tissue_cov <- as.character(sapply(tissue_cov, extract_tissue))\n",
    "tissue_cov"
   ]
  },
  {
   "cell_type": "code",
   "execution_count": null,
   "metadata": {},
   "outputs": [],
   "source": []
  },
  {
   "cell_type": "code",
   "execution_count": 19,
   "metadata": {},
   "outputs": [],
   "source": [
    "tissue_idx <- function(tissue_vec, big_tissue_vec) {\n",
    "    idx_list <- list()\n",
    "    for (tissue in tissue_vec) {\n",
    "        idx_list[[tissue]] <- sample_annotation$SAMPID[which(big_tissue_vec == tissue)]\n",
    "    }\n",
    "    return(idx_list)\n",
    "}\n",
    "\n",
    "idx_list <- tissue_idx(tissue_vec, sample_annotation$SMTSD)"
   ]
  },
  {
   "cell_type": "code",
   "execution_count": 21,
   "metadata": {},
   "outputs": [
    {
     "data": {
      "text/html": [
       "3288"
      ],
      "text/latex": [
       "3288"
      ],
      "text/markdown": [
       "3288"
      ],
      "text/plain": [
       "[1] 3288"
      ]
     },
     "metadata": {},
     "output_type": "display_data"
    }
   ],
   "source": [
    "length(idx_list[[tissue_vec[1]]])"
   ]
  },
  {
   "cell_type": "code",
   "execution_count": 22,
   "metadata": {},
   "outputs": [
    {
     "data": {
      "text/html": [
       "425"
      ],
      "text/latex": [
       "425"
      ],
      "text/markdown": [
       "425"
      ],
      "text/plain": [
       "[1] 425"
      ]
     },
     "metadata": {},
     "output_type": "display_data"
    }
   ],
   "source": [
    "length(idx_list[[tissue_vec[2]]])"
   ]
  },
  {
   "cell_type": "code",
   "execution_count": 23,
   "metadata": {},
   "outputs": [
    {
     "data": {
      "text/html": [
       "763"
      ],
      "text/latex": [
       "763"
      ],
      "text/markdown": [
       "763"
      ],
      "text/plain": [
       "[1] 763"
      ]
     },
     "metadata": {},
     "output_type": "display_data"
    }
   ],
   "source": [
    "length(idx_list[[tissue_vec[3]]])"
   ]
  },
  {
   "cell_type": "code",
   "execution_count": 76,
   "metadata": {},
   "outputs": [
    {
     "data": {
      "text/html": [
       "<ol class=list-inline>\n",
       "\t<li>'Whole Blood'</li>\n",
       "\t<li>'Brain - Frontal Cortex (BA9)'</li>\n",
       "\t<li>'Adipose - Subcutaneous'</li>\n",
       "\t<li>'Muscle - Skeletal'</li>\n",
       "\t<li>'Artery - Tibial'</li>\n",
       "\t<li>'Artery - Coronary'</li>\n",
       "\t<li>'Heart - Atrial Appendage'</li>\n",
       "\t<li>'Adipose - Visceral (Omentum)'</li>\n",
       "\t<li>'Ovary'</li>\n",
       "\t<li>'Uterus'</li>\n",
       "\t<li>'Vagina'</li>\n",
       "\t<li>'Breast - Mammary Tissue'</li>\n",
       "\t<li>'Skin - Not Sun Exposed (Suprapubic)'</li>\n",
       "\t<li>'Minor Salivary Gland'</li>\n",
       "\t<li>'Brain - Cortex'</li>\n",
       "\t<li>'Adrenal Gland'</li>\n",
       "\t<li>'Thyroid'</li>\n",
       "\t<li>'Lung'</li>\n",
       "\t<li>'Spleen'</li>\n",
       "\t<li>'Pancreas'</li>\n",
       "\t<li>'Esophagus - Muscularis'</li>\n",
       "\t<li>'Esophagus - Mucosa'</li>\n",
       "\t<li>'Esophagus - Gastroesophageal Junction'</li>\n",
       "\t<li>'Stomach'</li>\n",
       "\t<li>'Colon - Sigmoid'</li>\n",
       "\t<li>'Small Intestine - Terminal Ileum'</li>\n",
       "\t<li>'Colon - Transverse'</li>\n",
       "\t<li>'Prostate'</li>\n",
       "\t<li>'Testis'</li>\n",
       "\t<li>'Skin - Sun Exposed (Lower leg)'</li>\n",
       "\t<li>'Nerve - Tibial'</li>\n",
       "\t<li>'Heart - Left Ventricle'</li>\n",
       "\t<li>'Pituitary'</li>\n",
       "\t<li>'Brain - Cerebellum'</li>\n",
       "\t<li>'Cells - Cultured fibroblasts'</li>\n",
       "\t<li>'Artery - Aorta'</li>\n",
       "\t<li>'Cells - EBV-transformed lymphocytes'</li>\n",
       "\t<li>'Brain - Cerebellar Hemisphere'</li>\n",
       "\t<li>'Brain - Caudate (basal ganglia)'</li>\n",
       "\t<li>'Brain - Nucleus accumbens (basal ganglia)'</li>\n",
       "\t<li>'Brain - Putamen (basal ganglia)'</li>\n",
       "\t<li>'Brain - Hypothalamus'</li>\n",
       "\t<li>'Brain - Spinal cord (cervical c-1)'</li>\n",
       "\t<li>'Liver'</li>\n",
       "\t<li>'Brain - Hippocampus'</li>\n",
       "\t<li>'Brain - Anterior cingulate cortex (BA24)'</li>\n",
       "\t<li>'Brain - Substantia nigra'</li>\n",
       "\t<li>'Kidney - Cortex'</li>\n",
       "\t<li>'Brain - Amygdala'</li>\n",
       "\t<li>'Cervix - Ectocervix'</li>\n",
       "\t<li>'Fallopian Tube'</li>\n",
       "\t<li>'Cervix - Endocervix'</li>\n",
       "\t<li>'Bladder'</li>\n",
       "\t<li>'Kidney - Medulla'</li>\n",
       "\t<li>'Cells - Leukemia cell line (CML)'</li>\n",
       "</ol>\n"
      ],
      "text/latex": [
       "\\begin{enumerate*}\n",
       "\\item 'Whole Blood'\n",
       "\\item 'Brain - Frontal Cortex (BA9)'\n",
       "\\item 'Adipose - Subcutaneous'\n",
       "\\item 'Muscle - Skeletal'\n",
       "\\item 'Artery - Tibial'\n",
       "\\item 'Artery - Coronary'\n",
       "\\item 'Heart - Atrial Appendage'\n",
       "\\item 'Adipose - Visceral (Omentum)'\n",
       "\\item 'Ovary'\n",
       "\\item 'Uterus'\n",
       "\\item 'Vagina'\n",
       "\\item 'Breast - Mammary Tissue'\n",
       "\\item 'Skin - Not Sun Exposed (Suprapubic)'\n",
       "\\item 'Minor Salivary Gland'\n",
       "\\item 'Brain - Cortex'\n",
       "\\item 'Adrenal Gland'\n",
       "\\item 'Thyroid'\n",
       "\\item 'Lung'\n",
       "\\item 'Spleen'\n",
       "\\item 'Pancreas'\n",
       "\\item 'Esophagus - Muscularis'\n",
       "\\item 'Esophagus - Mucosa'\n",
       "\\item 'Esophagus - Gastroesophageal Junction'\n",
       "\\item 'Stomach'\n",
       "\\item 'Colon - Sigmoid'\n",
       "\\item 'Small Intestine - Terminal Ileum'\n",
       "\\item 'Colon - Transverse'\n",
       "\\item 'Prostate'\n",
       "\\item 'Testis'\n",
       "\\item 'Skin - Sun Exposed (Lower leg)'\n",
       "\\item 'Nerve - Tibial'\n",
       "\\item 'Heart - Left Ventricle'\n",
       "\\item 'Pituitary'\n",
       "\\item 'Brain - Cerebellum'\n",
       "\\item 'Cells - Cultured fibroblasts'\n",
       "\\item 'Artery - Aorta'\n",
       "\\item 'Cells - EBV-transformed lymphocytes'\n",
       "\\item 'Brain - Cerebellar Hemisphere'\n",
       "\\item 'Brain - Caudate (basal ganglia)'\n",
       "\\item 'Brain - Nucleus accumbens (basal ganglia)'\n",
       "\\item 'Brain - Putamen (basal ganglia)'\n",
       "\\item 'Brain - Hypothalamus'\n",
       "\\item 'Brain - Spinal cord (cervical c-1)'\n",
       "\\item 'Liver'\n",
       "\\item 'Brain - Hippocampus'\n",
       "\\item 'Brain - Anterior cingulate cortex (BA24)'\n",
       "\\item 'Brain - Substantia nigra'\n",
       "\\item 'Kidney - Cortex'\n",
       "\\item 'Brain - Amygdala'\n",
       "\\item 'Cervix - Ectocervix'\n",
       "\\item 'Fallopian Tube'\n",
       "\\item 'Cervix - Endocervix'\n",
       "\\item 'Bladder'\n",
       "\\item 'Kidney - Medulla'\n",
       "\\item 'Cells - Leukemia cell line (CML)'\n",
       "\\end{enumerate*}\n"
      ],
      "text/markdown": [
       "1. 'Whole Blood'\n",
       "2. 'Brain - Frontal Cortex (BA9)'\n",
       "3. 'Adipose - Subcutaneous'\n",
       "4. 'Muscle - Skeletal'\n",
       "5. 'Artery - Tibial'\n",
       "6. 'Artery - Coronary'\n",
       "7. 'Heart - Atrial Appendage'\n",
       "8. 'Adipose - Visceral (Omentum)'\n",
       "9. 'Ovary'\n",
       "10. 'Uterus'\n",
       "11. 'Vagina'\n",
       "12. 'Breast - Mammary Tissue'\n",
       "13. 'Skin - Not Sun Exposed (Suprapubic)'\n",
       "14. 'Minor Salivary Gland'\n",
       "15. 'Brain - Cortex'\n",
       "16. 'Adrenal Gland'\n",
       "17. 'Thyroid'\n",
       "18. 'Lung'\n",
       "19. 'Spleen'\n",
       "20. 'Pancreas'\n",
       "21. 'Esophagus - Muscularis'\n",
       "22. 'Esophagus - Mucosa'\n",
       "23. 'Esophagus - Gastroesophageal Junction'\n",
       "24. 'Stomach'\n",
       "25. 'Colon - Sigmoid'\n",
       "26. 'Small Intestine - Terminal Ileum'\n",
       "27. 'Colon - Transverse'\n",
       "28. 'Prostate'\n",
       "29. 'Testis'\n",
       "30. 'Skin - Sun Exposed (Lower leg)'\n",
       "31. 'Nerve - Tibial'\n",
       "32. 'Heart - Left Ventricle'\n",
       "33. 'Pituitary'\n",
       "34. 'Brain - Cerebellum'\n",
       "35. 'Cells - Cultured fibroblasts'\n",
       "36. 'Artery - Aorta'\n",
       "37. 'Cells - EBV-transformed lymphocytes'\n",
       "38. 'Brain - Cerebellar Hemisphere'\n",
       "39. 'Brain - Caudate (basal ganglia)'\n",
       "40. 'Brain - Nucleus accumbens (basal ganglia)'\n",
       "41. 'Brain - Putamen (basal ganglia)'\n",
       "42. 'Brain - Hypothalamus'\n",
       "43. 'Brain - Spinal cord (cervical c-1)'\n",
       "44. 'Liver'\n",
       "45. 'Brain - Hippocampus'\n",
       "46. 'Brain - Anterior cingulate cortex (BA24)'\n",
       "47. 'Brain - Substantia nigra'\n",
       "48. 'Kidney - Cortex'\n",
       "49. 'Brain - Amygdala'\n",
       "50. 'Cervix - Ectocervix'\n",
       "51. 'Fallopian Tube'\n",
       "52. 'Cervix - Endocervix'\n",
       "53. 'Bladder'\n",
       "54. 'Kidney - Medulla'\n",
       "55. 'Cells - Leukemia cell line (CML)'\n",
       "\n",
       "\n"
      ],
      "text/plain": [
       " [1] \"Whole Blood\"                              \n",
       " [2] \"Brain - Frontal Cortex (BA9)\"             \n",
       " [3] \"Adipose - Subcutaneous\"                   \n",
       " [4] \"Muscle - Skeletal\"                        \n",
       " [5] \"Artery - Tibial\"                          \n",
       " [6] \"Artery - Coronary\"                        \n",
       " [7] \"Heart - Atrial Appendage\"                 \n",
       " [8] \"Adipose - Visceral (Omentum)\"             \n",
       " [9] \"Ovary\"                                    \n",
       "[10] \"Uterus\"                                   \n",
       "[11] \"Vagina\"                                   \n",
       "[12] \"Breast - Mammary Tissue\"                  \n",
       "[13] \"Skin - Not Sun Exposed (Suprapubic)\"      \n",
       "[14] \"Minor Salivary Gland\"                     \n",
       "[15] \"Brain - Cortex\"                           \n",
       "[16] \"Adrenal Gland\"                            \n",
       "[17] \"Thyroid\"                                  \n",
       "[18] \"Lung\"                                     \n",
       "[19] \"Spleen\"                                   \n",
       "[20] \"Pancreas\"                                 \n",
       "[21] \"Esophagus - Muscularis\"                   \n",
       "[22] \"Esophagus - Mucosa\"                       \n",
       "[23] \"Esophagus - Gastroesophageal Junction\"    \n",
       "[24] \"Stomach\"                                  \n",
       "[25] \"Colon - Sigmoid\"                          \n",
       "[26] \"Small Intestine - Terminal Ileum\"         \n",
       "[27] \"Colon - Transverse\"                       \n",
       "[28] \"Prostate\"                                 \n",
       "[29] \"Testis\"                                   \n",
       "[30] \"Skin - Sun Exposed (Lower leg)\"           \n",
       "[31] \"Nerve - Tibial\"                           \n",
       "[32] \"Heart - Left Ventricle\"                   \n",
       "[33] \"Pituitary\"                                \n",
       "[34] \"Brain - Cerebellum\"                       \n",
       "[35] \"Cells - Cultured fibroblasts\"             \n",
       "[36] \"Artery - Aorta\"                           \n",
       "[37] \"Cells - EBV-transformed lymphocytes\"      \n",
       "[38] \"Brain - Cerebellar Hemisphere\"            \n",
       "[39] \"Brain - Caudate (basal ganglia)\"          \n",
       "[40] \"Brain - Nucleus accumbens (basal ganglia)\"\n",
       "[41] \"Brain - Putamen (basal ganglia)\"          \n",
       "[42] \"Brain - Hypothalamus\"                     \n",
       "[43] \"Brain - Spinal cord (cervical c-1)\"       \n",
       "[44] \"Liver\"                                    \n",
       "[45] \"Brain - Hippocampus\"                      \n",
       "[46] \"Brain - Anterior cingulate cortex (BA24)\" \n",
       "[47] \"Brain - Substantia nigra\"                 \n",
       "[48] \"Kidney - Cortex\"                          \n",
       "[49] \"Brain - Amygdala\"                         \n",
       "[50] \"Cervix - Ectocervix\"                      \n",
       "[51] \"Fallopian Tube\"                           \n",
       "[52] \"Cervix - Endocervix\"                      \n",
       "[53] \"Bladder\"                                  \n",
       "[54] \"Kidney - Medulla\"                         \n",
       "[55] \"Cells - Leukemia cell line (CML)\"         "
      ]
     },
     "metadata": {},
     "output_type": "display_data"
    }
   ],
   "source": [
    "#idx_list\n",
    "names(idx_list)"
   ]
  },
  {
   "cell_type": "code",
   "execution_count": null,
   "metadata": {},
   "outputs": [],
   "source": []
  },
  {
   "cell_type": "code",
   "execution_count": 25,
   "metadata": {},
   "outputs": [
    {
     "data": {
      "text/html": [
       "<ol class=list-inline>\n",
       "\t<li>3288</li>\n",
       "\t<li>425</li>\n",
       "\t<li>763</li>\n",
       "\t<li>1132</li>\n",
       "\t<li>770</li>\n",
       "\t<li>253</li>\n",
       "\t<li>452</li>\n",
       "\t<li>564</li>\n",
       "\t<li>195</li>\n",
       "\t<li>166</li>\n",
       "\t<li>173</li>\n",
       "\t<li>480</li>\n",
       "\t<li>638</li>\n",
       "\t<li>181</li>\n",
       "\t<li>325</li>\n",
       "\t<li>275</li>\n",
       "\t<li>812</li>\n",
       "\t<li>867</li>\n",
       "\t<li>260</li>\n",
       "\t<li>360</li>\n",
       "\t<li>559</li>\n",
       "\t<li>622</li>\n",
       "\t<li>401</li>\n",
       "\t<li>381</li>\n",
       "\t<li>389</li>\n",
       "\t<li>193</li>\n",
       "\t<li>432</li>\n",
       "\t<li>262</li>\n",
       "\t<li>406</li>\n",
       "\t<li>849</li>\n",
       "\t<li>722</li>\n",
       "\t<li>689</li>\n",
       "\t<li>301</li>\n",
       "\t<li>298</li>\n",
       "\t<li>527</li>\n",
       "\t<li>450</li>\n",
       "\t<li>192</li>\n",
       "\t<li>263</li>\n",
       "\t<li>291</li>\n",
       "\t<li>277</li>\n",
       "\t<li>232</li>\n",
       "\t<li>236</li>\n",
       "\t<li>182</li>\n",
       "\t<li>251</li>\n",
       "\t<li>243</li>\n",
       "\t<li>213</li>\n",
       "\t<li>164</li>\n",
       "\t<li>100</li>\n",
       "\t<li>177</li>\n",
       "\t<li>9</li>\n",
       "\t<li>9</li>\n",
       "\t<li>10</li>\n",
       "\t<li>21</li>\n",
       "\t<li>4</li>\n",
       "\t<li>217</li>\n",
       "</ol>\n"
      ],
      "text/latex": [
       "\\begin{enumerate*}\n",
       "\\item 3288\n",
       "\\item 425\n",
       "\\item 763\n",
       "\\item 1132\n",
       "\\item 770\n",
       "\\item 253\n",
       "\\item 452\n",
       "\\item 564\n",
       "\\item 195\n",
       "\\item 166\n",
       "\\item 173\n",
       "\\item 480\n",
       "\\item 638\n",
       "\\item 181\n",
       "\\item 325\n",
       "\\item 275\n",
       "\\item 812\n",
       "\\item 867\n",
       "\\item 260\n",
       "\\item 360\n",
       "\\item 559\n",
       "\\item 622\n",
       "\\item 401\n",
       "\\item 381\n",
       "\\item 389\n",
       "\\item 193\n",
       "\\item 432\n",
       "\\item 262\n",
       "\\item 406\n",
       "\\item 849\n",
       "\\item 722\n",
       "\\item 689\n",
       "\\item 301\n",
       "\\item 298\n",
       "\\item 527\n",
       "\\item 450\n",
       "\\item 192\n",
       "\\item 263\n",
       "\\item 291\n",
       "\\item 277\n",
       "\\item 232\n",
       "\\item 236\n",
       "\\item 182\n",
       "\\item 251\n",
       "\\item 243\n",
       "\\item 213\n",
       "\\item 164\n",
       "\\item 100\n",
       "\\item 177\n",
       "\\item 9\n",
       "\\item 9\n",
       "\\item 10\n",
       "\\item 21\n",
       "\\item 4\n",
       "\\item 217\n",
       "\\end{enumerate*}\n"
      ],
      "text/markdown": [
       "1. 3288\n",
       "2. 425\n",
       "3. 763\n",
       "4. 1132\n",
       "5. 770\n",
       "6. 253\n",
       "7. 452\n",
       "8. 564\n",
       "9. 195\n",
       "10. 166\n",
       "11. 173\n",
       "12. 480\n",
       "13. 638\n",
       "14. 181\n",
       "15. 325\n",
       "16. 275\n",
       "17. 812\n",
       "18. 867\n",
       "19. 260\n",
       "20. 360\n",
       "21. 559\n",
       "22. 622\n",
       "23. 401\n",
       "24. 381\n",
       "25. 389\n",
       "26. 193\n",
       "27. 432\n",
       "28. 262\n",
       "29. 406\n",
       "30. 849\n",
       "31. 722\n",
       "32. 689\n",
       "33. 301\n",
       "34. 298\n",
       "35. 527\n",
       "36. 450\n",
       "37. 192\n",
       "38. 263\n",
       "39. 291\n",
       "40. 277\n",
       "41. 232\n",
       "42. 236\n",
       "43. 182\n",
       "44. 251\n",
       "45. 243\n",
       "46. 213\n",
       "47. 164\n",
       "48. 100\n",
       "49. 177\n",
       "50. 9\n",
       "51. 9\n",
       "52. 10\n",
       "53. 21\n",
       "54. 4\n",
       "55. 217\n",
       "\n",
       "\n"
      ],
      "text/plain": [
       " [1] 3288  425  763 1132  770  253  452  564  195  166  173  480  638  181  325\n",
       "[16]  275  812  867  260  360  559  622  401  381  389  193  432  262  406  849\n",
       "[31]  722  689  301  298  527  450  192  263  291  277  232  236  182  251  243\n",
       "[46]  213  164  100  177    9    9   10   21    4  217"
      ]
     },
     "metadata": {},
     "output_type": "display_data"
    }
   ],
   "source": [
    "as.numeric(lapply(idx_list, length))"
   ]
  },
  {
   "cell_type": "code",
   "execution_count": 26,
   "metadata": {},
   "outputs": [
    {
     "data": {
      "text/html": [
       "<table>\n",
       "<caption>A data.frame: 55 × 2</caption>\n",
       "<thead>\n",
       "\t<tr><th scope=col>tissue</th><th scope=col>sample_size</th></tr>\n",
       "\t<tr><th scope=col>&lt;chr&gt;</th><th scope=col>&lt;dbl&gt;</th></tr>\n",
       "</thead>\n",
       "<tbody>\n",
       "\t<tr><td>Whole Blood                              </td><td>3288</td></tr>\n",
       "\t<tr><td>Brain - Frontal Cortex (BA9)             </td><td> 425</td></tr>\n",
       "\t<tr><td>Adipose - Subcutaneous                   </td><td> 763</td></tr>\n",
       "\t<tr><td>Muscle - Skeletal                        </td><td>1132</td></tr>\n",
       "\t<tr><td>Artery - Tibial                          </td><td> 770</td></tr>\n",
       "\t<tr><td>Artery - Coronary                        </td><td> 253</td></tr>\n",
       "\t<tr><td>Heart - Atrial Appendage                 </td><td> 452</td></tr>\n",
       "\t<tr><td>Adipose - Visceral (Omentum)             </td><td> 564</td></tr>\n",
       "\t<tr><td>Ovary                                    </td><td> 195</td></tr>\n",
       "\t<tr><td>Uterus                                   </td><td> 166</td></tr>\n",
       "\t<tr><td>Vagina                                   </td><td> 173</td></tr>\n",
       "\t<tr><td>Breast - Mammary Tissue                  </td><td> 480</td></tr>\n",
       "\t<tr><td>Skin - Not Sun Exposed (Suprapubic)      </td><td> 638</td></tr>\n",
       "\t<tr><td>Minor Salivary Gland                     </td><td> 181</td></tr>\n",
       "\t<tr><td>Brain - Cortex                           </td><td> 325</td></tr>\n",
       "\t<tr><td>Adrenal Gland                            </td><td> 275</td></tr>\n",
       "\t<tr><td>Thyroid                                  </td><td> 812</td></tr>\n",
       "\t<tr><td>Lung                                     </td><td> 867</td></tr>\n",
       "\t<tr><td>Spleen                                   </td><td> 260</td></tr>\n",
       "\t<tr><td>Pancreas                                 </td><td> 360</td></tr>\n",
       "\t<tr><td>Esophagus - Muscularis                   </td><td> 559</td></tr>\n",
       "\t<tr><td>Esophagus - Mucosa                       </td><td> 622</td></tr>\n",
       "\t<tr><td>Esophagus - Gastroesophageal Junction    </td><td> 401</td></tr>\n",
       "\t<tr><td>Stomach                                  </td><td> 381</td></tr>\n",
       "\t<tr><td>Colon - Sigmoid                          </td><td> 389</td></tr>\n",
       "\t<tr><td>Small Intestine - Terminal Ileum         </td><td> 193</td></tr>\n",
       "\t<tr><td>Colon - Transverse                       </td><td> 432</td></tr>\n",
       "\t<tr><td>Prostate                                 </td><td> 262</td></tr>\n",
       "\t<tr><td>Testis                                   </td><td> 406</td></tr>\n",
       "\t<tr><td>Skin - Sun Exposed (Lower leg)           </td><td> 849</td></tr>\n",
       "\t<tr><td>Nerve - Tibial                           </td><td> 722</td></tr>\n",
       "\t<tr><td>Heart - Left Ventricle                   </td><td> 689</td></tr>\n",
       "\t<tr><td>Pituitary                                </td><td> 301</td></tr>\n",
       "\t<tr><td>Brain - Cerebellum                       </td><td> 298</td></tr>\n",
       "\t<tr><td>Cells - Cultured fibroblasts             </td><td> 527</td></tr>\n",
       "\t<tr><td>Artery - Aorta                           </td><td> 450</td></tr>\n",
       "\t<tr><td>Cells - EBV-transformed lymphocytes      </td><td> 192</td></tr>\n",
       "\t<tr><td>Brain - Cerebellar Hemisphere            </td><td> 263</td></tr>\n",
       "\t<tr><td>Brain - Caudate (basal ganglia)          </td><td> 291</td></tr>\n",
       "\t<tr><td>Brain - Nucleus accumbens (basal ganglia)</td><td> 277</td></tr>\n",
       "\t<tr><td>Brain - Putamen (basal ganglia)          </td><td> 232</td></tr>\n",
       "\t<tr><td>Brain - Hypothalamus                     </td><td> 236</td></tr>\n",
       "\t<tr><td>Brain - Spinal cord (cervical c-1)       </td><td> 182</td></tr>\n",
       "\t<tr><td>Liver                                    </td><td> 251</td></tr>\n",
       "\t<tr><td>Brain - Hippocampus                      </td><td> 243</td></tr>\n",
       "\t<tr><td>Brain - Anterior cingulate cortex (BA24) </td><td> 213</td></tr>\n",
       "\t<tr><td>Brain - Substantia nigra                 </td><td> 164</td></tr>\n",
       "\t<tr><td>Kidney - Cortex                          </td><td> 100</td></tr>\n",
       "\t<tr><td>Brain - Amygdala                         </td><td> 177</td></tr>\n",
       "\t<tr><td>Cervix - Ectocervix                      </td><td>   9</td></tr>\n",
       "\t<tr><td>Fallopian Tube                           </td><td>   9</td></tr>\n",
       "\t<tr><td>Cervix - Endocervix                      </td><td>  10</td></tr>\n",
       "\t<tr><td>Bladder                                  </td><td>  21</td></tr>\n",
       "\t<tr><td>Kidney - Medulla                         </td><td>   4</td></tr>\n",
       "\t<tr><td>Cells - Leukemia cell line (CML)         </td><td> 217</td></tr>\n",
       "</tbody>\n",
       "</table>\n"
      ],
      "text/latex": [
       "A data.frame: 55 × 2\n",
       "\\begin{tabular}{r|ll}\n",
       " tissue & sample\\_size\\\\\n",
       " <chr> & <dbl>\\\\\n",
       "\\hline\n",
       "\t Whole Blood                               & 3288\\\\\n",
       "\t Brain - Frontal Cortex (BA9)              &  425\\\\\n",
       "\t Adipose - Subcutaneous                    &  763\\\\\n",
       "\t Muscle - Skeletal                         & 1132\\\\\n",
       "\t Artery - Tibial                           &  770\\\\\n",
       "\t Artery - Coronary                         &  253\\\\\n",
       "\t Heart - Atrial Appendage                  &  452\\\\\n",
       "\t Adipose - Visceral (Omentum)              &  564\\\\\n",
       "\t Ovary                                     &  195\\\\\n",
       "\t Uterus                                    &  166\\\\\n",
       "\t Vagina                                    &  173\\\\\n",
       "\t Breast - Mammary Tissue                   &  480\\\\\n",
       "\t Skin - Not Sun Exposed (Suprapubic)       &  638\\\\\n",
       "\t Minor Salivary Gland                      &  181\\\\\n",
       "\t Brain - Cortex                            &  325\\\\\n",
       "\t Adrenal Gland                             &  275\\\\\n",
       "\t Thyroid                                   &  812\\\\\n",
       "\t Lung                                      &  867\\\\\n",
       "\t Spleen                                    &  260\\\\\n",
       "\t Pancreas                                  &  360\\\\\n",
       "\t Esophagus - Muscularis                    &  559\\\\\n",
       "\t Esophagus - Mucosa                        &  622\\\\\n",
       "\t Esophagus - Gastroesophageal Junction     &  401\\\\\n",
       "\t Stomach                                   &  381\\\\\n",
       "\t Colon - Sigmoid                           &  389\\\\\n",
       "\t Small Intestine - Terminal Ileum          &  193\\\\\n",
       "\t Colon - Transverse                        &  432\\\\\n",
       "\t Prostate                                  &  262\\\\\n",
       "\t Testis                                    &  406\\\\\n",
       "\t Skin - Sun Exposed (Lower leg)            &  849\\\\\n",
       "\t Nerve - Tibial                            &  722\\\\\n",
       "\t Heart - Left Ventricle                    &  689\\\\\n",
       "\t Pituitary                                 &  301\\\\\n",
       "\t Brain - Cerebellum                        &  298\\\\\n",
       "\t Cells - Cultured fibroblasts              &  527\\\\\n",
       "\t Artery - Aorta                            &  450\\\\\n",
       "\t Cells - EBV-transformed lymphocytes       &  192\\\\\n",
       "\t Brain - Cerebellar Hemisphere             &  263\\\\\n",
       "\t Brain - Caudate (basal ganglia)           &  291\\\\\n",
       "\t Brain - Nucleus accumbens (basal ganglia) &  277\\\\\n",
       "\t Brain - Putamen (basal ganglia)           &  232\\\\\n",
       "\t Brain - Hypothalamus                      &  236\\\\\n",
       "\t Brain - Spinal cord (cervical c-1)        &  182\\\\\n",
       "\t Liver                                     &  251\\\\\n",
       "\t Brain - Hippocampus                       &  243\\\\\n",
       "\t Brain - Anterior cingulate cortex (BA24)  &  213\\\\\n",
       "\t Brain - Substantia nigra                  &  164\\\\\n",
       "\t Kidney - Cortex                           &  100\\\\\n",
       "\t Brain - Amygdala                          &  177\\\\\n",
       "\t Cervix - Ectocervix                       &    9\\\\\n",
       "\t Fallopian Tube                            &    9\\\\\n",
       "\t Cervix - Endocervix                       &   10\\\\\n",
       "\t Bladder                                   &   21\\\\\n",
       "\t Kidney - Medulla                          &    4\\\\\n",
       "\t Cells - Leukemia cell line (CML)          &  217\\\\\n",
       "\\end{tabular}\n"
      ],
      "text/markdown": [
       "\n",
       "A data.frame: 55 × 2\n",
       "\n",
       "| tissue &lt;chr&gt; | sample_size &lt;dbl&gt; |\n",
       "|---|---|\n",
       "| Whole Blood                               | 3288 |\n",
       "| Brain - Frontal Cortex (BA9)              |  425 |\n",
       "| Adipose - Subcutaneous                    |  763 |\n",
       "| Muscle - Skeletal                         | 1132 |\n",
       "| Artery - Tibial                           |  770 |\n",
       "| Artery - Coronary                         |  253 |\n",
       "| Heart - Atrial Appendage                  |  452 |\n",
       "| Adipose - Visceral (Omentum)              |  564 |\n",
       "| Ovary                                     |  195 |\n",
       "| Uterus                                    |  166 |\n",
       "| Vagina                                    |  173 |\n",
       "| Breast - Mammary Tissue                   |  480 |\n",
       "| Skin - Not Sun Exposed (Suprapubic)       |  638 |\n",
       "| Minor Salivary Gland                      |  181 |\n",
       "| Brain - Cortex                            |  325 |\n",
       "| Adrenal Gland                             |  275 |\n",
       "| Thyroid                                   |  812 |\n",
       "| Lung                                      |  867 |\n",
       "| Spleen                                    |  260 |\n",
       "| Pancreas                                  |  360 |\n",
       "| Esophagus - Muscularis                    |  559 |\n",
       "| Esophagus - Mucosa                        |  622 |\n",
       "| Esophagus - Gastroesophageal Junction     |  401 |\n",
       "| Stomach                                   |  381 |\n",
       "| Colon - Sigmoid                           |  389 |\n",
       "| Small Intestine - Terminal Ileum          |  193 |\n",
       "| Colon - Transverse                        |  432 |\n",
       "| Prostate                                  |  262 |\n",
       "| Testis                                    |  406 |\n",
       "| Skin - Sun Exposed (Lower leg)            |  849 |\n",
       "| Nerve - Tibial                            |  722 |\n",
       "| Heart - Left Ventricle                    |  689 |\n",
       "| Pituitary                                 |  301 |\n",
       "| Brain - Cerebellum                        |  298 |\n",
       "| Cells - Cultured fibroblasts              |  527 |\n",
       "| Artery - Aorta                            |  450 |\n",
       "| Cells - EBV-transformed lymphocytes       |  192 |\n",
       "| Brain - Cerebellar Hemisphere             |  263 |\n",
       "| Brain - Caudate (basal ganglia)           |  291 |\n",
       "| Brain - Nucleus accumbens (basal ganglia) |  277 |\n",
       "| Brain - Putamen (basal ganglia)           |  232 |\n",
       "| Brain - Hypothalamus                      |  236 |\n",
       "| Brain - Spinal cord (cervical c-1)        |  182 |\n",
       "| Liver                                     |  251 |\n",
       "| Brain - Hippocampus                       |  243 |\n",
       "| Brain - Anterior cingulate cortex (BA24)  |  213 |\n",
       "| Brain - Substantia nigra                  |  164 |\n",
       "| Kidney - Cortex                           |  100 |\n",
       "| Brain - Amygdala                          |  177 |\n",
       "| Cervix - Ectocervix                       |    9 |\n",
       "| Fallopian Tube                            |    9 |\n",
       "| Cervix - Endocervix                       |   10 |\n",
       "| Bladder                                   |   21 |\n",
       "| Kidney - Medulla                          |    4 |\n",
       "| Cells - Leukemia cell line (CML)          |  217 |\n",
       "\n"
      ],
      "text/plain": [
       "   tissue                                    sample_size\n",
       "1  Whole Blood                               3288       \n",
       "2  Brain - Frontal Cortex (BA9)               425       \n",
       "3  Adipose - Subcutaneous                     763       \n",
       "4  Muscle - Skeletal                         1132       \n",
       "5  Artery - Tibial                            770       \n",
       "6  Artery - Coronary                          253       \n",
       "7  Heart - Atrial Appendage                   452       \n",
       "8  Adipose - Visceral (Omentum)               564       \n",
       "9  Ovary                                      195       \n",
       "10 Uterus                                     166       \n",
       "11 Vagina                                     173       \n",
       "12 Breast - Mammary Tissue                    480       \n",
       "13 Skin - Not Sun Exposed (Suprapubic)        638       \n",
       "14 Minor Salivary Gland                       181       \n",
       "15 Brain - Cortex                             325       \n",
       "16 Adrenal Gland                              275       \n",
       "17 Thyroid                                    812       \n",
       "18 Lung                                       867       \n",
       "19 Spleen                                     260       \n",
       "20 Pancreas                                   360       \n",
       "21 Esophagus - Muscularis                     559       \n",
       "22 Esophagus - Mucosa                         622       \n",
       "23 Esophagus - Gastroesophageal Junction      401       \n",
       "24 Stomach                                    381       \n",
       "25 Colon - Sigmoid                            389       \n",
       "26 Small Intestine - Terminal Ileum           193       \n",
       "27 Colon - Transverse                         432       \n",
       "28 Prostate                                   262       \n",
       "29 Testis                                     406       \n",
       "30 Skin - Sun Exposed (Lower leg)             849       \n",
       "31 Nerve - Tibial                             722       \n",
       "32 Heart - Left Ventricle                     689       \n",
       "33 Pituitary                                  301       \n",
       "34 Brain - Cerebellum                         298       \n",
       "35 Cells - Cultured fibroblasts               527       \n",
       "36 Artery - Aorta                             450       \n",
       "37 Cells - EBV-transformed lymphocytes        192       \n",
       "38 Brain - Cerebellar Hemisphere              263       \n",
       "39 Brain - Caudate (basal ganglia)            291       \n",
       "40 Brain - Nucleus accumbens (basal ganglia)  277       \n",
       "41 Brain - Putamen (basal ganglia)            232       \n",
       "42 Brain - Hypothalamus                       236       \n",
       "43 Brain - Spinal cord (cervical c-1)         182       \n",
       "44 Liver                                      251       \n",
       "45 Brain - Hippocampus                        243       \n",
       "46 Brain - Anterior cingulate cortex (BA24)   213       \n",
       "47 Brain - Substantia nigra                   164       \n",
       "48 Kidney - Cortex                            100       \n",
       "49 Brain - Amygdala                           177       \n",
       "50 Cervix - Ectocervix                          9       \n",
       "51 Fallopian Tube                               9       \n",
       "52 Cervix - Endocervix                         10       \n",
       "53 Bladder                                     21       \n",
       "54 Kidney - Medulla                             4       \n",
       "55 Cells - Leukemia cell line (CML)           217       "
      ]
     },
     "metadata": {},
     "output_type": "display_data"
    }
   ],
   "source": [
    "sample_count <- data.frame(tissue = names(idx_list), sample_size = as.numeric(lapply(idx_list, length)))\n",
    "sample_count"
   ]
  },
  {
   "cell_type": "code",
   "execution_count": 28,
   "metadata": {},
   "outputs": [],
   "source": [
    "save(sample_count, idx_list, file = \"/ysm-gpfs/pi/zhao/zy92/projects/utmost_update/tissue_idx.RData\")"
   ]
  },
  {
   "cell_type": "code",
   "execution_count": null,
   "metadata": {},
   "outputs": [],
   "source": [
    "### reading expression df"
   ]
  },
  {
   "cell_type": "code",
   "execution_count": null,
   "metadata": {},
   "outputs": [],
   "source": []
  },
  {
   "cell_type": "code",
   "execution_count": 29,
   "metadata": {},
   "outputs": [],
   "source": [
    "expression_df <- fread(\"/ysm-gpfs/pi/zhao-data/zy92/GTEx_V8/GTEx_Analysis_2017-06-05_v8_RNASeQCv1.1.9_gene_tpm.gct\")"
   ]
  },
  {
   "cell_type": "code",
   "execution_count": 30,
   "metadata": {},
   "outputs": [
    {
     "data": {
      "text/html": [
       "<table>\n",
       "<caption>A data.table: 6 × 6</caption>\n",
       "<thead>\n",
       "\t<tr><th scope=col>Name</th><th scope=col>Description</th><th scope=col>GTEX-1117F-0226-SM-5GZZ7</th><th scope=col>GTEX-1117F-0426-SM-5EGHI</th><th scope=col>GTEX-1117F-0526-SM-5EGHJ</th><th scope=col>GTEX-1117F-0626-SM-5N9CS</th></tr>\n",
       "\t<tr><th scope=col>&lt;chr&gt;</th><th scope=col>&lt;chr&gt;</th><th scope=col>&lt;dbl&gt;</th><th scope=col>&lt;dbl&gt;</th><th scope=col>&lt;dbl&gt;</th><th scope=col>&lt;dbl&gt;</th></tr>\n",
       "</thead>\n",
       "<tbody>\n",
       "\t<tr><td>ENSG00000223972.5</td><td>DDX11L1    </td><td>0.00000</td><td>0.000</td><td>0.000</td><td> 0.00000</td></tr>\n",
       "\t<tr><td>ENSG00000227232.5</td><td>WASH7P     </td><td>8.76400</td><td>3.861</td><td>7.349</td><td>11.07000</td></tr>\n",
       "\t<tr><td>ENSG00000278267.1</td><td>MIR6859-1  </td><td>0.00000</td><td>0.000</td><td>1.004</td><td> 0.00000</td></tr>\n",
       "\t<tr><td>ENSG00000243485.5</td><td>MIR1302-2HG</td><td>0.07187</td><td>0.000</td><td>0.000</td><td> 0.06761</td></tr>\n",
       "\t<tr><td>ENSG00000237613.2</td><td>FAM138A    </td><td>0.00000</td><td>0.000</td><td>0.000</td><td> 0.00000</td></tr>\n",
       "\t<tr><td>ENSG00000268020.3</td><td>OR4G4P     </td><td>0.00000</td><td>0.056</td><td>0.000</td><td> 0.00000</td></tr>\n",
       "</tbody>\n",
       "</table>\n"
      ],
      "text/latex": [
       "A data.table: 6 × 6\n",
       "\\begin{tabular}{r|llllll}\n",
       " Name & Description & GTEX-1117F-0226-SM-5GZZ7 & GTEX-1117F-0426-SM-5EGHI & GTEX-1117F-0526-SM-5EGHJ & GTEX-1117F-0626-SM-5N9CS\\\\\n",
       " <chr> & <chr> & <dbl> & <dbl> & <dbl> & <dbl>\\\\\n",
       "\\hline\n",
       "\t ENSG00000223972.5 & DDX11L1     & 0.00000 & 0.000 & 0.000 &  0.00000\\\\\n",
       "\t ENSG00000227232.5 & WASH7P      & 8.76400 & 3.861 & 7.349 & 11.07000\\\\\n",
       "\t ENSG00000278267.1 & MIR6859-1   & 0.00000 & 0.000 & 1.004 &  0.00000\\\\\n",
       "\t ENSG00000243485.5 & MIR1302-2HG & 0.07187 & 0.000 & 0.000 &  0.06761\\\\\n",
       "\t ENSG00000237613.2 & FAM138A     & 0.00000 & 0.000 & 0.000 &  0.00000\\\\\n",
       "\t ENSG00000268020.3 & OR4G4P      & 0.00000 & 0.056 & 0.000 &  0.00000\\\\\n",
       "\\end{tabular}\n"
      ],
      "text/markdown": [
       "\n",
       "A data.table: 6 × 6\n",
       "\n",
       "| Name &lt;chr&gt; | Description &lt;chr&gt; | GTEX-1117F-0226-SM-5GZZ7 &lt;dbl&gt; | GTEX-1117F-0426-SM-5EGHI &lt;dbl&gt; | GTEX-1117F-0526-SM-5EGHJ &lt;dbl&gt; | GTEX-1117F-0626-SM-5N9CS &lt;dbl&gt; |\n",
       "|---|---|---|---|---|---|\n",
       "| ENSG00000223972.5 | DDX11L1     | 0.00000 | 0.000 | 0.000 |  0.00000 |\n",
       "| ENSG00000227232.5 | WASH7P      | 8.76400 | 3.861 | 7.349 | 11.07000 |\n",
       "| ENSG00000278267.1 | MIR6859-1   | 0.00000 | 0.000 | 1.004 |  0.00000 |\n",
       "| ENSG00000243485.5 | MIR1302-2HG | 0.07187 | 0.000 | 0.000 |  0.06761 |\n",
       "| ENSG00000237613.2 | FAM138A     | 0.00000 | 0.000 | 0.000 |  0.00000 |\n",
       "| ENSG00000268020.3 | OR4G4P      | 0.00000 | 0.056 | 0.000 |  0.00000 |\n",
       "\n"
      ],
      "text/plain": [
       "  Name              Description GTEX-1117F-0226-SM-5GZZ7\n",
       "1 ENSG00000223972.5 DDX11L1     0.00000                 \n",
       "2 ENSG00000227232.5 WASH7P      8.76400                 \n",
       "3 ENSG00000278267.1 MIR6859-1   0.00000                 \n",
       "4 ENSG00000243485.5 MIR1302-2HG 0.07187                 \n",
       "5 ENSG00000237613.2 FAM138A     0.00000                 \n",
       "6 ENSG00000268020.3 OR4G4P      0.00000                 \n",
       "  GTEX-1117F-0426-SM-5EGHI GTEX-1117F-0526-SM-5EGHJ GTEX-1117F-0626-SM-5N9CS\n",
       "1 0.000                    0.000                     0.00000                \n",
       "2 3.861                    7.349                    11.07000                \n",
       "3 0.000                    1.004                     0.00000                \n",
       "4 0.000                    0.000                     0.06761                \n",
       "5 0.000                    0.000                     0.00000                \n",
       "6 0.056                    0.000                     0.00000                "
      ]
     },
     "metadata": {},
     "output_type": "display_data"
    }
   ],
   "source": [
    "expression_df[1:6, 1:6]"
   ]
  },
  {
   "cell_type": "code",
   "execution_count": 31,
   "metadata": {},
   "outputs": [
    {
     "data": {
      "text/html": [
       "<ol class=list-inline>\n",
       "\t<li>56200</li>\n",
       "\t<li>17384</li>\n",
       "</ol>\n"
      ],
      "text/latex": [
       "\\begin{enumerate*}\n",
       "\\item 56200\n",
       "\\item 17384\n",
       "\\end{enumerate*}\n"
      ],
      "text/markdown": [
       "1. 56200\n",
       "2. 17384\n",
       "\n",
       "\n"
      ],
      "text/plain": [
       "[1] 56200 17384"
      ]
     },
     "metadata": {},
     "output_type": "display_data"
    }
   ],
   "source": [
    "dim(expression_df)"
   ]
  },
  {
   "cell_type": "code",
   "execution_count": 32,
   "metadata": {},
   "outputs": [
    {
     "data": {
      "text/html": [
       "56200"
      ],
      "text/latex": [
       "56200"
      ],
      "text/markdown": [
       "56200"
      ],
      "text/plain": [
       "[1] 56200"
      ]
     },
     "metadata": {},
     "output_type": "display_data"
    }
   ],
   "source": [
    "length(unique(expression_df$Name))"
   ]
  },
  {
   "cell_type": "code",
   "execution_count": 33,
   "metadata": {},
   "outputs": [
    {
     "data": {
      "text/html": [
       "54592"
      ],
      "text/latex": [
       "54592"
      ],
      "text/markdown": [
       "54592"
      ],
      "text/plain": [
       "[1] 54592"
      ]
     },
     "metadata": {},
     "output_type": "display_data"
    }
   ],
   "source": [
    "length(unique(expression_df$Description))"
   ]
  },
  {
   "cell_type": "code",
   "execution_count": 35,
   "metadata": {},
   "outputs": [
    {
     "data": {
      "text/html": [
       "1568"
      ],
      "text/latex": [
       "1568"
      ],
      "text/markdown": [
       "1568"
      ],
      "text/plain": [
       "[1] 1568"
      ]
     },
     "metadata": {},
     "output_type": "display_data"
    }
   ],
   "source": [
    "linc_idx <- sapply(expression_df$Description, function(x) startsWith(x, \"LINC\"))\n",
    "sum(linc_idx)"
   ]
  },
  {
   "cell_type": "code",
   "execution_count": 36,
   "metadata": {},
   "outputs": [],
   "source": [
    "\n",
    "# preprocess\n",
    "gene_vec <- as.character(sapply(expression_df$Name, \n",
    "                                function(x) \n",
    "                                unlist(stringr::str_split(x, pattern = \"\\\\.\"))[1]))"
   ]
  },
  {
   "cell_type": "code",
   "execution_count": 37,
   "metadata": {},
   "outputs": [
    {
     "data": {
      "text/html": [
       "56200"
      ],
      "text/latex": [
       "56200"
      ],
      "text/markdown": [
       "56200"
      ],
      "text/plain": [
       "[1] 56200"
      ]
     },
     "metadata": {},
     "output_type": "display_data"
    },
    {
     "data": {
      "text/html": [
       "<ol class=list-inline>\n",
       "\t<li>'ENSG00000223972'</li>\n",
       "\t<li>'ENSG00000227232'</li>\n",
       "\t<li>'ENSG00000278267'</li>\n",
       "\t<li>'ENSG00000243485'</li>\n",
       "\t<li>'ENSG00000237613'</li>\n",
       "\t<li>'ENSG00000268020'</li>\n",
       "</ol>\n"
      ],
      "text/latex": [
       "\\begin{enumerate*}\n",
       "\\item 'ENSG00000223972'\n",
       "\\item 'ENSG00000227232'\n",
       "\\item 'ENSG00000278267'\n",
       "\\item 'ENSG00000243485'\n",
       "\\item 'ENSG00000237613'\n",
       "\\item 'ENSG00000268020'\n",
       "\\end{enumerate*}\n"
      ],
      "text/markdown": [
       "1. 'ENSG00000223972'\n",
       "2. 'ENSG00000227232'\n",
       "3. 'ENSG00000278267'\n",
       "4. 'ENSG00000243485'\n",
       "5. 'ENSG00000237613'\n",
       "6. 'ENSG00000268020'\n",
       "\n",
       "\n"
      ],
      "text/plain": [
       "[1] \"ENSG00000223972\" \"ENSG00000227232\" \"ENSG00000278267\" \"ENSG00000243485\"\n",
       "[5] \"ENSG00000237613\" \"ENSG00000268020\""
      ]
     },
     "metadata": {},
     "output_type": "display_data"
    }
   ],
   "source": [
    "length(gene_vec)\n",
    "head(gene_vec)"
   ]
  },
  {
   "cell_type": "code",
   "execution_count": 69,
   "metadata": {},
   "outputs": [],
   "source": [
    "# grch37 \n",
    "library(biomaRt)\n",
    "suppressPackageStartupMessages(library(biomaRt))\n",
    "grch37 = useMart(biomart=\"ENSEMBL_MART_ENSEMBL\", host=\"grch37.ensembl.org\", path=\"/biomart/martservice\", dataset=\"hsapiens_gene_ensembl\")\n",
    "gene_info = getBM(filters= \"ensembl_gene_id\", \n",
    "                  attributes= c(\"ensembl_gene_id\",'hgnc_symbol','chromosome_name',\"transcript_biotype\"), \n",
    "                  values= gene_vec, \n",
    "                  mart= grch37)\n",
    "\n",
    "\n",
    "\n"
   ]
  },
  {
   "cell_type": "code",
   "execution_count": 71,
   "metadata": {},
   "outputs": [],
   "source": [
    "save(gene_info, file = \"/ysm-gpfs/pi/zhao/zy92/projects/utmost_update/GTEX/gene_info.RData\")"
   ]
  },
  {
   "cell_type": "code",
   "execution_count": 39,
   "metadata": {},
   "outputs": [
    {
     "data": {
      "text/html": [
       "<ol class=list-inline>\n",
       "\t<li>77941</li>\n",
       "\t<li>4</li>\n",
       "</ol>\n"
      ],
      "text/latex": [
       "\\begin{enumerate*}\n",
       "\\item 77941\n",
       "\\item 4\n",
       "\\end{enumerate*}\n"
      ],
      "text/markdown": [
       "1. 77941\n",
       "2. 4\n",
       "\n",
       "\n"
      ],
      "text/plain": [
       "[1] 77941     4"
      ]
     },
     "metadata": {},
     "output_type": "display_data"
    },
    {
     "data": {
      "text/html": [
       "<table>\n",
       "<caption>A data.frame: 6 × 4</caption>\n",
       "<thead>\n",
       "\t<tr><th scope=col>ensembl_gene_id</th><th scope=col>hgnc_symbol</th><th scope=col>chromosome_name</th><th scope=col>transcript_biotype</th></tr>\n",
       "\t<tr><th scope=col>&lt;chr&gt;</th><th scope=col>&lt;chr&gt;</th><th scope=col>&lt;chr&gt;</th><th scope=col>&lt;chr&gt;</th></tr>\n",
       "</thead>\n",
       "<tbody>\n",
       "\t<tr><td>ENSG00000229978</td><td>         </td><td>1</td><td>transcribed_unprocessed_pseudogene</td></tr>\n",
       "\t<tr><td>ENSG00000229978</td><td>         </td><td>1</td><td>processed_transcript              </td></tr>\n",
       "\t<tr><td>ENSG00000236179</td><td>         </td><td>1</td><td>unprocessed_pseudogene            </td></tr>\n",
       "\t<tr><td>ENSG00000179412</td><td>HNRNPCP5 </td><td>1</td><td>processed_pseudogene              </td></tr>\n",
       "\t<tr><td>ENSG00000231219</td><td>         </td><td>1</td><td>unprocessed_pseudogene            </td></tr>\n",
       "\t<tr><td>ENSG00000207511</td><td>RNU6-771P</td><td>1</td><td>snRNA                             </td></tr>\n",
       "</tbody>\n",
       "</table>\n"
      ],
      "text/latex": [
       "A data.frame: 6 × 4\n",
       "\\begin{tabular}{r|llll}\n",
       " ensembl\\_gene\\_id & hgnc\\_symbol & chromosome\\_name & transcript\\_biotype\\\\\n",
       " <chr> & <chr> & <chr> & <chr>\\\\\n",
       "\\hline\n",
       "\t ENSG00000229978 &           & 1 & transcribed\\_unprocessed\\_pseudogene\\\\\n",
       "\t ENSG00000229978 &           & 1 & processed\\_transcript              \\\\\n",
       "\t ENSG00000236179 &           & 1 & unprocessed\\_pseudogene            \\\\\n",
       "\t ENSG00000179412 & HNRNPCP5  & 1 & processed\\_pseudogene              \\\\\n",
       "\t ENSG00000231219 &           & 1 & unprocessed\\_pseudogene            \\\\\n",
       "\t ENSG00000207511 & RNU6-771P & 1 & snRNA                             \\\\\n",
       "\\end{tabular}\n"
      ],
      "text/markdown": [
       "\n",
       "A data.frame: 6 × 4\n",
       "\n",
       "| ensembl_gene_id &lt;chr&gt; | hgnc_symbol &lt;chr&gt; | chromosome_name &lt;chr&gt; | transcript_biotype &lt;chr&gt; |\n",
       "|---|---|---|---|\n",
       "| ENSG00000229978 | <!----> | 1 | transcribed_unprocessed_pseudogene |\n",
       "| ENSG00000229978 | <!----> | 1 | processed_transcript               |\n",
       "| ENSG00000236179 | <!----> | 1 | unprocessed_pseudogene             |\n",
       "| ENSG00000179412 | HNRNPCP5  | 1 | processed_pseudogene               |\n",
       "| ENSG00000231219 | <!----> | 1 | unprocessed_pseudogene             |\n",
       "| ENSG00000207511 | RNU6-771P | 1 | snRNA                              |\n",
       "\n"
      ],
      "text/plain": [
       "  ensembl_gene_id hgnc_symbol chromosome_name\n",
       "1 ENSG00000229978             1              \n",
       "2 ENSG00000229978             1              \n",
       "3 ENSG00000236179             1              \n",
       "4 ENSG00000179412 HNRNPCP5    1              \n",
       "5 ENSG00000231219             1              \n",
       "6 ENSG00000207511 RNU6-771P   1              \n",
       "  transcript_biotype                \n",
       "1 transcribed_unprocessed_pseudogene\n",
       "2 processed_transcript              \n",
       "3 unprocessed_pseudogene            \n",
       "4 processed_pseudogene              \n",
       "5 unprocessed_pseudogene            \n",
       "6 snRNA                             "
      ]
     },
     "metadata": {},
     "output_type": "display_data"
    }
   ],
   "source": [
    "dim(gene_info)\n",
    "head(gene_info)"
   ]
  },
  {
   "cell_type": "code",
   "execution_count": 40,
   "metadata": {},
   "outputs": [],
   "source": [
    "linc_info <- gene_info %>% filter(transcript_biotype == \"lincRNA\")"
   ]
  },
  {
   "cell_type": "code",
   "execution_count": 41,
   "metadata": {},
   "outputs": [
    {
     "data": {
      "text/html": [
       "<ol class=list-inline>\n",
       "\t<li>6724</li>\n",
       "\t<li>4</li>\n",
       "</ol>\n"
      ],
      "text/latex": [
       "\\begin{enumerate*}\n",
       "\\item 6724\n",
       "\\item 4\n",
       "\\end{enumerate*}\n"
      ],
      "text/markdown": [
       "1. 6724\n",
       "2. 4\n",
       "\n",
       "\n"
      ],
      "text/plain": [
       "[1] 6724    4"
      ]
     },
     "metadata": {},
     "output_type": "display_data"
    },
    {
     "data": {
      "text/html": [
       "<table>\n",
       "<caption>A data.frame: 6 × 4</caption>\n",
       "<thead>\n",
       "\t<tr><th scope=col>ensembl_gene_id</th><th scope=col>hgnc_symbol</th><th scope=col>chromosome_name</th><th scope=col>transcript_biotype</th></tr>\n",
       "\t<tr><th scope=col>&lt;chr&gt;</th><th scope=col>&lt;chr&gt;</th><th scope=col>&lt;chr&gt;</th><th scope=col>&lt;chr&gt;</th></tr>\n",
       "</thead>\n",
       "<tbody>\n",
       "\t<tr><td>ENSG00000228229</td><td>          </td><td>1</td><td>lincRNA</td></tr>\n",
       "\t<tr><td>ENSG00000237445</td><td>          </td><td>1</td><td>lincRNA</td></tr>\n",
       "\t<tr><td>ENSG00000231606</td><td>          </td><td>1</td><td>lincRNA</td></tr>\n",
       "\t<tr><td>ENSG00000234593</td><td>          </td><td>1</td><td>lincRNA</td></tr>\n",
       "\t<tr><td>ENSG00000228140</td><td>          </td><td>1</td><td>lincRNA</td></tr>\n",
       "\t<tr><td>ENSG00000243485</td><td>MIR1302-11</td><td>1</td><td>lincRNA</td></tr>\n",
       "</tbody>\n",
       "</table>\n"
      ],
      "text/latex": [
       "A data.frame: 6 × 4\n",
       "\\begin{tabular}{r|llll}\n",
       " ensembl\\_gene\\_id & hgnc\\_symbol & chromosome\\_name & transcript\\_biotype\\\\\n",
       " <chr> & <chr> & <chr> & <chr>\\\\\n",
       "\\hline\n",
       "\t ENSG00000228229 &            & 1 & lincRNA\\\\\n",
       "\t ENSG00000237445 &            & 1 & lincRNA\\\\\n",
       "\t ENSG00000231606 &            & 1 & lincRNA\\\\\n",
       "\t ENSG00000234593 &            & 1 & lincRNA\\\\\n",
       "\t ENSG00000228140 &            & 1 & lincRNA\\\\\n",
       "\t ENSG00000243485 & MIR1302-11 & 1 & lincRNA\\\\\n",
       "\\end{tabular}\n"
      ],
      "text/markdown": [
       "\n",
       "A data.frame: 6 × 4\n",
       "\n",
       "| ensembl_gene_id &lt;chr&gt; | hgnc_symbol &lt;chr&gt; | chromosome_name &lt;chr&gt; | transcript_biotype &lt;chr&gt; |\n",
       "|---|---|---|---|\n",
       "| ENSG00000228229 | <!----> | 1 | lincRNA |\n",
       "| ENSG00000237445 | <!----> | 1 | lincRNA |\n",
       "| ENSG00000231606 | <!----> | 1 | lincRNA |\n",
       "| ENSG00000234593 | <!----> | 1 | lincRNA |\n",
       "| ENSG00000228140 | <!----> | 1 | lincRNA |\n",
       "| ENSG00000243485 | MIR1302-11 | 1 | lincRNA |\n",
       "\n"
      ],
      "text/plain": [
       "  ensembl_gene_id hgnc_symbol chromosome_name transcript_biotype\n",
       "1 ENSG00000228229             1               lincRNA           \n",
       "2 ENSG00000237445             1               lincRNA           \n",
       "3 ENSG00000231606             1               lincRNA           \n",
       "4 ENSG00000234593             1               lincRNA           \n",
       "5 ENSG00000228140             1               lincRNA           \n",
       "6 ENSG00000243485 MIR1302-11  1               lincRNA           "
      ]
     },
     "metadata": {},
     "output_type": "display_data"
    }
   ],
   "source": [
    "dim(linc_info)\n",
    "head(linc_info)"
   ]
  },
  {
   "cell_type": "code",
   "execution_count": 42,
   "metadata": {},
   "outputs": [],
   "source": [
    "mi_info <- gene_info %>% filter(transcript_biotype == \"miRNA\")"
   ]
  },
  {
   "cell_type": "code",
   "execution_count": 43,
   "metadata": {},
   "outputs": [
    {
     "data": {
      "text/html": [
       "<ol class=list-inline>\n",
       "\t<li>1215</li>\n",
       "\t<li>4</li>\n",
       "</ol>\n"
      ],
      "text/latex": [
       "\\begin{enumerate*}\n",
       "\\item 1215\n",
       "\\item 4\n",
       "\\end{enumerate*}\n"
      ],
      "text/markdown": [
       "1. 1215\n",
       "2. 4\n",
       "\n",
       "\n"
      ],
      "text/plain": [
       "[1] 1215    4"
      ]
     },
     "metadata": {},
     "output_type": "display_data"
    },
    {
     "data": {
      "text/html": [
       "<table>\n",
       "<caption>A data.frame: 6 × 4</caption>\n",
       "<thead>\n",
       "\t<tr><th scope=col>ensembl_gene_id</th><th scope=col>hgnc_symbol</th><th scope=col>chromosome_name</th><th scope=col>transcript_biotype</th></tr>\n",
       "\t<tr><th scope=col>&lt;chr&gt;</th><th scope=col>&lt;chr&gt;</th><th scope=col>&lt;chr&gt;</th><th scope=col>&lt;chr&gt;</th></tr>\n",
       "</thead>\n",
       "<tbody>\n",
       "\t<tr><td>ENSG00000243485</td><td>MIR1302-11</td><td>1</td><td>miRNA</td></tr>\n",
       "\t<tr><td>ENSG00000243485</td><td>MIR1302-10</td><td>1</td><td>miRNA</td></tr>\n",
       "\t<tr><td>ENSG00000243485</td><td>MIR1302-9 </td><td>1</td><td>miRNA</td></tr>\n",
       "\t<tr><td>ENSG00000243485</td><td>MIR1302-2 </td><td>1</td><td>miRNA</td></tr>\n",
       "\t<tr><td>ENSG00000207730</td><td>MIR200B   </td><td>1</td><td>miRNA</td></tr>\n",
       "\t<tr><td>ENSG00000207607</td><td>MIR200A   </td><td>1</td><td>miRNA</td></tr>\n",
       "</tbody>\n",
       "</table>\n"
      ],
      "text/latex": [
       "A data.frame: 6 × 4\n",
       "\\begin{tabular}{r|llll}\n",
       " ensembl\\_gene\\_id & hgnc\\_symbol & chromosome\\_name & transcript\\_biotype\\\\\n",
       " <chr> & <chr> & <chr> & <chr>\\\\\n",
       "\\hline\n",
       "\t ENSG00000243485 & MIR1302-11 & 1 & miRNA\\\\\n",
       "\t ENSG00000243485 & MIR1302-10 & 1 & miRNA\\\\\n",
       "\t ENSG00000243485 & MIR1302-9  & 1 & miRNA\\\\\n",
       "\t ENSG00000243485 & MIR1302-2  & 1 & miRNA\\\\\n",
       "\t ENSG00000207730 & MIR200B    & 1 & miRNA\\\\\n",
       "\t ENSG00000207607 & MIR200A    & 1 & miRNA\\\\\n",
       "\\end{tabular}\n"
      ],
      "text/markdown": [
       "\n",
       "A data.frame: 6 × 4\n",
       "\n",
       "| ensembl_gene_id &lt;chr&gt; | hgnc_symbol &lt;chr&gt; | chromosome_name &lt;chr&gt; | transcript_biotype &lt;chr&gt; |\n",
       "|---|---|---|---|\n",
       "| ENSG00000243485 | MIR1302-11 | 1 | miRNA |\n",
       "| ENSG00000243485 | MIR1302-10 | 1 | miRNA |\n",
       "| ENSG00000243485 | MIR1302-9  | 1 | miRNA |\n",
       "| ENSG00000243485 | MIR1302-2  | 1 | miRNA |\n",
       "| ENSG00000207730 | MIR200B    | 1 | miRNA |\n",
       "| ENSG00000207607 | MIR200A    | 1 | miRNA |\n",
       "\n"
      ],
      "text/plain": [
       "  ensembl_gene_id hgnc_symbol chromosome_name transcript_biotype\n",
       "1 ENSG00000243485 MIR1302-11  1               miRNA             \n",
       "2 ENSG00000243485 MIR1302-10  1               miRNA             \n",
       "3 ENSG00000243485 MIR1302-9   1               miRNA             \n",
       "4 ENSG00000243485 MIR1302-2   1               miRNA             \n",
       "5 ENSG00000207730 MIR200B     1               miRNA             \n",
       "6 ENSG00000207607 MIR200A     1               miRNA             "
      ]
     },
     "metadata": {},
     "output_type": "display_data"
    }
   ],
   "source": [
    "dim(mi_info)\n",
    "head(mi_info)"
   ]
  },
  {
   "cell_type": "code",
   "execution_count": 44,
   "metadata": {},
   "outputs": [
    {
     "data": {
      "text/plain": [
       "\n",
       "          3prime_overlapping_ncrna                          antisense \n",
       "                                12                               4974 \n",
       "                         IG_C_gene                    IG_C_pseudogene \n",
       "                                14                                  9 \n",
       "                         IG_D_gene                          IG_J_gene \n",
       "                                33                                 18 \n",
       "                   IG_J_pseudogene                          IG_V_gene \n",
       "                                 3                                129 \n",
       "                   IG_V_pseudogene                            lincRNA \n",
       "                               174                               6724 \n",
       "                             miRNA                           misc_RNA \n",
       "                              1215                               1672 \n",
       "                           Mt_rRNA                            Mt_tRNA \n",
       "                                 2                                 22 \n",
       "                    non_stop_decay            nonsense_mediated_decay \n",
       "                                49                               6237 \n",
       "            polymorphic_pseudogene               processed_pseudogene \n",
       "                                42                               9825 \n",
       "              processed_transcript                     protein_coding \n",
       "                             10879                              19269 \n",
       "                        pseudogene                    retained_intron \n",
       "                               119                               9025 \n",
       "                              rRNA                     sense_intronic \n",
       "                               510                                693 \n",
       "                 sense_overlapping                             snoRNA \n",
       "                               174                                873 \n",
       "                             snRNA                          TR_C_gene \n",
       "                              1781                                  4 \n",
       "                         TR_D_gene                          TR_J_gene \n",
       "                                 3                                 72 \n",
       "                   TR_J_pseudogene                          TR_V_gene \n",
       "                                 3                                 95 \n",
       "                   TR_V_pseudogene   transcribed_processed_pseudogene \n",
       "                                27                                367 \n",
       "transcribed_unprocessed_pseudogene    translated_processed_pseudogene \n",
       "                               582                                  1 \n",
       "                unitary_pseudogene             unprocessed_pseudogene \n",
       "                               157                               2153 "
      ]
     },
     "metadata": {},
     "output_type": "display_data"
    }
   ],
   "source": [
    "table(gene_info$transcript_biotype)"
   ]
  },
  {
   "cell_type": "code",
   "execution_count": 45,
   "metadata": {},
   "outputs": [],
   "source": [
    "gene_info_proteincoding <- gene_info %>% \n",
    "    filter(transcript_biotype == \"protein_coding\")"
   ]
  },
  {
   "cell_type": "code",
   "execution_count": 46,
   "metadata": {},
   "outputs": [
    {
     "data": {
      "text/html": [
       "<ol class=list-inline>\n",
       "\t<li>19269</li>\n",
       "\t<li>4</li>\n",
       "</ol>\n"
      ],
      "text/latex": [
       "\\begin{enumerate*}\n",
       "\\item 19269\n",
       "\\item 4\n",
       "\\end{enumerate*}\n"
      ],
      "text/markdown": [
       "1. 19269\n",
       "2. 4\n",
       "\n",
       "\n"
      ],
      "text/plain": [
       "[1] 19269     4"
      ]
     },
     "metadata": {},
     "output_type": "display_data"
    },
    {
     "data": {
      "text/plain": [
       " ensembl_gene_id    hgnc_symbol        chromosome_name    transcript_biotype\n",
       " Length:19269       Length:19269       Length:19269       Length:19269      \n",
       " Class :character   Class :character   Class :character   Class :character  \n",
       " Mode  :character   Mode  :character   Mode  :character   Mode  :character  "
      ]
     },
     "metadata": {},
     "output_type": "display_data"
    },
    {
     "data": {
      "text/html": [
       "<table>\n",
       "<caption>A data.frame: 6 × 4</caption>\n",
       "<thead>\n",
       "\t<tr><th scope=col>ensembl_gene_id</th><th scope=col>hgnc_symbol</th><th scope=col>chromosome_name</th><th scope=col>transcript_biotype</th></tr>\n",
       "\t<tr><th scope=col>&lt;chr&gt;</th><th scope=col>&lt;chr&gt;</th><th scope=col>&lt;chr&gt;</th><th scope=col>&lt;chr&gt;</th></tr>\n",
       "</thead>\n",
       "<tbody>\n",
       "\t<tr><td>ENSG00000186092</td><td>OR4F5   </td><td>1</td><td>protein_coding</td></tr>\n",
       "\t<tr><td>ENSG00000187634</td><td>SAMD11  </td><td>1</td><td>protein_coding</td></tr>\n",
       "\t<tr><td>ENSG00000188976</td><td>NOC2L   </td><td>1</td><td>protein_coding</td></tr>\n",
       "\t<tr><td>ENSG00000187961</td><td>KLHL17  </td><td>1</td><td>protein_coding</td></tr>\n",
       "\t<tr><td>ENSG00000187583</td><td>PLEKHN1 </td><td>1</td><td>protein_coding</td></tr>\n",
       "\t<tr><td>ENSG00000187642</td><td>C1orf170</td><td>1</td><td>protein_coding</td></tr>\n",
       "</tbody>\n",
       "</table>\n"
      ],
      "text/latex": [
       "A data.frame: 6 × 4\n",
       "\\begin{tabular}{r|llll}\n",
       " ensembl\\_gene\\_id & hgnc\\_symbol & chromosome\\_name & transcript\\_biotype\\\\\n",
       " <chr> & <chr> & <chr> & <chr>\\\\\n",
       "\\hline\n",
       "\t ENSG00000186092 & OR4F5    & 1 & protein\\_coding\\\\\n",
       "\t ENSG00000187634 & SAMD11   & 1 & protein\\_coding\\\\\n",
       "\t ENSG00000188976 & NOC2L    & 1 & protein\\_coding\\\\\n",
       "\t ENSG00000187961 & KLHL17   & 1 & protein\\_coding\\\\\n",
       "\t ENSG00000187583 & PLEKHN1  & 1 & protein\\_coding\\\\\n",
       "\t ENSG00000187642 & C1orf170 & 1 & protein\\_coding\\\\\n",
       "\\end{tabular}\n"
      ],
      "text/markdown": [
       "\n",
       "A data.frame: 6 × 4\n",
       "\n",
       "| ensembl_gene_id &lt;chr&gt; | hgnc_symbol &lt;chr&gt; | chromosome_name &lt;chr&gt; | transcript_biotype &lt;chr&gt; |\n",
       "|---|---|---|---|\n",
       "| ENSG00000186092 | OR4F5    | 1 | protein_coding |\n",
       "| ENSG00000187634 | SAMD11   | 1 | protein_coding |\n",
       "| ENSG00000188976 | NOC2L    | 1 | protein_coding |\n",
       "| ENSG00000187961 | KLHL17   | 1 | protein_coding |\n",
       "| ENSG00000187583 | PLEKHN1  | 1 | protein_coding |\n",
       "| ENSG00000187642 | C1orf170 | 1 | protein_coding |\n",
       "\n"
      ],
      "text/plain": [
       "  ensembl_gene_id hgnc_symbol chromosome_name transcript_biotype\n",
       "1 ENSG00000186092 OR4F5       1               protein_coding    \n",
       "2 ENSG00000187634 SAMD11      1               protein_coding    \n",
       "3 ENSG00000188976 NOC2L       1               protein_coding    \n",
       "4 ENSG00000187961 KLHL17      1               protein_coding    \n",
       "5 ENSG00000187583 PLEKHN1     1               protein_coding    \n",
       "6 ENSG00000187642 C1orf170    1               protein_coding    "
      ]
     },
     "metadata": {},
     "output_type": "display_data"
    }
   ],
   "source": [
    "dim(gene_info_proteincoding)\n",
    "summary(gene_info_proteincoding)\n",
    "head(gene_info_proteincoding)"
   ]
  },
  {
   "cell_type": "code",
   "execution_count": 47,
   "metadata": {},
   "outputs": [],
   "source": [
    "linc_idx <- startsWith(gene_info_proteincoding$hgnc_symbol, \"LINC\")"
   ]
  },
  {
   "cell_type": "code",
   "execution_count": 48,
   "metadata": {},
   "outputs": [
    {
     "data": {
      "text/html": [
       "13"
      ],
      "text/latex": [
       "13"
      ],
      "text/markdown": [
       "13"
      ],
      "text/plain": [
       "[1] 13"
      ]
     },
     "metadata": {},
     "output_type": "display_data"
    }
   ],
   "source": [
    "sum(linc_idx)"
   ]
  },
  {
   "cell_type": "code",
   "execution_count": 49,
   "metadata": {},
   "outputs": [
    {
     "data": {
      "text/html": [
       "<ol class=list-inline>\n",
       "\t<li>'LINC01118'</li>\n",
       "\t<li>'LINC01119'</li>\n",
       "\t<li>'LINC01124'</li>\n",
       "\t<li>'LINC00692'</li>\n",
       "\t<li>'LINC01100'</li>\n",
       "\t<li>'LINC00955'</li>\n",
       "\t<li>'LINC01098'</li>\n",
       "\t<li>'LINC00998'</li>\n",
       "\t<li>'LINC00935'</li>\n",
       "\t<li>'LINC00346'</li>\n",
       "\t<li>'LINC00923'</li>\n",
       "\t<li>'LINC00908'</li>\n",
       "\t<li>'LINC00632'</li>\n",
       "</ol>\n"
      ],
      "text/latex": [
       "\\begin{enumerate*}\n",
       "\\item 'LINC01118'\n",
       "\\item 'LINC01119'\n",
       "\\item 'LINC01124'\n",
       "\\item 'LINC00692'\n",
       "\\item 'LINC01100'\n",
       "\\item 'LINC00955'\n",
       "\\item 'LINC01098'\n",
       "\\item 'LINC00998'\n",
       "\\item 'LINC00935'\n",
       "\\item 'LINC00346'\n",
       "\\item 'LINC00923'\n",
       "\\item 'LINC00908'\n",
       "\\item 'LINC00632'\n",
       "\\end{enumerate*}\n"
      ],
      "text/markdown": [
       "1. 'LINC01118'\n",
       "2. 'LINC01119'\n",
       "3. 'LINC01124'\n",
       "4. 'LINC00692'\n",
       "5. 'LINC01100'\n",
       "6. 'LINC00955'\n",
       "7. 'LINC01098'\n",
       "8. 'LINC00998'\n",
       "9. 'LINC00935'\n",
       "10. 'LINC00346'\n",
       "11. 'LINC00923'\n",
       "12. 'LINC00908'\n",
       "13. 'LINC00632'\n",
       "\n",
       "\n"
      ],
      "text/plain": [
       " [1] \"LINC01118\" \"LINC01119\" \"LINC01124\" \"LINC00692\" \"LINC01100\" \"LINC00955\"\n",
       " [7] \"LINC01098\" \"LINC00998\" \"LINC00935\" \"LINC00346\" \"LINC00923\" \"LINC00908\"\n",
       "[13] \"LINC00632\""
      ]
     },
     "metadata": {},
     "output_type": "display_data"
    }
   ],
   "source": [
    "gene_info_proteincoding$hgnc_symbol[linc_idx]"
   ]
  },
  {
   "cell_type": "code",
   "execution_count": 50,
   "metadata": {},
   "outputs": [
    {
     "data": {
      "text/html": [
       "<table>\n",
       "<caption>A data.frame: 1453 × 3</caption>\n",
       "<thead>\n",
       "\t<tr><th scope=col>name</th><th scope=col>description</th><th scope=col>page</th></tr>\n",
       "\t<tr><th scope=col>&lt;chr&gt;</th><th scope=col>&lt;chr&gt;</th><th scope=col>&lt;chr&gt;</th></tr>\n",
       "</thead>\n",
       "<tbody>\n",
       "\t<tr><td>ensembl_gene_id                </td><td>Gene stable ID                            </td><td>feature_page</td></tr>\n",
       "\t<tr><td>ensembl_gene_id_version        </td><td>Gene stable ID version                    </td><td>feature_page</td></tr>\n",
       "\t<tr><td>ensembl_transcript_id          </td><td>Transcript stable ID                      </td><td>feature_page</td></tr>\n",
       "\t<tr><td>ensembl_transcript_id_version  </td><td>Transcript stable ID version              </td><td>feature_page</td></tr>\n",
       "\t<tr><td>ensembl_peptide_id             </td><td>Protein stable ID                         </td><td>feature_page</td></tr>\n",
       "\t<tr><td>ensembl_peptide_id_version     </td><td>Protein stable ID version                 </td><td>feature_page</td></tr>\n",
       "\t<tr><td>ensembl_exon_id                </td><td>Exon stable ID                            </td><td>feature_page</td></tr>\n",
       "\t<tr><td>description                    </td><td>Gene description                          </td><td>feature_page</td></tr>\n",
       "\t<tr><td>chromosome_name                </td><td>Chromosome/scaffold name                  </td><td>feature_page</td></tr>\n",
       "\t<tr><td>start_position                 </td><td>Gene start (bp)                           </td><td>feature_page</td></tr>\n",
       "\t<tr><td>end_position                   </td><td>Gene end (bp)                             </td><td>feature_page</td></tr>\n",
       "\t<tr><td>strand                         </td><td>Strand                                    </td><td>feature_page</td></tr>\n",
       "\t<tr><td>band                           </td><td>Karyotype band                            </td><td>feature_page</td></tr>\n",
       "\t<tr><td>transcript_start               </td><td>Transcript start (bp)                     </td><td>feature_page</td></tr>\n",
       "\t<tr><td>transcript_end                 </td><td>Transcript end (bp)                       </td><td>feature_page</td></tr>\n",
       "\t<tr><td>transcription_start_site       </td><td>Transcription start site (TSS)            </td><td>feature_page</td></tr>\n",
       "\t<tr><td>transcript_length              </td><td>Transcript length (including UTRs and CDS)</td><td>feature_page</td></tr>\n",
       "\t<tr><td>transcript_gencode_basic       </td><td>GENCODE basic annotation                  </td><td>feature_page</td></tr>\n",
       "\t<tr><td>external_gene_name             </td><td>Gene name                                 </td><td>feature_page</td></tr>\n",
       "\t<tr><td>external_gene_source           </td><td>Source of gene name                       </td><td>feature_page</td></tr>\n",
       "\t<tr><td>external_transcript_name       </td><td>Transcript name                           </td><td>feature_page</td></tr>\n",
       "\t<tr><td>external_transcript_source_name</td><td>Source of transcript name                 </td><td>feature_page</td></tr>\n",
       "\t<tr><td>transcript_count               </td><td>Transcript count                          </td><td>feature_page</td></tr>\n",
       "\t<tr><td>percentage_gene_gc_content     </td><td>Gene % GC content                         </td><td>feature_page</td></tr>\n",
       "\t<tr><td>gene_biotype                   </td><td>Gene type                                 </td><td>feature_page</td></tr>\n",
       "\t<tr><td>transcript_biotype             </td><td>Transcript type                           </td><td>feature_page</td></tr>\n",
       "\t<tr><td>source                         </td><td>Source (gene)                             </td><td>feature_page</td></tr>\n",
       "\t<tr><td>transcript_source              </td><td>Source (transcript)                       </td><td>feature_page</td></tr>\n",
       "\t<tr><td>version                        </td><td>Version (gene)                            </td><td>feature_page</td></tr>\n",
       "\t<tr><td>transcript_version             </td><td>Version (transcript)                      </td><td>feature_page</td></tr>\n",
       "\t<tr><td>⋮</td><td>⋮</td><td>⋮</td></tr>\n",
       "\t<tr><td>5_utr_end                    </td><td>5' UTR end                                </td><td>sequences</td></tr>\n",
       "\t<tr><td>3_utr_start                  </td><td>3' UTR start                              </td><td>sequences</td></tr>\n",
       "\t<tr><td>3_utr_end                    </td><td>3' UTR end                                </td><td>sequences</td></tr>\n",
       "\t<tr><td>ensembl_transcript_id        </td><td>Transcript stable ID                      </td><td>sequences</td></tr>\n",
       "\t<tr><td>ensembl_transcript_id_version</td><td>Transcript stable ID version              </td><td>sequences</td></tr>\n",
       "\t<tr><td>ensembl_peptide_id           </td><td>Protein stable ID                         </td><td>sequences</td></tr>\n",
       "\t<tr><td>ensembl_peptide_id_version   </td><td>Protein stable ID version                 </td><td>sequences</td></tr>\n",
       "\t<tr><td>transcript_biotype           </td><td>Transcript type                           </td><td>sequences</td></tr>\n",
       "\t<tr><td>transcript_version           </td><td>Version (transcript)                      </td><td>sequences</td></tr>\n",
       "\t<tr><td>peptide_version              </td><td>Version (protein)                         </td><td>sequences</td></tr>\n",
       "\t<tr><td>strand                       </td><td>Strand                                    </td><td>sequences</td></tr>\n",
       "\t<tr><td>transcript_start             </td><td>Transcript start (bp)                     </td><td>sequences</td></tr>\n",
       "\t<tr><td>transcript_end               </td><td>Transcript end (bp)                       </td><td>sequences</td></tr>\n",
       "\t<tr><td>transcription_start_site     </td><td>Transcription start site (TSS)            </td><td>sequences</td></tr>\n",
       "\t<tr><td>transcript_length            </td><td>Transcript length (including UTRs and CDS)</td><td>sequences</td></tr>\n",
       "\t<tr><td>cds_length                   </td><td>CDS Length                                </td><td>sequences</td></tr>\n",
       "\t<tr><td>cds_start                    </td><td>CDS start                                 </td><td>sequences</td></tr>\n",
       "\t<tr><td>cds_end                      </td><td>CDS end                                   </td><td>sequences</td></tr>\n",
       "\t<tr><td>ensembl_exon_id              </td><td>Exon stable ID                            </td><td>sequences</td></tr>\n",
       "\t<tr><td>exon_chrom_start             </td><td>Exon region start (bp)                    </td><td>sequences</td></tr>\n",
       "\t<tr><td>exon_chrom_end               </td><td>Exon region end (bp)                      </td><td>sequences</td></tr>\n",
       "\t<tr><td>strand                       </td><td>Strand                                    </td><td>sequences</td></tr>\n",
       "\t<tr><td>rank                         </td><td>Exon rank in transcript                   </td><td>sequences</td></tr>\n",
       "\t<tr><td>phase                        </td><td>Start phase                               </td><td>sequences</td></tr>\n",
       "\t<tr><td>end_phase                    </td><td>End phase                                 </td><td>sequences</td></tr>\n",
       "\t<tr><td>cdna_coding_start            </td><td>cDNA coding start                         </td><td>sequences</td></tr>\n",
       "\t<tr><td>cdna_coding_end              </td><td>cDNA coding end                           </td><td>sequences</td></tr>\n",
       "\t<tr><td>genomic_coding_start         </td><td>Genomic coding start                      </td><td>sequences</td></tr>\n",
       "\t<tr><td>genomic_coding_end           </td><td>Genomic coding end                        </td><td>sequences</td></tr>\n",
       "\t<tr><td>is_constitutive              </td><td>Constitutive exon                         </td><td>sequences</td></tr>\n",
       "</tbody>\n",
       "</table>\n"
      ],
      "text/latex": [
       "A data.frame: 1453 × 3\n",
       "\\begin{tabular}{r|lll}\n",
       " name & description & page\\\\\n",
       " <chr> & <chr> & <chr>\\\\\n",
       "\\hline\n",
       "\t ensembl\\_gene\\_id                 & Gene stable ID                             & feature\\_page\\\\\n",
       "\t ensembl\\_gene\\_id\\_version         & Gene stable ID version                     & feature\\_page\\\\\n",
       "\t ensembl\\_transcript\\_id           & Transcript stable ID                       & feature\\_page\\\\\n",
       "\t ensembl\\_transcript\\_id\\_version   & Transcript stable ID version               & feature\\_page\\\\\n",
       "\t ensembl\\_peptide\\_id              & Protein stable ID                          & feature\\_page\\\\\n",
       "\t ensembl\\_peptide\\_id\\_version      & Protein stable ID version                  & feature\\_page\\\\\n",
       "\t ensembl\\_exon\\_id                 & Exon stable ID                             & feature\\_page\\\\\n",
       "\t description                     & Gene description                           & feature\\_page\\\\\n",
       "\t chromosome\\_name                 & Chromosome/scaffold name                   & feature\\_page\\\\\n",
       "\t start\\_position                  & Gene start (bp)                            & feature\\_page\\\\\n",
       "\t end\\_position                    & Gene end (bp)                              & feature\\_page\\\\\n",
       "\t strand                          & Strand                                     & feature\\_page\\\\\n",
       "\t band                            & Karyotype band                             & feature\\_page\\\\\n",
       "\t transcript\\_start                & Transcript start (bp)                      & feature\\_page\\\\\n",
       "\t transcript\\_end                  & Transcript end (bp)                        & feature\\_page\\\\\n",
       "\t transcription\\_start\\_site        & Transcription start site (TSS)             & feature\\_page\\\\\n",
       "\t transcript\\_length               & Transcript length (including UTRs and CDS) & feature\\_page\\\\\n",
       "\t transcript\\_gencode\\_basic        & GENCODE basic annotation                   & feature\\_page\\\\\n",
       "\t external\\_gene\\_name              & Gene name                                  & feature\\_page\\\\\n",
       "\t external\\_gene\\_source            & Source of gene name                        & feature\\_page\\\\\n",
       "\t external\\_transcript\\_name        & Transcript name                            & feature\\_page\\\\\n",
       "\t external\\_transcript\\_source\\_name & Source of transcript name                  & feature\\_page\\\\\n",
       "\t transcript\\_count                & Transcript count                           & feature\\_page\\\\\n",
       "\t percentage\\_gene\\_gc\\_content      & Gene \\% GC content                          & feature\\_page\\\\\n",
       "\t gene\\_biotype                    & Gene type                                  & feature\\_page\\\\\n",
       "\t transcript\\_biotype              & Transcript type                            & feature\\_page\\\\\n",
       "\t source                          & Source (gene)                              & feature\\_page\\\\\n",
       "\t transcript\\_source               & Source (transcript)                        & feature\\_page\\\\\n",
       "\t version                         & Version (gene)                             & feature\\_page\\\\\n",
       "\t transcript\\_version              & Version (transcript)                       & feature\\_page\\\\\n",
       "\t ⋮ & ⋮ & ⋮\\\\\n",
       "\t 5\\_utr\\_end                     & 5' UTR end                                 & sequences\\\\\n",
       "\t 3\\_utr\\_start                   & 3' UTR start                               & sequences\\\\\n",
       "\t 3\\_utr\\_end                     & 3' UTR end                                 & sequences\\\\\n",
       "\t ensembl\\_transcript\\_id         & Transcript stable ID                       & sequences\\\\\n",
       "\t ensembl\\_transcript\\_id\\_version & Transcript stable ID version               & sequences\\\\\n",
       "\t ensembl\\_peptide\\_id            & Protein stable ID                          & sequences\\\\\n",
       "\t ensembl\\_peptide\\_id\\_version    & Protein stable ID version                  & sequences\\\\\n",
       "\t transcript\\_biotype            & Transcript type                            & sequences\\\\\n",
       "\t transcript\\_version            & Version (transcript)                       & sequences\\\\\n",
       "\t peptide\\_version               & Version (protein)                          & sequences\\\\\n",
       "\t strand                        & Strand                                     & sequences\\\\\n",
       "\t transcript\\_start              & Transcript start (bp)                      & sequences\\\\\n",
       "\t transcript\\_end                & Transcript end (bp)                        & sequences\\\\\n",
       "\t transcription\\_start\\_site      & Transcription start site (TSS)             & sequences\\\\\n",
       "\t transcript\\_length             & Transcript length (including UTRs and CDS) & sequences\\\\\n",
       "\t cds\\_length                    & CDS Length                                 & sequences\\\\\n",
       "\t cds\\_start                     & CDS start                                  & sequences\\\\\n",
       "\t cds\\_end                       & CDS end                                    & sequences\\\\\n",
       "\t ensembl\\_exon\\_id               & Exon stable ID                             & sequences\\\\\n",
       "\t exon\\_chrom\\_start              & Exon region start (bp)                     & sequences\\\\\n",
       "\t exon\\_chrom\\_end                & Exon region end (bp)                       & sequences\\\\\n",
       "\t strand                        & Strand                                     & sequences\\\\\n",
       "\t rank                          & Exon rank in transcript                    & sequences\\\\\n",
       "\t phase                         & Start phase                                & sequences\\\\\n",
       "\t end\\_phase                     & End phase                                  & sequences\\\\\n",
       "\t cdna\\_coding\\_start             & cDNA coding start                          & sequences\\\\\n",
       "\t cdna\\_coding\\_end               & cDNA coding end                            & sequences\\\\\n",
       "\t genomic\\_coding\\_start          & Genomic coding start                       & sequences\\\\\n",
       "\t genomic\\_coding\\_end            & Genomic coding end                         & sequences\\\\\n",
       "\t is\\_constitutive               & Constitutive exon                          & sequences\\\\\n",
       "\\end{tabular}\n"
      ],
      "text/markdown": [
       "\n",
       "A data.frame: 1453 × 3\n",
       "\n",
       "| name &lt;chr&gt; | description &lt;chr&gt; | page &lt;chr&gt; |\n",
       "|---|---|---|\n",
       "| ensembl_gene_id                 | Gene stable ID                             | feature_page |\n",
       "| ensembl_gene_id_version         | Gene stable ID version                     | feature_page |\n",
       "| ensembl_transcript_id           | Transcript stable ID                       | feature_page |\n",
       "| ensembl_transcript_id_version   | Transcript stable ID version               | feature_page |\n",
       "| ensembl_peptide_id              | Protein stable ID                          | feature_page |\n",
       "| ensembl_peptide_id_version      | Protein stable ID version                  | feature_page |\n",
       "| ensembl_exon_id                 | Exon stable ID                             | feature_page |\n",
       "| description                     | Gene description                           | feature_page |\n",
       "| chromosome_name                 | Chromosome/scaffold name                   | feature_page |\n",
       "| start_position                  | Gene start (bp)                            | feature_page |\n",
       "| end_position                    | Gene end (bp)                              | feature_page |\n",
       "| strand                          | Strand                                     | feature_page |\n",
       "| band                            | Karyotype band                             | feature_page |\n",
       "| transcript_start                | Transcript start (bp)                      | feature_page |\n",
       "| transcript_end                  | Transcript end (bp)                        | feature_page |\n",
       "| transcription_start_site        | Transcription start site (TSS)             | feature_page |\n",
       "| transcript_length               | Transcript length (including UTRs and CDS) | feature_page |\n",
       "| transcript_gencode_basic        | GENCODE basic annotation                   | feature_page |\n",
       "| external_gene_name              | Gene name                                  | feature_page |\n",
       "| external_gene_source            | Source of gene name                        | feature_page |\n",
       "| external_transcript_name        | Transcript name                            | feature_page |\n",
       "| external_transcript_source_name | Source of transcript name                  | feature_page |\n",
       "| transcript_count                | Transcript count                           | feature_page |\n",
       "| percentage_gene_gc_content      | Gene % GC content                          | feature_page |\n",
       "| gene_biotype                    | Gene type                                  | feature_page |\n",
       "| transcript_biotype              | Transcript type                            | feature_page |\n",
       "| source                          | Source (gene)                              | feature_page |\n",
       "| transcript_source               | Source (transcript)                        | feature_page |\n",
       "| version                         | Version (gene)                             | feature_page |\n",
       "| transcript_version              | Version (transcript)                       | feature_page |\n",
       "| ⋮ | ⋮ | ⋮ |\n",
       "| 5_utr_end                     | 5' UTR end                                 | sequences |\n",
       "| 3_utr_start                   | 3' UTR start                               | sequences |\n",
       "| 3_utr_end                     | 3' UTR end                                 | sequences |\n",
       "| ensembl_transcript_id         | Transcript stable ID                       | sequences |\n",
       "| ensembl_transcript_id_version | Transcript stable ID version               | sequences |\n",
       "| ensembl_peptide_id            | Protein stable ID                          | sequences |\n",
       "| ensembl_peptide_id_version    | Protein stable ID version                  | sequences |\n",
       "| transcript_biotype            | Transcript type                            | sequences |\n",
       "| transcript_version            | Version (transcript)                       | sequences |\n",
       "| peptide_version               | Version (protein)                          | sequences |\n",
       "| strand                        | Strand                                     | sequences |\n",
       "| transcript_start              | Transcript start (bp)                      | sequences |\n",
       "| transcript_end                | Transcript end (bp)                        | sequences |\n",
       "| transcription_start_site      | Transcription start site (TSS)             | sequences |\n",
       "| transcript_length             | Transcript length (including UTRs and CDS) | sequences |\n",
       "| cds_length                    | CDS Length                                 | sequences |\n",
       "| cds_start                     | CDS start                                  | sequences |\n",
       "| cds_end                       | CDS end                                    | sequences |\n",
       "| ensembl_exon_id               | Exon stable ID                             | sequences |\n",
       "| exon_chrom_start              | Exon region start (bp)                     | sequences |\n",
       "| exon_chrom_end                | Exon region end (bp)                       | sequences |\n",
       "| strand                        | Strand                                     | sequences |\n",
       "| rank                          | Exon rank in transcript                    | sequences |\n",
       "| phase                         | Start phase                                | sequences |\n",
       "| end_phase                     | End phase                                  | sequences |\n",
       "| cdna_coding_start             | cDNA coding start                          | sequences |\n",
       "| cdna_coding_end               | cDNA coding end                            | sequences |\n",
       "| genomic_coding_start          | Genomic coding start                       | sequences |\n",
       "| genomic_coding_end            | Genomic coding end                         | sequences |\n",
       "| is_constitutive               | Constitutive exon                          | sequences |\n",
       "\n"
      ],
      "text/plain": [
       "     name                            description                               \n",
       "1    ensembl_gene_id                 Gene stable ID                            \n",
       "2    ensembl_gene_id_version         Gene stable ID version                    \n",
       "3    ensembl_transcript_id           Transcript stable ID                      \n",
       "4    ensembl_transcript_id_version   Transcript stable ID version              \n",
       "5    ensembl_peptide_id              Protein stable ID                         \n",
       "6    ensembl_peptide_id_version      Protein stable ID version                 \n",
       "7    ensembl_exon_id                 Exon stable ID                            \n",
       "8    description                     Gene description                          \n",
       "9    chromosome_name                 Chromosome/scaffold name                  \n",
       "10   start_position                  Gene start (bp)                           \n",
       "11   end_position                    Gene end (bp)                             \n",
       "12   strand                          Strand                                    \n",
       "13   band                            Karyotype band                            \n",
       "14   transcript_start                Transcript start (bp)                     \n",
       "15   transcript_end                  Transcript end (bp)                       \n",
       "16   transcription_start_site        Transcription start site (TSS)            \n",
       "17   transcript_length               Transcript length (including UTRs and CDS)\n",
       "18   transcript_gencode_basic        GENCODE basic annotation                  \n",
       "19   external_gene_name              Gene name                                 \n",
       "20   external_gene_source            Source of gene name                       \n",
       "21   external_transcript_name        Transcript name                           \n",
       "22   external_transcript_source_name Source of transcript name                 \n",
       "23   transcript_count                Transcript count                          \n",
       "24   percentage_gene_gc_content      Gene % GC content                         \n",
       "25   gene_biotype                    Gene type                                 \n",
       "26   transcript_biotype              Transcript type                           \n",
       "27   source                          Source (gene)                             \n",
       "28   transcript_source               Source (transcript)                       \n",
       "29   version                         Version (gene)                            \n",
       "30   transcript_version              Version (transcript)                      \n",
       "⋮    ⋮                               ⋮                                         \n",
       "1424 5_utr_end                       5' UTR end                                \n",
       "1425 3_utr_start                     3' UTR start                              \n",
       "1426 3_utr_end                       3' UTR end                                \n",
       "1427 ensembl_transcript_id           Transcript stable ID                      \n",
       "1428 ensembl_transcript_id_version   Transcript stable ID version              \n",
       "1429 ensembl_peptide_id              Protein stable ID                         \n",
       "1430 ensembl_peptide_id_version      Protein stable ID version                 \n",
       "1431 transcript_biotype              Transcript type                           \n",
       "1432 transcript_version              Version (transcript)                      \n",
       "1433 peptide_version                 Version (protein)                         \n",
       "1434 strand                          Strand                                    \n",
       "1435 transcript_start                Transcript start (bp)                     \n",
       "1436 transcript_end                  Transcript end (bp)                       \n",
       "1437 transcription_start_site        Transcription start site (TSS)            \n",
       "1438 transcript_length               Transcript length (including UTRs and CDS)\n",
       "1439 cds_length                      CDS Length                                \n",
       "1440 cds_start                       CDS start                                 \n",
       "1441 cds_end                         CDS end                                   \n",
       "1442 ensembl_exon_id                 Exon stable ID                            \n",
       "1443 exon_chrom_start                Exon region start (bp)                    \n",
       "1444 exon_chrom_end                  Exon region end (bp)                      \n",
       "1445 strand                          Strand                                    \n",
       "1446 rank                            Exon rank in transcript                   \n",
       "1447 phase                           Start phase                               \n",
       "1448 end_phase                       End phase                                 \n",
       "1449 cdna_coding_start               cDNA coding start                         \n",
       "1450 cdna_coding_end                 cDNA coding end                           \n",
       "1451 genomic_coding_start            Genomic coding start                      \n",
       "1452 genomic_coding_end              Genomic coding end                        \n",
       "1453 is_constitutive                 Constitutive exon                         \n",
       "     page        \n",
       "1    feature_page\n",
       "2    feature_page\n",
       "3    feature_page\n",
       "4    feature_page\n",
       "5    feature_page\n",
       "6    feature_page\n",
       "7    feature_page\n",
       "8    feature_page\n",
       "9    feature_page\n",
       "10   feature_page\n",
       "11   feature_page\n",
       "12   feature_page\n",
       "13   feature_page\n",
       "14   feature_page\n",
       "15   feature_page\n",
       "16   feature_page\n",
       "17   feature_page\n",
       "18   feature_page\n",
       "19   feature_page\n",
       "20   feature_page\n",
       "21   feature_page\n",
       "22   feature_page\n",
       "23   feature_page\n",
       "24   feature_page\n",
       "25   feature_page\n",
       "26   feature_page\n",
       "27   feature_page\n",
       "28   feature_page\n",
       "29   feature_page\n",
       "30   feature_page\n",
       "⋮    ⋮           \n",
       "1424 sequences   \n",
       "1425 sequences   \n",
       "1426 sequences   \n",
       "1427 sequences   \n",
       "1428 sequences   \n",
       "1429 sequences   \n",
       "1430 sequences   \n",
       "1431 sequences   \n",
       "1432 sequences   \n",
       "1433 sequences   \n",
       "1434 sequences   \n",
       "1435 sequences   \n",
       "1436 sequences   \n",
       "1437 sequences   \n",
       "1438 sequences   \n",
       "1439 sequences   \n",
       "1440 sequences   \n",
       "1441 sequences   \n",
       "1442 sequences   \n",
       "1443 sequences   \n",
       "1444 sequences   \n",
       "1445 sequences   \n",
       "1446 sequences   \n",
       "1447 sequences   \n",
       "1448 sequences   \n",
       "1449 sequences   \n",
       "1450 sequences   \n",
       "1451 sequences   \n",
       "1452 sequences   \n",
       "1453 sequences   "
      ]
     },
     "metadata": {},
     "output_type": "display_data"
    }
   ],
   "source": [
    "listAttributes(grch37)"
   ]
  },
  {
   "cell_type": "code",
   "execution_count": 51,
   "metadata": {},
   "outputs": [
    {
     "data": {
      "text/html": [
       "<ol class=list-inline>\n",
       "\t<li>'ensembl_gene_id'</li>\n",
       "\t<li>'hgnc_symbol'</li>\n",
       "\t<li>'chromosome_name'</li>\n",
       "\t<li>'transcript_biotype'</li>\n",
       "</ol>\n"
      ],
      "text/latex": [
       "\\begin{enumerate*}\n",
       "\\item 'ensembl\\_gene\\_id'\n",
       "\\item 'hgnc\\_symbol'\n",
       "\\item 'chromosome\\_name'\n",
       "\\item 'transcript\\_biotype'\n",
       "\\end{enumerate*}\n"
      ],
      "text/markdown": [
       "1. 'ensembl_gene_id'\n",
       "2. 'hgnc_symbol'\n",
       "3. 'chromosome_name'\n",
       "4. 'transcript_biotype'\n",
       "\n",
       "\n"
      ],
      "text/plain": [
       "[1] \"ensembl_gene_id\"    \"hgnc_symbol\"        \"chromosome_name\"   \n",
       "[4] \"transcript_biotype\""
      ]
     },
     "metadata": {},
     "output_type": "display_data"
    }
   ],
   "source": [
    "colnames(gene_info_proteincoding)"
   ]
  },
  {
   "cell_type": "code",
   "execution_count": 63,
   "metadata": {},
   "outputs": [
    {
     "data": {
      "text/html": [
       "<ol class=list-inline>\n",
       "\t<li>'1'</li>\n",
       "\t<li>'HG1287_PATCH'</li>\n",
       "\t<li>'HG1292_PATCH'</li>\n",
       "\t<li>'HG1293_PATCH'</li>\n",
       "\t<li>'2'</li>\n",
       "\t<li>'HG999_1_PATCH'</li>\n",
       "</ol>\n"
      ],
      "text/latex": [
       "\\begin{enumerate*}\n",
       "\\item '1'\n",
       "\\item 'HG1287\\_PATCH'\n",
       "\\item 'HG1292\\_PATCH'\n",
       "\\item 'HG1293\\_PATCH'\n",
       "\\item '2'\n",
       "\\item 'HG999\\_1\\_PATCH'\n",
       "\\end{enumerate*}\n"
      ],
      "text/markdown": [
       "1. '1'\n",
       "2. 'HG1287_PATCH'\n",
       "3. 'HG1292_PATCH'\n",
       "4. 'HG1293_PATCH'\n",
       "5. '2'\n",
       "6. 'HG999_1_PATCH'\n",
       "\n",
       "\n"
      ],
      "text/plain": [
       "[1] \"1\"             \"HG1287_PATCH\"  \"HG1292_PATCH\"  \"HG1293_PATCH\" \n",
       "[5] \"2\"             \"HG999_1_PATCH\""
      ]
     },
     "metadata": {},
     "output_type": "display_data"
    }
   ],
   "source": [
    "head(unique(gene_info_proteincoding$chromosome_name))"
   ]
  },
  {
   "cell_type": "code",
   "execution_count": 53,
   "metadata": {},
   "outputs": [
    {
     "data": {
      "text/html": [
       "<table>\n",
       "<caption>A data.frame: 6 × 4</caption>\n",
       "<thead>\n",
       "\t<tr><th scope=col>ensembl_gene_id</th><th scope=col>hgnc_symbol</th><th scope=col>chromosome_name</th><th scope=col>transcript_biotype</th></tr>\n",
       "\t<tr><th scope=col>&lt;chr&gt;</th><th scope=col>&lt;chr&gt;</th><th scope=col>&lt;chr&gt;</th><th scope=col>&lt;chr&gt;</th></tr>\n",
       "</thead>\n",
       "<tbody>\n",
       "\t<tr><td>ENSG00000186092</td><td>OR4F5   </td><td>1</td><td>protein_coding</td></tr>\n",
       "\t<tr><td>ENSG00000187634</td><td>SAMD11  </td><td>1</td><td>protein_coding</td></tr>\n",
       "\t<tr><td>ENSG00000188976</td><td>NOC2L   </td><td>1</td><td>protein_coding</td></tr>\n",
       "\t<tr><td>ENSG00000187961</td><td>KLHL17  </td><td>1</td><td>protein_coding</td></tr>\n",
       "\t<tr><td>ENSG00000187583</td><td>PLEKHN1 </td><td>1</td><td>protein_coding</td></tr>\n",
       "\t<tr><td>ENSG00000187642</td><td>C1orf170</td><td>1</td><td>protein_coding</td></tr>\n",
       "</tbody>\n",
       "</table>\n"
      ],
      "text/latex": [
       "A data.frame: 6 × 4\n",
       "\\begin{tabular}{r|llll}\n",
       " ensembl\\_gene\\_id & hgnc\\_symbol & chromosome\\_name & transcript\\_biotype\\\\\n",
       " <chr> & <chr> & <chr> & <chr>\\\\\n",
       "\\hline\n",
       "\t ENSG00000186092 & OR4F5    & 1 & protein\\_coding\\\\\n",
       "\t ENSG00000187634 & SAMD11   & 1 & protein\\_coding\\\\\n",
       "\t ENSG00000188976 & NOC2L    & 1 & protein\\_coding\\\\\n",
       "\t ENSG00000187961 & KLHL17   & 1 & protein\\_coding\\\\\n",
       "\t ENSG00000187583 & PLEKHN1  & 1 & protein\\_coding\\\\\n",
       "\t ENSG00000187642 & C1orf170 & 1 & protein\\_coding\\\\\n",
       "\\end{tabular}\n"
      ],
      "text/markdown": [
       "\n",
       "A data.frame: 6 × 4\n",
       "\n",
       "| ensembl_gene_id &lt;chr&gt; | hgnc_symbol &lt;chr&gt; | chromosome_name &lt;chr&gt; | transcript_biotype &lt;chr&gt; |\n",
       "|---|---|---|---|\n",
       "| ENSG00000186092 | OR4F5    | 1 | protein_coding |\n",
       "| ENSG00000187634 | SAMD11   | 1 | protein_coding |\n",
       "| ENSG00000188976 | NOC2L    | 1 | protein_coding |\n",
       "| ENSG00000187961 | KLHL17   | 1 | protein_coding |\n",
       "| ENSG00000187583 | PLEKHN1  | 1 | protein_coding |\n",
       "| ENSG00000187642 | C1orf170 | 1 | protein_coding |\n",
       "\n"
      ],
      "text/plain": [
       "  ensembl_gene_id hgnc_symbol chromosome_name transcript_biotype\n",
       "1 ENSG00000186092 OR4F5       1               protein_coding    \n",
       "2 ENSG00000187634 SAMD11      1               protein_coding    \n",
       "3 ENSG00000188976 NOC2L       1               protein_coding    \n",
       "4 ENSG00000187961 KLHL17      1               protein_coding    \n",
       "5 ENSG00000187583 PLEKHN1     1               protein_coding    \n",
       "6 ENSG00000187642 C1orf170    1               protein_coding    "
      ]
     },
     "metadata": {},
     "output_type": "display_data"
    }
   ],
   "source": [
    "gene_info_proteincoding %>%\n",
    "    filter(chromosome_name == 1) %>%\n",
    "    head()"
   ]
  },
  {
   "cell_type": "code",
   "execution_count": 72,
   "metadata": {},
   "outputs": [],
   "source": [
    "gene_info_target <- gene_info %>% \n",
    "    filter(transcript_biotype %in% c(\"protein_coding\", \"lincRNA\",\"miRNA\"))"
   ]
  },
  {
   "cell_type": "code",
   "execution_count": 73,
   "metadata": {},
   "outputs": [
    {
     "data": {
      "text/html": [
       "<ol class=list-inline>\n",
       "\t<li>27208</li>\n",
       "\t<li>4</li>\n",
       "</ol>\n"
      ],
      "text/latex": [
       "\\begin{enumerate*}\n",
       "\\item 27208\n",
       "\\item 4\n",
       "\\end{enumerate*}\n"
      ],
      "text/markdown": [
       "1. 27208\n",
       "2. 4\n",
       "\n",
       "\n"
      ],
      "text/plain": [
       "[1] 27208     4"
      ]
     },
     "metadata": {},
     "output_type": "display_data"
    },
    {
     "data": {
      "text/html": [
       "<table>\n",
       "<caption>A data.frame: 6 × 4</caption>\n",
       "<thead>\n",
       "\t<tr><th scope=col>ensembl_gene_id</th><th scope=col>hgnc_symbol</th><th scope=col>chromosome_name</th><th scope=col>transcript_biotype</th></tr>\n",
       "\t<tr><th scope=col>&lt;chr&gt;</th><th scope=col>&lt;chr&gt;</th><th scope=col>&lt;chr&gt;</th><th scope=col>&lt;chr&gt;</th></tr>\n",
       "</thead>\n",
       "<tbody>\n",
       "\t<tr><td>ENSG00000228229</td><td>     </td><td>1</td><td>lincRNA       </td></tr>\n",
       "\t<tr><td>ENSG00000237445</td><td>     </td><td>1</td><td>lincRNA       </td></tr>\n",
       "\t<tr><td>ENSG00000231606</td><td>     </td><td>1</td><td>lincRNA       </td></tr>\n",
       "\t<tr><td>ENSG00000234593</td><td>     </td><td>1</td><td>lincRNA       </td></tr>\n",
       "\t<tr><td>ENSG00000228140</td><td>     </td><td>1</td><td>lincRNA       </td></tr>\n",
       "\t<tr><td>ENSG00000186092</td><td>OR4F5</td><td>1</td><td>protein_coding</td></tr>\n",
       "</tbody>\n",
       "</table>\n"
      ],
      "text/latex": [
       "A data.frame: 6 × 4\n",
       "\\begin{tabular}{r|llll}\n",
       " ensembl\\_gene\\_id & hgnc\\_symbol & chromosome\\_name & transcript\\_biotype\\\\\n",
       " <chr> & <chr> & <chr> & <chr>\\\\\n",
       "\\hline\n",
       "\t ENSG00000228229 &       & 1 & lincRNA       \\\\\n",
       "\t ENSG00000237445 &       & 1 & lincRNA       \\\\\n",
       "\t ENSG00000231606 &       & 1 & lincRNA       \\\\\n",
       "\t ENSG00000234593 &       & 1 & lincRNA       \\\\\n",
       "\t ENSG00000228140 &       & 1 & lincRNA       \\\\\n",
       "\t ENSG00000186092 & OR4F5 & 1 & protein\\_coding\\\\\n",
       "\\end{tabular}\n"
      ],
      "text/markdown": [
       "\n",
       "A data.frame: 6 × 4\n",
       "\n",
       "| ensembl_gene_id &lt;chr&gt; | hgnc_symbol &lt;chr&gt; | chromosome_name &lt;chr&gt; | transcript_biotype &lt;chr&gt; |\n",
       "|---|---|---|---|\n",
       "| ENSG00000228229 | <!----> | 1 | lincRNA        |\n",
       "| ENSG00000237445 | <!----> | 1 | lincRNA        |\n",
       "| ENSG00000231606 | <!----> | 1 | lincRNA        |\n",
       "| ENSG00000234593 | <!----> | 1 | lincRNA        |\n",
       "| ENSG00000228140 | <!----> | 1 | lincRNA        |\n",
       "| ENSG00000186092 | OR4F5 | 1 | protein_coding |\n",
       "\n"
      ],
      "text/plain": [
       "  ensembl_gene_id hgnc_symbol chromosome_name transcript_biotype\n",
       "1 ENSG00000228229             1               lincRNA           \n",
       "2 ENSG00000237445             1               lincRNA           \n",
       "3 ENSG00000231606             1               lincRNA           \n",
       "4 ENSG00000234593             1               lincRNA           \n",
       "5 ENSG00000228140             1               lincRNA           \n",
       "6 ENSG00000186092 OR4F5       1               protein_coding    "
      ]
     },
     "metadata": {},
     "output_type": "display_data"
    }
   ],
   "source": [
    "dim(gene_info_target)\n",
    "head(gene_info_target)"
   ]
  },
  {
   "cell_type": "code",
   "execution_count": 74,
   "metadata": {},
   "outputs": [],
   "source": [
    "save(gene_info_target, file = \"/ysm-gpfs/pi/zhao/zy92/projects/utmost_update/GTEX/gene_info_target.RData\")"
   ]
  },
  {
   "cell_type": "code",
   "execution_count": 54,
   "metadata": {},
   "outputs": [],
   "source": [
    "# split the gene \n",
    "gene_list <- list()\n",
    "for (i in 1:22) {\n",
    "    gene_list[[i]] <- gene_info_proteincoding %>% \n",
    "        filter(chromosome_name == UQ(i))\n",
    "}"
   ]
  },
  {
   "cell_type": "code",
   "execution_count": 55,
   "metadata": {},
   "outputs": [],
   "source": [
    "# split the gene \n",
    "gene_list <- list()\n",
    "for (i in 1:22) {\n",
    "    gene_list[[i]] <- gene_info_proteincoding %>% \n",
    "        filter(chromosome_name == !!(i))\n",
    "}"
   ]
  },
  {
   "cell_type": "code",
   "execution_count": 56,
   "metadata": {},
   "outputs": [
    {
     "data": {
      "text/html": [
       "<ol class=list-inline>\n",
       "\t<li>1016</li>\n",
       "\t<li>4</li>\n",
       "</ol>\n"
      ],
      "text/latex": [
       "\\begin{enumerate*}\n",
       "\\item 1016\n",
       "\\item 4\n",
       "\\end{enumerate*}\n"
      ],
      "text/markdown": [
       "1. 1016\n",
       "2. 4\n",
       "\n",
       "\n"
      ],
      "text/plain": [
       "[1] 1016    4"
      ]
     },
     "metadata": {},
     "output_type": "display_data"
    }
   ],
   "source": [
    "dim(gene_list[[12]])"
   ]
  },
  {
   "cell_type": "code",
   "execution_count": 57,
   "metadata": {},
   "outputs": [],
   "source": [
    "save(gene_list, file = \"/ysm-gpfs/pi/zhao/zy92/projects/utmost_update/GTEX/proteingene_list.RData\")"
   ]
  },
  {
   "cell_type": "code",
   "execution_count": null,
   "metadata": {},
   "outputs": [],
   "source": []
  },
  {
   "cell_type": "code",
   "execution_count": null,
   "metadata": {},
   "outputs": [],
   "source": [
    "\n",
    "\n"
   ]
  },
  {
   "cell_type": "code",
   "execution_count": 58,
   "metadata": {},
   "outputs": [],
   "source": [
    "### preparing for the gene_id"
   ]
  },
  {
   "cell_type": "code",
   "execution_count": 59,
   "metadata": {},
   "outputs": [],
   "source": [
    "#library(biomaRt)\n",
    "\n",
    "\n",
    "#head(listFilters(grch37))\n",
    "#listAttributes(grch37)\n",
    "\n",
    "#gene_info <- getBM(filters= c(\"ensembl_gene_id\",\"biotype\"), attributes= c(\"ensembl_gene_id\",'hgnc_symbol','chromosome_name'), values= list(c(\"ENSG00000130203.5\"),\"protein_coding\"), mart= grch37)\n",
    "\n",
    "## get ensembl ID\n",
    "# helper <- function(str){\n",
    "#         unlist(strsplit(str, '\\\\.'))[1]\n",
    "# }\n",
    "# get_gene_index <- function(chr){\n",
    "#         glist = dir(paste0(\"/ysm-gpfs/pi/zhao/from_louise/yh367/GTEX/adjusted_expr1/chr\", chr));\n",
    "#         tmp = sapply(glist, helper)\n",
    "#         unname(tmp)\n",
    "# }\n",
    "\n",
    "grch37 = useMart(biomart=\"ENSEMBL_MART_ENSEMBL\", host=\"grch37.ensembl.org\", path=\"/biomart/martservice\", dataset=\"hsapiens_gene_ensembl\")\n",
    "pc_gene = list()\n",
    "pc_num = c()\n",
    "org_num = c()\n",
    "for(chr in 1:22){\n",
    "        esd = nrow(gene_list[[chr]])\n",
    "        gene_info = getBM(filters= c(\"ensembl_gene_id\",\"transcript_biotype\"), attributes= c(\"ensembl_gene_id\",'hgnc_symbol','chromosome_name'), values= list(esd,\"protein_coding\"), mart= grch37)\n",
    "        pc_gene[[chr]] = gene_list[[chr]]\n",
    "        pc_num = c(pc_num, nrow(gene_info))\n",
    "        org_num = c(org_num, length(esd))\n",
    "}\n",
    "save(pc_gene, pc_num, org_num, file=\"/ysm-gpfs/pi/zhao/zy92/projects/utmost_update/GTEX/protein_coding.RData\")"
   ]
  },
  {
   "cell_type": "code",
   "execution_count": 60,
   "metadata": {},
   "outputs": [
    {
     "data": {
      "text/html": [
       "0"
      ],
      "text/latex": [
       "0"
      ],
      "text/markdown": [
       "0"
      ],
      "text/plain": [
       "[1] 0"
      ]
     },
     "metadata": {},
     "output_type": "display_data"
    }
   ],
   "source": [
    "length(names(gene_list))"
   ]
  },
  {
   "cell_type": "code",
   "execution_count": 61,
   "metadata": {},
   "outputs": [],
   "source": [
    "normalized_expression <- fread(\"/ysm-gpfs/pi/zhao-data/zy92/GTEx_V8/GTEx_Analysis_v8_eQTL_expression_matrices/Whole_Blood.v8.normalized_expression.bed.gz\")"
   ]
  },
  {
   "cell_type": "code",
   "execution_count": 62,
   "metadata": {},
   "outputs": [
    {
     "data": {
      "text/html": [
       "<ol class=list-inline>\n",
       "\t<li>20315</li>\n",
       "\t<li>674</li>\n",
       "</ol>\n"
      ],
      "text/latex": [
       "\\begin{enumerate*}\n",
       "\\item 20315\n",
       "\\item 674\n",
       "\\end{enumerate*}\n"
      ],
      "text/markdown": [
       "1. 20315\n",
       "2. 674\n",
       "\n",
       "\n"
      ],
      "text/plain": [
       "[1] 20315   674"
      ]
     },
     "metadata": {},
     "output_type": "display_data"
    }
   ],
   "source": [
    "dim(normalized_expression)"
   ]
  },
  {
   "cell_type": "code",
   "execution_count": 78,
   "metadata": {},
   "outputs": [
    {
     "data": {
      "text/html": [
       "<ol class=list-inline>\n",
       "\t<li>27208</li>\n",
       "\t<li>4</li>\n",
       "</ol>\n"
      ],
      "text/latex": [
       "\\begin{enumerate*}\n",
       "\\item 27208\n",
       "\\item 4\n",
       "\\end{enumerate*}\n"
      ],
      "text/markdown": [
       "1. 27208\n",
       "2. 4\n",
       "\n",
       "\n"
      ],
      "text/plain": [
       "[1] 27208     4"
      ]
     },
     "metadata": {},
     "output_type": "display_data"
    }
   ],
   "source": [
    "dim(gene_info_target)"
   ]
  },
  {
   "cell_type": "code",
   "execution_count": 79,
   "metadata": {},
   "outputs": [
    {
     "data": {
      "text/html": [
       "<table>\n",
       "<caption>A data.frame: 6 × 4</caption>\n",
       "<thead>\n",
       "\t<tr><th scope=col>ensembl_gene_id</th><th scope=col>hgnc_symbol</th><th scope=col>chromosome_name</th><th scope=col>transcript_biotype</th></tr>\n",
       "\t<tr><th scope=col>&lt;chr&gt;</th><th scope=col>&lt;chr&gt;</th><th scope=col>&lt;chr&gt;</th><th scope=col>&lt;chr&gt;</th></tr>\n",
       "</thead>\n",
       "<tbody>\n",
       "\t<tr><td>ENSG00000228229</td><td>     </td><td>1</td><td>lincRNA       </td></tr>\n",
       "\t<tr><td>ENSG00000237445</td><td>     </td><td>1</td><td>lincRNA       </td></tr>\n",
       "\t<tr><td>ENSG00000231606</td><td>     </td><td>1</td><td>lincRNA       </td></tr>\n",
       "\t<tr><td>ENSG00000234593</td><td>     </td><td>1</td><td>lincRNA       </td></tr>\n",
       "\t<tr><td>ENSG00000228140</td><td>     </td><td>1</td><td>lincRNA       </td></tr>\n",
       "\t<tr><td>ENSG00000186092</td><td>OR4F5</td><td>1</td><td>protein_coding</td></tr>\n",
       "</tbody>\n",
       "</table>\n"
      ],
      "text/latex": [
       "A data.frame: 6 × 4\n",
       "\\begin{tabular}{r|llll}\n",
       " ensembl\\_gene\\_id & hgnc\\_symbol & chromosome\\_name & transcript\\_biotype\\\\\n",
       " <chr> & <chr> & <chr> & <chr>\\\\\n",
       "\\hline\n",
       "\t ENSG00000228229 &       & 1 & lincRNA       \\\\\n",
       "\t ENSG00000237445 &       & 1 & lincRNA       \\\\\n",
       "\t ENSG00000231606 &       & 1 & lincRNA       \\\\\n",
       "\t ENSG00000234593 &       & 1 & lincRNA       \\\\\n",
       "\t ENSG00000228140 &       & 1 & lincRNA       \\\\\n",
       "\t ENSG00000186092 & OR4F5 & 1 & protein\\_coding\\\\\n",
       "\\end{tabular}\n"
      ],
      "text/markdown": [
       "\n",
       "A data.frame: 6 × 4\n",
       "\n",
       "| ensembl_gene_id &lt;chr&gt; | hgnc_symbol &lt;chr&gt; | chromosome_name &lt;chr&gt; | transcript_biotype &lt;chr&gt; |\n",
       "|---|---|---|---|\n",
       "| ENSG00000228229 | <!----> | 1 | lincRNA        |\n",
       "| ENSG00000237445 | <!----> | 1 | lincRNA        |\n",
       "| ENSG00000231606 | <!----> | 1 | lincRNA        |\n",
       "| ENSG00000234593 | <!----> | 1 | lincRNA        |\n",
       "| ENSG00000228140 | <!----> | 1 | lincRNA        |\n",
       "| ENSG00000186092 | OR4F5 | 1 | protein_coding |\n",
       "\n"
      ],
      "text/plain": [
       "  ensembl_gene_id hgnc_symbol chromosome_name transcript_biotype\n",
       "1 ENSG00000228229             1               lincRNA           \n",
       "2 ENSG00000237445             1               lincRNA           \n",
       "3 ENSG00000231606             1               lincRNA           \n",
       "4 ENSG00000234593             1               lincRNA           \n",
       "5 ENSG00000228140             1               lincRNA           \n",
       "6 ENSG00000186092 OR4F5       1               protein_coding    "
      ]
     },
     "metadata": {},
     "output_type": "display_data"
    }
   ],
   "source": [
    "head(gene_info_target)"
   ]
  },
  {
   "cell_type": "code",
   "execution_count": null,
   "metadata": {},
   "outputs": [],
   "source": []
  },
  {
   "cell_type": "code",
   "execution_count": 80,
   "metadata": {},
   "outputs": [],
   "source": [
    "# \n",
    "tissue_idx <- function(tissue_vec, big_tissue_vec) {\n",
    "    idx_list <- list()\n",
    "    for (tissue in tissue_vec) {\n",
    "        idx_list[[tissue]] <- sample_annotation$SAMPID[which(big_tissue_vec == tissue)]\n",
    "    }\n",
    "    return(idx_list)\n",
    "}\n",
    "\n",
    "idx_list <- tissue_idx(tissue_vec, sample_annotation$SMTSD)\n",
    "\n",
    "output_genes <- function(tissue_vec, idx_list, output_dir) {\n",
    "    # iterate all the chr\n",
    "    for (i in 1:22) {\n",
    "        dir_name <- paste0(output_dir, \"/chr\", i)\n",
    "        if (dir.exists(dir_name) == F) {\n",
    "            dir.create(dir_name)\n",
    "        } else {\n",
    "            # write the gene\n",
    "            gene_file_name <- paste0(dir_name)\n",
    "        }\n",
    "    }\n",
    "    \n",
    "}"
   ]
  },
  {
   "cell_type": "code",
   "execution_count": 81,
   "metadata": {},
   "outputs": [
    {
     "data": {
      "text/html": [
       "<ol class=list-inline>\n",
       "\t<li>'Whole Blood'</li>\n",
       "\t<li>'Brain - Frontal Cortex (BA9)'</li>\n",
       "\t<li>'Adipose - Subcutaneous'</li>\n",
       "\t<li>'Muscle - Skeletal'</li>\n",
       "\t<li>'Artery - Tibial'</li>\n",
       "\t<li>'Artery - Coronary'</li>\n",
       "\t<li>'Heart - Atrial Appendage'</li>\n",
       "\t<li>'Adipose - Visceral (Omentum)'</li>\n",
       "\t<li>'Ovary'</li>\n",
       "\t<li>'Uterus'</li>\n",
       "\t<li>'Vagina'</li>\n",
       "\t<li>'Breast - Mammary Tissue'</li>\n",
       "\t<li>'Skin - Not Sun Exposed (Suprapubic)'</li>\n",
       "\t<li>'Minor Salivary Gland'</li>\n",
       "\t<li>'Brain - Cortex'</li>\n",
       "\t<li>'Adrenal Gland'</li>\n",
       "\t<li>'Thyroid'</li>\n",
       "\t<li>'Lung'</li>\n",
       "\t<li>'Spleen'</li>\n",
       "\t<li>'Pancreas'</li>\n",
       "\t<li>'Esophagus - Muscularis'</li>\n",
       "\t<li>'Esophagus - Mucosa'</li>\n",
       "\t<li>'Esophagus - Gastroesophageal Junction'</li>\n",
       "\t<li>'Stomach'</li>\n",
       "\t<li>'Colon - Sigmoid'</li>\n",
       "\t<li>'Small Intestine - Terminal Ileum'</li>\n",
       "\t<li>'Colon - Transverse'</li>\n",
       "\t<li>'Prostate'</li>\n",
       "\t<li>'Testis'</li>\n",
       "\t<li>'Skin - Sun Exposed (Lower leg)'</li>\n",
       "\t<li>'Nerve - Tibial'</li>\n",
       "\t<li>'Heart - Left Ventricle'</li>\n",
       "\t<li>'Pituitary'</li>\n",
       "\t<li>'Brain - Cerebellum'</li>\n",
       "\t<li>'Cells - Cultured fibroblasts'</li>\n",
       "\t<li>'Artery - Aorta'</li>\n",
       "\t<li>'Cells - EBV-transformed lymphocytes'</li>\n",
       "\t<li>'Brain - Cerebellar Hemisphere'</li>\n",
       "\t<li>'Brain - Caudate (basal ganglia)'</li>\n",
       "\t<li>'Brain - Nucleus accumbens (basal ganglia)'</li>\n",
       "\t<li>'Brain - Putamen (basal ganglia)'</li>\n",
       "\t<li>'Brain - Hypothalamus'</li>\n",
       "\t<li>'Brain - Spinal cord (cervical c-1)'</li>\n",
       "\t<li>'Liver'</li>\n",
       "\t<li>'Brain - Hippocampus'</li>\n",
       "\t<li>'Brain - Anterior cingulate cortex (BA24)'</li>\n",
       "\t<li>'Brain - Substantia nigra'</li>\n",
       "\t<li>'Kidney - Cortex'</li>\n",
       "\t<li>'Brain - Amygdala'</li>\n",
       "\t<li>'Cervix - Ectocervix'</li>\n",
       "\t<li>'Fallopian Tube'</li>\n",
       "\t<li>'Cervix - Endocervix'</li>\n",
       "\t<li>'Bladder'</li>\n",
       "\t<li>'Kidney - Medulla'</li>\n",
       "\t<li>'Cells - Leukemia cell line (CML)'</li>\n",
       "</ol>\n"
      ],
      "text/latex": [
       "\\begin{enumerate*}\n",
       "\\item 'Whole Blood'\n",
       "\\item 'Brain - Frontal Cortex (BA9)'\n",
       "\\item 'Adipose - Subcutaneous'\n",
       "\\item 'Muscle - Skeletal'\n",
       "\\item 'Artery - Tibial'\n",
       "\\item 'Artery - Coronary'\n",
       "\\item 'Heart - Atrial Appendage'\n",
       "\\item 'Adipose - Visceral (Omentum)'\n",
       "\\item 'Ovary'\n",
       "\\item 'Uterus'\n",
       "\\item 'Vagina'\n",
       "\\item 'Breast - Mammary Tissue'\n",
       "\\item 'Skin - Not Sun Exposed (Suprapubic)'\n",
       "\\item 'Minor Salivary Gland'\n",
       "\\item 'Brain - Cortex'\n",
       "\\item 'Adrenal Gland'\n",
       "\\item 'Thyroid'\n",
       "\\item 'Lung'\n",
       "\\item 'Spleen'\n",
       "\\item 'Pancreas'\n",
       "\\item 'Esophagus - Muscularis'\n",
       "\\item 'Esophagus - Mucosa'\n",
       "\\item 'Esophagus - Gastroesophageal Junction'\n",
       "\\item 'Stomach'\n",
       "\\item 'Colon - Sigmoid'\n",
       "\\item 'Small Intestine - Terminal Ileum'\n",
       "\\item 'Colon - Transverse'\n",
       "\\item 'Prostate'\n",
       "\\item 'Testis'\n",
       "\\item 'Skin - Sun Exposed (Lower leg)'\n",
       "\\item 'Nerve - Tibial'\n",
       "\\item 'Heart - Left Ventricle'\n",
       "\\item 'Pituitary'\n",
       "\\item 'Brain - Cerebellum'\n",
       "\\item 'Cells - Cultured fibroblasts'\n",
       "\\item 'Artery - Aorta'\n",
       "\\item 'Cells - EBV-transformed lymphocytes'\n",
       "\\item 'Brain - Cerebellar Hemisphere'\n",
       "\\item 'Brain - Caudate (basal ganglia)'\n",
       "\\item 'Brain - Nucleus accumbens (basal ganglia)'\n",
       "\\item 'Brain - Putamen (basal ganglia)'\n",
       "\\item 'Brain - Hypothalamus'\n",
       "\\item 'Brain - Spinal cord (cervical c-1)'\n",
       "\\item 'Liver'\n",
       "\\item 'Brain - Hippocampus'\n",
       "\\item 'Brain - Anterior cingulate cortex (BA24)'\n",
       "\\item 'Brain - Substantia nigra'\n",
       "\\item 'Kidney - Cortex'\n",
       "\\item 'Brain - Amygdala'\n",
       "\\item 'Cervix - Ectocervix'\n",
       "\\item 'Fallopian Tube'\n",
       "\\item 'Cervix - Endocervix'\n",
       "\\item 'Bladder'\n",
       "\\item 'Kidney - Medulla'\n",
       "\\item 'Cells - Leukemia cell line (CML)'\n",
       "\\end{enumerate*}\n"
      ],
      "text/markdown": [
       "1. 'Whole Blood'\n",
       "2. 'Brain - Frontal Cortex (BA9)'\n",
       "3. 'Adipose - Subcutaneous'\n",
       "4. 'Muscle - Skeletal'\n",
       "5. 'Artery - Tibial'\n",
       "6. 'Artery - Coronary'\n",
       "7. 'Heart - Atrial Appendage'\n",
       "8. 'Adipose - Visceral (Omentum)'\n",
       "9. 'Ovary'\n",
       "10. 'Uterus'\n",
       "11. 'Vagina'\n",
       "12. 'Breast - Mammary Tissue'\n",
       "13. 'Skin - Not Sun Exposed (Suprapubic)'\n",
       "14. 'Minor Salivary Gland'\n",
       "15. 'Brain - Cortex'\n",
       "16. 'Adrenal Gland'\n",
       "17. 'Thyroid'\n",
       "18. 'Lung'\n",
       "19. 'Spleen'\n",
       "20. 'Pancreas'\n",
       "21. 'Esophagus - Muscularis'\n",
       "22. 'Esophagus - Mucosa'\n",
       "23. 'Esophagus - Gastroesophageal Junction'\n",
       "24. 'Stomach'\n",
       "25. 'Colon - Sigmoid'\n",
       "26. 'Small Intestine - Terminal Ileum'\n",
       "27. 'Colon - Transverse'\n",
       "28. 'Prostate'\n",
       "29. 'Testis'\n",
       "30. 'Skin - Sun Exposed (Lower leg)'\n",
       "31. 'Nerve - Tibial'\n",
       "32. 'Heart - Left Ventricle'\n",
       "33. 'Pituitary'\n",
       "34. 'Brain - Cerebellum'\n",
       "35. 'Cells - Cultured fibroblasts'\n",
       "36. 'Artery - Aorta'\n",
       "37. 'Cells - EBV-transformed lymphocytes'\n",
       "38. 'Brain - Cerebellar Hemisphere'\n",
       "39. 'Brain - Caudate (basal ganglia)'\n",
       "40. 'Brain - Nucleus accumbens (basal ganglia)'\n",
       "41. 'Brain - Putamen (basal ganglia)'\n",
       "42. 'Brain - Hypothalamus'\n",
       "43. 'Brain - Spinal cord (cervical c-1)'\n",
       "44. 'Liver'\n",
       "45. 'Brain - Hippocampus'\n",
       "46. 'Brain - Anterior cingulate cortex (BA24)'\n",
       "47. 'Brain - Substantia nigra'\n",
       "48. 'Kidney - Cortex'\n",
       "49. 'Brain - Amygdala'\n",
       "50. 'Cervix - Ectocervix'\n",
       "51. 'Fallopian Tube'\n",
       "52. 'Cervix - Endocervix'\n",
       "53. 'Bladder'\n",
       "54. 'Kidney - Medulla'\n",
       "55. 'Cells - Leukemia cell line (CML)'\n",
       "\n",
       "\n"
      ],
      "text/plain": [
       " [1] \"Whole Blood\"                              \n",
       " [2] \"Brain - Frontal Cortex (BA9)\"             \n",
       " [3] \"Adipose - Subcutaneous\"                   \n",
       " [4] \"Muscle - Skeletal\"                        \n",
       " [5] \"Artery - Tibial\"                          \n",
       " [6] \"Artery - Coronary\"                        \n",
       " [7] \"Heart - Atrial Appendage\"                 \n",
       " [8] \"Adipose - Visceral (Omentum)\"             \n",
       " [9] \"Ovary\"                                    \n",
       "[10] \"Uterus\"                                   \n",
       "[11] \"Vagina\"                                   \n",
       "[12] \"Breast - Mammary Tissue\"                  \n",
       "[13] \"Skin - Not Sun Exposed (Suprapubic)\"      \n",
       "[14] \"Minor Salivary Gland\"                     \n",
       "[15] \"Brain - Cortex\"                           \n",
       "[16] \"Adrenal Gland\"                            \n",
       "[17] \"Thyroid\"                                  \n",
       "[18] \"Lung\"                                     \n",
       "[19] \"Spleen\"                                   \n",
       "[20] \"Pancreas\"                                 \n",
       "[21] \"Esophagus - Muscularis\"                   \n",
       "[22] \"Esophagus - Mucosa\"                       \n",
       "[23] \"Esophagus - Gastroesophageal Junction\"    \n",
       "[24] \"Stomach\"                                  \n",
       "[25] \"Colon - Sigmoid\"                          \n",
       "[26] \"Small Intestine - Terminal Ileum\"         \n",
       "[27] \"Colon - Transverse\"                       \n",
       "[28] \"Prostate\"                                 \n",
       "[29] \"Testis\"                                   \n",
       "[30] \"Skin - Sun Exposed (Lower leg)\"           \n",
       "[31] \"Nerve - Tibial\"                           \n",
       "[32] \"Heart - Left Ventricle\"                   \n",
       "[33] \"Pituitary\"                                \n",
       "[34] \"Brain - Cerebellum\"                       \n",
       "[35] \"Cells - Cultured fibroblasts\"             \n",
       "[36] \"Artery - Aorta\"                           \n",
       "[37] \"Cells - EBV-transformed lymphocytes\"      \n",
       "[38] \"Brain - Cerebellar Hemisphere\"            \n",
       "[39] \"Brain - Caudate (basal ganglia)\"          \n",
       "[40] \"Brain - Nucleus accumbens (basal ganglia)\"\n",
       "[41] \"Brain - Putamen (basal ganglia)\"          \n",
       "[42] \"Brain - Hypothalamus\"                     \n",
       "[43] \"Brain - Spinal cord (cervical c-1)\"       \n",
       "[44] \"Liver\"                                    \n",
       "[45] \"Brain - Hippocampus\"                      \n",
       "[46] \"Brain - Anterior cingulate cortex (BA24)\" \n",
       "[47] \"Brain - Substantia nigra\"                 \n",
       "[48] \"Kidney - Cortex\"                          \n",
       "[49] \"Brain - Amygdala\"                         \n",
       "[50] \"Cervix - Ectocervix\"                      \n",
       "[51] \"Fallopian Tube\"                           \n",
       "[52] \"Cervix - Endocervix\"                      \n",
       "[53] \"Bladder\"                                  \n",
       "[54] \"Kidney - Medulla\"                         \n",
       "[55] \"Cells - Leukemia cell line (CML)\"         "
      ]
     },
     "metadata": {},
     "output_type": "display_data"
    }
   ],
   "source": [
    "names(idx_list)"
   ]
  },
  {
   "cell_type": "code",
   "execution_count": 13,
   "metadata": {},
   "outputs": [
    {
     "data": {
      "text/html": [],
      "text/latex": [],
      "text/markdown": [],
      "text/plain": [
       "character(0)"
      ]
     },
     "metadata": {},
     "output_type": "display_data"
    }
   ],
   "source": [
    "inter_dir <- \"/ysm-gpfs//pi/zhao/zy92\"\n",
    "inter_files <- list.files(\"/ysm-gpfs/pi/zhao/zy92/projects/utmost_update/GTEX/adjusted_expr/\")\n",
    "eigen_dr <- inter_files\n",
    "inter_files"
   ]
  },
  {
   "cell_type": "code",
   "execution_count": 12,
   "metadata": {},
   "outputs": [
    {
     "data": {
      "text/html": [
       "0"
      ],
      "text/latex": [
       "0"
      ],
      "text/markdown": [
       "0"
      ],
      "text/plain": [
       "[1] 0"
      ]
     },
     "metadata": {},
     "output_type": "display_data"
    }
   ],
   "source": [
    "length(inter_files)"
   ]
  },
  {
   "cell_type": "code",
   "execution_count": 10,
   "metadata": {},
   "outputs": [
    {
     "ename": "ERROR",
     "evalue": "Error in type(inter_files): could not find function \"type\"\n",
     "output_type": "error",
     "traceback": [
      "Error in type(inter_files): could not find function \"type\"\nTraceback:\n"
     ]
    }
   ],
   "source": [
    "type(inter_files)\n"
   ]
  },
  {
   "cell_type": "code",
   "execution_count": null,
   "metadata": {},
   "outputs": [],
   "source": [
    "inter_files"
   ]
  }
 ],
 "metadata": {
  "kernelspec": {
   "display_name": "R",
   "language": "R",
   "name": "ir"
  },
  "language_info": {
   "codemirror_mode": "r",
   "file_extension": ".r",
   "mimetype": "text/x-r-source",
   "name": "R",
   "pygments_lexer": "r",
   "version": "3.5.0"
  }
 },
 "nbformat": 4,
 "nbformat_minor": 4
}
