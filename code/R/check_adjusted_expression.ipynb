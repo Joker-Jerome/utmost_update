{
 "cells": [
  {
   "cell_type": "code",
   "execution_count": 1,
   "metadata": {},
   "outputs": [],
   "source": [
    "suppressPackageStartupMessages(library(formattable))\n",
    "suppressPackageStartupMessages(library(dplyr))\n",
    "suppressPackageStartupMessages(library(data.table))\n",
    "suppressPackageStartupMessages(library(kableExtra))\n",
    "suppressPackageStartupMessages(library(RSQLite))"
   ]
  },
  {
   "cell_type": "code",
   "execution_count": 3,
   "metadata": {},
   "outputs": [],
   "source": [
    "gene_list <- list()\n",
    "for (i in 1:22) {\n",
    "    file_name <- paste0(\"/ysm-gpfs/pi/zhao-data/wl382/cWAS/scripts/zeors_genes_chr\", i, \".txt\")\n",
    "    tmp_df <- as.data.frame(fread(file_name)) \n",
    "    gene_list[[i]] <- tmp_df \n",
    "}"
   ]
  },
  {
   "cell_type": "code",
   "execution_count": 8,
   "metadata": {},
   "outputs": [
    {
     "data": {
      "text/html": [
       "202"
      ],
      "text/latex": [
       "202"
      ],
      "text/markdown": [
       "202"
      ],
      "text/plain": [
       "[1] 202"
      ]
     },
     "metadata": {},
     "output_type": "display_data"
    }
   ],
   "source": [
    "length(unique(gene_list[[1]]$gene))"
   ]
  },
  {
   "cell_type": "code",
   "execution_count": 9,
   "metadata": {},
   "outputs": [
    {
     "data": {
      "text/html": [
       "243"
      ],
      "text/latex": [
       "243"
      ],
      "text/markdown": [
       "243"
      ],
      "text/plain": [
       "[1] 243"
      ]
     },
     "metadata": {},
     "output_type": "display_data"
    }
   ],
   "source": [
    "length(unique(gene_list[[2]]$gene))"
   ]
  },
  {
   "cell_type": "code",
   "execution_count": 10,
   "metadata": {},
   "outputs": [
    {
     "data": {
      "text/html": [
       "145"
      ],
      "text/latex": [
       "145"
      ],
      "text/markdown": [
       "145"
      ],
      "text/plain": [
       "[1] 145"
      ]
     },
     "metadata": {},
     "output_type": "display_data"
    }
   ],
   "source": [
    "length(unique(gene_list[[3]]$gene))"
   ]
  },
  {
   "cell_type": "code",
   "execution_count": 12,
   "metadata": {},
   "outputs": [
    {
     "data": {
      "text/html": [
       "220"
      ],
      "text/latex": [
       "220"
      ],
      "text/markdown": [
       "220"
      ],
      "text/plain": [
       "[1] 220"
      ]
     },
     "metadata": {},
     "output_type": "display_data"
    }
   ],
   "source": [
    "length(unique(gene_list[[4]]$gene))"
   ]
  },
  {
   "cell_type": "code",
   "execution_count": 13,
   "metadata": {},
   "outputs": [],
   "source": [
    "unique_gene_number <- lapply(gene_list, function(x) length(unique(x$gene)))"
   ]
  },
  {
   "cell_type": "code",
   "execution_count": 14,
   "metadata": {},
   "outputs": [
    {
     "data": {
      "text/html": [
       "<ol>\n",
       "\t<li>202</li>\n",
       "\t<li>243</li>\n",
       "\t<li>145</li>\n",
       "\t<li>220</li>\n",
       "\t<li>212</li>\n",
       "\t<li>132</li>\n",
       "\t<li>117</li>\n",
       "\t<li>192</li>\n",
       "\t<li>117</li>\n",
       "\t<li>109</li>\n",
       "\t<li>191</li>\n",
       "\t<li>127</li>\n",
       "\t<li>97</li>\n",
       "\t<li>136</li>\n",
       "\t<li>101</li>\n",
       "\t<li>115</li>\n",
       "\t<li>66</li>\n",
       "\t<li>92</li>\n",
       "\t<li>99</li>\n",
       "\t<li>69</li>\n",
       "\t<li>86</li>\n",
       "\t<li>41</li>\n",
       "</ol>\n"
      ],
      "text/latex": [
       "\\begin{enumerate}\n",
       "\\item 202\n",
       "\\item 243\n",
       "\\item 145\n",
       "\\item 220\n",
       "\\item 212\n",
       "\\item 132\n",
       "\\item 117\n",
       "\\item 192\n",
       "\\item 117\n",
       "\\item 109\n",
       "\\item 191\n",
       "\\item 127\n",
       "\\item 97\n",
       "\\item 136\n",
       "\\item 101\n",
       "\\item 115\n",
       "\\item 66\n",
       "\\item 92\n",
       "\\item 99\n",
       "\\item 69\n",
       "\\item 86\n",
       "\\item 41\n",
       "\\end{enumerate}\n"
      ],
      "text/markdown": [
       "1. 202\n",
       "2. 243\n",
       "3. 145\n",
       "4. 220\n",
       "5. 212\n",
       "6. 132\n",
       "7. 117\n",
       "8. 192\n",
       "9. 117\n",
       "10. 109\n",
       "11. 191\n",
       "12. 127\n",
       "13. 97\n",
       "14. 136\n",
       "15. 101\n",
       "16. 115\n",
       "17. 66\n",
       "18. 92\n",
       "19. 99\n",
       "20. 69\n",
       "21. 86\n",
       "22. 41\n",
       "\n",
       "\n"
      ],
      "text/plain": [
       "[[1]]\n",
       "[1] 202\n",
       "\n",
       "[[2]]\n",
       "[1] 243\n",
       "\n",
       "[[3]]\n",
       "[1] 145\n",
       "\n",
       "[[4]]\n",
       "[1] 220\n",
       "\n",
       "[[5]]\n",
       "[1] 212\n",
       "\n",
       "[[6]]\n",
       "[1] 132\n",
       "\n",
       "[[7]]\n",
       "[1] 117\n",
       "\n",
       "[[8]]\n",
       "[1] 192\n",
       "\n",
       "[[9]]\n",
       "[1] 117\n",
       "\n",
       "[[10]]\n",
       "[1] 109\n",
       "\n",
       "[[11]]\n",
       "[1] 191\n",
       "\n",
       "[[12]]\n",
       "[1] 127\n",
       "\n",
       "[[13]]\n",
       "[1] 97\n",
       "\n",
       "[[14]]\n",
       "[1] 136\n",
       "\n",
       "[[15]]\n",
       "[1] 101\n",
       "\n",
       "[[16]]\n",
       "[1] 115\n",
       "\n",
       "[[17]]\n",
       "[1] 66\n",
       "\n",
       "[[18]]\n",
       "[1] 92\n",
       "\n",
       "[[19]]\n",
       "[1] 99\n",
       "\n",
       "[[20]]\n",
       "[1] 69\n",
       "\n",
       "[[21]]\n",
       "[1] 86\n",
       "\n",
       "[[22]]\n",
       "[1] 41\n"
      ]
     },
     "metadata": {},
     "output_type": "display_data"
    }
   ],
   "source": [
    "unique_gene_number"
   ]
  },
  {
   "cell_type": "code",
   "execution_count": 15,
   "metadata": {},
   "outputs": [
    {
     "data": {
      "text/html": [
       "<table>\n",
       "<caption>A data.frame: 2695 × 3</caption>\n",
       "<thead>\n",
       "\t<tr><th scope=col>gene</th><th scope=col>chr</th><th scope=col>tissue</th></tr>\n",
       "\t<tr><th scope=col>&lt;chr&gt;</th><th scope=col>&lt;int&gt;</th><th scope=col>&lt;chr&gt;</th></tr>\n",
       "</thead>\n",
       "<tbody>\n",
       "\t<tr><td>ENSG00000000457</td><td>1</td><td>Brain_Amygdala                       </td></tr>\n",
       "\t<tr><td>ENSG00000000457</td><td>1</td><td>Brain_Cerebellar_Hemisphere          </td></tr>\n",
       "\t<tr><td>ENSG00000000457</td><td>1</td><td>Brain_Cerebellum                     </td></tr>\n",
       "\t<tr><td>ENSG00000000457</td><td>1</td><td>Brain_Frontal_Cortex_BA9             </td></tr>\n",
       "\t<tr><td>ENSG00000000457</td><td>1</td><td>Brain_Spinal_cord_cervical_c-1       </td></tr>\n",
       "\t<tr><td>ENSG00000000457</td><td>1</td><td>Brain_Substantia_nigra               </td></tr>\n",
       "\t<tr><td>ENSG00000000457</td><td>1</td><td>Cells_Cultured_fibroblasts           </td></tr>\n",
       "\t<tr><td>ENSG00000000457</td><td>1</td><td>Colon_Transverse                     </td></tr>\n",
       "\t<tr><td>ENSG00000000457</td><td>1</td><td>Liver                                </td></tr>\n",
       "\t<tr><td>ENSG00000000457</td><td>1</td><td>Minor_Salivary_Gland                 </td></tr>\n",
       "\t<tr><td>ENSG00000000457</td><td>1</td><td>Nerve_Tibial                         </td></tr>\n",
       "\t<tr><td>ENSG00000000457</td><td>1</td><td>Pancreas                             </td></tr>\n",
       "\t<tr><td>ENSG00000000457</td><td>1</td><td>Small_Intestine_Terminal_Ileum       </td></tr>\n",
       "\t<tr><td>ENSG00000000457</td><td>1</td><td>Uterus                               </td></tr>\n",
       "\t<tr><td>ENSG00000000457</td><td>1</td><td>Vagina                               </td></tr>\n",
       "\t<tr><td>ENSG00000000457</td><td>1</td><td>Whole_Blood                          </td></tr>\n",
       "\t<tr><td>ENSG00000001461</td><td>1</td><td>Adrenal_Gland                        </td></tr>\n",
       "\t<tr><td>ENSG00000001461</td><td>1</td><td>Artery_Aorta                         </td></tr>\n",
       "\t<tr><td>ENSG00000001461</td><td>1</td><td>Artery_Tibial                        </td></tr>\n",
       "\t<tr><td>ENSG00000001461</td><td>1</td><td>Brain_Amygdala                       </td></tr>\n",
       "\t<tr><td>ENSG00000001461</td><td>1</td><td>Brain_Anterior_cingulate_cortex_BA24 </td></tr>\n",
       "\t<tr><td>ENSG00000001461</td><td>1</td><td>Brain_Frontal_Cortex_BA9             </td></tr>\n",
       "\t<tr><td>ENSG00000001461</td><td>1</td><td>Brain_Hippocampus                    </td></tr>\n",
       "\t<tr><td>ENSG00000001461</td><td>1</td><td>Brain_Hypothalamus                   </td></tr>\n",
       "\t<tr><td>ENSG00000001461</td><td>1</td><td>Brain_Nucleus_accumbens_basal_ganglia</td></tr>\n",
       "\t<tr><td>ENSG00000001461</td><td>1</td><td>Brain_Spinal_cord_cervical_c-1       </td></tr>\n",
       "\t<tr><td>ENSG00000001461</td><td>1</td><td>Brain_Substantia_nigra               </td></tr>\n",
       "\t<tr><td>ENSG00000001461</td><td>1</td><td>Breast_Mammary_Tissue                </td></tr>\n",
       "\t<tr><td>ENSG00000001461</td><td>1</td><td>Cells_Cultured_fibroblasts           </td></tr>\n",
       "\t<tr><td>ENSG00000001461</td><td>1</td><td>Cells_EBV-transformed_lymphocytes    </td></tr>\n",
       "\t<tr><td>⋮</td><td>⋮</td><td>⋮</td></tr>\n",
       "\t<tr><td>ENSG00000266417</td><td>1</td><td>Artery_Coronary                      </td></tr>\n",
       "\t<tr><td>ENSG00000266417</td><td>1</td><td>Brain_Anterior_cingulate_cortex_BA24 </td></tr>\n",
       "\t<tr><td>ENSG00000266417</td><td>1</td><td>Brain_Caudate_basal_ganglia          </td></tr>\n",
       "\t<tr><td>ENSG00000266417</td><td>1</td><td>Brain_Cerebellar_Hemisphere          </td></tr>\n",
       "\t<tr><td>ENSG00000266417</td><td>1</td><td>Brain_Cerebellum                     </td></tr>\n",
       "\t<tr><td>ENSG00000266417</td><td>1</td><td>Brain_Cortex                         </td></tr>\n",
       "\t<tr><td>ENSG00000266417</td><td>1</td><td>Brain_Hippocampus                    </td></tr>\n",
       "\t<tr><td>ENSG00000266417</td><td>1</td><td>Brain_Substantia_nigra               </td></tr>\n",
       "\t<tr><td>ENSG00000266417</td><td>1</td><td>Cells_Cultured_fibroblasts           </td></tr>\n",
       "\t<tr><td>ENSG00000266417</td><td>1</td><td>Kidney_Cortex                        </td></tr>\n",
       "\t<tr><td>ENSG00000266417</td><td>1</td><td>Liver                                </td></tr>\n",
       "\t<tr><td>ENSG00000266417</td><td>1</td><td>Minor_Salivary_Gland                 </td></tr>\n",
       "\t<tr><td>ENSG00000266417</td><td>1</td><td>Ovary                                </td></tr>\n",
       "\t<tr><td>ENSG00000266417</td><td>1</td><td>Stomach                              </td></tr>\n",
       "\t<tr><td>ENSG00000266417</td><td>1</td><td>Uterus                               </td></tr>\n",
       "\t<tr><td>ENSG00000266417</td><td>1</td><td>Vagina                               </td></tr>\n",
       "\t<tr><td>ENSG00000272855</td><td>1</td><td>Brain_Cortex                         </td></tr>\n",
       "\t<tr><td>ENSG00000272855</td><td>1</td><td>Brain_Frontal_Cortex_BA9             </td></tr>\n",
       "\t<tr><td>ENSG00000272855</td><td>1</td><td>Brain_Nucleus_accumbens_basal_ganglia</td></tr>\n",
       "\t<tr><td>ENSG00000273093</td><td>1</td><td>Brain_Cerebellum                     </td></tr>\n",
       "\t<tr><td>ENSG00000273093</td><td>1</td><td>Brain_Cortex                         </td></tr>\n",
       "\t<tr><td>ENSG00000273093</td><td>1</td><td>Cells_EBV-transformed_lymphocytes    </td></tr>\n",
       "\t<tr><td>ENSG00000273093</td><td>1</td><td>Esophagus_Gastroesophageal_Junction  </td></tr>\n",
       "\t<tr><td>ENSG00000273093</td><td>1</td><td>Esophagus_Mucosa                     </td></tr>\n",
       "\t<tr><td>ENSG00000273093</td><td>1</td><td>Esophagus_Muscularis                 </td></tr>\n",
       "\t<tr><td>ENSG00000273093</td><td>1</td><td>Liver                                </td></tr>\n",
       "\t<tr><td>ENSG00000273093</td><td>1</td><td>Minor_Salivary_Gland                 </td></tr>\n",
       "\t<tr><td>ENSG00000273093</td><td>1</td><td>Pancreas                             </td></tr>\n",
       "\t<tr><td>ENSG00000273093</td><td>1</td><td>Uterus                               </td></tr>\n",
       "\t<tr><td>ENSG00000273093</td><td>1</td><td>Vagina                               </td></tr>\n",
       "</tbody>\n",
       "</table>\n"
      ],
      "text/latex": [
       "A data.frame: 2695 × 3\n",
       "\\begin{tabular}{r|lll}\n",
       " gene & chr & tissue\\\\\n",
       " <chr> & <int> & <chr>\\\\\n",
       "\\hline\n",
       "\t ENSG00000000457 & 1 & Brain\\_Amygdala                       \\\\\n",
       "\t ENSG00000000457 & 1 & Brain\\_Cerebellar\\_Hemisphere          \\\\\n",
       "\t ENSG00000000457 & 1 & Brain\\_Cerebellum                     \\\\\n",
       "\t ENSG00000000457 & 1 & Brain\\_Frontal\\_Cortex\\_BA9             \\\\\n",
       "\t ENSG00000000457 & 1 & Brain\\_Spinal\\_cord\\_cervical\\_c-1       \\\\\n",
       "\t ENSG00000000457 & 1 & Brain\\_Substantia\\_nigra               \\\\\n",
       "\t ENSG00000000457 & 1 & Cells\\_Cultured\\_fibroblasts           \\\\\n",
       "\t ENSG00000000457 & 1 & Colon\\_Transverse                     \\\\\n",
       "\t ENSG00000000457 & 1 & Liver                                \\\\\n",
       "\t ENSG00000000457 & 1 & Minor\\_Salivary\\_Gland                 \\\\\n",
       "\t ENSG00000000457 & 1 & Nerve\\_Tibial                         \\\\\n",
       "\t ENSG00000000457 & 1 & Pancreas                             \\\\\n",
       "\t ENSG00000000457 & 1 & Small\\_Intestine\\_Terminal\\_Ileum       \\\\\n",
       "\t ENSG00000000457 & 1 & Uterus                               \\\\\n",
       "\t ENSG00000000457 & 1 & Vagina                               \\\\\n",
       "\t ENSG00000000457 & 1 & Whole\\_Blood                          \\\\\n",
       "\t ENSG00000001461 & 1 & Adrenal\\_Gland                        \\\\\n",
       "\t ENSG00000001461 & 1 & Artery\\_Aorta                         \\\\\n",
       "\t ENSG00000001461 & 1 & Artery\\_Tibial                        \\\\\n",
       "\t ENSG00000001461 & 1 & Brain\\_Amygdala                       \\\\\n",
       "\t ENSG00000001461 & 1 & Brain\\_Anterior\\_cingulate\\_cortex\\_BA24 \\\\\n",
       "\t ENSG00000001461 & 1 & Brain\\_Frontal\\_Cortex\\_BA9             \\\\\n",
       "\t ENSG00000001461 & 1 & Brain\\_Hippocampus                    \\\\\n",
       "\t ENSG00000001461 & 1 & Brain\\_Hypothalamus                   \\\\\n",
       "\t ENSG00000001461 & 1 & Brain\\_Nucleus\\_accumbens\\_basal\\_ganglia\\\\\n",
       "\t ENSG00000001461 & 1 & Brain\\_Spinal\\_cord\\_cervical\\_c-1       \\\\\n",
       "\t ENSG00000001461 & 1 & Brain\\_Substantia\\_nigra               \\\\\n",
       "\t ENSG00000001461 & 1 & Breast\\_Mammary\\_Tissue                \\\\\n",
       "\t ENSG00000001461 & 1 & Cells\\_Cultured\\_fibroblasts           \\\\\n",
       "\t ENSG00000001461 & 1 & Cells\\_EBV-transformed\\_lymphocytes    \\\\\n",
       "\t ⋮ & ⋮ & ⋮\\\\\n",
       "\t ENSG00000266417 & 1 & Artery\\_Coronary                      \\\\\n",
       "\t ENSG00000266417 & 1 & Brain\\_Anterior\\_cingulate\\_cortex\\_BA24 \\\\\n",
       "\t ENSG00000266417 & 1 & Brain\\_Caudate\\_basal\\_ganglia          \\\\\n",
       "\t ENSG00000266417 & 1 & Brain\\_Cerebellar\\_Hemisphere          \\\\\n",
       "\t ENSG00000266417 & 1 & Brain\\_Cerebellum                     \\\\\n",
       "\t ENSG00000266417 & 1 & Brain\\_Cortex                         \\\\\n",
       "\t ENSG00000266417 & 1 & Brain\\_Hippocampus                    \\\\\n",
       "\t ENSG00000266417 & 1 & Brain\\_Substantia\\_nigra               \\\\\n",
       "\t ENSG00000266417 & 1 & Cells\\_Cultured\\_fibroblasts           \\\\\n",
       "\t ENSG00000266417 & 1 & Kidney\\_Cortex                        \\\\\n",
       "\t ENSG00000266417 & 1 & Liver                                \\\\\n",
       "\t ENSG00000266417 & 1 & Minor\\_Salivary\\_Gland                 \\\\\n",
       "\t ENSG00000266417 & 1 & Ovary                                \\\\\n",
       "\t ENSG00000266417 & 1 & Stomach                              \\\\\n",
       "\t ENSG00000266417 & 1 & Uterus                               \\\\\n",
       "\t ENSG00000266417 & 1 & Vagina                               \\\\\n",
       "\t ENSG00000272855 & 1 & Brain\\_Cortex                         \\\\\n",
       "\t ENSG00000272855 & 1 & Brain\\_Frontal\\_Cortex\\_BA9             \\\\\n",
       "\t ENSG00000272855 & 1 & Brain\\_Nucleus\\_accumbens\\_basal\\_ganglia\\\\\n",
       "\t ENSG00000273093 & 1 & Brain\\_Cerebellum                     \\\\\n",
       "\t ENSG00000273093 & 1 & Brain\\_Cortex                         \\\\\n",
       "\t ENSG00000273093 & 1 & Cells\\_EBV-transformed\\_lymphocytes    \\\\\n",
       "\t ENSG00000273093 & 1 & Esophagus\\_Gastroesophageal\\_Junction  \\\\\n",
       "\t ENSG00000273093 & 1 & Esophagus\\_Mucosa                     \\\\\n",
       "\t ENSG00000273093 & 1 & Esophagus\\_Muscularis                 \\\\\n",
       "\t ENSG00000273093 & 1 & Liver                                \\\\\n",
       "\t ENSG00000273093 & 1 & Minor\\_Salivary\\_Gland                 \\\\\n",
       "\t ENSG00000273093 & 1 & Pancreas                             \\\\\n",
       "\t ENSG00000273093 & 1 & Uterus                               \\\\\n",
       "\t ENSG00000273093 & 1 & Vagina                               \\\\\n",
       "\\end{tabular}\n"
      ],
      "text/markdown": [
       "\n",
       "A data.frame: 2695 × 3\n",
       "\n",
       "| gene &lt;chr&gt; | chr &lt;int&gt; | tissue &lt;chr&gt; |\n",
       "|---|---|---|\n",
       "| ENSG00000000457 | 1 | Brain_Amygdala                        |\n",
       "| ENSG00000000457 | 1 | Brain_Cerebellar_Hemisphere           |\n",
       "| ENSG00000000457 | 1 | Brain_Cerebellum                      |\n",
       "| ENSG00000000457 | 1 | Brain_Frontal_Cortex_BA9              |\n",
       "| ENSG00000000457 | 1 | Brain_Spinal_cord_cervical_c-1        |\n",
       "| ENSG00000000457 | 1 | Brain_Substantia_nigra                |\n",
       "| ENSG00000000457 | 1 | Cells_Cultured_fibroblasts            |\n",
       "| ENSG00000000457 | 1 | Colon_Transverse                      |\n",
       "| ENSG00000000457 | 1 | Liver                                 |\n",
       "| ENSG00000000457 | 1 | Minor_Salivary_Gland                  |\n",
       "| ENSG00000000457 | 1 | Nerve_Tibial                          |\n",
       "| ENSG00000000457 | 1 | Pancreas                              |\n",
       "| ENSG00000000457 | 1 | Small_Intestine_Terminal_Ileum        |\n",
       "| ENSG00000000457 | 1 | Uterus                                |\n",
       "| ENSG00000000457 | 1 | Vagina                                |\n",
       "| ENSG00000000457 | 1 | Whole_Blood                           |\n",
       "| ENSG00000001461 | 1 | Adrenal_Gland                         |\n",
       "| ENSG00000001461 | 1 | Artery_Aorta                          |\n",
       "| ENSG00000001461 | 1 | Artery_Tibial                         |\n",
       "| ENSG00000001461 | 1 | Brain_Amygdala                        |\n",
       "| ENSG00000001461 | 1 | Brain_Anterior_cingulate_cortex_BA24  |\n",
       "| ENSG00000001461 | 1 | Brain_Frontal_Cortex_BA9              |\n",
       "| ENSG00000001461 | 1 | Brain_Hippocampus                     |\n",
       "| ENSG00000001461 | 1 | Brain_Hypothalamus                    |\n",
       "| ENSG00000001461 | 1 | Brain_Nucleus_accumbens_basal_ganglia |\n",
       "| ENSG00000001461 | 1 | Brain_Spinal_cord_cervical_c-1        |\n",
       "| ENSG00000001461 | 1 | Brain_Substantia_nigra                |\n",
       "| ENSG00000001461 | 1 | Breast_Mammary_Tissue                 |\n",
       "| ENSG00000001461 | 1 | Cells_Cultured_fibroblasts            |\n",
       "| ENSG00000001461 | 1 | Cells_EBV-transformed_lymphocytes     |\n",
       "| ⋮ | ⋮ | ⋮ |\n",
       "| ENSG00000266417 | 1 | Artery_Coronary                       |\n",
       "| ENSG00000266417 | 1 | Brain_Anterior_cingulate_cortex_BA24  |\n",
       "| ENSG00000266417 | 1 | Brain_Caudate_basal_ganglia           |\n",
       "| ENSG00000266417 | 1 | Brain_Cerebellar_Hemisphere           |\n",
       "| ENSG00000266417 | 1 | Brain_Cerebellum                      |\n",
       "| ENSG00000266417 | 1 | Brain_Cortex                          |\n",
       "| ENSG00000266417 | 1 | Brain_Hippocampus                     |\n",
       "| ENSG00000266417 | 1 | Brain_Substantia_nigra                |\n",
       "| ENSG00000266417 | 1 | Cells_Cultured_fibroblasts            |\n",
       "| ENSG00000266417 | 1 | Kidney_Cortex                         |\n",
       "| ENSG00000266417 | 1 | Liver                                 |\n",
       "| ENSG00000266417 | 1 | Minor_Salivary_Gland                  |\n",
       "| ENSG00000266417 | 1 | Ovary                                 |\n",
       "| ENSG00000266417 | 1 | Stomach                               |\n",
       "| ENSG00000266417 | 1 | Uterus                                |\n",
       "| ENSG00000266417 | 1 | Vagina                                |\n",
       "| ENSG00000272855 | 1 | Brain_Cortex                          |\n",
       "| ENSG00000272855 | 1 | Brain_Frontal_Cortex_BA9              |\n",
       "| ENSG00000272855 | 1 | Brain_Nucleus_accumbens_basal_ganglia |\n",
       "| ENSG00000273093 | 1 | Brain_Cerebellum                      |\n",
       "| ENSG00000273093 | 1 | Brain_Cortex                          |\n",
       "| ENSG00000273093 | 1 | Cells_EBV-transformed_lymphocytes     |\n",
       "| ENSG00000273093 | 1 | Esophagus_Gastroesophageal_Junction   |\n",
       "| ENSG00000273093 | 1 | Esophagus_Mucosa                      |\n",
       "| ENSG00000273093 | 1 | Esophagus_Muscularis                  |\n",
       "| ENSG00000273093 | 1 | Liver                                 |\n",
       "| ENSG00000273093 | 1 | Minor_Salivary_Gland                  |\n",
       "| ENSG00000273093 | 1 | Pancreas                              |\n",
       "| ENSG00000273093 | 1 | Uterus                                |\n",
       "| ENSG00000273093 | 1 | Vagina                                |\n",
       "\n"
      ],
      "text/plain": [
       "     gene            chr tissue                               \n",
       "1    ENSG00000000457 1   Brain_Amygdala                       \n",
       "2    ENSG00000000457 1   Brain_Cerebellar_Hemisphere          \n",
       "3    ENSG00000000457 1   Brain_Cerebellum                     \n",
       "4    ENSG00000000457 1   Brain_Frontal_Cortex_BA9             \n",
       "5    ENSG00000000457 1   Brain_Spinal_cord_cervical_c-1       \n",
       "6    ENSG00000000457 1   Brain_Substantia_nigra               \n",
       "7    ENSG00000000457 1   Cells_Cultured_fibroblasts           \n",
       "8    ENSG00000000457 1   Colon_Transverse                     \n",
       "9    ENSG00000000457 1   Liver                                \n",
       "10   ENSG00000000457 1   Minor_Salivary_Gland                 \n",
       "11   ENSG00000000457 1   Nerve_Tibial                         \n",
       "12   ENSG00000000457 1   Pancreas                             \n",
       "13   ENSG00000000457 1   Small_Intestine_Terminal_Ileum       \n",
       "14   ENSG00000000457 1   Uterus                               \n",
       "15   ENSG00000000457 1   Vagina                               \n",
       "16   ENSG00000000457 1   Whole_Blood                          \n",
       "17   ENSG00000001461 1   Adrenal_Gland                        \n",
       "18   ENSG00000001461 1   Artery_Aorta                         \n",
       "19   ENSG00000001461 1   Artery_Tibial                        \n",
       "20   ENSG00000001461 1   Brain_Amygdala                       \n",
       "21   ENSG00000001461 1   Brain_Anterior_cingulate_cortex_BA24 \n",
       "22   ENSG00000001461 1   Brain_Frontal_Cortex_BA9             \n",
       "23   ENSG00000001461 1   Brain_Hippocampus                    \n",
       "24   ENSG00000001461 1   Brain_Hypothalamus                   \n",
       "25   ENSG00000001461 1   Brain_Nucleus_accumbens_basal_ganglia\n",
       "26   ENSG00000001461 1   Brain_Spinal_cord_cervical_c-1       \n",
       "27   ENSG00000001461 1   Brain_Substantia_nigra               \n",
       "28   ENSG00000001461 1   Breast_Mammary_Tissue                \n",
       "29   ENSG00000001461 1   Cells_Cultured_fibroblasts           \n",
       "30   ENSG00000001461 1   Cells_EBV-transformed_lymphocytes    \n",
       "⋮    ⋮               ⋮   ⋮                                    \n",
       "2666 ENSG00000266417 1   Artery_Coronary                      \n",
       "2667 ENSG00000266417 1   Brain_Anterior_cingulate_cortex_BA24 \n",
       "2668 ENSG00000266417 1   Brain_Caudate_basal_ganglia          \n",
       "2669 ENSG00000266417 1   Brain_Cerebellar_Hemisphere          \n",
       "2670 ENSG00000266417 1   Brain_Cerebellum                     \n",
       "2671 ENSG00000266417 1   Brain_Cortex                         \n",
       "2672 ENSG00000266417 1   Brain_Hippocampus                    \n",
       "2673 ENSG00000266417 1   Brain_Substantia_nigra               \n",
       "2674 ENSG00000266417 1   Cells_Cultured_fibroblasts           \n",
       "2675 ENSG00000266417 1   Kidney_Cortex                        \n",
       "2676 ENSG00000266417 1   Liver                                \n",
       "2677 ENSG00000266417 1   Minor_Salivary_Gland                 \n",
       "2678 ENSG00000266417 1   Ovary                                \n",
       "2679 ENSG00000266417 1   Stomach                              \n",
       "2680 ENSG00000266417 1   Uterus                               \n",
       "2681 ENSG00000266417 1   Vagina                               \n",
       "2682 ENSG00000272855 1   Brain_Cortex                         \n",
       "2683 ENSG00000272855 1   Brain_Frontal_Cortex_BA9             \n",
       "2684 ENSG00000272855 1   Brain_Nucleus_accumbens_basal_ganglia\n",
       "2685 ENSG00000273093 1   Brain_Cerebellum                     \n",
       "2686 ENSG00000273093 1   Brain_Cortex                         \n",
       "2687 ENSG00000273093 1   Cells_EBV-transformed_lymphocytes    \n",
       "2688 ENSG00000273093 1   Esophagus_Gastroesophageal_Junction  \n",
       "2689 ENSG00000273093 1   Esophagus_Mucosa                     \n",
       "2690 ENSG00000273093 1   Esophagus_Muscularis                 \n",
       "2691 ENSG00000273093 1   Liver                                \n",
       "2692 ENSG00000273093 1   Minor_Salivary_Gland                 \n",
       "2693 ENSG00000273093 1   Pancreas                             \n",
       "2694 ENSG00000273093 1   Uterus                               \n",
       "2695 ENSG00000273093 1   Vagina                               "
      ]
     },
     "metadata": {},
     "output_type": "display_data"
    }
   ],
   "source": [
    "gene_list[[1]]"
   ]
  },
  {
   "cell_type": "code",
   "execution_count": null,
   "metadata": {},
   "outputs": [],
   "source": []
  },
  {
   "cell_type": "markdown",
   "metadata": {},
   "source": [
    "### check the raw expression"
   ]
  },
  {
   "cell_type": "code",
   "execution_count": 17,
   "metadata": {},
   "outputs": [],
   "source": [
    "\n",
    "exp_dir <- \"/gpfs/loomis/scratch60/fas/radev/zy92/GTEX/expr_gtex1/\"\n",
    "check_raw_expression <- function(gene, chr, exp_dir) {\n",
    "    gene_dir <- paste0(exp_dir, chr, gene)\n",
    "    tissue_vec <- list.files(gene_dir)\n",
    "    exp_list <- list()\n",
    "    for (tissue in tissue_vec) {\n",
    "        tissue_file <- paste0(gene_dir, tissue)\n",
    "        tmp_df <- as.data.frame(fread(tissue_file))\n",
    "        exp_list[[tissue]] <- tmp_df\n",
    "    }\n",
    "    return(exp_list)\n",
    "    \n",
    "}"
   ]
  },
  {
   "cell_type": "code",
   "execution_count": 20,
   "metadata": {},
   "outputs": [],
   "source": [
    "test_list <- check_raw_expression(exp_dir, \"chr1/\", \"ENSG00000000457/\")"
   ]
  },
  {
   "cell_type": "code",
   "execution_count": 22,
   "metadata": {},
   "outputs": [],
   "source": [
    "zero_gene_vec <- unlist(lapply(gene_list, function(x) unique(x$gene)))"
   ]
  },
  {
   "cell_type": "code",
   "execution_count": 25,
   "metadata": {},
   "outputs": [
    {
     "data": {
      "text/html": [
       "2909"
      ],
      "text/latex": [
       "2909"
      ],
      "text/markdown": [
       "2909"
      ],
      "text/plain": [
       "[1] 2909"
      ]
     },
     "metadata": {},
     "output_type": "display_data"
    },
    {
     "data": {
      "text/html": [
       "2909"
      ],
      "text/latex": [
       "2909"
      ],
      "text/markdown": [
       "2909"
      ],
      "text/plain": [
       "[1] 2909"
      ]
     },
     "metadata": {},
     "output_type": "display_data"
    }
   ],
   "source": [
    "length(zero_gene_vec)\n",
    "length(unique(zero_gene_vec))"
   ]
  },
  {
   "cell_type": "code",
   "execution_count": 26,
   "metadata": {},
   "outputs": [],
   "source": [
    "# grch37 \n",
    "library(biomaRt)\n",
    "suppressPackageStartupMessages(library(biomaRt))\n",
    "grch37 = useMart(biomart=\"ENSEMBL_MART_ENSEMBL\", host=\"grch37.ensembl.org\", path=\"/biomart/martservice\", dataset=\"hsapiens_gene_ensembl\")\n",
    "gene_info = getBM(filters= \"ensembl_gene_id\", \n",
    "                  attributes= c(\"ensembl_gene_id\",'hgnc_symbol','chromosome_name',\"transcript_biotype\"), \n",
    "                  values= zero_gene_vec, \n",
    "                  mart= grch37)\n",
    "\n"
   ]
  },
  {
   "cell_type": "code",
   "execution_count": 27,
   "metadata": {},
   "outputs": [
    {
     "data": {
      "text/html": [
       "<table>\n",
       "<caption>A data.frame: 6 × 4</caption>\n",
       "<thead>\n",
       "\t<tr><th scope=col>ensembl_gene_id</th><th scope=col>hgnc_symbol</th><th scope=col>chromosome_name</th><th scope=col>transcript_biotype</th></tr>\n",
       "\t<tr><th scope=col>&lt;chr&gt;</th><th scope=col>&lt;chr&gt;</th><th scope=col>&lt;int&gt;</th><th scope=col>&lt;chr&gt;</th></tr>\n",
       "</thead>\n",
       "<tbody>\n",
       "\t<tr><td>ENSG00000163655</td><td>GMPS    </td><td>3</td><td>protein_coding      </td></tr>\n",
       "\t<tr><td>ENSG00000163655</td><td>GMPS    </td><td>3</td><td>processed_transcript</td></tr>\n",
       "\t<tr><td>ENSG00000179674</td><td>ARL14   </td><td>3</td><td>protein_coding      </td></tr>\n",
       "\t<tr><td>ENSG00000169255</td><td>B3GALNT1</td><td>3</td><td>protein_coding      </td></tr>\n",
       "\t<tr><td>ENSG00000169255</td><td>B3GALNT1</td><td>3</td><td>processed_transcript</td></tr>\n",
       "\t<tr><td>ENSG00000169282</td><td>KCNAB1  </td><td>3</td><td>retained_intron     </td></tr>\n",
       "</tbody>\n",
       "</table>\n"
      ],
      "text/latex": [
       "A data.frame: 6 × 4\n",
       "\\begin{tabular}{r|llll}\n",
       " ensembl\\_gene\\_id & hgnc\\_symbol & chromosome\\_name & transcript\\_biotype\\\\\n",
       " <chr> & <chr> & <int> & <chr>\\\\\n",
       "\\hline\n",
       "\t ENSG00000163655 & GMPS     & 3 & protein\\_coding      \\\\\n",
       "\t ENSG00000163655 & GMPS     & 3 & processed\\_transcript\\\\\n",
       "\t ENSG00000179674 & ARL14    & 3 & protein\\_coding      \\\\\n",
       "\t ENSG00000169255 & B3GALNT1 & 3 & protein\\_coding      \\\\\n",
       "\t ENSG00000169255 & B3GALNT1 & 3 & processed\\_transcript\\\\\n",
       "\t ENSG00000169282 & KCNAB1   & 3 & retained\\_intron     \\\\\n",
       "\\end{tabular}\n"
      ],
      "text/markdown": [
       "\n",
       "A data.frame: 6 × 4\n",
       "\n",
       "| ensembl_gene_id &lt;chr&gt; | hgnc_symbol &lt;chr&gt; | chromosome_name &lt;int&gt; | transcript_biotype &lt;chr&gt; |\n",
       "|---|---|---|---|\n",
       "| ENSG00000163655 | GMPS     | 3 | protein_coding       |\n",
       "| ENSG00000163655 | GMPS     | 3 | processed_transcript |\n",
       "| ENSG00000179674 | ARL14    | 3 | protein_coding       |\n",
       "| ENSG00000169255 | B3GALNT1 | 3 | protein_coding       |\n",
       "| ENSG00000169255 | B3GALNT1 | 3 | processed_transcript |\n",
       "| ENSG00000169282 | KCNAB1   | 3 | retained_intron      |\n",
       "\n"
      ],
      "text/plain": [
       "  ensembl_gene_id hgnc_symbol chromosome_name transcript_biotype  \n",
       "1 ENSG00000163655 GMPS        3               protein_coding      \n",
       "2 ENSG00000163655 GMPS        3               processed_transcript\n",
       "3 ENSG00000179674 ARL14       3               protein_coding      \n",
       "4 ENSG00000169255 B3GALNT1    3               protein_coding      \n",
       "5 ENSG00000169255 B3GALNT1    3               processed_transcript\n",
       "6 ENSG00000169282 KCNAB1      3               retained_intron     "
      ]
     },
     "metadata": {},
     "output_type": "display_data"
    }
   ],
   "source": [
    "head(gene_info)"
   ]
  },
  {
   "cell_type": "code",
   "execution_count": 29,
   "metadata": {},
   "outputs": [
    {
     "data": {
      "text/plain": [
       "\n",
       "              antisense                 lincRNA                   miRNA \n",
       "                      4                    1655                     520 \n",
       "               misc_RNA nonsense_mediated_decay  polymorphic_pseudogene \n",
       "                      1                     163                       1 \n",
       "   processed_transcript          protein_coding         retained_intron \n",
       "                    337                     744                     272 \n",
       "                   rRNA                  snoRNA                   snRNA \n",
       "                      2                       3                       1 "
      ]
     },
     "metadata": {},
     "output_type": "display_data"
    }
   ],
   "source": [
    "table(gene_info$transcript_biotype)"
   ]
  },
  {
   "cell_type": "code",
   "execution_count": 21,
   "metadata": {},
   "outputs": [
    {
     "data": {
      "text/html": [
       "<ol>\n",
       "</ol>\n"
      ],
      "text/latex": [
       "\\begin{enumerate}\n",
       "\\end{enumerate}\n"
      ],
      "text/markdown": [
       "\n",
       "\n"
      ],
      "text/plain": [
       "list()"
      ]
     },
     "metadata": {},
     "output_type": "display_data"
    }
   ],
   "source": [
    "test_list"
   ]
  },
  {
   "cell_type": "code",
   "execution_count": null,
   "metadata": {},
   "outputs": [],
   "source": [
    "raw_expression_list <- list()\n",
    "raw_expression_dir <- \n",
    "for (i in 1:22) {\n",
    "    \n",
    "}"
   ]
  },
  {
   "cell_type": "code",
   "execution_count": null,
   "metadata": {},
   "outputs": [],
   "source": [
    "library(biomart)"
   ]
  }
 ],
 "metadata": {
  "kernelspec": {
   "display_name": "R",
   "language": "R",
   "name": "ir"
  },
  "language_info": {
   "codemirror_mode": "r",
   "file_extension": ".r",
   "mimetype": "text/x-r-source",
   "name": "R",
   "pygments_lexer": "r",
   "version": "3.5.0"
  }
 },
 "nbformat": 4,
 "nbformat_minor": 4
}
