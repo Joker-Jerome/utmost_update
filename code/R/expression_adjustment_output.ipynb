{
 "cells": [
  {
   "cell_type": "code",
   "execution_count": 145,
   "metadata": {},
   "outputs": [
    {
     "name": "stderr",
     "output_type": "stream",
     "text": [
      "Installing package into ‘/gpfs/ysm/home/zy92/R/x86_64-pc-linux-gnu-library/3.5’\n",
      "(as ‘lib’ is unspecified)\n",
      "also installing the dependencies ‘selectr’, ‘rvest’, ‘webshot’\n",
      "\n"
     ]
    }
   ],
   "source": [
    "install.packages(\"kableExtra\")"
   ]
  },
  {
   "cell_type": "code",
   "execution_count": 151,
   "metadata": {},
   "outputs": [],
   "source": [
    "suppressPackageStartupMessages(library(formattable))\n",
    "suppressPackageStartupMessages(library(dplyr))\n",
    "suppressPackageStartupMessages(library(data.table))\n",
    "suppressPackageStartupMessages(library(kableExtra))\n",
    "suppressPackageStartupMessages(library(knitr))\n",
    "\n",
    "\n",
    "\n"
   ]
  },
  {
   "cell_type": "code",
   "execution_count": 138,
   "metadata": {},
   "outputs": [],
   "source": [
    "customGreen0 = \"#DeF7E9\"\n",
    "customGreen = \"#71CA97\"\n",
    "customRed = \"#ff7f7f\""
   ]
  },
  {
   "cell_type": "code",
   "execution_count": 95,
   "metadata": {},
   "outputs": [
    {
     "data": {
      "text/html": [],
      "text/latex": [],
      "text/markdown": [],
      "text/plain": [
       "character(0)"
      ]
     },
     "metadata": {},
     "output_type": "display_data"
    }
   ],
   "source": [
    "inter_dir <- \"/ysm-gpfs/pi/zhao/zy92/projects/utmost_update/GTEX/adjusted_expr\"\n",
    "inter_files <- list.files(\"/ysm-gpfs/pi/zhao/zy92/projects/utmost_update/GTEX/adjusted_expr/\")\n",
    "head(inter_files)"
   ]
  },
  {
   "cell_type": "code",
   "execution_count": 96,
   "metadata": {},
   "outputs": [
    {
     "data": {
      "text/html": [
       "<ol class=list-inline>\n",
       "\t<li>'adjusted_expr'</li>\n",
       "\t<li>'expression_list_target.RData'</li>\n",
       "\t<li>'gene_info_target.RData'</li>\n",
       "\t<li>'gene_info.RData'</li>\n",
       "\t<li>'protein_coding.RData'</li>\n",
       "\t<li>'proteingene_list.RData'</li>\n",
       "</ol>\n"
      ],
      "text/latex": [
       "\\begin{enumerate*}\n",
       "\\item 'adjusted\\_expr'\n",
       "\\item 'expression\\_list\\_target.RData'\n",
       "\\item 'gene\\_info\\_target.RData'\n",
       "\\item 'gene\\_info.RData'\n",
       "\\item 'protein\\_coding.RData'\n",
       "\\item 'proteingene\\_list.RData'\n",
       "\\end{enumerate*}\n"
      ],
      "text/markdown": [
       "1. 'adjusted_expr'\n",
       "2. 'expression_list_target.RData'\n",
       "3. 'gene_info_target.RData'\n",
       "4. 'gene_info.RData'\n",
       "5. 'protein_coding.RData'\n",
       "6. 'proteingene_list.RData'\n",
       "\n",
       "\n"
      ],
      "text/plain": [
       "[1] \"adjusted_expr\"                \"expression_list_target.RData\"\n",
       "[3] \"gene_info_target.RData\"       \"gene_info.RData\"             \n",
       "[5] \"protein_coding.RData\"         \"proteingene_list.RData\"      "
      ]
     },
     "metadata": {},
     "output_type": "display_data"
    }
   ],
   "source": [
    "list.files(\"/ysm-gpfs/pi/zhao/zy92/projects/utmost_update//GTEX/\")"
   ]
  },
  {
   "cell_type": "code",
   "execution_count": 97,
   "metadata": {},
   "outputs": [
    {
     "data": {
      "text/html": [
       "'/ysm-gpfs/pi/zhao/zy92/projects/utmost_update/'"
      ],
      "text/latex": [
       "'/ysm-gpfs/pi/zhao/zy92/projects/utmost\\_update/'"
      ],
      "text/markdown": [
       "'/ysm-gpfs/pi/zhao/zy92/projects/utmost_update/'"
      ],
      "text/plain": [
       "[1] \"/ysm-gpfs/pi/zhao/zy92/projects/utmost_update/\""
      ]
     },
     "metadata": {},
     "output_type": "display_data"
    }
   ],
   "source": [
    "head((\"/ysm-gpfs/pi/zhao/zy92/projects/utmost_update/\"))"
   ]
  },
  {
   "cell_type": "code",
   "execution_count": 98,
   "metadata": {},
   "outputs": [
    {
     "data": {
      "text/html": [
       "'gene_info_target'"
      ],
      "text/latex": [
       "'gene\\_info\\_target'"
      ],
      "text/markdown": [
       "'gene_info_target'"
      ],
      "text/plain": [
       "[1] \"gene_info_target\""
      ]
     },
     "metadata": {},
     "output_type": "display_data"
    }
   ],
   "source": [
    "ln1 <- load(\"/ysm-gpfs/pi/zhao/zy92/projects/utmost_update//GTEX/gene_info_target.RData\")\n",
    "ln1"
   ]
  },
  {
   "cell_type": "code",
   "execution_count": 99,
   "metadata": {},
   "outputs": [
    {
     "data": {
      "text/html": [
       "<ol class=list-inline>\n",
       "\t<li>27208</li>\n",
       "\t<li>4</li>\n",
       "</ol>\n"
      ],
      "text/latex": [
       "\\begin{enumerate*}\n",
       "\\item 27208\n",
       "\\item 4\n",
       "\\end{enumerate*}\n"
      ],
      "text/markdown": [
       "1. 27208\n",
       "2. 4\n",
       "\n",
       "\n"
      ],
      "text/plain": [
       "[1] 27208     4"
      ]
     },
     "metadata": {},
     "output_type": "display_data"
    }
   ],
   "source": [
    "dim(gene_info_target)"
   ]
  },
  {
   "cell_type": "code",
   "execution_count": 100,
   "metadata": {},
   "outputs": [
    {
     "data": {
      "text/html": [
       "<ol class=list-inline>\n",
       "\t<li>'sample_count'</li>\n",
       "\t<li>'idx_list'</li>\n",
       "</ol>\n"
      ],
      "text/latex": [
       "\\begin{enumerate*}\n",
       "\\item 'sample\\_count'\n",
       "\\item 'idx\\_list'\n",
       "\\end{enumerate*}\n"
      ],
      "text/markdown": [
       "1. 'sample_count'\n",
       "2. 'idx_list'\n",
       "\n",
       "\n"
      ],
      "text/plain": [
       "[1] \"sample_count\" \"idx_list\"    "
      ]
     },
     "metadata": {},
     "output_type": "display_data"
    }
   ],
   "source": [
    "ln2 <- load(\"/ysm-gpfs/pi/zhao/zy92/projects/utmost_update/tissue_idx.RData\")\n",
    "ln2 "
   ]
  },
  {
   "cell_type": "code",
   "execution_count": 101,
   "metadata": {},
   "outputs": [
    {
     "data": {
      "text/html": [
       "<ol class=list-inline>\n",
       "\t<li>'Whole Blood'</li>\n",
       "\t<li>'Brain - Frontal Cortex (BA9)'</li>\n",
       "\t<li>'Adipose - Subcutaneous'</li>\n",
       "\t<li>'Muscle - Skeletal'</li>\n",
       "\t<li>'Artery - Tibial'</li>\n",
       "\t<li>'Artery - Coronary'</li>\n",
       "</ol>\n"
      ],
      "text/latex": [
       "\\begin{enumerate*}\n",
       "\\item 'Whole Blood'\n",
       "\\item 'Brain - Frontal Cortex (BA9)'\n",
       "\\item 'Adipose - Subcutaneous'\n",
       "\\item 'Muscle - Skeletal'\n",
       "\\item 'Artery - Tibial'\n",
       "\\item 'Artery - Coronary'\n",
       "\\end{enumerate*}\n"
      ],
      "text/markdown": [
       "1. 'Whole Blood'\n",
       "2. 'Brain - Frontal Cortex (BA9)'\n",
       "3. 'Adipose - Subcutaneous'\n",
       "4. 'Muscle - Skeletal'\n",
       "5. 'Artery - Tibial'\n",
       "6. 'Artery - Coronary'\n",
       "\n",
       "\n"
      ],
      "text/plain": [
       "[1] \"Whole Blood\"                  \"Brain - Frontal Cortex (BA9)\"\n",
       "[3] \"Adipose - Subcutaneous\"       \"Muscle - Skeletal\"           \n",
       "[5] \"Artery - Tibial\"              \"Artery - Coronary\"           "
      ]
     },
     "metadata": {},
     "output_type": "display_data"
    },
    {
     "data": {
      "text/html": [
       "<ol class=list-inline>\n",
       "\t<li>'GTEX-1117F-0003-SM-58Q7G'</li>\n",
       "\t<li>'GTEX-1117F-0003-SM-5DWSB'</li>\n",
       "\t<li>'GTEX-1117F-0003-SM-6WBT7'</li>\n",
       "\t<li>'GTEX-111CU-0003-SM-58Q95'</li>\n",
       "\t<li>'GTEX-111CU-0003-SM-5DWTR'</li>\n",
       "\t<li>'GTEX-111CU-0003-SM-6WBUD'</li>\n",
       "</ol>\n"
      ],
      "text/latex": [
       "\\begin{enumerate*}\n",
       "\\item 'GTEX-1117F-0003-SM-58Q7G'\n",
       "\\item 'GTEX-1117F-0003-SM-5DWSB'\n",
       "\\item 'GTEX-1117F-0003-SM-6WBT7'\n",
       "\\item 'GTEX-111CU-0003-SM-58Q95'\n",
       "\\item 'GTEX-111CU-0003-SM-5DWTR'\n",
       "\\item 'GTEX-111CU-0003-SM-6WBUD'\n",
       "\\end{enumerate*}\n"
      ],
      "text/markdown": [
       "1. 'GTEX-1117F-0003-SM-58Q7G'\n",
       "2. 'GTEX-1117F-0003-SM-5DWSB'\n",
       "3. 'GTEX-1117F-0003-SM-6WBT7'\n",
       "4. 'GTEX-111CU-0003-SM-58Q95'\n",
       "5. 'GTEX-111CU-0003-SM-5DWTR'\n",
       "6. 'GTEX-111CU-0003-SM-6WBUD'\n",
       "\n",
       "\n"
      ],
      "text/plain": [
       "[1] \"GTEX-1117F-0003-SM-58Q7G\" \"GTEX-1117F-0003-SM-5DWSB\"\n",
       "[3] \"GTEX-1117F-0003-SM-6WBT7\" \"GTEX-111CU-0003-SM-58Q95\"\n",
       "[5] \"GTEX-111CU-0003-SM-5DWTR\" \"GTEX-111CU-0003-SM-6WBUD\""
      ]
     },
     "metadata": {},
     "output_type": "display_data"
    }
   ],
   "source": [
    "head(names(idx_list))\n",
    "head(idx_list[['Whole Blood']])"
   ]
  },
  {
   "cell_type": "code",
   "execution_count": 102,
   "metadata": {},
   "outputs": [
    {
     "data": {
      "text/html": [
       "<ol class=list-inline>\n",
       "\t<li>56200</li>\n",
       "\t<li>17384</li>\n",
       "</ol>\n"
      ],
      "text/latex": [
       "\\begin{enumerate*}\n",
       "\\item 56200\n",
       "\\item 17384\n",
       "\\end{enumerate*}\n"
      ],
      "text/markdown": [
       "1. 56200\n",
       "2. 17384\n",
       "\n",
       "\n"
      ],
      "text/plain": [
       "[1] 56200 17384"
      ]
     },
     "metadata": {},
     "output_type": "display_data"
    }
   ],
   "source": [
    "# collect the data \n",
    "expression_df <- fread(\"/ysm-gpfs/pi/zhao-data/zy92/GTEx_V8/GTEx_Analysis_2017-06-05_v8_RNASeQCv1.1.9_gene_tpm.gct\")\n",
    "dim(expression_df)"
   ]
  },
  {
   "cell_type": "code",
   "execution_count": 103,
   "metadata": {},
   "outputs": [
    {
     "data": {
      "text/html": [
       "<ol class=list-inline>\n",
       "\t<li>'Name'</li>\n",
       "\t<li>'Description'</li>\n",
       "\t<li>'GTEX-1117F-0226-SM-5GZZ7'</li>\n",
       "\t<li>'GTEX-1117F-0426-SM-5EGHI'</li>\n",
       "\t<li>'GTEX-1117F-0526-SM-5EGHJ'</li>\n",
       "\t<li>'GTEX-1117F-0626-SM-5N9CS'</li>\n",
       "</ol>\n"
      ],
      "text/latex": [
       "\\begin{enumerate*}\n",
       "\\item 'Name'\n",
       "\\item 'Description'\n",
       "\\item 'GTEX-1117F-0226-SM-5GZZ7'\n",
       "\\item 'GTEX-1117F-0426-SM-5EGHI'\n",
       "\\item 'GTEX-1117F-0526-SM-5EGHJ'\n",
       "\\item 'GTEX-1117F-0626-SM-5N9CS'\n",
       "\\end{enumerate*}\n"
      ],
      "text/markdown": [
       "1. 'Name'\n",
       "2. 'Description'\n",
       "3. 'GTEX-1117F-0226-SM-5GZZ7'\n",
       "4. 'GTEX-1117F-0426-SM-5EGHI'\n",
       "5. 'GTEX-1117F-0526-SM-5EGHJ'\n",
       "6. 'GTEX-1117F-0626-SM-5N9CS'\n",
       "\n",
       "\n"
      ],
      "text/plain": [
       "[1] \"Name\"                     \"Description\"             \n",
       "[3] \"GTEX-1117F-0226-SM-5GZZ7\" \"GTEX-1117F-0426-SM-5EGHI\"\n",
       "[5] \"GTEX-1117F-0526-SM-5EGHJ\" \"GTEX-1117F-0626-SM-5N9CS\""
      ]
     },
     "metadata": {},
     "output_type": "display_data"
    }
   ],
   "source": [
    "head(colnames(expression_df))"
   ]
  },
  {
   "cell_type": "code",
   "execution_count": 104,
   "metadata": {},
   "outputs": [],
   "source": [
    "#target_idx <- idx_list[['Whole Blood']] %in% colnames(expression_df)\n",
    "# length(target_idx)\n",
    "# sum(target_idx)\n",
    "# head(target_idx)"
   ]
  },
  {
   "cell_type": "code",
   "execution_count": 105,
   "metadata": {},
   "outputs": [
    {
     "data": {
      "text/html": [
       "<ol class=list-inline>\n",
       "\t<li>56200</li>\n",
       "\t<li>17384</li>\n",
       "</ol>\n"
      ],
      "text/latex": [
       "\\begin{enumerate*}\n",
       "\\item 56200\n",
       "\\item 17384\n",
       "\\end{enumerate*}\n"
      ],
      "text/markdown": [
       "1. 56200\n",
       "2. 17384\n",
       "\n",
       "\n"
      ],
      "text/plain": [
       "[1] 56200 17384"
      ]
     },
     "metadata": {},
     "output_type": "display_data"
    },
    {
     "data": {
      "text/html": [
       "17384"
      ],
      "text/latex": [
       "17384"
      ],
      "text/markdown": [
       "17384"
      ],
      "text/plain": [
       "[1] 17384"
      ]
     },
     "metadata": {},
     "output_type": "display_data"
    }
   ],
   "source": [
    "dim(expression_df)\n",
    "length(colnames(expression_df))"
   ]
  },
  {
   "cell_type": "code",
   "execution_count": 106,
   "metadata": {},
   "outputs": [
    {
     "data": {
      "text/html": [
       "<ol class=list-inline>\n",
       "\t<li>'GTEX-1117F-0003-SM-58Q7G'</li>\n",
       "\t<li>'GTEX-1117F-0003-SM-5DWSB'</li>\n",
       "\t<li>'GTEX-1117F-0003-SM-6WBT7'</li>\n",
       "\t<li>'GTEX-111CU-0003-SM-58Q95'</li>\n",
       "\t<li>'GTEX-111CU-0003-SM-5DWTR'</li>\n",
       "\t<li>'GTEX-111CU-0003-SM-6WBUD'</li>\n",
       "</ol>\n"
      ],
      "text/latex": [
       "\\begin{enumerate*}\n",
       "\\item 'GTEX-1117F-0003-SM-58Q7G'\n",
       "\\item 'GTEX-1117F-0003-SM-5DWSB'\n",
       "\\item 'GTEX-1117F-0003-SM-6WBT7'\n",
       "\\item 'GTEX-111CU-0003-SM-58Q95'\n",
       "\\item 'GTEX-111CU-0003-SM-5DWTR'\n",
       "\\item 'GTEX-111CU-0003-SM-6WBUD'\n",
       "\\end{enumerate*}\n"
      ],
      "text/markdown": [
       "1. 'GTEX-1117F-0003-SM-58Q7G'\n",
       "2. 'GTEX-1117F-0003-SM-5DWSB'\n",
       "3. 'GTEX-1117F-0003-SM-6WBT7'\n",
       "4. 'GTEX-111CU-0003-SM-58Q95'\n",
       "5. 'GTEX-111CU-0003-SM-5DWTR'\n",
       "6. 'GTEX-111CU-0003-SM-6WBUD'\n",
       "\n",
       "\n"
      ],
      "text/plain": [
       "[1] \"GTEX-1117F-0003-SM-58Q7G\" \"GTEX-1117F-0003-SM-5DWSB\"\n",
       "[3] \"GTEX-1117F-0003-SM-6WBT7\" \"GTEX-111CU-0003-SM-58Q95\"\n",
       "[5] \"GTEX-111CU-0003-SM-5DWTR\" \"GTEX-111CU-0003-SM-6WBUD\""
      ]
     },
     "metadata": {},
     "output_type": "display_data"
    }
   ],
   "source": [
    "head(idx_list[['Whole Blood']])"
   ]
  },
  {
   "cell_type": "code",
   "execution_count": 107,
   "metadata": {},
   "outputs": [
    {
     "data": {
      "text/html": [
       "3288"
      ],
      "text/latex": [
       "3288"
      ],
      "text/markdown": [
       "3288"
      ],
      "text/plain": [
       "[1] 3288"
      ]
     },
     "metadata": {},
     "output_type": "display_data"
    },
    {
     "data": {
      "text/html": [
       "3288"
      ],
      "text/latex": [
       "3288"
      ],
      "text/markdown": [
       "3288"
      ],
      "text/plain": [
       "[1] 3288"
      ]
     },
     "metadata": {},
     "output_type": "display_data"
    }
   ],
   "source": [
    "length(idx_list[['Whole Blood']])\n",
    "length(unique(idx_list[['Whole Blood']]))\n",
    "\n"
   ]
  },
  {
   "cell_type": "code",
   "execution_count": 108,
   "metadata": {},
   "outputs": [],
   "source": [
    "tissue <- \"Whole Blood\"\n",
    "header <- colnames(expression_df)\n",
    "target_idx <- match(idx_list[[tissue]], header)\n",
    "target_idx_col <- which(!is.na(target_idx))\n",
    "#target_idx <- target_idx[which(target_idx == T)]\n",
    "#expression_list[[tissue]] <- expression_df[, c(1,2,target_idx)]"
   ]
  },
  {
   "cell_type": "code",
   "execution_count": 109,
   "metadata": {},
   "outputs": [
    {
     "data": {
      "text/html": [
       "<ol class=list-inline>\n",
       "\t<li>16</li>\n",
       "\t<li>20</li>\n",
       "\t<li>24</li>\n",
       "\t<li>28</li>\n",
       "\t<li>32</li>\n",
       "\t<li>36</li>\n",
       "</ol>\n"
      ],
      "text/latex": [
       "\\begin{enumerate*}\n",
       "\\item 16\n",
       "\\item 20\n",
       "\\item 24\n",
       "\\item 28\n",
       "\\item 32\n",
       "\\item 36\n",
       "\\end{enumerate*}\n"
      ],
      "text/markdown": [
       "1. 16\n",
       "2. 20\n",
       "3. 24\n",
       "4. 28\n",
       "5. 32\n",
       "6. 36\n",
       "\n",
       "\n"
      ],
      "text/plain": [
       "[1] 16 20 24 28 32 36"
      ]
     },
     "metadata": {},
     "output_type": "display_data"
    }
   ],
   "source": [
    "head(target_idx_col)"
   ]
  },
  {
   "cell_type": "code",
   "execution_count": 110,
   "metadata": {},
   "outputs": [
    {
     "data": {
      "text/html": [
       "<ol class=list-inline>\n",
       "\t<li>'GTEX-1117F-0003-SM-58Q7G'</li>\n",
       "\t<li>'GTEX-1117F-0003-SM-5DWSB'</li>\n",
       "\t<li>'GTEX-1117F-0003-SM-6WBT7'</li>\n",
       "\t<li>'GTEX-111CU-0003-SM-58Q95'</li>\n",
       "\t<li>'GTEX-111CU-0003-SM-5DWTR'</li>\n",
       "\t<li>'GTEX-111CU-0003-SM-6WBUD'</li>\n",
       "</ol>\n"
      ],
      "text/latex": [
       "\\begin{enumerate*}\n",
       "\\item 'GTEX-1117F-0003-SM-58Q7G'\n",
       "\\item 'GTEX-1117F-0003-SM-5DWSB'\n",
       "\\item 'GTEX-1117F-0003-SM-6WBT7'\n",
       "\\item 'GTEX-111CU-0003-SM-58Q95'\n",
       "\\item 'GTEX-111CU-0003-SM-5DWTR'\n",
       "\\item 'GTEX-111CU-0003-SM-6WBUD'\n",
       "\\end{enumerate*}\n"
      ],
      "text/markdown": [
       "1. 'GTEX-1117F-0003-SM-58Q7G'\n",
       "2. 'GTEX-1117F-0003-SM-5DWSB'\n",
       "3. 'GTEX-1117F-0003-SM-6WBT7'\n",
       "4. 'GTEX-111CU-0003-SM-58Q95'\n",
       "5. 'GTEX-111CU-0003-SM-5DWTR'\n",
       "6. 'GTEX-111CU-0003-SM-6WBUD'\n",
       "\n",
       "\n"
      ],
      "text/plain": [
       "[1] \"GTEX-1117F-0003-SM-58Q7G\" \"GTEX-1117F-0003-SM-5DWSB\"\n",
       "[3] \"GTEX-1117F-0003-SM-6WBT7\" \"GTEX-111CU-0003-SM-58Q95\"\n",
       "[5] \"GTEX-111CU-0003-SM-5DWTR\" \"GTEX-111CU-0003-SM-6WBUD\""
      ]
     },
     "metadata": {},
     "output_type": "display_data"
    }
   ],
   "source": [
    "head(idx_list[[tissue]])"
   ]
  },
  {
   "cell_type": "code",
   "execution_count": 111,
   "metadata": {},
   "outputs": [
    {
     "data": {
      "text/html": [
       "<ol class=list-inline>\n",
       "\t<li>'Name'</li>\n",
       "\t<li>'Description'</li>\n",
       "\t<li>'GTEX-1117F-0226-SM-5GZZ7'</li>\n",
       "\t<li>'GTEX-1117F-0426-SM-5EGHI'</li>\n",
       "\t<li>'GTEX-1117F-0526-SM-5EGHJ'</li>\n",
       "\t<li>'GTEX-1117F-0626-SM-5N9CS'</li>\n",
       "</ol>\n"
      ],
      "text/latex": [
       "\\begin{enumerate*}\n",
       "\\item 'Name'\n",
       "\\item 'Description'\n",
       "\\item 'GTEX-1117F-0226-SM-5GZZ7'\n",
       "\\item 'GTEX-1117F-0426-SM-5EGHI'\n",
       "\\item 'GTEX-1117F-0526-SM-5EGHJ'\n",
       "\\item 'GTEX-1117F-0626-SM-5N9CS'\n",
       "\\end{enumerate*}\n"
      ],
      "text/markdown": [
       "1. 'Name'\n",
       "2. 'Description'\n",
       "3. 'GTEX-1117F-0226-SM-5GZZ7'\n",
       "4. 'GTEX-1117F-0426-SM-5EGHI'\n",
       "5. 'GTEX-1117F-0526-SM-5EGHJ'\n",
       "6. 'GTEX-1117F-0626-SM-5N9CS'\n",
       "\n",
       "\n"
      ],
      "text/plain": [
       "[1] \"Name\"                     \"Description\"             \n",
       "[3] \"GTEX-1117F-0226-SM-5GZZ7\" \"GTEX-1117F-0426-SM-5EGHI\"\n",
       "[5] \"GTEX-1117F-0526-SM-5EGHJ\" \"GTEX-1117F-0626-SM-5N9CS\""
      ]
     },
     "metadata": {},
     "output_type": "display_data"
    }
   ],
   "source": [
    "head(header)"
   ]
  },
  {
   "cell_type": "code",
   "execution_count": 112,
   "metadata": {},
   "outputs": [
    {
     "data": {
      "text/html": [
       "<ol class=list-inline>\n",
       "\t<li>&lt;NA&gt;</li>\n",
       "\t<li>&lt;NA&gt;</li>\n",
       "\t<li>&lt;NA&gt;</li>\n",
       "\t<li>&lt;NA&gt;</li>\n",
       "\t<li>&lt;NA&gt;</li>\n",
       "\t<li>&lt;NA&gt;</li>\n",
       "</ol>\n"
      ],
      "text/latex": [
       "\\begin{enumerate*}\n",
       "\\item <NA>\n",
       "\\item <NA>\n",
       "\\item <NA>\n",
       "\\item <NA>\n",
       "\\item <NA>\n",
       "\\item <NA>\n",
       "\\end{enumerate*}\n"
      ],
      "text/markdown": [
       "1. &lt;NA&gt;\n",
       "2. &lt;NA&gt;\n",
       "3. &lt;NA&gt;\n",
       "4. &lt;NA&gt;\n",
       "5. &lt;NA&gt;\n",
       "6. &lt;NA&gt;\n",
       "\n",
       "\n"
      ],
      "text/plain": [
       "[1] NA NA NA NA NA NA"
      ]
     },
     "metadata": {},
     "output_type": "display_data"
    }
   ],
   "source": [
    "head(target_idx)"
   ]
  },
  {
   "cell_type": "code",
   "execution_count": 113,
   "metadata": {},
   "outputs": [
    {
     "data": {
      "text/html": [
       "3288"
      ],
      "text/latex": [
       "3288"
      ],
      "text/markdown": [
       "3288"
      ],
      "text/plain": [
       "[1] 3288"
      ]
     },
     "metadata": {},
     "output_type": "display_data"
    }
   ],
   "source": [
    "length(target_idx)"
   ]
  },
  {
   "cell_type": "code",
   "execution_count": 114,
   "metadata": {},
   "outputs": [],
   "source": [
    "expression_df <- as.data.frame(expression_df)\n",
    "expression_df$NameClean <- as.character(sapply(expression_df$Name, function(x) unlist(strsplit(x, \"\\\\.\"))[[1]]))"
   ]
  },
  {
   "cell_type": "code",
   "execution_count": 115,
   "metadata": {},
   "outputs": [],
   "source": [
    "# extract the tissue-specific expression profile based on the tissue idx\n",
    "tissue_vec <- names(idx_list)\n",
    "expression_list <- list()\n",
    "header <- colnames(expression_df)\n",
    "for (tissue in tissue_vec) {\n",
    "    target_idx <- header %in% idx_list[[tissue]] \n",
    "    #target_idx <- target_idx[which(target_idx == T)]\n",
    "    expression_list[[tissue]] <- expression_df[, target_idx]\n",
    "    expression_list[[tissue]]$Name <- expression_df$Name\n",
    "    expression_list[[tissue]]$Description <- expression_df$Description\n",
    "    expression_list[[tissue]]$NameClean <- expression_df$NameClean\n",
    "}"
   ]
  },
  {
   "cell_type": "code",
   "execution_count": 116,
   "metadata": {},
   "outputs": [
    {
     "data": {
      "text/html": [
       "<ol class=list-inline>\n",
       "\t<li>'Name'</li>\n",
       "\t<li>'Description'</li>\n",
       "\t<li>'GTEX-1117F-0226-SM-5GZZ7'</li>\n",
       "\t<li>'GTEX-1117F-0426-SM-5EGHI'</li>\n",
       "\t<li>'GTEX-1117F-0526-SM-5EGHJ'</li>\n",
       "\t<li>'GTEX-1117F-0626-SM-5N9CS'</li>\n",
       "</ol>\n"
      ],
      "text/latex": [
       "\\begin{enumerate*}\n",
       "\\item 'Name'\n",
       "\\item 'Description'\n",
       "\\item 'GTEX-1117F-0226-SM-5GZZ7'\n",
       "\\item 'GTEX-1117F-0426-SM-5EGHI'\n",
       "\\item 'GTEX-1117F-0526-SM-5EGHJ'\n",
       "\\item 'GTEX-1117F-0626-SM-5N9CS'\n",
       "\\end{enumerate*}\n"
      ],
      "text/markdown": [
       "1. 'Name'\n",
       "2. 'Description'\n",
       "3. 'GTEX-1117F-0226-SM-5GZZ7'\n",
       "4. 'GTEX-1117F-0426-SM-5EGHI'\n",
       "5. 'GTEX-1117F-0526-SM-5EGHJ'\n",
       "6. 'GTEX-1117F-0626-SM-5N9CS'\n",
       "\n",
       "\n"
      ],
      "text/plain": [
       "[1] \"Name\"                     \"Description\"             \n",
       "[3] \"GTEX-1117F-0226-SM-5GZZ7\" \"GTEX-1117F-0426-SM-5EGHI\"\n",
       "[5] \"GTEX-1117F-0526-SM-5EGHJ\" \"GTEX-1117F-0626-SM-5N9CS\""
      ]
     },
     "metadata": {},
     "output_type": "display_data"
    }
   ],
   "source": [
    "head(header)"
   ]
  },
  {
   "cell_type": "code",
   "execution_count": 117,
   "metadata": {},
   "outputs": [
    {
     "data": {
      "text/html": [
       "'/gpfs/ysm/project/zhao/zy92/utmost_update/code/R'"
      ],
      "text/latex": [
       "'/gpfs/ysm/project/zhao/zy92/utmost\\_update/code/R'"
      ],
      "text/markdown": [
       "'/gpfs/ysm/project/zhao/zy92/utmost_update/code/R'"
      ],
      "text/plain": [
       "[1] \"/gpfs/ysm/project/zhao/zy92/utmost_update/code/R\""
      ]
     },
     "metadata": {},
     "output_type": "display_data"
    }
   ],
   "source": [
    "getwd()"
   ]
  },
  {
   "cell_type": "code",
   "execution_count": 118,
   "metadata": {},
   "outputs": [],
   "source": [
    "# /home/fas/radev/zy92/project/utmost_update/GTEX\n",
    "#save(expression_list, expression_df, file = \"/ysm-gpfs/pi/zhao/zy92/projects/utmost_update/GTEX/expression_list_target.RData\")\n",
    "#save(expression_list, expression_df, file = \"/gpfs/loomis/project/radev/zy92/utmost_update/GTEX/expression_list_target.RData\")"
   ]
  },
  {
   "cell_type": "code",
   "execution_count": 119,
   "metadata": {},
   "outputs": [
    {
     "data": {
      "text/html": [
       "<ol class=list-inline>\n",
       "\t<li>56200</li>\n",
       "\t<li>758</li>\n",
       "</ol>\n"
      ],
      "text/latex": [
       "\\begin{enumerate*}\n",
       "\\item 56200\n",
       "\\item 758\n",
       "\\end{enumerate*}\n"
      ],
      "text/markdown": [
       "1. 56200\n",
       "2. 758\n",
       "\n",
       "\n"
      ],
      "text/plain": [
       "[1] 56200   758"
      ]
     },
     "metadata": {},
     "output_type": "display_data"
    },
    {
     "data": {
      "text/html": [
       "<ol class=list-inline>\n",
       "\t<li>'ENSG00000223972'</li>\n",
       "\t<li>'ENSG00000227232'</li>\n",
       "\t<li>'ENSG00000278267'</li>\n",
       "\t<li>'ENSG00000243485'</li>\n",
       "\t<li>'ENSG00000237613'</li>\n",
       "\t<li>'ENSG00000268020'</li>\n",
       "</ol>\n"
      ],
      "text/latex": [
       "\\begin{enumerate*}\n",
       "\\item 'ENSG00000223972'\n",
       "\\item 'ENSG00000227232'\n",
       "\\item 'ENSG00000278267'\n",
       "\\item 'ENSG00000243485'\n",
       "\\item 'ENSG00000237613'\n",
       "\\item 'ENSG00000268020'\n",
       "\\end{enumerate*}\n"
      ],
      "text/markdown": [
       "1. 'ENSG00000223972'\n",
       "2. 'ENSG00000227232'\n",
       "3. 'ENSG00000278267'\n",
       "4. 'ENSG00000243485'\n",
       "5. 'ENSG00000237613'\n",
       "6. 'ENSG00000268020'\n",
       "\n",
       "\n"
      ],
      "text/plain": [
       "[1] \"ENSG00000223972\" \"ENSG00000227232\" \"ENSG00000278267\" \"ENSG00000243485\"\n",
       "[5] \"ENSG00000237613\" \"ENSG00000268020\""
      ]
     },
     "metadata": {},
     "output_type": "display_data"
    }
   ],
   "source": [
    "dim(expression_list[['Whole Blood']])\n",
    "head(expression_list[['Whole Blood']]$NameClean)"
   ]
  },
  {
   "cell_type": "code",
   "execution_count": 120,
   "metadata": {},
   "outputs": [
    {
     "data": {
      "text/html": [
       "'gene_info_target'"
      ],
      "text/latex": [
       "'gene\\_info\\_target'"
      ],
      "text/markdown": [
       "'gene_info_target'"
      ],
      "text/plain": [
       "[1] \"gene_info_target\""
      ]
     },
     "metadata": {},
     "output_type": "display_data"
    }
   ],
   "source": [
    "ln3 <- load(\"/ysm-gpfs/pi/zhao/zy92/projects/utmost_update/GTEX/gene_info_target.RData\")\n",
    "ln3"
   ]
  },
  {
   "cell_type": "code",
   "execution_count": 121,
   "metadata": {},
   "outputs": [
    {
     "data": {
      "text/html": [
       "'data.frame'"
      ],
      "text/latex": [
       "'data.frame'"
      ],
      "text/markdown": [
       "'data.frame'"
      ],
      "text/plain": [
       "[1] \"data.frame\""
      ]
     },
     "metadata": {},
     "output_type": "display_data"
    }
   ],
   "source": [
    "class(gene_info_target)"
   ]
  },
  {
   "cell_type": "code",
   "execution_count": 122,
   "metadata": {},
   "outputs": [
    {
     "data": {
      "text/html": [
       "<ol class=list-inline>\n",
       "\t<li>'ensembl_gene_id'</li>\n",
       "\t<li>'hgnc_symbol'</li>\n",
       "\t<li>'chromosome_name'</li>\n",
       "\t<li>'transcript_biotype'</li>\n",
       "</ol>\n"
      ],
      "text/latex": [
       "\\begin{enumerate*}\n",
       "\\item 'ensembl\\_gene\\_id'\n",
       "\\item 'hgnc\\_symbol'\n",
       "\\item 'chromosome\\_name'\n",
       "\\item 'transcript\\_biotype'\n",
       "\\end{enumerate*}\n"
      ],
      "text/markdown": [
       "1. 'ensembl_gene_id'\n",
       "2. 'hgnc_symbol'\n",
       "3. 'chromosome_name'\n",
       "4. 'transcript_biotype'\n",
       "\n",
       "\n"
      ],
      "text/plain": [
       "[1] \"ensembl_gene_id\"    \"hgnc_symbol\"        \"chromosome_name\"   \n",
       "[4] \"transcript_biotype\""
      ]
     },
     "metadata": {},
     "output_type": "display_data"
    }
   ],
   "source": [
    "names(gene_info_target)"
   ]
  },
  {
   "cell_type": "code",
   "execution_count": 124,
   "metadata": {},
   "outputs": [
    {
     "data": {
      "text/html": [
       "Whole Blood"
      ]
     },
     "metadata": {},
     "output_type": "display_data"
    },
    {
     "data": {
      "text/html": [
       "Brain - Frontal Cortex (BA9)"
      ]
     },
     "metadata": {},
     "output_type": "display_data"
    },
    {
     "data": {
      "text/html": [
       "Adipose - Subcutaneous"
      ]
     },
     "metadata": {},
     "output_type": "display_data"
    },
    {
     "data": {
      "text/html": [
       "Muscle - Skeletal"
      ]
     },
     "metadata": {},
     "output_type": "display_data"
    },
    {
     "data": {
      "text/html": [
       "Artery - Tibial"
      ]
     },
     "metadata": {},
     "output_type": "display_data"
    },
    {
     "data": {
      "text/html": [
       "Artery - Coronary"
      ]
     },
     "metadata": {},
     "output_type": "display_data"
    },
    {
     "data": {
      "text/html": [
       "Heart - Atrial Appendage"
      ]
     },
     "metadata": {},
     "output_type": "display_data"
    },
    {
     "data": {
      "text/html": [
       "Adipose - Visceral (Omentum)"
      ]
     },
     "metadata": {},
     "output_type": "display_data"
    },
    {
     "data": {
      "text/html": [
       "Ovary"
      ]
     },
     "metadata": {},
     "output_type": "display_data"
    },
    {
     "data": {
      "text/html": [
       "Uterus"
      ]
     },
     "metadata": {},
     "output_type": "display_data"
    },
    {
     "data": {
      "text/html": [
       "Vagina"
      ]
     },
     "metadata": {},
     "output_type": "display_data"
    },
    {
     "data": {
      "text/html": [
       "Breast - Mammary Tissue"
      ]
     },
     "metadata": {},
     "output_type": "display_data"
    },
    {
     "data": {
      "text/html": [
       "Skin - Not Sun Exposed (Suprapubic)"
      ]
     },
     "metadata": {},
     "output_type": "display_data"
    },
    {
     "data": {
      "text/html": [
       "Minor Salivary Gland"
      ]
     },
     "metadata": {},
     "output_type": "display_data"
    },
    {
     "data": {
      "text/html": [
       "Brain - Cortex"
      ]
     },
     "metadata": {},
     "output_type": "display_data"
    },
    {
     "data": {
      "text/html": [
       "Adrenal Gland"
      ]
     },
     "metadata": {},
     "output_type": "display_data"
    },
    {
     "data": {
      "text/html": [
       "Thyroid"
      ]
     },
     "metadata": {},
     "output_type": "display_data"
    },
    {
     "data": {
      "text/html": [
       "Lung"
      ]
     },
     "metadata": {},
     "output_type": "display_data"
    },
    {
     "data": {
      "text/html": [
       "Spleen"
      ]
     },
     "metadata": {},
     "output_type": "display_data"
    },
    {
     "data": {
      "text/html": [
       "Pancreas"
      ]
     },
     "metadata": {},
     "output_type": "display_data"
    },
    {
     "data": {
      "text/html": [
       "Esophagus - Muscularis"
      ]
     },
     "metadata": {},
     "output_type": "display_data"
    },
    {
     "data": {
      "text/html": [
       "Esophagus - Mucosa"
      ]
     },
     "metadata": {},
     "output_type": "display_data"
    },
    {
     "data": {
      "text/html": [
       "Esophagus - Gastroesophageal Junction"
      ]
     },
     "metadata": {},
     "output_type": "display_data"
    },
    {
     "data": {
      "text/html": [
       "Stomach"
      ]
     },
     "metadata": {},
     "output_type": "display_data"
    },
    {
     "data": {
      "text/html": [
       "Colon - Sigmoid"
      ]
     },
     "metadata": {},
     "output_type": "display_data"
    },
    {
     "data": {
      "text/html": [
       "Small Intestine - Terminal Ileum"
      ]
     },
     "metadata": {},
     "output_type": "display_data"
    },
    {
     "data": {
      "text/html": [
       "Colon - Transverse"
      ]
     },
     "metadata": {},
     "output_type": "display_data"
    },
    {
     "data": {
      "text/html": [
       "Prostate"
      ]
     },
     "metadata": {},
     "output_type": "display_data"
    },
    {
     "data": {
      "text/html": [
       "Testis"
      ]
     },
     "metadata": {},
     "output_type": "display_data"
    },
    {
     "data": {
      "text/html": [
       "Skin - Sun Exposed (Lower leg)"
      ]
     },
     "metadata": {},
     "output_type": "display_data"
    },
    {
     "data": {
      "text/html": [
       "Nerve - Tibial"
      ]
     },
     "metadata": {},
     "output_type": "display_data"
    },
    {
     "data": {
      "text/html": [
       "Heart - Left Ventricle"
      ]
     },
     "metadata": {},
     "output_type": "display_data"
    },
    {
     "data": {
      "text/html": [
       "Pituitary"
      ]
     },
     "metadata": {},
     "output_type": "display_data"
    },
    {
     "data": {
      "text/html": [
       "Brain - Cerebellum"
      ]
     },
     "metadata": {},
     "output_type": "display_data"
    },
    {
     "data": {
      "text/html": [
       "Cells - Cultured fibroblasts"
      ]
     },
     "metadata": {},
     "output_type": "display_data"
    },
    {
     "data": {
      "text/html": [
       "Artery - Aorta"
      ]
     },
     "metadata": {},
     "output_type": "display_data"
    },
    {
     "data": {
      "text/html": [
       "Cells - EBV-transformed lymphocytes"
      ]
     },
     "metadata": {},
     "output_type": "display_data"
    },
    {
     "data": {
      "text/html": [
       "Brain - Cerebellar Hemisphere"
      ]
     },
     "metadata": {},
     "output_type": "display_data"
    },
    {
     "data": {
      "text/html": [
       "Brain - Caudate (basal ganglia)"
      ]
     },
     "metadata": {},
     "output_type": "display_data"
    },
    {
     "data": {
      "text/html": [
       "Brain - Nucleus accumbens (basal ganglia)"
      ]
     },
     "metadata": {},
     "output_type": "display_data"
    },
    {
     "data": {
      "text/html": [
       "Brain - Putamen (basal ganglia)"
      ]
     },
     "metadata": {},
     "output_type": "display_data"
    },
    {
     "data": {
      "text/html": [
       "Brain - Hypothalamus"
      ]
     },
     "metadata": {},
     "output_type": "display_data"
    },
    {
     "data": {
      "text/html": [
       "Brain - Spinal cord (cervical c-1)"
      ]
     },
     "metadata": {},
     "output_type": "display_data"
    },
    {
     "data": {
      "text/html": [
       "Liver"
      ]
     },
     "metadata": {},
     "output_type": "display_data"
    },
    {
     "data": {
      "text/html": [
       "Brain - Hippocampus"
      ]
     },
     "metadata": {},
     "output_type": "display_data"
    },
    {
     "data": {
      "text/html": [
       "Brain - Anterior cingulate cortex (BA24)"
      ]
     },
     "metadata": {},
     "output_type": "display_data"
    },
    {
     "data": {
      "text/html": [
       "Brain - Substantia nigra"
      ]
     },
     "metadata": {},
     "output_type": "display_data"
    },
    {
     "data": {
      "text/html": [
       "Kidney - Cortex"
      ]
     },
     "metadata": {},
     "output_type": "display_data"
    },
    {
     "data": {
      "text/html": [
       "Brain - Amygdala"
      ]
     },
     "metadata": {},
     "output_type": "display_data"
    },
    {
     "data": {
      "text/html": [
       "Cervix - Ectocervix"
      ]
     },
     "metadata": {},
     "output_type": "display_data"
    },
    {
     "data": {
      "text/html": [
       "Fallopian Tube"
      ]
     },
     "metadata": {},
     "output_type": "display_data"
    },
    {
     "data": {
      "text/html": [
       "Cervix - Endocervix"
      ]
     },
     "metadata": {},
     "output_type": "display_data"
    },
    {
     "data": {
      "text/html": [
       "Bladder"
      ]
     },
     "metadata": {},
     "output_type": "display_data"
    },
    {
     "data": {
      "text/html": [
       "Kidney - Medulla"
      ]
     },
     "metadata": {},
     "output_type": "display_data"
    },
    {
     "data": {
      "text/html": [
       "Cells - Leukemia cell line (CML)"
      ]
     },
     "metadata": {},
     "output_type": "display_data"
    }
   ],
   "source": [
    "# function to filter the target gene\n",
    "expression_list_target <- expression_list\n",
    "for (tissue in tissue_vec) {\n",
    "    IRdisplay::display_html(tissue)\n",
    "    expression_list_target[[tissue]] <-  gene_info_target %>% \n",
    "        left_join(expression_list[[tissue]], by = c(\"ensembl_gene_id\" = \"NameClean\"))\n",
    "}\n",
    "\n"
   ]
  },
  {
   "cell_type": "code",
   "execution_count": 125,
   "metadata": {},
   "outputs": [
    {
     "data": {
      "text/html": [
       "<table>\n",
       "<caption>A data.frame: 6 × 761</caption>\n",
       "<thead>\n",
       "\t<tr><th scope=col>ensembl_gene_id</th><th scope=col>hgnc_symbol</th><th scope=col>chromosome_name</th><th scope=col>transcript_biotype</th><th scope=col>GTEX-111YS-0006-SM-5NQBE</th><th scope=col>GTEX-1122O-0005-SM-5O99J</th><th scope=col>GTEX-1128S-0005-SM-5P9HI</th><th scope=col>GTEX-113IC-0006-SM-5NQ9C</th><th scope=col>GTEX-113JC-0006-SM-5O997</th><th scope=col>GTEX-117XS-0005-SM-5PNU6</th><th scope=col>⋯</th><th scope=col>GTEX-ZVT2-0005-SM-57WBW</th><th scope=col>GTEX-ZVT3-0006-SM-51MT9</th><th scope=col>GTEX-ZVT4-0006-SM-57WB8</th><th scope=col>GTEX-ZVTK-0006-SM-57WBK</th><th scope=col>GTEX-ZVZP-0006-SM-51MSW</th><th scope=col>GTEX-ZVZQ-0006-SM-51MR8</th><th scope=col>GTEX-ZXES-0005-SM-57WCB</th><th scope=col>GTEX-ZXG5-0005-SM-57WCN</th><th scope=col>Name</th><th scope=col>Description</th></tr>\n",
       "\t<tr><th scope=col>&lt;chr&gt;</th><th scope=col>&lt;chr&gt;</th><th scope=col>&lt;chr&gt;</th><th scope=col>&lt;chr&gt;</th><th scope=col>&lt;dbl&gt;</th><th scope=col>&lt;dbl&gt;</th><th scope=col>&lt;dbl&gt;</th><th scope=col>&lt;dbl&gt;</th><th scope=col>&lt;dbl&gt;</th><th scope=col>&lt;dbl&gt;</th><th scope=col>⋯</th><th scope=col>&lt;dbl&gt;</th><th scope=col>&lt;dbl&gt;</th><th scope=col>&lt;dbl&gt;</th><th scope=col>&lt;dbl&gt;</th><th scope=col>&lt;dbl&gt;</th><th scope=col>&lt;dbl&gt;</th><th scope=col>&lt;dbl&gt;</th><th scope=col>&lt;dbl&gt;</th><th scope=col>&lt;chr&gt;</th><th scope=col>&lt;chr&gt;</th></tr>\n",
       "</thead>\n",
       "<tbody>\n",
       "\t<tr><td>ENSG00000228229</td><td>     </td><td>1</td><td>lincRNA       </td><td>0.0000</td><td>0.00000</td><td>0.000</td><td>0.000</td><td>0.0000</td><td>0.00000</td><td>⋯</td><td>0.00000</td><td>0.0000</td><td>0.0000</td><td>0.0000</td><td>0.00000</td><td>0.00000</td><td>0.00000</td><td>0.00000</td><td>ENSG00000228229.2</td><td>RP11-219C24.10</td></tr>\n",
       "\t<tr><td>ENSG00000237445</td><td>     </td><td>1</td><td>lincRNA       </td><td>0.0000</td><td>0.00000</td><td>0.000</td><td>0.000</td><td>0.0000</td><td>0.00000</td><td>⋯</td><td>0.00000</td><td>0.0000</td><td>0.0000</td><td>0.0000</td><td>0.00000</td><td>0.00000</td><td>0.00000</td><td>0.00000</td><td>ENSG00000237445.2</td><td>CTA-520D8.2   </td></tr>\n",
       "\t<tr><td>ENSG00000231606</td><td>     </td><td>1</td><td>lincRNA       </td><td>0.0000</td><td>0.00000</td><td>0.000</td><td>0.000</td><td>0.0000</td><td>0.00000</td><td>⋯</td><td>0.00000</td><td>0.0000</td><td>0.0000</td><td>0.0000</td><td>0.00000</td><td>0.00000</td><td>0.00000</td><td>0.00000</td><td>ENSG00000231606.1</td><td>RP11-344F13.1 </td></tr>\n",
       "\t<tr><td>ENSG00000234593</td><td>     </td><td>1</td><td>lincRNA       </td><td>0.0000</td><td>0.00000</td><td>0.000</td><td>0.000</td><td>0.0000</td><td>0.00000</td><td>⋯</td><td>0.00000</td><td>0.0000</td><td>0.0000</td><td>0.0000</td><td>0.00000</td><td>0.00000</td><td>0.00000</td><td>0.00000</td><td>ENSG00000234593.2</td><td>RP4-704D23.1  </td></tr>\n",
       "\t<tr><td>ENSG00000228140</td><td>     </td><td>1</td><td>lincRNA       </td><td>0.5148</td><td>1.62100</td><td>0.678</td><td>2.237</td><td>0.1405</td><td>0.05083</td><td>⋯</td><td>1.06500</td><td>0.3384</td><td>0.1622</td><td>0.1911</td><td>2.15500</td><td>0.28140</td><td>0.74600</td><td>0.62610</td><td>ENSG00000228140.1</td><td>RP3-467K16.4  </td></tr>\n",
       "\t<tr><td>ENSG00000186092</td><td>OR4F5</td><td>1</td><td>protein_coding</td><td>0.0000</td><td>0.05678</td><td>0.000</td><td>0.000</td><td>0.0000</td><td>0.00000</td><td>⋯</td><td>0.04884</td><td>0.0000</td><td>0.0000</td><td>0.0000</td><td>0.04552</td><td>0.03527</td><td>0.08015</td><td>0.04528</td><td>ENSG00000186092.4</td><td>OR4F5         </td></tr>\n",
       "</tbody>\n",
       "</table>\n"
      ],
      "text/latex": [
       "A data.frame: 6 × 761\n",
       "\\begin{tabular}{r|lllllllllllllllllllllllllllllllllllllllllllllllllllllllllllllllllllllllllllllllllllllllllllllllllllllllllllllllllllllllllllllllllllllllllllllllllllllllllllllllllllllllllllllllllllllllllllllllllllllllllllllllllllllllllllllllllllllllllllllllllllllllllllllllllllllllllllllllllllllllllllllllllllllllllllllllllllllllllllllllllllllllllllllllllllllllllllllllllllllllllllllllllllllllllllllllllllllllllllllllllllllllllllllllllllllllllllllllllllllllllllllllllllllllllllllllllllllllllllllllllllllllllllllllllllllllllllllllllllllllllllllllllllllllllllllllllllllllllllllllllllllllllllllllllllllllllllllllllllllllllllllllllllllllllllllllllllllllllllllllllllllllllllllllllllllllllllllllllllllllllllllllllllllllllllllllllllllllllllllllllllllllllllllllllllllllllllllllllllllllll}\n",
       " ensembl\\_gene\\_id & hgnc\\_symbol & chromosome\\_name & transcript\\_biotype & GTEX-111YS-0006-SM-5NQBE & GTEX-1122O-0005-SM-5O99J & GTEX-1128S-0005-SM-5P9HI & GTEX-113IC-0006-SM-5NQ9C & GTEX-113JC-0006-SM-5O997 & GTEX-117XS-0005-SM-5PNU6 & GTEX-117YW-0005-SM-5NQ8Z & GTEX-1192W-0005-SM-5NQBQ & GTEX-1192X-0005-SM-5NQC3 & GTEX-11DXW-0006-SM-5NQ7Y & GTEX-11DXX-0005-SM-5NQ8B & GTEX-11DXY-0006-SM-5NQ8N & GTEX-11DXZ-0006-SM-5LZZH & GTEX-11DYG-0006-SM-5NQB2 & GTEX-11EI6-0005-SM-5N9GN & GTEX-11EM3-0005-SM-5N9DK & GTEX-11EMC-0006-SM-5O9DN & GTEX-11EQ8-0006-SM-5P9HJ & GTEX-11EQ9-0006-SM-5LUB6 & GTEX-11GS4-0006-SM-5SI9M & GTEX-11GSO-0005-SM-5O9CA & GTEX-11GSP-0006-SM-5N9EL & GTEX-11I78-0005-SM-5N9GB & GTEX-11LCK-0005-SM-5O98U & GTEX-11NUK-0005-SM-5MR5F & GTEX-11NV4-0005-SM-5N9EX & GTEX-11O72-0006-SM-5O9DB & GTEX-11OC5-0006-SM-5N9FA & GTEX-11OF3-0006-SM-5O9CM & GTEX-11ONC-0005-SM-5O9CY & GTEX-11P7K-0006-SM-5N9FM & GTEX-11P81-0006-SM-5NQ7A & GTEX-11P82-0006-SM-5N9FY & GTEX-11PRG-0005-SM-5NQ6X & GTEX-11TT1-0005-SM-5NQ8Y & GTEX-11TTK-0005-SM-5O9BX & GTEX-11TUW-0006-SM-5LZW2 & GTEX-11UD2-0005-SM-5NQ9B & GTEX-11VI4-0006-SM-5N9D8 & GTEX-11WQC-0006-SM-5LZVP & GTEX-11WQK-0005-SM-5O9AV & GTEX-11XUK-0005-SM-5LU9F & GTEX-11ZTS-0005-SM-5NQ8A & GTEX-11ZTT-0006-SM-5N9FX & GTEX-11ZU8-0005-SM-5PNU5 & GTEX-11ZUS-0006-SM-5O9AJ & GTEX-11ZVC-0006-SM-5N9GA & GTEX-1211K-0006-SM-5MR53 & GTEX-12126-0006-SM-5O9B8 & GTEX-1212Z-0006-SM-5NQ8M & GTEX-12584-0005-SM-5N9GM & GTEX-12696-0005-SM-5LZYS & GTEX-1269C-0005-SM-5N9CJ & GTEX-12BJ1-0006-SM-5SIB5 & GTEX-12C56-0006-SM-5N9E9 & GTEX-12KS4-0005-SM-5SI94 & GTEX-12WSC-0005-SM-5MR3H & GTEX-12WSD-0005-SM-5N9FZ & GTEX-12WSE-0005-SM-5NQAE & GTEX-12WSF-0005-SM-5NQAQ & GTEX-12WSG-0005-SM-5NQA2 & GTEX-12WSH-0005-SM-5NQ9P & GTEX-12WSI-0005-SM-5O99K & GTEX-12WSJ-0005-SM-5LU8S & GTEX-12WSK-0006-SM-5NQA1 & GTEX-12WSL-0005-SM-5NQAD & GTEX-12WSM-0005-SM-5NQB3 & GTEX-12WSN-0006-SM-5NQAP & GTEX-12ZZW-0005-SM-5O9BY & GTEX-12ZZX-0005-SM-5O9A9 & GTEX-13111-0005-SM-5NQ7Z & GTEX-13113-0006-SM-5NQ7X & GTEX-1313W-0006-SM-5O9B1 & GTEX-1314G-0005-SM-5NQ9O & GTEX-131XE-0006-SM-5P9F9 & GTEX-131XF-0006-SM-5P9HK & GTEX-131XG-0006-SM-5O9CE & GTEX-131XH-0006-SM-5O98V & GTEX-131XW-0006-SM-5O9AO & GTEX-131YS-0005-SM-5NQAS & GTEX-132AR-0006-SM-5NQ7N & GTEX-132NY-0005-SM-5O9AC & GTEX-132Q8-0006-SM-5NQA4 & GTEX-132QS-0005-SM-5LZXK & GTEX-1339X-0005-SM-5O9CQ & GTEX-1399R-0006-SM-5N9FR & GTEX-1399S-0006-SM-5NQ7U & GTEX-1399U-0005-SM-5NQ8K & GTEX-139D8-0006-SM-5LZX8 & GTEX-139T6-0006-SM-5LU92 & GTEX-139T8-0006-SM-5NQ6V & GTEX-139TS-0005-SM-5NQC1 & GTEX-139TT-0006-SM-5O9CG & GTEX-139TU-0006-SM-5LZVN & GTEX-139UW-0005-SM-5NQ8U & GTEX-13CF2-0006-SM-5O99L & GTEX-13CF3-0006-SM-5N9ED & GTEX-13CIG-0006-SM-5P9HF & GTEX-13CZU-0005-SM-5LU8K & GTEX-13FTW-0005-SM-5LZVZ & GTEX-13FTX-0005-SM-5N9F6 & GTEX-13FTY-0005-SM-5NQ78 & GTEX-13FTZ-0005-SM-5NQ9N & GTEX-13FXS-0006-SM-5O99X & GTEX-13G51-0005-SM-5N9EP & GTEX-13JUV-0006-SM-5NQ97 & GTEX-13O61-0005-SM-5O9AU & GTEX-13OVG-0005-SM-5P9HA & GTEX-13OVH-0005-SM-5P9HB & GTEX-13OVI-0001-SM-5O9BL & GTEX-13OVJ-0006-SM-5O98T & GTEX-13OVK-0006-SM-5O9B7 & GTEX-13OVL-0006-SM-5O996 & GTEX-13OW6-0005-SM-5NQ9Z & GTEX-13OW8-0005-SM-5NQAC & GTEX-13PL7-0005-SM-5N9ET & GTEX-13PLJ-0005-SM-5NQ99 & GTEX-13S7M-0005-SM-5NQ76 & GTEX-13S86-0005-SM-5NQ7I & GTEX-13SLX-0005-SM-CM2RF & GTEX-13U4I-0006-SM-5N9CI & GTEX-13VXT-0005-SM-5N9F3 & GTEX-13VXU-0006-SM-5N9FF & GTEX-13W3W-0005-SM-5SI9Y & GTEX-1477Z-0005-SM-5PNWD & GTEX-147F3-0005-SM-5N9FI & GTEX-147F4-0006-SM-5O99T & GTEX-147GR-0005-SM-5NQAO & GTEX-147JS-0006-SM-5NQ7K & GTEX-148VI-0006-SM-5O9A6 & GTEX-148VJ-0006-SM-5NQB1 & GTEX-1497J-0005-SM-5NQBD & GTEX-14A5H-0006-SM-5O9AI & GTEX-14A5I-0005-SM-5N9FU & GTEX-14A6H-0006-SM-5NQ7W & GTEX-14ABY-0005-SM-5O99U & GTEX-14AS3-0006-SM-5NQC2 & GTEX-14B4R-0006-SM-5O9A7 & GTEX-14BIL-0006-SM-5N9F2 & GTEX-14BIM-0006-SM-5O9AA & GTEX-14BIN-0005-SM-5N9FE & GTEX-14BMU-0006-SM-5MR3T & GTEX-14BMV-0005-SM-5NQ6Y & GTEX-14C38-0006-SM-5NQBF & GTEX-14C39-0005-SM-5NQBR & GTEX-14C5O-0005-SM-5P9ER & GTEX-14DAQ-0005-SM-5NQ7B & GTEX-14DAR-0006-SM-5N9GC & GTEX-14E1K-0006-SM-5N9DY & GTEX-14E6C-0005-SM-5O98N & GTEX-14E6D-0005-SM-5N9D7 & GTEX-14E6E-0006-SM-5MR5N & GTEX-14E7W-0006-SM-5N9GG & GTEX-14H4A-0006-SM-5N9E3 & GTEX-14ICK-0006-SM-5NQB5 & GTEX-14ICL-0006-SM-5SIAB & GTEX-14JFF-0005-SM-7P8RF & GTEX-14JG1-0006-SM-7SB6P & GTEX-14JG6-0005-SM-9JGFV & GTEX-14JIY-0005-SM-7MXVF & GTEX-14LLW-0006-SM-9QEGG & GTEX-14LZ3-0005-SM-7MXUG & GTEX-14PHW-0005-SM-9KNTK & GTEX-14PHY-0006-SM-7SB7I & GTEX-14PII-0005-SM-7RHFV & GTEX-14PJ2-0005-SM-9JGFU & GTEX-14PJ3-0005-SM-9JGFT & GTEX-14PJ4-0006-SM-7RHFY & GTEX-14PJ5-0005-SM-9MQLO & GTEX-14PJ6-0006-SM-7P8RE & GTEX-14PJM-0006-SM-9JGHA & GTEX-14PJN-0005-SM-9JGGF & GTEX-14PJO-0005-SM-9JGGY & GTEX-14PJP-0005-SM-7P8OM & GTEX-14PK6-0006-SM-7PC1L & GTEX-14PKU-0005-SM-9KNTL & GTEX-14PKV-0006-SM-9MQL3 & GTEX-14PN3-0006-SM-7SB6O & GTEX-14PN4-0005-SM-7PC21 & GTEX-14PQA-0006-SM-7PC2D & GTEX-14XAO-0006-SM-7RHFX & GTEX-15CHC-0006-SM-7P8RG & GTEX-15CHQ-0005-SM-7P8RH & GTEX-15CHR-0005-SM-9KNUS & GTEX-15D1Q-0006-SM-9KNTN & GTEX-15D79-0005-SM-7P8TS & GTEX-15DCD-0006-SM-7RHG4 & GTEX-15DCE-0005-SM-7SB7J & GTEX-15DYW-0006-SM-7RHFR & GTEX-15DZA-0005-SM-9JGFP & GTEX-15EO6-0005-SM-7PBZC & GTEX-15ETS-0005-SM-9KNTJ & GTEX-15EU6-0005-SM-7P8RJ & GTEX-15G19-0006-SM-9KNW6 & GTEX-15G1A-0006-SM-7PC1Z & GTEX-15RIE-0006-SM-7MKF8 & GTEX-15RIF-0005-SM-7RHGH & GTEX-15RIG-0006-SM-7PC1N & GTEX-15RJ7-0006-SM-7RHHM & GTEX-15RJE-0006-SM-7PC1J & GTEX-15SB6-0005-SM-7P8OO & GTEX-15SDE-0006-SM-7PC19 & GTEX-16AAH-0005-SM-7P8RD & GTEX-16BQI-0006-SM-7SB6K & GTEX-16MT8-0005-SM-7PBYO & GTEX-16MT9-0006-SM-7MXTU & GTEX-16MTA-0005-SM-7RHFT & GTEX-16NGA-0006-SM-9JGFQ & GTEX-16NPV-0005-SM-7PC2F & GTEX-16NPX-0005-SM-7MKGG & GTEX-16XZY-0006-SM-7SB99 & GTEX-16XZZ-0006-SM-7MKF5 & GTEX-16YQH-0006-SM-7P8OQ & GTEX-16Z82-0005-SM-7PBXZ & GTEX-178AV-0005-SM-9JGFM & GTEX-17EUY-0006-SM-7P8SB & GTEX-17EVP-0005-SM-7P8RC & GTEX-17EVQ-0006-SM-7MGWB & GTEX-17GQL-0005-SM-7MKF4 & GTEX-17HG3-0006-SM-7MKFE & GTEX-17HGU-0006-SM-7MXT8 & GTEX-17HHE-0005-SM-7P8OT & GTEX-17HHY-0006-SM-7MXT4 & GTEX-17HII-0005-SM-7MKF6 & GTEX-17JCI-0005-SM-7P8OL & GTEX-17KNJ-0005-SM-7PBYB & GTEX-17MFQ-0006-SM-7PBXP & GTEX-183FY-0005-SM-9KNTO & GTEX-183WM-0005-SM-9JGFW & GTEX-18465-0006-SM-7SB6R & GTEX-18A66-0005-SM-7SB6U & GTEX-18A67-0006-SM-7SB6T & GTEX-18A6Q-0005-SM-9KNVX & GTEX-18A7A-0006-SM-7PC1P & GTEX-18A7B-0005-SM-7PC1D & GTEX-18D9A-0005-SM-7SB7H & GTEX-18D9B-0005-SM-7PBYL & GTEX-18D9U-0006-SM-7SB6M & GTEX-18QFQ-0006-SM-7SB6X & GTEX-1A32A-0006-SM-7PC1Y & GTEX-1A3MV-0005-SM-7PC1O & GTEX-1A3MW-0006-SM-7MKGU & GTEX-1A3MX-0005-SM-7MGW7 & GTEX-1A8FM-0006-SM-7MGWI & GTEX-1A8G6-0006-SM-7PC1X & GTEX-1A8G7-0006-SM-7P8RM & GTEX-1AMEY-0005-SM-7PBYK & GTEX-1AMFI-0006-SM-9KNTQ & GTEX-1AX8Z-0006-SM-9KNVB & GTEX-1AX9I-0005-SM-9MQKI & GTEX-1AX9J-0005-SM-9MQKU & GTEX-1AX9K-0006-SM-9KNVP & GTEX-1AYCT-0005-SM-7SB6V & GTEX-1AYD5-0005-SM-7SB6L & GTEX-1B8KE-0006-SM-7SB6W & GTEX-1B8KZ-0006-SM-7MXTJ & GTEX-1B8L1-0005-SM-9MQK6 & GTEX-1B8SF-0005-SM-7MGVK & GTEX-1B8SG-0006-SM-7MKFA & GTEX-1B932-0005-SM-9KNTP & GTEX-1B933-0006-SM-7P8OP & GTEX-1B97I-0005-SM-7PC1M & GTEX-1B97J-0005-SM-7MXT5 & GTEX-1B996-0006-SM-7P8OS & GTEX-1BAJH-0005-SM-7PC1R & GTEX-1C2JI-0006-SM-7PC3Q & GTEX-1C475-0006-SM-9MQL7 & GTEX-1C4CL-0005-SM-7MKF3 & GTEX-1C64N-0005-SM-7PBY7 & GTEX-1C64O-0006-SM-7PC22 & GTEX-1C6VQ-0005-SM-7P8OR & GTEX-1C6VR-0005-SM-7MKF7 & GTEX-1C6VS-0005-SM-7MGWG & GTEX-1CAMR-0006-SM-ACKV5 & GTEX-1CAMS-0005-SM-ARL6Y & GTEX-1CB4E-0005-SM-ADEGS & GTEX-1CB4G-0006-SM-AHZ22 & GTEX-1CB4H-0006-SM-A96RE & GTEX-1CB4I-0006-SM-A96RF & GTEX-1CB4J-0006-SM-ACKV6 & GTEX-1E1VI-0005-SM-ARU6H & GTEX-1E2YA-0006-SM-AHZ23 & GTEX-1EH9U-0005-SM-ACKV3 & GTEX-1EKGG-0005-SM-AHZ1Z & GTEX-1EMGI-0006-SM-ACKVA & GTEX-1EN7A-0006-SM-AHZ4O & GTEX-1EU9M-0006-SM-ARU6I & GTEX-1EWIQ-0005-SM-ADEHB & GTEX-1EX96-0006-SM-ARU6J & GTEX-1F48J-0006-SM-ARL6W & GTEX-1F52S-0006-SM-ARL6X & GTEX-1F5PK-0005-SM-A96RM & GTEX-1F6I4-0005-SM-ARZKZ & GTEX-1F6IF-0005-SM-ARU6K & GTEX-1F75I-0005-SM-ADEHC & GTEX-1F75W-0005-SM-A9SMP & GTEX-1F7RK-0006-SM-ACKV4 & GTEX-1F88F-0005-SM-A9SK2 & GTEX-1GF9U-0005-SM-A9SK1 & GTEX-1GF9V-0006-SM-A96RD & GTEX-1GF9W-0006-SM-ARZL1 & GTEX-1GF9X-0005-SM-A9G3R & GTEX-1GMR2-0005-SM-ADEH3 & GTEX-1GMR3-0005-SM-ADEGR & GTEX-1GMR8-0005-SM-ARZL2 & GTEX-1GMRU-0006-SM-AHZ21 & GTEX-1GN1U-0006-SM-ARU6G & GTEX-1GN1V-0006-SM-ADEHD & GTEX-1GN1W-0006-SM-A9SKL & GTEX-1GN2E-0005-SM-ARU6L & GTEX-1GN73-0005-SM-ACKVI & GTEX-1GPI6-0005-SM-ADEGT & GTEX-1GPI7-0005-SM-A9G13 & GTEX-1GTWX-0006-SM-ARZL3 & GTEX-1GZ2Q-0005-SM-ARL71 & GTEX-1GZ4H-0005-SM-ARZL7 & GTEX-1GZHY-0005-SM-ARZL6 & GTEX-1H11D-0005-SM-ACKV7 & GTEX-1H1CY-0005-SM-A9G15 & GTEX-1H1DE-0005-SM-A9SK4 & GTEX-1H1DF-0005-SM-ADEGU & GTEX-1H1DG-0006-SM-ARZL4 & GTEX-1H1E6-0005-SM-ARZL5 & GTEX-1H23P-0005-SM-A9G14 & GTEX-1H3NZ-0005-SM-A96RG & GTEX-1H3O1-0005-SM-ACKV8 & GTEX-1H4P4-0006-SM-AHZ24 & GTEX-1HB9E-0006-SM-ARU6M & GTEX-1HBPI-0005-SM-ARZLB & GTEX-1HBPM-0006-SM-A9SKK & GTEX-1HC8U-0005-SM-ADEGV & GTEX-1HCU6-0005-SM-AHZ28 & GTEX-1HCU7-0006-SM-A9G19 & GTEX-1HCU8-0005-SM-A96RL & GTEX-1HCU9-0005-SM-A9G1A & GTEX-1HCUA-0006-SM-ACKV9 & GTEX-1HCVE-0006-SM-ADEH2 & GTEX-1HFI6-0005-SM-A9SK6 & GTEX-1HFI7-0005-SM-ADEH1 & GTEX-1HKZK-0005-SM-ARL73 & GTEX-1HR98-0005-SM-A9SKM & GTEX-1HR9M-0005-SM-AHZ26 & GTEX-1HSGN-0006-SM-ACKVH & GTEX-1HSKV-0006-SM-ARZL9 & GTEX-1HSMO-0005-SM-ADEGW & GTEX-1HSMP-0006-SM-AHZ25 & GTEX-1HSMQ-0006-SM-ARU6N & GTEX-1HT8W-0006-SM-A9G17 & GTEX-1HUB1-0005-SM-ARL74 & GTEX-1I19N-0006-SM-A9G18 & GTEX-1I1CD-0005-SM-ADEGY & GTEX-1I1GP-0006-SM-A96RJ & GTEX-1I1GQ-0005-SM-ARU6O & GTEX-1I1GR-0006-SM-ARL75 & GTEX-1I1GS-0005-SM-DHXIW & GTEX-1I1GT-0005-SM-A9SK5 & GTEX-1I1GV-0005-SM-AHZ27 & GTEX-1I1HK-0005-SM-ARZL8 & GTEX-1I4MK-0006-SM-A96RI & GTEX-1I6K6-0006-SM-ARZLA & GTEX-1I6K7-0005-SM-ARL72 & GTEX-1ICG6-0006-SM-A96RH & GTEX-1ICLY-0005-SM-A9G16 & GTEX-1IDFM-0005-SM-ADEGX & GTEX-1IDJC-0005-SM-A9G1C & GTEX-1IDJD-0006-SM-ARZLC & GTEX-1IDJE-0006-SM-A9G1B & GTEX-1IDJF-0005-SM-ARU6P & GTEX-1IDJH-0006-SM-CMKFT & GTEX-1IDJI-0006-SM-CMKFJ & GTEX-1IDJU-0006-SM-CMKFK & GTEX-1IE54-0005-SM-CMKFQ & GTEX-1IGQW-0005-SM-CMKFR & GTEX-1IKJJ-0005-SM-CMKFS & GTEX-1IKK5-0006-SM-CMKFI & GTEX-1IKOE-0005-SM-CMKFL & GTEX-1IKOH-0006-SM-CMKFM & GTEX-1IL2U-0006-SM-CMKFP & GTEX-1IL2V-0006-SM-CMKFN & GTEX-1IOXB-0006-SM-CMKFO & GTEX-1IY9M-0005-SM-CNNOU & GTEX-1J8EW-0006-SM-CNNOW & GTEX-1J8JJ-0006-SM-CNNOX & GTEX-1J8Q2-0006-SM-CNNOZ & GTEX-1J8Q3-0005-SM-CNNOY & GTEX-1J8QM-0006-SM-CNNP1 & GTEX-1JJ6O-0005-SM-DHXJ4 & GTEX-1JJE9-0006-SM-CGQEB & GTEX-1JJEA-0006-SM-DHXJ2 & GTEX-1JK1U-0006-SM-DHXJ3 & GTEX-1JKYN-0006-SM-DHXJ5 & GTEX-1JKYR-0005-SM-DHXL5 & GTEX-1JMLX-0006-SM-DHXJ6 & GTEX-1JMOU-0006-SM-DHXJ7 & GTEX-1JMPY-0006-SM-DHXJ8 & GTEX-1JMPZ-0006-SM-DHXJ9 & GTEX-1JMQI-0005-SM-DHXJA & GTEX-1JMQJ-0006-SM-DHXJD & GTEX-1JMQK-0005-SM-CNPOE & GTEX-1JMQL-0006-SM-DHXJB & GTEX-1JN1M-0006-SM-DHXJE & GTEX-1JN6P-0005-SM-DIPEH & GTEX-1JN76-0005-SM-EAZ3B & GTEX-1K2DA-0005-SM-DIPE7 & GTEX-1K2DU-0005-SM-DIPE8 & GTEX-1K9T9-0006-SM-DIPE9 & GTEX-1KAFJ-0006-SM-9WPO1 & GTEX-1KANA-0006-SM-9YFLB & GTEX-1KANB-0006-SM-DIPE6 & GTEX-1KANC-0006-SM-9YFL8 & GTEX-1KD4Q-0006-SM-DIPEA & GTEX-1KD5A-0006-SM-DIPEB & GTEX-1KWVE-0005-SM-CYPSE & GTEX-1KXAM-0005-SM-DIPEC & GTEX-1L5NE-0005-SM-DIPEG & GTEX-1LB8K-0005-SM-DIPED & GTEX-1LBAC-0005-SM-DIPEE & GTEX-1LC47-0005-SM-COH2J & GTEX-1LG7Y-0005-SM-DKPQ7 & GTEX-1LG7Z-0005-SM-DKPQ6 & GTEX-1LGOU-0005-SM-DKPPW & GTEX-1LGRB-0006-SM-DKPPB & GTEX-1LH75-0006-SM-CXZIP & GTEX-1LKK1-0005-SM-CXZIT & GTEX-1LNCM-0005-SM-CXZIR & GTEX-1LSNL-0006-SM-CXZIV & GTEX-1LSNM-0005-SM-CXZIW & GTEX-1LSVX-0005-SM-DKPPI & GTEX-1LVA9-0006-SM-DKPPN & GTEX-1LVAM-0005-SM-CXZJ4 & GTEX-1LVAN-0005-SM-DKPPM & GTEX-1LVAO-0006-SM-CXZIU & GTEX-1M4P7-0005-SM-CXZIS & GTEX-1M5QR-0005-SM-DKPPP & GTEX-1MA7W-0006-SM-DKPPR & GTEX-1MA7X-0006-SM-CXZJ6 & GTEX-1MCC2-0006-SM-DKPPJ & GTEX-1MCQQ-0005-SM-DKPPV & GTEX-1MCYP-0005-SM-DKPPK & GTEX-1MGNQ-0005-SM-CXZJ1 & GTEX-1MJIX-0006-SM-DKPPU & GTEX-1MJK2-0006-SM-CXZIN & GTEX-1MJK3-0006-SM-DKPP9 & GTEX-1MUQO-0005-SM-DKPPT & GTEX-1N2DW-0006-SM-DKPP4 & GTEX-1N2EE-0005-SM-DKPP5 & GTEX-1N2EF-0005-SM-CXZIL & GTEX-1N5O9-0006-SM-DKPPS & GTEX-1NHNU-0005-SM-DKPP3 & GTEX-1NSGN-0005-SM-DKPPX & GTEX-1NUQO-0005-SM-DKPP2 & GTEX-1NV8Z-0005-SM-DKPQ3 & GTEX-1O97I-0005-SM-DKPPY & GTEX-1O9I2-0005-SM-DKPQ1 & GTEX-1OFPY-0005-SM-DKPPZ & GTEX-1OJC3-0006-SM-DKPP1 & GTEX-1OJC4-0005-SM-DKPQ4 & GTEX-1OKEX-0006-SM-DKPQ2 & GTEX-1P4AB-0005-SM-CY8GM & GTEX-1PBJI-0005-SM-CJI1Y & GTEX-1PBJJ-0005-SM-CKZND & GTEX-1PDJ9-0006-SM-CY8GN & GTEX-1PFEY-0005-SM-CY8GO & GTEX-1PIEJ-0005-SM-DLZQL & GTEX-1PIGE-0005-SM-DLZQM & GTEX-1PIIG-0006-SM-DLZQF & GTEX-1POEN-0005-SM-DLZQN & GTEX-1PPH6-0005-SM-DLZQP & GTEX-1PPH7-0005-SM-CKZNE & GTEX-1PPH8-0006-SM-CY8GS & GTEX-1PWST-0005-SM-DLZQC & GTEX-1QAET-0006-SM-DLZQQ & GTEX-1QCLY-0005-SM-DLZQS & GTEX-1QCLZ-0006-SM-CY8GW & GTEX-1QEPI-0006-SM-CY8GY & GTEX-1QMI2-0006-SM-CY8H1 & GTEX-1QP28-0006-SM-DLZQW & GTEX-1QP29-0005-SM-DLZQX & GTEX-1QP66-0005-SM-CY8H4 & GTEX-1QP67-0006-SM-CY8H5 & GTEX-1QP9N-0005-SM-CY8H9 & GTEX-1QPFJ-0006-SM-CY8HB & GTEX-1QW4Y-0005-SM-DO93W & GTEX-1R46S-0006-SM-DO93Y & GTEX-1R7EU-0006-SM-DO93C & GTEX-1R7EV-0005-SM-DO938 & GTEX-1R9JW-0002-SM-DO93B & GTEX-1R9K4-0006-SM-CYPRM & GTEX-1R9K5-0006-SM-DO939 & GTEX-1R9PM-0006-SM-CYPTI & GTEX-1R9PN-0006-SM-DTX7L & GTEX-1R9PO-0006-SM-DO937 & GTEX-1RAZA-0006-SM-CKZO9 & GTEX-1RAZQ-0005-SM-DO93U & GTEX-1RAZR-0006-SM-DLHBR & GTEX-1RAZS-0005-SM-DO93D & GTEX-1RB15-0005-SM-CL53N & GTEX-1RDX4-0005-SM-DLHBS & GTEX-1RLM8-0005-SM-DO121 & GTEX-1RMOY-0005-SM-DO11X & GTEX-1RNTQ-0006-SM-CYPRG & GTEX-1RQEC-0006-SM-CL542 & GTEX-1RQED-0005-SM-DO11Z & GTEX-1S3DN-0006-SM-DO127 & GTEX-1S5VW-0005-SM-CYPS4 & GTEX-1S5ZA-0005-SM-CYPS2 & GTEX-1S5ZU-0005-SM-CYPS3 & GTEX-1S82P-0005-SM-CM2RX & GTEX-1S82U-0005-SM-CYPRW & GTEX-1S82Y-0005-SM-DO123 & GTEX-1S82Z-0006-SM-DLHC5 & GTEX-1S831-0006-SM-DLHC1 & GTEX-1S83E-0006-SM-DLHBW & GTEX-N7MS-0007-SM-2D7W1 & GTEX-N7MT-0007-SM-3GACQ & GTEX-NFK9-0006-SM-3GACS & GTEX-NPJ7-0006-SM-3GACR & GTEX-NPJ8-0007-SM-2D7VX & GTEX-O5YT-0007-SM-32PK7 & GTEX-O5YW-0006-SM-3LK6E & GTEX-OHPK-0006-SM-2HMKH & GTEX-OHPL-0006-SM-3MJHB & GTEX-OHPM-0006-SM-2HMKU & GTEX-OHPN-0005-SM-2YUML & GTEX-OIZF-0006-SM-2I5GQ & GTEX-OIZH-0005-SM-2HMJN & GTEX-OIZI-0005-SM-2XCED & GTEX-OOBJ-0006-SM-2I3F4 & GTEX-OOBK-0005-SM-2YUMG & GTEX-OXRL-0005-SM-3LK6A & GTEX-OXRO-0006-SM-2I5EM & GTEX-OXRP-0006-SM-2I3FN & GTEX-P44G-0006-SM-2TC6A & GTEX-P44H-0006-SM-2XCFB & GTEX-P4PP-0005-SM-2HMKX & GTEX-P4PQ-0005-SM-2HMKJ & GTEX-P4QS-0005-SM-2I3EY & GTEX-P78B-0005-SM-2I5GM & GTEX-PLZ4-0006-SM-CYPR7 & GTEX-PLZ5-0006-SM-DIPE2 & GTEX-PLZ6-0006-SM-33HBZ & GTEX-POMQ-0006-SM-5SI7D & GTEX-POYW-0006-SM-2XCF4 & GTEX-PSDG-0005-SM-3GADC & GTEX-PVOW-0006-SM-3NMB8 & GTEX-PW2O-0006-SM-2I3DV & GTEX-PWCY-0005-SM-DHXL3 & GTEX-PWN1-0006-SM-CYPR2 & GTEX-PX3G-0006-SM-5SI7E & GTEX-Q2AG-0005-SM-5SI7F & GTEX-Q2AH-0005-SM-33HBR & GTEX-Q2AI-0006-SM-2I3FG & GTEX-Q734-0006-SM-2I3FJ & GTEX-QCQG-0006-SM-DIPE5 & GTEX-QDT8-0006-SM-CXZJC & GTEX-QDVJ-0005-SM-2TC5X & GTEX-QDVN-0006-SM-48U1R & GTEX-QEG4-0006-SM-2I5FY & GTEX-QEG5-0006-SM-2I5FZ & GTEX-QESD-0006-SM-2I5G6 & GTEX-QLQ7-0005-SM-2S1QP & GTEX-QLQW-0005-SM-2S1RA & GTEX-QMR6-0005-SM-32PKY & GTEX-QMRM-0005-SM-3NB2A & GTEX-QV31-0006-SM-793B5 & GTEX-QVJO-0006-SM-2S1RC & GTEX-QVUS-0006-SM-3GAE8 & GTEX-QXCU-0006-SM-2TC5K & GTEX-R3RS-0005-SM-3GAEH & GTEX-R45C-0006-SM-3GAD6 & GTEX-R53T-0005-SM-3GADK & GTEX-R55C-0005-SM-3GAE9 & GTEX-R55D-0006-SM-3GIJS & GTEX-R55E-0006-SM-2TC5G & GTEX-R55G-0006-SM-2TC6O & GTEX-REY6-0005-SM-2TF54 & GTEX-RM2N-0006-SM-2TF5H & GTEX-RN64-0005-SM-793B4 & GTEX-RNOR-0005-SM-2TF4Z & GTEX-RTLS-0006-SM-2TF58 & GTEX-RU1J-0006-SM-2TF6M & GTEX-RU72-0006-SM-2TF65 & GTEX-RUSQ-0006-SM-2TF6P & GTEX-RVPV-0006-SM-2TF6Q & GTEX-RWS6-0005-SM-2XCAN & GTEX-RWSA-0005-SM-2XCAO & GTEX-S32W-0006-SM-2XCAK & GTEX-S33H-0005-SM-2XCAL & GTEX-S341-0006-SM-3NM8D & GTEX-S7PM-0006-SM-3NM8C & GTEX-S7SE-0005-SM-2XCEA & GTEX-S95S-0005-SM-2XCEC & GTEX-SE5C-0006-SM-4BRW5 & GTEX-SIU8-0006-SM-2XCE5 & GTEX-SJXC-0005-SM-2XCE7 & GTEX-SN8G-0006-SM-32PLD & GTEX-SNMC-0006-SM-2XCFE & GTEX-SNOS-0006-SM-32PLH & GTEX-SSA3-0005-SM-32QOT & GTEX-SUCS-0006-SM-4DM59 & GTEX-T2YK-0005-SM-32QOV & GTEX-T5JC-0006-SM-EZ6L9 & GTEX-T5JW-0005-SM-3GADE & GTEX-T6MN-0005-SM-32PLJ & GTEX-T6MO-0006-SM-32QOU & GTEX-T8EM-0006-SM-3DB71 & GTEX-TKQ1-0006-SM-33HBI & GTEX-TKQ2-0006-SM-33HBH & GTEX-TML8-0005-SM-32QPA & GTEX-TMMY-0005-SM-33HBN & GTEX-TMZS-0006-SM-3DB8G & GTEX-TSE9-0005-SM-4DXUF & GTEX-U3ZG-0006-SM-47JWX & GTEX-U3ZH-0005-SM-3DB72 & GTEX-U3ZN-0006-SM-3DB7Y & GTEX-U4B1-0006-SM-3DB8E & GTEX-U8T8-0005-SM-3DB8F & GTEX-U8XE-0005-SM-3DB8I & GTEX-UJHI-0006-SM-3DB8H & GTEX-UJMC-0005-SM-3GACU & GTEX-UPJH-0006-SM-3GACW & GTEX-UPK5-0006-SM-3GAD8 & GTEX-UTHO-0006-SM-3NMCC & GTEX-V1D1-0006-SM-3NMCE & GTEX-V955-0005-SM-3P5ZC & GTEX-VJWN-0005-SM-3GIKF & GTEX-VJYA-0005-SM-3P5ZD & GTEX-VUSG-0006-SM-3GIK9 & GTEX-VUSH-0005-SM-3NB2H & GTEX-W5WG-0006-SM-3GIJT & GTEX-W5X1-0006-SM-3GIJZ & GTEX-WCDI-0005-SM-3NB2M & GTEX-WEY5-0006-SM-3GIKG & GTEX-WFG7-0005-SM-3GIKM & GTEX-WFG8-0006-SM-3GIKS & GTEX-WFJO-0005-SM-3GIKY & GTEX-WFON-0005-SM-3NMC9 & GTEX-WH7G-0005-SM-3NMBX & GTEX-WHPG-0006-SM-3NMBV & GTEX-WHSB-0005-SM-3LK7C & GTEX-WHSE-0006-SM-3NMBW & GTEX-WHWD-0005-SM-3LK7D & GTEX-WI4N-0005-SM-3LK7E & GTEX-WK11-0006-SM-3NB3J & GTEX-WL46-0006-SM-4OOS5 & GTEX-WOFL-0006-SM-3TW8K & GTEX-WOFM-0005-SM-3MJF3 & GTEX-WQUQ-0006-SM-3MJF4 & GTEX-WRHK-0005-SM-3MJF5 & GTEX-WRHU-0006-SM-3MJF6 & GTEX-WVLH-0006-SM-3MJF7 & GTEX-WWYW-0005-SM-3NB3K & GTEX-WXYG-0005-SM-3NB3M & GTEX-WY7C-0006-SM-3NB3L & GTEX-WYBS-0005-SM-4ONDR & GTEX-WYJK-0005-SM-3NMA1 & GTEX-WYVS-0006-SM-3NMA7 & GTEX-WZTO-0006-SM-3NM9T & GTEX-X15G-0005-SM-3NMDA & GTEX-X261-0005-SM-4PQYX & GTEX-X3Y1-0006-SM-3P5ZG & GTEX-X4EO-0006-SM-3P5ZF & GTEX-X4EP-0005-SM-3P5ZE & GTEX-X4LF-0006-SM-3NMCO & GTEX-X4XX-0005-SM-3NMCS & GTEX-X4XY-0006-SM-46MV2 & GTEX-X585-0005-SM-46MV3 & GTEX-X5EB-0006-SM-46MV5 & GTEX-X62O-0005-SM-46MV1 & GTEX-X638-0005-SM-47JX6 & GTEX-X88G-0006-SM-47JX5 & GTEX-X8HC-0006-SM-46MV6 & GTEX-XAJ8-0006-SM-46MVM & GTEX-XBEC-0006-SM-4AT5T & GTEX-XBED-0006-SM-47JXO & GTEX-XBEW-0006-SM-4AT4E & GTEX-XGQ4-0005-SM-4AT5U & GTEX-XK95-0005-SM-4AT4S & GTEX-XLM4-0005-SM-4AT4P & GTEX-XMD1-0006-SM-4AT4Q & GTEX-XMD2-0006-SM-4WWEG & GTEX-XMD3-0006-SM-4AT5X & GTEX-XMK1-0005-SM-4B665 & GTEX-XOT4-0005-SM-4B64S & GTEX-XPT6-0006-SM-4B66Q & GTEX-XPVG-0006-SM-4B65Z & GTEX-XQ3S-0006-SM-4BOQ4 & GTEX-XQ8I-0006-SM-4BOQ5 & GTEX-XUW1-0005-SM-4BOQ7 & GTEX-XUYS-0005-SM-47JZ2 & GTEX-XUZC-0005-SM-4BOQ8 & GTEX-XXEK-0005-SM-4BRWJ & GTEX-XYKS-0005-SM-4BRUD & GTEX-Y111-0006-SM-4SOIO & GTEX-Y114-0006-SM-4TT76 & GTEX-Y3I4-0006-SM-4TT1E & GTEX-Y3IK-0005-SM-4WWDE & GTEX-Y5LM-0005-SM-4V6EJ & GTEX-Y5V5-0006-SM-4V6FE & GTEX-Y5V6-0005-SM-4V6FD & GTEX-Y8DK-0005-SM-4RGNR & GTEX-Y8E4-0006-SM-4V6EW & GTEX-Y8E5-0006-SM-47JWQ & GTEX-Y8LW-0005-SM-4V6EV & GTEX-Y9LG-0006-SM-4VBRK & GTEX-YB5E-0005-SM-4VDSO & GTEX-YB5K-0005-SM-4VDSP & GTEX-YBZK-0005-SM-59HKG & GTEX-YEC3-0005-SM-4W21J & GTEX-YEC4-0001-SM-4W1Y6 & GTEX-YECK-0005-SM-4W217 & GTEX-YF7O-0005-SM-4W1ZU & GTEX-YFC4-0006-SM-4RGLV & GTEX-YFCO-0005-SM-4W1ZI & GTEX-Z93S-0005-SM-4RGLW & GTEX-ZAB4-0005-SM-4RGM8 & GTEX-ZC5H-0005-SM-4WAXM & GTEX-ZDTS-0006-SM-4WAYZ & GTEX-ZDTT-0006-SM-4WKFP & GTEX-ZDXO-0006-SM-4WKGF & GTEX-ZDYS-0002-SM-4WKGR & GTEX-ZE7O-0006-SM-51MTA & GTEX-ZE9C-0006-SM-4WKG2 & GTEX-ZEX8-0005-SM-4WKGE & GTEX-ZF28-0005-SM-4WKH3 & GTEX-ZF29-0006-SM-4WKGQ & GTEX-ZF2S-0006-SM-4WKHF & GTEX-ZF3C-0005-SM-4WWAR & GTEX-ZG7Y-0006-SM-4WWEA & GTEX-ZGAY-0006-SM-4WWAQ & GTEX-ZLV1-0005-SM-4WWAP & GTEX-ZP4G-0006-SM-4WWE6 & GTEX-ZPCL-0006-SM-4WWAS & GTEX-ZPIC-0005-SM-4WWEB & GTEX-ZPU1-0006-SM-4WWAT & GTEX-ZQG8-0005-SM-4YCEH & GTEX-ZQUD-0005-SM-4YCE5 & GTEX-ZT9W-0005-SM-4YCEG & GTEX-ZTPG-0006-SM-4YCFG & GTEX-ZTSS-0005-SM-4YCDR & GTEX-ZTTD-0006-SM-51MSJ & GTEX-ZTX8-0006-SM-4YCE4 & GTEX-ZUA1-0005-SM-4YCEV & GTEX-ZV68-0006-SM-4YCEJ & GTEX-ZV7C-0005-SM-57WDL & GTEX-ZVE2-0006-SM-51MRW & GTEX-ZVP2-0005-SM-51MRK & GTEX-ZVT2-0005-SM-57WBW & GTEX-ZVT3-0006-SM-51MT9 & GTEX-ZVT4-0006-SM-57WB8 & GTEX-ZVTK-0006-SM-57WBK & GTEX-ZVZP-0006-SM-51MSW & GTEX-ZVZQ-0006-SM-51MR8 & GTEX-ZXES-0005-SM-57WCB & GTEX-ZXG5-0005-SM-57WCN & Name & Description\\\\\n",
       " <chr> & <chr> & <chr> & <chr> & <dbl> & <dbl> & <dbl> & <dbl> & <dbl> & <dbl> & <dbl> & <dbl> & <dbl> & <dbl> & <dbl> & <dbl> & <dbl> & <dbl> & <dbl> & <dbl> & <dbl> & <dbl> & <dbl> & <dbl> & <dbl> & <dbl> & <dbl> & <dbl> & <dbl> & <dbl> & <dbl> & <dbl> & <dbl> & <dbl> & <dbl> & <dbl> & <dbl> & <dbl> & <dbl> & <dbl> & <dbl> & <dbl> & <dbl> & <dbl> & <dbl> & <dbl> & <dbl> & <dbl> & <dbl> & <dbl> & <dbl> & <dbl> & <dbl> & <dbl> & <dbl> & <dbl> & <dbl> & <dbl> & <dbl> & <dbl> & <dbl> & <dbl> & <dbl> & <dbl> & <dbl> & <dbl> & <dbl> & <dbl> & <dbl> & <dbl> & <dbl> & <dbl> & <dbl> & <dbl> & <dbl> & <dbl> & <dbl> & <dbl> & <dbl> & <dbl> & <dbl> & <dbl> & <dbl> & <dbl> & <dbl> & <dbl> & <dbl> & <dbl> & <dbl> & <dbl> & <dbl> & <dbl> & <dbl> & <dbl> & <dbl> & <dbl> & <dbl> & <dbl> & <dbl> & <dbl> & <dbl> & <dbl> & <dbl> & <dbl> & <dbl> & <dbl> & <dbl> & <dbl> & <dbl> & <dbl> & <dbl> & <dbl> & <dbl> & <dbl> & <dbl> & <dbl> & <dbl> & <dbl> & <dbl> & <dbl> & <dbl> & <dbl> & <dbl> & <dbl> & <dbl> & <dbl> & <dbl> & <dbl> & <dbl> & <dbl> & <dbl> & <dbl> & <dbl> & <dbl> & <dbl> & <dbl> & <dbl> & <dbl> & <dbl> & <dbl> & <dbl> & <dbl> & <dbl> & <dbl> & <dbl> & <dbl> & <dbl> & <dbl> & <dbl> & <dbl> & <dbl> & <dbl> & <dbl> & <dbl> & <dbl> & <dbl> & <dbl> & <dbl> & <dbl> & <dbl> & <dbl> & <dbl> & <dbl> & <dbl> & <dbl> & <dbl> & <dbl> & <dbl> & <dbl> & <dbl> & <dbl> & <dbl> & <dbl> & <dbl> & <dbl> & <dbl> & <dbl> & <dbl> & <dbl> & <dbl> & <dbl> & <dbl> & <dbl> & <dbl> & <dbl> & <dbl> & <dbl> & <dbl> & <dbl> & <dbl> & <dbl> & <dbl> & <dbl> & <dbl> & <dbl> & <dbl> & <dbl> & <dbl> & <dbl> & <dbl> & <dbl> & <dbl> & <dbl> & <dbl> & <dbl> & <dbl> & <dbl> & <dbl> & <dbl> & <dbl> & <dbl> & <dbl> & <dbl> & <dbl> & <dbl> & <dbl> & <dbl> & <dbl> & <dbl> & <dbl> & <dbl> & <dbl> & <dbl> & <dbl> & <dbl> & <dbl> & <dbl> & <dbl> & <dbl> & <dbl> & <dbl> & <dbl> & <dbl> & <dbl> & <dbl> & <dbl> & <dbl> & <dbl> & <dbl> & <dbl> & <dbl> & <dbl> & <dbl> & <dbl> & <dbl> & <dbl> & <dbl> & <dbl> & <dbl> & <dbl> & <dbl> & <dbl> & <dbl> & <dbl> & <dbl> & <dbl> & <dbl> & <dbl> & <dbl> & <dbl> & <dbl> & <dbl> & <dbl> & <dbl> & <dbl> & <dbl> & <dbl> & <dbl> & <dbl> & <dbl> & <dbl> & <dbl> & <dbl> & <dbl> & <dbl> & <dbl> & <dbl> & <dbl> & <dbl> & <dbl> & <dbl> & <dbl> & <dbl> & <dbl> & <dbl> & <dbl> & <dbl> & <dbl> & <dbl> & <dbl> & <dbl> & <dbl> & <dbl> & <dbl> & <dbl> & <dbl> & <dbl> & <dbl> & <dbl> & <dbl> & <dbl> & <dbl> & <dbl> & <dbl> & <dbl> & <dbl> & <dbl> & <dbl> & <dbl> & <dbl> & <dbl> & <dbl> & <dbl> & <dbl> & <dbl> & <dbl> & <dbl> & <dbl> & <dbl> & <dbl> & <dbl> & <dbl> & <dbl> & <dbl> & <dbl> & <dbl> & <dbl> & <dbl> & <dbl> & <dbl> & <dbl> & <dbl> & <dbl> & <dbl> & <dbl> & <dbl> & <dbl> & <dbl> & <dbl> & <dbl> & <dbl> & <dbl> & <dbl> & <dbl> & <dbl> & <dbl> & <dbl> & <dbl> & <dbl> & <dbl> & <dbl> & <dbl> & <dbl> & <dbl> & <dbl> & <dbl> & <dbl> & <dbl> & <dbl> & <dbl> & <dbl> & <dbl> & <dbl> & <dbl> & <dbl> & <dbl> & <dbl> & <dbl> & <dbl> & <dbl> & <dbl> & <dbl> & <dbl> & <dbl> & <dbl> & <dbl> & <dbl> & <dbl> & <dbl> & <dbl> & <dbl> & <dbl> & <dbl> & <dbl> & <dbl> & <dbl> & <dbl> & <dbl> & <dbl> & <dbl> & <dbl> & <dbl> & <dbl> & <dbl> & <dbl> & <dbl> & <dbl> & <dbl> & <dbl> & <dbl> & <dbl> & <dbl> & <dbl> & <dbl> & <dbl> & <dbl> & <dbl> & <dbl> & <dbl> & <dbl> & <dbl> & <dbl> & <dbl> & <dbl> & <dbl> & <dbl> & <dbl> & <dbl> & <dbl> & <dbl> & <dbl> & <dbl> & <dbl> & <dbl> & <dbl> & <dbl> & <dbl> & <dbl> & <dbl> & <dbl> & <dbl> & <dbl> & <dbl> & <dbl> & <dbl> & <dbl> & <dbl> & <dbl> & <dbl> & <dbl> & <dbl> & <dbl> & <dbl> & <dbl> & <dbl> & <dbl> & <dbl> & <dbl> & <dbl> & <dbl> & <dbl> & <dbl> & <dbl> & <dbl> & <dbl> & <dbl> & <dbl> & <dbl> & <dbl> & <dbl> & <dbl> & <dbl> & <dbl> & <dbl> & <dbl> & <dbl> & <dbl> & <dbl> & <dbl> & <dbl> & <dbl> & <dbl> & <dbl> & <dbl> & <dbl> & <dbl> & <dbl> & <dbl> & <dbl> & <dbl> & <dbl> & <dbl> & <dbl> & <dbl> & <dbl> & <dbl> & <dbl> & <dbl> & <dbl> & <dbl> & <dbl> & <dbl> & <dbl> & <dbl> & <dbl> & <dbl> & <dbl> & <dbl> & <dbl> & <dbl> & <dbl> & <dbl> & <dbl> & <dbl> & <dbl> & <dbl> & <dbl> & <dbl> & <dbl> & <dbl> & <dbl> & <dbl> & <dbl> & <dbl> & <dbl> & <dbl> & <dbl> & <dbl> & <dbl> & <dbl> & <dbl> & <dbl> & <dbl> & <dbl> & <dbl> & <dbl> & <dbl> & <dbl> & <dbl> & <dbl> & <dbl> & <dbl> & <dbl> & <dbl> & <dbl> & <dbl> & <dbl> & <dbl> & <dbl> & <dbl> & <dbl> & <dbl> & <dbl> & <dbl> & <dbl> & <dbl> & <dbl> & <dbl> & <dbl> & <dbl> & <dbl> & <dbl> & <dbl> & <dbl> & <dbl> & <dbl> & <dbl> & <dbl> & <dbl> & <dbl> & <dbl> & <dbl> & <dbl> & <dbl> & <dbl> & <dbl> & <dbl> & <dbl> & <dbl> & <dbl> & <dbl> & <dbl> & <dbl> & <dbl> & <dbl> & <dbl> & <dbl> & <dbl> & <dbl> & <dbl> & <dbl> & <dbl> & <dbl> & <dbl> & <dbl> & <dbl> & <dbl> & <dbl> & <dbl> & <dbl> & <dbl> & <dbl> & <dbl> & <dbl> & <dbl> & <dbl> & <dbl> & <dbl> & <dbl> & <dbl> & <dbl> & <dbl> & <dbl> & <dbl> & <dbl> & <dbl> & <dbl> & <dbl> & <dbl> & <dbl> & <dbl> & <dbl> & <dbl> & <dbl> & <dbl> & <dbl> & <dbl> & <dbl> & <dbl> & <dbl> & <dbl> & <dbl> & <dbl> & <dbl> & <dbl> & <dbl> & <dbl> & <dbl> & <dbl> & <dbl> & <dbl> & <dbl> & <dbl> & <dbl> & <dbl> & <dbl> & <dbl> & <dbl> & <dbl> & <dbl> & <dbl> & <dbl> & <dbl> & <dbl> & <dbl> & <dbl> & <dbl> & <dbl> & <dbl> & <dbl> & <dbl> & <dbl> & <dbl> & <dbl> & <dbl> & <dbl> & <dbl> & <dbl> & <dbl> & <dbl> & <dbl> & <dbl> & <dbl> & <dbl> & <dbl> & <dbl> & <dbl> & <dbl> & <dbl> & <dbl> & <dbl> & <dbl> & <dbl> & <dbl> & <dbl> & <dbl> & <dbl> & <dbl> & <dbl> & <dbl> & <dbl> & <dbl> & <dbl> & <dbl> & <dbl> & <dbl> & <dbl> & <dbl> & <dbl> & <dbl> & <dbl> & <dbl> & <dbl> & <dbl> & <dbl> & <dbl> & <dbl> & <dbl> & <dbl> & <dbl> & <dbl> & <dbl> & <dbl> & <dbl> & <dbl> & <dbl> & <dbl> & <dbl> & <dbl> & <dbl> & <dbl> & <dbl> & <dbl> & <dbl> & <dbl> & <dbl> & <dbl> & <dbl> & <dbl> & <dbl> & <dbl> & <dbl> & <dbl> & <dbl> & <dbl> & <dbl> & <dbl> & <dbl> & <dbl> & <dbl> & <dbl> & <dbl> & <dbl> & <dbl> & <dbl> & <dbl> & <dbl> & <dbl> & <dbl> & <dbl> & <dbl> & <dbl> & <dbl> & <dbl> & <dbl> & <dbl> & <dbl> & <dbl> & <dbl> & <dbl> & <dbl> & <dbl> & <dbl> & <dbl> & <dbl> & <dbl> & <dbl> & <dbl> & <dbl> & <chr> & <chr>\\\\\n",
       "\\hline\n",
       "\t ENSG00000228229 &       & 1 & lincRNA        & 0.0000 & 0.00000 & 0.000 & 0.000 & 0.0000 & 0.00000 & 0.0000 & 0.00000 & 0.0000 & 0.0000 & 0.00000 & 0.0000 & 0.0000 & 0.000 & 0.0000 & 0.00000 & 0.00000 & 0.00000 & 0.00000 & 0.0000 & 0.00000 & 0.00000 & 0.000 & 0.000 & 0.00000 & 0.000 & 0.00000 & 0.00000 & 0.00000 & 0.00000 & 0.0000 & 0.000 & 0.0000 & 0.000 & 0.0000 & 0.000000 & 0.000 & 0.0000 & 0.000 & 0.000 & 0.00000 & 0.00000 & 0.0000 & 0.0000 & 0.00000 & 0.000 & 0.0000 & 0.00000 & 0.0000 & 0.000 & 0.0000 & 0.00000 & 0.0000 & 0.00000 & 0.00000 & 0.0000 & 0.0000 & 0.0000 & 0.00000 & 0.0000 & 0.00000 & 0.00000 & 0.00000 & 0.000 & 0.0000 & 0.0000 & 0.000 & 0.000 & 0.00000 & 0.0000 & 0.0000 & 0.0000 & 0.00000 & 0.00000 & 0.0000 & 0.000 & 0.000 & 0.0000 & 0.00000 & 0.0000 & 0.0000 & 0.0000 & 0.00000 & 0.00000 & 0.0000 & 0.00000 & 0.00000 & 0.00000 & 0.0000 & 0.0000 & 0.0000 & 0.0000 & 0.00000 & 0.0000 & 0.00000 & 0.0000 & 0.0000 & 0.00000 & 0.000 & 0.000 & 0.00000 & 0.0000 & 0.0000 & 0.00000 & 0.0000 & 0.0000 & 0.000 & 0.0000 & 0.00000 & 0.00000 & 0.00000 & 0.00000 & 0.00000 & 0.0000 & 0.0000 & 0.00000 & 0.0000 & 0.0000 & 0.0000 & 0.000 & 0.0000 & 0.000 & 0.00000 & 0.000 & 0.00000 & 0.000 & 0.00000 & 0.00000 & 0.00000 & 0.00 & 0.0000 & 0.00000 & 0.000 & 0.0000 & 0.0000 & 0.0000 & 0.000 & 0.00000 & 0.00000 & 0.00000 & 0.000 & 0.0000 & 0.0000 & 0.00000 & 0.00000 & 0.00000 & 0.0000 & 0.00000 & 0.0000 & 0.00000 & 0.000 & 0.00 & 0.00000 & 0.00000 & 0.0000 & 0.000 & 0.0000 & 0.00000 & 0.000 & 0.0000 & 0.00000 & 0.0000 & 0.0000 & 0.00000 & 0.00000 & 0.0000 & 0.000 & 0.00000 & 0.0000 & 0.0000 & 0.0000 & 0.000 & 0.0000 & 0.0000 & 0.0000 & 0.000 & 0.000 & 0.000 & 0.00000 & 0.00000 & 0.0000 & 0.00000 & 0.00000 & 0.000 & 0.0000 & 0.0000 & 0.0000 & 0.0000 & 0.0000 & 0.0000 & 0.00000 & 0.000 & 0.0000 & 0.000 & 0.0000 & 0.00000 & 0.00000 & 0.000 & 0.0000 & 0.00000 & 0.0000 & 0.0000 & 0.00000 & 0.000 & 0.00000 & 0.0000 & 0.0000 & 0.000 & 0.0000 & 0.00000 & 0.000 & 0.00000 & 0.00000 & 0.00000 & 0.0000 & 0.0000 & 0.00000 & 0.00000 & 0.0000 & 0.0000 & 0.00000 & 0.0000 & 0.00000 & 0.00000 & 0.0000 & 0.0000 & 0.00000 & 0.000 & 0.00000 & 0.00000 & 0.0000 & 0.000 & 0.00000 & 0.0000 & 0.00000 & 0.0000 & 0.0000 & 0.00000 & 0.00 & 0.0000 & 0.0000 & 0.00000 & 0.00000 & 0.00000 & 0.0000 & 0.0000 & 0.00000 & 0.000 & 0.000 & 0.00000 & 0.00000 & 0.00000 & 0.00000 & 0.0000 & 0.0000 & 0.0000 & 0.0000 & 0.000 & 0.0000 & 0.000 & 0.0000 & 0.00000 & 0.00000 & 0.0000 & 0.00000 & 0.000 & 0.000 & 0.0000 & 0.0000 & 0.00000 & 0.0000 & 0.00000 & 0.00000 & 0.000 & 0.000 & 0.0000 & 0.00000 & 0.0000 & 0.000 & 0.00000 & 0.000 & 0.000 & 0.00000 & 0.00000 & 0.0000 & 0.0000 & 0.00000 & 0.00000 & 0.0000 & 0.0000 & 0.0000 & 0.0000 & 0.00000 & 0.00000 & 0.00000 & 0.0000 & 0.000 & 0.000 & 0.00000 & 0.0000 & 0.00000 & 0.0000 & 0.0000 & 0.0000 & 0.00000 & 0.0000 & 0.0000 & 0.000 & 0.0000 & 0.00000 & 0.0000 & 0.0000 & 0.000 & 0.0000 & 0.0000 & 0.0000 & 0.0000 & 0.00000 & 0.0000 & 0.0000 & 0.0000 & 0.000000 & 0.000 & 0.0000 & 0.0000 & 0.0000 & 0.0000 & 0.0000 & 0.00000 & 0.00000 & 0.00 & 0.000 & 0.00000 & 0.0000 & 0.00000 & 0.000 & 0.0000 & 0.0000 & 0.0000 & 0.0000 & 0.00000 & 0.0000 & 0.0000 & 0.00000 & 0.00000 & 0.0000 & 0.000 & 0.0000 & 0.000 & 0.00000 & 0.0000 & 0.0000 & 0.0000 & 0.00000 & 0.00000 & 0.000 & 0.00000 & 0.0000 & 0.0000 & 0.000 & 0.0000 & 0.000 & 0.0000 & 0.00000 & 0.000 & 0.0000 & 0.0000 & 0.0000 & 0.0000 & 0.0000 & 0.00000 & 0.00000 & 0.00000 & 0.0000 & 0.0000 & 0.0000 & 0.00000 & 0.0000 & 0.0000 & 0.0000 & 0.00000 & 0.0000 & 0.00000 & 0.00000 & 0.0000 & 0.00000 & 0.00000 & 0 & 0.0000 & 0.000 & 0.0000 & 0.00000 & 0.00000 & 0.0000 & 0.000 & 0.00000 & 0.00000 & 0.00000 & 0.00000 & 0.00000 & 0.0000 & 0.0000 & 0.00000 & 0.000 & 0.00000 & 0.0000 & 0.0000 & 0.0000 & 0.00000 & 0.000 & 0.00000 & 0.0000 & 0.0000 & 0.000 & 0.000 & 0.0000 & 0.00000 & 0.00000 & 0.00000 & 0.0000 & 0.0000 & 0.0000 & 0.0000 & 0.00000 & 0.0000 & 0.0000 & 0.0000 & 0.00000 & 0.0000 & 0.0000 & 0.0000 & 0.0000 & 0.00000 & 0.0000 & 0.0000 & 0.00000 & 0.0000 & 0.00000 & 0.000 & 0.00000 & 0.00000 & 0.00000 & 0.00 & 0.0000 & 0.0000 & 0.00000 & 0.00000 & 0.000 & 0.0000 & 0.0000 & 0.00000 & 0.00000 & 0.000 & 0.000 & 0.000 & 0.00000 & 0.0000 & 0.000 & 0.00000 & 0.00000 & 0.000 & 0.000 & 0.00000 & 0.0000 & 0.000 & 0.0000 & 0.000 & 0.0000 & 0.0000 & 0.0000 & 0.00000 & 0.00000 & 0.00000 & 0.00000 & 0.00 & 0.00000 & 0.0000 & 0.000 & 0.000 & 0.000 & 0.000 & 0.0000 & 0.000 & 0.00000 & 0.00000 & 0.0000 & 0.000 & 0.00000 & 0.0000 & 0.0000 & 0.00000 & 0.0000 & 0.0000 & 0.0000 & 0.0000 & 0.0000 & 0.00000 & 0.000 & 0.000000 & 0.0000 & 0.0000 & 0.00000 & 0.00000 & 0.0000 & 0.0000 & 0.0000 & 0.0000 & 0.0000 & 0.0000 & 0.000 & 0.0000 & 0.000 & 0.0000 & 0.00000 & 0.0000 & 0.0000 & 0.00000 & 0.000000 & 0.0000 & 0.00000 & 0.0000 & 0.00000 & 0.0000 & 0.0000 & 0.000 & 0.0000 & 0.0000 & 0.00000 & 0.0000 & 0.000 & 0.0000 & 0.00000 & 0.0000 & 0.0000 & 0.0000 & 0.00000 & 0.0000 & 0.0000 & 0.0000 & 0.00000 & 0.00000 & 0.00000 & 0.0000 & 0.0000 & 0.0000 & 0.0000 & 0.0000 & 0.000 & 0.0000 & 0.0000 & 0.0000 & 0.0000 & 0.1069 & 0.000 & 0.00000 & 0.00000 & 0.000 & 0.0000 & 0.0000 & 0.00000 & 0.0000 & 0.00000 & 0.00000 & 0.00000 & 0.000 & 0.00000 & 0.00000 & 0.00000 & 0.00000 & 0.00000 & 0.00000 & 0.0000 & 0.0000 & 0.00000 & 0.0000 & 0.0000 & 0.0000 & 0.0000 & 0.0000 & 0.0000 & 0.0000 & 0.00000 & 0.00000 & 0.0000 & 0.0000 & 0.0000 & 0.00000 & 0.00000 & 0.0000 & 0.000 & 0.00000 & 0.0000 & 0.00 & 0.0000 & 0.0000 & 0.00000 & 0.0000 & 0.000 & 0.00000 & 0.00000 & 0.0000 & 0.00000 & 0.00000 & 0.000 & 0.0000 & 0.0000 & 0.0000 & 0.00000 & 0.00000 & 0.0000 & 0.0000 & 0.00000 & 0.00000 & 0.0000 & 0.0000 & 0.0000 & 0.0000 & 0.00000 & 0.00 & 0.00000 & 0.0000 & 0.0000 & 0.0000 & 0.00000 & 0.000 & 0.00000 & 0.00000 & 0.000 & 0.0000 & 0.000 & 0.00000 & 0.00000 & 0.00000 & 0.00000 & 0.00000 & 0.000 & 0.0000 & 0.00 & 0.0000 & 0.000 & 0.00000 & 0.0000 & 0.00000 & 0.00000 & 0.000 & 0.0000 & 0.0000 & 0.00000 & 0.0000 & 0.0000 & 0.00000 & 0.000 & 0.000 & 0.00000 & 0.00000 & 0.000 & 0.0000 & 0.00000 & 0.00000 & 0.0000 & 0.00000 & 0.00000 & 0.00000 & 0.000 & 0.0000 & 0.0000 & 0.000 & 0.00000 & 0.15090 & 0.00000 & 0.00000 & 0.0000 & 0.00000 & 0.00000 & 0.00000 & 0.0000 & 0.000 & 0.00000 & 0.0000 & 0.0000 & 0.000 & 0.00000 & 0.0000 & 0.0000 & 0.00000 & 0.0000 & 0.00000 & 0.00000 & 0.00000 & 0.000 & 0.000 & 0.0000 & 0.0000 & 0.0000 & 0.000 & 0.00000 & 0.0000 & 0.000 & 0.00000 & 0.00000 & 0.0000 & 0.0000 & 0.00000 & 0.00 & 0.00000 & 0.000 & 0.00000 & 0.00000 & 0.00000 & 0.000 & 0.0000 & 0.00000 & 0.0000 & 0.000 & 0.000 & 0.00000 & 0.00000 & 0.0000 & 0.00000 & 0.00000 & 0.00000 & 0.0000 & 0.00000 & 0.000 & 0.0000 & 0.00000 & 0.00000 & 0.00000 & 0.00000 & 0.000 & 0.00 & 0.00000 & 0.0000 & 0.000 & 0.0000 & 0.0000 & 0.00000 & 0.00000 & 0.00000 & 0.0000 & 0.00000 & 0.00000 & 0.0000 & 0.0000 & 0.00000 & 0.0000 & 0.00000 & 0.00000 & 0.0000 & 0.0000 & 0.0000 & 0.00000 & 0.00000 & 0.00000 & 0.00000 & ENSG00000228229.2 & RP11-219C24.10\\\\\n",
       "\t ENSG00000237445 &       & 1 & lincRNA        & 0.0000 & 0.00000 & 0.000 & 0.000 & 0.0000 & 0.00000 & 0.0000 & 0.00000 & 0.0000 & 0.0000 & 0.00000 & 0.0000 & 0.0000 & 0.000 & 0.0000 & 0.00000 & 0.00000 & 0.00000 & 0.00000 & 0.0000 & 0.00000 & 0.00000 & 0.000 & 0.000 & 0.00000 & 0.000 & 0.00000 & 0.00000 & 0.00000 & 0.00000 & 0.0000 & 0.000 & 0.0000 & 0.000 & 0.0000 & 0.000000 & 0.000 & 0.0000 & 0.000 & 0.000 & 0.00000 & 0.00000 & 0.0000 & 0.0000 & 0.00000 & 0.000 & 0.0000 & 0.00000 & 0.0000 & 0.000 & 0.0000 & 0.00000 & 0.0000 & 0.00000 & 0.00000 & 0.0000 & 0.0000 & 0.0000 & 0.00000 & 0.0000 & 0.00000 & 0.00000 & 0.00000 & 0.000 & 0.0000 & 0.0000 & 0.000 & 0.000 & 0.00000 & 0.0000 & 0.0000 & 0.0000 & 0.00000 & 0.00000 & 0.0000 & 0.000 & 0.000 & 0.0000 & 0.00000 & 0.0000 & 0.0000 & 0.0000 & 0.00000 & 0.00000 & 0.0000 & 0.00000 & 0.00000 & 0.00000 & 0.0000 & 0.0000 & 0.0000 & 0.0000 & 0.00000 & 0.0000 & 0.00000 & 0.0000 & 0.0000 & 0.00000 & 0.000 & 0.000 & 0.00000 & 0.0000 & 0.0000 & 0.00000 & 0.0000 & 0.0000 & 0.000 & 0.0000 & 0.00000 & 0.00000 & 0.00000 & 0.00000 & 0.00000 & 0.0000 & 0.0000 & 0.00000 & 0.0000 & 0.0000 & 0.0000 & 0.000 & 0.0000 & 0.000 & 0.00000 & 0.000 & 0.00000 & 0.000 & 0.00000 & 0.00000 & 0.00000 & 0.00 & 0.0000 & 0.00000 & 0.000 & 0.0000 & 0.0000 & 0.0000 & 0.000 & 0.00000 & 0.00000 & 0.00000 & 0.000 & 0.0000 & 0.0000 & 0.00000 & 0.00000 & 0.00000 & 0.0000 & 0.00000 & 0.0000 & 0.00000 & 0.000 & 0.00 & 0.00000 & 0.00000 & 0.0000 & 0.000 & 0.0000 & 0.00000 & 0.000 & 0.0000 & 0.00000 & 0.0000 & 0.0000 & 0.00000 & 0.00000 & 0.0000 & 0.000 & 0.00000 & 0.0000 & 0.0000 & 0.0000 & 0.000 & 0.0000 & 0.0000 & 0.0000 & 0.000 & 0.000 & 0.000 & 0.00000 & 0.00000 & 0.0000 & 0.00000 & 0.00000 & 0.000 & 0.0000 & 0.0000 & 0.0000 & 0.0000 & 0.0000 & 0.0000 & 0.00000 & 0.000 & 0.0000 & 0.000 & 0.0000 & 0.00000 & 0.00000 & 0.000 & 0.0000 & 0.00000 & 0.0000 & 0.0000 & 0.00000 & 0.000 & 0.00000 & 0.0000 & 0.0000 & 0.000 & 0.0000 & 0.00000 & 0.000 & 0.00000 & 0.00000 & 0.00000 & 0.0000 & 0.0000 & 0.00000 & 0.00000 & 0.0000 & 0.0000 & 0.00000 & 0.0000 & 0.00000 & 0.00000 & 0.0000 & 0.0000 & 0.00000 & 0.000 & 0.00000 & 0.00000 & 0.0000 & 0.000 & 0.00000 & 0.0000 & 0.00000 & 0.2430 & 0.0000 & 0.00000 & 0.00 & 0.0000 & 0.0000 & 0.00000 & 0.00000 & 0.00000 & 0.0000 & 0.0000 & 0.00000 & 0.000 & 0.000 & 0.00000 & 0.00000 & 0.00000 & 0.00000 & 0.0000 & 0.0000 & 0.0000 & 0.0000 & 0.000 & 0.0000 & 0.000 & 0.0000 & 0.00000 & 0.00000 & 0.0000 & 0.00000 & 0.000 & 0.000 & 0.0000 & 0.0000 & 0.00000 & 0.0000 & 0.00000 & 0.00000 & 0.000 & 0.000 & 0.0000 & 0.00000 & 0.0000 & 0.000 & 0.00000 & 0.000 & 0.000 & 0.00000 & 0.00000 & 0.0000 & 0.0000 & 0.00000 & 0.00000 & 0.0000 & 0.0000 & 0.0000 & 0.0000 & 0.00000 & 0.00000 & 0.00000 & 0.0000 & 0.000 & 0.000 & 0.00000 & 0.0000 & 0.00000 & 0.0000 & 0.0000 & 0.0000 & 0.00000 & 0.0000 & 0.0000 & 0.000 & 0.0000 & 0.00000 & 0.0000 & 0.0000 & 0.000 & 0.0000 & 0.0000 & 0.0000 & 0.0000 & 0.00000 & 0.0000 & 0.0000 & 0.0000 & 0.000000 & 0.000 & 0.0000 & 0.0000 & 0.0000 & 0.0000 & 0.0000 & 0.00000 & 0.00000 & 0.00 & 0.000 & 0.00000 & 0.0000 & 0.00000 & 0.000 & 0.0000 & 0.0000 & 0.0000 & 0.0000 & 0.00000 & 0.0000 & 0.0000 & 0.00000 & 0.00000 & 0.0000 & 0.000 & 0.0000 & 0.000 & 0.00000 & 0.0000 & 0.0000 & 0.0000 & 0.00000 & 0.00000 & 0.000 & 0.00000 & 0.0000 & 0.0000 & 0.000 & 0.0000 & 0.000 & 0.0000 & 0.00000 & 0.000 & 0.0000 & 0.0000 & 0.0000 & 0.0000 & 0.0000 & 0.00000 & 0.00000 & 0.00000 & 0.0000 & 0.0000 & 0.0000 & 0.00000 & 0.0000 & 0.0000 & 0.0000 & 0.00000 & 0.0000 & 0.00000 & 0.00000 & 0.0000 & 0.00000 & 0.00000 & 0 & 0.0000 & 0.000 & 0.0000 & 0.00000 & 0.05971 & 0.0000 & 0.000 & 0.00000 & 0.00000 & 0.00000 & 0.00000 & 0.00000 & 0.0000 & 0.0000 & 0.00000 & 0.000 & 0.00000 & 0.0000 & 0.0000 & 0.0000 & 0.00000 & 0.000 & 0.00000 & 0.0000 & 0.0000 & 0.000 & 0.000 & 0.0000 & 0.00000 & 0.00000 & 0.00000 & 0.0000 & 0.0000 & 0.0000 & 0.0000 & 0.00000 & 0.0000 & 0.0000 & 0.0000 & 0.00000 & 0.0000 & 0.0000 & 0.0000 & 0.0000 & 0.00000 & 0.0000 & 0.0000 & 0.00000 & 0.0000 & 0.00000 & 0.000 & 0.00000 & 0.00000 & 0.00000 & 0.00 & 0.0000 & 0.0000 & 0.00000 & 0.00000 & 0.000 & 0.0000 & 0.0000 & 0.00000 & 0.00000 & 0.000 & 0.000 & 0.000 & 0.00000 & 0.0000 & 0.000 & 0.00000 & 0.00000 & 0.000 & 0.000 & 0.00000 & 0.0000 & 0.000 & 0.0000 & 0.000 & 0.0000 & 0.0000 & 0.0000 & 0.00000 & 0.00000 & 0.00000 & 0.00000 & 0.00 & 0.00000 & 0.0000 & 0.000 & 0.000 & 0.000 & 0.000 & 0.0000 & 0.000 & 0.00000 & 0.00000 & 0.0000 & 0.000 & 0.00000 & 0.0000 & 0.0000 & 0.00000 & 0.0000 & 0.0000 & 0.0000 & 0.0000 & 0.0000 & 0.00000 & 0.000 & 0.000000 & 0.0000 & 0.0000 & 0.00000 & 0.00000 & 0.0000 & 0.0000 & 0.0000 & 0.0000 & 0.0000 & 0.0000 & 0.000 & 0.0000 & 0.000 & 0.0000 & 0.00000 & 0.0000 & 0.0000 & 0.00000 & 0.000000 & 0.0000 & 0.00000 & 0.0000 & 0.00000 & 0.0000 & 0.0000 & 0.000 & 0.0000 & 0.0000 & 0.00000 & 0.0000 & 0.000 & 0.0000 & 0.00000 & 0.1464 & 0.0000 & 0.0000 & 0.00000 & 0.0000 & 0.0000 & 0.0000 & 0.00000 & 0.00000 & 0.00000 & 0.0000 & 0.0000 & 0.0000 & 0.0000 & 0.0000 & 0.000 & 0.0000 & 0.0000 & 0.0000 & 0.0000 & 0.0000 & 0.000 & 0.00000 & 0.00000 & 0.000 & 0.0000 & 0.0000 & 0.00000 & 0.0000 & 0.00000 & 0.00000 & 0.00000 & 0.000 & 0.00000 & 0.00000 & 0.00000 & 0.00000 & 0.00000 & 0.00000 & 0.0000 & 0.0000 & 0.00000 & 0.0000 & 0.0000 & 0.0000 & 0.0000 & 0.0000 & 0.0000 & 0.0000 & 0.00000 & 0.00000 & 0.0000 & 0.0000 & 0.0000 & 0.00000 & 0.00000 & 0.0000 & 0.000 & 0.00000 & 0.0000 & 0.00 & 0.0000 & 0.0000 & 0.00000 & 0.0000 & 0.000 & 0.00000 & 0.00000 & 0.0000 & 0.00000 & 0.00000 & 0.000 & 0.0000 & 0.0000 & 0.0000 & 0.00000 & 0.00000 & 0.0000 & 0.0000 & 0.00000 & 0.00000 & 0.0000 & 0.0000 & 0.0000 & 0.0000 & 0.00000 & 0.00 & 0.00000 & 0.0000 & 0.0000 & 0.0000 & 0.00000 & 0.000 & 0.00000 & 0.00000 & 0.000 & 0.0000 & 0.000 & 0.00000 & 0.00000 & 0.00000 & 0.00000 & 0.00000 & 0.000 & 0.0000 & 0.00 & 0.0000 & 0.000 & 0.00000 & 0.0000 & 0.00000 & 0.00000 & 0.000 & 0.0000 & 0.0000 & 0.00000 & 0.0000 & 0.0000 & 0.00000 & 0.000 & 0.000 & 0.00000 & 0.00000 & 0.000 & 0.0000 & 0.00000 & 0.00000 & 0.0000 & 0.00000 & 0.00000 & 0.00000 & 0.000 & 0.0000 & 0.0000 & 0.000 & 0.00000 & 0.00000 & 0.00000 & 0.00000 & 0.0000 & 0.00000 & 0.00000 & 0.00000 & 0.0000 & 0.000 & 0.00000 & 0.0000 & 0.0000 & 0.000 & 0.00000 & 0.0000 & 0.0000 & 0.00000 & 0.0000 & 0.00000 & 0.00000 & 0.00000 & 0.000 & 0.000 & 0.0000 & 0.0000 & 0.0000 & 0.000 & 0.00000 & 0.0000 & 0.000 & 0.00000 & 0.00000 & 0.0000 & 0.0000 & 0.00000 & 0.00 & 0.00000 & 0.000 & 0.00000 & 0.00000 & 0.00000 & 0.000 & 0.0000 & 0.00000 & 0.0000 & 0.000 & 0.000 & 0.00000 & 0.00000 & 0.0000 & 0.00000 & 0.00000 & 0.00000 & 0.0000 & 0.00000 & 0.000 & 0.0000 & 0.00000 & 0.00000 & 0.00000 & 0.00000 & 0.000 & 0.00 & 0.00000 & 0.0000 & 0.000 & 0.0000 & 0.0000 & 0.00000 & 0.00000 & 0.06938 & 0.0000 & 0.00000 & 0.00000 & 0.0000 & 0.0000 & 0.00000 & 0.0000 & 0.00000 & 0.00000 & 0.0000 & 0.0000 & 0.0000 & 0.00000 & 0.00000 & 0.00000 & 0.00000 & ENSG00000237445.2 & CTA-520D8.2   \\\\\n",
       "\t ENSG00000231606 &       & 1 & lincRNA        & 0.0000 & 0.00000 & 0.000 & 0.000 & 0.0000 & 0.00000 & 0.0000 & 0.00000 & 0.0000 & 0.0000 & 0.00000 & 0.0000 & 0.0000 & 0.000 & 0.0000 & 0.00000 & 0.00000 & 0.00000 & 0.00000 & 0.0000 & 0.00000 & 0.00000 & 0.000 & 0.000 & 0.00000 & 0.000 & 0.00000 & 0.00000 & 0.00000 & 0.00000 & 0.0000 & 0.000 & 0.0000 & 0.000 & 0.0000 & 0.000000 & 0.000 & 0.0000 & 0.000 & 0.000 & 0.00000 & 0.00000 & 0.0000 & 0.0000 & 0.00000 & 0.000 & 0.0000 & 0.00000 & 0.0000 & 0.000 & 0.0000 & 0.00000 & 0.0000 & 0.00000 & 0.00000 & 0.0000 & 0.0000 & 0.0000 & 0.00000 & 0.0000 & 0.00000 & 0.00000 & 0.00000 & 0.000 & 0.0000 & 0.0000 & 0.000 & 0.000 & 0.00000 & 0.0000 & 0.0000 & 0.0000 & 0.00000 & 0.00000 & 0.0000 & 0.000 & 0.000 & 0.0000 & 0.00000 & 0.0000 & 0.0000 & 0.0000 & 0.00000 & 0.00000 & 0.0000 & 0.00000 & 0.00000 & 0.00000 & 0.0000 & 0.0000 & 0.0000 & 0.0000 & 0.00000 & 0.0000 & 0.00000 & 0.0000 & 0.0000 & 0.00000 & 0.000 & 0.000 & 0.00000 & 0.0000 & 0.0000 & 0.00000 & 0.0000 & 0.0000 & 0.000 & 0.0000 & 0.00000 & 0.00000 & 0.00000 & 0.00000 & 0.00000 & 0.0000 & 0.0000 & 0.00000 & 0.0000 & 0.0000 & 0.0000 & 0.000 & 0.0000 & 0.000 & 0.00000 & 0.000 & 0.00000 & 0.000 & 0.00000 & 0.00000 & 0.00000 & 0.00 & 0.0000 & 0.00000 & 0.000 & 0.0000 & 0.0000 & 0.0000 & 0.000 & 0.00000 & 0.00000 & 0.00000 & 0.000 & 0.0000 & 0.0000 & 0.00000 & 0.00000 & 0.00000 & 0.0000 & 0.11200 & 0.0000 & 0.00000 & 0.000 & 0.00 & 0.00000 & 0.00000 & 0.0000 & 0.000 & 0.0000 & 0.00000 & 0.000 & 0.0000 & 0.00000 & 0.0000 & 0.0000 & 0.00000 & 0.00000 & 0.0000 & 0.000 & 0.00000 & 0.3727 & 0.0000 & 0.0000 & 0.000 & 0.0000 & 0.0000 & 0.0000 & 0.000 & 0.000 & 0.000 & 0.00000 & 0.00000 & 0.0000 & 0.00000 & 0.00000 & 0.000 & 0.0000 & 0.0000 & 0.0000 & 0.0000 & 0.0000 & 0.0000 & 0.00000 & 0.000 & 0.0000 & 0.000 & 0.0000 & 0.00000 & 0.00000 & 0.000 & 0.0000 & 0.00000 & 0.0000 & 0.0000 & 0.00000 & 0.000 & 0.00000 & 0.0000 & 0.0000 & 0.000 & 0.0000 & 0.00000 & 0.000 & 0.00000 & 0.00000 & 0.00000 & 0.0000 & 0.0000 & 0.00000 & 0.00000 & 0.0000 & 0.0000 & 0.00000 & 0.0000 & 0.00000 & 0.00000 & 0.0000 & 0.0000 & 0.00000 & 0.000 & 0.00000 & 0.00000 & 0.0000 & 0.000 & 0.00000 & 0.0000 & 0.00000 & 0.0000 & 0.0000 & 0.00000 & 0.00 & 0.0000 & 0.0000 & 0.00000 & 0.00000 & 0.00000 & 0.0000 & 0.0000 & 0.00000 & 0.000 & 0.000 & 0.00000 & 0.00000 & 0.00000 & 0.00000 & 0.0000 & 0.0000 & 0.0000 & 0.0000 & 0.000 & 0.0000 & 0.000 & 0.0000 & 0.00000 & 0.00000 & 0.0000 & 0.00000 & 0.000 & 0.000 & 0.0000 & 0.0000 & 0.00000 & 0.0000 & 0.00000 & 0.00000 & 0.000 & 0.000 & 0.0000 & 0.00000 & 0.0000 & 0.000 & 0.00000 & 0.000 & 0.000 & 0.00000 & 0.00000 & 0.0000 & 0.0000 & 0.00000 & 0.00000 & 0.0000 & 0.0000 & 0.0000 & 0.0000 & 0.00000 & 0.00000 & 0.00000 & 0.0000 & 0.000 & 0.000 & 0.00000 & 0.0000 & 0.00000 & 0.0000 & 0.0000 & 0.0000 & 0.00000 & 0.0000 & 0.0000 & 0.000 & 0.0000 & 0.00000 & 0.0000 & 0.0000 & 0.000 & 0.0000 & 0.0000 & 0.0000 & 0.0000 & 0.00000 & 0.0000 & 0.0000 & 0.0000 & 0.000000 & 0.000 & 0.0000 & 0.0000 & 0.0000 & 0.0000 & 0.0000 & 0.00000 & 0.00000 & 0.00 & 0.000 & 0.00000 & 0.0000 & 0.00000 & 0.000 & 0.0000 & 0.0000 & 0.0000 & 0.0000 & 0.00000 & 0.0000 & 0.0000 & 0.00000 & 0.00000 & 0.0000 & 0.000 & 0.0000 & 0.000 & 0.00000 & 0.0000 & 0.0000 & 0.0000 & 0.00000 & 0.00000 & 0.000 & 0.00000 & 0.0000 & 0.0000 & 0.000 & 0.0000 & 0.000 & 0.0000 & 0.00000 & 0.000 & 0.0000 & 0.0000 & 0.0000 & 0.0000 & 0.0000 & 0.00000 & 0.00000 & 0.00000 & 0.0000 & 0.0000 & 0.0000 & 0.00000 & 0.0000 & 0.0000 & 0.0000 & 0.00000 & 0.0000 & 0.00000 & 0.00000 & 0.0000 & 0.00000 & 0.00000 & 0 & 0.0000 & 0.000 & 0.0000 & 0.00000 & 0.00000 & 0.0000 & 0.000 & 0.00000 & 0.00000 & 0.00000 & 0.00000 & 0.00000 & 0.0000 & 0.0000 & 0.00000 & 0.000 & 0.00000 & 0.0000 & 0.0000 & 0.0000 & 0.00000 & 0.000 & 0.00000 & 0.0000 & 0.0000 & 0.000 & 0.000 & 0.0000 & 0.00000 & 0.00000 & 0.00000 & 0.0000 & 0.0000 & 0.0000 & 0.0000 & 0.00000 & 0.0000 & 0.0000 & 0.0000 & 0.00000 & 0.0000 & 0.0000 & 0.0000 & 0.0000 & 0.00000 & 0.0000 & 0.0000 & 0.00000 & 0.0000 & 0.00000 & 0.000 & 0.00000 & 0.00000 & 0.00000 & 0.00 & 0.0000 & 0.0000 & 0.00000 & 0.00000 & 0.000 & 0.0000 & 0.0000 & 0.09366 & 0.00000 & 0.000 & 0.000 & 0.000 & 0.00000 & 0.0000 & 0.000 & 0.00000 & 0.00000 & 0.000 & 0.000 & 0.00000 & 0.0000 & 0.000 & 0.0000 & 0.000 & 0.0000 & 0.0000 & 0.0000 & 0.00000 & 0.00000 & 0.00000 & 0.00000 & 0.00 & 0.00000 & 0.0000 & 0.000 & 0.000 & 0.000 & 0.000 & 0.0000 & 0.000 & 0.00000 & 0.00000 & 0.0000 & 0.000 & 0.00000 & 0.0000 & 0.0000 & 0.00000 & 0.0000 & 0.0000 & 0.0000 & 0.0000 & 0.0000 & 0.00000 & 0.000 & 0.000000 & 0.0000 & 0.0000 & 0.00000 & 0.00000 & 0.0000 & 0.0000 & 0.0000 & 0.0000 & 0.0000 & 0.0000 & 0.000 & 0.0000 & 0.000 & 0.0000 & 0.00000 & 0.0000 & 0.0000 & 0.00000 & 0.000000 & 0.0000 & 0.00000 & 0.0000 & 0.00000 & 0.0000 & 0.0000 & 0.000 & 0.0000 & 0.0000 & 0.00000 & 0.0000 & 0.000 & 0.0000 & 0.00000 & 0.0000 & 0.0000 & 0.0000 & 0.00000 & 0.0000 & 0.0000 & 0.0000 & 0.00000 & 0.00000 & 0.00000 & 0.0000 & 0.0000 & 0.0000 & 0.0000 & 0.0000 & 0.000 & 0.0000 & 0.0000 & 0.0000 & 0.0000 & 0.0000 & 0.000 & 0.00000 & 0.00000 & 0.000 & 0.0000 & 0.0000 & 0.00000 & 0.0000 & 0.00000 & 0.00000 & 0.00000 & 0.000 & 0.00000 & 0.00000 & 0.24620 & 0.00000 & 0.00000 & 0.00000 & 0.0000 & 0.0000 & 0.00000 & 0.0000 & 0.0000 & 0.0000 & 0.0000 & 0.0000 & 0.0000 & 0.0000 & 0.00000 & 0.00000 & 0.0000 & 0.0000 & 0.0000 & 0.00000 & 0.00000 & 0.0000 & 0.000 & 0.00000 & 0.0000 & 0.00 & 0.0000 & 0.0000 & 0.00000 & 0.3465 & 0.000 & 0.00000 & 0.00000 & 0.0000 & 0.00000 & 0.00000 & 0.000 & 0.0000 & 0.0000 & 0.0000 & 0.00000 & 0.00000 & 0.0000 & 0.0000 & 0.00000 & 0.00000 & 0.0000 & 0.0000 & 0.0000 & 0.0000 & 0.00000 & 0.00 & 0.00000 & 0.0000 & 0.0000 & 0.0000 & 0.00000 & 0.000 & 0.00000 & 0.00000 & 0.000 & 0.0000 & 0.000 & 0.00000 & 0.00000 & 0.00000 & 0.00000 & 0.00000 & 0.000 & 0.0000 & 0.00 & 0.0000 & 0.000 & 0.00000 & 0.0000 & 0.00000 & 0.00000 & 0.000 & 0.0000 & 0.0000 & 0.00000 & 0.0000 & 0.0000 & 0.00000 & 0.000 & 0.000 & 0.00000 & 0.00000 & 0.283 & 0.0000 & 0.00000 & 0.00000 & 0.0000 & 0.00000 & 0.00000 & 0.00000 & 0.000 & 0.0000 & 0.0000 & 0.000 & 0.00000 & 0.00000 & 0.00000 & 0.00000 & 0.0000 & 0.00000 & 0.00000 & 0.00000 & 0.0000 & 0.000 & 0.00000 & 0.0000 & 0.0000 & 0.000 & 0.00000 & 0.0000 & 0.0000 & 0.00000 & 0.0000 & 0.00000 & 0.00000 & 0.00000 & 0.000 & 0.000 & 0.0000 & 0.0000 & 0.0000 & 0.000 & 0.00000 & 0.0000 & 0.000 & 0.00000 & 0.00000 & 0.0000 & 0.0000 & 0.00000 & 0.00 & 0.00000 & 0.000 & 0.00000 & 0.00000 & 0.00000 & 0.000 & 0.0000 & 0.00000 & 0.0000 & 0.000 & 0.000 & 0.00000 & 0.00000 & 0.0000 & 0.00000 & 0.00000 & 0.12090 & 0.0000 & 0.00000 & 0.000 & 0.0000 & 0.00000 & 0.00000 & 0.00000 & 0.00000 & 0.000 & 0.00 & 0.00000 & 0.0000 & 0.000 & 0.0000 & 0.0000 & 0.00000 & 0.00000 & 0.00000 & 0.0000 & 0.00000 & 0.00000 & 0.0000 & 0.0000 & 0.00000 & 0.0000 & 0.00000 & 0.00000 & 0.0000 & 0.0000 & 0.0000 & 0.00000 & 0.00000 & 0.00000 & 0.00000 & ENSG00000231606.1 & RP11-344F13.1 \\\\\n",
       "\t ENSG00000234593 &       & 1 & lincRNA        & 0.0000 & 0.00000 & 0.000 & 0.000 & 0.0000 & 0.00000 & 0.0000 & 0.00000 & 0.0000 & 0.0000 & 0.00000 & 0.0000 & 0.0000 & 0.000 & 0.0000 & 0.00000 & 0.00000 & 0.00000 & 0.00000 & 0.0000 & 0.03116 & 0.00000 & 0.000 & 0.000 & 0.00000 & 0.000 & 0.03488 & 0.11240 & 0.00000 & 0.00000 & 0.0000 & 0.000 & 0.0000 & 0.000 & 0.0000 & 0.000000 & 0.000 & 0.0000 & 0.000 & 0.000 & 0.00000 & 0.00000 & 0.0000 & 0.0000 & 0.00000 & 0.000 & 0.0000 & 0.00000 & 0.0000 & 0.000 & 0.0000 & 0.00000 & 0.0000 & 0.00000 & 0.00000 & 0.0000 & 0.0000 & 0.0000 & 0.00000 & 0.0000 & 0.00000 & 0.00000 & 0.00000 & 0.000 & 0.0000 & 0.0000 & 0.000 & 0.000 & 0.00000 & 0.0000 & 0.0000 & 0.0000 & 0.00000 & 0.00000 & 0.0000 & 0.000 & 0.000 & 0.0000 & 0.00000 & 0.0000 & 0.0000 & 0.0000 & 0.00000 & 0.00000 & 0.0000 & 0.00000 & 0.00000 & 0.00000 & 0.0000 & 0.0000 & 0.0000 & 0.0000 & 0.00000 & 0.0000 & 0.00000 & 0.0000 & 0.0000 & 0.00000 & 0.000 & 0.000 & 0.00000 & 0.0000 & 0.0000 & 0.00000 & 0.0000 & 0.0000 & 0.000 & 0.0000 & 0.00000 & 0.00000 & 0.00000 & 0.00000 & 0.00000 & 0.0000 & 0.0000 & 0.00000 & 0.0000 & 0.0000 & 0.0000 & 0.000 & 0.0000 & 0.000 & 0.00000 & 0.000 & 0.00000 & 0.000 & 0.00000 & 0.00000 & 0.00000 & 0.00 & 0.0000 & 0.00000 & 0.000 & 0.0000 & 0.0000 & 0.0000 & 0.000 & 0.00000 & 0.00000 & 0.00000 & 0.000 & 0.0000 & 0.0000 & 0.00000 & 0.00000 & 0.00000 & 0.0000 & 0.00000 & 0.0000 & 0.00000 & 0.000 & 0.00 & 0.00000 & 0.00000 & 0.0000 & 0.000 & 0.0000 & 0.00000 & 0.000 & 0.0000 & 0.00000 & 0.0000 & 0.0000 & 0.00000 & 0.00000 & 0.0000 & 0.000 & 0.00000 & 0.0000 & 0.0000 & 0.0000 & 0.000 & 0.0000 & 0.0000 & 0.0000 & 0.000 & 0.000 & 0.000 & 0.00000 & 0.00000 & 0.0000 & 0.00000 & 0.05651 & 0.000 & 0.0000 & 0.0000 & 0.0000 & 0.0000 & 0.0000 & 0.0000 & 0.00000 & 0.000 & 0.0000 & 0.000 & 0.0000 & 0.00000 & 0.00000 & 0.000 & 0.0000 & 0.00000 & 0.0000 & 0.0000 & 0.00000 & 0.000 & 0.00000 & 0.0000 & 0.0000 & 0.000 & 0.0000 & 0.00000 & 0.000 & 0.00000 & 0.00000 & 0.00000 & 0.0000 & 0.0000 & 0.00000 & 0.00000 & 0.0000 & 0.0000 & 0.00000 & 0.0000 & 0.00000 & 0.00000 & 0.0000 & 0.0000 & 0.00000 & 0.000 & 0.05968 & 0.00000 & 0.0000 & 0.000 & 0.00000 & 0.0000 & 0.00000 & 0.0000 & 0.0000 & 0.00000 & 0.00 & 0.0000 & 0.0000 & 0.00000 & 0.00000 & 0.00000 & 0.0000 & 0.0000 & 0.00000 & 0.000 & 0.000 & 0.00000 & 0.00000 & 0.00000 & 0.00000 & 0.0000 & 0.0000 & 0.0000 & 0.0000 & 0.000 & 0.0000 & 0.000 & 0.0000 & 0.00000 & 0.00000 & 0.0000 & 0.00000 & 0.000 & 0.000 & 0.0000 & 0.0000 & 0.00000 & 0.0000 & 0.00000 & 0.00000 & 0.000 & 0.000 & 0.0000 & 0.00000 & 0.0000 & 0.000 & 0.00000 & 0.000 & 0.000 & 0.00000 & 0.00000 & 0.0000 & 0.0000 & 0.00000 & 0.00000 & 0.0000 & 0.0000 & 0.0000 & 0.0000 & 0.00000 & 0.00000 & 0.00000 & 0.0000 & 0.000 & 0.000 & 0.00000 & 0.0000 & 0.00000 & 0.0000 & 0.0000 & 0.0000 & 0.00000 & 0.0000 & 0.0000 & 0.000 & 0.0000 & 0.00000 & 0.0000 & 0.0000 & 0.000 & 0.0000 & 0.0000 & 0.0000 & 0.0527 & 0.00000 & 0.0000 & 0.0000 & 0.0000 & 0.000000 & 0.000 & 0.0000 & 0.0000 & 0.0000 & 0.0000 & 0.0000 & 0.00000 & 0.00000 & 0.00 & 0.000 & 0.00000 & 0.0000 & 0.00000 & 0.000 & 0.0000 & 0.0000 & 0.0000 & 0.0000 & 0.00000 & 0.0000 & 0.0000 & 0.00000 & 0.00000 & 0.0000 & 0.000 & 0.0000 & 0.000 & 0.05865 & 0.0000 & 0.0000 & 0.0000 & 0.00000 & 0.00000 & 0.000 & 0.00000 & 0.0000 & 0.0000 & 0.000 & 0.0000 & 0.000 & 0.0000 & 0.00000 & 0.000 & 0.0000 & 0.0000 & 0.0000 & 0.0000 & 0.0000 & 0.00000 & 0.00000 & 0.00000 & 0.0000 & 0.0000 & 0.0000 & 0.00000 & 0.0000 & 0.0000 & 0.0000 & 0.00000 & 0.0000 & 0.00000 & 0.00000 & 0.0000 & 0.00000 & 0.00000 & 0 & 0.0000 & 0.000 & 0.0000 & 0.00000 & 0.00000 & 0.0000 & 0.000 & 0.00000 & 0.00000 & 0.00000 & 0.00000 & 0.00000 & 0.0000 & 0.0000 & 0.03746 & 0.000 & 0.00000 & 0.0000 & 0.0000 & 0.0000 & 0.00000 & 0.000 & 0.00000 & 0.0000 & 0.0000 & 0.000 & 0.000 & 0.0000 & 0.00000 & 0.00000 & 0.00000 & 0.0000 & 0.0000 & 0.0000 & 0.0000 & 0.00000 & 0.0000 & 0.0000 & 0.0000 & 0.00000 & 0.0000 & 0.0000 & 0.0000 & 0.0000 & 0.00000 & 0.0000 & 0.0000 & 0.00000 & 0.0000 & 0.00000 & 0.000 & 0.00000 & 0.00000 & 0.00000 & 0.00 & 0.0000 & 0.0000 & 0.00000 & 0.00000 & 0.000 & 0.0000 & 0.0000 & 0.03457 & 0.00000 & 0.000 & 0.000 & 0.000 & 0.00000 & 0.0000 & 0.000 & 0.00000 & 0.00000 & 0.000 & 0.000 & 0.00000 & 0.0000 & 0.000 & 0.0000 & 0.000 & 0.0000 & 0.0000 & 0.0000 & 0.00000 & 0.00000 & 0.00000 & 0.00000 & 0.00 & 0.00000 & 0.0000 & 0.000 & 0.000 & 0.000 & 0.000 & 0.0000 & 0.000 & 0.00000 & 0.00000 & 0.0000 & 0.000 & 0.00000 & 0.0000 & 0.0000 & 0.00000 & 0.0000 & 0.0000 & 0.0000 & 0.0000 & 0.0000 & 0.00000 & 0.000 & 0.000000 & 0.0000 & 0.0000 & 0.00000 & 0.00000 & 0.0000 & 0.0000 & 0.0000 & 0.0000 & 0.0000 & 0.0000 & 0.000 & 0.0000 & 0.000 & 0.0000 & 0.00000 & 0.0000 & 0.0000 & 0.00000 & 0.000000 & 0.0000 & 0.00000 & 0.0000 & 0.00000 & 0.0000 & 0.0000 & 0.000 & 0.0000 & 0.0000 & 0.00000 & 0.0000 & 0.000 & 0.0000 & 0.00000 & 0.0000 & 0.0000 & 0.0000 & 0.00000 & 0.0000 & 0.0000 & 0.0000 & 0.00000 & 0.00000 & 0.00000 & 0.0000 & 0.0000 & 0.0000 & 0.0000 & 0.0000 & 0.000 & 0.0000 & 0.0000 & 0.0000 & 0.0000 & 0.0000 & 0.000 & 0.00000 & 0.00000 & 0.000 & 0.0000 & 0.0000 & 0.00000 & 0.0000 & 0.00000 & 0.00000 & 0.00000 & 0.000 & 0.00000 & 0.00000 & 0.00000 & 0.00000 & 0.00000 & 0.00000 & 0.0000 & 0.0000 & 0.00000 & 0.0000 & 0.0000 & 0.0000 & 0.0000 & 0.0000 & 0.0000 & 0.2636 & 0.00000 & 0.00000 & 0.0000 & 0.0000 & 0.0000 & 0.00000 & 0.00000 & 0.0000 & 0.000 & 0.00000 & 0.0000 & 0.00 & 0.0000 & 0.0000 & 0.00000 & 0.0000 & 0.000 & 0.00000 & 0.00000 & 0.0000 & 0.00000 & 0.00000 & 0.000 & 0.0000 & 0.0000 & 0.0462 & 0.00000 & 0.00000 & 0.0000 & 0.0000 & 0.00000 & 0.00000 & 0.0000 & 0.0000 & 0.0000 & 0.0000 & 0.00000 & 0.00 & 0.00000 & 0.0000 & 0.0000 & 0.0000 & 0.00000 & 0.000 & 0.00000 & 0.00000 & 0.000 & 0.0000 & 0.000 & 0.00000 & 0.00000 & 0.00000 & 0.00000 & 0.00000 & 0.000 & 0.0000 & 0.00 & 0.0000 & 0.000 & 0.00000 & 0.0000 & 0.00000 & 0.00000 & 0.000 & 0.0000 & 0.0000 & 0.00000 & 0.0000 & 0.0000 & 0.00000 & 0.000 & 0.000 & 0.00000 & 0.03670 & 0.000 & 0.0000 & 0.00000 & 0.00000 & 0.0000 & 0.00000 & 0.00000 & 0.00000 & 0.000 & 0.0000 & 0.0000 & 0.000 & 0.00000 & 0.07584 & 0.00000 & 0.00000 & 0.0000 & 0.00000 & 0.00000 & 0.00000 & 0.0000 & 0.000 & 0.00000 & 0.0000 & 0.0000 & 0.000 & 0.00000 & 0.0000 & 0.0000 & 0.00000 & 0.0000 & 0.00000 & 0.00000 & 0.00000 & 0.000 & 0.000 & 0.0000 & 0.0000 & 0.0000 & 0.000 & 0.00000 & 0.0000 & 0.000 & 0.00000 & 0.00000 & 0.0000 & 0.0000 & 0.00000 & 0.00 & 0.00000 & 0.000 & 0.00000 & 0.00000 & 0.00000 & 0.000 & 0.0000 & 0.06079 & 0.0000 & 0.000 & 0.000 & 0.00000 & 0.00000 & 0.0000 & 0.00000 & 0.00000 & 0.00000 & 0.0000 & 0.00000 & 0.000 & 0.0000 & 0.00000 & 0.00000 & 0.00000 & 0.00000 & 0.000 & 0.00 & 0.00000 & 0.0000 & 0.000 & 0.0000 & 0.0000 & 0.00000 & 0.00000 & 0.00000 & 0.0000 & 0.00000 & 0.00000 & 0.0000 & 0.0000 & 0.00000 & 0.0000 & 0.07303 & 0.00000 & 0.0000 & 0.0000 & 0.0000 & 0.00000 & 0.00000 & 0.00000 & 0.00000 & ENSG00000234593.2 & RP4-704D23.1  \\\\\n",
       "\t ENSG00000228140 &       & 1 & lincRNA        & 0.5148 & 1.62100 & 0.678 & 2.237 & 0.1405 & 0.05083 & 0.2413 & 0.06821 & 0.0972 & 0.1468 & 1.56600 & 0.4188 & 0.4902 & 0.361 & 0.3983 & 1.46000 & 0.05693 & 0.18640 & 0.29880 & 0.1865 & 0.11950 & 0.08393 & 2.101 & 2.618 & 0.04562 & 1.287 & 0.07720 & 0.45630 & 0.14070 & 0.04516 & 0.9814 & 1.277 & 0.7718 & 0.123 & 0.5277 & 0.008231 & 0.469 & 0.1423 & 0.979 & 0.751 & 0.82690 & 1.07300 & 0.2891 & 0.3918 & 0.03638 & 1.288 & 0.2955 & 1.15000 & 0.1706 & 0.119 & 0.2735 & 0.24910 & 0.2134 & 1.47300 & 0.70420 & 0.4614 & 0.5666 & 0.4763 & 1.03100 & 0.4323 & 0.20700 & 0.51960 & 0.30680 & 1.057 & 0.4817 & 0.6573 & 0.207 & 1.745 & 0.02007 & 0.6595 & 0.7502 & 0.3342 & 0.31650 & 0.06384 & 0.3642 & 0.396 & 1.013 & 0.1154 & 0.26440 & 0.7733 & 0.2060 & 0.1954 & 0.14340 & 0.94740 & 0.8222 & 0.45810 & 0.98490 & 0.73390 & 0.2421 & 0.6755 & 0.1477 & 0.2912 & 0.39130 & 0.4302 & 0.06925 & 0.1199 & 0.2744 & 0.08256 & 1.641 & 1.782 & 0.42360 & 0.3321 & 0.3446 & 0.50650 & 0.2099 & 0.4793 & 1.495 & 0.4834 & 0.05998 & 0.43300 & 0.06727 & 0.05063 & 0.09434 & 0.3633 & 0.1995 & 1.12900 & 0.3113 & 0.5157 & 0.4544 & 0.435 & 0.2665 & 1.016 & 0.45210 & 2.494 & 0.06033 & 1.765 & 0.05853 & 0.17730 & 0.08618 & 0.27 & 0.3582 & 1.16500 & 0.259 & 0.0845 & 0.4304 & 0.8541 & 1.403 & 2.05400 & 0.06982 & 0.08626 & 1.398 & 0.8535 & 0.9973 & 0.12680 & 0.08176 & 0.04022 & 0.3666 & 1.21300 & 0.8533 & 0.33960 & 0.971 & 1.94 & 0.52930 & 0.89490 & 0.6681 & 2.578 & 0.2750 & 0.17530 & 1.333 & 0.1156 & 0.08638 & 0.2152 & 0.1072 & 0.77530 & 0.15410 & 0.7265 & 1.859 & 0.84700 & 0.7105 & 0.5680 & 0.2705 & 1.161 & 0.1236 & 0.6448 & 0.6811 & 1.364 & 1.891 & 2.291 & 0.05838 & 0.23740 & 0.3303 & 1.10800 & 0.46690 & 1.188 & 0.3101 & 0.7550 & 0.5673 & 0.7071 & 0.7276 & 0.5786 & 0.01086 & 1.974 & 0.4324 & 0.606 & 0.7361 & 0.43720 & 1.41300 & 1.901 & 0.3006 & 0.02446 & 0.8187 & 0.5081 & 0.64080 & 1.071 & 0.05202 & 0.4701 & 0.5746 & 0.549 & 0.4906 & 0.36490 & 0.913 & 0.02289 & 0.14840 & 0.19480 & 0.6682 & 0.8595 & 0.17390 & 0.01733 & 0.4216 & 0.2145 & 0.22410 & 0.4682 & 0.16340 & 0.02518 & 0.1023 & 0.4508 & 1.08100 & 1.012 & 0.18490 & 0.22880 & 0.4973 & 1.314 & 0.49520 & 0.3835 & 0.01642 & 0.5335 & 0.4052 & 0.93570 & 1.72 & 0.2798 & 0.7386 & 0.09906 & 0.04905 & 0.05753 & 0.2386 & 0.2480 & 1.16500 & 1.821 & 1.085 & 0.37440 & 0.74960 & 1.23900 & 0.46050 & 0.8486 & 1.4880 & 0.2044 & 0.1703 & 0.393 & 0.2646 & 1.076 & 0.2382 & 0.55960 & 0.38560 & 0.2694 & 0.07348 & 1.568 & 1.174 & 0.1124 & 0.1605 & 0.74090 & 0.0343 & 0.15860 & 0.00000 & 2.171 & 0.814 & 0.6282 & 0.18790 & 0.1048 & 1.147 & 0.08758 & 0.137 & 0.161 & 0.45100 & 0.07414 & 0.1307 & 0.1929 & 0.08741 & 0.44290 & 0.1696 & 0.1522 & 0.0902 & 0.7586 & 0.45390 & 0.08488 & 0.62340 & 0.3325 & 0.497 & 1.273 & 0.79400 & 0.2685 & 0.03372 & 0.5004 & 0.1364 & 0.9681 & 0.09955 & 0.1907 & 0.1913 & 0.236 & 0.9107 & 0.05643 & 0.2191 & 0.1941 & 1.446 & 0.1283 & 0.3295 & 0.7824 & 0.2566 & 0.55380 & 0.1113 & 0.7213 & 0.3882 & 0.008861 & 1.329 & 0.1131 & 0.1252 & 0.1148 & 0.1461 & 0.1457 & 0.03867 & 0.09422 & 0.56 & 0.565 & 0.14090 & 0.1813 & 0.91900 & 1.366 & 0.1523 & 0.6712 & 0.9817 & 0.8769 & 0.03586 & 0.1355 & 0.4338 & 0.04932 & 0.03376 & 0.1918 & 1.562 & 0.3538 & 0.329 & 0.03461 & 0.1537 & 0.6538 & 0.2344 & 0.05421 & 0.02899 & 1.939 & 0.00000 & 0.3843 & 0.5338 & 2.072 & 0.5871 & 1.029 & 0.1972 & 0.07041 & 0.355 & 0.8983 & 0.9156 & 0.7621 & 0.3029 & 0.4225 & 1.30400 & 0.04157 & 0.15620 & 0.1349 & 0.2056 & 0.6381 & 0.07227 & 0.3094 & 0.1336 & 0.1491 & 0.95860 & 0.5756 & 0.07796 & 0.22590 & 0.6537 & 1.20000 & 0.02963 & 0 & 0.1535 & 1.088 & 0.5694 & 0.47990 & 0.06119 & 0.3251 & 1.463 & 0.04179 & 0.04466 & 0.03316 & 0.16490 & 0.05533 & 0.1328 & 0.4902 & 1.16100 & 1.423 & 0.04541 & 0.6636 & 0.4535 & 0.5322 & 0.31950 & 1.097 & 0.02517 & 0.2215 & 0.1133 & 1.425 & 0.678 & 0.1752 & 0.42190 & 0.15430 & 0.05007 & 0.7287 & 1.6230 & 0.4459 & 0.1329 & 0.02063 & 0.5092 & 0.2178 & 0.4772 & 0.02459 & 0.1061 & 0.9664 & 0.3503 & 0.2528 & 0.12020 & 0.4334 & 0.4376 & 0.15140 & 0.3366 & 0.07599 & 1.255 & 1.30200 & 1.84200 & 0.08212 & 0.75 & 0.6692 & 0.1032 & 0.10320 & 0.07942 & 0.428 & 0.7223 & 0.9596 & 0.71920 & 0.06779 & 0.167 & 0.127 & 0.643 & 1.49400 & 0.3607 & 1.092 & 0.03289 & 0.07568 & 0.155 & 2.244 & 0.65530 & 1.0050 & 1.555 & 0.1165 & 0.157 & 0.1532 & 0.1603 & 0.5559 & 0.02009 & 0.05037 & 0.65980 & 1.12100 & 0.12 & 0.08673 & 0.7704 & 1.349 & 0.359 & 1.776 & 2.062 & 0.1978 & 1.032 & 0.04557 & 0.59410 & 0.1036 & 0.795 & 0.06511 & 0.6064 & 0.8163 & 1.11300 & 0.1296 & 0.2285 & 0.3733 & 0.8992 & 0.1446 & 0.99790 & 0.298 & 0.004329 & 0.7006 & 0.7746 & 0.14580 & 0.10290 & 0.9357 & 0.1646 & 0.7066 & 0.1423 & 0.8356 & 0.7798 & 0.565 & 0.9467 & 1.217 & 0.6383 & 0.24410 & 0.2949 & 0.5428 & 0.98360 & 0.006832 & 0.8488 & 1.26600 & 0.6742 & 0.99670 & 0.7118 & 0.2731 & 1.459 & 0.7338 & 0.5885 & 0.52050 & 0.8064 & 2.738 & 0.1638 & 0.08514 & 0.1714 & 0.4184 & 0.5269 & 1.21900 & 0.1702 & 0.3025 & 0.4858 & 0.52230 & 0.95150 & 0.50890 & 0.1254 & 0.5466 & 0.1573 & 0.2198 & 0.9458 & 2.793 & 0.7251 & 0.6311 & 0.2754 & 0.8031 & 0.3410 & 1.509 & 0.14090 & 0.75300 & 0.207 & 0.4584 & 0.2621 & 0.25060 & 0.7466 & 0.44320 & 0.00000 & 0.75950 & 0.988 & 0.01958 & 0.01386 & 0.49610 & 0.48540 & 0.04313 & 0.73970 & 0.4564 & 0.2589 & 0.73510 & 0.3318 & 0.3718 & 2.8100 & 0.9578 & 0.6208 & 0.1196 & 1.6920 & 0.49450 & 0.29910 & 0.1502 & 0.6514 & 0.2403 & 0.01819 & 0.28260 & 0.7830 & 1.385 & 1.12500 & 1.4380 & 1.83 & 0.2888 & 0.3907 & 0.07319 & 2.7360 & 1.496 & 0.43560 & 1.69700 & 0.3260 & 0.18640 & 1.74900 & 0.153 & 0.7735 & 0.4975 & 1.1250 & 0.43600 & 1.27100 & 0.7652 & 0.7613 & 0.07808 & 0.10150 & 0.2417 & 1.1170 & 0.9377 & 0.1458 & 0.31550 & 1.01 & 1.59100 & 0.5321 & 0.2141 & 0.3384 & 0.80680 & 0.989 & 0.17790 & 0.67220 & 1.131 & 1.3560 & 2.413 & 1.13900 & 0.49220 & 0.85700 & 0.91860 & 0.83480 & 1.194 & 0.5111 & 0.54 & 0.9038 & 1.192 & 0.04256 & 0.9330 & 0.83400 & 0.67480 & 0.448 & 0.1561 & 0.8244 & 1.09700 & 2.4550 & 0.7058 & 0.13310 & 0.158 & 2.987 & 0.33570 & 0.16240 & 0.447 & 0.3617 & 0.06063 & 1.21400 & 0.2006 & 0.98810 & 0.44510 & 0.04935 & 1.791 & 0.2392 & 0.3251 & 1.611 & 0.56740 & 0.35810 & 0.73340 & 0.70130 & 0.5228 & 1.38100 & 0.26140 & 1.03300 & 1.1510 & 1.147 & 0.03834 & 0.5317 & 0.2133 & 0.293 & 0.64720 & 0.8136 & 0.3128 & 0.82480 & 0.3188 & 0.20870 & 0.07261 & 0.76000 & 1.434 & 0.615 & 0.6807 & 0.3925 & 0.1897 & 1.014 & 0.58010 & 0.7422 & 1.984 & 0.15480 & 1.21500 & 0.1636 & 0.6259 & 0.31450 & 1.34 & 1.31200 & 1.759 & 1.41600 & 0.49560 & 2.27700 & 1.199 & 0.2389 & 0.74000 & 0.5676 & 1.393 & 1.846 & 0.12100 & 0.07591 & 0.4529 & 1.01200 & 0.33570 & 0.63890 & 0.3319 & 0.36600 & 0.614 & 0.3776 & 1.12400 & 0.39580 & 0.41180 & 0.75380 & 1.105 & 1.02 & 1.08800 & 0.9641 & 1.024 & 0.2075 & 0.6599 & 0.74560 & 1.33100 & 0.27930 & 0.8391 & 0.08135 & 1.06500 & 0.3307 & 0.6429 & 1.24200 & 0.1653 & 0.88900 & 1.06500 & 0.3384 & 0.1622 & 0.1911 & 2.15500 & 0.28140 & 0.74600 & 0.62610 & ENSG00000228140.1 & RP3-467K16.4  \\\\\n",
       "\t ENSG00000186092 & OR4F5 & 1 & protein\\_coding & 0.0000 & 0.05678 & 0.000 & 0.000 & 0.0000 & 0.00000 & 0.0000 & 0.00000 & 0.0000 & 0.0000 & 0.08923 & 0.0000 & 0.0395 & 0.000 & 0.0000 & 0.04524 & 0.00000 & 0.02842 & 0.04013 & 0.0000 & 0.02593 & 0.00000 & 0.000 & 0.000 & 0.00000 & 0.000 & 0.00000 & 0.04679 & 0.04962 & 0.02547 & 0.0000 & 0.000 & 0.0000 & 0.000 & 0.0000 & 0.000000 & 0.000 & 0.0000 & 0.000 & 0.000 & 0.04127 & 0.05131 & 0.0453 & 0.0000 & 0.00000 & 0.000 & 0.0000 & 0.04213 & 0.0000 & 0.000 & 0.0000 & 0.05855 & 0.0000 & 0.03828 & 0.05261 & 0.0000 & 0.0000 & 0.0000 & 0.03849 & 0.0000 & 0.07076 & 0.05328 & 0.08441 & 0.000 & 0.0000 & 0.0000 & 0.000 & 0.000 & 0.00000 & 0.0418 & 0.0000 & 0.0000 & 0.09916 & 0.00000 & 0.0000 & 0.000 & 0.000 & 0.0000 & 0.04812 & 0.0000 & 0.1056 & 0.0000 & 0.03677 & 0.04948 & 0.0000 & 0.03975 & 0.04873 & 0.05376 & 0.0000 & 0.0000 & 0.0000 & 0.0000 & 0.02759 & 0.0000 & 0.00000 & 0.0000 & 0.0000 & 0.00000 & 0.000 & 0.000 & 0.06926 & 0.0000 & 0.0341 & 0.07937 & 0.0000 & 0.0000 & 0.000 & 0.0000 & 0.00000 & 0.01986 & 0.00000 & 0.00000 & 0.00000 & 0.0000 & 0.0363 & 0.03617 & 0.0000 & 0.0000 & 0.0000 & 0.000 & 0.0000 & 0.000 & 0.03269 & 0.000 & 0.04254 & 0.000 & 0.00000 & 0.04348 & 0.00000 & 0.00 & 0.0000 & 0.05713 & 0.000 & 0.0000 & 0.0000 & 0.2753 & 0.000 & 0.04615 & 0.00000 & 0.00000 & 0.000 & 0.0000 & 0.0000 & 0.03765 & 0.00000 & 0.00000 & 0.0000 & 0.03439 & 0.0000 & 0.05633 & 0.000 & 0.00 & 0.08782 & 0.03739 & 0.0000 & 0.000 & 0.3761 & 0.04493 & 0.000 & 0.1222 & 0.00000 & 0.0000 & 0.0000 & 0.05467 & 0.03104 & 0.0000 & 0.000 & 0.03388 & 0.0000 & 0.1248 & 0.0000 & 0.000 & 0.0000 & 0.0000 & 0.0000 & 0.000 & 0.000 & 0.000 & 0.00000 & 0.07876 & 0.0000 & 0.03856 & 0.04703 & 0.000 & 0.0000 & 0.1503 & 0.0000 & 0.0000 & 0.0000 & 0.0259 & 0.00000 & 0.000 & 0.1076 & 0.000 & 0.0000 & 0.03473 & 0.03985 & 0.000 & 0.0000 & 0.03449 & 0.0000 & 0.0000 & 0.09151 & 0.000 & 0.00000 & 0.1396 & 0.0000 & 0.000 & 0.0401 & 0.04678 & 0.000 & 0.00000 & 0.03101 & 0.02891 & 0.0000 & 0.0000 & 0.04906 & 0.00000 & 0.1346 & 0.0000 & 0.03717 & 0.0000 & 0.05122 & 0.07100 & 0.0000 & 0.0000 & 0.03261 & 0.000 & 0.00000 & 0.08067 & 0.0000 & 0.000 & 0.04579 & 0.0000 & 0.06174 & 0.0000 & 0.0000 & 0.04755 & 0.00 & 0.0000 & 0.0000 & 0.03725 & 0.00000 & 0.00000 & 0.0299 & 0.1794 & 0.07778 & 0.000 & 0.000 & 0.05866 & 0.05714 & 0.08124 & 0.04258 & 0.0000 & 0.0608 & 0.0000 & 0.0000 & 0.000 & 0.0000 & 0.000 & 0.0000 & 0.07892 & 0.03816 & 0.0000 & 0.00000 & 0.000 & 0.000 & 0.0000 & 0.0000 & 0.03483 & 0.0000 & 0.03726 & 0.04103 & 0.000 & 0.000 & 0.0000 & 0.06622 & 0.0000 & 0.000 & 0.00000 & 0.000 & 0.000 & 0.03914 & 0.05227 & 0.0000 & 0.0000 & 0.00000 & 0.01772 & 0.0000 & 0.0000 & 0.0000 & 0.0000 & 0.02535 & 0.04788 & 0.03256 & 0.2557 & 0.000 & 0.000 & 0.07927 & 0.0000 & 0.00000 & 0.0000 & 0.0000 & 0.0000 & 0.05615 & 0.0347 & 0.0000 & 0.000 & 0.0000 & 0.00000 & 0.0000 & 0.0000 & 0.000 & 0.0000 & 0.0000 & 0.0000 & 0.0000 & 0.07908 & 0.0000 & 0.0000 & 0.0000 & 0.000000 & 0.000 & 0.0319 & 0.0000 & 0.0249 & 0.0000 & 0.0000 & 0.05453 & 0.00000 & 0.00 & 0.000 & 0.04414 & 0.0000 & 0.04547 & 0.000 & 0.0000 & 0.0000 & 0.0000 & 0.0000 & 0.10110 & 0.0000 & 0.0000 & 0.22250 & 0.00000 & 0.0000 & 0.000 & 0.1023 & 0.000 & 0.00000 & 0.0000 & 0.0000 & 0.0000 & 0.00000 & 0.02725 & 0.000 & 0.04822 & 0.0000 & 0.0000 & 0.000 & 0.0000 & 0.000 & 0.0000 & 0.03055 & 0.000 & 0.0000 & 0.0000 & 0.0000 & 0.0000 & 0.0000 & 0.04457 & 0.03908 & 0.03146 & 0.0000 & 0.0000 & 0.0000 & 0.00000 & 0.0000 & 0.0000 & 0.0000 & 0.03277 & 0.1059 & 0.00000 & 0.03982 & 0.0000 & 0.03238 & 0.00000 & 0 & 0.0000 & 0.000 & 0.0000 & 0.02762 & 0.00000 & 0.0000 & 0.000 & 0.00000 & 0.00000 & 0.00000 & 0.06643 & 0.00000 & 0.0000 & 0.0000 & 0.00000 & 0.000 & 0.00000 & 0.0000 & 0.0000 & 0.0000 & 0.03466 & 0.000 & 0.00000 & 0.0000 & 0.0000 & 0.000 & 0.000 & 0.0000 & 0.03091 & 0.02807 & 0.02568 & 0.0000 & 0.0319 & 0.0000 & 0.0000 & 0.00000 & 0.0000 & 0.0000 & 0.0000 & 0.00000 & 0.0000 & 0.0000 & 0.0000 & 0.0000 & 0.02338 & 0.0000 & 0.0000 & 0.02135 & 0.0000 & 0.00000 & 0.000 & 0.02604 & 0.03177 & 0.02316 & 0.00 & 0.0000 & 0.0000 & 0.02645 & 0.00000 & 0.000 & 0.0000 & 0.0000 & 0.00000 & 0.02549 & 0.000 & 0.000 & 0.000 & 0.08569 & 0.0000 & 0.000 & 0.03092 & 0.00000 & 0.000 & 0.000 & 0.07393 & 0.1318 & 0.000 & 0.0365 & 0.000 & 0.0000 & 0.0000 & 0.0000 & 0.03776 & 0.14200 & 0.02001 & 0.03877 & 0.00 & 0.03058 & 0.0000 & 0.000 & 0.000 & 0.000 & 0.000 & 0.0000 & 0.000 & 0.00000 & 0.05405 & 0.0000 & 0.000 & 0.00000 & 0.0000 & 0.0000 & 0.03737 & 0.0000 & 0.0000 & 0.0000 & 0.0000 & 0.0000 & 0.02887 & 0.000 & 0.048840 & 0.0000 & 0.0000 & 0.02419 & 0.03054 & 0.0000 & 0.0000 & 0.0000 & 0.0000 & 0.0000 & 0.0000 & 0.000 & 0.0000 & 0.000 & 0.0000 & 0.05738 & 0.0000 & 0.0000 & 0.04079 & 0.000000 & 0.1019 & 0.04153 & 0.1188 & 0.03627 & 0.0000 & 0.0453 & 0.000 & 0.1035 & 0.0000 & 0.04587 & 0.0000 & 0.000 & 0.0000 & 0.06860 & 0.1813 & 1.9670 & 0.0000 & 0.09164 & 0.0000 & 0.1741 & 0.0000 & 0.05665 & 0.02556 & 0.03932 & 1.0610 & 0.0000 & 0.0000 & 0.0000 & 0.0000 & 0.000 & 0.0000 & 0.1287 & 0.0000 & 0.0000 & 0.0000 & 0.000 & 0.03612 & 0.09994 & 0.000 & 0.0000 & 0.0000 & 0.04283 & 0.0000 & 0.04464 & 0.09686 & 0.06347 & 0.000 & 0.00000 & 0.00000 & 0.07563 & 0.08831 & 0.04055 & 0.03793 & 0.0000 & 0.0000 & 0.06687 & 0.1370 & 0.0000 & 0.1093 & 0.0000 & 0.0000 & 0.0000 & 0.0000 & 0.07748 & 0.08436 & 0.0000 & 0.0000 & 0.2140 & 0.00000 & 0.07246 & 0.1359 & 0.000 & 0.04918 & 0.1931 & 0.00 & 0.0000 & 0.1025 & 0.10320 & 1.0640 & 0.000 & 0.02996 & 0.04986 & 0.3198 & 0.05842 & 0.07709 & 0.000 & 0.0000 & 0.0000 & 0.0769 & 0.06895 & 0.03982 & 0.0000 & 0.0000 & 0.05505 & 0.07157 & 0.0779 & 0.1562 & 0.0000 & 0.0000 & 0.08474 & 0.00 & 0.05309 & 0.0469 & 0.0000 & 0.0000 & 0.02346 & 0.000 & 0.07166 & 0.06893 & 0.000 & 0.0375 & 0.000 & 0.05222 & 0.02833 & 0.05142 & 0.09685 & 0.04281 & 0.000 & 0.0000 & 0.00 & 0.0000 & 0.000 & 0.00000 & 0.0358 & 0.08401 & 0.03146 & 0.000 & 0.0000 & 0.0000 & 0.08477 & 0.0426 & 0.0000 & 0.03002 & 0.000 & 0.000 & 0.02491 & 0.03054 & 0.000 & 0.0583 & 0.00000 & 0.03004 & 0.0000 & 0.03925 & 0.05123 & 0.00000 & 0.000 & 0.0000 & 0.2158 & 0.000 & 0.08649 & 0.00000 & 0.04546 & 0.04208 & 0.0000 & 0.05092 & 0.04914 & 0.04588 & 0.0446 & 0.000 & 0.14420 & 0.0000 & 0.0000 & 0.000 & 0.04741 & 0.0000 & 0.0000 & 0.03783 & 0.0000 & 0.04906 & 0.00000 & 0.06595 & 0.000 & 0.000 & 0.0000 & 0.0000 & 0.1529 & 0.000 & 0.05454 & 0.0000 & 0.000 & 0.04157 & 0.07787 & 0.0000 & 0.0000 & 0.03942 & 0.00 & 0.05482 & 0.000 & 0.03768 & 0.04051 & 0.02535 & 0.000 & 0.0245 & 0.00000 & 0.0000 & 0.000 & 0.000 & 0.09305 & 0.00000 & 0.0000 & 0.06273 & 0.03713 & 0.03715 & 0.1306 & 0.08426 & 0.000 & 0.0000 & 0.06184 & 0.05074 & 0.05161 & 0.04168 & 0.000 & 0.00 & 0.03429 & 0.0000 & 0.000 & 0.0000 & 0.0000 & 0.03286 & 0.07738 & 0.02864 & 0.0000 & 0.00000 & 0.03554 & 0.2332 & 0.0000 & 0.04377 & 0.0333 & 0.06078 & 0.04884 & 0.0000 & 0.0000 & 0.0000 & 0.04552 & 0.03527 & 0.08015 & 0.04528 & ENSG00000186092.4 & OR4F5         \\\\\n",
       "\\end{tabular}\n"
      ],
      "text/markdown": [
       "\n",
       "A data.frame: 6 × 761\n",
       "\n",
       "| ensembl_gene_id &lt;chr&gt; | hgnc_symbol &lt;chr&gt; | chromosome_name &lt;chr&gt; | transcript_biotype &lt;chr&gt; | GTEX-111YS-0006-SM-5NQBE &lt;dbl&gt; | GTEX-1122O-0005-SM-5O99J &lt;dbl&gt; | GTEX-1128S-0005-SM-5P9HI &lt;dbl&gt; | GTEX-113IC-0006-SM-5NQ9C &lt;dbl&gt; | GTEX-113JC-0006-SM-5O997 &lt;dbl&gt; | GTEX-117XS-0005-SM-5PNU6 &lt;dbl&gt; | ⋯ ⋯ | GTEX-ZVT2-0005-SM-57WBW &lt;dbl&gt; | GTEX-ZVT3-0006-SM-51MT9 &lt;dbl&gt; | GTEX-ZVT4-0006-SM-57WB8 &lt;dbl&gt; | GTEX-ZVTK-0006-SM-57WBK &lt;dbl&gt; | GTEX-ZVZP-0006-SM-51MSW &lt;dbl&gt; | GTEX-ZVZQ-0006-SM-51MR8 &lt;dbl&gt; | GTEX-ZXES-0005-SM-57WCB &lt;dbl&gt; | GTEX-ZXG5-0005-SM-57WCN &lt;dbl&gt; | Name &lt;chr&gt; | Description &lt;chr&gt; |\n",
       "|---|---|---|---|---|---|---|---|---|---|---|---|---|---|---|---|---|---|---|---|---|\n",
       "| ENSG00000228229 | <!----> | 1 | lincRNA        | 0.0000 | 0.00000 | 0.000 | 0.000 | 0.0000 | 0.00000 | ⋯ | 0.00000 | 0.0000 | 0.0000 | 0.0000 | 0.00000 | 0.00000 | 0.00000 | 0.00000 | ENSG00000228229.2 | RP11-219C24.10 |\n",
       "| ENSG00000237445 | <!----> | 1 | lincRNA        | 0.0000 | 0.00000 | 0.000 | 0.000 | 0.0000 | 0.00000 | ⋯ | 0.00000 | 0.0000 | 0.0000 | 0.0000 | 0.00000 | 0.00000 | 0.00000 | 0.00000 | ENSG00000237445.2 | CTA-520D8.2    |\n",
       "| ENSG00000231606 | <!----> | 1 | lincRNA        | 0.0000 | 0.00000 | 0.000 | 0.000 | 0.0000 | 0.00000 | ⋯ | 0.00000 | 0.0000 | 0.0000 | 0.0000 | 0.00000 | 0.00000 | 0.00000 | 0.00000 | ENSG00000231606.1 | RP11-344F13.1  |\n",
       "| ENSG00000234593 | <!----> | 1 | lincRNA        | 0.0000 | 0.00000 | 0.000 | 0.000 | 0.0000 | 0.00000 | ⋯ | 0.00000 | 0.0000 | 0.0000 | 0.0000 | 0.00000 | 0.00000 | 0.00000 | 0.00000 | ENSG00000234593.2 | RP4-704D23.1   |\n",
       "| ENSG00000228140 | <!----> | 1 | lincRNA        | 0.5148 | 1.62100 | 0.678 | 2.237 | 0.1405 | 0.05083 | ⋯ | 1.06500 | 0.3384 | 0.1622 | 0.1911 | 2.15500 | 0.28140 | 0.74600 | 0.62610 | ENSG00000228140.1 | RP3-467K16.4   |\n",
       "| ENSG00000186092 | OR4F5 | 1 | protein_coding | 0.0000 | 0.05678 | 0.000 | 0.000 | 0.0000 | 0.00000 | ⋯ | 0.04884 | 0.0000 | 0.0000 | 0.0000 | 0.04552 | 0.03527 | 0.08015 | 0.04528 | ENSG00000186092.4 | OR4F5          |\n",
       "\n"
      ],
      "text/plain": [
       "  ensembl_gene_id hgnc_symbol chromosome_name transcript_biotype\n",
       "1 ENSG00000228229             1               lincRNA           \n",
       "2 ENSG00000237445             1               lincRNA           \n",
       "3 ENSG00000231606             1               lincRNA           \n",
       "4 ENSG00000234593             1               lincRNA           \n",
       "5 ENSG00000228140             1               lincRNA           \n",
       "6 ENSG00000186092 OR4F5       1               protein_coding    \n",
       "  GTEX-111YS-0006-SM-5NQBE GTEX-1122O-0005-SM-5O99J GTEX-1128S-0005-SM-5P9HI\n",
       "1 0.0000                   0.00000                  0.000                   \n",
       "2 0.0000                   0.00000                  0.000                   \n",
       "3 0.0000                   0.00000                  0.000                   \n",
       "4 0.0000                   0.00000                  0.000                   \n",
       "5 0.5148                   1.62100                  0.678                   \n",
       "6 0.0000                   0.05678                  0.000                   \n",
       "  GTEX-113IC-0006-SM-5NQ9C GTEX-113JC-0006-SM-5O997 GTEX-117XS-0005-SM-5PNU6 ⋯\n",
       "1 0.000                    0.0000                   0.00000                  ⋯\n",
       "2 0.000                    0.0000                   0.00000                  ⋯\n",
       "3 0.000                    0.0000                   0.00000                  ⋯\n",
       "4 0.000                    0.0000                   0.00000                  ⋯\n",
       "5 2.237                    0.1405                   0.05083                  ⋯\n",
       "6 0.000                    0.0000                   0.00000                  ⋯\n",
       "  GTEX-ZVT2-0005-SM-57WBW GTEX-ZVT3-0006-SM-51MT9 GTEX-ZVT4-0006-SM-57WB8\n",
       "1 0.00000                 0.0000                  0.0000                 \n",
       "2 0.00000                 0.0000                  0.0000                 \n",
       "3 0.00000                 0.0000                  0.0000                 \n",
       "4 0.00000                 0.0000                  0.0000                 \n",
       "5 1.06500                 0.3384                  0.1622                 \n",
       "6 0.04884                 0.0000                  0.0000                 \n",
       "  GTEX-ZVTK-0006-SM-57WBK GTEX-ZVZP-0006-SM-51MSW GTEX-ZVZQ-0006-SM-51MR8\n",
       "1 0.0000                  0.00000                 0.00000                \n",
       "2 0.0000                  0.00000                 0.00000                \n",
       "3 0.0000                  0.00000                 0.00000                \n",
       "4 0.0000                  0.00000                 0.00000                \n",
       "5 0.1911                  2.15500                 0.28140                \n",
       "6 0.0000                  0.04552                 0.03527                \n",
       "  GTEX-ZXES-0005-SM-57WCB GTEX-ZXG5-0005-SM-57WCN Name             \n",
       "1 0.00000                 0.00000                 ENSG00000228229.2\n",
       "2 0.00000                 0.00000                 ENSG00000237445.2\n",
       "3 0.00000                 0.00000                 ENSG00000231606.1\n",
       "4 0.00000                 0.00000                 ENSG00000234593.2\n",
       "5 0.74600                 0.62610                 ENSG00000228140.1\n",
       "6 0.08015                 0.04528                 ENSG00000186092.4\n",
       "  Description   \n",
       "1 RP11-219C24.10\n",
       "2 CTA-520D8.2   \n",
       "3 RP11-344F13.1 \n",
       "4 RP4-704D23.1  \n",
       "5 RP3-467K16.4  \n",
       "6 OR4F5         "
      ]
     },
     "metadata": {},
     "output_type": "display_data"
    },
    {
     "data": {
      "text/html": [
       "<ol class=list-inline>\n",
       "\t<li>27256</li>\n",
       "\t<li>761</li>\n",
       "</ol>\n"
      ],
      "text/latex": [
       "\\begin{enumerate*}\n",
       "\\item 27256\n",
       "\\item 761\n",
       "\\end{enumerate*}\n"
      ],
      "text/markdown": [
       "1. 27256\n",
       "2. 761\n",
       "\n",
       "\n"
      ],
      "text/plain": [
       "[1] 27256   761"
      ]
     },
     "metadata": {},
     "output_type": "display_data"
    }
   ],
   "source": [
    "head(expression_list_target[[\"Whole Blood\"]])\n",
    "dim(expression_list_target[[\"Whole Blood\"]])"
   ]
  },
  {
   "cell_type": "code",
   "execution_count": 126,
   "metadata": {},
   "outputs": [],
   "source": [
    "#save(expression_list_target, file = \"/gpfs/loomis/project/radev/zy92/utmost_update/GTEX/expression_list_target.RData\")"
   ]
  },
  {
   "cell_type": "code",
   "execution_count": null,
   "metadata": {},
   "outputs": [],
   "source": []
  },
  {
   "cell_type": "code",
   "execution_count": null,
   "metadata": {},
   "outputs": [],
   "source": []
  },
  {
   "cell_type": "code",
   "execution_count": 127,
   "metadata": {},
   "outputs": [],
   "source": [
    "library(stringr)\n",
    "tissue_name_clean <- function(str) {\n",
    "    str <- str_remove_all(str, \"\\\\(\") \n",
    "    str <- str_remove_all(str, \"\\\\)\") \n",
    "    str <- str_replace_all(str, \" \", \"_\") \n",
    "    str <- str_replace_all(str, \"_-_\", \"_\")\n",
    "    return(str)\n",
    "}"
   ]
  },
  {
   "cell_type": "code",
   "execution_count": 128,
   "metadata": {},
   "outputs": [
    {
     "data": {
      "text/html": [
       "'Brain_Spinal_cord_cervical_c-1'"
      ],
      "text/latex": [
       "'Brain\\_Spinal\\_cord\\_cervical\\_c-1'"
      ],
      "text/markdown": [
       "'Brain_Spinal_cord_cervical_c-1'"
      ],
      "text/plain": [
       "[1] \"Brain_Spinal_cord_cervical_c-1\""
      ]
     },
     "metadata": {},
     "output_type": "display_data"
    }
   ],
   "source": [
    "tissue_name_clean(\"Brain - Spinal cord (cervical c-1)\")"
   ]
  },
  {
   "cell_type": "code",
   "execution_count": 129,
   "metadata": {},
   "outputs": [],
   "source": [
    "tissue_vec_clean <- as.character(sapply(tissue_vec, tissue_name_clean))"
   ]
  },
  {
   "cell_type": "code",
   "execution_count": 130,
   "metadata": {},
   "outputs": [
    {
     "data": {
      "text/html": [
       "<ol class=list-inline>\n",
       "\t<li>'Whole_Blood'</li>\n",
       "\t<li>'Brain_Frontal_Cortex_BA9'</li>\n",
       "\t<li>'Adipose_Subcutaneous'</li>\n",
       "\t<li>'Muscle_Skeletal'</li>\n",
       "\t<li>'Artery_Tibial'</li>\n",
       "\t<li>'Artery_Coronary'</li>\n",
       "\t<li>'Heart_Atrial_Appendage'</li>\n",
       "\t<li>'Adipose_Visceral_Omentum'</li>\n",
       "\t<li>'Ovary'</li>\n",
       "\t<li>'Uterus'</li>\n",
       "\t<li>'Vagina'</li>\n",
       "\t<li>'Breast_Mammary_Tissue'</li>\n",
       "\t<li>'Skin_Not_Sun_Exposed_Suprapubic'</li>\n",
       "\t<li>'Minor_Salivary_Gland'</li>\n",
       "\t<li>'Brain_Cortex'</li>\n",
       "\t<li>'Adrenal_Gland'</li>\n",
       "\t<li>'Thyroid'</li>\n",
       "\t<li>'Lung'</li>\n",
       "\t<li>'Spleen'</li>\n",
       "\t<li>'Pancreas'</li>\n",
       "\t<li>'Esophagus_Muscularis'</li>\n",
       "\t<li>'Esophagus_Mucosa'</li>\n",
       "\t<li>'Esophagus_Gastroesophageal_Junction'</li>\n",
       "\t<li>'Stomach'</li>\n",
       "\t<li>'Colon_Sigmoid'</li>\n",
       "\t<li>'Small_Intestine_Terminal_Ileum'</li>\n",
       "\t<li>'Colon_Transverse'</li>\n",
       "\t<li>'Prostate'</li>\n",
       "\t<li>'Testis'</li>\n",
       "\t<li>'Skin_Sun_Exposed_Lower_leg'</li>\n",
       "\t<li>'Nerve_Tibial'</li>\n",
       "\t<li>'Heart_Left_Ventricle'</li>\n",
       "\t<li>'Pituitary'</li>\n",
       "\t<li>'Brain_Cerebellum'</li>\n",
       "\t<li>'Cells_Cultured_fibroblasts'</li>\n",
       "\t<li>'Artery_Aorta'</li>\n",
       "\t<li>'Cells_EBV-transformed_lymphocytes'</li>\n",
       "\t<li>'Brain_Cerebellar_Hemisphere'</li>\n",
       "\t<li>'Brain_Caudate_basal_ganglia'</li>\n",
       "\t<li>'Brain_Nucleus_accumbens_basal_ganglia'</li>\n",
       "\t<li>'Brain_Putamen_basal_ganglia'</li>\n",
       "\t<li>'Brain_Hypothalamus'</li>\n",
       "\t<li>'Brain_Spinal_cord_cervical_c-1'</li>\n",
       "\t<li>'Liver'</li>\n",
       "\t<li>'Brain_Hippocampus'</li>\n",
       "\t<li>'Brain_Anterior_cingulate_cortex_BA24'</li>\n",
       "\t<li>'Brain_Substantia_nigra'</li>\n",
       "\t<li>'Kidney_Cortex'</li>\n",
       "\t<li>'Brain_Amygdala'</li>\n",
       "\t<li>'Cervix_Ectocervix'</li>\n",
       "\t<li>'Fallopian_Tube'</li>\n",
       "\t<li>'Cervix_Endocervix'</li>\n",
       "\t<li>'Bladder'</li>\n",
       "\t<li>'Kidney_Medulla'</li>\n",
       "\t<li>'Cells_Leukemia_cell_line_CML'</li>\n",
       "</ol>\n"
      ],
      "text/latex": [
       "\\begin{enumerate*}\n",
       "\\item 'Whole\\_Blood'\n",
       "\\item 'Brain\\_Frontal\\_Cortex\\_BA9'\n",
       "\\item 'Adipose\\_Subcutaneous'\n",
       "\\item 'Muscle\\_Skeletal'\n",
       "\\item 'Artery\\_Tibial'\n",
       "\\item 'Artery\\_Coronary'\n",
       "\\item 'Heart\\_Atrial\\_Appendage'\n",
       "\\item 'Adipose\\_Visceral\\_Omentum'\n",
       "\\item 'Ovary'\n",
       "\\item 'Uterus'\n",
       "\\item 'Vagina'\n",
       "\\item 'Breast\\_Mammary\\_Tissue'\n",
       "\\item 'Skin\\_Not\\_Sun\\_Exposed\\_Suprapubic'\n",
       "\\item 'Minor\\_Salivary\\_Gland'\n",
       "\\item 'Brain\\_Cortex'\n",
       "\\item 'Adrenal\\_Gland'\n",
       "\\item 'Thyroid'\n",
       "\\item 'Lung'\n",
       "\\item 'Spleen'\n",
       "\\item 'Pancreas'\n",
       "\\item 'Esophagus\\_Muscularis'\n",
       "\\item 'Esophagus\\_Mucosa'\n",
       "\\item 'Esophagus\\_Gastroesophageal\\_Junction'\n",
       "\\item 'Stomach'\n",
       "\\item 'Colon\\_Sigmoid'\n",
       "\\item 'Small\\_Intestine\\_Terminal\\_Ileum'\n",
       "\\item 'Colon\\_Transverse'\n",
       "\\item 'Prostate'\n",
       "\\item 'Testis'\n",
       "\\item 'Skin\\_Sun\\_Exposed\\_Lower\\_leg'\n",
       "\\item 'Nerve\\_Tibial'\n",
       "\\item 'Heart\\_Left\\_Ventricle'\n",
       "\\item 'Pituitary'\n",
       "\\item 'Brain\\_Cerebellum'\n",
       "\\item 'Cells\\_Cultured\\_fibroblasts'\n",
       "\\item 'Artery\\_Aorta'\n",
       "\\item 'Cells\\_EBV-transformed\\_lymphocytes'\n",
       "\\item 'Brain\\_Cerebellar\\_Hemisphere'\n",
       "\\item 'Brain\\_Caudate\\_basal\\_ganglia'\n",
       "\\item 'Brain\\_Nucleus\\_accumbens\\_basal\\_ganglia'\n",
       "\\item 'Brain\\_Putamen\\_basal\\_ganglia'\n",
       "\\item 'Brain\\_Hypothalamus'\n",
       "\\item 'Brain\\_Spinal\\_cord\\_cervical\\_c-1'\n",
       "\\item 'Liver'\n",
       "\\item 'Brain\\_Hippocampus'\n",
       "\\item 'Brain\\_Anterior\\_cingulate\\_cortex\\_BA24'\n",
       "\\item 'Brain\\_Substantia\\_nigra'\n",
       "\\item 'Kidney\\_Cortex'\n",
       "\\item 'Brain\\_Amygdala'\n",
       "\\item 'Cervix\\_Ectocervix'\n",
       "\\item 'Fallopian\\_Tube'\n",
       "\\item 'Cervix\\_Endocervix'\n",
       "\\item 'Bladder'\n",
       "\\item 'Kidney\\_Medulla'\n",
       "\\item 'Cells\\_Leukemia\\_cell\\_line\\_CML'\n",
       "\\end{enumerate*}\n"
      ],
      "text/markdown": [
       "1. 'Whole_Blood'\n",
       "2. 'Brain_Frontal_Cortex_BA9'\n",
       "3. 'Adipose_Subcutaneous'\n",
       "4. 'Muscle_Skeletal'\n",
       "5. 'Artery_Tibial'\n",
       "6. 'Artery_Coronary'\n",
       "7. 'Heart_Atrial_Appendage'\n",
       "8. 'Adipose_Visceral_Omentum'\n",
       "9. 'Ovary'\n",
       "10. 'Uterus'\n",
       "11. 'Vagina'\n",
       "12. 'Breast_Mammary_Tissue'\n",
       "13. 'Skin_Not_Sun_Exposed_Suprapubic'\n",
       "14. 'Minor_Salivary_Gland'\n",
       "15. 'Brain_Cortex'\n",
       "16. 'Adrenal_Gland'\n",
       "17. 'Thyroid'\n",
       "18. 'Lung'\n",
       "19. 'Spleen'\n",
       "20. 'Pancreas'\n",
       "21. 'Esophagus_Muscularis'\n",
       "22. 'Esophagus_Mucosa'\n",
       "23. 'Esophagus_Gastroesophageal_Junction'\n",
       "24. 'Stomach'\n",
       "25. 'Colon_Sigmoid'\n",
       "26. 'Small_Intestine_Terminal_Ileum'\n",
       "27. 'Colon_Transverse'\n",
       "28. 'Prostate'\n",
       "29. 'Testis'\n",
       "30. 'Skin_Sun_Exposed_Lower_leg'\n",
       "31. 'Nerve_Tibial'\n",
       "32. 'Heart_Left_Ventricle'\n",
       "33. 'Pituitary'\n",
       "34. 'Brain_Cerebellum'\n",
       "35. 'Cells_Cultured_fibroblasts'\n",
       "36. 'Artery_Aorta'\n",
       "37. 'Cells_EBV-transformed_lymphocytes'\n",
       "38. 'Brain_Cerebellar_Hemisphere'\n",
       "39. 'Brain_Caudate_basal_ganglia'\n",
       "40. 'Brain_Nucleus_accumbens_basal_ganglia'\n",
       "41. 'Brain_Putamen_basal_ganglia'\n",
       "42. 'Brain_Hypothalamus'\n",
       "43. 'Brain_Spinal_cord_cervical_c-1'\n",
       "44. 'Liver'\n",
       "45. 'Brain_Hippocampus'\n",
       "46. 'Brain_Anterior_cingulate_cortex_BA24'\n",
       "47. 'Brain_Substantia_nigra'\n",
       "48. 'Kidney_Cortex'\n",
       "49. 'Brain_Amygdala'\n",
       "50. 'Cervix_Ectocervix'\n",
       "51. 'Fallopian_Tube'\n",
       "52. 'Cervix_Endocervix'\n",
       "53. 'Bladder'\n",
       "54. 'Kidney_Medulla'\n",
       "55. 'Cells_Leukemia_cell_line_CML'\n",
       "\n",
       "\n"
      ],
      "text/plain": [
       " [1] \"Whole_Blood\"                          \n",
       " [2] \"Brain_Frontal_Cortex_BA9\"             \n",
       " [3] \"Adipose_Subcutaneous\"                 \n",
       " [4] \"Muscle_Skeletal\"                      \n",
       " [5] \"Artery_Tibial\"                        \n",
       " [6] \"Artery_Coronary\"                      \n",
       " [7] \"Heart_Atrial_Appendage\"               \n",
       " [8] \"Adipose_Visceral_Omentum\"             \n",
       " [9] \"Ovary\"                                \n",
       "[10] \"Uterus\"                               \n",
       "[11] \"Vagina\"                               \n",
       "[12] \"Breast_Mammary_Tissue\"                \n",
       "[13] \"Skin_Not_Sun_Exposed_Suprapubic\"      \n",
       "[14] \"Minor_Salivary_Gland\"                 \n",
       "[15] \"Brain_Cortex\"                         \n",
       "[16] \"Adrenal_Gland\"                        \n",
       "[17] \"Thyroid\"                              \n",
       "[18] \"Lung\"                                 \n",
       "[19] \"Spleen\"                               \n",
       "[20] \"Pancreas\"                             \n",
       "[21] \"Esophagus_Muscularis\"                 \n",
       "[22] \"Esophagus_Mucosa\"                     \n",
       "[23] \"Esophagus_Gastroesophageal_Junction\"  \n",
       "[24] \"Stomach\"                              \n",
       "[25] \"Colon_Sigmoid\"                        \n",
       "[26] \"Small_Intestine_Terminal_Ileum\"       \n",
       "[27] \"Colon_Transverse\"                     \n",
       "[28] \"Prostate\"                             \n",
       "[29] \"Testis\"                               \n",
       "[30] \"Skin_Sun_Exposed_Lower_leg\"           \n",
       "[31] \"Nerve_Tibial\"                         \n",
       "[32] \"Heart_Left_Ventricle\"                 \n",
       "[33] \"Pituitary\"                            \n",
       "[34] \"Brain_Cerebellum\"                     \n",
       "[35] \"Cells_Cultured_fibroblasts\"           \n",
       "[36] \"Artery_Aorta\"                         \n",
       "[37] \"Cells_EBV-transformed_lymphocytes\"    \n",
       "[38] \"Brain_Cerebellar_Hemisphere\"          \n",
       "[39] \"Brain_Caudate_basal_ganglia\"          \n",
       "[40] \"Brain_Nucleus_accumbens_basal_ganglia\"\n",
       "[41] \"Brain_Putamen_basal_ganglia\"          \n",
       "[42] \"Brain_Hypothalamus\"                   \n",
       "[43] \"Brain_Spinal_cord_cervical_c-1\"       \n",
       "[44] \"Liver\"                                \n",
       "[45] \"Brain_Hippocampus\"                    \n",
       "[46] \"Brain_Anterior_cingulate_cortex_BA24\" \n",
       "[47] \"Brain_Substantia_nigra\"               \n",
       "[48] \"Kidney_Cortex\"                        \n",
       "[49] \"Brain_Amygdala\"                       \n",
       "[50] \"Cervix_Ectocervix\"                    \n",
       "[51] \"Fallopian_Tube\"                       \n",
       "[52] \"Cervix_Endocervix\"                    \n",
       "[53] \"Bladder\"                              \n",
       "[54] \"Kidney_Medulla\"                       \n",
       "[55] \"Cells_Leukemia_cell_line_CML\"         "
      ]
     },
     "metadata": {},
     "output_type": "display_data"
    }
   ],
   "source": [
    "tissue_vec_clean"
   ]
  },
  {
   "cell_type": "code",
   "execution_count": 131,
   "metadata": {},
   "outputs": [],
   "source": [
    "# extract the tissue-specific expression profile based on the tissue idx\n",
    "#tissue_vec <- names(idx_list)\n",
    "expression_list <- list()\n",
    "header <- colnames(expression_df)\n",
    "for (i in 1:length(tissue_vec)) {\n",
    "    target_idx <- header %in% idx_list[[tissue_vec[i]]] \n",
    "    #target_idx <- target_idx[which(target_idx == T)]\n",
    "    tissue <- tissue_vec_clean[i]\n",
    "    expression_list[[tissue]] <- as.data.frame(expression_df[, target_idx])\n",
    "    expression_list[[tissue]]$Name <- expression_df$Name\n",
    "    expression_list[[tissue]]$Description <- expression_df$Description\n",
    "    expression_list[[tissue]]$NameClean <- expression_df$NameClean\n",
    "}"
   ]
  },
  {
   "cell_type": "code",
   "execution_count": 136,
   "metadata": {},
   "outputs": [
    {
     "name": "stderr",
     "output_type": "stream",
     "text": [
      "Installing package into ‘/gpfs/ysm/home/zy92/R/x86_64-pc-linux-gnu-library/3.5’\n",
      "(as ‘lib’ is unspecified)\n"
     ]
    }
   ],
   "source": [
    "install.packages(\"formattable\")"
   ]
  },
  {
   "cell_type": "code",
   "execution_count": 139,
   "metadata": {},
   "outputs": [
    {
     "data": {
      "text/html": [
       "<table>\n",
       "<caption>A formattable: 6 × 758</caption>\n",
       "<thead>\n",
       "\t<tr><th scope=col>GTEX-111YS-0006-SM-5NQBE</th><th scope=col>GTEX-1122O-0005-SM-5O99J</th><th scope=col>GTEX-1128S-0005-SM-5P9HI</th><th scope=col>GTEX-113IC-0006-SM-5NQ9C</th><th scope=col>GTEX-113JC-0006-SM-5O997</th><th scope=col>GTEX-117XS-0005-SM-5PNU6</th><th scope=col>GTEX-117YW-0005-SM-5NQ8Z</th><th scope=col>GTEX-1192W-0005-SM-5NQBQ</th><th scope=col>GTEX-1192X-0005-SM-5NQC3</th><th scope=col>GTEX-11DXW-0006-SM-5NQ7Y</th><th scope=col>⋯</th><th scope=col>GTEX-ZVT3-0006-SM-51MT9</th><th scope=col>GTEX-ZVT4-0006-SM-57WB8</th><th scope=col>GTEX-ZVTK-0006-SM-57WBK</th><th scope=col>GTEX-ZVZP-0006-SM-51MSW</th><th scope=col>GTEX-ZVZQ-0006-SM-51MR8</th><th scope=col>GTEX-ZXES-0005-SM-57WCB</th><th scope=col>GTEX-ZXG5-0005-SM-57WCN</th><th scope=col>Name</th><th scope=col>Description</th><th scope=col>NameClean</th></tr>\n",
       "\t<tr><th scope=col>&lt;dbl&gt;</th><th scope=col>&lt;dbl&gt;</th><th scope=col>&lt;dbl&gt;</th><th scope=col>&lt;dbl&gt;</th><th scope=col>&lt;dbl&gt;</th><th scope=col>&lt;dbl&gt;</th><th scope=col>&lt;dbl&gt;</th><th scope=col>&lt;dbl&gt;</th><th scope=col>&lt;dbl&gt;</th><th scope=col>&lt;dbl&gt;</th><th scope=col>⋯</th><th scope=col>&lt;dbl&gt;</th><th scope=col>&lt;dbl&gt;</th><th scope=col>&lt;dbl&gt;</th><th scope=col>&lt;dbl&gt;</th><th scope=col>&lt;dbl&gt;</th><th scope=col>&lt;dbl&gt;</th><th scope=col>&lt;dbl&gt;</th><th scope=col>&lt;chr&gt;</th><th scope=col>&lt;chr&gt;</th><th scope=col>&lt;chr&gt;</th></tr>\n",
       "</thead>\n",
       "<tbody>\n",
       "\t<tr><td>0.02171</td><td>0.03015</td><td>0.0203</td><td> 0.1675</td><td>0.02104</td><td>0.02537</td><td>0.02492</td><td>0.06809</td><td>0.0000</td><td>0.02443</td><td>⋯</td><td>0.000</td><td>0.04858</td><td>0.11450</td><td>0.02417</td><td>0.000</td><td>0.02128</td><td>0.00000</td><td>ENSG00000223972.5</td><td>DDX11L1    </td><td>ENSG00000223972</td></tr>\n",
       "\t<tr><td>1.55500</td><td>2.74700</td><td>4.4410</td><td>10.4700</td><td>1.28700</td><td>3.13800</td><td>4.21700</td><td>2.09800</td><td>0.3579</td><td>4.26200</td><td>⋯</td><td>1.504</td><td>3.19400</td><td>2.90600</td><td>3.43000</td><td>4.169</td><td>2.74300</td><td>6.07200</td><td>ENSG00000227232.5</td><td>WASH7P     </td><td>ENSG00000227232</td></tr>\n",
       "\t<tr><td>0.00000</td><td>0.00000</td><td>0.0000</td><td> 0.0000</td><td>0.00000</td><td>0.00000</td><td>0.00000</td><td>0.00000</td><td>0.0000</td><td>0.62120</td><td>⋯</td><td>0.000</td><td>0.00000</td><td>0.00000</td><td>0.00000</td><td>0.000</td><td>0.00000</td><td>0.61120</td><td>ENSG00000278267.1</td><td>MIR6859-1  </td><td>ENSG00000278267</td></tr>\n",
       "\t<tr><td>0.00000</td><td>0.00000</td><td>0.0000</td><td> 0.0000</td><td>0.00000</td><td>0.00000</td><td>0.00000</td><td>0.04532</td><td>0.0000</td><td>0.00000</td><td>⋯</td><td>0.000</td><td>0.09698</td><td>0.11430</td><td>0.00000</td><td>0.000</td><td>0.00000</td><td>0.00000</td><td>ENSG00000243485.5</td><td>MIR1302-2HG</td><td>ENSG00000243485</td></tr>\n",
       "\t<tr><td>0.00000</td><td>0.00000</td><td>0.0576</td><td> 0.0000</td><td>0.00000</td><td>0.00000</td><td>0.00000</td><td>0.00000</td><td>0.0000</td><td>0.00000</td><td>⋯</td><td>0.000</td><td>0.00000</td><td>0.04058</td><td>0.00000</td><td>0.000</td><td>0.00000</td><td>0.00000</td><td>ENSG00000237613.2</td><td>FAM138A    </td><td>ENSG00000237613</td></tr>\n",
       "\t<tr><td>0.00000</td><td>0.12410</td><td>0.0000</td><td> 0.0000</td><td>0.00000</td><td>0.00000</td><td>0.05129</td><td>0.00000</td><td>0.0000</td><td>0.00000</td><td>⋯</td><td>0.000</td><td>0.00000</td><td>0.00000</td><td>0.04975</td><td>0.000</td><td>0.00000</td><td>0.04948</td><td>ENSG00000268020.3</td><td>OR4G4P     </td><td>ENSG00000268020</td></tr>\n",
       "</tbody>\n",
       "</table>\n"
      ],
      "text/latex": [
       "A formattable: 6 × 758\n",
       "\\begin{tabular}{r|llllllllllllllllllllllllllllllllllllllllllllllllllllllllllllllllllllllllllllllllllllllllllllllllllllllllllllllllllllllllllllllllllllllllllllllllllllllllllllllllllllllllllllllllllllllllllllllllllllllllllllllllllllllllllllllllllllllllllllllllllllllllllllllllllllllllllllllllllllllllllllllllllllllllllllllllllllllllllllllllllllllllllllllllllllllllllllllllllllllllllllllllllllllllllllllllllllllllllllllllllllllllllllllllllllllllllllllllllllllllllllllllllllllllllllllllllllllllllllllllllllllllllllllllllllllllllllllllllllllllllllllllllllllllllllllllllllllllllllllllllllllllllllllllllllllllllllllllllllllllllllllllllllllllllllllllllllllllllllllllllllllllllllllllllllllllllllllllllllllllllllllllllllllllllllllllllllllllllllllllllllllllllllllllllllllllllllllllllllll}\n",
       " GTEX-111YS-0006-SM-5NQBE & GTEX-1122O-0005-SM-5O99J & GTEX-1128S-0005-SM-5P9HI & GTEX-113IC-0006-SM-5NQ9C & GTEX-113JC-0006-SM-5O997 & GTEX-117XS-0005-SM-5PNU6 & GTEX-117YW-0005-SM-5NQ8Z & GTEX-1192W-0005-SM-5NQBQ & GTEX-1192X-0005-SM-5NQC3 & GTEX-11DXW-0006-SM-5NQ7Y & GTEX-11DXX-0005-SM-5NQ8B & GTEX-11DXY-0006-SM-5NQ8N & GTEX-11DXZ-0006-SM-5LZZH & GTEX-11DYG-0006-SM-5NQB2 & GTEX-11EI6-0005-SM-5N9GN & GTEX-11EM3-0005-SM-5N9DK & GTEX-11EMC-0006-SM-5O9DN & GTEX-11EQ8-0006-SM-5P9HJ & GTEX-11EQ9-0006-SM-5LUB6 & GTEX-11GS4-0006-SM-5SI9M & GTEX-11GSO-0005-SM-5O9CA & GTEX-11GSP-0006-SM-5N9EL & GTEX-11I78-0005-SM-5N9GB & GTEX-11LCK-0005-SM-5O98U & GTEX-11NUK-0005-SM-5MR5F & GTEX-11NV4-0005-SM-5N9EX & GTEX-11O72-0006-SM-5O9DB & GTEX-11OC5-0006-SM-5N9FA & GTEX-11OF3-0006-SM-5O9CM & GTEX-11ONC-0005-SM-5O9CY & GTEX-11P7K-0006-SM-5N9FM & GTEX-11P81-0006-SM-5NQ7A & GTEX-11P82-0006-SM-5N9FY & GTEX-11PRG-0005-SM-5NQ6X & GTEX-11TT1-0005-SM-5NQ8Y & GTEX-11TTK-0005-SM-5O9BX & GTEX-11TUW-0006-SM-5LZW2 & GTEX-11UD2-0005-SM-5NQ9B & GTEX-11VI4-0006-SM-5N9D8 & GTEX-11WQC-0006-SM-5LZVP & GTEX-11WQK-0005-SM-5O9AV & GTEX-11XUK-0005-SM-5LU9F & GTEX-11ZTS-0005-SM-5NQ8A & GTEX-11ZTT-0006-SM-5N9FX & GTEX-11ZU8-0005-SM-5PNU5 & GTEX-11ZUS-0006-SM-5O9AJ & GTEX-11ZVC-0006-SM-5N9GA & GTEX-1211K-0006-SM-5MR53 & GTEX-12126-0006-SM-5O9B8 & GTEX-1212Z-0006-SM-5NQ8M & GTEX-12584-0005-SM-5N9GM & GTEX-12696-0005-SM-5LZYS & GTEX-1269C-0005-SM-5N9CJ & GTEX-12BJ1-0006-SM-5SIB5 & GTEX-12C56-0006-SM-5N9E9 & GTEX-12KS4-0005-SM-5SI94 & GTEX-12WSC-0005-SM-5MR3H & GTEX-12WSD-0005-SM-5N9FZ & GTEX-12WSE-0005-SM-5NQAE & GTEX-12WSF-0005-SM-5NQAQ & GTEX-12WSG-0005-SM-5NQA2 & GTEX-12WSH-0005-SM-5NQ9P & GTEX-12WSI-0005-SM-5O99K & GTEX-12WSJ-0005-SM-5LU8S & GTEX-12WSK-0006-SM-5NQA1 & GTEX-12WSL-0005-SM-5NQAD & GTEX-12WSM-0005-SM-5NQB3 & GTEX-12WSN-0006-SM-5NQAP & GTEX-12ZZW-0005-SM-5O9BY & GTEX-12ZZX-0005-SM-5O9A9 & GTEX-13111-0005-SM-5NQ7Z & GTEX-13113-0006-SM-5NQ7X & GTEX-1313W-0006-SM-5O9B1 & GTEX-1314G-0005-SM-5NQ9O & GTEX-131XE-0006-SM-5P9F9 & GTEX-131XF-0006-SM-5P9HK & GTEX-131XG-0006-SM-5O9CE & GTEX-131XH-0006-SM-5O98V & GTEX-131XW-0006-SM-5O9AO & GTEX-131YS-0005-SM-5NQAS & GTEX-132AR-0006-SM-5NQ7N & GTEX-132NY-0005-SM-5O9AC & GTEX-132Q8-0006-SM-5NQA4 & GTEX-132QS-0005-SM-5LZXK & GTEX-1339X-0005-SM-5O9CQ & GTEX-1399R-0006-SM-5N9FR & GTEX-1399S-0006-SM-5NQ7U & GTEX-1399U-0005-SM-5NQ8K & GTEX-139D8-0006-SM-5LZX8 & GTEX-139T6-0006-SM-5LU92 & GTEX-139T8-0006-SM-5NQ6V & GTEX-139TS-0005-SM-5NQC1 & GTEX-139TT-0006-SM-5O9CG & GTEX-139TU-0006-SM-5LZVN & GTEX-139UW-0005-SM-5NQ8U & GTEX-13CF2-0006-SM-5O99L & GTEX-13CF3-0006-SM-5N9ED & GTEX-13CIG-0006-SM-5P9HF & GTEX-13CZU-0005-SM-5LU8K & GTEX-13FTW-0005-SM-5LZVZ & GTEX-13FTX-0005-SM-5N9F6 & GTEX-13FTY-0005-SM-5NQ78 & GTEX-13FTZ-0005-SM-5NQ9N & GTEX-13FXS-0006-SM-5O99X & GTEX-13G51-0005-SM-5N9EP & GTEX-13JUV-0006-SM-5NQ97 & GTEX-13O61-0005-SM-5O9AU & GTEX-13OVG-0005-SM-5P9HA & GTEX-13OVH-0005-SM-5P9HB & GTEX-13OVI-0001-SM-5O9BL & GTEX-13OVJ-0006-SM-5O98T & GTEX-13OVK-0006-SM-5O9B7 & GTEX-13OVL-0006-SM-5O996 & GTEX-13OW6-0005-SM-5NQ9Z & GTEX-13OW8-0005-SM-5NQAC & GTEX-13PL7-0005-SM-5N9ET & GTEX-13PLJ-0005-SM-5NQ99 & GTEX-13S7M-0005-SM-5NQ76 & GTEX-13S86-0005-SM-5NQ7I & GTEX-13SLX-0005-SM-CM2RF & GTEX-13U4I-0006-SM-5N9CI & GTEX-13VXT-0005-SM-5N9F3 & GTEX-13VXU-0006-SM-5N9FF & GTEX-13W3W-0005-SM-5SI9Y & GTEX-1477Z-0005-SM-5PNWD & GTEX-147F3-0005-SM-5N9FI & GTEX-147F4-0006-SM-5O99T & GTEX-147GR-0005-SM-5NQAO & GTEX-147JS-0006-SM-5NQ7K & GTEX-148VI-0006-SM-5O9A6 & GTEX-148VJ-0006-SM-5NQB1 & GTEX-1497J-0005-SM-5NQBD & GTEX-14A5H-0006-SM-5O9AI & GTEX-14A5I-0005-SM-5N9FU & GTEX-14A6H-0006-SM-5NQ7W & GTEX-14ABY-0005-SM-5O99U & GTEX-14AS3-0006-SM-5NQC2 & GTEX-14B4R-0006-SM-5O9A7 & GTEX-14BIL-0006-SM-5N9F2 & GTEX-14BIM-0006-SM-5O9AA & GTEX-14BIN-0005-SM-5N9FE & GTEX-14BMU-0006-SM-5MR3T & GTEX-14BMV-0005-SM-5NQ6Y & GTEX-14C38-0006-SM-5NQBF & GTEX-14C39-0005-SM-5NQBR & GTEX-14C5O-0005-SM-5P9ER & GTEX-14DAQ-0005-SM-5NQ7B & GTEX-14DAR-0006-SM-5N9GC & GTEX-14E1K-0006-SM-5N9DY & GTEX-14E6C-0005-SM-5O98N & GTEX-14E6D-0005-SM-5N9D7 & GTEX-14E6E-0006-SM-5MR5N & GTEX-14E7W-0006-SM-5N9GG & GTEX-14H4A-0006-SM-5N9E3 & GTEX-14ICK-0006-SM-5NQB5 & GTEX-14ICL-0006-SM-5SIAB & GTEX-14JFF-0005-SM-7P8RF & GTEX-14JG1-0006-SM-7SB6P & GTEX-14JG6-0005-SM-9JGFV & GTEX-14JIY-0005-SM-7MXVF & GTEX-14LLW-0006-SM-9QEGG & GTEX-14LZ3-0005-SM-7MXUG & GTEX-14PHW-0005-SM-9KNTK & GTEX-14PHY-0006-SM-7SB7I & GTEX-14PII-0005-SM-7RHFV & GTEX-14PJ2-0005-SM-9JGFU & GTEX-14PJ3-0005-SM-9JGFT & GTEX-14PJ4-0006-SM-7RHFY & GTEX-14PJ5-0005-SM-9MQLO & GTEX-14PJ6-0006-SM-7P8RE & GTEX-14PJM-0006-SM-9JGHA & GTEX-14PJN-0005-SM-9JGGF & GTEX-14PJO-0005-SM-9JGGY & GTEX-14PJP-0005-SM-7P8OM & GTEX-14PK6-0006-SM-7PC1L & GTEX-14PKU-0005-SM-9KNTL & GTEX-14PKV-0006-SM-9MQL3 & GTEX-14PN3-0006-SM-7SB6O & GTEX-14PN4-0005-SM-7PC21 & GTEX-14PQA-0006-SM-7PC2D & GTEX-14XAO-0006-SM-7RHFX & GTEX-15CHC-0006-SM-7P8RG & GTEX-15CHQ-0005-SM-7P8RH & GTEX-15CHR-0005-SM-9KNUS & GTEX-15D1Q-0006-SM-9KNTN & GTEX-15D79-0005-SM-7P8TS & GTEX-15DCD-0006-SM-7RHG4 & GTEX-15DCE-0005-SM-7SB7J & GTEX-15DYW-0006-SM-7RHFR & GTEX-15DZA-0005-SM-9JGFP & GTEX-15EO6-0005-SM-7PBZC & GTEX-15ETS-0005-SM-9KNTJ & GTEX-15EU6-0005-SM-7P8RJ & GTEX-15G19-0006-SM-9KNW6 & GTEX-15G1A-0006-SM-7PC1Z & GTEX-15RIE-0006-SM-7MKF8 & GTEX-15RIF-0005-SM-7RHGH & GTEX-15RIG-0006-SM-7PC1N & GTEX-15RJ7-0006-SM-7RHHM & GTEX-15RJE-0006-SM-7PC1J & GTEX-15SB6-0005-SM-7P8OO & GTEX-15SDE-0006-SM-7PC19 & GTEX-16AAH-0005-SM-7P8RD & GTEX-16BQI-0006-SM-7SB6K & GTEX-16MT8-0005-SM-7PBYO & GTEX-16MT9-0006-SM-7MXTU & GTEX-16MTA-0005-SM-7RHFT & GTEX-16NGA-0006-SM-9JGFQ & GTEX-16NPV-0005-SM-7PC2F & GTEX-16NPX-0005-SM-7MKGG & GTEX-16XZY-0006-SM-7SB99 & GTEX-16XZZ-0006-SM-7MKF5 & GTEX-16YQH-0006-SM-7P8OQ & GTEX-16Z82-0005-SM-7PBXZ & GTEX-178AV-0005-SM-9JGFM & GTEX-17EUY-0006-SM-7P8SB & GTEX-17EVP-0005-SM-7P8RC & GTEX-17EVQ-0006-SM-7MGWB & GTEX-17GQL-0005-SM-7MKF4 & GTEX-17HG3-0006-SM-7MKFE & GTEX-17HGU-0006-SM-7MXT8 & GTEX-17HHE-0005-SM-7P8OT & GTEX-17HHY-0006-SM-7MXT4 & GTEX-17HII-0005-SM-7MKF6 & GTEX-17JCI-0005-SM-7P8OL & GTEX-17KNJ-0005-SM-7PBYB & GTEX-17MFQ-0006-SM-7PBXP & GTEX-183FY-0005-SM-9KNTO & GTEX-183WM-0005-SM-9JGFW & GTEX-18465-0006-SM-7SB6R & GTEX-18A66-0005-SM-7SB6U & GTEX-18A67-0006-SM-7SB6T & GTEX-18A6Q-0005-SM-9KNVX & GTEX-18A7A-0006-SM-7PC1P & GTEX-18A7B-0005-SM-7PC1D & GTEX-18D9A-0005-SM-7SB7H & GTEX-18D9B-0005-SM-7PBYL & GTEX-18D9U-0006-SM-7SB6M & GTEX-18QFQ-0006-SM-7SB6X & GTEX-1A32A-0006-SM-7PC1Y & GTEX-1A3MV-0005-SM-7PC1O & GTEX-1A3MW-0006-SM-7MKGU & GTEX-1A3MX-0005-SM-7MGW7 & GTEX-1A8FM-0006-SM-7MGWI & GTEX-1A8G6-0006-SM-7PC1X & GTEX-1A8G7-0006-SM-7P8RM & GTEX-1AMEY-0005-SM-7PBYK & GTEX-1AMFI-0006-SM-9KNTQ & GTEX-1AX8Z-0006-SM-9KNVB & GTEX-1AX9I-0005-SM-9MQKI & GTEX-1AX9J-0005-SM-9MQKU & GTEX-1AX9K-0006-SM-9KNVP & GTEX-1AYCT-0005-SM-7SB6V & GTEX-1AYD5-0005-SM-7SB6L & GTEX-1B8KE-0006-SM-7SB6W & GTEX-1B8KZ-0006-SM-7MXTJ & GTEX-1B8L1-0005-SM-9MQK6 & GTEX-1B8SF-0005-SM-7MGVK & GTEX-1B8SG-0006-SM-7MKFA & GTEX-1B932-0005-SM-9KNTP & GTEX-1B933-0006-SM-7P8OP & GTEX-1B97I-0005-SM-7PC1M & GTEX-1B97J-0005-SM-7MXT5 & GTEX-1B996-0006-SM-7P8OS & GTEX-1BAJH-0005-SM-7PC1R & GTEX-1C2JI-0006-SM-7PC3Q & GTEX-1C475-0006-SM-9MQL7 & GTEX-1C4CL-0005-SM-7MKF3 & GTEX-1C64N-0005-SM-7PBY7 & GTEX-1C64O-0006-SM-7PC22 & GTEX-1C6VQ-0005-SM-7P8OR & GTEX-1C6VR-0005-SM-7MKF7 & GTEX-1C6VS-0005-SM-7MGWG & GTEX-1CAMR-0006-SM-ACKV5 & GTEX-1CAMS-0005-SM-ARL6Y & GTEX-1CB4E-0005-SM-ADEGS & GTEX-1CB4G-0006-SM-AHZ22 & GTEX-1CB4H-0006-SM-A96RE & GTEX-1CB4I-0006-SM-A96RF & GTEX-1CB4J-0006-SM-ACKV6 & GTEX-1E1VI-0005-SM-ARU6H & GTEX-1E2YA-0006-SM-AHZ23 & GTEX-1EH9U-0005-SM-ACKV3 & GTEX-1EKGG-0005-SM-AHZ1Z & GTEX-1EMGI-0006-SM-ACKVA & GTEX-1EN7A-0006-SM-AHZ4O & GTEX-1EU9M-0006-SM-ARU6I & GTEX-1EWIQ-0005-SM-ADEHB & GTEX-1EX96-0006-SM-ARU6J & GTEX-1F48J-0006-SM-ARL6W & GTEX-1F52S-0006-SM-ARL6X & GTEX-1F5PK-0005-SM-A96RM & GTEX-1F6I4-0005-SM-ARZKZ & GTEX-1F6IF-0005-SM-ARU6K & GTEX-1F75I-0005-SM-ADEHC & GTEX-1F75W-0005-SM-A9SMP & GTEX-1F7RK-0006-SM-ACKV4 & GTEX-1F88F-0005-SM-A9SK2 & GTEX-1GF9U-0005-SM-A9SK1 & GTEX-1GF9V-0006-SM-A96RD & GTEX-1GF9W-0006-SM-ARZL1 & GTEX-1GF9X-0005-SM-A9G3R & GTEX-1GMR2-0005-SM-ADEH3 & GTEX-1GMR3-0005-SM-ADEGR & GTEX-1GMR8-0005-SM-ARZL2 & GTEX-1GMRU-0006-SM-AHZ21 & GTEX-1GN1U-0006-SM-ARU6G & GTEX-1GN1V-0006-SM-ADEHD & GTEX-1GN1W-0006-SM-A9SKL & GTEX-1GN2E-0005-SM-ARU6L & GTEX-1GN73-0005-SM-ACKVI & GTEX-1GPI6-0005-SM-ADEGT & GTEX-1GPI7-0005-SM-A9G13 & GTEX-1GTWX-0006-SM-ARZL3 & GTEX-1GZ2Q-0005-SM-ARL71 & GTEX-1GZ4H-0005-SM-ARZL7 & GTEX-1GZHY-0005-SM-ARZL6 & GTEX-1H11D-0005-SM-ACKV7 & GTEX-1H1CY-0005-SM-A9G15 & GTEX-1H1DE-0005-SM-A9SK4 & GTEX-1H1DF-0005-SM-ADEGU & GTEX-1H1DG-0006-SM-ARZL4 & GTEX-1H1E6-0005-SM-ARZL5 & GTEX-1H23P-0005-SM-A9G14 & GTEX-1H3NZ-0005-SM-A96RG & GTEX-1H3O1-0005-SM-ACKV8 & GTEX-1H4P4-0006-SM-AHZ24 & GTEX-1HB9E-0006-SM-ARU6M & GTEX-1HBPI-0005-SM-ARZLB & GTEX-1HBPM-0006-SM-A9SKK & GTEX-1HC8U-0005-SM-ADEGV & GTEX-1HCU6-0005-SM-AHZ28 & GTEX-1HCU7-0006-SM-A9G19 & GTEX-1HCU8-0005-SM-A96RL & GTEX-1HCU9-0005-SM-A9G1A & GTEX-1HCUA-0006-SM-ACKV9 & GTEX-1HCVE-0006-SM-ADEH2 & GTEX-1HFI6-0005-SM-A9SK6 & GTEX-1HFI7-0005-SM-ADEH1 & GTEX-1HKZK-0005-SM-ARL73 & GTEX-1HR98-0005-SM-A9SKM & GTEX-1HR9M-0005-SM-AHZ26 & GTEX-1HSGN-0006-SM-ACKVH & GTEX-1HSKV-0006-SM-ARZL9 & GTEX-1HSMO-0005-SM-ADEGW & GTEX-1HSMP-0006-SM-AHZ25 & GTEX-1HSMQ-0006-SM-ARU6N & GTEX-1HT8W-0006-SM-A9G17 & GTEX-1HUB1-0005-SM-ARL74 & GTEX-1I19N-0006-SM-A9G18 & GTEX-1I1CD-0005-SM-ADEGY & GTEX-1I1GP-0006-SM-A96RJ & GTEX-1I1GQ-0005-SM-ARU6O & GTEX-1I1GR-0006-SM-ARL75 & GTEX-1I1GS-0005-SM-DHXIW & GTEX-1I1GT-0005-SM-A9SK5 & GTEX-1I1GV-0005-SM-AHZ27 & GTEX-1I1HK-0005-SM-ARZL8 & GTEX-1I4MK-0006-SM-A96RI & GTEX-1I6K6-0006-SM-ARZLA & GTEX-1I6K7-0005-SM-ARL72 & GTEX-1ICG6-0006-SM-A96RH & GTEX-1ICLY-0005-SM-A9G16 & GTEX-1IDFM-0005-SM-ADEGX & GTEX-1IDJC-0005-SM-A9G1C & GTEX-1IDJD-0006-SM-ARZLC & GTEX-1IDJE-0006-SM-A9G1B & GTEX-1IDJF-0005-SM-ARU6P & GTEX-1IDJH-0006-SM-CMKFT & GTEX-1IDJI-0006-SM-CMKFJ & GTEX-1IDJU-0006-SM-CMKFK & GTEX-1IE54-0005-SM-CMKFQ & GTEX-1IGQW-0005-SM-CMKFR & GTEX-1IKJJ-0005-SM-CMKFS & GTEX-1IKK5-0006-SM-CMKFI & GTEX-1IKOE-0005-SM-CMKFL & GTEX-1IKOH-0006-SM-CMKFM & GTEX-1IL2U-0006-SM-CMKFP & GTEX-1IL2V-0006-SM-CMKFN & GTEX-1IOXB-0006-SM-CMKFO & GTEX-1IY9M-0005-SM-CNNOU & GTEX-1J8EW-0006-SM-CNNOW & GTEX-1J8JJ-0006-SM-CNNOX & GTEX-1J8Q2-0006-SM-CNNOZ & GTEX-1J8Q3-0005-SM-CNNOY & GTEX-1J8QM-0006-SM-CNNP1 & GTEX-1JJ6O-0005-SM-DHXJ4 & GTEX-1JJE9-0006-SM-CGQEB & GTEX-1JJEA-0006-SM-DHXJ2 & GTEX-1JK1U-0006-SM-DHXJ3 & GTEX-1JKYN-0006-SM-DHXJ5 & GTEX-1JKYR-0005-SM-DHXL5 & GTEX-1JMLX-0006-SM-DHXJ6 & GTEX-1JMOU-0006-SM-DHXJ7 & GTEX-1JMPY-0006-SM-DHXJ8 & GTEX-1JMPZ-0006-SM-DHXJ9 & GTEX-1JMQI-0005-SM-DHXJA & GTEX-1JMQJ-0006-SM-DHXJD & GTEX-1JMQK-0005-SM-CNPOE & GTEX-1JMQL-0006-SM-DHXJB & GTEX-1JN1M-0006-SM-DHXJE & GTEX-1JN6P-0005-SM-DIPEH & GTEX-1JN76-0005-SM-EAZ3B & GTEX-1K2DA-0005-SM-DIPE7 & GTEX-1K2DU-0005-SM-DIPE8 & GTEX-1K9T9-0006-SM-DIPE9 & GTEX-1KAFJ-0006-SM-9WPO1 & GTEX-1KANA-0006-SM-9YFLB & GTEX-1KANB-0006-SM-DIPE6 & GTEX-1KANC-0006-SM-9YFL8 & GTEX-1KD4Q-0006-SM-DIPEA & GTEX-1KD5A-0006-SM-DIPEB & GTEX-1KWVE-0005-SM-CYPSE & GTEX-1KXAM-0005-SM-DIPEC & GTEX-1L5NE-0005-SM-DIPEG & GTEX-1LB8K-0005-SM-DIPED & GTEX-1LBAC-0005-SM-DIPEE & GTEX-1LC47-0005-SM-COH2J & GTEX-1LG7Y-0005-SM-DKPQ7 & GTEX-1LG7Z-0005-SM-DKPQ6 & GTEX-1LGOU-0005-SM-DKPPW & GTEX-1LGRB-0006-SM-DKPPB & GTEX-1LH75-0006-SM-CXZIP & GTEX-1LKK1-0005-SM-CXZIT & GTEX-1LNCM-0005-SM-CXZIR & GTEX-1LSNL-0006-SM-CXZIV & GTEX-1LSNM-0005-SM-CXZIW & GTEX-1LSVX-0005-SM-DKPPI & GTEX-1LVA9-0006-SM-DKPPN & GTEX-1LVAM-0005-SM-CXZJ4 & GTEX-1LVAN-0005-SM-DKPPM & GTEX-1LVAO-0006-SM-CXZIU & GTEX-1M4P7-0005-SM-CXZIS & GTEX-1M5QR-0005-SM-DKPPP & GTEX-1MA7W-0006-SM-DKPPR & GTEX-1MA7X-0006-SM-CXZJ6 & GTEX-1MCC2-0006-SM-DKPPJ & GTEX-1MCQQ-0005-SM-DKPPV & GTEX-1MCYP-0005-SM-DKPPK & GTEX-1MGNQ-0005-SM-CXZJ1 & GTEX-1MJIX-0006-SM-DKPPU & GTEX-1MJK2-0006-SM-CXZIN & GTEX-1MJK3-0006-SM-DKPP9 & GTEX-1MUQO-0005-SM-DKPPT & GTEX-1N2DW-0006-SM-DKPP4 & GTEX-1N2EE-0005-SM-DKPP5 & GTEX-1N2EF-0005-SM-CXZIL & GTEX-1N5O9-0006-SM-DKPPS & GTEX-1NHNU-0005-SM-DKPP3 & GTEX-1NSGN-0005-SM-DKPPX & GTEX-1NUQO-0005-SM-DKPP2 & GTEX-1NV8Z-0005-SM-DKPQ3 & GTEX-1O97I-0005-SM-DKPPY & GTEX-1O9I2-0005-SM-DKPQ1 & GTEX-1OFPY-0005-SM-DKPPZ & GTEX-1OJC3-0006-SM-DKPP1 & GTEX-1OJC4-0005-SM-DKPQ4 & GTEX-1OKEX-0006-SM-DKPQ2 & GTEX-1P4AB-0005-SM-CY8GM & GTEX-1PBJI-0005-SM-CJI1Y & GTEX-1PBJJ-0005-SM-CKZND & GTEX-1PDJ9-0006-SM-CY8GN & GTEX-1PFEY-0005-SM-CY8GO & GTEX-1PIEJ-0005-SM-DLZQL & GTEX-1PIGE-0005-SM-DLZQM & GTEX-1PIIG-0006-SM-DLZQF & GTEX-1POEN-0005-SM-DLZQN & GTEX-1PPH6-0005-SM-DLZQP & GTEX-1PPH7-0005-SM-CKZNE & GTEX-1PPH8-0006-SM-CY8GS & GTEX-1PWST-0005-SM-DLZQC & GTEX-1QAET-0006-SM-DLZQQ & GTEX-1QCLY-0005-SM-DLZQS & GTEX-1QCLZ-0006-SM-CY8GW & GTEX-1QEPI-0006-SM-CY8GY & GTEX-1QMI2-0006-SM-CY8H1 & GTEX-1QP28-0006-SM-DLZQW & GTEX-1QP29-0005-SM-DLZQX & GTEX-1QP66-0005-SM-CY8H4 & GTEX-1QP67-0006-SM-CY8H5 & GTEX-1QP9N-0005-SM-CY8H9 & GTEX-1QPFJ-0006-SM-CY8HB & GTEX-1QW4Y-0005-SM-DO93W & GTEX-1R46S-0006-SM-DO93Y & GTEX-1R7EU-0006-SM-DO93C & GTEX-1R7EV-0005-SM-DO938 & GTEX-1R9JW-0002-SM-DO93B & GTEX-1R9K4-0006-SM-CYPRM & GTEX-1R9K5-0006-SM-DO939 & GTEX-1R9PM-0006-SM-CYPTI & GTEX-1R9PN-0006-SM-DTX7L & GTEX-1R9PO-0006-SM-DO937 & GTEX-1RAZA-0006-SM-CKZO9 & GTEX-1RAZQ-0005-SM-DO93U & GTEX-1RAZR-0006-SM-DLHBR & GTEX-1RAZS-0005-SM-DO93D & GTEX-1RB15-0005-SM-CL53N & GTEX-1RDX4-0005-SM-DLHBS & GTEX-1RLM8-0005-SM-DO121 & GTEX-1RMOY-0005-SM-DO11X & GTEX-1RNTQ-0006-SM-CYPRG & GTEX-1RQEC-0006-SM-CL542 & GTEX-1RQED-0005-SM-DO11Z & GTEX-1S3DN-0006-SM-DO127 & GTEX-1S5VW-0005-SM-CYPS4 & GTEX-1S5ZA-0005-SM-CYPS2 & GTEX-1S5ZU-0005-SM-CYPS3 & GTEX-1S82P-0005-SM-CM2RX & GTEX-1S82U-0005-SM-CYPRW & GTEX-1S82Y-0005-SM-DO123 & GTEX-1S82Z-0006-SM-DLHC5 & GTEX-1S831-0006-SM-DLHC1 & GTEX-1S83E-0006-SM-DLHBW & GTEX-N7MS-0007-SM-2D7W1 & GTEX-N7MT-0007-SM-3GACQ & GTEX-NFK9-0006-SM-3GACS & GTEX-NPJ7-0006-SM-3GACR & GTEX-NPJ8-0007-SM-2D7VX & GTEX-O5YT-0007-SM-32PK7 & GTEX-O5YW-0006-SM-3LK6E & GTEX-OHPK-0006-SM-2HMKH & GTEX-OHPL-0006-SM-3MJHB & GTEX-OHPM-0006-SM-2HMKU & GTEX-OHPN-0005-SM-2YUML & GTEX-OIZF-0006-SM-2I5GQ & GTEX-OIZH-0005-SM-2HMJN & GTEX-OIZI-0005-SM-2XCED & GTEX-OOBJ-0006-SM-2I3F4 & GTEX-OOBK-0005-SM-2YUMG & GTEX-OXRL-0005-SM-3LK6A & GTEX-OXRO-0006-SM-2I5EM & GTEX-OXRP-0006-SM-2I3FN & GTEX-P44G-0006-SM-2TC6A & GTEX-P44H-0006-SM-2XCFB & GTEX-P4PP-0005-SM-2HMKX & GTEX-P4PQ-0005-SM-2HMKJ & GTEX-P4QS-0005-SM-2I3EY & GTEX-P78B-0005-SM-2I5GM & GTEX-PLZ4-0006-SM-CYPR7 & GTEX-PLZ5-0006-SM-DIPE2 & GTEX-PLZ6-0006-SM-33HBZ & GTEX-POMQ-0006-SM-5SI7D & GTEX-POYW-0006-SM-2XCF4 & GTEX-PSDG-0005-SM-3GADC & GTEX-PVOW-0006-SM-3NMB8 & GTEX-PW2O-0006-SM-2I3DV & GTEX-PWCY-0005-SM-DHXL3 & GTEX-PWN1-0006-SM-CYPR2 & GTEX-PX3G-0006-SM-5SI7E & GTEX-Q2AG-0005-SM-5SI7F & GTEX-Q2AH-0005-SM-33HBR & GTEX-Q2AI-0006-SM-2I3FG & GTEX-Q734-0006-SM-2I3FJ & GTEX-QCQG-0006-SM-DIPE5 & GTEX-QDT8-0006-SM-CXZJC & GTEX-QDVJ-0005-SM-2TC5X & GTEX-QDVN-0006-SM-48U1R & GTEX-QEG4-0006-SM-2I5FY & GTEX-QEG5-0006-SM-2I5FZ & GTEX-QESD-0006-SM-2I5G6 & GTEX-QLQ7-0005-SM-2S1QP & GTEX-QLQW-0005-SM-2S1RA & GTEX-QMR6-0005-SM-32PKY & GTEX-QMRM-0005-SM-3NB2A & GTEX-QV31-0006-SM-793B5 & GTEX-QVJO-0006-SM-2S1RC & GTEX-QVUS-0006-SM-3GAE8 & GTEX-QXCU-0006-SM-2TC5K & GTEX-R3RS-0005-SM-3GAEH & GTEX-R45C-0006-SM-3GAD6 & GTEX-R53T-0005-SM-3GADK & GTEX-R55C-0005-SM-3GAE9 & GTEX-R55D-0006-SM-3GIJS & GTEX-R55E-0006-SM-2TC5G & GTEX-R55G-0006-SM-2TC6O & GTEX-REY6-0005-SM-2TF54 & GTEX-RM2N-0006-SM-2TF5H & GTEX-RN64-0005-SM-793B4 & GTEX-RNOR-0005-SM-2TF4Z & GTEX-RTLS-0006-SM-2TF58 & GTEX-RU1J-0006-SM-2TF6M & GTEX-RU72-0006-SM-2TF65 & GTEX-RUSQ-0006-SM-2TF6P & GTEX-RVPV-0006-SM-2TF6Q & GTEX-RWS6-0005-SM-2XCAN & GTEX-RWSA-0005-SM-2XCAO & GTEX-S32W-0006-SM-2XCAK & GTEX-S33H-0005-SM-2XCAL & GTEX-S341-0006-SM-3NM8D & GTEX-S7PM-0006-SM-3NM8C & GTEX-S7SE-0005-SM-2XCEA & GTEX-S95S-0005-SM-2XCEC & GTEX-SE5C-0006-SM-4BRW5 & GTEX-SIU8-0006-SM-2XCE5 & GTEX-SJXC-0005-SM-2XCE7 & GTEX-SN8G-0006-SM-32PLD & GTEX-SNMC-0006-SM-2XCFE & GTEX-SNOS-0006-SM-32PLH & GTEX-SSA3-0005-SM-32QOT & GTEX-SUCS-0006-SM-4DM59 & GTEX-T2YK-0005-SM-32QOV & GTEX-T5JC-0006-SM-EZ6L9 & GTEX-T5JW-0005-SM-3GADE & GTEX-T6MN-0005-SM-32PLJ & GTEX-T6MO-0006-SM-32QOU & GTEX-T8EM-0006-SM-3DB71 & GTEX-TKQ1-0006-SM-33HBI & GTEX-TKQ2-0006-SM-33HBH & GTEX-TML8-0005-SM-32QPA & GTEX-TMMY-0005-SM-33HBN & GTEX-TMZS-0006-SM-3DB8G & GTEX-TSE9-0005-SM-4DXUF & GTEX-U3ZG-0006-SM-47JWX & GTEX-U3ZH-0005-SM-3DB72 & GTEX-U3ZN-0006-SM-3DB7Y & GTEX-U4B1-0006-SM-3DB8E & GTEX-U8T8-0005-SM-3DB8F & GTEX-U8XE-0005-SM-3DB8I & GTEX-UJHI-0006-SM-3DB8H & GTEX-UJMC-0005-SM-3GACU & GTEX-UPJH-0006-SM-3GACW & GTEX-UPK5-0006-SM-3GAD8 & GTEX-UTHO-0006-SM-3NMCC & GTEX-V1D1-0006-SM-3NMCE & GTEX-V955-0005-SM-3P5ZC & GTEX-VJWN-0005-SM-3GIKF & GTEX-VJYA-0005-SM-3P5ZD & GTEX-VUSG-0006-SM-3GIK9 & GTEX-VUSH-0005-SM-3NB2H & GTEX-W5WG-0006-SM-3GIJT & GTEX-W5X1-0006-SM-3GIJZ & GTEX-WCDI-0005-SM-3NB2M & GTEX-WEY5-0006-SM-3GIKG & GTEX-WFG7-0005-SM-3GIKM & GTEX-WFG8-0006-SM-3GIKS & GTEX-WFJO-0005-SM-3GIKY & GTEX-WFON-0005-SM-3NMC9 & GTEX-WH7G-0005-SM-3NMBX & GTEX-WHPG-0006-SM-3NMBV & GTEX-WHSB-0005-SM-3LK7C & GTEX-WHSE-0006-SM-3NMBW & GTEX-WHWD-0005-SM-3LK7D & GTEX-WI4N-0005-SM-3LK7E & GTEX-WK11-0006-SM-3NB3J & GTEX-WL46-0006-SM-4OOS5 & GTEX-WOFL-0006-SM-3TW8K & GTEX-WOFM-0005-SM-3MJF3 & GTEX-WQUQ-0006-SM-3MJF4 & GTEX-WRHK-0005-SM-3MJF5 & GTEX-WRHU-0006-SM-3MJF6 & GTEX-WVLH-0006-SM-3MJF7 & GTEX-WWYW-0005-SM-3NB3K & GTEX-WXYG-0005-SM-3NB3M & GTEX-WY7C-0006-SM-3NB3L & GTEX-WYBS-0005-SM-4ONDR & GTEX-WYJK-0005-SM-3NMA1 & GTEX-WYVS-0006-SM-3NMA7 & GTEX-WZTO-0006-SM-3NM9T & GTEX-X15G-0005-SM-3NMDA & GTEX-X261-0005-SM-4PQYX & GTEX-X3Y1-0006-SM-3P5ZG & GTEX-X4EO-0006-SM-3P5ZF & GTEX-X4EP-0005-SM-3P5ZE & GTEX-X4LF-0006-SM-3NMCO & GTEX-X4XX-0005-SM-3NMCS & GTEX-X4XY-0006-SM-46MV2 & GTEX-X585-0005-SM-46MV3 & GTEX-X5EB-0006-SM-46MV5 & GTEX-X62O-0005-SM-46MV1 & GTEX-X638-0005-SM-47JX6 & GTEX-X88G-0006-SM-47JX5 & GTEX-X8HC-0006-SM-46MV6 & GTEX-XAJ8-0006-SM-46MVM & GTEX-XBEC-0006-SM-4AT5T & GTEX-XBED-0006-SM-47JXO & GTEX-XBEW-0006-SM-4AT4E & GTEX-XGQ4-0005-SM-4AT5U & GTEX-XK95-0005-SM-4AT4S & GTEX-XLM4-0005-SM-4AT4P & GTEX-XMD1-0006-SM-4AT4Q & GTEX-XMD2-0006-SM-4WWEG & GTEX-XMD3-0006-SM-4AT5X & GTEX-XMK1-0005-SM-4B665 & GTEX-XOT4-0005-SM-4B64S & GTEX-XPT6-0006-SM-4B66Q & GTEX-XPVG-0006-SM-4B65Z & GTEX-XQ3S-0006-SM-4BOQ4 & GTEX-XQ8I-0006-SM-4BOQ5 & GTEX-XUW1-0005-SM-4BOQ7 & GTEX-XUYS-0005-SM-47JZ2 & GTEX-XUZC-0005-SM-4BOQ8 & GTEX-XXEK-0005-SM-4BRWJ & GTEX-XYKS-0005-SM-4BRUD & GTEX-Y111-0006-SM-4SOIO & GTEX-Y114-0006-SM-4TT76 & GTEX-Y3I4-0006-SM-4TT1E & GTEX-Y3IK-0005-SM-4WWDE & GTEX-Y5LM-0005-SM-4V6EJ & GTEX-Y5V5-0006-SM-4V6FE & GTEX-Y5V6-0005-SM-4V6FD & GTEX-Y8DK-0005-SM-4RGNR & GTEX-Y8E4-0006-SM-4V6EW & GTEX-Y8E5-0006-SM-47JWQ & GTEX-Y8LW-0005-SM-4V6EV & GTEX-Y9LG-0006-SM-4VBRK & GTEX-YB5E-0005-SM-4VDSO & GTEX-YB5K-0005-SM-4VDSP & GTEX-YBZK-0005-SM-59HKG & GTEX-YEC3-0005-SM-4W21J & GTEX-YEC4-0001-SM-4W1Y6 & GTEX-YECK-0005-SM-4W217 & GTEX-YF7O-0005-SM-4W1ZU & GTEX-YFC4-0006-SM-4RGLV & GTEX-YFCO-0005-SM-4W1ZI & GTEX-Z93S-0005-SM-4RGLW & GTEX-ZAB4-0005-SM-4RGM8 & GTEX-ZC5H-0005-SM-4WAXM & GTEX-ZDTS-0006-SM-4WAYZ & GTEX-ZDTT-0006-SM-4WKFP & GTEX-ZDXO-0006-SM-4WKGF & GTEX-ZDYS-0002-SM-4WKGR & GTEX-ZE7O-0006-SM-51MTA & GTEX-ZE9C-0006-SM-4WKG2 & GTEX-ZEX8-0005-SM-4WKGE & GTEX-ZF28-0005-SM-4WKH3 & GTEX-ZF29-0006-SM-4WKGQ & GTEX-ZF2S-0006-SM-4WKHF & GTEX-ZF3C-0005-SM-4WWAR & GTEX-ZG7Y-0006-SM-4WWEA & GTEX-ZGAY-0006-SM-4WWAQ & GTEX-ZLV1-0005-SM-4WWAP & GTEX-ZP4G-0006-SM-4WWE6 & GTEX-ZPCL-0006-SM-4WWAS & GTEX-ZPIC-0005-SM-4WWEB & GTEX-ZPU1-0006-SM-4WWAT & GTEX-ZQG8-0005-SM-4YCEH & GTEX-ZQUD-0005-SM-4YCE5 & GTEX-ZT9W-0005-SM-4YCEG & GTEX-ZTPG-0006-SM-4YCFG & GTEX-ZTSS-0005-SM-4YCDR & GTEX-ZTTD-0006-SM-51MSJ & GTEX-ZTX8-0006-SM-4YCE4 & GTEX-ZUA1-0005-SM-4YCEV & GTEX-ZV68-0006-SM-4YCEJ & GTEX-ZV7C-0005-SM-57WDL & GTEX-ZVE2-0006-SM-51MRW & GTEX-ZVP2-0005-SM-51MRK & GTEX-ZVT2-0005-SM-57WBW & GTEX-ZVT3-0006-SM-51MT9 & GTEX-ZVT4-0006-SM-57WB8 & GTEX-ZVTK-0006-SM-57WBK & GTEX-ZVZP-0006-SM-51MSW & GTEX-ZVZQ-0006-SM-51MR8 & GTEX-ZXES-0005-SM-57WCB & GTEX-ZXG5-0005-SM-57WCN & Name & Description & NameClean\\\\\n",
       " <dbl> & <dbl> & <dbl> & <dbl> & <dbl> & <dbl> & <dbl> & <dbl> & <dbl> & <dbl> & <dbl> & <dbl> & <dbl> & <dbl> & <dbl> & <dbl> & <dbl> & <dbl> & <dbl> & <dbl> & <dbl> & <dbl> & <dbl> & <dbl> & <dbl> & <dbl> & <dbl> & <dbl> & <dbl> & <dbl> & <dbl> & <dbl> & <dbl> & <dbl> & <dbl> & <dbl> & <dbl> & <dbl> & <dbl> & <dbl> & <dbl> & <dbl> & <dbl> & <dbl> & <dbl> & <dbl> & <dbl> & <dbl> & <dbl> & <dbl> & <dbl> & <dbl> & <dbl> & <dbl> & <dbl> & <dbl> & <dbl> & <dbl> & <dbl> & <dbl> & <dbl> & <dbl> & <dbl> & <dbl> & <dbl> & <dbl> & <dbl> & <dbl> & <dbl> & <dbl> & <dbl> & <dbl> & <dbl> & <dbl> & <dbl> & <dbl> & <dbl> & <dbl> & <dbl> & <dbl> & <dbl> & <dbl> & <dbl> & <dbl> & <dbl> & <dbl> & <dbl> & <dbl> & <dbl> & <dbl> & <dbl> & <dbl> & <dbl> & <dbl> & <dbl> & <dbl> & <dbl> & <dbl> & <dbl> & <dbl> & <dbl> & <dbl> & <dbl> & <dbl> & <dbl> & <dbl> & <dbl> & <dbl> & <dbl> & <dbl> & <dbl> & <dbl> & <dbl> & <dbl> & <dbl> & <dbl> & <dbl> & <dbl> & <dbl> & <dbl> & <dbl> & <dbl> & <dbl> & <dbl> & <dbl> & <dbl> & <dbl> & <dbl> & <dbl> & <dbl> & <dbl> & <dbl> & <dbl> & <dbl> & <dbl> & <dbl> & <dbl> & <dbl> & <dbl> & <dbl> & <dbl> & <dbl> & <dbl> & <dbl> & <dbl> & <dbl> & <dbl> & <dbl> & <dbl> & <dbl> & <dbl> & <dbl> & <dbl> & <dbl> & <dbl> & <dbl> & <dbl> & <dbl> & <dbl> & <dbl> & <dbl> & <dbl> & <dbl> & <dbl> & <dbl> & <dbl> & <dbl> & <dbl> & <dbl> & <dbl> & <dbl> & <dbl> & <dbl> & <dbl> & <dbl> & <dbl> & <dbl> & <dbl> & <dbl> & <dbl> & <dbl> & <dbl> & <dbl> & <dbl> & <dbl> & <dbl> & <dbl> & <dbl> & <dbl> & <dbl> & <dbl> & <dbl> & <dbl> & <dbl> & <dbl> & <dbl> & <dbl> & <dbl> & <dbl> & <dbl> & <dbl> & <dbl> & <dbl> & <dbl> & <dbl> & <dbl> & <dbl> & <dbl> & <dbl> & <dbl> & <dbl> & <dbl> & <dbl> & <dbl> & <dbl> & <dbl> & <dbl> & <dbl> & <dbl> & <dbl> & <dbl> & <dbl> & <dbl> & <dbl> & <dbl> & <dbl> & <dbl> & <dbl> & <dbl> & <dbl> & <dbl> & <dbl> & <dbl> & <dbl> & <dbl> & <dbl> & <dbl> & <dbl> & <dbl> & <dbl> & <dbl> & <dbl> & <dbl> & <dbl> & <dbl> & <dbl> & <dbl> & <dbl> & <dbl> & <dbl> & <dbl> & <dbl> & <dbl> & <dbl> & <dbl> & <dbl> & <dbl> & <dbl> & <dbl> & <dbl> & <dbl> & <dbl> & <dbl> & <dbl> & <dbl> & <dbl> & <dbl> & <dbl> & <dbl> & <dbl> & <dbl> & <dbl> & <dbl> & <dbl> & <dbl> & <dbl> & <dbl> & <dbl> & <dbl> & <dbl> & <dbl> & <dbl> & <dbl> & <dbl> & <dbl> & <dbl> & <dbl> & <dbl> & <dbl> & <dbl> & <dbl> & <dbl> & <dbl> & <dbl> & <dbl> & <dbl> & <dbl> & <dbl> & <dbl> & <dbl> & <dbl> & <dbl> & <dbl> & <dbl> & <dbl> & <dbl> & <dbl> & <dbl> & <dbl> & <dbl> & <dbl> & <dbl> & <dbl> & <dbl> & <dbl> & <dbl> & <dbl> & <dbl> & <dbl> & <dbl> & <dbl> & <dbl> & <dbl> & <dbl> & <dbl> & <dbl> & <dbl> & <dbl> & <dbl> & <dbl> & <dbl> & <dbl> & <dbl> & <dbl> & <dbl> & <dbl> & <dbl> & <dbl> & <dbl> & <dbl> & <dbl> & <dbl> & <dbl> & <dbl> & <dbl> & <dbl> & <dbl> & <dbl> & <dbl> & <dbl> & <dbl> & <dbl> & <dbl> & <dbl> & <dbl> & <dbl> & <dbl> & <dbl> & <dbl> & <dbl> & <dbl> & <dbl> & <dbl> & <dbl> & <dbl> & <dbl> & <dbl> & <dbl> & <dbl> & <dbl> & <dbl> & <dbl> & <dbl> & <dbl> & <dbl> & <dbl> & <dbl> & <dbl> & <dbl> & <dbl> & <dbl> & <dbl> & <dbl> & <dbl> & <dbl> & <dbl> & <dbl> & <dbl> & <dbl> & <dbl> & <dbl> & <dbl> & <dbl> & <dbl> & <dbl> & <dbl> & <dbl> & <dbl> & <dbl> & <dbl> & <dbl> & <dbl> & <dbl> & <dbl> & <dbl> & <dbl> & <dbl> & <dbl> & <dbl> & <dbl> & <dbl> & <dbl> & <dbl> & <dbl> & <dbl> & <dbl> & <dbl> & <dbl> & <dbl> & <dbl> & <dbl> & <dbl> & <dbl> & <dbl> & <dbl> & <dbl> & <dbl> & <dbl> & <dbl> & <dbl> & <dbl> & <dbl> & <dbl> & <dbl> & <dbl> & <dbl> & <dbl> & <dbl> & <dbl> & <dbl> & <dbl> & <dbl> & <dbl> & <dbl> & <dbl> & <dbl> & <dbl> & <dbl> & <dbl> & <dbl> & <dbl> & <dbl> & <dbl> & <dbl> & <dbl> & <dbl> & <dbl> & <dbl> & <dbl> & <dbl> & <dbl> & <dbl> & <dbl> & <dbl> & <dbl> & <dbl> & <dbl> & <dbl> & <dbl> & <dbl> & <dbl> & <dbl> & <dbl> & <dbl> & <dbl> & <dbl> & <dbl> & <dbl> & <dbl> & <dbl> & <dbl> & <dbl> & <dbl> & <dbl> & <dbl> & <dbl> & <dbl> & <dbl> & <dbl> & <dbl> & <dbl> & <dbl> & <dbl> & <dbl> & <dbl> & <dbl> & <dbl> & <dbl> & <dbl> & <dbl> & <dbl> & <dbl> & <dbl> & <dbl> & <dbl> & <dbl> & <dbl> & <dbl> & <dbl> & <dbl> & <dbl> & <dbl> & <dbl> & <dbl> & <dbl> & <dbl> & <dbl> & <dbl> & <dbl> & <dbl> & <dbl> & <dbl> & <dbl> & <dbl> & <dbl> & <dbl> & <dbl> & <dbl> & <dbl> & <dbl> & <dbl> & <dbl> & <dbl> & <dbl> & <dbl> & <dbl> & <dbl> & <dbl> & <dbl> & <dbl> & <dbl> & <dbl> & <dbl> & <dbl> & <dbl> & <dbl> & <dbl> & <dbl> & <dbl> & <dbl> & <dbl> & <dbl> & <dbl> & <dbl> & <dbl> & <dbl> & <dbl> & <dbl> & <dbl> & <dbl> & <dbl> & <dbl> & <dbl> & <dbl> & <dbl> & <dbl> & <dbl> & <dbl> & <dbl> & <dbl> & <dbl> & <dbl> & <dbl> & <dbl> & <dbl> & <dbl> & <dbl> & <dbl> & <dbl> & <dbl> & <dbl> & <dbl> & <dbl> & <dbl> & <dbl> & <dbl> & <dbl> & <dbl> & <dbl> & <dbl> & <dbl> & <dbl> & <dbl> & <dbl> & <dbl> & <dbl> & <dbl> & <dbl> & <dbl> & <dbl> & <dbl> & <dbl> & <dbl> & <dbl> & <dbl> & <dbl> & <dbl> & <dbl> & <dbl> & <dbl> & <dbl> & <dbl> & <dbl> & <dbl> & <dbl> & <dbl> & <dbl> & <dbl> & <dbl> & <dbl> & <dbl> & <dbl> & <dbl> & <dbl> & <dbl> & <dbl> & <dbl> & <dbl> & <dbl> & <dbl> & <dbl> & <dbl> & <dbl> & <dbl> & <dbl> & <dbl> & <dbl> & <dbl> & <dbl> & <dbl> & <dbl> & <dbl> & <dbl> & <dbl> & <dbl> & <dbl> & <dbl> & <dbl> & <dbl> & <dbl> & <dbl> & <dbl> & <dbl> & <dbl> & <dbl> & <dbl> & <dbl> & <dbl> & <dbl> & <dbl> & <dbl> & <dbl> & <dbl> & <dbl> & <dbl> & <dbl> & <dbl> & <dbl> & <dbl> & <dbl> & <dbl> & <dbl> & <dbl> & <dbl> & <dbl> & <dbl> & <dbl> & <dbl> & <dbl> & <dbl> & <dbl> & <dbl> & <dbl> & <dbl> & <dbl> & <dbl> & <dbl> & <dbl> & <dbl> & <dbl> & <dbl> & <dbl> & <dbl> & <dbl> & <dbl> & <dbl> & <dbl> & <dbl> & <dbl> & <dbl> & <dbl> & <dbl> & <dbl> & <dbl> & <dbl> & <dbl> & <dbl> & <dbl> & <dbl> & <dbl> & <dbl> & <dbl> & <dbl> & <dbl> & <dbl> & <dbl> & <dbl> & <dbl> & <dbl> & <dbl> & <dbl> & <dbl> & <dbl> & <dbl> & <dbl> & <dbl> & <dbl> & <dbl> & <dbl> & <dbl> & <dbl> & <dbl> & <dbl> & <dbl> & <dbl> & <dbl> & <dbl> & <dbl> & <dbl> & <dbl> & <dbl> & <dbl> & <dbl> & <dbl> & <dbl> & <dbl> & <dbl> & <dbl> & <dbl> & <dbl> & <dbl> & <dbl> & <dbl> & <dbl> & <dbl> & <chr> & <chr> & <chr>\\\\\n",
       "\\hline\n",
       "\t 0.02171 & 0.03015 & 0.0203 &  0.1675 & 0.02104 & 0.02537 & 0.02492 & 0.06809 & 0.0000 & 0.02443 & 0.1421 & 0.02459 & 0.00000 & 0.02253 & 0.00000 & 0.02402 & 0.00 & 0.000 & 0.00000 & 0.08274 & 0.06885 & 0.09425 & 0.00 & 0.000 & 0.02277 &  0.02107 & 0.03083 & 0.04969 & 0.03952 & 0.000 & 0.00000 & 0.000 & 0.153 & 0.02166 & 0.01904 & 0.00000 & 0.00000 & 0.07101 & 0.000 & 0.11530 & 0.04383 & 0.000 & 0.0481 & 0.01778 & 0.0000 &  0.00000 & 0.01341 & 0.06711 &  0.00000 & 0.000 & 0.000 & 0.06217 & 0.000 & 0.02033 & 0.00000 & 0.0000 &  0.0 & 0.05783 & 0.000 & 0.07506 & 0.01878 & 0.14150 & 0.1793 & 0.000 & 0.000 & 0.04687 & 0.00000 & 0.00000 & 0.00000 & 0.00000 & 0.04362 & 0.0000 & 0.02633 & 0.00000 & 0.000 & 0.03249 & 0.000 & 0.000 & 0.1022 & 0.02316 & 0.02805 & 0.02545 & 0.01952 & 0.000 & 0.000 & 0.02111 & 0.02587 & 0.000 & 0.00000 & 0.00000 & 0.04212 & 0.165 & 0.00 & 0.000 & 0.00 & 0.02112 & 0.03223 & 0.000 & 0.0 & 0.000 & 0.01839 & 0.1382 & 0.00000 &  0.2739 & 0.05713 &  0.0000 & 0.000 & 0.02895 & 0.01382 & 0.000 & 0.00000 & 0.00 & 0.04709 & 0.00000 & 0.03854 & 0.09601 & 0.00000 & 0.000 & 0.04613 & 0.000 & 0.07256 & 0.00000 & 0.000 & 0.00000 & 0.000 & 0.0742 & 0.00000 & 0.06925 & 0.000 & 0.000 & 0.000 & 0.03033 & 0.04082 & 0.01947 & 0.00000 & 0.000 & 0.00000 &  0.00 & 0.01743 & 0.05167 & 0.00000 & 0.000 & 0.029 & 0.01999 & 0.00000 & 0.000 & 0.1248 & 0.01826 & 0.00000 & 0.00000 & 0.02743 & 0.000 & 0.04663 & 0.05956 & 0.00000 & 0.02849 & 0.04992 & 0.00000 & 0.02978 & 0.00000 & 0.000 & 0.05604 & 0.000 & 0.1161 & 0.01648 & 0.000 & 0.01354 & 0.03598 & 0.000 & 0.04419 & 0.02893 & 0.03586 & 0.000 & 0.00000 & 0.02632 & 0.1586 & 0.04074 & 0.02638 & 0.0000 & 0.02091 & 0.000 & 0.04095 & 0.02497 & 0.00000 & 0.05628 & 0.21280 & 0.02072 & 0.000 & 0.09728 & 0.05501 & 0.0000 & 0.07483 & 0.00000 & 0.00000 & 0.000 & 0.01844 & 0.00 & 0.00000 & 0.08037 & 0.03662 & 0.03164 &  0.00000 & 0.02429 & 0.000 & 0.00000 & 0.00000 & 0.01687 & 0.02835 & 0.02129 & 0.02484 & 0.07341 & 0.00000 & 0.000 & 0.07674 & 0.04126 & 0.09326 & 0.07814 & 0.00000 & 0.11910 & 0.00000 & 0.03947 & 0.0000 & 0.08158 & 0.00000 & 0.03828 & 0.07233 & 0.05194 & 0.000 & 0.000 & 0.02142 & 0.000 & 0.02127 & 0.00000 & 0.000 & 0.01639 & 0.000 & 0.000 &  0.00 & 0.000 & 0.000 & 0.02431 & 0.00000 & 0.02448 & 0.000 & 0.01588 & 0.00000 & 0.000 & 0.02035 & 0.000 & 0.00 & 0.06068 & 0.04313 & 0.000 &  0.05711 & 0.03228 & 0.0000 & 0.25500 & 0.03181 & 0.000 & 0.01733 & 0.0000 & 0.000 & 0.0000 & 0.06723 & 0.01834 & 0.00 & 0.02906 & 0.00000 & 0.02185 & 0.00000 & 0.01712 & 0.01979 & 0.04357 & 0.000 & 0.0000 & 0.000 & 0.0879 & 0.000 & 0.000 & 0.0000 & 0.02051 & 0.06650 & 0.04156 & 0.00000 & 0.05336 & 0.000 & 0.000 & 0.01881 & 0.05644 & 0.000 & 0.00 & 0.000 & 0.00000 & 0.02542 & 0.01729 & 0.00000 & 0.00000 & 0.00 & 0.02104 & 0.1038 & 0.0505 & 0.02725 & 0.00000 & 0.01986 & 0.000 & 0.01842 & 0.000 & 0.000 & 0.000 & 0.000 & 0.08747 & 0.01615 & 0.0000 & 0.05488 & 0.00000 & 0.00000 & 0.04658 & 0.02099 & 0.02083 & 0.04181 & 0.00000 & 0.02654 & 0.000 & 0.03388 & 0.100 & 0.000 & 0.0000 & 0.00000 & 0.000 & 0.01764 & 0.0000 & 0.1044 & 0.00000 & 0.000 & 0.02414 & 0.01947 & 0.05068 & 0.00000 & 0.105 & 0.03053 & 0.000 & 0.00000 & 0.000 & 0.000 & 0.01685 & 0.01981 & 0.000 & 0.00000 & 0.05796 & 0.000 & 0.0885 & 0.07342 & 0.04255 & 0.02706 & 0.0000 & 0.000 & 0.0512 & 0.2518 & 0.1031 & 0.000 & 0.000 & 0.000 & 0.02272 & 0.03244 & 0.02262 & 0.000 & 0.1679 & 0.00000 & 0.0000 & 0.000 & 0.3076 & 0.000 & 0.000 & 0.02694 & 0.0000 & 0.0294 & 0.000 & 0.01748 & 0.00 & 0.03189 & 0.03480 & 0.03748 & 0.01373 & 0.19030 & 0.000 & 0.03438 & 0.000 & 0.05187 & 0.03285 & 0.000 & 0.0000 & 0.05866 & 0.01309 & 0.09272 & 0.000 & 0.0000 & 0.0000 & 0.000 & 0.01764 & 0.000 & 0.01473 & 0.03764 & 0.06621 & 0.000 & 0.0000 & 0.000 & 0.02089 & 0.00000 &  0.0368 & 0.01461 & 0.0000 & 0.00000 & 0.000 & 0.000 & 0.000 & 0.000 & 0.2297 & 0.000 & 0.00000 & 0.000 & 0.000 & 0.06611 & 0.000 & 0.0000 & 0.00000 & 0.06213 & 0.0000 & 0.01227 & 0.01672 & 0.00000 & 0.02836 & 0.0000 & 0.000 & 0.01272 & 0.00000 & 0.01134 & 0.01214 & 0.01422 & 0.000 & 0.06913 & 0.000 & 0.01230 & 0.08808 & 0.0233 & 0.000 & 0.000 & 0.000 & 0.000 & 0.000 & 0.01537 & 0.1069 & 0.0406 & 0.000 & 0.000 & 0.000 & 0.000 & 0.000 & 0.000 & 0.000 & 0.01889 & 0.05355 & 0.000 & 0.00000 & 0.00000 & 0.00000 & 0.00000 & 0.03359 & 0.05985 & 0.03790 & 0.000 & 0.02005 & 0.00000 & 0.000 & 0.00000 & 0.03593 & 0.03247 & 0.03814 & 0.05689 & 0.03584 & 0.02343 & 0.000 & 0.0000 & 0.00000 & 0.01706 & 0.07174 & 0.0000 & 0.000 & 0.08999 & 0.000 & 0.000 & 0.00 & 0.00000 & 0.00000 & 0.00000 & 0.01694 & 0.000 & 0.03065 & 0.0000 & 0.0000 & 0.03179 & 0.01901 & 0.00000 & 0.000 & 0.02123 & 0.02054 & 0.000 & 0.02131 & 0.04752 & 0.01656 & 0.000 & 0.0000 & 0.000 & 0.01292 & 0.06093 & 0.000 & 0.00000 & 0.00000 & 0.000 & 0.000 & 0.1764 & 0.08413 & 0.03852 & 0.00000 & 0.000 & 0.01806 & 0.08241 & 0.00000 & 0.1461 & 0.00000 & 0.11360 & 0.00000 & 0.00000 & 0.12830 & 0.00000 & 0.00000 & 0.00000 & 0.00000 & 0.00000 & 0.000 & 0.00000 & 0.01357 & 0.00000 & 0.06259 & 0.00000 & 0.01884 & 0.00000 & 0.01556 & 0.000 & 0.00000 & 0.09108 & 0.11370 & 0.1490 & 0.000 & 0.02111 & 0.00 & 0.02653 & 0.00000 & 0.03922 & 0.03829 & 0.00000 & 0.03666 & 0.000 & 0.00000 & 0.00000 & 0.06881 & 0.05863 & 0.02076 & 0.000 & 0.00000 & 0.00000 & 0.000 & 0.000 & 0.000 & 0.00000 & 0.00000 & 0.12950 & 0.4063 &  0.00 & 0.000 & 0.1791 & 0.000 & 0.04114 & 0.0000 & 0.0000 & 0.20080 & 0.000 & 0.00000 & 0.00000 & 0.000 & 0.02498 & 0.00000 & 0.23920 & 0.000 & 0.00000 & 0.13600 & 0.00000 &  0.0000 & 0.02590 & 0.00000 & 0.00000 & 0.04245 & 0.00000 & 0.00000 & 0.13940 & 0.000 & 0.01753 & 0.00000 & 0.03661 &  0.00 & 0.01096 & 0.1163 & 0.2046 & 0.0190 & 0.08272 & 0.00000 & 0.000 & 0.00000 & 0.04499 & 0.000 & 0.22550 & 0.000 & 0.03465 & 0.0000 & 0.02491 & 0.01763 & 0.000 & 0.01830 & 0.2364 & 0.05973 & 0.000 &  0.00 &  0.00000 & 0.0000 & 0.00 & 0.02273 & 0.29790 & 0.03124 & 0.00000 & 0.000 & 0.00000 & 0.000 & 0.000 & 0.00000 & 0.05011 & 0.1001 & 0.000 & 0.000 & 0.00000 & 0.000 & 0.000 & 0.0797 & 0.00 & 0.03564 & 0.00000 & 0.08107 & 0.00000 & 0.0000 & 0.0000 & 0.03190 & 0.05007 & 0.04168 & 0.02720 & 0.000 & 0.00000 & 0.03770 & 0.000 &  0.00000 & 0.04592 & 0.00000 & 0.169 & 0.08937 & 0.02485 & 0.02703 & 0.07827 & 0.3167 & 0.000 & 0.00000 & 0.01913 & 0.03317 & 0.000 & 0.03900 &  0.02517 & 0.09194 & 0.02037 & 0.02008 & 0.000 & 0.00 & 0.00000 & 0.00000 &  0.02942 & 0.000 & 0.000 & 0.01837 & 0.000 & 0.0264 & 0.00000 & 0.04155 & 0.00000 & 0.1766 & 0.00000 & 0.000 & 0.000 & 0.000 & 0.01939 & 0.00000 & 0.000 & 0.00000 & 0.08604 & 0.000 & 0.000 & 0.00000 & 0.01343 & 0.00000 & 0.06545 & 0.00000 & 0.01647 & 0.00000 & 0.06955 & 0.00000 & 0.07885 & 0.00000 & 0.000 & 0.00000 & 0.00000 & 0.00000 & 0.03283 & 0.00000 & 0.0548 & 0.02213 & 0.04162 & 0.07333 & 0.00000 & 0.07734 & 0.03907 & 0.15540 & 0.00000 & 0.03489 & 0.06162 & 0.00000 & 0.04223 & 0.00000 & 0.00000 & 0.04127 & 0.00 & 0.000 & 0.0000 & 0.04841 & 0.00000 & 0.000 & 0.04858 & 0.11450 & 0.02417 & 0.000 & 0.02128 & 0.00000 & ENSG00000223972.5 & DDX11L1     & ENSG00000223972\\\\\n",
       "\t 1.55500 & 2.74700 & 4.4410 & 10.4700 & 1.28700 & 3.13800 & 4.21700 & 2.09800 & 0.3579 & 4.26200 & 2.5290 & 2.88200 & 4.80500 & 2.72800 & 4.01000 & 1.72000 & 2.51 & 1.886 & 1.35900 & 4.01300 & 1.18300 & 1.90200 & 1.66 & 3.249 & 1.18600 & 13.11000 & 5.33800 & 2.65200 & 2.62400 & 1.092 & 6.98700 & 1.886 & 3.275 & 2.22800 & 2.20600 & 1.33200 & 5.79100 & 2.74300 & 3.787 & 6.68200 & 4.87900 & 3.121 & 2.5360 & 1.57400 & 0.4965 & 10.10000 & 3.49100 & 1.60200 & 10.95000 & 2.088 & 2.621 & 3.76400 & 1.581 & 2.22300 & 1.65500 & 2.4300 & 12.4 & 9.23600 & 3.007 & 2.51600 & 1.34500 & 2.10000 & 0.5543 & 6.548 & 1.690 & 2.53200 & 1.90800 & 2.11300 & 0.86090 & 4.44900 & 3.46500 & 0.8687 & 2.74200 & 1.99100 & 3.092 & 4.18800 & 2.327 & 3.085 & 1.9620 & 8.02000 & 2.22700 & 4.80400 & 1.62700 & 2.292 & 1.086 & 5.02900 & 2.69500 & 1.078 & 4.65500 & 2.12900 & 2.41300 & 2.793 & 3.07 & 2.516 & 1.08 & 4.50900 & 0.37760 & 3.521 & 3.4 & 3.818 & 3.83000 & 1.8710 & 2.52200 & 13.1700 & 3.62000 & 11.2600 & 5.385 & 2.01700 & 3.04000 & 1.125 & 2.12000 & 1.53 & 1.30800 & 2.96900 & 1.30500 & 4.15000 & 2.99400 & 3.308 & 3.63400 & 4.175 & 2.61400 & 3.65600 & 2.011 & 2.29200 & 1.411 & 1.8840 & 2.51000 & 2.04400 & 2.251 & 1.630 & 2.451 & 5.45000 & 2.36500 & 1.79900 & 7.36200 & 3.806 & 4.44100 & 10.56 & 1.79200 & 7.46700 & 5.59700 & 3.298 & 3.360 & 1.53500 & 1.10400 & 1.411 & 4.5490 & 1.42600 & 6.63200 & 3.15400 & 7.28600 & 2.093 & 4.43100 & 2.79200 & 3.30000 & 5.34200 & 4.48400 & 1.39800 & 2.32700 & 0.50700 & 2.147 & 1.82400 & 2.089 & 4.1940 & 1.00800 & 4.704 & 2.76800 & 1.85000 & 2.572 & 2.01300 & 2.10900 & 3.94500 & 1.241 & 1.36500 & 1.86800 & 1.7300 & 3.50000 & 1.95800 & 0.6146 & 2.25900 & 1.908 & 2.07900 & 2.08100 & 3.03000 & 5.67900 & 3.22100 & 6.98600 & 2.337 & 3.74900 & 1.41400 & 0.6565 & 3.23900 & 1.28900 & 3.51300 & 2.228 & 1.32000 & 1.57 & 1.72300 & 3.99700 & 3.00400 & 1.29700 & 10.44000 & 0.44280 & 2.969 & 0.45070 & 3.47300 & 0.81270 & 2.01100 & 6.21000 & 5.36800 & 3.17800 & 0.35700 & 1.951 & 2.15800 & 1.93400 & 1.04400 & 1.76300 & 0.00000 & 1.98500 & 3.12400 & 1.61900 & 1.4500 & 1.69900 & 1.37400 & 1.09600 & 1.97700 & 2.95300 & 3.538 & 4.343 & 2.76000 & 1.714 & 4.62500 & 3.95700 & 2.167 & 0.78960 & 2.669 & 2.177 & 10.02 & 3.486 & 2.073 & 3.03800 & 0.69530 & 0.51000 & 1.186 & 3.92700 & 2.15800 & 3.764 & 2.17300 & 3.944 & 4.38 & 1.50100 & 2.86400 & 1.531 & 14.87000 & 2.94200 & 0.8234 & 2.51400 & 1.98800 & 2.389 & 3.92600 & 0.9817 & 1.555 & 0.7650 & 1.42200 & 2.91300 & 3.21 & 3.33000 & 0.98630 & 1.96300 & 5.53700 & 0.40120 & 1.26200 & 1.36200 & 1.637 & 0.8015 & 2.245 & 2.6320 & 4.578 & 5.238 & 0.9756 & 1.65600 & 1.84000 & 3.24700 & 1.78900 & 1.92200 & 3.451 & 3.222 & 1.37200 & 4.33600 & 3.527 & 2.27 & 5.378 & 1.36700 & 2.25100 & 1.62000 & 7.14900 & 1.86900 & 6.26 & 3.28800 & 4.5930 & 1.9390 & 1.27700 & 0.66950 & 2.63700 & 2.251 & 1.00700 & 1.979 & 3.944 & 2.367 & 3.108 & 2.30600 & 1.61900 & 3.1590 & 2.35800 & 1.71300 & 3.99900 & 2.30400 & 1.33900 & 2.54900 & 2.35900 & 2.57300 & 1.31300 & 3.102 & 1.19100 & 3.157 & 1.635 & 1.4950 & 2.03800 & 3.544 & 1.83700 & 6.7910 & 4.8680 & 2.10600 & 3.386 & 1.57200 & 2.15500 & 5.67500 & 4.15100 & 1.722 & 6.12200 & 2.692 & 1.10200 & 4.802 & 1.384 & 1.09700 & 3.35300 & 6.637 & 5.27100 & 2.11300 & 2.429 & 2.7190 & 2.64500 & 4.70900 & 2.43100 & 0.6028 & 2.128 & 3.2330 & 3.3250 & 2.2160 & 4.756 & 3.548 & 4.853 & 2.92800 & 2.19600 & 1.50200 & 2.627 & 3.0960 & 4.84400 & 6.4260 & 1.999 & 6.1310 & 2.458 & 2.371 & 2.01600 & 1.9360 & 5.4740 & 1.932 & 5.82700 & 3.43 & 2.11700 & 3.98700 & 4.90400 & 1.94900 & 1.59600 & 1.266 & 1.67900 & 0.597 & 0.69470 & 1.77500 & 3.735 & 2.1780 & 1.54700 & 1.26100 & 3.32000 & 4.586 & 0.9958 & 0.6772 & 1.274 & 1.95200 & 1.275 & 1.40000 & 4.70500 & 2.02600 & 4.056 & 0.7968 & 4.726 & 2.23100 & 1.95900 & 13.6800 & 4.22200 & 0.7458 & 2.24200 & 4.542 & 2.739 & 4.443 & 4.671 & 5.2350 & 1.494 & 1.40200 & 1.234 & 1.808 & 1.89400 & 3.135 & 0.6838 & 7.41300 & 3.90300 & 1.3680 & 1.55000 & 2.24200 & 2.03200 & 1.23700 & 4.7060 & 2.537 & 1.64000 & 2.11200 & 1.35800 & 3.21000 & 1.53700 & 1.384 & 4.01400 & 3.865 & 4.08300 & 3.05800 & 1.5320 & 1.691 & 2.633 & 5.043 & 5.586 & 1.552 & 3.44100 & 3.0830 & 2.5370 & 2.471 & 1.932 & 1.114 & 4.225 & 1.915 & 1.419 & 2.244 & 7.13100 & 4.02100 & 2.577 & 3.47500 & 5.64900 & 2.61300 & 3.38100 & 1.20300 & 2.72700 & 0.97040 & 6.779 & 0.41770 & 2.23400 & 5.837 & 4.55700 & 3.50800 & 1.60600 & 0.67030 & 5.77700 & 3.14900 & 3.96600 & 4.779 & 4.0140 & 2.90700 & 3.55300 & 1.45700 & 0.4506 & 3.063 & 0.60540 & 2.063 & 5.734 & 6.51 & 1.36000 & 0.84050 & 4.88600 & 4.03500 & 4.751 & 2.73400 & 4.9450 & 0.2363 & 1.01400 & 4.80300 & 0.86940 & 1.499 & 1.57500 & 1.63100 & 2.535 & 2.74700 & 2.04100 & 2.82500 & 1.874 & 2.0790 & 2.794 & 1.83300 & 2.38000 & 5.027 & 1.12100 & 8.48800 & 1.412 & 4.295 & 3.7900 & 1.42400 & 4.93900 & 0.99690 & 4.979 & 4.30300 & 1.39500 & 4.94500 & 5.1690 & 2.58100 & 2.12900 & 1.22400 & 1.28000 & 2.79900 & 3.58900 & 2.62000 & 1.80500 & 2.14400 & 1.61300 & 4.667 & 2.52600 & 4.20400 & 2.88100 & 2.20000 & 6.17000 & 3.23700 & 0.69110 & 3.12000 & 4.855 & 2.59900 & 2.13500 & 5.49800 & 0.6651 & 2.721 & 2.50100 & 8.59 & 3.52300 & 2.01800 & 2.83400 & 1.52100 & 0.85860 & 0.66810 & 3.209 & 0.13390 & 3.24700 & 3.71800 & 0.45800 & 4.81000 & 3.084 & 1.83100 & 1.37300 & 5.638 & 3.877 & 8.258 & 2.03400 & 0.97830 & 5.96700 & 0.9823 & 10.55 & 7.983 & 3.6140 & 6.748 & 0.74980 & 1.8660 & 0.8784 & 3.36200 & 3.403 & 0.42560 & 5.15900 & 1.949 & 3.51300 & 5.78000 & 1.82400 & 4.423 & 5.20300 & 4.25100 & 3.92400 & 11.1100 & 5.42900 & 5.69600 & 2.17200 & 5.47200 & 2.34200 & 4.13000 & 1.94500 & 3.107 & 4.42700 & 6.32600 & 9.23100 & 10.21 & 5.88100 & 3.8470 & 5.6320 & 0.7421 & 4.12000 & 1.72800 & 2.427 & 2.95600 & 7.79100 & 3.186 & 4.22000 & 5.576 & 1.98500 & 3.1040 & 4.02100 & 2.73100 & 2.997 & 4.50300 & 3.4620 & 7.88000 & 5.881 & 12.45 & 14.67000 & 1.8480 & 4.62 & 3.31400 & 4.10000 & 2.98900 & 2.20600 & 2.363 & 2.62500 & 1.535 & 1.856 & 2.12000 & 5.34900 & 6.1530 & 1.001 & 3.857 & 4.54200 & 5.477 & 6.592 & 2.7390 & 6.73 & 6.21800 & 2.94500 & 1.87900 & 2.10400 & 3.4660 & 2.0570 & 2.61600 & 2.31400 & 3.31000 & 6.90600 & 1.693 & 4.72500 & 2.82200 & 2.647 & 12.69000 & 2.57100 & 5.14900 & 9.930 & 7.35900 & 2.49200 & 4.54000 & 2.41200 & 4.8840 & 2.852 & 2.59900 & 1.07100 & 3.88700 & 4.158 & 2.48800 & 16.03000 & 5.68600 & 3.12900 & 1.59500 & 2.534 & 3.73 & 0.84930 & 4.28500 & 17.04000 & 3.027 & 2.448 & 2.89300 & 5.249 & 4.0220 & 2.18700 & 4.62500 & 6.48600 & 2.1260 & 1.88400 & 3.139 & 6.901 & 2.153 & 3.38300 & 2.74800 & 2.933 & 4.50600 & 1.73600 & 3.864 & 3.237 & 1.88000 & 1.29400 & 3.44900 & 2.36500 & 7.60200 & 3.02300 & 1.06100 & 5.47800 & 2.79700 & 6.64700 & 3.05600 & 5.447 & 4.83400 & 2.82500 & 3.84600 & 1.98800 & 2.87600 & 4.3880 & 2.53600 & 5.74300 & 4.36000 & 3.67400 & 2.11500 & 3.45900 & 5.20900 & 2.59900 & 5.83700 & 3.07500 & 2.03900 & 1.32000 & 1.02000 & 2.75100 & 2.39100 & 5.67 & 5.114 & 0.8979 & 3.06700 & 2.46400 & 1.504 & 3.19400 & 2.90600 & 3.43000 & 4.169 & 2.74300 & 6.07200 & ENSG00000227232.5 & WASH7P      & ENSG00000227232\\\\\n",
       "\t 0.00000 & 0.00000 & 0.0000 &  0.0000 & 0.00000 & 0.00000 & 0.00000 & 0.00000 & 0.0000 & 0.62120 & 0.0000 & 0.00000 & 0.00000 & 0.00000 & 0.00000 & 0.00000 & 0.00 & 0.000 & 0.00000 & 0.00000 & 0.00000 & 0.00000 & 0.00 & 0.000 & 0.00000 &  0.00000 & 0.00000 & 0.00000 & 0.00000 & 0.000 & 0.00000 & 0.000 & 0.000 & 0.00000 & 0.00000 & 0.00000 & 0.00000 & 0.00000 & 0.000 & 0.00000 & 0.00000 & 0.000 & 0.0000 & 0.00000 & 0.0000 &  0.00000 & 0.00000 & 0.00000 &  0.54120 & 0.000 & 0.000 & 0.00000 & 0.000 & 0.00000 & 0.00000 & 0.0000 &  0.0 & 0.00000 & 0.000 & 0.00000 & 0.00000 & 0.00000 & 0.0000 & 0.000 & 0.000 & 0.00000 & 0.00000 & 0.00000 & 0.00000 & 0.00000 & 0.00000 & 0.0000 & 0.00000 & 0.00000 & 0.000 & 0.00000 & 0.000 & 0.000 & 0.0000 & 0.00000 & 0.00000 & 0.00000 & 0.00000 & 0.000 & 0.000 & 0.00000 & 0.00000 & 0.000 & 0.00000 & 0.00000 & 0.00000 & 0.000 & 0.00 & 0.000 & 0.00 & 0.00000 & 0.00000 & 0.000 & 0.0 & 0.000 & 0.00000 & 0.0000 & 0.00000 &  0.0000 & 0.00000 &  0.0000 & 0.000 & 0.00000 & 0.00000 & 0.000 & 0.00000 & 0.00 & 0.00000 & 0.00000 & 0.00000 & 0.00000 & 0.00000 & 0.000 & 0.00000 & 0.000 & 0.00000 & 0.00000 & 0.000 & 0.00000 & 0.000 & 0.0000 & 0.00000 & 0.00000 & 0.000 & 0.000 & 0.000 & 0.00000 & 0.00000 & 0.00000 & 0.00000 & 0.000 & 0.00000 &  0.00 & 0.00000 & 0.00000 & 0.00000 & 0.000 & 0.000 & 0.00000 & 0.00000 & 0.000 & 0.0000 & 0.00000 & 0.00000 & 0.00000 & 0.00000 & 0.000 & 0.59280 & 0.00000 & 0.00000 & 0.00000 & 0.00000 & 0.00000 & 0.00000 & 0.00000 & 0.000 & 0.00000 & 0.000 & 0.0000 & 0.00000 & 0.000 & 0.00000 & 0.00000 & 0.000 & 0.00000 & 0.00000 & 0.00000 & 0.000 & 0.00000 & 0.00000 & 0.0000 & 0.00000 & 0.00000 & 0.0000 & 0.00000 & 0.000 & 0.00000 & 0.00000 & 0.00000 & 0.00000 & 0.00000 & 0.00000 & 0.000 & 0.00000 & 0.00000 & 0.0000 & 0.00000 & 0.00000 & 0.00000 & 0.000 & 0.00000 & 0.00 & 0.00000 & 0.00000 & 0.00000 & 0.00000 &  0.00000 & 0.00000 & 0.000 & 0.00000 & 0.00000 & 0.00000 & 0.00000 & 0.00000 & 0.00000 & 0.00000 & 0.00000 & 0.000 & 0.00000 & 0.00000 & 0.00000 & 0.00000 & 0.00000 & 0.00000 & 0.00000 & 0.00000 & 0.0000 & 0.69140 & 0.00000 & 0.00000 & 0.00000 & 0.00000 & 0.470 & 0.000 & 0.00000 & 0.000 & 0.00000 & 0.00000 & 0.000 & 0.00000 & 0.000 & 0.000 &  0.00 & 0.000 & 0.000 & 0.00000 & 0.00000 & 0.00000 & 0.000 & 0.00000 & 0.00000 & 0.000 & 0.00000 & 0.000 & 0.00 & 0.00000 & 0.00000 & 0.000 &  0.00000 & 0.00000 & 0.0000 & 0.00000 & 0.00000 & 0.000 & 0.00000 & 0.0000 & 0.000 & 0.0000 & 0.00000 & 0.00000 & 0.00 & 0.00000 & 0.00000 & 0.00000 & 0.00000 & 0.00000 & 0.00000 & 0.00000 & 0.000 & 0.0000 & 0.000 & 0.0000 & 0.000 & 0.000 & 0.0000 & 0.00000 & 0.00000 & 0.00000 & 0.00000 & 0.00000 & 0.000 & 0.000 & 0.00000 & 0.00000 & 0.000 & 0.00 & 0.000 & 0.00000 & 0.00000 & 0.00000 & 0.00000 & 0.00000 & 0.00 & 0.00000 & 0.0000 & 0.0000 & 0.00000 & 0.00000 & 0.00000 & 0.000 & 0.00000 & 0.000 & 0.000 & 0.000 & 0.000 & 0.00000 & 0.00000 & 0.0000 & 0.00000 & 0.00000 & 0.00000 & 0.00000 & 0.00000 & 0.00000 & 0.00000 & 0.00000 & 0.00000 & 0.000 & 0.00000 & 0.000 & 0.000 & 0.0000 & 0.00000 & 0.000 & 0.00000 & 0.0000 & 0.0000 & 0.00000 & 0.000 & 0.00000 & 0.00000 & 0.00000 & 0.00000 & 0.000 & 0.00000 & 0.000 & 0.00000 & 0.000 & 0.000 & 0.00000 & 0.00000 & 0.000 & 0.00000 & 0.00000 & 0.000 & 0.0000 & 0.00000 & 0.00000 & 0.00000 & 0.0000 & 0.000 & 0.0000 & 0.0000 & 0.0000 & 0.000 & 0.000 & 0.000 & 0.57770 & 0.00000 & 0.00000 & 0.000 & 0.0000 & 0.00000 & 0.3910 & 0.000 & 0.0000 & 0.000 & 0.000 & 0.00000 & 0.2953 & 0.0000 & 0.000 & 0.00000 & 0.00 & 0.00000 & 0.00000 & 0.00000 & 0.00000 & 0.00000 & 0.000 & 0.00000 & 0.000 & 0.00000 & 0.00000 & 0.000 & 0.4169 & 0.00000 & 0.00000 & 0.00000 & 0.000 & 0.0000 & 0.0000 & 0.000 & 0.00000 & 0.000 & 0.00000 & 0.00000 & 0.00000 & 0.000 & 0.0000 & 0.000 & 0.00000 & 0.00000 &  0.0000 & 0.00000 & 0.0000 & 0.35890 & 0.000 & 0.000 & 0.000 & 0.000 & 0.0000 & 0.000 & 0.00000 & 0.000 & 0.000 & 0.00000 & 0.000 & 0.0000 & 0.00000 & 0.00000 & 0.3563 & 0.00000 & 0.00000 & 0.00000 & 0.00000 & 0.0000 & 0.000 & 0.00000 & 0.00000 & 0.00000 & 0.00000 & 0.00000 & 0.000 & 0.00000 & 0.000 & 0.00000 & 0.00000 & 0.0000 & 0.000 & 0.000 & 0.000 & 0.000 & 0.000 & 0.00000 & 0.0000 & 0.0000 & 0.000 & 0.000 & 0.000 & 0.000 & 0.000 & 0.000 & 0.000 & 0.00000 & 0.00000 & 0.000 & 0.00000 & 0.00000 & 0.00000 & 0.00000 & 0.00000 & 0.00000 & 0.00000 & 0.000 & 0.00000 & 0.00000 & 0.000 & 0.00000 & 0.00000 & 0.00000 & 0.00000 & 0.00000 & 0.00000 & 0.00000 & 0.000 & 0.4429 & 0.00000 & 0.00000 & 0.00000 & 0.0000 & 0.000 & 0.00000 & 0.000 & 0.000 & 0.00 & 0.00000 & 0.00000 & 0.00000 & 0.00000 & 0.000 & 0.00000 & 0.0000 & 0.0000 & 0.00000 & 0.00000 & 0.00000 & 0.000 & 0.00000 & 0.00000 & 0.000 & 0.00000 & 0.00000 & 0.00000 & 0.000 & 0.4563 & 0.000 & 0.00000 & 0.00000 & 0.000 & 0.00000 & 0.00000 & 0.000 & 2.750 & 0.0000 & 0.00000 & 0.00000 & 0.00000 & 0.000 & 0.00000 & 0.00000 & 0.00000 & 0.0000 & 0.00000 & 0.00000 & 0.00000 & 0.00000 & 0.81580 & 0.00000 & 0.00000 & 0.00000 & 0.00000 & 0.00000 & 0.000 & 0.00000 & 0.00000 & 0.00000 & 0.00000 & 0.00000 & 0.00000 & 0.00000 & 0.00000 & 0.000 & 0.00000 & 0.00000 & 0.00000 & 0.0000 & 0.000 & 0.00000 & 0.00 & 0.00000 & 0.00000 & 0.00000 & 0.00000 & 0.00000 & 0.00000 & 0.000 & 0.00000 & 0.00000 & 0.00000 & 0.00000 & 0.00000 & 0.000 & 0.00000 & 0.00000 & 0.000 & 0.000 & 0.000 & 0.00000 & 0.00000 & 0.00000 & 0.0000 &  0.00 & 0.000 & 0.0000 & 0.000 & 0.00000 & 0.0000 & 0.0000 & 0.00000 & 0.000 & 0.00000 & 0.00000 & 0.000 & 0.63530 & 0.00000 & 0.00000 & 0.000 & 0.00000 & 0.00000 & 0.00000 &  0.0000 & 0.65860 & 0.00000 & 0.00000 & 0.00000 & 0.00000 & 0.00000 & 0.00000 & 0.000 & 0.00000 & 0.00000 & 0.00000 &  0.00 & 0.00000 & 0.0000 & 0.0000 & 0.0000 & 0.00000 & 0.00000 & 0.000 & 0.00000 & 0.00000 & 0.000 & 0.00000 & 0.000 & 0.00000 & 0.0000 & 0.00000 & 0.00000 & 0.000 & 0.00000 & 0.0000 & 0.00000 & 0.000 &  0.00 &  0.00000 & 0.0000 & 0.00 & 0.00000 & 0.00000 & 0.00000 & 0.00000 & 0.000 & 0.00000 & 0.000 & 0.000 & 0.00000 & 0.00000 & 0.0000 & 0.000 & 0.000 & 0.00000 & 0.000 & 0.000 & 0.0000 & 0.00 & 0.00000 & 0.00000 & 0.00000 & 0.00000 & 0.3935 & 0.0000 & 0.00000 & 0.00000 & 0.00000 & 0.00000 & 0.000 & 0.00000 & 0.00000 & 0.000 &  0.00000 & 0.00000 & 0.00000 & 0.000 & 0.00000 & 0.00000 & 0.00000 & 0.00000 & 0.0000 & 0.000 & 0.00000 & 0.00000 & 0.00000 & 0.000 & 0.00000 &  0.00000 & 0.00000 & 0.00000 & 0.00000 & 0.000 & 0.00 & 0.00000 & 0.00000 &  0.00000 & 0.000 & 0.000 & 0.00000 & 0.000 & 0.0000 & 0.00000 & 0.00000 & 0.00000 & 0.0000 & 0.00000 & 0.000 & 0.000 & 0.000 & 0.00000 & 0.00000 & 0.000 & 0.00000 & 0.00000 & 0.000 & 0.000 & 0.00000 & 0.00000 & 0.00000 & 0.00000 & 0.00000 & 0.00000 & 0.00000 & 0.00000 & 0.00000 & 0.00000 & 0.00000 & 0.000 & 0.00000 & 0.46750 & 0.00000 & 0.00000 & 0.00000 & 0.0000 & 0.00000 & 0.00000 & 0.00000 & 0.00000 & 0.65550 & 0.00000 & 0.49390 & 0.00000 & 0.00000 & 0.00000 & 0.00000 & 0.00000 & 0.00000 & 0.00000 & 0.00000 & 0.00 & 0.000 & 0.0000 & 0.00000 & 0.65930 & 0.000 & 0.00000 & 0.00000 & 0.00000 & 0.000 & 0.00000 & 0.61120 & ENSG00000278267.1 & MIR6859-1   & ENSG00000278267\\\\\n",
       "\t 0.00000 & 0.00000 & 0.0000 &  0.0000 & 0.00000 & 0.00000 & 0.00000 & 0.04532 & 0.0000 & 0.00000 & 0.0000 & 0.00000 & 0.04187 & 0.00000 & 0.00000 & 0.00000 & 0.00 & 0.000 & 0.00000 & 0.00000 & 0.00000 & 0.00000 & 0.00 & 0.000 & 0.00000 &  0.00000 & 0.00000 & 0.00000 & 0.00000 & 0.027 & 0.00000 & 0.000 & 0.000 & 0.00000 & 0.03801 & 0.02461 & 0.05843 & 0.00000 & 0.000 & 0.05757 & 0.00000 & 0.000 & 0.0000 & 0.00000 & 0.0000 &  0.00000 & 0.00000 & 0.00000 &  0.00000 & 0.000 & 0.000 & 0.00000 & 0.000 & 0.04058 & 0.02788 & 0.0000 &  0.0 & 0.00000 & 0.000 & 0.00000 & 0.00000 & 0.00000 & 0.0000 & 0.000 & 0.036 & 0.00000 & 0.00000 & 0.05064 & 0.00000 & 0.08861 & 0.00000 & 0.0000 & 0.00000 & 0.00000 & 0.000 & 0.00000 & 0.000 & 0.000 & 0.0000 & 0.00000 & 0.00000 & 0.00000 & 0.00000 & 0.000 & 0.000 & 0.00000 & 0.00000 & 0.000 & 0.00000 & 0.05533 & 0.00000 & 0.000 & 0.00 & 0.000 & 0.00 & 0.00000 & 0.00000 & 0.000 & 0.0 & 0.000 & 0.00000 & 0.0000 & 0.00000 &  0.0000 & 0.00000 &  0.0000 & 0.000 & 0.00000 & 0.00000 & 0.000 & 0.00000 & 0.00 & 0.00000 & 0.04178 & 0.07695 & 0.00000 & 0.00000 & 0.000 & 0.00000 & 0.000 & 0.00000 & 0.03893 & 0.000 & 0.00000 & 0.000 & 0.0000 & 0.00000 & 0.00000 & 0.000 & 0.000 & 0.000 & 0.06056 & 0.04075 & 0.07773 & 0.00000 & 0.000 & 0.00000 &  0.00 & 0.00000 & 0.00000 & 0.00000 & 0.000 & 0.000 & 0.00000 & 0.00000 & 0.000 & 0.0000 & 0.00000 & 0.00000 & 0.05972 & 0.00000 & 0.000 & 0.00000 & 0.00000 & 0.00000 & 0.00000 & 0.09966 & 0.00000 & 0.05946 & 0.00000 & 0.000 & 0.00000 & 0.000 & 0.0000 & 0.00000 & 0.000 & 0.00000 & 0.07184 & 0.000 & 0.08822 & 0.00000 & 0.00000 & 0.000 & 0.00000 & 0.02628 & 0.0000 & 0.00000 & 0.00000 & 0.0000 & 0.04174 & 0.000 & 0.08175 & 0.00000 & 0.00000 & 0.00000 & 0.37180 & 0.00000 & 0.000 & 0.00000 & 0.00000 & 0.0000 & 0.03735 & 0.03802 & 0.04767 & 0.000 & 0.00000 & 0.00 & 0.00000 & 0.00000 & 0.03656 & 0.00000 &  0.00000 & 0.00000 & 0.000 & 0.00000 & 0.00000 & 0.03368 & 0.00000 & 0.00000 & 0.00000 & 0.00000 & 0.00000 & 0.000 & 0.00000 & 0.00000 & 0.03724 & 0.10400 & 0.00000 & 0.04756 & 0.00000 & 0.00000 & 0.0000 & 0.00000 & 0.03763 & 0.03822 & 0.00000 & 0.06914 & 0.000 & 0.000 & 0.00000 & 0.000 & 0.00000 & 0.04854 & 0.000 & 0.03273 & 0.000 & 0.000 &  0.00 & 0.000 & 0.000 & 0.04853 & 0.00000 & 0.00000 & 0.000 & 0.00000 & 0.11410 & 0.000 & 0.00000 & 0.000 & 0.00 & 0.00000 & 0.00000 & 0.000 &  0.00000 & 0.00000 & 0.0000 & 0.07274 & 0.00000 & 0.000 & 0.03460 & 0.0000 & 0.000 & 0.0000 & 0.00000 & 0.00000 & 0.00 & 0.00000 & 0.00000 & 0.04362 & 0.00000 & 0.00000 & 0.03950 & 0.00000 & 0.000 & 0.0000 & 0.000 & 0.0000 & 0.000 & 0.000 & 0.0000 & 0.00000 & 0.03319 & 0.00000 & 0.02770 & 0.00000 & 0.000 & 0.000 & 0.00000 & 0.00000 & 0.000 & 0.00 & 0.000 & 0.02687 & 0.00000 & 0.00000 & 0.00000 & 0.00000 & 0.00 & 0.00000 & 0.0000 & 0.0000 & 0.00000 & 0.00000 & 0.00000 & 0.000 & 0.00000 & 0.000 & 0.000 & 0.000 & 0.000 & 0.00000 & 0.00000 & 0.0000 & 0.05478 & 0.05472 & 0.06321 & 0.00000 & 0.00000 & 0.00000 & 0.00000 & 0.03868 & 0.00000 & 0.000 & 0.00000 & 0.000 & 0.000 & 0.0273 & 0.05124 & 0.000 & 0.00000 & 0.0000 & 0.0000 & 0.04679 & 0.000 & 0.00000 & 0.00000 & 0.00000 & 0.00000 & 0.000 & 0.00000 & 0.000 & 0.00000 & 0.000 & 0.000 & 0.00000 & 0.00000 & 0.000 & 0.00000 & 0.00000 & 0.000 & 0.0000 & 0.00000 & 0.00000 & 0.00000 & 0.0000 & 0.000 & 0.0000 & 0.0000 & 0.0000 & 0.000 & 0.000 & 0.000 & 0.00000 & 0.00000 & 0.04516 & 0.000 & 0.0000 & 0.00000 & 0.0307 & 0.000 & 0.0000 & 0.000 & 0.000 & 0.00000 & 0.0000 & 0.0000 & 0.000 & 0.00000 & 0.00 & 0.00000 & 0.00000 & 0.00000 & 0.00000 & 0.04221 & 0.000 & 0.00000 & 0.000 & 0.00000 & 0.00000 & 0.000 & 0.0000 & 0.00000 & 0.00000 & 0.00000 & 0.000 & 0.0000 & 0.0000 & 0.000 & 0.00000 & 0.000 & 0.00000 & 0.00000 & 0.00000 & 0.000 & 0.0000 & 0.000 & 0.00000 & 0.00000 &  0.0000 & 0.00000 & 0.0000 & 0.00000 & 0.000 & 0.040 & 0.000 & 0.000 & 0.0000 & 0.000 & 0.00000 & 0.000 & 0.000 & 0.00000 & 0.000 & 0.0000 & 0.00000 & 0.00000 & 0.0000 & 0.00000 & 0.00000 & 0.00000 & 0.00000 & 0.0000 & 0.000 & 0.00000 & 0.02591 & 0.00000 & 0.00000 & 0.02840 & 0.000 & 0.00000 & 0.000 & 0.00000 & 0.00000 & 0.0000 & 0.000 & 0.000 & 0.000 & 0.000 & 0.000 & 0.00000 & 0.0000 & 0.0000 & 0.000 & 0.000 & 0.000 & 0.000 & 0.000 & 0.000 & 0.000 & 0.00000 & 0.00000 & 0.000 & 0.03918 & 0.00000 & 0.00000 & 0.00000 & 0.00000 & 0.03983 & 0.02522 & 0.000 & 0.00000 & 0.07529 & 0.000 & 0.00000 & 0.03587 & 0.00000 & 0.00000 & 0.05679 & 0.00000 & 0.00000 & 0.000 & 0.0000 & 0.08573 & 0.00000 & 0.00000 & 0.0000 & 0.000 & 0.00000 & 0.000 & 0.000 & 0.00 & 0.00000 & 0.02578 & 0.00000 & 0.03381 & 0.000 & 0.00000 & 0.0000 & 0.0000 & 0.03173 & 0.00000 & 0.00000 & 0.000 & 0.00000 & 0.00000 & 0.000 & 0.00000 & 0.00000 & 0.00000 & 0.000 & 0.0000 & 0.000 & 0.00000 & 0.00000 & 0.000 & 0.00000 & 0.00000 & 0.000 & 0.000 & 0.0000 & 0.00000 & 0.00000 & 0.04132 & 0.000 & 0.00000 & 0.00000 & 0.04956 & 0.0000 & 0.00000 & 0.00000 & 0.00000 & 0.00000 & 0.00000 & 0.08339 & 0.00000 & 0.04857 & 0.00000 & 0.07383 & 0.000 & 0.00000 & 0.00000 & 0.00000 & 0.12500 & 0.00000 & 0.03761 & 0.00000 & 0.00000 & 0.000 & 0.00000 & 0.00000 & 0.00000 & 0.0000 & 0.000 & 0.00000 & 0.00 & 0.00000 & 0.00000 & 0.00000 & 0.00000 & 0.04540 & 0.00000 & 0.000 & 0.00000 & 0.06728 & 0.00000 & 0.00000 & 0.00000 & 0.000 & 0.00000 & 0.08597 & 0.000 & 0.000 & 0.000 & 0.07089 & 0.04839 & 0.05169 & 0.0000 &  0.00 & 0.000 & 0.0000 & 0.000 & 0.08213 & 0.0000 & 0.0898 & 0.00000 & 0.000 & 0.05439 & 0.00000 & 0.000 & 0.00000 & 0.00000 & 0.00000 & 0.000 & 0.00000 & 0.00000 & 0.03647 &  0.1128 & 0.05171 & 0.03176 & 0.05286 & 0.08475 & 0.00000 & 0.00000 & 0.03977 & 0.000 & 0.03500 & 0.04076 & 0.00000 &  0.00 & 0.00000 & 0.0000 & 0.0000 & 0.0000 & 0.00000 & 0.00000 & 0.000 & 0.00000 & 0.00000 & 0.000 & 0.00000 & 0.000 & 0.00000 & 0.0000 & 0.00000 & 0.00000 & 0.000 & 0.00000 & 0.0000 & 0.00000 & 0.000 &  0.00 &  0.00000 & 0.0000 & 0.00 & 0.00000 & 0.08496 & 0.00000 & 0.03075 & 0.000 & 0.00000 & 0.000 & 0.000 & 0.04453 & 0.00000 & 0.0000 & 0.000 & 0.000 & 0.04493 & 0.000 & 0.000 & 0.0000 & 0.00 & 0.00000 & 0.00000 & 0.00000 & 0.00000 & 0.0000 & 0.1088 & 0.03184 & 0.00000 & 0.04161 & 0.10860 & 0.000 & 0.00000 & 0.07527 & 0.000 &  0.06598 & 0.00000 & 0.06691 & 0.000 & 0.00000 & 0.00000 & 0.00000 & 0.00000 & 0.0000 & 0.000 & 0.00000 & 0.00000 & 0.00000 & 0.000 & 0.00000 &  0.05026 & 0.00000 & 0.04066 & 0.00000 & 0.000 & 0.00 & 0.00000 & 0.00000 &  0.00000 & 0.000 & 0.000 & 0.00000 & 0.000 & 0.0000 & 0.02891 & 0.04147 & 0.00000 & 0.0000 & 0.00000 & 0.000 & 0.000 & 0.000 & 0.00000 & 0.05811 & 0.000 & 0.00000 & 0.04295 & 0.000 & 0.000 & 0.00000 & 0.00000 & 0.00000 & 0.00000 & 0.00000 & 0.06576 & 0.00000 & 0.00000 & 0.03325 & 0.00000 & 0.03938 & 0.000 & 0.04466 & 0.00000 & 0.09216 & 0.00000 & 0.05378 & 0.0000 & 0.00000 & 0.00000 & 0.04880 & 0.00000 & 0.00000 & 0.00000 & 0.00000 & 0.00000 & 0.00000 & 0.00000 & 0.00000 & 0.00000 & 0.03474 & 0.00000 & 0.00000 & 0.00 & 0.000 & 0.0000 & 0.00000 & 0.00000 & 0.000 & 0.09698 & 0.11430 & 0.00000 & 0.000 & 0.00000 & 0.00000 & ENSG00000243485.5 & MIR1302-2HG & ENSG00000243485\\\\\n",
       "\t 0.00000 & 0.00000 & 0.0576 &  0.0000 & 0.00000 & 0.00000 & 0.00000 & 0.00000 & 0.0000 & 0.00000 & 0.0000 & 0.00000 & 0.00000 & 0.00000 & 0.00000 & 0.00000 & 0.00 & 0.000 & 0.03022 & 0.00000 & 0.00000 & 0.00000 & 0.00 & 0.000 & 0.00000 &  0.00000 & 0.00000 & 0.00000 & 0.00000 & 0.000 & 0.00000 & 0.000 & 0.000 & 0.00000 & 0.00000 & 0.00000 & 0.00000 & 0.00000 & 0.000 & 0.00000 & 0.06217 & 0.000 & 0.0000 & 0.00000 & 0.0000 &  0.00000 & 0.01902 & 0.00000 &  0.00000 & 0.000 & 0.000 & 0.00000 & 0.000 & 0.00000 & 0.00000 & 0.0000 &  0.0 & 0.00000 & 0.000 & 0.00000 & 0.00000 & 0.04013 & 0.0000 & 0.000 & 0.000 & 0.03324 & 0.00000 & 0.00000 & 0.02132 & 0.00000 & 0.00000 & 0.0000 & 0.00000 & 0.02712 & 0.000 & 0.00000 & 0.000 & 0.000 & 0.0000 & 0.03285 & 0.03978 & 0.00000 & 0.00000 & 0.000 & 0.000 & 0.02994 & 0.00000 & 0.000 & 0.00000 & 0.00000 & 0.00000 & 0.000 & 0.00 & 0.000 & 0.00 & 0.00000 & 0.00000 & 0.000 & 0.0 & 0.000 & 0.05216 & 0.0000 & 0.02568 &  0.0000 & 0.00000 &  0.0000 & 0.000 & 0.00000 & 0.00000 & 0.000 & 0.00000 & 0.00 & 0.00000 & 0.00000 & 0.00000 & 0.00000 & 0.00000 & 0.000 & 0.00000 & 0.000 & 0.00000 & 0.02766 & 0.000 & 0.03783 & 0.000 & 0.0000 & 0.02763 & 0.00000 & 0.000 & 0.037 & 0.000 & 0.00000 & 0.02895 & 0.00000 & 0.04155 & 0.000 & 0.00000 &  0.00 & 0.00000 & 0.03664 & 0.00000 & 0.000 & 0.000 & 0.02835 & 0.05343 & 0.000 & 0.0000 & 0.00000 & 0.00000 & 0.00000 & 0.00000 & 0.000 & 0.00000 & 0.00000 & 0.06306 & 0.00000 & 0.00000 & 0.00000 & 0.00000 & 0.00000 & 0.000 & 0.00000 & 0.000 & 0.0000 & 0.00000 & 0.000 & 0.00000 & 0.00000 & 0.000 & 0.03134 & 0.00000 & 0.00000 & 0.000 & 0.01956 & 0.00000 & 0.0000 & 0.05778 & 0.00000 & 0.0000 & 0.00000 & 0.000 & 0.02904 & 0.00000 & 0.00000 & 0.00000 & 0.03773 & 0.02939 & 0.000 & 0.00000 & 0.00000 & 0.0000 & 0.00000 & 0.02701 & 0.00000 & 0.000 & 0.00000 & 0.00 & 0.00000 & 0.02280 & 0.00000 & 0.00000 &  0.01727 & 0.03446 & 0.000 & 0.00000 & 0.03504 & 0.00000 & 0.00000 & 0.00000 & 0.00000 & 0.00000 & 0.04862 & 0.000 & 0.00000 & 0.02926 & 0.05291 & 0.00000 & 0.03681 & 0.00000 & 0.00000 & 0.00000 & 0.0000 & 0.00000 & 0.00000 & 0.00000 & 0.00000 & 0.02456 & 0.000 & 0.000 & 0.00000 & 0.000 & 0.00000 & 0.00000 & 0.000 & 0.00000 & 0.000 & 0.000 &  0.00 & 0.000 & 0.000 & 0.00000 & 0.00000 & 0.00000 & 0.000 & 0.00000 & 0.02702 & 0.000 & 0.00000 & 0.000 & 0.00 & 0.00000 & 0.03059 & 0.000 &  0.00000 & 0.00000 & 0.0000 & 0.00000 & 0.00000 & 0.000 & 0.00000 & 0.0000 & 0.000 & 0.0000 & 0.00000 & 0.00000 & 0.00 & 0.00000 & 0.02388 & 0.00000 & 0.00000 & 0.00000 & 0.02806 & 0.00000 & 0.000 & 0.0000 & 0.000 & 0.0000 & 0.000 & 0.000 & 0.0000 & 0.00000 & 0.00000 & 0.00000 & 0.00000 & 0.00000 & 0.000 & 0.000 & 0.00000 & 0.00000 & 0.000 & 0.00 & 0.000 & 0.01909 & 0.00000 & 0.00000 & 0.00000 & 0.00000 & 0.00 & 0.05970 & 0.0000 & 0.0000 & 0.07730 & 0.00000 & 0.00000 & 0.000 & 0.00000 & 0.000 & 0.000 & 0.000 & 0.000 & 0.03102 & 0.00000 & 0.0000 & 0.00000 & 0.00000 & 0.00000 & 0.00000 & 0.00000 & 0.00000 & 0.00000 & 0.00000 & 0.00000 & 0.000 & 0.00000 & 0.000 & 0.000 & 0.0000 & 0.00000 & 0.000 & 0.00000 & 0.0000 & 0.0000 & 0.06649 & 0.000 & 0.00000 & 0.00000 & 0.00000 & 0.00000 & 0.000 & 0.00000 & 0.000 & 0.02502 & 0.000 & 0.000 & 0.02390 & 0.00000 & 0.000 & 0.03854 & 0.00000 & 0.000 & 0.0000 & 0.00000 & 0.00000 & 0.00000 & 0.0000 & 0.000 & 0.0000 & 0.0000 & 0.0000 & 0.000 & 0.000 & 0.000 & 0.06445 & 0.00000 & 0.03209 & 0.000 & 0.0000 & 0.02720 & 0.0000 & 0.000 & 0.0000 & 0.000 & 0.000 & 0.00000 & 0.0000 & 0.0000 & 0.000 & 0.00000 & 0.00 & 0.00000 & 0.00000 & 0.00000 & 0.00000 & 0.00000 & 0.000 & 0.00000 & 0.000 & 0.00000 & 0.00000 & 0.000 & 0.0000 & 0.00000 & 0.00000 & 0.00000 & 0.000 & 0.0000 & 0.0000 & 0.000 & 0.02501 & 0.000 & 0.00000 & 0.00000 & 0.00000 & 0.000 & 0.0000 & 0.000 & 0.00000 & 0.00000 &  0.0000 & 0.00000 & 0.0000 & 0.00000 & 0.000 & 0.000 & 0.000 & 0.000 & 0.0000 & 0.000 & 0.01934 & 0.000 & 0.000 & 0.00000 & 0.000 & 0.0000 & 0.00000 & 0.00000 & 0.0000 & 0.00000 & 0.00000 & 0.02306 & 0.00000 & 0.0000 & 0.000 & 0.00000 & 0.00000 & 0.00000 & 0.00000 & 0.00000 & 0.000 & 0.00000 & 0.000 & 0.01744 & 0.00000 & 0.0000 & 0.000 & 0.000 & 0.000 & 0.000 & 0.000 & 0.00000 & 0.0000 & 0.0000 & 0.000 & 0.000 & 0.000 & 0.000 & 0.000 & 0.000 & 0.000 & 0.00000 & 0.00000 & 0.000 & 0.00000 & 0.00000 & 0.00000 & 0.00000 & 0.00000 & 0.00000 & 0.00000 & 0.000 & 0.00000 & 0.02674 & 0.000 & 0.00000 & 0.00000 & 0.00000 & 0.00000 & 0.00000 & 0.00000 & 0.00000 & 0.000 & 0.0000 & 0.00000 & 0.00000 & 0.00000 & 0.0000 & 0.000 & 0.02127 & 0.000 & 0.000 & 0.00 & 0.00000 & 0.00000 & 0.00000 & 0.00000 & 0.000 & 0.00000 & 0.0000 & 0.0000 & 0.00000 & 0.00000 & 0.00000 & 0.000 & 0.00000 & 0.00000 & 0.000 & 0.00000 & 0.00000 & 0.00000 & 0.000 & 0.0000 & 0.000 & 0.00000 & 0.00000 & 0.000 & 0.00000 & 0.03072 & 0.000 & 0.000 & 0.0000 & 0.00000 & 0.00000 & 0.00000 & 0.000 & 0.00000 & 0.00000 & 0.03521 & 0.0000 & 0.00000 & 0.03221 & 0.02899 & 0.02583 & 0.00000 & 0.00000 & 0.03243 & 0.00000 & 0.00000 & 0.00000 & 0.000 & 0.00000 & 0.00000 & 0.02961 & 0.00000 & 0.00000 & 0.00000 & 0.00000 & 0.00000 & 0.000 & 0.03111 & 0.00000 & 0.00000 & 0.0000 & 0.000 & 0.00000 & 0.00 & 0.00000 & 0.00000 & 0.00000 & 0.00000 & 0.00000 & 0.00000 & 0.000 & 0.07295 & 0.00000 & 0.00000 & 0.00000 & 0.00000 & 0.000 & 0.06651 & 0.00000 & 0.000 & 0.000 & 0.000 & 0.00000 & 0.00000 & 0.00000 & 0.0000 &  0.00 & 0.000 & 0.0000 & 0.000 & 0.00000 & 0.0000 & 0.0000 & 0.00000 & 0.000 & 0.00000 & 0.05457 & 0.000 & 0.00000 & 0.03704 & 0.09694 & 0.000 & 0.00000 & 0.03859 & 0.00000 &  0.1603 & 0.00000 & 0.00000 & 0.03755 & 0.06021 & 0.00000 & 0.02903 & 0.00000 & 0.000 & 0.00000 & 0.05791 & 0.01731 &  0.00 & 0.00000 & 0.0330 & 0.0000 & 0.0000 & 0.00000 & 0.00000 & 0.000 & 0.03097 & 0.00000 & 0.000 & 0.00000 & 0.000 & 0.00000 & 0.0000 & 0.00000 & 0.02500 & 0.000 & 0.02596 & 0.0000 & 0.02824 & 0.000 &  0.00 &  0.02133 & 0.0000 & 0.00 & 0.00000 & 0.06036 & 0.00000 & 0.02185 & 0.000 & 0.00000 & 0.000 & 0.000 & 0.00000 & 0.00000 & 0.0000 & 0.000 & 0.000 & 0.00000 & 0.000 & 0.000 & 0.0000 & 0.00 & 0.00000 & 0.01876 & 0.02300 & 0.00000 & 0.0000 & 0.0000 & 0.00000 & 0.03551 & 0.02956 & 0.00000 & 0.000 & 0.03238 & 0.00000 & 0.000 &  0.00000 & 0.00000 & 0.00000 & 0.000 & 0.00000 & 0.00000 & 0.00000 & 0.00000 & 0.0000 & 0.000 & 0.00000 & 0.02714 & 0.00000 & 0.000 & 0.00000 &  0.00000 & 0.00000 & 0.02889 & 0.00000 & 0.000 & 0.00 & 0.03427 & 0.04966 &  0.04173 & 0.000 & 0.000 & 0.00000 & 0.000 & 0.0000 & 0.00000 & 0.00000 & 0.02782 & 0.0313 & 0.00000 & 0.000 & 0.000 & 0.000 & 0.00000 & 0.00000 & 0.000 & 0.00000 & 0.00000 & 0.000 & 0.000 & 0.00000 & 0.00000 & 0.00000 & 0.00000 & 0.02596 & 0.04672 & 0.02687 & 0.00000 & 0.00000 & 0.00000 & 0.00000 & 0.000 & 0.00000 & 0.02608 & 0.00000 & 0.00000 & 0.00000 & 0.0000 & 0.00000 & 0.00000 & 0.00000 & 0.00000 & 0.00000 & 0.00000 & 0.00000 & 0.02803 & 0.00000 & 0.00000 & 0.02157 & 0.00000 & 0.00000 & 0.02676 & 0.02927 & 0.00 & 0.000 & 0.0000 & 0.00000 & 0.03678 & 0.000 & 0.00000 & 0.04058 & 0.00000 & 0.000 & 0.00000 & 0.00000 & ENSG00000237613.2 & FAM138A     & ENSG00000237613\\\\\n",
       "\t 0.00000 & 0.12410 & 0.0000 &  0.0000 & 0.00000 & 0.00000 & 0.05129 & 0.00000 & 0.0000 & 0.00000 & 0.0000 & 0.00000 & 0.00000 & 0.00000 & 0.03664 & 0.00000 & 0.00 & 0.000 & 0.00000 & 0.00000 & 0.02834 & 0.00000 & 0.00 & 0.000 & 0.00000 &  0.04337 & 0.00000 & 0.05114 & 0.00000 & 0.000 & 0.03757 & 0.000 & 0.000 & 0.00000 & 0.00000 & 0.00000 & 0.00000 & 0.00000 & 0.000 & 0.05935 & 0.00000 & 0.000 & 0.0000 & 0.03659 & 0.0000 &  0.08359 & 0.00000 & 0.00000 &  0.04381 & 0.000 & 0.000 & 0.06399 & 0.000 & 0.04184 & 0.02875 & 0.0499 &  0.0 & 0.03968 & 0.000 & 0.00000 & 0.00000 & 0.00000 & 0.0000 & 0.000 & 0.000 & 0.00000 & 0.03868 & 0.00000 & 0.00000 & 0.00000 & 0.00000 & 0.0000 & 0.00000 & 0.00000 & 0.000 & 0.00000 & 0.000 & 0.000 & 0.0000 & 0.00000 & 0.00000 & 0.00000 & 0.00000 & 0.000 & 0.000 & 0.08689 & 0.00000 & 0.000 & 0.05147 & 0.00000 & 0.00000 & 0.000 & 0.00 & 0.000 & 0.00 & 0.00000 & 0.03317 & 0.000 & 0.0 & 0.000 & 0.00000 & 0.0000 & 0.03727 &  0.0000 & 0.03920 &  0.1515 & 0.000 & 0.00000 & 0.00000 & 0.000 & 0.03456 & 0.00 & 0.03231 & 0.00000 & 0.00000 & 0.00000 & 0.06396 & 0.000 & 0.00000 & 0.000 & 0.00000 & 0.00000 & 0.000 & 0.00000 & 0.000 & 0.0000 & 0.08018 & 0.00000 & 0.000 & 0.000 & 0.000 & 0.00000 & 0.04201 & 0.00000 & 0.00000 & 0.000 & 0.05088 &  0.00 & 0.00000 & 0.00000 & 0.05709 & 0.000 & 0.000 & 0.00000 & 0.00000 & 0.000 & 0.0000 & 0.00000 & 0.06876 & 0.00000 & 0.00000 & 0.000 & 0.04799 & 0.00000 & 0.04576 & 0.00000 & 0.20550 & 0.04911 & 0.00000 & 0.04453 & 0.000 & 0.00000 & 0.000 & 0.0000 & 0.00000 & 0.000 & 0.00000 & 0.00000 & 0.000 & 0.09095 & 0.00000 & 0.00000 & 0.000 & 0.08517 & 0.00000 & 0.0000 & 0.00000 & 0.00000 & 0.0000 & 0.00000 & 0.000 & 0.00000 & 0.05140 & 0.03958 & 0.00000 & 0.05476 & 0.00000 & 0.000 & 0.00000 & 0.00000 & 0.0000 & 0.00000 & 0.03920 & 0.00000 & 0.000 & 0.03796 & 0.00 & 0.08254 & 0.00000 & 0.03769 & 0.00000 &  0.00000 & 0.00000 & 0.000 & 0.03563 & 0.00000 & 0.00000 & 0.00000 & 0.00000 & 0.10230 & 0.00000 & 0.03528 & 0.000 & 0.09478 & 0.00000 & 0.11520 & 0.10720 & 0.00000 & 0.04903 & 0.03889 & 0.04062 & 0.0283 & 0.11190 & 0.00000 & 0.00000 & 0.04962 & 0.03564 & 0.000 & 0.000 & 0.04408 & 0.000 & 0.00000 & 0.00000 & 0.000 & 0.00000 & 0.000 & 0.000 &  0.00 & 0.000 & 0.000 & 0.00000 & 0.04071 & 0.00000 & 0.000 & 0.00000 & 0.07841 & 0.000 & 0.00000 & 0.000 & 0.00 & 0.00000 & 0.00000 & 0.000 &  0.00000 & 0.00000 & 0.0000 & 0.00000 & 0.00000 & 0.000 & 0.00000 & 0.0000 & 0.000 & 0.0417 & 0.00000 & 0.07549 & 0.00 & 0.00000 & 0.00000 & 0.00000 & 0.03806 & 0.00000 & 0.04072 & 0.00000 & 0.000 & 0.0000 & 0.000 & 0.0000 & 0.000 & 0.000 & 0.0000 & 0.00000 & 0.00000 & 0.00000 & 0.02856 & 0.00000 & 0.000 & 0.000 & 0.01936 & 0.00000 & 0.000 & 0.00 & 0.000 & 0.00000 & 0.00000 & 0.00000 & 0.03105 & 0.02735 & 0.00 & 0.00000 & 0.0000 & 0.0000 & 0.00000 & 0.03113 & 0.00000 & 0.000 & 0.00000 & 0.000 & 0.000 & 0.000 & 0.000 & 0.00000 & 0.00000 & 0.1074 & 0.00000 & 0.00000 & 0.06517 & 0.00000 & 0.00000 & 0.00000 & 0.00000 & 0.00000 & 0.00000 & 0.000 & 0.00000 & 0.000 & 0.000 & 0.0000 & 0.00000 & 0.000 & 0.00000 & 0.0421 & 0.0000 & 0.00000 & 0.000 & 0.00000 & 0.04008 & 0.00000 & 0.04756 & 0.000 & 0.00000 & 0.000 & 0.00000 & 0.000 & 0.000 & 0.00000 & 0.00000 & 0.000 & 0.00000 & 0.00000 & 0.000 & 0.0000 & 0.00000 & 0.00000 & 0.00000 & 0.0000 & 0.000 & 0.0000 & 0.0000 & 0.0000 & 0.000 & 0.000 & 0.000 & 0.04676 & 0.00000 & 0.09312 & 0.000 & 0.0000 & 0.03948 & 0.0000 & 0.000 & 0.0000 & 0.000 & 0.000 & 0.00000 & 0.0000 & 0.0000 & 0.000 & 0.00000 & 0.00 & 0.06564 & 0.03581 & 0.00000 & 0.05654 & 0.00000 & 0.000 & 0.00000 & 0.000 & 0.01525 & 0.00000 & 0.000 & 0.0000 & 0.00000 & 0.00000 & 0.00000 & 0.000 & 0.0000 & 0.0000 & 0.000 & 0.00000 & 0.000 & 0.00000 & 0.00000 & 0.00000 & 0.000 & 0.0000 & 0.000 & 0.00000 & 0.03686 &  0.0000 & 0.00000 & 0.0000 & 0.05811 & 0.000 & 0.000 & 0.000 & 0.000 & 0.0000 & 0.000 & 0.00000 & 0.000 & 0.000 & 0.02721 & 0.000 & 0.0000 & 0.04185 & 0.00000 & 0.0000 & 0.00000 & 0.00000 & 0.03347 & 0.00000 & 0.0318 & 0.000 & 0.00000 & 0.02671 & 0.00000 & 0.00000 & 0.00000 & 0.000 & 0.00000 & 0.000 & 0.00000 & 0.00000 & 0.0000 & 0.000 & 0.000 & 0.000 & 0.000 & 0.000 & 0.00000 & 0.0000 & 0.0000 & 0.000 & 0.000 & 0.000 & 0.000 & 0.000 & 0.000 & 0.000 & 0.03887 & 0.00000 & 0.000 & 0.00000 & 0.04802 & 0.04011 & 0.03989 & 0.06914 & 0.00000 & 0.00000 & 0.000 & 0.08254 & 0.00000 & 0.000 & 0.04238 & 0.00000 & 0.03342 & 0.00000 & 0.05855 & 0.00000 & 0.00000 & 0.000 & 0.0000 & 0.00000 & 0.00000 & 0.00000 & 0.0000 & 0.000 & 0.03087 & 0.000 & 0.000 & 0.00 & 0.03072 & 0.00000 & 0.04109 & 0.00000 & 0.000 & 0.00000 & 0.0471 & 0.0000 & 0.03272 & 0.00000 & 0.02643 & 0.000 & 0.00000 & 0.04228 & 0.000 & 0.00000 & 0.00000 & 0.00000 & 0.000 & 0.0000 & 0.000 & 0.00000 & 0.00000 & 0.000 & 0.04921 & 0.00000 & 0.000 & 0.000 & 0.0000 & 0.00000 & 0.00000 & 0.04260 & 0.000 & 0.03717 & 0.00000 & 0.05110 & 0.0000 & 0.07419 & 0.04675 & 0.00000 & 0.00000 & 0.06604 & 0.08597 & 0.04707 & 0.00000 & 0.04034 & 0.07612 & 0.000 & 0.03096 & 0.00000 & 0.00000 & 0.12880 & 0.04434 & 0.00000 & 0.08741 & 0.00000 & 0.000 & 0.00000 & 0.00000 & 0.02926 & 0.0000 & 0.000 & 0.00000 & 0.00 & 0.00000 & 0.05316 & 0.00000 & 0.07882 & 0.04681 & 0.00000 & 0.000 & 0.15880 & 0.03468 & 0.00000 & 0.06034 & 0.04272 & 0.000 & 0.09651 & 0.00000 & 0.000 & 0.000 & 0.000 & 0.21920 & 0.00000 & 0.00000 & 0.1195 &  0.00 & 0.000 & 0.0000 & 0.000 & 0.08467 & 0.1844 & 0.0000 & 0.05905 & 0.000 & 0.00000 & 0.00000 & 0.000 & 0.00000 & 0.05375 & 0.07034 & 0.000 & 0.06138 & 0.05600 & 0.00000 &  0.0000 & 0.10660 & 0.03274 & 0.00000 & 0.00000 & 0.06384 & 0.00000 & 0.00000 & 0.000 & 0.03608 & 0.00000 & 0.00000 &  0.00 & 0.00000 & 0.0000 & 0.0000 & 0.0000 & 0.00000 & 0.05692 & 0.000 & 0.00000 & 0.00000 & 0.000 & 0.05802 & 0.000 & 0.00000 & 0.0409 & 0.02563 & 0.03629 & 0.000 & 0.00000 & 0.0000 & 0.04098 & 0.000 &  0.00 &  0.03096 & 0.0562 & 0.00 & 0.00000 & 0.08759 & 0.00000 & 0.00000 & 0.000 & 0.03673 & 0.000 & 0.000 & 0.00000 & 0.00000 & 0.0000 & 0.000 & 0.000 & 0.04632 & 0.000 & 0.000 & 0.0000 & 0.00 & 0.03668 & 0.00000 & 0.00000 & 0.03167 & 0.0000 & 0.0000 & 0.03283 & 0.00000 & 0.00000 & 0.05599 & 0.000 & 0.00000 & 0.03880 & 0.000 &  0.00000 & 0.00000 & 0.13800 & 0.000 & 0.00000 & 0.00000 & 0.00000 & 0.00000 & 0.0000 & 0.000 & 0.06735 & 0.00000 & 0.00000 & 0.000 & 0.08027 &  0.05181 & 0.09463 & 0.00000 & 0.00000 & 0.000 & 0.00 & 0.00000 & 0.00000 &  0.12110 & 0.000 & 0.000 & 0.00000 & 0.000 & 0.0000 & 0.00000 & 0.00000 & 0.00000 & 0.0000 & 0.04255 & 0.000 & 0.000 & 0.000 & 0.00000 & 0.00000 & 0.000 & 0.04118 & 0.00000 & 0.000 & 0.000 & 0.02677 & 0.00000 & 0.09088 & 0.03368 & 0.00000 & 0.03390 & 0.00000 & 0.00000 & 0.06856 & 0.00000 & 0.00000 & 0.000 & 0.00000 & 0.03785 & 0.00000 & 0.06758 & 0.11090 & 0.0000 & 0.00000 & 0.00000 & 0.00000 & 0.03747 & 0.00000 & 0.04021 & 0.03998 & 0.00000 & 0.03591 & 0.04228 & 0.00000 & 0.00000 & 0.00000 & 0.03884 & 0.00000 & 0.00 & 0.000 & 0.0000 & 0.00000 & 0.00000 & 0.000 & 0.00000 & 0.00000 & 0.04975 & 0.000 & 0.00000 & 0.04948 & ENSG00000268020.3 & OR4G4P      & ENSG00000268020\\\\\n",
       "\\end{tabular}\n"
      ],
      "text/markdown": [
       "\n",
       "A formattable: 6 × 758\n",
       "\n",
       "| GTEX-111YS-0006-SM-5NQBE &lt;dbl&gt; | GTEX-1122O-0005-SM-5O99J &lt;dbl&gt; | GTEX-1128S-0005-SM-5P9HI &lt;dbl&gt; | GTEX-113IC-0006-SM-5NQ9C &lt;dbl&gt; | GTEX-113JC-0006-SM-5O997 &lt;dbl&gt; | GTEX-117XS-0005-SM-5PNU6 &lt;dbl&gt; | GTEX-117YW-0005-SM-5NQ8Z &lt;dbl&gt; | GTEX-1192W-0005-SM-5NQBQ &lt;dbl&gt; | GTEX-1192X-0005-SM-5NQC3 &lt;dbl&gt; | GTEX-11DXW-0006-SM-5NQ7Y &lt;dbl&gt; | ⋯ ⋯ | GTEX-ZVT3-0006-SM-51MT9 &lt;dbl&gt; | GTEX-ZVT4-0006-SM-57WB8 &lt;dbl&gt; | GTEX-ZVTK-0006-SM-57WBK &lt;dbl&gt; | GTEX-ZVZP-0006-SM-51MSW &lt;dbl&gt; | GTEX-ZVZQ-0006-SM-51MR8 &lt;dbl&gt; | GTEX-ZXES-0005-SM-57WCB &lt;dbl&gt; | GTEX-ZXG5-0005-SM-57WCN &lt;dbl&gt; | Name &lt;chr&gt; | Description &lt;chr&gt; | NameClean &lt;chr&gt; |\n",
       "|---|---|---|---|---|---|---|---|---|---|---|---|---|---|---|---|---|---|---|---|---|\n",
       "| 0.02171 | 0.03015 | 0.0203 |  0.1675 | 0.02104 | 0.02537 | 0.02492 | 0.06809 | 0.0000 | 0.02443 | ⋯ | 0.000 | 0.04858 | 0.11450 | 0.02417 | 0.000 | 0.02128 | 0.00000 | ENSG00000223972.5 | DDX11L1     | ENSG00000223972 |\n",
       "| 1.55500 | 2.74700 | 4.4410 | 10.4700 | 1.28700 | 3.13800 | 4.21700 | 2.09800 | 0.3579 | 4.26200 | ⋯ | 1.504 | 3.19400 | 2.90600 | 3.43000 | 4.169 | 2.74300 | 6.07200 | ENSG00000227232.5 | WASH7P      | ENSG00000227232 |\n",
       "| 0.00000 | 0.00000 | 0.0000 |  0.0000 | 0.00000 | 0.00000 | 0.00000 | 0.00000 | 0.0000 | 0.62120 | ⋯ | 0.000 | 0.00000 | 0.00000 | 0.00000 | 0.000 | 0.00000 | 0.61120 | ENSG00000278267.1 | MIR6859-1   | ENSG00000278267 |\n",
       "| 0.00000 | 0.00000 | 0.0000 |  0.0000 | 0.00000 | 0.00000 | 0.00000 | 0.04532 | 0.0000 | 0.00000 | ⋯ | 0.000 | 0.09698 | 0.11430 | 0.00000 | 0.000 | 0.00000 | 0.00000 | ENSG00000243485.5 | MIR1302-2HG | ENSG00000243485 |\n",
       "| 0.00000 | 0.00000 | 0.0576 |  0.0000 | 0.00000 | 0.00000 | 0.00000 | 0.00000 | 0.0000 | 0.00000 | ⋯ | 0.000 | 0.00000 | 0.04058 | 0.00000 | 0.000 | 0.00000 | 0.00000 | ENSG00000237613.2 | FAM138A     | ENSG00000237613 |\n",
       "| 0.00000 | 0.12410 | 0.0000 |  0.0000 | 0.00000 | 0.00000 | 0.05129 | 0.00000 | 0.0000 | 0.00000 | ⋯ | 0.000 | 0.00000 | 0.00000 | 0.04975 | 0.000 | 0.00000 | 0.04948 | ENSG00000268020.3 | OR4G4P      | ENSG00000268020 |\n",
       "\n"
      ],
      "text/plain": [
       "  GTEX-111YS-0006-SM-5NQBE GTEX-1122O-0005-SM-5O99J GTEX-1128S-0005-SM-5P9HI\n",
       "1 0.02171                  0.03015                  0.0203                  \n",
       "2 1.55500                  2.74700                  4.4410                  \n",
       "3 0.00000                  0.00000                  0.0000                  \n",
       "4 0.00000                  0.00000                  0.0000                  \n",
       "5 0.00000                  0.00000                  0.0576                  \n",
       "6 0.00000                  0.12410                  0.0000                  \n",
       "  GTEX-113IC-0006-SM-5NQ9C GTEX-113JC-0006-SM-5O997 GTEX-117XS-0005-SM-5PNU6\n",
       "1  0.1675                  0.02104                  0.02537                 \n",
       "2 10.4700                  1.28700                  3.13800                 \n",
       "3  0.0000                  0.00000                  0.00000                 \n",
       "4  0.0000                  0.00000                  0.00000                 \n",
       "5  0.0000                  0.00000                  0.00000                 \n",
       "6  0.0000                  0.00000                  0.00000                 \n",
       "  GTEX-117YW-0005-SM-5NQ8Z GTEX-1192W-0005-SM-5NQBQ GTEX-1192X-0005-SM-5NQC3\n",
       "1 0.02492                  0.06809                  0.0000                  \n",
       "2 4.21700                  2.09800                  0.3579                  \n",
       "3 0.00000                  0.00000                  0.0000                  \n",
       "4 0.00000                  0.04532                  0.0000                  \n",
       "5 0.00000                  0.00000                  0.0000                  \n",
       "6 0.05129                  0.00000                  0.0000                  \n",
       "  GTEX-11DXW-0006-SM-5NQ7Y ⋯ GTEX-ZVT3-0006-SM-51MT9 GTEX-ZVT4-0006-SM-57WB8\n",
       "1 0.02443                  ⋯ 0.000                   0.04858                \n",
       "2 4.26200                  ⋯ 1.504                   3.19400                \n",
       "3 0.62120                  ⋯ 0.000                   0.00000                \n",
       "4 0.00000                  ⋯ 0.000                   0.09698                \n",
       "5 0.00000                  ⋯ 0.000                   0.00000                \n",
       "6 0.00000                  ⋯ 0.000                   0.00000                \n",
       "  GTEX-ZVTK-0006-SM-57WBK GTEX-ZVZP-0006-SM-51MSW GTEX-ZVZQ-0006-SM-51MR8\n",
       "1 0.11450                 0.02417                 0.000                  \n",
       "2 2.90600                 3.43000                 4.169                  \n",
       "3 0.00000                 0.00000                 0.000                  \n",
       "4 0.11430                 0.00000                 0.000                  \n",
       "5 0.04058                 0.00000                 0.000                  \n",
       "6 0.00000                 0.04975                 0.000                  \n",
       "  GTEX-ZXES-0005-SM-57WCB GTEX-ZXG5-0005-SM-57WCN Name              Description\n",
       "1 0.02128                 0.00000                 ENSG00000223972.5 DDX11L1    \n",
       "2 2.74300                 6.07200                 ENSG00000227232.5 WASH7P     \n",
       "3 0.00000                 0.61120                 ENSG00000278267.1 MIR6859-1  \n",
       "4 0.00000                 0.00000                 ENSG00000243485.5 MIR1302-2HG\n",
       "5 0.00000                 0.00000                 ENSG00000237613.2 FAM138A    \n",
       "6 0.00000                 0.04948                 ENSG00000268020.3 OR4G4P     \n",
       "  NameClean      \n",
       "1 ENSG00000223972\n",
       "2 ENSG00000227232\n",
       "3 ENSG00000278267\n",
       "4 ENSG00000243485\n",
       "5 ENSG00000237613\n",
       "6 ENSG00000268020"
      ]
     },
     "metadata": {},
     "output_type": "display_data"
    }
   ],
   "source": [
    "formattable(head(expression_list[[\"Whole_Blood\"]]))"
   ]
  },
  {
   "cell_type": "code",
   "execution_count": 201,
   "metadata": {},
   "outputs": [],
   "source": [
    "sample_size <- lapply(expression_list, ncol)\n",
    "tissue_df <- data.frame(tissue = tissue_vec_clean, sample_size = as.numeric(sample_size)-3)"
   ]
  },
  {
   "cell_type": "code",
   "execution_count": 200,
   "metadata": {},
   "outputs": [
    {
     "data": {
      "text/html": [
       "<table>\n",
       "<caption>A data.frame: 6 × 758</caption>\n",
       "<thead>\n",
       "\t<tr><th scope=col>GTEX-111YS-0006-SM-5NQBE</th><th scope=col>GTEX-1122O-0005-SM-5O99J</th><th scope=col>GTEX-1128S-0005-SM-5P9HI</th><th scope=col>GTEX-113IC-0006-SM-5NQ9C</th><th scope=col>GTEX-113JC-0006-SM-5O997</th><th scope=col>GTEX-117XS-0005-SM-5PNU6</th><th scope=col>GTEX-117YW-0005-SM-5NQ8Z</th><th scope=col>GTEX-1192W-0005-SM-5NQBQ</th><th scope=col>GTEX-1192X-0005-SM-5NQC3</th><th scope=col>GTEX-11DXW-0006-SM-5NQ7Y</th><th scope=col>⋯</th><th scope=col>GTEX-ZVT3-0006-SM-51MT9</th><th scope=col>GTEX-ZVT4-0006-SM-57WB8</th><th scope=col>GTEX-ZVTK-0006-SM-57WBK</th><th scope=col>GTEX-ZVZP-0006-SM-51MSW</th><th scope=col>GTEX-ZVZQ-0006-SM-51MR8</th><th scope=col>GTEX-ZXES-0005-SM-57WCB</th><th scope=col>GTEX-ZXG5-0005-SM-57WCN</th><th scope=col>Name</th><th scope=col>Description</th><th scope=col>NameClean</th></tr>\n",
       "\t<tr><th scope=col>&lt;dbl&gt;</th><th scope=col>&lt;dbl&gt;</th><th scope=col>&lt;dbl&gt;</th><th scope=col>&lt;dbl&gt;</th><th scope=col>&lt;dbl&gt;</th><th scope=col>&lt;dbl&gt;</th><th scope=col>&lt;dbl&gt;</th><th scope=col>&lt;dbl&gt;</th><th scope=col>&lt;dbl&gt;</th><th scope=col>&lt;dbl&gt;</th><th scope=col>⋯</th><th scope=col>&lt;dbl&gt;</th><th scope=col>&lt;dbl&gt;</th><th scope=col>&lt;dbl&gt;</th><th scope=col>&lt;dbl&gt;</th><th scope=col>&lt;dbl&gt;</th><th scope=col>&lt;dbl&gt;</th><th scope=col>&lt;dbl&gt;</th><th scope=col>&lt;chr&gt;</th><th scope=col>&lt;chr&gt;</th><th scope=col>&lt;chr&gt;</th></tr>\n",
       "</thead>\n",
       "<tbody>\n",
       "\t<tr><td>0.02171</td><td>0.03015</td><td>0.0203</td><td> 0.1675</td><td>0.02104</td><td>0.02537</td><td>0.02492</td><td>0.06809</td><td>0.0000</td><td>0.02443</td><td>⋯</td><td>0.000</td><td>0.04858</td><td>0.11450</td><td>0.02417</td><td>0.000</td><td>0.02128</td><td>0.00000</td><td>ENSG00000223972.5</td><td>DDX11L1    </td><td>ENSG00000223972</td></tr>\n",
       "\t<tr><td>1.55500</td><td>2.74700</td><td>4.4410</td><td>10.4700</td><td>1.28700</td><td>3.13800</td><td>4.21700</td><td>2.09800</td><td>0.3579</td><td>4.26200</td><td>⋯</td><td>1.504</td><td>3.19400</td><td>2.90600</td><td>3.43000</td><td>4.169</td><td>2.74300</td><td>6.07200</td><td>ENSG00000227232.5</td><td>WASH7P     </td><td>ENSG00000227232</td></tr>\n",
       "\t<tr><td>0.00000</td><td>0.00000</td><td>0.0000</td><td> 0.0000</td><td>0.00000</td><td>0.00000</td><td>0.00000</td><td>0.00000</td><td>0.0000</td><td>0.62120</td><td>⋯</td><td>0.000</td><td>0.00000</td><td>0.00000</td><td>0.00000</td><td>0.000</td><td>0.00000</td><td>0.61120</td><td>ENSG00000278267.1</td><td>MIR6859-1  </td><td>ENSG00000278267</td></tr>\n",
       "\t<tr><td>0.00000</td><td>0.00000</td><td>0.0000</td><td> 0.0000</td><td>0.00000</td><td>0.00000</td><td>0.00000</td><td>0.04532</td><td>0.0000</td><td>0.00000</td><td>⋯</td><td>0.000</td><td>0.09698</td><td>0.11430</td><td>0.00000</td><td>0.000</td><td>0.00000</td><td>0.00000</td><td>ENSG00000243485.5</td><td>MIR1302-2HG</td><td>ENSG00000243485</td></tr>\n",
       "\t<tr><td>0.00000</td><td>0.00000</td><td>0.0576</td><td> 0.0000</td><td>0.00000</td><td>0.00000</td><td>0.00000</td><td>0.00000</td><td>0.0000</td><td>0.00000</td><td>⋯</td><td>0.000</td><td>0.00000</td><td>0.04058</td><td>0.00000</td><td>0.000</td><td>0.00000</td><td>0.00000</td><td>ENSG00000237613.2</td><td>FAM138A    </td><td>ENSG00000237613</td></tr>\n",
       "\t<tr><td>0.00000</td><td>0.12410</td><td>0.0000</td><td> 0.0000</td><td>0.00000</td><td>0.00000</td><td>0.05129</td><td>0.00000</td><td>0.0000</td><td>0.00000</td><td>⋯</td><td>0.000</td><td>0.00000</td><td>0.00000</td><td>0.04975</td><td>0.000</td><td>0.00000</td><td>0.04948</td><td>ENSG00000268020.3</td><td>OR4G4P     </td><td>ENSG00000268020</td></tr>\n",
       "</tbody>\n",
       "</table>\n"
      ],
      "text/latex": [
       "A data.frame: 6 × 758\n",
       "\\begin{tabular}{r|llllllllllllllllllllllllllllllllllllllllllllllllllllllllllllllllllllllllllllllllllllllllllllllllllllllllllllllllllllllllllllllllllllllllllllllllllllllllllllllllllllllllllllllllllllllllllllllllllllllllllllllllllllllllllllllllllllllllllllllllllllllllllllllllllllllllllllllllllllllllllllllllllllllllllllllllllllllllllllllllllllllllllllllllllllllllllllllllllllllllllllllllllllllllllllllllllllllllllllllllllllllllllllllllllllllllllllllllllllllllllllllllllllllllllllllllllllllllllllllllllllllllllllllllllllllllllllllllllllllllllllllllllllllllllllllllllllllllllllllllllllllllllllllllllllllllllllllllllllllllllllllllllllllllllllllllllllllllllllllllllllllllllllllllllllllllllllllllllllllllllllllllllllllllllllllllllllllllllllllllllllllllllllllllllllllllllllllllllllll}\n",
       " GTEX-111YS-0006-SM-5NQBE & GTEX-1122O-0005-SM-5O99J & GTEX-1128S-0005-SM-5P9HI & GTEX-113IC-0006-SM-5NQ9C & GTEX-113JC-0006-SM-5O997 & GTEX-117XS-0005-SM-5PNU6 & GTEX-117YW-0005-SM-5NQ8Z & GTEX-1192W-0005-SM-5NQBQ & GTEX-1192X-0005-SM-5NQC3 & GTEX-11DXW-0006-SM-5NQ7Y & GTEX-11DXX-0005-SM-5NQ8B & GTEX-11DXY-0006-SM-5NQ8N & GTEX-11DXZ-0006-SM-5LZZH & GTEX-11DYG-0006-SM-5NQB2 & GTEX-11EI6-0005-SM-5N9GN & GTEX-11EM3-0005-SM-5N9DK & GTEX-11EMC-0006-SM-5O9DN & GTEX-11EQ8-0006-SM-5P9HJ & GTEX-11EQ9-0006-SM-5LUB6 & GTEX-11GS4-0006-SM-5SI9M & GTEX-11GSO-0005-SM-5O9CA & GTEX-11GSP-0006-SM-5N9EL & GTEX-11I78-0005-SM-5N9GB & GTEX-11LCK-0005-SM-5O98U & GTEX-11NUK-0005-SM-5MR5F & GTEX-11NV4-0005-SM-5N9EX & GTEX-11O72-0006-SM-5O9DB & GTEX-11OC5-0006-SM-5N9FA & GTEX-11OF3-0006-SM-5O9CM & GTEX-11ONC-0005-SM-5O9CY & GTEX-11P7K-0006-SM-5N9FM & GTEX-11P81-0006-SM-5NQ7A & GTEX-11P82-0006-SM-5N9FY & GTEX-11PRG-0005-SM-5NQ6X & GTEX-11TT1-0005-SM-5NQ8Y & GTEX-11TTK-0005-SM-5O9BX & GTEX-11TUW-0006-SM-5LZW2 & GTEX-11UD2-0005-SM-5NQ9B & GTEX-11VI4-0006-SM-5N9D8 & GTEX-11WQC-0006-SM-5LZVP & GTEX-11WQK-0005-SM-5O9AV & GTEX-11XUK-0005-SM-5LU9F & GTEX-11ZTS-0005-SM-5NQ8A & GTEX-11ZTT-0006-SM-5N9FX & GTEX-11ZU8-0005-SM-5PNU5 & GTEX-11ZUS-0006-SM-5O9AJ & GTEX-11ZVC-0006-SM-5N9GA & GTEX-1211K-0006-SM-5MR53 & GTEX-12126-0006-SM-5O9B8 & GTEX-1212Z-0006-SM-5NQ8M & GTEX-12584-0005-SM-5N9GM & GTEX-12696-0005-SM-5LZYS & GTEX-1269C-0005-SM-5N9CJ & GTEX-12BJ1-0006-SM-5SIB5 & GTEX-12C56-0006-SM-5N9E9 & GTEX-12KS4-0005-SM-5SI94 & GTEX-12WSC-0005-SM-5MR3H & GTEX-12WSD-0005-SM-5N9FZ & GTEX-12WSE-0005-SM-5NQAE & GTEX-12WSF-0005-SM-5NQAQ & GTEX-12WSG-0005-SM-5NQA2 & GTEX-12WSH-0005-SM-5NQ9P & GTEX-12WSI-0005-SM-5O99K & GTEX-12WSJ-0005-SM-5LU8S & GTEX-12WSK-0006-SM-5NQA1 & GTEX-12WSL-0005-SM-5NQAD & GTEX-12WSM-0005-SM-5NQB3 & GTEX-12WSN-0006-SM-5NQAP & GTEX-12ZZW-0005-SM-5O9BY & GTEX-12ZZX-0005-SM-5O9A9 & GTEX-13111-0005-SM-5NQ7Z & GTEX-13113-0006-SM-5NQ7X & GTEX-1313W-0006-SM-5O9B1 & GTEX-1314G-0005-SM-5NQ9O & GTEX-131XE-0006-SM-5P9F9 & GTEX-131XF-0006-SM-5P9HK & GTEX-131XG-0006-SM-5O9CE & GTEX-131XH-0006-SM-5O98V & GTEX-131XW-0006-SM-5O9AO & GTEX-131YS-0005-SM-5NQAS & GTEX-132AR-0006-SM-5NQ7N & GTEX-132NY-0005-SM-5O9AC & GTEX-132Q8-0006-SM-5NQA4 & GTEX-132QS-0005-SM-5LZXK & GTEX-1339X-0005-SM-5O9CQ & GTEX-1399R-0006-SM-5N9FR & GTEX-1399S-0006-SM-5NQ7U & GTEX-1399U-0005-SM-5NQ8K & GTEX-139D8-0006-SM-5LZX8 & GTEX-139T6-0006-SM-5LU92 & GTEX-139T8-0006-SM-5NQ6V & GTEX-139TS-0005-SM-5NQC1 & GTEX-139TT-0006-SM-5O9CG & GTEX-139TU-0006-SM-5LZVN & GTEX-139UW-0005-SM-5NQ8U & GTEX-13CF2-0006-SM-5O99L & GTEX-13CF3-0006-SM-5N9ED & GTEX-13CIG-0006-SM-5P9HF & GTEX-13CZU-0005-SM-5LU8K & GTEX-13FTW-0005-SM-5LZVZ & GTEX-13FTX-0005-SM-5N9F6 & GTEX-13FTY-0005-SM-5NQ78 & GTEX-13FTZ-0005-SM-5NQ9N & GTEX-13FXS-0006-SM-5O99X & GTEX-13G51-0005-SM-5N9EP & GTEX-13JUV-0006-SM-5NQ97 & GTEX-13O61-0005-SM-5O9AU & GTEX-13OVG-0005-SM-5P9HA & GTEX-13OVH-0005-SM-5P9HB & GTEX-13OVI-0001-SM-5O9BL & GTEX-13OVJ-0006-SM-5O98T & GTEX-13OVK-0006-SM-5O9B7 & GTEX-13OVL-0006-SM-5O996 & GTEX-13OW6-0005-SM-5NQ9Z & GTEX-13OW8-0005-SM-5NQAC & GTEX-13PL7-0005-SM-5N9ET & GTEX-13PLJ-0005-SM-5NQ99 & GTEX-13S7M-0005-SM-5NQ76 & GTEX-13S86-0005-SM-5NQ7I & GTEX-13SLX-0005-SM-CM2RF & GTEX-13U4I-0006-SM-5N9CI & GTEX-13VXT-0005-SM-5N9F3 & GTEX-13VXU-0006-SM-5N9FF & GTEX-13W3W-0005-SM-5SI9Y & GTEX-1477Z-0005-SM-5PNWD & GTEX-147F3-0005-SM-5N9FI & GTEX-147F4-0006-SM-5O99T & GTEX-147GR-0005-SM-5NQAO & GTEX-147JS-0006-SM-5NQ7K & GTEX-148VI-0006-SM-5O9A6 & GTEX-148VJ-0006-SM-5NQB1 & GTEX-1497J-0005-SM-5NQBD & GTEX-14A5H-0006-SM-5O9AI & GTEX-14A5I-0005-SM-5N9FU & GTEX-14A6H-0006-SM-5NQ7W & GTEX-14ABY-0005-SM-5O99U & GTEX-14AS3-0006-SM-5NQC2 & GTEX-14B4R-0006-SM-5O9A7 & GTEX-14BIL-0006-SM-5N9F2 & GTEX-14BIM-0006-SM-5O9AA & GTEX-14BIN-0005-SM-5N9FE & GTEX-14BMU-0006-SM-5MR3T & GTEX-14BMV-0005-SM-5NQ6Y & GTEX-14C38-0006-SM-5NQBF & GTEX-14C39-0005-SM-5NQBR & GTEX-14C5O-0005-SM-5P9ER & GTEX-14DAQ-0005-SM-5NQ7B & GTEX-14DAR-0006-SM-5N9GC & GTEX-14E1K-0006-SM-5N9DY & GTEX-14E6C-0005-SM-5O98N & GTEX-14E6D-0005-SM-5N9D7 & GTEX-14E6E-0006-SM-5MR5N & GTEX-14E7W-0006-SM-5N9GG & GTEX-14H4A-0006-SM-5N9E3 & GTEX-14ICK-0006-SM-5NQB5 & GTEX-14ICL-0006-SM-5SIAB & GTEX-14JFF-0005-SM-7P8RF & GTEX-14JG1-0006-SM-7SB6P & GTEX-14JG6-0005-SM-9JGFV & GTEX-14JIY-0005-SM-7MXVF & GTEX-14LLW-0006-SM-9QEGG & GTEX-14LZ3-0005-SM-7MXUG & GTEX-14PHW-0005-SM-9KNTK & GTEX-14PHY-0006-SM-7SB7I & GTEX-14PII-0005-SM-7RHFV & GTEX-14PJ2-0005-SM-9JGFU & GTEX-14PJ3-0005-SM-9JGFT & GTEX-14PJ4-0006-SM-7RHFY & GTEX-14PJ5-0005-SM-9MQLO & GTEX-14PJ6-0006-SM-7P8RE & GTEX-14PJM-0006-SM-9JGHA & GTEX-14PJN-0005-SM-9JGGF & GTEX-14PJO-0005-SM-9JGGY & GTEX-14PJP-0005-SM-7P8OM & GTEX-14PK6-0006-SM-7PC1L & GTEX-14PKU-0005-SM-9KNTL & GTEX-14PKV-0006-SM-9MQL3 & GTEX-14PN3-0006-SM-7SB6O & GTEX-14PN4-0005-SM-7PC21 & GTEX-14PQA-0006-SM-7PC2D & GTEX-14XAO-0006-SM-7RHFX & GTEX-15CHC-0006-SM-7P8RG & GTEX-15CHQ-0005-SM-7P8RH & GTEX-15CHR-0005-SM-9KNUS & GTEX-15D1Q-0006-SM-9KNTN & GTEX-15D79-0005-SM-7P8TS & GTEX-15DCD-0006-SM-7RHG4 & GTEX-15DCE-0005-SM-7SB7J & GTEX-15DYW-0006-SM-7RHFR & GTEX-15DZA-0005-SM-9JGFP & GTEX-15EO6-0005-SM-7PBZC & GTEX-15ETS-0005-SM-9KNTJ & GTEX-15EU6-0005-SM-7P8RJ & GTEX-15G19-0006-SM-9KNW6 & GTEX-15G1A-0006-SM-7PC1Z & GTEX-15RIE-0006-SM-7MKF8 & GTEX-15RIF-0005-SM-7RHGH & GTEX-15RIG-0006-SM-7PC1N & GTEX-15RJ7-0006-SM-7RHHM & GTEX-15RJE-0006-SM-7PC1J & GTEX-15SB6-0005-SM-7P8OO & GTEX-15SDE-0006-SM-7PC19 & GTEX-16AAH-0005-SM-7P8RD & GTEX-16BQI-0006-SM-7SB6K & GTEX-16MT8-0005-SM-7PBYO & GTEX-16MT9-0006-SM-7MXTU & GTEX-16MTA-0005-SM-7RHFT & GTEX-16NGA-0006-SM-9JGFQ & GTEX-16NPV-0005-SM-7PC2F & GTEX-16NPX-0005-SM-7MKGG & GTEX-16XZY-0006-SM-7SB99 & GTEX-16XZZ-0006-SM-7MKF5 & GTEX-16YQH-0006-SM-7P8OQ & GTEX-16Z82-0005-SM-7PBXZ & GTEX-178AV-0005-SM-9JGFM & GTEX-17EUY-0006-SM-7P8SB & GTEX-17EVP-0005-SM-7P8RC & GTEX-17EVQ-0006-SM-7MGWB & GTEX-17GQL-0005-SM-7MKF4 & GTEX-17HG3-0006-SM-7MKFE & GTEX-17HGU-0006-SM-7MXT8 & GTEX-17HHE-0005-SM-7P8OT & GTEX-17HHY-0006-SM-7MXT4 & GTEX-17HII-0005-SM-7MKF6 & GTEX-17JCI-0005-SM-7P8OL & GTEX-17KNJ-0005-SM-7PBYB & GTEX-17MFQ-0006-SM-7PBXP & GTEX-183FY-0005-SM-9KNTO & GTEX-183WM-0005-SM-9JGFW & GTEX-18465-0006-SM-7SB6R & GTEX-18A66-0005-SM-7SB6U & GTEX-18A67-0006-SM-7SB6T & GTEX-18A6Q-0005-SM-9KNVX & GTEX-18A7A-0006-SM-7PC1P & GTEX-18A7B-0005-SM-7PC1D & GTEX-18D9A-0005-SM-7SB7H & GTEX-18D9B-0005-SM-7PBYL & GTEX-18D9U-0006-SM-7SB6M & GTEX-18QFQ-0006-SM-7SB6X & GTEX-1A32A-0006-SM-7PC1Y & GTEX-1A3MV-0005-SM-7PC1O & GTEX-1A3MW-0006-SM-7MKGU & GTEX-1A3MX-0005-SM-7MGW7 & GTEX-1A8FM-0006-SM-7MGWI & GTEX-1A8G6-0006-SM-7PC1X & GTEX-1A8G7-0006-SM-7P8RM & GTEX-1AMEY-0005-SM-7PBYK & GTEX-1AMFI-0006-SM-9KNTQ & GTEX-1AX8Z-0006-SM-9KNVB & GTEX-1AX9I-0005-SM-9MQKI & GTEX-1AX9J-0005-SM-9MQKU & GTEX-1AX9K-0006-SM-9KNVP & GTEX-1AYCT-0005-SM-7SB6V & GTEX-1AYD5-0005-SM-7SB6L & GTEX-1B8KE-0006-SM-7SB6W & GTEX-1B8KZ-0006-SM-7MXTJ & GTEX-1B8L1-0005-SM-9MQK6 & GTEX-1B8SF-0005-SM-7MGVK & GTEX-1B8SG-0006-SM-7MKFA & GTEX-1B932-0005-SM-9KNTP & GTEX-1B933-0006-SM-7P8OP & GTEX-1B97I-0005-SM-7PC1M & GTEX-1B97J-0005-SM-7MXT5 & GTEX-1B996-0006-SM-7P8OS & GTEX-1BAJH-0005-SM-7PC1R & GTEX-1C2JI-0006-SM-7PC3Q & GTEX-1C475-0006-SM-9MQL7 & GTEX-1C4CL-0005-SM-7MKF3 & GTEX-1C64N-0005-SM-7PBY7 & GTEX-1C64O-0006-SM-7PC22 & GTEX-1C6VQ-0005-SM-7P8OR & GTEX-1C6VR-0005-SM-7MKF7 & GTEX-1C6VS-0005-SM-7MGWG & GTEX-1CAMR-0006-SM-ACKV5 & GTEX-1CAMS-0005-SM-ARL6Y & GTEX-1CB4E-0005-SM-ADEGS & GTEX-1CB4G-0006-SM-AHZ22 & GTEX-1CB4H-0006-SM-A96RE & GTEX-1CB4I-0006-SM-A96RF & GTEX-1CB4J-0006-SM-ACKV6 & GTEX-1E1VI-0005-SM-ARU6H & GTEX-1E2YA-0006-SM-AHZ23 & GTEX-1EH9U-0005-SM-ACKV3 & GTEX-1EKGG-0005-SM-AHZ1Z & GTEX-1EMGI-0006-SM-ACKVA & GTEX-1EN7A-0006-SM-AHZ4O & GTEX-1EU9M-0006-SM-ARU6I & GTEX-1EWIQ-0005-SM-ADEHB & GTEX-1EX96-0006-SM-ARU6J & GTEX-1F48J-0006-SM-ARL6W & GTEX-1F52S-0006-SM-ARL6X & GTEX-1F5PK-0005-SM-A96RM & GTEX-1F6I4-0005-SM-ARZKZ & GTEX-1F6IF-0005-SM-ARU6K & GTEX-1F75I-0005-SM-ADEHC & GTEX-1F75W-0005-SM-A9SMP & GTEX-1F7RK-0006-SM-ACKV4 & GTEX-1F88F-0005-SM-A9SK2 & GTEX-1GF9U-0005-SM-A9SK1 & GTEX-1GF9V-0006-SM-A96RD & GTEX-1GF9W-0006-SM-ARZL1 & GTEX-1GF9X-0005-SM-A9G3R & GTEX-1GMR2-0005-SM-ADEH3 & GTEX-1GMR3-0005-SM-ADEGR & GTEX-1GMR8-0005-SM-ARZL2 & GTEX-1GMRU-0006-SM-AHZ21 & GTEX-1GN1U-0006-SM-ARU6G & GTEX-1GN1V-0006-SM-ADEHD & GTEX-1GN1W-0006-SM-A9SKL & GTEX-1GN2E-0005-SM-ARU6L & GTEX-1GN73-0005-SM-ACKVI & GTEX-1GPI6-0005-SM-ADEGT & GTEX-1GPI7-0005-SM-A9G13 & GTEX-1GTWX-0006-SM-ARZL3 & GTEX-1GZ2Q-0005-SM-ARL71 & GTEX-1GZ4H-0005-SM-ARZL7 & GTEX-1GZHY-0005-SM-ARZL6 & GTEX-1H11D-0005-SM-ACKV7 & GTEX-1H1CY-0005-SM-A9G15 & GTEX-1H1DE-0005-SM-A9SK4 & GTEX-1H1DF-0005-SM-ADEGU & GTEX-1H1DG-0006-SM-ARZL4 & GTEX-1H1E6-0005-SM-ARZL5 & GTEX-1H23P-0005-SM-A9G14 & GTEX-1H3NZ-0005-SM-A96RG & GTEX-1H3O1-0005-SM-ACKV8 & GTEX-1H4P4-0006-SM-AHZ24 & GTEX-1HB9E-0006-SM-ARU6M & GTEX-1HBPI-0005-SM-ARZLB & GTEX-1HBPM-0006-SM-A9SKK & GTEX-1HC8U-0005-SM-ADEGV & GTEX-1HCU6-0005-SM-AHZ28 & GTEX-1HCU7-0006-SM-A9G19 & GTEX-1HCU8-0005-SM-A96RL & GTEX-1HCU9-0005-SM-A9G1A & GTEX-1HCUA-0006-SM-ACKV9 & GTEX-1HCVE-0006-SM-ADEH2 & GTEX-1HFI6-0005-SM-A9SK6 & GTEX-1HFI7-0005-SM-ADEH1 & GTEX-1HKZK-0005-SM-ARL73 & GTEX-1HR98-0005-SM-A9SKM & GTEX-1HR9M-0005-SM-AHZ26 & GTEX-1HSGN-0006-SM-ACKVH & GTEX-1HSKV-0006-SM-ARZL9 & GTEX-1HSMO-0005-SM-ADEGW & GTEX-1HSMP-0006-SM-AHZ25 & GTEX-1HSMQ-0006-SM-ARU6N & GTEX-1HT8W-0006-SM-A9G17 & GTEX-1HUB1-0005-SM-ARL74 & GTEX-1I19N-0006-SM-A9G18 & GTEX-1I1CD-0005-SM-ADEGY & GTEX-1I1GP-0006-SM-A96RJ & GTEX-1I1GQ-0005-SM-ARU6O & GTEX-1I1GR-0006-SM-ARL75 & GTEX-1I1GS-0005-SM-DHXIW & GTEX-1I1GT-0005-SM-A9SK5 & GTEX-1I1GV-0005-SM-AHZ27 & GTEX-1I1HK-0005-SM-ARZL8 & GTEX-1I4MK-0006-SM-A96RI & GTEX-1I6K6-0006-SM-ARZLA & GTEX-1I6K7-0005-SM-ARL72 & GTEX-1ICG6-0006-SM-A96RH & GTEX-1ICLY-0005-SM-A9G16 & GTEX-1IDFM-0005-SM-ADEGX & GTEX-1IDJC-0005-SM-A9G1C & GTEX-1IDJD-0006-SM-ARZLC & GTEX-1IDJE-0006-SM-A9G1B & GTEX-1IDJF-0005-SM-ARU6P & GTEX-1IDJH-0006-SM-CMKFT & GTEX-1IDJI-0006-SM-CMKFJ & GTEX-1IDJU-0006-SM-CMKFK & GTEX-1IE54-0005-SM-CMKFQ & GTEX-1IGQW-0005-SM-CMKFR & GTEX-1IKJJ-0005-SM-CMKFS & GTEX-1IKK5-0006-SM-CMKFI & GTEX-1IKOE-0005-SM-CMKFL & GTEX-1IKOH-0006-SM-CMKFM & GTEX-1IL2U-0006-SM-CMKFP & GTEX-1IL2V-0006-SM-CMKFN & GTEX-1IOXB-0006-SM-CMKFO & GTEX-1IY9M-0005-SM-CNNOU & GTEX-1J8EW-0006-SM-CNNOW & GTEX-1J8JJ-0006-SM-CNNOX & GTEX-1J8Q2-0006-SM-CNNOZ & GTEX-1J8Q3-0005-SM-CNNOY & GTEX-1J8QM-0006-SM-CNNP1 & GTEX-1JJ6O-0005-SM-DHXJ4 & GTEX-1JJE9-0006-SM-CGQEB & GTEX-1JJEA-0006-SM-DHXJ2 & GTEX-1JK1U-0006-SM-DHXJ3 & GTEX-1JKYN-0006-SM-DHXJ5 & GTEX-1JKYR-0005-SM-DHXL5 & GTEX-1JMLX-0006-SM-DHXJ6 & GTEX-1JMOU-0006-SM-DHXJ7 & GTEX-1JMPY-0006-SM-DHXJ8 & GTEX-1JMPZ-0006-SM-DHXJ9 & GTEX-1JMQI-0005-SM-DHXJA & GTEX-1JMQJ-0006-SM-DHXJD & GTEX-1JMQK-0005-SM-CNPOE & GTEX-1JMQL-0006-SM-DHXJB & GTEX-1JN1M-0006-SM-DHXJE & GTEX-1JN6P-0005-SM-DIPEH & GTEX-1JN76-0005-SM-EAZ3B & GTEX-1K2DA-0005-SM-DIPE7 & GTEX-1K2DU-0005-SM-DIPE8 & GTEX-1K9T9-0006-SM-DIPE9 & GTEX-1KAFJ-0006-SM-9WPO1 & GTEX-1KANA-0006-SM-9YFLB & GTEX-1KANB-0006-SM-DIPE6 & GTEX-1KANC-0006-SM-9YFL8 & GTEX-1KD4Q-0006-SM-DIPEA & GTEX-1KD5A-0006-SM-DIPEB & GTEX-1KWVE-0005-SM-CYPSE & GTEX-1KXAM-0005-SM-DIPEC & GTEX-1L5NE-0005-SM-DIPEG & GTEX-1LB8K-0005-SM-DIPED & GTEX-1LBAC-0005-SM-DIPEE & GTEX-1LC47-0005-SM-COH2J & GTEX-1LG7Y-0005-SM-DKPQ7 & GTEX-1LG7Z-0005-SM-DKPQ6 & GTEX-1LGOU-0005-SM-DKPPW & GTEX-1LGRB-0006-SM-DKPPB & GTEX-1LH75-0006-SM-CXZIP & GTEX-1LKK1-0005-SM-CXZIT & GTEX-1LNCM-0005-SM-CXZIR & GTEX-1LSNL-0006-SM-CXZIV & GTEX-1LSNM-0005-SM-CXZIW & GTEX-1LSVX-0005-SM-DKPPI & GTEX-1LVA9-0006-SM-DKPPN & GTEX-1LVAM-0005-SM-CXZJ4 & GTEX-1LVAN-0005-SM-DKPPM & GTEX-1LVAO-0006-SM-CXZIU & GTEX-1M4P7-0005-SM-CXZIS & GTEX-1M5QR-0005-SM-DKPPP & GTEX-1MA7W-0006-SM-DKPPR & GTEX-1MA7X-0006-SM-CXZJ6 & GTEX-1MCC2-0006-SM-DKPPJ & GTEX-1MCQQ-0005-SM-DKPPV & GTEX-1MCYP-0005-SM-DKPPK & GTEX-1MGNQ-0005-SM-CXZJ1 & GTEX-1MJIX-0006-SM-DKPPU & GTEX-1MJK2-0006-SM-CXZIN & GTEX-1MJK3-0006-SM-DKPP9 & GTEX-1MUQO-0005-SM-DKPPT & GTEX-1N2DW-0006-SM-DKPP4 & GTEX-1N2EE-0005-SM-DKPP5 & GTEX-1N2EF-0005-SM-CXZIL & GTEX-1N5O9-0006-SM-DKPPS & GTEX-1NHNU-0005-SM-DKPP3 & GTEX-1NSGN-0005-SM-DKPPX & GTEX-1NUQO-0005-SM-DKPP2 & GTEX-1NV8Z-0005-SM-DKPQ3 & GTEX-1O97I-0005-SM-DKPPY & GTEX-1O9I2-0005-SM-DKPQ1 & GTEX-1OFPY-0005-SM-DKPPZ & GTEX-1OJC3-0006-SM-DKPP1 & GTEX-1OJC4-0005-SM-DKPQ4 & GTEX-1OKEX-0006-SM-DKPQ2 & GTEX-1P4AB-0005-SM-CY8GM & GTEX-1PBJI-0005-SM-CJI1Y & GTEX-1PBJJ-0005-SM-CKZND & GTEX-1PDJ9-0006-SM-CY8GN & GTEX-1PFEY-0005-SM-CY8GO & GTEX-1PIEJ-0005-SM-DLZQL & GTEX-1PIGE-0005-SM-DLZQM & GTEX-1PIIG-0006-SM-DLZQF & GTEX-1POEN-0005-SM-DLZQN & GTEX-1PPH6-0005-SM-DLZQP & GTEX-1PPH7-0005-SM-CKZNE & GTEX-1PPH8-0006-SM-CY8GS & GTEX-1PWST-0005-SM-DLZQC & GTEX-1QAET-0006-SM-DLZQQ & GTEX-1QCLY-0005-SM-DLZQS & GTEX-1QCLZ-0006-SM-CY8GW & GTEX-1QEPI-0006-SM-CY8GY & GTEX-1QMI2-0006-SM-CY8H1 & GTEX-1QP28-0006-SM-DLZQW & GTEX-1QP29-0005-SM-DLZQX & GTEX-1QP66-0005-SM-CY8H4 & GTEX-1QP67-0006-SM-CY8H5 & GTEX-1QP9N-0005-SM-CY8H9 & GTEX-1QPFJ-0006-SM-CY8HB & GTEX-1QW4Y-0005-SM-DO93W & GTEX-1R46S-0006-SM-DO93Y & GTEX-1R7EU-0006-SM-DO93C & GTEX-1R7EV-0005-SM-DO938 & GTEX-1R9JW-0002-SM-DO93B & GTEX-1R9K4-0006-SM-CYPRM & GTEX-1R9K5-0006-SM-DO939 & GTEX-1R9PM-0006-SM-CYPTI & GTEX-1R9PN-0006-SM-DTX7L & GTEX-1R9PO-0006-SM-DO937 & GTEX-1RAZA-0006-SM-CKZO9 & GTEX-1RAZQ-0005-SM-DO93U & GTEX-1RAZR-0006-SM-DLHBR & GTEX-1RAZS-0005-SM-DO93D & GTEX-1RB15-0005-SM-CL53N & GTEX-1RDX4-0005-SM-DLHBS & GTEX-1RLM8-0005-SM-DO121 & GTEX-1RMOY-0005-SM-DO11X & GTEX-1RNTQ-0006-SM-CYPRG & GTEX-1RQEC-0006-SM-CL542 & GTEX-1RQED-0005-SM-DO11Z & GTEX-1S3DN-0006-SM-DO127 & GTEX-1S5VW-0005-SM-CYPS4 & GTEX-1S5ZA-0005-SM-CYPS2 & GTEX-1S5ZU-0005-SM-CYPS3 & GTEX-1S82P-0005-SM-CM2RX & GTEX-1S82U-0005-SM-CYPRW & GTEX-1S82Y-0005-SM-DO123 & GTEX-1S82Z-0006-SM-DLHC5 & GTEX-1S831-0006-SM-DLHC1 & GTEX-1S83E-0006-SM-DLHBW & GTEX-N7MS-0007-SM-2D7W1 & GTEX-N7MT-0007-SM-3GACQ & GTEX-NFK9-0006-SM-3GACS & GTEX-NPJ7-0006-SM-3GACR & GTEX-NPJ8-0007-SM-2D7VX & GTEX-O5YT-0007-SM-32PK7 & GTEX-O5YW-0006-SM-3LK6E & GTEX-OHPK-0006-SM-2HMKH & GTEX-OHPL-0006-SM-3MJHB & GTEX-OHPM-0006-SM-2HMKU & GTEX-OHPN-0005-SM-2YUML & GTEX-OIZF-0006-SM-2I5GQ & GTEX-OIZH-0005-SM-2HMJN & GTEX-OIZI-0005-SM-2XCED & GTEX-OOBJ-0006-SM-2I3F4 & GTEX-OOBK-0005-SM-2YUMG & GTEX-OXRL-0005-SM-3LK6A & GTEX-OXRO-0006-SM-2I5EM & GTEX-OXRP-0006-SM-2I3FN & GTEX-P44G-0006-SM-2TC6A & GTEX-P44H-0006-SM-2XCFB & GTEX-P4PP-0005-SM-2HMKX & GTEX-P4PQ-0005-SM-2HMKJ & GTEX-P4QS-0005-SM-2I3EY & GTEX-P78B-0005-SM-2I5GM & GTEX-PLZ4-0006-SM-CYPR7 & GTEX-PLZ5-0006-SM-DIPE2 & GTEX-PLZ6-0006-SM-33HBZ & GTEX-POMQ-0006-SM-5SI7D & GTEX-POYW-0006-SM-2XCF4 & GTEX-PSDG-0005-SM-3GADC & GTEX-PVOW-0006-SM-3NMB8 & GTEX-PW2O-0006-SM-2I3DV & GTEX-PWCY-0005-SM-DHXL3 & GTEX-PWN1-0006-SM-CYPR2 & GTEX-PX3G-0006-SM-5SI7E & GTEX-Q2AG-0005-SM-5SI7F & GTEX-Q2AH-0005-SM-33HBR & GTEX-Q2AI-0006-SM-2I3FG & GTEX-Q734-0006-SM-2I3FJ & GTEX-QCQG-0006-SM-DIPE5 & GTEX-QDT8-0006-SM-CXZJC & GTEX-QDVJ-0005-SM-2TC5X & GTEX-QDVN-0006-SM-48U1R & GTEX-QEG4-0006-SM-2I5FY & GTEX-QEG5-0006-SM-2I5FZ & GTEX-QESD-0006-SM-2I5G6 & GTEX-QLQ7-0005-SM-2S1QP & GTEX-QLQW-0005-SM-2S1RA & GTEX-QMR6-0005-SM-32PKY & GTEX-QMRM-0005-SM-3NB2A & GTEX-QV31-0006-SM-793B5 & GTEX-QVJO-0006-SM-2S1RC & GTEX-QVUS-0006-SM-3GAE8 & GTEX-QXCU-0006-SM-2TC5K & GTEX-R3RS-0005-SM-3GAEH & GTEX-R45C-0006-SM-3GAD6 & GTEX-R53T-0005-SM-3GADK & GTEX-R55C-0005-SM-3GAE9 & GTEX-R55D-0006-SM-3GIJS & GTEX-R55E-0006-SM-2TC5G & GTEX-R55G-0006-SM-2TC6O & GTEX-REY6-0005-SM-2TF54 & GTEX-RM2N-0006-SM-2TF5H & GTEX-RN64-0005-SM-793B4 & GTEX-RNOR-0005-SM-2TF4Z & GTEX-RTLS-0006-SM-2TF58 & GTEX-RU1J-0006-SM-2TF6M & GTEX-RU72-0006-SM-2TF65 & GTEX-RUSQ-0006-SM-2TF6P & GTEX-RVPV-0006-SM-2TF6Q & GTEX-RWS6-0005-SM-2XCAN & GTEX-RWSA-0005-SM-2XCAO & GTEX-S32W-0006-SM-2XCAK & GTEX-S33H-0005-SM-2XCAL & GTEX-S341-0006-SM-3NM8D & GTEX-S7PM-0006-SM-3NM8C & GTEX-S7SE-0005-SM-2XCEA & GTEX-S95S-0005-SM-2XCEC & GTEX-SE5C-0006-SM-4BRW5 & GTEX-SIU8-0006-SM-2XCE5 & GTEX-SJXC-0005-SM-2XCE7 & GTEX-SN8G-0006-SM-32PLD & GTEX-SNMC-0006-SM-2XCFE & GTEX-SNOS-0006-SM-32PLH & GTEX-SSA3-0005-SM-32QOT & GTEX-SUCS-0006-SM-4DM59 & GTEX-T2YK-0005-SM-32QOV & GTEX-T5JC-0006-SM-EZ6L9 & GTEX-T5JW-0005-SM-3GADE & GTEX-T6MN-0005-SM-32PLJ & GTEX-T6MO-0006-SM-32QOU & GTEX-T8EM-0006-SM-3DB71 & GTEX-TKQ1-0006-SM-33HBI & GTEX-TKQ2-0006-SM-33HBH & GTEX-TML8-0005-SM-32QPA & GTEX-TMMY-0005-SM-33HBN & GTEX-TMZS-0006-SM-3DB8G & GTEX-TSE9-0005-SM-4DXUF & GTEX-U3ZG-0006-SM-47JWX & GTEX-U3ZH-0005-SM-3DB72 & GTEX-U3ZN-0006-SM-3DB7Y & GTEX-U4B1-0006-SM-3DB8E & GTEX-U8T8-0005-SM-3DB8F & GTEX-U8XE-0005-SM-3DB8I & GTEX-UJHI-0006-SM-3DB8H & GTEX-UJMC-0005-SM-3GACU & GTEX-UPJH-0006-SM-3GACW & GTEX-UPK5-0006-SM-3GAD8 & GTEX-UTHO-0006-SM-3NMCC & GTEX-V1D1-0006-SM-3NMCE & GTEX-V955-0005-SM-3P5ZC & GTEX-VJWN-0005-SM-3GIKF & GTEX-VJYA-0005-SM-3P5ZD & GTEX-VUSG-0006-SM-3GIK9 & GTEX-VUSH-0005-SM-3NB2H & GTEX-W5WG-0006-SM-3GIJT & GTEX-W5X1-0006-SM-3GIJZ & GTEX-WCDI-0005-SM-3NB2M & GTEX-WEY5-0006-SM-3GIKG & GTEX-WFG7-0005-SM-3GIKM & GTEX-WFG8-0006-SM-3GIKS & GTEX-WFJO-0005-SM-3GIKY & GTEX-WFON-0005-SM-3NMC9 & GTEX-WH7G-0005-SM-3NMBX & GTEX-WHPG-0006-SM-3NMBV & GTEX-WHSB-0005-SM-3LK7C & GTEX-WHSE-0006-SM-3NMBW & GTEX-WHWD-0005-SM-3LK7D & GTEX-WI4N-0005-SM-3LK7E & GTEX-WK11-0006-SM-3NB3J & GTEX-WL46-0006-SM-4OOS5 & GTEX-WOFL-0006-SM-3TW8K & GTEX-WOFM-0005-SM-3MJF3 & GTEX-WQUQ-0006-SM-3MJF4 & GTEX-WRHK-0005-SM-3MJF5 & GTEX-WRHU-0006-SM-3MJF6 & GTEX-WVLH-0006-SM-3MJF7 & GTEX-WWYW-0005-SM-3NB3K & GTEX-WXYG-0005-SM-3NB3M & GTEX-WY7C-0006-SM-3NB3L & GTEX-WYBS-0005-SM-4ONDR & GTEX-WYJK-0005-SM-3NMA1 & GTEX-WYVS-0006-SM-3NMA7 & GTEX-WZTO-0006-SM-3NM9T & GTEX-X15G-0005-SM-3NMDA & GTEX-X261-0005-SM-4PQYX & GTEX-X3Y1-0006-SM-3P5ZG & GTEX-X4EO-0006-SM-3P5ZF & GTEX-X4EP-0005-SM-3P5ZE & GTEX-X4LF-0006-SM-3NMCO & GTEX-X4XX-0005-SM-3NMCS & GTEX-X4XY-0006-SM-46MV2 & GTEX-X585-0005-SM-46MV3 & GTEX-X5EB-0006-SM-46MV5 & GTEX-X62O-0005-SM-46MV1 & GTEX-X638-0005-SM-47JX6 & GTEX-X88G-0006-SM-47JX5 & GTEX-X8HC-0006-SM-46MV6 & GTEX-XAJ8-0006-SM-46MVM & GTEX-XBEC-0006-SM-4AT5T & GTEX-XBED-0006-SM-47JXO & GTEX-XBEW-0006-SM-4AT4E & GTEX-XGQ4-0005-SM-4AT5U & GTEX-XK95-0005-SM-4AT4S & GTEX-XLM4-0005-SM-4AT4P & GTEX-XMD1-0006-SM-4AT4Q & GTEX-XMD2-0006-SM-4WWEG & GTEX-XMD3-0006-SM-4AT5X & GTEX-XMK1-0005-SM-4B665 & GTEX-XOT4-0005-SM-4B64S & GTEX-XPT6-0006-SM-4B66Q & GTEX-XPVG-0006-SM-4B65Z & GTEX-XQ3S-0006-SM-4BOQ4 & GTEX-XQ8I-0006-SM-4BOQ5 & GTEX-XUW1-0005-SM-4BOQ7 & GTEX-XUYS-0005-SM-47JZ2 & GTEX-XUZC-0005-SM-4BOQ8 & GTEX-XXEK-0005-SM-4BRWJ & GTEX-XYKS-0005-SM-4BRUD & GTEX-Y111-0006-SM-4SOIO & GTEX-Y114-0006-SM-4TT76 & GTEX-Y3I4-0006-SM-4TT1E & GTEX-Y3IK-0005-SM-4WWDE & GTEX-Y5LM-0005-SM-4V6EJ & GTEX-Y5V5-0006-SM-4V6FE & GTEX-Y5V6-0005-SM-4V6FD & GTEX-Y8DK-0005-SM-4RGNR & GTEX-Y8E4-0006-SM-4V6EW & GTEX-Y8E5-0006-SM-47JWQ & GTEX-Y8LW-0005-SM-4V6EV & GTEX-Y9LG-0006-SM-4VBRK & GTEX-YB5E-0005-SM-4VDSO & GTEX-YB5K-0005-SM-4VDSP & GTEX-YBZK-0005-SM-59HKG & GTEX-YEC3-0005-SM-4W21J & GTEX-YEC4-0001-SM-4W1Y6 & GTEX-YECK-0005-SM-4W217 & GTEX-YF7O-0005-SM-4W1ZU & GTEX-YFC4-0006-SM-4RGLV & GTEX-YFCO-0005-SM-4W1ZI & GTEX-Z93S-0005-SM-4RGLW & GTEX-ZAB4-0005-SM-4RGM8 & GTEX-ZC5H-0005-SM-4WAXM & GTEX-ZDTS-0006-SM-4WAYZ & GTEX-ZDTT-0006-SM-4WKFP & GTEX-ZDXO-0006-SM-4WKGF & GTEX-ZDYS-0002-SM-4WKGR & GTEX-ZE7O-0006-SM-51MTA & GTEX-ZE9C-0006-SM-4WKG2 & GTEX-ZEX8-0005-SM-4WKGE & GTEX-ZF28-0005-SM-4WKH3 & GTEX-ZF29-0006-SM-4WKGQ & GTEX-ZF2S-0006-SM-4WKHF & GTEX-ZF3C-0005-SM-4WWAR & GTEX-ZG7Y-0006-SM-4WWEA & GTEX-ZGAY-0006-SM-4WWAQ & GTEX-ZLV1-0005-SM-4WWAP & GTEX-ZP4G-0006-SM-4WWE6 & GTEX-ZPCL-0006-SM-4WWAS & GTEX-ZPIC-0005-SM-4WWEB & GTEX-ZPU1-0006-SM-4WWAT & GTEX-ZQG8-0005-SM-4YCEH & GTEX-ZQUD-0005-SM-4YCE5 & GTEX-ZT9W-0005-SM-4YCEG & GTEX-ZTPG-0006-SM-4YCFG & GTEX-ZTSS-0005-SM-4YCDR & GTEX-ZTTD-0006-SM-51MSJ & GTEX-ZTX8-0006-SM-4YCE4 & GTEX-ZUA1-0005-SM-4YCEV & GTEX-ZV68-0006-SM-4YCEJ & GTEX-ZV7C-0005-SM-57WDL & GTEX-ZVE2-0006-SM-51MRW & GTEX-ZVP2-0005-SM-51MRK & GTEX-ZVT2-0005-SM-57WBW & GTEX-ZVT3-0006-SM-51MT9 & GTEX-ZVT4-0006-SM-57WB8 & GTEX-ZVTK-0006-SM-57WBK & GTEX-ZVZP-0006-SM-51MSW & GTEX-ZVZQ-0006-SM-51MR8 & GTEX-ZXES-0005-SM-57WCB & GTEX-ZXG5-0005-SM-57WCN & Name & Description & NameClean\\\\\n",
       " <dbl> & <dbl> & <dbl> & <dbl> & <dbl> & <dbl> & <dbl> & <dbl> & <dbl> & <dbl> & <dbl> & <dbl> & <dbl> & <dbl> & <dbl> & <dbl> & <dbl> & <dbl> & <dbl> & <dbl> & <dbl> & <dbl> & <dbl> & <dbl> & <dbl> & <dbl> & <dbl> & <dbl> & <dbl> & <dbl> & <dbl> & <dbl> & <dbl> & <dbl> & <dbl> & <dbl> & <dbl> & <dbl> & <dbl> & <dbl> & <dbl> & <dbl> & <dbl> & <dbl> & <dbl> & <dbl> & <dbl> & <dbl> & <dbl> & <dbl> & <dbl> & <dbl> & <dbl> & <dbl> & <dbl> & <dbl> & <dbl> & <dbl> & <dbl> & <dbl> & <dbl> & <dbl> & <dbl> & <dbl> & <dbl> & <dbl> & <dbl> & <dbl> & <dbl> & <dbl> & <dbl> & <dbl> & <dbl> & <dbl> & <dbl> & <dbl> & <dbl> & <dbl> & <dbl> & <dbl> & <dbl> & <dbl> & <dbl> & <dbl> & <dbl> & <dbl> & <dbl> & <dbl> & <dbl> & <dbl> & <dbl> & <dbl> & <dbl> & <dbl> & <dbl> & <dbl> & <dbl> & <dbl> & <dbl> & <dbl> & <dbl> & <dbl> & <dbl> & <dbl> & <dbl> & <dbl> & <dbl> & <dbl> & <dbl> & <dbl> & <dbl> & <dbl> & <dbl> & <dbl> & <dbl> & <dbl> & <dbl> & <dbl> & <dbl> & <dbl> & <dbl> & <dbl> & <dbl> & <dbl> & <dbl> & <dbl> & <dbl> & <dbl> & <dbl> & <dbl> & <dbl> & <dbl> & <dbl> & <dbl> & <dbl> & <dbl> & <dbl> & <dbl> & <dbl> & <dbl> & <dbl> & <dbl> & <dbl> & <dbl> & <dbl> & <dbl> & <dbl> & <dbl> & <dbl> & <dbl> & <dbl> & <dbl> & <dbl> & <dbl> & <dbl> & <dbl> & <dbl> & <dbl> & <dbl> & <dbl> & <dbl> & <dbl> & <dbl> & <dbl> & <dbl> & <dbl> & <dbl> & <dbl> & <dbl> & <dbl> & <dbl> & <dbl> & <dbl> & <dbl> & <dbl> & <dbl> & <dbl> & <dbl> & <dbl> & <dbl> & <dbl> & <dbl> & <dbl> & <dbl> & <dbl> & <dbl> & <dbl> & <dbl> & <dbl> & <dbl> & <dbl> & <dbl> & <dbl> & <dbl> & <dbl> & <dbl> & <dbl> & <dbl> & <dbl> & <dbl> & <dbl> & <dbl> & <dbl> & <dbl> & <dbl> & <dbl> & <dbl> & <dbl> & <dbl> & <dbl> & <dbl> & <dbl> & <dbl> & <dbl> & <dbl> & <dbl> & <dbl> & <dbl> & <dbl> & <dbl> & <dbl> & <dbl> & <dbl> & <dbl> & <dbl> & <dbl> & <dbl> & <dbl> & <dbl> & <dbl> & <dbl> & <dbl> & <dbl> & <dbl> & <dbl> & <dbl> & <dbl> & <dbl> & <dbl> & <dbl> & <dbl> & <dbl> & <dbl> & <dbl> & <dbl> & <dbl> & <dbl> & <dbl> & <dbl> & <dbl> & <dbl> & <dbl> & <dbl> & <dbl> & <dbl> & <dbl> & <dbl> & <dbl> & <dbl> & <dbl> & <dbl> & <dbl> & <dbl> & <dbl> & <dbl> & <dbl> & <dbl> & <dbl> & <dbl> & <dbl> & <dbl> & <dbl> & <dbl> & <dbl> & <dbl> & <dbl> & <dbl> & <dbl> & <dbl> & <dbl> & <dbl> & <dbl> & <dbl> & <dbl> & <dbl> & <dbl> & <dbl> & <dbl> & <dbl> & <dbl> & <dbl> & <dbl> & <dbl> & <dbl> & <dbl> & <dbl> & <dbl> & <dbl> & <dbl> & <dbl> & <dbl> & <dbl> & <dbl> & <dbl> & <dbl> & <dbl> & <dbl> & <dbl> & <dbl> & <dbl> & <dbl> & <dbl> & <dbl> & <dbl> & <dbl> & <dbl> & <dbl> & <dbl> & <dbl> & <dbl> & <dbl> & <dbl> & <dbl> & <dbl> & <dbl> & <dbl> & <dbl> & <dbl> & <dbl> & <dbl> & <dbl> & <dbl> & <dbl> & <dbl> & <dbl> & <dbl> & <dbl> & <dbl> & <dbl> & <dbl> & <dbl> & <dbl> & <dbl> & <dbl> & <dbl> & <dbl> & <dbl> & <dbl> & <dbl> & <dbl> & <dbl> & <dbl> & <dbl> & <dbl> & <dbl> & <dbl> & <dbl> & <dbl> & <dbl> & <dbl> & <dbl> & <dbl> & <dbl> & <dbl> & <dbl> & <dbl> & <dbl> & <dbl> & <dbl> & <dbl> & <dbl> & <dbl> & <dbl> & <dbl> & <dbl> & <dbl> & <dbl> & <dbl> & <dbl> & <dbl> & <dbl> & <dbl> & <dbl> & <dbl> & <dbl> & <dbl> & <dbl> & <dbl> & <dbl> & <dbl> & <dbl> & <dbl> & <dbl> & <dbl> & <dbl> & <dbl> & <dbl> & <dbl> & <dbl> & <dbl> & <dbl> & <dbl> & <dbl> & <dbl> & <dbl> & <dbl> & <dbl> & <dbl> & <dbl> & <dbl> & <dbl> & <dbl> & <dbl> & <dbl> & <dbl> & <dbl> & <dbl> & <dbl> & <dbl> & <dbl> & <dbl> & <dbl> & <dbl> & <dbl> & <dbl> & <dbl> & <dbl> & <dbl> & <dbl> & <dbl> & <dbl> & <dbl> & <dbl> & <dbl> & <dbl> & <dbl> & <dbl> & <dbl> & <dbl> & <dbl> & <dbl> & <dbl> & <dbl> & <dbl> & <dbl> & <dbl> & <dbl> & <dbl> & <dbl> & <dbl> & <dbl> & <dbl> & <dbl> & <dbl> & <dbl> & <dbl> & <dbl> & <dbl> & <dbl> & <dbl> & <dbl> & <dbl> & <dbl> & <dbl> & <dbl> & <dbl> & <dbl> & <dbl> & <dbl> & <dbl> & <dbl> & <dbl> & <dbl> & <dbl> & <dbl> & <dbl> & <dbl> & <dbl> & <dbl> & <dbl> & <dbl> & <dbl> & <dbl> & <dbl> & <dbl> & <dbl> & <dbl> & <dbl> & <dbl> & <dbl> & <dbl> & <dbl> & <dbl> & <dbl> & <dbl> & <dbl> & <dbl> & <dbl> & <dbl> & <dbl> & <dbl> & <dbl> & <dbl> & <dbl> & <dbl> & <dbl> & <dbl> & <dbl> & <dbl> & <dbl> & <dbl> & <dbl> & <dbl> & <dbl> & <dbl> & <dbl> & <dbl> & <dbl> & <dbl> & <dbl> & <dbl> & <dbl> & <dbl> & <dbl> & <dbl> & <dbl> & <dbl> & <dbl> & <dbl> & <dbl> & <dbl> & <dbl> & <dbl> & <dbl> & <dbl> & <dbl> & <dbl> & <dbl> & <dbl> & <dbl> & <dbl> & <dbl> & <dbl> & <dbl> & <dbl> & <dbl> & <dbl> & <dbl> & <dbl> & <dbl> & <dbl> & <dbl> & <dbl> & <dbl> & <dbl> & <dbl> & <dbl> & <dbl> & <dbl> & <dbl> & <dbl> & <dbl> & <dbl> & <dbl> & <dbl> & <dbl> & <dbl> & <dbl> & <dbl> & <dbl> & <dbl> & <dbl> & <dbl> & <dbl> & <dbl> & <dbl> & <dbl> & <dbl> & <dbl> & <dbl> & <dbl> & <dbl> & <dbl> & <dbl> & <dbl> & <dbl> & <dbl> & <dbl> & <dbl> & <dbl> & <dbl> & <dbl> & <dbl> & <dbl> & <dbl> & <dbl> & <dbl> & <dbl> & <dbl> & <dbl> & <dbl> & <dbl> & <dbl> & <dbl> & <dbl> & <dbl> & <dbl> & <dbl> & <dbl> & <dbl> & <dbl> & <dbl> & <dbl> & <dbl> & <dbl> & <dbl> & <dbl> & <dbl> & <dbl> & <dbl> & <dbl> & <dbl> & <dbl> & <dbl> & <dbl> & <dbl> & <dbl> & <dbl> & <dbl> & <dbl> & <dbl> & <dbl> & <dbl> & <dbl> & <dbl> & <dbl> & <dbl> & <dbl> & <dbl> & <dbl> & <dbl> & <dbl> & <dbl> & <dbl> & <dbl> & <dbl> & <dbl> & <dbl> & <dbl> & <dbl> & <dbl> & <dbl> & <dbl> & <dbl> & <dbl> & <dbl> & <dbl> & <dbl> & <dbl> & <dbl> & <dbl> & <dbl> & <dbl> & <dbl> & <dbl> & <dbl> & <dbl> & <dbl> & <dbl> & <dbl> & <dbl> & <dbl> & <dbl> & <dbl> & <dbl> & <dbl> & <dbl> & <dbl> & <dbl> & <dbl> & <dbl> & <dbl> & <dbl> & <dbl> & <dbl> & <dbl> & <dbl> & <dbl> & <dbl> & <dbl> & <dbl> & <dbl> & <dbl> & <dbl> & <dbl> & <dbl> & <dbl> & <dbl> & <dbl> & <dbl> & <dbl> & <dbl> & <dbl> & <dbl> & <dbl> & <dbl> & <dbl> & <dbl> & <dbl> & <dbl> & <dbl> & <dbl> & <dbl> & <dbl> & <dbl> & <dbl> & <dbl> & <dbl> & <dbl> & <dbl> & <dbl> & <dbl> & <dbl> & <dbl> & <dbl> & <dbl> & <dbl> & <dbl> & <dbl> & <dbl> & <dbl> & <dbl> & <dbl> & <dbl> & <dbl> & <dbl> & <dbl> & <dbl> & <dbl> & <dbl> & <dbl> & <dbl> & <dbl> & <dbl> & <dbl> & <dbl> & <dbl> & <dbl> & <dbl> & <dbl> & <dbl> & <dbl> & <dbl> & <dbl> & <dbl> & <chr> & <chr> & <chr>\\\\\n",
       "\\hline\n",
       "\t 0.02171 & 0.03015 & 0.0203 &  0.1675 & 0.02104 & 0.02537 & 0.02492 & 0.06809 & 0.0000 & 0.02443 & 0.1421 & 0.02459 & 0.00000 & 0.02253 & 0.00000 & 0.02402 & 0.00 & 0.000 & 0.00000 & 0.08274 & 0.06885 & 0.09425 & 0.00 & 0.000 & 0.02277 &  0.02107 & 0.03083 & 0.04969 & 0.03952 & 0.000 & 0.00000 & 0.000 & 0.153 & 0.02166 & 0.01904 & 0.00000 & 0.00000 & 0.07101 & 0.000 & 0.11530 & 0.04383 & 0.000 & 0.0481 & 0.01778 & 0.0000 &  0.00000 & 0.01341 & 0.06711 &  0.00000 & 0.000 & 0.000 & 0.06217 & 0.000 & 0.02033 & 0.00000 & 0.0000 &  0.0 & 0.05783 & 0.000 & 0.07506 & 0.01878 & 0.14150 & 0.1793 & 0.000 & 0.000 & 0.04687 & 0.00000 & 0.00000 & 0.00000 & 0.00000 & 0.04362 & 0.0000 & 0.02633 & 0.00000 & 0.000 & 0.03249 & 0.000 & 0.000 & 0.1022 & 0.02316 & 0.02805 & 0.02545 & 0.01952 & 0.000 & 0.000 & 0.02111 & 0.02587 & 0.000 & 0.00000 & 0.00000 & 0.04212 & 0.165 & 0.00 & 0.000 & 0.00 & 0.02112 & 0.03223 & 0.000 & 0.0 & 0.000 & 0.01839 & 0.1382 & 0.00000 &  0.2739 & 0.05713 &  0.0000 & 0.000 & 0.02895 & 0.01382 & 0.000 & 0.00000 & 0.00 & 0.04709 & 0.00000 & 0.03854 & 0.09601 & 0.00000 & 0.000 & 0.04613 & 0.000 & 0.07256 & 0.00000 & 0.000 & 0.00000 & 0.000 & 0.0742 & 0.00000 & 0.06925 & 0.000 & 0.000 & 0.000 & 0.03033 & 0.04082 & 0.01947 & 0.00000 & 0.000 & 0.00000 &  0.00 & 0.01743 & 0.05167 & 0.00000 & 0.000 & 0.029 & 0.01999 & 0.00000 & 0.000 & 0.1248 & 0.01826 & 0.00000 & 0.00000 & 0.02743 & 0.000 & 0.04663 & 0.05956 & 0.00000 & 0.02849 & 0.04992 & 0.00000 & 0.02978 & 0.00000 & 0.000 & 0.05604 & 0.000 & 0.1161 & 0.01648 & 0.000 & 0.01354 & 0.03598 & 0.000 & 0.04419 & 0.02893 & 0.03586 & 0.000 & 0.00000 & 0.02632 & 0.1586 & 0.04074 & 0.02638 & 0.0000 & 0.02091 & 0.000 & 0.04095 & 0.02497 & 0.00000 & 0.05628 & 0.21280 & 0.02072 & 0.000 & 0.09728 & 0.05501 & 0.0000 & 0.07483 & 0.00000 & 0.00000 & 0.000 & 0.01844 & 0.00 & 0.00000 & 0.08037 & 0.03662 & 0.03164 &  0.00000 & 0.02429 & 0.000 & 0.00000 & 0.00000 & 0.01687 & 0.02835 & 0.02129 & 0.02484 & 0.07341 & 0.00000 & 0.000 & 0.07674 & 0.04126 & 0.09326 & 0.07814 & 0.00000 & 0.11910 & 0.00000 & 0.03947 & 0.0000 & 0.08158 & 0.00000 & 0.03828 & 0.07233 & 0.05194 & 0.000 & 0.000 & 0.02142 & 0.000 & 0.02127 & 0.00000 & 0.000 & 0.01639 & 0.000 & 0.000 &  0.00 & 0.000 & 0.000 & 0.02431 & 0.00000 & 0.02448 & 0.000 & 0.01588 & 0.00000 & 0.000 & 0.02035 & 0.000 & 0.00 & 0.06068 & 0.04313 & 0.000 &  0.05711 & 0.03228 & 0.0000 & 0.25500 & 0.03181 & 0.000 & 0.01733 & 0.0000 & 0.000 & 0.0000 & 0.06723 & 0.01834 & 0.00 & 0.02906 & 0.00000 & 0.02185 & 0.00000 & 0.01712 & 0.01979 & 0.04357 & 0.000 & 0.0000 & 0.000 & 0.0879 & 0.000 & 0.000 & 0.0000 & 0.02051 & 0.06650 & 0.04156 & 0.00000 & 0.05336 & 0.000 & 0.000 & 0.01881 & 0.05644 & 0.000 & 0.00 & 0.000 & 0.00000 & 0.02542 & 0.01729 & 0.00000 & 0.00000 & 0.00 & 0.02104 & 0.1038 & 0.0505 & 0.02725 & 0.00000 & 0.01986 & 0.000 & 0.01842 & 0.000 & 0.000 & 0.000 & 0.000 & 0.08747 & 0.01615 & 0.0000 & 0.05488 & 0.00000 & 0.00000 & 0.04658 & 0.02099 & 0.02083 & 0.04181 & 0.00000 & 0.02654 & 0.000 & 0.03388 & 0.100 & 0.000 & 0.0000 & 0.00000 & 0.000 & 0.01764 & 0.0000 & 0.1044 & 0.00000 & 0.000 & 0.02414 & 0.01947 & 0.05068 & 0.00000 & 0.105 & 0.03053 & 0.000 & 0.00000 & 0.000 & 0.000 & 0.01685 & 0.01981 & 0.000 & 0.00000 & 0.05796 & 0.000 & 0.0885 & 0.07342 & 0.04255 & 0.02706 & 0.0000 & 0.000 & 0.0512 & 0.2518 & 0.1031 & 0.000 & 0.000 & 0.000 & 0.02272 & 0.03244 & 0.02262 & 0.000 & 0.1679 & 0.00000 & 0.0000 & 0.000 & 0.3076 & 0.000 & 0.000 & 0.02694 & 0.0000 & 0.0294 & 0.000 & 0.01748 & 0.00 & 0.03189 & 0.03480 & 0.03748 & 0.01373 & 0.19030 & 0.000 & 0.03438 & 0.000 & 0.05187 & 0.03285 & 0.000 & 0.0000 & 0.05866 & 0.01309 & 0.09272 & 0.000 & 0.0000 & 0.0000 & 0.000 & 0.01764 & 0.000 & 0.01473 & 0.03764 & 0.06621 & 0.000 & 0.0000 & 0.000 & 0.02089 & 0.00000 &  0.0368 & 0.01461 & 0.0000 & 0.00000 & 0.000 & 0.000 & 0.000 & 0.000 & 0.2297 & 0.000 & 0.00000 & 0.000 & 0.000 & 0.06611 & 0.000 & 0.0000 & 0.00000 & 0.06213 & 0.0000 & 0.01227 & 0.01672 & 0.00000 & 0.02836 & 0.0000 & 0.000 & 0.01272 & 0.00000 & 0.01134 & 0.01214 & 0.01422 & 0.000 & 0.06913 & 0.000 & 0.01230 & 0.08808 & 0.0233 & 0.000 & 0.000 & 0.000 & 0.000 & 0.000 & 0.01537 & 0.1069 & 0.0406 & 0.000 & 0.000 & 0.000 & 0.000 & 0.000 & 0.000 & 0.000 & 0.01889 & 0.05355 & 0.000 & 0.00000 & 0.00000 & 0.00000 & 0.00000 & 0.03359 & 0.05985 & 0.03790 & 0.000 & 0.02005 & 0.00000 & 0.000 & 0.00000 & 0.03593 & 0.03247 & 0.03814 & 0.05689 & 0.03584 & 0.02343 & 0.000 & 0.0000 & 0.00000 & 0.01706 & 0.07174 & 0.0000 & 0.000 & 0.08999 & 0.000 & 0.000 & 0.00 & 0.00000 & 0.00000 & 0.00000 & 0.01694 & 0.000 & 0.03065 & 0.0000 & 0.0000 & 0.03179 & 0.01901 & 0.00000 & 0.000 & 0.02123 & 0.02054 & 0.000 & 0.02131 & 0.04752 & 0.01656 & 0.000 & 0.0000 & 0.000 & 0.01292 & 0.06093 & 0.000 & 0.00000 & 0.00000 & 0.000 & 0.000 & 0.1764 & 0.08413 & 0.03852 & 0.00000 & 0.000 & 0.01806 & 0.08241 & 0.00000 & 0.1461 & 0.00000 & 0.11360 & 0.00000 & 0.00000 & 0.12830 & 0.00000 & 0.00000 & 0.00000 & 0.00000 & 0.00000 & 0.000 & 0.00000 & 0.01357 & 0.00000 & 0.06259 & 0.00000 & 0.01884 & 0.00000 & 0.01556 & 0.000 & 0.00000 & 0.09108 & 0.11370 & 0.1490 & 0.000 & 0.02111 & 0.00 & 0.02653 & 0.00000 & 0.03922 & 0.03829 & 0.00000 & 0.03666 & 0.000 & 0.00000 & 0.00000 & 0.06881 & 0.05863 & 0.02076 & 0.000 & 0.00000 & 0.00000 & 0.000 & 0.000 & 0.000 & 0.00000 & 0.00000 & 0.12950 & 0.4063 &  0.00 & 0.000 & 0.1791 & 0.000 & 0.04114 & 0.0000 & 0.0000 & 0.20080 & 0.000 & 0.00000 & 0.00000 & 0.000 & 0.02498 & 0.00000 & 0.23920 & 0.000 & 0.00000 & 0.13600 & 0.00000 &  0.0000 & 0.02590 & 0.00000 & 0.00000 & 0.04245 & 0.00000 & 0.00000 & 0.13940 & 0.000 & 0.01753 & 0.00000 & 0.03661 &  0.00 & 0.01096 & 0.1163 & 0.2046 & 0.0190 & 0.08272 & 0.00000 & 0.000 & 0.00000 & 0.04499 & 0.000 & 0.22550 & 0.000 & 0.03465 & 0.0000 & 0.02491 & 0.01763 & 0.000 & 0.01830 & 0.2364 & 0.05973 & 0.000 &  0.00 &  0.00000 & 0.0000 & 0.00 & 0.02273 & 0.29790 & 0.03124 & 0.00000 & 0.000 & 0.00000 & 0.000 & 0.000 & 0.00000 & 0.05011 & 0.1001 & 0.000 & 0.000 & 0.00000 & 0.000 & 0.000 & 0.0797 & 0.00 & 0.03564 & 0.00000 & 0.08107 & 0.00000 & 0.0000 & 0.0000 & 0.03190 & 0.05007 & 0.04168 & 0.02720 & 0.000 & 0.00000 & 0.03770 & 0.000 &  0.00000 & 0.04592 & 0.00000 & 0.169 & 0.08937 & 0.02485 & 0.02703 & 0.07827 & 0.3167 & 0.000 & 0.00000 & 0.01913 & 0.03317 & 0.000 & 0.03900 &  0.02517 & 0.09194 & 0.02037 & 0.02008 & 0.000 & 0.00 & 0.00000 & 0.00000 &  0.02942 & 0.000 & 0.000 & 0.01837 & 0.000 & 0.0264 & 0.00000 & 0.04155 & 0.00000 & 0.1766 & 0.00000 & 0.000 & 0.000 & 0.000 & 0.01939 & 0.00000 & 0.000 & 0.00000 & 0.08604 & 0.000 & 0.000 & 0.00000 & 0.01343 & 0.00000 & 0.06545 & 0.00000 & 0.01647 & 0.00000 & 0.06955 & 0.00000 & 0.07885 & 0.00000 & 0.000 & 0.00000 & 0.00000 & 0.00000 & 0.03283 & 0.00000 & 0.0548 & 0.02213 & 0.04162 & 0.07333 & 0.00000 & 0.07734 & 0.03907 & 0.15540 & 0.00000 & 0.03489 & 0.06162 & 0.00000 & 0.04223 & 0.00000 & 0.00000 & 0.04127 & 0.00 & 0.000 & 0.0000 & 0.04841 & 0.00000 & 0.000 & 0.04858 & 0.11450 & 0.02417 & 0.000 & 0.02128 & 0.00000 & ENSG00000223972.5 & DDX11L1     & ENSG00000223972\\\\\n",
       "\t 1.55500 & 2.74700 & 4.4410 & 10.4700 & 1.28700 & 3.13800 & 4.21700 & 2.09800 & 0.3579 & 4.26200 & 2.5290 & 2.88200 & 4.80500 & 2.72800 & 4.01000 & 1.72000 & 2.51 & 1.886 & 1.35900 & 4.01300 & 1.18300 & 1.90200 & 1.66 & 3.249 & 1.18600 & 13.11000 & 5.33800 & 2.65200 & 2.62400 & 1.092 & 6.98700 & 1.886 & 3.275 & 2.22800 & 2.20600 & 1.33200 & 5.79100 & 2.74300 & 3.787 & 6.68200 & 4.87900 & 3.121 & 2.5360 & 1.57400 & 0.4965 & 10.10000 & 3.49100 & 1.60200 & 10.95000 & 2.088 & 2.621 & 3.76400 & 1.581 & 2.22300 & 1.65500 & 2.4300 & 12.4 & 9.23600 & 3.007 & 2.51600 & 1.34500 & 2.10000 & 0.5543 & 6.548 & 1.690 & 2.53200 & 1.90800 & 2.11300 & 0.86090 & 4.44900 & 3.46500 & 0.8687 & 2.74200 & 1.99100 & 3.092 & 4.18800 & 2.327 & 3.085 & 1.9620 & 8.02000 & 2.22700 & 4.80400 & 1.62700 & 2.292 & 1.086 & 5.02900 & 2.69500 & 1.078 & 4.65500 & 2.12900 & 2.41300 & 2.793 & 3.07 & 2.516 & 1.08 & 4.50900 & 0.37760 & 3.521 & 3.4 & 3.818 & 3.83000 & 1.8710 & 2.52200 & 13.1700 & 3.62000 & 11.2600 & 5.385 & 2.01700 & 3.04000 & 1.125 & 2.12000 & 1.53 & 1.30800 & 2.96900 & 1.30500 & 4.15000 & 2.99400 & 3.308 & 3.63400 & 4.175 & 2.61400 & 3.65600 & 2.011 & 2.29200 & 1.411 & 1.8840 & 2.51000 & 2.04400 & 2.251 & 1.630 & 2.451 & 5.45000 & 2.36500 & 1.79900 & 7.36200 & 3.806 & 4.44100 & 10.56 & 1.79200 & 7.46700 & 5.59700 & 3.298 & 3.360 & 1.53500 & 1.10400 & 1.411 & 4.5490 & 1.42600 & 6.63200 & 3.15400 & 7.28600 & 2.093 & 4.43100 & 2.79200 & 3.30000 & 5.34200 & 4.48400 & 1.39800 & 2.32700 & 0.50700 & 2.147 & 1.82400 & 2.089 & 4.1940 & 1.00800 & 4.704 & 2.76800 & 1.85000 & 2.572 & 2.01300 & 2.10900 & 3.94500 & 1.241 & 1.36500 & 1.86800 & 1.7300 & 3.50000 & 1.95800 & 0.6146 & 2.25900 & 1.908 & 2.07900 & 2.08100 & 3.03000 & 5.67900 & 3.22100 & 6.98600 & 2.337 & 3.74900 & 1.41400 & 0.6565 & 3.23900 & 1.28900 & 3.51300 & 2.228 & 1.32000 & 1.57 & 1.72300 & 3.99700 & 3.00400 & 1.29700 & 10.44000 & 0.44280 & 2.969 & 0.45070 & 3.47300 & 0.81270 & 2.01100 & 6.21000 & 5.36800 & 3.17800 & 0.35700 & 1.951 & 2.15800 & 1.93400 & 1.04400 & 1.76300 & 0.00000 & 1.98500 & 3.12400 & 1.61900 & 1.4500 & 1.69900 & 1.37400 & 1.09600 & 1.97700 & 2.95300 & 3.538 & 4.343 & 2.76000 & 1.714 & 4.62500 & 3.95700 & 2.167 & 0.78960 & 2.669 & 2.177 & 10.02 & 3.486 & 2.073 & 3.03800 & 0.69530 & 0.51000 & 1.186 & 3.92700 & 2.15800 & 3.764 & 2.17300 & 3.944 & 4.38 & 1.50100 & 2.86400 & 1.531 & 14.87000 & 2.94200 & 0.8234 & 2.51400 & 1.98800 & 2.389 & 3.92600 & 0.9817 & 1.555 & 0.7650 & 1.42200 & 2.91300 & 3.21 & 3.33000 & 0.98630 & 1.96300 & 5.53700 & 0.40120 & 1.26200 & 1.36200 & 1.637 & 0.8015 & 2.245 & 2.6320 & 4.578 & 5.238 & 0.9756 & 1.65600 & 1.84000 & 3.24700 & 1.78900 & 1.92200 & 3.451 & 3.222 & 1.37200 & 4.33600 & 3.527 & 2.27 & 5.378 & 1.36700 & 2.25100 & 1.62000 & 7.14900 & 1.86900 & 6.26 & 3.28800 & 4.5930 & 1.9390 & 1.27700 & 0.66950 & 2.63700 & 2.251 & 1.00700 & 1.979 & 3.944 & 2.367 & 3.108 & 2.30600 & 1.61900 & 3.1590 & 2.35800 & 1.71300 & 3.99900 & 2.30400 & 1.33900 & 2.54900 & 2.35900 & 2.57300 & 1.31300 & 3.102 & 1.19100 & 3.157 & 1.635 & 1.4950 & 2.03800 & 3.544 & 1.83700 & 6.7910 & 4.8680 & 2.10600 & 3.386 & 1.57200 & 2.15500 & 5.67500 & 4.15100 & 1.722 & 6.12200 & 2.692 & 1.10200 & 4.802 & 1.384 & 1.09700 & 3.35300 & 6.637 & 5.27100 & 2.11300 & 2.429 & 2.7190 & 2.64500 & 4.70900 & 2.43100 & 0.6028 & 2.128 & 3.2330 & 3.3250 & 2.2160 & 4.756 & 3.548 & 4.853 & 2.92800 & 2.19600 & 1.50200 & 2.627 & 3.0960 & 4.84400 & 6.4260 & 1.999 & 6.1310 & 2.458 & 2.371 & 2.01600 & 1.9360 & 5.4740 & 1.932 & 5.82700 & 3.43 & 2.11700 & 3.98700 & 4.90400 & 1.94900 & 1.59600 & 1.266 & 1.67900 & 0.597 & 0.69470 & 1.77500 & 3.735 & 2.1780 & 1.54700 & 1.26100 & 3.32000 & 4.586 & 0.9958 & 0.6772 & 1.274 & 1.95200 & 1.275 & 1.40000 & 4.70500 & 2.02600 & 4.056 & 0.7968 & 4.726 & 2.23100 & 1.95900 & 13.6800 & 4.22200 & 0.7458 & 2.24200 & 4.542 & 2.739 & 4.443 & 4.671 & 5.2350 & 1.494 & 1.40200 & 1.234 & 1.808 & 1.89400 & 3.135 & 0.6838 & 7.41300 & 3.90300 & 1.3680 & 1.55000 & 2.24200 & 2.03200 & 1.23700 & 4.7060 & 2.537 & 1.64000 & 2.11200 & 1.35800 & 3.21000 & 1.53700 & 1.384 & 4.01400 & 3.865 & 4.08300 & 3.05800 & 1.5320 & 1.691 & 2.633 & 5.043 & 5.586 & 1.552 & 3.44100 & 3.0830 & 2.5370 & 2.471 & 1.932 & 1.114 & 4.225 & 1.915 & 1.419 & 2.244 & 7.13100 & 4.02100 & 2.577 & 3.47500 & 5.64900 & 2.61300 & 3.38100 & 1.20300 & 2.72700 & 0.97040 & 6.779 & 0.41770 & 2.23400 & 5.837 & 4.55700 & 3.50800 & 1.60600 & 0.67030 & 5.77700 & 3.14900 & 3.96600 & 4.779 & 4.0140 & 2.90700 & 3.55300 & 1.45700 & 0.4506 & 3.063 & 0.60540 & 2.063 & 5.734 & 6.51 & 1.36000 & 0.84050 & 4.88600 & 4.03500 & 4.751 & 2.73400 & 4.9450 & 0.2363 & 1.01400 & 4.80300 & 0.86940 & 1.499 & 1.57500 & 1.63100 & 2.535 & 2.74700 & 2.04100 & 2.82500 & 1.874 & 2.0790 & 2.794 & 1.83300 & 2.38000 & 5.027 & 1.12100 & 8.48800 & 1.412 & 4.295 & 3.7900 & 1.42400 & 4.93900 & 0.99690 & 4.979 & 4.30300 & 1.39500 & 4.94500 & 5.1690 & 2.58100 & 2.12900 & 1.22400 & 1.28000 & 2.79900 & 3.58900 & 2.62000 & 1.80500 & 2.14400 & 1.61300 & 4.667 & 2.52600 & 4.20400 & 2.88100 & 2.20000 & 6.17000 & 3.23700 & 0.69110 & 3.12000 & 4.855 & 2.59900 & 2.13500 & 5.49800 & 0.6651 & 2.721 & 2.50100 & 8.59 & 3.52300 & 2.01800 & 2.83400 & 1.52100 & 0.85860 & 0.66810 & 3.209 & 0.13390 & 3.24700 & 3.71800 & 0.45800 & 4.81000 & 3.084 & 1.83100 & 1.37300 & 5.638 & 3.877 & 8.258 & 2.03400 & 0.97830 & 5.96700 & 0.9823 & 10.55 & 7.983 & 3.6140 & 6.748 & 0.74980 & 1.8660 & 0.8784 & 3.36200 & 3.403 & 0.42560 & 5.15900 & 1.949 & 3.51300 & 5.78000 & 1.82400 & 4.423 & 5.20300 & 4.25100 & 3.92400 & 11.1100 & 5.42900 & 5.69600 & 2.17200 & 5.47200 & 2.34200 & 4.13000 & 1.94500 & 3.107 & 4.42700 & 6.32600 & 9.23100 & 10.21 & 5.88100 & 3.8470 & 5.6320 & 0.7421 & 4.12000 & 1.72800 & 2.427 & 2.95600 & 7.79100 & 3.186 & 4.22000 & 5.576 & 1.98500 & 3.1040 & 4.02100 & 2.73100 & 2.997 & 4.50300 & 3.4620 & 7.88000 & 5.881 & 12.45 & 14.67000 & 1.8480 & 4.62 & 3.31400 & 4.10000 & 2.98900 & 2.20600 & 2.363 & 2.62500 & 1.535 & 1.856 & 2.12000 & 5.34900 & 6.1530 & 1.001 & 3.857 & 4.54200 & 5.477 & 6.592 & 2.7390 & 6.73 & 6.21800 & 2.94500 & 1.87900 & 2.10400 & 3.4660 & 2.0570 & 2.61600 & 2.31400 & 3.31000 & 6.90600 & 1.693 & 4.72500 & 2.82200 & 2.647 & 12.69000 & 2.57100 & 5.14900 & 9.930 & 7.35900 & 2.49200 & 4.54000 & 2.41200 & 4.8840 & 2.852 & 2.59900 & 1.07100 & 3.88700 & 4.158 & 2.48800 & 16.03000 & 5.68600 & 3.12900 & 1.59500 & 2.534 & 3.73 & 0.84930 & 4.28500 & 17.04000 & 3.027 & 2.448 & 2.89300 & 5.249 & 4.0220 & 2.18700 & 4.62500 & 6.48600 & 2.1260 & 1.88400 & 3.139 & 6.901 & 2.153 & 3.38300 & 2.74800 & 2.933 & 4.50600 & 1.73600 & 3.864 & 3.237 & 1.88000 & 1.29400 & 3.44900 & 2.36500 & 7.60200 & 3.02300 & 1.06100 & 5.47800 & 2.79700 & 6.64700 & 3.05600 & 5.447 & 4.83400 & 2.82500 & 3.84600 & 1.98800 & 2.87600 & 4.3880 & 2.53600 & 5.74300 & 4.36000 & 3.67400 & 2.11500 & 3.45900 & 5.20900 & 2.59900 & 5.83700 & 3.07500 & 2.03900 & 1.32000 & 1.02000 & 2.75100 & 2.39100 & 5.67 & 5.114 & 0.8979 & 3.06700 & 2.46400 & 1.504 & 3.19400 & 2.90600 & 3.43000 & 4.169 & 2.74300 & 6.07200 & ENSG00000227232.5 & WASH7P      & ENSG00000227232\\\\\n",
       "\t 0.00000 & 0.00000 & 0.0000 &  0.0000 & 0.00000 & 0.00000 & 0.00000 & 0.00000 & 0.0000 & 0.62120 & 0.0000 & 0.00000 & 0.00000 & 0.00000 & 0.00000 & 0.00000 & 0.00 & 0.000 & 0.00000 & 0.00000 & 0.00000 & 0.00000 & 0.00 & 0.000 & 0.00000 &  0.00000 & 0.00000 & 0.00000 & 0.00000 & 0.000 & 0.00000 & 0.000 & 0.000 & 0.00000 & 0.00000 & 0.00000 & 0.00000 & 0.00000 & 0.000 & 0.00000 & 0.00000 & 0.000 & 0.0000 & 0.00000 & 0.0000 &  0.00000 & 0.00000 & 0.00000 &  0.54120 & 0.000 & 0.000 & 0.00000 & 0.000 & 0.00000 & 0.00000 & 0.0000 &  0.0 & 0.00000 & 0.000 & 0.00000 & 0.00000 & 0.00000 & 0.0000 & 0.000 & 0.000 & 0.00000 & 0.00000 & 0.00000 & 0.00000 & 0.00000 & 0.00000 & 0.0000 & 0.00000 & 0.00000 & 0.000 & 0.00000 & 0.000 & 0.000 & 0.0000 & 0.00000 & 0.00000 & 0.00000 & 0.00000 & 0.000 & 0.000 & 0.00000 & 0.00000 & 0.000 & 0.00000 & 0.00000 & 0.00000 & 0.000 & 0.00 & 0.000 & 0.00 & 0.00000 & 0.00000 & 0.000 & 0.0 & 0.000 & 0.00000 & 0.0000 & 0.00000 &  0.0000 & 0.00000 &  0.0000 & 0.000 & 0.00000 & 0.00000 & 0.000 & 0.00000 & 0.00 & 0.00000 & 0.00000 & 0.00000 & 0.00000 & 0.00000 & 0.000 & 0.00000 & 0.000 & 0.00000 & 0.00000 & 0.000 & 0.00000 & 0.000 & 0.0000 & 0.00000 & 0.00000 & 0.000 & 0.000 & 0.000 & 0.00000 & 0.00000 & 0.00000 & 0.00000 & 0.000 & 0.00000 &  0.00 & 0.00000 & 0.00000 & 0.00000 & 0.000 & 0.000 & 0.00000 & 0.00000 & 0.000 & 0.0000 & 0.00000 & 0.00000 & 0.00000 & 0.00000 & 0.000 & 0.59280 & 0.00000 & 0.00000 & 0.00000 & 0.00000 & 0.00000 & 0.00000 & 0.00000 & 0.000 & 0.00000 & 0.000 & 0.0000 & 0.00000 & 0.000 & 0.00000 & 0.00000 & 0.000 & 0.00000 & 0.00000 & 0.00000 & 0.000 & 0.00000 & 0.00000 & 0.0000 & 0.00000 & 0.00000 & 0.0000 & 0.00000 & 0.000 & 0.00000 & 0.00000 & 0.00000 & 0.00000 & 0.00000 & 0.00000 & 0.000 & 0.00000 & 0.00000 & 0.0000 & 0.00000 & 0.00000 & 0.00000 & 0.000 & 0.00000 & 0.00 & 0.00000 & 0.00000 & 0.00000 & 0.00000 &  0.00000 & 0.00000 & 0.000 & 0.00000 & 0.00000 & 0.00000 & 0.00000 & 0.00000 & 0.00000 & 0.00000 & 0.00000 & 0.000 & 0.00000 & 0.00000 & 0.00000 & 0.00000 & 0.00000 & 0.00000 & 0.00000 & 0.00000 & 0.0000 & 0.69140 & 0.00000 & 0.00000 & 0.00000 & 0.00000 & 0.470 & 0.000 & 0.00000 & 0.000 & 0.00000 & 0.00000 & 0.000 & 0.00000 & 0.000 & 0.000 &  0.00 & 0.000 & 0.000 & 0.00000 & 0.00000 & 0.00000 & 0.000 & 0.00000 & 0.00000 & 0.000 & 0.00000 & 0.000 & 0.00 & 0.00000 & 0.00000 & 0.000 &  0.00000 & 0.00000 & 0.0000 & 0.00000 & 0.00000 & 0.000 & 0.00000 & 0.0000 & 0.000 & 0.0000 & 0.00000 & 0.00000 & 0.00 & 0.00000 & 0.00000 & 0.00000 & 0.00000 & 0.00000 & 0.00000 & 0.00000 & 0.000 & 0.0000 & 0.000 & 0.0000 & 0.000 & 0.000 & 0.0000 & 0.00000 & 0.00000 & 0.00000 & 0.00000 & 0.00000 & 0.000 & 0.000 & 0.00000 & 0.00000 & 0.000 & 0.00 & 0.000 & 0.00000 & 0.00000 & 0.00000 & 0.00000 & 0.00000 & 0.00 & 0.00000 & 0.0000 & 0.0000 & 0.00000 & 0.00000 & 0.00000 & 0.000 & 0.00000 & 0.000 & 0.000 & 0.000 & 0.000 & 0.00000 & 0.00000 & 0.0000 & 0.00000 & 0.00000 & 0.00000 & 0.00000 & 0.00000 & 0.00000 & 0.00000 & 0.00000 & 0.00000 & 0.000 & 0.00000 & 0.000 & 0.000 & 0.0000 & 0.00000 & 0.000 & 0.00000 & 0.0000 & 0.0000 & 0.00000 & 0.000 & 0.00000 & 0.00000 & 0.00000 & 0.00000 & 0.000 & 0.00000 & 0.000 & 0.00000 & 0.000 & 0.000 & 0.00000 & 0.00000 & 0.000 & 0.00000 & 0.00000 & 0.000 & 0.0000 & 0.00000 & 0.00000 & 0.00000 & 0.0000 & 0.000 & 0.0000 & 0.0000 & 0.0000 & 0.000 & 0.000 & 0.000 & 0.57770 & 0.00000 & 0.00000 & 0.000 & 0.0000 & 0.00000 & 0.3910 & 0.000 & 0.0000 & 0.000 & 0.000 & 0.00000 & 0.2953 & 0.0000 & 0.000 & 0.00000 & 0.00 & 0.00000 & 0.00000 & 0.00000 & 0.00000 & 0.00000 & 0.000 & 0.00000 & 0.000 & 0.00000 & 0.00000 & 0.000 & 0.4169 & 0.00000 & 0.00000 & 0.00000 & 0.000 & 0.0000 & 0.0000 & 0.000 & 0.00000 & 0.000 & 0.00000 & 0.00000 & 0.00000 & 0.000 & 0.0000 & 0.000 & 0.00000 & 0.00000 &  0.0000 & 0.00000 & 0.0000 & 0.35890 & 0.000 & 0.000 & 0.000 & 0.000 & 0.0000 & 0.000 & 0.00000 & 0.000 & 0.000 & 0.00000 & 0.000 & 0.0000 & 0.00000 & 0.00000 & 0.3563 & 0.00000 & 0.00000 & 0.00000 & 0.00000 & 0.0000 & 0.000 & 0.00000 & 0.00000 & 0.00000 & 0.00000 & 0.00000 & 0.000 & 0.00000 & 0.000 & 0.00000 & 0.00000 & 0.0000 & 0.000 & 0.000 & 0.000 & 0.000 & 0.000 & 0.00000 & 0.0000 & 0.0000 & 0.000 & 0.000 & 0.000 & 0.000 & 0.000 & 0.000 & 0.000 & 0.00000 & 0.00000 & 0.000 & 0.00000 & 0.00000 & 0.00000 & 0.00000 & 0.00000 & 0.00000 & 0.00000 & 0.000 & 0.00000 & 0.00000 & 0.000 & 0.00000 & 0.00000 & 0.00000 & 0.00000 & 0.00000 & 0.00000 & 0.00000 & 0.000 & 0.4429 & 0.00000 & 0.00000 & 0.00000 & 0.0000 & 0.000 & 0.00000 & 0.000 & 0.000 & 0.00 & 0.00000 & 0.00000 & 0.00000 & 0.00000 & 0.000 & 0.00000 & 0.0000 & 0.0000 & 0.00000 & 0.00000 & 0.00000 & 0.000 & 0.00000 & 0.00000 & 0.000 & 0.00000 & 0.00000 & 0.00000 & 0.000 & 0.4563 & 0.000 & 0.00000 & 0.00000 & 0.000 & 0.00000 & 0.00000 & 0.000 & 2.750 & 0.0000 & 0.00000 & 0.00000 & 0.00000 & 0.000 & 0.00000 & 0.00000 & 0.00000 & 0.0000 & 0.00000 & 0.00000 & 0.00000 & 0.00000 & 0.81580 & 0.00000 & 0.00000 & 0.00000 & 0.00000 & 0.00000 & 0.000 & 0.00000 & 0.00000 & 0.00000 & 0.00000 & 0.00000 & 0.00000 & 0.00000 & 0.00000 & 0.000 & 0.00000 & 0.00000 & 0.00000 & 0.0000 & 0.000 & 0.00000 & 0.00 & 0.00000 & 0.00000 & 0.00000 & 0.00000 & 0.00000 & 0.00000 & 0.000 & 0.00000 & 0.00000 & 0.00000 & 0.00000 & 0.00000 & 0.000 & 0.00000 & 0.00000 & 0.000 & 0.000 & 0.000 & 0.00000 & 0.00000 & 0.00000 & 0.0000 &  0.00 & 0.000 & 0.0000 & 0.000 & 0.00000 & 0.0000 & 0.0000 & 0.00000 & 0.000 & 0.00000 & 0.00000 & 0.000 & 0.63530 & 0.00000 & 0.00000 & 0.000 & 0.00000 & 0.00000 & 0.00000 &  0.0000 & 0.65860 & 0.00000 & 0.00000 & 0.00000 & 0.00000 & 0.00000 & 0.00000 & 0.000 & 0.00000 & 0.00000 & 0.00000 &  0.00 & 0.00000 & 0.0000 & 0.0000 & 0.0000 & 0.00000 & 0.00000 & 0.000 & 0.00000 & 0.00000 & 0.000 & 0.00000 & 0.000 & 0.00000 & 0.0000 & 0.00000 & 0.00000 & 0.000 & 0.00000 & 0.0000 & 0.00000 & 0.000 &  0.00 &  0.00000 & 0.0000 & 0.00 & 0.00000 & 0.00000 & 0.00000 & 0.00000 & 0.000 & 0.00000 & 0.000 & 0.000 & 0.00000 & 0.00000 & 0.0000 & 0.000 & 0.000 & 0.00000 & 0.000 & 0.000 & 0.0000 & 0.00 & 0.00000 & 0.00000 & 0.00000 & 0.00000 & 0.3935 & 0.0000 & 0.00000 & 0.00000 & 0.00000 & 0.00000 & 0.000 & 0.00000 & 0.00000 & 0.000 &  0.00000 & 0.00000 & 0.00000 & 0.000 & 0.00000 & 0.00000 & 0.00000 & 0.00000 & 0.0000 & 0.000 & 0.00000 & 0.00000 & 0.00000 & 0.000 & 0.00000 &  0.00000 & 0.00000 & 0.00000 & 0.00000 & 0.000 & 0.00 & 0.00000 & 0.00000 &  0.00000 & 0.000 & 0.000 & 0.00000 & 0.000 & 0.0000 & 0.00000 & 0.00000 & 0.00000 & 0.0000 & 0.00000 & 0.000 & 0.000 & 0.000 & 0.00000 & 0.00000 & 0.000 & 0.00000 & 0.00000 & 0.000 & 0.000 & 0.00000 & 0.00000 & 0.00000 & 0.00000 & 0.00000 & 0.00000 & 0.00000 & 0.00000 & 0.00000 & 0.00000 & 0.00000 & 0.000 & 0.00000 & 0.46750 & 0.00000 & 0.00000 & 0.00000 & 0.0000 & 0.00000 & 0.00000 & 0.00000 & 0.00000 & 0.65550 & 0.00000 & 0.49390 & 0.00000 & 0.00000 & 0.00000 & 0.00000 & 0.00000 & 0.00000 & 0.00000 & 0.00000 & 0.00 & 0.000 & 0.0000 & 0.00000 & 0.65930 & 0.000 & 0.00000 & 0.00000 & 0.00000 & 0.000 & 0.00000 & 0.61120 & ENSG00000278267.1 & MIR6859-1   & ENSG00000278267\\\\\n",
       "\t 0.00000 & 0.00000 & 0.0000 &  0.0000 & 0.00000 & 0.00000 & 0.00000 & 0.04532 & 0.0000 & 0.00000 & 0.0000 & 0.00000 & 0.04187 & 0.00000 & 0.00000 & 0.00000 & 0.00 & 0.000 & 0.00000 & 0.00000 & 0.00000 & 0.00000 & 0.00 & 0.000 & 0.00000 &  0.00000 & 0.00000 & 0.00000 & 0.00000 & 0.027 & 0.00000 & 0.000 & 0.000 & 0.00000 & 0.03801 & 0.02461 & 0.05843 & 0.00000 & 0.000 & 0.05757 & 0.00000 & 0.000 & 0.0000 & 0.00000 & 0.0000 &  0.00000 & 0.00000 & 0.00000 &  0.00000 & 0.000 & 0.000 & 0.00000 & 0.000 & 0.04058 & 0.02788 & 0.0000 &  0.0 & 0.00000 & 0.000 & 0.00000 & 0.00000 & 0.00000 & 0.0000 & 0.000 & 0.036 & 0.00000 & 0.00000 & 0.05064 & 0.00000 & 0.08861 & 0.00000 & 0.0000 & 0.00000 & 0.00000 & 0.000 & 0.00000 & 0.000 & 0.000 & 0.0000 & 0.00000 & 0.00000 & 0.00000 & 0.00000 & 0.000 & 0.000 & 0.00000 & 0.00000 & 0.000 & 0.00000 & 0.05533 & 0.00000 & 0.000 & 0.00 & 0.000 & 0.00 & 0.00000 & 0.00000 & 0.000 & 0.0 & 0.000 & 0.00000 & 0.0000 & 0.00000 &  0.0000 & 0.00000 &  0.0000 & 0.000 & 0.00000 & 0.00000 & 0.000 & 0.00000 & 0.00 & 0.00000 & 0.04178 & 0.07695 & 0.00000 & 0.00000 & 0.000 & 0.00000 & 0.000 & 0.00000 & 0.03893 & 0.000 & 0.00000 & 0.000 & 0.0000 & 0.00000 & 0.00000 & 0.000 & 0.000 & 0.000 & 0.06056 & 0.04075 & 0.07773 & 0.00000 & 0.000 & 0.00000 &  0.00 & 0.00000 & 0.00000 & 0.00000 & 0.000 & 0.000 & 0.00000 & 0.00000 & 0.000 & 0.0000 & 0.00000 & 0.00000 & 0.05972 & 0.00000 & 0.000 & 0.00000 & 0.00000 & 0.00000 & 0.00000 & 0.09966 & 0.00000 & 0.05946 & 0.00000 & 0.000 & 0.00000 & 0.000 & 0.0000 & 0.00000 & 0.000 & 0.00000 & 0.07184 & 0.000 & 0.08822 & 0.00000 & 0.00000 & 0.000 & 0.00000 & 0.02628 & 0.0000 & 0.00000 & 0.00000 & 0.0000 & 0.04174 & 0.000 & 0.08175 & 0.00000 & 0.00000 & 0.00000 & 0.37180 & 0.00000 & 0.000 & 0.00000 & 0.00000 & 0.0000 & 0.03735 & 0.03802 & 0.04767 & 0.000 & 0.00000 & 0.00 & 0.00000 & 0.00000 & 0.03656 & 0.00000 &  0.00000 & 0.00000 & 0.000 & 0.00000 & 0.00000 & 0.03368 & 0.00000 & 0.00000 & 0.00000 & 0.00000 & 0.00000 & 0.000 & 0.00000 & 0.00000 & 0.03724 & 0.10400 & 0.00000 & 0.04756 & 0.00000 & 0.00000 & 0.0000 & 0.00000 & 0.03763 & 0.03822 & 0.00000 & 0.06914 & 0.000 & 0.000 & 0.00000 & 0.000 & 0.00000 & 0.04854 & 0.000 & 0.03273 & 0.000 & 0.000 &  0.00 & 0.000 & 0.000 & 0.04853 & 0.00000 & 0.00000 & 0.000 & 0.00000 & 0.11410 & 0.000 & 0.00000 & 0.000 & 0.00 & 0.00000 & 0.00000 & 0.000 &  0.00000 & 0.00000 & 0.0000 & 0.07274 & 0.00000 & 0.000 & 0.03460 & 0.0000 & 0.000 & 0.0000 & 0.00000 & 0.00000 & 0.00 & 0.00000 & 0.00000 & 0.04362 & 0.00000 & 0.00000 & 0.03950 & 0.00000 & 0.000 & 0.0000 & 0.000 & 0.0000 & 0.000 & 0.000 & 0.0000 & 0.00000 & 0.03319 & 0.00000 & 0.02770 & 0.00000 & 0.000 & 0.000 & 0.00000 & 0.00000 & 0.000 & 0.00 & 0.000 & 0.02687 & 0.00000 & 0.00000 & 0.00000 & 0.00000 & 0.00 & 0.00000 & 0.0000 & 0.0000 & 0.00000 & 0.00000 & 0.00000 & 0.000 & 0.00000 & 0.000 & 0.000 & 0.000 & 0.000 & 0.00000 & 0.00000 & 0.0000 & 0.05478 & 0.05472 & 0.06321 & 0.00000 & 0.00000 & 0.00000 & 0.00000 & 0.03868 & 0.00000 & 0.000 & 0.00000 & 0.000 & 0.000 & 0.0273 & 0.05124 & 0.000 & 0.00000 & 0.0000 & 0.0000 & 0.04679 & 0.000 & 0.00000 & 0.00000 & 0.00000 & 0.00000 & 0.000 & 0.00000 & 0.000 & 0.00000 & 0.000 & 0.000 & 0.00000 & 0.00000 & 0.000 & 0.00000 & 0.00000 & 0.000 & 0.0000 & 0.00000 & 0.00000 & 0.00000 & 0.0000 & 0.000 & 0.0000 & 0.0000 & 0.0000 & 0.000 & 0.000 & 0.000 & 0.00000 & 0.00000 & 0.04516 & 0.000 & 0.0000 & 0.00000 & 0.0307 & 0.000 & 0.0000 & 0.000 & 0.000 & 0.00000 & 0.0000 & 0.0000 & 0.000 & 0.00000 & 0.00 & 0.00000 & 0.00000 & 0.00000 & 0.00000 & 0.04221 & 0.000 & 0.00000 & 0.000 & 0.00000 & 0.00000 & 0.000 & 0.0000 & 0.00000 & 0.00000 & 0.00000 & 0.000 & 0.0000 & 0.0000 & 0.000 & 0.00000 & 0.000 & 0.00000 & 0.00000 & 0.00000 & 0.000 & 0.0000 & 0.000 & 0.00000 & 0.00000 &  0.0000 & 0.00000 & 0.0000 & 0.00000 & 0.000 & 0.040 & 0.000 & 0.000 & 0.0000 & 0.000 & 0.00000 & 0.000 & 0.000 & 0.00000 & 0.000 & 0.0000 & 0.00000 & 0.00000 & 0.0000 & 0.00000 & 0.00000 & 0.00000 & 0.00000 & 0.0000 & 0.000 & 0.00000 & 0.02591 & 0.00000 & 0.00000 & 0.02840 & 0.000 & 0.00000 & 0.000 & 0.00000 & 0.00000 & 0.0000 & 0.000 & 0.000 & 0.000 & 0.000 & 0.000 & 0.00000 & 0.0000 & 0.0000 & 0.000 & 0.000 & 0.000 & 0.000 & 0.000 & 0.000 & 0.000 & 0.00000 & 0.00000 & 0.000 & 0.03918 & 0.00000 & 0.00000 & 0.00000 & 0.00000 & 0.03983 & 0.02522 & 0.000 & 0.00000 & 0.07529 & 0.000 & 0.00000 & 0.03587 & 0.00000 & 0.00000 & 0.05679 & 0.00000 & 0.00000 & 0.000 & 0.0000 & 0.08573 & 0.00000 & 0.00000 & 0.0000 & 0.000 & 0.00000 & 0.000 & 0.000 & 0.00 & 0.00000 & 0.02578 & 0.00000 & 0.03381 & 0.000 & 0.00000 & 0.0000 & 0.0000 & 0.03173 & 0.00000 & 0.00000 & 0.000 & 0.00000 & 0.00000 & 0.000 & 0.00000 & 0.00000 & 0.00000 & 0.000 & 0.0000 & 0.000 & 0.00000 & 0.00000 & 0.000 & 0.00000 & 0.00000 & 0.000 & 0.000 & 0.0000 & 0.00000 & 0.00000 & 0.04132 & 0.000 & 0.00000 & 0.00000 & 0.04956 & 0.0000 & 0.00000 & 0.00000 & 0.00000 & 0.00000 & 0.00000 & 0.08339 & 0.00000 & 0.04857 & 0.00000 & 0.07383 & 0.000 & 0.00000 & 0.00000 & 0.00000 & 0.12500 & 0.00000 & 0.03761 & 0.00000 & 0.00000 & 0.000 & 0.00000 & 0.00000 & 0.00000 & 0.0000 & 0.000 & 0.00000 & 0.00 & 0.00000 & 0.00000 & 0.00000 & 0.00000 & 0.04540 & 0.00000 & 0.000 & 0.00000 & 0.06728 & 0.00000 & 0.00000 & 0.00000 & 0.000 & 0.00000 & 0.08597 & 0.000 & 0.000 & 0.000 & 0.07089 & 0.04839 & 0.05169 & 0.0000 &  0.00 & 0.000 & 0.0000 & 0.000 & 0.08213 & 0.0000 & 0.0898 & 0.00000 & 0.000 & 0.05439 & 0.00000 & 0.000 & 0.00000 & 0.00000 & 0.00000 & 0.000 & 0.00000 & 0.00000 & 0.03647 &  0.1128 & 0.05171 & 0.03176 & 0.05286 & 0.08475 & 0.00000 & 0.00000 & 0.03977 & 0.000 & 0.03500 & 0.04076 & 0.00000 &  0.00 & 0.00000 & 0.0000 & 0.0000 & 0.0000 & 0.00000 & 0.00000 & 0.000 & 0.00000 & 0.00000 & 0.000 & 0.00000 & 0.000 & 0.00000 & 0.0000 & 0.00000 & 0.00000 & 0.000 & 0.00000 & 0.0000 & 0.00000 & 0.000 &  0.00 &  0.00000 & 0.0000 & 0.00 & 0.00000 & 0.08496 & 0.00000 & 0.03075 & 0.000 & 0.00000 & 0.000 & 0.000 & 0.04453 & 0.00000 & 0.0000 & 0.000 & 0.000 & 0.04493 & 0.000 & 0.000 & 0.0000 & 0.00 & 0.00000 & 0.00000 & 0.00000 & 0.00000 & 0.0000 & 0.1088 & 0.03184 & 0.00000 & 0.04161 & 0.10860 & 0.000 & 0.00000 & 0.07527 & 0.000 &  0.06598 & 0.00000 & 0.06691 & 0.000 & 0.00000 & 0.00000 & 0.00000 & 0.00000 & 0.0000 & 0.000 & 0.00000 & 0.00000 & 0.00000 & 0.000 & 0.00000 &  0.05026 & 0.00000 & 0.04066 & 0.00000 & 0.000 & 0.00 & 0.00000 & 0.00000 &  0.00000 & 0.000 & 0.000 & 0.00000 & 0.000 & 0.0000 & 0.02891 & 0.04147 & 0.00000 & 0.0000 & 0.00000 & 0.000 & 0.000 & 0.000 & 0.00000 & 0.05811 & 0.000 & 0.00000 & 0.04295 & 0.000 & 0.000 & 0.00000 & 0.00000 & 0.00000 & 0.00000 & 0.00000 & 0.06576 & 0.00000 & 0.00000 & 0.03325 & 0.00000 & 0.03938 & 0.000 & 0.04466 & 0.00000 & 0.09216 & 0.00000 & 0.05378 & 0.0000 & 0.00000 & 0.00000 & 0.04880 & 0.00000 & 0.00000 & 0.00000 & 0.00000 & 0.00000 & 0.00000 & 0.00000 & 0.00000 & 0.00000 & 0.03474 & 0.00000 & 0.00000 & 0.00 & 0.000 & 0.0000 & 0.00000 & 0.00000 & 0.000 & 0.09698 & 0.11430 & 0.00000 & 0.000 & 0.00000 & 0.00000 & ENSG00000243485.5 & MIR1302-2HG & ENSG00000243485\\\\\n",
       "\t 0.00000 & 0.00000 & 0.0576 &  0.0000 & 0.00000 & 0.00000 & 0.00000 & 0.00000 & 0.0000 & 0.00000 & 0.0000 & 0.00000 & 0.00000 & 0.00000 & 0.00000 & 0.00000 & 0.00 & 0.000 & 0.03022 & 0.00000 & 0.00000 & 0.00000 & 0.00 & 0.000 & 0.00000 &  0.00000 & 0.00000 & 0.00000 & 0.00000 & 0.000 & 0.00000 & 0.000 & 0.000 & 0.00000 & 0.00000 & 0.00000 & 0.00000 & 0.00000 & 0.000 & 0.00000 & 0.06217 & 0.000 & 0.0000 & 0.00000 & 0.0000 &  0.00000 & 0.01902 & 0.00000 &  0.00000 & 0.000 & 0.000 & 0.00000 & 0.000 & 0.00000 & 0.00000 & 0.0000 &  0.0 & 0.00000 & 0.000 & 0.00000 & 0.00000 & 0.04013 & 0.0000 & 0.000 & 0.000 & 0.03324 & 0.00000 & 0.00000 & 0.02132 & 0.00000 & 0.00000 & 0.0000 & 0.00000 & 0.02712 & 0.000 & 0.00000 & 0.000 & 0.000 & 0.0000 & 0.03285 & 0.03978 & 0.00000 & 0.00000 & 0.000 & 0.000 & 0.02994 & 0.00000 & 0.000 & 0.00000 & 0.00000 & 0.00000 & 0.000 & 0.00 & 0.000 & 0.00 & 0.00000 & 0.00000 & 0.000 & 0.0 & 0.000 & 0.05216 & 0.0000 & 0.02568 &  0.0000 & 0.00000 &  0.0000 & 0.000 & 0.00000 & 0.00000 & 0.000 & 0.00000 & 0.00 & 0.00000 & 0.00000 & 0.00000 & 0.00000 & 0.00000 & 0.000 & 0.00000 & 0.000 & 0.00000 & 0.02766 & 0.000 & 0.03783 & 0.000 & 0.0000 & 0.02763 & 0.00000 & 0.000 & 0.037 & 0.000 & 0.00000 & 0.02895 & 0.00000 & 0.04155 & 0.000 & 0.00000 &  0.00 & 0.00000 & 0.03664 & 0.00000 & 0.000 & 0.000 & 0.02835 & 0.05343 & 0.000 & 0.0000 & 0.00000 & 0.00000 & 0.00000 & 0.00000 & 0.000 & 0.00000 & 0.00000 & 0.06306 & 0.00000 & 0.00000 & 0.00000 & 0.00000 & 0.00000 & 0.000 & 0.00000 & 0.000 & 0.0000 & 0.00000 & 0.000 & 0.00000 & 0.00000 & 0.000 & 0.03134 & 0.00000 & 0.00000 & 0.000 & 0.01956 & 0.00000 & 0.0000 & 0.05778 & 0.00000 & 0.0000 & 0.00000 & 0.000 & 0.02904 & 0.00000 & 0.00000 & 0.00000 & 0.03773 & 0.02939 & 0.000 & 0.00000 & 0.00000 & 0.0000 & 0.00000 & 0.02701 & 0.00000 & 0.000 & 0.00000 & 0.00 & 0.00000 & 0.02280 & 0.00000 & 0.00000 &  0.01727 & 0.03446 & 0.000 & 0.00000 & 0.03504 & 0.00000 & 0.00000 & 0.00000 & 0.00000 & 0.00000 & 0.04862 & 0.000 & 0.00000 & 0.02926 & 0.05291 & 0.00000 & 0.03681 & 0.00000 & 0.00000 & 0.00000 & 0.0000 & 0.00000 & 0.00000 & 0.00000 & 0.00000 & 0.02456 & 0.000 & 0.000 & 0.00000 & 0.000 & 0.00000 & 0.00000 & 0.000 & 0.00000 & 0.000 & 0.000 &  0.00 & 0.000 & 0.000 & 0.00000 & 0.00000 & 0.00000 & 0.000 & 0.00000 & 0.02702 & 0.000 & 0.00000 & 0.000 & 0.00 & 0.00000 & 0.03059 & 0.000 &  0.00000 & 0.00000 & 0.0000 & 0.00000 & 0.00000 & 0.000 & 0.00000 & 0.0000 & 0.000 & 0.0000 & 0.00000 & 0.00000 & 0.00 & 0.00000 & 0.02388 & 0.00000 & 0.00000 & 0.00000 & 0.02806 & 0.00000 & 0.000 & 0.0000 & 0.000 & 0.0000 & 0.000 & 0.000 & 0.0000 & 0.00000 & 0.00000 & 0.00000 & 0.00000 & 0.00000 & 0.000 & 0.000 & 0.00000 & 0.00000 & 0.000 & 0.00 & 0.000 & 0.01909 & 0.00000 & 0.00000 & 0.00000 & 0.00000 & 0.00 & 0.05970 & 0.0000 & 0.0000 & 0.07730 & 0.00000 & 0.00000 & 0.000 & 0.00000 & 0.000 & 0.000 & 0.000 & 0.000 & 0.03102 & 0.00000 & 0.0000 & 0.00000 & 0.00000 & 0.00000 & 0.00000 & 0.00000 & 0.00000 & 0.00000 & 0.00000 & 0.00000 & 0.000 & 0.00000 & 0.000 & 0.000 & 0.0000 & 0.00000 & 0.000 & 0.00000 & 0.0000 & 0.0000 & 0.06649 & 0.000 & 0.00000 & 0.00000 & 0.00000 & 0.00000 & 0.000 & 0.00000 & 0.000 & 0.02502 & 0.000 & 0.000 & 0.02390 & 0.00000 & 0.000 & 0.03854 & 0.00000 & 0.000 & 0.0000 & 0.00000 & 0.00000 & 0.00000 & 0.0000 & 0.000 & 0.0000 & 0.0000 & 0.0000 & 0.000 & 0.000 & 0.000 & 0.06445 & 0.00000 & 0.03209 & 0.000 & 0.0000 & 0.02720 & 0.0000 & 0.000 & 0.0000 & 0.000 & 0.000 & 0.00000 & 0.0000 & 0.0000 & 0.000 & 0.00000 & 0.00 & 0.00000 & 0.00000 & 0.00000 & 0.00000 & 0.00000 & 0.000 & 0.00000 & 0.000 & 0.00000 & 0.00000 & 0.000 & 0.0000 & 0.00000 & 0.00000 & 0.00000 & 0.000 & 0.0000 & 0.0000 & 0.000 & 0.02501 & 0.000 & 0.00000 & 0.00000 & 0.00000 & 0.000 & 0.0000 & 0.000 & 0.00000 & 0.00000 &  0.0000 & 0.00000 & 0.0000 & 0.00000 & 0.000 & 0.000 & 0.000 & 0.000 & 0.0000 & 0.000 & 0.01934 & 0.000 & 0.000 & 0.00000 & 0.000 & 0.0000 & 0.00000 & 0.00000 & 0.0000 & 0.00000 & 0.00000 & 0.02306 & 0.00000 & 0.0000 & 0.000 & 0.00000 & 0.00000 & 0.00000 & 0.00000 & 0.00000 & 0.000 & 0.00000 & 0.000 & 0.01744 & 0.00000 & 0.0000 & 0.000 & 0.000 & 0.000 & 0.000 & 0.000 & 0.00000 & 0.0000 & 0.0000 & 0.000 & 0.000 & 0.000 & 0.000 & 0.000 & 0.000 & 0.000 & 0.00000 & 0.00000 & 0.000 & 0.00000 & 0.00000 & 0.00000 & 0.00000 & 0.00000 & 0.00000 & 0.00000 & 0.000 & 0.00000 & 0.02674 & 0.000 & 0.00000 & 0.00000 & 0.00000 & 0.00000 & 0.00000 & 0.00000 & 0.00000 & 0.000 & 0.0000 & 0.00000 & 0.00000 & 0.00000 & 0.0000 & 0.000 & 0.02127 & 0.000 & 0.000 & 0.00 & 0.00000 & 0.00000 & 0.00000 & 0.00000 & 0.000 & 0.00000 & 0.0000 & 0.0000 & 0.00000 & 0.00000 & 0.00000 & 0.000 & 0.00000 & 0.00000 & 0.000 & 0.00000 & 0.00000 & 0.00000 & 0.000 & 0.0000 & 0.000 & 0.00000 & 0.00000 & 0.000 & 0.00000 & 0.03072 & 0.000 & 0.000 & 0.0000 & 0.00000 & 0.00000 & 0.00000 & 0.000 & 0.00000 & 0.00000 & 0.03521 & 0.0000 & 0.00000 & 0.03221 & 0.02899 & 0.02583 & 0.00000 & 0.00000 & 0.03243 & 0.00000 & 0.00000 & 0.00000 & 0.000 & 0.00000 & 0.00000 & 0.02961 & 0.00000 & 0.00000 & 0.00000 & 0.00000 & 0.00000 & 0.000 & 0.03111 & 0.00000 & 0.00000 & 0.0000 & 0.000 & 0.00000 & 0.00 & 0.00000 & 0.00000 & 0.00000 & 0.00000 & 0.00000 & 0.00000 & 0.000 & 0.07295 & 0.00000 & 0.00000 & 0.00000 & 0.00000 & 0.000 & 0.06651 & 0.00000 & 0.000 & 0.000 & 0.000 & 0.00000 & 0.00000 & 0.00000 & 0.0000 &  0.00 & 0.000 & 0.0000 & 0.000 & 0.00000 & 0.0000 & 0.0000 & 0.00000 & 0.000 & 0.00000 & 0.05457 & 0.000 & 0.00000 & 0.03704 & 0.09694 & 0.000 & 0.00000 & 0.03859 & 0.00000 &  0.1603 & 0.00000 & 0.00000 & 0.03755 & 0.06021 & 0.00000 & 0.02903 & 0.00000 & 0.000 & 0.00000 & 0.05791 & 0.01731 &  0.00 & 0.00000 & 0.0330 & 0.0000 & 0.0000 & 0.00000 & 0.00000 & 0.000 & 0.03097 & 0.00000 & 0.000 & 0.00000 & 0.000 & 0.00000 & 0.0000 & 0.00000 & 0.02500 & 0.000 & 0.02596 & 0.0000 & 0.02824 & 0.000 &  0.00 &  0.02133 & 0.0000 & 0.00 & 0.00000 & 0.06036 & 0.00000 & 0.02185 & 0.000 & 0.00000 & 0.000 & 0.000 & 0.00000 & 0.00000 & 0.0000 & 0.000 & 0.000 & 0.00000 & 0.000 & 0.000 & 0.0000 & 0.00 & 0.00000 & 0.01876 & 0.02300 & 0.00000 & 0.0000 & 0.0000 & 0.00000 & 0.03551 & 0.02956 & 0.00000 & 0.000 & 0.03238 & 0.00000 & 0.000 &  0.00000 & 0.00000 & 0.00000 & 0.000 & 0.00000 & 0.00000 & 0.00000 & 0.00000 & 0.0000 & 0.000 & 0.00000 & 0.02714 & 0.00000 & 0.000 & 0.00000 &  0.00000 & 0.00000 & 0.02889 & 0.00000 & 0.000 & 0.00 & 0.03427 & 0.04966 &  0.04173 & 0.000 & 0.000 & 0.00000 & 0.000 & 0.0000 & 0.00000 & 0.00000 & 0.02782 & 0.0313 & 0.00000 & 0.000 & 0.000 & 0.000 & 0.00000 & 0.00000 & 0.000 & 0.00000 & 0.00000 & 0.000 & 0.000 & 0.00000 & 0.00000 & 0.00000 & 0.00000 & 0.02596 & 0.04672 & 0.02687 & 0.00000 & 0.00000 & 0.00000 & 0.00000 & 0.000 & 0.00000 & 0.02608 & 0.00000 & 0.00000 & 0.00000 & 0.0000 & 0.00000 & 0.00000 & 0.00000 & 0.00000 & 0.00000 & 0.00000 & 0.00000 & 0.02803 & 0.00000 & 0.00000 & 0.02157 & 0.00000 & 0.00000 & 0.02676 & 0.02927 & 0.00 & 0.000 & 0.0000 & 0.00000 & 0.03678 & 0.000 & 0.00000 & 0.04058 & 0.00000 & 0.000 & 0.00000 & 0.00000 & ENSG00000237613.2 & FAM138A     & ENSG00000237613\\\\\n",
       "\t 0.00000 & 0.12410 & 0.0000 &  0.0000 & 0.00000 & 0.00000 & 0.05129 & 0.00000 & 0.0000 & 0.00000 & 0.0000 & 0.00000 & 0.00000 & 0.00000 & 0.03664 & 0.00000 & 0.00 & 0.000 & 0.00000 & 0.00000 & 0.02834 & 0.00000 & 0.00 & 0.000 & 0.00000 &  0.04337 & 0.00000 & 0.05114 & 0.00000 & 0.000 & 0.03757 & 0.000 & 0.000 & 0.00000 & 0.00000 & 0.00000 & 0.00000 & 0.00000 & 0.000 & 0.05935 & 0.00000 & 0.000 & 0.0000 & 0.03659 & 0.0000 &  0.08359 & 0.00000 & 0.00000 &  0.04381 & 0.000 & 0.000 & 0.06399 & 0.000 & 0.04184 & 0.02875 & 0.0499 &  0.0 & 0.03968 & 0.000 & 0.00000 & 0.00000 & 0.00000 & 0.0000 & 0.000 & 0.000 & 0.00000 & 0.03868 & 0.00000 & 0.00000 & 0.00000 & 0.00000 & 0.0000 & 0.00000 & 0.00000 & 0.000 & 0.00000 & 0.000 & 0.000 & 0.0000 & 0.00000 & 0.00000 & 0.00000 & 0.00000 & 0.000 & 0.000 & 0.08689 & 0.00000 & 0.000 & 0.05147 & 0.00000 & 0.00000 & 0.000 & 0.00 & 0.000 & 0.00 & 0.00000 & 0.03317 & 0.000 & 0.0 & 0.000 & 0.00000 & 0.0000 & 0.03727 &  0.0000 & 0.03920 &  0.1515 & 0.000 & 0.00000 & 0.00000 & 0.000 & 0.03456 & 0.00 & 0.03231 & 0.00000 & 0.00000 & 0.00000 & 0.06396 & 0.000 & 0.00000 & 0.000 & 0.00000 & 0.00000 & 0.000 & 0.00000 & 0.000 & 0.0000 & 0.08018 & 0.00000 & 0.000 & 0.000 & 0.000 & 0.00000 & 0.04201 & 0.00000 & 0.00000 & 0.000 & 0.05088 &  0.00 & 0.00000 & 0.00000 & 0.05709 & 0.000 & 0.000 & 0.00000 & 0.00000 & 0.000 & 0.0000 & 0.00000 & 0.06876 & 0.00000 & 0.00000 & 0.000 & 0.04799 & 0.00000 & 0.04576 & 0.00000 & 0.20550 & 0.04911 & 0.00000 & 0.04453 & 0.000 & 0.00000 & 0.000 & 0.0000 & 0.00000 & 0.000 & 0.00000 & 0.00000 & 0.000 & 0.09095 & 0.00000 & 0.00000 & 0.000 & 0.08517 & 0.00000 & 0.0000 & 0.00000 & 0.00000 & 0.0000 & 0.00000 & 0.000 & 0.00000 & 0.05140 & 0.03958 & 0.00000 & 0.05476 & 0.00000 & 0.000 & 0.00000 & 0.00000 & 0.0000 & 0.00000 & 0.03920 & 0.00000 & 0.000 & 0.03796 & 0.00 & 0.08254 & 0.00000 & 0.03769 & 0.00000 &  0.00000 & 0.00000 & 0.000 & 0.03563 & 0.00000 & 0.00000 & 0.00000 & 0.00000 & 0.10230 & 0.00000 & 0.03528 & 0.000 & 0.09478 & 0.00000 & 0.11520 & 0.10720 & 0.00000 & 0.04903 & 0.03889 & 0.04062 & 0.0283 & 0.11190 & 0.00000 & 0.00000 & 0.04962 & 0.03564 & 0.000 & 0.000 & 0.04408 & 0.000 & 0.00000 & 0.00000 & 0.000 & 0.00000 & 0.000 & 0.000 &  0.00 & 0.000 & 0.000 & 0.00000 & 0.04071 & 0.00000 & 0.000 & 0.00000 & 0.07841 & 0.000 & 0.00000 & 0.000 & 0.00 & 0.00000 & 0.00000 & 0.000 &  0.00000 & 0.00000 & 0.0000 & 0.00000 & 0.00000 & 0.000 & 0.00000 & 0.0000 & 0.000 & 0.0417 & 0.00000 & 0.07549 & 0.00 & 0.00000 & 0.00000 & 0.00000 & 0.03806 & 0.00000 & 0.04072 & 0.00000 & 0.000 & 0.0000 & 0.000 & 0.0000 & 0.000 & 0.000 & 0.0000 & 0.00000 & 0.00000 & 0.00000 & 0.02856 & 0.00000 & 0.000 & 0.000 & 0.01936 & 0.00000 & 0.000 & 0.00 & 0.000 & 0.00000 & 0.00000 & 0.00000 & 0.03105 & 0.02735 & 0.00 & 0.00000 & 0.0000 & 0.0000 & 0.00000 & 0.03113 & 0.00000 & 0.000 & 0.00000 & 0.000 & 0.000 & 0.000 & 0.000 & 0.00000 & 0.00000 & 0.1074 & 0.00000 & 0.00000 & 0.06517 & 0.00000 & 0.00000 & 0.00000 & 0.00000 & 0.00000 & 0.00000 & 0.000 & 0.00000 & 0.000 & 0.000 & 0.0000 & 0.00000 & 0.000 & 0.00000 & 0.0421 & 0.0000 & 0.00000 & 0.000 & 0.00000 & 0.04008 & 0.00000 & 0.04756 & 0.000 & 0.00000 & 0.000 & 0.00000 & 0.000 & 0.000 & 0.00000 & 0.00000 & 0.000 & 0.00000 & 0.00000 & 0.000 & 0.0000 & 0.00000 & 0.00000 & 0.00000 & 0.0000 & 0.000 & 0.0000 & 0.0000 & 0.0000 & 0.000 & 0.000 & 0.000 & 0.04676 & 0.00000 & 0.09312 & 0.000 & 0.0000 & 0.03948 & 0.0000 & 0.000 & 0.0000 & 0.000 & 0.000 & 0.00000 & 0.0000 & 0.0000 & 0.000 & 0.00000 & 0.00 & 0.06564 & 0.03581 & 0.00000 & 0.05654 & 0.00000 & 0.000 & 0.00000 & 0.000 & 0.01525 & 0.00000 & 0.000 & 0.0000 & 0.00000 & 0.00000 & 0.00000 & 0.000 & 0.0000 & 0.0000 & 0.000 & 0.00000 & 0.000 & 0.00000 & 0.00000 & 0.00000 & 0.000 & 0.0000 & 0.000 & 0.00000 & 0.03686 &  0.0000 & 0.00000 & 0.0000 & 0.05811 & 0.000 & 0.000 & 0.000 & 0.000 & 0.0000 & 0.000 & 0.00000 & 0.000 & 0.000 & 0.02721 & 0.000 & 0.0000 & 0.04185 & 0.00000 & 0.0000 & 0.00000 & 0.00000 & 0.03347 & 0.00000 & 0.0318 & 0.000 & 0.00000 & 0.02671 & 0.00000 & 0.00000 & 0.00000 & 0.000 & 0.00000 & 0.000 & 0.00000 & 0.00000 & 0.0000 & 0.000 & 0.000 & 0.000 & 0.000 & 0.000 & 0.00000 & 0.0000 & 0.0000 & 0.000 & 0.000 & 0.000 & 0.000 & 0.000 & 0.000 & 0.000 & 0.03887 & 0.00000 & 0.000 & 0.00000 & 0.04802 & 0.04011 & 0.03989 & 0.06914 & 0.00000 & 0.00000 & 0.000 & 0.08254 & 0.00000 & 0.000 & 0.04238 & 0.00000 & 0.03342 & 0.00000 & 0.05855 & 0.00000 & 0.00000 & 0.000 & 0.0000 & 0.00000 & 0.00000 & 0.00000 & 0.0000 & 0.000 & 0.03087 & 0.000 & 0.000 & 0.00 & 0.03072 & 0.00000 & 0.04109 & 0.00000 & 0.000 & 0.00000 & 0.0471 & 0.0000 & 0.03272 & 0.00000 & 0.02643 & 0.000 & 0.00000 & 0.04228 & 0.000 & 0.00000 & 0.00000 & 0.00000 & 0.000 & 0.0000 & 0.000 & 0.00000 & 0.00000 & 0.000 & 0.04921 & 0.00000 & 0.000 & 0.000 & 0.0000 & 0.00000 & 0.00000 & 0.04260 & 0.000 & 0.03717 & 0.00000 & 0.05110 & 0.0000 & 0.07419 & 0.04675 & 0.00000 & 0.00000 & 0.06604 & 0.08597 & 0.04707 & 0.00000 & 0.04034 & 0.07612 & 0.000 & 0.03096 & 0.00000 & 0.00000 & 0.12880 & 0.04434 & 0.00000 & 0.08741 & 0.00000 & 0.000 & 0.00000 & 0.00000 & 0.02926 & 0.0000 & 0.000 & 0.00000 & 0.00 & 0.00000 & 0.05316 & 0.00000 & 0.07882 & 0.04681 & 0.00000 & 0.000 & 0.15880 & 0.03468 & 0.00000 & 0.06034 & 0.04272 & 0.000 & 0.09651 & 0.00000 & 0.000 & 0.000 & 0.000 & 0.21920 & 0.00000 & 0.00000 & 0.1195 &  0.00 & 0.000 & 0.0000 & 0.000 & 0.08467 & 0.1844 & 0.0000 & 0.05905 & 0.000 & 0.00000 & 0.00000 & 0.000 & 0.00000 & 0.05375 & 0.07034 & 0.000 & 0.06138 & 0.05600 & 0.00000 &  0.0000 & 0.10660 & 0.03274 & 0.00000 & 0.00000 & 0.06384 & 0.00000 & 0.00000 & 0.000 & 0.03608 & 0.00000 & 0.00000 &  0.00 & 0.00000 & 0.0000 & 0.0000 & 0.0000 & 0.00000 & 0.05692 & 0.000 & 0.00000 & 0.00000 & 0.000 & 0.05802 & 0.000 & 0.00000 & 0.0409 & 0.02563 & 0.03629 & 0.000 & 0.00000 & 0.0000 & 0.04098 & 0.000 &  0.00 &  0.03096 & 0.0562 & 0.00 & 0.00000 & 0.08759 & 0.00000 & 0.00000 & 0.000 & 0.03673 & 0.000 & 0.000 & 0.00000 & 0.00000 & 0.0000 & 0.000 & 0.000 & 0.04632 & 0.000 & 0.000 & 0.0000 & 0.00 & 0.03668 & 0.00000 & 0.00000 & 0.03167 & 0.0000 & 0.0000 & 0.03283 & 0.00000 & 0.00000 & 0.05599 & 0.000 & 0.00000 & 0.03880 & 0.000 &  0.00000 & 0.00000 & 0.13800 & 0.000 & 0.00000 & 0.00000 & 0.00000 & 0.00000 & 0.0000 & 0.000 & 0.06735 & 0.00000 & 0.00000 & 0.000 & 0.08027 &  0.05181 & 0.09463 & 0.00000 & 0.00000 & 0.000 & 0.00 & 0.00000 & 0.00000 &  0.12110 & 0.000 & 0.000 & 0.00000 & 0.000 & 0.0000 & 0.00000 & 0.00000 & 0.00000 & 0.0000 & 0.04255 & 0.000 & 0.000 & 0.000 & 0.00000 & 0.00000 & 0.000 & 0.04118 & 0.00000 & 0.000 & 0.000 & 0.02677 & 0.00000 & 0.09088 & 0.03368 & 0.00000 & 0.03390 & 0.00000 & 0.00000 & 0.06856 & 0.00000 & 0.00000 & 0.000 & 0.00000 & 0.03785 & 0.00000 & 0.06758 & 0.11090 & 0.0000 & 0.00000 & 0.00000 & 0.00000 & 0.03747 & 0.00000 & 0.04021 & 0.03998 & 0.00000 & 0.03591 & 0.04228 & 0.00000 & 0.00000 & 0.00000 & 0.03884 & 0.00000 & 0.00 & 0.000 & 0.0000 & 0.00000 & 0.00000 & 0.000 & 0.00000 & 0.00000 & 0.04975 & 0.000 & 0.00000 & 0.04948 & ENSG00000268020.3 & OR4G4P      & ENSG00000268020\\\\\n",
       "\\end{tabular}\n"
      ],
      "text/markdown": [
       "\n",
       "A data.frame: 6 × 758\n",
       "\n",
       "| GTEX-111YS-0006-SM-5NQBE &lt;dbl&gt; | GTEX-1122O-0005-SM-5O99J &lt;dbl&gt; | GTEX-1128S-0005-SM-5P9HI &lt;dbl&gt; | GTEX-113IC-0006-SM-5NQ9C &lt;dbl&gt; | GTEX-113JC-0006-SM-5O997 &lt;dbl&gt; | GTEX-117XS-0005-SM-5PNU6 &lt;dbl&gt; | GTEX-117YW-0005-SM-5NQ8Z &lt;dbl&gt; | GTEX-1192W-0005-SM-5NQBQ &lt;dbl&gt; | GTEX-1192X-0005-SM-5NQC3 &lt;dbl&gt; | GTEX-11DXW-0006-SM-5NQ7Y &lt;dbl&gt; | ⋯ ⋯ | GTEX-ZVT3-0006-SM-51MT9 &lt;dbl&gt; | GTEX-ZVT4-0006-SM-57WB8 &lt;dbl&gt; | GTEX-ZVTK-0006-SM-57WBK &lt;dbl&gt; | GTEX-ZVZP-0006-SM-51MSW &lt;dbl&gt; | GTEX-ZVZQ-0006-SM-51MR8 &lt;dbl&gt; | GTEX-ZXES-0005-SM-57WCB &lt;dbl&gt; | GTEX-ZXG5-0005-SM-57WCN &lt;dbl&gt; | Name &lt;chr&gt; | Description &lt;chr&gt; | NameClean &lt;chr&gt; |\n",
       "|---|---|---|---|---|---|---|---|---|---|---|---|---|---|---|---|---|---|---|---|---|\n",
       "| 0.02171 | 0.03015 | 0.0203 |  0.1675 | 0.02104 | 0.02537 | 0.02492 | 0.06809 | 0.0000 | 0.02443 | ⋯ | 0.000 | 0.04858 | 0.11450 | 0.02417 | 0.000 | 0.02128 | 0.00000 | ENSG00000223972.5 | DDX11L1     | ENSG00000223972 |\n",
       "| 1.55500 | 2.74700 | 4.4410 | 10.4700 | 1.28700 | 3.13800 | 4.21700 | 2.09800 | 0.3579 | 4.26200 | ⋯ | 1.504 | 3.19400 | 2.90600 | 3.43000 | 4.169 | 2.74300 | 6.07200 | ENSG00000227232.5 | WASH7P      | ENSG00000227232 |\n",
       "| 0.00000 | 0.00000 | 0.0000 |  0.0000 | 0.00000 | 0.00000 | 0.00000 | 0.00000 | 0.0000 | 0.62120 | ⋯ | 0.000 | 0.00000 | 0.00000 | 0.00000 | 0.000 | 0.00000 | 0.61120 | ENSG00000278267.1 | MIR6859-1   | ENSG00000278267 |\n",
       "| 0.00000 | 0.00000 | 0.0000 |  0.0000 | 0.00000 | 0.00000 | 0.00000 | 0.04532 | 0.0000 | 0.00000 | ⋯ | 0.000 | 0.09698 | 0.11430 | 0.00000 | 0.000 | 0.00000 | 0.00000 | ENSG00000243485.5 | MIR1302-2HG | ENSG00000243485 |\n",
       "| 0.00000 | 0.00000 | 0.0576 |  0.0000 | 0.00000 | 0.00000 | 0.00000 | 0.00000 | 0.0000 | 0.00000 | ⋯ | 0.000 | 0.00000 | 0.04058 | 0.00000 | 0.000 | 0.00000 | 0.00000 | ENSG00000237613.2 | FAM138A     | ENSG00000237613 |\n",
       "| 0.00000 | 0.12410 | 0.0000 |  0.0000 | 0.00000 | 0.00000 | 0.05129 | 0.00000 | 0.0000 | 0.00000 | ⋯ | 0.000 | 0.00000 | 0.00000 | 0.04975 | 0.000 | 0.00000 | 0.04948 | ENSG00000268020.3 | OR4G4P      | ENSG00000268020 |\n",
       "\n"
      ],
      "text/plain": [
       "  GTEX-111YS-0006-SM-5NQBE GTEX-1122O-0005-SM-5O99J GTEX-1128S-0005-SM-5P9HI\n",
       "1 0.02171                  0.03015                  0.0203                  \n",
       "2 1.55500                  2.74700                  4.4410                  \n",
       "3 0.00000                  0.00000                  0.0000                  \n",
       "4 0.00000                  0.00000                  0.0000                  \n",
       "5 0.00000                  0.00000                  0.0576                  \n",
       "6 0.00000                  0.12410                  0.0000                  \n",
       "  GTEX-113IC-0006-SM-5NQ9C GTEX-113JC-0006-SM-5O997 GTEX-117XS-0005-SM-5PNU6\n",
       "1  0.1675                  0.02104                  0.02537                 \n",
       "2 10.4700                  1.28700                  3.13800                 \n",
       "3  0.0000                  0.00000                  0.00000                 \n",
       "4  0.0000                  0.00000                  0.00000                 \n",
       "5  0.0000                  0.00000                  0.00000                 \n",
       "6  0.0000                  0.00000                  0.00000                 \n",
       "  GTEX-117YW-0005-SM-5NQ8Z GTEX-1192W-0005-SM-5NQBQ GTEX-1192X-0005-SM-5NQC3\n",
       "1 0.02492                  0.06809                  0.0000                  \n",
       "2 4.21700                  2.09800                  0.3579                  \n",
       "3 0.00000                  0.00000                  0.0000                  \n",
       "4 0.00000                  0.04532                  0.0000                  \n",
       "5 0.00000                  0.00000                  0.0000                  \n",
       "6 0.05129                  0.00000                  0.0000                  \n",
       "  GTEX-11DXW-0006-SM-5NQ7Y ⋯ GTEX-ZVT3-0006-SM-51MT9 GTEX-ZVT4-0006-SM-57WB8\n",
       "1 0.02443                  ⋯ 0.000                   0.04858                \n",
       "2 4.26200                  ⋯ 1.504                   3.19400                \n",
       "3 0.62120                  ⋯ 0.000                   0.00000                \n",
       "4 0.00000                  ⋯ 0.000                   0.09698                \n",
       "5 0.00000                  ⋯ 0.000                   0.00000                \n",
       "6 0.00000                  ⋯ 0.000                   0.00000                \n",
       "  GTEX-ZVTK-0006-SM-57WBK GTEX-ZVZP-0006-SM-51MSW GTEX-ZVZQ-0006-SM-51MR8\n",
       "1 0.11450                 0.02417                 0.000                  \n",
       "2 2.90600                 3.43000                 4.169                  \n",
       "3 0.00000                 0.00000                 0.000                  \n",
       "4 0.11430                 0.00000                 0.000                  \n",
       "5 0.04058                 0.00000                 0.000                  \n",
       "6 0.00000                 0.04975                 0.000                  \n",
       "  GTEX-ZXES-0005-SM-57WCB GTEX-ZXG5-0005-SM-57WCN Name              Description\n",
       "1 0.02128                 0.00000                 ENSG00000223972.5 DDX11L1    \n",
       "2 2.74300                 6.07200                 ENSG00000227232.5 WASH7P     \n",
       "3 0.00000                 0.61120                 ENSG00000278267.1 MIR6859-1  \n",
       "4 0.00000                 0.00000                 ENSG00000243485.5 MIR1302-2HG\n",
       "5 0.00000                 0.00000                 ENSG00000237613.2 FAM138A    \n",
       "6 0.00000                 0.04948                 ENSG00000268020.3 OR4G4P     \n",
       "  NameClean      \n",
       "1 ENSG00000223972\n",
       "2 ENSG00000227232\n",
       "3 ENSG00000278267\n",
       "4 ENSG00000243485\n",
       "5 ENSG00000237613\n",
       "6 ENSG00000268020"
      ]
     },
     "metadata": {},
     "output_type": "display_data"
    }
   ],
   "source": [
    "head(expression_list[[\"Whole_Blood\"]])"
   ]
  },
  {
   "cell_type": "code",
   "execution_count": 159,
   "metadata": {},
   "outputs": [
    {
     "data": {
      "text/html": [
       "<ol class=list-inline>\n",
       "\t<li>55</li>\n",
       "\t<li>2</li>\n",
       "</ol>\n"
      ],
      "text/latex": [
       "\\begin{enumerate*}\n",
       "\\item 55\n",
       "\\item 2\n",
       "\\end{enumerate*}\n"
      ],
      "text/markdown": [
       "1. 55\n",
       "2. 2\n",
       "\n",
       "\n"
      ],
      "text/plain": [
       "[1] 55  2"
      ]
     },
     "metadata": {},
     "output_type": "display_data"
    }
   ],
   "source": [
    "dim(tissue_df)"
   ]
  },
  {
   "cell_type": "code",
   "execution_count": 202,
   "metadata": {},
   "outputs": [
    {
     "data": {
      "text/html": [
       "<table class=\"table\" style=\"margin-left: auto; margin-right: auto;\">\n",
       " <thead>\n",
       "  <tr>\n",
       "   <th style=\"text-align:left;\"> tissue </th>\n",
       "   <th style=\"text-align:right;\"> sample_size </th>\n",
       "  </tr>\n",
       " </thead>\n",
       "<tbody>\n",
       "  <tr>\n",
       "   <td style=\"text-align:left;\"> Muscle_Skeletal </td>\n",
       "   <td style=\"text-align:right;\"> 803 </td>\n",
       "  </tr>\n",
       "  <tr>\n",
       "   <td style=\"text-align:left;\"> Whole_Blood </td>\n",
       "   <td style=\"text-align:right;\"> 755 </td>\n",
       "  </tr>\n",
       "  <tr>\n",
       "   <td style=\"text-align:left;\"> Skin_Sun_Exposed_Lower_leg </td>\n",
       "   <td style=\"text-align:right;\"> 701 </td>\n",
       "  </tr>\n",
       "  <tr>\n",
       "   <td style=\"text-align:left;\"> Adipose_Subcutaneous </td>\n",
       "   <td style=\"text-align:right;\"> 663 </td>\n",
       "  </tr>\n",
       "  <tr>\n",
       "   <td style=\"text-align:left;\"> Artery_Tibial </td>\n",
       "   <td style=\"text-align:right;\"> 663 </td>\n",
       "  </tr>\n",
       "  <tr>\n",
       "   <td style=\"text-align:left;\"> Thyroid </td>\n",
       "   <td style=\"text-align:right;\"> 653 </td>\n",
       "  </tr>\n",
       "  <tr>\n",
       "   <td style=\"text-align:left;\"> Nerve_Tibial </td>\n",
       "   <td style=\"text-align:right;\"> 619 </td>\n",
       "  </tr>\n",
       "  <tr>\n",
       "   <td style=\"text-align:left;\"> Skin_Not_Sun_Exposed_Suprapubic </td>\n",
       "   <td style=\"text-align:right;\"> 604 </td>\n",
       "  </tr>\n",
       "  <tr>\n",
       "   <td style=\"text-align:left;\"> Lung </td>\n",
       "   <td style=\"text-align:right;\"> 578 </td>\n",
       "  </tr>\n",
       "  <tr>\n",
       "   <td style=\"text-align:left;\"> Esophagus_Mucosa </td>\n",
       "   <td style=\"text-align:right;\"> 555 </td>\n",
       "  </tr>\n",
       "  <tr>\n",
       "   <td style=\"text-align:left;\"> Adipose_Visceral_Omentum </td>\n",
       "   <td style=\"text-align:right;\"> 541 </td>\n",
       "  </tr>\n",
       "  <tr>\n",
       "   <td style=\"text-align:left;\"> Esophagus_Muscularis </td>\n",
       "   <td style=\"text-align:right;\"> 515 </td>\n",
       "  </tr>\n",
       "  <tr>\n",
       "   <td style=\"text-align:left;\"> Cells_Cultured_fibroblasts </td>\n",
       "   <td style=\"text-align:right;\"> 504 </td>\n",
       "  </tr>\n",
       "  <tr>\n",
       "   <td style=\"text-align:left;\"> Breast_Mammary_Tissue </td>\n",
       "   <td style=\"text-align:right;\"> 459 </td>\n",
       "  </tr>\n",
       "  <tr>\n",
       "   <td style=\"text-align:left;\"> Heart_Left_Ventricle </td>\n",
       "   <td style=\"text-align:right;\"> 432 </td>\n",
       "  </tr>\n",
       "  <tr>\n",
       "   <td style=\"text-align:left;\"> Artery_Aorta </td>\n",
       "   <td style=\"text-align:right;\"> 432 </td>\n",
       "  </tr>\n",
       "  <tr>\n",
       "   <td style=\"text-align:left;\"> Heart_Atrial_Appendage </td>\n",
       "   <td style=\"text-align:right;\"> 429 </td>\n",
       "  </tr>\n",
       "  <tr>\n",
       "   <td style=\"text-align:left;\"> Colon_Transverse </td>\n",
       "   <td style=\"text-align:right;\"> 406 </td>\n",
       "  </tr>\n",
       "  <tr>\n",
       "   <td style=\"text-align:left;\"> Esophagus_Gastroesophageal_Junction </td>\n",
       "   <td style=\"text-align:right;\"> 375 </td>\n",
       "  </tr>\n",
       "  <tr>\n",
       "   <td style=\"text-align:left;\"> Colon_Sigmoid </td>\n",
       "   <td style=\"text-align:right;\"> 373 </td>\n",
       "  </tr>\n",
       "  <tr>\n",
       "   <td style=\"text-align:left;\"> Testis </td>\n",
       "   <td style=\"text-align:right;\"> 361 </td>\n",
       "  </tr>\n",
       "  <tr>\n",
       "   <td style=\"text-align:left;\"> Stomach </td>\n",
       "   <td style=\"text-align:right;\"> 359 </td>\n",
       "  </tr>\n",
       "  <tr>\n",
       "   <td style=\"text-align:left;\"> Pancreas </td>\n",
       "   <td style=\"text-align:right;\"> 328 </td>\n",
       "  </tr>\n",
       "  <tr>\n",
       "   <td style=\"text-align:left;\"> Pituitary </td>\n",
       "   <td style=\"text-align:right;\"> 283 </td>\n",
       "  </tr>\n",
       "  <tr>\n",
       "   <td style=\"text-align:left;\"> Adrenal_Gland </td>\n",
       "   <td style=\"text-align:right;\"> 258 </td>\n",
       "  </tr>\n",
       "  <tr>\n",
       "   <td style=\"text-align:left;\"> Brain_Cortex </td>\n",
       "   <td style=\"text-align:right;\"> 255 </td>\n",
       "  </tr>\n",
       "  <tr>\n",
       "   <td style=\"text-align:left;\"> Brain_Caudate_basal_ganglia </td>\n",
       "   <td style=\"text-align:right;\"> 246 </td>\n",
       "  </tr>\n",
       "  <tr>\n",
       "   <td style=\"text-align:left;\"> Brain_Nucleus_accumbens_basal_ganglia </td>\n",
       "   <td style=\"text-align:right;\"> 246 </td>\n",
       "  </tr>\n",
       "  <tr>\n",
       "   <td style=\"text-align:left;\"> Prostate </td>\n",
       "   <td style=\"text-align:right;\"> 245 </td>\n",
       "  </tr>\n",
       "  <tr>\n",
       "   <td style=\"text-align:left;\"> Spleen </td>\n",
       "   <td style=\"text-align:right;\"> 241 </td>\n",
       "  </tr>\n",
       "  <tr>\n",
       "   <td style=\"text-align:left;\"> Brain_Cerebellum </td>\n",
       "   <td style=\"text-align:right;\"> 241 </td>\n",
       "  </tr>\n",
       "  <tr>\n",
       "   <td style=\"text-align:left;\"> Artery_Coronary </td>\n",
       "   <td style=\"text-align:right;\"> 240 </td>\n",
       "  </tr>\n",
       "  <tr>\n",
       "   <td style=\"text-align:left;\"> Liver </td>\n",
       "   <td style=\"text-align:right;\"> 226 </td>\n",
       "  </tr>\n",
       "  <tr>\n",
       "   <td style=\"text-align:left;\"> Brain_Cerebellar_Hemisphere </td>\n",
       "   <td style=\"text-align:right;\"> 215 </td>\n",
       "  </tr>\n",
       "  <tr>\n",
       "   <td style=\"text-align:left;\"> Brain_Frontal_Cortex_BA9 </td>\n",
       "   <td style=\"text-align:right;\"> 209 </td>\n",
       "  </tr>\n",
       "  <tr>\n",
       "   <td style=\"text-align:left;\"> Brain_Putamen_basal_ganglia </td>\n",
       "   <td style=\"text-align:right;\"> 205 </td>\n",
       "  </tr>\n",
       "  <tr>\n",
       "   <td style=\"text-align:left;\"> Brain_Hypothalamus </td>\n",
       "   <td style=\"text-align:right;\"> 202 </td>\n",
       "  </tr>\n",
       "  <tr>\n",
       "   <td style=\"text-align:left;\"> Brain_Hippocampus </td>\n",
       "   <td style=\"text-align:right;\"> 197 </td>\n",
       "  </tr>\n",
       "  <tr>\n",
       "   <td style=\"text-align:left;\"> Small_Intestine_Terminal_Ileum </td>\n",
       "   <td style=\"text-align:right;\"> 187 </td>\n",
       "  </tr>\n",
       "  <tr>\n",
       "   <td style=\"text-align:left;\"> Ovary </td>\n",
       "   <td style=\"text-align:right;\"> 180 </td>\n",
       "  </tr>\n",
       "  <tr>\n",
       "   <td style=\"text-align:left;\"> Brain_Anterior_cingulate_cortex_BA24 </td>\n",
       "   <td style=\"text-align:right;\"> 176 </td>\n",
       "  </tr>\n",
       "  <tr>\n",
       "   <td style=\"text-align:left;\"> Cells_EBV-transformed_lymphocytes </td>\n",
       "   <td style=\"text-align:right;\"> 174 </td>\n",
       "  </tr>\n",
       "  <tr>\n",
       "   <td style=\"text-align:left;\"> Minor_Salivary_Gland </td>\n",
       "   <td style=\"text-align:right;\"> 162 </td>\n",
       "  </tr>\n",
       "  <tr>\n",
       "   <td style=\"text-align:left;\"> Brain_Spinal_cord_cervical_c-1 </td>\n",
       "   <td style=\"text-align:right;\"> 159 </td>\n",
       "  </tr>\n",
       "  <tr>\n",
       "   <td style=\"text-align:left;\"> Vagina </td>\n",
       "   <td style=\"text-align:right;\"> 156 </td>\n",
       "  </tr>\n",
       "  <tr>\n",
       "   <td style=\"text-align:left;\"> Brain_Amygdala </td>\n",
       "   <td style=\"text-align:right;\"> 152 </td>\n",
       "  </tr>\n",
       "  <tr>\n",
       "   <td style=\"text-align:left;\"> Uterus </td>\n",
       "   <td style=\"text-align:right;\"> 142 </td>\n",
       "  </tr>\n",
       "  <tr>\n",
       "   <td style=\"text-align:left;\"> Brain_Substantia_nigra </td>\n",
       "   <td style=\"text-align:right;\"> 139 </td>\n",
       "  </tr>\n",
       "  <tr>\n",
       "   <td style=\"text-align:left;\"> Kidney_Cortex </td>\n",
       "   <td style=\"text-align:right;\"> 85 </td>\n",
       "  </tr>\n",
       "  <tr>\n",
       "   <td style=\"text-align:left;color: grey !important;\"> Bladder </td>\n",
       "   <td style=\"text-align:right;color: grey !important;\"> 21 </td>\n",
       "  </tr>\n",
       "  <tr>\n",
       "   <td style=\"text-align:left;color: grey !important;\"> Cervix_Endocervix </td>\n",
       "   <td style=\"text-align:right;color: grey !important;\"> 10 </td>\n",
       "  </tr>\n",
       "  <tr>\n",
       "   <td style=\"text-align:left;color: grey !important;\"> Cervix_Ectocervix </td>\n",
       "   <td style=\"text-align:right;color: grey !important;\"> 9 </td>\n",
       "  </tr>\n",
       "  <tr>\n",
       "   <td style=\"text-align:left;color: grey !important;\"> Fallopian_Tube </td>\n",
       "   <td style=\"text-align:right;color: grey !important;\"> 9 </td>\n",
       "  </tr>\n",
       "  <tr>\n",
       "   <td style=\"text-align:left;color: grey !important;\"> Kidney_Medulla </td>\n",
       "   <td style=\"text-align:right;color: grey !important;\"> 4 </td>\n",
       "  </tr>\n",
       "  <tr>\n",
       "   <td style=\"text-align:left;color: grey !important;\"> Cells_Leukemia_cell_line_CML </td>\n",
       "   <td style=\"text-align:right;color: grey !important;\"> 0 </td>\n",
       "  </tr>\n",
       "</tbody>\n",
       "</table>"
      ]
     },
     "metadata": {},
     "output_type": "display_data"
    }
   ],
   "source": [
    "tissue_df %>%\n",
    "    arrange(desc(sample_size)) %>%\n",
    "    kable(\"html\") %>%\n",
    "    row_spec(which(sample_size < 30), color = \"grey\") %>%\n",
    "    kable_styling() %>%\n",
    "    as.character() %>%\n",
    "    IRdisplay::display_html()"
   ]
  },
  {
   "cell_type": "code",
   "execution_count": 175,
   "metadata": {},
   "outputs": [],
   "source": [
    "tissue_target <- tissue_df %>%\n",
    "    arrange(desc(sample_size))\n",
    "tissue_vec_target <- tissue_target$tissue[1:49]"
   ]
  },
  {
   "cell_type": "code",
   "execution_count": null,
   "metadata": {},
   "outputs": [],
   "source": []
  },
  {
   "cell_type": "code",
   "execution_count": 165,
   "metadata": {},
   "outputs": [
    {
     "data": {
      "text/html": [
       "55"
      ],
      "text/latex": [
       "55"
      ],
      "text/markdown": [
       "55"
      ],
      "text/plain": [
       "[1] 55"
      ]
     },
     "metadata": {},
     "output_type": "display_data"
    }
   ],
   "source": [
    "length(tissue_vec_clean)"
   ]
  },
  {
   "cell_type": "code",
   "execution_count": 206,
   "metadata": {},
   "outputs": [
    {
     "data": {
      "text/html": [
       "<ol class=list-inline>\n",
       "\t<li>'Whole_Blood'</li>\n",
       "\t<li>'Brain_Frontal_Cortex_BA9'</li>\n",
       "\t<li>'Adipose_Subcutaneous'</li>\n",
       "\t<li>'Muscle_Skeletal'</li>\n",
       "\t<li>'Artery_Tibial'</li>\n",
       "\t<li>'Artery_Coronary'</li>\n",
       "\t<li>'Heart_Atrial_Appendage'</li>\n",
       "\t<li>'Adipose_Visceral_Omentum'</li>\n",
       "\t<li>'Ovary'</li>\n",
       "\t<li>'Uterus'</li>\n",
       "\t<li>'Vagina'</li>\n",
       "\t<li>'Breast_Mammary_Tissue'</li>\n",
       "\t<li>'Skin_Not_Sun_Exposed_Suprapubic'</li>\n",
       "\t<li>'Minor_Salivary_Gland'</li>\n",
       "\t<li>'Brain_Cortex'</li>\n",
       "\t<li>'Adrenal_Gland'</li>\n",
       "\t<li>'Thyroid'</li>\n",
       "\t<li>'Lung'</li>\n",
       "\t<li>'Spleen'</li>\n",
       "\t<li>'Pancreas'</li>\n",
       "\t<li>'Esophagus_Muscularis'</li>\n",
       "\t<li>'Esophagus_Mucosa'</li>\n",
       "\t<li>'Esophagus_Gastroesophageal_Junction'</li>\n",
       "\t<li>'Stomach'</li>\n",
       "\t<li>'Colon_Sigmoid'</li>\n",
       "\t<li>'Small_Intestine_Terminal_Ileum'</li>\n",
       "\t<li>'Colon_Transverse'</li>\n",
       "\t<li>'Prostate'</li>\n",
       "\t<li>'Testis'</li>\n",
       "\t<li>'Skin_Sun_Exposed_Lower_leg'</li>\n",
       "\t<li>'Nerve_Tibial'</li>\n",
       "\t<li>'Heart_Left_Ventricle'</li>\n",
       "\t<li>'Pituitary'</li>\n",
       "\t<li>'Brain_Cerebellum'</li>\n",
       "\t<li>'Cells_Cultured_fibroblasts'</li>\n",
       "\t<li>'Artery_Aorta'</li>\n",
       "\t<li>'Cells_EBV-transformed_lymphocytes'</li>\n",
       "\t<li>'Brain_Cerebellar_Hemisphere'</li>\n",
       "\t<li>'Brain_Caudate_basal_ganglia'</li>\n",
       "\t<li>'Brain_Nucleus_accumbens_basal_ganglia'</li>\n",
       "\t<li>'Brain_Putamen_basal_ganglia'</li>\n",
       "\t<li>'Brain_Hypothalamus'</li>\n",
       "\t<li>'Brain_Spinal_cord_cervical_c-1'</li>\n",
       "\t<li>'Liver'</li>\n",
       "\t<li>'Brain_Hippocampus'</li>\n",
       "\t<li>'Brain_Anterior_cingulate_cortex_BA24'</li>\n",
       "\t<li>'Brain_Substantia_nigra'</li>\n",
       "\t<li>'Kidney_Cortex'</li>\n",
       "\t<li>'Brain_Amygdala'</li>\n",
       "\t<li>'Cervix_Ectocervix'</li>\n",
       "\t<li>'Fallopian_Tube'</li>\n",
       "\t<li>'Cervix_Endocervix'</li>\n",
       "\t<li>'Bladder'</li>\n",
       "\t<li>'Kidney_Medulla'</li>\n",
       "\t<li>'Cells_Leukemia_cell_line_CML'</li>\n",
       "</ol>\n"
      ],
      "text/latex": [
       "\\begin{enumerate*}\n",
       "\\item 'Whole\\_Blood'\n",
       "\\item 'Brain\\_Frontal\\_Cortex\\_BA9'\n",
       "\\item 'Adipose\\_Subcutaneous'\n",
       "\\item 'Muscle\\_Skeletal'\n",
       "\\item 'Artery\\_Tibial'\n",
       "\\item 'Artery\\_Coronary'\n",
       "\\item 'Heart\\_Atrial\\_Appendage'\n",
       "\\item 'Adipose\\_Visceral\\_Omentum'\n",
       "\\item 'Ovary'\n",
       "\\item 'Uterus'\n",
       "\\item 'Vagina'\n",
       "\\item 'Breast\\_Mammary\\_Tissue'\n",
       "\\item 'Skin\\_Not\\_Sun\\_Exposed\\_Suprapubic'\n",
       "\\item 'Minor\\_Salivary\\_Gland'\n",
       "\\item 'Brain\\_Cortex'\n",
       "\\item 'Adrenal\\_Gland'\n",
       "\\item 'Thyroid'\n",
       "\\item 'Lung'\n",
       "\\item 'Spleen'\n",
       "\\item 'Pancreas'\n",
       "\\item 'Esophagus\\_Muscularis'\n",
       "\\item 'Esophagus\\_Mucosa'\n",
       "\\item 'Esophagus\\_Gastroesophageal\\_Junction'\n",
       "\\item 'Stomach'\n",
       "\\item 'Colon\\_Sigmoid'\n",
       "\\item 'Small\\_Intestine\\_Terminal\\_Ileum'\n",
       "\\item 'Colon\\_Transverse'\n",
       "\\item 'Prostate'\n",
       "\\item 'Testis'\n",
       "\\item 'Skin\\_Sun\\_Exposed\\_Lower\\_leg'\n",
       "\\item 'Nerve\\_Tibial'\n",
       "\\item 'Heart\\_Left\\_Ventricle'\n",
       "\\item 'Pituitary'\n",
       "\\item 'Brain\\_Cerebellum'\n",
       "\\item 'Cells\\_Cultured\\_fibroblasts'\n",
       "\\item 'Artery\\_Aorta'\n",
       "\\item 'Cells\\_EBV-transformed\\_lymphocytes'\n",
       "\\item 'Brain\\_Cerebellar\\_Hemisphere'\n",
       "\\item 'Brain\\_Caudate\\_basal\\_ganglia'\n",
       "\\item 'Brain\\_Nucleus\\_accumbens\\_basal\\_ganglia'\n",
       "\\item 'Brain\\_Putamen\\_basal\\_ganglia'\n",
       "\\item 'Brain\\_Hypothalamus'\n",
       "\\item 'Brain\\_Spinal\\_cord\\_cervical\\_c-1'\n",
       "\\item 'Liver'\n",
       "\\item 'Brain\\_Hippocampus'\n",
       "\\item 'Brain\\_Anterior\\_cingulate\\_cortex\\_BA24'\n",
       "\\item 'Brain\\_Substantia\\_nigra'\n",
       "\\item 'Kidney\\_Cortex'\n",
       "\\item 'Brain\\_Amygdala'\n",
       "\\item 'Cervix\\_Ectocervix'\n",
       "\\item 'Fallopian\\_Tube'\n",
       "\\item 'Cervix\\_Endocervix'\n",
       "\\item 'Bladder'\n",
       "\\item 'Kidney\\_Medulla'\n",
       "\\item 'Cells\\_Leukemia\\_cell\\_line\\_CML'\n",
       "\\end{enumerate*}\n"
      ],
      "text/markdown": [
       "1. 'Whole_Blood'\n",
       "2. 'Brain_Frontal_Cortex_BA9'\n",
       "3. 'Adipose_Subcutaneous'\n",
       "4. 'Muscle_Skeletal'\n",
       "5. 'Artery_Tibial'\n",
       "6. 'Artery_Coronary'\n",
       "7. 'Heart_Atrial_Appendage'\n",
       "8. 'Adipose_Visceral_Omentum'\n",
       "9. 'Ovary'\n",
       "10. 'Uterus'\n",
       "11. 'Vagina'\n",
       "12. 'Breast_Mammary_Tissue'\n",
       "13. 'Skin_Not_Sun_Exposed_Suprapubic'\n",
       "14. 'Minor_Salivary_Gland'\n",
       "15. 'Brain_Cortex'\n",
       "16. 'Adrenal_Gland'\n",
       "17. 'Thyroid'\n",
       "18. 'Lung'\n",
       "19. 'Spleen'\n",
       "20. 'Pancreas'\n",
       "21. 'Esophagus_Muscularis'\n",
       "22. 'Esophagus_Mucosa'\n",
       "23. 'Esophagus_Gastroesophageal_Junction'\n",
       "24. 'Stomach'\n",
       "25. 'Colon_Sigmoid'\n",
       "26. 'Small_Intestine_Terminal_Ileum'\n",
       "27. 'Colon_Transverse'\n",
       "28. 'Prostate'\n",
       "29. 'Testis'\n",
       "30. 'Skin_Sun_Exposed_Lower_leg'\n",
       "31. 'Nerve_Tibial'\n",
       "32. 'Heart_Left_Ventricle'\n",
       "33. 'Pituitary'\n",
       "34. 'Brain_Cerebellum'\n",
       "35. 'Cells_Cultured_fibroblasts'\n",
       "36. 'Artery_Aorta'\n",
       "37. 'Cells_EBV-transformed_lymphocytes'\n",
       "38. 'Brain_Cerebellar_Hemisphere'\n",
       "39. 'Brain_Caudate_basal_ganglia'\n",
       "40. 'Brain_Nucleus_accumbens_basal_ganglia'\n",
       "41. 'Brain_Putamen_basal_ganglia'\n",
       "42. 'Brain_Hypothalamus'\n",
       "43. 'Brain_Spinal_cord_cervical_c-1'\n",
       "44. 'Liver'\n",
       "45. 'Brain_Hippocampus'\n",
       "46. 'Brain_Anterior_cingulate_cortex_BA24'\n",
       "47. 'Brain_Substantia_nigra'\n",
       "48. 'Kidney_Cortex'\n",
       "49. 'Brain_Amygdala'\n",
       "50. 'Cervix_Ectocervix'\n",
       "51. 'Fallopian_Tube'\n",
       "52. 'Cervix_Endocervix'\n",
       "53. 'Bladder'\n",
       "54. 'Kidney_Medulla'\n",
       "55. 'Cells_Leukemia_cell_line_CML'\n",
       "\n",
       "\n"
      ],
      "text/plain": [
       " [1] \"Whole_Blood\"                          \n",
       " [2] \"Brain_Frontal_Cortex_BA9\"             \n",
       " [3] \"Adipose_Subcutaneous\"                 \n",
       " [4] \"Muscle_Skeletal\"                      \n",
       " [5] \"Artery_Tibial\"                        \n",
       " [6] \"Artery_Coronary\"                      \n",
       " [7] \"Heart_Atrial_Appendage\"               \n",
       " [8] \"Adipose_Visceral_Omentum\"             \n",
       " [9] \"Ovary\"                                \n",
       "[10] \"Uterus\"                               \n",
       "[11] \"Vagina\"                               \n",
       "[12] \"Breast_Mammary_Tissue\"                \n",
       "[13] \"Skin_Not_Sun_Exposed_Suprapubic\"      \n",
       "[14] \"Minor_Salivary_Gland\"                 \n",
       "[15] \"Brain_Cortex\"                         \n",
       "[16] \"Adrenal_Gland\"                        \n",
       "[17] \"Thyroid\"                              \n",
       "[18] \"Lung\"                                 \n",
       "[19] \"Spleen\"                               \n",
       "[20] \"Pancreas\"                             \n",
       "[21] \"Esophagus_Muscularis\"                 \n",
       "[22] \"Esophagus_Mucosa\"                     \n",
       "[23] \"Esophagus_Gastroesophageal_Junction\"  \n",
       "[24] \"Stomach\"                              \n",
       "[25] \"Colon_Sigmoid\"                        \n",
       "[26] \"Small_Intestine_Terminal_Ileum\"       \n",
       "[27] \"Colon_Transverse\"                     \n",
       "[28] \"Prostate\"                             \n",
       "[29] \"Testis\"                               \n",
       "[30] \"Skin_Sun_Exposed_Lower_leg\"           \n",
       "[31] \"Nerve_Tibial\"                         \n",
       "[32] \"Heart_Left_Ventricle\"                 \n",
       "[33] \"Pituitary\"                            \n",
       "[34] \"Brain_Cerebellum\"                     \n",
       "[35] \"Cells_Cultured_fibroblasts\"           \n",
       "[36] \"Artery_Aorta\"                         \n",
       "[37] \"Cells_EBV-transformed_lymphocytes\"    \n",
       "[38] \"Brain_Cerebellar_Hemisphere\"          \n",
       "[39] \"Brain_Caudate_basal_ganglia\"          \n",
       "[40] \"Brain_Nucleus_accumbens_basal_ganglia\"\n",
       "[41] \"Brain_Putamen_basal_ganglia\"          \n",
       "[42] \"Brain_Hypothalamus\"                   \n",
       "[43] \"Brain_Spinal_cord_cervical_c-1\"       \n",
       "[44] \"Liver\"                                \n",
       "[45] \"Brain_Hippocampus\"                    \n",
       "[46] \"Brain_Anterior_cingulate_cortex_BA24\" \n",
       "[47] \"Brain_Substantia_nigra\"               \n",
       "[48] \"Kidney_Cortex\"                        \n",
       "[49] \"Brain_Amygdala\"                       \n",
       "[50] \"Cervix_Ectocervix\"                    \n",
       "[51] \"Fallopian_Tube\"                       \n",
       "[52] \"Cervix_Endocervix\"                    \n",
       "[53] \"Bladder\"                              \n",
       "[54] \"Kidney_Medulla\"                       \n",
       "[55] \"Cells_Leukemia_cell_line_CML\"         "
      ]
     },
     "metadata": {},
     "output_type": "display_data"
    }
   ],
   "source": [
    "tissue_vec_clean"
   ]
  },
  {
   "cell_type": "code",
   "execution_count": 205,
   "metadata": {},
   "outputs": [
    {
     "data": {
      "text/html": [
       "<table>\n",
       "<caption>A data.frame: 6 × 761</caption>\n",
       "<thead>\n",
       "\t<tr><th scope=col>ensembl_gene_id</th><th scope=col>hgnc_symbol</th><th scope=col>chromosome_name</th><th scope=col>transcript_biotype</th><th scope=col>GTEX-111YS-0006-SM-5NQBE</th><th scope=col>GTEX-1122O-0005-SM-5O99J</th><th scope=col>GTEX-1128S-0005-SM-5P9HI</th><th scope=col>GTEX-113IC-0006-SM-5NQ9C</th><th scope=col>GTEX-113JC-0006-SM-5O997</th><th scope=col>GTEX-117XS-0005-SM-5PNU6</th><th scope=col>⋯</th><th scope=col>GTEX-ZVT2-0005-SM-57WBW</th><th scope=col>GTEX-ZVT3-0006-SM-51MT9</th><th scope=col>GTEX-ZVT4-0006-SM-57WB8</th><th scope=col>GTEX-ZVTK-0006-SM-57WBK</th><th scope=col>GTEX-ZVZP-0006-SM-51MSW</th><th scope=col>GTEX-ZVZQ-0006-SM-51MR8</th><th scope=col>GTEX-ZXES-0005-SM-57WCB</th><th scope=col>GTEX-ZXG5-0005-SM-57WCN</th><th scope=col>Name</th><th scope=col>Description</th></tr>\n",
       "\t<tr><th scope=col>&lt;chr&gt;</th><th scope=col>&lt;chr&gt;</th><th scope=col>&lt;chr&gt;</th><th scope=col>&lt;chr&gt;</th><th scope=col>&lt;dbl&gt;</th><th scope=col>&lt;dbl&gt;</th><th scope=col>&lt;dbl&gt;</th><th scope=col>&lt;dbl&gt;</th><th scope=col>&lt;dbl&gt;</th><th scope=col>&lt;dbl&gt;</th><th scope=col>⋯</th><th scope=col>&lt;dbl&gt;</th><th scope=col>&lt;dbl&gt;</th><th scope=col>&lt;dbl&gt;</th><th scope=col>&lt;dbl&gt;</th><th scope=col>&lt;dbl&gt;</th><th scope=col>&lt;dbl&gt;</th><th scope=col>&lt;dbl&gt;</th><th scope=col>&lt;dbl&gt;</th><th scope=col>&lt;chr&gt;</th><th scope=col>&lt;chr&gt;</th></tr>\n",
       "</thead>\n",
       "<tbody>\n",
       "\t<tr><td>ENSG00000228229</td><td>     </td><td>1</td><td>lincRNA       </td><td>0.0000</td><td>0.00000</td><td>0.000</td><td>0.000</td><td>0.0000</td><td>0.00000</td><td>⋯</td><td>0.00000</td><td>0.0000</td><td>0.0000</td><td>0.0000</td><td>0.00000</td><td>0.00000</td><td>0.00000</td><td>0.00000</td><td>ENSG00000228229.2</td><td>RP11-219C24.10</td></tr>\n",
       "\t<tr><td>ENSG00000237445</td><td>     </td><td>1</td><td>lincRNA       </td><td>0.0000</td><td>0.00000</td><td>0.000</td><td>0.000</td><td>0.0000</td><td>0.00000</td><td>⋯</td><td>0.00000</td><td>0.0000</td><td>0.0000</td><td>0.0000</td><td>0.00000</td><td>0.00000</td><td>0.00000</td><td>0.00000</td><td>ENSG00000237445.2</td><td>CTA-520D8.2   </td></tr>\n",
       "\t<tr><td>ENSG00000231606</td><td>     </td><td>1</td><td>lincRNA       </td><td>0.0000</td><td>0.00000</td><td>0.000</td><td>0.000</td><td>0.0000</td><td>0.00000</td><td>⋯</td><td>0.00000</td><td>0.0000</td><td>0.0000</td><td>0.0000</td><td>0.00000</td><td>0.00000</td><td>0.00000</td><td>0.00000</td><td>ENSG00000231606.1</td><td>RP11-344F13.1 </td></tr>\n",
       "\t<tr><td>ENSG00000234593</td><td>     </td><td>1</td><td>lincRNA       </td><td>0.0000</td><td>0.00000</td><td>0.000</td><td>0.000</td><td>0.0000</td><td>0.00000</td><td>⋯</td><td>0.00000</td><td>0.0000</td><td>0.0000</td><td>0.0000</td><td>0.00000</td><td>0.00000</td><td>0.00000</td><td>0.00000</td><td>ENSG00000234593.2</td><td>RP4-704D23.1  </td></tr>\n",
       "\t<tr><td>ENSG00000228140</td><td>     </td><td>1</td><td>lincRNA       </td><td>0.5148</td><td>1.62100</td><td>0.678</td><td>2.237</td><td>0.1405</td><td>0.05083</td><td>⋯</td><td>1.06500</td><td>0.3384</td><td>0.1622</td><td>0.1911</td><td>2.15500</td><td>0.28140</td><td>0.74600</td><td>0.62610</td><td>ENSG00000228140.1</td><td>RP3-467K16.4  </td></tr>\n",
       "\t<tr><td>ENSG00000186092</td><td>OR4F5</td><td>1</td><td>protein_coding</td><td>0.0000</td><td>0.05678</td><td>0.000</td><td>0.000</td><td>0.0000</td><td>0.00000</td><td>⋯</td><td>0.04884</td><td>0.0000</td><td>0.0000</td><td>0.0000</td><td>0.04552</td><td>0.03527</td><td>0.08015</td><td>0.04528</td><td>ENSG00000186092.4</td><td>OR4F5         </td></tr>\n",
       "</tbody>\n",
       "</table>\n"
      ],
      "text/latex": [
       "A data.frame: 6 × 761\n",
       "\\begin{tabular}{r|lllllllllllllllllllllllllllllllllllllllllllllllllllllllllllllllllllllllllllllllllllllllllllllllllllllllllllllllllllllllllllllllllllllllllllllllllllllllllllllllllllllllllllllllllllllllllllllllllllllllllllllllllllllllllllllllllllllllllllllllllllllllllllllllllllllllllllllllllllllllllllllllllllllllllllllllllllllllllllllllllllllllllllllllllllllllllllllllllllllllllllllllllllllllllllllllllllllllllllllllllllllllllllllllllllllllllllllllllllllllllllllllllllllllllllllllllllllllllllllllllllllllllllllllllllllllllllllllllllllllllllllllllllllllllllllllllllllllllllllllllllllllllllllllllllllllllllllllllllllllllllllllllllllllllllllllllllllllllllllllllllllllllllllllllllllllllllllllllllllllllllllllllllllllllllllllllllllllllllllllllllllllllllllllllllllllllllllllllllllllll}\n",
       " ensembl\\_gene\\_id & hgnc\\_symbol & chromosome\\_name & transcript\\_biotype & GTEX-111YS-0006-SM-5NQBE & GTEX-1122O-0005-SM-5O99J & GTEX-1128S-0005-SM-5P9HI & GTEX-113IC-0006-SM-5NQ9C & GTEX-113JC-0006-SM-5O997 & GTEX-117XS-0005-SM-5PNU6 & GTEX-117YW-0005-SM-5NQ8Z & GTEX-1192W-0005-SM-5NQBQ & GTEX-1192X-0005-SM-5NQC3 & GTEX-11DXW-0006-SM-5NQ7Y & GTEX-11DXX-0005-SM-5NQ8B & GTEX-11DXY-0006-SM-5NQ8N & GTEX-11DXZ-0006-SM-5LZZH & GTEX-11DYG-0006-SM-5NQB2 & GTEX-11EI6-0005-SM-5N9GN & GTEX-11EM3-0005-SM-5N9DK & GTEX-11EMC-0006-SM-5O9DN & GTEX-11EQ8-0006-SM-5P9HJ & GTEX-11EQ9-0006-SM-5LUB6 & GTEX-11GS4-0006-SM-5SI9M & GTEX-11GSO-0005-SM-5O9CA & GTEX-11GSP-0006-SM-5N9EL & GTEX-11I78-0005-SM-5N9GB & GTEX-11LCK-0005-SM-5O98U & GTEX-11NUK-0005-SM-5MR5F & GTEX-11NV4-0005-SM-5N9EX & GTEX-11O72-0006-SM-5O9DB & GTEX-11OC5-0006-SM-5N9FA & GTEX-11OF3-0006-SM-5O9CM & GTEX-11ONC-0005-SM-5O9CY & GTEX-11P7K-0006-SM-5N9FM & GTEX-11P81-0006-SM-5NQ7A & GTEX-11P82-0006-SM-5N9FY & GTEX-11PRG-0005-SM-5NQ6X & GTEX-11TT1-0005-SM-5NQ8Y & GTEX-11TTK-0005-SM-5O9BX & GTEX-11TUW-0006-SM-5LZW2 & GTEX-11UD2-0005-SM-5NQ9B & GTEX-11VI4-0006-SM-5N9D8 & GTEX-11WQC-0006-SM-5LZVP & GTEX-11WQK-0005-SM-5O9AV & GTEX-11XUK-0005-SM-5LU9F & GTEX-11ZTS-0005-SM-5NQ8A & GTEX-11ZTT-0006-SM-5N9FX & GTEX-11ZU8-0005-SM-5PNU5 & GTEX-11ZUS-0006-SM-5O9AJ & GTEX-11ZVC-0006-SM-5N9GA & GTEX-1211K-0006-SM-5MR53 & GTEX-12126-0006-SM-5O9B8 & GTEX-1212Z-0006-SM-5NQ8M & GTEX-12584-0005-SM-5N9GM & GTEX-12696-0005-SM-5LZYS & GTEX-1269C-0005-SM-5N9CJ & GTEX-12BJ1-0006-SM-5SIB5 & GTEX-12C56-0006-SM-5N9E9 & GTEX-12KS4-0005-SM-5SI94 & GTEX-12WSC-0005-SM-5MR3H & GTEX-12WSD-0005-SM-5N9FZ & GTEX-12WSE-0005-SM-5NQAE & GTEX-12WSF-0005-SM-5NQAQ & GTEX-12WSG-0005-SM-5NQA2 & GTEX-12WSH-0005-SM-5NQ9P & GTEX-12WSI-0005-SM-5O99K & GTEX-12WSJ-0005-SM-5LU8S & GTEX-12WSK-0006-SM-5NQA1 & GTEX-12WSL-0005-SM-5NQAD & GTEX-12WSM-0005-SM-5NQB3 & GTEX-12WSN-0006-SM-5NQAP & GTEX-12ZZW-0005-SM-5O9BY & GTEX-12ZZX-0005-SM-5O9A9 & GTEX-13111-0005-SM-5NQ7Z & GTEX-13113-0006-SM-5NQ7X & GTEX-1313W-0006-SM-5O9B1 & GTEX-1314G-0005-SM-5NQ9O & GTEX-131XE-0006-SM-5P9F9 & GTEX-131XF-0006-SM-5P9HK & GTEX-131XG-0006-SM-5O9CE & GTEX-131XH-0006-SM-5O98V & GTEX-131XW-0006-SM-5O9AO & GTEX-131YS-0005-SM-5NQAS & GTEX-132AR-0006-SM-5NQ7N & GTEX-132NY-0005-SM-5O9AC & GTEX-132Q8-0006-SM-5NQA4 & GTEX-132QS-0005-SM-5LZXK & GTEX-1339X-0005-SM-5O9CQ & GTEX-1399R-0006-SM-5N9FR & GTEX-1399S-0006-SM-5NQ7U & GTEX-1399U-0005-SM-5NQ8K & GTEX-139D8-0006-SM-5LZX8 & GTEX-139T6-0006-SM-5LU92 & GTEX-139T8-0006-SM-5NQ6V & GTEX-139TS-0005-SM-5NQC1 & GTEX-139TT-0006-SM-5O9CG & GTEX-139TU-0006-SM-5LZVN & GTEX-139UW-0005-SM-5NQ8U & GTEX-13CF2-0006-SM-5O99L & GTEX-13CF3-0006-SM-5N9ED & GTEX-13CIG-0006-SM-5P9HF & GTEX-13CZU-0005-SM-5LU8K & GTEX-13FTW-0005-SM-5LZVZ & GTEX-13FTX-0005-SM-5N9F6 & GTEX-13FTY-0005-SM-5NQ78 & GTEX-13FTZ-0005-SM-5NQ9N & GTEX-13FXS-0006-SM-5O99X & GTEX-13G51-0005-SM-5N9EP & GTEX-13JUV-0006-SM-5NQ97 & GTEX-13O61-0005-SM-5O9AU & GTEX-13OVG-0005-SM-5P9HA & GTEX-13OVH-0005-SM-5P9HB & GTEX-13OVI-0001-SM-5O9BL & GTEX-13OVJ-0006-SM-5O98T & GTEX-13OVK-0006-SM-5O9B7 & GTEX-13OVL-0006-SM-5O996 & GTEX-13OW6-0005-SM-5NQ9Z & GTEX-13OW8-0005-SM-5NQAC & GTEX-13PL7-0005-SM-5N9ET & GTEX-13PLJ-0005-SM-5NQ99 & GTEX-13S7M-0005-SM-5NQ76 & GTEX-13S86-0005-SM-5NQ7I & GTEX-13SLX-0005-SM-CM2RF & GTEX-13U4I-0006-SM-5N9CI & GTEX-13VXT-0005-SM-5N9F3 & GTEX-13VXU-0006-SM-5N9FF & GTEX-13W3W-0005-SM-5SI9Y & GTEX-1477Z-0005-SM-5PNWD & GTEX-147F3-0005-SM-5N9FI & GTEX-147F4-0006-SM-5O99T & GTEX-147GR-0005-SM-5NQAO & GTEX-147JS-0006-SM-5NQ7K & GTEX-148VI-0006-SM-5O9A6 & GTEX-148VJ-0006-SM-5NQB1 & GTEX-1497J-0005-SM-5NQBD & GTEX-14A5H-0006-SM-5O9AI & GTEX-14A5I-0005-SM-5N9FU & GTEX-14A6H-0006-SM-5NQ7W & GTEX-14ABY-0005-SM-5O99U & GTEX-14AS3-0006-SM-5NQC2 & GTEX-14B4R-0006-SM-5O9A7 & GTEX-14BIL-0006-SM-5N9F2 & GTEX-14BIM-0006-SM-5O9AA & GTEX-14BIN-0005-SM-5N9FE & GTEX-14BMU-0006-SM-5MR3T & GTEX-14BMV-0005-SM-5NQ6Y & GTEX-14C38-0006-SM-5NQBF & GTEX-14C39-0005-SM-5NQBR & GTEX-14C5O-0005-SM-5P9ER & GTEX-14DAQ-0005-SM-5NQ7B & GTEX-14DAR-0006-SM-5N9GC & GTEX-14E1K-0006-SM-5N9DY & GTEX-14E6C-0005-SM-5O98N & GTEX-14E6D-0005-SM-5N9D7 & GTEX-14E6E-0006-SM-5MR5N & GTEX-14E7W-0006-SM-5N9GG & GTEX-14H4A-0006-SM-5N9E3 & GTEX-14ICK-0006-SM-5NQB5 & GTEX-14ICL-0006-SM-5SIAB & GTEX-14JFF-0005-SM-7P8RF & GTEX-14JG1-0006-SM-7SB6P & GTEX-14JG6-0005-SM-9JGFV & GTEX-14JIY-0005-SM-7MXVF & GTEX-14LLW-0006-SM-9QEGG & GTEX-14LZ3-0005-SM-7MXUG & GTEX-14PHW-0005-SM-9KNTK & GTEX-14PHY-0006-SM-7SB7I & GTEX-14PII-0005-SM-7RHFV & GTEX-14PJ2-0005-SM-9JGFU & GTEX-14PJ3-0005-SM-9JGFT & GTEX-14PJ4-0006-SM-7RHFY & GTEX-14PJ5-0005-SM-9MQLO & GTEX-14PJ6-0006-SM-7P8RE & GTEX-14PJM-0006-SM-9JGHA & GTEX-14PJN-0005-SM-9JGGF & GTEX-14PJO-0005-SM-9JGGY & GTEX-14PJP-0005-SM-7P8OM & GTEX-14PK6-0006-SM-7PC1L & GTEX-14PKU-0005-SM-9KNTL & GTEX-14PKV-0006-SM-9MQL3 & GTEX-14PN3-0006-SM-7SB6O & GTEX-14PN4-0005-SM-7PC21 & GTEX-14PQA-0006-SM-7PC2D & GTEX-14XAO-0006-SM-7RHFX & GTEX-15CHC-0006-SM-7P8RG & GTEX-15CHQ-0005-SM-7P8RH & GTEX-15CHR-0005-SM-9KNUS & GTEX-15D1Q-0006-SM-9KNTN & GTEX-15D79-0005-SM-7P8TS & GTEX-15DCD-0006-SM-7RHG4 & GTEX-15DCE-0005-SM-7SB7J & GTEX-15DYW-0006-SM-7RHFR & GTEX-15DZA-0005-SM-9JGFP & GTEX-15EO6-0005-SM-7PBZC & GTEX-15ETS-0005-SM-9KNTJ & GTEX-15EU6-0005-SM-7P8RJ & GTEX-15G19-0006-SM-9KNW6 & GTEX-15G1A-0006-SM-7PC1Z & GTEX-15RIE-0006-SM-7MKF8 & GTEX-15RIF-0005-SM-7RHGH & GTEX-15RIG-0006-SM-7PC1N & GTEX-15RJ7-0006-SM-7RHHM & GTEX-15RJE-0006-SM-7PC1J & GTEX-15SB6-0005-SM-7P8OO & GTEX-15SDE-0006-SM-7PC19 & GTEX-16AAH-0005-SM-7P8RD & GTEX-16BQI-0006-SM-7SB6K & GTEX-16MT8-0005-SM-7PBYO & GTEX-16MT9-0006-SM-7MXTU & GTEX-16MTA-0005-SM-7RHFT & GTEX-16NGA-0006-SM-9JGFQ & GTEX-16NPV-0005-SM-7PC2F & GTEX-16NPX-0005-SM-7MKGG & GTEX-16XZY-0006-SM-7SB99 & GTEX-16XZZ-0006-SM-7MKF5 & GTEX-16YQH-0006-SM-7P8OQ & GTEX-16Z82-0005-SM-7PBXZ & GTEX-178AV-0005-SM-9JGFM & GTEX-17EUY-0006-SM-7P8SB & GTEX-17EVP-0005-SM-7P8RC & GTEX-17EVQ-0006-SM-7MGWB & GTEX-17GQL-0005-SM-7MKF4 & GTEX-17HG3-0006-SM-7MKFE & GTEX-17HGU-0006-SM-7MXT8 & GTEX-17HHE-0005-SM-7P8OT & GTEX-17HHY-0006-SM-7MXT4 & GTEX-17HII-0005-SM-7MKF6 & GTEX-17JCI-0005-SM-7P8OL & GTEX-17KNJ-0005-SM-7PBYB & GTEX-17MFQ-0006-SM-7PBXP & GTEX-183FY-0005-SM-9KNTO & GTEX-183WM-0005-SM-9JGFW & GTEX-18465-0006-SM-7SB6R & GTEX-18A66-0005-SM-7SB6U & GTEX-18A67-0006-SM-7SB6T & GTEX-18A6Q-0005-SM-9KNVX & GTEX-18A7A-0006-SM-7PC1P & GTEX-18A7B-0005-SM-7PC1D & GTEX-18D9A-0005-SM-7SB7H & GTEX-18D9B-0005-SM-7PBYL & GTEX-18D9U-0006-SM-7SB6M & GTEX-18QFQ-0006-SM-7SB6X & GTEX-1A32A-0006-SM-7PC1Y & GTEX-1A3MV-0005-SM-7PC1O & GTEX-1A3MW-0006-SM-7MKGU & GTEX-1A3MX-0005-SM-7MGW7 & GTEX-1A8FM-0006-SM-7MGWI & GTEX-1A8G6-0006-SM-7PC1X & GTEX-1A8G7-0006-SM-7P8RM & GTEX-1AMEY-0005-SM-7PBYK & GTEX-1AMFI-0006-SM-9KNTQ & GTEX-1AX8Z-0006-SM-9KNVB & GTEX-1AX9I-0005-SM-9MQKI & GTEX-1AX9J-0005-SM-9MQKU & GTEX-1AX9K-0006-SM-9KNVP & GTEX-1AYCT-0005-SM-7SB6V & GTEX-1AYD5-0005-SM-7SB6L & GTEX-1B8KE-0006-SM-7SB6W & GTEX-1B8KZ-0006-SM-7MXTJ & GTEX-1B8L1-0005-SM-9MQK6 & GTEX-1B8SF-0005-SM-7MGVK & GTEX-1B8SG-0006-SM-7MKFA & GTEX-1B932-0005-SM-9KNTP & GTEX-1B933-0006-SM-7P8OP & GTEX-1B97I-0005-SM-7PC1M & GTEX-1B97J-0005-SM-7MXT5 & GTEX-1B996-0006-SM-7P8OS & GTEX-1BAJH-0005-SM-7PC1R & GTEX-1C2JI-0006-SM-7PC3Q & GTEX-1C475-0006-SM-9MQL7 & GTEX-1C4CL-0005-SM-7MKF3 & GTEX-1C64N-0005-SM-7PBY7 & GTEX-1C64O-0006-SM-7PC22 & GTEX-1C6VQ-0005-SM-7P8OR & GTEX-1C6VR-0005-SM-7MKF7 & GTEX-1C6VS-0005-SM-7MGWG & GTEX-1CAMR-0006-SM-ACKV5 & GTEX-1CAMS-0005-SM-ARL6Y & GTEX-1CB4E-0005-SM-ADEGS & GTEX-1CB4G-0006-SM-AHZ22 & GTEX-1CB4H-0006-SM-A96RE & GTEX-1CB4I-0006-SM-A96RF & GTEX-1CB4J-0006-SM-ACKV6 & GTEX-1E1VI-0005-SM-ARU6H & GTEX-1E2YA-0006-SM-AHZ23 & GTEX-1EH9U-0005-SM-ACKV3 & GTEX-1EKGG-0005-SM-AHZ1Z & GTEX-1EMGI-0006-SM-ACKVA & GTEX-1EN7A-0006-SM-AHZ4O & GTEX-1EU9M-0006-SM-ARU6I & GTEX-1EWIQ-0005-SM-ADEHB & GTEX-1EX96-0006-SM-ARU6J & GTEX-1F48J-0006-SM-ARL6W & GTEX-1F52S-0006-SM-ARL6X & GTEX-1F5PK-0005-SM-A96RM & GTEX-1F6I4-0005-SM-ARZKZ & GTEX-1F6IF-0005-SM-ARU6K & GTEX-1F75I-0005-SM-ADEHC & GTEX-1F75W-0005-SM-A9SMP & GTEX-1F7RK-0006-SM-ACKV4 & GTEX-1F88F-0005-SM-A9SK2 & GTEX-1GF9U-0005-SM-A9SK1 & GTEX-1GF9V-0006-SM-A96RD & GTEX-1GF9W-0006-SM-ARZL1 & GTEX-1GF9X-0005-SM-A9G3R & GTEX-1GMR2-0005-SM-ADEH3 & GTEX-1GMR3-0005-SM-ADEGR & GTEX-1GMR8-0005-SM-ARZL2 & GTEX-1GMRU-0006-SM-AHZ21 & GTEX-1GN1U-0006-SM-ARU6G & GTEX-1GN1V-0006-SM-ADEHD & GTEX-1GN1W-0006-SM-A9SKL & GTEX-1GN2E-0005-SM-ARU6L & GTEX-1GN73-0005-SM-ACKVI & GTEX-1GPI6-0005-SM-ADEGT & GTEX-1GPI7-0005-SM-A9G13 & GTEX-1GTWX-0006-SM-ARZL3 & GTEX-1GZ2Q-0005-SM-ARL71 & GTEX-1GZ4H-0005-SM-ARZL7 & GTEX-1GZHY-0005-SM-ARZL6 & GTEX-1H11D-0005-SM-ACKV7 & GTEX-1H1CY-0005-SM-A9G15 & GTEX-1H1DE-0005-SM-A9SK4 & GTEX-1H1DF-0005-SM-ADEGU & GTEX-1H1DG-0006-SM-ARZL4 & GTEX-1H1E6-0005-SM-ARZL5 & GTEX-1H23P-0005-SM-A9G14 & GTEX-1H3NZ-0005-SM-A96RG & GTEX-1H3O1-0005-SM-ACKV8 & GTEX-1H4P4-0006-SM-AHZ24 & GTEX-1HB9E-0006-SM-ARU6M & GTEX-1HBPI-0005-SM-ARZLB & GTEX-1HBPM-0006-SM-A9SKK & GTEX-1HC8U-0005-SM-ADEGV & GTEX-1HCU6-0005-SM-AHZ28 & GTEX-1HCU7-0006-SM-A9G19 & GTEX-1HCU8-0005-SM-A96RL & GTEX-1HCU9-0005-SM-A9G1A & GTEX-1HCUA-0006-SM-ACKV9 & GTEX-1HCVE-0006-SM-ADEH2 & GTEX-1HFI6-0005-SM-A9SK6 & GTEX-1HFI7-0005-SM-ADEH1 & GTEX-1HKZK-0005-SM-ARL73 & GTEX-1HR98-0005-SM-A9SKM & GTEX-1HR9M-0005-SM-AHZ26 & GTEX-1HSGN-0006-SM-ACKVH & GTEX-1HSKV-0006-SM-ARZL9 & GTEX-1HSMO-0005-SM-ADEGW & GTEX-1HSMP-0006-SM-AHZ25 & GTEX-1HSMQ-0006-SM-ARU6N & GTEX-1HT8W-0006-SM-A9G17 & GTEX-1HUB1-0005-SM-ARL74 & GTEX-1I19N-0006-SM-A9G18 & GTEX-1I1CD-0005-SM-ADEGY & GTEX-1I1GP-0006-SM-A96RJ & GTEX-1I1GQ-0005-SM-ARU6O & GTEX-1I1GR-0006-SM-ARL75 & GTEX-1I1GS-0005-SM-DHXIW & GTEX-1I1GT-0005-SM-A9SK5 & GTEX-1I1GV-0005-SM-AHZ27 & GTEX-1I1HK-0005-SM-ARZL8 & GTEX-1I4MK-0006-SM-A96RI & GTEX-1I6K6-0006-SM-ARZLA & GTEX-1I6K7-0005-SM-ARL72 & GTEX-1ICG6-0006-SM-A96RH & GTEX-1ICLY-0005-SM-A9G16 & GTEX-1IDFM-0005-SM-ADEGX & GTEX-1IDJC-0005-SM-A9G1C & GTEX-1IDJD-0006-SM-ARZLC & GTEX-1IDJE-0006-SM-A9G1B & GTEX-1IDJF-0005-SM-ARU6P & GTEX-1IDJH-0006-SM-CMKFT & GTEX-1IDJI-0006-SM-CMKFJ & GTEX-1IDJU-0006-SM-CMKFK & GTEX-1IE54-0005-SM-CMKFQ & GTEX-1IGQW-0005-SM-CMKFR & GTEX-1IKJJ-0005-SM-CMKFS & GTEX-1IKK5-0006-SM-CMKFI & GTEX-1IKOE-0005-SM-CMKFL & GTEX-1IKOH-0006-SM-CMKFM & GTEX-1IL2U-0006-SM-CMKFP & GTEX-1IL2V-0006-SM-CMKFN & GTEX-1IOXB-0006-SM-CMKFO & GTEX-1IY9M-0005-SM-CNNOU & GTEX-1J8EW-0006-SM-CNNOW & GTEX-1J8JJ-0006-SM-CNNOX & GTEX-1J8Q2-0006-SM-CNNOZ & GTEX-1J8Q3-0005-SM-CNNOY & GTEX-1J8QM-0006-SM-CNNP1 & GTEX-1JJ6O-0005-SM-DHXJ4 & GTEX-1JJE9-0006-SM-CGQEB & GTEX-1JJEA-0006-SM-DHXJ2 & GTEX-1JK1U-0006-SM-DHXJ3 & GTEX-1JKYN-0006-SM-DHXJ5 & GTEX-1JKYR-0005-SM-DHXL5 & GTEX-1JMLX-0006-SM-DHXJ6 & GTEX-1JMOU-0006-SM-DHXJ7 & GTEX-1JMPY-0006-SM-DHXJ8 & GTEX-1JMPZ-0006-SM-DHXJ9 & GTEX-1JMQI-0005-SM-DHXJA & GTEX-1JMQJ-0006-SM-DHXJD & GTEX-1JMQK-0005-SM-CNPOE & GTEX-1JMQL-0006-SM-DHXJB & GTEX-1JN1M-0006-SM-DHXJE & GTEX-1JN6P-0005-SM-DIPEH & GTEX-1JN76-0005-SM-EAZ3B & GTEX-1K2DA-0005-SM-DIPE7 & GTEX-1K2DU-0005-SM-DIPE8 & GTEX-1K9T9-0006-SM-DIPE9 & GTEX-1KAFJ-0006-SM-9WPO1 & GTEX-1KANA-0006-SM-9YFLB & GTEX-1KANB-0006-SM-DIPE6 & GTEX-1KANC-0006-SM-9YFL8 & GTEX-1KD4Q-0006-SM-DIPEA & GTEX-1KD5A-0006-SM-DIPEB & GTEX-1KWVE-0005-SM-CYPSE & GTEX-1KXAM-0005-SM-DIPEC & GTEX-1L5NE-0005-SM-DIPEG & GTEX-1LB8K-0005-SM-DIPED & GTEX-1LBAC-0005-SM-DIPEE & GTEX-1LC47-0005-SM-COH2J & GTEX-1LG7Y-0005-SM-DKPQ7 & GTEX-1LG7Z-0005-SM-DKPQ6 & GTEX-1LGOU-0005-SM-DKPPW & GTEX-1LGRB-0006-SM-DKPPB & GTEX-1LH75-0006-SM-CXZIP & GTEX-1LKK1-0005-SM-CXZIT & GTEX-1LNCM-0005-SM-CXZIR & GTEX-1LSNL-0006-SM-CXZIV & GTEX-1LSNM-0005-SM-CXZIW & GTEX-1LSVX-0005-SM-DKPPI & GTEX-1LVA9-0006-SM-DKPPN & GTEX-1LVAM-0005-SM-CXZJ4 & GTEX-1LVAN-0005-SM-DKPPM & GTEX-1LVAO-0006-SM-CXZIU & GTEX-1M4P7-0005-SM-CXZIS & GTEX-1M5QR-0005-SM-DKPPP & GTEX-1MA7W-0006-SM-DKPPR & GTEX-1MA7X-0006-SM-CXZJ6 & GTEX-1MCC2-0006-SM-DKPPJ & GTEX-1MCQQ-0005-SM-DKPPV & GTEX-1MCYP-0005-SM-DKPPK & GTEX-1MGNQ-0005-SM-CXZJ1 & GTEX-1MJIX-0006-SM-DKPPU & GTEX-1MJK2-0006-SM-CXZIN & GTEX-1MJK3-0006-SM-DKPP9 & GTEX-1MUQO-0005-SM-DKPPT & GTEX-1N2DW-0006-SM-DKPP4 & GTEX-1N2EE-0005-SM-DKPP5 & GTEX-1N2EF-0005-SM-CXZIL & GTEX-1N5O9-0006-SM-DKPPS & GTEX-1NHNU-0005-SM-DKPP3 & GTEX-1NSGN-0005-SM-DKPPX & GTEX-1NUQO-0005-SM-DKPP2 & GTEX-1NV8Z-0005-SM-DKPQ3 & GTEX-1O97I-0005-SM-DKPPY & GTEX-1O9I2-0005-SM-DKPQ1 & GTEX-1OFPY-0005-SM-DKPPZ & GTEX-1OJC3-0006-SM-DKPP1 & GTEX-1OJC4-0005-SM-DKPQ4 & GTEX-1OKEX-0006-SM-DKPQ2 & GTEX-1P4AB-0005-SM-CY8GM & GTEX-1PBJI-0005-SM-CJI1Y & GTEX-1PBJJ-0005-SM-CKZND & GTEX-1PDJ9-0006-SM-CY8GN & GTEX-1PFEY-0005-SM-CY8GO & GTEX-1PIEJ-0005-SM-DLZQL & GTEX-1PIGE-0005-SM-DLZQM & GTEX-1PIIG-0006-SM-DLZQF & GTEX-1POEN-0005-SM-DLZQN & GTEX-1PPH6-0005-SM-DLZQP & GTEX-1PPH7-0005-SM-CKZNE & GTEX-1PPH8-0006-SM-CY8GS & GTEX-1PWST-0005-SM-DLZQC & GTEX-1QAET-0006-SM-DLZQQ & GTEX-1QCLY-0005-SM-DLZQS & GTEX-1QCLZ-0006-SM-CY8GW & GTEX-1QEPI-0006-SM-CY8GY & GTEX-1QMI2-0006-SM-CY8H1 & GTEX-1QP28-0006-SM-DLZQW & GTEX-1QP29-0005-SM-DLZQX & GTEX-1QP66-0005-SM-CY8H4 & GTEX-1QP67-0006-SM-CY8H5 & GTEX-1QP9N-0005-SM-CY8H9 & GTEX-1QPFJ-0006-SM-CY8HB & GTEX-1QW4Y-0005-SM-DO93W & GTEX-1R46S-0006-SM-DO93Y & GTEX-1R7EU-0006-SM-DO93C & GTEX-1R7EV-0005-SM-DO938 & GTEX-1R9JW-0002-SM-DO93B & GTEX-1R9K4-0006-SM-CYPRM & GTEX-1R9K5-0006-SM-DO939 & GTEX-1R9PM-0006-SM-CYPTI & GTEX-1R9PN-0006-SM-DTX7L & GTEX-1R9PO-0006-SM-DO937 & GTEX-1RAZA-0006-SM-CKZO9 & GTEX-1RAZQ-0005-SM-DO93U & GTEX-1RAZR-0006-SM-DLHBR & GTEX-1RAZS-0005-SM-DO93D & GTEX-1RB15-0005-SM-CL53N & GTEX-1RDX4-0005-SM-DLHBS & GTEX-1RLM8-0005-SM-DO121 & GTEX-1RMOY-0005-SM-DO11X & GTEX-1RNTQ-0006-SM-CYPRG & GTEX-1RQEC-0006-SM-CL542 & GTEX-1RQED-0005-SM-DO11Z & GTEX-1S3DN-0006-SM-DO127 & GTEX-1S5VW-0005-SM-CYPS4 & GTEX-1S5ZA-0005-SM-CYPS2 & GTEX-1S5ZU-0005-SM-CYPS3 & GTEX-1S82P-0005-SM-CM2RX & GTEX-1S82U-0005-SM-CYPRW & GTEX-1S82Y-0005-SM-DO123 & GTEX-1S82Z-0006-SM-DLHC5 & GTEX-1S831-0006-SM-DLHC1 & GTEX-1S83E-0006-SM-DLHBW & GTEX-N7MS-0007-SM-2D7W1 & GTEX-N7MT-0007-SM-3GACQ & GTEX-NFK9-0006-SM-3GACS & GTEX-NPJ7-0006-SM-3GACR & GTEX-NPJ8-0007-SM-2D7VX & GTEX-O5YT-0007-SM-32PK7 & GTEX-O5YW-0006-SM-3LK6E & GTEX-OHPK-0006-SM-2HMKH & GTEX-OHPL-0006-SM-3MJHB & GTEX-OHPM-0006-SM-2HMKU & GTEX-OHPN-0005-SM-2YUML & GTEX-OIZF-0006-SM-2I5GQ & GTEX-OIZH-0005-SM-2HMJN & GTEX-OIZI-0005-SM-2XCED & GTEX-OOBJ-0006-SM-2I3F4 & GTEX-OOBK-0005-SM-2YUMG & GTEX-OXRL-0005-SM-3LK6A & GTEX-OXRO-0006-SM-2I5EM & GTEX-OXRP-0006-SM-2I3FN & GTEX-P44G-0006-SM-2TC6A & GTEX-P44H-0006-SM-2XCFB & GTEX-P4PP-0005-SM-2HMKX & GTEX-P4PQ-0005-SM-2HMKJ & GTEX-P4QS-0005-SM-2I3EY & GTEX-P78B-0005-SM-2I5GM & GTEX-PLZ4-0006-SM-CYPR7 & GTEX-PLZ5-0006-SM-DIPE2 & GTEX-PLZ6-0006-SM-33HBZ & GTEX-POMQ-0006-SM-5SI7D & GTEX-POYW-0006-SM-2XCF4 & GTEX-PSDG-0005-SM-3GADC & GTEX-PVOW-0006-SM-3NMB8 & GTEX-PW2O-0006-SM-2I3DV & GTEX-PWCY-0005-SM-DHXL3 & GTEX-PWN1-0006-SM-CYPR2 & GTEX-PX3G-0006-SM-5SI7E & GTEX-Q2AG-0005-SM-5SI7F & GTEX-Q2AH-0005-SM-33HBR & GTEX-Q2AI-0006-SM-2I3FG & GTEX-Q734-0006-SM-2I3FJ & GTEX-QCQG-0006-SM-DIPE5 & GTEX-QDT8-0006-SM-CXZJC & GTEX-QDVJ-0005-SM-2TC5X & GTEX-QDVN-0006-SM-48U1R & GTEX-QEG4-0006-SM-2I5FY & GTEX-QEG5-0006-SM-2I5FZ & GTEX-QESD-0006-SM-2I5G6 & GTEX-QLQ7-0005-SM-2S1QP & GTEX-QLQW-0005-SM-2S1RA & GTEX-QMR6-0005-SM-32PKY & GTEX-QMRM-0005-SM-3NB2A & GTEX-QV31-0006-SM-793B5 & GTEX-QVJO-0006-SM-2S1RC & GTEX-QVUS-0006-SM-3GAE8 & GTEX-QXCU-0006-SM-2TC5K & GTEX-R3RS-0005-SM-3GAEH & GTEX-R45C-0006-SM-3GAD6 & GTEX-R53T-0005-SM-3GADK & GTEX-R55C-0005-SM-3GAE9 & GTEX-R55D-0006-SM-3GIJS & GTEX-R55E-0006-SM-2TC5G & GTEX-R55G-0006-SM-2TC6O & GTEX-REY6-0005-SM-2TF54 & GTEX-RM2N-0006-SM-2TF5H & GTEX-RN64-0005-SM-793B4 & GTEX-RNOR-0005-SM-2TF4Z & GTEX-RTLS-0006-SM-2TF58 & GTEX-RU1J-0006-SM-2TF6M & GTEX-RU72-0006-SM-2TF65 & GTEX-RUSQ-0006-SM-2TF6P & GTEX-RVPV-0006-SM-2TF6Q & GTEX-RWS6-0005-SM-2XCAN & GTEX-RWSA-0005-SM-2XCAO & GTEX-S32W-0006-SM-2XCAK & GTEX-S33H-0005-SM-2XCAL & GTEX-S341-0006-SM-3NM8D & GTEX-S7PM-0006-SM-3NM8C & GTEX-S7SE-0005-SM-2XCEA & GTEX-S95S-0005-SM-2XCEC & GTEX-SE5C-0006-SM-4BRW5 & GTEX-SIU8-0006-SM-2XCE5 & GTEX-SJXC-0005-SM-2XCE7 & GTEX-SN8G-0006-SM-32PLD & GTEX-SNMC-0006-SM-2XCFE & GTEX-SNOS-0006-SM-32PLH & GTEX-SSA3-0005-SM-32QOT & GTEX-SUCS-0006-SM-4DM59 & GTEX-T2YK-0005-SM-32QOV & GTEX-T5JC-0006-SM-EZ6L9 & GTEX-T5JW-0005-SM-3GADE & GTEX-T6MN-0005-SM-32PLJ & GTEX-T6MO-0006-SM-32QOU & GTEX-T8EM-0006-SM-3DB71 & GTEX-TKQ1-0006-SM-33HBI & GTEX-TKQ2-0006-SM-33HBH & GTEX-TML8-0005-SM-32QPA & GTEX-TMMY-0005-SM-33HBN & GTEX-TMZS-0006-SM-3DB8G & GTEX-TSE9-0005-SM-4DXUF & GTEX-U3ZG-0006-SM-47JWX & GTEX-U3ZH-0005-SM-3DB72 & GTEX-U3ZN-0006-SM-3DB7Y & GTEX-U4B1-0006-SM-3DB8E & GTEX-U8T8-0005-SM-3DB8F & GTEX-U8XE-0005-SM-3DB8I & GTEX-UJHI-0006-SM-3DB8H & GTEX-UJMC-0005-SM-3GACU & GTEX-UPJH-0006-SM-3GACW & GTEX-UPK5-0006-SM-3GAD8 & GTEX-UTHO-0006-SM-3NMCC & GTEX-V1D1-0006-SM-3NMCE & GTEX-V955-0005-SM-3P5ZC & GTEX-VJWN-0005-SM-3GIKF & GTEX-VJYA-0005-SM-3P5ZD & GTEX-VUSG-0006-SM-3GIK9 & GTEX-VUSH-0005-SM-3NB2H & GTEX-W5WG-0006-SM-3GIJT & GTEX-W5X1-0006-SM-3GIJZ & GTEX-WCDI-0005-SM-3NB2M & GTEX-WEY5-0006-SM-3GIKG & GTEX-WFG7-0005-SM-3GIKM & GTEX-WFG8-0006-SM-3GIKS & GTEX-WFJO-0005-SM-3GIKY & GTEX-WFON-0005-SM-3NMC9 & GTEX-WH7G-0005-SM-3NMBX & GTEX-WHPG-0006-SM-3NMBV & GTEX-WHSB-0005-SM-3LK7C & GTEX-WHSE-0006-SM-3NMBW & GTEX-WHWD-0005-SM-3LK7D & GTEX-WI4N-0005-SM-3LK7E & GTEX-WK11-0006-SM-3NB3J & GTEX-WL46-0006-SM-4OOS5 & GTEX-WOFL-0006-SM-3TW8K & GTEX-WOFM-0005-SM-3MJF3 & GTEX-WQUQ-0006-SM-3MJF4 & GTEX-WRHK-0005-SM-3MJF5 & GTEX-WRHU-0006-SM-3MJF6 & GTEX-WVLH-0006-SM-3MJF7 & GTEX-WWYW-0005-SM-3NB3K & GTEX-WXYG-0005-SM-3NB3M & GTEX-WY7C-0006-SM-3NB3L & GTEX-WYBS-0005-SM-4ONDR & GTEX-WYJK-0005-SM-3NMA1 & GTEX-WYVS-0006-SM-3NMA7 & GTEX-WZTO-0006-SM-3NM9T & GTEX-X15G-0005-SM-3NMDA & GTEX-X261-0005-SM-4PQYX & GTEX-X3Y1-0006-SM-3P5ZG & GTEX-X4EO-0006-SM-3P5ZF & GTEX-X4EP-0005-SM-3P5ZE & GTEX-X4LF-0006-SM-3NMCO & GTEX-X4XX-0005-SM-3NMCS & GTEX-X4XY-0006-SM-46MV2 & GTEX-X585-0005-SM-46MV3 & GTEX-X5EB-0006-SM-46MV5 & GTEX-X62O-0005-SM-46MV1 & GTEX-X638-0005-SM-47JX6 & GTEX-X88G-0006-SM-47JX5 & GTEX-X8HC-0006-SM-46MV6 & GTEX-XAJ8-0006-SM-46MVM & GTEX-XBEC-0006-SM-4AT5T & GTEX-XBED-0006-SM-47JXO & GTEX-XBEW-0006-SM-4AT4E & GTEX-XGQ4-0005-SM-4AT5U & GTEX-XK95-0005-SM-4AT4S & GTEX-XLM4-0005-SM-4AT4P & GTEX-XMD1-0006-SM-4AT4Q & GTEX-XMD2-0006-SM-4WWEG & GTEX-XMD3-0006-SM-4AT5X & GTEX-XMK1-0005-SM-4B665 & GTEX-XOT4-0005-SM-4B64S & GTEX-XPT6-0006-SM-4B66Q & GTEX-XPVG-0006-SM-4B65Z & GTEX-XQ3S-0006-SM-4BOQ4 & GTEX-XQ8I-0006-SM-4BOQ5 & GTEX-XUW1-0005-SM-4BOQ7 & GTEX-XUYS-0005-SM-47JZ2 & GTEX-XUZC-0005-SM-4BOQ8 & GTEX-XXEK-0005-SM-4BRWJ & GTEX-XYKS-0005-SM-4BRUD & GTEX-Y111-0006-SM-4SOIO & GTEX-Y114-0006-SM-4TT76 & GTEX-Y3I4-0006-SM-4TT1E & GTEX-Y3IK-0005-SM-4WWDE & GTEX-Y5LM-0005-SM-4V6EJ & GTEX-Y5V5-0006-SM-4V6FE & GTEX-Y5V6-0005-SM-4V6FD & GTEX-Y8DK-0005-SM-4RGNR & GTEX-Y8E4-0006-SM-4V6EW & GTEX-Y8E5-0006-SM-47JWQ & GTEX-Y8LW-0005-SM-4V6EV & GTEX-Y9LG-0006-SM-4VBRK & GTEX-YB5E-0005-SM-4VDSO & GTEX-YB5K-0005-SM-4VDSP & GTEX-YBZK-0005-SM-59HKG & GTEX-YEC3-0005-SM-4W21J & GTEX-YEC4-0001-SM-4W1Y6 & GTEX-YECK-0005-SM-4W217 & GTEX-YF7O-0005-SM-4W1ZU & GTEX-YFC4-0006-SM-4RGLV & GTEX-YFCO-0005-SM-4W1ZI & GTEX-Z93S-0005-SM-4RGLW & GTEX-ZAB4-0005-SM-4RGM8 & GTEX-ZC5H-0005-SM-4WAXM & GTEX-ZDTS-0006-SM-4WAYZ & GTEX-ZDTT-0006-SM-4WKFP & GTEX-ZDXO-0006-SM-4WKGF & GTEX-ZDYS-0002-SM-4WKGR & GTEX-ZE7O-0006-SM-51MTA & GTEX-ZE9C-0006-SM-4WKG2 & GTEX-ZEX8-0005-SM-4WKGE & GTEX-ZF28-0005-SM-4WKH3 & GTEX-ZF29-0006-SM-4WKGQ & GTEX-ZF2S-0006-SM-4WKHF & GTEX-ZF3C-0005-SM-4WWAR & GTEX-ZG7Y-0006-SM-4WWEA & GTEX-ZGAY-0006-SM-4WWAQ & GTEX-ZLV1-0005-SM-4WWAP & GTEX-ZP4G-0006-SM-4WWE6 & GTEX-ZPCL-0006-SM-4WWAS & GTEX-ZPIC-0005-SM-4WWEB & GTEX-ZPU1-0006-SM-4WWAT & GTEX-ZQG8-0005-SM-4YCEH & GTEX-ZQUD-0005-SM-4YCE5 & GTEX-ZT9W-0005-SM-4YCEG & GTEX-ZTPG-0006-SM-4YCFG & GTEX-ZTSS-0005-SM-4YCDR & GTEX-ZTTD-0006-SM-51MSJ & GTEX-ZTX8-0006-SM-4YCE4 & GTEX-ZUA1-0005-SM-4YCEV & GTEX-ZV68-0006-SM-4YCEJ & GTEX-ZV7C-0005-SM-57WDL & GTEX-ZVE2-0006-SM-51MRW & GTEX-ZVP2-0005-SM-51MRK & GTEX-ZVT2-0005-SM-57WBW & GTEX-ZVT3-0006-SM-51MT9 & GTEX-ZVT4-0006-SM-57WB8 & GTEX-ZVTK-0006-SM-57WBK & GTEX-ZVZP-0006-SM-51MSW & GTEX-ZVZQ-0006-SM-51MR8 & GTEX-ZXES-0005-SM-57WCB & GTEX-ZXG5-0005-SM-57WCN & Name & Description\\\\\n",
       " <chr> & <chr> & <chr> & <chr> & <dbl> & <dbl> & <dbl> & <dbl> & <dbl> & <dbl> & <dbl> & <dbl> & <dbl> & <dbl> & <dbl> & <dbl> & <dbl> & <dbl> & <dbl> & <dbl> & <dbl> & <dbl> & <dbl> & <dbl> & <dbl> & <dbl> & <dbl> & <dbl> & <dbl> & <dbl> & <dbl> & <dbl> & <dbl> & <dbl> & <dbl> & <dbl> & <dbl> & <dbl> & <dbl> & <dbl> & <dbl> & <dbl> & <dbl> & <dbl> & <dbl> & <dbl> & <dbl> & <dbl> & <dbl> & <dbl> & <dbl> & <dbl> & <dbl> & <dbl> & <dbl> & <dbl> & <dbl> & <dbl> & <dbl> & <dbl> & <dbl> & <dbl> & <dbl> & <dbl> & <dbl> & <dbl> & <dbl> & <dbl> & <dbl> & <dbl> & <dbl> & <dbl> & <dbl> & <dbl> & <dbl> & <dbl> & <dbl> & <dbl> & <dbl> & <dbl> & <dbl> & <dbl> & <dbl> & <dbl> & <dbl> & <dbl> & <dbl> & <dbl> & <dbl> & <dbl> & <dbl> & <dbl> & <dbl> & <dbl> & <dbl> & <dbl> & <dbl> & <dbl> & <dbl> & <dbl> & <dbl> & <dbl> & <dbl> & <dbl> & <dbl> & <dbl> & <dbl> & <dbl> & <dbl> & <dbl> & <dbl> & <dbl> & <dbl> & <dbl> & <dbl> & <dbl> & <dbl> & <dbl> & <dbl> & <dbl> & <dbl> & <dbl> & <dbl> & <dbl> & <dbl> & <dbl> & <dbl> & <dbl> & <dbl> & <dbl> & <dbl> & <dbl> & <dbl> & <dbl> & <dbl> & <dbl> & <dbl> & <dbl> & <dbl> & <dbl> & <dbl> & <dbl> & <dbl> & <dbl> & <dbl> & <dbl> & <dbl> & <dbl> & <dbl> & <dbl> & <dbl> & <dbl> & <dbl> & <dbl> & <dbl> & <dbl> & <dbl> & <dbl> & <dbl> & <dbl> & <dbl> & <dbl> & <dbl> & <dbl> & <dbl> & <dbl> & <dbl> & <dbl> & <dbl> & <dbl> & <dbl> & <dbl> & <dbl> & <dbl> & <dbl> & <dbl> & <dbl> & <dbl> & <dbl> & <dbl> & <dbl> & <dbl> & <dbl> & <dbl> & <dbl> & <dbl> & <dbl> & <dbl> & <dbl> & <dbl> & <dbl> & <dbl> & <dbl> & <dbl> & <dbl> & <dbl> & <dbl> & <dbl> & <dbl> & <dbl> & <dbl> & <dbl> & <dbl> & <dbl> & <dbl> & <dbl> & <dbl> & <dbl> & <dbl> & <dbl> & <dbl> & <dbl> & <dbl> & <dbl> & <dbl> & <dbl> & <dbl> & <dbl> & <dbl> & <dbl> & <dbl> & <dbl> & <dbl> & <dbl> & <dbl> & <dbl> & <dbl> & <dbl> & <dbl> & <dbl> & <dbl> & <dbl> & <dbl> & <dbl> & <dbl> & <dbl> & <dbl> & <dbl> & <dbl> & <dbl> & <dbl> & <dbl> & <dbl> & <dbl> & <dbl> & <dbl> & <dbl> & <dbl> & <dbl> & <dbl> & <dbl> & <dbl> & <dbl> & <dbl> & <dbl> & <dbl> & <dbl> & <dbl> & <dbl> & <dbl> & <dbl> & <dbl> & <dbl> & <dbl> & <dbl> & <dbl> & <dbl> & <dbl> & <dbl> & <dbl> & <dbl> & <dbl> & <dbl> & <dbl> & <dbl> & <dbl> & <dbl> & <dbl> & <dbl> & <dbl> & <dbl> & <dbl> & <dbl> & <dbl> & <dbl> & <dbl> & <dbl> & <dbl> & <dbl> & <dbl> & <dbl> & <dbl> & <dbl> & <dbl> & <dbl> & <dbl> & <dbl> & <dbl> & <dbl> & <dbl> & <dbl> & <dbl> & <dbl> & <dbl> & <dbl> & <dbl> & <dbl> & <dbl> & <dbl> & <dbl> & <dbl> & <dbl> & <dbl> & <dbl> & <dbl> & <dbl> & <dbl> & <dbl> & <dbl> & <dbl> & <dbl> & <dbl> & <dbl> & <dbl> & <dbl> & <dbl> & <dbl> & <dbl> & <dbl> & <dbl> & <dbl> & <dbl> & <dbl> & <dbl> & <dbl> & <dbl> & <dbl> & <dbl> & <dbl> & <dbl> & <dbl> & <dbl> & <dbl> & <dbl> & <dbl> & <dbl> & <dbl> & <dbl> & <dbl> & <dbl> & <dbl> & <dbl> & <dbl> & <dbl> & <dbl> & <dbl> & <dbl> & <dbl> & <dbl> & <dbl> & <dbl> & <dbl> & <dbl> & <dbl> & <dbl> & <dbl> & <dbl> & <dbl> & <dbl> & <dbl> & <dbl> & <dbl> & <dbl> & <dbl> & <dbl> & <dbl> & <dbl> & <dbl> & <dbl> & <dbl> & <dbl> & <dbl> & <dbl> & <dbl> & <dbl> & <dbl> & <dbl> & <dbl> & <dbl> & <dbl> & <dbl> & <dbl> & <dbl> & <dbl> & <dbl> & <dbl> & <dbl> & <dbl> & <dbl> & <dbl> & <dbl> & <dbl> & <dbl> & <dbl> & <dbl> & <dbl> & <dbl> & <dbl> & <dbl> & <dbl> & <dbl> & <dbl> & <dbl> & <dbl> & <dbl> & <dbl> & <dbl> & <dbl> & <dbl> & <dbl> & <dbl> & <dbl> & <dbl> & <dbl> & <dbl> & <dbl> & <dbl> & <dbl> & <dbl> & <dbl> & <dbl> & <dbl> & <dbl> & <dbl> & <dbl> & <dbl> & <dbl> & <dbl> & <dbl> & <dbl> & <dbl> & <dbl> & <dbl> & <dbl> & <dbl> & <dbl> & <dbl> & <dbl> & <dbl> & <dbl> & <dbl> & <dbl> & <dbl> & <dbl> & <dbl> & <dbl> & <dbl> & <dbl> & <dbl> & <dbl> & <dbl> & <dbl> & <dbl> & <dbl> & <dbl> & <dbl> & <dbl> & <dbl> & <dbl> & <dbl> & <dbl> & <dbl> & <dbl> & <dbl> & <dbl> & <dbl> & <dbl> & <dbl> & <dbl> & <dbl> & <dbl> & <dbl> & <dbl> & <dbl> & <dbl> & <dbl> & <dbl> & <dbl> & <dbl> & <dbl> & <dbl> & <dbl> & <dbl> & <dbl> & <dbl> & <dbl> & <dbl> & <dbl> & <dbl> & <dbl> & <dbl> & <dbl> & <dbl> & <dbl> & <dbl> & <dbl> & <dbl> & <dbl> & <dbl> & <dbl> & <dbl> & <dbl> & <dbl> & <dbl> & <dbl> & <dbl> & <dbl> & <dbl> & <dbl> & <dbl> & <dbl> & <dbl> & <dbl> & <dbl> & <dbl> & <dbl> & <dbl> & <dbl> & <dbl> & <dbl> & <dbl> & <dbl> & <dbl> & <dbl> & <dbl> & <dbl> & <dbl> & <dbl> & <dbl> & <dbl> & <dbl> & <dbl> & <dbl> & <dbl> & <dbl> & <dbl> & <dbl> & <dbl> & <dbl> & <dbl> & <dbl> & <dbl> & <dbl> & <dbl> & <dbl> & <dbl> & <dbl> & <dbl> & <dbl> & <dbl> & <dbl> & <dbl> & <dbl> & <dbl> & <dbl> & <dbl> & <dbl> & <dbl> & <dbl> & <dbl> & <dbl> & <dbl> & <dbl> & <dbl> & <dbl> & <dbl> & <dbl> & <dbl> & <dbl> & <dbl> & <dbl> & <dbl> & <dbl> & <dbl> & <dbl> & <dbl> & <dbl> & <dbl> & <dbl> & <dbl> & <dbl> & <dbl> & <dbl> & <dbl> & <dbl> & <dbl> & <dbl> & <dbl> & <dbl> & <dbl> & <dbl> & <dbl> & <dbl> & <dbl> & <dbl> & <dbl> & <dbl> & <dbl> & <dbl> & <dbl> & <dbl> & <dbl> & <dbl> & <dbl> & <dbl> & <dbl> & <dbl> & <dbl> & <dbl> & <dbl> & <dbl> & <dbl> & <dbl> & <dbl> & <dbl> & <dbl> & <dbl> & <dbl> & <dbl> & <dbl> & <dbl> & <dbl> & <dbl> & <dbl> & <dbl> & <dbl> & <dbl> & <dbl> & <dbl> & <dbl> & <dbl> & <dbl> & <dbl> & <dbl> & <dbl> & <dbl> & <dbl> & <dbl> & <dbl> & <dbl> & <dbl> & <dbl> & <dbl> & <dbl> & <dbl> & <dbl> & <dbl> & <dbl> & <dbl> & <dbl> & <dbl> & <dbl> & <dbl> & <dbl> & <dbl> & <dbl> & <dbl> & <dbl> & <dbl> & <dbl> & <dbl> & <dbl> & <dbl> & <dbl> & <dbl> & <dbl> & <dbl> & <dbl> & <dbl> & <dbl> & <dbl> & <dbl> & <dbl> & <dbl> & <dbl> & <dbl> & <dbl> & <dbl> & <dbl> & <dbl> & <dbl> & <dbl> & <dbl> & <dbl> & <dbl> & <dbl> & <dbl> & <dbl> & <dbl> & <dbl> & <dbl> & <dbl> & <dbl> & <dbl> & <dbl> & <dbl> & <dbl> & <dbl> & <dbl> & <dbl> & <dbl> & <dbl> & <dbl> & <dbl> & <dbl> & <dbl> & <dbl> & <dbl> & <dbl> & <dbl> & <dbl> & <dbl> & <dbl> & <dbl> & <dbl> & <dbl> & <dbl> & <dbl> & <dbl> & <dbl> & <dbl> & <dbl> & <dbl> & <dbl> & <dbl> & <dbl> & <dbl> & <dbl> & <dbl> & <dbl> & <dbl> & <dbl> & <dbl> & <dbl> & <dbl> & <dbl> & <dbl> & <dbl> & <dbl> & <dbl> & <dbl> & <dbl> & <dbl> & <dbl> & <dbl> & <dbl> & <dbl> & <dbl> & <dbl> & <chr> & <chr>\\\\\n",
       "\\hline\n",
       "\t ENSG00000228229 &       & 1 & lincRNA        & 0.0000 & 0.00000 & 0.000 & 0.000 & 0.0000 & 0.00000 & 0.0000 & 0.00000 & 0.0000 & 0.0000 & 0.00000 & 0.0000 & 0.0000 & 0.000 & 0.0000 & 0.00000 & 0.00000 & 0.00000 & 0.00000 & 0.0000 & 0.00000 & 0.00000 & 0.000 & 0.000 & 0.00000 & 0.000 & 0.00000 & 0.00000 & 0.00000 & 0.00000 & 0.0000 & 0.000 & 0.0000 & 0.000 & 0.0000 & 0.000000 & 0.000 & 0.0000 & 0.000 & 0.000 & 0.00000 & 0.00000 & 0.0000 & 0.0000 & 0.00000 & 0.000 & 0.0000 & 0.00000 & 0.0000 & 0.000 & 0.0000 & 0.00000 & 0.0000 & 0.00000 & 0.00000 & 0.0000 & 0.0000 & 0.0000 & 0.00000 & 0.0000 & 0.00000 & 0.00000 & 0.00000 & 0.000 & 0.0000 & 0.0000 & 0.000 & 0.000 & 0.00000 & 0.0000 & 0.0000 & 0.0000 & 0.00000 & 0.00000 & 0.0000 & 0.000 & 0.000 & 0.0000 & 0.00000 & 0.0000 & 0.0000 & 0.0000 & 0.00000 & 0.00000 & 0.0000 & 0.00000 & 0.00000 & 0.00000 & 0.0000 & 0.0000 & 0.0000 & 0.0000 & 0.00000 & 0.0000 & 0.00000 & 0.0000 & 0.0000 & 0.00000 & 0.000 & 0.000 & 0.00000 & 0.0000 & 0.0000 & 0.00000 & 0.0000 & 0.0000 & 0.000 & 0.0000 & 0.00000 & 0.00000 & 0.00000 & 0.00000 & 0.00000 & 0.0000 & 0.0000 & 0.00000 & 0.0000 & 0.0000 & 0.0000 & 0.000 & 0.0000 & 0.000 & 0.00000 & 0.000 & 0.00000 & 0.000 & 0.00000 & 0.00000 & 0.00000 & 0.00 & 0.0000 & 0.00000 & 0.000 & 0.0000 & 0.0000 & 0.0000 & 0.000 & 0.00000 & 0.00000 & 0.00000 & 0.000 & 0.0000 & 0.0000 & 0.00000 & 0.00000 & 0.00000 & 0.0000 & 0.00000 & 0.0000 & 0.00000 & 0.000 & 0.00 & 0.00000 & 0.00000 & 0.0000 & 0.000 & 0.0000 & 0.00000 & 0.000 & 0.0000 & 0.00000 & 0.0000 & 0.0000 & 0.00000 & 0.00000 & 0.0000 & 0.000 & 0.00000 & 0.0000 & 0.0000 & 0.0000 & 0.000 & 0.0000 & 0.0000 & 0.0000 & 0.000 & 0.000 & 0.000 & 0.00000 & 0.00000 & 0.0000 & 0.00000 & 0.00000 & 0.000 & 0.0000 & 0.0000 & 0.0000 & 0.0000 & 0.0000 & 0.0000 & 0.00000 & 0.000 & 0.0000 & 0.000 & 0.0000 & 0.00000 & 0.00000 & 0.000 & 0.0000 & 0.00000 & 0.0000 & 0.0000 & 0.00000 & 0.000 & 0.00000 & 0.0000 & 0.0000 & 0.000 & 0.0000 & 0.00000 & 0.000 & 0.00000 & 0.00000 & 0.00000 & 0.0000 & 0.0000 & 0.00000 & 0.00000 & 0.0000 & 0.0000 & 0.00000 & 0.0000 & 0.00000 & 0.00000 & 0.0000 & 0.0000 & 0.00000 & 0.000 & 0.00000 & 0.00000 & 0.0000 & 0.000 & 0.00000 & 0.0000 & 0.00000 & 0.0000 & 0.0000 & 0.00000 & 0.00 & 0.0000 & 0.0000 & 0.00000 & 0.00000 & 0.00000 & 0.0000 & 0.0000 & 0.00000 & 0.000 & 0.000 & 0.00000 & 0.00000 & 0.00000 & 0.00000 & 0.0000 & 0.0000 & 0.0000 & 0.0000 & 0.000 & 0.0000 & 0.000 & 0.0000 & 0.00000 & 0.00000 & 0.0000 & 0.00000 & 0.000 & 0.000 & 0.0000 & 0.0000 & 0.00000 & 0.0000 & 0.00000 & 0.00000 & 0.000 & 0.000 & 0.0000 & 0.00000 & 0.0000 & 0.000 & 0.00000 & 0.000 & 0.000 & 0.00000 & 0.00000 & 0.0000 & 0.0000 & 0.00000 & 0.00000 & 0.0000 & 0.0000 & 0.0000 & 0.0000 & 0.00000 & 0.00000 & 0.00000 & 0.0000 & 0.000 & 0.000 & 0.00000 & 0.0000 & 0.00000 & 0.0000 & 0.0000 & 0.0000 & 0.00000 & 0.0000 & 0.0000 & 0.000 & 0.0000 & 0.00000 & 0.0000 & 0.0000 & 0.000 & 0.0000 & 0.0000 & 0.0000 & 0.0000 & 0.00000 & 0.0000 & 0.0000 & 0.0000 & 0.000000 & 0.000 & 0.0000 & 0.0000 & 0.0000 & 0.0000 & 0.0000 & 0.00000 & 0.00000 & 0.00 & 0.000 & 0.00000 & 0.0000 & 0.00000 & 0.000 & 0.0000 & 0.0000 & 0.0000 & 0.0000 & 0.00000 & 0.0000 & 0.0000 & 0.00000 & 0.00000 & 0.0000 & 0.000 & 0.0000 & 0.000 & 0.00000 & 0.0000 & 0.0000 & 0.0000 & 0.00000 & 0.00000 & 0.000 & 0.00000 & 0.0000 & 0.0000 & 0.000 & 0.0000 & 0.000 & 0.0000 & 0.00000 & 0.000 & 0.0000 & 0.0000 & 0.0000 & 0.0000 & 0.0000 & 0.00000 & 0.00000 & 0.00000 & 0.0000 & 0.0000 & 0.0000 & 0.00000 & 0.0000 & 0.0000 & 0.0000 & 0.00000 & 0.0000 & 0.00000 & 0.00000 & 0.0000 & 0.00000 & 0.00000 & 0 & 0.0000 & 0.000 & 0.0000 & 0.00000 & 0.00000 & 0.0000 & 0.000 & 0.00000 & 0.00000 & 0.00000 & 0.00000 & 0.00000 & 0.0000 & 0.0000 & 0.00000 & 0.000 & 0.00000 & 0.0000 & 0.0000 & 0.0000 & 0.00000 & 0.000 & 0.00000 & 0.0000 & 0.0000 & 0.000 & 0.000 & 0.0000 & 0.00000 & 0.00000 & 0.00000 & 0.0000 & 0.0000 & 0.0000 & 0.0000 & 0.00000 & 0.0000 & 0.0000 & 0.0000 & 0.00000 & 0.0000 & 0.0000 & 0.0000 & 0.0000 & 0.00000 & 0.0000 & 0.0000 & 0.00000 & 0.0000 & 0.00000 & 0.000 & 0.00000 & 0.00000 & 0.00000 & 0.00 & 0.0000 & 0.0000 & 0.00000 & 0.00000 & 0.000 & 0.0000 & 0.0000 & 0.00000 & 0.00000 & 0.000 & 0.000 & 0.000 & 0.00000 & 0.0000 & 0.000 & 0.00000 & 0.00000 & 0.000 & 0.000 & 0.00000 & 0.0000 & 0.000 & 0.0000 & 0.000 & 0.0000 & 0.0000 & 0.0000 & 0.00000 & 0.00000 & 0.00000 & 0.00000 & 0.00 & 0.00000 & 0.0000 & 0.000 & 0.000 & 0.000 & 0.000 & 0.0000 & 0.000 & 0.00000 & 0.00000 & 0.0000 & 0.000 & 0.00000 & 0.0000 & 0.0000 & 0.00000 & 0.0000 & 0.0000 & 0.0000 & 0.0000 & 0.0000 & 0.00000 & 0.000 & 0.000000 & 0.0000 & 0.0000 & 0.00000 & 0.00000 & 0.0000 & 0.0000 & 0.0000 & 0.0000 & 0.0000 & 0.0000 & 0.000 & 0.0000 & 0.000 & 0.0000 & 0.00000 & 0.0000 & 0.0000 & 0.00000 & 0.000000 & 0.0000 & 0.00000 & 0.0000 & 0.00000 & 0.0000 & 0.0000 & 0.000 & 0.0000 & 0.0000 & 0.00000 & 0.0000 & 0.000 & 0.0000 & 0.00000 & 0.0000 & 0.0000 & 0.0000 & 0.00000 & 0.0000 & 0.0000 & 0.0000 & 0.00000 & 0.00000 & 0.00000 & 0.0000 & 0.0000 & 0.0000 & 0.0000 & 0.0000 & 0.000 & 0.0000 & 0.0000 & 0.0000 & 0.0000 & 0.1069 & 0.000 & 0.00000 & 0.00000 & 0.000 & 0.0000 & 0.0000 & 0.00000 & 0.0000 & 0.00000 & 0.00000 & 0.00000 & 0.000 & 0.00000 & 0.00000 & 0.00000 & 0.00000 & 0.00000 & 0.00000 & 0.0000 & 0.0000 & 0.00000 & 0.0000 & 0.0000 & 0.0000 & 0.0000 & 0.0000 & 0.0000 & 0.0000 & 0.00000 & 0.00000 & 0.0000 & 0.0000 & 0.0000 & 0.00000 & 0.00000 & 0.0000 & 0.000 & 0.00000 & 0.0000 & 0.00 & 0.0000 & 0.0000 & 0.00000 & 0.0000 & 0.000 & 0.00000 & 0.00000 & 0.0000 & 0.00000 & 0.00000 & 0.000 & 0.0000 & 0.0000 & 0.0000 & 0.00000 & 0.00000 & 0.0000 & 0.0000 & 0.00000 & 0.00000 & 0.0000 & 0.0000 & 0.0000 & 0.0000 & 0.00000 & 0.00 & 0.00000 & 0.0000 & 0.0000 & 0.0000 & 0.00000 & 0.000 & 0.00000 & 0.00000 & 0.000 & 0.0000 & 0.000 & 0.00000 & 0.00000 & 0.00000 & 0.00000 & 0.00000 & 0.000 & 0.0000 & 0.00 & 0.0000 & 0.000 & 0.00000 & 0.0000 & 0.00000 & 0.00000 & 0.000 & 0.0000 & 0.0000 & 0.00000 & 0.0000 & 0.0000 & 0.00000 & 0.000 & 0.000 & 0.00000 & 0.00000 & 0.000 & 0.0000 & 0.00000 & 0.00000 & 0.0000 & 0.00000 & 0.00000 & 0.00000 & 0.000 & 0.0000 & 0.0000 & 0.000 & 0.00000 & 0.15090 & 0.00000 & 0.00000 & 0.0000 & 0.00000 & 0.00000 & 0.00000 & 0.0000 & 0.000 & 0.00000 & 0.0000 & 0.0000 & 0.000 & 0.00000 & 0.0000 & 0.0000 & 0.00000 & 0.0000 & 0.00000 & 0.00000 & 0.00000 & 0.000 & 0.000 & 0.0000 & 0.0000 & 0.0000 & 0.000 & 0.00000 & 0.0000 & 0.000 & 0.00000 & 0.00000 & 0.0000 & 0.0000 & 0.00000 & 0.00 & 0.00000 & 0.000 & 0.00000 & 0.00000 & 0.00000 & 0.000 & 0.0000 & 0.00000 & 0.0000 & 0.000 & 0.000 & 0.00000 & 0.00000 & 0.0000 & 0.00000 & 0.00000 & 0.00000 & 0.0000 & 0.00000 & 0.000 & 0.0000 & 0.00000 & 0.00000 & 0.00000 & 0.00000 & 0.000 & 0.00 & 0.00000 & 0.0000 & 0.000 & 0.0000 & 0.0000 & 0.00000 & 0.00000 & 0.00000 & 0.0000 & 0.00000 & 0.00000 & 0.0000 & 0.0000 & 0.00000 & 0.0000 & 0.00000 & 0.00000 & 0.0000 & 0.0000 & 0.0000 & 0.00000 & 0.00000 & 0.00000 & 0.00000 & ENSG00000228229.2 & RP11-219C24.10\\\\\n",
       "\t ENSG00000237445 &       & 1 & lincRNA        & 0.0000 & 0.00000 & 0.000 & 0.000 & 0.0000 & 0.00000 & 0.0000 & 0.00000 & 0.0000 & 0.0000 & 0.00000 & 0.0000 & 0.0000 & 0.000 & 0.0000 & 0.00000 & 0.00000 & 0.00000 & 0.00000 & 0.0000 & 0.00000 & 0.00000 & 0.000 & 0.000 & 0.00000 & 0.000 & 0.00000 & 0.00000 & 0.00000 & 0.00000 & 0.0000 & 0.000 & 0.0000 & 0.000 & 0.0000 & 0.000000 & 0.000 & 0.0000 & 0.000 & 0.000 & 0.00000 & 0.00000 & 0.0000 & 0.0000 & 0.00000 & 0.000 & 0.0000 & 0.00000 & 0.0000 & 0.000 & 0.0000 & 0.00000 & 0.0000 & 0.00000 & 0.00000 & 0.0000 & 0.0000 & 0.0000 & 0.00000 & 0.0000 & 0.00000 & 0.00000 & 0.00000 & 0.000 & 0.0000 & 0.0000 & 0.000 & 0.000 & 0.00000 & 0.0000 & 0.0000 & 0.0000 & 0.00000 & 0.00000 & 0.0000 & 0.000 & 0.000 & 0.0000 & 0.00000 & 0.0000 & 0.0000 & 0.0000 & 0.00000 & 0.00000 & 0.0000 & 0.00000 & 0.00000 & 0.00000 & 0.0000 & 0.0000 & 0.0000 & 0.0000 & 0.00000 & 0.0000 & 0.00000 & 0.0000 & 0.0000 & 0.00000 & 0.000 & 0.000 & 0.00000 & 0.0000 & 0.0000 & 0.00000 & 0.0000 & 0.0000 & 0.000 & 0.0000 & 0.00000 & 0.00000 & 0.00000 & 0.00000 & 0.00000 & 0.0000 & 0.0000 & 0.00000 & 0.0000 & 0.0000 & 0.0000 & 0.000 & 0.0000 & 0.000 & 0.00000 & 0.000 & 0.00000 & 0.000 & 0.00000 & 0.00000 & 0.00000 & 0.00 & 0.0000 & 0.00000 & 0.000 & 0.0000 & 0.0000 & 0.0000 & 0.000 & 0.00000 & 0.00000 & 0.00000 & 0.000 & 0.0000 & 0.0000 & 0.00000 & 0.00000 & 0.00000 & 0.0000 & 0.00000 & 0.0000 & 0.00000 & 0.000 & 0.00 & 0.00000 & 0.00000 & 0.0000 & 0.000 & 0.0000 & 0.00000 & 0.000 & 0.0000 & 0.00000 & 0.0000 & 0.0000 & 0.00000 & 0.00000 & 0.0000 & 0.000 & 0.00000 & 0.0000 & 0.0000 & 0.0000 & 0.000 & 0.0000 & 0.0000 & 0.0000 & 0.000 & 0.000 & 0.000 & 0.00000 & 0.00000 & 0.0000 & 0.00000 & 0.00000 & 0.000 & 0.0000 & 0.0000 & 0.0000 & 0.0000 & 0.0000 & 0.0000 & 0.00000 & 0.000 & 0.0000 & 0.000 & 0.0000 & 0.00000 & 0.00000 & 0.000 & 0.0000 & 0.00000 & 0.0000 & 0.0000 & 0.00000 & 0.000 & 0.00000 & 0.0000 & 0.0000 & 0.000 & 0.0000 & 0.00000 & 0.000 & 0.00000 & 0.00000 & 0.00000 & 0.0000 & 0.0000 & 0.00000 & 0.00000 & 0.0000 & 0.0000 & 0.00000 & 0.0000 & 0.00000 & 0.00000 & 0.0000 & 0.0000 & 0.00000 & 0.000 & 0.00000 & 0.00000 & 0.0000 & 0.000 & 0.00000 & 0.0000 & 0.00000 & 0.2430 & 0.0000 & 0.00000 & 0.00 & 0.0000 & 0.0000 & 0.00000 & 0.00000 & 0.00000 & 0.0000 & 0.0000 & 0.00000 & 0.000 & 0.000 & 0.00000 & 0.00000 & 0.00000 & 0.00000 & 0.0000 & 0.0000 & 0.0000 & 0.0000 & 0.000 & 0.0000 & 0.000 & 0.0000 & 0.00000 & 0.00000 & 0.0000 & 0.00000 & 0.000 & 0.000 & 0.0000 & 0.0000 & 0.00000 & 0.0000 & 0.00000 & 0.00000 & 0.000 & 0.000 & 0.0000 & 0.00000 & 0.0000 & 0.000 & 0.00000 & 0.000 & 0.000 & 0.00000 & 0.00000 & 0.0000 & 0.0000 & 0.00000 & 0.00000 & 0.0000 & 0.0000 & 0.0000 & 0.0000 & 0.00000 & 0.00000 & 0.00000 & 0.0000 & 0.000 & 0.000 & 0.00000 & 0.0000 & 0.00000 & 0.0000 & 0.0000 & 0.0000 & 0.00000 & 0.0000 & 0.0000 & 0.000 & 0.0000 & 0.00000 & 0.0000 & 0.0000 & 0.000 & 0.0000 & 0.0000 & 0.0000 & 0.0000 & 0.00000 & 0.0000 & 0.0000 & 0.0000 & 0.000000 & 0.000 & 0.0000 & 0.0000 & 0.0000 & 0.0000 & 0.0000 & 0.00000 & 0.00000 & 0.00 & 0.000 & 0.00000 & 0.0000 & 0.00000 & 0.000 & 0.0000 & 0.0000 & 0.0000 & 0.0000 & 0.00000 & 0.0000 & 0.0000 & 0.00000 & 0.00000 & 0.0000 & 0.000 & 0.0000 & 0.000 & 0.00000 & 0.0000 & 0.0000 & 0.0000 & 0.00000 & 0.00000 & 0.000 & 0.00000 & 0.0000 & 0.0000 & 0.000 & 0.0000 & 0.000 & 0.0000 & 0.00000 & 0.000 & 0.0000 & 0.0000 & 0.0000 & 0.0000 & 0.0000 & 0.00000 & 0.00000 & 0.00000 & 0.0000 & 0.0000 & 0.0000 & 0.00000 & 0.0000 & 0.0000 & 0.0000 & 0.00000 & 0.0000 & 0.00000 & 0.00000 & 0.0000 & 0.00000 & 0.00000 & 0 & 0.0000 & 0.000 & 0.0000 & 0.00000 & 0.05971 & 0.0000 & 0.000 & 0.00000 & 0.00000 & 0.00000 & 0.00000 & 0.00000 & 0.0000 & 0.0000 & 0.00000 & 0.000 & 0.00000 & 0.0000 & 0.0000 & 0.0000 & 0.00000 & 0.000 & 0.00000 & 0.0000 & 0.0000 & 0.000 & 0.000 & 0.0000 & 0.00000 & 0.00000 & 0.00000 & 0.0000 & 0.0000 & 0.0000 & 0.0000 & 0.00000 & 0.0000 & 0.0000 & 0.0000 & 0.00000 & 0.0000 & 0.0000 & 0.0000 & 0.0000 & 0.00000 & 0.0000 & 0.0000 & 0.00000 & 0.0000 & 0.00000 & 0.000 & 0.00000 & 0.00000 & 0.00000 & 0.00 & 0.0000 & 0.0000 & 0.00000 & 0.00000 & 0.000 & 0.0000 & 0.0000 & 0.00000 & 0.00000 & 0.000 & 0.000 & 0.000 & 0.00000 & 0.0000 & 0.000 & 0.00000 & 0.00000 & 0.000 & 0.000 & 0.00000 & 0.0000 & 0.000 & 0.0000 & 0.000 & 0.0000 & 0.0000 & 0.0000 & 0.00000 & 0.00000 & 0.00000 & 0.00000 & 0.00 & 0.00000 & 0.0000 & 0.000 & 0.000 & 0.000 & 0.000 & 0.0000 & 0.000 & 0.00000 & 0.00000 & 0.0000 & 0.000 & 0.00000 & 0.0000 & 0.0000 & 0.00000 & 0.0000 & 0.0000 & 0.0000 & 0.0000 & 0.0000 & 0.00000 & 0.000 & 0.000000 & 0.0000 & 0.0000 & 0.00000 & 0.00000 & 0.0000 & 0.0000 & 0.0000 & 0.0000 & 0.0000 & 0.0000 & 0.000 & 0.0000 & 0.000 & 0.0000 & 0.00000 & 0.0000 & 0.0000 & 0.00000 & 0.000000 & 0.0000 & 0.00000 & 0.0000 & 0.00000 & 0.0000 & 0.0000 & 0.000 & 0.0000 & 0.0000 & 0.00000 & 0.0000 & 0.000 & 0.0000 & 0.00000 & 0.1464 & 0.0000 & 0.0000 & 0.00000 & 0.0000 & 0.0000 & 0.0000 & 0.00000 & 0.00000 & 0.00000 & 0.0000 & 0.0000 & 0.0000 & 0.0000 & 0.0000 & 0.000 & 0.0000 & 0.0000 & 0.0000 & 0.0000 & 0.0000 & 0.000 & 0.00000 & 0.00000 & 0.000 & 0.0000 & 0.0000 & 0.00000 & 0.0000 & 0.00000 & 0.00000 & 0.00000 & 0.000 & 0.00000 & 0.00000 & 0.00000 & 0.00000 & 0.00000 & 0.00000 & 0.0000 & 0.0000 & 0.00000 & 0.0000 & 0.0000 & 0.0000 & 0.0000 & 0.0000 & 0.0000 & 0.0000 & 0.00000 & 0.00000 & 0.0000 & 0.0000 & 0.0000 & 0.00000 & 0.00000 & 0.0000 & 0.000 & 0.00000 & 0.0000 & 0.00 & 0.0000 & 0.0000 & 0.00000 & 0.0000 & 0.000 & 0.00000 & 0.00000 & 0.0000 & 0.00000 & 0.00000 & 0.000 & 0.0000 & 0.0000 & 0.0000 & 0.00000 & 0.00000 & 0.0000 & 0.0000 & 0.00000 & 0.00000 & 0.0000 & 0.0000 & 0.0000 & 0.0000 & 0.00000 & 0.00 & 0.00000 & 0.0000 & 0.0000 & 0.0000 & 0.00000 & 0.000 & 0.00000 & 0.00000 & 0.000 & 0.0000 & 0.000 & 0.00000 & 0.00000 & 0.00000 & 0.00000 & 0.00000 & 0.000 & 0.0000 & 0.00 & 0.0000 & 0.000 & 0.00000 & 0.0000 & 0.00000 & 0.00000 & 0.000 & 0.0000 & 0.0000 & 0.00000 & 0.0000 & 0.0000 & 0.00000 & 0.000 & 0.000 & 0.00000 & 0.00000 & 0.000 & 0.0000 & 0.00000 & 0.00000 & 0.0000 & 0.00000 & 0.00000 & 0.00000 & 0.000 & 0.0000 & 0.0000 & 0.000 & 0.00000 & 0.00000 & 0.00000 & 0.00000 & 0.0000 & 0.00000 & 0.00000 & 0.00000 & 0.0000 & 0.000 & 0.00000 & 0.0000 & 0.0000 & 0.000 & 0.00000 & 0.0000 & 0.0000 & 0.00000 & 0.0000 & 0.00000 & 0.00000 & 0.00000 & 0.000 & 0.000 & 0.0000 & 0.0000 & 0.0000 & 0.000 & 0.00000 & 0.0000 & 0.000 & 0.00000 & 0.00000 & 0.0000 & 0.0000 & 0.00000 & 0.00 & 0.00000 & 0.000 & 0.00000 & 0.00000 & 0.00000 & 0.000 & 0.0000 & 0.00000 & 0.0000 & 0.000 & 0.000 & 0.00000 & 0.00000 & 0.0000 & 0.00000 & 0.00000 & 0.00000 & 0.0000 & 0.00000 & 0.000 & 0.0000 & 0.00000 & 0.00000 & 0.00000 & 0.00000 & 0.000 & 0.00 & 0.00000 & 0.0000 & 0.000 & 0.0000 & 0.0000 & 0.00000 & 0.00000 & 0.06938 & 0.0000 & 0.00000 & 0.00000 & 0.0000 & 0.0000 & 0.00000 & 0.0000 & 0.00000 & 0.00000 & 0.0000 & 0.0000 & 0.0000 & 0.00000 & 0.00000 & 0.00000 & 0.00000 & ENSG00000237445.2 & CTA-520D8.2   \\\\\n",
       "\t ENSG00000231606 &       & 1 & lincRNA        & 0.0000 & 0.00000 & 0.000 & 0.000 & 0.0000 & 0.00000 & 0.0000 & 0.00000 & 0.0000 & 0.0000 & 0.00000 & 0.0000 & 0.0000 & 0.000 & 0.0000 & 0.00000 & 0.00000 & 0.00000 & 0.00000 & 0.0000 & 0.00000 & 0.00000 & 0.000 & 0.000 & 0.00000 & 0.000 & 0.00000 & 0.00000 & 0.00000 & 0.00000 & 0.0000 & 0.000 & 0.0000 & 0.000 & 0.0000 & 0.000000 & 0.000 & 0.0000 & 0.000 & 0.000 & 0.00000 & 0.00000 & 0.0000 & 0.0000 & 0.00000 & 0.000 & 0.0000 & 0.00000 & 0.0000 & 0.000 & 0.0000 & 0.00000 & 0.0000 & 0.00000 & 0.00000 & 0.0000 & 0.0000 & 0.0000 & 0.00000 & 0.0000 & 0.00000 & 0.00000 & 0.00000 & 0.000 & 0.0000 & 0.0000 & 0.000 & 0.000 & 0.00000 & 0.0000 & 0.0000 & 0.0000 & 0.00000 & 0.00000 & 0.0000 & 0.000 & 0.000 & 0.0000 & 0.00000 & 0.0000 & 0.0000 & 0.0000 & 0.00000 & 0.00000 & 0.0000 & 0.00000 & 0.00000 & 0.00000 & 0.0000 & 0.0000 & 0.0000 & 0.0000 & 0.00000 & 0.0000 & 0.00000 & 0.0000 & 0.0000 & 0.00000 & 0.000 & 0.000 & 0.00000 & 0.0000 & 0.0000 & 0.00000 & 0.0000 & 0.0000 & 0.000 & 0.0000 & 0.00000 & 0.00000 & 0.00000 & 0.00000 & 0.00000 & 0.0000 & 0.0000 & 0.00000 & 0.0000 & 0.0000 & 0.0000 & 0.000 & 0.0000 & 0.000 & 0.00000 & 0.000 & 0.00000 & 0.000 & 0.00000 & 0.00000 & 0.00000 & 0.00 & 0.0000 & 0.00000 & 0.000 & 0.0000 & 0.0000 & 0.0000 & 0.000 & 0.00000 & 0.00000 & 0.00000 & 0.000 & 0.0000 & 0.0000 & 0.00000 & 0.00000 & 0.00000 & 0.0000 & 0.11200 & 0.0000 & 0.00000 & 0.000 & 0.00 & 0.00000 & 0.00000 & 0.0000 & 0.000 & 0.0000 & 0.00000 & 0.000 & 0.0000 & 0.00000 & 0.0000 & 0.0000 & 0.00000 & 0.00000 & 0.0000 & 0.000 & 0.00000 & 0.3727 & 0.0000 & 0.0000 & 0.000 & 0.0000 & 0.0000 & 0.0000 & 0.000 & 0.000 & 0.000 & 0.00000 & 0.00000 & 0.0000 & 0.00000 & 0.00000 & 0.000 & 0.0000 & 0.0000 & 0.0000 & 0.0000 & 0.0000 & 0.0000 & 0.00000 & 0.000 & 0.0000 & 0.000 & 0.0000 & 0.00000 & 0.00000 & 0.000 & 0.0000 & 0.00000 & 0.0000 & 0.0000 & 0.00000 & 0.000 & 0.00000 & 0.0000 & 0.0000 & 0.000 & 0.0000 & 0.00000 & 0.000 & 0.00000 & 0.00000 & 0.00000 & 0.0000 & 0.0000 & 0.00000 & 0.00000 & 0.0000 & 0.0000 & 0.00000 & 0.0000 & 0.00000 & 0.00000 & 0.0000 & 0.0000 & 0.00000 & 0.000 & 0.00000 & 0.00000 & 0.0000 & 0.000 & 0.00000 & 0.0000 & 0.00000 & 0.0000 & 0.0000 & 0.00000 & 0.00 & 0.0000 & 0.0000 & 0.00000 & 0.00000 & 0.00000 & 0.0000 & 0.0000 & 0.00000 & 0.000 & 0.000 & 0.00000 & 0.00000 & 0.00000 & 0.00000 & 0.0000 & 0.0000 & 0.0000 & 0.0000 & 0.000 & 0.0000 & 0.000 & 0.0000 & 0.00000 & 0.00000 & 0.0000 & 0.00000 & 0.000 & 0.000 & 0.0000 & 0.0000 & 0.00000 & 0.0000 & 0.00000 & 0.00000 & 0.000 & 0.000 & 0.0000 & 0.00000 & 0.0000 & 0.000 & 0.00000 & 0.000 & 0.000 & 0.00000 & 0.00000 & 0.0000 & 0.0000 & 0.00000 & 0.00000 & 0.0000 & 0.0000 & 0.0000 & 0.0000 & 0.00000 & 0.00000 & 0.00000 & 0.0000 & 0.000 & 0.000 & 0.00000 & 0.0000 & 0.00000 & 0.0000 & 0.0000 & 0.0000 & 0.00000 & 0.0000 & 0.0000 & 0.000 & 0.0000 & 0.00000 & 0.0000 & 0.0000 & 0.000 & 0.0000 & 0.0000 & 0.0000 & 0.0000 & 0.00000 & 0.0000 & 0.0000 & 0.0000 & 0.000000 & 0.000 & 0.0000 & 0.0000 & 0.0000 & 0.0000 & 0.0000 & 0.00000 & 0.00000 & 0.00 & 0.000 & 0.00000 & 0.0000 & 0.00000 & 0.000 & 0.0000 & 0.0000 & 0.0000 & 0.0000 & 0.00000 & 0.0000 & 0.0000 & 0.00000 & 0.00000 & 0.0000 & 0.000 & 0.0000 & 0.000 & 0.00000 & 0.0000 & 0.0000 & 0.0000 & 0.00000 & 0.00000 & 0.000 & 0.00000 & 0.0000 & 0.0000 & 0.000 & 0.0000 & 0.000 & 0.0000 & 0.00000 & 0.000 & 0.0000 & 0.0000 & 0.0000 & 0.0000 & 0.0000 & 0.00000 & 0.00000 & 0.00000 & 0.0000 & 0.0000 & 0.0000 & 0.00000 & 0.0000 & 0.0000 & 0.0000 & 0.00000 & 0.0000 & 0.00000 & 0.00000 & 0.0000 & 0.00000 & 0.00000 & 0 & 0.0000 & 0.000 & 0.0000 & 0.00000 & 0.00000 & 0.0000 & 0.000 & 0.00000 & 0.00000 & 0.00000 & 0.00000 & 0.00000 & 0.0000 & 0.0000 & 0.00000 & 0.000 & 0.00000 & 0.0000 & 0.0000 & 0.0000 & 0.00000 & 0.000 & 0.00000 & 0.0000 & 0.0000 & 0.000 & 0.000 & 0.0000 & 0.00000 & 0.00000 & 0.00000 & 0.0000 & 0.0000 & 0.0000 & 0.0000 & 0.00000 & 0.0000 & 0.0000 & 0.0000 & 0.00000 & 0.0000 & 0.0000 & 0.0000 & 0.0000 & 0.00000 & 0.0000 & 0.0000 & 0.00000 & 0.0000 & 0.00000 & 0.000 & 0.00000 & 0.00000 & 0.00000 & 0.00 & 0.0000 & 0.0000 & 0.00000 & 0.00000 & 0.000 & 0.0000 & 0.0000 & 0.09366 & 0.00000 & 0.000 & 0.000 & 0.000 & 0.00000 & 0.0000 & 0.000 & 0.00000 & 0.00000 & 0.000 & 0.000 & 0.00000 & 0.0000 & 0.000 & 0.0000 & 0.000 & 0.0000 & 0.0000 & 0.0000 & 0.00000 & 0.00000 & 0.00000 & 0.00000 & 0.00 & 0.00000 & 0.0000 & 0.000 & 0.000 & 0.000 & 0.000 & 0.0000 & 0.000 & 0.00000 & 0.00000 & 0.0000 & 0.000 & 0.00000 & 0.0000 & 0.0000 & 0.00000 & 0.0000 & 0.0000 & 0.0000 & 0.0000 & 0.0000 & 0.00000 & 0.000 & 0.000000 & 0.0000 & 0.0000 & 0.00000 & 0.00000 & 0.0000 & 0.0000 & 0.0000 & 0.0000 & 0.0000 & 0.0000 & 0.000 & 0.0000 & 0.000 & 0.0000 & 0.00000 & 0.0000 & 0.0000 & 0.00000 & 0.000000 & 0.0000 & 0.00000 & 0.0000 & 0.00000 & 0.0000 & 0.0000 & 0.000 & 0.0000 & 0.0000 & 0.00000 & 0.0000 & 0.000 & 0.0000 & 0.00000 & 0.0000 & 0.0000 & 0.0000 & 0.00000 & 0.0000 & 0.0000 & 0.0000 & 0.00000 & 0.00000 & 0.00000 & 0.0000 & 0.0000 & 0.0000 & 0.0000 & 0.0000 & 0.000 & 0.0000 & 0.0000 & 0.0000 & 0.0000 & 0.0000 & 0.000 & 0.00000 & 0.00000 & 0.000 & 0.0000 & 0.0000 & 0.00000 & 0.0000 & 0.00000 & 0.00000 & 0.00000 & 0.000 & 0.00000 & 0.00000 & 0.24620 & 0.00000 & 0.00000 & 0.00000 & 0.0000 & 0.0000 & 0.00000 & 0.0000 & 0.0000 & 0.0000 & 0.0000 & 0.0000 & 0.0000 & 0.0000 & 0.00000 & 0.00000 & 0.0000 & 0.0000 & 0.0000 & 0.00000 & 0.00000 & 0.0000 & 0.000 & 0.00000 & 0.0000 & 0.00 & 0.0000 & 0.0000 & 0.00000 & 0.3465 & 0.000 & 0.00000 & 0.00000 & 0.0000 & 0.00000 & 0.00000 & 0.000 & 0.0000 & 0.0000 & 0.0000 & 0.00000 & 0.00000 & 0.0000 & 0.0000 & 0.00000 & 0.00000 & 0.0000 & 0.0000 & 0.0000 & 0.0000 & 0.00000 & 0.00 & 0.00000 & 0.0000 & 0.0000 & 0.0000 & 0.00000 & 0.000 & 0.00000 & 0.00000 & 0.000 & 0.0000 & 0.000 & 0.00000 & 0.00000 & 0.00000 & 0.00000 & 0.00000 & 0.000 & 0.0000 & 0.00 & 0.0000 & 0.000 & 0.00000 & 0.0000 & 0.00000 & 0.00000 & 0.000 & 0.0000 & 0.0000 & 0.00000 & 0.0000 & 0.0000 & 0.00000 & 0.000 & 0.000 & 0.00000 & 0.00000 & 0.283 & 0.0000 & 0.00000 & 0.00000 & 0.0000 & 0.00000 & 0.00000 & 0.00000 & 0.000 & 0.0000 & 0.0000 & 0.000 & 0.00000 & 0.00000 & 0.00000 & 0.00000 & 0.0000 & 0.00000 & 0.00000 & 0.00000 & 0.0000 & 0.000 & 0.00000 & 0.0000 & 0.0000 & 0.000 & 0.00000 & 0.0000 & 0.0000 & 0.00000 & 0.0000 & 0.00000 & 0.00000 & 0.00000 & 0.000 & 0.000 & 0.0000 & 0.0000 & 0.0000 & 0.000 & 0.00000 & 0.0000 & 0.000 & 0.00000 & 0.00000 & 0.0000 & 0.0000 & 0.00000 & 0.00 & 0.00000 & 0.000 & 0.00000 & 0.00000 & 0.00000 & 0.000 & 0.0000 & 0.00000 & 0.0000 & 0.000 & 0.000 & 0.00000 & 0.00000 & 0.0000 & 0.00000 & 0.00000 & 0.12090 & 0.0000 & 0.00000 & 0.000 & 0.0000 & 0.00000 & 0.00000 & 0.00000 & 0.00000 & 0.000 & 0.00 & 0.00000 & 0.0000 & 0.000 & 0.0000 & 0.0000 & 0.00000 & 0.00000 & 0.00000 & 0.0000 & 0.00000 & 0.00000 & 0.0000 & 0.0000 & 0.00000 & 0.0000 & 0.00000 & 0.00000 & 0.0000 & 0.0000 & 0.0000 & 0.00000 & 0.00000 & 0.00000 & 0.00000 & ENSG00000231606.1 & RP11-344F13.1 \\\\\n",
       "\t ENSG00000234593 &       & 1 & lincRNA        & 0.0000 & 0.00000 & 0.000 & 0.000 & 0.0000 & 0.00000 & 0.0000 & 0.00000 & 0.0000 & 0.0000 & 0.00000 & 0.0000 & 0.0000 & 0.000 & 0.0000 & 0.00000 & 0.00000 & 0.00000 & 0.00000 & 0.0000 & 0.03116 & 0.00000 & 0.000 & 0.000 & 0.00000 & 0.000 & 0.03488 & 0.11240 & 0.00000 & 0.00000 & 0.0000 & 0.000 & 0.0000 & 0.000 & 0.0000 & 0.000000 & 0.000 & 0.0000 & 0.000 & 0.000 & 0.00000 & 0.00000 & 0.0000 & 0.0000 & 0.00000 & 0.000 & 0.0000 & 0.00000 & 0.0000 & 0.000 & 0.0000 & 0.00000 & 0.0000 & 0.00000 & 0.00000 & 0.0000 & 0.0000 & 0.0000 & 0.00000 & 0.0000 & 0.00000 & 0.00000 & 0.00000 & 0.000 & 0.0000 & 0.0000 & 0.000 & 0.000 & 0.00000 & 0.0000 & 0.0000 & 0.0000 & 0.00000 & 0.00000 & 0.0000 & 0.000 & 0.000 & 0.0000 & 0.00000 & 0.0000 & 0.0000 & 0.0000 & 0.00000 & 0.00000 & 0.0000 & 0.00000 & 0.00000 & 0.00000 & 0.0000 & 0.0000 & 0.0000 & 0.0000 & 0.00000 & 0.0000 & 0.00000 & 0.0000 & 0.0000 & 0.00000 & 0.000 & 0.000 & 0.00000 & 0.0000 & 0.0000 & 0.00000 & 0.0000 & 0.0000 & 0.000 & 0.0000 & 0.00000 & 0.00000 & 0.00000 & 0.00000 & 0.00000 & 0.0000 & 0.0000 & 0.00000 & 0.0000 & 0.0000 & 0.0000 & 0.000 & 0.0000 & 0.000 & 0.00000 & 0.000 & 0.00000 & 0.000 & 0.00000 & 0.00000 & 0.00000 & 0.00 & 0.0000 & 0.00000 & 0.000 & 0.0000 & 0.0000 & 0.0000 & 0.000 & 0.00000 & 0.00000 & 0.00000 & 0.000 & 0.0000 & 0.0000 & 0.00000 & 0.00000 & 0.00000 & 0.0000 & 0.00000 & 0.0000 & 0.00000 & 0.000 & 0.00 & 0.00000 & 0.00000 & 0.0000 & 0.000 & 0.0000 & 0.00000 & 0.000 & 0.0000 & 0.00000 & 0.0000 & 0.0000 & 0.00000 & 0.00000 & 0.0000 & 0.000 & 0.00000 & 0.0000 & 0.0000 & 0.0000 & 0.000 & 0.0000 & 0.0000 & 0.0000 & 0.000 & 0.000 & 0.000 & 0.00000 & 0.00000 & 0.0000 & 0.00000 & 0.05651 & 0.000 & 0.0000 & 0.0000 & 0.0000 & 0.0000 & 0.0000 & 0.0000 & 0.00000 & 0.000 & 0.0000 & 0.000 & 0.0000 & 0.00000 & 0.00000 & 0.000 & 0.0000 & 0.00000 & 0.0000 & 0.0000 & 0.00000 & 0.000 & 0.00000 & 0.0000 & 0.0000 & 0.000 & 0.0000 & 0.00000 & 0.000 & 0.00000 & 0.00000 & 0.00000 & 0.0000 & 0.0000 & 0.00000 & 0.00000 & 0.0000 & 0.0000 & 0.00000 & 0.0000 & 0.00000 & 0.00000 & 0.0000 & 0.0000 & 0.00000 & 0.000 & 0.05968 & 0.00000 & 0.0000 & 0.000 & 0.00000 & 0.0000 & 0.00000 & 0.0000 & 0.0000 & 0.00000 & 0.00 & 0.0000 & 0.0000 & 0.00000 & 0.00000 & 0.00000 & 0.0000 & 0.0000 & 0.00000 & 0.000 & 0.000 & 0.00000 & 0.00000 & 0.00000 & 0.00000 & 0.0000 & 0.0000 & 0.0000 & 0.0000 & 0.000 & 0.0000 & 0.000 & 0.0000 & 0.00000 & 0.00000 & 0.0000 & 0.00000 & 0.000 & 0.000 & 0.0000 & 0.0000 & 0.00000 & 0.0000 & 0.00000 & 0.00000 & 0.000 & 0.000 & 0.0000 & 0.00000 & 0.0000 & 0.000 & 0.00000 & 0.000 & 0.000 & 0.00000 & 0.00000 & 0.0000 & 0.0000 & 0.00000 & 0.00000 & 0.0000 & 0.0000 & 0.0000 & 0.0000 & 0.00000 & 0.00000 & 0.00000 & 0.0000 & 0.000 & 0.000 & 0.00000 & 0.0000 & 0.00000 & 0.0000 & 0.0000 & 0.0000 & 0.00000 & 0.0000 & 0.0000 & 0.000 & 0.0000 & 0.00000 & 0.0000 & 0.0000 & 0.000 & 0.0000 & 0.0000 & 0.0000 & 0.0527 & 0.00000 & 0.0000 & 0.0000 & 0.0000 & 0.000000 & 0.000 & 0.0000 & 0.0000 & 0.0000 & 0.0000 & 0.0000 & 0.00000 & 0.00000 & 0.00 & 0.000 & 0.00000 & 0.0000 & 0.00000 & 0.000 & 0.0000 & 0.0000 & 0.0000 & 0.0000 & 0.00000 & 0.0000 & 0.0000 & 0.00000 & 0.00000 & 0.0000 & 0.000 & 0.0000 & 0.000 & 0.05865 & 0.0000 & 0.0000 & 0.0000 & 0.00000 & 0.00000 & 0.000 & 0.00000 & 0.0000 & 0.0000 & 0.000 & 0.0000 & 0.000 & 0.0000 & 0.00000 & 0.000 & 0.0000 & 0.0000 & 0.0000 & 0.0000 & 0.0000 & 0.00000 & 0.00000 & 0.00000 & 0.0000 & 0.0000 & 0.0000 & 0.00000 & 0.0000 & 0.0000 & 0.0000 & 0.00000 & 0.0000 & 0.00000 & 0.00000 & 0.0000 & 0.00000 & 0.00000 & 0 & 0.0000 & 0.000 & 0.0000 & 0.00000 & 0.00000 & 0.0000 & 0.000 & 0.00000 & 0.00000 & 0.00000 & 0.00000 & 0.00000 & 0.0000 & 0.0000 & 0.03746 & 0.000 & 0.00000 & 0.0000 & 0.0000 & 0.0000 & 0.00000 & 0.000 & 0.00000 & 0.0000 & 0.0000 & 0.000 & 0.000 & 0.0000 & 0.00000 & 0.00000 & 0.00000 & 0.0000 & 0.0000 & 0.0000 & 0.0000 & 0.00000 & 0.0000 & 0.0000 & 0.0000 & 0.00000 & 0.0000 & 0.0000 & 0.0000 & 0.0000 & 0.00000 & 0.0000 & 0.0000 & 0.00000 & 0.0000 & 0.00000 & 0.000 & 0.00000 & 0.00000 & 0.00000 & 0.00 & 0.0000 & 0.0000 & 0.00000 & 0.00000 & 0.000 & 0.0000 & 0.0000 & 0.03457 & 0.00000 & 0.000 & 0.000 & 0.000 & 0.00000 & 0.0000 & 0.000 & 0.00000 & 0.00000 & 0.000 & 0.000 & 0.00000 & 0.0000 & 0.000 & 0.0000 & 0.000 & 0.0000 & 0.0000 & 0.0000 & 0.00000 & 0.00000 & 0.00000 & 0.00000 & 0.00 & 0.00000 & 0.0000 & 0.000 & 0.000 & 0.000 & 0.000 & 0.0000 & 0.000 & 0.00000 & 0.00000 & 0.0000 & 0.000 & 0.00000 & 0.0000 & 0.0000 & 0.00000 & 0.0000 & 0.0000 & 0.0000 & 0.0000 & 0.0000 & 0.00000 & 0.000 & 0.000000 & 0.0000 & 0.0000 & 0.00000 & 0.00000 & 0.0000 & 0.0000 & 0.0000 & 0.0000 & 0.0000 & 0.0000 & 0.000 & 0.0000 & 0.000 & 0.0000 & 0.00000 & 0.0000 & 0.0000 & 0.00000 & 0.000000 & 0.0000 & 0.00000 & 0.0000 & 0.00000 & 0.0000 & 0.0000 & 0.000 & 0.0000 & 0.0000 & 0.00000 & 0.0000 & 0.000 & 0.0000 & 0.00000 & 0.0000 & 0.0000 & 0.0000 & 0.00000 & 0.0000 & 0.0000 & 0.0000 & 0.00000 & 0.00000 & 0.00000 & 0.0000 & 0.0000 & 0.0000 & 0.0000 & 0.0000 & 0.000 & 0.0000 & 0.0000 & 0.0000 & 0.0000 & 0.0000 & 0.000 & 0.00000 & 0.00000 & 0.000 & 0.0000 & 0.0000 & 0.00000 & 0.0000 & 0.00000 & 0.00000 & 0.00000 & 0.000 & 0.00000 & 0.00000 & 0.00000 & 0.00000 & 0.00000 & 0.00000 & 0.0000 & 0.0000 & 0.00000 & 0.0000 & 0.0000 & 0.0000 & 0.0000 & 0.0000 & 0.0000 & 0.2636 & 0.00000 & 0.00000 & 0.0000 & 0.0000 & 0.0000 & 0.00000 & 0.00000 & 0.0000 & 0.000 & 0.00000 & 0.0000 & 0.00 & 0.0000 & 0.0000 & 0.00000 & 0.0000 & 0.000 & 0.00000 & 0.00000 & 0.0000 & 0.00000 & 0.00000 & 0.000 & 0.0000 & 0.0000 & 0.0462 & 0.00000 & 0.00000 & 0.0000 & 0.0000 & 0.00000 & 0.00000 & 0.0000 & 0.0000 & 0.0000 & 0.0000 & 0.00000 & 0.00 & 0.00000 & 0.0000 & 0.0000 & 0.0000 & 0.00000 & 0.000 & 0.00000 & 0.00000 & 0.000 & 0.0000 & 0.000 & 0.00000 & 0.00000 & 0.00000 & 0.00000 & 0.00000 & 0.000 & 0.0000 & 0.00 & 0.0000 & 0.000 & 0.00000 & 0.0000 & 0.00000 & 0.00000 & 0.000 & 0.0000 & 0.0000 & 0.00000 & 0.0000 & 0.0000 & 0.00000 & 0.000 & 0.000 & 0.00000 & 0.03670 & 0.000 & 0.0000 & 0.00000 & 0.00000 & 0.0000 & 0.00000 & 0.00000 & 0.00000 & 0.000 & 0.0000 & 0.0000 & 0.000 & 0.00000 & 0.07584 & 0.00000 & 0.00000 & 0.0000 & 0.00000 & 0.00000 & 0.00000 & 0.0000 & 0.000 & 0.00000 & 0.0000 & 0.0000 & 0.000 & 0.00000 & 0.0000 & 0.0000 & 0.00000 & 0.0000 & 0.00000 & 0.00000 & 0.00000 & 0.000 & 0.000 & 0.0000 & 0.0000 & 0.0000 & 0.000 & 0.00000 & 0.0000 & 0.000 & 0.00000 & 0.00000 & 0.0000 & 0.0000 & 0.00000 & 0.00 & 0.00000 & 0.000 & 0.00000 & 0.00000 & 0.00000 & 0.000 & 0.0000 & 0.06079 & 0.0000 & 0.000 & 0.000 & 0.00000 & 0.00000 & 0.0000 & 0.00000 & 0.00000 & 0.00000 & 0.0000 & 0.00000 & 0.000 & 0.0000 & 0.00000 & 0.00000 & 0.00000 & 0.00000 & 0.000 & 0.00 & 0.00000 & 0.0000 & 0.000 & 0.0000 & 0.0000 & 0.00000 & 0.00000 & 0.00000 & 0.0000 & 0.00000 & 0.00000 & 0.0000 & 0.0000 & 0.00000 & 0.0000 & 0.07303 & 0.00000 & 0.0000 & 0.0000 & 0.0000 & 0.00000 & 0.00000 & 0.00000 & 0.00000 & ENSG00000234593.2 & RP4-704D23.1  \\\\\n",
       "\t ENSG00000228140 &       & 1 & lincRNA        & 0.5148 & 1.62100 & 0.678 & 2.237 & 0.1405 & 0.05083 & 0.2413 & 0.06821 & 0.0972 & 0.1468 & 1.56600 & 0.4188 & 0.4902 & 0.361 & 0.3983 & 1.46000 & 0.05693 & 0.18640 & 0.29880 & 0.1865 & 0.11950 & 0.08393 & 2.101 & 2.618 & 0.04562 & 1.287 & 0.07720 & 0.45630 & 0.14070 & 0.04516 & 0.9814 & 1.277 & 0.7718 & 0.123 & 0.5277 & 0.008231 & 0.469 & 0.1423 & 0.979 & 0.751 & 0.82690 & 1.07300 & 0.2891 & 0.3918 & 0.03638 & 1.288 & 0.2955 & 1.15000 & 0.1706 & 0.119 & 0.2735 & 0.24910 & 0.2134 & 1.47300 & 0.70420 & 0.4614 & 0.5666 & 0.4763 & 1.03100 & 0.4323 & 0.20700 & 0.51960 & 0.30680 & 1.057 & 0.4817 & 0.6573 & 0.207 & 1.745 & 0.02007 & 0.6595 & 0.7502 & 0.3342 & 0.31650 & 0.06384 & 0.3642 & 0.396 & 1.013 & 0.1154 & 0.26440 & 0.7733 & 0.2060 & 0.1954 & 0.14340 & 0.94740 & 0.8222 & 0.45810 & 0.98490 & 0.73390 & 0.2421 & 0.6755 & 0.1477 & 0.2912 & 0.39130 & 0.4302 & 0.06925 & 0.1199 & 0.2744 & 0.08256 & 1.641 & 1.782 & 0.42360 & 0.3321 & 0.3446 & 0.50650 & 0.2099 & 0.4793 & 1.495 & 0.4834 & 0.05998 & 0.43300 & 0.06727 & 0.05063 & 0.09434 & 0.3633 & 0.1995 & 1.12900 & 0.3113 & 0.5157 & 0.4544 & 0.435 & 0.2665 & 1.016 & 0.45210 & 2.494 & 0.06033 & 1.765 & 0.05853 & 0.17730 & 0.08618 & 0.27 & 0.3582 & 1.16500 & 0.259 & 0.0845 & 0.4304 & 0.8541 & 1.403 & 2.05400 & 0.06982 & 0.08626 & 1.398 & 0.8535 & 0.9973 & 0.12680 & 0.08176 & 0.04022 & 0.3666 & 1.21300 & 0.8533 & 0.33960 & 0.971 & 1.94 & 0.52930 & 0.89490 & 0.6681 & 2.578 & 0.2750 & 0.17530 & 1.333 & 0.1156 & 0.08638 & 0.2152 & 0.1072 & 0.77530 & 0.15410 & 0.7265 & 1.859 & 0.84700 & 0.7105 & 0.5680 & 0.2705 & 1.161 & 0.1236 & 0.6448 & 0.6811 & 1.364 & 1.891 & 2.291 & 0.05838 & 0.23740 & 0.3303 & 1.10800 & 0.46690 & 1.188 & 0.3101 & 0.7550 & 0.5673 & 0.7071 & 0.7276 & 0.5786 & 0.01086 & 1.974 & 0.4324 & 0.606 & 0.7361 & 0.43720 & 1.41300 & 1.901 & 0.3006 & 0.02446 & 0.8187 & 0.5081 & 0.64080 & 1.071 & 0.05202 & 0.4701 & 0.5746 & 0.549 & 0.4906 & 0.36490 & 0.913 & 0.02289 & 0.14840 & 0.19480 & 0.6682 & 0.8595 & 0.17390 & 0.01733 & 0.4216 & 0.2145 & 0.22410 & 0.4682 & 0.16340 & 0.02518 & 0.1023 & 0.4508 & 1.08100 & 1.012 & 0.18490 & 0.22880 & 0.4973 & 1.314 & 0.49520 & 0.3835 & 0.01642 & 0.5335 & 0.4052 & 0.93570 & 1.72 & 0.2798 & 0.7386 & 0.09906 & 0.04905 & 0.05753 & 0.2386 & 0.2480 & 1.16500 & 1.821 & 1.085 & 0.37440 & 0.74960 & 1.23900 & 0.46050 & 0.8486 & 1.4880 & 0.2044 & 0.1703 & 0.393 & 0.2646 & 1.076 & 0.2382 & 0.55960 & 0.38560 & 0.2694 & 0.07348 & 1.568 & 1.174 & 0.1124 & 0.1605 & 0.74090 & 0.0343 & 0.15860 & 0.00000 & 2.171 & 0.814 & 0.6282 & 0.18790 & 0.1048 & 1.147 & 0.08758 & 0.137 & 0.161 & 0.45100 & 0.07414 & 0.1307 & 0.1929 & 0.08741 & 0.44290 & 0.1696 & 0.1522 & 0.0902 & 0.7586 & 0.45390 & 0.08488 & 0.62340 & 0.3325 & 0.497 & 1.273 & 0.79400 & 0.2685 & 0.03372 & 0.5004 & 0.1364 & 0.9681 & 0.09955 & 0.1907 & 0.1913 & 0.236 & 0.9107 & 0.05643 & 0.2191 & 0.1941 & 1.446 & 0.1283 & 0.3295 & 0.7824 & 0.2566 & 0.55380 & 0.1113 & 0.7213 & 0.3882 & 0.008861 & 1.329 & 0.1131 & 0.1252 & 0.1148 & 0.1461 & 0.1457 & 0.03867 & 0.09422 & 0.56 & 0.565 & 0.14090 & 0.1813 & 0.91900 & 1.366 & 0.1523 & 0.6712 & 0.9817 & 0.8769 & 0.03586 & 0.1355 & 0.4338 & 0.04932 & 0.03376 & 0.1918 & 1.562 & 0.3538 & 0.329 & 0.03461 & 0.1537 & 0.6538 & 0.2344 & 0.05421 & 0.02899 & 1.939 & 0.00000 & 0.3843 & 0.5338 & 2.072 & 0.5871 & 1.029 & 0.1972 & 0.07041 & 0.355 & 0.8983 & 0.9156 & 0.7621 & 0.3029 & 0.4225 & 1.30400 & 0.04157 & 0.15620 & 0.1349 & 0.2056 & 0.6381 & 0.07227 & 0.3094 & 0.1336 & 0.1491 & 0.95860 & 0.5756 & 0.07796 & 0.22590 & 0.6537 & 1.20000 & 0.02963 & 0 & 0.1535 & 1.088 & 0.5694 & 0.47990 & 0.06119 & 0.3251 & 1.463 & 0.04179 & 0.04466 & 0.03316 & 0.16490 & 0.05533 & 0.1328 & 0.4902 & 1.16100 & 1.423 & 0.04541 & 0.6636 & 0.4535 & 0.5322 & 0.31950 & 1.097 & 0.02517 & 0.2215 & 0.1133 & 1.425 & 0.678 & 0.1752 & 0.42190 & 0.15430 & 0.05007 & 0.7287 & 1.6230 & 0.4459 & 0.1329 & 0.02063 & 0.5092 & 0.2178 & 0.4772 & 0.02459 & 0.1061 & 0.9664 & 0.3503 & 0.2528 & 0.12020 & 0.4334 & 0.4376 & 0.15140 & 0.3366 & 0.07599 & 1.255 & 1.30200 & 1.84200 & 0.08212 & 0.75 & 0.6692 & 0.1032 & 0.10320 & 0.07942 & 0.428 & 0.7223 & 0.9596 & 0.71920 & 0.06779 & 0.167 & 0.127 & 0.643 & 1.49400 & 0.3607 & 1.092 & 0.03289 & 0.07568 & 0.155 & 2.244 & 0.65530 & 1.0050 & 1.555 & 0.1165 & 0.157 & 0.1532 & 0.1603 & 0.5559 & 0.02009 & 0.05037 & 0.65980 & 1.12100 & 0.12 & 0.08673 & 0.7704 & 1.349 & 0.359 & 1.776 & 2.062 & 0.1978 & 1.032 & 0.04557 & 0.59410 & 0.1036 & 0.795 & 0.06511 & 0.6064 & 0.8163 & 1.11300 & 0.1296 & 0.2285 & 0.3733 & 0.8992 & 0.1446 & 0.99790 & 0.298 & 0.004329 & 0.7006 & 0.7746 & 0.14580 & 0.10290 & 0.9357 & 0.1646 & 0.7066 & 0.1423 & 0.8356 & 0.7798 & 0.565 & 0.9467 & 1.217 & 0.6383 & 0.24410 & 0.2949 & 0.5428 & 0.98360 & 0.006832 & 0.8488 & 1.26600 & 0.6742 & 0.99670 & 0.7118 & 0.2731 & 1.459 & 0.7338 & 0.5885 & 0.52050 & 0.8064 & 2.738 & 0.1638 & 0.08514 & 0.1714 & 0.4184 & 0.5269 & 1.21900 & 0.1702 & 0.3025 & 0.4858 & 0.52230 & 0.95150 & 0.50890 & 0.1254 & 0.5466 & 0.1573 & 0.2198 & 0.9458 & 2.793 & 0.7251 & 0.6311 & 0.2754 & 0.8031 & 0.3410 & 1.509 & 0.14090 & 0.75300 & 0.207 & 0.4584 & 0.2621 & 0.25060 & 0.7466 & 0.44320 & 0.00000 & 0.75950 & 0.988 & 0.01958 & 0.01386 & 0.49610 & 0.48540 & 0.04313 & 0.73970 & 0.4564 & 0.2589 & 0.73510 & 0.3318 & 0.3718 & 2.8100 & 0.9578 & 0.6208 & 0.1196 & 1.6920 & 0.49450 & 0.29910 & 0.1502 & 0.6514 & 0.2403 & 0.01819 & 0.28260 & 0.7830 & 1.385 & 1.12500 & 1.4380 & 1.83 & 0.2888 & 0.3907 & 0.07319 & 2.7360 & 1.496 & 0.43560 & 1.69700 & 0.3260 & 0.18640 & 1.74900 & 0.153 & 0.7735 & 0.4975 & 1.1250 & 0.43600 & 1.27100 & 0.7652 & 0.7613 & 0.07808 & 0.10150 & 0.2417 & 1.1170 & 0.9377 & 0.1458 & 0.31550 & 1.01 & 1.59100 & 0.5321 & 0.2141 & 0.3384 & 0.80680 & 0.989 & 0.17790 & 0.67220 & 1.131 & 1.3560 & 2.413 & 1.13900 & 0.49220 & 0.85700 & 0.91860 & 0.83480 & 1.194 & 0.5111 & 0.54 & 0.9038 & 1.192 & 0.04256 & 0.9330 & 0.83400 & 0.67480 & 0.448 & 0.1561 & 0.8244 & 1.09700 & 2.4550 & 0.7058 & 0.13310 & 0.158 & 2.987 & 0.33570 & 0.16240 & 0.447 & 0.3617 & 0.06063 & 1.21400 & 0.2006 & 0.98810 & 0.44510 & 0.04935 & 1.791 & 0.2392 & 0.3251 & 1.611 & 0.56740 & 0.35810 & 0.73340 & 0.70130 & 0.5228 & 1.38100 & 0.26140 & 1.03300 & 1.1510 & 1.147 & 0.03834 & 0.5317 & 0.2133 & 0.293 & 0.64720 & 0.8136 & 0.3128 & 0.82480 & 0.3188 & 0.20870 & 0.07261 & 0.76000 & 1.434 & 0.615 & 0.6807 & 0.3925 & 0.1897 & 1.014 & 0.58010 & 0.7422 & 1.984 & 0.15480 & 1.21500 & 0.1636 & 0.6259 & 0.31450 & 1.34 & 1.31200 & 1.759 & 1.41600 & 0.49560 & 2.27700 & 1.199 & 0.2389 & 0.74000 & 0.5676 & 1.393 & 1.846 & 0.12100 & 0.07591 & 0.4529 & 1.01200 & 0.33570 & 0.63890 & 0.3319 & 0.36600 & 0.614 & 0.3776 & 1.12400 & 0.39580 & 0.41180 & 0.75380 & 1.105 & 1.02 & 1.08800 & 0.9641 & 1.024 & 0.2075 & 0.6599 & 0.74560 & 1.33100 & 0.27930 & 0.8391 & 0.08135 & 1.06500 & 0.3307 & 0.6429 & 1.24200 & 0.1653 & 0.88900 & 1.06500 & 0.3384 & 0.1622 & 0.1911 & 2.15500 & 0.28140 & 0.74600 & 0.62610 & ENSG00000228140.1 & RP3-467K16.4  \\\\\n",
       "\t ENSG00000186092 & OR4F5 & 1 & protein\\_coding & 0.0000 & 0.05678 & 0.000 & 0.000 & 0.0000 & 0.00000 & 0.0000 & 0.00000 & 0.0000 & 0.0000 & 0.08923 & 0.0000 & 0.0395 & 0.000 & 0.0000 & 0.04524 & 0.00000 & 0.02842 & 0.04013 & 0.0000 & 0.02593 & 0.00000 & 0.000 & 0.000 & 0.00000 & 0.000 & 0.00000 & 0.04679 & 0.04962 & 0.02547 & 0.0000 & 0.000 & 0.0000 & 0.000 & 0.0000 & 0.000000 & 0.000 & 0.0000 & 0.000 & 0.000 & 0.04127 & 0.05131 & 0.0453 & 0.0000 & 0.00000 & 0.000 & 0.0000 & 0.04213 & 0.0000 & 0.000 & 0.0000 & 0.05855 & 0.0000 & 0.03828 & 0.05261 & 0.0000 & 0.0000 & 0.0000 & 0.03849 & 0.0000 & 0.07076 & 0.05328 & 0.08441 & 0.000 & 0.0000 & 0.0000 & 0.000 & 0.000 & 0.00000 & 0.0418 & 0.0000 & 0.0000 & 0.09916 & 0.00000 & 0.0000 & 0.000 & 0.000 & 0.0000 & 0.04812 & 0.0000 & 0.1056 & 0.0000 & 0.03677 & 0.04948 & 0.0000 & 0.03975 & 0.04873 & 0.05376 & 0.0000 & 0.0000 & 0.0000 & 0.0000 & 0.02759 & 0.0000 & 0.00000 & 0.0000 & 0.0000 & 0.00000 & 0.000 & 0.000 & 0.06926 & 0.0000 & 0.0341 & 0.07937 & 0.0000 & 0.0000 & 0.000 & 0.0000 & 0.00000 & 0.01986 & 0.00000 & 0.00000 & 0.00000 & 0.0000 & 0.0363 & 0.03617 & 0.0000 & 0.0000 & 0.0000 & 0.000 & 0.0000 & 0.000 & 0.03269 & 0.000 & 0.04254 & 0.000 & 0.00000 & 0.04348 & 0.00000 & 0.00 & 0.0000 & 0.05713 & 0.000 & 0.0000 & 0.0000 & 0.2753 & 0.000 & 0.04615 & 0.00000 & 0.00000 & 0.000 & 0.0000 & 0.0000 & 0.03765 & 0.00000 & 0.00000 & 0.0000 & 0.03439 & 0.0000 & 0.05633 & 0.000 & 0.00 & 0.08782 & 0.03739 & 0.0000 & 0.000 & 0.3761 & 0.04493 & 0.000 & 0.1222 & 0.00000 & 0.0000 & 0.0000 & 0.05467 & 0.03104 & 0.0000 & 0.000 & 0.03388 & 0.0000 & 0.1248 & 0.0000 & 0.000 & 0.0000 & 0.0000 & 0.0000 & 0.000 & 0.000 & 0.000 & 0.00000 & 0.07876 & 0.0000 & 0.03856 & 0.04703 & 0.000 & 0.0000 & 0.1503 & 0.0000 & 0.0000 & 0.0000 & 0.0259 & 0.00000 & 0.000 & 0.1076 & 0.000 & 0.0000 & 0.03473 & 0.03985 & 0.000 & 0.0000 & 0.03449 & 0.0000 & 0.0000 & 0.09151 & 0.000 & 0.00000 & 0.1396 & 0.0000 & 0.000 & 0.0401 & 0.04678 & 0.000 & 0.00000 & 0.03101 & 0.02891 & 0.0000 & 0.0000 & 0.04906 & 0.00000 & 0.1346 & 0.0000 & 0.03717 & 0.0000 & 0.05122 & 0.07100 & 0.0000 & 0.0000 & 0.03261 & 0.000 & 0.00000 & 0.08067 & 0.0000 & 0.000 & 0.04579 & 0.0000 & 0.06174 & 0.0000 & 0.0000 & 0.04755 & 0.00 & 0.0000 & 0.0000 & 0.03725 & 0.00000 & 0.00000 & 0.0299 & 0.1794 & 0.07778 & 0.000 & 0.000 & 0.05866 & 0.05714 & 0.08124 & 0.04258 & 0.0000 & 0.0608 & 0.0000 & 0.0000 & 0.000 & 0.0000 & 0.000 & 0.0000 & 0.07892 & 0.03816 & 0.0000 & 0.00000 & 0.000 & 0.000 & 0.0000 & 0.0000 & 0.03483 & 0.0000 & 0.03726 & 0.04103 & 0.000 & 0.000 & 0.0000 & 0.06622 & 0.0000 & 0.000 & 0.00000 & 0.000 & 0.000 & 0.03914 & 0.05227 & 0.0000 & 0.0000 & 0.00000 & 0.01772 & 0.0000 & 0.0000 & 0.0000 & 0.0000 & 0.02535 & 0.04788 & 0.03256 & 0.2557 & 0.000 & 0.000 & 0.07927 & 0.0000 & 0.00000 & 0.0000 & 0.0000 & 0.0000 & 0.05615 & 0.0347 & 0.0000 & 0.000 & 0.0000 & 0.00000 & 0.0000 & 0.0000 & 0.000 & 0.0000 & 0.0000 & 0.0000 & 0.0000 & 0.07908 & 0.0000 & 0.0000 & 0.0000 & 0.000000 & 0.000 & 0.0319 & 0.0000 & 0.0249 & 0.0000 & 0.0000 & 0.05453 & 0.00000 & 0.00 & 0.000 & 0.04414 & 0.0000 & 0.04547 & 0.000 & 0.0000 & 0.0000 & 0.0000 & 0.0000 & 0.10110 & 0.0000 & 0.0000 & 0.22250 & 0.00000 & 0.0000 & 0.000 & 0.1023 & 0.000 & 0.00000 & 0.0000 & 0.0000 & 0.0000 & 0.00000 & 0.02725 & 0.000 & 0.04822 & 0.0000 & 0.0000 & 0.000 & 0.0000 & 0.000 & 0.0000 & 0.03055 & 0.000 & 0.0000 & 0.0000 & 0.0000 & 0.0000 & 0.0000 & 0.04457 & 0.03908 & 0.03146 & 0.0000 & 0.0000 & 0.0000 & 0.00000 & 0.0000 & 0.0000 & 0.0000 & 0.03277 & 0.1059 & 0.00000 & 0.03982 & 0.0000 & 0.03238 & 0.00000 & 0 & 0.0000 & 0.000 & 0.0000 & 0.02762 & 0.00000 & 0.0000 & 0.000 & 0.00000 & 0.00000 & 0.00000 & 0.06643 & 0.00000 & 0.0000 & 0.0000 & 0.00000 & 0.000 & 0.00000 & 0.0000 & 0.0000 & 0.0000 & 0.03466 & 0.000 & 0.00000 & 0.0000 & 0.0000 & 0.000 & 0.000 & 0.0000 & 0.03091 & 0.02807 & 0.02568 & 0.0000 & 0.0319 & 0.0000 & 0.0000 & 0.00000 & 0.0000 & 0.0000 & 0.0000 & 0.00000 & 0.0000 & 0.0000 & 0.0000 & 0.0000 & 0.02338 & 0.0000 & 0.0000 & 0.02135 & 0.0000 & 0.00000 & 0.000 & 0.02604 & 0.03177 & 0.02316 & 0.00 & 0.0000 & 0.0000 & 0.02645 & 0.00000 & 0.000 & 0.0000 & 0.0000 & 0.00000 & 0.02549 & 0.000 & 0.000 & 0.000 & 0.08569 & 0.0000 & 0.000 & 0.03092 & 0.00000 & 0.000 & 0.000 & 0.07393 & 0.1318 & 0.000 & 0.0365 & 0.000 & 0.0000 & 0.0000 & 0.0000 & 0.03776 & 0.14200 & 0.02001 & 0.03877 & 0.00 & 0.03058 & 0.0000 & 0.000 & 0.000 & 0.000 & 0.000 & 0.0000 & 0.000 & 0.00000 & 0.05405 & 0.0000 & 0.000 & 0.00000 & 0.0000 & 0.0000 & 0.03737 & 0.0000 & 0.0000 & 0.0000 & 0.0000 & 0.0000 & 0.02887 & 0.000 & 0.048840 & 0.0000 & 0.0000 & 0.02419 & 0.03054 & 0.0000 & 0.0000 & 0.0000 & 0.0000 & 0.0000 & 0.0000 & 0.000 & 0.0000 & 0.000 & 0.0000 & 0.05738 & 0.0000 & 0.0000 & 0.04079 & 0.000000 & 0.1019 & 0.04153 & 0.1188 & 0.03627 & 0.0000 & 0.0453 & 0.000 & 0.1035 & 0.0000 & 0.04587 & 0.0000 & 0.000 & 0.0000 & 0.06860 & 0.1813 & 1.9670 & 0.0000 & 0.09164 & 0.0000 & 0.1741 & 0.0000 & 0.05665 & 0.02556 & 0.03932 & 1.0610 & 0.0000 & 0.0000 & 0.0000 & 0.0000 & 0.000 & 0.0000 & 0.1287 & 0.0000 & 0.0000 & 0.0000 & 0.000 & 0.03612 & 0.09994 & 0.000 & 0.0000 & 0.0000 & 0.04283 & 0.0000 & 0.04464 & 0.09686 & 0.06347 & 0.000 & 0.00000 & 0.00000 & 0.07563 & 0.08831 & 0.04055 & 0.03793 & 0.0000 & 0.0000 & 0.06687 & 0.1370 & 0.0000 & 0.1093 & 0.0000 & 0.0000 & 0.0000 & 0.0000 & 0.07748 & 0.08436 & 0.0000 & 0.0000 & 0.2140 & 0.00000 & 0.07246 & 0.1359 & 0.000 & 0.04918 & 0.1931 & 0.00 & 0.0000 & 0.1025 & 0.10320 & 1.0640 & 0.000 & 0.02996 & 0.04986 & 0.3198 & 0.05842 & 0.07709 & 0.000 & 0.0000 & 0.0000 & 0.0769 & 0.06895 & 0.03982 & 0.0000 & 0.0000 & 0.05505 & 0.07157 & 0.0779 & 0.1562 & 0.0000 & 0.0000 & 0.08474 & 0.00 & 0.05309 & 0.0469 & 0.0000 & 0.0000 & 0.02346 & 0.000 & 0.07166 & 0.06893 & 0.000 & 0.0375 & 0.000 & 0.05222 & 0.02833 & 0.05142 & 0.09685 & 0.04281 & 0.000 & 0.0000 & 0.00 & 0.0000 & 0.000 & 0.00000 & 0.0358 & 0.08401 & 0.03146 & 0.000 & 0.0000 & 0.0000 & 0.08477 & 0.0426 & 0.0000 & 0.03002 & 0.000 & 0.000 & 0.02491 & 0.03054 & 0.000 & 0.0583 & 0.00000 & 0.03004 & 0.0000 & 0.03925 & 0.05123 & 0.00000 & 0.000 & 0.0000 & 0.2158 & 0.000 & 0.08649 & 0.00000 & 0.04546 & 0.04208 & 0.0000 & 0.05092 & 0.04914 & 0.04588 & 0.0446 & 0.000 & 0.14420 & 0.0000 & 0.0000 & 0.000 & 0.04741 & 0.0000 & 0.0000 & 0.03783 & 0.0000 & 0.04906 & 0.00000 & 0.06595 & 0.000 & 0.000 & 0.0000 & 0.0000 & 0.1529 & 0.000 & 0.05454 & 0.0000 & 0.000 & 0.04157 & 0.07787 & 0.0000 & 0.0000 & 0.03942 & 0.00 & 0.05482 & 0.000 & 0.03768 & 0.04051 & 0.02535 & 0.000 & 0.0245 & 0.00000 & 0.0000 & 0.000 & 0.000 & 0.09305 & 0.00000 & 0.0000 & 0.06273 & 0.03713 & 0.03715 & 0.1306 & 0.08426 & 0.000 & 0.0000 & 0.06184 & 0.05074 & 0.05161 & 0.04168 & 0.000 & 0.00 & 0.03429 & 0.0000 & 0.000 & 0.0000 & 0.0000 & 0.03286 & 0.07738 & 0.02864 & 0.0000 & 0.00000 & 0.03554 & 0.2332 & 0.0000 & 0.04377 & 0.0333 & 0.06078 & 0.04884 & 0.0000 & 0.0000 & 0.0000 & 0.04552 & 0.03527 & 0.08015 & 0.04528 & ENSG00000186092.4 & OR4F5         \\\\\n",
       "\\end{tabular}\n"
      ],
      "text/markdown": [
       "\n",
       "A data.frame: 6 × 761\n",
       "\n",
       "| ensembl_gene_id &lt;chr&gt; | hgnc_symbol &lt;chr&gt; | chromosome_name &lt;chr&gt; | transcript_biotype &lt;chr&gt; | GTEX-111YS-0006-SM-5NQBE &lt;dbl&gt; | GTEX-1122O-0005-SM-5O99J &lt;dbl&gt; | GTEX-1128S-0005-SM-5P9HI &lt;dbl&gt; | GTEX-113IC-0006-SM-5NQ9C &lt;dbl&gt; | GTEX-113JC-0006-SM-5O997 &lt;dbl&gt; | GTEX-117XS-0005-SM-5PNU6 &lt;dbl&gt; | ⋯ ⋯ | GTEX-ZVT2-0005-SM-57WBW &lt;dbl&gt; | GTEX-ZVT3-0006-SM-51MT9 &lt;dbl&gt; | GTEX-ZVT4-0006-SM-57WB8 &lt;dbl&gt; | GTEX-ZVTK-0006-SM-57WBK &lt;dbl&gt; | GTEX-ZVZP-0006-SM-51MSW &lt;dbl&gt; | GTEX-ZVZQ-0006-SM-51MR8 &lt;dbl&gt; | GTEX-ZXES-0005-SM-57WCB &lt;dbl&gt; | GTEX-ZXG5-0005-SM-57WCN &lt;dbl&gt; | Name &lt;chr&gt; | Description &lt;chr&gt; |\n",
       "|---|---|---|---|---|---|---|---|---|---|---|---|---|---|---|---|---|---|---|---|---|\n",
       "| ENSG00000228229 | <!----> | 1 | lincRNA        | 0.0000 | 0.00000 | 0.000 | 0.000 | 0.0000 | 0.00000 | ⋯ | 0.00000 | 0.0000 | 0.0000 | 0.0000 | 0.00000 | 0.00000 | 0.00000 | 0.00000 | ENSG00000228229.2 | RP11-219C24.10 |\n",
       "| ENSG00000237445 | <!----> | 1 | lincRNA        | 0.0000 | 0.00000 | 0.000 | 0.000 | 0.0000 | 0.00000 | ⋯ | 0.00000 | 0.0000 | 0.0000 | 0.0000 | 0.00000 | 0.00000 | 0.00000 | 0.00000 | ENSG00000237445.2 | CTA-520D8.2    |\n",
       "| ENSG00000231606 | <!----> | 1 | lincRNA        | 0.0000 | 0.00000 | 0.000 | 0.000 | 0.0000 | 0.00000 | ⋯ | 0.00000 | 0.0000 | 0.0000 | 0.0000 | 0.00000 | 0.00000 | 0.00000 | 0.00000 | ENSG00000231606.1 | RP11-344F13.1  |\n",
       "| ENSG00000234593 | <!----> | 1 | lincRNA        | 0.0000 | 0.00000 | 0.000 | 0.000 | 0.0000 | 0.00000 | ⋯ | 0.00000 | 0.0000 | 0.0000 | 0.0000 | 0.00000 | 0.00000 | 0.00000 | 0.00000 | ENSG00000234593.2 | RP4-704D23.1   |\n",
       "| ENSG00000228140 | <!----> | 1 | lincRNA        | 0.5148 | 1.62100 | 0.678 | 2.237 | 0.1405 | 0.05083 | ⋯ | 1.06500 | 0.3384 | 0.1622 | 0.1911 | 2.15500 | 0.28140 | 0.74600 | 0.62610 | ENSG00000228140.1 | RP3-467K16.4   |\n",
       "| ENSG00000186092 | OR4F5 | 1 | protein_coding | 0.0000 | 0.05678 | 0.000 | 0.000 | 0.0000 | 0.00000 | ⋯ | 0.04884 | 0.0000 | 0.0000 | 0.0000 | 0.04552 | 0.03527 | 0.08015 | 0.04528 | ENSG00000186092.4 | OR4F5          |\n",
       "\n"
      ],
      "text/plain": [
       "  ensembl_gene_id hgnc_symbol chromosome_name transcript_biotype\n",
       "1 ENSG00000228229             1               lincRNA           \n",
       "2 ENSG00000237445             1               lincRNA           \n",
       "3 ENSG00000231606             1               lincRNA           \n",
       "4 ENSG00000234593             1               lincRNA           \n",
       "5 ENSG00000228140             1               lincRNA           \n",
       "6 ENSG00000186092 OR4F5       1               protein_coding    \n",
       "  GTEX-111YS-0006-SM-5NQBE GTEX-1122O-0005-SM-5O99J GTEX-1128S-0005-SM-5P9HI\n",
       "1 0.0000                   0.00000                  0.000                   \n",
       "2 0.0000                   0.00000                  0.000                   \n",
       "3 0.0000                   0.00000                  0.000                   \n",
       "4 0.0000                   0.00000                  0.000                   \n",
       "5 0.5148                   1.62100                  0.678                   \n",
       "6 0.0000                   0.05678                  0.000                   \n",
       "  GTEX-113IC-0006-SM-5NQ9C GTEX-113JC-0006-SM-5O997 GTEX-117XS-0005-SM-5PNU6 ⋯\n",
       "1 0.000                    0.0000                   0.00000                  ⋯\n",
       "2 0.000                    0.0000                   0.00000                  ⋯\n",
       "3 0.000                    0.0000                   0.00000                  ⋯\n",
       "4 0.000                    0.0000                   0.00000                  ⋯\n",
       "5 2.237                    0.1405                   0.05083                  ⋯\n",
       "6 0.000                    0.0000                   0.00000                  ⋯\n",
       "  GTEX-ZVT2-0005-SM-57WBW GTEX-ZVT3-0006-SM-51MT9 GTEX-ZVT4-0006-SM-57WB8\n",
       "1 0.00000                 0.0000                  0.0000                 \n",
       "2 0.00000                 0.0000                  0.0000                 \n",
       "3 0.00000                 0.0000                  0.0000                 \n",
       "4 0.00000                 0.0000                  0.0000                 \n",
       "5 1.06500                 0.3384                  0.1622                 \n",
       "6 0.04884                 0.0000                  0.0000                 \n",
       "  GTEX-ZVTK-0006-SM-57WBK GTEX-ZVZP-0006-SM-51MSW GTEX-ZVZQ-0006-SM-51MR8\n",
       "1 0.0000                  0.00000                 0.00000                \n",
       "2 0.0000                  0.00000                 0.00000                \n",
       "3 0.0000                  0.00000                 0.00000                \n",
       "4 0.0000                  0.00000                 0.00000                \n",
       "5 0.1911                  2.15500                 0.28140                \n",
       "6 0.0000                  0.04552                 0.03527                \n",
       "  GTEX-ZXES-0005-SM-57WCB GTEX-ZXG5-0005-SM-57WCN Name             \n",
       "1 0.00000                 0.00000                 ENSG00000228229.2\n",
       "2 0.00000                 0.00000                 ENSG00000237445.2\n",
       "3 0.00000                 0.00000                 ENSG00000231606.1\n",
       "4 0.00000                 0.00000                 ENSG00000234593.2\n",
       "5 0.74600                 0.62610                 ENSG00000228140.1\n",
       "6 0.08015                 0.04528                 ENSG00000186092.4\n",
       "  Description   \n",
       "1 RP11-219C24.10\n",
       "2 CTA-520D8.2   \n",
       "3 RP11-344F13.1 \n",
       "4 RP4-704D23.1  \n",
       "5 RP3-467K16.4  \n",
       "6 OR4F5         "
      ]
     },
     "metadata": {},
     "output_type": "display_data"
    }
   ],
   "source": [
    "head(expression_list_target[[tissue_vec_clean[1]]])"
   ]
  },
  {
   "cell_type": "code",
   "execution_count": 204,
   "metadata": {},
   "outputs": [
    {
     "data": {
      "text/html": [
       "<table>\n",
       "<caption>A data.frame: 6 × 91</caption>\n",
       "<thead>\n",
       "\t<tr><th scope=col>ensembl_gene_id</th><th scope=col>hgnc_symbol</th><th scope=col>chromosome_name</th><th scope=col>transcript_biotype</th><th scope=col>GTEX-11GS4-2326-SM-5A5KS</th><th scope=col>GTEX-11OF3-1326-SM-5N9FJ</th><th scope=col>GTEX-11TTK-1926-SM-5PNW8</th><th scope=col>GTEX-12696-0926-SM-5FQTV</th><th scope=col>GTEX-12WSG-0826-SM-5EQ5A</th><th scope=col>GTEX-13112-2126-SM-5GCO4</th><th scope=col>⋯</th><th scope=col>GTEX-Y5V6-2026-SM-5IFHO</th><th scope=col>GTEX-ZC5H-1726-SM-5HL7X</th><th scope=col>GTEX-ZDXO-0226-SM-4WKH7</th><th scope=col>GTEX-ZE9C-1426-SM-4WKGM</th><th scope=col>GTEX-ZLFU-0926-SM-5P9F8</th><th scope=col>GTEX-ZVZP-0926-SM-5GIDB</th><th scope=col>GTEX-ZYFG-1626-SM-5GZYY</th><th scope=col>GTEX-ZYT6-2226-SM-5GIC9</th><th scope=col>Name</th><th scope=col>Description</th></tr>\n",
       "\t<tr><th scope=col>&lt;chr&gt;</th><th scope=col>&lt;chr&gt;</th><th scope=col>&lt;chr&gt;</th><th scope=col>&lt;chr&gt;</th><th scope=col>&lt;dbl&gt;</th><th scope=col>&lt;dbl&gt;</th><th scope=col>&lt;dbl&gt;</th><th scope=col>&lt;dbl&gt;</th><th scope=col>&lt;dbl&gt;</th><th scope=col>&lt;dbl&gt;</th><th scope=col>⋯</th><th scope=col>&lt;dbl&gt;</th><th scope=col>&lt;dbl&gt;</th><th scope=col>&lt;dbl&gt;</th><th scope=col>&lt;dbl&gt;</th><th scope=col>&lt;dbl&gt;</th><th scope=col>&lt;dbl&gt;</th><th scope=col>&lt;dbl&gt;</th><th scope=col>&lt;dbl&gt;</th><th scope=col>&lt;chr&gt;</th><th scope=col>&lt;chr&gt;</th></tr>\n",
       "</thead>\n",
       "<tbody>\n",
       "\t<tr><td>ENSG00000228229</td><td>     </td><td>1</td><td>lincRNA       </td><td>0.00000</td><td>0.00000</td><td>0.000000</td><td>0.00000</td><td>0.00000</td><td>0.00000</td><td>⋯</td><td>0.000000</td><td>0.00000</td><td>0.00000</td><td>0</td><td>0.00000</td><td>0.00000</td><td>0.00000</td><td>0.00000</td><td>ENSG00000228229.2</td><td>RP11-219C24.10</td></tr>\n",
       "\t<tr><td>ENSG00000237445</td><td>     </td><td>1</td><td>lincRNA       </td><td>0.00000</td><td>0.00000</td><td>0.000000</td><td>0.00000</td><td>0.00000</td><td>0.00000</td><td>⋯</td><td>0.000000</td><td>0.00000</td><td>0.00000</td><td>0</td><td>0.00000</td><td>0.00000</td><td>0.00000</td><td>0.00000</td><td>ENSG00000237445.2</td><td>CTA-520D8.2   </td></tr>\n",
       "\t<tr><td>ENSG00000231606</td><td>     </td><td>1</td><td>lincRNA       </td><td>0.12820</td><td>0.00000</td><td>0.162500</td><td>0.66450</td><td>0.13670</td><td>0.13410</td><td>⋯</td><td>0.000000</td><td>0.00000</td><td>0.00000</td><td>0</td><td>0.00000</td><td>0.29510</td><td>0.00000</td><td>0.46350</td><td>ENSG00000231606.1</td><td>RP11-344F13.1 </td></tr>\n",
       "\t<tr><td>ENSG00000234593</td><td>     </td><td>1</td><td>lincRNA       </td><td>0.00000</td><td>0.02306</td><td>0.000000</td><td>0.00000</td><td>0.00000</td><td>0.04950</td><td>⋯</td><td>0.000000</td><td>0.00000</td><td>0.00000</td><td>0</td><td>0.03506</td><td>0.00000</td><td>0.00000</td><td>0.08555</td><td>ENSG00000234593.2</td><td>RP4-704D23.1  </td></tr>\n",
       "\t<tr><td>ENSG00000228140</td><td>     </td><td>1</td><td>lincRNA       </td><td>0.02095</td><td>0.07485</td><td>0.008849</td><td>0.01448</td><td>0.01489</td><td>0.02921</td><td>⋯</td><td>0.004887</td><td>0.07335</td><td>0.01502</td><td>0</td><td>0.12930</td><td>0.03214</td><td>0.02472</td><td>0.02524</td><td>ENSG00000228140.1</td><td>RP3-467K16.4  </td></tr>\n",
       "\t<tr><td>ENSG00000186092</td><td>OR4F5</td><td>1</td><td>protein_coding</td><td>0.03939</td><td>0.13430</td><td>0.000000</td><td>0.00000</td><td>0.00000</td><td>0.08239</td><td>⋯</td><td>0.027560</td><td>0.11030</td><td>0.08474</td><td>0</td><td>0.11670</td><td>0.09065</td><td>0.10460</td><td>0.14240</td><td>ENSG00000186092.4</td><td>OR4F5         </td></tr>\n",
       "</tbody>\n",
       "</table>\n"
      ],
      "text/latex": [
       "A data.frame: 6 × 91\n",
       "\\begin{tabular}{r|lllllllllllllllllllllllllllllllllllllllllllllllllllllllllllllllllllllllllllllllllllllllllll}\n",
       " ensembl\\_gene\\_id & hgnc\\_symbol & chromosome\\_name & transcript\\_biotype & GTEX-11GS4-2326-SM-5A5KS & GTEX-11OF3-1326-SM-5N9FJ & GTEX-11TTK-1926-SM-5PNW8 & GTEX-12696-0926-SM-5FQTV & GTEX-12WSG-0826-SM-5EQ5A & GTEX-13112-2126-SM-5GCO4 & GTEX-1399S-0526-SM-5IJG8 & GTEX-13NYB-1726-SM-5N9G2 & GTEX-13O1R-2526-SM-5N9FW & GTEX-13OVI-1126-SM-5KLZF & GTEX-13OVL-1826-SM-5KLZR & GTEX-13OW6-1826-SM-5N9F9 & GTEX-13RTJ-2226-SM-5S2Q1 & GTEX-145MN-0326-SM-5QGQI & GTEX-147F4-2626-SM-5Q5CS & GTEX-1497J-0826-SM-5NQAJ & GTEX-14C39-2126-SM-664OH & GTEX-14C5O-2026-SM-5YYB1 & GTEX-14E6D-2526-SM-5YYA9 & GTEX-15CHQ-2126-SM-6871M & GTEX-15DYW-2026-SM-6AJBD & GTEX-16MT8-1926-SM-7EPGL & GTEX-17F96-1926-SM-7MGWY & GTEX-17F97-1926-SM-7IGM4 & GTEX-17HHY-2326-SM-7KFSR & GTEX-1A3MW-2226-SM-73KUX & GTEX-1A8FM-2026-SM-7P8RN & GTEX-1AX8Z-2326-SM-731CR & GTEX-1BAJH-1826-SM-731DA & GTEX-1C6VQ-2326-SM-7IGN1 & GTEX-1CB4J-1926-SM-7MGX8 & GTEX-1E2YA-1626-SM-7MGXS & GTEX-1EKGG-2226-SM-7IGOA & GTEX-1F48J-2226-SM-7MXTN & GTEX-1GF9V-1926-SM-9JGHE & GTEX-1GF9W-1326-SM-7P8PX & GTEX-1GMR3-2426-SM-7MXV2 & GTEX-1GN1U-2126-SM-AHZ4J & GTEX-1GTWX-1826-SM-9QEHG & GTEX-1H3NZ-2126-SM-9WPQ6 & GTEX-1H3VY-1926-SM-9JGHJ & GTEX-1HB9E-1826-SM-D4P33 & GTEX-1HBPI-2026-SM-CE6RZ & GTEX-1HCU7-1826-SM-A9G2A & GTEX-1I1GP-1926-SM-CNNQU & GTEX-1IKK5-0926-SM-A9G2U & GTEX-1IL2V-1826-SM-ARU7R & GTEX-1J1OQ-1426-SM-AHZ3P & GTEX-1JJ6O-2526-SM-AHZ3J & GTEX-1JMLX-1526-SM-AHZ3N & GTEX-1JMPZ-1226-SM-ARU8Y & GTEX-1JMQJ-1726-SM-E9U4V & GTEX-1JMQK-1926-SM-CJI3B & GTEX-1K9T9-1826-SM-CXZK2 & GTEX-1KWVE-0826-SM-CXZKO & GTEX-1LG7Y-2726-SM-D5OVW & GTEX-1MUQO-2526-SM-E9TJN & GTEX-1N2DW-1826-SM-EAZ54 & GTEX-1N2EF-1426-SM-EXUSH & GTEX-1NV8Z-2226-SM-EXOJ2 & GTEX-1OJC4-2326-SM-DTXA5 & GTEX-1PWST-2226-SM-EVR3G & GTEX-1QP6S-1526-SM-EXUSG & GTEX-1R9PO-1626-SM-E6CPT & GTEX-NPJ8-2226-SM-3TW8D & GTEX-O5YV-1226-SM-EV795 & GTEX-P4QS-1126-SM-3NMD5 & GTEX-QDT8-1726-SM-EYYV6 & GTEX-QDVN-1626-SM-48TZC & GTEX-QLQW-1626-SM-CMKFE & GTEX-REY6-1826-SM-EAZAT & GTEX-RN64-1626-SM-48FD7 & GTEX-S33H-1426-SM-EZ6L7 & GTEX-T5JC-1526-SM-4DM68 & GTEX-T6MN-1826-SM-EXOHN & GTEX-XPVG-0526-SM-4B65N & GTEX-Y5V5-1226-SM-EYYVP & GTEX-Y5V6-2026-SM-5IFHO & GTEX-ZC5H-1726-SM-5HL7X & GTEX-ZDXO-0226-SM-4WKH7 & GTEX-ZE9C-1426-SM-4WKGM & GTEX-ZLFU-0926-SM-5P9F8 & GTEX-ZVZP-0926-SM-5GIDB & GTEX-ZYFG-1626-SM-5GZYY & GTEX-ZYT6-2226-SM-5GIC9 & Name & Description\\\\\n",
       " <chr> & <chr> & <chr> & <chr> & <dbl> & <dbl> & <dbl> & <dbl> & <dbl> & <dbl> & <dbl> & <dbl> & <dbl> & <dbl> & <dbl> & <dbl> & <dbl> & <dbl> & <dbl> & <dbl> & <dbl> & <dbl> & <dbl> & <dbl> & <dbl> & <dbl> & <dbl> & <dbl> & <dbl> & <dbl> & <dbl> & <dbl> & <dbl> & <dbl> & <dbl> & <dbl> & <dbl> & <dbl> & <dbl> & <dbl> & <dbl> & <dbl> & <dbl> & <dbl> & <dbl> & <dbl> & <dbl> & <dbl> & <dbl> & <dbl> & <dbl> & <dbl> & <dbl> & <dbl> & <dbl> & <dbl> & <dbl> & <dbl> & <dbl> & <dbl> & <dbl> & <dbl> & <dbl> & <dbl> & <dbl> & <dbl> & <dbl> & <dbl> & <dbl> & <dbl> & <dbl> & <dbl> & <dbl> & <dbl> & <dbl> & <dbl> & <dbl> & <dbl> & <dbl> & <dbl> & <dbl> & <dbl> & <dbl> & <dbl> & <dbl> & <dbl> & <dbl> & <dbl> & <dbl> & <chr> & <chr>\\\\\n",
       "\\hline\n",
       "\t ENSG00000228229 &       & 1 & lincRNA        & 0.00000 & 0.00000 & 0.000000 & 0.00000 & 0.00000 & 0.00000 & 0.00000 & 0.00000 & 0.0000 & 0.00000 & 0.00000 & 0.00000 & 0.00000 & 0.00000 & 0.00000 & 0.00000 & 0.000000 & 0.00000 & 0.00000 & 0.00000 & 0.00000 & 0.00000 & 0.00000 & 0.00000 & 0.00000 & 0.00000 & 0.00000 & 0.00000 & 0.00000 & 0.00000 & 0.00000 & 0.0000 & 0.00000 & 0.0000 & 0.00000 & 0.00000 & 0.00000 & 0.000000 & 0.00000 & 0.00000 & 0.00000 & 0.00000 & 0.0000 & 0.00000 & 0.00000 & 0.00000 & 0.00000 & 0.00000 & 0.000000 & 0.00000 & 0.0000 & 0.00000 & 0.00000 & 0.00000 & 0.00000 & 0.00000 & 0.00000 & 0.00000 & 0.0000 & 0.0000 & 0.00000 & 0.00000 & 0.00000 & 0.00000 & 0.00000 & 0.00000 & 0.0000 & 0.0000 & 0.000000 & 0.00000 & 0.00000 & 0.14140 & 0.00000 & 0.00000 & 0.00000 & 0.00000 & 0.00000 & 0.000000 & 0.00000 & 0.00000 & 0 & 0.00000 & 0.00000 & 0.00000 & 0.00000 & ENSG00000228229.2 & RP11-219C24.10\\\\\n",
       "\t ENSG00000237445 &       & 1 & lincRNA        & 0.00000 & 0.00000 & 0.000000 & 0.00000 & 0.00000 & 0.00000 & 0.07456 & 0.00000 & 0.0000 & 0.00000 & 0.07239 & 0.00000 & 0.00000 & 0.00000 & 0.00000 & 0.00000 & 0.000000 & 0.00000 & 0.00000 & 0.00000 & 0.00000 & 0.00000 & 0.00000 & 0.00000 & 0.00000 & 0.00000 & 0.00000 & 0.00000 & 0.00000 & 0.00000 & 0.00000 & 0.0000 & 0.00000 & 0.0000 & 0.00000 & 0.00000 & 0.08450 & 0.000000 & 0.00000 & 0.00000 & 0.00000 & 0.00000 & 0.0000 & 0.00000 & 0.00000 & 0.00000 & 0.00000 & 0.00000 & 0.000000 & 0.00000 & 0.0000 & 0.08965 & 0.00000 & 0.00000 & 0.00000 & 0.04380 & 0.00000 & 0.00000 & 0.0000 & 0.0000 & 0.00000 & 0.08084 & 0.00000 & 0.00000 & 0.00000 & 0.00000 & 0.0000 & 0.0000 & 0.000000 & 0.00000 & 0.00000 & 0.00000 & 0.00000 & 0.06950 & 0.07295 & 0.00000 & 0.00000 & 0.000000 & 0.00000 & 0.00000 & 0 & 0.00000 & 0.00000 & 0.00000 & 0.00000 & ENSG00000237445.2 & CTA-520D8.2   \\\\\n",
       "\t ENSG00000231606 &       & 1 & lincRNA        & 0.12820 & 0.00000 & 0.162500 & 0.66450 & 0.13670 & 0.13410 & 0.00000 & 0.00000 & 0.1477 & 0.25500 & 0.09729 & 0.00000 & 0.30440 & 0.17640 & 0.11960 & 0.00000 & 0.073660 & 0.00000 & 0.00000 & 0.00000 & 0.08597 & 0.00000 & 0.00000 & 0.19930 & 0.00000 & 0.00000 & 0.00000 & 0.41430 & 0.00000 & 0.00000 & 1.09300 & 0.0000 & 0.00000 & 0.0000 & 0.11470 & 0.00000 & 0.00000 & 0.000000 & 0.09394 & 0.00000 & 0.00000 & 0.09951 & 0.1768 & 0.07681 & 0.00000 & 0.00000 & 0.00000 & 0.00000 & 0.000000 & 0.00000 & 0.0000 & 0.00000 & 0.09991 & 0.00000 & 0.16360 & 0.00000 & 0.17040 & 0.00000 & 0.2264 & 0.0000 & 0.14210 & 0.43460 & 0.00000 & 0.42620 & 0.25000 & 0.00000 & 0.1175 & 0.6758 & 0.000000 & 0.00000 & 0.09874 & 0.38510 & 0.11710 & 0.09340 & 0.00000 & 0.00000 & 0.00000 & 0.000000 & 0.00000 & 0.00000 & 0 & 0.00000 & 0.29510 & 0.00000 & 0.46350 & ENSG00000231606.1 & RP11-344F13.1 \\\\\n",
       "\t ENSG00000234593 &       & 1 & lincRNA        & 0.00000 & 0.02306 & 0.000000 & 0.00000 & 0.00000 & 0.04950 & 0.00000 & 0.00000 & 0.0000 & 0.04705 & 0.00000 & 0.00000 & 0.00000 & 0.00000 & 0.04416 & 0.04363 & 0.000000 & 0.00000 & 0.00000 & 0.00000 & 0.00000 & 0.00000 & 0.00000 & 0.00000 & 0.00000 & 0.00000 & 0.00000 & 0.00000 & 0.05169 & 0.00000 & 0.00000 & 0.0000 & 0.00000 & 0.0000 & 0.00000 & 0.00000 & 0.00000 & 0.000000 & 0.00000 & 0.00000 & 0.00000 & 0.00000 & 0.0000 & 0.00000 & 0.00000 & 0.00000 & 0.02827 & 0.00000 & 0.000000 & 0.04168 & 0.0000 & 0.00000 & 0.00000 & 0.00000 & 0.00000 & 0.00000 & 0.06290 & 0.00000 & 0.0000 & 0.0000 & 0.00000 & 0.04010 & 0.00000 & 0.00000 & 0.06922 & 0.00000 & 0.0000 & 0.0000 & 0.000000 & 0.00000 & 0.00000 & 0.00000 & 0.00000 & 0.00000 & 0.00000 & 0.00000 & 0.00000 & 0.000000 & 0.00000 & 0.00000 & 0 & 0.03506 & 0.00000 & 0.00000 & 0.08555 & ENSG00000234593.2 & RP4-704D23.1  \\\\\n",
       "\t ENSG00000228140 &       & 1 & lincRNA        & 0.02095 & 0.07485 & 0.008849 & 0.01448 & 0.01489 & 0.02921 & 0.02183 & 0.03517 & 0.0000 & 0.09720 & 0.04239 & 0.03299 & 0.04973 & 0.01922 & 0.03909 & 0.06438 & 0.008023 & 0.03048 & 0.07271 & 0.01017 & 0.09364 & 0.07137 & 0.02756 & 0.03257 & 0.06297 & 0.03919 & 0.01643 & 0.03385 & 0.02288 & 0.01525 & 0.02645 & 0.0317 & 0.00000 & 0.0564 & 0.02968 & 0.05648 & 0.03711 & 0.003499 & 0.01023 & 0.06241 & 0.04921 & 0.04335 & 0.1059 & 0.01673 & 0.03631 & 0.04514 & 0.11260 & 0.02108 & 0.002954 & 0.06149 & 0.1046 & 0.07218 & 0.00000 & 0.01533 & 0.04900 & 0.01282 & 0.01856 & 0.00000 & 0.1171 & 0.0219 & 0.01548 & 0.00000 & 0.03613 & 0.09285 & 0.01702 & 0.01771 & 0.0128 & 0.1656 & 0.005267 & 0.04032 & 0.02151 & 0.01049 & 0.03188 & 0.03052 & 0.12810 & 0.04615 & 0.02132 & 0.004887 & 0.07335 & 0.01502 & 0 & 0.12930 & 0.03214 & 0.02472 & 0.02524 & ENSG00000228140.1 & RP3-467K16.4  \\\\\n",
       "\t ENSG00000186092 & OR4F5 & 1 & protein\\_coding & 0.03939 & 0.13430 & 0.000000 & 0.00000 & 0.00000 & 0.08239 & 0.33860 & 0.08503 & 0.1361 & 0.15660 & 0.05977 & 0.37210 & 0.00000 & 0.10840 & 0.07350 & 0.03631 & 0.113100 & 0.13370 & 0.18460 & 0.00000 & 0.00000 & 0.05032 & 0.12440 & 0.39800 & 0.14210 & 0.13260 & 1.88400 & 0.06364 & 0.08604 & 1.59100 & 0.00000 & 0.2384 & 0.07629 & 0.2499 & 0.03524 & 0.09955 & 0.45350 & 0.059210 & 0.05771 & 0.08800 & 0.03701 & 0.06113 & 0.0543 & 0.18880 & 0.11030 & 0.08487 & 0.00000 & 0.00000 & 0.200000 & 0.13870 & 0.0000 & 0.00000 & 0.03069 & 0.04323 & 0.02512 & 0.16280 & 0.00000 & 0.03025 & 0.1043 & 0.0000 & 0.00000 & 0.00000 & 0.03397 & 0.04365 & 0.09601 & 0.09987 & 0.1264 & 0.1038 & 0.059420 & 0.03791 & 0.03033 & 0.05914 & 0.03596 & 0.11480 & 0.06023 & 0.08677 & 0.04811 & 0.027560 & 0.11030 & 0.08474 & 0 & 0.11670 & 0.09065 & 0.10460 & 0.14240 & ENSG00000186092.4 & OR4F5         \\\\\n",
       "\\end{tabular}\n"
      ],
      "text/markdown": [
       "\n",
       "A data.frame: 6 × 91\n",
       "\n",
       "| ensembl_gene_id &lt;chr&gt; | hgnc_symbol &lt;chr&gt; | chromosome_name &lt;chr&gt; | transcript_biotype &lt;chr&gt; | GTEX-11GS4-2326-SM-5A5KS &lt;dbl&gt; | GTEX-11OF3-1326-SM-5N9FJ &lt;dbl&gt; | GTEX-11TTK-1926-SM-5PNW8 &lt;dbl&gt; | GTEX-12696-0926-SM-5FQTV &lt;dbl&gt; | GTEX-12WSG-0826-SM-5EQ5A &lt;dbl&gt; | GTEX-13112-2126-SM-5GCO4 &lt;dbl&gt; | ⋯ ⋯ | GTEX-Y5V6-2026-SM-5IFHO &lt;dbl&gt; | GTEX-ZC5H-1726-SM-5HL7X &lt;dbl&gt; | GTEX-ZDXO-0226-SM-4WKH7 &lt;dbl&gt; | GTEX-ZE9C-1426-SM-4WKGM &lt;dbl&gt; | GTEX-ZLFU-0926-SM-5P9F8 &lt;dbl&gt; | GTEX-ZVZP-0926-SM-5GIDB &lt;dbl&gt; | GTEX-ZYFG-1626-SM-5GZYY &lt;dbl&gt; | GTEX-ZYT6-2226-SM-5GIC9 &lt;dbl&gt; | Name &lt;chr&gt; | Description &lt;chr&gt; |\n",
       "|---|---|---|---|---|---|---|---|---|---|---|---|---|---|---|---|---|---|---|---|---|\n",
       "| ENSG00000228229 | <!----> | 1 | lincRNA        | 0.00000 | 0.00000 | 0.000000 | 0.00000 | 0.00000 | 0.00000 | ⋯ | 0.000000 | 0.00000 | 0.00000 | 0 | 0.00000 | 0.00000 | 0.00000 | 0.00000 | ENSG00000228229.2 | RP11-219C24.10 |\n",
       "| ENSG00000237445 | <!----> | 1 | lincRNA        | 0.00000 | 0.00000 | 0.000000 | 0.00000 | 0.00000 | 0.00000 | ⋯ | 0.000000 | 0.00000 | 0.00000 | 0 | 0.00000 | 0.00000 | 0.00000 | 0.00000 | ENSG00000237445.2 | CTA-520D8.2    |\n",
       "| ENSG00000231606 | <!----> | 1 | lincRNA        | 0.12820 | 0.00000 | 0.162500 | 0.66450 | 0.13670 | 0.13410 | ⋯ | 0.000000 | 0.00000 | 0.00000 | 0 | 0.00000 | 0.29510 | 0.00000 | 0.46350 | ENSG00000231606.1 | RP11-344F13.1  |\n",
       "| ENSG00000234593 | <!----> | 1 | lincRNA        | 0.00000 | 0.02306 | 0.000000 | 0.00000 | 0.00000 | 0.04950 | ⋯ | 0.000000 | 0.00000 | 0.00000 | 0 | 0.03506 | 0.00000 | 0.00000 | 0.08555 | ENSG00000234593.2 | RP4-704D23.1   |\n",
       "| ENSG00000228140 | <!----> | 1 | lincRNA        | 0.02095 | 0.07485 | 0.008849 | 0.01448 | 0.01489 | 0.02921 | ⋯ | 0.004887 | 0.07335 | 0.01502 | 0 | 0.12930 | 0.03214 | 0.02472 | 0.02524 | ENSG00000228140.1 | RP3-467K16.4   |\n",
       "| ENSG00000186092 | OR4F5 | 1 | protein_coding | 0.03939 | 0.13430 | 0.000000 | 0.00000 | 0.00000 | 0.08239 | ⋯ | 0.027560 | 0.11030 | 0.08474 | 0 | 0.11670 | 0.09065 | 0.10460 | 0.14240 | ENSG00000186092.4 | OR4F5          |\n",
       "\n"
      ],
      "text/plain": [
       "  ensembl_gene_id hgnc_symbol chromosome_name transcript_biotype\n",
       "1 ENSG00000228229             1               lincRNA           \n",
       "2 ENSG00000237445             1               lincRNA           \n",
       "3 ENSG00000231606             1               lincRNA           \n",
       "4 ENSG00000234593             1               lincRNA           \n",
       "5 ENSG00000228140             1               lincRNA           \n",
       "6 ENSG00000186092 OR4F5       1               protein_coding    \n",
       "  GTEX-11GS4-2326-SM-5A5KS GTEX-11OF3-1326-SM-5N9FJ GTEX-11TTK-1926-SM-5PNW8\n",
       "1 0.00000                  0.00000                  0.000000                \n",
       "2 0.00000                  0.00000                  0.000000                \n",
       "3 0.12820                  0.00000                  0.162500                \n",
       "4 0.00000                  0.02306                  0.000000                \n",
       "5 0.02095                  0.07485                  0.008849                \n",
       "6 0.03939                  0.13430                  0.000000                \n",
       "  GTEX-12696-0926-SM-5FQTV GTEX-12WSG-0826-SM-5EQ5A GTEX-13112-2126-SM-5GCO4 ⋯\n",
       "1 0.00000                  0.00000                  0.00000                  ⋯\n",
       "2 0.00000                  0.00000                  0.00000                  ⋯\n",
       "3 0.66450                  0.13670                  0.13410                  ⋯\n",
       "4 0.00000                  0.00000                  0.04950                  ⋯\n",
       "5 0.01448                  0.01489                  0.02921                  ⋯\n",
       "6 0.00000                  0.00000                  0.08239                  ⋯\n",
       "  GTEX-Y5V6-2026-SM-5IFHO GTEX-ZC5H-1726-SM-5HL7X GTEX-ZDXO-0226-SM-4WKH7\n",
       "1 0.000000                0.00000                 0.00000                \n",
       "2 0.000000                0.00000                 0.00000                \n",
       "3 0.000000                0.00000                 0.00000                \n",
       "4 0.000000                0.00000                 0.00000                \n",
       "5 0.004887                0.07335                 0.01502                \n",
       "6 0.027560                0.11030                 0.08474                \n",
       "  GTEX-ZE9C-1426-SM-4WKGM GTEX-ZLFU-0926-SM-5P9F8 GTEX-ZVZP-0926-SM-5GIDB\n",
       "1 0                       0.00000                 0.00000                \n",
       "2 0                       0.00000                 0.00000                \n",
       "3 0                       0.00000                 0.29510                \n",
       "4 0                       0.03506                 0.00000                \n",
       "5 0                       0.12930                 0.03214                \n",
       "6 0                       0.11670                 0.09065                \n",
       "  GTEX-ZYFG-1626-SM-5GZYY GTEX-ZYT6-2226-SM-5GIC9 Name             \n",
       "1 0.00000                 0.00000                 ENSG00000228229.2\n",
       "2 0.00000                 0.00000                 ENSG00000237445.2\n",
       "3 0.00000                 0.46350                 ENSG00000231606.1\n",
       "4 0.00000                 0.08555                 ENSG00000234593.2\n",
       "5 0.02472                 0.02524                 ENSG00000228140.1\n",
       "6 0.10460                 0.14240                 ENSG00000186092.4\n",
       "  Description   \n",
       "1 RP11-219C24.10\n",
       "2 CTA-520D8.2   \n",
       "3 RP11-344F13.1 \n",
       "4 RP4-704D23.1  \n",
       "5 RP3-467K16.4  \n",
       "6 OR4F5         "
      ]
     },
     "metadata": {},
     "output_type": "display_data"
    }
   ],
   "source": [
    "head(expression_list_target[[tissue]])"
   ]
  },
  {
   "cell_type": "code",
   "execution_count": 170,
   "metadata": {},
   "outputs": [
    {
     "data": {
      "text/html": [
       "Whole_Blood"
      ]
     },
     "metadata": {},
     "output_type": "display_data"
    },
    {
     "data": {
      "text/html": [
       "Brain_Frontal_Cortex_BA9"
      ]
     },
     "metadata": {},
     "output_type": "display_data"
    },
    {
     "data": {
      "text/html": [
       "Adipose_Subcutaneous"
      ]
     },
     "metadata": {},
     "output_type": "display_data"
    },
    {
     "data": {
      "text/html": [
       "Muscle_Skeletal"
      ]
     },
     "metadata": {},
     "output_type": "display_data"
    },
    {
     "data": {
      "text/html": [
       "Artery_Tibial"
      ]
     },
     "metadata": {},
     "output_type": "display_data"
    },
    {
     "data": {
      "text/html": [
       "Artery_Coronary"
      ]
     },
     "metadata": {},
     "output_type": "display_data"
    },
    {
     "data": {
      "text/html": [
       "Heart_Atrial_Appendage"
      ]
     },
     "metadata": {},
     "output_type": "display_data"
    },
    {
     "data": {
      "text/html": [
       "Adipose_Visceral_Omentum"
      ]
     },
     "metadata": {},
     "output_type": "display_data"
    },
    {
     "data": {
      "text/html": [
       "Ovary"
      ]
     },
     "metadata": {},
     "output_type": "display_data"
    },
    {
     "data": {
      "text/html": [
       "Uterus"
      ]
     },
     "metadata": {},
     "output_type": "display_data"
    },
    {
     "data": {
      "text/html": [
       "Vagina"
      ]
     },
     "metadata": {},
     "output_type": "display_data"
    },
    {
     "data": {
      "text/html": [
       "Breast_Mammary_Tissue"
      ]
     },
     "metadata": {},
     "output_type": "display_data"
    },
    {
     "data": {
      "text/html": [
       "Skin_Not_Sun_Exposed_Suprapubic"
      ]
     },
     "metadata": {},
     "output_type": "display_data"
    },
    {
     "data": {
      "text/html": [
       "Minor_Salivary_Gland"
      ]
     },
     "metadata": {},
     "output_type": "display_data"
    },
    {
     "data": {
      "text/html": [
       "Brain_Cortex"
      ]
     },
     "metadata": {},
     "output_type": "display_data"
    },
    {
     "data": {
      "text/html": [
       "Adrenal_Gland"
      ]
     },
     "metadata": {},
     "output_type": "display_data"
    },
    {
     "data": {
      "text/html": [
       "Thyroid"
      ]
     },
     "metadata": {},
     "output_type": "display_data"
    },
    {
     "data": {
      "text/html": [
       "Lung"
      ]
     },
     "metadata": {},
     "output_type": "display_data"
    },
    {
     "data": {
      "text/html": [
       "Spleen"
      ]
     },
     "metadata": {},
     "output_type": "display_data"
    },
    {
     "data": {
      "text/html": [
       "Pancreas"
      ]
     },
     "metadata": {},
     "output_type": "display_data"
    },
    {
     "data": {
      "text/html": [
       "Esophagus_Muscularis"
      ]
     },
     "metadata": {},
     "output_type": "display_data"
    },
    {
     "data": {
      "text/html": [
       "Esophagus_Mucosa"
      ]
     },
     "metadata": {},
     "output_type": "display_data"
    },
    {
     "data": {
      "text/html": [
       "Esophagus_Gastroesophageal_Junction"
      ]
     },
     "metadata": {},
     "output_type": "display_data"
    },
    {
     "data": {
      "text/html": [
       "Stomach"
      ]
     },
     "metadata": {},
     "output_type": "display_data"
    },
    {
     "data": {
      "text/html": [
       "Colon_Sigmoid"
      ]
     },
     "metadata": {},
     "output_type": "display_data"
    },
    {
     "data": {
      "text/html": [
       "Small_Intestine_Terminal_Ileum"
      ]
     },
     "metadata": {},
     "output_type": "display_data"
    },
    {
     "data": {
      "text/html": [
       "Colon_Transverse"
      ]
     },
     "metadata": {},
     "output_type": "display_data"
    },
    {
     "data": {
      "text/html": [
       "Prostate"
      ]
     },
     "metadata": {},
     "output_type": "display_data"
    },
    {
     "data": {
      "text/html": [
       "Testis"
      ]
     },
     "metadata": {},
     "output_type": "display_data"
    },
    {
     "data": {
      "text/html": [
       "Skin_Sun_Exposed_Lower_leg"
      ]
     },
     "metadata": {},
     "output_type": "display_data"
    },
    {
     "data": {
      "text/html": [
       "Nerve_Tibial"
      ]
     },
     "metadata": {},
     "output_type": "display_data"
    },
    {
     "data": {
      "text/html": [
       "Heart_Left_Ventricle"
      ]
     },
     "metadata": {},
     "output_type": "display_data"
    },
    {
     "data": {
      "text/html": [
       "Pituitary"
      ]
     },
     "metadata": {},
     "output_type": "display_data"
    },
    {
     "data": {
      "text/html": [
       "Brain_Cerebellum"
      ]
     },
     "metadata": {},
     "output_type": "display_data"
    },
    {
     "data": {
      "text/html": [
       "Cells_Cultured_fibroblasts"
      ]
     },
     "metadata": {},
     "output_type": "display_data"
    },
    {
     "data": {
      "text/html": [
       "Artery_Aorta"
      ]
     },
     "metadata": {},
     "output_type": "display_data"
    },
    {
     "data": {
      "text/html": [
       "Cells_EBV-transformed_lymphocytes"
      ]
     },
     "metadata": {},
     "output_type": "display_data"
    },
    {
     "data": {
      "text/html": [
       "Brain_Cerebellar_Hemisphere"
      ]
     },
     "metadata": {},
     "output_type": "display_data"
    },
    {
     "data": {
      "text/html": [
       "Brain_Caudate_basal_ganglia"
      ]
     },
     "metadata": {},
     "output_type": "display_data"
    },
    {
     "data": {
      "text/html": [
       "Brain_Nucleus_accumbens_basal_ganglia"
      ]
     },
     "metadata": {},
     "output_type": "display_data"
    },
    {
     "data": {
      "text/html": [
       "Brain_Putamen_basal_ganglia"
      ]
     },
     "metadata": {},
     "output_type": "display_data"
    },
    {
     "data": {
      "text/html": [
       "Brain_Hypothalamus"
      ]
     },
     "metadata": {},
     "output_type": "display_data"
    },
    {
     "data": {
      "text/html": [
       "Brain_Spinal_cord_cervical_c-1"
      ]
     },
     "metadata": {},
     "output_type": "display_data"
    },
    {
     "data": {
      "text/html": [
       "Liver"
      ]
     },
     "metadata": {},
     "output_type": "display_data"
    },
    {
     "data": {
      "text/html": [
       "Brain_Hippocampus"
      ]
     },
     "metadata": {},
     "output_type": "display_data"
    },
    {
     "data": {
      "text/html": [
       "Brain_Anterior_cingulate_cortex_BA24"
      ]
     },
     "metadata": {},
     "output_type": "display_data"
    },
    {
     "data": {
      "text/html": [
       "Brain_Substantia_nigra"
      ]
     },
     "metadata": {},
     "output_type": "display_data"
    },
    {
     "data": {
      "text/html": [
       "Kidney_Cortex"
      ]
     },
     "metadata": {},
     "output_type": "display_data"
    },
    {
     "data": {
      "text/html": [
       "Brain_Amygdala"
      ]
     },
     "metadata": {},
     "output_type": "display_data"
    },
    {
     "data": {
      "text/html": [
       "Cervix_Ectocervix"
      ]
     },
     "metadata": {},
     "output_type": "display_data"
    },
    {
     "data": {
      "text/html": [
       "Fallopian_Tube"
      ]
     },
     "metadata": {},
     "output_type": "display_data"
    },
    {
     "data": {
      "text/html": [
       "Cervix_Endocervix"
      ]
     },
     "metadata": {},
     "output_type": "display_data"
    },
    {
     "data": {
      "text/html": [
       "Bladder"
      ]
     },
     "metadata": {},
     "output_type": "display_data"
    },
    {
     "data": {
      "text/html": [
       "Kidney_Medulla"
      ]
     },
     "metadata": {},
     "output_type": "display_data"
    },
    {
     "data": {
      "text/html": [
       "Cells_Leukemia_cell_line_CML"
      ]
     },
     "metadata": {},
     "output_type": "display_data"
    }
   ],
   "source": [
    "# function to filter the target gene\n",
    "expression_list_target <- expression_list\n",
    "for (tissue in tissue_vec_clean) {\n",
    "    IRdisplay::display_html(tissue)\n",
    "    expression_list_target[[tissue]] <-  gene_info_target %>% \n",
    "        left_join(expression_list[[tissue]], by = c(\"ensembl_gene_id\" = \"NameClean\"))\n",
    "}"
   ]
  },
  {
   "cell_type": "code",
   "execution_count": 169,
   "metadata": {},
   "outputs": [
    {
     "data": {
      "text/html": [
       "<table>\n",
       "<caption>A data.frame: 6 × 761</caption>\n",
       "<thead>\n",
       "\t<tr><th scope=col>ensembl_gene_id</th><th scope=col>hgnc_symbol</th><th scope=col>chromosome_name</th><th scope=col>transcript_biotype</th><th scope=col>GTEX-111YS-0006-SM-5NQBE</th><th scope=col>GTEX-1122O-0005-SM-5O99J</th><th scope=col>GTEX-1128S-0005-SM-5P9HI</th><th scope=col>GTEX-113IC-0006-SM-5NQ9C</th><th scope=col>GTEX-113JC-0006-SM-5O997</th><th scope=col>GTEX-117XS-0005-SM-5PNU6</th><th scope=col>⋯</th><th scope=col>GTEX-ZVT2-0005-SM-57WBW</th><th scope=col>GTEX-ZVT3-0006-SM-51MT9</th><th scope=col>GTEX-ZVT4-0006-SM-57WB8</th><th scope=col>GTEX-ZVTK-0006-SM-57WBK</th><th scope=col>GTEX-ZVZP-0006-SM-51MSW</th><th scope=col>GTEX-ZVZQ-0006-SM-51MR8</th><th scope=col>GTEX-ZXES-0005-SM-57WCB</th><th scope=col>GTEX-ZXG5-0005-SM-57WCN</th><th scope=col>Name</th><th scope=col>Description</th></tr>\n",
       "\t<tr><th scope=col>&lt;chr&gt;</th><th scope=col>&lt;chr&gt;</th><th scope=col>&lt;chr&gt;</th><th scope=col>&lt;chr&gt;</th><th scope=col>&lt;dbl&gt;</th><th scope=col>&lt;dbl&gt;</th><th scope=col>&lt;dbl&gt;</th><th scope=col>&lt;dbl&gt;</th><th scope=col>&lt;dbl&gt;</th><th scope=col>&lt;dbl&gt;</th><th scope=col>⋯</th><th scope=col>&lt;dbl&gt;</th><th scope=col>&lt;dbl&gt;</th><th scope=col>&lt;dbl&gt;</th><th scope=col>&lt;dbl&gt;</th><th scope=col>&lt;dbl&gt;</th><th scope=col>&lt;dbl&gt;</th><th scope=col>&lt;dbl&gt;</th><th scope=col>&lt;dbl&gt;</th><th scope=col>&lt;chr&gt;</th><th scope=col>&lt;chr&gt;</th></tr>\n",
       "</thead>\n",
       "<tbody>\n",
       "\t<tr><td>ENSG00000228229</td><td>     </td><td>1</td><td>lincRNA       </td><td>0.0000</td><td>0.00000</td><td>0.000</td><td>0.000</td><td>0.0000</td><td>0.00000</td><td>⋯</td><td>0.00000</td><td>0.0000</td><td>0.0000</td><td>0.0000</td><td>0.00000</td><td>0.00000</td><td>0.00000</td><td>0.00000</td><td>ENSG00000228229.2</td><td>RP11-219C24.10</td></tr>\n",
       "\t<tr><td>ENSG00000237445</td><td>     </td><td>1</td><td>lincRNA       </td><td>0.0000</td><td>0.00000</td><td>0.000</td><td>0.000</td><td>0.0000</td><td>0.00000</td><td>⋯</td><td>0.00000</td><td>0.0000</td><td>0.0000</td><td>0.0000</td><td>0.00000</td><td>0.00000</td><td>0.00000</td><td>0.00000</td><td>ENSG00000237445.2</td><td>CTA-520D8.2   </td></tr>\n",
       "\t<tr><td>ENSG00000231606</td><td>     </td><td>1</td><td>lincRNA       </td><td>0.0000</td><td>0.00000</td><td>0.000</td><td>0.000</td><td>0.0000</td><td>0.00000</td><td>⋯</td><td>0.00000</td><td>0.0000</td><td>0.0000</td><td>0.0000</td><td>0.00000</td><td>0.00000</td><td>0.00000</td><td>0.00000</td><td>ENSG00000231606.1</td><td>RP11-344F13.1 </td></tr>\n",
       "\t<tr><td>ENSG00000234593</td><td>     </td><td>1</td><td>lincRNA       </td><td>0.0000</td><td>0.00000</td><td>0.000</td><td>0.000</td><td>0.0000</td><td>0.00000</td><td>⋯</td><td>0.00000</td><td>0.0000</td><td>0.0000</td><td>0.0000</td><td>0.00000</td><td>0.00000</td><td>0.00000</td><td>0.00000</td><td>ENSG00000234593.2</td><td>RP4-704D23.1  </td></tr>\n",
       "\t<tr><td>ENSG00000228140</td><td>     </td><td>1</td><td>lincRNA       </td><td>0.5148</td><td>1.62100</td><td>0.678</td><td>2.237</td><td>0.1405</td><td>0.05083</td><td>⋯</td><td>1.06500</td><td>0.3384</td><td>0.1622</td><td>0.1911</td><td>2.15500</td><td>0.28140</td><td>0.74600</td><td>0.62610</td><td>ENSG00000228140.1</td><td>RP3-467K16.4  </td></tr>\n",
       "\t<tr><td>ENSG00000186092</td><td>OR4F5</td><td>1</td><td>protein_coding</td><td>0.0000</td><td>0.05678</td><td>0.000</td><td>0.000</td><td>0.0000</td><td>0.00000</td><td>⋯</td><td>0.04884</td><td>0.0000</td><td>0.0000</td><td>0.0000</td><td>0.04552</td><td>0.03527</td><td>0.08015</td><td>0.04528</td><td>ENSG00000186092.4</td><td>OR4F5         </td></tr>\n",
       "</tbody>\n",
       "</table>\n"
      ],
      "text/latex": [
       "A data.frame: 6 × 761\n",
       "\\begin{tabular}{r|lllllllllllllllllllllllllllllllllllllllllllllllllllllllllllllllllllllllllllllllllllllllllllllllllllllllllllllllllllllllllllllllllllllllllllllllllllllllllllllllllllllllllllllllllllllllllllllllllllllllllllllllllllllllllllllllllllllllllllllllllllllllllllllllllllllllllllllllllllllllllllllllllllllllllllllllllllllllllllllllllllllllllllllllllllllllllllllllllllllllllllllllllllllllllllllllllllllllllllllllllllllllllllllllllllllllllllllllllllllllllllllllllllllllllllllllllllllllllllllllllllllllllllllllllllllllllllllllllllllllllllllllllllllllllllllllllllllllllllllllllllllllllllllllllllllllllllllllllllllllllllllllllllllllllllllllllllllllllllllllllllllllllllllllllllllllllllllllllllllllllllllllllllllllllllllllllllllllllllllllllllllllllllllllllllllllllllllllllllllllll}\n",
       " ensembl\\_gene\\_id & hgnc\\_symbol & chromosome\\_name & transcript\\_biotype & GTEX-111YS-0006-SM-5NQBE & GTEX-1122O-0005-SM-5O99J & GTEX-1128S-0005-SM-5P9HI & GTEX-113IC-0006-SM-5NQ9C & GTEX-113JC-0006-SM-5O997 & GTEX-117XS-0005-SM-5PNU6 & GTEX-117YW-0005-SM-5NQ8Z & GTEX-1192W-0005-SM-5NQBQ & GTEX-1192X-0005-SM-5NQC3 & GTEX-11DXW-0006-SM-5NQ7Y & GTEX-11DXX-0005-SM-5NQ8B & GTEX-11DXY-0006-SM-5NQ8N & GTEX-11DXZ-0006-SM-5LZZH & GTEX-11DYG-0006-SM-5NQB2 & GTEX-11EI6-0005-SM-5N9GN & GTEX-11EM3-0005-SM-5N9DK & GTEX-11EMC-0006-SM-5O9DN & GTEX-11EQ8-0006-SM-5P9HJ & GTEX-11EQ9-0006-SM-5LUB6 & GTEX-11GS4-0006-SM-5SI9M & GTEX-11GSO-0005-SM-5O9CA & GTEX-11GSP-0006-SM-5N9EL & GTEX-11I78-0005-SM-5N9GB & GTEX-11LCK-0005-SM-5O98U & GTEX-11NUK-0005-SM-5MR5F & GTEX-11NV4-0005-SM-5N9EX & GTEX-11O72-0006-SM-5O9DB & GTEX-11OC5-0006-SM-5N9FA & GTEX-11OF3-0006-SM-5O9CM & GTEX-11ONC-0005-SM-5O9CY & GTEX-11P7K-0006-SM-5N9FM & GTEX-11P81-0006-SM-5NQ7A & GTEX-11P82-0006-SM-5N9FY & GTEX-11PRG-0005-SM-5NQ6X & GTEX-11TT1-0005-SM-5NQ8Y & GTEX-11TTK-0005-SM-5O9BX & GTEX-11TUW-0006-SM-5LZW2 & GTEX-11UD2-0005-SM-5NQ9B & GTEX-11VI4-0006-SM-5N9D8 & GTEX-11WQC-0006-SM-5LZVP & GTEX-11WQK-0005-SM-5O9AV & GTEX-11XUK-0005-SM-5LU9F & GTEX-11ZTS-0005-SM-5NQ8A & GTEX-11ZTT-0006-SM-5N9FX & GTEX-11ZU8-0005-SM-5PNU5 & GTEX-11ZUS-0006-SM-5O9AJ & GTEX-11ZVC-0006-SM-5N9GA & GTEX-1211K-0006-SM-5MR53 & GTEX-12126-0006-SM-5O9B8 & GTEX-1212Z-0006-SM-5NQ8M & GTEX-12584-0005-SM-5N9GM & GTEX-12696-0005-SM-5LZYS & GTEX-1269C-0005-SM-5N9CJ & GTEX-12BJ1-0006-SM-5SIB5 & GTEX-12C56-0006-SM-5N9E9 & GTEX-12KS4-0005-SM-5SI94 & GTEX-12WSC-0005-SM-5MR3H & GTEX-12WSD-0005-SM-5N9FZ & GTEX-12WSE-0005-SM-5NQAE & GTEX-12WSF-0005-SM-5NQAQ & GTEX-12WSG-0005-SM-5NQA2 & GTEX-12WSH-0005-SM-5NQ9P & GTEX-12WSI-0005-SM-5O99K & GTEX-12WSJ-0005-SM-5LU8S & GTEX-12WSK-0006-SM-5NQA1 & GTEX-12WSL-0005-SM-5NQAD & GTEX-12WSM-0005-SM-5NQB3 & GTEX-12WSN-0006-SM-5NQAP & GTEX-12ZZW-0005-SM-5O9BY & GTEX-12ZZX-0005-SM-5O9A9 & GTEX-13111-0005-SM-5NQ7Z & GTEX-13113-0006-SM-5NQ7X & GTEX-1313W-0006-SM-5O9B1 & GTEX-1314G-0005-SM-5NQ9O & GTEX-131XE-0006-SM-5P9F9 & GTEX-131XF-0006-SM-5P9HK & GTEX-131XG-0006-SM-5O9CE & GTEX-131XH-0006-SM-5O98V & GTEX-131XW-0006-SM-5O9AO & GTEX-131YS-0005-SM-5NQAS & GTEX-132AR-0006-SM-5NQ7N & GTEX-132NY-0005-SM-5O9AC & GTEX-132Q8-0006-SM-5NQA4 & GTEX-132QS-0005-SM-5LZXK & GTEX-1339X-0005-SM-5O9CQ & GTEX-1399R-0006-SM-5N9FR & GTEX-1399S-0006-SM-5NQ7U & GTEX-1399U-0005-SM-5NQ8K & GTEX-139D8-0006-SM-5LZX8 & GTEX-139T6-0006-SM-5LU92 & GTEX-139T8-0006-SM-5NQ6V & GTEX-139TS-0005-SM-5NQC1 & GTEX-139TT-0006-SM-5O9CG & GTEX-139TU-0006-SM-5LZVN & GTEX-139UW-0005-SM-5NQ8U & GTEX-13CF2-0006-SM-5O99L & GTEX-13CF3-0006-SM-5N9ED & GTEX-13CIG-0006-SM-5P9HF & GTEX-13CZU-0005-SM-5LU8K & GTEX-13FTW-0005-SM-5LZVZ & GTEX-13FTX-0005-SM-5N9F6 & GTEX-13FTY-0005-SM-5NQ78 & GTEX-13FTZ-0005-SM-5NQ9N & GTEX-13FXS-0006-SM-5O99X & GTEX-13G51-0005-SM-5N9EP & GTEX-13JUV-0006-SM-5NQ97 & GTEX-13O61-0005-SM-5O9AU & GTEX-13OVG-0005-SM-5P9HA & GTEX-13OVH-0005-SM-5P9HB & GTEX-13OVI-0001-SM-5O9BL & GTEX-13OVJ-0006-SM-5O98T & GTEX-13OVK-0006-SM-5O9B7 & GTEX-13OVL-0006-SM-5O996 & GTEX-13OW6-0005-SM-5NQ9Z & GTEX-13OW8-0005-SM-5NQAC & GTEX-13PL7-0005-SM-5N9ET & GTEX-13PLJ-0005-SM-5NQ99 & GTEX-13S7M-0005-SM-5NQ76 & GTEX-13S86-0005-SM-5NQ7I & GTEX-13SLX-0005-SM-CM2RF & GTEX-13U4I-0006-SM-5N9CI & GTEX-13VXT-0005-SM-5N9F3 & GTEX-13VXU-0006-SM-5N9FF & GTEX-13W3W-0005-SM-5SI9Y & GTEX-1477Z-0005-SM-5PNWD & GTEX-147F3-0005-SM-5N9FI & GTEX-147F4-0006-SM-5O99T & GTEX-147GR-0005-SM-5NQAO & GTEX-147JS-0006-SM-5NQ7K & GTEX-148VI-0006-SM-5O9A6 & GTEX-148VJ-0006-SM-5NQB1 & GTEX-1497J-0005-SM-5NQBD & GTEX-14A5H-0006-SM-5O9AI & GTEX-14A5I-0005-SM-5N9FU & GTEX-14A6H-0006-SM-5NQ7W & GTEX-14ABY-0005-SM-5O99U & GTEX-14AS3-0006-SM-5NQC2 & GTEX-14B4R-0006-SM-5O9A7 & GTEX-14BIL-0006-SM-5N9F2 & GTEX-14BIM-0006-SM-5O9AA & GTEX-14BIN-0005-SM-5N9FE & GTEX-14BMU-0006-SM-5MR3T & GTEX-14BMV-0005-SM-5NQ6Y & GTEX-14C38-0006-SM-5NQBF & GTEX-14C39-0005-SM-5NQBR & GTEX-14C5O-0005-SM-5P9ER & GTEX-14DAQ-0005-SM-5NQ7B & GTEX-14DAR-0006-SM-5N9GC & GTEX-14E1K-0006-SM-5N9DY & GTEX-14E6C-0005-SM-5O98N & GTEX-14E6D-0005-SM-5N9D7 & GTEX-14E6E-0006-SM-5MR5N & GTEX-14E7W-0006-SM-5N9GG & GTEX-14H4A-0006-SM-5N9E3 & GTEX-14ICK-0006-SM-5NQB5 & GTEX-14ICL-0006-SM-5SIAB & GTEX-14JFF-0005-SM-7P8RF & GTEX-14JG1-0006-SM-7SB6P & GTEX-14JG6-0005-SM-9JGFV & GTEX-14JIY-0005-SM-7MXVF & GTEX-14LLW-0006-SM-9QEGG & GTEX-14LZ3-0005-SM-7MXUG & GTEX-14PHW-0005-SM-9KNTK & GTEX-14PHY-0006-SM-7SB7I & GTEX-14PII-0005-SM-7RHFV & GTEX-14PJ2-0005-SM-9JGFU & GTEX-14PJ3-0005-SM-9JGFT & GTEX-14PJ4-0006-SM-7RHFY & GTEX-14PJ5-0005-SM-9MQLO & GTEX-14PJ6-0006-SM-7P8RE & GTEX-14PJM-0006-SM-9JGHA & GTEX-14PJN-0005-SM-9JGGF & GTEX-14PJO-0005-SM-9JGGY & GTEX-14PJP-0005-SM-7P8OM & GTEX-14PK6-0006-SM-7PC1L & GTEX-14PKU-0005-SM-9KNTL & GTEX-14PKV-0006-SM-9MQL3 & GTEX-14PN3-0006-SM-7SB6O & GTEX-14PN4-0005-SM-7PC21 & GTEX-14PQA-0006-SM-7PC2D & GTEX-14XAO-0006-SM-7RHFX & GTEX-15CHC-0006-SM-7P8RG & GTEX-15CHQ-0005-SM-7P8RH & GTEX-15CHR-0005-SM-9KNUS & GTEX-15D1Q-0006-SM-9KNTN & GTEX-15D79-0005-SM-7P8TS & GTEX-15DCD-0006-SM-7RHG4 & GTEX-15DCE-0005-SM-7SB7J & GTEX-15DYW-0006-SM-7RHFR & GTEX-15DZA-0005-SM-9JGFP & GTEX-15EO6-0005-SM-7PBZC & GTEX-15ETS-0005-SM-9KNTJ & GTEX-15EU6-0005-SM-7P8RJ & GTEX-15G19-0006-SM-9KNW6 & GTEX-15G1A-0006-SM-7PC1Z & GTEX-15RIE-0006-SM-7MKF8 & GTEX-15RIF-0005-SM-7RHGH & GTEX-15RIG-0006-SM-7PC1N & GTEX-15RJ7-0006-SM-7RHHM & GTEX-15RJE-0006-SM-7PC1J & GTEX-15SB6-0005-SM-7P8OO & GTEX-15SDE-0006-SM-7PC19 & GTEX-16AAH-0005-SM-7P8RD & GTEX-16BQI-0006-SM-7SB6K & GTEX-16MT8-0005-SM-7PBYO & GTEX-16MT9-0006-SM-7MXTU & GTEX-16MTA-0005-SM-7RHFT & GTEX-16NGA-0006-SM-9JGFQ & GTEX-16NPV-0005-SM-7PC2F & GTEX-16NPX-0005-SM-7MKGG & GTEX-16XZY-0006-SM-7SB99 & GTEX-16XZZ-0006-SM-7MKF5 & GTEX-16YQH-0006-SM-7P8OQ & GTEX-16Z82-0005-SM-7PBXZ & GTEX-178AV-0005-SM-9JGFM & GTEX-17EUY-0006-SM-7P8SB & GTEX-17EVP-0005-SM-7P8RC & GTEX-17EVQ-0006-SM-7MGWB & GTEX-17GQL-0005-SM-7MKF4 & GTEX-17HG3-0006-SM-7MKFE & GTEX-17HGU-0006-SM-7MXT8 & GTEX-17HHE-0005-SM-7P8OT & GTEX-17HHY-0006-SM-7MXT4 & GTEX-17HII-0005-SM-7MKF6 & GTEX-17JCI-0005-SM-7P8OL & GTEX-17KNJ-0005-SM-7PBYB & GTEX-17MFQ-0006-SM-7PBXP & GTEX-183FY-0005-SM-9KNTO & GTEX-183WM-0005-SM-9JGFW & GTEX-18465-0006-SM-7SB6R & GTEX-18A66-0005-SM-7SB6U & GTEX-18A67-0006-SM-7SB6T & GTEX-18A6Q-0005-SM-9KNVX & GTEX-18A7A-0006-SM-7PC1P & GTEX-18A7B-0005-SM-7PC1D & GTEX-18D9A-0005-SM-7SB7H & GTEX-18D9B-0005-SM-7PBYL & GTEX-18D9U-0006-SM-7SB6M & GTEX-18QFQ-0006-SM-7SB6X & GTEX-1A32A-0006-SM-7PC1Y & GTEX-1A3MV-0005-SM-7PC1O & GTEX-1A3MW-0006-SM-7MKGU & GTEX-1A3MX-0005-SM-7MGW7 & GTEX-1A8FM-0006-SM-7MGWI & GTEX-1A8G6-0006-SM-7PC1X & GTEX-1A8G7-0006-SM-7P8RM & GTEX-1AMEY-0005-SM-7PBYK & GTEX-1AMFI-0006-SM-9KNTQ & GTEX-1AX8Z-0006-SM-9KNVB & GTEX-1AX9I-0005-SM-9MQKI & GTEX-1AX9J-0005-SM-9MQKU & GTEX-1AX9K-0006-SM-9KNVP & GTEX-1AYCT-0005-SM-7SB6V & GTEX-1AYD5-0005-SM-7SB6L & GTEX-1B8KE-0006-SM-7SB6W & GTEX-1B8KZ-0006-SM-7MXTJ & GTEX-1B8L1-0005-SM-9MQK6 & GTEX-1B8SF-0005-SM-7MGVK & GTEX-1B8SG-0006-SM-7MKFA & GTEX-1B932-0005-SM-9KNTP & GTEX-1B933-0006-SM-7P8OP & GTEX-1B97I-0005-SM-7PC1M & GTEX-1B97J-0005-SM-7MXT5 & GTEX-1B996-0006-SM-7P8OS & GTEX-1BAJH-0005-SM-7PC1R & GTEX-1C2JI-0006-SM-7PC3Q & GTEX-1C475-0006-SM-9MQL7 & GTEX-1C4CL-0005-SM-7MKF3 & GTEX-1C64N-0005-SM-7PBY7 & GTEX-1C64O-0006-SM-7PC22 & GTEX-1C6VQ-0005-SM-7P8OR & GTEX-1C6VR-0005-SM-7MKF7 & GTEX-1C6VS-0005-SM-7MGWG & GTEX-1CAMR-0006-SM-ACKV5 & GTEX-1CAMS-0005-SM-ARL6Y & GTEX-1CB4E-0005-SM-ADEGS & GTEX-1CB4G-0006-SM-AHZ22 & GTEX-1CB4H-0006-SM-A96RE & GTEX-1CB4I-0006-SM-A96RF & GTEX-1CB4J-0006-SM-ACKV6 & GTEX-1E1VI-0005-SM-ARU6H & GTEX-1E2YA-0006-SM-AHZ23 & GTEX-1EH9U-0005-SM-ACKV3 & GTEX-1EKGG-0005-SM-AHZ1Z & GTEX-1EMGI-0006-SM-ACKVA & GTEX-1EN7A-0006-SM-AHZ4O & GTEX-1EU9M-0006-SM-ARU6I & GTEX-1EWIQ-0005-SM-ADEHB & GTEX-1EX96-0006-SM-ARU6J & GTEX-1F48J-0006-SM-ARL6W & GTEX-1F52S-0006-SM-ARL6X & GTEX-1F5PK-0005-SM-A96RM & GTEX-1F6I4-0005-SM-ARZKZ & GTEX-1F6IF-0005-SM-ARU6K & GTEX-1F75I-0005-SM-ADEHC & GTEX-1F75W-0005-SM-A9SMP & GTEX-1F7RK-0006-SM-ACKV4 & GTEX-1F88F-0005-SM-A9SK2 & GTEX-1GF9U-0005-SM-A9SK1 & GTEX-1GF9V-0006-SM-A96RD & GTEX-1GF9W-0006-SM-ARZL1 & GTEX-1GF9X-0005-SM-A9G3R & GTEX-1GMR2-0005-SM-ADEH3 & GTEX-1GMR3-0005-SM-ADEGR & GTEX-1GMR8-0005-SM-ARZL2 & GTEX-1GMRU-0006-SM-AHZ21 & GTEX-1GN1U-0006-SM-ARU6G & GTEX-1GN1V-0006-SM-ADEHD & GTEX-1GN1W-0006-SM-A9SKL & GTEX-1GN2E-0005-SM-ARU6L & GTEX-1GN73-0005-SM-ACKVI & GTEX-1GPI6-0005-SM-ADEGT & GTEX-1GPI7-0005-SM-A9G13 & GTEX-1GTWX-0006-SM-ARZL3 & GTEX-1GZ2Q-0005-SM-ARL71 & GTEX-1GZ4H-0005-SM-ARZL7 & GTEX-1GZHY-0005-SM-ARZL6 & GTEX-1H11D-0005-SM-ACKV7 & GTEX-1H1CY-0005-SM-A9G15 & GTEX-1H1DE-0005-SM-A9SK4 & GTEX-1H1DF-0005-SM-ADEGU & GTEX-1H1DG-0006-SM-ARZL4 & GTEX-1H1E6-0005-SM-ARZL5 & GTEX-1H23P-0005-SM-A9G14 & GTEX-1H3NZ-0005-SM-A96RG & GTEX-1H3O1-0005-SM-ACKV8 & GTEX-1H4P4-0006-SM-AHZ24 & GTEX-1HB9E-0006-SM-ARU6M & GTEX-1HBPI-0005-SM-ARZLB & GTEX-1HBPM-0006-SM-A9SKK & GTEX-1HC8U-0005-SM-ADEGV & GTEX-1HCU6-0005-SM-AHZ28 & GTEX-1HCU7-0006-SM-A9G19 & GTEX-1HCU8-0005-SM-A96RL & GTEX-1HCU9-0005-SM-A9G1A & GTEX-1HCUA-0006-SM-ACKV9 & GTEX-1HCVE-0006-SM-ADEH2 & GTEX-1HFI6-0005-SM-A9SK6 & GTEX-1HFI7-0005-SM-ADEH1 & GTEX-1HKZK-0005-SM-ARL73 & GTEX-1HR98-0005-SM-A9SKM & GTEX-1HR9M-0005-SM-AHZ26 & GTEX-1HSGN-0006-SM-ACKVH & GTEX-1HSKV-0006-SM-ARZL9 & GTEX-1HSMO-0005-SM-ADEGW & GTEX-1HSMP-0006-SM-AHZ25 & GTEX-1HSMQ-0006-SM-ARU6N & GTEX-1HT8W-0006-SM-A9G17 & GTEX-1HUB1-0005-SM-ARL74 & GTEX-1I19N-0006-SM-A9G18 & GTEX-1I1CD-0005-SM-ADEGY & GTEX-1I1GP-0006-SM-A96RJ & GTEX-1I1GQ-0005-SM-ARU6O & GTEX-1I1GR-0006-SM-ARL75 & GTEX-1I1GS-0005-SM-DHXIW & GTEX-1I1GT-0005-SM-A9SK5 & GTEX-1I1GV-0005-SM-AHZ27 & GTEX-1I1HK-0005-SM-ARZL8 & GTEX-1I4MK-0006-SM-A96RI & GTEX-1I6K6-0006-SM-ARZLA & GTEX-1I6K7-0005-SM-ARL72 & GTEX-1ICG6-0006-SM-A96RH & GTEX-1ICLY-0005-SM-A9G16 & GTEX-1IDFM-0005-SM-ADEGX & GTEX-1IDJC-0005-SM-A9G1C & GTEX-1IDJD-0006-SM-ARZLC & GTEX-1IDJE-0006-SM-A9G1B & GTEX-1IDJF-0005-SM-ARU6P & GTEX-1IDJH-0006-SM-CMKFT & GTEX-1IDJI-0006-SM-CMKFJ & GTEX-1IDJU-0006-SM-CMKFK & GTEX-1IE54-0005-SM-CMKFQ & GTEX-1IGQW-0005-SM-CMKFR & GTEX-1IKJJ-0005-SM-CMKFS & GTEX-1IKK5-0006-SM-CMKFI & GTEX-1IKOE-0005-SM-CMKFL & GTEX-1IKOH-0006-SM-CMKFM & GTEX-1IL2U-0006-SM-CMKFP & GTEX-1IL2V-0006-SM-CMKFN & GTEX-1IOXB-0006-SM-CMKFO & GTEX-1IY9M-0005-SM-CNNOU & GTEX-1J8EW-0006-SM-CNNOW & GTEX-1J8JJ-0006-SM-CNNOX & GTEX-1J8Q2-0006-SM-CNNOZ & GTEX-1J8Q3-0005-SM-CNNOY & GTEX-1J8QM-0006-SM-CNNP1 & GTEX-1JJ6O-0005-SM-DHXJ4 & GTEX-1JJE9-0006-SM-CGQEB & GTEX-1JJEA-0006-SM-DHXJ2 & GTEX-1JK1U-0006-SM-DHXJ3 & GTEX-1JKYN-0006-SM-DHXJ5 & GTEX-1JKYR-0005-SM-DHXL5 & GTEX-1JMLX-0006-SM-DHXJ6 & GTEX-1JMOU-0006-SM-DHXJ7 & GTEX-1JMPY-0006-SM-DHXJ8 & GTEX-1JMPZ-0006-SM-DHXJ9 & GTEX-1JMQI-0005-SM-DHXJA & GTEX-1JMQJ-0006-SM-DHXJD & GTEX-1JMQK-0005-SM-CNPOE & GTEX-1JMQL-0006-SM-DHXJB & GTEX-1JN1M-0006-SM-DHXJE & GTEX-1JN6P-0005-SM-DIPEH & GTEX-1JN76-0005-SM-EAZ3B & GTEX-1K2DA-0005-SM-DIPE7 & GTEX-1K2DU-0005-SM-DIPE8 & GTEX-1K9T9-0006-SM-DIPE9 & GTEX-1KAFJ-0006-SM-9WPO1 & GTEX-1KANA-0006-SM-9YFLB & GTEX-1KANB-0006-SM-DIPE6 & GTEX-1KANC-0006-SM-9YFL8 & GTEX-1KD4Q-0006-SM-DIPEA & GTEX-1KD5A-0006-SM-DIPEB & GTEX-1KWVE-0005-SM-CYPSE & GTEX-1KXAM-0005-SM-DIPEC & GTEX-1L5NE-0005-SM-DIPEG & GTEX-1LB8K-0005-SM-DIPED & GTEX-1LBAC-0005-SM-DIPEE & GTEX-1LC47-0005-SM-COH2J & GTEX-1LG7Y-0005-SM-DKPQ7 & GTEX-1LG7Z-0005-SM-DKPQ6 & GTEX-1LGOU-0005-SM-DKPPW & GTEX-1LGRB-0006-SM-DKPPB & GTEX-1LH75-0006-SM-CXZIP & GTEX-1LKK1-0005-SM-CXZIT & GTEX-1LNCM-0005-SM-CXZIR & GTEX-1LSNL-0006-SM-CXZIV & GTEX-1LSNM-0005-SM-CXZIW & GTEX-1LSVX-0005-SM-DKPPI & GTEX-1LVA9-0006-SM-DKPPN & GTEX-1LVAM-0005-SM-CXZJ4 & GTEX-1LVAN-0005-SM-DKPPM & GTEX-1LVAO-0006-SM-CXZIU & GTEX-1M4P7-0005-SM-CXZIS & GTEX-1M5QR-0005-SM-DKPPP & GTEX-1MA7W-0006-SM-DKPPR & GTEX-1MA7X-0006-SM-CXZJ6 & GTEX-1MCC2-0006-SM-DKPPJ & GTEX-1MCQQ-0005-SM-DKPPV & GTEX-1MCYP-0005-SM-DKPPK & GTEX-1MGNQ-0005-SM-CXZJ1 & GTEX-1MJIX-0006-SM-DKPPU & GTEX-1MJK2-0006-SM-CXZIN & GTEX-1MJK3-0006-SM-DKPP9 & GTEX-1MUQO-0005-SM-DKPPT & GTEX-1N2DW-0006-SM-DKPP4 & GTEX-1N2EE-0005-SM-DKPP5 & GTEX-1N2EF-0005-SM-CXZIL & GTEX-1N5O9-0006-SM-DKPPS & GTEX-1NHNU-0005-SM-DKPP3 & GTEX-1NSGN-0005-SM-DKPPX & GTEX-1NUQO-0005-SM-DKPP2 & GTEX-1NV8Z-0005-SM-DKPQ3 & GTEX-1O97I-0005-SM-DKPPY & GTEX-1O9I2-0005-SM-DKPQ1 & GTEX-1OFPY-0005-SM-DKPPZ & GTEX-1OJC3-0006-SM-DKPP1 & GTEX-1OJC4-0005-SM-DKPQ4 & GTEX-1OKEX-0006-SM-DKPQ2 & GTEX-1P4AB-0005-SM-CY8GM & GTEX-1PBJI-0005-SM-CJI1Y & GTEX-1PBJJ-0005-SM-CKZND & GTEX-1PDJ9-0006-SM-CY8GN & GTEX-1PFEY-0005-SM-CY8GO & GTEX-1PIEJ-0005-SM-DLZQL & GTEX-1PIGE-0005-SM-DLZQM & GTEX-1PIIG-0006-SM-DLZQF & GTEX-1POEN-0005-SM-DLZQN & GTEX-1PPH6-0005-SM-DLZQP & GTEX-1PPH7-0005-SM-CKZNE & GTEX-1PPH8-0006-SM-CY8GS & GTEX-1PWST-0005-SM-DLZQC & GTEX-1QAET-0006-SM-DLZQQ & GTEX-1QCLY-0005-SM-DLZQS & GTEX-1QCLZ-0006-SM-CY8GW & GTEX-1QEPI-0006-SM-CY8GY & GTEX-1QMI2-0006-SM-CY8H1 & GTEX-1QP28-0006-SM-DLZQW & GTEX-1QP29-0005-SM-DLZQX & GTEX-1QP66-0005-SM-CY8H4 & GTEX-1QP67-0006-SM-CY8H5 & GTEX-1QP9N-0005-SM-CY8H9 & GTEX-1QPFJ-0006-SM-CY8HB & GTEX-1QW4Y-0005-SM-DO93W & GTEX-1R46S-0006-SM-DO93Y & GTEX-1R7EU-0006-SM-DO93C & GTEX-1R7EV-0005-SM-DO938 & GTEX-1R9JW-0002-SM-DO93B & GTEX-1R9K4-0006-SM-CYPRM & GTEX-1R9K5-0006-SM-DO939 & GTEX-1R9PM-0006-SM-CYPTI & GTEX-1R9PN-0006-SM-DTX7L & GTEX-1R9PO-0006-SM-DO937 & GTEX-1RAZA-0006-SM-CKZO9 & GTEX-1RAZQ-0005-SM-DO93U & GTEX-1RAZR-0006-SM-DLHBR & GTEX-1RAZS-0005-SM-DO93D & GTEX-1RB15-0005-SM-CL53N & GTEX-1RDX4-0005-SM-DLHBS & GTEX-1RLM8-0005-SM-DO121 & GTEX-1RMOY-0005-SM-DO11X & GTEX-1RNTQ-0006-SM-CYPRG & GTEX-1RQEC-0006-SM-CL542 & GTEX-1RQED-0005-SM-DO11Z & GTEX-1S3DN-0006-SM-DO127 & GTEX-1S5VW-0005-SM-CYPS4 & GTEX-1S5ZA-0005-SM-CYPS2 & GTEX-1S5ZU-0005-SM-CYPS3 & GTEX-1S82P-0005-SM-CM2RX & GTEX-1S82U-0005-SM-CYPRW & GTEX-1S82Y-0005-SM-DO123 & GTEX-1S82Z-0006-SM-DLHC5 & GTEX-1S831-0006-SM-DLHC1 & GTEX-1S83E-0006-SM-DLHBW & GTEX-N7MS-0007-SM-2D7W1 & GTEX-N7MT-0007-SM-3GACQ & GTEX-NFK9-0006-SM-3GACS & GTEX-NPJ7-0006-SM-3GACR & GTEX-NPJ8-0007-SM-2D7VX & GTEX-O5YT-0007-SM-32PK7 & GTEX-O5YW-0006-SM-3LK6E & GTEX-OHPK-0006-SM-2HMKH & GTEX-OHPL-0006-SM-3MJHB & GTEX-OHPM-0006-SM-2HMKU & GTEX-OHPN-0005-SM-2YUML & GTEX-OIZF-0006-SM-2I5GQ & GTEX-OIZH-0005-SM-2HMJN & GTEX-OIZI-0005-SM-2XCED & GTEX-OOBJ-0006-SM-2I3F4 & GTEX-OOBK-0005-SM-2YUMG & GTEX-OXRL-0005-SM-3LK6A & GTEX-OXRO-0006-SM-2I5EM & GTEX-OXRP-0006-SM-2I3FN & GTEX-P44G-0006-SM-2TC6A & GTEX-P44H-0006-SM-2XCFB & GTEX-P4PP-0005-SM-2HMKX & GTEX-P4PQ-0005-SM-2HMKJ & GTEX-P4QS-0005-SM-2I3EY & GTEX-P78B-0005-SM-2I5GM & GTEX-PLZ4-0006-SM-CYPR7 & GTEX-PLZ5-0006-SM-DIPE2 & GTEX-PLZ6-0006-SM-33HBZ & GTEX-POMQ-0006-SM-5SI7D & GTEX-POYW-0006-SM-2XCF4 & GTEX-PSDG-0005-SM-3GADC & GTEX-PVOW-0006-SM-3NMB8 & GTEX-PW2O-0006-SM-2I3DV & GTEX-PWCY-0005-SM-DHXL3 & GTEX-PWN1-0006-SM-CYPR2 & GTEX-PX3G-0006-SM-5SI7E & GTEX-Q2AG-0005-SM-5SI7F & GTEX-Q2AH-0005-SM-33HBR & GTEX-Q2AI-0006-SM-2I3FG & GTEX-Q734-0006-SM-2I3FJ & GTEX-QCQG-0006-SM-DIPE5 & GTEX-QDT8-0006-SM-CXZJC & GTEX-QDVJ-0005-SM-2TC5X & GTEX-QDVN-0006-SM-48U1R & GTEX-QEG4-0006-SM-2I5FY & GTEX-QEG5-0006-SM-2I5FZ & GTEX-QESD-0006-SM-2I5G6 & GTEX-QLQ7-0005-SM-2S1QP & GTEX-QLQW-0005-SM-2S1RA & GTEX-QMR6-0005-SM-32PKY & GTEX-QMRM-0005-SM-3NB2A & GTEX-QV31-0006-SM-793B5 & GTEX-QVJO-0006-SM-2S1RC & GTEX-QVUS-0006-SM-3GAE8 & GTEX-QXCU-0006-SM-2TC5K & GTEX-R3RS-0005-SM-3GAEH & GTEX-R45C-0006-SM-3GAD6 & GTEX-R53T-0005-SM-3GADK & GTEX-R55C-0005-SM-3GAE9 & GTEX-R55D-0006-SM-3GIJS & GTEX-R55E-0006-SM-2TC5G & GTEX-R55G-0006-SM-2TC6O & GTEX-REY6-0005-SM-2TF54 & GTEX-RM2N-0006-SM-2TF5H & GTEX-RN64-0005-SM-793B4 & GTEX-RNOR-0005-SM-2TF4Z & GTEX-RTLS-0006-SM-2TF58 & GTEX-RU1J-0006-SM-2TF6M & GTEX-RU72-0006-SM-2TF65 & GTEX-RUSQ-0006-SM-2TF6P & GTEX-RVPV-0006-SM-2TF6Q & GTEX-RWS6-0005-SM-2XCAN & GTEX-RWSA-0005-SM-2XCAO & GTEX-S32W-0006-SM-2XCAK & GTEX-S33H-0005-SM-2XCAL & GTEX-S341-0006-SM-3NM8D & GTEX-S7PM-0006-SM-3NM8C & GTEX-S7SE-0005-SM-2XCEA & GTEX-S95S-0005-SM-2XCEC & GTEX-SE5C-0006-SM-4BRW5 & GTEX-SIU8-0006-SM-2XCE5 & GTEX-SJXC-0005-SM-2XCE7 & GTEX-SN8G-0006-SM-32PLD & GTEX-SNMC-0006-SM-2XCFE & GTEX-SNOS-0006-SM-32PLH & GTEX-SSA3-0005-SM-32QOT & GTEX-SUCS-0006-SM-4DM59 & GTEX-T2YK-0005-SM-32QOV & GTEX-T5JC-0006-SM-EZ6L9 & GTEX-T5JW-0005-SM-3GADE & GTEX-T6MN-0005-SM-32PLJ & GTEX-T6MO-0006-SM-32QOU & GTEX-T8EM-0006-SM-3DB71 & GTEX-TKQ1-0006-SM-33HBI & GTEX-TKQ2-0006-SM-33HBH & GTEX-TML8-0005-SM-32QPA & GTEX-TMMY-0005-SM-33HBN & GTEX-TMZS-0006-SM-3DB8G & GTEX-TSE9-0005-SM-4DXUF & GTEX-U3ZG-0006-SM-47JWX & GTEX-U3ZH-0005-SM-3DB72 & GTEX-U3ZN-0006-SM-3DB7Y & GTEX-U4B1-0006-SM-3DB8E & GTEX-U8T8-0005-SM-3DB8F & GTEX-U8XE-0005-SM-3DB8I & GTEX-UJHI-0006-SM-3DB8H & GTEX-UJMC-0005-SM-3GACU & GTEX-UPJH-0006-SM-3GACW & GTEX-UPK5-0006-SM-3GAD8 & GTEX-UTHO-0006-SM-3NMCC & GTEX-V1D1-0006-SM-3NMCE & GTEX-V955-0005-SM-3P5ZC & GTEX-VJWN-0005-SM-3GIKF & GTEX-VJYA-0005-SM-3P5ZD & GTEX-VUSG-0006-SM-3GIK9 & GTEX-VUSH-0005-SM-3NB2H & GTEX-W5WG-0006-SM-3GIJT & GTEX-W5X1-0006-SM-3GIJZ & GTEX-WCDI-0005-SM-3NB2M & GTEX-WEY5-0006-SM-3GIKG & GTEX-WFG7-0005-SM-3GIKM & GTEX-WFG8-0006-SM-3GIKS & GTEX-WFJO-0005-SM-3GIKY & GTEX-WFON-0005-SM-3NMC9 & GTEX-WH7G-0005-SM-3NMBX & GTEX-WHPG-0006-SM-3NMBV & GTEX-WHSB-0005-SM-3LK7C & GTEX-WHSE-0006-SM-3NMBW & GTEX-WHWD-0005-SM-3LK7D & GTEX-WI4N-0005-SM-3LK7E & GTEX-WK11-0006-SM-3NB3J & GTEX-WL46-0006-SM-4OOS5 & GTEX-WOFL-0006-SM-3TW8K & GTEX-WOFM-0005-SM-3MJF3 & GTEX-WQUQ-0006-SM-3MJF4 & GTEX-WRHK-0005-SM-3MJF5 & GTEX-WRHU-0006-SM-3MJF6 & GTEX-WVLH-0006-SM-3MJF7 & GTEX-WWYW-0005-SM-3NB3K & GTEX-WXYG-0005-SM-3NB3M & GTEX-WY7C-0006-SM-3NB3L & GTEX-WYBS-0005-SM-4ONDR & GTEX-WYJK-0005-SM-3NMA1 & GTEX-WYVS-0006-SM-3NMA7 & GTEX-WZTO-0006-SM-3NM9T & GTEX-X15G-0005-SM-3NMDA & GTEX-X261-0005-SM-4PQYX & GTEX-X3Y1-0006-SM-3P5ZG & GTEX-X4EO-0006-SM-3P5ZF & GTEX-X4EP-0005-SM-3P5ZE & GTEX-X4LF-0006-SM-3NMCO & GTEX-X4XX-0005-SM-3NMCS & GTEX-X4XY-0006-SM-46MV2 & GTEX-X585-0005-SM-46MV3 & GTEX-X5EB-0006-SM-46MV5 & GTEX-X62O-0005-SM-46MV1 & GTEX-X638-0005-SM-47JX6 & GTEX-X88G-0006-SM-47JX5 & GTEX-X8HC-0006-SM-46MV6 & GTEX-XAJ8-0006-SM-46MVM & GTEX-XBEC-0006-SM-4AT5T & GTEX-XBED-0006-SM-47JXO & GTEX-XBEW-0006-SM-4AT4E & GTEX-XGQ4-0005-SM-4AT5U & GTEX-XK95-0005-SM-4AT4S & GTEX-XLM4-0005-SM-4AT4P & GTEX-XMD1-0006-SM-4AT4Q & GTEX-XMD2-0006-SM-4WWEG & GTEX-XMD3-0006-SM-4AT5X & GTEX-XMK1-0005-SM-4B665 & GTEX-XOT4-0005-SM-4B64S & GTEX-XPT6-0006-SM-4B66Q & GTEX-XPVG-0006-SM-4B65Z & GTEX-XQ3S-0006-SM-4BOQ4 & GTEX-XQ8I-0006-SM-4BOQ5 & GTEX-XUW1-0005-SM-4BOQ7 & GTEX-XUYS-0005-SM-47JZ2 & GTEX-XUZC-0005-SM-4BOQ8 & GTEX-XXEK-0005-SM-4BRWJ & GTEX-XYKS-0005-SM-4BRUD & GTEX-Y111-0006-SM-4SOIO & GTEX-Y114-0006-SM-4TT76 & GTEX-Y3I4-0006-SM-4TT1E & GTEX-Y3IK-0005-SM-4WWDE & GTEX-Y5LM-0005-SM-4V6EJ & GTEX-Y5V5-0006-SM-4V6FE & GTEX-Y5V6-0005-SM-4V6FD & GTEX-Y8DK-0005-SM-4RGNR & GTEX-Y8E4-0006-SM-4V6EW & GTEX-Y8E5-0006-SM-47JWQ & GTEX-Y8LW-0005-SM-4V6EV & GTEX-Y9LG-0006-SM-4VBRK & GTEX-YB5E-0005-SM-4VDSO & GTEX-YB5K-0005-SM-4VDSP & GTEX-YBZK-0005-SM-59HKG & GTEX-YEC3-0005-SM-4W21J & GTEX-YEC4-0001-SM-4W1Y6 & GTEX-YECK-0005-SM-4W217 & GTEX-YF7O-0005-SM-4W1ZU & GTEX-YFC4-0006-SM-4RGLV & GTEX-YFCO-0005-SM-4W1ZI & GTEX-Z93S-0005-SM-4RGLW & GTEX-ZAB4-0005-SM-4RGM8 & GTEX-ZC5H-0005-SM-4WAXM & GTEX-ZDTS-0006-SM-4WAYZ & GTEX-ZDTT-0006-SM-4WKFP & GTEX-ZDXO-0006-SM-4WKGF & GTEX-ZDYS-0002-SM-4WKGR & GTEX-ZE7O-0006-SM-51MTA & GTEX-ZE9C-0006-SM-4WKG2 & GTEX-ZEX8-0005-SM-4WKGE & GTEX-ZF28-0005-SM-4WKH3 & GTEX-ZF29-0006-SM-4WKGQ & GTEX-ZF2S-0006-SM-4WKHF & GTEX-ZF3C-0005-SM-4WWAR & GTEX-ZG7Y-0006-SM-4WWEA & GTEX-ZGAY-0006-SM-4WWAQ & GTEX-ZLV1-0005-SM-4WWAP & GTEX-ZP4G-0006-SM-4WWE6 & GTEX-ZPCL-0006-SM-4WWAS & GTEX-ZPIC-0005-SM-4WWEB & GTEX-ZPU1-0006-SM-4WWAT & GTEX-ZQG8-0005-SM-4YCEH & GTEX-ZQUD-0005-SM-4YCE5 & GTEX-ZT9W-0005-SM-4YCEG & GTEX-ZTPG-0006-SM-4YCFG & GTEX-ZTSS-0005-SM-4YCDR & GTEX-ZTTD-0006-SM-51MSJ & GTEX-ZTX8-0006-SM-4YCE4 & GTEX-ZUA1-0005-SM-4YCEV & GTEX-ZV68-0006-SM-4YCEJ & GTEX-ZV7C-0005-SM-57WDL & GTEX-ZVE2-0006-SM-51MRW & GTEX-ZVP2-0005-SM-51MRK & GTEX-ZVT2-0005-SM-57WBW & GTEX-ZVT3-0006-SM-51MT9 & GTEX-ZVT4-0006-SM-57WB8 & GTEX-ZVTK-0006-SM-57WBK & GTEX-ZVZP-0006-SM-51MSW & GTEX-ZVZQ-0006-SM-51MR8 & GTEX-ZXES-0005-SM-57WCB & GTEX-ZXG5-0005-SM-57WCN & Name & Description\\\\\n",
       " <chr> & <chr> & <chr> & <chr> & <dbl> & <dbl> & <dbl> & <dbl> & <dbl> & <dbl> & <dbl> & <dbl> & <dbl> & <dbl> & <dbl> & <dbl> & <dbl> & <dbl> & <dbl> & <dbl> & <dbl> & <dbl> & <dbl> & <dbl> & <dbl> & <dbl> & <dbl> & <dbl> & <dbl> & <dbl> & <dbl> & <dbl> & <dbl> & <dbl> & <dbl> & <dbl> & <dbl> & <dbl> & <dbl> & <dbl> & <dbl> & <dbl> & <dbl> & <dbl> & <dbl> & <dbl> & <dbl> & <dbl> & <dbl> & <dbl> & <dbl> & <dbl> & <dbl> & <dbl> & <dbl> & <dbl> & <dbl> & <dbl> & <dbl> & <dbl> & <dbl> & <dbl> & <dbl> & <dbl> & <dbl> & <dbl> & <dbl> & <dbl> & <dbl> & <dbl> & <dbl> & <dbl> & <dbl> & <dbl> & <dbl> & <dbl> & <dbl> & <dbl> & <dbl> & <dbl> & <dbl> & <dbl> & <dbl> & <dbl> & <dbl> & <dbl> & <dbl> & <dbl> & <dbl> & <dbl> & <dbl> & <dbl> & <dbl> & <dbl> & <dbl> & <dbl> & <dbl> & <dbl> & <dbl> & <dbl> & <dbl> & <dbl> & <dbl> & <dbl> & <dbl> & <dbl> & <dbl> & <dbl> & <dbl> & <dbl> & <dbl> & <dbl> & <dbl> & <dbl> & <dbl> & <dbl> & <dbl> & <dbl> & <dbl> & <dbl> & <dbl> & <dbl> & <dbl> & <dbl> & <dbl> & <dbl> & <dbl> & <dbl> & <dbl> & <dbl> & <dbl> & <dbl> & <dbl> & <dbl> & <dbl> & <dbl> & <dbl> & <dbl> & <dbl> & <dbl> & <dbl> & <dbl> & <dbl> & <dbl> & <dbl> & <dbl> & <dbl> & <dbl> & <dbl> & <dbl> & <dbl> & <dbl> & <dbl> & <dbl> & <dbl> & <dbl> & <dbl> & <dbl> & <dbl> & <dbl> & <dbl> & <dbl> & <dbl> & <dbl> & <dbl> & <dbl> & <dbl> & <dbl> & <dbl> & <dbl> & <dbl> & <dbl> & <dbl> & <dbl> & <dbl> & <dbl> & <dbl> & <dbl> & <dbl> & <dbl> & <dbl> & <dbl> & <dbl> & <dbl> & <dbl> & <dbl> & <dbl> & <dbl> & <dbl> & <dbl> & <dbl> & <dbl> & <dbl> & <dbl> & <dbl> & <dbl> & <dbl> & <dbl> & <dbl> & <dbl> & <dbl> & <dbl> & <dbl> & <dbl> & <dbl> & <dbl> & <dbl> & <dbl> & <dbl> & <dbl> & <dbl> & <dbl> & <dbl> & <dbl> & <dbl> & <dbl> & <dbl> & <dbl> & <dbl> & <dbl> & <dbl> & <dbl> & <dbl> & <dbl> & <dbl> & <dbl> & <dbl> & <dbl> & <dbl> & <dbl> & <dbl> & <dbl> & <dbl> & <dbl> & <dbl> & <dbl> & <dbl> & <dbl> & <dbl> & <dbl> & <dbl> & <dbl> & <dbl> & <dbl> & <dbl> & <dbl> & <dbl> & <dbl> & <dbl> & <dbl> & <dbl> & <dbl> & <dbl> & <dbl> & <dbl> & <dbl> & <dbl> & <dbl> & <dbl> & <dbl> & <dbl> & <dbl> & <dbl> & <dbl> & <dbl> & <dbl> & <dbl> & <dbl> & <dbl> & <dbl> & <dbl> & <dbl> & <dbl> & <dbl> & <dbl> & <dbl> & <dbl> & <dbl> & <dbl> & <dbl> & <dbl> & <dbl> & <dbl> & <dbl> & <dbl> & <dbl> & <dbl> & <dbl> & <dbl> & <dbl> & <dbl> & <dbl> & <dbl> & <dbl> & <dbl> & <dbl> & <dbl> & <dbl> & <dbl> & <dbl> & <dbl> & <dbl> & <dbl> & <dbl> & <dbl> & <dbl> & <dbl> & <dbl> & <dbl> & <dbl> & <dbl> & <dbl> & <dbl> & <dbl> & <dbl> & <dbl> & <dbl> & <dbl> & <dbl> & <dbl> & <dbl> & <dbl> & <dbl> & <dbl> & <dbl> & <dbl> & <dbl> & <dbl> & <dbl> & <dbl> & <dbl> & <dbl> & <dbl> & <dbl> & <dbl> & <dbl> & <dbl> & <dbl> & <dbl> & <dbl> & <dbl> & <dbl> & <dbl> & <dbl> & <dbl> & <dbl> & <dbl> & <dbl> & <dbl> & <dbl> & <dbl> & <dbl> & <dbl> & <dbl> & <dbl> & <dbl> & <dbl> & <dbl> & <dbl> & <dbl> & <dbl> & <dbl> & <dbl> & <dbl> & <dbl> & <dbl> & <dbl> & <dbl> & <dbl> & <dbl> & <dbl> & <dbl> & <dbl> & <dbl> & <dbl> & <dbl> & <dbl> & <dbl> & <dbl> & <dbl> & <dbl> & <dbl> & <dbl> & <dbl> & <dbl> & <dbl> & <dbl> & <dbl> & <dbl> & <dbl> & <dbl> & <dbl> & <dbl> & <dbl> & <dbl> & <dbl> & <dbl> & <dbl> & <dbl> & <dbl> & <dbl> & <dbl> & <dbl> & <dbl> & <dbl> & <dbl> & <dbl> & <dbl> & <dbl> & <dbl> & <dbl> & <dbl> & <dbl> & <dbl> & <dbl> & <dbl> & <dbl> & <dbl> & <dbl> & <dbl> & <dbl> & <dbl> & <dbl> & <dbl> & <dbl> & <dbl> & <dbl> & <dbl> & <dbl> & <dbl> & <dbl> & <dbl> & <dbl> & <dbl> & <dbl> & <dbl> & <dbl> & <dbl> & <dbl> & <dbl> & <dbl> & <dbl> & <dbl> & <dbl> & <dbl> & <dbl> & <dbl> & <dbl> & <dbl> & <dbl> & <dbl> & <dbl> & <dbl> & <dbl> & <dbl> & <dbl> & <dbl> & <dbl> & <dbl> & <dbl> & <dbl> & <dbl> & <dbl> & <dbl> & <dbl> & <dbl> & <dbl> & <dbl> & <dbl> & <dbl> & <dbl> & <dbl> & <dbl> & <dbl> & <dbl> & <dbl> & <dbl> & <dbl> & <dbl> & <dbl> & <dbl> & <dbl> & <dbl> & <dbl> & <dbl> & <dbl> & <dbl> & <dbl> & <dbl> & <dbl> & <dbl> & <dbl> & <dbl> & <dbl> & <dbl> & <dbl> & <dbl> & <dbl> & <dbl> & <dbl> & <dbl> & <dbl> & <dbl> & <dbl> & <dbl> & <dbl> & <dbl> & <dbl> & <dbl> & <dbl> & <dbl> & <dbl> & <dbl> & <dbl> & <dbl> & <dbl> & <dbl> & <dbl> & <dbl> & <dbl> & <dbl> & <dbl> & <dbl> & <dbl> & <dbl> & <dbl> & <dbl> & <dbl> & <dbl> & <dbl> & <dbl> & <dbl> & <dbl> & <dbl> & <dbl> & <dbl> & <dbl> & <dbl> & <dbl> & <dbl> & <dbl> & <dbl> & <dbl> & <dbl> & <dbl> & <dbl> & <dbl> & <dbl> & <dbl> & <dbl> & <dbl> & <dbl> & <dbl> & <dbl> & <dbl> & <dbl> & <dbl> & <dbl> & <dbl> & <dbl> & <dbl> & <dbl> & <dbl> & <dbl> & <dbl> & <dbl> & <dbl> & <dbl> & <dbl> & <dbl> & <dbl> & <dbl> & <dbl> & <dbl> & <dbl> & <dbl> & <dbl> & <dbl> & <dbl> & <dbl> & <dbl> & <dbl> & <dbl> & <dbl> & <dbl> & <dbl> & <dbl> & <dbl> & <dbl> & <dbl> & <dbl> & <dbl> & <dbl> & <dbl> & <dbl> & <dbl> & <dbl> & <dbl> & <dbl> & <dbl> & <dbl> & <dbl> & <dbl> & <dbl> & <dbl> & <dbl> & <dbl> & <dbl> & <dbl> & <dbl> & <dbl> & <dbl> & <dbl> & <dbl> & <dbl> & <dbl> & <dbl> & <dbl> & <dbl> & <dbl> & <dbl> & <dbl> & <dbl> & <dbl> & <dbl> & <dbl> & <dbl> & <dbl> & <dbl> & <dbl> & <dbl> & <dbl> & <dbl> & <dbl> & <dbl> & <dbl> & <dbl> & <dbl> & <dbl> & <dbl> & <dbl> & <dbl> & <dbl> & <dbl> & <dbl> & <dbl> & <dbl> & <dbl> & <dbl> & <dbl> & <dbl> & <dbl> & <dbl> & <dbl> & <dbl> & <dbl> & <dbl> & <dbl> & <dbl> & <dbl> & <dbl> & <dbl> & <dbl> & <dbl> & <dbl> & <dbl> & <dbl> & <dbl> & <dbl> & <dbl> & <dbl> & <dbl> & <dbl> & <dbl> & <dbl> & <dbl> & <dbl> & <dbl> & <dbl> & <dbl> & <dbl> & <dbl> & <dbl> & <dbl> & <dbl> & <dbl> & <dbl> & <dbl> & <dbl> & <dbl> & <dbl> & <dbl> & <dbl> & <dbl> & <dbl> & <dbl> & <dbl> & <dbl> & <dbl> & <dbl> & <dbl> & <dbl> & <dbl> & <dbl> & <dbl> & <dbl> & <dbl> & <dbl> & <dbl> & <dbl> & <dbl> & <dbl> & <dbl> & <dbl> & <dbl> & <dbl> & <dbl> & <dbl> & <dbl> & <dbl> & <dbl> & <dbl> & <dbl> & <dbl> & <dbl> & <dbl> & <dbl> & <dbl> & <dbl> & <dbl> & <dbl> & <dbl> & <dbl> & <dbl> & <dbl> & <dbl> & <dbl> & <dbl> & <dbl> & <dbl> & <dbl> & <dbl> & <dbl> & <dbl> & <dbl> & <dbl> & <dbl> & <dbl> & <dbl> & <dbl> & <dbl> & <dbl> & <dbl> & <dbl> & <dbl> & <dbl> & <dbl> & <dbl> & <dbl> & <chr> & <chr>\\\\\n",
       "\\hline\n",
       "\t ENSG00000228229 &       & 1 & lincRNA        & 0.0000 & 0.00000 & 0.000 & 0.000 & 0.0000 & 0.00000 & 0.0000 & 0.00000 & 0.0000 & 0.0000 & 0.00000 & 0.0000 & 0.0000 & 0.000 & 0.0000 & 0.00000 & 0.00000 & 0.00000 & 0.00000 & 0.0000 & 0.00000 & 0.00000 & 0.000 & 0.000 & 0.00000 & 0.000 & 0.00000 & 0.00000 & 0.00000 & 0.00000 & 0.0000 & 0.000 & 0.0000 & 0.000 & 0.0000 & 0.000000 & 0.000 & 0.0000 & 0.000 & 0.000 & 0.00000 & 0.00000 & 0.0000 & 0.0000 & 0.00000 & 0.000 & 0.0000 & 0.00000 & 0.0000 & 0.000 & 0.0000 & 0.00000 & 0.0000 & 0.00000 & 0.00000 & 0.0000 & 0.0000 & 0.0000 & 0.00000 & 0.0000 & 0.00000 & 0.00000 & 0.00000 & 0.000 & 0.0000 & 0.0000 & 0.000 & 0.000 & 0.00000 & 0.0000 & 0.0000 & 0.0000 & 0.00000 & 0.00000 & 0.0000 & 0.000 & 0.000 & 0.0000 & 0.00000 & 0.0000 & 0.0000 & 0.0000 & 0.00000 & 0.00000 & 0.0000 & 0.00000 & 0.00000 & 0.00000 & 0.0000 & 0.0000 & 0.0000 & 0.0000 & 0.00000 & 0.0000 & 0.00000 & 0.0000 & 0.0000 & 0.00000 & 0.000 & 0.000 & 0.00000 & 0.0000 & 0.0000 & 0.00000 & 0.0000 & 0.0000 & 0.000 & 0.0000 & 0.00000 & 0.00000 & 0.00000 & 0.00000 & 0.00000 & 0.0000 & 0.0000 & 0.00000 & 0.0000 & 0.0000 & 0.0000 & 0.000 & 0.0000 & 0.000 & 0.00000 & 0.000 & 0.00000 & 0.000 & 0.00000 & 0.00000 & 0.00000 & 0.00 & 0.0000 & 0.00000 & 0.000 & 0.0000 & 0.0000 & 0.0000 & 0.000 & 0.00000 & 0.00000 & 0.00000 & 0.000 & 0.0000 & 0.0000 & 0.00000 & 0.00000 & 0.00000 & 0.0000 & 0.00000 & 0.0000 & 0.00000 & 0.000 & 0.00 & 0.00000 & 0.00000 & 0.0000 & 0.000 & 0.0000 & 0.00000 & 0.000 & 0.0000 & 0.00000 & 0.0000 & 0.0000 & 0.00000 & 0.00000 & 0.0000 & 0.000 & 0.00000 & 0.0000 & 0.0000 & 0.0000 & 0.000 & 0.0000 & 0.0000 & 0.0000 & 0.000 & 0.000 & 0.000 & 0.00000 & 0.00000 & 0.0000 & 0.00000 & 0.00000 & 0.000 & 0.0000 & 0.0000 & 0.0000 & 0.0000 & 0.0000 & 0.0000 & 0.00000 & 0.000 & 0.0000 & 0.000 & 0.0000 & 0.00000 & 0.00000 & 0.000 & 0.0000 & 0.00000 & 0.0000 & 0.0000 & 0.00000 & 0.000 & 0.00000 & 0.0000 & 0.0000 & 0.000 & 0.0000 & 0.00000 & 0.000 & 0.00000 & 0.00000 & 0.00000 & 0.0000 & 0.0000 & 0.00000 & 0.00000 & 0.0000 & 0.0000 & 0.00000 & 0.0000 & 0.00000 & 0.00000 & 0.0000 & 0.0000 & 0.00000 & 0.000 & 0.00000 & 0.00000 & 0.0000 & 0.000 & 0.00000 & 0.0000 & 0.00000 & 0.0000 & 0.0000 & 0.00000 & 0.00 & 0.0000 & 0.0000 & 0.00000 & 0.00000 & 0.00000 & 0.0000 & 0.0000 & 0.00000 & 0.000 & 0.000 & 0.00000 & 0.00000 & 0.00000 & 0.00000 & 0.0000 & 0.0000 & 0.0000 & 0.0000 & 0.000 & 0.0000 & 0.000 & 0.0000 & 0.00000 & 0.00000 & 0.0000 & 0.00000 & 0.000 & 0.000 & 0.0000 & 0.0000 & 0.00000 & 0.0000 & 0.00000 & 0.00000 & 0.000 & 0.000 & 0.0000 & 0.00000 & 0.0000 & 0.000 & 0.00000 & 0.000 & 0.000 & 0.00000 & 0.00000 & 0.0000 & 0.0000 & 0.00000 & 0.00000 & 0.0000 & 0.0000 & 0.0000 & 0.0000 & 0.00000 & 0.00000 & 0.00000 & 0.0000 & 0.000 & 0.000 & 0.00000 & 0.0000 & 0.00000 & 0.0000 & 0.0000 & 0.0000 & 0.00000 & 0.0000 & 0.0000 & 0.000 & 0.0000 & 0.00000 & 0.0000 & 0.0000 & 0.000 & 0.0000 & 0.0000 & 0.0000 & 0.0000 & 0.00000 & 0.0000 & 0.0000 & 0.0000 & 0.000000 & 0.000 & 0.0000 & 0.0000 & 0.0000 & 0.0000 & 0.0000 & 0.00000 & 0.00000 & 0.00 & 0.000 & 0.00000 & 0.0000 & 0.00000 & 0.000 & 0.0000 & 0.0000 & 0.0000 & 0.0000 & 0.00000 & 0.0000 & 0.0000 & 0.00000 & 0.00000 & 0.0000 & 0.000 & 0.0000 & 0.000 & 0.00000 & 0.0000 & 0.0000 & 0.0000 & 0.00000 & 0.00000 & 0.000 & 0.00000 & 0.0000 & 0.0000 & 0.000 & 0.0000 & 0.000 & 0.0000 & 0.00000 & 0.000 & 0.0000 & 0.0000 & 0.0000 & 0.0000 & 0.0000 & 0.00000 & 0.00000 & 0.00000 & 0.0000 & 0.0000 & 0.0000 & 0.00000 & 0.0000 & 0.0000 & 0.0000 & 0.00000 & 0.0000 & 0.00000 & 0.00000 & 0.0000 & 0.00000 & 0.00000 & 0 & 0.0000 & 0.000 & 0.0000 & 0.00000 & 0.00000 & 0.0000 & 0.000 & 0.00000 & 0.00000 & 0.00000 & 0.00000 & 0.00000 & 0.0000 & 0.0000 & 0.00000 & 0.000 & 0.00000 & 0.0000 & 0.0000 & 0.0000 & 0.00000 & 0.000 & 0.00000 & 0.0000 & 0.0000 & 0.000 & 0.000 & 0.0000 & 0.00000 & 0.00000 & 0.00000 & 0.0000 & 0.0000 & 0.0000 & 0.0000 & 0.00000 & 0.0000 & 0.0000 & 0.0000 & 0.00000 & 0.0000 & 0.0000 & 0.0000 & 0.0000 & 0.00000 & 0.0000 & 0.0000 & 0.00000 & 0.0000 & 0.00000 & 0.000 & 0.00000 & 0.00000 & 0.00000 & 0.00 & 0.0000 & 0.0000 & 0.00000 & 0.00000 & 0.000 & 0.0000 & 0.0000 & 0.00000 & 0.00000 & 0.000 & 0.000 & 0.000 & 0.00000 & 0.0000 & 0.000 & 0.00000 & 0.00000 & 0.000 & 0.000 & 0.00000 & 0.0000 & 0.000 & 0.0000 & 0.000 & 0.0000 & 0.0000 & 0.0000 & 0.00000 & 0.00000 & 0.00000 & 0.00000 & 0.00 & 0.00000 & 0.0000 & 0.000 & 0.000 & 0.000 & 0.000 & 0.0000 & 0.000 & 0.00000 & 0.00000 & 0.0000 & 0.000 & 0.00000 & 0.0000 & 0.0000 & 0.00000 & 0.0000 & 0.0000 & 0.0000 & 0.0000 & 0.0000 & 0.00000 & 0.000 & 0.000000 & 0.0000 & 0.0000 & 0.00000 & 0.00000 & 0.0000 & 0.0000 & 0.0000 & 0.0000 & 0.0000 & 0.0000 & 0.000 & 0.0000 & 0.000 & 0.0000 & 0.00000 & 0.0000 & 0.0000 & 0.00000 & 0.000000 & 0.0000 & 0.00000 & 0.0000 & 0.00000 & 0.0000 & 0.0000 & 0.000 & 0.0000 & 0.0000 & 0.00000 & 0.0000 & 0.000 & 0.0000 & 0.00000 & 0.0000 & 0.0000 & 0.0000 & 0.00000 & 0.0000 & 0.0000 & 0.0000 & 0.00000 & 0.00000 & 0.00000 & 0.0000 & 0.0000 & 0.0000 & 0.0000 & 0.0000 & 0.000 & 0.0000 & 0.0000 & 0.0000 & 0.0000 & 0.1069 & 0.000 & 0.00000 & 0.00000 & 0.000 & 0.0000 & 0.0000 & 0.00000 & 0.0000 & 0.00000 & 0.00000 & 0.00000 & 0.000 & 0.00000 & 0.00000 & 0.00000 & 0.00000 & 0.00000 & 0.00000 & 0.0000 & 0.0000 & 0.00000 & 0.0000 & 0.0000 & 0.0000 & 0.0000 & 0.0000 & 0.0000 & 0.0000 & 0.00000 & 0.00000 & 0.0000 & 0.0000 & 0.0000 & 0.00000 & 0.00000 & 0.0000 & 0.000 & 0.00000 & 0.0000 & 0.00 & 0.0000 & 0.0000 & 0.00000 & 0.0000 & 0.000 & 0.00000 & 0.00000 & 0.0000 & 0.00000 & 0.00000 & 0.000 & 0.0000 & 0.0000 & 0.0000 & 0.00000 & 0.00000 & 0.0000 & 0.0000 & 0.00000 & 0.00000 & 0.0000 & 0.0000 & 0.0000 & 0.0000 & 0.00000 & 0.00 & 0.00000 & 0.0000 & 0.0000 & 0.0000 & 0.00000 & 0.000 & 0.00000 & 0.00000 & 0.000 & 0.0000 & 0.000 & 0.00000 & 0.00000 & 0.00000 & 0.00000 & 0.00000 & 0.000 & 0.0000 & 0.00 & 0.0000 & 0.000 & 0.00000 & 0.0000 & 0.00000 & 0.00000 & 0.000 & 0.0000 & 0.0000 & 0.00000 & 0.0000 & 0.0000 & 0.00000 & 0.000 & 0.000 & 0.00000 & 0.00000 & 0.000 & 0.0000 & 0.00000 & 0.00000 & 0.0000 & 0.00000 & 0.00000 & 0.00000 & 0.000 & 0.0000 & 0.0000 & 0.000 & 0.00000 & 0.15090 & 0.00000 & 0.00000 & 0.0000 & 0.00000 & 0.00000 & 0.00000 & 0.0000 & 0.000 & 0.00000 & 0.0000 & 0.0000 & 0.000 & 0.00000 & 0.0000 & 0.0000 & 0.00000 & 0.0000 & 0.00000 & 0.00000 & 0.00000 & 0.000 & 0.000 & 0.0000 & 0.0000 & 0.0000 & 0.000 & 0.00000 & 0.0000 & 0.000 & 0.00000 & 0.00000 & 0.0000 & 0.0000 & 0.00000 & 0.00 & 0.00000 & 0.000 & 0.00000 & 0.00000 & 0.00000 & 0.000 & 0.0000 & 0.00000 & 0.0000 & 0.000 & 0.000 & 0.00000 & 0.00000 & 0.0000 & 0.00000 & 0.00000 & 0.00000 & 0.0000 & 0.00000 & 0.000 & 0.0000 & 0.00000 & 0.00000 & 0.00000 & 0.00000 & 0.000 & 0.00 & 0.00000 & 0.0000 & 0.000 & 0.0000 & 0.0000 & 0.00000 & 0.00000 & 0.00000 & 0.0000 & 0.00000 & 0.00000 & 0.0000 & 0.0000 & 0.00000 & 0.0000 & 0.00000 & 0.00000 & 0.0000 & 0.0000 & 0.0000 & 0.00000 & 0.00000 & 0.00000 & 0.00000 & ENSG00000228229.2 & RP11-219C24.10\\\\\n",
       "\t ENSG00000237445 &       & 1 & lincRNA        & 0.0000 & 0.00000 & 0.000 & 0.000 & 0.0000 & 0.00000 & 0.0000 & 0.00000 & 0.0000 & 0.0000 & 0.00000 & 0.0000 & 0.0000 & 0.000 & 0.0000 & 0.00000 & 0.00000 & 0.00000 & 0.00000 & 0.0000 & 0.00000 & 0.00000 & 0.000 & 0.000 & 0.00000 & 0.000 & 0.00000 & 0.00000 & 0.00000 & 0.00000 & 0.0000 & 0.000 & 0.0000 & 0.000 & 0.0000 & 0.000000 & 0.000 & 0.0000 & 0.000 & 0.000 & 0.00000 & 0.00000 & 0.0000 & 0.0000 & 0.00000 & 0.000 & 0.0000 & 0.00000 & 0.0000 & 0.000 & 0.0000 & 0.00000 & 0.0000 & 0.00000 & 0.00000 & 0.0000 & 0.0000 & 0.0000 & 0.00000 & 0.0000 & 0.00000 & 0.00000 & 0.00000 & 0.000 & 0.0000 & 0.0000 & 0.000 & 0.000 & 0.00000 & 0.0000 & 0.0000 & 0.0000 & 0.00000 & 0.00000 & 0.0000 & 0.000 & 0.000 & 0.0000 & 0.00000 & 0.0000 & 0.0000 & 0.0000 & 0.00000 & 0.00000 & 0.0000 & 0.00000 & 0.00000 & 0.00000 & 0.0000 & 0.0000 & 0.0000 & 0.0000 & 0.00000 & 0.0000 & 0.00000 & 0.0000 & 0.0000 & 0.00000 & 0.000 & 0.000 & 0.00000 & 0.0000 & 0.0000 & 0.00000 & 0.0000 & 0.0000 & 0.000 & 0.0000 & 0.00000 & 0.00000 & 0.00000 & 0.00000 & 0.00000 & 0.0000 & 0.0000 & 0.00000 & 0.0000 & 0.0000 & 0.0000 & 0.000 & 0.0000 & 0.000 & 0.00000 & 0.000 & 0.00000 & 0.000 & 0.00000 & 0.00000 & 0.00000 & 0.00 & 0.0000 & 0.00000 & 0.000 & 0.0000 & 0.0000 & 0.0000 & 0.000 & 0.00000 & 0.00000 & 0.00000 & 0.000 & 0.0000 & 0.0000 & 0.00000 & 0.00000 & 0.00000 & 0.0000 & 0.00000 & 0.0000 & 0.00000 & 0.000 & 0.00 & 0.00000 & 0.00000 & 0.0000 & 0.000 & 0.0000 & 0.00000 & 0.000 & 0.0000 & 0.00000 & 0.0000 & 0.0000 & 0.00000 & 0.00000 & 0.0000 & 0.000 & 0.00000 & 0.0000 & 0.0000 & 0.0000 & 0.000 & 0.0000 & 0.0000 & 0.0000 & 0.000 & 0.000 & 0.000 & 0.00000 & 0.00000 & 0.0000 & 0.00000 & 0.00000 & 0.000 & 0.0000 & 0.0000 & 0.0000 & 0.0000 & 0.0000 & 0.0000 & 0.00000 & 0.000 & 0.0000 & 0.000 & 0.0000 & 0.00000 & 0.00000 & 0.000 & 0.0000 & 0.00000 & 0.0000 & 0.0000 & 0.00000 & 0.000 & 0.00000 & 0.0000 & 0.0000 & 0.000 & 0.0000 & 0.00000 & 0.000 & 0.00000 & 0.00000 & 0.00000 & 0.0000 & 0.0000 & 0.00000 & 0.00000 & 0.0000 & 0.0000 & 0.00000 & 0.0000 & 0.00000 & 0.00000 & 0.0000 & 0.0000 & 0.00000 & 0.000 & 0.00000 & 0.00000 & 0.0000 & 0.000 & 0.00000 & 0.0000 & 0.00000 & 0.2430 & 0.0000 & 0.00000 & 0.00 & 0.0000 & 0.0000 & 0.00000 & 0.00000 & 0.00000 & 0.0000 & 0.0000 & 0.00000 & 0.000 & 0.000 & 0.00000 & 0.00000 & 0.00000 & 0.00000 & 0.0000 & 0.0000 & 0.0000 & 0.0000 & 0.000 & 0.0000 & 0.000 & 0.0000 & 0.00000 & 0.00000 & 0.0000 & 0.00000 & 0.000 & 0.000 & 0.0000 & 0.0000 & 0.00000 & 0.0000 & 0.00000 & 0.00000 & 0.000 & 0.000 & 0.0000 & 0.00000 & 0.0000 & 0.000 & 0.00000 & 0.000 & 0.000 & 0.00000 & 0.00000 & 0.0000 & 0.0000 & 0.00000 & 0.00000 & 0.0000 & 0.0000 & 0.0000 & 0.0000 & 0.00000 & 0.00000 & 0.00000 & 0.0000 & 0.000 & 0.000 & 0.00000 & 0.0000 & 0.00000 & 0.0000 & 0.0000 & 0.0000 & 0.00000 & 0.0000 & 0.0000 & 0.000 & 0.0000 & 0.00000 & 0.0000 & 0.0000 & 0.000 & 0.0000 & 0.0000 & 0.0000 & 0.0000 & 0.00000 & 0.0000 & 0.0000 & 0.0000 & 0.000000 & 0.000 & 0.0000 & 0.0000 & 0.0000 & 0.0000 & 0.0000 & 0.00000 & 0.00000 & 0.00 & 0.000 & 0.00000 & 0.0000 & 0.00000 & 0.000 & 0.0000 & 0.0000 & 0.0000 & 0.0000 & 0.00000 & 0.0000 & 0.0000 & 0.00000 & 0.00000 & 0.0000 & 0.000 & 0.0000 & 0.000 & 0.00000 & 0.0000 & 0.0000 & 0.0000 & 0.00000 & 0.00000 & 0.000 & 0.00000 & 0.0000 & 0.0000 & 0.000 & 0.0000 & 0.000 & 0.0000 & 0.00000 & 0.000 & 0.0000 & 0.0000 & 0.0000 & 0.0000 & 0.0000 & 0.00000 & 0.00000 & 0.00000 & 0.0000 & 0.0000 & 0.0000 & 0.00000 & 0.0000 & 0.0000 & 0.0000 & 0.00000 & 0.0000 & 0.00000 & 0.00000 & 0.0000 & 0.00000 & 0.00000 & 0 & 0.0000 & 0.000 & 0.0000 & 0.00000 & 0.05971 & 0.0000 & 0.000 & 0.00000 & 0.00000 & 0.00000 & 0.00000 & 0.00000 & 0.0000 & 0.0000 & 0.00000 & 0.000 & 0.00000 & 0.0000 & 0.0000 & 0.0000 & 0.00000 & 0.000 & 0.00000 & 0.0000 & 0.0000 & 0.000 & 0.000 & 0.0000 & 0.00000 & 0.00000 & 0.00000 & 0.0000 & 0.0000 & 0.0000 & 0.0000 & 0.00000 & 0.0000 & 0.0000 & 0.0000 & 0.00000 & 0.0000 & 0.0000 & 0.0000 & 0.0000 & 0.00000 & 0.0000 & 0.0000 & 0.00000 & 0.0000 & 0.00000 & 0.000 & 0.00000 & 0.00000 & 0.00000 & 0.00 & 0.0000 & 0.0000 & 0.00000 & 0.00000 & 0.000 & 0.0000 & 0.0000 & 0.00000 & 0.00000 & 0.000 & 0.000 & 0.000 & 0.00000 & 0.0000 & 0.000 & 0.00000 & 0.00000 & 0.000 & 0.000 & 0.00000 & 0.0000 & 0.000 & 0.0000 & 0.000 & 0.0000 & 0.0000 & 0.0000 & 0.00000 & 0.00000 & 0.00000 & 0.00000 & 0.00 & 0.00000 & 0.0000 & 0.000 & 0.000 & 0.000 & 0.000 & 0.0000 & 0.000 & 0.00000 & 0.00000 & 0.0000 & 0.000 & 0.00000 & 0.0000 & 0.0000 & 0.00000 & 0.0000 & 0.0000 & 0.0000 & 0.0000 & 0.0000 & 0.00000 & 0.000 & 0.000000 & 0.0000 & 0.0000 & 0.00000 & 0.00000 & 0.0000 & 0.0000 & 0.0000 & 0.0000 & 0.0000 & 0.0000 & 0.000 & 0.0000 & 0.000 & 0.0000 & 0.00000 & 0.0000 & 0.0000 & 0.00000 & 0.000000 & 0.0000 & 0.00000 & 0.0000 & 0.00000 & 0.0000 & 0.0000 & 0.000 & 0.0000 & 0.0000 & 0.00000 & 0.0000 & 0.000 & 0.0000 & 0.00000 & 0.1464 & 0.0000 & 0.0000 & 0.00000 & 0.0000 & 0.0000 & 0.0000 & 0.00000 & 0.00000 & 0.00000 & 0.0000 & 0.0000 & 0.0000 & 0.0000 & 0.0000 & 0.000 & 0.0000 & 0.0000 & 0.0000 & 0.0000 & 0.0000 & 0.000 & 0.00000 & 0.00000 & 0.000 & 0.0000 & 0.0000 & 0.00000 & 0.0000 & 0.00000 & 0.00000 & 0.00000 & 0.000 & 0.00000 & 0.00000 & 0.00000 & 0.00000 & 0.00000 & 0.00000 & 0.0000 & 0.0000 & 0.00000 & 0.0000 & 0.0000 & 0.0000 & 0.0000 & 0.0000 & 0.0000 & 0.0000 & 0.00000 & 0.00000 & 0.0000 & 0.0000 & 0.0000 & 0.00000 & 0.00000 & 0.0000 & 0.000 & 0.00000 & 0.0000 & 0.00 & 0.0000 & 0.0000 & 0.00000 & 0.0000 & 0.000 & 0.00000 & 0.00000 & 0.0000 & 0.00000 & 0.00000 & 0.000 & 0.0000 & 0.0000 & 0.0000 & 0.00000 & 0.00000 & 0.0000 & 0.0000 & 0.00000 & 0.00000 & 0.0000 & 0.0000 & 0.0000 & 0.0000 & 0.00000 & 0.00 & 0.00000 & 0.0000 & 0.0000 & 0.0000 & 0.00000 & 0.000 & 0.00000 & 0.00000 & 0.000 & 0.0000 & 0.000 & 0.00000 & 0.00000 & 0.00000 & 0.00000 & 0.00000 & 0.000 & 0.0000 & 0.00 & 0.0000 & 0.000 & 0.00000 & 0.0000 & 0.00000 & 0.00000 & 0.000 & 0.0000 & 0.0000 & 0.00000 & 0.0000 & 0.0000 & 0.00000 & 0.000 & 0.000 & 0.00000 & 0.00000 & 0.000 & 0.0000 & 0.00000 & 0.00000 & 0.0000 & 0.00000 & 0.00000 & 0.00000 & 0.000 & 0.0000 & 0.0000 & 0.000 & 0.00000 & 0.00000 & 0.00000 & 0.00000 & 0.0000 & 0.00000 & 0.00000 & 0.00000 & 0.0000 & 0.000 & 0.00000 & 0.0000 & 0.0000 & 0.000 & 0.00000 & 0.0000 & 0.0000 & 0.00000 & 0.0000 & 0.00000 & 0.00000 & 0.00000 & 0.000 & 0.000 & 0.0000 & 0.0000 & 0.0000 & 0.000 & 0.00000 & 0.0000 & 0.000 & 0.00000 & 0.00000 & 0.0000 & 0.0000 & 0.00000 & 0.00 & 0.00000 & 0.000 & 0.00000 & 0.00000 & 0.00000 & 0.000 & 0.0000 & 0.00000 & 0.0000 & 0.000 & 0.000 & 0.00000 & 0.00000 & 0.0000 & 0.00000 & 0.00000 & 0.00000 & 0.0000 & 0.00000 & 0.000 & 0.0000 & 0.00000 & 0.00000 & 0.00000 & 0.00000 & 0.000 & 0.00 & 0.00000 & 0.0000 & 0.000 & 0.0000 & 0.0000 & 0.00000 & 0.00000 & 0.06938 & 0.0000 & 0.00000 & 0.00000 & 0.0000 & 0.0000 & 0.00000 & 0.0000 & 0.00000 & 0.00000 & 0.0000 & 0.0000 & 0.0000 & 0.00000 & 0.00000 & 0.00000 & 0.00000 & ENSG00000237445.2 & CTA-520D8.2   \\\\\n",
       "\t ENSG00000231606 &       & 1 & lincRNA        & 0.0000 & 0.00000 & 0.000 & 0.000 & 0.0000 & 0.00000 & 0.0000 & 0.00000 & 0.0000 & 0.0000 & 0.00000 & 0.0000 & 0.0000 & 0.000 & 0.0000 & 0.00000 & 0.00000 & 0.00000 & 0.00000 & 0.0000 & 0.00000 & 0.00000 & 0.000 & 0.000 & 0.00000 & 0.000 & 0.00000 & 0.00000 & 0.00000 & 0.00000 & 0.0000 & 0.000 & 0.0000 & 0.000 & 0.0000 & 0.000000 & 0.000 & 0.0000 & 0.000 & 0.000 & 0.00000 & 0.00000 & 0.0000 & 0.0000 & 0.00000 & 0.000 & 0.0000 & 0.00000 & 0.0000 & 0.000 & 0.0000 & 0.00000 & 0.0000 & 0.00000 & 0.00000 & 0.0000 & 0.0000 & 0.0000 & 0.00000 & 0.0000 & 0.00000 & 0.00000 & 0.00000 & 0.000 & 0.0000 & 0.0000 & 0.000 & 0.000 & 0.00000 & 0.0000 & 0.0000 & 0.0000 & 0.00000 & 0.00000 & 0.0000 & 0.000 & 0.000 & 0.0000 & 0.00000 & 0.0000 & 0.0000 & 0.0000 & 0.00000 & 0.00000 & 0.0000 & 0.00000 & 0.00000 & 0.00000 & 0.0000 & 0.0000 & 0.0000 & 0.0000 & 0.00000 & 0.0000 & 0.00000 & 0.0000 & 0.0000 & 0.00000 & 0.000 & 0.000 & 0.00000 & 0.0000 & 0.0000 & 0.00000 & 0.0000 & 0.0000 & 0.000 & 0.0000 & 0.00000 & 0.00000 & 0.00000 & 0.00000 & 0.00000 & 0.0000 & 0.0000 & 0.00000 & 0.0000 & 0.0000 & 0.0000 & 0.000 & 0.0000 & 0.000 & 0.00000 & 0.000 & 0.00000 & 0.000 & 0.00000 & 0.00000 & 0.00000 & 0.00 & 0.0000 & 0.00000 & 0.000 & 0.0000 & 0.0000 & 0.0000 & 0.000 & 0.00000 & 0.00000 & 0.00000 & 0.000 & 0.0000 & 0.0000 & 0.00000 & 0.00000 & 0.00000 & 0.0000 & 0.11200 & 0.0000 & 0.00000 & 0.000 & 0.00 & 0.00000 & 0.00000 & 0.0000 & 0.000 & 0.0000 & 0.00000 & 0.000 & 0.0000 & 0.00000 & 0.0000 & 0.0000 & 0.00000 & 0.00000 & 0.0000 & 0.000 & 0.00000 & 0.3727 & 0.0000 & 0.0000 & 0.000 & 0.0000 & 0.0000 & 0.0000 & 0.000 & 0.000 & 0.000 & 0.00000 & 0.00000 & 0.0000 & 0.00000 & 0.00000 & 0.000 & 0.0000 & 0.0000 & 0.0000 & 0.0000 & 0.0000 & 0.0000 & 0.00000 & 0.000 & 0.0000 & 0.000 & 0.0000 & 0.00000 & 0.00000 & 0.000 & 0.0000 & 0.00000 & 0.0000 & 0.0000 & 0.00000 & 0.000 & 0.00000 & 0.0000 & 0.0000 & 0.000 & 0.0000 & 0.00000 & 0.000 & 0.00000 & 0.00000 & 0.00000 & 0.0000 & 0.0000 & 0.00000 & 0.00000 & 0.0000 & 0.0000 & 0.00000 & 0.0000 & 0.00000 & 0.00000 & 0.0000 & 0.0000 & 0.00000 & 0.000 & 0.00000 & 0.00000 & 0.0000 & 0.000 & 0.00000 & 0.0000 & 0.00000 & 0.0000 & 0.0000 & 0.00000 & 0.00 & 0.0000 & 0.0000 & 0.00000 & 0.00000 & 0.00000 & 0.0000 & 0.0000 & 0.00000 & 0.000 & 0.000 & 0.00000 & 0.00000 & 0.00000 & 0.00000 & 0.0000 & 0.0000 & 0.0000 & 0.0000 & 0.000 & 0.0000 & 0.000 & 0.0000 & 0.00000 & 0.00000 & 0.0000 & 0.00000 & 0.000 & 0.000 & 0.0000 & 0.0000 & 0.00000 & 0.0000 & 0.00000 & 0.00000 & 0.000 & 0.000 & 0.0000 & 0.00000 & 0.0000 & 0.000 & 0.00000 & 0.000 & 0.000 & 0.00000 & 0.00000 & 0.0000 & 0.0000 & 0.00000 & 0.00000 & 0.0000 & 0.0000 & 0.0000 & 0.0000 & 0.00000 & 0.00000 & 0.00000 & 0.0000 & 0.000 & 0.000 & 0.00000 & 0.0000 & 0.00000 & 0.0000 & 0.0000 & 0.0000 & 0.00000 & 0.0000 & 0.0000 & 0.000 & 0.0000 & 0.00000 & 0.0000 & 0.0000 & 0.000 & 0.0000 & 0.0000 & 0.0000 & 0.0000 & 0.00000 & 0.0000 & 0.0000 & 0.0000 & 0.000000 & 0.000 & 0.0000 & 0.0000 & 0.0000 & 0.0000 & 0.0000 & 0.00000 & 0.00000 & 0.00 & 0.000 & 0.00000 & 0.0000 & 0.00000 & 0.000 & 0.0000 & 0.0000 & 0.0000 & 0.0000 & 0.00000 & 0.0000 & 0.0000 & 0.00000 & 0.00000 & 0.0000 & 0.000 & 0.0000 & 0.000 & 0.00000 & 0.0000 & 0.0000 & 0.0000 & 0.00000 & 0.00000 & 0.000 & 0.00000 & 0.0000 & 0.0000 & 0.000 & 0.0000 & 0.000 & 0.0000 & 0.00000 & 0.000 & 0.0000 & 0.0000 & 0.0000 & 0.0000 & 0.0000 & 0.00000 & 0.00000 & 0.00000 & 0.0000 & 0.0000 & 0.0000 & 0.00000 & 0.0000 & 0.0000 & 0.0000 & 0.00000 & 0.0000 & 0.00000 & 0.00000 & 0.0000 & 0.00000 & 0.00000 & 0 & 0.0000 & 0.000 & 0.0000 & 0.00000 & 0.00000 & 0.0000 & 0.000 & 0.00000 & 0.00000 & 0.00000 & 0.00000 & 0.00000 & 0.0000 & 0.0000 & 0.00000 & 0.000 & 0.00000 & 0.0000 & 0.0000 & 0.0000 & 0.00000 & 0.000 & 0.00000 & 0.0000 & 0.0000 & 0.000 & 0.000 & 0.0000 & 0.00000 & 0.00000 & 0.00000 & 0.0000 & 0.0000 & 0.0000 & 0.0000 & 0.00000 & 0.0000 & 0.0000 & 0.0000 & 0.00000 & 0.0000 & 0.0000 & 0.0000 & 0.0000 & 0.00000 & 0.0000 & 0.0000 & 0.00000 & 0.0000 & 0.00000 & 0.000 & 0.00000 & 0.00000 & 0.00000 & 0.00 & 0.0000 & 0.0000 & 0.00000 & 0.00000 & 0.000 & 0.0000 & 0.0000 & 0.09366 & 0.00000 & 0.000 & 0.000 & 0.000 & 0.00000 & 0.0000 & 0.000 & 0.00000 & 0.00000 & 0.000 & 0.000 & 0.00000 & 0.0000 & 0.000 & 0.0000 & 0.000 & 0.0000 & 0.0000 & 0.0000 & 0.00000 & 0.00000 & 0.00000 & 0.00000 & 0.00 & 0.00000 & 0.0000 & 0.000 & 0.000 & 0.000 & 0.000 & 0.0000 & 0.000 & 0.00000 & 0.00000 & 0.0000 & 0.000 & 0.00000 & 0.0000 & 0.0000 & 0.00000 & 0.0000 & 0.0000 & 0.0000 & 0.0000 & 0.0000 & 0.00000 & 0.000 & 0.000000 & 0.0000 & 0.0000 & 0.00000 & 0.00000 & 0.0000 & 0.0000 & 0.0000 & 0.0000 & 0.0000 & 0.0000 & 0.000 & 0.0000 & 0.000 & 0.0000 & 0.00000 & 0.0000 & 0.0000 & 0.00000 & 0.000000 & 0.0000 & 0.00000 & 0.0000 & 0.00000 & 0.0000 & 0.0000 & 0.000 & 0.0000 & 0.0000 & 0.00000 & 0.0000 & 0.000 & 0.0000 & 0.00000 & 0.0000 & 0.0000 & 0.0000 & 0.00000 & 0.0000 & 0.0000 & 0.0000 & 0.00000 & 0.00000 & 0.00000 & 0.0000 & 0.0000 & 0.0000 & 0.0000 & 0.0000 & 0.000 & 0.0000 & 0.0000 & 0.0000 & 0.0000 & 0.0000 & 0.000 & 0.00000 & 0.00000 & 0.000 & 0.0000 & 0.0000 & 0.00000 & 0.0000 & 0.00000 & 0.00000 & 0.00000 & 0.000 & 0.00000 & 0.00000 & 0.24620 & 0.00000 & 0.00000 & 0.00000 & 0.0000 & 0.0000 & 0.00000 & 0.0000 & 0.0000 & 0.0000 & 0.0000 & 0.0000 & 0.0000 & 0.0000 & 0.00000 & 0.00000 & 0.0000 & 0.0000 & 0.0000 & 0.00000 & 0.00000 & 0.0000 & 0.000 & 0.00000 & 0.0000 & 0.00 & 0.0000 & 0.0000 & 0.00000 & 0.3465 & 0.000 & 0.00000 & 0.00000 & 0.0000 & 0.00000 & 0.00000 & 0.000 & 0.0000 & 0.0000 & 0.0000 & 0.00000 & 0.00000 & 0.0000 & 0.0000 & 0.00000 & 0.00000 & 0.0000 & 0.0000 & 0.0000 & 0.0000 & 0.00000 & 0.00 & 0.00000 & 0.0000 & 0.0000 & 0.0000 & 0.00000 & 0.000 & 0.00000 & 0.00000 & 0.000 & 0.0000 & 0.000 & 0.00000 & 0.00000 & 0.00000 & 0.00000 & 0.00000 & 0.000 & 0.0000 & 0.00 & 0.0000 & 0.000 & 0.00000 & 0.0000 & 0.00000 & 0.00000 & 0.000 & 0.0000 & 0.0000 & 0.00000 & 0.0000 & 0.0000 & 0.00000 & 0.000 & 0.000 & 0.00000 & 0.00000 & 0.283 & 0.0000 & 0.00000 & 0.00000 & 0.0000 & 0.00000 & 0.00000 & 0.00000 & 0.000 & 0.0000 & 0.0000 & 0.000 & 0.00000 & 0.00000 & 0.00000 & 0.00000 & 0.0000 & 0.00000 & 0.00000 & 0.00000 & 0.0000 & 0.000 & 0.00000 & 0.0000 & 0.0000 & 0.000 & 0.00000 & 0.0000 & 0.0000 & 0.00000 & 0.0000 & 0.00000 & 0.00000 & 0.00000 & 0.000 & 0.000 & 0.0000 & 0.0000 & 0.0000 & 0.000 & 0.00000 & 0.0000 & 0.000 & 0.00000 & 0.00000 & 0.0000 & 0.0000 & 0.00000 & 0.00 & 0.00000 & 0.000 & 0.00000 & 0.00000 & 0.00000 & 0.000 & 0.0000 & 0.00000 & 0.0000 & 0.000 & 0.000 & 0.00000 & 0.00000 & 0.0000 & 0.00000 & 0.00000 & 0.12090 & 0.0000 & 0.00000 & 0.000 & 0.0000 & 0.00000 & 0.00000 & 0.00000 & 0.00000 & 0.000 & 0.00 & 0.00000 & 0.0000 & 0.000 & 0.0000 & 0.0000 & 0.00000 & 0.00000 & 0.00000 & 0.0000 & 0.00000 & 0.00000 & 0.0000 & 0.0000 & 0.00000 & 0.0000 & 0.00000 & 0.00000 & 0.0000 & 0.0000 & 0.0000 & 0.00000 & 0.00000 & 0.00000 & 0.00000 & ENSG00000231606.1 & RP11-344F13.1 \\\\\n",
       "\t ENSG00000234593 &       & 1 & lincRNA        & 0.0000 & 0.00000 & 0.000 & 0.000 & 0.0000 & 0.00000 & 0.0000 & 0.00000 & 0.0000 & 0.0000 & 0.00000 & 0.0000 & 0.0000 & 0.000 & 0.0000 & 0.00000 & 0.00000 & 0.00000 & 0.00000 & 0.0000 & 0.03116 & 0.00000 & 0.000 & 0.000 & 0.00000 & 0.000 & 0.03488 & 0.11240 & 0.00000 & 0.00000 & 0.0000 & 0.000 & 0.0000 & 0.000 & 0.0000 & 0.000000 & 0.000 & 0.0000 & 0.000 & 0.000 & 0.00000 & 0.00000 & 0.0000 & 0.0000 & 0.00000 & 0.000 & 0.0000 & 0.00000 & 0.0000 & 0.000 & 0.0000 & 0.00000 & 0.0000 & 0.00000 & 0.00000 & 0.0000 & 0.0000 & 0.0000 & 0.00000 & 0.0000 & 0.00000 & 0.00000 & 0.00000 & 0.000 & 0.0000 & 0.0000 & 0.000 & 0.000 & 0.00000 & 0.0000 & 0.0000 & 0.0000 & 0.00000 & 0.00000 & 0.0000 & 0.000 & 0.000 & 0.0000 & 0.00000 & 0.0000 & 0.0000 & 0.0000 & 0.00000 & 0.00000 & 0.0000 & 0.00000 & 0.00000 & 0.00000 & 0.0000 & 0.0000 & 0.0000 & 0.0000 & 0.00000 & 0.0000 & 0.00000 & 0.0000 & 0.0000 & 0.00000 & 0.000 & 0.000 & 0.00000 & 0.0000 & 0.0000 & 0.00000 & 0.0000 & 0.0000 & 0.000 & 0.0000 & 0.00000 & 0.00000 & 0.00000 & 0.00000 & 0.00000 & 0.0000 & 0.0000 & 0.00000 & 0.0000 & 0.0000 & 0.0000 & 0.000 & 0.0000 & 0.000 & 0.00000 & 0.000 & 0.00000 & 0.000 & 0.00000 & 0.00000 & 0.00000 & 0.00 & 0.0000 & 0.00000 & 0.000 & 0.0000 & 0.0000 & 0.0000 & 0.000 & 0.00000 & 0.00000 & 0.00000 & 0.000 & 0.0000 & 0.0000 & 0.00000 & 0.00000 & 0.00000 & 0.0000 & 0.00000 & 0.0000 & 0.00000 & 0.000 & 0.00 & 0.00000 & 0.00000 & 0.0000 & 0.000 & 0.0000 & 0.00000 & 0.000 & 0.0000 & 0.00000 & 0.0000 & 0.0000 & 0.00000 & 0.00000 & 0.0000 & 0.000 & 0.00000 & 0.0000 & 0.0000 & 0.0000 & 0.000 & 0.0000 & 0.0000 & 0.0000 & 0.000 & 0.000 & 0.000 & 0.00000 & 0.00000 & 0.0000 & 0.00000 & 0.05651 & 0.000 & 0.0000 & 0.0000 & 0.0000 & 0.0000 & 0.0000 & 0.0000 & 0.00000 & 0.000 & 0.0000 & 0.000 & 0.0000 & 0.00000 & 0.00000 & 0.000 & 0.0000 & 0.00000 & 0.0000 & 0.0000 & 0.00000 & 0.000 & 0.00000 & 0.0000 & 0.0000 & 0.000 & 0.0000 & 0.00000 & 0.000 & 0.00000 & 0.00000 & 0.00000 & 0.0000 & 0.0000 & 0.00000 & 0.00000 & 0.0000 & 0.0000 & 0.00000 & 0.0000 & 0.00000 & 0.00000 & 0.0000 & 0.0000 & 0.00000 & 0.000 & 0.05968 & 0.00000 & 0.0000 & 0.000 & 0.00000 & 0.0000 & 0.00000 & 0.0000 & 0.0000 & 0.00000 & 0.00 & 0.0000 & 0.0000 & 0.00000 & 0.00000 & 0.00000 & 0.0000 & 0.0000 & 0.00000 & 0.000 & 0.000 & 0.00000 & 0.00000 & 0.00000 & 0.00000 & 0.0000 & 0.0000 & 0.0000 & 0.0000 & 0.000 & 0.0000 & 0.000 & 0.0000 & 0.00000 & 0.00000 & 0.0000 & 0.00000 & 0.000 & 0.000 & 0.0000 & 0.0000 & 0.00000 & 0.0000 & 0.00000 & 0.00000 & 0.000 & 0.000 & 0.0000 & 0.00000 & 0.0000 & 0.000 & 0.00000 & 0.000 & 0.000 & 0.00000 & 0.00000 & 0.0000 & 0.0000 & 0.00000 & 0.00000 & 0.0000 & 0.0000 & 0.0000 & 0.0000 & 0.00000 & 0.00000 & 0.00000 & 0.0000 & 0.000 & 0.000 & 0.00000 & 0.0000 & 0.00000 & 0.0000 & 0.0000 & 0.0000 & 0.00000 & 0.0000 & 0.0000 & 0.000 & 0.0000 & 0.00000 & 0.0000 & 0.0000 & 0.000 & 0.0000 & 0.0000 & 0.0000 & 0.0527 & 0.00000 & 0.0000 & 0.0000 & 0.0000 & 0.000000 & 0.000 & 0.0000 & 0.0000 & 0.0000 & 0.0000 & 0.0000 & 0.00000 & 0.00000 & 0.00 & 0.000 & 0.00000 & 0.0000 & 0.00000 & 0.000 & 0.0000 & 0.0000 & 0.0000 & 0.0000 & 0.00000 & 0.0000 & 0.0000 & 0.00000 & 0.00000 & 0.0000 & 0.000 & 0.0000 & 0.000 & 0.05865 & 0.0000 & 0.0000 & 0.0000 & 0.00000 & 0.00000 & 0.000 & 0.00000 & 0.0000 & 0.0000 & 0.000 & 0.0000 & 0.000 & 0.0000 & 0.00000 & 0.000 & 0.0000 & 0.0000 & 0.0000 & 0.0000 & 0.0000 & 0.00000 & 0.00000 & 0.00000 & 0.0000 & 0.0000 & 0.0000 & 0.00000 & 0.0000 & 0.0000 & 0.0000 & 0.00000 & 0.0000 & 0.00000 & 0.00000 & 0.0000 & 0.00000 & 0.00000 & 0 & 0.0000 & 0.000 & 0.0000 & 0.00000 & 0.00000 & 0.0000 & 0.000 & 0.00000 & 0.00000 & 0.00000 & 0.00000 & 0.00000 & 0.0000 & 0.0000 & 0.03746 & 0.000 & 0.00000 & 0.0000 & 0.0000 & 0.0000 & 0.00000 & 0.000 & 0.00000 & 0.0000 & 0.0000 & 0.000 & 0.000 & 0.0000 & 0.00000 & 0.00000 & 0.00000 & 0.0000 & 0.0000 & 0.0000 & 0.0000 & 0.00000 & 0.0000 & 0.0000 & 0.0000 & 0.00000 & 0.0000 & 0.0000 & 0.0000 & 0.0000 & 0.00000 & 0.0000 & 0.0000 & 0.00000 & 0.0000 & 0.00000 & 0.000 & 0.00000 & 0.00000 & 0.00000 & 0.00 & 0.0000 & 0.0000 & 0.00000 & 0.00000 & 0.000 & 0.0000 & 0.0000 & 0.03457 & 0.00000 & 0.000 & 0.000 & 0.000 & 0.00000 & 0.0000 & 0.000 & 0.00000 & 0.00000 & 0.000 & 0.000 & 0.00000 & 0.0000 & 0.000 & 0.0000 & 0.000 & 0.0000 & 0.0000 & 0.0000 & 0.00000 & 0.00000 & 0.00000 & 0.00000 & 0.00 & 0.00000 & 0.0000 & 0.000 & 0.000 & 0.000 & 0.000 & 0.0000 & 0.000 & 0.00000 & 0.00000 & 0.0000 & 0.000 & 0.00000 & 0.0000 & 0.0000 & 0.00000 & 0.0000 & 0.0000 & 0.0000 & 0.0000 & 0.0000 & 0.00000 & 0.000 & 0.000000 & 0.0000 & 0.0000 & 0.00000 & 0.00000 & 0.0000 & 0.0000 & 0.0000 & 0.0000 & 0.0000 & 0.0000 & 0.000 & 0.0000 & 0.000 & 0.0000 & 0.00000 & 0.0000 & 0.0000 & 0.00000 & 0.000000 & 0.0000 & 0.00000 & 0.0000 & 0.00000 & 0.0000 & 0.0000 & 0.000 & 0.0000 & 0.0000 & 0.00000 & 0.0000 & 0.000 & 0.0000 & 0.00000 & 0.0000 & 0.0000 & 0.0000 & 0.00000 & 0.0000 & 0.0000 & 0.0000 & 0.00000 & 0.00000 & 0.00000 & 0.0000 & 0.0000 & 0.0000 & 0.0000 & 0.0000 & 0.000 & 0.0000 & 0.0000 & 0.0000 & 0.0000 & 0.0000 & 0.000 & 0.00000 & 0.00000 & 0.000 & 0.0000 & 0.0000 & 0.00000 & 0.0000 & 0.00000 & 0.00000 & 0.00000 & 0.000 & 0.00000 & 0.00000 & 0.00000 & 0.00000 & 0.00000 & 0.00000 & 0.0000 & 0.0000 & 0.00000 & 0.0000 & 0.0000 & 0.0000 & 0.0000 & 0.0000 & 0.0000 & 0.2636 & 0.00000 & 0.00000 & 0.0000 & 0.0000 & 0.0000 & 0.00000 & 0.00000 & 0.0000 & 0.000 & 0.00000 & 0.0000 & 0.00 & 0.0000 & 0.0000 & 0.00000 & 0.0000 & 0.000 & 0.00000 & 0.00000 & 0.0000 & 0.00000 & 0.00000 & 0.000 & 0.0000 & 0.0000 & 0.0462 & 0.00000 & 0.00000 & 0.0000 & 0.0000 & 0.00000 & 0.00000 & 0.0000 & 0.0000 & 0.0000 & 0.0000 & 0.00000 & 0.00 & 0.00000 & 0.0000 & 0.0000 & 0.0000 & 0.00000 & 0.000 & 0.00000 & 0.00000 & 0.000 & 0.0000 & 0.000 & 0.00000 & 0.00000 & 0.00000 & 0.00000 & 0.00000 & 0.000 & 0.0000 & 0.00 & 0.0000 & 0.000 & 0.00000 & 0.0000 & 0.00000 & 0.00000 & 0.000 & 0.0000 & 0.0000 & 0.00000 & 0.0000 & 0.0000 & 0.00000 & 0.000 & 0.000 & 0.00000 & 0.03670 & 0.000 & 0.0000 & 0.00000 & 0.00000 & 0.0000 & 0.00000 & 0.00000 & 0.00000 & 0.000 & 0.0000 & 0.0000 & 0.000 & 0.00000 & 0.07584 & 0.00000 & 0.00000 & 0.0000 & 0.00000 & 0.00000 & 0.00000 & 0.0000 & 0.000 & 0.00000 & 0.0000 & 0.0000 & 0.000 & 0.00000 & 0.0000 & 0.0000 & 0.00000 & 0.0000 & 0.00000 & 0.00000 & 0.00000 & 0.000 & 0.000 & 0.0000 & 0.0000 & 0.0000 & 0.000 & 0.00000 & 0.0000 & 0.000 & 0.00000 & 0.00000 & 0.0000 & 0.0000 & 0.00000 & 0.00 & 0.00000 & 0.000 & 0.00000 & 0.00000 & 0.00000 & 0.000 & 0.0000 & 0.06079 & 0.0000 & 0.000 & 0.000 & 0.00000 & 0.00000 & 0.0000 & 0.00000 & 0.00000 & 0.00000 & 0.0000 & 0.00000 & 0.000 & 0.0000 & 0.00000 & 0.00000 & 0.00000 & 0.00000 & 0.000 & 0.00 & 0.00000 & 0.0000 & 0.000 & 0.0000 & 0.0000 & 0.00000 & 0.00000 & 0.00000 & 0.0000 & 0.00000 & 0.00000 & 0.0000 & 0.0000 & 0.00000 & 0.0000 & 0.07303 & 0.00000 & 0.0000 & 0.0000 & 0.0000 & 0.00000 & 0.00000 & 0.00000 & 0.00000 & ENSG00000234593.2 & RP4-704D23.1  \\\\\n",
       "\t ENSG00000228140 &       & 1 & lincRNA        & 0.5148 & 1.62100 & 0.678 & 2.237 & 0.1405 & 0.05083 & 0.2413 & 0.06821 & 0.0972 & 0.1468 & 1.56600 & 0.4188 & 0.4902 & 0.361 & 0.3983 & 1.46000 & 0.05693 & 0.18640 & 0.29880 & 0.1865 & 0.11950 & 0.08393 & 2.101 & 2.618 & 0.04562 & 1.287 & 0.07720 & 0.45630 & 0.14070 & 0.04516 & 0.9814 & 1.277 & 0.7718 & 0.123 & 0.5277 & 0.008231 & 0.469 & 0.1423 & 0.979 & 0.751 & 0.82690 & 1.07300 & 0.2891 & 0.3918 & 0.03638 & 1.288 & 0.2955 & 1.15000 & 0.1706 & 0.119 & 0.2735 & 0.24910 & 0.2134 & 1.47300 & 0.70420 & 0.4614 & 0.5666 & 0.4763 & 1.03100 & 0.4323 & 0.20700 & 0.51960 & 0.30680 & 1.057 & 0.4817 & 0.6573 & 0.207 & 1.745 & 0.02007 & 0.6595 & 0.7502 & 0.3342 & 0.31650 & 0.06384 & 0.3642 & 0.396 & 1.013 & 0.1154 & 0.26440 & 0.7733 & 0.2060 & 0.1954 & 0.14340 & 0.94740 & 0.8222 & 0.45810 & 0.98490 & 0.73390 & 0.2421 & 0.6755 & 0.1477 & 0.2912 & 0.39130 & 0.4302 & 0.06925 & 0.1199 & 0.2744 & 0.08256 & 1.641 & 1.782 & 0.42360 & 0.3321 & 0.3446 & 0.50650 & 0.2099 & 0.4793 & 1.495 & 0.4834 & 0.05998 & 0.43300 & 0.06727 & 0.05063 & 0.09434 & 0.3633 & 0.1995 & 1.12900 & 0.3113 & 0.5157 & 0.4544 & 0.435 & 0.2665 & 1.016 & 0.45210 & 2.494 & 0.06033 & 1.765 & 0.05853 & 0.17730 & 0.08618 & 0.27 & 0.3582 & 1.16500 & 0.259 & 0.0845 & 0.4304 & 0.8541 & 1.403 & 2.05400 & 0.06982 & 0.08626 & 1.398 & 0.8535 & 0.9973 & 0.12680 & 0.08176 & 0.04022 & 0.3666 & 1.21300 & 0.8533 & 0.33960 & 0.971 & 1.94 & 0.52930 & 0.89490 & 0.6681 & 2.578 & 0.2750 & 0.17530 & 1.333 & 0.1156 & 0.08638 & 0.2152 & 0.1072 & 0.77530 & 0.15410 & 0.7265 & 1.859 & 0.84700 & 0.7105 & 0.5680 & 0.2705 & 1.161 & 0.1236 & 0.6448 & 0.6811 & 1.364 & 1.891 & 2.291 & 0.05838 & 0.23740 & 0.3303 & 1.10800 & 0.46690 & 1.188 & 0.3101 & 0.7550 & 0.5673 & 0.7071 & 0.7276 & 0.5786 & 0.01086 & 1.974 & 0.4324 & 0.606 & 0.7361 & 0.43720 & 1.41300 & 1.901 & 0.3006 & 0.02446 & 0.8187 & 0.5081 & 0.64080 & 1.071 & 0.05202 & 0.4701 & 0.5746 & 0.549 & 0.4906 & 0.36490 & 0.913 & 0.02289 & 0.14840 & 0.19480 & 0.6682 & 0.8595 & 0.17390 & 0.01733 & 0.4216 & 0.2145 & 0.22410 & 0.4682 & 0.16340 & 0.02518 & 0.1023 & 0.4508 & 1.08100 & 1.012 & 0.18490 & 0.22880 & 0.4973 & 1.314 & 0.49520 & 0.3835 & 0.01642 & 0.5335 & 0.4052 & 0.93570 & 1.72 & 0.2798 & 0.7386 & 0.09906 & 0.04905 & 0.05753 & 0.2386 & 0.2480 & 1.16500 & 1.821 & 1.085 & 0.37440 & 0.74960 & 1.23900 & 0.46050 & 0.8486 & 1.4880 & 0.2044 & 0.1703 & 0.393 & 0.2646 & 1.076 & 0.2382 & 0.55960 & 0.38560 & 0.2694 & 0.07348 & 1.568 & 1.174 & 0.1124 & 0.1605 & 0.74090 & 0.0343 & 0.15860 & 0.00000 & 2.171 & 0.814 & 0.6282 & 0.18790 & 0.1048 & 1.147 & 0.08758 & 0.137 & 0.161 & 0.45100 & 0.07414 & 0.1307 & 0.1929 & 0.08741 & 0.44290 & 0.1696 & 0.1522 & 0.0902 & 0.7586 & 0.45390 & 0.08488 & 0.62340 & 0.3325 & 0.497 & 1.273 & 0.79400 & 0.2685 & 0.03372 & 0.5004 & 0.1364 & 0.9681 & 0.09955 & 0.1907 & 0.1913 & 0.236 & 0.9107 & 0.05643 & 0.2191 & 0.1941 & 1.446 & 0.1283 & 0.3295 & 0.7824 & 0.2566 & 0.55380 & 0.1113 & 0.7213 & 0.3882 & 0.008861 & 1.329 & 0.1131 & 0.1252 & 0.1148 & 0.1461 & 0.1457 & 0.03867 & 0.09422 & 0.56 & 0.565 & 0.14090 & 0.1813 & 0.91900 & 1.366 & 0.1523 & 0.6712 & 0.9817 & 0.8769 & 0.03586 & 0.1355 & 0.4338 & 0.04932 & 0.03376 & 0.1918 & 1.562 & 0.3538 & 0.329 & 0.03461 & 0.1537 & 0.6538 & 0.2344 & 0.05421 & 0.02899 & 1.939 & 0.00000 & 0.3843 & 0.5338 & 2.072 & 0.5871 & 1.029 & 0.1972 & 0.07041 & 0.355 & 0.8983 & 0.9156 & 0.7621 & 0.3029 & 0.4225 & 1.30400 & 0.04157 & 0.15620 & 0.1349 & 0.2056 & 0.6381 & 0.07227 & 0.3094 & 0.1336 & 0.1491 & 0.95860 & 0.5756 & 0.07796 & 0.22590 & 0.6537 & 1.20000 & 0.02963 & 0 & 0.1535 & 1.088 & 0.5694 & 0.47990 & 0.06119 & 0.3251 & 1.463 & 0.04179 & 0.04466 & 0.03316 & 0.16490 & 0.05533 & 0.1328 & 0.4902 & 1.16100 & 1.423 & 0.04541 & 0.6636 & 0.4535 & 0.5322 & 0.31950 & 1.097 & 0.02517 & 0.2215 & 0.1133 & 1.425 & 0.678 & 0.1752 & 0.42190 & 0.15430 & 0.05007 & 0.7287 & 1.6230 & 0.4459 & 0.1329 & 0.02063 & 0.5092 & 0.2178 & 0.4772 & 0.02459 & 0.1061 & 0.9664 & 0.3503 & 0.2528 & 0.12020 & 0.4334 & 0.4376 & 0.15140 & 0.3366 & 0.07599 & 1.255 & 1.30200 & 1.84200 & 0.08212 & 0.75 & 0.6692 & 0.1032 & 0.10320 & 0.07942 & 0.428 & 0.7223 & 0.9596 & 0.71920 & 0.06779 & 0.167 & 0.127 & 0.643 & 1.49400 & 0.3607 & 1.092 & 0.03289 & 0.07568 & 0.155 & 2.244 & 0.65530 & 1.0050 & 1.555 & 0.1165 & 0.157 & 0.1532 & 0.1603 & 0.5559 & 0.02009 & 0.05037 & 0.65980 & 1.12100 & 0.12 & 0.08673 & 0.7704 & 1.349 & 0.359 & 1.776 & 2.062 & 0.1978 & 1.032 & 0.04557 & 0.59410 & 0.1036 & 0.795 & 0.06511 & 0.6064 & 0.8163 & 1.11300 & 0.1296 & 0.2285 & 0.3733 & 0.8992 & 0.1446 & 0.99790 & 0.298 & 0.004329 & 0.7006 & 0.7746 & 0.14580 & 0.10290 & 0.9357 & 0.1646 & 0.7066 & 0.1423 & 0.8356 & 0.7798 & 0.565 & 0.9467 & 1.217 & 0.6383 & 0.24410 & 0.2949 & 0.5428 & 0.98360 & 0.006832 & 0.8488 & 1.26600 & 0.6742 & 0.99670 & 0.7118 & 0.2731 & 1.459 & 0.7338 & 0.5885 & 0.52050 & 0.8064 & 2.738 & 0.1638 & 0.08514 & 0.1714 & 0.4184 & 0.5269 & 1.21900 & 0.1702 & 0.3025 & 0.4858 & 0.52230 & 0.95150 & 0.50890 & 0.1254 & 0.5466 & 0.1573 & 0.2198 & 0.9458 & 2.793 & 0.7251 & 0.6311 & 0.2754 & 0.8031 & 0.3410 & 1.509 & 0.14090 & 0.75300 & 0.207 & 0.4584 & 0.2621 & 0.25060 & 0.7466 & 0.44320 & 0.00000 & 0.75950 & 0.988 & 0.01958 & 0.01386 & 0.49610 & 0.48540 & 0.04313 & 0.73970 & 0.4564 & 0.2589 & 0.73510 & 0.3318 & 0.3718 & 2.8100 & 0.9578 & 0.6208 & 0.1196 & 1.6920 & 0.49450 & 0.29910 & 0.1502 & 0.6514 & 0.2403 & 0.01819 & 0.28260 & 0.7830 & 1.385 & 1.12500 & 1.4380 & 1.83 & 0.2888 & 0.3907 & 0.07319 & 2.7360 & 1.496 & 0.43560 & 1.69700 & 0.3260 & 0.18640 & 1.74900 & 0.153 & 0.7735 & 0.4975 & 1.1250 & 0.43600 & 1.27100 & 0.7652 & 0.7613 & 0.07808 & 0.10150 & 0.2417 & 1.1170 & 0.9377 & 0.1458 & 0.31550 & 1.01 & 1.59100 & 0.5321 & 0.2141 & 0.3384 & 0.80680 & 0.989 & 0.17790 & 0.67220 & 1.131 & 1.3560 & 2.413 & 1.13900 & 0.49220 & 0.85700 & 0.91860 & 0.83480 & 1.194 & 0.5111 & 0.54 & 0.9038 & 1.192 & 0.04256 & 0.9330 & 0.83400 & 0.67480 & 0.448 & 0.1561 & 0.8244 & 1.09700 & 2.4550 & 0.7058 & 0.13310 & 0.158 & 2.987 & 0.33570 & 0.16240 & 0.447 & 0.3617 & 0.06063 & 1.21400 & 0.2006 & 0.98810 & 0.44510 & 0.04935 & 1.791 & 0.2392 & 0.3251 & 1.611 & 0.56740 & 0.35810 & 0.73340 & 0.70130 & 0.5228 & 1.38100 & 0.26140 & 1.03300 & 1.1510 & 1.147 & 0.03834 & 0.5317 & 0.2133 & 0.293 & 0.64720 & 0.8136 & 0.3128 & 0.82480 & 0.3188 & 0.20870 & 0.07261 & 0.76000 & 1.434 & 0.615 & 0.6807 & 0.3925 & 0.1897 & 1.014 & 0.58010 & 0.7422 & 1.984 & 0.15480 & 1.21500 & 0.1636 & 0.6259 & 0.31450 & 1.34 & 1.31200 & 1.759 & 1.41600 & 0.49560 & 2.27700 & 1.199 & 0.2389 & 0.74000 & 0.5676 & 1.393 & 1.846 & 0.12100 & 0.07591 & 0.4529 & 1.01200 & 0.33570 & 0.63890 & 0.3319 & 0.36600 & 0.614 & 0.3776 & 1.12400 & 0.39580 & 0.41180 & 0.75380 & 1.105 & 1.02 & 1.08800 & 0.9641 & 1.024 & 0.2075 & 0.6599 & 0.74560 & 1.33100 & 0.27930 & 0.8391 & 0.08135 & 1.06500 & 0.3307 & 0.6429 & 1.24200 & 0.1653 & 0.88900 & 1.06500 & 0.3384 & 0.1622 & 0.1911 & 2.15500 & 0.28140 & 0.74600 & 0.62610 & ENSG00000228140.1 & RP3-467K16.4  \\\\\n",
       "\t ENSG00000186092 & OR4F5 & 1 & protein\\_coding & 0.0000 & 0.05678 & 0.000 & 0.000 & 0.0000 & 0.00000 & 0.0000 & 0.00000 & 0.0000 & 0.0000 & 0.08923 & 0.0000 & 0.0395 & 0.000 & 0.0000 & 0.04524 & 0.00000 & 0.02842 & 0.04013 & 0.0000 & 0.02593 & 0.00000 & 0.000 & 0.000 & 0.00000 & 0.000 & 0.00000 & 0.04679 & 0.04962 & 0.02547 & 0.0000 & 0.000 & 0.0000 & 0.000 & 0.0000 & 0.000000 & 0.000 & 0.0000 & 0.000 & 0.000 & 0.04127 & 0.05131 & 0.0453 & 0.0000 & 0.00000 & 0.000 & 0.0000 & 0.04213 & 0.0000 & 0.000 & 0.0000 & 0.05855 & 0.0000 & 0.03828 & 0.05261 & 0.0000 & 0.0000 & 0.0000 & 0.03849 & 0.0000 & 0.07076 & 0.05328 & 0.08441 & 0.000 & 0.0000 & 0.0000 & 0.000 & 0.000 & 0.00000 & 0.0418 & 0.0000 & 0.0000 & 0.09916 & 0.00000 & 0.0000 & 0.000 & 0.000 & 0.0000 & 0.04812 & 0.0000 & 0.1056 & 0.0000 & 0.03677 & 0.04948 & 0.0000 & 0.03975 & 0.04873 & 0.05376 & 0.0000 & 0.0000 & 0.0000 & 0.0000 & 0.02759 & 0.0000 & 0.00000 & 0.0000 & 0.0000 & 0.00000 & 0.000 & 0.000 & 0.06926 & 0.0000 & 0.0341 & 0.07937 & 0.0000 & 0.0000 & 0.000 & 0.0000 & 0.00000 & 0.01986 & 0.00000 & 0.00000 & 0.00000 & 0.0000 & 0.0363 & 0.03617 & 0.0000 & 0.0000 & 0.0000 & 0.000 & 0.0000 & 0.000 & 0.03269 & 0.000 & 0.04254 & 0.000 & 0.00000 & 0.04348 & 0.00000 & 0.00 & 0.0000 & 0.05713 & 0.000 & 0.0000 & 0.0000 & 0.2753 & 0.000 & 0.04615 & 0.00000 & 0.00000 & 0.000 & 0.0000 & 0.0000 & 0.03765 & 0.00000 & 0.00000 & 0.0000 & 0.03439 & 0.0000 & 0.05633 & 0.000 & 0.00 & 0.08782 & 0.03739 & 0.0000 & 0.000 & 0.3761 & 0.04493 & 0.000 & 0.1222 & 0.00000 & 0.0000 & 0.0000 & 0.05467 & 0.03104 & 0.0000 & 0.000 & 0.03388 & 0.0000 & 0.1248 & 0.0000 & 0.000 & 0.0000 & 0.0000 & 0.0000 & 0.000 & 0.000 & 0.000 & 0.00000 & 0.07876 & 0.0000 & 0.03856 & 0.04703 & 0.000 & 0.0000 & 0.1503 & 0.0000 & 0.0000 & 0.0000 & 0.0259 & 0.00000 & 0.000 & 0.1076 & 0.000 & 0.0000 & 0.03473 & 0.03985 & 0.000 & 0.0000 & 0.03449 & 0.0000 & 0.0000 & 0.09151 & 0.000 & 0.00000 & 0.1396 & 0.0000 & 0.000 & 0.0401 & 0.04678 & 0.000 & 0.00000 & 0.03101 & 0.02891 & 0.0000 & 0.0000 & 0.04906 & 0.00000 & 0.1346 & 0.0000 & 0.03717 & 0.0000 & 0.05122 & 0.07100 & 0.0000 & 0.0000 & 0.03261 & 0.000 & 0.00000 & 0.08067 & 0.0000 & 0.000 & 0.04579 & 0.0000 & 0.06174 & 0.0000 & 0.0000 & 0.04755 & 0.00 & 0.0000 & 0.0000 & 0.03725 & 0.00000 & 0.00000 & 0.0299 & 0.1794 & 0.07778 & 0.000 & 0.000 & 0.05866 & 0.05714 & 0.08124 & 0.04258 & 0.0000 & 0.0608 & 0.0000 & 0.0000 & 0.000 & 0.0000 & 0.000 & 0.0000 & 0.07892 & 0.03816 & 0.0000 & 0.00000 & 0.000 & 0.000 & 0.0000 & 0.0000 & 0.03483 & 0.0000 & 0.03726 & 0.04103 & 0.000 & 0.000 & 0.0000 & 0.06622 & 0.0000 & 0.000 & 0.00000 & 0.000 & 0.000 & 0.03914 & 0.05227 & 0.0000 & 0.0000 & 0.00000 & 0.01772 & 0.0000 & 0.0000 & 0.0000 & 0.0000 & 0.02535 & 0.04788 & 0.03256 & 0.2557 & 0.000 & 0.000 & 0.07927 & 0.0000 & 0.00000 & 0.0000 & 0.0000 & 0.0000 & 0.05615 & 0.0347 & 0.0000 & 0.000 & 0.0000 & 0.00000 & 0.0000 & 0.0000 & 0.000 & 0.0000 & 0.0000 & 0.0000 & 0.0000 & 0.07908 & 0.0000 & 0.0000 & 0.0000 & 0.000000 & 0.000 & 0.0319 & 0.0000 & 0.0249 & 0.0000 & 0.0000 & 0.05453 & 0.00000 & 0.00 & 0.000 & 0.04414 & 0.0000 & 0.04547 & 0.000 & 0.0000 & 0.0000 & 0.0000 & 0.0000 & 0.10110 & 0.0000 & 0.0000 & 0.22250 & 0.00000 & 0.0000 & 0.000 & 0.1023 & 0.000 & 0.00000 & 0.0000 & 0.0000 & 0.0000 & 0.00000 & 0.02725 & 0.000 & 0.04822 & 0.0000 & 0.0000 & 0.000 & 0.0000 & 0.000 & 0.0000 & 0.03055 & 0.000 & 0.0000 & 0.0000 & 0.0000 & 0.0000 & 0.0000 & 0.04457 & 0.03908 & 0.03146 & 0.0000 & 0.0000 & 0.0000 & 0.00000 & 0.0000 & 0.0000 & 0.0000 & 0.03277 & 0.1059 & 0.00000 & 0.03982 & 0.0000 & 0.03238 & 0.00000 & 0 & 0.0000 & 0.000 & 0.0000 & 0.02762 & 0.00000 & 0.0000 & 0.000 & 0.00000 & 0.00000 & 0.00000 & 0.06643 & 0.00000 & 0.0000 & 0.0000 & 0.00000 & 0.000 & 0.00000 & 0.0000 & 0.0000 & 0.0000 & 0.03466 & 0.000 & 0.00000 & 0.0000 & 0.0000 & 0.000 & 0.000 & 0.0000 & 0.03091 & 0.02807 & 0.02568 & 0.0000 & 0.0319 & 0.0000 & 0.0000 & 0.00000 & 0.0000 & 0.0000 & 0.0000 & 0.00000 & 0.0000 & 0.0000 & 0.0000 & 0.0000 & 0.02338 & 0.0000 & 0.0000 & 0.02135 & 0.0000 & 0.00000 & 0.000 & 0.02604 & 0.03177 & 0.02316 & 0.00 & 0.0000 & 0.0000 & 0.02645 & 0.00000 & 0.000 & 0.0000 & 0.0000 & 0.00000 & 0.02549 & 0.000 & 0.000 & 0.000 & 0.08569 & 0.0000 & 0.000 & 0.03092 & 0.00000 & 0.000 & 0.000 & 0.07393 & 0.1318 & 0.000 & 0.0365 & 0.000 & 0.0000 & 0.0000 & 0.0000 & 0.03776 & 0.14200 & 0.02001 & 0.03877 & 0.00 & 0.03058 & 0.0000 & 0.000 & 0.000 & 0.000 & 0.000 & 0.0000 & 0.000 & 0.00000 & 0.05405 & 0.0000 & 0.000 & 0.00000 & 0.0000 & 0.0000 & 0.03737 & 0.0000 & 0.0000 & 0.0000 & 0.0000 & 0.0000 & 0.02887 & 0.000 & 0.048840 & 0.0000 & 0.0000 & 0.02419 & 0.03054 & 0.0000 & 0.0000 & 0.0000 & 0.0000 & 0.0000 & 0.0000 & 0.000 & 0.0000 & 0.000 & 0.0000 & 0.05738 & 0.0000 & 0.0000 & 0.04079 & 0.000000 & 0.1019 & 0.04153 & 0.1188 & 0.03627 & 0.0000 & 0.0453 & 0.000 & 0.1035 & 0.0000 & 0.04587 & 0.0000 & 0.000 & 0.0000 & 0.06860 & 0.1813 & 1.9670 & 0.0000 & 0.09164 & 0.0000 & 0.1741 & 0.0000 & 0.05665 & 0.02556 & 0.03932 & 1.0610 & 0.0000 & 0.0000 & 0.0000 & 0.0000 & 0.000 & 0.0000 & 0.1287 & 0.0000 & 0.0000 & 0.0000 & 0.000 & 0.03612 & 0.09994 & 0.000 & 0.0000 & 0.0000 & 0.04283 & 0.0000 & 0.04464 & 0.09686 & 0.06347 & 0.000 & 0.00000 & 0.00000 & 0.07563 & 0.08831 & 0.04055 & 0.03793 & 0.0000 & 0.0000 & 0.06687 & 0.1370 & 0.0000 & 0.1093 & 0.0000 & 0.0000 & 0.0000 & 0.0000 & 0.07748 & 0.08436 & 0.0000 & 0.0000 & 0.2140 & 0.00000 & 0.07246 & 0.1359 & 0.000 & 0.04918 & 0.1931 & 0.00 & 0.0000 & 0.1025 & 0.10320 & 1.0640 & 0.000 & 0.02996 & 0.04986 & 0.3198 & 0.05842 & 0.07709 & 0.000 & 0.0000 & 0.0000 & 0.0769 & 0.06895 & 0.03982 & 0.0000 & 0.0000 & 0.05505 & 0.07157 & 0.0779 & 0.1562 & 0.0000 & 0.0000 & 0.08474 & 0.00 & 0.05309 & 0.0469 & 0.0000 & 0.0000 & 0.02346 & 0.000 & 0.07166 & 0.06893 & 0.000 & 0.0375 & 0.000 & 0.05222 & 0.02833 & 0.05142 & 0.09685 & 0.04281 & 0.000 & 0.0000 & 0.00 & 0.0000 & 0.000 & 0.00000 & 0.0358 & 0.08401 & 0.03146 & 0.000 & 0.0000 & 0.0000 & 0.08477 & 0.0426 & 0.0000 & 0.03002 & 0.000 & 0.000 & 0.02491 & 0.03054 & 0.000 & 0.0583 & 0.00000 & 0.03004 & 0.0000 & 0.03925 & 0.05123 & 0.00000 & 0.000 & 0.0000 & 0.2158 & 0.000 & 0.08649 & 0.00000 & 0.04546 & 0.04208 & 0.0000 & 0.05092 & 0.04914 & 0.04588 & 0.0446 & 0.000 & 0.14420 & 0.0000 & 0.0000 & 0.000 & 0.04741 & 0.0000 & 0.0000 & 0.03783 & 0.0000 & 0.04906 & 0.00000 & 0.06595 & 0.000 & 0.000 & 0.0000 & 0.0000 & 0.1529 & 0.000 & 0.05454 & 0.0000 & 0.000 & 0.04157 & 0.07787 & 0.0000 & 0.0000 & 0.03942 & 0.00 & 0.05482 & 0.000 & 0.03768 & 0.04051 & 0.02535 & 0.000 & 0.0245 & 0.00000 & 0.0000 & 0.000 & 0.000 & 0.09305 & 0.00000 & 0.0000 & 0.06273 & 0.03713 & 0.03715 & 0.1306 & 0.08426 & 0.000 & 0.0000 & 0.06184 & 0.05074 & 0.05161 & 0.04168 & 0.000 & 0.00 & 0.03429 & 0.0000 & 0.000 & 0.0000 & 0.0000 & 0.03286 & 0.07738 & 0.02864 & 0.0000 & 0.00000 & 0.03554 & 0.2332 & 0.0000 & 0.04377 & 0.0333 & 0.06078 & 0.04884 & 0.0000 & 0.0000 & 0.0000 & 0.04552 & 0.03527 & 0.08015 & 0.04528 & ENSG00000186092.4 & OR4F5         \\\\\n",
       "\\end{tabular}\n"
      ],
      "text/markdown": [
       "\n",
       "A data.frame: 6 × 761\n",
       "\n",
       "| ensembl_gene_id &lt;chr&gt; | hgnc_symbol &lt;chr&gt; | chromosome_name &lt;chr&gt; | transcript_biotype &lt;chr&gt; | GTEX-111YS-0006-SM-5NQBE &lt;dbl&gt; | GTEX-1122O-0005-SM-5O99J &lt;dbl&gt; | GTEX-1128S-0005-SM-5P9HI &lt;dbl&gt; | GTEX-113IC-0006-SM-5NQ9C &lt;dbl&gt; | GTEX-113JC-0006-SM-5O997 &lt;dbl&gt; | GTEX-117XS-0005-SM-5PNU6 &lt;dbl&gt; | ⋯ ⋯ | GTEX-ZVT2-0005-SM-57WBW &lt;dbl&gt; | GTEX-ZVT3-0006-SM-51MT9 &lt;dbl&gt; | GTEX-ZVT4-0006-SM-57WB8 &lt;dbl&gt; | GTEX-ZVTK-0006-SM-57WBK &lt;dbl&gt; | GTEX-ZVZP-0006-SM-51MSW &lt;dbl&gt; | GTEX-ZVZQ-0006-SM-51MR8 &lt;dbl&gt; | GTEX-ZXES-0005-SM-57WCB &lt;dbl&gt; | GTEX-ZXG5-0005-SM-57WCN &lt;dbl&gt; | Name &lt;chr&gt; | Description &lt;chr&gt; |\n",
       "|---|---|---|---|---|---|---|---|---|---|---|---|---|---|---|---|---|---|---|---|---|\n",
       "| ENSG00000228229 | <!----> | 1 | lincRNA        | 0.0000 | 0.00000 | 0.000 | 0.000 | 0.0000 | 0.00000 | ⋯ | 0.00000 | 0.0000 | 0.0000 | 0.0000 | 0.00000 | 0.00000 | 0.00000 | 0.00000 | ENSG00000228229.2 | RP11-219C24.10 |\n",
       "| ENSG00000237445 | <!----> | 1 | lincRNA        | 0.0000 | 0.00000 | 0.000 | 0.000 | 0.0000 | 0.00000 | ⋯ | 0.00000 | 0.0000 | 0.0000 | 0.0000 | 0.00000 | 0.00000 | 0.00000 | 0.00000 | ENSG00000237445.2 | CTA-520D8.2    |\n",
       "| ENSG00000231606 | <!----> | 1 | lincRNA        | 0.0000 | 0.00000 | 0.000 | 0.000 | 0.0000 | 0.00000 | ⋯ | 0.00000 | 0.0000 | 0.0000 | 0.0000 | 0.00000 | 0.00000 | 0.00000 | 0.00000 | ENSG00000231606.1 | RP11-344F13.1  |\n",
       "| ENSG00000234593 | <!----> | 1 | lincRNA        | 0.0000 | 0.00000 | 0.000 | 0.000 | 0.0000 | 0.00000 | ⋯ | 0.00000 | 0.0000 | 0.0000 | 0.0000 | 0.00000 | 0.00000 | 0.00000 | 0.00000 | ENSG00000234593.2 | RP4-704D23.1   |\n",
       "| ENSG00000228140 | <!----> | 1 | lincRNA        | 0.5148 | 1.62100 | 0.678 | 2.237 | 0.1405 | 0.05083 | ⋯ | 1.06500 | 0.3384 | 0.1622 | 0.1911 | 2.15500 | 0.28140 | 0.74600 | 0.62610 | ENSG00000228140.1 | RP3-467K16.4   |\n",
       "| ENSG00000186092 | OR4F5 | 1 | protein_coding | 0.0000 | 0.05678 | 0.000 | 0.000 | 0.0000 | 0.00000 | ⋯ | 0.04884 | 0.0000 | 0.0000 | 0.0000 | 0.04552 | 0.03527 | 0.08015 | 0.04528 | ENSG00000186092.4 | OR4F5          |\n",
       "\n"
      ],
      "text/plain": [
       "  ensembl_gene_id hgnc_symbol chromosome_name transcript_biotype\n",
       "1 ENSG00000228229             1               lincRNA           \n",
       "2 ENSG00000237445             1               lincRNA           \n",
       "3 ENSG00000231606             1               lincRNA           \n",
       "4 ENSG00000234593             1               lincRNA           \n",
       "5 ENSG00000228140             1               lincRNA           \n",
       "6 ENSG00000186092 OR4F5       1               protein_coding    \n",
       "  GTEX-111YS-0006-SM-5NQBE GTEX-1122O-0005-SM-5O99J GTEX-1128S-0005-SM-5P9HI\n",
       "1 0.0000                   0.00000                  0.000                   \n",
       "2 0.0000                   0.00000                  0.000                   \n",
       "3 0.0000                   0.00000                  0.000                   \n",
       "4 0.0000                   0.00000                  0.000                   \n",
       "5 0.5148                   1.62100                  0.678                   \n",
       "6 0.0000                   0.05678                  0.000                   \n",
       "  GTEX-113IC-0006-SM-5NQ9C GTEX-113JC-0006-SM-5O997 GTEX-117XS-0005-SM-5PNU6 ⋯\n",
       "1 0.000                    0.0000                   0.00000                  ⋯\n",
       "2 0.000                    0.0000                   0.00000                  ⋯\n",
       "3 0.000                    0.0000                   0.00000                  ⋯\n",
       "4 0.000                    0.0000                   0.00000                  ⋯\n",
       "5 2.237                    0.1405                   0.05083                  ⋯\n",
       "6 0.000                    0.0000                   0.00000                  ⋯\n",
       "  GTEX-ZVT2-0005-SM-57WBW GTEX-ZVT3-0006-SM-51MT9 GTEX-ZVT4-0006-SM-57WB8\n",
       "1 0.00000                 0.0000                  0.0000                 \n",
       "2 0.00000                 0.0000                  0.0000                 \n",
       "3 0.00000                 0.0000                  0.0000                 \n",
       "4 0.00000                 0.0000                  0.0000                 \n",
       "5 1.06500                 0.3384                  0.1622                 \n",
       "6 0.04884                 0.0000                  0.0000                 \n",
       "  GTEX-ZVTK-0006-SM-57WBK GTEX-ZVZP-0006-SM-51MSW GTEX-ZVZQ-0006-SM-51MR8\n",
       "1 0.0000                  0.00000                 0.00000                \n",
       "2 0.0000                  0.00000                 0.00000                \n",
       "3 0.0000                  0.00000                 0.00000                \n",
       "4 0.0000                  0.00000                 0.00000                \n",
       "5 0.1911                  2.15500                 0.28140                \n",
       "6 0.0000                  0.04552                 0.03527                \n",
       "  GTEX-ZXES-0005-SM-57WCB GTEX-ZXG5-0005-SM-57WCN Name             \n",
       "1 0.00000                 0.00000                 ENSG00000228229.2\n",
       "2 0.00000                 0.00000                 ENSG00000237445.2\n",
       "3 0.00000                 0.00000                 ENSG00000231606.1\n",
       "4 0.00000                 0.00000                 ENSG00000234593.2\n",
       "5 0.74600                 0.62610                 ENSG00000228140.1\n",
       "6 0.08015                 0.04528                 ENSG00000186092.4\n",
       "  Description   \n",
       "1 RP11-219C24.10\n",
       "2 CTA-520D8.2   \n",
       "3 RP11-344F13.1 \n",
       "4 RP4-704D23.1  \n",
       "5 RP3-467K16.4  \n",
       "6 OR4F5         "
      ]
     },
     "metadata": {},
     "output_type": "display_data"
    }
   ],
   "source": [
    "head(expression_list_target[[\"Whole Blood\"]])"
   ]
  },
  {
   "cell_type": "code",
   "execution_count": 178,
   "metadata": {},
   "outputs": [
    {
     "data": {
      "text/html": [
       "<table>\n",
       "<caption>A data.frame: 6 × 809</caption>\n",
       "<thead>\n",
       "\t<tr><th scope=col>ensembl_gene_id</th><th scope=col>hgnc_symbol</th><th scope=col>chromosome_name</th><th scope=col>transcript_biotype</th><th scope=col>GTEX-1117F-0426-SM-5EGHI</th><th scope=col>GTEX-111CU-2026-SM-5GZZC</th><th scope=col>GTEX-111FC-0326-SM-5GZZ1</th><th scope=col>GTEX-111VG-2626-SM-5GZY2</th><th scope=col>GTEX-111YS-2326-SM-5987L</th><th scope=col>GTEX-1122O-2426-SM-5GIDN</th><th scope=col>⋯</th><th scope=col>GTEX-ZYFD-0326-SM-5NQ8I</th><th scope=col>GTEX-ZYFG-2426-SM-5GIE8</th><th scope=col>GTEX-ZYT6-1626-SM-5E45R</th><th scope=col>GTEX-ZYW4-0526-SM-5GZZ5</th><th scope=col>GTEX-ZYY3-0526-SM-5E45G</th><th scope=col>GTEX-ZZ64-1526-SM-5E43K</th><th scope=col>GTEX-ZZPT-0626-SM-5GZXT</th><th scope=col>GTEX-ZZPU-2626-SM-5E45Y</th><th scope=col>Name</th><th scope=col>Description</th></tr>\n",
       "\t<tr><th scope=col>&lt;chr&gt;</th><th scope=col>&lt;chr&gt;</th><th scope=col>&lt;chr&gt;</th><th scope=col>&lt;chr&gt;</th><th scope=col>&lt;dbl&gt;</th><th scope=col>&lt;dbl&gt;</th><th scope=col>&lt;dbl&gt;</th><th scope=col>&lt;dbl&gt;</th><th scope=col>&lt;dbl&gt;</th><th scope=col>&lt;dbl&gt;</th><th scope=col>⋯</th><th scope=col>&lt;dbl&gt;</th><th scope=col>&lt;dbl&gt;</th><th scope=col>&lt;dbl&gt;</th><th scope=col>&lt;dbl&gt;</th><th scope=col>&lt;dbl&gt;</th><th scope=col>&lt;dbl&gt;</th><th scope=col>&lt;dbl&gt;</th><th scope=col>&lt;dbl&gt;</th><th scope=col>&lt;chr&gt;</th><th scope=col>&lt;chr&gt;</th></tr>\n",
       "</thead>\n",
       "<tbody>\n",
       "\t<tr><td>ENSG00000228229</td><td>     </td><td>1</td><td>lincRNA       </td><td>0.000000</td><td>0.00000</td><td>0.00000</td><td>0.00000</td><td>0.000000</td><td>0.000</td><td>⋯</td><td>0.00000</td><td>0.000000</td><td>0.0000</td><td>0.00000</td><td>0.000000</td><td>0.000000</td><td>0.00000</td><td>0.00000</td><td>ENSG00000228229.2</td><td>RP11-219C24.10</td></tr>\n",
       "\t<tr><td>ENSG00000237445</td><td>     </td><td>1</td><td>lincRNA       </td><td>0.496500</td><td>0.00000</td><td>0.00000</td><td>0.00000</td><td>0.103200</td><td>0.857</td><td>⋯</td><td>0.00000</td><td>0.562800</td><td>0.2964</td><td>0.00000</td><td>0.083650</td><td>0.086140</td><td>0.00000</td><td>0.00000</td><td>ENSG00000237445.2</td><td>CTA-520D8.2   </td></tr>\n",
       "\t<tr><td>ENSG00000231606</td><td>     </td><td>1</td><td>lincRNA       </td><td>0.000000</td><td>0.00000</td><td>0.00000</td><td>0.00000</td><td>0.000000</td><td>0.000</td><td>⋯</td><td>0.00000</td><td>0.000000</td><td>0.0000</td><td>0.00000</td><td>0.112400</td><td>0.000000</td><td>0.85710</td><td>0.00000</td><td>ENSG00000231606.1</td><td>RP11-344F13.1 </td></tr>\n",
       "\t<tr><td>ENSG00000234593</td><td>     </td><td>1</td><td>lincRNA       </td><td>0.000000</td><td>0.00000</td><td>0.00000</td><td>0.00000</td><td>0.000000</td><td>0.000</td><td>⋯</td><td>0.00000</td><td>0.000000</td><td>0.0000</td><td>0.09834</td><td>0.000000</td><td>0.000000</td><td>0.00000</td><td>0.00000</td><td>ENSG00000234593.2</td><td>RP4-704D23.1  </td></tr>\n",
       "\t<tr><td>ENSG00000228140</td><td>     </td><td>1</td><td>lincRNA       </td><td>0.009084</td><td>0.01329</td><td>0.01181</td><td>0.01254</td><td>0.007555</td><td>0.000</td><td>⋯</td><td>0.00774</td><td>0.006865</td><td>0.0000</td><td>0.00000</td><td>0.006123</td><td>0.006305</td><td>0.00000</td><td>0.01968</td><td>ENSG00000228140.1</td><td>RP3-467K16.4  </td></tr>\n",
       "\t<tr><td>ENSG00000186092</td><td>OR4F5</td><td>1</td><td>protein_coding</td><td>0.102500</td><td>0.00000</td><td>0.09989</td><td>0.03538</td><td>0.127800</td><td>0.000</td><td>⋯</td><td>0.04366</td><td>0.038720</td><td>0.1224</td><td>0.00000</td><td>0.103600</td><td>0.035560</td><td>0.05266</td><td>0.14800</td><td>ENSG00000186092.4</td><td>OR4F5         </td></tr>\n",
       "</tbody>\n",
       "</table>\n"
      ],
      "text/latex": [
       "A data.frame: 6 × 809\n",
       "\\begin{tabular}{r|lllllllllllllllllllllllllllllllllllllllllllllllllllllllllllllllllllllllllllllllllllllllllllllllllllllllllllllllllllllllllllllllllllllllllllllllllllllllllllllllllllllllllllllllllllllllllllllllllllllllllllllllllllllllllllllllllllllllllllllllllllllllllllllllllllllllllllllllllllllllllllllllllllllllllllllllllllllllllllllllllllllllllllllllllllllllllllllllllllllllllllllllllllllllllllllllllllllllllllllllllllllllllllllllllllllllllllllllllllllllllllllllllllllllllllllllllllllllllllllllllllllllllllllllllllllllllllllllllllllllllllllllllllllllllllllllllllllllllllllllllllllllllllllllllllllllllllllllllllllllllllllllllllllllllllllllllllllllllllllllllllllllllllllllllllllllllllllllllllllllllllllllllllllllllllllllllllllllllllllllllllllllllllllllllllllllllllllllllllllllllllllllllllllllllllllllllllllllllllllllllllllllll}\n",
       " ensembl\\_gene\\_id & hgnc\\_symbol & chromosome\\_name & transcript\\_biotype & GTEX-1117F-0426-SM-5EGHI & GTEX-111CU-2026-SM-5GZZC & GTEX-111FC-0326-SM-5GZZ1 & GTEX-111VG-2626-SM-5GZY2 & GTEX-111YS-2326-SM-5987L & GTEX-1122O-2426-SM-5GIDN & GTEX-1128S-2426-SM-5H11B & GTEX-113JC-2726-SM-5EGIS & GTEX-117XS-2526-SM-5H11G & GTEX-117YW-2426-SM-5Q5AE & GTEX-117YX-2526-SM-5EQ4Q & GTEX-1192X-0426-SM-5GIEE & GTEX-11DXW-0726-SM-5H12J & GTEX-11DXX-2726-SM-5PNXO & GTEX-11DXY-2726-SM-5GID2 & GTEX-11DXZ-2426-SM-5N9DT & GTEX-11DZ1-0926-SM-5EQ5R & GTEX-11EI6-0326-SM-5EQ6G & GTEX-11EM3-2126-SM-5H11M & GTEX-11EMC-2626-SM-59864 & GTEX-11EQ8-0526-SM-5N9BC & GTEX-11EQ9-2126-SM-5PNVW & GTEX-11GS4-2526-SM-5A5KT & GTEX-11GSO-2526-SM-5PNVX & GTEX-11GSP-2726-SM-5A5LJ & GTEX-11H98-0326-SM-5HL4S & GTEX-11I78-2426-SM-5A5K9 & GTEX-11LCK-1226-SM-5Q5AM & GTEX-11NSD-2026-SM-5HL5U & GTEX-11NUK-0226-SM-5A5L4 & GTEX-11NV4-0326-SM-5HL58 & GTEX-11O72-0326-SM-5986D & GTEX-11OC5-0326-SM-5PNW5 & GTEX-11OF3-2526-SM-5P9JL & GTEX-11ONC-2426-SM-5GU7H & GTEX-11P7K-1926-SM-5GU6R & GTEX-11P81-2526-SM-5GU6H & GTEX-11P82-1826-SM-5PNYJ & GTEX-11PRG-0326-SM-5GU53 & GTEX-11TT1-2326-SM-5GU6N & GTEX-11TTK-0326-SM-5BC5N & GTEX-11TUW-2526-SM-5EQKN & GTEX-11UD1-0326-SM-5EQKX & GTEX-11UD2-0326-SM-5EQLE & GTEX-11VI4-1926-SM-5CVLI & GTEX-11WQC-2626-SM-5CVLF & GTEX-11WQK-0726-SM-5GU71 & GTEX-11XUK-2226-SM-5CVLL & GTEX-11ZTS-0526-SM-5CVL9 & GTEX-11ZTT-2626-SM-5EQKK & GTEX-11ZU8-2326-SM-5EQMJ & GTEX-11ZUS-1426-SM-5FQSP & GTEX-11ZVC-2726-SM-5FQSZ & GTEX-1211K-2126-SM-59HJZ & GTEX-12126-0526-SM-5PNW4 & GTEX-1212Z-2626-SM-5YY8P & GTEX-12584-0526-SM-5FQTS & GTEX-12696-2826-SM-5FQTY & GTEX-1269C-2626-SM-5EQ5C & GTEX-12BJ1-2526-SM-5FQUE & GTEX-12C56-1926-SM-5FQUG & GTEX-12KS4-0826-SM-5BC5R & GTEX-12WSA-0726-SM-5FQU2 & GTEX-12WSC-0326-SM-5EQ5E & GTEX-12WSD-0526-SM-5EQ6F & GTEX-12WSF-0926-SM-6PALU & GTEX-12WSG-5016-SM-7SB84 & GTEX-12WSH-2526-SM-5CVNH & GTEX-12WSJ-1726-SM-5LZVV & GTEX-12WSL-2726-SM-5CVNL & GTEX-12WSM-0326-SM-5LZVI & GTEX-12WSN-2526-SM-5LZU8 & GTEX-12ZZX-0326-SM-5DUVH & GTEX-12ZZY-0626-SM-5EQ5T & GTEX-12ZZZ-0226-SM-59HKU & GTEX-13111-2226-SM-5LZUE & GTEX-13112-2626-SM-5BC66 & GTEX-13113-5019-SM-7EPH2 & GTEX-1313W-0526-SM-5P9FZ & GTEX-1314G-1726-SM-5LZUX & GTEX-131XE-2726-SM-5P9G7 & GTEX-131XF-2326-SM-5BC6B & GTEX-131XG-2326-SM-5HL8F & GTEX-131XH-2726-SM-5GCO2 & GTEX-131XW-0326-SM-5KM1J & GTEX-131YS-0526-SM-5EGKJ & GTEX-132AR-1026-SM-5PNVL & GTEX-132NY-0726-SM-5KLZM & GTEX-132Q8-0626-SM-5L3F3 & GTEX-1339X-2426-SM-5KLYU & GTEX-133LE-2026-SM-5K7WM & GTEX-1399Q-2426-SM-5J2MO & GTEX-1399R-2526-SM-5IFG2 & GTEX-1399S-2726-SM-5KM22 & GTEX-1399T-2426-SM-5L3FJ & GTEX-1399U-2526-SM-5L3DL & GTEX-139D8-0726-SM-5P9GJ & GTEX-139T4-0326-SM-5K7XN & GTEX-139T6-2026-SM-5IFFL & GTEX-139T8-0526-SM-5KLZL & GTEX-139TS-2626-SM-5J1MT & GTEX-139TT-0426-SM-5IJFA & GTEX-139TU-0526-SM-5J2M8 & GTEX-139UW-2626-SM-5K7W1 & GTEX-139YR-2526-SM-5IJC6 & GTEX-13CF2-2726-SM-5LZWW & GTEX-13CF3-1826-SM-5J1NK & GTEX-13D11-2526-SM-5KM28 & GTEX-13FH7-2126-SM-5L3DJ & GTEX-13FHO-0726-SM-5IJDG & GTEX-13FHP-0526-SM-5K7UY & GTEX-13FTW-2326-SM-5K7YS & GTEX-13FTX-2026-SM-5L3D6 & GTEX-13FTY-0226-SM-5IJBW & GTEX-13FTZ-2226-SM-5LZXI & GTEX-13FXS-0326-SM-5K7TV & GTEX-13G51-2726-SM-5LZZ9 & GTEX-13IVO-0626-SM-5LZYJ & GTEX-13JUV-2326-SM-5IJCE & GTEX-13JVG-0126-SM-5L3D3 & GTEX-13N11-2726-SM-5L3ER & GTEX-13N1W-0526-SM-5MR4I & GTEX-13N2G-2326-SM-5J1ON & GTEX-13NYB-2726-SM-5J2MT & GTEX-13NYC-0726-SM-5J2NQ & GTEX-13NYS-0326-SM-5MR4L & GTEX-13NZ9-0626-SM-5IJCO & GTEX-13NZA-0526-SM-5L3D7 & GTEX-13NZB-2626-SM-5J2M7 & GTEX-13O1R-0526-SM-5K7XU & GTEX-13O21-1726-SM-5MR5A & GTEX-13O3O-0526-SM-5J1NL & GTEX-13O3P-0626-SM-5L3D5 & GTEX-13O3Q-2726-SM-5KM51 & GTEX-13O61-2326-SM-5J1NJ & GTEX-13OVG-2126-SM-5KM1K & GTEX-13OVH-0626-SM-5L3EI & GTEX-13OVI-1726-SM-5L3DW & GTEX-13OVJ-0226-SM-5L3GK & GTEX-13OVK-1926-SM-6M48G & GTEX-13OVL-1426-SM-5IJC1 & GTEX-13OW5-0326-SM-5L3HK & GTEX-13OW6-0626-SM-5L3IB & GTEX-13OW7-0326-SM-5J1MP & GTEX-13OW8-1426-SM-5IJDT & GTEX-13PDP-0326-SM-5K7XP & GTEX-13PL6-0326-SM-5IJCP & GTEX-13PL7-0626-SM-5IJCD & GTEX-13PLJ-0326-SM-5L3I7 & GTEX-13PVQ-0326-SM-5K7YF & GTEX-13PVR-2526-SM-5RQIT & GTEX-13QBU-2426-SM-5LU4L & GTEX-13QIC-1226-SM-5K7YR & GTEX-13QJ3-0726-SM-5SI68 & GTEX-13RTJ-2726-SM-73KVG & GTEX-13RTK-1626-SM-5QGQS & GTEX-13RTL-0326-SM-7LT89 & GTEX-13S7M-0326-SM-5S2PH & GTEX-13S86-2326-SM-5RQK1 & GTEX-13SLW-0326-SM-5RQK5 & GTEX-13SLX-0326-SM-5Q5E4 & GTEX-13U4I-1826-SM-5IJD2 & GTEX-13VXT-0326-SM-5LU4U & GTEX-13VXU-0326-SM-5LU36 & GTEX-13W3W-2626-SM-5SIA2 & GTEX-13W46-0726-SM-5LU3Z & GTEX-13X6H-2326-SM-7EWEB & GTEX-13X6I-0526-SM-5QGP8 & GTEX-13X6J-0326-SM-7EPGD & GTEX-13X6K-0326-SM-5Q5D6 & GTEX-13YAN-0526-SM-5O9BE & GTEX-1445S-0626-SM-5LU3C & GTEX-144FL-0326-SM-5O99O & GTEX-144GL-0326-SM-5QGOY & GTEX-144GM-2026-SM-5LU3D & GTEX-144GN-2426-SM-5LU4R & GTEX-144GO-1326-SM-5Q5EL & GTEX-145LS-0526-SM-5LU8Y & GTEX-145LT-1626-SM-5O992 & GTEX-145LU-2026-SM-5Q5E8 & GTEX-145LV-2326-SM-5LU8Z & GTEX-145ME-2026-SM-5SIA5 & GTEX-145MG-0226-SM-5TDDB & GTEX-145MH-0326-SM-5LU8H & GTEX-145MI-0326-SM-5Q5EV & GTEX-145MN-2426-SM-5NQA5 & GTEX-145MO-0726-SM-5NQB9 & GTEX-146FH-0526-SM-5QGQ3 & GTEX-146FQ-0326-SM-5NQAX & GTEX-146FR-1726-SM-5Q5DT & GTEX-14753-0526-SM-5QGPR & GTEX-1477Z-1626-SM-5SIA8 & GTEX-147F3-0226-SM-5NQBV & GTEX-147F4-0326-SM-5TDCK & GTEX-147GR-0126-SM-62LER & GTEX-147JS-0526-SM-5TDD3 & GTEX-148VJ-0326-SM-5QGQE & GTEX-1497J-2626-SM-5SI9K & GTEX-14A5H-0326-SM-5RQIB & GTEX-14A5I-0326-SM-5NQ9J & GTEX-14A6H-5019-SM-793DH & GTEX-14ABY-0126-SM-62LDI & GTEX-14AS3-2126-SM-5S2MK & GTEX-14ASI-0526-SM-5QGQP & GTEX-14BIL-0326-SM-5SI9Q & GTEX-14BIM-0326-SM-5SI9B & GTEX-14BMU-2026-SM-5S2W6 & GTEX-14BMV-0326-SM-5RQHW & GTEX-14C38-0426-SM-5TDDZ & GTEX-14C39-2426-SM-5S2U5 & GTEX-14C5O-0626-SM-664N2 & GTEX-14DAQ-0326-SM-664MR & GTEX-14DAR-1826-SM-664N1 & GTEX-14E1K-2326-SM-664MP & GTEX-14E6C-1526-SM-664ND & GTEX-14E6D-0326-SM-62LDX & GTEX-14E6E-2026-SM-664N5 & GTEX-14H4A-0926-SM-5ZZUU & GTEX-14ICL-1926-SM-5RQIZ & GTEX-14JG1-0126-SM-5ZZUP & GTEX-14JG6-2126-SM-6EU2F & GTEX-14JIY-0426-SM-62LF7 & GTEX-14LLW-0526-SM-62LFB & GTEX-14LZ3-0626-SM-5ZZWP & GTEX-14PII-0626-SM-69LPY & GTEX-14PJ2-0326-SM-6EU2Q & GTEX-14PJ3-2026-SM-5ZZVK & GTEX-14PJ4-2426-SM-6EU1U & GTEX-14PJ5-2026-SM-6LLIN & GTEX-14PJ6-2326-SM-6ETZR & GTEX-14PJM-0426-SM-5ZZVN & GTEX-14PJN-2126-SM-6AJBM & GTEX-14PJO-0526-SM-6EU2O & GTEX-14PK6-2126-SM-6ETZV & GTEX-14PN4-0326-SM-6EU2N & GTEX-14PQA-0526-SM-7KUFS & GTEX-14XAO-2226-SM-6LLHU & GTEX-15CHC-2426-SM-6EU22 & GTEX-15CHQ-0726-SM-6EU18 & GTEX-15CHR-2426-SM-7DUFX & GTEX-15D79-0526-SM-6ETZP & GTEX-15DCD-0626-SM-7KUG7 & GTEX-15DDE-0526-SM-6ETZQ & GTEX-15DZA-2026-SM-6PANE & GTEX-15EO6-2826-SM-6PANB & GTEX-15ER7-0226-SM-7KUEU & GTEX-15ETS-0326-SM-6PANH & GTEX-15F5U-1826-SM-6LLJF & GTEX-15G19-0526-SM-6PAMT & GTEX-15G1A-2026-SM-7KUFG & GTEX-15RIE-2426-SM-7KUDS & GTEX-15RIF-2126-SM-7KUM8 & GTEX-15RIG-0426-SM-7KUF4 & GTEX-15RJ7-2426-SM-6M48L & GTEX-15SB6-1826-SM-6PALN & GTEX-15SDE-2326-SM-6PAL4 & GTEX-15SHU-0626-SM-7KUFH & GTEX-15SHV-2526-SM-6PAMG & GTEX-15SHW-0726-SM-7KUEI & GTEX-15SKB-2526-SM-6PALP & GTEX-15UF6-1026-SM-7KUF7 & GTEX-15UF7-2226-SM-6PAMQ & GTEX-15UKP-0326-SM-7KUFP & GTEX-169BO-1526-SM-9KNVR & GTEX-16AAH-1826-SM-7939D & GTEX-16BQI-0326-SM-6PAM4 & GTEX-16GPK-0526-SM-7KUER & GTEX-16MT8-0326-SM-6PAM5 & GTEX-16MTA-2026-SM-7KUL3 & GTEX-16NGA-1926-SM-7LTA6 & GTEX-16NPV-2426-SM-6M482 & GTEX-16NPX-0626-SM-7KULB & GTEX-16XZY-2226-SM-7938N & GTEX-16XZZ-0526-SM-7KUF1 & GTEX-16YQH-0426-SM-7KUL7 & GTEX-16Z82-0126-SM-7DHLF & GTEX-17EUY-0626-SM-793BE & GTEX-17EVP-1326-SM-7DHMR & GTEX-17EVQ-1226-SM-7LG59 & GTEX-17F96-2726-SM-7LT9F & GTEX-17F97-0526-SM-7DUF8 & GTEX-17F98-1626-SM-7938R & GTEX-17F9E-0226-SM-79OKK & GTEX-17GQL-1926-SM-718B9 & GTEX-17HG3-2726-SM-7DHL5 & GTEX-17HGU-0626-SM-7939Y & GTEX-17HHE-2126-SM-7DHLO & GTEX-17HHY-0326-SM-7938H & GTEX-17HII-0426-SM-793A3 & GTEX-17JCI-0326-SM-7LG5H & GTEX-17KNJ-2426-SM-7DHLR & GTEX-17MF6-2026-SM-7LG5I & GTEX-17MFQ-1926-SM-793A6 & GTEX-183FY-0226-SM-7LG54 & GTEX-183WM-0426-SM-731B1 & GTEX-18465-0326-SM-7LTAD & GTEX-18A66-0126-SM-731CQ & GTEX-18A67-0326-SM-7LG5X & GTEX-18A6Q-0326-SM-718AT & GTEX-18A7A-0626-SM-718BJ & GTEX-18A7B-0326-SM-7LG65 & GTEX-18D9A-1826-SM-718BK & GTEX-18D9B-0426-SM-7LTAR & GTEX-18D9U-0626-SM-7LTA4 & GTEX-18QFQ-0326-SM-731C3 & GTEX-1A32A-0526-SM-731B9 & GTEX-1A3MV-2026-SM-718BU & GTEX-1A3MW-0526-SM-731BY & GTEX-1A3MX-0526-SM-718A9 & GTEX-1A8FM-0526-SM-7P8SF & GTEX-1A8G6-0126-SM-7DUFY & GTEX-1A8G7-0326-SM-72D5B & GTEX-1AMEY-1526-SM-73KYW & GTEX-1AMFI-2226-SM-731C6 & GTEX-1AX8Z-5004-SM-ARZLD & GTEX-1AX9I-0326-SM-73KXQ & GTEX-1AX9J-0126-SM-73KY2 & GTEX-1AX9K-2726-SM-7DHMA & GTEX-1AYD5-2226-SM-73KX3 & GTEX-1B8KE-2226-SM-7939K & GTEX-1B8KZ-2126-SM-73KYG & GTEX-1B8L1-2726-SM-793AL & GTEX-1B8SF-0426-SM-79OL4 & GTEX-1B8SG-0326-SM-73KXW & GTEX-1B932-0526-SM-73KU7 & GTEX-1B933-0426-SM-7DHMC & GTEX-1B97I-2026-SM-7DHN2 & GTEX-1B97J-1226-SM-7PBZR & GTEX-1B996-0326-SM-7DHMU & GTEX-1BAJH-0126-SM-7DHMF & GTEX-1C2JI-2126-SM-793CG & GTEX-1C475-1726-SM-73KVX & GTEX-1C4CL-0326-SM-7DHMH & GTEX-1C64N-0326-SM-7P8QC & GTEX-1C64O-0326-SM-73KVW & GTEX-1C6VQ-0326-SM-7DHMS & GTEX-1C6VR-2526-SM-7DHMT & GTEX-1C6VS-0126-SM-7PC2H & GTEX-1C6WA-0326-SM-7DUGE & GTEX-1CAMQ-0326-SM-7MXUI & GTEX-1CAMR-1726-SM-793CU & GTEX-1CAMS-0126-SM-79396 & GTEX-1CAV2-2426-SM-7P8QF & GTEX-1CB4E-2126-SM-793AP & GTEX-1CB4F-0326-SM-9MQKD & GTEX-1CB4G-0426-SM-7MXUN & GTEX-1CB4H-0426-SM-7MXTL & GTEX-1CB4I-0326-SM-7DHMM & GTEX-1CB4J-1226-SM-7P8P3 & GTEX-1E1VI-0426-SM-7DHN1 & GTEX-1E2YA-0526-SM-7P8RY & GTEX-1EH9U-0326-SM-7P8S2 & GTEX-1EMGI-0326-SM-9MQM5 & GTEX-1EN7A-0326-SM-7P8T1 & GTEX-1EU9M-0126-SM-7P8P8 & GTEX-1EWIQ-0626-SM-7PBYW & GTEX-1EX96-1526-SM-7PBXK & GTEX-1F48J-0526-SM-9WYSX & GTEX-1F52S-0826-SM-7P8TQ & GTEX-1F5PK-2626-SM-7RHH6 & GTEX-1F5PL-0426-SM-7P8PR & GTEX-1F6I4-0326-SM-7P8T8 & GTEX-1F6IF-0226-SM-7PBZ6 & GTEX-1F75A-0626-SM-7PBYI & GTEX-1F75B-0526-SM-7P8T5 & GTEX-1F75I-0526-SM-7RHI3 & GTEX-1F75W-0326-SM-7PC2Q & GTEX-1F7RK-0326-SM-7RHH7 & GTEX-1F88E-1826-SM-9MQLV & GTEX-1F88F-2526-SM-7PC2R & GTEX-1FIGZ-1726-SM-9MQKS & GTEX-1GF9U-2326-SM-7RHH9 & GTEX-1GF9V-0126-SM-9WYT2 & GTEX-1GF9W-0526-SM-9MQJP & GTEX-1GF9X-2126-SM-7PBXN & GTEX-1GMR2-2126-SM-7P8TX & GTEX-1GMR3-2126-SM-9WYTZ & GTEX-1GMR8-0326-SM-9KNUO & GTEX-1GMRU-0326-SM-9WYT6 & GTEX-1GN1U-2226-SM-9MQK1 & GTEX-1GN1V-0326-SM-9WYTO & GTEX-1GN1W-0726-SM-9KNTV & GTEX-1GN2E-0726-SM-9MQLU & GTEX-1GN73-0126-SM-CNPPT & GTEX-1GPI6-0326-SM-9MQM6 & GTEX-1GPI7-0426-SM-7RHHP & GTEX-1GTWX-0326-SM-9WYTP & GTEX-1GZ2Q-0426-SM-9WPOU & GTEX-1GZ4H-1626-SM-7PC3F & GTEX-1GZ4I-0526-SM-9YFLX & GTEX-1GZHY-0126-SM-9WYUQ & GTEX-1H11D-0326-SM-9WG71 & GTEX-1H1CY-2726-SM-9MQLR & GTEX-1H1DE-1726-SM-A9G3G & GTEX-1H1DG-0326-SM-9QEHK & GTEX-1H1E6-2126-SM-9KNVM & GTEX-1H1ZS-0626-SM-CNPPU & GTEX-1H23P-0526-SM-9WG6S & GTEX-1H2FU-0526-SM-ACKXO & GTEX-1H3NZ-0326-SM-9MQL6 & GTEX-1H3O1-0626-SM-9MQM4 & GTEX-1H3VE-0126-SM-9WYTW & GTEX-1H3VY-0326-SM-9WYU6 & GTEX-1H4P4-0626-SM-9YFKZ & GTEX-1HB9E-0326-SM-D3LA5 & GTEX-1HBPH-0826-SM-ARZNB & GTEX-1HBPI-0226-SM-ADEJ7 & GTEX-1HBPM-0426-SM-CKZOO & GTEX-1HBPN-0526-SM-A9SM6 & GTEX-1HC8U-2626-SM-CNPPH & GTEX-1HCU6-0526-SM-A9SKU & GTEX-1HCU7-0426-SM-D3L8Q & GTEX-1HCU9-1926-SM-9WYSE & GTEX-1HCUA-2326-SM-ACKVJ & GTEX-1HCVE-0326-SM-CGQEW & GTEX-1HFI6-0426-SM-B2LXB & GTEX-1HFI7-1926-SM-A96TQ & GTEX-1HGF4-2626-SM-CM2SJ & GTEX-1HKZK-0226-SM-9WYUG & GTEX-1HR9M-0326-SM-CL549 & GTEX-1HSEH-0326-SM-A9G26 & GTEX-1HSGN-0326-SM-ACKXQ & GTEX-1HSKV-0126-SM-E6CI1 & GTEX-1HSMO-0526-SM-ACKXB & GTEX-1HSMP-0326-SM-A9SMC & GTEX-1HSMQ-1326-SM-ADEHS & GTEX-1HT8W-0326-SM-CM2SG & GTEX-1HUB1-0526-SM-CL54N & GTEX-1I19N-2026-SM-ACKXJ & GTEX-1I1GP-2126-SM-CKZPJ & GTEX-1I1GQ-0326-SM-A9SKS & GTEX-1I1GR-0326-SM-CKZPI & GTEX-1I1GS-0326-SM-ARL7X & GTEX-1I1GT-0726-SM-B2LWN & GTEX-1I1GU-2126-SM-CGQF9 & GTEX-1I1GV-0126-SM-CL55G & GTEX-1I1HK-0326-SM-ACKW5 & GTEX-1I4MK-2326-SM-ADEHR & GTEX-1I6K6-0326-SM-CJI4A & GTEX-1I6K7-0326-SM-B2LXO & GTEX-1ICG6-2726-SM-CKZPN & GTEX-1ICLY-0326-SM-ARL7S & GTEX-1ICLZ-0626-SM-ARL83 & GTEX-1IDFM-1526-SM-ARL7U & GTEX-1IDJC-2026-SM-ADEIK & GTEX-1IDJD-1326-SM-CM2TQ & GTEX-1IDJE-2426-SM-ACKWF & GTEX-1IDJF-0326-SM-ADEIG & GTEX-1IDJH-0226-SM-CYPSB & GTEX-1IDJU-2426-SM-ARZM9 & GTEX-1IDJV-0426-SM-COH3Z & GTEX-1IE54-0326-SM-ARZMD & GTEX-1IGQW-0526-SM-CKZO3 & GTEX-1IKJJ-0326-SM-CL55L & GTEX-1IKK5-0426-SM-CL53X & GTEX-1IKOH-0126-SM-COH4D & GTEX-1IL2U-0726-SM-EAZ2Y & GTEX-1IL2V-0526-SM-ARL8B & GTEX-1IOXB-0326-SM-CL55M & GTEX-1IY9M-0326-SM-ARZMN & GTEX-1J1OQ-0426-SM-A9SLI & GTEX-1J1R8-2326-SM-CKZPS & GTEX-1J8EW-0326-SM-CYPSX & GTEX-1J8JJ-0126-SM-D3L93 & GTEX-1J8Q2-0126-SM-E9J2G & GTEX-1J8Q3-1426-SM-CKZPU & GTEX-1J8QM-2226-SM-CYPSK & GTEX-1JJ6O-0926-SM-CYPT1 & GTEX-1JJEA-0126-SM-D3L8A & GTEX-1JK1U-2226-SM-CNNPL & GTEX-1JKYN-1826-SM-ARZMZ & GTEX-1JKYR-0326-SM-CNPOL & GTEX-1JMLX-0326-SM-CM2RP & GTEX-1JMPY-1226-SM-CJI3A & GTEX-1JMPZ-0126-SM-CNPOZ & GTEX-1JMQI-2126-SM-CM2SC & GTEX-1JMQJ-0126-SM-E6CI2 & GTEX-1JMQK-0326-SM-ARZN5 & GTEX-1JMQL-0126-SM-CY8HN & GTEX-1JN1M-0526-SM-CJI3D & GTEX-1JN6P-0526-SM-COH33 & GTEX-1JN76-0326-SM-ARZNJ & GTEX-1K2DA-2226-SM-CGQGM & GTEX-1K2DU-2526-SM-D3L8V & GTEX-1K9T9-0326-SM-EWRNQ & GTEX-1KAFJ-2326-SM-D3L8Z & GTEX-1KANA-0926-SM-D3L9K & GTEX-1KANB-0126-SM-E6CJT & GTEX-1KANC-1626-SM-E6CIA & GTEX-1KD4Q-0326-SM-E9TJA & GTEX-1KD5A-0726-SM-DIPEO & GTEX-1KWVE-0926-SM-CXZKP & GTEX-1KXAM-2426-SM-DIPFC & GTEX-1L5NE-2226-SM-CXZKS & GTEX-1LB8K-0126-SM-EVYCN & GTEX-1LBAC-0326-SM-DIPF1 & GTEX-1LC47-0626-SM-DIPFE & GTEX-1LG7Y-0126-SM-E6CJ8 & GTEX-1LG7Z-2126-SM-CXKYU & GTEX-1LGOU-2126-SM-DIPFG & GTEX-1LGRB-2626-SM-CNPPR & GTEX-1LH75-2626-SM-E9TKL & GTEX-1LNCM-1226-SM-E9U5C & GTEX-1LSNL-0126-SM-EWRNR & GTEX-1LSNM-2326-SM-EWRO8 & GTEX-1LVA9-0326-SM-DLHBU & GTEX-1LVAM-0326-SM-DIPFL & GTEX-1LVAN-0526-SM-CNNQ1 & GTEX-1LVAO-0526-SM-EWRNS & GTEX-1M4P7-0126-SM-DKPQF & GTEX-1M5QR-1326-SM-EWROC & GTEX-1MA7W-1826-SM-DIPFP & GTEX-1MCC2-2726-SM-EWRN3 & GTEX-1MCQQ-0626-SM-E9U5Q & GTEX-1MCYP-2026-SM-DTXE4 & GTEX-1MJIX-2126-SM-E9J3A & GTEX-1MJK3-1426-SM-E9TK1 & GTEX-1MUQO-0226-SM-E9TJL & GTEX-1N2DV-0526-SM-DTX8W & GTEX-1N2DW-0426-SM-E9TK4 & GTEX-1N2EF-0526-SM-E76OK & GTEX-1NHNU-1226-SM-DTX8I & GTEX-1NUQO-0726-SM-E9J3K & GTEX-1O9I2-0526-SM-EYYXI & GTEX-1OFPY-2526-SM-DTXEK & GTEX-1P4AB-0326-SM-EXUT3 & GTEX-1PBJJ-0326-SM-E8VNT & GTEX-1PDJ9-0526-SM-DTXDL & GTEX-1PIEJ-0326-SM-EVYB5 & GTEX-1PIGE-0226-SM-E76OT & GTEX-1PIIG-0126-SM-E9J46 & GTEX-1PPGY-0426-SM-DTXFE & GTEX-1PPH7-2526-SM-E76OJ & GTEX-1PPH8-0326-SM-E76PR & GTEX-1PWST-0426-SM-E76QV & GTEX-1QAET-2026-SM-E9J3S & GTEX-1QCLY-0426-SM-E8VOH & GTEX-1QCLZ-0326-SM-DTXG2 & GTEX-1QEPI-0526-SM-E76QF & GTEX-1QMI2-0526-SM-DTXFU & GTEX-1QP28-0526-SM-E8VNR & GTEX-1QP2A-0526-SM-E8VN5 & GTEX-1QP66-1626-SM-E76PC & GTEX-1QP67-1826-SM-DTX8D & GTEX-1QP6S-0426-SM-DTXG4 & GTEX-1QP9N-1926-SM-E6CPY & GTEX-1QPFJ-0326-SM-E8VO2 & GTEX-1QW4Y-1726-SM-EWRN1 & GTEX-1R46S-0326-SM-EWRNE & GTEX-1R7EU-0626-SM-DTX9N & GTEX-1R7EV-2026-SM-DTX83 & GTEX-1R9JW-2426-SM-DTXFI & GTEX-1R9K4-0626-SM-E76OZ & GTEX-1R9K5-0326-SM-EWRNG & GTEX-1R9PM-2226-SM-E8VOC & GTEX-1R9PN-1826-SM-E8VO4 & GTEX-1R9PO-2426-SM-EVYBS & GTEX-1RAZA-0526-SM-E76R2 & GTEX-1RAZQ-0426-SM-DTXFQ & GTEX-1RAZR-0326-SM-EWRNM & GTEX-1RB15-2226-SM-DTXFZ & GTEX-1RQEC-0126-SM-E9J2H & GTEX-1RQED-0426-SM-E6CJP & GTEX-1S5VW-0526-SM-E6CHL & GTEX-1S5ZA-0526-SM-EWRO1 & GTEX-1S82P-0326-SM-E9TIR & GTEX-1S82U-1426-SM-E6CJL & GTEX-1S82Y-2226-SM-EWRNV & GTEX-1S83E-2126-SM-EWRO6 & GTEX-N7MS-0426-SM-2YUN6 & GTEX-NFK9-0626-SM-2HMIV & GTEX-O5YT-1626-SM-32PK6 & GTEX-O5YV-2026-SM-2D7VS & GTEX-OHPK-1626-SM-2YUN3 & GTEX-OHPL-1626-SM-2HMIR & GTEX-OHPN-2726-SM-2I5H4 & GTEX-OIZF-1626-SM-2YUNE & GTEX-OIZG-1326-SM-2HMIQ & GTEX-OIZH-1626-SM-2HMKI & GTEX-OIZI-0626-SM-2XCEH & GTEX-OOBJ-1626-SM-2I3F7 & GTEX-OOBK-1626-SM-2HMKG & GTEX-OXRK-1826-SM-2HMJE & GTEX-OXRL-1626-SM-2YUMU & GTEX-OXRN-1326-SM-3LK5V & GTEX-OXRO-1726-SM-3LK6C & GTEX-OXRP-2326-SM-2S1NL & GTEX-P44G-0526-SM-2XCD1 & GTEX-P44H-0426-SM-2XCEZ & GTEX-P4PP-1626-SM-2HMJF & GTEX-P4PQ-1626-SM-2HMKK & GTEX-P4QS-1626-SM-2S1NH & GTEX-P4QT-1626-SM-DHXIR & GTEX-P78B-1626-SM-5SI85 & GTEX-PLZ4-0926-SM-2S1OI & GTEX-PLZ5-1726-SM-2I5F6 & GTEX-PLZ6-1526-SM-2S1OC & GTEX-POMQ-1926-SM-3NB1Y & GTEX-POYW-0526-SM-2XCEY & GTEX-PSDG-0426-SM-5SI86 & GTEX-PW2O-1726-SM-2S1OO & GTEX-PWCY-2026-SM-5SI8R & GTEX-PWN1-1626-SM-2S1OL & GTEX-PX3G-1626-SM-2S1PT & GTEX-Q2AG-0426-SM-2S1PU & GTEX-Q2AH-1826-SM-2S1Q2 & GTEX-Q2AI-1526-SM-3GIJ3 & GTEX-Q734-2026-SM-3GADA & GTEX-QCQG-2126-SM-DTXFV & GTEX-QDT8-0526-SM-3NMD8 & GTEX-QDVJ-1926-SM-2S1PJ & GTEX-QDVN-2426-SM-2S1Q4 & GTEX-QEG4-0626-SM-2S1OY & GTEX-QEG5-0426-SM-2I5GJ & GTEX-QEL4-0626-SM-3GIJM & GTEX-QESD-1626-SM-2S1RB & GTEX-QLQ7-1726-SM-2S1QQ & GTEX-QLQW-1326-SM-2S1QS & GTEX-QV31-1426-SM-2S1QD & GTEX-QV44-2026-SM-2S1RD & GTEX-QVJO-0126-SM-3GIK4 & GTEX-QVUS-0226-SM-3GIJY & GTEX-QXCU-1726-SM-2TC6L & GTEX-R3RS-0526-SM-3GADG & GTEX-R53T-1826-SM-3GIJX & GTEX-R55C-1726-SM-3GADJ & GTEX-R55D-0626-SM-3GAD5 & GTEX-R55E-0526-SM-2TC6B & GTEX-R55G-2326-SM-2TC61 & GTEX-REY6-0826-SM-2TF4S & GTEX-RM2N-1626-SM-2TF5N & GTEX-RN64-0326-SM-2TC5J & GTEX-RNOR-0526-SM-2TF4O & GTEX-RTLS-0526-SM-2TF64 & GTEX-RU1J-1726-SM-2TF5S & GTEX-RU72-1326-SM-2TF6T & GTEX-RUSQ-1726-SM-2TF68 & GTEX-RWS6-2126-SM-2XCAV & GTEX-RWSA-0726-SM-2XCBE & GTEX-S32W-2326-SM-2XCAW & GTEX-S33H-2226-SM-DKPOP & GTEX-S7PM-0526-SM-3NM92 & GTEX-S95S-1426-SM-2XCDM & GTEX-SE5C-1826-SM-2XCE4 & GTEX-SIU8-0526-SM-2XCDP & GTEX-SJXC-0526-SM-2XCFG & GTEX-SN8G-0326-SM-32PLG & GTEX-SNMC-1426-SM-2XCFM & GTEX-SNOS-1526-SM-32PLW & GTEX-SSA3-0326-SM-32QPS & GTEX-SUCS-1626-SM-32PLS & GTEX-T2IS-2626-SM-32QPP & GTEX-T5JC-0626-SM-3NMA6 & GTEX-T5JW-1826-SM-3GAE1 & GTEX-T6MN-0526-SM-32PMS & GTEX-T8EM-1326-SM-3DB7G & GTEX-TKQ1-1426-SM-4GICK & GTEX-TKQ2-0826-SM-33HB6 & GTEX-TML8-1826-SM-32QOR & GTEX-TMMY-0426-SM-33HBB & GTEX-TMZS-0326-SM-3DB9P & GTEX-TSE9-0526-SM-3DB7Z & GTEX-U3ZG-0326-SM-47JXN & GTEX-U3ZH-1926-SM-4DXTR & GTEX-U3ZM-1226-SM-3DB9G & GTEX-U3ZN-2226-SM-3DB88 & GTEX-U412-0326-SM-3DB9L & GTEX-U4B1-1626-SM-3DB8N & GTEX-U8T8-1426-SM-3DB9H & GTEX-U8XE-0726-SM-3DB8O & GTEX-UJHI-1726-SM-3DB9B & GTEX-UJMC-1826-SM-3GADT & GTEX-UPJH-0526-SM-4IHK8 & GTEX-UTHO-0726-SM-3GAEN & GTEX-V1D1-2426-SM-3GAER & GTEX-V955-2426-SM-3GAEF & GTEX-VJWN-0426-SM-3GIJI & GTEX-VJYA-1926-SM-3GIJJ & GTEX-VUSG-2626-SM-4KKZI & GTEX-W5WG-1926-SM-4KKZK & GTEX-WEY5-2026-SM-CYPRC & GTEX-WFG7-2226-SM-3GIKP & GTEX-WFG8-2426-SM-3GILL & GTEX-WFON-2326-SM-3LK7M & GTEX-WHPG-2226-SM-3NMBO & GTEX-WHSB-1826-SM-3TW8M & GTEX-WHSE-0526-SM-5GZZD & GTEX-WK11-2526-SM-3NM9Y & GTEX-WL46-0626-SM-3LK7R & GTEX-WOFL-0626-SM-3MJG3 & GTEX-WOFM-1326-SM-3MJFR & GTEX-WRHK-1626-SM-3MJFH & GTEX-WRHU-0826-SM-3MJFN & GTEX-WWTW-0626-SM-4MVNS & GTEX-WWYW-0526-SM-3NB2W & GTEX-WXYG-2526-SM-3NB3F & GTEX-WY7C-2526-SM-3NB2N & GTEX-WYJK-1726-SM-3NM9U & GTEX-WYVS-2326-SM-3NMAI & GTEX-WZTO-0826-SM-3NM8Q & GTEX-X261-0326-SM-3NMD4 & GTEX-X4EO-0526-SM-3P5Z3 & GTEX-X4XX-0626-SM-3NMC1 & GTEX-X4XY-0626-SM-4E3IN & GTEX-X5EB-2326-SM-46MW5 & GTEX-X638-0326-SM-47JY1 & GTEX-X88G-0326-SM-47JZ4 & GTEX-X8HC-0526-SM-4E3JA & GTEX-XAJ8-1026-SM-47JY9 & GTEX-XBEC-0626-SM-4QARY & GTEX-XBED-2626-SM-4E3J5 & GTEX-XBEW-1026-SM-4QARV & GTEX-XGQ4-2326-SM-4AT53 & GTEX-XMD1-0626-SM-EZ6MC & GTEX-XMD2-0526-SM-4YCDI & GTEX-XOT4-0526-SM-4B66O & GTEX-XPT6-2026-SM-4B64V & GTEX-XPVG-2526-SM-4B66D & GTEX-XQ3S-0426-SM-4BOOA & GTEX-XQ8I-0626-SM-4BOPT & GTEX-XUW1-0826-SM-4BOP6 & GTEX-XUYS-0326-SM-47JX2 & GTEX-XUZC-2126-SM-4BRW8 & GTEX-XV7Q-2926-SM-4BRUL & GTEX-XYKS-2426-SM-4AT43 & GTEX-Y111-0326-SM-4SOIX & GTEX-Y114-2526-SM-4TT8M & GTEX-Y3I4-2326-SM-4TT81 & GTEX-Y3IK-2626-SM-4WWDK & GTEX-Y5LM-2126-SM-4VDSY & GTEX-Y5V5-2526-SM-4VBQ4 & GTEX-Y5V6-2626-SM-5IFIX & GTEX-Y8DK-0326-SM-4TT3P & GTEX-Y8E4-1026-SM-4VBQ5 & GTEX-Y8E5-0326-SM-57WBM & GTEX-Y8LW-2026-SM-4V6G8 & GTEX-Y9LG-1926-SM-5IFHY & GTEX-YB5E-2226-SM-5IFJ5 & GTEX-YB5K-2326-SM-5IFHD & GTEX-YBZK-0326-SM-59HLN & GTEX-YEC3-2126-SM-4YCDB & GTEX-YEC4-2226-SM-5IFJT & GTEX-YECK-0626-SM-4W1ZE & GTEX-YF7O-2526-SM-5IFJX & GTEX-YFC4-1026-SM-5RQJM & GTEX-YFCO-1926-SM-4W212 & GTEX-YJ8O-2826-SM-5CVM4 & GTEX-Z93S-1326-SM-5CVMR & GTEX-Z9EW-1726-SM-5CVMO & GTEX-ZA64-2026-SM-5PNXT & GTEX-ZAB4-0426-SM-5HL7N & GTEX-ZAB5-2126-SM-5K7UN & GTEX-ZAJG-0526-SM-5S2MT & GTEX-ZAK1-0526-SM-5K7X4 & GTEX-ZAKK-0326-SM-5EGHA & GTEX-ZC5H-0326-SM-5HL9F & GTEX-ZDTS-0526-SM-4WKH9 & GTEX-ZDXO-0326-SM-4WKHJ & GTEX-ZDYS-1726-SM-5HL4Y & GTEX-ZE7O-0326-SM-51MTH & GTEX-ZE9C-2326-SM-5J1NT & GTEX-ZEX8-2526-SM-DO92M & GTEX-ZF28-0526-SM-4WKGW & GTEX-ZF29-2426-SM-DO92G & GTEX-ZF2S-2126-SM-4WWAY & GTEX-ZF3C-0326-SM-4WWBF & GTEX-ZGAY-0726-SM-DO91O & GTEX-ZLFU-2526-SM-DO91K & GTEX-ZLV1-2126-SM-4WWD2 & GTEX-ZLWG-2126-SM-DO91M & GTEX-ZP4G-2026-SM-57WEH & GTEX-ZPCL-2026-SM-57WFD & GTEX-ZPIC-2526-SM-57WDP & GTEX-ZQG8-1226-SM-51MRX & GTEX-ZQUD-1726-SM-7P8ON & GTEX-ZT9X-1826-SM-57WDU & GTEX-ZTPG-0126-SM-5O9AL & GTEX-ZTX8-1626-SM-51MRY & GTEX-ZUA1-0326-SM-5NQA3 & GTEX-ZV68-0526-SM-59HKI & GTEX-ZV6S-2126-SM-4YCEM & GTEX-ZV7C-2426-SM-5NQ7Q & GTEX-ZVE1-0526-SM-5NQ71 & GTEX-ZVE2-0626-SM-5GU7I & GTEX-ZVP2-2126-SM-5GU6E & GTEX-ZVT2-2426-SM-57WCQ & GTEX-ZVT3-0526-SM-5GIE9 & GTEX-ZVT4-0326-SM-51MS5 & GTEX-ZVTK-0626-SM-5GU6Y & GTEX-ZVZO-0326-SM-5HL4N & GTEX-ZVZP-2526-SM-57WBR & GTEX-ZWKS-0326-SM-5NQ7G & GTEX-ZXG5-0326-SM-5GICH & GTEX-ZY6K-2026-SM-5GZXQ & GTEX-ZYFC-0526-SM-5GIDF & GTEX-ZYFD-0326-SM-5NQ8I & GTEX-ZYFG-2426-SM-5GIE8 & GTEX-ZYT6-1626-SM-5E45R & GTEX-ZYW4-0526-SM-5GZZ5 & GTEX-ZYY3-0526-SM-5E45G & GTEX-ZZ64-1526-SM-5E43K & GTEX-ZZPT-0626-SM-5GZXT & GTEX-ZZPU-2626-SM-5E45Y & Name & Description\\\\\n",
       " <chr> & <chr> & <chr> & <chr> & <dbl> & <dbl> & <dbl> & <dbl> & <dbl> & <dbl> & <dbl> & <dbl> & <dbl> & <dbl> & <dbl> & <dbl> & <dbl> & <dbl> & <dbl> & <dbl> & <dbl> & <dbl> & <dbl> & <dbl> & <dbl> & <dbl> & <dbl> & <dbl> & <dbl> & <dbl> & <dbl> & <dbl> & <dbl> & <dbl> & <dbl> & <dbl> & <dbl> & <dbl> & <dbl> & <dbl> & <dbl> & <dbl> & <dbl> & <dbl> & <dbl> & <dbl> & <dbl> & <dbl> & <dbl> & <dbl> & <dbl> & <dbl> & <dbl> & <dbl> & <dbl> & <dbl> & <dbl> & <dbl> & <dbl> & <dbl> & <dbl> & <dbl> & <dbl> & <dbl> & <dbl> & <dbl> & <dbl> & <dbl> & <dbl> & <dbl> & <dbl> & <dbl> & <dbl> & <dbl> & <dbl> & <dbl> & <dbl> & <dbl> & <dbl> & <dbl> & <dbl> & <dbl> & <dbl> & <dbl> & <dbl> & <dbl> & <dbl> & <dbl> & <dbl> & <dbl> & <dbl> & <dbl> & <dbl> & <dbl> & <dbl> & <dbl> & <dbl> & <dbl> & <dbl> & <dbl> & <dbl> & <dbl> & <dbl> & <dbl> & <dbl> & <dbl> & <dbl> & <dbl> & <dbl> & <dbl> & <dbl> & <dbl> & <dbl> & <dbl> & <dbl> & <dbl> & <dbl> & <dbl> & <dbl> & <dbl> & <dbl> & <dbl> & <dbl> & <dbl> & <dbl> & <dbl> & <dbl> & <dbl> & <dbl> & <dbl> & <dbl> & <dbl> & <dbl> & <dbl> & <dbl> & <dbl> & <dbl> & <dbl> & <dbl> & <dbl> & <dbl> & <dbl> & <dbl> & <dbl> & <dbl> & <dbl> & <dbl> & <dbl> & <dbl> & <dbl> & <dbl> & <dbl> & <dbl> & <dbl> & <dbl> & <dbl> & <dbl> & <dbl> & <dbl> & <dbl> & <dbl> & <dbl> & <dbl> & <dbl> & <dbl> & <dbl> & <dbl> & <dbl> & <dbl> & <dbl> & <dbl> & <dbl> & <dbl> & <dbl> & <dbl> & <dbl> & <dbl> & <dbl> & <dbl> & <dbl> & <dbl> & <dbl> & <dbl> & <dbl> & <dbl> & <dbl> & <dbl> & <dbl> & <dbl> & <dbl> & <dbl> & <dbl> & <dbl> & <dbl> & <dbl> & <dbl> & <dbl> & <dbl> & <dbl> & <dbl> & <dbl> & <dbl> & <dbl> & <dbl> & <dbl> & <dbl> & <dbl> & <dbl> & <dbl> & <dbl> & <dbl> & <dbl> & <dbl> & <dbl> & <dbl> & <dbl> & <dbl> & <dbl> & <dbl> & <dbl> & <dbl> & <dbl> & <dbl> & <dbl> & <dbl> & <dbl> & <dbl> & <dbl> & <dbl> & <dbl> & <dbl> & <dbl> & <dbl> & <dbl> & <dbl> & <dbl> & <dbl> & <dbl> & <dbl> & <dbl> & <dbl> & <dbl> & <dbl> & <dbl> & <dbl> & <dbl> & <dbl> & <dbl> & <dbl> & <dbl> & <dbl> & <dbl> & <dbl> & <dbl> & <dbl> & <dbl> & <dbl> & <dbl> & <dbl> & <dbl> & <dbl> & <dbl> & <dbl> & <dbl> & <dbl> & <dbl> & <dbl> & <dbl> & <dbl> & <dbl> & <dbl> & <dbl> & <dbl> & <dbl> & <dbl> & <dbl> & <dbl> & <dbl> & <dbl> & <dbl> & <dbl> & <dbl> & <dbl> & <dbl> & <dbl> & <dbl> & <dbl> & <dbl> & <dbl> & <dbl> & <dbl> & <dbl> & <dbl> & <dbl> & <dbl> & <dbl> & <dbl> & <dbl> & <dbl> & <dbl> & <dbl> & <dbl> & <dbl> & <dbl> & <dbl> & <dbl> & <dbl> & <dbl> & <dbl> & <dbl> & <dbl> & <dbl> & <dbl> & <dbl> & <dbl> & <dbl> & <dbl> & <dbl> & <dbl> & <dbl> & <dbl> & <dbl> & <dbl> & <dbl> & <dbl> & <dbl> & <dbl> & <dbl> & <dbl> & <dbl> & <dbl> & <dbl> & <dbl> & <dbl> & <dbl> & <dbl> & <dbl> & <dbl> & <dbl> & <dbl> & <dbl> & <dbl> & <dbl> & <dbl> & <dbl> & <dbl> & <dbl> & <dbl> & <dbl> & <dbl> & <dbl> & <dbl> & <dbl> & <dbl> & <dbl> & <dbl> & <dbl> & <dbl> & <dbl> & <dbl> & <dbl> & <dbl> & <dbl> & <dbl> & <dbl> & <dbl> & <dbl> & <dbl> & <dbl> & <dbl> & <dbl> & <dbl> & <dbl> & <dbl> & <dbl> & <dbl> & <dbl> & <dbl> & <dbl> & <dbl> & <dbl> & <dbl> & <dbl> & <dbl> & <dbl> & <dbl> & <dbl> & <dbl> & <dbl> & <dbl> & <dbl> & <dbl> & <dbl> & <dbl> & <dbl> & <dbl> & <dbl> & <dbl> & <dbl> & <dbl> & <dbl> & <dbl> & <dbl> & <dbl> & <dbl> & <dbl> & <dbl> & <dbl> & <dbl> & <dbl> & <dbl> & <dbl> & <dbl> & <dbl> & <dbl> & <dbl> & <dbl> & <dbl> & <dbl> & <dbl> & <dbl> & <dbl> & <dbl> & <dbl> & <dbl> & <dbl> & <dbl> & <dbl> & <dbl> & <dbl> & <dbl> & <dbl> & <dbl> & <dbl> & <dbl> & <dbl> & <dbl> & <dbl> & <dbl> & <dbl> & <dbl> & <dbl> & <dbl> & <dbl> & <dbl> & <dbl> & <dbl> & <dbl> & <dbl> & <dbl> & <dbl> & <dbl> & <dbl> & <dbl> & <dbl> & <dbl> & <dbl> & <dbl> & <dbl> & <dbl> & <dbl> & <dbl> & <dbl> & <dbl> & <dbl> & <dbl> & <dbl> & <dbl> & <dbl> & <dbl> & <dbl> & <dbl> & <dbl> & <dbl> & <dbl> & <dbl> & <dbl> & <dbl> & <dbl> & <dbl> & <dbl> & <dbl> & <dbl> & <dbl> & <dbl> & <dbl> & <dbl> & <dbl> & <dbl> & <dbl> & <dbl> & <dbl> & <dbl> & <dbl> & <dbl> & <dbl> & <dbl> & <dbl> & <dbl> & <dbl> & <dbl> & <dbl> & <dbl> & <dbl> & <dbl> & <dbl> & <dbl> & <dbl> & <dbl> & <dbl> & <dbl> & <dbl> & <dbl> & <dbl> & <dbl> & <dbl> & <dbl> & <dbl> & <dbl> & <dbl> & <dbl> & <dbl> & <dbl> & <dbl> & <dbl> & <dbl> & <dbl> & <dbl> & <dbl> & <dbl> & <dbl> & <dbl> & <dbl> & <dbl> & <dbl> & <dbl> & <dbl> & <dbl> & <dbl> & <dbl> & <dbl> & <dbl> & <dbl> & <dbl> & <dbl> & <dbl> & <dbl> & <dbl> & <dbl> & <dbl> & <dbl> & <dbl> & <dbl> & <dbl> & <dbl> & <dbl> & <dbl> & <dbl> & <dbl> & <dbl> & <dbl> & <dbl> & <dbl> & <dbl> & <dbl> & <dbl> & <dbl> & <dbl> & <dbl> & <dbl> & <dbl> & <dbl> & <dbl> & <dbl> & <dbl> & <dbl> & <dbl> & <dbl> & <dbl> & <dbl> & <dbl> & <dbl> & <dbl> & <dbl> & <dbl> & <dbl> & <dbl> & <dbl> & <dbl> & <dbl> & <dbl> & <dbl> & <dbl> & <dbl> & <dbl> & <dbl> & <dbl> & <dbl> & <dbl> & <dbl> & <dbl> & <dbl> & <dbl> & <dbl> & <dbl> & <dbl> & <dbl> & <dbl> & <dbl> & <dbl> & <dbl> & <dbl> & <dbl> & <dbl> & <dbl> & <dbl> & <dbl> & <dbl> & <dbl> & <dbl> & <dbl> & <dbl> & <dbl> & <dbl> & <dbl> & <dbl> & <dbl> & <dbl> & <dbl> & <dbl> & <dbl> & <dbl> & <dbl> & <dbl> & <dbl> & <dbl> & <dbl> & <dbl> & <dbl> & <dbl> & <dbl> & <dbl> & <dbl> & <dbl> & <dbl> & <dbl> & <dbl> & <dbl> & <dbl> & <dbl> & <dbl> & <dbl> & <dbl> & <dbl> & <dbl> & <dbl> & <dbl> & <dbl> & <dbl> & <dbl> & <dbl> & <dbl> & <dbl> & <dbl> & <dbl> & <dbl> & <dbl> & <dbl> & <dbl> & <dbl> & <dbl> & <dbl> & <dbl> & <dbl> & <dbl> & <dbl> & <dbl> & <dbl> & <dbl> & <dbl> & <dbl> & <dbl> & <dbl> & <dbl> & <dbl> & <dbl> & <dbl> & <dbl> & <dbl> & <dbl> & <dbl> & <dbl> & <dbl> & <dbl> & <dbl> & <dbl> & <dbl> & <dbl> & <dbl> & <dbl> & <dbl> & <dbl> & <dbl> & <dbl> & <dbl> & <dbl> & <dbl> & <dbl> & <dbl> & <dbl> & <dbl> & <dbl> & <dbl> & <dbl> & <dbl> & <dbl> & <dbl> & <dbl> & <dbl> & <dbl> & <dbl> & <dbl> & <dbl> & <dbl> & <dbl> & <dbl> & <dbl> & <dbl> & <dbl> & <dbl> & <dbl> & <dbl> & <dbl> & <dbl> & <dbl> & <dbl> & <dbl> & <dbl> & <dbl> & <dbl> & <dbl> & <dbl> & <dbl> & <dbl> & <dbl> & <dbl> & <dbl> & <dbl> & <dbl> & <dbl> & <dbl> & <dbl> & <dbl> & <dbl> & <dbl> & <dbl> & <dbl> & <dbl> & <dbl> & <dbl> & <dbl> & <dbl> & <dbl> & <dbl> & <dbl> & <dbl> & <dbl> & <dbl> & <dbl> & <dbl> & <dbl> & <dbl> & <dbl> & <dbl> & <dbl> & <dbl> & <dbl> & <dbl> & <dbl> & <dbl> & <dbl> & <dbl> & <dbl> & <dbl> & <dbl> & <dbl> & <dbl> & <dbl> & <dbl> & <dbl> & <dbl> & <dbl> & <dbl> & <dbl> & <dbl> & <dbl> & <dbl> & <dbl> & <dbl> & <dbl> & <dbl> & <dbl> & <dbl> & <dbl> & <dbl> & <dbl> & <dbl> & <chr> & <chr>\\\\\n",
       "\\hline\n",
       "\t ENSG00000228229 &       & 1 & lincRNA        & 0.000000 & 0.00000 & 0.00000 & 0.00000 & 0.000000 & 0.000 & 0.000000 & 0.0000 & 0.00000 & 0.0000 & 0.0000 & 0.000000 & 0.0000 & 0.00000 & 0.00000 & 0.000000 & 0.00000 & 0.0000 & 0.00000 & 0 & 0.00000 & 0.00000 & 0.00000 & 0.0000 & 0.00000 & 0.000000 & 0 & 0.0000 & 0.00000 & 0.00000 & 0.00000 & 0.000000 & 0.00000 & 0.00000 & 0.0000 & 0.0000 & 0.0000 & 0.00000 & 0.0000 & 0.0000 & 0.00000 & 0.00000 & 0.00000 & 0.00000 & 0.00000 & 0.000000 & 0.00 & 0.00000 & 0.00000 & 0.0000 & 0 & 0.00000 & 0.00000 & 0.00000 & 0 & 0.000000 & 0.0000 & 0.00000 & 0.00000 & 0.00000 & 0.00000 & 0.0000 & 0.00000 & 0.00000 & 0.00000 & 0.00000 & 0.000000 & 0.00000 & 0.000000 & 0.000000 & 0 & 0.00000 & 0.00000 & 0.000000 & 0.00000 & 0.00000 & 0.000000 & 0.0000 & 0.00000 & 0.000000 & 0.00000 & 0.00000 & 0.00000 & 0.00000 & 0.0000 & 0.00000 & 0.00000 & 0.00000 & 0.00000 & 0.00000 & 0.00000 & 0.0000 & 0.00000 & 0.0000 & 0.00000 & 0.00000 & 0.0000 & 0 & 0.0000 & 0.000000 & 0.000000 & 0.00000 & 0.00000 & 0.000000 & 0.000000 & 0.000000 & 0.00000 & 0.0000 & 0.0000 & 0.00000 & 0.000000 & 0.00000 & 0.000000 & 0 & 0 & 0.00000 & 0.0000 & 0.00000 & 0.0000 & 0.00000 & 0.000000 & 0.000000 & 0.00000 & 0.0000 & 0.0000 & 0.00000 & 0 & 0.00000 & 0.0000 & 0.000000 & 0.00000 & 0.000000 & 0.0000 & 0.000000 & 0.00000 & 0.00000 & 0.000000 & 0.0000 & 0.00000 & 0 & 0.00000 & 0.000000 & 0.00000 & 0.000000 & 0.00000 & 0.0000 & 0.00000 & 0.00000 & 0.000000 & 0.00000 & 0.00000 & 0.00000 & 0.00000 & 0.00000 & 0.00000 & 0.0000 & 0.000000 & 0.00000 & 0.00000 & 0.00000 & 0.0000 & 0.00000 & 0.00000 & 0.000000 & 0.00000 & 0 & 0.00000 & 0.0000 & 0.000000 & 0.0000 & 0.00000 & 0 & 0.000000 & 0.00000 & 0.00000 & 0.0000 & 0.000000 & 0.000000 & 0.00000 & 0.00000 & 0.000000 & 0.000000 & 0.000000 & 0.000000 & 0.000000 & 0.00000 & 0.00000 & 0.00000 & 0.00000 & 0.0000 & 0.00000 & 0.0000 & 0.000000 & 0.0000 & 0.00000 & 0.00000 & 0.00000 & 0.00000 & 0.0000 & 0.00000 & 0 & 0.000000 & 0.000000 & 0.00000 & 0.00000 & 0.00000 & 0.00000 & 0 & 0.00000 & 0.0000 & 0.000000 & 0.0000 & 0.00000 & 0.0000 & 0.00000 & 0 & 0.00000 & 0.00000 & 0.000000 & 0 & 0.00000 & 0.00000 & 0.00000 & 0.00000 & 0.00000 & 0.00000 & 0.00000 & 0.000000 & 0.000000 & 0.00000 & 0.00000 & 0.00000 & 0.00000 & 0.00000 & 0.00000 & 0.00000 & 0.000000 & 0.0000 & 0.0000 & 0.0000 & 0.000000 & 0.000000 & 0.000000 & 0.000000 & 0.00000 & 0.000000 & 0.00000 & 0.000000 & 0.00000 & 0.000000 & 0.00000 & 0.00000 & 0.000000 & 0.00000 & 0.00000 & 0.000000 & 0.0000 & 0.00000 & 0.000000 & 0.000000 & 0.00000 & 0.0000 & 0.000000 & 0.000000 & 0.00000 & 0.000000 & 0.00000 & 0.000000 & 0.00000 & 0.0000 & 0.00000 & 0.00000 & 0 & 0.00000 & 0.000000 & 0.00000 & 0.00000 & 0 & 0.00000 & 0.00000 & 0.00000 & 0.00000 & 0.00000 & 0.00000 & 0.0000 & 0.00000 & 0.00000 & 0 & 0.00000 & 0.0000 & 0.00000 & 0.00000 & 0.00000 & 0.0000 & 0.000000 & 0.00000 & 0.00000 & 0.000000 & 0.00000 & 0.000 & 0.00000 & 0.00000 & 0.00000 & 0.00000 & 0.00000 & 0.00000 & 0.000000 & 0.00000 & 0.00000 & 0.000000 & 0.00000 & 0.00000 & 0.00000 & 0.00000 & 0.000000 & 0.00000 & 0 & 0.0000 & 0.00000 & 0 & 0 & 0.000 & 0.0000 & 0.00000 & 0.0000 & 0.000000 & 0.000000 & 0.0000 & 0.00000 & 0.0000 & 0.00000 & 0.000000 & 0.00000 & 0.0000 & 0.000000 & 0.00000 & 0.000000 & 0.00000 & 0.000000 & 0.0000 & 0.000000 & 0.0000 & 0.0000 & 0.0000 & 0.00000 & 0.000000 & 0.00000 & 0.000000 & 0.000000 & 0.00000 & 0.000000 & 0.00000 & 0.00000 & 0.00000 & 0.0000 & 0.00000 & 0.00000 & 0.00000 & 0.00000 & 0.00000 & 0.00000 & 0.00000 & 0.00000 & 0.000000 & 0.00000 & 0.00000 & 0.000000 & 0.00000 & 0.0000 & 0.000 & 0.00000 & 0.00000 & 0.000000 & 0.0000 & 0.0000 & 0.00000 & 0 & 0.00000 & 0.0000 & 0.000000 & 0.000000 & 0.00000 & 0.00000 & 0.0000 & 0.000000 & 0.00000 & 0.0000 & 0.00000 & 0.00000 & 0.00000 & 0 & 0.000000 & 0.00000 & 0.000000 & 0.000000 & 0.000000 & 0.000000 & 0.00000 & 0.000000 & 0.00000 & 0.0000 & 0.000000 & 0.00000 & 0.000000 & 0.00000 & 0.00000 & 0.00000 & 0.000000 & 0.0000 & 0.00000 & 0.00000 & 0.0000 & 0.000000 & 0.0000 & 0.00000 & 0.00000 & 0.0000 & 0.00000 & 0.00000 & 0.00000 & 0.0000 & 0.00000 & 0.000000 & 0.00000 & 0.000000 & 0.0000 & 0.00000 & 0.00000 & 0.00000 & 0.000000 & 0.00000 & 0.00000 & 0.000000 & 0.00000 & 0.00000 & 0 & 0.00000 & 0.000000 & 0.00000 & 0.0000 & 0.000000 & 0.000 & 0.00000 & 0.000000 & 0.000000 & 0.000000 & 0.00000 & 0.0000 & 0.000000 & 0.00000 & 0.00000 & 0.000000 & 0.00000 & 0.00000 & 0.00000 & 0.00000 & 0.00000 & 0.00000 & 0.00000 & 0.0000 & 0.00000 & 0.00000 & 0.00000 & 0.00000 & 0.000000 & 0.00000 & 0.00000 & 0.00000 & 0.000000 & 0.00000 & 0 & 0.00000 & 0.00000 & 0.000000 & 0.000000 & 0.0000 & 0.000000 & 0.00000 & 0.00000 & 0.00000 & 0 & 0.0000 & 0.000000 & 0.00000 & 0.0000 & 0.00000 & 0.00000 & 0.00000 & 0.00000 & 0 & 0.000000 & 0.00000 & 0.000000 & 0.00000 & 0.00000 & 0.00000 & 0.00000 & 0.00000 & 0.00000 & 0.000000 & 0.00000 & 0.0000 & 0.000 & 0.00000 & 0.00000 & 0.00000 & 0.00000 & 0.00000 & 0.00000 & 0.00000 & 0.00000 & 0.000000 & 0.00000 & 0.00000 & 0.00000 & 0.00000 & 0.000000 & 0.00000 & 0.00000 & 0.0000 & 0.00000 & 0.00000 & 0.00000 & 0.000000 & 0.00000 & 0.00000 & 0.0000 & 0.00000 & 0.00000 & 0.00000 & 0.00000 & 0.00000 & 0.00000 & 0.0000 & 0.0000 & 0 & 0.000000 & 0.00000 & 0.000000 & 0.00000 & 0.00000 & 0.00000 & 0.000000 & 0.0000 & 0.00000 & 0.00000 & 0.00000 & 0.000000 & 0.00000 & 0.000000 & 0.0000 & 0.00000 & 0.00000 & 0.00000 & 0.00000 & 0.00000 & 0.00000 & 0.00000 & 0.00000 & 0.000000 & 0 & 0 & 0.00000 & 0.00000 & 0.00000 & 0.00000 & 0.00000 & 0.000000 & 0.00000 & 0.0000 & 0.000000 & 0.000000 & 0.0000 & 0.00000 & 0.000000 & 0.00000 & 0.0000 & 0.0000 & 0.000000 & 0.000000 & 0.000000 & 0.0000 & 0.00000 & 0.0000 & 0.0000 & 0.00000 & 0.00000 & 0.0000 & 0.000000 & 0.00000 & 0.00000 & 0.00000 & 0.00000 & 0.000000 & 0.00000 & 0.00000 & 0.00000 & 0.00000 & 0.000000 & 0.000 & 0.00000 & 0.00000 & 0.00000 & 0.00000 & 0 & 0.00000 & 0.0000 & 0.00000 & 0.00000 & 0.0000 & 0.00000 & 0.00000 & 0.0000 & 0.0000 & 0.000 & 0.00000 & 0.00000 & 0.0000 & 0.00000 & 0.00000 & 0.0000 & 0.00000 & 0.00000 & 0.0000 & 0.00000 & 0.00000 & 0.00000 & 0.000000 & 0.00000 & 0.000000 & 0.00000 & 0.000000 & 0.0000 & 0.0000 & 0.00000 & 0.0000 & 0.0000 & 0.00000 & 0.0000 & 0.00000 & 0.00000 & 0.00000 & 0.000000 & 0.00000 & 0.000 & 0.000000 & 0.0000 & 0.00000 & 0.00000 & 0.00000 & 0.00000 & 0.000 & 0.000000 & 0.00000 & 0.0000 & 0.000000 & 0.000000 & 0.0000 & 0.0000 & 0.00000 & 0.00000 & 0.00000 & 0.00000 & 0.0000 & 0.0000 & 0.00000 & 0.000000 & 0.00000 & 0.00000 & 0.00000 & 0.00000 & 0.00000 & 0 & 0.00000 & 0.00000 & 0.0000 & 0.000000 & 0.00000 & 0.000000 & 0.00000 & 0.00000 & 0.00000 & 0.00000 & 0.0000 & 0.000000 & 0.00000 & 0.00000 & 0.000000 & 0.000000 & 0.00000 & 0.000000 & 0.000000 & 0.00000 & 0.00000 & 0.00000 & 0.00000 & 0.00000 & 0.000000 & 0.000000 & 0.00000 & 0.000000 & 0.0000 & 0.00000 & 0.0000 & 0.00000 & 0.00000 & 0.00000 & 0.00000 & 0.00000 & 0.000000 & 0.000000 & 0.00000 & 0.00000 & 0.00000 & 0.0000 & 0.00000 & 0.0000 & 0.00000 & 0.00000 & 0.00000 & 0 & 0.00000 & 0.0000 & 0 & 0.000000 & 0.000000 & 0.00000 & 0.00000 & 0.00000 & 0.00000 & 0.00000 & 0.0000 & 0.00000 & 0.00000 & 0.00000 & 0.00000 & 0.00000 & 0.000000 & 0.00000 & 0.00000 & 0.00000 & 0.0000 & 0.0000 & 0.00000 & 0.000000 & 0.0000 & 0.0000 & 0.00000 & 0.000000 & 0.000000 & 0.00000 & 0.0000 & 0.000 & 0.00000 & 0.00000 & 0.0000 & 0.00000 & 0.0000 & 0.0000 & 0.00000 & 0.0000 & 0.000000 & 0.00000 & 0 & 0.00000 & 0.000000 & 0.00000 & 0.00000 & 0.000000 & 0.00000 & 0.00000 & 0.00000 & 0.00000 & 0.00000 & 0.00000 & 0.00000 & 0.000000 & 0.00000 & 0.00000 & 0.000000 & 0.000000 & 0.000000 & 0.000000 & 0.000000 & 0.0000 & 0.000000 & 0.00000 & 0.00000 & 0.00000 & 0.000000 & 0.00000 & 0.00000 & 0.00000 & 0.00000 & 0.000000 & 0.00000 & 0.000000 & 0.0000 & 0.00000 & 0.000000 & 0.000000 & 0.00000 & 0.00000 & ENSG00000228229.2 & RP11-219C24.10\\\\\n",
       "\t ENSG00000237445 &       & 1 & lincRNA        & 0.496500 & 0.00000 & 0.00000 & 0.00000 & 0.103200 & 0.857 & 0.000000 & 0.0000 & 0.00000 & 0.0000 & 0.0000 & 0.000000 & 0.0000 & 0.29200 & 0.00000 & 0.000000 & 0.24060 & 0.0000 & 0.00000 & 0 & 0.08674 & 0.21260 & 0.15820 & 0.2334 & 0.09322 & 0.260300 & 0 & 0.0000 & 0.00000 & 0.00000 & 0.13680 & 0.429200 & 0.00000 & 0.00000 & 0.1253 & 0.2098 & 0.1157 & 0.11330 & 0.0000 & 0.0000 & 0.28940 & 0.00000 & 0.22140 & 0.16830 & 0.00000 & 0.000000 & 0.75 & 0.19430 & 0.00000 & 0.0000 & 0 & 0.16090 & 0.00000 & 0.11440 & 0 & 0.123000 & 0.0000 & 0.44580 & 0.00000 & 0.10350 & 0.00000 & 0.0000 & 0.27290 & 0.00000 & 0.00000 & 0.00000 & 0.265900 & 0.00000 & 0.095960 & 0.000000 & 0 & 0.00000 & 0.00000 & 0.000000 & 0.00000 & 0.00000 & 0.000000 & 0.4509 & 0.06995 & 0.000000 & 0.00000 & 0.12580 & 0.08601 & 0.10930 & 0.0000 & 0.00000 & 0.37620 & 0.15860 & 0.35800 & 0.06129 & 0.10280 & 0.2026 & 0.00000 & 0.0000 & 0.00000 & 0.07238 & 0.2139 & 0 & 0.0000 & 0.215900 & 0.063380 & 0.00000 & 0.07426 & 0.235000 & 0.166300 & 0.000000 & 0.15230 & 0.0000 & 0.0000 & 0.37050 & 0.000000 & 0.00000 & 0.111300 & 0 & 0 & 0.00000 & 0.0000 & 0.83340 & 0.0000 & 0.26150 & 0.103700 & 0.088990 & 0.09659 & 0.0000 & 0.1614 & 0.39110 & 0 & 0.18140 & 0.2537 & 0.092610 & 0.08917 & 0.083930 & 0.1698 & 0.000000 & 0.00000 & 0.00000 & 0.000000 & 0.0000 & 0.10780 & 0 & 0.00000 & 0.000000 & 0.00000 & 0.000000 & 0.32420 & 1.0260 & 0.28810 & 0.00000 & 0.205800 & 0.00000 & 0.11910 & 0.00000 & 0.00000 & 0.22680 & 0.11710 & 0.1615 & 0.000000 & 0.00000 & 0.42780 & 0.24060 & 0.0000 & 0.00000 & 0.00000 & 0.000000 & 0.15820 & 0 & 0.00000 & 0.1269 & 0.120200 & 0.0000 & 0.08177 & 0 & 0.459300 & 0.00000 & 0.00000 & 0.1653 & 0.413600 & 0.402400 & 0.00000 & 0.08002 & 0.574900 & 0.066240 & 0.179600 & 0.000000 & 0.154400 & 0.08987 & 0.07928 & 0.00000 & 0.00000 & 0.1741 & 0.00000 & 0.1366 & 0.172900 & 0.3766 & 0.17180 & 0.09672 & 0.00000 & 0.00000 & 0.0832 & 0.00000 & 0 & 0.000000 & 0.000000 & 0.30450 & 0.14410 & 0.39230 & 0.00000 & 0 & 0.27090 & 0.1502 & 0.235100 & 0.1286 & 0.14920 & 0.0000 & 0.16880 & 0 & 0.14550 & 0.00000 & 0.122800 & 0 & 0.19850 & 0.07763 & 0.06920 & 0.00000 & 0.09568 & 0.10100 & 0.16340 & 0.091270 & 0.168200 & 0.09081 & 0.00000 & 0.00000 & 0.00000 & 0.00000 & 0.09363 & 0.38810 & 0.000000 & 0.0000 & 0.2064 & 0.0000 & 0.000000 & 0.142000 & 0.000000 & 0.000000 & 0.00000 & 0.095030 & 0.12690 & 0.000000 & 0.00000 & 0.000000 & 0.00000 & 0.00000 & 0.083560 & 0.00000 & 0.00000 & 0.053220 & 0.0000 & 0.07405 & 0.000000 & 0.123000 & 0.08054 & 0.0000 & 0.170300 & 0.124600 & 0.00000 & 0.000000 & 0.09204 & 0.000000 & 0.00000 & 0.0000 & 0.20490 & 0.16130 & 0 & 0.06044 & 0.000000 & 0.20900 & 0.00000 & 0 & 0.20540 & 0.08229 & 0.00000 & 0.00000 & 0.11060 & 0.06207 & 0.1801 & 0.13750 & 0.00000 & 0 & 0.00000 & 0.0000 & 0.00000 & 0.00000 & 0.00000 & 0.0000 & 0.000000 & 0.07392 & 0.00000 & 0.000000 & 0.00000 & 0.000 & 0.00000 & 0.00000 & 0.06361 & 0.00000 & 0.12820 & 0.00000 & 0.162400 & 0.00000 & 0.20850 & 0.107600 & 0.00000 & 0.21210 & 0.00000 & 0.00000 & 0.177800 & 0.00000 & 0 & 0.0000 & 0.00000 & 0 & 0 & 0.000 & 0.1491 & 0.00000 & 0.0000 & 0.000000 & 0.093060 & 0.0000 & 0.00000 & 0.2743 & 0.00000 & 0.000000 & 0.00000 & 0.0000 & 0.000000 & 0.00000 & 0.000000 & 0.07300 & 0.000000 & 0.2504 & 0.000000 & 0.3115 & 0.0000 & 0.0000 & 0.00000 & 0.082090 & 0.00000 & 0.413900 & 0.198600 & 0.00000 & 0.000000 & 0.00000 & 0.00000 & 0.00000 & 0.0000 & 0.22320 & 0.00000 & 0.18520 & 0.00000 & 0.24560 & 0.34660 & 0.00000 & 0.37280 & 0.000000 & 0.36530 & 0.00000 & 0.472900 & 0.19100 & 0.2119 & 0.000 & 0.00000 & 0.30110 & 0.171700 & 0.3194 & 0.0925 & 0.00000 & 0 & 0.15040 & 0.2951 & 0.000000 & 0.078460 & 0.13580 & 0.09161 & 0.0000 & 0.084770 & 0.00000 & 0.0000 & 0.00000 & 0.00000 & 0.06184 & 0 & 0.000000 & 0.00000 & 0.000000 & 0.201900 & 0.069280 & 0.055400 & 0.35160 & 0.000000 & 0.00000 & 0.0000 & 0.090700 & 0.07058 & 0.000000 & 0.00000 & 0.00000 & 0.00000 & 0.126200 & 0.0000 & 0.00000 & 0.00000 & 0.1873 & 0.000000 & 0.1151 & 0.17290 & 0.06061 & 0.0000 & 0.00000 & 0.29070 & 0.00000 & 0.0000 & 0.00000 & 0.000000 & 0.46410 & 0.000000 & 0.1198 & 0.05780 & 0.00000 & 0.06916 & 0.063140 & 0.00000 & 0.00000 & 0.000000 & 0.15630 & 0.03940 & 0 & 0.05386 & 0.000000 & 0.00000 & 0.0000 & 0.000000 & 0.000 & 0.00000 & 0.285600 & 0.109500 & 0.000000 & 0.06557 & 0.0000 & 0.059460 & 0.20300 & 0.39380 & 0.111000 & 0.00000 & 0.00000 & 0.00000 & 0.00000 & 0.00000 & 0.00000 & 0.05412 & 0.0000 & 0.49170 & 0.10470 & 0.00000 & 0.00000 & 0.276600 & 0.00000 & 0.10720 & 0.00000 & 0.000000 & 0.15370 & 0 & 0.00000 & 0.00000 & 0.000000 & 0.000000 & 0.0000 & 0.000000 & 0.11910 & 0.19170 & 0.00000 & 0 & 0.0000 & 0.064150 & 0.00000 & 0.0000 & 0.00000 & 0.00000 & 0.00000 & 0.00000 & 0 & 0.000000 & 0.13870 & 0.056890 & 0.00000 & 0.00000 & 0.00000 & 0.00000 & 0.00000 & 0.00000 & 0.000000 & 0.00000 & 0.2831 & 0.000 & 0.00000 & 0.00000 & 0.00000 & 0.06636 & 0.10160 & 0.43080 & 0.18850 & 0.00000 & 0.000000 & 0.00000 & 0.07593 & 0.00000 & 0.18540 & 0.000000 & 0.31880 & 0.00000 & 0.0678 & 0.06923 & 0.00000 & 0.00000 & 0.181400 & 0.00000 & 0.39100 & 0.0000 & 0.00000 & 0.00000 & 0.00000 & 0.07380 & 0.00000 & 0.21200 & 0.0000 & 0.2294 & 0 & 0.000000 & 0.00000 & 0.000000 & 0.00000 & 0.00000 & 0.16240 & 0.000000 & 0.0000 & 0.00000 & 0.00000 & 0.08584 & 0.063130 & 0.00000 & 0.000000 & 0.0000 & 0.00000 & 0.00000 & 0.23830 & 0.17200 & 0.00000 & 0.00000 & 0.00000 & 0.00000 & 0.000000 & 0 & 0 & 0.00000 & 0.00000 & 0.00000 & 0.00000 & 0.08357 & 0.000000 & 0.00000 & 0.0000 & 0.000000 & 0.189900 & 0.0000 & 0.00000 & 0.000000 & 0.73520 & 0.2063 & 0.0000 & 0.000000 & 0.000000 & 0.000000 & 0.0000 & 0.26660 & 0.1086 & 0.0000 & 2.33300 & 0.00000 & 0.0000 & 0.144400 & 0.00000 & 0.06517 & 0.36360 & 0.00000 & 0.000000 & 0.00000 & 0.00000 & 0.00000 & 0.00000 & 0.249800 & 0.000 & 0.43500 & 0.00000 & 0.36210 & 0.00000 & 0 & 0.00000 & 0.0000 & 0.11030 & 0.07657 & 0.1959 & 0.00000 & 0.00000 & 0.0000 & 0.2259 & 0.000 & 0.14360 & 0.00000 & 0.0000 & 0.00000 & 0.00000 & 0.0000 & 1.39400 & 0.00000 & 0.0000 & 0.08857 & 0.00000 & 0.72170 & 0.000000 & 0.00000 & 0.000000 & 0.41970 & 0.000000 & 0.4016 & 0.3506 & 0.47150 & 0.0000 & 0.5356 & 0.00000 & 0.3759 & 0.22030 & 0.05347 & 0.00000 & 0.000000 & 0.00000 & 0.000 & 0.000000 & 0.0700 & 0.00000 & 0.00000 & 0.28640 & 0.14500 & 0.218 & 0.000000 & 0.13890 & 0.0000 & 0.000000 & 0.000000 & 0.0000 & 0.0000 & 0.13580 & 0.00000 & 0.37810 & 0.00000 & 0.2544 & 0.0000 & 0.00000 & 0.148200 & 0.17730 & 0.13710 & 0.00000 & 0.08614 & 0.29560 & 0 & 0.00000 & 0.08745 & 0.0000 & 0.000000 & 0.00000 & 0.218400 & 0.06643 & 0.07796 & 0.00000 & 0.00000 & 0.0000 & 0.067500 & 0.00000 & 0.00000 & 0.065040 & 0.000000 & 0.36890 & 0.000000 & 0.000000 & 0.23340 & 0.20260 & 0.00000 & 0.34870 & 0.13380 & 0.200000 & 0.262700 & 0.11890 & 0.655100 & 0.0000 & 0.08556 & 0.1432 & 0.00000 & 0.00000 & 0.00000 & 0.28900 & 0.07583 & 0.144400 & 0.000000 & 0.00000 & 0.09986 & 1.50000 & 0.3134 & 0.15440 & 0.1324 & 0.00000 & 0.16090 & 0.00000 & 0 & 0.00000 & 0.0000 & 0 & 0.118700 & 0.000000 & 0.21190 & 0.00000 & 0.00000 & 0.06266 & 0.00000 & 0.0000 & 0.00000 & 0.00000 & 0.15110 & 0.28020 & 0.00000 & 0.000000 & 0.13360 & 0.49210 & 0.00000 & 0.0000 & 0.1104 & 0.07913 & 0.000000 & 0.1718 & 0.0000 & 0.00000 & 0.000000 & 0.133300 & 0.00000 & 0.0000 & 0.239 & 0.00000 & 0.00000 & 0.1097 & 0.00000 & 0.0000 & 0.0000 & 0.73100 & 0.0000 & 0.000000 & 0.31520 & 0 & 0.00000 & 0.265600 & 0.00000 & 0.07861 & 0.000000 & 0.08143 & 0.00000 & 0.08521 & 0.00000 & 0.15820 & 0.43140 & 0.09515 & 0.765900 & 0.14340 & 0.00000 & 0.000000 & 0.000000 & 0.000000 & 0.000000 & 0.932300 & 0.0000 & 0.085700 & 0.00000 & 0.17010 & 0.00000 & 0.000000 & 0.32910 & 0.00000 & 0.19600 & 0.06013 & 0.000000 & 0.00000 & 0.562800 & 0.2964 & 0.00000 & 0.083650 & 0.086140 & 0.00000 & 0.00000 & ENSG00000237445.2 & CTA-520D8.2   \\\\\n",
       "\t ENSG00000231606 &       & 1 & lincRNA        & 0.000000 & 0.00000 & 0.00000 & 0.00000 & 0.000000 & 0.000 & 0.000000 & 0.0000 & 0.00000 & 0.0000 & 0.1514 & 0.000000 & 0.0000 & 0.49050 & 0.00000 & 0.000000 & 0.00000 & 0.0000 & 0.10110 & 0 & 0.00000 & 0.28570 & 0.00000 & 0.0000 & 0.00000 & 0.000000 & 0 & 0.2516 & 0.12810 & 0.00000 & 0.00000 & 0.000000 & 0.12020 & 0.00000 & 0.0000 & 0.0000 & 0.0000 & 0.00000 & 0.1452 & 0.0000 & 0.00000 & 0.32610 & 0.14880 & 0.00000 & 0.00000 & 0.000000 & 0.00 & 0.00000 & 0.00000 & 0.2328 & 0 & 0.00000 & 0.32310 & 0.00000 & 0 & 0.000000 & 0.0000 & 0.00000 & 0.12380 & 0.00000 & 0.00000 & 0.0000 & 0.00000 & 0.00000 & 0.00000 & 0.00000 & 0.000000 & 0.00000 & 0.000000 & 0.000000 & 0 & 0.00000 & 0.00000 & 0.000000 & 0.00000 & 0.00000 & 0.000000 & 0.4848 & 0.00000 & 0.000000 & 0.09899 & 0.16910 & 0.00000 & 0.00000 & 0.0000 & 0.00000 & 0.00000 & 0.00000 & 0.16040 & 0.08237 & 0.00000 & 0.0000 & 0.00000 & 0.0000 & 0.00000 & 0.19450 & 0.1917 & 0 & 0.1053 & 0.000000 & 0.000000 & 0.00000 & 0.09981 & 0.000000 & 0.000000 & 0.000000 & 0.00000 & 0.1246 & 0.0000 & 0.12450 & 0.000000 & 0.15260 & 0.299100 & 0 & 0 & 0.00000 & 0.0000 & 0.00000 & 0.0000 & 0.00000 & 0.000000 & 0.119600 & 0.00000 & 0.0000 & 0.0000 & 0.00000 & 0 & 0.00000 & 0.2273 & 0.000000 & 0.47940 & 0.000000 & 0.2282 & 0.000000 & 0.09627 & 0.00000 & 0.000000 & 0.3773 & 0.00000 & 0 & 0.00000 & 0.000000 & 0.00000 & 0.000000 & 0.00000 & 0.3064 & 0.00000 & 0.00000 & 0.000000 & 0.00000 & 0.16000 & 0.00000 & 0.00000 & 0.00000 & 0.00000 & 0.0000 & 0.243400 & 0.00000 & 0.00000 & 0.00000 & 0.1109 & 0.23950 & 0.13570 & 0.000000 & 0.21260 & 0 & 0.00000 & 0.0000 & 0.000000 & 0.0000 & 0.21980 & 0 & 0.000000 & 0.00000 & 0.00000 & 0.5555 & 0.277900 & 0.000000 & 0.16900 & 0.00000 & 0.000000 & 0.000000 & 0.482700 & 0.000000 & 0.000000 & 0.12080 & 0.10650 & 0.00000 & 0.27740 & 0.0000 & 0.00000 & 0.0000 & 0.000000 & 0.1012 & 0.00000 & 0.00000 & 0.00000 & 0.11580 & 0.0000 & 0.19890 & 0 & 0.000000 & 0.000000 & 0.40920 & 0.19360 & 0.10550 & 0.32480 & 0 & 0.00000 & 0.0000 & 0.000000 & 0.0000 & 0.00000 & 0.0000 & 0.00000 & 0 & 0.19560 & 0.22570 & 0.495000 & 0 & 0.80020 & 0.00000 & 0.09300 & 0.00000 & 0.00000 & 0.00000 & 0.10980 & 0.000000 & 0.226100 & 0.00000 & 0.00000 & 0.22400 & 0.00000 & 0.00000 & 0.00000 & 0.00000 & 0.000000 & 0.0000 & 0.2775 & 0.2003 & 0.000000 & 0.000000 & 0.000000 & 0.000000 & 0.09862 & 0.127700 & 0.00000 & 0.000000 & 0.00000 & 0.000000 & 0.00000 & 0.30950 & 0.000000 & 0.00000 & 0.00000 & 0.000000 & 0.2153 & 0.19900 & 0.000000 & 0.000000 & 0.00000 & 0.0000 & 0.114400 & 0.000000 & 0.00000 & 0.330800 & 0.00000 & 0.000000 & 0.00000 & 0.0000 & 0.00000 & 0.00000 & 0 & 0.64980 & 0.000000 & 0.00000 & 0.00000 & 0 & 0.00000 & 0.00000 & 0.20540 & 0.33060 & 0.14860 & 0.00000 & 0.0000 & 0.36950 & 0.00000 & 0 & 0.00000 & 0.1665 & 0.24800 & 0.00000 & 0.00000 & 0.0000 & 0.000000 & 0.00000 & 0.00000 & 0.000000 & 0.00000 & 0.000 & 0.00000 & 0.00000 & 0.00000 & 0.00000 & 0.17230 & 0.00000 & 0.291000 & 0.00000 & 0.00000 & 0.000000 & 0.00000 & 0.00000 & 0.12100 & 0.50680 & 0.000000 & 0.11160 & 0 & 0.1517 & 0.00000 & 0 & 0 & 0.000 & 0.0000 & 0.00000 & 0.0000 & 0.000000 & 0.000000 & 0.0000 & 0.00000 & 0.0000 & 0.00000 & 0.181700 & 0.00000 & 0.0000 & 0.000000 & 0.00000 & 0.000000 & 0.19620 & 0.000000 & 0.0000 & 0.280100 & 0.2093 & 0.0000 & 0.0000 & 0.00000 & 0.000000 & 0.00000 & 0.000000 & 0.177900 & 0.00000 & 0.000000 & 0.00000 & 0.00000 & 0.10730 & 0.0000 & 0.00000 & 0.00000 & 0.00000 & 0.00000 & 0.00000 & 0.09317 & 0.21600 & 0.00000 & 0.000000 & 0.00000 & 0.18070 & 0.000000 & 0.00000 & 0.0000 & 0.000 & 0.24330 & 0.00000 & 0.000000 & 0.1431 & 0.0000 & 0.00000 & 0 & 0.20210 & 0.3966 & 0.000000 & 0.000000 & 0.00000 & 0.00000 & 0.0000 & 0.000000 & 0.23310 & 0.0000 & 0.00000 & 0.00000 & 0.00000 & 0 & 0.000000 & 0.00000 & 0.000000 & 0.180900 & 0.186200 & 0.074460 & 0.09450 & 0.271300 & 0.00000 & 0.0000 & 0.000000 & 0.00000 & 0.000000 & 0.09020 & 0.00000 & 0.00000 & 0.000000 & 0.0000 & 0.19430 & 0.06869 & 0.0000 & 0.000000 & 0.0000 & 0.00000 & 0.00000 & 0.4256 & 0.00000 & 0.09768 & 0.00000 & 0.0000 & 0.00000 & 0.000000 & 0.00000 & 0.000000 & 0.0000 & 0.00000 & 0.00000 & 0.00000 & 0.000000 & 0.00000 & 0.00000 & 0.000000 & 0.00000 & 0.00000 & 0 & 0.07239 & 0.000000 & 0.00000 & 0.2222 & 0.000000 & 0.000 & 0.00000 & 0.383900 & 0.220700 & 0.000000 & 0.00000 & 0.0000 & 0.000000 & 0.00000 & 0.00000 & 0.000000 & 0.00000 & 0.00000 & 0.00000 & 0.08954 & 0.00000 & 0.13080 & 0.00000 & 0.0000 & 0.33040 & 0.00000 & 0.28020 & 0.00000 & 0.000000 & 0.08796 & 0.28820 & 0.21370 & 0.084410 & 0.00000 & 0 & 0.33950 & 0.00000 & 0.344600 & 0.223100 & 0.0000 & 0.000000 & 0.00000 & 0.00000 & 0.00000 & 0 & 0.2266 & 0.000000 & 0.08007 & 0.0000 & 0.00000 & 0.00000 & 0.28960 & 0.00000 & 0 & 0.000000 & 0.00000 & 0.076460 & 0.00000 & 0.00000 & 0.00000 & 0.00000 & 0.06526 & 0.08996 & 0.000000 & 0.00000 & 0.0000 & 0.000 & 0.00000 & 0.23950 & 0.00000 & 0.08919 & 0.00000 & 0.28950 & 0.16890 & 0.08338 & 0.142300 & 0.28130 & 0.00000 & 0.08588 & 0.00000 & 0.000000 & 0.21420 & 0.00000 & 0.0000 & 0.00000 & 0.27880 & 0.00000 & 0.000000 & 0.00000 & 0.00000 & 0.0000 & 0.07808 & 0.08389 & 0.00000 & 0.09918 & 0.00000 & 0.09498 & 0.1315 & 0.0000 & 0 & 0.000000 & 0.00000 & 0.286100 & 0.00000 & 0.00000 & 0.21830 & 0.186800 & 0.0000 & 0.00000 & 0.22190 & 0.34610 & 0.000000 & 0.00000 & 0.000000 & 0.6559 & 0.00000 & 0.30460 & 0.00000 & 0.00000 & 0.39490 & 0.00000 & 0.00000 & 0.00000 & 0.000000 & 0 & 0 & 0.00000 & 0.00000 & 0.15100 & 0.00000 & 0.00000 & 0.000000 & 0.00000 & 0.0000 & 0.000000 & 0.000000 & 0.0000 & 0.00000 & 0.107300 & 0.13180 & 0.0000 & 0.0000 & 0.000000 & 0.191100 & 0.000000 & 0.0000 & 0.17910 & 0.0000 & 0.1968 & 0.11610 & 0.00000 & 0.0000 & 0.000000 & 0.13230 & 0.00000 & 0.00000 & 0.00000 & 0.000000 & 0.00000 & 0.00000 & 0.56560 & 0.00000 & 0.111900 & 0.000 & 0.00000 & 0.00000 & 0.00000 & 0.00000 & 0 & 0.00000 & 0.2728 & 0.00000 & 0.10290 & 0.5265 & 0.14060 & 0.46460 & 0.0000 & 0.0000 & 0.327 & 0.00000 & 0.00000 & 0.0000 & 0.85850 & 0.00000 & 0.5309 & 0.00000 & 0.00000 & 0.0000 & 0.00000 & 0.00000 & 0.48490 & 0.000000 & 0.86530 & 0.000000 & 0.00000 & 0.000000 & 0.0000 & 0.1570 & 0.00000 & 0.0000 & 0.0000 & 0.00000 & 0.0000 & 0.00000 & 0.00000 & 0.00000 & 0.000000 & 0.00000 & 0.000 & 0.000000 & 0.1882 & 0.09192 & 0.00000 & 0.00000 & 0.00000 & 0.000 & 0.000000 & 0.46650 & 0.8544 & 0.131800 & 0.000000 & 0.0000 & 0.0000 & 0.12160 & 0.00000 & 0.25410 & 0.00000 & 0.0000 & 0.8544 & 0.00000 & 0.099590 & 0.00000 & 0.00000 & 0.00000 & 0.23150 & 0.00000 & 0 & 0.00000 & 0.00000 & 0.0000 & 0.000000 & 0.00000 & 0.000000 & 0.00000 & 0.06985 & 0.00000 & 0.00000 & 0.3763 & 0.000000 & 0.12620 & 0.00000 & 0.000000 & 0.000000 & 0.00000 & 0.063820 & 0.000000 & 0.00000 & 0.00000 & 0.00000 & 0.37490 & 0.00000 & 0.000000 & 0.000000 & 0.07991 & 0.000000 & 0.0000 & 0.00000 & 0.0000 & 0.00000 & 0.00000 & 0.00000 & 0.00000 & 0.00000 & 0.000000 & 0.000000 & 0.06794 & 0.26840 & 0.20150 & 0.0000 & 0.10370 & 0.0890 & 0.00000 & 0.00000 & 0.00000 & 0 & 0.00000 & 0.2608 & 0 & 0.159500 & 0.000000 & 0.00000 & 0.20330 & 0.00000 & 0.08421 & 0.00000 & 0.0000 & 0.00000 & 0.00000 & 0.00000 & 0.00000 & 0.00000 & 0.000000 & 0.00000 & 0.00000 & 0.00000 & 0.1210 & 0.0000 & 0.21270 & 0.000000 & 0.0000 & 0.1202 & 0.09710 & 0.000000 & 0.000000 & 0.00000 & 0.2150 & 0.000 & 0.00000 & 0.00000 & 0.0000 & 0.00000 & 0.0000 & 0.0000 & 0.49120 & 0.1184 & 0.000000 & 0.10590 & 0 & 0.00000 & 0.000000 & 0.00000 & 0.00000 & 0.000000 & 0.00000 & 0.00000 & 0.22900 & 0.30300 & 0.07088 & 0.00000 & 0.00000 & 0.171600 & 0.00000 & 0.00000 & 0.098270 & 0.000000 & 0.000000 & 0.125700 & 0.000000 & 0.0000 & 0.000000 & 0.00000 & 0.00000 & 0.00000 & 0.130300 & 0.00000 & 0.10900 & 0.00000 & 0.08082 & 0.000000 & 0.00000 & 0.000000 & 0.0000 & 0.00000 & 0.112400 & 0.000000 & 0.85710 & 0.00000 & ENSG00000231606.1 & RP11-344F13.1 \\\\\n",
       "\t ENSG00000234593 &       & 1 & lincRNA        & 0.000000 & 0.00000 & 0.00000 & 0.00000 & 0.000000 & 0.000 & 0.000000 & 0.0000 & 0.00000 & 0.0000 & 0.0000 & 0.000000 & 0.0000 & 0.00000 & 0.00000 & 0.000000 & 0.00000 & 0.0000 & 0.00000 & 0 & 0.00000 & 0.00000 & 0.00000 & 0.0000 & 0.00000 & 0.000000 & 0 & 0.0000 & 0.00000 & 0.00000 & 0.00000 & 0.000000 & 0.00000 & 0.00000 & 0.0000 & 0.0000 & 0.0000 & 0.00000 & 0.0000 & 0.0000 & 0.00000 & 0.00000 & 0.10990 & 0.00000 & 0.10040 & 0.000000 & 0.00 & 0.00000 & 0.00000 & 0.0000 & 0 & 0.00000 & 0.00000 & 0.00000 & 0 & 0.000000 & 0.0000 & 0.00000 & 0.00000 & 0.00000 & 0.00000 & 0.0000 & 0.00000 & 0.00000 & 0.00000 & 0.00000 & 0.043960 & 0.00000 & 0.000000 & 0.000000 & 0 & 0.00000 & 0.00000 & 0.000000 & 0.00000 & 0.00000 & 0.000000 & 0.0000 & 0.00000 & 0.000000 & 0.00000 & 0.00000 & 0.00000 & 0.00000 & 0.0000 & 0.00000 & 0.00000 & 0.00000 & 0.00000 & 0.00000 & 0.00000 & 0.0000 & 0.00000 & 0.0000 & 0.00000 & 0.00000 & 0.0000 & 0 & 0.0000 & 0.000000 & 0.000000 & 0.00000 & 0.00000 & 0.000000 & 0.000000 & 0.000000 & 0.00000 & 0.0000 & 0.0000 & 0.00000 & 0.035240 & 0.00000 & 0.000000 & 0 & 0 & 0.00000 & 0.0000 & 0.00000 & 0.0000 & 0.00000 & 0.000000 & 0.000000 & 0.00000 & 0.0000 & 0.0000 & 0.00000 & 0 & 0.00000 & 0.0000 & 0.000000 & 0.00000 & 0.000000 & 0.0000 & 0.000000 & 0.00000 & 0.00000 & 0.000000 & 0.0000 & 0.00000 & 0 & 0.00000 & 0.000000 & 0.00000 & 0.000000 & 0.00000 & 0.0000 & 0.00000 & 0.00000 & 0.000000 & 0.00000 & 0.11810 & 0.04497 & 0.00000 & 0.00000 & 0.00000 & 0.0000 & 0.000000 & 0.00000 & 0.00000 & 0.00000 & 0.0000 & 0.00000 & 0.00000 & 0.000000 & 0.00000 & 0 & 0.00000 & 0.0000 & 0.000000 & 0.0000 & 0.04056 & 0 & 0.000000 & 0.00000 & 0.00000 & 0.0000 & 0.000000 & 0.000000 & 0.00000 & 0.00000 & 0.000000 & 0.000000 & 0.000000 & 0.000000 & 0.000000 & 0.00000 & 0.00000 & 0.00000 & 0.00000 & 0.0000 & 0.00000 & 0.0000 & 0.000000 & 0.0000 & 0.00000 & 0.00000 & 0.00000 & 0.00000 & 0.0000 & 0.00000 & 0 & 0.000000 & 0.000000 & 0.00000 & 0.00000 & 0.00000 & 0.00000 & 0 & 0.00000 & 0.0000 & 0.000000 & 0.0000 & 0.00000 & 0.0000 & 0.00000 & 0 & 0.00000 & 0.00000 & 0.000000 & 0 & 0.00000 & 0.00000 & 0.00000 & 0.00000 & 0.00000 & 0.00000 & 0.00000 & 0.090560 & 0.000000 & 0.00000 & 0.00000 & 0.00000 & 0.00000 & 0.00000 & 0.00000 & 0.00000 & 0.000000 & 0.0000 & 0.0000 & 0.0000 & 0.000000 & 0.000000 & 0.000000 & 0.000000 & 0.07280 & 0.000000 & 0.00000 & 0.000000 & 0.00000 & 0.000000 & 0.00000 & 0.00000 & 0.000000 & 0.00000 & 0.00000 & 0.000000 & 0.0000 & 0.00000 & 0.000000 & 0.000000 & 0.00000 & 0.0000 & 0.000000 & 0.000000 & 0.00000 & 0.000000 & 0.09132 & 0.000000 & 0.00000 & 0.0000 & 0.00000 & 0.00000 & 0 & 0.05997 & 0.000000 & 0.00000 & 0.13100 & 0 & 0.00000 & 0.00000 & 0.00000 & 0.00000 & 0.05486 & 0.00000 & 0.0000 & 0.00000 & 0.00000 & 0 & 0.00000 & 0.0000 & 0.00000 & 0.00000 & 0.00000 & 0.0000 & 0.000000 & 0.00000 & 0.00000 & 0.000000 & 0.00000 & 0.000 & 0.00000 & 0.00000 & 0.00000 & 0.00000 & 0.00000 & 0.00000 & 0.000000 & 0.00000 & 0.03448 & 0.000000 & 0.00000 & 0.00000 & 0.00000 & 0.09353 & 0.000000 & 0.00000 & 0 & 0.0000 & 0.00000 & 0 & 0 & 0.000 & 0.0000 & 0.00000 & 0.0000 & 0.000000 & 0.000000 & 0.0000 & 0.00000 & 0.0000 & 0.00000 & 0.000000 & 0.00000 & 0.0000 & 0.000000 & 0.00000 & 0.000000 & 0.00000 & 0.000000 & 0.0000 & 0.000000 & 0.0000 & 0.0000 & 0.0000 & 0.00000 & 0.000000 & 0.00000 & 0.000000 & 0.000000 & 0.00000 & 0.000000 & 0.00000 & 0.00000 & 0.00000 & 0.0000 & 0.00000 & 0.00000 & 0.00000 & 0.00000 & 0.08122 & 0.03439 & 0.00000 & 0.00000 & 0.000000 & 0.04531 & 0.00000 & 0.000000 & 0.00000 & 0.0000 & 0.000 & 0.00000 & 0.00000 & 0.000000 & 0.0000 & 0.0000 & 0.00000 & 0 & 0.00000 & 0.0000 & 0.000000 & 0.000000 & 0.03367 & 0.00000 & 0.0000 & 0.000000 & 0.00000 & 0.0000 & 0.00000 & 0.00000 & 0.06136 & 0 & 0.000000 & 0.00000 & 0.000000 & 0.000000 & 0.000000 & 0.000000 & 0.00000 & 0.000000 & 0.00000 & 0.0000 & 0.000000 & 0.00000 & 0.000000 & 0.00000 & 0.00000 & 0.00000 & 0.062600 & 0.0000 & 0.00000 & 0.00000 & 0.0000 & 0.000000 & 0.0000 & 0.01715 & 0.00000 & 0.0000 & 0.00000 & 0.00000 & 0.00000 & 0.0000 & 0.00000 & 0.000000 & 0.00000 & 0.000000 & 0.0000 & 0.00000 & 0.00000 & 0.06861 & 0.000000 & 0.00000 & 0.00000 & 0.000000 & 0.00000 & 0.00000 & 0 & 0.00000 & 0.000000 & 0.00000 & 0.0000 & 0.000000 & 0.000 & 0.00000 & 0.000000 & 0.000000 & 0.000000 & 0.00000 & 0.0000 & 0.000000 & 0.00000 & 0.00000 & 0.000000 & 0.04492 & 0.00000 & 0.00000 & 0.00000 & 0.03396 & 0.00000 & 0.00000 & 0.0000 & 0.08130 & 0.00000 & 0.00000 & 0.00000 & 0.000000 & 0.00000 & 0.00000 & 0.07889 & 0.000000 & 0.00000 & 0 & 0.00000 & 0.00000 & 0.000000 & 0.000000 & 0.0000 & 0.000000 & 0.00000 & 0.14270 & 0.00000 & 0 & 0.0000 & 0.000000 & 0.00000 & 0.0505 & 0.02563 & 0.00000 & 0.00000 & 0.00000 & 0 & 0.026020 & 0.00000 & 0.000000 & 0.00000 & 0.00000 & 0.00000 & 0.00000 & 0.00000 & 0.00000 & 0.000000 & 0.00000 & 0.0000 & 0.000 & 0.00000 & 0.05894 & 0.00000 & 0.00000 & 0.00000 & 0.00000 & 0.00000 & 0.00000 & 0.000000 & 0.00000 & 0.07533 & 0.00000 & 0.00000 & 0.000000 & 0.00000 & 0.00000 & 0.0000 & 0.00000 & 0.03430 & 0.00000 & 0.000000 & 0.00000 & 0.00000 & 0.0000 & 0.00000 & 0.00000 & 0.00000 & 0.00000 & 0.00000 & 0.00000 & 0.0000 & 0.0000 & 0 & 0.000000 & 0.00000 & 0.000000 & 0.00000 & 0.00000 & 0.12090 & 0.000000 & 0.0000 & 0.00000 & 0.00000 & 0.00000 & 0.000000 & 0.00000 & 0.000000 & 0.0000 & 0.00000 & 0.00000 & 0.00000 & 0.00000 & 0.00000 & 0.00000 & 0.03165 & 0.00000 & 0.000000 & 0 & 0 & 0.00000 & 0.00000 & 0.00000 & 0.00000 & 0.00000 & 0.000000 & 0.00000 & 0.0000 & 0.000000 & 0.062820 & 0.0000 & 0.00000 & 0.000000 & 0.00000 & 0.0000 & 0.0000 & 0.000000 & 0.000000 & 0.000000 & 0.0000 & 0.00000 & 0.0000 & 0.0000 & 0.08573 & 0.00000 & 0.0000 & 0.000000 & 0.04883 & 0.00000 & 0.00000 & 0.00000 & 0.000000 & 0.00000 & 0.00000 & 0.00000 & 0.00000 & 0.000000 & 0.000 & 0.00000 & 0.00000 & 0.00000 & 0.00000 & 0 & 0.00000 & 0.1007 & 0.00000 & 0.00000 & 0.0000 & 0.00000 & 0.00000 & 0.0000 & 0.0000 & 0.000 & 0.07125 & 0.00000 & 0.0000 & 0.00000 & 0.00000 & 0.0000 & 0.00000 & 0.00000 & 0.0000 & 0.00000 & 0.00000 & 0.00000 & 0.000000 & 0.00000 & 0.000000 & 0.00000 & 0.000000 & 0.0000 & 0.0000 & 0.00000 & 0.0000 & 0.0000 & 0.00000 & 0.0000 & 0.00000 & 0.00000 & 0.00000 & 0.000000 & 0.04689 & 0.000 & 0.000000 & 0.0000 & 0.00000 & 0.00000 & 0.00000 & 0.03597 & 0.000 & 0.000000 & 0.00000 & 0.0000 & 0.000000 & 0.000000 & 0.0000 & 0.0000 & 0.02245 & 0.00000 & 0.00000 & 0.00000 & 0.0000 & 0.0000 & 0.00000 & 0.000000 & 0.04398 & 0.00000 & 0.00000 & 0.08546 & 0.00000 & 0 & 0.00000 & 0.00000 & 0.0000 & 0.000000 & 0.00000 & 0.000000 & 0.00000 & 0.00000 & 0.00000 & 0.00000 & 0.0000 & 0.000000 & 0.00000 & 0.00000 & 0.000000 & 0.000000 & 0.12200 & 0.000000 & 0.000000 & 0.00000 & 0.05026 & 0.00000 & 0.00000 & 0.00000 & 0.000000 & 0.000000 & 0.00000 & 0.000000 & 0.0000 & 0.00000 & 0.0000 & 0.00000 & 0.00000 & 0.00000 & 0.14330 & 0.00000 & 0.000000 & 0.000000 & 0.00000 & 0.14860 & 0.00000 & 0.0000 & 0.00000 & 0.0000 & 0.00000 & 0.00000 & 0.00000 & 0 & 0.00000 & 0.0000 & 0 & 0.000000 & 0.000000 & 0.03504 & 0.07505 & 0.03839 & 0.00000 & 0.00000 & 0.0000 & 0.00000 & 0.00000 & 0.00000 & 0.00000 & 0.00000 & 0.000000 & 0.00000 & 0.00000 & 0.00000 & 0.0000 & 0.0000 & 0.07851 & 0.000000 & 0.0000 & 0.0000 & 0.00000 & 0.000000 & 0.000000 & 0.00000 & 0.0000 & 0.000 & 0.00000 & 0.00000 & 0.0000 & 0.00000 & 0.0000 & 0.0000 & 0.00000 & 0.0000 & 0.000000 & 0.00000 & 0 & 0.00000 & 0.000000 & 0.00000 & 0.00000 & 0.000000 & 0.00000 & 0.00000 & 0.00000 & 0.00000 & 0.00000 & 0.00000 & 0.00000 & 0.000000 & 0.00000 & 0.00000 & 0.000000 & 0.000000 & 0.000000 & 0.000000 & 0.000000 & 0.0000 & 0.000000 & 0.00000 & 0.00000 & 0.00000 & 0.000000 & 0.00000 & 0.00000 & 0.00000 & 0.00000 & 0.000000 & 0.00000 & 0.000000 & 0.0000 & 0.09834 & 0.000000 & 0.000000 & 0.00000 & 0.00000 & ENSG00000234593.2 & RP4-704D23.1  \\\\\n",
       "\t ENSG00000228140 &       & 1 & lincRNA        & 0.009084 & 0.01329 & 0.01181 & 0.01254 & 0.007555 & 0.000 & 0.009495 & 0.0000 & 0.00000 & 0.0000 & 0.0000 & 0.009091 & 0.0000 & 0.00000 & 0.04303 & 0.006898 & 0.00000 & 0.0000 & 0.00000 & 0 & 0.00000 & 0.00000 & 0.00000 & 0.0000 & 0.01365 & 0.006352 & 0 & 0.0000 & 0.01395 & 0.01245 & 0.00000 & 0.007854 & 0.00000 & 0.00000 & 0.0000 & 0.0000 & 0.0000 & 0.00000 & 0.0000 & 0.0000 & 0.01059 & 0.00000 & 0.04052 & 0.01232 & 0.00000 & 0.006662 & 0.00 & 0.01422 & 0.01917 & 0.0000 & 0 & 0.00000 & 0.00000 & 0.02513 & 0 & 0.004502 & 0.0000 & 0.00000 & 0.00000 & 0.01516 & 0.01754 & 0.0000 & 0.01331 & 0.00000 & 0.01519 & 0.01858 & 0.006486 & 0.00000 & 0.007024 & 0.007781 & 0 & 0.01189 & 0.00000 & 0.008194 & 0.03661 & 0.00000 & 0.006414 & 0.0000 & 0.00000 & 0.006961 & 0.00000 & 0.00000 & 0.00000 & 0.00000 & 0.0000 & 0.00000 & 0.01836 & 0.00000 & 0.01747 & 0.00000 & 0.00000 & 0.0000 & 0.00000 & 0.0000 & 0.01364 & 0.00000 & 0.0000 & 0 & 0.0000 & 0.007902 & 0.009278 & 0.00000 & 0.02174 & 0.005734 & 0.006086 & 0.006111 & 0.00000 & 0.0000 & 0.0000 & 0.00678 & 0.005199 & 0.01662 & 0.008144 & 0 & 0 & 0.01621 & 0.0000 & 0.02033 & 0.0065 & 0.01914 & 0.007592 & 0.006513 & 0.00000 & 0.0000 & 0.0000 & 0.00000 & 0 & 0.00000 & 0.0000 & 0.006779 & 0.01958 & 0.006143 & 0.0000 & 0.006955 & 0.00000 & 0.01653 & 0.006388 & 0.0411 & 0.01578 & 0 & 0.00000 & 0.008546 & 0.00000 & 0.004592 & 0.00000 & 0.0000 & 0.00703 & 0.00000 & 0.007533 & 0.02858 & 0.01743 & 0.01327 & 0.01853 & 0.01107 & 0.00000 & 0.0000 & 0.004419 & 0.02313 & 0.01565 & 0.00000 & 0.0000 & 0.01956 & 0.00000 & 0.005038 & 0.00000 & 0 & 0.01395 & 0.0000 & 0.004397 & 0.0000 & 0.02992 & 0 & 0.006724 & 0.01185 & 0.00000 & 0.0000 & 0.007569 & 0.007363 & 0.00000 & 0.00000 & 0.008416 & 0.004848 & 0.006571 & 0.006826 & 0.005649 & 0.01973 & 0.00000 & 0.01509 & 0.01007 & 0.0000 & 0.01476 & 0.0000 & 0.006328 & 0.0000 & 0.00000 & 0.00000 & 0.01549 & 0.00000 & 0.0000 & 0.01083 & 0 & 0.004782 & 0.008947 & 0.02971 & 0.00000 & 0.00000 & 0.00000 & 0 & 0.01983 & 0.0110 & 0.005735 & 0.0000 & 0.00000 & 0.0000 & 0.01236 & 0 & 0.00000 & 0.00000 & 0.008987 & 0 & 0.00000 & 0.00000 & 0.01519 & 0.01318 & 0.01401 & 0.00000 & 0.01196 & 0.006681 & 0.006157 & 0.00000 & 0.01103 & 0.00000 & 0.00000 & 0.01888 & 0.02056 & 0.02273 & 0.005387 & 0.0000 & 0.0000 & 0.0000 & 0.005837 & 0.005197 & 0.006656 & 0.009708 & 0.01074 & 0.004637 & 0.02786 & 0.006527 & 0.01535 & 0.005475 & 0.01709 & 0.01264 & 0.006116 & 0.00000 & 0.01152 & 0.007791 & 0.0000 & 0.00542 & 0.007966 & 0.004502 & 0.01179 & 0.0364 & 0.006232 & 0.009119 & 0.02200 & 0.004504 & 0.00000 & 0.009992 & 0.00000 & 0.0000 & 0.01500 & 0.02951 & 0 & 0.00000 & 0.005185 & 0.00000 & 0.00000 & 0 & 0.02004 & 0.03614 & 0.02237 & 0.00000 & 0.00000 & 0.20900 & 0.0000 & 0.03019 & 0.01556 & 0 & 0.03381 & 0.0000 & 0.00000 & 0.00000 & 0.00000 & 0.0000 & 0.008545 & 0.00000 & 0.00000 & 0.005194 & 0.01266 & 0.000 & 0.02915 & 0.07475 & 0.01862 & 0.00000 & 0.00000 & 0.00000 & 0.003962 & 0.01693 & 0.02035 & 0.007878 & 0.02358 & 0.01552 & 0.00000 & 0.00690 & 0.006505 & 0.00000 & 0 & 0.0000 & 0.01486 & 0 & 0 & 0.000 & 0.0000 & 0.00000 & 0.0227 & 0.006489 & 0.006812 & 0.0000 & 0.01184 & 0.0000 & 0.00000 & 0.009893 & 0.01157 & 0.0000 & 0.005756 & 0.01485 & 0.006325 & 0.01603 & 0.004139 & 0.0000 & 0.007628 & 0.0000 & 0.0000 & 0.0000 & 0.00000 & 0.006008 & 0.02589 & 0.007573 & 0.004845 & 0.01239 & 0.008223 & 0.06384 & 0.00000 & 0.02338 & 0.0000 & 0.00000 & 0.00000 & 0.02711 & 0.05108 & 0.00000 & 0.01015 & 0.04117 & 0.00000 & 0.008453 & 0.02674 & 0.00000 & 0.005769 & 0.00000 & 0.0000 & 0.000 & 0.01325 & 0.00000 & 0.006284 & 0.0000 & 0.0000 & 0.02017 & 0 & 0.02202 & 0.0702 & 0.008409 & 0.005743 & 0.01987 & 0.00000 & 0.0175 & 0.006205 & 0.00000 & 0.0000 & 0.01341 & 0.00000 & 0.01358 & 0 & 0.003784 & 0.00000 & 0.005664 & 0.009851 & 0.005071 & 0.004055 & 0.00000 & 0.004926 & 0.04101 & 0.0000 & 0.006639 & 0.02067 & 0.004879 & 0.01965 & 0.00000 & 0.00000 & 0.009237 & 0.0000 & 0.01587 & 0.00000 & 0.0000 & 0.008725 & 0.0000 & 0.00000 & 0.00000 & 0.0000 & 0.00000 & 0.00532 & 0.01369 & 0.0000 & 0.00000 & 0.007403 & 0.01274 & 0.008336 & 0.0000 & 0.00000 & 0.00000 & 0.00000 & 0.004621 & 0.01180 & 0.00000 & 0.009165 & 0.03433 & 0.01154 & 0 & 0.01183 & 0.008396 & 0.03217 & 0.0000 & 0.006172 & 0.000 & 0.01489 & 0.006969 & 0.004006 & 0.004815 & 0.00000 & 0.0000 & 0.008704 & 0.01486 & 0.01441 & 0.008126 & 0.01988 & 0.00000 & 0.01410 & 0.00000 & 0.03006 & 0.02849 & 0.00000 & 0.0000 & 0.01200 & 0.00000 & 0.00000 & 0.01961 & 0.004049 & 0.00479 & 0.00000 & 0.01164 & 0.009194 & 0.00000 & 0 & 0.01387 & 0.01394 & 0.009384 & 0.006075 & 0.0000 & 0.006125 & 0.01743 & 0.00000 & 0.03603 & 0 & 0.0000 & 0.004696 & 0.00000 & 0.0000 & 0.00000 & 0.00000 & 0.01577 & 0.00000 & 0 & 0.003839 & 0.00000 & 0.008328 & 0.00000 & 0.00000 & 0.00000 & 0.00449 & 0.00000 & 0.01960 & 0.004871 & 0.01591 & 0.0000 & 0.000 & 0.00000 & 0.00000 & 0.01374 & 0.01457 & 0.00000 & 0.04204 & 0.00000 & 0.00000 & 0.003875 & 0.00000 & 0.00000 & 0.00000 & 0.01357 & 0.006319 & 0.01750 & 0.01164 & 0.0000 & 0.02027 & 0.00000 & 0.00000 & 0.006637 & 0.03895 & 0.00000 & 0.0000 & 0.00000 & 0.00000 & 0.00000 & 0.00000 & 0.00000 & 0.00000 & 0.0000 & 0.0000 & 0 & 0.003611 & 0.00000 & 0.003896 & 0.01039 & 0.01586 & 0.00000 & 0.005087 & 0.0000 & 0.00000 & 0.00000 & 0.00000 & 0.004621 & 0.00000 & 0.006134 & 0.0000 & 0.01554 & 0.00000 & 0.01163 & 0.00000 & 0.00000 & 0.00000 & 0.00000 & 0.00000 & 0.003485 & 0 & 0 & 0.00000 & 0.00000 & 0.00000 & 0.01273 & 0.00000 & 0.009307 & 0.01233 & 0.0132 & 0.004981 & 0.004634 & 0.0000 & 0.04296 & 0.005844 & 0.02153 & 0.0000 & 0.0000 & 0.009222 & 0.005203 & 0.009008 & 0.0000 & 0.03903 & 0.0318 & 0.0000 & 0.04427 & 0.01941 & 0.0000 & 0.005285 & 0.09366 & 0.00477 & 0.00000 & 0.00501 & 0.006832 & 0.01059 & 0.01268 & 0.01540 & 0.04536 & 0.006094 & 0.000 & 0.01592 & 0.00000 & 0.01325 & 0.04603 & 0 & 0.02349 & 0.0000 & 0.01614 & 0.00000 & 0.0000 & 0.03828 & 0.01687 & 0.0000 & 0.0000 & 0.000 & 0.00000 & 0.01774 & 0.0000 & 0.01169 & 0.02738 & 0.0000 & 0.02354 & 0.01796 & 0.0000 & 0.01297 & 0.03161 & 0.01321 & 0.005899 & 0.02356 & 0.007328 & 0.02048 & 0.006416 & 0.0000 & 0.0000 & 0.02301 & 0.0000 & 0.0000 & 0.01992 & 0.0000 & 0.01075 & 0.00000 & 0.00000 & 0.007264 & 0.00000 & 0.000 & 0.004442 & 0.0000 & 0.01001 & 0.00000 & 0.02097 & 0.00000 & 0.000 & 0.008702 & 0.01524 & 0.0000 & 0.007176 & 0.005157 & 0.0000 & 0.0114 & 0.04306 & 0.04064 & 0.01384 & 0.02431 & 0.0000 & 0.0000 & 0.01259 & 0.005424 & 0.00649 & 0.00000 & 0.01952 & 0.01891 & 0.00541 & 0 & 0.09207 & 0.00000 & 0.0000 & 0.008103 & 0.01048 & 0.007992 & 0.00000 & 0.00000 & 0.01079 & 0.00000 & 0.0000 & 0.009882 & 0.01374 & 0.00000 & 0.004761 & 0.004387 & 0.04050 & 0.003476 & 0.009597 & 0.00000 & 0.00000 & 0.02930 & 0.01531 & 0.01469 & 0.004879 & 0.003846 & 0.00000 & 0.005993 & 0.0000 & 0.00000 & 0.0000 & 0.00000 & 0.01682 & 0.02435 & 0.01586 & 0.01110 & 0.005286 & 0.006324 & 0.00370 & 0.41660 & 0.01098 & 0.1376 & 0.00000 & 0.0000 & 0.01857 & 0.00000 & 0.00000 & 0 & 0.01458 & 0.0000 & 0 & 0.008688 & 0.005119 & 0.00000 & 0.00000 & 0.00000 & 0.01835 & 0.02115 & 0.0000 & 0.02212 & 0.00000 & 0.01106 & 0.00000 & 0.00000 & 0.005693 & 0.00000 & 0.04323 & 0.00000 & 0.0000 & 0.0000 & 0.00000 & 0.006244 & 0.0000 & 0.0000 & 0.02644 & 0.006652 & 0.009754 & 0.03014 & 0.0000 & 0.000 & 0.02105 & 0.03482 & 0.0000 & 0.00000 & 0.0064 & 0.0000 & 0.01605 & 0.0000 & 0.008193 & 0.00000 & 0 & 0.01034 & 0.006481 & 0.00000 & 0.00000 & 0.005709 & 0.00000 & 0.00000 & 0.00000 & 0.00000 & 0.01158 & 0.01805 & 0.02089 & 0.009344 & 0.00000 & 0.00000 & 0.005352 & 0.006125 & 0.008074 & 0.006843 & 0.009749 & 0.0000 & 0.006273 & 0.00000 & 0.01245 & 0.00000 & 0.007097 & 0.02409 & 0.01188 & 0.00000 & 0.01320 & 0.007239 & 0.00774 & 0.006865 & 0.0000 & 0.00000 & 0.006123 & 0.006305 & 0.00000 & 0.01968 & ENSG00000228140.1 & RP3-467K16.4  \\\\\n",
       "\t ENSG00000186092 & OR4F5 & 1 & protein\\_coding & 0.102500 & 0.00000 & 0.09989 & 0.03538 & 0.127800 & 0.000 & 0.053550 & 0.0438 & 0.03276 & 0.0323 & 0.0465 & 0.051280 & 0.0309 & 0.06027 & 0.00000 & 0.038910 & 0.09934 & 0.1332 & 0.03104 & 0 & 0.10740 & 0.08777 & 0.03265 & 0.7228 & 0.07698 & 0.000000 & 0 & 0.0000 & 0.00000 & 0.00000 & 0.05648 & 0.132900 & 0.03694 & 0.02749 & 0.6206 & 0.1299 & 0.1910 & 0.02338 & 0.0000 & 0.1095 & 0.05974 & 0.06679 & 0.09142 & 0.59060 & 0.08359 & 0.037580 & 0.00 & 0.00000 & 0.10810 & 0.0000 & 0 & 0.03322 & 0.03308 & 0.09450 & 0 & 0.101600 & 0.1048 & 0.07362 & 0.07604 & 0.17100 & 0.13190 & 0.1164 & 0.22530 & 0.08908 & 0.04285 & 0.28820 & 0.073170 & 0.03819 & 0.079240 & 0.131700 & 0 & 0.06704 & 0.08918 & 0.231100 & 0.00000 & 0.03637 & 0.108500 & 0.0000 & 0.05776 & 0.039260 & 0.45620 & 0.05196 & 0.10650 & 0.09021 & 0.1436 & 0.07216 & 0.05178 & 0.09821 & 0.00000 & 0.17710 & 0.04243 & 0.3067 & 0.04609 & 0.1217 & 0.03846 & 0.20920 & 0.0000 & 0 & 0.1294 & 0.044570 & 0.104700 & 0.05366 & 0.09198 & 0.000000 & 0.103000 & 0.068940 & 0.03144 & 0.1531 & 0.0866 & 0.07649 & 0.175900 & 0.09377 & 0.091880 & 0 & 0 & 0.03048 & 0.1084 & 0.05734 & 0.0000 & 0.00000 & 0.042820 & 0.000000 & 0.03988 & 0.1097 & 0.2332 & 0.08074 & 0 & 0.07491 & 0.1048 & 0.000000 & 0.03681 & 0.000000 & 0.1052 & 0.039230 & 0.05915 & 0.06217 & 0.072060 & 0.1159 & 0.62290 & 0 & 0.06324 & 0.048210 & 0.08593 & 0.025900 & 0.04461 & 0.1412 & 0.03965 & 0.07117 & 0.042490 & 0.08060 & 0.09831 & 0.03742 & 0.31350 & 0.09362 & 0.09667 & 1.3000 & 0.149600 & 0.06522 & 0.04415 & 0.04966 & 0.1022 & 0.03678 & 0.04168 & 0.000000 & 0.06531 & 0 & 0.03934 & 0.5237 & 0.024800 & 0.0692 & 0.06752 & 0 & 0.037930 & 0.00000 & 0.05889 & 0.1024 & 0.042690 & 0.124600 & 0.07786 & 0.06607 & 0.094940 & 0.000000 & 0.111200 & 0.038500 & 0.000000 & 0.00000 & 0.09819 & 0.00000 & 0.08523 & 0.3594 & 0.08326 & 0.0000 & 0.107100 & 0.1244 & 0.02364 & 0.07986 & 0.08738 & 0.03559 & 0.0000 & 0.06109 & 0 & 0.000000 & 0.050460 & 0.00000 & 0.05948 & 0.03239 & 0.06651 & 0 & 0.11180 & 0.0000 & 0.032350 & 0.0000 & 0.06158 & 0.1537 & 0.03485 & 0 & 0.03004 & 0.06932 & 0.000000 & 0 & 0.04097 & 0.06410 & 0.02857 & 0.00000 & 0.03950 & 0.04172 & 0.03372 & 0.226100 & 0.208400 & 0.03749 & 0.03111 & 0.03441 & 0.03956 & 0.03549 & 0.07731 & 0.22430 & 0.364600 & 0.1433 & 0.0000 & 0.1231 & 0.065850 & 0.058620 & 0.112600 & 0.164300 & 0.27270 & 0.222300 & 0.18330 & 0.036820 & 0.11550 & 0.061760 & 0.12850 & 0.07130 & 0.138000 & 0.04368 & 0.16240 & 0.263700 & 0.1323 & 0.06114 & 0.269600 & 0.330100 & 0.16630 & 0.1796 & 0.070310 & 0.025720 & 0.06203 & 0.203300 & 0.15200 & 0.084540 & 0.09023 & 0.1106 & 0.08461 & 0.13320 & 0 & 0.07486 & 0.087740 & 0.04314 & 0.07267 & 0 & 0.00000 & 0.10190 & 0.50480 & 0.05078 & 0.09132 & 0.23060 & 0.0000 & 0.11350 & 0.04389 & 0 & 0.00000 & 0.2046 & 0.03809 & 0.07093 & 0.06563 & 0.1076 & 0.048200 & 0.06104 & 0.04849 & 0.146500 & 0.59500 & 0.302 & 0.09865 & 0.42160 & 0.15760 & 0.09309 & 0.05292 & 0.04184 & 0.581100 & 0.00000 & 0.34440 & 0.577700 & 0.13300 & 0.00000 & 0.07433 & 0.00000 & 0.000000 & 0.03427 & 0 & 0.0000 & 0.00000 & 0 & 0 & 0.192 & 0.1231 & 0.03365 & 0.1600 & 0.146400 & 0.000000 & 0.1403 & 0.03339 & 0.0000 & 0.06917 & 0.139500 & 0.06528 & 0.1429 & 0.032470 & 0.04187 & 0.107000 & 0.06028 & 0.140100 & 0.2412 & 0.043030 & 0.1929 & 0.1124 & 0.1515 & 0.04107 & 0.440600 & 0.09736 & 0.042720 & 0.081990 & 0.03494 & 0.695800 & 1.00000 & 0.03827 & 0.85710 & 0.1143 & 0.09214 & 0.04696 & 0.00000 & 0.43210 & 0.10140 & 0.11450 & 0.86260 & 0.09234 & 0.119200 & 0.37710 & 0.05551 & 0.683300 & 0.05257 & 0.1750 & 0.106 & 0.18690 & 0.04972 & 0.000000 & 0.0879 & 0.1909 & 1.28000 & 0 & 0.83830 & 0.0000 & 0.189700 & 0.032390 & 0.02802 & 0.56730 & 0.1234 & 0.035000 & 0.04773 & 0.0831 & 0.03782 & 0.02939 & 0.00000 & 0 & 0.042690 & 0.04705 & 0.095840 & 0.055570 & 0.000000 & 0.137200 & 0.08708 & 0.055570 & 0.00000 & 0.2266 & 0.037450 & 0.05828 & 0.055050 & 0.00000 & 0.04402 & 0.02745 & 0.000000 & 0.0691 & 0.14920 & 0.12660 & 0.1160 & 0.147600 & 0.0000 & 0.01427 & 0.05005 & 0.0000 & 0.05141 & 0.00000 & 0.05149 & 0.1193 & 0.04859 & 0.020880 & 0.04790 & 0.094040 & 0.0000 & 0.02386 & 0.02626 & 0.05710 & 0.052130 & 0.04436 & 0.06285 & 0.051690 & 0.03227 & 0.01627 & 0 & 0.11120 & 0.047360 & 0.02268 & 0.0455 & 0.034810 & 2.675 & 0.04200 & 0.000000 & 0.045190 & 0.027160 & 0.05414 & 0.0909 & 0.049100 & 0.00000 & 0.08130 & 0.000000 & 0.00000 & 0.02012 & 0.02651 & 0.05501 & 0.00000 & 0.04018 & 0.15640 & 0.2169 & 0.03383 & 0.04324 & 0.08607 & 0.04424 & 0.045670 & 0.00000 & 0.04426 & 0.06566 & 0.000000 & 0.02115 & 0 & 0.13040 & 0.68130 & 0.105900 & 0.102800 & 0.1089 & 0.034550 & 0.00000 & 0.07916 & 0.06774 & 0 & 0.2088 & 0.278100 & 0.02460 & 0.0000 & 0.10670 & 0.06819 & 0.00000 & 0.03402 & 0 & 0.021660 & 0.08592 & 0.046970 & 0.07105 & 0.02494 & 0.02436 & 0.05065 & 0.02005 & 0.05527 & 0.027480 & 0.08973 & 0.0000 & 1.195 & 0.07129 & 0.68670 & 0.02584 & 0.02740 & 0.08393 & 0.08892 & 0.02594 & 0.05123 & 0.043720 & 0.04321 & 0.06269 & 0.00000 & 0.00000 & 0.000000 & 0.03291 & 0.06564 & 0.0000 & 0.00000 & 0.02855 & 0.02775 & 0.000000 & 0.00000 & 0.04035 & 0.1222 & 0.02399 & 0.00000 & 0.06235 & 0.00000 & 0.02484 & 0.02918 & 0.0202 & 0.0000 & 0 & 0.081480 & 0.03406 & 0.000000 & 0.02929 & 0.00000 & 0.03353 & 0.028700 & 0.0715 & 0.02994 & 0.06817 & 0.00000 & 0.156400 & 0.08119 & 0.103800 & 0.6851 & 0.04382 & 0.02339 & 0.03280 & 0.03551 & 0.03466 & 0.03093 & 0.05269 & 0.04912 & 0.629000 & 0 & 0 & 0.02011 & 0.08142 & 0.04639 & 0.07179 & 0.01725 & 0.052490 & 0.04635 & 0.1489 & 0.309100 & 0.026140 & 0.2051 & 0.28270 & 0.164800 & 0.08094 & 0.2981 & 0.1886 & 0.208100 & 0.146700 & 0.101600 & 0.1558 & 0.33020 & 0.0897 & 0.2418 & 0.21400 & 0.21890 & 0.2225 & 0.387600 & 0.52830 & 0.29600 & 0.07506 & 0.11300 & 0.038540 & 0.23890 & 0.28620 & 0.08688 & 0.12790 & 0.034370 & 0.109 & 0.17960 & 0.07748 & 0.29900 & 0.25960 & 1 & 0.08834 & 0.0000 & 0.13660 & 0.12640 & 0.1078 & 0.30230 & 0.28550 & 0.3535 & 0.2176 & 0.000 & 0.35580 & 0.05004 & 0.2236 & 0.13190 & 0.03862 & 0.1631 & 0.13280 & 0.23640 & 0.1856 & 0.07313 & 1.07000 & 0.07448 & 0.199600 & 0.13290 & 0.082670 & 0.11550 & 0.108600 & 0.2073 & 0.2412 & 0.38930 & 0.1814 & 0.4422 & 0.07492 & 0.2328 & 0.06063 & 0.02207 & 0.05797 & 0.286800 & 0.07805 & 0.208 & 0.150300 & 0.1156 & 0.42350 & 0.05014 & 0.03942 & 0.11980 & 0.135 & 0.073620 & 0.37260 & 0.1750 & 0.040480 & 0.029090 & 0.7231 & 0.1928 & 0.09341 & 0.30570 & 0.46830 & 0.00000 & 0.1576 & 0.1312 & 0.14200 & 0.000000 & 0.32940 & 0.08487 & 0.03669 & 0.07113 & 0.33560 & 0 & 0.08655 & 0.10830 & 0.1044 & 0.137100 & 0.35450 & 0.180300 & 0.02742 & 0.04292 & 0.85220 & 0.03984 & 0.3756 & 0.027870 & 0.09688 & 0.03382 & 0.053700 & 0.296900 & 0.07615 & 0.117600 & 0.081200 & 0.02409 & 0.08365 & 0.03306 & 0.14400 & 0.11050 & 0.275200 & 0.347100 & 0.19640 & 0.067610 & 0.0787 & 0.07064 & 0.3548 & 0.04753 & 0.00000 & 0.00000 & 0.02982 & 0.06261 & 0.089450 & 0.035670 & 0.02087 & 0.00000 & 0.06191 & 0.0000 & 0.09561 & 0.0000 & 0.02095 & 0.03322 & 0.05112 & 0 & 0.12340 & 0.1202 & 0 & 0.049000 & 0.750700 & 0.05833 & 0.09369 & 0.06390 & 0.05174 & 0.05965 & 0.1271 & 0.02495 & 0.07006 & 0.03118 & 0.02892 & 0.07964 & 0.032110 & 0.02757 & 0.04064 & 0.02336 & 0.1858 & 0.1139 & 0.06534 & 0.000000 & 0.0000 & 0.2215 & 0.11930 & 0.075040 & 0.082520 & 0.06800 & 0.1651 & 0.000 & 0.07914 & 0.04909 & 0.1359 & 0.05485 & 0.0722 & 0.0872 & 0.00000 & 0.0000 & 0.023110 & 0.06506 & 0 & 0.00000 & 0.146200 & 0.02495 & 0.00000 & 0.000000 & 0.03362 & 0.06183 & 0.10550 & 0.09308 & 0.17420 & 0.10180 & 0.00000 & 0.105400 & 0.08882 & 0.05678 & 0.150900 & 0.034550 & 0.000000 & 0.038600 & 0.110000 & 0.1066 & 0.141500 & 0.04063 & 0.03512 & 0.07986 & 0.040030 & 0.06793 & 0.06699 & 0.08093 & 0.04965 & 0.040830 & 0.04366 & 0.038720 & 0.1224 & 0.00000 & 0.103600 & 0.035560 & 0.05266 & 0.14800 & ENSG00000186092.4 & OR4F5         \\\\\n",
       "\\end{tabular}\n"
      ],
      "text/markdown": [
       "\n",
       "A data.frame: 6 × 809\n",
       "\n",
       "| ensembl_gene_id &lt;chr&gt; | hgnc_symbol &lt;chr&gt; | chromosome_name &lt;chr&gt; | transcript_biotype &lt;chr&gt; | GTEX-1117F-0426-SM-5EGHI &lt;dbl&gt; | GTEX-111CU-2026-SM-5GZZC &lt;dbl&gt; | GTEX-111FC-0326-SM-5GZZ1 &lt;dbl&gt; | GTEX-111VG-2626-SM-5GZY2 &lt;dbl&gt; | GTEX-111YS-2326-SM-5987L &lt;dbl&gt; | GTEX-1122O-2426-SM-5GIDN &lt;dbl&gt; | ⋯ ⋯ | GTEX-ZYFD-0326-SM-5NQ8I &lt;dbl&gt; | GTEX-ZYFG-2426-SM-5GIE8 &lt;dbl&gt; | GTEX-ZYT6-1626-SM-5E45R &lt;dbl&gt; | GTEX-ZYW4-0526-SM-5GZZ5 &lt;dbl&gt; | GTEX-ZYY3-0526-SM-5E45G &lt;dbl&gt; | GTEX-ZZ64-1526-SM-5E43K &lt;dbl&gt; | GTEX-ZZPT-0626-SM-5GZXT &lt;dbl&gt; | GTEX-ZZPU-2626-SM-5E45Y &lt;dbl&gt; | Name &lt;chr&gt; | Description &lt;chr&gt; |\n",
       "|---|---|---|---|---|---|---|---|---|---|---|---|---|---|---|---|---|---|---|---|---|\n",
       "| ENSG00000228229 | <!----> | 1 | lincRNA        | 0.000000 | 0.00000 | 0.00000 | 0.00000 | 0.000000 | 0.000 | ⋯ | 0.00000 | 0.000000 | 0.0000 | 0.00000 | 0.000000 | 0.000000 | 0.00000 | 0.00000 | ENSG00000228229.2 | RP11-219C24.10 |\n",
       "| ENSG00000237445 | <!----> | 1 | lincRNA        | 0.496500 | 0.00000 | 0.00000 | 0.00000 | 0.103200 | 0.857 | ⋯ | 0.00000 | 0.562800 | 0.2964 | 0.00000 | 0.083650 | 0.086140 | 0.00000 | 0.00000 | ENSG00000237445.2 | CTA-520D8.2    |\n",
       "| ENSG00000231606 | <!----> | 1 | lincRNA        | 0.000000 | 0.00000 | 0.00000 | 0.00000 | 0.000000 | 0.000 | ⋯ | 0.00000 | 0.000000 | 0.0000 | 0.00000 | 0.112400 | 0.000000 | 0.85710 | 0.00000 | ENSG00000231606.1 | RP11-344F13.1  |\n",
       "| ENSG00000234593 | <!----> | 1 | lincRNA        | 0.000000 | 0.00000 | 0.00000 | 0.00000 | 0.000000 | 0.000 | ⋯ | 0.00000 | 0.000000 | 0.0000 | 0.09834 | 0.000000 | 0.000000 | 0.00000 | 0.00000 | ENSG00000234593.2 | RP4-704D23.1   |\n",
       "| ENSG00000228140 | <!----> | 1 | lincRNA        | 0.009084 | 0.01329 | 0.01181 | 0.01254 | 0.007555 | 0.000 | ⋯ | 0.00774 | 0.006865 | 0.0000 | 0.00000 | 0.006123 | 0.006305 | 0.00000 | 0.01968 | ENSG00000228140.1 | RP3-467K16.4   |\n",
       "| ENSG00000186092 | OR4F5 | 1 | protein_coding | 0.102500 | 0.00000 | 0.09989 | 0.03538 | 0.127800 | 0.000 | ⋯ | 0.04366 | 0.038720 | 0.1224 | 0.00000 | 0.103600 | 0.035560 | 0.05266 | 0.14800 | ENSG00000186092.4 | OR4F5          |\n",
       "\n"
      ],
      "text/plain": [
       "  ensembl_gene_id hgnc_symbol chromosome_name transcript_biotype\n",
       "1 ENSG00000228229             1               lincRNA           \n",
       "2 ENSG00000237445             1               lincRNA           \n",
       "3 ENSG00000231606             1               lincRNA           \n",
       "4 ENSG00000234593             1               lincRNA           \n",
       "5 ENSG00000228140             1               lincRNA           \n",
       "6 ENSG00000186092 OR4F5       1               protein_coding    \n",
       "  GTEX-1117F-0426-SM-5EGHI GTEX-111CU-2026-SM-5GZZC GTEX-111FC-0326-SM-5GZZ1\n",
       "1 0.000000                 0.00000                  0.00000                 \n",
       "2 0.496500                 0.00000                  0.00000                 \n",
       "3 0.000000                 0.00000                  0.00000                 \n",
       "4 0.000000                 0.00000                  0.00000                 \n",
       "5 0.009084                 0.01329                  0.01181                 \n",
       "6 0.102500                 0.00000                  0.09989                 \n",
       "  GTEX-111VG-2626-SM-5GZY2 GTEX-111YS-2326-SM-5987L GTEX-1122O-2426-SM-5GIDN ⋯\n",
       "1 0.00000                  0.000000                 0.000                    ⋯\n",
       "2 0.00000                  0.103200                 0.857                    ⋯\n",
       "3 0.00000                  0.000000                 0.000                    ⋯\n",
       "4 0.00000                  0.000000                 0.000                    ⋯\n",
       "5 0.01254                  0.007555                 0.000                    ⋯\n",
       "6 0.03538                  0.127800                 0.000                    ⋯\n",
       "  GTEX-ZYFD-0326-SM-5NQ8I GTEX-ZYFG-2426-SM-5GIE8 GTEX-ZYT6-1626-SM-5E45R\n",
       "1 0.00000                 0.000000                0.0000                 \n",
       "2 0.00000                 0.562800                0.2964                 \n",
       "3 0.00000                 0.000000                0.0000                 \n",
       "4 0.00000                 0.000000                0.0000                 \n",
       "5 0.00774                 0.006865                0.0000                 \n",
       "6 0.04366                 0.038720                0.1224                 \n",
       "  GTEX-ZYW4-0526-SM-5GZZ5 GTEX-ZYY3-0526-SM-5E45G GTEX-ZZ64-1526-SM-5E43K\n",
       "1 0.00000                 0.000000                0.000000               \n",
       "2 0.00000                 0.083650                0.086140               \n",
       "3 0.00000                 0.112400                0.000000               \n",
       "4 0.09834                 0.000000                0.000000               \n",
       "5 0.00000                 0.006123                0.006305               \n",
       "6 0.00000                 0.103600                0.035560               \n",
       "  GTEX-ZZPT-0626-SM-5GZXT GTEX-ZZPU-2626-SM-5E45Y Name             \n",
       "1 0.00000                 0.00000                 ENSG00000228229.2\n",
       "2 0.00000                 0.00000                 ENSG00000237445.2\n",
       "3 0.85710                 0.00000                 ENSG00000231606.1\n",
       "4 0.00000                 0.00000                 ENSG00000234593.2\n",
       "5 0.00000                 0.01968                 ENSG00000228140.1\n",
       "6 0.05266                 0.14800                 ENSG00000186092.4\n",
       "  Description   \n",
       "1 RP11-219C24.10\n",
       "2 CTA-520D8.2   \n",
       "3 RP11-344F13.1 \n",
       "4 RP4-704D23.1  \n",
       "5 RP3-467K16.4  \n",
       "6 OR4F5         "
      ]
     },
     "metadata": {},
     "output_type": "display_data"
    }
   ],
   "source": [
    "head(expression_list_target[[tissue]])"
   ]
  },
  {
   "cell_type": "code",
   "execution_count": 212,
   "metadata": {},
   "outputs": [
    {
     "data": {
      "text/html": [
       "INFO: chr 1"
      ]
     },
     "metadata": {},
     "output_type": "display_data"
    },
    {
     "data": {
      "text/html": [
       "INFO: 3.854 % processed."
      ]
     },
     "metadata": {},
     "output_type": "display_data"
    },
    {
     "data": {
      "text/html": [
       "INFO: 7.707 % processed."
      ]
     },
     "metadata": {},
     "output_type": "display_data"
    },
    {
     "data": {
      "text/html": [
       "INFO: 11.561 % processed."
      ]
     },
     "metadata": {},
     "output_type": "display_data"
    },
    {
     "data": {
      "text/html": [
       "INFO: 15.414 % processed."
      ]
     },
     "metadata": {},
     "output_type": "display_data"
    },
    {
     "data": {
      "text/html": [
       "INFO: 19.268 % processed."
      ]
     },
     "metadata": {},
     "output_type": "display_data"
    },
    {
     "data": {
      "text/html": [
       "INFO: 23.121 % processed."
      ]
     },
     "metadata": {},
     "output_type": "display_data"
    },
    {
     "data": {
      "text/html": [
       "INFO: 26.975 % processed."
      ]
     },
     "metadata": {},
     "output_type": "display_data"
    },
    {
     "data": {
      "text/html": [
       "INFO: 30.829 % processed."
      ]
     },
     "metadata": {},
     "output_type": "display_data"
    },
    {
     "data": {
      "text/html": [
       "INFO: 34.682 % processed."
      ]
     },
     "metadata": {},
     "output_type": "display_data"
    },
    {
     "data": {
      "text/html": [
       "INFO: 38.536 % processed."
      ]
     },
     "metadata": {},
     "output_type": "display_data"
    },
    {
     "data": {
      "text/html": [
       "INFO: 42.389 % processed."
      ]
     },
     "metadata": {},
     "output_type": "display_data"
    },
    {
     "data": {
      "text/html": [
       "INFO: 46.243 % processed."
      ]
     },
     "metadata": {},
     "output_type": "display_data"
    },
    {
     "data": {
      "text/html": [
       "INFO: 50.096 % processed."
      ]
     },
     "metadata": {},
     "output_type": "display_data"
    },
    {
     "data": {
      "text/html": [
       "INFO: 53.95 % processed."
      ]
     },
     "metadata": {},
     "output_type": "display_data"
    },
    {
     "data": {
      "text/html": [
       "INFO: 57.803 % processed."
      ]
     },
     "metadata": {},
     "output_type": "display_data"
    },
    {
     "data": {
      "text/html": [
       "INFO: 61.657 % processed."
      ]
     },
     "metadata": {},
     "output_type": "display_data"
    },
    {
     "data": {
      "text/html": [
       "INFO: 65.511 % processed."
      ]
     },
     "metadata": {},
     "output_type": "display_data"
    },
    {
     "data": {
      "text/html": [
       "INFO: 69.364 % processed."
      ]
     },
     "metadata": {},
     "output_type": "display_data"
    },
    {
     "data": {
      "text/html": [
       "INFO: 73.218 % processed."
      ]
     },
     "metadata": {},
     "output_type": "display_data"
    },
    {
     "data": {
      "text/html": [
       "INFO: 77.071 % processed."
      ]
     },
     "metadata": {},
     "output_type": "display_data"
    },
    {
     "data": {
      "text/html": [
       "INFO: 80.925 % processed."
      ]
     },
     "metadata": {},
     "output_type": "display_data"
    },
    {
     "data": {
      "text/html": [
       "INFO: 84.778 % processed."
      ]
     },
     "metadata": {},
     "output_type": "display_data"
    },
    {
     "data": {
      "text/html": [
       "INFO: 88.632 % processed."
      ]
     },
     "metadata": {},
     "output_type": "display_data"
    },
    {
     "data": {
      "text/html": [
       "INFO: 92.486 % processed."
      ]
     },
     "metadata": {},
     "output_type": "display_data"
    },
    {
     "data": {
      "text/html": [
       "INFO: 96.339 % processed."
      ]
     },
     "metadata": {},
     "output_type": "display_data"
    }
   ],
   "source": [
    "# extract the expression level and save in the directory\n",
    "output_path <- \"/gpfs/loomis/project/radev/zy92/utmost_update/GTEX/expr_gtex1/\"\n",
    "# loop over chr\n",
    "#for (i in 1:22) {\n",
    "for (i in 1:1) {    \n",
    "    # create the chr path\n",
    "    IRdisplay::display_html(paste0(\"INFO: chr \", i ))\n",
    "    output_path_chr <- paste0(output_path, \"chr\", i, \"/\")\n",
    "    if (!dir.exists(output_path_chr)) {\n",
    "        dir.create(output_path_chr)\n",
    "    }\n",
    "    # subset the gene for the chr\n",
    "    expression_info_tmp <- gene_info_target %>% \n",
    "        filter(chromosome_name %in% UQ(i))\n",
    "    head(expression_info_tmp)\n",
    "    gene_vec <- expression_info_tmp$ensembl_gene_id\n",
    "    \n",
    "    expression_list_target_chr <- list()\n",
    "    n_sample <- list()\n",
    "    #expression_list_target_chr[[i]] <- list()\n",
    "    for (tissue in tissue_vec_target) {\n",
    "        tmp_exp <- expression_info_tmp %>%\n",
    "            left_join(expression_list_target[[tissue]], by = c(\"ensembl_gene_id\" = \"ensembl_gene_id\"))\n",
    "        expression_list_target_chr[[tissue]] <- tmp_exp\n",
    "        n_sample[[tissue]] <- ncol(tmp_exp) - 9\n",
    "        #print(n_sample[[tissue]])\n",
    "    }\n",
    "    \n",
    "    # tissue-specific sample id \n",
    "    id_vec <- list()\n",
    "    for (tissue in tissue_vec_target) {\n",
    "        id_vec[[tissue]] <- colnames(expression_list_target_chr[[tissue]])[8:(7+as.numeric(n_sample[[tissue]]))]\n",
    "\n",
    "    }\n",
    "    # loop over gene\n",
    "    #gene2idx <- list()\n",
    "    #idx <- match(gene, )\n",
    "    for (j in 1:length(gene_vec)) {\n",
    "    #for (j in 1:1) {\n",
    "        gene <- gene_vec[j]\n",
    "        # watch the process\n",
    "        if (j %% 100 == 0) { \n",
    "            IRdisplay::display_html(paste0(\"INFO: \", round(j*100/length(gene_vec), 3), \" % processed.\")) \n",
    "        }\n",
    "        output_path_chr_gene <- paste0(output_path_chr, gene)\n",
    "        if (!dir.exists(output_path_chr_gene)) {\n",
    "            dir.create(output_path_chr_gene)\n",
    "        } \n",
    "        \n",
    "        # loop over tissue\n",
    "        for (tissue in tissue_vec_target) {\n",
    "            tissue_file_name <- paste0(output_path_chr_gene, \"/\", tissue, \".txt\")\n",
    "            #exp_vec <- expression_list_target_chr[[tissue]] %>% \n",
    "                #filter(ensembl_gene_id == gene)\n",
    "            exp_vec <- expression_list_target_chr[[tissue]][j,]\n",
    "            #print(dim(exp_vec))\n",
    "            #print(n_sample[[tissue]])\n",
    "            #print(exp_vec[, 1:20])\n",
    "            exp_vec <- as.numeric(exp_vec[,8:(7+as.numeric(n_sample[[tissue]]))])\n",
    "            #print(head(exp_vec))\n",
    "            #id_vec <- colnames(expression_list_target_chr[[tissue]])[8:(7+as.numeric(n_sample[[tissue]]))]\n",
    "            output_df <- data.frame(id = id_vec[[tissue]], exp = exp_vec)\n",
    "            write.table(output_df, file = tissue_file_name, row.names = F, col.names = F, quote = F)\n",
    "        }\n",
    "        \n",
    "    }\n",
    "    \n",
    "}"
   ]
  },
  {
   "cell_type": "code",
   "execution_count": null,
   "metadata": {},
   "outputs": [],
   "source": []
  },
  {
   "cell_type": "code",
   "execution_count": 185,
   "metadata": {},
   "outputs": [
    {
     "data": {
      "text/html": [
       "<dl>\n",
       "\t<dt>$Muscle_Skeletal</dt>\n",
       "\t\t<dd>809</dd>\n",
       "\t<dt>$Whole_Blood</dt>\n",
       "\t\t<dd>761</dd>\n",
       "\t<dt>$Skin_Sun_Exposed_Lower_leg</dt>\n",
       "\t\t<dd>707</dd>\n",
       "\t<dt>$Adipose_Subcutaneous</dt>\n",
       "\t\t<dd>669</dd>\n",
       "\t<dt>$Artery_Tibial</dt>\n",
       "\t\t<dd>669</dd>\n",
       "\t<dt>$Thyroid</dt>\n",
       "\t\t<dd>659</dd>\n",
       "\t<dt>$Nerve_Tibial</dt>\n",
       "\t\t<dd>625</dd>\n",
       "\t<dt>$Skin_Not_Sun_Exposed_Suprapubic</dt>\n",
       "\t\t<dd>610</dd>\n",
       "\t<dt>$Lung</dt>\n",
       "\t\t<dd>584</dd>\n",
       "\t<dt>$Esophagus_Mucosa</dt>\n",
       "\t\t<dd>561</dd>\n",
       "\t<dt>$Adipose_Visceral_Omentum</dt>\n",
       "\t\t<dd>547</dd>\n",
       "\t<dt>$Esophagus_Muscularis</dt>\n",
       "\t\t<dd>521</dd>\n",
       "\t<dt>$Cells_Cultured_fibroblasts</dt>\n",
       "\t\t<dd>510</dd>\n",
       "\t<dt>$Breast_Mammary_Tissue</dt>\n",
       "\t\t<dd>465</dd>\n",
       "\t<dt>$Heart_Left_Ventricle</dt>\n",
       "\t\t<dd>438</dd>\n",
       "\t<dt>$Artery_Aorta</dt>\n",
       "\t\t<dd>438</dd>\n",
       "\t<dt>$Heart_Atrial_Appendage</dt>\n",
       "\t\t<dd>435</dd>\n",
       "\t<dt>$Colon_Transverse</dt>\n",
       "\t\t<dd>412</dd>\n",
       "\t<dt>$Esophagus_Gastroesophageal_Junction</dt>\n",
       "\t\t<dd>381</dd>\n",
       "\t<dt>$Colon_Sigmoid</dt>\n",
       "\t\t<dd>379</dd>\n",
       "\t<dt>$Testis</dt>\n",
       "\t\t<dd>367</dd>\n",
       "\t<dt>$Stomach</dt>\n",
       "\t\t<dd>365</dd>\n",
       "\t<dt>$Pancreas</dt>\n",
       "\t\t<dd>334</dd>\n",
       "\t<dt>$Pituitary</dt>\n",
       "\t\t<dd>289</dd>\n",
       "\t<dt>$Adrenal_Gland</dt>\n",
       "\t\t<dd>264</dd>\n",
       "\t<dt>$Brain_Cortex</dt>\n",
       "\t\t<dd>261</dd>\n",
       "\t<dt>$Brain_Caudate_basal_ganglia</dt>\n",
       "\t\t<dd>252</dd>\n",
       "\t<dt>$Brain_Nucleus_accumbens_basal_ganglia</dt>\n",
       "\t\t<dd>252</dd>\n",
       "\t<dt>$Prostate</dt>\n",
       "\t\t<dd>251</dd>\n",
       "\t<dt>$Spleen</dt>\n",
       "\t\t<dd>247</dd>\n",
       "\t<dt>$Brain_Cerebellum</dt>\n",
       "\t\t<dd>247</dd>\n",
       "\t<dt>$Artery_Coronary</dt>\n",
       "\t\t<dd>246</dd>\n",
       "\t<dt>$Liver</dt>\n",
       "\t\t<dd>232</dd>\n",
       "\t<dt>$Brain_Cerebellar_Hemisphere</dt>\n",
       "\t\t<dd>221</dd>\n",
       "\t<dt>$Brain_Frontal_Cortex_BA9</dt>\n",
       "\t\t<dd>215</dd>\n",
       "\t<dt>$Brain_Putamen_basal_ganglia</dt>\n",
       "\t\t<dd>211</dd>\n",
       "\t<dt>$Brain_Hypothalamus</dt>\n",
       "\t\t<dd>208</dd>\n",
       "\t<dt>$Brain_Hippocampus</dt>\n",
       "\t\t<dd>203</dd>\n",
       "\t<dt>$Small_Intestine_Terminal_Ileum</dt>\n",
       "\t\t<dd>193</dd>\n",
       "\t<dt>$Ovary</dt>\n",
       "\t\t<dd>186</dd>\n",
       "\t<dt>$Brain_Anterior_cingulate_cortex_BA24</dt>\n",
       "\t\t<dd>182</dd>\n",
       "\t<dt>$`Cells_EBV-transformed_lymphocytes`</dt>\n",
       "\t\t<dd>180</dd>\n",
       "\t<dt>$Minor_Salivary_Gland</dt>\n",
       "\t\t<dd>168</dd>\n",
       "\t<dt>$`Brain_Spinal_cord_cervical_c-1`</dt>\n",
       "\t\t<dd>165</dd>\n",
       "\t<dt>$Vagina</dt>\n",
       "\t\t<dd>162</dd>\n",
       "\t<dt>$Brain_Amygdala</dt>\n",
       "\t\t<dd>158</dd>\n",
       "\t<dt>$Uterus</dt>\n",
       "\t\t<dd>148</dd>\n",
       "\t<dt>$Brain_Substantia_nigra</dt>\n",
       "\t\t<dd>145</dd>\n",
       "\t<dt>$Kidney_Cortex</dt>\n",
       "\t\t<dd>91</dd>\n",
       "</dl>\n"
      ],
      "text/latex": [
       "\\begin{description}\n",
       "\\item[\\$Muscle\\_Skeletal] 809\n",
       "\\item[\\$Whole\\_Blood] 761\n",
       "\\item[\\$Skin\\_Sun\\_Exposed\\_Lower\\_leg] 707\n",
       "\\item[\\$Adipose\\_Subcutaneous] 669\n",
       "\\item[\\$Artery\\_Tibial] 669\n",
       "\\item[\\$Thyroid] 659\n",
       "\\item[\\$Nerve\\_Tibial] 625\n",
       "\\item[\\$Skin\\_Not\\_Sun\\_Exposed\\_Suprapubic] 610\n",
       "\\item[\\$Lung] 584\n",
       "\\item[\\$Esophagus\\_Mucosa] 561\n",
       "\\item[\\$Adipose\\_Visceral\\_Omentum] 547\n",
       "\\item[\\$Esophagus\\_Muscularis] 521\n",
       "\\item[\\$Cells\\_Cultured\\_fibroblasts] 510\n",
       "\\item[\\$Breast\\_Mammary\\_Tissue] 465\n",
       "\\item[\\$Heart\\_Left\\_Ventricle] 438\n",
       "\\item[\\$Artery\\_Aorta] 438\n",
       "\\item[\\$Heart\\_Atrial\\_Appendage] 435\n",
       "\\item[\\$Colon\\_Transverse] 412\n",
       "\\item[\\$Esophagus\\_Gastroesophageal\\_Junction] 381\n",
       "\\item[\\$Colon\\_Sigmoid] 379\n",
       "\\item[\\$Testis] 367\n",
       "\\item[\\$Stomach] 365\n",
       "\\item[\\$Pancreas] 334\n",
       "\\item[\\$Pituitary] 289\n",
       "\\item[\\$Adrenal\\_Gland] 264\n",
       "\\item[\\$Brain\\_Cortex] 261\n",
       "\\item[\\$Brain\\_Caudate\\_basal\\_ganglia] 252\n",
       "\\item[\\$Brain\\_Nucleus\\_accumbens\\_basal\\_ganglia] 252\n",
       "\\item[\\$Prostate] 251\n",
       "\\item[\\$Spleen] 247\n",
       "\\item[\\$Brain\\_Cerebellum] 247\n",
       "\\item[\\$Artery\\_Coronary] 246\n",
       "\\item[\\$Liver] 232\n",
       "\\item[\\$Brain\\_Cerebellar\\_Hemisphere] 221\n",
       "\\item[\\$Brain\\_Frontal\\_Cortex\\_BA9] 215\n",
       "\\item[\\$Brain\\_Putamen\\_basal\\_ganglia] 211\n",
       "\\item[\\$Brain\\_Hypothalamus] 208\n",
       "\\item[\\$Brain\\_Hippocampus] 203\n",
       "\\item[\\$Small\\_Intestine\\_Terminal\\_Ileum] 193\n",
       "\\item[\\$Ovary] 186\n",
       "\\item[\\$Brain\\_Anterior\\_cingulate\\_cortex\\_BA24] 182\n",
       "\\item[\\$`Cells\\_EBV-transformed\\_lymphocytes`] 180\n",
       "\\item[\\$Minor\\_Salivary\\_Gland] 168\n",
       "\\item[\\$`Brain\\_Spinal\\_cord\\_cervical\\_c-1`] 165\n",
       "\\item[\\$Vagina] 162\n",
       "\\item[\\$Brain\\_Amygdala] 158\n",
       "\\item[\\$Uterus] 148\n",
       "\\item[\\$Brain\\_Substantia\\_nigra] 145\n",
       "\\item[\\$Kidney\\_Cortex] 91\n",
       "\\end{description}\n"
      ],
      "text/markdown": [
       "$Muscle_Skeletal\n",
       ":   809\n",
       "$Whole_Blood\n",
       ":   761\n",
       "$Skin_Sun_Exposed_Lower_leg\n",
       ":   707\n",
       "$Adipose_Subcutaneous\n",
       ":   669\n",
       "$Artery_Tibial\n",
       ":   669\n",
       "$Thyroid\n",
       ":   659\n",
       "$Nerve_Tibial\n",
       ":   625\n",
       "$Skin_Not_Sun_Exposed_Suprapubic\n",
       ":   610\n",
       "$Lung\n",
       ":   584\n",
       "$Esophagus_Mucosa\n",
       ":   561\n",
       "$Adipose_Visceral_Omentum\n",
       ":   547\n",
       "$Esophagus_Muscularis\n",
       ":   521\n",
       "$Cells_Cultured_fibroblasts\n",
       ":   510\n",
       "$Breast_Mammary_Tissue\n",
       ":   465\n",
       "$Heart_Left_Ventricle\n",
       ":   438\n",
       "$Artery_Aorta\n",
       ":   438\n",
       "$Heart_Atrial_Appendage\n",
       ":   435\n",
       "$Colon_Transverse\n",
       ":   412\n",
       "$Esophagus_Gastroesophageal_Junction\n",
       ":   381\n",
       "$Colon_Sigmoid\n",
       ":   379\n",
       "$Testis\n",
       ":   367\n",
       "$Stomach\n",
       ":   365\n",
       "$Pancreas\n",
       ":   334\n",
       "$Pituitary\n",
       ":   289\n",
       "$Adrenal_Gland\n",
       ":   264\n",
       "$Brain_Cortex\n",
       ":   261\n",
       "$Brain_Caudate_basal_ganglia\n",
       ":   252\n",
       "$Brain_Nucleus_accumbens_basal_ganglia\n",
       ":   252\n",
       "$Prostate\n",
       ":   251\n",
       "$Spleen\n",
       ":   247\n",
       "$Brain_Cerebellum\n",
       ":   247\n",
       "$Artery_Coronary\n",
       ":   246\n",
       "$Liver\n",
       ":   232\n",
       "$Brain_Cerebellar_Hemisphere\n",
       ":   221\n",
       "$Brain_Frontal_Cortex_BA9\n",
       ":   215\n",
       "$Brain_Putamen_basal_ganglia\n",
       ":   211\n",
       "$Brain_Hypothalamus\n",
       ":   208\n",
       "$Brain_Hippocampus\n",
       ":   203\n",
       "$Small_Intestine_Terminal_Ileum\n",
       ":   193\n",
       "$Ovary\n",
       ":   186\n",
       "$Brain_Anterior_cingulate_cortex_BA24\n",
       ":   182\n",
       "$`Cells_EBV-transformed_lymphocytes`\n",
       ":   180\n",
       "$Minor_Salivary_Gland\n",
       ":   168\n",
       "$`Brain_Spinal_cord_cervical_c-1`\n",
       ":   165\n",
       "$Vagina\n",
       ":   162\n",
       "$Brain_Amygdala\n",
       ":   158\n",
       "$Uterus\n",
       ":   148\n",
       "$Brain_Substantia_nigra\n",
       ":   145\n",
       "$Kidney_Cortex\n",
       ":   91\n",
       "\n",
       "\n"
      ],
      "text/plain": [
       "$Muscle_Skeletal\n",
       "[1] 809\n",
       "\n",
       "$Whole_Blood\n",
       "[1] 761\n",
       "\n",
       "$Skin_Sun_Exposed_Lower_leg\n",
       "[1] 707\n",
       "\n",
       "$Adipose_Subcutaneous\n",
       "[1] 669\n",
       "\n",
       "$Artery_Tibial\n",
       "[1] 669\n",
       "\n",
       "$Thyroid\n",
       "[1] 659\n",
       "\n",
       "$Nerve_Tibial\n",
       "[1] 625\n",
       "\n",
       "$Skin_Not_Sun_Exposed_Suprapubic\n",
       "[1] 610\n",
       "\n",
       "$Lung\n",
       "[1] 584\n",
       "\n",
       "$Esophagus_Mucosa\n",
       "[1] 561\n",
       "\n",
       "$Adipose_Visceral_Omentum\n",
       "[1] 547\n",
       "\n",
       "$Esophagus_Muscularis\n",
       "[1] 521\n",
       "\n",
       "$Cells_Cultured_fibroblasts\n",
       "[1] 510\n",
       "\n",
       "$Breast_Mammary_Tissue\n",
       "[1] 465\n",
       "\n",
       "$Heart_Left_Ventricle\n",
       "[1] 438\n",
       "\n",
       "$Artery_Aorta\n",
       "[1] 438\n",
       "\n",
       "$Heart_Atrial_Appendage\n",
       "[1] 435\n",
       "\n",
       "$Colon_Transverse\n",
       "[1] 412\n",
       "\n",
       "$Esophagus_Gastroesophageal_Junction\n",
       "[1] 381\n",
       "\n",
       "$Colon_Sigmoid\n",
       "[1] 379\n",
       "\n",
       "$Testis\n",
       "[1] 367\n",
       "\n",
       "$Stomach\n",
       "[1] 365\n",
       "\n",
       "$Pancreas\n",
       "[1] 334\n",
       "\n",
       "$Pituitary\n",
       "[1] 289\n",
       "\n",
       "$Adrenal_Gland\n",
       "[1] 264\n",
       "\n",
       "$Brain_Cortex\n",
       "[1] 261\n",
       "\n",
       "$Brain_Caudate_basal_ganglia\n",
       "[1] 252\n",
       "\n",
       "$Brain_Nucleus_accumbens_basal_ganglia\n",
       "[1] 252\n",
       "\n",
       "$Prostate\n",
       "[1] 251\n",
       "\n",
       "$Spleen\n",
       "[1] 247\n",
       "\n",
       "$Brain_Cerebellum\n",
       "[1] 247\n",
       "\n",
       "$Artery_Coronary\n",
       "[1] 246\n",
       "\n",
       "$Liver\n",
       "[1] 232\n",
       "\n",
       "$Brain_Cerebellar_Hemisphere\n",
       "[1] 221\n",
       "\n",
       "$Brain_Frontal_Cortex_BA9\n",
       "[1] 215\n",
       "\n",
       "$Brain_Putamen_basal_ganglia\n",
       "[1] 211\n",
       "\n",
       "$Brain_Hypothalamus\n",
       "[1] 208\n",
       "\n",
       "$Brain_Hippocampus\n",
       "[1] 203\n",
       "\n",
       "$Small_Intestine_Terminal_Ileum\n",
       "[1] 193\n",
       "\n",
       "$Ovary\n",
       "[1] 186\n",
       "\n",
       "$Brain_Anterior_cingulate_cortex_BA24\n",
       "[1] 182\n",
       "\n",
       "$`Cells_EBV-transformed_lymphocytes`\n",
       "[1] 180\n",
       "\n",
       "$Minor_Salivary_Gland\n",
       "[1] 168\n",
       "\n",
       "$`Brain_Spinal_cord_cervical_c-1`\n",
       "[1] 165\n",
       "\n",
       "$Vagina\n",
       "[1] 162\n",
       "\n",
       "$Brain_Amygdala\n",
       "[1] 158\n",
       "\n",
       "$Uterus\n",
       "[1] 148\n",
       "\n",
       "$Brain_Substantia_nigra\n",
       "[1] 145\n",
       "\n",
       "$Kidney_Cortex\n",
       "[1] 91\n"
      ]
     },
     "metadata": {},
     "output_type": "display_data"
    }
   ],
   "source": [
    "n_sample"
   ]
  },
  {
   "cell_type": "code",
   "execution_count": 183,
   "metadata": {},
   "outputs": [
    {
     "data": {
      "text/plain": [
       "NULL"
      ]
     },
     "metadata": {},
     "output_type": "display_data"
    }
   ],
   "source": [
    "dim(expression_list_target_chr)"
   ]
  },
  {
   "cell_type": "code",
   "execution_count": null,
   "metadata": {},
   "outputs": [],
   "source": [
    "expression_df_target <- expression_df %>% \n",
    "    filter(Name %in% UQ(gene_info_target$ensembl_gene_id))"
   ]
  },
  {
   "cell_type": "code",
   "execution_count": null,
   "metadata": {},
   "outputs": [],
   "source": [
    "head(gene_info_target$ensembl_gene_id)"
   ]
  },
  {
   "cell_type": "code",
   "execution_count": null,
   "metadata": {},
   "outputs": [],
   "source": [
    "dim(expression_df)"
   ]
  },
  {
   "cell_type": "code",
   "execution_count": null,
   "metadata": {},
   "outputs": [],
   "source": [
    "class(expression_df)"
   ]
  },
  {
   "cell_type": "code",
   "execution_count": null,
   "metadata": {},
   "outputs": [],
   "source": [
    "head(expression_df[,1:6])"
   ]
  },
  {
   "cell_type": "code",
   "execution_count": null,
   "metadata": {},
   "outputs": [],
   "source": [
    "#gene_info_target$ensembl_gene_id"
   ]
  },
  {
   "cell_type": "code",
   "execution_count": null,
   "metadata": {},
   "outputs": [],
   "source": [
    "expression_df$NameClean <- as.character(sapply(expression_df$Name, function(x) unlist(strsplit(x, \"\\\\.\"))[[1]]))"
   ]
  },
  {
   "cell_type": "code",
   "execution_count": null,
   "metadata": {},
   "outputs": [],
   "source": [
    "unlist(strsplit(expression_df$Name[1], \"\\\\.\"))[[1]]"
   ]
  },
  {
   "cell_type": "code",
   "execution_count": null,
   "metadata": {},
   "outputs": [],
   "source": [
    "dim(expression_df_target)"
   ]
  },
  {
   "cell_type": "code",
   "execution_count": null,
   "metadata": {},
   "outputs": [],
   "source": [
    "head(expression_df$NameClean)"
   ]
  },
  {
   "cell_type": "code",
   "execution_count": null,
   "metadata": {},
   "outputs": [],
   "source": [
    "getwd()"
   ]
  },
  {
   "cell_type": "code",
   "execution_count": null,
   "metadata": {},
   "outputs": [],
   "source": [
    "g"
   ]
  }
 ],
 "metadata": {
  "kernelspec": {
   "display_name": "R",
   "language": "R",
   "name": "ir"
  },
  "language_info": {
   "codemirror_mode": "r",
   "file_extension": ".r",
   "mimetype": "text/x-r-source",
   "name": "R",
   "pygments_lexer": "r",
   "version": "3.5.0"
  }
 },
 "nbformat": 4,
 "nbformat_minor": 4
}
