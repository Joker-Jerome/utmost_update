{
 "cells": [
  {
   "cell_type": "code",
   "execution_count": 1,
   "metadata": {},
   "outputs": [],
   "source": [
    "suppressPackageStartupMessages(library(formattable))\n",
    "suppressPackageStartupMessages(library(dplyr))\n",
    "suppressPackageStartupMessages(library(data.table))\n",
    "suppressPackageStartupMessages(library(kableExtra))\n",
    "suppressPackageStartupMessages(library(knitr))\n",
    "\n",
    "\n",
    "\n"
   ]
  },
  {
   "cell_type": "code",
   "execution_count": 2,
   "metadata": {},
   "outputs": [],
   "source": [
    "customGreen0 = \"#DeF7E9\"\n",
    "customGreen = \"#71CA97\"\n",
    "customRed = \"#ff7f7f\""
   ]
  },
  {
   "cell_type": "code",
   "execution_count": 3,
   "metadata": {},
   "outputs": [
    {
     "data": {
      "text/html": [],
      "text/latex": [],
      "text/markdown": [],
      "text/plain": [
       "character(0)"
      ]
     },
     "metadata": {},
     "output_type": "display_data"
    }
   ],
   "source": [
    "inter_dir <- \"/ysm-gpfs/pi/zhao/zy92/projects/utmost_update/GTEX/adjusted_expr\"\n",
    "inter_files <- list.files(\"/ysm-gpfs/pi/zhao/zy92/projects/utmost_update/GTEX/adjusted_expr/\")\n",
    "head(inter_files)"
   ]
  },
  {
   "cell_type": "code",
   "execution_count": 4,
   "metadata": {},
   "outputs": [
    {
     "data": {
      "text/html": [
       "<ol class=list-inline>\n",
       "\t<li>'adjusted_expr'</li>\n",
       "\t<li>'expression_list_target.RData'</li>\n",
       "\t<li>'gene_info_target.RData'</li>\n",
       "\t<li>'gene_info.RData'</li>\n",
       "\t<li>'protein_coding.RData'</li>\n",
       "\t<li>'proteingene_list.RData'</li>\n",
       "</ol>\n"
      ],
      "text/latex": [
       "\\begin{enumerate*}\n",
       "\\item 'adjusted\\_expr'\n",
       "\\item 'expression\\_list\\_target.RData'\n",
       "\\item 'gene\\_info\\_target.RData'\n",
       "\\item 'gene\\_info.RData'\n",
       "\\item 'protein\\_coding.RData'\n",
       "\\item 'proteingene\\_list.RData'\n",
       "\\end{enumerate*}\n"
      ],
      "text/markdown": [
       "1. 'adjusted_expr'\n",
       "2. 'expression_list_target.RData'\n",
       "3. 'gene_info_target.RData'\n",
       "4. 'gene_info.RData'\n",
       "5. 'protein_coding.RData'\n",
       "6. 'proteingene_list.RData'\n",
       "\n",
       "\n"
      ],
      "text/plain": [
       "[1] \"adjusted_expr\"                \"expression_list_target.RData\"\n",
       "[3] \"gene_info_target.RData\"       \"gene_info.RData\"             \n",
       "[5] \"protein_coding.RData\"         \"proteingene_list.RData\"      "
      ]
     },
     "metadata": {},
     "output_type": "display_data"
    }
   ],
   "source": [
    "list.files(\"/ysm-gpfs/pi/zhao/zy92/projects/utmost_update//GTEX/\")"
   ]
  },
  {
   "cell_type": "code",
   "execution_count": 5,
   "metadata": {},
   "outputs": [
    {
     "data": {
      "text/html": [
       "'/ysm-gpfs/pi/zhao/zy92/projects/utmost_update/'"
      ],
      "text/latex": [
       "'/ysm-gpfs/pi/zhao/zy92/projects/utmost\\_update/'"
      ],
      "text/markdown": [
       "'/ysm-gpfs/pi/zhao/zy92/projects/utmost_update/'"
      ],
      "text/plain": [
       "[1] \"/ysm-gpfs/pi/zhao/zy92/projects/utmost_update/\""
      ]
     },
     "metadata": {},
     "output_type": "display_data"
    }
   ],
   "source": [
    "head((\"/ysm-gpfs/pi/zhao/zy92/projects/utmost_update/\"))"
   ]
  },
  {
   "cell_type": "code",
   "execution_count": 6,
   "metadata": {},
   "outputs": [
    {
     "data": {
      "text/html": [
       "'gene_info_target'"
      ],
      "text/latex": [
       "'gene\\_info\\_target'"
      ],
      "text/markdown": [
       "'gene_info_target'"
      ],
      "text/plain": [
       "[1] \"gene_info_target\""
      ]
     },
     "metadata": {},
     "output_type": "display_data"
    }
   ],
   "source": [
    "ln1 <- load(\"/ysm-gpfs/pi/zhao/zy92/projects/utmost_update//GTEX/gene_info_target.RData\")\n",
    "ln1"
   ]
  },
  {
   "cell_type": "code",
   "execution_count": 7,
   "metadata": {},
   "outputs": [
    {
     "data": {
      "text/html": [
       "<ol class=list-inline>\n",
       "\t<li>27208</li>\n",
       "\t<li>4</li>\n",
       "</ol>\n"
      ],
      "text/latex": [
       "\\begin{enumerate*}\n",
       "\\item 27208\n",
       "\\item 4\n",
       "\\end{enumerate*}\n"
      ],
      "text/markdown": [
       "1. 27208\n",
       "2. 4\n",
       "\n",
       "\n"
      ],
      "text/plain": [
       "[1] 27208     4"
      ]
     },
     "metadata": {},
     "output_type": "display_data"
    }
   ],
   "source": [
    "dim(gene_info_target)"
   ]
  },
  {
   "cell_type": "code",
   "execution_count": 8,
   "metadata": {},
   "outputs": [
    {
     "data": {
      "text/html": [
       "<ol class=list-inline>\n",
       "\t<li>'sample_count'</li>\n",
       "\t<li>'idx_list'</li>\n",
       "</ol>\n"
      ],
      "text/latex": [
       "\\begin{enumerate*}\n",
       "\\item 'sample\\_count'\n",
       "\\item 'idx\\_list'\n",
       "\\end{enumerate*}\n"
      ],
      "text/markdown": [
       "1. 'sample_count'\n",
       "2. 'idx_list'\n",
       "\n",
       "\n"
      ],
      "text/plain": [
       "[1] \"sample_count\" \"idx_list\"    "
      ]
     },
     "metadata": {},
     "output_type": "display_data"
    }
   ],
   "source": [
    "ln2 <- load(\"/ysm-gpfs/pi/zhao/zy92/projects/utmost_update/tissue_idx.RData\")\n",
    "ln2 "
   ]
  },
  {
   "cell_type": "code",
   "execution_count": 9,
   "metadata": {},
   "outputs": [
    {
     "data": {
      "text/html": [
       "<ol class=list-inline>\n",
       "\t<li>'Whole Blood'</li>\n",
       "\t<li>'Brain - Frontal Cortex (BA9)'</li>\n",
       "\t<li>'Adipose - Subcutaneous'</li>\n",
       "\t<li>'Muscle - Skeletal'</li>\n",
       "\t<li>'Artery - Tibial'</li>\n",
       "\t<li>'Artery - Coronary'</li>\n",
       "</ol>\n"
      ],
      "text/latex": [
       "\\begin{enumerate*}\n",
       "\\item 'Whole Blood'\n",
       "\\item 'Brain - Frontal Cortex (BA9)'\n",
       "\\item 'Adipose - Subcutaneous'\n",
       "\\item 'Muscle - Skeletal'\n",
       "\\item 'Artery - Tibial'\n",
       "\\item 'Artery - Coronary'\n",
       "\\end{enumerate*}\n"
      ],
      "text/markdown": [
       "1. 'Whole Blood'\n",
       "2. 'Brain - Frontal Cortex (BA9)'\n",
       "3. 'Adipose - Subcutaneous'\n",
       "4. 'Muscle - Skeletal'\n",
       "5. 'Artery - Tibial'\n",
       "6. 'Artery - Coronary'\n",
       "\n",
       "\n"
      ],
      "text/plain": [
       "[1] \"Whole Blood\"                  \"Brain - Frontal Cortex (BA9)\"\n",
       "[3] \"Adipose - Subcutaneous\"       \"Muscle - Skeletal\"           \n",
       "[5] \"Artery - Tibial\"              \"Artery - Coronary\"           "
      ]
     },
     "metadata": {},
     "output_type": "display_data"
    },
    {
     "data": {
      "text/html": [
       "<ol class=list-inline>\n",
       "\t<li>'GTEX-1117F-0003-SM-58Q7G'</li>\n",
       "\t<li>'GTEX-1117F-0003-SM-5DWSB'</li>\n",
       "\t<li>'GTEX-1117F-0003-SM-6WBT7'</li>\n",
       "\t<li>'GTEX-111CU-0003-SM-58Q95'</li>\n",
       "\t<li>'GTEX-111CU-0003-SM-5DWTR'</li>\n",
       "\t<li>'GTEX-111CU-0003-SM-6WBUD'</li>\n",
       "</ol>\n"
      ],
      "text/latex": [
       "\\begin{enumerate*}\n",
       "\\item 'GTEX-1117F-0003-SM-58Q7G'\n",
       "\\item 'GTEX-1117F-0003-SM-5DWSB'\n",
       "\\item 'GTEX-1117F-0003-SM-6WBT7'\n",
       "\\item 'GTEX-111CU-0003-SM-58Q95'\n",
       "\\item 'GTEX-111CU-0003-SM-5DWTR'\n",
       "\\item 'GTEX-111CU-0003-SM-6WBUD'\n",
       "\\end{enumerate*}\n"
      ],
      "text/markdown": [
       "1. 'GTEX-1117F-0003-SM-58Q7G'\n",
       "2. 'GTEX-1117F-0003-SM-5DWSB'\n",
       "3. 'GTEX-1117F-0003-SM-6WBT7'\n",
       "4. 'GTEX-111CU-0003-SM-58Q95'\n",
       "5. 'GTEX-111CU-0003-SM-5DWTR'\n",
       "6. 'GTEX-111CU-0003-SM-6WBUD'\n",
       "\n",
       "\n"
      ],
      "text/plain": [
       "[1] \"GTEX-1117F-0003-SM-58Q7G\" \"GTEX-1117F-0003-SM-5DWSB\"\n",
       "[3] \"GTEX-1117F-0003-SM-6WBT7\" \"GTEX-111CU-0003-SM-58Q95\"\n",
       "[5] \"GTEX-111CU-0003-SM-5DWTR\" \"GTEX-111CU-0003-SM-6WBUD\""
      ]
     },
     "metadata": {},
     "output_type": "display_data"
    }
   ],
   "source": [
    "head(names(idx_list))\n",
    "head(idx_list[['Whole Blood']])"
   ]
  },
  {
   "cell_type": "code",
   "execution_count": 10,
   "metadata": {},
   "outputs": [
    {
     "data": {
      "text/html": [
       "<ol class=list-inline>\n",
       "\t<li>56200</li>\n",
       "\t<li>17384</li>\n",
       "</ol>\n"
      ],
      "text/latex": [
       "\\begin{enumerate*}\n",
       "\\item 56200\n",
       "\\item 17384\n",
       "\\end{enumerate*}\n"
      ],
      "text/markdown": [
       "1. 56200\n",
       "2. 17384\n",
       "\n",
       "\n"
      ],
      "text/plain": [
       "[1] 56200 17384"
      ]
     },
     "metadata": {},
     "output_type": "display_data"
    }
   ],
   "source": [
    "# collect the data \n",
    "expression_df <- fread(\"/ysm-gpfs/pi/zhao-data/zy92/GTEx_V8/GTEx_Analysis_2017-06-05_v8_RNASeQCv1.1.9_gene_tpm.gct\")\n",
    "dim(expression_df)"
   ]
  },
  {
   "cell_type": "code",
   "execution_count": 11,
   "metadata": {},
   "outputs": [
    {
     "data": {
      "text/html": [
       "<ol class=list-inline>\n",
       "\t<li>'Name'</li>\n",
       "\t<li>'Description'</li>\n",
       "\t<li>'GTEX-1117F-0226-SM-5GZZ7'</li>\n",
       "\t<li>'GTEX-1117F-0426-SM-5EGHI'</li>\n",
       "\t<li>'GTEX-1117F-0526-SM-5EGHJ'</li>\n",
       "\t<li>'GTEX-1117F-0626-SM-5N9CS'</li>\n",
       "</ol>\n"
      ],
      "text/latex": [
       "\\begin{enumerate*}\n",
       "\\item 'Name'\n",
       "\\item 'Description'\n",
       "\\item 'GTEX-1117F-0226-SM-5GZZ7'\n",
       "\\item 'GTEX-1117F-0426-SM-5EGHI'\n",
       "\\item 'GTEX-1117F-0526-SM-5EGHJ'\n",
       "\\item 'GTEX-1117F-0626-SM-5N9CS'\n",
       "\\end{enumerate*}\n"
      ],
      "text/markdown": [
       "1. 'Name'\n",
       "2. 'Description'\n",
       "3. 'GTEX-1117F-0226-SM-5GZZ7'\n",
       "4. 'GTEX-1117F-0426-SM-5EGHI'\n",
       "5. 'GTEX-1117F-0526-SM-5EGHJ'\n",
       "6. 'GTEX-1117F-0626-SM-5N9CS'\n",
       "\n",
       "\n"
      ],
      "text/plain": [
       "[1] \"Name\"                     \"Description\"             \n",
       "[3] \"GTEX-1117F-0226-SM-5GZZ7\" \"GTEX-1117F-0426-SM-5EGHI\"\n",
       "[5] \"GTEX-1117F-0526-SM-5EGHJ\" \"GTEX-1117F-0626-SM-5N9CS\""
      ]
     },
     "metadata": {},
     "output_type": "display_data"
    }
   ],
   "source": [
    "head(colnames(expression_df))"
   ]
  },
  {
   "cell_type": "code",
   "execution_count": 12,
   "metadata": {},
   "outputs": [],
   "source": [
    "#target_idx <- idx_list[['Whole Blood']] %in% colnames(expression_df)\n",
    "# length(target_idx)\n",
    "# sum(target_idx)\n",
    "# head(target_idx)"
   ]
  },
  {
   "cell_type": "code",
   "execution_count": 13,
   "metadata": {},
   "outputs": [
    {
     "data": {
      "text/html": [
       "<ol class=list-inline>\n",
       "\t<li>56200</li>\n",
       "\t<li>17384</li>\n",
       "</ol>\n"
      ],
      "text/latex": [
       "\\begin{enumerate*}\n",
       "\\item 56200\n",
       "\\item 17384\n",
       "\\end{enumerate*}\n"
      ],
      "text/markdown": [
       "1. 56200\n",
       "2. 17384\n",
       "\n",
       "\n"
      ],
      "text/plain": [
       "[1] 56200 17384"
      ]
     },
     "metadata": {},
     "output_type": "display_data"
    },
    {
     "data": {
      "text/html": [
       "17384"
      ],
      "text/latex": [
       "17384"
      ],
      "text/markdown": [
       "17384"
      ],
      "text/plain": [
       "[1] 17384"
      ]
     },
     "metadata": {},
     "output_type": "display_data"
    }
   ],
   "source": [
    "dim(expression_df)\n",
    "length(colnames(expression_df))"
   ]
  },
  {
   "cell_type": "code",
   "execution_count": 14,
   "metadata": {},
   "outputs": [
    {
     "data": {
      "text/html": [
       "<ol class=list-inline>\n",
       "\t<li>'GTEX-1117F-0003-SM-58Q7G'</li>\n",
       "\t<li>'GTEX-1117F-0003-SM-5DWSB'</li>\n",
       "\t<li>'GTEX-1117F-0003-SM-6WBT7'</li>\n",
       "\t<li>'GTEX-111CU-0003-SM-58Q95'</li>\n",
       "\t<li>'GTEX-111CU-0003-SM-5DWTR'</li>\n",
       "\t<li>'GTEX-111CU-0003-SM-6WBUD'</li>\n",
       "</ol>\n"
      ],
      "text/latex": [
       "\\begin{enumerate*}\n",
       "\\item 'GTEX-1117F-0003-SM-58Q7G'\n",
       "\\item 'GTEX-1117F-0003-SM-5DWSB'\n",
       "\\item 'GTEX-1117F-0003-SM-6WBT7'\n",
       "\\item 'GTEX-111CU-0003-SM-58Q95'\n",
       "\\item 'GTEX-111CU-0003-SM-5DWTR'\n",
       "\\item 'GTEX-111CU-0003-SM-6WBUD'\n",
       "\\end{enumerate*}\n"
      ],
      "text/markdown": [
       "1. 'GTEX-1117F-0003-SM-58Q7G'\n",
       "2. 'GTEX-1117F-0003-SM-5DWSB'\n",
       "3. 'GTEX-1117F-0003-SM-6WBT7'\n",
       "4. 'GTEX-111CU-0003-SM-58Q95'\n",
       "5. 'GTEX-111CU-0003-SM-5DWTR'\n",
       "6. 'GTEX-111CU-0003-SM-6WBUD'\n",
       "\n",
       "\n"
      ],
      "text/plain": [
       "[1] \"GTEX-1117F-0003-SM-58Q7G\" \"GTEX-1117F-0003-SM-5DWSB\"\n",
       "[3] \"GTEX-1117F-0003-SM-6WBT7\" \"GTEX-111CU-0003-SM-58Q95\"\n",
       "[5] \"GTEX-111CU-0003-SM-5DWTR\" \"GTEX-111CU-0003-SM-6WBUD\""
      ]
     },
     "metadata": {},
     "output_type": "display_data"
    }
   ],
   "source": [
    "head(idx_list[['Whole Blood']])"
   ]
  },
  {
   "cell_type": "code",
   "execution_count": 15,
   "metadata": {},
   "outputs": [
    {
     "data": {
      "text/html": [
       "3288"
      ],
      "text/latex": [
       "3288"
      ],
      "text/markdown": [
       "3288"
      ],
      "text/plain": [
       "[1] 3288"
      ]
     },
     "metadata": {},
     "output_type": "display_data"
    },
    {
     "data": {
      "text/html": [
       "3288"
      ],
      "text/latex": [
       "3288"
      ],
      "text/markdown": [
       "3288"
      ],
      "text/plain": [
       "[1] 3288"
      ]
     },
     "metadata": {},
     "output_type": "display_data"
    }
   ],
   "source": [
    "length(idx_list[['Whole Blood']])\n",
    "length(unique(idx_list[['Whole Blood']]))\n",
    "\n"
   ]
  },
  {
   "cell_type": "code",
   "execution_count": 16,
   "metadata": {},
   "outputs": [],
   "source": [
    "tissue <- \"Whole Blood\"\n",
    "header <- colnames(expression_df)\n",
    "target_idx <- match(idx_list[[tissue]], header)\n",
    "target_idx_col <- which(!is.na(target_idx))\n",
    "#target_idx <- target_idx[which(target_idx == T)]\n",
    "#expression_list[[tissue]] <- expression_df[, c(1,2,target_idx)]"
   ]
  },
  {
   "cell_type": "code",
   "execution_count": 17,
   "metadata": {},
   "outputs": [
    {
     "data": {
      "text/html": [
       "<ol class=list-inline>\n",
       "\t<li>16</li>\n",
       "\t<li>20</li>\n",
       "\t<li>24</li>\n",
       "\t<li>28</li>\n",
       "\t<li>32</li>\n",
       "\t<li>36</li>\n",
       "</ol>\n"
      ],
      "text/latex": [
       "\\begin{enumerate*}\n",
       "\\item 16\n",
       "\\item 20\n",
       "\\item 24\n",
       "\\item 28\n",
       "\\item 32\n",
       "\\item 36\n",
       "\\end{enumerate*}\n"
      ],
      "text/markdown": [
       "1. 16\n",
       "2. 20\n",
       "3. 24\n",
       "4. 28\n",
       "5. 32\n",
       "6. 36\n",
       "\n",
       "\n"
      ],
      "text/plain": [
       "[1] 16 20 24 28 32 36"
      ]
     },
     "metadata": {},
     "output_type": "display_data"
    }
   ],
   "source": [
    "head(target_idx_col)"
   ]
  },
  {
   "cell_type": "code",
   "execution_count": 18,
   "metadata": {},
   "outputs": [
    {
     "data": {
      "text/html": [
       "<ol class=list-inline>\n",
       "\t<li>'GTEX-1117F-0003-SM-58Q7G'</li>\n",
       "\t<li>'GTEX-1117F-0003-SM-5DWSB'</li>\n",
       "\t<li>'GTEX-1117F-0003-SM-6WBT7'</li>\n",
       "\t<li>'GTEX-111CU-0003-SM-58Q95'</li>\n",
       "\t<li>'GTEX-111CU-0003-SM-5DWTR'</li>\n",
       "\t<li>'GTEX-111CU-0003-SM-6WBUD'</li>\n",
       "</ol>\n"
      ],
      "text/latex": [
       "\\begin{enumerate*}\n",
       "\\item 'GTEX-1117F-0003-SM-58Q7G'\n",
       "\\item 'GTEX-1117F-0003-SM-5DWSB'\n",
       "\\item 'GTEX-1117F-0003-SM-6WBT7'\n",
       "\\item 'GTEX-111CU-0003-SM-58Q95'\n",
       "\\item 'GTEX-111CU-0003-SM-5DWTR'\n",
       "\\item 'GTEX-111CU-0003-SM-6WBUD'\n",
       "\\end{enumerate*}\n"
      ],
      "text/markdown": [
       "1. 'GTEX-1117F-0003-SM-58Q7G'\n",
       "2. 'GTEX-1117F-0003-SM-5DWSB'\n",
       "3. 'GTEX-1117F-0003-SM-6WBT7'\n",
       "4. 'GTEX-111CU-0003-SM-58Q95'\n",
       "5. 'GTEX-111CU-0003-SM-5DWTR'\n",
       "6. 'GTEX-111CU-0003-SM-6WBUD'\n",
       "\n",
       "\n"
      ],
      "text/plain": [
       "[1] \"GTEX-1117F-0003-SM-58Q7G\" \"GTEX-1117F-0003-SM-5DWSB\"\n",
       "[3] \"GTEX-1117F-0003-SM-6WBT7\" \"GTEX-111CU-0003-SM-58Q95\"\n",
       "[5] \"GTEX-111CU-0003-SM-5DWTR\" \"GTEX-111CU-0003-SM-6WBUD\""
      ]
     },
     "metadata": {},
     "output_type": "display_data"
    }
   ],
   "source": [
    "head(idx_list[[tissue]])"
   ]
  },
  {
   "cell_type": "code",
   "execution_count": 19,
   "metadata": {},
   "outputs": [
    {
     "data": {
      "text/html": [
       "<ol class=list-inline>\n",
       "\t<li>'Name'</li>\n",
       "\t<li>'Description'</li>\n",
       "\t<li>'GTEX-1117F-0226-SM-5GZZ7'</li>\n",
       "\t<li>'GTEX-1117F-0426-SM-5EGHI'</li>\n",
       "\t<li>'GTEX-1117F-0526-SM-5EGHJ'</li>\n",
       "\t<li>'GTEX-1117F-0626-SM-5N9CS'</li>\n",
       "</ol>\n"
      ],
      "text/latex": [
       "\\begin{enumerate*}\n",
       "\\item 'Name'\n",
       "\\item 'Description'\n",
       "\\item 'GTEX-1117F-0226-SM-5GZZ7'\n",
       "\\item 'GTEX-1117F-0426-SM-5EGHI'\n",
       "\\item 'GTEX-1117F-0526-SM-5EGHJ'\n",
       "\\item 'GTEX-1117F-0626-SM-5N9CS'\n",
       "\\end{enumerate*}\n"
      ],
      "text/markdown": [
       "1. 'Name'\n",
       "2. 'Description'\n",
       "3. 'GTEX-1117F-0226-SM-5GZZ7'\n",
       "4. 'GTEX-1117F-0426-SM-5EGHI'\n",
       "5. 'GTEX-1117F-0526-SM-5EGHJ'\n",
       "6. 'GTEX-1117F-0626-SM-5N9CS'\n",
       "\n",
       "\n"
      ],
      "text/plain": [
       "[1] \"Name\"                     \"Description\"             \n",
       "[3] \"GTEX-1117F-0226-SM-5GZZ7\" \"GTEX-1117F-0426-SM-5EGHI\"\n",
       "[5] \"GTEX-1117F-0526-SM-5EGHJ\" \"GTEX-1117F-0626-SM-5N9CS\""
      ]
     },
     "metadata": {},
     "output_type": "display_data"
    }
   ],
   "source": [
    "head(header)"
   ]
  },
  {
   "cell_type": "code",
   "execution_count": 20,
   "metadata": {},
   "outputs": [
    {
     "data": {
      "text/html": [
       "<ol class=list-inline>\n",
       "\t<li>&lt;NA&gt;</li>\n",
       "\t<li>&lt;NA&gt;</li>\n",
       "\t<li>&lt;NA&gt;</li>\n",
       "\t<li>&lt;NA&gt;</li>\n",
       "\t<li>&lt;NA&gt;</li>\n",
       "\t<li>&lt;NA&gt;</li>\n",
       "</ol>\n"
      ],
      "text/latex": [
       "\\begin{enumerate*}\n",
       "\\item <NA>\n",
       "\\item <NA>\n",
       "\\item <NA>\n",
       "\\item <NA>\n",
       "\\item <NA>\n",
       "\\item <NA>\n",
       "\\end{enumerate*}\n"
      ],
      "text/markdown": [
       "1. &lt;NA&gt;\n",
       "2. &lt;NA&gt;\n",
       "3. &lt;NA&gt;\n",
       "4. &lt;NA&gt;\n",
       "5. &lt;NA&gt;\n",
       "6. &lt;NA&gt;\n",
       "\n",
       "\n"
      ],
      "text/plain": [
       "[1] NA NA NA NA NA NA"
      ]
     },
     "metadata": {},
     "output_type": "display_data"
    }
   ],
   "source": [
    "head(target_idx)"
   ]
  },
  {
   "cell_type": "code",
   "execution_count": 21,
   "metadata": {},
   "outputs": [
    {
     "data": {
      "text/html": [
       "3288"
      ],
      "text/latex": [
       "3288"
      ],
      "text/markdown": [
       "3288"
      ],
      "text/plain": [
       "[1] 3288"
      ]
     },
     "metadata": {},
     "output_type": "display_data"
    }
   ],
   "source": [
    "length(target_idx)"
   ]
  },
  {
   "cell_type": "code",
   "execution_count": 22,
   "metadata": {},
   "outputs": [],
   "source": [
    "expression_df <- as.data.frame(expression_df)\n",
    "expression_df$NameClean <- as.character(sapply(expression_df$Name, function(x) unlist(strsplit(x, \"\\\\.\"))[[1]]))"
   ]
  },
  {
   "cell_type": "code",
   "execution_count": 23,
   "metadata": {},
   "outputs": [],
   "source": [
    "# extract the tissue-specific expression profile based on the tissue idx\n",
    "tissue_vec <- names(idx_list)\n",
    "expression_list <- list()\n",
    "header <- colnames(expression_df)\n",
    "for (tissue in tissue_vec) {\n",
    "    target_idx <- header %in% idx_list[[tissue]] \n",
    "    #target_idx <- target_idx[which(target_idx == T)]\n",
    "    expression_list[[tissue]] <- expression_df[, target_idx]\n",
    "    expression_list[[tissue]]$Name <- expression_df$Name\n",
    "    expression_list[[tissue]]$Description <- expression_df$Description\n",
    "    expression_list[[tissue]]$NameClean <- expression_df$NameClean\n",
    "}"
   ]
  },
  {
   "cell_type": "code",
   "execution_count": 24,
   "metadata": {},
   "outputs": [
    {
     "data": {
      "text/html": [
       "<ol class=list-inline>\n",
       "\t<li>'Name'</li>\n",
       "\t<li>'Description'</li>\n",
       "\t<li>'GTEX-1117F-0226-SM-5GZZ7'</li>\n",
       "\t<li>'GTEX-1117F-0426-SM-5EGHI'</li>\n",
       "\t<li>'GTEX-1117F-0526-SM-5EGHJ'</li>\n",
       "\t<li>'GTEX-1117F-0626-SM-5N9CS'</li>\n",
       "</ol>\n"
      ],
      "text/latex": [
       "\\begin{enumerate*}\n",
       "\\item 'Name'\n",
       "\\item 'Description'\n",
       "\\item 'GTEX-1117F-0226-SM-5GZZ7'\n",
       "\\item 'GTEX-1117F-0426-SM-5EGHI'\n",
       "\\item 'GTEX-1117F-0526-SM-5EGHJ'\n",
       "\\item 'GTEX-1117F-0626-SM-5N9CS'\n",
       "\\end{enumerate*}\n"
      ],
      "text/markdown": [
       "1. 'Name'\n",
       "2. 'Description'\n",
       "3. 'GTEX-1117F-0226-SM-5GZZ7'\n",
       "4. 'GTEX-1117F-0426-SM-5EGHI'\n",
       "5. 'GTEX-1117F-0526-SM-5EGHJ'\n",
       "6. 'GTEX-1117F-0626-SM-5N9CS'\n",
       "\n",
       "\n"
      ],
      "text/plain": [
       "[1] \"Name\"                     \"Description\"             \n",
       "[3] \"GTEX-1117F-0226-SM-5GZZ7\" \"GTEX-1117F-0426-SM-5EGHI\"\n",
       "[5] \"GTEX-1117F-0526-SM-5EGHJ\" \"GTEX-1117F-0626-SM-5N9CS\""
      ]
     },
     "metadata": {},
     "output_type": "display_data"
    }
   ],
   "source": [
    "head(header)"
   ]
  },
  {
   "cell_type": "code",
   "execution_count": 25,
   "metadata": {},
   "outputs": [
    {
     "data": {
      "text/html": [
       "'/gpfs/ysm/project/zhao/zy92/utmost_update/code/R'"
      ],
      "text/latex": [
       "'/gpfs/ysm/project/zhao/zy92/utmost\\_update/code/R'"
      ],
      "text/markdown": [
       "'/gpfs/ysm/project/zhao/zy92/utmost_update/code/R'"
      ],
      "text/plain": [
       "[1] \"/gpfs/ysm/project/zhao/zy92/utmost_update/code/R\""
      ]
     },
     "metadata": {},
     "output_type": "display_data"
    }
   ],
   "source": [
    "getwd()"
   ]
  },
  {
   "cell_type": "code",
   "execution_count": 26,
   "metadata": {},
   "outputs": [],
   "source": [
    "# /home/fas/radev/zy92/project/utmost_update/GTEX\n",
    "#save(expression_list, expression_df, file = \"/ysm-gpfs/pi/zhao/zy92/projects/utmost_update/GTEX/expression_list_target.RData\")\n",
    "#save(expression_list, expression_df, file = \"/gpfs/loomis/project/radev/zy92/utmost_update/GTEX/expression_list_target.RData\")"
   ]
  },
  {
   "cell_type": "code",
   "execution_count": 27,
   "metadata": {},
   "outputs": [
    {
     "data": {
      "text/html": [
       "<ol class=list-inline>\n",
       "\t<li>56200</li>\n",
       "\t<li>758</li>\n",
       "</ol>\n"
      ],
      "text/latex": [
       "\\begin{enumerate*}\n",
       "\\item 56200\n",
       "\\item 758\n",
       "\\end{enumerate*}\n"
      ],
      "text/markdown": [
       "1. 56200\n",
       "2. 758\n",
       "\n",
       "\n"
      ],
      "text/plain": [
       "[1] 56200   758"
      ]
     },
     "metadata": {},
     "output_type": "display_data"
    },
    {
     "data": {
      "text/html": [
       "<ol class=list-inline>\n",
       "\t<li>'ENSG00000223972'</li>\n",
       "\t<li>'ENSG00000227232'</li>\n",
       "\t<li>'ENSG00000278267'</li>\n",
       "\t<li>'ENSG00000243485'</li>\n",
       "\t<li>'ENSG00000237613'</li>\n",
       "\t<li>'ENSG00000268020'</li>\n",
       "</ol>\n"
      ],
      "text/latex": [
       "\\begin{enumerate*}\n",
       "\\item 'ENSG00000223972'\n",
       "\\item 'ENSG00000227232'\n",
       "\\item 'ENSG00000278267'\n",
       "\\item 'ENSG00000243485'\n",
       "\\item 'ENSG00000237613'\n",
       "\\item 'ENSG00000268020'\n",
       "\\end{enumerate*}\n"
      ],
      "text/markdown": [
       "1. 'ENSG00000223972'\n",
       "2. 'ENSG00000227232'\n",
       "3. 'ENSG00000278267'\n",
       "4. 'ENSG00000243485'\n",
       "5. 'ENSG00000237613'\n",
       "6. 'ENSG00000268020'\n",
       "\n",
       "\n"
      ],
      "text/plain": [
       "[1] \"ENSG00000223972\" \"ENSG00000227232\" \"ENSG00000278267\" \"ENSG00000243485\"\n",
       "[5] \"ENSG00000237613\" \"ENSG00000268020\""
      ]
     },
     "metadata": {},
     "output_type": "display_data"
    }
   ],
   "source": [
    "dim(expression_list[['Whole Blood']])\n",
    "head(expression_list[['Whole Blood']]$NameClean)"
   ]
  },
  {
   "cell_type": "code",
   "execution_count": 28,
   "metadata": {},
   "outputs": [
    {
     "data": {
      "text/html": [
       "'gene_info_target'"
      ],
      "text/latex": [
       "'gene\\_info\\_target'"
      ],
      "text/markdown": [
       "'gene_info_target'"
      ],
      "text/plain": [
       "[1] \"gene_info_target\""
      ]
     },
     "metadata": {},
     "output_type": "display_data"
    }
   ],
   "source": [
    "ln3 <- load(\"/ysm-gpfs/pi/zhao/zy92/projects/utmost_update/GTEX/gene_info_target.RData\")\n",
    "ln3"
   ]
  },
  {
   "cell_type": "code",
   "execution_count": 29,
   "metadata": {},
   "outputs": [
    {
     "data": {
      "text/html": [
       "'data.frame'"
      ],
      "text/latex": [
       "'data.frame'"
      ],
      "text/markdown": [
       "'data.frame'"
      ],
      "text/plain": [
       "[1] \"data.frame\""
      ]
     },
     "metadata": {},
     "output_type": "display_data"
    }
   ],
   "source": [
    "class(gene_info_target)"
   ]
  },
  {
   "cell_type": "code",
   "execution_count": 30,
   "metadata": {},
   "outputs": [
    {
     "data": {
      "text/html": [
       "<ol class=list-inline>\n",
       "\t<li>'ensembl_gene_id'</li>\n",
       "\t<li>'hgnc_symbol'</li>\n",
       "\t<li>'chromosome_name'</li>\n",
       "\t<li>'transcript_biotype'</li>\n",
       "</ol>\n"
      ],
      "text/latex": [
       "\\begin{enumerate*}\n",
       "\\item 'ensembl\\_gene\\_id'\n",
       "\\item 'hgnc\\_symbol'\n",
       "\\item 'chromosome\\_name'\n",
       "\\item 'transcript\\_biotype'\n",
       "\\end{enumerate*}\n"
      ],
      "text/markdown": [
       "1. 'ensembl_gene_id'\n",
       "2. 'hgnc_symbol'\n",
       "3. 'chromosome_name'\n",
       "4. 'transcript_biotype'\n",
       "\n",
       "\n"
      ],
      "text/plain": [
       "[1] \"ensembl_gene_id\"    \"hgnc_symbol\"        \"chromosome_name\"   \n",
       "[4] \"transcript_biotype\""
      ]
     },
     "metadata": {},
     "output_type": "display_data"
    }
   ],
   "source": [
    "names(gene_info_target)"
   ]
  },
  {
   "cell_type": "code",
   "execution_count": 31,
   "metadata": {},
   "outputs": [
    {
     "data": {
      "text/html": [
       "Whole Blood"
      ]
     },
     "metadata": {},
     "output_type": "display_data"
    },
    {
     "data": {
      "text/html": [
       "Brain - Frontal Cortex (BA9)"
      ]
     },
     "metadata": {},
     "output_type": "display_data"
    },
    {
     "data": {
      "text/html": [
       "Adipose - Subcutaneous"
      ]
     },
     "metadata": {},
     "output_type": "display_data"
    },
    {
     "data": {
      "text/html": [
       "Muscle - Skeletal"
      ]
     },
     "metadata": {},
     "output_type": "display_data"
    },
    {
     "data": {
      "text/html": [
       "Artery - Tibial"
      ]
     },
     "metadata": {},
     "output_type": "display_data"
    },
    {
     "data": {
      "text/html": [
       "Artery - Coronary"
      ]
     },
     "metadata": {},
     "output_type": "display_data"
    },
    {
     "data": {
      "text/html": [
       "Heart - Atrial Appendage"
      ]
     },
     "metadata": {},
     "output_type": "display_data"
    },
    {
     "data": {
      "text/html": [
       "Adipose - Visceral (Omentum)"
      ]
     },
     "metadata": {},
     "output_type": "display_data"
    },
    {
     "data": {
      "text/html": [
       "Ovary"
      ]
     },
     "metadata": {},
     "output_type": "display_data"
    },
    {
     "data": {
      "text/html": [
       "Uterus"
      ]
     },
     "metadata": {},
     "output_type": "display_data"
    },
    {
     "data": {
      "text/html": [
       "Vagina"
      ]
     },
     "metadata": {},
     "output_type": "display_data"
    },
    {
     "data": {
      "text/html": [
       "Breast - Mammary Tissue"
      ]
     },
     "metadata": {},
     "output_type": "display_data"
    },
    {
     "data": {
      "text/html": [
       "Skin - Not Sun Exposed (Suprapubic)"
      ]
     },
     "metadata": {},
     "output_type": "display_data"
    },
    {
     "data": {
      "text/html": [
       "Minor Salivary Gland"
      ]
     },
     "metadata": {},
     "output_type": "display_data"
    },
    {
     "data": {
      "text/html": [
       "Brain - Cortex"
      ]
     },
     "metadata": {},
     "output_type": "display_data"
    },
    {
     "data": {
      "text/html": [
       "Adrenal Gland"
      ]
     },
     "metadata": {},
     "output_type": "display_data"
    },
    {
     "data": {
      "text/html": [
       "Thyroid"
      ]
     },
     "metadata": {},
     "output_type": "display_data"
    },
    {
     "data": {
      "text/html": [
       "Lung"
      ]
     },
     "metadata": {},
     "output_type": "display_data"
    },
    {
     "data": {
      "text/html": [
       "Spleen"
      ]
     },
     "metadata": {},
     "output_type": "display_data"
    },
    {
     "data": {
      "text/html": [
       "Pancreas"
      ]
     },
     "metadata": {},
     "output_type": "display_data"
    },
    {
     "data": {
      "text/html": [
       "Esophagus - Muscularis"
      ]
     },
     "metadata": {},
     "output_type": "display_data"
    },
    {
     "data": {
      "text/html": [
       "Esophagus - Mucosa"
      ]
     },
     "metadata": {},
     "output_type": "display_data"
    },
    {
     "data": {
      "text/html": [
       "Esophagus - Gastroesophageal Junction"
      ]
     },
     "metadata": {},
     "output_type": "display_data"
    },
    {
     "data": {
      "text/html": [
       "Stomach"
      ]
     },
     "metadata": {},
     "output_type": "display_data"
    },
    {
     "data": {
      "text/html": [
       "Colon - Sigmoid"
      ]
     },
     "metadata": {},
     "output_type": "display_data"
    },
    {
     "data": {
      "text/html": [
       "Small Intestine - Terminal Ileum"
      ]
     },
     "metadata": {},
     "output_type": "display_data"
    },
    {
     "data": {
      "text/html": [
       "Colon - Transverse"
      ]
     },
     "metadata": {},
     "output_type": "display_data"
    },
    {
     "data": {
      "text/html": [
       "Prostate"
      ]
     },
     "metadata": {},
     "output_type": "display_data"
    },
    {
     "data": {
      "text/html": [
       "Testis"
      ]
     },
     "metadata": {},
     "output_type": "display_data"
    },
    {
     "data": {
      "text/html": [
       "Skin - Sun Exposed (Lower leg)"
      ]
     },
     "metadata": {},
     "output_type": "display_data"
    },
    {
     "data": {
      "text/html": [
       "Nerve - Tibial"
      ]
     },
     "metadata": {},
     "output_type": "display_data"
    },
    {
     "data": {
      "text/html": [
       "Heart - Left Ventricle"
      ]
     },
     "metadata": {},
     "output_type": "display_data"
    },
    {
     "data": {
      "text/html": [
       "Pituitary"
      ]
     },
     "metadata": {},
     "output_type": "display_data"
    },
    {
     "data": {
      "text/html": [
       "Brain - Cerebellum"
      ]
     },
     "metadata": {},
     "output_type": "display_data"
    },
    {
     "data": {
      "text/html": [
       "Cells - Cultured fibroblasts"
      ]
     },
     "metadata": {},
     "output_type": "display_data"
    },
    {
     "data": {
      "text/html": [
       "Artery - Aorta"
      ]
     },
     "metadata": {},
     "output_type": "display_data"
    },
    {
     "data": {
      "text/html": [
       "Cells - EBV-transformed lymphocytes"
      ]
     },
     "metadata": {},
     "output_type": "display_data"
    },
    {
     "data": {
      "text/html": [
       "Brain - Cerebellar Hemisphere"
      ]
     },
     "metadata": {},
     "output_type": "display_data"
    },
    {
     "data": {
      "text/html": [
       "Brain - Caudate (basal ganglia)"
      ]
     },
     "metadata": {},
     "output_type": "display_data"
    },
    {
     "data": {
      "text/html": [
       "Brain - Nucleus accumbens (basal ganglia)"
      ]
     },
     "metadata": {},
     "output_type": "display_data"
    },
    {
     "data": {
      "text/html": [
       "Brain - Putamen (basal ganglia)"
      ]
     },
     "metadata": {},
     "output_type": "display_data"
    },
    {
     "data": {
      "text/html": [
       "Brain - Hypothalamus"
      ]
     },
     "metadata": {},
     "output_type": "display_data"
    },
    {
     "data": {
      "text/html": [
       "Brain - Spinal cord (cervical c-1)"
      ]
     },
     "metadata": {},
     "output_type": "display_data"
    },
    {
     "data": {
      "text/html": [
       "Liver"
      ]
     },
     "metadata": {},
     "output_type": "display_data"
    },
    {
     "data": {
      "text/html": [
       "Brain - Hippocampus"
      ]
     },
     "metadata": {},
     "output_type": "display_data"
    },
    {
     "data": {
      "text/html": [
       "Brain - Anterior cingulate cortex (BA24)"
      ]
     },
     "metadata": {},
     "output_type": "display_data"
    },
    {
     "data": {
      "text/html": [
       "Brain - Substantia nigra"
      ]
     },
     "metadata": {},
     "output_type": "display_data"
    },
    {
     "data": {
      "text/html": [
       "Kidney - Cortex"
      ]
     },
     "metadata": {},
     "output_type": "display_data"
    },
    {
     "data": {
      "text/html": [
       "Brain - Amygdala"
      ]
     },
     "metadata": {},
     "output_type": "display_data"
    },
    {
     "data": {
      "text/html": [
       "Cervix - Ectocervix"
      ]
     },
     "metadata": {},
     "output_type": "display_data"
    },
    {
     "data": {
      "text/html": [
       "Fallopian Tube"
      ]
     },
     "metadata": {},
     "output_type": "display_data"
    },
    {
     "data": {
      "text/html": [
       "Cervix - Endocervix"
      ]
     },
     "metadata": {},
     "output_type": "display_data"
    },
    {
     "data": {
      "text/html": [
       "Bladder"
      ]
     },
     "metadata": {},
     "output_type": "display_data"
    },
    {
     "data": {
      "text/html": [
       "Kidney - Medulla"
      ]
     },
     "metadata": {},
     "output_type": "display_data"
    },
    {
     "data": {
      "text/html": [
       "Cells - Leukemia cell line (CML)"
      ]
     },
     "metadata": {},
     "output_type": "display_data"
    }
   ],
   "source": [
    "# function to filter the target gene\n",
    "expression_list_target <- expression_list\n",
    "for (tissue in tissue_vec) {\n",
    "    IRdisplay::display_html(tissue)\n",
    "    expression_list_target[[tissue]] <-  gene_info_target %>% \n",
    "        left_join(expression_list[[tissue]], by = c(\"ensembl_gene_id\" = \"NameClean\"))\n",
    "}\n",
    "\n"
   ]
  },
  {
   "cell_type": "code",
   "execution_count": 32,
   "metadata": {},
   "outputs": [
    {
     "data": {
      "text/html": [
       "<table>\n",
       "<caption>A data.frame: 6 × 761</caption>\n",
       "<thead>\n",
       "\t<tr><th scope=col>ensembl_gene_id</th><th scope=col>hgnc_symbol</th><th scope=col>chromosome_name</th><th scope=col>transcript_biotype</th><th scope=col>GTEX-111YS-0006-SM-5NQBE</th><th scope=col>GTEX-1122O-0005-SM-5O99J</th><th scope=col>GTEX-1128S-0005-SM-5P9HI</th><th scope=col>GTEX-113IC-0006-SM-5NQ9C</th><th scope=col>GTEX-113JC-0006-SM-5O997</th><th scope=col>GTEX-117XS-0005-SM-5PNU6</th><th scope=col>⋯</th><th scope=col>GTEX-ZVT2-0005-SM-57WBW</th><th scope=col>GTEX-ZVT3-0006-SM-51MT9</th><th scope=col>GTEX-ZVT4-0006-SM-57WB8</th><th scope=col>GTEX-ZVTK-0006-SM-57WBK</th><th scope=col>GTEX-ZVZP-0006-SM-51MSW</th><th scope=col>GTEX-ZVZQ-0006-SM-51MR8</th><th scope=col>GTEX-ZXES-0005-SM-57WCB</th><th scope=col>GTEX-ZXG5-0005-SM-57WCN</th><th scope=col>Name</th><th scope=col>Description</th></tr>\n",
       "\t<tr><th scope=col>&lt;chr&gt;</th><th scope=col>&lt;chr&gt;</th><th scope=col>&lt;chr&gt;</th><th scope=col>&lt;chr&gt;</th><th scope=col>&lt;dbl&gt;</th><th scope=col>&lt;dbl&gt;</th><th scope=col>&lt;dbl&gt;</th><th scope=col>&lt;dbl&gt;</th><th scope=col>&lt;dbl&gt;</th><th scope=col>&lt;dbl&gt;</th><th scope=col>⋯</th><th scope=col>&lt;dbl&gt;</th><th scope=col>&lt;dbl&gt;</th><th scope=col>&lt;dbl&gt;</th><th scope=col>&lt;dbl&gt;</th><th scope=col>&lt;dbl&gt;</th><th scope=col>&lt;dbl&gt;</th><th scope=col>&lt;dbl&gt;</th><th scope=col>&lt;dbl&gt;</th><th scope=col>&lt;chr&gt;</th><th scope=col>&lt;chr&gt;</th></tr>\n",
       "</thead>\n",
       "<tbody>\n",
       "\t<tr><td>ENSG00000228229</td><td>     </td><td>1</td><td>lincRNA       </td><td>0.0000</td><td>0.00000</td><td>0.000</td><td>0.000</td><td>0.0000</td><td>0.00000</td><td>⋯</td><td>0.00000</td><td>0.0000</td><td>0.0000</td><td>0.0000</td><td>0.00000</td><td>0.00000</td><td>0.00000</td><td>0.00000</td><td>ENSG00000228229.2</td><td>RP11-219C24.10</td></tr>\n",
       "\t<tr><td>ENSG00000237445</td><td>     </td><td>1</td><td>lincRNA       </td><td>0.0000</td><td>0.00000</td><td>0.000</td><td>0.000</td><td>0.0000</td><td>0.00000</td><td>⋯</td><td>0.00000</td><td>0.0000</td><td>0.0000</td><td>0.0000</td><td>0.00000</td><td>0.00000</td><td>0.00000</td><td>0.00000</td><td>ENSG00000237445.2</td><td>CTA-520D8.2   </td></tr>\n",
       "\t<tr><td>ENSG00000231606</td><td>     </td><td>1</td><td>lincRNA       </td><td>0.0000</td><td>0.00000</td><td>0.000</td><td>0.000</td><td>0.0000</td><td>0.00000</td><td>⋯</td><td>0.00000</td><td>0.0000</td><td>0.0000</td><td>0.0000</td><td>0.00000</td><td>0.00000</td><td>0.00000</td><td>0.00000</td><td>ENSG00000231606.1</td><td>RP11-344F13.1 </td></tr>\n",
       "\t<tr><td>ENSG00000234593</td><td>     </td><td>1</td><td>lincRNA       </td><td>0.0000</td><td>0.00000</td><td>0.000</td><td>0.000</td><td>0.0000</td><td>0.00000</td><td>⋯</td><td>0.00000</td><td>0.0000</td><td>0.0000</td><td>0.0000</td><td>0.00000</td><td>0.00000</td><td>0.00000</td><td>0.00000</td><td>ENSG00000234593.2</td><td>RP4-704D23.1  </td></tr>\n",
       "\t<tr><td>ENSG00000228140</td><td>     </td><td>1</td><td>lincRNA       </td><td>0.5148</td><td>1.62100</td><td>0.678</td><td>2.237</td><td>0.1405</td><td>0.05083</td><td>⋯</td><td>1.06500</td><td>0.3384</td><td>0.1622</td><td>0.1911</td><td>2.15500</td><td>0.28140</td><td>0.74600</td><td>0.62610</td><td>ENSG00000228140.1</td><td>RP3-467K16.4  </td></tr>\n",
       "\t<tr><td>ENSG00000186092</td><td>OR4F5</td><td>1</td><td>protein_coding</td><td>0.0000</td><td>0.05678</td><td>0.000</td><td>0.000</td><td>0.0000</td><td>0.00000</td><td>⋯</td><td>0.04884</td><td>0.0000</td><td>0.0000</td><td>0.0000</td><td>0.04552</td><td>0.03527</td><td>0.08015</td><td>0.04528</td><td>ENSG00000186092.4</td><td>OR4F5         </td></tr>\n",
       "</tbody>\n",
       "</table>\n"
      ],
      "text/latex": [
       "A data.frame: 6 × 761\n",
       "\\begin{tabular}{r|lllllllllllllllllllllllllllllllllllllllllllllllllllllllllllllllllllllllllllllllllllllllllllllllllllllllllllllllllllllllllllllllllllllllllllllllllllllllllllllllllllllllllllllllllllllllllllllllllllllllllllllllllllllllllllllllllllllllllllllllllllllllllllllllllllllllllllllllllllllllllllllllllllllllllllllllllllllllllllllllllllllllllllllllllllllllllllllllllllllllllllllllllllllllllllllllllllllllllllllllllllllllllllllllllllllllllllllllllllllllllllllllllllllllllllllllllllllllllllllllllllllllllllllllllllllllllllllllllllllllllllllllllllllllllllllllllllllllllllllllllllllllllllllllllllllllllllllllllllllllllllllllllllllllllllllllllllllllllllllllllllllllllllllllllllllllllllllllllllllllllllllllllllllllllllllllllllllllllllllllllllllllllllllllllllllllllllllllllllllllll}\n",
       " ensembl\\_gene\\_id & hgnc\\_symbol & chromosome\\_name & transcript\\_biotype & GTEX-111YS-0006-SM-5NQBE & GTEX-1122O-0005-SM-5O99J & GTEX-1128S-0005-SM-5P9HI & GTEX-113IC-0006-SM-5NQ9C & GTEX-113JC-0006-SM-5O997 & GTEX-117XS-0005-SM-5PNU6 & GTEX-117YW-0005-SM-5NQ8Z & GTEX-1192W-0005-SM-5NQBQ & GTEX-1192X-0005-SM-5NQC3 & GTEX-11DXW-0006-SM-5NQ7Y & GTEX-11DXX-0005-SM-5NQ8B & GTEX-11DXY-0006-SM-5NQ8N & GTEX-11DXZ-0006-SM-5LZZH & GTEX-11DYG-0006-SM-5NQB2 & GTEX-11EI6-0005-SM-5N9GN & GTEX-11EM3-0005-SM-5N9DK & GTEX-11EMC-0006-SM-5O9DN & GTEX-11EQ8-0006-SM-5P9HJ & GTEX-11EQ9-0006-SM-5LUB6 & GTEX-11GS4-0006-SM-5SI9M & GTEX-11GSO-0005-SM-5O9CA & GTEX-11GSP-0006-SM-5N9EL & GTEX-11I78-0005-SM-5N9GB & GTEX-11LCK-0005-SM-5O98U & GTEX-11NUK-0005-SM-5MR5F & GTEX-11NV4-0005-SM-5N9EX & GTEX-11O72-0006-SM-5O9DB & GTEX-11OC5-0006-SM-5N9FA & GTEX-11OF3-0006-SM-5O9CM & GTEX-11ONC-0005-SM-5O9CY & GTEX-11P7K-0006-SM-5N9FM & GTEX-11P81-0006-SM-5NQ7A & GTEX-11P82-0006-SM-5N9FY & GTEX-11PRG-0005-SM-5NQ6X & GTEX-11TT1-0005-SM-5NQ8Y & GTEX-11TTK-0005-SM-5O9BX & GTEX-11TUW-0006-SM-5LZW2 & GTEX-11UD2-0005-SM-5NQ9B & GTEX-11VI4-0006-SM-5N9D8 & GTEX-11WQC-0006-SM-5LZVP & GTEX-11WQK-0005-SM-5O9AV & GTEX-11XUK-0005-SM-5LU9F & GTEX-11ZTS-0005-SM-5NQ8A & GTEX-11ZTT-0006-SM-5N9FX & GTEX-11ZU8-0005-SM-5PNU5 & GTEX-11ZUS-0006-SM-5O9AJ & GTEX-11ZVC-0006-SM-5N9GA & GTEX-1211K-0006-SM-5MR53 & GTEX-12126-0006-SM-5O9B8 & GTEX-1212Z-0006-SM-5NQ8M & GTEX-12584-0005-SM-5N9GM & GTEX-12696-0005-SM-5LZYS & GTEX-1269C-0005-SM-5N9CJ & GTEX-12BJ1-0006-SM-5SIB5 & GTEX-12C56-0006-SM-5N9E9 & GTEX-12KS4-0005-SM-5SI94 & GTEX-12WSC-0005-SM-5MR3H & GTEX-12WSD-0005-SM-5N9FZ & GTEX-12WSE-0005-SM-5NQAE & GTEX-12WSF-0005-SM-5NQAQ & GTEX-12WSG-0005-SM-5NQA2 & GTEX-12WSH-0005-SM-5NQ9P & GTEX-12WSI-0005-SM-5O99K & GTEX-12WSJ-0005-SM-5LU8S & GTEX-12WSK-0006-SM-5NQA1 & GTEX-12WSL-0005-SM-5NQAD & GTEX-12WSM-0005-SM-5NQB3 & GTEX-12WSN-0006-SM-5NQAP & GTEX-12ZZW-0005-SM-5O9BY & GTEX-12ZZX-0005-SM-5O9A9 & GTEX-13111-0005-SM-5NQ7Z & GTEX-13113-0006-SM-5NQ7X & GTEX-1313W-0006-SM-5O9B1 & GTEX-1314G-0005-SM-5NQ9O & GTEX-131XE-0006-SM-5P9F9 & GTEX-131XF-0006-SM-5P9HK & GTEX-131XG-0006-SM-5O9CE & GTEX-131XH-0006-SM-5O98V & GTEX-131XW-0006-SM-5O9AO & GTEX-131YS-0005-SM-5NQAS & GTEX-132AR-0006-SM-5NQ7N & GTEX-132NY-0005-SM-5O9AC & GTEX-132Q8-0006-SM-5NQA4 & GTEX-132QS-0005-SM-5LZXK & GTEX-1339X-0005-SM-5O9CQ & GTEX-1399R-0006-SM-5N9FR & GTEX-1399S-0006-SM-5NQ7U & GTEX-1399U-0005-SM-5NQ8K & GTEX-139D8-0006-SM-5LZX8 & GTEX-139T6-0006-SM-5LU92 & GTEX-139T8-0006-SM-5NQ6V & GTEX-139TS-0005-SM-5NQC1 & GTEX-139TT-0006-SM-5O9CG & GTEX-139TU-0006-SM-5LZVN & GTEX-139UW-0005-SM-5NQ8U & GTEX-13CF2-0006-SM-5O99L & GTEX-13CF3-0006-SM-5N9ED & GTEX-13CIG-0006-SM-5P9HF & GTEX-13CZU-0005-SM-5LU8K & GTEX-13FTW-0005-SM-5LZVZ & GTEX-13FTX-0005-SM-5N9F6 & GTEX-13FTY-0005-SM-5NQ78 & GTEX-13FTZ-0005-SM-5NQ9N & GTEX-13FXS-0006-SM-5O99X & GTEX-13G51-0005-SM-5N9EP & GTEX-13JUV-0006-SM-5NQ97 & GTEX-13O61-0005-SM-5O9AU & GTEX-13OVG-0005-SM-5P9HA & GTEX-13OVH-0005-SM-5P9HB & GTEX-13OVI-0001-SM-5O9BL & GTEX-13OVJ-0006-SM-5O98T & GTEX-13OVK-0006-SM-5O9B7 & GTEX-13OVL-0006-SM-5O996 & GTEX-13OW6-0005-SM-5NQ9Z & GTEX-13OW8-0005-SM-5NQAC & GTEX-13PL7-0005-SM-5N9ET & GTEX-13PLJ-0005-SM-5NQ99 & GTEX-13S7M-0005-SM-5NQ76 & GTEX-13S86-0005-SM-5NQ7I & GTEX-13SLX-0005-SM-CM2RF & GTEX-13U4I-0006-SM-5N9CI & GTEX-13VXT-0005-SM-5N9F3 & GTEX-13VXU-0006-SM-5N9FF & GTEX-13W3W-0005-SM-5SI9Y & GTEX-1477Z-0005-SM-5PNWD & GTEX-147F3-0005-SM-5N9FI & GTEX-147F4-0006-SM-5O99T & GTEX-147GR-0005-SM-5NQAO & GTEX-147JS-0006-SM-5NQ7K & GTEX-148VI-0006-SM-5O9A6 & GTEX-148VJ-0006-SM-5NQB1 & GTEX-1497J-0005-SM-5NQBD & GTEX-14A5H-0006-SM-5O9AI & GTEX-14A5I-0005-SM-5N9FU & GTEX-14A6H-0006-SM-5NQ7W & GTEX-14ABY-0005-SM-5O99U & GTEX-14AS3-0006-SM-5NQC2 & GTEX-14B4R-0006-SM-5O9A7 & GTEX-14BIL-0006-SM-5N9F2 & GTEX-14BIM-0006-SM-5O9AA & GTEX-14BIN-0005-SM-5N9FE & GTEX-14BMU-0006-SM-5MR3T & GTEX-14BMV-0005-SM-5NQ6Y & GTEX-14C38-0006-SM-5NQBF & GTEX-14C39-0005-SM-5NQBR & GTEX-14C5O-0005-SM-5P9ER & GTEX-14DAQ-0005-SM-5NQ7B & GTEX-14DAR-0006-SM-5N9GC & GTEX-14E1K-0006-SM-5N9DY & GTEX-14E6C-0005-SM-5O98N & GTEX-14E6D-0005-SM-5N9D7 & GTEX-14E6E-0006-SM-5MR5N & GTEX-14E7W-0006-SM-5N9GG & GTEX-14H4A-0006-SM-5N9E3 & GTEX-14ICK-0006-SM-5NQB5 & GTEX-14ICL-0006-SM-5SIAB & GTEX-14JFF-0005-SM-7P8RF & GTEX-14JG1-0006-SM-7SB6P & GTEX-14JG6-0005-SM-9JGFV & GTEX-14JIY-0005-SM-7MXVF & GTEX-14LLW-0006-SM-9QEGG & GTEX-14LZ3-0005-SM-7MXUG & GTEX-14PHW-0005-SM-9KNTK & GTEX-14PHY-0006-SM-7SB7I & GTEX-14PII-0005-SM-7RHFV & GTEX-14PJ2-0005-SM-9JGFU & GTEX-14PJ3-0005-SM-9JGFT & GTEX-14PJ4-0006-SM-7RHFY & GTEX-14PJ5-0005-SM-9MQLO & GTEX-14PJ6-0006-SM-7P8RE & GTEX-14PJM-0006-SM-9JGHA & GTEX-14PJN-0005-SM-9JGGF & GTEX-14PJO-0005-SM-9JGGY & GTEX-14PJP-0005-SM-7P8OM & GTEX-14PK6-0006-SM-7PC1L & GTEX-14PKU-0005-SM-9KNTL & GTEX-14PKV-0006-SM-9MQL3 & GTEX-14PN3-0006-SM-7SB6O & GTEX-14PN4-0005-SM-7PC21 & GTEX-14PQA-0006-SM-7PC2D & GTEX-14XAO-0006-SM-7RHFX & GTEX-15CHC-0006-SM-7P8RG & GTEX-15CHQ-0005-SM-7P8RH & GTEX-15CHR-0005-SM-9KNUS & GTEX-15D1Q-0006-SM-9KNTN & GTEX-15D79-0005-SM-7P8TS & GTEX-15DCD-0006-SM-7RHG4 & GTEX-15DCE-0005-SM-7SB7J & GTEX-15DYW-0006-SM-7RHFR & GTEX-15DZA-0005-SM-9JGFP & GTEX-15EO6-0005-SM-7PBZC & GTEX-15ETS-0005-SM-9KNTJ & GTEX-15EU6-0005-SM-7P8RJ & GTEX-15G19-0006-SM-9KNW6 & GTEX-15G1A-0006-SM-7PC1Z & GTEX-15RIE-0006-SM-7MKF8 & GTEX-15RIF-0005-SM-7RHGH & GTEX-15RIG-0006-SM-7PC1N & GTEX-15RJ7-0006-SM-7RHHM & GTEX-15RJE-0006-SM-7PC1J & GTEX-15SB6-0005-SM-7P8OO & GTEX-15SDE-0006-SM-7PC19 & GTEX-16AAH-0005-SM-7P8RD & GTEX-16BQI-0006-SM-7SB6K & GTEX-16MT8-0005-SM-7PBYO & GTEX-16MT9-0006-SM-7MXTU & GTEX-16MTA-0005-SM-7RHFT & GTEX-16NGA-0006-SM-9JGFQ & GTEX-16NPV-0005-SM-7PC2F & GTEX-16NPX-0005-SM-7MKGG & GTEX-16XZY-0006-SM-7SB99 & GTEX-16XZZ-0006-SM-7MKF5 & GTEX-16YQH-0006-SM-7P8OQ & GTEX-16Z82-0005-SM-7PBXZ & GTEX-178AV-0005-SM-9JGFM & GTEX-17EUY-0006-SM-7P8SB & GTEX-17EVP-0005-SM-7P8RC & GTEX-17EVQ-0006-SM-7MGWB & GTEX-17GQL-0005-SM-7MKF4 & GTEX-17HG3-0006-SM-7MKFE & GTEX-17HGU-0006-SM-7MXT8 & GTEX-17HHE-0005-SM-7P8OT & GTEX-17HHY-0006-SM-7MXT4 & GTEX-17HII-0005-SM-7MKF6 & GTEX-17JCI-0005-SM-7P8OL & GTEX-17KNJ-0005-SM-7PBYB & GTEX-17MFQ-0006-SM-7PBXP & GTEX-183FY-0005-SM-9KNTO & GTEX-183WM-0005-SM-9JGFW & GTEX-18465-0006-SM-7SB6R & GTEX-18A66-0005-SM-7SB6U & GTEX-18A67-0006-SM-7SB6T & GTEX-18A6Q-0005-SM-9KNVX & GTEX-18A7A-0006-SM-7PC1P & GTEX-18A7B-0005-SM-7PC1D & GTEX-18D9A-0005-SM-7SB7H & GTEX-18D9B-0005-SM-7PBYL & GTEX-18D9U-0006-SM-7SB6M & GTEX-18QFQ-0006-SM-7SB6X & GTEX-1A32A-0006-SM-7PC1Y & GTEX-1A3MV-0005-SM-7PC1O & GTEX-1A3MW-0006-SM-7MKGU & GTEX-1A3MX-0005-SM-7MGW7 & GTEX-1A8FM-0006-SM-7MGWI & GTEX-1A8G6-0006-SM-7PC1X & GTEX-1A8G7-0006-SM-7P8RM & GTEX-1AMEY-0005-SM-7PBYK & GTEX-1AMFI-0006-SM-9KNTQ & GTEX-1AX8Z-0006-SM-9KNVB & GTEX-1AX9I-0005-SM-9MQKI & GTEX-1AX9J-0005-SM-9MQKU & GTEX-1AX9K-0006-SM-9KNVP & GTEX-1AYCT-0005-SM-7SB6V & GTEX-1AYD5-0005-SM-7SB6L & GTEX-1B8KE-0006-SM-7SB6W & GTEX-1B8KZ-0006-SM-7MXTJ & GTEX-1B8L1-0005-SM-9MQK6 & GTEX-1B8SF-0005-SM-7MGVK & GTEX-1B8SG-0006-SM-7MKFA & GTEX-1B932-0005-SM-9KNTP & GTEX-1B933-0006-SM-7P8OP & GTEX-1B97I-0005-SM-7PC1M & GTEX-1B97J-0005-SM-7MXT5 & GTEX-1B996-0006-SM-7P8OS & GTEX-1BAJH-0005-SM-7PC1R & GTEX-1C2JI-0006-SM-7PC3Q & GTEX-1C475-0006-SM-9MQL7 & GTEX-1C4CL-0005-SM-7MKF3 & GTEX-1C64N-0005-SM-7PBY7 & GTEX-1C64O-0006-SM-7PC22 & GTEX-1C6VQ-0005-SM-7P8OR & GTEX-1C6VR-0005-SM-7MKF7 & GTEX-1C6VS-0005-SM-7MGWG & GTEX-1CAMR-0006-SM-ACKV5 & GTEX-1CAMS-0005-SM-ARL6Y & GTEX-1CB4E-0005-SM-ADEGS & GTEX-1CB4G-0006-SM-AHZ22 & GTEX-1CB4H-0006-SM-A96RE & GTEX-1CB4I-0006-SM-A96RF & GTEX-1CB4J-0006-SM-ACKV6 & GTEX-1E1VI-0005-SM-ARU6H & GTEX-1E2YA-0006-SM-AHZ23 & GTEX-1EH9U-0005-SM-ACKV3 & GTEX-1EKGG-0005-SM-AHZ1Z & GTEX-1EMGI-0006-SM-ACKVA & GTEX-1EN7A-0006-SM-AHZ4O & GTEX-1EU9M-0006-SM-ARU6I & GTEX-1EWIQ-0005-SM-ADEHB & GTEX-1EX96-0006-SM-ARU6J & GTEX-1F48J-0006-SM-ARL6W & GTEX-1F52S-0006-SM-ARL6X & GTEX-1F5PK-0005-SM-A96RM & GTEX-1F6I4-0005-SM-ARZKZ & GTEX-1F6IF-0005-SM-ARU6K & GTEX-1F75I-0005-SM-ADEHC & GTEX-1F75W-0005-SM-A9SMP & GTEX-1F7RK-0006-SM-ACKV4 & GTEX-1F88F-0005-SM-A9SK2 & GTEX-1GF9U-0005-SM-A9SK1 & GTEX-1GF9V-0006-SM-A96RD & GTEX-1GF9W-0006-SM-ARZL1 & GTEX-1GF9X-0005-SM-A9G3R & GTEX-1GMR2-0005-SM-ADEH3 & GTEX-1GMR3-0005-SM-ADEGR & GTEX-1GMR8-0005-SM-ARZL2 & GTEX-1GMRU-0006-SM-AHZ21 & GTEX-1GN1U-0006-SM-ARU6G & GTEX-1GN1V-0006-SM-ADEHD & GTEX-1GN1W-0006-SM-A9SKL & GTEX-1GN2E-0005-SM-ARU6L & GTEX-1GN73-0005-SM-ACKVI & GTEX-1GPI6-0005-SM-ADEGT & GTEX-1GPI7-0005-SM-A9G13 & GTEX-1GTWX-0006-SM-ARZL3 & GTEX-1GZ2Q-0005-SM-ARL71 & GTEX-1GZ4H-0005-SM-ARZL7 & GTEX-1GZHY-0005-SM-ARZL6 & GTEX-1H11D-0005-SM-ACKV7 & GTEX-1H1CY-0005-SM-A9G15 & GTEX-1H1DE-0005-SM-A9SK4 & GTEX-1H1DF-0005-SM-ADEGU & GTEX-1H1DG-0006-SM-ARZL4 & GTEX-1H1E6-0005-SM-ARZL5 & GTEX-1H23P-0005-SM-A9G14 & GTEX-1H3NZ-0005-SM-A96RG & GTEX-1H3O1-0005-SM-ACKV8 & GTEX-1H4P4-0006-SM-AHZ24 & GTEX-1HB9E-0006-SM-ARU6M & GTEX-1HBPI-0005-SM-ARZLB & GTEX-1HBPM-0006-SM-A9SKK & GTEX-1HC8U-0005-SM-ADEGV & GTEX-1HCU6-0005-SM-AHZ28 & GTEX-1HCU7-0006-SM-A9G19 & GTEX-1HCU8-0005-SM-A96RL & GTEX-1HCU9-0005-SM-A9G1A & GTEX-1HCUA-0006-SM-ACKV9 & GTEX-1HCVE-0006-SM-ADEH2 & GTEX-1HFI6-0005-SM-A9SK6 & GTEX-1HFI7-0005-SM-ADEH1 & GTEX-1HKZK-0005-SM-ARL73 & GTEX-1HR98-0005-SM-A9SKM & GTEX-1HR9M-0005-SM-AHZ26 & GTEX-1HSGN-0006-SM-ACKVH & GTEX-1HSKV-0006-SM-ARZL9 & GTEX-1HSMO-0005-SM-ADEGW & GTEX-1HSMP-0006-SM-AHZ25 & GTEX-1HSMQ-0006-SM-ARU6N & GTEX-1HT8W-0006-SM-A9G17 & GTEX-1HUB1-0005-SM-ARL74 & GTEX-1I19N-0006-SM-A9G18 & GTEX-1I1CD-0005-SM-ADEGY & GTEX-1I1GP-0006-SM-A96RJ & GTEX-1I1GQ-0005-SM-ARU6O & GTEX-1I1GR-0006-SM-ARL75 & GTEX-1I1GS-0005-SM-DHXIW & GTEX-1I1GT-0005-SM-A9SK5 & GTEX-1I1GV-0005-SM-AHZ27 & GTEX-1I1HK-0005-SM-ARZL8 & GTEX-1I4MK-0006-SM-A96RI & GTEX-1I6K6-0006-SM-ARZLA & GTEX-1I6K7-0005-SM-ARL72 & GTEX-1ICG6-0006-SM-A96RH & GTEX-1ICLY-0005-SM-A9G16 & GTEX-1IDFM-0005-SM-ADEGX & GTEX-1IDJC-0005-SM-A9G1C & GTEX-1IDJD-0006-SM-ARZLC & GTEX-1IDJE-0006-SM-A9G1B & GTEX-1IDJF-0005-SM-ARU6P & GTEX-1IDJH-0006-SM-CMKFT & GTEX-1IDJI-0006-SM-CMKFJ & GTEX-1IDJU-0006-SM-CMKFK & GTEX-1IE54-0005-SM-CMKFQ & GTEX-1IGQW-0005-SM-CMKFR & GTEX-1IKJJ-0005-SM-CMKFS & GTEX-1IKK5-0006-SM-CMKFI & GTEX-1IKOE-0005-SM-CMKFL & GTEX-1IKOH-0006-SM-CMKFM & GTEX-1IL2U-0006-SM-CMKFP & GTEX-1IL2V-0006-SM-CMKFN & GTEX-1IOXB-0006-SM-CMKFO & GTEX-1IY9M-0005-SM-CNNOU & GTEX-1J8EW-0006-SM-CNNOW & GTEX-1J8JJ-0006-SM-CNNOX & GTEX-1J8Q2-0006-SM-CNNOZ & GTEX-1J8Q3-0005-SM-CNNOY & GTEX-1J8QM-0006-SM-CNNP1 & GTEX-1JJ6O-0005-SM-DHXJ4 & GTEX-1JJE9-0006-SM-CGQEB & GTEX-1JJEA-0006-SM-DHXJ2 & GTEX-1JK1U-0006-SM-DHXJ3 & GTEX-1JKYN-0006-SM-DHXJ5 & GTEX-1JKYR-0005-SM-DHXL5 & GTEX-1JMLX-0006-SM-DHXJ6 & GTEX-1JMOU-0006-SM-DHXJ7 & GTEX-1JMPY-0006-SM-DHXJ8 & GTEX-1JMPZ-0006-SM-DHXJ9 & GTEX-1JMQI-0005-SM-DHXJA & GTEX-1JMQJ-0006-SM-DHXJD & GTEX-1JMQK-0005-SM-CNPOE & GTEX-1JMQL-0006-SM-DHXJB & GTEX-1JN1M-0006-SM-DHXJE & GTEX-1JN6P-0005-SM-DIPEH & GTEX-1JN76-0005-SM-EAZ3B & GTEX-1K2DA-0005-SM-DIPE7 & GTEX-1K2DU-0005-SM-DIPE8 & GTEX-1K9T9-0006-SM-DIPE9 & GTEX-1KAFJ-0006-SM-9WPO1 & GTEX-1KANA-0006-SM-9YFLB & GTEX-1KANB-0006-SM-DIPE6 & GTEX-1KANC-0006-SM-9YFL8 & GTEX-1KD4Q-0006-SM-DIPEA & GTEX-1KD5A-0006-SM-DIPEB & GTEX-1KWVE-0005-SM-CYPSE & GTEX-1KXAM-0005-SM-DIPEC & GTEX-1L5NE-0005-SM-DIPEG & GTEX-1LB8K-0005-SM-DIPED & GTEX-1LBAC-0005-SM-DIPEE & GTEX-1LC47-0005-SM-COH2J & GTEX-1LG7Y-0005-SM-DKPQ7 & GTEX-1LG7Z-0005-SM-DKPQ6 & GTEX-1LGOU-0005-SM-DKPPW & GTEX-1LGRB-0006-SM-DKPPB & GTEX-1LH75-0006-SM-CXZIP & GTEX-1LKK1-0005-SM-CXZIT & GTEX-1LNCM-0005-SM-CXZIR & GTEX-1LSNL-0006-SM-CXZIV & GTEX-1LSNM-0005-SM-CXZIW & GTEX-1LSVX-0005-SM-DKPPI & GTEX-1LVA9-0006-SM-DKPPN & GTEX-1LVAM-0005-SM-CXZJ4 & GTEX-1LVAN-0005-SM-DKPPM & GTEX-1LVAO-0006-SM-CXZIU & GTEX-1M4P7-0005-SM-CXZIS & GTEX-1M5QR-0005-SM-DKPPP & GTEX-1MA7W-0006-SM-DKPPR & GTEX-1MA7X-0006-SM-CXZJ6 & GTEX-1MCC2-0006-SM-DKPPJ & GTEX-1MCQQ-0005-SM-DKPPV & GTEX-1MCYP-0005-SM-DKPPK & GTEX-1MGNQ-0005-SM-CXZJ1 & GTEX-1MJIX-0006-SM-DKPPU & GTEX-1MJK2-0006-SM-CXZIN & GTEX-1MJK3-0006-SM-DKPP9 & GTEX-1MUQO-0005-SM-DKPPT & GTEX-1N2DW-0006-SM-DKPP4 & GTEX-1N2EE-0005-SM-DKPP5 & GTEX-1N2EF-0005-SM-CXZIL & GTEX-1N5O9-0006-SM-DKPPS & GTEX-1NHNU-0005-SM-DKPP3 & GTEX-1NSGN-0005-SM-DKPPX & GTEX-1NUQO-0005-SM-DKPP2 & GTEX-1NV8Z-0005-SM-DKPQ3 & GTEX-1O97I-0005-SM-DKPPY & GTEX-1O9I2-0005-SM-DKPQ1 & GTEX-1OFPY-0005-SM-DKPPZ & GTEX-1OJC3-0006-SM-DKPP1 & GTEX-1OJC4-0005-SM-DKPQ4 & GTEX-1OKEX-0006-SM-DKPQ2 & GTEX-1P4AB-0005-SM-CY8GM & GTEX-1PBJI-0005-SM-CJI1Y & GTEX-1PBJJ-0005-SM-CKZND & GTEX-1PDJ9-0006-SM-CY8GN & GTEX-1PFEY-0005-SM-CY8GO & GTEX-1PIEJ-0005-SM-DLZQL & GTEX-1PIGE-0005-SM-DLZQM & GTEX-1PIIG-0006-SM-DLZQF & GTEX-1POEN-0005-SM-DLZQN & GTEX-1PPH6-0005-SM-DLZQP & GTEX-1PPH7-0005-SM-CKZNE & GTEX-1PPH8-0006-SM-CY8GS & GTEX-1PWST-0005-SM-DLZQC & GTEX-1QAET-0006-SM-DLZQQ & GTEX-1QCLY-0005-SM-DLZQS & GTEX-1QCLZ-0006-SM-CY8GW & GTEX-1QEPI-0006-SM-CY8GY & GTEX-1QMI2-0006-SM-CY8H1 & GTEX-1QP28-0006-SM-DLZQW & GTEX-1QP29-0005-SM-DLZQX & GTEX-1QP66-0005-SM-CY8H4 & GTEX-1QP67-0006-SM-CY8H5 & GTEX-1QP9N-0005-SM-CY8H9 & GTEX-1QPFJ-0006-SM-CY8HB & GTEX-1QW4Y-0005-SM-DO93W & GTEX-1R46S-0006-SM-DO93Y & GTEX-1R7EU-0006-SM-DO93C & GTEX-1R7EV-0005-SM-DO938 & GTEX-1R9JW-0002-SM-DO93B & GTEX-1R9K4-0006-SM-CYPRM & GTEX-1R9K5-0006-SM-DO939 & GTEX-1R9PM-0006-SM-CYPTI & GTEX-1R9PN-0006-SM-DTX7L & GTEX-1R9PO-0006-SM-DO937 & GTEX-1RAZA-0006-SM-CKZO9 & GTEX-1RAZQ-0005-SM-DO93U & GTEX-1RAZR-0006-SM-DLHBR & GTEX-1RAZS-0005-SM-DO93D & GTEX-1RB15-0005-SM-CL53N & GTEX-1RDX4-0005-SM-DLHBS & GTEX-1RLM8-0005-SM-DO121 & GTEX-1RMOY-0005-SM-DO11X & GTEX-1RNTQ-0006-SM-CYPRG & GTEX-1RQEC-0006-SM-CL542 & GTEX-1RQED-0005-SM-DO11Z & GTEX-1S3DN-0006-SM-DO127 & GTEX-1S5VW-0005-SM-CYPS4 & GTEX-1S5ZA-0005-SM-CYPS2 & GTEX-1S5ZU-0005-SM-CYPS3 & GTEX-1S82P-0005-SM-CM2RX & GTEX-1S82U-0005-SM-CYPRW & GTEX-1S82Y-0005-SM-DO123 & GTEX-1S82Z-0006-SM-DLHC5 & GTEX-1S831-0006-SM-DLHC1 & GTEX-1S83E-0006-SM-DLHBW & GTEX-N7MS-0007-SM-2D7W1 & GTEX-N7MT-0007-SM-3GACQ & GTEX-NFK9-0006-SM-3GACS & GTEX-NPJ7-0006-SM-3GACR & GTEX-NPJ8-0007-SM-2D7VX & GTEX-O5YT-0007-SM-32PK7 & GTEX-O5YW-0006-SM-3LK6E & GTEX-OHPK-0006-SM-2HMKH & GTEX-OHPL-0006-SM-3MJHB & GTEX-OHPM-0006-SM-2HMKU & GTEX-OHPN-0005-SM-2YUML & GTEX-OIZF-0006-SM-2I5GQ & GTEX-OIZH-0005-SM-2HMJN & GTEX-OIZI-0005-SM-2XCED & GTEX-OOBJ-0006-SM-2I3F4 & GTEX-OOBK-0005-SM-2YUMG & GTEX-OXRL-0005-SM-3LK6A & GTEX-OXRO-0006-SM-2I5EM & GTEX-OXRP-0006-SM-2I3FN & GTEX-P44G-0006-SM-2TC6A & GTEX-P44H-0006-SM-2XCFB & GTEX-P4PP-0005-SM-2HMKX & GTEX-P4PQ-0005-SM-2HMKJ & GTEX-P4QS-0005-SM-2I3EY & GTEX-P78B-0005-SM-2I5GM & GTEX-PLZ4-0006-SM-CYPR7 & GTEX-PLZ5-0006-SM-DIPE2 & GTEX-PLZ6-0006-SM-33HBZ & GTEX-POMQ-0006-SM-5SI7D & GTEX-POYW-0006-SM-2XCF4 & GTEX-PSDG-0005-SM-3GADC & GTEX-PVOW-0006-SM-3NMB8 & GTEX-PW2O-0006-SM-2I3DV & GTEX-PWCY-0005-SM-DHXL3 & GTEX-PWN1-0006-SM-CYPR2 & GTEX-PX3G-0006-SM-5SI7E & GTEX-Q2AG-0005-SM-5SI7F & GTEX-Q2AH-0005-SM-33HBR & GTEX-Q2AI-0006-SM-2I3FG & GTEX-Q734-0006-SM-2I3FJ & GTEX-QCQG-0006-SM-DIPE5 & GTEX-QDT8-0006-SM-CXZJC & GTEX-QDVJ-0005-SM-2TC5X & GTEX-QDVN-0006-SM-48U1R & GTEX-QEG4-0006-SM-2I5FY & GTEX-QEG5-0006-SM-2I5FZ & GTEX-QESD-0006-SM-2I5G6 & GTEX-QLQ7-0005-SM-2S1QP & GTEX-QLQW-0005-SM-2S1RA & GTEX-QMR6-0005-SM-32PKY & GTEX-QMRM-0005-SM-3NB2A & GTEX-QV31-0006-SM-793B5 & GTEX-QVJO-0006-SM-2S1RC & GTEX-QVUS-0006-SM-3GAE8 & GTEX-QXCU-0006-SM-2TC5K & GTEX-R3RS-0005-SM-3GAEH & GTEX-R45C-0006-SM-3GAD6 & GTEX-R53T-0005-SM-3GADK & GTEX-R55C-0005-SM-3GAE9 & GTEX-R55D-0006-SM-3GIJS & GTEX-R55E-0006-SM-2TC5G & GTEX-R55G-0006-SM-2TC6O & GTEX-REY6-0005-SM-2TF54 & GTEX-RM2N-0006-SM-2TF5H & GTEX-RN64-0005-SM-793B4 & GTEX-RNOR-0005-SM-2TF4Z & GTEX-RTLS-0006-SM-2TF58 & GTEX-RU1J-0006-SM-2TF6M & GTEX-RU72-0006-SM-2TF65 & GTEX-RUSQ-0006-SM-2TF6P & GTEX-RVPV-0006-SM-2TF6Q & GTEX-RWS6-0005-SM-2XCAN & GTEX-RWSA-0005-SM-2XCAO & GTEX-S32W-0006-SM-2XCAK & GTEX-S33H-0005-SM-2XCAL & GTEX-S341-0006-SM-3NM8D & GTEX-S7PM-0006-SM-3NM8C & GTEX-S7SE-0005-SM-2XCEA & GTEX-S95S-0005-SM-2XCEC & GTEX-SE5C-0006-SM-4BRW5 & GTEX-SIU8-0006-SM-2XCE5 & GTEX-SJXC-0005-SM-2XCE7 & GTEX-SN8G-0006-SM-32PLD & GTEX-SNMC-0006-SM-2XCFE & GTEX-SNOS-0006-SM-32PLH & GTEX-SSA3-0005-SM-32QOT & GTEX-SUCS-0006-SM-4DM59 & GTEX-T2YK-0005-SM-32QOV & GTEX-T5JC-0006-SM-EZ6L9 & GTEX-T5JW-0005-SM-3GADE & GTEX-T6MN-0005-SM-32PLJ & GTEX-T6MO-0006-SM-32QOU & GTEX-T8EM-0006-SM-3DB71 & GTEX-TKQ1-0006-SM-33HBI & GTEX-TKQ2-0006-SM-33HBH & GTEX-TML8-0005-SM-32QPA & GTEX-TMMY-0005-SM-33HBN & GTEX-TMZS-0006-SM-3DB8G & GTEX-TSE9-0005-SM-4DXUF & GTEX-U3ZG-0006-SM-47JWX & GTEX-U3ZH-0005-SM-3DB72 & GTEX-U3ZN-0006-SM-3DB7Y & GTEX-U4B1-0006-SM-3DB8E & GTEX-U8T8-0005-SM-3DB8F & GTEX-U8XE-0005-SM-3DB8I & GTEX-UJHI-0006-SM-3DB8H & GTEX-UJMC-0005-SM-3GACU & GTEX-UPJH-0006-SM-3GACW & GTEX-UPK5-0006-SM-3GAD8 & GTEX-UTHO-0006-SM-3NMCC & GTEX-V1D1-0006-SM-3NMCE & GTEX-V955-0005-SM-3P5ZC & GTEX-VJWN-0005-SM-3GIKF & GTEX-VJYA-0005-SM-3P5ZD & GTEX-VUSG-0006-SM-3GIK9 & GTEX-VUSH-0005-SM-3NB2H & GTEX-W5WG-0006-SM-3GIJT & GTEX-W5X1-0006-SM-3GIJZ & GTEX-WCDI-0005-SM-3NB2M & GTEX-WEY5-0006-SM-3GIKG & GTEX-WFG7-0005-SM-3GIKM & GTEX-WFG8-0006-SM-3GIKS & GTEX-WFJO-0005-SM-3GIKY & GTEX-WFON-0005-SM-3NMC9 & GTEX-WH7G-0005-SM-3NMBX & GTEX-WHPG-0006-SM-3NMBV & GTEX-WHSB-0005-SM-3LK7C & GTEX-WHSE-0006-SM-3NMBW & GTEX-WHWD-0005-SM-3LK7D & GTEX-WI4N-0005-SM-3LK7E & GTEX-WK11-0006-SM-3NB3J & GTEX-WL46-0006-SM-4OOS5 & GTEX-WOFL-0006-SM-3TW8K & GTEX-WOFM-0005-SM-3MJF3 & GTEX-WQUQ-0006-SM-3MJF4 & GTEX-WRHK-0005-SM-3MJF5 & GTEX-WRHU-0006-SM-3MJF6 & GTEX-WVLH-0006-SM-3MJF7 & GTEX-WWYW-0005-SM-3NB3K & GTEX-WXYG-0005-SM-3NB3M & GTEX-WY7C-0006-SM-3NB3L & GTEX-WYBS-0005-SM-4ONDR & GTEX-WYJK-0005-SM-3NMA1 & GTEX-WYVS-0006-SM-3NMA7 & GTEX-WZTO-0006-SM-3NM9T & GTEX-X15G-0005-SM-3NMDA & GTEX-X261-0005-SM-4PQYX & GTEX-X3Y1-0006-SM-3P5ZG & GTEX-X4EO-0006-SM-3P5ZF & GTEX-X4EP-0005-SM-3P5ZE & GTEX-X4LF-0006-SM-3NMCO & GTEX-X4XX-0005-SM-3NMCS & GTEX-X4XY-0006-SM-46MV2 & GTEX-X585-0005-SM-46MV3 & GTEX-X5EB-0006-SM-46MV5 & GTEX-X62O-0005-SM-46MV1 & GTEX-X638-0005-SM-47JX6 & GTEX-X88G-0006-SM-47JX5 & GTEX-X8HC-0006-SM-46MV6 & GTEX-XAJ8-0006-SM-46MVM & GTEX-XBEC-0006-SM-4AT5T & GTEX-XBED-0006-SM-47JXO & GTEX-XBEW-0006-SM-4AT4E & GTEX-XGQ4-0005-SM-4AT5U & GTEX-XK95-0005-SM-4AT4S & GTEX-XLM4-0005-SM-4AT4P & GTEX-XMD1-0006-SM-4AT4Q & GTEX-XMD2-0006-SM-4WWEG & GTEX-XMD3-0006-SM-4AT5X & GTEX-XMK1-0005-SM-4B665 & GTEX-XOT4-0005-SM-4B64S & GTEX-XPT6-0006-SM-4B66Q & GTEX-XPVG-0006-SM-4B65Z & GTEX-XQ3S-0006-SM-4BOQ4 & GTEX-XQ8I-0006-SM-4BOQ5 & GTEX-XUW1-0005-SM-4BOQ7 & GTEX-XUYS-0005-SM-47JZ2 & GTEX-XUZC-0005-SM-4BOQ8 & GTEX-XXEK-0005-SM-4BRWJ & GTEX-XYKS-0005-SM-4BRUD & GTEX-Y111-0006-SM-4SOIO & GTEX-Y114-0006-SM-4TT76 & GTEX-Y3I4-0006-SM-4TT1E & GTEX-Y3IK-0005-SM-4WWDE & GTEX-Y5LM-0005-SM-4V6EJ & GTEX-Y5V5-0006-SM-4V6FE & GTEX-Y5V6-0005-SM-4V6FD & GTEX-Y8DK-0005-SM-4RGNR & GTEX-Y8E4-0006-SM-4V6EW & GTEX-Y8E5-0006-SM-47JWQ & GTEX-Y8LW-0005-SM-4V6EV & GTEX-Y9LG-0006-SM-4VBRK & GTEX-YB5E-0005-SM-4VDSO & GTEX-YB5K-0005-SM-4VDSP & GTEX-YBZK-0005-SM-59HKG & GTEX-YEC3-0005-SM-4W21J & GTEX-YEC4-0001-SM-4W1Y6 & GTEX-YECK-0005-SM-4W217 & GTEX-YF7O-0005-SM-4W1ZU & GTEX-YFC4-0006-SM-4RGLV & GTEX-YFCO-0005-SM-4W1ZI & GTEX-Z93S-0005-SM-4RGLW & GTEX-ZAB4-0005-SM-4RGM8 & GTEX-ZC5H-0005-SM-4WAXM & GTEX-ZDTS-0006-SM-4WAYZ & GTEX-ZDTT-0006-SM-4WKFP & GTEX-ZDXO-0006-SM-4WKGF & GTEX-ZDYS-0002-SM-4WKGR & GTEX-ZE7O-0006-SM-51MTA & GTEX-ZE9C-0006-SM-4WKG2 & GTEX-ZEX8-0005-SM-4WKGE & GTEX-ZF28-0005-SM-4WKH3 & GTEX-ZF29-0006-SM-4WKGQ & GTEX-ZF2S-0006-SM-4WKHF & GTEX-ZF3C-0005-SM-4WWAR & GTEX-ZG7Y-0006-SM-4WWEA & GTEX-ZGAY-0006-SM-4WWAQ & GTEX-ZLV1-0005-SM-4WWAP & GTEX-ZP4G-0006-SM-4WWE6 & GTEX-ZPCL-0006-SM-4WWAS & GTEX-ZPIC-0005-SM-4WWEB & GTEX-ZPU1-0006-SM-4WWAT & GTEX-ZQG8-0005-SM-4YCEH & GTEX-ZQUD-0005-SM-4YCE5 & GTEX-ZT9W-0005-SM-4YCEG & GTEX-ZTPG-0006-SM-4YCFG & GTEX-ZTSS-0005-SM-4YCDR & GTEX-ZTTD-0006-SM-51MSJ & GTEX-ZTX8-0006-SM-4YCE4 & GTEX-ZUA1-0005-SM-4YCEV & GTEX-ZV68-0006-SM-4YCEJ & GTEX-ZV7C-0005-SM-57WDL & GTEX-ZVE2-0006-SM-51MRW & GTEX-ZVP2-0005-SM-51MRK & GTEX-ZVT2-0005-SM-57WBW & GTEX-ZVT3-0006-SM-51MT9 & GTEX-ZVT4-0006-SM-57WB8 & GTEX-ZVTK-0006-SM-57WBK & GTEX-ZVZP-0006-SM-51MSW & GTEX-ZVZQ-0006-SM-51MR8 & GTEX-ZXES-0005-SM-57WCB & GTEX-ZXG5-0005-SM-57WCN & Name & Description\\\\\n",
       " <chr> & <chr> & <chr> & <chr> & <dbl> & <dbl> & <dbl> & <dbl> & <dbl> & <dbl> & <dbl> & <dbl> & <dbl> & <dbl> & <dbl> & <dbl> & <dbl> & <dbl> & <dbl> & <dbl> & <dbl> & <dbl> & <dbl> & <dbl> & <dbl> & <dbl> & <dbl> & <dbl> & <dbl> & <dbl> & <dbl> & <dbl> & <dbl> & <dbl> & <dbl> & <dbl> & <dbl> & <dbl> & <dbl> & <dbl> & <dbl> & <dbl> & <dbl> & <dbl> & <dbl> & <dbl> & <dbl> & <dbl> & <dbl> & <dbl> & <dbl> & <dbl> & <dbl> & <dbl> & <dbl> & <dbl> & <dbl> & <dbl> & <dbl> & <dbl> & <dbl> & <dbl> & <dbl> & <dbl> & <dbl> & <dbl> & <dbl> & <dbl> & <dbl> & <dbl> & <dbl> & <dbl> & <dbl> & <dbl> & <dbl> & <dbl> & <dbl> & <dbl> & <dbl> & <dbl> & <dbl> & <dbl> & <dbl> & <dbl> & <dbl> & <dbl> & <dbl> & <dbl> & <dbl> & <dbl> & <dbl> & <dbl> & <dbl> & <dbl> & <dbl> & <dbl> & <dbl> & <dbl> & <dbl> & <dbl> & <dbl> & <dbl> & <dbl> & <dbl> & <dbl> & <dbl> & <dbl> & <dbl> & <dbl> & <dbl> & <dbl> & <dbl> & <dbl> & <dbl> & <dbl> & <dbl> & <dbl> & <dbl> & <dbl> & <dbl> & <dbl> & <dbl> & <dbl> & <dbl> & <dbl> & <dbl> & <dbl> & <dbl> & <dbl> & <dbl> & <dbl> & <dbl> & <dbl> & <dbl> & <dbl> & <dbl> & <dbl> & <dbl> & <dbl> & <dbl> & <dbl> & <dbl> & <dbl> & <dbl> & <dbl> & <dbl> & <dbl> & <dbl> & <dbl> & <dbl> & <dbl> & <dbl> & <dbl> & <dbl> & <dbl> & <dbl> & <dbl> & <dbl> & <dbl> & <dbl> & <dbl> & <dbl> & <dbl> & <dbl> & <dbl> & <dbl> & <dbl> & <dbl> & <dbl> & <dbl> & <dbl> & <dbl> & <dbl> & <dbl> & <dbl> & <dbl> & <dbl> & <dbl> & <dbl> & <dbl> & <dbl> & <dbl> & <dbl> & <dbl> & <dbl> & <dbl> & <dbl> & <dbl> & <dbl> & <dbl> & <dbl> & <dbl> & <dbl> & <dbl> & <dbl> & <dbl> & <dbl> & <dbl> & <dbl> & <dbl> & <dbl> & <dbl> & <dbl> & <dbl> & <dbl> & <dbl> & <dbl> & <dbl> & <dbl> & <dbl> & <dbl> & <dbl> & <dbl> & <dbl> & <dbl> & <dbl> & <dbl> & <dbl> & <dbl> & <dbl> & <dbl> & <dbl> & <dbl> & <dbl> & <dbl> & <dbl> & <dbl> & <dbl> & <dbl> & <dbl> & <dbl> & <dbl> & <dbl> & <dbl> & <dbl> & <dbl> & <dbl> & <dbl> & <dbl> & <dbl> & <dbl> & <dbl> & <dbl> & <dbl> & <dbl> & <dbl> & <dbl> & <dbl> & <dbl> & <dbl> & <dbl> & <dbl> & <dbl> & <dbl> & <dbl> & <dbl> & <dbl> & <dbl> & <dbl> & <dbl> & <dbl> & <dbl> & <dbl> & <dbl> & <dbl> & <dbl> & <dbl> & <dbl> & <dbl> & <dbl> & <dbl> & <dbl> & <dbl> & <dbl> & <dbl> & <dbl> & <dbl> & <dbl> & <dbl> & <dbl> & <dbl> & <dbl> & <dbl> & <dbl> & <dbl> & <dbl> & <dbl> & <dbl> & <dbl> & <dbl> & <dbl> & <dbl> & <dbl> & <dbl> & <dbl> & <dbl> & <dbl> & <dbl> & <dbl> & <dbl> & <dbl> & <dbl> & <dbl> & <dbl> & <dbl> & <dbl> & <dbl> & <dbl> & <dbl> & <dbl> & <dbl> & <dbl> & <dbl> & <dbl> & <dbl> & <dbl> & <dbl> & <dbl> & <dbl> & <dbl> & <dbl> & <dbl> & <dbl> & <dbl> & <dbl> & <dbl> & <dbl> & <dbl> & <dbl> & <dbl> & <dbl> & <dbl> & <dbl> & <dbl> & <dbl> & <dbl> & <dbl> & <dbl> & <dbl> & <dbl> & <dbl> & <dbl> & <dbl> & <dbl> & <dbl> & <dbl> & <dbl> & <dbl> & <dbl> & <dbl> & <dbl> & <dbl> & <dbl> & <dbl> & <dbl> & <dbl> & <dbl> & <dbl> & <dbl> & <dbl> & <dbl> & <dbl> & <dbl> & <dbl> & <dbl> & <dbl> & <dbl> & <dbl> & <dbl> & <dbl> & <dbl> & <dbl> & <dbl> & <dbl> & <dbl> & <dbl> & <dbl> & <dbl> & <dbl> & <dbl> & <dbl> & <dbl> & <dbl> & <dbl> & <dbl> & <dbl> & <dbl> & <dbl> & <dbl> & <dbl> & <dbl> & <dbl> & <dbl> & <dbl> & <dbl> & <dbl> & <dbl> & <dbl> & <dbl> & <dbl> & <dbl> & <dbl> & <dbl> & <dbl> & <dbl> & <dbl> & <dbl> & <dbl> & <dbl> & <dbl> & <dbl> & <dbl> & <dbl> & <dbl> & <dbl> & <dbl> & <dbl> & <dbl> & <dbl> & <dbl> & <dbl> & <dbl> & <dbl> & <dbl> & <dbl> & <dbl> & <dbl> & <dbl> & <dbl> & <dbl> & <dbl> & <dbl> & <dbl> & <dbl> & <dbl> & <dbl> & <dbl> & <dbl> & <dbl> & <dbl> & <dbl> & <dbl> & <dbl> & <dbl> & <dbl> & <dbl> & <dbl> & <dbl> & <dbl> & <dbl> & <dbl> & <dbl> & <dbl> & <dbl> & <dbl> & <dbl> & <dbl> & <dbl> & <dbl> & <dbl> & <dbl> & <dbl> & <dbl> & <dbl> & <dbl> & <dbl> & <dbl> & <dbl> & <dbl> & <dbl> & <dbl> & <dbl> & <dbl> & <dbl> & <dbl> & <dbl> & <dbl> & <dbl> & <dbl> & <dbl> & <dbl> & <dbl> & <dbl> & <dbl> & <dbl> & <dbl> & <dbl> & <dbl> & <dbl> & <dbl> & <dbl> & <dbl> & <dbl> & <dbl> & <dbl> & <dbl> & <dbl> & <dbl> & <dbl> & <dbl> & <dbl> & <dbl> & <dbl> & <dbl> & <dbl> & <dbl> & <dbl> & <dbl> & <dbl> & <dbl> & <dbl> & <dbl> & <dbl> & <dbl> & <dbl> & <dbl> & <dbl> & <dbl> & <dbl> & <dbl> & <dbl> & <dbl> & <dbl> & <dbl> & <dbl> & <dbl> & <dbl> & <dbl> & <dbl> & <dbl> & <dbl> & <dbl> & <dbl> & <dbl> & <dbl> & <dbl> & <dbl> & <dbl> & <dbl> & <dbl> & <dbl> & <dbl> & <dbl> & <dbl> & <dbl> & <dbl> & <dbl> & <dbl> & <dbl> & <dbl> & <dbl> & <dbl> & <dbl> & <dbl> & <dbl> & <dbl> & <dbl> & <dbl> & <dbl> & <dbl> & <dbl> & <dbl> & <dbl> & <dbl> & <dbl> & <dbl> & <dbl> & <dbl> & <dbl> & <dbl> & <dbl> & <dbl> & <dbl> & <dbl> & <dbl> & <dbl> & <dbl> & <dbl> & <dbl> & <dbl> & <dbl> & <dbl> & <dbl> & <dbl> & <dbl> & <dbl> & <dbl> & <dbl> & <dbl> & <dbl> & <dbl> & <dbl> & <dbl> & <dbl> & <dbl> & <dbl> & <dbl> & <dbl> & <dbl> & <dbl> & <dbl> & <dbl> & <dbl> & <dbl> & <dbl> & <dbl> & <dbl> & <dbl> & <dbl> & <dbl> & <dbl> & <dbl> & <dbl> & <dbl> & <dbl> & <dbl> & <dbl> & <dbl> & <dbl> & <dbl> & <dbl> & <dbl> & <dbl> & <dbl> & <dbl> & <dbl> & <dbl> & <dbl> & <dbl> & <dbl> & <dbl> & <dbl> & <dbl> & <dbl> & <dbl> & <dbl> & <dbl> & <dbl> & <dbl> & <dbl> & <dbl> & <dbl> & <dbl> & <dbl> & <dbl> & <dbl> & <dbl> & <dbl> & <dbl> & <dbl> & <dbl> & <dbl> & <dbl> & <dbl> & <dbl> & <dbl> & <dbl> & <dbl> & <dbl> & <dbl> & <dbl> & <dbl> & <dbl> & <dbl> & <dbl> & <dbl> & <dbl> & <dbl> & <dbl> & <dbl> & <dbl> & <dbl> & <dbl> & <dbl> & <dbl> & <dbl> & <dbl> & <dbl> & <dbl> & <dbl> & <dbl> & <dbl> & <dbl> & <dbl> & <dbl> & <dbl> & <dbl> & <dbl> & <dbl> & <dbl> & <dbl> & <dbl> & <dbl> & <dbl> & <dbl> & <dbl> & <dbl> & <dbl> & <dbl> & <dbl> & <dbl> & <dbl> & <dbl> & <dbl> & <dbl> & <dbl> & <dbl> & <dbl> & <dbl> & <dbl> & <dbl> & <dbl> & <dbl> & <dbl> & <dbl> & <dbl> & <dbl> & <dbl> & <dbl> & <dbl> & <dbl> & <dbl> & <dbl> & <dbl> & <dbl> & <dbl> & <dbl> & <dbl> & <dbl> & <dbl> & <dbl> & <dbl> & <dbl> & <dbl> & <dbl> & <dbl> & <dbl> & <dbl> & <dbl> & <dbl> & <dbl> & <dbl> & <dbl> & <dbl> & <dbl> & <dbl> & <dbl> & <dbl> & <dbl> & <dbl> & <dbl> & <dbl> & <dbl> & <dbl> & <dbl> & <dbl> & <dbl> & <dbl> & <dbl> & <chr> & <chr>\\\\\n",
       "\\hline\n",
       "\t ENSG00000228229 &       & 1 & lincRNA        & 0.0000 & 0.00000 & 0.000 & 0.000 & 0.0000 & 0.00000 & 0.0000 & 0.00000 & 0.0000 & 0.0000 & 0.00000 & 0.0000 & 0.0000 & 0.000 & 0.0000 & 0.00000 & 0.00000 & 0.00000 & 0.00000 & 0.0000 & 0.00000 & 0.00000 & 0.000 & 0.000 & 0.00000 & 0.000 & 0.00000 & 0.00000 & 0.00000 & 0.00000 & 0.0000 & 0.000 & 0.0000 & 0.000 & 0.0000 & 0.000000 & 0.000 & 0.0000 & 0.000 & 0.000 & 0.00000 & 0.00000 & 0.0000 & 0.0000 & 0.00000 & 0.000 & 0.0000 & 0.00000 & 0.0000 & 0.000 & 0.0000 & 0.00000 & 0.0000 & 0.00000 & 0.00000 & 0.0000 & 0.0000 & 0.0000 & 0.00000 & 0.0000 & 0.00000 & 0.00000 & 0.00000 & 0.000 & 0.0000 & 0.0000 & 0.000 & 0.000 & 0.00000 & 0.0000 & 0.0000 & 0.0000 & 0.00000 & 0.00000 & 0.0000 & 0.000 & 0.000 & 0.0000 & 0.00000 & 0.0000 & 0.0000 & 0.0000 & 0.00000 & 0.00000 & 0.0000 & 0.00000 & 0.00000 & 0.00000 & 0.0000 & 0.0000 & 0.0000 & 0.0000 & 0.00000 & 0.0000 & 0.00000 & 0.0000 & 0.0000 & 0.00000 & 0.000 & 0.000 & 0.00000 & 0.0000 & 0.0000 & 0.00000 & 0.0000 & 0.0000 & 0.000 & 0.0000 & 0.00000 & 0.00000 & 0.00000 & 0.00000 & 0.00000 & 0.0000 & 0.0000 & 0.00000 & 0.0000 & 0.0000 & 0.0000 & 0.000 & 0.0000 & 0.000 & 0.00000 & 0.000 & 0.00000 & 0.000 & 0.00000 & 0.00000 & 0.00000 & 0.00 & 0.0000 & 0.00000 & 0.000 & 0.0000 & 0.0000 & 0.0000 & 0.000 & 0.00000 & 0.00000 & 0.00000 & 0.000 & 0.0000 & 0.0000 & 0.00000 & 0.00000 & 0.00000 & 0.0000 & 0.00000 & 0.0000 & 0.00000 & 0.000 & 0.00 & 0.00000 & 0.00000 & 0.0000 & 0.000 & 0.0000 & 0.00000 & 0.000 & 0.0000 & 0.00000 & 0.0000 & 0.0000 & 0.00000 & 0.00000 & 0.0000 & 0.000 & 0.00000 & 0.0000 & 0.0000 & 0.0000 & 0.000 & 0.0000 & 0.0000 & 0.0000 & 0.000 & 0.000 & 0.000 & 0.00000 & 0.00000 & 0.0000 & 0.00000 & 0.00000 & 0.000 & 0.0000 & 0.0000 & 0.0000 & 0.0000 & 0.0000 & 0.0000 & 0.00000 & 0.000 & 0.0000 & 0.000 & 0.0000 & 0.00000 & 0.00000 & 0.000 & 0.0000 & 0.00000 & 0.0000 & 0.0000 & 0.00000 & 0.000 & 0.00000 & 0.0000 & 0.0000 & 0.000 & 0.0000 & 0.00000 & 0.000 & 0.00000 & 0.00000 & 0.00000 & 0.0000 & 0.0000 & 0.00000 & 0.00000 & 0.0000 & 0.0000 & 0.00000 & 0.0000 & 0.00000 & 0.00000 & 0.0000 & 0.0000 & 0.00000 & 0.000 & 0.00000 & 0.00000 & 0.0000 & 0.000 & 0.00000 & 0.0000 & 0.00000 & 0.0000 & 0.0000 & 0.00000 & 0.00 & 0.0000 & 0.0000 & 0.00000 & 0.00000 & 0.00000 & 0.0000 & 0.0000 & 0.00000 & 0.000 & 0.000 & 0.00000 & 0.00000 & 0.00000 & 0.00000 & 0.0000 & 0.0000 & 0.0000 & 0.0000 & 0.000 & 0.0000 & 0.000 & 0.0000 & 0.00000 & 0.00000 & 0.0000 & 0.00000 & 0.000 & 0.000 & 0.0000 & 0.0000 & 0.00000 & 0.0000 & 0.00000 & 0.00000 & 0.000 & 0.000 & 0.0000 & 0.00000 & 0.0000 & 0.000 & 0.00000 & 0.000 & 0.000 & 0.00000 & 0.00000 & 0.0000 & 0.0000 & 0.00000 & 0.00000 & 0.0000 & 0.0000 & 0.0000 & 0.0000 & 0.00000 & 0.00000 & 0.00000 & 0.0000 & 0.000 & 0.000 & 0.00000 & 0.0000 & 0.00000 & 0.0000 & 0.0000 & 0.0000 & 0.00000 & 0.0000 & 0.0000 & 0.000 & 0.0000 & 0.00000 & 0.0000 & 0.0000 & 0.000 & 0.0000 & 0.0000 & 0.0000 & 0.0000 & 0.00000 & 0.0000 & 0.0000 & 0.0000 & 0.000000 & 0.000 & 0.0000 & 0.0000 & 0.0000 & 0.0000 & 0.0000 & 0.00000 & 0.00000 & 0.00 & 0.000 & 0.00000 & 0.0000 & 0.00000 & 0.000 & 0.0000 & 0.0000 & 0.0000 & 0.0000 & 0.00000 & 0.0000 & 0.0000 & 0.00000 & 0.00000 & 0.0000 & 0.000 & 0.0000 & 0.000 & 0.00000 & 0.0000 & 0.0000 & 0.0000 & 0.00000 & 0.00000 & 0.000 & 0.00000 & 0.0000 & 0.0000 & 0.000 & 0.0000 & 0.000 & 0.0000 & 0.00000 & 0.000 & 0.0000 & 0.0000 & 0.0000 & 0.0000 & 0.0000 & 0.00000 & 0.00000 & 0.00000 & 0.0000 & 0.0000 & 0.0000 & 0.00000 & 0.0000 & 0.0000 & 0.0000 & 0.00000 & 0.0000 & 0.00000 & 0.00000 & 0.0000 & 0.00000 & 0.00000 & 0 & 0.0000 & 0.000 & 0.0000 & 0.00000 & 0.00000 & 0.0000 & 0.000 & 0.00000 & 0.00000 & 0.00000 & 0.00000 & 0.00000 & 0.0000 & 0.0000 & 0.00000 & 0.000 & 0.00000 & 0.0000 & 0.0000 & 0.0000 & 0.00000 & 0.000 & 0.00000 & 0.0000 & 0.0000 & 0.000 & 0.000 & 0.0000 & 0.00000 & 0.00000 & 0.00000 & 0.0000 & 0.0000 & 0.0000 & 0.0000 & 0.00000 & 0.0000 & 0.0000 & 0.0000 & 0.00000 & 0.0000 & 0.0000 & 0.0000 & 0.0000 & 0.00000 & 0.0000 & 0.0000 & 0.00000 & 0.0000 & 0.00000 & 0.000 & 0.00000 & 0.00000 & 0.00000 & 0.00 & 0.0000 & 0.0000 & 0.00000 & 0.00000 & 0.000 & 0.0000 & 0.0000 & 0.00000 & 0.00000 & 0.000 & 0.000 & 0.000 & 0.00000 & 0.0000 & 0.000 & 0.00000 & 0.00000 & 0.000 & 0.000 & 0.00000 & 0.0000 & 0.000 & 0.0000 & 0.000 & 0.0000 & 0.0000 & 0.0000 & 0.00000 & 0.00000 & 0.00000 & 0.00000 & 0.00 & 0.00000 & 0.0000 & 0.000 & 0.000 & 0.000 & 0.000 & 0.0000 & 0.000 & 0.00000 & 0.00000 & 0.0000 & 0.000 & 0.00000 & 0.0000 & 0.0000 & 0.00000 & 0.0000 & 0.0000 & 0.0000 & 0.0000 & 0.0000 & 0.00000 & 0.000 & 0.000000 & 0.0000 & 0.0000 & 0.00000 & 0.00000 & 0.0000 & 0.0000 & 0.0000 & 0.0000 & 0.0000 & 0.0000 & 0.000 & 0.0000 & 0.000 & 0.0000 & 0.00000 & 0.0000 & 0.0000 & 0.00000 & 0.000000 & 0.0000 & 0.00000 & 0.0000 & 0.00000 & 0.0000 & 0.0000 & 0.000 & 0.0000 & 0.0000 & 0.00000 & 0.0000 & 0.000 & 0.0000 & 0.00000 & 0.0000 & 0.0000 & 0.0000 & 0.00000 & 0.0000 & 0.0000 & 0.0000 & 0.00000 & 0.00000 & 0.00000 & 0.0000 & 0.0000 & 0.0000 & 0.0000 & 0.0000 & 0.000 & 0.0000 & 0.0000 & 0.0000 & 0.0000 & 0.1069 & 0.000 & 0.00000 & 0.00000 & 0.000 & 0.0000 & 0.0000 & 0.00000 & 0.0000 & 0.00000 & 0.00000 & 0.00000 & 0.000 & 0.00000 & 0.00000 & 0.00000 & 0.00000 & 0.00000 & 0.00000 & 0.0000 & 0.0000 & 0.00000 & 0.0000 & 0.0000 & 0.0000 & 0.0000 & 0.0000 & 0.0000 & 0.0000 & 0.00000 & 0.00000 & 0.0000 & 0.0000 & 0.0000 & 0.00000 & 0.00000 & 0.0000 & 0.000 & 0.00000 & 0.0000 & 0.00 & 0.0000 & 0.0000 & 0.00000 & 0.0000 & 0.000 & 0.00000 & 0.00000 & 0.0000 & 0.00000 & 0.00000 & 0.000 & 0.0000 & 0.0000 & 0.0000 & 0.00000 & 0.00000 & 0.0000 & 0.0000 & 0.00000 & 0.00000 & 0.0000 & 0.0000 & 0.0000 & 0.0000 & 0.00000 & 0.00 & 0.00000 & 0.0000 & 0.0000 & 0.0000 & 0.00000 & 0.000 & 0.00000 & 0.00000 & 0.000 & 0.0000 & 0.000 & 0.00000 & 0.00000 & 0.00000 & 0.00000 & 0.00000 & 0.000 & 0.0000 & 0.00 & 0.0000 & 0.000 & 0.00000 & 0.0000 & 0.00000 & 0.00000 & 0.000 & 0.0000 & 0.0000 & 0.00000 & 0.0000 & 0.0000 & 0.00000 & 0.000 & 0.000 & 0.00000 & 0.00000 & 0.000 & 0.0000 & 0.00000 & 0.00000 & 0.0000 & 0.00000 & 0.00000 & 0.00000 & 0.000 & 0.0000 & 0.0000 & 0.000 & 0.00000 & 0.15090 & 0.00000 & 0.00000 & 0.0000 & 0.00000 & 0.00000 & 0.00000 & 0.0000 & 0.000 & 0.00000 & 0.0000 & 0.0000 & 0.000 & 0.00000 & 0.0000 & 0.0000 & 0.00000 & 0.0000 & 0.00000 & 0.00000 & 0.00000 & 0.000 & 0.000 & 0.0000 & 0.0000 & 0.0000 & 0.000 & 0.00000 & 0.0000 & 0.000 & 0.00000 & 0.00000 & 0.0000 & 0.0000 & 0.00000 & 0.00 & 0.00000 & 0.000 & 0.00000 & 0.00000 & 0.00000 & 0.000 & 0.0000 & 0.00000 & 0.0000 & 0.000 & 0.000 & 0.00000 & 0.00000 & 0.0000 & 0.00000 & 0.00000 & 0.00000 & 0.0000 & 0.00000 & 0.000 & 0.0000 & 0.00000 & 0.00000 & 0.00000 & 0.00000 & 0.000 & 0.00 & 0.00000 & 0.0000 & 0.000 & 0.0000 & 0.0000 & 0.00000 & 0.00000 & 0.00000 & 0.0000 & 0.00000 & 0.00000 & 0.0000 & 0.0000 & 0.00000 & 0.0000 & 0.00000 & 0.00000 & 0.0000 & 0.0000 & 0.0000 & 0.00000 & 0.00000 & 0.00000 & 0.00000 & ENSG00000228229.2 & RP11-219C24.10\\\\\n",
       "\t ENSG00000237445 &       & 1 & lincRNA        & 0.0000 & 0.00000 & 0.000 & 0.000 & 0.0000 & 0.00000 & 0.0000 & 0.00000 & 0.0000 & 0.0000 & 0.00000 & 0.0000 & 0.0000 & 0.000 & 0.0000 & 0.00000 & 0.00000 & 0.00000 & 0.00000 & 0.0000 & 0.00000 & 0.00000 & 0.000 & 0.000 & 0.00000 & 0.000 & 0.00000 & 0.00000 & 0.00000 & 0.00000 & 0.0000 & 0.000 & 0.0000 & 0.000 & 0.0000 & 0.000000 & 0.000 & 0.0000 & 0.000 & 0.000 & 0.00000 & 0.00000 & 0.0000 & 0.0000 & 0.00000 & 0.000 & 0.0000 & 0.00000 & 0.0000 & 0.000 & 0.0000 & 0.00000 & 0.0000 & 0.00000 & 0.00000 & 0.0000 & 0.0000 & 0.0000 & 0.00000 & 0.0000 & 0.00000 & 0.00000 & 0.00000 & 0.000 & 0.0000 & 0.0000 & 0.000 & 0.000 & 0.00000 & 0.0000 & 0.0000 & 0.0000 & 0.00000 & 0.00000 & 0.0000 & 0.000 & 0.000 & 0.0000 & 0.00000 & 0.0000 & 0.0000 & 0.0000 & 0.00000 & 0.00000 & 0.0000 & 0.00000 & 0.00000 & 0.00000 & 0.0000 & 0.0000 & 0.0000 & 0.0000 & 0.00000 & 0.0000 & 0.00000 & 0.0000 & 0.0000 & 0.00000 & 0.000 & 0.000 & 0.00000 & 0.0000 & 0.0000 & 0.00000 & 0.0000 & 0.0000 & 0.000 & 0.0000 & 0.00000 & 0.00000 & 0.00000 & 0.00000 & 0.00000 & 0.0000 & 0.0000 & 0.00000 & 0.0000 & 0.0000 & 0.0000 & 0.000 & 0.0000 & 0.000 & 0.00000 & 0.000 & 0.00000 & 0.000 & 0.00000 & 0.00000 & 0.00000 & 0.00 & 0.0000 & 0.00000 & 0.000 & 0.0000 & 0.0000 & 0.0000 & 0.000 & 0.00000 & 0.00000 & 0.00000 & 0.000 & 0.0000 & 0.0000 & 0.00000 & 0.00000 & 0.00000 & 0.0000 & 0.00000 & 0.0000 & 0.00000 & 0.000 & 0.00 & 0.00000 & 0.00000 & 0.0000 & 0.000 & 0.0000 & 0.00000 & 0.000 & 0.0000 & 0.00000 & 0.0000 & 0.0000 & 0.00000 & 0.00000 & 0.0000 & 0.000 & 0.00000 & 0.0000 & 0.0000 & 0.0000 & 0.000 & 0.0000 & 0.0000 & 0.0000 & 0.000 & 0.000 & 0.000 & 0.00000 & 0.00000 & 0.0000 & 0.00000 & 0.00000 & 0.000 & 0.0000 & 0.0000 & 0.0000 & 0.0000 & 0.0000 & 0.0000 & 0.00000 & 0.000 & 0.0000 & 0.000 & 0.0000 & 0.00000 & 0.00000 & 0.000 & 0.0000 & 0.00000 & 0.0000 & 0.0000 & 0.00000 & 0.000 & 0.00000 & 0.0000 & 0.0000 & 0.000 & 0.0000 & 0.00000 & 0.000 & 0.00000 & 0.00000 & 0.00000 & 0.0000 & 0.0000 & 0.00000 & 0.00000 & 0.0000 & 0.0000 & 0.00000 & 0.0000 & 0.00000 & 0.00000 & 0.0000 & 0.0000 & 0.00000 & 0.000 & 0.00000 & 0.00000 & 0.0000 & 0.000 & 0.00000 & 0.0000 & 0.00000 & 0.2430 & 0.0000 & 0.00000 & 0.00 & 0.0000 & 0.0000 & 0.00000 & 0.00000 & 0.00000 & 0.0000 & 0.0000 & 0.00000 & 0.000 & 0.000 & 0.00000 & 0.00000 & 0.00000 & 0.00000 & 0.0000 & 0.0000 & 0.0000 & 0.0000 & 0.000 & 0.0000 & 0.000 & 0.0000 & 0.00000 & 0.00000 & 0.0000 & 0.00000 & 0.000 & 0.000 & 0.0000 & 0.0000 & 0.00000 & 0.0000 & 0.00000 & 0.00000 & 0.000 & 0.000 & 0.0000 & 0.00000 & 0.0000 & 0.000 & 0.00000 & 0.000 & 0.000 & 0.00000 & 0.00000 & 0.0000 & 0.0000 & 0.00000 & 0.00000 & 0.0000 & 0.0000 & 0.0000 & 0.0000 & 0.00000 & 0.00000 & 0.00000 & 0.0000 & 0.000 & 0.000 & 0.00000 & 0.0000 & 0.00000 & 0.0000 & 0.0000 & 0.0000 & 0.00000 & 0.0000 & 0.0000 & 0.000 & 0.0000 & 0.00000 & 0.0000 & 0.0000 & 0.000 & 0.0000 & 0.0000 & 0.0000 & 0.0000 & 0.00000 & 0.0000 & 0.0000 & 0.0000 & 0.000000 & 0.000 & 0.0000 & 0.0000 & 0.0000 & 0.0000 & 0.0000 & 0.00000 & 0.00000 & 0.00 & 0.000 & 0.00000 & 0.0000 & 0.00000 & 0.000 & 0.0000 & 0.0000 & 0.0000 & 0.0000 & 0.00000 & 0.0000 & 0.0000 & 0.00000 & 0.00000 & 0.0000 & 0.000 & 0.0000 & 0.000 & 0.00000 & 0.0000 & 0.0000 & 0.0000 & 0.00000 & 0.00000 & 0.000 & 0.00000 & 0.0000 & 0.0000 & 0.000 & 0.0000 & 0.000 & 0.0000 & 0.00000 & 0.000 & 0.0000 & 0.0000 & 0.0000 & 0.0000 & 0.0000 & 0.00000 & 0.00000 & 0.00000 & 0.0000 & 0.0000 & 0.0000 & 0.00000 & 0.0000 & 0.0000 & 0.0000 & 0.00000 & 0.0000 & 0.00000 & 0.00000 & 0.0000 & 0.00000 & 0.00000 & 0 & 0.0000 & 0.000 & 0.0000 & 0.00000 & 0.05971 & 0.0000 & 0.000 & 0.00000 & 0.00000 & 0.00000 & 0.00000 & 0.00000 & 0.0000 & 0.0000 & 0.00000 & 0.000 & 0.00000 & 0.0000 & 0.0000 & 0.0000 & 0.00000 & 0.000 & 0.00000 & 0.0000 & 0.0000 & 0.000 & 0.000 & 0.0000 & 0.00000 & 0.00000 & 0.00000 & 0.0000 & 0.0000 & 0.0000 & 0.0000 & 0.00000 & 0.0000 & 0.0000 & 0.0000 & 0.00000 & 0.0000 & 0.0000 & 0.0000 & 0.0000 & 0.00000 & 0.0000 & 0.0000 & 0.00000 & 0.0000 & 0.00000 & 0.000 & 0.00000 & 0.00000 & 0.00000 & 0.00 & 0.0000 & 0.0000 & 0.00000 & 0.00000 & 0.000 & 0.0000 & 0.0000 & 0.00000 & 0.00000 & 0.000 & 0.000 & 0.000 & 0.00000 & 0.0000 & 0.000 & 0.00000 & 0.00000 & 0.000 & 0.000 & 0.00000 & 0.0000 & 0.000 & 0.0000 & 0.000 & 0.0000 & 0.0000 & 0.0000 & 0.00000 & 0.00000 & 0.00000 & 0.00000 & 0.00 & 0.00000 & 0.0000 & 0.000 & 0.000 & 0.000 & 0.000 & 0.0000 & 0.000 & 0.00000 & 0.00000 & 0.0000 & 0.000 & 0.00000 & 0.0000 & 0.0000 & 0.00000 & 0.0000 & 0.0000 & 0.0000 & 0.0000 & 0.0000 & 0.00000 & 0.000 & 0.000000 & 0.0000 & 0.0000 & 0.00000 & 0.00000 & 0.0000 & 0.0000 & 0.0000 & 0.0000 & 0.0000 & 0.0000 & 0.000 & 0.0000 & 0.000 & 0.0000 & 0.00000 & 0.0000 & 0.0000 & 0.00000 & 0.000000 & 0.0000 & 0.00000 & 0.0000 & 0.00000 & 0.0000 & 0.0000 & 0.000 & 0.0000 & 0.0000 & 0.00000 & 0.0000 & 0.000 & 0.0000 & 0.00000 & 0.1464 & 0.0000 & 0.0000 & 0.00000 & 0.0000 & 0.0000 & 0.0000 & 0.00000 & 0.00000 & 0.00000 & 0.0000 & 0.0000 & 0.0000 & 0.0000 & 0.0000 & 0.000 & 0.0000 & 0.0000 & 0.0000 & 0.0000 & 0.0000 & 0.000 & 0.00000 & 0.00000 & 0.000 & 0.0000 & 0.0000 & 0.00000 & 0.0000 & 0.00000 & 0.00000 & 0.00000 & 0.000 & 0.00000 & 0.00000 & 0.00000 & 0.00000 & 0.00000 & 0.00000 & 0.0000 & 0.0000 & 0.00000 & 0.0000 & 0.0000 & 0.0000 & 0.0000 & 0.0000 & 0.0000 & 0.0000 & 0.00000 & 0.00000 & 0.0000 & 0.0000 & 0.0000 & 0.00000 & 0.00000 & 0.0000 & 0.000 & 0.00000 & 0.0000 & 0.00 & 0.0000 & 0.0000 & 0.00000 & 0.0000 & 0.000 & 0.00000 & 0.00000 & 0.0000 & 0.00000 & 0.00000 & 0.000 & 0.0000 & 0.0000 & 0.0000 & 0.00000 & 0.00000 & 0.0000 & 0.0000 & 0.00000 & 0.00000 & 0.0000 & 0.0000 & 0.0000 & 0.0000 & 0.00000 & 0.00 & 0.00000 & 0.0000 & 0.0000 & 0.0000 & 0.00000 & 0.000 & 0.00000 & 0.00000 & 0.000 & 0.0000 & 0.000 & 0.00000 & 0.00000 & 0.00000 & 0.00000 & 0.00000 & 0.000 & 0.0000 & 0.00 & 0.0000 & 0.000 & 0.00000 & 0.0000 & 0.00000 & 0.00000 & 0.000 & 0.0000 & 0.0000 & 0.00000 & 0.0000 & 0.0000 & 0.00000 & 0.000 & 0.000 & 0.00000 & 0.00000 & 0.000 & 0.0000 & 0.00000 & 0.00000 & 0.0000 & 0.00000 & 0.00000 & 0.00000 & 0.000 & 0.0000 & 0.0000 & 0.000 & 0.00000 & 0.00000 & 0.00000 & 0.00000 & 0.0000 & 0.00000 & 0.00000 & 0.00000 & 0.0000 & 0.000 & 0.00000 & 0.0000 & 0.0000 & 0.000 & 0.00000 & 0.0000 & 0.0000 & 0.00000 & 0.0000 & 0.00000 & 0.00000 & 0.00000 & 0.000 & 0.000 & 0.0000 & 0.0000 & 0.0000 & 0.000 & 0.00000 & 0.0000 & 0.000 & 0.00000 & 0.00000 & 0.0000 & 0.0000 & 0.00000 & 0.00 & 0.00000 & 0.000 & 0.00000 & 0.00000 & 0.00000 & 0.000 & 0.0000 & 0.00000 & 0.0000 & 0.000 & 0.000 & 0.00000 & 0.00000 & 0.0000 & 0.00000 & 0.00000 & 0.00000 & 0.0000 & 0.00000 & 0.000 & 0.0000 & 0.00000 & 0.00000 & 0.00000 & 0.00000 & 0.000 & 0.00 & 0.00000 & 0.0000 & 0.000 & 0.0000 & 0.0000 & 0.00000 & 0.00000 & 0.06938 & 0.0000 & 0.00000 & 0.00000 & 0.0000 & 0.0000 & 0.00000 & 0.0000 & 0.00000 & 0.00000 & 0.0000 & 0.0000 & 0.0000 & 0.00000 & 0.00000 & 0.00000 & 0.00000 & ENSG00000237445.2 & CTA-520D8.2   \\\\\n",
       "\t ENSG00000231606 &       & 1 & lincRNA        & 0.0000 & 0.00000 & 0.000 & 0.000 & 0.0000 & 0.00000 & 0.0000 & 0.00000 & 0.0000 & 0.0000 & 0.00000 & 0.0000 & 0.0000 & 0.000 & 0.0000 & 0.00000 & 0.00000 & 0.00000 & 0.00000 & 0.0000 & 0.00000 & 0.00000 & 0.000 & 0.000 & 0.00000 & 0.000 & 0.00000 & 0.00000 & 0.00000 & 0.00000 & 0.0000 & 0.000 & 0.0000 & 0.000 & 0.0000 & 0.000000 & 0.000 & 0.0000 & 0.000 & 0.000 & 0.00000 & 0.00000 & 0.0000 & 0.0000 & 0.00000 & 0.000 & 0.0000 & 0.00000 & 0.0000 & 0.000 & 0.0000 & 0.00000 & 0.0000 & 0.00000 & 0.00000 & 0.0000 & 0.0000 & 0.0000 & 0.00000 & 0.0000 & 0.00000 & 0.00000 & 0.00000 & 0.000 & 0.0000 & 0.0000 & 0.000 & 0.000 & 0.00000 & 0.0000 & 0.0000 & 0.0000 & 0.00000 & 0.00000 & 0.0000 & 0.000 & 0.000 & 0.0000 & 0.00000 & 0.0000 & 0.0000 & 0.0000 & 0.00000 & 0.00000 & 0.0000 & 0.00000 & 0.00000 & 0.00000 & 0.0000 & 0.0000 & 0.0000 & 0.0000 & 0.00000 & 0.0000 & 0.00000 & 0.0000 & 0.0000 & 0.00000 & 0.000 & 0.000 & 0.00000 & 0.0000 & 0.0000 & 0.00000 & 0.0000 & 0.0000 & 0.000 & 0.0000 & 0.00000 & 0.00000 & 0.00000 & 0.00000 & 0.00000 & 0.0000 & 0.0000 & 0.00000 & 0.0000 & 0.0000 & 0.0000 & 0.000 & 0.0000 & 0.000 & 0.00000 & 0.000 & 0.00000 & 0.000 & 0.00000 & 0.00000 & 0.00000 & 0.00 & 0.0000 & 0.00000 & 0.000 & 0.0000 & 0.0000 & 0.0000 & 0.000 & 0.00000 & 0.00000 & 0.00000 & 0.000 & 0.0000 & 0.0000 & 0.00000 & 0.00000 & 0.00000 & 0.0000 & 0.11200 & 0.0000 & 0.00000 & 0.000 & 0.00 & 0.00000 & 0.00000 & 0.0000 & 0.000 & 0.0000 & 0.00000 & 0.000 & 0.0000 & 0.00000 & 0.0000 & 0.0000 & 0.00000 & 0.00000 & 0.0000 & 0.000 & 0.00000 & 0.3727 & 0.0000 & 0.0000 & 0.000 & 0.0000 & 0.0000 & 0.0000 & 0.000 & 0.000 & 0.000 & 0.00000 & 0.00000 & 0.0000 & 0.00000 & 0.00000 & 0.000 & 0.0000 & 0.0000 & 0.0000 & 0.0000 & 0.0000 & 0.0000 & 0.00000 & 0.000 & 0.0000 & 0.000 & 0.0000 & 0.00000 & 0.00000 & 0.000 & 0.0000 & 0.00000 & 0.0000 & 0.0000 & 0.00000 & 0.000 & 0.00000 & 0.0000 & 0.0000 & 0.000 & 0.0000 & 0.00000 & 0.000 & 0.00000 & 0.00000 & 0.00000 & 0.0000 & 0.0000 & 0.00000 & 0.00000 & 0.0000 & 0.0000 & 0.00000 & 0.0000 & 0.00000 & 0.00000 & 0.0000 & 0.0000 & 0.00000 & 0.000 & 0.00000 & 0.00000 & 0.0000 & 0.000 & 0.00000 & 0.0000 & 0.00000 & 0.0000 & 0.0000 & 0.00000 & 0.00 & 0.0000 & 0.0000 & 0.00000 & 0.00000 & 0.00000 & 0.0000 & 0.0000 & 0.00000 & 0.000 & 0.000 & 0.00000 & 0.00000 & 0.00000 & 0.00000 & 0.0000 & 0.0000 & 0.0000 & 0.0000 & 0.000 & 0.0000 & 0.000 & 0.0000 & 0.00000 & 0.00000 & 0.0000 & 0.00000 & 0.000 & 0.000 & 0.0000 & 0.0000 & 0.00000 & 0.0000 & 0.00000 & 0.00000 & 0.000 & 0.000 & 0.0000 & 0.00000 & 0.0000 & 0.000 & 0.00000 & 0.000 & 0.000 & 0.00000 & 0.00000 & 0.0000 & 0.0000 & 0.00000 & 0.00000 & 0.0000 & 0.0000 & 0.0000 & 0.0000 & 0.00000 & 0.00000 & 0.00000 & 0.0000 & 0.000 & 0.000 & 0.00000 & 0.0000 & 0.00000 & 0.0000 & 0.0000 & 0.0000 & 0.00000 & 0.0000 & 0.0000 & 0.000 & 0.0000 & 0.00000 & 0.0000 & 0.0000 & 0.000 & 0.0000 & 0.0000 & 0.0000 & 0.0000 & 0.00000 & 0.0000 & 0.0000 & 0.0000 & 0.000000 & 0.000 & 0.0000 & 0.0000 & 0.0000 & 0.0000 & 0.0000 & 0.00000 & 0.00000 & 0.00 & 0.000 & 0.00000 & 0.0000 & 0.00000 & 0.000 & 0.0000 & 0.0000 & 0.0000 & 0.0000 & 0.00000 & 0.0000 & 0.0000 & 0.00000 & 0.00000 & 0.0000 & 0.000 & 0.0000 & 0.000 & 0.00000 & 0.0000 & 0.0000 & 0.0000 & 0.00000 & 0.00000 & 0.000 & 0.00000 & 0.0000 & 0.0000 & 0.000 & 0.0000 & 0.000 & 0.0000 & 0.00000 & 0.000 & 0.0000 & 0.0000 & 0.0000 & 0.0000 & 0.0000 & 0.00000 & 0.00000 & 0.00000 & 0.0000 & 0.0000 & 0.0000 & 0.00000 & 0.0000 & 0.0000 & 0.0000 & 0.00000 & 0.0000 & 0.00000 & 0.00000 & 0.0000 & 0.00000 & 0.00000 & 0 & 0.0000 & 0.000 & 0.0000 & 0.00000 & 0.00000 & 0.0000 & 0.000 & 0.00000 & 0.00000 & 0.00000 & 0.00000 & 0.00000 & 0.0000 & 0.0000 & 0.00000 & 0.000 & 0.00000 & 0.0000 & 0.0000 & 0.0000 & 0.00000 & 0.000 & 0.00000 & 0.0000 & 0.0000 & 0.000 & 0.000 & 0.0000 & 0.00000 & 0.00000 & 0.00000 & 0.0000 & 0.0000 & 0.0000 & 0.0000 & 0.00000 & 0.0000 & 0.0000 & 0.0000 & 0.00000 & 0.0000 & 0.0000 & 0.0000 & 0.0000 & 0.00000 & 0.0000 & 0.0000 & 0.00000 & 0.0000 & 0.00000 & 0.000 & 0.00000 & 0.00000 & 0.00000 & 0.00 & 0.0000 & 0.0000 & 0.00000 & 0.00000 & 0.000 & 0.0000 & 0.0000 & 0.09366 & 0.00000 & 0.000 & 0.000 & 0.000 & 0.00000 & 0.0000 & 0.000 & 0.00000 & 0.00000 & 0.000 & 0.000 & 0.00000 & 0.0000 & 0.000 & 0.0000 & 0.000 & 0.0000 & 0.0000 & 0.0000 & 0.00000 & 0.00000 & 0.00000 & 0.00000 & 0.00 & 0.00000 & 0.0000 & 0.000 & 0.000 & 0.000 & 0.000 & 0.0000 & 0.000 & 0.00000 & 0.00000 & 0.0000 & 0.000 & 0.00000 & 0.0000 & 0.0000 & 0.00000 & 0.0000 & 0.0000 & 0.0000 & 0.0000 & 0.0000 & 0.00000 & 0.000 & 0.000000 & 0.0000 & 0.0000 & 0.00000 & 0.00000 & 0.0000 & 0.0000 & 0.0000 & 0.0000 & 0.0000 & 0.0000 & 0.000 & 0.0000 & 0.000 & 0.0000 & 0.00000 & 0.0000 & 0.0000 & 0.00000 & 0.000000 & 0.0000 & 0.00000 & 0.0000 & 0.00000 & 0.0000 & 0.0000 & 0.000 & 0.0000 & 0.0000 & 0.00000 & 0.0000 & 0.000 & 0.0000 & 0.00000 & 0.0000 & 0.0000 & 0.0000 & 0.00000 & 0.0000 & 0.0000 & 0.0000 & 0.00000 & 0.00000 & 0.00000 & 0.0000 & 0.0000 & 0.0000 & 0.0000 & 0.0000 & 0.000 & 0.0000 & 0.0000 & 0.0000 & 0.0000 & 0.0000 & 0.000 & 0.00000 & 0.00000 & 0.000 & 0.0000 & 0.0000 & 0.00000 & 0.0000 & 0.00000 & 0.00000 & 0.00000 & 0.000 & 0.00000 & 0.00000 & 0.24620 & 0.00000 & 0.00000 & 0.00000 & 0.0000 & 0.0000 & 0.00000 & 0.0000 & 0.0000 & 0.0000 & 0.0000 & 0.0000 & 0.0000 & 0.0000 & 0.00000 & 0.00000 & 0.0000 & 0.0000 & 0.0000 & 0.00000 & 0.00000 & 0.0000 & 0.000 & 0.00000 & 0.0000 & 0.00 & 0.0000 & 0.0000 & 0.00000 & 0.3465 & 0.000 & 0.00000 & 0.00000 & 0.0000 & 0.00000 & 0.00000 & 0.000 & 0.0000 & 0.0000 & 0.0000 & 0.00000 & 0.00000 & 0.0000 & 0.0000 & 0.00000 & 0.00000 & 0.0000 & 0.0000 & 0.0000 & 0.0000 & 0.00000 & 0.00 & 0.00000 & 0.0000 & 0.0000 & 0.0000 & 0.00000 & 0.000 & 0.00000 & 0.00000 & 0.000 & 0.0000 & 0.000 & 0.00000 & 0.00000 & 0.00000 & 0.00000 & 0.00000 & 0.000 & 0.0000 & 0.00 & 0.0000 & 0.000 & 0.00000 & 0.0000 & 0.00000 & 0.00000 & 0.000 & 0.0000 & 0.0000 & 0.00000 & 0.0000 & 0.0000 & 0.00000 & 0.000 & 0.000 & 0.00000 & 0.00000 & 0.283 & 0.0000 & 0.00000 & 0.00000 & 0.0000 & 0.00000 & 0.00000 & 0.00000 & 0.000 & 0.0000 & 0.0000 & 0.000 & 0.00000 & 0.00000 & 0.00000 & 0.00000 & 0.0000 & 0.00000 & 0.00000 & 0.00000 & 0.0000 & 0.000 & 0.00000 & 0.0000 & 0.0000 & 0.000 & 0.00000 & 0.0000 & 0.0000 & 0.00000 & 0.0000 & 0.00000 & 0.00000 & 0.00000 & 0.000 & 0.000 & 0.0000 & 0.0000 & 0.0000 & 0.000 & 0.00000 & 0.0000 & 0.000 & 0.00000 & 0.00000 & 0.0000 & 0.0000 & 0.00000 & 0.00 & 0.00000 & 0.000 & 0.00000 & 0.00000 & 0.00000 & 0.000 & 0.0000 & 0.00000 & 0.0000 & 0.000 & 0.000 & 0.00000 & 0.00000 & 0.0000 & 0.00000 & 0.00000 & 0.12090 & 0.0000 & 0.00000 & 0.000 & 0.0000 & 0.00000 & 0.00000 & 0.00000 & 0.00000 & 0.000 & 0.00 & 0.00000 & 0.0000 & 0.000 & 0.0000 & 0.0000 & 0.00000 & 0.00000 & 0.00000 & 0.0000 & 0.00000 & 0.00000 & 0.0000 & 0.0000 & 0.00000 & 0.0000 & 0.00000 & 0.00000 & 0.0000 & 0.0000 & 0.0000 & 0.00000 & 0.00000 & 0.00000 & 0.00000 & ENSG00000231606.1 & RP11-344F13.1 \\\\\n",
       "\t ENSG00000234593 &       & 1 & lincRNA        & 0.0000 & 0.00000 & 0.000 & 0.000 & 0.0000 & 0.00000 & 0.0000 & 0.00000 & 0.0000 & 0.0000 & 0.00000 & 0.0000 & 0.0000 & 0.000 & 0.0000 & 0.00000 & 0.00000 & 0.00000 & 0.00000 & 0.0000 & 0.03116 & 0.00000 & 0.000 & 0.000 & 0.00000 & 0.000 & 0.03488 & 0.11240 & 0.00000 & 0.00000 & 0.0000 & 0.000 & 0.0000 & 0.000 & 0.0000 & 0.000000 & 0.000 & 0.0000 & 0.000 & 0.000 & 0.00000 & 0.00000 & 0.0000 & 0.0000 & 0.00000 & 0.000 & 0.0000 & 0.00000 & 0.0000 & 0.000 & 0.0000 & 0.00000 & 0.0000 & 0.00000 & 0.00000 & 0.0000 & 0.0000 & 0.0000 & 0.00000 & 0.0000 & 0.00000 & 0.00000 & 0.00000 & 0.000 & 0.0000 & 0.0000 & 0.000 & 0.000 & 0.00000 & 0.0000 & 0.0000 & 0.0000 & 0.00000 & 0.00000 & 0.0000 & 0.000 & 0.000 & 0.0000 & 0.00000 & 0.0000 & 0.0000 & 0.0000 & 0.00000 & 0.00000 & 0.0000 & 0.00000 & 0.00000 & 0.00000 & 0.0000 & 0.0000 & 0.0000 & 0.0000 & 0.00000 & 0.0000 & 0.00000 & 0.0000 & 0.0000 & 0.00000 & 0.000 & 0.000 & 0.00000 & 0.0000 & 0.0000 & 0.00000 & 0.0000 & 0.0000 & 0.000 & 0.0000 & 0.00000 & 0.00000 & 0.00000 & 0.00000 & 0.00000 & 0.0000 & 0.0000 & 0.00000 & 0.0000 & 0.0000 & 0.0000 & 0.000 & 0.0000 & 0.000 & 0.00000 & 0.000 & 0.00000 & 0.000 & 0.00000 & 0.00000 & 0.00000 & 0.00 & 0.0000 & 0.00000 & 0.000 & 0.0000 & 0.0000 & 0.0000 & 0.000 & 0.00000 & 0.00000 & 0.00000 & 0.000 & 0.0000 & 0.0000 & 0.00000 & 0.00000 & 0.00000 & 0.0000 & 0.00000 & 0.0000 & 0.00000 & 0.000 & 0.00 & 0.00000 & 0.00000 & 0.0000 & 0.000 & 0.0000 & 0.00000 & 0.000 & 0.0000 & 0.00000 & 0.0000 & 0.0000 & 0.00000 & 0.00000 & 0.0000 & 0.000 & 0.00000 & 0.0000 & 0.0000 & 0.0000 & 0.000 & 0.0000 & 0.0000 & 0.0000 & 0.000 & 0.000 & 0.000 & 0.00000 & 0.00000 & 0.0000 & 0.00000 & 0.05651 & 0.000 & 0.0000 & 0.0000 & 0.0000 & 0.0000 & 0.0000 & 0.0000 & 0.00000 & 0.000 & 0.0000 & 0.000 & 0.0000 & 0.00000 & 0.00000 & 0.000 & 0.0000 & 0.00000 & 0.0000 & 0.0000 & 0.00000 & 0.000 & 0.00000 & 0.0000 & 0.0000 & 0.000 & 0.0000 & 0.00000 & 0.000 & 0.00000 & 0.00000 & 0.00000 & 0.0000 & 0.0000 & 0.00000 & 0.00000 & 0.0000 & 0.0000 & 0.00000 & 0.0000 & 0.00000 & 0.00000 & 0.0000 & 0.0000 & 0.00000 & 0.000 & 0.05968 & 0.00000 & 0.0000 & 0.000 & 0.00000 & 0.0000 & 0.00000 & 0.0000 & 0.0000 & 0.00000 & 0.00 & 0.0000 & 0.0000 & 0.00000 & 0.00000 & 0.00000 & 0.0000 & 0.0000 & 0.00000 & 0.000 & 0.000 & 0.00000 & 0.00000 & 0.00000 & 0.00000 & 0.0000 & 0.0000 & 0.0000 & 0.0000 & 0.000 & 0.0000 & 0.000 & 0.0000 & 0.00000 & 0.00000 & 0.0000 & 0.00000 & 0.000 & 0.000 & 0.0000 & 0.0000 & 0.00000 & 0.0000 & 0.00000 & 0.00000 & 0.000 & 0.000 & 0.0000 & 0.00000 & 0.0000 & 0.000 & 0.00000 & 0.000 & 0.000 & 0.00000 & 0.00000 & 0.0000 & 0.0000 & 0.00000 & 0.00000 & 0.0000 & 0.0000 & 0.0000 & 0.0000 & 0.00000 & 0.00000 & 0.00000 & 0.0000 & 0.000 & 0.000 & 0.00000 & 0.0000 & 0.00000 & 0.0000 & 0.0000 & 0.0000 & 0.00000 & 0.0000 & 0.0000 & 0.000 & 0.0000 & 0.00000 & 0.0000 & 0.0000 & 0.000 & 0.0000 & 0.0000 & 0.0000 & 0.0527 & 0.00000 & 0.0000 & 0.0000 & 0.0000 & 0.000000 & 0.000 & 0.0000 & 0.0000 & 0.0000 & 0.0000 & 0.0000 & 0.00000 & 0.00000 & 0.00 & 0.000 & 0.00000 & 0.0000 & 0.00000 & 0.000 & 0.0000 & 0.0000 & 0.0000 & 0.0000 & 0.00000 & 0.0000 & 0.0000 & 0.00000 & 0.00000 & 0.0000 & 0.000 & 0.0000 & 0.000 & 0.05865 & 0.0000 & 0.0000 & 0.0000 & 0.00000 & 0.00000 & 0.000 & 0.00000 & 0.0000 & 0.0000 & 0.000 & 0.0000 & 0.000 & 0.0000 & 0.00000 & 0.000 & 0.0000 & 0.0000 & 0.0000 & 0.0000 & 0.0000 & 0.00000 & 0.00000 & 0.00000 & 0.0000 & 0.0000 & 0.0000 & 0.00000 & 0.0000 & 0.0000 & 0.0000 & 0.00000 & 0.0000 & 0.00000 & 0.00000 & 0.0000 & 0.00000 & 0.00000 & 0 & 0.0000 & 0.000 & 0.0000 & 0.00000 & 0.00000 & 0.0000 & 0.000 & 0.00000 & 0.00000 & 0.00000 & 0.00000 & 0.00000 & 0.0000 & 0.0000 & 0.03746 & 0.000 & 0.00000 & 0.0000 & 0.0000 & 0.0000 & 0.00000 & 0.000 & 0.00000 & 0.0000 & 0.0000 & 0.000 & 0.000 & 0.0000 & 0.00000 & 0.00000 & 0.00000 & 0.0000 & 0.0000 & 0.0000 & 0.0000 & 0.00000 & 0.0000 & 0.0000 & 0.0000 & 0.00000 & 0.0000 & 0.0000 & 0.0000 & 0.0000 & 0.00000 & 0.0000 & 0.0000 & 0.00000 & 0.0000 & 0.00000 & 0.000 & 0.00000 & 0.00000 & 0.00000 & 0.00 & 0.0000 & 0.0000 & 0.00000 & 0.00000 & 0.000 & 0.0000 & 0.0000 & 0.03457 & 0.00000 & 0.000 & 0.000 & 0.000 & 0.00000 & 0.0000 & 0.000 & 0.00000 & 0.00000 & 0.000 & 0.000 & 0.00000 & 0.0000 & 0.000 & 0.0000 & 0.000 & 0.0000 & 0.0000 & 0.0000 & 0.00000 & 0.00000 & 0.00000 & 0.00000 & 0.00 & 0.00000 & 0.0000 & 0.000 & 0.000 & 0.000 & 0.000 & 0.0000 & 0.000 & 0.00000 & 0.00000 & 0.0000 & 0.000 & 0.00000 & 0.0000 & 0.0000 & 0.00000 & 0.0000 & 0.0000 & 0.0000 & 0.0000 & 0.0000 & 0.00000 & 0.000 & 0.000000 & 0.0000 & 0.0000 & 0.00000 & 0.00000 & 0.0000 & 0.0000 & 0.0000 & 0.0000 & 0.0000 & 0.0000 & 0.000 & 0.0000 & 0.000 & 0.0000 & 0.00000 & 0.0000 & 0.0000 & 0.00000 & 0.000000 & 0.0000 & 0.00000 & 0.0000 & 0.00000 & 0.0000 & 0.0000 & 0.000 & 0.0000 & 0.0000 & 0.00000 & 0.0000 & 0.000 & 0.0000 & 0.00000 & 0.0000 & 0.0000 & 0.0000 & 0.00000 & 0.0000 & 0.0000 & 0.0000 & 0.00000 & 0.00000 & 0.00000 & 0.0000 & 0.0000 & 0.0000 & 0.0000 & 0.0000 & 0.000 & 0.0000 & 0.0000 & 0.0000 & 0.0000 & 0.0000 & 0.000 & 0.00000 & 0.00000 & 0.000 & 0.0000 & 0.0000 & 0.00000 & 0.0000 & 0.00000 & 0.00000 & 0.00000 & 0.000 & 0.00000 & 0.00000 & 0.00000 & 0.00000 & 0.00000 & 0.00000 & 0.0000 & 0.0000 & 0.00000 & 0.0000 & 0.0000 & 0.0000 & 0.0000 & 0.0000 & 0.0000 & 0.2636 & 0.00000 & 0.00000 & 0.0000 & 0.0000 & 0.0000 & 0.00000 & 0.00000 & 0.0000 & 0.000 & 0.00000 & 0.0000 & 0.00 & 0.0000 & 0.0000 & 0.00000 & 0.0000 & 0.000 & 0.00000 & 0.00000 & 0.0000 & 0.00000 & 0.00000 & 0.000 & 0.0000 & 0.0000 & 0.0462 & 0.00000 & 0.00000 & 0.0000 & 0.0000 & 0.00000 & 0.00000 & 0.0000 & 0.0000 & 0.0000 & 0.0000 & 0.00000 & 0.00 & 0.00000 & 0.0000 & 0.0000 & 0.0000 & 0.00000 & 0.000 & 0.00000 & 0.00000 & 0.000 & 0.0000 & 0.000 & 0.00000 & 0.00000 & 0.00000 & 0.00000 & 0.00000 & 0.000 & 0.0000 & 0.00 & 0.0000 & 0.000 & 0.00000 & 0.0000 & 0.00000 & 0.00000 & 0.000 & 0.0000 & 0.0000 & 0.00000 & 0.0000 & 0.0000 & 0.00000 & 0.000 & 0.000 & 0.00000 & 0.03670 & 0.000 & 0.0000 & 0.00000 & 0.00000 & 0.0000 & 0.00000 & 0.00000 & 0.00000 & 0.000 & 0.0000 & 0.0000 & 0.000 & 0.00000 & 0.07584 & 0.00000 & 0.00000 & 0.0000 & 0.00000 & 0.00000 & 0.00000 & 0.0000 & 0.000 & 0.00000 & 0.0000 & 0.0000 & 0.000 & 0.00000 & 0.0000 & 0.0000 & 0.00000 & 0.0000 & 0.00000 & 0.00000 & 0.00000 & 0.000 & 0.000 & 0.0000 & 0.0000 & 0.0000 & 0.000 & 0.00000 & 0.0000 & 0.000 & 0.00000 & 0.00000 & 0.0000 & 0.0000 & 0.00000 & 0.00 & 0.00000 & 0.000 & 0.00000 & 0.00000 & 0.00000 & 0.000 & 0.0000 & 0.06079 & 0.0000 & 0.000 & 0.000 & 0.00000 & 0.00000 & 0.0000 & 0.00000 & 0.00000 & 0.00000 & 0.0000 & 0.00000 & 0.000 & 0.0000 & 0.00000 & 0.00000 & 0.00000 & 0.00000 & 0.000 & 0.00 & 0.00000 & 0.0000 & 0.000 & 0.0000 & 0.0000 & 0.00000 & 0.00000 & 0.00000 & 0.0000 & 0.00000 & 0.00000 & 0.0000 & 0.0000 & 0.00000 & 0.0000 & 0.07303 & 0.00000 & 0.0000 & 0.0000 & 0.0000 & 0.00000 & 0.00000 & 0.00000 & 0.00000 & ENSG00000234593.2 & RP4-704D23.1  \\\\\n",
       "\t ENSG00000228140 &       & 1 & lincRNA        & 0.5148 & 1.62100 & 0.678 & 2.237 & 0.1405 & 0.05083 & 0.2413 & 0.06821 & 0.0972 & 0.1468 & 1.56600 & 0.4188 & 0.4902 & 0.361 & 0.3983 & 1.46000 & 0.05693 & 0.18640 & 0.29880 & 0.1865 & 0.11950 & 0.08393 & 2.101 & 2.618 & 0.04562 & 1.287 & 0.07720 & 0.45630 & 0.14070 & 0.04516 & 0.9814 & 1.277 & 0.7718 & 0.123 & 0.5277 & 0.008231 & 0.469 & 0.1423 & 0.979 & 0.751 & 0.82690 & 1.07300 & 0.2891 & 0.3918 & 0.03638 & 1.288 & 0.2955 & 1.15000 & 0.1706 & 0.119 & 0.2735 & 0.24910 & 0.2134 & 1.47300 & 0.70420 & 0.4614 & 0.5666 & 0.4763 & 1.03100 & 0.4323 & 0.20700 & 0.51960 & 0.30680 & 1.057 & 0.4817 & 0.6573 & 0.207 & 1.745 & 0.02007 & 0.6595 & 0.7502 & 0.3342 & 0.31650 & 0.06384 & 0.3642 & 0.396 & 1.013 & 0.1154 & 0.26440 & 0.7733 & 0.2060 & 0.1954 & 0.14340 & 0.94740 & 0.8222 & 0.45810 & 0.98490 & 0.73390 & 0.2421 & 0.6755 & 0.1477 & 0.2912 & 0.39130 & 0.4302 & 0.06925 & 0.1199 & 0.2744 & 0.08256 & 1.641 & 1.782 & 0.42360 & 0.3321 & 0.3446 & 0.50650 & 0.2099 & 0.4793 & 1.495 & 0.4834 & 0.05998 & 0.43300 & 0.06727 & 0.05063 & 0.09434 & 0.3633 & 0.1995 & 1.12900 & 0.3113 & 0.5157 & 0.4544 & 0.435 & 0.2665 & 1.016 & 0.45210 & 2.494 & 0.06033 & 1.765 & 0.05853 & 0.17730 & 0.08618 & 0.27 & 0.3582 & 1.16500 & 0.259 & 0.0845 & 0.4304 & 0.8541 & 1.403 & 2.05400 & 0.06982 & 0.08626 & 1.398 & 0.8535 & 0.9973 & 0.12680 & 0.08176 & 0.04022 & 0.3666 & 1.21300 & 0.8533 & 0.33960 & 0.971 & 1.94 & 0.52930 & 0.89490 & 0.6681 & 2.578 & 0.2750 & 0.17530 & 1.333 & 0.1156 & 0.08638 & 0.2152 & 0.1072 & 0.77530 & 0.15410 & 0.7265 & 1.859 & 0.84700 & 0.7105 & 0.5680 & 0.2705 & 1.161 & 0.1236 & 0.6448 & 0.6811 & 1.364 & 1.891 & 2.291 & 0.05838 & 0.23740 & 0.3303 & 1.10800 & 0.46690 & 1.188 & 0.3101 & 0.7550 & 0.5673 & 0.7071 & 0.7276 & 0.5786 & 0.01086 & 1.974 & 0.4324 & 0.606 & 0.7361 & 0.43720 & 1.41300 & 1.901 & 0.3006 & 0.02446 & 0.8187 & 0.5081 & 0.64080 & 1.071 & 0.05202 & 0.4701 & 0.5746 & 0.549 & 0.4906 & 0.36490 & 0.913 & 0.02289 & 0.14840 & 0.19480 & 0.6682 & 0.8595 & 0.17390 & 0.01733 & 0.4216 & 0.2145 & 0.22410 & 0.4682 & 0.16340 & 0.02518 & 0.1023 & 0.4508 & 1.08100 & 1.012 & 0.18490 & 0.22880 & 0.4973 & 1.314 & 0.49520 & 0.3835 & 0.01642 & 0.5335 & 0.4052 & 0.93570 & 1.72 & 0.2798 & 0.7386 & 0.09906 & 0.04905 & 0.05753 & 0.2386 & 0.2480 & 1.16500 & 1.821 & 1.085 & 0.37440 & 0.74960 & 1.23900 & 0.46050 & 0.8486 & 1.4880 & 0.2044 & 0.1703 & 0.393 & 0.2646 & 1.076 & 0.2382 & 0.55960 & 0.38560 & 0.2694 & 0.07348 & 1.568 & 1.174 & 0.1124 & 0.1605 & 0.74090 & 0.0343 & 0.15860 & 0.00000 & 2.171 & 0.814 & 0.6282 & 0.18790 & 0.1048 & 1.147 & 0.08758 & 0.137 & 0.161 & 0.45100 & 0.07414 & 0.1307 & 0.1929 & 0.08741 & 0.44290 & 0.1696 & 0.1522 & 0.0902 & 0.7586 & 0.45390 & 0.08488 & 0.62340 & 0.3325 & 0.497 & 1.273 & 0.79400 & 0.2685 & 0.03372 & 0.5004 & 0.1364 & 0.9681 & 0.09955 & 0.1907 & 0.1913 & 0.236 & 0.9107 & 0.05643 & 0.2191 & 0.1941 & 1.446 & 0.1283 & 0.3295 & 0.7824 & 0.2566 & 0.55380 & 0.1113 & 0.7213 & 0.3882 & 0.008861 & 1.329 & 0.1131 & 0.1252 & 0.1148 & 0.1461 & 0.1457 & 0.03867 & 0.09422 & 0.56 & 0.565 & 0.14090 & 0.1813 & 0.91900 & 1.366 & 0.1523 & 0.6712 & 0.9817 & 0.8769 & 0.03586 & 0.1355 & 0.4338 & 0.04932 & 0.03376 & 0.1918 & 1.562 & 0.3538 & 0.329 & 0.03461 & 0.1537 & 0.6538 & 0.2344 & 0.05421 & 0.02899 & 1.939 & 0.00000 & 0.3843 & 0.5338 & 2.072 & 0.5871 & 1.029 & 0.1972 & 0.07041 & 0.355 & 0.8983 & 0.9156 & 0.7621 & 0.3029 & 0.4225 & 1.30400 & 0.04157 & 0.15620 & 0.1349 & 0.2056 & 0.6381 & 0.07227 & 0.3094 & 0.1336 & 0.1491 & 0.95860 & 0.5756 & 0.07796 & 0.22590 & 0.6537 & 1.20000 & 0.02963 & 0 & 0.1535 & 1.088 & 0.5694 & 0.47990 & 0.06119 & 0.3251 & 1.463 & 0.04179 & 0.04466 & 0.03316 & 0.16490 & 0.05533 & 0.1328 & 0.4902 & 1.16100 & 1.423 & 0.04541 & 0.6636 & 0.4535 & 0.5322 & 0.31950 & 1.097 & 0.02517 & 0.2215 & 0.1133 & 1.425 & 0.678 & 0.1752 & 0.42190 & 0.15430 & 0.05007 & 0.7287 & 1.6230 & 0.4459 & 0.1329 & 0.02063 & 0.5092 & 0.2178 & 0.4772 & 0.02459 & 0.1061 & 0.9664 & 0.3503 & 0.2528 & 0.12020 & 0.4334 & 0.4376 & 0.15140 & 0.3366 & 0.07599 & 1.255 & 1.30200 & 1.84200 & 0.08212 & 0.75 & 0.6692 & 0.1032 & 0.10320 & 0.07942 & 0.428 & 0.7223 & 0.9596 & 0.71920 & 0.06779 & 0.167 & 0.127 & 0.643 & 1.49400 & 0.3607 & 1.092 & 0.03289 & 0.07568 & 0.155 & 2.244 & 0.65530 & 1.0050 & 1.555 & 0.1165 & 0.157 & 0.1532 & 0.1603 & 0.5559 & 0.02009 & 0.05037 & 0.65980 & 1.12100 & 0.12 & 0.08673 & 0.7704 & 1.349 & 0.359 & 1.776 & 2.062 & 0.1978 & 1.032 & 0.04557 & 0.59410 & 0.1036 & 0.795 & 0.06511 & 0.6064 & 0.8163 & 1.11300 & 0.1296 & 0.2285 & 0.3733 & 0.8992 & 0.1446 & 0.99790 & 0.298 & 0.004329 & 0.7006 & 0.7746 & 0.14580 & 0.10290 & 0.9357 & 0.1646 & 0.7066 & 0.1423 & 0.8356 & 0.7798 & 0.565 & 0.9467 & 1.217 & 0.6383 & 0.24410 & 0.2949 & 0.5428 & 0.98360 & 0.006832 & 0.8488 & 1.26600 & 0.6742 & 0.99670 & 0.7118 & 0.2731 & 1.459 & 0.7338 & 0.5885 & 0.52050 & 0.8064 & 2.738 & 0.1638 & 0.08514 & 0.1714 & 0.4184 & 0.5269 & 1.21900 & 0.1702 & 0.3025 & 0.4858 & 0.52230 & 0.95150 & 0.50890 & 0.1254 & 0.5466 & 0.1573 & 0.2198 & 0.9458 & 2.793 & 0.7251 & 0.6311 & 0.2754 & 0.8031 & 0.3410 & 1.509 & 0.14090 & 0.75300 & 0.207 & 0.4584 & 0.2621 & 0.25060 & 0.7466 & 0.44320 & 0.00000 & 0.75950 & 0.988 & 0.01958 & 0.01386 & 0.49610 & 0.48540 & 0.04313 & 0.73970 & 0.4564 & 0.2589 & 0.73510 & 0.3318 & 0.3718 & 2.8100 & 0.9578 & 0.6208 & 0.1196 & 1.6920 & 0.49450 & 0.29910 & 0.1502 & 0.6514 & 0.2403 & 0.01819 & 0.28260 & 0.7830 & 1.385 & 1.12500 & 1.4380 & 1.83 & 0.2888 & 0.3907 & 0.07319 & 2.7360 & 1.496 & 0.43560 & 1.69700 & 0.3260 & 0.18640 & 1.74900 & 0.153 & 0.7735 & 0.4975 & 1.1250 & 0.43600 & 1.27100 & 0.7652 & 0.7613 & 0.07808 & 0.10150 & 0.2417 & 1.1170 & 0.9377 & 0.1458 & 0.31550 & 1.01 & 1.59100 & 0.5321 & 0.2141 & 0.3384 & 0.80680 & 0.989 & 0.17790 & 0.67220 & 1.131 & 1.3560 & 2.413 & 1.13900 & 0.49220 & 0.85700 & 0.91860 & 0.83480 & 1.194 & 0.5111 & 0.54 & 0.9038 & 1.192 & 0.04256 & 0.9330 & 0.83400 & 0.67480 & 0.448 & 0.1561 & 0.8244 & 1.09700 & 2.4550 & 0.7058 & 0.13310 & 0.158 & 2.987 & 0.33570 & 0.16240 & 0.447 & 0.3617 & 0.06063 & 1.21400 & 0.2006 & 0.98810 & 0.44510 & 0.04935 & 1.791 & 0.2392 & 0.3251 & 1.611 & 0.56740 & 0.35810 & 0.73340 & 0.70130 & 0.5228 & 1.38100 & 0.26140 & 1.03300 & 1.1510 & 1.147 & 0.03834 & 0.5317 & 0.2133 & 0.293 & 0.64720 & 0.8136 & 0.3128 & 0.82480 & 0.3188 & 0.20870 & 0.07261 & 0.76000 & 1.434 & 0.615 & 0.6807 & 0.3925 & 0.1897 & 1.014 & 0.58010 & 0.7422 & 1.984 & 0.15480 & 1.21500 & 0.1636 & 0.6259 & 0.31450 & 1.34 & 1.31200 & 1.759 & 1.41600 & 0.49560 & 2.27700 & 1.199 & 0.2389 & 0.74000 & 0.5676 & 1.393 & 1.846 & 0.12100 & 0.07591 & 0.4529 & 1.01200 & 0.33570 & 0.63890 & 0.3319 & 0.36600 & 0.614 & 0.3776 & 1.12400 & 0.39580 & 0.41180 & 0.75380 & 1.105 & 1.02 & 1.08800 & 0.9641 & 1.024 & 0.2075 & 0.6599 & 0.74560 & 1.33100 & 0.27930 & 0.8391 & 0.08135 & 1.06500 & 0.3307 & 0.6429 & 1.24200 & 0.1653 & 0.88900 & 1.06500 & 0.3384 & 0.1622 & 0.1911 & 2.15500 & 0.28140 & 0.74600 & 0.62610 & ENSG00000228140.1 & RP3-467K16.4  \\\\\n",
       "\t ENSG00000186092 & OR4F5 & 1 & protein\\_coding & 0.0000 & 0.05678 & 0.000 & 0.000 & 0.0000 & 0.00000 & 0.0000 & 0.00000 & 0.0000 & 0.0000 & 0.08923 & 0.0000 & 0.0395 & 0.000 & 0.0000 & 0.04524 & 0.00000 & 0.02842 & 0.04013 & 0.0000 & 0.02593 & 0.00000 & 0.000 & 0.000 & 0.00000 & 0.000 & 0.00000 & 0.04679 & 0.04962 & 0.02547 & 0.0000 & 0.000 & 0.0000 & 0.000 & 0.0000 & 0.000000 & 0.000 & 0.0000 & 0.000 & 0.000 & 0.04127 & 0.05131 & 0.0453 & 0.0000 & 0.00000 & 0.000 & 0.0000 & 0.04213 & 0.0000 & 0.000 & 0.0000 & 0.05855 & 0.0000 & 0.03828 & 0.05261 & 0.0000 & 0.0000 & 0.0000 & 0.03849 & 0.0000 & 0.07076 & 0.05328 & 0.08441 & 0.000 & 0.0000 & 0.0000 & 0.000 & 0.000 & 0.00000 & 0.0418 & 0.0000 & 0.0000 & 0.09916 & 0.00000 & 0.0000 & 0.000 & 0.000 & 0.0000 & 0.04812 & 0.0000 & 0.1056 & 0.0000 & 0.03677 & 0.04948 & 0.0000 & 0.03975 & 0.04873 & 0.05376 & 0.0000 & 0.0000 & 0.0000 & 0.0000 & 0.02759 & 0.0000 & 0.00000 & 0.0000 & 0.0000 & 0.00000 & 0.000 & 0.000 & 0.06926 & 0.0000 & 0.0341 & 0.07937 & 0.0000 & 0.0000 & 0.000 & 0.0000 & 0.00000 & 0.01986 & 0.00000 & 0.00000 & 0.00000 & 0.0000 & 0.0363 & 0.03617 & 0.0000 & 0.0000 & 0.0000 & 0.000 & 0.0000 & 0.000 & 0.03269 & 0.000 & 0.04254 & 0.000 & 0.00000 & 0.04348 & 0.00000 & 0.00 & 0.0000 & 0.05713 & 0.000 & 0.0000 & 0.0000 & 0.2753 & 0.000 & 0.04615 & 0.00000 & 0.00000 & 0.000 & 0.0000 & 0.0000 & 0.03765 & 0.00000 & 0.00000 & 0.0000 & 0.03439 & 0.0000 & 0.05633 & 0.000 & 0.00 & 0.08782 & 0.03739 & 0.0000 & 0.000 & 0.3761 & 0.04493 & 0.000 & 0.1222 & 0.00000 & 0.0000 & 0.0000 & 0.05467 & 0.03104 & 0.0000 & 0.000 & 0.03388 & 0.0000 & 0.1248 & 0.0000 & 0.000 & 0.0000 & 0.0000 & 0.0000 & 0.000 & 0.000 & 0.000 & 0.00000 & 0.07876 & 0.0000 & 0.03856 & 0.04703 & 0.000 & 0.0000 & 0.1503 & 0.0000 & 0.0000 & 0.0000 & 0.0259 & 0.00000 & 0.000 & 0.1076 & 0.000 & 0.0000 & 0.03473 & 0.03985 & 0.000 & 0.0000 & 0.03449 & 0.0000 & 0.0000 & 0.09151 & 0.000 & 0.00000 & 0.1396 & 0.0000 & 0.000 & 0.0401 & 0.04678 & 0.000 & 0.00000 & 0.03101 & 0.02891 & 0.0000 & 0.0000 & 0.04906 & 0.00000 & 0.1346 & 0.0000 & 0.03717 & 0.0000 & 0.05122 & 0.07100 & 0.0000 & 0.0000 & 0.03261 & 0.000 & 0.00000 & 0.08067 & 0.0000 & 0.000 & 0.04579 & 0.0000 & 0.06174 & 0.0000 & 0.0000 & 0.04755 & 0.00 & 0.0000 & 0.0000 & 0.03725 & 0.00000 & 0.00000 & 0.0299 & 0.1794 & 0.07778 & 0.000 & 0.000 & 0.05866 & 0.05714 & 0.08124 & 0.04258 & 0.0000 & 0.0608 & 0.0000 & 0.0000 & 0.000 & 0.0000 & 0.000 & 0.0000 & 0.07892 & 0.03816 & 0.0000 & 0.00000 & 0.000 & 0.000 & 0.0000 & 0.0000 & 0.03483 & 0.0000 & 0.03726 & 0.04103 & 0.000 & 0.000 & 0.0000 & 0.06622 & 0.0000 & 0.000 & 0.00000 & 0.000 & 0.000 & 0.03914 & 0.05227 & 0.0000 & 0.0000 & 0.00000 & 0.01772 & 0.0000 & 0.0000 & 0.0000 & 0.0000 & 0.02535 & 0.04788 & 0.03256 & 0.2557 & 0.000 & 0.000 & 0.07927 & 0.0000 & 0.00000 & 0.0000 & 0.0000 & 0.0000 & 0.05615 & 0.0347 & 0.0000 & 0.000 & 0.0000 & 0.00000 & 0.0000 & 0.0000 & 0.000 & 0.0000 & 0.0000 & 0.0000 & 0.0000 & 0.07908 & 0.0000 & 0.0000 & 0.0000 & 0.000000 & 0.000 & 0.0319 & 0.0000 & 0.0249 & 0.0000 & 0.0000 & 0.05453 & 0.00000 & 0.00 & 0.000 & 0.04414 & 0.0000 & 0.04547 & 0.000 & 0.0000 & 0.0000 & 0.0000 & 0.0000 & 0.10110 & 0.0000 & 0.0000 & 0.22250 & 0.00000 & 0.0000 & 0.000 & 0.1023 & 0.000 & 0.00000 & 0.0000 & 0.0000 & 0.0000 & 0.00000 & 0.02725 & 0.000 & 0.04822 & 0.0000 & 0.0000 & 0.000 & 0.0000 & 0.000 & 0.0000 & 0.03055 & 0.000 & 0.0000 & 0.0000 & 0.0000 & 0.0000 & 0.0000 & 0.04457 & 0.03908 & 0.03146 & 0.0000 & 0.0000 & 0.0000 & 0.00000 & 0.0000 & 0.0000 & 0.0000 & 0.03277 & 0.1059 & 0.00000 & 0.03982 & 0.0000 & 0.03238 & 0.00000 & 0 & 0.0000 & 0.000 & 0.0000 & 0.02762 & 0.00000 & 0.0000 & 0.000 & 0.00000 & 0.00000 & 0.00000 & 0.06643 & 0.00000 & 0.0000 & 0.0000 & 0.00000 & 0.000 & 0.00000 & 0.0000 & 0.0000 & 0.0000 & 0.03466 & 0.000 & 0.00000 & 0.0000 & 0.0000 & 0.000 & 0.000 & 0.0000 & 0.03091 & 0.02807 & 0.02568 & 0.0000 & 0.0319 & 0.0000 & 0.0000 & 0.00000 & 0.0000 & 0.0000 & 0.0000 & 0.00000 & 0.0000 & 0.0000 & 0.0000 & 0.0000 & 0.02338 & 0.0000 & 0.0000 & 0.02135 & 0.0000 & 0.00000 & 0.000 & 0.02604 & 0.03177 & 0.02316 & 0.00 & 0.0000 & 0.0000 & 0.02645 & 0.00000 & 0.000 & 0.0000 & 0.0000 & 0.00000 & 0.02549 & 0.000 & 0.000 & 0.000 & 0.08569 & 0.0000 & 0.000 & 0.03092 & 0.00000 & 0.000 & 0.000 & 0.07393 & 0.1318 & 0.000 & 0.0365 & 0.000 & 0.0000 & 0.0000 & 0.0000 & 0.03776 & 0.14200 & 0.02001 & 0.03877 & 0.00 & 0.03058 & 0.0000 & 0.000 & 0.000 & 0.000 & 0.000 & 0.0000 & 0.000 & 0.00000 & 0.05405 & 0.0000 & 0.000 & 0.00000 & 0.0000 & 0.0000 & 0.03737 & 0.0000 & 0.0000 & 0.0000 & 0.0000 & 0.0000 & 0.02887 & 0.000 & 0.048840 & 0.0000 & 0.0000 & 0.02419 & 0.03054 & 0.0000 & 0.0000 & 0.0000 & 0.0000 & 0.0000 & 0.0000 & 0.000 & 0.0000 & 0.000 & 0.0000 & 0.05738 & 0.0000 & 0.0000 & 0.04079 & 0.000000 & 0.1019 & 0.04153 & 0.1188 & 0.03627 & 0.0000 & 0.0453 & 0.000 & 0.1035 & 0.0000 & 0.04587 & 0.0000 & 0.000 & 0.0000 & 0.06860 & 0.1813 & 1.9670 & 0.0000 & 0.09164 & 0.0000 & 0.1741 & 0.0000 & 0.05665 & 0.02556 & 0.03932 & 1.0610 & 0.0000 & 0.0000 & 0.0000 & 0.0000 & 0.000 & 0.0000 & 0.1287 & 0.0000 & 0.0000 & 0.0000 & 0.000 & 0.03612 & 0.09994 & 0.000 & 0.0000 & 0.0000 & 0.04283 & 0.0000 & 0.04464 & 0.09686 & 0.06347 & 0.000 & 0.00000 & 0.00000 & 0.07563 & 0.08831 & 0.04055 & 0.03793 & 0.0000 & 0.0000 & 0.06687 & 0.1370 & 0.0000 & 0.1093 & 0.0000 & 0.0000 & 0.0000 & 0.0000 & 0.07748 & 0.08436 & 0.0000 & 0.0000 & 0.2140 & 0.00000 & 0.07246 & 0.1359 & 0.000 & 0.04918 & 0.1931 & 0.00 & 0.0000 & 0.1025 & 0.10320 & 1.0640 & 0.000 & 0.02996 & 0.04986 & 0.3198 & 0.05842 & 0.07709 & 0.000 & 0.0000 & 0.0000 & 0.0769 & 0.06895 & 0.03982 & 0.0000 & 0.0000 & 0.05505 & 0.07157 & 0.0779 & 0.1562 & 0.0000 & 0.0000 & 0.08474 & 0.00 & 0.05309 & 0.0469 & 0.0000 & 0.0000 & 0.02346 & 0.000 & 0.07166 & 0.06893 & 0.000 & 0.0375 & 0.000 & 0.05222 & 0.02833 & 0.05142 & 0.09685 & 0.04281 & 0.000 & 0.0000 & 0.00 & 0.0000 & 0.000 & 0.00000 & 0.0358 & 0.08401 & 0.03146 & 0.000 & 0.0000 & 0.0000 & 0.08477 & 0.0426 & 0.0000 & 0.03002 & 0.000 & 0.000 & 0.02491 & 0.03054 & 0.000 & 0.0583 & 0.00000 & 0.03004 & 0.0000 & 0.03925 & 0.05123 & 0.00000 & 0.000 & 0.0000 & 0.2158 & 0.000 & 0.08649 & 0.00000 & 0.04546 & 0.04208 & 0.0000 & 0.05092 & 0.04914 & 0.04588 & 0.0446 & 0.000 & 0.14420 & 0.0000 & 0.0000 & 0.000 & 0.04741 & 0.0000 & 0.0000 & 0.03783 & 0.0000 & 0.04906 & 0.00000 & 0.06595 & 0.000 & 0.000 & 0.0000 & 0.0000 & 0.1529 & 0.000 & 0.05454 & 0.0000 & 0.000 & 0.04157 & 0.07787 & 0.0000 & 0.0000 & 0.03942 & 0.00 & 0.05482 & 0.000 & 0.03768 & 0.04051 & 0.02535 & 0.000 & 0.0245 & 0.00000 & 0.0000 & 0.000 & 0.000 & 0.09305 & 0.00000 & 0.0000 & 0.06273 & 0.03713 & 0.03715 & 0.1306 & 0.08426 & 0.000 & 0.0000 & 0.06184 & 0.05074 & 0.05161 & 0.04168 & 0.000 & 0.00 & 0.03429 & 0.0000 & 0.000 & 0.0000 & 0.0000 & 0.03286 & 0.07738 & 0.02864 & 0.0000 & 0.00000 & 0.03554 & 0.2332 & 0.0000 & 0.04377 & 0.0333 & 0.06078 & 0.04884 & 0.0000 & 0.0000 & 0.0000 & 0.04552 & 0.03527 & 0.08015 & 0.04528 & ENSG00000186092.4 & OR4F5         \\\\\n",
       "\\end{tabular}\n"
      ],
      "text/markdown": [
       "\n",
       "A data.frame: 6 × 761\n",
       "\n",
       "| ensembl_gene_id &lt;chr&gt; | hgnc_symbol &lt;chr&gt; | chromosome_name &lt;chr&gt; | transcript_biotype &lt;chr&gt; | GTEX-111YS-0006-SM-5NQBE &lt;dbl&gt; | GTEX-1122O-0005-SM-5O99J &lt;dbl&gt; | GTEX-1128S-0005-SM-5P9HI &lt;dbl&gt; | GTEX-113IC-0006-SM-5NQ9C &lt;dbl&gt; | GTEX-113JC-0006-SM-5O997 &lt;dbl&gt; | GTEX-117XS-0005-SM-5PNU6 &lt;dbl&gt; | ⋯ ⋯ | GTEX-ZVT2-0005-SM-57WBW &lt;dbl&gt; | GTEX-ZVT3-0006-SM-51MT9 &lt;dbl&gt; | GTEX-ZVT4-0006-SM-57WB8 &lt;dbl&gt; | GTEX-ZVTK-0006-SM-57WBK &lt;dbl&gt; | GTEX-ZVZP-0006-SM-51MSW &lt;dbl&gt; | GTEX-ZVZQ-0006-SM-51MR8 &lt;dbl&gt; | GTEX-ZXES-0005-SM-57WCB &lt;dbl&gt; | GTEX-ZXG5-0005-SM-57WCN &lt;dbl&gt; | Name &lt;chr&gt; | Description &lt;chr&gt; |\n",
       "|---|---|---|---|---|---|---|---|---|---|---|---|---|---|---|---|---|---|---|---|---|\n",
       "| ENSG00000228229 | <!----> | 1 | lincRNA        | 0.0000 | 0.00000 | 0.000 | 0.000 | 0.0000 | 0.00000 | ⋯ | 0.00000 | 0.0000 | 0.0000 | 0.0000 | 0.00000 | 0.00000 | 0.00000 | 0.00000 | ENSG00000228229.2 | RP11-219C24.10 |\n",
       "| ENSG00000237445 | <!----> | 1 | lincRNA        | 0.0000 | 0.00000 | 0.000 | 0.000 | 0.0000 | 0.00000 | ⋯ | 0.00000 | 0.0000 | 0.0000 | 0.0000 | 0.00000 | 0.00000 | 0.00000 | 0.00000 | ENSG00000237445.2 | CTA-520D8.2    |\n",
       "| ENSG00000231606 | <!----> | 1 | lincRNA        | 0.0000 | 0.00000 | 0.000 | 0.000 | 0.0000 | 0.00000 | ⋯ | 0.00000 | 0.0000 | 0.0000 | 0.0000 | 0.00000 | 0.00000 | 0.00000 | 0.00000 | ENSG00000231606.1 | RP11-344F13.1  |\n",
       "| ENSG00000234593 | <!----> | 1 | lincRNA        | 0.0000 | 0.00000 | 0.000 | 0.000 | 0.0000 | 0.00000 | ⋯ | 0.00000 | 0.0000 | 0.0000 | 0.0000 | 0.00000 | 0.00000 | 0.00000 | 0.00000 | ENSG00000234593.2 | RP4-704D23.1   |\n",
       "| ENSG00000228140 | <!----> | 1 | lincRNA        | 0.5148 | 1.62100 | 0.678 | 2.237 | 0.1405 | 0.05083 | ⋯ | 1.06500 | 0.3384 | 0.1622 | 0.1911 | 2.15500 | 0.28140 | 0.74600 | 0.62610 | ENSG00000228140.1 | RP3-467K16.4   |\n",
       "| ENSG00000186092 | OR4F5 | 1 | protein_coding | 0.0000 | 0.05678 | 0.000 | 0.000 | 0.0000 | 0.00000 | ⋯ | 0.04884 | 0.0000 | 0.0000 | 0.0000 | 0.04552 | 0.03527 | 0.08015 | 0.04528 | ENSG00000186092.4 | OR4F5          |\n",
       "\n"
      ],
      "text/plain": [
       "  ensembl_gene_id hgnc_symbol chromosome_name transcript_biotype\n",
       "1 ENSG00000228229             1               lincRNA           \n",
       "2 ENSG00000237445             1               lincRNA           \n",
       "3 ENSG00000231606             1               lincRNA           \n",
       "4 ENSG00000234593             1               lincRNA           \n",
       "5 ENSG00000228140             1               lincRNA           \n",
       "6 ENSG00000186092 OR4F5       1               protein_coding    \n",
       "  GTEX-111YS-0006-SM-5NQBE GTEX-1122O-0005-SM-5O99J GTEX-1128S-0005-SM-5P9HI\n",
       "1 0.0000                   0.00000                  0.000                   \n",
       "2 0.0000                   0.00000                  0.000                   \n",
       "3 0.0000                   0.00000                  0.000                   \n",
       "4 0.0000                   0.00000                  0.000                   \n",
       "5 0.5148                   1.62100                  0.678                   \n",
       "6 0.0000                   0.05678                  0.000                   \n",
       "  GTEX-113IC-0006-SM-5NQ9C GTEX-113JC-0006-SM-5O997 GTEX-117XS-0005-SM-5PNU6 ⋯\n",
       "1 0.000                    0.0000                   0.00000                  ⋯\n",
       "2 0.000                    0.0000                   0.00000                  ⋯\n",
       "3 0.000                    0.0000                   0.00000                  ⋯\n",
       "4 0.000                    0.0000                   0.00000                  ⋯\n",
       "5 2.237                    0.1405                   0.05083                  ⋯\n",
       "6 0.000                    0.0000                   0.00000                  ⋯\n",
       "  GTEX-ZVT2-0005-SM-57WBW GTEX-ZVT3-0006-SM-51MT9 GTEX-ZVT4-0006-SM-57WB8\n",
       "1 0.00000                 0.0000                  0.0000                 \n",
       "2 0.00000                 0.0000                  0.0000                 \n",
       "3 0.00000                 0.0000                  0.0000                 \n",
       "4 0.00000                 0.0000                  0.0000                 \n",
       "5 1.06500                 0.3384                  0.1622                 \n",
       "6 0.04884                 0.0000                  0.0000                 \n",
       "  GTEX-ZVTK-0006-SM-57WBK GTEX-ZVZP-0006-SM-51MSW GTEX-ZVZQ-0006-SM-51MR8\n",
       "1 0.0000                  0.00000                 0.00000                \n",
       "2 0.0000                  0.00000                 0.00000                \n",
       "3 0.0000                  0.00000                 0.00000                \n",
       "4 0.0000                  0.00000                 0.00000                \n",
       "5 0.1911                  2.15500                 0.28140                \n",
       "6 0.0000                  0.04552                 0.03527                \n",
       "  GTEX-ZXES-0005-SM-57WCB GTEX-ZXG5-0005-SM-57WCN Name             \n",
       "1 0.00000                 0.00000                 ENSG00000228229.2\n",
       "2 0.00000                 0.00000                 ENSG00000237445.2\n",
       "3 0.00000                 0.00000                 ENSG00000231606.1\n",
       "4 0.00000                 0.00000                 ENSG00000234593.2\n",
       "5 0.74600                 0.62610                 ENSG00000228140.1\n",
       "6 0.08015                 0.04528                 ENSG00000186092.4\n",
       "  Description   \n",
       "1 RP11-219C24.10\n",
       "2 CTA-520D8.2   \n",
       "3 RP11-344F13.1 \n",
       "4 RP4-704D23.1  \n",
       "5 RP3-467K16.4  \n",
       "6 OR4F5         "
      ]
     },
     "metadata": {},
     "output_type": "display_data"
    },
    {
     "data": {
      "text/html": [
       "<ol class=list-inline>\n",
       "\t<li>27256</li>\n",
       "\t<li>761</li>\n",
       "</ol>\n"
      ],
      "text/latex": [
       "\\begin{enumerate*}\n",
       "\\item 27256\n",
       "\\item 761\n",
       "\\end{enumerate*}\n"
      ],
      "text/markdown": [
       "1. 27256\n",
       "2. 761\n",
       "\n",
       "\n"
      ],
      "text/plain": [
       "[1] 27256   761"
      ]
     },
     "metadata": {},
     "output_type": "display_data"
    }
   ],
   "source": [
    "head(expression_list_target[[\"Whole Blood\"]])\n",
    "dim(expression_list_target[[\"Whole Blood\"]])"
   ]
  },
  {
   "cell_type": "code",
   "execution_count": 33,
   "metadata": {},
   "outputs": [],
   "source": [
    "#save(expression_list_target, file = \"/gpfs/loomis/project/radev/zy92/utmost_update/GTEX/expression_list_target.RData\")"
   ]
  },
  {
   "cell_type": "code",
   "execution_count": null,
   "metadata": {},
   "outputs": [],
   "source": []
  },
  {
   "cell_type": "code",
   "execution_count": null,
   "metadata": {},
   "outputs": [],
   "source": []
  },
  {
   "cell_type": "code",
   "execution_count": 34,
   "metadata": {},
   "outputs": [],
   "source": [
    "library(stringr)\n",
    "tissue_name_clean <- function(str) {\n",
    "    str <- str_remove_all(str, \"\\\\(\") \n",
    "    str <- str_remove_all(str, \"\\\\)\") \n",
    "    str <- str_replace_all(str, \" \", \"_\") \n",
    "    str <- str_replace_all(str, \"_-_\", \"_\")\n",
    "    return(str)\n",
    "}"
   ]
  },
  {
   "cell_type": "code",
   "execution_count": 35,
   "metadata": {},
   "outputs": [
    {
     "data": {
      "text/html": [
       "'Brain_Spinal_cord_cervical_c-1'"
      ],
      "text/latex": [
       "'Brain\\_Spinal\\_cord\\_cervical\\_c-1'"
      ],
      "text/markdown": [
       "'Brain_Spinal_cord_cervical_c-1'"
      ],
      "text/plain": [
       "[1] \"Brain_Spinal_cord_cervical_c-1\""
      ]
     },
     "metadata": {},
     "output_type": "display_data"
    }
   ],
   "source": [
    "tissue_name_clean(\"Brain - Spinal cord (cervical c-1)\")"
   ]
  },
  {
   "cell_type": "code",
   "execution_count": 36,
   "metadata": {},
   "outputs": [],
   "source": [
    "tissue_vec_clean <- as.character(sapply(tissue_vec, tissue_name_clean))"
   ]
  },
  {
   "cell_type": "code",
   "execution_count": 37,
   "metadata": {},
   "outputs": [
    {
     "data": {
      "text/html": [
       "<ol class=list-inline>\n",
       "\t<li>'Whole_Blood'</li>\n",
       "\t<li>'Brain_Frontal_Cortex_BA9'</li>\n",
       "\t<li>'Adipose_Subcutaneous'</li>\n",
       "\t<li>'Muscle_Skeletal'</li>\n",
       "\t<li>'Artery_Tibial'</li>\n",
       "\t<li>'Artery_Coronary'</li>\n",
       "\t<li>'Heart_Atrial_Appendage'</li>\n",
       "\t<li>'Adipose_Visceral_Omentum'</li>\n",
       "\t<li>'Ovary'</li>\n",
       "\t<li>'Uterus'</li>\n",
       "\t<li>'Vagina'</li>\n",
       "\t<li>'Breast_Mammary_Tissue'</li>\n",
       "\t<li>'Skin_Not_Sun_Exposed_Suprapubic'</li>\n",
       "\t<li>'Minor_Salivary_Gland'</li>\n",
       "\t<li>'Brain_Cortex'</li>\n",
       "\t<li>'Adrenal_Gland'</li>\n",
       "\t<li>'Thyroid'</li>\n",
       "\t<li>'Lung'</li>\n",
       "\t<li>'Spleen'</li>\n",
       "\t<li>'Pancreas'</li>\n",
       "\t<li>'Esophagus_Muscularis'</li>\n",
       "\t<li>'Esophagus_Mucosa'</li>\n",
       "\t<li>'Esophagus_Gastroesophageal_Junction'</li>\n",
       "\t<li>'Stomach'</li>\n",
       "\t<li>'Colon_Sigmoid'</li>\n",
       "\t<li>'Small_Intestine_Terminal_Ileum'</li>\n",
       "\t<li>'Colon_Transverse'</li>\n",
       "\t<li>'Prostate'</li>\n",
       "\t<li>'Testis'</li>\n",
       "\t<li>'Skin_Sun_Exposed_Lower_leg'</li>\n",
       "\t<li>'Nerve_Tibial'</li>\n",
       "\t<li>'Heart_Left_Ventricle'</li>\n",
       "\t<li>'Pituitary'</li>\n",
       "\t<li>'Brain_Cerebellum'</li>\n",
       "\t<li>'Cells_Cultured_fibroblasts'</li>\n",
       "\t<li>'Artery_Aorta'</li>\n",
       "\t<li>'Cells_EBV-transformed_lymphocytes'</li>\n",
       "\t<li>'Brain_Cerebellar_Hemisphere'</li>\n",
       "\t<li>'Brain_Caudate_basal_ganglia'</li>\n",
       "\t<li>'Brain_Nucleus_accumbens_basal_ganglia'</li>\n",
       "\t<li>'Brain_Putamen_basal_ganglia'</li>\n",
       "\t<li>'Brain_Hypothalamus'</li>\n",
       "\t<li>'Brain_Spinal_cord_cervical_c-1'</li>\n",
       "\t<li>'Liver'</li>\n",
       "\t<li>'Brain_Hippocampus'</li>\n",
       "\t<li>'Brain_Anterior_cingulate_cortex_BA24'</li>\n",
       "\t<li>'Brain_Substantia_nigra'</li>\n",
       "\t<li>'Kidney_Cortex'</li>\n",
       "\t<li>'Brain_Amygdala'</li>\n",
       "\t<li>'Cervix_Ectocervix'</li>\n",
       "\t<li>'Fallopian_Tube'</li>\n",
       "\t<li>'Cervix_Endocervix'</li>\n",
       "\t<li>'Bladder'</li>\n",
       "\t<li>'Kidney_Medulla'</li>\n",
       "\t<li>'Cells_Leukemia_cell_line_CML'</li>\n",
       "</ol>\n"
      ],
      "text/latex": [
       "\\begin{enumerate*}\n",
       "\\item 'Whole\\_Blood'\n",
       "\\item 'Brain\\_Frontal\\_Cortex\\_BA9'\n",
       "\\item 'Adipose\\_Subcutaneous'\n",
       "\\item 'Muscle\\_Skeletal'\n",
       "\\item 'Artery\\_Tibial'\n",
       "\\item 'Artery\\_Coronary'\n",
       "\\item 'Heart\\_Atrial\\_Appendage'\n",
       "\\item 'Adipose\\_Visceral\\_Omentum'\n",
       "\\item 'Ovary'\n",
       "\\item 'Uterus'\n",
       "\\item 'Vagina'\n",
       "\\item 'Breast\\_Mammary\\_Tissue'\n",
       "\\item 'Skin\\_Not\\_Sun\\_Exposed\\_Suprapubic'\n",
       "\\item 'Minor\\_Salivary\\_Gland'\n",
       "\\item 'Brain\\_Cortex'\n",
       "\\item 'Adrenal\\_Gland'\n",
       "\\item 'Thyroid'\n",
       "\\item 'Lung'\n",
       "\\item 'Spleen'\n",
       "\\item 'Pancreas'\n",
       "\\item 'Esophagus\\_Muscularis'\n",
       "\\item 'Esophagus\\_Mucosa'\n",
       "\\item 'Esophagus\\_Gastroesophageal\\_Junction'\n",
       "\\item 'Stomach'\n",
       "\\item 'Colon\\_Sigmoid'\n",
       "\\item 'Small\\_Intestine\\_Terminal\\_Ileum'\n",
       "\\item 'Colon\\_Transverse'\n",
       "\\item 'Prostate'\n",
       "\\item 'Testis'\n",
       "\\item 'Skin\\_Sun\\_Exposed\\_Lower\\_leg'\n",
       "\\item 'Nerve\\_Tibial'\n",
       "\\item 'Heart\\_Left\\_Ventricle'\n",
       "\\item 'Pituitary'\n",
       "\\item 'Brain\\_Cerebellum'\n",
       "\\item 'Cells\\_Cultured\\_fibroblasts'\n",
       "\\item 'Artery\\_Aorta'\n",
       "\\item 'Cells\\_EBV-transformed\\_lymphocytes'\n",
       "\\item 'Brain\\_Cerebellar\\_Hemisphere'\n",
       "\\item 'Brain\\_Caudate\\_basal\\_ganglia'\n",
       "\\item 'Brain\\_Nucleus\\_accumbens\\_basal\\_ganglia'\n",
       "\\item 'Brain\\_Putamen\\_basal\\_ganglia'\n",
       "\\item 'Brain\\_Hypothalamus'\n",
       "\\item 'Brain\\_Spinal\\_cord\\_cervical\\_c-1'\n",
       "\\item 'Liver'\n",
       "\\item 'Brain\\_Hippocampus'\n",
       "\\item 'Brain\\_Anterior\\_cingulate\\_cortex\\_BA24'\n",
       "\\item 'Brain\\_Substantia\\_nigra'\n",
       "\\item 'Kidney\\_Cortex'\n",
       "\\item 'Brain\\_Amygdala'\n",
       "\\item 'Cervix\\_Ectocervix'\n",
       "\\item 'Fallopian\\_Tube'\n",
       "\\item 'Cervix\\_Endocervix'\n",
       "\\item 'Bladder'\n",
       "\\item 'Kidney\\_Medulla'\n",
       "\\item 'Cells\\_Leukemia\\_cell\\_line\\_CML'\n",
       "\\end{enumerate*}\n"
      ],
      "text/markdown": [
       "1. 'Whole_Blood'\n",
       "2. 'Brain_Frontal_Cortex_BA9'\n",
       "3. 'Adipose_Subcutaneous'\n",
       "4. 'Muscle_Skeletal'\n",
       "5. 'Artery_Tibial'\n",
       "6. 'Artery_Coronary'\n",
       "7. 'Heart_Atrial_Appendage'\n",
       "8. 'Adipose_Visceral_Omentum'\n",
       "9. 'Ovary'\n",
       "10. 'Uterus'\n",
       "11. 'Vagina'\n",
       "12. 'Breast_Mammary_Tissue'\n",
       "13. 'Skin_Not_Sun_Exposed_Suprapubic'\n",
       "14. 'Minor_Salivary_Gland'\n",
       "15. 'Brain_Cortex'\n",
       "16. 'Adrenal_Gland'\n",
       "17. 'Thyroid'\n",
       "18. 'Lung'\n",
       "19. 'Spleen'\n",
       "20. 'Pancreas'\n",
       "21. 'Esophagus_Muscularis'\n",
       "22. 'Esophagus_Mucosa'\n",
       "23. 'Esophagus_Gastroesophageal_Junction'\n",
       "24. 'Stomach'\n",
       "25. 'Colon_Sigmoid'\n",
       "26. 'Small_Intestine_Terminal_Ileum'\n",
       "27. 'Colon_Transverse'\n",
       "28. 'Prostate'\n",
       "29. 'Testis'\n",
       "30. 'Skin_Sun_Exposed_Lower_leg'\n",
       "31. 'Nerve_Tibial'\n",
       "32. 'Heart_Left_Ventricle'\n",
       "33. 'Pituitary'\n",
       "34. 'Brain_Cerebellum'\n",
       "35. 'Cells_Cultured_fibroblasts'\n",
       "36. 'Artery_Aorta'\n",
       "37. 'Cells_EBV-transformed_lymphocytes'\n",
       "38. 'Brain_Cerebellar_Hemisphere'\n",
       "39. 'Brain_Caudate_basal_ganglia'\n",
       "40. 'Brain_Nucleus_accumbens_basal_ganglia'\n",
       "41. 'Brain_Putamen_basal_ganglia'\n",
       "42. 'Brain_Hypothalamus'\n",
       "43. 'Brain_Spinal_cord_cervical_c-1'\n",
       "44. 'Liver'\n",
       "45. 'Brain_Hippocampus'\n",
       "46. 'Brain_Anterior_cingulate_cortex_BA24'\n",
       "47. 'Brain_Substantia_nigra'\n",
       "48. 'Kidney_Cortex'\n",
       "49. 'Brain_Amygdala'\n",
       "50. 'Cervix_Ectocervix'\n",
       "51. 'Fallopian_Tube'\n",
       "52. 'Cervix_Endocervix'\n",
       "53. 'Bladder'\n",
       "54. 'Kidney_Medulla'\n",
       "55. 'Cells_Leukemia_cell_line_CML'\n",
       "\n",
       "\n"
      ],
      "text/plain": [
       " [1] \"Whole_Blood\"                          \n",
       " [2] \"Brain_Frontal_Cortex_BA9\"             \n",
       " [3] \"Adipose_Subcutaneous\"                 \n",
       " [4] \"Muscle_Skeletal\"                      \n",
       " [5] \"Artery_Tibial\"                        \n",
       " [6] \"Artery_Coronary\"                      \n",
       " [7] \"Heart_Atrial_Appendage\"               \n",
       " [8] \"Adipose_Visceral_Omentum\"             \n",
       " [9] \"Ovary\"                                \n",
       "[10] \"Uterus\"                               \n",
       "[11] \"Vagina\"                               \n",
       "[12] \"Breast_Mammary_Tissue\"                \n",
       "[13] \"Skin_Not_Sun_Exposed_Suprapubic\"      \n",
       "[14] \"Minor_Salivary_Gland\"                 \n",
       "[15] \"Brain_Cortex\"                         \n",
       "[16] \"Adrenal_Gland\"                        \n",
       "[17] \"Thyroid\"                              \n",
       "[18] \"Lung\"                                 \n",
       "[19] \"Spleen\"                               \n",
       "[20] \"Pancreas\"                             \n",
       "[21] \"Esophagus_Muscularis\"                 \n",
       "[22] \"Esophagus_Mucosa\"                     \n",
       "[23] \"Esophagus_Gastroesophageal_Junction\"  \n",
       "[24] \"Stomach\"                              \n",
       "[25] \"Colon_Sigmoid\"                        \n",
       "[26] \"Small_Intestine_Terminal_Ileum\"       \n",
       "[27] \"Colon_Transverse\"                     \n",
       "[28] \"Prostate\"                             \n",
       "[29] \"Testis\"                               \n",
       "[30] \"Skin_Sun_Exposed_Lower_leg\"           \n",
       "[31] \"Nerve_Tibial\"                         \n",
       "[32] \"Heart_Left_Ventricle\"                 \n",
       "[33] \"Pituitary\"                            \n",
       "[34] \"Brain_Cerebellum\"                     \n",
       "[35] \"Cells_Cultured_fibroblasts\"           \n",
       "[36] \"Artery_Aorta\"                         \n",
       "[37] \"Cells_EBV-transformed_lymphocytes\"    \n",
       "[38] \"Brain_Cerebellar_Hemisphere\"          \n",
       "[39] \"Brain_Caudate_basal_ganglia\"          \n",
       "[40] \"Brain_Nucleus_accumbens_basal_ganglia\"\n",
       "[41] \"Brain_Putamen_basal_ganglia\"          \n",
       "[42] \"Brain_Hypothalamus\"                   \n",
       "[43] \"Brain_Spinal_cord_cervical_c-1\"       \n",
       "[44] \"Liver\"                                \n",
       "[45] \"Brain_Hippocampus\"                    \n",
       "[46] \"Brain_Anterior_cingulate_cortex_BA24\" \n",
       "[47] \"Brain_Substantia_nigra\"               \n",
       "[48] \"Kidney_Cortex\"                        \n",
       "[49] \"Brain_Amygdala\"                       \n",
       "[50] \"Cervix_Ectocervix\"                    \n",
       "[51] \"Fallopian_Tube\"                       \n",
       "[52] \"Cervix_Endocervix\"                    \n",
       "[53] \"Bladder\"                              \n",
       "[54] \"Kidney_Medulla\"                       \n",
       "[55] \"Cells_Leukemia_cell_line_CML\"         "
      ]
     },
     "metadata": {},
     "output_type": "display_data"
    }
   ],
   "source": [
    "tissue_vec_clean"
   ]
  },
  {
   "cell_type": "code",
   "execution_count": 38,
   "metadata": {},
   "outputs": [],
   "source": [
    "# extract the tissue-specific expression profile based on the tissue idx\n",
    "#tissue_vec <- names(idx_list)\n",
    "expression_list <- list()\n",
    "header <- colnames(expression_df)\n",
    "for (i in 1:length(tissue_vec)) {\n",
    "    target_idx <- header %in% idx_list[[tissue_vec[i]]] \n",
    "    #target_idx <- target_idx[which(target_idx == T)]\n",
    "    tissue <- tissue_vec_clean[i]\n",
    "    expression_list[[tissue]] <- as.data.frame(expression_df[, target_idx])\n",
    "    expression_list[[tissue]]$Name <- expression_df$Name\n",
    "    expression_list[[tissue]]$Description <- expression_df$Description\n",
    "    expression_list[[tissue]]$NameClean <- expression_df$NameClean\n",
    "}"
   ]
  },
  {
   "cell_type": "code",
   "execution_count": 39,
   "metadata": {},
   "outputs": [
    {
     "data": {
      "text/html": [
       "<table>\n",
       "<caption>A formattable: 6 × 758</caption>\n",
       "<thead>\n",
       "\t<tr><th scope=col>GTEX-111YS-0006-SM-5NQBE</th><th scope=col>GTEX-1122O-0005-SM-5O99J</th><th scope=col>GTEX-1128S-0005-SM-5P9HI</th><th scope=col>GTEX-113IC-0006-SM-5NQ9C</th><th scope=col>GTEX-113JC-0006-SM-5O997</th><th scope=col>GTEX-117XS-0005-SM-5PNU6</th><th scope=col>GTEX-117YW-0005-SM-5NQ8Z</th><th scope=col>GTEX-1192W-0005-SM-5NQBQ</th><th scope=col>GTEX-1192X-0005-SM-5NQC3</th><th scope=col>GTEX-11DXW-0006-SM-5NQ7Y</th><th scope=col>⋯</th><th scope=col>GTEX-ZVT3-0006-SM-51MT9</th><th scope=col>GTEX-ZVT4-0006-SM-57WB8</th><th scope=col>GTEX-ZVTK-0006-SM-57WBK</th><th scope=col>GTEX-ZVZP-0006-SM-51MSW</th><th scope=col>GTEX-ZVZQ-0006-SM-51MR8</th><th scope=col>GTEX-ZXES-0005-SM-57WCB</th><th scope=col>GTEX-ZXG5-0005-SM-57WCN</th><th scope=col>Name</th><th scope=col>Description</th><th scope=col>NameClean</th></tr>\n",
       "\t<tr><th scope=col>&lt;dbl&gt;</th><th scope=col>&lt;dbl&gt;</th><th scope=col>&lt;dbl&gt;</th><th scope=col>&lt;dbl&gt;</th><th scope=col>&lt;dbl&gt;</th><th scope=col>&lt;dbl&gt;</th><th scope=col>&lt;dbl&gt;</th><th scope=col>&lt;dbl&gt;</th><th scope=col>&lt;dbl&gt;</th><th scope=col>&lt;dbl&gt;</th><th scope=col>⋯</th><th scope=col>&lt;dbl&gt;</th><th scope=col>&lt;dbl&gt;</th><th scope=col>&lt;dbl&gt;</th><th scope=col>&lt;dbl&gt;</th><th scope=col>&lt;dbl&gt;</th><th scope=col>&lt;dbl&gt;</th><th scope=col>&lt;dbl&gt;</th><th scope=col>&lt;chr&gt;</th><th scope=col>&lt;chr&gt;</th><th scope=col>&lt;chr&gt;</th></tr>\n",
       "</thead>\n",
       "<tbody>\n",
       "\t<tr><td>0.02171</td><td>0.03015</td><td>0.0203</td><td> 0.1675</td><td>0.02104</td><td>0.02537</td><td>0.02492</td><td>0.06809</td><td>0.0000</td><td>0.02443</td><td>⋯</td><td>0.000</td><td>0.04858</td><td>0.11450</td><td>0.02417</td><td>0.000</td><td>0.02128</td><td>0.00000</td><td>ENSG00000223972.5</td><td>DDX11L1    </td><td>ENSG00000223972</td></tr>\n",
       "\t<tr><td>1.55500</td><td>2.74700</td><td>4.4410</td><td>10.4700</td><td>1.28700</td><td>3.13800</td><td>4.21700</td><td>2.09800</td><td>0.3579</td><td>4.26200</td><td>⋯</td><td>1.504</td><td>3.19400</td><td>2.90600</td><td>3.43000</td><td>4.169</td><td>2.74300</td><td>6.07200</td><td>ENSG00000227232.5</td><td>WASH7P     </td><td>ENSG00000227232</td></tr>\n",
       "\t<tr><td>0.00000</td><td>0.00000</td><td>0.0000</td><td> 0.0000</td><td>0.00000</td><td>0.00000</td><td>0.00000</td><td>0.00000</td><td>0.0000</td><td>0.62120</td><td>⋯</td><td>0.000</td><td>0.00000</td><td>0.00000</td><td>0.00000</td><td>0.000</td><td>0.00000</td><td>0.61120</td><td>ENSG00000278267.1</td><td>MIR6859-1  </td><td>ENSG00000278267</td></tr>\n",
       "\t<tr><td>0.00000</td><td>0.00000</td><td>0.0000</td><td> 0.0000</td><td>0.00000</td><td>0.00000</td><td>0.00000</td><td>0.04532</td><td>0.0000</td><td>0.00000</td><td>⋯</td><td>0.000</td><td>0.09698</td><td>0.11430</td><td>0.00000</td><td>0.000</td><td>0.00000</td><td>0.00000</td><td>ENSG00000243485.5</td><td>MIR1302-2HG</td><td>ENSG00000243485</td></tr>\n",
       "\t<tr><td>0.00000</td><td>0.00000</td><td>0.0576</td><td> 0.0000</td><td>0.00000</td><td>0.00000</td><td>0.00000</td><td>0.00000</td><td>0.0000</td><td>0.00000</td><td>⋯</td><td>0.000</td><td>0.00000</td><td>0.04058</td><td>0.00000</td><td>0.000</td><td>0.00000</td><td>0.00000</td><td>ENSG00000237613.2</td><td>FAM138A    </td><td>ENSG00000237613</td></tr>\n",
       "\t<tr><td>0.00000</td><td>0.12410</td><td>0.0000</td><td> 0.0000</td><td>0.00000</td><td>0.00000</td><td>0.05129</td><td>0.00000</td><td>0.0000</td><td>0.00000</td><td>⋯</td><td>0.000</td><td>0.00000</td><td>0.00000</td><td>0.04975</td><td>0.000</td><td>0.00000</td><td>0.04948</td><td>ENSG00000268020.3</td><td>OR4G4P     </td><td>ENSG00000268020</td></tr>\n",
       "</tbody>\n",
       "</table>\n"
      ],
      "text/latex": [
       "A formattable: 6 × 758\n",
       "\\begin{tabular}{r|llllllllllllllllllllllllllllllllllllllllllllllllllllllllllllllllllllllllllllllllllllllllllllllllllllllllllllllllllllllllllllllllllllllllllllllllllllllllllllllllllllllllllllllllllllllllllllllllllllllllllllllllllllllllllllllllllllllllllllllllllllllllllllllllllllllllllllllllllllllllllllllllllllllllllllllllllllllllllllllllllllllllllllllllllllllllllllllllllllllllllllllllllllllllllllllllllllllllllllllllllllllllllllllllllllllllllllllllllllllllllllllllllllllllllllllllllllllllllllllllllllllllllllllllllllllllllllllllllllllllllllllllllllllllllllllllllllllllllllllllllllllllllllllllllllllllllllllllllllllllllllllllllllllllllllllllllllllllllllllllllllllllllllllllllllllllllllllllllllllllllllllllllllllllllllllllllllllllllllllllllllllllllllllllllllllllllllllllllllll}\n",
       " GTEX-111YS-0006-SM-5NQBE & GTEX-1122O-0005-SM-5O99J & GTEX-1128S-0005-SM-5P9HI & GTEX-113IC-0006-SM-5NQ9C & GTEX-113JC-0006-SM-5O997 & GTEX-117XS-0005-SM-5PNU6 & GTEX-117YW-0005-SM-5NQ8Z & GTEX-1192W-0005-SM-5NQBQ & GTEX-1192X-0005-SM-5NQC3 & GTEX-11DXW-0006-SM-5NQ7Y & GTEX-11DXX-0005-SM-5NQ8B & GTEX-11DXY-0006-SM-5NQ8N & GTEX-11DXZ-0006-SM-5LZZH & GTEX-11DYG-0006-SM-5NQB2 & GTEX-11EI6-0005-SM-5N9GN & GTEX-11EM3-0005-SM-5N9DK & GTEX-11EMC-0006-SM-5O9DN & GTEX-11EQ8-0006-SM-5P9HJ & GTEX-11EQ9-0006-SM-5LUB6 & GTEX-11GS4-0006-SM-5SI9M & GTEX-11GSO-0005-SM-5O9CA & GTEX-11GSP-0006-SM-5N9EL & GTEX-11I78-0005-SM-5N9GB & GTEX-11LCK-0005-SM-5O98U & GTEX-11NUK-0005-SM-5MR5F & GTEX-11NV4-0005-SM-5N9EX & GTEX-11O72-0006-SM-5O9DB & GTEX-11OC5-0006-SM-5N9FA & GTEX-11OF3-0006-SM-5O9CM & GTEX-11ONC-0005-SM-5O9CY & GTEX-11P7K-0006-SM-5N9FM & GTEX-11P81-0006-SM-5NQ7A & GTEX-11P82-0006-SM-5N9FY & GTEX-11PRG-0005-SM-5NQ6X & GTEX-11TT1-0005-SM-5NQ8Y & GTEX-11TTK-0005-SM-5O9BX & GTEX-11TUW-0006-SM-5LZW2 & GTEX-11UD2-0005-SM-5NQ9B & GTEX-11VI4-0006-SM-5N9D8 & GTEX-11WQC-0006-SM-5LZVP & GTEX-11WQK-0005-SM-5O9AV & GTEX-11XUK-0005-SM-5LU9F & GTEX-11ZTS-0005-SM-5NQ8A & GTEX-11ZTT-0006-SM-5N9FX & GTEX-11ZU8-0005-SM-5PNU5 & GTEX-11ZUS-0006-SM-5O9AJ & GTEX-11ZVC-0006-SM-5N9GA & GTEX-1211K-0006-SM-5MR53 & GTEX-12126-0006-SM-5O9B8 & GTEX-1212Z-0006-SM-5NQ8M & GTEX-12584-0005-SM-5N9GM & GTEX-12696-0005-SM-5LZYS & GTEX-1269C-0005-SM-5N9CJ & GTEX-12BJ1-0006-SM-5SIB5 & GTEX-12C56-0006-SM-5N9E9 & GTEX-12KS4-0005-SM-5SI94 & GTEX-12WSC-0005-SM-5MR3H & GTEX-12WSD-0005-SM-5N9FZ & GTEX-12WSE-0005-SM-5NQAE & GTEX-12WSF-0005-SM-5NQAQ & GTEX-12WSG-0005-SM-5NQA2 & GTEX-12WSH-0005-SM-5NQ9P & GTEX-12WSI-0005-SM-5O99K & GTEX-12WSJ-0005-SM-5LU8S & GTEX-12WSK-0006-SM-5NQA1 & GTEX-12WSL-0005-SM-5NQAD & GTEX-12WSM-0005-SM-5NQB3 & GTEX-12WSN-0006-SM-5NQAP & GTEX-12ZZW-0005-SM-5O9BY & GTEX-12ZZX-0005-SM-5O9A9 & GTEX-13111-0005-SM-5NQ7Z & GTEX-13113-0006-SM-5NQ7X & GTEX-1313W-0006-SM-5O9B1 & GTEX-1314G-0005-SM-5NQ9O & GTEX-131XE-0006-SM-5P9F9 & GTEX-131XF-0006-SM-5P9HK & GTEX-131XG-0006-SM-5O9CE & GTEX-131XH-0006-SM-5O98V & GTEX-131XW-0006-SM-5O9AO & GTEX-131YS-0005-SM-5NQAS & GTEX-132AR-0006-SM-5NQ7N & GTEX-132NY-0005-SM-5O9AC & GTEX-132Q8-0006-SM-5NQA4 & GTEX-132QS-0005-SM-5LZXK & GTEX-1339X-0005-SM-5O9CQ & GTEX-1399R-0006-SM-5N9FR & GTEX-1399S-0006-SM-5NQ7U & GTEX-1399U-0005-SM-5NQ8K & GTEX-139D8-0006-SM-5LZX8 & GTEX-139T6-0006-SM-5LU92 & GTEX-139T8-0006-SM-5NQ6V & GTEX-139TS-0005-SM-5NQC1 & GTEX-139TT-0006-SM-5O9CG & GTEX-139TU-0006-SM-5LZVN & GTEX-139UW-0005-SM-5NQ8U & GTEX-13CF2-0006-SM-5O99L & GTEX-13CF3-0006-SM-5N9ED & GTEX-13CIG-0006-SM-5P9HF & GTEX-13CZU-0005-SM-5LU8K & GTEX-13FTW-0005-SM-5LZVZ & GTEX-13FTX-0005-SM-5N9F6 & GTEX-13FTY-0005-SM-5NQ78 & GTEX-13FTZ-0005-SM-5NQ9N & GTEX-13FXS-0006-SM-5O99X & GTEX-13G51-0005-SM-5N9EP & GTEX-13JUV-0006-SM-5NQ97 & GTEX-13O61-0005-SM-5O9AU & GTEX-13OVG-0005-SM-5P9HA & GTEX-13OVH-0005-SM-5P9HB & GTEX-13OVI-0001-SM-5O9BL & GTEX-13OVJ-0006-SM-5O98T & GTEX-13OVK-0006-SM-5O9B7 & GTEX-13OVL-0006-SM-5O996 & GTEX-13OW6-0005-SM-5NQ9Z & GTEX-13OW8-0005-SM-5NQAC & GTEX-13PL7-0005-SM-5N9ET & GTEX-13PLJ-0005-SM-5NQ99 & GTEX-13S7M-0005-SM-5NQ76 & GTEX-13S86-0005-SM-5NQ7I & GTEX-13SLX-0005-SM-CM2RF & GTEX-13U4I-0006-SM-5N9CI & GTEX-13VXT-0005-SM-5N9F3 & GTEX-13VXU-0006-SM-5N9FF & GTEX-13W3W-0005-SM-5SI9Y & GTEX-1477Z-0005-SM-5PNWD & GTEX-147F3-0005-SM-5N9FI & GTEX-147F4-0006-SM-5O99T & GTEX-147GR-0005-SM-5NQAO & GTEX-147JS-0006-SM-5NQ7K & GTEX-148VI-0006-SM-5O9A6 & GTEX-148VJ-0006-SM-5NQB1 & GTEX-1497J-0005-SM-5NQBD & GTEX-14A5H-0006-SM-5O9AI & GTEX-14A5I-0005-SM-5N9FU & GTEX-14A6H-0006-SM-5NQ7W & GTEX-14ABY-0005-SM-5O99U & GTEX-14AS3-0006-SM-5NQC2 & GTEX-14B4R-0006-SM-5O9A7 & GTEX-14BIL-0006-SM-5N9F2 & GTEX-14BIM-0006-SM-5O9AA & GTEX-14BIN-0005-SM-5N9FE & GTEX-14BMU-0006-SM-5MR3T & GTEX-14BMV-0005-SM-5NQ6Y & GTEX-14C38-0006-SM-5NQBF & GTEX-14C39-0005-SM-5NQBR & GTEX-14C5O-0005-SM-5P9ER & GTEX-14DAQ-0005-SM-5NQ7B & GTEX-14DAR-0006-SM-5N9GC & GTEX-14E1K-0006-SM-5N9DY & GTEX-14E6C-0005-SM-5O98N & GTEX-14E6D-0005-SM-5N9D7 & GTEX-14E6E-0006-SM-5MR5N & GTEX-14E7W-0006-SM-5N9GG & GTEX-14H4A-0006-SM-5N9E3 & GTEX-14ICK-0006-SM-5NQB5 & GTEX-14ICL-0006-SM-5SIAB & GTEX-14JFF-0005-SM-7P8RF & GTEX-14JG1-0006-SM-7SB6P & GTEX-14JG6-0005-SM-9JGFV & GTEX-14JIY-0005-SM-7MXVF & GTEX-14LLW-0006-SM-9QEGG & GTEX-14LZ3-0005-SM-7MXUG & GTEX-14PHW-0005-SM-9KNTK & GTEX-14PHY-0006-SM-7SB7I & GTEX-14PII-0005-SM-7RHFV & GTEX-14PJ2-0005-SM-9JGFU & GTEX-14PJ3-0005-SM-9JGFT & GTEX-14PJ4-0006-SM-7RHFY & GTEX-14PJ5-0005-SM-9MQLO & GTEX-14PJ6-0006-SM-7P8RE & GTEX-14PJM-0006-SM-9JGHA & GTEX-14PJN-0005-SM-9JGGF & GTEX-14PJO-0005-SM-9JGGY & GTEX-14PJP-0005-SM-7P8OM & GTEX-14PK6-0006-SM-7PC1L & GTEX-14PKU-0005-SM-9KNTL & GTEX-14PKV-0006-SM-9MQL3 & GTEX-14PN3-0006-SM-7SB6O & GTEX-14PN4-0005-SM-7PC21 & GTEX-14PQA-0006-SM-7PC2D & GTEX-14XAO-0006-SM-7RHFX & GTEX-15CHC-0006-SM-7P8RG & GTEX-15CHQ-0005-SM-7P8RH & GTEX-15CHR-0005-SM-9KNUS & GTEX-15D1Q-0006-SM-9KNTN & GTEX-15D79-0005-SM-7P8TS & GTEX-15DCD-0006-SM-7RHG4 & GTEX-15DCE-0005-SM-7SB7J & GTEX-15DYW-0006-SM-7RHFR & GTEX-15DZA-0005-SM-9JGFP & GTEX-15EO6-0005-SM-7PBZC & GTEX-15ETS-0005-SM-9KNTJ & GTEX-15EU6-0005-SM-7P8RJ & GTEX-15G19-0006-SM-9KNW6 & GTEX-15G1A-0006-SM-7PC1Z & GTEX-15RIE-0006-SM-7MKF8 & GTEX-15RIF-0005-SM-7RHGH & GTEX-15RIG-0006-SM-7PC1N & GTEX-15RJ7-0006-SM-7RHHM & GTEX-15RJE-0006-SM-7PC1J & GTEX-15SB6-0005-SM-7P8OO & GTEX-15SDE-0006-SM-7PC19 & GTEX-16AAH-0005-SM-7P8RD & GTEX-16BQI-0006-SM-7SB6K & GTEX-16MT8-0005-SM-7PBYO & GTEX-16MT9-0006-SM-7MXTU & GTEX-16MTA-0005-SM-7RHFT & GTEX-16NGA-0006-SM-9JGFQ & GTEX-16NPV-0005-SM-7PC2F & GTEX-16NPX-0005-SM-7MKGG & GTEX-16XZY-0006-SM-7SB99 & GTEX-16XZZ-0006-SM-7MKF5 & GTEX-16YQH-0006-SM-7P8OQ & GTEX-16Z82-0005-SM-7PBXZ & GTEX-178AV-0005-SM-9JGFM & GTEX-17EUY-0006-SM-7P8SB & GTEX-17EVP-0005-SM-7P8RC & GTEX-17EVQ-0006-SM-7MGWB & GTEX-17GQL-0005-SM-7MKF4 & GTEX-17HG3-0006-SM-7MKFE & GTEX-17HGU-0006-SM-7MXT8 & GTEX-17HHE-0005-SM-7P8OT & GTEX-17HHY-0006-SM-7MXT4 & GTEX-17HII-0005-SM-7MKF6 & GTEX-17JCI-0005-SM-7P8OL & GTEX-17KNJ-0005-SM-7PBYB & GTEX-17MFQ-0006-SM-7PBXP & GTEX-183FY-0005-SM-9KNTO & GTEX-183WM-0005-SM-9JGFW & GTEX-18465-0006-SM-7SB6R & GTEX-18A66-0005-SM-7SB6U & GTEX-18A67-0006-SM-7SB6T & GTEX-18A6Q-0005-SM-9KNVX & GTEX-18A7A-0006-SM-7PC1P & GTEX-18A7B-0005-SM-7PC1D & GTEX-18D9A-0005-SM-7SB7H & GTEX-18D9B-0005-SM-7PBYL & GTEX-18D9U-0006-SM-7SB6M & GTEX-18QFQ-0006-SM-7SB6X & GTEX-1A32A-0006-SM-7PC1Y & GTEX-1A3MV-0005-SM-7PC1O & GTEX-1A3MW-0006-SM-7MKGU & GTEX-1A3MX-0005-SM-7MGW7 & GTEX-1A8FM-0006-SM-7MGWI & GTEX-1A8G6-0006-SM-7PC1X & GTEX-1A8G7-0006-SM-7P8RM & GTEX-1AMEY-0005-SM-7PBYK & GTEX-1AMFI-0006-SM-9KNTQ & GTEX-1AX8Z-0006-SM-9KNVB & GTEX-1AX9I-0005-SM-9MQKI & GTEX-1AX9J-0005-SM-9MQKU & GTEX-1AX9K-0006-SM-9KNVP & GTEX-1AYCT-0005-SM-7SB6V & GTEX-1AYD5-0005-SM-7SB6L & GTEX-1B8KE-0006-SM-7SB6W & GTEX-1B8KZ-0006-SM-7MXTJ & GTEX-1B8L1-0005-SM-9MQK6 & GTEX-1B8SF-0005-SM-7MGVK & GTEX-1B8SG-0006-SM-7MKFA & GTEX-1B932-0005-SM-9KNTP & GTEX-1B933-0006-SM-7P8OP & GTEX-1B97I-0005-SM-7PC1M & GTEX-1B97J-0005-SM-7MXT5 & GTEX-1B996-0006-SM-7P8OS & GTEX-1BAJH-0005-SM-7PC1R & GTEX-1C2JI-0006-SM-7PC3Q & GTEX-1C475-0006-SM-9MQL7 & GTEX-1C4CL-0005-SM-7MKF3 & GTEX-1C64N-0005-SM-7PBY7 & GTEX-1C64O-0006-SM-7PC22 & GTEX-1C6VQ-0005-SM-7P8OR & GTEX-1C6VR-0005-SM-7MKF7 & GTEX-1C6VS-0005-SM-7MGWG & GTEX-1CAMR-0006-SM-ACKV5 & GTEX-1CAMS-0005-SM-ARL6Y & GTEX-1CB4E-0005-SM-ADEGS & GTEX-1CB4G-0006-SM-AHZ22 & GTEX-1CB4H-0006-SM-A96RE & GTEX-1CB4I-0006-SM-A96RF & GTEX-1CB4J-0006-SM-ACKV6 & GTEX-1E1VI-0005-SM-ARU6H & GTEX-1E2YA-0006-SM-AHZ23 & GTEX-1EH9U-0005-SM-ACKV3 & GTEX-1EKGG-0005-SM-AHZ1Z & GTEX-1EMGI-0006-SM-ACKVA & GTEX-1EN7A-0006-SM-AHZ4O & GTEX-1EU9M-0006-SM-ARU6I & GTEX-1EWIQ-0005-SM-ADEHB & GTEX-1EX96-0006-SM-ARU6J & GTEX-1F48J-0006-SM-ARL6W & GTEX-1F52S-0006-SM-ARL6X & GTEX-1F5PK-0005-SM-A96RM & GTEX-1F6I4-0005-SM-ARZKZ & GTEX-1F6IF-0005-SM-ARU6K & GTEX-1F75I-0005-SM-ADEHC & GTEX-1F75W-0005-SM-A9SMP & GTEX-1F7RK-0006-SM-ACKV4 & GTEX-1F88F-0005-SM-A9SK2 & GTEX-1GF9U-0005-SM-A9SK1 & GTEX-1GF9V-0006-SM-A96RD & GTEX-1GF9W-0006-SM-ARZL1 & GTEX-1GF9X-0005-SM-A9G3R & GTEX-1GMR2-0005-SM-ADEH3 & GTEX-1GMR3-0005-SM-ADEGR & GTEX-1GMR8-0005-SM-ARZL2 & GTEX-1GMRU-0006-SM-AHZ21 & GTEX-1GN1U-0006-SM-ARU6G & GTEX-1GN1V-0006-SM-ADEHD & GTEX-1GN1W-0006-SM-A9SKL & GTEX-1GN2E-0005-SM-ARU6L & GTEX-1GN73-0005-SM-ACKVI & GTEX-1GPI6-0005-SM-ADEGT & GTEX-1GPI7-0005-SM-A9G13 & GTEX-1GTWX-0006-SM-ARZL3 & GTEX-1GZ2Q-0005-SM-ARL71 & GTEX-1GZ4H-0005-SM-ARZL7 & GTEX-1GZHY-0005-SM-ARZL6 & GTEX-1H11D-0005-SM-ACKV7 & GTEX-1H1CY-0005-SM-A9G15 & GTEX-1H1DE-0005-SM-A9SK4 & GTEX-1H1DF-0005-SM-ADEGU & GTEX-1H1DG-0006-SM-ARZL4 & GTEX-1H1E6-0005-SM-ARZL5 & GTEX-1H23P-0005-SM-A9G14 & GTEX-1H3NZ-0005-SM-A96RG & GTEX-1H3O1-0005-SM-ACKV8 & GTEX-1H4P4-0006-SM-AHZ24 & GTEX-1HB9E-0006-SM-ARU6M & GTEX-1HBPI-0005-SM-ARZLB & GTEX-1HBPM-0006-SM-A9SKK & GTEX-1HC8U-0005-SM-ADEGV & GTEX-1HCU6-0005-SM-AHZ28 & GTEX-1HCU7-0006-SM-A9G19 & GTEX-1HCU8-0005-SM-A96RL & GTEX-1HCU9-0005-SM-A9G1A & GTEX-1HCUA-0006-SM-ACKV9 & GTEX-1HCVE-0006-SM-ADEH2 & GTEX-1HFI6-0005-SM-A9SK6 & GTEX-1HFI7-0005-SM-ADEH1 & GTEX-1HKZK-0005-SM-ARL73 & GTEX-1HR98-0005-SM-A9SKM & GTEX-1HR9M-0005-SM-AHZ26 & GTEX-1HSGN-0006-SM-ACKVH & GTEX-1HSKV-0006-SM-ARZL9 & GTEX-1HSMO-0005-SM-ADEGW & GTEX-1HSMP-0006-SM-AHZ25 & GTEX-1HSMQ-0006-SM-ARU6N & GTEX-1HT8W-0006-SM-A9G17 & GTEX-1HUB1-0005-SM-ARL74 & GTEX-1I19N-0006-SM-A9G18 & GTEX-1I1CD-0005-SM-ADEGY & GTEX-1I1GP-0006-SM-A96RJ & GTEX-1I1GQ-0005-SM-ARU6O & GTEX-1I1GR-0006-SM-ARL75 & GTEX-1I1GS-0005-SM-DHXIW & GTEX-1I1GT-0005-SM-A9SK5 & GTEX-1I1GV-0005-SM-AHZ27 & GTEX-1I1HK-0005-SM-ARZL8 & GTEX-1I4MK-0006-SM-A96RI & GTEX-1I6K6-0006-SM-ARZLA & GTEX-1I6K7-0005-SM-ARL72 & GTEX-1ICG6-0006-SM-A96RH & GTEX-1ICLY-0005-SM-A9G16 & GTEX-1IDFM-0005-SM-ADEGX & GTEX-1IDJC-0005-SM-A9G1C & GTEX-1IDJD-0006-SM-ARZLC & GTEX-1IDJE-0006-SM-A9G1B & GTEX-1IDJF-0005-SM-ARU6P & GTEX-1IDJH-0006-SM-CMKFT & GTEX-1IDJI-0006-SM-CMKFJ & GTEX-1IDJU-0006-SM-CMKFK & GTEX-1IE54-0005-SM-CMKFQ & GTEX-1IGQW-0005-SM-CMKFR & GTEX-1IKJJ-0005-SM-CMKFS & GTEX-1IKK5-0006-SM-CMKFI & GTEX-1IKOE-0005-SM-CMKFL & GTEX-1IKOH-0006-SM-CMKFM & GTEX-1IL2U-0006-SM-CMKFP & GTEX-1IL2V-0006-SM-CMKFN & GTEX-1IOXB-0006-SM-CMKFO & GTEX-1IY9M-0005-SM-CNNOU & GTEX-1J8EW-0006-SM-CNNOW & GTEX-1J8JJ-0006-SM-CNNOX & GTEX-1J8Q2-0006-SM-CNNOZ & GTEX-1J8Q3-0005-SM-CNNOY & GTEX-1J8QM-0006-SM-CNNP1 & GTEX-1JJ6O-0005-SM-DHXJ4 & GTEX-1JJE9-0006-SM-CGQEB & GTEX-1JJEA-0006-SM-DHXJ2 & GTEX-1JK1U-0006-SM-DHXJ3 & GTEX-1JKYN-0006-SM-DHXJ5 & GTEX-1JKYR-0005-SM-DHXL5 & GTEX-1JMLX-0006-SM-DHXJ6 & GTEX-1JMOU-0006-SM-DHXJ7 & GTEX-1JMPY-0006-SM-DHXJ8 & GTEX-1JMPZ-0006-SM-DHXJ9 & GTEX-1JMQI-0005-SM-DHXJA & GTEX-1JMQJ-0006-SM-DHXJD & GTEX-1JMQK-0005-SM-CNPOE & GTEX-1JMQL-0006-SM-DHXJB & GTEX-1JN1M-0006-SM-DHXJE & GTEX-1JN6P-0005-SM-DIPEH & GTEX-1JN76-0005-SM-EAZ3B & GTEX-1K2DA-0005-SM-DIPE7 & GTEX-1K2DU-0005-SM-DIPE8 & GTEX-1K9T9-0006-SM-DIPE9 & GTEX-1KAFJ-0006-SM-9WPO1 & GTEX-1KANA-0006-SM-9YFLB & GTEX-1KANB-0006-SM-DIPE6 & GTEX-1KANC-0006-SM-9YFL8 & GTEX-1KD4Q-0006-SM-DIPEA & GTEX-1KD5A-0006-SM-DIPEB & GTEX-1KWVE-0005-SM-CYPSE & GTEX-1KXAM-0005-SM-DIPEC & GTEX-1L5NE-0005-SM-DIPEG & GTEX-1LB8K-0005-SM-DIPED & GTEX-1LBAC-0005-SM-DIPEE & GTEX-1LC47-0005-SM-COH2J & GTEX-1LG7Y-0005-SM-DKPQ7 & GTEX-1LG7Z-0005-SM-DKPQ6 & GTEX-1LGOU-0005-SM-DKPPW & GTEX-1LGRB-0006-SM-DKPPB & GTEX-1LH75-0006-SM-CXZIP & GTEX-1LKK1-0005-SM-CXZIT & GTEX-1LNCM-0005-SM-CXZIR & GTEX-1LSNL-0006-SM-CXZIV & GTEX-1LSNM-0005-SM-CXZIW & GTEX-1LSVX-0005-SM-DKPPI & GTEX-1LVA9-0006-SM-DKPPN & GTEX-1LVAM-0005-SM-CXZJ4 & GTEX-1LVAN-0005-SM-DKPPM & GTEX-1LVAO-0006-SM-CXZIU & GTEX-1M4P7-0005-SM-CXZIS & GTEX-1M5QR-0005-SM-DKPPP & GTEX-1MA7W-0006-SM-DKPPR & GTEX-1MA7X-0006-SM-CXZJ6 & GTEX-1MCC2-0006-SM-DKPPJ & GTEX-1MCQQ-0005-SM-DKPPV & GTEX-1MCYP-0005-SM-DKPPK & GTEX-1MGNQ-0005-SM-CXZJ1 & GTEX-1MJIX-0006-SM-DKPPU & GTEX-1MJK2-0006-SM-CXZIN & GTEX-1MJK3-0006-SM-DKPP9 & GTEX-1MUQO-0005-SM-DKPPT & GTEX-1N2DW-0006-SM-DKPP4 & GTEX-1N2EE-0005-SM-DKPP5 & GTEX-1N2EF-0005-SM-CXZIL & GTEX-1N5O9-0006-SM-DKPPS & GTEX-1NHNU-0005-SM-DKPP3 & GTEX-1NSGN-0005-SM-DKPPX & GTEX-1NUQO-0005-SM-DKPP2 & GTEX-1NV8Z-0005-SM-DKPQ3 & GTEX-1O97I-0005-SM-DKPPY & GTEX-1O9I2-0005-SM-DKPQ1 & GTEX-1OFPY-0005-SM-DKPPZ & GTEX-1OJC3-0006-SM-DKPP1 & GTEX-1OJC4-0005-SM-DKPQ4 & GTEX-1OKEX-0006-SM-DKPQ2 & GTEX-1P4AB-0005-SM-CY8GM & GTEX-1PBJI-0005-SM-CJI1Y & GTEX-1PBJJ-0005-SM-CKZND & GTEX-1PDJ9-0006-SM-CY8GN & GTEX-1PFEY-0005-SM-CY8GO & GTEX-1PIEJ-0005-SM-DLZQL & GTEX-1PIGE-0005-SM-DLZQM & GTEX-1PIIG-0006-SM-DLZQF & GTEX-1POEN-0005-SM-DLZQN & GTEX-1PPH6-0005-SM-DLZQP & GTEX-1PPH7-0005-SM-CKZNE & GTEX-1PPH8-0006-SM-CY8GS & GTEX-1PWST-0005-SM-DLZQC & GTEX-1QAET-0006-SM-DLZQQ & GTEX-1QCLY-0005-SM-DLZQS & GTEX-1QCLZ-0006-SM-CY8GW & GTEX-1QEPI-0006-SM-CY8GY & GTEX-1QMI2-0006-SM-CY8H1 & GTEX-1QP28-0006-SM-DLZQW & GTEX-1QP29-0005-SM-DLZQX & GTEX-1QP66-0005-SM-CY8H4 & GTEX-1QP67-0006-SM-CY8H5 & GTEX-1QP9N-0005-SM-CY8H9 & GTEX-1QPFJ-0006-SM-CY8HB & GTEX-1QW4Y-0005-SM-DO93W & GTEX-1R46S-0006-SM-DO93Y & GTEX-1R7EU-0006-SM-DO93C & GTEX-1R7EV-0005-SM-DO938 & GTEX-1R9JW-0002-SM-DO93B & GTEX-1R9K4-0006-SM-CYPRM & GTEX-1R9K5-0006-SM-DO939 & GTEX-1R9PM-0006-SM-CYPTI & GTEX-1R9PN-0006-SM-DTX7L & GTEX-1R9PO-0006-SM-DO937 & GTEX-1RAZA-0006-SM-CKZO9 & GTEX-1RAZQ-0005-SM-DO93U & GTEX-1RAZR-0006-SM-DLHBR & GTEX-1RAZS-0005-SM-DO93D & GTEX-1RB15-0005-SM-CL53N & GTEX-1RDX4-0005-SM-DLHBS & GTEX-1RLM8-0005-SM-DO121 & GTEX-1RMOY-0005-SM-DO11X & GTEX-1RNTQ-0006-SM-CYPRG & GTEX-1RQEC-0006-SM-CL542 & GTEX-1RQED-0005-SM-DO11Z & GTEX-1S3DN-0006-SM-DO127 & GTEX-1S5VW-0005-SM-CYPS4 & GTEX-1S5ZA-0005-SM-CYPS2 & GTEX-1S5ZU-0005-SM-CYPS3 & GTEX-1S82P-0005-SM-CM2RX & GTEX-1S82U-0005-SM-CYPRW & GTEX-1S82Y-0005-SM-DO123 & GTEX-1S82Z-0006-SM-DLHC5 & GTEX-1S831-0006-SM-DLHC1 & GTEX-1S83E-0006-SM-DLHBW & GTEX-N7MS-0007-SM-2D7W1 & GTEX-N7MT-0007-SM-3GACQ & GTEX-NFK9-0006-SM-3GACS & GTEX-NPJ7-0006-SM-3GACR & GTEX-NPJ8-0007-SM-2D7VX & GTEX-O5YT-0007-SM-32PK7 & GTEX-O5YW-0006-SM-3LK6E & GTEX-OHPK-0006-SM-2HMKH & GTEX-OHPL-0006-SM-3MJHB & GTEX-OHPM-0006-SM-2HMKU & GTEX-OHPN-0005-SM-2YUML & GTEX-OIZF-0006-SM-2I5GQ & GTEX-OIZH-0005-SM-2HMJN & GTEX-OIZI-0005-SM-2XCED & GTEX-OOBJ-0006-SM-2I3F4 & GTEX-OOBK-0005-SM-2YUMG & GTEX-OXRL-0005-SM-3LK6A & GTEX-OXRO-0006-SM-2I5EM & GTEX-OXRP-0006-SM-2I3FN & GTEX-P44G-0006-SM-2TC6A & GTEX-P44H-0006-SM-2XCFB & GTEX-P4PP-0005-SM-2HMKX & GTEX-P4PQ-0005-SM-2HMKJ & GTEX-P4QS-0005-SM-2I3EY & GTEX-P78B-0005-SM-2I5GM & GTEX-PLZ4-0006-SM-CYPR7 & GTEX-PLZ5-0006-SM-DIPE2 & GTEX-PLZ6-0006-SM-33HBZ & GTEX-POMQ-0006-SM-5SI7D & GTEX-POYW-0006-SM-2XCF4 & GTEX-PSDG-0005-SM-3GADC & GTEX-PVOW-0006-SM-3NMB8 & GTEX-PW2O-0006-SM-2I3DV & GTEX-PWCY-0005-SM-DHXL3 & GTEX-PWN1-0006-SM-CYPR2 & GTEX-PX3G-0006-SM-5SI7E & GTEX-Q2AG-0005-SM-5SI7F & GTEX-Q2AH-0005-SM-33HBR & GTEX-Q2AI-0006-SM-2I3FG & GTEX-Q734-0006-SM-2I3FJ & GTEX-QCQG-0006-SM-DIPE5 & GTEX-QDT8-0006-SM-CXZJC & GTEX-QDVJ-0005-SM-2TC5X & GTEX-QDVN-0006-SM-48U1R & GTEX-QEG4-0006-SM-2I5FY & GTEX-QEG5-0006-SM-2I5FZ & GTEX-QESD-0006-SM-2I5G6 & GTEX-QLQ7-0005-SM-2S1QP & GTEX-QLQW-0005-SM-2S1RA & GTEX-QMR6-0005-SM-32PKY & GTEX-QMRM-0005-SM-3NB2A & GTEX-QV31-0006-SM-793B5 & GTEX-QVJO-0006-SM-2S1RC & GTEX-QVUS-0006-SM-3GAE8 & GTEX-QXCU-0006-SM-2TC5K & GTEX-R3RS-0005-SM-3GAEH & GTEX-R45C-0006-SM-3GAD6 & GTEX-R53T-0005-SM-3GADK & GTEX-R55C-0005-SM-3GAE9 & GTEX-R55D-0006-SM-3GIJS & GTEX-R55E-0006-SM-2TC5G & GTEX-R55G-0006-SM-2TC6O & GTEX-REY6-0005-SM-2TF54 & GTEX-RM2N-0006-SM-2TF5H & GTEX-RN64-0005-SM-793B4 & GTEX-RNOR-0005-SM-2TF4Z & GTEX-RTLS-0006-SM-2TF58 & GTEX-RU1J-0006-SM-2TF6M & GTEX-RU72-0006-SM-2TF65 & GTEX-RUSQ-0006-SM-2TF6P & GTEX-RVPV-0006-SM-2TF6Q & GTEX-RWS6-0005-SM-2XCAN & GTEX-RWSA-0005-SM-2XCAO & GTEX-S32W-0006-SM-2XCAK & GTEX-S33H-0005-SM-2XCAL & GTEX-S341-0006-SM-3NM8D & GTEX-S7PM-0006-SM-3NM8C & GTEX-S7SE-0005-SM-2XCEA & GTEX-S95S-0005-SM-2XCEC & GTEX-SE5C-0006-SM-4BRW5 & GTEX-SIU8-0006-SM-2XCE5 & GTEX-SJXC-0005-SM-2XCE7 & GTEX-SN8G-0006-SM-32PLD & GTEX-SNMC-0006-SM-2XCFE & GTEX-SNOS-0006-SM-32PLH & GTEX-SSA3-0005-SM-32QOT & GTEX-SUCS-0006-SM-4DM59 & GTEX-T2YK-0005-SM-32QOV & GTEX-T5JC-0006-SM-EZ6L9 & GTEX-T5JW-0005-SM-3GADE & GTEX-T6MN-0005-SM-32PLJ & GTEX-T6MO-0006-SM-32QOU & GTEX-T8EM-0006-SM-3DB71 & GTEX-TKQ1-0006-SM-33HBI & GTEX-TKQ2-0006-SM-33HBH & GTEX-TML8-0005-SM-32QPA & GTEX-TMMY-0005-SM-33HBN & GTEX-TMZS-0006-SM-3DB8G & GTEX-TSE9-0005-SM-4DXUF & GTEX-U3ZG-0006-SM-47JWX & GTEX-U3ZH-0005-SM-3DB72 & GTEX-U3ZN-0006-SM-3DB7Y & GTEX-U4B1-0006-SM-3DB8E & GTEX-U8T8-0005-SM-3DB8F & GTEX-U8XE-0005-SM-3DB8I & GTEX-UJHI-0006-SM-3DB8H & GTEX-UJMC-0005-SM-3GACU & GTEX-UPJH-0006-SM-3GACW & GTEX-UPK5-0006-SM-3GAD8 & GTEX-UTHO-0006-SM-3NMCC & GTEX-V1D1-0006-SM-3NMCE & GTEX-V955-0005-SM-3P5ZC & GTEX-VJWN-0005-SM-3GIKF & GTEX-VJYA-0005-SM-3P5ZD & GTEX-VUSG-0006-SM-3GIK9 & GTEX-VUSH-0005-SM-3NB2H & GTEX-W5WG-0006-SM-3GIJT & GTEX-W5X1-0006-SM-3GIJZ & GTEX-WCDI-0005-SM-3NB2M & GTEX-WEY5-0006-SM-3GIKG & GTEX-WFG7-0005-SM-3GIKM & GTEX-WFG8-0006-SM-3GIKS & GTEX-WFJO-0005-SM-3GIKY & GTEX-WFON-0005-SM-3NMC9 & GTEX-WH7G-0005-SM-3NMBX & GTEX-WHPG-0006-SM-3NMBV & GTEX-WHSB-0005-SM-3LK7C & GTEX-WHSE-0006-SM-3NMBW & GTEX-WHWD-0005-SM-3LK7D & GTEX-WI4N-0005-SM-3LK7E & GTEX-WK11-0006-SM-3NB3J & GTEX-WL46-0006-SM-4OOS5 & GTEX-WOFL-0006-SM-3TW8K & GTEX-WOFM-0005-SM-3MJF3 & GTEX-WQUQ-0006-SM-3MJF4 & GTEX-WRHK-0005-SM-3MJF5 & GTEX-WRHU-0006-SM-3MJF6 & GTEX-WVLH-0006-SM-3MJF7 & GTEX-WWYW-0005-SM-3NB3K & GTEX-WXYG-0005-SM-3NB3M & GTEX-WY7C-0006-SM-3NB3L & GTEX-WYBS-0005-SM-4ONDR & GTEX-WYJK-0005-SM-3NMA1 & GTEX-WYVS-0006-SM-3NMA7 & GTEX-WZTO-0006-SM-3NM9T & GTEX-X15G-0005-SM-3NMDA & GTEX-X261-0005-SM-4PQYX & GTEX-X3Y1-0006-SM-3P5ZG & GTEX-X4EO-0006-SM-3P5ZF & GTEX-X4EP-0005-SM-3P5ZE & GTEX-X4LF-0006-SM-3NMCO & GTEX-X4XX-0005-SM-3NMCS & GTEX-X4XY-0006-SM-46MV2 & GTEX-X585-0005-SM-46MV3 & GTEX-X5EB-0006-SM-46MV5 & GTEX-X62O-0005-SM-46MV1 & GTEX-X638-0005-SM-47JX6 & GTEX-X88G-0006-SM-47JX5 & GTEX-X8HC-0006-SM-46MV6 & GTEX-XAJ8-0006-SM-46MVM & GTEX-XBEC-0006-SM-4AT5T & GTEX-XBED-0006-SM-47JXO & GTEX-XBEW-0006-SM-4AT4E & GTEX-XGQ4-0005-SM-4AT5U & GTEX-XK95-0005-SM-4AT4S & GTEX-XLM4-0005-SM-4AT4P & GTEX-XMD1-0006-SM-4AT4Q & GTEX-XMD2-0006-SM-4WWEG & GTEX-XMD3-0006-SM-4AT5X & GTEX-XMK1-0005-SM-4B665 & GTEX-XOT4-0005-SM-4B64S & GTEX-XPT6-0006-SM-4B66Q & GTEX-XPVG-0006-SM-4B65Z & GTEX-XQ3S-0006-SM-4BOQ4 & GTEX-XQ8I-0006-SM-4BOQ5 & GTEX-XUW1-0005-SM-4BOQ7 & GTEX-XUYS-0005-SM-47JZ2 & GTEX-XUZC-0005-SM-4BOQ8 & GTEX-XXEK-0005-SM-4BRWJ & GTEX-XYKS-0005-SM-4BRUD & GTEX-Y111-0006-SM-4SOIO & GTEX-Y114-0006-SM-4TT76 & GTEX-Y3I4-0006-SM-4TT1E & GTEX-Y3IK-0005-SM-4WWDE & GTEX-Y5LM-0005-SM-4V6EJ & GTEX-Y5V5-0006-SM-4V6FE & GTEX-Y5V6-0005-SM-4V6FD & GTEX-Y8DK-0005-SM-4RGNR & GTEX-Y8E4-0006-SM-4V6EW & GTEX-Y8E5-0006-SM-47JWQ & GTEX-Y8LW-0005-SM-4V6EV & GTEX-Y9LG-0006-SM-4VBRK & GTEX-YB5E-0005-SM-4VDSO & GTEX-YB5K-0005-SM-4VDSP & GTEX-YBZK-0005-SM-59HKG & GTEX-YEC3-0005-SM-4W21J & GTEX-YEC4-0001-SM-4W1Y6 & GTEX-YECK-0005-SM-4W217 & GTEX-YF7O-0005-SM-4W1ZU & GTEX-YFC4-0006-SM-4RGLV & GTEX-YFCO-0005-SM-4W1ZI & GTEX-Z93S-0005-SM-4RGLW & GTEX-ZAB4-0005-SM-4RGM8 & GTEX-ZC5H-0005-SM-4WAXM & GTEX-ZDTS-0006-SM-4WAYZ & GTEX-ZDTT-0006-SM-4WKFP & GTEX-ZDXO-0006-SM-4WKGF & GTEX-ZDYS-0002-SM-4WKGR & GTEX-ZE7O-0006-SM-51MTA & GTEX-ZE9C-0006-SM-4WKG2 & GTEX-ZEX8-0005-SM-4WKGE & GTEX-ZF28-0005-SM-4WKH3 & GTEX-ZF29-0006-SM-4WKGQ & GTEX-ZF2S-0006-SM-4WKHF & GTEX-ZF3C-0005-SM-4WWAR & GTEX-ZG7Y-0006-SM-4WWEA & GTEX-ZGAY-0006-SM-4WWAQ & GTEX-ZLV1-0005-SM-4WWAP & GTEX-ZP4G-0006-SM-4WWE6 & GTEX-ZPCL-0006-SM-4WWAS & GTEX-ZPIC-0005-SM-4WWEB & GTEX-ZPU1-0006-SM-4WWAT & GTEX-ZQG8-0005-SM-4YCEH & GTEX-ZQUD-0005-SM-4YCE5 & GTEX-ZT9W-0005-SM-4YCEG & GTEX-ZTPG-0006-SM-4YCFG & GTEX-ZTSS-0005-SM-4YCDR & GTEX-ZTTD-0006-SM-51MSJ & GTEX-ZTX8-0006-SM-4YCE4 & GTEX-ZUA1-0005-SM-4YCEV & GTEX-ZV68-0006-SM-4YCEJ & GTEX-ZV7C-0005-SM-57WDL & GTEX-ZVE2-0006-SM-51MRW & GTEX-ZVP2-0005-SM-51MRK & GTEX-ZVT2-0005-SM-57WBW & GTEX-ZVT3-0006-SM-51MT9 & GTEX-ZVT4-0006-SM-57WB8 & GTEX-ZVTK-0006-SM-57WBK & GTEX-ZVZP-0006-SM-51MSW & GTEX-ZVZQ-0006-SM-51MR8 & GTEX-ZXES-0005-SM-57WCB & GTEX-ZXG5-0005-SM-57WCN & Name & Description & NameClean\\\\\n",
       " <dbl> & <dbl> & <dbl> & <dbl> & <dbl> & <dbl> & <dbl> & <dbl> & <dbl> & <dbl> & <dbl> & <dbl> & <dbl> & <dbl> & <dbl> & <dbl> & <dbl> & <dbl> & <dbl> & <dbl> & <dbl> & <dbl> & <dbl> & <dbl> & <dbl> & <dbl> & <dbl> & <dbl> & <dbl> & <dbl> & <dbl> & <dbl> & <dbl> & <dbl> & <dbl> & <dbl> & <dbl> & <dbl> & <dbl> & <dbl> & <dbl> & <dbl> & <dbl> & <dbl> & <dbl> & <dbl> & <dbl> & <dbl> & <dbl> & <dbl> & <dbl> & <dbl> & <dbl> & <dbl> & <dbl> & <dbl> & <dbl> & <dbl> & <dbl> & <dbl> & <dbl> & <dbl> & <dbl> & <dbl> & <dbl> & <dbl> & <dbl> & <dbl> & <dbl> & <dbl> & <dbl> & <dbl> & <dbl> & <dbl> & <dbl> & <dbl> & <dbl> & <dbl> & <dbl> & <dbl> & <dbl> & <dbl> & <dbl> & <dbl> & <dbl> & <dbl> & <dbl> & <dbl> & <dbl> & <dbl> & <dbl> & <dbl> & <dbl> & <dbl> & <dbl> & <dbl> & <dbl> & <dbl> & <dbl> & <dbl> & <dbl> & <dbl> & <dbl> & <dbl> & <dbl> & <dbl> & <dbl> & <dbl> & <dbl> & <dbl> & <dbl> & <dbl> & <dbl> & <dbl> & <dbl> & <dbl> & <dbl> & <dbl> & <dbl> & <dbl> & <dbl> & <dbl> & <dbl> & <dbl> & <dbl> & <dbl> & <dbl> & <dbl> & <dbl> & <dbl> & <dbl> & <dbl> & <dbl> & <dbl> & <dbl> & <dbl> & <dbl> & <dbl> & <dbl> & <dbl> & <dbl> & <dbl> & <dbl> & <dbl> & <dbl> & <dbl> & <dbl> & <dbl> & <dbl> & <dbl> & <dbl> & <dbl> & <dbl> & <dbl> & <dbl> & <dbl> & <dbl> & <dbl> & <dbl> & <dbl> & <dbl> & <dbl> & <dbl> & <dbl> & <dbl> & <dbl> & <dbl> & <dbl> & <dbl> & <dbl> & <dbl> & <dbl> & <dbl> & <dbl> & <dbl> & <dbl> & <dbl> & <dbl> & <dbl> & <dbl> & <dbl> & <dbl> & <dbl> & <dbl> & <dbl> & <dbl> & <dbl> & <dbl> & <dbl> & <dbl> & <dbl> & <dbl> & <dbl> & <dbl> & <dbl> & <dbl> & <dbl> & <dbl> & <dbl> & <dbl> & <dbl> & <dbl> & <dbl> & <dbl> & <dbl> & <dbl> & <dbl> & <dbl> & <dbl> & <dbl> & <dbl> & <dbl> & <dbl> & <dbl> & <dbl> & <dbl> & <dbl> & <dbl> & <dbl> & <dbl> & <dbl> & <dbl> & <dbl> & <dbl> & <dbl> & <dbl> & <dbl> & <dbl> & <dbl> & <dbl> & <dbl> & <dbl> & <dbl> & <dbl> & <dbl> & <dbl> & <dbl> & <dbl> & <dbl> & <dbl> & <dbl> & <dbl> & <dbl> & <dbl> & <dbl> & <dbl> & <dbl> & <dbl> & <dbl> & <dbl> & <dbl> & <dbl> & <dbl> & <dbl> & <dbl> & <dbl> & <dbl> & <dbl> & <dbl> & <dbl> & <dbl> & <dbl> & <dbl> & <dbl> & <dbl> & <dbl> & <dbl> & <dbl> & <dbl> & <dbl> & <dbl> & <dbl> & <dbl> & <dbl> & <dbl> & <dbl> & <dbl> & <dbl> & <dbl> & <dbl> & <dbl> & <dbl> & <dbl> & <dbl> & <dbl> & <dbl> & <dbl> & <dbl> & <dbl> & <dbl> & <dbl> & <dbl> & <dbl> & <dbl> & <dbl> & <dbl> & <dbl> & <dbl> & <dbl> & <dbl> & <dbl> & <dbl> & <dbl> & <dbl> & <dbl> & <dbl> & <dbl> & <dbl> & <dbl> & <dbl> & <dbl> & <dbl> & <dbl> & <dbl> & <dbl> & <dbl> & <dbl> & <dbl> & <dbl> & <dbl> & <dbl> & <dbl> & <dbl> & <dbl> & <dbl> & <dbl> & <dbl> & <dbl> & <dbl> & <dbl> & <dbl> & <dbl> & <dbl> & <dbl> & <dbl> & <dbl> & <dbl> & <dbl> & <dbl> & <dbl> & <dbl> & <dbl> & <dbl> & <dbl> & <dbl> & <dbl> & <dbl> & <dbl> & <dbl> & <dbl> & <dbl> & <dbl> & <dbl> & <dbl> & <dbl> & <dbl> & <dbl> & <dbl> & <dbl> & <dbl> & <dbl> & <dbl> & <dbl> & <dbl> & <dbl> & <dbl> & <dbl> & <dbl> & <dbl> & <dbl> & <dbl> & <dbl> & <dbl> & <dbl> & <dbl> & <dbl> & <dbl> & <dbl> & <dbl> & <dbl> & <dbl> & <dbl> & <dbl> & <dbl> & <dbl> & <dbl> & <dbl> & <dbl> & <dbl> & <dbl> & <dbl> & <dbl> & <dbl> & <dbl> & <dbl> & <dbl> & <dbl> & <dbl> & <dbl> & <dbl> & <dbl> & <dbl> & <dbl> & <dbl> & <dbl> & <dbl> & <dbl> & <dbl> & <dbl> & <dbl> & <dbl> & <dbl> & <dbl> & <dbl> & <dbl> & <dbl> & <dbl> & <dbl> & <dbl> & <dbl> & <dbl> & <dbl> & <dbl> & <dbl> & <dbl> & <dbl> & <dbl> & <dbl> & <dbl> & <dbl> & <dbl> & <dbl> & <dbl> & <dbl> & <dbl> & <dbl> & <dbl> & <dbl> & <dbl> & <dbl> & <dbl> & <dbl> & <dbl> & <dbl> & <dbl> & <dbl> & <dbl> & <dbl> & <dbl> & <dbl> & <dbl> & <dbl> & <dbl> & <dbl> & <dbl> & <dbl> & <dbl> & <dbl> & <dbl> & <dbl> & <dbl> & <dbl> & <dbl> & <dbl> & <dbl> & <dbl> & <dbl> & <dbl> & <dbl> & <dbl> & <dbl> & <dbl> & <dbl> & <dbl> & <dbl> & <dbl> & <dbl> & <dbl> & <dbl> & <dbl> & <dbl> & <dbl> & <dbl> & <dbl> & <dbl> & <dbl> & <dbl> & <dbl> & <dbl> & <dbl> & <dbl> & <dbl> & <dbl> & <dbl> & <dbl> & <dbl> & <dbl> & <dbl> & <dbl> & <dbl> & <dbl> & <dbl> & <dbl> & <dbl> & <dbl> & <dbl> & <dbl> & <dbl> & <dbl> & <dbl> & <dbl> & <dbl> & <dbl> & <dbl> & <dbl> & <dbl> & <dbl> & <dbl> & <dbl> & <dbl> & <dbl> & <dbl> & <dbl> & <dbl> & <dbl> & <dbl> & <dbl> & <dbl> & <dbl> & <dbl> & <dbl> & <dbl> & <dbl> & <dbl> & <dbl> & <dbl> & <dbl> & <dbl> & <dbl> & <dbl> & <dbl> & <dbl> & <dbl> & <dbl> & <dbl> & <dbl> & <dbl> & <dbl> & <dbl> & <dbl> & <dbl> & <dbl> & <dbl> & <dbl> & <dbl> & <dbl> & <dbl> & <dbl> & <dbl> & <dbl> & <dbl> & <dbl> & <dbl> & <dbl> & <dbl> & <dbl> & <dbl> & <dbl> & <dbl> & <dbl> & <dbl> & <dbl> & <dbl> & <dbl> & <dbl> & <dbl> & <dbl> & <dbl> & <dbl> & <dbl> & <dbl> & <dbl> & <dbl> & <dbl> & <dbl> & <dbl> & <dbl> & <dbl> & <dbl> & <dbl> & <dbl> & <dbl> & <dbl> & <dbl> & <dbl> & <dbl> & <dbl> & <dbl> & <dbl> & <dbl> & <dbl> & <dbl> & <dbl> & <dbl> & <dbl> & <dbl> & <dbl> & <dbl> & <dbl> & <dbl> & <dbl> & <dbl> & <dbl> & <dbl> & <dbl> & <dbl> & <dbl> & <dbl> & <dbl> & <dbl> & <dbl> & <dbl> & <dbl> & <dbl> & <dbl> & <dbl> & <dbl> & <dbl> & <dbl> & <dbl> & <dbl> & <dbl> & <dbl> & <dbl> & <dbl> & <dbl> & <dbl> & <dbl> & <dbl> & <dbl> & <dbl> & <dbl> & <dbl> & <dbl> & <dbl> & <dbl> & <dbl> & <dbl> & <dbl> & <dbl> & <dbl> & <dbl> & <dbl> & <dbl> & <dbl> & <dbl> & <dbl> & <dbl> & <dbl> & <dbl> & <dbl> & <dbl> & <dbl> & <dbl> & <dbl> & <dbl> & <dbl> & <dbl> & <dbl> & <dbl> & <dbl> & <dbl> & <dbl> & <dbl> & <dbl> & <dbl> & <dbl> & <dbl> & <dbl> & <dbl> & <dbl> & <dbl> & <dbl> & <dbl> & <dbl> & <dbl> & <dbl> & <dbl> & <dbl> & <dbl> & <dbl> & <dbl> & <dbl> & <dbl> & <dbl> & <dbl> & <dbl> & <dbl> & <dbl> & <dbl> & <dbl> & <dbl> & <dbl> & <dbl> & <dbl> & <dbl> & <dbl> & <dbl> & <dbl> & <dbl> & <dbl> & <dbl> & <dbl> & <dbl> & <dbl> & <dbl> & <dbl> & <dbl> & <dbl> & <dbl> & <dbl> & <dbl> & <dbl> & <dbl> & <dbl> & <dbl> & <dbl> & <dbl> & <dbl> & <dbl> & <dbl> & <dbl> & <dbl> & <dbl> & <dbl> & <dbl> & <dbl> & <dbl> & <dbl> & <dbl> & <dbl> & <dbl> & <dbl> & <dbl> & <dbl> & <dbl> & <dbl> & <dbl> & <dbl> & <dbl> & <dbl> & <dbl> & <dbl> & <dbl> & <dbl> & <chr> & <chr> & <chr>\\\\\n",
       "\\hline\n",
       "\t 0.02171 & 0.03015 & 0.0203 &  0.1675 & 0.02104 & 0.02537 & 0.02492 & 0.06809 & 0.0000 & 0.02443 & 0.1421 & 0.02459 & 0.00000 & 0.02253 & 0.00000 & 0.02402 & 0.00 & 0.000 & 0.00000 & 0.08274 & 0.06885 & 0.09425 & 0.00 & 0.000 & 0.02277 &  0.02107 & 0.03083 & 0.04969 & 0.03952 & 0.000 & 0.00000 & 0.000 & 0.153 & 0.02166 & 0.01904 & 0.00000 & 0.00000 & 0.07101 & 0.000 & 0.11530 & 0.04383 & 0.000 & 0.0481 & 0.01778 & 0.0000 &  0.00000 & 0.01341 & 0.06711 &  0.00000 & 0.000 & 0.000 & 0.06217 & 0.000 & 0.02033 & 0.00000 & 0.0000 &  0.0 & 0.05783 & 0.000 & 0.07506 & 0.01878 & 0.14150 & 0.1793 & 0.000 & 0.000 & 0.04687 & 0.00000 & 0.00000 & 0.00000 & 0.00000 & 0.04362 & 0.0000 & 0.02633 & 0.00000 & 0.000 & 0.03249 & 0.000 & 0.000 & 0.1022 & 0.02316 & 0.02805 & 0.02545 & 0.01952 & 0.000 & 0.000 & 0.02111 & 0.02587 & 0.000 & 0.00000 & 0.00000 & 0.04212 & 0.165 & 0.00 & 0.000 & 0.00 & 0.02112 & 0.03223 & 0.000 & 0.0 & 0.000 & 0.01839 & 0.1382 & 0.00000 &  0.2739 & 0.05713 &  0.0000 & 0.000 & 0.02895 & 0.01382 & 0.000 & 0.00000 & 0.00 & 0.04709 & 0.00000 & 0.03854 & 0.09601 & 0.00000 & 0.000 & 0.04613 & 0.000 & 0.07256 & 0.00000 & 0.000 & 0.00000 & 0.000 & 0.0742 & 0.00000 & 0.06925 & 0.000 & 0.000 & 0.000 & 0.03033 & 0.04082 & 0.01947 & 0.00000 & 0.000 & 0.00000 &  0.00 & 0.01743 & 0.05167 & 0.00000 & 0.000 & 0.029 & 0.01999 & 0.00000 & 0.000 & 0.1248 & 0.01826 & 0.00000 & 0.00000 & 0.02743 & 0.000 & 0.04663 & 0.05956 & 0.00000 & 0.02849 & 0.04992 & 0.00000 & 0.02978 & 0.00000 & 0.000 & 0.05604 & 0.000 & 0.1161 & 0.01648 & 0.000 & 0.01354 & 0.03598 & 0.000 & 0.04419 & 0.02893 & 0.03586 & 0.000 & 0.00000 & 0.02632 & 0.1586 & 0.04074 & 0.02638 & 0.0000 & 0.02091 & 0.000 & 0.04095 & 0.02497 & 0.00000 & 0.05628 & 0.21280 & 0.02072 & 0.000 & 0.09728 & 0.05501 & 0.0000 & 0.07483 & 0.00000 & 0.00000 & 0.000 & 0.01844 & 0.00 & 0.00000 & 0.08037 & 0.03662 & 0.03164 &  0.00000 & 0.02429 & 0.000 & 0.00000 & 0.00000 & 0.01687 & 0.02835 & 0.02129 & 0.02484 & 0.07341 & 0.00000 & 0.000 & 0.07674 & 0.04126 & 0.09326 & 0.07814 & 0.00000 & 0.11910 & 0.00000 & 0.03947 & 0.0000 & 0.08158 & 0.00000 & 0.03828 & 0.07233 & 0.05194 & 0.000 & 0.000 & 0.02142 & 0.000 & 0.02127 & 0.00000 & 0.000 & 0.01639 & 0.000 & 0.000 &  0.00 & 0.000 & 0.000 & 0.02431 & 0.00000 & 0.02448 & 0.000 & 0.01588 & 0.00000 & 0.000 & 0.02035 & 0.000 & 0.00 & 0.06068 & 0.04313 & 0.000 &  0.05711 & 0.03228 & 0.0000 & 0.25500 & 0.03181 & 0.000 & 0.01733 & 0.0000 & 0.000 & 0.0000 & 0.06723 & 0.01834 & 0.00 & 0.02906 & 0.00000 & 0.02185 & 0.00000 & 0.01712 & 0.01979 & 0.04357 & 0.000 & 0.0000 & 0.000 & 0.0879 & 0.000 & 0.000 & 0.0000 & 0.02051 & 0.06650 & 0.04156 & 0.00000 & 0.05336 & 0.000 & 0.000 & 0.01881 & 0.05644 & 0.000 & 0.00 & 0.000 & 0.00000 & 0.02542 & 0.01729 & 0.00000 & 0.00000 & 0.00 & 0.02104 & 0.1038 & 0.0505 & 0.02725 & 0.00000 & 0.01986 & 0.000 & 0.01842 & 0.000 & 0.000 & 0.000 & 0.000 & 0.08747 & 0.01615 & 0.0000 & 0.05488 & 0.00000 & 0.00000 & 0.04658 & 0.02099 & 0.02083 & 0.04181 & 0.00000 & 0.02654 & 0.000 & 0.03388 & 0.100 & 0.000 & 0.0000 & 0.00000 & 0.000 & 0.01764 & 0.0000 & 0.1044 & 0.00000 & 0.000 & 0.02414 & 0.01947 & 0.05068 & 0.00000 & 0.105 & 0.03053 & 0.000 & 0.00000 & 0.000 & 0.000 & 0.01685 & 0.01981 & 0.000 & 0.00000 & 0.05796 & 0.000 & 0.0885 & 0.07342 & 0.04255 & 0.02706 & 0.0000 & 0.000 & 0.0512 & 0.2518 & 0.1031 & 0.000 & 0.000 & 0.000 & 0.02272 & 0.03244 & 0.02262 & 0.000 & 0.1679 & 0.00000 & 0.0000 & 0.000 & 0.3076 & 0.000 & 0.000 & 0.02694 & 0.0000 & 0.0294 & 0.000 & 0.01748 & 0.00 & 0.03189 & 0.03480 & 0.03748 & 0.01373 & 0.19030 & 0.000 & 0.03438 & 0.000 & 0.05187 & 0.03285 & 0.000 & 0.0000 & 0.05866 & 0.01309 & 0.09272 & 0.000 & 0.0000 & 0.0000 & 0.000 & 0.01764 & 0.000 & 0.01473 & 0.03764 & 0.06621 & 0.000 & 0.0000 & 0.000 & 0.02089 & 0.00000 &  0.0368 & 0.01461 & 0.0000 & 0.00000 & 0.000 & 0.000 & 0.000 & 0.000 & 0.2297 & 0.000 & 0.00000 & 0.000 & 0.000 & 0.06611 & 0.000 & 0.0000 & 0.00000 & 0.06213 & 0.0000 & 0.01227 & 0.01672 & 0.00000 & 0.02836 & 0.0000 & 0.000 & 0.01272 & 0.00000 & 0.01134 & 0.01214 & 0.01422 & 0.000 & 0.06913 & 0.000 & 0.01230 & 0.08808 & 0.0233 & 0.000 & 0.000 & 0.000 & 0.000 & 0.000 & 0.01537 & 0.1069 & 0.0406 & 0.000 & 0.000 & 0.000 & 0.000 & 0.000 & 0.000 & 0.000 & 0.01889 & 0.05355 & 0.000 & 0.00000 & 0.00000 & 0.00000 & 0.00000 & 0.03359 & 0.05985 & 0.03790 & 0.000 & 0.02005 & 0.00000 & 0.000 & 0.00000 & 0.03593 & 0.03247 & 0.03814 & 0.05689 & 0.03584 & 0.02343 & 0.000 & 0.0000 & 0.00000 & 0.01706 & 0.07174 & 0.0000 & 0.000 & 0.08999 & 0.000 & 0.000 & 0.00 & 0.00000 & 0.00000 & 0.00000 & 0.01694 & 0.000 & 0.03065 & 0.0000 & 0.0000 & 0.03179 & 0.01901 & 0.00000 & 0.000 & 0.02123 & 0.02054 & 0.000 & 0.02131 & 0.04752 & 0.01656 & 0.000 & 0.0000 & 0.000 & 0.01292 & 0.06093 & 0.000 & 0.00000 & 0.00000 & 0.000 & 0.000 & 0.1764 & 0.08413 & 0.03852 & 0.00000 & 0.000 & 0.01806 & 0.08241 & 0.00000 & 0.1461 & 0.00000 & 0.11360 & 0.00000 & 0.00000 & 0.12830 & 0.00000 & 0.00000 & 0.00000 & 0.00000 & 0.00000 & 0.000 & 0.00000 & 0.01357 & 0.00000 & 0.06259 & 0.00000 & 0.01884 & 0.00000 & 0.01556 & 0.000 & 0.00000 & 0.09108 & 0.11370 & 0.1490 & 0.000 & 0.02111 & 0.00 & 0.02653 & 0.00000 & 0.03922 & 0.03829 & 0.00000 & 0.03666 & 0.000 & 0.00000 & 0.00000 & 0.06881 & 0.05863 & 0.02076 & 0.000 & 0.00000 & 0.00000 & 0.000 & 0.000 & 0.000 & 0.00000 & 0.00000 & 0.12950 & 0.4063 &  0.00 & 0.000 & 0.1791 & 0.000 & 0.04114 & 0.0000 & 0.0000 & 0.20080 & 0.000 & 0.00000 & 0.00000 & 0.000 & 0.02498 & 0.00000 & 0.23920 & 0.000 & 0.00000 & 0.13600 & 0.00000 &  0.0000 & 0.02590 & 0.00000 & 0.00000 & 0.04245 & 0.00000 & 0.00000 & 0.13940 & 0.000 & 0.01753 & 0.00000 & 0.03661 &  0.00 & 0.01096 & 0.1163 & 0.2046 & 0.0190 & 0.08272 & 0.00000 & 0.000 & 0.00000 & 0.04499 & 0.000 & 0.22550 & 0.000 & 0.03465 & 0.0000 & 0.02491 & 0.01763 & 0.000 & 0.01830 & 0.2364 & 0.05973 & 0.000 &  0.00 &  0.00000 & 0.0000 & 0.00 & 0.02273 & 0.29790 & 0.03124 & 0.00000 & 0.000 & 0.00000 & 0.000 & 0.000 & 0.00000 & 0.05011 & 0.1001 & 0.000 & 0.000 & 0.00000 & 0.000 & 0.000 & 0.0797 & 0.00 & 0.03564 & 0.00000 & 0.08107 & 0.00000 & 0.0000 & 0.0000 & 0.03190 & 0.05007 & 0.04168 & 0.02720 & 0.000 & 0.00000 & 0.03770 & 0.000 &  0.00000 & 0.04592 & 0.00000 & 0.169 & 0.08937 & 0.02485 & 0.02703 & 0.07827 & 0.3167 & 0.000 & 0.00000 & 0.01913 & 0.03317 & 0.000 & 0.03900 &  0.02517 & 0.09194 & 0.02037 & 0.02008 & 0.000 & 0.00 & 0.00000 & 0.00000 &  0.02942 & 0.000 & 0.000 & 0.01837 & 0.000 & 0.0264 & 0.00000 & 0.04155 & 0.00000 & 0.1766 & 0.00000 & 0.000 & 0.000 & 0.000 & 0.01939 & 0.00000 & 0.000 & 0.00000 & 0.08604 & 0.000 & 0.000 & 0.00000 & 0.01343 & 0.00000 & 0.06545 & 0.00000 & 0.01647 & 0.00000 & 0.06955 & 0.00000 & 0.07885 & 0.00000 & 0.000 & 0.00000 & 0.00000 & 0.00000 & 0.03283 & 0.00000 & 0.0548 & 0.02213 & 0.04162 & 0.07333 & 0.00000 & 0.07734 & 0.03907 & 0.15540 & 0.00000 & 0.03489 & 0.06162 & 0.00000 & 0.04223 & 0.00000 & 0.00000 & 0.04127 & 0.00 & 0.000 & 0.0000 & 0.04841 & 0.00000 & 0.000 & 0.04858 & 0.11450 & 0.02417 & 0.000 & 0.02128 & 0.00000 & ENSG00000223972.5 & DDX11L1     & ENSG00000223972\\\\\n",
       "\t 1.55500 & 2.74700 & 4.4410 & 10.4700 & 1.28700 & 3.13800 & 4.21700 & 2.09800 & 0.3579 & 4.26200 & 2.5290 & 2.88200 & 4.80500 & 2.72800 & 4.01000 & 1.72000 & 2.51 & 1.886 & 1.35900 & 4.01300 & 1.18300 & 1.90200 & 1.66 & 3.249 & 1.18600 & 13.11000 & 5.33800 & 2.65200 & 2.62400 & 1.092 & 6.98700 & 1.886 & 3.275 & 2.22800 & 2.20600 & 1.33200 & 5.79100 & 2.74300 & 3.787 & 6.68200 & 4.87900 & 3.121 & 2.5360 & 1.57400 & 0.4965 & 10.10000 & 3.49100 & 1.60200 & 10.95000 & 2.088 & 2.621 & 3.76400 & 1.581 & 2.22300 & 1.65500 & 2.4300 & 12.4 & 9.23600 & 3.007 & 2.51600 & 1.34500 & 2.10000 & 0.5543 & 6.548 & 1.690 & 2.53200 & 1.90800 & 2.11300 & 0.86090 & 4.44900 & 3.46500 & 0.8687 & 2.74200 & 1.99100 & 3.092 & 4.18800 & 2.327 & 3.085 & 1.9620 & 8.02000 & 2.22700 & 4.80400 & 1.62700 & 2.292 & 1.086 & 5.02900 & 2.69500 & 1.078 & 4.65500 & 2.12900 & 2.41300 & 2.793 & 3.07 & 2.516 & 1.08 & 4.50900 & 0.37760 & 3.521 & 3.4 & 3.818 & 3.83000 & 1.8710 & 2.52200 & 13.1700 & 3.62000 & 11.2600 & 5.385 & 2.01700 & 3.04000 & 1.125 & 2.12000 & 1.53 & 1.30800 & 2.96900 & 1.30500 & 4.15000 & 2.99400 & 3.308 & 3.63400 & 4.175 & 2.61400 & 3.65600 & 2.011 & 2.29200 & 1.411 & 1.8840 & 2.51000 & 2.04400 & 2.251 & 1.630 & 2.451 & 5.45000 & 2.36500 & 1.79900 & 7.36200 & 3.806 & 4.44100 & 10.56 & 1.79200 & 7.46700 & 5.59700 & 3.298 & 3.360 & 1.53500 & 1.10400 & 1.411 & 4.5490 & 1.42600 & 6.63200 & 3.15400 & 7.28600 & 2.093 & 4.43100 & 2.79200 & 3.30000 & 5.34200 & 4.48400 & 1.39800 & 2.32700 & 0.50700 & 2.147 & 1.82400 & 2.089 & 4.1940 & 1.00800 & 4.704 & 2.76800 & 1.85000 & 2.572 & 2.01300 & 2.10900 & 3.94500 & 1.241 & 1.36500 & 1.86800 & 1.7300 & 3.50000 & 1.95800 & 0.6146 & 2.25900 & 1.908 & 2.07900 & 2.08100 & 3.03000 & 5.67900 & 3.22100 & 6.98600 & 2.337 & 3.74900 & 1.41400 & 0.6565 & 3.23900 & 1.28900 & 3.51300 & 2.228 & 1.32000 & 1.57 & 1.72300 & 3.99700 & 3.00400 & 1.29700 & 10.44000 & 0.44280 & 2.969 & 0.45070 & 3.47300 & 0.81270 & 2.01100 & 6.21000 & 5.36800 & 3.17800 & 0.35700 & 1.951 & 2.15800 & 1.93400 & 1.04400 & 1.76300 & 0.00000 & 1.98500 & 3.12400 & 1.61900 & 1.4500 & 1.69900 & 1.37400 & 1.09600 & 1.97700 & 2.95300 & 3.538 & 4.343 & 2.76000 & 1.714 & 4.62500 & 3.95700 & 2.167 & 0.78960 & 2.669 & 2.177 & 10.02 & 3.486 & 2.073 & 3.03800 & 0.69530 & 0.51000 & 1.186 & 3.92700 & 2.15800 & 3.764 & 2.17300 & 3.944 & 4.38 & 1.50100 & 2.86400 & 1.531 & 14.87000 & 2.94200 & 0.8234 & 2.51400 & 1.98800 & 2.389 & 3.92600 & 0.9817 & 1.555 & 0.7650 & 1.42200 & 2.91300 & 3.21 & 3.33000 & 0.98630 & 1.96300 & 5.53700 & 0.40120 & 1.26200 & 1.36200 & 1.637 & 0.8015 & 2.245 & 2.6320 & 4.578 & 5.238 & 0.9756 & 1.65600 & 1.84000 & 3.24700 & 1.78900 & 1.92200 & 3.451 & 3.222 & 1.37200 & 4.33600 & 3.527 & 2.27 & 5.378 & 1.36700 & 2.25100 & 1.62000 & 7.14900 & 1.86900 & 6.26 & 3.28800 & 4.5930 & 1.9390 & 1.27700 & 0.66950 & 2.63700 & 2.251 & 1.00700 & 1.979 & 3.944 & 2.367 & 3.108 & 2.30600 & 1.61900 & 3.1590 & 2.35800 & 1.71300 & 3.99900 & 2.30400 & 1.33900 & 2.54900 & 2.35900 & 2.57300 & 1.31300 & 3.102 & 1.19100 & 3.157 & 1.635 & 1.4950 & 2.03800 & 3.544 & 1.83700 & 6.7910 & 4.8680 & 2.10600 & 3.386 & 1.57200 & 2.15500 & 5.67500 & 4.15100 & 1.722 & 6.12200 & 2.692 & 1.10200 & 4.802 & 1.384 & 1.09700 & 3.35300 & 6.637 & 5.27100 & 2.11300 & 2.429 & 2.7190 & 2.64500 & 4.70900 & 2.43100 & 0.6028 & 2.128 & 3.2330 & 3.3250 & 2.2160 & 4.756 & 3.548 & 4.853 & 2.92800 & 2.19600 & 1.50200 & 2.627 & 3.0960 & 4.84400 & 6.4260 & 1.999 & 6.1310 & 2.458 & 2.371 & 2.01600 & 1.9360 & 5.4740 & 1.932 & 5.82700 & 3.43 & 2.11700 & 3.98700 & 4.90400 & 1.94900 & 1.59600 & 1.266 & 1.67900 & 0.597 & 0.69470 & 1.77500 & 3.735 & 2.1780 & 1.54700 & 1.26100 & 3.32000 & 4.586 & 0.9958 & 0.6772 & 1.274 & 1.95200 & 1.275 & 1.40000 & 4.70500 & 2.02600 & 4.056 & 0.7968 & 4.726 & 2.23100 & 1.95900 & 13.6800 & 4.22200 & 0.7458 & 2.24200 & 4.542 & 2.739 & 4.443 & 4.671 & 5.2350 & 1.494 & 1.40200 & 1.234 & 1.808 & 1.89400 & 3.135 & 0.6838 & 7.41300 & 3.90300 & 1.3680 & 1.55000 & 2.24200 & 2.03200 & 1.23700 & 4.7060 & 2.537 & 1.64000 & 2.11200 & 1.35800 & 3.21000 & 1.53700 & 1.384 & 4.01400 & 3.865 & 4.08300 & 3.05800 & 1.5320 & 1.691 & 2.633 & 5.043 & 5.586 & 1.552 & 3.44100 & 3.0830 & 2.5370 & 2.471 & 1.932 & 1.114 & 4.225 & 1.915 & 1.419 & 2.244 & 7.13100 & 4.02100 & 2.577 & 3.47500 & 5.64900 & 2.61300 & 3.38100 & 1.20300 & 2.72700 & 0.97040 & 6.779 & 0.41770 & 2.23400 & 5.837 & 4.55700 & 3.50800 & 1.60600 & 0.67030 & 5.77700 & 3.14900 & 3.96600 & 4.779 & 4.0140 & 2.90700 & 3.55300 & 1.45700 & 0.4506 & 3.063 & 0.60540 & 2.063 & 5.734 & 6.51 & 1.36000 & 0.84050 & 4.88600 & 4.03500 & 4.751 & 2.73400 & 4.9450 & 0.2363 & 1.01400 & 4.80300 & 0.86940 & 1.499 & 1.57500 & 1.63100 & 2.535 & 2.74700 & 2.04100 & 2.82500 & 1.874 & 2.0790 & 2.794 & 1.83300 & 2.38000 & 5.027 & 1.12100 & 8.48800 & 1.412 & 4.295 & 3.7900 & 1.42400 & 4.93900 & 0.99690 & 4.979 & 4.30300 & 1.39500 & 4.94500 & 5.1690 & 2.58100 & 2.12900 & 1.22400 & 1.28000 & 2.79900 & 3.58900 & 2.62000 & 1.80500 & 2.14400 & 1.61300 & 4.667 & 2.52600 & 4.20400 & 2.88100 & 2.20000 & 6.17000 & 3.23700 & 0.69110 & 3.12000 & 4.855 & 2.59900 & 2.13500 & 5.49800 & 0.6651 & 2.721 & 2.50100 & 8.59 & 3.52300 & 2.01800 & 2.83400 & 1.52100 & 0.85860 & 0.66810 & 3.209 & 0.13390 & 3.24700 & 3.71800 & 0.45800 & 4.81000 & 3.084 & 1.83100 & 1.37300 & 5.638 & 3.877 & 8.258 & 2.03400 & 0.97830 & 5.96700 & 0.9823 & 10.55 & 7.983 & 3.6140 & 6.748 & 0.74980 & 1.8660 & 0.8784 & 3.36200 & 3.403 & 0.42560 & 5.15900 & 1.949 & 3.51300 & 5.78000 & 1.82400 & 4.423 & 5.20300 & 4.25100 & 3.92400 & 11.1100 & 5.42900 & 5.69600 & 2.17200 & 5.47200 & 2.34200 & 4.13000 & 1.94500 & 3.107 & 4.42700 & 6.32600 & 9.23100 & 10.21 & 5.88100 & 3.8470 & 5.6320 & 0.7421 & 4.12000 & 1.72800 & 2.427 & 2.95600 & 7.79100 & 3.186 & 4.22000 & 5.576 & 1.98500 & 3.1040 & 4.02100 & 2.73100 & 2.997 & 4.50300 & 3.4620 & 7.88000 & 5.881 & 12.45 & 14.67000 & 1.8480 & 4.62 & 3.31400 & 4.10000 & 2.98900 & 2.20600 & 2.363 & 2.62500 & 1.535 & 1.856 & 2.12000 & 5.34900 & 6.1530 & 1.001 & 3.857 & 4.54200 & 5.477 & 6.592 & 2.7390 & 6.73 & 6.21800 & 2.94500 & 1.87900 & 2.10400 & 3.4660 & 2.0570 & 2.61600 & 2.31400 & 3.31000 & 6.90600 & 1.693 & 4.72500 & 2.82200 & 2.647 & 12.69000 & 2.57100 & 5.14900 & 9.930 & 7.35900 & 2.49200 & 4.54000 & 2.41200 & 4.8840 & 2.852 & 2.59900 & 1.07100 & 3.88700 & 4.158 & 2.48800 & 16.03000 & 5.68600 & 3.12900 & 1.59500 & 2.534 & 3.73 & 0.84930 & 4.28500 & 17.04000 & 3.027 & 2.448 & 2.89300 & 5.249 & 4.0220 & 2.18700 & 4.62500 & 6.48600 & 2.1260 & 1.88400 & 3.139 & 6.901 & 2.153 & 3.38300 & 2.74800 & 2.933 & 4.50600 & 1.73600 & 3.864 & 3.237 & 1.88000 & 1.29400 & 3.44900 & 2.36500 & 7.60200 & 3.02300 & 1.06100 & 5.47800 & 2.79700 & 6.64700 & 3.05600 & 5.447 & 4.83400 & 2.82500 & 3.84600 & 1.98800 & 2.87600 & 4.3880 & 2.53600 & 5.74300 & 4.36000 & 3.67400 & 2.11500 & 3.45900 & 5.20900 & 2.59900 & 5.83700 & 3.07500 & 2.03900 & 1.32000 & 1.02000 & 2.75100 & 2.39100 & 5.67 & 5.114 & 0.8979 & 3.06700 & 2.46400 & 1.504 & 3.19400 & 2.90600 & 3.43000 & 4.169 & 2.74300 & 6.07200 & ENSG00000227232.5 & WASH7P      & ENSG00000227232\\\\\n",
       "\t 0.00000 & 0.00000 & 0.0000 &  0.0000 & 0.00000 & 0.00000 & 0.00000 & 0.00000 & 0.0000 & 0.62120 & 0.0000 & 0.00000 & 0.00000 & 0.00000 & 0.00000 & 0.00000 & 0.00 & 0.000 & 0.00000 & 0.00000 & 0.00000 & 0.00000 & 0.00 & 0.000 & 0.00000 &  0.00000 & 0.00000 & 0.00000 & 0.00000 & 0.000 & 0.00000 & 0.000 & 0.000 & 0.00000 & 0.00000 & 0.00000 & 0.00000 & 0.00000 & 0.000 & 0.00000 & 0.00000 & 0.000 & 0.0000 & 0.00000 & 0.0000 &  0.00000 & 0.00000 & 0.00000 &  0.54120 & 0.000 & 0.000 & 0.00000 & 0.000 & 0.00000 & 0.00000 & 0.0000 &  0.0 & 0.00000 & 0.000 & 0.00000 & 0.00000 & 0.00000 & 0.0000 & 0.000 & 0.000 & 0.00000 & 0.00000 & 0.00000 & 0.00000 & 0.00000 & 0.00000 & 0.0000 & 0.00000 & 0.00000 & 0.000 & 0.00000 & 0.000 & 0.000 & 0.0000 & 0.00000 & 0.00000 & 0.00000 & 0.00000 & 0.000 & 0.000 & 0.00000 & 0.00000 & 0.000 & 0.00000 & 0.00000 & 0.00000 & 0.000 & 0.00 & 0.000 & 0.00 & 0.00000 & 0.00000 & 0.000 & 0.0 & 0.000 & 0.00000 & 0.0000 & 0.00000 &  0.0000 & 0.00000 &  0.0000 & 0.000 & 0.00000 & 0.00000 & 0.000 & 0.00000 & 0.00 & 0.00000 & 0.00000 & 0.00000 & 0.00000 & 0.00000 & 0.000 & 0.00000 & 0.000 & 0.00000 & 0.00000 & 0.000 & 0.00000 & 0.000 & 0.0000 & 0.00000 & 0.00000 & 0.000 & 0.000 & 0.000 & 0.00000 & 0.00000 & 0.00000 & 0.00000 & 0.000 & 0.00000 &  0.00 & 0.00000 & 0.00000 & 0.00000 & 0.000 & 0.000 & 0.00000 & 0.00000 & 0.000 & 0.0000 & 0.00000 & 0.00000 & 0.00000 & 0.00000 & 0.000 & 0.59280 & 0.00000 & 0.00000 & 0.00000 & 0.00000 & 0.00000 & 0.00000 & 0.00000 & 0.000 & 0.00000 & 0.000 & 0.0000 & 0.00000 & 0.000 & 0.00000 & 0.00000 & 0.000 & 0.00000 & 0.00000 & 0.00000 & 0.000 & 0.00000 & 0.00000 & 0.0000 & 0.00000 & 0.00000 & 0.0000 & 0.00000 & 0.000 & 0.00000 & 0.00000 & 0.00000 & 0.00000 & 0.00000 & 0.00000 & 0.000 & 0.00000 & 0.00000 & 0.0000 & 0.00000 & 0.00000 & 0.00000 & 0.000 & 0.00000 & 0.00 & 0.00000 & 0.00000 & 0.00000 & 0.00000 &  0.00000 & 0.00000 & 0.000 & 0.00000 & 0.00000 & 0.00000 & 0.00000 & 0.00000 & 0.00000 & 0.00000 & 0.00000 & 0.000 & 0.00000 & 0.00000 & 0.00000 & 0.00000 & 0.00000 & 0.00000 & 0.00000 & 0.00000 & 0.0000 & 0.69140 & 0.00000 & 0.00000 & 0.00000 & 0.00000 & 0.470 & 0.000 & 0.00000 & 0.000 & 0.00000 & 0.00000 & 0.000 & 0.00000 & 0.000 & 0.000 &  0.00 & 0.000 & 0.000 & 0.00000 & 0.00000 & 0.00000 & 0.000 & 0.00000 & 0.00000 & 0.000 & 0.00000 & 0.000 & 0.00 & 0.00000 & 0.00000 & 0.000 &  0.00000 & 0.00000 & 0.0000 & 0.00000 & 0.00000 & 0.000 & 0.00000 & 0.0000 & 0.000 & 0.0000 & 0.00000 & 0.00000 & 0.00 & 0.00000 & 0.00000 & 0.00000 & 0.00000 & 0.00000 & 0.00000 & 0.00000 & 0.000 & 0.0000 & 0.000 & 0.0000 & 0.000 & 0.000 & 0.0000 & 0.00000 & 0.00000 & 0.00000 & 0.00000 & 0.00000 & 0.000 & 0.000 & 0.00000 & 0.00000 & 0.000 & 0.00 & 0.000 & 0.00000 & 0.00000 & 0.00000 & 0.00000 & 0.00000 & 0.00 & 0.00000 & 0.0000 & 0.0000 & 0.00000 & 0.00000 & 0.00000 & 0.000 & 0.00000 & 0.000 & 0.000 & 0.000 & 0.000 & 0.00000 & 0.00000 & 0.0000 & 0.00000 & 0.00000 & 0.00000 & 0.00000 & 0.00000 & 0.00000 & 0.00000 & 0.00000 & 0.00000 & 0.000 & 0.00000 & 0.000 & 0.000 & 0.0000 & 0.00000 & 0.000 & 0.00000 & 0.0000 & 0.0000 & 0.00000 & 0.000 & 0.00000 & 0.00000 & 0.00000 & 0.00000 & 0.000 & 0.00000 & 0.000 & 0.00000 & 0.000 & 0.000 & 0.00000 & 0.00000 & 0.000 & 0.00000 & 0.00000 & 0.000 & 0.0000 & 0.00000 & 0.00000 & 0.00000 & 0.0000 & 0.000 & 0.0000 & 0.0000 & 0.0000 & 0.000 & 0.000 & 0.000 & 0.57770 & 0.00000 & 0.00000 & 0.000 & 0.0000 & 0.00000 & 0.3910 & 0.000 & 0.0000 & 0.000 & 0.000 & 0.00000 & 0.2953 & 0.0000 & 0.000 & 0.00000 & 0.00 & 0.00000 & 0.00000 & 0.00000 & 0.00000 & 0.00000 & 0.000 & 0.00000 & 0.000 & 0.00000 & 0.00000 & 0.000 & 0.4169 & 0.00000 & 0.00000 & 0.00000 & 0.000 & 0.0000 & 0.0000 & 0.000 & 0.00000 & 0.000 & 0.00000 & 0.00000 & 0.00000 & 0.000 & 0.0000 & 0.000 & 0.00000 & 0.00000 &  0.0000 & 0.00000 & 0.0000 & 0.35890 & 0.000 & 0.000 & 0.000 & 0.000 & 0.0000 & 0.000 & 0.00000 & 0.000 & 0.000 & 0.00000 & 0.000 & 0.0000 & 0.00000 & 0.00000 & 0.3563 & 0.00000 & 0.00000 & 0.00000 & 0.00000 & 0.0000 & 0.000 & 0.00000 & 0.00000 & 0.00000 & 0.00000 & 0.00000 & 0.000 & 0.00000 & 0.000 & 0.00000 & 0.00000 & 0.0000 & 0.000 & 0.000 & 0.000 & 0.000 & 0.000 & 0.00000 & 0.0000 & 0.0000 & 0.000 & 0.000 & 0.000 & 0.000 & 0.000 & 0.000 & 0.000 & 0.00000 & 0.00000 & 0.000 & 0.00000 & 0.00000 & 0.00000 & 0.00000 & 0.00000 & 0.00000 & 0.00000 & 0.000 & 0.00000 & 0.00000 & 0.000 & 0.00000 & 0.00000 & 0.00000 & 0.00000 & 0.00000 & 0.00000 & 0.00000 & 0.000 & 0.4429 & 0.00000 & 0.00000 & 0.00000 & 0.0000 & 0.000 & 0.00000 & 0.000 & 0.000 & 0.00 & 0.00000 & 0.00000 & 0.00000 & 0.00000 & 0.000 & 0.00000 & 0.0000 & 0.0000 & 0.00000 & 0.00000 & 0.00000 & 0.000 & 0.00000 & 0.00000 & 0.000 & 0.00000 & 0.00000 & 0.00000 & 0.000 & 0.4563 & 0.000 & 0.00000 & 0.00000 & 0.000 & 0.00000 & 0.00000 & 0.000 & 2.750 & 0.0000 & 0.00000 & 0.00000 & 0.00000 & 0.000 & 0.00000 & 0.00000 & 0.00000 & 0.0000 & 0.00000 & 0.00000 & 0.00000 & 0.00000 & 0.81580 & 0.00000 & 0.00000 & 0.00000 & 0.00000 & 0.00000 & 0.000 & 0.00000 & 0.00000 & 0.00000 & 0.00000 & 0.00000 & 0.00000 & 0.00000 & 0.00000 & 0.000 & 0.00000 & 0.00000 & 0.00000 & 0.0000 & 0.000 & 0.00000 & 0.00 & 0.00000 & 0.00000 & 0.00000 & 0.00000 & 0.00000 & 0.00000 & 0.000 & 0.00000 & 0.00000 & 0.00000 & 0.00000 & 0.00000 & 0.000 & 0.00000 & 0.00000 & 0.000 & 0.000 & 0.000 & 0.00000 & 0.00000 & 0.00000 & 0.0000 &  0.00 & 0.000 & 0.0000 & 0.000 & 0.00000 & 0.0000 & 0.0000 & 0.00000 & 0.000 & 0.00000 & 0.00000 & 0.000 & 0.63530 & 0.00000 & 0.00000 & 0.000 & 0.00000 & 0.00000 & 0.00000 &  0.0000 & 0.65860 & 0.00000 & 0.00000 & 0.00000 & 0.00000 & 0.00000 & 0.00000 & 0.000 & 0.00000 & 0.00000 & 0.00000 &  0.00 & 0.00000 & 0.0000 & 0.0000 & 0.0000 & 0.00000 & 0.00000 & 0.000 & 0.00000 & 0.00000 & 0.000 & 0.00000 & 0.000 & 0.00000 & 0.0000 & 0.00000 & 0.00000 & 0.000 & 0.00000 & 0.0000 & 0.00000 & 0.000 &  0.00 &  0.00000 & 0.0000 & 0.00 & 0.00000 & 0.00000 & 0.00000 & 0.00000 & 0.000 & 0.00000 & 0.000 & 0.000 & 0.00000 & 0.00000 & 0.0000 & 0.000 & 0.000 & 0.00000 & 0.000 & 0.000 & 0.0000 & 0.00 & 0.00000 & 0.00000 & 0.00000 & 0.00000 & 0.3935 & 0.0000 & 0.00000 & 0.00000 & 0.00000 & 0.00000 & 0.000 & 0.00000 & 0.00000 & 0.000 &  0.00000 & 0.00000 & 0.00000 & 0.000 & 0.00000 & 0.00000 & 0.00000 & 0.00000 & 0.0000 & 0.000 & 0.00000 & 0.00000 & 0.00000 & 0.000 & 0.00000 &  0.00000 & 0.00000 & 0.00000 & 0.00000 & 0.000 & 0.00 & 0.00000 & 0.00000 &  0.00000 & 0.000 & 0.000 & 0.00000 & 0.000 & 0.0000 & 0.00000 & 0.00000 & 0.00000 & 0.0000 & 0.00000 & 0.000 & 0.000 & 0.000 & 0.00000 & 0.00000 & 0.000 & 0.00000 & 0.00000 & 0.000 & 0.000 & 0.00000 & 0.00000 & 0.00000 & 0.00000 & 0.00000 & 0.00000 & 0.00000 & 0.00000 & 0.00000 & 0.00000 & 0.00000 & 0.000 & 0.00000 & 0.46750 & 0.00000 & 0.00000 & 0.00000 & 0.0000 & 0.00000 & 0.00000 & 0.00000 & 0.00000 & 0.65550 & 0.00000 & 0.49390 & 0.00000 & 0.00000 & 0.00000 & 0.00000 & 0.00000 & 0.00000 & 0.00000 & 0.00000 & 0.00 & 0.000 & 0.0000 & 0.00000 & 0.65930 & 0.000 & 0.00000 & 0.00000 & 0.00000 & 0.000 & 0.00000 & 0.61120 & ENSG00000278267.1 & MIR6859-1   & ENSG00000278267\\\\\n",
       "\t 0.00000 & 0.00000 & 0.0000 &  0.0000 & 0.00000 & 0.00000 & 0.00000 & 0.04532 & 0.0000 & 0.00000 & 0.0000 & 0.00000 & 0.04187 & 0.00000 & 0.00000 & 0.00000 & 0.00 & 0.000 & 0.00000 & 0.00000 & 0.00000 & 0.00000 & 0.00 & 0.000 & 0.00000 &  0.00000 & 0.00000 & 0.00000 & 0.00000 & 0.027 & 0.00000 & 0.000 & 0.000 & 0.00000 & 0.03801 & 0.02461 & 0.05843 & 0.00000 & 0.000 & 0.05757 & 0.00000 & 0.000 & 0.0000 & 0.00000 & 0.0000 &  0.00000 & 0.00000 & 0.00000 &  0.00000 & 0.000 & 0.000 & 0.00000 & 0.000 & 0.04058 & 0.02788 & 0.0000 &  0.0 & 0.00000 & 0.000 & 0.00000 & 0.00000 & 0.00000 & 0.0000 & 0.000 & 0.036 & 0.00000 & 0.00000 & 0.05064 & 0.00000 & 0.08861 & 0.00000 & 0.0000 & 0.00000 & 0.00000 & 0.000 & 0.00000 & 0.000 & 0.000 & 0.0000 & 0.00000 & 0.00000 & 0.00000 & 0.00000 & 0.000 & 0.000 & 0.00000 & 0.00000 & 0.000 & 0.00000 & 0.05533 & 0.00000 & 0.000 & 0.00 & 0.000 & 0.00 & 0.00000 & 0.00000 & 0.000 & 0.0 & 0.000 & 0.00000 & 0.0000 & 0.00000 &  0.0000 & 0.00000 &  0.0000 & 0.000 & 0.00000 & 0.00000 & 0.000 & 0.00000 & 0.00 & 0.00000 & 0.04178 & 0.07695 & 0.00000 & 0.00000 & 0.000 & 0.00000 & 0.000 & 0.00000 & 0.03893 & 0.000 & 0.00000 & 0.000 & 0.0000 & 0.00000 & 0.00000 & 0.000 & 0.000 & 0.000 & 0.06056 & 0.04075 & 0.07773 & 0.00000 & 0.000 & 0.00000 &  0.00 & 0.00000 & 0.00000 & 0.00000 & 0.000 & 0.000 & 0.00000 & 0.00000 & 0.000 & 0.0000 & 0.00000 & 0.00000 & 0.05972 & 0.00000 & 0.000 & 0.00000 & 0.00000 & 0.00000 & 0.00000 & 0.09966 & 0.00000 & 0.05946 & 0.00000 & 0.000 & 0.00000 & 0.000 & 0.0000 & 0.00000 & 0.000 & 0.00000 & 0.07184 & 0.000 & 0.08822 & 0.00000 & 0.00000 & 0.000 & 0.00000 & 0.02628 & 0.0000 & 0.00000 & 0.00000 & 0.0000 & 0.04174 & 0.000 & 0.08175 & 0.00000 & 0.00000 & 0.00000 & 0.37180 & 0.00000 & 0.000 & 0.00000 & 0.00000 & 0.0000 & 0.03735 & 0.03802 & 0.04767 & 0.000 & 0.00000 & 0.00 & 0.00000 & 0.00000 & 0.03656 & 0.00000 &  0.00000 & 0.00000 & 0.000 & 0.00000 & 0.00000 & 0.03368 & 0.00000 & 0.00000 & 0.00000 & 0.00000 & 0.00000 & 0.000 & 0.00000 & 0.00000 & 0.03724 & 0.10400 & 0.00000 & 0.04756 & 0.00000 & 0.00000 & 0.0000 & 0.00000 & 0.03763 & 0.03822 & 0.00000 & 0.06914 & 0.000 & 0.000 & 0.00000 & 0.000 & 0.00000 & 0.04854 & 0.000 & 0.03273 & 0.000 & 0.000 &  0.00 & 0.000 & 0.000 & 0.04853 & 0.00000 & 0.00000 & 0.000 & 0.00000 & 0.11410 & 0.000 & 0.00000 & 0.000 & 0.00 & 0.00000 & 0.00000 & 0.000 &  0.00000 & 0.00000 & 0.0000 & 0.07274 & 0.00000 & 0.000 & 0.03460 & 0.0000 & 0.000 & 0.0000 & 0.00000 & 0.00000 & 0.00 & 0.00000 & 0.00000 & 0.04362 & 0.00000 & 0.00000 & 0.03950 & 0.00000 & 0.000 & 0.0000 & 0.000 & 0.0000 & 0.000 & 0.000 & 0.0000 & 0.00000 & 0.03319 & 0.00000 & 0.02770 & 0.00000 & 0.000 & 0.000 & 0.00000 & 0.00000 & 0.000 & 0.00 & 0.000 & 0.02687 & 0.00000 & 0.00000 & 0.00000 & 0.00000 & 0.00 & 0.00000 & 0.0000 & 0.0000 & 0.00000 & 0.00000 & 0.00000 & 0.000 & 0.00000 & 0.000 & 0.000 & 0.000 & 0.000 & 0.00000 & 0.00000 & 0.0000 & 0.05478 & 0.05472 & 0.06321 & 0.00000 & 0.00000 & 0.00000 & 0.00000 & 0.03868 & 0.00000 & 0.000 & 0.00000 & 0.000 & 0.000 & 0.0273 & 0.05124 & 0.000 & 0.00000 & 0.0000 & 0.0000 & 0.04679 & 0.000 & 0.00000 & 0.00000 & 0.00000 & 0.00000 & 0.000 & 0.00000 & 0.000 & 0.00000 & 0.000 & 0.000 & 0.00000 & 0.00000 & 0.000 & 0.00000 & 0.00000 & 0.000 & 0.0000 & 0.00000 & 0.00000 & 0.00000 & 0.0000 & 0.000 & 0.0000 & 0.0000 & 0.0000 & 0.000 & 0.000 & 0.000 & 0.00000 & 0.00000 & 0.04516 & 0.000 & 0.0000 & 0.00000 & 0.0307 & 0.000 & 0.0000 & 0.000 & 0.000 & 0.00000 & 0.0000 & 0.0000 & 0.000 & 0.00000 & 0.00 & 0.00000 & 0.00000 & 0.00000 & 0.00000 & 0.04221 & 0.000 & 0.00000 & 0.000 & 0.00000 & 0.00000 & 0.000 & 0.0000 & 0.00000 & 0.00000 & 0.00000 & 0.000 & 0.0000 & 0.0000 & 0.000 & 0.00000 & 0.000 & 0.00000 & 0.00000 & 0.00000 & 0.000 & 0.0000 & 0.000 & 0.00000 & 0.00000 &  0.0000 & 0.00000 & 0.0000 & 0.00000 & 0.000 & 0.040 & 0.000 & 0.000 & 0.0000 & 0.000 & 0.00000 & 0.000 & 0.000 & 0.00000 & 0.000 & 0.0000 & 0.00000 & 0.00000 & 0.0000 & 0.00000 & 0.00000 & 0.00000 & 0.00000 & 0.0000 & 0.000 & 0.00000 & 0.02591 & 0.00000 & 0.00000 & 0.02840 & 0.000 & 0.00000 & 0.000 & 0.00000 & 0.00000 & 0.0000 & 0.000 & 0.000 & 0.000 & 0.000 & 0.000 & 0.00000 & 0.0000 & 0.0000 & 0.000 & 0.000 & 0.000 & 0.000 & 0.000 & 0.000 & 0.000 & 0.00000 & 0.00000 & 0.000 & 0.03918 & 0.00000 & 0.00000 & 0.00000 & 0.00000 & 0.03983 & 0.02522 & 0.000 & 0.00000 & 0.07529 & 0.000 & 0.00000 & 0.03587 & 0.00000 & 0.00000 & 0.05679 & 0.00000 & 0.00000 & 0.000 & 0.0000 & 0.08573 & 0.00000 & 0.00000 & 0.0000 & 0.000 & 0.00000 & 0.000 & 0.000 & 0.00 & 0.00000 & 0.02578 & 0.00000 & 0.03381 & 0.000 & 0.00000 & 0.0000 & 0.0000 & 0.03173 & 0.00000 & 0.00000 & 0.000 & 0.00000 & 0.00000 & 0.000 & 0.00000 & 0.00000 & 0.00000 & 0.000 & 0.0000 & 0.000 & 0.00000 & 0.00000 & 0.000 & 0.00000 & 0.00000 & 0.000 & 0.000 & 0.0000 & 0.00000 & 0.00000 & 0.04132 & 0.000 & 0.00000 & 0.00000 & 0.04956 & 0.0000 & 0.00000 & 0.00000 & 0.00000 & 0.00000 & 0.00000 & 0.08339 & 0.00000 & 0.04857 & 0.00000 & 0.07383 & 0.000 & 0.00000 & 0.00000 & 0.00000 & 0.12500 & 0.00000 & 0.03761 & 0.00000 & 0.00000 & 0.000 & 0.00000 & 0.00000 & 0.00000 & 0.0000 & 0.000 & 0.00000 & 0.00 & 0.00000 & 0.00000 & 0.00000 & 0.00000 & 0.04540 & 0.00000 & 0.000 & 0.00000 & 0.06728 & 0.00000 & 0.00000 & 0.00000 & 0.000 & 0.00000 & 0.08597 & 0.000 & 0.000 & 0.000 & 0.07089 & 0.04839 & 0.05169 & 0.0000 &  0.00 & 0.000 & 0.0000 & 0.000 & 0.08213 & 0.0000 & 0.0898 & 0.00000 & 0.000 & 0.05439 & 0.00000 & 0.000 & 0.00000 & 0.00000 & 0.00000 & 0.000 & 0.00000 & 0.00000 & 0.03647 &  0.1128 & 0.05171 & 0.03176 & 0.05286 & 0.08475 & 0.00000 & 0.00000 & 0.03977 & 0.000 & 0.03500 & 0.04076 & 0.00000 &  0.00 & 0.00000 & 0.0000 & 0.0000 & 0.0000 & 0.00000 & 0.00000 & 0.000 & 0.00000 & 0.00000 & 0.000 & 0.00000 & 0.000 & 0.00000 & 0.0000 & 0.00000 & 0.00000 & 0.000 & 0.00000 & 0.0000 & 0.00000 & 0.000 &  0.00 &  0.00000 & 0.0000 & 0.00 & 0.00000 & 0.08496 & 0.00000 & 0.03075 & 0.000 & 0.00000 & 0.000 & 0.000 & 0.04453 & 0.00000 & 0.0000 & 0.000 & 0.000 & 0.04493 & 0.000 & 0.000 & 0.0000 & 0.00 & 0.00000 & 0.00000 & 0.00000 & 0.00000 & 0.0000 & 0.1088 & 0.03184 & 0.00000 & 0.04161 & 0.10860 & 0.000 & 0.00000 & 0.07527 & 0.000 &  0.06598 & 0.00000 & 0.06691 & 0.000 & 0.00000 & 0.00000 & 0.00000 & 0.00000 & 0.0000 & 0.000 & 0.00000 & 0.00000 & 0.00000 & 0.000 & 0.00000 &  0.05026 & 0.00000 & 0.04066 & 0.00000 & 0.000 & 0.00 & 0.00000 & 0.00000 &  0.00000 & 0.000 & 0.000 & 0.00000 & 0.000 & 0.0000 & 0.02891 & 0.04147 & 0.00000 & 0.0000 & 0.00000 & 0.000 & 0.000 & 0.000 & 0.00000 & 0.05811 & 0.000 & 0.00000 & 0.04295 & 0.000 & 0.000 & 0.00000 & 0.00000 & 0.00000 & 0.00000 & 0.00000 & 0.06576 & 0.00000 & 0.00000 & 0.03325 & 0.00000 & 0.03938 & 0.000 & 0.04466 & 0.00000 & 0.09216 & 0.00000 & 0.05378 & 0.0000 & 0.00000 & 0.00000 & 0.04880 & 0.00000 & 0.00000 & 0.00000 & 0.00000 & 0.00000 & 0.00000 & 0.00000 & 0.00000 & 0.00000 & 0.03474 & 0.00000 & 0.00000 & 0.00 & 0.000 & 0.0000 & 0.00000 & 0.00000 & 0.000 & 0.09698 & 0.11430 & 0.00000 & 0.000 & 0.00000 & 0.00000 & ENSG00000243485.5 & MIR1302-2HG & ENSG00000243485\\\\\n",
       "\t 0.00000 & 0.00000 & 0.0576 &  0.0000 & 0.00000 & 0.00000 & 0.00000 & 0.00000 & 0.0000 & 0.00000 & 0.0000 & 0.00000 & 0.00000 & 0.00000 & 0.00000 & 0.00000 & 0.00 & 0.000 & 0.03022 & 0.00000 & 0.00000 & 0.00000 & 0.00 & 0.000 & 0.00000 &  0.00000 & 0.00000 & 0.00000 & 0.00000 & 0.000 & 0.00000 & 0.000 & 0.000 & 0.00000 & 0.00000 & 0.00000 & 0.00000 & 0.00000 & 0.000 & 0.00000 & 0.06217 & 0.000 & 0.0000 & 0.00000 & 0.0000 &  0.00000 & 0.01902 & 0.00000 &  0.00000 & 0.000 & 0.000 & 0.00000 & 0.000 & 0.00000 & 0.00000 & 0.0000 &  0.0 & 0.00000 & 0.000 & 0.00000 & 0.00000 & 0.04013 & 0.0000 & 0.000 & 0.000 & 0.03324 & 0.00000 & 0.00000 & 0.02132 & 0.00000 & 0.00000 & 0.0000 & 0.00000 & 0.02712 & 0.000 & 0.00000 & 0.000 & 0.000 & 0.0000 & 0.03285 & 0.03978 & 0.00000 & 0.00000 & 0.000 & 0.000 & 0.02994 & 0.00000 & 0.000 & 0.00000 & 0.00000 & 0.00000 & 0.000 & 0.00 & 0.000 & 0.00 & 0.00000 & 0.00000 & 0.000 & 0.0 & 0.000 & 0.05216 & 0.0000 & 0.02568 &  0.0000 & 0.00000 &  0.0000 & 0.000 & 0.00000 & 0.00000 & 0.000 & 0.00000 & 0.00 & 0.00000 & 0.00000 & 0.00000 & 0.00000 & 0.00000 & 0.000 & 0.00000 & 0.000 & 0.00000 & 0.02766 & 0.000 & 0.03783 & 0.000 & 0.0000 & 0.02763 & 0.00000 & 0.000 & 0.037 & 0.000 & 0.00000 & 0.02895 & 0.00000 & 0.04155 & 0.000 & 0.00000 &  0.00 & 0.00000 & 0.03664 & 0.00000 & 0.000 & 0.000 & 0.02835 & 0.05343 & 0.000 & 0.0000 & 0.00000 & 0.00000 & 0.00000 & 0.00000 & 0.000 & 0.00000 & 0.00000 & 0.06306 & 0.00000 & 0.00000 & 0.00000 & 0.00000 & 0.00000 & 0.000 & 0.00000 & 0.000 & 0.0000 & 0.00000 & 0.000 & 0.00000 & 0.00000 & 0.000 & 0.03134 & 0.00000 & 0.00000 & 0.000 & 0.01956 & 0.00000 & 0.0000 & 0.05778 & 0.00000 & 0.0000 & 0.00000 & 0.000 & 0.02904 & 0.00000 & 0.00000 & 0.00000 & 0.03773 & 0.02939 & 0.000 & 0.00000 & 0.00000 & 0.0000 & 0.00000 & 0.02701 & 0.00000 & 0.000 & 0.00000 & 0.00 & 0.00000 & 0.02280 & 0.00000 & 0.00000 &  0.01727 & 0.03446 & 0.000 & 0.00000 & 0.03504 & 0.00000 & 0.00000 & 0.00000 & 0.00000 & 0.00000 & 0.04862 & 0.000 & 0.00000 & 0.02926 & 0.05291 & 0.00000 & 0.03681 & 0.00000 & 0.00000 & 0.00000 & 0.0000 & 0.00000 & 0.00000 & 0.00000 & 0.00000 & 0.02456 & 0.000 & 0.000 & 0.00000 & 0.000 & 0.00000 & 0.00000 & 0.000 & 0.00000 & 0.000 & 0.000 &  0.00 & 0.000 & 0.000 & 0.00000 & 0.00000 & 0.00000 & 0.000 & 0.00000 & 0.02702 & 0.000 & 0.00000 & 0.000 & 0.00 & 0.00000 & 0.03059 & 0.000 &  0.00000 & 0.00000 & 0.0000 & 0.00000 & 0.00000 & 0.000 & 0.00000 & 0.0000 & 0.000 & 0.0000 & 0.00000 & 0.00000 & 0.00 & 0.00000 & 0.02388 & 0.00000 & 0.00000 & 0.00000 & 0.02806 & 0.00000 & 0.000 & 0.0000 & 0.000 & 0.0000 & 0.000 & 0.000 & 0.0000 & 0.00000 & 0.00000 & 0.00000 & 0.00000 & 0.00000 & 0.000 & 0.000 & 0.00000 & 0.00000 & 0.000 & 0.00 & 0.000 & 0.01909 & 0.00000 & 0.00000 & 0.00000 & 0.00000 & 0.00 & 0.05970 & 0.0000 & 0.0000 & 0.07730 & 0.00000 & 0.00000 & 0.000 & 0.00000 & 0.000 & 0.000 & 0.000 & 0.000 & 0.03102 & 0.00000 & 0.0000 & 0.00000 & 0.00000 & 0.00000 & 0.00000 & 0.00000 & 0.00000 & 0.00000 & 0.00000 & 0.00000 & 0.000 & 0.00000 & 0.000 & 0.000 & 0.0000 & 0.00000 & 0.000 & 0.00000 & 0.0000 & 0.0000 & 0.06649 & 0.000 & 0.00000 & 0.00000 & 0.00000 & 0.00000 & 0.000 & 0.00000 & 0.000 & 0.02502 & 0.000 & 0.000 & 0.02390 & 0.00000 & 0.000 & 0.03854 & 0.00000 & 0.000 & 0.0000 & 0.00000 & 0.00000 & 0.00000 & 0.0000 & 0.000 & 0.0000 & 0.0000 & 0.0000 & 0.000 & 0.000 & 0.000 & 0.06445 & 0.00000 & 0.03209 & 0.000 & 0.0000 & 0.02720 & 0.0000 & 0.000 & 0.0000 & 0.000 & 0.000 & 0.00000 & 0.0000 & 0.0000 & 0.000 & 0.00000 & 0.00 & 0.00000 & 0.00000 & 0.00000 & 0.00000 & 0.00000 & 0.000 & 0.00000 & 0.000 & 0.00000 & 0.00000 & 0.000 & 0.0000 & 0.00000 & 0.00000 & 0.00000 & 0.000 & 0.0000 & 0.0000 & 0.000 & 0.02501 & 0.000 & 0.00000 & 0.00000 & 0.00000 & 0.000 & 0.0000 & 0.000 & 0.00000 & 0.00000 &  0.0000 & 0.00000 & 0.0000 & 0.00000 & 0.000 & 0.000 & 0.000 & 0.000 & 0.0000 & 0.000 & 0.01934 & 0.000 & 0.000 & 0.00000 & 0.000 & 0.0000 & 0.00000 & 0.00000 & 0.0000 & 0.00000 & 0.00000 & 0.02306 & 0.00000 & 0.0000 & 0.000 & 0.00000 & 0.00000 & 0.00000 & 0.00000 & 0.00000 & 0.000 & 0.00000 & 0.000 & 0.01744 & 0.00000 & 0.0000 & 0.000 & 0.000 & 0.000 & 0.000 & 0.000 & 0.00000 & 0.0000 & 0.0000 & 0.000 & 0.000 & 0.000 & 0.000 & 0.000 & 0.000 & 0.000 & 0.00000 & 0.00000 & 0.000 & 0.00000 & 0.00000 & 0.00000 & 0.00000 & 0.00000 & 0.00000 & 0.00000 & 0.000 & 0.00000 & 0.02674 & 0.000 & 0.00000 & 0.00000 & 0.00000 & 0.00000 & 0.00000 & 0.00000 & 0.00000 & 0.000 & 0.0000 & 0.00000 & 0.00000 & 0.00000 & 0.0000 & 0.000 & 0.02127 & 0.000 & 0.000 & 0.00 & 0.00000 & 0.00000 & 0.00000 & 0.00000 & 0.000 & 0.00000 & 0.0000 & 0.0000 & 0.00000 & 0.00000 & 0.00000 & 0.000 & 0.00000 & 0.00000 & 0.000 & 0.00000 & 0.00000 & 0.00000 & 0.000 & 0.0000 & 0.000 & 0.00000 & 0.00000 & 0.000 & 0.00000 & 0.03072 & 0.000 & 0.000 & 0.0000 & 0.00000 & 0.00000 & 0.00000 & 0.000 & 0.00000 & 0.00000 & 0.03521 & 0.0000 & 0.00000 & 0.03221 & 0.02899 & 0.02583 & 0.00000 & 0.00000 & 0.03243 & 0.00000 & 0.00000 & 0.00000 & 0.000 & 0.00000 & 0.00000 & 0.02961 & 0.00000 & 0.00000 & 0.00000 & 0.00000 & 0.00000 & 0.000 & 0.03111 & 0.00000 & 0.00000 & 0.0000 & 0.000 & 0.00000 & 0.00 & 0.00000 & 0.00000 & 0.00000 & 0.00000 & 0.00000 & 0.00000 & 0.000 & 0.07295 & 0.00000 & 0.00000 & 0.00000 & 0.00000 & 0.000 & 0.06651 & 0.00000 & 0.000 & 0.000 & 0.000 & 0.00000 & 0.00000 & 0.00000 & 0.0000 &  0.00 & 0.000 & 0.0000 & 0.000 & 0.00000 & 0.0000 & 0.0000 & 0.00000 & 0.000 & 0.00000 & 0.05457 & 0.000 & 0.00000 & 0.03704 & 0.09694 & 0.000 & 0.00000 & 0.03859 & 0.00000 &  0.1603 & 0.00000 & 0.00000 & 0.03755 & 0.06021 & 0.00000 & 0.02903 & 0.00000 & 0.000 & 0.00000 & 0.05791 & 0.01731 &  0.00 & 0.00000 & 0.0330 & 0.0000 & 0.0000 & 0.00000 & 0.00000 & 0.000 & 0.03097 & 0.00000 & 0.000 & 0.00000 & 0.000 & 0.00000 & 0.0000 & 0.00000 & 0.02500 & 0.000 & 0.02596 & 0.0000 & 0.02824 & 0.000 &  0.00 &  0.02133 & 0.0000 & 0.00 & 0.00000 & 0.06036 & 0.00000 & 0.02185 & 0.000 & 0.00000 & 0.000 & 0.000 & 0.00000 & 0.00000 & 0.0000 & 0.000 & 0.000 & 0.00000 & 0.000 & 0.000 & 0.0000 & 0.00 & 0.00000 & 0.01876 & 0.02300 & 0.00000 & 0.0000 & 0.0000 & 0.00000 & 0.03551 & 0.02956 & 0.00000 & 0.000 & 0.03238 & 0.00000 & 0.000 &  0.00000 & 0.00000 & 0.00000 & 0.000 & 0.00000 & 0.00000 & 0.00000 & 0.00000 & 0.0000 & 0.000 & 0.00000 & 0.02714 & 0.00000 & 0.000 & 0.00000 &  0.00000 & 0.00000 & 0.02889 & 0.00000 & 0.000 & 0.00 & 0.03427 & 0.04966 &  0.04173 & 0.000 & 0.000 & 0.00000 & 0.000 & 0.0000 & 0.00000 & 0.00000 & 0.02782 & 0.0313 & 0.00000 & 0.000 & 0.000 & 0.000 & 0.00000 & 0.00000 & 0.000 & 0.00000 & 0.00000 & 0.000 & 0.000 & 0.00000 & 0.00000 & 0.00000 & 0.00000 & 0.02596 & 0.04672 & 0.02687 & 0.00000 & 0.00000 & 0.00000 & 0.00000 & 0.000 & 0.00000 & 0.02608 & 0.00000 & 0.00000 & 0.00000 & 0.0000 & 0.00000 & 0.00000 & 0.00000 & 0.00000 & 0.00000 & 0.00000 & 0.00000 & 0.02803 & 0.00000 & 0.00000 & 0.02157 & 0.00000 & 0.00000 & 0.02676 & 0.02927 & 0.00 & 0.000 & 0.0000 & 0.00000 & 0.03678 & 0.000 & 0.00000 & 0.04058 & 0.00000 & 0.000 & 0.00000 & 0.00000 & ENSG00000237613.2 & FAM138A     & ENSG00000237613\\\\\n",
       "\t 0.00000 & 0.12410 & 0.0000 &  0.0000 & 0.00000 & 0.00000 & 0.05129 & 0.00000 & 0.0000 & 0.00000 & 0.0000 & 0.00000 & 0.00000 & 0.00000 & 0.03664 & 0.00000 & 0.00 & 0.000 & 0.00000 & 0.00000 & 0.02834 & 0.00000 & 0.00 & 0.000 & 0.00000 &  0.04337 & 0.00000 & 0.05114 & 0.00000 & 0.000 & 0.03757 & 0.000 & 0.000 & 0.00000 & 0.00000 & 0.00000 & 0.00000 & 0.00000 & 0.000 & 0.05935 & 0.00000 & 0.000 & 0.0000 & 0.03659 & 0.0000 &  0.08359 & 0.00000 & 0.00000 &  0.04381 & 0.000 & 0.000 & 0.06399 & 0.000 & 0.04184 & 0.02875 & 0.0499 &  0.0 & 0.03968 & 0.000 & 0.00000 & 0.00000 & 0.00000 & 0.0000 & 0.000 & 0.000 & 0.00000 & 0.03868 & 0.00000 & 0.00000 & 0.00000 & 0.00000 & 0.0000 & 0.00000 & 0.00000 & 0.000 & 0.00000 & 0.000 & 0.000 & 0.0000 & 0.00000 & 0.00000 & 0.00000 & 0.00000 & 0.000 & 0.000 & 0.08689 & 0.00000 & 0.000 & 0.05147 & 0.00000 & 0.00000 & 0.000 & 0.00 & 0.000 & 0.00 & 0.00000 & 0.03317 & 0.000 & 0.0 & 0.000 & 0.00000 & 0.0000 & 0.03727 &  0.0000 & 0.03920 &  0.1515 & 0.000 & 0.00000 & 0.00000 & 0.000 & 0.03456 & 0.00 & 0.03231 & 0.00000 & 0.00000 & 0.00000 & 0.06396 & 0.000 & 0.00000 & 0.000 & 0.00000 & 0.00000 & 0.000 & 0.00000 & 0.000 & 0.0000 & 0.08018 & 0.00000 & 0.000 & 0.000 & 0.000 & 0.00000 & 0.04201 & 0.00000 & 0.00000 & 0.000 & 0.05088 &  0.00 & 0.00000 & 0.00000 & 0.05709 & 0.000 & 0.000 & 0.00000 & 0.00000 & 0.000 & 0.0000 & 0.00000 & 0.06876 & 0.00000 & 0.00000 & 0.000 & 0.04799 & 0.00000 & 0.04576 & 0.00000 & 0.20550 & 0.04911 & 0.00000 & 0.04453 & 0.000 & 0.00000 & 0.000 & 0.0000 & 0.00000 & 0.000 & 0.00000 & 0.00000 & 0.000 & 0.09095 & 0.00000 & 0.00000 & 0.000 & 0.08517 & 0.00000 & 0.0000 & 0.00000 & 0.00000 & 0.0000 & 0.00000 & 0.000 & 0.00000 & 0.05140 & 0.03958 & 0.00000 & 0.05476 & 0.00000 & 0.000 & 0.00000 & 0.00000 & 0.0000 & 0.00000 & 0.03920 & 0.00000 & 0.000 & 0.03796 & 0.00 & 0.08254 & 0.00000 & 0.03769 & 0.00000 &  0.00000 & 0.00000 & 0.000 & 0.03563 & 0.00000 & 0.00000 & 0.00000 & 0.00000 & 0.10230 & 0.00000 & 0.03528 & 0.000 & 0.09478 & 0.00000 & 0.11520 & 0.10720 & 0.00000 & 0.04903 & 0.03889 & 0.04062 & 0.0283 & 0.11190 & 0.00000 & 0.00000 & 0.04962 & 0.03564 & 0.000 & 0.000 & 0.04408 & 0.000 & 0.00000 & 0.00000 & 0.000 & 0.00000 & 0.000 & 0.000 &  0.00 & 0.000 & 0.000 & 0.00000 & 0.04071 & 0.00000 & 0.000 & 0.00000 & 0.07841 & 0.000 & 0.00000 & 0.000 & 0.00 & 0.00000 & 0.00000 & 0.000 &  0.00000 & 0.00000 & 0.0000 & 0.00000 & 0.00000 & 0.000 & 0.00000 & 0.0000 & 0.000 & 0.0417 & 0.00000 & 0.07549 & 0.00 & 0.00000 & 0.00000 & 0.00000 & 0.03806 & 0.00000 & 0.04072 & 0.00000 & 0.000 & 0.0000 & 0.000 & 0.0000 & 0.000 & 0.000 & 0.0000 & 0.00000 & 0.00000 & 0.00000 & 0.02856 & 0.00000 & 0.000 & 0.000 & 0.01936 & 0.00000 & 0.000 & 0.00 & 0.000 & 0.00000 & 0.00000 & 0.00000 & 0.03105 & 0.02735 & 0.00 & 0.00000 & 0.0000 & 0.0000 & 0.00000 & 0.03113 & 0.00000 & 0.000 & 0.00000 & 0.000 & 0.000 & 0.000 & 0.000 & 0.00000 & 0.00000 & 0.1074 & 0.00000 & 0.00000 & 0.06517 & 0.00000 & 0.00000 & 0.00000 & 0.00000 & 0.00000 & 0.00000 & 0.000 & 0.00000 & 0.000 & 0.000 & 0.0000 & 0.00000 & 0.000 & 0.00000 & 0.0421 & 0.0000 & 0.00000 & 0.000 & 0.00000 & 0.04008 & 0.00000 & 0.04756 & 0.000 & 0.00000 & 0.000 & 0.00000 & 0.000 & 0.000 & 0.00000 & 0.00000 & 0.000 & 0.00000 & 0.00000 & 0.000 & 0.0000 & 0.00000 & 0.00000 & 0.00000 & 0.0000 & 0.000 & 0.0000 & 0.0000 & 0.0000 & 0.000 & 0.000 & 0.000 & 0.04676 & 0.00000 & 0.09312 & 0.000 & 0.0000 & 0.03948 & 0.0000 & 0.000 & 0.0000 & 0.000 & 0.000 & 0.00000 & 0.0000 & 0.0000 & 0.000 & 0.00000 & 0.00 & 0.06564 & 0.03581 & 0.00000 & 0.05654 & 0.00000 & 0.000 & 0.00000 & 0.000 & 0.01525 & 0.00000 & 0.000 & 0.0000 & 0.00000 & 0.00000 & 0.00000 & 0.000 & 0.0000 & 0.0000 & 0.000 & 0.00000 & 0.000 & 0.00000 & 0.00000 & 0.00000 & 0.000 & 0.0000 & 0.000 & 0.00000 & 0.03686 &  0.0000 & 0.00000 & 0.0000 & 0.05811 & 0.000 & 0.000 & 0.000 & 0.000 & 0.0000 & 0.000 & 0.00000 & 0.000 & 0.000 & 0.02721 & 0.000 & 0.0000 & 0.04185 & 0.00000 & 0.0000 & 0.00000 & 0.00000 & 0.03347 & 0.00000 & 0.0318 & 0.000 & 0.00000 & 0.02671 & 0.00000 & 0.00000 & 0.00000 & 0.000 & 0.00000 & 0.000 & 0.00000 & 0.00000 & 0.0000 & 0.000 & 0.000 & 0.000 & 0.000 & 0.000 & 0.00000 & 0.0000 & 0.0000 & 0.000 & 0.000 & 0.000 & 0.000 & 0.000 & 0.000 & 0.000 & 0.03887 & 0.00000 & 0.000 & 0.00000 & 0.04802 & 0.04011 & 0.03989 & 0.06914 & 0.00000 & 0.00000 & 0.000 & 0.08254 & 0.00000 & 0.000 & 0.04238 & 0.00000 & 0.03342 & 0.00000 & 0.05855 & 0.00000 & 0.00000 & 0.000 & 0.0000 & 0.00000 & 0.00000 & 0.00000 & 0.0000 & 0.000 & 0.03087 & 0.000 & 0.000 & 0.00 & 0.03072 & 0.00000 & 0.04109 & 0.00000 & 0.000 & 0.00000 & 0.0471 & 0.0000 & 0.03272 & 0.00000 & 0.02643 & 0.000 & 0.00000 & 0.04228 & 0.000 & 0.00000 & 0.00000 & 0.00000 & 0.000 & 0.0000 & 0.000 & 0.00000 & 0.00000 & 0.000 & 0.04921 & 0.00000 & 0.000 & 0.000 & 0.0000 & 0.00000 & 0.00000 & 0.04260 & 0.000 & 0.03717 & 0.00000 & 0.05110 & 0.0000 & 0.07419 & 0.04675 & 0.00000 & 0.00000 & 0.06604 & 0.08597 & 0.04707 & 0.00000 & 0.04034 & 0.07612 & 0.000 & 0.03096 & 0.00000 & 0.00000 & 0.12880 & 0.04434 & 0.00000 & 0.08741 & 0.00000 & 0.000 & 0.00000 & 0.00000 & 0.02926 & 0.0000 & 0.000 & 0.00000 & 0.00 & 0.00000 & 0.05316 & 0.00000 & 0.07882 & 0.04681 & 0.00000 & 0.000 & 0.15880 & 0.03468 & 0.00000 & 0.06034 & 0.04272 & 0.000 & 0.09651 & 0.00000 & 0.000 & 0.000 & 0.000 & 0.21920 & 0.00000 & 0.00000 & 0.1195 &  0.00 & 0.000 & 0.0000 & 0.000 & 0.08467 & 0.1844 & 0.0000 & 0.05905 & 0.000 & 0.00000 & 0.00000 & 0.000 & 0.00000 & 0.05375 & 0.07034 & 0.000 & 0.06138 & 0.05600 & 0.00000 &  0.0000 & 0.10660 & 0.03274 & 0.00000 & 0.00000 & 0.06384 & 0.00000 & 0.00000 & 0.000 & 0.03608 & 0.00000 & 0.00000 &  0.00 & 0.00000 & 0.0000 & 0.0000 & 0.0000 & 0.00000 & 0.05692 & 0.000 & 0.00000 & 0.00000 & 0.000 & 0.05802 & 0.000 & 0.00000 & 0.0409 & 0.02563 & 0.03629 & 0.000 & 0.00000 & 0.0000 & 0.04098 & 0.000 &  0.00 &  0.03096 & 0.0562 & 0.00 & 0.00000 & 0.08759 & 0.00000 & 0.00000 & 0.000 & 0.03673 & 0.000 & 0.000 & 0.00000 & 0.00000 & 0.0000 & 0.000 & 0.000 & 0.04632 & 0.000 & 0.000 & 0.0000 & 0.00 & 0.03668 & 0.00000 & 0.00000 & 0.03167 & 0.0000 & 0.0000 & 0.03283 & 0.00000 & 0.00000 & 0.05599 & 0.000 & 0.00000 & 0.03880 & 0.000 &  0.00000 & 0.00000 & 0.13800 & 0.000 & 0.00000 & 0.00000 & 0.00000 & 0.00000 & 0.0000 & 0.000 & 0.06735 & 0.00000 & 0.00000 & 0.000 & 0.08027 &  0.05181 & 0.09463 & 0.00000 & 0.00000 & 0.000 & 0.00 & 0.00000 & 0.00000 &  0.12110 & 0.000 & 0.000 & 0.00000 & 0.000 & 0.0000 & 0.00000 & 0.00000 & 0.00000 & 0.0000 & 0.04255 & 0.000 & 0.000 & 0.000 & 0.00000 & 0.00000 & 0.000 & 0.04118 & 0.00000 & 0.000 & 0.000 & 0.02677 & 0.00000 & 0.09088 & 0.03368 & 0.00000 & 0.03390 & 0.00000 & 0.00000 & 0.06856 & 0.00000 & 0.00000 & 0.000 & 0.00000 & 0.03785 & 0.00000 & 0.06758 & 0.11090 & 0.0000 & 0.00000 & 0.00000 & 0.00000 & 0.03747 & 0.00000 & 0.04021 & 0.03998 & 0.00000 & 0.03591 & 0.04228 & 0.00000 & 0.00000 & 0.00000 & 0.03884 & 0.00000 & 0.00 & 0.000 & 0.0000 & 0.00000 & 0.00000 & 0.000 & 0.00000 & 0.00000 & 0.04975 & 0.000 & 0.00000 & 0.04948 & ENSG00000268020.3 & OR4G4P      & ENSG00000268020\\\\\n",
       "\\end{tabular}\n"
      ],
      "text/markdown": [
       "\n",
       "A formattable: 6 × 758\n",
       "\n",
       "| GTEX-111YS-0006-SM-5NQBE &lt;dbl&gt; | GTEX-1122O-0005-SM-5O99J &lt;dbl&gt; | GTEX-1128S-0005-SM-5P9HI &lt;dbl&gt; | GTEX-113IC-0006-SM-5NQ9C &lt;dbl&gt; | GTEX-113JC-0006-SM-5O997 &lt;dbl&gt; | GTEX-117XS-0005-SM-5PNU6 &lt;dbl&gt; | GTEX-117YW-0005-SM-5NQ8Z &lt;dbl&gt; | GTEX-1192W-0005-SM-5NQBQ &lt;dbl&gt; | GTEX-1192X-0005-SM-5NQC3 &lt;dbl&gt; | GTEX-11DXW-0006-SM-5NQ7Y &lt;dbl&gt; | ⋯ ⋯ | GTEX-ZVT3-0006-SM-51MT9 &lt;dbl&gt; | GTEX-ZVT4-0006-SM-57WB8 &lt;dbl&gt; | GTEX-ZVTK-0006-SM-57WBK &lt;dbl&gt; | GTEX-ZVZP-0006-SM-51MSW &lt;dbl&gt; | GTEX-ZVZQ-0006-SM-51MR8 &lt;dbl&gt; | GTEX-ZXES-0005-SM-57WCB &lt;dbl&gt; | GTEX-ZXG5-0005-SM-57WCN &lt;dbl&gt; | Name &lt;chr&gt; | Description &lt;chr&gt; | NameClean &lt;chr&gt; |\n",
       "|---|---|---|---|---|---|---|---|---|---|---|---|---|---|---|---|---|---|---|---|---|\n",
       "| 0.02171 | 0.03015 | 0.0203 |  0.1675 | 0.02104 | 0.02537 | 0.02492 | 0.06809 | 0.0000 | 0.02443 | ⋯ | 0.000 | 0.04858 | 0.11450 | 0.02417 | 0.000 | 0.02128 | 0.00000 | ENSG00000223972.5 | DDX11L1     | ENSG00000223972 |\n",
       "| 1.55500 | 2.74700 | 4.4410 | 10.4700 | 1.28700 | 3.13800 | 4.21700 | 2.09800 | 0.3579 | 4.26200 | ⋯ | 1.504 | 3.19400 | 2.90600 | 3.43000 | 4.169 | 2.74300 | 6.07200 | ENSG00000227232.5 | WASH7P      | ENSG00000227232 |\n",
       "| 0.00000 | 0.00000 | 0.0000 |  0.0000 | 0.00000 | 0.00000 | 0.00000 | 0.00000 | 0.0000 | 0.62120 | ⋯ | 0.000 | 0.00000 | 0.00000 | 0.00000 | 0.000 | 0.00000 | 0.61120 | ENSG00000278267.1 | MIR6859-1   | ENSG00000278267 |\n",
       "| 0.00000 | 0.00000 | 0.0000 |  0.0000 | 0.00000 | 0.00000 | 0.00000 | 0.04532 | 0.0000 | 0.00000 | ⋯ | 0.000 | 0.09698 | 0.11430 | 0.00000 | 0.000 | 0.00000 | 0.00000 | ENSG00000243485.5 | MIR1302-2HG | ENSG00000243485 |\n",
       "| 0.00000 | 0.00000 | 0.0576 |  0.0000 | 0.00000 | 0.00000 | 0.00000 | 0.00000 | 0.0000 | 0.00000 | ⋯ | 0.000 | 0.00000 | 0.04058 | 0.00000 | 0.000 | 0.00000 | 0.00000 | ENSG00000237613.2 | FAM138A     | ENSG00000237613 |\n",
       "| 0.00000 | 0.12410 | 0.0000 |  0.0000 | 0.00000 | 0.00000 | 0.05129 | 0.00000 | 0.0000 | 0.00000 | ⋯ | 0.000 | 0.00000 | 0.00000 | 0.04975 | 0.000 | 0.00000 | 0.04948 | ENSG00000268020.3 | OR4G4P      | ENSG00000268020 |\n",
       "\n"
      ],
      "text/plain": [
       "  GTEX-111YS-0006-SM-5NQBE GTEX-1122O-0005-SM-5O99J GTEX-1128S-0005-SM-5P9HI\n",
       "1 0.02171                  0.03015                  0.0203                  \n",
       "2 1.55500                  2.74700                  4.4410                  \n",
       "3 0.00000                  0.00000                  0.0000                  \n",
       "4 0.00000                  0.00000                  0.0000                  \n",
       "5 0.00000                  0.00000                  0.0576                  \n",
       "6 0.00000                  0.12410                  0.0000                  \n",
       "  GTEX-113IC-0006-SM-5NQ9C GTEX-113JC-0006-SM-5O997 GTEX-117XS-0005-SM-5PNU6\n",
       "1  0.1675                  0.02104                  0.02537                 \n",
       "2 10.4700                  1.28700                  3.13800                 \n",
       "3  0.0000                  0.00000                  0.00000                 \n",
       "4  0.0000                  0.00000                  0.00000                 \n",
       "5  0.0000                  0.00000                  0.00000                 \n",
       "6  0.0000                  0.00000                  0.00000                 \n",
       "  GTEX-117YW-0005-SM-5NQ8Z GTEX-1192W-0005-SM-5NQBQ GTEX-1192X-0005-SM-5NQC3\n",
       "1 0.02492                  0.06809                  0.0000                  \n",
       "2 4.21700                  2.09800                  0.3579                  \n",
       "3 0.00000                  0.00000                  0.0000                  \n",
       "4 0.00000                  0.04532                  0.0000                  \n",
       "5 0.00000                  0.00000                  0.0000                  \n",
       "6 0.05129                  0.00000                  0.0000                  \n",
       "  GTEX-11DXW-0006-SM-5NQ7Y ⋯ GTEX-ZVT3-0006-SM-51MT9 GTEX-ZVT4-0006-SM-57WB8\n",
       "1 0.02443                  ⋯ 0.000                   0.04858                \n",
       "2 4.26200                  ⋯ 1.504                   3.19400                \n",
       "3 0.62120                  ⋯ 0.000                   0.00000                \n",
       "4 0.00000                  ⋯ 0.000                   0.09698                \n",
       "5 0.00000                  ⋯ 0.000                   0.00000                \n",
       "6 0.00000                  ⋯ 0.000                   0.00000                \n",
       "  GTEX-ZVTK-0006-SM-57WBK GTEX-ZVZP-0006-SM-51MSW GTEX-ZVZQ-0006-SM-51MR8\n",
       "1 0.11450                 0.02417                 0.000                  \n",
       "2 2.90600                 3.43000                 4.169                  \n",
       "3 0.00000                 0.00000                 0.000                  \n",
       "4 0.11430                 0.00000                 0.000                  \n",
       "5 0.04058                 0.00000                 0.000                  \n",
       "6 0.00000                 0.04975                 0.000                  \n",
       "  GTEX-ZXES-0005-SM-57WCB GTEX-ZXG5-0005-SM-57WCN Name              Description\n",
       "1 0.02128                 0.00000                 ENSG00000223972.5 DDX11L1    \n",
       "2 2.74300                 6.07200                 ENSG00000227232.5 WASH7P     \n",
       "3 0.00000                 0.61120                 ENSG00000278267.1 MIR6859-1  \n",
       "4 0.00000                 0.00000                 ENSG00000243485.5 MIR1302-2HG\n",
       "5 0.00000                 0.00000                 ENSG00000237613.2 FAM138A    \n",
       "6 0.00000                 0.04948                 ENSG00000268020.3 OR4G4P     \n",
       "  NameClean      \n",
       "1 ENSG00000223972\n",
       "2 ENSG00000227232\n",
       "3 ENSG00000278267\n",
       "4 ENSG00000243485\n",
       "5 ENSG00000237613\n",
       "6 ENSG00000268020"
      ]
     },
     "metadata": {},
     "output_type": "display_data"
    }
   ],
   "source": [
    "formattable(head(expression_list[[\"Whole_Blood\"]]))"
   ]
  },
  {
   "cell_type": "code",
   "execution_count": 40,
   "metadata": {},
   "outputs": [],
   "source": [
    "sample_size <- lapply(expression_list, ncol)\n",
    "tissue_df <- data.frame(tissue = tissue_vec_clean, sample_size = as.numeric(sample_size)-3)"
   ]
  },
  {
   "cell_type": "code",
   "execution_count": 41,
   "metadata": {},
   "outputs": [
    {
     "data": {
      "text/html": [
       "<table>\n",
       "<caption>A data.frame: 6 × 758</caption>\n",
       "<thead>\n",
       "\t<tr><th scope=col>GTEX-111YS-0006-SM-5NQBE</th><th scope=col>GTEX-1122O-0005-SM-5O99J</th><th scope=col>GTEX-1128S-0005-SM-5P9HI</th><th scope=col>GTEX-113IC-0006-SM-5NQ9C</th><th scope=col>GTEX-113JC-0006-SM-5O997</th><th scope=col>GTEX-117XS-0005-SM-5PNU6</th><th scope=col>GTEX-117YW-0005-SM-5NQ8Z</th><th scope=col>GTEX-1192W-0005-SM-5NQBQ</th><th scope=col>GTEX-1192X-0005-SM-5NQC3</th><th scope=col>GTEX-11DXW-0006-SM-5NQ7Y</th><th scope=col>⋯</th><th scope=col>GTEX-ZVT3-0006-SM-51MT9</th><th scope=col>GTEX-ZVT4-0006-SM-57WB8</th><th scope=col>GTEX-ZVTK-0006-SM-57WBK</th><th scope=col>GTEX-ZVZP-0006-SM-51MSW</th><th scope=col>GTEX-ZVZQ-0006-SM-51MR8</th><th scope=col>GTEX-ZXES-0005-SM-57WCB</th><th scope=col>GTEX-ZXG5-0005-SM-57WCN</th><th scope=col>Name</th><th scope=col>Description</th><th scope=col>NameClean</th></tr>\n",
       "\t<tr><th scope=col>&lt;dbl&gt;</th><th scope=col>&lt;dbl&gt;</th><th scope=col>&lt;dbl&gt;</th><th scope=col>&lt;dbl&gt;</th><th scope=col>&lt;dbl&gt;</th><th scope=col>&lt;dbl&gt;</th><th scope=col>&lt;dbl&gt;</th><th scope=col>&lt;dbl&gt;</th><th scope=col>&lt;dbl&gt;</th><th scope=col>&lt;dbl&gt;</th><th scope=col>⋯</th><th scope=col>&lt;dbl&gt;</th><th scope=col>&lt;dbl&gt;</th><th scope=col>&lt;dbl&gt;</th><th scope=col>&lt;dbl&gt;</th><th scope=col>&lt;dbl&gt;</th><th scope=col>&lt;dbl&gt;</th><th scope=col>&lt;dbl&gt;</th><th scope=col>&lt;chr&gt;</th><th scope=col>&lt;chr&gt;</th><th scope=col>&lt;chr&gt;</th></tr>\n",
       "</thead>\n",
       "<tbody>\n",
       "\t<tr><td>0.02171</td><td>0.03015</td><td>0.0203</td><td> 0.1675</td><td>0.02104</td><td>0.02537</td><td>0.02492</td><td>0.06809</td><td>0.0000</td><td>0.02443</td><td>⋯</td><td>0.000</td><td>0.04858</td><td>0.11450</td><td>0.02417</td><td>0.000</td><td>0.02128</td><td>0.00000</td><td>ENSG00000223972.5</td><td>DDX11L1    </td><td>ENSG00000223972</td></tr>\n",
       "\t<tr><td>1.55500</td><td>2.74700</td><td>4.4410</td><td>10.4700</td><td>1.28700</td><td>3.13800</td><td>4.21700</td><td>2.09800</td><td>0.3579</td><td>4.26200</td><td>⋯</td><td>1.504</td><td>3.19400</td><td>2.90600</td><td>3.43000</td><td>4.169</td><td>2.74300</td><td>6.07200</td><td>ENSG00000227232.5</td><td>WASH7P     </td><td>ENSG00000227232</td></tr>\n",
       "\t<tr><td>0.00000</td><td>0.00000</td><td>0.0000</td><td> 0.0000</td><td>0.00000</td><td>0.00000</td><td>0.00000</td><td>0.00000</td><td>0.0000</td><td>0.62120</td><td>⋯</td><td>0.000</td><td>0.00000</td><td>0.00000</td><td>0.00000</td><td>0.000</td><td>0.00000</td><td>0.61120</td><td>ENSG00000278267.1</td><td>MIR6859-1  </td><td>ENSG00000278267</td></tr>\n",
       "\t<tr><td>0.00000</td><td>0.00000</td><td>0.0000</td><td> 0.0000</td><td>0.00000</td><td>0.00000</td><td>0.00000</td><td>0.04532</td><td>0.0000</td><td>0.00000</td><td>⋯</td><td>0.000</td><td>0.09698</td><td>0.11430</td><td>0.00000</td><td>0.000</td><td>0.00000</td><td>0.00000</td><td>ENSG00000243485.5</td><td>MIR1302-2HG</td><td>ENSG00000243485</td></tr>\n",
       "\t<tr><td>0.00000</td><td>0.00000</td><td>0.0576</td><td> 0.0000</td><td>0.00000</td><td>0.00000</td><td>0.00000</td><td>0.00000</td><td>0.0000</td><td>0.00000</td><td>⋯</td><td>0.000</td><td>0.00000</td><td>0.04058</td><td>0.00000</td><td>0.000</td><td>0.00000</td><td>0.00000</td><td>ENSG00000237613.2</td><td>FAM138A    </td><td>ENSG00000237613</td></tr>\n",
       "\t<tr><td>0.00000</td><td>0.12410</td><td>0.0000</td><td> 0.0000</td><td>0.00000</td><td>0.00000</td><td>0.05129</td><td>0.00000</td><td>0.0000</td><td>0.00000</td><td>⋯</td><td>0.000</td><td>0.00000</td><td>0.00000</td><td>0.04975</td><td>0.000</td><td>0.00000</td><td>0.04948</td><td>ENSG00000268020.3</td><td>OR4G4P     </td><td>ENSG00000268020</td></tr>\n",
       "</tbody>\n",
       "</table>\n"
      ],
      "text/latex": [
       "A data.frame: 6 × 758\n",
       "\\begin{tabular}{r|llllllllllllllllllllllllllllllllllllllllllllllllllllllllllllllllllllllllllllllllllllllllllllllllllllllllllllllllllllllllllllllllllllllllllllllllllllllllllllllllllllllllllllllllllllllllllllllllllllllllllllllllllllllllllllllllllllllllllllllllllllllllllllllllllllllllllllllllllllllllllllllllllllllllllllllllllllllllllllllllllllllllllllllllllllllllllllllllllllllllllllllllllllllllllllllllllllllllllllllllllllllllllllllllllllllllllllllllllllllllllllllllllllllllllllllllllllllllllllllllllllllllllllllllllllllllllllllllllllllllllllllllllllllllllllllllllllllllllllllllllllllllllllllllllllllllllllllllllllllllllllllllllllllllllllllllllllllllllllllllllllllllllllllllllllllllllllllllllllllllllllllllllllllllllllllllllllllllllllllllllllllllllllllllllllllllllllllllllllll}\n",
       " GTEX-111YS-0006-SM-5NQBE & GTEX-1122O-0005-SM-5O99J & GTEX-1128S-0005-SM-5P9HI & GTEX-113IC-0006-SM-5NQ9C & GTEX-113JC-0006-SM-5O997 & GTEX-117XS-0005-SM-5PNU6 & GTEX-117YW-0005-SM-5NQ8Z & GTEX-1192W-0005-SM-5NQBQ & GTEX-1192X-0005-SM-5NQC3 & GTEX-11DXW-0006-SM-5NQ7Y & GTEX-11DXX-0005-SM-5NQ8B & GTEX-11DXY-0006-SM-5NQ8N & GTEX-11DXZ-0006-SM-5LZZH & GTEX-11DYG-0006-SM-5NQB2 & GTEX-11EI6-0005-SM-5N9GN & GTEX-11EM3-0005-SM-5N9DK & GTEX-11EMC-0006-SM-5O9DN & GTEX-11EQ8-0006-SM-5P9HJ & GTEX-11EQ9-0006-SM-5LUB6 & GTEX-11GS4-0006-SM-5SI9M & GTEX-11GSO-0005-SM-5O9CA & GTEX-11GSP-0006-SM-5N9EL & GTEX-11I78-0005-SM-5N9GB & GTEX-11LCK-0005-SM-5O98U & GTEX-11NUK-0005-SM-5MR5F & GTEX-11NV4-0005-SM-5N9EX & GTEX-11O72-0006-SM-5O9DB & GTEX-11OC5-0006-SM-5N9FA & GTEX-11OF3-0006-SM-5O9CM & GTEX-11ONC-0005-SM-5O9CY & GTEX-11P7K-0006-SM-5N9FM & GTEX-11P81-0006-SM-5NQ7A & GTEX-11P82-0006-SM-5N9FY & GTEX-11PRG-0005-SM-5NQ6X & GTEX-11TT1-0005-SM-5NQ8Y & GTEX-11TTK-0005-SM-5O9BX & GTEX-11TUW-0006-SM-5LZW2 & GTEX-11UD2-0005-SM-5NQ9B & GTEX-11VI4-0006-SM-5N9D8 & GTEX-11WQC-0006-SM-5LZVP & GTEX-11WQK-0005-SM-5O9AV & GTEX-11XUK-0005-SM-5LU9F & GTEX-11ZTS-0005-SM-5NQ8A & GTEX-11ZTT-0006-SM-5N9FX & GTEX-11ZU8-0005-SM-5PNU5 & GTEX-11ZUS-0006-SM-5O9AJ & GTEX-11ZVC-0006-SM-5N9GA & GTEX-1211K-0006-SM-5MR53 & GTEX-12126-0006-SM-5O9B8 & GTEX-1212Z-0006-SM-5NQ8M & GTEX-12584-0005-SM-5N9GM & GTEX-12696-0005-SM-5LZYS & GTEX-1269C-0005-SM-5N9CJ & GTEX-12BJ1-0006-SM-5SIB5 & GTEX-12C56-0006-SM-5N9E9 & GTEX-12KS4-0005-SM-5SI94 & GTEX-12WSC-0005-SM-5MR3H & GTEX-12WSD-0005-SM-5N9FZ & GTEX-12WSE-0005-SM-5NQAE & GTEX-12WSF-0005-SM-5NQAQ & GTEX-12WSG-0005-SM-5NQA2 & GTEX-12WSH-0005-SM-5NQ9P & GTEX-12WSI-0005-SM-5O99K & GTEX-12WSJ-0005-SM-5LU8S & GTEX-12WSK-0006-SM-5NQA1 & GTEX-12WSL-0005-SM-5NQAD & GTEX-12WSM-0005-SM-5NQB3 & GTEX-12WSN-0006-SM-5NQAP & GTEX-12ZZW-0005-SM-5O9BY & GTEX-12ZZX-0005-SM-5O9A9 & GTEX-13111-0005-SM-5NQ7Z & GTEX-13113-0006-SM-5NQ7X & GTEX-1313W-0006-SM-5O9B1 & GTEX-1314G-0005-SM-5NQ9O & GTEX-131XE-0006-SM-5P9F9 & GTEX-131XF-0006-SM-5P9HK & GTEX-131XG-0006-SM-5O9CE & GTEX-131XH-0006-SM-5O98V & GTEX-131XW-0006-SM-5O9AO & GTEX-131YS-0005-SM-5NQAS & GTEX-132AR-0006-SM-5NQ7N & GTEX-132NY-0005-SM-5O9AC & GTEX-132Q8-0006-SM-5NQA4 & GTEX-132QS-0005-SM-5LZXK & GTEX-1339X-0005-SM-5O9CQ & GTEX-1399R-0006-SM-5N9FR & GTEX-1399S-0006-SM-5NQ7U & GTEX-1399U-0005-SM-5NQ8K & GTEX-139D8-0006-SM-5LZX8 & GTEX-139T6-0006-SM-5LU92 & GTEX-139T8-0006-SM-5NQ6V & GTEX-139TS-0005-SM-5NQC1 & GTEX-139TT-0006-SM-5O9CG & GTEX-139TU-0006-SM-5LZVN & GTEX-139UW-0005-SM-5NQ8U & GTEX-13CF2-0006-SM-5O99L & GTEX-13CF3-0006-SM-5N9ED & GTEX-13CIG-0006-SM-5P9HF & GTEX-13CZU-0005-SM-5LU8K & GTEX-13FTW-0005-SM-5LZVZ & GTEX-13FTX-0005-SM-5N9F6 & GTEX-13FTY-0005-SM-5NQ78 & GTEX-13FTZ-0005-SM-5NQ9N & GTEX-13FXS-0006-SM-5O99X & GTEX-13G51-0005-SM-5N9EP & GTEX-13JUV-0006-SM-5NQ97 & GTEX-13O61-0005-SM-5O9AU & GTEX-13OVG-0005-SM-5P9HA & GTEX-13OVH-0005-SM-5P9HB & GTEX-13OVI-0001-SM-5O9BL & GTEX-13OVJ-0006-SM-5O98T & GTEX-13OVK-0006-SM-5O9B7 & GTEX-13OVL-0006-SM-5O996 & GTEX-13OW6-0005-SM-5NQ9Z & GTEX-13OW8-0005-SM-5NQAC & GTEX-13PL7-0005-SM-5N9ET & GTEX-13PLJ-0005-SM-5NQ99 & GTEX-13S7M-0005-SM-5NQ76 & GTEX-13S86-0005-SM-5NQ7I & GTEX-13SLX-0005-SM-CM2RF & GTEX-13U4I-0006-SM-5N9CI & GTEX-13VXT-0005-SM-5N9F3 & GTEX-13VXU-0006-SM-5N9FF & GTEX-13W3W-0005-SM-5SI9Y & GTEX-1477Z-0005-SM-5PNWD & GTEX-147F3-0005-SM-5N9FI & GTEX-147F4-0006-SM-5O99T & GTEX-147GR-0005-SM-5NQAO & GTEX-147JS-0006-SM-5NQ7K & GTEX-148VI-0006-SM-5O9A6 & GTEX-148VJ-0006-SM-5NQB1 & GTEX-1497J-0005-SM-5NQBD & GTEX-14A5H-0006-SM-5O9AI & GTEX-14A5I-0005-SM-5N9FU & GTEX-14A6H-0006-SM-5NQ7W & GTEX-14ABY-0005-SM-5O99U & GTEX-14AS3-0006-SM-5NQC2 & GTEX-14B4R-0006-SM-5O9A7 & GTEX-14BIL-0006-SM-5N9F2 & GTEX-14BIM-0006-SM-5O9AA & GTEX-14BIN-0005-SM-5N9FE & GTEX-14BMU-0006-SM-5MR3T & GTEX-14BMV-0005-SM-5NQ6Y & GTEX-14C38-0006-SM-5NQBF & GTEX-14C39-0005-SM-5NQBR & GTEX-14C5O-0005-SM-5P9ER & GTEX-14DAQ-0005-SM-5NQ7B & GTEX-14DAR-0006-SM-5N9GC & GTEX-14E1K-0006-SM-5N9DY & GTEX-14E6C-0005-SM-5O98N & GTEX-14E6D-0005-SM-5N9D7 & GTEX-14E6E-0006-SM-5MR5N & GTEX-14E7W-0006-SM-5N9GG & GTEX-14H4A-0006-SM-5N9E3 & GTEX-14ICK-0006-SM-5NQB5 & GTEX-14ICL-0006-SM-5SIAB & GTEX-14JFF-0005-SM-7P8RF & GTEX-14JG1-0006-SM-7SB6P & GTEX-14JG6-0005-SM-9JGFV & GTEX-14JIY-0005-SM-7MXVF & GTEX-14LLW-0006-SM-9QEGG & GTEX-14LZ3-0005-SM-7MXUG & GTEX-14PHW-0005-SM-9KNTK & GTEX-14PHY-0006-SM-7SB7I & GTEX-14PII-0005-SM-7RHFV & GTEX-14PJ2-0005-SM-9JGFU & GTEX-14PJ3-0005-SM-9JGFT & GTEX-14PJ4-0006-SM-7RHFY & GTEX-14PJ5-0005-SM-9MQLO & GTEX-14PJ6-0006-SM-7P8RE & GTEX-14PJM-0006-SM-9JGHA & GTEX-14PJN-0005-SM-9JGGF & GTEX-14PJO-0005-SM-9JGGY & GTEX-14PJP-0005-SM-7P8OM & GTEX-14PK6-0006-SM-7PC1L & GTEX-14PKU-0005-SM-9KNTL & GTEX-14PKV-0006-SM-9MQL3 & GTEX-14PN3-0006-SM-7SB6O & GTEX-14PN4-0005-SM-7PC21 & GTEX-14PQA-0006-SM-7PC2D & GTEX-14XAO-0006-SM-7RHFX & GTEX-15CHC-0006-SM-7P8RG & GTEX-15CHQ-0005-SM-7P8RH & GTEX-15CHR-0005-SM-9KNUS & GTEX-15D1Q-0006-SM-9KNTN & GTEX-15D79-0005-SM-7P8TS & GTEX-15DCD-0006-SM-7RHG4 & GTEX-15DCE-0005-SM-7SB7J & GTEX-15DYW-0006-SM-7RHFR & GTEX-15DZA-0005-SM-9JGFP & GTEX-15EO6-0005-SM-7PBZC & GTEX-15ETS-0005-SM-9KNTJ & GTEX-15EU6-0005-SM-7P8RJ & GTEX-15G19-0006-SM-9KNW6 & GTEX-15G1A-0006-SM-7PC1Z & GTEX-15RIE-0006-SM-7MKF8 & GTEX-15RIF-0005-SM-7RHGH & GTEX-15RIG-0006-SM-7PC1N & GTEX-15RJ7-0006-SM-7RHHM & GTEX-15RJE-0006-SM-7PC1J & GTEX-15SB6-0005-SM-7P8OO & GTEX-15SDE-0006-SM-7PC19 & GTEX-16AAH-0005-SM-7P8RD & GTEX-16BQI-0006-SM-7SB6K & GTEX-16MT8-0005-SM-7PBYO & GTEX-16MT9-0006-SM-7MXTU & GTEX-16MTA-0005-SM-7RHFT & GTEX-16NGA-0006-SM-9JGFQ & GTEX-16NPV-0005-SM-7PC2F & GTEX-16NPX-0005-SM-7MKGG & GTEX-16XZY-0006-SM-7SB99 & GTEX-16XZZ-0006-SM-7MKF5 & GTEX-16YQH-0006-SM-7P8OQ & GTEX-16Z82-0005-SM-7PBXZ & GTEX-178AV-0005-SM-9JGFM & GTEX-17EUY-0006-SM-7P8SB & GTEX-17EVP-0005-SM-7P8RC & GTEX-17EVQ-0006-SM-7MGWB & GTEX-17GQL-0005-SM-7MKF4 & GTEX-17HG3-0006-SM-7MKFE & GTEX-17HGU-0006-SM-7MXT8 & GTEX-17HHE-0005-SM-7P8OT & GTEX-17HHY-0006-SM-7MXT4 & GTEX-17HII-0005-SM-7MKF6 & GTEX-17JCI-0005-SM-7P8OL & GTEX-17KNJ-0005-SM-7PBYB & GTEX-17MFQ-0006-SM-7PBXP & GTEX-183FY-0005-SM-9KNTO & GTEX-183WM-0005-SM-9JGFW & GTEX-18465-0006-SM-7SB6R & GTEX-18A66-0005-SM-7SB6U & GTEX-18A67-0006-SM-7SB6T & GTEX-18A6Q-0005-SM-9KNVX & GTEX-18A7A-0006-SM-7PC1P & GTEX-18A7B-0005-SM-7PC1D & GTEX-18D9A-0005-SM-7SB7H & GTEX-18D9B-0005-SM-7PBYL & GTEX-18D9U-0006-SM-7SB6M & GTEX-18QFQ-0006-SM-7SB6X & GTEX-1A32A-0006-SM-7PC1Y & GTEX-1A3MV-0005-SM-7PC1O & GTEX-1A3MW-0006-SM-7MKGU & GTEX-1A3MX-0005-SM-7MGW7 & GTEX-1A8FM-0006-SM-7MGWI & GTEX-1A8G6-0006-SM-7PC1X & GTEX-1A8G7-0006-SM-7P8RM & GTEX-1AMEY-0005-SM-7PBYK & GTEX-1AMFI-0006-SM-9KNTQ & GTEX-1AX8Z-0006-SM-9KNVB & GTEX-1AX9I-0005-SM-9MQKI & GTEX-1AX9J-0005-SM-9MQKU & GTEX-1AX9K-0006-SM-9KNVP & GTEX-1AYCT-0005-SM-7SB6V & GTEX-1AYD5-0005-SM-7SB6L & GTEX-1B8KE-0006-SM-7SB6W & GTEX-1B8KZ-0006-SM-7MXTJ & GTEX-1B8L1-0005-SM-9MQK6 & GTEX-1B8SF-0005-SM-7MGVK & GTEX-1B8SG-0006-SM-7MKFA & GTEX-1B932-0005-SM-9KNTP & GTEX-1B933-0006-SM-7P8OP & GTEX-1B97I-0005-SM-7PC1M & GTEX-1B97J-0005-SM-7MXT5 & GTEX-1B996-0006-SM-7P8OS & GTEX-1BAJH-0005-SM-7PC1R & GTEX-1C2JI-0006-SM-7PC3Q & GTEX-1C475-0006-SM-9MQL7 & GTEX-1C4CL-0005-SM-7MKF3 & GTEX-1C64N-0005-SM-7PBY7 & GTEX-1C64O-0006-SM-7PC22 & GTEX-1C6VQ-0005-SM-7P8OR & GTEX-1C6VR-0005-SM-7MKF7 & GTEX-1C6VS-0005-SM-7MGWG & GTEX-1CAMR-0006-SM-ACKV5 & GTEX-1CAMS-0005-SM-ARL6Y & GTEX-1CB4E-0005-SM-ADEGS & GTEX-1CB4G-0006-SM-AHZ22 & GTEX-1CB4H-0006-SM-A96RE & GTEX-1CB4I-0006-SM-A96RF & GTEX-1CB4J-0006-SM-ACKV6 & GTEX-1E1VI-0005-SM-ARU6H & GTEX-1E2YA-0006-SM-AHZ23 & GTEX-1EH9U-0005-SM-ACKV3 & GTEX-1EKGG-0005-SM-AHZ1Z & GTEX-1EMGI-0006-SM-ACKVA & GTEX-1EN7A-0006-SM-AHZ4O & GTEX-1EU9M-0006-SM-ARU6I & GTEX-1EWIQ-0005-SM-ADEHB & GTEX-1EX96-0006-SM-ARU6J & GTEX-1F48J-0006-SM-ARL6W & GTEX-1F52S-0006-SM-ARL6X & GTEX-1F5PK-0005-SM-A96RM & GTEX-1F6I4-0005-SM-ARZKZ & GTEX-1F6IF-0005-SM-ARU6K & GTEX-1F75I-0005-SM-ADEHC & GTEX-1F75W-0005-SM-A9SMP & GTEX-1F7RK-0006-SM-ACKV4 & GTEX-1F88F-0005-SM-A9SK2 & GTEX-1GF9U-0005-SM-A9SK1 & GTEX-1GF9V-0006-SM-A96RD & GTEX-1GF9W-0006-SM-ARZL1 & GTEX-1GF9X-0005-SM-A9G3R & GTEX-1GMR2-0005-SM-ADEH3 & GTEX-1GMR3-0005-SM-ADEGR & GTEX-1GMR8-0005-SM-ARZL2 & GTEX-1GMRU-0006-SM-AHZ21 & GTEX-1GN1U-0006-SM-ARU6G & GTEX-1GN1V-0006-SM-ADEHD & GTEX-1GN1W-0006-SM-A9SKL & GTEX-1GN2E-0005-SM-ARU6L & GTEX-1GN73-0005-SM-ACKVI & GTEX-1GPI6-0005-SM-ADEGT & GTEX-1GPI7-0005-SM-A9G13 & GTEX-1GTWX-0006-SM-ARZL3 & GTEX-1GZ2Q-0005-SM-ARL71 & GTEX-1GZ4H-0005-SM-ARZL7 & GTEX-1GZHY-0005-SM-ARZL6 & GTEX-1H11D-0005-SM-ACKV7 & GTEX-1H1CY-0005-SM-A9G15 & GTEX-1H1DE-0005-SM-A9SK4 & GTEX-1H1DF-0005-SM-ADEGU & GTEX-1H1DG-0006-SM-ARZL4 & GTEX-1H1E6-0005-SM-ARZL5 & GTEX-1H23P-0005-SM-A9G14 & GTEX-1H3NZ-0005-SM-A96RG & GTEX-1H3O1-0005-SM-ACKV8 & GTEX-1H4P4-0006-SM-AHZ24 & GTEX-1HB9E-0006-SM-ARU6M & GTEX-1HBPI-0005-SM-ARZLB & GTEX-1HBPM-0006-SM-A9SKK & GTEX-1HC8U-0005-SM-ADEGV & GTEX-1HCU6-0005-SM-AHZ28 & GTEX-1HCU7-0006-SM-A9G19 & GTEX-1HCU8-0005-SM-A96RL & GTEX-1HCU9-0005-SM-A9G1A & GTEX-1HCUA-0006-SM-ACKV9 & GTEX-1HCVE-0006-SM-ADEH2 & GTEX-1HFI6-0005-SM-A9SK6 & GTEX-1HFI7-0005-SM-ADEH1 & GTEX-1HKZK-0005-SM-ARL73 & GTEX-1HR98-0005-SM-A9SKM & GTEX-1HR9M-0005-SM-AHZ26 & GTEX-1HSGN-0006-SM-ACKVH & GTEX-1HSKV-0006-SM-ARZL9 & GTEX-1HSMO-0005-SM-ADEGW & GTEX-1HSMP-0006-SM-AHZ25 & GTEX-1HSMQ-0006-SM-ARU6N & GTEX-1HT8W-0006-SM-A9G17 & GTEX-1HUB1-0005-SM-ARL74 & GTEX-1I19N-0006-SM-A9G18 & GTEX-1I1CD-0005-SM-ADEGY & GTEX-1I1GP-0006-SM-A96RJ & GTEX-1I1GQ-0005-SM-ARU6O & GTEX-1I1GR-0006-SM-ARL75 & GTEX-1I1GS-0005-SM-DHXIW & GTEX-1I1GT-0005-SM-A9SK5 & GTEX-1I1GV-0005-SM-AHZ27 & GTEX-1I1HK-0005-SM-ARZL8 & GTEX-1I4MK-0006-SM-A96RI & GTEX-1I6K6-0006-SM-ARZLA & GTEX-1I6K7-0005-SM-ARL72 & GTEX-1ICG6-0006-SM-A96RH & GTEX-1ICLY-0005-SM-A9G16 & GTEX-1IDFM-0005-SM-ADEGX & GTEX-1IDJC-0005-SM-A9G1C & GTEX-1IDJD-0006-SM-ARZLC & GTEX-1IDJE-0006-SM-A9G1B & GTEX-1IDJF-0005-SM-ARU6P & GTEX-1IDJH-0006-SM-CMKFT & GTEX-1IDJI-0006-SM-CMKFJ & GTEX-1IDJU-0006-SM-CMKFK & GTEX-1IE54-0005-SM-CMKFQ & GTEX-1IGQW-0005-SM-CMKFR & GTEX-1IKJJ-0005-SM-CMKFS & GTEX-1IKK5-0006-SM-CMKFI & GTEX-1IKOE-0005-SM-CMKFL & GTEX-1IKOH-0006-SM-CMKFM & GTEX-1IL2U-0006-SM-CMKFP & GTEX-1IL2V-0006-SM-CMKFN & GTEX-1IOXB-0006-SM-CMKFO & GTEX-1IY9M-0005-SM-CNNOU & GTEX-1J8EW-0006-SM-CNNOW & GTEX-1J8JJ-0006-SM-CNNOX & GTEX-1J8Q2-0006-SM-CNNOZ & GTEX-1J8Q3-0005-SM-CNNOY & GTEX-1J8QM-0006-SM-CNNP1 & GTEX-1JJ6O-0005-SM-DHXJ4 & GTEX-1JJE9-0006-SM-CGQEB & GTEX-1JJEA-0006-SM-DHXJ2 & GTEX-1JK1U-0006-SM-DHXJ3 & GTEX-1JKYN-0006-SM-DHXJ5 & GTEX-1JKYR-0005-SM-DHXL5 & GTEX-1JMLX-0006-SM-DHXJ6 & GTEX-1JMOU-0006-SM-DHXJ7 & GTEX-1JMPY-0006-SM-DHXJ8 & GTEX-1JMPZ-0006-SM-DHXJ9 & GTEX-1JMQI-0005-SM-DHXJA & GTEX-1JMQJ-0006-SM-DHXJD & GTEX-1JMQK-0005-SM-CNPOE & GTEX-1JMQL-0006-SM-DHXJB & GTEX-1JN1M-0006-SM-DHXJE & GTEX-1JN6P-0005-SM-DIPEH & GTEX-1JN76-0005-SM-EAZ3B & GTEX-1K2DA-0005-SM-DIPE7 & GTEX-1K2DU-0005-SM-DIPE8 & GTEX-1K9T9-0006-SM-DIPE9 & GTEX-1KAFJ-0006-SM-9WPO1 & GTEX-1KANA-0006-SM-9YFLB & GTEX-1KANB-0006-SM-DIPE6 & GTEX-1KANC-0006-SM-9YFL8 & GTEX-1KD4Q-0006-SM-DIPEA & GTEX-1KD5A-0006-SM-DIPEB & GTEX-1KWVE-0005-SM-CYPSE & GTEX-1KXAM-0005-SM-DIPEC & GTEX-1L5NE-0005-SM-DIPEG & GTEX-1LB8K-0005-SM-DIPED & GTEX-1LBAC-0005-SM-DIPEE & GTEX-1LC47-0005-SM-COH2J & GTEX-1LG7Y-0005-SM-DKPQ7 & GTEX-1LG7Z-0005-SM-DKPQ6 & GTEX-1LGOU-0005-SM-DKPPW & GTEX-1LGRB-0006-SM-DKPPB & GTEX-1LH75-0006-SM-CXZIP & GTEX-1LKK1-0005-SM-CXZIT & GTEX-1LNCM-0005-SM-CXZIR & GTEX-1LSNL-0006-SM-CXZIV & GTEX-1LSNM-0005-SM-CXZIW & GTEX-1LSVX-0005-SM-DKPPI & GTEX-1LVA9-0006-SM-DKPPN & GTEX-1LVAM-0005-SM-CXZJ4 & GTEX-1LVAN-0005-SM-DKPPM & GTEX-1LVAO-0006-SM-CXZIU & GTEX-1M4P7-0005-SM-CXZIS & GTEX-1M5QR-0005-SM-DKPPP & GTEX-1MA7W-0006-SM-DKPPR & GTEX-1MA7X-0006-SM-CXZJ6 & GTEX-1MCC2-0006-SM-DKPPJ & GTEX-1MCQQ-0005-SM-DKPPV & GTEX-1MCYP-0005-SM-DKPPK & GTEX-1MGNQ-0005-SM-CXZJ1 & GTEX-1MJIX-0006-SM-DKPPU & GTEX-1MJK2-0006-SM-CXZIN & GTEX-1MJK3-0006-SM-DKPP9 & GTEX-1MUQO-0005-SM-DKPPT & GTEX-1N2DW-0006-SM-DKPP4 & GTEX-1N2EE-0005-SM-DKPP5 & GTEX-1N2EF-0005-SM-CXZIL & GTEX-1N5O9-0006-SM-DKPPS & GTEX-1NHNU-0005-SM-DKPP3 & GTEX-1NSGN-0005-SM-DKPPX & GTEX-1NUQO-0005-SM-DKPP2 & GTEX-1NV8Z-0005-SM-DKPQ3 & GTEX-1O97I-0005-SM-DKPPY & GTEX-1O9I2-0005-SM-DKPQ1 & GTEX-1OFPY-0005-SM-DKPPZ & GTEX-1OJC3-0006-SM-DKPP1 & GTEX-1OJC4-0005-SM-DKPQ4 & GTEX-1OKEX-0006-SM-DKPQ2 & GTEX-1P4AB-0005-SM-CY8GM & GTEX-1PBJI-0005-SM-CJI1Y & GTEX-1PBJJ-0005-SM-CKZND & GTEX-1PDJ9-0006-SM-CY8GN & GTEX-1PFEY-0005-SM-CY8GO & GTEX-1PIEJ-0005-SM-DLZQL & GTEX-1PIGE-0005-SM-DLZQM & GTEX-1PIIG-0006-SM-DLZQF & GTEX-1POEN-0005-SM-DLZQN & GTEX-1PPH6-0005-SM-DLZQP & GTEX-1PPH7-0005-SM-CKZNE & GTEX-1PPH8-0006-SM-CY8GS & GTEX-1PWST-0005-SM-DLZQC & GTEX-1QAET-0006-SM-DLZQQ & GTEX-1QCLY-0005-SM-DLZQS & GTEX-1QCLZ-0006-SM-CY8GW & GTEX-1QEPI-0006-SM-CY8GY & GTEX-1QMI2-0006-SM-CY8H1 & GTEX-1QP28-0006-SM-DLZQW & GTEX-1QP29-0005-SM-DLZQX & GTEX-1QP66-0005-SM-CY8H4 & GTEX-1QP67-0006-SM-CY8H5 & GTEX-1QP9N-0005-SM-CY8H9 & GTEX-1QPFJ-0006-SM-CY8HB & GTEX-1QW4Y-0005-SM-DO93W & GTEX-1R46S-0006-SM-DO93Y & GTEX-1R7EU-0006-SM-DO93C & GTEX-1R7EV-0005-SM-DO938 & GTEX-1R9JW-0002-SM-DO93B & GTEX-1R9K4-0006-SM-CYPRM & GTEX-1R9K5-0006-SM-DO939 & GTEX-1R9PM-0006-SM-CYPTI & GTEX-1R9PN-0006-SM-DTX7L & GTEX-1R9PO-0006-SM-DO937 & GTEX-1RAZA-0006-SM-CKZO9 & GTEX-1RAZQ-0005-SM-DO93U & GTEX-1RAZR-0006-SM-DLHBR & GTEX-1RAZS-0005-SM-DO93D & GTEX-1RB15-0005-SM-CL53N & GTEX-1RDX4-0005-SM-DLHBS & GTEX-1RLM8-0005-SM-DO121 & GTEX-1RMOY-0005-SM-DO11X & GTEX-1RNTQ-0006-SM-CYPRG & GTEX-1RQEC-0006-SM-CL542 & GTEX-1RQED-0005-SM-DO11Z & GTEX-1S3DN-0006-SM-DO127 & GTEX-1S5VW-0005-SM-CYPS4 & GTEX-1S5ZA-0005-SM-CYPS2 & GTEX-1S5ZU-0005-SM-CYPS3 & GTEX-1S82P-0005-SM-CM2RX & GTEX-1S82U-0005-SM-CYPRW & GTEX-1S82Y-0005-SM-DO123 & GTEX-1S82Z-0006-SM-DLHC5 & GTEX-1S831-0006-SM-DLHC1 & GTEX-1S83E-0006-SM-DLHBW & GTEX-N7MS-0007-SM-2D7W1 & GTEX-N7MT-0007-SM-3GACQ & GTEX-NFK9-0006-SM-3GACS & GTEX-NPJ7-0006-SM-3GACR & GTEX-NPJ8-0007-SM-2D7VX & GTEX-O5YT-0007-SM-32PK7 & GTEX-O5YW-0006-SM-3LK6E & GTEX-OHPK-0006-SM-2HMKH & GTEX-OHPL-0006-SM-3MJHB & GTEX-OHPM-0006-SM-2HMKU & GTEX-OHPN-0005-SM-2YUML & GTEX-OIZF-0006-SM-2I5GQ & GTEX-OIZH-0005-SM-2HMJN & GTEX-OIZI-0005-SM-2XCED & GTEX-OOBJ-0006-SM-2I3F4 & GTEX-OOBK-0005-SM-2YUMG & GTEX-OXRL-0005-SM-3LK6A & GTEX-OXRO-0006-SM-2I5EM & GTEX-OXRP-0006-SM-2I3FN & GTEX-P44G-0006-SM-2TC6A & GTEX-P44H-0006-SM-2XCFB & GTEX-P4PP-0005-SM-2HMKX & GTEX-P4PQ-0005-SM-2HMKJ & GTEX-P4QS-0005-SM-2I3EY & GTEX-P78B-0005-SM-2I5GM & GTEX-PLZ4-0006-SM-CYPR7 & GTEX-PLZ5-0006-SM-DIPE2 & GTEX-PLZ6-0006-SM-33HBZ & GTEX-POMQ-0006-SM-5SI7D & GTEX-POYW-0006-SM-2XCF4 & GTEX-PSDG-0005-SM-3GADC & GTEX-PVOW-0006-SM-3NMB8 & GTEX-PW2O-0006-SM-2I3DV & GTEX-PWCY-0005-SM-DHXL3 & GTEX-PWN1-0006-SM-CYPR2 & GTEX-PX3G-0006-SM-5SI7E & GTEX-Q2AG-0005-SM-5SI7F & GTEX-Q2AH-0005-SM-33HBR & GTEX-Q2AI-0006-SM-2I3FG & GTEX-Q734-0006-SM-2I3FJ & GTEX-QCQG-0006-SM-DIPE5 & GTEX-QDT8-0006-SM-CXZJC & GTEX-QDVJ-0005-SM-2TC5X & GTEX-QDVN-0006-SM-48U1R & GTEX-QEG4-0006-SM-2I5FY & GTEX-QEG5-0006-SM-2I5FZ & GTEX-QESD-0006-SM-2I5G6 & GTEX-QLQ7-0005-SM-2S1QP & GTEX-QLQW-0005-SM-2S1RA & GTEX-QMR6-0005-SM-32PKY & GTEX-QMRM-0005-SM-3NB2A & GTEX-QV31-0006-SM-793B5 & GTEX-QVJO-0006-SM-2S1RC & GTEX-QVUS-0006-SM-3GAE8 & GTEX-QXCU-0006-SM-2TC5K & GTEX-R3RS-0005-SM-3GAEH & GTEX-R45C-0006-SM-3GAD6 & GTEX-R53T-0005-SM-3GADK & GTEX-R55C-0005-SM-3GAE9 & GTEX-R55D-0006-SM-3GIJS & GTEX-R55E-0006-SM-2TC5G & GTEX-R55G-0006-SM-2TC6O & GTEX-REY6-0005-SM-2TF54 & GTEX-RM2N-0006-SM-2TF5H & GTEX-RN64-0005-SM-793B4 & GTEX-RNOR-0005-SM-2TF4Z & GTEX-RTLS-0006-SM-2TF58 & GTEX-RU1J-0006-SM-2TF6M & GTEX-RU72-0006-SM-2TF65 & GTEX-RUSQ-0006-SM-2TF6P & GTEX-RVPV-0006-SM-2TF6Q & GTEX-RWS6-0005-SM-2XCAN & GTEX-RWSA-0005-SM-2XCAO & GTEX-S32W-0006-SM-2XCAK & GTEX-S33H-0005-SM-2XCAL & GTEX-S341-0006-SM-3NM8D & GTEX-S7PM-0006-SM-3NM8C & GTEX-S7SE-0005-SM-2XCEA & GTEX-S95S-0005-SM-2XCEC & GTEX-SE5C-0006-SM-4BRW5 & GTEX-SIU8-0006-SM-2XCE5 & GTEX-SJXC-0005-SM-2XCE7 & GTEX-SN8G-0006-SM-32PLD & GTEX-SNMC-0006-SM-2XCFE & GTEX-SNOS-0006-SM-32PLH & GTEX-SSA3-0005-SM-32QOT & GTEX-SUCS-0006-SM-4DM59 & GTEX-T2YK-0005-SM-32QOV & GTEX-T5JC-0006-SM-EZ6L9 & GTEX-T5JW-0005-SM-3GADE & GTEX-T6MN-0005-SM-32PLJ & GTEX-T6MO-0006-SM-32QOU & GTEX-T8EM-0006-SM-3DB71 & GTEX-TKQ1-0006-SM-33HBI & GTEX-TKQ2-0006-SM-33HBH & GTEX-TML8-0005-SM-32QPA & GTEX-TMMY-0005-SM-33HBN & GTEX-TMZS-0006-SM-3DB8G & GTEX-TSE9-0005-SM-4DXUF & GTEX-U3ZG-0006-SM-47JWX & GTEX-U3ZH-0005-SM-3DB72 & GTEX-U3ZN-0006-SM-3DB7Y & GTEX-U4B1-0006-SM-3DB8E & GTEX-U8T8-0005-SM-3DB8F & GTEX-U8XE-0005-SM-3DB8I & GTEX-UJHI-0006-SM-3DB8H & GTEX-UJMC-0005-SM-3GACU & GTEX-UPJH-0006-SM-3GACW & GTEX-UPK5-0006-SM-3GAD8 & GTEX-UTHO-0006-SM-3NMCC & GTEX-V1D1-0006-SM-3NMCE & GTEX-V955-0005-SM-3P5ZC & GTEX-VJWN-0005-SM-3GIKF & GTEX-VJYA-0005-SM-3P5ZD & GTEX-VUSG-0006-SM-3GIK9 & GTEX-VUSH-0005-SM-3NB2H & GTEX-W5WG-0006-SM-3GIJT & GTEX-W5X1-0006-SM-3GIJZ & GTEX-WCDI-0005-SM-3NB2M & GTEX-WEY5-0006-SM-3GIKG & GTEX-WFG7-0005-SM-3GIKM & GTEX-WFG8-0006-SM-3GIKS & GTEX-WFJO-0005-SM-3GIKY & GTEX-WFON-0005-SM-3NMC9 & GTEX-WH7G-0005-SM-3NMBX & GTEX-WHPG-0006-SM-3NMBV & GTEX-WHSB-0005-SM-3LK7C & GTEX-WHSE-0006-SM-3NMBW & GTEX-WHWD-0005-SM-3LK7D & GTEX-WI4N-0005-SM-3LK7E & GTEX-WK11-0006-SM-3NB3J & GTEX-WL46-0006-SM-4OOS5 & GTEX-WOFL-0006-SM-3TW8K & GTEX-WOFM-0005-SM-3MJF3 & GTEX-WQUQ-0006-SM-3MJF4 & GTEX-WRHK-0005-SM-3MJF5 & GTEX-WRHU-0006-SM-3MJF6 & GTEX-WVLH-0006-SM-3MJF7 & GTEX-WWYW-0005-SM-3NB3K & GTEX-WXYG-0005-SM-3NB3M & GTEX-WY7C-0006-SM-3NB3L & GTEX-WYBS-0005-SM-4ONDR & GTEX-WYJK-0005-SM-3NMA1 & GTEX-WYVS-0006-SM-3NMA7 & GTEX-WZTO-0006-SM-3NM9T & GTEX-X15G-0005-SM-3NMDA & GTEX-X261-0005-SM-4PQYX & GTEX-X3Y1-0006-SM-3P5ZG & GTEX-X4EO-0006-SM-3P5ZF & GTEX-X4EP-0005-SM-3P5ZE & GTEX-X4LF-0006-SM-3NMCO & GTEX-X4XX-0005-SM-3NMCS & GTEX-X4XY-0006-SM-46MV2 & GTEX-X585-0005-SM-46MV3 & GTEX-X5EB-0006-SM-46MV5 & GTEX-X62O-0005-SM-46MV1 & GTEX-X638-0005-SM-47JX6 & GTEX-X88G-0006-SM-47JX5 & GTEX-X8HC-0006-SM-46MV6 & GTEX-XAJ8-0006-SM-46MVM & GTEX-XBEC-0006-SM-4AT5T & GTEX-XBED-0006-SM-47JXO & GTEX-XBEW-0006-SM-4AT4E & GTEX-XGQ4-0005-SM-4AT5U & GTEX-XK95-0005-SM-4AT4S & GTEX-XLM4-0005-SM-4AT4P & GTEX-XMD1-0006-SM-4AT4Q & GTEX-XMD2-0006-SM-4WWEG & GTEX-XMD3-0006-SM-4AT5X & GTEX-XMK1-0005-SM-4B665 & GTEX-XOT4-0005-SM-4B64S & GTEX-XPT6-0006-SM-4B66Q & GTEX-XPVG-0006-SM-4B65Z & GTEX-XQ3S-0006-SM-4BOQ4 & GTEX-XQ8I-0006-SM-4BOQ5 & GTEX-XUW1-0005-SM-4BOQ7 & GTEX-XUYS-0005-SM-47JZ2 & GTEX-XUZC-0005-SM-4BOQ8 & GTEX-XXEK-0005-SM-4BRWJ & GTEX-XYKS-0005-SM-4BRUD & GTEX-Y111-0006-SM-4SOIO & GTEX-Y114-0006-SM-4TT76 & GTEX-Y3I4-0006-SM-4TT1E & GTEX-Y3IK-0005-SM-4WWDE & GTEX-Y5LM-0005-SM-4V6EJ & GTEX-Y5V5-0006-SM-4V6FE & GTEX-Y5V6-0005-SM-4V6FD & GTEX-Y8DK-0005-SM-4RGNR & GTEX-Y8E4-0006-SM-4V6EW & GTEX-Y8E5-0006-SM-47JWQ & GTEX-Y8LW-0005-SM-4V6EV & GTEX-Y9LG-0006-SM-4VBRK & GTEX-YB5E-0005-SM-4VDSO & GTEX-YB5K-0005-SM-4VDSP & GTEX-YBZK-0005-SM-59HKG & GTEX-YEC3-0005-SM-4W21J & GTEX-YEC4-0001-SM-4W1Y6 & GTEX-YECK-0005-SM-4W217 & GTEX-YF7O-0005-SM-4W1ZU & GTEX-YFC4-0006-SM-4RGLV & GTEX-YFCO-0005-SM-4W1ZI & GTEX-Z93S-0005-SM-4RGLW & GTEX-ZAB4-0005-SM-4RGM8 & GTEX-ZC5H-0005-SM-4WAXM & GTEX-ZDTS-0006-SM-4WAYZ & GTEX-ZDTT-0006-SM-4WKFP & GTEX-ZDXO-0006-SM-4WKGF & GTEX-ZDYS-0002-SM-4WKGR & GTEX-ZE7O-0006-SM-51MTA & GTEX-ZE9C-0006-SM-4WKG2 & GTEX-ZEX8-0005-SM-4WKGE & GTEX-ZF28-0005-SM-4WKH3 & GTEX-ZF29-0006-SM-4WKGQ & GTEX-ZF2S-0006-SM-4WKHF & GTEX-ZF3C-0005-SM-4WWAR & GTEX-ZG7Y-0006-SM-4WWEA & GTEX-ZGAY-0006-SM-4WWAQ & GTEX-ZLV1-0005-SM-4WWAP & GTEX-ZP4G-0006-SM-4WWE6 & GTEX-ZPCL-0006-SM-4WWAS & GTEX-ZPIC-0005-SM-4WWEB & GTEX-ZPU1-0006-SM-4WWAT & GTEX-ZQG8-0005-SM-4YCEH & GTEX-ZQUD-0005-SM-4YCE5 & GTEX-ZT9W-0005-SM-4YCEG & GTEX-ZTPG-0006-SM-4YCFG & GTEX-ZTSS-0005-SM-4YCDR & GTEX-ZTTD-0006-SM-51MSJ & GTEX-ZTX8-0006-SM-4YCE4 & GTEX-ZUA1-0005-SM-4YCEV & GTEX-ZV68-0006-SM-4YCEJ & GTEX-ZV7C-0005-SM-57WDL & GTEX-ZVE2-0006-SM-51MRW & GTEX-ZVP2-0005-SM-51MRK & GTEX-ZVT2-0005-SM-57WBW & GTEX-ZVT3-0006-SM-51MT9 & GTEX-ZVT4-0006-SM-57WB8 & GTEX-ZVTK-0006-SM-57WBK & GTEX-ZVZP-0006-SM-51MSW & GTEX-ZVZQ-0006-SM-51MR8 & GTEX-ZXES-0005-SM-57WCB & GTEX-ZXG5-0005-SM-57WCN & Name & Description & NameClean\\\\\n",
       " <dbl> & <dbl> & <dbl> & <dbl> & <dbl> & <dbl> & <dbl> & <dbl> & <dbl> & <dbl> & <dbl> & <dbl> & <dbl> & <dbl> & <dbl> & <dbl> & <dbl> & <dbl> & <dbl> & <dbl> & <dbl> & <dbl> & <dbl> & <dbl> & <dbl> & <dbl> & <dbl> & <dbl> & <dbl> & <dbl> & <dbl> & <dbl> & <dbl> & <dbl> & <dbl> & <dbl> & <dbl> & <dbl> & <dbl> & <dbl> & <dbl> & <dbl> & <dbl> & <dbl> & <dbl> & <dbl> & <dbl> & <dbl> & <dbl> & <dbl> & <dbl> & <dbl> & <dbl> & <dbl> & <dbl> & <dbl> & <dbl> & <dbl> & <dbl> & <dbl> & <dbl> & <dbl> & <dbl> & <dbl> & <dbl> & <dbl> & <dbl> & <dbl> & <dbl> & <dbl> & <dbl> & <dbl> & <dbl> & <dbl> & <dbl> & <dbl> & <dbl> & <dbl> & <dbl> & <dbl> & <dbl> & <dbl> & <dbl> & <dbl> & <dbl> & <dbl> & <dbl> & <dbl> & <dbl> & <dbl> & <dbl> & <dbl> & <dbl> & <dbl> & <dbl> & <dbl> & <dbl> & <dbl> & <dbl> & <dbl> & <dbl> & <dbl> & <dbl> & <dbl> & <dbl> & <dbl> & <dbl> & <dbl> & <dbl> & <dbl> & <dbl> & <dbl> & <dbl> & <dbl> & <dbl> & <dbl> & <dbl> & <dbl> & <dbl> & <dbl> & <dbl> & <dbl> & <dbl> & <dbl> & <dbl> & <dbl> & <dbl> & <dbl> & <dbl> & <dbl> & <dbl> & <dbl> & <dbl> & <dbl> & <dbl> & <dbl> & <dbl> & <dbl> & <dbl> & <dbl> & <dbl> & <dbl> & <dbl> & <dbl> & <dbl> & <dbl> & <dbl> & <dbl> & <dbl> & <dbl> & <dbl> & <dbl> & <dbl> & <dbl> & <dbl> & <dbl> & <dbl> & <dbl> & <dbl> & <dbl> & <dbl> & <dbl> & <dbl> & <dbl> & <dbl> & <dbl> & <dbl> & <dbl> & <dbl> & <dbl> & <dbl> & <dbl> & <dbl> & <dbl> & <dbl> & <dbl> & <dbl> & <dbl> & <dbl> & <dbl> & <dbl> & <dbl> & <dbl> & <dbl> & <dbl> & <dbl> & <dbl> & <dbl> & <dbl> & <dbl> & <dbl> & <dbl> & <dbl> & <dbl> & <dbl> & <dbl> & <dbl> & <dbl> & <dbl> & <dbl> & <dbl> & <dbl> & <dbl> & <dbl> & <dbl> & <dbl> & <dbl> & <dbl> & <dbl> & <dbl> & <dbl> & <dbl> & <dbl> & <dbl> & <dbl> & <dbl> & <dbl> & <dbl> & <dbl> & <dbl> & <dbl> & <dbl> & <dbl> & <dbl> & <dbl> & <dbl> & <dbl> & <dbl> & <dbl> & <dbl> & <dbl> & <dbl> & <dbl> & <dbl> & <dbl> & <dbl> & <dbl> & <dbl> & <dbl> & <dbl> & <dbl> & <dbl> & <dbl> & <dbl> & <dbl> & <dbl> & <dbl> & <dbl> & <dbl> & <dbl> & <dbl> & <dbl> & <dbl> & <dbl> & <dbl> & <dbl> & <dbl> & <dbl> & <dbl> & <dbl> & <dbl> & <dbl> & <dbl> & <dbl> & <dbl> & <dbl> & <dbl> & <dbl> & <dbl> & <dbl> & <dbl> & <dbl> & <dbl> & <dbl> & <dbl> & <dbl> & <dbl> & <dbl> & <dbl> & <dbl> & <dbl> & <dbl> & <dbl> & <dbl> & <dbl> & <dbl> & <dbl> & <dbl> & <dbl> & <dbl> & <dbl> & <dbl> & <dbl> & <dbl> & <dbl> & <dbl> & <dbl> & <dbl> & <dbl> & <dbl> & <dbl> & <dbl> & <dbl> & <dbl> & <dbl> & <dbl> & <dbl> & <dbl> & <dbl> & <dbl> & <dbl> & <dbl> & <dbl> & <dbl> & <dbl> & <dbl> & <dbl> & <dbl> & <dbl> & <dbl> & <dbl> & <dbl> & <dbl> & <dbl> & <dbl> & <dbl> & <dbl> & <dbl> & <dbl> & <dbl> & <dbl> & <dbl> & <dbl> & <dbl> & <dbl> & <dbl> & <dbl> & <dbl> & <dbl> & <dbl> & <dbl> & <dbl> & <dbl> & <dbl> & <dbl> & <dbl> & <dbl> & <dbl> & <dbl> & <dbl> & <dbl> & <dbl> & <dbl> & <dbl> & <dbl> & <dbl> & <dbl> & <dbl> & <dbl> & <dbl> & <dbl> & <dbl> & <dbl> & <dbl> & <dbl> & <dbl> & <dbl> & <dbl> & <dbl> & <dbl> & <dbl> & <dbl> & <dbl> & <dbl> & <dbl> & <dbl> & <dbl> & <dbl> & <dbl> & <dbl> & <dbl> & <dbl> & <dbl> & <dbl> & <dbl> & <dbl> & <dbl> & <dbl> & <dbl> & <dbl> & <dbl> & <dbl> & <dbl> & <dbl> & <dbl> & <dbl> & <dbl> & <dbl> & <dbl> & <dbl> & <dbl> & <dbl> & <dbl> & <dbl> & <dbl> & <dbl> & <dbl> & <dbl> & <dbl> & <dbl> & <dbl> & <dbl> & <dbl> & <dbl> & <dbl> & <dbl> & <dbl> & <dbl> & <dbl> & <dbl> & <dbl> & <dbl> & <dbl> & <dbl> & <dbl> & <dbl> & <dbl> & <dbl> & <dbl> & <dbl> & <dbl> & <dbl> & <dbl> & <dbl> & <dbl> & <dbl> & <dbl> & <dbl> & <dbl> & <dbl> & <dbl> & <dbl> & <dbl> & <dbl> & <dbl> & <dbl> & <dbl> & <dbl> & <dbl> & <dbl> & <dbl> & <dbl> & <dbl> & <dbl> & <dbl> & <dbl> & <dbl> & <dbl> & <dbl> & <dbl> & <dbl> & <dbl> & <dbl> & <dbl> & <dbl> & <dbl> & <dbl> & <dbl> & <dbl> & <dbl> & <dbl> & <dbl> & <dbl> & <dbl> & <dbl> & <dbl> & <dbl> & <dbl> & <dbl> & <dbl> & <dbl> & <dbl> & <dbl> & <dbl> & <dbl> & <dbl> & <dbl> & <dbl> & <dbl> & <dbl> & <dbl> & <dbl> & <dbl> & <dbl> & <dbl> & <dbl> & <dbl> & <dbl> & <dbl> & <dbl> & <dbl> & <dbl> & <dbl> & <dbl> & <dbl> & <dbl> & <dbl> & <dbl> & <dbl> & <dbl> & <dbl> & <dbl> & <dbl> & <dbl> & <dbl> & <dbl> & <dbl> & <dbl> & <dbl> & <dbl> & <dbl> & <dbl> & <dbl> & <dbl> & <dbl> & <dbl> & <dbl> & <dbl> & <dbl> & <dbl> & <dbl> & <dbl> & <dbl> & <dbl> & <dbl> & <dbl> & <dbl> & <dbl> & <dbl> & <dbl> & <dbl> & <dbl> & <dbl> & <dbl> & <dbl> & <dbl> & <dbl> & <dbl> & <dbl> & <dbl> & <dbl> & <dbl> & <dbl> & <dbl> & <dbl> & <dbl> & <dbl> & <dbl> & <dbl> & <dbl> & <dbl> & <dbl> & <dbl> & <dbl> & <dbl> & <dbl> & <dbl> & <dbl> & <dbl> & <dbl> & <dbl> & <dbl> & <dbl> & <dbl> & <dbl> & <dbl> & <dbl> & <dbl> & <dbl> & <dbl> & <dbl> & <dbl> & <dbl> & <dbl> & <dbl> & <dbl> & <dbl> & <dbl> & <dbl> & <dbl> & <dbl> & <dbl> & <dbl> & <dbl> & <dbl> & <dbl> & <dbl> & <dbl> & <dbl> & <dbl> & <dbl> & <dbl> & <dbl> & <dbl> & <dbl> & <dbl> & <dbl> & <dbl> & <dbl> & <dbl> & <dbl> & <dbl> & <dbl> & <dbl> & <dbl> & <dbl> & <dbl> & <dbl> & <dbl> & <dbl> & <dbl> & <dbl> & <dbl> & <dbl> & <dbl> & <dbl> & <dbl> & <dbl> & <dbl> & <dbl> & <dbl> & <dbl> & <dbl> & <dbl> & <dbl> & <dbl> & <dbl> & <dbl> & <dbl> & <dbl> & <dbl> & <dbl> & <dbl> & <dbl> & <dbl> & <dbl> & <dbl> & <dbl> & <dbl> & <dbl> & <dbl> & <dbl> & <dbl> & <dbl> & <dbl> & <dbl> & <dbl> & <dbl> & <dbl> & <dbl> & <dbl> & <dbl> & <dbl> & <dbl> & <dbl> & <dbl> & <dbl> & <dbl> & <dbl> & <dbl> & <dbl> & <dbl> & <dbl> & <dbl> & <dbl> & <dbl> & <dbl> & <dbl> & <dbl> & <dbl> & <dbl> & <dbl> & <dbl> & <dbl> & <dbl> & <dbl> & <dbl> & <dbl> & <dbl> & <dbl> & <dbl> & <dbl> & <dbl> & <dbl> & <dbl> & <dbl> & <dbl> & <dbl> & <dbl> & <dbl> & <dbl> & <dbl> & <dbl> & <dbl> & <dbl> & <dbl> & <dbl> & <dbl> & <dbl> & <dbl> & <dbl> & <dbl> & <dbl> & <dbl> & <dbl> & <dbl> & <dbl> & <dbl> & <dbl> & <dbl> & <dbl> & <dbl> & <dbl> & <dbl> & <dbl> & <dbl> & <dbl> & <dbl> & <dbl> & <dbl> & <dbl> & <dbl> & <dbl> & <dbl> & <dbl> & <dbl> & <dbl> & <dbl> & <dbl> & <dbl> & <dbl> & <dbl> & <dbl> & <dbl> & <dbl> & <dbl> & <dbl> & <dbl> & <dbl> & <dbl> & <dbl> & <dbl> & <dbl> & <dbl> & <dbl> & <chr> & <chr> & <chr>\\\\\n",
       "\\hline\n",
       "\t 0.02171 & 0.03015 & 0.0203 &  0.1675 & 0.02104 & 0.02537 & 0.02492 & 0.06809 & 0.0000 & 0.02443 & 0.1421 & 0.02459 & 0.00000 & 0.02253 & 0.00000 & 0.02402 & 0.00 & 0.000 & 0.00000 & 0.08274 & 0.06885 & 0.09425 & 0.00 & 0.000 & 0.02277 &  0.02107 & 0.03083 & 0.04969 & 0.03952 & 0.000 & 0.00000 & 0.000 & 0.153 & 0.02166 & 0.01904 & 0.00000 & 0.00000 & 0.07101 & 0.000 & 0.11530 & 0.04383 & 0.000 & 0.0481 & 0.01778 & 0.0000 &  0.00000 & 0.01341 & 0.06711 &  0.00000 & 0.000 & 0.000 & 0.06217 & 0.000 & 0.02033 & 0.00000 & 0.0000 &  0.0 & 0.05783 & 0.000 & 0.07506 & 0.01878 & 0.14150 & 0.1793 & 0.000 & 0.000 & 0.04687 & 0.00000 & 0.00000 & 0.00000 & 0.00000 & 0.04362 & 0.0000 & 0.02633 & 0.00000 & 0.000 & 0.03249 & 0.000 & 0.000 & 0.1022 & 0.02316 & 0.02805 & 0.02545 & 0.01952 & 0.000 & 0.000 & 0.02111 & 0.02587 & 0.000 & 0.00000 & 0.00000 & 0.04212 & 0.165 & 0.00 & 0.000 & 0.00 & 0.02112 & 0.03223 & 0.000 & 0.0 & 0.000 & 0.01839 & 0.1382 & 0.00000 &  0.2739 & 0.05713 &  0.0000 & 0.000 & 0.02895 & 0.01382 & 0.000 & 0.00000 & 0.00 & 0.04709 & 0.00000 & 0.03854 & 0.09601 & 0.00000 & 0.000 & 0.04613 & 0.000 & 0.07256 & 0.00000 & 0.000 & 0.00000 & 0.000 & 0.0742 & 0.00000 & 0.06925 & 0.000 & 0.000 & 0.000 & 0.03033 & 0.04082 & 0.01947 & 0.00000 & 0.000 & 0.00000 &  0.00 & 0.01743 & 0.05167 & 0.00000 & 0.000 & 0.029 & 0.01999 & 0.00000 & 0.000 & 0.1248 & 0.01826 & 0.00000 & 0.00000 & 0.02743 & 0.000 & 0.04663 & 0.05956 & 0.00000 & 0.02849 & 0.04992 & 0.00000 & 0.02978 & 0.00000 & 0.000 & 0.05604 & 0.000 & 0.1161 & 0.01648 & 0.000 & 0.01354 & 0.03598 & 0.000 & 0.04419 & 0.02893 & 0.03586 & 0.000 & 0.00000 & 0.02632 & 0.1586 & 0.04074 & 0.02638 & 0.0000 & 0.02091 & 0.000 & 0.04095 & 0.02497 & 0.00000 & 0.05628 & 0.21280 & 0.02072 & 0.000 & 0.09728 & 0.05501 & 0.0000 & 0.07483 & 0.00000 & 0.00000 & 0.000 & 0.01844 & 0.00 & 0.00000 & 0.08037 & 0.03662 & 0.03164 &  0.00000 & 0.02429 & 0.000 & 0.00000 & 0.00000 & 0.01687 & 0.02835 & 0.02129 & 0.02484 & 0.07341 & 0.00000 & 0.000 & 0.07674 & 0.04126 & 0.09326 & 0.07814 & 0.00000 & 0.11910 & 0.00000 & 0.03947 & 0.0000 & 0.08158 & 0.00000 & 0.03828 & 0.07233 & 0.05194 & 0.000 & 0.000 & 0.02142 & 0.000 & 0.02127 & 0.00000 & 0.000 & 0.01639 & 0.000 & 0.000 &  0.00 & 0.000 & 0.000 & 0.02431 & 0.00000 & 0.02448 & 0.000 & 0.01588 & 0.00000 & 0.000 & 0.02035 & 0.000 & 0.00 & 0.06068 & 0.04313 & 0.000 &  0.05711 & 0.03228 & 0.0000 & 0.25500 & 0.03181 & 0.000 & 0.01733 & 0.0000 & 0.000 & 0.0000 & 0.06723 & 0.01834 & 0.00 & 0.02906 & 0.00000 & 0.02185 & 0.00000 & 0.01712 & 0.01979 & 0.04357 & 0.000 & 0.0000 & 0.000 & 0.0879 & 0.000 & 0.000 & 0.0000 & 0.02051 & 0.06650 & 0.04156 & 0.00000 & 0.05336 & 0.000 & 0.000 & 0.01881 & 0.05644 & 0.000 & 0.00 & 0.000 & 0.00000 & 0.02542 & 0.01729 & 0.00000 & 0.00000 & 0.00 & 0.02104 & 0.1038 & 0.0505 & 0.02725 & 0.00000 & 0.01986 & 0.000 & 0.01842 & 0.000 & 0.000 & 0.000 & 0.000 & 0.08747 & 0.01615 & 0.0000 & 0.05488 & 0.00000 & 0.00000 & 0.04658 & 0.02099 & 0.02083 & 0.04181 & 0.00000 & 0.02654 & 0.000 & 0.03388 & 0.100 & 0.000 & 0.0000 & 0.00000 & 0.000 & 0.01764 & 0.0000 & 0.1044 & 0.00000 & 0.000 & 0.02414 & 0.01947 & 0.05068 & 0.00000 & 0.105 & 0.03053 & 0.000 & 0.00000 & 0.000 & 0.000 & 0.01685 & 0.01981 & 0.000 & 0.00000 & 0.05796 & 0.000 & 0.0885 & 0.07342 & 0.04255 & 0.02706 & 0.0000 & 0.000 & 0.0512 & 0.2518 & 0.1031 & 0.000 & 0.000 & 0.000 & 0.02272 & 0.03244 & 0.02262 & 0.000 & 0.1679 & 0.00000 & 0.0000 & 0.000 & 0.3076 & 0.000 & 0.000 & 0.02694 & 0.0000 & 0.0294 & 0.000 & 0.01748 & 0.00 & 0.03189 & 0.03480 & 0.03748 & 0.01373 & 0.19030 & 0.000 & 0.03438 & 0.000 & 0.05187 & 0.03285 & 0.000 & 0.0000 & 0.05866 & 0.01309 & 0.09272 & 0.000 & 0.0000 & 0.0000 & 0.000 & 0.01764 & 0.000 & 0.01473 & 0.03764 & 0.06621 & 0.000 & 0.0000 & 0.000 & 0.02089 & 0.00000 &  0.0368 & 0.01461 & 0.0000 & 0.00000 & 0.000 & 0.000 & 0.000 & 0.000 & 0.2297 & 0.000 & 0.00000 & 0.000 & 0.000 & 0.06611 & 0.000 & 0.0000 & 0.00000 & 0.06213 & 0.0000 & 0.01227 & 0.01672 & 0.00000 & 0.02836 & 0.0000 & 0.000 & 0.01272 & 0.00000 & 0.01134 & 0.01214 & 0.01422 & 0.000 & 0.06913 & 0.000 & 0.01230 & 0.08808 & 0.0233 & 0.000 & 0.000 & 0.000 & 0.000 & 0.000 & 0.01537 & 0.1069 & 0.0406 & 0.000 & 0.000 & 0.000 & 0.000 & 0.000 & 0.000 & 0.000 & 0.01889 & 0.05355 & 0.000 & 0.00000 & 0.00000 & 0.00000 & 0.00000 & 0.03359 & 0.05985 & 0.03790 & 0.000 & 0.02005 & 0.00000 & 0.000 & 0.00000 & 0.03593 & 0.03247 & 0.03814 & 0.05689 & 0.03584 & 0.02343 & 0.000 & 0.0000 & 0.00000 & 0.01706 & 0.07174 & 0.0000 & 0.000 & 0.08999 & 0.000 & 0.000 & 0.00 & 0.00000 & 0.00000 & 0.00000 & 0.01694 & 0.000 & 0.03065 & 0.0000 & 0.0000 & 0.03179 & 0.01901 & 0.00000 & 0.000 & 0.02123 & 0.02054 & 0.000 & 0.02131 & 0.04752 & 0.01656 & 0.000 & 0.0000 & 0.000 & 0.01292 & 0.06093 & 0.000 & 0.00000 & 0.00000 & 0.000 & 0.000 & 0.1764 & 0.08413 & 0.03852 & 0.00000 & 0.000 & 0.01806 & 0.08241 & 0.00000 & 0.1461 & 0.00000 & 0.11360 & 0.00000 & 0.00000 & 0.12830 & 0.00000 & 0.00000 & 0.00000 & 0.00000 & 0.00000 & 0.000 & 0.00000 & 0.01357 & 0.00000 & 0.06259 & 0.00000 & 0.01884 & 0.00000 & 0.01556 & 0.000 & 0.00000 & 0.09108 & 0.11370 & 0.1490 & 0.000 & 0.02111 & 0.00 & 0.02653 & 0.00000 & 0.03922 & 0.03829 & 0.00000 & 0.03666 & 0.000 & 0.00000 & 0.00000 & 0.06881 & 0.05863 & 0.02076 & 0.000 & 0.00000 & 0.00000 & 0.000 & 0.000 & 0.000 & 0.00000 & 0.00000 & 0.12950 & 0.4063 &  0.00 & 0.000 & 0.1791 & 0.000 & 0.04114 & 0.0000 & 0.0000 & 0.20080 & 0.000 & 0.00000 & 0.00000 & 0.000 & 0.02498 & 0.00000 & 0.23920 & 0.000 & 0.00000 & 0.13600 & 0.00000 &  0.0000 & 0.02590 & 0.00000 & 0.00000 & 0.04245 & 0.00000 & 0.00000 & 0.13940 & 0.000 & 0.01753 & 0.00000 & 0.03661 &  0.00 & 0.01096 & 0.1163 & 0.2046 & 0.0190 & 0.08272 & 0.00000 & 0.000 & 0.00000 & 0.04499 & 0.000 & 0.22550 & 0.000 & 0.03465 & 0.0000 & 0.02491 & 0.01763 & 0.000 & 0.01830 & 0.2364 & 0.05973 & 0.000 &  0.00 &  0.00000 & 0.0000 & 0.00 & 0.02273 & 0.29790 & 0.03124 & 0.00000 & 0.000 & 0.00000 & 0.000 & 0.000 & 0.00000 & 0.05011 & 0.1001 & 0.000 & 0.000 & 0.00000 & 0.000 & 0.000 & 0.0797 & 0.00 & 0.03564 & 0.00000 & 0.08107 & 0.00000 & 0.0000 & 0.0000 & 0.03190 & 0.05007 & 0.04168 & 0.02720 & 0.000 & 0.00000 & 0.03770 & 0.000 &  0.00000 & 0.04592 & 0.00000 & 0.169 & 0.08937 & 0.02485 & 0.02703 & 0.07827 & 0.3167 & 0.000 & 0.00000 & 0.01913 & 0.03317 & 0.000 & 0.03900 &  0.02517 & 0.09194 & 0.02037 & 0.02008 & 0.000 & 0.00 & 0.00000 & 0.00000 &  0.02942 & 0.000 & 0.000 & 0.01837 & 0.000 & 0.0264 & 0.00000 & 0.04155 & 0.00000 & 0.1766 & 0.00000 & 0.000 & 0.000 & 0.000 & 0.01939 & 0.00000 & 0.000 & 0.00000 & 0.08604 & 0.000 & 0.000 & 0.00000 & 0.01343 & 0.00000 & 0.06545 & 0.00000 & 0.01647 & 0.00000 & 0.06955 & 0.00000 & 0.07885 & 0.00000 & 0.000 & 0.00000 & 0.00000 & 0.00000 & 0.03283 & 0.00000 & 0.0548 & 0.02213 & 0.04162 & 0.07333 & 0.00000 & 0.07734 & 0.03907 & 0.15540 & 0.00000 & 0.03489 & 0.06162 & 0.00000 & 0.04223 & 0.00000 & 0.00000 & 0.04127 & 0.00 & 0.000 & 0.0000 & 0.04841 & 0.00000 & 0.000 & 0.04858 & 0.11450 & 0.02417 & 0.000 & 0.02128 & 0.00000 & ENSG00000223972.5 & DDX11L1     & ENSG00000223972\\\\\n",
       "\t 1.55500 & 2.74700 & 4.4410 & 10.4700 & 1.28700 & 3.13800 & 4.21700 & 2.09800 & 0.3579 & 4.26200 & 2.5290 & 2.88200 & 4.80500 & 2.72800 & 4.01000 & 1.72000 & 2.51 & 1.886 & 1.35900 & 4.01300 & 1.18300 & 1.90200 & 1.66 & 3.249 & 1.18600 & 13.11000 & 5.33800 & 2.65200 & 2.62400 & 1.092 & 6.98700 & 1.886 & 3.275 & 2.22800 & 2.20600 & 1.33200 & 5.79100 & 2.74300 & 3.787 & 6.68200 & 4.87900 & 3.121 & 2.5360 & 1.57400 & 0.4965 & 10.10000 & 3.49100 & 1.60200 & 10.95000 & 2.088 & 2.621 & 3.76400 & 1.581 & 2.22300 & 1.65500 & 2.4300 & 12.4 & 9.23600 & 3.007 & 2.51600 & 1.34500 & 2.10000 & 0.5543 & 6.548 & 1.690 & 2.53200 & 1.90800 & 2.11300 & 0.86090 & 4.44900 & 3.46500 & 0.8687 & 2.74200 & 1.99100 & 3.092 & 4.18800 & 2.327 & 3.085 & 1.9620 & 8.02000 & 2.22700 & 4.80400 & 1.62700 & 2.292 & 1.086 & 5.02900 & 2.69500 & 1.078 & 4.65500 & 2.12900 & 2.41300 & 2.793 & 3.07 & 2.516 & 1.08 & 4.50900 & 0.37760 & 3.521 & 3.4 & 3.818 & 3.83000 & 1.8710 & 2.52200 & 13.1700 & 3.62000 & 11.2600 & 5.385 & 2.01700 & 3.04000 & 1.125 & 2.12000 & 1.53 & 1.30800 & 2.96900 & 1.30500 & 4.15000 & 2.99400 & 3.308 & 3.63400 & 4.175 & 2.61400 & 3.65600 & 2.011 & 2.29200 & 1.411 & 1.8840 & 2.51000 & 2.04400 & 2.251 & 1.630 & 2.451 & 5.45000 & 2.36500 & 1.79900 & 7.36200 & 3.806 & 4.44100 & 10.56 & 1.79200 & 7.46700 & 5.59700 & 3.298 & 3.360 & 1.53500 & 1.10400 & 1.411 & 4.5490 & 1.42600 & 6.63200 & 3.15400 & 7.28600 & 2.093 & 4.43100 & 2.79200 & 3.30000 & 5.34200 & 4.48400 & 1.39800 & 2.32700 & 0.50700 & 2.147 & 1.82400 & 2.089 & 4.1940 & 1.00800 & 4.704 & 2.76800 & 1.85000 & 2.572 & 2.01300 & 2.10900 & 3.94500 & 1.241 & 1.36500 & 1.86800 & 1.7300 & 3.50000 & 1.95800 & 0.6146 & 2.25900 & 1.908 & 2.07900 & 2.08100 & 3.03000 & 5.67900 & 3.22100 & 6.98600 & 2.337 & 3.74900 & 1.41400 & 0.6565 & 3.23900 & 1.28900 & 3.51300 & 2.228 & 1.32000 & 1.57 & 1.72300 & 3.99700 & 3.00400 & 1.29700 & 10.44000 & 0.44280 & 2.969 & 0.45070 & 3.47300 & 0.81270 & 2.01100 & 6.21000 & 5.36800 & 3.17800 & 0.35700 & 1.951 & 2.15800 & 1.93400 & 1.04400 & 1.76300 & 0.00000 & 1.98500 & 3.12400 & 1.61900 & 1.4500 & 1.69900 & 1.37400 & 1.09600 & 1.97700 & 2.95300 & 3.538 & 4.343 & 2.76000 & 1.714 & 4.62500 & 3.95700 & 2.167 & 0.78960 & 2.669 & 2.177 & 10.02 & 3.486 & 2.073 & 3.03800 & 0.69530 & 0.51000 & 1.186 & 3.92700 & 2.15800 & 3.764 & 2.17300 & 3.944 & 4.38 & 1.50100 & 2.86400 & 1.531 & 14.87000 & 2.94200 & 0.8234 & 2.51400 & 1.98800 & 2.389 & 3.92600 & 0.9817 & 1.555 & 0.7650 & 1.42200 & 2.91300 & 3.21 & 3.33000 & 0.98630 & 1.96300 & 5.53700 & 0.40120 & 1.26200 & 1.36200 & 1.637 & 0.8015 & 2.245 & 2.6320 & 4.578 & 5.238 & 0.9756 & 1.65600 & 1.84000 & 3.24700 & 1.78900 & 1.92200 & 3.451 & 3.222 & 1.37200 & 4.33600 & 3.527 & 2.27 & 5.378 & 1.36700 & 2.25100 & 1.62000 & 7.14900 & 1.86900 & 6.26 & 3.28800 & 4.5930 & 1.9390 & 1.27700 & 0.66950 & 2.63700 & 2.251 & 1.00700 & 1.979 & 3.944 & 2.367 & 3.108 & 2.30600 & 1.61900 & 3.1590 & 2.35800 & 1.71300 & 3.99900 & 2.30400 & 1.33900 & 2.54900 & 2.35900 & 2.57300 & 1.31300 & 3.102 & 1.19100 & 3.157 & 1.635 & 1.4950 & 2.03800 & 3.544 & 1.83700 & 6.7910 & 4.8680 & 2.10600 & 3.386 & 1.57200 & 2.15500 & 5.67500 & 4.15100 & 1.722 & 6.12200 & 2.692 & 1.10200 & 4.802 & 1.384 & 1.09700 & 3.35300 & 6.637 & 5.27100 & 2.11300 & 2.429 & 2.7190 & 2.64500 & 4.70900 & 2.43100 & 0.6028 & 2.128 & 3.2330 & 3.3250 & 2.2160 & 4.756 & 3.548 & 4.853 & 2.92800 & 2.19600 & 1.50200 & 2.627 & 3.0960 & 4.84400 & 6.4260 & 1.999 & 6.1310 & 2.458 & 2.371 & 2.01600 & 1.9360 & 5.4740 & 1.932 & 5.82700 & 3.43 & 2.11700 & 3.98700 & 4.90400 & 1.94900 & 1.59600 & 1.266 & 1.67900 & 0.597 & 0.69470 & 1.77500 & 3.735 & 2.1780 & 1.54700 & 1.26100 & 3.32000 & 4.586 & 0.9958 & 0.6772 & 1.274 & 1.95200 & 1.275 & 1.40000 & 4.70500 & 2.02600 & 4.056 & 0.7968 & 4.726 & 2.23100 & 1.95900 & 13.6800 & 4.22200 & 0.7458 & 2.24200 & 4.542 & 2.739 & 4.443 & 4.671 & 5.2350 & 1.494 & 1.40200 & 1.234 & 1.808 & 1.89400 & 3.135 & 0.6838 & 7.41300 & 3.90300 & 1.3680 & 1.55000 & 2.24200 & 2.03200 & 1.23700 & 4.7060 & 2.537 & 1.64000 & 2.11200 & 1.35800 & 3.21000 & 1.53700 & 1.384 & 4.01400 & 3.865 & 4.08300 & 3.05800 & 1.5320 & 1.691 & 2.633 & 5.043 & 5.586 & 1.552 & 3.44100 & 3.0830 & 2.5370 & 2.471 & 1.932 & 1.114 & 4.225 & 1.915 & 1.419 & 2.244 & 7.13100 & 4.02100 & 2.577 & 3.47500 & 5.64900 & 2.61300 & 3.38100 & 1.20300 & 2.72700 & 0.97040 & 6.779 & 0.41770 & 2.23400 & 5.837 & 4.55700 & 3.50800 & 1.60600 & 0.67030 & 5.77700 & 3.14900 & 3.96600 & 4.779 & 4.0140 & 2.90700 & 3.55300 & 1.45700 & 0.4506 & 3.063 & 0.60540 & 2.063 & 5.734 & 6.51 & 1.36000 & 0.84050 & 4.88600 & 4.03500 & 4.751 & 2.73400 & 4.9450 & 0.2363 & 1.01400 & 4.80300 & 0.86940 & 1.499 & 1.57500 & 1.63100 & 2.535 & 2.74700 & 2.04100 & 2.82500 & 1.874 & 2.0790 & 2.794 & 1.83300 & 2.38000 & 5.027 & 1.12100 & 8.48800 & 1.412 & 4.295 & 3.7900 & 1.42400 & 4.93900 & 0.99690 & 4.979 & 4.30300 & 1.39500 & 4.94500 & 5.1690 & 2.58100 & 2.12900 & 1.22400 & 1.28000 & 2.79900 & 3.58900 & 2.62000 & 1.80500 & 2.14400 & 1.61300 & 4.667 & 2.52600 & 4.20400 & 2.88100 & 2.20000 & 6.17000 & 3.23700 & 0.69110 & 3.12000 & 4.855 & 2.59900 & 2.13500 & 5.49800 & 0.6651 & 2.721 & 2.50100 & 8.59 & 3.52300 & 2.01800 & 2.83400 & 1.52100 & 0.85860 & 0.66810 & 3.209 & 0.13390 & 3.24700 & 3.71800 & 0.45800 & 4.81000 & 3.084 & 1.83100 & 1.37300 & 5.638 & 3.877 & 8.258 & 2.03400 & 0.97830 & 5.96700 & 0.9823 & 10.55 & 7.983 & 3.6140 & 6.748 & 0.74980 & 1.8660 & 0.8784 & 3.36200 & 3.403 & 0.42560 & 5.15900 & 1.949 & 3.51300 & 5.78000 & 1.82400 & 4.423 & 5.20300 & 4.25100 & 3.92400 & 11.1100 & 5.42900 & 5.69600 & 2.17200 & 5.47200 & 2.34200 & 4.13000 & 1.94500 & 3.107 & 4.42700 & 6.32600 & 9.23100 & 10.21 & 5.88100 & 3.8470 & 5.6320 & 0.7421 & 4.12000 & 1.72800 & 2.427 & 2.95600 & 7.79100 & 3.186 & 4.22000 & 5.576 & 1.98500 & 3.1040 & 4.02100 & 2.73100 & 2.997 & 4.50300 & 3.4620 & 7.88000 & 5.881 & 12.45 & 14.67000 & 1.8480 & 4.62 & 3.31400 & 4.10000 & 2.98900 & 2.20600 & 2.363 & 2.62500 & 1.535 & 1.856 & 2.12000 & 5.34900 & 6.1530 & 1.001 & 3.857 & 4.54200 & 5.477 & 6.592 & 2.7390 & 6.73 & 6.21800 & 2.94500 & 1.87900 & 2.10400 & 3.4660 & 2.0570 & 2.61600 & 2.31400 & 3.31000 & 6.90600 & 1.693 & 4.72500 & 2.82200 & 2.647 & 12.69000 & 2.57100 & 5.14900 & 9.930 & 7.35900 & 2.49200 & 4.54000 & 2.41200 & 4.8840 & 2.852 & 2.59900 & 1.07100 & 3.88700 & 4.158 & 2.48800 & 16.03000 & 5.68600 & 3.12900 & 1.59500 & 2.534 & 3.73 & 0.84930 & 4.28500 & 17.04000 & 3.027 & 2.448 & 2.89300 & 5.249 & 4.0220 & 2.18700 & 4.62500 & 6.48600 & 2.1260 & 1.88400 & 3.139 & 6.901 & 2.153 & 3.38300 & 2.74800 & 2.933 & 4.50600 & 1.73600 & 3.864 & 3.237 & 1.88000 & 1.29400 & 3.44900 & 2.36500 & 7.60200 & 3.02300 & 1.06100 & 5.47800 & 2.79700 & 6.64700 & 3.05600 & 5.447 & 4.83400 & 2.82500 & 3.84600 & 1.98800 & 2.87600 & 4.3880 & 2.53600 & 5.74300 & 4.36000 & 3.67400 & 2.11500 & 3.45900 & 5.20900 & 2.59900 & 5.83700 & 3.07500 & 2.03900 & 1.32000 & 1.02000 & 2.75100 & 2.39100 & 5.67 & 5.114 & 0.8979 & 3.06700 & 2.46400 & 1.504 & 3.19400 & 2.90600 & 3.43000 & 4.169 & 2.74300 & 6.07200 & ENSG00000227232.5 & WASH7P      & ENSG00000227232\\\\\n",
       "\t 0.00000 & 0.00000 & 0.0000 &  0.0000 & 0.00000 & 0.00000 & 0.00000 & 0.00000 & 0.0000 & 0.62120 & 0.0000 & 0.00000 & 0.00000 & 0.00000 & 0.00000 & 0.00000 & 0.00 & 0.000 & 0.00000 & 0.00000 & 0.00000 & 0.00000 & 0.00 & 0.000 & 0.00000 &  0.00000 & 0.00000 & 0.00000 & 0.00000 & 0.000 & 0.00000 & 0.000 & 0.000 & 0.00000 & 0.00000 & 0.00000 & 0.00000 & 0.00000 & 0.000 & 0.00000 & 0.00000 & 0.000 & 0.0000 & 0.00000 & 0.0000 &  0.00000 & 0.00000 & 0.00000 &  0.54120 & 0.000 & 0.000 & 0.00000 & 0.000 & 0.00000 & 0.00000 & 0.0000 &  0.0 & 0.00000 & 0.000 & 0.00000 & 0.00000 & 0.00000 & 0.0000 & 0.000 & 0.000 & 0.00000 & 0.00000 & 0.00000 & 0.00000 & 0.00000 & 0.00000 & 0.0000 & 0.00000 & 0.00000 & 0.000 & 0.00000 & 0.000 & 0.000 & 0.0000 & 0.00000 & 0.00000 & 0.00000 & 0.00000 & 0.000 & 0.000 & 0.00000 & 0.00000 & 0.000 & 0.00000 & 0.00000 & 0.00000 & 0.000 & 0.00 & 0.000 & 0.00 & 0.00000 & 0.00000 & 0.000 & 0.0 & 0.000 & 0.00000 & 0.0000 & 0.00000 &  0.0000 & 0.00000 &  0.0000 & 0.000 & 0.00000 & 0.00000 & 0.000 & 0.00000 & 0.00 & 0.00000 & 0.00000 & 0.00000 & 0.00000 & 0.00000 & 0.000 & 0.00000 & 0.000 & 0.00000 & 0.00000 & 0.000 & 0.00000 & 0.000 & 0.0000 & 0.00000 & 0.00000 & 0.000 & 0.000 & 0.000 & 0.00000 & 0.00000 & 0.00000 & 0.00000 & 0.000 & 0.00000 &  0.00 & 0.00000 & 0.00000 & 0.00000 & 0.000 & 0.000 & 0.00000 & 0.00000 & 0.000 & 0.0000 & 0.00000 & 0.00000 & 0.00000 & 0.00000 & 0.000 & 0.59280 & 0.00000 & 0.00000 & 0.00000 & 0.00000 & 0.00000 & 0.00000 & 0.00000 & 0.000 & 0.00000 & 0.000 & 0.0000 & 0.00000 & 0.000 & 0.00000 & 0.00000 & 0.000 & 0.00000 & 0.00000 & 0.00000 & 0.000 & 0.00000 & 0.00000 & 0.0000 & 0.00000 & 0.00000 & 0.0000 & 0.00000 & 0.000 & 0.00000 & 0.00000 & 0.00000 & 0.00000 & 0.00000 & 0.00000 & 0.000 & 0.00000 & 0.00000 & 0.0000 & 0.00000 & 0.00000 & 0.00000 & 0.000 & 0.00000 & 0.00 & 0.00000 & 0.00000 & 0.00000 & 0.00000 &  0.00000 & 0.00000 & 0.000 & 0.00000 & 0.00000 & 0.00000 & 0.00000 & 0.00000 & 0.00000 & 0.00000 & 0.00000 & 0.000 & 0.00000 & 0.00000 & 0.00000 & 0.00000 & 0.00000 & 0.00000 & 0.00000 & 0.00000 & 0.0000 & 0.69140 & 0.00000 & 0.00000 & 0.00000 & 0.00000 & 0.470 & 0.000 & 0.00000 & 0.000 & 0.00000 & 0.00000 & 0.000 & 0.00000 & 0.000 & 0.000 &  0.00 & 0.000 & 0.000 & 0.00000 & 0.00000 & 0.00000 & 0.000 & 0.00000 & 0.00000 & 0.000 & 0.00000 & 0.000 & 0.00 & 0.00000 & 0.00000 & 0.000 &  0.00000 & 0.00000 & 0.0000 & 0.00000 & 0.00000 & 0.000 & 0.00000 & 0.0000 & 0.000 & 0.0000 & 0.00000 & 0.00000 & 0.00 & 0.00000 & 0.00000 & 0.00000 & 0.00000 & 0.00000 & 0.00000 & 0.00000 & 0.000 & 0.0000 & 0.000 & 0.0000 & 0.000 & 0.000 & 0.0000 & 0.00000 & 0.00000 & 0.00000 & 0.00000 & 0.00000 & 0.000 & 0.000 & 0.00000 & 0.00000 & 0.000 & 0.00 & 0.000 & 0.00000 & 0.00000 & 0.00000 & 0.00000 & 0.00000 & 0.00 & 0.00000 & 0.0000 & 0.0000 & 0.00000 & 0.00000 & 0.00000 & 0.000 & 0.00000 & 0.000 & 0.000 & 0.000 & 0.000 & 0.00000 & 0.00000 & 0.0000 & 0.00000 & 0.00000 & 0.00000 & 0.00000 & 0.00000 & 0.00000 & 0.00000 & 0.00000 & 0.00000 & 0.000 & 0.00000 & 0.000 & 0.000 & 0.0000 & 0.00000 & 0.000 & 0.00000 & 0.0000 & 0.0000 & 0.00000 & 0.000 & 0.00000 & 0.00000 & 0.00000 & 0.00000 & 0.000 & 0.00000 & 0.000 & 0.00000 & 0.000 & 0.000 & 0.00000 & 0.00000 & 0.000 & 0.00000 & 0.00000 & 0.000 & 0.0000 & 0.00000 & 0.00000 & 0.00000 & 0.0000 & 0.000 & 0.0000 & 0.0000 & 0.0000 & 0.000 & 0.000 & 0.000 & 0.57770 & 0.00000 & 0.00000 & 0.000 & 0.0000 & 0.00000 & 0.3910 & 0.000 & 0.0000 & 0.000 & 0.000 & 0.00000 & 0.2953 & 0.0000 & 0.000 & 0.00000 & 0.00 & 0.00000 & 0.00000 & 0.00000 & 0.00000 & 0.00000 & 0.000 & 0.00000 & 0.000 & 0.00000 & 0.00000 & 0.000 & 0.4169 & 0.00000 & 0.00000 & 0.00000 & 0.000 & 0.0000 & 0.0000 & 0.000 & 0.00000 & 0.000 & 0.00000 & 0.00000 & 0.00000 & 0.000 & 0.0000 & 0.000 & 0.00000 & 0.00000 &  0.0000 & 0.00000 & 0.0000 & 0.35890 & 0.000 & 0.000 & 0.000 & 0.000 & 0.0000 & 0.000 & 0.00000 & 0.000 & 0.000 & 0.00000 & 0.000 & 0.0000 & 0.00000 & 0.00000 & 0.3563 & 0.00000 & 0.00000 & 0.00000 & 0.00000 & 0.0000 & 0.000 & 0.00000 & 0.00000 & 0.00000 & 0.00000 & 0.00000 & 0.000 & 0.00000 & 0.000 & 0.00000 & 0.00000 & 0.0000 & 0.000 & 0.000 & 0.000 & 0.000 & 0.000 & 0.00000 & 0.0000 & 0.0000 & 0.000 & 0.000 & 0.000 & 0.000 & 0.000 & 0.000 & 0.000 & 0.00000 & 0.00000 & 0.000 & 0.00000 & 0.00000 & 0.00000 & 0.00000 & 0.00000 & 0.00000 & 0.00000 & 0.000 & 0.00000 & 0.00000 & 0.000 & 0.00000 & 0.00000 & 0.00000 & 0.00000 & 0.00000 & 0.00000 & 0.00000 & 0.000 & 0.4429 & 0.00000 & 0.00000 & 0.00000 & 0.0000 & 0.000 & 0.00000 & 0.000 & 0.000 & 0.00 & 0.00000 & 0.00000 & 0.00000 & 0.00000 & 0.000 & 0.00000 & 0.0000 & 0.0000 & 0.00000 & 0.00000 & 0.00000 & 0.000 & 0.00000 & 0.00000 & 0.000 & 0.00000 & 0.00000 & 0.00000 & 0.000 & 0.4563 & 0.000 & 0.00000 & 0.00000 & 0.000 & 0.00000 & 0.00000 & 0.000 & 2.750 & 0.0000 & 0.00000 & 0.00000 & 0.00000 & 0.000 & 0.00000 & 0.00000 & 0.00000 & 0.0000 & 0.00000 & 0.00000 & 0.00000 & 0.00000 & 0.81580 & 0.00000 & 0.00000 & 0.00000 & 0.00000 & 0.00000 & 0.000 & 0.00000 & 0.00000 & 0.00000 & 0.00000 & 0.00000 & 0.00000 & 0.00000 & 0.00000 & 0.000 & 0.00000 & 0.00000 & 0.00000 & 0.0000 & 0.000 & 0.00000 & 0.00 & 0.00000 & 0.00000 & 0.00000 & 0.00000 & 0.00000 & 0.00000 & 0.000 & 0.00000 & 0.00000 & 0.00000 & 0.00000 & 0.00000 & 0.000 & 0.00000 & 0.00000 & 0.000 & 0.000 & 0.000 & 0.00000 & 0.00000 & 0.00000 & 0.0000 &  0.00 & 0.000 & 0.0000 & 0.000 & 0.00000 & 0.0000 & 0.0000 & 0.00000 & 0.000 & 0.00000 & 0.00000 & 0.000 & 0.63530 & 0.00000 & 0.00000 & 0.000 & 0.00000 & 0.00000 & 0.00000 &  0.0000 & 0.65860 & 0.00000 & 0.00000 & 0.00000 & 0.00000 & 0.00000 & 0.00000 & 0.000 & 0.00000 & 0.00000 & 0.00000 &  0.00 & 0.00000 & 0.0000 & 0.0000 & 0.0000 & 0.00000 & 0.00000 & 0.000 & 0.00000 & 0.00000 & 0.000 & 0.00000 & 0.000 & 0.00000 & 0.0000 & 0.00000 & 0.00000 & 0.000 & 0.00000 & 0.0000 & 0.00000 & 0.000 &  0.00 &  0.00000 & 0.0000 & 0.00 & 0.00000 & 0.00000 & 0.00000 & 0.00000 & 0.000 & 0.00000 & 0.000 & 0.000 & 0.00000 & 0.00000 & 0.0000 & 0.000 & 0.000 & 0.00000 & 0.000 & 0.000 & 0.0000 & 0.00 & 0.00000 & 0.00000 & 0.00000 & 0.00000 & 0.3935 & 0.0000 & 0.00000 & 0.00000 & 0.00000 & 0.00000 & 0.000 & 0.00000 & 0.00000 & 0.000 &  0.00000 & 0.00000 & 0.00000 & 0.000 & 0.00000 & 0.00000 & 0.00000 & 0.00000 & 0.0000 & 0.000 & 0.00000 & 0.00000 & 0.00000 & 0.000 & 0.00000 &  0.00000 & 0.00000 & 0.00000 & 0.00000 & 0.000 & 0.00 & 0.00000 & 0.00000 &  0.00000 & 0.000 & 0.000 & 0.00000 & 0.000 & 0.0000 & 0.00000 & 0.00000 & 0.00000 & 0.0000 & 0.00000 & 0.000 & 0.000 & 0.000 & 0.00000 & 0.00000 & 0.000 & 0.00000 & 0.00000 & 0.000 & 0.000 & 0.00000 & 0.00000 & 0.00000 & 0.00000 & 0.00000 & 0.00000 & 0.00000 & 0.00000 & 0.00000 & 0.00000 & 0.00000 & 0.000 & 0.00000 & 0.46750 & 0.00000 & 0.00000 & 0.00000 & 0.0000 & 0.00000 & 0.00000 & 0.00000 & 0.00000 & 0.65550 & 0.00000 & 0.49390 & 0.00000 & 0.00000 & 0.00000 & 0.00000 & 0.00000 & 0.00000 & 0.00000 & 0.00000 & 0.00 & 0.000 & 0.0000 & 0.00000 & 0.65930 & 0.000 & 0.00000 & 0.00000 & 0.00000 & 0.000 & 0.00000 & 0.61120 & ENSG00000278267.1 & MIR6859-1   & ENSG00000278267\\\\\n",
       "\t 0.00000 & 0.00000 & 0.0000 &  0.0000 & 0.00000 & 0.00000 & 0.00000 & 0.04532 & 0.0000 & 0.00000 & 0.0000 & 0.00000 & 0.04187 & 0.00000 & 0.00000 & 0.00000 & 0.00 & 0.000 & 0.00000 & 0.00000 & 0.00000 & 0.00000 & 0.00 & 0.000 & 0.00000 &  0.00000 & 0.00000 & 0.00000 & 0.00000 & 0.027 & 0.00000 & 0.000 & 0.000 & 0.00000 & 0.03801 & 0.02461 & 0.05843 & 0.00000 & 0.000 & 0.05757 & 0.00000 & 0.000 & 0.0000 & 0.00000 & 0.0000 &  0.00000 & 0.00000 & 0.00000 &  0.00000 & 0.000 & 0.000 & 0.00000 & 0.000 & 0.04058 & 0.02788 & 0.0000 &  0.0 & 0.00000 & 0.000 & 0.00000 & 0.00000 & 0.00000 & 0.0000 & 0.000 & 0.036 & 0.00000 & 0.00000 & 0.05064 & 0.00000 & 0.08861 & 0.00000 & 0.0000 & 0.00000 & 0.00000 & 0.000 & 0.00000 & 0.000 & 0.000 & 0.0000 & 0.00000 & 0.00000 & 0.00000 & 0.00000 & 0.000 & 0.000 & 0.00000 & 0.00000 & 0.000 & 0.00000 & 0.05533 & 0.00000 & 0.000 & 0.00 & 0.000 & 0.00 & 0.00000 & 0.00000 & 0.000 & 0.0 & 0.000 & 0.00000 & 0.0000 & 0.00000 &  0.0000 & 0.00000 &  0.0000 & 0.000 & 0.00000 & 0.00000 & 0.000 & 0.00000 & 0.00 & 0.00000 & 0.04178 & 0.07695 & 0.00000 & 0.00000 & 0.000 & 0.00000 & 0.000 & 0.00000 & 0.03893 & 0.000 & 0.00000 & 0.000 & 0.0000 & 0.00000 & 0.00000 & 0.000 & 0.000 & 0.000 & 0.06056 & 0.04075 & 0.07773 & 0.00000 & 0.000 & 0.00000 &  0.00 & 0.00000 & 0.00000 & 0.00000 & 0.000 & 0.000 & 0.00000 & 0.00000 & 0.000 & 0.0000 & 0.00000 & 0.00000 & 0.05972 & 0.00000 & 0.000 & 0.00000 & 0.00000 & 0.00000 & 0.00000 & 0.09966 & 0.00000 & 0.05946 & 0.00000 & 0.000 & 0.00000 & 0.000 & 0.0000 & 0.00000 & 0.000 & 0.00000 & 0.07184 & 0.000 & 0.08822 & 0.00000 & 0.00000 & 0.000 & 0.00000 & 0.02628 & 0.0000 & 0.00000 & 0.00000 & 0.0000 & 0.04174 & 0.000 & 0.08175 & 0.00000 & 0.00000 & 0.00000 & 0.37180 & 0.00000 & 0.000 & 0.00000 & 0.00000 & 0.0000 & 0.03735 & 0.03802 & 0.04767 & 0.000 & 0.00000 & 0.00 & 0.00000 & 0.00000 & 0.03656 & 0.00000 &  0.00000 & 0.00000 & 0.000 & 0.00000 & 0.00000 & 0.03368 & 0.00000 & 0.00000 & 0.00000 & 0.00000 & 0.00000 & 0.000 & 0.00000 & 0.00000 & 0.03724 & 0.10400 & 0.00000 & 0.04756 & 0.00000 & 0.00000 & 0.0000 & 0.00000 & 0.03763 & 0.03822 & 0.00000 & 0.06914 & 0.000 & 0.000 & 0.00000 & 0.000 & 0.00000 & 0.04854 & 0.000 & 0.03273 & 0.000 & 0.000 &  0.00 & 0.000 & 0.000 & 0.04853 & 0.00000 & 0.00000 & 0.000 & 0.00000 & 0.11410 & 0.000 & 0.00000 & 0.000 & 0.00 & 0.00000 & 0.00000 & 0.000 &  0.00000 & 0.00000 & 0.0000 & 0.07274 & 0.00000 & 0.000 & 0.03460 & 0.0000 & 0.000 & 0.0000 & 0.00000 & 0.00000 & 0.00 & 0.00000 & 0.00000 & 0.04362 & 0.00000 & 0.00000 & 0.03950 & 0.00000 & 0.000 & 0.0000 & 0.000 & 0.0000 & 0.000 & 0.000 & 0.0000 & 0.00000 & 0.03319 & 0.00000 & 0.02770 & 0.00000 & 0.000 & 0.000 & 0.00000 & 0.00000 & 0.000 & 0.00 & 0.000 & 0.02687 & 0.00000 & 0.00000 & 0.00000 & 0.00000 & 0.00 & 0.00000 & 0.0000 & 0.0000 & 0.00000 & 0.00000 & 0.00000 & 0.000 & 0.00000 & 0.000 & 0.000 & 0.000 & 0.000 & 0.00000 & 0.00000 & 0.0000 & 0.05478 & 0.05472 & 0.06321 & 0.00000 & 0.00000 & 0.00000 & 0.00000 & 0.03868 & 0.00000 & 0.000 & 0.00000 & 0.000 & 0.000 & 0.0273 & 0.05124 & 0.000 & 0.00000 & 0.0000 & 0.0000 & 0.04679 & 0.000 & 0.00000 & 0.00000 & 0.00000 & 0.00000 & 0.000 & 0.00000 & 0.000 & 0.00000 & 0.000 & 0.000 & 0.00000 & 0.00000 & 0.000 & 0.00000 & 0.00000 & 0.000 & 0.0000 & 0.00000 & 0.00000 & 0.00000 & 0.0000 & 0.000 & 0.0000 & 0.0000 & 0.0000 & 0.000 & 0.000 & 0.000 & 0.00000 & 0.00000 & 0.04516 & 0.000 & 0.0000 & 0.00000 & 0.0307 & 0.000 & 0.0000 & 0.000 & 0.000 & 0.00000 & 0.0000 & 0.0000 & 0.000 & 0.00000 & 0.00 & 0.00000 & 0.00000 & 0.00000 & 0.00000 & 0.04221 & 0.000 & 0.00000 & 0.000 & 0.00000 & 0.00000 & 0.000 & 0.0000 & 0.00000 & 0.00000 & 0.00000 & 0.000 & 0.0000 & 0.0000 & 0.000 & 0.00000 & 0.000 & 0.00000 & 0.00000 & 0.00000 & 0.000 & 0.0000 & 0.000 & 0.00000 & 0.00000 &  0.0000 & 0.00000 & 0.0000 & 0.00000 & 0.000 & 0.040 & 0.000 & 0.000 & 0.0000 & 0.000 & 0.00000 & 0.000 & 0.000 & 0.00000 & 0.000 & 0.0000 & 0.00000 & 0.00000 & 0.0000 & 0.00000 & 0.00000 & 0.00000 & 0.00000 & 0.0000 & 0.000 & 0.00000 & 0.02591 & 0.00000 & 0.00000 & 0.02840 & 0.000 & 0.00000 & 0.000 & 0.00000 & 0.00000 & 0.0000 & 0.000 & 0.000 & 0.000 & 0.000 & 0.000 & 0.00000 & 0.0000 & 0.0000 & 0.000 & 0.000 & 0.000 & 0.000 & 0.000 & 0.000 & 0.000 & 0.00000 & 0.00000 & 0.000 & 0.03918 & 0.00000 & 0.00000 & 0.00000 & 0.00000 & 0.03983 & 0.02522 & 0.000 & 0.00000 & 0.07529 & 0.000 & 0.00000 & 0.03587 & 0.00000 & 0.00000 & 0.05679 & 0.00000 & 0.00000 & 0.000 & 0.0000 & 0.08573 & 0.00000 & 0.00000 & 0.0000 & 0.000 & 0.00000 & 0.000 & 0.000 & 0.00 & 0.00000 & 0.02578 & 0.00000 & 0.03381 & 0.000 & 0.00000 & 0.0000 & 0.0000 & 0.03173 & 0.00000 & 0.00000 & 0.000 & 0.00000 & 0.00000 & 0.000 & 0.00000 & 0.00000 & 0.00000 & 0.000 & 0.0000 & 0.000 & 0.00000 & 0.00000 & 0.000 & 0.00000 & 0.00000 & 0.000 & 0.000 & 0.0000 & 0.00000 & 0.00000 & 0.04132 & 0.000 & 0.00000 & 0.00000 & 0.04956 & 0.0000 & 0.00000 & 0.00000 & 0.00000 & 0.00000 & 0.00000 & 0.08339 & 0.00000 & 0.04857 & 0.00000 & 0.07383 & 0.000 & 0.00000 & 0.00000 & 0.00000 & 0.12500 & 0.00000 & 0.03761 & 0.00000 & 0.00000 & 0.000 & 0.00000 & 0.00000 & 0.00000 & 0.0000 & 0.000 & 0.00000 & 0.00 & 0.00000 & 0.00000 & 0.00000 & 0.00000 & 0.04540 & 0.00000 & 0.000 & 0.00000 & 0.06728 & 0.00000 & 0.00000 & 0.00000 & 0.000 & 0.00000 & 0.08597 & 0.000 & 0.000 & 0.000 & 0.07089 & 0.04839 & 0.05169 & 0.0000 &  0.00 & 0.000 & 0.0000 & 0.000 & 0.08213 & 0.0000 & 0.0898 & 0.00000 & 0.000 & 0.05439 & 0.00000 & 0.000 & 0.00000 & 0.00000 & 0.00000 & 0.000 & 0.00000 & 0.00000 & 0.03647 &  0.1128 & 0.05171 & 0.03176 & 0.05286 & 0.08475 & 0.00000 & 0.00000 & 0.03977 & 0.000 & 0.03500 & 0.04076 & 0.00000 &  0.00 & 0.00000 & 0.0000 & 0.0000 & 0.0000 & 0.00000 & 0.00000 & 0.000 & 0.00000 & 0.00000 & 0.000 & 0.00000 & 0.000 & 0.00000 & 0.0000 & 0.00000 & 0.00000 & 0.000 & 0.00000 & 0.0000 & 0.00000 & 0.000 &  0.00 &  0.00000 & 0.0000 & 0.00 & 0.00000 & 0.08496 & 0.00000 & 0.03075 & 0.000 & 0.00000 & 0.000 & 0.000 & 0.04453 & 0.00000 & 0.0000 & 0.000 & 0.000 & 0.04493 & 0.000 & 0.000 & 0.0000 & 0.00 & 0.00000 & 0.00000 & 0.00000 & 0.00000 & 0.0000 & 0.1088 & 0.03184 & 0.00000 & 0.04161 & 0.10860 & 0.000 & 0.00000 & 0.07527 & 0.000 &  0.06598 & 0.00000 & 0.06691 & 0.000 & 0.00000 & 0.00000 & 0.00000 & 0.00000 & 0.0000 & 0.000 & 0.00000 & 0.00000 & 0.00000 & 0.000 & 0.00000 &  0.05026 & 0.00000 & 0.04066 & 0.00000 & 0.000 & 0.00 & 0.00000 & 0.00000 &  0.00000 & 0.000 & 0.000 & 0.00000 & 0.000 & 0.0000 & 0.02891 & 0.04147 & 0.00000 & 0.0000 & 0.00000 & 0.000 & 0.000 & 0.000 & 0.00000 & 0.05811 & 0.000 & 0.00000 & 0.04295 & 0.000 & 0.000 & 0.00000 & 0.00000 & 0.00000 & 0.00000 & 0.00000 & 0.06576 & 0.00000 & 0.00000 & 0.03325 & 0.00000 & 0.03938 & 0.000 & 0.04466 & 0.00000 & 0.09216 & 0.00000 & 0.05378 & 0.0000 & 0.00000 & 0.00000 & 0.04880 & 0.00000 & 0.00000 & 0.00000 & 0.00000 & 0.00000 & 0.00000 & 0.00000 & 0.00000 & 0.00000 & 0.03474 & 0.00000 & 0.00000 & 0.00 & 0.000 & 0.0000 & 0.00000 & 0.00000 & 0.000 & 0.09698 & 0.11430 & 0.00000 & 0.000 & 0.00000 & 0.00000 & ENSG00000243485.5 & MIR1302-2HG & ENSG00000243485\\\\\n",
       "\t 0.00000 & 0.00000 & 0.0576 &  0.0000 & 0.00000 & 0.00000 & 0.00000 & 0.00000 & 0.0000 & 0.00000 & 0.0000 & 0.00000 & 0.00000 & 0.00000 & 0.00000 & 0.00000 & 0.00 & 0.000 & 0.03022 & 0.00000 & 0.00000 & 0.00000 & 0.00 & 0.000 & 0.00000 &  0.00000 & 0.00000 & 0.00000 & 0.00000 & 0.000 & 0.00000 & 0.000 & 0.000 & 0.00000 & 0.00000 & 0.00000 & 0.00000 & 0.00000 & 0.000 & 0.00000 & 0.06217 & 0.000 & 0.0000 & 0.00000 & 0.0000 &  0.00000 & 0.01902 & 0.00000 &  0.00000 & 0.000 & 0.000 & 0.00000 & 0.000 & 0.00000 & 0.00000 & 0.0000 &  0.0 & 0.00000 & 0.000 & 0.00000 & 0.00000 & 0.04013 & 0.0000 & 0.000 & 0.000 & 0.03324 & 0.00000 & 0.00000 & 0.02132 & 0.00000 & 0.00000 & 0.0000 & 0.00000 & 0.02712 & 0.000 & 0.00000 & 0.000 & 0.000 & 0.0000 & 0.03285 & 0.03978 & 0.00000 & 0.00000 & 0.000 & 0.000 & 0.02994 & 0.00000 & 0.000 & 0.00000 & 0.00000 & 0.00000 & 0.000 & 0.00 & 0.000 & 0.00 & 0.00000 & 0.00000 & 0.000 & 0.0 & 0.000 & 0.05216 & 0.0000 & 0.02568 &  0.0000 & 0.00000 &  0.0000 & 0.000 & 0.00000 & 0.00000 & 0.000 & 0.00000 & 0.00 & 0.00000 & 0.00000 & 0.00000 & 0.00000 & 0.00000 & 0.000 & 0.00000 & 0.000 & 0.00000 & 0.02766 & 0.000 & 0.03783 & 0.000 & 0.0000 & 0.02763 & 0.00000 & 0.000 & 0.037 & 0.000 & 0.00000 & 0.02895 & 0.00000 & 0.04155 & 0.000 & 0.00000 &  0.00 & 0.00000 & 0.03664 & 0.00000 & 0.000 & 0.000 & 0.02835 & 0.05343 & 0.000 & 0.0000 & 0.00000 & 0.00000 & 0.00000 & 0.00000 & 0.000 & 0.00000 & 0.00000 & 0.06306 & 0.00000 & 0.00000 & 0.00000 & 0.00000 & 0.00000 & 0.000 & 0.00000 & 0.000 & 0.0000 & 0.00000 & 0.000 & 0.00000 & 0.00000 & 0.000 & 0.03134 & 0.00000 & 0.00000 & 0.000 & 0.01956 & 0.00000 & 0.0000 & 0.05778 & 0.00000 & 0.0000 & 0.00000 & 0.000 & 0.02904 & 0.00000 & 0.00000 & 0.00000 & 0.03773 & 0.02939 & 0.000 & 0.00000 & 0.00000 & 0.0000 & 0.00000 & 0.02701 & 0.00000 & 0.000 & 0.00000 & 0.00 & 0.00000 & 0.02280 & 0.00000 & 0.00000 &  0.01727 & 0.03446 & 0.000 & 0.00000 & 0.03504 & 0.00000 & 0.00000 & 0.00000 & 0.00000 & 0.00000 & 0.04862 & 0.000 & 0.00000 & 0.02926 & 0.05291 & 0.00000 & 0.03681 & 0.00000 & 0.00000 & 0.00000 & 0.0000 & 0.00000 & 0.00000 & 0.00000 & 0.00000 & 0.02456 & 0.000 & 0.000 & 0.00000 & 0.000 & 0.00000 & 0.00000 & 0.000 & 0.00000 & 0.000 & 0.000 &  0.00 & 0.000 & 0.000 & 0.00000 & 0.00000 & 0.00000 & 0.000 & 0.00000 & 0.02702 & 0.000 & 0.00000 & 0.000 & 0.00 & 0.00000 & 0.03059 & 0.000 &  0.00000 & 0.00000 & 0.0000 & 0.00000 & 0.00000 & 0.000 & 0.00000 & 0.0000 & 0.000 & 0.0000 & 0.00000 & 0.00000 & 0.00 & 0.00000 & 0.02388 & 0.00000 & 0.00000 & 0.00000 & 0.02806 & 0.00000 & 0.000 & 0.0000 & 0.000 & 0.0000 & 0.000 & 0.000 & 0.0000 & 0.00000 & 0.00000 & 0.00000 & 0.00000 & 0.00000 & 0.000 & 0.000 & 0.00000 & 0.00000 & 0.000 & 0.00 & 0.000 & 0.01909 & 0.00000 & 0.00000 & 0.00000 & 0.00000 & 0.00 & 0.05970 & 0.0000 & 0.0000 & 0.07730 & 0.00000 & 0.00000 & 0.000 & 0.00000 & 0.000 & 0.000 & 0.000 & 0.000 & 0.03102 & 0.00000 & 0.0000 & 0.00000 & 0.00000 & 0.00000 & 0.00000 & 0.00000 & 0.00000 & 0.00000 & 0.00000 & 0.00000 & 0.000 & 0.00000 & 0.000 & 0.000 & 0.0000 & 0.00000 & 0.000 & 0.00000 & 0.0000 & 0.0000 & 0.06649 & 0.000 & 0.00000 & 0.00000 & 0.00000 & 0.00000 & 0.000 & 0.00000 & 0.000 & 0.02502 & 0.000 & 0.000 & 0.02390 & 0.00000 & 0.000 & 0.03854 & 0.00000 & 0.000 & 0.0000 & 0.00000 & 0.00000 & 0.00000 & 0.0000 & 0.000 & 0.0000 & 0.0000 & 0.0000 & 0.000 & 0.000 & 0.000 & 0.06445 & 0.00000 & 0.03209 & 0.000 & 0.0000 & 0.02720 & 0.0000 & 0.000 & 0.0000 & 0.000 & 0.000 & 0.00000 & 0.0000 & 0.0000 & 0.000 & 0.00000 & 0.00 & 0.00000 & 0.00000 & 0.00000 & 0.00000 & 0.00000 & 0.000 & 0.00000 & 0.000 & 0.00000 & 0.00000 & 0.000 & 0.0000 & 0.00000 & 0.00000 & 0.00000 & 0.000 & 0.0000 & 0.0000 & 0.000 & 0.02501 & 0.000 & 0.00000 & 0.00000 & 0.00000 & 0.000 & 0.0000 & 0.000 & 0.00000 & 0.00000 &  0.0000 & 0.00000 & 0.0000 & 0.00000 & 0.000 & 0.000 & 0.000 & 0.000 & 0.0000 & 0.000 & 0.01934 & 0.000 & 0.000 & 0.00000 & 0.000 & 0.0000 & 0.00000 & 0.00000 & 0.0000 & 0.00000 & 0.00000 & 0.02306 & 0.00000 & 0.0000 & 0.000 & 0.00000 & 0.00000 & 0.00000 & 0.00000 & 0.00000 & 0.000 & 0.00000 & 0.000 & 0.01744 & 0.00000 & 0.0000 & 0.000 & 0.000 & 0.000 & 0.000 & 0.000 & 0.00000 & 0.0000 & 0.0000 & 0.000 & 0.000 & 0.000 & 0.000 & 0.000 & 0.000 & 0.000 & 0.00000 & 0.00000 & 0.000 & 0.00000 & 0.00000 & 0.00000 & 0.00000 & 0.00000 & 0.00000 & 0.00000 & 0.000 & 0.00000 & 0.02674 & 0.000 & 0.00000 & 0.00000 & 0.00000 & 0.00000 & 0.00000 & 0.00000 & 0.00000 & 0.000 & 0.0000 & 0.00000 & 0.00000 & 0.00000 & 0.0000 & 0.000 & 0.02127 & 0.000 & 0.000 & 0.00 & 0.00000 & 0.00000 & 0.00000 & 0.00000 & 0.000 & 0.00000 & 0.0000 & 0.0000 & 0.00000 & 0.00000 & 0.00000 & 0.000 & 0.00000 & 0.00000 & 0.000 & 0.00000 & 0.00000 & 0.00000 & 0.000 & 0.0000 & 0.000 & 0.00000 & 0.00000 & 0.000 & 0.00000 & 0.03072 & 0.000 & 0.000 & 0.0000 & 0.00000 & 0.00000 & 0.00000 & 0.000 & 0.00000 & 0.00000 & 0.03521 & 0.0000 & 0.00000 & 0.03221 & 0.02899 & 0.02583 & 0.00000 & 0.00000 & 0.03243 & 0.00000 & 0.00000 & 0.00000 & 0.000 & 0.00000 & 0.00000 & 0.02961 & 0.00000 & 0.00000 & 0.00000 & 0.00000 & 0.00000 & 0.000 & 0.03111 & 0.00000 & 0.00000 & 0.0000 & 0.000 & 0.00000 & 0.00 & 0.00000 & 0.00000 & 0.00000 & 0.00000 & 0.00000 & 0.00000 & 0.000 & 0.07295 & 0.00000 & 0.00000 & 0.00000 & 0.00000 & 0.000 & 0.06651 & 0.00000 & 0.000 & 0.000 & 0.000 & 0.00000 & 0.00000 & 0.00000 & 0.0000 &  0.00 & 0.000 & 0.0000 & 0.000 & 0.00000 & 0.0000 & 0.0000 & 0.00000 & 0.000 & 0.00000 & 0.05457 & 0.000 & 0.00000 & 0.03704 & 0.09694 & 0.000 & 0.00000 & 0.03859 & 0.00000 &  0.1603 & 0.00000 & 0.00000 & 0.03755 & 0.06021 & 0.00000 & 0.02903 & 0.00000 & 0.000 & 0.00000 & 0.05791 & 0.01731 &  0.00 & 0.00000 & 0.0330 & 0.0000 & 0.0000 & 0.00000 & 0.00000 & 0.000 & 0.03097 & 0.00000 & 0.000 & 0.00000 & 0.000 & 0.00000 & 0.0000 & 0.00000 & 0.02500 & 0.000 & 0.02596 & 0.0000 & 0.02824 & 0.000 &  0.00 &  0.02133 & 0.0000 & 0.00 & 0.00000 & 0.06036 & 0.00000 & 0.02185 & 0.000 & 0.00000 & 0.000 & 0.000 & 0.00000 & 0.00000 & 0.0000 & 0.000 & 0.000 & 0.00000 & 0.000 & 0.000 & 0.0000 & 0.00 & 0.00000 & 0.01876 & 0.02300 & 0.00000 & 0.0000 & 0.0000 & 0.00000 & 0.03551 & 0.02956 & 0.00000 & 0.000 & 0.03238 & 0.00000 & 0.000 &  0.00000 & 0.00000 & 0.00000 & 0.000 & 0.00000 & 0.00000 & 0.00000 & 0.00000 & 0.0000 & 0.000 & 0.00000 & 0.02714 & 0.00000 & 0.000 & 0.00000 &  0.00000 & 0.00000 & 0.02889 & 0.00000 & 0.000 & 0.00 & 0.03427 & 0.04966 &  0.04173 & 0.000 & 0.000 & 0.00000 & 0.000 & 0.0000 & 0.00000 & 0.00000 & 0.02782 & 0.0313 & 0.00000 & 0.000 & 0.000 & 0.000 & 0.00000 & 0.00000 & 0.000 & 0.00000 & 0.00000 & 0.000 & 0.000 & 0.00000 & 0.00000 & 0.00000 & 0.00000 & 0.02596 & 0.04672 & 0.02687 & 0.00000 & 0.00000 & 0.00000 & 0.00000 & 0.000 & 0.00000 & 0.02608 & 0.00000 & 0.00000 & 0.00000 & 0.0000 & 0.00000 & 0.00000 & 0.00000 & 0.00000 & 0.00000 & 0.00000 & 0.00000 & 0.02803 & 0.00000 & 0.00000 & 0.02157 & 0.00000 & 0.00000 & 0.02676 & 0.02927 & 0.00 & 0.000 & 0.0000 & 0.00000 & 0.03678 & 0.000 & 0.00000 & 0.04058 & 0.00000 & 0.000 & 0.00000 & 0.00000 & ENSG00000237613.2 & FAM138A     & ENSG00000237613\\\\\n",
       "\t 0.00000 & 0.12410 & 0.0000 &  0.0000 & 0.00000 & 0.00000 & 0.05129 & 0.00000 & 0.0000 & 0.00000 & 0.0000 & 0.00000 & 0.00000 & 0.00000 & 0.03664 & 0.00000 & 0.00 & 0.000 & 0.00000 & 0.00000 & 0.02834 & 0.00000 & 0.00 & 0.000 & 0.00000 &  0.04337 & 0.00000 & 0.05114 & 0.00000 & 0.000 & 0.03757 & 0.000 & 0.000 & 0.00000 & 0.00000 & 0.00000 & 0.00000 & 0.00000 & 0.000 & 0.05935 & 0.00000 & 0.000 & 0.0000 & 0.03659 & 0.0000 &  0.08359 & 0.00000 & 0.00000 &  0.04381 & 0.000 & 0.000 & 0.06399 & 0.000 & 0.04184 & 0.02875 & 0.0499 &  0.0 & 0.03968 & 0.000 & 0.00000 & 0.00000 & 0.00000 & 0.0000 & 0.000 & 0.000 & 0.00000 & 0.03868 & 0.00000 & 0.00000 & 0.00000 & 0.00000 & 0.0000 & 0.00000 & 0.00000 & 0.000 & 0.00000 & 0.000 & 0.000 & 0.0000 & 0.00000 & 0.00000 & 0.00000 & 0.00000 & 0.000 & 0.000 & 0.08689 & 0.00000 & 0.000 & 0.05147 & 0.00000 & 0.00000 & 0.000 & 0.00 & 0.000 & 0.00 & 0.00000 & 0.03317 & 0.000 & 0.0 & 0.000 & 0.00000 & 0.0000 & 0.03727 &  0.0000 & 0.03920 &  0.1515 & 0.000 & 0.00000 & 0.00000 & 0.000 & 0.03456 & 0.00 & 0.03231 & 0.00000 & 0.00000 & 0.00000 & 0.06396 & 0.000 & 0.00000 & 0.000 & 0.00000 & 0.00000 & 0.000 & 0.00000 & 0.000 & 0.0000 & 0.08018 & 0.00000 & 0.000 & 0.000 & 0.000 & 0.00000 & 0.04201 & 0.00000 & 0.00000 & 0.000 & 0.05088 &  0.00 & 0.00000 & 0.00000 & 0.05709 & 0.000 & 0.000 & 0.00000 & 0.00000 & 0.000 & 0.0000 & 0.00000 & 0.06876 & 0.00000 & 0.00000 & 0.000 & 0.04799 & 0.00000 & 0.04576 & 0.00000 & 0.20550 & 0.04911 & 0.00000 & 0.04453 & 0.000 & 0.00000 & 0.000 & 0.0000 & 0.00000 & 0.000 & 0.00000 & 0.00000 & 0.000 & 0.09095 & 0.00000 & 0.00000 & 0.000 & 0.08517 & 0.00000 & 0.0000 & 0.00000 & 0.00000 & 0.0000 & 0.00000 & 0.000 & 0.00000 & 0.05140 & 0.03958 & 0.00000 & 0.05476 & 0.00000 & 0.000 & 0.00000 & 0.00000 & 0.0000 & 0.00000 & 0.03920 & 0.00000 & 0.000 & 0.03796 & 0.00 & 0.08254 & 0.00000 & 0.03769 & 0.00000 &  0.00000 & 0.00000 & 0.000 & 0.03563 & 0.00000 & 0.00000 & 0.00000 & 0.00000 & 0.10230 & 0.00000 & 0.03528 & 0.000 & 0.09478 & 0.00000 & 0.11520 & 0.10720 & 0.00000 & 0.04903 & 0.03889 & 0.04062 & 0.0283 & 0.11190 & 0.00000 & 0.00000 & 0.04962 & 0.03564 & 0.000 & 0.000 & 0.04408 & 0.000 & 0.00000 & 0.00000 & 0.000 & 0.00000 & 0.000 & 0.000 &  0.00 & 0.000 & 0.000 & 0.00000 & 0.04071 & 0.00000 & 0.000 & 0.00000 & 0.07841 & 0.000 & 0.00000 & 0.000 & 0.00 & 0.00000 & 0.00000 & 0.000 &  0.00000 & 0.00000 & 0.0000 & 0.00000 & 0.00000 & 0.000 & 0.00000 & 0.0000 & 0.000 & 0.0417 & 0.00000 & 0.07549 & 0.00 & 0.00000 & 0.00000 & 0.00000 & 0.03806 & 0.00000 & 0.04072 & 0.00000 & 0.000 & 0.0000 & 0.000 & 0.0000 & 0.000 & 0.000 & 0.0000 & 0.00000 & 0.00000 & 0.00000 & 0.02856 & 0.00000 & 0.000 & 0.000 & 0.01936 & 0.00000 & 0.000 & 0.00 & 0.000 & 0.00000 & 0.00000 & 0.00000 & 0.03105 & 0.02735 & 0.00 & 0.00000 & 0.0000 & 0.0000 & 0.00000 & 0.03113 & 0.00000 & 0.000 & 0.00000 & 0.000 & 0.000 & 0.000 & 0.000 & 0.00000 & 0.00000 & 0.1074 & 0.00000 & 0.00000 & 0.06517 & 0.00000 & 0.00000 & 0.00000 & 0.00000 & 0.00000 & 0.00000 & 0.000 & 0.00000 & 0.000 & 0.000 & 0.0000 & 0.00000 & 0.000 & 0.00000 & 0.0421 & 0.0000 & 0.00000 & 0.000 & 0.00000 & 0.04008 & 0.00000 & 0.04756 & 0.000 & 0.00000 & 0.000 & 0.00000 & 0.000 & 0.000 & 0.00000 & 0.00000 & 0.000 & 0.00000 & 0.00000 & 0.000 & 0.0000 & 0.00000 & 0.00000 & 0.00000 & 0.0000 & 0.000 & 0.0000 & 0.0000 & 0.0000 & 0.000 & 0.000 & 0.000 & 0.04676 & 0.00000 & 0.09312 & 0.000 & 0.0000 & 0.03948 & 0.0000 & 0.000 & 0.0000 & 0.000 & 0.000 & 0.00000 & 0.0000 & 0.0000 & 0.000 & 0.00000 & 0.00 & 0.06564 & 0.03581 & 0.00000 & 0.05654 & 0.00000 & 0.000 & 0.00000 & 0.000 & 0.01525 & 0.00000 & 0.000 & 0.0000 & 0.00000 & 0.00000 & 0.00000 & 0.000 & 0.0000 & 0.0000 & 0.000 & 0.00000 & 0.000 & 0.00000 & 0.00000 & 0.00000 & 0.000 & 0.0000 & 0.000 & 0.00000 & 0.03686 &  0.0000 & 0.00000 & 0.0000 & 0.05811 & 0.000 & 0.000 & 0.000 & 0.000 & 0.0000 & 0.000 & 0.00000 & 0.000 & 0.000 & 0.02721 & 0.000 & 0.0000 & 0.04185 & 0.00000 & 0.0000 & 0.00000 & 0.00000 & 0.03347 & 0.00000 & 0.0318 & 0.000 & 0.00000 & 0.02671 & 0.00000 & 0.00000 & 0.00000 & 0.000 & 0.00000 & 0.000 & 0.00000 & 0.00000 & 0.0000 & 0.000 & 0.000 & 0.000 & 0.000 & 0.000 & 0.00000 & 0.0000 & 0.0000 & 0.000 & 0.000 & 0.000 & 0.000 & 0.000 & 0.000 & 0.000 & 0.03887 & 0.00000 & 0.000 & 0.00000 & 0.04802 & 0.04011 & 0.03989 & 0.06914 & 0.00000 & 0.00000 & 0.000 & 0.08254 & 0.00000 & 0.000 & 0.04238 & 0.00000 & 0.03342 & 0.00000 & 0.05855 & 0.00000 & 0.00000 & 0.000 & 0.0000 & 0.00000 & 0.00000 & 0.00000 & 0.0000 & 0.000 & 0.03087 & 0.000 & 0.000 & 0.00 & 0.03072 & 0.00000 & 0.04109 & 0.00000 & 0.000 & 0.00000 & 0.0471 & 0.0000 & 0.03272 & 0.00000 & 0.02643 & 0.000 & 0.00000 & 0.04228 & 0.000 & 0.00000 & 0.00000 & 0.00000 & 0.000 & 0.0000 & 0.000 & 0.00000 & 0.00000 & 0.000 & 0.04921 & 0.00000 & 0.000 & 0.000 & 0.0000 & 0.00000 & 0.00000 & 0.04260 & 0.000 & 0.03717 & 0.00000 & 0.05110 & 0.0000 & 0.07419 & 0.04675 & 0.00000 & 0.00000 & 0.06604 & 0.08597 & 0.04707 & 0.00000 & 0.04034 & 0.07612 & 0.000 & 0.03096 & 0.00000 & 0.00000 & 0.12880 & 0.04434 & 0.00000 & 0.08741 & 0.00000 & 0.000 & 0.00000 & 0.00000 & 0.02926 & 0.0000 & 0.000 & 0.00000 & 0.00 & 0.00000 & 0.05316 & 0.00000 & 0.07882 & 0.04681 & 0.00000 & 0.000 & 0.15880 & 0.03468 & 0.00000 & 0.06034 & 0.04272 & 0.000 & 0.09651 & 0.00000 & 0.000 & 0.000 & 0.000 & 0.21920 & 0.00000 & 0.00000 & 0.1195 &  0.00 & 0.000 & 0.0000 & 0.000 & 0.08467 & 0.1844 & 0.0000 & 0.05905 & 0.000 & 0.00000 & 0.00000 & 0.000 & 0.00000 & 0.05375 & 0.07034 & 0.000 & 0.06138 & 0.05600 & 0.00000 &  0.0000 & 0.10660 & 0.03274 & 0.00000 & 0.00000 & 0.06384 & 0.00000 & 0.00000 & 0.000 & 0.03608 & 0.00000 & 0.00000 &  0.00 & 0.00000 & 0.0000 & 0.0000 & 0.0000 & 0.00000 & 0.05692 & 0.000 & 0.00000 & 0.00000 & 0.000 & 0.05802 & 0.000 & 0.00000 & 0.0409 & 0.02563 & 0.03629 & 0.000 & 0.00000 & 0.0000 & 0.04098 & 0.000 &  0.00 &  0.03096 & 0.0562 & 0.00 & 0.00000 & 0.08759 & 0.00000 & 0.00000 & 0.000 & 0.03673 & 0.000 & 0.000 & 0.00000 & 0.00000 & 0.0000 & 0.000 & 0.000 & 0.04632 & 0.000 & 0.000 & 0.0000 & 0.00 & 0.03668 & 0.00000 & 0.00000 & 0.03167 & 0.0000 & 0.0000 & 0.03283 & 0.00000 & 0.00000 & 0.05599 & 0.000 & 0.00000 & 0.03880 & 0.000 &  0.00000 & 0.00000 & 0.13800 & 0.000 & 0.00000 & 0.00000 & 0.00000 & 0.00000 & 0.0000 & 0.000 & 0.06735 & 0.00000 & 0.00000 & 0.000 & 0.08027 &  0.05181 & 0.09463 & 0.00000 & 0.00000 & 0.000 & 0.00 & 0.00000 & 0.00000 &  0.12110 & 0.000 & 0.000 & 0.00000 & 0.000 & 0.0000 & 0.00000 & 0.00000 & 0.00000 & 0.0000 & 0.04255 & 0.000 & 0.000 & 0.000 & 0.00000 & 0.00000 & 0.000 & 0.04118 & 0.00000 & 0.000 & 0.000 & 0.02677 & 0.00000 & 0.09088 & 0.03368 & 0.00000 & 0.03390 & 0.00000 & 0.00000 & 0.06856 & 0.00000 & 0.00000 & 0.000 & 0.00000 & 0.03785 & 0.00000 & 0.06758 & 0.11090 & 0.0000 & 0.00000 & 0.00000 & 0.00000 & 0.03747 & 0.00000 & 0.04021 & 0.03998 & 0.00000 & 0.03591 & 0.04228 & 0.00000 & 0.00000 & 0.00000 & 0.03884 & 0.00000 & 0.00 & 0.000 & 0.0000 & 0.00000 & 0.00000 & 0.000 & 0.00000 & 0.00000 & 0.04975 & 0.000 & 0.00000 & 0.04948 & ENSG00000268020.3 & OR4G4P      & ENSG00000268020\\\\\n",
       "\\end{tabular}\n"
      ],
      "text/markdown": [
       "\n",
       "A data.frame: 6 × 758\n",
       "\n",
       "| GTEX-111YS-0006-SM-5NQBE &lt;dbl&gt; | GTEX-1122O-0005-SM-5O99J &lt;dbl&gt; | GTEX-1128S-0005-SM-5P9HI &lt;dbl&gt; | GTEX-113IC-0006-SM-5NQ9C &lt;dbl&gt; | GTEX-113JC-0006-SM-5O997 &lt;dbl&gt; | GTEX-117XS-0005-SM-5PNU6 &lt;dbl&gt; | GTEX-117YW-0005-SM-5NQ8Z &lt;dbl&gt; | GTEX-1192W-0005-SM-5NQBQ &lt;dbl&gt; | GTEX-1192X-0005-SM-5NQC3 &lt;dbl&gt; | GTEX-11DXW-0006-SM-5NQ7Y &lt;dbl&gt; | ⋯ ⋯ | GTEX-ZVT3-0006-SM-51MT9 &lt;dbl&gt; | GTEX-ZVT4-0006-SM-57WB8 &lt;dbl&gt; | GTEX-ZVTK-0006-SM-57WBK &lt;dbl&gt; | GTEX-ZVZP-0006-SM-51MSW &lt;dbl&gt; | GTEX-ZVZQ-0006-SM-51MR8 &lt;dbl&gt; | GTEX-ZXES-0005-SM-57WCB &lt;dbl&gt; | GTEX-ZXG5-0005-SM-57WCN &lt;dbl&gt; | Name &lt;chr&gt; | Description &lt;chr&gt; | NameClean &lt;chr&gt; |\n",
       "|---|---|---|---|---|---|---|---|---|---|---|---|---|---|---|---|---|---|---|---|---|\n",
       "| 0.02171 | 0.03015 | 0.0203 |  0.1675 | 0.02104 | 0.02537 | 0.02492 | 0.06809 | 0.0000 | 0.02443 | ⋯ | 0.000 | 0.04858 | 0.11450 | 0.02417 | 0.000 | 0.02128 | 0.00000 | ENSG00000223972.5 | DDX11L1     | ENSG00000223972 |\n",
       "| 1.55500 | 2.74700 | 4.4410 | 10.4700 | 1.28700 | 3.13800 | 4.21700 | 2.09800 | 0.3579 | 4.26200 | ⋯ | 1.504 | 3.19400 | 2.90600 | 3.43000 | 4.169 | 2.74300 | 6.07200 | ENSG00000227232.5 | WASH7P      | ENSG00000227232 |\n",
       "| 0.00000 | 0.00000 | 0.0000 |  0.0000 | 0.00000 | 0.00000 | 0.00000 | 0.00000 | 0.0000 | 0.62120 | ⋯ | 0.000 | 0.00000 | 0.00000 | 0.00000 | 0.000 | 0.00000 | 0.61120 | ENSG00000278267.1 | MIR6859-1   | ENSG00000278267 |\n",
       "| 0.00000 | 0.00000 | 0.0000 |  0.0000 | 0.00000 | 0.00000 | 0.00000 | 0.04532 | 0.0000 | 0.00000 | ⋯ | 0.000 | 0.09698 | 0.11430 | 0.00000 | 0.000 | 0.00000 | 0.00000 | ENSG00000243485.5 | MIR1302-2HG | ENSG00000243485 |\n",
       "| 0.00000 | 0.00000 | 0.0576 |  0.0000 | 0.00000 | 0.00000 | 0.00000 | 0.00000 | 0.0000 | 0.00000 | ⋯ | 0.000 | 0.00000 | 0.04058 | 0.00000 | 0.000 | 0.00000 | 0.00000 | ENSG00000237613.2 | FAM138A     | ENSG00000237613 |\n",
       "| 0.00000 | 0.12410 | 0.0000 |  0.0000 | 0.00000 | 0.00000 | 0.05129 | 0.00000 | 0.0000 | 0.00000 | ⋯ | 0.000 | 0.00000 | 0.00000 | 0.04975 | 0.000 | 0.00000 | 0.04948 | ENSG00000268020.3 | OR4G4P      | ENSG00000268020 |\n",
       "\n"
      ],
      "text/plain": [
       "  GTEX-111YS-0006-SM-5NQBE GTEX-1122O-0005-SM-5O99J GTEX-1128S-0005-SM-5P9HI\n",
       "1 0.02171                  0.03015                  0.0203                  \n",
       "2 1.55500                  2.74700                  4.4410                  \n",
       "3 0.00000                  0.00000                  0.0000                  \n",
       "4 0.00000                  0.00000                  0.0000                  \n",
       "5 0.00000                  0.00000                  0.0576                  \n",
       "6 0.00000                  0.12410                  0.0000                  \n",
       "  GTEX-113IC-0006-SM-5NQ9C GTEX-113JC-0006-SM-5O997 GTEX-117XS-0005-SM-5PNU6\n",
       "1  0.1675                  0.02104                  0.02537                 \n",
       "2 10.4700                  1.28700                  3.13800                 \n",
       "3  0.0000                  0.00000                  0.00000                 \n",
       "4  0.0000                  0.00000                  0.00000                 \n",
       "5  0.0000                  0.00000                  0.00000                 \n",
       "6  0.0000                  0.00000                  0.00000                 \n",
       "  GTEX-117YW-0005-SM-5NQ8Z GTEX-1192W-0005-SM-5NQBQ GTEX-1192X-0005-SM-5NQC3\n",
       "1 0.02492                  0.06809                  0.0000                  \n",
       "2 4.21700                  2.09800                  0.3579                  \n",
       "3 0.00000                  0.00000                  0.0000                  \n",
       "4 0.00000                  0.04532                  0.0000                  \n",
       "5 0.00000                  0.00000                  0.0000                  \n",
       "6 0.05129                  0.00000                  0.0000                  \n",
       "  GTEX-11DXW-0006-SM-5NQ7Y ⋯ GTEX-ZVT3-0006-SM-51MT9 GTEX-ZVT4-0006-SM-57WB8\n",
       "1 0.02443                  ⋯ 0.000                   0.04858                \n",
       "2 4.26200                  ⋯ 1.504                   3.19400                \n",
       "3 0.62120                  ⋯ 0.000                   0.00000                \n",
       "4 0.00000                  ⋯ 0.000                   0.09698                \n",
       "5 0.00000                  ⋯ 0.000                   0.00000                \n",
       "6 0.00000                  ⋯ 0.000                   0.00000                \n",
       "  GTEX-ZVTK-0006-SM-57WBK GTEX-ZVZP-0006-SM-51MSW GTEX-ZVZQ-0006-SM-51MR8\n",
       "1 0.11450                 0.02417                 0.000                  \n",
       "2 2.90600                 3.43000                 4.169                  \n",
       "3 0.00000                 0.00000                 0.000                  \n",
       "4 0.11430                 0.00000                 0.000                  \n",
       "5 0.04058                 0.00000                 0.000                  \n",
       "6 0.00000                 0.04975                 0.000                  \n",
       "  GTEX-ZXES-0005-SM-57WCB GTEX-ZXG5-0005-SM-57WCN Name              Description\n",
       "1 0.02128                 0.00000                 ENSG00000223972.5 DDX11L1    \n",
       "2 2.74300                 6.07200                 ENSG00000227232.5 WASH7P     \n",
       "3 0.00000                 0.61120                 ENSG00000278267.1 MIR6859-1  \n",
       "4 0.00000                 0.00000                 ENSG00000243485.5 MIR1302-2HG\n",
       "5 0.00000                 0.00000                 ENSG00000237613.2 FAM138A    \n",
       "6 0.00000                 0.04948                 ENSG00000268020.3 OR4G4P     \n",
       "  NameClean      \n",
       "1 ENSG00000223972\n",
       "2 ENSG00000227232\n",
       "3 ENSG00000278267\n",
       "4 ENSG00000243485\n",
       "5 ENSG00000237613\n",
       "6 ENSG00000268020"
      ]
     },
     "metadata": {},
     "output_type": "display_data"
    }
   ],
   "source": [
    "head(expression_list[[\"Whole_Blood\"]])"
   ]
  },
  {
   "cell_type": "code",
   "execution_count": 42,
   "metadata": {},
   "outputs": [
    {
     "data": {
      "text/html": [
       "<ol class=list-inline>\n",
       "\t<li>55</li>\n",
       "\t<li>2</li>\n",
       "</ol>\n"
      ],
      "text/latex": [
       "\\begin{enumerate*}\n",
       "\\item 55\n",
       "\\item 2\n",
       "\\end{enumerate*}\n"
      ],
      "text/markdown": [
       "1. 55\n",
       "2. 2\n",
       "\n",
       "\n"
      ],
      "text/plain": [
       "[1] 55  2"
      ]
     },
     "metadata": {},
     "output_type": "display_data"
    }
   ],
   "source": [
    "dim(tissue_df)"
   ]
  },
  {
   "cell_type": "code",
   "execution_count": 43,
   "metadata": {},
   "outputs": [
    {
     "data": {
      "text/html": [
       "<table class=\"table\" style=\"margin-left: auto; margin-right: auto;\">\n",
       " <thead>\n",
       "  <tr>\n",
       "   <th style=\"text-align:left;\"> tissue </th>\n",
       "   <th style=\"text-align:right;\"> sample_size </th>\n",
       "  </tr>\n",
       " </thead>\n",
       "<tbody>\n",
       "  <tr>\n",
       "   <td style=\"text-align:left;\"> Muscle_Skeletal </td>\n",
       "   <td style=\"text-align:right;\"> 803 </td>\n",
       "  </tr>\n",
       "  <tr>\n",
       "   <td style=\"text-align:left;\"> Whole_Blood </td>\n",
       "   <td style=\"text-align:right;\"> 755 </td>\n",
       "  </tr>\n",
       "  <tr>\n",
       "   <td style=\"text-align:left;\"> Skin_Sun_Exposed_Lower_leg </td>\n",
       "   <td style=\"text-align:right;\"> 701 </td>\n",
       "  </tr>\n",
       "  <tr>\n",
       "   <td style=\"text-align:left;\"> Adipose_Subcutaneous </td>\n",
       "   <td style=\"text-align:right;\"> 663 </td>\n",
       "  </tr>\n",
       "  <tr>\n",
       "   <td style=\"text-align:left;\"> Artery_Tibial </td>\n",
       "   <td style=\"text-align:right;\"> 663 </td>\n",
       "  </tr>\n",
       "  <tr>\n",
       "   <td style=\"text-align:left;\"> Thyroid </td>\n",
       "   <td style=\"text-align:right;\"> 653 </td>\n",
       "  </tr>\n",
       "  <tr>\n",
       "   <td style=\"text-align:left;\"> Nerve_Tibial </td>\n",
       "   <td style=\"text-align:right;\"> 619 </td>\n",
       "  </tr>\n",
       "  <tr>\n",
       "   <td style=\"text-align:left;\"> Skin_Not_Sun_Exposed_Suprapubic </td>\n",
       "   <td style=\"text-align:right;\"> 604 </td>\n",
       "  </tr>\n",
       "  <tr>\n",
       "   <td style=\"text-align:left;\"> Lung </td>\n",
       "   <td style=\"text-align:right;\"> 578 </td>\n",
       "  </tr>\n",
       "  <tr>\n",
       "   <td style=\"text-align:left;\"> Esophagus_Mucosa </td>\n",
       "   <td style=\"text-align:right;\"> 555 </td>\n",
       "  </tr>\n",
       "  <tr>\n",
       "   <td style=\"text-align:left;\"> Adipose_Visceral_Omentum </td>\n",
       "   <td style=\"text-align:right;\"> 541 </td>\n",
       "  </tr>\n",
       "  <tr>\n",
       "   <td style=\"text-align:left;\"> Esophagus_Muscularis </td>\n",
       "   <td style=\"text-align:right;\"> 515 </td>\n",
       "  </tr>\n",
       "  <tr>\n",
       "   <td style=\"text-align:left;\"> Cells_Cultured_fibroblasts </td>\n",
       "   <td style=\"text-align:right;\"> 504 </td>\n",
       "  </tr>\n",
       "  <tr>\n",
       "   <td style=\"text-align:left;\"> Breast_Mammary_Tissue </td>\n",
       "   <td style=\"text-align:right;\"> 459 </td>\n",
       "  </tr>\n",
       "  <tr>\n",
       "   <td style=\"text-align:left;\"> Heart_Left_Ventricle </td>\n",
       "   <td style=\"text-align:right;\"> 432 </td>\n",
       "  </tr>\n",
       "  <tr>\n",
       "   <td style=\"text-align:left;\"> Artery_Aorta </td>\n",
       "   <td style=\"text-align:right;\"> 432 </td>\n",
       "  </tr>\n",
       "  <tr>\n",
       "   <td style=\"text-align:left;\"> Heart_Atrial_Appendage </td>\n",
       "   <td style=\"text-align:right;\"> 429 </td>\n",
       "  </tr>\n",
       "  <tr>\n",
       "   <td style=\"text-align:left;\"> Colon_Transverse </td>\n",
       "   <td style=\"text-align:right;\"> 406 </td>\n",
       "  </tr>\n",
       "  <tr>\n",
       "   <td style=\"text-align:left;\"> Esophagus_Gastroesophageal_Junction </td>\n",
       "   <td style=\"text-align:right;\"> 375 </td>\n",
       "  </tr>\n",
       "  <tr>\n",
       "   <td style=\"text-align:left;\"> Colon_Sigmoid </td>\n",
       "   <td style=\"text-align:right;\"> 373 </td>\n",
       "  </tr>\n",
       "  <tr>\n",
       "   <td style=\"text-align:left;\"> Testis </td>\n",
       "   <td style=\"text-align:right;\"> 361 </td>\n",
       "  </tr>\n",
       "  <tr>\n",
       "   <td style=\"text-align:left;\"> Stomach </td>\n",
       "   <td style=\"text-align:right;\"> 359 </td>\n",
       "  </tr>\n",
       "  <tr>\n",
       "   <td style=\"text-align:left;\"> Pancreas </td>\n",
       "   <td style=\"text-align:right;\"> 328 </td>\n",
       "  </tr>\n",
       "  <tr>\n",
       "   <td style=\"text-align:left;\"> Pituitary </td>\n",
       "   <td style=\"text-align:right;\"> 283 </td>\n",
       "  </tr>\n",
       "  <tr>\n",
       "   <td style=\"text-align:left;\"> Adrenal_Gland </td>\n",
       "   <td style=\"text-align:right;\"> 258 </td>\n",
       "  </tr>\n",
       "  <tr>\n",
       "   <td style=\"text-align:left;\"> Brain_Cortex </td>\n",
       "   <td style=\"text-align:right;\"> 255 </td>\n",
       "  </tr>\n",
       "  <tr>\n",
       "   <td style=\"text-align:left;\"> Brain_Caudate_basal_ganglia </td>\n",
       "   <td style=\"text-align:right;\"> 246 </td>\n",
       "  </tr>\n",
       "  <tr>\n",
       "   <td style=\"text-align:left;\"> Brain_Nucleus_accumbens_basal_ganglia </td>\n",
       "   <td style=\"text-align:right;\"> 246 </td>\n",
       "  </tr>\n",
       "  <tr>\n",
       "   <td style=\"text-align:left;\"> Prostate </td>\n",
       "   <td style=\"text-align:right;\"> 245 </td>\n",
       "  </tr>\n",
       "  <tr>\n",
       "   <td style=\"text-align:left;\"> Spleen </td>\n",
       "   <td style=\"text-align:right;\"> 241 </td>\n",
       "  </tr>\n",
       "  <tr>\n",
       "   <td style=\"text-align:left;\"> Brain_Cerebellum </td>\n",
       "   <td style=\"text-align:right;\"> 241 </td>\n",
       "  </tr>\n",
       "  <tr>\n",
       "   <td style=\"text-align:left;\"> Artery_Coronary </td>\n",
       "   <td style=\"text-align:right;\"> 240 </td>\n",
       "  </tr>\n",
       "  <tr>\n",
       "   <td style=\"text-align:left;\"> Liver </td>\n",
       "   <td style=\"text-align:right;\"> 226 </td>\n",
       "  </tr>\n",
       "  <tr>\n",
       "   <td style=\"text-align:left;\"> Brain_Cerebellar_Hemisphere </td>\n",
       "   <td style=\"text-align:right;\"> 215 </td>\n",
       "  </tr>\n",
       "  <tr>\n",
       "   <td style=\"text-align:left;\"> Brain_Frontal_Cortex_BA9 </td>\n",
       "   <td style=\"text-align:right;\"> 209 </td>\n",
       "  </tr>\n",
       "  <tr>\n",
       "   <td style=\"text-align:left;\"> Brain_Putamen_basal_ganglia </td>\n",
       "   <td style=\"text-align:right;\"> 205 </td>\n",
       "  </tr>\n",
       "  <tr>\n",
       "   <td style=\"text-align:left;\"> Brain_Hypothalamus </td>\n",
       "   <td style=\"text-align:right;\"> 202 </td>\n",
       "  </tr>\n",
       "  <tr>\n",
       "   <td style=\"text-align:left;\"> Brain_Hippocampus </td>\n",
       "   <td style=\"text-align:right;\"> 197 </td>\n",
       "  </tr>\n",
       "  <tr>\n",
       "   <td style=\"text-align:left;\"> Small_Intestine_Terminal_Ileum </td>\n",
       "   <td style=\"text-align:right;\"> 187 </td>\n",
       "  </tr>\n",
       "  <tr>\n",
       "   <td style=\"text-align:left;\"> Ovary </td>\n",
       "   <td style=\"text-align:right;\"> 180 </td>\n",
       "  </tr>\n",
       "  <tr>\n",
       "   <td style=\"text-align:left;\"> Brain_Anterior_cingulate_cortex_BA24 </td>\n",
       "   <td style=\"text-align:right;\"> 176 </td>\n",
       "  </tr>\n",
       "  <tr>\n",
       "   <td style=\"text-align:left;\"> Cells_EBV-transformed_lymphocytes </td>\n",
       "   <td style=\"text-align:right;\"> 174 </td>\n",
       "  </tr>\n",
       "  <tr>\n",
       "   <td style=\"text-align:left;\"> Minor_Salivary_Gland </td>\n",
       "   <td style=\"text-align:right;\"> 162 </td>\n",
       "  </tr>\n",
       "  <tr>\n",
       "   <td style=\"text-align:left;\"> Brain_Spinal_cord_cervical_c-1 </td>\n",
       "   <td style=\"text-align:right;\"> 159 </td>\n",
       "  </tr>\n",
       "  <tr>\n",
       "   <td style=\"text-align:left;\"> Vagina </td>\n",
       "   <td style=\"text-align:right;\"> 156 </td>\n",
       "  </tr>\n",
       "  <tr>\n",
       "   <td style=\"text-align:left;\"> Brain_Amygdala </td>\n",
       "   <td style=\"text-align:right;\"> 152 </td>\n",
       "  </tr>\n",
       "  <tr>\n",
       "   <td style=\"text-align:left;\"> Uterus </td>\n",
       "   <td style=\"text-align:right;\"> 142 </td>\n",
       "  </tr>\n",
       "  <tr>\n",
       "   <td style=\"text-align:left;\"> Brain_Substantia_nigra </td>\n",
       "   <td style=\"text-align:right;\"> 139 </td>\n",
       "  </tr>\n",
       "  <tr>\n",
       "   <td style=\"text-align:left;\"> Kidney_Cortex </td>\n",
       "   <td style=\"text-align:right;\"> 85 </td>\n",
       "  </tr>\n",
       "  <tr>\n",
       "   <td style=\"text-align:left;color: grey !important;\"> Bladder </td>\n",
       "   <td style=\"text-align:right;color: grey !important;\"> 21 </td>\n",
       "  </tr>\n",
       "  <tr>\n",
       "   <td style=\"text-align:left;color: grey !important;\"> Cervix_Endocervix </td>\n",
       "   <td style=\"text-align:right;color: grey !important;\"> 10 </td>\n",
       "  </tr>\n",
       "  <tr>\n",
       "   <td style=\"text-align:left;color: grey !important;\"> Cervix_Ectocervix </td>\n",
       "   <td style=\"text-align:right;color: grey !important;\"> 9 </td>\n",
       "  </tr>\n",
       "  <tr>\n",
       "   <td style=\"text-align:left;color: grey !important;\"> Fallopian_Tube </td>\n",
       "   <td style=\"text-align:right;color: grey !important;\"> 9 </td>\n",
       "  </tr>\n",
       "  <tr>\n",
       "   <td style=\"text-align:left;color: grey !important;\"> Kidney_Medulla </td>\n",
       "   <td style=\"text-align:right;color: grey !important;\"> 4 </td>\n",
       "  </tr>\n",
       "  <tr>\n",
       "   <td style=\"text-align:left;color: grey !important;\"> Cells_Leukemia_cell_line_CML </td>\n",
       "   <td style=\"text-align:right;color: grey !important;\"> 0 </td>\n",
       "  </tr>\n",
       "</tbody>\n",
       "</table>"
      ]
     },
     "metadata": {},
     "output_type": "display_data"
    }
   ],
   "source": [
    "tissue_df %>%\n",
    "    arrange(desc(sample_size)) %>%\n",
    "    kable(\"html\") %>%\n",
    "    row_spec(which(sample_size < 30), color = \"grey\") %>%\n",
    "    kable_styling() %>%\n",
    "    as.character() %>%\n",
    "    IRdisplay::display_html()"
   ]
  },
  {
   "cell_type": "code",
   "execution_count": 44,
   "metadata": {},
   "outputs": [],
   "source": [
    "tissue_target <- tissue_df %>%\n",
    "    arrange(desc(sample_size))\n",
    "tissue_vec_target <- tissue_target$tissue[1:49]"
   ]
  },
  {
   "cell_type": "code",
   "execution_count": null,
   "metadata": {},
   "outputs": [],
   "source": []
  },
  {
   "cell_type": "code",
   "execution_count": 45,
   "metadata": {},
   "outputs": [
    {
     "data": {
      "text/html": [
       "55"
      ],
      "text/latex": [
       "55"
      ],
      "text/markdown": [
       "55"
      ],
      "text/plain": [
       "[1] 55"
      ]
     },
     "metadata": {},
     "output_type": "display_data"
    }
   ],
   "source": [
    "length(tissue_vec_clean)"
   ]
  },
  {
   "cell_type": "code",
   "execution_count": 46,
   "metadata": {},
   "outputs": [
    {
     "data": {
      "text/html": [
       "<ol class=list-inline>\n",
       "\t<li>'Whole_Blood'</li>\n",
       "\t<li>'Brain_Frontal_Cortex_BA9'</li>\n",
       "\t<li>'Adipose_Subcutaneous'</li>\n",
       "\t<li>'Muscle_Skeletal'</li>\n",
       "\t<li>'Artery_Tibial'</li>\n",
       "\t<li>'Artery_Coronary'</li>\n",
       "\t<li>'Heart_Atrial_Appendage'</li>\n",
       "\t<li>'Adipose_Visceral_Omentum'</li>\n",
       "\t<li>'Ovary'</li>\n",
       "\t<li>'Uterus'</li>\n",
       "\t<li>'Vagina'</li>\n",
       "\t<li>'Breast_Mammary_Tissue'</li>\n",
       "\t<li>'Skin_Not_Sun_Exposed_Suprapubic'</li>\n",
       "\t<li>'Minor_Salivary_Gland'</li>\n",
       "\t<li>'Brain_Cortex'</li>\n",
       "\t<li>'Adrenal_Gland'</li>\n",
       "\t<li>'Thyroid'</li>\n",
       "\t<li>'Lung'</li>\n",
       "\t<li>'Spleen'</li>\n",
       "\t<li>'Pancreas'</li>\n",
       "\t<li>'Esophagus_Muscularis'</li>\n",
       "\t<li>'Esophagus_Mucosa'</li>\n",
       "\t<li>'Esophagus_Gastroesophageal_Junction'</li>\n",
       "\t<li>'Stomach'</li>\n",
       "\t<li>'Colon_Sigmoid'</li>\n",
       "\t<li>'Small_Intestine_Terminal_Ileum'</li>\n",
       "\t<li>'Colon_Transverse'</li>\n",
       "\t<li>'Prostate'</li>\n",
       "\t<li>'Testis'</li>\n",
       "\t<li>'Skin_Sun_Exposed_Lower_leg'</li>\n",
       "\t<li>'Nerve_Tibial'</li>\n",
       "\t<li>'Heart_Left_Ventricle'</li>\n",
       "\t<li>'Pituitary'</li>\n",
       "\t<li>'Brain_Cerebellum'</li>\n",
       "\t<li>'Cells_Cultured_fibroblasts'</li>\n",
       "\t<li>'Artery_Aorta'</li>\n",
       "\t<li>'Cells_EBV-transformed_lymphocytes'</li>\n",
       "\t<li>'Brain_Cerebellar_Hemisphere'</li>\n",
       "\t<li>'Brain_Caudate_basal_ganglia'</li>\n",
       "\t<li>'Brain_Nucleus_accumbens_basal_ganglia'</li>\n",
       "\t<li>'Brain_Putamen_basal_ganglia'</li>\n",
       "\t<li>'Brain_Hypothalamus'</li>\n",
       "\t<li>'Brain_Spinal_cord_cervical_c-1'</li>\n",
       "\t<li>'Liver'</li>\n",
       "\t<li>'Brain_Hippocampus'</li>\n",
       "\t<li>'Brain_Anterior_cingulate_cortex_BA24'</li>\n",
       "\t<li>'Brain_Substantia_nigra'</li>\n",
       "\t<li>'Kidney_Cortex'</li>\n",
       "\t<li>'Brain_Amygdala'</li>\n",
       "\t<li>'Cervix_Ectocervix'</li>\n",
       "\t<li>'Fallopian_Tube'</li>\n",
       "\t<li>'Cervix_Endocervix'</li>\n",
       "\t<li>'Bladder'</li>\n",
       "\t<li>'Kidney_Medulla'</li>\n",
       "\t<li>'Cells_Leukemia_cell_line_CML'</li>\n",
       "</ol>\n"
      ],
      "text/latex": [
       "\\begin{enumerate*}\n",
       "\\item 'Whole\\_Blood'\n",
       "\\item 'Brain\\_Frontal\\_Cortex\\_BA9'\n",
       "\\item 'Adipose\\_Subcutaneous'\n",
       "\\item 'Muscle\\_Skeletal'\n",
       "\\item 'Artery\\_Tibial'\n",
       "\\item 'Artery\\_Coronary'\n",
       "\\item 'Heart\\_Atrial\\_Appendage'\n",
       "\\item 'Adipose\\_Visceral\\_Omentum'\n",
       "\\item 'Ovary'\n",
       "\\item 'Uterus'\n",
       "\\item 'Vagina'\n",
       "\\item 'Breast\\_Mammary\\_Tissue'\n",
       "\\item 'Skin\\_Not\\_Sun\\_Exposed\\_Suprapubic'\n",
       "\\item 'Minor\\_Salivary\\_Gland'\n",
       "\\item 'Brain\\_Cortex'\n",
       "\\item 'Adrenal\\_Gland'\n",
       "\\item 'Thyroid'\n",
       "\\item 'Lung'\n",
       "\\item 'Spleen'\n",
       "\\item 'Pancreas'\n",
       "\\item 'Esophagus\\_Muscularis'\n",
       "\\item 'Esophagus\\_Mucosa'\n",
       "\\item 'Esophagus\\_Gastroesophageal\\_Junction'\n",
       "\\item 'Stomach'\n",
       "\\item 'Colon\\_Sigmoid'\n",
       "\\item 'Small\\_Intestine\\_Terminal\\_Ileum'\n",
       "\\item 'Colon\\_Transverse'\n",
       "\\item 'Prostate'\n",
       "\\item 'Testis'\n",
       "\\item 'Skin\\_Sun\\_Exposed\\_Lower\\_leg'\n",
       "\\item 'Nerve\\_Tibial'\n",
       "\\item 'Heart\\_Left\\_Ventricle'\n",
       "\\item 'Pituitary'\n",
       "\\item 'Brain\\_Cerebellum'\n",
       "\\item 'Cells\\_Cultured\\_fibroblasts'\n",
       "\\item 'Artery\\_Aorta'\n",
       "\\item 'Cells\\_EBV-transformed\\_lymphocytes'\n",
       "\\item 'Brain\\_Cerebellar\\_Hemisphere'\n",
       "\\item 'Brain\\_Caudate\\_basal\\_ganglia'\n",
       "\\item 'Brain\\_Nucleus\\_accumbens\\_basal\\_ganglia'\n",
       "\\item 'Brain\\_Putamen\\_basal\\_ganglia'\n",
       "\\item 'Brain\\_Hypothalamus'\n",
       "\\item 'Brain\\_Spinal\\_cord\\_cervical\\_c-1'\n",
       "\\item 'Liver'\n",
       "\\item 'Brain\\_Hippocampus'\n",
       "\\item 'Brain\\_Anterior\\_cingulate\\_cortex\\_BA24'\n",
       "\\item 'Brain\\_Substantia\\_nigra'\n",
       "\\item 'Kidney\\_Cortex'\n",
       "\\item 'Brain\\_Amygdala'\n",
       "\\item 'Cervix\\_Ectocervix'\n",
       "\\item 'Fallopian\\_Tube'\n",
       "\\item 'Cervix\\_Endocervix'\n",
       "\\item 'Bladder'\n",
       "\\item 'Kidney\\_Medulla'\n",
       "\\item 'Cells\\_Leukemia\\_cell\\_line\\_CML'\n",
       "\\end{enumerate*}\n"
      ],
      "text/markdown": [
       "1. 'Whole_Blood'\n",
       "2. 'Brain_Frontal_Cortex_BA9'\n",
       "3. 'Adipose_Subcutaneous'\n",
       "4. 'Muscle_Skeletal'\n",
       "5. 'Artery_Tibial'\n",
       "6. 'Artery_Coronary'\n",
       "7. 'Heart_Atrial_Appendage'\n",
       "8. 'Adipose_Visceral_Omentum'\n",
       "9. 'Ovary'\n",
       "10. 'Uterus'\n",
       "11. 'Vagina'\n",
       "12. 'Breast_Mammary_Tissue'\n",
       "13. 'Skin_Not_Sun_Exposed_Suprapubic'\n",
       "14. 'Minor_Salivary_Gland'\n",
       "15. 'Brain_Cortex'\n",
       "16. 'Adrenal_Gland'\n",
       "17. 'Thyroid'\n",
       "18. 'Lung'\n",
       "19. 'Spleen'\n",
       "20. 'Pancreas'\n",
       "21. 'Esophagus_Muscularis'\n",
       "22. 'Esophagus_Mucosa'\n",
       "23. 'Esophagus_Gastroesophageal_Junction'\n",
       "24. 'Stomach'\n",
       "25. 'Colon_Sigmoid'\n",
       "26. 'Small_Intestine_Terminal_Ileum'\n",
       "27. 'Colon_Transverse'\n",
       "28. 'Prostate'\n",
       "29. 'Testis'\n",
       "30. 'Skin_Sun_Exposed_Lower_leg'\n",
       "31. 'Nerve_Tibial'\n",
       "32. 'Heart_Left_Ventricle'\n",
       "33. 'Pituitary'\n",
       "34. 'Brain_Cerebellum'\n",
       "35. 'Cells_Cultured_fibroblasts'\n",
       "36. 'Artery_Aorta'\n",
       "37. 'Cells_EBV-transformed_lymphocytes'\n",
       "38. 'Brain_Cerebellar_Hemisphere'\n",
       "39. 'Brain_Caudate_basal_ganglia'\n",
       "40. 'Brain_Nucleus_accumbens_basal_ganglia'\n",
       "41. 'Brain_Putamen_basal_ganglia'\n",
       "42. 'Brain_Hypothalamus'\n",
       "43. 'Brain_Spinal_cord_cervical_c-1'\n",
       "44. 'Liver'\n",
       "45. 'Brain_Hippocampus'\n",
       "46. 'Brain_Anterior_cingulate_cortex_BA24'\n",
       "47. 'Brain_Substantia_nigra'\n",
       "48. 'Kidney_Cortex'\n",
       "49. 'Brain_Amygdala'\n",
       "50. 'Cervix_Ectocervix'\n",
       "51. 'Fallopian_Tube'\n",
       "52. 'Cervix_Endocervix'\n",
       "53. 'Bladder'\n",
       "54. 'Kidney_Medulla'\n",
       "55. 'Cells_Leukemia_cell_line_CML'\n",
       "\n",
       "\n"
      ],
      "text/plain": [
       " [1] \"Whole_Blood\"                          \n",
       " [2] \"Brain_Frontal_Cortex_BA9\"             \n",
       " [3] \"Adipose_Subcutaneous\"                 \n",
       " [4] \"Muscle_Skeletal\"                      \n",
       " [5] \"Artery_Tibial\"                        \n",
       " [6] \"Artery_Coronary\"                      \n",
       " [7] \"Heart_Atrial_Appendage\"               \n",
       " [8] \"Adipose_Visceral_Omentum\"             \n",
       " [9] \"Ovary\"                                \n",
       "[10] \"Uterus\"                               \n",
       "[11] \"Vagina\"                               \n",
       "[12] \"Breast_Mammary_Tissue\"                \n",
       "[13] \"Skin_Not_Sun_Exposed_Suprapubic\"      \n",
       "[14] \"Minor_Salivary_Gland\"                 \n",
       "[15] \"Brain_Cortex\"                         \n",
       "[16] \"Adrenal_Gland\"                        \n",
       "[17] \"Thyroid\"                              \n",
       "[18] \"Lung\"                                 \n",
       "[19] \"Spleen\"                               \n",
       "[20] \"Pancreas\"                             \n",
       "[21] \"Esophagus_Muscularis\"                 \n",
       "[22] \"Esophagus_Mucosa\"                     \n",
       "[23] \"Esophagus_Gastroesophageal_Junction\"  \n",
       "[24] \"Stomach\"                              \n",
       "[25] \"Colon_Sigmoid\"                        \n",
       "[26] \"Small_Intestine_Terminal_Ileum\"       \n",
       "[27] \"Colon_Transverse\"                     \n",
       "[28] \"Prostate\"                             \n",
       "[29] \"Testis\"                               \n",
       "[30] \"Skin_Sun_Exposed_Lower_leg\"           \n",
       "[31] \"Nerve_Tibial\"                         \n",
       "[32] \"Heart_Left_Ventricle\"                 \n",
       "[33] \"Pituitary\"                            \n",
       "[34] \"Brain_Cerebellum\"                     \n",
       "[35] \"Cells_Cultured_fibroblasts\"           \n",
       "[36] \"Artery_Aorta\"                         \n",
       "[37] \"Cells_EBV-transformed_lymphocytes\"    \n",
       "[38] \"Brain_Cerebellar_Hemisphere\"          \n",
       "[39] \"Brain_Caudate_basal_ganglia\"          \n",
       "[40] \"Brain_Nucleus_accumbens_basal_ganglia\"\n",
       "[41] \"Brain_Putamen_basal_ganglia\"          \n",
       "[42] \"Brain_Hypothalamus\"                   \n",
       "[43] \"Brain_Spinal_cord_cervical_c-1\"       \n",
       "[44] \"Liver\"                                \n",
       "[45] \"Brain_Hippocampus\"                    \n",
       "[46] \"Brain_Anterior_cingulate_cortex_BA24\" \n",
       "[47] \"Brain_Substantia_nigra\"               \n",
       "[48] \"Kidney_Cortex\"                        \n",
       "[49] \"Brain_Amygdala\"                       \n",
       "[50] \"Cervix_Ectocervix\"                    \n",
       "[51] \"Fallopian_Tube\"                       \n",
       "[52] \"Cervix_Endocervix\"                    \n",
       "[53] \"Bladder\"                              \n",
       "[54] \"Kidney_Medulla\"                       \n",
       "[55] \"Cells_Leukemia_cell_line_CML\"         "
      ]
     },
     "metadata": {},
     "output_type": "display_data"
    }
   ],
   "source": [
    "tissue_vec_clean"
   ]
  },
  {
   "cell_type": "code",
   "execution_count": 47,
   "metadata": {},
   "outputs": [
    {
     "data": {
      "text/plain": [
       "NULL"
      ]
     },
     "metadata": {},
     "output_type": "display_data"
    }
   ],
   "source": [
    "head(expression_list_target[[tissue_vec_clean[1]]])"
   ]
  },
  {
   "cell_type": "code",
   "execution_count": 48,
   "metadata": {},
   "outputs": [
    {
     "data": {
      "text/plain": [
       "NULL"
      ]
     },
     "metadata": {},
     "output_type": "display_data"
    }
   ],
   "source": [
    "head(expression_list_target[[tissue]])"
   ]
  },
  {
   "cell_type": "code",
   "execution_count": 49,
   "metadata": {},
   "outputs": [
    {
     "data": {
      "text/html": [
       "Whole_Blood"
      ]
     },
     "metadata": {},
     "output_type": "display_data"
    },
    {
     "data": {
      "text/html": [
       "Brain_Frontal_Cortex_BA9"
      ]
     },
     "metadata": {},
     "output_type": "display_data"
    },
    {
     "data": {
      "text/html": [
       "Adipose_Subcutaneous"
      ]
     },
     "metadata": {},
     "output_type": "display_data"
    },
    {
     "data": {
      "text/html": [
       "Muscle_Skeletal"
      ]
     },
     "metadata": {},
     "output_type": "display_data"
    },
    {
     "data": {
      "text/html": [
       "Artery_Tibial"
      ]
     },
     "metadata": {},
     "output_type": "display_data"
    },
    {
     "data": {
      "text/html": [
       "Artery_Coronary"
      ]
     },
     "metadata": {},
     "output_type": "display_data"
    },
    {
     "data": {
      "text/html": [
       "Heart_Atrial_Appendage"
      ]
     },
     "metadata": {},
     "output_type": "display_data"
    },
    {
     "data": {
      "text/html": [
       "Adipose_Visceral_Omentum"
      ]
     },
     "metadata": {},
     "output_type": "display_data"
    },
    {
     "data": {
      "text/html": [
       "Ovary"
      ]
     },
     "metadata": {},
     "output_type": "display_data"
    },
    {
     "data": {
      "text/html": [
       "Uterus"
      ]
     },
     "metadata": {},
     "output_type": "display_data"
    },
    {
     "data": {
      "text/html": [
       "Vagina"
      ]
     },
     "metadata": {},
     "output_type": "display_data"
    },
    {
     "data": {
      "text/html": [
       "Breast_Mammary_Tissue"
      ]
     },
     "metadata": {},
     "output_type": "display_data"
    },
    {
     "data": {
      "text/html": [
       "Skin_Not_Sun_Exposed_Suprapubic"
      ]
     },
     "metadata": {},
     "output_type": "display_data"
    },
    {
     "data": {
      "text/html": [
       "Minor_Salivary_Gland"
      ]
     },
     "metadata": {},
     "output_type": "display_data"
    },
    {
     "data": {
      "text/html": [
       "Brain_Cortex"
      ]
     },
     "metadata": {},
     "output_type": "display_data"
    },
    {
     "data": {
      "text/html": [
       "Adrenal_Gland"
      ]
     },
     "metadata": {},
     "output_type": "display_data"
    },
    {
     "data": {
      "text/html": [
       "Thyroid"
      ]
     },
     "metadata": {},
     "output_type": "display_data"
    },
    {
     "data": {
      "text/html": [
       "Lung"
      ]
     },
     "metadata": {},
     "output_type": "display_data"
    },
    {
     "data": {
      "text/html": [
       "Spleen"
      ]
     },
     "metadata": {},
     "output_type": "display_data"
    },
    {
     "data": {
      "text/html": [
       "Pancreas"
      ]
     },
     "metadata": {},
     "output_type": "display_data"
    },
    {
     "data": {
      "text/html": [
       "Esophagus_Muscularis"
      ]
     },
     "metadata": {},
     "output_type": "display_data"
    },
    {
     "data": {
      "text/html": [
       "Esophagus_Mucosa"
      ]
     },
     "metadata": {},
     "output_type": "display_data"
    },
    {
     "data": {
      "text/html": [
       "Esophagus_Gastroesophageal_Junction"
      ]
     },
     "metadata": {},
     "output_type": "display_data"
    },
    {
     "data": {
      "text/html": [
       "Stomach"
      ]
     },
     "metadata": {},
     "output_type": "display_data"
    },
    {
     "data": {
      "text/html": [
       "Colon_Sigmoid"
      ]
     },
     "metadata": {},
     "output_type": "display_data"
    },
    {
     "data": {
      "text/html": [
       "Small_Intestine_Terminal_Ileum"
      ]
     },
     "metadata": {},
     "output_type": "display_data"
    },
    {
     "data": {
      "text/html": [
       "Colon_Transverse"
      ]
     },
     "metadata": {},
     "output_type": "display_data"
    },
    {
     "data": {
      "text/html": [
       "Prostate"
      ]
     },
     "metadata": {},
     "output_type": "display_data"
    },
    {
     "data": {
      "text/html": [
       "Testis"
      ]
     },
     "metadata": {},
     "output_type": "display_data"
    },
    {
     "data": {
      "text/html": [
       "Skin_Sun_Exposed_Lower_leg"
      ]
     },
     "metadata": {},
     "output_type": "display_data"
    },
    {
     "data": {
      "text/html": [
       "Nerve_Tibial"
      ]
     },
     "metadata": {},
     "output_type": "display_data"
    },
    {
     "data": {
      "text/html": [
       "Heart_Left_Ventricle"
      ]
     },
     "metadata": {},
     "output_type": "display_data"
    },
    {
     "data": {
      "text/html": [
       "Pituitary"
      ]
     },
     "metadata": {},
     "output_type": "display_data"
    },
    {
     "data": {
      "text/html": [
       "Brain_Cerebellum"
      ]
     },
     "metadata": {},
     "output_type": "display_data"
    },
    {
     "data": {
      "text/html": [
       "Cells_Cultured_fibroblasts"
      ]
     },
     "metadata": {},
     "output_type": "display_data"
    },
    {
     "data": {
      "text/html": [
       "Artery_Aorta"
      ]
     },
     "metadata": {},
     "output_type": "display_data"
    },
    {
     "data": {
      "text/html": [
       "Cells_EBV-transformed_lymphocytes"
      ]
     },
     "metadata": {},
     "output_type": "display_data"
    },
    {
     "data": {
      "text/html": [
       "Brain_Cerebellar_Hemisphere"
      ]
     },
     "metadata": {},
     "output_type": "display_data"
    },
    {
     "data": {
      "text/html": [
       "Brain_Caudate_basal_ganglia"
      ]
     },
     "metadata": {},
     "output_type": "display_data"
    },
    {
     "data": {
      "text/html": [
       "Brain_Nucleus_accumbens_basal_ganglia"
      ]
     },
     "metadata": {},
     "output_type": "display_data"
    },
    {
     "data": {
      "text/html": [
       "Brain_Putamen_basal_ganglia"
      ]
     },
     "metadata": {},
     "output_type": "display_data"
    },
    {
     "data": {
      "text/html": [
       "Brain_Hypothalamus"
      ]
     },
     "metadata": {},
     "output_type": "display_data"
    },
    {
     "data": {
      "text/html": [
       "Brain_Spinal_cord_cervical_c-1"
      ]
     },
     "metadata": {},
     "output_type": "display_data"
    },
    {
     "data": {
      "text/html": [
       "Liver"
      ]
     },
     "metadata": {},
     "output_type": "display_data"
    },
    {
     "data": {
      "text/html": [
       "Brain_Hippocampus"
      ]
     },
     "metadata": {},
     "output_type": "display_data"
    },
    {
     "data": {
      "text/html": [
       "Brain_Anterior_cingulate_cortex_BA24"
      ]
     },
     "metadata": {},
     "output_type": "display_data"
    },
    {
     "data": {
      "text/html": [
       "Brain_Substantia_nigra"
      ]
     },
     "metadata": {},
     "output_type": "display_data"
    },
    {
     "data": {
      "text/html": [
       "Kidney_Cortex"
      ]
     },
     "metadata": {},
     "output_type": "display_data"
    },
    {
     "data": {
      "text/html": [
       "Brain_Amygdala"
      ]
     },
     "metadata": {},
     "output_type": "display_data"
    },
    {
     "data": {
      "text/html": [
       "Cervix_Ectocervix"
      ]
     },
     "metadata": {},
     "output_type": "display_data"
    },
    {
     "data": {
      "text/html": [
       "Fallopian_Tube"
      ]
     },
     "metadata": {},
     "output_type": "display_data"
    },
    {
     "data": {
      "text/html": [
       "Cervix_Endocervix"
      ]
     },
     "metadata": {},
     "output_type": "display_data"
    },
    {
     "data": {
      "text/html": [
       "Bladder"
      ]
     },
     "metadata": {},
     "output_type": "display_data"
    },
    {
     "data": {
      "text/html": [
       "Kidney_Medulla"
      ]
     },
     "metadata": {},
     "output_type": "display_data"
    },
    {
     "data": {
      "text/html": [
       "Cells_Leukemia_cell_line_CML"
      ]
     },
     "metadata": {},
     "output_type": "display_data"
    }
   ],
   "source": [
    "# function to filter the target gene\n",
    "expression_list_target <- expression_list\n",
    "for (tissue in tissue_vec_clean) {\n",
    "    IRdisplay::display_html(tissue)\n",
    "    expression_list_target[[tissue]] <-  gene_info_target %>% \n",
    "        left_join(expression_list[[tissue]], by = c(\"ensembl_gene_id\" = \"NameClean\"))\n",
    "}"
   ]
  },
  {
   "cell_type": "code",
   "execution_count": 50,
   "metadata": {},
   "outputs": [
    {
     "data": {
      "text/html": [
       "3288"
      ],
      "text/latex": [
       "3288"
      ],
      "text/markdown": [
       "3288"
      ],
      "text/plain": [
       "[1] 3288"
      ]
     },
     "metadata": {},
     "output_type": "display_data"
    }
   ],
   "source": [
    "length(idx_list[['Whole Blood']])"
   ]
  },
  {
   "cell_type": "code",
   "execution_count": 51,
   "metadata": {},
   "outputs": [
    {
     "data": {
      "text/plain": [
       "NULL"
      ]
     },
     "metadata": {},
     "output_type": "display_data"
    }
   ],
   "source": [
    "head(expression_list_target[[\"Whole Blood\"]])"
   ]
  },
  {
   "cell_type": "code",
   "execution_count": 52,
   "metadata": {},
   "outputs": [
    {
     "data": {
      "text/html": [
       "<table>\n",
       "<caption>A data.frame: 6 × 6</caption>\n",
       "<thead>\n",
       "\t<tr><th scope=col>ensembl_gene_id</th><th scope=col>hgnc_symbol</th><th scope=col>chromosome_name</th><th scope=col>transcript_biotype</th><th scope=col>Name</th><th scope=col>Description</th></tr>\n",
       "\t<tr><th scope=col>&lt;chr&gt;</th><th scope=col>&lt;chr&gt;</th><th scope=col>&lt;chr&gt;</th><th scope=col>&lt;chr&gt;</th><th scope=col>&lt;chr&gt;</th><th scope=col>&lt;chr&gt;</th></tr>\n",
       "</thead>\n",
       "<tbody>\n",
       "\t<tr><td>ENSG00000228229</td><td>     </td><td>1</td><td>lincRNA       </td><td>ENSG00000228229.2</td><td>RP11-219C24.10</td></tr>\n",
       "\t<tr><td>ENSG00000237445</td><td>     </td><td>1</td><td>lincRNA       </td><td>ENSG00000237445.2</td><td>CTA-520D8.2   </td></tr>\n",
       "\t<tr><td>ENSG00000231606</td><td>     </td><td>1</td><td>lincRNA       </td><td>ENSG00000231606.1</td><td>RP11-344F13.1 </td></tr>\n",
       "\t<tr><td>ENSG00000234593</td><td>     </td><td>1</td><td>lincRNA       </td><td>ENSG00000234593.2</td><td>RP4-704D23.1  </td></tr>\n",
       "\t<tr><td>ENSG00000228140</td><td>     </td><td>1</td><td>lincRNA       </td><td>ENSG00000228140.1</td><td>RP3-467K16.4  </td></tr>\n",
       "\t<tr><td>ENSG00000186092</td><td>OR4F5</td><td>1</td><td>protein_coding</td><td>ENSG00000186092.4</td><td>OR4F5         </td></tr>\n",
       "</tbody>\n",
       "</table>\n"
      ],
      "text/latex": [
       "A data.frame: 6 × 6\n",
       "\\begin{tabular}{r|llllll}\n",
       " ensembl\\_gene\\_id & hgnc\\_symbol & chromosome\\_name & transcript\\_biotype & Name & Description\\\\\n",
       " <chr> & <chr> & <chr> & <chr> & <chr> & <chr>\\\\\n",
       "\\hline\n",
       "\t ENSG00000228229 &       & 1 & lincRNA        & ENSG00000228229.2 & RP11-219C24.10\\\\\n",
       "\t ENSG00000237445 &       & 1 & lincRNA        & ENSG00000237445.2 & CTA-520D8.2   \\\\\n",
       "\t ENSG00000231606 &       & 1 & lincRNA        & ENSG00000231606.1 & RP11-344F13.1 \\\\\n",
       "\t ENSG00000234593 &       & 1 & lincRNA        & ENSG00000234593.2 & RP4-704D23.1  \\\\\n",
       "\t ENSG00000228140 &       & 1 & lincRNA        & ENSG00000228140.1 & RP3-467K16.4  \\\\\n",
       "\t ENSG00000186092 & OR4F5 & 1 & protein\\_coding & ENSG00000186092.4 & OR4F5         \\\\\n",
       "\\end{tabular}\n"
      ],
      "text/markdown": [
       "\n",
       "A data.frame: 6 × 6\n",
       "\n",
       "| ensembl_gene_id &lt;chr&gt; | hgnc_symbol &lt;chr&gt; | chromosome_name &lt;chr&gt; | transcript_biotype &lt;chr&gt; | Name &lt;chr&gt; | Description &lt;chr&gt; |\n",
       "|---|---|---|---|---|---|\n",
       "| ENSG00000228229 | <!----> | 1 | lincRNA        | ENSG00000228229.2 | RP11-219C24.10 |\n",
       "| ENSG00000237445 | <!----> | 1 | lincRNA        | ENSG00000237445.2 | CTA-520D8.2    |\n",
       "| ENSG00000231606 | <!----> | 1 | lincRNA        | ENSG00000231606.1 | RP11-344F13.1  |\n",
       "| ENSG00000234593 | <!----> | 1 | lincRNA        | ENSG00000234593.2 | RP4-704D23.1   |\n",
       "| ENSG00000228140 | <!----> | 1 | lincRNA        | ENSG00000228140.1 | RP3-467K16.4   |\n",
       "| ENSG00000186092 | OR4F5 | 1 | protein_coding | ENSG00000186092.4 | OR4F5          |\n",
       "\n"
      ],
      "text/plain": [
       "  ensembl_gene_id hgnc_symbol chromosome_name transcript_biotype\n",
       "1 ENSG00000228229             1               lincRNA           \n",
       "2 ENSG00000237445             1               lincRNA           \n",
       "3 ENSG00000231606             1               lincRNA           \n",
       "4 ENSG00000234593             1               lincRNA           \n",
       "5 ENSG00000228140             1               lincRNA           \n",
       "6 ENSG00000186092 OR4F5       1               protein_coding    \n",
       "  Name              Description   \n",
       "1 ENSG00000228229.2 RP11-219C24.10\n",
       "2 ENSG00000237445.2 CTA-520D8.2   \n",
       "3 ENSG00000231606.1 RP11-344F13.1 \n",
       "4 ENSG00000234593.2 RP4-704D23.1  \n",
       "5 ENSG00000228140.1 RP3-467K16.4  \n",
       "6 ENSG00000186092.4 OR4F5         "
      ]
     },
     "metadata": {},
     "output_type": "display_data"
    }
   ],
   "source": [
    "head(expression_list_target[[tissue]])"
   ]
  },
  {
   "cell_type": "code",
   "execution_count": 213,
   "metadata": {},
   "outputs": [],
   "source": [
    "#save(gene_info_target, expression_list_target, tissue_vec_target, \n",
    "#     file = \"/gpfs/loomis/project/radev/zy92/utmost_update/GTEX/raw_expression.RData\")"
   ]
  },
  {
   "cell_type": "markdown",
   "metadata": {},
   "source": [
    "### main functions to output the raw expression"
   ]
  },
  {
   "cell_type": "code",
   "execution_count": 212,
   "metadata": {},
   "outputs": [
    {
     "data": {
      "text/html": [
       "INFO: chr 1"
      ]
     },
     "metadata": {},
     "output_type": "display_data"
    },
    {
     "data": {
      "text/html": [
       "INFO: 3.854 % processed."
      ]
     },
     "metadata": {},
     "output_type": "display_data"
    },
    {
     "data": {
      "text/html": [
       "INFO: 7.707 % processed."
      ]
     },
     "metadata": {},
     "output_type": "display_data"
    },
    {
     "data": {
      "text/html": [
       "INFO: 11.561 % processed."
      ]
     },
     "metadata": {},
     "output_type": "display_data"
    },
    {
     "data": {
      "text/html": [
       "INFO: 15.414 % processed."
      ]
     },
     "metadata": {},
     "output_type": "display_data"
    },
    {
     "data": {
      "text/html": [
       "INFO: 19.268 % processed."
      ]
     },
     "metadata": {},
     "output_type": "display_data"
    },
    {
     "data": {
      "text/html": [
       "INFO: 23.121 % processed."
      ]
     },
     "metadata": {},
     "output_type": "display_data"
    },
    {
     "data": {
      "text/html": [
       "INFO: 26.975 % processed."
      ]
     },
     "metadata": {},
     "output_type": "display_data"
    },
    {
     "data": {
      "text/html": [
       "INFO: 30.829 % processed."
      ]
     },
     "metadata": {},
     "output_type": "display_data"
    },
    {
     "data": {
      "text/html": [
       "INFO: 34.682 % processed."
      ]
     },
     "metadata": {},
     "output_type": "display_data"
    },
    {
     "data": {
      "text/html": [
       "INFO: 38.536 % processed."
      ]
     },
     "metadata": {},
     "output_type": "display_data"
    },
    {
     "data": {
      "text/html": [
       "INFO: 42.389 % processed."
      ]
     },
     "metadata": {},
     "output_type": "display_data"
    },
    {
     "data": {
      "text/html": [
       "INFO: 46.243 % processed."
      ]
     },
     "metadata": {},
     "output_type": "display_data"
    },
    {
     "data": {
      "text/html": [
       "INFO: 50.096 % processed."
      ]
     },
     "metadata": {},
     "output_type": "display_data"
    },
    {
     "data": {
      "text/html": [
       "INFO: 53.95 % processed."
      ]
     },
     "metadata": {},
     "output_type": "display_data"
    },
    {
     "data": {
      "text/html": [
       "INFO: 57.803 % processed."
      ]
     },
     "metadata": {},
     "output_type": "display_data"
    },
    {
     "data": {
      "text/html": [
       "INFO: 61.657 % processed."
      ]
     },
     "metadata": {},
     "output_type": "display_data"
    },
    {
     "data": {
      "text/html": [
       "INFO: 65.511 % processed."
      ]
     },
     "metadata": {},
     "output_type": "display_data"
    },
    {
     "data": {
      "text/html": [
       "INFO: 69.364 % processed."
      ]
     },
     "metadata": {},
     "output_type": "display_data"
    },
    {
     "data": {
      "text/html": [
       "INFO: 73.218 % processed."
      ]
     },
     "metadata": {},
     "output_type": "display_data"
    },
    {
     "data": {
      "text/html": [
       "INFO: 77.071 % processed."
      ]
     },
     "metadata": {},
     "output_type": "display_data"
    },
    {
     "data": {
      "text/html": [
       "INFO: 80.925 % processed."
      ]
     },
     "metadata": {},
     "output_type": "display_data"
    },
    {
     "data": {
      "text/html": [
       "INFO: 84.778 % processed."
      ]
     },
     "metadata": {},
     "output_type": "display_data"
    },
    {
     "data": {
      "text/html": [
       "INFO: 88.632 % processed."
      ]
     },
     "metadata": {},
     "output_type": "display_data"
    },
    {
     "data": {
      "text/html": [
       "INFO: 92.486 % processed."
      ]
     },
     "metadata": {},
     "output_type": "display_data"
    },
    {
     "data": {
      "text/html": [
       "INFO: 96.339 % processed."
      ]
     },
     "metadata": {},
     "output_type": "display_data"
    }
   ],
   "source": [
    "# extract the expression level and save in the directory\n",
    "output_path <- \"/gpfs/loomis/project/radev/zy92/utmost_update/GTEX/expr_gtex1/\"\n",
    "# loop over chr\n",
    "#for (i in 1:22) {\n",
    "for (i in 1:1) {    \n",
    "    # create the chr path\n",
    "    IRdisplay::display_html(paste0(\"INFO: chr \", i ))\n",
    "    output_path_chr <- paste0(output_path, \"chr\", i, \"/\")\n",
    "    if (!dir.exists(output_path_chr)) {\n",
    "        dir.create(output_path_chr)\n",
    "    }\n",
    "    # subset the gene for the chr\n",
    "    expression_info_tmp <- gene_info_target %>% \n",
    "        filter(chromosome_name %in% UQ(i))\n",
    "    head(expression_info_tmp)\n",
    "    gene_vec <- expression_info_tmp$ensembl_gene_id\n",
    "    \n",
    "    expression_list_target_chr <- list()\n",
    "    n_sample <- list()\n",
    "    #expression_list_target_chr[[i]] <- list()\n",
    "    for (tissue in tissue_vec_target) {\n",
    "        tmp_exp <- expression_info_tmp %>%\n",
    "            left_join(expression_list_target[[tissue]], by = c(\"ensembl_gene_id\" = \"ensembl_gene_id\"))\n",
    "        expression_list_target_chr[[tissue]] <- tmp_exp\n",
    "        n_sample[[tissue]] <- ncol(tmp_exp) - 9\n",
    "        #print(n_sample[[tissue]])\n",
    "    }\n",
    "    \n",
    "    # tissue-specific sample id \n",
    "    id_vec <- list()\n",
    "    for (tissue in tissue_vec_target) {\n",
    "        id_vec[[tissue]] <- colnames(expression_list_target_chr[[tissue]])[8:(7+as.numeric(n_sample[[tissue]]))]\n",
    "\n",
    "    }\n",
    "    # loop over gene\n",
    "    #gene2idx <- list()\n",
    "    #idx <- match(gene, )\n",
    "    for (j in 1:length(gene_vec)) {\n",
    "    #for (j in 1:1) {\n",
    "        gene <- gene_vec[j]\n",
    "        # watch the process\n",
    "        if (j %% 100 == 0) { \n",
    "            IRdisplay::display_html(paste0(\"INFO: \", round(j*100/length(gene_vec), 3), \" % processed.\")) \n",
    "        }\n",
    "        output_path_chr_gene <- paste0(output_path_chr, gene)\n",
    "        if (!dir.exists(output_path_chr_gene)) {\n",
    "            dir.create(output_path_chr_gene)\n",
    "        } \n",
    "        \n",
    "        # loop over tissue\n",
    "        for (tissue in tissue_vec_target) {\n",
    "            tissue_file_name <- paste0(output_path_chr_gene, \"/\", tissue, \".txt\")\n",
    "            #exp_vec <- expression_list_target_chr[[tissue]] %>% \n",
    "                #filter(ensembl_gene_id == gene)\n",
    "            exp_vec <- expression_list_target_chr[[tissue]][j,]\n",
    "            #print(dim(exp_vec))\n",
    "            #print(n_sample[[tissue]])\n",
    "            #print(exp_vec[, 1:20])\n",
    "            exp_vec <- as.numeric(exp_vec[,8:(7+as.numeric(n_sample[[tissue]]))])\n",
    "            #print(head(exp_vec))\n",
    "            #id_vec <- colnames(expression_list_target_chr[[tissue]])[8:(7+as.numeric(n_sample[[tissue]]))]\n",
    "            output_df <- data.frame(id = id_vec[[tissue]], exp = exp_vec)\n",
    "            write.table(output_df, file = tissue_file_name, row.names = F, col.names = F, quote = F)\n",
    "        }\n",
    "        \n",
    "    }\n",
    "    \n",
    "}"
   ]
  },
  {
   "cell_type": "code",
   "execution_count": null,
   "metadata": {},
   "outputs": [],
   "source": []
  },
  {
   "cell_type": "code",
   "execution_count": 185,
   "metadata": {},
   "outputs": [
    {
     "data": {
      "text/html": [
       "<dl>\n",
       "\t<dt>$Muscle_Skeletal</dt>\n",
       "\t\t<dd>809</dd>\n",
       "\t<dt>$Whole_Blood</dt>\n",
       "\t\t<dd>761</dd>\n",
       "\t<dt>$Skin_Sun_Exposed_Lower_leg</dt>\n",
       "\t\t<dd>707</dd>\n",
       "\t<dt>$Adipose_Subcutaneous</dt>\n",
       "\t\t<dd>669</dd>\n",
       "\t<dt>$Artery_Tibial</dt>\n",
       "\t\t<dd>669</dd>\n",
       "\t<dt>$Thyroid</dt>\n",
       "\t\t<dd>659</dd>\n",
       "\t<dt>$Nerve_Tibial</dt>\n",
       "\t\t<dd>625</dd>\n",
       "\t<dt>$Skin_Not_Sun_Exposed_Suprapubic</dt>\n",
       "\t\t<dd>610</dd>\n",
       "\t<dt>$Lung</dt>\n",
       "\t\t<dd>584</dd>\n",
       "\t<dt>$Esophagus_Mucosa</dt>\n",
       "\t\t<dd>561</dd>\n",
       "\t<dt>$Adipose_Visceral_Omentum</dt>\n",
       "\t\t<dd>547</dd>\n",
       "\t<dt>$Esophagus_Muscularis</dt>\n",
       "\t\t<dd>521</dd>\n",
       "\t<dt>$Cells_Cultured_fibroblasts</dt>\n",
       "\t\t<dd>510</dd>\n",
       "\t<dt>$Breast_Mammary_Tissue</dt>\n",
       "\t\t<dd>465</dd>\n",
       "\t<dt>$Heart_Left_Ventricle</dt>\n",
       "\t\t<dd>438</dd>\n",
       "\t<dt>$Artery_Aorta</dt>\n",
       "\t\t<dd>438</dd>\n",
       "\t<dt>$Heart_Atrial_Appendage</dt>\n",
       "\t\t<dd>435</dd>\n",
       "\t<dt>$Colon_Transverse</dt>\n",
       "\t\t<dd>412</dd>\n",
       "\t<dt>$Esophagus_Gastroesophageal_Junction</dt>\n",
       "\t\t<dd>381</dd>\n",
       "\t<dt>$Colon_Sigmoid</dt>\n",
       "\t\t<dd>379</dd>\n",
       "\t<dt>$Testis</dt>\n",
       "\t\t<dd>367</dd>\n",
       "\t<dt>$Stomach</dt>\n",
       "\t\t<dd>365</dd>\n",
       "\t<dt>$Pancreas</dt>\n",
       "\t\t<dd>334</dd>\n",
       "\t<dt>$Pituitary</dt>\n",
       "\t\t<dd>289</dd>\n",
       "\t<dt>$Adrenal_Gland</dt>\n",
       "\t\t<dd>264</dd>\n",
       "\t<dt>$Brain_Cortex</dt>\n",
       "\t\t<dd>261</dd>\n",
       "\t<dt>$Brain_Caudate_basal_ganglia</dt>\n",
       "\t\t<dd>252</dd>\n",
       "\t<dt>$Brain_Nucleus_accumbens_basal_ganglia</dt>\n",
       "\t\t<dd>252</dd>\n",
       "\t<dt>$Prostate</dt>\n",
       "\t\t<dd>251</dd>\n",
       "\t<dt>$Spleen</dt>\n",
       "\t\t<dd>247</dd>\n",
       "\t<dt>$Brain_Cerebellum</dt>\n",
       "\t\t<dd>247</dd>\n",
       "\t<dt>$Artery_Coronary</dt>\n",
       "\t\t<dd>246</dd>\n",
       "\t<dt>$Liver</dt>\n",
       "\t\t<dd>232</dd>\n",
       "\t<dt>$Brain_Cerebellar_Hemisphere</dt>\n",
       "\t\t<dd>221</dd>\n",
       "\t<dt>$Brain_Frontal_Cortex_BA9</dt>\n",
       "\t\t<dd>215</dd>\n",
       "\t<dt>$Brain_Putamen_basal_ganglia</dt>\n",
       "\t\t<dd>211</dd>\n",
       "\t<dt>$Brain_Hypothalamus</dt>\n",
       "\t\t<dd>208</dd>\n",
       "\t<dt>$Brain_Hippocampus</dt>\n",
       "\t\t<dd>203</dd>\n",
       "\t<dt>$Small_Intestine_Terminal_Ileum</dt>\n",
       "\t\t<dd>193</dd>\n",
       "\t<dt>$Ovary</dt>\n",
       "\t\t<dd>186</dd>\n",
       "\t<dt>$Brain_Anterior_cingulate_cortex_BA24</dt>\n",
       "\t\t<dd>182</dd>\n",
       "\t<dt>$`Cells_EBV-transformed_lymphocytes`</dt>\n",
       "\t\t<dd>180</dd>\n",
       "\t<dt>$Minor_Salivary_Gland</dt>\n",
       "\t\t<dd>168</dd>\n",
       "\t<dt>$`Brain_Spinal_cord_cervical_c-1`</dt>\n",
       "\t\t<dd>165</dd>\n",
       "\t<dt>$Vagina</dt>\n",
       "\t\t<dd>162</dd>\n",
       "\t<dt>$Brain_Amygdala</dt>\n",
       "\t\t<dd>158</dd>\n",
       "\t<dt>$Uterus</dt>\n",
       "\t\t<dd>148</dd>\n",
       "\t<dt>$Brain_Substantia_nigra</dt>\n",
       "\t\t<dd>145</dd>\n",
       "\t<dt>$Kidney_Cortex</dt>\n",
       "\t\t<dd>91</dd>\n",
       "</dl>\n"
      ],
      "text/latex": [
       "\\begin{description}\n",
       "\\item[\\$Muscle\\_Skeletal] 809\n",
       "\\item[\\$Whole\\_Blood] 761\n",
       "\\item[\\$Skin\\_Sun\\_Exposed\\_Lower\\_leg] 707\n",
       "\\item[\\$Adipose\\_Subcutaneous] 669\n",
       "\\item[\\$Artery\\_Tibial] 669\n",
       "\\item[\\$Thyroid] 659\n",
       "\\item[\\$Nerve\\_Tibial] 625\n",
       "\\item[\\$Skin\\_Not\\_Sun\\_Exposed\\_Suprapubic] 610\n",
       "\\item[\\$Lung] 584\n",
       "\\item[\\$Esophagus\\_Mucosa] 561\n",
       "\\item[\\$Adipose\\_Visceral\\_Omentum] 547\n",
       "\\item[\\$Esophagus\\_Muscularis] 521\n",
       "\\item[\\$Cells\\_Cultured\\_fibroblasts] 510\n",
       "\\item[\\$Breast\\_Mammary\\_Tissue] 465\n",
       "\\item[\\$Heart\\_Left\\_Ventricle] 438\n",
       "\\item[\\$Artery\\_Aorta] 438\n",
       "\\item[\\$Heart\\_Atrial\\_Appendage] 435\n",
       "\\item[\\$Colon\\_Transverse] 412\n",
       "\\item[\\$Esophagus\\_Gastroesophageal\\_Junction] 381\n",
       "\\item[\\$Colon\\_Sigmoid] 379\n",
       "\\item[\\$Testis] 367\n",
       "\\item[\\$Stomach] 365\n",
       "\\item[\\$Pancreas] 334\n",
       "\\item[\\$Pituitary] 289\n",
       "\\item[\\$Adrenal\\_Gland] 264\n",
       "\\item[\\$Brain\\_Cortex] 261\n",
       "\\item[\\$Brain\\_Caudate\\_basal\\_ganglia] 252\n",
       "\\item[\\$Brain\\_Nucleus\\_accumbens\\_basal\\_ganglia] 252\n",
       "\\item[\\$Prostate] 251\n",
       "\\item[\\$Spleen] 247\n",
       "\\item[\\$Brain\\_Cerebellum] 247\n",
       "\\item[\\$Artery\\_Coronary] 246\n",
       "\\item[\\$Liver] 232\n",
       "\\item[\\$Brain\\_Cerebellar\\_Hemisphere] 221\n",
       "\\item[\\$Brain\\_Frontal\\_Cortex\\_BA9] 215\n",
       "\\item[\\$Brain\\_Putamen\\_basal\\_ganglia] 211\n",
       "\\item[\\$Brain\\_Hypothalamus] 208\n",
       "\\item[\\$Brain\\_Hippocampus] 203\n",
       "\\item[\\$Small\\_Intestine\\_Terminal\\_Ileum] 193\n",
       "\\item[\\$Ovary] 186\n",
       "\\item[\\$Brain\\_Anterior\\_cingulate\\_cortex\\_BA24] 182\n",
       "\\item[\\$`Cells\\_EBV-transformed\\_lymphocytes`] 180\n",
       "\\item[\\$Minor\\_Salivary\\_Gland] 168\n",
       "\\item[\\$`Brain\\_Spinal\\_cord\\_cervical\\_c-1`] 165\n",
       "\\item[\\$Vagina] 162\n",
       "\\item[\\$Brain\\_Amygdala] 158\n",
       "\\item[\\$Uterus] 148\n",
       "\\item[\\$Brain\\_Substantia\\_nigra] 145\n",
       "\\item[\\$Kidney\\_Cortex] 91\n",
       "\\end{description}\n"
      ],
      "text/markdown": [
       "$Muscle_Skeletal\n",
       ":   809\n",
       "$Whole_Blood\n",
       ":   761\n",
       "$Skin_Sun_Exposed_Lower_leg\n",
       ":   707\n",
       "$Adipose_Subcutaneous\n",
       ":   669\n",
       "$Artery_Tibial\n",
       ":   669\n",
       "$Thyroid\n",
       ":   659\n",
       "$Nerve_Tibial\n",
       ":   625\n",
       "$Skin_Not_Sun_Exposed_Suprapubic\n",
       ":   610\n",
       "$Lung\n",
       ":   584\n",
       "$Esophagus_Mucosa\n",
       ":   561\n",
       "$Adipose_Visceral_Omentum\n",
       ":   547\n",
       "$Esophagus_Muscularis\n",
       ":   521\n",
       "$Cells_Cultured_fibroblasts\n",
       ":   510\n",
       "$Breast_Mammary_Tissue\n",
       ":   465\n",
       "$Heart_Left_Ventricle\n",
       ":   438\n",
       "$Artery_Aorta\n",
       ":   438\n",
       "$Heart_Atrial_Appendage\n",
       ":   435\n",
       "$Colon_Transverse\n",
       ":   412\n",
       "$Esophagus_Gastroesophageal_Junction\n",
       ":   381\n",
       "$Colon_Sigmoid\n",
       ":   379\n",
       "$Testis\n",
       ":   367\n",
       "$Stomach\n",
       ":   365\n",
       "$Pancreas\n",
       ":   334\n",
       "$Pituitary\n",
       ":   289\n",
       "$Adrenal_Gland\n",
       ":   264\n",
       "$Brain_Cortex\n",
       ":   261\n",
       "$Brain_Caudate_basal_ganglia\n",
       ":   252\n",
       "$Brain_Nucleus_accumbens_basal_ganglia\n",
       ":   252\n",
       "$Prostate\n",
       ":   251\n",
       "$Spleen\n",
       ":   247\n",
       "$Brain_Cerebellum\n",
       ":   247\n",
       "$Artery_Coronary\n",
       ":   246\n",
       "$Liver\n",
       ":   232\n",
       "$Brain_Cerebellar_Hemisphere\n",
       ":   221\n",
       "$Brain_Frontal_Cortex_BA9\n",
       ":   215\n",
       "$Brain_Putamen_basal_ganglia\n",
       ":   211\n",
       "$Brain_Hypothalamus\n",
       ":   208\n",
       "$Brain_Hippocampus\n",
       ":   203\n",
       "$Small_Intestine_Terminal_Ileum\n",
       ":   193\n",
       "$Ovary\n",
       ":   186\n",
       "$Brain_Anterior_cingulate_cortex_BA24\n",
       ":   182\n",
       "$`Cells_EBV-transformed_lymphocytes`\n",
       ":   180\n",
       "$Minor_Salivary_Gland\n",
       ":   168\n",
       "$`Brain_Spinal_cord_cervical_c-1`\n",
       ":   165\n",
       "$Vagina\n",
       ":   162\n",
       "$Brain_Amygdala\n",
       ":   158\n",
       "$Uterus\n",
       ":   148\n",
       "$Brain_Substantia_nigra\n",
       ":   145\n",
       "$Kidney_Cortex\n",
       ":   91\n",
       "\n",
       "\n"
      ],
      "text/plain": [
       "$Muscle_Skeletal\n",
       "[1] 809\n",
       "\n",
       "$Whole_Blood\n",
       "[1] 761\n",
       "\n",
       "$Skin_Sun_Exposed_Lower_leg\n",
       "[1] 707\n",
       "\n",
       "$Adipose_Subcutaneous\n",
       "[1] 669\n",
       "\n",
       "$Artery_Tibial\n",
       "[1] 669\n",
       "\n",
       "$Thyroid\n",
       "[1] 659\n",
       "\n",
       "$Nerve_Tibial\n",
       "[1] 625\n",
       "\n",
       "$Skin_Not_Sun_Exposed_Suprapubic\n",
       "[1] 610\n",
       "\n",
       "$Lung\n",
       "[1] 584\n",
       "\n",
       "$Esophagus_Mucosa\n",
       "[1] 561\n",
       "\n",
       "$Adipose_Visceral_Omentum\n",
       "[1] 547\n",
       "\n",
       "$Esophagus_Muscularis\n",
       "[1] 521\n",
       "\n",
       "$Cells_Cultured_fibroblasts\n",
       "[1] 510\n",
       "\n",
       "$Breast_Mammary_Tissue\n",
       "[1] 465\n",
       "\n",
       "$Heart_Left_Ventricle\n",
       "[1] 438\n",
       "\n",
       "$Artery_Aorta\n",
       "[1] 438\n",
       "\n",
       "$Heart_Atrial_Appendage\n",
       "[1] 435\n",
       "\n",
       "$Colon_Transverse\n",
       "[1] 412\n",
       "\n",
       "$Esophagus_Gastroesophageal_Junction\n",
       "[1] 381\n",
       "\n",
       "$Colon_Sigmoid\n",
       "[1] 379\n",
       "\n",
       "$Testis\n",
       "[1] 367\n",
       "\n",
       "$Stomach\n",
       "[1] 365\n",
       "\n",
       "$Pancreas\n",
       "[1] 334\n",
       "\n",
       "$Pituitary\n",
       "[1] 289\n",
       "\n",
       "$Adrenal_Gland\n",
       "[1] 264\n",
       "\n",
       "$Brain_Cortex\n",
       "[1] 261\n",
       "\n",
       "$Brain_Caudate_basal_ganglia\n",
       "[1] 252\n",
       "\n",
       "$Brain_Nucleus_accumbens_basal_ganglia\n",
       "[1] 252\n",
       "\n",
       "$Prostate\n",
       "[1] 251\n",
       "\n",
       "$Spleen\n",
       "[1] 247\n",
       "\n",
       "$Brain_Cerebellum\n",
       "[1] 247\n",
       "\n",
       "$Artery_Coronary\n",
       "[1] 246\n",
       "\n",
       "$Liver\n",
       "[1] 232\n",
       "\n",
       "$Brain_Cerebellar_Hemisphere\n",
       "[1] 221\n",
       "\n",
       "$Brain_Frontal_Cortex_BA9\n",
       "[1] 215\n",
       "\n",
       "$Brain_Putamen_basal_ganglia\n",
       "[1] 211\n",
       "\n",
       "$Brain_Hypothalamus\n",
       "[1] 208\n",
       "\n",
       "$Brain_Hippocampus\n",
       "[1] 203\n",
       "\n",
       "$Small_Intestine_Terminal_Ileum\n",
       "[1] 193\n",
       "\n",
       "$Ovary\n",
       "[1] 186\n",
       "\n",
       "$Brain_Anterior_cingulate_cortex_BA24\n",
       "[1] 182\n",
       "\n",
       "$`Cells_EBV-transformed_lymphocytes`\n",
       "[1] 180\n",
       "\n",
       "$Minor_Salivary_Gland\n",
       "[1] 168\n",
       "\n",
       "$`Brain_Spinal_cord_cervical_c-1`\n",
       "[1] 165\n",
       "\n",
       "$Vagina\n",
       "[1] 162\n",
       "\n",
       "$Brain_Amygdala\n",
       "[1] 158\n",
       "\n",
       "$Uterus\n",
       "[1] 148\n",
       "\n",
       "$Brain_Substantia_nigra\n",
       "[1] 145\n",
       "\n",
       "$Kidney_Cortex\n",
       "[1] 91\n"
      ]
     },
     "metadata": {},
     "output_type": "display_data"
    }
   ],
   "source": [
    "n_sample"
   ]
  },
  {
   "cell_type": "markdown",
   "metadata": {},
   "source": [
    "### Sample size"
   ]
  },
  {
   "cell_type": "code",
   "execution_count": 54,
   "metadata": {},
   "outputs": [],
   "source": [
    "cov_dir <- \"/ysm-gpfs/pi/zhao-data/zy92/GTEx_V8/GTEx_Analysis_v8_eQTL_covariates/\"\n",
    "file_vec <- list.files(cov_dir)\n",
    "cov_list <- list()\n",
    "for (file_name in file_vec) {\n",
    "    cov_list[[file_name]] <- fread(paste0(cov_dir, file_name))\n",
    "}\n"
   ]
  },
  {
   "cell_type": "code",
   "execution_count": 55,
   "metadata": {},
   "outputs": [],
   "source": [
    "sample_size_cov_df <- data.frame(tissue = names(cov_list), sample_size = as.numeric(lapply(cov_list, ncol))-1)"
   ]
  },
  {
   "cell_type": "code",
   "execution_count": 56,
   "metadata": {},
   "outputs": [
    {
     "data": {
      "text/html": [
       "<table>\n",
       "<caption>A data.frame: 6 × 2</caption>\n",
       "<thead>\n",
       "\t<tr><th scope=col>tissue</th><th scope=col>sample_size</th></tr>\n",
       "\t<tr><th scope=col>&lt;fct&gt;</th><th scope=col>&lt;dbl&gt;</th></tr>\n",
       "</thead>\n",
       "<tbody>\n",
       "\t<tr><td>Adipose_Subcutaneous.v8.covariates.txt    </td><td>581</td></tr>\n",
       "\t<tr><td>Adipose_Visceral_Omentum.v8.covariates.txt</td><td>469</td></tr>\n",
       "\t<tr><td>Adrenal_Gland.v8.covariates.txt           </td><td>233</td></tr>\n",
       "\t<tr><td>Artery_Aorta.v8.covariates.txt            </td><td>387</td></tr>\n",
       "\t<tr><td>Artery_Coronary.v8.covariates.txt         </td><td>213</td></tr>\n",
       "\t<tr><td>Artery_Tibial.v8.covariates.txt           </td><td>584</td></tr>\n",
       "</tbody>\n",
       "</table>\n"
      ],
      "text/latex": [
       "A data.frame: 6 × 2\n",
       "\\begin{tabular}{r|ll}\n",
       " tissue & sample\\_size\\\\\n",
       " <fct> & <dbl>\\\\\n",
       "\\hline\n",
       "\t Adipose\\_Subcutaneous.v8.covariates.txt     & 581\\\\\n",
       "\t Adipose\\_Visceral\\_Omentum.v8.covariates.txt & 469\\\\\n",
       "\t Adrenal\\_Gland.v8.covariates.txt            & 233\\\\\n",
       "\t Artery\\_Aorta.v8.covariates.txt             & 387\\\\\n",
       "\t Artery\\_Coronary.v8.covariates.txt          & 213\\\\\n",
       "\t Artery\\_Tibial.v8.covariates.txt            & 584\\\\\n",
       "\\end{tabular}\n"
      ],
      "text/markdown": [
       "\n",
       "A data.frame: 6 × 2\n",
       "\n",
       "| tissue &lt;fct&gt; | sample_size &lt;dbl&gt; |\n",
       "|---|---|\n",
       "| Adipose_Subcutaneous.v8.covariates.txt     | 581 |\n",
       "| Adipose_Visceral_Omentum.v8.covariates.txt | 469 |\n",
       "| Adrenal_Gland.v8.covariates.txt            | 233 |\n",
       "| Artery_Aorta.v8.covariates.txt             | 387 |\n",
       "| Artery_Coronary.v8.covariates.txt          | 213 |\n",
       "| Artery_Tibial.v8.covariates.txt            | 584 |\n",
       "\n"
      ],
      "text/plain": [
       "  tissue                                     sample_size\n",
       "1 Adipose_Subcutaneous.v8.covariates.txt     581        \n",
       "2 Adipose_Visceral_Omentum.v8.covariates.txt 469        \n",
       "3 Adrenal_Gland.v8.covariates.txt            233        \n",
       "4 Artery_Aorta.v8.covariates.txt             387        \n",
       "5 Artery_Coronary.v8.covariates.txt          213        \n",
       "6 Artery_Tibial.v8.covariates.txt            584        "
      ]
     },
     "metadata": {},
     "output_type": "display_data"
    }
   ],
   "source": [
    "head(as.data.frame(sample_size_cov_df))"
   ]
  },
  {
   "cell_type": "code",
   "execution_count": 57,
   "metadata": {},
   "outputs": [
    {
     "data": {
      "text/html": [
       "<table>\n",
       "<caption>A data.frame: 49 × 2</caption>\n",
       "<thead>\n",
       "\t<tr><th scope=col>tissue</th><th scope=col>sample_size</th></tr>\n",
       "\t<tr><th scope=col>&lt;fct&gt;</th><th scope=col>&lt;dbl&gt;</th></tr>\n",
       "</thead>\n",
       "<tbody>\n",
       "\t<tr><td>Muscle_Skeletal.v8.covariates.txt                      </td><td>706</td></tr>\n",
       "\t<tr><td>Whole_Blood.v8.covariates.txt                          </td><td>670</td></tr>\n",
       "\t<tr><td>Skin_Sun_Exposed_Lower_leg.v8.covariates.txt           </td><td>605</td></tr>\n",
       "\t<tr><td>Artery_Tibial.v8.covariates.txt                        </td><td>584</td></tr>\n",
       "\t<tr><td>Adipose_Subcutaneous.v8.covariates.txt                 </td><td>581</td></tr>\n",
       "\t<tr><td>Thyroid.v8.covariates.txt                              </td><td>574</td></tr>\n",
       "\t<tr><td>Nerve_Tibial.v8.covariates.txt                         </td><td>532</td></tr>\n",
       "\t<tr><td>Skin_Not_Sun_Exposed_Suprapubic.v8.covariates.txt      </td><td>517</td></tr>\n",
       "\t<tr><td>Lung.v8.covariates.txt                                 </td><td>515</td></tr>\n",
       "\t<tr><td>Esophagus_Mucosa.v8.covariates.txt                     </td><td>497</td></tr>\n",
       "\t<tr><td>Cells_Cultured_fibroblasts.v8.covariates.txt           </td><td>483</td></tr>\n",
       "\t<tr><td>Adipose_Visceral_Omentum.v8.covariates.txt             </td><td>469</td></tr>\n",
       "\t<tr><td>Esophagus_Muscularis.v8.covariates.txt                 </td><td>465</td></tr>\n",
       "\t<tr><td>Breast_Mammary_Tissue.v8.covariates.txt                </td><td>396</td></tr>\n",
       "\t<tr><td>Artery_Aorta.v8.covariates.txt                         </td><td>387</td></tr>\n",
       "\t<tr><td>Heart_Left_Ventricle.v8.covariates.txt                 </td><td>386</td></tr>\n",
       "\t<tr><td>Heart_Atrial_Appendage.v8.covariates.txt               </td><td>372</td></tr>\n",
       "\t<tr><td>Colon_Transverse.v8.covariates.txt                     </td><td>368</td></tr>\n",
       "\t<tr><td>Esophagus_Gastroesophageal_Junction.v8.covariates.txt  </td><td>330</td></tr>\n",
       "\t<tr><td>Stomach.v8.covariates.txt                              </td><td>324</td></tr>\n",
       "\t<tr><td>Testis.v8.covariates.txt                               </td><td>322</td></tr>\n",
       "\t<tr><td>Colon_Sigmoid.v8.covariates.txt                        </td><td>318</td></tr>\n",
       "\t<tr><td>Pancreas.v8.covariates.txt                             </td><td>305</td></tr>\n",
       "\t<tr><td>Pituitary.v8.covariates.txt                            </td><td>237</td></tr>\n",
       "\t<tr><td>Adrenal_Gland.v8.covariates.txt                        </td><td>233</td></tr>\n",
       "\t<tr><td>Spleen.v8.covariates.txt                               </td><td>227</td></tr>\n",
       "\t<tr><td>Prostate.v8.covariates.txt                             </td><td>221</td></tr>\n",
       "\t<tr><td>Artery_Coronary.v8.covariates.txt                      </td><td>213</td></tr>\n",
       "\t<tr><td>Brain_Cerebellum.v8.covariates.txt                     </td><td>209</td></tr>\n",
       "\t<tr><td>Liver.v8.covariates.txt                                </td><td>208</td></tr>\n",
       "\t<tr><td>Brain_Cortex.v8.covariates.txt                         </td><td>205</td></tr>\n",
       "\t<tr><td>Brain_Nucleus_accumbens_basal_ganglia.v8.covariates.txt</td><td>202</td></tr>\n",
       "\t<tr><td>Brain_Caudate_basal_ganglia.v8.covariates.txt          </td><td>194</td></tr>\n",
       "\t<tr><td>Brain_Cerebellar_Hemisphere.v8.covariates.txt          </td><td>175</td></tr>\n",
       "\t<tr><td>Brain_Frontal_Cortex_BA9.v8.covariates.txt             </td><td>175</td></tr>\n",
       "\t<tr><td>Small_Intestine_Terminal_Ileum.v8.covariates.txt       </td><td>174</td></tr>\n",
       "\t<tr><td>Brain_Hypothalamus.v8.covariates.txt                   </td><td>170</td></tr>\n",
       "\t<tr><td>Brain_Putamen_basal_ganglia.v8.covariates.txt          </td><td>170</td></tr>\n",
       "\t<tr><td>Ovary.v8.covariates.txt                                </td><td>167</td></tr>\n",
       "\t<tr><td>Brain_Hippocampus.v8.covariates.txt                    </td><td>165</td></tr>\n",
       "\t<tr><td>Brain_Anterior_cingulate_cortex_BA24.v8.covariates.txt </td><td>147</td></tr>\n",
       "\t<tr><td>Cells_EBV-transformed_lymphocytes.v8.covariates.txt    </td><td>147</td></tr>\n",
       "\t<tr><td>Minor_Salivary_Gland.v8.covariates.txt                 </td><td>144</td></tr>\n",
       "\t<tr><td>Vagina.v8.covariates.txt                               </td><td>141</td></tr>\n",
       "\t<tr><td>Brain_Amygdala.v8.covariates.txt                       </td><td>129</td></tr>\n",
       "\t<tr><td>Uterus.v8.covariates.txt                               </td><td>129</td></tr>\n",
       "\t<tr><td>Brain_Spinal_cord_cervical_c-1.v8.covariates.txt       </td><td>126</td></tr>\n",
       "\t<tr><td>Brain_Substantia_nigra.v8.covariates.txt               </td><td>114</td></tr>\n",
       "\t<tr><td>Kidney_Cortex.v8.covariates.txt                        </td><td> 73</td></tr>\n",
       "</tbody>\n",
       "</table>\n"
      ],
      "text/latex": [
       "A data.frame: 49 × 2\n",
       "\\begin{tabular}{r|ll}\n",
       " tissue & sample\\_size\\\\\n",
       " <fct> & <dbl>\\\\\n",
       "\\hline\n",
       "\t Muscle\\_Skeletal.v8.covariates.txt                       & 706\\\\\n",
       "\t Whole\\_Blood.v8.covariates.txt                           & 670\\\\\n",
       "\t Skin\\_Sun\\_Exposed\\_Lower\\_leg.v8.covariates.txt            & 605\\\\\n",
       "\t Artery\\_Tibial.v8.covariates.txt                         & 584\\\\\n",
       "\t Adipose\\_Subcutaneous.v8.covariates.txt                  & 581\\\\\n",
       "\t Thyroid.v8.covariates.txt                               & 574\\\\\n",
       "\t Nerve\\_Tibial.v8.covariates.txt                          & 532\\\\\n",
       "\t Skin\\_Not\\_Sun\\_Exposed\\_Suprapubic.v8.covariates.txt       & 517\\\\\n",
       "\t Lung.v8.covariates.txt                                  & 515\\\\\n",
       "\t Esophagus\\_Mucosa.v8.covariates.txt                      & 497\\\\\n",
       "\t Cells\\_Cultured\\_fibroblasts.v8.covariates.txt            & 483\\\\\n",
       "\t Adipose\\_Visceral\\_Omentum.v8.covariates.txt              & 469\\\\\n",
       "\t Esophagus\\_Muscularis.v8.covariates.txt                  & 465\\\\\n",
       "\t Breast\\_Mammary\\_Tissue.v8.covariates.txt                 & 396\\\\\n",
       "\t Artery\\_Aorta.v8.covariates.txt                          & 387\\\\\n",
       "\t Heart\\_Left\\_Ventricle.v8.covariates.txt                  & 386\\\\\n",
       "\t Heart\\_Atrial\\_Appendage.v8.covariates.txt                & 372\\\\\n",
       "\t Colon\\_Transverse.v8.covariates.txt                      & 368\\\\\n",
       "\t Esophagus\\_Gastroesophageal\\_Junction.v8.covariates.txt   & 330\\\\\n",
       "\t Stomach.v8.covariates.txt                               & 324\\\\\n",
       "\t Testis.v8.covariates.txt                                & 322\\\\\n",
       "\t Colon\\_Sigmoid.v8.covariates.txt                         & 318\\\\\n",
       "\t Pancreas.v8.covariates.txt                              & 305\\\\\n",
       "\t Pituitary.v8.covariates.txt                             & 237\\\\\n",
       "\t Adrenal\\_Gland.v8.covariates.txt                         & 233\\\\\n",
       "\t Spleen.v8.covariates.txt                                & 227\\\\\n",
       "\t Prostate.v8.covariates.txt                              & 221\\\\\n",
       "\t Artery\\_Coronary.v8.covariates.txt                       & 213\\\\\n",
       "\t Brain\\_Cerebellum.v8.covariates.txt                      & 209\\\\\n",
       "\t Liver.v8.covariates.txt                                 & 208\\\\\n",
       "\t Brain\\_Cortex.v8.covariates.txt                          & 205\\\\\n",
       "\t Brain\\_Nucleus\\_accumbens\\_basal\\_ganglia.v8.covariates.txt & 202\\\\\n",
       "\t Brain\\_Caudate\\_basal\\_ganglia.v8.covariates.txt           & 194\\\\\n",
       "\t Brain\\_Cerebellar\\_Hemisphere.v8.covariates.txt           & 175\\\\\n",
       "\t Brain\\_Frontal\\_Cortex\\_BA9.v8.covariates.txt              & 175\\\\\n",
       "\t Small\\_Intestine\\_Terminal\\_Ileum.v8.covariates.txt        & 174\\\\\n",
       "\t Brain\\_Hypothalamus.v8.covariates.txt                    & 170\\\\\n",
       "\t Brain\\_Putamen\\_basal\\_ganglia.v8.covariates.txt           & 170\\\\\n",
       "\t Ovary.v8.covariates.txt                                 & 167\\\\\n",
       "\t Brain\\_Hippocampus.v8.covariates.txt                     & 165\\\\\n",
       "\t Brain\\_Anterior\\_cingulate\\_cortex\\_BA24.v8.covariates.txt  & 147\\\\\n",
       "\t Cells\\_EBV-transformed\\_lymphocytes.v8.covariates.txt     & 147\\\\\n",
       "\t Minor\\_Salivary\\_Gland.v8.covariates.txt                  & 144\\\\\n",
       "\t Vagina.v8.covariates.txt                                & 141\\\\\n",
       "\t Brain\\_Amygdala.v8.covariates.txt                        & 129\\\\\n",
       "\t Uterus.v8.covariates.txt                                & 129\\\\\n",
       "\t Brain\\_Spinal\\_cord\\_cervical\\_c-1.v8.covariates.txt        & 126\\\\\n",
       "\t Brain\\_Substantia\\_nigra.v8.covariates.txt                & 114\\\\\n",
       "\t Kidney\\_Cortex.v8.covariates.txt                         &  73\\\\\n",
       "\\end{tabular}\n"
      ],
      "text/markdown": [
       "\n",
       "A data.frame: 49 × 2\n",
       "\n",
       "| tissue &lt;fct&gt; | sample_size &lt;dbl&gt; |\n",
       "|---|---|\n",
       "| Muscle_Skeletal.v8.covariates.txt                       | 706 |\n",
       "| Whole_Blood.v8.covariates.txt                           | 670 |\n",
       "| Skin_Sun_Exposed_Lower_leg.v8.covariates.txt            | 605 |\n",
       "| Artery_Tibial.v8.covariates.txt                         | 584 |\n",
       "| Adipose_Subcutaneous.v8.covariates.txt                  | 581 |\n",
       "| Thyroid.v8.covariates.txt                               | 574 |\n",
       "| Nerve_Tibial.v8.covariates.txt                          | 532 |\n",
       "| Skin_Not_Sun_Exposed_Suprapubic.v8.covariates.txt       | 517 |\n",
       "| Lung.v8.covariates.txt                                  | 515 |\n",
       "| Esophagus_Mucosa.v8.covariates.txt                      | 497 |\n",
       "| Cells_Cultured_fibroblasts.v8.covariates.txt            | 483 |\n",
       "| Adipose_Visceral_Omentum.v8.covariates.txt              | 469 |\n",
       "| Esophagus_Muscularis.v8.covariates.txt                  | 465 |\n",
       "| Breast_Mammary_Tissue.v8.covariates.txt                 | 396 |\n",
       "| Artery_Aorta.v8.covariates.txt                          | 387 |\n",
       "| Heart_Left_Ventricle.v8.covariates.txt                  | 386 |\n",
       "| Heart_Atrial_Appendage.v8.covariates.txt                | 372 |\n",
       "| Colon_Transverse.v8.covariates.txt                      | 368 |\n",
       "| Esophagus_Gastroesophageal_Junction.v8.covariates.txt   | 330 |\n",
       "| Stomach.v8.covariates.txt                               | 324 |\n",
       "| Testis.v8.covariates.txt                                | 322 |\n",
       "| Colon_Sigmoid.v8.covariates.txt                         | 318 |\n",
       "| Pancreas.v8.covariates.txt                              | 305 |\n",
       "| Pituitary.v8.covariates.txt                             | 237 |\n",
       "| Adrenal_Gland.v8.covariates.txt                         | 233 |\n",
       "| Spleen.v8.covariates.txt                                | 227 |\n",
       "| Prostate.v8.covariates.txt                              | 221 |\n",
       "| Artery_Coronary.v8.covariates.txt                       | 213 |\n",
       "| Brain_Cerebellum.v8.covariates.txt                      | 209 |\n",
       "| Liver.v8.covariates.txt                                 | 208 |\n",
       "| Brain_Cortex.v8.covariates.txt                          | 205 |\n",
       "| Brain_Nucleus_accumbens_basal_ganglia.v8.covariates.txt | 202 |\n",
       "| Brain_Caudate_basal_ganglia.v8.covariates.txt           | 194 |\n",
       "| Brain_Cerebellar_Hemisphere.v8.covariates.txt           | 175 |\n",
       "| Brain_Frontal_Cortex_BA9.v8.covariates.txt              | 175 |\n",
       "| Small_Intestine_Terminal_Ileum.v8.covariates.txt        | 174 |\n",
       "| Brain_Hypothalamus.v8.covariates.txt                    | 170 |\n",
       "| Brain_Putamen_basal_ganglia.v8.covariates.txt           | 170 |\n",
       "| Ovary.v8.covariates.txt                                 | 167 |\n",
       "| Brain_Hippocampus.v8.covariates.txt                     | 165 |\n",
       "| Brain_Anterior_cingulate_cortex_BA24.v8.covariates.txt  | 147 |\n",
       "| Cells_EBV-transformed_lymphocytes.v8.covariates.txt     | 147 |\n",
       "| Minor_Salivary_Gland.v8.covariates.txt                  | 144 |\n",
       "| Vagina.v8.covariates.txt                                | 141 |\n",
       "| Brain_Amygdala.v8.covariates.txt                        | 129 |\n",
       "| Uterus.v8.covariates.txt                                | 129 |\n",
       "| Brain_Spinal_cord_cervical_c-1.v8.covariates.txt        | 126 |\n",
       "| Brain_Substantia_nigra.v8.covariates.txt                | 114 |\n",
       "| Kidney_Cortex.v8.covariates.txt                         |  73 |\n",
       "\n"
      ],
      "text/plain": [
       "   tissue                                                  sample_size\n",
       "1  Muscle_Skeletal.v8.covariates.txt                       706        \n",
       "2  Whole_Blood.v8.covariates.txt                           670        \n",
       "3  Skin_Sun_Exposed_Lower_leg.v8.covariates.txt            605        \n",
       "4  Artery_Tibial.v8.covariates.txt                         584        \n",
       "5  Adipose_Subcutaneous.v8.covariates.txt                  581        \n",
       "6  Thyroid.v8.covariates.txt                               574        \n",
       "7  Nerve_Tibial.v8.covariates.txt                          532        \n",
       "8  Skin_Not_Sun_Exposed_Suprapubic.v8.covariates.txt       517        \n",
       "9  Lung.v8.covariates.txt                                  515        \n",
       "10 Esophagus_Mucosa.v8.covariates.txt                      497        \n",
       "11 Cells_Cultured_fibroblasts.v8.covariates.txt            483        \n",
       "12 Adipose_Visceral_Omentum.v8.covariates.txt              469        \n",
       "13 Esophagus_Muscularis.v8.covariates.txt                  465        \n",
       "14 Breast_Mammary_Tissue.v8.covariates.txt                 396        \n",
       "15 Artery_Aorta.v8.covariates.txt                          387        \n",
       "16 Heart_Left_Ventricle.v8.covariates.txt                  386        \n",
       "17 Heart_Atrial_Appendage.v8.covariates.txt                372        \n",
       "18 Colon_Transverse.v8.covariates.txt                      368        \n",
       "19 Esophagus_Gastroesophageal_Junction.v8.covariates.txt   330        \n",
       "20 Stomach.v8.covariates.txt                               324        \n",
       "21 Testis.v8.covariates.txt                                322        \n",
       "22 Colon_Sigmoid.v8.covariates.txt                         318        \n",
       "23 Pancreas.v8.covariates.txt                              305        \n",
       "24 Pituitary.v8.covariates.txt                             237        \n",
       "25 Adrenal_Gland.v8.covariates.txt                         233        \n",
       "26 Spleen.v8.covariates.txt                                227        \n",
       "27 Prostate.v8.covariates.txt                              221        \n",
       "28 Artery_Coronary.v8.covariates.txt                       213        \n",
       "29 Brain_Cerebellum.v8.covariates.txt                      209        \n",
       "30 Liver.v8.covariates.txt                                 208        \n",
       "31 Brain_Cortex.v8.covariates.txt                          205        \n",
       "32 Brain_Nucleus_accumbens_basal_ganglia.v8.covariates.txt 202        \n",
       "33 Brain_Caudate_basal_ganglia.v8.covariates.txt           194        \n",
       "34 Brain_Cerebellar_Hemisphere.v8.covariates.txt           175        \n",
       "35 Brain_Frontal_Cortex_BA9.v8.covariates.txt              175        \n",
       "36 Small_Intestine_Terminal_Ileum.v8.covariates.txt        174        \n",
       "37 Brain_Hypothalamus.v8.covariates.txt                    170        \n",
       "38 Brain_Putamen_basal_ganglia.v8.covariates.txt           170        \n",
       "39 Ovary.v8.covariates.txt                                 167        \n",
       "40 Brain_Hippocampus.v8.covariates.txt                     165        \n",
       "41 Brain_Anterior_cingulate_cortex_BA24.v8.covariates.txt  147        \n",
       "42 Cells_EBV-transformed_lymphocytes.v8.covariates.txt     147        \n",
       "43 Minor_Salivary_Gland.v8.covariates.txt                  144        \n",
       "44 Vagina.v8.covariates.txt                                141        \n",
       "45 Brain_Amygdala.v8.covariates.txt                        129        \n",
       "46 Uterus.v8.covariates.txt                                129        \n",
       "47 Brain_Spinal_cord_cervical_c-1.v8.covariates.txt        126        \n",
       "48 Brain_Substantia_nigra.v8.covariates.txt                114        \n",
       "49 Kidney_Cortex.v8.covariates.txt                          73        "
      ]
     },
     "metadata": {},
     "output_type": "display_data"
    }
   ],
   "source": [
    "sample_size_cov_df %>%\n",
    "    arrange(desc(sample_size)) "
   ]
  },
  {
   "cell_type": "code",
   "execution_count": 58,
   "metadata": {},
   "outputs": [],
   "source": [
    "tissue_df_ordered <- tissue_df %>%\n",
    "    arrange(desc(sample_size)) \n",
    "sample_size_cov_df_ordered <- sample_size_cov_df  %>%\n",
    "    arrange(desc(sample_size))"
   ]
  },
  {
   "cell_type": "code",
   "execution_count": 59,
   "metadata": {},
   "outputs": [
    {
     "data": {
      "text/html": [
       "<table>\n",
       "<caption>A data.frame: 49 × 4</caption>\n",
       "<thead>\n",
       "\t<tr><th scope=col>tissue</th><th scope=col>sample_size</th><th scope=col>tissue</th><th scope=col>sample_size</th></tr>\n",
       "\t<tr><th scope=col>&lt;fct&gt;</th><th scope=col>&lt;dbl&gt;</th><th scope=col>&lt;fct&gt;</th><th scope=col>&lt;dbl&gt;</th></tr>\n",
       "</thead>\n",
       "<tbody>\n",
       "\t<tr><td>Muscle_Skeletal                      </td><td>803</td><td>Muscle_Skeletal.v8.covariates.txt                      </td><td>706</td></tr>\n",
       "\t<tr><td>Whole_Blood                          </td><td>755</td><td>Whole_Blood.v8.covariates.txt                          </td><td>670</td></tr>\n",
       "\t<tr><td>Skin_Sun_Exposed_Lower_leg           </td><td>701</td><td>Skin_Sun_Exposed_Lower_leg.v8.covariates.txt           </td><td>605</td></tr>\n",
       "\t<tr><td>Adipose_Subcutaneous                 </td><td>663</td><td>Artery_Tibial.v8.covariates.txt                        </td><td>584</td></tr>\n",
       "\t<tr><td>Artery_Tibial                        </td><td>663</td><td>Adipose_Subcutaneous.v8.covariates.txt                 </td><td>581</td></tr>\n",
       "\t<tr><td>Thyroid                              </td><td>653</td><td>Thyroid.v8.covariates.txt                              </td><td>574</td></tr>\n",
       "\t<tr><td>Nerve_Tibial                         </td><td>619</td><td>Nerve_Tibial.v8.covariates.txt                         </td><td>532</td></tr>\n",
       "\t<tr><td>Skin_Not_Sun_Exposed_Suprapubic      </td><td>604</td><td>Skin_Not_Sun_Exposed_Suprapubic.v8.covariates.txt      </td><td>517</td></tr>\n",
       "\t<tr><td>Lung                                 </td><td>578</td><td>Lung.v8.covariates.txt                                 </td><td>515</td></tr>\n",
       "\t<tr><td>Esophagus_Mucosa                     </td><td>555</td><td>Esophagus_Mucosa.v8.covariates.txt                     </td><td>497</td></tr>\n",
       "\t<tr><td>Adipose_Visceral_Omentum             </td><td>541</td><td>Cells_Cultured_fibroblasts.v8.covariates.txt           </td><td>483</td></tr>\n",
       "\t<tr><td>Esophagus_Muscularis                 </td><td>515</td><td>Adipose_Visceral_Omentum.v8.covariates.txt             </td><td>469</td></tr>\n",
       "\t<tr><td>Cells_Cultured_fibroblasts           </td><td>504</td><td>Esophagus_Muscularis.v8.covariates.txt                 </td><td>465</td></tr>\n",
       "\t<tr><td>Breast_Mammary_Tissue                </td><td>459</td><td>Breast_Mammary_Tissue.v8.covariates.txt                </td><td>396</td></tr>\n",
       "\t<tr><td>Heart_Left_Ventricle                 </td><td>432</td><td>Artery_Aorta.v8.covariates.txt                         </td><td>387</td></tr>\n",
       "\t<tr><td>Artery_Aorta                         </td><td>432</td><td>Heart_Left_Ventricle.v8.covariates.txt                 </td><td>386</td></tr>\n",
       "\t<tr><td>Heart_Atrial_Appendage               </td><td>429</td><td>Heart_Atrial_Appendage.v8.covariates.txt               </td><td>372</td></tr>\n",
       "\t<tr><td>Colon_Transverse                     </td><td>406</td><td>Colon_Transverse.v8.covariates.txt                     </td><td>368</td></tr>\n",
       "\t<tr><td>Esophagus_Gastroesophageal_Junction  </td><td>375</td><td>Esophagus_Gastroesophageal_Junction.v8.covariates.txt  </td><td>330</td></tr>\n",
       "\t<tr><td>Colon_Sigmoid                        </td><td>373</td><td>Stomach.v8.covariates.txt                              </td><td>324</td></tr>\n",
       "\t<tr><td>Testis                               </td><td>361</td><td>Testis.v8.covariates.txt                               </td><td>322</td></tr>\n",
       "\t<tr><td>Stomach                              </td><td>359</td><td>Colon_Sigmoid.v8.covariates.txt                        </td><td>318</td></tr>\n",
       "\t<tr><td>Pancreas                             </td><td>328</td><td>Pancreas.v8.covariates.txt                             </td><td>305</td></tr>\n",
       "\t<tr><td>Pituitary                            </td><td>283</td><td>Pituitary.v8.covariates.txt                            </td><td>237</td></tr>\n",
       "\t<tr><td>Adrenal_Gland                        </td><td>258</td><td>Adrenal_Gland.v8.covariates.txt                        </td><td>233</td></tr>\n",
       "\t<tr><td>Brain_Cortex                         </td><td>255</td><td>Spleen.v8.covariates.txt                               </td><td>227</td></tr>\n",
       "\t<tr><td>Brain_Caudate_basal_ganglia          </td><td>246</td><td>Prostate.v8.covariates.txt                             </td><td>221</td></tr>\n",
       "\t<tr><td>Brain_Nucleus_accumbens_basal_ganglia</td><td>246</td><td>Artery_Coronary.v8.covariates.txt                      </td><td>213</td></tr>\n",
       "\t<tr><td>Prostate                             </td><td>245</td><td>Brain_Cerebellum.v8.covariates.txt                     </td><td>209</td></tr>\n",
       "\t<tr><td>Spleen                               </td><td>241</td><td>Liver.v8.covariates.txt                                </td><td>208</td></tr>\n",
       "\t<tr><td>Brain_Cerebellum                     </td><td>241</td><td>Brain_Cortex.v8.covariates.txt                         </td><td>205</td></tr>\n",
       "\t<tr><td>Artery_Coronary                      </td><td>240</td><td>Brain_Nucleus_accumbens_basal_ganglia.v8.covariates.txt</td><td>202</td></tr>\n",
       "\t<tr><td>Liver                                </td><td>226</td><td>Brain_Caudate_basal_ganglia.v8.covariates.txt          </td><td>194</td></tr>\n",
       "\t<tr><td>Brain_Cerebellar_Hemisphere          </td><td>215</td><td>Brain_Cerebellar_Hemisphere.v8.covariates.txt          </td><td>175</td></tr>\n",
       "\t<tr><td>Brain_Frontal_Cortex_BA9             </td><td>209</td><td>Brain_Frontal_Cortex_BA9.v8.covariates.txt             </td><td>175</td></tr>\n",
       "\t<tr><td>Brain_Putamen_basal_ganglia          </td><td>205</td><td>Small_Intestine_Terminal_Ileum.v8.covariates.txt       </td><td>174</td></tr>\n",
       "\t<tr><td>Brain_Hypothalamus                   </td><td>202</td><td>Brain_Hypothalamus.v8.covariates.txt                   </td><td>170</td></tr>\n",
       "\t<tr><td>Brain_Hippocampus                    </td><td>197</td><td>Brain_Putamen_basal_ganglia.v8.covariates.txt          </td><td>170</td></tr>\n",
       "\t<tr><td>Small_Intestine_Terminal_Ileum       </td><td>187</td><td>Ovary.v8.covariates.txt                                </td><td>167</td></tr>\n",
       "\t<tr><td>Ovary                                </td><td>180</td><td>Brain_Hippocampus.v8.covariates.txt                    </td><td>165</td></tr>\n",
       "\t<tr><td>Brain_Anterior_cingulate_cortex_BA24 </td><td>176</td><td>Brain_Anterior_cingulate_cortex_BA24.v8.covariates.txt </td><td>147</td></tr>\n",
       "\t<tr><td>Cells_EBV-transformed_lymphocytes    </td><td>174</td><td>Cells_EBV-transformed_lymphocytes.v8.covariates.txt    </td><td>147</td></tr>\n",
       "\t<tr><td>Minor_Salivary_Gland                 </td><td>162</td><td>Minor_Salivary_Gland.v8.covariates.txt                 </td><td>144</td></tr>\n",
       "\t<tr><td>Brain_Spinal_cord_cervical_c-1       </td><td>159</td><td>Vagina.v8.covariates.txt                               </td><td>141</td></tr>\n",
       "\t<tr><td>Vagina                               </td><td>156</td><td>Brain_Amygdala.v8.covariates.txt                       </td><td>129</td></tr>\n",
       "\t<tr><td>Brain_Amygdala                       </td><td>152</td><td>Uterus.v8.covariates.txt                               </td><td>129</td></tr>\n",
       "\t<tr><td>Uterus                               </td><td>142</td><td>Brain_Spinal_cord_cervical_c-1.v8.covariates.txt       </td><td>126</td></tr>\n",
       "\t<tr><td>Brain_Substantia_nigra               </td><td>139</td><td>Brain_Substantia_nigra.v8.covariates.txt               </td><td>114</td></tr>\n",
       "\t<tr><td>Kidney_Cortex                        </td><td> 85</td><td>Kidney_Cortex.v8.covariates.txt                        </td><td> 73</td></tr>\n",
       "</tbody>\n",
       "</table>\n"
      ],
      "text/latex": [
       "A data.frame: 49 × 4\n",
       "\\begin{tabular}{r|llll}\n",
       " tissue & sample\\_size & tissue & sample\\_size\\\\\n",
       " <fct> & <dbl> & <fct> & <dbl>\\\\\n",
       "\\hline\n",
       "\t Muscle\\_Skeletal                       & 803 & Muscle\\_Skeletal.v8.covariates.txt                       & 706\\\\\n",
       "\t Whole\\_Blood                           & 755 & Whole\\_Blood.v8.covariates.txt                           & 670\\\\\n",
       "\t Skin\\_Sun\\_Exposed\\_Lower\\_leg            & 701 & Skin\\_Sun\\_Exposed\\_Lower\\_leg.v8.covariates.txt            & 605\\\\\n",
       "\t Adipose\\_Subcutaneous                  & 663 & Artery\\_Tibial.v8.covariates.txt                         & 584\\\\\n",
       "\t Artery\\_Tibial                         & 663 & Adipose\\_Subcutaneous.v8.covariates.txt                  & 581\\\\\n",
       "\t Thyroid                               & 653 & Thyroid.v8.covariates.txt                               & 574\\\\\n",
       "\t Nerve\\_Tibial                          & 619 & Nerve\\_Tibial.v8.covariates.txt                          & 532\\\\\n",
       "\t Skin\\_Not\\_Sun\\_Exposed\\_Suprapubic       & 604 & Skin\\_Not\\_Sun\\_Exposed\\_Suprapubic.v8.covariates.txt       & 517\\\\\n",
       "\t Lung                                  & 578 & Lung.v8.covariates.txt                                  & 515\\\\\n",
       "\t Esophagus\\_Mucosa                      & 555 & Esophagus\\_Mucosa.v8.covariates.txt                      & 497\\\\\n",
       "\t Adipose\\_Visceral\\_Omentum              & 541 & Cells\\_Cultured\\_fibroblasts.v8.covariates.txt            & 483\\\\\n",
       "\t Esophagus\\_Muscularis                  & 515 & Adipose\\_Visceral\\_Omentum.v8.covariates.txt              & 469\\\\\n",
       "\t Cells\\_Cultured\\_fibroblasts            & 504 & Esophagus\\_Muscularis.v8.covariates.txt                  & 465\\\\\n",
       "\t Breast\\_Mammary\\_Tissue                 & 459 & Breast\\_Mammary\\_Tissue.v8.covariates.txt                 & 396\\\\\n",
       "\t Heart\\_Left\\_Ventricle                  & 432 & Artery\\_Aorta.v8.covariates.txt                          & 387\\\\\n",
       "\t Artery\\_Aorta                          & 432 & Heart\\_Left\\_Ventricle.v8.covariates.txt                  & 386\\\\\n",
       "\t Heart\\_Atrial\\_Appendage                & 429 & Heart\\_Atrial\\_Appendage.v8.covariates.txt                & 372\\\\\n",
       "\t Colon\\_Transverse                      & 406 & Colon\\_Transverse.v8.covariates.txt                      & 368\\\\\n",
       "\t Esophagus\\_Gastroesophageal\\_Junction   & 375 & Esophagus\\_Gastroesophageal\\_Junction.v8.covariates.txt   & 330\\\\\n",
       "\t Colon\\_Sigmoid                         & 373 & Stomach.v8.covariates.txt                               & 324\\\\\n",
       "\t Testis                                & 361 & Testis.v8.covariates.txt                                & 322\\\\\n",
       "\t Stomach                               & 359 & Colon\\_Sigmoid.v8.covariates.txt                         & 318\\\\\n",
       "\t Pancreas                              & 328 & Pancreas.v8.covariates.txt                              & 305\\\\\n",
       "\t Pituitary                             & 283 & Pituitary.v8.covariates.txt                             & 237\\\\\n",
       "\t Adrenal\\_Gland                         & 258 & Adrenal\\_Gland.v8.covariates.txt                         & 233\\\\\n",
       "\t Brain\\_Cortex                          & 255 & Spleen.v8.covariates.txt                                & 227\\\\\n",
       "\t Brain\\_Caudate\\_basal\\_ganglia           & 246 & Prostate.v8.covariates.txt                              & 221\\\\\n",
       "\t Brain\\_Nucleus\\_accumbens\\_basal\\_ganglia & 246 & Artery\\_Coronary.v8.covariates.txt                       & 213\\\\\n",
       "\t Prostate                              & 245 & Brain\\_Cerebellum.v8.covariates.txt                      & 209\\\\\n",
       "\t Spleen                                & 241 & Liver.v8.covariates.txt                                 & 208\\\\\n",
       "\t Brain\\_Cerebellum                      & 241 & Brain\\_Cortex.v8.covariates.txt                          & 205\\\\\n",
       "\t Artery\\_Coronary                       & 240 & Brain\\_Nucleus\\_accumbens\\_basal\\_ganglia.v8.covariates.txt & 202\\\\\n",
       "\t Liver                                 & 226 & Brain\\_Caudate\\_basal\\_ganglia.v8.covariates.txt           & 194\\\\\n",
       "\t Brain\\_Cerebellar\\_Hemisphere           & 215 & Brain\\_Cerebellar\\_Hemisphere.v8.covariates.txt           & 175\\\\\n",
       "\t Brain\\_Frontal\\_Cortex\\_BA9              & 209 & Brain\\_Frontal\\_Cortex\\_BA9.v8.covariates.txt              & 175\\\\\n",
       "\t Brain\\_Putamen\\_basal\\_ganglia           & 205 & Small\\_Intestine\\_Terminal\\_Ileum.v8.covariates.txt        & 174\\\\\n",
       "\t Brain\\_Hypothalamus                    & 202 & Brain\\_Hypothalamus.v8.covariates.txt                    & 170\\\\\n",
       "\t Brain\\_Hippocampus                     & 197 & Brain\\_Putamen\\_basal\\_ganglia.v8.covariates.txt           & 170\\\\\n",
       "\t Small\\_Intestine\\_Terminal\\_Ileum        & 187 & Ovary.v8.covariates.txt                                 & 167\\\\\n",
       "\t Ovary                                 & 180 & Brain\\_Hippocampus.v8.covariates.txt                     & 165\\\\\n",
       "\t Brain\\_Anterior\\_cingulate\\_cortex\\_BA24  & 176 & Brain\\_Anterior\\_cingulate\\_cortex\\_BA24.v8.covariates.txt  & 147\\\\\n",
       "\t Cells\\_EBV-transformed\\_lymphocytes     & 174 & Cells\\_EBV-transformed\\_lymphocytes.v8.covariates.txt     & 147\\\\\n",
       "\t Minor\\_Salivary\\_Gland                  & 162 & Minor\\_Salivary\\_Gland.v8.covariates.txt                  & 144\\\\\n",
       "\t Brain\\_Spinal\\_cord\\_cervical\\_c-1        & 159 & Vagina.v8.covariates.txt                                & 141\\\\\n",
       "\t Vagina                                & 156 & Brain\\_Amygdala.v8.covariates.txt                        & 129\\\\\n",
       "\t Brain\\_Amygdala                        & 152 & Uterus.v8.covariates.txt                                & 129\\\\\n",
       "\t Uterus                                & 142 & Brain\\_Spinal\\_cord\\_cervical\\_c-1.v8.covariates.txt        & 126\\\\\n",
       "\t Brain\\_Substantia\\_nigra                & 139 & Brain\\_Substantia\\_nigra.v8.covariates.txt                & 114\\\\\n",
       "\t Kidney\\_Cortex                         &  85 & Kidney\\_Cortex.v8.covariates.txt                         &  73\\\\\n",
       "\\end{tabular}\n"
      ],
      "text/markdown": [
       "\n",
       "A data.frame: 49 × 4\n",
       "\n",
       "| tissue &lt;fct&gt; | sample_size &lt;dbl&gt; | tissue &lt;fct&gt; | sample_size &lt;dbl&gt; |\n",
       "|---|---|---|---|\n",
       "| Muscle_Skeletal                       | 803 | Muscle_Skeletal.v8.covariates.txt                       | 706 |\n",
       "| Whole_Blood                           | 755 | Whole_Blood.v8.covariates.txt                           | 670 |\n",
       "| Skin_Sun_Exposed_Lower_leg            | 701 | Skin_Sun_Exposed_Lower_leg.v8.covariates.txt            | 605 |\n",
       "| Adipose_Subcutaneous                  | 663 | Artery_Tibial.v8.covariates.txt                         | 584 |\n",
       "| Artery_Tibial                         | 663 | Adipose_Subcutaneous.v8.covariates.txt                  | 581 |\n",
       "| Thyroid                               | 653 | Thyroid.v8.covariates.txt                               | 574 |\n",
       "| Nerve_Tibial                          | 619 | Nerve_Tibial.v8.covariates.txt                          | 532 |\n",
       "| Skin_Not_Sun_Exposed_Suprapubic       | 604 | Skin_Not_Sun_Exposed_Suprapubic.v8.covariates.txt       | 517 |\n",
       "| Lung                                  | 578 | Lung.v8.covariates.txt                                  | 515 |\n",
       "| Esophagus_Mucosa                      | 555 | Esophagus_Mucosa.v8.covariates.txt                      | 497 |\n",
       "| Adipose_Visceral_Omentum              | 541 | Cells_Cultured_fibroblasts.v8.covariates.txt            | 483 |\n",
       "| Esophagus_Muscularis                  | 515 | Adipose_Visceral_Omentum.v8.covariates.txt              | 469 |\n",
       "| Cells_Cultured_fibroblasts            | 504 | Esophagus_Muscularis.v8.covariates.txt                  | 465 |\n",
       "| Breast_Mammary_Tissue                 | 459 | Breast_Mammary_Tissue.v8.covariates.txt                 | 396 |\n",
       "| Heart_Left_Ventricle                  | 432 | Artery_Aorta.v8.covariates.txt                          | 387 |\n",
       "| Artery_Aorta                          | 432 | Heart_Left_Ventricle.v8.covariates.txt                  | 386 |\n",
       "| Heart_Atrial_Appendage                | 429 | Heart_Atrial_Appendage.v8.covariates.txt                | 372 |\n",
       "| Colon_Transverse                      | 406 | Colon_Transverse.v8.covariates.txt                      | 368 |\n",
       "| Esophagus_Gastroesophageal_Junction   | 375 | Esophagus_Gastroesophageal_Junction.v8.covariates.txt   | 330 |\n",
       "| Colon_Sigmoid                         | 373 | Stomach.v8.covariates.txt                               | 324 |\n",
       "| Testis                                | 361 | Testis.v8.covariates.txt                                | 322 |\n",
       "| Stomach                               | 359 | Colon_Sigmoid.v8.covariates.txt                         | 318 |\n",
       "| Pancreas                              | 328 | Pancreas.v8.covariates.txt                              | 305 |\n",
       "| Pituitary                             | 283 | Pituitary.v8.covariates.txt                             | 237 |\n",
       "| Adrenal_Gland                         | 258 | Adrenal_Gland.v8.covariates.txt                         | 233 |\n",
       "| Brain_Cortex                          | 255 | Spleen.v8.covariates.txt                                | 227 |\n",
       "| Brain_Caudate_basal_ganglia           | 246 | Prostate.v8.covariates.txt                              | 221 |\n",
       "| Brain_Nucleus_accumbens_basal_ganglia | 246 | Artery_Coronary.v8.covariates.txt                       | 213 |\n",
       "| Prostate                              | 245 | Brain_Cerebellum.v8.covariates.txt                      | 209 |\n",
       "| Spleen                                | 241 | Liver.v8.covariates.txt                                 | 208 |\n",
       "| Brain_Cerebellum                      | 241 | Brain_Cortex.v8.covariates.txt                          | 205 |\n",
       "| Artery_Coronary                       | 240 | Brain_Nucleus_accumbens_basal_ganglia.v8.covariates.txt | 202 |\n",
       "| Liver                                 | 226 | Brain_Caudate_basal_ganglia.v8.covariates.txt           | 194 |\n",
       "| Brain_Cerebellar_Hemisphere           | 215 | Brain_Cerebellar_Hemisphere.v8.covariates.txt           | 175 |\n",
       "| Brain_Frontal_Cortex_BA9              | 209 | Brain_Frontal_Cortex_BA9.v8.covariates.txt              | 175 |\n",
       "| Brain_Putamen_basal_ganglia           | 205 | Small_Intestine_Terminal_Ileum.v8.covariates.txt        | 174 |\n",
       "| Brain_Hypothalamus                    | 202 | Brain_Hypothalamus.v8.covariates.txt                    | 170 |\n",
       "| Brain_Hippocampus                     | 197 | Brain_Putamen_basal_ganglia.v8.covariates.txt           | 170 |\n",
       "| Small_Intestine_Terminal_Ileum        | 187 | Ovary.v8.covariates.txt                                 | 167 |\n",
       "| Ovary                                 | 180 | Brain_Hippocampus.v8.covariates.txt                     | 165 |\n",
       "| Brain_Anterior_cingulate_cortex_BA24  | 176 | Brain_Anterior_cingulate_cortex_BA24.v8.covariates.txt  | 147 |\n",
       "| Cells_EBV-transformed_lymphocytes     | 174 | Cells_EBV-transformed_lymphocytes.v8.covariates.txt     | 147 |\n",
       "| Minor_Salivary_Gland                  | 162 | Minor_Salivary_Gland.v8.covariates.txt                  | 144 |\n",
       "| Brain_Spinal_cord_cervical_c-1        | 159 | Vagina.v8.covariates.txt                                | 141 |\n",
       "| Vagina                                | 156 | Brain_Amygdala.v8.covariates.txt                        | 129 |\n",
       "| Brain_Amygdala                        | 152 | Uterus.v8.covariates.txt                                | 129 |\n",
       "| Uterus                                | 142 | Brain_Spinal_cord_cervical_c-1.v8.covariates.txt        | 126 |\n",
       "| Brain_Substantia_nigra                | 139 | Brain_Substantia_nigra.v8.covariates.txt                | 114 |\n",
       "| Kidney_Cortex                         |  85 | Kidney_Cortex.v8.covariates.txt                         |  73 |\n",
       "\n"
      ],
      "text/plain": [
       "   tissue                                sample_size\n",
       "1  Muscle_Skeletal                       803        \n",
       "2  Whole_Blood                           755        \n",
       "3  Skin_Sun_Exposed_Lower_leg            701        \n",
       "4  Adipose_Subcutaneous                  663        \n",
       "5  Artery_Tibial                         663        \n",
       "6  Thyroid                               653        \n",
       "7  Nerve_Tibial                          619        \n",
       "8  Skin_Not_Sun_Exposed_Suprapubic       604        \n",
       "9  Lung                                  578        \n",
       "10 Esophagus_Mucosa                      555        \n",
       "11 Adipose_Visceral_Omentum              541        \n",
       "12 Esophagus_Muscularis                  515        \n",
       "13 Cells_Cultured_fibroblasts            504        \n",
       "14 Breast_Mammary_Tissue                 459        \n",
       "15 Heart_Left_Ventricle                  432        \n",
       "16 Artery_Aorta                          432        \n",
       "17 Heart_Atrial_Appendage                429        \n",
       "18 Colon_Transverse                      406        \n",
       "19 Esophagus_Gastroesophageal_Junction   375        \n",
       "20 Colon_Sigmoid                         373        \n",
       "21 Testis                                361        \n",
       "22 Stomach                               359        \n",
       "23 Pancreas                              328        \n",
       "24 Pituitary                             283        \n",
       "25 Adrenal_Gland                         258        \n",
       "26 Brain_Cortex                          255        \n",
       "27 Brain_Caudate_basal_ganglia           246        \n",
       "28 Brain_Nucleus_accumbens_basal_ganglia 246        \n",
       "29 Prostate                              245        \n",
       "30 Spleen                                241        \n",
       "31 Brain_Cerebellum                      241        \n",
       "32 Artery_Coronary                       240        \n",
       "33 Liver                                 226        \n",
       "34 Brain_Cerebellar_Hemisphere           215        \n",
       "35 Brain_Frontal_Cortex_BA9              209        \n",
       "36 Brain_Putamen_basal_ganglia           205        \n",
       "37 Brain_Hypothalamus                    202        \n",
       "38 Brain_Hippocampus                     197        \n",
       "39 Small_Intestine_Terminal_Ileum        187        \n",
       "40 Ovary                                 180        \n",
       "41 Brain_Anterior_cingulate_cortex_BA24  176        \n",
       "42 Cells_EBV-transformed_lymphocytes     174        \n",
       "43 Minor_Salivary_Gland                  162        \n",
       "44 Brain_Spinal_cord_cervical_c-1        159        \n",
       "45 Vagina                                156        \n",
       "46 Brain_Amygdala                        152        \n",
       "47 Uterus                                142        \n",
       "48 Brain_Substantia_nigra                139        \n",
       "49 Kidney_Cortex                          85        \n",
       "   tissue                                                  sample_size\n",
       "1  Muscle_Skeletal.v8.covariates.txt                       706        \n",
       "2  Whole_Blood.v8.covariates.txt                           670        \n",
       "3  Skin_Sun_Exposed_Lower_leg.v8.covariates.txt            605        \n",
       "4  Artery_Tibial.v8.covariates.txt                         584        \n",
       "5  Adipose_Subcutaneous.v8.covariates.txt                  581        \n",
       "6  Thyroid.v8.covariates.txt                               574        \n",
       "7  Nerve_Tibial.v8.covariates.txt                          532        \n",
       "8  Skin_Not_Sun_Exposed_Suprapubic.v8.covariates.txt       517        \n",
       "9  Lung.v8.covariates.txt                                  515        \n",
       "10 Esophagus_Mucosa.v8.covariates.txt                      497        \n",
       "11 Cells_Cultured_fibroblasts.v8.covariates.txt            483        \n",
       "12 Adipose_Visceral_Omentum.v8.covariates.txt              469        \n",
       "13 Esophagus_Muscularis.v8.covariates.txt                  465        \n",
       "14 Breast_Mammary_Tissue.v8.covariates.txt                 396        \n",
       "15 Artery_Aorta.v8.covariates.txt                          387        \n",
       "16 Heart_Left_Ventricle.v8.covariates.txt                  386        \n",
       "17 Heart_Atrial_Appendage.v8.covariates.txt                372        \n",
       "18 Colon_Transverse.v8.covariates.txt                      368        \n",
       "19 Esophagus_Gastroesophageal_Junction.v8.covariates.txt   330        \n",
       "20 Stomach.v8.covariates.txt                               324        \n",
       "21 Testis.v8.covariates.txt                                322        \n",
       "22 Colon_Sigmoid.v8.covariates.txt                         318        \n",
       "23 Pancreas.v8.covariates.txt                              305        \n",
       "24 Pituitary.v8.covariates.txt                             237        \n",
       "25 Adrenal_Gland.v8.covariates.txt                         233        \n",
       "26 Spleen.v8.covariates.txt                                227        \n",
       "27 Prostate.v8.covariates.txt                              221        \n",
       "28 Artery_Coronary.v8.covariates.txt                       213        \n",
       "29 Brain_Cerebellum.v8.covariates.txt                      209        \n",
       "30 Liver.v8.covariates.txt                                 208        \n",
       "31 Brain_Cortex.v8.covariates.txt                          205        \n",
       "32 Brain_Nucleus_accumbens_basal_ganglia.v8.covariates.txt 202        \n",
       "33 Brain_Caudate_basal_ganglia.v8.covariates.txt           194        \n",
       "34 Brain_Cerebellar_Hemisphere.v8.covariates.txt           175        \n",
       "35 Brain_Frontal_Cortex_BA9.v8.covariates.txt              175        \n",
       "36 Small_Intestine_Terminal_Ileum.v8.covariates.txt        174        \n",
       "37 Brain_Hypothalamus.v8.covariates.txt                    170        \n",
       "38 Brain_Putamen_basal_ganglia.v8.covariates.txt           170        \n",
       "39 Ovary.v8.covariates.txt                                 167        \n",
       "40 Brain_Hippocampus.v8.covariates.txt                     165        \n",
       "41 Brain_Anterior_cingulate_cortex_BA24.v8.covariates.txt  147        \n",
       "42 Cells_EBV-transformed_lymphocytes.v8.covariates.txt     147        \n",
       "43 Minor_Salivary_Gland.v8.covariates.txt                  144        \n",
       "44 Vagina.v8.covariates.txt                                141        \n",
       "45 Brain_Amygdala.v8.covariates.txt                        129        \n",
       "46 Uterus.v8.covariates.txt                                129        \n",
       "47 Brain_Spinal_cord_cervical_c-1.v8.covariates.txt        126        \n",
       "48 Brain_Substantia_nigra.v8.covariates.txt                114        \n",
       "49 Kidney_Cortex.v8.covariates.txt                          73        "
      ]
     },
     "metadata": {},
     "output_type": "display_data"
    }
   ],
   "source": [
    "cbind(tissue_df_ordered[1:49,], sample_size_cov_df_ordered)"
   ]
  },
  {
   "cell_type": "code",
   "execution_count": 66,
   "metadata": {},
   "outputs": [
    {
     "data": {
      "text/html": [
       "<table>\n",
       "<caption>A data.frame: 49 × 3</caption>\n",
       "<thead>\n",
       "\t<tr><th scope=col>tissue</th><th scope=col>number_cov</th><th scope=col>sample_size</th></tr>\n",
       "\t<tr><th scope=col>&lt;fct&gt;</th><th scope=col>&lt;dbl&gt;</th><th scope=col>&lt;dbl&gt;</th></tr>\n",
       "</thead>\n",
       "<tbody>\n",
       "\t<tr><td>Adipose_Subcutaneous.v8.covariates.txt                 </td><td>68</td><td>581</td></tr>\n",
       "\t<tr><td>Adipose_Visceral_Omentum.v8.covariates.txt             </td><td>68</td><td>469</td></tr>\n",
       "\t<tr><td>Artery_Aorta.v8.covariates.txt                         </td><td>68</td><td>387</td></tr>\n",
       "\t<tr><td>Artery_Tibial.v8.covariates.txt                        </td><td>68</td><td>584</td></tr>\n",
       "\t<tr><td>Breast_Mammary_Tissue.v8.covariates.txt                </td><td>68</td><td>396</td></tr>\n",
       "\t<tr><td>Cells_Cultured_fibroblasts.v8.covariates.txt           </td><td>68</td><td>483</td></tr>\n",
       "\t<tr><td>Colon_Transverse.v8.covariates.txt                     </td><td>68</td><td>368</td></tr>\n",
       "\t<tr><td>Esophagus_Mucosa.v8.covariates.txt                     </td><td>68</td><td>497</td></tr>\n",
       "\t<tr><td>Esophagus_Muscularis.v8.covariates.txt                 </td><td>68</td><td>465</td></tr>\n",
       "\t<tr><td>Heart_Atrial_Appendage.v8.covariates.txt               </td><td>68</td><td>372</td></tr>\n",
       "\t<tr><td>Heart_Left_Ventricle.v8.covariates.txt                 </td><td>68</td><td>386</td></tr>\n",
       "\t<tr><td>Lung.v8.covariates.txt                                 </td><td>68</td><td>515</td></tr>\n",
       "\t<tr><td>Muscle_Skeletal.v8.covariates.txt                      </td><td>68</td><td>706</td></tr>\n",
       "\t<tr><td>Nerve_Tibial.v8.covariates.txt                         </td><td>68</td><td>532</td></tr>\n",
       "\t<tr><td>Skin_Not_Sun_Exposed_Suprapubic.v8.covariates.txt      </td><td>68</td><td>517</td></tr>\n",
       "\t<tr><td>Skin_Sun_Exposed_Lower_leg.v8.covariates.txt           </td><td>68</td><td>605</td></tr>\n",
       "\t<tr><td>Thyroid.v8.covariates.txt                              </td><td>68</td><td>574</td></tr>\n",
       "\t<tr><td>Whole_Blood.v8.covariates.txt                          </td><td>68</td><td>670</td></tr>\n",
       "\t<tr><td>Colon_Sigmoid.v8.covariates.txt                        </td><td>53</td><td>318</td></tr>\n",
       "\t<tr><td>Esophagus_Gastroesophageal_Junction.v8.covariates.txt  </td><td>53</td><td>330</td></tr>\n",
       "\t<tr><td>Pancreas.v8.covariates.txt                             </td><td>53</td><td>305</td></tr>\n",
       "\t<tr><td>Stomach.v8.covariates.txt                              </td><td>53</td><td>324</td></tr>\n",
       "\t<tr><td>Testis.v8.covariates.txt                               </td><td>53</td><td>322</td></tr>\n",
       "\t<tr><td>Adrenal_Gland.v8.covariates.txt                        </td><td>38</td><td>233</td></tr>\n",
       "\t<tr><td>Artery_Coronary.v8.covariates.txt                      </td><td>38</td><td>213</td></tr>\n",
       "\t<tr><td>Brain_Caudate_basal_ganglia.v8.covariates.txt          </td><td>38</td><td>194</td></tr>\n",
       "\t<tr><td>Brain_Cerebellar_Hemisphere.v8.covariates.txt          </td><td>38</td><td>175</td></tr>\n",
       "\t<tr><td>Brain_Cerebellum.v8.covariates.txt                     </td><td>38</td><td>209</td></tr>\n",
       "\t<tr><td>Brain_Cortex.v8.covariates.txt                         </td><td>38</td><td>205</td></tr>\n",
       "\t<tr><td>Brain_Frontal_Cortex_BA9.v8.covariates.txt             </td><td>38</td><td>175</td></tr>\n",
       "\t<tr><td>Brain_Hippocampus.v8.covariates.txt                    </td><td>38</td><td>165</td></tr>\n",
       "\t<tr><td>Brain_Hypothalamus.v8.covariates.txt                   </td><td>38</td><td>170</td></tr>\n",
       "\t<tr><td>Brain_Nucleus_accumbens_basal_ganglia.v8.covariates.txt</td><td>38</td><td>202</td></tr>\n",
       "\t<tr><td>Brain_Putamen_basal_ganglia.v8.covariates.txt          </td><td>38</td><td>170</td></tr>\n",
       "\t<tr><td>Liver.v8.covariates.txt                                </td><td>38</td><td>208</td></tr>\n",
       "\t<tr><td>Ovary.v8.covariates.txt                                </td><td>38</td><td>167</td></tr>\n",
       "\t<tr><td>Pituitary.v8.covariates.txt                            </td><td>38</td><td>237</td></tr>\n",
       "\t<tr><td>Prostate.v8.covariates.txt                             </td><td>38</td><td>221</td></tr>\n",
       "\t<tr><td>Small_Intestine_Terminal_Ileum.v8.covariates.txt       </td><td>38</td><td>174</td></tr>\n",
       "\t<tr><td>Spleen.v8.covariates.txt                               </td><td>38</td><td>227</td></tr>\n",
       "\t<tr><td>Brain_Amygdala.v8.covariates.txt                       </td><td>23</td><td>129</td></tr>\n",
       "\t<tr><td>Brain_Anterior_cingulate_cortex_BA24.v8.covariates.txt </td><td>23</td><td>147</td></tr>\n",
       "\t<tr><td>Brain_Spinal_cord_cervical_c-1.v8.covariates.txt       </td><td>23</td><td>126</td></tr>\n",
       "\t<tr><td>Brain_Substantia_nigra.v8.covariates.txt               </td><td>23</td><td>114</td></tr>\n",
       "\t<tr><td>Cells_EBV-transformed_lymphocytes.v8.covariates.txt    </td><td>23</td><td>147</td></tr>\n",
       "\t<tr><td>Kidney_Cortex.v8.covariates.txt                        </td><td>23</td><td> 73</td></tr>\n",
       "\t<tr><td>Minor_Salivary_Gland.v8.covariates.txt                 </td><td>23</td><td>144</td></tr>\n",
       "\t<tr><td>Uterus.v8.covariates.txt                               </td><td>23</td><td>129</td></tr>\n",
       "\t<tr><td>Vagina.v8.covariates.txt                               </td><td>23</td><td>141</td></tr>\n",
       "</tbody>\n",
       "</table>\n"
      ],
      "text/latex": [
       "A data.frame: 49 × 3\n",
       "\\begin{tabular}{r|lll}\n",
       " tissue & number\\_cov & sample\\_size\\\\\n",
       " <fct> & <dbl> & <dbl>\\\\\n",
       "\\hline\n",
       "\t Adipose\\_Subcutaneous.v8.covariates.txt                  & 68 & 581\\\\\n",
       "\t Adipose\\_Visceral\\_Omentum.v8.covariates.txt              & 68 & 469\\\\\n",
       "\t Artery\\_Aorta.v8.covariates.txt                          & 68 & 387\\\\\n",
       "\t Artery\\_Tibial.v8.covariates.txt                         & 68 & 584\\\\\n",
       "\t Breast\\_Mammary\\_Tissue.v8.covariates.txt                 & 68 & 396\\\\\n",
       "\t Cells\\_Cultured\\_fibroblasts.v8.covariates.txt            & 68 & 483\\\\\n",
       "\t Colon\\_Transverse.v8.covariates.txt                      & 68 & 368\\\\\n",
       "\t Esophagus\\_Mucosa.v8.covariates.txt                      & 68 & 497\\\\\n",
       "\t Esophagus\\_Muscularis.v8.covariates.txt                  & 68 & 465\\\\\n",
       "\t Heart\\_Atrial\\_Appendage.v8.covariates.txt                & 68 & 372\\\\\n",
       "\t Heart\\_Left\\_Ventricle.v8.covariates.txt                  & 68 & 386\\\\\n",
       "\t Lung.v8.covariates.txt                                  & 68 & 515\\\\\n",
       "\t Muscle\\_Skeletal.v8.covariates.txt                       & 68 & 706\\\\\n",
       "\t Nerve\\_Tibial.v8.covariates.txt                          & 68 & 532\\\\\n",
       "\t Skin\\_Not\\_Sun\\_Exposed\\_Suprapubic.v8.covariates.txt       & 68 & 517\\\\\n",
       "\t Skin\\_Sun\\_Exposed\\_Lower\\_leg.v8.covariates.txt            & 68 & 605\\\\\n",
       "\t Thyroid.v8.covariates.txt                               & 68 & 574\\\\\n",
       "\t Whole\\_Blood.v8.covariates.txt                           & 68 & 670\\\\\n",
       "\t Colon\\_Sigmoid.v8.covariates.txt                         & 53 & 318\\\\\n",
       "\t Esophagus\\_Gastroesophageal\\_Junction.v8.covariates.txt   & 53 & 330\\\\\n",
       "\t Pancreas.v8.covariates.txt                              & 53 & 305\\\\\n",
       "\t Stomach.v8.covariates.txt                               & 53 & 324\\\\\n",
       "\t Testis.v8.covariates.txt                                & 53 & 322\\\\\n",
       "\t Adrenal\\_Gland.v8.covariates.txt                         & 38 & 233\\\\\n",
       "\t Artery\\_Coronary.v8.covariates.txt                       & 38 & 213\\\\\n",
       "\t Brain\\_Caudate\\_basal\\_ganglia.v8.covariates.txt           & 38 & 194\\\\\n",
       "\t Brain\\_Cerebellar\\_Hemisphere.v8.covariates.txt           & 38 & 175\\\\\n",
       "\t Brain\\_Cerebellum.v8.covariates.txt                      & 38 & 209\\\\\n",
       "\t Brain\\_Cortex.v8.covariates.txt                          & 38 & 205\\\\\n",
       "\t Brain\\_Frontal\\_Cortex\\_BA9.v8.covariates.txt              & 38 & 175\\\\\n",
       "\t Brain\\_Hippocampus.v8.covariates.txt                     & 38 & 165\\\\\n",
       "\t Brain\\_Hypothalamus.v8.covariates.txt                    & 38 & 170\\\\\n",
       "\t Brain\\_Nucleus\\_accumbens\\_basal\\_ganglia.v8.covariates.txt & 38 & 202\\\\\n",
       "\t Brain\\_Putamen\\_basal\\_ganglia.v8.covariates.txt           & 38 & 170\\\\\n",
       "\t Liver.v8.covariates.txt                                 & 38 & 208\\\\\n",
       "\t Ovary.v8.covariates.txt                                 & 38 & 167\\\\\n",
       "\t Pituitary.v8.covariates.txt                             & 38 & 237\\\\\n",
       "\t Prostate.v8.covariates.txt                              & 38 & 221\\\\\n",
       "\t Small\\_Intestine\\_Terminal\\_Ileum.v8.covariates.txt        & 38 & 174\\\\\n",
       "\t Spleen.v8.covariates.txt                                & 38 & 227\\\\\n",
       "\t Brain\\_Amygdala.v8.covariates.txt                        & 23 & 129\\\\\n",
       "\t Brain\\_Anterior\\_cingulate\\_cortex\\_BA24.v8.covariates.txt  & 23 & 147\\\\\n",
       "\t Brain\\_Spinal\\_cord\\_cervical\\_c-1.v8.covariates.txt        & 23 & 126\\\\\n",
       "\t Brain\\_Substantia\\_nigra.v8.covariates.txt                & 23 & 114\\\\\n",
       "\t Cells\\_EBV-transformed\\_lymphocytes.v8.covariates.txt     & 23 & 147\\\\\n",
       "\t Kidney\\_Cortex.v8.covariates.txt                         & 23 &  73\\\\\n",
       "\t Minor\\_Salivary\\_Gland.v8.covariates.txt                  & 23 & 144\\\\\n",
       "\t Uterus.v8.covariates.txt                                & 23 & 129\\\\\n",
       "\t Vagina.v8.covariates.txt                                & 23 & 141\\\\\n",
       "\\end{tabular}\n"
      ],
      "text/markdown": [
       "\n",
       "A data.frame: 49 × 3\n",
       "\n",
       "| tissue &lt;fct&gt; | number_cov &lt;dbl&gt; | sample_size &lt;dbl&gt; |\n",
       "|---|---|---|\n",
       "| Adipose_Subcutaneous.v8.covariates.txt                  | 68 | 581 |\n",
       "| Adipose_Visceral_Omentum.v8.covariates.txt              | 68 | 469 |\n",
       "| Artery_Aorta.v8.covariates.txt                          | 68 | 387 |\n",
       "| Artery_Tibial.v8.covariates.txt                         | 68 | 584 |\n",
       "| Breast_Mammary_Tissue.v8.covariates.txt                 | 68 | 396 |\n",
       "| Cells_Cultured_fibroblasts.v8.covariates.txt            | 68 | 483 |\n",
       "| Colon_Transverse.v8.covariates.txt                      | 68 | 368 |\n",
       "| Esophagus_Mucosa.v8.covariates.txt                      | 68 | 497 |\n",
       "| Esophagus_Muscularis.v8.covariates.txt                  | 68 | 465 |\n",
       "| Heart_Atrial_Appendage.v8.covariates.txt                | 68 | 372 |\n",
       "| Heart_Left_Ventricle.v8.covariates.txt                  | 68 | 386 |\n",
       "| Lung.v8.covariates.txt                                  | 68 | 515 |\n",
       "| Muscle_Skeletal.v8.covariates.txt                       | 68 | 706 |\n",
       "| Nerve_Tibial.v8.covariates.txt                          | 68 | 532 |\n",
       "| Skin_Not_Sun_Exposed_Suprapubic.v8.covariates.txt       | 68 | 517 |\n",
       "| Skin_Sun_Exposed_Lower_leg.v8.covariates.txt            | 68 | 605 |\n",
       "| Thyroid.v8.covariates.txt                               | 68 | 574 |\n",
       "| Whole_Blood.v8.covariates.txt                           | 68 | 670 |\n",
       "| Colon_Sigmoid.v8.covariates.txt                         | 53 | 318 |\n",
       "| Esophagus_Gastroesophageal_Junction.v8.covariates.txt   | 53 | 330 |\n",
       "| Pancreas.v8.covariates.txt                              | 53 | 305 |\n",
       "| Stomach.v8.covariates.txt                               | 53 | 324 |\n",
       "| Testis.v8.covariates.txt                                | 53 | 322 |\n",
       "| Adrenal_Gland.v8.covariates.txt                         | 38 | 233 |\n",
       "| Artery_Coronary.v8.covariates.txt                       | 38 | 213 |\n",
       "| Brain_Caudate_basal_ganglia.v8.covariates.txt           | 38 | 194 |\n",
       "| Brain_Cerebellar_Hemisphere.v8.covariates.txt           | 38 | 175 |\n",
       "| Brain_Cerebellum.v8.covariates.txt                      | 38 | 209 |\n",
       "| Brain_Cortex.v8.covariates.txt                          | 38 | 205 |\n",
       "| Brain_Frontal_Cortex_BA9.v8.covariates.txt              | 38 | 175 |\n",
       "| Brain_Hippocampus.v8.covariates.txt                     | 38 | 165 |\n",
       "| Brain_Hypothalamus.v8.covariates.txt                    | 38 | 170 |\n",
       "| Brain_Nucleus_accumbens_basal_ganglia.v8.covariates.txt | 38 | 202 |\n",
       "| Brain_Putamen_basal_ganglia.v8.covariates.txt           | 38 | 170 |\n",
       "| Liver.v8.covariates.txt                                 | 38 | 208 |\n",
       "| Ovary.v8.covariates.txt                                 | 38 | 167 |\n",
       "| Pituitary.v8.covariates.txt                             | 38 | 237 |\n",
       "| Prostate.v8.covariates.txt                              | 38 | 221 |\n",
       "| Small_Intestine_Terminal_Ileum.v8.covariates.txt        | 38 | 174 |\n",
       "| Spleen.v8.covariates.txt                                | 38 | 227 |\n",
       "| Brain_Amygdala.v8.covariates.txt                        | 23 | 129 |\n",
       "| Brain_Anterior_cingulate_cortex_BA24.v8.covariates.txt  | 23 | 147 |\n",
       "| Brain_Spinal_cord_cervical_c-1.v8.covariates.txt        | 23 | 126 |\n",
       "| Brain_Substantia_nigra.v8.covariates.txt                | 23 | 114 |\n",
       "| Cells_EBV-transformed_lymphocytes.v8.covariates.txt     | 23 | 147 |\n",
       "| Kidney_Cortex.v8.covariates.txt                         | 23 |  73 |\n",
       "| Minor_Salivary_Gland.v8.covariates.txt                  | 23 | 144 |\n",
       "| Uterus.v8.covariates.txt                                | 23 | 129 |\n",
       "| Vagina.v8.covariates.txt                                | 23 | 141 |\n",
       "\n"
      ],
      "text/plain": [
       "   tissue                                                  number_cov\n",
       "1  Adipose_Subcutaneous.v8.covariates.txt                  68        \n",
       "2  Adipose_Visceral_Omentum.v8.covariates.txt              68        \n",
       "3  Artery_Aorta.v8.covariates.txt                          68        \n",
       "4  Artery_Tibial.v8.covariates.txt                         68        \n",
       "5  Breast_Mammary_Tissue.v8.covariates.txt                 68        \n",
       "6  Cells_Cultured_fibroblasts.v8.covariates.txt            68        \n",
       "7  Colon_Transverse.v8.covariates.txt                      68        \n",
       "8  Esophagus_Mucosa.v8.covariates.txt                      68        \n",
       "9  Esophagus_Muscularis.v8.covariates.txt                  68        \n",
       "10 Heart_Atrial_Appendage.v8.covariates.txt                68        \n",
       "11 Heart_Left_Ventricle.v8.covariates.txt                  68        \n",
       "12 Lung.v8.covariates.txt                                  68        \n",
       "13 Muscle_Skeletal.v8.covariates.txt                       68        \n",
       "14 Nerve_Tibial.v8.covariates.txt                          68        \n",
       "15 Skin_Not_Sun_Exposed_Suprapubic.v8.covariates.txt       68        \n",
       "16 Skin_Sun_Exposed_Lower_leg.v8.covariates.txt            68        \n",
       "17 Thyroid.v8.covariates.txt                               68        \n",
       "18 Whole_Blood.v8.covariates.txt                           68        \n",
       "19 Colon_Sigmoid.v8.covariates.txt                         53        \n",
       "20 Esophagus_Gastroesophageal_Junction.v8.covariates.txt   53        \n",
       "21 Pancreas.v8.covariates.txt                              53        \n",
       "22 Stomach.v8.covariates.txt                               53        \n",
       "23 Testis.v8.covariates.txt                                53        \n",
       "24 Adrenal_Gland.v8.covariates.txt                         38        \n",
       "25 Artery_Coronary.v8.covariates.txt                       38        \n",
       "26 Brain_Caudate_basal_ganglia.v8.covariates.txt           38        \n",
       "27 Brain_Cerebellar_Hemisphere.v8.covariates.txt           38        \n",
       "28 Brain_Cerebellum.v8.covariates.txt                      38        \n",
       "29 Brain_Cortex.v8.covariates.txt                          38        \n",
       "30 Brain_Frontal_Cortex_BA9.v8.covariates.txt              38        \n",
       "31 Brain_Hippocampus.v8.covariates.txt                     38        \n",
       "32 Brain_Hypothalamus.v8.covariates.txt                    38        \n",
       "33 Brain_Nucleus_accumbens_basal_ganglia.v8.covariates.txt 38        \n",
       "34 Brain_Putamen_basal_ganglia.v8.covariates.txt           38        \n",
       "35 Liver.v8.covariates.txt                                 38        \n",
       "36 Ovary.v8.covariates.txt                                 38        \n",
       "37 Pituitary.v8.covariates.txt                             38        \n",
       "38 Prostate.v8.covariates.txt                              38        \n",
       "39 Small_Intestine_Terminal_Ileum.v8.covariates.txt        38        \n",
       "40 Spleen.v8.covariates.txt                                38        \n",
       "41 Brain_Amygdala.v8.covariates.txt                        23        \n",
       "42 Brain_Anterior_cingulate_cortex_BA24.v8.covariates.txt  23        \n",
       "43 Brain_Spinal_cord_cervical_c-1.v8.covariates.txt        23        \n",
       "44 Brain_Substantia_nigra.v8.covariates.txt                23        \n",
       "45 Cells_EBV-transformed_lymphocytes.v8.covariates.txt     23        \n",
       "46 Kidney_Cortex.v8.covariates.txt                         23        \n",
       "47 Minor_Salivary_Gland.v8.covariates.txt                  23        \n",
       "48 Uterus.v8.covariates.txt                                23        \n",
       "49 Vagina.v8.covariates.txt                                23        \n",
       "   sample_size\n",
       "1  581        \n",
       "2  469        \n",
       "3  387        \n",
       "4  584        \n",
       "5  396        \n",
       "6  483        \n",
       "7  368        \n",
       "8  497        \n",
       "9  465        \n",
       "10 372        \n",
       "11 386        \n",
       "12 515        \n",
       "13 706        \n",
       "14 532        \n",
       "15 517        \n",
       "16 605        \n",
       "17 574        \n",
       "18 670        \n",
       "19 318        \n",
       "20 330        \n",
       "21 305        \n",
       "22 324        \n",
       "23 322        \n",
       "24 233        \n",
       "25 213        \n",
       "26 194        \n",
       "27 175        \n",
       "28 209        \n",
       "29 205        \n",
       "30 175        \n",
       "31 165        \n",
       "32 170        \n",
       "33 202        \n",
       "34 170        \n",
       "35 208        \n",
       "36 167        \n",
       "37 237        \n",
       "38 221        \n",
       "39 174        \n",
       "40 227        \n",
       "41 129        \n",
       "42 147        \n",
       "43 126        \n",
       "44 114        \n",
       "45 147        \n",
       "46  73        \n",
       "47 144        \n",
       "48 129        \n",
       "49 141        "
      ]
     },
     "metadata": {},
     "output_type": "display_data"
    }
   ],
   "source": [
    "n_row <- as.numeric(lapply(cov_list, nrow))\n",
    "cov_name <- names(cov_list)\n",
    "sample_size_eqtl <- as.numeric(lapply(cov_list, ncol)) -1 \n",
    "num_cov_df <- data.frame(tissue = cov_name, number_cov = n_row, sample_size = sample_size_eqtl) %>%\n",
    "    arrange(desc(number_cov))\n",
    "num_cov_df"
   ]
  },
  {
   "cell_type": "code",
   "execution_count": 62,
   "metadata": {},
   "outputs": [
    {
     "data": {
      "text/plain": [
       "\n",
       "23 38 53 68 \n",
       " 9 17  5 18 "
      ]
     },
     "metadata": {},
     "output_type": "display_data"
    }
   ],
   "source": [
    "table(as.numeric(lapply(cov_list, nrow)))"
   ]
  },
  {
   "cell_type": "code",
   "execution_count": 67,
   "metadata": {},
   "outputs": [
    {
     "data": {
      "text/html": [
       "<table>\n",
       "<caption>A data.table: 6 × 582</caption>\n",
       "<thead>\n",
       "\t<tr><th scope=col>ID</th><th scope=col>GTEX-1117F</th><th scope=col>GTEX-111CU</th><th scope=col>GTEX-111FC</th><th scope=col>GTEX-111VG</th><th scope=col>GTEX-111YS</th><th scope=col>GTEX-1122O</th><th scope=col>GTEX-1128S</th><th scope=col>GTEX-113IC</th><th scope=col>GTEX-117YX</th><th scope=col>⋯</th><th scope=col>GTEX-ZXES</th><th scope=col>GTEX-ZXG5</th><th scope=col>GTEX-ZYFC</th><th scope=col>GTEX-ZYFD</th><th scope=col>GTEX-ZYT6</th><th scope=col>GTEX-ZYVF</th><th scope=col>GTEX-ZYW4</th><th scope=col>GTEX-ZYY3</th><th scope=col>GTEX-ZZ64</th><th scope=col>GTEX-ZZPU</th></tr>\n",
       "\t<tr><th scope=col>&lt;chr&gt;</th><th scope=col>&lt;dbl&gt;</th><th scope=col>&lt;dbl&gt;</th><th scope=col>&lt;dbl&gt;</th><th scope=col>&lt;dbl&gt;</th><th scope=col>&lt;dbl&gt;</th><th scope=col>&lt;dbl&gt;</th><th scope=col>&lt;dbl&gt;</th><th scope=col>&lt;dbl&gt;</th><th scope=col>&lt;dbl&gt;</th><th scope=col>⋯</th><th scope=col>&lt;dbl&gt;</th><th scope=col>&lt;dbl&gt;</th><th scope=col>&lt;dbl&gt;</th><th scope=col>&lt;dbl&gt;</th><th scope=col>&lt;dbl&gt;</th><th scope=col>&lt;dbl&gt;</th><th scope=col>&lt;dbl&gt;</th><th scope=col>&lt;dbl&gt;</th><th scope=col>&lt;dbl&gt;</th><th scope=col>&lt;dbl&gt;</th></tr>\n",
       "</thead>\n",
       "<tbody>\n",
       "\t<tr><td>PC1         </td><td>-0.08670000</td><td> 0.01070000</td><td> 0.00990000</td><td> 0.01440000</td><td> 0.01540000</td><td> 0.01390000</td><td> 0.01450000</td><td>-0.0728000</td><td>-0.02400000</td><td>⋯</td><td> 0.01250000</td><td> 0.00730000</td><td>-0.09340000</td><td> 0.013400000</td><td> 0.01340000</td><td> 0.01180000</td><td>-0.02450000</td><td> 0.01110000</td><td> 0.01370000</td><td> 0.01350000</td></tr>\n",
       "\t<tr><td>PC2         </td><td>-0.01320000</td><td>-0.00260000</td><td>-0.00500000</td><td>-0.00810000</td><td>-0.00930000</td><td>-0.00970000</td><td>-0.00930000</td><td>-0.0077000</td><td> 0.28970000</td><td>⋯</td><td>-0.00680000</td><td> 0.00600000</td><td>-0.01430000</td><td>-0.004700000</td><td>-0.00880000</td><td> 0.00050000</td><td> 0.29180000</td><td>-0.00480000</td><td>-0.00480000</td><td>-0.00530000</td></tr>\n",
       "\t<tr><td>PC3         </td><td>-0.00620000</td><td> 0.00040000</td><td> 0.03040000</td><td> 0.01330000</td><td> 0.01070000</td><td> 0.00670000</td><td> 0.03270000</td><td>-0.0044000</td><td> 0.01330000</td><td>⋯</td><td> 0.02410000</td><td>-0.15480000</td><td> 0.00890000</td><td>-0.011100000</td><td> 0.00440000</td><td>-0.06780000</td><td> 0.02270000</td><td>-0.07950000</td><td> 0.01710000</td><td>-0.00580000</td></tr>\n",
       "\t<tr><td>PC4         </td><td> 0.00460000</td><td>-0.00150000</td><td> 0.00760000</td><td> 0.00350000</td><td>-0.00380000</td><td>-0.01440000</td><td> 0.00560000</td><td>-0.0146000</td><td> 0.11110000</td><td>⋯</td><td> 0.01980000</td><td> 0.00890000</td><td> 0.00640000</td><td>-0.009800000</td><td> 0.00520000</td><td> 0.00630000</td><td> 0.12100000</td><td>-0.01130000</td><td>-0.00160000</td><td> 0.00140000</td></tr>\n",
       "\t<tr><td>PC5         </td><td> 0.00540000</td><td> 0.01120000</td><td> 0.03470000</td><td> 0.00180000</td><td>-0.00830000</td><td> 0.02960000</td><td> 0.05100000</td><td> 0.0063000</td><td> 0.02620000</td><td>⋯</td><td> 0.00980000</td><td>-0.01980000</td><td> 0.00100000</td><td> 0.020800000</td><td> 0.01480000</td><td> 0.03260000</td><td> 0.03760000</td><td> 0.01000000</td><td>-0.01380000</td><td> 0.00870000</td></tr>\n",
       "\t<tr><td>InferredCov1</td><td> 0.02090936</td><td>-0.02083823</td><td> 0.04304136</td><td> 0.02775294</td><td>-0.02091448</td><td>-0.03426022</td><td>-0.03011393</td><td> 0.0342988</td><td>-0.04047681</td><td>⋯</td><td>-0.03984623</td><td> 0.03418969</td><td> 0.02334949</td><td> 0.004658039</td><td> 0.01523963</td><td>-0.01921473</td><td> 0.01373773</td><td>-0.02499237</td><td>-0.04992024</td><td>-0.02641336</td></tr>\n",
       "</tbody>\n",
       "</table>\n"
      ],
      "text/latex": [
       "A data.table: 6 × 582\n",
       "\\begin{tabular}{r|llllllllllllllllllllllllllllllllllllllllllllllllllllllllllllllllllllllllllllllllllllllllllllllllllllllllllllllllllllllllllllllllllllllllllllllllllllllllllllllllllllllllllllllllllllllllllllllllllllllllllllllllllllllllllllllllllllllllllllllllllllllllllllllllllllllllllllllllllllllllllllllllllllllllllllllllllllllllllllllllllllllllllllllllllllllllllllllllllllllllllllllllllllllllllllllllllllllllllllllllllllllllllllllllllllllllllllllllllllllllllllllllllllllllllllllllllllllllllllllllllllllllllllllllllllllllllllllllllllllllllllllllllllllllllllllllllllllllllllllllllllllllllllllllllllll}\n",
       " ID & GTEX-1117F & GTEX-111CU & GTEX-111FC & GTEX-111VG & GTEX-111YS & GTEX-1122O & GTEX-1128S & GTEX-113IC & GTEX-117YX & GTEX-11DXX & GTEX-11DZ1 & GTEX-11EI6 & GTEX-11EM3 & GTEX-11EMC & GTEX-11EQ8 & GTEX-11EQ9 & GTEX-11GS4 & GTEX-11GSO & GTEX-11I78 & GTEX-11LCK & GTEX-11NUK & GTEX-11O72 & GTEX-11OF3 & GTEX-11ONC & GTEX-11P7K & GTEX-11P81 & GTEX-11P82 & GTEX-11PRG & GTEX-11TT1 & GTEX-11TTK & GTEX-11TUW & GTEX-11UD1 & GTEX-11UD2 & GTEX-11WQC & GTEX-11XUK & GTEX-11ZTS & GTEX-11ZTT & GTEX-11ZU8 & GTEX-11ZUS & GTEX-11ZVC & GTEX-1211K & GTEX-12126 & GTEX-1212Z & GTEX-12584 & GTEX-12696 & GTEX-1269C & GTEX-12C56 & GTEX-12KS4 & GTEX-12WSA & GTEX-12WSD & GTEX-12WSL & GTEX-12WSM & GTEX-12ZZX & GTEX-12ZZY & GTEX-12ZZZ & GTEX-13111 & GTEX-13112 & GTEX-13113 & GTEX-1313W & GTEX-1314G & GTEX-131XE & GTEX-131XF & GTEX-131XW & GTEX-131YS & GTEX-132AR & GTEX-132QS & GTEX-133LE & GTEX-1399R & GTEX-1399T & GTEX-1399U & GTEX-139D8 & GTEX-139T4 & GTEX-139T6 & GTEX-139TT & GTEX-139TU & GTEX-139YR & GTEX-13CF2 & GTEX-13CF3 & GTEX-13D11 & GTEX-13FH7 & GTEX-13FHO & GTEX-13FHP & GTEX-13FTW & GTEX-13FTY & GTEX-13G51 & GTEX-13IVO & GTEX-13JUV & GTEX-13JVG & GTEX-13N11 & GTEX-13N1W & GTEX-13N2G & GTEX-13NYB & GTEX-13NZ8 & GTEX-13NZ9 & GTEX-13NZA & GTEX-13NZB & GTEX-13O21 & GTEX-13O3P & GTEX-13O3Q & GTEX-13O61 & GTEX-13OVI & GTEX-13OVJ & GTEX-13OVK & GTEX-13OVL & GTEX-13OW6 & GTEX-13OW7 & GTEX-13OW8 & GTEX-13PDP & GTEX-13PLJ & GTEX-13PVQ & GTEX-13PVR & GTEX-13QBU & GTEX-13QJ3 & GTEX-13RTJ & GTEX-13S7M & GTEX-13SLW & GTEX-13SLX & GTEX-13U4I & GTEX-13VXT & GTEX-13VXU & GTEX-13W3W & GTEX-13X6J & GTEX-13X6K & GTEX-13YAN & GTEX-144FL & GTEX-144GL & GTEX-144GM & GTEX-145MF & GTEX-145MG & GTEX-145MI & GTEX-145MN & GTEX-145MO & GTEX-146FH & GTEX-146FQ & GTEX-146FR & GTEX-14753 & GTEX-147F3 & GTEX-147GR & GTEX-147JS & GTEX-148VI & GTEX-1497J & GTEX-14A5H & GTEX-14ABY & GTEX-14AS3 & GTEX-14BIL & GTEX-14BIN & GTEX-14BMU & GTEX-14BMV & GTEX-14C39 & GTEX-14C5O & GTEX-14DAQ & GTEX-14DAR & GTEX-14E1K & GTEX-14E6C & GTEX-14E6D & GTEX-14E6E & GTEX-14H4A & GTEX-14ICK & GTEX-14JG1 & GTEX-14JG6 & GTEX-14JIY & GTEX-14LLW & GTEX-14PHX & GTEX-14PII & GTEX-14PJ2 & GTEX-14PJ3 & GTEX-14PJ4 & GTEX-14PJ6 & GTEX-14PJM & GTEX-14PK6 & GTEX-14PN3 & GTEX-15CHQ & GTEX-15DCD & GTEX-15DDE & GTEX-15ER7 & GTEX-15ETS & GTEX-15G19 & GTEX-15RIE & GTEX-15SDE & GTEX-15UKP & GTEX-169BO & GTEX-16AAH & GTEX-16BQI & GTEX-16GPK & GTEX-16MT8 & GTEX-16MTA & GTEX-16NGA & GTEX-16NPX & GTEX-16XZY & GTEX-16XZZ & GTEX-16YQH & GTEX-17EUY & GTEX-17EVP & GTEX-17F96 & GTEX-17F97 & GTEX-17F98 & GTEX-17F9Y & GTEX-17HGU & GTEX-17HHE & GTEX-17HHY & GTEX-17HII & GTEX-17KNJ & GTEX-17MF6 & GTEX-17MFQ & GTEX-183FY & GTEX-183WM & GTEX-18465 & GTEX-18A66 & GTEX-18A67 & GTEX-18A6Q & GTEX-18A7A & GTEX-18D9A & GTEX-18D9U & GTEX-18QFQ & GTEX-1A32A & GTEX-1A3MV & GTEX-1A3MW & GTEX-1A3MX & GTEX-1A8FM & GTEX-1A8G6 & GTEX-1A8G7 & GTEX-1AMEY & GTEX-1AMFI & GTEX-1AX9I & GTEX-1AX9J & GTEX-1AX9K & GTEX-1AYCT & GTEX-1AYD5 & GTEX-1B8KE & GTEX-1B8KZ & GTEX-1B8L1 & GTEX-1B8SF & GTEX-1B8SG & GTEX-1B932 & GTEX-1B933 & GTEX-1B97I & GTEX-1B996 & GTEX-1BAJH & GTEX-1C2JI & GTEX-1C475 & GTEX-1C4CL & GTEX-1C64O & GTEX-1C6VQ & GTEX-1C6VR & GTEX-1C6WA & GTEX-1CAMQ & GTEX-1CAMR & GTEX-1CAMS & GTEX-1CB4E & GTEX-1CB4F & GTEX-1CB4G & GTEX-1CB4H & GTEX-1CB4I & GTEX-1CB4J & GTEX-1E1VI & GTEX-1E2YA & GTEX-1EH9U & GTEX-1EKGG & GTEX-1EMGI & GTEX-1EU9M & GTEX-1EWIQ & GTEX-1EX96 & GTEX-1F48J & GTEX-1F52S & GTEX-1F5PK & GTEX-1F6I4 & GTEX-1F6RS & GTEX-1F75A & GTEX-1F75I & GTEX-1F75W & GTEX-1F88E & GTEX-1F88F & GTEX-1FIGZ & GTEX-1GF9V & GTEX-1GF9X & GTEX-1GMR2 & GTEX-1GMR3 & GTEX-1GMR8 & GTEX-1GMRU & GTEX-1GN1U & GTEX-1GN1V & GTEX-1GN1W & GTEX-1GN2E & GTEX-1GN73 & GTEX-1GPI7 & GTEX-1GTWX & GTEX-1GZ2Q & GTEX-1GZ4H & GTEX-1GZ4I & GTEX-1I4MK & GTEX-1I6K7 & GTEX-1ICG6 & GTEX-1ICLY & GTEX-1ICLZ & GTEX-1IDFM & GTEX-1IDJD & GTEX-1IDJF & GTEX-1JJ6O & GTEX-1JKYN & GTEX-1JKYR & GTEX-1JMLX & GTEX-1JMPY & GTEX-1JMQI & GTEX-1JMQK & GTEX-1JMQL & GTEX-1JN1M & GTEX-1JN6P & GTEX-1JN76 & GTEX-1K2DA & GTEX-1K9T9 & GTEX-1KAFJ & GTEX-1KANA & GTEX-1KD5A & GTEX-1KWVE & GTEX-1KXAM & GTEX-1L5NE & GTEX-1LB8K & GTEX-1LBAC & GTEX-1LG7Y & GTEX-1LG7Z & GTEX-1LGOU & GTEX-1LGRB & GTEX-1LH75 & GTEX-1LSNL & GTEX-1LSNM & GTEX-1LSVX & GTEX-1LVA9 & GTEX-1LVAN & GTEX-1LVAO & GTEX-1M5QR & GTEX-1MA7W & GTEX-1MA7X & GTEX-1MCC2 & GTEX-1MCYP & GTEX-1MGNQ & GTEX-1MJK2 & GTEX-1MUQO & GTEX-1N2DW & GTEX-1N2EF & GTEX-1NHNU & GTEX-1OFPY & GTEX-1OJC4 & GTEX-1PBJI & GTEX-1PDJ9 & GTEX-1PFEY & GTEX-1PIGE & GTEX-1PIIG & GTEX-1POEN & GTEX-1PPGY & GTEX-1PPH8 & GTEX-1PWST & GTEX-1QAET & GTEX-1QCLY & GTEX-1QEPI & GTEX-1QP28 & GTEX-1QP29 & GTEX-1QP2A & GTEX-1QP66 & GTEX-1QP67 & GTEX-1QP6S & GTEX-1QP9N & GTEX-1QPFJ & GTEX-1QW4Y & GTEX-1R46S & GTEX-1R7EU & GTEX-1R7EV & GTEX-1R9K5 & GTEX-1R9PM & GTEX-1RAZA & GTEX-1RAZQ & GTEX-1RAZR & GTEX-1RQEC & GTEX-1S5ZU & GTEX-1S82P & GTEX-1S831 & GTEX-1S83E & GTEX-N7MS & GTEX-NFK9 & GTEX-NPJ8 & GTEX-O5YT & GTEX-O5YV & GTEX-OHPM & GTEX-OHPN & GTEX-OIZF & GTEX-OIZG & GTEX-OIZH & GTEX-OIZI & GTEX-OOBJ & GTEX-OOBK & GTEX-OXRK & GTEX-OXRL & GTEX-OXRN & GTEX-OXRO & GTEX-OXRP & GTEX-P44G & GTEX-P44H & GTEX-P4PP & GTEX-P4PQ & GTEX-P4QS & GTEX-P4QT & GTEX-P78B & GTEX-PLZ4 & GTEX-PLZ5 & GTEX-PLZ6 & GTEX-POMQ & GTEX-POYW & GTEX-PSDG & GTEX-PWCY & GTEX-PWN1 & GTEX-PX3G & GTEX-Q2AG & GTEX-Q2AH & GTEX-Q2AI & GTEX-Q734 & GTEX-QCQG & GTEX-QDT8 & GTEX-QDVJ & GTEX-QDVN & GTEX-QEG4 & GTEX-QEG5 & GTEX-QEL4 & GTEX-QESD & GTEX-QLQ7 & GTEX-QMRM & GTEX-QV31 & GTEX-QV44 & GTEX-R3RS & GTEX-R53T & GTEX-R55C & GTEX-R55D & GTEX-R55G & GTEX-REY6 & GTEX-RM2N & GTEX-RNOR & GTEX-RTLS & GTEX-RU72 & GTEX-RUSQ & GTEX-RVPV & GTEX-RWSA & GTEX-S32W & GTEX-S33H & GTEX-S4P3 & GTEX-S7SE & GTEX-S95S & GTEX-SIU8 & GTEX-SJXC & GTEX-SN8G & GTEX-SNMC & GTEX-SNOS & GTEX-SSA3 & GTEX-SUCS & GTEX-T2IS & GTEX-T5JC & GTEX-T5JW & GTEX-T6MN & GTEX-T6MO & GTEX-T8EM & GTEX-TKQ1 & GTEX-TML8 & GTEX-TMZS & GTEX-TSE9 & GTEX-U3ZM & GTEX-U3ZN & GTEX-U412 & GTEX-U4B1 & GTEX-U8XE & GTEX-UJHI & GTEX-UTHO & GTEX-VJWN & GTEX-VJYA & GTEX-VUSG & GTEX-VUSH & GTEX-W5WG & GTEX-W5X1 & GTEX-WEY5 & GTEX-WFG7 & GTEX-WFG8 & GTEX-WFJO & GTEX-WFON & GTEX-WH7G & GTEX-WHPG & GTEX-WI4N & GTEX-WL46 & GTEX-WVJS & GTEX-WVLH & GTEX-WY7C & GTEX-WYJK & GTEX-X15G & GTEX-X261 & GTEX-X4EO & GTEX-X4LF & GTEX-X4XY & GTEX-X5EB & GTEX-X638 & GTEX-X88G & GTEX-X8HC & GTEX-XAJ8 & GTEX-XBEC & GTEX-XBED & GTEX-XBEW & GTEX-XGQ4 & GTEX-XK95 & GTEX-XLM4 & GTEX-XMD2 & GTEX-XMK1 & GTEX-XOT4 & GTEX-XPVG & GTEX-XQ3S & GTEX-XQ8I & GTEX-XUW1 & GTEX-XUYS & GTEX-XUZC & GTEX-XV7Q & GTEX-XXEK & GTEX-XYKS & GTEX-Y111 & GTEX-Y114 & GTEX-Y3I4 & GTEX-Y3IK & GTEX-Y5V5 & GTEX-Y5V6 & GTEX-Y8E4 & GTEX-Y8E5 & GTEX-Y8LW & GTEX-Y9LG & GTEX-YB5E & GTEX-YB5K & GTEX-YEC3 & GTEX-YEC4 & GTEX-YECK & GTEX-YF7O & GTEX-YFC4 & GTEX-YJ89 & GTEX-YJ8A & GTEX-YJ8O & GTEX-Z93S & GTEX-Z93T & GTEX-Z9EW & GTEX-ZAJG & GTEX-ZAK1 & GTEX-ZC5H & GTEX-ZDTS & GTEX-ZDTT & GTEX-ZDXO & GTEX-ZDYS & GTEX-ZE7O & GTEX-ZEX8 & GTEX-ZF28 & GTEX-ZF29 & GTEX-ZF3C & GTEX-ZGAY & GTEX-ZLFU & GTEX-ZLV1 & GTEX-ZLWG & GTEX-ZP4G & GTEX-ZPCL & GTEX-ZPIC & GTEX-ZPU1 & GTEX-ZQG8 & GTEX-ZT9X & GTEX-ZTPG & GTEX-ZTSS & GTEX-ZTX8 & GTEX-ZUA1 & GTEX-ZV68 & GTEX-ZVE2 & GTEX-ZVP2 & GTEX-ZVT2 & GTEX-ZVT4 & GTEX-ZVZO & GTEX-ZVZP & GTEX-ZXES & GTEX-ZXG5 & GTEX-ZYFC & GTEX-ZYFD & GTEX-ZYT6 & GTEX-ZYVF & GTEX-ZYW4 & GTEX-ZYY3 & GTEX-ZZ64 & GTEX-ZZPU\\\\\n",
       " <chr> & <dbl> & <dbl> & <dbl> & <dbl> & <dbl> & <dbl> & <dbl> & <dbl> & <dbl> & <dbl> & <dbl> & <dbl> & <dbl> & <dbl> & <dbl> & <dbl> & <dbl> & <dbl> & <dbl> & <dbl> & <dbl> & <dbl> & <dbl> & <dbl> & <dbl> & <dbl> & <dbl> & <dbl> & <dbl> & <dbl> & <dbl> & <dbl> & <dbl> & <dbl> & <dbl> & <dbl> & <dbl> & <dbl> & <dbl> & <dbl> & <dbl> & <dbl> & <dbl> & <dbl> & <dbl> & <dbl> & <dbl> & <dbl> & <dbl> & <dbl> & <dbl> & <dbl> & <dbl> & <dbl> & <dbl> & <dbl> & <dbl> & <dbl> & <dbl> & <dbl> & <dbl> & <dbl> & <dbl> & <dbl> & <dbl> & <dbl> & <dbl> & <dbl> & <dbl> & <dbl> & <dbl> & <dbl> & <dbl> & <dbl> & <dbl> & <dbl> & <dbl> & <dbl> & <dbl> & <dbl> & <dbl> & <dbl> & <dbl> & <dbl> & <dbl> & <dbl> & <dbl> & <dbl> & <dbl> & <dbl> & <dbl> & <dbl> & <dbl> & <dbl> & <dbl> & <dbl> & <dbl> & <dbl> & <dbl> & <dbl> & <dbl> & <dbl> & <dbl> & <dbl> & <dbl> & <dbl> & <dbl> & <dbl> & <dbl> & <dbl> & <dbl> & <dbl> & <dbl> & <dbl> & <dbl> & <dbl> & <dbl> & <dbl> & <dbl> & <dbl> & <dbl> & <dbl> & <dbl> & <dbl> & <dbl> & <dbl> & <dbl> & <dbl> & <dbl> & <dbl> & <dbl> & <dbl> & <dbl> & <dbl> & <dbl> & <dbl> & <dbl> & <dbl> & <dbl> & <dbl> & <dbl> & <dbl> & <dbl> & <dbl> & <dbl> & <dbl> & <dbl> & <dbl> & <dbl> & <dbl> & <dbl> & <dbl> & <dbl> & <dbl> & <dbl> & <dbl> & <dbl> & <dbl> & <dbl> & <dbl> & <dbl> & <dbl> & <dbl> & <dbl> & <dbl> & <dbl> & <dbl> & <dbl> & <dbl> & <dbl> & <dbl> & <dbl> & <dbl> & <dbl> & <dbl> & <dbl> & <dbl> & <dbl> & <dbl> & <dbl> & <dbl> & <dbl> & <dbl> & <dbl> & <dbl> & <dbl> & <dbl> & <dbl> & <dbl> & <dbl> & <dbl> & <dbl> & <dbl> & <dbl> & <dbl> & <dbl> & <dbl> & <dbl> & <dbl> & <dbl> & <dbl> & <dbl> & <dbl> & <dbl> & <dbl> & <dbl> & <dbl> & <dbl> & <dbl> & <dbl> & <dbl> & <dbl> & <dbl> & <dbl> & <dbl> & <dbl> & <dbl> & <dbl> & <dbl> & <dbl> & <dbl> & <dbl> & <dbl> & <dbl> & <dbl> & <dbl> & <dbl> & <dbl> & <dbl> & <dbl> & <dbl> & <dbl> & <dbl> & <dbl> & <dbl> & <dbl> & <dbl> & <dbl> & <dbl> & <dbl> & <dbl> & <dbl> & <dbl> & <dbl> & <dbl> & <dbl> & <dbl> & <dbl> & <dbl> & <dbl> & <dbl> & <dbl> & <dbl> & <dbl> & <dbl> & <dbl> & <dbl> & <dbl> & <dbl> & <dbl> & <dbl> & <dbl> & <dbl> & <dbl> & <dbl> & <dbl> & <dbl> & <dbl> & <dbl> & <dbl> & <dbl> & <dbl> & <dbl> & <dbl> & <dbl> & <dbl> & <dbl> & <dbl> & <dbl> & <dbl> & <dbl> & <dbl> & <dbl> & <dbl> & <dbl> & <dbl> & <dbl> & <dbl> & <dbl> & <dbl> & <dbl> & <dbl> & <dbl> & <dbl> & <dbl> & <dbl> & <dbl> & <dbl> & <dbl> & <dbl> & <dbl> & <dbl> & <dbl> & <dbl> & <dbl> & <dbl> & <dbl> & <dbl> & <dbl> & <dbl> & <dbl> & <dbl> & <dbl> & <dbl> & <dbl> & <dbl> & <dbl> & <dbl> & <dbl> & <dbl> & <dbl> & <dbl> & <dbl> & <dbl> & <dbl> & <dbl> & <dbl> & <dbl> & <dbl> & <dbl> & <dbl> & <dbl> & <dbl> & <dbl> & <dbl> & <dbl> & <dbl> & <dbl> & <dbl> & <dbl> & <dbl> & <dbl> & <dbl> & <dbl> & <dbl> & <dbl> & <dbl> & <dbl> & <dbl> & <dbl> & <dbl> & <dbl> & <dbl> & <dbl> & <dbl> & <dbl> & <dbl> & <dbl> & <dbl> & <dbl> & <dbl> & <dbl> & <dbl> & <dbl> & <dbl> & <dbl> & <dbl> & <dbl> & <dbl> & <dbl> & <dbl> & <dbl> & <dbl> & <dbl> & <dbl> & <dbl> & <dbl> & <dbl> & <dbl> & <dbl> & <dbl> & <dbl> & <dbl> & <dbl> & <dbl> & <dbl> & <dbl> & <dbl> & <dbl> & <dbl> & <dbl> & <dbl> & <dbl> & <dbl> & <dbl> & <dbl> & <dbl> & <dbl> & <dbl> & <dbl> & <dbl> & <dbl> & <dbl> & <dbl> & <dbl> & <dbl> & <dbl> & <dbl> & <dbl> & <dbl> & <dbl> & <dbl> & <dbl> & <dbl> & <dbl> & <dbl> & <dbl> & <dbl> & <dbl> & <dbl> & <dbl> & <dbl> & <dbl> & <dbl> & <dbl> & <dbl> & <dbl> & <dbl> & <dbl> & <dbl> & <dbl> & <dbl> & <dbl> & <dbl> & <dbl> & <dbl> & <dbl> & <dbl> & <dbl> & <dbl> & <dbl> & <dbl> & <dbl> & <dbl> & <dbl> & <dbl> & <dbl> & <dbl> & <dbl> & <dbl> & <dbl> & <dbl> & <dbl> & <dbl> & <dbl> & <dbl> & <dbl> & <dbl> & <dbl> & <dbl> & <dbl> & <dbl> & <dbl> & <dbl> & <dbl> & <dbl> & <dbl> & <dbl> & <dbl> & <dbl> & <dbl> & <dbl> & <dbl> & <dbl> & <dbl> & <dbl> & <dbl> & <dbl> & <dbl> & <dbl> & <dbl> & <dbl> & <dbl> & <dbl> & <dbl> & <dbl> & <dbl> & <dbl> & <dbl> & <dbl> & <dbl> & <dbl> & <dbl> & <dbl> & <dbl> & <dbl> & <dbl> & <dbl> & <dbl> & <dbl> & <dbl> & <dbl> & <dbl> & <dbl> & <dbl> & <dbl> & <dbl> & <dbl> & <dbl> & <dbl> & <dbl> & <dbl> & <dbl> & <dbl> & <dbl> & <dbl> & <dbl> & <dbl> & <dbl> & <dbl> & <dbl> & <dbl> & <dbl> & <dbl> & <dbl> & <dbl> & <dbl> & <dbl> & <dbl> & <dbl> & <dbl> & <dbl> & <dbl> & <dbl> & <dbl> & <dbl> & <dbl> & <dbl> & <dbl> & <dbl> & <dbl> & <dbl> & <dbl> & <dbl> & <dbl> & <dbl> & <dbl> & <dbl> & <dbl> & <dbl> & <dbl> & <dbl> & <dbl> & <dbl> & <dbl> & <dbl> & <dbl> & <dbl> & <dbl> & <dbl> & <dbl> & <dbl> & <dbl> & <dbl> & <dbl> & <dbl> & <dbl> & <dbl> & <dbl> & <dbl> & <dbl> & <dbl> & <dbl> & <dbl> & <dbl> & <dbl> & <dbl> & <dbl> & <dbl> & <dbl> & <dbl>\\\\\n",
       "\\hline\n",
       "\t PC1          & -0.08670000 &  0.01070000 &  0.00990000 &  0.01440000 &  0.01540000 &  0.01390000 &  0.01450000 & -0.0728000 & -0.02400000 &  0.01410000 &  0.014800000 &  0.01410000 &  0.0145000 &  0.01410000 &  0.01390000 &  0.0135000 &  0.00910000 &  0.014200000 &  0.01400000 &  0.014800000 &  0.01390000 &  0.01050000 &  0.01460000 &  0.01450000 & -0.09980000 &  0.01460000 &  0.01400000 & -0.11060000 & -0.02170000 &  0.01610000 &  0.01390000 & -0.10590000 &  0.01400000 & -0.09580000 &  0.01500000 &  0.01540000 &  0.0144000 &  0.0146000 &  0.01350000 &  0.01460000 &  0.014900000 & -0.095200000 &  0.01370000 &  0.012600000 &  0.01490000 &  0.01450 &  0.0143000 &  0.00950000 &  0.01500000 & -0.10490000 &  0.01450000 &  0.01580000 &  0.00460000 &  0.01390000 &  0.01470000 &  0.00650000 &  0.01440000 & -0.06880000 &  0.01600000 &  0.01450000 & -0.092600000 & -0.0213000 &  0.01600000 &  0.01410000 &  0.01580000 & -0.00870000 &  0.01410000 &  0.01650000 &  0.01570000 &  0.01330000 &  0.01520000 &  0.01470000 &  0.01300000 &  0.01490000 &  0.00820000 &  0.015900000 &  0.01370000 &  0.01450000 &  0.01390000 &  0.0146000 &  0.01420000 & -0.09230000 &  0.01060000 &  0.01500000 &  0.01360000 &  0.01600000 & -0.095300 &  0.01560000 & -0.09420000 &  0.013900000 &  0.01460000 & -0.09450000 &  0.013500000 & -0.02410000 &  0.014400000 &  0.01480000 &  0.015300000 &  0.01500000 &  0.0152000 & -0.02350000 & -0.0872000 &  0.013200000 &  0.012700000 &  0.01520000 &  0.01570000 &  0.01500000 &  0.01400000 &  0.00820000 &  0.01560000 &  0.003200000 &  0.0150000 &  0.01460000 &  0.01350000 &  0.01440000 &  0.0147000 &  0.01400000 & -0.08740000 &  0.015100 & -0.08680000 &  0.01480000 &  0.01470000 &  0.01030000 &  0.014300000 & -0.10050000 &  0.015200000 &  0.0151000 &  0.01530000 &  0.01450000 & -0.09100000 &  0.00690000 & -0.0985000 &  0.01420000 &  0.01260000 &  0.01410000 &  0.014400000 &  0.0154000 & -0.00020000 &  0.01420000 &  0.01370000 &  0.01430000 & -0.09500000 &  0.01470000 &  0.01460000 & -0.015500000 &  0.010900000 &  0.01100000 &  0.01370000 &  0.014500000 &  0.01450000 &  0.01350000 &  0.01450000 &  0.01460000 & -0.0858000 &  0.01540000 &  0.01380000 &  0.01540000 &  0.014600000 &  0.01600000 &  0.01510000 &  0.01330000 &  0.01470000 &  0.013300000 &  0.01370000 &  0.01500000 &  0.01290000 & -0.00350000 &  0.013500000 &  0.01460000 &  0.0145000000 &  0.015100000 &  0.01470000 &  0.01390000 &  0.01450000 & -0.09800000 &  0.014600000 &  0.01280000 &  0.015100000 &  0.015300000 & -0.080900000 &  0.01520000 &  0.01540000 & -0.008900000 &  0.01600000 &  0.01470000 &  0.014500000 &  0.01380000 & -0.07610000 &  0.01440000 &  0.003700000 &  0.01470000 &  0.01280000 & -0.01720000 &  0.01610000 &  0.0145000 &  0.01650000 &  0.01410000 &  0.01490000 &  0.01330000 & -0.00720000 &  0.01490000 &  0.01320000 &  0.013800000 &  0.01460000 &  0.015600000 &  0.01480000 &  0.00830000 &  0.01490000 &  0.01420000 &  0.01300000 &  0.01100000 &  0.01210000 &  0.01250000 & -9.500000e-03 & -0.08320000 &  0.01510000 &  0.01370000 &  0.0134000 &  0.01390000 &  0.01470000 &  0.01500000 &  0.01340000 &  0.01320000 &  0.015100000 &  0.01400000 &  0.013800000 &  0.005800000 &  0.01560000 & -0.09840000 &  0.01560000 &  0.01340000 &  0.01550000 &  0.01430000 &  0.0148000 &  0.01600000 &  0.01460000 &  0.009300000 &  0.015400000 &  0.01380000 &  0.01390000 &  0.01180000 & -0.02320000 & -0.103800000 &  0.01450000 &  0.00750000 &  0.01450000 &  0.01360000 &  0.01440000 & -0.0232000 &  0.01410000 &  0.01530000 &  0.01430000 &  1.480000e-02 &  0.01320000 &  0.01450000 &  0.0148000 &  0.014300000 &  0.013900000 &  0.01570000 & -0.09490000 &  0.0148000 &  0.01430000 &  0.01180000 &  0.01230000 &  0.00700000 &  0.01480000 & -0.08760000 &  0.01400000 &  0.01370000 & -0.09200000 &  0.01540000 &  0.01400000 &  0.01570000 &  0.01520000 &  0.01510000 & -0.003800000 & -0.07930000 &  0.01590000 &  0.015700000 &  0.01540000 &  0.014600000 &  0.01520000 &  0.01510000 &  0.01420000 &  0.01230000 &  0.01460000 &  0.013500000 &  0.01380000 & -0.075800000 &  0.0155000 &  0.01480000 &  0.015200000 &  0.01390000 &  0.01510000 &  0.01480000 &  0.01500000 &  0.014900000 &  0.01430000 &  0.01330000 &  0.01280000 &  0.01520000 & -0.09000000 & -0.04990000 &  0.01410000 &  0.014800000 & -0.07230000 &  0.013500000 &  0.01410000 &  0.01540000 &  0.01200000 &  0.01560000 & -0.02320000 &  0.01340000 &  0.0155000 &  0.0131000 &  0.01570000 &  0.01370000 &  0.00750000 & -0.097500000 &  0.0138000 &  0.01470000 &  0.01510000 & -0.003200000 &  0.013900000 &  0.0155000 &  0.014900000 &  0.01490000 &  0.01450000 & -0.02370000 &  0.01360000 &  0.014600000 &  0.0149000 &  0.01480000 & -0.06280000 &  0.01430000 &  0.00770000 &  0.01500000 &  0.015000000 &  0.01440000 &  0.01580000 & -0.10360000 &  0.00720000 &  0.01590000 &  0.01230000 &  0.015000000 &  0.01460000 & -0.0174000000 &  0.01140000 &  0.0133000 &  0.01300000 & -0.061200000 &  0.01570000 &  0.014900000 & -0.106500000 &  0.01530000 &  0.01570000 &  0.01300000 &  0.015900000 &  0.01380000 &  0.01440000 &  0.01610000 &  0.004700000 &  0.011500000 &  0.013700000 &  0.014000000 &  0.01390000 &  0.0127000 &  0.01430000 &  0.01610000 &  0.01520000 &  0.01440000 &  0.014100000 &  0.01460000 &  0.014200000 &  0.01440000 & -0.04090000 &  0.01430000 &  0.0146000 & -0.079900000 &  0.01640000 &  0.01330000 &  0.01480000 &  0.013900000 &  0.01090000 &  0.01410000 &  0.01440000 &  0.00840000 &  0.01450000 & -0.10260000 &  0.01520000 &  0.015700000 &  0.015600000 &  0.0144000 &  0.01110000 &  0.007900000 &  0.00780000 &  0.01500000 &  0.01360000 &  0.01320 & -0.08650000 &  0.008500000 &  0.014100000 &  0.0100000000 &  0.015900000 &  0.01540000 & -0.066300000 &  1.420000e-02 &  0.0157000 &  0.01400000 &  0.01360000 &  0.014200000 &  0.01510000 & -0.07240000 &  0.014300000 &  0.01530000 &  0.010000000 &  0.013300000 &  0.01640000 &  0.01530000 &  0.01560000 &  0.01520000 &  0.0113000000 &  0.0146000 & -0.024100000 &  0.015400000 &  0.01430000 &  0.01500000 &  0.01470000 & -0.00280000 &  0.01490000 & -0.01060000 &  0.01550000 &  0.00890000 &  0.014300000 &  0.01490000 &  0.01430000 & -0.02320000 &  0.015800000 &  0.0137000 &  0.015600000 &  0.01300000 &  0.01180000 &  0.01540000 &  0.01420000 &  0.01460000 &  0.01520000 &  0.01470000 &  0.01460000 &  0.01500000 & -0.06340000 & -0.09150000 &  0.01680000 &  0.014000000 &  0.014000000 &  0.01300000 &  0.0144000 &  0.01420000 &  0.01360000 & -0.0588000 & -0.066200000 &  0.01350000 &  0.01450000 &  0.01490000 &  0.013500000 & -0.099700000 &  0.01520000 &  0.01490000 & -0.091100000 &  0.01560000 &  0.01370000 & -0.1004000000 &  0.01630000 & -0.09960000 &  0.01480000 & -0.09920000 &  0.01430000 &  0.01190000 &  0.01470000 &  0.014500000 &  0.014900000 &  0.01520000 &  0.00390000 &  0.01480000 &  0.01370000 &  0.01130000 &  0.01550000 &  0.01390000 &  0.015100000 &  0.01530000 &  0.0147000 &  0.0146000 &  0.014000000 &  0.01370000 &  0.013600000 & -0.09480000 & -0.097900000 &  0.014800000 &  0.01460000 &  0.01480000 &  0.01360000 &  0.00800000 &  0.01480000 &  0.015700000 &  0.0149000 &  0.01370000 &  0.01260000 &  0.00750000 &  0.01510000 &  0.01400000 &  0.014200000 &  0.01570000 & -0.0949000000 &  0.01510000 &  0.016100000 &  0.014300000 & -0.100700000 &  0.01430000 & -0.10790000 &  0.014300000 & -0.08310000 &  0.01580 &  0.01480000 &  0.00710000 & -0.0916000 &  0.01440000 &  0.0155000 & -0.02570000 &  0.01370000 &  0.0147000000 &  0.014100000 &  0.01470000 &  0.01400000 &  0.01470000 &  0.00720000 &  0.01500000 &  0.01350000 &  0.01460000 & -0.10520000 &  0.014500000 & -0.088300000 &  0.01590000 &  0.014800000 &  0.0144000 &  0.01530000 &  0.01450000 &  0.01360000 &  0.01380000 &  0.00890000 &  0.015200000 &  0.01410000 &  0.01460000 &  0.01470000 & -0.1001000 &  0.01370000 & -0.05830000 &  0.01550000 &  0.01520000 &  0.01530000 & -0.085300000 &  0.0153000 &  0.01590000 &  0.01300000 &  0.01590000 & -0.0734000 &  0.01540000 &  0.01440000 &  0.015000000 & -0.10430000 &  0.01570000 &  0.0148000000 & -0.098700000 &  0.01490000 &  0.01250000 &  0.00730000 & -0.09340000 &  0.013400000 &  0.01340000 &  0.01180000 & -0.02450000 &  0.01110000 &  0.01370000 &  0.01350000\\\\\n",
       "\t PC2          & -0.01320000 & -0.00260000 & -0.00500000 & -0.00810000 & -0.00930000 & -0.00970000 & -0.00930000 & -0.0077000 &  0.28970000 & -0.00830000 & -0.002200000 & -0.00400000 & -0.0059000 & -0.00250000 &  0.00250000 & -0.0064000 & -0.00240000 & -0.007800000 & -0.00740000 & -0.008500000 & -0.00060000 & -0.00310000 & -0.00370000 & -0.00980000 & -0.01250000 & -0.00900000 & -0.00440000 & -0.01550000 & -0.00890000 & -0.00090000 & -0.00820000 & -0.01750000 & -0.00470000 & -0.01510000 & -0.00780000 & -0.00850000 & -0.0046000 & -0.0009000 & -0.00300000 & -0.00350000 & -0.004000000 & -0.015700000 & -0.00220000 & -0.000900000 & -0.00650000 & -0.00690 & -0.0040000 & -0.00450000 & -0.00040000 & -0.01900000 & -0.00600000 & -0.00590000 &  0.05750000 & -0.00290000 & -0.00840000 &  0.02280000 & -0.00460000 & -0.01160000 & -0.00910000 & -0.00630000 & -0.014700000 &  0.0021000 & -0.00240000 & -0.00620000 & -0.00530000 &  0.10420000 &  0.00180000 & -0.00690000 & -0.00420000 & -0.00720000 & -0.00520000 & -0.00510000 & -0.00500000 & -0.01130000 & -0.00060000 & -0.004100000 &  0.00180000 & -0.00370000 & -0.01100000 & -0.0050000 & -0.00620000 & -0.01360000 & -0.00390000 & -0.00460000 & -0.00070000 &  0.00000000 & -0.006400 & -0.00540000 & -0.01100000 & -0.005200000 & -0.00690000 & -0.01520000 & -0.003100000 &  0.28950000 & -0.006800000 & -0.00710000 & -0.002300000 & -0.00250000 & -0.0029000 &  0.03720000 & -0.0141000 & -0.003200000 & -0.004600000 & -0.00730000 & -0.00680000 & -0.00400000 & -0.00480000 & -0.00050000 & -0.00790000 &  0.018800000 & -0.0064000 & -0.00770000 & -0.00760000 & -0.00090000 & -0.0004000 & -0.00550000 & -0.01230000 & -0.005200 & -0.01070000 & -0.00620000 & -0.00700000 & -0.00130000 & -0.007700000 & -0.01010000 & -0.004000000 & -0.0026000 & -0.00310000 & -0.01060000 & -0.00880000 &  0.00180000 & -0.0150000 & -0.00520000 & -0.00760000 &  0.00110000 & -0.003800000 & -0.0019000 &  0.07900000 & -0.00390000 & -0.00640000 & -0.00850000 & -0.01240000 & -0.00400000 & -0.00560000 &  0.228400000 & -0.006700000 & -0.00570000 & -0.00610000 & -0.006700000 & -0.00670000 & -0.00450000 & -0.00100000 & -0.00060000 & -0.0184000 & -0.00400000 & -0.00460000 & -0.00300000 & -0.005700000 & -0.00540000 & -0.00450000 & -0.00480000 & -0.00390000 & -0.002000000 & -0.00600000 & -0.00460000 & -0.00390000 &  0.07610000 & -0.009500000 & -0.00560000 & -0.0009000000 & -0.004400000 & -0.00600000 & -0.00070000 & -0.00730000 & -0.01480000 & -0.003100000 & -0.00410000 & -0.005600000 & -0.005900000 & -0.011400000 & -0.00570000 & -0.00300000 &  0.105100000 & -0.00230000 & -0.00090000 & -0.004000000 & -0.00260000 & -0.00960000 & -0.00320000 &  0.051900000 & -0.00660000 & -0.00160000 &  0.08800000 & -0.00840000 & -0.0077000 & -0.00760000 & -0.00570000 & -0.00120000 & -0.00550000 & -0.00380000 & -0.00750000 & -0.00800000 & -0.008500000 & -0.00760000 & -0.003300000 & -0.00760000 &  0.01010000 & -0.00680000 & -0.00840000 & -0.00610000 & -0.00100000 & -0.00500000 & -0.00430000 &  7.570000e-02 & -0.00840000 &  0.00170000 & -0.00850000 &  0.0011000 & -0.00840000 & -0.00640000 & -0.00390000 & -0.00810000 &  0.00320000 & -0.011700000 & -0.00800000 & -0.006700000 & -0.007000000 & -0.00720000 & -0.01650000 & -0.00260000 & -0.00440000 & -0.00520000 & -0.00210000 & -0.0035000 & -0.00340000 & -0.00850000 & -0.000400000 & -0.003100000 & -0.00500000 & -0.00210000 & -0.00080000 &  0.27730000 & -0.015200000 &  0.00170000 &  0.00280000 & -0.01220000 & -0.00560000 & -0.00580000 &  0.2898000 & -0.00710000 & -0.00820000 & -0.00010000 & -1.600000e-03 & -0.00250000 & -0.01170000 & -0.0053000 & -0.006500000 & -0.002200000 & -0.00570000 & -0.01590000 & -0.0040000 & -0.00450000 & -0.00470000 & -0.00140000 & -0.00130000 & -0.00460000 & -0.01200000 & -0.00590000 & -0.00260000 & -0.01480000 & -0.00420000 & -0.00280000 & -0.01160000 & -0.00870000 & -0.00800000 &  0.082900000 & -0.00440000 & -0.00760000 & -0.009900000 & -0.00800000 & -0.001200000 & -0.00520000 & -0.00500000 & -0.00780000 & -0.00300000 & -0.00570000 & -0.005700000 & -0.00160000 & -0.014200000 & -0.0089000 & -0.00600000 & -0.004600000 & -0.00470000 & -0.00650000 & -0.00800000 & -0.00720000 & -0.004200000 & -0.01380000 & -0.00140000 & -0.00450000 & -0.00470000 & -0.01720000 & -0.00900000 & -0.00610000 & -0.001300000 & -0.01410000 & -0.004600000 & -0.00620000 & -0.00340000 & -0.00210000 & -0.00540000 &  0.28540000 & -0.00420000 & -0.0029000 & -0.0040000 & -0.01000000 & -0.00600000 &  0.00440000 & -0.012800000 & -0.0001000 & -0.00680000 & -0.00590000 &  0.078000000 & -0.004000000 & -0.0049000 & -0.004000000 & -0.00460000 & -0.00620000 &  0.26720000 & -0.00210000 & -0.003100000 & -0.0061000 & -0.00210000 & -0.01290000 & -0.00260000 & -0.00470000 & -0.00720000 & -0.008600000 & -0.00700000 & -0.00790000 & -0.01730000 &  0.00720000 & -0.00620000 & -0.00590000 & -0.000900000 & -0.00800000 &  0.0453000000 & -0.00480000 & -0.0054000 & -0.00600000 &  0.001000000 & -0.00420000 &  0.000700000 & -0.018600000 & -0.00730000 & -0.00680000 & -0.00020000 & -0.006400000 & -0.00370000 & -0.00580000 & -0.00420000 &  0.037300000 & -0.000700000 & -0.004600000 & -0.001100000 & -0.00490000 &  0.0175000 & -0.00650000 & -0.00870000 & -0.00430000 & -0.00780000 & -0.004500000 & -0.00780000 & -0.007600000 & -0.00610000 &  0.00690000 & -0.00800000 & -0.0039000 & -0.008600000 & -0.00620000 & -0.00820000 & -0.00730000 & -0.005800000 & -0.00590000 & -0.00800000 & -0.00460000 &  0.00770000 & -0.00480000 & -0.01680000 & -0.00770000 & -0.004400000 & -0.003700000 & -0.0038000 & -0.00250000 & -0.002000000 &  0.00440000 & -0.01020000 & -0.00460000 & -0.00600 & -0.00880000 &  0.003800000 & -0.002800000 & -0.0026000000 & -0.006500000 & -0.00760000 & -0.013000000 & -5.800000e-03 & -0.0031000 & -0.00540000 & -0.00850000 & -0.004900000 & -0.00430000 & -0.01250000 & -0.005000000 & -0.00900000 & -0.005300000 & -0.003500000 & -0.00520000 & -0.00760000 & -0.00340000 & -0.00220000 & -0.0002000000 & -0.0060000 &  0.292700000 & -0.007000000 & -0.00480000 & -0.00170000 & -0.00210000 &  0.00090000 & -0.00720000 &  0.03010000 & -0.00480000 & -0.00090000 &  0.008500000 &  0.00140000 & -0.00540000 &  0.29290000 & -0.005100000 &  0.0078000 & -0.005900000 & -0.00500000 & -0.00140000 & -0.00330000 & -0.00640000 & -0.00550000 & -0.00360000 & -0.00510000 & -0.00510000 & -0.00580000 & -0.01660000 & -0.01180000 & -0.00610000 & -0.004300000 & -0.003800000 & -0.00390000 & -0.0075000 & -0.00170000 & -0.00620000 & -0.0107000 &  0.000700000 & -0.00800000 &  0.00120000 & -0.00130000 & -0.006700000 & -0.016800000 & -0.00660000 & -0.00420000 & -0.016000000 & -0.00970000 & -0.00930000 & -0.0144000000 & -0.01010000 & -0.01430000 & -0.00420000 & -0.01290000 & -0.00970000 & -0.00030000 & -0.00570000 & -0.002100000 & -0.010100000 & -0.00490000 &  0.05110000 & -0.00440000 & -0.00500000 & -0.00230000 & -0.00200000 & -0.00670000 & -0.002900000 & -0.00320000 & -0.0058000 & -0.0039000 & -0.002800000 & -0.00730000 & -0.012100000 & -0.01110000 & -0.016100000 & -0.006300000 & -0.00290000 & -0.00450000 & -0.00570000 & -0.00160000 & -0.00190000 & -0.006700000 & -0.0060000 & -0.00190000 & -0.00410000 &  0.00030000 & -0.00230000 & -0.00600000 & -0.004500000 & -0.00790000 & -0.0132000000 & -0.00490000 & -0.007700000 & -0.006100000 & -0.009600000 & -0.00550000 & -0.01630000 & -0.010100000 & -0.01290000 & -0.00190 & -0.00520000 & -0.00020000 & -0.0197000 & -0.00390000 & -0.0037000 & -0.00500000 & -0.00940000 & -0.0061000000 & -0.004400000 & -0.00400000 & -0.00680000 & -0.00840000 & -0.00130000 & -0.00330000 & -0.00520000 & -0.00760000 & -0.01680000 & -0.006600000 & -0.014300000 & -0.00300000 & -0.000600000 & -0.0077000 & -0.00560000 & -0.00680000 & -0.00080000 & -0.01080000 & -0.00350000 & -0.008000000 & -0.00310000 & -0.00310000 & -0.00570000 & -0.0080000 & -0.00340000 & -0.00450000 & -0.00100000 & -0.00820000 & -0.00570000 & -0.007900000 & -0.0078000 & -0.00050000 & -0.00420000 & -0.00650000 & -0.0101000 & -0.00600000 & -0.00080000 & -0.007000000 & -0.01270000 & -0.00760000 & -0.0085000000 & -0.019500000 & -0.00680000 & -0.00680000 &  0.00600000 & -0.01430000 & -0.004700000 & -0.00880000 &  0.00050000 &  0.29180000 & -0.00480000 & -0.00480000 & -0.00530000\\\\\n",
       "\t PC3          & -0.00620000 &  0.00040000 &  0.03040000 &  0.01330000 &  0.01070000 &  0.00670000 &  0.03270000 & -0.0044000 &  0.01330000 &  0.00260000 &  0.022900000 &  0.01650000 &  0.0096000 & -0.00360000 &  0.01030000 & -0.0041000 & -0.12950000 & -0.002100000 & -0.01280000 &  0.007400000 &  0.00600000 & -0.06380000 &  0.02090000 &  0.01550000 &  0.01280000 &  0.01580000 &  0.00820000 & -0.00380000 &  0.00940000 &  0.02870000 & -0.01050000 & -0.00060000 &  0.01070000 & -0.00010000 &  0.02760000 &  0.01640000 &  0.0131000 &  0.0417000 & -0.01540000 &  0.01500000 &  0.021500000 & -0.000700000 & -0.00150000 & -0.018200000 &  0.01670000 &  0.00620 &  0.0122000 & -0.08530000 &  0.03540000 &  0.00030000 &  0.01100000 &  0.00790000 &  0.03580000 & -0.00920000 &  0.02090000 & -0.10560000 &  0.01660000 & -0.00830000 &  0.03920000 &  0.00980000 &  0.019700000 & -0.0461000 &  0.02170000 & -0.01430000 &  0.02360000 & -0.07400000 &  0.02570000 &  0.04000000 &  0.01440000 &  0.00570000 &  0.02510000 &  0.02350000 & -0.00910000 &  0.01330000 & -0.13240000 &  0.022300000 &  0.00170000 &  0.03160000 &  0.00600000 & -0.0124000 & -0.01820000 &  0.01100000 & -0.07810000 & -0.00370000 & -0.00550000 &  0.05490000 &  0.000600 &  0.02280000 &  0.00480000 & -0.007500000 &  0.01440000 &  0.00690000 &  0.018500000 &  0.02090000 &  0.014100000 &  0.01560000 & -0.000600000 &  0.03770000 &  0.0217000 & -0.02900000 &  0.0079000 &  0.006000000 & -0.007800000 &  0.02410000 &  0.01020000 &  0.02550000 &  0.00040000 & -0.12990000 &  0.02380000 & -0.158300000 &  0.0256000 & -0.00630000 & -0.00400000 &  0.01670000 &  0.0398000 & -0.01470000 &  0.00510000 &  0.011900 & -0.00390000 & -0.00070000 &  0.00860000 & -0.08050000 &  0.006300000 &  0.00960000 &  0.007100000 &  0.0191000 &  0.02660000 & -0.00050000 &  0.00410000 & -0.15520000 & -0.0054000 &  0.01880000 & -0.04690000 & -0.00530000 &  0.003200000 &  0.0503000 & -0.00960000 & -0.02170000 & -0.01030000 &  0.00470000 &  0.00640000 &  0.00040000 &  0.00330000 &  0.020800000 & -0.058100000 & -0.05850000 &  0.00490000 &  0.009800000 &  0.01780000 & -0.01290000 &  0.03970000 & -0.00460000 &  0.0000000 &  0.01090000 & -0.00650000 &  0.02660000 &  0.003100000 &  0.02690000 &  0.02240000 & -0.02200000 &  0.01110000 & -0.016700000 &  0.00000000 &  0.01530000 & -0.01900000 & -0.01090000 &  0.015200000 &  0.00310000 &  0.0290000000 & -0.001800000 &  0.02770000 &  0.00390000 &  0.01540000 & -0.00170000 & -0.007900000 & -0.01220000 &  0.017000000 &  0.031700000 &  0.003500000 &  0.02340000 &  0.01970000 & -0.068100000 &  0.01540000 &  0.00890000 &  0.031000000 & -0.00790000 &  0.01460000 &  0.01230000 & -0.005800000 &  0.00770000 & -0.01800000 &  0.02010000 &  0.01360000 &  0.0284000 &  0.01700000 &  0.00120000 &  0.01470000 & -0.01010000 & -0.06030000 &  0.02280000 & -0.00520000 & -0.010200000 &  0.02760000 &  0.027200000 &  0.01890000 & -0.10460000 &  0.00270000 & -0.00760000 &  0.01140000 & -0.07160000 & -0.01790000 & -0.00190000 & -3.320000e-02 &  0.01650000 &  0.02860000 & -0.00130000 &  0.0218000 &  0.01880000 & -0.02890000 &  0.00270000 & -0.01900000 &  0.04340000 &  0.018900000 & -0.00470000 &  0.002000000 &  0.010100000 &  0.00380000 &  0.00840000 &  0.00660000 &  0.00110000 &  0.01450000 & -0.00180000 &  0.0108000 &  0.01870000 & -0.01970000 &  0.012500000 &  0.020700000 &  0.01150000 &  0.00350000 & -0.06950000 &  0.01450000 &  0.009600000 & -0.00550000 & -0.16490000 &  0.02460000 &  0.00440000 &  0.00820000 &  0.0214000 &  0.01250000 &  0.01730000 &  0.02330000 &  1.670000e-02 &  0.00300000 &  0.00350000 &  0.0282000 &  0.008700000 &  0.010300000 &  0.00550000 &  0.00400000 &  0.0212000 & -0.01830000 & -0.08210000 & -0.04800000 & -0.15070000 &  0.01280000 &  0.00630000 &  0.00610000 &  0.02100000 &  0.01190000 &  0.01780000 &  0.03540000 & -0.00280000 &  0.00940000 &  0.00050000 & -0.020500000 &  0.00230000 &  0.00800000 &  0.018800000 &  0.01910000 &  0.025200000 &  0.00410000 &  0.01090000 &  0.00200000 & -0.06840000 & -0.00520000 &  0.012500000 &  0.00920000 & -0.000500000 & -0.0078000 &  0.01540000 &  0.023800000 &  0.01580000 &  0.01480000 &  0.00630000 &  0.00970000 &  0.015200000 & -0.00430000 & -0.02100000 & -0.01980000 &  0.00640000 & -0.00330000 &  0.00690000 &  0.01340000 &  0.023300000 &  0.02090000 &  0.026500000 &  0.01220000 &  0.01040000 & -0.06720000 &  0.01510000 &  0.01830000 & -0.03240000 &  0.0298000 & -0.0244000 &  0.03990000 &  0.01410000 & -0.16650000 &  0.005800000 &  0.0211000 & -0.00590000 &  0.00140000 & -0.067500000 &  0.008000000 &  0.0124000 &  0.018600000 &  0.03710000 &  0.01360000 &  0.01720000 &  0.01900000 & -0.002700000 &  0.0136000 &  0.00200000 &  0.01590000 &  0.00060000 &  0.01890000 &  0.01580000 &  0.014400000 & -0.00630000 & -0.00570000 &  0.00330000 & -0.16700000 &  0.01920000 & -0.00100000 &  0.004900000 &  0.00220000 & -0.0026000000 & -0.08470000 &  0.0199000 & -0.03960000 & -0.007100000 &  0.01400000 &  0.017200000 &  0.004000000 &  0.00920000 &  0.02280000 & -0.00500000 & -0.002900000 & -0.00310000 &  0.01160000 &  0.01390000 & -0.013700000 & -0.060600000 & -0.000400000 & -0.021800000 & -0.00250000 &  0.0166000 &  0.01120000 &  0.00550000 &  0.01510000 & -0.00680000 & -0.000700000 &  0.00880000 &  0.012500000 &  0.01490000 & -0.01830000 &  0.00610000 &  0.0363000 &  0.007000000 &  0.00830000 &  0.02250000 & -0.00340000 & -0.010900000 & -0.06170000 &  0.01880000 & -0.00620000 & -0.11550000 &  0.01510000 &  0.00230000 &  0.01260000 & -0.000500000 &  0.006600000 &  0.0111000 & -0.07510000 & -0.104400000 & -0.14990000 &  0.01560000 & -0.01200000 &  0.01010 &  0.00190000 & -0.111600000 &  0.023400000 & -0.0634000000 &  0.024800000 &  0.00930000 &  0.014300000 &  6.300000e-03 &  0.0053000 & -0.00160000 &  0.01360000 &  0.016800000 &  0.02680000 &  0.02370000 & -0.034700000 &  0.02290000 & -0.064000000 & -0.027800000 &  0.03480000 &  0.01850000 &  0.02570000 &  0.00420000 & -0.0602000000 &  0.0203000 &  0.014900000 &  0.031000000 & -0.00550000 & -0.00170000 & -0.00740000 &  0.01880000 &  0.01450000 & -0.04370000 &  0.01410000 & -0.14110000 &  0.037500000 &  0.01200000 &  0.01150000 &  0.01780000 &  0.009500000 &  0.0431000 &  0.013600000 &  0.00490000 & -0.05150000 &  0.01250000 &  0.02280000 &  0.00800000 &  0.00980000 &  0.02940000 &  0.01660000 &  0.00620000 &  0.00670000 &  0.00590000 &  0.00150000 &  0.011100000 &  0.032300000 &  0.01150000 &  0.0227000 &  0.02410000 &  0.00400000 & -0.0059000 & -0.016400000 &  0.00650000 &  0.01430000 &  0.00620000 & -0.002500000 &  0.006600000 &  0.00220000 &  0.00740000 & -0.001900000 &  0.01840000 &  0.02470000 &  0.0040000000 &  0.02520000 &  0.00590000 &  0.00690000 &  0.01020000 &  0.00570000 & -0.07590000 &  0.01610000 &  0.011700000 &  0.001600000 &  0.00690000 &  0.01920000 &  0.00040000 &  0.01630000 & -0.04390000 &  0.01290000 &  0.01870000 &  0.009800000 &  0.02090000 & -0.0024000 &  0.0078000 & -0.034900000 &  0.01890000 &  0.014200000 &  0.00430000 & -0.000100000 &  0.009200000 &  0.00830000 &  0.01940000 &  0.00380000 & -0.14160000 &  0.01320000 &  0.001900000 &  0.0130000 &  0.02030000 &  0.02250000 & -0.16040000 &  0.02870000 &  0.03310000 &  0.006100000 &  0.02540000 & -0.0041000000 & -0.00440000 &  0.036800000 &  0.014200000 &  0.003000000 &  0.00820000 &  0.00600000 & -0.002600000 &  0.01070000 &  0.01020 &  0.02010000 & -0.14210000 &  0.0105000 & -0.00790000 &  0.0101000 &  0.00020000 & -0.00380000 &  0.0183000000 &  0.016700000 & -0.00040000 &  0.01610000 &  0.00780000 & -0.14060000 &  0.01140000 & -0.00490000 &  0.02630000 & -0.01020000 &  0.021700000 &  0.008500000 &  0.00530000 &  0.045700000 &  0.0130000 &  0.00660000 &  0.00830000 &  0.00990000 &  0.01180000 & -0.10920000 &  0.023000000 &  0.02220000 & -0.00150000 &  0.01620000 & -0.0015000 &  0.00490000 &  0.01910000 &  0.00480000 & -0.00460000 &  0.03940000 & -0.001800000 &  0.0171000 &  0.03750000 & -0.02060000 & -0.00240000 &  0.0115000 &  0.00680000 &  0.01390000 &  0.008400000 & -0.00430000 & -0.00970000 &  0.0125000000 &  0.003100000 & -0.01610000 &  0.02410000 & -0.15480000 &  0.00890000 & -0.011100000 &  0.00440000 & -0.06780000 &  0.02270000 & -0.07950000 &  0.01710000 & -0.00580000\\\\\n",
       "\t PC4          &  0.00460000 & -0.00150000 &  0.00760000 &  0.00350000 & -0.00380000 & -0.01440000 &  0.00560000 & -0.0146000 &  0.11110000 &  0.01500000 &  0.001800000 & -0.00250000 &  0.0145000 &  0.00530000 & -0.00020000 &  0.0020000 &  0.01430000 & -0.000700000 &  0.00140000 & -0.013900000 &  0.02750000 & -0.00360000 &  0.00360000 &  0.00540000 &  0.02100000 &  0.01350000 & -0.01190000 & -0.00450000 &  0.01020000 &  0.00910000 &  0.00230000 &  0.00740000 &  0.02090000 &  0.00680000 &  0.01700000 & -0.00360000 & -0.0084000 &  0.0303000 & -0.00390000 &  0.02920000 & -0.012700000 & -0.004600000 & -0.01280000 &  0.018600000 & -0.00670000 & -0.01290 & -0.0061000 & -0.00050000 &  0.02790000 &  0.00650000 & -0.00750000 & -0.00920000 & -0.13610000 &  0.01080000 &  0.00640000 &  0.01900000 &  0.00970000 &  0.00630000 & -0.00250000 & -0.00260000 &  0.003500000 & -0.0606000 &  0.00860000 &  0.00850000 &  0.00950000 &  0.02320000 & -0.01150000 &  0.01450000 & -0.02090000 &  0.00290000 &  0.01630000 &  0.00380000 &  0.00330000 & -0.00060000 &  0.00600000 & -0.003200000 & -0.01080000 &  0.01360000 & -0.01060000 & -0.0009000 & -0.00670000 &  0.00080000 &  0.00830000 & -0.01320000 & -0.01600000 &  0.03730000 & -0.003200 & -0.00940000 &  0.00290000 &  0.006700000 & -0.01070000 & -0.00190000 &  0.008800000 &  0.11300000 &  0.004400000 & -0.00440000 & -0.007300000 & -0.01590000 &  0.0161000 & -0.13450000 &  0.0063000 &  0.000100000 &  0.023400000 &  0.00480000 & -0.01430000 &  0.00730000 &  0.00670000 & -0.00050000 & -0.01120000 &  0.005800000 & -0.0022000 &  0.00900000 &  0.00360000 &  0.01190000 &  0.0347000 &  0.00370000 &  0.01890000 & -0.020100 &  0.00160000 &  0.01540000 & -0.00030000 & -0.01250000 & -0.003200000 &  0.00170000 &  0.007700000 & -0.0164000 &  0.01460000 &  0.01700000 &  0.01340000 &  0.01020000 &  0.0026000 & -0.00470000 &  0.01090000 &  0.02600000 &  0.003800000 &  0.0017000 & -0.23030000 &  0.00230000 &  0.01400000 &  0.00220000 & -0.01450000 &  0.01450000 & -0.00010000 &  0.044300000 &  0.012700000 &  0.00470000 & -0.00200000 &  0.003100000 &  0.01520000 &  0.00390000 &  0.02610000 &  0.02270000 & -0.0004000 & -0.00410000 & -0.00170000 &  0.00010000 & -0.004800000 &  0.02680000 & -0.00250000 & -0.00220000 &  0.00450000 &  0.008700000 &  0.00680000 &  0.00750000 &  0.01070000 & -0.21120000 &  0.013000000 & -0.01160000 &  0.0245000000 &  0.004200000 & -0.00370000 &  0.01100000 &  0.00560000 &  0.00220000 &  0.010300000 & -0.01090000 & -0.003100000 & -0.002400000 &  0.005300000 &  0.02490000 &  0.00920000 &  0.026600000 &  0.00300000 &  0.00680000 &  0.045100000 &  0.00270000 &  0.00730000 & -0.01980000 & -0.150000000 & -0.00130000 & -0.02150000 &  0.02950000 & -0.00080000 & -0.0020000 &  0.00120000 & -0.00200000 & -0.00580000 & -0.00050000 &  0.00710000 & -0.00620000 & -0.00270000 & -0.017300000 &  0.00150000 &  0.009000000 & -0.00240000 &  0.02660000 & -0.00090000 &  0.02550000 &  0.00810000 & -0.00180000 &  0.01280000 &  0.01330000 & -2.255000e-01 & -0.01160000 &  0.01390000 &  0.00630000 &  0.0131000 & -0.00090000 & -0.00770000 &  0.01590000 &  0.00550000 &  0.00230000 & -0.004100000 &  0.00770000 &  0.004400000 &  0.015100000 &  0.00010000 & -0.00160000 &  0.00760000 &  0.00330000 & -0.00520000 & -0.00320000 &  0.0117000 & -0.00600000 &  0.00250000 & -0.000300000 &  0.000600000 &  0.00360000 & -0.00420000 & -0.00520000 &  0.12440000 &  0.009900000 & -0.00390000 &  0.01410000 & -0.00820000 &  0.00350000 &  0.00650000 &  0.0909000 &  0.00410000 & -0.00690000 &  0.02740000 &  1.180000e-02 &  0.00180000 & -0.00880000 &  0.0062000 &  0.014500000 &  0.001200000 & -0.00230000 &  0.01620000 &  0.0010000 & -0.00380000 &  0.00240000 & -0.00140000 &  0.01030000 & -0.01060000 &  0.00880000 & -0.00570000 & -0.00210000 &  0.00810000 & -0.00630000 &  0.00670000 & -0.00840000 & -0.00940000 & -0.01050000 & -0.216400000 & -0.01750000 &  0.00710000 &  0.011000000 & -0.00670000 &  0.020400000 &  0.00600000 &  0.00380000 &  0.01110000 & -0.00600000 & -0.00300000 &  0.005700000 & -0.00210000 &  0.015800000 &  0.0099000 &  0.01430000 &  0.012200000 &  0.00370000 & -0.00350000 & -0.00510000 &  0.01500000 &  0.005100000 &  0.01550000 &  0.00860000 &  0.00990000 &  0.00110000 &  0.01140000 & -0.00630000 &  0.01390000 &  0.026500000 &  0.01320000 &  0.000900000 &  0.01500000 &  0.00080000 & -0.00430000 & -0.01910000 &  0.12650000 & -0.00390000 &  0.0025000 & -0.0110000 & -0.01550000 & -0.01800000 & -0.00390000 &  0.017800000 &  0.0165000 & -0.00010000 & -0.00540000 &  0.011500000 & -0.006900000 & -0.0072000 & -0.022200000 & -0.01270000 &  0.00410000 &  0.11420000 & -0.01920000 &  0.012200000 & -0.0064000 &  0.00530000 & -0.00740000 & -0.00150000 &  0.01410000 & -0.00260000 &  0.005800000 &  0.01430000 & -0.00370000 &  0.00450000 &  0.00910000 &  0.01580000 &  0.00430000 & -0.004400000 & -0.00290000 & -0.1447000000 &  0.01150000 & -0.0134000 &  0.01580000 & -0.043300000 &  0.00540000 &  0.030400000 &  0.010500000 &  0.00010000 &  0.01970000 &  0.00450000 &  0.006500000 & -0.00220000 & -0.02490000 &  0.00210000 & -0.121700000 & -0.002000000 &  0.022400000 & -0.015900000 &  0.01030000 & -0.0527000 & -0.00440000 & -0.01530000 &  0.02070000 & -0.00330000 & -0.006500000 &  0.00810000 & -0.008800000 & -0.00360000 & -0.04950000 &  0.00050000 &  0.0001000 & -0.010100000 & -0.00390000 & -0.00480000 & -0.00650000 &  0.016700000 &  0.00470000 &  0.00300000 & -0.00440000 &  0.00450000 &  0.00640000 &  0.00440000 & -0.00220000 &  0.009600000 &  0.014800000 &  0.0149000 &  0.00770000 &  0.001600000 &  0.00240000 & -0.00350000 &  0.00210000 & -0.00480 & -0.00820000 &  0.011100000 &  0.004100000 & -0.0029000000 &  0.009900000 & -0.00810000 &  0.010700000 &  7.700000e-03 & -0.0017000 & -0.00910000 & -0.02070000 & -0.010500000 &  0.00350000 &  0.01410000 &  0.010300000 &  0.00260000 &  0.006100000 &  0.023200000 &  0.00440000 & -0.00510000 &  0.00600000 & -0.00340000 &  0.0132000000 & -0.0120000 &  0.114200000 & -0.018000000 & -0.01130000 & -0.01370000 &  0.00260000 &  0.04460000 &  0.00390000 & -0.12060000 & -0.00910000 &  0.01410000 &  0.023800000 &  0.03420000 &  0.01320000 &  0.07710000 & -0.014400000 &  0.0210000 &  0.011200000 & -0.00380000 &  0.00910000 & -0.00830000 &  0.01090000 &  0.01660000 &  0.00440000 & -0.00060000 & -0.00210000 &  0.00490000 &  0.00420000 &  0.00450000 & -0.00010000 &  0.000900000 &  0.016900000 &  0.00270000 & -0.0134000 & -0.01060000 &  0.00190000 &  0.0014000 & -0.030200000 &  0.01300000 &  0.02680000 &  0.00180000 & -0.016600000 &  0.006600000 &  0.01170000 &  0.00660000 &  0.009500000 &  0.01570000 &  0.00870000 &  0.0029000000 &  0.00530000 & -0.00850000 & -0.00370000 &  0.01440000 &  0.00050000 &  0.00570000 &  0.00160000 &  0.010600000 &  0.004900000 &  0.00830000 & -0.14790000 &  0.00450000 &  0.00180000 &  0.00890000 & -0.02140000 &  0.01070000 &  0.016900000 & -0.00740000 &  0.0083000 &  0.0129000 & -0.004700000 &  0.00460000 &  0.004400000 & -0.00130000 &  0.007600000 &  0.015300000 & -0.00540000 & -0.00170000 &  0.01160000 &  0.01310000 & -0.01500000 & -0.015700000 &  0.0166000 &  0.00490000 & -0.00160000 &  0.01240000 & -0.00430000 &  0.01700000 &  0.003600000 &  0.01980000 &  0.0011000000 & -0.01000000 & -0.000400000 &  0.000300000 & -0.001100000 & -0.00350000 &  0.00660000 & -0.017800000 &  0.00320000 & -0.00110 & -0.00900000 &  0.00560000 &  0.0103000 & -0.00740000 &  0.0029000 &  0.00490000 &  0.01880000 &  0.0089000000 & -0.005600000 & -0.01860000 & -0.00150000 &  0.01030000 &  0.00740000 &  0.01630000 &  0.00770000 & -0.00310000 & -0.00340000 &  0.015400000 &  0.003000000 &  0.00260000 &  0.011300000 & -0.0068000 & -0.01040000 &  0.00620000 & -0.00280000 & -0.00540000 &  0.00570000 & -0.010300000 & -0.00320000 & -0.00300000 & -0.01700000 & -0.0103000 &  0.01320000 & -0.00480000 & -0.00220000 &  0.00150000 &  0.00160000 & -0.019000000 &  0.0059000 &  0.01840000 & -0.01560000 & -0.00110000 & -0.0082000 &  0.00290000 & -0.01020000 &  0.006900000 &  0.00560000 & -0.00800000 & -0.0026000000 &  0.014800000 & -0.00640000 &  0.01980000 &  0.00890000 &  0.00640000 & -0.009800000 &  0.00520000 &  0.00630000 &  0.12100000 & -0.01130000 & -0.00160000 &  0.00140000\\\\\n",
       "\t PC5          &  0.00540000 &  0.01120000 &  0.03470000 &  0.00180000 & -0.00830000 &  0.02960000 &  0.05100000 &  0.0063000 &  0.02620000 &  0.02280000 &  0.042500000 &  0.03660000 &  0.0263000 &  0.00640000 & -0.12640000 & -0.0016000 & -0.02240000 &  0.015100000 &  0.00860000 &  0.037900000 & -0.02000000 &  0.02730000 &  0.02100000 &  0.02580000 & -0.00150000 &  0.03660000 &  0.03310000 & -0.01020000 &  0.02110000 & -0.11360000 &  0.00020000 & -0.00540000 &  0.01150000 &  0.00450000 &  0.02190000 &  0.03780000 &  0.0365000 & -0.1445000 &  0.01840000 & -0.10580000 &  0.028200000 & -0.013100000 & -0.00980000 &  0.019800000 &  0.01510000 &  0.00760 &  0.0133000 & -0.00890000 & -0.11520000 & -0.00340000 &  0.01480000 &  0.01020000 &  0.00180000 & -0.04550000 &  0.01210000 & -0.03770000 &  0.00540000 & -0.00240000 &  0.00890000 &  0.01350000 &  0.004900000 & -0.0095000 &  0.01850000 &  0.00790000 & -0.04260000 & -0.06330000 & -0.01870000 & -0.05140000 &  0.00680000 &  0.02080000 & -0.03830000 &  0.04640000 &  0.02400000 &  0.03250000 &  0.01990000 &  0.019000000 &  0.01010000 & -0.11500000 &  0.01130000 &  0.0167000 &  0.02390000 &  0.00870000 & -0.00110000 &  0.00560000 &  0.02390000 & -0.14980000 & -0.012300 &  0.02590000 &  0.00490000 & -0.048500000 &  0.01900000 &  0.00380000 & -0.061800000 &  0.04480000 &  0.007600000 &  0.01420000 &  0.029800000 &  0.03740000 &  0.0040000 & -0.00560000 & -0.0079000 &  0.026300000 & -0.009600000 &  0.02920000 &  0.01090000 &  0.03400000 &  0.00800000 &  0.00870000 &  0.04830000 & -0.019900000 &  0.0209000 &  0.03360000 &  0.04560000 & -0.02550000 & -0.1297000 &  0.00270000 &  0.00580000 &  0.002000 & -0.00030000 &  0.01690000 &  0.04230000 & -0.01090000 &  0.021700000 & -0.00770000 &  0.018900000 &  0.0143000 & -0.05900000 &  0.02420000 &  0.01500000 & -0.02440000 & -0.0004000 &  0.01080000 &  0.00390000 & -0.07430000 &  0.020400000 &  0.0002000 & -0.03670000 & -0.01170000 &  0.00610000 &  0.03230000 & -0.01210000 &  0.00230000 &  0.00750000 &  0.006300000 &  0.005300000 &  0.00940000 &  0.01410000 &  0.020700000 &  0.02050000 &  0.01730000 & -0.13410000 & -0.10090000 &  0.0252000 &  0.03200000 &  0.01040000 &  0.02770000 &  0.046300000 & -0.06960000 &  0.01490000 &  0.01990000 &  0.00620000 & -0.070900000 &  0.00560000 &  0.00160000 &  0.02450000 & -0.04230000 &  0.004700000 &  0.00990000 & -0.1005000000 &  0.003700000 &  0.03880000 & -0.07520000 &  0.03770000 &  0.00360000 &  0.027900000 &  0.03420000 &  0.013400000 &  0.023600000 &  0.002600000 &  0.00720000 & -0.06640000 & -0.054900000 & -0.00360000 & -0.12410000 & -0.161100000 & -0.01510000 &  0.01520000 & -0.01310000 & -0.016800000 &  0.00290000 & -0.00110000 &  0.03140000 &  0.04780000 &  0.0247000 &  0.02070000 &  0.02020000 & -0.03190000 & -0.00440000 & -0.00130000 &  0.03940000 &  0.00790000 &  0.003400000 &  0.01240000 & -0.006600000 &  0.01630000 & -0.01630000 &  0.03190000 & -0.02690000 &  0.00460000 &  0.00330000 & -0.04080000 & -0.03700000 & -5.370000e-02 &  0.00990000 & -0.09790000 &  0.01580000 & -0.1168000 &  0.03070000 & -0.00160000 &  0.02140000 &  0.01430000 & -0.02880000 &  0.030100000 &  0.01160000 & -0.002000000 &  0.030800000 &  0.02010000 &  0.00460000 &  0.01090000 &  0.01160000 &  0.02330000 & -0.04530000 & -0.0406000 & -0.00910000 &  0.00170000 & -0.024400000 & -0.001300000 &  0.02910000 &  0.00070000 & -0.00490000 &  0.04290000 & -0.005500000 &  0.03230000 & -0.02790000 &  0.03010000 & -0.00040000 &  0.02470000 &  0.0326000 &  0.02200000 &  0.01760000 & -0.07120000 &  4.800000e-03 &  0.00990000 & -0.00920000 &  0.0332000 & -0.007300000 &  0.036100000 &  0.01970000 &  0.01090000 &  0.0467000 &  0.00060000 &  0.00180000 & -0.00400000 &  0.00320000 & -0.00920000 & -0.00410000 &  0.00840000 &  0.01840000 &  0.02070000 &  0.01270000 & -0.11570000 &  0.01870000 &  0.01970000 &  0.01320000 & -0.025600000 & -0.02220000 & -0.00030000 &  0.032000000 &  0.02540000 & -0.134100000 &  0.03570000 &  0.02070000 &  0.01590000 &  0.00980000 &  0.01320000 &  0.030900000 &  0.01750000 & -0.002300000 &  0.0030000 &  0.04250000 &  0.037600000 &  0.00590000 &  0.04350000 &  0.01580000 &  0.00570000 &  0.019700000 &  0.01900000 & -0.00960000 &  0.00800000 &  0.01120000 &  0.00630000 & -0.01050000 &  0.01020000 & -0.134300000 &  0.00460000 & -0.052000000 & -0.01200000 &  0.02300000 &  0.00510000 &  0.03840000 &  0.04630000 &  0.01390000 &  0.0018000 &  0.0199000 &  0.04680000 &  0.00310000 & -0.03840000 & -0.012500000 & -0.0999000 &  0.00260000 &  0.01250000 & -0.036600000 &  0.009800000 &  0.0421000 &  0.013300000 &  0.00090000 &  0.02990000 &  0.03110000 &  0.01130000 &  0.004600000 &  0.0093000 & -0.02340000 &  0.00360000 &  0.01360000 &  0.00140000 &  0.01310000 & -0.000200000 &  0.01960000 &  0.00000000 &  0.00710000 & -0.04940000 &  0.02220000 & -0.04120000 & -0.004000000 &  0.00940000 & -0.0351000000 &  0.01530000 &  0.0323000 &  0.02000000 & -0.009900000 &  0.02200000 & -0.127600000 &  0.009800000 &  0.00300000 & -0.00250000 &  0.02350000 &  0.009000000 &  0.02930000 &  0.04040000 & -0.01660000 & -0.020900000 & -0.006700000 & -0.009100000 &  0.008400000 &  0.02920000 & -0.0076000 &  0.03100000 &  0.01690000 & -0.04070000 &  0.02810000 &  0.004000000 & -0.01950000 &  0.020500000 &  0.03320000 & -0.01830000 &  0.02240000 &  0.0194000 & -0.002600000 &  0.00330000 &  0.04150000 &  0.01050000 &  0.003100000 & -0.00430000 &  0.02080000 &  0.02470000 & -0.00930000 & -0.09810000 &  0.00780000 &  0.02210000 &  0.014000000 &  0.048200000 & -0.0348000 &  0.00960000 &  0.017500000 & -0.01070000 &  0.02220000 &  0.03070000 &  0.02420 & -0.01400000 & -0.098700000 & -0.044100000 &  0.0166000000 &  0.011900000 &  0.02630000 &  0.002500000 & -1.140000e-02 &  0.0151000 &  0.03350000 &  0.00580000 &  0.024000000 &  0.04840000 &  0.00150000 & -0.042400000 &  0.05560000 &  0.015400000 & -0.036000000 & -0.03780000 &  0.01300000 & -0.00200000 & -0.01980000 & -0.0105000000 & -0.0012000 &  0.031200000 &  0.011500000 &  0.01950000 & -0.00100000 &  0.01400000 & -0.07700000 & -0.00980000 &  0.01630000 &  0.00740000 &  0.01690000 & -0.053200000 & -0.12020000 & -0.03680000 &  0.03130000 &  0.033500000 & -0.0388000 & -0.043600000 &  0.01100000 & -0.00480000 &  0.02810000 &  0.01740000 &  0.02570000 & -0.02260000 &  0.00890000 &  0.03330000 &  0.03000000 &  0.00360000 &  0.00330000 & -0.00400000 & -0.017300000 & -0.021000000 &  0.01500000 & -0.0012000 &  0.01140000 &  0.01930000 &  0.0065000 &  0.009400000 &  0.02470000 & -0.11280000 & -0.03980000 &  0.048600000 &  0.011000000 &  0.01240000 & -0.00750000 &  0.007200000 &  0.02490000 &  0.01760000 & -0.0084000000 &  0.03200000 & -0.00130000 &  0.02230000 & -0.01160000 &  0.00890000 &  0.03040000 &  0.00730000 &  0.033200000 &  0.021500000 &  0.02410000 & -0.00550000 & -0.00970000 & -0.06840000 & -0.05650000 &  0.00930000 & -0.00480000 &  0.011200000 &  0.01960000 &  0.0307000 & -0.0028000 &  0.000900000 &  0.03110000 &  0.013800000 &  0.00790000 & -0.011300000 & -0.022300000 &  0.02730000 & -0.03460000 &  0.00190000 & -0.00960000 &  0.01750000 &  0.001400000 &  0.0504000 & -0.10420000 &  0.00850000 &  0.02020000 &  0.02140000 & -0.08950000 & -0.029900000 & -0.08160000 & -0.0037000000 &  0.03180000 &  0.039200000 &  0.008100000 & -0.005900000 &  0.01700000 & -0.01020000 &  0.016300000 & -0.00420000 &  0.00320 &  0.02810000 &  0.01760000 &  0.0044000 &  0.00760000 & -0.0004000 &  0.00850000 &  0.01270000 &  0.0175000000 &  0.010500000 &  0.00920000 & -0.01030000 &  0.04170000 & -0.00250000 & -0.04850000 &  0.00570000 & -0.01710000 & -0.02280000 &  0.014600000 &  0.005900000 &  0.02650000 & -0.037000000 &  0.0107000 &  0.01830000 &  0.02570000 &  0.00530000 &  0.00060000 &  0.00450000 &  0.014500000 &  0.02370000 &  0.00560000 &  0.03250000 & -0.0058000 &  0.01520000 & -0.00800000 &  0.03260000 &  0.01730000 & -0.00810000 & -0.002200000 &  0.0115000 & -0.04470000 & -0.00240000 &  0.01850000 &  0.0249000 &  0.00080000 &  0.01420000 & -0.007800000 &  0.01410000 &  0.01330000 &  0.0183000000 &  0.002200000 & -0.01570000 &  0.00980000 & -0.01980000 &  0.00100000 &  0.020800000 &  0.01480000 &  0.03260000 &  0.03760000 &  0.01000000 & -0.01380000 &  0.00870000\\\\\n",
       "\t InferredCov1 &  0.02090936 & -0.02083823 &  0.04304136 &  0.02775294 & -0.02091448 & -0.03426022 & -0.03011393 &  0.0342988 & -0.04047681 & -0.06841131 & -0.007688455 &  0.03528233 & -0.0499738 & -0.02758475 &  0.02640544 & -0.0197886 &  0.03515656 &  0.005409386 & -0.03441806 & -0.004445383 &  0.04884887 &  0.01190377 &  0.03210827 &  0.04088607 & -0.01601398 &  0.02763338 & -0.04636604 &  0.04059453 & -0.05322073 &  0.03459204 & -0.02331136 &  0.03435698 &  0.02374987 &  0.02552414 & -0.01260011 &  0.02403815 & -0.0311757 &  0.0295657 &  0.03012256 &  0.03494745 & -0.006621507 &  0.002035206 &  0.03081084 &  0.004463574 & -0.02372859 &  0.02044 & -0.0404695 &  0.00343286 &  0.01813233 &  0.03696438 & -0.01078119 &  0.01164137 &  0.01887845 &  0.01033952 &  0.02406432 &  0.02010801 &  0.03194568 & -0.02476315 &  0.01937863 &  0.01914584 & -0.004994472 &  0.0037026 &  0.03753672 &  0.02907366 & -0.02658646 & -0.05846845 & -0.02290253 &  0.02240745 &  0.02955922 & -0.04746161 &  0.02315637 &  0.02709418 & -0.03247675 &  0.04426493 &  0.02981258 & -0.009341347 &  0.02144138 & -0.03597372 & -0.02251017 & -0.0367041 &  0.02328043 &  0.01577722 & -0.01549229 &  0.04497272 &  0.02222638 & -0.01040456 &  0.024031 &  0.02482248 &  0.02045676 &  0.003918404 &  0.02139202 &  0.03367355 & -0.002210398 &  0.04246718 &  0.009811933 &  0.01051576 & -0.004690963 & -0.01445817 &  0.0316678 & -0.03423038 &  0.0118268 &  0.004666059 &  0.000614429 &  0.03757856 &  0.02192249 &  0.03956106 &  0.02692735 &  0.02359129 &  0.04081215 &  0.003748529 & -0.0105074 & -0.04798333 &  0.02532852 & -0.01719707 &  0.0159176 &  0.01022503 &  0.02066944 &  0.031316 & -0.02720504 &  0.03360563 & -0.01921013 &  0.01438446 &  0.007907057 & -0.01667928 &  0.002552919 &  0.0356055 & -0.02415998 &  0.03744094 &  0.04258862 &  0.01399955 & -0.0262612 & -0.01050773 & -0.01202688 &  0.01950879 & -0.009442674 &  0.0233087 & -0.04121054 &  0.01870526 &  0.02998086 &  0.02144291 & -0.01762125 &  0.02458225 &  0.04460312 & -0.005812513 &  0.008610447 &  0.01819356 & -0.04734289 &  0.006745677 & -0.01818607 &  0.02581744 &  0.02039918 & -0.02183328 & -0.0190036 &  0.00150349 &  0.02494182 & -0.01574255 & -0.008146449 & -0.04431453 &  0.03396069 & -0.02641368 &  0.02775446 & -0.003071494 & -0.03678646 &  0.01445602 &  0.01834813 & -0.01097977 & -0.007081439 & -0.02452048 &  0.0004047495 &  0.001109131 & -0.03592689 &  0.03403869 &  0.04316446 &  0.01256431 &  0.008613819 & -0.03839282 &  0.008364531 & -0.008104633 & -0.004746178 & -0.05201449 & -0.01107229 &  0.002723471 & -0.02609062 &  0.02197654 &  0.008106697 & -0.03832043 & -0.02354111 &  0.03329178 &  0.001662359 & -0.00836278 &  0.01879871 & -0.01712517 &  0.02518836 & -0.0033301 &  0.03393299 & -0.03269399 &  0.02915211 &  0.01529835 & -0.01418696 &  0.02884237 & -0.01221473 &  0.006272435 &  0.02519723 & -0.009486533 & -0.01354448 &  0.01934133 &  0.01226915 & -0.05032463 & -0.04400474 &  0.01454928 &  0.01591261 & -0.01685848 &  6.191191e-05 & -0.01550485 &  0.03394243 & -0.02041288 &  0.0089059 & -0.01093221 &  0.02780861 &  0.03215399 &  0.04474628 & -0.02714423 & -0.005213019 &  0.04697852 &  0.003374566 & -0.007986707 &  0.03930517 &  0.02265556 & -0.02705928 &  0.04488413 &  0.04297897 &  0.04424603 & -0.0142131 &  0.01833535 &  0.03695843 &  0.005858415 & -0.007936007 &  0.03555675 & -0.02000849 & -0.01560187 &  0.01258758 & -0.007530204 &  0.01410381 &  0.03256437 &  0.04704859 &  0.01655848 & -0.05315457 & -0.0679476 &  0.01825469 &  0.04375128 &  0.04988569 & -6.858859e-07 &  0.01233151 & -0.02521114 &  0.0286156 & -0.009427164 &  0.006262602 &  0.03249015 &  0.04748008 &  0.0355113 &  0.02523895 &  0.02031358 &  0.01049848 &  0.02231874 & -0.04057289 &  0.01684637 & -0.01305527 &  0.04414147 &  0.00811884 &  0.06174945 &  0.02711364 &  0.01748997 & -0.03454895 &  0.01854404 &  0.002007533 & -0.02874434 &  0.01200882 &  0.002360634 &  0.01936716 &  0.004022092 &  0.02592414 & -0.03144335 &  0.01835568 &  0.03646467 & -0.03968143 & -0.009622845 &  0.03637322 & -0.002628905 &  0.0277422 & -0.05138126 & -0.006204484 & -0.03016645 & -0.01337763 &  0.02389659 &  0.02864626 &  0.002757828 & -0.01240171 & -0.01302247 & -0.01753655 &  0.02012038 &  0.02856056 & -0.00187198 &  0.02120706 & -0.001834458 &  0.02180522 & -0.008254872 &  0.03256671 & -0.03742176 & -0.04055026 & -0.02166218 &  0.02617207 & -0.04968563 &  0.0144707 &  0.0435936 & -0.02800754 & -0.03370111 &  0.05235839 &  0.007522468 &  0.0363734 & -0.02117474 & -0.02955532 & -0.001231495 & -0.007266045 &  0.0359745 & -0.004512329 &  0.01602421 &  0.03770549 & -0.03268164 &  0.02469749 & -0.005647248 & -0.0408086 &  0.03196761 & -0.03524306 & -0.06863194 & -0.01774528 &  0.02538496 & -0.002982794 &  0.02709431 & -0.02401947 & -0.02218955 & -0.02477589 &  0.03532797 &  0.01863446 & -0.001487893 & -0.03431531 &  0.0005611349 &  0.02058812 &  0.0203518 &  0.01770958 & -0.006557479 & -0.03736547 & -0.004151931 &  0.006828714 &  0.03769656 & -0.02267019 & -0.02732258 &  0.006597927 & -0.03174222 & -0.02889591 &  0.01760153 & -0.001510467 & -0.009017637 & -0.004510576 & -0.008329995 & -0.01675634 & -0.0737327 &  0.02878818 &  0.01187698 & -0.02375657 & -0.02407164 & -0.002804531 &  0.02800037 &  0.009114116 & -0.03148215 & -0.03279767 &  0.00122375 &  0.0325483 &  0.008139433 & -0.02110935 & -0.03030845 & -0.04195758 &  0.007176662 & -0.00271192 &  0.01863041 &  0.02281132 & -0.01140848 & -0.01358878 &  0.01875621 & -0.02987651 &  0.004244432 & -0.008044909 &  0.0198925 &  0.01865469 & -0.006503022 & -0.02540834 &  0.00676757 & -0.03256427 & -0.01147 & -0.00438495 &  0.005428083 &  0.002189287 &  0.0008975365 & -0.003722211 & -0.04412723 & -0.008820724 & -6.444445e-05 &  0.0030459 & -0.06185805 & -0.05076151 &  0.006803432 &  0.00398961 & -0.03733695 & -0.007566914 &  0.00921425 & -0.007893495 &  0.008681514 & -0.02205032 &  0.01654687 &  0.02593144 & -0.03075314 & -0.0008339781 & -0.0230903 & -0.001327008 & -0.009408711 & -0.02542306 &  0.00679481 &  0.03190922 & -0.00193229 & -0.01896514 & -0.01418138 & -0.04548619 & -0.02967165 & -0.001424901 &  0.03273101 &  0.01375803 &  0.01929567 & -0.009372812 &  0.0102507 &  0.005129707 & -0.02665353 &  0.01685584 & -0.04402069 &  0.03104992 & -0.02798505 &  0.03312504 &  0.02973828 &  0.01942141 & -0.01828816 & -0.02885096 &  0.01758881 & -0.05082049 &  0.001552564 &  0.004425753 & -0.06140139 &  0.0190006 & -0.04107001 & -0.01715213 & -0.0525283 &  0.005786537 & -0.01154579 &  0.02415833 & -0.01594753 &  0.007586041 &  0.005905709 & -0.04434133 & -0.02901295 & -0.002157857 &  0.02397691 &  0.01079196 &  0.0003140266 & -0.01512276 & -0.01083398 & -0.01575391 &  0.03551891 & -0.04682465 & -0.04249856 & -0.04136328 & -0.006212838 &  0.007796936 & -0.02992798 &  0.01321643 &  0.00993378 &  0.03297444 &  0.05878295 &  0.02375425 & -0.04227365 &  0.001117765 & -0.02803997 &  0.0107946 &  0.0122293 & -0.007159135 & -0.01835067 &  0.009931551 &  0.03623863 &  0.004171261 & -0.009588022 & -0.01266501 &  0.02517996 & -0.02379112 & -0.02264452 & -0.02287945 &  0.004405068 &  0.0106213 &  0.03096454 &  0.01251197 &  0.03019738 & -0.01751254 &  0.02163314 &  0.009238419 & -0.02347877 & -0.0007625031 & -0.04589753 &  0.004798979 & -0.009027264 & -0.008397346 &  0.04044471 & -0.03265012 & -0.004490434 & -0.01714293 &  0.02144 & -0.04315532 &  0.02030505 &  0.0140904 & -0.02051256 & -0.0504944 & -0.05851507 & -0.04010403 &  0.0007322227 & -0.004980492 &  0.03643138 & -0.02316541 &  0.01542364 &  0.03316187 & -0.01266213 &  0.01885816 &  0.01958085 &  0.01389931 &  0.004112389 & -0.003944406 &  0.01440272 & -0.008295524 &  0.0272158 & -0.07036711 &  0.01686019 & -0.04619633 &  0.02736325 &  0.03051404 & -0.001536617 & -0.02592145 &  0.00618794 & -0.03359162 & -0.0348958 & -0.02544098 & -0.03233975 & -0.05361276 & -0.04291484 & -0.03662338 &  0.006012269 & -0.0603094 & -0.03844517 & -0.03742824 & -0.02291073 & -0.0238126 &  0.03143768 &  0.02589574 & -0.003610723 & -0.01675584 & -0.03336844 & -0.0008284681 &  0.008951127 & -0.02027387 & -0.03984623 &  0.03418969 &  0.02334949 &  0.004658039 &  0.01523963 & -0.01921473 &  0.01373773 & -0.02499237 & -0.04992024 & -0.02641336\\\\\n",
       "\\end{tabular}\n"
      ],
      "text/markdown": [
       "\n",
       "A data.table: 6 × 582\n",
       "\n",
       "| ID &lt;chr&gt; | GTEX-1117F &lt;dbl&gt; | GTEX-111CU &lt;dbl&gt; | GTEX-111FC &lt;dbl&gt; | GTEX-111VG &lt;dbl&gt; | GTEX-111YS &lt;dbl&gt; | GTEX-1122O &lt;dbl&gt; | GTEX-1128S &lt;dbl&gt; | GTEX-113IC &lt;dbl&gt; | GTEX-117YX &lt;dbl&gt; | ⋯ ⋯ | GTEX-ZXES &lt;dbl&gt; | GTEX-ZXG5 &lt;dbl&gt; | GTEX-ZYFC &lt;dbl&gt; | GTEX-ZYFD &lt;dbl&gt; | GTEX-ZYT6 &lt;dbl&gt; | GTEX-ZYVF &lt;dbl&gt; | GTEX-ZYW4 &lt;dbl&gt; | GTEX-ZYY3 &lt;dbl&gt; | GTEX-ZZ64 &lt;dbl&gt; | GTEX-ZZPU &lt;dbl&gt; |\n",
       "|---|---|---|---|---|---|---|---|---|---|---|---|---|---|---|---|---|---|---|---|---|\n",
       "| PC1          | -0.08670000 |  0.01070000 |  0.00990000 |  0.01440000 |  0.01540000 |  0.01390000 |  0.01450000 | -0.0728000 | -0.02400000 | ⋯ |  0.01250000 |  0.00730000 | -0.09340000 |  0.013400000 |  0.01340000 |  0.01180000 | -0.02450000 |  0.01110000 |  0.01370000 |  0.01350000 |\n",
       "| PC2          | -0.01320000 | -0.00260000 | -0.00500000 | -0.00810000 | -0.00930000 | -0.00970000 | -0.00930000 | -0.0077000 |  0.28970000 | ⋯ | -0.00680000 |  0.00600000 | -0.01430000 | -0.004700000 | -0.00880000 |  0.00050000 |  0.29180000 | -0.00480000 | -0.00480000 | -0.00530000 |\n",
       "| PC3          | -0.00620000 |  0.00040000 |  0.03040000 |  0.01330000 |  0.01070000 |  0.00670000 |  0.03270000 | -0.0044000 |  0.01330000 | ⋯ |  0.02410000 | -0.15480000 |  0.00890000 | -0.011100000 |  0.00440000 | -0.06780000 |  0.02270000 | -0.07950000 |  0.01710000 | -0.00580000 |\n",
       "| PC4          |  0.00460000 | -0.00150000 |  0.00760000 |  0.00350000 | -0.00380000 | -0.01440000 |  0.00560000 | -0.0146000 |  0.11110000 | ⋯ |  0.01980000 |  0.00890000 |  0.00640000 | -0.009800000 |  0.00520000 |  0.00630000 |  0.12100000 | -0.01130000 | -0.00160000 |  0.00140000 |\n",
       "| PC5          |  0.00540000 |  0.01120000 |  0.03470000 |  0.00180000 | -0.00830000 |  0.02960000 |  0.05100000 |  0.0063000 |  0.02620000 | ⋯ |  0.00980000 | -0.01980000 |  0.00100000 |  0.020800000 |  0.01480000 |  0.03260000 |  0.03760000 |  0.01000000 | -0.01380000 |  0.00870000 |\n",
       "| InferredCov1 |  0.02090936 | -0.02083823 |  0.04304136 |  0.02775294 | -0.02091448 | -0.03426022 | -0.03011393 |  0.0342988 | -0.04047681 | ⋯ | -0.03984623 |  0.03418969 |  0.02334949 |  0.004658039 |  0.01523963 | -0.01921473 |  0.01373773 | -0.02499237 | -0.04992024 | -0.02641336 |\n",
       "\n"
      ],
      "text/plain": [
       "  ID           GTEX-1117F  GTEX-111CU  GTEX-111FC  GTEX-111VG  GTEX-111YS \n",
       "1 PC1          -0.08670000  0.01070000  0.00990000  0.01440000  0.01540000\n",
       "2 PC2          -0.01320000 -0.00260000 -0.00500000 -0.00810000 -0.00930000\n",
       "3 PC3          -0.00620000  0.00040000  0.03040000  0.01330000  0.01070000\n",
       "4 PC4           0.00460000 -0.00150000  0.00760000  0.00350000 -0.00380000\n",
       "5 PC5           0.00540000  0.01120000  0.03470000  0.00180000 -0.00830000\n",
       "6 InferredCov1  0.02090936 -0.02083823  0.04304136  0.02775294 -0.02091448\n",
       "  GTEX-1122O  GTEX-1128S  GTEX-113IC GTEX-117YX  ⋯ GTEX-ZXES   GTEX-ZXG5  \n",
       "1  0.01390000  0.01450000 -0.0728000 -0.02400000 ⋯  0.01250000  0.00730000\n",
       "2 -0.00970000 -0.00930000 -0.0077000  0.28970000 ⋯ -0.00680000  0.00600000\n",
       "3  0.00670000  0.03270000 -0.0044000  0.01330000 ⋯  0.02410000 -0.15480000\n",
       "4 -0.01440000  0.00560000 -0.0146000  0.11110000 ⋯  0.01980000  0.00890000\n",
       "5  0.02960000  0.05100000  0.0063000  0.02620000 ⋯  0.00980000 -0.01980000\n",
       "6 -0.03426022 -0.03011393  0.0342988 -0.04047681 ⋯ -0.03984623  0.03418969\n",
       "  GTEX-ZYFC   GTEX-ZYFD    GTEX-ZYT6   GTEX-ZYVF   GTEX-ZYW4   GTEX-ZYY3  \n",
       "1 -0.09340000  0.013400000  0.01340000  0.01180000 -0.02450000  0.01110000\n",
       "2 -0.01430000 -0.004700000 -0.00880000  0.00050000  0.29180000 -0.00480000\n",
       "3  0.00890000 -0.011100000  0.00440000 -0.06780000  0.02270000 -0.07950000\n",
       "4  0.00640000 -0.009800000  0.00520000  0.00630000  0.12100000 -0.01130000\n",
       "5  0.00100000  0.020800000  0.01480000  0.03260000  0.03760000  0.01000000\n",
       "6  0.02334949  0.004658039  0.01523963 -0.01921473  0.01373773 -0.02499237\n",
       "  GTEX-ZZ64   GTEX-ZZPU  \n",
       "1  0.01370000  0.01350000\n",
       "2 -0.00480000 -0.00530000\n",
       "3  0.01710000 -0.00580000\n",
       "4 -0.00160000  0.00140000\n",
       "5 -0.01380000  0.00870000\n",
       "6 -0.04992024 -0.02641336"
      ]
     },
     "metadata": {},
     "output_type": "display_data"
    }
   ],
   "source": [
    "head(cov_list[[1]])"
   ]
  },
  {
   "cell_type": "code",
   "execution_count": 68,
   "metadata": {},
   "outputs": [
    {
     "data": {
      "text/html": [
       "<table>\n",
       "<caption>A data.table: 68 × 1</caption>\n",
       "<thead>\n",
       "\t<tr><th scope=col>ID</th></tr>\n",
       "\t<tr><th scope=col>&lt;chr&gt;</th></tr>\n",
       "</thead>\n",
       "<tbody>\n",
       "\t<tr><td>PC1          </td></tr>\n",
       "\t<tr><td>PC2          </td></tr>\n",
       "\t<tr><td>PC3          </td></tr>\n",
       "\t<tr><td>PC4          </td></tr>\n",
       "\t<tr><td>PC5          </td></tr>\n",
       "\t<tr><td>InferredCov1 </td></tr>\n",
       "\t<tr><td>InferredCov2 </td></tr>\n",
       "\t<tr><td>InferredCov3 </td></tr>\n",
       "\t<tr><td>InferredCov4 </td></tr>\n",
       "\t<tr><td>InferredCov5 </td></tr>\n",
       "\t<tr><td>InferredCov6 </td></tr>\n",
       "\t<tr><td>InferredCov7 </td></tr>\n",
       "\t<tr><td>InferredCov8 </td></tr>\n",
       "\t<tr><td>InferredCov9 </td></tr>\n",
       "\t<tr><td>InferredCov10</td></tr>\n",
       "\t<tr><td>InferredCov11</td></tr>\n",
       "\t<tr><td>InferredCov12</td></tr>\n",
       "\t<tr><td>InferredCov13</td></tr>\n",
       "\t<tr><td>InferredCov14</td></tr>\n",
       "\t<tr><td>InferredCov15</td></tr>\n",
       "\t<tr><td>InferredCov16</td></tr>\n",
       "\t<tr><td>InferredCov17</td></tr>\n",
       "\t<tr><td>InferredCov18</td></tr>\n",
       "\t<tr><td>InferredCov19</td></tr>\n",
       "\t<tr><td>InferredCov20</td></tr>\n",
       "\t<tr><td>InferredCov21</td></tr>\n",
       "\t<tr><td>InferredCov22</td></tr>\n",
       "\t<tr><td>InferredCov23</td></tr>\n",
       "\t<tr><td>InferredCov24</td></tr>\n",
       "\t<tr><td>InferredCov25</td></tr>\n",
       "\t<tr><td>⋮</td></tr>\n",
       "\t<tr><td>InferredCov34</td></tr>\n",
       "\t<tr><td>InferredCov35</td></tr>\n",
       "\t<tr><td>InferredCov36</td></tr>\n",
       "\t<tr><td>InferredCov37</td></tr>\n",
       "\t<tr><td>InferredCov38</td></tr>\n",
       "\t<tr><td>InferredCov39</td></tr>\n",
       "\t<tr><td>InferredCov40</td></tr>\n",
       "\t<tr><td>InferredCov41</td></tr>\n",
       "\t<tr><td>InferredCov42</td></tr>\n",
       "\t<tr><td>InferredCov43</td></tr>\n",
       "\t<tr><td>InferredCov44</td></tr>\n",
       "\t<tr><td>InferredCov45</td></tr>\n",
       "\t<tr><td>InferredCov46</td></tr>\n",
       "\t<tr><td>InferredCov47</td></tr>\n",
       "\t<tr><td>InferredCov48</td></tr>\n",
       "\t<tr><td>InferredCov49</td></tr>\n",
       "\t<tr><td>InferredCov50</td></tr>\n",
       "\t<tr><td>InferredCov51</td></tr>\n",
       "\t<tr><td>InferredCov52</td></tr>\n",
       "\t<tr><td>InferredCov53</td></tr>\n",
       "\t<tr><td>InferredCov54</td></tr>\n",
       "\t<tr><td>InferredCov55</td></tr>\n",
       "\t<tr><td>InferredCov56</td></tr>\n",
       "\t<tr><td>InferredCov57</td></tr>\n",
       "\t<tr><td>InferredCov58</td></tr>\n",
       "\t<tr><td>InferredCov59</td></tr>\n",
       "\t<tr><td>InferredCov60</td></tr>\n",
       "\t<tr><td>pcr          </td></tr>\n",
       "\t<tr><td>platform     </td></tr>\n",
       "\t<tr><td>sex          </td></tr>\n",
       "</tbody>\n",
       "</table>\n"
      ],
      "text/latex": [
       "A data.table: 68 × 1\n",
       "\\begin{tabular}{r|l}\n",
       " ID\\\\\n",
       " <chr>\\\\\n",
       "\\hline\n",
       "\t PC1          \\\\\n",
       "\t PC2          \\\\\n",
       "\t PC3          \\\\\n",
       "\t PC4          \\\\\n",
       "\t PC5          \\\\\n",
       "\t InferredCov1 \\\\\n",
       "\t InferredCov2 \\\\\n",
       "\t InferredCov3 \\\\\n",
       "\t InferredCov4 \\\\\n",
       "\t InferredCov5 \\\\\n",
       "\t InferredCov6 \\\\\n",
       "\t InferredCov7 \\\\\n",
       "\t InferredCov8 \\\\\n",
       "\t InferredCov9 \\\\\n",
       "\t InferredCov10\\\\\n",
       "\t InferredCov11\\\\\n",
       "\t InferredCov12\\\\\n",
       "\t InferredCov13\\\\\n",
       "\t InferredCov14\\\\\n",
       "\t InferredCov15\\\\\n",
       "\t InferredCov16\\\\\n",
       "\t InferredCov17\\\\\n",
       "\t InferredCov18\\\\\n",
       "\t InferredCov19\\\\\n",
       "\t InferredCov20\\\\\n",
       "\t InferredCov21\\\\\n",
       "\t InferredCov22\\\\\n",
       "\t InferredCov23\\\\\n",
       "\t InferredCov24\\\\\n",
       "\t InferredCov25\\\\\n",
       "\t ⋮\\\\\n",
       "\t InferredCov34\\\\\n",
       "\t InferredCov35\\\\\n",
       "\t InferredCov36\\\\\n",
       "\t InferredCov37\\\\\n",
       "\t InferredCov38\\\\\n",
       "\t InferredCov39\\\\\n",
       "\t InferredCov40\\\\\n",
       "\t InferredCov41\\\\\n",
       "\t InferredCov42\\\\\n",
       "\t InferredCov43\\\\\n",
       "\t InferredCov44\\\\\n",
       "\t InferredCov45\\\\\n",
       "\t InferredCov46\\\\\n",
       "\t InferredCov47\\\\\n",
       "\t InferredCov48\\\\\n",
       "\t InferredCov49\\\\\n",
       "\t InferredCov50\\\\\n",
       "\t InferredCov51\\\\\n",
       "\t InferredCov52\\\\\n",
       "\t InferredCov53\\\\\n",
       "\t InferredCov54\\\\\n",
       "\t InferredCov55\\\\\n",
       "\t InferredCov56\\\\\n",
       "\t InferredCov57\\\\\n",
       "\t InferredCov58\\\\\n",
       "\t InferredCov59\\\\\n",
       "\t InferredCov60\\\\\n",
       "\t pcr          \\\\\n",
       "\t platform     \\\\\n",
       "\t sex          \\\\\n",
       "\\end{tabular}\n"
      ],
      "text/markdown": [
       "\n",
       "A data.table: 68 × 1\n",
       "\n",
       "| ID &lt;chr&gt; |\n",
       "|---|\n",
       "| PC1           |\n",
       "| PC2           |\n",
       "| PC3           |\n",
       "| PC4           |\n",
       "| PC5           |\n",
       "| InferredCov1  |\n",
       "| InferredCov2  |\n",
       "| InferredCov3  |\n",
       "| InferredCov4  |\n",
       "| InferredCov5  |\n",
       "| InferredCov6  |\n",
       "| InferredCov7  |\n",
       "| InferredCov8  |\n",
       "| InferredCov9  |\n",
       "| InferredCov10 |\n",
       "| InferredCov11 |\n",
       "| InferredCov12 |\n",
       "| InferredCov13 |\n",
       "| InferredCov14 |\n",
       "| InferredCov15 |\n",
       "| InferredCov16 |\n",
       "| InferredCov17 |\n",
       "| InferredCov18 |\n",
       "| InferredCov19 |\n",
       "| InferredCov20 |\n",
       "| InferredCov21 |\n",
       "| InferredCov22 |\n",
       "| InferredCov23 |\n",
       "| InferredCov24 |\n",
       "| InferredCov25 |\n",
       "| ⋮ |\n",
       "| InferredCov34 |\n",
       "| InferredCov35 |\n",
       "| InferredCov36 |\n",
       "| InferredCov37 |\n",
       "| InferredCov38 |\n",
       "| InferredCov39 |\n",
       "| InferredCov40 |\n",
       "| InferredCov41 |\n",
       "| InferredCov42 |\n",
       "| InferredCov43 |\n",
       "| InferredCov44 |\n",
       "| InferredCov45 |\n",
       "| InferredCov46 |\n",
       "| InferredCov47 |\n",
       "| InferredCov48 |\n",
       "| InferredCov49 |\n",
       "| InferredCov50 |\n",
       "| InferredCov51 |\n",
       "| InferredCov52 |\n",
       "| InferredCov53 |\n",
       "| InferredCov54 |\n",
       "| InferredCov55 |\n",
       "| InferredCov56 |\n",
       "| InferredCov57 |\n",
       "| InferredCov58 |\n",
       "| InferredCov59 |\n",
       "| InferredCov60 |\n",
       "| pcr           |\n",
       "| platform      |\n",
       "| sex           |\n",
       "\n"
      ],
      "text/plain": [
       "   ID           \n",
       "1  PC1          \n",
       "2  PC2          \n",
       "3  PC3          \n",
       "4  PC4          \n",
       "5  PC5          \n",
       "6  InferredCov1 \n",
       "7  InferredCov2 \n",
       "8  InferredCov3 \n",
       "9  InferredCov4 \n",
       "10 InferredCov5 \n",
       "11 InferredCov6 \n",
       "12 InferredCov7 \n",
       "13 InferredCov8 \n",
       "14 InferredCov9 \n",
       "15 InferredCov10\n",
       "16 InferredCov11\n",
       "17 InferredCov12\n",
       "18 InferredCov13\n",
       "19 InferredCov14\n",
       "20 InferredCov15\n",
       "21 InferredCov16\n",
       "22 InferredCov17\n",
       "23 InferredCov18\n",
       "24 InferredCov19\n",
       "25 InferredCov20\n",
       "26 InferredCov21\n",
       "27 InferredCov22\n",
       "28 InferredCov23\n",
       "29 InferredCov24\n",
       "30 InferredCov25\n",
       "⋮  ⋮            \n",
       "39 InferredCov34\n",
       "40 InferredCov35\n",
       "41 InferredCov36\n",
       "42 InferredCov37\n",
       "43 InferredCov38\n",
       "44 InferredCov39\n",
       "45 InferredCov40\n",
       "46 InferredCov41\n",
       "47 InferredCov42\n",
       "48 InferredCov43\n",
       "49 InferredCov44\n",
       "50 InferredCov45\n",
       "51 InferredCov46\n",
       "52 InferredCov47\n",
       "53 InferredCov48\n",
       "54 InferredCov49\n",
       "55 InferredCov50\n",
       "56 InferredCov51\n",
       "57 InferredCov52\n",
       "58 InferredCov53\n",
       "59 InferredCov54\n",
       "60 InferredCov55\n",
       "61 InferredCov56\n",
       "62 InferredCov57\n",
       "63 InferredCov58\n",
       "64 InferredCov59\n",
       "65 InferredCov60\n",
       "66 pcr          \n",
       "67 platform     \n",
       "68 sex          "
      ]
     },
     "metadata": {},
     "output_type": "display_data"
    }
   ],
   "source": [
    "cov_list[[1]][,1]"
   ]
  },
  {
   "cell_type": "code",
   "execution_count": 72,
   "metadata": {},
   "outputs": [
    {
     "data": {
      "text/html": [
       "<ol class=list-inline>\n",
       "\t<li>0.0135</li>\n",
       "\t<li>-0.0053</li>\n",
       "\t<li>-0.0058</li>\n",
       "\t<li>0.0014</li>\n",
       "\t<li>0.0087</li>\n",
       "\t<li>-0.0264133624732494</li>\n",
       "\t<li>-0.00570914568379521</li>\n",
       "\t<li>-0.0333819389343262</li>\n",
       "\t<li>0.00735025946050882</li>\n",
       "\t<li>-0.00495011918246746</li>\n",
       "\t<li>0.0443016402423382</li>\n",
       "\t<li>-0.0620457157492638</li>\n",
       "\t<li>-0.0518819503486156</li>\n",
       "\t<li>-0.0658230111002922</li>\n",
       "\t<li>0.0231218412518501</li>\n",
       "\t<li>0.017542589455843</li>\n",
       "\t<li>0.00420427089557052</li>\n",
       "\t<li>-0.0141512462869287</li>\n",
       "\t<li>-0.0196350272744894</li>\n",
       "\t<li>-0.0326997190713882</li>\n",
       "\t<li>-0.0442745201289654</li>\n",
       "\t<li>0.0231118146330118</li>\n",
       "\t<li>-0.0300959330052137</li>\n",
       "\t<li>-0.0844781696796417</li>\n",
       "\t<li>0.00954917166382074</li>\n",
       "\t<li>-0.00285093043930829</li>\n",
       "\t<li>-0.0232703872025013</li>\n",
       "\t<li>-0.0464260242879391</li>\n",
       "\t<li>-0.0767185091972351</li>\n",
       "\t<li>0.0414854399859905</li>\n",
       "\t<li>-0.00253764074295759</li>\n",
       "\t<li>-0.0366500504314899</li>\n",
       "\t<li>0.0323696322739124</li>\n",
       "\t<li>0.0846097394824028</li>\n",
       "\t<li>0.0810345858335495</li>\n",
       "\t<li>0.039217371493578</li>\n",
       "\t<li>0.0382209233939648</li>\n",
       "\t<li>-0.138538435101509</li>\n",
       "\t<li>-0.0160879138857126</li>\n",
       "\t<li>-0.00316530559211969</li>\n",
       "\t<li>-0.052426666021347</li>\n",
       "\t<li>-0.0646369159221649</li>\n",
       "\t<li>0.0682302862405777</li>\n",
       "\t<li>0.0798161774873734</li>\n",
       "\t<li>-0.0611386895179749</li>\n",
       "\t<li>-0.110522471368313</li>\n",
       "\t<li>-0.00516279693692923</li>\n",
       "\t<li>-0.020446727052331</li>\n",
       "\t<li>-0.0755738690495491</li>\n",
       "\t<li>-0.0717982426285744</li>\n",
       "\t<li>0.073137953877449</li>\n",
       "\t<li>-0.16914276778698</li>\n",
       "\t<li>0.0102530838921666</li>\n",
       "\t<li>0.138424903154373</li>\n",
       "\t<li>0.0880979523062706</li>\n",
       "\t<li>0.0580607205629349</li>\n",
       "\t<li>-0.00280059897340834</li>\n",
       "\t<li>-0.127445980906487</li>\n",
       "\t<li>-0.118731521070004</li>\n",
       "\t<li>0.0649393871426582</li>\n",
       "\t<li>-0.0191253684461117</li>\n",
       "\t<li>0.1474629342556</li>\n",
       "\t<li>0.0183932892978191</li>\n",
       "\t<li>-0.0443224646151066</li>\n",
       "\t<li>-0.0538606755435467</li>\n",
       "\t<li>1</li>\n",
       "\t<li>1</li>\n",
       "\t<li>2</li>\n",
       "</ol>\n"
      ],
      "text/latex": [
       "\\begin{enumerate*}\n",
       "\\item 0.0135\n",
       "\\item -0.0053\n",
       "\\item -0.0058\n",
       "\\item 0.0014\n",
       "\\item 0.0087\n",
       "\\item -0.0264133624732494\n",
       "\\item -0.00570914568379521\n",
       "\\item -0.0333819389343262\n",
       "\\item 0.00735025946050882\n",
       "\\item -0.00495011918246746\n",
       "\\item 0.0443016402423382\n",
       "\\item -0.0620457157492638\n",
       "\\item -0.0518819503486156\n",
       "\\item -0.0658230111002922\n",
       "\\item 0.0231218412518501\n",
       "\\item 0.017542589455843\n",
       "\\item 0.00420427089557052\n",
       "\\item -0.0141512462869287\n",
       "\\item -0.0196350272744894\n",
       "\\item -0.0326997190713882\n",
       "\\item -0.0442745201289654\n",
       "\\item 0.0231118146330118\n",
       "\\item -0.0300959330052137\n",
       "\\item -0.0844781696796417\n",
       "\\item 0.00954917166382074\n",
       "\\item -0.00285093043930829\n",
       "\\item -0.0232703872025013\n",
       "\\item -0.0464260242879391\n",
       "\\item -0.0767185091972351\n",
       "\\item 0.0414854399859905\n",
       "\\item -0.00253764074295759\n",
       "\\item -0.0366500504314899\n",
       "\\item 0.0323696322739124\n",
       "\\item 0.0846097394824028\n",
       "\\item 0.0810345858335495\n",
       "\\item 0.039217371493578\n",
       "\\item 0.0382209233939648\n",
       "\\item -0.138538435101509\n",
       "\\item -0.0160879138857126\n",
       "\\item -0.00316530559211969\n",
       "\\item -0.052426666021347\n",
       "\\item -0.0646369159221649\n",
       "\\item 0.0682302862405777\n",
       "\\item 0.0798161774873734\n",
       "\\item -0.0611386895179749\n",
       "\\item -0.110522471368313\n",
       "\\item -0.00516279693692923\n",
       "\\item -0.020446727052331\n",
       "\\item -0.0755738690495491\n",
       "\\item -0.0717982426285744\n",
       "\\item 0.073137953877449\n",
       "\\item -0.16914276778698\n",
       "\\item 0.0102530838921666\n",
       "\\item 0.138424903154373\n",
       "\\item 0.0880979523062706\n",
       "\\item 0.0580607205629349\n",
       "\\item -0.00280059897340834\n",
       "\\item -0.127445980906487\n",
       "\\item -0.118731521070004\n",
       "\\item 0.0649393871426582\n",
       "\\item -0.0191253684461117\n",
       "\\item 0.1474629342556\n",
       "\\item 0.0183932892978191\n",
       "\\item -0.0443224646151066\n",
       "\\item -0.0538606755435467\n",
       "\\item 1\n",
       "\\item 1\n",
       "\\item 2\n",
       "\\end{enumerate*}\n"
      ],
      "text/markdown": [
       "1. 0.0135\n",
       "2. -0.0053\n",
       "3. -0.0058\n",
       "4. 0.0014\n",
       "5. 0.0087\n",
       "6. -0.0264133624732494\n",
       "7. -0.00570914568379521\n",
       "8. -0.0333819389343262\n",
       "9. 0.00735025946050882\n",
       "10. -0.00495011918246746\n",
       "11. 0.0443016402423382\n",
       "12. -0.0620457157492638\n",
       "13. -0.0518819503486156\n",
       "14. -0.0658230111002922\n",
       "15. 0.0231218412518501\n",
       "16. 0.017542589455843\n",
       "17. 0.00420427089557052\n",
       "18. -0.0141512462869287\n",
       "19. -0.0196350272744894\n",
       "20. -0.0326997190713882\n",
       "21. -0.0442745201289654\n",
       "22. 0.0231118146330118\n",
       "23. -0.0300959330052137\n",
       "24. -0.0844781696796417\n",
       "25. 0.00954917166382074\n",
       "26. -0.00285093043930829\n",
       "27. -0.0232703872025013\n",
       "28. -0.0464260242879391\n",
       "29. -0.0767185091972351\n",
       "30. 0.0414854399859905\n",
       "31. -0.00253764074295759\n",
       "32. -0.0366500504314899\n",
       "33. 0.0323696322739124\n",
       "34. 0.0846097394824028\n",
       "35. 0.0810345858335495\n",
       "36. 0.039217371493578\n",
       "37. 0.0382209233939648\n",
       "38. -0.138538435101509\n",
       "39. -0.0160879138857126\n",
       "40. -0.00316530559211969\n",
       "41. -0.052426666021347\n",
       "42. -0.0646369159221649\n",
       "43. 0.0682302862405777\n",
       "44. 0.0798161774873734\n",
       "45. -0.0611386895179749\n",
       "46. -0.110522471368313\n",
       "47. -0.00516279693692923\n",
       "48. -0.020446727052331\n",
       "49. -0.0755738690495491\n",
       "50. -0.0717982426285744\n",
       "51. 0.073137953877449\n",
       "52. -0.16914276778698\n",
       "53. 0.0102530838921666\n",
       "54. 0.138424903154373\n",
       "55. 0.0880979523062706\n",
       "56. 0.0580607205629349\n",
       "57. -0.00280059897340834\n",
       "58. -0.127445980906487\n",
       "59. -0.118731521070004\n",
       "60. 0.0649393871426582\n",
       "61. -0.0191253684461117\n",
       "62. 0.1474629342556\n",
       "63. 0.0183932892978191\n",
       "64. -0.0443224646151066\n",
       "65. -0.0538606755435467\n",
       "66. 1\n",
       "67. 1\n",
       "68. 2\n",
       "\n",
       "\n"
      ],
      "text/plain": [
       " [1]  0.013500000 -0.005300000 -0.005800000  0.001400000  0.008700000\n",
       " [6] -0.026413362 -0.005709146 -0.033381939  0.007350259 -0.004950119\n",
       "[11]  0.044301640 -0.062045716 -0.051881950 -0.065823011  0.023121841\n",
       "[16]  0.017542589  0.004204271 -0.014151246 -0.019635027 -0.032699719\n",
       "[21] -0.044274520  0.023111815 -0.030095933 -0.084478170  0.009549172\n",
       "[26] -0.002850930 -0.023270387 -0.046426024 -0.076718509  0.041485440\n",
       "[31] -0.002537641 -0.036650050  0.032369632  0.084609739  0.081034586\n",
       "[36]  0.039217371  0.038220923 -0.138538435 -0.016087914 -0.003165306\n",
       "[41] -0.052426666 -0.064636916  0.068230286  0.079816177 -0.061138690\n",
       "[46] -0.110522471 -0.005162797 -0.020446727 -0.075573869 -0.071798243\n",
       "[51]  0.073137954 -0.169142768  0.010253084  0.138424903  0.088097952\n",
       "[56]  0.058060721 -0.002800599 -0.127445981 -0.118731521  0.064939387\n",
       "[61] -0.019125368  0.147462934  0.018393289 -0.044322465 -0.053860676\n",
       "[66]  1.000000000  1.000000000  2.000000000"
      ]
     },
     "metadata": {},
     "output_type": "display_data"
    }
   ],
   "source": [
    "ncol_idx <- ncol(cov_list[[1]])\n",
    "as.data.frame(cov_list[[1]])[,ncol_idx]"
   ]
  },
  {
   "cell_type": "code",
   "execution_count": 183,
   "metadata": {},
   "outputs": [
    {
     "data": {
      "text/plain": [
       "NULL"
      ]
     },
     "metadata": {},
     "output_type": "display_data"
    }
   ],
   "source": [
    "dim(expression_list_target_chr)"
   ]
  },
  {
   "cell_type": "code",
   "execution_count": null,
   "metadata": {},
   "outputs": [],
   "source": [
    "expression_df_target <- expression_df %>% \n",
    "    filter(Name %in% UQ(gene_info_target$ensembl_gene_id))"
   ]
  },
  {
   "cell_type": "code",
   "execution_count": null,
   "metadata": {},
   "outputs": [],
   "source": [
    "head(gene_info_target$ensembl_gene_id)"
   ]
  },
  {
   "cell_type": "code",
   "execution_count": null,
   "metadata": {},
   "outputs": [],
   "source": [
    "dim(expression_df)"
   ]
  },
  {
   "cell_type": "code",
   "execution_count": null,
   "metadata": {},
   "outputs": [],
   "source": [
    "class(expression_df)"
   ]
  },
  {
   "cell_type": "code",
   "execution_count": null,
   "metadata": {},
   "outputs": [],
   "source": [
    "head(expression_df[,1:6])"
   ]
  },
  {
   "cell_type": "code",
   "execution_count": null,
   "metadata": {},
   "outputs": [],
   "source": [
    "#gene_info_target$ensembl_gene_id"
   ]
  },
  {
   "cell_type": "code",
   "execution_count": null,
   "metadata": {},
   "outputs": [],
   "source": [
    "expression_df$NameClean <- as.character(sapply(expression_df$Name, function(x) unlist(strsplit(x, \"\\\\.\"))[[1]]))"
   ]
  },
  {
   "cell_type": "code",
   "execution_count": null,
   "metadata": {},
   "outputs": [],
   "source": [
    "unlist(strsplit(expression_df$Name[1], \"\\\\.\"))[[1]]"
   ]
  },
  {
   "cell_type": "code",
   "execution_count": null,
   "metadata": {},
   "outputs": [],
   "source": [
    "dim(expression_df_target)"
   ]
  },
  {
   "cell_type": "code",
   "execution_count": null,
   "metadata": {},
   "outputs": [],
   "source": [
    "head(expression_df$NameClean)"
   ]
  },
  {
   "cell_type": "code",
   "execution_count": null,
   "metadata": {},
   "outputs": [],
   "source": [
    "getwd()"
   ]
  },
  {
   "cell_type": "code",
   "execution_count": null,
   "metadata": {},
   "outputs": [],
   "source": [
    "g"
   ]
  }
 ],
 "metadata": {
  "kernelspec": {
   "display_name": "R",
   "language": "R",
   "name": "ir"
  },
  "language_info": {
   "codemirror_mode": "r",
   "file_extension": ".r",
   "mimetype": "text/x-r-source",
   "name": "R",
   "pygments_lexer": "r",
   "version": "3.5.0"
  }
 },
 "nbformat": 4,
 "nbformat_minor": 4
}
