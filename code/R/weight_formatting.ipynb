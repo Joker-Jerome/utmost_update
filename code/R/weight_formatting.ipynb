{
 "cells": [
  {
   "cell_type": "markdown",
   "metadata": {},
   "source": [
    "# formatting"
   ]
  },
  {
   "cell_type": "code",
   "execution_count": null,
   "metadata": {},
   "outputs": [],
   "source": [
    "# Liver.weight.txt\n",
    "rsid gene weight ref_allele eff_allele\n",
    "rs865779 ABCA4 0.000237330916523 G A\n",
    "rs1245477 ABCA4 -0.000155827586825 T C\n",
    "rs34670167 ABCA4 2.90856231884e-05 G T\n",
    "rs6665058 ABCA4 4.19266932445e-05 C T\n",
    "rs2933916 ABCA4 -4.49095749229e-05 C A\n",
    "rs2802101 ABCA4 -0.000482822533933 G A"
   ]
  },
  {
   "cell_type": "code",
   "execution_count": null,
   "metadata": {},
   "outputs": [],
   "source": [
    "# Liver.sample.txt\n",
    "n.samples\n",
    "97"
   ]
  },
  {
   "cell_type": "code",
   "execution_count": null,
   "metadata": {},
   "outputs": [],
   "source": [
    "# Liver.extra.txt\n",
    "gene genename pred.perf.R2 n.snps.in.model pred.perf.pval pred.perf.qval\n",
    "ABCA4 ABCA4 0.5 8 1e-10 1e-10\n",
    "ABCB10 ABCB10 0.5 27 1e-10 1e-10\n",
    "ABCD3 ABCD3 0.5 28 1e-10 1e-10\n",
    "ABL2 ABL2 0.5 21 1e-10 1e-10\n",
    "ACADM ACADM 0.5 54 1e-10 1e-10"
   ]
  },
  {
   "cell_type": "code",
   "execution_count": null,
   "metadata": {},
   "outputs": [],
   "source": [
    "# Liver.construction.txt\n",
    "chr cv.seed\n",
    "10 579\n",
    "11 160\n",
    "12 1403\n",
    "13 1528\n",
    "14 1342"
   ]
  },
  {
   "cell_type": "code",
   "execution_count": 2,
   "metadata": {},
   "outputs": [
    {
     "name": "stderr",
     "output_type": "stream",
     "text": [
      "\n",
      "Attaching package: ‘dplyr’\n",
      "\n",
      "\n",
      "The following objects are masked from ‘package:data.table’:\n",
      "\n",
      "    between, first, last\n",
      "\n",
      "\n",
      "The following objects are masked from ‘package:stats’:\n",
      "\n",
      "    filter, lag\n",
      "\n",
      "\n",
      "The following objects are masked from ‘package:base’:\n",
      "\n",
      "    intersect, setdiff, setequal, union\n",
      "\n",
      "\n"
     ]
    }
   ],
   "source": [
    "library(data.table)\n",
    "library(dplyr)"
   ]
  },
  {
   "cell_type": "code",
   "execution_count": 3,
   "metadata": {},
   "outputs": [],
   "source": [
    "\n",
    "est_file = \"/gpfs/project/zhao/zy92/GTEX/output/chr1/ENSG00000000457.13/V1.ENSG00000000457.13.est\"\n",
    "est_df = fread(est_file)"
   ]
  },
  {
   "cell_type": "code",
   "execution_count": 4,
   "metadata": {},
   "outputs": [
    {
     "data": {
      "text/html": [
       "<style>\n",
       ".list-inline {list-style: none; margin:0; padding: 0}\n",
       ".list-inline>li {display: inline-block}\n",
       ".list-inline>li:not(:last-child)::after {content: \"\\00b7\"; padding: 0 .5ex}\n",
       "</style>\n",
       "<ol class=list-inline><li>5676</li><li>39</li></ol>\n"
      ],
      "text/latex": [
       "\\begin{enumerate*}\n",
       "\\item 5676\n",
       "\\item 39\n",
       "\\end{enumerate*}\n"
      ],
      "text/markdown": [
       "1. 5676\n",
       "2. 39\n",
       "\n",
       "\n"
      ],
      "text/plain": [
       "[1] 5676   39"
      ]
     },
     "metadata": {},
     "output_type": "display_data"
    }
   ],
   "source": [
    "dim(est_df)"
   ]
  },
  {
   "cell_type": "code",
   "execution_count": 5,
   "metadata": {},
   "outputs": [
    {
     "data": {
      "text/html": [
       "<table>\n",
       "<caption>A data.table: 6 × 39</caption>\n",
       "<thead>\n",
       "\t<tr><th scope=col>chr</th><th scope=col>id</th><th scope=col>posg</th><th scope=col>pos</th><th scope=col>ref</th><th scope=col>alt</th><th scope=col>Adipose_Subcutaneous.adj_expr</th><th scope=col>Adipose_Visceral_Omentum.adj_expr</th><th scope=col>Adrenal_Gland.adj_expr</th><th scope=col>Artery_Aorta.adj_expr</th><th scope=col>⋯</th><th scope=col>Muscle_Skeletal.adj_expr</th><th scope=col>Ovary.adj_expr</th><th scope=col>Pituitary.adj_expr</th><th scope=col>Prostate.adj_expr</th><th scope=col>Skin_Not_Sun_Exposed_Suprapubic.adj_expr</th><th scope=col>Skin_Sun_Exposed_Lower_leg.adj_expr</th><th scope=col>Spleen.adj_expr</th><th scope=col>Stomach.adj_expr</th><th scope=col>Testis.adj_expr</th><th scope=col>Thyroid.adj_expr</th></tr>\n",
       "\t<tr><th scope=col>&lt;int&gt;</th><th scope=col>&lt;chr&gt;</th><th scope=col>&lt;int&gt;</th><th scope=col>&lt;int&gt;</th><th scope=col>&lt;chr&gt;</th><th scope=col>&lt;chr&gt;</th><th scope=col>&lt;dbl&gt;</th><th scope=col>&lt;dbl&gt;</th><th scope=col>&lt;dbl&gt;</th><th scope=col>&lt;dbl&gt;</th><th scope=col>⋯</th><th scope=col>&lt;dbl&gt;</th><th scope=col>&lt;dbl&gt;</th><th scope=col>&lt;dbl&gt;</th><th scope=col>&lt;dbl&gt;</th><th scope=col>&lt;dbl&gt;</th><th scope=col>&lt;int&gt;</th><th scope=col>&lt;dbl&gt;</th><th scope=col>&lt;dbl&gt;</th><th scope=col>&lt;dbl&gt;</th><th scope=col>&lt;dbl&gt;</th></tr>\n",
       "</thead>\n",
       "<tbody>\n",
       "\t<tr><td>1</td><td>chr1_168849631_C_A_b38 </td><td>0</td><td>168849631</td><td>A</td><td>C </td><td>0</td><td>-0.0004151165</td><td>-0.0004506832</td><td>0.001035186</td><td>⋯</td><td>-3.565042e-03</td><td>-0.002102308</td><td> 0.003887664</td><td> 0.0009957568</td><td>0</td><td>0</td><td>-0.001034856</td><td>0.000261256</td><td> 0.006198619</td><td>0</td></tr>\n",
       "\t<tr><td>1</td><td>chr1_168849726_A_T_b38 </td><td>0</td><td>168849726</td><td>T</td><td>A </td><td>0</td><td>-0.0021913580</td><td> 0.0000000000</td><td>0.000000000</td><td>⋯</td><td> 0.000000e+00</td><td> 0.000000000</td><td> 0.000428974</td><td> 0.0116435026</td><td>0</td><td>0</td><td> 0.000000000</td><td>0.000000000</td><td>-0.066343380</td><td>0</td></tr>\n",
       "\t<tr><td>1</td><td>chr1_168849990_C_T_b38 </td><td>0</td><td>168849990</td><td>T</td><td>C </td><td>0</td><td> 0.0000000000</td><td> 0.0000000000</td><td>0.000000000</td><td>⋯</td><td>-6.413460e-03</td><td> 0.000000000</td><td>-0.007921380</td><td> 0.0000000000</td><td>0</td><td>0</td><td> 0.000000000</td><td>0.000000000</td><td>-0.004635134</td><td>0</td></tr>\n",
       "\t<tr><td>1</td><td>chr1_168850357_C_T_b38 </td><td>0</td><td>168850357</td><td>T</td><td>C </td><td>0</td><td> 0.0000000000</td><td> 0.0030527099</td><td>0.000000000</td><td>⋯</td><td> 0.000000e+00</td><td> 0.000000000</td><td> 0.007700619</td><td>-0.0012562958</td><td>0</td><td>0</td><td> 0.000000000</td><td>0.000000000</td><td>-0.025486896</td><td>0</td></tr>\n",
       "\t<tr><td>1</td><td>chr1_168850785_A_AG_b38</td><td>0</td><td>168850785</td><td>A</td><td>AG</td><td>0</td><td> 0.0000000000</td><td>-0.0019528508</td><td>0.000000000</td><td>⋯</td><td> 9.705234e-04</td><td> 0.001268954</td><td> 0.003094517</td><td>-0.0021228318</td><td>0</td><td>0</td><td> 0.002202202</td><td>0.000000000</td><td> 0.002412865</td><td>0</td></tr>\n",
       "\t<tr><td>1</td><td>chr1_168851056_T_C_b38 </td><td>0</td><td>168851056</td><td>C</td><td>T </td><td>0</td><td> 0.0000000000</td><td> 0.0000000000</td><td>0.000000000</td><td>⋯</td><td>-8.119035e-05</td><td> 0.000000000</td><td> 0.000860071</td><td> 0.0092580425</td><td>0</td><td>0</td><td> 0.000000000</td><td>0.002319554</td><td> 0.009510299</td><td>0</td></tr>\n",
       "</tbody>\n",
       "</table>\n"
      ],
      "text/latex": [
       "A data.table: 6 × 39\n",
       "\\begin{tabular}{lllllllllllllllllllll}\n",
       " chr & id & posg & pos & ref & alt & Adipose\\_Subcutaneous.adj\\_expr & Adipose\\_Visceral\\_Omentum.adj\\_expr & Adrenal\\_Gland.adj\\_expr & Artery\\_Aorta.adj\\_expr & ⋯ & Muscle\\_Skeletal.adj\\_expr & Ovary.adj\\_expr & Pituitary.adj\\_expr & Prostate.adj\\_expr & Skin\\_Not\\_Sun\\_Exposed\\_Suprapubic.adj\\_expr & Skin\\_Sun\\_Exposed\\_Lower\\_leg.adj\\_expr & Spleen.adj\\_expr & Stomach.adj\\_expr & Testis.adj\\_expr & Thyroid.adj\\_expr\\\\\n",
       " <int> & <chr> & <int> & <int> & <chr> & <chr> & <dbl> & <dbl> & <dbl> & <dbl> & ⋯ & <dbl> & <dbl> & <dbl> & <dbl> & <dbl> & <int> & <dbl> & <dbl> & <dbl> & <dbl>\\\\\n",
       "\\hline\n",
       "\t 1 & chr1\\_168849631\\_C\\_A\\_b38  & 0 & 168849631 & A & C  & 0 & -0.0004151165 & -0.0004506832 & 0.001035186 & ⋯ & -3.565042e-03 & -0.002102308 &  0.003887664 &  0.0009957568 & 0 & 0 & -0.001034856 & 0.000261256 &  0.006198619 & 0\\\\\n",
       "\t 1 & chr1\\_168849726\\_A\\_T\\_b38  & 0 & 168849726 & T & A  & 0 & -0.0021913580 &  0.0000000000 & 0.000000000 & ⋯ &  0.000000e+00 &  0.000000000 &  0.000428974 &  0.0116435026 & 0 & 0 &  0.000000000 & 0.000000000 & -0.066343380 & 0\\\\\n",
       "\t 1 & chr1\\_168849990\\_C\\_T\\_b38  & 0 & 168849990 & T & C  & 0 &  0.0000000000 &  0.0000000000 & 0.000000000 & ⋯ & -6.413460e-03 &  0.000000000 & -0.007921380 &  0.0000000000 & 0 & 0 &  0.000000000 & 0.000000000 & -0.004635134 & 0\\\\\n",
       "\t 1 & chr1\\_168850357\\_C\\_T\\_b38  & 0 & 168850357 & T & C  & 0 &  0.0000000000 &  0.0030527099 & 0.000000000 & ⋯ &  0.000000e+00 &  0.000000000 &  0.007700619 & -0.0012562958 & 0 & 0 &  0.000000000 & 0.000000000 & -0.025486896 & 0\\\\\n",
       "\t 1 & chr1\\_168850785\\_A\\_AG\\_b38 & 0 & 168850785 & A & AG & 0 &  0.0000000000 & -0.0019528508 & 0.000000000 & ⋯ &  9.705234e-04 &  0.001268954 &  0.003094517 & -0.0021228318 & 0 & 0 &  0.002202202 & 0.000000000 &  0.002412865 & 0\\\\\n",
       "\t 1 & chr1\\_168851056\\_T\\_C\\_b38  & 0 & 168851056 & C & T  & 0 &  0.0000000000 &  0.0000000000 & 0.000000000 & ⋯ & -8.119035e-05 &  0.000000000 &  0.000860071 &  0.0092580425 & 0 & 0 &  0.000000000 & 0.002319554 &  0.009510299 & 0\\\\\n",
       "\\end{tabular}\n"
      ],
      "text/markdown": [
       "\n",
       "A data.table: 6 × 39\n",
       "\n",
       "| chr &lt;int&gt; | id &lt;chr&gt; | posg &lt;int&gt; | pos &lt;int&gt; | ref &lt;chr&gt; | alt &lt;chr&gt; | Adipose_Subcutaneous.adj_expr &lt;dbl&gt; | Adipose_Visceral_Omentum.adj_expr &lt;dbl&gt; | Adrenal_Gland.adj_expr &lt;dbl&gt; | Artery_Aorta.adj_expr &lt;dbl&gt; | ⋯ ⋯ | Muscle_Skeletal.adj_expr &lt;dbl&gt; | Ovary.adj_expr &lt;dbl&gt; | Pituitary.adj_expr &lt;dbl&gt; | Prostate.adj_expr &lt;dbl&gt; | Skin_Not_Sun_Exposed_Suprapubic.adj_expr &lt;dbl&gt; | Skin_Sun_Exposed_Lower_leg.adj_expr &lt;int&gt; | Spleen.adj_expr &lt;dbl&gt; | Stomach.adj_expr &lt;dbl&gt; | Testis.adj_expr &lt;dbl&gt; | Thyroid.adj_expr &lt;dbl&gt; |\n",
       "|---|---|---|---|---|---|---|---|---|---|---|---|---|---|---|---|---|---|---|---|---|\n",
       "| 1 | chr1_168849631_C_A_b38  | 0 | 168849631 | A | C  | 0 | -0.0004151165 | -0.0004506832 | 0.001035186 | ⋯ | -3.565042e-03 | -0.002102308 |  0.003887664 |  0.0009957568 | 0 | 0 | -0.001034856 | 0.000261256 |  0.006198619 | 0 |\n",
       "| 1 | chr1_168849726_A_T_b38  | 0 | 168849726 | T | A  | 0 | -0.0021913580 |  0.0000000000 | 0.000000000 | ⋯ |  0.000000e+00 |  0.000000000 |  0.000428974 |  0.0116435026 | 0 | 0 |  0.000000000 | 0.000000000 | -0.066343380 | 0 |\n",
       "| 1 | chr1_168849990_C_T_b38  | 0 | 168849990 | T | C  | 0 |  0.0000000000 |  0.0000000000 | 0.000000000 | ⋯ | -6.413460e-03 |  0.000000000 | -0.007921380 |  0.0000000000 | 0 | 0 |  0.000000000 | 0.000000000 | -0.004635134 | 0 |\n",
       "| 1 | chr1_168850357_C_T_b38  | 0 | 168850357 | T | C  | 0 |  0.0000000000 |  0.0030527099 | 0.000000000 | ⋯ |  0.000000e+00 |  0.000000000 |  0.007700619 | -0.0012562958 | 0 | 0 |  0.000000000 | 0.000000000 | -0.025486896 | 0 |\n",
       "| 1 | chr1_168850785_A_AG_b38 | 0 | 168850785 | A | AG | 0 |  0.0000000000 | -0.0019528508 | 0.000000000 | ⋯ |  9.705234e-04 |  0.001268954 |  0.003094517 | -0.0021228318 | 0 | 0 |  0.002202202 | 0.000000000 |  0.002412865 | 0 |\n",
       "| 1 | chr1_168851056_T_C_b38  | 0 | 168851056 | C | T  | 0 |  0.0000000000 |  0.0000000000 | 0.000000000 | ⋯ | -8.119035e-05 |  0.000000000 |  0.000860071 |  0.0092580425 | 0 | 0 |  0.000000000 | 0.002319554 |  0.009510299 | 0 |\n",
       "\n"
      ],
      "text/plain": [
       "  chr id                      posg pos       ref alt\n",
       "1 1   chr1_168849631_C_A_b38  0    168849631 A   C  \n",
       "2 1   chr1_168849726_A_T_b38  0    168849726 T   A  \n",
       "3 1   chr1_168849990_C_T_b38  0    168849990 T   C  \n",
       "4 1   chr1_168850357_C_T_b38  0    168850357 T   C  \n",
       "5 1   chr1_168850785_A_AG_b38 0    168850785 A   AG \n",
       "6 1   chr1_168851056_T_C_b38  0    168851056 C   T  \n",
       "  Adipose_Subcutaneous.adj_expr Adipose_Visceral_Omentum.adj_expr\n",
       "1 0                             -0.0004151165                    \n",
       "2 0                             -0.0021913580                    \n",
       "3 0                              0.0000000000                    \n",
       "4 0                              0.0000000000                    \n",
       "5 0                              0.0000000000                    \n",
       "6 0                              0.0000000000                    \n",
       "  Adrenal_Gland.adj_expr Artery_Aorta.adj_expr ⋯ Muscle_Skeletal.adj_expr\n",
       "1 -0.0004506832          0.001035186           ⋯ -3.565042e-03           \n",
       "2  0.0000000000          0.000000000           ⋯  0.000000e+00           \n",
       "3  0.0000000000          0.000000000           ⋯ -6.413460e-03           \n",
       "4  0.0030527099          0.000000000           ⋯  0.000000e+00           \n",
       "5 -0.0019528508          0.000000000           ⋯  9.705234e-04           \n",
       "6  0.0000000000          0.000000000           ⋯ -8.119035e-05           \n",
       "  Ovary.adj_expr Pituitary.adj_expr Prostate.adj_expr\n",
       "1 -0.002102308    0.003887664        0.0009957568    \n",
       "2  0.000000000    0.000428974        0.0116435026    \n",
       "3  0.000000000   -0.007921380        0.0000000000    \n",
       "4  0.000000000    0.007700619       -0.0012562958    \n",
       "5  0.001268954    0.003094517       -0.0021228318    \n",
       "6  0.000000000    0.000860071        0.0092580425    \n",
       "  Skin_Not_Sun_Exposed_Suprapubic.adj_expr Skin_Sun_Exposed_Lower_leg.adj_expr\n",
       "1 0                                        0                                  \n",
       "2 0                                        0                                  \n",
       "3 0                                        0                                  \n",
       "4 0                                        0                                  \n",
       "5 0                                        0                                  \n",
       "6 0                                        0                                  \n",
       "  Spleen.adj_expr Stomach.adj_expr Testis.adj_expr Thyroid.adj_expr\n",
       "1 -0.001034856    0.000261256       0.006198619    0               \n",
       "2  0.000000000    0.000000000      -0.066343380    0               \n",
       "3  0.000000000    0.000000000      -0.004635134    0               \n",
       "4  0.000000000    0.000000000      -0.025486896    0               \n",
       "5  0.002202202    0.000000000       0.002412865    0               \n",
       "6  0.000000000    0.002319554       0.009510299    0               "
      ]
     },
     "metadata": {},
     "output_type": "display_data"
    }
   ],
   "source": [
    "head(est_df)"
   ]
  },
  {
   "cell_type": "code",
   "execution_count": 4,
   "metadata": {},
   "outputs": [],
   "source": [
    "#ref_df = fread(\"/ysm-gpfs/pi/zhao-data/zy92/GTEx_V8/GTEx_Analysis_2017-06-05_v8_WholeGenomeSeq_838Indiv_Analysis_Freeze.lookup_table.txt\")"
   ]
  },
  {
   "cell_type": "code",
   "execution_count": 1,
   "metadata": {},
   "outputs": [],
   "source": [
    "ref_df = data.table::fread(\"/ysm-gpfs/pi/zhao-data/zy92/GTEx_V8/chr1_snp.txt\")"
   ]
  },
  {
   "cell_type": "code",
   "execution_count": 3,
   "metadata": {},
   "outputs": [
    {
     "data": {
      "text/html": [
       "<table>\n",
       "<caption>A data.table: 6 × 8</caption>\n",
       "<thead>\n",
       "\t<tr><th scope=col>variant_id</th><th scope=col>chr</th><th scope=col>variant_pos</th><th scope=col>ref</th><th scope=col>alt</th><th scope=col>num_alt_per_site</th><th scope=col>rs_id_dbSNP151_GRCh38p7</th><th scope=col>variant_id_b37</th></tr>\n",
       "\t<tr><th scope=col>&lt;chr&gt;</th><th scope=col>&lt;chr&gt;</th><th scope=col>&lt;int&gt;</th><th scope=col>&lt;chr&gt;</th><th scope=col>&lt;chr&gt;</th><th scope=col>&lt;int&gt;</th><th scope=col>&lt;chr&gt;</th><th scope=col>&lt;chr&gt;</th></tr>\n",
       "</thead>\n",
       "<tbody>\n",
       "\t<tr><td>chr1_13526_C_T_b38   </td><td>chr1</td><td>13526</td><td>C   </td><td>T </td><td>1</td><td>rs1209314672</td><td>1_13526_C_T_b37   </td></tr>\n",
       "\t<tr><td>chr1_13550_G_A_b38   </td><td>chr1</td><td>13550</td><td>G   </td><td>A </td><td>1</td><td>rs554008981 </td><td>1_13550_G_A_b37   </td></tr>\n",
       "\t<tr><td>chr1_14451_CTCT_C_b38</td><td>chr1</td><td>14451</td><td>CTCT</td><td>C </td><td>1</td><td>.           </td><td>1_14451_CTCT_C_b37</td></tr>\n",
       "\t<tr><td>chr1_14469_C_T_b38   </td><td>chr1</td><td>14469</td><td>C   </td><td>T </td><td>1</td><td>rs1365462007</td><td>1_14469_C_T_b37   </td></tr>\n",
       "\t<tr><td>chr1_14470_G_A_b38   </td><td>chr1</td><td>14470</td><td>G   </td><td>A </td><td>1</td><td>rs1385614989</td><td>1_14470_G_A_b37   </td></tr>\n",
       "\t<tr><td>chr1_14488_T_TC_b38  </td><td>chr1</td><td>14488</td><td>T   </td><td>TC</td><td>1</td><td>rs1237868104</td><td>1_14488_T_TC_b37  </td></tr>\n",
       "</tbody>\n",
       "</table>\n"
      ],
      "text/latex": [
       "A data.table: 6 × 8\n",
       "\\begin{tabular}{llllllll}\n",
       " variant\\_id & chr & variant\\_pos & ref & alt & num\\_alt\\_per\\_site & rs\\_id\\_dbSNP151\\_GRCh38p7 & variant\\_id\\_b37\\\\\n",
       " <chr> & <chr> & <int> & <chr> & <chr> & <int> & <chr> & <chr>\\\\\n",
       "\\hline\n",
       "\t chr1\\_13526\\_C\\_T\\_b38    & chr1 & 13526 & C    & T  & 1 & rs1209314672 & 1\\_13526\\_C\\_T\\_b37   \\\\\n",
       "\t chr1\\_13550\\_G\\_A\\_b38    & chr1 & 13550 & G    & A  & 1 & rs554008981  & 1\\_13550\\_G\\_A\\_b37   \\\\\n",
       "\t chr1\\_14451\\_CTCT\\_C\\_b38 & chr1 & 14451 & CTCT & C  & 1 & .            & 1\\_14451\\_CTCT\\_C\\_b37\\\\\n",
       "\t chr1\\_14469\\_C\\_T\\_b38    & chr1 & 14469 & C    & T  & 1 & rs1365462007 & 1\\_14469\\_C\\_T\\_b37   \\\\\n",
       "\t chr1\\_14470\\_G\\_A\\_b38    & chr1 & 14470 & G    & A  & 1 & rs1385614989 & 1\\_14470\\_G\\_A\\_b37   \\\\\n",
       "\t chr1\\_14488\\_T\\_TC\\_b38   & chr1 & 14488 & T    & TC & 1 & rs1237868104 & 1\\_14488\\_T\\_TC\\_b37  \\\\\n",
       "\\end{tabular}\n"
      ],
      "text/markdown": [
       "\n",
       "A data.table: 6 × 8\n",
       "\n",
       "| variant_id &lt;chr&gt; | chr &lt;chr&gt; | variant_pos &lt;int&gt; | ref &lt;chr&gt; | alt &lt;chr&gt; | num_alt_per_site &lt;int&gt; | rs_id_dbSNP151_GRCh38p7 &lt;chr&gt; | variant_id_b37 &lt;chr&gt; |\n",
       "|---|---|---|---|---|---|---|---|\n",
       "| chr1_13526_C_T_b38    | chr1 | 13526 | C    | T  | 1 | rs1209314672 | 1_13526_C_T_b37    |\n",
       "| chr1_13550_G_A_b38    | chr1 | 13550 | G    | A  | 1 | rs554008981  | 1_13550_G_A_b37    |\n",
       "| chr1_14451_CTCT_C_b38 | chr1 | 14451 | CTCT | C  | 1 | .            | 1_14451_CTCT_C_b37 |\n",
       "| chr1_14469_C_T_b38    | chr1 | 14469 | C    | T  | 1 | rs1365462007 | 1_14469_C_T_b37    |\n",
       "| chr1_14470_G_A_b38    | chr1 | 14470 | G    | A  | 1 | rs1385614989 | 1_14470_G_A_b37    |\n",
       "| chr1_14488_T_TC_b38   | chr1 | 14488 | T    | TC | 1 | rs1237868104 | 1_14488_T_TC_b37   |\n",
       "\n"
      ],
      "text/plain": [
       "  variant_id            chr  variant_pos ref  alt num_alt_per_site\n",
       "1 chr1_13526_C_T_b38    chr1 13526       C    T   1               \n",
       "2 chr1_13550_G_A_b38    chr1 13550       G    A   1               \n",
       "3 chr1_14451_CTCT_C_b38 chr1 14451       CTCT C   1               \n",
       "4 chr1_14469_C_T_b38    chr1 14469       C    T   1               \n",
       "5 chr1_14470_G_A_b38    chr1 14470       G    A   1               \n",
       "6 chr1_14488_T_TC_b38   chr1 14488       T    TC  1               \n",
       "  rs_id_dbSNP151_GRCh38p7 variant_id_b37    \n",
       "1 rs1209314672            1_13526_C_T_b37   \n",
       "2 rs554008981             1_13550_G_A_b37   \n",
       "3 .                       1_14451_CTCT_C_b37\n",
       "4 rs1365462007            1_14469_C_T_b37   \n",
       "5 rs1385614989            1_14470_G_A_b37   \n",
       "6 rs1237868104            1_14488_T_TC_b37  "
      ]
     },
     "metadata": {},
     "output_type": "display_data"
    }
   ],
   "source": [
    "head(ref_df)"
   ]
  },
  {
   "cell_type": "code",
   "execution_count": 5,
   "metadata": {},
   "outputs": [],
   "source": [
    "library(dplyr)\n",
    "set_df <- head(ref_df)\n",
    "subset_df <- set_df %>%\n",
    "    filter(variant_pos != 13526 )"
   ]
  },
  {
   "cell_type": "code",
   "execution_count": 6,
   "metadata": {},
   "outputs": [
    {
     "data": {
      "text/html": [
       "<table>\n",
       "<caption>A data.table: 5 × 8</caption>\n",
       "<thead>\n",
       "\t<tr><th scope=col>variant_id</th><th scope=col>chr</th><th scope=col>variant_pos</th><th scope=col>ref</th><th scope=col>alt</th><th scope=col>num_alt_per_site</th><th scope=col>rs_id_dbSNP151_GRCh38p7</th><th scope=col>variant_id_b37</th></tr>\n",
       "\t<tr><th scope=col>&lt;chr&gt;</th><th scope=col>&lt;chr&gt;</th><th scope=col>&lt;int&gt;</th><th scope=col>&lt;chr&gt;</th><th scope=col>&lt;chr&gt;</th><th scope=col>&lt;int&gt;</th><th scope=col>&lt;chr&gt;</th><th scope=col>&lt;chr&gt;</th></tr>\n",
       "</thead>\n",
       "<tbody>\n",
       "\t<tr><td>chr1_13550_G_A_b38   </td><td>chr1</td><td>13550</td><td>G   </td><td>A </td><td>1</td><td>rs554008981 </td><td>1_13550_G_A_b37   </td></tr>\n",
       "\t<tr><td>chr1_14451_CTCT_C_b38</td><td>chr1</td><td>14451</td><td>CTCT</td><td>C </td><td>1</td><td>.           </td><td>1_14451_CTCT_C_b37</td></tr>\n",
       "\t<tr><td>chr1_14469_C_T_b38   </td><td>chr1</td><td>14469</td><td>C   </td><td>T </td><td>1</td><td>rs1365462007</td><td>1_14469_C_T_b37   </td></tr>\n",
       "\t<tr><td>chr1_14470_G_A_b38   </td><td>chr1</td><td>14470</td><td>G   </td><td>A </td><td>1</td><td>rs1385614989</td><td>1_14470_G_A_b37   </td></tr>\n",
       "\t<tr><td>chr1_14488_T_TC_b38  </td><td>chr1</td><td>14488</td><td>T   </td><td>TC</td><td>1</td><td>rs1237868104</td><td>1_14488_T_TC_b37  </td></tr>\n",
       "</tbody>\n",
       "</table>\n"
      ],
      "text/latex": [
       "A data.table: 5 × 8\n",
       "\\begin{tabular}{llllllll}\n",
       " variant\\_id & chr & variant\\_pos & ref & alt & num\\_alt\\_per\\_site & rs\\_id\\_dbSNP151\\_GRCh38p7 & variant\\_id\\_b37\\\\\n",
       " <chr> & <chr> & <int> & <chr> & <chr> & <int> & <chr> & <chr>\\\\\n",
       "\\hline\n",
       "\t chr1\\_13550\\_G\\_A\\_b38    & chr1 & 13550 & G    & A  & 1 & rs554008981  & 1\\_13550\\_G\\_A\\_b37   \\\\\n",
       "\t chr1\\_14451\\_CTCT\\_C\\_b38 & chr1 & 14451 & CTCT & C  & 1 & .            & 1\\_14451\\_CTCT\\_C\\_b37\\\\\n",
       "\t chr1\\_14469\\_C\\_T\\_b38    & chr1 & 14469 & C    & T  & 1 & rs1365462007 & 1\\_14469\\_C\\_T\\_b37   \\\\\n",
       "\t chr1\\_14470\\_G\\_A\\_b38    & chr1 & 14470 & G    & A  & 1 & rs1385614989 & 1\\_14470\\_G\\_A\\_b37   \\\\\n",
       "\t chr1\\_14488\\_T\\_TC\\_b38   & chr1 & 14488 & T    & TC & 1 & rs1237868104 & 1\\_14488\\_T\\_TC\\_b37  \\\\\n",
       "\\end{tabular}\n"
      ],
      "text/markdown": [
       "\n",
       "A data.table: 5 × 8\n",
       "\n",
       "| variant_id &lt;chr&gt; | chr &lt;chr&gt; | variant_pos &lt;int&gt; | ref &lt;chr&gt; | alt &lt;chr&gt; | num_alt_per_site &lt;int&gt; | rs_id_dbSNP151_GRCh38p7 &lt;chr&gt; | variant_id_b37 &lt;chr&gt; |\n",
       "|---|---|---|---|---|---|---|---|\n",
       "| chr1_13550_G_A_b38    | chr1 | 13550 | G    | A  | 1 | rs554008981  | 1_13550_G_A_b37    |\n",
       "| chr1_14451_CTCT_C_b38 | chr1 | 14451 | CTCT | C  | 1 | .            | 1_14451_CTCT_C_b37 |\n",
       "| chr1_14469_C_T_b38    | chr1 | 14469 | C    | T  | 1 | rs1365462007 | 1_14469_C_T_b37    |\n",
       "| chr1_14470_G_A_b38    | chr1 | 14470 | G    | A  | 1 | rs1385614989 | 1_14470_G_A_b37    |\n",
       "| chr1_14488_T_TC_b38   | chr1 | 14488 | T    | TC | 1 | rs1237868104 | 1_14488_T_TC_b37   |\n",
       "\n"
      ],
      "text/plain": [
       "  variant_id            chr  variant_pos ref  alt num_alt_per_site\n",
       "1 chr1_13550_G_A_b38    chr1 13550       G    A   1               \n",
       "2 chr1_14451_CTCT_C_b38 chr1 14451       CTCT C   1               \n",
       "3 chr1_14469_C_T_b38    chr1 14469       C    T   1               \n",
       "4 chr1_14470_G_A_b38    chr1 14470       G    A   1               \n",
       "5 chr1_14488_T_TC_b38   chr1 14488       T    TC  1               \n",
       "  rs_id_dbSNP151_GRCh38p7 variant_id_b37    \n",
       "1 rs554008981             1_13550_G_A_b37   \n",
       "2 .                       1_14451_CTCT_C_b37\n",
       "3 rs1365462007            1_14469_C_T_b37   \n",
       "4 rs1385614989            1_14470_G_A_b37   \n",
       "5 rs1237868104            1_14488_T_TC_b37  "
      ]
     },
     "metadata": {},
     "output_type": "display_data"
    }
   ],
   "source": [
    "subset_df"
   ]
  },
  {
   "cell_type": "code",
   "execution_count": null,
   "metadata": {},
   "outputs": [],
   "source": [
    "joint_df = est_df %>%\n",
    "    inner_join(ref_df, by = c(\"id\" = \"variant_id\"))"
   ]
  },
  {
   "cell_type": "code",
   "execution_count": null,
   "metadata": {},
   "outputs": [],
   "source": [
    "dim(est_df)"
   ]
  },
  {
   "cell_type": "code",
   "execution_count": null,
   "metadata": {},
   "outputs": [],
   "source": [
    "dim(joint_df)"
   ]
  },
  {
   "cell_type": "code",
   "execution_count": null,
   "metadata": {},
   "outputs": [],
   "source": [
    "head(joint_df)"
   ]
  },
  {
   "cell_type": "code",
   "execution_count": null,
   "metadata": {},
   "outputs": [],
   "source": [
    "head(est_df)"
   ]
  },
  {
   "cell_type": "code",
   "execution_count": null,
   "metadata": {},
   "outputs": [],
   "source": [
    "d"
   ]
  },
  {
   "cell_type": "code",
   "execution_count": null,
   "metadata": {},
   "outputs": [],
   "source": [
    "est"
   ]
  },
  {
   "cell_type": "code",
   "execution_count": 17,
   "metadata": {},
   "outputs": [],
   "source": [
    "zero_summary = apply(est_df[,7:ncol(est_df)], 1, function(x) sum(x == 0))"
   ]
  },
  {
   "cell_type": "code",
   "execution_count": 18,
   "metadata": {},
   "outputs": [
    {
     "data": {
      "text/html": [
       "5676"
      ],
      "text/latex": [
       "5676"
      ],
      "text/markdown": [
       "5676"
      ],
      "text/plain": [
       "[1] 5676"
      ]
     },
     "metadata": {},
     "output_type": "display_data"
    }
   ],
   "source": [
    "length(zero_summary)"
   ]
  },
  {
   "cell_type": "code",
   "execution_count": 19,
   "metadata": {},
   "outputs": [
    {
     "data": {
      "image/png": "[encoded data removed]",
      "text/plain": [
       "Plot with title “Histogram of zero_summary”"
      ]
     },
     "metadata": {
      "image/png": {
       "height": 420,
       "width": 420
      },
      "text/plain": {
       "height": 420,
       "width": 420
      }
     },
     "output_type": "display_data"
    }
   ],
   "source": [
    "hist(zero_summary)"
   ]
  },
  {
   "cell_type": "code",
   "execution_count": 20,
   "metadata": {},
   "outputs": [
    {
     "data": {
      "text/html": [
       "33"
      ],
      "text/latex": [
       "33"
      ],
      "text/markdown": [
       "33"
      ],
      "text/plain": [
       "[1] 33"
      ]
     },
     "metadata": {},
     "output_type": "display_data"
    }
   ],
   "source": [
    "max(zero_summary)"
   ]
  },
  {
   "cell_type": "code",
   "execution_count": 21,
   "metadata": {},
   "outputs": [
    {
     "data": {
      "text/html": [
       "1e+08"
      ],
      "text/latex": [
       "1e+08"
      ],
      "text/markdown": [
       "1e+08"
      ],
      "text/plain": [
       "[1] 1e+08"
      ]
     },
     "metadata": {},
     "output_type": "display_data"
    }
   ],
   "source": [
    "for (i in 1:22) {\n",
    "    chr\n",
    "}"
   ]
  },
  {
   "cell_type": "code",
   "execution_count": 23,
   "metadata": {},
   "outputs": [],
   "source": [
    "chr = 1\n",
    "est_file_list = list.dirs(paste0(\"/gpfs/project/zhao/zy92/GTEX/output/chr\", chr))\n",
    "\n"
   ]
  },
  {
   "cell_type": "code",
   "execution_count": 27,
   "metadata": {},
   "outputs": [],
   "source": [
    "chr = 1\n",
    "est_file_list_chr = list.files(paste0(\"/gpfs/project/zhao/zy92/GTEX/output/chr\", chr))"
   ]
  },
  {
   "cell_type": "code",
   "execution_count": 28,
   "metadata": {},
   "outputs": [
    {
     "data": {
      "text/html": [
       "<style>\n",
       ".list-inline {list-style: none; margin:0; padding: 0}\n",
       ".list-inline>li {display: inline-block}\n",
       ".list-inline>li:not(:last-child)::after {content: \"\\00b7\"; padding: 0 .5ex}\n",
       "</style>\n",
       "<ol class=list-inline><li>'ENSG00000000457.13'</li><li>'ENSG00000000460.16'</li><li>'ENSG00000000938.12'</li><li>'ENSG00000000971.15'</li><li>'ENSG00000001460.17'</li><li>'ENSG00000001461.16'</li></ol>\n"
      ],
      "text/latex": [
       "\\begin{enumerate*}\n",
       "\\item 'ENSG00000000457.13'\n",
       "\\item 'ENSG00000000460.16'\n",
       "\\item 'ENSG00000000938.12'\n",
       "\\item 'ENSG00000000971.15'\n",
       "\\item 'ENSG00000001460.17'\n",
       "\\item 'ENSG00000001461.16'\n",
       "\\end{enumerate*}\n"
      ],
      "text/markdown": [
       "1. 'ENSG00000000457.13'\n",
       "2. 'ENSG00000000460.16'\n",
       "3. 'ENSG00000000938.12'\n",
       "4. 'ENSG00000000971.15'\n",
       "5. 'ENSG00000001460.17'\n",
       "6. 'ENSG00000001461.16'\n",
       "\n",
       "\n"
      ],
      "text/plain": [
       "[1] \"ENSG00000000457.13\" \"ENSG00000000460.16\" \"ENSG00000000938.12\"\n",
       "[4] \"ENSG00000000971.15\" \"ENSG00000001460.17\" \"ENSG00000001461.16\""
      ]
     },
     "metadata": {},
     "output_type": "display_data"
    }
   ],
   "source": [
    "head(est_file_list_chr)"
   ]
  },
  {
   "cell_type": "code",
   "execution_count": 26,
   "metadata": {},
   "outputs": [
    {
     "data": {
      "text/html": [
       "2565"
      ],
      "text/latex": [
       "2565"
      ],
      "text/markdown": [
       "2565"
      ],
      "text/plain": [
       "[1] 2565"
      ]
     },
     "metadata": {},
     "output_type": "display_data"
    },
    {
     "data": {
      "text/html": [
       "<style>\n",
       ".list-inline {list-style: none; margin:0; padding: 0}\n",
       ".list-inline>li {display: inline-block}\n",
       ".list-inline>li:not(:last-child)::after {content: \"\\00b7\"; padding: 0 .5ex}\n",
       "</style>\n",
       "<ol class=list-inline><li>'/gpfs/project/zhao/zy92/GTEX/output/chr1'</li><li>'/gpfs/project/zhao/zy92/GTEX/output/chr1/ENSG00000000457.13'</li><li>'/gpfs/project/zhao/zy92/GTEX/output/chr1/ENSG00000000460.16'</li><li>'/gpfs/project/zhao/zy92/GTEX/output/chr1/ENSG00000000938.12'</li><li>'/gpfs/project/zhao/zy92/GTEX/output/chr1/ENSG00000000971.15'</li><li>'/gpfs/project/zhao/zy92/GTEX/output/chr1/ENSG00000001460.17'</li></ol>\n"
      ],
      "text/latex": [
       "\\begin{enumerate*}\n",
       "\\item '/gpfs/project/zhao/zy92/GTEX/output/chr1'\n",
       "\\item '/gpfs/project/zhao/zy92/GTEX/output/chr1/ENSG00000000457.13'\n",
       "\\item '/gpfs/project/zhao/zy92/GTEX/output/chr1/ENSG00000000460.16'\n",
       "\\item '/gpfs/project/zhao/zy92/GTEX/output/chr1/ENSG00000000938.12'\n",
       "\\item '/gpfs/project/zhao/zy92/GTEX/output/chr1/ENSG00000000971.15'\n",
       "\\item '/gpfs/project/zhao/zy92/GTEX/output/chr1/ENSG00000001460.17'\n",
       "\\end{enumerate*}\n"
      ],
      "text/markdown": [
       "1. '/gpfs/project/zhao/zy92/GTEX/output/chr1'\n",
       "2. '/gpfs/project/zhao/zy92/GTEX/output/chr1/ENSG00000000457.13'\n",
       "3. '/gpfs/project/zhao/zy92/GTEX/output/chr1/ENSG00000000460.16'\n",
       "4. '/gpfs/project/zhao/zy92/GTEX/output/chr1/ENSG00000000938.12'\n",
       "5. '/gpfs/project/zhao/zy92/GTEX/output/chr1/ENSG00000000971.15'\n",
       "6. '/gpfs/project/zhao/zy92/GTEX/output/chr1/ENSG00000001460.17'\n",
       "\n",
       "\n"
      ],
      "text/plain": [
       "[1] \"/gpfs/project/zhao/zy92/GTEX/output/chr1\"                   \n",
       "[2] \"/gpfs/project/zhao/zy92/GTEX/output/chr1/ENSG00000000457.13\"\n",
       "[3] \"/gpfs/project/zhao/zy92/GTEX/output/chr1/ENSG00000000460.16\"\n",
       "[4] \"/gpfs/project/zhao/zy92/GTEX/output/chr1/ENSG00000000938.12\"\n",
       "[5] \"/gpfs/project/zhao/zy92/GTEX/output/chr1/ENSG00000000971.15\"\n",
       "[6] \"/gpfs/project/zhao/zy92/GTEX/output/chr1/ENSG00000001460.17\""
      ]
     },
     "metadata": {},
     "output_type": "display_data"
    }
   ],
   "source": [
    "length(est_file_list)\n",
    "head(est_file_list)"
   ]
  },
  {
   "cell_type": "code",
   "execution_count": 11,
   "metadata": {},
   "outputs": [
    {
     "data": {
      "text/html": [
       "<table>\n",
       "<caption>A data.frame: 1883 × 5</caption>\n",
       "<thead>\n",
       "\t<tr><th scope=col>rsid</th><th scope=col>gene</th><th scope=col>weight</th><th scope=col>ref_allele</th><th scope=col>eff_allele</th></tr>\n",
       "\t<tr><th scope=col>&lt;fct&gt;</th><th scope=col>&lt;fct&gt;</th><th scope=col>&lt;int&gt;</th><th scope=col>&lt;fct&gt;</th><th scope=col>&lt;fct&gt;</th></tr>\n",
       "</thead>\n",
       "<tbody>\n",
       "\t<tr><td>rs11804833 </td><td>ENSG00000000460.16</td><td>1</td><td>T</td><td>C </td></tr>\n",
       "\t<tr><td>rs58536824 </td><td>ENSG00000000460.16</td><td>1</td><td>A</td><td>C </td></tr>\n",
       "\t<tr><td>rs75185274 </td><td>ENSG00000000460.16</td><td>1</td><td>G</td><td>A </td></tr>\n",
       "\t<tr><td>rs35371130 </td><td>ENSG00000000460.16</td><td>1</td><td>G</td><td>T </td></tr>\n",
       "\t<tr><td>rs17502733 </td><td>ENSG00000000460.16</td><td>1</td><td>T</td><td>C </td></tr>\n",
       "\t<tr><td>rs147258969</td><td>ENSG00000000460.16</td><td>1</td><td>T</td><td>G </td></tr>\n",
       "\t<tr><td>rs17561899 </td><td>ENSG00000000460.16</td><td>1</td><td>C</td><td>T </td></tr>\n",
       "\t<tr><td>rs71632375 </td><td>ENSG00000000460.16</td><td>1</td><td>T</td><td>C </td></tr>\n",
       "\t<tr><td>rs56168358 </td><td>ENSG00000000460.16</td><td>1</td><td>T</td><td>G </td></tr>\n",
       "\t<tr><td>rs61801570 </td><td>ENSG00000000460.16</td><td>1</td><td>G</td><td>A </td></tr>\n",
       "\t<tr><td>rs150807051</td><td>ENSG00000000460.16</td><td>1</td><td>T</td><td>A </td></tr>\n",
       "\t<tr><td>rs12076274 </td><td>ENSG00000000460.16</td><td>1</td><td>T</td><td>C </td></tr>\n",
       "\t<tr><td>rs35942875 </td><td>ENSG00000000460.16</td><td>1</td><td>T</td><td>G </td></tr>\n",
       "\t<tr><td>rs16861313 </td><td>ENSG00000000460.16</td><td>1</td><td>G</td><td>T </td></tr>\n",
       "\t<tr><td>rs72689237 </td><td>ENSG00000000460.16</td><td>1</td><td>A</td><td>C </td></tr>\n",
       "\t<tr><td>rs1337743  </td><td>ENSG00000000460.16</td><td>1</td><td>T</td><td>C </td></tr>\n",
       "\t<tr><td>rs680531   </td><td>ENSG00000000460.16</td><td>1</td><td>A</td><td>G </td></tr>\n",
       "\t<tr><td>rs57300443 </td><td>ENSG00000000460.16</td><td>1</td><td>G</td><td>T </td></tr>\n",
       "\t<tr><td>rs12065936 </td><td>ENSG00000000460.16</td><td>1</td><td>A</td><td>G </td></tr>\n",
       "\t<tr><td>rs681445   </td><td>ENSG00000000460.16</td><td>1</td><td>A</td><td>G </td></tr>\n",
       "\t<tr><td>rs79914535 </td><td>ENSG00000000460.16</td><td>1</td><td>A</td><td>G </td></tr>\n",
       "\t<tr><td>rs143272885</td><td>ENSG00000000460.16</td><td>1</td><td>A</td><td>T </td></tr>\n",
       "\t<tr><td>rs682367   </td><td>ENSG00000000460.16</td><td>1</td><td>A</td><td>G </td></tr>\n",
       "\t<tr><td>rs60381802 </td><td>ENSG00000000460.16</td><td>1</td><td>A</td><td>G </td></tr>\n",
       "\t<tr><td>rs12070237 </td><td>ENSG00000000460.16</td><td>1</td><td>T</td><td>C </td></tr>\n",
       "\t<tr><td>rs34175821 </td><td>ENSG00000000460.16</td><td>1</td><td>G</td><td>GA</td></tr>\n",
       "\t<tr><td>rs12145325 </td><td>ENSG00000000460.16</td><td>1</td><td>C</td><td>T </td></tr>\n",
       "\t<tr><td>rs16861320 </td><td>ENSG00000000460.16</td><td>1</td><td>C</td><td>A </td></tr>\n",
       "\t<tr><td>rs58987681 </td><td>ENSG00000000460.16</td><td>1</td><td>A</td><td>G </td></tr>\n",
       "\t<tr><td>rs78760104 </td><td>ENSG00000000460.16</td><td>1</td><td>C</td><td>CT</td></tr>\n",
       "\t<tr><td>⋮</td><td>⋮</td><td>⋮</td><td>⋮</td><td>⋮</td></tr>\n",
       "\t<tr><td>rs12088249 </td><td>ENSG00000000460.16</td><td>1</td><td>C  </td><td>T</td></tr>\n",
       "\t<tr><td>rs7528348  </td><td>ENSG00000000460.16</td><td>1</td><td>T  </td><td>C</td></tr>\n",
       "\t<tr><td>rs74124806 </td><td>ENSG00000000460.16</td><td>1</td><td>T  </td><td>C</td></tr>\n",
       "\t<tr><td>rs10919473 </td><td>ENSG00000000460.16</td><td>1</td><td>A  </td><td>T</td></tr>\n",
       "\t<tr><td>rs34194302 </td><td>ENSG00000000460.16</td><td>1</td><td>CT </td><td>C</td></tr>\n",
       "\t<tr><td>rs6677593  </td><td>ENSG00000000460.16</td><td>1</td><td>A  </td><td>G</td></tr>\n",
       "\t<tr><td>rs763770   </td><td>ENSG00000000460.16</td><td>1</td><td>C  </td><td>T</td></tr>\n",
       "\t<tr><td>rs76401306 </td><td>ENSG00000000460.16</td><td>1</td><td>G  </td><td>T</td></tr>\n",
       "\t<tr><td>rs78590869 </td><td>ENSG00000000460.16</td><td>1</td><td>T  </td><td>G</td></tr>\n",
       "\t<tr><td>rs72708977 </td><td>ENSG00000000460.16</td><td>1</td><td>G  </td><td>C</td></tr>\n",
       "\t<tr><td>rs719414   </td><td>ENSG00000000460.16</td><td>1</td><td>G  </td><td>A</td></tr>\n",
       "\t<tr><td>rs76265074 </td><td>ENSG00000000460.16</td><td>1</td><td>G  </td><td>A</td></tr>\n",
       "\t<tr><td>rs7523880  </td><td>ENSG00000000460.16</td><td>1</td><td>T  </td><td>C</td></tr>\n",
       "\t<tr><td>rs143325743</td><td>ENSG00000000460.16</td><td>1</td><td>C  </td><td>T</td></tr>\n",
       "\t<tr><td>rs11580182 </td><td>ENSG00000000460.16</td><td>1</td><td>A  </td><td>C</td></tr>\n",
       "\t<tr><td>rs17552876 </td><td>ENSG00000000460.16</td><td>1</td><td>G  </td><td>C</td></tr>\n",
       "\t<tr><td>rs12046897 </td><td>ENSG00000000460.16</td><td>1</td><td>G  </td><td>A</td></tr>\n",
       "\t<tr><td>rs10919475 </td><td>ENSG00000000460.16</td><td>1</td><td>A  </td><td>G</td></tr>\n",
       "\t<tr><td>rs11589761 </td><td>ENSG00000000460.16</td><td>1</td><td>G  </td><td>A</td></tr>\n",
       "\t<tr><td>rs35379245 </td><td>ENSG00000000460.16</td><td>1</td><td>CAG</td><td>C</td></tr>\n",
       "\t<tr><td>rs10919476 </td><td>ENSG00000000460.16</td><td>1</td><td>T  </td><td>C</td></tr>\n",
       "\t<tr><td>rs61814088 </td><td>ENSG00000000460.16</td><td>1</td><td>A  </td><td>C</td></tr>\n",
       "\t<tr><td>rs4369278  </td><td>ENSG00000000460.16</td><td>1</td><td>G  </td><td>C</td></tr>\n",
       "\t<tr><td>rs10919487 </td><td>ENSG00000000460.16</td><td>1</td><td>G  </td><td>A</td></tr>\n",
       "\t<tr><td>rs112844686</td><td>ENSG00000000460.16</td><td>1</td><td>C  </td><td>T</td></tr>\n",
       "\t<tr><td>rs56325876 </td><td>ENSG00000000460.16</td><td>1</td><td>A  </td><td>G</td></tr>\n",
       "\t<tr><td>rs6657519  </td><td>ENSG00000000460.16</td><td>1</td><td>C  </td><td>T</td></tr>\n",
       "\t<tr><td>rs10800549 </td><td>ENSG00000000460.16</td><td>1</td><td>A  </td><td>T</td></tr>\n",
       "\t<tr><td>rs138335750</td><td>ENSG00000000460.16</td><td>1</td><td>A  </td><td>G</td></tr>\n",
       "\t<tr><td>rs10800550 </td><td>ENSG00000000460.16</td><td>1</td><td>A  </td><td>G</td></tr>\n",
       "</tbody>\n",
       "</table>\n"
      ],
      "text/latex": [
       "A data.frame: 1883 × 5\n",
       "\\begin{tabular}{lllll}\n",
       " rsid & gene & weight & ref\\_allele & eff\\_allele\\\\\n",
       " <fct> & <fct> & <int> & <fct> & <fct>\\\\\n",
       "\\hline\n",
       "\t rs11804833  & ENSG00000000460.16 & 1 & T & C \\\\\n",
       "\t rs58536824  & ENSG00000000460.16 & 1 & A & C \\\\\n",
       "\t rs75185274  & ENSG00000000460.16 & 1 & G & A \\\\\n",
       "\t rs35371130  & ENSG00000000460.16 & 1 & G & T \\\\\n",
       "\t rs17502733  & ENSG00000000460.16 & 1 & T & C \\\\\n",
       "\t rs147258969 & ENSG00000000460.16 & 1 & T & G \\\\\n",
       "\t rs17561899  & ENSG00000000460.16 & 1 & C & T \\\\\n",
       "\t rs71632375  & ENSG00000000460.16 & 1 & T & C \\\\\n",
       "\t rs56168358  & ENSG00000000460.16 & 1 & T & G \\\\\n",
       "\t rs61801570  & ENSG00000000460.16 & 1 & G & A \\\\\n",
       "\t rs150807051 & ENSG00000000460.16 & 1 & T & A \\\\\n",
       "\t rs12076274  & ENSG00000000460.16 & 1 & T & C \\\\\n",
       "\t rs35942875  & ENSG00000000460.16 & 1 & T & G \\\\\n",
       "\t rs16861313  & ENSG00000000460.16 & 1 & G & T \\\\\n",
       "\t rs72689237  & ENSG00000000460.16 & 1 & A & C \\\\\n",
       "\t rs1337743   & ENSG00000000460.16 & 1 & T & C \\\\\n",
       "\t rs680531    & ENSG00000000460.16 & 1 & A & G \\\\\n",
       "\t rs57300443  & ENSG00000000460.16 & 1 & G & T \\\\\n",
       "\t rs12065936  & ENSG00000000460.16 & 1 & A & G \\\\\n",
       "\t rs681445    & ENSG00000000460.16 & 1 & A & G \\\\\n",
       "\t rs79914535  & ENSG00000000460.16 & 1 & A & G \\\\\n",
       "\t rs143272885 & ENSG00000000460.16 & 1 & A & T \\\\\n",
       "\t rs682367    & ENSG00000000460.16 & 1 & A & G \\\\\n",
       "\t rs60381802  & ENSG00000000460.16 & 1 & A & G \\\\\n",
       "\t rs12070237  & ENSG00000000460.16 & 1 & T & C \\\\\n",
       "\t rs34175821  & ENSG00000000460.16 & 1 & G & GA\\\\\n",
       "\t rs12145325  & ENSG00000000460.16 & 1 & C & T \\\\\n",
       "\t rs16861320  & ENSG00000000460.16 & 1 & C & A \\\\\n",
       "\t rs58987681  & ENSG00000000460.16 & 1 & A & G \\\\\n",
       "\t rs78760104  & ENSG00000000460.16 & 1 & C & CT\\\\\n",
       "\t ⋮ & ⋮ & ⋮ & ⋮ & ⋮\\\\\n",
       "\t rs12088249  & ENSG00000000460.16 & 1 & C   & T\\\\\n",
       "\t rs7528348   & ENSG00000000460.16 & 1 & T   & C\\\\\n",
       "\t rs74124806  & ENSG00000000460.16 & 1 & T   & C\\\\\n",
       "\t rs10919473  & ENSG00000000460.16 & 1 & A   & T\\\\\n",
       "\t rs34194302  & ENSG00000000460.16 & 1 & CT  & C\\\\\n",
       "\t rs6677593   & ENSG00000000460.16 & 1 & A   & G\\\\\n",
       "\t rs763770    & ENSG00000000460.16 & 1 & C   & T\\\\\n",
       "\t rs76401306  & ENSG00000000460.16 & 1 & G   & T\\\\\n",
       "\t rs78590869  & ENSG00000000460.16 & 1 & T   & G\\\\\n",
       "\t rs72708977  & ENSG00000000460.16 & 1 & G   & C\\\\\n",
       "\t rs719414    & ENSG00000000460.16 & 1 & G   & A\\\\\n",
       "\t rs76265074  & ENSG00000000460.16 & 1 & G   & A\\\\\n",
       "\t rs7523880   & ENSG00000000460.16 & 1 & T   & C\\\\\n",
       "\t rs143325743 & ENSG00000000460.16 & 1 & C   & T\\\\\n",
       "\t rs11580182  & ENSG00000000460.16 & 1 & A   & C\\\\\n",
       "\t rs17552876  & ENSG00000000460.16 & 1 & G   & C\\\\\n",
       "\t rs12046897  & ENSG00000000460.16 & 1 & G   & A\\\\\n",
       "\t rs10919475  & ENSG00000000460.16 & 1 & A   & G\\\\\n",
       "\t rs11589761  & ENSG00000000460.16 & 1 & G   & A\\\\\n",
       "\t rs35379245  & ENSG00000000460.16 & 1 & CAG & C\\\\\n",
       "\t rs10919476  & ENSG00000000460.16 & 1 & T   & C\\\\\n",
       "\t rs61814088  & ENSG00000000460.16 & 1 & A   & C\\\\\n",
       "\t rs4369278   & ENSG00000000460.16 & 1 & G   & C\\\\\n",
       "\t rs10919487  & ENSG00000000460.16 & 1 & G   & A\\\\\n",
       "\t rs112844686 & ENSG00000000460.16 & 1 & C   & T\\\\\n",
       "\t rs56325876  & ENSG00000000460.16 & 1 & A   & G\\\\\n",
       "\t rs6657519   & ENSG00000000460.16 & 1 & C   & T\\\\\n",
       "\t rs10800549  & ENSG00000000460.16 & 1 & A   & T\\\\\n",
       "\t rs138335750 & ENSG00000000460.16 & 1 & A   & G\\\\\n",
       "\t rs10800550  & ENSG00000000460.16 & 1 & A   & G\\\\\n",
       "\\end{tabular}\n"
      ],
      "text/markdown": [
       "\n",
       "A data.frame: 1883 × 5\n",
       "\n",
       "| rsid &lt;fct&gt; | gene &lt;fct&gt; | weight &lt;int&gt; | ref_allele &lt;fct&gt; | eff_allele &lt;fct&gt; |\n",
       "|---|---|---|---|---|\n",
       "| rs11804833  | ENSG00000000460.16 | 1 | T | C  |\n",
       "| rs58536824  | ENSG00000000460.16 | 1 | A | C  |\n",
       "| rs75185274  | ENSG00000000460.16 | 1 | G | A  |\n",
       "| rs35371130  | ENSG00000000460.16 | 1 | G | T  |\n",
       "| rs17502733  | ENSG00000000460.16 | 1 | T | C  |\n",
       "| rs147258969 | ENSG00000000460.16 | 1 | T | G  |\n",
       "| rs17561899  | ENSG00000000460.16 | 1 | C | T  |\n",
       "| rs71632375  | ENSG00000000460.16 | 1 | T | C  |\n",
       "| rs56168358  | ENSG00000000460.16 | 1 | T | G  |\n",
       "| rs61801570  | ENSG00000000460.16 | 1 | G | A  |\n",
       "| rs150807051 | ENSG00000000460.16 | 1 | T | A  |\n",
       "| rs12076274  | ENSG00000000460.16 | 1 | T | C  |\n",
       "| rs35942875  | ENSG00000000460.16 | 1 | T | G  |\n",
       "| rs16861313  | ENSG00000000460.16 | 1 | G | T  |\n",
       "| rs72689237  | ENSG00000000460.16 | 1 | A | C  |\n",
       "| rs1337743   | ENSG00000000460.16 | 1 | T | C  |\n",
       "| rs680531    | ENSG00000000460.16 | 1 | A | G  |\n",
       "| rs57300443  | ENSG00000000460.16 | 1 | G | T  |\n",
       "| rs12065936  | ENSG00000000460.16 | 1 | A | G  |\n",
       "| rs681445    | ENSG00000000460.16 | 1 | A | G  |\n",
       "| rs79914535  | ENSG00000000460.16 | 1 | A | G  |\n",
       "| rs143272885 | ENSG00000000460.16 | 1 | A | T  |\n",
       "| rs682367    | ENSG00000000460.16 | 1 | A | G  |\n",
       "| rs60381802  | ENSG00000000460.16 | 1 | A | G  |\n",
       "| rs12070237  | ENSG00000000460.16 | 1 | T | C  |\n",
       "| rs34175821  | ENSG00000000460.16 | 1 | G | GA |\n",
       "| rs12145325  | ENSG00000000460.16 | 1 | C | T  |\n",
       "| rs16861320  | ENSG00000000460.16 | 1 | C | A  |\n",
       "| rs58987681  | ENSG00000000460.16 | 1 | A | G  |\n",
       "| rs78760104  | ENSG00000000460.16 | 1 | C | CT |\n",
       "| ⋮ | ⋮ | ⋮ | ⋮ | ⋮ |\n",
       "| rs12088249  | ENSG00000000460.16 | 1 | C   | T |\n",
       "| rs7528348   | ENSG00000000460.16 | 1 | T   | C |\n",
       "| rs74124806  | ENSG00000000460.16 | 1 | T   | C |\n",
       "| rs10919473  | ENSG00000000460.16 | 1 | A   | T |\n",
       "| rs34194302  | ENSG00000000460.16 | 1 | CT  | C |\n",
       "| rs6677593   | ENSG00000000460.16 | 1 | A   | G |\n",
       "| rs763770    | ENSG00000000460.16 | 1 | C   | T |\n",
       "| rs76401306  | ENSG00000000460.16 | 1 | G   | T |\n",
       "| rs78590869  | ENSG00000000460.16 | 1 | T   | G |\n",
       "| rs72708977  | ENSG00000000460.16 | 1 | G   | C |\n",
       "| rs719414    | ENSG00000000460.16 | 1 | G   | A |\n",
       "| rs76265074  | ENSG00000000460.16 | 1 | G   | A |\n",
       "| rs7523880   | ENSG00000000460.16 | 1 | T   | C |\n",
       "| rs143325743 | ENSG00000000460.16 | 1 | C   | T |\n",
       "| rs11580182  | ENSG00000000460.16 | 1 | A   | C |\n",
       "| rs17552876  | ENSG00000000460.16 | 1 | G   | C |\n",
       "| rs12046897  | ENSG00000000460.16 | 1 | G   | A |\n",
       "| rs10919475  | ENSG00000000460.16 | 1 | A   | G |\n",
       "| rs11589761  | ENSG00000000460.16 | 1 | G   | A |\n",
       "| rs35379245  | ENSG00000000460.16 | 1 | CAG | C |\n",
       "| rs10919476  | ENSG00000000460.16 | 1 | T   | C |\n",
       "| rs61814088  | ENSG00000000460.16 | 1 | A   | C |\n",
       "| rs4369278   | ENSG00000000460.16 | 1 | G   | C |\n",
       "| rs10919487  | ENSG00000000460.16 | 1 | G   | A |\n",
       "| rs112844686 | ENSG00000000460.16 | 1 | C   | T |\n",
       "| rs56325876  | ENSG00000000460.16 | 1 | A   | G |\n",
       "| rs6657519   | ENSG00000000460.16 | 1 | C   | T |\n",
       "| rs10800549  | ENSG00000000460.16 | 1 | A   | T |\n",
       "| rs138335750 | ENSG00000000460.16 | 1 | A   | G |\n",
       "| rs10800550  | ENSG00000000460.16 | 1 | A   | G |\n",
       "\n"
      ],
      "text/plain": [
       "     rsid        gene               weight ref_allele eff_allele\n",
       "1    rs11804833  ENSG00000000460.16 1      T          C         \n",
       "2    rs58536824  ENSG00000000460.16 1      A          C         \n",
       "3    rs75185274  ENSG00000000460.16 1      G          A         \n",
       "4    rs35371130  ENSG00000000460.16 1      G          T         \n",
       "5    rs17502733  ENSG00000000460.16 1      T          C         \n",
       "6    rs147258969 ENSG00000000460.16 1      T          G         \n",
       "7    rs17561899  ENSG00000000460.16 1      C          T         \n",
       "8    rs71632375  ENSG00000000460.16 1      T          C         \n",
       "9    rs56168358  ENSG00000000460.16 1      T          G         \n",
       "10   rs61801570  ENSG00000000460.16 1      G          A         \n",
       "11   rs150807051 ENSG00000000460.16 1      T          A         \n",
       "12   rs12076274  ENSG00000000460.16 1      T          C         \n",
       "13   rs35942875  ENSG00000000460.16 1      T          G         \n",
       "14   rs16861313  ENSG00000000460.16 1      G          T         \n",
       "15   rs72689237  ENSG00000000460.16 1      A          C         \n",
       "16   rs1337743   ENSG00000000460.16 1      T          C         \n",
       "17   rs680531    ENSG00000000460.16 1      A          G         \n",
       "18   rs57300443  ENSG00000000460.16 1      G          T         \n",
       "19   rs12065936  ENSG00000000460.16 1      A          G         \n",
       "20   rs681445    ENSG00000000460.16 1      A          G         \n",
       "21   rs79914535  ENSG00000000460.16 1      A          G         \n",
       "22   rs143272885 ENSG00000000460.16 1      A          T         \n",
       "23   rs682367    ENSG00000000460.16 1      A          G         \n",
       "24   rs60381802  ENSG00000000460.16 1      A          G         \n",
       "25   rs12070237  ENSG00000000460.16 1      T          C         \n",
       "26   rs34175821  ENSG00000000460.16 1      G          GA        \n",
       "27   rs12145325  ENSG00000000460.16 1      C          T         \n",
       "28   rs16861320  ENSG00000000460.16 1      C          A         \n",
       "29   rs58987681  ENSG00000000460.16 1      A          G         \n",
       "30   rs78760104  ENSG00000000460.16 1      C          CT        \n",
       "⋮    ⋮           ⋮                  ⋮      ⋮          ⋮         \n",
       "1854 rs12088249  ENSG00000000460.16 1      C          T         \n",
       "1855 rs7528348   ENSG00000000460.16 1      T          C         \n",
       "1856 rs74124806  ENSG00000000460.16 1      T          C         \n",
       "1857 rs10919473  ENSG00000000460.16 1      A          T         \n",
       "1858 rs34194302  ENSG00000000460.16 1      CT         C         \n",
       "1859 rs6677593   ENSG00000000460.16 1      A          G         \n",
       "1860 rs763770    ENSG00000000460.16 1      C          T         \n",
       "1861 rs76401306  ENSG00000000460.16 1      G          T         \n",
       "1862 rs78590869  ENSG00000000460.16 1      T          G         \n",
       "1863 rs72708977  ENSG00000000460.16 1      G          C         \n",
       "1864 rs719414    ENSG00000000460.16 1      G          A         \n",
       "1865 rs76265074  ENSG00000000460.16 1      G          A         \n",
       "1866 rs7523880   ENSG00000000460.16 1      T          C         \n",
       "1867 rs143325743 ENSG00000000460.16 1      C          T         \n",
       "1868 rs11580182  ENSG00000000460.16 1      A          C         \n",
       "1869 rs17552876  ENSG00000000460.16 1      G          C         \n",
       "1870 rs12046897  ENSG00000000460.16 1      G          A         \n",
       "1871 rs10919475  ENSG00000000460.16 1      A          G         \n",
       "1872 rs11589761  ENSG00000000460.16 1      G          A         \n",
       "1873 rs35379245  ENSG00000000460.16 1      CAG        C         \n",
       "1874 rs10919476  ENSG00000000460.16 1      T          C         \n",
       "1875 rs61814088  ENSG00000000460.16 1      A          C         \n",
       "1876 rs4369278   ENSG00000000460.16 1      G          C         \n",
       "1877 rs10919487  ENSG00000000460.16 1      G          A         \n",
       "1878 rs112844686 ENSG00000000460.16 1      C          T         \n",
       "1879 rs56325876  ENSG00000000460.16 1      A          G         \n",
       "1880 rs6657519   ENSG00000000460.16 1      C          T         \n",
       "1881 rs10800549  ENSG00000000460.16 1      A          T         \n",
       "1882 rs138335750 ENSG00000000460.16 1      A          G         \n",
       "1883 rs10800550  ENSG00000000460.16 1      A          G         "
      ]
     },
     "metadata": {},
     "output_type": "display_data"
    }
   ],
   "source": [
    "data.frame(rsid = joint_df$rs_id_dbSNP151_GRCh38p7,\n",
    "                                                 gene = gene,\n",
    "                                                 weight = joint_df[, tissue_idx],\n",
    "                                                 ref_allele = joint_df$ref.x,\n",
    "                                                 eff_allele = joint_df$alt.x\n",
    "                                     )"
   ]
  },
  {
   "cell_type": "code",
   "execution_count": null,
   "metadata": {},
   "outputs": [
    {
     "data": {
      "text/html": [
       "INFO: gene 20"
      ]
     },
     "metadata": {},
     "output_type": "display_data"
    },
    {
     "data": {
      "text/html": [
       "INFO: gene 40"
      ]
     },
     "metadata": {},
     "output_type": "display_data"
    },
    {
     "data": {
      "text/html": [
       "INFO: gene 60"
      ]
     },
     "metadata": {},
     "output_type": "display_data"
    },
    {
     "data": {
      "text/html": [
       "INFO: gene 80"
      ]
     },
     "metadata": {},
     "output_type": "display_data"
    },
    {
     "data": {
      "text/html": [
       "INFO: gene 100"
      ]
     },
     "metadata": {},
     "output_type": "display_data"
    },
    {
     "data": {
      "text/html": [
       "INFO: gene 120"
      ]
     },
     "metadata": {},
     "output_type": "display_data"
    },
    {
     "data": {
      "text/html": [
       "INFO: gene 140"
      ]
     },
     "metadata": {},
     "output_type": "display_data"
    },
    {
     "data": {
      "text/html": [
       "INFO: gene 160"
      ]
     },
     "metadata": {},
     "output_type": "display_data"
    },
    {
     "data": {
      "text/html": [
       "INFO: gene 180"
      ]
     },
     "metadata": {},
     "output_type": "display_data"
    },
    {
     "data": {
      "text/html": [
       "INFO: gene 200"
      ]
     },
     "metadata": {},
     "output_type": "display_data"
    }
   ],
   "source": [
    "library(data.table)\n",
    "library(dplyr)\n",
    "\n",
    "chr = 1\n",
    "ref_df = as.data.frame(fread(paste0(\"/ysm-gpfs/pi/zhao-data/zy92/GTEx_V8/chr\", chr, \"_snp.txt\")))\n",
    "\n",
    "est_file_list = list.files(paste0(\"/gpfs/project/zhao/zy92/GTEX/output/chr\", chr))\n",
    "output_dir = paste0(\"/gpfs/project/zhao/zy92/GTEX/weight/chr\", chr)\n",
    "if (!dir.exists(output_dir)) {\n",
    "    dir.create(output_dir)\n",
    "}\n",
    "   \n",
    "weight_list = list()\n",
    "weight_snps = list()\n",
    "gene_vec = c()\n",
    "\n",
    "for (i in 1:length(est_file_list)) {\n",
    "    # read est\n",
    "    if (i %% 20 == 0) {\n",
    "        IRdisplay::display_html(paste0(\"INFO: gene \", i))\n",
    "    }\n",
    "    gene = est_file_list[i]\n",
    "    est_dir = paste0(\"/gpfs/project/zhao/zy92/GTEX/output/chr\", chr, \"/\", est_file_list[i])\n",
    "    est_file = list.files(est_dir, pattern = \"*.est\")\n",
    "    if (length(est_file) > 0) {   \n",
    "        est_file = paste0(est_dir, \"/\", est_file)\n",
    "        est_df = as.data.frame(fread(est_file))\n",
    "        joint_df = est_df %>%\n",
    "            inner_join(ref_df, by = c(\"id\" = \"variant_id\"))\n",
    "        tissue_vec = colnames(est_df)[7:ncol(est_df)]\n",
    "        tissue_vec = as.character(sapply(tissue_vec, function(x) unlist(strsplit(x, \"\\\\.\"))[1]))\n",
    "                                  \n",
    "        # write est \n",
    "\n",
    "        for (tissue_idx in 1:length(tissue_vec)) {\n",
    "            tissue = tissue_vec[tissue_idx]\n",
    "            #IRdisplay::display_html(tissue)\n",
    "            # weight table\n",
    "            if (!tissue %in% names(weight_list)) {\n",
    "                weight_list[[tissue]] = data.frame(rsid = joint_df$rs_id_dbSNP151_GRCh38p7,\n",
    "                                                 gene = gene,\n",
    "                                                 weight = joint_df[, tissue_idx + 6],\n",
    "                                                 ref_allele = joint_df$ref.x,\n",
    "                                                 eff_allele = joint_df$alt.x\n",
    "                                                )\n",
    "                \n",
    "            } else {\n",
    "                tmp_df  = data.frame(rsid = joint_df$rs_id_dbSNP151_GRCh38p7,\n",
    "                                                 gene = gene,\n",
    "                                                 weight = joint_df[, tissue_idx + 6],\n",
    "                                                 ref_allele = joint_df$ref.x,\n",
    "                                                 eff_allele = joint_df$alt.x\n",
    "                                     )\n",
    "                weight_list[[tissue]] = rbind(weight_list[[tissue]], tmp_df)\n",
    "            }\n",
    "            \n",
    "            # extra table\n",
    "            if (!tissue %in% names(weight_snps)) {\n",
    "                weight_snps[[tissue]] = data.frame(gene = gene,\n",
    "                                                 genename = gene,\n",
    "                                                 pred.perf.R2 = 0.5,\n",
    "                                                 n.snps.in.model = nrow(joint_df),\n",
    "                                                 pred.perf.pval = 1e-10,\n",
    "                                                 pred.perf.qval = 1e-10\n",
    "                                                )\n",
    "                \n",
    "            } else {\n",
    "                tmp_df  = data.frame(gene = gene,\n",
    "                                                 genename = gene,\n",
    "                                                 pred.perf.R2 = 0.5,\n",
    "                                                 n.snps.in.model = nrow(joint_df),\n",
    "                                                 pred.perf.pval = 1e-10,\n",
    "                                                 pred.perf.qval = 1e-10\n",
    "                                                )\n",
    "                                     \n",
    "                weight_snps[[tissue]] = rbind(weight_snps[[tissue]], tmp_df)\n",
    "            }\n",
    "            \n",
    "        }\n",
    "        \n",
    "    }\n",
    "                   \n",
    "                   \n",
    "}\n",
    "\n",
    "\n",
    "for (tissue in names(weight_list)) {\n",
    "    weight_file = paste0(output_dir, \"/\", tissue, \".weight.txt\")\n",
    "    extra_file = paste0(output_dir, \"/\", tissue, \".extra.txt\")\n",
    "    write.table(weight_list[[tissue]], file = weight_file, quote = F, row.names = F)\n",
    "    write.table(weight_list[[tissue]], file = extra_file, quote = F, row.names = F)\n",
    "\n",
    "\n",
    "}\n"
   ]
  },
  {
   "cell_type": "code",
   "execution_count": 3,
   "metadata": {},
   "outputs": [],
   "source": [
    "est_file = list.files(\"/gpfs/project/zhao/zy92/GTEX/output/chr1/ENSG00000065243.19/\")"
   ]
  },
  {
   "cell_type": "code",
   "execution_count": 5,
   "metadata": {},
   "outputs": [
    {
     "data": {
      "text/html": [
       "0"
      ],
      "text/latex": [
       "0"
      ],
      "text/markdown": [
       "0"
      ],
      "text/plain": [
       "[1] 0"
      ]
     },
     "metadata": {},
     "output_type": "display_data"
    }
   ],
   "source": [
    "length(est_file)"
   ]
  },
  {
   "cell_type": "code",
   "execution_count": 5,
   "metadata": {},
   "outputs": [],
   "source": [
    "library(data.table)\n",
    "library(dplyr)\n",
    "\n",
    "chr = 1\n",
    "ref_df = fread(paste0(\"/ysm-gpfs/pi/zhao-data/zy92/GTEx_V8/chr\", chr, \"_snp.txt\"))\n",
    "est_file_list = list.files(paste0(\"/gpfs/project/zhao/zy92/GTEX/output/chr\", chr))\n",
    "output_dir = paste0(\"/gpfs/project/zhao/zy92/GTEX/weight/chr\", chr)\n",
    "\n",
    "if (!dir.exists(output_dir)) {\n",
    "    dir.create(output_dir)\n",
    "}\n",
    "   \n",
    "weight_list = list()\n",
    "weight_snps = list()\n",
    "gene_vec = c()\n",
    "\n",
    "i = 1\n",
    "gene = est_file_list[i]\n",
    "est_dir = paste0(\"/gpfs/project/zhao/zy92/GTEX/output/chr\", chr, \"/\", est_file_list[i])\n",
    "est_file = list.files(est_dir, pattern = \"*.est\")\n",
    "est_file = paste0(est_dir, \"/\", est_file)"
   ]
  },
  {
   "cell_type": "code",
   "execution_count": 18,
   "metadata": {},
   "outputs": [],
   "source": [
    "tmp_df  = data.frame(rsid = joint_df$rs_id_dbSNP151_GRCh38p7,\n",
    "                                                 gene = gene,\n",
    "                                                 weight = joint_df[, tissue_idx + 6],\n",
    "                                                 ref_allele = joint_df$ref.x,\n",
    "                                                 eff_allele = joint_df$alt.x\n",
    "                                     )"
   ]
  },
  {
   "cell_type": "code",
   "execution_count": 19,
   "metadata": {},
   "outputs": [
    {
     "data": {
      "text/html": [
       "<table>\n",
       "<caption>A data.frame: 6 × 5</caption>\n",
       "<thead>\n",
       "\t<tr><th></th><th scope=col>rsid</th><th scope=col>gene</th><th scope=col>weight</th><th scope=col>ref_allele</th><th scope=col>eff_allele</th></tr>\n",
       "\t<tr><th></th><th scope=col>&lt;fct&gt;</th><th scope=col>&lt;fct&gt;</th><th scope=col>&lt;dbl&gt;</th><th scope=col>&lt;fct&gt;</th><th scope=col>&lt;fct&gt;</th></tr>\n",
       "</thead>\n",
       "<tbody>\n",
       "\t<tr><th scope=row>1</th><td>rs11804833 </td><td>ENSG00000000460.16</td><td>0</td><td>T</td><td>C</td></tr>\n",
       "\t<tr><th scope=row>2</th><td>rs58536824 </td><td>ENSG00000000460.16</td><td>0</td><td>A</td><td>C</td></tr>\n",
       "\t<tr><th scope=row>3</th><td>rs75185274 </td><td>ENSG00000000460.16</td><td>0</td><td>G</td><td>A</td></tr>\n",
       "\t<tr><th scope=row>4</th><td>rs35371130 </td><td>ENSG00000000460.16</td><td>0</td><td>G</td><td>T</td></tr>\n",
       "\t<tr><th scope=row>5</th><td>rs17502733 </td><td>ENSG00000000460.16</td><td>0</td><td>T</td><td>C</td></tr>\n",
       "\t<tr><th scope=row>6</th><td>rs147258969</td><td>ENSG00000000460.16</td><td>0</td><td>T</td><td>G</td></tr>\n",
       "</tbody>\n",
       "</table>\n"
      ],
      "text/latex": [
       "A data.frame: 6 × 5\n",
       "\\begin{tabular}{r|lllll}\n",
       "  & rsid & gene & weight & ref\\_allele & eff\\_allele\\\\\n",
       "  & <fct> & <fct> & <dbl> & <fct> & <fct>\\\\\n",
       "\\hline\n",
       "\t1 & rs11804833  & ENSG00000000460.16 & 0 & T & C\\\\\n",
       "\t2 & rs58536824  & ENSG00000000460.16 & 0 & A & C\\\\\n",
       "\t3 & rs75185274  & ENSG00000000460.16 & 0 & G & A\\\\\n",
       "\t4 & rs35371130  & ENSG00000000460.16 & 0 & G & T\\\\\n",
       "\t5 & rs17502733  & ENSG00000000460.16 & 0 & T & C\\\\\n",
       "\t6 & rs147258969 & ENSG00000000460.16 & 0 & T & G\\\\\n",
       "\\end{tabular}\n"
      ],
      "text/markdown": [
       "\n",
       "A data.frame: 6 × 5\n",
       "\n",
       "| <!--/--> | rsid &lt;fct&gt; | gene &lt;fct&gt; | weight &lt;dbl&gt; | ref_allele &lt;fct&gt; | eff_allele &lt;fct&gt; |\n",
       "|---|---|---|---|---|---|\n",
       "| 1 | rs11804833  | ENSG00000000460.16 | 0 | T | C |\n",
       "| 2 | rs58536824  | ENSG00000000460.16 | 0 | A | C |\n",
       "| 3 | rs75185274  | ENSG00000000460.16 | 0 | G | A |\n",
       "| 4 | rs35371130  | ENSG00000000460.16 | 0 | G | T |\n",
       "| 5 | rs17502733  | ENSG00000000460.16 | 0 | T | C |\n",
       "| 6 | rs147258969 | ENSG00000000460.16 | 0 | T | G |\n",
       "\n"
      ],
      "text/plain": [
       "  rsid        gene               weight ref_allele eff_allele\n",
       "1 rs11804833  ENSG00000000460.16 0      T          C         \n",
       "2 rs58536824  ENSG00000000460.16 0      A          C         \n",
       "3 rs75185274  ENSG00000000460.16 0      G          A         \n",
       "4 rs35371130  ENSG00000000460.16 0      G          T         \n",
       "5 rs17502733  ENSG00000000460.16 0      T          C         \n",
       "6 rs147258969 ENSG00000000460.16 0      T          G         "
      ]
     },
     "metadata": {},
     "output_type": "display_data"
    }
   ],
   "source": [
    "head(tmp_df)"
   ]
  },
  {
   "cell_type": "code",
   "execution_count": 3,
   "metadata": {},
   "outputs": [
    {
     "ename": "ERROR",
     "evalue": "Error in fread(est_file): File '/gpfs/project/zhao/zy92/GTEX/output/chr1/ENSG00000000457.13/V1.*.est' does not exist or is non-readable. getwd()=='/gpfs/loomis/project/zhao/zy92/utmost_update/utmost_update/code/R'\n",
     "output_type": "error",
     "traceback": [
      "Error in fread(est_file): File '/gpfs/project/zhao/zy92/GTEX/output/chr1/ENSG00000000457.13/V1.*.est' does not exist or is non-readable. getwd()=='/gpfs/loomis/project/zhao/zy92/utmost_update/utmost_update/code/R'\nTraceback:\n",
      "1. fread(est_file)",
      "2. stop(\"File '\", file, \"' does not exist or is non-readable. getwd()=='\", \n .     getwd(), \"'\")"
     ]
    }
   ],
   "source": [
    "df <- fread(est_file)"
   ]
  },
  {
   "cell_type": "code",
   "execution_count": 38,
   "metadata": {},
   "outputs": [
    {
     "data": {
      "text/plain": [
       "NULL"
      ]
     },
     "metadata": {},
     "output_type": "display_data"
    }
   ],
   "source": [
    "weight_list = list()\n",
    "names(weight_list)\n",
    "weight_list[\"oh\"] = 1"
   ]
  },
  {
   "cell_type": "code",
   "execution_count": 39,
   "metadata": {},
   "outputs": [
    {
     "data": {
      "text/html": [
       "'oh'"
      ],
      "text/latex": [
       "'oh'"
      ],
      "text/markdown": [
       "'oh'"
      ],
      "text/plain": [
       "[1] \"oh\""
      ]
     },
     "metadata": {},
     "output_type": "display_data"
    }
   ],
   "source": [
    "names(weight_list)"
   ]
  },
  {
   "cell_type": "code",
   "execution_count": null,
   "metadata": {},
   "outputs": [],
   "source": [
    "rsid gene weight ref_allele eff_allele\n",
    "rs865779 ABCA4 0.000237330916523 G A\n",
    "rs1245477 ABCA4 -0.000155827586825 T C\n",
    "rs34670167 ABCA4 2.90856231884e-05 G T\n",
    "rs6665058 ABCA4 4.19266932445e-05 C T\n",
    "rs2933916 ABCA4 -4.49095749229e-05 C A\n",
    "rs2802101 ABCA4 -0.000482822533933 G A"
   ]
  },
  {
   "cell_type": "code",
   "execution_count": null,
   "metadata": {},
   "outputs": [],
   "source": [
    "# Liver.extra.txt\n",
    "gene genename pred.perf.R2 n.snps.in.model pred.perf.pval pred.perf.qval\n",
    "ABCA4 ABCA4 0.5 8 1e-10 1e-10\n",
    "ABCB10 ABCB10 0.5 27 1e-10 1e-10\n",
    "ABCD3 ABCD3 0.5 28 1e-10 1e-10\n",
    "ABL2 ABL2 0.5 21 1e-10 1e-10\n",
    "ACADM ACADM 0.5 54 1e-10 1e-10"
   ]
  },
  {
   "cell_type": "code",
   "execution_count": 35,
   "metadata": {},
   "outputs": [
    {
     "data": {
      "text/html": [
       "<style>\n",
       ".list-inline {list-style: none; margin:0; padding: 0}\n",
       ".list-inline>li {display: inline-block}\n",
       ".list-inline>li:not(:last-child)::after {content: \"\\00b7\"; padding: 0 .5ex}\n",
       "</style>\n",
       "<ol class=list-inline><li>'Adipose_Subcutaneous'</li><li>'Adipose_Visceral_Omentum'</li><li>'Adrenal_Gland'</li><li>'Artery_Aorta'</li><li>'Artery_Coronary'</li><li>'Artery_Tibial'</li><li>'Brain_Anterior_cingulate_cortex_BA24'</li><li>'Brain_Caudate_basal_ganglia'</li><li>'Brain_Cortex'</li><li>'Brain_Hippocampus'</li><li>'Brain_Hypothalamus'</li><li>'Brain_Nucleus_accumbens_basal_ganglia'</li><li>'Brain_Putamen_basal_ganglia'</li><li>'Breast_Mammary_Tissue'</li><li>'Cells_EBV-transformed_lymphocytes'</li><li>'Colon_Sigmoid'</li><li>'Esophagus_Gastroesophageal_Junction'</li><li>'Esophagus_Mucosa'</li><li>'Esophagus_Muscularis'</li><li>'Heart_Atrial_Appendage'</li><li>'Heart_Left_Ventricle'</li><li>'Kidney_Cortex'</li><li>'Lung'</li><li>'Muscle_Skeletal'</li><li>'Ovary'</li><li>'Pituitary'</li><li>'Prostate'</li><li>'Skin_Not_Sun_Exposed_Suprapubic'</li><li>'Skin_Sun_Exposed_Lower_leg'</li><li>'Spleen'</li><li>'Stomach'</li><li>'Testis'</li><li>'Thyroid'</li></ol>\n"
      ],
      "text/latex": [
       "\\begin{enumerate*}\n",
       "\\item 'Adipose\\_Subcutaneous'\n",
       "\\item 'Adipose\\_Visceral\\_Omentum'\n",
       "\\item 'Adrenal\\_Gland'\n",
       "\\item 'Artery\\_Aorta'\n",
       "\\item 'Artery\\_Coronary'\n",
       "\\item 'Artery\\_Tibial'\n",
       "\\item 'Brain\\_Anterior\\_cingulate\\_cortex\\_BA24'\n",
       "\\item 'Brain\\_Caudate\\_basal\\_ganglia'\n",
       "\\item 'Brain\\_Cortex'\n",
       "\\item 'Brain\\_Hippocampus'\n",
       "\\item 'Brain\\_Hypothalamus'\n",
       "\\item 'Brain\\_Nucleus\\_accumbens\\_basal\\_ganglia'\n",
       "\\item 'Brain\\_Putamen\\_basal\\_ganglia'\n",
       "\\item 'Breast\\_Mammary\\_Tissue'\n",
       "\\item 'Cells\\_EBV-transformed\\_lymphocytes'\n",
       "\\item 'Colon\\_Sigmoid'\n",
       "\\item 'Esophagus\\_Gastroesophageal\\_Junction'\n",
       "\\item 'Esophagus\\_Mucosa'\n",
       "\\item 'Esophagus\\_Muscularis'\n",
       "\\item 'Heart\\_Atrial\\_Appendage'\n",
       "\\item 'Heart\\_Left\\_Ventricle'\n",
       "\\item 'Kidney\\_Cortex'\n",
       "\\item 'Lung'\n",
       "\\item 'Muscle\\_Skeletal'\n",
       "\\item 'Ovary'\n",
       "\\item 'Pituitary'\n",
       "\\item 'Prostate'\n",
       "\\item 'Skin\\_Not\\_Sun\\_Exposed\\_Suprapubic'\n",
       "\\item 'Skin\\_Sun\\_Exposed\\_Lower\\_leg'\n",
       "\\item 'Spleen'\n",
       "\\item 'Stomach'\n",
       "\\item 'Testis'\n",
       "\\item 'Thyroid'\n",
       "\\end{enumerate*}\n"
      ],
      "text/markdown": [
       "1. 'Adipose_Subcutaneous'\n",
       "2. 'Adipose_Visceral_Omentum'\n",
       "3. 'Adrenal_Gland'\n",
       "4. 'Artery_Aorta'\n",
       "5. 'Artery_Coronary'\n",
       "6. 'Artery_Tibial'\n",
       "7. 'Brain_Anterior_cingulate_cortex_BA24'\n",
       "8. 'Brain_Caudate_basal_ganglia'\n",
       "9. 'Brain_Cortex'\n",
       "10. 'Brain_Hippocampus'\n",
       "11. 'Brain_Hypothalamus'\n",
       "12. 'Brain_Nucleus_accumbens_basal_ganglia'\n",
       "13. 'Brain_Putamen_basal_ganglia'\n",
       "14. 'Breast_Mammary_Tissue'\n",
       "15. 'Cells_EBV-transformed_lymphocytes'\n",
       "16. 'Colon_Sigmoid'\n",
       "17. 'Esophagus_Gastroesophageal_Junction'\n",
       "18. 'Esophagus_Mucosa'\n",
       "19. 'Esophagus_Muscularis'\n",
       "20. 'Heart_Atrial_Appendage'\n",
       "21. 'Heart_Left_Ventricle'\n",
       "22. 'Kidney_Cortex'\n",
       "23. 'Lung'\n",
       "24. 'Muscle_Skeletal'\n",
       "25. 'Ovary'\n",
       "26. 'Pituitary'\n",
       "27. 'Prostate'\n",
       "28. 'Skin_Not_Sun_Exposed_Suprapubic'\n",
       "29. 'Skin_Sun_Exposed_Lower_leg'\n",
       "30. 'Spleen'\n",
       "31. 'Stomach'\n",
       "32. 'Testis'\n",
       "33. 'Thyroid'\n",
       "\n",
       "\n"
      ],
      "text/plain": [
       " [1] \"Adipose_Subcutaneous\"                 \n",
       " [2] \"Adipose_Visceral_Omentum\"             \n",
       " [3] \"Adrenal_Gland\"                        \n",
       " [4] \"Artery_Aorta\"                         \n",
       " [5] \"Artery_Coronary\"                      \n",
       " [6] \"Artery_Tibial\"                        \n",
       " [7] \"Brain_Anterior_cingulate_cortex_BA24\" \n",
       " [8] \"Brain_Caudate_basal_ganglia\"          \n",
       " [9] \"Brain_Cortex\"                         \n",
       "[10] \"Brain_Hippocampus\"                    \n",
       "[11] \"Brain_Hypothalamus\"                   \n",
       "[12] \"Brain_Nucleus_accumbens_basal_ganglia\"\n",
       "[13] \"Brain_Putamen_basal_ganglia\"          \n",
       "[14] \"Breast_Mammary_Tissue\"                \n",
       "[15] \"Cells_EBV-transformed_lymphocytes\"    \n",
       "[16] \"Colon_Sigmoid\"                        \n",
       "[17] \"Esophagus_Gastroesophageal_Junction\"  \n",
       "[18] \"Esophagus_Mucosa\"                     \n",
       "[19] \"Esophagus_Muscularis\"                 \n",
       "[20] \"Heart_Atrial_Appendage\"               \n",
       "[21] \"Heart_Left_Ventricle\"                 \n",
       "[22] \"Kidney_Cortex\"                        \n",
       "[23] \"Lung\"                                 \n",
       "[24] \"Muscle_Skeletal\"                      \n",
       "[25] \"Ovary\"                                \n",
       "[26] \"Pituitary\"                            \n",
       "[27] \"Prostate\"                             \n",
       "[28] \"Skin_Not_Sun_Exposed_Suprapubic\"      \n",
       "[29] \"Skin_Sun_Exposed_Lower_leg\"           \n",
       "[30] \"Spleen\"                               \n",
       "[31] \"Stomach\"                              \n",
       "[32] \"Testis\"                               \n",
       "[33] \"Thyroid\"                              "
      ]
     },
     "metadata": {},
     "output_type": "display_data"
    }
   ],
   "source": [
    "tissue_vec = colnames(est_df)[7:ncol(est_df)]\n",
    "tissue_vec = as.character(sapply(tissue_vec, function(x) unlist(strsplit(x, \"\\\\.\"))[1]))"
   ]
  }
 ],
 "metadata": {
  "kernelspec": {
   "display_name": "R",
   "language": "R",
   "name": "ir"
  },
  "language_info": {
   "codemirror_mode": "r",
   "file_extension": ".r",
   "mimetype": "text/x-r-source",
   "name": "R",
   "pygments_lexer": "r",
   "version": "3.5.0"
  }
 },
 "nbformat": 4,
 "nbformat_minor": 4
}
