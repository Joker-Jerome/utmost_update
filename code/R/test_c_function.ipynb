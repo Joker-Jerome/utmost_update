{
 "cells": [
  {
   "cell_type": "code",
   "execution_count": null,
   "metadata": {},
   "outputs": [],
   "source": [
    "# test c function's inner product "
   ]
  },
  {
   "cell_type": "code",
   "execution_count": 2,
   "metadata": {},
   "outputs": [
    {
     "data": {
      "text/html": [
       "<style>\n",
       ".list-inline {list-style: none; margin:0; padding: 0}\n",
       ".list-inline>li {display: inline-block}\n",
       ".list-inline>li:not(:last-child)::after {content: \"\\00b7\"; padding: 0 .5ex}\n",
       "</style>\n",
       "<ol class=list-inline><li>'X_train'</li><li>'Y_train'</li><li>'X_tune'</li><li>'Y_tune'</li><li>'XX_train'</li><li>'XY'</li><li>'Xnorm'</li><li>'lam_V'</li><li>'initial_numeric'</li><li>'single_est'</li><li>'X'</li></ol>\n"
      ],
      "text/latex": [
       "\\begin{enumerate*}\n",
       "\\item 'X\\_train'\n",
       "\\item 'Y\\_train'\n",
       "\\item 'X\\_tune'\n",
       "\\item 'Y\\_tune'\n",
       "\\item 'XX\\_train'\n",
       "\\item 'XY'\n",
       "\\item 'Xnorm'\n",
       "\\item 'lam\\_V'\n",
       "\\item 'initial\\_numeric'\n",
       "\\item 'single\\_est'\n",
       "\\item 'X'\n",
       "\\end{enumerate*}\n"
      ],
      "text/markdown": [
       "1. 'X_train'\n",
       "2. 'Y_train'\n",
       "3. 'X_tune'\n",
       "4. 'Y_tune'\n",
       "5. 'XX_train'\n",
       "6. 'XY'\n",
       "7. 'Xnorm'\n",
       "8. 'lam_V'\n",
       "9. 'initial_numeric'\n",
       "10. 'single_est'\n",
       "11. 'X'\n",
       "\n",
       "\n"
      ],
      "text/plain": [
       " [1] \"X_train\"         \"Y_train\"         \"X_tune\"          \"Y_tune\"         \n",
       " [5] \"XX_train\"        \"XY\"              \"Xnorm\"           \"lam_V\"          \n",
       " [9] \"initial_numeric\" \"single_est\"      \"X\"              "
      ]
     },
     "metadata": {},
     "output_type": "display_data"
    }
   ],
   "source": [
    "ln <- load(\"/gpfs/loomis/project/zhao/zy92/GTEX/output/training_preparation_data_chr2_1.RData\")\n",
    "ln"
   ]
  },
  {
   "cell_type": "code",
   "execution_count": 3,
   "metadata": {},
   "outputs": [
    {
     "data": {
      "text/html": [
       "<style>\n",
       ".list-inline {list-style: none; margin:0; padding: 0}\n",
       ".list-inline>li {display: inline-block}\n",
       ".list-inline>li:not(:last-child)::after {content: \"\\00b7\"; padding: 0 .5ex}\n",
       "</style>\n",
       "<ol class=list-inline><li>228</li><li>6092</li></ol>\n"
      ],
      "text/latex": [
       "\\begin{enumerate*}\n",
       "\\item 228\n",
       "\\item 6092\n",
       "\\end{enumerate*}\n"
      ],
      "text/markdown": [
       "1. 228\n",
       "2. 6092\n",
       "\n",
       "\n"
      ],
      "text/plain": [
       "[1]  228 6092"
      ]
     },
     "metadata": {},
     "output_type": "display_data"
    }
   ],
   "source": [
    "dim(X_train[[1]])"
   ]
  },
  {
   "cell_type": "code",
   "execution_count": 69,
   "metadata": {},
   "outputs": [
    {
     "data": {
      "text/html": [
       "<style>\n",
       ".list-inline {list-style: none; margin:0; padding: 0}\n",
       ".list-inline>li {display: inline-block}\n",
       ".list-inline>li:not(:last-child)::after {content: \"\\00b7\"; padding: 0 .5ex}\n",
       "</style>\n",
       "<ol class=list-inline><li>228</li><li>6092</li></ol>\n"
      ],
      "text/latex": [
       "\\begin{enumerate*}\n",
       "\\item 228\n",
       "\\item 6092\n",
       "\\end{enumerate*}\n"
      ],
      "text/markdown": [
       "1. 228\n",
       "2. 6092\n",
       "\n",
       "\n"
      ],
      "text/plain": [
       "[1]  228 6092"
      ]
     },
     "metadata": {},
     "output_type": "display_data"
    }
   ],
   "source": [
    "dim(X_train[[1]])"
   ]
  },
  {
   "cell_type": "code",
   "execution_count": 45,
   "metadata": {},
   "outputs": [],
   "source": [
    "# parameters\n",
    "lam = 1\n",
    "X=X_train\n",
    "Y=Y_train\n",
    "X1=X_tune\n",
    "Y1=Y_tune\n",
    "XX=XX_train\n",
    "XY=XY\n",
    "Xnorm=Xnorm\n",
    "lambda1=lam_V[lam]\n",
    "lambda2=lam_V[lam]\n",
    "single_est = matrix(initial_numeric, ncol(X_train[[1]]), 49)\n",
    "theta=single_est\n",
    "maxiter = 10"
   ]
  },
  {
   "cell_type": "code",
   "execution_count": 46,
   "metadata": {},
   "outputs": [
    {
     "data": {
      "text/html": [
       "0"
      ],
      "text/latex": [
       "0"
      ],
      "text/markdown": [
       "0"
      ],
      "text/plain": [
       "[1] 0"
      ]
     },
     "metadata": {},
     "output_type": "display_data"
    },
    {
     "data": {
      "text/html": [
       "0"
      ],
      "text/latex": [
       "0"
      ],
      "text/markdown": [
       "0"
      ],
      "text/plain": [
       "[1] 0"
      ]
     },
     "metadata": {},
     "output_type": "display_data"
    }
   ],
   "source": [
    "sum(is.infinite(initial_numeric))\n",
    "sum(is.na(initial_numeric))"
   ]
  },
  {
   "cell_type": "code",
   "execution_count": 64,
   "metadata": {},
   "outputs": [
    {
     "data": {
      "text/html": [
       "<style>\n",
       ".dl-inline {width: auto; margin:0; padding: 0}\n",
       ".dl-inline>dt, .dl-inline>dd {float: none; width: auto; display: inline-block}\n",
       ".dl-inline>dt::after {content: \":\\0020\"; padding-right: .5ex}\n",
       ".dl-inline>dt:not(:first-of-type) {padding-left: .5ex}\n",
       "</style><dl class=dl-inline><dt>GTEX-1117F</dt><dd>2.0073846345676</dd><dt>GTEX-111CU</dt><dd>1.37140852637328</dd><dt>GTEX-111FC</dt><dd>1.73087181583056</dd><dt>GTEX-111VG</dt><dd>2.03761136290535</dd><dt>GTEX-111YS</dt><dd>2.16846574403541</dd><dt>GTEX-1122O</dt><dd>1.14457154009603</dd></dl>\n"
      ],
      "text/latex": [
       "\\begin{description*}\n",
       "\\item[GTEX-1117F] 2.0073846345676\n",
       "\\item[GTEX-111CU] 1.37140852637328\n",
       "\\item[GTEX-111FC] 1.73087181583056\n",
       "\\item[GTEX-111VG] 2.03761136290535\n",
       "\\item[GTEX-111YS] 2.16846574403541\n",
       "\\item[GTEX-1122O] 1.14457154009603\n",
       "\\end{description*}\n"
      ],
      "text/markdown": [
       "GTEX-1117F\n",
       ":   2.0073846345676GTEX-111CU\n",
       ":   1.37140852637328GTEX-111FC\n",
       ":   1.73087181583056GTEX-111VG\n",
       ":   2.03761136290535GTEX-111YS\n",
       ":   2.16846574403541GTEX-1122O\n",
       ":   1.14457154009603\n",
       "\n"
      ],
      "text/plain": [
       "GTEX-1117F GTEX-111CU GTEX-111FC GTEX-111VG GTEX-111YS GTEX-1122O \n",
       "  2.007385   1.371409   1.730872   2.037611   2.168466   1.144572 "
      ]
     },
     "metadata": {},
     "output_type": "display_data"
    },
    {
     "data": {
      "text/html": [
       "838"
      ],
      "text/latex": [
       "838"
      ],
      "text/markdown": [
       "838"
      ],
      "text/plain": [
       "[1] 838"
      ]
     },
     "metadata": {},
     "output_type": "display_data"
    }
   ],
   "source": [
    "head(Xnorm)\n",
    "length(Xnorm)"
   ]
  },
  {
   "cell_type": "code",
   "execution_count": 66,
   "metadata": {},
   "outputs": [
    {
     "data": {
      "text/html": [
       "<table>\n",
       "<caption>A matrix: 10 × 10 of type dbl</caption>\n",
       "<tbody>\n",
       "\t<tr><td>5</td><td>5</td><td>5</td><td>5</td><td>5</td><td>5</td><td>5</td><td>5</td><td>5</td><td>5</td></tr>\n",
       "\t<tr><td>5</td><td>5</td><td>5</td><td>5</td><td>5</td><td>5</td><td>5</td><td>5</td><td>5</td><td>5</td></tr>\n",
       "\t<tr><td>5</td><td>5</td><td>5</td><td>5</td><td>5</td><td>5</td><td>5</td><td>5</td><td>5</td><td>5</td></tr>\n",
       "\t<tr><td>5</td><td>5</td><td>5</td><td>5</td><td>5</td><td>5</td><td>5</td><td>5</td><td>5</td><td>5</td></tr>\n",
       "\t<tr><td>5</td><td>5</td><td>5</td><td>5</td><td>5</td><td>5</td><td>5</td><td>5</td><td>5</td><td>5</td></tr>\n",
       "\t<tr><td>5</td><td>5</td><td>5</td><td>5</td><td>5</td><td>5</td><td>5</td><td>5</td><td>5</td><td>5</td></tr>\n",
       "\t<tr><td>5</td><td>5</td><td>5</td><td>5</td><td>5</td><td>5</td><td>5</td><td>5</td><td>5</td><td>5</td></tr>\n",
       "\t<tr><td>5</td><td>5</td><td>5</td><td>5</td><td>5</td><td>5</td><td>5</td><td>5</td><td>5</td><td>5</td></tr>\n",
       "\t<tr><td>5</td><td>5</td><td>5</td><td>5</td><td>5</td><td>5</td><td>5</td><td>5</td><td>5</td><td>5</td></tr>\n",
       "\t<tr><td>5</td><td>5</td><td>5</td><td>5</td><td>5</td><td>5</td><td>5</td><td>5</td><td>5</td><td>5</td></tr>\n",
       "</tbody>\n",
       "</table>\n"
      ],
      "text/latex": [
       "A matrix: 10 × 10 of type dbl\n",
       "\\begin{tabular}{llllllllll}\n",
       "\t 5 & 5 & 5 & 5 & 5 & 5 & 5 & 5 & 5 & 5\\\\\n",
       "\t 5 & 5 & 5 & 5 & 5 & 5 & 5 & 5 & 5 & 5\\\\\n",
       "\t 5 & 5 & 5 & 5 & 5 & 5 & 5 & 5 & 5 & 5\\\\\n",
       "\t 5 & 5 & 5 & 5 & 5 & 5 & 5 & 5 & 5 & 5\\\\\n",
       "\t 5 & 5 & 5 & 5 & 5 & 5 & 5 & 5 & 5 & 5\\\\\n",
       "\t 5 & 5 & 5 & 5 & 5 & 5 & 5 & 5 & 5 & 5\\\\\n",
       "\t 5 & 5 & 5 & 5 & 5 & 5 & 5 & 5 & 5 & 5\\\\\n",
       "\t 5 & 5 & 5 & 5 & 5 & 5 & 5 & 5 & 5 & 5\\\\\n",
       "\t 5 & 5 & 5 & 5 & 5 & 5 & 5 & 5 & 5 & 5\\\\\n",
       "\t 5 & 5 & 5 & 5 & 5 & 5 & 5 & 5 & 5 & 5\\\\\n",
       "\\end{tabular}\n"
      ],
      "text/markdown": [
       "\n",
       "A matrix: 10 × 10 of type dbl\n",
       "\n",
       "| 5 | 5 | 5 | 5 | 5 | 5 | 5 | 5 | 5 | 5 |\n",
       "| 5 | 5 | 5 | 5 | 5 | 5 | 5 | 5 | 5 | 5 |\n",
       "| 5 | 5 | 5 | 5 | 5 | 5 | 5 | 5 | 5 | 5 |\n",
       "| 5 | 5 | 5 | 5 | 5 | 5 | 5 | 5 | 5 | 5 |\n",
       "| 5 | 5 | 5 | 5 | 5 | 5 | 5 | 5 | 5 | 5 |\n",
       "| 5 | 5 | 5 | 5 | 5 | 5 | 5 | 5 | 5 | 5 |\n",
       "| 5 | 5 | 5 | 5 | 5 | 5 | 5 | 5 | 5 | 5 |\n",
       "| 5 | 5 | 5 | 5 | 5 | 5 | 5 | 5 | 5 | 5 |\n",
       "| 5 | 5 | 5 | 5 | 5 | 5 | 5 | 5 | 5 | 5 |\n",
       "| 5 | 5 | 5 | 5 | 5 | 5 | 5 | 5 | 5 | 5 |\n",
       "\n"
      ],
      "text/plain": [
       "      [,1] [,2] [,3] [,4] [,5] [,6] [,7] [,8] [,9] [,10]\n",
       " [1,] 5    5    5    5    5    5    5    5    5    5    \n",
       " [2,] 5    5    5    5    5    5    5    5    5    5    \n",
       " [3,] 5    5    5    5    5    5    5    5    5    5    \n",
       " [4,] 5    5    5    5    5    5    5    5    5    5    \n",
       " [5,] 5    5    5    5    5    5    5    5    5    5    \n",
       " [6,] 5    5    5    5    5    5    5    5    5    5    \n",
       " [7,] 5    5    5    5    5    5    5    5    5    5    \n",
       " [8,] 5    5    5    5    5    5    5    5    5    5    \n",
       " [9,] 5    5    5    5    5    5    5    5    5    5    \n",
       "[10,] 5    5    5    5    5    5    5    5    5    5    "
      ]
     },
     "metadata": {},
     "output_type": "display_data"
    }
   ],
   "source": [
    "test_mtx <- matrix(1, 5, 10)\n",
    "t(test_mtx) %*% test_mtx"
   ]
  },
  {
   "cell_type": "code",
   "execution_count": 68,
   "metadata": {},
   "outputs": [
    {
     "data": {
      "text/html": [
       "6092"
      ],
      "text/latex": [
       "6092"
      ],
      "text/markdown": [
       "6092"
      ],
      "text/plain": [
       "[1] 6092"
      ]
     },
     "metadata": {},
     "output_type": "display_data"
    }
   ],
   "source": [
    "M"
   ]
  },
  {
   "cell_type": "code",
   "execution_count": 65,
   "metadata": {},
   "outputs": [
    {
     "data": {
      "image/png": "[encoded data removed]",
      "text/plain": [
       "Plot with title “Histogram of Xnorm”"
      ]
     },
     "metadata": {
      "image/png": {
       "height": 420,
       "width": 420
      },
      "text/plain": {
       "height": 420,
       "width": 420
      }
     },
     "output_type": "display_data"
    }
   ],
   "source": [
    "hist(Xnorm)"
   ]
  },
  {
   "cell_type": "code",
   "execution_count": 47,
   "metadata": {},
   "outputs": [
    {
     "data": {
      "image/png": "[encoded data removed]",
      "text/plain": [
       "Plot with title “Histogram of initial_numeric”"
      ]
     },
     "metadata": {
      "image/png": {
       "height": 420,
       "width": 420
      },
      "text/plain": {
       "height": 420,
       "width": 420
      }
     },
     "output_type": "display_data"
    }
   ],
   "source": [
    "hist(initial_numeric)"
   ]
  },
  {
   "cell_type": "code",
   "execution_count": 48,
   "metadata": {},
   "outputs": [
    {
     "data": {
      "text/html": [
       "298110"
      ],
      "text/latex": [
       "298110"
      ],
      "text/markdown": [
       "298110"
      ],
      "text/plain": [
       "[1] 298110"
      ]
     },
     "metadata": {},
     "output_type": "display_data"
    }
   ],
   "source": [
    "sum(initial_numeric == 0)"
   ]
  },
  {
   "cell_type": "code",
   "execution_count": 49,
   "metadata": {},
   "outputs": [
    {
     "data": {
      "text/html": [
       "298508"
      ],
      "text/latex": [
       "298508"
      ],
      "text/markdown": [
       "298508"
      ],
      "text/plain": [
       "[1] 298508"
      ]
     },
     "metadata": {},
     "output_type": "display_data"
    }
   ],
   "source": [
    "length(initial_numeric)"
   ]
  },
  {
   "cell_type": "code",
   "execution_count": 50,
   "metadata": {},
   "outputs": [
    {
     "data": {
      "text/html": [
       "0"
      ],
      "text/latex": [
       "0"
      ],
      "text/markdown": [
       "0"
      ],
      "text/plain": [
       "[1] 0"
      ]
     },
     "metadata": {},
     "output_type": "display_data"
    },
    {
     "data": {
      "text/html": [
       "0"
      ],
      "text/latex": [
       "0"
      ],
      "text/markdown": [
       "0"
      ],
      "text/plain": [
       "[1] 0"
      ]
     },
     "metadata": {},
     "output_type": "display_data"
    }
   ],
   "source": [
    "sum(is.infinite(theta))\n",
    "sum(is.na(theta))"
   ]
  },
  {
   "cell_type": "code",
   "execution_count": 51,
   "metadata": {},
   "outputs": [],
   "source": [
    "#theta = matrix(0, ncol(X_train[[1]]), 49)"
   ]
  },
  {
   "cell_type": "code",
   "execution_count": 53,
   "metadata": {},
   "outputs": [
    {
     "data": {
      "text/html": [
       "Training error: 787.928110082842\n"
      ]
     },
     "metadata": {},
     "output_type": "display_data"
    },
    {
     "data": {
      "text/html": [
       "Testing error: 989.803739515436\n"
      ]
     },
     "metadata": {},
     "output_type": "display_data"
    }
   ],
   "source": [
    "# wrapper function \n",
    "#dyn.load(\"/ysm-gpfs/pi/zhao/zy92/projects/utmost_update/CTIMP/optim.so\")\n",
    "dyn.load(\"/gpfs/project/zhao/zy92/utmost_update/CTIMP/optim.so\")\n",
    "\n",
    "bgt = Sys.time()\n",
    "M = nrow(XY)\n",
    "P = length(X)\n",
    "NN = unlist(lapply(X, nrow))\n",
    "old_objV1 = 0\n",
    "for(t in 1:P){\n",
    "    old_objV1 = old_objV1 + 1/2*mean((Y[[t]]-X[[t]]%*%theta[,t])^2)\n",
    "}\n",
    "IRdisplay::display_html(paste0(\"Training error: \", old_objV1, '\\n'))\n",
    "old_objV2 = 0\n",
    "for(t in 1:P){\n",
    "    old_objV2 = old_objV2 + 1/2*mean((Y1[[t]]-X1[[t]]%*%theta[,t])^2)\n",
    "}\n",
    "IRdisplay::display_html(paste0(\"Testing error: \", old_objV2, '\\n'))\n",
    "beta_j_lasso = rep(0, P)\n",
    "beta_j_lasso_matrix = rep(0, M*P)\n",
    "output_res = rep(0, P)\n",
    "tmp_XYj = 0\n",
    "\n"
   ]
  },
  {
   "cell_type": "code",
   "execution_count": 54,
   "metadata": {},
   "outputs": [
    {
     "data": {
      "text/html": [
       "0"
      ],
      "text/latex": [
       "0"
      ],
      "text/markdown": [
       "0"
      ],
      "text/plain": [
       "[1] 0"
      ]
     },
     "metadata": {},
     "output_type": "display_data"
    },
    {
     "data": {
      "text/html": [
       "0"
      ],
      "text/latex": [
       "0"
      ],
      "text/markdown": [
       "0"
      ],
      "text/plain": [
       "[1] 0"
      ]
     },
     "metadata": {},
     "output_type": "display_data"
    }
   ],
   "source": [
    "sum(is.na(theta))\n",
    "sum(is.infinite(theta))"
   ]
  },
  {
   "cell_type": "code",
   "execution_count": null,
   "metadata": {},
   "outputs": [],
   "source": []
  },
  {
   "cell_type": "code",
   "execution_count": 55,
   "metadata": {},
   "outputs": [],
   "source": [
    "res = .Call(\"wrapper\", XX, XY, theta, M, P, beta_j_lasso, beta_j_lasso_matrix, lambda1, lambda2, Xnorm, output_res)\n",
    "\n"
   ]
  },
  {
   "cell_type": "code",
   "execution_count": 56,
   "metadata": {},
   "outputs": [
    {
     "data": {
      "text/html": [
       "0"
      ],
      "text/latex": [
       "0"
      ],
      "text/markdown": [
       "0"
      ],
      "text/plain": [
       "[1] 0"
      ]
     },
     "metadata": {},
     "output_type": "display_data"
    },
    {
     "data": {
      "text/html": [
       "0"
      ],
      "text/latex": [
       "0"
      ],
      "text/markdown": [
       "0"
      ],
      "text/plain": [
       "[1] 0"
      ]
     },
     "metadata": {},
     "output_type": "display_data"
    }
   ],
   "source": [
    "sum(is.infinite(theta))\n",
    "sum(is.na(theta))"
   ]
  },
  {
   "cell_type": "code",
   "execution_count": 57,
   "metadata": {},
   "outputs": [
    {
     "data": {
      "text/html": [
       "0"
      ],
      "text/latex": [
       "0"
      ],
      "text/markdown": [
       "0"
      ],
      "text/plain": [
       "[1] 0"
      ]
     },
     "metadata": {},
     "output_type": "display_data"
    },
    {
     "data": {
      "text/html": [
       "0"
      ],
      "text/latex": [
       "0"
      ],
      "text/markdown": [
       "0"
      ],
      "text/plain": [
       "[1] 0"
      ]
     },
     "metadata": {},
     "output_type": "display_data"
    }
   ],
   "source": [
    "sum(is.infinite(beta_j_lasso_matrix))\n",
    "sum(is.na(beta_j_lasso_matrix))"
   ]
  },
  {
   "cell_type": "code",
   "execution_count": 58,
   "metadata": {},
   "outputs": [
    {
     "data": {
      "text/html": [
       "<style>\n",
       ".list-inline {list-style: none; margin:0; padding: 0}\n",
       ".list-inline>li {display: inline-block}\n",
       ".list-inline>li:not(:last-child)::after {content: \"\\00b7\"; padding: 0 .5ex}\n",
       "</style>\n",
       "<ol class=list-inline><li>18.6497820952603</li><li>78.9055754199369</li><li>18.6497820952603</li><li>202.418083309495</li><li>18.6497820952603</li><li>202.550277693654</li></ol>\n"
      ],
      "text/latex": [
       "\\begin{enumerate*}\n",
       "\\item 18.6497820952603\n",
       "\\item 78.9055754199369\n",
       "\\item 18.6497820952603\n",
       "\\item 202.418083309495\n",
       "\\item 18.6497820952603\n",
       "\\item 202.550277693654\n",
       "\\end{enumerate*}\n"
      ],
      "text/markdown": [
       "1. 18.6497820952603\n",
       "2. 78.9055754199369\n",
       "3. 18.6497820952603\n",
       "4. 202.418083309495\n",
       "5. 18.6497820952603\n",
       "6. 202.550277693654\n",
       "\n",
       "\n"
      ],
      "text/plain": [
       "[1]  18.64978  78.90558  18.64978 202.41808  18.64978 202.55028"
      ]
     },
     "metadata": {},
     "output_type": "display_data"
    }
   ],
   "source": [
    "head(beta_j_lasso_matrix)"
   ]
  },
  {
   "cell_type": "code",
   "execution_count": 60,
   "metadata": {},
   "outputs": [
    {
     "data": {
      "text/html": [
       "18.6497820952603"
      ],
      "text/latex": [
       "18.6497820952603"
      ],
      "text/markdown": [
       "18.6497820952603"
      ],
      "text/plain": [
       "[1] 18.64978"
      ]
     },
     "metadata": {},
     "output_type": "display_data"
    },
    {
     "data": {
      "text/html": [
       "18.6497820952603"
      ],
      "text/latex": [
       "18.6497820952603"
      ],
      "text/markdown": [
       "18.6497820952603"
      ],
      "text/plain": [
       "[1] 18.64978"
      ]
     },
     "metadata": {},
     "output_type": "display_data"
    }
   ],
   "source": [
    "beta_j_lasso_matrix[1]\n",
    "beta_j_lasso_matrix[1+M]\n",
    "\n"
   ]
  },
  {
   "cell_type": "code",
   "execution_count": 29,
   "metadata": {},
   "outputs": [
    {
     "data": {
      "text/html": [
       "0"
      ],
      "text/latex": [
       "0"
      ],
      "text/markdown": [
       "0"
      ],
      "text/plain": [
       "[1] 0"
      ]
     },
     "metadata": {},
     "output_type": "display_data"
    },
    {
     "data": {
      "text/html": [
       "0"
      ],
      "text/latex": [
       "0"
      ],
      "text/markdown": [
       "0"
      ],
      "text/plain": [
       "[1] 0"
      ]
     },
     "metadata": {},
     "output_type": "display_data"
    },
    {
     "data": {
      "text/html": [
       "0"
      ],
      "text/latex": [
       "0"
      ],
      "text/markdown": [
       "0"
      ],
      "text/plain": [
       "[1] 0"
      ]
     },
     "metadata": {},
     "output_type": "display_data"
    },
    {
     "data": {
      "text/html": [
       "0"
      ],
      "text/latex": [
       "0"
      ],
      "text/markdown": [
       "0"
      ],
      "text/plain": [
       "[1] 0"
      ]
     },
     "metadata": {},
     "output_type": "display_data"
    }
   ],
   "source": [
    "sum(is.na(beta_j_lasso_matrix))\n",
    "sum(is.infinite(beta_j_lasso_matrix))\n",
    "sum(is.na(beta_j_lasso))\n",
    "sum(is.infinite(beta_j_lasso))"
   ]
  },
  {
   "cell_type": "code",
   "execution_count": 31,
   "metadata": {},
   "outputs": [
    {
     "data": {
      "text/html": [
       "49"
      ],
      "text/latex": [
       "49"
      ],
      "text/markdown": [
       "49"
      ],
      "text/plain": [
       "[1] 49"
      ]
     },
     "metadata": {},
     "output_type": "display_data"
    },
    {
     "data": {
      "text/html": [
       "<style>\n",
       ".list-inline {list-style: none; margin:0; padding: 0}\n",
       ".list-inline>li {display: inline-block}\n",
       ".list-inline>li:not(:last-child)::after {content: \"\\00b7\"; padding: 0 .5ex}\n",
       "</style>\n",
       "<ol class=list-inline><li>-21.6604910597053</li><li>-17.2229200376839</li><li>-24.1487883185581</li><li>-20.7679305002723</li><li>-26.7473135862078</li><li>-19.6986691937249</li><li>-33.1595822584117</li><li>0</li><li>-19.8117504424669</li><li>-23.5380295089681</li><li>-20.6412210147249</li><li>-26.1045891036744</li><li>-23.8211083938664</li><li>-19.9784114617682</li><li>-25.6255467542235</li><li>-17.638359510329</li><li>-21.2328088820133</li><li>-24.6677109411846</li><li>-30.6826195556436</li><li>-18.6890661666461</li><li>-20.8012407756934</li><li>-7.88645120347769</li><li>-14.4981501270691</li><li>-22.2672077708222</li><li>-16.2731568104649</li><li>-19.5507664632124</li><li>-18.8147653375731</li><li>-25.1237933725888</li><li>-19.8458034800026</li><li>-60.2821665521275</li><li>-25.2170676202856</li><li>-19.3080262431178</li><li>-29.0576553446585</li><li>-19.1392648767222</li><li>-16.1984706740054</li><li>-22.0421836126509</li><li>-25.4318040684072</li><li>-18.2455333747445</li><li>-24.8107228660745</li><li>-18.8867078217305</li><li>-19.447656311766</li><li>-37.570117117354</li><li>0</li><li>-24.3406774803492</li><li>-24.382977292617</li><li>-17.3240054960059</li><li>-17.0908718575729</li><li>-22.8749559167797</li><li>-17.1007068804278</li></ol>\n"
      ],
      "text/latex": [
       "\\begin{enumerate*}\n",
       "\\item -21.6604910597053\n",
       "\\item -17.2229200376839\n",
       "\\item -24.1487883185581\n",
       "\\item -20.7679305002723\n",
       "\\item -26.7473135862078\n",
       "\\item -19.6986691937249\n",
       "\\item -33.1595822584117\n",
       "\\item 0\n",
       "\\item -19.8117504424669\n",
       "\\item -23.5380295089681\n",
       "\\item -20.6412210147249\n",
       "\\item -26.1045891036744\n",
       "\\item -23.8211083938664\n",
       "\\item -19.9784114617682\n",
       "\\item -25.6255467542235\n",
       "\\item -17.638359510329\n",
       "\\item -21.2328088820133\n",
       "\\item -24.6677109411846\n",
       "\\item -30.6826195556436\n",
       "\\item -18.6890661666461\n",
       "\\item -20.8012407756934\n",
       "\\item -7.88645120347769\n",
       "\\item -14.4981501270691\n",
       "\\item -22.2672077708222\n",
       "\\item -16.2731568104649\n",
       "\\item -19.5507664632124\n",
       "\\item -18.8147653375731\n",
       "\\item -25.1237933725888\n",
       "\\item -19.8458034800026\n",
       "\\item -60.2821665521275\n",
       "\\item -25.2170676202856\n",
       "\\item -19.3080262431178\n",
       "\\item -29.0576553446585\n",
       "\\item -19.1392648767222\n",
       "\\item -16.1984706740054\n",
       "\\item -22.0421836126509\n",
       "\\item -25.4318040684072\n",
       "\\item -18.2455333747445\n",
       "\\item -24.8107228660745\n",
       "\\item -18.8867078217305\n",
       "\\item -19.447656311766\n",
       "\\item -37.570117117354\n",
       "\\item 0\n",
       "\\item -24.3406774803492\n",
       "\\item -24.382977292617\n",
       "\\item -17.3240054960059\n",
       "\\item -17.0908718575729\n",
       "\\item -22.8749559167797\n",
       "\\item -17.1007068804278\n",
       "\\end{enumerate*}\n"
      ],
      "text/markdown": [
       "1. -21.6604910597053\n",
       "2. -17.2229200376839\n",
       "3. -24.1487883185581\n",
       "4. -20.7679305002723\n",
       "5. -26.7473135862078\n",
       "6. -19.6986691937249\n",
       "7. -33.1595822584117\n",
       "8. 0\n",
       "9. -19.8117504424669\n",
       "10. -23.5380295089681\n",
       "11. -20.6412210147249\n",
       "12. -26.1045891036744\n",
       "13. -23.8211083938664\n",
       "14. -19.9784114617682\n",
       "15. -25.6255467542235\n",
       "16. -17.638359510329\n",
       "17. -21.2328088820133\n",
       "18. -24.6677109411846\n",
       "19. -30.6826195556436\n",
       "20. -18.6890661666461\n",
       "21. -20.8012407756934\n",
       "22. -7.88645120347769\n",
       "23. -14.4981501270691\n",
       "24. -22.2672077708222\n",
       "25. -16.2731568104649\n",
       "26. -19.5507664632124\n",
       "27. -18.8147653375731\n",
       "28. -25.1237933725888\n",
       "29. -19.8458034800026\n",
       "30. -60.2821665521275\n",
       "31. -25.2170676202856\n",
       "32. -19.3080262431178\n",
       "33. -29.0576553446585\n",
       "34. -19.1392648767222\n",
       "35. -16.1984706740054\n",
       "36. -22.0421836126509\n",
       "37. -25.4318040684072\n",
       "38. -18.2455333747445\n",
       "39. -24.8107228660745\n",
       "40. -18.8867078217305\n",
       "41. -19.447656311766\n",
       "42. -37.570117117354\n",
       "43. 0\n",
       "44. -24.3406774803492\n",
       "45. -24.382977292617\n",
       "46. -17.3240054960059\n",
       "47. -17.0908718575729\n",
       "48. -22.8749559167797\n",
       "49. -17.1007068804278\n",
       "\n",
       "\n"
      ],
      "text/plain": [
       " [1] -21.660491 -17.222920 -24.148788 -20.767931 -26.747314 -19.698669\n",
       " [7] -33.159582   0.000000 -19.811750 -23.538030 -20.641221 -26.104589\n",
       "[13] -23.821108 -19.978411 -25.625547 -17.638360 -21.232809 -24.667711\n",
       "[19] -30.682620 -18.689066 -20.801241  -7.886451 -14.498150 -22.267208\n",
       "[25] -16.273157 -19.550766 -18.814765 -25.123793 -19.845803 -60.282167\n",
       "[31] -25.217068 -19.308026 -29.057655 -19.139265 -16.198471 -22.042184\n",
       "[37] -25.431804 -18.245533 -24.810723 -18.886708 -19.447656 -37.570117\n",
       "[43]   0.000000 -24.340677 -24.382977 -17.324005 -17.090872 -22.874956\n",
       "[49] -17.100707"
      ]
     },
     "metadata": {},
     "output_type": "display_data"
    }
   ],
   "source": [
    "length(beta_j_lasso)\n",
    "beta_j_lasso"
   ]
  },
  {
   "cell_type": "code",
   "execution_count": 12,
   "metadata": {},
   "outputs": [
    {
     "data": {
      "text/html": [
       -21.6605,
       -17.2229,
       -24.1488,
       -20.7679,
       -26.7473,
       -19.6987,
       -33.1596,
       -21.1687,
       -19.8118,
       -23.538,
       -20.6412,
       -26.1046,
       -23.8211,
       -19.9784,
       -24.6255,
       -17.6384,
       -21.2328,
       -24.6677,
       -30.6826,
       -18.6891,
       -20.8012,
       -69.8865,
       -14.4982,
       -22.2672,
       -16.2732,
       -19.5508,
       -18.8148,
       -25.1238,
       -19.8458,
       -60.2822,
       -25.2171,
       -19.308,
       -29.0577,
       -19.1393,
       -16.1985,
       -22.0422,
       -25.4318,
       -18.2455,
       -24.8107,
       -18.8867,
       -19.4477,
       -37.5701,
       -32.0267,
       -24.3407,
       -24.383,
       -17.324,
       -17.0909,
       -22.875,
       -17.1007
      ]
     },
     "metadata": {},
     "output_type": "display_data"
    },
    {
     "name": "stderr",
     "output_type": "stream",
     "text": [
      "Warning message in if (theta[]) new_objV1 = new_objV1 + 1/2 * mean((Y[[t]] - X[[t]] %*% :\n",
      "“the condition has length > 1 and only the first element will be used”\n",
      "Warning message in if (theta[]) new_objV1 = new_objV1 + 1/2 * mean((Y[[t]] - X[[t]] %*% :\n",
      "“the condition has length > 1 and only the first element will be used”\n",
      "Warning message in if (theta[]) new_objV1 = new_objV1 + 1/2 * mean((Y[[t]] - X[[t]] %*% :\n",
      "“the condition has length > 1 and only the first element will be used”\n",
      "Warning message in if (theta[]) new_objV1 = new_objV1 + 1/2 * mean((Y[[t]] - X[[t]] %*% :\n",
      "“the condition has length > 1 and only the first element will be used”\n",
      "Warning message in if (theta[]) new_objV1 = new_objV1 + 1/2 * mean((Y[[t]] - X[[t]] %*% :\n",
      "“the condition has length > 1 and only the first element will be used”\n",
      "Warning message in if (theta[]) new_objV1 = new_objV1 + 1/2 * mean((Y[[t]] - X[[t]] %*% :\n",
      "“the condition has length > 1 and only the first element will be used”\n",
      "Warning message in if (theta[]) new_objV1 = new_objV1 + 1/2 * mean((Y[[t]] - X[[t]] %*% :\n",
      "“the condition has length > 1 and only the first element will be used”\n",
      "Warning message in if (theta[]) new_objV1 = new_objV1 + 1/2 * mean((Y[[t]] - X[[t]] %*% :\n",
      "“the condition has length > 1 and only the first element will be used”\n",
      "Warning message in if (theta[]) new_objV1 = new_objV1 + 1/2 * mean((Y[[t]] - X[[t]] %*% :\n",
      "“the condition has length > 1 and only the first element will be used”\n",
      "Warning message in if (theta[]) new_objV1 = new_objV1 + 1/2 * mean((Y[[t]] - X[[t]] %*% :\n",
      "“the condition has length > 1 and only the first element will be used”\n",
      "Warning message in if (theta[]) new_objV1 = new_objV1 + 1/2 * mean((Y[[t]] - X[[t]] %*% :\n",
      "“the condition has length > 1 and only the first element will be used”\n",
      "Warning message in if (theta[]) new_objV1 = new_objV1 + 1/2 * mean((Y[[t]] - X[[t]] %*% :\n",
      "“the condition has length > 1 and only the first element will be used”\n",
      "Warning message in if (theta[]) new_objV1 = new_objV1 + 1/2 * mean((Y[[t]] - X[[t]] %*% :\n",
      "“the condition has length > 1 and only the first element will be used”\n",
      "Warning message in if (theta[]) new_objV1 = new_objV1 + 1/2 * mean((Y[[t]] - X[[t]] %*% :\n",
      "“the condition has length > 1 and only the first element will be used”\n",
      "Warning message in if (theta[]) new_objV1 = new_objV1 + 1/2 * mean((Y[[t]] - X[[t]] %*% :\n",
      "“the condition has length > 1 and only the first element will be used”\n",
      "Warning message in if (theta[]) new_objV1 = new_objV1 + 1/2 * mean((Y[[t]] - X[[t]] %*% :\n",
      "“the condition has length > 1 and only the first element will be used”\n",
      "Warning message in if (theta[]) new_objV1 = new_objV1 + 1/2 * mean((Y[[t]] - X[[t]] %*% :\n",
      "“the condition has length > 1 and only the first element will be used”\n",
      "Warning message in if (theta[]) new_objV1 = new_objV1 + 1/2 * mean((Y[[t]] - X[[t]] %*% :\n",
      "“the condition has length > 1 and only the first element will be used”\n",
      "Warning message in if (theta[]) new_objV1 = new_objV1 + 1/2 * mean((Y[[t]] - X[[t]] %*% :\n",
      "“the condition has length > 1 and only the first element will be used”\n",
      "Warning message in if (theta[]) new_objV1 = new_objV1 + 1/2 * mean((Y[[t]] - X[[t]] %*% :\n",
      "“the condition has length > 1 and only the first element will be used”\n",
      "Warning message in if (theta[]) new_objV1 = new_objV1 + 1/2 * mean((Y[[t]] - X[[t]] %*% :\n",
      "“the condition has length > 1 and only the first element will be used”\n",
      "Warning message in if (theta[]) new_objV1 = new_objV1 + 1/2 * mean((Y[[t]] - X[[t]] %*% :\n",
      "“the condition has length > 1 and only the first element will be used”\n",
      "Warning message in if (theta[]) new_objV1 = new_objV1 + 1/2 * mean((Y[[t]] - X[[t]] %*% :\n",
      "“the condition has length > 1 and only the first element will be used”\n",
      "Warning message in if (theta[]) new_objV1 = new_objV1 + 1/2 * mean((Y[[t]] - X[[t]] %*% :\n",
      "“the condition has length > 1 and only the first element will be used”\n",
      "Warning message in if (theta[]) new_objV1 = new_objV1 + 1/2 * mean((Y[[t]] - X[[t]] %*% :\n",
      "“the condition has length > 1 and only the first element will be used”\n",
      "Warning message in if (theta[]) new_objV1 = new_objV1 + 1/2 * mean((Y[[t]] - X[[t]] %*% :\n",
      "“the condition has length > 1 and only the first element will be used”\n",
      "Warning message in if (theta[]) new_objV1 = new_objV1 + 1/2 * mean((Y[[t]] - X[[t]] %*% :\n",
      "“the condition has length > 1 and only the first element will be used”\n",
      "Warning message in if (theta[]) new_objV1 = new_objV1 + 1/2 * mean((Y[[t]] - X[[t]] %*% :\n",
      "“the condition has length > 1 and only the first element will be used”\n",
      "Warning message in if (theta[]) new_objV1 = new_objV1 + 1/2 * mean((Y[[t]] - X[[t]] %*% :\n",
      "“the condition has length > 1 and only the first element will be used”\n",
      "Warning message in if (theta[]) new_objV1 = new_objV1 + 1/2 * mean((Y[[t]] - X[[t]] %*% :\n",
      "“the condition has length > 1 and only the first element will be used”\n",
      "Warning message in if (theta[]) new_objV1 = new_objV1 + 1/2 * mean((Y[[t]] - X[[t]] %*% :\n",
      "“the condition has length > 1 and only the first element will be used”\n",
      "Warning message in if (theta[]) new_objV1 = new_objV1 + 1/2 * mean((Y[[t]] - X[[t]] %*% :\n",
      "“the condition has length > 1 and only the first element will be used”\n",
      "Warning message in if (theta[]) new_objV1 = new_objV1 + 1/2 * mean((Y[[t]] - X[[t]] %*% :\n",
      "“the condition has length > 1 and only the first element will be used”\n",
      "Warning message in if (theta[]) new_objV1 = new_objV1 + 1/2 * mean((Y[[t]] - X[[t]] %*% :\n",
      "“the condition has length > 1 and only the first element will be used”\n",
      "Warning message in if (theta[]) new_objV1 = new_objV1 + 1/2 * mean((Y[[t]] - X[[t]] %*% :\n",
      "“the condition has length > 1 and only the first element will be used”\n",
      "Warning message in if (theta[]) new_objV1 = new_objV1 + 1/2 * mean((Y[[t]] - X[[t]] %*% :\n",
      "“the condition has length > 1 and only the first element will be used”\n",
      "Warning message in if (theta[]) new_objV1 = new_objV1 + 1/2 * mean((Y[[t]] - X[[t]] %*% :\n",
      "“the condition has length > 1 and only the first element will be used”\n",
      "Warning message in if (theta[]) new_objV1 = new_objV1 + 1/2 * mean((Y[[t]] - X[[t]] %*% :\n",
      "“the condition has length > 1 and only the first element will be used”\n",
      "Warning message in if (theta[]) new_objV1 = new_objV1 + 1/2 * mean((Y[[t]] - X[[t]] %*% :\n",
      "“the condition has length > 1 and only the first element will be used”\n",
      "Warning message in if (theta[]) new_objV1 = new_objV1 + 1/2 * mean((Y[[t]] - X[[t]] %*% :\n",
      "“the condition has length > 1 and only the first element will be used”\n",
      "Warning message in if (theta[]) new_objV1 = new_objV1 + 1/2 * mean((Y[[t]] - X[[t]] %*% :\n",
      "“the condition has length > 1 and only the first element will be used”\n",
      "Warning message in if (theta[]) new_objV1 = new_objV1 + 1/2 * mean((Y[[t]] - X[[t]] %*% :\n",
      "“the condition has length > 1 and only the first element will be used”\n",
      "Warning message in if (theta[]) new_objV1 = new_objV1 + 1/2 * mean((Y[[t]] - X[[t]] %*% :\n",
      "“the condition has length > 1 and only the first element will be used”\n",
      "Warning message in if (theta[]) new_objV1 = new_objV1 + 1/2 * mean((Y[[t]] - X[[t]] %*% :\n",
      "“the condition has length > 1 and only the first element will be used”\n",
      "Warning message in if (theta[]) new_objV1 = new_objV1 + 1/2 * mean((Y[[t]] - X[[t]] %*% :\n",
      "“the condition has length > 1 and only the first element will be used”\n",
      "Warning message in if (theta[]) new_objV1 = new_objV1 + 1/2 * mean((Y[[t]] - X[[t]] %*% :\n",
      "“the condition has length > 1 and only the first element will be used”\n",
      "Warning message in if (theta[]) new_objV1 = new_objV1 + 1/2 * mean((Y[[t]] - X[[t]] %*% :\n",
      "“the condition has length > 1 and only the first element will be used”\n",
      "Warning message in if (theta[]) new_objV1 = new_objV1 + 1/2 * mean((Y[[t]] - X[[t]] %*% :\n",
      "“the condition has length > 1 and only the first element will be used”\n",
      "Warning message in if (theta[]) new_objV1 = new_objV1 + 1/2 * mean((Y[[t]] - X[[t]] %*% :\n",
      "“the condition has length > 1 and only the first element will be used”\n"
     ]
    },
    {
     "data": {
      "text/html": [
       "Training error: NaN\n"
      ]
     },
     "metadata": {},
     "output_type": "display_data"
    },
    {
     "data": {
      "text/html": [
       "Testing error: NaN\n"
      ]
     },
     "metadata": {},
     "output_type": "display_data"
    },
    {
     "ename": "ERROR",
     "evalue": "Error in if (new_objV2 > old_objV2 | new_objV1 > old_objV1) {: missing value where TRUE/FALSE needed\n",
     "output_type": "error",
     "traceback": [
      "Error in if (new_objV2 > old_objV2 | new_objV1 > old_objV1) {: missing value where TRUE/FALSE needed\nTraceback:\n"
     ]
    }
   ],
   "source": [
    "\n",
    "\n",
    "\n",
    "for(i in 1:maxiter){\n",
    "    bgt = Sys.time()\n",
    "    res = .Call(\"wrapper\", XX, XY, theta, M, P, beta_j_lasso, beta_j_lasso_matrix, lambda1, lambda2, Xnorm, output_res)\n",
    "    #IRdisplay::display_html(res)\n",
    "    edt = Sys.time()\n",
    "    #print(edt-bgt)\n",
    "    IRdisplay::display_html(beta_j_lasso)\n",
    "    #IRdisplay::display_html(theta[1:6, 1:6])\n",
    "    new_objV1 = new_objV2 = 0\n",
    "    for(t in 1:P){\n",
    "        if (theta[])\n",
    "        new_objV1 = new_objV1 + 1/2*mean((Y[[t]]-X[[t]]%*%theta[,t])^2)\n",
    "        #IRdisplay::display_html(sum(is.na(X[[t]])))\n",
    "        #IRdisplay::display_html(sum(is.na(Y[[t]])))\n",
    "        #IRdisplay::display_html(theta[,t])\n",
    "    }\n",
    "    IRdisplay::display_html(paste0(\"Training error: \", new_objV1, '\\n'))\n",
    "    for(t in 1:P){\n",
    "        new_objV2 = new_objV2 + 1/2*mean((Y1[[t]]-X1[[t]]%*%theta[,t])^2)\n",
    "        #IRdisplay::display_html(sum(is.na(X[[t]])))\n",
    "        #IRdisplay::display_html(sum(is.na(Y[[t]])))\n",
    "        #IRdisplay::display_html(theta[,t])\n",
    "    }\n",
    "    IRdisplay::display_html(paste0(\"Testing error: \", new_objV2, '\\n'))\n",
    "    if(new_objV2 > old_objV2|new_objV1 > old_objV1){\n",
    "        break\n",
    "    }else{\n",
    "        old_objV2 = new_objV2\n",
    "    }\n",
    "    if(abs(new_objV1-old_objV1) < eps){\n",
    "        break\n",
    "    }else{\n",
    "        old_objV1 = new_objV1\n",
    "    }\n",
    "}\n",
    "#edt = Sys.time()\n",
    "#print(edt-bgt)\n",
    "#list(est = theta, tune_err = new_objV2)"
   ]
  },
  {
   "cell_type": "code",
   "execution_count": 13,
   "metadata": {},
   "outputs": [
    {
     "data": {
      "text/html": [
       "344"
      ],
      "text/latex": [
       "344"
      ],
      "text/markdown": [
       "344"
      ],
      "text/plain": [
       "[1] 344"
      ]
     },
     "metadata": {},
     "output_type": "display_data"
    },
    {
     "data": {
      "text/html": [
       "254685"
      ],
      "text/latex": [
       "254685"
      ],
      "text/markdown": [
       "254685"
      ],
      "text/plain": [
       "[1] 254685"
      ]
     },
     "metadata": {},
     "output_type": "display_data"
    }
   ],
   "source": [
    "sum(is.na(theta))\n",
    "sum(is.infinite(theta))"
   ]
  },
  {
   "cell_type": "code",
   "execution_count": null,
   "metadata": {},
   "outputs": [],
   "source": []
  }
 ],
 "metadata": {
  "kernelspec": {
   "display_name": "R",
   "language": "R",
   "name": "ir"
  },
  "language_info": {
   "codemirror_mode": "r",
   "file_extension": ".r",
   "mimetype": "text/x-r-source",
   "name": "R",
   "pygments_lexer": "r",
   "version": "3.5.0"
  }
 },
 "nbformat": 4,
 "nbformat_minor": 4
}
