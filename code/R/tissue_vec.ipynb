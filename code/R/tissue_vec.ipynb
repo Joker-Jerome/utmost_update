{
 "cells": [
  {
   "cell_type": "code",
   "execution_count": null,
   "metadata": {},
   "outputs": [],
   "source": [
    "# extract the tissues"
   ]
  },
  {
   "cell_type": "code",
   "execution_count": 3,
   "metadata": {},
   "outputs": [],
   "source": [
    "merged_path <- \"/gpfs/scratch60/zhao/zy92/GTEX/weight_ENET/merged/\"\n",
    "tissue_vec <- list.files(merged_path, pattern = \"*.weight.txt\")"
   ]
  },
  {
   "cell_type": "code",
   "execution_count": 4,
   "metadata": {},
   "outputs": [
    {
     "data": {
      "text/html": [
       "<style>\n",
       ".list-inline {list-style: none; margin:0; padding: 0}\n",
       ".list-inline>li {display: inline-block}\n",
       ".list-inline>li:not(:last-child)::after {content: \"\\00b7\"; padding: 0 .5ex}\n",
       "</style>\n",
       "<ol class=list-inline><li>'Brain_Amygdala.weight.txt'</li><li>'Brain_Anterior_cingulate_cortex_BA24.weight.txt'</li><li>'Brain_Caudate_basal_ganglia.weight.txt'</li><li>'Brain_Cerebellar_Hemisphere.weight.txt'</li><li>'Brain_Cerebellum.weight.txt'</li><li>'Brain_Cortex.weight.txt'</li><li>'Brain_Frontal_Cortex_BA9.weight.txt'</li><li>'Brain_Hippocampus.weight.txt'</li><li>'Brain_Hypothalamus.weight.txt'</li><li>'Brain_Nucleus_accumbens_basal_ganglia.weight.txt'</li><li>'Brain_Putamen_basal_ganglia.weight.txt'</li><li>'Brain_Spinal_cord_cervical_c-1.weight.txt'</li><li>'Brain_Substantia_nigra.weight.txt'</li><li>'Nerve_Tibial.weight.txt'</li></ol>\n"
      ],
      "text/latex": [
       "\\begin{enumerate*}\n",
       "\\item 'Brain\\_Amygdala.weight.txt'\n",
       "\\item 'Brain\\_Anterior\\_cingulate\\_cortex\\_BA24.weight.txt'\n",
       "\\item 'Brain\\_Caudate\\_basal\\_ganglia.weight.txt'\n",
       "\\item 'Brain\\_Cerebellar\\_Hemisphere.weight.txt'\n",
       "\\item 'Brain\\_Cerebellum.weight.txt'\n",
       "\\item 'Brain\\_Cortex.weight.txt'\n",
       "\\item 'Brain\\_Frontal\\_Cortex\\_BA9.weight.txt'\n",
       "\\item 'Brain\\_Hippocampus.weight.txt'\n",
       "\\item 'Brain\\_Hypothalamus.weight.txt'\n",
       "\\item 'Brain\\_Nucleus\\_accumbens\\_basal\\_ganglia.weight.txt'\n",
       "\\item 'Brain\\_Putamen\\_basal\\_ganglia.weight.txt'\n",
       "\\item 'Brain\\_Spinal\\_cord\\_cervical\\_c-1.weight.txt'\n",
       "\\item 'Brain\\_Substantia\\_nigra.weight.txt'\n",
       "\\item 'Nerve\\_Tibial.weight.txt'\n",
       "\\end{enumerate*}\n"
      ],
      "text/markdown": [
       "1. 'Brain_Amygdala.weight.txt'\n",
       "2. 'Brain_Anterior_cingulate_cortex_BA24.weight.txt'\n",
       "3. 'Brain_Caudate_basal_ganglia.weight.txt'\n",
       "4. 'Brain_Cerebellar_Hemisphere.weight.txt'\n",
       "5. 'Brain_Cerebellum.weight.txt'\n",
       "6. 'Brain_Cortex.weight.txt'\n",
       "7. 'Brain_Frontal_Cortex_BA9.weight.txt'\n",
       "8. 'Brain_Hippocampus.weight.txt'\n",
       "9. 'Brain_Hypothalamus.weight.txt'\n",
       "10. 'Brain_Nucleus_accumbens_basal_ganglia.weight.txt'\n",
       "11. 'Brain_Putamen_basal_ganglia.weight.txt'\n",
       "12. 'Brain_Spinal_cord_cervical_c-1.weight.txt'\n",
       "13. 'Brain_Substantia_nigra.weight.txt'\n",
       "14. 'Nerve_Tibial.weight.txt'\n",
       "\n",
       "\n"
      ],
      "text/plain": [
       " [1] \"Brain_Amygdala.weight.txt\"                       \n",
       " [2] \"Brain_Anterior_cingulate_cortex_BA24.weight.txt\" \n",
       " [3] \"Brain_Caudate_basal_ganglia.weight.txt\"          \n",
       " [4] \"Brain_Cerebellar_Hemisphere.weight.txt\"          \n",
       " [5] \"Brain_Cerebellum.weight.txt\"                     \n",
       " [6] \"Brain_Cortex.weight.txt\"                         \n",
       " [7] \"Brain_Frontal_Cortex_BA9.weight.txt\"             \n",
       " [8] \"Brain_Hippocampus.weight.txt\"                    \n",
       " [9] \"Brain_Hypothalamus.weight.txt\"                   \n",
       "[10] \"Brain_Nucleus_accumbens_basal_ganglia.weight.txt\"\n",
       "[11] \"Brain_Putamen_basal_ganglia.weight.txt\"          \n",
       "[12] \"Brain_Spinal_cord_cervical_c-1.weight.txt\"       \n",
       "[13] \"Brain_Substantia_nigra.weight.txt\"               \n",
       "[14] \"Nerve_Tibial.weight.txt\"                         "
      ]
     },
     "metadata": {},
     "output_type": "display_data"
    }
   ],
   "source": [
    "tissue_vec"
   ]
  },
  {
   "cell_type": "code",
   "execution_count": 6,
   "metadata": {},
   "outputs": [
    {
     "data": {
      "text/html": [
       "'Brain_Amygdala Brain_Anterior_cingulate_cortex_BA24 Brain_Caudate_basal_ganglia Brain_Cerebellar_Hemisphere Brain_Cerebellum Brain_Cortex Brain_Frontal_Cortex_BA9 Brain_Hippocampus Brain_Hypothalamus Brain_Nucleus_accumbens_basal_ganglia Brain_Putamen_basal_ganglia Brain_Spinal_cord_cervical_c-1 Brain_Substantia_nigra Nerve_Tibial'"
      ],
      "text/latex": [
       "'Brain\\_Amygdala Brain\\_Anterior\\_cingulate\\_cortex\\_BA24 Brain\\_Caudate\\_basal\\_ganglia Brain\\_Cerebellar\\_Hemisphere Brain\\_Cerebellum Brain\\_Cortex Brain\\_Frontal\\_Cortex\\_BA9 Brain\\_Hippocampus Brain\\_Hypothalamus Brain\\_Nucleus\\_accumbens\\_basal\\_ganglia Brain\\_Putamen\\_basal\\_ganglia Brain\\_Spinal\\_cord\\_cervical\\_c-1 Brain\\_Substantia\\_nigra Nerve\\_Tibial'"
      ],
      "text/markdown": [
       "'Brain_Amygdala Brain_Anterior_cingulate_cortex_BA24 Brain_Caudate_basal_ganglia Brain_Cerebellar_Hemisphere Brain_Cerebellum Brain_Cortex Brain_Frontal_Cortex_BA9 Brain_Hippocampus Brain_Hypothalamus Brain_Nucleus_accumbens_basal_ganglia Brain_Putamen_basal_ganglia Brain_Spinal_cord_cervical_c-1 Brain_Substantia_nigra Nerve_Tibial'"
      ],
      "text/plain": [
       "[1] \"Brain_Amygdala Brain_Anterior_cingulate_cortex_BA24 Brain_Caudate_basal_ganglia Brain_Cerebellar_Hemisphere Brain_Cerebellum Brain_Cortex Brain_Frontal_Cortex_BA9 Brain_Hippocampus Brain_Hypothalamus Brain_Nucleus_accumbens_basal_ganglia Brain_Putamen_basal_ganglia Brain_Spinal_cord_cervical_c-1 Brain_Substantia_nigra Nerve_Tibial\""
      ]
     },
     "metadata": {},
     "output_type": "display_data"
    }
   ],
   "source": [
    "paste(sapply(tissue_vec, function(x) unlist(strsplit(x, split = \"\\\\.\"))[1]), collapse = \" \")"
   ]
  },
  {
   "cell_type": "code",
   "execution_count": null,
   "metadata": {},
   "outputs": [],
   "source": []
  }
 ],
 "metadata": {
  "kernelspec": {
   "display_name": "R",
   "language": "R",
   "name": "ir"
  },
  "language_info": {
   "codemirror_mode": "r",
   "file_extension": ".r",
   "mimetype": "text/x-r-source",
   "name": "R",
   "pygments_lexer": "r",
   "version": "3.5.0"
  }
 },
 "nbformat": 4,
 "nbformat_minor": 4
}
