{
 "cells": [
  {
   "cell_type": "markdown",
   "metadata": {},
   "source": [
    "### Reading dosage and info"
   ]
  },
  {
   "cell_type": "code",
   "execution_count": null,
   "metadata": {},
   "outputs": [],
   "source": []
  },
  {
   "cell_type": "code",
   "execution_count": null,
   "metadata": {},
   "outputs": [],
   "source": []
  },
  {
   "cell_type": "code",
   "execution_count": null,
   "metadata": {},
   "outputs": [],
   "source": [
    "\n"
   ]
  },
  {
   "cell_type": "code",
   "execution_count": 3,
   "metadata": {},
   "outputs": [],
   "source": [
    "# read plink data all at once\n",
    "library(genio)\n",
    "library(repr)\n",
    "#genotype_dir <- \"/gpfs/scratch60/zhao/zy92/GTEX/cis_snp/\"\n",
    "genotype_dir <- \"/ysm-gpfs/project/wl382/GTEx_v8/genotype/cis_loc/\"\n",
    "chr_num <- 2\n",
    "gene_idx <- 1\n",
    "chr_str <- paste0(\"chr\", chr_num, \"/\")\n",
    "gene_vec <- list.files(paste0(genotype_dir, chr_str))\n",
    "\n",
    "\n",
    "#gene_dir <- paste0(genotype_dir, chr_str, gene_vec[gene_idx], \"/\", gene_vec[gene_idx])\n",
    "#genotype_info <- read_plink(gene_dir)\n",
    "\n",
    "# extract genotypes and annotation tables\n",
    "#genotype   <- genotype_info$X\n",
    "#bim <- genotype_info$bim\n",
    "#fam <- genotype_info$fam"
   ]
  },
  {
   "cell_type": "code",
   "execution_count": 4,
   "metadata": {},
   "outputs": [
    {
     "name": "stderr",
     "output_type": "stream",
     "text": [
      "Reading: /ysm-gpfs/project/wl382/GTEx_v8/genotype/cis_loc/chr2/ENSG00000003137.8/ENSG00000003137.8.bim\n",
      "\n",
      "Reading: /ysm-gpfs/project/wl382/GTEx_v8/genotype/cis_loc/chr2/ENSG00000003137.8/ENSG00000003137.8.fam\n",
      "\n",
      "Reading: /ysm-gpfs/project/wl382/GTEx_v8/genotype/cis_loc/chr2/ENSG00000003137.8/ENSG00000003137.8.bed\n",
      "\n"
     ]
    },
    {
     "name": "stdout",
     "output_type": "stream",
     "text": [
      "[1] \"INFO: genotype matrix dimension:6092 * 838\"\n"
     ]
    }
   ],
   "source": [
    "extract_genotype <- function(gene_idx, chr_str, genotype_dir, gene_vec) {\n",
    "    gene_dir <- paste0(genotype_dir, chr_str, gene_vec[gene_idx], \"/\", gene_vec[gene_idx])\n",
    "    genotype_info <- read_plink(gene_dir)\n",
    "    \n",
    "    print(paste0(\"INFO: genotype matrix dimension:\", dim(genotype_info$X)[1], \" * \", dim(genotype_info$X)[2]))\n",
    "    return(genotype_info)\n",
    "}\n",
    "\n",
    "# extract genotypes and annotation tables\n",
    "genotype_info <- extract_genotype(1, chr_str, genotype_dir, gene_vec)\n",
    "genotype   <- genotype_info$X\n",
    "bim <- genotype_info$bim\n",
    "fam <- genotype_info$fam\n"
   ]
  },
  {
   "cell_type": "code",
   "execution_count": null,
   "metadata": {},
   "outputs": [],
   "source": []
  },
  {
   "cell_type": "markdown",
   "metadata": {},
   "source": [
    "### glasso test"
   ]
  },
  {
   "cell_type": "code",
   "execution_count": 3,
   "metadata": {},
   "outputs": [],
   "source": [
    "# functions\n",
    "grad_prep <- function(X, Y){\n",
    "\t## pre-calculate some metrics for gradient\n",
    "\tll = length(Y)\n",
    "\tP = ncol(X[[1]])\n",
    "\tXY = matrix(0,P,ll)\n",
    "\tfor(i in 1:ll){\n",
    "\t\tXY[,i] = t(X[[i]])%*%Y[[i]]/nrow(X[[i]])\n",
    "\t}\n",
    "\tXY\n",
    "}\n",
    "\n",
    "cv_helper <- function(N, fold){\n",
    "\tvalid_num = floor(N/fold)\n",
    "\tset.seed(123)\n",
    "\tperm = sample(1:N, size = N)\n",
    "\tidx1 = seq(1,N,valid_num)\n",
    "\tidx2 = c(idx1[-1]-1,N)\n",
    "\tlist(perm=perm, idx=cbind(idx1,idx2))\n",
    "}\n",
    "\n",
    "minmax_lambda <- function(lst){\n",
    "\tmax_lam = max(unlist(lapply(lst, function(x){max(x$lambda)})))\n",
    "\tmin_lam = min(unlist(lapply(lst, function(x){min(x$lambda)})))\n",
    "\tc(min_lam, max_lam)\n",
    "}\n",
    "\n",
    "elastic_net_mse <- function(lst, X_tune, Y_tune, X_test, Y_test){\n",
    "\tP = length(lst)\n",
    "\tM = ncol(X_tune[[1]])\n",
    "\tlam_V = rep(0, P)\n",
    "\ttest_res = list()\n",
    "\ttest_beta = matrix(0, M, P)\n",
    "\tfor(t in 1:P){\n",
    "\t\tncv = length(lst[[t]]$lambda)\n",
    "\t\ttmp_mse = rep(0, ncv)\n",
    "\t\tfor(k in 1:ncv){\n",
    "\t\t\ttmp_mse[k] = mean((Y_tune[[t]] - X_tune[[t]]%*%lst[[t]]$glmnet.fit$beta[,k])^2)\n",
    "\t\t}\n",
    "\t\tss = which.min(tmp_mse)\n",
    "\t\ttest_beta[,t] = lst[[t]]$glmnet.fit$beta[,ss]\n",
    "\t\tlam_V[t] = lst[[t]]$lambda[ss]\n",
    "\t\tpredicted = X_test[[t]]%*%lst[[t]]$glmnet.fit$beta[,ss]\n",
    "\t\ttest_res[[t]] = cbind(Y_test[[t]], predicted)\n",
    "\t}\n",
    "\tlist(lam = lam_V, mse = test_res, est = test_beta)\n",
    "}\n",
    "\n",
    "multi_mse <- function(theta_est, X_test, Y_test){\n",
    "\tanswer = list()\n",
    "\tP = ncol(theta_est)\n",
    "\tfor(t in 1:P){\n",
    "\t\tpredicted = X_test[[t]]%*%theta_est[,t]\n",
    "\t\tanswer[[t]] = cbind(Y_test[[t]], predicted)\n",
    "\t}\n",
    "\tanswer\n",
    "}\n",
    "\n",
    "avg_perm <- function(mse_lst){\n",
    "\tfd = length(mse_lst)\n",
    "\tP = length(mse_lst[[1]])\n",
    "\trsq = mse = adj_mse = matrix(0, fd, P)\n",
    "\tfor(f in 1:fd){\n",
    "\t\tfor(t in 1:P){\n",
    "\t\t\trsq[f,t] = (cor(mse_lst[[f]][[t]])[1,2])^2\n",
    "\t\t\tmse[f,t] = mean((mse_lst[[f]][[t]][,1]-mse_lst[[f]][[t]][,2])^2)\n",
    "\t\t\tadj_mse[f,t] = mse[f,t]/var(mse_lst[[f]][[t]][,1])\n",
    "\t\t}\n",
    "\t}\n",
    "\tcbind(apply(rsq, 2, mean), apply(mse, 2, mean), apply(adj_mse, 2, mean))\n",
    "\n",
    "\t#list(rsq = apply(rsq, 2, mean), mse = apply(mse, 2, mean), adj_mse = apply(adj_mse, 2, mean))\n",
    "}\n",
    "\n",
    "glasso <- function(X, Y, X1, Y1, XX, XY, Xnorm, lambda1, lambda2, theta, stepsize = 1e-4, maxiter = 250, eps = 1e-4){\n",
    "\tbgt = Sys.time()\n",
    "\tM = nrow(XY)\n",
    "\tP = length(X)\n",
    "\tNN = unlist(lapply(X, nrow))\n",
    "\told_objV1 = 0\n",
    "\tfor(t in 1:P){\n",
    "\t\told_objV1 = old_objV1 + 1/2*mean((Y[[t]]-X[[t]]%*%theta[,t])^2)\n",
    "\t}\n",
    "\tIRdisplay::display_html(paste0(\"Training error: \", old_objV1, '\\n'))\n",
    "\told_objV2 = 0\n",
    "\tfor(t in 1:P){\n",
    "\t\told_objV2 = old_objV2 + 1/2*mean((Y1[[t]]-X1[[t]]%*%theta[,t])^2)\n",
    "\t}\n",
    "\tIRdisplay::display_html(paste0(\"Testing error: \", old_objV2, '\\n'))\n",
    "\tbeta_j_lasso = rep(0, P)\n",
    "\ttmp_XYj = 0\n",
    "\tif(!is.loaded(\"wrapper\")){\n",
    "\t\tdyn.load(\"/ysm-gpfs/pi/zhao/from_louise/yh367/GTEX/codes/glasso.so\")\n",
    "\t}\n",
    "    \n",
    "\tfor(i in 1:maxiter){\n",
    "\t\tbgt = Sys.time()\n",
    "\t\tres = .Call(\"wrapper\", XX, XY, theta, M, P, beta_j_lasso, lambda1, lambda2, Xnorm)\n",
    "\t\tedt = Sys.time()\n",
    "\t\t#print(edt-bgt)\n",
    "\t\tnew_objV1 = new_objV2 = 0\n",
    "\t\tfor(t in 1:P){\n",
    "\t\t\tnew_objV1 = new_objV1 + 1/2*mean((Y[[t]]-X[[t]]%*%theta[,t])^2)\n",
    "            #IRdisplay::display_html(sum(is.na(X[[t]])))\n",
    "            #IRdisplay::display_html(sum(is.na(Y[[t]])))\n",
    "\t\t}\n",
    "\t\tIRdisplay::display_html(paste0(\"Training error: \", new_objV1, '\\n'))\n",
    "\t\tfor(t in 1:P){\n",
    "\t\t\tnew_objV2 = new_objV2 + 1/2*mean((Y1[[t]]-X1[[t]]%*%theta[,t])^2)\n",
    "            #IRdisplay::display_html(sum(is.na(X[[t]])))\n",
    "            #IRdisplay::display_html(sum(is.na(Y[[t]])))\n",
    "\t\t}\n",
    "\t\tIRdisplay::display_html(paste0(\"Testing error: \", new_objV2, '\\n'))\n",
    "\t\tif(new_objV2 > old_objV2|new_objV1 > old_objV1){\n",
    "\t\t\tbreak\n",
    "\t\t}else{\n",
    "\t\t\told_objV2 = new_objV2\n",
    "\t\t}\n",
    "\t\tif(abs(new_objV1-old_objV1) < eps){\n",
    "\t\t\tbreak\n",
    "\t\t}else{\n",
    "\t\t\told_objV1 = new_objV1\n",
    "\t\t}\n",
    "\t}\n",
    "\t#edt = Sys.time()\n",
    "\t#print(edt-bgt)\n",
    "\tlist(est = theta, tune_err = new_objV2)\n",
    "}\n",
    "\n",
    "glasso_no_early_stopping <- function(X, Y, XX, XY, Xnorm, lambda1, lambda2, theta, stepsize = 1e-4, maxiter = 250, eps = 1e-3){\n",
    "\tM = nrow(XY)\n",
    "\tP = length(X)\n",
    "\tNN = unlist(lapply(X, nrow))\n",
    "\told_objV1 = 0\n",
    "\tfor(t in 1:P){\n",
    "\t\told_objV1 = old_objV1 + 1/2*mean((Y[[t]]-X[[t]]%*%theta[,t])^2)\n",
    "\t}\n",
    "\tIRdisplay::display_html(paste0(\"Training error: \", old_objV1, '\\n'))\n",
    "\tbeta_j_lasso = rep(0, P)\n",
    "\ttmp_XYj = 0\n",
    "\tif(!is.loaded(\"wrapper\")){\n",
    "\t\tdyn.load(\"/ysm-gpfs/pi/zhao/from_louise/yh367/GTEX/codes/glasso.so\")\n",
    "\t}\n",
    "\tfor(i in 1:maxiter){\n",
    "\t\tres = .Call(\"wrapper\", XX, XY, theta, M, P, beta_j_lasso, lambda1, lambda2, Xnorm)\n",
    "\t\tnew_objV1 = 0\n",
    "\t\tfor(t in 1:P){\n",
    "\t\t\tnew_objV1 = new_objV1 + 1/2*mean((Y[[t]]-X[[t]]%*%theta[,t])^2)\n",
    "\t\t}\n",
    "\t\tIRdisplay::display_html(paste0(\"Training error: \", new_objV1, '\\n'))\n",
    "\t\tif(abs(new_objV1-old_objV1) < eps|new_objV1 > old_objV1){\n",
    "\t\t\tbreak\n",
    "\t\t}else{\n",
    "\t\t\told_objV1 = new_objV1\n",
    "\t\t}\n",
    "\t}\n",
    "\tlist(est = theta, train_err = new_objV1)\n",
    "}"
   ]
  },
  {
   "cell_type": "code",
   "execution_count": 4,
   "metadata": {},
   "outputs": [
    {
     "name": "stderr",
     "output_type": "stream",
     "text": [
      "Loading required package: Matrix\n",
      "\n",
      "Loading required package: foreach\n",
      "\n",
      "Loaded glmnet 2.0-13\n",
      "\n",
      "\n"
     ]
    }
   ],
   "source": [
    "### command line input ###\n",
    "# chr = as.numeric(args[1])\n",
    "# k = as.numeric(args[2])\n",
    "# gene_id = args[3]\n",
    "### data import ###\n",
    "options(stringsAsFactors=F)\n",
    "library(glmnet)\n",
    "library(foreach)\n",
    "library(genio)\n",
    "ntune = 100\n",
    "\n",
    "genotype_dir <- \"/ysm-gpfs/project/wl382/GTEx_v8/genotype/cis_loc/\"\n",
    "chr <- 2\n",
    "gene_idx <- 1\n",
    "chr_str <- paste0(\"chr\", chr, \"/\")\n",
    "gene_vec <- list.files(paste0(genotype_dir, chr_str))\n",
    "gene_id = gene_vec[gene_idx]\n",
    "gtex_dir = \"/gpfs/loomis/project/zhao/zy92/GTEX/\" \n",
    "glist = dir(paste0(gtex_dir, \"adjusted_expr/chr\", chr))\n",
    "g = glist[gene_idx]\n",
    "\n",
    "### format for dose and info\n",
    "# dose:\n",
    "# GTEX-P4PP-0004-SM-2H2WW->GTEX-P4PP-0004-SM-2H2WW        DOSE    0.000   0.014   0.000   0.000   0.000\n",
    "# info:\n",
    "# SNP     REF(0)  ALT(1)  ALT_Frq MAF     AvgCall Rsq     Genotyped       LooRsq  EmpR    EmpRsq  Dose0   Dose1\n",
    "# 1_157695412_G_A_b37     G       A       -               -       -       Typed_Only      -       -\n",
    "#       -       -       -\n",
    "\n",
    "dose_path = paste0(genotype_dir, chr_str, gene_id, \"/\", gene_id)\n",
    "#info_path = paste0(gtex_dir, \"cis_snp/chr\", chr, \"/\", g, \"/\", g, \".mach.info\")\n",
    "Yt = dir(paste0(gtex_dir, \"adjusted_expr/\", chr_str, g, \"/\"))\n",
    "P = length(Yt)\n",
    "\n",
    "output_dir = \"/gpfs/loomis/project/zhao/zy92/GTEX/output/\" "
   ]
  },
  {
   "cell_type": "code",
   "execution_count": 5,
   "metadata": {},
   "outputs": [
    {
     "data": {
      "text/html": [
       "'/gpfs/loomis/project/zhao/zy92/GTEX/adjusted_expr/chr2/ENSG00000003137/'"
      ],
      "text/latex": [
       "'/gpfs/loomis/project/zhao/zy92/GTEX/adjusted\\_expr/chr2/ENSG00000003137/'"
      ],
      "text/markdown": [
       "'/gpfs/loomis/project/zhao/zy92/GTEX/adjusted_expr/chr2/ENSG00000003137/'"
      ],
      "text/plain": [
       "[1] \"/gpfs/loomis/project/zhao/zy92/GTEX/adjusted_expr/chr2/ENSG00000003137/\""
      ]
     },
     "metadata": {},
     "output_type": "display_data"
    },
    {
     "data": {
      "text/html": [
       "49"
      ],
      "text/latex": [
       "49"
      ],
      "text/markdown": [
       "49"
      ],
      "text/plain": [
       "[1] 49"
      ]
     },
     "metadata": {},
     "output_type": "display_data"
    }
   ],
   "source": [
    "paste0(gtex_dir, \"adjusted_expr/\", chr_str, g, \"/\")\n",
    "length(dir(paste0(gtex_dir, \"adjusted_expr/\", chr_str, g, \"/\")))"
   ]
  },
  {
   "cell_type": "code",
   "execution_count": 6,
   "metadata": {},
   "outputs": [
    {
     "data": {
      "text/html": [
       "<table>\n",
       "<caption>A matrix: 6 × 6 of type int</caption>\n",
       "<thead>\n",
       "\t<tr><th></th><th scope=col>GTEX-1117F</th><th scope=col>GTEX-111CU</th><th scope=col>GTEX-111FC</th><th scope=col>GTEX-111VG</th><th scope=col>GTEX-111YS</th><th scope=col>GTEX-1122O</th></tr>\n",
       "</thead>\n",
       "<tbody>\n",
       "\t<tr><th scope=row>chr2_71129368_C_T_b38</th><td>0</td><td>0</td><td>0</td><td>0</td><td>0</td><td>0</td></tr>\n",
       "\t<tr><th scope=row>chr2_71129592_A_T_b38</th><td>0</td><td>0</td><td>0</td><td>1</td><td>0</td><td>0</td></tr>\n",
       "\t<tr><th scope=row>chr2_71130065_C_A_b38</th><td>0</td><td>0</td><td>0</td><td>0</td><td>0</td><td>0</td></tr>\n",
       "\t<tr><th scope=row>chr2_71130287_C_A_b38</th><td>2</td><td>1</td><td>0</td><td>0</td><td>0</td><td>0</td></tr>\n",
       "\t<tr><th scope=row>chr2_71130375_C_T_b38</th><td>0</td><td>0</td><td>0</td><td>0</td><td>0</td><td>0</td></tr>\n",
       "\t<tr><th scope=row>chr2_71130504_C_T_b38</th><td>2</td><td>1</td><td>0</td><td>0</td><td>0</td><td>0</td></tr>\n",
       "</tbody>\n",
       "</table>\n"
      ],
      "text/latex": [
       "A matrix: 6 × 6 of type int\n",
       "\\begin{tabular}{r|llllll}\n",
       "  & GTEX-1117F & GTEX-111CU & GTEX-111FC & GTEX-111VG & GTEX-111YS & GTEX-1122O\\\\\n",
       "\\hline\n",
       "\tchr2\\_71129368\\_C\\_T\\_b38 & 0 & 0 & 0 & 0 & 0 & 0\\\\\n",
       "\tchr2\\_71129592\\_A\\_T\\_b38 & 0 & 0 & 0 & 1 & 0 & 0\\\\\n",
       "\tchr2\\_71130065\\_C\\_A\\_b38 & 0 & 0 & 0 & 0 & 0 & 0\\\\\n",
       "\tchr2\\_71130287\\_C\\_A\\_b38 & 2 & 1 & 0 & 0 & 0 & 0\\\\\n",
       "\tchr2\\_71130375\\_C\\_T\\_b38 & 0 & 0 & 0 & 0 & 0 & 0\\\\\n",
       "\tchr2\\_71130504\\_C\\_T\\_b38 & 2 & 1 & 0 & 0 & 0 & 0\\\\\n",
       "\\end{tabular}\n"
      ],
      "text/markdown": [
       "\n",
       "A matrix: 6 × 6 of type int\n",
       "\n",
       "| <!--/--> | GTEX-1117F | GTEX-111CU | GTEX-111FC | GTEX-111VG | GTEX-111YS | GTEX-1122O |\n",
       "|---|---|---|---|---|---|---|\n",
       "| chr2_71129368_C_T_b38 | 0 | 0 | 0 | 0 | 0 | 0 |\n",
       "| chr2_71129592_A_T_b38 | 0 | 0 | 0 | 1 | 0 | 0 |\n",
       "| chr2_71130065_C_A_b38 | 0 | 0 | 0 | 0 | 0 | 0 |\n",
       "| chr2_71130287_C_A_b38 | 2 | 1 | 0 | 0 | 0 | 0 |\n",
       "| chr2_71130375_C_T_b38 | 0 | 0 | 0 | 0 | 0 | 0 |\n",
       "| chr2_71130504_C_T_b38 | 2 | 1 | 0 | 0 | 0 | 0 |\n",
       "\n"
      ],
      "text/plain": [
       "                      GTEX-1117F GTEX-111CU GTEX-111FC GTEX-111VG GTEX-111YS\n",
       "chr2_71129368_C_T_b38 0          0          0          0          0         \n",
       "chr2_71129592_A_T_b38 0          0          0          1          0         \n",
       "chr2_71130065_C_A_b38 0          0          0          0          0         \n",
       "chr2_71130287_C_A_b38 2          1          0          0          0         \n",
       "chr2_71130375_C_T_b38 0          0          0          0          0         \n",
       "chr2_71130504_C_T_b38 2          1          0          0          0         \n",
       "                      GTEX-1122O\n",
       "chr2_71129368_C_T_b38 0         \n",
       "chr2_71129592_A_T_b38 0         \n",
       "chr2_71130065_C_A_b38 0         \n",
       "chr2_71130287_C_A_b38 0         \n",
       "chr2_71130375_C_T_b38 0         \n",
       "chr2_71130504_C_T_b38 0         "
      ]
     },
     "metadata": {},
     "output_type": "display_data"
    }
   ],
   "source": [
    "genotype_info$X[1:6, 1:6]"
   ]
  },
  {
   "cell_type": "code",
   "execution_count": 7,
   "metadata": {},
   "outputs": [],
   "source": [
    "fold = 5\n",
    "cv_config = cv_helper(450, fold)\n",
    "#cv_config"
   ]
  },
  {
   "cell_type": "code",
   "execution_count": 8,
   "metadata": {},
   "outputs": [
    {
     "data": {
      "text/html": [
       "'/gpfs/loomis/project/zhao/zy92/GTEX/output/'"
      ],
      "text/latex": [
       "'/gpfs/loomis/project/zhao/zy92/GTEX/output/'"
      ],
      "text/markdown": [
       "'/gpfs/loomis/project/zhao/zy92/GTEX/output/'"
      ],
      "text/plain": [
       "[1] \"/gpfs/loomis/project/zhao/zy92/GTEX/output/\""
      ]
     },
     "metadata": {},
     "output_type": "display_data"
    }
   ],
   "source": [
    "output_dir = \"/gpfs/loomis/project/zhao/zy92/GTEX/output/\" \n",
    "output_dir"
   ]
  },
  {
   "cell_type": "code",
   "execution_count": 9,
   "metadata": {},
   "outputs": [],
   "source": [
    "# create dirs\n",
    "dir.create(paste0(output_dir, \"chr\", chr), showWarnings = FALSE)\n",
    "dir.create(paste0(output_dir, \"chr\", chr, \"/\", gene_id), showWarnings = FALSE)\n",
    "setwd(paste0(output_dir, \"chr\", chr, \"/\", gene_id))\n",
    "\n",
    "# expr files #\n",
    "Y = list()\n",
    "for(t in 1:P){\n",
    "    Y[[t]] = read.table(paste0(gtex_dir, \"adjusted_expr/chr\", chr, \"/\", g, \"/\", Yt[t]), header=F)\n",
    "}\n",
    "ssize = unlist(lapply(Y, nrow))\n",
    "T_num = length(Yt)"
   ]
  },
  {
   "cell_type": "code",
   "execution_count": 10,
   "metadata": {},
   "outputs": [
    {
     "data": {
      "text/html": [
       "<style>\n",
       ".list-inline {list-style: none; margin:0; padding: 0}\n",
       ".list-inline>li {display: inline-block}\n",
       ".list-inline>li:not(:last-child)::after {content: \"\\00b7\"; padding: 0 .5ex}\n",
       "</style>\n",
       "<ol class=list-inline><li>581</li><li>2</li></ol>\n"
      ],
      "text/latex": [
       "\\begin{enumerate*}\n",
       "\\item 581\n",
       "\\item 2\n",
       "\\end{enumerate*}\n"
      ],
      "text/markdown": [
       "1. 581\n",
       "2. 2\n",
       "\n",
       "\n"
      ],
      "text/plain": [
       "[1] 581   2"
      ]
     },
     "metadata": {},
     "output_type": "display_data"
    },
    {
     "data": {
      "text/html": [
       "<table>\n",
       "<caption>A data.frame: 6 × 2</caption>\n",
       "<thead>\n",
       "\t<tr><th></th><th scope=col>V1</th><th scope=col>V2</th></tr>\n",
       "\t<tr><th></th><th scope=col>&lt;chr&gt;</th><th scope=col>&lt;dbl&gt;</th></tr>\n",
       "</thead>\n",
       "<tbody>\n",
       "\t<tr><th scope=row>1</th><td>GTEX-1117F-0226-SM-5GZZ7</td><td>  4.0936066</td></tr>\n",
       "\t<tr><th scope=row>2</th><td>GTEX-111CU-1826-SM-5GZYN</td><td> -1.0074211</td></tr>\n",
       "\t<tr><th scope=row>3</th><td>GTEX-111FC-0226-SM-5N9B8</td><td> -0.4055381</td></tr>\n",
       "\t<tr><th scope=row>4</th><td>GTEX-111VG-2326-SM-5N9BK</td><td> -2.0799690</td></tr>\n",
       "\t<tr><th scope=row>5</th><td>GTEX-111YS-2426-SM-5GZZQ</td><td> -1.2280953</td></tr>\n",
       "\t<tr><th scope=row>6</th><td>GTEX-1122O-2026-SM-9YFMG</td><td>-12.2196476</td></tr>\n",
       "</tbody>\n",
       "</table>\n"
      ],
      "text/latex": [
       "A data.frame: 6 × 2\n",
       "\\begin{tabular}{r|ll}\n",
       "  & V1 & V2\\\\\n",
       "  & <chr> & <dbl>\\\\\n",
       "\\hline\n",
       "\t1 & GTEX-1117F-0226-SM-5GZZ7 &   4.0936066\\\\\n",
       "\t2 & GTEX-111CU-1826-SM-5GZYN &  -1.0074211\\\\\n",
       "\t3 & GTEX-111FC-0226-SM-5N9B8 &  -0.4055381\\\\\n",
       "\t4 & GTEX-111VG-2326-SM-5N9BK &  -2.0799690\\\\\n",
       "\t5 & GTEX-111YS-2426-SM-5GZZQ &  -1.2280953\\\\\n",
       "\t6 & GTEX-1122O-2026-SM-9YFMG & -12.2196476\\\\\n",
       "\\end{tabular}\n"
      ],
      "text/markdown": [
       "\n",
       "A data.frame: 6 × 2\n",
       "\n",
       "| <!--/--> | V1 &lt;chr&gt; | V2 &lt;dbl&gt; |\n",
       "|---|---|---|\n",
       "| 1 | GTEX-1117F-0226-SM-5GZZ7 |   4.0936066 |\n",
       "| 2 | GTEX-111CU-1826-SM-5GZYN |  -1.0074211 |\n",
       "| 3 | GTEX-111FC-0226-SM-5N9B8 |  -0.4055381 |\n",
       "| 4 | GTEX-111VG-2326-SM-5N9BK |  -2.0799690 |\n",
       "| 5 | GTEX-111YS-2426-SM-5GZZQ |  -1.2280953 |\n",
       "| 6 | GTEX-1122O-2026-SM-9YFMG | -12.2196476 |\n",
       "\n"
      ],
      "text/plain": [
       "  V1                       V2         \n",
       "1 GTEX-1117F-0226-SM-5GZZ7   4.0936066\n",
       "2 GTEX-111CU-1826-SM-5GZYN  -1.0074211\n",
       "3 GTEX-111FC-0226-SM-5N9B8  -0.4055381\n",
       "4 GTEX-111VG-2326-SM-5N9BK  -2.0799690\n",
       "5 GTEX-111YS-2426-SM-5GZZQ  -1.2280953\n",
       "6 GTEX-1122O-2026-SM-9YFMG -12.2196476"
      ]
     },
     "metadata": {},
     "output_type": "display_data"
    },
    {
     "data": {
      "text/html": [
       "<style>\n",
       ".list-inline {list-style: none; margin:0; padding: 0}\n",
       ".list-inline>li {display: inline-block}\n",
       ".list-inline>li:not(:last-child)::after {content: \"\\00b7\"; padding: 0 .5ex}\n",
       "</style>\n",
       "<ol class=list-inline><li>469</li><li>2</li></ol>\n"
      ],
      "text/latex": [
       "\\begin{enumerate*}\n",
       "\\item 469\n",
       "\\item 2\n",
       "\\end{enumerate*}\n"
      ],
      "text/markdown": [
       "1. 469\n",
       "2. 2\n",
       "\n",
       "\n"
      ],
      "text/plain": [
       "[1] 469   2"
      ]
     },
     "metadata": {},
     "output_type": "display_data"
    },
    {
     "data": {
      "text/html": [
       "<table>\n",
       "<caption>A data.frame: 6 × 2</caption>\n",
       "<thead>\n",
       "\t<tr><th></th><th scope=col>V1</th><th scope=col>V2</th></tr>\n",
       "\t<tr><th></th><th scope=col>&lt;chr&gt;</th><th scope=col>&lt;dbl&gt;</th></tr>\n",
       "</thead>\n",
       "<tbody>\n",
       "\t<tr><th scope=row>1</th><td>GTEX-1117F-1326-SM-5EGHH</td><td> -0.3940534</td></tr>\n",
       "\t<tr><th scope=row>2</th><td>GTEX-111CU-1026-SM-5EGIL</td><td> -4.1389252</td></tr>\n",
       "\t<tr><th scope=row>3</th><td>GTEX-111YS-1326-SM-5EGGK</td><td>  5.4606376</td></tr>\n",
       "\t<tr><th scope=row>4</th><td>GTEX-1122O-0926-SM-9YFLC</td><td>-10.4655364</td></tr>\n",
       "\t<tr><th scope=row>5</th><td>GTEX-1128S-0926-SM-5GZZU</td><td> 12.5853893</td></tr>\n",
       "\t<tr><th scope=row>6</th><td>GTEX-113JC-0726-SM-5GZZR</td><td> -6.0499574</td></tr>\n",
       "</tbody>\n",
       "</table>\n"
      ],
      "text/latex": [
       "A data.frame: 6 × 2\n",
       "\\begin{tabular}{r|ll}\n",
       "  & V1 & V2\\\\\n",
       "  & <chr> & <dbl>\\\\\n",
       "\\hline\n",
       "\t1 & GTEX-1117F-1326-SM-5EGHH &  -0.3940534\\\\\n",
       "\t2 & GTEX-111CU-1026-SM-5EGIL &  -4.1389252\\\\\n",
       "\t3 & GTEX-111YS-1326-SM-5EGGK &   5.4606376\\\\\n",
       "\t4 & GTEX-1122O-0926-SM-9YFLC & -10.4655364\\\\\n",
       "\t5 & GTEX-1128S-0926-SM-5GZZU &  12.5853893\\\\\n",
       "\t6 & GTEX-113JC-0726-SM-5GZZR &  -6.0499574\\\\\n",
       "\\end{tabular}\n"
      ],
      "text/markdown": [
       "\n",
       "A data.frame: 6 × 2\n",
       "\n",
       "| <!--/--> | V1 &lt;chr&gt; | V2 &lt;dbl&gt; |\n",
       "|---|---|---|\n",
       "| 1 | GTEX-1117F-1326-SM-5EGHH |  -0.3940534 |\n",
       "| 2 | GTEX-111CU-1026-SM-5EGIL |  -4.1389252 |\n",
       "| 3 | GTEX-111YS-1326-SM-5EGGK |   5.4606376 |\n",
       "| 4 | GTEX-1122O-0926-SM-9YFLC | -10.4655364 |\n",
       "| 5 | GTEX-1128S-0926-SM-5GZZU |  12.5853893 |\n",
       "| 6 | GTEX-113JC-0726-SM-5GZZR |  -6.0499574 |\n",
       "\n"
      ],
      "text/plain": [
       "  V1                       V2         \n",
       "1 GTEX-1117F-1326-SM-5EGHH  -0.3940534\n",
       "2 GTEX-111CU-1026-SM-5EGIL  -4.1389252\n",
       "3 GTEX-111YS-1326-SM-5EGGK   5.4606376\n",
       "4 GTEX-1122O-0926-SM-9YFLC -10.4655364\n",
       "5 GTEX-1128S-0926-SM-5GZZU  12.5853893\n",
       "6 GTEX-113JC-0726-SM-5GZZR  -6.0499574"
      ]
     },
     "metadata": {},
     "output_type": "display_data"
    }
   ],
   "source": [
    "dim(Y[[1]])\n",
    "head(Y[[1]])\n",
    "dim(Y[[2]])\n",
    "head(Y[[2]])\n"
   ]
  },
  {
   "cell_type": "code",
   "execution_count": 11,
   "metadata": {},
   "outputs": [
    {
     "name": "stderr",
     "output_type": "stream",
     "text": [
      "Reading: /ysm-gpfs/project/wl382/GTEx_v8/genotype/cis_loc/chr2/ENSG00000003137.8/ENSG00000003137.8.bim\n",
      "\n",
      "Reading: /ysm-gpfs/project/wl382/GTEx_v8/genotype/cis_loc/chr2/ENSG00000003137.8/ENSG00000003137.8.fam\n",
      "\n",
      "Reading: /ysm-gpfs/project/wl382/GTEx_v8/genotype/cis_loc/chr2/ENSG00000003137.8/ENSG00000003137.8.bed\n",
      "\n"
     ]
    },
    {
     "name": "stdout",
     "output_type": "stream",
     "text": [
      "[1] \"INFO: section A\"\n"
     ]
    }
   ],
   "source": [
    "## genotype files ##\n",
    "\t\n",
    "    genotype_info <- read_plink(dose_path)\n",
    "    dose = genotype_info$X\n",
    "    dose_std = dose\n",
    "\tfor(j in 1:nrow(dose)){\n",
    "\t\tdose_std[j, is.na(dose[j, ])] <- mean(dose[j, ], na.rm = T)\n",
    "        dose_std[j, ] <- dose_std[j, ] - mean(dose[j, ], na.rm = T)\n",
    "\t}\n",
    "\tprint(\"INFO: section A\")\n",
    "\t## covariance matrix ##\n",
    "    n_sample = ncol(dose_std)\n",
    "\ttmp = as.matrix(dose_std)\n",
    "\tXX = t(tmp)%*%as.matrix(tmp)/n_sample\n",
    "\tXnorm = diag(XX)\n",
    "\tremove(tmp)\n",
    "    remove(XX)\n",
    "\tsub_id = colnames(dose_std)\n",
    "\tM = nrow(dose_std)\n",
    "\tsub_id_map = list()\n",
    "    sub_id_map_exp = list()\n",
    "\tfor(t in 1:T_num){\n",
    "    #for(t in 1:1){\n",
    "\t\t#tmp = rep(0, nrow(Y[[t]]))\n",
    "        exp_id <- as.character(sapply(Y[[t]][,1], function(x) substr(x, 1, 10)))\n",
    "        #print(head(exp_id))\n",
    "        # index of ids that have matched genotypes \n",
    "        # exp_id based on order of exp_id\n",
    "        match_id <- match(exp_id, sub_id)\n",
    "\t\tsub_id_map[[t]] <- na.omit(match_id)\n",
    "        sub_id_map_exp[[t]] <- !is.na(match_id)  \n",
    "        #print(length(sub_id_map[[t]]))\n",
    "        #print(sum(sub_id_map_exp[[t]]))\n",
    "        #for(j in 1:length(tmp)){\n",
    "            # extract the id starting GTEX-xxxxx\n",
    "            \n",
    "\t\t\t#tmp[j] = which(sub_id==exp_id)\n",
    "\t\t#}\n",
    "\t\t#sub_id_map[[t]] = tmp\n",
    "\t}"
   ]
  },
  {
   "cell_type": "code",
   "execution_count": 12,
   "metadata": {},
   "outputs": [
    {
     "name": "stdout",
     "output_type": "stream",
     "text": [
      "[1] \"INFO: section B\"\n"
     ]
    }
   ],
   "source": [
    "fold = 5\n",
    "print(\"INFO: section B\")\n",
    "cv_config = cv_helper(n_sample, fold)\n",
    "cv_perm = cv_config$perm\n",
    "cv_idx = cv_config$idx\n",
    "\n",
    "single_res_test = list()\n",
    "single_lam = matrix(0,5,P)\n",
    "single_theta_est = list()\n",
    "\n",
    "multi_res_test = list()\n",
    "multi_lam = rep(0,5)\n",
    "multi_theta_est = list()"
   ]
  },
  {
   "cell_type": "code",
   "execution_count": 13,
   "metadata": {},
   "outputs": [
    {
     "data": {
      "text/html": [
       "INFO: fold 1"
      ]
     },
     "metadata": {},
     "output_type": "display_data"
    },
    {
     "data": {
      "text/html": [
       "INFO: glmnet cv tissue1"
      ]
     },
     "metadata": {},
     "output_type": "display_data"
    },
    {
     "data": {
      "text/html": [
       "INFO: glmnet cv tissue2"
      ]
     },
     "metadata": {},
     "output_type": "display_data"
    },
    {
     "data": {
      "text/html": [
       "INFO: glmnet cv tissue3"
      ]
     },
     "metadata": {},
     "output_type": "display_data"
    },
    {
     "data": {
      "text/html": [
       "INFO: glmnet cv tissue4"
      ]
     },
     "metadata": {},
     "output_type": "display_data"
    },
    {
     "data": {
      "text/html": [
       "INFO: glmnet cv tissue5"
      ]
     },
     "metadata": {},
     "output_type": "display_data"
    },
    {
     "data": {
      "text/html": [
       "INFO: glmnet cv tissue6"
      ]
     },
     "metadata": {},
     "output_type": "display_data"
    },
    {
     "data": {
      "text/html": [
       "INFO: glmnet cv tissue7"
      ]
     },
     "metadata": {},
     "output_type": "display_data"
    },
    {
     "data": {
      "text/html": [
       "INFO: glmnet cv tissue8"
      ]
     },
     "metadata": {},
     "output_type": "display_data"
    },
    {
     "data": {
      "text/html": [
       "INFO: glmnet cv tissue9"
      ]
     },
     "metadata": {},
     "output_type": "display_data"
    },
    {
     "data": {
      "text/html": [
       "INFO: glmnet cv tissue10"
      ]
     },
     "metadata": {},
     "output_type": "display_data"
    },
    {
     "data": {
      "text/html": [
       "INFO: glmnet cv tissue11"
      ]
     },
     "metadata": {},
     "output_type": "display_data"
    },
    {
     "data": {
      "text/html": [
       "INFO: glmnet cv tissue12"
      ]
     },
     "metadata": {},
     "output_type": "display_data"
    },
    {
     "data": {
      "text/html": [
       "INFO: glmnet cv tissue13"
      ]
     },
     "metadata": {},
     "output_type": "display_data"
    },
    {
     "data": {
      "text/html": [
       "INFO: glmnet cv tissue14"
      ]
     },
     "metadata": {},
     "output_type": "display_data"
    },
    {
     "data": {
      "text/html": [
       "INFO: glmnet cv tissue15"
      ]
     },
     "metadata": {},
     "output_type": "display_data"
    },
    {
     "data": {
      "text/html": [
       "INFO: glmnet cv tissue16"
      ]
     },
     "metadata": {},
     "output_type": "display_data"
    },
    {
     "data": {
      "text/html": [
       "INFO: glmnet cv tissue17"
      ]
     },
     "metadata": {},
     "output_type": "display_data"
    },
    {
     "data": {
      "text/html": [
       "INFO: glmnet cv tissue18"
      ]
     },
     "metadata": {},
     "output_type": "display_data"
    },
    {
     "data": {
      "text/html": [
       "INFO: glmnet cv tissue19"
      ]
     },
     "metadata": {},
     "output_type": "display_data"
    },
    {
     "data": {
      "text/html": [
       "INFO: glmnet cv tissue20"
      ]
     },
     "metadata": {},
     "output_type": "display_data"
    },
    {
     "data": {
      "text/html": [
       "INFO: glmnet cv tissue21"
      ]
     },
     "metadata": {},
     "output_type": "display_data"
    },
    {
     "data": {
      "text/html": [
       "INFO: glmnet cv tissue22"
      ]
     },
     "metadata": {},
     "output_type": "display_data"
    },
    {
     "data": {
      "text/html": [
       "INFO: glmnet cv tissue23"
      ]
     },
     "metadata": {},
     "output_type": "display_data"
    },
    {
     "data": {
      "text/html": [
       "INFO: glmnet cv tissue24"
      ]
     },
     "metadata": {},
     "output_type": "display_data"
    },
    {
     "data": {
      "text/html": [
       "INFO: glmnet cv tissue25"
      ]
     },
     "metadata": {},
     "output_type": "display_data"
    },
    {
     "data": {
      "text/html": [
       "INFO: glmnet cv tissue26"
      ]
     },
     "metadata": {},
     "output_type": "display_data"
    },
    {
     "data": {
      "text/html": [
       "INFO: glmnet cv tissue27"
      ]
     },
     "metadata": {},
     "output_type": "display_data"
    },
    {
     "data": {
      "text/html": [
       "INFO: glmnet cv tissue28"
      ]
     },
     "metadata": {},
     "output_type": "display_data"
    },
    {
     "data": {
      "text/html": [
       "INFO: glmnet cv tissue29"
      ]
     },
     "metadata": {},
     "output_type": "display_data"
    },
    {
     "data": {
      "text/html": [
       "INFO: glmnet cv tissue30"
      ]
     },
     "metadata": {},
     "output_type": "display_data"
    },
    {
     "data": {
      "text/html": [
       "INFO: glmnet cv tissue31"
      ]
     },
     "metadata": {},
     "output_type": "display_data"
    },
    {
     "data": {
      "text/html": [
       "INFO: glmnet cv tissue32"
      ]
     },
     "metadata": {},
     "output_type": "display_data"
    },
    {
     "data": {
      "text/html": [
       "INFO: glmnet cv tissue33"
      ]
     },
     "metadata": {},
     "output_type": "display_data"
    },
    {
     "data": {
      "text/html": [
       "INFO: glmnet cv tissue34"
      ]
     },
     "metadata": {},
     "output_type": "display_data"
    },
    {
     "data": {
      "text/html": [
       "INFO: glmnet cv tissue35"
      ]
     },
     "metadata": {},
     "output_type": "display_data"
    },
    {
     "data": {
      "text/html": [
       "INFO: glmnet cv tissue36"
      ]
     },
     "metadata": {},
     "output_type": "display_data"
    },
    {
     "data": {
      "text/html": [
       "INFO: glmnet cv tissue37"
      ]
     },
     "metadata": {},
     "output_type": "display_data"
    },
    {
     "data": {
      "text/html": [
       "INFO: glmnet cv tissue38"
      ]
     },
     "metadata": {},
     "output_type": "display_data"
    },
    {
     "data": {
      "text/html": [
       "INFO: glmnet cv tissue39"
      ]
     },
     "metadata": {},
     "output_type": "display_data"
    },
    {
     "data": {
      "text/html": [
       "INFO: glmnet cv tissue40"
      ]
     },
     "metadata": {},
     "output_type": "display_data"
    },
    {
     "data": {
      "text/html": [
       "INFO: glmnet cv tissue41"
      ]
     },
     "metadata": {},
     "output_type": "display_data"
    },
    {
     "data": {
      "text/html": [
       "INFO: glmnet cv tissue42"
      ]
     },
     "metadata": {},
     "output_type": "display_data"
    },
    {
     "data": {
      "text/html": [
       "INFO: glmnet cv tissue43"
      ]
     },
     "metadata": {},
     "output_type": "display_data"
    },
    {
     "data": {
      "text/html": [
       "INFO: glmnet cv tissue44"
      ]
     },
     "metadata": {},
     "output_type": "display_data"
    },
    {
     "data": {
      "text/html": [
       "INFO: glmnet cv tissue45"
      ]
     },
     "metadata": {},
     "output_type": "display_data"
    },
    {
     "data": {
      "text/html": [
       "INFO: glmnet cv tissue46"
      ]
     },
     "metadata": {},
     "output_type": "display_data"
    },
    {
     "data": {
      "text/html": [
       "INFO: glmnet cv tissue47"
      ]
     },
     "metadata": {},
     "output_type": "display_data"
    },
    {
     "data": {
      "text/html": [
       "INFO: glmnet cv tissue48"
      ]
     },
     "metadata": {},
     "output_type": "display_data"
    },
    {
     "data": {
      "text/html": [
       "INFO: glmnet cv tissue49"
      ]
     },
     "metadata": {},
     "output_type": "display_data"
    },
    {
     "data": {
      "text/html": [
       "INFO: tuning "
      ]
     },
     "metadata": {},
     "output_type": "display_data"
    },
    {
     "data": {
      "text/html": [
       "Training error: 787.928110082842\n"
      ]
     },
     "metadata": {},
     "output_type": "display_data"
    },
    {
     "data": {
      "text/html": [
       "Testing error: 989.803739515436\n"
      ]
     },
     "metadata": {},
     "output_type": "display_data"
    },
    {
     "data": {
      "text/html": [
       "Training error: NaN\n"
      ]
     },
     "metadata": {},
     "output_type": "display_data"
    },
    {
     "data": {
      "text/html": [
       "Testing error: NaN\n"
      ]
     },
     "metadata": {},
     "output_type": "display_data"
    },
    {
     "ename": "ERROR",
     "evalue": "Error in if (new_objV2 > old_objV2 | new_objV1 > old_objV1) {: missing value where TRUE/FALSE needed\n",
     "output_type": "error",
     "traceback": [
      "Error in if (new_objV2 > old_objV2 | new_objV1 > old_objV1) {: missing value where TRUE/FALSE needed\nTraceback:\n",
      "1. glasso(X = X_train, Y = Y_train, X1 = X_tune, Y1 = Y_tune, XX = XX_train, \n .     XY = XY, Xnorm = Xnorm, lambda1 = lam_V[lam], lambda2 = lam_V[lam], \n .     theta = single_est)"
     ]
    }
   ],
   "source": [
    "#for(f in 1:fold){\n",
    "for(f in 1:1){\n",
    "    # one fold \n",
    "    bgt = Sys.time()\n",
    "    IRdisplay::display_html(paste0(\"INFO: fold \", f))\n",
    "    test_index = cv_perm[cv_idx[f,1]:cv_idx[f,2]]\n",
    "    test_id = sub_id[test_index]\n",
    "\n",
    "    # move the tuning idx to another idx block\n",
    "    tuning_index = cv_perm[cv_idx[f%%fold+1,1]:cv_idx[f%%fold+1,2]]\n",
    "    tuning_id = sub_id[tuning_index]\n",
    "\n",
    "    # idx list\n",
    "    X_test = list()\n",
    "    Y_test = list()\n",
    "    X_tune = list()\n",
    "    Y_tune = list()\n",
    "    X_train = list()\n",
    "    Y_train = list()\n",
    "    for(t in 1:T_num){\n",
    "        # idx matching  \n",
    "        id_filter = !(sub_id_map[[t]]%in%c(test_index,tuning_index))\n",
    "        X_train_tmp = sub_id_map[[t]][id_filter]\n",
    "        Y_train_tmp = which(sub_id_map_exp[[t]] == T)[id_filter]\n",
    "        tuning_id_filter = sub_id_map[[t]]%in%tuning_index\n",
    "        X_tuning_tmp = sub_id_map[[t]][tuning_id_filter]\n",
    "        Y_tuning_tmp = which(sub_id_map_exp[[t]] == T)[tuning_id_filter]\n",
    "        testing_id_filter = sub_id_map[[t]]%in%test_index\n",
    "        X_test_tmp = sub_id_map[[t]][testing_id_filter]\n",
    "        Y_test_tmp = which(sub_id_map_exp[[t]] == T)[testing_id_filter]\n",
    "        # training data\n",
    "        X_train[[t]] = apply(as.matrix(dose_std[,X_train_tmp]),1,as.numeric)\n",
    "        Y_train[[t]] = Y[[t]][Y_train_tmp, 2]\n",
    "        X_tune[[t]] = apply(as.matrix(dose_std[,X_tuning_tmp]),1,as.numeric)\n",
    "        Y_tune[[t]] = Y[[t]][Y_tuning_tmp, 2]\n",
    "        X_test[[t]] = apply(as.matrix(dose_std[,X_test_tmp]),1,as.numeric)\n",
    "        Y_test[[t]] = Y[[t]][Y_test_tmp, 2]\n",
    "        #IRdisplay::display_html(length(X_train_tmp))\n",
    "        #IRdisplay::display_html(length(Y_train_tmp))\n",
    "        #IRdisplay::display_html(dim(X_train[[t]]))\n",
    "        #IRdisplay::display_html(length(Y_train[[t]]))\n",
    "    }\n",
    "\n",
    "    ## model training ##\t\n",
    "    ## train elastic net and used average lambda as tuning parameters ##\n",
    "    single_initial_est = matrix(0, ncol(X_train[[1]]), T_num)\n",
    "    single_summary = list()\n",
    "    for(t in 1:T_num){\n",
    "        #print(Y_train[[t]])\n",
    "        #print(sum(is.na(X_train[[t]])))\n",
    "        IRdisplay::display_html(paste0(\"INFO: glmnet cv tissue\", t))\n",
    "        tt = cv.glmnet(X_train[[t]], Y_train[[t]], alpha = 0.5, nfolds = 5)\n",
    "        single_summary[[t]] = tt\n",
    "        single_initial_est[,t] = tt$glmnet.fit$beta[,which.min(tt$cvm)]\n",
    "    }\n",
    "    ## performance of Elastic net on tuning and testing data with various tuning parameters\n",
    "    els_output = elastic_net_mse(single_summary, X_tune, Y_tune, X_test, Y_test)\n",
    "    single_res_test[[f]] = els_output$mse\n",
    "    single_lam[f,] = els_output$lam\n",
    "    single_theta_est[[f]] = els_output$est\n",
    "    remove(els_output)\n",
    "\n",
    "    initial_numeric = as.numeric(single_initial_est)\n",
    "    lam_range = minmax_lambda(single_summary)\n",
    "    lam_V = seq(lam_range[1], lam_range[2], length.out = ntune)\n",
    "    remove(single_summary)\n",
    "    remove(single_initial_est)\n",
    "\n",
    "    ## preparation\n",
    "    XY = grad_prep(X_train, Y_train)\n",
    "#\t\tbgt = Sys.time()\n",
    "    XX_train = lapply(X_train, function(x){t(x)%*%x/nrow(x)})\n",
    "#\t\tedt = Sys.time()\n",
    "#\t\tprint(edt-bgt)\n",
    "\n",
    "\n",
    "    res_tune = rep(0, ntune)\n",
    "    best.lam = 0\n",
    "\n",
    "#\t\tbgt = Sys.time()\n",
    "    IRdisplay::display_html(paste0(\"INFO: tuning \"))\n",
    "    for(lam in 1:ntune){\n",
    "        single_est = matrix(initial_numeric, M, P)\n",
    "        ans = glasso(X=X_train, Y=Y_train, X1=X_tune, Y1=Y_tune, XX=XX_train, XY=XY, Xnorm=Xnorm, lambda1=lam_V[lam], lambda2=lam_V[lam], theta=single_est)\n",
    "        res_tune[lam] = ans$tune_err\n",
    "        remove(single_est); remove(ans);\n",
    "    }\n",
    "#\t\tedt = Sys.time()\n",
    "#\t\tprint(edt-bgt)\n",
    "\n",
    "    best.lam = lam_V[which.min(res_tune)]\n",
    "    single_est = matrix(initial_numeric, M, P)\n",
    "    ans = glasso(X=X_train, Y=Y_train, X1=X_tune, Y1=Y_tune, XX=XX_train, XY=XY, Xnorm=Xnorm, lambda1=best.lam, lambda2=best.lam, theta=single_est)\n",
    "    multi_res_test[[f]] = multi_mse(ans$est, X_test, Y_test)\n",
    "    multi_lam[f] = best.lam\n",
    "    multi_theta_est[[f]] = ans$est\n",
    "    remove(single_est)\n",
    "    remove(ans)\n",
    "    edt = Sys.time()\n",
    "    print(edt-bgt)\n",
    "}"
   ]
  },
  {
   "cell_type": "code",
   "execution_count": null,
   "metadata": {},
   "outputs": [],
   "source": [
    "glasso <- function(X, Y, X1, Y1, XX, XY, Xnorm, lambda1, lambda2, theta, stepsize = 1e-4, maxiter = 250, eps = 1e-4){\n",
    "\tbgt = Sys.time()\n",
    "\tM = nrow(XY)\n",
    "\tP = length(X)\n",
    "\tNN = unlist(lapply(X, nrow))\n",
    "\told_objV1 = 0\n",
    "\tfor(t in 1:P){\n",
    "\t\told_objV1 = old_objV1 + 1/2*mean((Y[[t]]-X[[t]]%*%theta[,t])^2)\n",
    "\t}\n",
    "\tIRdisplay::display_html(paste0(\"Training error: \", old_objV1, '\\n'))\n",
    "\told_objV2 = 0\n",
    "\tfor(t in 1:P){\n",
    "\t\told_objV2 = old_objV2 + 1/2*mean((Y1[[t]]-X1[[t]]%*%theta[,t])^2)\n",
    "\t}\n",
    "\tIRdisplay::display_html(paste0(\"Testing error: \", old_objV2, '\\n'))\n",
    "\tbeta_j_lasso = rep(0, P)\n",
    "\ttmp_XYj = 0\n",
    "\tif(!is.loaded(\"wrapper\")){\n",
    "\t\tdyn.load(\"/ysm-gpfs/pi/zhao/from_louise/yh367/GTEX/codes/glasso.so\")\n",
    "        #dyn.load(\"/ysm-gpfs/pi/zhao/zy92/projects/utmost_update/CTIMP/optim.so\")\n",
    "\t}\n",
    "    \n",
    "\tfor(i in 1:maxiter){\n",
    "\t\tbgt = Sys.time()\n",
    "\t\tres = .Call(\"wrapper\", XX, XY, theta, M, P, beta_j_lasso, lambda1, lambda2, Xnorm)\n",
    "\t\tedt = Sys.time()\n",
    "\t\t#print(edt-bgt)\n",
    "        IRdisplay::display_html(theta[1:6, 1:6])\n",
    "\t\tnew_objV1 = new_objV2 = 0\n",
    "\t\tfor(t in 1:P){\n",
    "\t\t\tnew_objV1 = new_objV1 + 1/2*mean((Y[[t]]-X[[t]]%*%theta[,t])^2)\n",
    "            #IRdisplay::display_html(sum(is.na(X[[t]])))\n",
    "            #IRdisplay::display_html(sum(is.na(Y[[t]])))\n",
    "            IRdisplay::display_html(theta[,t])\n",
    "\t\t}\n",
    "\t\tIRdisplay::display_html(paste0(\"Training error: \", new_objV1, '\\n'))\n",
    "\t\tfor(t in 1:P){\n",
    "\t\t\tnew_objV2 = new_objV2 + 1/2*mean((Y1[[t]]-X1[[t]]%*%theta[,t])^2)\n",
    "            #IRdisplay::display_html(sum(is.na(X[[t]])))\n",
    "            #IRdisplay::display_html(sum(is.na(Y[[t]])))\n",
    "            IRdisplay::display_html(theta[,t])\n",
    "\t\t}\n",
    "\t\tIRdisplay::display_html(paste0(\"Testing error: \", new_objV2, '\\n'))\n",
    "\t\tif(new_objV2 > old_objV2|new_objV1 > old_objV1){\n",
    "\t\t\tbreak\n",
    "\t\t}else{\n",
    "\t\t\told_objV2 = new_objV2\n",
    "\t\t}\n",
    "\t\tif(abs(new_objV1-old_objV1) < eps){\n",
    "\t\t\tbreak\n",
    "\t\t}else{\n",
    "\t\t\told_objV1 = new_objV1\n",
    "\t\t}\n",
    "\t}\n",
    "\t#edt = Sys.time()\n",
    "\t#print(edt-bgt)\n",
    "\tlist(est = theta, tune_err = new_objV2)\n",
    "}"
   ]
  },
  {
   "cell_type": "code",
   "execution_count": null,
   "metadata": {},
   "outputs": [],
   "source": [
    "class(Xnorm)\n",
    "length(Xnorm)"
   ]
  },
  {
   "cell_type": "code",
   "execution_count": null,
   "metadata": {},
   "outputs": [],
   "source": [
    "sum(is.na(Xnorm))"
   ]
  },
  {
   "cell_type": "code",
   "execution_count": 20,
   "metadata": {},
   "outputs": [
    {
     "data": {
      "image/png": "[encoded data removed]",
      "text/plain": [
       "Plot with title “Histogram of Xnorm”"
      ]
     },
     "metadata": {
      "image/png": {
       "height": 420,
       "width": 420
      },
      "text/plain": {
       "height": 420,
       "width": 420
      }
     },
     "output_type": "display_data"
    }
   ],
   "source": [
    "hist(Xnorm)"
   ]
  },
  {
   "cell_type": "code",
   "execution_count": 22,
   "metadata": {},
   "outputs": [
    {
     "data": {
      "text/html": [
       "838"
      ],
      "text/latex": [
       "838"
      ],
      "text/markdown": [
       "838"
      ],
      "text/plain": [
       "[1] 838"
      ]
     },
     "metadata": {},
     "output_type": "display_data"
    },
    {
     "data": {
      "text/html": [
       "0.87098994790423"
      ],
      "text/latex": [
       "0.87098994790423"
      ],
      "text/markdown": [
       "0.87098994790423"
      ],
      "text/plain": [
       "[1] 0.8709899"
      ]
     },
     "metadata": {},
     "output_type": "display_data"
    }
   ],
   "source": [
    "length(Xnorm)\n",
    "min(Xnorm)"
   ]
  },
  {
   "cell_type": "code",
   "execution_count": null,
   "metadata": {},
   "outputs": [],
   "source": [
    "class(XY)\n",
    "dim(XY)"
   ]
  },
  {
   "cell_type": "code",
   "execution_count": 23,
   "metadata": {},
   "outputs": [
    {
     "data": {
      "image/png": "[encoded data removed]",
      "text/plain": [
       "Plot with title “Histogram of XY[847, ]”"
      ]
     },
     "metadata": {
      "image/png": {
       "height": 420,
       "width": 420
      },
      "text/plain": {
       "height": 420,
       "width": 420
      }
     },
     "output_type": "display_data"
    },
    {
     "data": {
      "image/png": "[encoded data removed]",
      "text/plain": [
       "Plot with title “Histogram of XY[848, ]”"
      ]
     },
     "metadata": {
      "image/png": {
       "height": 420,
       "width": 420
      },
      "text/plain": {
       "height": 420,
       "width": 420
      }
     },
     "output_type": "display_data"
    }
   ],
   "source": [
    "hist(XY[847, ])\n",
    "hist(XY[848, ])"
   ]
  },
  {
   "cell_type": "code",
   "execution_count": null,
   "metadata": {},
   "outputs": [],
   "source": [
    "sum(is.na(XY[847, ]))\n",
    "sum(is.na(XY[848, ]))"
   ]
  },
  {
   "cell_type": "code",
   "execution_count": 14,
   "metadata": {},
   "outputs": [
    {
     "data": {
      "image/png": "[encoded data removed]",
      "text/plain": [
       "Plot with title “Histogram of Xnorm”"
      ]
     },
     "metadata": {
      "image/png": {
       "height": 420,
       "width": 420
      },
      "text/plain": {
       "height": 420,
       "width": 420
      }
     },
     "output_type": "display_data"
    }
   ],
   "source": [
    "hist(Xnorm, breaks = 20)"
   ]
  },
  {
   "cell_type": "markdown",
   "metadata": {},
   "source": [
    "# Debugging "
   ]
  },
  {
   "cell_type": "code",
   "execution_count": 14,
   "metadata": {},
   "outputs": [
    {
     "data": {
      "text/html": [
       "'/gpfs/loomis/project/zhao/zy92/GTEX/output/chr2/ENSG00000003137.8'"
      ],
      "text/latex": [
       "'/gpfs/loomis/project/zhao/zy92/GTEX/output/chr2/ENSG00000003137.8'"
      ],
      "text/markdown": [
       "'/gpfs/loomis/project/zhao/zy92/GTEX/output/chr2/ENSG00000003137.8'"
      ],
      "text/plain": [
       "[1] \"/gpfs/loomis/project/zhao/zy92/GTEX/output/chr2/ENSG00000003137.8\""
      ]
     },
     "metadata": {},
     "output_type": "display_data"
    }
   ],
   "source": [
    "getwd()"
   ]
  },
  {
   "cell_type": "code",
   "execution_count": 17,
   "metadata": {},
   "outputs": [],
   "source": [
    "save(X_train, Y_train, X_tune, Y_tune, XX_train, XY, Xnorm, lam_V, initial_numeric, single_est, \n",
    "    X, file = \"/gpfs/loomis/project/zhao/zy92/GTEX/output/training_preparation_data_chr2_1.RData\")"
   ]
  },
  {
   "cell_type": "code",
   "execution_count": 18,
   "metadata": {},
   "outputs": [
    {
     "data": {
      "text/html": [
       "<style>\n",
       ".list-inline {list-style: none; margin:0; padding: 0}\n",
       ".list-inline>li {display: inline-block}\n",
       ".list-inline>li:not(:last-child)::after {content: \"\\00b7\"; padding: 0 .5ex}\n",
       "</style>\n",
       "<ol class=list-inline><li>'X_train'</li><li>'Y_train'</li><li>'X_tune'</li><li>'Y_tune'</li><li>'XX_train'</li><li>'XY'</li><li>'Xnorm'</li><li>'lam_V'</li><li>'initial_numeric'</li><li>'single_est'</li><li>'X'</li></ol>\n"
      ],
      "text/latex": [
       "\\begin{enumerate*}\n",
       "\\item 'X\\_train'\n",
       "\\item 'Y\\_train'\n",
       "\\item 'X\\_tune'\n",
       "\\item 'Y\\_tune'\n",
       "\\item 'XX\\_train'\n",
       "\\item 'XY'\n",
       "\\item 'Xnorm'\n",
       "\\item 'lam\\_V'\n",
       "\\item 'initial\\_numeric'\n",
       "\\item 'single\\_est'\n",
       "\\item 'X'\n",
       "\\end{enumerate*}\n"
      ],
      "text/markdown": [
       "1. 'X_train'\n",
       "2. 'Y_train'\n",
       "3. 'X_tune'\n",
       "4. 'Y_tune'\n",
       "5. 'XX_train'\n",
       "6. 'XY'\n",
       "7. 'Xnorm'\n",
       "8. 'lam_V'\n",
       "9. 'initial_numeric'\n",
       "10. 'single_est'\n",
       "11. 'X'\n",
       "\n",
       "\n"
      ],
      "text/plain": [
       " [1] \"X_train\"         \"Y_train\"         \"X_tune\"          \"Y_tune\"         \n",
       " [5] \"XX_train\"        \"XY\"              \"Xnorm\"           \"lam_V\"          \n",
       " [9] \"initial_numeric\" \"single_est\"      \"X\"              "
      ]
     },
     "metadata": {},
     "output_type": "display_data"
    }
   ],
   "source": [
    "ln <- load(\"/gpfs/loomis/project/zhao/zy92/GTEX/output/training_preparation_data_chr2_1.RData\")\n",
    "ln\n"
   ]
  },
  {
   "cell_type": "code",
   "execution_count": 27,
   "metadata": {},
   "outputs": [
    {
     "data": {
      "text/html": [
       "Training error: 787.928110082842\n"
      ]
     },
     "metadata": {},
     "output_type": "display_data"
    },
    {
     "data": {
      "text/html": [
       "Testing error: 989.803739515436\n"
      ]
     },
     "metadata": {},
     "output_type": "display_data"
    },
    {
     "data": {
      "text/html": [
       0,
       0,
       0,
       0,
       0,
       0,
       0,
       0,
       0,
       0,
       0,
       0,
       0,
       0,
       0,
       0,
       0,
       0,
       0,
       0,
       0,
       0,
       0,
       0,
       0,
       0,
       0,
       0,
       0,
       0,
       0,
       0,
       0,
       0,
       0,
       0,
       0,
       0,
       0,
       0,
       0,
       0,
       0,
       0,
       0,
       0,
       0,
       0,
       0
      ]
     },
     "metadata": {},
     "output_type": "display_data"
    },
    {
     "name": "stderr",
     "output_type": "stream",
     "text": [
      "Warning message in if (theta[]) new_objV1 = new_objV1 + 1/2 * mean((Y[[t]] - X[[t]] %*% :\n",
      "“the condition has length > 1 and only the first element will be used”\n",
      "Warning message in if (theta[]) new_objV1 = new_objV1 + 1/2 * mean((Y[[t]] - X[[t]] %*% :\n",
      "“the condition has length > 1 and only the first element will be used”\n",
      "Warning message in if (theta[]) new_objV1 = new_objV1 + 1/2 * mean((Y[[t]] - X[[t]] %*% :\n",
      "“the condition has length > 1 and only the first element will be used”\n",
      "Warning message in if (theta[]) new_objV1 = new_objV1 + 1/2 * mean((Y[[t]] - X[[t]] %*% :\n",
      "“the condition has length > 1 and only the first element will be used”\n",
      "Warning message in if (theta[]) new_objV1 = new_objV1 + 1/2 * mean((Y[[t]] - X[[t]] %*% :\n",
      "“the condition has length > 1 and only the first element will be used”\n",
      "Warning message in if (theta[]) new_objV1 = new_objV1 + 1/2 * mean((Y[[t]] - X[[t]] %*% :\n",
      "“the condition has length > 1 and only the first element will be used”\n",
      "Warning message in if (theta[]) new_objV1 = new_objV1 + 1/2 * mean((Y[[t]] - X[[t]] %*% :\n",
      "“the condition has length > 1 and only the first element will be used”\n",
      "Warning message in if (theta[]) new_objV1 = new_objV1 + 1/2 * mean((Y[[t]] - X[[t]] %*% :\n",
      "“the condition has length > 1 and only the first element will be used”\n",
      "Warning message in if (theta[]) new_objV1 = new_objV1 + 1/2 * mean((Y[[t]] - X[[t]] %*% :\n",
      "“the condition has length > 1 and only the first element will be used”\n",
      "Warning message in if (theta[]) new_objV1 = new_objV1 + 1/2 * mean((Y[[t]] - X[[t]] %*% :\n",
      "“the condition has length > 1 and only the first element will be used”\n",
      "Warning message in if (theta[]) new_objV1 = new_objV1 + 1/2 * mean((Y[[t]] - X[[t]] %*% :\n",
      "“the condition has length > 1 and only the first element will be used”\n",
      "Warning message in if (theta[]) new_objV1 = new_objV1 + 1/2 * mean((Y[[t]] - X[[t]] %*% :\n",
      "“the condition has length > 1 and only the first element will be used”\n",
      "Warning message in if (theta[]) new_objV1 = new_objV1 + 1/2 * mean((Y[[t]] - X[[t]] %*% :\n",
      "“the condition has length > 1 and only the first element will be used”\n",
      "Warning message in if (theta[]) new_objV1 = new_objV1 + 1/2 * mean((Y[[t]] - X[[t]] %*% :\n",
      "“the condition has length > 1 and only the first element will be used”\n",
      "Warning message in if (theta[]) new_objV1 = new_objV1 + 1/2 * mean((Y[[t]] - X[[t]] %*% :\n",
      "“the condition has length > 1 and only the first element will be used”\n",
      "Warning message in if (theta[]) new_objV1 = new_objV1 + 1/2 * mean((Y[[t]] - X[[t]] %*% :\n",
      "“the condition has length > 1 and only the first element will be used”\n",
      "Warning message in if (theta[]) new_objV1 = new_objV1 + 1/2 * mean((Y[[t]] - X[[t]] %*% :\n",
      "“the condition has length > 1 and only the first element will be used”\n",
      "Warning message in if (theta[]) new_objV1 = new_objV1 + 1/2 * mean((Y[[t]] - X[[t]] %*% :\n",
      "“the condition has length > 1 and only the first element will be used”\n",
      "Warning message in if (theta[]) new_objV1 = new_objV1 + 1/2 * mean((Y[[t]] - X[[t]] %*% :\n",
      "“the condition has length > 1 and only the first element will be used”\n",
      "Warning message in if (theta[]) new_objV1 = new_objV1 + 1/2 * mean((Y[[t]] - X[[t]] %*% :\n",
      "“the condition has length > 1 and only the first element will be used”\n",
      "Warning message in if (theta[]) new_objV1 = new_objV1 + 1/2 * mean((Y[[t]] - X[[t]] %*% :\n",
      "“the condition has length > 1 and only the first element will be used”\n",
      "Warning message in if (theta[]) new_objV1 = new_objV1 + 1/2 * mean((Y[[t]] - X[[t]] %*% :\n",
      "“the condition has length > 1 and only the first element will be used”\n",
      "Warning message in if (theta[]) new_objV1 = new_objV1 + 1/2 * mean((Y[[t]] - X[[t]] %*% :\n",
      "“the condition has length > 1 and only the first element will be used”\n",
      "Warning message in if (theta[]) new_objV1 = new_objV1 + 1/2 * mean((Y[[t]] - X[[t]] %*% :\n",
      "“the condition has length > 1 and only the first element will be used”\n",
      "Warning message in if (theta[]) new_objV1 = new_objV1 + 1/2 * mean((Y[[t]] - X[[t]] %*% :\n",
      "“the condition has length > 1 and only the first element will be used”\n",
      "Warning message in if (theta[]) new_objV1 = new_objV1 + 1/2 * mean((Y[[t]] - X[[t]] %*% :\n",
      "“the condition has length > 1 and only the first element will be used”\n",
      "Warning message in if (theta[]) new_objV1 = new_objV1 + 1/2 * mean((Y[[t]] - X[[t]] %*% :\n",
      "“the condition has length > 1 and only the first element will be used”\n",
      "Warning message in if (theta[]) new_objV1 = new_objV1 + 1/2 * mean((Y[[t]] - X[[t]] %*% :\n",
      "“the condition has length > 1 and only the first element will be used”\n",
      "Warning message in if (theta[]) new_objV1 = new_objV1 + 1/2 * mean((Y[[t]] - X[[t]] %*% :\n",
      "“the condition has length > 1 and only the first element will be used”\n",
      "Warning message in if (theta[]) new_objV1 = new_objV1 + 1/2 * mean((Y[[t]] - X[[t]] %*% :\n",
      "“the condition has length > 1 and only the first element will be used”\n",
      "Warning message in if (theta[]) new_objV1 = new_objV1 + 1/2 * mean((Y[[t]] - X[[t]] %*% :\n",
      "“the condition has length > 1 and only the first element will be used”\n",
      "Warning message in if (theta[]) new_objV1 = new_objV1 + 1/2 * mean((Y[[t]] - X[[t]] %*% :\n",
      "“the condition has length > 1 and only the first element will be used”\n",
      "Warning message in if (theta[]) new_objV1 = new_objV1 + 1/2 * mean((Y[[t]] - X[[t]] %*% :\n",
      "“the condition has length > 1 and only the first element will be used”\n",
      "Warning message in if (theta[]) new_objV1 = new_objV1 + 1/2 * mean((Y[[t]] - X[[t]] %*% :\n",
      "“the condition has length > 1 and only the first element will be used”\n",
      "Warning message in if (theta[]) new_objV1 = new_objV1 + 1/2 * mean((Y[[t]] - X[[t]] %*% :\n",
      "“the condition has length > 1 and only the first element will be used”\n",
      "Warning message in if (theta[]) new_objV1 = new_objV1 + 1/2 * mean((Y[[t]] - X[[t]] %*% :\n",
      "“the condition has length > 1 and only the first element will be used”\n",
      "Warning message in if (theta[]) new_objV1 = new_objV1 + 1/2 * mean((Y[[t]] - X[[t]] %*% :\n",
      "“the condition has length > 1 and only the first element will be used”\n",
      "Warning message in if (theta[]) new_objV1 = new_objV1 + 1/2 * mean((Y[[t]] - X[[t]] %*% :\n",
      "“the condition has length > 1 and only the first element will be used”\n",
      "Warning message in if (theta[]) new_objV1 = new_objV1 + 1/2 * mean((Y[[t]] - X[[t]] %*% :\n",
      "“the condition has length > 1 and only the first element will be used”\n",
      "Warning message in if (theta[]) new_objV1 = new_objV1 + 1/2 * mean((Y[[t]] - X[[t]] %*% :\n",
      "“the condition has length > 1 and only the first element will be used”\n",
      "Warning message in if (theta[]) new_objV1 = new_objV1 + 1/2 * mean((Y[[t]] - X[[t]] %*% :\n",
      "“the condition has length > 1 and only the first element will be used”\n",
      "Warning message in if (theta[]) new_objV1 = new_objV1 + 1/2 * mean((Y[[t]] - X[[t]] %*% :\n",
      "“the condition has length > 1 and only the first element will be used”\n",
      "Warning message in if (theta[]) new_objV1 = new_objV1 + 1/2 * mean((Y[[t]] - X[[t]] %*% :\n",
      "“the condition has length > 1 and only the first element will be used”\n",
      "Warning message in if (theta[]) new_objV1 = new_objV1 + 1/2 * mean((Y[[t]] - X[[t]] %*% :\n",
      "“the condition has length > 1 and only the first element will be used”\n",
      "Warning message in if (theta[]) new_objV1 = new_objV1 + 1/2 * mean((Y[[t]] - X[[t]] %*% :\n",
      "“the condition has length > 1 and only the first element will be used”\n",
      "Warning message in if (theta[]) new_objV1 = new_objV1 + 1/2 * mean((Y[[t]] - X[[t]] %*% :\n",
      "“the condition has length > 1 and only the first element will be used”\n",
      "Warning message in if (theta[]) new_objV1 = new_objV1 + 1/2 * mean((Y[[t]] - X[[t]] %*% :\n",
      "“the condition has length > 1 and only the first element will be used”\n",
      "Warning message in if (theta[]) new_objV1 = new_objV1 + 1/2 * mean((Y[[t]] - X[[t]] %*% :\n",
      "“the condition has length > 1 and only the first element will be used”\n",
      "Warning message in if (theta[]) new_objV1 = new_objV1 + 1/2 * mean((Y[[t]] - X[[t]] %*% :\n",
      "“the condition has length > 1 and only the first element will be used”\n"
     ]
    },
    {
     "data": {
      "text/html": [
       "Training error: 0\n"
      ]
     },
     "metadata": {},
     "output_type": "display_data"
    },
    {
     "data": {
      "text/html": [
       "Testing error: NaN\n"
      ]
     },
     "metadata": {},
     "output_type": "display_data"
    },
    {
     "ename": "ERROR",
     "evalue": "Error in if (new_objV2 > old_objV2 | new_objV1 > old_objV1) {: missing value where TRUE/FALSE needed\n",
     "output_type": "error",
     "traceback": [
      "Error in if (new_objV2 > old_objV2 | new_objV1 > old_objV1) {: missing value where TRUE/FALSE needed\nTraceback:\n"
     ]
    }
   ],
   "source": [
    "# parameters\n",
    "lam = 1\n",
    "X=X_train\n",
    "Y=Y_train\n",
    "X1=X_tune\n",
    "Y1=Y_tune\n",
    "XX=XX_train\n",
    "XY=XY\n",
    "Xnorm=Xnorm\n",
    "lambda1=lam_V[lam]\n",
    "lambda2=lam_V[lam]\n",
    "single_est = matrix(initial_numeric, M, P)\n",
    "theta=single_est\n",
    "maxiter = 10\n",
    "\n",
    "# wrapper function \n",
    "dyn.load(\"/ysm-gpfs/pi/zhao/zy92/projects/utmost_update/CTIMP/optim.so\")\n",
    "\n",
    "bgt = Sys.time()\n",
    "M = nrow(XY)\n",
    "P = length(X)\n",
    "NN = unlist(lapply(X, nrow))\n",
    "old_objV1 = 0\n",
    "for(t in 1:P){\n",
    "    old_objV1 = old_objV1 + 1/2*mean((Y[[t]]-X[[t]]%*%theta[,t])^2)\n",
    "}\n",
    "IRdisplay::display_html(paste0(\"Training error: \", old_objV1, '\\n'))\n",
    "old_objV2 = 0\n",
    "for(t in 1:P){\n",
    "    old_objV2 = old_objV2 + 1/2*mean((Y1[[t]]-X1[[t]]%*%theta[,t])^2)\n",
    "}\n",
    "IRdisplay::display_html(paste0(\"Testing error: \", old_objV2, '\\n'))\n",
    "beta_j_lasso = rep(0, P)\n",
    "beta_j_lasso_matrix = rep(0, M*P)\n",
    "output_res = rep(0, P)\n",
    "tmp_XYj = 0\n",
    "\n",
    "for(i in 1:maxiter){\n",
    "    bgt = Sys.time()\n",
    "    res = .Call(\"wrapper\", XX, XY, theta, M, P, beta_j_lasso, beta_j_lasso_matrix, lambda1, lambda2, Xnorm, output_res)\n",
    "    #IRdisplay::display_html(res)\n",
    "    edt = Sys.time()\n",
    "    #print(edt-bgt)\n",
    "    IRdisplay::display_html(beta_j_lasso)\n",
    "    #IRdisplay::display_html(theta[1:6, 1:6])\n",
    "    new_objV1 = new_objV2 = 0\n",
    "    for(t in 1:P){\n",
    "        if (theta[])\n",
    "        new_objV1 = new_objV1 + 1/2*mean((Y[[t]]-X[[t]]%*%theta[,t])^2)\n",
    "        #IRdisplay::display_html(sum(is.na(X[[t]])))\n",
    "        #IRdisplay::display_html(sum(is.na(Y[[t]])))\n",
    "        #IRdisplay::display_html(theta[,t])\n",
    "    }\n",
    "    IRdisplay::display_html(paste0(\"Training error: \", new_objV1, '\\n'))\n",
    "    for(t in 1:P){\n",
    "        new_objV2 = new_objV2 + 1/2*mean((Y1[[t]]-X1[[t]]%*%theta[,t])^2)\n",
    "        #IRdisplay::display_html(sum(is.na(X[[t]])))\n",
    "        #IRdisplay::display_html(sum(is.na(Y[[t]])))\n",
    "        #IRdisplay::display_html(theta[,t])\n",
    "    }\n",
    "    IRdisplay::display_html(paste0(\"Testing error: \", new_objV2, '\\n'))\n",
    "    if(new_objV2 > old_objV2|new_objV1 > old_objV1){\n",
    "        break\n",
    "    }else{\n",
    "        old_objV2 = new_objV2\n",
    "    }\n",
    "    if(abs(new_objV1-old_objV1) < eps){\n",
    "        break\n",
    "    }else{\n",
    "        old_objV1 = new_objV1\n",
    "    }\n",
    "}\n",
    "#edt = Sys.time()\n",
    "#print(edt-bgt)\n",
    "#list(est = theta, tune_err = new_objV2)"
   ]
  },
  {
   "cell_type": "code",
   "execution_count": 28,
   "metadata": {},
   "outputs": [
    {
     "data": {
      "text/html": [
       "298508"
      ],
      "text/latex": [
       "298508"
      ],
      "text/markdown": [
       "298508"
      ],
      "text/plain": [
       "[1] 298508"
      ]
     },
     "metadata": {},
     "output_type": "display_data"
    }
   ],
   "source": [
    "length(beta_j_lasso_matrix)\n"
   ]
  },
  {
   "cell_type": "code",
   "execution_count": 30,
   "metadata": {},
   "outputs": [],
   "source": [
    "beta_j_lasso_matrix_test <- matrix(beta_j_lasso_matrix, M, P)"
   ]
  },
  {
   "cell_type": "code",
   "execution_count": 36,
   "metadata": {},
   "outputs": [
    {
     "data": {
      "text/html": [
       "0"
      ],
      "text/latex": [
       "0"
      ],
      "text/markdown": [
       "0"
      ],
      "text/plain": [
       "[1] 0"
      ]
     },
     "metadata": {},
     "output_type": "display_data"
    }
   ],
   "source": [
    "sum(is.na(beta_j_lasso_matrix))"
   ]
  },
  {
   "cell_type": "code",
   "execution_count": 39,
   "metadata": {},
   "outputs": [
    {
     "data": {
      "text/html": [
       "49"
      ],
      "text/latex": [
       "49"
      ],
      "text/markdown": [
       "49"
      ],
      "text/plain": [
       "[1] 49"
      ]
     },
     "metadata": {},
     "output_type": "display_data"
    }
   ],
   "source": [
    "sum(is.infinite(beta_j_lasso_matrix))"
   ]
  },
  {
   "cell_type": "code",
   "execution_count": 30,
   "metadata": {},
   "outputs": [],
   "source": [
    "beta_j_lasso_matrix_test <- matrix(beta_j_lasso_matrix, M, P)"
   ]
  },
  {
   "cell_type": "code",
   "execution_count": 36,
   "metadata": {},
   "outputs": [
    {
     "data": {
      "text/html": [
       "0"
      ],
      "text/latex": [
       "0"
      ],
      "text/markdown": [
       "0"
      ],
      "text/plain": [
       "[1] 0"
      ]
     },
     "metadata": {},
     "output_type": "display_data"
    }
   ],
   "source": [
    "sum(is.na(beta_j_lasso_matrix))"
   ]
  },
  {
   "cell_type": "code",
   "execution_count": 39,
   "metadata": {},
   "outputs": [
    {
     "data": {
      "text/html": [
       "49"
      ],
      "text/latex": [
       "49"
      ],
      "text/markdown": [
       "49"
      ],
      "text/plain": [
       "[1] 49"
      ]
     },
     "metadata": {},
     "output_type": "display_data"
    }
   ],
   "source": [
    "sum(is.infinite(beta_j_lasso_matrix))"
   ]
  },
  {
   "cell_type": "code",
   "execution_count": 40,
   "metadata": {},
   "outputs": [
    {
     "data": {
      "text/html": [
       "<style>\n",
       ".list-inline {list-style: none; margin:0; padding: 0}\n",
       ".list-inline>li {display: inline-block}\n",
       ".list-inline>li:not(:last-child)::after {content: \"\\00b7\"; padding: 0 .5ex}\n",
       "</style>\n",
       "<ol class=list-inline><li>842</li><li>6934</li><li>13026</li><li>19118</li><li>25210</li><li>31302</li><li>37394</li><li>43486</li><li>49578</li><li>55670</li><li>61762</li><li>67854</li><li>73946</li><li>80038</li><li>86130</li><li>92222</li><li>98314</li><li>104406</li><li>110498</li><li>116590</li><li>122682</li><li>128774</li><li>134866</li><li>140958</li><li>147050</li><li>153142</li><li>159234</li><li>165326</li><li>171418</li><li>177510</li><li>183602</li><li>189694</li><li>195786</li><li>201878</li><li>207970</li><li>214062</li><li>220154</li><li>226246</li><li>232338</li><li>238430</li><li>244522</li><li>250614</li><li>256706</li><li>262798</li><li>268890</li><li>274982</li><li>281074</li><li>287166</li><li>293258</li></ol>\n"
      ],
      "text/latex": [
       "\\begin{enumerate*}\n",
       "\\item 842\n",
       "\\item 6934\n",
       "\\item 13026\n",
       "\\item 19118\n",
       "\\item 25210\n",
       "\\item 31302\n",
       "\\item 37394\n",
       "\\item 43486\n",
       "\\item 49578\n",
       "\\item 55670\n",
       "\\item 61762\n",
       "\\item 67854\n",
       "\\item 73946\n",
       "\\item 80038\n",
       "\\item 86130\n",
       "\\item 92222\n",
       "\\item 98314\n",
       "\\item 104406\n",
       "\\item 110498\n",
       "\\item 116590\n",
       "\\item 122682\n",
       "\\item 128774\n",
       "\\item 134866\n",
       "\\item 140958\n",
       "\\item 147050\n",
       "\\item 153142\n",
       "\\item 159234\n",
       "\\item 165326\n",
       "\\item 171418\n",
       "\\item 177510\n",
       "\\item 183602\n",
       "\\item 189694\n",
       "\\item 195786\n",
       "\\item 201878\n",
       "\\item 207970\n",
       "\\item 214062\n",
       "\\item 220154\n",
       "\\item 226246\n",
       "\\item 232338\n",
       "\\item 238430\n",
       "\\item 244522\n",
       "\\item 250614\n",
       "\\item 256706\n",
       "\\item 262798\n",
       "\\item 268890\n",
       "\\item 274982\n",
       "\\item 281074\n",
       "\\item 287166\n",
       "\\item 293258\n",
       "\\end{enumerate*}\n"
      ],
      "text/markdown": [
       "1. 842\n",
       "2. 6934\n",
       "3. 13026\n",
       "4. 19118\n",
       "5. 25210\n",
       "6. 31302\n",
       "7. 37394\n",
       "8. 43486\n",
       "9. 49578\n",
       "10. 55670\n",
       "11. 61762\n",
       "12. 67854\n",
       "13. 73946\n",
       "14. 80038\n",
       "15. 86130\n",
       "16. 92222\n",
       "17. 98314\n",
       "18. 104406\n",
       "19. 110498\n",
       "20. 116590\n",
       "21. 122682\n",
       "22. 128774\n",
       "23. 134866\n",
       "24. 140958\n",
       "25. 147050\n",
       "26. 153142\n",
       "27. 159234\n",
       "28. 165326\n",
       "29. 171418\n",
       "30. 177510\n",
       "31. 183602\n",
       "32. 189694\n",
       "33. 195786\n",
       "34. 201878\n",
       "35. 207970\n",
       "36. 214062\n",
       "37. 220154\n",
       "38. 226246\n",
       "39. 232338\n",
       "40. 238430\n",
       "41. 244522\n",
       "42. 250614\n",
       "43. 256706\n",
       "44. 262798\n",
       "45. 268890\n",
       "46. 274982\n",
       "47. 281074\n",
       "48. 287166\n",
       "49. 293258\n",
       "\n",
       "\n"
      ],
      "text/plain": [
       " [1]    842   6934  13026  19118  25210  31302  37394  43486  49578  55670\n",
       "[11]  61762  67854  73946  80038  86130  92222  98314 104406 110498 116590\n",
       "[21] 122682 128774 134866 140958 147050 153142 159234 165326 171418 177510\n",
       "[31] 183602 189694 195786 201878 207970 214062 220154 226246 232338 238430\n",
       "[41] 244522 250614 256706 262798 268890 274982 281074 287166 293258"
      ]
     },
     "metadata": {},
     "output_type": "display_data"
    }
   ],
   "source": [
    "which(is.infinite(beta_j_lasso_matrix))"
   ]
  },
  {
   "cell_type": "code",
   "execution_count": 41,
   "metadata": {},
   "outputs": [
    {
     "data": {
      "image/png": "[encoded data removed]",
      "text/plain": [
       "Plot with title “Histogram of dose_std[842, ]”"
      ]
     },
     "metadata": {
      "image/png": {
       "height": 420,
       "width": 420
      },
      "text/plain": {
       "height": 420,
       "width": 420
      }
     },
     "output_type": "display_data"
    }
   ],
   "source": [
    "hist(dose_std[842,])"
   ]
  },
  {
   "cell_type": "code",
   "execution_count": 33,
   "metadata": {},
   "outputs": [
    {
     "data": {
      "text/html": [
       "<table>\n",
       "<caption>A matrix: 6 × 6 of type dbl</caption>\n",
       "<tbody>\n",
       "\t<tr><td> 0.000000000</td><td>-0.1574482</td><td>-0.03234496</td><td> 0.005647510</td><td>-0.09750642</td><td>-0.04202300</td></tr>\n",
       "\t<tr><td> 0.067264971</td><td> 0.2310621</td><td> 0.16041797</td><td> 0.060012193</td><td>-0.04766525</td><td> 0.21673842</td></tr>\n",
       "\t<tr><td> 0.000000000</td><td>-0.1505302</td><td>-0.03169923</td><td> 0.006085699</td><td>-0.09491328</td><td>-0.03940134</td></tr>\n",
       "\t<tr><td>-0.007833639</td><td>-0.6520951</td><td> 0.15781529</td><td>-0.161079257</td><td>-0.36514682</td><td> 0.08808829</td></tr>\n",
       "\t<tr><td> 0.000000000</td><td>-0.1317901</td><td>-0.03265220</td><td> 0.008878893</td><td>-0.08237856</td><td>-0.03996959</td></tr>\n",
       "\t<tr><td>-0.006213497</td><td>-0.4796652</td><td> 0.11696246</td><td>-0.116460138</td><td>-0.26229224</td><td> 0.06468829</td></tr>\n",
       "</tbody>\n",
       "</table>\n"
      ],
      "text/latex": [
       "A matrix: 6 × 6 of type dbl\n",
       "\\begin{tabular}{llllll}\n",
       "\t  0.000000000 & -0.1574482 & -0.03234496 &  0.005647510 & -0.09750642 & -0.04202300\\\\\n",
       "\t  0.067264971 &  0.2310621 &  0.16041797 &  0.060012193 & -0.04766525 &  0.21673842\\\\\n",
       "\t  0.000000000 & -0.1505302 & -0.03169923 &  0.006085699 & -0.09491328 & -0.03940134\\\\\n",
       "\t -0.007833639 & -0.6520951 &  0.15781529 & -0.161079257 & -0.36514682 &  0.08808829\\\\\n",
       "\t  0.000000000 & -0.1317901 & -0.03265220 &  0.008878893 & -0.08237856 & -0.03996959\\\\\n",
       "\t -0.006213497 & -0.4796652 &  0.11696246 & -0.116460138 & -0.26229224 &  0.06468829\\\\\n",
       "\\end{tabular}\n"
      ],
      "text/markdown": [
       "\n",
       "A matrix: 6 × 6 of type dbl\n",
       "\n",
       "|  0.000000000 | -0.1574482 | -0.03234496 |  0.005647510 | -0.09750642 | -0.04202300 |\n",
       "|  0.067264971 |  0.2310621 |  0.16041797 |  0.060012193 | -0.04766525 |  0.21673842 |\n",
       "|  0.000000000 | -0.1505302 | -0.03169923 |  0.006085699 | -0.09491328 | -0.03940134 |\n",
       "| -0.007833639 | -0.6520951 |  0.15781529 | -0.161079257 | -0.36514682 |  0.08808829 |\n",
       "|  0.000000000 | -0.1317901 | -0.03265220 |  0.008878893 | -0.08237856 | -0.03996959 |\n",
       "| -0.006213497 | -0.4796652 |  0.11696246 | -0.116460138 | -0.26229224 |  0.06468829 |\n",
       "\n"
      ],
      "text/plain": [
       "     [,1]         [,2]       [,3]        [,4]         [,5]        [,6]       \n",
       "[1,]  0.000000000 -0.1574482 -0.03234496  0.005647510 -0.09750642 -0.04202300\n",
       "[2,]  0.067264971  0.2310621  0.16041797  0.060012193 -0.04766525  0.21673842\n",
       "[3,]  0.000000000 -0.1505302 -0.03169923  0.006085699 -0.09491328 -0.03940134\n",
       "[4,] -0.007833639 -0.6520951  0.15781529 -0.161079257 -0.36514682  0.08808829\n",
       "[5,]  0.000000000 -0.1317901 -0.03265220  0.008878893 -0.08237856 -0.03996959\n",
       "[6,] -0.006213497 -0.4796652  0.11696246 -0.116460138 -0.26229224  0.06468829"
      ]
     },
     "metadata": {},
     "output_type": "display_data"
    }
   ],
   "source": [
    "beta_j_lasso_matrix_test[1:6, 1:6]"
   ]
  },
  {
   "cell_type": "code",
   "execution_count": 35,
   "metadata": {},
   "outputs": [
    {
     "data": {
      "text/html": [
       "'numeric'"
      ],
      "text/latex": [
       "'numeric'"
      ],
      "text/markdown": [
       "'numeric'"
      ],
      "text/plain": [
       "[1] \"numeric\""
      ]
     },
     "metadata": {},
     "output_type": "display_data"
    }
   ],
   "source": [
    "class(beta_j_lasso_matrix)"
   ]
  },
  {
   "cell_type": "code",
   "execution_count": 32,
   "metadata": {},
   "outputs": [
    {
     "data": {
      "text/html": [
       "NaN"
      ],
      "text/latex": [
       "NaN"
      ],
      "text/markdown": [
       "NaN"
      ],
      "text/plain": [
       "[1] NaN"
      ]
     },
     "metadata": {},
     "output_type": "display_data"
    }
   ],
   "source": [
    "sum(beta_j_lasso_matrix)"
   ]
  },
  {
   "cell_type": "code",
   "execution_count": null,
   "metadata": {},
   "outputs": [],
   "source": [
    "## inner product "
   ]
  },
  {
   "cell_type": "code",
   "execution_count": 56,
   "metadata": {},
   "outputs": [
    {
     "data": {
      "text/html": [
       "Training error: 787.928110082842\n"
      ]
     },
     "metadata": {},
     "output_type": "display_data"
    },
    {
     "data": {
      "text/html": [
       "Testing error: 989.803739515436\n"
      ]
     },
     "metadata": {},
     "output_type": "display_data"
    },
    {
     "data": {
      "text/html": [
       0,
       0,
       0,
       0,
       0,
       0,
       0,
       0,
       0,
       0,
       0,
       0,
       0,
       0,
       0,
       0,
       0,
       0,
       0,
       0,
       0,
       0,
       0,
       0,
       0,
       0,
       0,
       0,
       0,
       0,
       0,
       0,
       0,
       0,
       0,
       0,
       0,
       0,
       0,
       0,
       0,
       0,
       0,
       0,
       0,
       0,
       0,
       0,
       0
      ]
     },
     "metadata": {},
     "output_type": "display_data"
    },
    {
     "name": "stderr",
     "output_type": "stream",
     "text": [
      "Warning message in if (theta[]) new_objV1 = new_objV1 + 1/2 * mean((Y[[t]] - X[[t]] %*% :\n",
      "“the condition has length > 1 and only the first element will be used”\n",
      "Warning message in if (theta[]) new_objV1 = new_objV1 + 1/2 * mean((Y[[t]] - X[[t]] %*% :\n",
      "“the condition has length > 1 and only the first element will be used”\n",
      "Warning message in if (theta[]) new_objV1 = new_objV1 + 1/2 * mean((Y[[t]] - X[[t]] %*% :\n",
      "“the condition has length > 1 and only the first element will be used”\n",
      "Warning message in if (theta[]) new_objV1 = new_objV1 + 1/2 * mean((Y[[t]] - X[[t]] %*% :\n",
      "“the condition has length > 1 and only the first element will be used”\n",
      "Warning message in if (theta[]) new_objV1 = new_objV1 + 1/2 * mean((Y[[t]] - X[[t]] %*% :\n",
      "“the condition has length > 1 and only the first element will be used”\n",
      "Warning message in if (theta[]) new_objV1 = new_objV1 + 1/2 * mean((Y[[t]] - X[[t]] %*% :\n",
      "“the condition has length > 1 and only the first element will be used”\n",
      "Warning message in if (theta[]) new_objV1 = new_objV1 + 1/2 * mean((Y[[t]] - X[[t]] %*% :\n",
      "“the condition has length > 1 and only the first element will be used”\n",
      "Warning message in if (theta[]) new_objV1 = new_objV1 + 1/2 * mean((Y[[t]] - X[[t]] %*% :\n",
      "“the condition has length > 1 and only the first element will be used”\n",
      "Warning message in if (theta[]) new_objV1 = new_objV1 + 1/2 * mean((Y[[t]] - X[[t]] %*% :\n",
      "“the condition has length > 1 and only the first element will be used”\n",
      "Warning message in if (theta[]) new_objV1 = new_objV1 + 1/2 * mean((Y[[t]] - X[[t]] %*% :\n",
      "“the condition has length > 1 and only the first element will be used”\n",
      "Warning message in if (theta[]) new_objV1 = new_objV1 + 1/2 * mean((Y[[t]] - X[[t]] %*% :\n",
      "“the condition has length > 1 and only the first element will be used”\n",
      "Warning message in if (theta[]) new_objV1 = new_objV1 + 1/2 * mean((Y[[t]] - X[[t]] %*% :\n",
      "“the condition has length > 1 and only the first element will be used”\n",
      "Warning message in if (theta[]) new_objV1 = new_objV1 + 1/2 * mean((Y[[t]] - X[[t]] %*% :\n",
      "“the condition has length > 1 and only the first element will be used”\n",
      "Warning message in if (theta[]) new_objV1 = new_objV1 + 1/2 * mean((Y[[t]] - X[[t]] %*% :\n",
      "“the condition has length > 1 and only the first element will be used”\n",
      "Warning message in if (theta[]) new_objV1 = new_objV1 + 1/2 * mean((Y[[t]] - X[[t]] %*% :\n",
      "“the condition has length > 1 and only the first element will be used”\n",
      "Warning message in if (theta[]) new_objV1 = new_objV1 + 1/2 * mean((Y[[t]] - X[[t]] %*% :\n",
      "“the condition has length > 1 and only the first element will be used”\n",
      "Warning message in if (theta[]) new_objV1 = new_objV1 + 1/2 * mean((Y[[t]] - X[[t]] %*% :\n",
      "“the condition has length > 1 and only the first element will be used”\n",
      "Warning message in if (theta[]) new_objV1 = new_objV1 + 1/2 * mean((Y[[t]] - X[[t]] %*% :\n",
      "“the condition has length > 1 and only the first element will be used”\n",
      "Warning message in if (theta[]) new_objV1 = new_objV1 + 1/2 * mean((Y[[t]] - X[[t]] %*% :\n",
      "“the condition has length > 1 and only the first element will be used”\n",
      "Warning message in if (theta[]) new_objV1 = new_objV1 + 1/2 * mean((Y[[t]] - X[[t]] %*% :\n",
      "“the condition has length > 1 and only the first element will be used”\n",
      "Warning message in if (theta[]) new_objV1 = new_objV1 + 1/2 * mean((Y[[t]] - X[[t]] %*% :\n",
      "“the condition has length > 1 and only the first element will be used”\n",
      "Warning message in if (theta[]) new_objV1 = new_objV1 + 1/2 * mean((Y[[t]] - X[[t]] %*% :\n",
      "“the condition has length > 1 and only the first element will be used”\n",
      "Warning message in if (theta[]) new_objV1 = new_objV1 + 1/2 * mean((Y[[t]] - X[[t]] %*% :\n",
      "“the condition has length > 1 and only the first element will be used”\n",
      "Warning message in if (theta[]) new_objV1 = new_objV1 + 1/2 * mean((Y[[t]] - X[[t]] %*% :\n",
      "“the condition has length > 1 and only the first element will be used”\n",
      "Warning message in if (theta[]) new_objV1 = new_objV1 + 1/2 * mean((Y[[t]] - X[[t]] %*% :\n",
      "“the condition has length > 1 and only the first element will be used”\n",
      "Warning message in if (theta[]) new_objV1 = new_objV1 + 1/2 * mean((Y[[t]] - X[[t]] %*% :\n",
      "“the condition has length > 1 and only the first element will be used”\n",
      "Warning message in if (theta[]) new_objV1 = new_objV1 + 1/2 * mean((Y[[t]] - X[[t]] %*% :\n",
      "“the condition has length > 1 and only the first element will be used”\n",
      "Warning message in if (theta[]) new_objV1 = new_objV1 + 1/2 * mean((Y[[t]] - X[[t]] %*% :\n",
      "“the condition has length > 1 and only the first element will be used”\n",
      "Warning message in if (theta[]) new_objV1 = new_objV1 + 1/2 * mean((Y[[t]] - X[[t]] %*% :\n",
      "“the condition has length > 1 and only the first element will be used”\n",
      "Warning message in if (theta[]) new_objV1 = new_objV1 + 1/2 * mean((Y[[t]] - X[[t]] %*% :\n",
      "“the condition has length > 1 and only the first element will be used”\n",
      "Warning message in if (theta[]) new_objV1 = new_objV1 + 1/2 * mean((Y[[t]] - X[[t]] %*% :\n",
      "“the condition has length > 1 and only the first element will be used”\n",
      "Warning message in if (theta[]) new_objV1 = new_objV1 + 1/2 * mean((Y[[t]] - X[[t]] %*% :\n",
      "“the condition has length > 1 and only the first element will be used”\n",
      "Warning message in if (theta[]) new_objV1 = new_objV1 + 1/2 * mean((Y[[t]] - X[[t]] %*% :\n",
      "“the condition has length > 1 and only the first element will be used”\n",
      "Warning message in if (theta[]) new_objV1 = new_objV1 + 1/2 * mean((Y[[t]] - X[[t]] %*% :\n",
      "“the condition has length > 1 and only the first element will be used”\n",
      "Warning message in if (theta[]) new_objV1 = new_objV1 + 1/2 * mean((Y[[t]] - X[[t]] %*% :\n",
      "“the condition has length > 1 and only the first element will be used”\n",
      "Warning message in if (theta[]) new_objV1 = new_objV1 + 1/2 * mean((Y[[t]] - X[[t]] %*% :\n",
      "“the condition has length > 1 and only the first element will be used”\n",
      "Warning message in if (theta[]) new_objV1 = new_objV1 + 1/2 * mean((Y[[t]] - X[[t]] %*% :\n",
      "“the condition has length > 1 and only the first element will be used”\n",
      "Warning message in if (theta[]) new_objV1 = new_objV1 + 1/2 * mean((Y[[t]] - X[[t]] %*% :\n",
      "“the condition has length > 1 and only the first element will be used”\n",
      "Warning message in if (theta[]) new_objV1 = new_objV1 + 1/2 * mean((Y[[t]] - X[[t]] %*% :\n",
      "“the condition has length > 1 and only the first element will be used”\n",
      "Warning message in if (theta[]) new_objV1 = new_objV1 + 1/2 * mean((Y[[t]] - X[[t]] %*% :\n",
      "“the condition has length > 1 and only the first element will be used”\n",
      "Warning message in if (theta[]) new_objV1 = new_objV1 + 1/2 * mean((Y[[t]] - X[[t]] %*% :\n",
      "“the condition has length > 1 and only the first element will be used”\n",
      "Warning message in if (theta[]) new_objV1 = new_objV1 + 1/2 * mean((Y[[t]] - X[[t]] %*% :\n",
      "“the condition has length > 1 and only the first element will be used”\n",
      "Warning message in if (theta[]) new_objV1 = new_objV1 + 1/2 * mean((Y[[t]] - X[[t]] %*% :\n",
      "“the condition has length > 1 and only the first element will be used”\n",
      "Warning message in if (theta[]) new_objV1 = new_objV1 + 1/2 * mean((Y[[t]] - X[[t]] %*% :\n",
      "“the condition has length > 1 and only the first element will be used”\n",
      "Warning message in if (theta[]) new_objV1 = new_objV1 + 1/2 * mean((Y[[t]] - X[[t]] %*% :\n",
      "“the condition has length > 1 and only the first element will be used”\n",
      "Warning message in if (theta[]) new_objV1 = new_objV1 + 1/2 * mean((Y[[t]] - X[[t]] %*% :\n",
      "“the condition has length > 1 and only the first element will be used”\n",
      "Warning message in if (theta[]) new_objV1 = new_objV1 + 1/2 * mean((Y[[t]] - X[[t]] %*% :\n",
      "“the condition has length > 1 and only the first element will be used”\n",
      "Warning message in if (theta[]) new_objV1 = new_objV1 + 1/2 * mean((Y[[t]] - X[[t]] %*% :\n",
      "“the condition has length > 1 and only the first element will be used”\n",
      "Warning message in if (theta[]) new_objV1 = new_objV1 + 1/2 * mean((Y[[t]] - X[[t]] %*% :\n",
      "“the condition has length > 1 and only the first element will be used”\n"
     ]
    },
    {
     "data": {
      "text/html": [
       "Training error: 0\n"
      ]
     },
     "metadata": {},
     "output_type": "display_data"
    },
    {
     "data": {
      "text/html": [
       "Testing error: NaN\n"
      ]
     },
     "metadata": {},
     "output_type": "display_data"
    },
    {
     "ename": "ERROR",
     "evalue": "Error in if (new_objV2 > old_objV2 | new_objV1 > old_objV1) {: missing value where TRUE/FALSE needed\n",
     "output_type": "error",
     "traceback": [
      "Error in if (new_objV2 > old_objV2 | new_objV1 > old_objV1) {: missing value where TRUE/FALSE needed\nTraceback:\n"
     ]
    }
   ],
   "source": [
    "# parameters\n",
    "lam = 1\n",
    "X=X_train\n",
    "Y=Y_train\n",
    "X1=X_tune\n",
    "Y1=Y_tune\n",
    "XX=XX_train\n",
    "XY=XY\n",
    "Xnorm=Xnorm\n",
    "lambda1=lam_V[lam]\n",
    "lambda2=lam_V[lam]\n",
    "single_est = matrix(initial_numeric, M, P)\n",
    "theta=single_est\n",
    "maxiter = 10\n",
    "\n",
    "# wrapper function \n",
    "dyn.load(\"/ysm-gpfs/pi/zhao/zy92/projects/utmost_update/CTIMP/optim.so\")\n",
    "\n",
    "bgt = Sys.time()\n",
    "M = nrow(XY)\n",
    "P = length(X)\n",
    "NN = unlist(lapply(X, nrow))\n",
    "old_objV1 = 0\n",
    "for(t in 1:P){\n",
    "    old_objV1 = old_objV1 + 1/2*mean((Y[[t]]-X[[t]]%*%theta[,t])^2)\n",
    "}\n",
    "IRdisplay::display_html(paste0(\"Training error: \", old_objV1, '\\n'))\n",
    "old_objV2 = 0\n",
    "for(t in 1:P){\n",
    "    old_objV2 = old_objV2 + 1/2*mean((Y1[[t]]-X1[[t]]%*%theta[,t])^2)\n",
    "}\n",
    "IRdisplay::display_html(paste0(\"Testing error: \", old_objV2, '\\n'))\n",
    "beta_j_lasso = rep(0, P)\n",
    "beta_j_lasso_matrix = rep(0, M*P)\n",
    "output_res = rep(0, P)\n",
    "tmp_XYj = 0\n",
    "\n",
    "for(i in 1:maxiter){\n",
    "    bgt = Sys.time()\n",
    "    res = .Call(\"wrapper\", XX, XY, theta, M, P, beta_j_lasso, beta_j_lasso_matrix, lambda1, lambda2, Xnorm, output_res)\n",
    "    #IRdisplay::display_html(res)\n",
    "    edt = Sys.time()\n",
    "    #print(edt-bgt)\n",
    "    IRdisplay::display_html(beta_j_lasso)\n",
    "    #IRdisplay::display_html(theta[1:6, 1:6])\n",
    "    new_objV1 = new_objV2 = 0\n",
    "    for(t in 1:P){\n",
    "        if (theta[])\n",
    "        new_objV1 = new_objV1 + 1/2*mean((Y[[t]]-X[[t]]%*%theta[,t])^2)\n",
    "        #IRdisplay::display_html(sum(is.na(X[[t]])))\n",
    "        #IRdisplay::display_html(sum(is.na(Y[[t]])))\n",
    "        #IRdisplay::display_html(theta[,t])\n",
    "    }\n",
    "    IRdisplay::display_html(paste0(\"Training error: \", new_objV1, '\\n'))\n",
    "    for(t in 1:P){\n",
    "        new_objV2 = new_objV2 + 1/2*mean((Y1[[t]]-X1[[t]]%*%theta[,t])^2)\n",
    "        #IRdisplay::display_html(sum(is.na(X[[t]])))\n",
    "        #IRdisplay::display_html(sum(is.na(Y[[t]])))\n",
    "        #IRdisplay::display_html(theta[,t])\n",
    "    }\n",
    "    IRdisplay::display_html(paste0(\"Testing error: \", new_objV2, '\\n'))\n",
    "    if(new_objV2 > old_objV2|new_objV1 > old_objV1){\n",
    "        break\n",
    "    }else{\n",
    "        old_objV2 = new_objV2\n",
    "    }\n",
    "    if(abs(new_objV1-old_objV1) < eps){\n",
    "        break\n",
    "    }else{\n",
    "        old_objV1 = new_objV1\n",
    "    }\n",
    "}\n",
    "#edt = Sys.time()\n",
    "#print(edt-bgt)\n",
    "#list(est = theta, tune_err = new_objV2)"
   ]
  },
  {
   "cell_type": "code",
   "execution_count": null,
   "metadata": {},
   "outputs": [],
   "source": []
  },
  {
   "cell_type": "code",
   "execution_count": null,
   "metadata": {},
   "outputs": [],
   "source": []
  },
  {
   "cell_type": "code",
   "execution_count": 57,
   "metadata": {},
   "outputs": [],
   "source": [
    "beta_j_lasso_matrix_test <- matrix(beta_j_lasso_matrix, M, P)"
   ]
  },
  {
   "cell_type": "code",
   "execution_count": 58,
   "metadata": {},
   "outputs": [
    {
     "data": {
      "text/html": [
       "41258"
      ],
      "text/latex": [
       "41258"
      ],
      "text/markdown": [
       "41258"
      ],
      "text/plain": [
       "[1] 41258"
      ]
     },
     "metadata": {},
     "output_type": "display_data"
    }
   ],
   "source": [
    "sum(!is.na(beta_j_lasso_matrix))"
   ]
  },
  {
   "cell_type": "code",
   "execution_count": 59,
   "metadata": {},
   "outputs": [
    {
     "data": {
      "image/png": "[encoded data removed]",
      "text/plain": [
       "Plot with title “Histogram of beta_j_lasso_matrix”"
      ]
     },
     "metadata": {
      "image/png": {
       "height": 420,
       "width": 420
      },
      "text/plain": {
       "height": 420,
       "width": 420
      }
     },
     "output_type": "display_data"
    }
   ],
   "source": [
    "hist(beta_j_lasso_matrix)"
   ]
  },
  {
   "cell_type": "code",
   "execution_count": 46,
   "metadata": {},
   "outputs": [
    {
     "data": {
      "text/html": [
       "<style>\n",
       ".list-inline {list-style: none; margin:0; padding: 0}\n",
       ".list-inline>li {display: inline-block}\n",
       ".list-inline>li:not(:last-child)::after {content: \"\\00b7\"; padding: 0 .5ex}\n",
       "</style>\n",
       "<ol class=list-inline><li>0</li><li>0</li><li>-0.000479537815996711</li><li>-0.00627907692631195</li><li>-0.000609834952119377</li><li>-0.00838025243077603</li></ol>\n"
      ],
      "text/latex": [
       "\\begin{enumerate*}\n",
       "\\item 0\n",
       "\\item 0\n",
       "\\item -0.000479537815996711\n",
       "\\item -0.00627907692631195\n",
       "\\item -0.000609834952119377\n",
       "\\item -0.00838025243077603\n",
       "\\end{enumerate*}\n"
      ],
      "text/markdown": [
       "1. 0\n",
       "2. 0\n",
       "3. -0.000479537815996711\n",
       "4. -0.00627907692631195\n",
       "5. -0.000609834952119377\n",
       "6. -0.00838025243077603\n",
       "\n",
       "\n"
      ],
      "text/plain": [
       "[1]  0.0000000000  0.0000000000 -0.0004795378 -0.0062790769 -0.0006098350\n",
       "[6] -0.0083802524"
      ]
     },
     "metadata": {},
     "output_type": "display_data"
    }
   ],
   "source": [
    "head(beta_j_lasso_matrix)"
   ]
  },
  {
   "cell_type": "code",
   "execution_count": 45,
   "metadata": {},
   "outputs": [
    {
     "data": {
      "text/html": [
       "48"
      ],
      "text/latex": [
       "48"
      ],
      "text/markdown": [
       "48"
      ],
      "text/plain": [
       "[1] 48"
      ]
     },
     "metadata": {},
     "output_type": "display_data"
    }
   ],
   "source": [
    "sum(is.infinite(beta_j_lasso_matrix))"
   ]
  },
  {
   "cell_type": "code",
   "execution_count": 1,
   "metadata": {},
   "outputs": [
    {
     "data": {
      "text/html": [
       "'/gpfs/loomis/pi/zhao2/zy92/projects/utmost_update/utmost_update/code/R'"
      ],
      "text/latex": [
       "'/gpfs/loomis/pi/zhao2/zy92/projects/utmost\\_update/utmost\\_update/code/R'"
      ],
      "text/markdown": [
       "'/gpfs/loomis/pi/zhao2/zy92/projects/utmost_update/utmost_update/code/R'"
      ],
      "text/plain": [
       "[1] \"/gpfs/loomis/pi/zhao2/zy92/projects/utmost_update/utmost_update/code/R\""
      ]
     },
     "metadata": {},
     "output_type": "display_data"
    }
   ],
   "source": [
    "getwd()"
   ]
  },
  {
   "cell_type": "code",
   "execution_count": null,
   "metadata": {},
   "outputs": [],
   "source": []
  },
  {
   "cell_type": "code",
   "execution_count": 64,
   "metadata": {},
   "outputs": [
    {
     "data": {
      "text/html": [
       "Training error: 787.928110082842\n"
      ]
     },
     "metadata": {},
     "output_type": "display_data"
    },
    {
     "data": {
      "text/html": [
       "Testing error: 989.803739515436\n"
      ]
     },
     "metadata": {},
     "output_type": "display_data"
    },
    {
     "data": {
      "text/html": [
       0,
       0,
       0,
       0,
       0,
       0,
       0,
       0,
       0,
       0,
       0,
       0,
       0,
       0,
       0,
       0,
       0,
       0,
       0,
       0,
       0,
       0,
       0,
       0,
       0,
       0,
       0,
       0,
       0,
       0,
       0,
       0,
       0,
       0,
       0,
       0,
       0,
       0,
       0,
       0,
       0,
       0,
       0,
       0,
       0,
       0,
       0,
       0,
       0
      ]
     },
     "metadata": {},
     "output_type": "display_data"
    },
    {
     "name": "stderr",
     "output_type": "stream",
     "text": [
      "Warning message in if (theta[]) new_objV1 = new_objV1 + 1/2 * mean((Y[[t]] - X[[t]] %*% :\n",
      "“the condition has length > 1 and only the first element will be used”\n",
      "Warning message in if (theta[]) new_objV1 = new_objV1 + 1/2 * mean((Y[[t]] - X[[t]] %*% :\n",
      "“the condition has length > 1 and only the first element will be used”\n",
      "Warning message in if (theta[]) new_objV1 = new_objV1 + 1/2 * mean((Y[[t]] - X[[t]] %*% :\n",
      "“the condition has length > 1 and only the first element will be used”\n",
      "Warning message in if (theta[]) new_objV1 = new_objV1 + 1/2 * mean((Y[[t]] - X[[t]] %*% :\n",
      "“the condition has length > 1 and only the first element will be used”\n",
      "Warning message in if (theta[]) new_objV1 = new_objV1 + 1/2 * mean((Y[[t]] - X[[t]] %*% :\n",
      "“the condition has length > 1 and only the first element will be used”\n",
      "Warning message in if (theta[]) new_objV1 = new_objV1 + 1/2 * mean((Y[[t]] - X[[t]] %*% :\n",
      "“the condition has length > 1 and only the first element will be used”\n",
      "Warning message in if (theta[]) new_objV1 = new_objV1 + 1/2 * mean((Y[[t]] - X[[t]] %*% :\n",
      "“the condition has length > 1 and only the first element will be used”\n",
      "Warning message in if (theta[]) new_objV1 = new_objV1 + 1/2 * mean((Y[[t]] - X[[t]] %*% :\n",
      "“the condition has length > 1 and only the first element will be used”\n",
      "Warning message in if (theta[]) new_objV1 = new_objV1 + 1/2 * mean((Y[[t]] - X[[t]] %*% :\n",
      "“the condition has length > 1 and only the first element will be used”\n",
      "Warning message in if (theta[]) new_objV1 = new_objV1 + 1/2 * mean((Y[[t]] - X[[t]] %*% :\n",
      "“the condition has length > 1 and only the first element will be used”\n",
      "Warning message in if (theta[]) new_objV1 = new_objV1 + 1/2 * mean((Y[[t]] - X[[t]] %*% :\n",
      "“the condition has length > 1 and only the first element will be used”\n",
      "Warning message in if (theta[]) new_objV1 = new_objV1 + 1/2 * mean((Y[[t]] - X[[t]] %*% :\n",
      "“the condition has length > 1 and only the first element will be used”\n",
      "Warning message in if (theta[]) new_objV1 = new_objV1 + 1/2 * mean((Y[[t]] - X[[t]] %*% :\n",
      "“the condition has length > 1 and only the first element will be used”\n",
      "Warning message in if (theta[]) new_objV1 = new_objV1 + 1/2 * mean((Y[[t]] - X[[t]] %*% :\n",
      "“the condition has length > 1 and only the first element will be used”\n",
      "Warning message in if (theta[]) new_objV1 = new_objV1 + 1/2 * mean((Y[[t]] - X[[t]] %*% :\n",
      "“the condition has length > 1 and only the first element will be used”\n",
      "Warning message in if (theta[]) new_objV1 = new_objV1 + 1/2 * mean((Y[[t]] - X[[t]] %*% :\n",
      "“the condition has length > 1 and only the first element will be used”\n",
      "Warning message in if (theta[]) new_objV1 = new_objV1 + 1/2 * mean((Y[[t]] - X[[t]] %*% :\n",
      "“the condition has length > 1 and only the first element will be used”\n",
      "Warning message in if (theta[]) new_objV1 = new_objV1 + 1/2 * mean((Y[[t]] - X[[t]] %*% :\n",
      "“the condition has length > 1 and only the first element will be used”\n",
      "Warning message in if (theta[]) new_objV1 = new_objV1 + 1/2 * mean((Y[[t]] - X[[t]] %*% :\n",
      "“the condition has length > 1 and only the first element will be used”\n",
      "Warning message in if (theta[]) new_objV1 = new_objV1 + 1/2 * mean((Y[[t]] - X[[t]] %*% :\n",
      "“the condition has length > 1 and only the first element will be used”\n",
      "Warning message in if (theta[]) new_objV1 = new_objV1 + 1/2 * mean((Y[[t]] - X[[t]] %*% :\n",
      "“the condition has length > 1 and only the first element will be used”\n",
      "Warning message in if (theta[]) new_objV1 = new_objV1 + 1/2 * mean((Y[[t]] - X[[t]] %*% :\n",
      "“the condition has length > 1 and only the first element will be used”\n",
      "Warning message in if (theta[]) new_objV1 = new_objV1 + 1/2 * mean((Y[[t]] - X[[t]] %*% :\n",
      "“the condition has length > 1 and only the first element will be used”\n",
      "Warning message in if (theta[]) new_objV1 = new_objV1 + 1/2 * mean((Y[[t]] - X[[t]] %*% :\n",
      "“the condition has length > 1 and only the first element will be used”\n",
      "Warning message in if (theta[]) new_objV1 = new_objV1 + 1/2 * mean((Y[[t]] - X[[t]] %*% :\n",
      "“the condition has length > 1 and only the first element will be used”\n",
      "Warning message in if (theta[]) new_objV1 = new_objV1 + 1/2 * mean((Y[[t]] - X[[t]] %*% :\n",
      "“the condition has length > 1 and only the first element will be used”\n",
      "Warning message in if (theta[]) new_objV1 = new_objV1 + 1/2 * mean((Y[[t]] - X[[t]] %*% :\n",
      "“the condition has length > 1 and only the first element will be used”\n",
      "Warning message in if (theta[]) new_objV1 = new_objV1 + 1/2 * mean((Y[[t]] - X[[t]] %*% :\n",
      "“the condition has length > 1 and only the first element will be used”\n",
      "Warning message in if (theta[]) new_objV1 = new_objV1 + 1/2 * mean((Y[[t]] - X[[t]] %*% :\n",
      "“the condition has length > 1 and only the first element will be used”\n",
      "Warning message in if (theta[]) new_objV1 = new_objV1 + 1/2 * mean((Y[[t]] - X[[t]] %*% :\n",
      "“the condition has length > 1 and only the first element will be used”\n",
      "Warning message in if (theta[]) new_objV1 = new_objV1 + 1/2 * mean((Y[[t]] - X[[t]] %*% :\n",
      "“the condition has length > 1 and only the first element will be used”\n",
      "Warning message in if (theta[]) new_objV1 = new_objV1 + 1/2 * mean((Y[[t]] - X[[t]] %*% :\n",
      "“the condition has length > 1 and only the first element will be used”\n",
      "Warning message in if (theta[]) new_objV1 = new_objV1 + 1/2 * mean((Y[[t]] - X[[t]] %*% :\n",
      "“the condition has length > 1 and only the first element will be used”\n",
      "Warning message in if (theta[]) new_objV1 = new_objV1 + 1/2 * mean((Y[[t]] - X[[t]] %*% :\n",
      "“the condition has length > 1 and only the first element will be used”\n",
      "Warning message in if (theta[]) new_objV1 = new_objV1 + 1/2 * mean((Y[[t]] - X[[t]] %*% :\n",
      "“the condition has length > 1 and only the first element will be used”\n",
      "Warning message in if (theta[]) new_objV1 = new_objV1 + 1/2 * mean((Y[[t]] - X[[t]] %*% :\n",
      "“the condition has length > 1 and only the first element will be used”\n",
      "Warning message in if (theta[]) new_objV1 = new_objV1 + 1/2 * mean((Y[[t]] - X[[t]] %*% :\n",
      "“the condition has length > 1 and only the first element will be used”\n",
      "Warning message in if (theta[]) new_objV1 = new_objV1 + 1/2 * mean((Y[[t]] - X[[t]] %*% :\n",
      "“the condition has length > 1 and only the first element will be used”\n",
      "Warning message in if (theta[]) new_objV1 = new_objV1 + 1/2 * mean((Y[[t]] - X[[t]] %*% :\n",
      "“the condition has length > 1 and only the first element will be used”\n",
      "Warning message in if (theta[]) new_objV1 = new_objV1 + 1/2 * mean((Y[[t]] - X[[t]] %*% :\n",
      "“the condition has length > 1 and only the first element will be used”\n",
      "Warning message in if (theta[]) new_objV1 = new_objV1 + 1/2 * mean((Y[[t]] - X[[t]] %*% :\n",
      "“the condition has length > 1 and only the first element will be used”\n",
      "Warning message in if (theta[]) new_objV1 = new_objV1 + 1/2 * mean((Y[[t]] - X[[t]] %*% :\n",
      "“the condition has length > 1 and only the first element will be used”\n",
      "Warning message in if (theta[]) new_objV1 = new_objV1 + 1/2 * mean((Y[[t]] - X[[t]] %*% :\n",
      "“the condition has length > 1 and only the first element will be used”\n",
      "Warning message in if (theta[]) new_objV1 = new_objV1 + 1/2 * mean((Y[[t]] - X[[t]] %*% :\n",
      "“the condition has length > 1 and only the first element will be used”\n",
      "Warning message in if (theta[]) new_objV1 = new_objV1 + 1/2 * mean((Y[[t]] - X[[t]] %*% :\n",
      "“the condition has length > 1 and only the first element will be used”\n",
      "Warning message in if (theta[]) new_objV1 = new_objV1 + 1/2 * mean((Y[[t]] - X[[t]] %*% :\n",
      "“the condition has length > 1 and only the first element will be used”\n",
      "Warning message in if (theta[]) new_objV1 = new_objV1 + 1/2 * mean((Y[[t]] - X[[t]] %*% :\n",
      "“the condition has length > 1 and only the first element will be used”\n",
      "Warning message in if (theta[]) new_objV1 = new_objV1 + 1/2 * mean((Y[[t]] - X[[t]] %*% :\n",
      "“the condition has length > 1 and only the first element will be used”\n",
      "Warning message in if (theta[]) new_objV1 = new_objV1 + 1/2 * mean((Y[[t]] - X[[t]] %*% :\n",
      "“the condition has length > 1 and only the first element will be used”\n"
     ]
    },
    {
     "data": {
      "text/html": [
       "Training error: 0\n"
      ]
     },
     "metadata": {},
     "output_type": "display_data"
    },
    {
     "data": {
      "text/html": [
       "Testing error: NaN\n"
      ]
     },
     "metadata": {},
     "output_type": "display_data"
    },
    {
     "ename": "ERROR",
     "evalue": "Error in if (new_objV2 > old_objV2 | new_objV1 > old_objV1) {: missing value where TRUE/FALSE needed\n",
     "output_type": "error",
     "traceback": [
      "Error in if (new_objV2 > old_objV2 | new_objV1 > old_objV1) {: missing value where TRUE/FALSE needed\nTraceback:\n"
     ]
    }
   ],
   "source": [
    "# parameters\n",
    "lam = 1\n",
    "X=X_train\n",
    "Y=Y_train\n",
    "X1=X_tune\n",
    "Y1=Y_tune\n",
    "XX=XX_train\n",
    "XY=XY\n",
    "Xnorm=Xnorm\n",
    "lambda1=lam_V[lam]\n",
    "lambda2=lam_V[lam]\n",
    "single_est = matrix(initial_numeric, M, P)\n",
    "theta=single_est\n",
    "maxiter = 10\n",
    "\n",
    "# wrapper function \n",
    "dyn.load(\"/ysm-gpfs/pi/zhao/zy92/projects/utmost_update/CTIMP/optim.so\")\n",
    "\n",
    "bgt = Sys.time()\n",
    "M = nrow(XY)\n",
    "P = length(X)\n",
    "NN = unlist(lapply(X, nrow))\n",
    "old_objV1 = 0\n",
    "for(t in 1:P){\n",
    "    old_objV1 = old_objV1 + 1/2*mean((Y[[t]]-X[[t]]%*%theta[,t])^2)\n",
    "}\n",
    "IRdisplay::display_html(paste0(\"Training error: \", old_objV1, '\\n'))\n",
    "old_objV2 = 0\n",
    "for(t in 1:P){\n",
    "    old_objV2 = old_objV2 + 1/2*mean((Y1[[t]]-X1[[t]]%*%theta[,t])^2)\n",
    "}\n",
    "IRdisplay::display_html(paste0(\"Testing error: \", old_objV2, '\\n'))\n",
    "beta_j_lasso = rep(0, P)\n",
    "beta_j_lasso_matrix = rep(0, M*P)\n",
    "output_res = rep(0, P)\n",
    "tmp_XYj = 0\n",
    "\n",
    "for(i in 1:maxiter){\n",
    "    bgt = Sys.time()\n",
    "    res = .Call(\"wrapper\", XX, XY, theta, M, P, beta_j_lasso, beta_j_lasso_matrix, lambda1, lambda2, Xnorm, output_res)\n",
    "    #IRdisplay::display_html(res)\n",
    "    edt = Sys.time()\n",
    "    #print(edt-bgt)\n",
    "    IRdisplay::display_html(beta_j_lasso)\n",
    "    #IRdisplay::display_html(theta[1:6, 1:6])\n",
    "    new_objV1 = new_objV2 = 0\n",
    "    for(t in 1:P){\n",
    "        if (theta[])\n",
    "        new_objV1 = new_objV1 + 1/2*mean((Y[[t]]-X[[t]]%*%theta[,t])^2)\n",
    "        #IRdisplay::display_html(sum(is.na(X[[t]])))\n",
    "        #IRdisplay::display_html(sum(is.na(Y[[t]])))\n",
    "        #IRdisplay::display_html(theta[,t])\n",
    "    }\n",
    "    IRdisplay::display_html(paste0(\"Training error: \", new_objV1, '\\n'))\n",
    "    for(t in 1:P){\n",
    "        new_objV2 = new_objV2 + 1/2*mean((Y1[[t]]-X1[[t]]%*%theta[,t])^2)\n",
    "        #IRdisplay::display_html(sum(is.na(X[[t]])))\n",
    "        #IRdisplay::display_html(sum(is.na(Y[[t]])))\n",
    "        #IRdisplay::display_html(theta[,t])\n",
    "    }\n",
    "    IRdisplay::display_html(paste0(\"Testing error: \", new_objV2, '\\n'))\n",
    "    if(new_objV2 > old_objV2|new_objV1 > old_objV1){\n",
    "        break\n",
    "    }else{\n",
    "        old_objV2 = new_objV2\n",
    "    }\n",
    "    if(abs(new_objV1-old_objV1) < eps){\n",
    "        break\n",
    "    }else{\n",
    "        old_objV1 = new_objV1\n",
    "    }\n",
    "}\n",
    "#edt = Sys.time()\n",
    "#print(edt-bgt)\n",
    "#list(est = theta, tune_err = new_objV2)"
   ]
  },
  {
   "cell_type": "code",
   "execution_count": null,
   "metadata": {},
   "outputs": [],
   "source": []
  },
  {
   "cell_type": "code",
   "execution_count": 65,
   "metadata": {},
   "outputs": [],
   "source": [
    "beta_j_lasso_matrix_test <- matrix(beta_j_lasso_matrix, M, P)"
   ]
  },
  {
   "cell_type": "code",
   "execution_count": 66,
   "metadata": {},
   "outputs": [
    {
     "data": {
      "text/html": [
       "41258"
      ],
      "text/latex": [
       "41258"
      ],
      "text/markdown": [
       "41258"
      ],
      "text/plain": [
       "[1] 41258"
      ]
     },
     "metadata": {},
     "output_type": "display_data"
    }
   ],
   "source": [
    "sum(!is.na(beta_j_lasso_matrix))"
   ]
  },
  {
   "cell_type": "code",
   "execution_count": 67,
   "metadata": {},
   "outputs": [
    {
     "data": {
      "image/png": "[encoded data removed]",
      "text/plain": [
       "Plot with title “Histogram of beta_j_lasso_matrix”"
      ]
     },
     "metadata": {
      "image/png": {
       "height": 420,
       "width": 420
      },
      "text/plain": {
       "height": 420,
       "width": 420
      }
     },
     "output_type": "display_data"
    }
   ],
   "source": [
    "hist(beta_j_lasso_matrix)"
   ]
  },
  {
   "cell_type": "code",
   "execution_count": null,
   "metadata": {},
   "outputs": [],
   "source": []
  },
  {
   "cell_type": "code",
   "execution_count": 70,
   "metadata": {},
   "outputs": [
    {
     "data": {
      "text/html": [
       "'list'"
      ],
      "text/latex": [
       "'list'"
      ],
      "text/markdown": [
       "'list'"
      ],
      "text/plain": [
       "[1] \"list\""
      ]
     },
     "metadata": {},
     "output_type": "display_data"
    }
   ],
   "source": [
    "class(XX_train)"
   ]
  },
  {
   "cell_type": "code",
   "execution_count": 71,
   "metadata": {},
   "outputs": [
    {
     "data": {
      "text/html": [
       "<table>\n",
       "<caption>A matrix: 6092 × 6092 of type dbl</caption>\n",
       "<thead>\n",
       "\t<tr><th></th><th scope=col>chr2_71129368_C_T_b38</th><th scope=col>chr2_71129592_A_T_b38</th><th scope=col>chr2_71130065_C_A_b38</th><th scope=col>chr2_71130287_C_A_b38</th><th scope=col>chr2_71130375_C_T_b38</th><th scope=col>chr2_71130504_C_T_b38</th><th scope=col>chr2_71130580_G_C_b38</th><th scope=col>chr2_71130634_A_G_b38</th><th scope=col>chr2_71130975_A_G_b38</th><th scope=col>chr2_71131072_T_C_b38</th><th scope=col>⋯</th><th scope=col>chr2_73146320_G_A_b38</th><th scope=col>chr2_73146576_C_G_b38</th><th scope=col>chr2_73146922_A_G_b38</th><th scope=col>chr2_73146968_T_C_b38</th><th scope=col>chr2_73146997_T_C_b38</th><th scope=col>chr2_73147028_G_A_b38</th><th scope=col>chr2_73147287_T_C_b38</th><th scope=col>chr2_73147326_A_G_b38</th><th scope=col>chr2_73147380_G_C_b38</th><th scope=col>chr2_73147737_A_T_b38</th></tr>\n",
       "</thead>\n",
       "<tbody>\n",
       "\t<tr><th scope=row>chr2_71129368_C_T_b38</th><td> 0.0385416845</td><td>-0.009852114</td><td> 0.0385416845</td><td> 0.034113599</td><td> 0.0385416845</td><td> 0.034121369</td><td>-0.017467388</td><td>-0.0005514403</td><td> 0.0385416845</td><td> 0.0385416845</td><td>⋯</td><td> 0.025158622</td><td> 0.0011838990</td><td> 0.0152904568</td><td> 0.0152904568</td><td>-0.002262297</td><td> 0.0152904568</td><td>-0.002262297</td><td> 0.0152904568</td><td> 8.552233e-03</td><td> 0.025026589</td></tr>\n",
       "\t<tr><th scope=row>chr2_71129592_A_T_b38</th><td>-0.0098521137</td><td> 0.253474776</td><td>-0.0098521137</td><td>-0.129003757</td><td>-0.0098521137</td><td>-0.129118726</td><td> 0.207716501</td><td>-0.0053505669</td><td>-0.0098521137</td><td>-0.0098521137</td><td>⋯</td><td>-0.038582881</td><td>-0.0100653399</td><td>-0.0183421277</td><td>-0.0183421277</td><td>-0.004714161</td><td>-0.0183421277</td><td>-0.004714161</td><td>-0.0183421277</td><td>-1.159928e-02</td><td>-0.040006750</td></tr>\n",
       "\t<tr><th scope=row>chr2_71130065_C_A_b38</th><td> 0.0385416845</td><td>-0.009852114</td><td> 0.0385416845</td><td> 0.034113599</td><td> 0.0385416845</td><td> 0.034121369</td><td>-0.017467388</td><td>-0.0005514403</td><td> 0.0385416845</td><td> 0.0385416845</td><td>⋯</td><td> 0.025158622</td><td> 0.0011838990</td><td> 0.0152904568</td><td> 0.0152904568</td><td>-0.002262297</td><td> 0.0152904568</td><td>-0.002262297</td><td> 0.0152904568</td><td> 8.552233e-03</td><td> 0.025026589</td></tr>\n",
       "\t<tr><th scope=row>chr2_71130287_C_A_b38</th><td> 0.0341135989</td><td>-0.129003757</td><td> 0.0341135989</td><td> 0.548562093</td><td> 0.0341135989</td><td> 0.548651806</td><td>-0.208811262</td><td> 0.0173959129</td><td> 0.0341135989</td><td> 0.0341135989</td><td>⋯</td><td> 0.157888691</td><td> 0.0064917207</td><td> 0.1067866949</td><td> 0.1067866949</td><td>-0.018760236</td><td> 0.1067866949</td><td>-0.018760236</td><td> 0.1067866949</td><td> 4.135110e-02</td><td> 0.154629515</td></tr>\n",
       "\t<tr><th scope=row>chr2_71130375_C_T_b38</th><td> 0.0385416845</td><td>-0.009852114</td><td> 0.0385416845</td><td> 0.034113599</td><td> 0.0385416845</td><td> 0.034121369</td><td>-0.017467388</td><td>-0.0005514403</td><td> 0.0385416845</td><td> 0.0385416845</td><td>⋯</td><td> 0.025158622</td><td> 0.0011838990</td><td> 0.0152904568</td><td> 0.0152904568</td><td>-0.002262297</td><td> 0.0152904568</td><td>-0.002262297</td><td> 0.0152904568</td><td> 8.552233e-03</td><td> 0.025026589</td></tr>\n",
       "\t<tr><th scope=row>chr2_71130504_C_T_b38</th><td> 0.0341213685</td><td>-0.129118726</td><td> 0.0341213685</td><td> 0.548651806</td><td> 0.0341213685</td><td> 0.548747214</td><td>-0.208980844</td><td> 0.0173865194</td><td> 0.0341213685</td><td> 0.0341213685</td><td>⋯</td><td> 0.158027544</td><td> 0.0065558010</td><td> 0.1068834274</td><td> 0.1068834274</td><td>-0.018698229</td><td> 0.1068834274</td><td>-0.018698229</td><td> 0.1068834274</td><td> 4.133106e-02</td><td> 0.154770292</td></tr>\n",
       "\t<tr><th scope=row>chr2_71130580_G_C_b38</th><td>-0.0174673880</td><td> 0.207716501</td><td>-0.0174673880</td><td>-0.208811262</td><td>-0.0174673880</td><td>-0.208980844</td><td> 0.382857330</td><td> 0.0079743363</td><td>-0.0174673880</td><td>-0.0174673880</td><td>⋯</td><td>-0.055072676</td><td>-0.0238376185</td><td>-0.0251944718</td><td>-0.0251944718</td><td>-0.024083672</td><td>-0.0251944718</td><td>-0.024083672</td><td>-0.0251944718</td><td>-8.560153e-03</td><td>-0.057592243</td></tr>\n",
       "\t<tr><th scope=row>chr2_71130634_A_G_b38</th><td>-0.0005514403</td><td>-0.005350567</td><td>-0.0005514403</td><td> 0.017395913</td><td>-0.0005514403</td><td> 0.017386519</td><td> 0.007974336</td><td> 0.0172515636</td><td>-0.0005514403</td><td>-0.0005514403</td><td>⋯</td><td> 0.012159441</td><td> 0.0042802886</td><td> 0.0059962164</td><td> 0.0059962164</td><td>-0.003949594</td><td> 0.0059962164</td><td>-0.003949594</td><td> 0.0059962164</td><td> 1.802817e-03</td><td> 0.012079322</td></tr>\n",
       "\t<tr><th scope=row>chr2_71130975_A_G_b38</th><td> 0.0385416845</td><td>-0.009852114</td><td> 0.0385416845</td><td> 0.034113599</td><td> 0.0385416845</td><td> 0.034121369</td><td>-0.017467388</td><td>-0.0005514403</td><td> 0.0385416845</td><td> 0.0385416845</td><td>⋯</td><td> 0.025158622</td><td> 0.0011838990</td><td> 0.0152904568</td><td> 0.0152904568</td><td>-0.002262297</td><td> 0.0152904568</td><td>-0.002262297</td><td> 0.0152904568</td><td> 8.552233e-03</td><td> 0.025026589</td></tr>\n",
       "\t<tr><th scope=row>chr2_71131072_T_C_b38</th><td> 0.0385416845</td><td>-0.009852114</td><td> 0.0385416845</td><td> 0.034113599</td><td> 0.0385416845</td><td> 0.034121369</td><td>-0.017467388</td><td>-0.0005514403</td><td> 0.0385416845</td><td> 0.0385416845</td><td>⋯</td><td> 0.025158622</td><td> 0.0011838990</td><td> 0.0152904568</td><td> 0.0152904568</td><td>-0.002262297</td><td> 0.0152904568</td><td>-0.002262297</td><td> 0.0152904568</td><td> 8.552233e-03</td><td> 0.025026589</td></tr>\n",
       "\t<tr><th scope=row>chr2_71131131_C_T_b38</th><td> 0.0385416845</td><td>-0.009852114</td><td> 0.0385416845</td><td> 0.034113599</td><td> 0.0385416845</td><td> 0.034121369</td><td>-0.017467388</td><td>-0.0005514403</td><td> 0.0385416845</td><td> 0.0385416845</td><td>⋯</td><td> 0.025158622</td><td> 0.0011838990</td><td> 0.0152904568</td><td> 0.0152904568</td><td>-0.002262297</td><td> 0.0152904568</td><td>-0.002262297</td><td> 0.0152904568</td><td> 8.552233e-03</td><td> 0.025026589</td></tr>\n",
       "\t<tr><th scope=row>chr2_71131515_T_C_b38</th><td> 0.0210742965</td><td> 0.197864388</td><td> 0.0210742965</td><td>-0.174697663</td><td> 0.0210742965</td><td>-0.174859476</td><td> 0.365389942</td><td> 0.0074228960</td><td> 0.0210742965</td><td> 0.0210742965</td><td>⋯</td><td>-0.029914054</td><td>-0.0226537195</td><td>-0.0099040150</td><td>-0.0099040150</td><td>-0.026345968</td><td>-0.0099040150</td><td>-0.026345968</td><td>-0.0099040150</td><td>-7.919475e-06</td><td>-0.032565654</td></tr>\n",
       "\t<tr><th scope=row>chr2_71131552_C_A_b38</th><td> 0.0036242838</td><td>-0.050492209</td><td> 0.0036242838</td><td> 0.227285710</td><td> 0.0036242838</td><td> 0.227305521</td><td>-0.092079506</td><td> 0.0076620042</td><td> 0.0036242838</td><td> 0.0036242838</td><td>⋯</td><td> 0.083316120</td><td> 0.0100912968</td><td> 0.0481973227</td><td> 0.0481973227</td><td> 0.002100859</td><td> 0.0481973227</td><td> 0.002100859</td><td> 0.0481973227</td><td> 2.366839e-02</td><td> 0.081957006</td></tr>\n",
       "\t<tr><th scope=row>chr2_71131579_A_G_b38</th><td>-0.0035067159</td><td> 0.099028920</td><td>-0.0035067159</td><td>-0.048769061</td><td>-0.0035067159</td><td>-0.048871915</td><td> 0.086241579</td><td>-0.0017540512</td><td>-0.0035067159</td><td>-0.0035067159</td><td>⋯</td><td>-0.029246270</td><td>-0.0022535902</td><td>-0.0202908681</td><td>-0.0202908681</td><td> 0.001150272</td><td>-0.0202908681</td><td> 0.001150272</td><td>-0.0202908681</td><td>-7.217464e-03</td><td>-0.029761923</td></tr>\n",
       "\t<tr><th scope=row>chr2_71131607_A_G_b38</th><td> 0.0210548725</td><td> 0.198151812</td><td> 0.0210548725</td><td>-0.174921944</td><td> 0.0210548725</td><td>-0.175097997</td><td> 0.365813897</td><td> 0.0074463797</td><td> 0.0210548725</td><td> 0.0210548725</td><td>⋯</td><td>-0.030261187</td><td>-0.0228139202</td><td>-0.0101458462</td><td>-0.0101458462</td><td>-0.026500985</td><td>-0.0101458462</td><td>-0.026500985</td><td>-0.0101458462</td><td> 4.217058e-05</td><td>-0.032917596</td></tr>\n",
       "\t<tr><th scope=row>chr2_71131875_C_T_b38</th><td> 0.0385416845</td><td>-0.009852114</td><td> 0.0385416845</td><td> 0.034113599</td><td> 0.0385416845</td><td> 0.034121369</td><td>-0.017467388</td><td>-0.0005514403</td><td> 0.0385416845</td><td> 0.0385416845</td><td>⋯</td><td> 0.025158622</td><td> 0.0011838990</td><td> 0.0152904568</td><td> 0.0152904568</td><td>-0.002262297</td><td> 0.0152904568</td><td>-0.002262297</td><td> 0.0152904568</td><td> 8.552233e-03</td><td> 0.025026589</td></tr>\n",
       "\t<tr><th scope=row>chr2_71132131_A_G_b38</th><td>-0.0004388313</td><td>-0.003639273</td><td>-0.0004388313</td><td> 0.007272913</td><td>-0.0004388313</td><td> 0.007247356</td><td>-0.002240037</td><td>-0.0001886933</td><td>-0.0004388313</td><td>-0.0004388313</td><td>⋯</td><td> 0.003185852</td><td> 0.0008089731</td><td> 0.0041827817</td><td> 0.0041827817</td><td> 0.001222247</td><td> 0.0041827817</td><td> 0.001222247</td><td> 0.0041827817</td><td>-1.872244e-03</td><td> 0.003119511</td></tr>\n",
       "\t<tr><th scope=row>chr2_71132480_A_G_b38</th><td>-0.0011028805</td><td> 0.006842726</td><td>-0.0011028805</td><td> 0.012862001</td><td>-0.0011028805</td><td> 0.012843214</td><td>-0.001595187</td><td>-0.0005845921</td><td>-0.0011028805</td><td>-0.0011028805</td><td>⋯</td><td>-0.015154801</td><td>-0.0089832824</td><td>-0.0055514268</td><td>-0.0055514268</td><td>-0.007899189</td><td>-0.0055514268</td><td>-0.007899189</td><td>-0.0055514268</td><td>-7.803306e-04</td><td>-0.015315040</td></tr>\n",
       "\t<tr><th scope=row>chr2_71132575_A_G_b38</th><td>-0.0017280818</td><td>-0.013951878</td><td>-0.0017280818</td><td>-0.029345963</td><td>-0.0017280818</td><td>-0.029329499</td><td> 0.028903509</td><td>-0.0010274581</td><td>-0.0017280818</td><td>-0.0017280818</td><td>⋯</td><td>-0.006485400</td><td>-0.0052972416</td><td>-0.0060300428</td><td>-0.0060300428</td><td>-0.003552696</td><td>-0.0060300428</td><td>-0.003552696</td><td>-0.0060300428</td><td> 4.597367e-03</td><td>-0.006729917</td></tr>\n",
       "\t<tr><th scope=row>chr2_71132702_G_A_b38</th><td> 0.0385416845</td><td>-0.009852114</td><td> 0.0385416845</td><td> 0.034113599</td><td> 0.0385416845</td><td> 0.034121369</td><td>-0.017467388</td><td>-0.0005514403</td><td> 0.0385416845</td><td> 0.0385416845</td><td>⋯</td><td> 0.025158622</td><td> 0.0011838990</td><td> 0.0152904568</td><td> 0.0152904568</td><td>-0.002262297</td><td> 0.0152904568</td><td>-0.002262297</td><td> 0.0152904568</td><td> 8.552233e-03</td><td> 0.025026589</td></tr>\n",
       "\t<tr><th scope=row>chr2_71132970_G_A_b38</th><td> 0.0385416845</td><td>-0.009852114</td><td> 0.0385416845</td><td> 0.034113599</td><td> 0.0385416845</td><td> 0.034121369</td><td>-0.017467388</td><td>-0.0005514403</td><td> 0.0385416845</td><td> 0.0385416845</td><td>⋯</td><td> 0.025158622</td><td> 0.0011838990</td><td> 0.0152904568</td><td> 0.0152904568</td><td>-0.002262297</td><td> 0.0152904568</td><td>-0.002262297</td><td> 0.0152904568</td><td> 8.552233e-03</td><td> 0.025026589</td></tr>\n",
       "\t<tr><th scope=row>chr2_71133014_A_C_b38</th><td> 0.0210781813</td><td> 0.197806903</td><td> 0.0210781813</td><td>-0.174652807</td><td> 0.0210781813</td><td>-0.174811771</td><td> 0.365305152</td><td> 0.0074181993</td><td> 0.0210781813</td><td> 0.0210781813</td><td>⋯</td><td>-0.029844627</td><td>-0.0226216794</td><td>-0.0098556487</td><td>-0.0098556487</td><td>-0.026314965</td><td>-0.0098556487</td><td>-0.026314965</td><td>-0.0098556487</td><td>-1.793749e-05</td><td>-0.032495266</td></tr>\n",
       "\t<tr><th scope=row>chr2_71133152_G_A_b38</th><td>-0.0060097195</td><td>-0.048221156</td><td>-0.0060097195</td><td> 0.244662861</td><td>-0.0060097195</td><td> 0.244741706</td><td>-0.097915235</td><td>-0.0061318718</td><td>-0.0060097195</td><td>-0.0060097195</td><td>⋯</td><td> 0.026391087</td><td>-0.0056919412</td><td> 0.0336566178</td><td> 0.0336566178</td><td>-0.008375307</td><td> 0.0336566178</td><td>-0.008375307</td><td> 0.0336566178</td><td>-3.047424e-03</td><td> 0.024917253</td></tr>\n",
       "\t<tr><th scope=row>chr2_71133495_G_T_b38</th><td> 0.0210345412</td><td> 0.195879972</td><td> 0.0210345412</td><td>-0.177202774</td><td> 0.0210345412</td><td>-0.177362089</td><td> 0.363036296</td><td> 0.0073941145</td><td> 0.0210345412</td><td> 0.0210345412</td><td>⋯</td><td>-0.031320668</td><td>-0.0229770843</td><td>-0.0107741627</td><td>-0.0107741627</td><td>-0.026627081</td><td>-0.0107741627</td><td>-0.026627081</td><td>-0.0107741627</td><td>-2.263435e-04</td><td>-0.033977591</td></tr>\n",
       "\t<tr><th scope=row>chr2_71133593_A_G_b38</th><td> 0.0042961026</td><td>-0.043545318</td><td> 0.0042961026</td><td> 0.199856510</td><td> 0.0042961026</td><td> 0.199875247</td><td>-0.079736043</td><td> 0.0080485096</td><td> 0.0042961026</td><td> 0.0042961026</td><td>⋯</td><td> 0.062321943</td><td> 0.0111757027</td><td> 0.0360984391</td><td> 0.0360984391</td><td> 0.006898337</td><td> 0.0360984391</td><td> 0.006898337</td><td> 0.0360984391</td><td> 1.378451e-02</td><td> 0.061058649</td></tr>\n",
       "\t<tr><th scope=row>chr2_71133605_T_TTCC_b38</th><td> 0.0047038556</td><td>-0.039446166</td><td> 0.0047038556</td><td> 0.187838782</td><td> 0.0047038556</td><td> 0.187860292</td><td>-0.081203644</td><td> 0.0038888118</td><td> 0.0047038556</td><td> 0.0047038556</td><td>⋯</td><td> 0.054194713</td><td> 0.0101104085</td><td> 0.0271427625</td><td> 0.0271427625</td><td> 0.005428063</td><td> 0.0271427625</td><td> 0.005428063</td><td> 0.0271427625</td><td> 1.573690e-02</td><td> 0.052990066</td></tr>\n",
       "\t<tr><th scope=row>chr2_71133774_T_C_b38</th><td>-0.0012154895</td><td>-0.012412427</td><td>-0.0012154895</td><td> 0.018599036</td><td>-0.0012154895</td><td> 0.018596413</td><td>-0.008924673</td><td>-0.0006881948</td><td>-0.0012154895</td><td>-0.0012154895</td><td>⋯</td><td> 0.006976682</td><td>-0.0055119668</td><td> 0.0006479729</td><td> 0.0006479729</td><td>-0.004299101</td><td> 0.0006479729</td><td>-0.004299101</td><td> 0.0006479729</td><td> 1.166666e-02</td><td> 0.006802666</td></tr>\n",
       "\t<tr><th scope=row>chr2_71133843_A_C_b38</th><td>-0.0169276021</td><td> 0.213239523</td><td>-0.0169276021</td><td>-0.226341744</td><td>-0.0169276021</td><td>-0.226510476</td><td> 0.375137367</td><td>-0.0092631371</td><td>-0.0169276021</td><td>-0.0169276021</td><td>⋯</td><td>-0.067440397</td><td>-0.0282140276</td><td>-0.0313357870</td><td>-0.0313357870</td><td>-0.020227088</td><td>-0.0313357870</td><td>-0.020227088</td><td>-0.0313357870</td><td>-1.033292e-02</td><td>-0.069882730</td></tr>\n",
       "\t<tr><th scope=row>chr2_71134202_T_G_b38</th><td> 0.0210781813</td><td> 0.197806903</td><td> 0.0210781813</td><td>-0.174652807</td><td> 0.0210781813</td><td>-0.174811771</td><td> 0.365305152</td><td> 0.0074181993</td><td> 0.0210781813</td><td> 0.0210781813</td><td>⋯</td><td>-0.029844627</td><td>-0.0226216794</td><td>-0.0098556487</td><td>-0.0098556487</td><td>-0.026314965</td><td>-0.0098556487</td><td>-0.026314965</td><td>-0.0098556487</td><td>-1.793749e-05</td><td>-0.032495266</td></tr>\n",
       "\t<tr><th scope=row>chr2_71134488_T_G_b38</th><td> 0.0385416845</td><td>-0.009852114</td><td> 0.0385416845</td><td> 0.034113599</td><td> 0.0385416845</td><td> 0.034121369</td><td>-0.017467388</td><td>-0.0005514403</td><td> 0.0385416845</td><td> 0.0385416845</td><td>⋯</td><td> 0.025158622</td><td> 0.0011838990</td><td> 0.0152904568</td><td> 0.0152904568</td><td>-0.002262297</td><td> 0.0152904568</td><td>-0.002262297</td><td> 0.0152904568</td><td> 8.552233e-03</td><td> 0.025026589</td></tr>\n",
       "\t<tr><th scope=row>⋮</th><td>⋮</td><td>⋮</td><td>⋮</td><td>⋮</td><td>⋮</td><td>⋮</td><td>⋮</td><td>⋮</td><td>⋮</td><td>⋮</td><td>⋱</td><td>⋮</td><td>⋮</td><td>⋮</td><td>⋮</td><td>⋮</td><td>⋮</td><td>⋮</td><td>⋮</td><td>⋮</td><td>⋮</td></tr>\n",
       "\t<tr><th scope=row>chr2_73143754_A_T_b38</th><td> 0.0195443889</td><td>-0.0197659968</td><td> 0.0195443889</td><td> 0.112299449</td><td> 0.0195443889</td><td> 0.112398105</td><td>-0.027714039</td><td> 0.0059160973</td><td> 0.0195443889</td><td> 0.0195443889</td><td>⋯</td><td> 0.324619488</td><td>-0.074548013</td><td> 0.45904692</td><td> 0.45904692</td><td>-0.080835851</td><td> 0.45904692</td><td>-0.080835851</td><td> 0.45904692</td><td>-0.0539404408</td><td> 0.330558469</td></tr>\n",
       "\t<tr><th scope=row>chr2_73143879_G_A_b38</th><td> 0.0250343585</td><td>-0.0401217196</td><td> 0.0250343585</td><td> 0.154719227</td><td> 0.0250343585</td><td> 0.154865700</td><td>-0.057761825</td><td> 0.0120699288</td><td> 0.0250343585</td><td> 0.0250343585</td><td>⋯</td><td> 0.492682630</td><td> 0.090463609</td><td> 0.32643330</td><td> 0.32643330</td><td> 0.065575723</td><td> 0.32643330</td><td> 0.065575723</td><td> 0.32643330</td><td> 0.0800095523</td><td> 0.496906458</td></tr>\n",
       "\t<tr><th scope=row>chr2_73144216_T_C_b38</th><td> 0.0112045451</td><td>-0.0008382152</td><td> 0.0112045451</td><td> 0.040879716</td><td> 0.0112045451</td><td> 0.040829751</td><td> 0.002103133</td><td> 0.0121630388</td><td> 0.0112045451</td><td> 0.0112045451</td><td>⋯</td><td> 0.035562538</td><td> 0.001630875</td><td> 0.03385445</td><td> 0.03385445</td><td>-0.005237671</td><td> 0.03385445</td><td>-0.005237671</td><td> 0.03385445</td><td>-0.0002089792</td><td> 0.035276350</td></tr>\n",
       "\t<tr><th scope=row>chr2_73144347_T_C_b38</th><td> 0.0152904568</td><td>-0.0183421277</td><td> 0.0152904568</td><td> 0.106786695</td><td> 0.0152904568</td><td> 0.106883427</td><td>-0.025194472</td><td> 0.0059962164</td><td> 0.0152904568</td><td> 0.0152904568</td><td>⋯</td><td> 0.320378997</td><td>-0.077859128</td><td> 0.45747532</td><td> 0.45747532</td><td>-0.079894957</td><td> 0.45747532</td><td>-0.079894957</td><td> 0.45747532</td><td>-0.0532796268</td><td> 0.326336565</td></tr>\n",
       "\t<tr><th scope=row>chr2_73144348_G_A_b38</th><td> 0.0154186049</td><td>-0.0168607737</td><td> 0.0154186049</td><td> 0.101229085</td><td> 0.0154186049</td><td> 0.101321046</td><td>-0.026976079</td><td> 0.0016950674</td><td> 0.0154186049</td><td> 0.0154186049</td><td>⋯</td><td> 0.316069079</td><td>-0.081202283</td><td> 0.45585535</td><td> 0.45585535</td><td>-0.078985067</td><td> 0.45585535</td><td>-0.078985067</td><td> 0.45585535</td><td>-0.0526087948</td><td> 0.322044272</td></tr>\n",
       "\t<tr><th scope=row>chr2_73144396_AC_A_b38</th><td> 0.0152904568</td><td>-0.0183421277</td><td> 0.0152904568</td><td> 0.106786695</td><td> 0.0152904568</td><td> 0.106883427</td><td>-0.025194472</td><td> 0.0059962164</td><td> 0.0152904568</td><td> 0.0152904568</td><td>⋯</td><td> 0.320378997</td><td>-0.077859128</td><td> 0.45747532</td><td> 0.45747532</td><td>-0.079894957</td><td> 0.45747532</td><td>-0.079894957</td><td> 0.45747532</td><td>-0.0532796268</td><td> 0.326336565</td></tr>\n",
       "\t<tr><th scope=row>chr2_73144646_G_A_b38</th><td> 0.0086764964</td><td>-0.0100604433</td><td> 0.0086764964</td><td> 0.035748633</td><td> 0.0086764964</td><td> 0.035720977</td><td>-0.010256969</td><td>-0.0024936352</td><td> 0.0086764964</td><td> 0.0086764964</td><td>⋯</td><td> 0.076311058</td><td>-0.027723407</td><td>-0.05494796</td><td>-0.05494796</td><td>-0.027655630</td><td>-0.05494796</td><td>-0.027655630</td><td>-0.05494796</td><td> 0.1583382774</td><td> 0.075666907</td></tr>\n",
       "\t<tr><th scope=row>chr2_73144654_G_GCTTTT_b38</th><td> 0.0152904568</td><td>-0.0183421277</td><td> 0.0152904568</td><td> 0.106786695</td><td> 0.0152904568</td><td> 0.106883427</td><td>-0.025194472</td><td> 0.0059962164</td><td> 0.0152904568</td><td> 0.0152904568</td><td>⋯</td><td> 0.320378997</td><td>-0.077859128</td><td> 0.45747532</td><td> 0.45747532</td><td>-0.079894957</td><td> 0.45747532</td><td>-0.079894957</td><td> 0.45747532</td><td>-0.0532796268</td><td> 0.326336565</td></tr>\n",
       "\t<tr><th scope=row>chr2_73144957_C_T_b38</th><td>-0.0071087152</td><td> 0.0068096989</td><td>-0.0071087152</td><td> 0.020727613</td><td>-0.0071087152</td><td> 0.020790519</td><td> 0.010053910</td><td>-0.0067211606</td><td>-0.0071087152</td><td>-0.0071087152</td><td>⋯</td><td> 0.164814484</td><td>-0.067274762</td><td> 0.26938163</td><td> 0.26938163</td><td>-0.060103141</td><td> 0.26938163</td><td>-0.060103141</td><td> 0.26938163</td><td>-0.0345395268</td><td> 0.167567338</td></tr>\n",
       "\t<tr><th scope=row>chr2_73145084_T_A_b38</th><td> 0.0152943416</td><td>-0.0183996126</td><td> 0.0152943416</td><td> 0.106831551</td><td> 0.0152943416</td><td> 0.106931132</td><td>-0.025279263</td><td> 0.0059915197</td><td> 0.0152943416</td><td> 0.0152943416</td><td>⋯</td><td> 0.320448423</td><td>-0.077827088</td><td> 0.45752369</td><td> 0.45752369</td><td>-0.079863954</td><td> 0.45752369</td><td>-0.079863954</td><td> 0.45752369</td><td>-0.0532896448</td><td> 0.326406953</td></tr>\n",
       "\t<tr><th scope=row>chr2_73145220_G_T_b38</th><td> 0.0085522331</td><td>-0.0115992822</td><td> 0.0085522331</td><td> 0.041351099</td><td> 0.0085522331</td><td> 0.041331063</td><td>-0.008560153</td><td> 0.0018028172</td><td> 0.0085522331</td><td> 0.0085522331</td><td>⋯</td><td> 0.080690402</td><td>-0.028734177</td><td>-0.05327963</td><td>-0.05327963</td><td>-0.028534516</td><td>-0.05327963</td><td>-0.028534516</td><td>-0.05327963</td><td> 0.1620433923</td><td> 0.080029588</td></tr>\n",
       "\t<tr><th scope=row>chr2_73145430_T_C_b38</th><td> 0.0195405041</td><td>-0.0197085119</td><td> 0.0195405041</td><td> 0.112254592</td><td> 0.0195405041</td><td> 0.112350401</td><td>-0.027629248</td><td> 0.0059207941</td><td> 0.0195405041</td><td> 0.0195405041</td><td>⋯</td><td> 0.324550061</td><td>-0.074580053</td><td> 0.45899856</td><td> 0.45899856</td><td>-0.080866854</td><td> 0.45899856</td><td>-0.080866854</td><td> 0.45899856</td><td>-0.0539304227</td><td> 0.330488081</td></tr>\n",
       "\t<tr><th scope=row>chr2_73145448_C_T_b38</th><td> 0.0030384426</td><td>-0.0050643666</td><td> 0.0030384426</td><td>-0.019747859</td><td> 0.0030384426</td><td>-0.019748559</td><td>-0.007058275</td><td>-0.0007683139</td><td> 0.0030384426</td><td> 0.0030384426</td><td>⋯</td><td> 0.002445244</td><td> 0.032886867</td><td>-0.02409621</td><td>-0.02409621</td><td> 0.034233690</td><td>-0.02409621</td><td> 0.034233690</td><td>-0.02409621</td><td>-0.0065380134</td><td> 0.002252641</td></tr>\n",
       "\t<tr><th scope=row>chr2_73145477_C_T_b38</th><td> 0.0143817658</td><td>-0.0241531858</td><td> 0.0143817658</td><td> 0.106081712</td><td> 0.0143817658</td><td> 0.106203302</td><td>-0.030012710</td><td> 0.0054165958</td><td> 0.0143817658</td><td> 0.0143817658</td><td>⋯</td><td> 0.293322599</td><td>-0.085254918</td><td> 0.44235422</td><td> 0.44235422</td><td>-0.086357199</td><td> 0.44235422</td><td>-0.086357199</td><td> 0.44235422</td><td>-0.0579453965</td><td> 0.299153905</td></tr>\n",
       "\t<tr><th scope=row>chr2_73145683_G_A_b38</th><td> 0.0112045451</td><td>-0.0008382152</td><td> 0.0112045451</td><td> 0.040879716</td><td> 0.0112045451</td><td> 0.040829751</td><td> 0.002103133</td><td> 0.0121630388</td><td> 0.0112045451</td><td> 0.0112045451</td><td>⋯</td><td> 0.035562538</td><td> 0.001630875</td><td> 0.03385445</td><td> 0.03385445</td><td>-0.005237671</td><td> 0.03385445</td><td>-0.005237671</td><td> 0.03385445</td><td>-0.0002089792</td><td> 0.035276350</td></tr>\n",
       "\t<tr><th scope=row>chr2_73145979_A_G_b38</th><td>-0.0012077199</td><td>-0.0037554673</td><td>-0.0012077199</td><td>-0.003241076</td><td>-0.0012077199</td><td>-0.003238003</td><td>-0.009094255</td><td>-0.0006975883</td><td>-0.0012077199</td><td>-0.0012077199</td><td>⋯</td><td>-0.014814289</td><td> 0.003324043</td><td>-0.01241319</td><td>-0.01241319</td><td> 0.004534836</td><td>-0.01241319</td><td> 0.004534836</td><td>-0.01241319</td><td>-0.0058972355</td><td>-0.014986382</td></tr>\n",
       "\t<tr><th scope=row>chr2_73146216_G_A_b38</th><td> 0.0152904568</td><td>-0.0183421277</td><td> 0.0152904568</td><td> 0.106786695</td><td> 0.0152904568</td><td> 0.106883427</td><td>-0.025194472</td><td> 0.0059962164</td><td> 0.0152904568</td><td> 0.0152904568</td><td>⋯</td><td> 0.320378997</td><td>-0.077859128</td><td> 0.45747532</td><td> 0.45747532</td><td>-0.079894957</td><td> 0.45747532</td><td>-0.079894957</td><td> 0.45747532</td><td>-0.0532796268</td><td> 0.326336565</td></tr>\n",
       "\t<tr><th scope=row>chr2_73146226_A_ACTCTCT_b38</th><td> 0.0169564639</td><td>-0.0266361519</td><td> 0.0169564639</td><td> 0.107909223</td><td> 0.0169564639</td><td> 0.108007609</td><td>-0.036795935</td><td> 0.0069442057</td><td> 0.0169564639</td><td> 0.0169564639</td><td>⋯</td><td> 0.260848536</td><td>-0.064292834</td><td> 0.37654154</td><td> 0.37654154</td><td>-0.067993018</td><td> 0.37654154</td><td>-0.067993018</td><td> 0.37654154</td><td>-0.0452043600</td><td> 0.267044342</td></tr>\n",
       "\t<tr><th scope=row>chr2_73146251_C_A_b38</th><td> 0.0034750754</td><td>-0.0172511389</td><td> 0.0034750754</td><td> 0.027348269</td><td> 0.0034750754</td><td> 0.027413823</td><td>-0.025882117</td><td>-0.0031859771</td><td> 0.0034750754</td><td> 0.0034750754</td><td>⋯</td><td> 0.090394582</td><td>-0.016806374</td><td> 0.13284611</td><td> 0.13284611</td><td>-0.015829930</td><td> 0.13284611</td><td>-0.015829930</td><td> 0.13284611</td><td>-0.0220065211</td><td> 0.094033218</td></tr>\n",
       "\t<tr><th scope=row>chr2_73146310_C_T_b38</th><td>-0.0009319997</td><td> 0.0076917460</td><td>-0.0009319997</td><td> 0.012183774</td><td>-0.0009319997</td><td> 0.012191544</td><td> 0.004462437</td><td>-0.0005514403</td><td>-0.0009319997</td><td>-0.0009319997</td><td>⋯</td><td> 0.016386692</td><td> 0.001183899</td><td> 0.01967642</td><td> 0.01967642</td><td> 0.002123668</td><td> 0.01967642</td><td> 0.002123668</td><td> 0.01967642</td><td>-0.0046056616</td><td> 0.016254659</td></tr>\n",
       "\t<tr><th scope=row>chr2_73146320_G_A_b38</th><td> 0.0251586218</td><td>-0.0385828807</td><td> 0.0251586218</td><td> 0.157888691</td><td> 0.0251586218</td><td> 0.158027544</td><td>-0.055072676</td><td> 0.0121594414</td><td> 0.0251586218</td><td> 0.0251586218</td><td>⋯</td><td> 0.492689251</td><td> 0.091474378</td><td> 0.32037900</td><td> 0.32037900</td><td> 0.066454610</td><td> 0.32037900</td><td> 0.066454610</td><td> 0.32037900</td><td> 0.0806904023</td><td> 0.492543777</td></tr>\n",
       "\t<tr><th scope=row>chr2_73146576_C_G_b38</th><td> 0.0011838990</td><td>-0.0100653399</td><td> 0.0011838990</td><td> 0.006491721</td><td> 0.0011838990</td><td> 0.006555801</td><td>-0.023837618</td><td> 0.0042802886</td><td> 0.0011838990</td><td> 0.0011838990</td><td>⋯</td><td> 0.091474378</td><td> 0.196992833</td><td>-0.07785913</td><td>-0.07785913</td><td> 0.173943190</td><td>-0.07785913</td><td> 0.173943190</td><td>-0.07785913</td><td>-0.0287341772</td><td> 0.090399528</td></tr>\n",
       "\t<tr><th scope=row>chr2_73146922_A_G_b38</th><td> 0.0152904568</td><td>-0.0183421277</td><td> 0.0152904568</td><td> 0.106786695</td><td> 0.0152904568</td><td> 0.106883427</td><td>-0.025194472</td><td> 0.0059962164</td><td> 0.0152904568</td><td> 0.0152904568</td><td>⋯</td><td> 0.320378997</td><td>-0.077859128</td><td> 0.45747532</td><td> 0.45747532</td><td>-0.079894957</td><td> 0.45747532</td><td>-0.079894957</td><td> 0.45747532</td><td>-0.0532796268</td><td> 0.326336565</td></tr>\n",
       "\t<tr><th scope=row>chr2_73146968_T_C_b38</th><td> 0.0152904568</td><td>-0.0183421277</td><td> 0.0152904568</td><td> 0.106786695</td><td> 0.0152904568</td><td> 0.106883427</td><td>-0.025194472</td><td> 0.0059962164</td><td> 0.0152904568</td><td> 0.0152904568</td><td>⋯</td><td> 0.320378997</td><td>-0.077859128</td><td> 0.45747532</td><td> 0.45747532</td><td>-0.079894957</td><td> 0.45747532</td><td>-0.079894957</td><td> 0.45747532</td><td>-0.0532796268</td><td> 0.326336565</td></tr>\n",
       "\t<tr><th scope=row>chr2_73146997_T_C_b38</th><td>-0.0022622966</td><td>-0.0047141609</td><td>-0.0022622966</td><td>-0.018760236</td><td>-0.0022622966</td><td>-0.018698229</td><td>-0.024083672</td><td>-0.0039495944</td><td>-0.0022622966</td><td>-0.0022622966</td><td>⋯</td><td> 0.066454610</td><td> 0.173943190</td><td>-0.07989496</td><td>-0.07989496</td><td> 0.180653458</td><td>-0.07989496</td><td> 0.180653458</td><td>-0.07989496</td><td>-0.0285345165</td><td> 0.065513716</td></tr>\n",
       "\t<tr><th scope=row>chr2_73147028_G_A_b38</th><td> 0.0152904568</td><td>-0.0183421277</td><td> 0.0152904568</td><td> 0.106786695</td><td> 0.0152904568</td><td> 0.106883427</td><td>-0.025194472</td><td> 0.0059962164</td><td> 0.0152904568</td><td> 0.0152904568</td><td>⋯</td><td> 0.320378997</td><td>-0.077859128</td><td> 0.45747532</td><td> 0.45747532</td><td>-0.079894957</td><td> 0.45747532</td><td>-0.079894957</td><td> 0.45747532</td><td>-0.0532796268</td><td> 0.326336565</td></tr>\n",
       "\t<tr><th scope=row>chr2_73147287_T_C_b38</th><td>-0.0022622966</td><td>-0.0047141609</td><td>-0.0022622966</td><td>-0.018760236</td><td>-0.0022622966</td><td>-0.018698229</td><td>-0.024083672</td><td>-0.0039495944</td><td>-0.0022622966</td><td>-0.0022622966</td><td>⋯</td><td> 0.066454610</td><td> 0.173943190</td><td>-0.07989496</td><td>-0.07989496</td><td> 0.180653458</td><td>-0.07989496</td><td> 0.180653458</td><td>-0.07989496</td><td>-0.0285345165</td><td> 0.065513716</td></tr>\n",
       "\t<tr><th scope=row>chr2_73147326_A_G_b38</th><td> 0.0152904568</td><td>-0.0183421277</td><td> 0.0152904568</td><td> 0.106786695</td><td> 0.0152904568</td><td> 0.106883427</td><td>-0.025194472</td><td> 0.0059962164</td><td> 0.0152904568</td><td> 0.0152904568</td><td>⋯</td><td> 0.320378997</td><td>-0.077859128</td><td> 0.45747532</td><td> 0.45747532</td><td>-0.079894957</td><td> 0.45747532</td><td>-0.079894957</td><td> 0.45747532</td><td>-0.0532796268</td><td> 0.326336565</td></tr>\n",
       "\t<tr><th scope=row>chr2_73147380_G_C_b38</th><td> 0.0085522331</td><td>-0.0115992822</td><td> 0.0085522331</td><td> 0.041351099</td><td> 0.0085522331</td><td> 0.041331063</td><td>-0.008560153</td><td> 0.0018028172</td><td> 0.0085522331</td><td> 0.0085522331</td><td>⋯</td><td> 0.080690402</td><td>-0.028734177</td><td>-0.05327963</td><td>-0.05327963</td><td>-0.028534516</td><td>-0.05327963</td><td>-0.028534516</td><td>-0.05327963</td><td> 0.1620433923</td><td> 0.080029588</td></tr>\n",
       "\t<tr><th scope=row>chr2_73147737_A_T_b38</th><td> 0.0250265889</td><td>-0.0400067498</td><td> 0.0250265889</td><td> 0.154629515</td><td> 0.0250265889</td><td> 0.154770292</td><td>-0.057592243</td><td> 0.0120793223</td><td> 0.0250265889</td><td> 0.0250265889</td><td>⋯</td><td> 0.492543777</td><td> 0.090399528</td><td> 0.32633656</td><td> 0.32633656</td><td> 0.065513716</td><td> 0.32633656</td><td> 0.065513716</td><td> 0.32633656</td><td> 0.0800295884</td><td> 0.496765682</td></tr>\n",
       "</tbody>\n",
       "</table>\n"
      ],
      "text/latex": [
       "A matrix: 6092 × 6092 of type dbl\n",
       "\\begin{tabular}{r|lllllllllllllllllllll}\n",
       "  & chr2\\_71129368\\_C\\_T\\_b38 & chr2\\_71129592\\_A\\_T\\_b38 & chr2\\_71130065\\_C\\_A\\_b38 & chr2\\_71130287\\_C\\_A\\_b38 & chr2\\_71130375\\_C\\_T\\_b38 & chr2\\_71130504\\_C\\_T\\_b38 & chr2\\_71130580\\_G\\_C\\_b38 & chr2\\_71130634\\_A\\_G\\_b38 & chr2\\_71130975\\_A\\_G\\_b38 & chr2\\_71131072\\_T\\_C\\_b38 & ⋯ & chr2\\_73146320\\_G\\_A\\_b38 & chr2\\_73146576\\_C\\_G\\_b38 & chr2\\_73146922\\_A\\_G\\_b38 & chr2\\_73146968\\_T\\_C\\_b38 & chr2\\_73146997\\_T\\_C\\_b38 & chr2\\_73147028\\_G\\_A\\_b38 & chr2\\_73147287\\_T\\_C\\_b38 & chr2\\_73147326\\_A\\_G\\_b38 & chr2\\_73147380\\_G\\_C\\_b38 & chr2\\_73147737\\_A\\_T\\_b38\\\\\n",
       "\\hline\n",
       "\tchr2\\_71129368\\_C\\_T\\_b38 &  0.0385416845 & -0.009852114 &  0.0385416845 &  0.034113599 &  0.0385416845 &  0.034121369 & -0.017467388 & -0.0005514403 &  0.0385416845 &  0.0385416845 & ⋯ &  0.025158622 &  0.0011838990 &  0.0152904568 &  0.0152904568 & -0.002262297 &  0.0152904568 & -0.002262297 &  0.0152904568 &  8.552233e-03 &  0.025026589\\\\\n",
       "\tchr2\\_71129592\\_A\\_T\\_b38 & -0.0098521137 &  0.253474776 & -0.0098521137 & -0.129003757 & -0.0098521137 & -0.129118726 &  0.207716501 & -0.0053505669 & -0.0098521137 & -0.0098521137 & ⋯ & -0.038582881 & -0.0100653399 & -0.0183421277 & -0.0183421277 & -0.004714161 & -0.0183421277 & -0.004714161 & -0.0183421277 & -1.159928e-02 & -0.040006750\\\\\n",
       "\tchr2\\_71130065\\_C\\_A\\_b38 &  0.0385416845 & -0.009852114 &  0.0385416845 &  0.034113599 &  0.0385416845 &  0.034121369 & -0.017467388 & -0.0005514403 &  0.0385416845 &  0.0385416845 & ⋯ &  0.025158622 &  0.0011838990 &  0.0152904568 &  0.0152904568 & -0.002262297 &  0.0152904568 & -0.002262297 &  0.0152904568 &  8.552233e-03 &  0.025026589\\\\\n",
       "\tchr2\\_71130287\\_C\\_A\\_b38 &  0.0341135989 & -0.129003757 &  0.0341135989 &  0.548562093 &  0.0341135989 &  0.548651806 & -0.208811262 &  0.0173959129 &  0.0341135989 &  0.0341135989 & ⋯ &  0.157888691 &  0.0064917207 &  0.1067866949 &  0.1067866949 & -0.018760236 &  0.1067866949 & -0.018760236 &  0.1067866949 &  4.135110e-02 &  0.154629515\\\\\n",
       "\tchr2\\_71130375\\_C\\_T\\_b38 &  0.0385416845 & -0.009852114 &  0.0385416845 &  0.034113599 &  0.0385416845 &  0.034121369 & -0.017467388 & -0.0005514403 &  0.0385416845 &  0.0385416845 & ⋯ &  0.025158622 &  0.0011838990 &  0.0152904568 &  0.0152904568 & -0.002262297 &  0.0152904568 & -0.002262297 &  0.0152904568 &  8.552233e-03 &  0.025026589\\\\\n",
       "\tchr2\\_71130504\\_C\\_T\\_b38 &  0.0341213685 & -0.129118726 &  0.0341213685 &  0.548651806 &  0.0341213685 &  0.548747214 & -0.208980844 &  0.0173865194 &  0.0341213685 &  0.0341213685 & ⋯ &  0.158027544 &  0.0065558010 &  0.1068834274 &  0.1068834274 & -0.018698229 &  0.1068834274 & -0.018698229 &  0.1068834274 &  4.133106e-02 &  0.154770292\\\\\n",
       "\tchr2\\_71130580\\_G\\_C\\_b38 & -0.0174673880 &  0.207716501 & -0.0174673880 & -0.208811262 & -0.0174673880 & -0.208980844 &  0.382857330 &  0.0079743363 & -0.0174673880 & -0.0174673880 & ⋯ & -0.055072676 & -0.0238376185 & -0.0251944718 & -0.0251944718 & -0.024083672 & -0.0251944718 & -0.024083672 & -0.0251944718 & -8.560153e-03 & -0.057592243\\\\\n",
       "\tchr2\\_71130634\\_A\\_G\\_b38 & -0.0005514403 & -0.005350567 & -0.0005514403 &  0.017395913 & -0.0005514403 &  0.017386519 &  0.007974336 &  0.0172515636 & -0.0005514403 & -0.0005514403 & ⋯ &  0.012159441 &  0.0042802886 &  0.0059962164 &  0.0059962164 & -0.003949594 &  0.0059962164 & -0.003949594 &  0.0059962164 &  1.802817e-03 &  0.012079322\\\\\n",
       "\tchr2\\_71130975\\_A\\_G\\_b38 &  0.0385416845 & -0.009852114 &  0.0385416845 &  0.034113599 &  0.0385416845 &  0.034121369 & -0.017467388 & -0.0005514403 &  0.0385416845 &  0.0385416845 & ⋯ &  0.025158622 &  0.0011838990 &  0.0152904568 &  0.0152904568 & -0.002262297 &  0.0152904568 & -0.002262297 &  0.0152904568 &  8.552233e-03 &  0.025026589\\\\\n",
       "\tchr2\\_71131072\\_T\\_C\\_b38 &  0.0385416845 & -0.009852114 &  0.0385416845 &  0.034113599 &  0.0385416845 &  0.034121369 & -0.017467388 & -0.0005514403 &  0.0385416845 &  0.0385416845 & ⋯ &  0.025158622 &  0.0011838990 &  0.0152904568 &  0.0152904568 & -0.002262297 &  0.0152904568 & -0.002262297 &  0.0152904568 &  8.552233e-03 &  0.025026589\\\\\n",
       "\tchr2\\_71131131\\_C\\_T\\_b38 &  0.0385416845 & -0.009852114 &  0.0385416845 &  0.034113599 &  0.0385416845 &  0.034121369 & -0.017467388 & -0.0005514403 &  0.0385416845 &  0.0385416845 & ⋯ &  0.025158622 &  0.0011838990 &  0.0152904568 &  0.0152904568 & -0.002262297 &  0.0152904568 & -0.002262297 &  0.0152904568 &  8.552233e-03 &  0.025026589\\\\\n",
       "\tchr2\\_71131515\\_T\\_C\\_b38 &  0.0210742965 &  0.197864388 &  0.0210742965 & -0.174697663 &  0.0210742965 & -0.174859476 &  0.365389942 &  0.0074228960 &  0.0210742965 &  0.0210742965 & ⋯ & -0.029914054 & -0.0226537195 & -0.0099040150 & -0.0099040150 & -0.026345968 & -0.0099040150 & -0.026345968 & -0.0099040150 & -7.919475e-06 & -0.032565654\\\\\n",
       "\tchr2\\_71131552\\_C\\_A\\_b38 &  0.0036242838 & -0.050492209 &  0.0036242838 &  0.227285710 &  0.0036242838 &  0.227305521 & -0.092079506 &  0.0076620042 &  0.0036242838 &  0.0036242838 & ⋯ &  0.083316120 &  0.0100912968 &  0.0481973227 &  0.0481973227 &  0.002100859 &  0.0481973227 &  0.002100859 &  0.0481973227 &  2.366839e-02 &  0.081957006\\\\\n",
       "\tchr2\\_71131579\\_A\\_G\\_b38 & -0.0035067159 &  0.099028920 & -0.0035067159 & -0.048769061 & -0.0035067159 & -0.048871915 &  0.086241579 & -0.0017540512 & -0.0035067159 & -0.0035067159 & ⋯ & -0.029246270 & -0.0022535902 & -0.0202908681 & -0.0202908681 &  0.001150272 & -0.0202908681 &  0.001150272 & -0.0202908681 & -7.217464e-03 & -0.029761923\\\\\n",
       "\tchr2\\_71131607\\_A\\_G\\_b38 &  0.0210548725 &  0.198151812 &  0.0210548725 & -0.174921944 &  0.0210548725 & -0.175097997 &  0.365813897 &  0.0074463797 &  0.0210548725 &  0.0210548725 & ⋯ & -0.030261187 & -0.0228139202 & -0.0101458462 & -0.0101458462 & -0.026500985 & -0.0101458462 & -0.026500985 & -0.0101458462 &  4.217058e-05 & -0.032917596\\\\\n",
       "\tchr2\\_71131875\\_C\\_T\\_b38 &  0.0385416845 & -0.009852114 &  0.0385416845 &  0.034113599 &  0.0385416845 &  0.034121369 & -0.017467388 & -0.0005514403 &  0.0385416845 &  0.0385416845 & ⋯ &  0.025158622 &  0.0011838990 &  0.0152904568 &  0.0152904568 & -0.002262297 &  0.0152904568 & -0.002262297 &  0.0152904568 &  8.552233e-03 &  0.025026589\\\\\n",
       "\tchr2\\_71132131\\_A\\_G\\_b38 & -0.0004388313 & -0.003639273 & -0.0004388313 &  0.007272913 & -0.0004388313 &  0.007247356 & -0.002240037 & -0.0001886933 & -0.0004388313 & -0.0004388313 & ⋯ &  0.003185852 &  0.0008089731 &  0.0041827817 &  0.0041827817 &  0.001222247 &  0.0041827817 &  0.001222247 &  0.0041827817 & -1.872244e-03 &  0.003119511\\\\\n",
       "\tchr2\\_71132480\\_A\\_G\\_b38 & -0.0011028805 &  0.006842726 & -0.0011028805 &  0.012862001 & -0.0011028805 &  0.012843214 & -0.001595187 & -0.0005845921 & -0.0011028805 & -0.0011028805 & ⋯ & -0.015154801 & -0.0089832824 & -0.0055514268 & -0.0055514268 & -0.007899189 & -0.0055514268 & -0.007899189 & -0.0055514268 & -7.803306e-04 & -0.015315040\\\\\n",
       "\tchr2\\_71132575\\_A\\_G\\_b38 & -0.0017280818 & -0.013951878 & -0.0017280818 & -0.029345963 & -0.0017280818 & -0.029329499 &  0.028903509 & -0.0010274581 & -0.0017280818 & -0.0017280818 & ⋯ & -0.006485400 & -0.0052972416 & -0.0060300428 & -0.0060300428 & -0.003552696 & -0.0060300428 & -0.003552696 & -0.0060300428 &  4.597367e-03 & -0.006729917\\\\\n",
       "\tchr2\\_71132702\\_G\\_A\\_b38 &  0.0385416845 & -0.009852114 &  0.0385416845 &  0.034113599 &  0.0385416845 &  0.034121369 & -0.017467388 & -0.0005514403 &  0.0385416845 &  0.0385416845 & ⋯ &  0.025158622 &  0.0011838990 &  0.0152904568 &  0.0152904568 & -0.002262297 &  0.0152904568 & -0.002262297 &  0.0152904568 &  8.552233e-03 &  0.025026589\\\\\n",
       "\tchr2\\_71132970\\_G\\_A\\_b38 &  0.0385416845 & -0.009852114 &  0.0385416845 &  0.034113599 &  0.0385416845 &  0.034121369 & -0.017467388 & -0.0005514403 &  0.0385416845 &  0.0385416845 & ⋯ &  0.025158622 &  0.0011838990 &  0.0152904568 &  0.0152904568 & -0.002262297 &  0.0152904568 & -0.002262297 &  0.0152904568 &  8.552233e-03 &  0.025026589\\\\\n",
       "\tchr2\\_71133014\\_A\\_C\\_b38 &  0.0210781813 &  0.197806903 &  0.0210781813 & -0.174652807 &  0.0210781813 & -0.174811771 &  0.365305152 &  0.0074181993 &  0.0210781813 &  0.0210781813 & ⋯ & -0.029844627 & -0.0226216794 & -0.0098556487 & -0.0098556487 & -0.026314965 & -0.0098556487 & -0.026314965 & -0.0098556487 & -1.793749e-05 & -0.032495266\\\\\n",
       "\tchr2\\_71133152\\_G\\_A\\_b38 & -0.0060097195 & -0.048221156 & -0.0060097195 &  0.244662861 & -0.0060097195 &  0.244741706 & -0.097915235 & -0.0061318718 & -0.0060097195 & -0.0060097195 & ⋯ &  0.026391087 & -0.0056919412 &  0.0336566178 &  0.0336566178 & -0.008375307 &  0.0336566178 & -0.008375307 &  0.0336566178 & -3.047424e-03 &  0.024917253\\\\\n",
       "\tchr2\\_71133495\\_G\\_T\\_b38 &  0.0210345412 &  0.195879972 &  0.0210345412 & -0.177202774 &  0.0210345412 & -0.177362089 &  0.363036296 &  0.0073941145 &  0.0210345412 &  0.0210345412 & ⋯ & -0.031320668 & -0.0229770843 & -0.0107741627 & -0.0107741627 & -0.026627081 & -0.0107741627 & -0.026627081 & -0.0107741627 & -2.263435e-04 & -0.033977591\\\\\n",
       "\tchr2\\_71133593\\_A\\_G\\_b38 &  0.0042961026 & -0.043545318 &  0.0042961026 &  0.199856510 &  0.0042961026 &  0.199875247 & -0.079736043 &  0.0080485096 &  0.0042961026 &  0.0042961026 & ⋯ &  0.062321943 &  0.0111757027 &  0.0360984391 &  0.0360984391 &  0.006898337 &  0.0360984391 &  0.006898337 &  0.0360984391 &  1.378451e-02 &  0.061058649\\\\\n",
       "\tchr2\\_71133605\\_T\\_TTCC\\_b38 &  0.0047038556 & -0.039446166 &  0.0047038556 &  0.187838782 &  0.0047038556 &  0.187860292 & -0.081203644 &  0.0038888118 &  0.0047038556 &  0.0047038556 & ⋯ &  0.054194713 &  0.0101104085 &  0.0271427625 &  0.0271427625 &  0.005428063 &  0.0271427625 &  0.005428063 &  0.0271427625 &  1.573690e-02 &  0.052990066\\\\\n",
       "\tchr2\\_71133774\\_T\\_C\\_b38 & -0.0012154895 & -0.012412427 & -0.0012154895 &  0.018599036 & -0.0012154895 &  0.018596413 & -0.008924673 & -0.0006881948 & -0.0012154895 & -0.0012154895 & ⋯ &  0.006976682 & -0.0055119668 &  0.0006479729 &  0.0006479729 & -0.004299101 &  0.0006479729 & -0.004299101 &  0.0006479729 &  1.166666e-02 &  0.006802666\\\\\n",
       "\tchr2\\_71133843\\_A\\_C\\_b38 & -0.0169276021 &  0.213239523 & -0.0169276021 & -0.226341744 & -0.0169276021 & -0.226510476 &  0.375137367 & -0.0092631371 & -0.0169276021 & -0.0169276021 & ⋯ & -0.067440397 & -0.0282140276 & -0.0313357870 & -0.0313357870 & -0.020227088 & -0.0313357870 & -0.020227088 & -0.0313357870 & -1.033292e-02 & -0.069882730\\\\\n",
       "\tchr2\\_71134202\\_T\\_G\\_b38 &  0.0210781813 &  0.197806903 &  0.0210781813 & -0.174652807 &  0.0210781813 & -0.174811771 &  0.365305152 &  0.0074181993 &  0.0210781813 &  0.0210781813 & ⋯ & -0.029844627 & -0.0226216794 & -0.0098556487 & -0.0098556487 & -0.026314965 & -0.0098556487 & -0.026314965 & -0.0098556487 & -1.793749e-05 & -0.032495266\\\\\n",
       "\tchr2\\_71134488\\_T\\_G\\_b38 &  0.0385416845 & -0.009852114 &  0.0385416845 &  0.034113599 &  0.0385416845 &  0.034121369 & -0.017467388 & -0.0005514403 &  0.0385416845 &  0.0385416845 & ⋯ &  0.025158622 &  0.0011838990 &  0.0152904568 &  0.0152904568 & -0.002262297 &  0.0152904568 & -0.002262297 &  0.0152904568 &  8.552233e-03 &  0.025026589\\\\\n",
       "\t⋮ & ⋮ & ⋮ & ⋮ & ⋮ & ⋮ & ⋮ & ⋮ & ⋮ & ⋮ & ⋮ & ⋱ & ⋮ & ⋮ & ⋮ & ⋮ & ⋮ & ⋮ & ⋮ & ⋮ & ⋮ & ⋮\\\\\n",
       "\tchr2\\_73143754\\_A\\_T\\_b38 &  0.0195443889 & -0.0197659968 &  0.0195443889 &  0.112299449 &  0.0195443889 &  0.112398105 & -0.027714039 &  0.0059160973 &  0.0195443889 &  0.0195443889 & ⋯ &  0.324619488 & -0.074548013 &  0.45904692 &  0.45904692 & -0.080835851 &  0.45904692 & -0.080835851 &  0.45904692 & -0.0539404408 &  0.330558469\\\\\n",
       "\tchr2\\_73143879\\_G\\_A\\_b38 &  0.0250343585 & -0.0401217196 &  0.0250343585 &  0.154719227 &  0.0250343585 &  0.154865700 & -0.057761825 &  0.0120699288 &  0.0250343585 &  0.0250343585 & ⋯ &  0.492682630 &  0.090463609 &  0.32643330 &  0.32643330 &  0.065575723 &  0.32643330 &  0.065575723 &  0.32643330 &  0.0800095523 &  0.496906458\\\\\n",
       "\tchr2\\_73144216\\_T\\_C\\_b38 &  0.0112045451 & -0.0008382152 &  0.0112045451 &  0.040879716 &  0.0112045451 &  0.040829751 &  0.002103133 &  0.0121630388 &  0.0112045451 &  0.0112045451 & ⋯ &  0.035562538 &  0.001630875 &  0.03385445 &  0.03385445 & -0.005237671 &  0.03385445 & -0.005237671 &  0.03385445 & -0.0002089792 &  0.035276350\\\\\n",
       "\tchr2\\_73144347\\_T\\_C\\_b38 &  0.0152904568 & -0.0183421277 &  0.0152904568 &  0.106786695 &  0.0152904568 &  0.106883427 & -0.025194472 &  0.0059962164 &  0.0152904568 &  0.0152904568 & ⋯ &  0.320378997 & -0.077859128 &  0.45747532 &  0.45747532 & -0.079894957 &  0.45747532 & -0.079894957 &  0.45747532 & -0.0532796268 &  0.326336565\\\\\n",
       "\tchr2\\_73144348\\_G\\_A\\_b38 &  0.0154186049 & -0.0168607737 &  0.0154186049 &  0.101229085 &  0.0154186049 &  0.101321046 & -0.026976079 &  0.0016950674 &  0.0154186049 &  0.0154186049 & ⋯ &  0.316069079 & -0.081202283 &  0.45585535 &  0.45585535 & -0.078985067 &  0.45585535 & -0.078985067 &  0.45585535 & -0.0526087948 &  0.322044272\\\\\n",
       "\tchr2\\_73144396\\_AC\\_A\\_b38 &  0.0152904568 & -0.0183421277 &  0.0152904568 &  0.106786695 &  0.0152904568 &  0.106883427 & -0.025194472 &  0.0059962164 &  0.0152904568 &  0.0152904568 & ⋯ &  0.320378997 & -0.077859128 &  0.45747532 &  0.45747532 & -0.079894957 &  0.45747532 & -0.079894957 &  0.45747532 & -0.0532796268 &  0.326336565\\\\\n",
       "\tchr2\\_73144646\\_G\\_A\\_b38 &  0.0086764964 & -0.0100604433 &  0.0086764964 &  0.035748633 &  0.0086764964 &  0.035720977 & -0.010256969 & -0.0024936352 &  0.0086764964 &  0.0086764964 & ⋯ &  0.076311058 & -0.027723407 & -0.05494796 & -0.05494796 & -0.027655630 & -0.05494796 & -0.027655630 & -0.05494796 &  0.1583382774 &  0.075666907\\\\\n",
       "\tchr2\\_73144654\\_G\\_GCTTTT\\_b38 &  0.0152904568 & -0.0183421277 &  0.0152904568 &  0.106786695 &  0.0152904568 &  0.106883427 & -0.025194472 &  0.0059962164 &  0.0152904568 &  0.0152904568 & ⋯ &  0.320378997 & -0.077859128 &  0.45747532 &  0.45747532 & -0.079894957 &  0.45747532 & -0.079894957 &  0.45747532 & -0.0532796268 &  0.326336565\\\\\n",
       "\tchr2\\_73144957\\_C\\_T\\_b38 & -0.0071087152 &  0.0068096989 & -0.0071087152 &  0.020727613 & -0.0071087152 &  0.020790519 &  0.010053910 & -0.0067211606 & -0.0071087152 & -0.0071087152 & ⋯ &  0.164814484 & -0.067274762 &  0.26938163 &  0.26938163 & -0.060103141 &  0.26938163 & -0.060103141 &  0.26938163 & -0.0345395268 &  0.167567338\\\\\n",
       "\tchr2\\_73145084\\_T\\_A\\_b38 &  0.0152943416 & -0.0183996126 &  0.0152943416 &  0.106831551 &  0.0152943416 &  0.106931132 & -0.025279263 &  0.0059915197 &  0.0152943416 &  0.0152943416 & ⋯ &  0.320448423 & -0.077827088 &  0.45752369 &  0.45752369 & -0.079863954 &  0.45752369 & -0.079863954 &  0.45752369 & -0.0532896448 &  0.326406953\\\\\n",
       "\tchr2\\_73145220\\_G\\_T\\_b38 &  0.0085522331 & -0.0115992822 &  0.0085522331 &  0.041351099 &  0.0085522331 &  0.041331063 & -0.008560153 &  0.0018028172 &  0.0085522331 &  0.0085522331 & ⋯ &  0.080690402 & -0.028734177 & -0.05327963 & -0.05327963 & -0.028534516 & -0.05327963 & -0.028534516 & -0.05327963 &  0.1620433923 &  0.080029588\\\\\n",
       "\tchr2\\_73145430\\_T\\_C\\_b38 &  0.0195405041 & -0.0197085119 &  0.0195405041 &  0.112254592 &  0.0195405041 &  0.112350401 & -0.027629248 &  0.0059207941 &  0.0195405041 &  0.0195405041 & ⋯ &  0.324550061 & -0.074580053 &  0.45899856 &  0.45899856 & -0.080866854 &  0.45899856 & -0.080866854 &  0.45899856 & -0.0539304227 &  0.330488081\\\\\n",
       "\tchr2\\_73145448\\_C\\_T\\_b38 &  0.0030384426 & -0.0050643666 &  0.0030384426 & -0.019747859 &  0.0030384426 & -0.019748559 & -0.007058275 & -0.0007683139 &  0.0030384426 &  0.0030384426 & ⋯ &  0.002445244 &  0.032886867 & -0.02409621 & -0.02409621 &  0.034233690 & -0.02409621 &  0.034233690 & -0.02409621 & -0.0065380134 &  0.002252641\\\\\n",
       "\tchr2\\_73145477\\_C\\_T\\_b38 &  0.0143817658 & -0.0241531858 &  0.0143817658 &  0.106081712 &  0.0143817658 &  0.106203302 & -0.030012710 &  0.0054165958 &  0.0143817658 &  0.0143817658 & ⋯ &  0.293322599 & -0.085254918 &  0.44235422 &  0.44235422 & -0.086357199 &  0.44235422 & -0.086357199 &  0.44235422 & -0.0579453965 &  0.299153905\\\\\n",
       "\tchr2\\_73145683\\_G\\_A\\_b38 &  0.0112045451 & -0.0008382152 &  0.0112045451 &  0.040879716 &  0.0112045451 &  0.040829751 &  0.002103133 &  0.0121630388 &  0.0112045451 &  0.0112045451 & ⋯ &  0.035562538 &  0.001630875 &  0.03385445 &  0.03385445 & -0.005237671 &  0.03385445 & -0.005237671 &  0.03385445 & -0.0002089792 &  0.035276350\\\\\n",
       "\tchr2\\_73145979\\_A\\_G\\_b38 & -0.0012077199 & -0.0037554673 & -0.0012077199 & -0.003241076 & -0.0012077199 & -0.003238003 & -0.009094255 & -0.0006975883 & -0.0012077199 & -0.0012077199 & ⋯ & -0.014814289 &  0.003324043 & -0.01241319 & -0.01241319 &  0.004534836 & -0.01241319 &  0.004534836 & -0.01241319 & -0.0058972355 & -0.014986382\\\\\n",
       "\tchr2\\_73146216\\_G\\_A\\_b38 &  0.0152904568 & -0.0183421277 &  0.0152904568 &  0.106786695 &  0.0152904568 &  0.106883427 & -0.025194472 &  0.0059962164 &  0.0152904568 &  0.0152904568 & ⋯ &  0.320378997 & -0.077859128 &  0.45747532 &  0.45747532 & -0.079894957 &  0.45747532 & -0.079894957 &  0.45747532 & -0.0532796268 &  0.326336565\\\\\n",
       "\tchr2\\_73146226\\_A\\_ACTCTCT\\_b38 &  0.0169564639 & -0.0266361519 &  0.0169564639 &  0.107909223 &  0.0169564639 &  0.108007609 & -0.036795935 &  0.0069442057 &  0.0169564639 &  0.0169564639 & ⋯ &  0.260848536 & -0.064292834 &  0.37654154 &  0.37654154 & -0.067993018 &  0.37654154 & -0.067993018 &  0.37654154 & -0.0452043600 &  0.267044342\\\\\n",
       "\tchr2\\_73146251\\_C\\_A\\_b38 &  0.0034750754 & -0.0172511389 &  0.0034750754 &  0.027348269 &  0.0034750754 &  0.027413823 & -0.025882117 & -0.0031859771 &  0.0034750754 &  0.0034750754 & ⋯ &  0.090394582 & -0.016806374 &  0.13284611 &  0.13284611 & -0.015829930 &  0.13284611 & -0.015829930 &  0.13284611 & -0.0220065211 &  0.094033218\\\\\n",
       "\tchr2\\_73146310\\_C\\_T\\_b38 & -0.0009319997 &  0.0076917460 & -0.0009319997 &  0.012183774 & -0.0009319997 &  0.012191544 &  0.004462437 & -0.0005514403 & -0.0009319997 & -0.0009319997 & ⋯ &  0.016386692 &  0.001183899 &  0.01967642 &  0.01967642 &  0.002123668 &  0.01967642 &  0.002123668 &  0.01967642 & -0.0046056616 &  0.016254659\\\\\n",
       "\tchr2\\_73146320\\_G\\_A\\_b38 &  0.0251586218 & -0.0385828807 &  0.0251586218 &  0.157888691 &  0.0251586218 &  0.158027544 & -0.055072676 &  0.0121594414 &  0.0251586218 &  0.0251586218 & ⋯ &  0.492689251 &  0.091474378 &  0.32037900 &  0.32037900 &  0.066454610 &  0.32037900 &  0.066454610 &  0.32037900 &  0.0806904023 &  0.492543777\\\\\n",
       "\tchr2\\_73146576\\_C\\_G\\_b38 &  0.0011838990 & -0.0100653399 &  0.0011838990 &  0.006491721 &  0.0011838990 &  0.006555801 & -0.023837618 &  0.0042802886 &  0.0011838990 &  0.0011838990 & ⋯ &  0.091474378 &  0.196992833 & -0.07785913 & -0.07785913 &  0.173943190 & -0.07785913 &  0.173943190 & -0.07785913 & -0.0287341772 &  0.090399528\\\\\n",
       "\tchr2\\_73146922\\_A\\_G\\_b38 &  0.0152904568 & -0.0183421277 &  0.0152904568 &  0.106786695 &  0.0152904568 &  0.106883427 & -0.025194472 &  0.0059962164 &  0.0152904568 &  0.0152904568 & ⋯ &  0.320378997 & -0.077859128 &  0.45747532 &  0.45747532 & -0.079894957 &  0.45747532 & -0.079894957 &  0.45747532 & -0.0532796268 &  0.326336565\\\\\n",
       "\tchr2\\_73146968\\_T\\_C\\_b38 &  0.0152904568 & -0.0183421277 &  0.0152904568 &  0.106786695 &  0.0152904568 &  0.106883427 & -0.025194472 &  0.0059962164 &  0.0152904568 &  0.0152904568 & ⋯ &  0.320378997 & -0.077859128 &  0.45747532 &  0.45747532 & -0.079894957 &  0.45747532 & -0.079894957 &  0.45747532 & -0.0532796268 &  0.326336565\\\\\n",
       "\tchr2\\_73146997\\_T\\_C\\_b38 & -0.0022622966 & -0.0047141609 & -0.0022622966 & -0.018760236 & -0.0022622966 & -0.018698229 & -0.024083672 & -0.0039495944 & -0.0022622966 & -0.0022622966 & ⋯ &  0.066454610 &  0.173943190 & -0.07989496 & -0.07989496 &  0.180653458 & -0.07989496 &  0.180653458 & -0.07989496 & -0.0285345165 &  0.065513716\\\\\n",
       "\tchr2\\_73147028\\_G\\_A\\_b38 &  0.0152904568 & -0.0183421277 &  0.0152904568 &  0.106786695 &  0.0152904568 &  0.106883427 & -0.025194472 &  0.0059962164 &  0.0152904568 &  0.0152904568 & ⋯ &  0.320378997 & -0.077859128 &  0.45747532 &  0.45747532 & -0.079894957 &  0.45747532 & -0.079894957 &  0.45747532 & -0.0532796268 &  0.326336565\\\\\n",
       "\tchr2\\_73147287\\_T\\_C\\_b38 & -0.0022622966 & -0.0047141609 & -0.0022622966 & -0.018760236 & -0.0022622966 & -0.018698229 & -0.024083672 & -0.0039495944 & -0.0022622966 & -0.0022622966 & ⋯ &  0.066454610 &  0.173943190 & -0.07989496 & -0.07989496 &  0.180653458 & -0.07989496 &  0.180653458 & -0.07989496 & -0.0285345165 &  0.065513716\\\\\n",
       "\tchr2\\_73147326\\_A\\_G\\_b38 &  0.0152904568 & -0.0183421277 &  0.0152904568 &  0.106786695 &  0.0152904568 &  0.106883427 & -0.025194472 &  0.0059962164 &  0.0152904568 &  0.0152904568 & ⋯ &  0.320378997 & -0.077859128 &  0.45747532 &  0.45747532 & -0.079894957 &  0.45747532 & -0.079894957 &  0.45747532 & -0.0532796268 &  0.326336565\\\\\n",
       "\tchr2\\_73147380\\_G\\_C\\_b38 &  0.0085522331 & -0.0115992822 &  0.0085522331 &  0.041351099 &  0.0085522331 &  0.041331063 & -0.008560153 &  0.0018028172 &  0.0085522331 &  0.0085522331 & ⋯ &  0.080690402 & -0.028734177 & -0.05327963 & -0.05327963 & -0.028534516 & -0.05327963 & -0.028534516 & -0.05327963 &  0.1620433923 &  0.080029588\\\\\n",
       "\tchr2\\_73147737\\_A\\_T\\_b38 &  0.0250265889 & -0.0400067498 &  0.0250265889 &  0.154629515 &  0.0250265889 &  0.154770292 & -0.057592243 &  0.0120793223 &  0.0250265889 &  0.0250265889 & ⋯ &  0.492543777 &  0.090399528 &  0.32633656 &  0.32633656 &  0.065513716 &  0.32633656 &  0.065513716 &  0.32633656 &  0.0800295884 &  0.496765682\\\\\n",
       "\\end{tabular}\n"
      ],
      "text/markdown": [
       "\n",
       "A matrix: 6092 × 6092 of type dbl\n",
       "\n",
       "| <!--/--> | chr2_71129368_C_T_b38 | chr2_71129592_A_T_b38 | chr2_71130065_C_A_b38 | chr2_71130287_C_A_b38 | chr2_71130375_C_T_b38 | chr2_71130504_C_T_b38 | chr2_71130580_G_C_b38 | chr2_71130634_A_G_b38 | chr2_71130975_A_G_b38 | chr2_71131072_T_C_b38 | ⋯ | chr2_73146320_G_A_b38 | chr2_73146576_C_G_b38 | chr2_73146922_A_G_b38 | chr2_73146968_T_C_b38 | chr2_73146997_T_C_b38 | chr2_73147028_G_A_b38 | chr2_73147287_T_C_b38 | chr2_73147326_A_G_b38 | chr2_73147380_G_C_b38 | chr2_73147737_A_T_b38 |\n",
       "|---|---|---|---|---|---|---|---|---|---|---|---|---|---|---|---|---|---|---|---|---|---|\n",
       "| chr2_71129368_C_T_b38 |  0.0385416845 | -0.009852114 |  0.0385416845 |  0.034113599 |  0.0385416845 |  0.034121369 | -0.017467388 | -0.0005514403 |  0.0385416845 |  0.0385416845 | ⋯ |  0.025158622 |  0.0011838990 |  0.0152904568 |  0.0152904568 | -0.002262297 |  0.0152904568 | -0.002262297 |  0.0152904568 |  8.552233e-03 |  0.025026589 |\n",
       "| chr2_71129592_A_T_b38 | -0.0098521137 |  0.253474776 | -0.0098521137 | -0.129003757 | -0.0098521137 | -0.129118726 |  0.207716501 | -0.0053505669 | -0.0098521137 | -0.0098521137 | ⋯ | -0.038582881 | -0.0100653399 | -0.0183421277 | -0.0183421277 | -0.004714161 | -0.0183421277 | -0.004714161 | -0.0183421277 | -1.159928e-02 | -0.040006750 |\n",
       "| chr2_71130065_C_A_b38 |  0.0385416845 | -0.009852114 |  0.0385416845 |  0.034113599 |  0.0385416845 |  0.034121369 | -0.017467388 | -0.0005514403 |  0.0385416845 |  0.0385416845 | ⋯ |  0.025158622 |  0.0011838990 |  0.0152904568 |  0.0152904568 | -0.002262297 |  0.0152904568 | -0.002262297 |  0.0152904568 |  8.552233e-03 |  0.025026589 |\n",
       "| chr2_71130287_C_A_b38 |  0.0341135989 | -0.129003757 |  0.0341135989 |  0.548562093 |  0.0341135989 |  0.548651806 | -0.208811262 |  0.0173959129 |  0.0341135989 |  0.0341135989 | ⋯ |  0.157888691 |  0.0064917207 |  0.1067866949 |  0.1067866949 | -0.018760236 |  0.1067866949 | -0.018760236 |  0.1067866949 |  4.135110e-02 |  0.154629515 |\n",
       "| chr2_71130375_C_T_b38 |  0.0385416845 | -0.009852114 |  0.0385416845 |  0.034113599 |  0.0385416845 |  0.034121369 | -0.017467388 | -0.0005514403 |  0.0385416845 |  0.0385416845 | ⋯ |  0.025158622 |  0.0011838990 |  0.0152904568 |  0.0152904568 | -0.002262297 |  0.0152904568 | -0.002262297 |  0.0152904568 |  8.552233e-03 |  0.025026589 |\n",
       "| chr2_71130504_C_T_b38 |  0.0341213685 | -0.129118726 |  0.0341213685 |  0.548651806 |  0.0341213685 |  0.548747214 | -0.208980844 |  0.0173865194 |  0.0341213685 |  0.0341213685 | ⋯ |  0.158027544 |  0.0065558010 |  0.1068834274 |  0.1068834274 | -0.018698229 |  0.1068834274 | -0.018698229 |  0.1068834274 |  4.133106e-02 |  0.154770292 |\n",
       "| chr2_71130580_G_C_b38 | -0.0174673880 |  0.207716501 | -0.0174673880 | -0.208811262 | -0.0174673880 | -0.208980844 |  0.382857330 |  0.0079743363 | -0.0174673880 | -0.0174673880 | ⋯ | -0.055072676 | -0.0238376185 | -0.0251944718 | -0.0251944718 | -0.024083672 | -0.0251944718 | -0.024083672 | -0.0251944718 | -8.560153e-03 | -0.057592243 |\n",
       "| chr2_71130634_A_G_b38 | -0.0005514403 | -0.005350567 | -0.0005514403 |  0.017395913 | -0.0005514403 |  0.017386519 |  0.007974336 |  0.0172515636 | -0.0005514403 | -0.0005514403 | ⋯ |  0.012159441 |  0.0042802886 |  0.0059962164 |  0.0059962164 | -0.003949594 |  0.0059962164 | -0.003949594 |  0.0059962164 |  1.802817e-03 |  0.012079322 |\n",
       "| chr2_71130975_A_G_b38 |  0.0385416845 | -0.009852114 |  0.0385416845 |  0.034113599 |  0.0385416845 |  0.034121369 | -0.017467388 | -0.0005514403 |  0.0385416845 |  0.0385416845 | ⋯ |  0.025158622 |  0.0011838990 |  0.0152904568 |  0.0152904568 | -0.002262297 |  0.0152904568 | -0.002262297 |  0.0152904568 |  8.552233e-03 |  0.025026589 |\n",
       "| chr2_71131072_T_C_b38 |  0.0385416845 | -0.009852114 |  0.0385416845 |  0.034113599 |  0.0385416845 |  0.034121369 | -0.017467388 | -0.0005514403 |  0.0385416845 |  0.0385416845 | ⋯ |  0.025158622 |  0.0011838990 |  0.0152904568 |  0.0152904568 | -0.002262297 |  0.0152904568 | -0.002262297 |  0.0152904568 |  8.552233e-03 |  0.025026589 |\n",
       "| chr2_71131131_C_T_b38 |  0.0385416845 | -0.009852114 |  0.0385416845 |  0.034113599 |  0.0385416845 |  0.034121369 | -0.017467388 | -0.0005514403 |  0.0385416845 |  0.0385416845 | ⋯ |  0.025158622 |  0.0011838990 |  0.0152904568 |  0.0152904568 | -0.002262297 |  0.0152904568 | -0.002262297 |  0.0152904568 |  8.552233e-03 |  0.025026589 |\n",
       "| chr2_71131515_T_C_b38 |  0.0210742965 |  0.197864388 |  0.0210742965 | -0.174697663 |  0.0210742965 | -0.174859476 |  0.365389942 |  0.0074228960 |  0.0210742965 |  0.0210742965 | ⋯ | -0.029914054 | -0.0226537195 | -0.0099040150 | -0.0099040150 | -0.026345968 | -0.0099040150 | -0.026345968 | -0.0099040150 | -7.919475e-06 | -0.032565654 |\n",
       "| chr2_71131552_C_A_b38 |  0.0036242838 | -0.050492209 |  0.0036242838 |  0.227285710 |  0.0036242838 |  0.227305521 | -0.092079506 |  0.0076620042 |  0.0036242838 |  0.0036242838 | ⋯ |  0.083316120 |  0.0100912968 |  0.0481973227 |  0.0481973227 |  0.002100859 |  0.0481973227 |  0.002100859 |  0.0481973227 |  2.366839e-02 |  0.081957006 |\n",
       "| chr2_71131579_A_G_b38 | -0.0035067159 |  0.099028920 | -0.0035067159 | -0.048769061 | -0.0035067159 | -0.048871915 |  0.086241579 | -0.0017540512 | -0.0035067159 | -0.0035067159 | ⋯ | -0.029246270 | -0.0022535902 | -0.0202908681 | -0.0202908681 |  0.001150272 | -0.0202908681 |  0.001150272 | -0.0202908681 | -7.217464e-03 | -0.029761923 |\n",
       "| chr2_71131607_A_G_b38 |  0.0210548725 |  0.198151812 |  0.0210548725 | -0.174921944 |  0.0210548725 | -0.175097997 |  0.365813897 |  0.0074463797 |  0.0210548725 |  0.0210548725 | ⋯ | -0.030261187 | -0.0228139202 | -0.0101458462 | -0.0101458462 | -0.026500985 | -0.0101458462 | -0.026500985 | -0.0101458462 |  4.217058e-05 | -0.032917596 |\n",
       "| chr2_71131875_C_T_b38 |  0.0385416845 | -0.009852114 |  0.0385416845 |  0.034113599 |  0.0385416845 |  0.034121369 | -0.017467388 | -0.0005514403 |  0.0385416845 |  0.0385416845 | ⋯ |  0.025158622 |  0.0011838990 |  0.0152904568 |  0.0152904568 | -0.002262297 |  0.0152904568 | -0.002262297 |  0.0152904568 |  8.552233e-03 |  0.025026589 |\n",
       "| chr2_71132131_A_G_b38 | -0.0004388313 | -0.003639273 | -0.0004388313 |  0.007272913 | -0.0004388313 |  0.007247356 | -0.002240037 | -0.0001886933 | -0.0004388313 | -0.0004388313 | ⋯ |  0.003185852 |  0.0008089731 |  0.0041827817 |  0.0041827817 |  0.001222247 |  0.0041827817 |  0.001222247 |  0.0041827817 | -1.872244e-03 |  0.003119511 |\n",
       "| chr2_71132480_A_G_b38 | -0.0011028805 |  0.006842726 | -0.0011028805 |  0.012862001 | -0.0011028805 |  0.012843214 | -0.001595187 | -0.0005845921 | -0.0011028805 | -0.0011028805 | ⋯ | -0.015154801 | -0.0089832824 | -0.0055514268 | -0.0055514268 | -0.007899189 | -0.0055514268 | -0.007899189 | -0.0055514268 | -7.803306e-04 | -0.015315040 |\n",
       "| chr2_71132575_A_G_b38 | -0.0017280818 | -0.013951878 | -0.0017280818 | -0.029345963 | -0.0017280818 | -0.029329499 |  0.028903509 | -0.0010274581 | -0.0017280818 | -0.0017280818 | ⋯ | -0.006485400 | -0.0052972416 | -0.0060300428 | -0.0060300428 | -0.003552696 | -0.0060300428 | -0.003552696 | -0.0060300428 |  4.597367e-03 | -0.006729917 |\n",
       "| chr2_71132702_G_A_b38 |  0.0385416845 | -0.009852114 |  0.0385416845 |  0.034113599 |  0.0385416845 |  0.034121369 | -0.017467388 | -0.0005514403 |  0.0385416845 |  0.0385416845 | ⋯ |  0.025158622 |  0.0011838990 |  0.0152904568 |  0.0152904568 | -0.002262297 |  0.0152904568 | -0.002262297 |  0.0152904568 |  8.552233e-03 |  0.025026589 |\n",
       "| chr2_71132970_G_A_b38 |  0.0385416845 | -0.009852114 |  0.0385416845 |  0.034113599 |  0.0385416845 |  0.034121369 | -0.017467388 | -0.0005514403 |  0.0385416845 |  0.0385416845 | ⋯ |  0.025158622 |  0.0011838990 |  0.0152904568 |  0.0152904568 | -0.002262297 |  0.0152904568 | -0.002262297 |  0.0152904568 |  8.552233e-03 |  0.025026589 |\n",
       "| chr2_71133014_A_C_b38 |  0.0210781813 |  0.197806903 |  0.0210781813 | -0.174652807 |  0.0210781813 | -0.174811771 |  0.365305152 |  0.0074181993 |  0.0210781813 |  0.0210781813 | ⋯ | -0.029844627 | -0.0226216794 | -0.0098556487 | -0.0098556487 | -0.026314965 | -0.0098556487 | -0.026314965 | -0.0098556487 | -1.793749e-05 | -0.032495266 |\n",
       "| chr2_71133152_G_A_b38 | -0.0060097195 | -0.048221156 | -0.0060097195 |  0.244662861 | -0.0060097195 |  0.244741706 | -0.097915235 | -0.0061318718 | -0.0060097195 | -0.0060097195 | ⋯ |  0.026391087 | -0.0056919412 |  0.0336566178 |  0.0336566178 | -0.008375307 |  0.0336566178 | -0.008375307 |  0.0336566178 | -3.047424e-03 |  0.024917253 |\n",
       "| chr2_71133495_G_T_b38 |  0.0210345412 |  0.195879972 |  0.0210345412 | -0.177202774 |  0.0210345412 | -0.177362089 |  0.363036296 |  0.0073941145 |  0.0210345412 |  0.0210345412 | ⋯ | -0.031320668 | -0.0229770843 | -0.0107741627 | -0.0107741627 | -0.026627081 | -0.0107741627 | -0.026627081 | -0.0107741627 | -2.263435e-04 | -0.033977591 |\n",
       "| chr2_71133593_A_G_b38 |  0.0042961026 | -0.043545318 |  0.0042961026 |  0.199856510 |  0.0042961026 |  0.199875247 | -0.079736043 |  0.0080485096 |  0.0042961026 |  0.0042961026 | ⋯ |  0.062321943 |  0.0111757027 |  0.0360984391 |  0.0360984391 |  0.006898337 |  0.0360984391 |  0.006898337 |  0.0360984391 |  1.378451e-02 |  0.061058649 |\n",
       "| chr2_71133605_T_TTCC_b38 |  0.0047038556 | -0.039446166 |  0.0047038556 |  0.187838782 |  0.0047038556 |  0.187860292 | -0.081203644 |  0.0038888118 |  0.0047038556 |  0.0047038556 | ⋯ |  0.054194713 |  0.0101104085 |  0.0271427625 |  0.0271427625 |  0.005428063 |  0.0271427625 |  0.005428063 |  0.0271427625 |  1.573690e-02 |  0.052990066 |\n",
       "| chr2_71133774_T_C_b38 | -0.0012154895 | -0.012412427 | -0.0012154895 |  0.018599036 | -0.0012154895 |  0.018596413 | -0.008924673 | -0.0006881948 | -0.0012154895 | -0.0012154895 | ⋯ |  0.006976682 | -0.0055119668 |  0.0006479729 |  0.0006479729 | -0.004299101 |  0.0006479729 | -0.004299101 |  0.0006479729 |  1.166666e-02 |  0.006802666 |\n",
       "| chr2_71133843_A_C_b38 | -0.0169276021 |  0.213239523 | -0.0169276021 | -0.226341744 | -0.0169276021 | -0.226510476 |  0.375137367 | -0.0092631371 | -0.0169276021 | -0.0169276021 | ⋯ | -0.067440397 | -0.0282140276 | -0.0313357870 | -0.0313357870 | -0.020227088 | -0.0313357870 | -0.020227088 | -0.0313357870 | -1.033292e-02 | -0.069882730 |\n",
       "| chr2_71134202_T_G_b38 |  0.0210781813 |  0.197806903 |  0.0210781813 | -0.174652807 |  0.0210781813 | -0.174811771 |  0.365305152 |  0.0074181993 |  0.0210781813 |  0.0210781813 | ⋯ | -0.029844627 | -0.0226216794 | -0.0098556487 | -0.0098556487 | -0.026314965 | -0.0098556487 | -0.026314965 | -0.0098556487 | -1.793749e-05 | -0.032495266 |\n",
       "| chr2_71134488_T_G_b38 |  0.0385416845 | -0.009852114 |  0.0385416845 |  0.034113599 |  0.0385416845 |  0.034121369 | -0.017467388 | -0.0005514403 |  0.0385416845 |  0.0385416845 | ⋯ |  0.025158622 |  0.0011838990 |  0.0152904568 |  0.0152904568 | -0.002262297 |  0.0152904568 | -0.002262297 |  0.0152904568 |  8.552233e-03 |  0.025026589 |\n",
       "| ⋮ | ⋮ | ⋮ | ⋮ | ⋮ | ⋮ | ⋮ | ⋮ | ⋮ | ⋮ | ⋮ | ⋱ | ⋮ | ⋮ | ⋮ | ⋮ | ⋮ | ⋮ | ⋮ | ⋮ | ⋮ | ⋮ |\n",
       "| chr2_73143754_A_T_b38 |  0.0195443889 | -0.0197659968 |  0.0195443889 |  0.112299449 |  0.0195443889 |  0.112398105 | -0.027714039 |  0.0059160973 |  0.0195443889 |  0.0195443889 | ⋯ |  0.324619488 | -0.074548013 |  0.45904692 |  0.45904692 | -0.080835851 |  0.45904692 | -0.080835851 |  0.45904692 | -0.0539404408 |  0.330558469 |\n",
       "| chr2_73143879_G_A_b38 |  0.0250343585 | -0.0401217196 |  0.0250343585 |  0.154719227 |  0.0250343585 |  0.154865700 | -0.057761825 |  0.0120699288 |  0.0250343585 |  0.0250343585 | ⋯ |  0.492682630 |  0.090463609 |  0.32643330 |  0.32643330 |  0.065575723 |  0.32643330 |  0.065575723 |  0.32643330 |  0.0800095523 |  0.496906458 |\n",
       "| chr2_73144216_T_C_b38 |  0.0112045451 | -0.0008382152 |  0.0112045451 |  0.040879716 |  0.0112045451 |  0.040829751 |  0.002103133 |  0.0121630388 |  0.0112045451 |  0.0112045451 | ⋯ |  0.035562538 |  0.001630875 |  0.03385445 |  0.03385445 | -0.005237671 |  0.03385445 | -0.005237671 |  0.03385445 | -0.0002089792 |  0.035276350 |\n",
       "| chr2_73144347_T_C_b38 |  0.0152904568 | -0.0183421277 |  0.0152904568 |  0.106786695 |  0.0152904568 |  0.106883427 | -0.025194472 |  0.0059962164 |  0.0152904568 |  0.0152904568 | ⋯ |  0.320378997 | -0.077859128 |  0.45747532 |  0.45747532 | -0.079894957 |  0.45747532 | -0.079894957 |  0.45747532 | -0.0532796268 |  0.326336565 |\n",
       "| chr2_73144348_G_A_b38 |  0.0154186049 | -0.0168607737 |  0.0154186049 |  0.101229085 |  0.0154186049 |  0.101321046 | -0.026976079 |  0.0016950674 |  0.0154186049 |  0.0154186049 | ⋯ |  0.316069079 | -0.081202283 |  0.45585535 |  0.45585535 | -0.078985067 |  0.45585535 | -0.078985067 |  0.45585535 | -0.0526087948 |  0.322044272 |\n",
       "| chr2_73144396_AC_A_b38 |  0.0152904568 | -0.0183421277 |  0.0152904568 |  0.106786695 |  0.0152904568 |  0.106883427 | -0.025194472 |  0.0059962164 |  0.0152904568 |  0.0152904568 | ⋯ |  0.320378997 | -0.077859128 |  0.45747532 |  0.45747532 | -0.079894957 |  0.45747532 | -0.079894957 |  0.45747532 | -0.0532796268 |  0.326336565 |\n",
       "| chr2_73144646_G_A_b38 |  0.0086764964 | -0.0100604433 |  0.0086764964 |  0.035748633 |  0.0086764964 |  0.035720977 | -0.010256969 | -0.0024936352 |  0.0086764964 |  0.0086764964 | ⋯ |  0.076311058 | -0.027723407 | -0.05494796 | -0.05494796 | -0.027655630 | -0.05494796 | -0.027655630 | -0.05494796 |  0.1583382774 |  0.075666907 |\n",
       "| chr2_73144654_G_GCTTTT_b38 |  0.0152904568 | -0.0183421277 |  0.0152904568 |  0.106786695 |  0.0152904568 |  0.106883427 | -0.025194472 |  0.0059962164 |  0.0152904568 |  0.0152904568 | ⋯ |  0.320378997 | -0.077859128 |  0.45747532 |  0.45747532 | -0.079894957 |  0.45747532 | -0.079894957 |  0.45747532 | -0.0532796268 |  0.326336565 |\n",
       "| chr2_73144957_C_T_b38 | -0.0071087152 |  0.0068096989 | -0.0071087152 |  0.020727613 | -0.0071087152 |  0.020790519 |  0.010053910 | -0.0067211606 | -0.0071087152 | -0.0071087152 | ⋯ |  0.164814484 | -0.067274762 |  0.26938163 |  0.26938163 | -0.060103141 |  0.26938163 | -0.060103141 |  0.26938163 | -0.0345395268 |  0.167567338 |\n",
       "| chr2_73145084_T_A_b38 |  0.0152943416 | -0.0183996126 |  0.0152943416 |  0.106831551 |  0.0152943416 |  0.106931132 | -0.025279263 |  0.0059915197 |  0.0152943416 |  0.0152943416 | ⋯ |  0.320448423 | -0.077827088 |  0.45752369 |  0.45752369 | -0.079863954 |  0.45752369 | -0.079863954 |  0.45752369 | -0.0532896448 |  0.326406953 |\n",
       "| chr2_73145220_G_T_b38 |  0.0085522331 | -0.0115992822 |  0.0085522331 |  0.041351099 |  0.0085522331 |  0.041331063 | -0.008560153 |  0.0018028172 |  0.0085522331 |  0.0085522331 | ⋯ |  0.080690402 | -0.028734177 | -0.05327963 | -0.05327963 | -0.028534516 | -0.05327963 | -0.028534516 | -0.05327963 |  0.1620433923 |  0.080029588 |\n",
       "| chr2_73145430_T_C_b38 |  0.0195405041 | -0.0197085119 |  0.0195405041 |  0.112254592 |  0.0195405041 |  0.112350401 | -0.027629248 |  0.0059207941 |  0.0195405041 |  0.0195405041 | ⋯ |  0.324550061 | -0.074580053 |  0.45899856 |  0.45899856 | -0.080866854 |  0.45899856 | -0.080866854 |  0.45899856 | -0.0539304227 |  0.330488081 |\n",
       "| chr2_73145448_C_T_b38 |  0.0030384426 | -0.0050643666 |  0.0030384426 | -0.019747859 |  0.0030384426 | -0.019748559 | -0.007058275 | -0.0007683139 |  0.0030384426 |  0.0030384426 | ⋯ |  0.002445244 |  0.032886867 | -0.02409621 | -0.02409621 |  0.034233690 | -0.02409621 |  0.034233690 | -0.02409621 | -0.0065380134 |  0.002252641 |\n",
       "| chr2_73145477_C_T_b38 |  0.0143817658 | -0.0241531858 |  0.0143817658 |  0.106081712 |  0.0143817658 |  0.106203302 | -0.030012710 |  0.0054165958 |  0.0143817658 |  0.0143817658 | ⋯ |  0.293322599 | -0.085254918 |  0.44235422 |  0.44235422 | -0.086357199 |  0.44235422 | -0.086357199 |  0.44235422 | -0.0579453965 |  0.299153905 |\n",
       "| chr2_73145683_G_A_b38 |  0.0112045451 | -0.0008382152 |  0.0112045451 |  0.040879716 |  0.0112045451 |  0.040829751 |  0.002103133 |  0.0121630388 |  0.0112045451 |  0.0112045451 | ⋯ |  0.035562538 |  0.001630875 |  0.03385445 |  0.03385445 | -0.005237671 |  0.03385445 | -0.005237671 |  0.03385445 | -0.0002089792 |  0.035276350 |\n",
       "| chr2_73145979_A_G_b38 | -0.0012077199 | -0.0037554673 | -0.0012077199 | -0.003241076 | -0.0012077199 | -0.003238003 | -0.009094255 | -0.0006975883 | -0.0012077199 | -0.0012077199 | ⋯ | -0.014814289 |  0.003324043 | -0.01241319 | -0.01241319 |  0.004534836 | -0.01241319 |  0.004534836 | -0.01241319 | -0.0058972355 | -0.014986382 |\n",
       "| chr2_73146216_G_A_b38 |  0.0152904568 | -0.0183421277 |  0.0152904568 |  0.106786695 |  0.0152904568 |  0.106883427 | -0.025194472 |  0.0059962164 |  0.0152904568 |  0.0152904568 | ⋯ |  0.320378997 | -0.077859128 |  0.45747532 |  0.45747532 | -0.079894957 |  0.45747532 | -0.079894957 |  0.45747532 | -0.0532796268 |  0.326336565 |\n",
       "| chr2_73146226_A_ACTCTCT_b38 |  0.0169564639 | -0.0266361519 |  0.0169564639 |  0.107909223 |  0.0169564639 |  0.108007609 | -0.036795935 |  0.0069442057 |  0.0169564639 |  0.0169564639 | ⋯ |  0.260848536 | -0.064292834 |  0.37654154 |  0.37654154 | -0.067993018 |  0.37654154 | -0.067993018 |  0.37654154 | -0.0452043600 |  0.267044342 |\n",
       "| chr2_73146251_C_A_b38 |  0.0034750754 | -0.0172511389 |  0.0034750754 |  0.027348269 |  0.0034750754 |  0.027413823 | -0.025882117 | -0.0031859771 |  0.0034750754 |  0.0034750754 | ⋯ |  0.090394582 | -0.016806374 |  0.13284611 |  0.13284611 | -0.015829930 |  0.13284611 | -0.015829930 |  0.13284611 | -0.0220065211 |  0.094033218 |\n",
       "| chr2_73146310_C_T_b38 | -0.0009319997 |  0.0076917460 | -0.0009319997 |  0.012183774 | -0.0009319997 |  0.012191544 |  0.004462437 | -0.0005514403 | -0.0009319997 | -0.0009319997 | ⋯ |  0.016386692 |  0.001183899 |  0.01967642 |  0.01967642 |  0.002123668 |  0.01967642 |  0.002123668 |  0.01967642 | -0.0046056616 |  0.016254659 |\n",
       "| chr2_73146320_G_A_b38 |  0.0251586218 | -0.0385828807 |  0.0251586218 |  0.157888691 |  0.0251586218 |  0.158027544 | -0.055072676 |  0.0121594414 |  0.0251586218 |  0.0251586218 | ⋯ |  0.492689251 |  0.091474378 |  0.32037900 |  0.32037900 |  0.066454610 |  0.32037900 |  0.066454610 |  0.32037900 |  0.0806904023 |  0.492543777 |\n",
       "| chr2_73146576_C_G_b38 |  0.0011838990 | -0.0100653399 |  0.0011838990 |  0.006491721 |  0.0011838990 |  0.006555801 | -0.023837618 |  0.0042802886 |  0.0011838990 |  0.0011838990 | ⋯ |  0.091474378 |  0.196992833 | -0.07785913 | -0.07785913 |  0.173943190 | -0.07785913 |  0.173943190 | -0.07785913 | -0.0287341772 |  0.090399528 |\n",
       "| chr2_73146922_A_G_b38 |  0.0152904568 | -0.0183421277 |  0.0152904568 |  0.106786695 |  0.0152904568 |  0.106883427 | -0.025194472 |  0.0059962164 |  0.0152904568 |  0.0152904568 | ⋯ |  0.320378997 | -0.077859128 |  0.45747532 |  0.45747532 | -0.079894957 |  0.45747532 | -0.079894957 |  0.45747532 | -0.0532796268 |  0.326336565 |\n",
       "| chr2_73146968_T_C_b38 |  0.0152904568 | -0.0183421277 |  0.0152904568 |  0.106786695 |  0.0152904568 |  0.106883427 | -0.025194472 |  0.0059962164 |  0.0152904568 |  0.0152904568 | ⋯ |  0.320378997 | -0.077859128 |  0.45747532 |  0.45747532 | -0.079894957 |  0.45747532 | -0.079894957 |  0.45747532 | -0.0532796268 |  0.326336565 |\n",
       "| chr2_73146997_T_C_b38 | -0.0022622966 | -0.0047141609 | -0.0022622966 | -0.018760236 | -0.0022622966 | -0.018698229 | -0.024083672 | -0.0039495944 | -0.0022622966 | -0.0022622966 | ⋯ |  0.066454610 |  0.173943190 | -0.07989496 | -0.07989496 |  0.180653458 | -0.07989496 |  0.180653458 | -0.07989496 | -0.0285345165 |  0.065513716 |\n",
       "| chr2_73147028_G_A_b38 |  0.0152904568 | -0.0183421277 |  0.0152904568 |  0.106786695 |  0.0152904568 |  0.106883427 | -0.025194472 |  0.0059962164 |  0.0152904568 |  0.0152904568 | ⋯ |  0.320378997 | -0.077859128 |  0.45747532 |  0.45747532 | -0.079894957 |  0.45747532 | -0.079894957 |  0.45747532 | -0.0532796268 |  0.326336565 |\n",
       "| chr2_73147287_T_C_b38 | -0.0022622966 | -0.0047141609 | -0.0022622966 | -0.018760236 | -0.0022622966 | -0.018698229 | -0.024083672 | -0.0039495944 | -0.0022622966 | -0.0022622966 | ⋯ |  0.066454610 |  0.173943190 | -0.07989496 | -0.07989496 |  0.180653458 | -0.07989496 |  0.180653458 | -0.07989496 | -0.0285345165 |  0.065513716 |\n",
       "| chr2_73147326_A_G_b38 |  0.0152904568 | -0.0183421277 |  0.0152904568 |  0.106786695 |  0.0152904568 |  0.106883427 | -0.025194472 |  0.0059962164 |  0.0152904568 |  0.0152904568 | ⋯ |  0.320378997 | -0.077859128 |  0.45747532 |  0.45747532 | -0.079894957 |  0.45747532 | -0.079894957 |  0.45747532 | -0.0532796268 |  0.326336565 |\n",
       "| chr2_73147380_G_C_b38 |  0.0085522331 | -0.0115992822 |  0.0085522331 |  0.041351099 |  0.0085522331 |  0.041331063 | -0.008560153 |  0.0018028172 |  0.0085522331 |  0.0085522331 | ⋯ |  0.080690402 | -0.028734177 | -0.05327963 | -0.05327963 | -0.028534516 | -0.05327963 | -0.028534516 | -0.05327963 |  0.1620433923 |  0.080029588 |\n",
       "| chr2_73147737_A_T_b38 |  0.0250265889 | -0.0400067498 |  0.0250265889 |  0.154629515 |  0.0250265889 |  0.154770292 | -0.057592243 |  0.0120793223 |  0.0250265889 |  0.0250265889 | ⋯ |  0.492543777 |  0.090399528 |  0.32633656 |  0.32633656 |  0.065513716 |  0.32633656 |  0.065513716 |  0.32633656 |  0.0800295884 |  0.496765682 |\n",
       "\n"
      ],
      "text/plain": [
       "                            chr2_71129368_C_T_b38 chr2_71129592_A_T_b38\n",
       "chr2_71129368_C_T_b38        0.0385416845         -0.009852114         \n",
       "chr2_71129592_A_T_b38       -0.0098521137          0.253474776         \n",
       "chr2_71130065_C_A_b38        0.0385416845         -0.009852114         \n",
       "chr2_71130287_C_A_b38        0.0341135989         -0.129003757         \n",
       "chr2_71130375_C_T_b38        0.0385416845         -0.009852114         \n",
       "chr2_71130504_C_T_b38        0.0341213685         -0.129118726         \n",
       "chr2_71130580_G_C_b38       -0.0174673880          0.207716501         \n",
       "chr2_71130634_A_G_b38       -0.0005514403         -0.005350567         \n",
       "chr2_71130975_A_G_b38        0.0385416845         -0.009852114         \n",
       "chr2_71131072_T_C_b38        0.0385416845         -0.009852114         \n",
       "chr2_71131131_C_T_b38        0.0385416845         -0.009852114         \n",
       "chr2_71131515_T_C_b38        0.0210742965          0.197864388         \n",
       "chr2_71131552_C_A_b38        0.0036242838         -0.050492209         \n",
       "chr2_71131579_A_G_b38       -0.0035067159          0.099028920         \n",
       "chr2_71131607_A_G_b38        0.0210548725          0.198151812         \n",
       "chr2_71131875_C_T_b38        0.0385416845         -0.009852114         \n",
       "chr2_71132131_A_G_b38       -0.0004388313         -0.003639273         \n",
       "chr2_71132480_A_G_b38       -0.0011028805          0.006842726         \n",
       "chr2_71132575_A_G_b38       -0.0017280818         -0.013951878         \n",
       "chr2_71132702_G_A_b38        0.0385416845         -0.009852114         \n",
       "chr2_71132970_G_A_b38        0.0385416845         -0.009852114         \n",
       "chr2_71133014_A_C_b38        0.0210781813          0.197806903         \n",
       "chr2_71133152_G_A_b38       -0.0060097195         -0.048221156         \n",
       "chr2_71133495_G_T_b38        0.0210345412          0.195879972         \n",
       "chr2_71133593_A_G_b38        0.0042961026         -0.043545318         \n",
       "chr2_71133605_T_TTCC_b38     0.0047038556         -0.039446166         \n",
       "chr2_71133774_T_C_b38       -0.0012154895         -0.012412427         \n",
       "chr2_71133843_A_C_b38       -0.0169276021          0.213239523         \n",
       "chr2_71134202_T_G_b38        0.0210781813          0.197806903         \n",
       "chr2_71134488_T_G_b38        0.0385416845         -0.009852114         \n",
       "⋮                           ⋮                     ⋮                    \n",
       "chr2_73143754_A_T_b38        0.0195443889         -0.0197659968        \n",
       "chr2_73143879_G_A_b38        0.0250343585         -0.0401217196        \n",
       "chr2_73144216_T_C_b38        0.0112045451         -0.0008382152        \n",
       "chr2_73144347_T_C_b38        0.0152904568         -0.0183421277        \n",
       "chr2_73144348_G_A_b38        0.0154186049         -0.0168607737        \n",
       "chr2_73144396_AC_A_b38       0.0152904568         -0.0183421277        \n",
       "chr2_73144646_G_A_b38        0.0086764964         -0.0100604433        \n",
       "chr2_73144654_G_GCTTTT_b38   0.0152904568         -0.0183421277        \n",
       "chr2_73144957_C_T_b38       -0.0071087152          0.0068096989        \n",
       "chr2_73145084_T_A_b38        0.0152943416         -0.0183996126        \n",
       "chr2_73145220_G_T_b38        0.0085522331         -0.0115992822        \n",
       "chr2_73145430_T_C_b38        0.0195405041         -0.0197085119        \n",
       "chr2_73145448_C_T_b38        0.0030384426         -0.0050643666        \n",
       "chr2_73145477_C_T_b38        0.0143817658         -0.0241531858        \n",
       "chr2_73145683_G_A_b38        0.0112045451         -0.0008382152        \n",
       "chr2_73145979_A_G_b38       -0.0012077199         -0.0037554673        \n",
       "chr2_73146216_G_A_b38        0.0152904568         -0.0183421277        \n",
       "chr2_73146226_A_ACTCTCT_b38  0.0169564639         -0.0266361519        \n",
       "chr2_73146251_C_A_b38        0.0034750754         -0.0172511389        \n",
       "chr2_73146310_C_T_b38       -0.0009319997          0.0076917460        \n",
       "chr2_73146320_G_A_b38        0.0251586218         -0.0385828807        \n",
       "chr2_73146576_C_G_b38        0.0011838990         -0.0100653399        \n",
       "chr2_73146922_A_G_b38        0.0152904568         -0.0183421277        \n",
       "chr2_73146968_T_C_b38        0.0152904568         -0.0183421277        \n",
       "chr2_73146997_T_C_b38       -0.0022622966         -0.0047141609        \n",
       "chr2_73147028_G_A_b38        0.0152904568         -0.0183421277        \n",
       "chr2_73147287_T_C_b38       -0.0022622966         -0.0047141609        \n",
       "chr2_73147326_A_G_b38        0.0152904568         -0.0183421277        \n",
       "chr2_73147380_G_C_b38        0.0085522331         -0.0115992822        \n",
       "chr2_73147737_A_T_b38        0.0250265889         -0.0400067498        \n",
       "                            chr2_71130065_C_A_b38 chr2_71130287_C_A_b38\n",
       "chr2_71129368_C_T_b38        0.0385416845          0.034113599         \n",
       "chr2_71129592_A_T_b38       -0.0098521137         -0.129003757         \n",
       "chr2_71130065_C_A_b38        0.0385416845          0.034113599         \n",
       "chr2_71130287_C_A_b38        0.0341135989          0.548562093         \n",
       "chr2_71130375_C_T_b38        0.0385416845          0.034113599         \n",
       "chr2_71130504_C_T_b38        0.0341213685          0.548651806         \n",
       "chr2_71130580_G_C_b38       -0.0174673880         -0.208811262         \n",
       "chr2_71130634_A_G_b38       -0.0005514403          0.017395913         \n",
       "chr2_71130975_A_G_b38        0.0385416845          0.034113599         \n",
       "chr2_71131072_T_C_b38        0.0385416845          0.034113599         \n",
       "chr2_71131131_C_T_b38        0.0385416845          0.034113599         \n",
       "chr2_71131515_T_C_b38        0.0210742965         -0.174697663         \n",
       "chr2_71131552_C_A_b38        0.0036242838          0.227285710         \n",
       "chr2_71131579_A_G_b38       -0.0035067159         -0.048769061         \n",
       "chr2_71131607_A_G_b38        0.0210548725         -0.174921944         \n",
       "chr2_71131875_C_T_b38        0.0385416845          0.034113599         \n",
       "chr2_71132131_A_G_b38       -0.0004388313          0.007272913         \n",
       "chr2_71132480_A_G_b38       -0.0011028805          0.012862001         \n",
       "chr2_71132575_A_G_b38       -0.0017280818         -0.029345963         \n",
       "chr2_71132702_G_A_b38        0.0385416845          0.034113599         \n",
       "chr2_71132970_G_A_b38        0.0385416845          0.034113599         \n",
       "chr2_71133014_A_C_b38        0.0210781813         -0.174652807         \n",
       "chr2_71133152_G_A_b38       -0.0060097195          0.244662861         \n",
       "chr2_71133495_G_T_b38        0.0210345412         -0.177202774         \n",
       "chr2_71133593_A_G_b38        0.0042961026          0.199856510         \n",
       "chr2_71133605_T_TTCC_b38     0.0047038556          0.187838782         \n",
       "chr2_71133774_T_C_b38       -0.0012154895          0.018599036         \n",
       "chr2_71133843_A_C_b38       -0.0169276021         -0.226341744         \n",
       "chr2_71134202_T_G_b38        0.0210781813         -0.174652807         \n",
       "chr2_71134488_T_G_b38        0.0385416845          0.034113599         \n",
       "⋮                           ⋮                     ⋮                    \n",
       "chr2_73143754_A_T_b38        0.0195443889          0.112299449         \n",
       "chr2_73143879_G_A_b38        0.0250343585          0.154719227         \n",
       "chr2_73144216_T_C_b38        0.0112045451          0.040879716         \n",
       "chr2_73144347_T_C_b38        0.0152904568          0.106786695         \n",
       "chr2_73144348_G_A_b38        0.0154186049          0.101229085         \n",
       "chr2_73144396_AC_A_b38       0.0152904568          0.106786695         \n",
       "chr2_73144646_G_A_b38        0.0086764964          0.035748633         \n",
       "chr2_73144654_G_GCTTTT_b38   0.0152904568          0.106786695         \n",
       "chr2_73144957_C_T_b38       -0.0071087152          0.020727613         \n",
       "chr2_73145084_T_A_b38        0.0152943416          0.106831551         \n",
       "chr2_73145220_G_T_b38        0.0085522331          0.041351099         \n",
       "chr2_73145430_T_C_b38        0.0195405041          0.112254592         \n",
       "chr2_73145448_C_T_b38        0.0030384426         -0.019747859         \n",
       "chr2_73145477_C_T_b38        0.0143817658          0.106081712         \n",
       "chr2_73145683_G_A_b38        0.0112045451          0.040879716         \n",
       "chr2_73145979_A_G_b38       -0.0012077199         -0.003241076         \n",
       "chr2_73146216_G_A_b38        0.0152904568          0.106786695         \n",
       "chr2_73146226_A_ACTCTCT_b38  0.0169564639          0.107909223         \n",
       "chr2_73146251_C_A_b38        0.0034750754          0.027348269         \n",
       "chr2_73146310_C_T_b38       -0.0009319997          0.012183774         \n",
       "chr2_73146320_G_A_b38        0.0251586218          0.157888691         \n",
       "chr2_73146576_C_G_b38        0.0011838990          0.006491721         \n",
       "chr2_73146922_A_G_b38        0.0152904568          0.106786695         \n",
       "chr2_73146968_T_C_b38        0.0152904568          0.106786695         \n",
       "chr2_73146997_T_C_b38       -0.0022622966         -0.018760236         \n",
       "chr2_73147028_G_A_b38        0.0152904568          0.106786695         \n",
       "chr2_73147287_T_C_b38       -0.0022622966         -0.018760236         \n",
       "chr2_73147326_A_G_b38        0.0152904568          0.106786695         \n",
       "chr2_73147380_G_C_b38        0.0085522331          0.041351099         \n",
       "chr2_73147737_A_T_b38        0.0250265889          0.154629515         \n",
       "                            chr2_71130375_C_T_b38 chr2_71130504_C_T_b38\n",
       "chr2_71129368_C_T_b38        0.0385416845          0.034121369         \n",
       "chr2_71129592_A_T_b38       -0.0098521137         -0.129118726         \n",
       "chr2_71130065_C_A_b38        0.0385416845          0.034121369         \n",
       "chr2_71130287_C_A_b38        0.0341135989          0.548651806         \n",
       "chr2_71130375_C_T_b38        0.0385416845          0.034121369         \n",
       "chr2_71130504_C_T_b38        0.0341213685          0.548747214         \n",
       "chr2_71130580_G_C_b38       -0.0174673880         -0.208980844         \n",
       "chr2_71130634_A_G_b38       -0.0005514403          0.017386519         \n",
       "chr2_71130975_A_G_b38        0.0385416845          0.034121369         \n",
       "chr2_71131072_T_C_b38        0.0385416845          0.034121369         \n",
       "chr2_71131131_C_T_b38        0.0385416845          0.034121369         \n",
       "chr2_71131515_T_C_b38        0.0210742965         -0.174859476         \n",
       "chr2_71131552_C_A_b38        0.0036242838          0.227305521         \n",
       "chr2_71131579_A_G_b38       -0.0035067159         -0.048871915         \n",
       "chr2_71131607_A_G_b38        0.0210548725         -0.175097997         \n",
       "chr2_71131875_C_T_b38        0.0385416845          0.034121369         \n",
       "chr2_71132131_A_G_b38       -0.0004388313          0.007247356         \n",
       "chr2_71132480_A_G_b38       -0.0011028805          0.012843214         \n",
       "chr2_71132575_A_G_b38       -0.0017280818         -0.029329499         \n",
       "chr2_71132702_G_A_b38        0.0385416845          0.034121369         \n",
       "chr2_71132970_G_A_b38        0.0385416845          0.034121369         \n",
       "chr2_71133014_A_C_b38        0.0210781813         -0.174811771         \n",
       "chr2_71133152_G_A_b38       -0.0060097195          0.244741706         \n",
       "chr2_71133495_G_T_b38        0.0210345412         -0.177362089         \n",
       "chr2_71133593_A_G_b38        0.0042961026          0.199875247         \n",
       "chr2_71133605_T_TTCC_b38     0.0047038556          0.187860292         \n",
       "chr2_71133774_T_C_b38       -0.0012154895          0.018596413         \n",
       "chr2_71133843_A_C_b38       -0.0169276021         -0.226510476         \n",
       "chr2_71134202_T_G_b38        0.0210781813         -0.174811771         \n",
       "chr2_71134488_T_G_b38        0.0385416845          0.034121369         \n",
       "⋮                           ⋮                     ⋮                    \n",
       "chr2_73143754_A_T_b38        0.0195443889          0.112398105         \n",
       "chr2_73143879_G_A_b38        0.0250343585          0.154865700         \n",
       "chr2_73144216_T_C_b38        0.0112045451          0.040829751         \n",
       "chr2_73144347_T_C_b38        0.0152904568          0.106883427         \n",
       "chr2_73144348_G_A_b38        0.0154186049          0.101321046         \n",
       "chr2_73144396_AC_A_b38       0.0152904568          0.106883427         \n",
       "chr2_73144646_G_A_b38        0.0086764964          0.035720977         \n",
       "chr2_73144654_G_GCTTTT_b38   0.0152904568          0.106883427         \n",
       "chr2_73144957_C_T_b38       -0.0071087152          0.020790519         \n",
       "chr2_73145084_T_A_b38        0.0152943416          0.106931132         \n",
       "chr2_73145220_G_T_b38        0.0085522331          0.041331063         \n",
       "chr2_73145430_T_C_b38        0.0195405041          0.112350401         \n",
       "chr2_73145448_C_T_b38        0.0030384426         -0.019748559         \n",
       "chr2_73145477_C_T_b38        0.0143817658          0.106203302         \n",
       "chr2_73145683_G_A_b38        0.0112045451          0.040829751         \n",
       "chr2_73145979_A_G_b38       -0.0012077199         -0.003238003         \n",
       "chr2_73146216_G_A_b38        0.0152904568          0.106883427         \n",
       "chr2_73146226_A_ACTCTCT_b38  0.0169564639          0.108007609         \n",
       "chr2_73146251_C_A_b38        0.0034750754          0.027413823         \n",
       "chr2_73146310_C_T_b38       -0.0009319997          0.012191544         \n",
       "chr2_73146320_G_A_b38        0.0251586218          0.158027544         \n",
       "chr2_73146576_C_G_b38        0.0011838990          0.006555801         \n",
       "chr2_73146922_A_G_b38        0.0152904568          0.106883427         \n",
       "chr2_73146968_T_C_b38        0.0152904568          0.106883427         \n",
       "chr2_73146997_T_C_b38       -0.0022622966         -0.018698229         \n",
       "chr2_73147028_G_A_b38        0.0152904568          0.106883427         \n",
       "chr2_73147287_T_C_b38       -0.0022622966         -0.018698229         \n",
       "chr2_73147326_A_G_b38        0.0152904568          0.106883427         \n",
       "chr2_73147380_G_C_b38        0.0085522331          0.041331063         \n",
       "chr2_73147737_A_T_b38        0.0250265889          0.154770292         \n",
       "                            chr2_71130580_G_C_b38 chr2_71130634_A_G_b38\n",
       "chr2_71129368_C_T_b38       -0.017467388          -0.0005514403        \n",
       "chr2_71129592_A_T_b38        0.207716501          -0.0053505669        \n",
       "chr2_71130065_C_A_b38       -0.017467388          -0.0005514403        \n",
       "chr2_71130287_C_A_b38       -0.208811262           0.0173959129        \n",
       "chr2_71130375_C_T_b38       -0.017467388          -0.0005514403        \n",
       "chr2_71130504_C_T_b38       -0.208980844           0.0173865194        \n",
       "chr2_71130580_G_C_b38        0.382857330           0.0079743363        \n",
       "chr2_71130634_A_G_b38        0.007974336           0.0172515636        \n",
       "chr2_71130975_A_G_b38       -0.017467388          -0.0005514403        \n",
       "chr2_71131072_T_C_b38       -0.017467388          -0.0005514403        \n",
       "chr2_71131131_C_T_b38       -0.017467388          -0.0005514403        \n",
       "chr2_71131515_T_C_b38        0.365389942           0.0074228960        \n",
       "chr2_71131552_C_A_b38       -0.092079506           0.0076620042        \n",
       "chr2_71131579_A_G_b38        0.086241579          -0.0017540512        \n",
       "chr2_71131607_A_G_b38        0.365813897           0.0074463797        \n",
       "chr2_71131875_C_T_b38       -0.017467388          -0.0005514403        \n",
       "chr2_71132131_A_G_b38       -0.002240037          -0.0001886933        \n",
       "chr2_71132480_A_G_b38       -0.001595187          -0.0005845921        \n",
       "chr2_71132575_A_G_b38        0.028903509          -0.0010274581        \n",
       "chr2_71132702_G_A_b38       -0.017467388          -0.0005514403        \n",
       "chr2_71132970_G_A_b38       -0.017467388          -0.0005514403        \n",
       "chr2_71133014_A_C_b38        0.365305152           0.0074181993        \n",
       "chr2_71133152_G_A_b38       -0.097915235          -0.0061318718        \n",
       "chr2_71133495_G_T_b38        0.363036296           0.0073941145        \n",
       "chr2_71133593_A_G_b38       -0.079736043           0.0080485096        \n",
       "chr2_71133605_T_TTCC_b38    -0.081203644           0.0038888118        \n",
       "chr2_71133774_T_C_b38       -0.008924673          -0.0006881948        \n",
       "chr2_71133843_A_C_b38        0.375137367          -0.0092631371        \n",
       "chr2_71134202_T_G_b38        0.365305152           0.0074181993        \n",
       "chr2_71134488_T_G_b38       -0.017467388          -0.0005514403        \n",
       "⋮                           ⋮                     ⋮                    \n",
       "chr2_73143754_A_T_b38       -0.027714039           0.0059160973        \n",
       "chr2_73143879_G_A_b38       -0.057761825           0.0120699288        \n",
       "chr2_73144216_T_C_b38        0.002103133           0.0121630388        \n",
       "chr2_73144347_T_C_b38       -0.025194472           0.0059962164        \n",
       "chr2_73144348_G_A_b38       -0.026976079           0.0016950674        \n",
       "chr2_73144396_AC_A_b38      -0.025194472           0.0059962164        \n",
       "chr2_73144646_G_A_b38       -0.010256969          -0.0024936352        \n",
       "chr2_73144654_G_GCTTTT_b38  -0.025194472           0.0059962164        \n",
       "chr2_73144957_C_T_b38        0.010053910          -0.0067211606        \n",
       "chr2_73145084_T_A_b38       -0.025279263           0.0059915197        \n",
       "chr2_73145220_G_T_b38       -0.008560153           0.0018028172        \n",
       "chr2_73145430_T_C_b38       -0.027629248           0.0059207941        \n",
       "chr2_73145448_C_T_b38       -0.007058275          -0.0007683139        \n",
       "chr2_73145477_C_T_b38       -0.030012710           0.0054165958        \n",
       "chr2_73145683_G_A_b38        0.002103133           0.0121630388        \n",
       "chr2_73145979_A_G_b38       -0.009094255          -0.0006975883        \n",
       "chr2_73146216_G_A_b38       -0.025194472           0.0059962164        \n",
       "chr2_73146226_A_ACTCTCT_b38 -0.036795935           0.0069442057        \n",
       "chr2_73146251_C_A_b38       -0.025882117          -0.0031859771        \n",
       "chr2_73146310_C_T_b38        0.004462437          -0.0005514403        \n",
       "chr2_73146320_G_A_b38       -0.055072676           0.0121594414        \n",
       "chr2_73146576_C_G_b38       -0.023837618           0.0042802886        \n",
       "chr2_73146922_A_G_b38       -0.025194472           0.0059962164        \n",
       "chr2_73146968_T_C_b38       -0.025194472           0.0059962164        \n",
       "chr2_73146997_T_C_b38       -0.024083672          -0.0039495944        \n",
       "chr2_73147028_G_A_b38       -0.025194472           0.0059962164        \n",
       "chr2_73147287_T_C_b38       -0.024083672          -0.0039495944        \n",
       "chr2_73147326_A_G_b38       -0.025194472           0.0059962164        \n",
       "chr2_73147380_G_C_b38       -0.008560153           0.0018028172        \n",
       "chr2_73147737_A_T_b38       -0.057592243           0.0120793223        \n",
       "                            chr2_71130975_A_G_b38 chr2_71131072_T_C_b38 ⋯\n",
       "chr2_71129368_C_T_b38        0.0385416845          0.0385416845         ⋯\n",
       "chr2_71129592_A_T_b38       -0.0098521137         -0.0098521137         ⋯\n",
       "chr2_71130065_C_A_b38        0.0385416845          0.0385416845         ⋯\n",
       "chr2_71130287_C_A_b38        0.0341135989          0.0341135989         ⋯\n",
       "chr2_71130375_C_T_b38        0.0385416845          0.0385416845         ⋯\n",
       "chr2_71130504_C_T_b38        0.0341213685          0.0341213685         ⋯\n",
       "chr2_71130580_G_C_b38       -0.0174673880         -0.0174673880         ⋯\n",
       "chr2_71130634_A_G_b38       -0.0005514403         -0.0005514403         ⋯\n",
       "chr2_71130975_A_G_b38        0.0385416845          0.0385416845         ⋯\n",
       "chr2_71131072_T_C_b38        0.0385416845          0.0385416845         ⋯\n",
       "chr2_71131131_C_T_b38        0.0385416845          0.0385416845         ⋯\n",
       "chr2_71131515_T_C_b38        0.0210742965          0.0210742965         ⋯\n",
       "chr2_71131552_C_A_b38        0.0036242838          0.0036242838         ⋯\n",
       "chr2_71131579_A_G_b38       -0.0035067159         -0.0035067159         ⋯\n",
       "chr2_71131607_A_G_b38        0.0210548725          0.0210548725         ⋯\n",
       "chr2_71131875_C_T_b38        0.0385416845          0.0385416845         ⋯\n",
       "chr2_71132131_A_G_b38       -0.0004388313         -0.0004388313         ⋯\n",
       "chr2_71132480_A_G_b38       -0.0011028805         -0.0011028805         ⋯\n",
       "chr2_71132575_A_G_b38       -0.0017280818         -0.0017280818         ⋯\n",
       "chr2_71132702_G_A_b38        0.0385416845          0.0385416845         ⋯\n",
       "chr2_71132970_G_A_b38        0.0385416845          0.0385416845         ⋯\n",
       "chr2_71133014_A_C_b38        0.0210781813          0.0210781813         ⋯\n",
       "chr2_71133152_G_A_b38       -0.0060097195         -0.0060097195         ⋯\n",
       "chr2_71133495_G_T_b38        0.0210345412          0.0210345412         ⋯\n",
       "chr2_71133593_A_G_b38        0.0042961026          0.0042961026         ⋯\n",
       "chr2_71133605_T_TTCC_b38     0.0047038556          0.0047038556         ⋯\n",
       "chr2_71133774_T_C_b38       -0.0012154895         -0.0012154895         ⋯\n",
       "chr2_71133843_A_C_b38       -0.0169276021         -0.0169276021         ⋯\n",
       "chr2_71134202_T_G_b38        0.0210781813          0.0210781813         ⋯\n",
       "chr2_71134488_T_G_b38        0.0385416845          0.0385416845         ⋯\n",
       "⋮                           ⋮                     ⋮                     ⋱\n",
       "chr2_73143754_A_T_b38        0.0195443889          0.0195443889         ⋯\n",
       "chr2_73143879_G_A_b38        0.0250343585          0.0250343585         ⋯\n",
       "chr2_73144216_T_C_b38        0.0112045451          0.0112045451         ⋯\n",
       "chr2_73144347_T_C_b38        0.0152904568          0.0152904568         ⋯\n",
       "chr2_73144348_G_A_b38        0.0154186049          0.0154186049         ⋯\n",
       "chr2_73144396_AC_A_b38       0.0152904568          0.0152904568         ⋯\n",
       "chr2_73144646_G_A_b38        0.0086764964          0.0086764964         ⋯\n",
       "chr2_73144654_G_GCTTTT_b38   0.0152904568          0.0152904568         ⋯\n",
       "chr2_73144957_C_T_b38       -0.0071087152         -0.0071087152         ⋯\n",
       "chr2_73145084_T_A_b38        0.0152943416          0.0152943416         ⋯\n",
       "chr2_73145220_G_T_b38        0.0085522331          0.0085522331         ⋯\n",
       "chr2_73145430_T_C_b38        0.0195405041          0.0195405041         ⋯\n",
       "chr2_73145448_C_T_b38        0.0030384426          0.0030384426         ⋯\n",
       "chr2_73145477_C_T_b38        0.0143817658          0.0143817658         ⋯\n",
       "chr2_73145683_G_A_b38        0.0112045451          0.0112045451         ⋯\n",
       "chr2_73145979_A_G_b38       -0.0012077199         -0.0012077199         ⋯\n",
       "chr2_73146216_G_A_b38        0.0152904568          0.0152904568         ⋯\n",
       "chr2_73146226_A_ACTCTCT_b38  0.0169564639          0.0169564639         ⋯\n",
       "chr2_73146251_C_A_b38        0.0034750754          0.0034750754         ⋯\n",
       "chr2_73146310_C_T_b38       -0.0009319997         -0.0009319997         ⋯\n",
       "chr2_73146320_G_A_b38        0.0251586218          0.0251586218         ⋯\n",
       "chr2_73146576_C_G_b38        0.0011838990          0.0011838990         ⋯\n",
       "chr2_73146922_A_G_b38        0.0152904568          0.0152904568         ⋯\n",
       "chr2_73146968_T_C_b38        0.0152904568          0.0152904568         ⋯\n",
       "chr2_73146997_T_C_b38       -0.0022622966         -0.0022622966         ⋯\n",
       "chr2_73147028_G_A_b38        0.0152904568          0.0152904568         ⋯\n",
       "chr2_73147287_T_C_b38       -0.0022622966         -0.0022622966         ⋯\n",
       "chr2_73147326_A_G_b38        0.0152904568          0.0152904568         ⋯\n",
       "chr2_73147380_G_C_b38        0.0085522331          0.0085522331         ⋯\n",
       "chr2_73147737_A_T_b38        0.0250265889          0.0250265889         ⋯\n",
       "                            chr2_73146320_G_A_b38 chr2_73146576_C_G_b38\n",
       "chr2_71129368_C_T_b38        0.025158622           0.0011838990        \n",
       "chr2_71129592_A_T_b38       -0.038582881          -0.0100653399        \n",
       "chr2_71130065_C_A_b38        0.025158622           0.0011838990        \n",
       "chr2_71130287_C_A_b38        0.157888691           0.0064917207        \n",
       "chr2_71130375_C_T_b38        0.025158622           0.0011838990        \n",
       "chr2_71130504_C_T_b38        0.158027544           0.0065558010        \n",
       "chr2_71130580_G_C_b38       -0.055072676          -0.0238376185        \n",
       "chr2_71130634_A_G_b38        0.012159441           0.0042802886        \n",
       "chr2_71130975_A_G_b38        0.025158622           0.0011838990        \n",
       "chr2_71131072_T_C_b38        0.025158622           0.0011838990        \n",
       "chr2_71131131_C_T_b38        0.025158622           0.0011838990        \n",
       "chr2_71131515_T_C_b38       -0.029914054          -0.0226537195        \n",
       "chr2_71131552_C_A_b38        0.083316120           0.0100912968        \n",
       "chr2_71131579_A_G_b38       -0.029246270          -0.0022535902        \n",
       "chr2_71131607_A_G_b38       -0.030261187          -0.0228139202        \n",
       "chr2_71131875_C_T_b38        0.025158622           0.0011838990        \n",
       "chr2_71132131_A_G_b38        0.003185852           0.0008089731        \n",
       "chr2_71132480_A_G_b38       -0.015154801          -0.0089832824        \n",
       "chr2_71132575_A_G_b38       -0.006485400          -0.0052972416        \n",
       "chr2_71132702_G_A_b38        0.025158622           0.0011838990        \n",
       "chr2_71132970_G_A_b38        0.025158622           0.0011838990        \n",
       "chr2_71133014_A_C_b38       -0.029844627          -0.0226216794        \n",
       "chr2_71133152_G_A_b38        0.026391087          -0.0056919412        \n",
       "chr2_71133495_G_T_b38       -0.031320668          -0.0229770843        \n",
       "chr2_71133593_A_G_b38        0.062321943           0.0111757027        \n",
       "chr2_71133605_T_TTCC_b38     0.054194713           0.0101104085        \n",
       "chr2_71133774_T_C_b38        0.006976682          -0.0055119668        \n",
       "chr2_71133843_A_C_b38       -0.067440397          -0.0282140276        \n",
       "chr2_71134202_T_G_b38       -0.029844627          -0.0226216794        \n",
       "chr2_71134488_T_G_b38        0.025158622           0.0011838990        \n",
       "⋮                           ⋮                     ⋮                    \n",
       "chr2_73143754_A_T_b38        0.324619488          -0.074548013         \n",
       "chr2_73143879_G_A_b38        0.492682630           0.090463609         \n",
       "chr2_73144216_T_C_b38        0.035562538           0.001630875         \n",
       "chr2_73144347_T_C_b38        0.320378997          -0.077859128         \n",
       "chr2_73144348_G_A_b38        0.316069079          -0.081202283         \n",
       "chr2_73144396_AC_A_b38       0.320378997          -0.077859128         \n",
       "chr2_73144646_G_A_b38        0.076311058          -0.027723407         \n",
       "chr2_73144654_G_GCTTTT_b38   0.320378997          -0.077859128         \n",
       "chr2_73144957_C_T_b38        0.164814484          -0.067274762         \n",
       "chr2_73145084_T_A_b38        0.320448423          -0.077827088         \n",
       "chr2_73145220_G_T_b38        0.080690402          -0.028734177         \n",
       "chr2_73145430_T_C_b38        0.324550061          -0.074580053         \n",
       "chr2_73145448_C_T_b38        0.002445244           0.032886867         \n",
       "chr2_73145477_C_T_b38        0.293322599          -0.085254918         \n",
       "chr2_73145683_G_A_b38        0.035562538           0.001630875         \n",
       "chr2_73145979_A_G_b38       -0.014814289           0.003324043         \n",
       "chr2_73146216_G_A_b38        0.320378997          -0.077859128         \n",
       "chr2_73146226_A_ACTCTCT_b38  0.260848536          -0.064292834         \n",
       "chr2_73146251_C_A_b38        0.090394582          -0.016806374         \n",
       "chr2_73146310_C_T_b38        0.016386692           0.001183899         \n",
       "chr2_73146320_G_A_b38        0.492689251           0.091474378         \n",
       "chr2_73146576_C_G_b38        0.091474378           0.196992833         \n",
       "chr2_73146922_A_G_b38        0.320378997          -0.077859128         \n",
       "chr2_73146968_T_C_b38        0.320378997          -0.077859128         \n",
       "chr2_73146997_T_C_b38        0.066454610           0.173943190         \n",
       "chr2_73147028_G_A_b38        0.320378997          -0.077859128         \n",
       "chr2_73147287_T_C_b38        0.066454610           0.173943190         \n",
       "chr2_73147326_A_G_b38        0.320378997          -0.077859128         \n",
       "chr2_73147380_G_C_b38        0.080690402          -0.028734177         \n",
       "chr2_73147737_A_T_b38        0.492543777           0.090399528         \n",
       "                            chr2_73146922_A_G_b38 chr2_73146968_T_C_b38\n",
       "chr2_71129368_C_T_b38        0.0152904568          0.0152904568        \n",
       "chr2_71129592_A_T_b38       -0.0183421277         -0.0183421277        \n",
       "chr2_71130065_C_A_b38        0.0152904568          0.0152904568        \n",
       "chr2_71130287_C_A_b38        0.1067866949          0.1067866949        \n",
       "chr2_71130375_C_T_b38        0.0152904568          0.0152904568        \n",
       "chr2_71130504_C_T_b38        0.1068834274          0.1068834274        \n",
       "chr2_71130580_G_C_b38       -0.0251944718         -0.0251944718        \n",
       "chr2_71130634_A_G_b38        0.0059962164          0.0059962164        \n",
       "chr2_71130975_A_G_b38        0.0152904568          0.0152904568        \n",
       "chr2_71131072_T_C_b38        0.0152904568          0.0152904568        \n",
       "chr2_71131131_C_T_b38        0.0152904568          0.0152904568        \n",
       "chr2_71131515_T_C_b38       -0.0099040150         -0.0099040150        \n",
       "chr2_71131552_C_A_b38        0.0481973227          0.0481973227        \n",
       "chr2_71131579_A_G_b38       -0.0202908681         -0.0202908681        \n",
       "chr2_71131607_A_G_b38       -0.0101458462         -0.0101458462        \n",
       "chr2_71131875_C_T_b38        0.0152904568          0.0152904568        \n",
       "chr2_71132131_A_G_b38        0.0041827817          0.0041827817        \n",
       "chr2_71132480_A_G_b38       -0.0055514268         -0.0055514268        \n",
       "chr2_71132575_A_G_b38       -0.0060300428         -0.0060300428        \n",
       "chr2_71132702_G_A_b38        0.0152904568          0.0152904568        \n",
       "chr2_71132970_G_A_b38        0.0152904568          0.0152904568        \n",
       "chr2_71133014_A_C_b38       -0.0098556487         -0.0098556487        \n",
       "chr2_71133152_G_A_b38        0.0336566178          0.0336566178        \n",
       "chr2_71133495_G_T_b38       -0.0107741627         -0.0107741627        \n",
       "chr2_71133593_A_G_b38        0.0360984391          0.0360984391        \n",
       "chr2_71133605_T_TTCC_b38     0.0271427625          0.0271427625        \n",
       "chr2_71133774_T_C_b38        0.0006479729          0.0006479729        \n",
       "chr2_71133843_A_C_b38       -0.0313357870         -0.0313357870        \n",
       "chr2_71134202_T_G_b38       -0.0098556487         -0.0098556487        \n",
       "chr2_71134488_T_G_b38        0.0152904568          0.0152904568        \n",
       "⋮                           ⋮                     ⋮                    \n",
       "chr2_73143754_A_T_b38        0.45904692            0.45904692          \n",
       "chr2_73143879_G_A_b38        0.32643330            0.32643330          \n",
       "chr2_73144216_T_C_b38        0.03385445            0.03385445          \n",
       "chr2_73144347_T_C_b38        0.45747532            0.45747532          \n",
       "chr2_73144348_G_A_b38        0.45585535            0.45585535          \n",
       "chr2_73144396_AC_A_b38       0.45747532            0.45747532          \n",
       "chr2_73144646_G_A_b38       -0.05494796           -0.05494796          \n",
       "chr2_73144654_G_GCTTTT_b38   0.45747532            0.45747532          \n",
       "chr2_73144957_C_T_b38        0.26938163            0.26938163          \n",
       "chr2_73145084_T_A_b38        0.45752369            0.45752369          \n",
       "chr2_73145220_G_T_b38       -0.05327963           -0.05327963          \n",
       "chr2_73145430_T_C_b38        0.45899856            0.45899856          \n",
       "chr2_73145448_C_T_b38       -0.02409621           -0.02409621          \n",
       "chr2_73145477_C_T_b38        0.44235422            0.44235422          \n",
       "chr2_73145683_G_A_b38        0.03385445            0.03385445          \n",
       "chr2_73145979_A_G_b38       -0.01241319           -0.01241319          \n",
       "chr2_73146216_G_A_b38        0.45747532            0.45747532          \n",
       "chr2_73146226_A_ACTCTCT_b38  0.37654154            0.37654154          \n",
       "chr2_73146251_C_A_b38        0.13284611            0.13284611          \n",
       "chr2_73146310_C_T_b38        0.01967642            0.01967642          \n",
       "chr2_73146320_G_A_b38        0.32037900            0.32037900          \n",
       "chr2_73146576_C_G_b38       -0.07785913           -0.07785913          \n",
       "chr2_73146922_A_G_b38        0.45747532            0.45747532          \n",
       "chr2_73146968_T_C_b38        0.45747532            0.45747532          \n",
       "chr2_73146997_T_C_b38       -0.07989496           -0.07989496          \n",
       "chr2_73147028_G_A_b38        0.45747532            0.45747532          \n",
       "chr2_73147287_T_C_b38       -0.07989496           -0.07989496          \n",
       "chr2_73147326_A_G_b38        0.45747532            0.45747532          \n",
       "chr2_73147380_G_C_b38       -0.05327963           -0.05327963          \n",
       "chr2_73147737_A_T_b38        0.32633656            0.32633656          \n",
       "                            chr2_73146997_T_C_b38 chr2_73147028_G_A_b38\n",
       "chr2_71129368_C_T_b38       -0.002262297           0.0152904568        \n",
       "chr2_71129592_A_T_b38       -0.004714161          -0.0183421277        \n",
       "chr2_71130065_C_A_b38       -0.002262297           0.0152904568        \n",
       "chr2_71130287_C_A_b38       -0.018760236           0.1067866949        \n",
       "chr2_71130375_C_T_b38       -0.002262297           0.0152904568        \n",
       "chr2_71130504_C_T_b38       -0.018698229           0.1068834274        \n",
       "chr2_71130580_G_C_b38       -0.024083672          -0.0251944718        \n",
       "chr2_71130634_A_G_b38       -0.003949594           0.0059962164        \n",
       "chr2_71130975_A_G_b38       -0.002262297           0.0152904568        \n",
       "chr2_71131072_T_C_b38       -0.002262297           0.0152904568        \n",
       "chr2_71131131_C_T_b38       -0.002262297           0.0152904568        \n",
       "chr2_71131515_T_C_b38       -0.026345968          -0.0099040150        \n",
       "chr2_71131552_C_A_b38        0.002100859           0.0481973227        \n",
       "chr2_71131579_A_G_b38        0.001150272          -0.0202908681        \n",
       "chr2_71131607_A_G_b38       -0.026500985          -0.0101458462        \n",
       "chr2_71131875_C_T_b38       -0.002262297           0.0152904568        \n",
       "chr2_71132131_A_G_b38        0.001222247           0.0041827817        \n",
       "chr2_71132480_A_G_b38       -0.007899189          -0.0055514268        \n",
       "chr2_71132575_A_G_b38       -0.003552696          -0.0060300428        \n",
       "chr2_71132702_G_A_b38       -0.002262297           0.0152904568        \n",
       "chr2_71132970_G_A_b38       -0.002262297           0.0152904568        \n",
       "chr2_71133014_A_C_b38       -0.026314965          -0.0098556487        \n",
       "chr2_71133152_G_A_b38       -0.008375307           0.0336566178        \n",
       "chr2_71133495_G_T_b38       -0.026627081          -0.0107741627        \n",
       "chr2_71133593_A_G_b38        0.006898337           0.0360984391        \n",
       "chr2_71133605_T_TTCC_b38     0.005428063           0.0271427625        \n",
       "chr2_71133774_T_C_b38       -0.004299101           0.0006479729        \n",
       "chr2_71133843_A_C_b38       -0.020227088          -0.0313357870        \n",
       "chr2_71134202_T_G_b38       -0.026314965          -0.0098556487        \n",
       "chr2_71134488_T_G_b38       -0.002262297           0.0152904568        \n",
       "⋮                           ⋮                     ⋮                    \n",
       "chr2_73143754_A_T_b38       -0.080835851           0.45904692          \n",
       "chr2_73143879_G_A_b38        0.065575723           0.32643330          \n",
       "chr2_73144216_T_C_b38       -0.005237671           0.03385445          \n",
       "chr2_73144347_T_C_b38       -0.079894957           0.45747532          \n",
       "chr2_73144348_G_A_b38       -0.078985067           0.45585535          \n",
       "chr2_73144396_AC_A_b38      -0.079894957           0.45747532          \n",
       "chr2_73144646_G_A_b38       -0.027655630          -0.05494796          \n",
       "chr2_73144654_G_GCTTTT_b38  -0.079894957           0.45747532          \n",
       "chr2_73144957_C_T_b38       -0.060103141           0.26938163          \n",
       "chr2_73145084_T_A_b38       -0.079863954           0.45752369          \n",
       "chr2_73145220_G_T_b38       -0.028534516          -0.05327963          \n",
       "chr2_73145430_T_C_b38       -0.080866854           0.45899856          \n",
       "chr2_73145448_C_T_b38        0.034233690          -0.02409621          \n",
       "chr2_73145477_C_T_b38       -0.086357199           0.44235422          \n",
       "chr2_73145683_G_A_b38       -0.005237671           0.03385445          \n",
       "chr2_73145979_A_G_b38        0.004534836          -0.01241319          \n",
       "chr2_73146216_G_A_b38       -0.079894957           0.45747532          \n",
       "chr2_73146226_A_ACTCTCT_b38 -0.067993018           0.37654154          \n",
       "chr2_73146251_C_A_b38       -0.015829930           0.13284611          \n",
       "chr2_73146310_C_T_b38        0.002123668           0.01967642          \n",
       "chr2_73146320_G_A_b38        0.066454610           0.32037900          \n",
       "chr2_73146576_C_G_b38        0.173943190          -0.07785913          \n",
       "chr2_73146922_A_G_b38       -0.079894957           0.45747532          \n",
       "chr2_73146968_T_C_b38       -0.079894957           0.45747532          \n",
       "chr2_73146997_T_C_b38        0.180653458          -0.07989496          \n",
       "chr2_73147028_G_A_b38       -0.079894957           0.45747532          \n",
       "chr2_73147287_T_C_b38        0.180653458          -0.07989496          \n",
       "chr2_73147326_A_G_b38       -0.079894957           0.45747532          \n",
       "chr2_73147380_G_C_b38       -0.028534516          -0.05327963          \n",
       "chr2_73147737_A_T_b38        0.065513716           0.32633656          \n",
       "                            chr2_73147287_T_C_b38 chr2_73147326_A_G_b38\n",
       "chr2_71129368_C_T_b38       -0.002262297           0.0152904568        \n",
       "chr2_71129592_A_T_b38       -0.004714161          -0.0183421277        \n",
       "chr2_71130065_C_A_b38       -0.002262297           0.0152904568        \n",
       "chr2_71130287_C_A_b38       -0.018760236           0.1067866949        \n",
       "chr2_71130375_C_T_b38       -0.002262297           0.0152904568        \n",
       "chr2_71130504_C_T_b38       -0.018698229           0.1068834274        \n",
       "chr2_71130580_G_C_b38       -0.024083672          -0.0251944718        \n",
       "chr2_71130634_A_G_b38       -0.003949594           0.0059962164        \n",
       "chr2_71130975_A_G_b38       -0.002262297           0.0152904568        \n",
       "chr2_71131072_T_C_b38       -0.002262297           0.0152904568        \n",
       "chr2_71131131_C_T_b38       -0.002262297           0.0152904568        \n",
       "chr2_71131515_T_C_b38       -0.026345968          -0.0099040150        \n",
       "chr2_71131552_C_A_b38        0.002100859           0.0481973227        \n",
       "chr2_71131579_A_G_b38        0.001150272          -0.0202908681        \n",
       "chr2_71131607_A_G_b38       -0.026500985          -0.0101458462        \n",
       "chr2_71131875_C_T_b38       -0.002262297           0.0152904568        \n",
       "chr2_71132131_A_G_b38        0.001222247           0.0041827817        \n",
       "chr2_71132480_A_G_b38       -0.007899189          -0.0055514268        \n",
       "chr2_71132575_A_G_b38       -0.003552696          -0.0060300428        \n",
       "chr2_71132702_G_A_b38       -0.002262297           0.0152904568        \n",
       "chr2_71132970_G_A_b38       -0.002262297           0.0152904568        \n",
       "chr2_71133014_A_C_b38       -0.026314965          -0.0098556487        \n",
       "chr2_71133152_G_A_b38       -0.008375307           0.0336566178        \n",
       "chr2_71133495_G_T_b38       -0.026627081          -0.0107741627        \n",
       "chr2_71133593_A_G_b38        0.006898337           0.0360984391        \n",
       "chr2_71133605_T_TTCC_b38     0.005428063           0.0271427625        \n",
       "chr2_71133774_T_C_b38       -0.004299101           0.0006479729        \n",
       "chr2_71133843_A_C_b38       -0.020227088          -0.0313357870        \n",
       "chr2_71134202_T_G_b38       -0.026314965          -0.0098556487        \n",
       "chr2_71134488_T_G_b38       -0.002262297           0.0152904568        \n",
       "⋮                           ⋮                     ⋮                    \n",
       "chr2_73143754_A_T_b38       -0.080835851           0.45904692          \n",
       "chr2_73143879_G_A_b38        0.065575723           0.32643330          \n",
       "chr2_73144216_T_C_b38       -0.005237671           0.03385445          \n",
       "chr2_73144347_T_C_b38       -0.079894957           0.45747532          \n",
       "chr2_73144348_G_A_b38       -0.078985067           0.45585535          \n",
       "chr2_73144396_AC_A_b38      -0.079894957           0.45747532          \n",
       "chr2_73144646_G_A_b38       -0.027655630          -0.05494796          \n",
       "chr2_73144654_G_GCTTTT_b38  -0.079894957           0.45747532          \n",
       "chr2_73144957_C_T_b38       -0.060103141           0.26938163          \n",
       "chr2_73145084_T_A_b38       -0.079863954           0.45752369          \n",
       "chr2_73145220_G_T_b38       -0.028534516          -0.05327963          \n",
       "chr2_73145430_T_C_b38       -0.080866854           0.45899856          \n",
       "chr2_73145448_C_T_b38        0.034233690          -0.02409621          \n",
       "chr2_73145477_C_T_b38       -0.086357199           0.44235422          \n",
       "chr2_73145683_G_A_b38       -0.005237671           0.03385445          \n",
       "chr2_73145979_A_G_b38        0.004534836          -0.01241319          \n",
       "chr2_73146216_G_A_b38       -0.079894957           0.45747532          \n",
       "chr2_73146226_A_ACTCTCT_b38 -0.067993018           0.37654154          \n",
       "chr2_73146251_C_A_b38       -0.015829930           0.13284611          \n",
       "chr2_73146310_C_T_b38        0.002123668           0.01967642          \n",
       "chr2_73146320_G_A_b38        0.066454610           0.32037900          \n",
       "chr2_73146576_C_G_b38        0.173943190          -0.07785913          \n",
       "chr2_73146922_A_G_b38       -0.079894957           0.45747532          \n",
       "chr2_73146968_T_C_b38       -0.079894957           0.45747532          \n",
       "chr2_73146997_T_C_b38        0.180653458          -0.07989496          \n",
       "chr2_73147028_G_A_b38       -0.079894957           0.45747532          \n",
       "chr2_73147287_T_C_b38        0.180653458          -0.07989496          \n",
       "chr2_73147326_A_G_b38       -0.079894957           0.45747532          \n",
       "chr2_73147380_G_C_b38       -0.028534516          -0.05327963          \n",
       "chr2_73147737_A_T_b38        0.065513716           0.32633656          \n",
       "                            chr2_73147380_G_C_b38 chr2_73147737_A_T_b38\n",
       "chr2_71129368_C_T_b38        8.552233e-03          0.025026589         \n",
       "chr2_71129592_A_T_b38       -1.159928e-02         -0.040006750         \n",
       "chr2_71130065_C_A_b38        8.552233e-03          0.025026589         \n",
       "chr2_71130287_C_A_b38        4.135110e-02          0.154629515         \n",
       "chr2_71130375_C_T_b38        8.552233e-03          0.025026589         \n",
       "chr2_71130504_C_T_b38        4.133106e-02          0.154770292         \n",
       "chr2_71130580_G_C_b38       -8.560153e-03         -0.057592243         \n",
       "chr2_71130634_A_G_b38        1.802817e-03          0.012079322         \n",
       "chr2_71130975_A_G_b38        8.552233e-03          0.025026589         \n",
       "chr2_71131072_T_C_b38        8.552233e-03          0.025026589         \n",
       "chr2_71131131_C_T_b38        8.552233e-03          0.025026589         \n",
       "chr2_71131515_T_C_b38       -7.919475e-06         -0.032565654         \n",
       "chr2_71131552_C_A_b38        2.366839e-02          0.081957006         \n",
       "chr2_71131579_A_G_b38       -7.217464e-03         -0.029761923         \n",
       "chr2_71131607_A_G_b38        4.217058e-05         -0.032917596         \n",
       "chr2_71131875_C_T_b38        8.552233e-03          0.025026589         \n",
       "chr2_71132131_A_G_b38       -1.872244e-03          0.003119511         \n",
       "chr2_71132480_A_G_b38       -7.803306e-04         -0.015315040         \n",
       "chr2_71132575_A_G_b38        4.597367e-03         -0.006729917         \n",
       "chr2_71132702_G_A_b38        8.552233e-03          0.025026589         \n",
       "chr2_71132970_G_A_b38        8.552233e-03          0.025026589         \n",
       "chr2_71133014_A_C_b38       -1.793749e-05         -0.032495266         \n",
       "chr2_71133152_G_A_b38       -3.047424e-03          0.024917253         \n",
       "chr2_71133495_G_T_b38       -2.263435e-04         -0.033977591         \n",
       "chr2_71133593_A_G_b38        1.378451e-02          0.061058649         \n",
       "chr2_71133605_T_TTCC_b38     1.573690e-02          0.052990066         \n",
       "chr2_71133774_T_C_b38        1.166666e-02          0.006802666         \n",
       "chr2_71133843_A_C_b38       -1.033292e-02         -0.069882730         \n",
       "chr2_71134202_T_G_b38       -1.793749e-05         -0.032495266         \n",
       "chr2_71134488_T_G_b38        8.552233e-03          0.025026589         \n",
       "⋮                           ⋮                     ⋮                    \n",
       "chr2_73143754_A_T_b38       -0.0539404408          0.330558469         \n",
       "chr2_73143879_G_A_b38        0.0800095523          0.496906458         \n",
       "chr2_73144216_T_C_b38       -0.0002089792          0.035276350         \n",
       "chr2_73144347_T_C_b38       -0.0532796268          0.326336565         \n",
       "chr2_73144348_G_A_b38       -0.0526087948          0.322044272         \n",
       "chr2_73144396_AC_A_b38      -0.0532796268          0.326336565         \n",
       "chr2_73144646_G_A_b38        0.1583382774          0.075666907         \n",
       "chr2_73144654_G_GCTTTT_b38  -0.0532796268          0.326336565         \n",
       "chr2_73144957_C_T_b38       -0.0345395268          0.167567338         \n",
       "chr2_73145084_T_A_b38       -0.0532896448          0.326406953         \n",
       "chr2_73145220_G_T_b38        0.1620433923          0.080029588         \n",
       "chr2_73145430_T_C_b38       -0.0539304227          0.330488081         \n",
       "chr2_73145448_C_T_b38       -0.0065380134          0.002252641         \n",
       "chr2_73145477_C_T_b38       -0.0579453965          0.299153905         \n",
       "chr2_73145683_G_A_b38       -0.0002089792          0.035276350         \n",
       "chr2_73145979_A_G_b38       -0.0058972355         -0.014986382         \n",
       "chr2_73146216_G_A_b38       -0.0532796268          0.326336565         \n",
       "chr2_73146226_A_ACTCTCT_b38 -0.0452043600          0.267044342         \n",
       "chr2_73146251_C_A_b38       -0.0220065211          0.094033218         \n",
       "chr2_73146310_C_T_b38       -0.0046056616          0.016254659         \n",
       "chr2_73146320_G_A_b38        0.0806904023          0.492543777         \n",
       "chr2_73146576_C_G_b38       -0.0287341772          0.090399528         \n",
       "chr2_73146922_A_G_b38       -0.0532796268          0.326336565         \n",
       "chr2_73146968_T_C_b38       -0.0532796268          0.326336565         \n",
       "chr2_73146997_T_C_b38       -0.0285345165          0.065513716         \n",
       "chr2_73147028_G_A_b38       -0.0532796268          0.326336565         \n",
       "chr2_73147287_T_C_b38       -0.0285345165          0.065513716         \n",
       "chr2_73147326_A_G_b38       -0.0532796268          0.326336565         \n",
       "chr2_73147380_G_C_b38        0.1620433923          0.080029588         \n",
       "chr2_73147737_A_T_b38        0.0800295884          0.496765682         "
      ]
     },
     "metadata": {},
     "output_type": "display_data"
    }
   ],
   "source": [
    "XX_train[[1]]"
   ]
  },
  {
   "cell_type": "code",
   "execution_count": null,
   "metadata": {},
   "outputs": [],
   "source": []
  },
  {
   "cell_type": "code",
   "execution_count": null,
   "metadata": {},
   "outputs": [],
   "source": []
  },
  {
   "cell_type": "code",
   "execution_count": null,
   "metadata": {},
   "outputs": [],
   "source": []
  },
  {
   "cell_type": "code",
   "execution_count": null,
   "metadata": {},
   "outputs": [],
   "source": [
    "class(beta_j_lasso[[1]])"
   ]
  },
  {
   "cell_type": "code",
   "execution_count": null,
   "metadata": {},
   "outputs": [],
   "source": [
    "beta_j_lasso"
   ]
  },
  {
   "cell_type": "code",
   "execution_count": null,
   "metadata": {},
   "outputs": [],
   "source": [
    "output_res"
   ]
  },
  {
   "cell_type": "code",
   "execution_count": null,
   "metadata": {},
   "outputs": [],
   "source": [
    "beta_j_lasso[[2]]"
   ]
  },
  {
   "cell_type": "code",
   "execution_count": 59,
   "metadata": {},
   "outputs": [
    {
     "data": {
      "text/html": [
       "<style>\n",
       ".list-inline {list-style: none; margin:0; padding: 0}\n",
       ".list-inline>li {display: inline-block}\n",
       ".list-inline>li:not(:last-child)::after {content: \"\\00b7\"; padding: 0 .5ex}\n",
       "</style>\n",
       "<ol class=list-inline><li>6092</li><li>49</li></ol>\n"
      ],
      "text/latex": [
       "\\begin{enumerate*}\n",
       "\\item 6092\n",
       "\\item 49\n",
       "\\end{enumerate*}\n"
      ],
      "text/markdown": [
       "1. 6092\n",
       "2. 49\n",
       "\n",
       "\n"
      ],
      "text/plain": [
       "[1] 6092   49"
      ]
     },
     "metadata": {},
     "output_type": "display_data"
    }
   ],
   "source": [
    "dim(theta)"
   ]
  },
  {
   "cell_type": "code",
   "execution_count": 62,
   "metadata": {},
   "outputs": [
    {
     "data": {
      "text/html": [
       "298508"
      ],
      "text/latex": [
       "298508"
      ],
      "text/markdown": [
       "298508"
      ],
      "text/plain": [
       "[1] 298508"
      ]
     },
     "metadata": {},
     "output_type": "display_data"
    }
   ],
   "source": [
    "sum(theta == single_est)"
   ]
  },
  {
   "cell_type": "code",
   "execution_count": 55,
   "metadata": {},
   "outputs": [
    {
     "data": {
      "text/html": [
       "<style>\n",
       ".list-inline {list-style: none; margin:0; padding: 0}\n",
       ".list-inline>li {display: inline-block}\n",
       ".list-inline>li:not(:last-child)::after {content: \"\\00b7\"; padding: 0 .5ex}\n",
       "</style>\n",
       "<ol class=list-inline><li>6092</li><li>49</li></ol>\n"
      ],
      "text/latex": [
       "\\begin{enumerate*}\n",
       "\\item 6092\n",
       "\\item 49\n",
       "\\end{enumerate*}\n"
      ],
      "text/markdown": [
       "1. 6092\n",
       "2. 49\n",
       "\n",
       "\n"
      ],
      "text/plain": [
       "[1] 6092   49"
      ]
     },
     "metadata": {},
     "output_type": "display_data"
    }
   ],
   "source": [
    "dim(single_est)"
   ]
  },
  {
   "cell_type": "code",
   "execution_count": null,
   "metadata": {},
   "outputs": [],
   "source": [
    "single_est[c()]"
   ]
  },
  {
   "cell_type": "code",
   "execution_count": null,
   "metadata": {},
   "outputs": [],
   "source": [
    "sum(is.na(dose_std))"
   ]
  },
  {
   "cell_type": "code",
   "execution_count": null,
   "metadata": {},
   "outputs": [],
   "source": [
    "hist(dose_std)"
   ]
  },
  {
   "cell_type": "code",
   "execution_count": null,
   "metadata": {},
   "outputs": [],
   "source": [
    "which(is.na(single_est))"
   ]
  },
  {
   "cell_type": "code",
   "execution_count": null,
   "metadata": {},
   "outputs": [],
   "source": [
    "which(is.na(initial_numeric))"
   ]
  },
  {
   "cell_type": "code",
   "execution_count": null,
   "metadata": {},
   "outputs": [],
   "source": [
    "head(initial_numeric)\n",
    "single_est[1, 1:6]"
   ]
  },
  {
   "cell_type": "code",
   "execution_count": null,
   "metadata": {},
   "outputs": [],
   "source": [
    "single_est = matrix(initial_numeric, M, P)"
   ]
  },
  {
   "cell_type": "code",
   "execution_count": null,
   "metadata": {},
   "outputs": [],
   "source": [
    "head(single_est)"
   ]
  },
  {
   "cell_type": "code",
   "execution_count": null,
   "metadata": {},
   "outputs": [],
   "source": [
    "head(single_est)"
   ]
  },
  {
   "cell_type": "code",
   "execution_count": null,
   "metadata": {},
   "outputs": [],
   "source": [
    "class(Y_train[[1]])"
   ]
  },
  {
   "cell_type": "code",
   "execution_count": null,
   "metadata": {},
   "outputs": [],
   "source": [
    "hist(Y_train[[2]])"
   ]
  },
  {
   "cell_type": "code",
   "execution_count": null,
   "metadata": {},
   "outputs": [],
   "source": [
    "for(lam in 1:ntune){\n",
    "        single_est = matrix(initial_numeric, M, P)\n",
    "        ans = glasso(X=X_train, Y=Y_train, X1=X_tune, Y1=Y_tune, XX=XX_train, XY=XY, Xnorm=Xnorm, lambda1=lam_V[lam], lambda2=lam_V[lam], theta=single_est)\n",
    "        res_tune[lam] = ans$tune_err\n",
    "        remove(single_est); remove(ans);\n",
    "}"
   ]
  },
  {
   "cell_type": "code",
   "execution_count": null,
   "metadata": {},
   "outputs": [],
   "source": []
  },
  {
   "cell_type": "code",
   "execution_count": 24,
   "metadata": {},
   "outputs": [
    {
     "data": {
      "text/html": [
       "<style>\n",
       ".list-inline {list-style: none; margin:0; padding: 0}\n",
       ".list-inline>li {display: inline-block}\n",
       ".list-inline>li:not(:last-child)::after {content: \"\\00b7\"; padding: 0 .5ex}\n",
       "</style>\n",
       "<ol class=list-inline><li>6092</li><li>49</li></ol>\n"
      ],
      "text/latex": [
       "\\begin{enumerate*}\n",
       "\\item 6092\n",
       "\\item 49\n",
       "\\end{enumerate*}\n"
      ],
      "text/markdown": [
       "1. 6092\n",
       "2. 49\n",
       "\n",
       "\n"
      ],
      "text/plain": [
       "[1] 6092   49"
      ]
     },
     "metadata": {},
     "output_type": "display_data"
    }
   ],
   "source": [
    "dim(single_est)"
   ]
  },
  {
   "cell_type": "code",
   "execution_count": 25,
   "metadata": {},
   "outputs": [
    {
     "data": {
      "text/html": [
       "47"
      ],
      "text/latex": [
       "47"
      ],
      "text/markdown": [
       "47"
      ],
      "text/plain": [
       "[1] 47"
      ]
     },
     "metadata": {},
     "output_type": "display_data"
    }
   ],
   "source": [
    "sum(is.na(single_est))"
   ]
  },
  {
   "cell_type": "code",
   "execution_count": 26,
   "metadata": {},
   "outputs": [],
   "source": [
    "res_na <- apply(single_est, 1, function(x) sum(is.na(x)))"
   ]
  },
  {
   "cell_type": "code",
   "execution_count": 27,
   "metadata": {},
   "outputs": [],
   "source": [
    "res_inf <- apply(single_est, 1, function(x) sum(!is.finite(x)))"
   ]
  },
  {
   "cell_type": "code",
   "execution_count": 28,
   "metadata": {},
   "outputs": [
    {
     "data": {
      "text/html": [
       "851"
      ],
      "text/latex": [
       "851"
      ],
      "text/markdown": [
       "851"
      ],
      "text/plain": [
       "[1] 851"
      ]
     },
     "metadata": {},
     "output_type": "display_data"
    }
   ],
   "source": [
    "which(res_na != 0)"
   ]
  },
  {
   "cell_type": "code",
   "execution_count": 29,
   "metadata": {},
   "outputs": [
    {
     "data": {
      "text/html": [
       "<style>\n",
       ".list-inline {list-style: none; margin:0; padding: 0}\n",
       ".list-inline>li {display: inline-block}\n",
       ".list-inline>li:not(:last-child)::after {content: \"\\00b7\"; padding: 0 .5ex}\n",
       "</style>\n",
       "<ol class=list-inline><li>839</li><li>840</li><li>841</li><li>842</li><li>843</li><li>844</li><li>845</li><li>847</li><li>848</li><li>849</li><li>851</li><li>855</li><li>939</li><li>975</li><li>1291</li><li>1433</li><li>1444</li><li>1496</li><li>1807</li><li>1872</li><li>2201</li><li>2284</li><li>2369</li><li>2415</li><li>2443</li><li>3956</li></ol>\n"
      ],
      "text/latex": [
       "\\begin{enumerate*}\n",
       "\\item 839\n",
       "\\item 840\n",
       "\\item 841\n",
       "\\item 842\n",
       "\\item 843\n",
       "\\item 844\n",
       "\\item 845\n",
       "\\item 847\n",
       "\\item 848\n",
       "\\item 849\n",
       "\\item 851\n",
       "\\item 855\n",
       "\\item 939\n",
       "\\item 975\n",
       "\\item 1291\n",
       "\\item 1433\n",
       "\\item 1444\n",
       "\\item 1496\n",
       "\\item 1807\n",
       "\\item 1872\n",
       "\\item 2201\n",
       "\\item 2284\n",
       "\\item 2369\n",
       "\\item 2415\n",
       "\\item 2443\n",
       "\\item 3956\n",
       "\\end{enumerate*}\n"
      ],
      "text/markdown": [
       "1. 839\n",
       "2. 840\n",
       "3. 841\n",
       "4. 842\n",
       "5. 843\n",
       "6. 844\n",
       "7. 845\n",
       "8. 847\n",
       "9. 848\n",
       "10. 849\n",
       "11. 851\n",
       "12. 855\n",
       "13. 939\n",
       "14. 975\n",
       "15. 1291\n",
       "16. 1433\n",
       "17. 1444\n",
       "18. 1496\n",
       "19. 1807\n",
       "20. 1872\n",
       "21. 2201\n",
       "22. 2284\n",
       "23. 2369\n",
       "24. 2415\n",
       "25. 2443\n",
       "26. 3956\n",
       "\n",
       "\n"
      ],
      "text/plain": [
       " [1]  839  840  841  842  843  844  845  847  848  849  851  855  939  975 1291\n",
       "[16] 1433 1444 1496 1807 1872 2201 2284 2369 2415 2443 3956"
      ]
     },
     "metadata": {},
     "output_type": "display_data"
    }
   ],
   "source": [
    "which(res_inf != 0)"
   ]
  },
  {
   "cell_type": "code",
   "execution_count": 30,
   "metadata": {},
   "outputs": [
    {
     "data": {
      "text/html": [
       "<table>\n",
       "<caption>A matrix: 26 × 49 of type dbl</caption>\n",
       "<tbody>\n",
       "\t<tr><td>   0</td><td>-Inf</td><td> Inf</td><td> Inf</td><td> Inf</td><td>-Inf</td><td>   0</td><td>   0</td><td>   0</td><td> Inf</td><td>⋯</td><td>   0</td><td>-Inf</td><td>Inf</td><td>   0</td><td>-Inf</td><td>   0</td><td> Inf</td><td> Inf</td><td> Inf</td><td>   0</td></tr>\n",
       "\t<tr><td> Inf</td><td> Inf</td><td>-Inf</td><td>-Inf</td><td>-Inf</td><td> Inf</td><td> Inf</td><td>   0</td><td>-Inf</td><td>-Inf</td><td>⋯</td><td>   0</td><td> Inf</td><td>Inf</td><td> Inf</td><td>-Inf</td><td>   0</td><td>-Inf</td><td>-Inf</td><td>-Inf</td><td>-Inf</td></tr>\n",
       "\t<tr><td> Inf</td><td>   0</td><td>   0</td><td>   0</td><td>   0</td><td>   0</td><td> Inf</td><td> Inf</td><td>-Inf</td><td>-Inf</td><td>⋯</td><td>   0</td><td>   0</td><td>Inf</td><td> Inf</td><td>-Inf</td><td> Inf</td><td>   0</td><td>   0</td><td>   0</td><td>-Inf</td></tr>\n",
       "\t<tr><td>   0</td><td>   0</td><td>   0</td><td>   0</td><td>   0</td><td>   0</td><td>   0</td><td>-Inf</td><td>   0</td><td>   0</td><td>⋯</td><td>   0</td><td>   0</td><td>  0</td><td>   0</td><td>   0</td><td>-Inf</td><td>   0</td><td>   0</td><td>   0</td><td>   0</td></tr>\n",
       "\t<tr><td> Inf</td><td>   0</td><td>   0</td><td>   0</td><td>   0</td><td>   0</td><td> Inf</td><td>   0</td><td>-Inf</td><td>   0</td><td>⋯</td><td> Inf</td><td>   0</td><td>Inf</td><td> Inf</td><td>-Inf</td><td>   0</td><td>   0</td><td>   0</td><td>   0</td><td>-Inf</td></tr>\n",
       "\t<tr><td>   0</td><td>   0</td><td>   0</td><td>   0</td><td>   0</td><td>   0</td><td>   0</td><td>   0</td><td>   0</td><td>   0</td><td>⋯</td><td> Inf</td><td>   0</td><td>  0</td><td>   0</td><td>   0</td><td>   0</td><td>   0</td><td>   0</td><td> Inf</td><td>   0</td></tr>\n",
       "\t<tr><td>   0</td><td>   0</td><td>   0</td><td>   0</td><td>   0</td><td>   0</td><td>   0</td><td>   0</td><td>   0</td><td>   0</td><td>⋯</td><td> Inf</td><td>   0</td><td>  0</td><td>   0</td><td>   0</td><td>   0</td><td>   0</td><td>   0</td><td>   0</td><td>   0</td></tr>\n",
       "\t<tr><td> Inf</td><td>   0</td><td>   0</td><td>   0</td><td>   0</td><td>   0</td><td>   0</td><td>   0</td><td>   0</td><td>   0</td><td>⋯</td><td>   0</td><td>   0</td><td>  0</td><td> Inf</td><td>-Inf</td><td>   0</td><td>   0</td><td> Inf</td><td> Inf</td><td>-Inf</td></tr>\n",
       "\t<tr><td>-Inf</td><td>-Inf</td><td> Inf</td><td>   0</td><td> Inf</td><td>-Inf</td><td>-Inf</td><td>   0</td><td> Inf</td><td>   0</td><td>⋯</td><td>-Inf</td><td>-Inf</td><td>  0</td><td>-Inf</td><td>   0</td><td>   0</td><td> Inf</td><td>   0</td><td>   0</td><td> Inf</td></tr>\n",
       "\t<tr><td>   0</td><td>   0</td><td>   0</td><td>   0</td><td>   0</td><td>   0</td><td>   0</td><td>   0</td><td>   0</td><td>   0</td><td>⋯</td><td>   0</td><td>   0</td><td>  0</td><td>   0</td><td>   0</td><td>   0</td><td>   0</td><td>   0</td><td>   0</td><td>   0</td></tr>\n",
       "\t<tr><td> NaN</td><td> NaN</td><td> NaN</td><td> NaN</td><td> NaN</td><td> NaN</td><td> NaN</td><td> NaN</td><td> NaN</td><td> NaN</td><td>⋯</td><td> NaN</td><td> NaN</td><td>NaN</td><td> NaN</td><td> NaN</td><td> NaN</td><td> NaN</td><td> NaN</td><td> NaN</td><td> NaN</td></tr>\n",
       "\t<tr><td>   0</td><td>   0</td><td>   0</td><td>   0</td><td>   0</td><td>   0</td><td>   0</td><td>   0</td><td>   0</td><td>   0</td><td>⋯</td><td>   0</td><td>   0</td><td>  0</td><td>   0</td><td>   0</td><td>   0</td><td>   0</td><td>   0</td><td>   0</td><td>   0</td></tr>\n",
       "\t<tr><td>   0</td><td>   0</td><td>   0</td><td>   0</td><td>   0</td><td>   0</td><td>   0</td><td>   0</td><td>   0</td><td>   0</td><td>⋯</td><td>   0</td><td>   0</td><td>  0</td><td>   0</td><td>   0</td><td>   0</td><td>   0</td><td>   0</td><td>   0</td><td>   0</td></tr>\n",
       "\t<tr><td>   0</td><td>   0</td><td>   0</td><td>   0</td><td>   0</td><td>   0</td><td>   0</td><td>   0</td><td>   0</td><td>   0</td><td>⋯</td><td>   0</td><td>   0</td><td>  0</td><td>   0</td><td>   0</td><td>   0</td><td>   0</td><td>   0</td><td>   0</td><td>   0</td></tr>\n",
       "\t<tr><td>   0</td><td>   0</td><td>   0</td><td>   0</td><td>   0</td><td>   0</td><td>   0</td><td>   0</td><td>   0</td><td>   0</td><td>⋯</td><td>   0</td><td>   0</td><td>  0</td><td>   0</td><td>   0</td><td>   0</td><td>   0</td><td>   0</td><td>   0</td><td>   0</td></tr>\n",
       "\t<tr><td>   0</td><td>   0</td><td>   0</td><td>   0</td><td>   0</td><td>   0</td><td>   0</td><td>   0</td><td>   0</td><td>   0</td><td>⋯</td><td>   0</td><td>   0</td><td>  0</td><td>   0</td><td>   0</td><td>   0</td><td>   0</td><td>   0</td><td>   0</td><td>   0</td></tr>\n",
       "\t<tr><td>   0</td><td>   0</td><td>   0</td><td>   0</td><td>   0</td><td>   0</td><td>   0</td><td>   0</td><td>   0</td><td>   0</td><td>⋯</td><td>   0</td><td>   0</td><td>  0</td><td>   0</td><td>   0</td><td>   0</td><td>   0</td><td>   0</td><td>   0</td><td>   0</td></tr>\n",
       "\t<tr><td>   0</td><td>   0</td><td>   0</td><td>   0</td><td>   0</td><td>   0</td><td>   0</td><td>   0</td><td>   0</td><td>   0</td><td>⋯</td><td>   0</td><td>   0</td><td>  0</td><td>   0</td><td>   0</td><td>   0</td><td>   0</td><td>   0</td><td>   0</td><td>   0</td></tr>\n",
       "\t<tr><td>   0</td><td>   0</td><td>   0</td><td>   0</td><td>   0</td><td>   0</td><td>   0</td><td>   0</td><td>   0</td><td>   0</td><td>⋯</td><td>   0</td><td>   0</td><td>  0</td><td>   0</td><td>   0</td><td>   0</td><td>   0</td><td>   0</td><td>   0</td><td>   0</td></tr>\n",
       "\t<tr><td>   0</td><td>   0</td><td>   0</td><td>   0</td><td>   0</td><td>   0</td><td>   0</td><td>   0</td><td>   0</td><td>   0</td><td>⋯</td><td>   0</td><td>   0</td><td>  0</td><td>   0</td><td>   0</td><td>   0</td><td>   0</td><td>   0</td><td>   0</td><td>   0</td></tr>\n",
       "\t<tr><td>   0</td><td>   0</td><td>   0</td><td>   0</td><td>   0</td><td>   0</td><td>   0</td><td>   0</td><td>   0</td><td>   0</td><td>⋯</td><td>   0</td><td>   0</td><td>  0</td><td>   0</td><td>   0</td><td>   0</td><td>   0</td><td>   0</td><td>   0</td><td>   0</td></tr>\n",
       "\t<tr><td>   0</td><td>   0</td><td>   0</td><td>   0</td><td>   0</td><td>   0</td><td>   0</td><td>   0</td><td>   0</td><td>   0</td><td>⋯</td><td>   0</td><td>   0</td><td>  0</td><td>   0</td><td>   0</td><td>   0</td><td>   0</td><td>   0</td><td>   0</td><td>   0</td></tr>\n",
       "\t<tr><td>   0</td><td>   0</td><td>   0</td><td>   0</td><td>   0</td><td>   0</td><td>   0</td><td>   0</td><td>   0</td><td>   0</td><td>⋯</td><td>   0</td><td>   0</td><td>  0</td><td>   0</td><td>   0</td><td>   0</td><td>   0</td><td>   0</td><td>   0</td><td>   0</td></tr>\n",
       "\t<tr><td>   0</td><td>   0</td><td>   0</td><td>   0</td><td>   0</td><td>   0</td><td>   0</td><td>   0</td><td>   0</td><td>   0</td><td>⋯</td><td>   0</td><td>   0</td><td>  0</td><td>   0</td><td>   0</td><td>   0</td><td>   0</td><td>   0</td><td>   0</td><td>   0</td></tr>\n",
       "\t<tr><td>   0</td><td>   0</td><td>   0</td><td>   0</td><td>   0</td><td>   0</td><td>   0</td><td>   0</td><td>   0</td><td>   0</td><td>⋯</td><td>   0</td><td>   0</td><td>  0</td><td>   0</td><td>   0</td><td>   0</td><td>   0</td><td>   0</td><td>   0</td><td>   0</td></tr>\n",
       "\t<tr><td>   0</td><td>   0</td><td>   0</td><td>   0</td><td>   0</td><td>   0</td><td>   0</td><td>   0</td><td>   0</td><td>   0</td><td>⋯</td><td>   0</td><td>   0</td><td>  0</td><td>   0</td><td>   0</td><td>   0</td><td>   0</td><td>   0</td><td>   0</td><td>   0</td></tr>\n",
       "</tbody>\n",
       "</table>\n"
      ],
      "text/latex": [
       "A matrix: 26 × 49 of type dbl\n",
       "\\begin{tabular}{lllllllllllllllllllll}\n",
       "\t    0 & -Inf &  Inf &  Inf &  Inf & -Inf &    0 &    0 &    0 &  Inf & ⋯ &    0 & -Inf & Inf &    0 & -Inf &    0 &  Inf &  Inf &  Inf &    0\\\\\n",
       "\t  Inf &  Inf & -Inf & -Inf & -Inf &  Inf &  Inf &    0 & -Inf & -Inf & ⋯ &    0 &  Inf & Inf &  Inf & -Inf &    0 & -Inf & -Inf & -Inf & -Inf\\\\\n",
       "\t  Inf &    0 &    0 &    0 &    0 &    0 &  Inf &  Inf & -Inf & -Inf & ⋯ &    0 &    0 & Inf &  Inf & -Inf &  Inf &    0 &    0 &    0 & -Inf\\\\\n",
       "\t    0 &    0 &    0 &    0 &    0 &    0 &    0 & -Inf &    0 &    0 & ⋯ &    0 &    0 &   0 &    0 &    0 & -Inf &    0 &    0 &    0 &    0\\\\\n",
       "\t  Inf &    0 &    0 &    0 &    0 &    0 &  Inf &    0 & -Inf &    0 & ⋯ &  Inf &    0 & Inf &  Inf & -Inf &    0 &    0 &    0 &    0 & -Inf\\\\\n",
       "\t    0 &    0 &    0 &    0 &    0 &    0 &    0 &    0 &    0 &    0 & ⋯ &  Inf &    0 &   0 &    0 &    0 &    0 &    0 &    0 &  Inf &    0\\\\\n",
       "\t    0 &    0 &    0 &    0 &    0 &    0 &    0 &    0 &    0 &    0 & ⋯ &  Inf &    0 &   0 &    0 &    0 &    0 &    0 &    0 &    0 &    0\\\\\n",
       "\t  Inf &    0 &    0 &    0 &    0 &    0 &    0 &    0 &    0 &    0 & ⋯ &    0 &    0 &   0 &  Inf & -Inf &    0 &    0 &  Inf &  Inf & -Inf\\\\\n",
       "\t -Inf & -Inf &  Inf &    0 &  Inf & -Inf & -Inf &    0 &  Inf &    0 & ⋯ & -Inf & -Inf &   0 & -Inf &    0 &    0 &  Inf &    0 &    0 &  Inf\\\\\n",
       "\t    0 &    0 &    0 &    0 &    0 &    0 &    0 &    0 &    0 &    0 & ⋯ &    0 &    0 &   0 &    0 &    0 &    0 &    0 &    0 &    0 &    0\\\\\n",
       "\t  NaN &  NaN &  NaN &  NaN &  NaN &  NaN &  NaN &  NaN &  NaN &  NaN & ⋯ &  NaN &  NaN & NaN &  NaN &  NaN &  NaN &  NaN &  NaN &  NaN &  NaN\\\\\n",
       "\t    0 &    0 &    0 &    0 &    0 &    0 &    0 &    0 &    0 &    0 & ⋯ &    0 &    0 &   0 &    0 &    0 &    0 &    0 &    0 &    0 &    0\\\\\n",
       "\t    0 &    0 &    0 &    0 &    0 &    0 &    0 &    0 &    0 &    0 & ⋯ &    0 &    0 &   0 &    0 &    0 &    0 &    0 &    0 &    0 &    0\\\\\n",
       "\t    0 &    0 &    0 &    0 &    0 &    0 &    0 &    0 &    0 &    0 & ⋯ &    0 &    0 &   0 &    0 &    0 &    0 &    0 &    0 &    0 &    0\\\\\n",
       "\t    0 &    0 &    0 &    0 &    0 &    0 &    0 &    0 &    0 &    0 & ⋯ &    0 &    0 &   0 &    0 &    0 &    0 &    0 &    0 &    0 &    0\\\\\n",
       "\t    0 &    0 &    0 &    0 &    0 &    0 &    0 &    0 &    0 &    0 & ⋯ &    0 &    0 &   0 &    0 &    0 &    0 &    0 &    0 &    0 &    0\\\\\n",
       "\t    0 &    0 &    0 &    0 &    0 &    0 &    0 &    0 &    0 &    0 & ⋯ &    0 &    0 &   0 &    0 &    0 &    0 &    0 &    0 &    0 &    0\\\\\n",
       "\t    0 &    0 &    0 &    0 &    0 &    0 &    0 &    0 &    0 &    0 & ⋯ &    0 &    0 &   0 &    0 &    0 &    0 &    0 &    0 &    0 &    0\\\\\n",
       "\t    0 &    0 &    0 &    0 &    0 &    0 &    0 &    0 &    0 &    0 & ⋯ &    0 &    0 &   0 &    0 &    0 &    0 &    0 &    0 &    0 &    0\\\\\n",
       "\t    0 &    0 &    0 &    0 &    0 &    0 &    0 &    0 &    0 &    0 & ⋯ &    0 &    0 &   0 &    0 &    0 &    0 &    0 &    0 &    0 &    0\\\\\n",
       "\t    0 &    0 &    0 &    0 &    0 &    0 &    0 &    0 &    0 &    0 & ⋯ &    0 &    0 &   0 &    0 &    0 &    0 &    0 &    0 &    0 &    0\\\\\n",
       "\t    0 &    0 &    0 &    0 &    0 &    0 &    0 &    0 &    0 &    0 & ⋯ &    0 &    0 &   0 &    0 &    0 &    0 &    0 &    0 &    0 &    0\\\\\n",
       "\t    0 &    0 &    0 &    0 &    0 &    0 &    0 &    0 &    0 &    0 & ⋯ &    0 &    0 &   0 &    0 &    0 &    0 &    0 &    0 &    0 &    0\\\\\n",
       "\t    0 &    0 &    0 &    0 &    0 &    0 &    0 &    0 &    0 &    0 & ⋯ &    0 &    0 &   0 &    0 &    0 &    0 &    0 &    0 &    0 &    0\\\\\n",
       "\t    0 &    0 &    0 &    0 &    0 &    0 &    0 &    0 &    0 &    0 & ⋯ &    0 &    0 &   0 &    0 &    0 &    0 &    0 &    0 &    0 &    0\\\\\n",
       "\t    0 &    0 &    0 &    0 &    0 &    0 &    0 &    0 &    0 &    0 & ⋯ &    0 &    0 &   0 &    0 &    0 &    0 &    0 &    0 &    0 &    0\\\\\n",
       "\\end{tabular}\n"
      ],
      "text/markdown": [
       "\n",
       "A matrix: 26 × 49 of type dbl\n",
       "\n",
       "|    0 | -Inf |  Inf |  Inf |  Inf | -Inf |    0 |    0 |    0 |  Inf | ⋯ |    0 | -Inf | Inf |    0 | -Inf |    0 |  Inf |  Inf |  Inf |    0 |\n",
       "|  Inf |  Inf | -Inf | -Inf | -Inf |  Inf |  Inf |    0 | -Inf | -Inf | ⋯ |    0 |  Inf | Inf |  Inf | -Inf |    0 | -Inf | -Inf | -Inf | -Inf |\n",
       "|  Inf |    0 |    0 |    0 |    0 |    0 |  Inf |  Inf | -Inf | -Inf | ⋯ |    0 |    0 | Inf |  Inf | -Inf |  Inf |    0 |    0 |    0 | -Inf |\n",
       "|    0 |    0 |    0 |    0 |    0 |    0 |    0 | -Inf |    0 |    0 | ⋯ |    0 |    0 |   0 |    0 |    0 | -Inf |    0 |    0 |    0 |    0 |\n",
       "|  Inf |    0 |    0 |    0 |    0 |    0 |  Inf |    0 | -Inf |    0 | ⋯ |  Inf |    0 | Inf |  Inf | -Inf |    0 |    0 |    0 |    0 | -Inf |\n",
       "|    0 |    0 |    0 |    0 |    0 |    0 |    0 |    0 |    0 |    0 | ⋯ |  Inf |    0 |   0 |    0 |    0 |    0 |    0 |    0 |  Inf |    0 |\n",
       "|    0 |    0 |    0 |    0 |    0 |    0 |    0 |    0 |    0 |    0 | ⋯ |  Inf |    0 |   0 |    0 |    0 |    0 |    0 |    0 |    0 |    0 |\n",
       "|  Inf |    0 |    0 |    0 |    0 |    0 |    0 |    0 |    0 |    0 | ⋯ |    0 |    0 |   0 |  Inf | -Inf |    0 |    0 |  Inf |  Inf | -Inf |\n",
       "| -Inf | -Inf |  Inf |    0 |  Inf | -Inf | -Inf |    0 |  Inf |    0 | ⋯ | -Inf | -Inf |   0 | -Inf |    0 |    0 |  Inf |    0 |    0 |  Inf |\n",
       "|    0 |    0 |    0 |    0 |    0 |    0 |    0 |    0 |    0 |    0 | ⋯ |    0 |    0 |   0 |    0 |    0 |    0 |    0 |    0 |    0 |    0 |\n",
       "|  NaN |  NaN |  NaN |  NaN |  NaN |  NaN |  NaN |  NaN |  NaN |  NaN | ⋯ |  NaN |  NaN | NaN |  NaN |  NaN |  NaN |  NaN |  NaN |  NaN |  NaN |\n",
       "|    0 |    0 |    0 |    0 |    0 |    0 |    0 |    0 |    0 |    0 | ⋯ |    0 |    0 |   0 |    0 |    0 |    0 |    0 |    0 |    0 |    0 |\n",
       "|    0 |    0 |    0 |    0 |    0 |    0 |    0 |    0 |    0 |    0 | ⋯ |    0 |    0 |   0 |    0 |    0 |    0 |    0 |    0 |    0 |    0 |\n",
       "|    0 |    0 |    0 |    0 |    0 |    0 |    0 |    0 |    0 |    0 | ⋯ |    0 |    0 |   0 |    0 |    0 |    0 |    0 |    0 |    0 |    0 |\n",
       "|    0 |    0 |    0 |    0 |    0 |    0 |    0 |    0 |    0 |    0 | ⋯ |    0 |    0 |   0 |    0 |    0 |    0 |    0 |    0 |    0 |    0 |\n",
       "|    0 |    0 |    0 |    0 |    0 |    0 |    0 |    0 |    0 |    0 | ⋯ |    0 |    0 |   0 |    0 |    0 |    0 |    0 |    0 |    0 |    0 |\n",
       "|    0 |    0 |    0 |    0 |    0 |    0 |    0 |    0 |    0 |    0 | ⋯ |    0 |    0 |   0 |    0 |    0 |    0 |    0 |    0 |    0 |    0 |\n",
       "|    0 |    0 |    0 |    0 |    0 |    0 |    0 |    0 |    0 |    0 | ⋯ |    0 |    0 |   0 |    0 |    0 |    0 |    0 |    0 |    0 |    0 |\n",
       "|    0 |    0 |    0 |    0 |    0 |    0 |    0 |    0 |    0 |    0 | ⋯ |    0 |    0 |   0 |    0 |    0 |    0 |    0 |    0 |    0 |    0 |\n",
       "|    0 |    0 |    0 |    0 |    0 |    0 |    0 |    0 |    0 |    0 | ⋯ |    0 |    0 |   0 |    0 |    0 |    0 |    0 |    0 |    0 |    0 |\n",
       "|    0 |    0 |    0 |    0 |    0 |    0 |    0 |    0 |    0 |    0 | ⋯ |    0 |    0 |   0 |    0 |    0 |    0 |    0 |    0 |    0 |    0 |\n",
       "|    0 |    0 |    0 |    0 |    0 |    0 |    0 |    0 |    0 |    0 | ⋯ |    0 |    0 |   0 |    0 |    0 |    0 |    0 |    0 |    0 |    0 |\n",
       "|    0 |    0 |    0 |    0 |    0 |    0 |    0 |    0 |    0 |    0 | ⋯ |    0 |    0 |   0 |    0 |    0 |    0 |    0 |    0 |    0 |    0 |\n",
       "|    0 |    0 |    0 |    0 |    0 |    0 |    0 |    0 |    0 |    0 | ⋯ |    0 |    0 |   0 |    0 |    0 |    0 |    0 |    0 |    0 |    0 |\n",
       "|    0 |    0 |    0 |    0 |    0 |    0 |    0 |    0 |    0 |    0 | ⋯ |    0 |    0 |   0 |    0 |    0 |    0 |    0 |    0 |    0 |    0 |\n",
       "|    0 |    0 |    0 |    0 |    0 |    0 |    0 |    0 |    0 |    0 | ⋯ |    0 |    0 |   0 |    0 |    0 |    0 |    0 |    0 |    0 |    0 |\n",
       "\n"
      ],
      "text/plain": [
       "      [,1] [,2] [,3] [,4] [,5] [,6] [,7] [,8] [,9] [,10] [,11] [,12] [,13]\n",
       " [1,]    0 -Inf  Inf  Inf  Inf -Inf    0    0    0  Inf  ⋯        0  -Inf \n",
       " [2,]  Inf  Inf -Inf -Inf -Inf  Inf  Inf    0 -Inf -Inf  ⋯        0   Inf \n",
       " [3,]  Inf    0    0    0    0    0  Inf  Inf -Inf -Inf  ⋯        0     0 \n",
       " [4,]    0    0    0    0    0    0    0 -Inf    0    0  ⋯        0     0 \n",
       " [5,]  Inf    0    0    0    0    0  Inf    0 -Inf    0  ⋯      Inf     0 \n",
       " [6,]    0    0    0    0    0    0    0    0    0    0  ⋯      Inf     0 \n",
       " [7,]    0    0    0    0    0    0    0    0    0    0  ⋯      Inf     0 \n",
       " [8,]  Inf    0    0    0    0    0    0    0    0    0  ⋯        0     0 \n",
       " [9,] -Inf -Inf  Inf    0  Inf -Inf -Inf    0  Inf    0  ⋯     -Inf  -Inf \n",
       "[10,]    0    0    0    0    0    0    0    0    0    0  ⋯        0     0 \n",
       "[11,]  NaN  NaN  NaN  NaN  NaN  NaN  NaN  NaN  NaN  NaN  ⋯      NaN   NaN \n",
       "[12,]    0    0    0    0    0    0    0    0    0    0  ⋯        0     0 \n",
       "[13,]    0    0    0    0    0    0    0    0    0    0  ⋯        0     0 \n",
       "[14,]    0    0    0    0    0    0    0    0    0    0  ⋯        0     0 \n",
       "[15,]    0    0    0    0    0    0    0    0    0    0  ⋯        0     0 \n",
       "[16,]    0    0    0    0    0    0    0    0    0    0  ⋯        0     0 \n",
       "[17,]    0    0    0    0    0    0    0    0    0    0  ⋯        0     0 \n",
       "[18,]    0    0    0    0    0    0    0    0    0    0  ⋯        0     0 \n",
       "[19,]    0    0    0    0    0    0    0    0    0    0  ⋯        0     0 \n",
       "[20,]    0    0    0    0    0    0    0    0    0    0  ⋯        0     0 \n",
       "[21,]    0    0    0    0    0    0    0    0    0    0  ⋯        0     0 \n",
       "[22,]    0    0    0    0    0    0    0    0    0    0  ⋯        0     0 \n",
       "[23,]    0    0    0    0    0    0    0    0    0    0  ⋯        0     0 \n",
       "[24,]    0    0    0    0    0    0    0    0    0    0  ⋯        0     0 \n",
       "[25,]    0    0    0    0    0    0    0    0    0    0  ⋯        0     0 \n",
       "[26,]    0    0    0    0    0    0    0    0    0    0  ⋯        0     0 \n",
       "      [,14] [,15] [,16] [,17] [,18] [,19] [,20] [,21]\n",
       " [1,] Inf      0  -Inf     0   Inf   Inf   Inf     0 \n",
       " [2,] Inf    Inf  -Inf     0  -Inf  -Inf  -Inf  -Inf \n",
       " [3,] Inf    Inf  -Inf   Inf     0     0     0  -Inf \n",
       " [4,]   0      0     0  -Inf     0     0     0     0 \n",
       " [5,] Inf    Inf  -Inf     0     0     0     0  -Inf \n",
       " [6,]   0      0     0     0     0     0   Inf     0 \n",
       " [7,]   0      0     0     0     0     0     0     0 \n",
       " [8,]   0    Inf  -Inf     0     0   Inf   Inf  -Inf \n",
       " [9,]   0   -Inf     0     0   Inf     0     0   Inf \n",
       "[10,]   0      0     0     0     0     0     0     0 \n",
       "[11,] NaN    NaN   NaN   NaN   NaN   NaN   NaN   NaN \n",
       "[12,]   0      0     0     0     0     0     0     0 \n",
       "[13,]   0      0     0     0     0     0     0     0 \n",
       "[14,]   0      0     0     0     0     0     0     0 \n",
       "[15,]   0      0     0     0     0     0     0     0 \n",
       "[16,]   0      0     0     0     0     0     0     0 \n",
       "[17,]   0      0     0     0     0     0     0     0 \n",
       "[18,]   0      0     0     0     0     0     0     0 \n",
       "[19,]   0      0     0     0     0     0     0     0 \n",
       "[20,]   0      0     0     0     0     0     0     0 \n",
       "[21,]   0      0     0     0     0     0     0     0 \n",
       "[22,]   0      0     0     0     0     0     0     0 \n",
       "[23,]   0      0     0     0     0     0     0     0 \n",
       "[24,]   0      0     0     0     0     0     0     0 \n",
       "[25,]   0      0     0     0     0     0     0     0 \n",
       "[26,]   0      0     0     0     0     0     0     0 "
      ]
     },
     "metadata": {},
     "output_type": "display_data"
    }
   ],
   "source": [
    "single_est[which(res_inf != 0), ]"
   ]
  },
  {
   "cell_type": "code",
   "execution_count": null,
   "metadata": {},
   "outputs": [],
   "source": [
    "dim(X_train[[1]])\n",
    "sum(is.na(X_train[[1]]))"
   ]
  },
  {
   "cell_type": "code",
   "execution_count": null,
   "metadata": {},
   "outputs": [],
   "source": [
    "res_l <- lapply(X_train, function(x) sum(is.na(x)))"
   ]
  },
  {
   "cell_type": "code",
   "execution_count": null,
   "metadata": {},
   "outputs": [],
   "source": [
    "res_l"
   ]
  },
  {
   "cell_type": "code",
   "execution_count": null,
   "metadata": {},
   "outputs": [],
   "source": [
    "hist(X_train[[1]])"
   ]
  },
  {
   "cell_type": "code",
   "execution_count": null,
   "metadata": {},
   "outputs": [],
   "source": [
    "dim(XY)\n",
    "class(XY)"
   ]
  },
  {
   "cell_type": "code",
   "execution_count": null,
   "metadata": {},
   "outputs": [],
   "source": [
    "sum(is.na(XY))"
   ]
  },
  {
   "cell_type": "code",
   "execution_count": 48,
   "metadata": {},
   "outputs": [
    {
     "data": {
      "text/html": [
       "0"
      ],
      "text/latex": [
       "0"
      ],
      "text/markdown": [
       "0"
      ],
      "text/plain": [
       "[1] 0"
      ]
     },
     "metadata": {},
     "output_type": "display_data"
    },
    {
     "data": {
      "image/png": "[encoded data removed]",
      "text/plain": [
       "Plot with title “Histogram of XY[851, ]”"
      ]
     },
     "metadata": {
      "image/png": {
       "height": 420,
       "width": 420
      },
      "text/plain": {
       "height": 420,
       "width": 420
      }
     },
     "output_type": "display_data"
    }
   ],
   "source": [
    "hist(XY[851, ])\n",
    "sum(is.na(XY[851, ]))"
   ]
  },
  {
   "cell_type": "code",
   "execution_count": 47,
   "metadata": {},
   "outputs": [
    {
     "data": {
      "text/html": [
       "0"
      ],
      "text/latex": [
       "0"
      ],
      "text/markdown": [
       "0"
      ],
      "text/plain": [
       "[1] 0"
      ]
     },
     "metadata": {},
     "output_type": "display_data"
    },
    {
     "data": {
      "image/png": "[encoded data removed]",
      "text/plain": [
       "Plot with title “Histogram of XY[847, ]”"
      ]
     },
     "metadata": {
      "image/png": {
       "height": 420,
       "width": 420
      },
      "text/plain": {
       "height": 420,
       "width": 420
      }
     },
     "output_type": "display_data"
    }
   ],
   "source": [
    "hist(XY[847, ])\n",
    "sum(is.na(XY[847, ]))"
   ]
  },
  {
   "cell_type": "code",
   "execution_count": 46,
   "metadata": {},
   "outputs": [
    {
     "data": {
      "text/html": [
       "<style>\n",
       ".list-inline {list-style: none; margin:0; padding: 0}\n",
       ".list-inline>li {display: inline-block}\n",
       ".list-inline>li:not(:last-child)::after {content: \"\\00b7\"; padding: 0 .5ex}\n",
       "</style>\n",
       "<ol class=list-inline><li>6092</li><li>49</li></ol>\n"
      ],
      "text/latex": [
       "\\begin{enumerate*}\n",
       "\\item 6092\n",
       "\\item 49\n",
       "\\end{enumerate*}\n"
      ],
      "text/markdown": [
       "1. 6092\n",
       "2. 49\n",
       "\n",
       "\n"
      ],
      "text/plain": [
       "[1] 6092   49"
      ]
     },
     "metadata": {},
     "output_type": "display_data"
    }
   ],
   "source": [
    "dim(XY)"
   ]
  },
  {
   "cell_type": "code",
   "execution_count": 42,
   "metadata": {},
   "outputs": [
    {
     "data": {
      "text/html": [
       "0"
      ],
      "text/latex": [
       "0"
      ],
      "text/markdown": [
       "0"
      ],
      "text/plain": [
       "[1] 0"
      ]
     },
     "metadata": {},
     "output_type": "display_data"
    },
    {
     "data": {
      "image/png": "[encoded data removed]",
      "text/plain": [
       "Plot with title “Histogram of XY[848, ]”"
      ]
     },
     "metadata": {
      "image/png": {
       "height": 420,
       "width": 420
      },
      "text/plain": {
       "height": 420,
       "width": 420
      }
     },
     "output_type": "display_data"
    }
   ],
   "source": [
    "hist(XY[848, ])\n",
    "sum(is.na(XY[848, ]))"
   ]
  },
  {
   "cell_type": "code",
   "execution_count": 43,
   "metadata": {},
   "outputs": [
    {
     "data": {
      "image/png": "[encoded data removed]",
      "text/plain": [
       "Plot with title “Histogram of dose_std[847, ]”"
      ]
     },
     "metadata": {
      "image/png": {
       "height": 420,
       "width": 420
      },
      "text/plain": {
       "height": 420,
       "width": 420
      }
     },
     "output_type": "display_data"
    }
   ],
   "source": [
    "hist(dose_std[847, ])"
   ]
  },
  {
   "cell_type": "code",
   "execution_count": 44,
   "metadata": {},
   "outputs": [
    {
     "data": {
      "image/png": "[encoded data removed]",
      "text/plain": [
       "Plot with title “Histogram of dose[847, ]”"
      ]
     },
     "metadata": {
      "image/png": {
       "height": 420,
       "width": 420
      },
      "text/plain": {
       "height": 420,
       "width": 420
      }
     },
     "output_type": "display_data"
    }
   ],
   "source": [
    "hist(dose[847, ])"
   ]
  },
  {
   "cell_type": "code",
   "execution_count": 49,
   "metadata": {},
   "outputs": [
    {
     "data": {
      "image/png": "[encoded data removed]",
      "text/plain": [
       "Plot with title “Histogram of dose_std[851, ]”"
      ]
     },
     "metadata": {
      "image/png": {
       "height": 420,
       "width": 420
      },
      "text/plain": {
       "height": 420,
       "width": 420
      }
     },
     "output_type": "display_data"
    },
    {
     "data": {
      "image/png": "[encoded data removed]",
      "text/plain": [
       "Plot with title “Histogram of dose[851, ]”"
      ]
     },
     "metadata": {
      "image/png": {
       "height": 420,
       "width": 420
      },
      "text/plain": {
       "height": 420,
       "width": 420
      }
     },
     "output_type": "display_data"
    }
   ],
   "source": [
    "hist(dose_std[851, ])\n",
    "hist(dose[851, ])"
   ]
  },
  {
   "cell_type": "code",
   "execution_count": 50,
   "metadata": {},
   "outputs": [
    {
     "data": {
      "image/png": "[encoded data removed]",
      "text/plain": [
       "Plot with title “Histogram of dose_std[839, ]”"
      ]
     },
     "metadata": {
      "image/png": {
       "height": 420,
       "width": 420
      },
      "text/plain": {
       "height": 420,
       "width": 420
      }
     },
     "output_type": "display_data"
    },
    {
     "data": {
      "image/png": "[encoded data removed]",
      "text/plain": [
       "Plot with title “Histogram of dose[839, ]”"
      ]
     },
     "metadata": {
      "image/png": {
       "height": 420,
       "width": 420
      },
      "text/plain": {
       "height": 420,
       "width": 420
      }
     },
     "output_type": "display_data"
    }
   ],
   "source": [
    "hist(dose_std[839, ])\n",
    "hist(dose[839, ])"
   ]
  },
  {
   "cell_type": "code",
   "execution_count": 51,
   "metadata": {},
   "outputs": [
    {
     "data": {
      "image/png": "[encoded data removed]",
      "text/plain": [
       "Plot with title “Histogram of dose_std[840, ]”"
      ]
     },
     "metadata": {
      "image/png": {
       "height": 420,
       "width": 420
      },
      "text/plain": {
       "height": 420,
       "width": 420
      }
     },
     "output_type": "display_data"
    },
    {
     "data": {
      "image/png": "[encoded data removed]",
      "text/plain": [
       "Plot with title “Histogram of dose[840, ]”"
      ]
     },
     "metadata": {
      "image/png": {
       "height": 420,
       "width": 420
      },
      "text/plain": {
       "height": 420,
       "width": 420
      }
     },
     "output_type": "display_data"
    }
   ],
   "source": [
    "hist(dose_std[840, ])\n",
    "hist(dose[840, ])"
   ]
  },
  {
   "cell_type": "code",
   "execution_count": 52,
   "metadata": {},
   "outputs": [
    {
     "data": {
      "image/png": "[encoded data removed]",
      "text/plain": [
       "Plot with title “Histogram of dose_std[899, ]”"
      ]
     },
     "metadata": {
      "image/png": {
       "height": 420,
       "width": 420
      },
      "text/plain": {
       "height": 420,
       "width": 420
      }
     },
     "output_type": "display_data"
    },
    {
     "data": {
      "image/png": "[encoded data removed]",
      "text/plain": [
       "Plot with title “Histogram of dose[899, ]”"
      ]
     },
     "metadata": {
      "image/png": {
       "height": 420,
       "width": 420
      },
      "text/plain": {
       "height": 420,
       "width": 420
      }
     },
     "output_type": "display_data"
    }
   ],
   "source": [
    "hist(dose_std[899, ])\n",
    "hist(dose[899, ])"
   ]
  },
  {
   "cell_type": "code",
   "execution_count": 45,
   "metadata": {},
   "outputs": [
    {
     "data": {
      "image/png": "[encoded data removed]",
      "text/plain": [
       "Plot with title “Histogram of dose_std[848, ]”"
      ]
     },
     "metadata": {
      "image/png": {
       "height": 420,
       "width": 420
      },
      "text/plain": {
       "height": 420,
       "width": 420
      }
     },
     "output_type": "display_data"
    }
   ],
   "source": [
    "hist(dose_std[848, ])"
   ]
  },
  {
   "cell_type": "code",
   "execution_count": null,
   "metadata": {},
   "outputs": [],
   "source": [
    "dim(XX_train[[1]])"
   ]
  },
  {
   "cell_type": "code",
   "execution_count": null,
   "metadata": {},
   "outputs": [],
   "source": [
    "hist(XX_train[[1]][848, ])"
   ]
  },
  {
   "cell_type": "code",
   "execution_count": null,
   "metadata": {},
   "outputs": [],
   "source": [
    "length(dose_std[, 848])"
   ]
  },
  {
   "cell_type": "code",
   "execution_count": null,
   "metadata": {},
   "outputs": [],
   "source": [
    "dim(dose_std)"
   ]
  },
  {
   "cell_type": "code",
   "execution_count": null,
   "metadata": {},
   "outputs": [],
   "source": [
    "hist(dose_std[848, ])"
   ]
  },
  {
   "cell_type": "code",
   "execution_count": null,
   "metadata": {},
   "outputs": [],
   "source": [
    "dim(single_est[,idx])\n",
    "dim(dose_std[,idx])"
   ]
  },
  {
   "cell_type": "code",
   "execution_count": null,
   "metadata": {},
   "outputs": [],
   "source": [
    "idx = res_na[1]\n",
    "t(single_est[, idx]) %*% dose_std[, idx]"
   ]
  },
  {
   "cell_type": "code",
   "execution_count": null,
   "metadata": {},
   "outputs": [],
   "source": [
    "XX_train[[1]][848, ] %*% single_est[848, ]"
   ]
  },
  {
   "cell_type": "code",
   "execution_count": null,
   "metadata": {},
   "outputs": [],
   "source": [
    "head(single_est)"
   ]
  },
  {
   "cell_type": "code",
   "execution_count": null,
   "metadata": {},
   "outputs": [],
   "source": [
    "dim(beta_j_lasso[[1]])"
   ]
  },
  {
   "cell_type": "code",
   "execution_count": null,
   "metadata": {},
   "outputs": [],
   "source": []
  },
  {
   "cell_type": "code",
   "execution_count": null,
   "metadata": {},
   "outputs": [],
   "source": []
  },
  {
   "cell_type": "code",
   "execution_count": null,
   "metadata": {},
   "outputs": [],
   "source": [
    "#gene_id = gene_vec\n",
    "#if(P){\n",
    "\t\n",
    "\t\n",
    "\t## genotype files ##\n",
    "\t#dose = read.table(dose_path, header=F)\n",
    "    genotype_info <- read_plink(dose_path)\n",
    "    dose = genotype_info$X\n",
    "    dose_std = dose\n",
    "\tfor(j in 1:nrow(dose)){\n",
    "\t\tdose_std[j, is.na(dose[j, ])] <- mean(dose[j, ], na.rm = T)\n",
    "        dose_std[j, ] <- dose_std[j, ] - mean(dose[j, ], na.rm = T)\n",
    "\t}\n",
    "\tprint(\"INFO: section A\")\n",
    "\t## covariance matrix ##\n",
    "    n_sample = ncol(dose_std)\n",
    "\ttmp = as.matrix(dose_std)\n",
    "\tXX = t(tmp)%*%as.matrix(tmp)/n_sample\n",
    "\tXnorm = diag(XX)\n",
    "\tremove(tmp)\n",
    "    remove(XX)\n",
    "\tsub_id = colnames(dose_std)\n",
    "\tM = nrow(dose_std)\n",
    "\tsub_id_map = list()\n",
    "    sub_id_map_exp = list()\n",
    "\tfor(t in 1:T_num){\n",
    "    #for(t in 1:1){\n",
    "\t\t#tmp = rep(0, nrow(Y[[t]]))\n",
    "        exp_id <- as.character(sapply(Y[[t]][,1], function(x) substr(x, 1, 10)))\n",
    "        #print(head(exp_id))\n",
    "        # index of ids that have matched genotypes \n",
    "        # exp_id based on order of exp_id\n",
    "        match_id <- match(exp_id, sub_id)\n",
    "\t\tsub_id_map[[t]] <- na.omit(match_id)\n",
    "        sub_id_map_exp[[t]] <- !is.na(match_id)                           \n",
    "        #for(j in 1:length(tmp)){\n",
    "            # extract the id starting GTEX-xxxxx\n",
    "            \n",
    "\t\t\t#tmp[j] = which(sub_id==exp_id)\n",
    "\t\t#}\n",
    "\t\t#sub_id_map[[t]] = tmp\n",
    "\t}\n",
    "\t\n",
    "\tfold = 5\n",
    "\tprint(\"INFO: section B\")\n",
    "\tcv_config = cv_helper(n_sample, fold)\n",
    "\tcv_perm = cv_config$perm\n",
    "\tcv_idx = cv_config$idx\n",
    "\t\n",
    "\tsingle_res_test = list()\n",
    "\tsingle_lam = matrix(0,5,P)\n",
    "\tsingle_theta_est = list()\n",
    "\t\n",
    "\tmulti_res_test = list()\n",
    "\tmulti_lam = rep(0,5)\n",
    "\tmulti_theta_est = list()\n",
    "\t\n",
    "\tfor(f in 1:fold){\n",
    "        # one fold \n",
    "\t\tbgt = Sys.time()\n",
    "        print(paste0(\"INFO: fold \", f))\n",
    "\t\ttest_index = cv_perm[cv_idx[f,1]:cv_idx[f,2]]\n",
    "\t\ttest_id = sub_id[test_index]\n",
    "        \n",
    "        # move the tuning idx to another idx block\n",
    "\t\ttuning_index = cv_perm[cv_idx[f%%fold+1,1]:cv_idx[f%%fold+1,2]]\n",
    "\t\ttuning_id = sub_id[tuning_index]\n",
    "        \n",
    "        # idx list\n",
    "\t\tX_test = list()\n",
    "\t\tY_test = list()\n",
    "\t\tX_tune = list()\n",
    "\t\tY_tune = list()\n",
    "\t\tX_train = list()\n",
    "\t\tY_train = list()\n",
    "\t\tfor(t in 1:T_num){\n",
    "            # idx matching  \n",
    "            id_filter = !(sub_id_map[[t]]%in%c(test_index,tuning_index))\n",
    "            X_train_tmp = sub_id_map[[t]][id_filter]\n",
    "\t\t\tY_train_tmp = sub_id_map_exp[[t]][id_filter]\n",
    "            tuning_id_filter = sub_id_map[[t]]%in%tuning_index\n",
    "\t\t\tX_tuning_tmp = sub_id_map[[t]][tuning_id_filter]\n",
    "\t\t\tY_tuning_tmp = sub_id_map_exp[[t]][tuning_id_filter]\n",
    "            testing_id_filter = sub_id_map[[t]]%in%testing_index\n",
    "\t\t\tX_test_tmp = sub_id_map[[t]][testing_id_filter]\n",
    "\t\t\tY_test_tmp = sub_id_map_exp[[t]][testing_id_filter]\n",
    "            # training data\n",
    "\t\t\tX_train[[t]] = apply(as.matrix(dose_std[,X_train_tmp]),1,as.numeric)\n",
    "\t\t\tY_train[[t]] = Y[[t]]][Y_train_tmp, 2]\n",
    "\t\t\tX_tune[[t]] = apply(as.matrix(dose_std[,X_tuning_tmp]),1,as.numeric)\n",
    "\t\t\tY_tune[[t]] = Y[[t]][Y_tuning_tmp, 2]\n",
    "\t\t\tX_test[[t]] = apply(as.matrix(dose_std[,X_test_tmp]),1,as.numeric)\n",
    "\t\t\tY_test[[t]] = Y[[t]][Y_test_tmp, 2]\n",
    "\t\t}\n",
    "\t\t\n",
    "\t\t## model training ##\t\n",
    "\t\t## train elastic net and used average lambda as tuning parameters ##\n",
    "\t\tsingle_initial_est = matrix(0, ncol(X_train[[1]]), T_num)\n",
    "\t\tsingle_summary = list()\n",
    "\t\tfor(t in 1:T_num){\n",
    "            #print(Y_train[[t]])\n",
    "            #print(sum(is.na(X_train[[t]])))\n",
    "\t\t\ttt = cv.glmnet(X_train[[t]], Y_train[[t]], alpha = 0.5, nfolds = 5)\n",
    "\t\t\tsingle_summary[[t]] = tt\n",
    "\t\t\tsingle_initial_est[,t] = tt$glmnet.fit$beta[,which.min(tt$cvm)]\n",
    "\t\t}\n",
    "\t\t## performance of Elastic net on tuning and testing data with various tuning parameters\n",
    "\t\tels_output = elastic_net_mse(single_summary, X_tune, Y_tune, X_test, Y_test)\n",
    "\t\tsingle_res_test[[f]] = els_output$mse\n",
    "\t\tsingle_lam[f,] = els_output$lam\n",
    "\t\tsingle_theta_est[[f]] = els_output$est\n",
    "\t\tremove(els_output)\n",
    "\t\t\n",
    "\t\tinitial_numeric = as.numeric(single_initial_est)\n",
    "\t\tlam_range = minmax_lambda(single_summary)\n",
    "\t\tlam_V = seq(lam_range[1], lam_range[2], length.out = ntune)\n",
    "\t\tremove(single_summary); \n",
    "        remove(single_initial_est);\n",
    "\t\n",
    "\t\t## preparation\n",
    "\t\tXY = grad_prep(X_train, Y_train)\n",
    "#\t\tbgt = Sys.time()\n",
    "\t\tXX_train = lapply(X_train, function(x){t(x)%*%x/nrow(x)})\n",
    "#\t\tedt = Sys.time()\n",
    "#\t\tprint(edt-bgt)\n",
    "\t\n",
    "\t\t\n",
    "\t\tres_tune = rep(0, ntune)\n",
    "\t\tbest.lam = 0\n",
    "\t\n",
    "#\t\tbgt = Sys.time()\n",
    "\t\tfor(lam in 1:ntune){\n",
    "\t\t\tsingle_est = matrix(initial_numeric, M, P)\n",
    "\t\t\tans = glasso(X=X_train, Y=Y_train, X1=X_tune, Y1=Y_tune, XX=XX_train, XY=XY, Xnorm=Xnorm, lambda1=lam_V[lam], lambda2=lam_V[lam], theta=single_est)\n",
    "\t\t\tres_tune[lam] = ans$tune_err\n",
    "\t\t\tremove(single_est); remove(ans);\n",
    "\t\t}\n",
    "#\t\tedt = Sys.time()\n",
    "#\t\tprint(edt-bgt)\n",
    "\n",
    "\t\tbest.lam = lam_V[which.min(res_tune)]\n",
    "\t\tsingle_est = matrix(initial_numeric, M, P)\n",
    "\t\tans = glasso(X=X_train, Y=Y_train, X1=X_tune, Y1=Y_tune, XX=XX_train, XY=XY, Xnorm=Xnorm, lambda1=best.lam, lambda2=best.lam, theta=single_est)\n",
    "\t\tmulti_res_test[[f]] = multi_mse(ans$est, X_test, Y_test)\n",
    "\t\tmulti_lam[f] = best.lam\n",
    "\t\tmulti_theta_est[[f]] = ans$est\n",
    "\t\tremove(single_est)\n",
    "        remove(ans)\n",
    "\t\tedt = Sys.time()\n",
    "\t\tprint(edt-bgt)\n",
    "\t}\n",
    "    print(\"INFO: section C\")\n",
    "\tsave(single_res_test, single_lam, single_theta_est, multi_res_test, multi_lam, multi_theta_est, file = paste0('chr', chr, '.', k, '.', gene_id, \".RData\"))\n",
    "\t\n",
    "    # evaluation                                  \n",
    "    res_single = avg_perm(single_res_test)\n",
    "\tres_multi = avg_perm(multi_res_test)\n",
    "\tcat(\"Elastic net average testing error (all): \", apply(res_single, 2, mean), '\\n')\n",
    "    cat(\"glasso averge testing error (all): \", apply(res_multi, 2, mean), '\\n')\n",
    "\tcat(\"Number of all zero tissues in elastic net is \", sum(is.na(res_single[,1])), '\\n')\n",
    "\tcat(\"Number of all zero tissues in glasso is \", sum(is.na(res_multi[,1])), '\\n')\n",
    "\t#cat(\"Elastic net average testing error (non-zero): \", apply(res_single[!is.na(res_multi[,1]),], 2, mean), '\\n')\n",
    "\t#cat(\"glasso averge testing error (non-zero): \", apply(res_multi[!is.na(res_multi[,1]),], 2, mean), '\\n')\n",
    "\n",
    "\t## generate an estimate with whole data ##\n",
    "\tX_all = list()\n",
    "\tY_all = list()\n",
    "\tfor(t in 1:T_num){\n",
    "\t\tX_all_tmp = sub_id_map[[t]]\n",
    "\t\tX_all[[t]] = apply(as.matrix(dose[X_all_tmp, ]), 2, as.numeric)\n",
    "\t\tY_all[[t]] = Y[[t]][,2]\n",
    "\t}\n",
    "\t# initial values \n",
    "\tsingle_initial_est = matrix(0, ncol(X_train[[1]]), T_num)\n",
    "\tfor(t in 1:T_num){\n",
    "\t\ttt = cv.glmnet(X_all[[t]], Y_all[[t]], alpha = 0.5, nfolds = 5)\n",
    "\t\tsingle_initial_est[,t] = tt$glmnet.fit$beta[,which.min(tt$cvm)]\n",
    "\t}\n",
    "\tinitial_numeric = as.numeric(single_initial_est)\n",
    "\tremove(single_initial_est)\n",
    "\tXY = grad_prep(X_all, Y_all)\n",
    "\tXX_all = lapply(X_all, function(x){t(x)%*%x/nrow(x)})\n",
    "\ttmp_res = rep(0, fold)\n",
    "\tfor(f in 1:fold){\n",
    "\t\tans = glasso_no_early_stopping(X=X_all, Y=Y_all, XX=XX_all, XY=XY, Xnorm=Xnorm, lambda1=multi_lam[f], lambda2=multi_lam[f], theta=matrix(initial_numeric,M,P))\n",
    "\t\ttmp_res[f] = ans$train_err\n",
    "\t}\n",
    "\tans = glasso_no_early_stopping(X=X_all, Y=Y_all, XX=XX_all, XY=XY, Xnorm=Xnorm, lambda1=multi_lam[which.min(tmp_res)], lambda2=multi_lam[which.min(tmp_res)], theta=matrix(initial_numeric,M,P))\n",
    "\t# id ref alt\n",
    "    info = genotype$bim[, c(2,5,6)] \n",
    "\tdownstream_est = data.frame(info[,1:3], ans$est)\n",
    "    \n",
    "\twrite.table(downstream_est, paste0(gene_id, \".est\"), quote=F, row.names=F, col.names=c(\"SNP\", \"REF.0.\", \"ALT.1.\", Yt))\n",
    "#}"
   ]
  },
  {
   "cell_type": "markdown",
   "metadata": {},
   "source": [
    "### Preparation"
   ]
  },
  {
   "cell_type": "code",
   "execution_count": null,
   "metadata": {},
   "outputs": [],
   "source": [
    "# prepa\n",
    "dir.create(paste0(output_dir, \"chr\", chr), showWarnings = FALSE)\n",
    "dir.create(paste0(output_dir, \"chr\", chr, \"/\", gene_id), showWarnings = FALSE)\n",
    "setwd(paste0(output_dir, \"chr\", chr, \"/\", gene_id))\n",
    "## expr files ##\n",
    "Y = list()\n",
    "for(t in 1:P){\n",
    "    Y[[t]] = read.table(paste0(gtex_dir, \"adjusted_expr1/chr\", chr, \"/\", g, \"/\", Yt[t]), header=F)\n",
    "}\n",
    "ssize = unlist(lapply(Y, nrow))\n",
    "T_num = length(Yt)\n",
    "\n",
    "## genotype files ##\n",
    "#dose = read.table(dose_path, header=F)\n",
    "genotype_info <- read_plink(dose_path)\n",
    "dose = genotype_info$X\n",
    "dose_std = dose\n",
    "for(j in 1:nrow(dose)){\n",
    "    dose_std[j, is.na(dose[j, ])] <- mean(dose[j, ], na.rm = T)\n",
    "    dose_std[j, ] <- dose_std[j, ] - mean(dose[j, ], na.rm = T)\n",
    "}\n",
    "print(\"INFO: section A\")\n",
    "## covariance matrix ##\n",
    "n_sample = ncol(dose_std)\n",
    "tmp = as.matrix(dose_std)\n",
    "XX = t(tmp)%*%as.matrix(tmp)/n_sample\n",
    "Xnorm = diag(XX)\n",
    "remove(tmp)\n",
    "remove(XX)\n",
    "sub_id = colnames(dose_std)\n",
    "M = nrow(dose_std)\n",
    "sub_id_map = list()\n",
    "sub_id_map_genotype = list()\n",
    "for(t in 1:T_num){\n",
    "#for(t in 1:1){\n",
    "    #tmp = rep(0, nrow(Y[[t]]))\n",
    "    exp_id <- as.character(sapply(Y[[t]][,1], function(x) substr(x, 1, 10)))\n",
    "    #print(head(exp_id))\n",
    "    # index of ids that have matched genotypes \n",
    "    # exp_id based on order of exp_id\n",
    "    sub_id_map[[t]] <- na.omit(match(exp_id, sub_id))\n",
    "    sub_id_map_genotype[[t]] <- !is.na(match(exp_id, sub_id))                           \n",
    "    #for(j in 1:length(tmp)){\n",
    "        # extract the id starting GTEX-xxxxx\n",
    "\n",
    "        #tmp[j] = which(sub_id==exp_id)\n",
    "    #}\n",
    "    #sub_id_map[[t]] = tmp\n",
    "}\n",
    "\n",
    "fold = 5\n",
    "print(\"INFO: section B\")\n",
    "cv_config = cv_helper(n_sample, fold)\n",
    "cv_perm = cv_config$perm\n",
    "cv_idx = cv_config$idx\n",
    "\n",
    "single_res_test = list()\n",
    "single_lam = matrix(0,5,P)\n",
    "single_theta_est = list()\n",
    "\n",
    "multi_res_test = list()\n",
    "multi_lam = rep(0,5)\n",
    "multi_theta_est = list()"
   ]
  },
  {
   "cell_type": "markdown",
   "metadata": {},
   "source": [
    "### CV"
   ]
  },
  {
   "cell_type": "code",
   "execution_count": null,
   "metadata": {},
   "outputs": [],
   "source": [
    "### fold = 1\n",
    "    f = 1\n",
    "    bgt = Sys.time()\n",
    "    IRdisplay::display_html(paste0(\"INFO: fold \", f))\n",
    "    test_index = cv_perm[cv_idx[f,1]:cv_idx[f,2]]\n",
    "    test_id = sub_id[test_index]\n",
    "    tuning_index = cv_perm[cv_idx[f%%fold+1,1]:cv_idx[f%%fold+1,2]]\n",
    "    tuning_id = sub_id[tuning_index]\n",
    "\n",
    "    X_test = list()\n",
    "    Y_test = list()\n",
    "    X_tune = list()\n",
    "    Y_tune = list()\n",
    "    X_train = list()\n",
    "    Y_train = list()\n",
    "    for(t in 1:T_num){\n",
    "        X_train_tmp = sub_id_map[[t]][!(sub_id_map[[t]]%in%c(test_index,tuning_index))]\n",
    "        Y_train_tmp = !(sub_id_map[[t]]%in%c(test_index,tuning_index))\n",
    "        X_tuning_tmp = sub_id_map[[t]][(sub_id_map[[t]]%in%tuning_index)]\n",
    "        Y_tuning_tmp = (sub_id_map[[t]]%in%tuning_index)\n",
    "        X_test_tmp = sub_id_map[[t]][(sub_id_map[[t]]%in%test_index)]\n",
    "        Y_test_tmp = (sub_id_map[[t]]%in%test_index)\n",
    "        # training data\n",
    "        X_train[[t]] = apply(as.matrix(dose_std[,X_train_tmp]),1,as.numeric)\n",
    "        Y_train[[t]] = Y[[t]][sub_id_map_genotype[[t]],][Y_train_tmp, 2]\n",
    "        X_tune[[t]] = apply(as.matrix(dose_std[,X_tuning_tmp]),1,as.numeric)\n",
    "        Y_tune[[t]] = Y[[t]][sub_id_map_genotype[[t]],][Y_tuning_tmp, 2]\n",
    "        X_test[[t]] = apply(as.matrix(dose_std[,X_test_tmp]),1,as.numeric)\n",
    "        Y_test[[t]] = Y[[t]][sub_id_map_genotype[[t]],][Y_test_tmp, 2]\n",
    "    }\n",
    "\n",
    "    ## model training ##\t\n",
    "    ## train elastic net and used average lambda as tuning parameters ##\n",
    "    single_initial_est = matrix(0, ncol(X_train[[1]]), T_num)\n",
    "    single_summary = list()\n",
    "    for(t in 1:T_num){\n",
    "        IRdisplay::display_html(length(Y_train[[t]]))\n",
    "        IRdisplay::display_html(dim(X_train[[t]]))\n",
    "        tt = cv.glmnet(X_train[[t]], Y_train[[t]], alpha = 0.5, nfolds = 5)\n",
    "        single_summary[[t]] = tt\n",
    "        single_initial_est[,t] = tt$glmnet.fit$beta[,which.min(tt$cvm)]\n",
    "    }\n",
    "    ## performance of Elastic net on tuning and testing data with various tuning parameters\n",
    "    els_output = elastic_net_mse(single_summary, X_tune, Y_tune, X_test, Y_test)\n",
    "    single_res_test[[f]] = els_output$mse\n",
    "    single_lam[f,] = els_output$lam\n",
    "    single_theta_est[[f]] = els_output$est\n",
    "    remove(els_output)\n",
    "\n",
    "    initial_numeric = as.numeric(single_initial_est)\n",
    "    lam_range = minmax_lambda(single_summary)\n",
    "    lam_V = seq(lam_range[1], lam_range[2], length.out = ntune)\n",
    "    remove(single_summary); \n",
    "    remove(single_initial_est);\n",
    "\n",
    "    ## preparation\n",
    "    XY = grad_prep(X_train, Y_train)\n",
    "#\t\tbgt = Sys.time()\n",
    "    XX_train = lapply(X_train, function(x){t(x)%*%x/nrow(x)})\n",
    "#\t\tedt = Sys.time()\n",
    "#\t\tprint(edt-bgt)\n",
    "\n",
    "\n",
    "    res_tune = rep(0, ntune)\n",
    "    best.lam = 0\n",
    "\n",
    "#\t\tbgt = Sys.time()\n",
    "    print(\"INFO: section C\")\n",
    "    for(lam in 1:ntune){\n",
    "        single_est = matrix(initial_numeric, M, P)\n",
    "        ans = glasso(X=X_train, Y=Y_train, X1=X_tune, Y1=Y_tune, XX=XX_train, XY=XY, Xnorm=Xnorm, lambda1=lam_V[lam], lambda2=lam_V[lam], theta=single_est)\n",
    "        res_tune[lam] = ans$tune_err\n",
    "        remove(single_est); remove(ans);\n",
    "    }\n",
    "#\t\tedt = Sys.time()\n",
    "#\t\tprint(edt-bgt)\n",
    "    \n",
    "    \n",
    "    best.lam = lam_V[which.min(res_tune)]\n",
    "    single_est = matrix(initial_numeric, M, P)\n",
    "    ans = glasso(X=X_train, Y=Y_train, X1=X_tune, Y1=Y_tune, XX=XX_train, XY=XY, Xnorm=Xnorm, lambda1=best.lam, lambda2=best.lam, theta=single_est)\n",
    "    multi_res_test[[f]] = multi_mse(ans$est, X_test, Y_test)\n",
    "    multi_lam[f] = best.lam\n",
    "    multi_theta_est[[f]] = ans$est\n",
    "    remove(single_est)\n",
    "    remove(ans)\n",
    "    edt = Sys.time()\n",
    "    print(edt-bgt)"
   ]
  },
  {
   "cell_type": "code",
   "execution_count": null,
   "metadata": {},
   "outputs": [],
   "source": [
    "for(f in 1:fold){\n",
    "    bgt = Sys.time()\n",
    "    IRdisplay::display_html(paste0(\"INFO: fold \", f))\n",
    "    test_index = cv_perm[cv_idx[f,1]:cv_idx[f,2]]\n",
    "    test_id = sub_id[test_index]\n",
    "    tuning_index = cv_perm[cv_idx[f%%fold+1,1]:cv_idx[f%%fold+1,2]]\n",
    "    tuning_id = sub_id[tuning_index]\n",
    "\n",
    "    X_test = list()\n",
    "    Y_test = list()\n",
    "    X_tune = list()\n",
    "    Y_tune = list()\n",
    "    X_train = list()\n",
    "    Y_train = list()\n",
    "    for(t in 1:T_num){\n",
    "        X_train_tmp = sub_id_map[[t]][!(sub_id_map[[t]]%in%c(test_index,tuning_index))]\n",
    "        Y_train_tmp = !(sub_id_map[[t]]%in%c(test_index,tuning_index))\n",
    "        X_tuning_tmp = sub_id_map[[t]][(sub_id_map[[t]]%in%tuning_index)]\n",
    "        Y_tuning_tmp = (sub_id_map[[t]]%in%tuning_index)\n",
    "        X_test_tmp = sub_id_map[[t]][(sub_id_map[[t]]%in%test_index)]\n",
    "        Y_test_tmp = (sub_id_map[[t]]%in%test_index)\n",
    "        # training data\n",
    "        X_train[[t]] = apply(as.matrix(dose_std[,X_train_tmp]),1,as.numeric)\n",
    "        Y_train[[t]] = Y[[t]][sub_id_map_genotype[[t]],][Y_train_tmp, 2]\n",
    "        X_tune[[t]] = apply(as.matrix(dose_std[,X_tuning_tmp]),1,as.numeric)\n",
    "        Y_tune[[t]] = Y[[t]][sub_id_map_genotype[[t]],][Y_tuning_tmp, 2]\n",
    "        X_test[[t]] = apply(as.matrix(dose_std[,X_test_tmp]),1,as.numeric)\n",
    "        Y_test[[t]] = Y[[t]][sub_id_map_genotype[[t]],][Y_test_tmp, 2]\n",
    "    }\n",
    "\n",
    "    ## model training ##\t\n",
    "    ## train elastic net and used average lambda as tuning parameters ##\n",
    "    single_initial_est = matrix(0, ncol(X_train[[1]]), T_num)\n",
    "    single_summary = list()\n",
    "    for(t in 1:T_num){\n",
    "        IRdisplay::display_html(length(Y_train[[t]]))\n",
    "        IRdisplay::display_html(dim(X_train[[t]]))\n",
    "        tt = cv.glmnet(X_train[[t]], Y_train[[t]], alpha = 0.5, nfolds = 5)\n",
    "        single_summary[[t]] = tt\n",
    "        single_initial_est[,t] = tt$glmnet.fit$beta[,which.min(tt$cvm)]\n",
    "    }\n",
    "    ## performance of Elastic net on tuning and testing data with various tuning parameters\n",
    "    els_output = elastic_net_mse(single_summary, X_tune, Y_tune, X_test, Y_test)\n",
    "    single_res_test[[f]] = els_output$mse\n",
    "    single_lam[f,] = els_output$lam\n",
    "    single_theta_est[[f]] = els_output$est\n",
    "    remove(els_output)\n",
    "\n",
    "    initial_numeric = as.numeric(single_initial_est)\n",
    "    lam_range = minmax_lambda(single_summary)\n",
    "    lam_V = seq(lam_range[1], lam_range[2], length.out = ntune)\n",
    "    remove(single_summary); \n",
    "    remove(single_initial_est);\n",
    "\n",
    "    ## preparation\n",
    "    XY = grad_prep(X_train, Y_train)\n",
    "#\t\tbgt = Sys.time()\n",
    "    XX_train = lapply(X_train, function(x){t(x)%*%x/nrow(x)})\n",
    "#\t\tedt = Sys.time()\n",
    "#\t\tprint(edt-bgt)\n",
    "\n",
    "\n",
    "    res_tune = rep(0, ntune)\n",
    "    best.lam = 0\n",
    "\n",
    "#\t\tbgt = Sys.time()\n",
    "    print(\"INFO: section C\")\n",
    "    for(lam in 1:ntune){\n",
    "        single_est = matrix(initial_numeric, M, P)\n",
    "        ans = glasso(X=X_train, Y=Y_train, X1=X_tune, Y1=Y_tune, XX=XX_train, XY=XY, Xnorm=Xnorm, lambda1=lam_V[lam], lambda2=lam_V[lam], theta=single_est)\n",
    "        res_tune[lam] = ans$tune_err\n",
    "        remove(single_est); remove(ans);\n",
    "    }\n",
    "#\t\tedt = Sys.time()\n",
    "#\t\tprint(edt-bgt)\n",
    "    \n",
    "    \n",
    "    best.lam = lam_V[which.min(res_tune)]\n",
    "    single_est = matrix(initial_numeric, M, P)\n",
    "    ans = glasso(X=X_train, Y=Y_train, X1=X_tune, Y1=Y_tune, XX=XX_train, XY=XY, Xnorm=Xnorm, lambda1=best.lam, lambda2=best.lam, theta=single_est)\n",
    "    multi_res_test[[f]] = multi_mse(ans$est, X_test, Y_test)\n",
    "    multi_lam[f] = best.lam\n",
    "    multi_theta_est[[f]] = ans$est\n",
    "    remove(single_est)\n",
    "    remove(ans)\n",
    "    edt = Sys.time()\n",
    "    print(edt-bgt)\n",
    "}"
   ]
  },
  {
   "cell_type": "code",
   "execution_count": null,
   "metadata": {},
   "outputs": [],
   "source": [
    "    t <- 1\n",
    "dim(X_train[[t]])\n",
    "length(Y_train[[t]])\n",
    "head(Y_train[[t]])"
   ]
  },
  {
   "cell_type": "code",
   "execution_count": null,
   "metadata": {},
   "outputs": [],
   "source": []
  },
  {
   "cell_type": "code",
   "execution_count": null,
   "metadata": {},
   "outputs": [],
   "source": []
  },
  {
   "cell_type": "code",
   "execution_count": null,
   "metadata": {},
   "outputs": [],
   "source": []
  },
  {
   "cell_type": "code",
   "execution_count": null,
   "metadata": {},
   "outputs": [],
   "source": []
  },
  {
   "cell_type": "code",
   "execution_count": null,
   "metadata": {},
   "outputs": [],
   "source": []
  },
  {
   "cell_type": "code",
   "execution_count": null,
   "metadata": {},
   "outputs": [],
   "source": []
  },
  {
   "cell_type": "code",
   "execution_count": null,
   "metadata": {},
   "outputs": [],
   "source": []
  },
  {
   "cell_type": "code",
   "execution_count": null,
   "metadata": {},
   "outputs": [],
   "source": []
  },
  {
   "cell_type": "code",
   "execution_count": null,
   "metadata": {},
   "outputs": [],
   "source": []
  },
  {
   "cell_type": "code",
   "execution_count": null,
   "metadata": {},
   "outputs": [],
   "source": []
  },
  {
   "cell_type": "code",
   "execution_count": null,
   "metadata": {},
   "outputs": [],
   "source": []
  },
  {
   "cell_type": "code",
   "execution_count": null,
   "metadata": {},
   "outputs": [],
   "source": [
    "length(Y[[t]][Y_train_tmp, 2])"
   ]
  },
  {
   "cell_type": "code",
   "execution_count": null,
   "metadata": {},
   "outputs": [],
   "source": [
    "head(Y_train_tmp)\n",
    "sum(Y_train_tmp)"
   ]
  },
  {
   "cell_type": "code",
   "execution_count": null,
   "metadata": {},
   "outputs": [],
   "source": [
    "length(Y_train_tmp)"
   ]
  },
  {
   "cell_type": "code",
   "execution_count": null,
   "metadata": {},
   "outputs": [],
   "source": [
    "t = 1\n",
    "X_train_tmp = sub_id_map[[t]][!(sub_id_map[[t]]%in%c(test_index,tuning_index))]\n",
    "Y_train_tmp = !(sub_id_map[[t]]%in%c(test_index,tuning_index))"
   ]
  },
  {
   "cell_type": "code",
   "execution_count": null,
   "metadata": {},
   "outputs": [],
   "source": [
    "length(sub_id_map[[1]])"
   ]
  },
  {
   "cell_type": "code",
   "execution_count": null,
   "metadata": {},
   "outputs": [],
   "source": [
    "length(X_train_tmp)\n",
    "sum(Y_train_tmp)"
   ]
  },
  {
   "cell_type": "code",
   "execution_count": null,
   "metadata": {},
   "outputs": [],
   "source": [
    "X_train[[t]][1:6, 1:6]"
   ]
  },
  {
   "cell_type": "code",
   "execution_count": null,
   "metadata": {},
   "outputs": [],
   "source": [
    "sum(is.na(X_train[[t]]))"
   ]
  },
  {
   "cell_type": "code",
   "execution_count": null,
   "metadata": {},
   "outputs": [],
   "source": [
    "sum(is.na(dose))\n",
    "sum(is.na(dose_std))\n",
    "dim(dose)\n",
    "dim(dose_std)"
   ]
  },
  {
   "cell_type": "code",
   "execution_count": null,
   "metadata": {},
   "outputs": [],
   "source": [
    "dim(X_train[[t]])\n",
    "length(Y_train[[t]])"
   ]
  },
  {
   "cell_type": "code",
   "execution_count": null,
   "metadata": {},
   "outputs": [],
   "source": [
    "class(X_train_tmp)"
   ]
  },
  {
   "cell_type": "code",
   "execution_count": null,
   "metadata": {},
   "outputs": [],
   "source": [
    "exp_id <- as.character(sapply(Y[[t]][,1], function(x) substr(x, 1, 10)))\n",
    "print(head(exp_id))\n",
    "sub_id_map[[t]] <- match(exp_id, sub_id)"
   ]
  },
  {
   "cell_type": "code",
   "execution_count": null,
   "metadata": {},
   "outputs": [],
   "source": [
    "sum(is.na(sub_id_map[[t]]))\n",
    "length(sub_id_map[[t]])"
   ]
  },
  {
   "cell_type": "code",
   "execution_count": null,
   "metadata": {},
   "outputs": [],
   "source": [
    "length(sub_id)"
   ]
  },
  {
   "cell_type": "code",
   "execution_count": null,
   "metadata": {},
   "outputs": [],
   "source": [
    "for(t in 1:T_num){\n",
    "    #for(t in 1:1){\n",
    "\t\t#tmp = rep(0, nrow(Y[[t]]))\n",
    "        exp_id <- as.character(sapply(Y[[t]][,1], function(x) substr(x, 1, 10)))\n",
    "        print(head(exp_id))\n",
    "\t\tsub_id_map[[t]] <- match(exp_id, sub_id)\n",
    "        #for(j in 1:length(tmp)){\n",
    "            # extract the id starting GTEX-xxxxx\n",
    "            \n",
    "\t\t\t#tmp[j] = which(sub_id==exp_id)\n",
    "\t\t#}\n",
    "\t\t#sub_id_map[[t]] = tmp\n",
    "\t}"
   ]
  },
  {
   "cell_type": "code",
   "execution_count": null,
   "metadata": {},
   "outputs": [],
   "source": []
  },
  {
   "cell_type": "code",
   "execution_count": null,
   "metadata": {},
   "outputs": [],
   "source": []
  }
 ],
 "metadata": {
  "kernelspec": {
   "display_name": "R",
   "language": "R",
   "name": "ir"
  },
  "language_info": {
   "codemirror_mode": "r",
   "file_extension": ".r",
   "mimetype": "text/x-r-source",
   "name": "R",
   "pygments_lexer": "r",
   "version": "3.5.0"
  }
 },
 "nbformat": 4,
 "nbformat_minor": 4
}
