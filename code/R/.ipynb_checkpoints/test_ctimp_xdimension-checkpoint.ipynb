{
 "cells": [
  {
   "cell_type": "markdown",
   "metadata": {},
   "source": [
    "### Reading dosage and info"
   ]
  },
  {
   "cell_type": "code",
   "execution_count": null,
   "metadata": {},
   "outputs": [],
   "source": [
    "getwd()"
   ]
  },
  {
   "cell_type": "markdown",
   "metadata": {},
   "source": [
    "### glasso test"
   ]
  },
  {
   "cell_type": "code",
   "execution_count": 1,
   "metadata": {},
   "outputs": [],
   "source": [
    "# functions\n",
    "grad_prep <- function(X, Y){\n",
    "\t## pre-calculate some metrics for gradient\n",
    "\tll = length(Y)\n",
    "\tP = ncol(X[[1]])\n",
    "\tXY = matrix(0,P,ll)\n",
    "\tfor(i in 1:ll){\n",
    "\t\tXY[,i] = t(X[[i]])%*%Y[[i]]/nrow(X[[i]])\n",
    "\t}\n",
    "\tXY\n",
    "}\n",
    "\n",
    "cv_helper <- function(N, fold){\n",
    "\tvalid_num = floor(N/fold)\n",
    "\tset.seed(123)\n",
    "\tperm = sample(1:N, size = N)\n",
    "\tidx1 = seq(1,N,valid_num)\n",
    "\tidx2 = c(idx1[-1]-1,N)\n",
    "\tlist(perm=perm, idx=cbind(idx1,idx2))\n",
    "}\n",
    "\n",
    "minmax_lambda <- function(lst){\n",
    "\tmax_lam = max(unlist(lapply(lst, function(x){max(x$lambda)})))\n",
    "\tmin_lam = min(unlist(lapply(lst, function(x){min(x$lambda)})))\n",
    "\tc(min_lam, max_lam)\n",
    "}\n",
    "\n",
    "elastic_net_mse <- function(lst, X_tune, Y_tune, X_test, Y_test){\n",
    "\tP = length(lst)\n",
    "\tM = ncol(X_tune[[1]])\n",
    "\tlam_V = rep(0, P)\n",
    "\ttest_res = list()\n",
    "\ttest_beta = matrix(0, M, P)\n",
    "\tfor(t in 1:P){\n",
    "\t\tncv = length(lst[[t]]$lambda)\n",
    "\t\ttmp_mse = rep(0, ncv)\n",
    "\t\tfor(k in 1:ncv){\n",
    "\t\t\ttmp_mse[k] = mean((Y_tune[[t]] - X_tune[[t]]%*%lst[[t]]$glmnet.fit$beta[,k])^2)\n",
    "\t\t}\n",
    "\t\tss = which.min(tmp_mse)\n",
    "\t\ttest_beta[,t] = lst[[t]]$glmnet.fit$beta[,ss]\n",
    "\t\tlam_V[t] = lst[[t]]$lambda[ss]\n",
    "\t\tpredicted = X_test[[t]]%*%lst[[t]]$glmnet.fit$beta[,ss]\n",
    "\t\ttest_res[[t]] = cbind(Y_test[[t]], predicted)\n",
    "\t}\n",
    "\tlist(lam = lam_V, mse = test_res, est = test_beta)\n",
    "}\n",
    "\n",
    "multi_mse <- function(theta_est, X_test, Y_test){\n",
    "\tanswer = list()\n",
    "\tP = ncol(theta_est)\n",
    "\tfor(t in 1:P){\n",
    "\t\tpredicted = X_test[[t]]%*%theta_est[,t]\n",
    "\t\tanswer[[t]] = cbind(Y_test[[t]], predicted)\n",
    "\t}\n",
    "\tanswer\n",
    "}\n",
    "\n",
    "avg_perm <- function(mse_lst){\n",
    "\tfd = length(mse_lst)\n",
    "\tP = length(mse_lst[[1]])\n",
    "\trsq = mse = adj_mse = matrix(0, fd, P)\n",
    "\tfor(f in 1:fd){\n",
    "\t\tfor(t in 1:P){\n",
    "\t\t\trsq[f,t] = (cor(mse_lst[[f]][[t]])[1,2])^2\n",
    "\t\t\tmse[f,t] = mean((mse_lst[[f]][[t]][,1]-mse_lst[[f]][[t]][,2])^2)\n",
    "\t\t\tadj_mse[f,t] = mse[f,t]/var(mse_lst[[f]][[t]][,1])\n",
    "\t\t}\n",
    "\t}\n",
    "\tcbind(apply(rsq, 2, mean), apply(mse, 2, mean), apply(adj_mse, 2, mean))\n",
    "\n",
    "\t#list(rsq = apply(rsq, 2, mean), mse = apply(mse, 2, mean), adj_mse = apply(adj_mse, 2, mean))\n",
    "}\n",
    "\n",
    "glasso <- function(X, Y, X1, Y1, XX, XY, Xnorm, lambda1, lambda2, theta, stepsize = 1e-4, maxiter = 250, eps = 1e-4){\n",
    "\tbgt = Sys.time()\n",
    "\tM = nrow(XY)\n",
    "\tP = length(X)\n",
    "\tNN = unlist(lapply(X, nrow))\n",
    "\told_objV1 = 0\n",
    "\tfor(t in 1:P){\n",
    "\t\told_objV1 = old_objV1 + 1/2*mean((Y[[t]]-X[[t]]%*%theta[,t])^2)\n",
    "\t}\n",
    "\tIRdisplay::display_html(paste0(\"Training error: \", old_objV1, '\\n'))\n",
    "\told_objV2 = 0\n",
    "\tfor(t in 1:P){\n",
    "\t\told_objV2 = old_objV2 + 1/2*mean((Y1[[t]]-X1[[t]]%*%theta[,t])^2)\n",
    "\t}\n",
    "\tIRdisplay::display_html(paste0(\"Testing error: \", old_objV2, '\\n'))\n",
    "\tbeta_j_lasso = rep(0, P)\n",
    "\ttmp_XYj = 0\n",
    "\tif(!is.loaded(\"wrapper\")){\n",
    "\t\tdyn.load(\"/ysm-gpfs/pi/zhao/from_louise/yh367/GTEX/codes/glasso.so\")\n",
    "\t}\n",
    "    \n",
    "\tfor(i in 1:maxiter){\n",
    "\t\tbgt = Sys.time()\n",
    "\t\tres = .Call(\"wrapper\", XX, XY, theta, M, P, beta_j_lasso, lambda1, lambda2, Xnorm)\n",
    "\t\tedt = Sys.time()\n",
    "\t\t#print(edt-bgt)\n",
    "\t\tnew_objV1 = new_objV2 = 0\n",
    "\t\tfor(t in 1:P){\n",
    "\t\t\tnew_objV1 = new_objV1 + 1/2*mean((Y[[t]]-X[[t]]%*%theta[,t])^2)\n",
    "            #IRdisplay::display_html(sum(is.na(X[[t]])))\n",
    "            #IRdisplay::display_html(sum(is.na(Y[[t]])))\n",
    "\t\t}\n",
    "\t\tIRdisplay::display_html(paste0(\"Training error: \", new_objV1, '\\n'))\n",
    "\t\tfor(t in 1:P){\n",
    "\t\t\tnew_objV2 = new_objV2 + 1/2*mean((Y1[[t]]-X1[[t]]%*%theta[,t])^2)\n",
    "           # IRdisplay::display_html(sum(is.na(X[[t]])))\n",
    "            #IRdisplay::display_html(sum(is.na(Y[[t]])))\n",
    "\t\t}\n",
    "\t\tIRdisplay::display_html(paste0(\"Testing error: \", new_objV2, '\\n'))\n",
    "\t\tif(new_objV2 > old_objV2|new_objV1 > old_objV1){\n",
    "\t\t\tbreak\n",
    "\t\t}else{\n",
    "\t\t\told_objV2 = new_objV2\n",
    "\t\t}\n",
    "\t\tif(abs(new_objV1-old_objV1) < eps){\n",
    "\t\t\tbreak\n",
    "\t\t}else{\n",
    "\t\t\told_objV1 = new_objV1\n",
    "\t\t}\n",
    "\t}\n",
    "\t#edt = Sys.time()\n",
    "\t#print(edt-bgt)\n",
    "\tlist(est = theta, tune_err = new_objV2)\n",
    "}\n",
    "\n",
    "glasso_no_early_stopping <- function(X, Y, XX, XY, Xnorm, lambda1, lambda2, theta, stepsize = 1e-4, maxiter = 250, eps = 1e-3){\n",
    "\tM = nrow(XY)\n",
    "\tP = length(X)\n",
    "\tNN = unlist(lapply(X, nrow))\n",
    "\told_objV1 = 0\n",
    "\tfor(t in 1:P){\n",
    "\t\told_objV1 = old_objV1 + 1/2*mean((Y[[t]]-X[[t]]%*%theta[,t])^2)\n",
    "\t}\n",
    "\tIRdisplay::display_html(paste0(\"Training error: \", old_objV1, '\\n'))\n",
    "\tbeta_j_lasso = rep(0, P)\n",
    "\ttmp_XYj = 0\n",
    "\tif(!is.loaded(\"wrapper\")){\n",
    "\t\tdyn.load(\"/ysm-gpfs/pi/zhao/from_louise/yh367/GTEX/codes/glasso.so\")\n",
    "\t}\n",
    "\tfor(i in 1:maxiter){\n",
    "\t\tres = .Call(\"wrapper\", XX, XY, theta, M, P, beta_j_lasso, lambda1, lambda2, Xnorm)\n",
    "\t\tnew_objV1 = 0\n",
    "\t\tfor(t in 1:P){\n",
    "\t\t\tnew_objV1 = new_objV1 + 1/2*mean((Y[[t]]-X[[t]]%*%theta[,t])^2)\n",
    "\t\t}\n",
    "\t\tIRdisplay::display_html(paste0(\"Training error: \", new_objV1, '\\n'))\n",
    "\t\tif(abs(new_objV1-old_objV1) < eps|new_objV1 > old_objV1){\n",
    "\t\t\tbreak\n",
    "\t\t}else{\n",
    "\t\t\told_objV1 = new_objV1\n",
    "\t\t}\n",
    "\t}\n",
    "\tlist(est = theta, train_err = new_objV1)\n",
    "}\n",
    "\n",
    "extract_genotype <- function(gene_idx, chr_str, genotype_dir, gene_vec) {\n",
    "    gene_dir <- paste0(genotype_dir, chr_str, gene_vec[gene_idx], \"/\", gene_vec[gene_idx])\n",
    "    genotype_info <- read_plink(gene_dir)\n",
    "    \n",
    "    print(paste0(\"INFO: genotype matrix dimension:\", dim(genotype_info$X)[1], \" * \", dim(genotype_info$X)[2]))\n",
    "    return(genotype_info)\n",
    "}\n",
    "\n"
   ]
  },
  {
   "cell_type": "code",
   "execution_count": 2,
   "metadata": {},
   "outputs": [
    {
     "name": "stderr",
     "output_type": "stream",
     "text": [
      "Loading required package: Matrix\n",
      "\n",
      "Loading required package: foreach\n",
      "\n",
      "Loaded glmnet 2.0-13\n",
      "\n",
      "\n"
     ]
    }
   ],
   "source": [
    "### command line input ###\n",
    "# chr = as.numeric(args[1])\n",
    "# k = as.numeric(args[2])\n",
    "# gene_id = args[3]\n",
    "### data import ###\n",
    "options(stringsAsFactors=F)\n",
    "library(glmnet)\n",
    "library(foreach)\n",
    "library(genio)\n",
    "ntune = 100\n",
    "\n",
    "genotype_dir <- \"/ysm-gpfs/project/wl382/GTEx_v8/genotype/cis_loc/\"\n",
    "chr <- 1\n",
    "gene_idx <- 5\n",
    "chr_str <- paste0(\"chr\", chr, \"/\")\n",
    "gene_vec <- list.files(paste0(genotype_dir, chr_str))\n",
    "gene_id = gene_vec[gene_idx]\n",
    "gtex_dir = \"/gpfs/loomis/project/zhao/zy92/GTEX/\" \n",
    "glist = dir(paste0(gtex_dir, \"adjusted_expr/chr\", chr))\n",
    "g = glist[gene_idx]\n",
    "\n",
    "### format for dose and info\n",
    "# dose:\n",
    "# GTEX-P4PP-0004-SM-2H2WW->GTEX-P4PP-0004-SM-2H2WW        DOSE    0.000   0.014   0.000   0.000   0.000\n",
    "# info:\n",
    "# SNP     REF(0)  ALT(1)  ALT_Frq MAF     AvgCall Rsq     Genotyped       LooRsq  EmpR    EmpRsq  Dose0   Dose1\n",
    "# 1_157695412_G_A_b37     G       A       -               -       -       Typed_Only      -       -\n",
    "#       -       -       -\n",
    "\n",
    "dose_path = paste0(genotype_dir, chr_str, gene_id, \"/\", gene_id)\n",
    "#info_path = paste0(gtex_dir, \"cis_snp/chr\", chr, \"/\", g, \"/\", g, \".mach.info\")\n",
    "Yt = dir(paste0(gtex_dir, \"adjusted_expr/\", chr_str, g, \"/\"))\n",
    "P = length(Yt)\n",
    "\n",
    "output_dir = \"/gpfs/loomis/project/zhao/zy92/GTEX/output/\" "
   ]
  },
  {
   "cell_type": "code",
   "execution_count": 3,
   "metadata": {},
   "outputs": [],
   "source": [
    "#cv_config\n",
    "fold = 5\n",
    "cv_config = cv_helper(450, fold)\n",
    "\n",
    "# create dirs\n",
    "dir.create(paste0(output_dir, \"chr\", chr), showWarnings = FALSE)\n",
    "dir.create(paste0(output_dir, \"chr\", chr, \"/\", gene_id), showWarnings = FALSE)\n",
    "setwd(paste0(output_dir, \"chr\", chr, \"/\", gene_id))\n",
    "\n",
    "# expr files \n",
    "Y = list()\n",
    "for(t in 1:P){\n",
    "    Y[[t]] = read.table(paste0(gtex_dir, \"adjusted_expr/chr\", chr, \"/\", g, \"/\", Yt[t]), header=F)\n",
    "}\n",
    "ssize = unlist(lapply(Y, nrow))\n",
    "T_num = length(Yt)"
   ]
  },
  {
   "cell_type": "code",
   "execution_count": 8,
   "metadata": {},
   "outputs": [
    {
     "data": {
      "text/html": [
       "<style>\n",
       ".list-inline {list-style: none; margin:0; padding: 0}\n",
       ".list-inline>li {display: inline-block}\n",
       ".list-inline>li:not(:last-child)::after {content: \"\\00b7\"; padding: 0 .5ex}\n",
       "</style>\n",
       "<ol class=list-inline><li>7107</li><li>838</li></ol>\n"
      ],
      "text/latex": [
       "\\begin{enumerate*}\n",
       "\\item 7107\n",
       "\\item 838\n",
       "\\end{enumerate*}\n"
      ],
      "text/markdown": [
       "1. 7107\n",
       "2. 838\n",
       "\n",
       "\n"
      ],
      "text/plain": [
       "[1] 7107  838"
      ]
     },
     "metadata": {},
     "output_type": "display_data"
    }
   ],
   "source": [
    "dim(dose)"
   ]
  },
  {
   "cell_type": "code",
   "execution_count": 4,
   "metadata": {},
   "outputs": [
    {
     "name": "stderr",
     "output_type": "stream",
     "text": [
      "Reading: /ysm-gpfs/project/wl382/GTEx_v8/genotype/cis_loc/chr1/ENSG00000001460.17/ENSG00000001460.17.bim\n",
      "\n",
      "Reading: /ysm-gpfs/project/wl382/GTEx_v8/genotype/cis_loc/chr1/ENSG00000001460.17/ENSG00000001460.17.fam\n",
      "\n",
      "Reading: /ysm-gpfs/project/wl382/GTEx_v8/genotype/cis_loc/chr1/ENSG00000001460.17/ENSG00000001460.17.bed\n",
      "\n"
     ]
    },
    {
     "name": "stdout",
     "output_type": "stream",
     "text": [
      "[1] \"INFO: section A\"\n"
     ]
    }
   ],
   "source": [
    "## genotype files ##\n",
    "\t\n",
    "genotype_info <- read_plink(dose_path)\n",
    "dose = genotype_info$X\n",
    "dose_std = dose\n",
    "for(j in 1:nrow(dose)){\n",
    "    dose_std[j, is.na(dose[j, ])] <- mean(dose[j, ], na.rm = T)\n",
    "    dose_std[j, ] <- dose_std[j, ] - mean(dose[j, ], na.rm = T)\n",
    "}\n",
    "print(\"INFO: section A\")\n",
    "## covariance matrix ##\n",
    "n_sample = ncol(dose_std)\n",
    "tmp = t(as.matrix(dose_std))\n",
    "XX = t(tmp)%*%as.matrix(tmp)/n_sample\n",
    "Xnorm = diag(XX)\n",
    "remove(tmp)\n",
    "remove(XX)\n",
    "sub_id = colnames(dose_std)\n",
    "M = nrow(dose_std)\n",
    "sub_id_map = list()\n",
    "sub_id_map_exp = list()\n",
    "for(t in 1:T_num){\n",
    "#for(t in 1:1){\n",
    "    #tmp = rep(0, nrow(Y[[t]]))\n",
    "    exp_id <- as.character(sapply(Y[[t]][,1], function(x) substr(x, 1, 10)))\n",
    "    #print(head(exp_id))\n",
    "    # index of ids that have matched genotypes \n",
    "    # exp_id based on order of exp_id\n",
    "    match_id <- match(exp_id, sub_id)\n",
    "    sub_id_map[[t]] <- na.omit(match_id)\n",
    "    sub_id_map_exp[[t]] <- !is.na(match_id)  \n",
    "    #print(length(sub_id_map[[t]]))\n",
    "    #print(sum(sub_id_map_exp[[t]]))\n",
    "    #for(j in 1:length(tmp)){\n",
    "        # extract the id starting GTEX-xxxxx\n",
    "\n",
    "        #tmp[j] = which(sub_id==exp_id)\n",
    "    #}\n",
    "    #sub_id_map[[t]] = tmp\n",
    "}"
   ]
  },
  {
   "cell_type": "code",
   "execution_count": 5,
   "metadata": {},
   "outputs": [
    {
     "name": "stdout",
     "output_type": "stream",
     "text": [
      "[1] \"INFO: section B\"\n"
     ]
    }
   ],
   "source": [
    "fold = 5\n",
    "print(\"INFO: section B\")\n",
    "cv_config = cv_helper(n_sample, fold)\n",
    "cv_perm = cv_config$perm\n",
    "cv_idx = cv_config$idx\n",
    "\n",
    "single_res_test = list()\n",
    "single_lam = matrix(0,5,P)\n",
    "single_theta_est = list()\n",
    "\n",
    "multi_res_test = list()\n",
    "multi_lam = rep(0,5)\n",
    "multi_theta_est = list()"
   ]
  },
  {
   "cell_type": "code",
   "execution_count": 7,
   "metadata": {},
   "outputs": [
    {
     "data": {
      "text/html": [
       "838"
      ],
      "text/latex": [
       "838"
      ],
      "text/markdown": [
       "838"
      ],
      "text/plain": [
       "[1] 838"
      ]
     },
     "metadata": {},
     "output_type": "display_data"
    },
    {
     "data": {
      "text/html": [
       "<style>\n",
       ".list-inline {list-style: none; margin:0; padding: 0}\n",
       ".list-inline>li {display: inline-block}\n",
       ".list-inline>li:not(:last-child)::after {content: \"\\00b7\"; padding: 0 .5ex}\n",
       "</style>\n",
       "<ol class=list-inline><li>7107</li><li>838</li></ol>\n"
      ],
      "text/latex": [
       "\\begin{enumerate*}\n",
       "\\item 7107\n",
       "\\item 838\n",
       "\\end{enumerate*}\n"
      ],
      "text/markdown": [
       "1. 7107\n",
       "2. 838\n",
       "\n",
       "\n"
      ],
      "text/plain": [
       "[1] 7107  838"
      ]
     },
     "metadata": {},
     "output_type": "display_data"
    }
   ],
   "source": [
    "length(Xnorm)\n",
    "dim(dose_std)"
   ]
  },
  {
   "cell_type": "code",
   "execution_count": null,
   "metadata": {},
   "outputs": [],
   "source": []
  },
  {
   "cell_type": "code",
   "execution_count": 8,
   "metadata": {},
   "outputs": [],
   "source": [
    "library(Rcpp) \n",
    "\n",
    "sourceCpp(\"/gpfs/project/zhao/zy92/utmost_update/CTIMP/MatrixMtp.cpp\") # call the C++ file and we have three functions as armaMatMult，eigenMatMult，eigenMapMatMult.\n",
    "\n",
    "# you can get the multiplication of A and B by using the following three functions:\n",
    "# armaMatMult(A, B)\n",
    "# eigenMatMult(A, B)\n",
    "# eigenMapMatMult(A, B)"
   ]
  },
  {
   "cell_type": "code",
   "execution_count": 9,
   "metadata": {},
   "outputs": [
    {
     "data": {
      "text/html": [
       "INFO: fold 1"
      ]
     },
     "metadata": {},
     "output_type": "display_data"
    },
    {
     "data": {
      "text/html": [
       "INFO: glmnet cv tissue1"
      ]
     },
     "metadata": {},
     "output_type": "display_data"
    },
    {
     "data": {
      "text/html": [
       "INFO: glmnet cv tissue2"
      ]
     },
     "metadata": {},
     "output_type": "display_data"
    },
    {
     "data": {
      "text/html": [
       "INFO: glmnet cv tissue3"
      ]
     },
     "metadata": {},
     "output_type": "display_data"
    },
    {
     "data": {
      "text/html": [
       "INFO: glmnet cv tissue4"
      ]
     },
     "metadata": {},
     "output_type": "display_data"
    },
    {
     "data": {
      "text/html": [
       "INFO: glmnet cv tissue5"
      ]
     },
     "metadata": {},
     "output_type": "display_data"
    },
    {
     "data": {
      "text/html": [
       "INFO: glmnet cv tissue6"
      ]
     },
     "metadata": {},
     "output_type": "display_data"
    },
    {
     "data": {
      "text/html": [
       "INFO: glmnet cv tissue7"
      ]
     },
     "metadata": {},
     "output_type": "display_data"
    },
    {
     "data": {
      "text/html": [
       "INFO: glmnet cv tissue8"
      ]
     },
     "metadata": {},
     "output_type": "display_data"
    },
    {
     "data": {
      "text/html": [
       "INFO: glmnet cv tissue9"
      ]
     },
     "metadata": {},
     "output_type": "display_data"
    },
    {
     "data": {
      "text/html": [
       "INFO: glmnet cv tissue10"
      ]
     },
     "metadata": {},
     "output_type": "display_data"
    },
    {
     "data": {
      "text/html": [
       "INFO: glmnet cv tissue11"
      ]
     },
     "metadata": {},
     "output_type": "display_data"
    },
    {
     "data": {
      "text/html": [
       "INFO: glmnet cv tissue12"
      ]
     },
     "metadata": {},
     "output_type": "display_data"
    },
    {
     "data": {
      "text/html": [
       "INFO: glmnet cv tissue13"
      ]
     },
     "metadata": {},
     "output_type": "display_data"
    },
    {
     "data": {
      "text/html": [
       "INFO: glmnet cv tissue14"
      ]
     },
     "metadata": {},
     "output_type": "display_data"
    },
    {
     "data": {
      "text/html": [
       "INFO: glmnet cv tissue15"
      ]
     },
     "metadata": {},
     "output_type": "display_data"
    },
    {
     "data": {
      "text/html": [
       "INFO: glmnet cv tissue16"
      ]
     },
     "metadata": {},
     "output_type": "display_data"
    },
    {
     "data": {
      "text/html": [
       "INFO: glmnet cv tissue17"
      ]
     },
     "metadata": {},
     "output_type": "display_data"
    },
    {
     "data": {
      "text/html": [
       "INFO: glmnet cv tissue18"
      ]
     },
     "metadata": {},
     "output_type": "display_data"
    },
    {
     "data": {
      "text/html": [
       "INFO: glmnet cv tissue19"
      ]
     },
     "metadata": {},
     "output_type": "display_data"
    },
    {
     "data": {
      "text/html": [
       "INFO: glmnet cv tissue20"
      ]
     },
     "metadata": {},
     "output_type": "display_data"
    },
    {
     "data": {
      "text/html": [
       "INFO: glmnet cv tissue21"
      ]
     },
     "metadata": {},
     "output_type": "display_data"
    },
    {
     "data": {
      "text/html": [
       "INFO: glmnet cv tissue22"
      ]
     },
     "metadata": {},
     "output_type": "display_data"
    },
    {
     "data": {
      "text/html": [
       "INFO: glmnet cv tissue23"
      ]
     },
     "metadata": {},
     "output_type": "display_data"
    },
    {
     "data": {
      "text/html": [
       "INFO: glmnet cv tissue24"
      ]
     },
     "metadata": {},
     "output_type": "display_data"
    },
    {
     "data": {
      "text/html": [
       "INFO: glmnet cv tissue25"
      ]
     },
     "metadata": {},
     "output_type": "display_data"
    },
    {
     "data": {
      "text/html": [
       "INFO: glmnet cv tissue26"
      ]
     },
     "metadata": {},
     "output_type": "display_data"
    },
    {
     "data": {
      "text/html": [
       "INFO: glmnet cv tissue27"
      ]
     },
     "metadata": {},
     "output_type": "display_data"
    },
    {
     "data": {
      "text/html": [
       "INFO: glmnet cv tissue28"
      ]
     },
     "metadata": {},
     "output_type": "display_data"
    },
    {
     "data": {
      "text/html": [
       "INFO: glmnet cv tissue29"
      ]
     },
     "metadata": {},
     "output_type": "display_data"
    },
    {
     "data": {
      "text/html": [
       "INFO: glmnet cv tissue30"
      ]
     },
     "metadata": {},
     "output_type": "display_data"
    },
    {
     "data": {
      "text/html": [
       "INFO: glmnet cv tissue31"
      ]
     },
     "metadata": {},
     "output_type": "display_data"
    },
    {
     "data": {
      "text/html": [
       "INFO: glmnet cv tissue32"
      ]
     },
     "metadata": {},
     "output_type": "display_data"
    },
    {
     "data": {
      "text/html": [
       "INFO: glmnet cv tissue33"
      ]
     },
     "metadata": {},
     "output_type": "display_data"
    },
    {
     "data": {
      "text/html": [
       "INFO: glmnet cv tissue34"
      ]
     },
     "metadata": {},
     "output_type": "display_data"
    },
    {
     "data": {
      "text/html": [
       "INFO: glmnet cv tissue35"
      ]
     },
     "metadata": {},
     "output_type": "display_data"
    },
    {
     "data": {
      "text/html": [
       "INFO: glmnet cv tissue36"
      ]
     },
     "metadata": {},
     "output_type": "display_data"
    },
    {
     "data": {
      "text/html": [
       "INFO: glmnet cv tissue37"
      ]
     },
     "metadata": {},
     "output_type": "display_data"
    },
    {
     "data": {
      "text/html": [
       "INFO: glmnet cv tissue38"
      ]
     },
     "metadata": {},
     "output_type": "display_data"
    },
    {
     "data": {
      "text/html": [
       "INFO: glmnet cv tissue39"
      ]
     },
     "metadata": {},
     "output_type": "display_data"
    },
    {
     "data": {
      "text/html": [
       "INFO: glmnet cv tissue40"
      ]
     },
     "metadata": {},
     "output_type": "display_data"
    },
    {
     "data": {
      "text/html": [
       "INFO: glmnet cv tissue41"
      ]
     },
     "metadata": {},
     "output_type": "display_data"
    },
    {
     "data": {
      "text/html": [
       "INFO: glmnet cv tissue42"
      ]
     },
     "metadata": {},
     "output_type": "display_data"
    },
    {
     "data": {
      "text/html": [
       "INFO: glmnet cv tissue43"
      ]
     },
     "metadata": {},
     "output_type": "display_data"
    },
    {
     "data": {
      "text/html": [
       "INFO: glmnet cv tissue44"
      ]
     },
     "metadata": {},
     "output_type": "display_data"
    },
    {
     "data": {
      "text/html": [
       "INFO: glmnet cv tissue45"
      ]
     },
     "metadata": {},
     "output_type": "display_data"
    },
    {
     "data": {
      "text/html": [
       "INFO: glmnet cv tissue46"
      ]
     },
     "metadata": {},
     "output_type": "display_data"
    },
    {
     "data": {
      "text/html": [
       "INFO: glmnet cv tissue47"
      ]
     },
     "metadata": {},
     "output_type": "display_data"
    },
    {
     "data": {
      "text/html": [
       "INFO: glmnet cv tissue48"
      ]
     },
     "metadata": {},
     "output_type": "display_data"
    },
    {
     "data": {
      "text/html": [
       "INFO: glmnet cv tissue49"
      ]
     },
     "metadata": {},
     "output_type": "display_data"
    }
   ],
   "source": [
    "## for(f in 1:fold){\n",
    "#for(f in 1:1){\n",
    "    # one fold \n",
    "    f = 1\n",
    "    bgt = Sys.time()\n",
    "    IRdisplay::display_html(paste0(\"INFO: fold \", f))\n",
    "    test_index = cv_perm[cv_idx[f,1]:cv_idx[f,2]]\n",
    "    test_id = sub_id[test_index]\n",
    "\n",
    "    # move the tuning idx to another idx block\n",
    "    tuning_index = cv_perm[cv_idx[f%%fold+1,1]:cv_idx[f%%fold+1,2]]\n",
    "    tuning_id = sub_id[tuning_index]\n",
    "\n",
    "    # idx list\n",
    "    X_test = list()\n",
    "    Y_test = list()\n",
    "    X_tune = list()\n",
    "    Y_tune = list()\n",
    "    X_train = list()\n",
    "    Y_train = list()\n",
    "    for(t in 1:T_num){\n",
    "        # idx matching  \n",
    "        id_filter = !(sub_id_map[[t]]%in%c(test_index,tuning_index))\n",
    "        X_train_tmp = sub_id_map[[t]][id_filter]\n",
    "        Y_train_tmp = which(sub_id_map_exp[[t]] == T)[id_filter]\n",
    "        tuning_id_filter = sub_id_map[[t]]%in%tuning_index\n",
    "        X_tuning_tmp = sub_id_map[[t]][tuning_id_filter]\n",
    "        Y_tuning_tmp = which(sub_id_map_exp[[t]] == T)[tuning_id_filter]\n",
    "        testing_id_filter = sub_id_map[[t]]%in%test_index\n",
    "        X_test_tmp = sub_id_map[[t]][testing_id_filter]\n",
    "        Y_test_tmp = which(sub_id_map_exp[[t]] == T)[testing_id_filter]\n",
    "        # training data\n",
    "        X_train[[t]] = apply(as.matrix(dose_std[,X_train_tmp]),1,as.numeric)\n",
    "        Y_train[[t]] = Y[[t]][Y_train_tmp, 2]\n",
    "        X_tune[[t]] = apply(as.matrix(dose_std[,X_tuning_tmp]),1,as.numeric)\n",
    "        Y_tune[[t]] = Y[[t]][Y_tuning_tmp, 2]\n",
    "        X_test[[t]] = apply(as.matrix(dose_std[,X_test_tmp]),1,as.numeric)\n",
    "        Y_test[[t]] = Y[[t]][Y_test_tmp, 2]\n",
    "        #IRdisplay::display_html(length(X_train_tmp))\n",
    "        #IRdisplay::display_html(length(Y_train_tmp))\n",
    "        #IRdisplay::display_html(dim(X_train[[t]]))\n",
    "        #IRdisplay::display_html(length(Y_train[[t]]))\n",
    "    }\n",
    "\n",
    "    ## model training ##\t\n",
    "    ## train elastic net and used average lambda as tuning parameters ##\n",
    "    single_initial_est = matrix(0, ncol(X_train[[1]]), T_num)\n",
    "    single_summary = list()\n",
    "    for(t in 1:T_num){\n",
    "        #print(Y_train[[t]])\n",
    "        #print(sum(is.na(X_train[[t]])))\n",
    "        IRdisplay::display_html(paste0(\"INFO: glmnet cv tissue\", t))\n",
    "        tt = cv.glmnet(X_train[[t]], Y_train[[t]], alpha = 0.5, nfolds = 5)\n",
    "        single_summary[[t]] = tt\n",
    "        single_initial_est[,t] = tt$glmnet.fit$beta[,which.min(tt$cvm)]\n",
    "    }\n",
    "    ## performance of Elastic net on tuning and testing data with various tuning parameters\n",
    "    els_output = elastic_net_mse(single_summary, X_tune, Y_tune, X_test, Y_test)\n",
    "    single_res_test[[f]] = els_output$mse\n",
    "    single_lam[f,] = els_output$lam\n",
    "    single_theta_est[[f]] = els_output$est\n",
    "    remove(els_output)\n",
    "\n",
    "    initial_numeric = as.numeric(single_initial_est)\n",
    "    lam_range = minmax_lambda(single_summary)\n",
    "    lam_V = seq(lam_range[1], lam_range[2], length.out = ntune)\n",
    "    #remove(single_summary)\n",
    "    #remove(single_initial_est)\n",
    "\n",
    "    ## preparation\n",
    "    XY = grad_prep(X_train, Y_train)"
   ]
  },
  {
   "cell_type": "code",
   "execution_count": 15,
   "metadata": {},
   "outputs": [
    {
     "data": {
      "text/html": [
       "0"
      ],
      "text/latex": [
       "0"
      ],
      "text/markdown": [
       "0"
      ],
      "text/plain": [
       "[1] 0"
      ]
     },
     "metadata": {},
     "output_type": "display_data"
    },
    {
     "data": {
      "text/html": [
       "0"
      ],
      "text/latex": [
       "0"
      ],
      "text/markdown": [
       "0"
      ],
      "text/plain": [
       "[1] 0"
      ]
     },
     "metadata": {},
     "output_type": "display_data"
    },
    {
     "data": {
      "text/html": [
       "0"
      ],
      "text/latex": [
       "0"
      ],
      "text/markdown": [
       "0"
      ],
      "text/plain": [
       "[1] 0"
      ]
     },
     "metadata": {},
     "output_type": "display_data"
    },
    {
     "data": {
      "text/html": [
       "0"
      ],
      "text/latex": [
       "0"
      ],
      "text/markdown": [
       "0"
      ],
      "text/plain": [
       "[1] 0"
      ]
     },
     "metadata": {},
     "output_type": "display_data"
    },
    {
     "data": {
      "text/html": [
       "348243"
      ],
      "text/latex": [
       "348243"
      ],
      "text/markdown": [
       "348243"
      ],
      "text/plain": [
       "[1] 348243"
      ]
     },
     "metadata": {},
     "output_type": "display_data"
    },
    {
     "data": {
      "text/html": [
       "348243"
      ],
      "text/latex": [
       "348243"
      ],
      "text/markdown": [
       "348243"
      ],
      "text/plain": [
       "[1] 348243"
      ]
     },
     "metadata": {},
     "output_type": "display_data"
    }
   ],
   "source": [
    "sum(is.infinite(single_initial_est))\n",
    "sum(is.infinite(initial_numeric))\n",
    "sum(is.na(single_initial_est))\n",
    "sum(is.na(initial_numeric))\n",
    "length(initial_numeric)\n",
    "length(single_initial_est)"
   ]
  },
  {
   "cell_type": "code",
   "execution_count": 11,
   "metadata": {},
   "outputs": [
    {
     "data": {
      "text/html": [
       "'numeric'"
      ],
      "text/latex": [
       "'numeric'"
      ],
      "text/markdown": [
       "'numeric'"
      ],
      "text/plain": [
       "[1] \"numeric\""
      ]
     },
     "metadata": {},
     "output_type": "display_data"
    }
   ],
   "source": [
    "class(initial_numeric)"
   ]
  },
  {
   "cell_type": "code",
   "execution_count": 14,
   "metadata": {},
   "outputs": [
    {
     "data": {
      "text/html": [
       "<style>\n",
       ".list-inline {list-style: none; margin:0; padding: 0}\n",
       ".list-inline>li {display: inline-block}\n",
       ".list-inline>li:not(:last-child)::after {content: \"\\00b7\"; padding: 0 .5ex}\n",
       "</style>\n",
       "<ol class=list-inline><li>0</li><li>0</li><li>0</li><li>0</li><li>0</li><li>0</li><li>0</li><li>0</li><li>0</li><li>0</li><li>0</li><li>0</li><li>0</li><li>0</li><li>0</li><li>0</li><li>0</li><li>0</li><li>0</li><li>0</li><li>0</li><li>0</li><li>0</li><li>0</li><li>0</li><li>0</li><li>0</li><li>0</li><li>0</li><li>0</li><li>0</li><li>0</li><li>0</li><li>0</li><li>0</li><li>0</li><li>0</li><li>0</li><li>0</li><li>0</li><li>0</li><li>0</li><li>0</li><li>0</li><li>0</li><li>0</li><li>0</li><li>0</li><li>0</li><li>0</li><li>0</li><li>0</li><li>0</li><li>0</li><li>0</li><li>0</li><li>0</li><li>0</li><li>0</li><li>0</li><li>0</li><li>0</li><li>0</li><li>0</li><li>0</li><li>0</li><li>0</li><li>0</li><li>0</li><li>0</li><li>0</li><li>0</li><li>0</li><li>0</li><li>0</li><li>0</li><li>0</li><li>0</li><li>0</li><li>0</li><li>0</li><li>0</li><li>0</li><li>0</li><li>0</li><li>0</li><li>0</li><li>0</li><li>0</li><li>0</li><li>0</li><li>0</li><li>0</li><li>0</li><li>0</li><li>0</li><li>0</li><li>0</li><li>0</li><li>0</li><li>0</li><li>0</li><li>0</li><li>0</li><li>0</li><li>0</li><li>0</li><li>0</li><li>0</li><li>0</li><li>0</li><li>0</li><li>0</li><li>0</li><li>0</li><li>0</li><li>0</li><li>0</li><li>0</li><li>0</li><li>0</li><li>0</li><li>0</li><li>0</li><li>0</li><li>0</li><li>0</li><li>0</li><li>0</li><li>0</li><li>0</li><li>0</li><li>0</li><li>0</li><li>0</li><li>0</li><li>0</li><li>0</li><li>0</li><li>0</li><li>0</li><li>0</li><li>0</li><li>0</li><li>0</li><li>0</li><li>0</li><li>0</li><li>0</li><li>0</li><li>0</li><li>0</li><li>0</li><li>0</li><li>0</li><li>0</li><li>0</li><li>0</li><li>0</li><li>0</li><li>0</li><li>0</li><li>0</li><li>0</li><li>0</li><li>0</li><li>0</li><li>0</li><li>0</li><li>0</li><li>0</li><li>0</li><li>0</li><li>0</li><li>0</li><li>0</li><li>0</li><li>0</li><li>0</li><li>0</li><li>0</li><li>0</li><li>0</li><li>0</li><li>0</li><li>0</li><li>0</li><li>0</li><li>0</li><li>0</li><li>0</li><li>0</li><li>0</li><li>0</li><li>0</li><li>0</li><li>0</li><li>0</li><li>0</li><li>0</li><li>0</li><li>0</li><li>0</li><li>0</li><li>0</li><li>0</li><li>0</li><li>0</li><li>0</li><li>0</li><li>0</li><li>0</li><li>0</li><li>0</li><li>0</li><li>0</li><li>0</li><li>0</li><li>0</li><li>0</li><li>0</li><li>0</li><li>0</li><li>0</li><li>0</li><li>0</li><li>0</li><li>0</li><li>0</li><li>0</li><li>0</li><li>0</li><li>0</li><li>0</li><li>0</li><li>0</li><li>-0.0455253131186458</li><li>0</li><li>0</li><li>0</li><li>0</li><li>0</li><li>0</li><li>0</li><li>0</li><li>0</li><li>0</li><li>0</li><li>0</li><li>0</li><li>0</li><li>0</li><li>0</li><li>0</li><li>0</li><li>0</li></ol>\n"
      ],
      "text/latex": [
       "\\begin{enumerate*}\n",
       "\\item 0\n",
       "\\item 0\n",
       "\\item 0\n",
       "\\item 0\n",
       "\\item 0\n",
       "\\item 0\n",
       "\\item 0\n",
       "\\item 0\n",
       "\\item 0\n",
       "\\item 0\n",
       "\\item 0\n",
       "\\item 0\n",
       "\\item 0\n",
       "\\item 0\n",
       "\\item 0\n",
       "\\item 0\n",
       "\\item 0\n",
       "\\item 0\n",
       "\\item 0\n",
       "\\item 0\n",
       "\\item 0\n",
       "\\item 0\n",
       "\\item 0\n",
       "\\item 0\n",
       "\\item 0\n",
       "\\item 0\n",
       "\\item 0\n",
       "\\item 0\n",
       "\\item 0\n",
       "\\item 0\n",
       "\\item 0\n",
       "\\item 0\n",
       "\\item 0\n",
       "\\item 0\n",
       "\\item 0\n",
       "\\item 0\n",
       "\\item 0\n",
       "\\item 0\n",
       "\\item 0\n",
       "\\item 0\n",
       "\\item 0\n",
       "\\item 0\n",
       "\\item 0\n",
       "\\item 0\n",
       "\\item 0\n",
       "\\item 0\n",
       "\\item 0\n",
       "\\item 0\n",
       "\\item 0\n",
       "\\item 0\n",
       "\\item 0\n",
       "\\item 0\n",
       "\\item 0\n",
       "\\item 0\n",
       "\\item 0\n",
       "\\item 0\n",
       "\\item 0\n",
       "\\item 0\n",
       "\\item 0\n",
       "\\item 0\n",
       "\\item 0\n",
       "\\item 0\n",
       "\\item 0\n",
       "\\item 0\n",
       "\\item 0\n",
       "\\item 0\n",
       "\\item 0\n",
       "\\item 0\n",
       "\\item 0\n",
       "\\item 0\n",
       "\\item 0\n",
       "\\item 0\n",
       "\\item 0\n",
       "\\item 0\n",
       "\\item 0\n",
       "\\item 0\n",
       "\\item 0\n",
       "\\item 0\n",
       "\\item 0\n",
       "\\item 0\n",
       "\\item 0\n",
       "\\item 0\n",
       "\\item 0\n",
       "\\item 0\n",
       "\\item 0\n",
       "\\item 0\n",
       "\\item 0\n",
       "\\item 0\n",
       "\\item 0\n",
       "\\item 0\n",
       "\\item 0\n",
       "\\item 0\n",
       "\\item 0\n",
       "\\item 0\n",
       "\\item 0\n",
       "\\item 0\n",
       "\\item 0\n",
       "\\item 0\n",
       "\\item 0\n",
       "\\item 0\n",
       "\\item 0\n",
       "\\item 0\n",
       "\\item 0\n",
       "\\item 0\n",
       "\\item 0\n",
       "\\item 0\n",
       "\\item 0\n",
       "\\item 0\n",
       "\\item 0\n",
       "\\item 0\n",
       "\\item 0\n",
       "\\item 0\n",
       "\\item 0\n",
       "\\item 0\n",
       "\\item 0\n",
       "\\item 0\n",
       "\\item 0\n",
       "\\item 0\n",
       "\\item 0\n",
       "\\item 0\n",
       "\\item 0\n",
       "\\item 0\n",
       "\\item 0\n",
       "\\item 0\n",
       "\\item 0\n",
       "\\item 0\n",
       "\\item 0\n",
       "\\item 0\n",
       "\\item 0\n",
       "\\item 0\n",
       "\\item 0\n",
       "\\item 0\n",
       "\\item 0\n",
       "\\item 0\n",
       "\\item 0\n",
       "\\item 0\n",
       "\\item 0\n",
       "\\item 0\n",
       "\\item 0\n",
       "\\item 0\n",
       "\\item 0\n",
       "\\item 0\n",
       "\\item 0\n",
       "\\item 0\n",
       "\\item 0\n",
       "\\item 0\n",
       "\\item 0\n",
       "\\item 0\n",
       "\\item 0\n",
       "\\item 0\n",
       "\\item 0\n",
       "\\item 0\n",
       "\\item 0\n",
       "\\item 0\n",
       "\\item 0\n",
       "\\item 0\n",
       "\\item 0\n",
       "\\item 0\n",
       "\\item 0\n",
       "\\item 0\n",
       "\\item 0\n",
       "\\item 0\n",
       "\\item 0\n",
       "\\item 0\n",
       "\\item 0\n",
       "\\item 0\n",
       "\\item 0\n",
       "\\item 0\n",
       "\\item 0\n",
       "\\item 0\n",
       "\\item 0\n",
       "\\item 0\n",
       "\\item 0\n",
       "\\item 0\n",
       "\\item 0\n",
       "\\item 0\n",
       "\\item 0\n",
       "\\item 0\n",
       "\\item 0\n",
       "\\item 0\n",
       "\\item 0\n",
       "\\item 0\n",
       "\\item 0\n",
       "\\item 0\n",
       "\\item 0\n",
       "\\item 0\n",
       "\\item 0\n",
       "\\item 0\n",
       "\\item 0\n",
       "\\item 0\n",
       "\\item 0\n",
       "\\item 0\n",
       "\\item 0\n",
       "\\item 0\n",
       "\\item 0\n",
       "\\item 0\n",
       "\\item 0\n",
       "\\item 0\n",
       "\\item 0\n",
       "\\item 0\n",
       "\\item 0\n",
       "\\item 0\n",
       "\\item 0\n",
       "\\item 0\n",
       "\\item 0\n",
       "\\item 0\n",
       "\\item 0\n",
       "\\item 0\n",
       "\\item 0\n",
       "\\item 0\n",
       "\\item 0\n",
       "\\item 0\n",
       "\\item 0\n",
       "\\item 0\n",
       "\\item 0\n",
       "\\item 0\n",
       "\\item 0\n",
       "\\item 0\n",
       "\\item 0\n",
       "\\item 0\n",
       "\\item 0\n",
       "\\item 0\n",
       "\\item 0\n",
       "\\item 0\n",
       "\\item 0\n",
       "\\item 0\n",
       "\\item 0\n",
       "\\item 0\n",
       "\\item 0\n",
       "\\item 0\n",
       "\\item 0\n",
       "\\item 0\n",
       "\\item 0\n",
       "\\item 0\n",
       "\\item 0\n",
       "\\item 0\n",
       "\\item -0.0455253131186458\n",
       "\\item 0\n",
       "\\item 0\n",
       "\\item 0\n",
       "\\item 0\n",
       "\\item 0\n",
       "\\item 0\n",
       "\\item 0\n",
       "\\item 0\n",
       "\\item 0\n",
       "\\item 0\n",
       "\\item 0\n",
       "\\item 0\n",
       "\\item 0\n",
       "\\item 0\n",
       "\\item 0\n",
       "\\item 0\n",
       "\\item 0\n",
       "\\item 0\n",
       "\\item 0\n",
       "\\end{enumerate*}\n"
      ],
      "text/markdown": [
       "1. 0\n",
       "2. 0\n",
       "3. 0\n",
       "4. 0\n",
       "5. 0\n",
       "6. 0\n",
       "7. 0\n",
       "8. 0\n",
       "9. 0\n",
       "10. 0\n",
       "11. 0\n",
       "12. 0\n",
       "13. 0\n",
       "14. 0\n",
       "15. 0\n",
       "16. 0\n",
       "17. 0\n",
       "18. 0\n",
       "19. 0\n",
       "20. 0\n",
       "21. 0\n",
       "22. 0\n",
       "23. 0\n",
       "24. 0\n",
       "25. 0\n",
       "26. 0\n",
       "27. 0\n",
       "28. 0\n",
       "29. 0\n",
       "30. 0\n",
       "31. 0\n",
       "32. 0\n",
       "33. 0\n",
       "34. 0\n",
       "35. 0\n",
       "36. 0\n",
       "37. 0\n",
       "38. 0\n",
       "39. 0\n",
       "40. 0\n",
       "41. 0\n",
       "42. 0\n",
       "43. 0\n",
       "44. 0\n",
       "45. 0\n",
       "46. 0\n",
       "47. 0\n",
       "48. 0\n",
       "49. 0\n",
       "50. 0\n",
       "51. 0\n",
       "52. 0\n",
       "53. 0\n",
       "54. 0\n",
       "55. 0\n",
       "56. 0\n",
       "57. 0\n",
       "58. 0\n",
       "59. 0\n",
       "60. 0\n",
       "61. 0\n",
       "62. 0\n",
       "63. 0\n",
       "64. 0\n",
       "65. 0\n",
       "66. 0\n",
       "67. 0\n",
       "68. 0\n",
       "69. 0\n",
       "70. 0\n",
       "71. 0\n",
       "72. 0\n",
       "73. 0\n",
       "74. 0\n",
       "75. 0\n",
       "76. 0\n",
       "77. 0\n",
       "78. 0\n",
       "79. 0\n",
       "80. 0\n",
       "81. 0\n",
       "82. 0\n",
       "83. 0\n",
       "84. 0\n",
       "85. 0\n",
       "86. 0\n",
       "87. 0\n",
       "88. 0\n",
       "89. 0\n",
       "90. 0\n",
       "91. 0\n",
       "92. 0\n",
       "93. 0\n",
       "94. 0\n",
       "95. 0\n",
       "96. 0\n",
       "97. 0\n",
       "98. 0\n",
       "99. 0\n",
       "100. 0\n",
       "101. 0\n",
       "102. 0\n",
       "103. 0\n",
       "104. 0\n",
       "105. 0\n",
       "106. 0\n",
       "107. 0\n",
       "108. 0\n",
       "109. 0\n",
       "110. 0\n",
       "111. 0\n",
       "112. 0\n",
       "113. 0\n",
       "114. 0\n",
       "115. 0\n",
       "116. 0\n",
       "117. 0\n",
       "118. 0\n",
       "119. 0\n",
       "120. 0\n",
       "121. 0\n",
       "122. 0\n",
       "123. 0\n",
       "124. 0\n",
       "125. 0\n",
       "126. 0\n",
       "127. 0\n",
       "128. 0\n",
       "129. 0\n",
       "130. 0\n",
       "131. 0\n",
       "132. 0\n",
       "133. 0\n",
       "134. 0\n",
       "135. 0\n",
       "136. 0\n",
       "137. 0\n",
       "138. 0\n",
       "139. 0\n",
       "140. 0\n",
       "141. 0\n",
       "142. 0\n",
       "143. 0\n",
       "144. 0\n",
       "145. 0\n",
       "146. 0\n",
       "147. 0\n",
       "148. 0\n",
       "149. 0\n",
       "150. 0\n",
       "151. 0\n",
       "152. 0\n",
       "153. 0\n",
       "154. 0\n",
       "155. 0\n",
       "156. 0\n",
       "157. 0\n",
       "158. 0\n",
       "159. 0\n",
       "160. 0\n",
       "161. 0\n",
       "162. 0\n",
       "163. 0\n",
       "164. 0\n",
       "165. 0\n",
       "166. 0\n",
       "167. 0\n",
       "168. 0\n",
       "169. 0\n",
       "170. 0\n",
       "171. 0\n",
       "172. 0\n",
       "173. 0\n",
       "174. 0\n",
       "175. 0\n",
       "176. 0\n",
       "177. 0\n",
       "178. 0\n",
       "179. 0\n",
       "180. 0\n",
       "181. 0\n",
       "182. 0\n",
       "183. 0\n",
       "184. 0\n",
       "185. 0\n",
       "186. 0\n",
       "187. 0\n",
       "188. 0\n",
       "189. 0\n",
       "190. 0\n",
       "191. 0\n",
       "192. 0\n",
       "193. 0\n",
       "194. 0\n",
       "195. 0\n",
       "196. 0\n",
       "197. 0\n",
       "198. 0\n",
       "199. 0\n",
       "200. 0\n",
       "201. 0\n",
       "202. 0\n",
       "203. 0\n",
       "204. 0\n",
       "205. 0\n",
       "206. 0\n",
       "207. 0\n",
       "208. 0\n",
       "209. 0\n",
       "210. 0\n",
       "211. 0\n",
       "212. 0\n",
       "213. 0\n",
       "214. 0\n",
       "215. 0\n",
       "216. 0\n",
       "217. 0\n",
       "218. 0\n",
       "219. 0\n",
       "220. 0\n",
       "221. 0\n",
       "222. 0\n",
       "223. 0\n",
       "224. 0\n",
       "225. 0\n",
       "226. 0\n",
       "227. 0\n",
       "228. 0\n",
       "229. 0\n",
       "230. 0\n",
       "231. 0\n",
       "232. 0\n",
       "233. 0\n",
       "234. 0\n",
       "235. 0\n",
       "236. 0\n",
       "237. -0.0455253131186458\n",
       "238. 0\n",
       "239. 0\n",
       "240. 0\n",
       "241. 0\n",
       "242. 0\n",
       "243. 0\n",
       "244. 0\n",
       "245. 0\n",
       "246. 0\n",
       "247. 0\n",
       "248. 0\n",
       "249. 0\n",
       "250. 0\n",
       "251. 0\n",
       "252. 0\n",
       "253. 0\n",
       "254. 0\n",
       "255. 0\n",
       "256. 0\n",
       "\n",
       "\n"
      ],
      "text/plain": [
       "  [1]  0.00000000  0.00000000  0.00000000  0.00000000  0.00000000  0.00000000\n",
       "  [7]  0.00000000  0.00000000  0.00000000  0.00000000  0.00000000  0.00000000\n",
       " [13]  0.00000000  0.00000000  0.00000000  0.00000000  0.00000000  0.00000000\n",
       " [19]  0.00000000  0.00000000  0.00000000  0.00000000  0.00000000  0.00000000\n",
       " [25]  0.00000000  0.00000000  0.00000000  0.00000000  0.00000000  0.00000000\n",
       " [31]  0.00000000  0.00000000  0.00000000  0.00000000  0.00000000  0.00000000\n",
       " [37]  0.00000000  0.00000000  0.00000000  0.00000000  0.00000000  0.00000000\n",
       " [43]  0.00000000  0.00000000  0.00000000  0.00000000  0.00000000  0.00000000\n",
       " [49]  0.00000000  0.00000000  0.00000000  0.00000000  0.00000000  0.00000000\n",
       " [55]  0.00000000  0.00000000  0.00000000  0.00000000  0.00000000  0.00000000\n",
       " [61]  0.00000000  0.00000000  0.00000000  0.00000000  0.00000000  0.00000000\n",
       " [67]  0.00000000  0.00000000  0.00000000  0.00000000  0.00000000  0.00000000\n",
       " [73]  0.00000000  0.00000000  0.00000000  0.00000000  0.00000000  0.00000000\n",
       " [79]  0.00000000  0.00000000  0.00000000  0.00000000  0.00000000  0.00000000\n",
       " [85]  0.00000000  0.00000000  0.00000000  0.00000000  0.00000000  0.00000000\n",
       " [91]  0.00000000  0.00000000  0.00000000  0.00000000  0.00000000  0.00000000\n",
       " [97]  0.00000000  0.00000000  0.00000000  0.00000000  0.00000000  0.00000000\n",
       "[103]  0.00000000  0.00000000  0.00000000  0.00000000  0.00000000  0.00000000\n",
       "[109]  0.00000000  0.00000000  0.00000000  0.00000000  0.00000000  0.00000000\n",
       "[115]  0.00000000  0.00000000  0.00000000  0.00000000  0.00000000  0.00000000\n",
       "[121]  0.00000000  0.00000000  0.00000000  0.00000000  0.00000000  0.00000000\n",
       "[127]  0.00000000  0.00000000  0.00000000  0.00000000  0.00000000  0.00000000\n",
       "[133]  0.00000000  0.00000000  0.00000000  0.00000000  0.00000000  0.00000000\n",
       "[139]  0.00000000  0.00000000  0.00000000  0.00000000  0.00000000  0.00000000\n",
       "[145]  0.00000000  0.00000000  0.00000000  0.00000000  0.00000000  0.00000000\n",
       "[151]  0.00000000  0.00000000  0.00000000  0.00000000  0.00000000  0.00000000\n",
       "[157]  0.00000000  0.00000000  0.00000000  0.00000000  0.00000000  0.00000000\n",
       "[163]  0.00000000  0.00000000  0.00000000  0.00000000  0.00000000  0.00000000\n",
       "[169]  0.00000000  0.00000000  0.00000000  0.00000000  0.00000000  0.00000000\n",
       "[175]  0.00000000  0.00000000  0.00000000  0.00000000  0.00000000  0.00000000\n",
       "[181]  0.00000000  0.00000000  0.00000000  0.00000000  0.00000000  0.00000000\n",
       "[187]  0.00000000  0.00000000  0.00000000  0.00000000  0.00000000  0.00000000\n",
       "[193]  0.00000000  0.00000000  0.00000000  0.00000000  0.00000000  0.00000000\n",
       "[199]  0.00000000  0.00000000  0.00000000  0.00000000  0.00000000  0.00000000\n",
       "[205]  0.00000000  0.00000000  0.00000000  0.00000000  0.00000000  0.00000000\n",
       "[211]  0.00000000  0.00000000  0.00000000  0.00000000  0.00000000  0.00000000\n",
       "[217]  0.00000000  0.00000000  0.00000000  0.00000000  0.00000000  0.00000000\n",
       "[223]  0.00000000  0.00000000  0.00000000  0.00000000  0.00000000  0.00000000\n",
       "[229]  0.00000000  0.00000000  0.00000000  0.00000000  0.00000000  0.00000000\n",
       "[235]  0.00000000  0.00000000 -0.04552531  0.00000000  0.00000000  0.00000000\n",
       "[241]  0.00000000  0.00000000  0.00000000  0.00000000  0.00000000  0.00000000\n",
       "[247]  0.00000000  0.00000000  0.00000000  0.00000000  0.00000000  0.00000000\n",
       "[253]  0.00000000  0.00000000  0.00000000  0.00000000"
      ]
     },
     "metadata": {},
     "output_type": "display_data"
    }
   ],
   "source": [
    "initial_numeric[1:256]"
   ]
  },
  {
   "cell_type": "code",
   "execution_count": 16,
   "metadata": {},
   "outputs": [
    {
     "data": {
      "image/png": "[encoded data removed]",
      "text/plain": [
       "Plot with title “Histogram of initial_numeric”"
      ]
     },
     "metadata": {
      "image/png": {
       "height": 420,
       "width": 420
      },
      "text/plain": {
       "height": 420,
       "width": 420
      }
     },
     "output_type": "display_data"
    }
   ],
   "source": [
    "hist(initial_numeric)"
   ]
  },
  {
   "cell_type": "code",
   "execution_count": 17,
   "metadata": {},
   "outputs": [
    {
     "name": "stdout",
     "output_type": "stream",
     "text": [
      "Time difference of 1.583017 mins\n"
     ]
    },
    {
     "data": {
      "text/html": [
       "INFO: tuning "
      ]
     },
     "metadata": {},
     "output_type": "display_data"
    },
    {
     "data": {
      "text/html": [
       "Training error: 12.7501624583751\n"
      ]
     },
     "metadata": {},
     "output_type": "display_data"
    },
    {
     "data": {
      "text/html": [
       "Testing error: 19.1527581743537\n"
      ]
     },
     "metadata": {},
     "output_type": "display_data"
    },
    {
     "data": {
      "text/html": [
       "Training error: NaN\n"
      ]
     },
     "metadata": {},
     "output_type": "display_data"
    },
    {
     "data": {
      "text/html": [
       "Testing error: NaN\n"
      ]
     },
     "metadata": {},
     "output_type": "display_data"
    },
    {
     "ename": "ERROR",
     "evalue": "Error in if (new_objV2 > old_objV2 | new_objV1 > old_objV1) {: missing value where TRUE/FALSE needed\n",
     "output_type": "error",
     "traceback": [
      "Error in if (new_objV2 > old_objV2 | new_objV1 > old_objV1) {: missing value where TRUE/FALSE needed\nTraceback:\n",
      "1. glasso(X = X_train, Y = Y_train, X1 = X_tune, Y1 = Y_tune, XX = XX_train, \n .     XY = XY, Xnorm = Xnorm, lambda1 = lam_V[lam], lambda2 = lam_V[lam], \n .     theta = single_est)"
     ]
    }
   ],
   "source": [
    "\n",
    "bgt = Sys.time()\n",
    "    XX_train = lapply(X_train, function(x) { eigenMatMult(t(x), x)/nrow(x)})\n",
    "edt = Sys.time()\n",
    "print(edt-bgt)\n",
    "\n",
    "\n",
    "res_tune = rep(0, ntune)\n",
    "best.lam = 0\n",
    "\n",
    "#\t\tbgt = Sys.time()\n",
    "IRdisplay::display_html(paste0(\"INFO: tuning \"))\n",
    "for(lam in 1:ntune){\n",
    "    single_est = matrix(initial_numeric, M, P)\n",
    "    ans = glasso(X=X_train, Y=Y_train, X1=X_tune, Y1=Y_tune, XX=XX_train, XY=XY, Xnorm=Xnorm, lambda1=lam_V[lam], lambda2=lam_V[lam], theta=single_est)\n",
    "    res_tune[lam] = ans$tune_err\n",
    "    remove(single_est); remove(ans);\n",
    "}\n",
    "#\t\tedt = Sys.time()\n",
    "#\t\tprint(edt-bgt)\n",
    "\n",
    "best.lam = lam_V[which.min(res_tune)]\n",
    "single_est = matrix(initial_numeric, M, P)\n",
    "ans = glasso(X=X_train, Y=Y_train, X1=X_tune, Y1=Y_tune, XX=XX_train, XY=XY, Xnorm=Xnorm, lambda1=best.lam, lambda2=best.lam, theta=single_est)\n",
    "multi_res_test[[f]] = multi_mse(ans$est, X_test, Y_test)\n",
    "multi_lam[f] = best.lam\n",
    "multi_theta_est[[f]] = ans$est\n",
    "remove(single_est)\n",
    "remove(ans)\n",
    "edt = Sys.time()\n",
    "print(edt-bgt)\n",
    "#}"
   ]
  },
  {
   "cell_type": "code",
   "execution_count": 18,
   "metadata": {},
   "outputs": [
    {
     "data": {
      "text/html": [
       "0"
      ],
      "text/latex": [
       "0"
      ],
      "text/markdown": [
       "0"
      ],
      "text/plain": [
       "[1] 0"
      ]
     },
     "metadata": {},
     "output_type": "display_data"
    },
    {
     "data": {
      "text/html": [
       "0"
      ],
      "text/latex": [
       "0"
      ],
      "text/markdown": [
       "0"
      ],
      "text/plain": [
       "[1] 0"
      ]
     },
     "metadata": {},
     "output_type": "display_data"
    },
    {
     "data": {
      "text/html": [
       "0"
      ],
      "text/latex": [
       "0"
      ],
      "text/markdown": [
       "0"
      ],
      "text/plain": [
       "[1] 0"
      ]
     },
     "metadata": {},
     "output_type": "display_data"
    },
    {
     "data": {
      "text/html": [
       "0"
      ],
      "text/latex": [
       "0"
      ],
      "text/markdown": [
       "0"
      ],
      "text/plain": [
       "[1] 0"
      ]
     },
     "metadata": {},
     "output_type": "display_data"
    },
    {
     "data": {
      "text/html": [
       "348243"
      ],
      "text/latex": [
       "348243"
      ],
      "text/markdown": [
       "348243"
      ],
      "text/plain": [
       "[1] 348243"
      ]
     },
     "metadata": {},
     "output_type": "display_data"
    },
    {
     "data": {
      "text/html": [
       "348243"
      ],
      "text/latex": [
       "348243"
      ],
      "text/markdown": [
       "348243"
      ],
      "text/plain": [
       "[1] 348243"
      ]
     },
     "metadata": {},
     "output_type": "display_data"
    }
   ],
   "source": [
    "sum(is.infinite(single_initial_est))\n",
    "sum(is.infinite(initial_numeric))\n",
    "sum(is.na(single_initial_est))\n",
    "sum(is.na(initial_numeric))\n",
    "length(initial_numeric)\n",
    "length(single_initial_est)"
   ]
  },
  {
   "cell_type": "code",
   "execution_count": 20,
   "metadata": {},
   "outputs": [
    {
     "data": {
      "text/html": [
       "211"
      ],
      "text/latex": [
       "211"
      ],
      "text/markdown": [
       "211"
      ],
      "text/plain": [
       "[1] 211"
      ]
     },
     "metadata": {},
     "output_type": "display_data"
    },
    {
     "data": {
      "text/html": [
       "48"
      ],
      "text/latex": [
       "48"
      ],
      "text/markdown": [
       "48"
      ],
      "text/plain": [
       "[1] 48"
      ]
     },
     "metadata": {},
     "output_type": "display_data"
    }
   ],
   "source": [
    "sum(is.infinite(single_est))\n",
    "sum(is.na(single_est))\n",
    "\n"
   ]
  },
  {
   "cell_type": "code",
   "execution_count": null,
   "metadata": {},
   "outputs": [],
   "source": []
  },
  {
   "cell_type": "code",
   "execution_count": null,
   "metadata": {},
   "outputs": [],
   "source": []
  },
  {
   "cell_type": "code",
   "execution_count": null,
   "metadata": {},
   "outputs": [],
   "source": [
    "sum(is.na(single_initial_est))a"
   ]
  },
  {
   "cell_type": "code",
   "execution_count": 23,
   "metadata": {},
   "outputs": [
    {
     "data": {
      "text/html": [
       "Training error: 12.7501624583751\n"
      ]
     },
     "metadata": {},
     "output_type": "display_data"
    },
    {
     "data": {
      "text/html": [
       "Testing error: 19.1527581743537\n"
      ]
     },
     "metadata": {},
     "output_type": "display_data"
    },
    {
     "data": {
      "text/html": [
       0,
       0,
       0,
       0,
       0,
       0,
       0,
       0,
       0,
       0,
       0,
       0,
       0,
       0,
       0,
       0,
       0,
       0,
       0,
       0,
       0,
       0,
       0,
       0,
       0,
       0,
       0,
       0,
       0,
       0,
       0,
       0,
       0,
       0,
       0,
       0,
       0,
       0,
       0,
       0,
       0,
       0,
       0,
       0,
       0,
       0,
       0,
       0,
       0
      ]
     },
     "metadata": {},
     "output_type": "display_data"
    },
    {
     "name": "stderr",
     "output_type": "stream",
     "text": [
      "Warning message in if (theta[]) new_objV1 = new_objV1 + 1/2 * mean((Y[[t]] - X[[t]] %*% :\n",
      "“the condition has length > 1 and only the first element will be used”\n",
      "Warning message in if (theta[]) new_objV1 = new_objV1 + 1/2 * mean((Y[[t]] - X[[t]] %*% :\n",
      "“the condition has length > 1 and only the first element will be used”\n",
      "Warning message in if (theta[]) new_objV1 = new_objV1 + 1/2 * mean((Y[[t]] - X[[t]] %*% :\n",
      "“the condition has length > 1 and only the first element will be used”\n",
      "Warning message in if (theta[]) new_objV1 = new_objV1 + 1/2 * mean((Y[[t]] - X[[t]] %*% :\n",
      "“the condition has length > 1 and only the first element will be used”\n",
      "Warning message in if (theta[]) new_objV1 = new_objV1 + 1/2 * mean((Y[[t]] - X[[t]] %*% :\n",
      "“the condition has length > 1 and only the first element will be used”\n",
      "Warning message in if (theta[]) new_objV1 = new_objV1 + 1/2 * mean((Y[[t]] - X[[t]] %*% :\n",
      "“the condition has length > 1 and only the first element will be used”\n",
      "Warning message in if (theta[]) new_objV1 = new_objV1 + 1/2 * mean((Y[[t]] - X[[t]] %*% :\n",
      "“the condition has length > 1 and only the first element will be used”\n",
      "Warning message in if (theta[]) new_objV1 = new_objV1 + 1/2 * mean((Y[[t]] - X[[t]] %*% :\n",
      "“the condition has length > 1 and only the first element will be used”\n",
      "Warning message in if (theta[]) new_objV1 = new_objV1 + 1/2 * mean((Y[[t]] - X[[t]] %*% :\n",
      "“the condition has length > 1 and only the first element will be used”\n",
      "Warning message in if (theta[]) new_objV1 = new_objV1 + 1/2 * mean((Y[[t]] - X[[t]] %*% :\n",
      "“the condition has length > 1 and only the first element will be used”\n",
      "Warning message in if (theta[]) new_objV1 = new_objV1 + 1/2 * mean((Y[[t]] - X[[t]] %*% :\n",
      "“the condition has length > 1 and only the first element will be used”\n",
      "Warning message in if (theta[]) new_objV1 = new_objV1 + 1/2 * mean((Y[[t]] - X[[t]] %*% :\n",
      "“the condition has length > 1 and only the first element will be used”\n",
      "Warning message in if (theta[]) new_objV1 = new_objV1 + 1/2 * mean((Y[[t]] - X[[t]] %*% :\n",
      "“the condition has length > 1 and only the first element will be used”\n",
      "Warning message in if (theta[]) new_objV1 = new_objV1 + 1/2 * mean((Y[[t]] - X[[t]] %*% :\n",
      "“the condition has length > 1 and only the first element will be used”\n",
      "Warning message in if (theta[]) new_objV1 = new_objV1 + 1/2 * mean((Y[[t]] - X[[t]] %*% :\n",
      "“the condition has length > 1 and only the first element will be used”\n",
      "Warning message in if (theta[]) new_objV1 = new_objV1 + 1/2 * mean((Y[[t]] - X[[t]] %*% :\n",
      "“the condition has length > 1 and only the first element will be used”\n",
      "Warning message in if (theta[]) new_objV1 = new_objV1 + 1/2 * mean((Y[[t]] - X[[t]] %*% :\n",
      "“the condition has length > 1 and only the first element will be used”\n",
      "Warning message in if (theta[]) new_objV1 = new_objV1 + 1/2 * mean((Y[[t]] - X[[t]] %*% :\n",
      "“the condition has length > 1 and only the first element will be used”\n",
      "Warning message in if (theta[]) new_objV1 = new_objV1 + 1/2 * mean((Y[[t]] - X[[t]] %*% :\n",
      "“the condition has length > 1 and only the first element will be used”\n",
      "Warning message in if (theta[]) new_objV1 = new_objV1 + 1/2 * mean((Y[[t]] - X[[t]] %*% :\n",
      "“the condition has length > 1 and only the first element will be used”\n",
      "Warning message in if (theta[]) new_objV1 = new_objV1 + 1/2 * mean((Y[[t]] - X[[t]] %*% :\n",
      "“the condition has length > 1 and only the first element will be used”\n",
      "Warning message in if (theta[]) new_objV1 = new_objV1 + 1/2 * mean((Y[[t]] - X[[t]] %*% :\n",
      "“the condition has length > 1 and only the first element will be used”\n",
      "Warning message in if (theta[]) new_objV1 = new_objV1 + 1/2 * mean((Y[[t]] - X[[t]] %*% :\n",
      "“the condition has length > 1 and only the first element will be used”\n",
      "Warning message in if (theta[]) new_objV1 = new_objV1 + 1/2 * mean((Y[[t]] - X[[t]] %*% :\n",
      "“the condition has length > 1 and only the first element will be used”\n",
      "Warning message in if (theta[]) new_objV1 = new_objV1 + 1/2 * mean((Y[[t]] - X[[t]] %*% :\n",
      "“the condition has length > 1 and only the first element will be used”\n",
      "Warning message in if (theta[]) new_objV1 = new_objV1 + 1/2 * mean((Y[[t]] - X[[t]] %*% :\n",
      "“the condition has length > 1 and only the first element will be used”\n",
      "Warning message in if (theta[]) new_objV1 = new_objV1 + 1/2 * mean((Y[[t]] - X[[t]] %*% :\n",
      "“the condition has length > 1 and only the first element will be used”\n",
      "Warning message in if (theta[]) new_objV1 = new_objV1 + 1/2 * mean((Y[[t]] - X[[t]] %*% :\n",
      "“the condition has length > 1 and only the first element will be used”\n",
      "Warning message in if (theta[]) new_objV1 = new_objV1 + 1/2 * mean((Y[[t]] - X[[t]] %*% :\n",
      "“the condition has length > 1 and only the first element will be used”\n",
      "Warning message in if (theta[]) new_objV1 = new_objV1 + 1/2 * mean((Y[[t]] - X[[t]] %*% :\n",
      "“the condition has length > 1 and only the first element will be used”\n",
      "Warning message in if (theta[]) new_objV1 = new_objV1 + 1/2 * mean((Y[[t]] - X[[t]] %*% :\n",
      "“the condition has length > 1 and only the first element will be used”\n",
      "Warning message in if (theta[]) new_objV1 = new_objV1 + 1/2 * mean((Y[[t]] - X[[t]] %*% :\n",
      "“the condition has length > 1 and only the first element will be used”\n",
      "Warning message in if (theta[]) new_objV1 = new_objV1 + 1/2 * mean((Y[[t]] - X[[t]] %*% :\n",
      "“the condition has length > 1 and only the first element will be used”\n",
      "Warning message in if (theta[]) new_objV1 = new_objV1 + 1/2 * mean((Y[[t]] - X[[t]] %*% :\n",
      "“the condition has length > 1 and only the first element will be used”\n",
      "Warning message in if (theta[]) new_objV1 = new_objV1 + 1/2 * mean((Y[[t]] - X[[t]] %*% :\n",
      "“the condition has length > 1 and only the first element will be used”\n",
      "Warning message in if (theta[]) new_objV1 = new_objV1 + 1/2 * mean((Y[[t]] - X[[t]] %*% :\n",
      "“the condition has length > 1 and only the first element will be used”\n",
      "Warning message in if (theta[]) new_objV1 = new_objV1 + 1/2 * mean((Y[[t]] - X[[t]] %*% :\n",
      "“the condition has length > 1 and only the first element will be used”\n",
      "Warning message in if (theta[]) new_objV1 = new_objV1 + 1/2 * mean((Y[[t]] - X[[t]] %*% :\n",
      "“the condition has length > 1 and only the first element will be used”\n",
      "Warning message in if (theta[]) new_objV1 = new_objV1 + 1/2 * mean((Y[[t]] - X[[t]] %*% :\n",
      "“the condition has length > 1 and only the first element will be used”\n",
      "Warning message in if (theta[]) new_objV1 = new_objV1 + 1/2 * mean((Y[[t]] - X[[t]] %*% :\n",
      "“the condition has length > 1 and only the first element will be used”\n",
      "Warning message in if (theta[]) new_objV1 = new_objV1 + 1/2 * mean((Y[[t]] - X[[t]] %*% :\n",
      "“the condition has length > 1 and only the first element will be used”\n",
      "Warning message in if (theta[]) new_objV1 = new_objV1 + 1/2 * mean((Y[[t]] - X[[t]] %*% :\n",
      "“the condition has length > 1 and only the first element will be used”\n",
      "Warning message in if (theta[]) new_objV1 = new_objV1 + 1/2 * mean((Y[[t]] - X[[t]] %*% :\n",
      "“the condition has length > 1 and only the first element will be used”\n",
      "Warning message in if (theta[]) new_objV1 = new_objV1 + 1/2 * mean((Y[[t]] - X[[t]] %*% :\n",
      "“the condition has length > 1 and only the first element will be used”\n",
      "Warning message in if (theta[]) new_objV1 = new_objV1 + 1/2 * mean((Y[[t]] - X[[t]] %*% :\n",
      "“the condition has length > 1 and only the first element will be used”\n",
      "Warning message in if (theta[]) new_objV1 = new_objV1 + 1/2 * mean((Y[[t]] - X[[t]] %*% :\n",
      "“the condition has length > 1 and only the first element will be used”\n",
      "Warning message in if (theta[]) new_objV1 = new_objV1 + 1/2 * mean((Y[[t]] - X[[t]] %*% :\n",
      "“the condition has length > 1 and only the first element will be used”\n",
      "Warning message in if (theta[]) new_objV1 = new_objV1 + 1/2 * mean((Y[[t]] - X[[t]] %*% :\n",
      "“the condition has length > 1 and only the first element will be used”\n",
      "Warning message in if (theta[]) new_objV1 = new_objV1 + 1/2 * mean((Y[[t]] - X[[t]] %*% :\n",
      "“the condition has length > 1 and only the first element will be used”\n"
     ]
    },
    {
     "data": {
      "text/html": [
       "Training error: NaN\n"
      ]
     },
     "metadata": {},
     "output_type": "display_data"
    },
    {
     "data": {
      "text/html": [
       "Testing error: NaN\n"
      ]
     },
     "metadata": {},
     "output_type": "display_data"
    },
    {
     "ename": "ERROR",
     "evalue": "Error in if (new_objV2 > old_objV2 | new_objV1 > old_objV1) {: missing value where TRUE/FALSE needed\n",
     "output_type": "error",
     "traceback": [
      "Error in if (new_objV2 > old_objV2 | new_objV1 > old_objV1) {: missing value where TRUE/FALSE needed\nTraceback:\n"
     ]
    }
   ],
   "source": [
    "# parameters\n",
    "lam = 1\n",
    "X=X_train\n",
    "Y=Y_train\n",
    "X1=X_tune\n",
    "Y1=Y_tune\n",
    "XX=XX_train\n",
    "XY=XY\n",
    "Xnorm=Xnorm\n",
    "lambda1=lam_V[lam]\n",
    "lambda2=lam_V[lam]\n",
    "single_est = matrix(initial_numeric, M, P)\n",
    "theta=single_est\n",
    "maxiter = 10\n",
    "\n",
    "# wrapper function \n",
    "#dyn.load(\"/ysm-gpfs/pi/zhao/zy92/projects/utmost_update/CTIMP/optim.so\")\n",
    "dyn.load(\"/gpfs/project/zhao/zy92/utmost_update/CTIMP/optim.so\")\n",
    "\n",
    "bgt = Sys.time()\n",
    "M = nrow(XY)\n",
    "P = length(X)\n",
    "NN = unlist(lapply(X, nrow))\n",
    "old_objV1 = 0\n",
    "for(t in 1:P){\n",
    "    old_objV1 = old_objV1 + 1/2*mean((Y[[t]]-X[[t]]%*%theta[,t])^2)\n",
    "}\n",
    "IRdisplay::display_html(paste0(\"Training error: \", old_objV1, '\\n'))\n",
    "old_objV2 = 0\n",
    "for(t in 1:P){\n",
    "    old_objV2 = old_objV2 + 1/2*mean((Y1[[t]]-X1[[t]]%*%theta[,t])^2)\n",
    "}\n",
    "IRdisplay::display_html(paste0(\"Testing error: \", old_objV2, '\\n'))\n",
    "beta_j_lasso = rep(0, P)\n",
    "beta_j_lasso_matrix = rep(0, M*P)\n",
    "output_res = rep(0, P)\n",
    "tmp_XYj = 0\n",
    "\n",
    "for(i in 1:maxiter){\n",
    "    bgt = Sys.time()\n",
    "    res = .Call(\"wrapper\", XX, XY, theta, M, P, beta_j_lasso, beta_j_lasso_matrix, lambda1, lambda2, Xnorm, output_res)\n",
    "    #IRdisplay::display_html(res)\n",
    "    edt = Sys.time()\n",
    "    #print(edt-bgt)\n",
    "    IRdisplay::display_html(beta_j_lasso)\n",
    "    #IRdisplay::display_html(theta[1:6, 1:6])\n",
    "    new_objV1 = new_objV2 = 0\n",
    "    for(t in 1:P){\n",
    "        if (theta[])\n",
    "        new_objV1 = new_objV1 + 1/2*mean((Y[[t]]-X[[t]]%*%theta[,t])^2)\n",
    "        #IRdisplay::display_html(sum(is.na(X[[t]])))\n",
    "        #IRdisplay::display_html(sum(is.na(Y[[t]])))\n",
    "        #IRdisplay::display_html(theta[,t])\n",
    "    }\n",
    "    IRdisplay::display_html(paste0(\"Training error: \", new_objV1, '\\n'))\n",
    "    for(t in 1:P){\n",
    "        new_objV2 = new_objV2 + 1/2*mean((Y1[[t]]-X1[[t]]%*%theta[,t])^2)\n",
    "        #IRdisplay::display_html(sum(is.na(X[[t]])))\n",
    "        #IRdisplay::display_html(sum(is.na(Y[[t]])))\n",
    "        #IRdisplay::display_html(theta[,t])\n",
    "    }\n",
    "    IRdisplay::display_html(paste0(\"Testing error: \", new_objV2, '\\n'))\n",
    "    if(new_objV2 > old_objV2|new_objV1 > old_objV1){\n",
    "        break\n",
    "    }else{\n",
    "        old_objV2 = new_objV2\n",
    "    }\n",
    "    if(abs(new_objV1-old_objV1) < eps){\n",
    "        break\n",
    "    }else{\n",
    "        old_objV1 = new_objV1\n",
    "    }\n",
    "}\n",
    "#edt = Sys.time()\n",
    "#print(edt-bgt)\n",
    "#list(est = theta, tune_err = new_objV2)"
   ]
  },
  {
   "cell_type": "code",
   "execution_count": 24,
   "metadata": {},
   "outputs": [
    {
     "data": {
      "text/html": [
       "211"
      ],
      "text/latex": [
       "211"
      ],
      "text/markdown": [
       "211"
      ],
      "text/plain": [
       "[1] 211"
      ]
     },
     "metadata": {},
     "output_type": "display_data"
    },
    {
     "data": {
      "text/html": [
       "48"
      ],
      "text/latex": [
       "48"
      ],
      "text/markdown": [
       "48"
      ],
      "text/plain": [
       "[1] 48"
      ]
     },
     "metadata": {},
     "output_type": "display_data"
    }
   ],
   "source": [
    "sum(is.infinite(single_est))\n",
    "sum(is.na(single_est))\n",
    "\n"
   ]
  },
  {
   "cell_type": "code",
   "execution_count": 26,
   "metadata": {},
   "outputs": [
    {
     "data": {
      "text/html": [
       "211"
      ],
      "text/latex": [
       "211"
      ],
      "text/markdown": [
       "211"
      ],
      "text/plain": [
       "[1] 211"
      ]
     },
     "metadata": {},
     "output_type": "display_data"
    },
    {
     "data": {
      "text/html": [
       "48"
      ],
      "text/latex": [
       "48"
      ],
      "text/markdown": [
       "48"
      ],
      "text/plain": [
       "[1] 48"
      ]
     },
     "metadata": {},
     "output_type": "display_data"
    }
   ],
   "source": [
    "sum(is.infinite(theta))\n",
    "sum(is.na(theta))\n",
    "\n"
   ]
  },
  {
   "cell_type": "code",
   "execution_count": 25,
   "metadata": {},
   "outputs": [
    {
     "data": {
      "text/html": [
       "348243"
      ],
      "text/latex": [
       "348243"
      ],
      "text/markdown": [
       "348243"
      ],
      "text/plain": [
       "[1] 348243"
      ]
     },
     "metadata": {},
     "output_type": "display_data"
    },
    {
     "data": {
      "text/html": [
       "306921"
      ],
      "text/latex": [
       "306921"
      ],
      "text/markdown": [
       "306921"
      ],
      "text/plain": [
       "[1] 306921"
      ]
     },
     "metadata": {},
     "output_type": "display_data"
    },
    {
     "data": {
      "text/html": [
       "162"
      ],
      "text/latex": [
       "162"
      ],
      "text/markdown": [
       "162"
      ],
      "text/plain": [
       "[1] 162"
      ]
     },
     "metadata": {},
     "output_type": "display_data"
    }
   ],
   "source": [
    "length(beta_j_lasso_matrix)\n",
    "sum(is.na(beta_j_lasso_matrix))\n",
    "sum(is.infinite(beta_j_lasso_matrix))"
   ]
  },
  {
   "cell_type": "code",
   "execution_count": 26,
   "metadata": {},
   "outputs": [
    {
     "data": {
      "text/html": [
       "<ol>\n",
       "\t<li>0</li>\n",
       "\t<li>0</li>\n",
       "\t<li>0</li>\n",
       "\t<li>0</li>\n",
       "\t<li>0</li>\n",
       "\t<li>0</li>\n",
       "\t<li>0</li>\n",
       "\t<li>0</li>\n",
       "\t<li>0</li>\n",
       "\t<li>0</li>\n",
       "\t<li>0</li>\n",
       "\t<li>0</li>\n",
       "\t<li>0</li>\n",
       "\t<li>0</li>\n",
       "\t<li>0</li>\n",
       "\t<li>0</li>\n",
       "\t<li>0</li>\n",
       "\t<li>0</li>\n",
       "\t<li>0</li>\n",
       "\t<li>0</li>\n",
       "\t<li>0</li>\n",
       "\t<li>0</li>\n",
       "\t<li>0</li>\n",
       "\t<li>0</li>\n",
       "\t<li>0</li>\n",
       "\t<li>0</li>\n",
       "\t<li>0</li>\n",
       "\t<li>0</li>\n",
       "\t<li>0</li>\n",
       "\t<li>0</li>\n",
       "\t<li>0</li>\n",
       "\t<li>0</li>\n",
       "\t<li>0</li>\n",
       "\t<li>0</li>\n",
       "\t<li>0</li>\n",
       "\t<li>0</li>\n",
       "\t<li>0</li>\n",
       "\t<li>0</li>\n",
       "\t<li>0</li>\n",
       "\t<li>0</li>\n",
       "\t<li>0</li>\n",
       "\t<li>0</li>\n",
       "\t<li>0</li>\n",
       "\t<li>0</li>\n",
       "\t<li>0</li>\n",
       "\t<li>0</li>\n",
       "\t<li>0</li>\n",
       "\t<li>0</li>\n",
       "\t<li>0</li>\n",
       "</ol>\n"
      ],
      "text/latex": [
       "\\begin{enumerate}\n",
       "\\item 0\n",
       "\\item 0\n",
       "\\item 0\n",
       "\\item 0\n",
       "\\item 0\n",
       "\\item 0\n",
       "\\item 0\n",
       "\\item 0\n",
       "\\item 0\n",
       "\\item 0\n",
       "\\item 0\n",
       "\\item 0\n",
       "\\item 0\n",
       "\\item 0\n",
       "\\item 0\n",
       "\\item 0\n",
       "\\item 0\n",
       "\\item 0\n",
       "\\item 0\n",
       "\\item 0\n",
       "\\item 0\n",
       "\\item 0\n",
       "\\item 0\n",
       "\\item 0\n",
       "\\item 0\n",
       "\\item 0\n",
       "\\item 0\n",
       "\\item 0\n",
       "\\item 0\n",
       "\\item 0\n",
       "\\item 0\n",
       "\\item 0\n",
       "\\item 0\n",
       "\\item 0\n",
       "\\item 0\n",
       "\\item 0\n",
       "\\item 0\n",
       "\\item 0\n",
       "\\item 0\n",
       "\\item 0\n",
       "\\item 0\n",
       "\\item 0\n",
       "\\item 0\n",
       "\\item 0\n",
       "\\item 0\n",
       "\\item 0\n",
       "\\item 0\n",
       "\\item 0\n",
       "\\item 0\n",
       "\\end{enumerate}\n"
      ],
      "text/markdown": [
       "1. 0\n",
       "2. 0\n",
       "3. 0\n",
       "4. 0\n",
       "5. 0\n",
       "6. 0\n",
       "7. 0\n",
       "8. 0\n",
       "9. 0\n",
       "10. 0\n",
       "11. 0\n",
       "12. 0\n",
       "13. 0\n",
       "14. 0\n",
       "15. 0\n",
       "16. 0\n",
       "17. 0\n",
       "18. 0\n",
       "19. 0\n",
       "20. 0\n",
       "21. 0\n",
       "22. 0\n",
       "23. 0\n",
       "24. 0\n",
       "25. 0\n",
       "26. 0\n",
       "27. 0\n",
       "28. 0\n",
       "29. 0\n",
       "30. 0\n",
       "31. 0\n",
       "32. 0\n",
       "33. 0\n",
       "34. 0\n",
       "35. 0\n",
       "36. 0\n",
       "37. 0\n",
       "38. 0\n",
       "39. 0\n",
       "40. 0\n",
       "41. 0\n",
       "42. 0\n",
       "43. 0\n",
       "44. 0\n",
       "45. 0\n",
       "46. 0\n",
       "47. 0\n",
       "48. 0\n",
       "49. 0\n",
       "\n",
       "\n"
      ],
      "text/plain": [
       "[[1]]\n",
       "[1] 0\n",
       "\n",
       "[[2]]\n",
       "[1] 0\n",
       "\n",
       "[[3]]\n",
       "[1] 0\n",
       "\n",
       "[[4]]\n",
       "[1] 0\n",
       "\n",
       "[[5]]\n",
       "[1] 0\n",
       "\n",
       "[[6]]\n",
       "[1] 0\n",
       "\n",
       "[[7]]\n",
       "[1] 0\n",
       "\n",
       "[[8]]\n",
       "[1] 0\n",
       "\n",
       "[[9]]\n",
       "[1] 0\n",
       "\n",
       "[[10]]\n",
       "[1] 0\n",
       "\n",
       "[[11]]\n",
       "[1] 0\n",
       "\n",
       "[[12]]\n",
       "[1] 0\n",
       "\n",
       "[[13]]\n",
       "[1] 0\n",
       "\n",
       "[[14]]\n",
       "[1] 0\n",
       "\n",
       "[[15]]\n",
       "[1] 0\n",
       "\n",
       "[[16]]\n",
       "[1] 0\n",
       "\n",
       "[[17]]\n",
       "[1] 0\n",
       "\n",
       "[[18]]\n",
       "[1] 0\n",
       "\n",
       "[[19]]\n",
       "[1] 0\n",
       "\n",
       "[[20]]\n",
       "[1] 0\n",
       "\n",
       "[[21]]\n",
       "[1] 0\n",
       "\n",
       "[[22]]\n",
       "[1] 0\n",
       "\n",
       "[[23]]\n",
       "[1] 0\n",
       "\n",
       "[[24]]\n",
       "[1] 0\n",
       "\n",
       "[[25]]\n",
       "[1] 0\n",
       "\n",
       "[[26]]\n",
       "[1] 0\n",
       "\n",
       "[[27]]\n",
       "[1] 0\n",
       "\n",
       "[[28]]\n",
       "[1] 0\n",
       "\n",
       "[[29]]\n",
       "[1] 0\n",
       "\n",
       "[[30]]\n",
       "[1] 0\n",
       "\n",
       "[[31]]\n",
       "[1] 0\n",
       "\n",
       "[[32]]\n",
       "[1] 0\n",
       "\n",
       "[[33]]\n",
       "[1] 0\n",
       "\n",
       "[[34]]\n",
       "[1] 0\n",
       "\n",
       "[[35]]\n",
       "[1] 0\n",
       "\n",
       "[[36]]\n",
       "[1] 0\n",
       "\n",
       "[[37]]\n",
       "[1] 0\n",
       "\n",
       "[[38]]\n",
       "[1] 0\n",
       "\n",
       "[[39]]\n",
       "[1] 0\n",
       "\n",
       "[[40]]\n",
       "[1] 0\n",
       "\n",
       "[[41]]\n",
       "[1] 0\n",
       "\n",
       "[[42]]\n",
       "[1] 0\n",
       "\n",
       "[[43]]\n",
       "[1] 0\n",
       "\n",
       "[[44]]\n",
       "[1] 0\n",
       "\n",
       "[[45]]\n",
       "[1] 0\n",
       "\n",
       "[[46]]\n",
       "[1] 0\n",
       "\n",
       "[[47]]\n",
       "[1] 0\n",
       "\n",
       "[[48]]\n",
       "[1] 0\n",
       "\n",
       "[[49]]\n",
       "[1] 0\n"
      ]
     },
     "metadata": {},
     "output_type": "display_data"
    }
   ],
   "source": [
    "lapply(XX_train, function(x) sum(is.na(x)))\n",
    "\n"
   ]
  },
  {
   "cell_type": "code",
   "execution_count": 35,
   "metadata": {},
   "outputs": [],
   "source": [
    "# inner product of x_t"
   ]
  },
  {
   "cell_type": "code",
   "execution_count": 65,
   "metadata": {},
   "outputs": [
    {
     "data": {
      "text/html": [
       "<style>\n",
       ".list-inline {list-style: none; margin:0; padding: 0}\n",
       ".list-inline>li {display: inline-block}\n",
       ".list-inline>li:not(:last-child)::after {content: \"\\00b7\"; padding: 0 .5ex}\n",
       "</style>\n",
       "<ol class=list-inline><li>7107</li><li>49</li></ol>\n"
      ],
      "text/latex": [
       "\\begin{enumerate*}\n",
       "\\item 7107\n",
       "\\item 49\n",
       "\\end{enumerate*}\n"
      ],
      "text/markdown": [
       "1. 7107\n",
       "2. 49\n",
       "\n",
       "\n"
      ],
      "text/plain": [
       "[1] 7107   49"
      ]
     },
     "metadata": {},
     "output_type": "display_data"
    },
    {
     "data": {
      "text/html": [
       "<style>\n",
       ".list-inline {list-style: none; margin:0; padding: 0}\n",
       ".list-inline>li {display: inline-block}\n",
       ".list-inline>li:not(:last-child)::after {content: \"\\00b7\"; padding: 0 .5ex}\n",
       "</style>\n",
       "<ol class=list-inline><li>7107</li><li>49</li></ol>\n"
      ],
      "text/latex": [
       "\\begin{enumerate*}\n",
       "\\item 7107\n",
       "\\item 49\n",
       "\\end{enumerate*}\n"
      ],
      "text/markdown": [
       "1. 7107\n",
       "2. 49\n",
       "\n",
       "\n"
      ],
      "text/plain": [
       "[1] 7107   49"
      ]
     },
     "metadata": {},
     "output_type": "display_data"
    }
   ],
   "source": [
    "dim(theta[])\n",
    "dim(theta)"
   ]
  },
  {
   "cell_type": "code",
   "execution_count": 27,
   "metadata": {},
   "outputs": [
    {
     "data": {
      "text/html": [
       "Training error: 12.7501624583751\n"
      ]
     },
     "metadata": {},
     "output_type": "display_data"
    },
    {
     "data": {
      "text/html": [
       "Testing error: 19.1527581743537\n"
      ]
     },
     "metadata": {},
     "output_type": "display_data"
    },
    {
     "data": {
      "text/html": [
       30.8189,
       33.217,
       21.9449,
       24.9766,
       32.068,
       21.6963,
       23.2476,
       9.6375,
       25.6934,
       40.0813,
       41.8896,
       38.1064,
       20.2189,
       23.6914,
       19.74,
       13.0514,
       28.7733,
       -0.077,
       17.398,
       32.4624,
       -11.5842,
       -14.2816,
       25.8765,
       21.5212,
       41.2351,
       33.1845,
       32.3243,
       20.7839,
       20.4451,
       15.0665,
       28.4614,
       29.3619,
       32.4789,
       28.4878,
       34.4682,
       20.7536,
       15.1933,
       6.2592,
       43.557,
       25.2031,
       30.3697,
       60.0613,
       11.9683,
       24.1329,
       21.6465,
       28.9924,
       38.5976,
       39.8071,
       24.2763
      ]
     },
     "metadata": {},
     "output_type": "display_data"
    },
    {
     "name": "stderr",
     "output_type": "stream",
     "text": [
      "Warning message in if (theta[]) new_objV1 = new_objV1 + 1/2 * mean((Y[[t]] - X[[t]] %*% :\n",
      "“the condition has length > 1 and only the first element will be used”\n",
      "Warning message in if (theta[]) new_objV1 = new_objV1 + 1/2 * mean((Y[[t]] - X[[t]] %*% :\n",
      "“the condition has length > 1 and only the first element will be used”\n",
      "Warning message in if (theta[]) new_objV1 = new_objV1 + 1/2 * mean((Y[[t]] - X[[t]] %*% :\n",
      "“the condition has length > 1 and only the first element will be used”\n",
      "Warning message in if (theta[]) new_objV1 = new_objV1 + 1/2 * mean((Y[[t]] - X[[t]] %*% :\n",
      "“the condition has length > 1 and only the first element will be used”\n",
      "Warning message in if (theta[]) new_objV1 = new_objV1 + 1/2 * mean((Y[[t]] - X[[t]] %*% :\n",
      "“the condition has length > 1 and only the first element will be used”\n",
      "Warning message in if (theta[]) new_objV1 = new_objV1 + 1/2 * mean((Y[[t]] - X[[t]] %*% :\n",
      "“the condition has length > 1 and only the first element will be used”\n",
      "Warning message in if (theta[]) new_objV1 = new_objV1 + 1/2 * mean((Y[[t]] - X[[t]] %*% :\n",
      "“the condition has length > 1 and only the first element will be used”\n",
      "Warning message in if (theta[]) new_objV1 = new_objV1 + 1/2 * mean((Y[[t]] - X[[t]] %*% :\n",
      "“the condition has length > 1 and only the first element will be used”\n",
      "Warning message in if (theta[]) new_objV1 = new_objV1 + 1/2 * mean((Y[[t]] - X[[t]] %*% :\n",
      "“the condition has length > 1 and only the first element will be used”\n",
      "Warning message in if (theta[]) new_objV1 = new_objV1 + 1/2 * mean((Y[[t]] - X[[t]] %*% :\n",
      "“the condition has length > 1 and only the first element will be used”\n",
      "Warning message in if (theta[]) new_objV1 = new_objV1 + 1/2 * mean((Y[[t]] - X[[t]] %*% :\n",
      "“the condition has length > 1 and only the first element will be used”\n",
      "Warning message in if (theta[]) new_objV1 = new_objV1 + 1/2 * mean((Y[[t]] - X[[t]] %*% :\n",
      "“the condition has length > 1 and only the first element will be used”\n",
      "Warning message in if (theta[]) new_objV1 = new_objV1 + 1/2 * mean((Y[[t]] - X[[t]] %*% :\n",
      "“the condition has length > 1 and only the first element will be used”\n",
      "Warning message in if (theta[]) new_objV1 = new_objV1 + 1/2 * mean((Y[[t]] - X[[t]] %*% :\n",
      "“the condition has length > 1 and only the first element will be used”\n",
      "Warning message in if (theta[]) new_objV1 = new_objV1 + 1/2 * mean((Y[[t]] - X[[t]] %*% :\n",
      "“the condition has length > 1 and only the first element will be used”\n",
      "Warning message in if (theta[]) new_objV1 = new_objV1 + 1/2 * mean((Y[[t]] - X[[t]] %*% :\n",
      "“the condition has length > 1 and only the first element will be used”\n",
      "Warning message in if (theta[]) new_objV1 = new_objV1 + 1/2 * mean((Y[[t]] - X[[t]] %*% :\n",
      "“the condition has length > 1 and only the first element will be used”\n",
      "Warning message in if (theta[]) new_objV1 = new_objV1 + 1/2 * mean((Y[[t]] - X[[t]] %*% :\n",
      "“the condition has length > 1 and only the first element will be used”\n",
      "Warning message in if (theta[]) new_objV1 = new_objV1 + 1/2 * mean((Y[[t]] - X[[t]] %*% :\n",
      "“the condition has length > 1 and only the first element will be used”\n",
      "Warning message in if (theta[]) new_objV1 = new_objV1 + 1/2 * mean((Y[[t]] - X[[t]] %*% :\n",
      "“the condition has length > 1 and only the first element will be used”\n",
      "Warning message in if (theta[]) new_objV1 = new_objV1 + 1/2 * mean((Y[[t]] - X[[t]] %*% :\n",
      "“the condition has length > 1 and only the first element will be used”\n",
      "Warning message in if (theta[]) new_objV1 = new_objV1 + 1/2 * mean((Y[[t]] - X[[t]] %*% :\n",
      "“the condition has length > 1 and only the first element will be used”\n",
      "Warning message in if (theta[]) new_objV1 = new_objV1 + 1/2 * mean((Y[[t]] - X[[t]] %*% :\n",
      "“the condition has length > 1 and only the first element will be used”\n",
      "Warning message in if (theta[]) new_objV1 = new_objV1 + 1/2 * mean((Y[[t]] - X[[t]] %*% :\n",
      "“the condition has length > 1 and only the first element will be used”\n",
      "Warning message in if (theta[]) new_objV1 = new_objV1 + 1/2 * mean((Y[[t]] - X[[t]] %*% :\n",
      "“the condition has length > 1 and only the first element will be used”\n",
      "Warning message in if (theta[]) new_objV1 = new_objV1 + 1/2 * mean((Y[[t]] - X[[t]] %*% :\n",
      "“the condition has length > 1 and only the first element will be used”\n",
      "Warning message in if (theta[]) new_objV1 = new_objV1 + 1/2 * mean((Y[[t]] - X[[t]] %*% :\n",
      "“the condition has length > 1 and only the first element will be used”\n",
      "Warning message in if (theta[]) new_objV1 = new_objV1 + 1/2 * mean((Y[[t]] - X[[t]] %*% :\n",
      "“the condition has length > 1 and only the first element will be used”\n",
      "Warning message in if (theta[]) new_objV1 = new_objV1 + 1/2 * mean((Y[[t]] - X[[t]] %*% :\n",
      "“the condition has length > 1 and only the first element will be used”\n",
      "Warning message in if (theta[]) new_objV1 = new_objV1 + 1/2 * mean((Y[[t]] - X[[t]] %*% :\n",
      "“the condition has length > 1 and only the first element will be used”\n",
      "Warning message in if (theta[]) new_objV1 = new_objV1 + 1/2 * mean((Y[[t]] - X[[t]] %*% :\n",
      "“the condition has length > 1 and only the first element will be used”\n",
      "Warning message in if (theta[]) new_objV1 = new_objV1 + 1/2 * mean((Y[[t]] - X[[t]] %*% :\n",
      "“the condition has length > 1 and only the first element will be used”\n",
      "Warning message in if (theta[]) new_objV1 = new_objV1 + 1/2 * mean((Y[[t]] - X[[t]] %*% :\n",
      "“the condition has length > 1 and only the first element will be used”\n",
      "Warning message in if (theta[]) new_objV1 = new_objV1 + 1/2 * mean((Y[[t]] - X[[t]] %*% :\n",
      "“the condition has length > 1 and only the first element will be used”\n",
      "Warning message in if (theta[]) new_objV1 = new_objV1 + 1/2 * mean((Y[[t]] - X[[t]] %*% :\n",
      "“the condition has length > 1 and only the first element will be used”\n",
      "Warning message in if (theta[]) new_objV1 = new_objV1 + 1/2 * mean((Y[[t]] - X[[t]] %*% :\n",
      "“the condition has length > 1 and only the first element will be used”\n",
      "Warning message in if (theta[]) new_objV1 = new_objV1 + 1/2 * mean((Y[[t]] - X[[t]] %*% :\n",
      "“the condition has length > 1 and only the first element will be used”\n",
      "Warning message in if (theta[]) new_objV1 = new_objV1 + 1/2 * mean((Y[[t]] - X[[t]] %*% :\n",
      "“the condition has length > 1 and only the first element will be used”\n",
      "Warning message in if (theta[]) new_objV1 = new_objV1 + 1/2 * mean((Y[[t]] - X[[t]] %*% :\n",
      "“the condition has length > 1 and only the first element will be used”\n",
      "Warning message in if (theta[]) new_objV1 = new_objV1 + 1/2 * mean((Y[[t]] - X[[t]] %*% :\n",
      "“the condition has length > 1 and only the first element will be used”\n",
      "Warning message in if (theta[]) new_objV1 = new_objV1 + 1/2 * mean((Y[[t]] - X[[t]] %*% :\n",
      "“the condition has length > 1 and only the first element will be used”\n",
      "Warning message in if (theta[]) new_objV1 = new_objV1 + 1/2 * mean((Y[[t]] - X[[t]] %*% :\n",
      "“the condition has length > 1 and only the first element will be used”\n",
      "Warning message in if (theta[]) new_objV1 = new_objV1 + 1/2 * mean((Y[[t]] - X[[t]] %*% :\n",
      "“the condition has length > 1 and only the first element will be used”\n",
      "Warning message in if (theta[]) new_objV1 = new_objV1 + 1/2 * mean((Y[[t]] - X[[t]] %*% :\n",
      "“the condition has length > 1 and only the first element will be used”\n",
      "Warning message in if (theta[]) new_objV1 = new_objV1 + 1/2 * mean((Y[[t]] - X[[t]] %*% :\n",
      "“the condition has length > 1 and only the first element will be used”\n",
      "Warning message in if (theta[]) new_objV1 = new_objV1 + 1/2 * mean((Y[[t]] - X[[t]] %*% :\n",
      "“the condition has length > 1 and only the first element will be used”\n",
      "Warning message in if (theta[]) new_objV1 = new_objV1 + 1/2 * mean((Y[[t]] - X[[t]] %*% :\n",
      "“the condition has length > 1 and only the first element will be used”\n",
      "Warning message in if (theta[]) new_objV1 = new_objV1 + 1/2 * mean((Y[[t]] - X[[t]] %*% :\n",
      "“the condition has length > 1 and only the first element will be used”\n",
      "Warning message in if (theta[]) new_objV1 = new_objV1 + 1/2 * mean((Y[[t]] - X[[t]] %*% :\n",
      "“the condition has length > 1 and only the first element will be used”\n"
     ]
    },
    {
     "data": {
      "text/html": [
       "Training error: NaN\n"
      ]
     },
     "metadata": {},
     "output_type": "display_data"
    },
    {
     "data": {
      "text/html": [
       "Testing error: NaN\n"
      ]
     },
     "metadata": {},
     "output_type": "display_data"
    },
    {
     "ename": "ERROR",
     "evalue": "Error in if (new_objV2 > old_objV2 | new_objV1 > old_objV1) {: missing value where TRUE/FALSE needed\n",
     "output_type": "error",
     "traceback": [
      "Error in if (new_objV2 > old_objV2 | new_objV1 > old_objV1) {: missing value where TRUE/FALSE needed\nTraceback:\n"
     ]
    }
   ],
   "source": [
    "# parameters\n",
    "lam = 1\n",
    "X=X_train\n",
    "Y=Y_train\n",
    "X1=X_tune\n",
    "Y1=Y_tune\n",
    "XX=XX_train\n",
    "XY=XY\n",
    "Xnorm=Xnorm\n",
    "lambda1=lam_V[lam]\n",
    "lambda2=lam_V[lam]\n",
    "single_est = matrix(initial_numeric, M, P)\n",
    "theta=single_est\n",
    "maxiter = 10\n",
    "\n",
    "# wrapper function \n",
    "#dyn.load(\"/ysm-gpfs/pi/zhao/zy92/projects/utmost_update/CTIMP/optim.so\")\n",
    "dyn.load(\"/gpfs/project/zhao/zy92/utmost_update/CTIMP/optim.so\")\n",
    "\n",
    "bgt = Sys.time()\n",
    "M = nrow(XY)\n",
    "P = length(X)\n",
    "NN = unlist(lapply(X, nrow))\n",
    "old_objV1 = 0\n",
    "for(t in 1:P){\n",
    "    old_objV1 = old_objV1 + 1/2*mean((Y[[t]]-X[[t]]%*%theta[,t])^2)\n",
    "}\n",
    "IRdisplay::display_html(paste0(\"Training error: \", old_objV1, '\\n'))\n",
    "old_objV2 = 0\n",
    "for(t in 1:P){\n",
    "    old_objV2 = old_objV2 + 1/2*mean((Y1[[t]]-X1[[t]]%*%theta[,t])^2)\n",
    "}\n",
    "IRdisplay::display_html(paste0(\"Testing error: \", old_objV2, '\\n'))\n",
    "beta_j_lasso = rep(0, P)\n",
    "beta_j_lasso_matrix = rep(0, M*P)\n",
    "output_res = rep(0, P)\n",
    "tmp_XYj = 0\n",
    "\n",
    "for(i in 1:maxiter){\n",
    "    bgt = Sys.time()\n",
    "    res = .Call(\"wrapper\", XX, XY, theta, M, P, beta_j_lasso, beta_j_lasso_matrix, lambda1, lambda2, Xnorm, output_res)\n",
    "    #IRdisplay::display_html(res)\n",
    "    edt = Sys.time()\n",
    "    #print(edt-bgt)\n",
    "    IRdisplay::display_html(beta_j_lasso)\n",
    "    #IRdisplay::display_html(theta[1:6, 1:6])\n",
    "    new_objV1 = new_objV2 = 0\n",
    "    for(t in 1:P){\n",
    "        if (theta[])\n",
    "        new_objV1 = new_objV1 + 1/2*mean((Y[[t]]-X[[t]]%*%theta[,t])^2)\n",
    "        #IRdisplay::display_html(sum(is.na(X[[t]])))\n",
    "        #IRdisplay::display_html(sum(is.na(Y[[t]])))\n",
    "        #IRdisplay::display_html(theta[,t])\n",
    "    }\n",
    "    IRdisplay::display_html(paste0(\"Training error: \", new_objV1, '\\n'))\n",
    "    for(t in 1:P){\n",
    "        new_objV2 = new_objV2 + 1/2*mean((Y1[[t]]-X1[[t]]%*%theta[,t])^2)\n",
    "        #IRdisplay::display_html(sum(is.na(X[[t]])))\n",
    "        #IRdisplay::display_html(sum(is.na(Y[[t]])))\n",
    "        #IRdisplay::display_html(theta[,t])\n",
    "    }\n",
    "    IRdisplay::display_html(paste0(\"Testing error: \", new_objV2, '\\n'))\n",
    "    if(new_objV2 > old_objV2|new_objV1 > old_objV1){\n",
    "        break\n",
    "    }else{\n",
    "        old_objV2 = new_objV2\n",
    "    }\n",
    "    if(abs(new_objV1-old_objV1) < eps){\n",
    "        break\n",
    "    }else{\n",
    "        old_objV1 = new_objV1\n",
    "    }\n",
    "}\n",
    "#edt = Sys.time()\n",
    "#print(edt-bgt)\n",
    "#list(est = theta, tune_err = new_objV2)"
   ]
  },
  {
   "cell_type": "code",
   "execution_count": 28,
   "metadata": {},
   "outputs": [
    {
     "data": {
      "text/html": [
       "348243"
      ],
      "text/latex": [
       "348243"
      ],
      "text/markdown": [
       "348243"
      ],
      "text/plain": [
       "[1] 348243"
      ]
     },
     "metadata": {},
     "output_type": "display_data"
    },
    {
     "data": {
      "text/html": [
       "0"
      ],
      "text/latex": [
       "0"
      ],
      "text/markdown": [
       "0"
      ],
      "text/plain": [
       "[1] 0"
      ]
     },
     "metadata": {},
     "output_type": "display_data"
    },
    {
     "data": {
      "text/html": [
       "0"
      ],
      "text/latex": [
       "0"
      ],
      "text/markdown": [
       "0"
      ],
      "text/plain": [
       "[1] 0"
      ]
     },
     "metadata": {},
     "output_type": "display_data"
    }
   ],
   "source": [
    "length(beta_j_lasso_matrix)\n",
    "sum(is.na(beta_j_lasso_matrix))\n",
    "sum(is.infinite(beta_j_lasso_matrix))"
   ]
  },
  {
   "cell_type": "code",
   "execution_count": 32,
   "metadata": {},
   "outputs": [
    {
     "data": {
      "text/html": [
       "0"
      ],
      "text/latex": [
       "0"
      ],
      "text/markdown": [
       "0"
      ],
      "text/plain": [
       "[1] 0"
      ]
     },
     "metadata": {},
     "output_type": "display_data"
    },
    {
     "data": {
      "text/html": [
       "0"
      ],
      "text/latex": [
       "0"
      ],
      "text/markdown": [
       "0"
      ],
      "text/plain": [
       "[1] 0"
      ]
     },
     "metadata": {},
     "output_type": "display_data"
    },
    {
     "data": {
      "text/html": [
       "70"
      ],
      "text/latex": [
       "70"
      ],
      "text/markdown": [
       "70"
      ],
      "text/plain": [
       "[1] 70"
      ]
     },
     "metadata": {},
     "output_type": "display_data"
    },
    {
     "data": {
      "text/html": [
       "161293"
      ],
      "text/latex": [
       "161293"
      ],
      "text/markdown": [
       "161293"
      ],
      "text/plain": [
       "[1] 161293"
      ]
     },
     "metadata": {},
     "output_type": "display_data"
    },
    {
     "data": {
      "text/html": [
       "70"
      ],
      "text/latex": [
       "70"
      ],
      "text/markdown": [
       "70"
      ],
      "text/plain": [
       "[1] 70"
      ]
     },
     "metadata": {},
     "output_type": "display_data"
    },
    {
     "data": {
      "text/html": [
       "161293"
      ],
      "text/latex": [
       "161293"
      ],
      "text/markdown": [
       "161293"
      ],
      "text/plain": [
       "[1] 161293"
      ]
     },
     "metadata": {},
     "output_type": "display_data"
    }
   ],
   "source": [
    "sum(is.na(initial_numeric))\n",
    "sum(is.infinite(initial_numeric))\n",
    "sum(is.na(single_est))\n",
    "sum(is.infinite(single_est))\n",
    "sum(is.na(theta))\n",
    "sum(is.infinite(theta))"
   ]
  },
  {
   "cell_type": "code",
   "execution_count": 34,
   "metadata": {},
   "outputs": [
    {
     "data": {
      "text/html": [
       "0"
      ],
      "text/latex": [
       "0"
      ],
      "text/markdown": [
       "0"
      ],
      "text/plain": [
       "[1] 0"
      ]
     },
     "metadata": {},
     "output_type": "display_data"
    },
    {
     "data": {
      "text/html": [
       "0"
      ],
      "text/latex": [
       "0"
      ],
      "text/markdown": [
       "0"
      ],
      "text/plain": [
       "[1] 0"
      ]
     },
     "metadata": {},
     "output_type": "display_data"
    }
   ],
   "source": [
    "single_est = matrix(initial_numeric, M, P)\n",
    "sum(is.na(single_est))\n",
    "sum(is.infinite(single_est))\n"
   ]
  },
  {
   "cell_type": "code",
   "execution_count": null,
   "metadata": {},
   "outputs": [],
   "source": []
  },
  {
   "cell_type": "code",
   "execution_count": null,
   "metadata": {},
   "outputs": [],
   "source": []
  },
  {
   "cell_type": "code",
   "execution_count": 40,
   "metadata": {},
   "outputs": [
    {
     "data": {
      "text/html": [
       "<style>\n",
       ".list-inline {list-style: none; margin:0; padding: 0}\n",
       ".list-inline>li {display: inline-block}\n",
       ".list-inline>li:not(:last-child)::after {content: \"\\00b7\"; padding: 0 .5ex}\n",
       "</style>\n",
       "<ol class=list-inline><li>0.00191430219283467</li><li>0.0217374382409903</li><li>0.0415605742891459</li><li>0.0613837103373015</li><li>0.0812068463854571</li><li>0.101029982433613</li><li>0.120853118481768</li><li>0.140676254529924</li><li>0.16049939057808</li><li>0.180322526626235</li><li>0.200145662674391</li><li>0.219968798722546</li><li>0.239791934770702</li><li>0.259615070818858</li><li>0.279438206867013</li><li>0.299261342915169</li><li>0.319084478963324</li><li>0.33890761501148</li><li>0.358730751059636</li><li>0.378553887107791</li><li>0.398377023155947</li><li>0.418200159204103</li><li>0.438023295252258</li><li>0.457846431300414</li><li>0.477669567348569</li><li>0.497492703396725</li><li>0.517315839444881</li><li>0.537138975493036</li><li>0.556962111541192</li><li>0.576785247589347</li><li>0.596608383637503</li><li>0.616431519685659</li><li>0.636254655733814</li><li>0.65607779178197</li><li>0.675900927830126</li><li>0.695724063878281</li><li>0.715547199926437</li><li>0.735370335974592</li><li>0.755193472022748</li><li>0.775016608070904</li><li>0.794839744119059</li><li>0.814662880167215</li><li>0.83448601621537</li><li>0.854309152263526</li><li>0.874132288311682</li><li>0.893955424359837</li><li>0.913778560407993</li><li>0.933601696456149</li><li>0.953424832504304</li><li>0.97324796855246</li><li>0.993071104600615</li><li>1.01289424064877</li><li>1.03271737669693</li><li>1.05254051274508</li><li>1.07236364879324</li><li>1.09218678484139</li><li>1.11200992088955</li><li>1.1318330569377</li><li>1.15165619298586</li><li>1.17147932903402</li><li>1.19130246508217</li><li>1.21112560113033</li><li>1.23094873717848</li><li>1.25077187322664</li><li>1.27059500927479</li><li>1.29041814532295</li><li>1.31024128137111</li><li>1.33006441741926</li><li>1.34988755346742</li><li>1.36971068951557</li><li>1.38953382556373</li><li>1.40935696161188</li><li>1.42918009766004</li><li>1.44900323370819</li><li>1.46882636975635</li><li>1.48864950580451</li><li>1.50847264185266</li><li>1.52829577790082</li><li>1.54811891394897</li><li>1.56794204999713</li><li>1.58776518604528</li><li>1.60758832209344</li><li>1.6274114581416</li><li>1.64723459418975</li><li>1.66705773023791</li><li>1.68688086628606</li><li>1.70670400233422</li><li>1.72652713838237</li><li>1.74635027443053</li><li>1.76617341047868</li><li>1.78599654652684</li><li>1.805819682575</li><li>1.82564281862315</li><li>1.84546595467131</li><li>1.86528909071946</li><li>1.88511222676762</li><li>1.90493536281577</li><li>1.92475849886393</li><li>1.94458163491208</li><li>1.96440477096024</li></ol>\n"
      ],
      "text/latex": [
       "\\begin{enumerate*}\n",
       "\\item 0.00191430219283467\n",
       "\\item 0.0217374382409903\n",
       "\\item 0.0415605742891459\n",
       "\\item 0.0613837103373015\n",
       "\\item 0.0812068463854571\n",
       "\\item 0.101029982433613\n",
       "\\item 0.120853118481768\n",
       "\\item 0.140676254529924\n",
       "\\item 0.16049939057808\n",
       "\\item 0.180322526626235\n",
       "\\item 0.200145662674391\n",
       "\\item 0.219968798722546\n",
       "\\item 0.239791934770702\n",
       "\\item 0.259615070818858\n",
       "\\item 0.279438206867013\n",
       "\\item 0.299261342915169\n",
       "\\item 0.319084478963324\n",
       "\\item 0.33890761501148\n",
       "\\item 0.358730751059636\n",
       "\\item 0.378553887107791\n",
       "\\item 0.398377023155947\n",
       "\\item 0.418200159204103\n",
       "\\item 0.438023295252258\n",
       "\\item 0.457846431300414\n",
       "\\item 0.477669567348569\n",
       "\\item 0.497492703396725\n",
       "\\item 0.517315839444881\n",
       "\\item 0.537138975493036\n",
       "\\item 0.556962111541192\n",
       "\\item 0.576785247589347\n",
       "\\item 0.596608383637503\n",
       "\\item 0.616431519685659\n",
       "\\item 0.636254655733814\n",
       "\\item 0.65607779178197\n",
       "\\item 0.675900927830126\n",
       "\\item 0.695724063878281\n",
       "\\item 0.715547199926437\n",
       "\\item 0.735370335974592\n",
       "\\item 0.755193472022748\n",
       "\\item 0.775016608070904\n",
       "\\item 0.794839744119059\n",
       "\\item 0.814662880167215\n",
       "\\item 0.83448601621537\n",
       "\\item 0.854309152263526\n",
       "\\item 0.874132288311682\n",
       "\\item 0.893955424359837\n",
       "\\item 0.913778560407993\n",
       "\\item 0.933601696456149\n",
       "\\item 0.953424832504304\n",
       "\\item 0.97324796855246\n",
       "\\item 0.993071104600615\n",
       "\\item 1.01289424064877\n",
       "\\item 1.03271737669693\n",
       "\\item 1.05254051274508\n",
       "\\item 1.07236364879324\n",
       "\\item 1.09218678484139\n",
       "\\item 1.11200992088955\n",
       "\\item 1.1318330569377\n",
       "\\item 1.15165619298586\n",
       "\\item 1.17147932903402\n",
       "\\item 1.19130246508217\n",
       "\\item 1.21112560113033\n",
       "\\item 1.23094873717848\n",
       "\\item 1.25077187322664\n",
       "\\item 1.27059500927479\n",
       "\\item 1.29041814532295\n",
       "\\item 1.31024128137111\n",
       "\\item 1.33006441741926\n",
       "\\item 1.34988755346742\n",
       "\\item 1.36971068951557\n",
       "\\item 1.38953382556373\n",
       "\\item 1.40935696161188\n",
       "\\item 1.42918009766004\n",
       "\\item 1.44900323370819\n",
       "\\item 1.46882636975635\n",
       "\\item 1.48864950580451\n",
       "\\item 1.50847264185266\n",
       "\\item 1.52829577790082\n",
       "\\item 1.54811891394897\n",
       "\\item 1.56794204999713\n",
       "\\item 1.58776518604528\n",
       "\\item 1.60758832209344\n",
       "\\item 1.6274114581416\n",
       "\\item 1.64723459418975\n",
       "\\item 1.66705773023791\n",
       "\\item 1.68688086628606\n",
       "\\item 1.70670400233422\n",
       "\\item 1.72652713838237\n",
       "\\item 1.74635027443053\n",
       "\\item 1.76617341047868\n",
       "\\item 1.78599654652684\n",
       "\\item 1.805819682575\n",
       "\\item 1.82564281862315\n",
       "\\item 1.84546595467131\n",
       "\\item 1.86528909071946\n",
       "\\item 1.88511222676762\n",
       "\\item 1.90493536281577\n",
       "\\item 1.92475849886393\n",
       "\\item 1.94458163491208\n",
       "\\item 1.96440477096024\n",
       "\\end{enumerate*}\n"
      ],
      "text/markdown": [
       "1. 0.00191430219283467\n",
       "2. 0.0217374382409903\n",
       "3. 0.0415605742891459\n",
       "4. 0.0613837103373015\n",
       "5. 0.0812068463854571\n",
       "6. 0.101029982433613\n",
       "7. 0.120853118481768\n",
       "8. 0.140676254529924\n",
       "9. 0.16049939057808\n",
       "10. 0.180322526626235\n",
       "11. 0.200145662674391\n",
       "12. 0.219968798722546\n",
       "13. 0.239791934770702\n",
       "14. 0.259615070818858\n",
       "15. 0.279438206867013\n",
       "16. 0.299261342915169\n",
       "17. 0.319084478963324\n",
       "18. 0.33890761501148\n",
       "19. 0.358730751059636\n",
       "20. 0.378553887107791\n",
       "21. 0.398377023155947\n",
       "22. 0.418200159204103\n",
       "23. 0.438023295252258\n",
       "24. 0.457846431300414\n",
       "25. 0.477669567348569\n",
       "26. 0.497492703396725\n",
       "27. 0.517315839444881\n",
       "28. 0.537138975493036\n",
       "29. 0.556962111541192\n",
       "30. 0.576785247589347\n",
       "31. 0.596608383637503\n",
       "32. 0.616431519685659\n",
       "33. 0.636254655733814\n",
       "34. 0.65607779178197\n",
       "35. 0.675900927830126\n",
       "36. 0.695724063878281\n",
       "37. 0.715547199926437\n",
       "38. 0.735370335974592\n",
       "39. 0.755193472022748\n",
       "40. 0.775016608070904\n",
       "41. 0.794839744119059\n",
       "42. 0.814662880167215\n",
       "43. 0.83448601621537\n",
       "44. 0.854309152263526\n",
       "45. 0.874132288311682\n",
       "46. 0.893955424359837\n",
       "47. 0.913778560407993\n",
       "48. 0.933601696456149\n",
       "49. 0.953424832504304\n",
       "50. 0.97324796855246\n",
       "51. 0.993071104600615\n",
       "52. 1.01289424064877\n",
       "53. 1.03271737669693\n",
       "54. 1.05254051274508\n",
       "55. 1.07236364879324\n",
       "56. 1.09218678484139\n",
       "57. 1.11200992088955\n",
       "58. 1.1318330569377\n",
       "59. 1.15165619298586\n",
       "60. 1.17147932903402\n",
       "61. 1.19130246508217\n",
       "62. 1.21112560113033\n",
       "63. 1.23094873717848\n",
       "64. 1.25077187322664\n",
       "65. 1.27059500927479\n",
       "66. 1.29041814532295\n",
       "67. 1.31024128137111\n",
       "68. 1.33006441741926\n",
       "69. 1.34988755346742\n",
       "70. 1.36971068951557\n",
       "71. 1.38953382556373\n",
       "72. 1.40935696161188\n",
       "73. 1.42918009766004\n",
       "74. 1.44900323370819\n",
       "75. 1.46882636975635\n",
       "76. 1.48864950580451\n",
       "77. 1.50847264185266\n",
       "78. 1.52829577790082\n",
       "79. 1.54811891394897\n",
       "80. 1.56794204999713\n",
       "81. 1.58776518604528\n",
       "82. 1.60758832209344\n",
       "83. 1.6274114581416\n",
       "84. 1.64723459418975\n",
       "85. 1.66705773023791\n",
       "86. 1.68688086628606\n",
       "87. 1.70670400233422\n",
       "88. 1.72652713838237\n",
       "89. 1.74635027443053\n",
       "90. 1.76617341047868\n",
       "91. 1.78599654652684\n",
       "92. 1.805819682575\n",
       "93. 1.82564281862315\n",
       "94. 1.84546595467131\n",
       "95. 1.86528909071946\n",
       "96. 1.88511222676762\n",
       "97. 1.90493536281577\n",
       "98. 1.92475849886393\n",
       "99. 1.94458163491208\n",
       "100. 1.96440477096024\n",
       "\n",
       "\n"
      ],
      "text/plain": [
       "  [1] 0.001914302 0.021737438 0.041560574 0.061383710 0.081206846 0.101029982\n",
       "  [7] 0.120853118 0.140676255 0.160499391 0.180322527 0.200145663 0.219968799\n",
       " [13] 0.239791935 0.259615071 0.279438207 0.299261343 0.319084479 0.338907615\n",
       " [19] 0.358730751 0.378553887 0.398377023 0.418200159 0.438023295 0.457846431\n",
       " [25] 0.477669567 0.497492703 0.517315839 0.537138975 0.556962112 0.576785248\n",
       " [31] 0.596608384 0.616431520 0.636254656 0.656077792 0.675900928 0.695724064\n",
       " [37] 0.715547200 0.735370336 0.755193472 0.775016608 0.794839744 0.814662880\n",
       " [43] 0.834486016 0.854309152 0.874132288 0.893955424 0.913778560 0.933601696\n",
       " [49] 0.953424833 0.973247969 0.993071105 1.012894241 1.032717377 1.052540513\n",
       " [55] 1.072363649 1.092186785 1.112009921 1.131833057 1.151656193 1.171479329\n",
       " [61] 1.191302465 1.211125601 1.230948737 1.250771873 1.270595009 1.290418145\n",
       " [67] 1.310241281 1.330064417 1.349887553 1.369710690 1.389533826 1.409356962\n",
       " [73] 1.429180098 1.449003234 1.468826370 1.488649506 1.508472642 1.528295778\n",
       " [79] 1.548118914 1.567942050 1.587765186 1.607588322 1.627411458 1.647234594\n",
       " [85] 1.667057730 1.686880866 1.706704002 1.726527138 1.746350274 1.766173410\n",
       " [91] 1.785996547 1.805819683 1.825642819 1.845465955 1.865289091 1.885112227\n",
       " [97] 1.904935363 1.924758499 1.944581635 1.964404771"
      ]
     },
     "metadata": {},
     "output_type": "display_data"
    }
   ],
   "source": [
    "lam_V"
   ]
  },
  {
   "cell_type": "code",
   "execution_count": 35,
   "metadata": {},
   "outputs": [],
   "source": [
    "# XY "
   ]
  },
  {
   "cell_type": "code",
   "execution_count": 44,
   "metadata": {},
   "outputs": [
    {
     "data": {
      "text/html": [
       "<style>\n",
       ".list-inline {list-style: none; margin:0; padding: 0}\n",
       ".list-inline>li {display: inline-block}\n",
       ".list-inline>li:not(:last-child)::after {content: \"\\00b7\"; padding: 0 .5ex}\n",
       "</style>\n",
       "<ol class=list-inline><li>228</li><li>7107</li></ol>\n"
      ],
      "text/latex": [
       "\\begin{enumerate*}\n",
       "\\item 228\n",
       "\\item 7107\n",
       "\\end{enumerate*}\n"
      ],
      "text/markdown": [
       "1. 228\n",
       "2. 7107\n",
       "\n",
       "\n"
      ],
      "text/plain": [
       "[1]  228 7107"
      ]
     },
     "metadata": {},
     "output_type": "display_data"
    }
   ],
   "source": [
    "dim(X_train[[1]])"
   ]
  },
  {
   "cell_type": "code",
   "execution_count": 42,
   "metadata": {},
   "outputs": [
    {
     "data": {
      "text/html": [
       "7107"
      ],
      "text/latex": [
       "7107"
      ],
      "text/markdown": [
       "7107"
      ],
      "text/plain": [
       "[1] 7107"
      ]
     },
     "metadata": {},
     "output_type": "display_data"
    },
    {
     "data": {
      "text/html": [
       "49"
      ],
      "text/latex": [
       "49"
      ],
      "text/markdown": [
       "49"
      ],
      "text/plain": [
       "[1] 49"
      ]
     },
     "metadata": {},
     "output_type": "display_data"
    }
   ],
   "source": [
    "M\n",
    "P"
   ]
  },
  {
   "cell_type": "code",
   "execution_count": 49,
   "metadata": {},
   "outputs": [
    {
     "data": {
      "text/html": [
       "348243"
      ],
      "text/latex": [
       "348243"
      ],
      "text/markdown": [
       "348243"
      ],
      "text/plain": [
       "[1] 348243"
      ]
     },
     "metadata": {},
     "output_type": "display_data"
    }
   ],
   "source": [
    "length(theta)"
   ]
  },
  {
   "cell_type": "code",
   "execution_count": 50,
   "metadata": {},
   "outputs": [
    {
     "data": {
      "text/html": [
       "348243"
      ],
      "text/latex": [
       "348243"
      ],
      "text/markdown": [
       "348243"
      ],
      "text/plain": [
       "[1] 348243"
      ]
     },
     "metadata": {},
     "output_type": "display_data"
    }
   ],
   "source": [
    "M*P"
   ]
  },
  {
   "cell_type": "code",
   "execution_count": 47,
   "metadata": {},
   "outputs": [
    {
     "data": {
      "text/html": [
       "'list'"
      ],
      "text/latex": [
       "'list'"
      ],
      "text/markdown": [
       "'list'"
      ],
      "text/plain": [
       "[1] \"list\""
      ]
     },
     "metadata": {},
     "output_type": "display_data"
    },
    {
     "data": {
      "text/html": [
       "49"
      ],
      "text/latex": [
       "49"
      ],
      "text/markdown": [
       "49"
      ],
      "text/plain": [
       "[1] 49"
      ]
     },
     "metadata": {},
     "output_type": "display_data"
    }
   ],
   "source": [
    "class(X1)\n",
    "length(X1)"
   ]
  },
  {
   "cell_type": "code",
   "execution_count": 51,
   "metadata": {},
   "outputs": [
    {
     "data": {
      "text/html": [
       "11.0399300881073"
      ],
      "text/latex": [
       "11.0399300881073"
      ],
      "text/markdown": [
       "11.0399300881073"
      ],
      "text/plain": [
       "[1] 11.03993"
      ]
     },
     "metadata": {},
     "output_type": "display_data"
    }
   ],
   "source": [
    "sum(single_est)"
   ]
  },
  {
   "cell_type": "code",
   "execution_count": 53,
   "metadata": {},
   "outputs": [
    {
     "data": {
      "text/html": [
       "<style>\n",
       ".list-inline {list-style: none; margin:0; padding: 0}\n",
       ".list-inline>li {display: inline-block}\n",
       ".list-inline>li:not(:last-child)::after {content: \"\\00b7\"; padding: 0 .5ex}\n",
       "</style>\n",
       "<ol class=list-inline><li>7107</li><li>49</li></ol>\n"
      ],
      "text/latex": [
       "\\begin{enumerate*}\n",
       "\\item 7107\n",
       "\\item 49\n",
       "\\end{enumerate*}\n"
      ],
      "text/markdown": [
       "1. 7107\n",
       "2. 49\n",
       "\n",
       "\n"
      ],
      "text/plain": [
       "[1] 7107   49"
      ]
     },
     "metadata": {},
     "output_type": "display_data"
    }
   ],
   "source": [
    "dim(single_est)"
   ]
  },
  {
   "cell_type": "code",
   "execution_count": 62,
   "metadata": {},
   "outputs": [
    {
     "data": {
      "text/plain": [
       "NULL"
      ]
     },
     "metadata": {},
     "output_type": "display_data"
    },
    {
     "data": {
      "text/plain": [
       "NULL"
      ]
     },
     "metadata": {},
     "output_type": "display_data"
    }
   ],
   "source": [
    "dim(beta_j_lasso)\n",
    "dim(beta_j_lasso_matrix)"
   ]
  },
  {
   "cell_type": "code",
   "execution_count": 55,
   "metadata": {},
   "outputs": [
    {
     "data": {
      "text/html": [
       "Training error: 12.7501624583751\n"
      ]
     },
     "metadata": {},
     "output_type": "display_data"
    },
    {
     "data": {
      "text/html": [
       "Testing error: 19.1527581743537\n"
      ]
     },
     "metadata": {},
     "output_type": "display_data"
    },
    {
     "data": {
      "text/html": [
       0,
       0,
       0,
       0,
       0,
       0,
       0,
       0,
       0,
       0,
       0,
       0,
       0,
       0,
       0,
       0,
       0,
       0,
       0,
       0,
       0,
       0,
       0,
       0,
       0,
       0,
       0,
       0,
       0,
       0,
       0,
       0,
       0,
       0,
       0,
       0,
       0,
       0,
       0,
       0,
       0,
       0,
       0,
       0,
       0,
       0,
       0,
       0,
       0
      ]
     },
     "metadata": {},
     "output_type": "display_data"
    },
    {
     "name": "stderr",
     "output_type": "stream",
     "text": [
      "Warning message in if (theta[]) new_objV1 = new_objV1 + 1/2 * mean((Y[[t]] - X[[t]] %*% :\n",
      "“the condition has length > 1 and only the first element will be used”\n",
      "Warning message in if (theta[]) new_objV1 = new_objV1 + 1/2 * mean((Y[[t]] - X[[t]] %*% :\n",
      "“the condition has length > 1 and only the first element will be used”\n",
      "Warning message in if (theta[]) new_objV1 = new_objV1 + 1/2 * mean((Y[[t]] - X[[t]] %*% :\n",
      "“the condition has length > 1 and only the first element will be used”\n",
      "Warning message in if (theta[]) new_objV1 = new_objV1 + 1/2 * mean((Y[[t]] - X[[t]] %*% :\n",
      "“the condition has length > 1 and only the first element will be used”\n",
      "Warning message in if (theta[]) new_objV1 = new_objV1 + 1/2 * mean((Y[[t]] - X[[t]] %*% :\n",
      "“the condition has length > 1 and only the first element will be used”\n",
      "Warning message in if (theta[]) new_objV1 = new_objV1 + 1/2 * mean((Y[[t]] - X[[t]] %*% :\n",
      "“the condition has length > 1 and only the first element will be used”\n",
      "Warning message in if (theta[]) new_objV1 = new_objV1 + 1/2 * mean((Y[[t]] - X[[t]] %*% :\n",
      "“the condition has length > 1 and only the first element will be used”\n",
      "Warning message in if (theta[]) new_objV1 = new_objV1 + 1/2 * mean((Y[[t]] - X[[t]] %*% :\n",
      "“the condition has length > 1 and only the first element will be used”\n",
      "Warning message in if (theta[]) new_objV1 = new_objV1 + 1/2 * mean((Y[[t]] - X[[t]] %*% :\n",
      "“the condition has length > 1 and only the first element will be used”\n",
      "Warning message in if (theta[]) new_objV1 = new_objV1 + 1/2 * mean((Y[[t]] - X[[t]] %*% :\n",
      "“the condition has length > 1 and only the first element will be used”\n",
      "Warning message in if (theta[]) new_objV1 = new_objV1 + 1/2 * mean((Y[[t]] - X[[t]] %*% :\n",
      "“the condition has length > 1 and only the first element will be used”\n",
      "Warning message in if (theta[]) new_objV1 = new_objV1 + 1/2 * mean((Y[[t]] - X[[t]] %*% :\n",
      "“the condition has length > 1 and only the first element will be used”\n",
      "Warning message in if (theta[]) new_objV1 = new_objV1 + 1/2 * mean((Y[[t]] - X[[t]] %*% :\n",
      "“the condition has length > 1 and only the first element will be used”\n",
      "Warning message in if (theta[]) new_objV1 = new_objV1 + 1/2 * mean((Y[[t]] - X[[t]] %*% :\n",
      "“the condition has length > 1 and only the first element will be used”\n",
      "Warning message in if (theta[]) new_objV1 = new_objV1 + 1/2 * mean((Y[[t]] - X[[t]] %*% :\n",
      "“the condition has length > 1 and only the first element will be used”\n",
      "Warning message in if (theta[]) new_objV1 = new_objV1 + 1/2 * mean((Y[[t]] - X[[t]] %*% :\n",
      "“the condition has length > 1 and only the first element will be used”\n",
      "Warning message in if (theta[]) new_objV1 = new_objV1 + 1/2 * mean((Y[[t]] - X[[t]] %*% :\n",
      "“the condition has length > 1 and only the first element will be used”\n",
      "Warning message in if (theta[]) new_objV1 = new_objV1 + 1/2 * mean((Y[[t]] - X[[t]] %*% :\n",
      "“the condition has length > 1 and only the first element will be used”\n",
      "Warning message in if (theta[]) new_objV1 = new_objV1 + 1/2 * mean((Y[[t]] - X[[t]] %*% :\n",
      "“the condition has length > 1 and only the first element will be used”\n",
      "Warning message in if (theta[]) new_objV1 = new_objV1 + 1/2 * mean((Y[[t]] - X[[t]] %*% :\n",
      "“the condition has length > 1 and only the first element will be used”\n",
      "Warning message in if (theta[]) new_objV1 = new_objV1 + 1/2 * mean((Y[[t]] - X[[t]] %*% :\n",
      "“the condition has length > 1 and only the first element will be used”\n",
      "Warning message in if (theta[]) new_objV1 = new_objV1 + 1/2 * mean((Y[[t]] - X[[t]] %*% :\n",
      "“the condition has length > 1 and only the first element will be used”\n",
      "Warning message in if (theta[]) new_objV1 = new_objV1 + 1/2 * mean((Y[[t]] - X[[t]] %*% :\n",
      "“the condition has length > 1 and only the first element will be used”\n",
      "Warning message in if (theta[]) new_objV1 = new_objV1 + 1/2 * mean((Y[[t]] - X[[t]] %*% :\n",
      "“the condition has length > 1 and only the first element will be used”\n",
      "Warning message in if (theta[]) new_objV1 = new_objV1 + 1/2 * mean((Y[[t]] - X[[t]] %*% :\n",
      "“the condition has length > 1 and only the first element will be used”\n",
      "Warning message in if (theta[]) new_objV1 = new_objV1 + 1/2 * mean((Y[[t]] - X[[t]] %*% :\n",
      "“the condition has length > 1 and only the first element will be used”\n",
      "Warning message in if (theta[]) new_objV1 = new_objV1 + 1/2 * mean((Y[[t]] - X[[t]] %*% :\n",
      "“the condition has length > 1 and only the first element will be used”\n",
      "Warning message in if (theta[]) new_objV1 = new_objV1 + 1/2 * mean((Y[[t]] - X[[t]] %*% :\n",
      "“the condition has length > 1 and only the first element will be used”\n",
      "Warning message in if (theta[]) new_objV1 = new_objV1 + 1/2 * mean((Y[[t]] - X[[t]] %*% :\n",
      "“the condition has length > 1 and only the first element will be used”\n",
      "Warning message in if (theta[]) new_objV1 = new_objV1 + 1/2 * mean((Y[[t]] - X[[t]] %*% :\n",
      "“the condition has length > 1 and only the first element will be used”\n",
      "Warning message in if (theta[]) new_objV1 = new_objV1 + 1/2 * mean((Y[[t]] - X[[t]] %*% :\n",
      "“the condition has length > 1 and only the first element will be used”\n",
      "Warning message in if (theta[]) new_objV1 = new_objV1 + 1/2 * mean((Y[[t]] - X[[t]] %*% :\n",
      "“the condition has length > 1 and only the first element will be used”\n",
      "Warning message in if (theta[]) new_objV1 = new_objV1 + 1/2 * mean((Y[[t]] - X[[t]] %*% :\n",
      "“the condition has length > 1 and only the first element will be used”\n",
      "Warning message in if (theta[]) new_objV1 = new_objV1 + 1/2 * mean((Y[[t]] - X[[t]] %*% :\n",
      "“the condition has length > 1 and only the first element will be used”\n",
      "Warning message in if (theta[]) new_objV1 = new_objV1 + 1/2 * mean((Y[[t]] - X[[t]] %*% :\n",
      "“the condition has length > 1 and only the first element will be used”\n",
      "Warning message in if (theta[]) new_objV1 = new_objV1 + 1/2 * mean((Y[[t]] - X[[t]] %*% :\n",
      "“the condition has length > 1 and only the first element will be used”\n",
      "Warning message in if (theta[]) new_objV1 = new_objV1 + 1/2 * mean((Y[[t]] - X[[t]] %*% :\n",
      "“the condition has length > 1 and only the first element will be used”\n",
      "Warning message in if (theta[]) new_objV1 = new_objV1 + 1/2 * mean((Y[[t]] - X[[t]] %*% :\n",
      "“the condition has length > 1 and only the first element will be used”\n",
      "Warning message in if (theta[]) new_objV1 = new_objV1 + 1/2 * mean((Y[[t]] - X[[t]] %*% :\n",
      "“the condition has length > 1 and only the first element will be used”\n",
      "Warning message in if (theta[]) new_objV1 = new_objV1 + 1/2 * mean((Y[[t]] - X[[t]] %*% :\n",
      "“the condition has length > 1 and only the first element will be used”\n",
      "Warning message in if (theta[]) new_objV1 = new_objV1 + 1/2 * mean((Y[[t]] - X[[t]] %*% :\n",
      "“the condition has length > 1 and only the first element will be used”\n",
      "Warning message in if (theta[]) new_objV1 = new_objV1 + 1/2 * mean((Y[[t]] - X[[t]] %*% :\n",
      "“the condition has length > 1 and only the first element will be used”\n",
      "Warning message in if (theta[]) new_objV1 = new_objV1 + 1/2 * mean((Y[[t]] - X[[t]] %*% :\n",
      "“the condition has length > 1 and only the first element will be used”\n",
      "Warning message in if (theta[]) new_objV1 = new_objV1 + 1/2 * mean((Y[[t]] - X[[t]] %*% :\n",
      "“the condition has length > 1 and only the first element will be used”\n",
      "Warning message in if (theta[]) new_objV1 = new_objV1 + 1/2 * mean((Y[[t]] - X[[t]] %*% :\n",
      "“the condition has length > 1 and only the first element will be used”\n",
      "Warning message in if (theta[]) new_objV1 = new_objV1 + 1/2 * mean((Y[[t]] - X[[t]] %*% :\n",
      "“the condition has length > 1 and only the first element will be used”\n",
      "Warning message in if (theta[]) new_objV1 = new_objV1 + 1/2 * mean((Y[[t]] - X[[t]] %*% :\n",
      "“the condition has length > 1 and only the first element will be used”\n",
      "Warning message in if (theta[]) new_objV1 = new_objV1 + 1/2 * mean((Y[[t]] - X[[t]] %*% :\n",
      "“the condition has length > 1 and only the first element will be used”\n",
      "Warning message in if (theta[]) new_objV1 = new_objV1 + 1/2 * mean((Y[[t]] - X[[t]] %*% :\n",
      "“the condition has length > 1 and only the first element will be used”\n"
     ]
    },
    {
     "data": {
      "text/html": [
       "Training error: NaN\n"
      ]
     },
     "metadata": {},
     "output_type": "display_data"
    },
    {
     "data": {
      "text/html": [
       "Testing error: NaN\n"
      ]
     },
     "metadata": {},
     "output_type": "display_data"
    },
    {
     "ename": "ERROR",
     "evalue": "Error in if (new_objV2 > old_objV2 | new_objV1 > old_objV1) {: missing value where TRUE/FALSE needed\n",
     "output_type": "error",
     "traceback": [
      "Error in if (new_objV2 > old_objV2 | new_objV1 > old_objV1) {: missing value where TRUE/FALSE needed\nTraceback:\n"
     ]
    }
   ],
   "source": [
    "# parameters\n",
    "lam = 1\n",
    "X=X_train\n",
    "Y=Y_train\n",
    "X1=X_tune\n",
    "Y1=Y_tune\n",
    "XX=XX_train\n",
    "XY=XY\n",
    "Xnorm=Xnorm\n",
    "lambda1=lam_V[lam]\n",
    "lambda2=lam_V[lam]\n",
    "single_est = matrix(initial_numeric, M, P)\n",
    "theta=single_est\n",
    "maxiter = 10\n",
    "\n",
    "# wrapper function \n",
    "#dyn.load(\"/ysm-gpfs/pi/zhao/zy92/projects/utmost_update/CTIMP/optim.so\")\n",
    "dyn.load(\"/gpfs/project/zhao/zy92/utmost_update/CTIMP/optim.so\")\n",
    "\n",
    "bgt = Sys.time()\n",
    "M = nrow(XY)\n",
    "P = length(X)\n",
    "NN = unlist(lapply(X, nrow))\n",
    "old_objV1 = 0\n",
    "for(t in 1:P){\n",
    "    old_objV1 = old_objV1 + 1/2*mean((Y[[t]]-X[[t]]%*%theta[,t])^2)\n",
    "}\n",
    "IRdisplay::display_html(paste0(\"Training error: \", old_objV1, '\\n'))\n",
    "old_objV2 = 0\n",
    "for(t in 1:P){\n",
    "    old_objV2 = old_objV2 + 1/2*mean((Y1[[t]]-X1[[t]]%*%theta[,t])^2)\n",
    "}\n",
    "IRdisplay::display_html(paste0(\"Testing error: \", old_objV2, '\\n'))\n",
    "beta_j_lasso = rep(0, P)\n",
    "beta_j_lasso_matrix = rep(0, M*P)\n",
    "output_res = rep(0, P)\n",
    "tmp_XYj = 0\n",
    "\n",
    "for(i in 1:maxiter){\n",
    "    bgt = Sys.time()\n",
    "    res = .Call(\"wrapper\", XX, XY, theta, M, P, beta_j_lasso, beta_j_lasso_matrix, lambda1, lambda2, Xnorm, output_res)\n",
    "    #IRdisplay::display_html(res)\n",
    "    edt = Sys.time()\n",
    "    #print(edt-bgt)\n",
    "    IRdisplay::display_html(beta_j_lasso)\n",
    "    #IRdisplay::display_html(theta[1:6, 1:6])\n",
    "    new_objV1 = new_objV2 = 0\n",
    "    for(t in 1:P){\n",
    "        if (theta[])\n",
    "        new_objV1 = new_objV1 + 1/2*mean((Y[[t]]-X[[t]]%*%theta[,t])^2)\n",
    "        #IRdisplay::display_html(sum(is.na(X[[t]])))\n",
    "        #IRdisplay::display_html(sum(is.na(Y[[t]])))\n",
    "        #IRdisplay::display_html(theta[,t])\n",
    "    }\n",
    "    IRdisplay::display_html(paste0(\"Training error: \", new_objV1, '\\n'))\n",
    "    for(t in 1:P){\n",
    "        new_objV2 = new_objV2 + 1/2*mean((Y1[[t]]-X1[[t]]%*%theta[,t])^2)\n",
    "        #IRdisplay::display_html(sum(is.na(X[[t]])))\n",
    "        #IRdisplay::display_html(sum(is.na(Y[[t]])))\n",
    "        #IRdisplay::display_html(theta[,t])\n",
    "    }\n",
    "    IRdisplay::display_html(paste0(\"Testing error: \", new_objV2, '\\n'))\n",
    "    if(new_objV2 > old_objV2|new_objV1 > old_objV1){\n",
    "        break\n",
    "    }else{\n",
    "        old_objV2 = new_objV2\n",
    "    }\n",
    "    if(abs(new_objV1-old_objV1) < eps){\n",
    "        break\n",
    "    }else{\n",
    "        old_objV1 = new_objV1\n",
    "    }\n",
    "}\n",
    "#edt = Sys.time()\n",
    "#print(edt-bgt)\n",
    "#list(est = theta, tune_err = new_objV2)"
   ]
  },
  {
   "cell_type": "code",
   "execution_count": 56,
   "metadata": {},
   "outputs": [
    {
     "data": {
      "text/html": [
       "348243"
      ],
      "text/latex": [
       "348243"
      ],
      "text/markdown": [
       "348243"
      ],
      "text/plain": [
       "[1] 348243"
      ]
     },
     "metadata": {},
     "output_type": "display_data"
    },
    {
     "data": {
      "text/html": [
       "0"
      ],
      "text/latex": [
       "0"
      ],
      "text/markdown": [
       "0"
      ],
      "text/plain": [
       "[1] 0"
      ]
     },
     "metadata": {},
     "output_type": "display_data"
    },
    {
     "data": {
      "text/html": [
       "0"
      ],
      "text/latex": [
       "0"
      ],
      "text/markdown": [
       "0"
      ],
      "text/plain": [
       "[1] 0"
      ]
     },
     "metadata": {},
     "output_type": "display_data"
    }
   ],
   "source": [
    "length(beta_j_lasso_matrix)\n",
    "sum(is.na(beta_j_lasso_matrix))\n",
    "sum(is.infinite(beta_j_lasso_matrix))"
   ]
  },
  {
   "cell_type": "code",
   "execution_count": 57,
   "metadata": {},
   "outputs": [
    {
     "data": {
      "text/html": [
       "0"
      ],
      "text/latex": [
       "0"
      ],
      "text/markdown": [
       "0"
      ],
      "text/plain": [
       "[1] 0"
      ]
     },
     "metadata": {},
     "output_type": "display_data"
    },
    {
     "data": {
      "text/html": [
       "0"
      ],
      "text/latex": [
       "0"
      ],
      "text/markdown": [
       "0"
      ],
      "text/plain": [
       "[1] 0"
      ]
     },
     "metadata": {},
     "output_type": "display_data"
    },
    {
     "data": {
      "text/html": [
       "48"
      ],
      "text/latex": [
       "48"
      ],
      "text/markdown": [
       "48"
      ],
      "text/plain": [
       "[1] 48"
      ]
     },
     "metadata": {},
     "output_type": "display_data"
    },
    {
     "data": {
      "text/html": [
       "236"
      ],
      "text/latex": [
       "236"
      ],
      "text/markdown": [
       "236"
      ],
      "text/plain": [
       "[1] 236"
      ]
     },
     "metadata": {},
     "output_type": "display_data"
    },
    {
     "data": {
      "text/html": [
       "48"
      ],
      "text/latex": [
       "48"
      ],
      "text/markdown": [
       "48"
      ],
      "text/plain": [
       "[1] 48"
      ]
     },
     "metadata": {},
     "output_type": "display_data"
    },
    {
     "data": {
      "text/html": [
       "236"
      ],
      "text/latex": [
       "236"
      ],
      "text/markdown": [
       "236"
      ],
      "text/plain": [
       "[1] 236"
      ]
     },
     "metadata": {},
     "output_type": "display_data"
    }
   ],
   "source": [
    "sum(is.na(initial_numeric))\n",
    "sum(is.infinite(initial_numeric))\n",
    "sum(is.na(single_est))\n",
    "sum(is.infinite(single_est))\n",
    "sum(is.na(theta))\n",
    "sum(is.infinite(theta))"
   ]
  },
  {
   "cell_type": "code",
   "execution_count": 39,
   "metadata": {},
   "outputs": [
    {
     "data": {
      "text/html": [
       "0"
      ],
      "text/latex": [
       "0"
      ],
      "text/markdown": [
       "0"
      ],
      "text/plain": [
       "[1] 0"
      ]
     },
     "metadata": {},
     "output_type": "display_data"
    },
    {
     "data": {
      "text/html": [
       "0"
      ],
      "text/latex": [
       "0"
      ],
      "text/markdown": [
       "0"
      ],
      "text/plain": [
       "[1] 0"
      ]
     },
     "metadata": {},
     "output_type": "display_data"
    }
   ],
   "source": [
    "single_est = matrix(initial_numeric, M, P)\n",
    "sum(is.na(single_est))\n",
    "sum(is.infinite(single_est))\n"
   ]
  },
  {
   "cell_type": "code",
   "execution_count": null,
   "metadata": {},
   "outputs": [],
   "source": []
  },
  {
   "cell_type": "code",
   "execution_count": 58,
   "metadata": {},
   "outputs": [
    {
     "data": {
      "text/html": [
       "Training error: 12.7501624583751\n"
      ]
     },
     "metadata": {},
     "output_type": "display_data"
    },
    {
     "data": {
      "text/html": [
       "Testing error: 19.1527581743537\n"
      ]
     },
     "metadata": {},
     "output_type": "display_data"
    },
    {
     "data": {
      "text/html": [
       0,
       0,
       0,
       0,
       0,
       0,
       0,
       0,
       0,
       0,
       0,
       0,
       0,
       0,
       0,
       0,
       0,
       0,
       0,
       0,
       0,
       0,
       0,
       0,
       0,
       0,
       0,
       0,
       0,
       0,
       0,
       0,
       0,
       0,
       0,
       0,
       0,
       0,
       0,
       0,
       0,
       0,
       0,
       0,
       0,
       0,
       0,
       0,
       0
      ]
     },
     "metadata": {},
     "output_type": "display_data"
    },
    {
     "name": "stderr",
     "output_type": "stream",
     "text": [
      "Warning message in if (theta[]) new_objV1 = new_objV1 + 1/2 * mean((Y[[t]] - X[[t]] %*% :\n",
      "“the condition has length > 1 and only the first element will be used”\n",
      "Warning message in if (theta[]) new_objV1 = new_objV1 + 1/2 * mean((Y[[t]] - X[[t]] %*% :\n",
      "“the condition has length > 1 and only the first element will be used”\n",
      "Warning message in if (theta[]) new_objV1 = new_objV1 + 1/2 * mean((Y[[t]] - X[[t]] %*% :\n",
      "“the condition has length > 1 and only the first element will be used”\n",
      "Warning message in if (theta[]) new_objV1 = new_objV1 + 1/2 * mean((Y[[t]] - X[[t]] %*% :\n",
      "“the condition has length > 1 and only the first element will be used”\n",
      "Warning message in if (theta[]) new_objV1 = new_objV1 + 1/2 * mean((Y[[t]] - X[[t]] %*% :\n",
      "“the condition has length > 1 and only the first element will be used”\n",
      "Warning message in if (theta[]) new_objV1 = new_objV1 + 1/2 * mean((Y[[t]] - X[[t]] %*% :\n",
      "“the condition has length > 1 and only the first element will be used”\n",
      "Warning message in if (theta[]) new_objV1 = new_objV1 + 1/2 * mean((Y[[t]] - X[[t]] %*% :\n",
      "“the condition has length > 1 and only the first element will be used”\n",
      "Warning message in if (theta[]) new_objV1 = new_objV1 + 1/2 * mean((Y[[t]] - X[[t]] %*% :\n",
      "“the condition has length > 1 and only the first element will be used”\n",
      "Warning message in if (theta[]) new_objV1 = new_objV1 + 1/2 * mean((Y[[t]] - X[[t]] %*% :\n",
      "“the condition has length > 1 and only the first element will be used”\n",
      "Warning message in if (theta[]) new_objV1 = new_objV1 + 1/2 * mean((Y[[t]] - X[[t]] %*% :\n",
      "“the condition has length > 1 and only the first element will be used”\n",
      "Warning message in if (theta[]) new_objV1 = new_objV1 + 1/2 * mean((Y[[t]] - X[[t]] %*% :\n",
      "“the condition has length > 1 and only the first element will be used”\n",
      "Warning message in if (theta[]) new_objV1 = new_objV1 + 1/2 * mean((Y[[t]] - X[[t]] %*% :\n",
      "“the condition has length > 1 and only the first element will be used”\n",
      "Warning message in if (theta[]) new_objV1 = new_objV1 + 1/2 * mean((Y[[t]] - X[[t]] %*% :\n",
      "“the condition has length > 1 and only the first element will be used”\n",
      "Warning message in if (theta[]) new_objV1 = new_objV1 + 1/2 * mean((Y[[t]] - X[[t]] %*% :\n",
      "“the condition has length > 1 and only the first element will be used”\n",
      "Warning message in if (theta[]) new_objV1 = new_objV1 + 1/2 * mean((Y[[t]] - X[[t]] %*% :\n",
      "“the condition has length > 1 and only the first element will be used”\n",
      "Warning message in if (theta[]) new_objV1 = new_objV1 + 1/2 * mean((Y[[t]] - X[[t]] %*% :\n",
      "“the condition has length > 1 and only the first element will be used”\n",
      "Warning message in if (theta[]) new_objV1 = new_objV1 + 1/2 * mean((Y[[t]] - X[[t]] %*% :\n",
      "“the condition has length > 1 and only the first element will be used”\n",
      "Warning message in if (theta[]) new_objV1 = new_objV1 + 1/2 * mean((Y[[t]] - X[[t]] %*% :\n",
      "“the condition has length > 1 and only the first element will be used”\n",
      "Warning message in if (theta[]) new_objV1 = new_objV1 + 1/2 * mean((Y[[t]] - X[[t]] %*% :\n",
      "“the condition has length > 1 and only the first element will be used”\n",
      "Warning message in if (theta[]) new_objV1 = new_objV1 + 1/2 * mean((Y[[t]] - X[[t]] %*% :\n",
      "“the condition has length > 1 and only the first element will be used”\n",
      "Warning message in if (theta[]) new_objV1 = new_objV1 + 1/2 * mean((Y[[t]] - X[[t]] %*% :\n",
      "“the condition has length > 1 and only the first element will be used”\n",
      "Warning message in if (theta[]) new_objV1 = new_objV1 + 1/2 * mean((Y[[t]] - X[[t]] %*% :\n",
      "“the condition has length > 1 and only the first element will be used”\n",
      "Warning message in if (theta[]) new_objV1 = new_objV1 + 1/2 * mean((Y[[t]] - X[[t]] %*% :\n",
      "“the condition has length > 1 and only the first element will be used”\n",
      "Warning message in if (theta[]) new_objV1 = new_objV1 + 1/2 * mean((Y[[t]] - X[[t]] %*% :\n",
      "“the condition has length > 1 and only the first element will be used”\n",
      "Warning message in if (theta[]) new_objV1 = new_objV1 + 1/2 * mean((Y[[t]] - X[[t]] %*% :\n",
      "“the condition has length > 1 and only the first element will be used”\n",
      "Warning message in if (theta[]) new_objV1 = new_objV1 + 1/2 * mean((Y[[t]] - X[[t]] %*% :\n",
      "“the condition has length > 1 and only the first element will be used”\n",
      "Warning message in if (theta[]) new_objV1 = new_objV1 + 1/2 * mean((Y[[t]] - X[[t]] %*% :\n",
      "“the condition has length > 1 and only the first element will be used”\n",
      "Warning message in if (theta[]) new_objV1 = new_objV1 + 1/2 * mean((Y[[t]] - X[[t]] %*% :\n",
      "“the condition has length > 1 and only the first element will be used”\n",
      "Warning message in if (theta[]) new_objV1 = new_objV1 + 1/2 * mean((Y[[t]] - X[[t]] %*% :\n",
      "“the condition has length > 1 and only the first element will be used”\n",
      "Warning message in if (theta[]) new_objV1 = new_objV1 + 1/2 * mean((Y[[t]] - X[[t]] %*% :\n",
      "“the condition has length > 1 and only the first element will be used”\n",
      "Warning message in if (theta[]) new_objV1 = new_objV1 + 1/2 * mean((Y[[t]] - X[[t]] %*% :\n",
      "“the condition has length > 1 and only the first element will be used”\n",
      "Warning message in if (theta[]) new_objV1 = new_objV1 + 1/2 * mean((Y[[t]] - X[[t]] %*% :\n",
      "“the condition has length > 1 and only the first element will be used”\n",
      "Warning message in if (theta[]) new_objV1 = new_objV1 + 1/2 * mean((Y[[t]] - X[[t]] %*% :\n",
      "“the condition has length > 1 and only the first element will be used”\n",
      "Warning message in if (theta[]) new_objV1 = new_objV1 + 1/2 * mean((Y[[t]] - X[[t]] %*% :\n",
      "“the condition has length > 1 and only the first element will be used”\n",
      "Warning message in if (theta[]) new_objV1 = new_objV1 + 1/2 * mean((Y[[t]] - X[[t]] %*% :\n",
      "“the condition has length > 1 and only the first element will be used”\n",
      "Warning message in if (theta[]) new_objV1 = new_objV1 + 1/2 * mean((Y[[t]] - X[[t]] %*% :\n",
      "“the condition has length > 1 and only the first element will be used”\n",
      "Warning message in if (theta[]) new_objV1 = new_objV1 + 1/2 * mean((Y[[t]] - X[[t]] %*% :\n",
      "“the condition has length > 1 and only the first element will be used”\n",
      "Warning message in if (theta[]) new_objV1 = new_objV1 + 1/2 * mean((Y[[t]] - X[[t]] %*% :\n",
      "“the condition has length > 1 and only the first element will be used”\n",
      "Warning message in if (theta[]) new_objV1 = new_objV1 + 1/2 * mean((Y[[t]] - X[[t]] %*% :\n",
      "“the condition has length > 1 and only the first element will be used”\n",
      "Warning message in if (theta[]) new_objV1 = new_objV1 + 1/2 * mean((Y[[t]] - X[[t]] %*% :\n",
      "“the condition has length > 1 and only the first element will be used”\n",
      "Warning message in if (theta[]) new_objV1 = new_objV1 + 1/2 * mean((Y[[t]] - X[[t]] %*% :\n",
      "“the condition has length > 1 and only the first element will be used”\n",
      "Warning message in if (theta[]) new_objV1 = new_objV1 + 1/2 * mean((Y[[t]] - X[[t]] %*% :\n",
      "“the condition has length > 1 and only the first element will be used”\n",
      "Warning message in if (theta[]) new_objV1 = new_objV1 + 1/2 * mean((Y[[t]] - X[[t]] %*% :\n",
      "“the condition has length > 1 and only the first element will be used”\n",
      "Warning message in if (theta[]) new_objV1 = new_objV1 + 1/2 * mean((Y[[t]] - X[[t]] %*% :\n",
      "“the condition has length > 1 and only the first element will be used”\n",
      "Warning message in if (theta[]) new_objV1 = new_objV1 + 1/2 * mean((Y[[t]] - X[[t]] %*% :\n",
      "“the condition has length > 1 and only the first element will be used”\n",
      "Warning message in if (theta[]) new_objV1 = new_objV1 + 1/2 * mean((Y[[t]] - X[[t]] %*% :\n",
      "“the condition has length > 1 and only the first element will be used”\n",
      "Warning message in if (theta[]) new_objV1 = new_objV1 + 1/2 * mean((Y[[t]] - X[[t]] %*% :\n",
      "“the condition has length > 1 and only the first element will be used”\n",
      "Warning message in if (theta[]) new_objV1 = new_objV1 + 1/2 * mean((Y[[t]] - X[[t]] %*% :\n",
      "“the condition has length > 1 and only the first element will be used”\n",
      "Warning message in if (theta[]) new_objV1 = new_objV1 + 1/2 * mean((Y[[t]] - X[[t]] %*% :\n",
      "“the condition has length > 1 and only the first element will be used”\n"
     ]
    },
    {
     "data": {
      "text/html": [
       "Training error: NaN\n"
      ]
     },
     "metadata": {},
     "output_type": "display_data"
    },
    {
     "data": {
      "text/html": [
       "Testing error: NaN\n"
      ]
     },
     "metadata": {},
     "output_type": "display_data"
    },
    {
     "ename": "ERROR",
     "evalue": "Error in if (new_objV2 > old_objV2 | new_objV1 > old_objV1) {: missing value where TRUE/FALSE needed\n",
     "output_type": "error",
     "traceback": [
      "Error in if (new_objV2 > old_objV2 | new_objV1 > old_objV1) {: missing value where TRUE/FALSE needed\nTraceback:\n"
     ]
    }
   ],
   "source": [
    "# parameters\n",
    "lam = 1\n",
    "X=X_train\n",
    "Y=Y_train\n",
    "X1=X_tune\n",
    "Y1=Y_tune\n",
    "XX=XX_train\n",
    "Xnorm=Xnorm\n",
    "lambda1=lam_V[lam]\n",
    "lambda2=lam_V[lam]\n",
    "single_est = matrix(initial_numeric, M, P)\n",
    "theta=single_est\n",
    "maxiter = 10\n",
    "\n",
    "# wrapper function \n",
    "#dyn.load(\"/ysm-gpfs/pi/zhao/zy92/projects/utmost_update/CTIMP/optim.so\")\n",
    "dyn.load(\"/gpfs/project/zhao/zy92/utmost_update/CTIMP/optim.so\")\n",
    "\n",
    "bgt = Sys.time()\n",
    "M = nrow(XY)\n",
    "P = length(X)\n",
    "NN = unlist(lapply(X, nrow))\n",
    "old_objV1 = 0\n",
    "for(t in 1:P){\n",
    "    old_objV1 = old_objV1 + 1/2*mean((Y[[t]]-X[[t]]%*%theta[,t])^2)\n",
    "}\n",
    "IRdisplay::display_html(paste0(\"Training error: \", old_objV1, '\\n'))\n",
    "old_objV2 = 0\n",
    "for(t in 1:P){\n",
    "    old_objV2 = old_objV2 + 1/2*mean((Y1[[t]]-X1[[t]]%*%theta[,t])^2)\n",
    "}\n",
    "IRdisplay::display_html(paste0(\"Testing error: \", old_objV2, '\\n'))\n",
    "beta_j_lasso = rep(0, P)\n",
    "beta_j_lasso_matrix = rep(0, M*P)\n",
    "output_res = rep(0, P)\n",
    "tmp_XYj = 0\n",
    "\n",
    "for(i in 1:maxiter){\n",
    "    bgt = Sys.time()\n",
    "    res = .Call(\"wrapper\", XX, XY, theta, M, P, beta_j_lasso, beta_j_lasso_matrix, lambda1, lambda2, Xnorm, output_res)\n",
    "    #IRdisplay::display_html(res)\n",
    "    edt = Sys.time()\n",
    "    #print(edt-bgt)\n",
    "    IRdisplay::display_html(beta_j_lasso)\n",
    "    #IRdisplay::display_html(theta[1:6, 1:6])\n",
    "    new_objV1 = new_objV2 = 0\n",
    "    for(t in 1:P){\n",
    "        if (theta[])\n",
    "        new_objV1 = new_objV1 + 1/2*mean((Y[[t]]-X[[t]]%*%theta[,t])^2)\n",
    "        #IRdisplay::display_html(sum(is.na(X[[t]])))\n",
    "        #IRdisplay::display_html(sum(is.na(Y[[t]])))\n",
    "        #IRdisplay::display_html(theta[,t])\n",
    "    }\n",
    "    IRdisplay::display_html(paste0(\"Training error: \", new_objV1, '\\n'))\n",
    "    for(t in 1:P){\n",
    "        new_objV2 = new_objV2 + 1/2*mean((Y1[[t]]-X1[[t]]%*%theta[,t])^2)\n",
    "        #IRdisplay::display_html(sum(is.na(X[[t]])))\n",
    "        #IRdisplay::display_html(sum(is.na(Y[[t]])))\n",
    "        #IRdisplay::display_html(theta[,t])\n",
    "    }\n",
    "    IRdisplay::display_html(paste0(\"Testing error: \", new_objV2, '\\n'))\n",
    "    if(new_objV2 > old_objV2|new_objV1 > old_objV1){\n",
    "        break\n",
    "    }else{\n",
    "        old_objV2 = new_objV2\n",
    "    }\n",
    "    if(abs(new_objV1-old_objV1) < eps){\n",
    "        break\n",
    "    }else{\n",
    "        old_objV1 = new_objV1\n",
    "    }\n",
    "}\n",
    "#edt = Sys.time()\n",
    "#print(edt-bgt)\n",
    "#list(est = theta, tune_err = new_objV2)"
   ]
  },
  {
   "cell_type": "code",
   "execution_count": 59,
   "metadata": {},
   "outputs": [
    {
     "data": {
      "text/html": [
       "348243"
      ],
      "text/latex": [
       "348243"
      ],
      "text/markdown": [
       "348243"
      ],
      "text/plain": [
       "[1] 348243"
      ]
     },
     "metadata": {},
     "output_type": "display_data"
    },
    {
     "data": {
      "text/html": [
       "307083"
      ],
      "text/latex": [
       "307083"
      ],
      "text/markdown": [
       "307083"
      ],
      "text/plain": [
       "[1] 307083"
      ]
     },
     "metadata": {},
     "output_type": "display_data"
    },
    {
     "data": {
      "text/html": [
       "49"
      ],
      "text/latex": [
       "49"
      ],
      "text/markdown": [
       "49"
      ],
      "text/plain": [
       "[1] 49"
      ]
     },
     "metadata": {},
     "output_type": "display_data"
    }
   ],
   "source": [
    "length(beta_j_lasso_matrix)\n",
    "sum(is.na(beta_j_lasso_matrix))\n",
    "sum(is.infinite(beta_j_lasso_matrix))"
   ]
  },
  {
   "cell_type": "code",
   "execution_count": 60,
   "metadata": {},
   "outputs": [
    {
     "data": {
      "text/html": [
       "0"
      ],
      "text/latex": [
       "0"
      ],
      "text/markdown": [
       "0"
      ],
      "text/plain": [
       "[1] 0"
      ]
     },
     "metadata": {},
     "output_type": "display_data"
    },
    {
     "data": {
      "text/html": [
       "0"
      ],
      "text/latex": [
       "0"
      ],
      "text/markdown": [
       "0"
      ],
      "text/plain": [
       "[1] 0"
      ]
     },
     "metadata": {},
     "output_type": "display_data"
    },
    {
     "data": {
      "text/html": [
       "0"
      ],
      "text/latex": [
       "0"
      ],
      "text/markdown": [
       "0"
      ],
      "text/plain": [
       "[1] 0"
      ]
     },
     "metadata": {},
     "output_type": "display_data"
    },
    {
     "data": {
      "text/html": [
       "98"
      ],
      "text/latex": [
       "98"
      ],
      "text/markdown": [
       "98"
      ],
      "text/plain": [
       "[1] 98"
      ]
     },
     "metadata": {},
     "output_type": "display_data"
    },
    {
     "data": {
      "text/html": [
       "0"
      ],
      "text/latex": [
       "0"
      ],
      "text/markdown": [
       "0"
      ],
      "text/plain": [
       "[1] 0"
      ]
     },
     "metadata": {},
     "output_type": "display_data"
    },
    {
     "data": {
      "text/html": [
       "98"
      ],
      "text/latex": [
       "98"
      ],
      "text/markdown": [
       "98"
      ],
      "text/plain": [
       "[1] 98"
      ]
     },
     "metadata": {},
     "output_type": "display_data"
    }
   ],
   "source": [
    "sum(is.na(initial_numeric))\n",
    "sum(is.infinite(initial_numeric))\n",
    "sum(is.na(single_est))\n",
    "sum(is.infinite(single_est))\n",
    "sum(is.na(theta))\n",
    "sum(is.infinite(theta))"
   ]
  },
  {
   "cell_type": "code",
   "execution_count": 69,
   "metadata": {},
   "outputs": [
    {
     "data": {
      "text/html": [
       "348243"
      ],
      "text/latex": [
       "348243"
      ],
      "text/markdown": [
       "348243"
      ],
      "text/plain": [
       "[1] 348243"
      ]
     },
     "metadata": {},
     "output_type": "display_data"
    },
    {
     "data": {
      "text/html": [
       "7107"
      ],
      "text/latex": [
       "7107"
      ],
      "text/markdown": [
       "7107"
      ],
      "text/plain": [
       "[1] 7107"
      ]
     },
     "metadata": {},
     "output_type": "display_data"
    }
   ],
   "source": [
    "length(single_est)\n",
    "M"
   ]
  },
  {
   "cell_type": "code",
   "execution_count": null,
   "metadata": {},
   "outputs": [],
   "source": [
    "# theta as a vector"
   ]
  },
  {
   "cell_type": "code",
   "execution_count": 76,
   "metadata": {},
   "outputs": [
    {
     "data": {
      "text/html": [
       "Training error: 12.7501624583751\n"
      ]
     },
     "metadata": {},
     "output_type": "display_data"
    },
    {
     "data": {
      "text/html": [
       "Testing error: 19.1527581743537\n"
      ]
     },
     "metadata": {},
     "output_type": "display_data"
    },
    {
     "data": {
      "text/html": [
       0,
       0,
       0,
       0,
       0,
       0,
       0,
       0,
       0,
       0,
       0,
       0,
       0,
       0,
       0,
       0,
       0,
       0,
       0,
       0,
       0,
       0,
       0,
       0,
       0,
       0,
       0,
       0,
       0,
       0,
       0,
       0,
       0,
       0,
       0,
       0,
       0,
       0,
       0,
       0,
       0,
       0,
       0,
       0,
       0,
       0,
       0,
       0,
       0
      ]
     },
     "metadata": {},
     "output_type": "display_data"
    },
    {
     "name": "stderr",
     "output_type": "stream",
     "text": [
      "Warning message in if (theta[]) new_objV1 = new_objV1 + 1/2 * mean((Y[[t]] - X[[t]] %*% :\n",
      "“the condition has length > 1 and only the first element will be used”\n",
      "Warning message in if (theta[]) new_objV1 = new_objV1 + 1/2 * mean((Y[[t]] - X[[t]] %*% :\n",
      "“the condition has length > 1 and only the first element will be used”\n",
      "Warning message in if (theta[]) new_objV1 = new_objV1 + 1/2 * mean((Y[[t]] - X[[t]] %*% :\n",
      "“the condition has length > 1 and only the first element will be used”\n",
      "Warning message in if (theta[]) new_objV1 = new_objV1 + 1/2 * mean((Y[[t]] - X[[t]] %*% :\n",
      "“the condition has length > 1 and only the first element will be used”\n",
      "Warning message in if (theta[]) new_objV1 = new_objV1 + 1/2 * mean((Y[[t]] - X[[t]] %*% :\n",
      "“the condition has length > 1 and only the first element will be used”\n",
      "Warning message in if (theta[]) new_objV1 = new_objV1 + 1/2 * mean((Y[[t]] - X[[t]] %*% :\n",
      "“the condition has length > 1 and only the first element will be used”\n",
      "Warning message in if (theta[]) new_objV1 = new_objV1 + 1/2 * mean((Y[[t]] - X[[t]] %*% :\n",
      "“the condition has length > 1 and only the first element will be used”\n",
      "Warning message in if (theta[]) new_objV1 = new_objV1 + 1/2 * mean((Y[[t]] - X[[t]] %*% :\n",
      "“the condition has length > 1 and only the first element will be used”\n",
      "Warning message in if (theta[]) new_objV1 = new_objV1 + 1/2 * mean((Y[[t]] - X[[t]] %*% :\n",
      "“the condition has length > 1 and only the first element will be used”\n",
      "Warning message in if (theta[]) new_objV1 = new_objV1 + 1/2 * mean((Y[[t]] - X[[t]] %*% :\n",
      "“the condition has length > 1 and only the first element will be used”\n",
      "Warning message in if (theta[]) new_objV1 = new_objV1 + 1/2 * mean((Y[[t]] - X[[t]] %*% :\n",
      "“the condition has length > 1 and only the first element will be used”\n",
      "Warning message in if (theta[]) new_objV1 = new_objV1 + 1/2 * mean((Y[[t]] - X[[t]] %*% :\n",
      "“the condition has length > 1 and only the first element will be used”\n",
      "Warning message in if (theta[]) new_objV1 = new_objV1 + 1/2 * mean((Y[[t]] - X[[t]] %*% :\n",
      "“the condition has length > 1 and only the first element will be used”\n",
      "Warning message in if (theta[]) new_objV1 = new_objV1 + 1/2 * mean((Y[[t]] - X[[t]] %*% :\n",
      "“the condition has length > 1 and only the first element will be used”\n",
      "Warning message in if (theta[]) new_objV1 = new_objV1 + 1/2 * mean((Y[[t]] - X[[t]] %*% :\n",
      "“the condition has length > 1 and only the first element will be used”\n",
      "Warning message in if (theta[]) new_objV1 = new_objV1 + 1/2 * mean((Y[[t]] - X[[t]] %*% :\n",
      "“the condition has length > 1 and only the first element will be used”\n",
      "Warning message in if (theta[]) new_objV1 = new_objV1 + 1/2 * mean((Y[[t]] - X[[t]] %*% :\n",
      "“the condition has length > 1 and only the first element will be used”\n",
      "Warning message in if (theta[]) new_objV1 = new_objV1 + 1/2 * mean((Y[[t]] - X[[t]] %*% :\n",
      "“the condition has length > 1 and only the first element will be used”\n",
      "Warning message in if (theta[]) new_objV1 = new_objV1 + 1/2 * mean((Y[[t]] - X[[t]] %*% :\n",
      "“the condition has length > 1 and only the first element will be used”\n",
      "Warning message in if (theta[]) new_objV1 = new_objV1 + 1/2 * mean((Y[[t]] - X[[t]] %*% :\n",
      "“the condition has length > 1 and only the first element will be used”\n",
      "Warning message in if (theta[]) new_objV1 = new_objV1 + 1/2 * mean((Y[[t]] - X[[t]] %*% :\n",
      "“the condition has length > 1 and only the first element will be used”\n",
      "Warning message in if (theta[]) new_objV1 = new_objV1 + 1/2 * mean((Y[[t]] - X[[t]] %*% :\n",
      "“the condition has length > 1 and only the first element will be used”\n",
      "Warning message in if (theta[]) new_objV1 = new_objV1 + 1/2 * mean((Y[[t]] - X[[t]] %*% :\n",
      "“the condition has length > 1 and only the first element will be used”\n",
      "Warning message in if (theta[]) new_objV1 = new_objV1 + 1/2 * mean((Y[[t]] - X[[t]] %*% :\n",
      "“the condition has length > 1 and only the first element will be used”\n",
      "Warning message in if (theta[]) new_objV1 = new_objV1 + 1/2 * mean((Y[[t]] - X[[t]] %*% :\n",
      "“the condition has length > 1 and only the first element will be used”\n",
      "Warning message in if (theta[]) new_objV1 = new_objV1 + 1/2 * mean((Y[[t]] - X[[t]] %*% :\n",
      "“the condition has length > 1 and only the first element will be used”\n",
      "Warning message in if (theta[]) new_objV1 = new_objV1 + 1/2 * mean((Y[[t]] - X[[t]] %*% :\n",
      "“the condition has length > 1 and only the first element will be used”\n",
      "Warning message in if (theta[]) new_objV1 = new_objV1 + 1/2 * mean((Y[[t]] - X[[t]] %*% :\n",
      "“the condition has length > 1 and only the first element will be used”\n",
      "Warning message in if (theta[]) new_objV1 = new_objV1 + 1/2 * mean((Y[[t]] - X[[t]] %*% :\n",
      "“the condition has length > 1 and only the first element will be used”\n",
      "Warning message in if (theta[]) new_objV1 = new_objV1 + 1/2 * mean((Y[[t]] - X[[t]] %*% :\n",
      "“the condition has length > 1 and only the first element will be used”\n",
      "Warning message in if (theta[]) new_objV1 = new_objV1 + 1/2 * mean((Y[[t]] - X[[t]] %*% :\n",
      "“the condition has length > 1 and only the first element will be used”\n",
      "Warning message in if (theta[]) new_objV1 = new_objV1 + 1/2 * mean((Y[[t]] - X[[t]] %*% :\n",
      "“the condition has length > 1 and only the first element will be used”\n",
      "Warning message in if (theta[]) new_objV1 = new_objV1 + 1/2 * mean((Y[[t]] - X[[t]] %*% :\n",
      "“the condition has length > 1 and only the first element will be used”\n",
      "Warning message in if (theta[]) new_objV1 = new_objV1 + 1/2 * mean((Y[[t]] - X[[t]] %*% :\n",
      "“the condition has length > 1 and only the first element will be used”\n",
      "Warning message in if (theta[]) new_objV1 = new_objV1 + 1/2 * mean((Y[[t]] - X[[t]] %*% :\n",
      "“the condition has length > 1 and only the first element will be used”\n",
      "Warning message in if (theta[]) new_objV1 = new_objV1 + 1/2 * mean((Y[[t]] - X[[t]] %*% :\n",
      "“the condition has length > 1 and only the first element will be used”\n",
      "Warning message in if (theta[]) new_objV1 = new_objV1 + 1/2 * mean((Y[[t]] - X[[t]] %*% :\n",
      "“the condition has length > 1 and only the first element will be used”\n",
      "Warning message in if (theta[]) new_objV1 = new_objV1 + 1/2 * mean((Y[[t]] - X[[t]] %*% :\n",
      "“the condition has length > 1 and only the first element will be used”\n",
      "Warning message in if (theta[]) new_objV1 = new_objV1 + 1/2 * mean((Y[[t]] - X[[t]] %*% :\n",
      "“the condition has length > 1 and only the first element will be used”\n",
      "Warning message in if (theta[]) new_objV1 = new_objV1 + 1/2 * mean((Y[[t]] - X[[t]] %*% :\n",
      "“the condition has length > 1 and only the first element will be used”\n",
      "Warning message in if (theta[]) new_objV1 = new_objV1 + 1/2 * mean((Y[[t]] - X[[t]] %*% :\n",
      "“the condition has length > 1 and only the first element will be used”\n",
      "Warning message in if (theta[]) new_objV1 = new_objV1 + 1/2 * mean((Y[[t]] - X[[t]] %*% :\n",
      "“the condition has length > 1 and only the first element will be used”\n",
      "Warning message in if (theta[]) new_objV1 = new_objV1 + 1/2 * mean((Y[[t]] - X[[t]] %*% :\n",
      "“the condition has length > 1 and only the first element will be used”\n",
      "Warning message in if (theta[]) new_objV1 = new_objV1 + 1/2 * mean((Y[[t]] - X[[t]] %*% :\n",
      "“the condition has length > 1 and only the first element will be used”\n",
      "Warning message in if (theta[]) new_objV1 = new_objV1 + 1/2 * mean((Y[[t]] - X[[t]] %*% :\n",
      "“the condition has length > 1 and only the first element will be used”\n",
      "Warning message in if (theta[]) new_objV1 = new_objV1 + 1/2 * mean((Y[[t]] - X[[t]] %*% :\n",
      "“the condition has length > 1 and only the first element will be used”\n",
      "Warning message in if (theta[]) new_objV1 = new_objV1 + 1/2 * mean((Y[[t]] - X[[t]] %*% :\n",
      "“the condition has length > 1 and only the first element will be used”\n",
      "Warning message in if (theta[]) new_objV1 = new_objV1 + 1/2 * mean((Y[[t]] - X[[t]] %*% :\n",
      "“the condition has length > 1 and only the first element will be used”\n",
      "Warning message in if (theta[]) new_objV1 = new_objV1 + 1/2 * mean((Y[[t]] - X[[t]] %*% :\n",
      "“the condition has length > 1 and only the first element will be used”\n"
     ]
    },
    {
     "data": {
      "text/html": [
       "Training error: NaN\n"
      ]
     },
     "metadata": {},
     "output_type": "display_data"
    },
    {
     "data": {
      "text/html": [
       "Testing error: NaN\n"
      ]
     },
     "metadata": {},
     "output_type": "display_data"
    },
    {
     "ename": "ERROR",
     "evalue": "Error in if (new_objV2 > old_objV2 | new_objV1 > old_objV1) {: missing value where TRUE/FALSE needed\n",
     "output_type": "error",
     "traceback": [
      "Error in if (new_objV2 > old_objV2 | new_objV1 > old_objV1) {: missing value where TRUE/FALSE needed\nTraceback:\n"
     ]
    }
   ],
   "source": [
    "# parameters\n",
    "lam = 1\n",
    "X=X_train\n",
    "Y=Y_train\n",
    "X1=X_tune\n",
    "Y1=Y_tune\n",
    "XX=XX_train\n",
    "Xnorm=Xnorm\n",
    "lambda1=lam_V[lam]\n",
    "lambda2=lam_V[lam]\n",
    "#single_est = matrix(initial_numeric, M, P)\n",
    "#theta=single_est\n",
    "theta = initial_numeric\n",
    "maxiter = 10\n",
    "\n",
    "# wrapper function \n",
    "#dyn.load(\"/ysm-gpfs/pi/zhao/zy92/projects/utmost_update/CTIMP/optim.so\")\n",
    "dyn.load(\"/gpfs/project/zhao/zy92/utmost_update/CTIMP/optim.so\")\n",
    "\n",
    "bgt = Sys.time()\n",
    "M = nrow(XY)\n",
    "P = length(X)\n",
    "NN = unlist(lapply(X, nrow))\n",
    "old_objV1 = 0\n",
    "for(t in 1:P){\n",
    "    old_objV1 = old_objV1 + 1/2*mean((Y[[t]]-X[[t]]%*%theta[((t-1)*M+1):(t*M)])^2)\n",
    "}\n",
    "IRdisplay::display_html(paste0(\"Training error: \", old_objV1, '\\n'))\n",
    "old_objV2 = 0\n",
    "for(t in 1:P){\n",
    "    old_objV2 = old_objV2 + 1/2*mean((Y1[[t]]-X1[[t]]%*%theta[((t-1)*M+1):(t*M)])^2)\n",
    "}\n",
    "IRdisplay::display_html(paste0(\"Testing error: \", old_objV2, '\\n'))\n",
    "beta_j_lasso = rep(0, P)\n",
    "beta_j_lasso_matrix = rep(0, M*P)\n",
    "output_res = rep(0, P)\n",
    "tmp_XYj = 0\n",
    "\n",
    "for(i in 1:maxiter){\n",
    "    bgt = Sys.time()\n",
    "    res = .Call(\"wrapper\", XX, XY, theta, M, P, beta_j_lasso, beta_j_lasso_matrix, lambda1, lambda2, Xnorm, output_res)\n",
    "    #IRdisplay::display_html(res)\n",
    "    edt = Sys.time()\n",
    "    #print(edt-bgt)\n",
    "    IRdisplay::display_html(beta_j_lasso)\n",
    "    #IRdisplay::display_html(theta[1:6, 1:6])\n",
    "    new_objV1 = new_objV2 = 0\n",
    "    for(t in 1:P){\n",
    "        if (theta[])\n",
    "        new_objV1 = new_objV1 + 1/2*mean((Y[[t]]-X[[t]]%*%theta[((t-1)*M+1):(t*M)])^2)\n",
    "        #IRdisplay::display_html(sum(is.na(X[[t]])))\n",
    "        #IRdisplay::display_html(sum(is.na(Y[[t]])))\n",
    "        #IRdisplay::display_html(theta[,t])\n",
    "    }\n",
    "    IRdisplay::display_html(paste0(\"Training error: \", new_objV1, '\\n'))\n",
    "    for(t in 1:P){\n",
    "        new_objV2 = new_objV2 + 1/2*mean((Y1[[t]]-X1[[t]]%*%theta[((t-1)*M+1):(t*M)])^2)\n",
    "        #IRdisplay::display_html(sum(is.na(X[[t]])))\n",
    "        #IRdisplay::display_html(sum(is.na(Y[[t]])))\n",
    "        #IRdisplay::display_html(theta[,t])\n",
    "    }\n",
    "    IRdisplay::display_html(paste0(\"Testing error: \", new_objV2, '\\n'))\n",
    "    if(new_objV2 > old_objV2|new_objV1 > old_objV1){\n",
    "        break\n",
    "    }else{\n",
    "        old_objV2 = new_objV2\n",
    "    }\n",
    "    if(abs(new_objV1-old_objV1) < eps){\n",
    "        break\n",
    "    }else{\n",
    "        old_objV1 = new_objV1\n",
    "    }\n",
    "}\n",
    "#edt = Sys.time()\n",
    "#print(edt-bgt)\n",
    "#list(est = theta, tune_err = new_objV2)"
   ]
  },
  {
   "cell_type": "code",
   "execution_count": 74,
   "metadata": {},
   "outputs": [
    {
     "data": {
      "text/html": [
       "<style>\n",
       ".list-inline {list-style: none; margin:0; padding: 0}\n",
       ".list-inline>li {display: inline-block}\n",
       ".list-inline>li:not(:last-child)::after {content: \"\\00b7\"; padding: 0 .5ex}\n",
       "</style>\n",
       "<ol class=list-inline><li>-0.218130501015783</li><li>-0.249526222889315</li><li>-0.11361256572841</li><li>-0.0679404133572214</li><li>-0.0339996741268025</li><li>-2.39723899986592e-05</li><li>-0.0200758075258196</li><li>0.00722437726462774</li><li>0.00129515114488351</li><li>-0.000587162180636537</li><li>-0.00501875801439598</li><li>-0.00368611934952661</li><li>0.0187594689792016</li><li>-0.00120396727931184</li><li>-0.0163218451901255</li><li>0</li><li>-0.00651084368513585</li><li>0.00881040386243969</li><li>-0.00249239439908576</li><li>0.0082803245747228</li><li>0.0051831076513251</li><li>-0.00393868378578224</li><li>-0.0103421978093947</li><li>0.00664759197545524</li><li>-0.0113145270682175</li><li>-0.0130793501850707</li><li>0.005410958904155</li><li>0.0201297145028872</li><li>-0.00738176940730773</li><li>-0.0107243397266479</li><li>0.0104982841932291</li><li>-0.00270418999104491</li><li>-0.0102948560989004</li><li>0.018482506774273</li><li>0.00129980474856091</li><li>-0.00526041790716938</li><li>-0.00810776055531034</li><li>0.00740930524002959</li><li>3.16440760185468e-05</li><li>-0.00464214391490347</li><li>0.0102002888583925</li><li>0.000867071590938349</li><li>0.004523248587534</li><li>0.00389703013361739</li><li>0.00594038263987671</li><li>-0.0222074710109002</li><li>-0.0141863750557231</li><li>0.0193395810452447</li><li>-0.0206562021272403</li><li>0.000931094935058748</li><li>0.0164385184070976</li><li>0.00525413517297443</li><li>-0.00980535513057699</li><li>-0.0017188737552874</li><li>-0.0125602448912132</li><li>0.0188230073507371</li><li>-0.00131081161853623</li><li>0.0106668047464868</li><li>0.00221767335795541</li><li>-0.00514226961978017</li><li>0.0133874151982736</li><li>-0.0031721563072351</li><li>-0.00970452941632257</li><li>-0.00609131556562471</li><li>0</li><li>-0.000837906003930513</li><li>0.0168680166816498</li><li>0.00112697911793998</li><li>-0.0103463313203103</li><li>-0.00534098524299361</li><li>0.011868925120322</li><li>0</li><li>-0.00758887524591853</li><li>-0.0128264764721417</li><li>0.0119521461812525</li><li>0.00518021180730406</li><li>0</li><li>0</li><li>0</li><li>-0.0107879094990488</li><li>0.000714513726963687</li><li>0</li><li>0.00431680189919151</li><li>-0.00288432690785071</li><li>0.00146396243768803</li><li>0.00113155275978462</li><li>0.000530237323076569</li><li>0.00100422396275882</li><li>0.00242366365215085</li><li>0.000622543687677429</li><li>0.00185887905667606</li><li>0</li><li>-0.000766460468109716</li><li>0.00459947745732135</li><li>-0.00254626625471769</li><li>-0.00170502020977907</li><li>0</li><li>0</li><li>0</li><li>-0.000641298997130222</li><li>-0.000660354356271101</li><li>0.00141675504668658</li><li>-0.000565021499888901</li><li>0.0049855699588896</li><li>-0.0110411998568993</li><li>0.00693040498729375</li><li>-0.00203049636870952</li><li>0.00198508074289196</li><li>0</li><li>0</li><li>0.00141442141907067</li><li>-0.00128228394646261</li><li>-0.00104411369494204</li><li>0.00867767795396893</li><li>-0.00161514141952278</li><li>-0.00281971270568373</li><li>0.00604881397532835</li><li>-0.00797070287943292</li><li>0.0124737202403537</li><li>-0.00513237291803803</li><li>-0.000187528887148409</li><li>-0.00190529515033886</li><li>0.0020115563961609</li><li>-0.0012976810095015</li><li>-0.00196606749664552</li><li>0</li><li>0</li><li>0.00984983716443369</li><li>-0.0082358705441184</li><li>-0.000254058297694846</li><li>0.00182594839285448</li><li>0.00737090754396635</li><li>-0.0054361561991864</li><li>-0.00218364443174717</li><li>-0.000959011373802492</li><li>-0.00582226463925231</li><li>0.000398363278186939</li><li>0</li><li>0.0056407283723522</li><li>-0.000833772872478449</li><li>-0.000336876233804032</li><li>-0.00795708036234336</li><li>0.00129077982472865</li><li>0</li><li>0.00446950295299079</li><li>-0.000745913408336229</li><li>0.00418969378482448</li><li>-0.00283373993177783</li><li>-0.00436438534654793</li><li>0.00090382871129613</li><li>0.00503487708023066</li><li>-0.00163915464573631</li><li>0.0115875016693764</li><li>-0.00768891361265433</li><li>0.00121733498180719</li><li>-0.00180697760126915</li><li>-0.0132842383035698</li><li>0.00769633117390878</li><li>0.00363251872733981</li><li>0</li><li>-0.00667144575628924</li><li>0.00204154232856731</li><li>0.0067179394713395</li><li>0.00515521505181518</li><li>-0.0102812894527426</li><li>-0.00184825334067814</li><li>-0.000571237554097259</li><li>0.00076753149366521</li><li>-0.00493575310929931</li><li>0.00262114252202443</li><li>-0.0149218783206135</li><li>0.0177179353760003</li><li>0.00726552845373106</li><li>-0.0033771270330443</li><li>0.00181755593495719</li><li>0.00977880851654919</li><li>-0.0102999008833108</li><li>0</li><li>0.000358768365200806</li><li>-0.0038452888368447</li><li>0.0225821575850979</li><li>-0.0104468495534231</li><li>-0.010677287188955</li><li>0.00426637880777013</li><li>-0.00545640652286904</li><li>-0.00211692065206972</li><li>0.00309855970959654</li><li>0.00149807667507823</li><li>-0.00707031447381916</li><li>-0.000265622154693321</li><li>-0.00317095847823747</li><li>0.000297707554988339</li><li>0.0210581105352642</li><li>-0.0338752876086142</li><li>0.0217661751163379</li><li>-0.00406974315849489</li><li>0.0093475500803621</li><li>-0.00727248802464482</li><li>0.00930756004351625</li><li>-0.0104080107994024</li><li>⋯</li><li>0</li><li>0</li><li>0</li><li>0</li><li>0</li><li>0</li><li>0</li><li>0</li><li>0</li><li>0</li><li>0</li><li>0</li><li>0</li><li>0</li><li>0</li><li>0</li><li>0</li><li>0</li><li>0</li><li>0</li><li>0</li><li>0</li><li>0</li><li>0</li><li>0</li><li>0</li><li>0</li><li>0</li><li>0</li><li>0</li><li>0</li><li>0</li><li>0</li><li>0</li><li>0</li><li>0</li><li>0</li><li>0</li><li>0</li><li>0</li><li>0</li><li>0</li><li>0</li><li>0</li><li>0</li><li>0</li><li>0</li><li>0</li><li>0</li><li>0</li><li>0</li><li>0</li><li>0</li><li>0</li><li>0</li><li>0</li><li>0</li><li>0</li><li>0</li><li>0</li><li>0</li><li>0</li><li>0</li><li>0</li><li>0</li><li>0</li><li>0</li><li>0</li><li>0</li><li>0</li><li>0</li><li>0</li><li>0</li><li>0</li><li>0</li><li>0</li><li>0</li><li>0</li><li>0</li><li>0</li><li>0</li><li>0</li><li>0</li><li>0</li><li>0</li><li>0</li><li>0</li><li>0</li><li>0</li><li>0</li><li>0</li><li>0</li><li>0</li><li>0</li><li>0</li><li>0</li><li>0</li><li>0</li><li>0</li><li>0</li><li>0</li><li>0</li><li>0</li><li>0</li><li>0</li><li>0</li><li>0</li><li>0</li><li>0</li><li>0</li><li>0</li><li>0</li><li>0</li><li>0</li><li>0</li><li>0</li><li>0</li><li>0</li><li>0</li><li>0</li><li>0</li><li>0</li><li>0</li><li>0</li><li>0</li><li>0</li><li>0</li><li>0</li><li>0</li><li>0</li><li>0</li><li>0</li><li>0</li><li>0</li><li>0</li><li>0</li><li>0</li><li>0</li><li>0</li><li>0</li><li>0</li><li>0</li><li>0</li><li>0</li><li>0</li><li>0</li><li>0</li><li>0</li><li>0</li><li>0</li><li>0</li><li>0</li><li>0</li><li>0</li><li>0</li><li>0</li><li>0</li><li>0</li><li>0</li><li>0</li><li>0</li><li>0</li><li>0</li><li>0</li><li>0</li><li>0</li><li>0</li><li>0</li><li>0</li><li>0</li><li>0</li><li>0</li><li>0</li><li>0</li><li>0</li><li>0</li><li>0</li><li>0</li><li>0</li><li>0</li><li>0</li><li>0</li><li>0</li><li>0</li><li>0</li><li>0</li><li>0</li><li>0</li><li>0</li><li>0</li><li>0</li><li>0</li><li>0</li><li>0</li><li>0</li><li>0</li><li>0</li><li>0</li><li>0</li><li>0</li></ol>\n"
      ],
      "text/latex": [
       "\\begin{enumerate*}\n",
       "\\item -0.218130501015783\n",
       "\\item -0.249526222889315\n",
       "\\item -0.11361256572841\n",
       "\\item -0.0679404133572214\n",
       "\\item -0.0339996741268025\n",
       "\\item -2.39723899986592e-05\n",
       "\\item -0.0200758075258196\n",
       "\\item 0.00722437726462774\n",
       "\\item 0.00129515114488351\n",
       "\\item -0.000587162180636537\n",
       "\\item -0.00501875801439598\n",
       "\\item -0.00368611934952661\n",
       "\\item 0.0187594689792016\n",
       "\\item -0.00120396727931184\n",
       "\\item -0.0163218451901255\n",
       "\\item 0\n",
       "\\item -0.00651084368513585\n",
       "\\item 0.00881040386243969\n",
       "\\item -0.00249239439908576\n",
       "\\item 0.0082803245747228\n",
       "\\item 0.0051831076513251\n",
       "\\item -0.00393868378578224\n",
       "\\item -0.0103421978093947\n",
       "\\item 0.00664759197545524\n",
       "\\item -0.0113145270682175\n",
       "\\item -0.0130793501850707\n",
       "\\item 0.005410958904155\n",
       "\\item 0.0201297145028872\n",
       "\\item -0.00738176940730773\n",
       "\\item -0.0107243397266479\n",
       "\\item 0.0104982841932291\n",
       "\\item -0.00270418999104491\n",
       "\\item -0.0102948560989004\n",
       "\\item 0.018482506774273\n",
       "\\item 0.00129980474856091\n",
       "\\item -0.00526041790716938\n",
       "\\item -0.00810776055531034\n",
       "\\item 0.00740930524002959\n",
       "\\item 3.16440760185468e-05\n",
       "\\item -0.00464214391490347\n",
       "\\item 0.0102002888583925\n",
       "\\item 0.000867071590938349\n",
       "\\item 0.004523248587534\n",
       "\\item 0.00389703013361739\n",
       "\\item 0.00594038263987671\n",
       "\\item -0.0222074710109002\n",
       "\\item -0.0141863750557231\n",
       "\\item 0.0193395810452447\n",
       "\\item -0.0206562021272403\n",
       "\\item 0.000931094935058748\n",
       "\\item 0.0164385184070976\n",
       "\\item 0.00525413517297443\n",
       "\\item -0.00980535513057699\n",
       "\\item -0.0017188737552874\n",
       "\\item -0.0125602448912132\n",
       "\\item 0.0188230073507371\n",
       "\\item -0.00131081161853623\n",
       "\\item 0.0106668047464868\n",
       "\\item 0.00221767335795541\n",
       "\\item -0.00514226961978017\n",
       "\\item 0.0133874151982736\n",
       "\\item -0.0031721563072351\n",
       "\\item -0.00970452941632257\n",
       "\\item -0.00609131556562471\n",
       "\\item 0\n",
       "\\item -0.000837906003930513\n",
       "\\item 0.0168680166816498\n",
       "\\item 0.00112697911793998\n",
       "\\item -0.0103463313203103\n",
       "\\item -0.00534098524299361\n",
       "\\item 0.011868925120322\n",
       "\\item 0\n",
       "\\item -0.00758887524591853\n",
       "\\item -0.0128264764721417\n",
       "\\item 0.0119521461812525\n",
       "\\item 0.00518021180730406\n",
       "\\item 0\n",
       "\\item 0\n",
       "\\item 0\n",
       "\\item -0.0107879094990488\n",
       "\\item 0.000714513726963687\n",
       "\\item 0\n",
       "\\item 0.00431680189919151\n",
       "\\item -0.00288432690785071\n",
       "\\item 0.00146396243768803\n",
       "\\item 0.00113155275978462\n",
       "\\item 0.000530237323076569\n",
       "\\item 0.00100422396275882\n",
       "\\item 0.00242366365215085\n",
       "\\item 0.000622543687677429\n",
       "\\item 0.00185887905667606\n",
       "\\item 0\n",
       "\\item -0.000766460468109716\n",
       "\\item 0.00459947745732135\n",
       "\\item -0.00254626625471769\n",
       "\\item -0.00170502020977907\n",
       "\\item 0\n",
       "\\item 0\n",
       "\\item 0\n",
       "\\item -0.000641298997130222\n",
       "\\item -0.000660354356271101\n",
       "\\item 0.00141675504668658\n",
       "\\item -0.000565021499888901\n",
       "\\item 0.0049855699588896\n",
       "\\item -0.0110411998568993\n",
       "\\item 0.00693040498729375\n",
       "\\item -0.00203049636870952\n",
       "\\item 0.00198508074289196\n",
       "\\item 0\n",
       "\\item 0\n",
       "\\item 0.00141442141907067\n",
       "\\item -0.00128228394646261\n",
       "\\item -0.00104411369494204\n",
       "\\item 0.00867767795396893\n",
       "\\item -0.00161514141952278\n",
       "\\item -0.00281971270568373\n",
       "\\item 0.00604881397532835\n",
       "\\item -0.00797070287943292\n",
       "\\item 0.0124737202403537\n",
       "\\item -0.00513237291803803\n",
       "\\item -0.000187528887148409\n",
       "\\item -0.00190529515033886\n",
       "\\item 0.0020115563961609\n",
       "\\item -0.0012976810095015\n",
       "\\item -0.00196606749664552\n",
       "\\item 0\n",
       "\\item 0\n",
       "\\item 0.00984983716443369\n",
       "\\item -0.0082358705441184\n",
       "\\item -0.000254058297694846\n",
       "\\item 0.00182594839285448\n",
       "\\item 0.00737090754396635\n",
       "\\item -0.0054361561991864\n",
       "\\item -0.00218364443174717\n",
       "\\item -0.000959011373802492\n",
       "\\item -0.00582226463925231\n",
       "\\item 0.000398363278186939\n",
       "\\item 0\n",
       "\\item 0.0056407283723522\n",
       "\\item -0.000833772872478449\n",
       "\\item -0.000336876233804032\n",
       "\\item -0.00795708036234336\n",
       "\\item 0.00129077982472865\n",
       "\\item 0\n",
       "\\item 0.00446950295299079\n",
       "\\item -0.000745913408336229\n",
       "\\item 0.00418969378482448\n",
       "\\item -0.00283373993177783\n",
       "\\item -0.00436438534654793\n",
       "\\item 0.00090382871129613\n",
       "\\item 0.00503487708023066\n",
       "\\item -0.00163915464573631\n",
       "\\item 0.0115875016693764\n",
       "\\item -0.00768891361265433\n",
       "\\item 0.00121733498180719\n",
       "\\item -0.00180697760126915\n",
       "\\item -0.0132842383035698\n",
       "\\item 0.00769633117390878\n",
       "\\item 0.00363251872733981\n",
       "\\item 0\n",
       "\\item -0.00667144575628924\n",
       "\\item 0.00204154232856731\n",
       "\\item 0.0067179394713395\n",
       "\\item 0.00515521505181518\n",
       "\\item -0.0102812894527426\n",
       "\\item -0.00184825334067814\n",
       "\\item -0.000571237554097259\n",
       "\\item 0.00076753149366521\n",
       "\\item -0.00493575310929931\n",
       "\\item 0.00262114252202443\n",
       "\\item -0.0149218783206135\n",
       "\\item 0.0177179353760003\n",
       "\\item 0.00726552845373106\n",
       "\\item -0.0033771270330443\n",
       "\\item 0.00181755593495719\n",
       "\\item 0.00977880851654919\n",
       "\\item -0.0102999008833108\n",
       "\\item 0\n",
       "\\item 0.000358768365200806\n",
       "\\item -0.0038452888368447\n",
       "\\item 0.0225821575850979\n",
       "\\item -0.0104468495534231\n",
       "\\item -0.010677287188955\n",
       "\\item 0.00426637880777013\n",
       "\\item -0.00545640652286904\n",
       "\\item -0.00211692065206972\n",
       "\\item 0.00309855970959654\n",
       "\\item 0.00149807667507823\n",
       "\\item -0.00707031447381916\n",
       "\\item -0.000265622154693321\n",
       "\\item -0.00317095847823747\n",
       "\\item 0.000297707554988339\n",
       "\\item 0.0210581105352642\n",
       "\\item -0.0338752876086142\n",
       "\\item 0.0217661751163379\n",
       "\\item -0.00406974315849489\n",
       "\\item 0.0093475500803621\n",
       "\\item -0.00727248802464482\n",
       "\\item 0.00930756004351625\n",
       "\\item -0.0104080107994024\n",
       "\\item ⋯\n",
       "\\item 0\n",
       "\\item 0\n",
       "\\item 0\n",
       "\\item 0\n",
       "\\item 0\n",
       "\\item 0\n",
       "\\item 0\n",
       "\\item 0\n",
       "\\item 0\n",
       "\\item 0\n",
       "\\item 0\n",
       "\\item 0\n",
       "\\item 0\n",
       "\\item 0\n",
       "\\item 0\n",
       "\\item 0\n",
       "\\item 0\n",
       "\\item 0\n",
       "\\item 0\n",
       "\\item 0\n",
       "\\item 0\n",
       "\\item 0\n",
       "\\item 0\n",
       "\\item 0\n",
       "\\item 0\n",
       "\\item 0\n",
       "\\item 0\n",
       "\\item 0\n",
       "\\item 0\n",
       "\\item 0\n",
       "\\item 0\n",
       "\\item 0\n",
       "\\item 0\n",
       "\\item 0\n",
       "\\item 0\n",
       "\\item 0\n",
       "\\item 0\n",
       "\\item 0\n",
       "\\item 0\n",
       "\\item 0\n",
       "\\item 0\n",
       "\\item 0\n",
       "\\item 0\n",
       "\\item 0\n",
       "\\item 0\n",
       "\\item 0\n",
       "\\item 0\n",
       "\\item 0\n",
       "\\item 0\n",
       "\\item 0\n",
       "\\item 0\n",
       "\\item 0\n",
       "\\item 0\n",
       "\\item 0\n",
       "\\item 0\n",
       "\\item 0\n",
       "\\item 0\n",
       "\\item 0\n",
       "\\item 0\n",
       "\\item 0\n",
       "\\item 0\n",
       "\\item 0\n",
       "\\item 0\n",
       "\\item 0\n",
       "\\item 0\n",
       "\\item 0\n",
       "\\item 0\n",
       "\\item 0\n",
       "\\item 0\n",
       "\\item 0\n",
       "\\item 0\n",
       "\\item 0\n",
       "\\item 0\n",
       "\\item 0\n",
       "\\item 0\n",
       "\\item 0\n",
       "\\item 0\n",
       "\\item 0\n",
       "\\item 0\n",
       "\\item 0\n",
       "\\item 0\n",
       "\\item 0\n",
       "\\item 0\n",
       "\\item 0\n",
       "\\item 0\n",
       "\\item 0\n",
       "\\item 0\n",
       "\\item 0\n",
       "\\item 0\n",
       "\\item 0\n",
       "\\item 0\n",
       "\\item 0\n",
       "\\item 0\n",
       "\\item 0\n",
       "\\item 0\n",
       "\\item 0\n",
       "\\item 0\n",
       "\\item 0\n",
       "\\item 0\n",
       "\\item 0\n",
       "\\item 0\n",
       "\\item 0\n",
       "\\item 0\n",
       "\\item 0\n",
       "\\item 0\n",
       "\\item 0\n",
       "\\item 0\n",
       "\\item 0\n",
       "\\item 0\n",
       "\\item 0\n",
       "\\item 0\n",
       "\\item 0\n",
       "\\item 0\n",
       "\\item 0\n",
       "\\item 0\n",
       "\\item 0\n",
       "\\item 0\n",
       "\\item 0\n",
       "\\item 0\n",
       "\\item 0\n",
       "\\item 0\n",
       "\\item 0\n",
       "\\item 0\n",
       "\\item 0\n",
       "\\item 0\n",
       "\\item 0\n",
       "\\item 0\n",
       "\\item 0\n",
       "\\item 0\n",
       "\\item 0\n",
       "\\item 0\n",
       "\\item 0\n",
       "\\item 0\n",
       "\\item 0\n",
       "\\item 0\n",
       "\\item 0\n",
       "\\item 0\n",
       "\\item 0\n",
       "\\item 0\n",
       "\\item 0\n",
       "\\item 0\n",
       "\\item 0\n",
       "\\item 0\n",
       "\\item 0\n",
       "\\item 0\n",
       "\\item 0\n",
       "\\item 0\n",
       "\\item 0\n",
       "\\item 0\n",
       "\\item 0\n",
       "\\item 0\n",
       "\\item 0\n",
       "\\item 0\n",
       "\\item 0\n",
       "\\item 0\n",
       "\\item 0\n",
       "\\item 0\n",
       "\\item 0\n",
       "\\item 0\n",
       "\\item 0\n",
       "\\item 0\n",
       "\\item 0\n",
       "\\item 0\n",
       "\\item 0\n",
       "\\item 0\n",
       "\\item 0\n",
       "\\item 0\n",
       "\\item 0\n",
       "\\item 0\n",
       "\\item 0\n",
       "\\item 0\n",
       "\\item 0\n",
       "\\item 0\n",
       "\\item 0\n",
       "\\item 0\n",
       "\\item 0\n",
       "\\item 0\n",
       "\\item 0\n",
       "\\item 0\n",
       "\\item 0\n",
       "\\item 0\n",
       "\\item 0\n",
       "\\item 0\n",
       "\\item 0\n",
       "\\item 0\n",
       "\\item 0\n",
       "\\item 0\n",
       "\\item 0\n",
       "\\item 0\n",
       "\\item 0\n",
       "\\item 0\n",
       "\\item 0\n",
       "\\item 0\n",
       "\\item 0\n",
       "\\item 0\n",
       "\\item 0\n",
       "\\item 0\n",
       "\\item 0\n",
       "\\item 0\n",
       "\\item 0\n",
       "\\end{enumerate*}\n"
      ],
      "text/markdown": [
       "1. -0.218130501015783\n",
       "2. -0.249526222889315\n",
       "3. -0.11361256572841\n",
       "4. -0.0679404133572214\n",
       "5. -0.0339996741268025\n",
       "6. -2.39723899986592e-05\n",
       "7. -0.0200758075258196\n",
       "8. 0.00722437726462774\n",
       "9. 0.00129515114488351\n",
       "10. -0.000587162180636537\n",
       "11. -0.00501875801439598\n",
       "12. -0.00368611934952661\n",
       "13. 0.0187594689792016\n",
       "14. -0.00120396727931184\n",
       "15. -0.0163218451901255\n",
       "16. 0\n",
       "17. -0.00651084368513585\n",
       "18. 0.00881040386243969\n",
       "19. -0.00249239439908576\n",
       "20. 0.0082803245747228\n",
       "21. 0.0051831076513251\n",
       "22. -0.00393868378578224\n",
       "23. -0.0103421978093947\n",
       "24. 0.00664759197545524\n",
       "25. -0.0113145270682175\n",
       "26. -0.0130793501850707\n",
       "27. 0.005410958904155\n",
       "28. 0.0201297145028872\n",
       "29. -0.00738176940730773\n",
       "30. -0.0107243397266479\n",
       "31. 0.0104982841932291\n",
       "32. -0.00270418999104491\n",
       "33. -0.0102948560989004\n",
       "34. 0.018482506774273\n",
       "35. 0.00129980474856091\n",
       "36. -0.00526041790716938\n",
       "37. -0.00810776055531034\n",
       "38. 0.00740930524002959\n",
       "39. 3.16440760185468e-05\n",
       "40. -0.00464214391490347\n",
       "41. 0.0102002888583925\n",
       "42. 0.000867071590938349\n",
       "43. 0.004523248587534\n",
       "44. 0.00389703013361739\n",
       "45. 0.00594038263987671\n",
       "46. -0.0222074710109002\n",
       "47. -0.0141863750557231\n",
       "48. 0.0193395810452447\n",
       "49. -0.0206562021272403\n",
       "50. 0.000931094935058748\n",
       "51. 0.0164385184070976\n",
       "52. 0.00525413517297443\n",
       "53. -0.00980535513057699\n",
       "54. -0.0017188737552874\n",
       "55. -0.0125602448912132\n",
       "56. 0.0188230073507371\n",
       "57. -0.00131081161853623\n",
       "58. 0.0106668047464868\n",
       "59. 0.00221767335795541\n",
       "60. -0.00514226961978017\n",
       "61. 0.0133874151982736\n",
       "62. -0.0031721563072351\n",
       "63. -0.00970452941632257\n",
       "64. -0.00609131556562471\n",
       "65. 0\n",
       "66. -0.000837906003930513\n",
       "67. 0.0168680166816498\n",
       "68. 0.00112697911793998\n",
       "69. -0.0103463313203103\n",
       "70. -0.00534098524299361\n",
       "71. 0.011868925120322\n",
       "72. 0\n",
       "73. -0.00758887524591853\n",
       "74. -0.0128264764721417\n",
       "75. 0.0119521461812525\n",
       "76. 0.00518021180730406\n",
       "77. 0\n",
       "78. 0\n",
       "79. 0\n",
       "80. -0.0107879094990488\n",
       "81. 0.000714513726963687\n",
       "82. 0\n",
       "83. 0.00431680189919151\n",
       "84. -0.00288432690785071\n",
       "85. 0.00146396243768803\n",
       "86. 0.00113155275978462\n",
       "87. 0.000530237323076569\n",
       "88. 0.00100422396275882\n",
       "89. 0.00242366365215085\n",
       "90. 0.000622543687677429\n",
       "91. 0.00185887905667606\n",
       "92. 0\n",
       "93. -0.000766460468109716\n",
       "94. 0.00459947745732135\n",
       "95. -0.00254626625471769\n",
       "96. -0.00170502020977907\n",
       "97. 0\n",
       "98. 0\n",
       "99. 0\n",
       "100. -0.000641298997130222\n",
       "101. -0.000660354356271101\n",
       "102. 0.00141675504668658\n",
       "103. -0.000565021499888901\n",
       "104. 0.0049855699588896\n",
       "105. -0.0110411998568993\n",
       "106. 0.00693040498729375\n",
       "107. -0.00203049636870952\n",
       "108. 0.00198508074289196\n",
       "109. 0\n",
       "110. 0\n",
       "111. 0.00141442141907067\n",
       "112. -0.00128228394646261\n",
       "113. -0.00104411369494204\n",
       "114. 0.00867767795396893\n",
       "115. -0.00161514141952278\n",
       "116. -0.00281971270568373\n",
       "117. 0.00604881397532835\n",
       "118. -0.00797070287943292\n",
       "119. 0.0124737202403537\n",
       "120. -0.00513237291803803\n",
       "121. -0.000187528887148409\n",
       "122. -0.00190529515033886\n",
       "123. 0.0020115563961609\n",
       "124. -0.0012976810095015\n",
       "125. -0.00196606749664552\n",
       "126. 0\n",
       "127. 0\n",
       "128. 0.00984983716443369\n",
       "129. -0.0082358705441184\n",
       "130. -0.000254058297694846\n",
       "131. 0.00182594839285448\n",
       "132. 0.00737090754396635\n",
       "133. -0.0054361561991864\n",
       "134. -0.00218364443174717\n",
       "135. -0.000959011373802492\n",
       "136. -0.00582226463925231\n",
       "137. 0.000398363278186939\n",
       "138. 0\n",
       "139. 0.0056407283723522\n",
       "140. -0.000833772872478449\n",
       "141. -0.000336876233804032\n",
       "142. -0.00795708036234336\n",
       "143. 0.00129077982472865\n",
       "144. 0\n",
       "145. 0.00446950295299079\n",
       "146. -0.000745913408336229\n",
       "147. 0.00418969378482448\n",
       "148. -0.00283373993177783\n",
       "149. -0.00436438534654793\n",
       "150. 0.00090382871129613\n",
       "151. 0.00503487708023066\n",
       "152. -0.00163915464573631\n",
       "153. 0.0115875016693764\n",
       "154. -0.00768891361265433\n",
       "155. 0.00121733498180719\n",
       "156. -0.00180697760126915\n",
       "157. -0.0132842383035698\n",
       "158. 0.00769633117390878\n",
       "159. 0.00363251872733981\n",
       "160. 0\n",
       "161. -0.00667144575628924\n",
       "162. 0.00204154232856731\n",
       "163. 0.0067179394713395\n",
       "164. 0.00515521505181518\n",
       "165. -0.0102812894527426\n",
       "166. -0.00184825334067814\n",
       "167. -0.000571237554097259\n",
       "168. 0.00076753149366521\n",
       "169. -0.00493575310929931\n",
       "170. 0.00262114252202443\n",
       "171. -0.0149218783206135\n",
       "172. 0.0177179353760003\n",
       "173. 0.00726552845373106\n",
       "174. -0.0033771270330443\n",
       "175. 0.00181755593495719\n",
       "176. 0.00977880851654919\n",
       "177. -0.0102999008833108\n",
       "178. 0\n",
       "179. 0.000358768365200806\n",
       "180. -0.0038452888368447\n",
       "181. 0.0225821575850979\n",
       "182. -0.0104468495534231\n",
       "183. -0.010677287188955\n",
       "184. 0.00426637880777013\n",
       "185. -0.00545640652286904\n",
       "186. -0.00211692065206972\n",
       "187. 0.00309855970959654\n",
       "188. 0.00149807667507823\n",
       "189. -0.00707031447381916\n",
       "190. -0.000265622154693321\n",
       "191. -0.00317095847823747\n",
       "192. 0.000297707554988339\n",
       "193. 0.0210581105352642\n",
       "194. -0.0338752876086142\n",
       "195. 0.0217661751163379\n",
       "196. -0.00406974315849489\n",
       "197. 0.0093475500803621\n",
       "198. -0.00727248802464482\n",
       "199. 0.00930756004351625\n",
       "200. -0.0104080107994024\n",
       "201. ⋯\n",
       "202. 0\n",
       "203. 0\n",
       "204. 0\n",
       "205. 0\n",
       "206. 0\n",
       "207. 0\n",
       "208. 0\n",
       "209. 0\n",
       "210. 0\n",
       "211. 0\n",
       "212. 0\n",
       "213. 0\n",
       "214. 0\n",
       "215. 0\n",
       "216. 0\n",
       "217. 0\n",
       "218. 0\n",
       "219. 0\n",
       "220. 0\n",
       "221. 0\n",
       "222. 0\n",
       "223. 0\n",
       "224. 0\n",
       "225. 0\n",
       "226. 0\n",
       "227. 0\n",
       "228. 0\n",
       "229. 0\n",
       "230. 0\n",
       "231. 0\n",
       "232. 0\n",
       "233. 0\n",
       "234. 0\n",
       "235. 0\n",
       "236. 0\n",
       "237. 0\n",
       "238. 0\n",
       "239. 0\n",
       "240. 0\n",
       "241. 0\n",
       "242. 0\n",
       "243. 0\n",
       "244. 0\n",
       "245. 0\n",
       "246. 0\n",
       "247. 0\n",
       "248. 0\n",
       "249. 0\n",
       "250. 0\n",
       "251. 0\n",
       "252. 0\n",
       "253. 0\n",
       "254. 0\n",
       "255. 0\n",
       "256. 0\n",
       "257. 0\n",
       "258. 0\n",
       "259. 0\n",
       "260. 0\n",
       "261. 0\n",
       "262. 0\n",
       "263. 0\n",
       "264. 0\n",
       "265. 0\n",
       "266. 0\n",
       "267. 0\n",
       "268. 0\n",
       "269. 0\n",
       "270. 0\n",
       "271. 0\n",
       "272. 0\n",
       "273. 0\n",
       "274. 0\n",
       "275. 0\n",
       "276. 0\n",
       "277. 0\n",
       "278. 0\n",
       "279. 0\n",
       "280. 0\n",
       "281. 0\n",
       "282. 0\n",
       "283. 0\n",
       "284. 0\n",
       "285. 0\n",
       "286. 0\n",
       "287. 0\n",
       "288. 0\n",
       "289. 0\n",
       "290. 0\n",
       "291. 0\n",
       "292. 0\n",
       "293. 0\n",
       "294. 0\n",
       "295. 0\n",
       "296. 0\n",
       "297. 0\n",
       "298. 0\n",
       "299. 0\n",
       "300. 0\n",
       "301. 0\n",
       "302. 0\n",
       "303. 0\n",
       "304. 0\n",
       "305. 0\n",
       "306. 0\n",
       "307. 0\n",
       "308. 0\n",
       "309. 0\n",
       "310. 0\n",
       "311. 0\n",
       "312. 0\n",
       "313. 0\n",
       "314. 0\n",
       "315. 0\n",
       "316. 0\n",
       "317. 0\n",
       "318. 0\n",
       "319. 0\n",
       "320. 0\n",
       "321. 0\n",
       "322. 0\n",
       "323. 0\n",
       "324. 0\n",
       "325. 0\n",
       "326. 0\n",
       "327. 0\n",
       "328. 0\n",
       "329. 0\n",
       "330. 0\n",
       "331. 0\n",
       "332. 0\n",
       "333. 0\n",
       "334. 0\n",
       "335. 0\n",
       "336. 0\n",
       "337. 0\n",
       "338. 0\n",
       "339. 0\n",
       "340. 0\n",
       "341. 0\n",
       "342. 0\n",
       "343. 0\n",
       "344. 0\n",
       "345. 0\n",
       "346. 0\n",
       "347. 0\n",
       "348. 0\n",
       "349. 0\n",
       "350. 0\n",
       "351. 0\n",
       "352. 0\n",
       "353. 0\n",
       "354. 0\n",
       "355. 0\n",
       "356. 0\n",
       "357. 0\n",
       "358. 0\n",
       "359. 0\n",
       "360. 0\n",
       "361. 0\n",
       "362. 0\n",
       "363. 0\n",
       "364. 0\n",
       "365. 0\n",
       "366. 0\n",
       "367. 0\n",
       "368. 0\n",
       "369. 0\n",
       "370. 0\n",
       "371. 0\n",
       "372. 0\n",
       "373. 0\n",
       "374. 0\n",
       "375. 0\n",
       "376. 0\n",
       "377. 0\n",
       "378. 0\n",
       "379. 0\n",
       "380. 0\n",
       "381. 0\n",
       "382. 0\n",
       "383. 0\n",
       "384. 0\n",
       "385. 0\n",
       "386. 0\n",
       "387. 0\n",
       "388. 0\n",
       "389. 0\n",
       "390. 0\n",
       "391. 0\n",
       "392. 0\n",
       "393. 0\n",
       "394. 0\n",
       "395. 0\n",
       "396. 0\n",
       "397. 0\n",
       "398. 0\n",
       "399. 0\n",
       "400. 0\n",
       "401. 0\n",
       "\n",
       "\n"
      ],
      "text/plain": [
       "   [1] -2.181305e-01 -2.495262e-01 -1.136126e-01 -6.794041e-02 -3.399967e-02\n",
       "   [6] -2.397239e-05 -2.007581e-02  7.224377e-03  1.295151e-03 -5.871622e-04\n",
       "  [11] -5.018758e-03 -3.686119e-03  1.875947e-02 -1.203967e-03 -1.632185e-02\n",
       "  [16]  0.000000e+00 -6.510844e-03  8.810404e-03 -2.492394e-03  8.280325e-03\n",
       "  [21]  5.183108e-03 -3.938684e-03 -1.034220e-02  6.647592e-03 -1.131453e-02\n",
       "  [26] -1.307935e-02  5.410959e-03  2.012971e-02 -7.381769e-03 -1.072434e-02\n",
       "  [31]  1.049828e-02 -2.704190e-03 -1.029486e-02  1.848251e-02  1.299805e-03\n",
       "  [36] -5.260418e-03 -8.107761e-03  7.409305e-03  3.164408e-05 -4.642144e-03\n",
       "  [41]  1.020029e-02  8.670716e-04  4.523249e-03  3.897030e-03  5.940383e-03\n",
       "  [46] -2.220747e-02 -1.418638e-02  1.933958e-02 -2.065620e-02  9.310949e-04\n",
       "  [51]  1.643852e-02  5.254135e-03 -9.805355e-03 -1.718874e-03 -1.256024e-02\n",
       "  [56]  1.882301e-02 -1.310812e-03  1.066680e-02  2.217673e-03 -5.142270e-03\n",
       "  [61]  1.338742e-02 -3.172156e-03 -9.704529e-03 -6.091316e-03  0.000000e+00\n",
       "  [66] -8.379060e-04  1.686802e-02  1.126979e-03 -1.034633e-02 -5.340985e-03\n",
       "  [71]  1.186893e-02  0.000000e+00 -7.588875e-03 -1.282648e-02  1.195215e-02\n",
       "  [76]  5.180212e-03  0.000000e+00  0.000000e+00  0.000000e+00 -1.078791e-02\n",
       "  [81]  7.145137e-04  0.000000e+00  4.316802e-03 -2.884327e-03  1.463962e-03\n",
       "  [86]  1.131553e-03  5.302373e-04  1.004224e-03  2.423664e-03  6.225437e-04\n",
       "  [91]  1.858879e-03  0.000000e+00 -7.664605e-04  4.599477e-03 -2.546266e-03\n",
       "  [96] -1.705020e-03  0.000000e+00  0.000000e+00  0.000000e+00 -6.412990e-04\n",
       " [101] -6.603544e-04  1.416755e-03 -5.650215e-04  4.985570e-03 -1.104120e-02\n",
       " [106]  6.930405e-03 -2.030496e-03  1.985081e-03  0.000000e+00  0.000000e+00\n",
       " [111]  1.414421e-03 -1.282284e-03 -1.044114e-03  8.677678e-03 -1.615141e-03\n",
       " [116] -2.819713e-03  6.048814e-03 -7.970703e-03  1.247372e-02 -5.132373e-03\n",
       " [121] -1.875289e-04 -1.905295e-03  2.011556e-03 -1.297681e-03 -1.966067e-03\n",
       " [126]  0.000000e+00  0.000000e+00  9.849837e-03 -8.235871e-03 -2.540583e-04\n",
       " [131]  1.825948e-03  7.370908e-03 -5.436156e-03 -2.183644e-03 -9.590114e-04\n",
       " [136] -5.822265e-03  3.983633e-04  0.000000e+00  5.640728e-03 -8.337729e-04\n",
       " [141] -3.368762e-04 -7.957080e-03  1.290780e-03  0.000000e+00  4.469503e-03\n",
       " [146] -7.459134e-04  4.189694e-03 -2.833740e-03 -4.364385e-03  9.038287e-04\n",
       " [151]  5.034877e-03 -1.639155e-03  1.158750e-02 -7.688914e-03  1.217335e-03\n",
       " [156] -1.806978e-03 -1.328424e-02  7.696331e-03  3.632519e-03  0.000000e+00\n",
       " [161] -6.671446e-03  2.041542e-03  6.717939e-03  5.155215e-03 -1.028129e-02\n",
       " [166] -1.848253e-03 -5.712376e-04  7.675315e-04 -4.935753e-03  2.621143e-03\n",
       " [171] -1.492188e-02  1.771794e-02  7.265528e-03 -3.377127e-03  1.817556e-03\n",
       " [176]  9.778809e-03 -1.029990e-02  0.000000e+00  3.587684e-04 -3.845289e-03\n",
       " [181]  2.258216e-02 -1.044685e-02 -1.067729e-02  4.266379e-03 -5.456407e-03\n",
       " [186] -2.116921e-03  3.098560e-03  1.498077e-03 -7.070314e-03 -2.656222e-04\n",
       " [191] -3.170958e-03  2.977076e-04  2.105811e-02 -3.387529e-02  2.176618e-02\n",
       " [196] -4.069743e-03  9.347550e-03 -7.272488e-03  9.307560e-03 -1.040801e-02\n",
       " [201]  7.817395e-03 -1.852391e-02 -1.310262e-02  1.620466e-02 -6.602761e-03\n",
       " [206] -9.204100e-03  1.102808e-02  4.955361e-03 -2.339581e-02 -1.138543e-02\n",
       " [211]  3.427729e-02  0.000000e+00 -9.237766e-03 -8.066617e-03  1.687742e-02\n",
       " [216]  8.245530e-04  1.069770e-02  9.628813e-03 -1.341573e-04 -1.893532e-02\n",
       " [221]  1.349214e-03  7.881628e-03 -1.468702e-02 -7.678997e-03  1.747860e-02\n",
       " [226]  3.724208e-03 -2.154960e-02  1.460362e-02 -1.079891e-02  9.937841e-03\n",
       " [231]  6.775871e-03 -2.147092e-02 -7.587831e-03 -2.066906e-03  2.724792e-03\n",
       " [236]  2.186298e-02 -3.997114e-02 -1.554735e-02  2.455141e-02 -2.599031e-02\n",
       " [241]  1.682087e-02  7.619258e-03 -4.093523e-03 -2.960567e-03 -1.767116e-03\n",
       " [246] -3.745919e-03  1.952974e-02 -4.112309e-03 -2.005073e-02  1.571422e-03\n",
       " [251] -1.340534e-02  1.712862e-02  0.000000e+00  7.255481e-03 -3.385425e-03\n",
       " [256]  5.369555e-03 -1.447926e-02 -6.151735e-03  6.066168e-03  1.332159e-02\n",
       " [261] -3.074157e-03  8.057830e-03 -1.091780e-02  1.206806e-02 -1.161626e-02\n",
       " [266]  3.899368e-04 -1.222675e-02 -1.034345e-02 -6.769430e-04  2.204156e-02\n",
       " [271]  8.117478e-03 -4.916540e-03  1.731665e-02 -2.550615e-02 -1.327003e-03\n",
       " [276]  1.201383e-02 -2.144371e-02  1.512591e-02  7.364931e-03  8.540975e-03\n",
       " [281]  8.322657e-03  5.002971e-03 -1.642992e-02  4.626118e-03 -7.156852e-04\n",
       " [286]  9.672227e-03 -1.785286e-02 -7.567982e-03  5.496735e-03 -7.278132e-03\n",
       " [291]  1.025267e-02  6.922823e-03  7.352626e-03  0.000000e+00 -2.754971e-02\n",
       " [296]  0.000000e+00  1.133887e-02  2.319503e-03  1.440137e-04  7.095229e-03\n",
       " [301] -2.231348e-02  8.077969e-03  6.773637e-03 -1.863609e-02  1.560699e-02\n",
       " [306]  9.479937e-03  3.111390e-03 -7.350945e-03 -8.110901e-03  1.501701e-02\n",
       " [311] -8.804478e-03  7.678723e-03 -7.752456e-04 -1.079720e-02  9.717332e-03\n",
       " [316]  0.000000e+00 -1.648471e-02 -1.379573e-03  0.000000e+00  0.000000e+00\n",
       " [321] -2.750404e-03  8.100829e-04 -5.963482e-04  1.561145e-02  2.720043e-03\n",
       " [326] -7.187791e-03  7.152883e-03 -5.086288e-03  2.523191e-02 -1.954264e-02\n",
       " [331]  1.254715e-02 -1.326468e-02  2.160887e-03 -2.656571e-03  8.623095e-03\n",
       " [336]  3.506781e-04 -1.869437e-02 -1.627691e-02 -6.078790e-03 -1.462774e-03\n",
       " [341]  3.332878e-02  4.640042e-03  1.974492e-03 -4.373843e-03 -8.046896e-03\n",
       " [346]  2.672581e-03 -6.027347e-03  1.120233e-02  8.613844e-04  3.961157e-03\n",
       " [351] -5.643957e-03 -1.918766e-02  2.061165e-02 -6.943647e-03  6.556482e-03\n",
       " [356] -3.800296e-03 -2.760744e-03 -5.989172e-03  0.000000e+00  2.555555e-03\n",
       " [361] -4.113716e-03  0.000000e+00  2.953666e-03  9.038325e-03  1.252779e-02\n",
       " [366] -4.623295e-04  0.000000e+00 -4.467015e-03 -5.181976e-03  9.553398e-04\n",
       " [371] -2.419833e-03  4.755032e-03  0.000000e+00 -1.006061e-02  6.700792e-03\n",
       " [376]  3.168169e-03 -3.316622e-03 -1.923416e-03  4.062968e-03  2.108980e-03\n",
       " [381]  2.387838e-03  2.264321e-03 -2.284573e-02  1.083841e-02  1.581465e-02\n",
       " [386] -1.353843e-03 -1.300977e-02  7.285979e-03  4.409773e-03 -1.443423e-02\n",
       " [391]  1.026127e-02  2.619735e-03  2.401037e-03  0.000000e+00  0.000000e+00\n",
       " [396]  0.000000e+00  0.000000e+00  0.000000e+00  0.000000e+00 -1.068055e-02\n",
       " [401]  6.967636e-03  1.784622e-03 -4.639902e-03  2.971451e-03  1.487633e-03\n",
       " [406]  1.342457e-03 -1.100814e-02  7.788788e-03 -2.705658e-02  1.051369e-02\n",
       " [411]  9.386475e-03  6.907922e-03  2.097806e-03  1.043622e-03  4.189356e-04\n",
       " [416]  2.145165e-04  1.893292e-03  7.598969e-04 -1.126119e-02  7.672531e-03\n",
       " [421]  3.005417e-03  6.912366e-04 -1.599551e-02  2.900802e-03 -2.080059e-03\n",
       " [426]  8.100985e-03  4.568382e-03 -5.961100e-03 -5.938826e-03  8.628039e-03\n",
       " [431]  3.150217e-03  1.878126e-03  4.119029e-04  6.257260e-04  1.113751e-03\n",
       " [436]  0.000000e+00  0.000000e+00 -1.114592e-02 -4.077519e-03 -6.393841e-03\n",
       " [441]  9.108019e-03 -1.917455e-03  4.795047e-03 -4.366650e-03 -2.285390e-03\n",
       " [446]  8.135048e-03 -8.501618e-03  1.010612e-02  2.678933e-03  0.000000e+00\n",
       " [451] -1.357711e-04 -4.815175e-02  1.605188e-02  1.917883e-02  1.384630e-02\n",
       " [456] -6.167468e-04 -2.578923e-02 -1.077260e-02 -9.295505e-03  2.268790e-02\n",
       " [461]  8.837574e-03  1.104749e-02  3.317009e-03 -2.330315e-02 -1.322833e-02\n",
       " [466]  1.475450e-02  1.065203e-02 -1.534090e-03 -8.768351e-03  7.032008e-03\n",
       " [471]  6.480401e-03  4.536153e-03  1.748641e-03  1.986052e-04  6.624668e-03\n",
       " [476] -3.036553e-03 -1.603042e-03 -1.490947e-03 -4.044929e-02  1.235967e-02\n",
       " [481]  1.905494e-02  3.732908e-03 -5.628655e-03  2.640303e-03  2.901329e-03\n",
       " [486]  0.000000e+00 -4.320586e-03 -2.109154e-03 -8.138253e-03 -1.662534e-02\n",
       " [491]  1.732579e-02  8.416824e-03 -6.619618e-03 -3.417025e-03  1.466439e-02\n",
       " [496] -9.345916e-03  6.622573e-03 -7.571822e-03  2.644901e-03  8.281207e-03\n",
       " [501]  5.495244e-03 -1.965656e-02 -1.169108e-03 -3.940457e-04  3.435493e-03\n",
       " [506]  1.412053e-02 -1.062914e-02  6.927581e-03  2.636390e-03  5.828536e-03\n",
       " [511] -1.142668e-02 -4.094039e-03 -1.249518e-02  6.962599e-03  3.035637e-02\n",
       " [516] -2.032903e-02 -3.597612e-02 -1.592819e-02  1.266419e-02  1.221587e-02\n",
       " [521]  3.658737e-03 -2.062992e-02  1.458807e-02  1.354068e-02 -3.025812e-02\n",
       " [526]  1.333078e-02  3.925252e-02 -3.756124e-02  6.600036e-03  3.244649e-03\n",
       " [531]  2.133878e-02 -7.871191e-03 -4.192272e-03 -1.359667e-03 -3.348676e-02\n",
       " [536]  3.682357e-02  7.465326e-04 -1.709775e-03 -3.414706e-02  2.196436e-02\n",
       " [541]  2.258430e-02 -9.929893e-03 -5.606030e-03 -2.958026e-03  5.002346e-02\n",
       " [546] -3.884441e-02 -3.853133e-03  2.477451e-04 -1.224562e-03 -5.559817e-04\n",
       " [551] -1.992965e-02  1.290900e-02  2.081738e-02  1.921813e-02  5.202523e-03\n",
       " [556] -6.168759e-03  2.749690e-03 -1.515316e-02 -5.353032e-03  3.203743e-02\n",
       " [561] -4.289897e-04 -2.343170e-02  8.565856e-03  3.228267e-03  1.542162e-03\n",
       " [566]  7.019074e-04  2.539230e-04 -8.240834e-03  2.057905e-02 -1.551961e-02\n",
       " [571] -1.326280e-02  4.575493e-03 -1.832870e-02 -6.581846e-03  1.352678e-02\n",
       " [576] -5.967468e-03  1.114690e-02  5.028001e-03  0.000000e+00  2.602129e-03\n",
       " [581] -5.134204e-02  2.823141e-02  1.161647e-03  1.376088e-02 -1.140042e-02\n",
       " [586] -1.096700e-02  1.516617e-02  2.944355e-03 -5.480792e-03 -1.124763e-03\n",
       " [591]  1.646326e-02  2.485230e-03  1.024968e-03 -1.637848e-02 -2.033510e-04\n",
       " [596] -2.949830e-02  1.699530e-02  2.415850e-03 -1.249729e-03  1.088684e-02\n",
       " [601] -2.721893e-02  1.385810e-02  2.069987e-02 -3.138874e-03 -1.903375e-02\n",
       " [606]  7.385561e-03 -1.910850e-03  0.000000e+00  7.932827e-04 -1.322227e-02\n",
       " [611]  1.712054e-02  2.414143e-02 -2.752925e-02  1.477417e-02 -6.531488e-04\n",
       " [616] -5.536882e-03 -5.331016e-03 -1.687812e-03  0.000000e+00  8.860628e-03\n",
       " [621] -6.432190e-03  3.006947e-02  4.195303e-03 -2.325995e-02  1.548921e-02\n",
       " [626] -7.614097e-03 -3.650586e-02  2.950824e-02 -7.319579e-03  2.035639e-02\n",
       " [631] -1.417579e-02 -6.572597e-03 -2.925216e-03 -1.386768e-02  1.615106e-04\n",
       " [636]  3.458720e-02 -3.478535e-02  2.709594e-03 -1.537349e-02  1.726769e-02\n",
       " [641] -1.727649e-02  1.141900e-02  3.536329e-03  6.077966e-03  2.200179e-03\n",
       " [646] -3.230838e-02  1.288892e-02  9.996882e-03  1.362953e-02 -1.110010e-03\n",
       " [651] -2.188653e-02  1.677530e-02  7.571444e-03 -1.251283e-02  3.142811e-02\n",
       " [656] -2.500752e-02  0.000000e+00  0.000000e+00  7.711690e-03 -3.944086e-03\n",
       " [661] -4.027765e-03  0.000000e+00  2.583841e-03 -4.556167e-04  0.000000e+00\n",
       " [666]  9.611768e-03 -7.503084e-03 -1.552569e-02  1.866687e-02  0.000000e+00\n",
       " [671] -5.305194e-03  8.196095e-03 -1.781167e-02  1.897586e-03  6.314679e-03\n",
       " [676]  8.407101e-03 -9.910369e-03 -9.150449e-03  5.855089e-03  1.604693e-02\n",
       " [681] -1.697892e-02  8.530518e-04  1.914297e-03 -5.916304e-03  1.342281e-03\n",
       " [686]  1.193952e-04  1.499610e-03  2.540962e-03 -5.048205e-04  4.653851e-03\n",
       " [691] -1.474036e-03  5.885001e-05 -2.035361e-03  1.057690e-04  5.819995e-05\n",
       " [696] -4.785164e-03  2.904548e-02 -1.884150e-02 -8.069189e-03 -4.481680e-03\n",
       " [701]  4.551830e-03 -2.324794e-03  4.022578e-03 -5.131754e-03 -1.393273e-03\n",
       " [706]  6.193518e-03 -6.957789e-03  0.000000e+00  0.000000e+00 -8.906683e-06\n",
       " [711]  5.483678e-03 -2.929965e-03 -1.327943e-02  3.210928e-03  0.000000e+00\n",
       " [716]  1.067425e-02 -1.111358e-04 -1.061257e-03 -7.287569e-04 -5.511155e-04\n",
       " [721]  1.068210e-03  2.503787e-03  3.161772e-03  0.000000e+00 -2.133413e-03\n",
       " [726]  3.912590e-03 -9.905169e-04 -2.855765e-03 -2.566333e-04  1.622691e-03\n",
       " [731] -4.754402e-03  3.399397e-03  1.803500e-03  0.000000e+00  1.907257e-03\n",
       " [736] -1.160423e-02  5.237348e-03 -3.268686e-03  1.555760e-02  3.634732e-02\n",
       " [741] -4.827501e-02  0.000000e+00  6.108147e-02  5.199617e-03  2.100463e-02\n",
       " [746]  1.294570e-02  2.865128e-04 -7.922518e-04 -3.403222e-04 -1.416182e-02\n",
       " [751]  0.000000e+00 -6.404773e-03  3.350798e-03  4.377514e-03  1.188469e-03\n",
       " [756]  9.682983e-04  3.849632e-03 -3.061696e-03 -1.298203e-03  8.887479e-04\n",
       " [761] -8.889456e-04 -1.326107e-03  1.292139e-03  7.435740e-04 -2.200269e-02\n",
       " [766]  9.514040e-03  6.845196e-03 -5.369341e-03 -1.974482e-03  9.943996e-03\n",
       " [771] -5.830641e-03  2.926738e-02 -1.983705e-02 -9.889403e-03 -3.571579e-03\n",
       " [776] -6.178249e-04  3.864947e-03  6.216248e-03 -3.567998e-03 -5.090074e-03\n",
       " [781] -4.637082e-03  1.004414e-02  1.889448e-03  2.565008e-03  1.685877e-03\n",
       " [786]  7.849464e-04 -8.644002e-03  4.333229e-03  0.000000e+00 -2.532788e-02\n",
       " [791]  5.598305e-03  1.067239e-02  0.000000e+00  0.000000e+00 -4.711655e-03\n",
       " [796]  2.703548e-03  3.419054e-04 -3.102230e-03 -1.729751e-03  6.874105e-03\n",
       " [801]  1.725947e-02  2.156341e-02 -1.324384e-02 -5.924623e-03 -6.378725e-04\n",
       " [806] -1.233757e-02  4.935416e-03 -1.070952e-02  3.845485e-03  5.051674e-03\n",
       " [811]  1.460336e-03  1.518681e-03  0.000000e+00  3.171068e-03  9.988311e-03\n",
       " [816] -8.679138e-03  1.205882e-02  2.128430e-03 -5.465626e-03  8.456395e-03\n",
       " [821]  1.959348e-03  4.819625e-03  1.140086e-02 -2.547870e-02 -8.945994e-03\n",
       " [826] -1.825595e-02  5.069827e-03 -1.085202e-02 -2.232127e-02 -2.063808e-02\n",
       " [831] -2.870725e-03 -1.267181e-03 -7.843690e-03  4.655779e-02  5.339433e-02\n",
       " [836] -4.312385e-03 -2.325024e-02 -1.046671e-03           Inf          -Inf\n",
       " [841]  0.000000e+00  0.000000e+00  0.000000e+00  0.000000e+00  0.000000e+00\n",
       " [846]  0.000000e+00  0.000000e+00  0.000000e+00  0.000000e+00  0.000000e+00\n",
       " [851]  0.000000e+00  0.000000e+00  0.000000e+00  0.000000e+00  0.000000e+00\n",
       " [856]  0.000000e+00  0.000000e+00  0.000000e+00  0.000000e+00  0.000000e+00\n",
       " [861]  0.000000e+00  0.000000e+00  0.000000e+00  0.000000e+00  0.000000e+00\n",
       " [866]  0.000000e+00  0.000000e+00  0.000000e+00  0.000000e+00  0.000000e+00\n",
       " [871]  0.000000e+00  0.000000e+00  0.000000e+00  0.000000e+00  0.000000e+00\n",
       " [876]  0.000000e+00  0.000000e+00  0.000000e+00  0.000000e+00  0.000000e+00\n",
       " [881]  0.000000e+00  0.000000e+00  0.000000e+00  0.000000e+00  0.000000e+00\n",
       " [886]  0.000000e+00  0.000000e+00  0.000000e+00  0.000000e+00  0.000000e+00\n",
       " [891]  0.000000e+00  0.000000e+00  0.000000e+00  0.000000e+00  0.000000e+00\n",
       " [896]  0.000000e+00  0.000000e+00  0.000000e+00  0.000000e+00  0.000000e+00\n",
       " [901]  0.000000e+00  0.000000e+00  0.000000e+00  0.000000e+00  0.000000e+00\n",
       " [906]  0.000000e+00  0.000000e+00  0.000000e+00  0.000000e+00  0.000000e+00\n",
       " [911]  0.000000e+00  0.000000e+00  0.000000e+00  0.000000e+00  0.000000e+00\n",
       " [916]  0.000000e+00  0.000000e+00  0.000000e+00  0.000000e+00  0.000000e+00\n",
       " [921]  0.000000e+00  0.000000e+00  0.000000e+00  0.000000e+00  0.000000e+00\n",
       " [926]  0.000000e+00  0.000000e+00  0.000000e+00  0.000000e+00  0.000000e+00\n",
       " [931]  0.000000e+00  0.000000e+00  0.000000e+00  0.000000e+00  0.000000e+00\n",
       " [936]  0.000000e+00  0.000000e+00  0.000000e+00  0.000000e+00  0.000000e+00\n",
       " [941]  0.000000e+00  0.000000e+00  0.000000e+00  0.000000e+00  0.000000e+00\n",
       " [946]  0.000000e+00  0.000000e+00  0.000000e+00  0.000000e+00  0.000000e+00\n",
       " [951]  0.000000e+00  0.000000e+00  0.000000e+00  0.000000e+00  0.000000e+00\n",
       " [956]  0.000000e+00  0.000000e+00  0.000000e+00  0.000000e+00  0.000000e+00\n",
       " [961]  0.000000e+00  0.000000e+00  0.000000e+00  0.000000e+00  0.000000e+00\n",
       " [966]  0.000000e+00  0.000000e+00  0.000000e+00  0.000000e+00  0.000000e+00\n",
       " [971]  0.000000e+00  0.000000e+00  0.000000e+00  0.000000e+00  0.000000e+00\n",
       " [976]  0.000000e+00  0.000000e+00  0.000000e+00  0.000000e+00  0.000000e+00\n",
       " [981]  0.000000e+00  0.000000e+00  0.000000e+00  0.000000e+00  0.000000e+00\n",
       " [986]  0.000000e+00  0.000000e+00  0.000000e+00  0.000000e+00  0.000000e+00\n",
       " [991]  0.000000e+00  0.000000e+00  0.000000e+00  0.000000e+00  0.000000e+00\n",
       " [996]  0.000000e+00  0.000000e+00  0.000000e+00  0.000000e+00  0.000000e+00\n",
       "[1001]  0.000000e+00  0.000000e+00  0.000000e+00  0.000000e+00  0.000000e+00\n",
       "[1006]  0.000000e+00  0.000000e+00  0.000000e+00  0.000000e+00  0.000000e+00\n",
       "[1011]  0.000000e+00  0.000000e+00  0.000000e+00  0.000000e+00  0.000000e+00\n",
       "[1016]  0.000000e+00  0.000000e+00  0.000000e+00  0.000000e+00  0.000000e+00\n",
       "[1021]  0.000000e+00  0.000000e+00  0.000000e+00  0.000000e+00  0.000000e+00\n",
       "[1026]  0.000000e+00  0.000000e+00  0.000000e+00  0.000000e+00  0.000000e+00\n",
       "[1031]  0.000000e+00  0.000000e+00  0.000000e+00  0.000000e+00  0.000000e+00\n",
       "[1036]  0.000000e+00  0.000000e+00  0.000000e+00  0.000000e+00  0.000000e+00\n",
       "[1041]  0.000000e+00  0.000000e+00  0.000000e+00  0.000000e+00  0.000000e+00\n",
       "[1046]  0.000000e+00  0.000000e+00  0.000000e+00  0.000000e+00  0.000000e+00\n",
       "[1051]  0.000000e+00  0.000000e+00  0.000000e+00  0.000000e+00  0.000000e+00\n",
       "[1056]  0.000000e+00  0.000000e+00  0.000000e+00  0.000000e+00  0.000000e+00\n",
       "[1061]  0.000000e+00  0.000000e+00  0.000000e+00  0.000000e+00  0.000000e+00\n",
       "[1066]  0.000000e+00  0.000000e+00  0.000000e+00  0.000000e+00  0.000000e+00\n",
       "[1071]  0.000000e+00  0.000000e+00  0.000000e+00  0.000000e+00  0.000000e+00\n",
       "[1076]  0.000000e+00  0.000000e+00  0.000000e+00  0.000000e+00  0.000000e+00\n",
       "[1081]  0.000000e+00  0.000000e+00  0.000000e+00  0.000000e+00  0.000000e+00\n",
       "[1086]  0.000000e+00  0.000000e+00  0.000000e+00  0.000000e+00  0.000000e+00\n",
       "[1091]  0.000000e+00  0.000000e+00  0.000000e+00  0.000000e+00  0.000000e+00\n",
       "[1096]  0.000000e+00  0.000000e+00  0.000000e+00  0.000000e+00  0.000000e+00\n",
       "[1101]  0.000000e+00  0.000000e+00  0.000000e+00  0.000000e+00  0.000000e+00\n",
       "[1106]  0.000000e+00  0.000000e+00  0.000000e+00  0.000000e+00  0.000000e+00\n",
       "[1111]  0.000000e+00  0.000000e+00  0.000000e+00  0.000000e+00  0.000000e+00\n",
       "[1116]  0.000000e+00  0.000000e+00  0.000000e+00  0.000000e+00  0.000000e+00\n",
       "[1121]  0.000000e+00  0.000000e+00  0.000000e+00  0.000000e+00  0.000000e+00\n",
       "[1126]  0.000000e+00  0.000000e+00  0.000000e+00  0.000000e+00  0.000000e+00\n",
       "[1131]  0.000000e+00  0.000000e+00  0.000000e+00  0.000000e+00  0.000000e+00\n",
       "[1136]  0.000000e+00  0.000000e+00  0.000000e+00  0.000000e+00  0.000000e+00\n",
       "[1141]  0.000000e+00  0.000000e+00  0.000000e+00  0.000000e+00  0.000000e+00\n",
       "[1146]  0.000000e+00  0.000000e+00  0.000000e+00  0.000000e+00  0.000000e+00\n",
       "[1151]  0.000000e+00  0.000000e+00  0.000000e+00  0.000000e+00  0.000000e+00\n",
       "[1156]  0.000000e+00  0.000000e+00  0.000000e+00  0.000000e+00  0.000000e+00\n",
       "[1161]  0.000000e+00  0.000000e+00  0.000000e+00  0.000000e+00  0.000000e+00\n",
       "[1166]  0.000000e+00  0.000000e+00  0.000000e+00  0.000000e+00  0.000000e+00\n",
       "[1171]  0.000000e+00  0.000000e+00  0.000000e+00  0.000000e+00  0.000000e+00\n",
       "[1176]  0.000000e+00  0.000000e+00  0.000000e+00  0.000000e+00  0.000000e+00\n",
       "[1181]  0.000000e+00  0.000000e+00  0.000000e+00  0.000000e+00  0.000000e+00\n",
       "[1186]  0.000000e+00  0.000000e+00  0.000000e+00  0.000000e+00  0.000000e+00\n",
       "[1191]  0.000000e+00  0.000000e+00  0.000000e+00  0.000000e+00  0.000000e+00\n",
       "[1196]  0.000000e+00  0.000000e+00  0.000000e+00  0.000000e+00  0.000000e+00\n",
       "[1201]  0.000000e+00  0.000000e+00  0.000000e+00  0.000000e+00  0.000000e+00\n",
       "[1206]  0.000000e+00  0.000000e+00  0.000000e+00  0.000000e+00  0.000000e+00\n",
       "[1211]  0.000000e+00  0.000000e+00  0.000000e+00  0.000000e+00  0.000000e+00\n",
       "[1216]  0.000000e+00  0.000000e+00  0.000000e+00  0.000000e+00  0.000000e+00\n",
       "[1221]  0.000000e+00  0.000000e+00  0.000000e+00  0.000000e+00  0.000000e+00\n",
       "[1226]  0.000000e+00  0.000000e+00  0.000000e+00  0.000000e+00  0.000000e+00\n",
       "[1231]  0.000000e+00  0.000000e+00  0.000000e+00  0.000000e+00  0.000000e+00\n",
       "[1236]  0.000000e+00  0.000000e+00  0.000000e+00  0.000000e+00  0.000000e+00\n",
       "[1241]  0.000000e+00  0.000000e+00  0.000000e+00  0.000000e+00  0.000000e+00\n",
       "[1246]  0.000000e+00  0.000000e+00  0.000000e+00  0.000000e+00  0.000000e+00\n",
       "[1251]  0.000000e+00  0.000000e+00  0.000000e+00  0.000000e+00  0.000000e+00\n",
       "[1256]  0.000000e+00  0.000000e+00  0.000000e+00  0.000000e+00  0.000000e+00\n",
       "[1261]  0.000000e+00  0.000000e+00  0.000000e+00  0.000000e+00  0.000000e+00\n",
       "[1266]  0.000000e+00  0.000000e+00  0.000000e+00  0.000000e+00  0.000000e+00\n",
       "[1271]  0.000000e+00  0.000000e+00  0.000000e+00  0.000000e+00  0.000000e+00\n",
       "[1276]  0.000000e+00  0.000000e+00  0.000000e+00  0.000000e+00  0.000000e+00\n",
       "[1281]  0.000000e+00  0.000000e+00  0.000000e+00  0.000000e+00  0.000000e+00\n",
       "[1286]  0.000000e+00  0.000000e+00  0.000000e+00  0.000000e+00  0.000000e+00\n",
       "[1291]  0.000000e+00  0.000000e+00  0.000000e+00  0.000000e+00  0.000000e+00\n",
       "[1296]  0.000000e+00  0.000000e+00  0.000000e+00  0.000000e+00  0.000000e+00\n",
       "[1301]  0.000000e+00  0.000000e+00  0.000000e+00  0.000000e+00  0.000000e+00\n",
       "[1306]  0.000000e+00  0.000000e+00  0.000000e+00  0.000000e+00  0.000000e+00\n",
       "[1311]  0.000000e+00  0.000000e+00  0.000000e+00  0.000000e+00  0.000000e+00\n",
       "[1316]  0.000000e+00  0.000000e+00  0.000000e+00  0.000000e+00  0.000000e+00\n",
       "[1321]  0.000000e+00  0.000000e+00  0.000000e+00  0.000000e+00  0.000000e+00\n",
       "[1326]  0.000000e+00  0.000000e+00  0.000000e+00  0.000000e+00  0.000000e+00\n",
       "[1331]  0.000000e+00  0.000000e+00  0.000000e+00  0.000000e+00  0.000000e+00\n",
       "[1336]  0.000000e+00  0.000000e+00  0.000000e+00  0.000000e+00  0.000000e+00\n",
       "[1341]  0.000000e+00  0.000000e+00  0.000000e+00  0.000000e+00  0.000000e+00\n",
       "[1346]  0.000000e+00  0.000000e+00  0.000000e+00  0.000000e+00  0.000000e+00\n",
       "[1351]  0.000000e+00  0.000000e+00  0.000000e+00  0.000000e+00  0.000000e+00\n",
       "[1356]  0.000000e+00  0.000000e+00  0.000000e+00  0.000000e+00  0.000000e+00\n",
       "[1361]  0.000000e+00  0.000000e+00  0.000000e+00  0.000000e+00  0.000000e+00\n",
       "[1366]  0.000000e+00  0.000000e+00  0.000000e+00  0.000000e+00  0.000000e+00\n",
       "[1371]  0.000000e+00  0.000000e+00  0.000000e+00  0.000000e+00  0.000000e+00\n",
       "[1376]  0.000000e+00  0.000000e+00  0.000000e+00  0.000000e+00  0.000000e+00\n",
       "[1381]  0.000000e+00  0.000000e+00  0.000000e+00  0.000000e+00  0.000000e+00\n",
       "[1386]  0.000000e+00  0.000000e+00  0.000000e+00  0.000000e+00  0.000000e+00\n",
       "[1391]  0.000000e+00  0.000000e+00  0.000000e+00  0.000000e+00  0.000000e+00\n",
       "[1396]  0.000000e+00  0.000000e+00  0.000000e+00  0.000000e+00  0.000000e+00\n",
       "[1401]  0.000000e+00  0.000000e+00  0.000000e+00  0.000000e+00  0.000000e+00\n",
       "[1406]  0.000000e+00  0.000000e+00  0.000000e+00  0.000000e+00  0.000000e+00\n",
       "[1411]  0.000000e+00  0.000000e+00  0.000000e+00  0.000000e+00  0.000000e+00\n",
       "[1416]  0.000000e+00  0.000000e+00  0.000000e+00  0.000000e+00  0.000000e+00\n",
       "[1421]  0.000000e+00  0.000000e+00  0.000000e+00  0.000000e+00  0.000000e+00\n",
       "[1426]  0.000000e+00  0.000000e+00  0.000000e+00  0.000000e+00  0.000000e+00\n",
       "[1431]  0.000000e+00  0.000000e+00  0.000000e+00  0.000000e+00  0.000000e+00\n",
       "[1436]  0.000000e+00  0.000000e+00  0.000000e+00  0.000000e+00  0.000000e+00\n",
       "[1441]  0.000000e+00  0.000000e+00  0.000000e+00  0.000000e+00  0.000000e+00\n",
       "[1446]  0.000000e+00  0.000000e+00  0.000000e+00  0.000000e+00  0.000000e+00\n",
       "[1451]  0.000000e+00  0.000000e+00  0.000000e+00  0.000000e+00  0.000000e+00\n",
       "[1456]  0.000000e+00  0.000000e+00  0.000000e+00  0.000000e+00  0.000000e+00\n",
       "[1461]  0.000000e+00  0.000000e+00  0.000000e+00  0.000000e+00  0.000000e+00\n",
       "[1466]  0.000000e+00  0.000000e+00  0.000000e+00  0.000000e+00  0.000000e+00\n",
       "[1471]  0.000000e+00  0.000000e+00  0.000000e+00  0.000000e+00  0.000000e+00\n",
       "[1476]  0.000000e+00  0.000000e+00  0.000000e+00  0.000000e+00  0.000000e+00\n",
       "[1481]  0.000000e+00  0.000000e+00  0.000000e+00  0.000000e+00  0.000000e+00\n",
       "[1486]  0.000000e+00  0.000000e+00  0.000000e+00  0.000000e+00  0.000000e+00\n",
       "[1491]  0.000000e+00  0.000000e+00  0.000000e+00  0.000000e+00  0.000000e+00\n",
       "[1496]  0.000000e+00  0.000000e+00  0.000000e+00  0.000000e+00  0.000000e+00\n",
       "[1501]  0.000000e+00  0.000000e+00  0.000000e+00  0.000000e+00  0.000000e+00\n",
       "[1506]  0.000000e+00  0.000000e+00  0.000000e+00  0.000000e+00  0.000000e+00\n",
       "[1511]  0.000000e+00  0.000000e+00  0.000000e+00  0.000000e+00  0.000000e+00\n",
       "[1516]  0.000000e+00  0.000000e+00  0.000000e+00  0.000000e+00  0.000000e+00\n",
       "[1521]  0.000000e+00  0.000000e+00  0.000000e+00  0.000000e+00  0.000000e+00\n",
       "[1526]  0.000000e+00  0.000000e+00  0.000000e+00  0.000000e+00  0.000000e+00\n",
       "[1531]  0.000000e+00  0.000000e+00  0.000000e+00  0.000000e+00  0.000000e+00\n",
       "[1536]  0.000000e+00  0.000000e+00  0.000000e+00  0.000000e+00  0.000000e+00\n",
       "[1541]  0.000000e+00  0.000000e+00  0.000000e+00  0.000000e+00  0.000000e+00\n",
       "[1546]  0.000000e+00  0.000000e+00  0.000000e+00  0.000000e+00  0.000000e+00\n",
       "[1551]  0.000000e+00  0.000000e+00  0.000000e+00  0.000000e+00  0.000000e+00\n",
       "[1556]  0.000000e+00  0.000000e+00  0.000000e+00  0.000000e+00  0.000000e+00\n",
       "[1561]  0.000000e+00  0.000000e+00  0.000000e+00  0.000000e+00  0.000000e+00\n",
       "[1566]  0.000000e+00  0.000000e+00  0.000000e+00  0.000000e+00  0.000000e+00\n",
       "[1571]  0.000000e+00  0.000000e+00  0.000000e+00  0.000000e+00  0.000000e+00\n",
       "[1576]  0.000000e+00  0.000000e+00  0.000000e+00  0.000000e+00  0.000000e+00\n",
       "[1581]  0.000000e+00  0.000000e+00  0.000000e+00  0.000000e+00  0.000000e+00\n",
       "[1586]  0.000000e+00  0.000000e+00  0.000000e+00  0.000000e+00  0.000000e+00\n",
       "[1591]  0.000000e+00  0.000000e+00  0.000000e+00  0.000000e+00  0.000000e+00\n",
       "[1596]  0.000000e+00  0.000000e+00  0.000000e+00  0.000000e+00  0.000000e+00\n",
       "[1601]  0.000000e+00  0.000000e+00  0.000000e+00  0.000000e+00  0.000000e+00\n",
       "[1606]  0.000000e+00  0.000000e+00  0.000000e+00  0.000000e+00  0.000000e+00\n",
       "[1611]  0.000000e+00  0.000000e+00  0.000000e+00  0.000000e+00  0.000000e+00\n",
       "[1616]  0.000000e+00  0.000000e+00  0.000000e+00  0.000000e+00  0.000000e+00\n",
       "[1621]  0.000000e+00  0.000000e+00  0.000000e+00  0.000000e+00  0.000000e+00\n",
       "[1626]  0.000000e+00  0.000000e+00  0.000000e+00  0.000000e+00  0.000000e+00\n",
       "[1631]  0.000000e+00  0.000000e+00  0.000000e+00  0.000000e+00  0.000000e+00\n",
       "[1636]  0.000000e+00  0.000000e+00  0.000000e+00  0.000000e+00  0.000000e+00\n",
       "[1641]  0.000000e+00  0.000000e+00  0.000000e+00  0.000000e+00  0.000000e+00\n",
       "[1646]  0.000000e+00  0.000000e+00  0.000000e+00  0.000000e+00  0.000000e+00\n",
       "[1651]  0.000000e+00  0.000000e+00  0.000000e+00  0.000000e+00  0.000000e+00\n",
       "[1656]  0.000000e+00  0.000000e+00  0.000000e+00  0.000000e+00  0.000000e+00\n",
       "[1661]  0.000000e+00  0.000000e+00  0.000000e+00  0.000000e+00  0.000000e+00\n",
       "[1666]  0.000000e+00  0.000000e+00  0.000000e+00  0.000000e+00  0.000000e+00\n",
       "[1671]  0.000000e+00  0.000000e+00  0.000000e+00  0.000000e+00  0.000000e+00\n",
       "[1676]  0.000000e+00  0.000000e+00  0.000000e+00  0.000000e+00  0.000000e+00\n",
       "[1681]  0.000000e+00  0.000000e+00  0.000000e+00  0.000000e+00  0.000000e+00\n",
       "[1686]  0.000000e+00  0.000000e+00  0.000000e+00  0.000000e+00  0.000000e+00\n",
       "[1691]  0.000000e+00  0.000000e+00  0.000000e+00  0.000000e+00  0.000000e+00\n",
       "[1696]  0.000000e+00  0.000000e+00  0.000000e+00  0.000000e+00  0.000000e+00\n",
       "[1701]  0.000000e+00  0.000000e+00  0.000000e+00  0.000000e+00  0.000000e+00\n",
       "[1706]  0.000000e+00  0.000000e+00  0.000000e+00  0.000000e+00  0.000000e+00\n",
       "[1711]  0.000000e+00  0.000000e+00  0.000000e+00  0.000000e+00  0.000000e+00\n",
       "[1716]  0.000000e+00  0.000000e+00  0.000000e+00  0.000000e+00  0.000000e+00\n",
       "[1721]  0.000000e+00  0.000000e+00  0.000000e+00  0.000000e+00  0.000000e+00\n",
       "[1726]  0.000000e+00  0.000000e+00  0.000000e+00  0.000000e+00  0.000000e+00\n",
       "[1731]  0.000000e+00  0.000000e+00  0.000000e+00  0.000000e+00  0.000000e+00\n",
       "[1736]  0.000000e+00  0.000000e+00  0.000000e+00  0.000000e+00  0.000000e+00\n",
       "[1741]  0.000000e+00  0.000000e+00  0.000000e+00  0.000000e+00  0.000000e+00\n",
       "[1746]  0.000000e+00  0.000000e+00  0.000000e+00  0.000000e+00  0.000000e+00\n",
       "[1751]  0.000000e+00  0.000000e+00  0.000000e+00  0.000000e+00  0.000000e+00\n",
       "[1756]  0.000000e+00  0.000000e+00  0.000000e+00  0.000000e+00  0.000000e+00\n",
       "[1761]  0.000000e+00  0.000000e+00  0.000000e+00  0.000000e+00  0.000000e+00\n",
       "[1766]  0.000000e+00  0.000000e+00  0.000000e+00  0.000000e+00  0.000000e+00\n",
       "[1771]  0.000000e+00  0.000000e+00  0.000000e+00  0.000000e+00  0.000000e+00\n",
       "[1776]  0.000000e+00  0.000000e+00  0.000000e+00  0.000000e+00  0.000000e+00\n",
       "[1781]  0.000000e+00  0.000000e+00  0.000000e+00  0.000000e+00  0.000000e+00\n",
       "[1786]  0.000000e+00  0.000000e+00  0.000000e+00  0.000000e+00  0.000000e+00\n",
       "[1791]  0.000000e+00  0.000000e+00  0.000000e+00  0.000000e+00  0.000000e+00\n",
       "[1796]  0.000000e+00  0.000000e+00  0.000000e+00  0.000000e+00  0.000000e+00\n",
       "[1801]  0.000000e+00  0.000000e+00  0.000000e+00  0.000000e+00  0.000000e+00\n",
       "[1806]  0.000000e+00  0.000000e+00  0.000000e+00  0.000000e+00  0.000000e+00\n",
       "[1811]  0.000000e+00  0.000000e+00  0.000000e+00  0.000000e+00  0.000000e+00\n",
       "[1816]  0.000000e+00  0.000000e+00  0.000000e+00  0.000000e+00  0.000000e+00\n",
       "[1821]  0.000000e+00  0.000000e+00  0.000000e+00  0.000000e+00  0.000000e+00\n",
       "[1826]  0.000000e+00  0.000000e+00  0.000000e+00  0.000000e+00  0.000000e+00\n",
       "[1831]  0.000000e+00  0.000000e+00  0.000000e+00  0.000000e+00  0.000000e+00\n",
       "[1836]  0.000000e+00  0.000000e+00  0.000000e+00  0.000000e+00  0.000000e+00\n",
       "[1841]  0.000000e+00  0.000000e+00  0.000000e+00  0.000000e+00  0.000000e+00\n",
       "[1846]  0.000000e+00  0.000000e+00  0.000000e+00  0.000000e+00  0.000000e+00\n",
       "[1851]  0.000000e+00  0.000000e+00  0.000000e+00  0.000000e+00  0.000000e+00\n",
       "[1856]  0.000000e+00  0.000000e+00  0.000000e+00  0.000000e+00  0.000000e+00\n",
       "[1861]  0.000000e+00  0.000000e+00  0.000000e+00  0.000000e+00  0.000000e+00\n",
       "[1866]  0.000000e+00  0.000000e+00  0.000000e+00  0.000000e+00  0.000000e+00\n",
       "[1871]  0.000000e+00  0.000000e+00  0.000000e+00  0.000000e+00  0.000000e+00\n",
       "[1876]  0.000000e+00  0.000000e+00  0.000000e+00  0.000000e+00  0.000000e+00\n",
       "[1881]  0.000000e+00  0.000000e+00  0.000000e+00  0.000000e+00  0.000000e+00\n",
       "[1886]  0.000000e+00  0.000000e+00  0.000000e+00  0.000000e+00  0.000000e+00\n",
       "[1891]  0.000000e+00  0.000000e+00  0.000000e+00  0.000000e+00  0.000000e+00\n",
       "[1896]  0.000000e+00  0.000000e+00  0.000000e+00  0.000000e+00  0.000000e+00\n",
       "[1901]  0.000000e+00  0.000000e+00  0.000000e+00  0.000000e+00  0.000000e+00\n",
       "[1906]  0.000000e+00  0.000000e+00  0.000000e+00  0.000000e+00  0.000000e+00\n",
       "[1911]  0.000000e+00  0.000000e+00  0.000000e+00  0.000000e+00  0.000000e+00\n",
       "[1916]  0.000000e+00  0.000000e+00  0.000000e+00  0.000000e+00  0.000000e+00\n",
       "[1921]  0.000000e+00  0.000000e+00  0.000000e+00  0.000000e+00  0.000000e+00\n",
       "[1926]  0.000000e+00  0.000000e+00  0.000000e+00  0.000000e+00  0.000000e+00\n",
       "[1931]  0.000000e+00  0.000000e+00  0.000000e+00  0.000000e+00  0.000000e+00\n",
       "[1936]  0.000000e+00  0.000000e+00  0.000000e+00  0.000000e+00  0.000000e+00\n",
       "[1941]  0.000000e+00  0.000000e+00  0.000000e+00  0.000000e+00  0.000000e+00\n",
       "[1946]  0.000000e+00  0.000000e+00  0.000000e+00  0.000000e+00  0.000000e+00\n",
       "[1951]  0.000000e+00  0.000000e+00  0.000000e+00  0.000000e+00  0.000000e+00\n",
       "[1956]  0.000000e+00  0.000000e+00  0.000000e+00  0.000000e+00  0.000000e+00\n",
       "[1961]  0.000000e+00  0.000000e+00  0.000000e+00  0.000000e+00  0.000000e+00\n",
       "[1966]  0.000000e+00  0.000000e+00  0.000000e+00  0.000000e+00  0.000000e+00\n",
       "[1971]  0.000000e+00  0.000000e+00  0.000000e+00  0.000000e+00  0.000000e+00\n",
       "[1976]  0.000000e+00  0.000000e+00  0.000000e+00  0.000000e+00  0.000000e+00\n",
       "[1981]  0.000000e+00  0.000000e+00  0.000000e+00  0.000000e+00  0.000000e+00\n",
       "[1986]  0.000000e+00  0.000000e+00  0.000000e+00  0.000000e+00  0.000000e+00\n",
       "[1991]  0.000000e+00  0.000000e+00  0.000000e+00  0.000000e+00  0.000000e+00\n",
       "[1996]  0.000000e+00  0.000000e+00  0.000000e+00  0.000000e+00  0.000000e+00\n",
       "[2001]  0.000000e+00  0.000000e+00  0.000000e+00  0.000000e+00  0.000000e+00\n",
       "[2006]  0.000000e+00  0.000000e+00  0.000000e+00  0.000000e+00  0.000000e+00\n",
       "[2011]  0.000000e+00  0.000000e+00  0.000000e+00  0.000000e+00  0.000000e+00\n",
       "[2016]  0.000000e+00  0.000000e+00  0.000000e+00  0.000000e+00  0.000000e+00\n",
       "[2021]  0.000000e+00  0.000000e+00  0.000000e+00  0.000000e+00  0.000000e+00\n",
       "[2026]  0.000000e+00  0.000000e+00  0.000000e+00  0.000000e+00  0.000000e+00\n",
       "[2031]  0.000000e+00  0.000000e+00  0.000000e+00  0.000000e+00  0.000000e+00\n",
       "[2036]  0.000000e+00  0.000000e+00  0.000000e+00  0.000000e+00  0.000000e+00\n",
       "[2041]  0.000000e+00  0.000000e+00  0.000000e+00  0.000000e+00  0.000000e+00\n",
       "[2046]  0.000000e+00  0.000000e+00  0.000000e+00  0.000000e+00  0.000000e+00\n",
       "[2051]  0.000000e+00  0.000000e+00  0.000000e+00  0.000000e+00  0.000000e+00\n",
       "[2056]  0.000000e+00  0.000000e+00  0.000000e+00  0.000000e+00  0.000000e+00\n",
       "[2061]  0.000000e+00  0.000000e+00  0.000000e+00  0.000000e+00  0.000000e+00\n",
       "[2066]  0.000000e+00  0.000000e+00  0.000000e+00  0.000000e+00  0.000000e+00\n",
       "[2071]  0.000000e+00  0.000000e+00  0.000000e+00  0.000000e+00  0.000000e+00\n",
       "[2076]  0.000000e+00  0.000000e+00  0.000000e+00  0.000000e+00  0.000000e+00\n",
       "[2081]  0.000000e+00  0.000000e+00  0.000000e+00  0.000000e+00  0.000000e+00\n",
       "[2086]  0.000000e+00  0.000000e+00  0.000000e+00  0.000000e+00  0.000000e+00\n",
       "[2091]  0.000000e+00  0.000000e+00  0.000000e+00  0.000000e+00  0.000000e+00\n",
       "[2096]  0.000000e+00  0.000000e+00  0.000000e+00  0.000000e+00  0.000000e+00\n",
       "[2101]  0.000000e+00  0.000000e+00  0.000000e+00  0.000000e+00  0.000000e+00\n",
       "[2106]  0.000000e+00  0.000000e+00  0.000000e+00  0.000000e+00  0.000000e+00\n",
       "[2111]  0.000000e+00  0.000000e+00  0.000000e+00  0.000000e+00  0.000000e+00\n",
       "[2116]  0.000000e+00  0.000000e+00  0.000000e+00  0.000000e+00  0.000000e+00\n",
       "[2121]  0.000000e+00  0.000000e+00  0.000000e+00  0.000000e+00  0.000000e+00\n",
       "[2126]  0.000000e+00  0.000000e+00  0.000000e+00  0.000000e+00  0.000000e+00\n",
       "[2131]  0.000000e+00  0.000000e+00  0.000000e+00  0.000000e+00  0.000000e+00\n",
       "[2136]  0.000000e+00  0.000000e+00  0.000000e+00  0.000000e+00  0.000000e+00\n",
       "[2141]  0.000000e+00  0.000000e+00  0.000000e+00  0.000000e+00  0.000000e+00\n",
       "[2146]  0.000000e+00  0.000000e+00  0.000000e+00  0.000000e+00  0.000000e+00\n",
       "[2151]  0.000000e+00  0.000000e+00  0.000000e+00  0.000000e+00  0.000000e+00\n",
       "[2156]  0.000000e+00  0.000000e+00  0.000000e+00  0.000000e+00  0.000000e+00\n",
       "[2161]  0.000000e+00  0.000000e+00  0.000000e+00  0.000000e+00  0.000000e+00\n",
       "[2166]  0.000000e+00  0.000000e+00  0.000000e+00  0.000000e+00  0.000000e+00\n",
       "[2171]  0.000000e+00  0.000000e+00  0.000000e+00  0.000000e+00  0.000000e+00\n",
       "[2176]  0.000000e+00  0.000000e+00  0.000000e+00  0.000000e+00  0.000000e+00\n",
       "[2181]  0.000000e+00  0.000000e+00  0.000000e+00  0.000000e+00  0.000000e+00\n",
       "[2186]  0.000000e+00  0.000000e+00  0.000000e+00  0.000000e+00  0.000000e+00\n",
       "[2191]  0.000000e+00  0.000000e+00  0.000000e+00  0.000000e+00  0.000000e+00\n",
       "[2196]  0.000000e+00  0.000000e+00  0.000000e+00  0.000000e+00  0.000000e+00\n",
       "[2201]  0.000000e+00  0.000000e+00  0.000000e+00  0.000000e+00  0.000000e+00\n",
       "[2206]  0.000000e+00  0.000000e+00  0.000000e+00  0.000000e+00  0.000000e+00\n",
       "[2211]  0.000000e+00  0.000000e+00  0.000000e+00  0.000000e+00  0.000000e+00\n",
       "[2216]  0.000000e+00  0.000000e+00  0.000000e+00  0.000000e+00  0.000000e+00\n",
       "[2221]  0.000000e+00  0.000000e+00  0.000000e+00  0.000000e+00  0.000000e+00\n",
       "[2226]  0.000000e+00  0.000000e+00  0.000000e+00  0.000000e+00  0.000000e+00\n",
       "[2231]  0.000000e+00  0.000000e+00  0.000000e+00  0.000000e+00  0.000000e+00\n",
       "[2236]  0.000000e+00  0.000000e+00  0.000000e+00  0.000000e+00  0.000000e+00\n",
       "[2241]  0.000000e+00  0.000000e+00  0.000000e+00  0.000000e+00  0.000000e+00\n",
       "[2246]  0.000000e+00  0.000000e+00  0.000000e+00  0.000000e+00  0.000000e+00\n",
       "[2251]  0.000000e+00  0.000000e+00  0.000000e+00  0.000000e+00  0.000000e+00\n",
       "[2256]  0.000000e+00  0.000000e+00  0.000000e+00  0.000000e+00  0.000000e+00\n",
       "[2261]  0.000000e+00  0.000000e+00  0.000000e+00  0.000000e+00  0.000000e+00\n",
       "[2266]  0.000000e+00  0.000000e+00  0.000000e+00  0.000000e+00  0.000000e+00\n",
       "[2271]  0.000000e+00  0.000000e+00  0.000000e+00  0.000000e+00  0.000000e+00\n",
       "[2276]  0.000000e+00  0.000000e+00  0.000000e+00  0.000000e+00  0.000000e+00\n",
       "[2281]  0.000000e+00  0.000000e+00  0.000000e+00  0.000000e+00  0.000000e+00\n",
       "[2286]  0.000000e+00  0.000000e+00  0.000000e+00  0.000000e+00  0.000000e+00\n",
       "[2291]  0.000000e+00  0.000000e+00  0.000000e+00  0.000000e+00  0.000000e+00\n",
       "[2296]  0.000000e+00  0.000000e+00  0.000000e+00  0.000000e+00  0.000000e+00\n",
       "[2301]  0.000000e+00  0.000000e+00  0.000000e+00  0.000000e+00  0.000000e+00\n",
       "[2306]  0.000000e+00  0.000000e+00  0.000000e+00  0.000000e+00  0.000000e+00\n",
       "[2311]  0.000000e+00  0.000000e+00  0.000000e+00  0.000000e+00  0.000000e+00\n",
       "[2316]  0.000000e+00  0.000000e+00  0.000000e+00  0.000000e+00  0.000000e+00\n",
       "[2321]  0.000000e+00  0.000000e+00  0.000000e+00  0.000000e+00  0.000000e+00\n",
       "[2326]  0.000000e+00  0.000000e+00  0.000000e+00  0.000000e+00  0.000000e+00\n",
       "[2331]  0.000000e+00  0.000000e+00  0.000000e+00  0.000000e+00  0.000000e+00\n",
       "[2336]  0.000000e+00  0.000000e+00  0.000000e+00  0.000000e+00  0.000000e+00\n",
       "[2341]  0.000000e+00  0.000000e+00  0.000000e+00  0.000000e+00  0.000000e+00\n",
       "[2346]  0.000000e+00  0.000000e+00  0.000000e+00  0.000000e+00  0.000000e+00\n",
       "[2351]  0.000000e+00  0.000000e+00  0.000000e+00  0.000000e+00  0.000000e+00\n",
       "[2356]  0.000000e+00  0.000000e+00  0.000000e+00  0.000000e+00  0.000000e+00\n",
       "[2361]  0.000000e+00  0.000000e+00  0.000000e+00  0.000000e+00  0.000000e+00\n",
       "[2366]  0.000000e+00  0.000000e+00  0.000000e+00  0.000000e+00  0.000000e+00\n",
       "[2371]  0.000000e+00  0.000000e+00  0.000000e+00  0.000000e+00  0.000000e+00\n",
       "[2376]  0.000000e+00  0.000000e+00  0.000000e+00  0.000000e+00  0.000000e+00\n",
       "[2381]  0.000000e+00  0.000000e+00  0.000000e+00  0.000000e+00  0.000000e+00\n",
       "[2386]  0.000000e+00  0.000000e+00  0.000000e+00  0.000000e+00  0.000000e+00\n",
       "[2391]  0.000000e+00  0.000000e+00  0.000000e+00  0.000000e+00  0.000000e+00\n",
       "[2396]  0.000000e+00  0.000000e+00  0.000000e+00  0.000000e+00  0.000000e+00\n",
       "[2401]  0.000000e+00  0.000000e+00  0.000000e+00  0.000000e+00  0.000000e+00\n",
       "[2406]  0.000000e+00  0.000000e+00  0.000000e+00  0.000000e+00  0.000000e+00\n",
       "[2411]  0.000000e+00  0.000000e+00  0.000000e+00  0.000000e+00  0.000000e+00\n",
       "[2416]  0.000000e+00  0.000000e+00  0.000000e+00  0.000000e+00  0.000000e+00\n",
       "[2421]  0.000000e+00  0.000000e+00  0.000000e+00  0.000000e+00  0.000000e+00\n",
       "[2426]  0.000000e+00  0.000000e+00  0.000000e+00  0.000000e+00  0.000000e+00\n",
       "[2431]  0.000000e+00  0.000000e+00  0.000000e+00  0.000000e+00  0.000000e+00\n",
       "[2436]  0.000000e+00  0.000000e+00  0.000000e+00  0.000000e+00  0.000000e+00\n",
       "[2441]  0.000000e+00  0.000000e+00  0.000000e+00  0.000000e+00  0.000000e+00\n",
       "[2446]  0.000000e+00  0.000000e+00  0.000000e+00  0.000000e+00  0.000000e+00\n",
       "[2451]  0.000000e+00  0.000000e+00  0.000000e+00  0.000000e+00  0.000000e+00\n",
       "[2456]  0.000000e+00  0.000000e+00  0.000000e+00  0.000000e+00  0.000000e+00\n",
       "[2461]  0.000000e+00  0.000000e+00  0.000000e+00  0.000000e+00  0.000000e+00\n",
       "[2466]  0.000000e+00  0.000000e+00  0.000000e+00  0.000000e+00  0.000000e+00\n",
       "[2471]  0.000000e+00  0.000000e+00  0.000000e+00  0.000000e+00  0.000000e+00\n",
       "[2476]  0.000000e+00  0.000000e+00  0.000000e+00  0.000000e+00  0.000000e+00\n",
       "[2481]  0.000000e+00  0.000000e+00  0.000000e+00  0.000000e+00  0.000000e+00\n",
       "[2486]  0.000000e+00  0.000000e+00  0.000000e+00  0.000000e+00  0.000000e+00\n",
       "[2491]  0.000000e+00  0.000000e+00  0.000000e+00  0.000000e+00  0.000000e+00\n",
       "[2496]  0.000000e+00  0.000000e+00  0.000000e+00  0.000000e+00  0.000000e+00\n",
       "[2501]  0.000000e+00  0.000000e+00  0.000000e+00  0.000000e+00  0.000000e+00\n",
       "[2506]  0.000000e+00  0.000000e+00  0.000000e+00  0.000000e+00  0.000000e+00\n",
       "[2511]  0.000000e+00  0.000000e+00  0.000000e+00  0.000000e+00  0.000000e+00\n",
       "[2516]  0.000000e+00  0.000000e+00  0.000000e+00  0.000000e+00  0.000000e+00\n",
       "[2521]  0.000000e+00  0.000000e+00  0.000000e+00  0.000000e+00  0.000000e+00\n",
       "[2526]  0.000000e+00  0.000000e+00  0.000000e+00  0.000000e+00  0.000000e+00\n",
       "[2531]  0.000000e+00  0.000000e+00  0.000000e+00  0.000000e+00  0.000000e+00\n",
       "[2536]  0.000000e+00  0.000000e+00  0.000000e+00  0.000000e+00  0.000000e+00\n",
       "[2541]  0.000000e+00  0.000000e+00  0.000000e+00  0.000000e+00  0.000000e+00\n",
       "[2546]  0.000000e+00  0.000000e+00  0.000000e+00  0.000000e+00  0.000000e+00\n",
       "[2551]  0.000000e+00  0.000000e+00  0.000000e+00  0.000000e+00  0.000000e+00\n",
       "[2556]  0.000000e+00  0.000000e+00  0.000000e+00  0.000000e+00  0.000000e+00\n",
       "[2561]  0.000000e+00  0.000000e+00  0.000000e+00  0.000000e+00  0.000000e+00\n",
       "[2566]  0.000000e+00  0.000000e+00  0.000000e+00  0.000000e+00  0.000000e+00\n",
       "[2571]  0.000000e+00  0.000000e+00  0.000000e+00  0.000000e+00  0.000000e+00\n",
       "[2576]  0.000000e+00  0.000000e+00  0.000000e+00  0.000000e+00  0.000000e+00\n",
       "[2581]  0.000000e+00  0.000000e+00  0.000000e+00  0.000000e+00  0.000000e+00\n",
       "[2586]  0.000000e+00  0.000000e+00  0.000000e+00  0.000000e+00  0.000000e+00\n",
       "[2591]  0.000000e+00  0.000000e+00  0.000000e+00  0.000000e+00  0.000000e+00\n",
       "[2596]  0.000000e+00  0.000000e+00  0.000000e+00  0.000000e+00  0.000000e+00\n",
       "[2601]  0.000000e+00  0.000000e+00  0.000000e+00  0.000000e+00  0.000000e+00\n",
       "[2606]  0.000000e+00  0.000000e+00  0.000000e+00  0.000000e+00  0.000000e+00\n",
       "[2611]  0.000000e+00  0.000000e+00  0.000000e+00  0.000000e+00  0.000000e+00\n",
       "[2616]  0.000000e+00  0.000000e+00  0.000000e+00  0.000000e+00  0.000000e+00\n",
       "[2621]  0.000000e+00  0.000000e+00  0.000000e+00  0.000000e+00  0.000000e+00\n",
       "[2626]  0.000000e+00  0.000000e+00  0.000000e+00  0.000000e+00  0.000000e+00\n",
       "[2631]  0.000000e+00  0.000000e+00  0.000000e+00  0.000000e+00  0.000000e+00\n",
       "[2636]  0.000000e+00  0.000000e+00  0.000000e+00  0.000000e+00  0.000000e+00\n",
       "[2641]  0.000000e+00  0.000000e+00  0.000000e+00  0.000000e+00  0.000000e+00\n",
       "[2646]  0.000000e+00  0.000000e+00  0.000000e+00  0.000000e+00  0.000000e+00\n",
       "[2651]  0.000000e+00  0.000000e+00  0.000000e+00  0.000000e+00  0.000000e+00\n",
       "[2656]  0.000000e+00  0.000000e+00  0.000000e+00  0.000000e+00  0.000000e+00\n",
       "[2661]  0.000000e+00  0.000000e+00  0.000000e+00  0.000000e+00  0.000000e+00\n",
       "[2666]  0.000000e+00  0.000000e+00  0.000000e+00  0.000000e+00  0.000000e+00\n",
       "[2671]  0.000000e+00  0.000000e+00  0.000000e+00  0.000000e+00  0.000000e+00\n",
       "[2676]  0.000000e+00  0.000000e+00  0.000000e+00  0.000000e+00  0.000000e+00\n",
       "[2681]  0.000000e+00  0.000000e+00  0.000000e+00  0.000000e+00  0.000000e+00\n",
       "[2686]  0.000000e+00  0.000000e+00  0.000000e+00  0.000000e+00  0.000000e+00\n",
       "[2691]  0.000000e+00  0.000000e+00  0.000000e+00  0.000000e+00  0.000000e+00\n",
       "[2696]  0.000000e+00  0.000000e+00  0.000000e+00  0.000000e+00  0.000000e+00\n",
       "[2701]  0.000000e+00  0.000000e+00  0.000000e+00  0.000000e+00  0.000000e+00\n",
       "[2706]  0.000000e+00  0.000000e+00  0.000000e+00  0.000000e+00  0.000000e+00\n",
       "[2711]  0.000000e+00  0.000000e+00  0.000000e+00  0.000000e+00  0.000000e+00\n",
       "[2716]  0.000000e+00  0.000000e+00  0.000000e+00  0.000000e+00  0.000000e+00\n",
       "[2721]  0.000000e+00  0.000000e+00  0.000000e+00  0.000000e+00  0.000000e+00\n",
       "[2726]  0.000000e+00  0.000000e+00  0.000000e+00  0.000000e+00  0.000000e+00\n",
       "[2731]  0.000000e+00  0.000000e+00  0.000000e+00  0.000000e+00  0.000000e+00\n",
       "[2736]  0.000000e+00  0.000000e+00  0.000000e+00  0.000000e+00  0.000000e+00\n",
       "[2741]  0.000000e+00  0.000000e+00  0.000000e+00  0.000000e+00  0.000000e+00\n",
       "[2746]  0.000000e+00  0.000000e+00  0.000000e+00  0.000000e+00  0.000000e+00\n",
       "[2751]  0.000000e+00  0.000000e+00  0.000000e+00  0.000000e+00  0.000000e+00\n",
       "[2756]  0.000000e+00  0.000000e+00  0.000000e+00  0.000000e+00  0.000000e+00\n",
       "[2761]  0.000000e+00  0.000000e+00  0.000000e+00  0.000000e+00  0.000000e+00\n",
       "[2766]  0.000000e+00  0.000000e+00  0.000000e+00  0.000000e+00  0.000000e+00\n",
       "[2771]  0.000000e+00  0.000000e+00  0.000000e+00  0.000000e+00  0.000000e+00\n",
       "[2776]  0.000000e+00  0.000000e+00  0.000000e+00  0.000000e+00  0.000000e+00\n",
       "[2781]  0.000000e+00  0.000000e+00  0.000000e+00  0.000000e+00  0.000000e+00\n",
       "[2786]  0.000000e+00  0.000000e+00  0.000000e+00  0.000000e+00  0.000000e+00\n",
       "[2791]  0.000000e+00  0.000000e+00  0.000000e+00  0.000000e+00  0.000000e+00\n",
       "[2796]  0.000000e+00  0.000000e+00  0.000000e+00  0.000000e+00  0.000000e+00\n",
       "[2801]  0.000000e+00  0.000000e+00  0.000000e+00  0.000000e+00  0.000000e+00\n",
       "[2806]  0.000000e+00  0.000000e+00  0.000000e+00  0.000000e+00  0.000000e+00\n",
       "[2811]  0.000000e+00  0.000000e+00  0.000000e+00  0.000000e+00  0.000000e+00\n",
       "[2816]  0.000000e+00  0.000000e+00  0.000000e+00  0.000000e+00  0.000000e+00\n",
       "[2821]  0.000000e+00  0.000000e+00  0.000000e+00  0.000000e+00  0.000000e+00\n",
       "[2826]  0.000000e+00  0.000000e+00  0.000000e+00  0.000000e+00  0.000000e+00\n",
       "[2831]  0.000000e+00  0.000000e+00  0.000000e+00  0.000000e+00  0.000000e+00\n",
       "[2836]  0.000000e+00  0.000000e+00  0.000000e+00  0.000000e+00  0.000000e+00\n",
       "[2841]  0.000000e+00  0.000000e+00  0.000000e+00  0.000000e+00  0.000000e+00\n",
       "[2846]  0.000000e+00  0.000000e+00  0.000000e+00  0.000000e+00  0.000000e+00\n",
       "[2851]  0.000000e+00  0.000000e+00  0.000000e+00  0.000000e+00  0.000000e+00\n",
       "[2856]  0.000000e+00  0.000000e+00  0.000000e+00  0.000000e+00  0.000000e+00\n",
       "[2861]  0.000000e+00  0.000000e+00  0.000000e+00  0.000000e+00  0.000000e+00\n",
       "[2866]  0.000000e+00  0.000000e+00  0.000000e+00  0.000000e+00  0.000000e+00\n",
       "[2871]  0.000000e+00  0.000000e+00  0.000000e+00  0.000000e+00  0.000000e+00\n",
       "[2876]  0.000000e+00  0.000000e+00  0.000000e+00  0.000000e+00  0.000000e+00\n",
       "[2881]  0.000000e+00  0.000000e+00  0.000000e+00  0.000000e+00  0.000000e+00\n",
       "[2886]  0.000000e+00  0.000000e+00  0.000000e+00  0.000000e+00  0.000000e+00\n",
       "[2891]  0.000000e+00  0.000000e+00  0.000000e+00  0.000000e+00  0.000000e+00\n",
       "[2896]  0.000000e+00  0.000000e+00  0.000000e+00  0.000000e+00  0.000000e+00\n",
       "[2901]  0.000000e+00  0.000000e+00  0.000000e+00  0.000000e+00  0.000000e+00\n",
       "[2906]  0.000000e+00  0.000000e+00  0.000000e+00  0.000000e+00  0.000000e+00\n",
       "[2911]  0.000000e+00  0.000000e+00  0.000000e+00  0.000000e+00  0.000000e+00\n",
       "[2916]  0.000000e+00  0.000000e+00  0.000000e+00  0.000000e+00  0.000000e+00\n",
       "[2921]  0.000000e+00  0.000000e+00  0.000000e+00  0.000000e+00  0.000000e+00\n",
       "[2926]  0.000000e+00  0.000000e+00  0.000000e+00  0.000000e+00  0.000000e+00\n",
       "[2931]  0.000000e+00  0.000000e+00  0.000000e+00  0.000000e+00  0.000000e+00\n",
       "[2936]  0.000000e+00  0.000000e+00  0.000000e+00  0.000000e+00  0.000000e+00\n",
       "[2941]  0.000000e+00  0.000000e+00  0.000000e+00  0.000000e+00  0.000000e+00\n",
       "[2946]  0.000000e+00  0.000000e+00  0.000000e+00  0.000000e+00  0.000000e+00\n",
       "[2951]  0.000000e+00  0.000000e+00  0.000000e+00  0.000000e+00  0.000000e+00\n",
       "[2956]  0.000000e+00  0.000000e+00  0.000000e+00  0.000000e+00  0.000000e+00\n",
       "[2961]  0.000000e+00  0.000000e+00  0.000000e+00  0.000000e+00  0.000000e+00\n",
       "[2966]  0.000000e+00  0.000000e+00  0.000000e+00  0.000000e+00  0.000000e+00\n",
       "[2971]  0.000000e+00  0.000000e+00  0.000000e+00  0.000000e+00  0.000000e+00\n",
       "[2976]  0.000000e+00  0.000000e+00  0.000000e+00  0.000000e+00  0.000000e+00\n",
       "[2981]  0.000000e+00  0.000000e+00  0.000000e+00  0.000000e+00  0.000000e+00\n",
       "[2986]  0.000000e+00  0.000000e+00  0.000000e+00  0.000000e+00  0.000000e+00\n",
       "[2991]  0.000000e+00  0.000000e+00  0.000000e+00  0.000000e+00  0.000000e+00\n",
       "[2996]  0.000000e+00  0.000000e+00  0.000000e+00  0.000000e+00  0.000000e+00\n",
       "[3001]  0.000000e+00  0.000000e+00  0.000000e+00  0.000000e+00  0.000000e+00\n",
       "[3006]  0.000000e+00  0.000000e+00  0.000000e+00  0.000000e+00  0.000000e+00\n",
       "[3011]  0.000000e+00  0.000000e+00  0.000000e+00  0.000000e+00  0.000000e+00\n",
       "[3016]  0.000000e+00  0.000000e+00  0.000000e+00  0.000000e+00  0.000000e+00\n",
       "[3021]  0.000000e+00  0.000000e+00  0.000000e+00  0.000000e+00  0.000000e+00\n",
       "[3026]  0.000000e+00  0.000000e+00  0.000000e+00  0.000000e+00  0.000000e+00\n",
       "[3031]  0.000000e+00  0.000000e+00  0.000000e+00  0.000000e+00  0.000000e+00\n",
       "[3036]  0.000000e+00  0.000000e+00  0.000000e+00  0.000000e+00  0.000000e+00\n",
       "[3041]  0.000000e+00  0.000000e+00  0.000000e+00  0.000000e+00  0.000000e+00\n",
       "[3046]  0.000000e+00  0.000000e+00  0.000000e+00  0.000000e+00  0.000000e+00\n",
       "[3051]  0.000000e+00  0.000000e+00  0.000000e+00  0.000000e+00  0.000000e+00\n",
       "[3056]  0.000000e+00  0.000000e+00  0.000000e+00  0.000000e+00  0.000000e+00\n",
       "[3061]  0.000000e+00  0.000000e+00  0.000000e+00  0.000000e+00  0.000000e+00\n",
       "[3066]  0.000000e+00  0.000000e+00  0.000000e+00  0.000000e+00  0.000000e+00\n",
       "[3071]  0.000000e+00  0.000000e+00  0.000000e+00  0.000000e+00  0.000000e+00\n",
       "[3076]  0.000000e+00  0.000000e+00  0.000000e+00  0.000000e+00  0.000000e+00\n",
       "[3081]  0.000000e+00  0.000000e+00  0.000000e+00  0.000000e+00  0.000000e+00\n",
       "[3086]  0.000000e+00  0.000000e+00  0.000000e+00  0.000000e+00  0.000000e+00\n",
       "[3091]  0.000000e+00  0.000000e+00  0.000000e+00  0.000000e+00  0.000000e+00\n",
       "[3096]  0.000000e+00  0.000000e+00  0.000000e+00  0.000000e+00  0.000000e+00\n",
       "[3101]  0.000000e+00  0.000000e+00  0.000000e+00  0.000000e+00  0.000000e+00\n",
       "[3106]  0.000000e+00  0.000000e+00  0.000000e+00  0.000000e+00  0.000000e+00\n",
       "[3111]  0.000000e+00  0.000000e+00  0.000000e+00  0.000000e+00  0.000000e+00\n",
       "[3116]  0.000000e+00  0.000000e+00  0.000000e+00  0.000000e+00  0.000000e+00\n",
       "[3121]  0.000000e+00  0.000000e+00  0.000000e+00  0.000000e+00  0.000000e+00\n",
       "[3126]  0.000000e+00  0.000000e+00  0.000000e+00  0.000000e+00  0.000000e+00\n",
       "[3131]  0.000000e+00  0.000000e+00  0.000000e+00  0.000000e+00  0.000000e+00\n",
       "[3136]  0.000000e+00  0.000000e+00  0.000000e+00  0.000000e+00  0.000000e+00\n",
       "[3141]  0.000000e+00  0.000000e+00  0.000000e+00  0.000000e+00  0.000000e+00\n",
       "[3146]  0.000000e+00  0.000000e+00  0.000000e+00  0.000000e+00  0.000000e+00\n",
       "[3151]  0.000000e+00  0.000000e+00  0.000000e+00  0.000000e+00  0.000000e+00\n",
       "[3156]  0.000000e+00  0.000000e+00  0.000000e+00  0.000000e+00  0.000000e+00\n",
       "[3161]  0.000000e+00  0.000000e+00  0.000000e+00  0.000000e+00  0.000000e+00\n",
       "[3166]  0.000000e+00  0.000000e+00  0.000000e+00  0.000000e+00  0.000000e+00\n",
       "[3171]  0.000000e+00  0.000000e+00  0.000000e+00  0.000000e+00  0.000000e+00\n",
       "[3176]  0.000000e+00  0.000000e+00  0.000000e+00  0.000000e+00  0.000000e+00\n",
       "[3181]  0.000000e+00  0.000000e+00  0.000000e+00  0.000000e+00  0.000000e+00\n",
       "[3186]  0.000000e+00  0.000000e+00  0.000000e+00  0.000000e+00  0.000000e+00\n",
       "[3191]  0.000000e+00  0.000000e+00  0.000000e+00  0.000000e+00  0.000000e+00\n",
       "[3196]  0.000000e+00  0.000000e+00  0.000000e+00  0.000000e+00  0.000000e+00\n",
       "[3201]  0.000000e+00  0.000000e+00  0.000000e+00  0.000000e+00  0.000000e+00\n",
       "[3206]  0.000000e+00  0.000000e+00  0.000000e+00  0.000000e+00  0.000000e+00\n",
       "[3211]  0.000000e+00  0.000000e+00  0.000000e+00  0.000000e+00  0.000000e+00\n",
       "[3216]  0.000000e+00  0.000000e+00  0.000000e+00  0.000000e+00  0.000000e+00\n",
       "[3221]  0.000000e+00  0.000000e+00  0.000000e+00  0.000000e+00  0.000000e+00\n",
       "[3226]  0.000000e+00  0.000000e+00  0.000000e+00  0.000000e+00  0.000000e+00\n",
       "[3231]  0.000000e+00  0.000000e+00  0.000000e+00  0.000000e+00  0.000000e+00\n",
       "[3236]  0.000000e+00  0.000000e+00  0.000000e+00  0.000000e+00  0.000000e+00\n",
       "[3241]  0.000000e+00  0.000000e+00  0.000000e+00  0.000000e+00  0.000000e+00\n",
       "[3246]  0.000000e+00  0.000000e+00  0.000000e+00  0.000000e+00  0.000000e+00\n",
       "[3251]  0.000000e+00  0.000000e+00  0.000000e+00  0.000000e+00  0.000000e+00\n",
       "[3256]  0.000000e+00  0.000000e+00  0.000000e+00  0.000000e+00  0.000000e+00\n",
       "[3261]  0.000000e+00  0.000000e+00  0.000000e+00  0.000000e+00  0.000000e+00\n",
       "[3266]  0.000000e+00  0.000000e+00  0.000000e+00  0.000000e+00  0.000000e+00\n",
       "[3271]  0.000000e+00  0.000000e+00  0.000000e+00  0.000000e+00  0.000000e+00\n",
       "[3276]  0.000000e+00  0.000000e+00  0.000000e+00  0.000000e+00  0.000000e+00\n",
       "[3281]  0.000000e+00  0.000000e+00  0.000000e+00  0.000000e+00  0.000000e+00\n",
       "[3286]  0.000000e+00  0.000000e+00  0.000000e+00  0.000000e+00  0.000000e+00\n",
       "[3291]  0.000000e+00  0.000000e+00  0.000000e+00  0.000000e+00  0.000000e+00\n",
       "[3296]  0.000000e+00  0.000000e+00  0.000000e+00  0.000000e+00  0.000000e+00\n",
       "[3301]  0.000000e+00  0.000000e+00  0.000000e+00  0.000000e+00  0.000000e+00\n",
       "[3306]  0.000000e+00  0.000000e+00  0.000000e+00  0.000000e+00  0.000000e+00\n",
       "[3311]  0.000000e+00  0.000000e+00  0.000000e+00  0.000000e+00  0.000000e+00\n",
       "[3316]  0.000000e+00  0.000000e+00  0.000000e+00  0.000000e+00  0.000000e+00\n",
       "[3321]  0.000000e+00  0.000000e+00  0.000000e+00  0.000000e+00  0.000000e+00\n",
       "[3326]  0.000000e+00  0.000000e+00  0.000000e+00  0.000000e+00  0.000000e+00\n",
       "[3331]  0.000000e+00  0.000000e+00  0.000000e+00  0.000000e+00  0.000000e+00\n",
       "[3336]  0.000000e+00  0.000000e+00  0.000000e+00  0.000000e+00  0.000000e+00\n",
       "[3341]  0.000000e+00  0.000000e+00  0.000000e+00  0.000000e+00  0.000000e+00\n",
       "[3346]  0.000000e+00  0.000000e+00  0.000000e+00  0.000000e+00  0.000000e+00\n",
       "[3351]  0.000000e+00  0.000000e+00  0.000000e+00  0.000000e+00  0.000000e+00\n",
       "[3356]  0.000000e+00  0.000000e+00  0.000000e+00  0.000000e+00  0.000000e+00\n",
       "[3361]  0.000000e+00  0.000000e+00  0.000000e+00  0.000000e+00  0.000000e+00\n",
       "[3366]  0.000000e+00  0.000000e+00  0.000000e+00  0.000000e+00  0.000000e+00\n",
       "[3371]  0.000000e+00  0.000000e+00  0.000000e+00  0.000000e+00  0.000000e+00\n",
       "[3376]  0.000000e+00  0.000000e+00  0.000000e+00  0.000000e+00  0.000000e+00\n",
       "[3381]  0.000000e+00  0.000000e+00  0.000000e+00  0.000000e+00  0.000000e+00\n",
       "[3386]  0.000000e+00  0.000000e+00  0.000000e+00  0.000000e+00  0.000000e+00\n",
       "[3391]  0.000000e+00  0.000000e+00  0.000000e+00  0.000000e+00  0.000000e+00\n",
       "[3396]  0.000000e+00  0.000000e+00  0.000000e+00  0.000000e+00  0.000000e+00\n",
       "[3401]  0.000000e+00  0.000000e+00  0.000000e+00  0.000000e+00  0.000000e+00\n",
       "[3406]  0.000000e+00  0.000000e+00  0.000000e+00  0.000000e+00  0.000000e+00\n",
       "[3411]  0.000000e+00  0.000000e+00  0.000000e+00  0.000000e+00  0.000000e+00\n",
       "[3416]  0.000000e+00  0.000000e+00  0.000000e+00  0.000000e+00  0.000000e+00\n",
       "[3421]  0.000000e+00  0.000000e+00  0.000000e+00  0.000000e+00  0.000000e+00\n",
       "[3426]  0.000000e+00  0.000000e+00  0.000000e+00  0.000000e+00  0.000000e+00\n",
       "[3431]  0.000000e+00  0.000000e+00  0.000000e+00  0.000000e+00  0.000000e+00\n",
       "[3436]  0.000000e+00  0.000000e+00  0.000000e+00  0.000000e+00  0.000000e+00\n",
       "[3441]  0.000000e+00  0.000000e+00  0.000000e+00  0.000000e+00  0.000000e+00\n",
       "[3446]  0.000000e+00  0.000000e+00  0.000000e+00  0.000000e+00  0.000000e+00\n",
       "[3451]  0.000000e+00  0.000000e+00  0.000000e+00  0.000000e+00  0.000000e+00\n",
       "[3456]  0.000000e+00  0.000000e+00  0.000000e+00  0.000000e+00  0.000000e+00\n",
       "[3461]  0.000000e+00  0.000000e+00  0.000000e+00  0.000000e+00  0.000000e+00\n",
       "[3466]  0.000000e+00  0.000000e+00  0.000000e+00  0.000000e+00  0.000000e+00\n",
       "[3471]  0.000000e+00  0.000000e+00  0.000000e+00  0.000000e+00  0.000000e+00\n",
       "[3476]  0.000000e+00  0.000000e+00  0.000000e+00  0.000000e+00  0.000000e+00\n",
       "[3481]  0.000000e+00  0.000000e+00  0.000000e+00  0.000000e+00  0.000000e+00\n",
       "[3486]  0.000000e+00  0.000000e+00  0.000000e+00  0.000000e+00  0.000000e+00\n",
       "[3491]  0.000000e+00  0.000000e+00  0.000000e+00  0.000000e+00  0.000000e+00\n",
       "[3496]  0.000000e+00  0.000000e+00  0.000000e+00  0.000000e+00  0.000000e+00\n",
       "[3501]  0.000000e+00  0.000000e+00  0.000000e+00  0.000000e+00  0.000000e+00\n",
       "[3506]  0.000000e+00  0.000000e+00  0.000000e+00  0.000000e+00  0.000000e+00\n",
       "[3511]  0.000000e+00  0.000000e+00  0.000000e+00  0.000000e+00  0.000000e+00\n",
       "[3516]  0.000000e+00  0.000000e+00  0.000000e+00  0.000000e+00  0.000000e+00\n",
       "[3521]  0.000000e+00  0.000000e+00  0.000000e+00  0.000000e+00  0.000000e+00\n",
       "[3526]  0.000000e+00  0.000000e+00  0.000000e+00  0.000000e+00  0.000000e+00\n",
       "[3531]  0.000000e+00  0.000000e+00  0.000000e+00  0.000000e+00  0.000000e+00\n",
       "[3536]  0.000000e+00  0.000000e+00  0.000000e+00  0.000000e+00  0.000000e+00\n",
       "[3541]  0.000000e+00  0.000000e+00  0.000000e+00  0.000000e+00  0.000000e+00\n",
       "[3546]  0.000000e+00  0.000000e+00  0.000000e+00  0.000000e+00  0.000000e+00\n",
       "[3551]  0.000000e+00  0.000000e+00  0.000000e+00  0.000000e+00  0.000000e+00\n",
       "[3556]  0.000000e+00  0.000000e+00  0.000000e+00  0.000000e+00  0.000000e+00\n",
       "[3561]  0.000000e+00  0.000000e+00  0.000000e+00  0.000000e+00  0.000000e+00\n",
       "[3566]  0.000000e+00  0.000000e+00  0.000000e+00  0.000000e+00  0.000000e+00\n",
       "[3571]  0.000000e+00  0.000000e+00  0.000000e+00  0.000000e+00  0.000000e+00\n",
       "[3576]  0.000000e+00  0.000000e+00  0.000000e+00  0.000000e+00  0.000000e+00\n",
       "[3581]  0.000000e+00  0.000000e+00  0.000000e+00  0.000000e+00  0.000000e+00\n",
       "[3586]  0.000000e+00  0.000000e+00  0.000000e+00  0.000000e+00  0.000000e+00\n",
       "[3591]  0.000000e+00  0.000000e+00  0.000000e+00  0.000000e+00  0.000000e+00\n",
       "[3596]  0.000000e+00  0.000000e+00  0.000000e+00  0.000000e+00  0.000000e+00\n",
       "[3601]  0.000000e+00  0.000000e+00  0.000000e+00  0.000000e+00  0.000000e+00\n",
       "[3606]  0.000000e+00  0.000000e+00  0.000000e+00  0.000000e+00  0.000000e+00\n",
       "[3611]  0.000000e+00  0.000000e+00  0.000000e+00  0.000000e+00  0.000000e+00\n",
       "[3616]  0.000000e+00  0.000000e+00  0.000000e+00  0.000000e+00  0.000000e+00\n",
       "[3621]  0.000000e+00  0.000000e+00  0.000000e+00  0.000000e+00  0.000000e+00\n",
       "[3626]  0.000000e+00  0.000000e+00  0.000000e+00  0.000000e+00  0.000000e+00\n",
       "[3631]  0.000000e+00  0.000000e+00  0.000000e+00  0.000000e+00  0.000000e+00\n",
       "[3636]  0.000000e+00  0.000000e+00  0.000000e+00  0.000000e+00  0.000000e+00\n",
       "[3641]  0.000000e+00  0.000000e+00  0.000000e+00  0.000000e+00  0.000000e+00\n",
       "[3646]  0.000000e+00  0.000000e+00  0.000000e+00  0.000000e+00  0.000000e+00\n",
       "[3651]  0.000000e+00  0.000000e+00  0.000000e+00  0.000000e+00  0.000000e+00\n",
       "[3656]  0.000000e+00  0.000000e+00  0.000000e+00  0.000000e+00  0.000000e+00\n",
       "[3661]  0.000000e+00  0.000000e+00  0.000000e+00  0.000000e+00  0.000000e+00\n",
       "[3666]  0.000000e+00  0.000000e+00  0.000000e+00  0.000000e+00  0.000000e+00\n",
       "[3671]  0.000000e+00  0.000000e+00  0.000000e+00  0.000000e+00  0.000000e+00\n",
       "[3676]  0.000000e+00  0.000000e+00  0.000000e+00  0.000000e+00  0.000000e+00\n",
       "[3681]  0.000000e+00  0.000000e+00  0.000000e+00  0.000000e+00  0.000000e+00\n",
       "[3686]  0.000000e+00  0.000000e+00  0.000000e+00  0.000000e+00  0.000000e+00\n",
       "[3691]  0.000000e+00  0.000000e+00  0.000000e+00  0.000000e+00  0.000000e+00\n",
       "[3696]  0.000000e+00  0.000000e+00  0.000000e+00  0.000000e+00  0.000000e+00\n",
       "[3701]  0.000000e+00  0.000000e+00  0.000000e+00  0.000000e+00  0.000000e+00\n",
       "[3706]  0.000000e+00  0.000000e+00  0.000000e+00  0.000000e+00  0.000000e+00\n",
       "[3711]  0.000000e+00  0.000000e+00  0.000000e+00  0.000000e+00  0.000000e+00\n",
       "[3716]  0.000000e+00  0.000000e+00  0.000000e+00  0.000000e+00  0.000000e+00\n",
       "[3721]  0.000000e+00  0.000000e+00  0.000000e+00  0.000000e+00  0.000000e+00\n",
       "[3726]  0.000000e+00  0.000000e+00  0.000000e+00  0.000000e+00  0.000000e+00\n",
       "[3731]  0.000000e+00  0.000000e+00  0.000000e+00  0.000000e+00  0.000000e+00\n",
       "[3736]  0.000000e+00  0.000000e+00  0.000000e+00  0.000000e+00  0.000000e+00\n",
       "[3741]  0.000000e+00  0.000000e+00  0.000000e+00  0.000000e+00  0.000000e+00\n",
       "[3746]  0.000000e+00  0.000000e+00  0.000000e+00  0.000000e+00  0.000000e+00\n",
       "[3751]  0.000000e+00  0.000000e+00  0.000000e+00  0.000000e+00  0.000000e+00\n",
       "[3756]  0.000000e+00  0.000000e+00  0.000000e+00  0.000000e+00  0.000000e+00\n",
       "[3761]  0.000000e+00  0.000000e+00  0.000000e+00  0.000000e+00  0.000000e+00\n",
       "[3766]  0.000000e+00  0.000000e+00  0.000000e+00  0.000000e+00  0.000000e+00\n",
       "[3771]  0.000000e+00  0.000000e+00  0.000000e+00  0.000000e+00  0.000000e+00\n",
       "[3776]  0.000000e+00  0.000000e+00  0.000000e+00  0.000000e+00  0.000000e+00\n",
       "[3781]  0.000000e+00  0.000000e+00  0.000000e+00  0.000000e+00  0.000000e+00\n",
       "[3786]  0.000000e+00  0.000000e+00  0.000000e+00  0.000000e+00  0.000000e+00\n",
       "[3791]  0.000000e+00  0.000000e+00  0.000000e+00  0.000000e+00  0.000000e+00\n",
       "[3796]  0.000000e+00  0.000000e+00  0.000000e+00  0.000000e+00  0.000000e+00\n",
       "[3801]  0.000000e+00  0.000000e+00  0.000000e+00  0.000000e+00  0.000000e+00\n",
       "[3806]  0.000000e+00  0.000000e+00  0.000000e+00  0.000000e+00  0.000000e+00\n",
       "[3811]  0.000000e+00  0.000000e+00  0.000000e+00  0.000000e+00  0.000000e+00\n",
       "[3816]  0.000000e+00  0.000000e+00  0.000000e+00  0.000000e+00  0.000000e+00\n",
       "[3821]  0.000000e+00  0.000000e+00  0.000000e+00  0.000000e+00  0.000000e+00\n",
       "[3826]  0.000000e+00  0.000000e+00  0.000000e+00  0.000000e+00  0.000000e+00\n",
       "[3831]  0.000000e+00  0.000000e+00  0.000000e+00  0.000000e+00  0.000000e+00\n",
       "[3836]  0.000000e+00  0.000000e+00  0.000000e+00  0.000000e+00  0.000000e+00\n",
       "[3841]  0.000000e+00  0.000000e+00  0.000000e+00  0.000000e+00  0.000000e+00\n",
       "[3846]  0.000000e+00  0.000000e+00  0.000000e+00  0.000000e+00  0.000000e+00\n",
       "[3851]  0.000000e+00  0.000000e+00  0.000000e+00  0.000000e+00  0.000000e+00\n",
       "[3856]  0.000000e+00  0.000000e+00  0.000000e+00  0.000000e+00  0.000000e+00\n",
       "[3861]  0.000000e+00  0.000000e+00  0.000000e+00  0.000000e+00  0.000000e+00\n",
       "[3866]  0.000000e+00  0.000000e+00  0.000000e+00  0.000000e+00  0.000000e+00\n",
       "[3871]  0.000000e+00  0.000000e+00  0.000000e+00  0.000000e+00  0.000000e+00\n",
       "[3876]  0.000000e+00  0.000000e+00  0.000000e+00  0.000000e+00  0.000000e+00\n",
       "[3881]  0.000000e+00  0.000000e+00  0.000000e+00  0.000000e+00  0.000000e+00\n",
       "[3886]  0.000000e+00  0.000000e+00  0.000000e+00  0.000000e+00  0.000000e+00\n",
       "[3891]  0.000000e+00  0.000000e+00  0.000000e+00  0.000000e+00  0.000000e+00\n",
       "[3896]  0.000000e+00  0.000000e+00  0.000000e+00  0.000000e+00  0.000000e+00\n",
       "[3901]  0.000000e+00  0.000000e+00  0.000000e+00  0.000000e+00  0.000000e+00\n",
       "[3906]  0.000000e+00  0.000000e+00  0.000000e+00  0.000000e+00  0.000000e+00\n",
       "[3911]  0.000000e+00  0.000000e+00  0.000000e+00  0.000000e+00  0.000000e+00\n",
       "[3916]  0.000000e+00  0.000000e+00  0.000000e+00  0.000000e+00  0.000000e+00\n",
       "[3921]  0.000000e+00  0.000000e+00  0.000000e+00  0.000000e+00  0.000000e+00\n",
       "[3926]  0.000000e+00  0.000000e+00  0.000000e+00  0.000000e+00  0.000000e+00\n",
       "[3931]  0.000000e+00  0.000000e+00  0.000000e+00  0.000000e+00  0.000000e+00\n",
       "[3936]  0.000000e+00  0.000000e+00  0.000000e+00  0.000000e+00  0.000000e+00\n",
       "[3941]  0.000000e+00  0.000000e+00  0.000000e+00  0.000000e+00  0.000000e+00\n",
       "[3946]  0.000000e+00  0.000000e+00  0.000000e+00  0.000000e+00  0.000000e+00\n",
       "[3951]  0.000000e+00  0.000000e+00  0.000000e+00  0.000000e+00  0.000000e+00\n",
       "[3956]  0.000000e+00  0.000000e+00  0.000000e+00  0.000000e+00  0.000000e+00\n",
       "[3961]  0.000000e+00  0.000000e+00  0.000000e+00  0.000000e+00  0.000000e+00\n",
       "[3966]  0.000000e+00  0.000000e+00  0.000000e+00  0.000000e+00  0.000000e+00\n",
       "[3971]  0.000000e+00  0.000000e+00  0.000000e+00  0.000000e+00  0.000000e+00\n",
       "[3976]  0.000000e+00  0.000000e+00  0.000000e+00  0.000000e+00  0.000000e+00\n",
       "[3981]  0.000000e+00  0.000000e+00  0.000000e+00  0.000000e+00  0.000000e+00\n",
       "[3986]  0.000000e+00  0.000000e+00  0.000000e+00  0.000000e+00  0.000000e+00\n",
       "[3991]  0.000000e+00  0.000000e+00  0.000000e+00  0.000000e+00  0.000000e+00\n",
       "[3996]  0.000000e+00  0.000000e+00  0.000000e+00  0.000000e+00  0.000000e+00\n",
       "[4001]  0.000000e+00  0.000000e+00  0.000000e+00  0.000000e+00  0.000000e+00\n",
       "[4006]  0.000000e+00  0.000000e+00  0.000000e+00  0.000000e+00  0.000000e+00\n",
       "[4011]  0.000000e+00  0.000000e+00  0.000000e+00  0.000000e+00  0.000000e+00\n",
       "[4016]  0.000000e+00  0.000000e+00  0.000000e+00  0.000000e+00  0.000000e+00\n",
       "[4021]  0.000000e+00  0.000000e+00  0.000000e+00  0.000000e+00  0.000000e+00\n",
       "[4026]  0.000000e+00  0.000000e+00  0.000000e+00  0.000000e+00  0.000000e+00\n",
       "[4031]  0.000000e+00  0.000000e+00  0.000000e+00  0.000000e+00  0.000000e+00\n",
       "[4036]  0.000000e+00  0.000000e+00  0.000000e+00  0.000000e+00  0.000000e+00\n",
       "[4041]  0.000000e+00  0.000000e+00  0.000000e+00  0.000000e+00  0.000000e+00\n",
       "[4046]  0.000000e+00  0.000000e+00  0.000000e+00  0.000000e+00  0.000000e+00\n",
       "[4051]  0.000000e+00  0.000000e+00  0.000000e+00  0.000000e+00  0.000000e+00\n",
       "[4056]  0.000000e+00  0.000000e+00  0.000000e+00  0.000000e+00  0.000000e+00\n",
       "[4061]  0.000000e+00  0.000000e+00  0.000000e+00  0.000000e+00  0.000000e+00\n",
       "[4066]  0.000000e+00  0.000000e+00  0.000000e+00  0.000000e+00  0.000000e+00\n",
       "[4071]  0.000000e+00  0.000000e+00  0.000000e+00  0.000000e+00  0.000000e+00\n",
       "[4076]  0.000000e+00  0.000000e+00  0.000000e+00  0.000000e+00  0.000000e+00\n",
       "[4081]  0.000000e+00  0.000000e+00  0.000000e+00  0.000000e+00  0.000000e+00\n",
       "[4086]  0.000000e+00  0.000000e+00  0.000000e+00  0.000000e+00  0.000000e+00\n",
       "[4091]  0.000000e+00  0.000000e+00  0.000000e+00  0.000000e+00  0.000000e+00\n",
       "[4096]  0.000000e+00  0.000000e+00  0.000000e+00  0.000000e+00  0.000000e+00\n",
       "[4101]  0.000000e+00  0.000000e+00  0.000000e+00  0.000000e+00  0.000000e+00\n",
       "[4106]  0.000000e+00  0.000000e+00  0.000000e+00  0.000000e+00  0.000000e+00\n",
       "[4111]  0.000000e+00  0.000000e+00  0.000000e+00  0.000000e+00  0.000000e+00\n",
       "[4116]  0.000000e+00  0.000000e+00  0.000000e+00  0.000000e+00  0.000000e+00\n",
       "[4121]  0.000000e+00  0.000000e+00  0.000000e+00  0.000000e+00  0.000000e+00\n",
       "[4126]  0.000000e+00  0.000000e+00  0.000000e+00  0.000000e+00  0.000000e+00\n",
       "[4131]  0.000000e+00  0.000000e+00  0.000000e+00  0.000000e+00  0.000000e+00\n",
       "[4136]  0.000000e+00  0.000000e+00  0.000000e+00  0.000000e+00  0.000000e+00\n",
       "[4141]  0.000000e+00  0.000000e+00  0.000000e+00  0.000000e+00  0.000000e+00\n",
       "[4146]  0.000000e+00  0.000000e+00  0.000000e+00  0.000000e+00  0.000000e+00\n",
       "[4151]  0.000000e+00  0.000000e+00  0.000000e+00  0.000000e+00  0.000000e+00\n",
       "[4156]  0.000000e+00  0.000000e+00  0.000000e+00  0.000000e+00  0.000000e+00\n",
       "[4161]  0.000000e+00  0.000000e+00  0.000000e+00  0.000000e+00  0.000000e+00\n",
       "[4166]  0.000000e+00  0.000000e+00  0.000000e+00  0.000000e+00  0.000000e+00\n",
       "[4171]  0.000000e+00  0.000000e+00  0.000000e+00  0.000000e+00  0.000000e+00\n",
       "[4176]  0.000000e+00  0.000000e+00  0.000000e+00  0.000000e+00  0.000000e+00\n",
       "[4181]  0.000000e+00  0.000000e+00  0.000000e+00  0.000000e+00  0.000000e+00\n",
       "[4186]  0.000000e+00  0.000000e+00  0.000000e+00  0.000000e+00  0.000000e+00\n",
       "[4191]  0.000000e+00  0.000000e+00  0.000000e+00  0.000000e+00  0.000000e+00\n",
       "[4196]  0.000000e+00  0.000000e+00  0.000000e+00  0.000000e+00  0.000000e+00\n",
       "[4201]  0.000000e+00  0.000000e+00  0.000000e+00  0.000000e+00  0.000000e+00\n",
       "[4206]  0.000000e+00  0.000000e+00  0.000000e+00  0.000000e+00  0.000000e+00\n",
       "[4211]  0.000000e+00  0.000000e+00  0.000000e+00  0.000000e+00  0.000000e+00\n",
       "[4216]  0.000000e+00  0.000000e+00  0.000000e+00  0.000000e+00  0.000000e+00\n",
       "[4221]  0.000000e+00  0.000000e+00  0.000000e+00  0.000000e+00  0.000000e+00\n",
       "[4226]  0.000000e+00  0.000000e+00  0.000000e+00  0.000000e+00  0.000000e+00\n",
       "[4231]  0.000000e+00  0.000000e+00  0.000000e+00  0.000000e+00  0.000000e+00\n",
       "[4236]  0.000000e+00  0.000000e+00  0.000000e+00  0.000000e+00  0.000000e+00\n",
       "[4241]  0.000000e+00  0.000000e+00  0.000000e+00  0.000000e+00  0.000000e+00\n",
       "[4246]  0.000000e+00  0.000000e+00  0.000000e+00  0.000000e+00  0.000000e+00\n",
       "[4251]  0.000000e+00  0.000000e+00  0.000000e+00  0.000000e+00  0.000000e+00\n",
       "[4256]  0.000000e+00  0.000000e+00  0.000000e+00  0.000000e+00  0.000000e+00\n",
       "[4261]  0.000000e+00  0.000000e+00  0.000000e+00  0.000000e+00  0.000000e+00\n",
       "[4266]  0.000000e+00  0.000000e+00  0.000000e+00  0.000000e+00  0.000000e+00\n",
       "[4271]  0.000000e+00  0.000000e+00  0.000000e+00  0.000000e+00  0.000000e+00\n",
       "[4276]  0.000000e+00  0.000000e+00  0.000000e+00  0.000000e+00  0.000000e+00\n",
       "[4281]  0.000000e+00  0.000000e+00  0.000000e+00  0.000000e+00  0.000000e+00\n",
       "[4286]  0.000000e+00  0.000000e+00  0.000000e+00  0.000000e+00  0.000000e+00\n",
       "[4291]  0.000000e+00  0.000000e+00  0.000000e+00  0.000000e+00  0.000000e+00\n",
       "[4296]  0.000000e+00  0.000000e+00  0.000000e+00  0.000000e+00  0.000000e+00\n",
       "[4301]  0.000000e+00  0.000000e+00  0.000000e+00  0.000000e+00  0.000000e+00\n",
       "[4306]  0.000000e+00  0.000000e+00  0.000000e+00  0.000000e+00  0.000000e+00\n",
       "[4311]  0.000000e+00  0.000000e+00  0.000000e+00  0.000000e+00  0.000000e+00\n",
       "[4316]  0.000000e+00  0.000000e+00  0.000000e+00  0.000000e+00  0.000000e+00\n",
       "[4321]  0.000000e+00  0.000000e+00  0.000000e+00  0.000000e+00  0.000000e+00\n",
       "[4326]  0.000000e+00  0.000000e+00  0.000000e+00  0.000000e+00  0.000000e+00\n",
       "[4331]  0.000000e+00  0.000000e+00  0.000000e+00  0.000000e+00  0.000000e+00\n",
       "[4336]  0.000000e+00  0.000000e+00  0.000000e+00  0.000000e+00  0.000000e+00\n",
       "[4341]  0.000000e+00  0.000000e+00  0.000000e+00  0.000000e+00  0.000000e+00\n",
       "[4346]  0.000000e+00  0.000000e+00  0.000000e+00  0.000000e+00  0.000000e+00\n",
       "[4351]  0.000000e+00  0.000000e+00  0.000000e+00  0.000000e+00  0.000000e+00\n",
       "[4356]  0.000000e+00  0.000000e+00  0.000000e+00  0.000000e+00  0.000000e+00\n",
       "[4361]  0.000000e+00  0.000000e+00  0.000000e+00  0.000000e+00  0.000000e+00\n",
       "[4366]  0.000000e+00  0.000000e+00  0.000000e+00  0.000000e+00  0.000000e+00\n",
       "[4371]  0.000000e+00  0.000000e+00  0.000000e+00  0.000000e+00  0.000000e+00\n",
       "[4376]  0.000000e+00  0.000000e+00  0.000000e+00  0.000000e+00  0.000000e+00\n",
       "[4381]  0.000000e+00  0.000000e+00  0.000000e+00  0.000000e+00  0.000000e+00\n",
       "[4386]  0.000000e+00  0.000000e+00  0.000000e+00  0.000000e+00  0.000000e+00\n",
       "[4391]  0.000000e+00  0.000000e+00  0.000000e+00  0.000000e+00  0.000000e+00\n",
       "[4396]  0.000000e+00  0.000000e+00  0.000000e+00  0.000000e+00  0.000000e+00\n",
       "[4401]  0.000000e+00  0.000000e+00  0.000000e+00  0.000000e+00  0.000000e+00\n",
       "[4406]  0.000000e+00  0.000000e+00  0.000000e+00  0.000000e+00  0.000000e+00\n",
       "[4411]  0.000000e+00  0.000000e+00  0.000000e+00  0.000000e+00  0.000000e+00\n",
       "[4416]  0.000000e+00  0.000000e+00  0.000000e+00  0.000000e+00  0.000000e+00\n",
       "[4421]  0.000000e+00  0.000000e+00  0.000000e+00  0.000000e+00  0.000000e+00\n",
       "[4426]  0.000000e+00  0.000000e+00  0.000000e+00  0.000000e+00  0.000000e+00\n",
       "[4431]  0.000000e+00  0.000000e+00  0.000000e+00  0.000000e+00  0.000000e+00\n",
       "[4436]  0.000000e+00  0.000000e+00  0.000000e+00  0.000000e+00  0.000000e+00\n",
       "[4441]  0.000000e+00  0.000000e+00  0.000000e+00  0.000000e+00  0.000000e+00\n",
       "[4446]  0.000000e+00  0.000000e+00  0.000000e+00  0.000000e+00  0.000000e+00\n",
       "[4451]  0.000000e+00  0.000000e+00  0.000000e+00  0.000000e+00  0.000000e+00\n",
       "[4456]  0.000000e+00  0.000000e+00  0.000000e+00  0.000000e+00  0.000000e+00\n",
       "[4461]  0.000000e+00  0.000000e+00  0.000000e+00  0.000000e+00  0.000000e+00\n",
       "[4466]  0.000000e+00  0.000000e+00  0.000000e+00  0.000000e+00  0.000000e+00\n",
       "[4471]  0.000000e+00  0.000000e+00  0.000000e+00  0.000000e+00  0.000000e+00\n",
       "[4476]  0.000000e+00  0.000000e+00  0.000000e+00  0.000000e+00  0.000000e+00\n",
       "[4481]  0.000000e+00  0.000000e+00  0.000000e+00  0.000000e+00  0.000000e+00\n",
       "[4486]  0.000000e+00  0.000000e+00  0.000000e+00  0.000000e+00  0.000000e+00\n",
       "[4491]  0.000000e+00  0.000000e+00  0.000000e+00  0.000000e+00  0.000000e+00\n",
       "[4496]  0.000000e+00  0.000000e+00  0.000000e+00  0.000000e+00  0.000000e+00\n",
       "[4501]  0.000000e+00  0.000000e+00  0.000000e+00  0.000000e+00  0.000000e+00\n",
       "[4506]  0.000000e+00  0.000000e+00  0.000000e+00  0.000000e+00  0.000000e+00\n",
       "[4511]  0.000000e+00  0.000000e+00  0.000000e+00  0.000000e+00  0.000000e+00\n",
       "[4516]  0.000000e+00  0.000000e+00  0.000000e+00  0.000000e+00  0.000000e+00\n",
       "[4521]  0.000000e+00  0.000000e+00  0.000000e+00  0.000000e+00  0.000000e+00\n",
       "[4526]  0.000000e+00  0.000000e+00  0.000000e+00  0.000000e+00  0.000000e+00\n",
       "[4531]  0.000000e+00  0.000000e+00  0.000000e+00  0.000000e+00  0.000000e+00\n",
       "[4536]  0.000000e+00  0.000000e+00  0.000000e+00  0.000000e+00  0.000000e+00\n",
       "[4541]  0.000000e+00  0.000000e+00  0.000000e+00  0.000000e+00  0.000000e+00\n",
       "[4546]  0.000000e+00  0.000000e+00  0.000000e+00  0.000000e+00  0.000000e+00\n",
       "[4551]  0.000000e+00  0.000000e+00  0.000000e+00  0.000000e+00  0.000000e+00\n",
       "[4556]  0.000000e+00  0.000000e+00  0.000000e+00  0.000000e+00  0.000000e+00\n",
       "[4561]  0.000000e+00  0.000000e+00  0.000000e+00  0.000000e+00  0.000000e+00\n",
       "[4566]  0.000000e+00  0.000000e+00  0.000000e+00  0.000000e+00  0.000000e+00\n",
       "[4571]  0.000000e+00  0.000000e+00  0.000000e+00  0.000000e+00  0.000000e+00\n",
       "[4576]  0.000000e+00  0.000000e+00  0.000000e+00  0.000000e+00  0.000000e+00\n",
       "[4581]  0.000000e+00  0.000000e+00  0.000000e+00  0.000000e+00  0.000000e+00\n",
       "[4586]  0.000000e+00  0.000000e+00  0.000000e+00  0.000000e+00  0.000000e+00\n",
       "[4591]  0.000000e+00  0.000000e+00  0.000000e+00  0.000000e+00  0.000000e+00\n",
       "[4596]  0.000000e+00  0.000000e+00  0.000000e+00  0.000000e+00  0.000000e+00\n",
       "[4601]  0.000000e+00  0.000000e+00  0.000000e+00  0.000000e+00  0.000000e+00\n",
       "[4606]  0.000000e+00  0.000000e+00  0.000000e+00  0.000000e+00  0.000000e+00\n",
       "[4611]  0.000000e+00  0.000000e+00  0.000000e+00  0.000000e+00  0.000000e+00\n",
       "[4616]  0.000000e+00  0.000000e+00  0.000000e+00  0.000000e+00  0.000000e+00\n",
       "[4621]  0.000000e+00  0.000000e+00  0.000000e+00  0.000000e+00  0.000000e+00\n",
       "[4626]  0.000000e+00  0.000000e+00  0.000000e+00  0.000000e+00  0.000000e+00\n",
       "[4631]  0.000000e+00  0.000000e+00  0.000000e+00  0.000000e+00  0.000000e+00\n",
       "[4636]  0.000000e+00  0.000000e+00  0.000000e+00  0.000000e+00  0.000000e+00\n",
       "[4641]  0.000000e+00  0.000000e+00  0.000000e+00  0.000000e+00  0.000000e+00\n",
       "[4646]  0.000000e+00  0.000000e+00  0.000000e+00  0.000000e+00  0.000000e+00\n",
       "[4651]  0.000000e+00  0.000000e+00  0.000000e+00  0.000000e+00  0.000000e+00\n",
       "[4656]  0.000000e+00  0.000000e+00  0.000000e+00  0.000000e+00  0.000000e+00\n",
       "[4661]  0.000000e+00  0.000000e+00  0.000000e+00  0.000000e+00  0.000000e+00\n",
       "[4666]  0.000000e+00  0.000000e+00  0.000000e+00  0.000000e+00  0.000000e+00\n",
       "[4671]  0.000000e+00  0.000000e+00  0.000000e+00  0.000000e+00  0.000000e+00\n",
       "[4676]  0.000000e+00  0.000000e+00  0.000000e+00  0.000000e+00  0.000000e+00\n",
       "[4681]  0.000000e+00  0.000000e+00  0.000000e+00  0.000000e+00  0.000000e+00\n",
       "[4686]  0.000000e+00  0.000000e+00  0.000000e+00  0.000000e+00  0.000000e+00\n",
       "[4691]  0.000000e+00  0.000000e+00  0.000000e+00  0.000000e+00  0.000000e+00\n",
       "[4696]  0.000000e+00  0.000000e+00  0.000000e+00  0.000000e+00  0.000000e+00\n",
       "[4701]  0.000000e+00  0.000000e+00  0.000000e+00  0.000000e+00  0.000000e+00\n",
       "[4706]  0.000000e+00  0.000000e+00  0.000000e+00  0.000000e+00  0.000000e+00\n",
       "[4711]  0.000000e+00  0.000000e+00  0.000000e+00  0.000000e+00  0.000000e+00\n",
       "[4716]  0.000000e+00  0.000000e+00  0.000000e+00  0.000000e+00  0.000000e+00\n",
       "[4721]  0.000000e+00  0.000000e+00  0.000000e+00  0.000000e+00  0.000000e+00\n",
       "[4726]  0.000000e+00  0.000000e+00  0.000000e+00  0.000000e+00  0.000000e+00\n",
       "[4731]  0.000000e+00  0.000000e+00  0.000000e+00  0.000000e+00  0.000000e+00\n",
       "[4736]  0.000000e+00  0.000000e+00  0.000000e+00  0.000000e+00  0.000000e+00\n",
       "[4741]  0.000000e+00  0.000000e+00  0.000000e+00  0.000000e+00  0.000000e+00\n",
       "[4746]  0.000000e+00  0.000000e+00  0.000000e+00  0.000000e+00  0.000000e+00\n",
       "[4751]  0.000000e+00  0.000000e+00  0.000000e+00  0.000000e+00  0.000000e+00\n",
       "[4756]  0.000000e+00  0.000000e+00  0.000000e+00  0.000000e+00  0.000000e+00\n",
       "[4761]  0.000000e+00  0.000000e+00  0.000000e+00  0.000000e+00  0.000000e+00\n",
       "[4766]  0.000000e+00  0.000000e+00  0.000000e+00  0.000000e+00  0.000000e+00\n",
       "[4771]  0.000000e+00  0.000000e+00  0.000000e+00  0.000000e+00  0.000000e+00\n",
       "[4776]  0.000000e+00  0.000000e+00  0.000000e+00  0.000000e+00  0.000000e+00\n",
       "[4781]  0.000000e+00  0.000000e+00  0.000000e+00  0.000000e+00  0.000000e+00\n",
       "[4786]  0.000000e+00  0.000000e+00  0.000000e+00  0.000000e+00  0.000000e+00\n",
       "[4791]  0.000000e+00  0.000000e+00  0.000000e+00  0.000000e+00  0.000000e+00\n",
       "[4796]  0.000000e+00  0.000000e+00  0.000000e+00  0.000000e+00  0.000000e+00\n",
       "[4801]  0.000000e+00  0.000000e+00  0.000000e+00  0.000000e+00  0.000000e+00\n",
       "[4806]  0.000000e+00  0.000000e+00  0.000000e+00  0.000000e+00  0.000000e+00\n",
       "[4811]  0.000000e+00  0.000000e+00  0.000000e+00  0.000000e+00  0.000000e+00\n",
       "[4816]  0.000000e+00  0.000000e+00  0.000000e+00  0.000000e+00  0.000000e+00\n",
       "[4821]  0.000000e+00  0.000000e+00  0.000000e+00  0.000000e+00  0.000000e+00\n",
       "[4826]  0.000000e+00  0.000000e+00  0.000000e+00  0.000000e+00  0.000000e+00\n",
       "[4831]  0.000000e+00  0.000000e+00  0.000000e+00  0.000000e+00  0.000000e+00\n",
       "[4836]  0.000000e+00  0.000000e+00  0.000000e+00  0.000000e+00  0.000000e+00\n",
       "[4841]  0.000000e+00  0.000000e+00  0.000000e+00  0.000000e+00  0.000000e+00\n",
       "[4846]  0.000000e+00  0.000000e+00  0.000000e+00  0.000000e+00  0.000000e+00\n",
       "[4851]  0.000000e+00  0.000000e+00  0.000000e+00  0.000000e+00  0.000000e+00\n",
       "[4856]  0.000000e+00  0.000000e+00  0.000000e+00  0.000000e+00  0.000000e+00\n",
       "[4861]  0.000000e+00  0.000000e+00  0.000000e+00  0.000000e+00  0.000000e+00\n",
       "[4866]  0.000000e+00  0.000000e+00  0.000000e+00  0.000000e+00  0.000000e+00\n",
       "[4871]  0.000000e+00  0.000000e+00  0.000000e+00  0.000000e+00  0.000000e+00\n",
       "[4876]  0.000000e+00  0.000000e+00  0.000000e+00  0.000000e+00  0.000000e+00\n",
       "[4881]  0.000000e+00  0.000000e+00  0.000000e+00  0.000000e+00  0.000000e+00\n",
       "[4886]  0.000000e+00  0.000000e+00  0.000000e+00  0.000000e+00  0.000000e+00\n",
       "[4891]  0.000000e+00  0.000000e+00  0.000000e+00  0.000000e+00  0.000000e+00\n",
       "[4896]  0.000000e+00  0.000000e+00  0.000000e+00  0.000000e+00  0.000000e+00\n",
       "[4901]  0.000000e+00  0.000000e+00  0.000000e+00  0.000000e+00  0.000000e+00\n",
       "[4906]  0.000000e+00  0.000000e+00  0.000000e+00  0.000000e+00  0.000000e+00\n",
       "[4911]  0.000000e+00  0.000000e+00  0.000000e+00  0.000000e+00  0.000000e+00\n",
       "[4916]  0.000000e+00  0.000000e+00  0.000000e+00  0.000000e+00  0.000000e+00\n",
       "[4921]  0.000000e+00  0.000000e+00  0.000000e+00  0.000000e+00  0.000000e+00\n",
       "[4926]  0.000000e+00  0.000000e+00  0.000000e+00  0.000000e+00  0.000000e+00\n",
       "[4931]  0.000000e+00  0.000000e+00  0.000000e+00  0.000000e+00  0.000000e+00\n",
       "[4936]  0.000000e+00  0.000000e+00  0.000000e+00  0.000000e+00  0.000000e+00\n",
       "[4941]  0.000000e+00  0.000000e+00  0.000000e+00  0.000000e+00  0.000000e+00\n",
       "[4946]  0.000000e+00  0.000000e+00  0.000000e+00  0.000000e+00  0.000000e+00\n",
       "[4951]  0.000000e+00  0.000000e+00  0.000000e+00  0.000000e+00  0.000000e+00\n",
       "[4956]  0.000000e+00  0.000000e+00  0.000000e+00  0.000000e+00  0.000000e+00\n",
       "[4961]  0.000000e+00  0.000000e+00  0.000000e+00  0.000000e+00  0.000000e+00\n",
       "[4966]  0.000000e+00  0.000000e+00  0.000000e+00  0.000000e+00  0.000000e+00\n",
       "[4971]  0.000000e+00  0.000000e+00  0.000000e+00  0.000000e+00  0.000000e+00\n",
       "[4976]  0.000000e+00  0.000000e+00  0.000000e+00  0.000000e+00  0.000000e+00\n",
       "[4981]  0.000000e+00  0.000000e+00  0.000000e+00  0.000000e+00  0.000000e+00\n",
       "[4986]  0.000000e+00  0.000000e+00  0.000000e+00  0.000000e+00  0.000000e+00\n",
       "[4991]  0.000000e+00  0.000000e+00  0.000000e+00  0.000000e+00  0.000000e+00\n",
       "[4996]  0.000000e+00  0.000000e+00  0.000000e+00  0.000000e+00  0.000000e+00\n",
       "[5001]  0.000000e+00  0.000000e+00  0.000000e+00  0.000000e+00  0.000000e+00\n",
       "[5006]  0.000000e+00  0.000000e+00  0.000000e+00  0.000000e+00  0.000000e+00\n",
       "[5011]  0.000000e+00  0.000000e+00  0.000000e+00  0.000000e+00  0.000000e+00\n",
       "[5016]  0.000000e+00  0.000000e+00  0.000000e+00  0.000000e+00  0.000000e+00\n",
       "[5021]  0.000000e+00  0.000000e+00  0.000000e+00  0.000000e+00  0.000000e+00\n",
       "[5026]  0.000000e+00  0.000000e+00  0.000000e+00  0.000000e+00  0.000000e+00\n",
       "[5031]  0.000000e+00  0.000000e+00  0.000000e+00  0.000000e+00  0.000000e+00\n",
       "[5036]  0.000000e+00  0.000000e+00  0.000000e+00  0.000000e+00  0.000000e+00\n",
       "[5041]  0.000000e+00  0.000000e+00  0.000000e+00  0.000000e+00  0.000000e+00\n",
       "[5046]  0.000000e+00  0.000000e+00  0.000000e+00  0.000000e+00  0.000000e+00\n",
       "[5051]  0.000000e+00  0.000000e+00  0.000000e+00  0.000000e+00  0.000000e+00\n",
       "[5056]  0.000000e+00  0.000000e+00  0.000000e+00  0.000000e+00  0.000000e+00\n",
       "[5061]  0.000000e+00  0.000000e+00  0.000000e+00  0.000000e+00  0.000000e+00\n",
       "[5066]  0.000000e+00  0.000000e+00  0.000000e+00  0.000000e+00  0.000000e+00\n",
       "[5071]  0.000000e+00  0.000000e+00  0.000000e+00  0.000000e+00  0.000000e+00\n",
       "[5076]  0.000000e+00  0.000000e+00  0.000000e+00  0.000000e+00  0.000000e+00\n",
       "[5081]  0.000000e+00  0.000000e+00  0.000000e+00  0.000000e+00  0.000000e+00\n",
       "[5086]  0.000000e+00  0.000000e+00  0.000000e+00  0.000000e+00  0.000000e+00\n",
       "[5091]  0.000000e+00  0.000000e+00  0.000000e+00  0.000000e+00  0.000000e+00\n",
       "[5096]  0.000000e+00  0.000000e+00  0.000000e+00  0.000000e+00  0.000000e+00\n",
       "[5101]  0.000000e+00  0.000000e+00  0.000000e+00  0.000000e+00  0.000000e+00\n",
       "[5106]  0.000000e+00  0.000000e+00  0.000000e+00  0.000000e+00  0.000000e+00\n",
       "[5111]  0.000000e+00  0.000000e+00  0.000000e+00  0.000000e+00  0.000000e+00\n",
       "[5116]  0.000000e+00  0.000000e+00  0.000000e+00  0.000000e+00  0.000000e+00\n",
       "[5121]  0.000000e+00  0.000000e+00  0.000000e+00  0.000000e+00  0.000000e+00\n",
       "[5126]  0.000000e+00  0.000000e+00  0.000000e+00  0.000000e+00  0.000000e+00\n",
       "[5131]  0.000000e+00  0.000000e+00  0.000000e+00  0.000000e+00  0.000000e+00\n",
       "[5136]  0.000000e+00  0.000000e+00  0.000000e+00  0.000000e+00  0.000000e+00\n",
       "[5141]  0.000000e+00  0.000000e+00  0.000000e+00  0.000000e+00  0.000000e+00\n",
       "[5146]  0.000000e+00  0.000000e+00  0.000000e+00  0.000000e+00  0.000000e+00\n",
       "[5151]  0.000000e+00  0.000000e+00  0.000000e+00  0.000000e+00  0.000000e+00\n",
       "[5156]  0.000000e+00  0.000000e+00  0.000000e+00  0.000000e+00  0.000000e+00\n",
       "[5161]  0.000000e+00  0.000000e+00  0.000000e+00  0.000000e+00  0.000000e+00\n",
       "[5166]  0.000000e+00  0.000000e+00  0.000000e+00  0.000000e+00  0.000000e+00\n",
       "[5171]  0.000000e+00  0.000000e+00  0.000000e+00  0.000000e+00  0.000000e+00\n",
       "[5176]  0.000000e+00  0.000000e+00  0.000000e+00  0.000000e+00  0.000000e+00\n",
       "[5181]  0.000000e+00  0.000000e+00  0.000000e+00  0.000000e+00  0.000000e+00\n",
       "[5186]  0.000000e+00  0.000000e+00  0.000000e+00  0.000000e+00  0.000000e+00\n",
       "[5191]  0.000000e+00  0.000000e+00  0.000000e+00  0.000000e+00  0.000000e+00\n",
       "[5196]  0.000000e+00  0.000000e+00  0.000000e+00  0.000000e+00  0.000000e+00\n",
       "[5201]  0.000000e+00  0.000000e+00  0.000000e+00  0.000000e+00  0.000000e+00\n",
       "[5206]  0.000000e+00  0.000000e+00  0.000000e+00  0.000000e+00  0.000000e+00\n",
       "[5211]  0.000000e+00  0.000000e+00  0.000000e+00  0.000000e+00  0.000000e+00\n",
       "[5216]  0.000000e+00  0.000000e+00  0.000000e+00  0.000000e+00  0.000000e+00\n",
       "[5221]  0.000000e+00  0.000000e+00  0.000000e+00  0.000000e+00  0.000000e+00\n",
       "[5226]  0.000000e+00  0.000000e+00  0.000000e+00  0.000000e+00  0.000000e+00\n",
       "[5231]  0.000000e+00  0.000000e+00  0.000000e+00  0.000000e+00  0.000000e+00\n",
       "[5236]  0.000000e+00  0.000000e+00  0.000000e+00  0.000000e+00  0.000000e+00\n",
       "[5241]  0.000000e+00  0.000000e+00  0.000000e+00  0.000000e+00  0.000000e+00\n",
       "[5246]  0.000000e+00  0.000000e+00  0.000000e+00  0.000000e+00  0.000000e+00\n",
       "[5251]  0.000000e+00  0.000000e+00  0.000000e+00  0.000000e+00  0.000000e+00\n",
       "[5256]  0.000000e+00  0.000000e+00  0.000000e+00  0.000000e+00  0.000000e+00\n",
       "[5261]  0.000000e+00  0.000000e+00  0.000000e+00  0.000000e+00  0.000000e+00\n",
       "[5266]  0.000000e+00  0.000000e+00  0.000000e+00  0.000000e+00  0.000000e+00\n",
       "[5271]  0.000000e+00  0.000000e+00  0.000000e+00  0.000000e+00  0.000000e+00\n",
       "[5276]  0.000000e+00  0.000000e+00  0.000000e+00  0.000000e+00  0.000000e+00\n",
       "[5281]  0.000000e+00  0.000000e+00  0.000000e+00  0.000000e+00  0.000000e+00\n",
       "[5286]  0.000000e+00  0.000000e+00  0.000000e+00  0.000000e+00  0.000000e+00\n",
       "[5291]  0.000000e+00  0.000000e+00  0.000000e+00  0.000000e+00  0.000000e+00\n",
       "[5296]  0.000000e+00  0.000000e+00  0.000000e+00  0.000000e+00  0.000000e+00\n",
       "[5301]  0.000000e+00  0.000000e+00  0.000000e+00  0.000000e+00  0.000000e+00\n",
       "[5306]  0.000000e+00  0.000000e+00  0.000000e+00  0.000000e+00  0.000000e+00\n",
       "[5311]  0.000000e+00  0.000000e+00  0.000000e+00  0.000000e+00  0.000000e+00\n",
       "[5316]  0.000000e+00  0.000000e+00  0.000000e+00  0.000000e+00  0.000000e+00\n",
       "[5321]  0.000000e+00  0.000000e+00  0.000000e+00  0.000000e+00  0.000000e+00\n",
       "[5326]  0.000000e+00  0.000000e+00  0.000000e+00  0.000000e+00  0.000000e+00\n",
       "[5331]  0.000000e+00  0.000000e+00  0.000000e+00  0.000000e+00  0.000000e+00\n",
       "[5336]  0.000000e+00  0.000000e+00  0.000000e+00  0.000000e+00  0.000000e+00\n",
       "[5341]  0.000000e+00  0.000000e+00  0.000000e+00  0.000000e+00  0.000000e+00\n",
       "[5346]  0.000000e+00  0.000000e+00  0.000000e+00  0.000000e+00  0.000000e+00\n",
       "[5351]  0.000000e+00  0.000000e+00  0.000000e+00  0.000000e+00  0.000000e+00\n",
       "[5356]  0.000000e+00  0.000000e+00  0.000000e+00  0.000000e+00  0.000000e+00\n",
       "[5361]  0.000000e+00  0.000000e+00  0.000000e+00  0.000000e+00  0.000000e+00\n",
       "[5366]  0.000000e+00  0.000000e+00  0.000000e+00  0.000000e+00  0.000000e+00\n",
       "[5371]  0.000000e+00  0.000000e+00  0.000000e+00  0.000000e+00  0.000000e+00\n",
       "[5376]  0.000000e+00  0.000000e+00  0.000000e+00  0.000000e+00  0.000000e+00\n",
       "[5381]  0.000000e+00  0.000000e+00  0.000000e+00  0.000000e+00  0.000000e+00\n",
       "[5386]  0.000000e+00  0.000000e+00  0.000000e+00  0.000000e+00  0.000000e+00\n",
       "[5391]  0.000000e+00  0.000000e+00  0.000000e+00  0.000000e+00  0.000000e+00\n",
       "[5396]  0.000000e+00  0.000000e+00  0.000000e+00  0.000000e+00  0.000000e+00\n",
       "[5401]  0.000000e+00  0.000000e+00  0.000000e+00  0.000000e+00  0.000000e+00\n",
       "[5406]  0.000000e+00  0.000000e+00  0.000000e+00  0.000000e+00  0.000000e+00\n",
       "[5411]  0.000000e+00  0.000000e+00  0.000000e+00  0.000000e+00  0.000000e+00\n",
       "[5416]  0.000000e+00  0.000000e+00  0.000000e+00  0.000000e+00  0.000000e+00\n",
       "[5421]  0.000000e+00  0.000000e+00  0.000000e+00  0.000000e+00  0.000000e+00\n",
       "[5426]  0.000000e+00  0.000000e+00  0.000000e+00  0.000000e+00  0.000000e+00\n",
       "[5431]  0.000000e+00  0.000000e+00  0.000000e+00  0.000000e+00  0.000000e+00\n",
       "[5436]  0.000000e+00  0.000000e+00  0.000000e+00  0.000000e+00  0.000000e+00\n",
       "[5441]  0.000000e+00  0.000000e+00  0.000000e+00  0.000000e+00  0.000000e+00\n",
       "[5446]  0.000000e+00  0.000000e+00  0.000000e+00  0.000000e+00  0.000000e+00\n",
       "[5451]  0.000000e+00  0.000000e+00  0.000000e+00  0.000000e+00  0.000000e+00\n",
       "[5456]  0.000000e+00  0.000000e+00  0.000000e+00  0.000000e+00  0.000000e+00\n",
       "[5461]  0.000000e+00  0.000000e+00  0.000000e+00  0.000000e+00  0.000000e+00\n",
       "[5466]  0.000000e+00  0.000000e+00  0.000000e+00  0.000000e+00  0.000000e+00\n",
       "[5471]  0.000000e+00  0.000000e+00  0.000000e+00  0.000000e+00  0.000000e+00\n",
       "[5476]  0.000000e+00  0.000000e+00  0.000000e+00  0.000000e+00  0.000000e+00\n",
       "[5481]  0.000000e+00  0.000000e+00  0.000000e+00  0.000000e+00  0.000000e+00\n",
       "[5486]  0.000000e+00  0.000000e+00  0.000000e+00  0.000000e+00  0.000000e+00\n",
       "[5491]  0.000000e+00  0.000000e+00  0.000000e+00  0.000000e+00  0.000000e+00\n",
       "[5496]  0.000000e+00  0.000000e+00  0.000000e+00  0.000000e+00  0.000000e+00\n",
       "[5501]  0.000000e+00  0.000000e+00  0.000000e+00  0.000000e+00  0.000000e+00\n",
       "[5506]  0.000000e+00  0.000000e+00  0.000000e+00  0.000000e+00  0.000000e+00\n",
       "[5511]  0.000000e+00  0.000000e+00  0.000000e+00  0.000000e+00  0.000000e+00\n",
       "[5516]  0.000000e+00  0.000000e+00  0.000000e+00  0.000000e+00  0.000000e+00\n",
       "[5521]  0.000000e+00  0.000000e+00  0.000000e+00  0.000000e+00  0.000000e+00\n",
       "[5526]  0.000000e+00  0.000000e+00  0.000000e+00  0.000000e+00  0.000000e+00\n",
       "[5531]  0.000000e+00  0.000000e+00  0.000000e+00  0.000000e+00  0.000000e+00\n",
       "[5536]  0.000000e+00  0.000000e+00  0.000000e+00  0.000000e+00  0.000000e+00\n",
       "[5541]  0.000000e+00  0.000000e+00  0.000000e+00  0.000000e+00  0.000000e+00\n",
       "[5546]  0.000000e+00  0.000000e+00  0.000000e+00  0.000000e+00  0.000000e+00\n",
       "[5551]  0.000000e+00  0.000000e+00  0.000000e+00  0.000000e+00  0.000000e+00\n",
       "[5556]  0.000000e+00  0.000000e+00  0.000000e+00  0.000000e+00  0.000000e+00\n",
       "[5561]  0.000000e+00  0.000000e+00  0.000000e+00  0.000000e+00  0.000000e+00\n",
       "[5566]  0.000000e+00  0.000000e+00  0.000000e+00  0.000000e+00  0.000000e+00\n",
       "[5571]  0.000000e+00  0.000000e+00  0.000000e+00  0.000000e+00  0.000000e+00\n",
       "[5576]  0.000000e+00  0.000000e+00  0.000000e+00  0.000000e+00  0.000000e+00\n",
       "[5581]  0.000000e+00  0.000000e+00  0.000000e+00  0.000000e+00  0.000000e+00\n",
       "[5586]  0.000000e+00  0.000000e+00  0.000000e+00  0.000000e+00  0.000000e+00\n",
       "[5591]  0.000000e+00  0.000000e+00  0.000000e+00  0.000000e+00  0.000000e+00\n",
       "[5596]  0.000000e+00  0.000000e+00  0.000000e+00  0.000000e+00  0.000000e+00\n",
       "[5601]  0.000000e+00  0.000000e+00  0.000000e+00  0.000000e+00  0.000000e+00\n",
       "[5606]  0.000000e+00  0.000000e+00  0.000000e+00  0.000000e+00  0.000000e+00\n",
       "[5611]  0.000000e+00  0.000000e+00  0.000000e+00  0.000000e+00  0.000000e+00\n",
       "[5616]  0.000000e+00  0.000000e+00  0.000000e+00  0.000000e+00  0.000000e+00\n",
       "[5621]  0.000000e+00  0.000000e+00  0.000000e+00  0.000000e+00  0.000000e+00\n",
       "[5626]  0.000000e+00  0.000000e+00  0.000000e+00  0.000000e+00  0.000000e+00\n",
       "[5631]  0.000000e+00  0.000000e+00  0.000000e+00  0.000000e+00  0.000000e+00\n",
       "[5636]  0.000000e+00  0.000000e+00  0.000000e+00  0.000000e+00  0.000000e+00\n",
       "[5641]  0.000000e+00  0.000000e+00  0.000000e+00  0.000000e+00  0.000000e+00\n",
       "[5646]  0.000000e+00  0.000000e+00  0.000000e+00  0.000000e+00  0.000000e+00\n",
       "[5651]  0.000000e+00  0.000000e+00  0.000000e+00  0.000000e+00  0.000000e+00\n",
       "[5656]  0.000000e+00  0.000000e+00  0.000000e+00  0.000000e+00  0.000000e+00\n",
       "[5661]  0.000000e+00  0.000000e+00  0.000000e+00  0.000000e+00  0.000000e+00\n",
       "[5666]  0.000000e+00  0.000000e+00  0.000000e+00  0.000000e+00  0.000000e+00\n",
       "[5671]  0.000000e+00  0.000000e+00  0.000000e+00  0.000000e+00  0.000000e+00\n",
       "[5676]  0.000000e+00  0.000000e+00  0.000000e+00  0.000000e+00  0.000000e+00\n",
       "[5681]  0.000000e+00  0.000000e+00  0.000000e+00  0.000000e+00  0.000000e+00\n",
       "[5686]  0.000000e+00  0.000000e+00  0.000000e+00  0.000000e+00  0.000000e+00\n",
       "[5691]  0.000000e+00  0.000000e+00  0.000000e+00  0.000000e+00  0.000000e+00\n",
       "[5696]  0.000000e+00  0.000000e+00  0.000000e+00  0.000000e+00  0.000000e+00\n",
       "[5701]  0.000000e+00  0.000000e+00  0.000000e+00  0.000000e+00  0.000000e+00\n",
       "[5706]  0.000000e+00  0.000000e+00  0.000000e+00  0.000000e+00  0.000000e+00\n",
       "[5711]  0.000000e+00  0.000000e+00  0.000000e+00  0.000000e+00  0.000000e+00\n",
       "[5716]  0.000000e+00  0.000000e+00  0.000000e+00  0.000000e+00  0.000000e+00\n",
       "[5721]  0.000000e+00  0.000000e+00  0.000000e+00  0.000000e+00  0.000000e+00\n",
       "[5726]  0.000000e+00  0.000000e+00  0.000000e+00  0.000000e+00  0.000000e+00\n",
       "[5731]  0.000000e+00  0.000000e+00  0.000000e+00  0.000000e+00  0.000000e+00\n",
       "[5736]  0.000000e+00  0.000000e+00  0.000000e+00  0.000000e+00  0.000000e+00\n",
       "[5741]  0.000000e+00  0.000000e+00  0.000000e+00  0.000000e+00  0.000000e+00\n",
       "[5746]  0.000000e+00  0.000000e+00  0.000000e+00  0.000000e+00  0.000000e+00\n",
       "[5751]  0.000000e+00  0.000000e+00  0.000000e+00  0.000000e+00  0.000000e+00\n",
       "[5756]  0.000000e+00  0.000000e+00  0.000000e+00  0.000000e+00  0.000000e+00\n",
       "[5761]  0.000000e+00  0.000000e+00  0.000000e+00  0.000000e+00  0.000000e+00\n",
       "[5766]  0.000000e+00  0.000000e+00  0.000000e+00  0.000000e+00  0.000000e+00\n",
       "[5771]  0.000000e+00  0.000000e+00  0.000000e+00  0.000000e+00  0.000000e+00\n",
       "[5776]  0.000000e+00  0.000000e+00  0.000000e+00  0.000000e+00  0.000000e+00\n",
       "[5781]  0.000000e+00  0.000000e+00  0.000000e+00  0.000000e+00  0.000000e+00\n",
       "[5786]  0.000000e+00  0.000000e+00  0.000000e+00  0.000000e+00  0.000000e+00\n",
       "[5791]  0.000000e+00  0.000000e+00  0.000000e+00  0.000000e+00  0.000000e+00\n",
       "[5796]  0.000000e+00  0.000000e+00  0.000000e+00  0.000000e+00  0.000000e+00\n",
       "[5801]  0.000000e+00  0.000000e+00  0.000000e+00  0.000000e+00  0.000000e+00\n",
       "[5806]  0.000000e+00  0.000000e+00  0.000000e+00  0.000000e+00  0.000000e+00\n",
       "[5811]  0.000000e+00  0.000000e+00  0.000000e+00  0.000000e+00  0.000000e+00\n",
       "[5816]  0.000000e+00  0.000000e+00  0.000000e+00  0.000000e+00  0.000000e+00\n",
       "[5821]  0.000000e+00  0.000000e+00  0.000000e+00  0.000000e+00  0.000000e+00\n",
       "[5826]  0.000000e+00  0.000000e+00  0.000000e+00  0.000000e+00  0.000000e+00\n",
       "[5831]  0.000000e+00  0.000000e+00  0.000000e+00  0.000000e+00  0.000000e+00\n",
       "[5836]  0.000000e+00  0.000000e+00  0.000000e+00  0.000000e+00  0.000000e+00\n",
       "[5841]  0.000000e+00  0.000000e+00  0.000000e+00  0.000000e+00  0.000000e+00\n",
       "[5846]  0.000000e+00  0.000000e+00  0.000000e+00  0.000000e+00  0.000000e+00\n",
       "[5851]  0.000000e+00  0.000000e+00  0.000000e+00  0.000000e+00  0.000000e+00\n",
       "[5856]  0.000000e+00  0.000000e+00  0.000000e+00  0.000000e+00  0.000000e+00\n",
       "[5861]  0.000000e+00  0.000000e+00  0.000000e+00  0.000000e+00  0.000000e+00\n",
       "[5866]  0.000000e+00  0.000000e+00  0.000000e+00  0.000000e+00  0.000000e+00\n",
       "[5871]  0.000000e+00  0.000000e+00  0.000000e+00  0.000000e+00  0.000000e+00\n",
       "[5876]  0.000000e+00  0.000000e+00  0.000000e+00  0.000000e+00  0.000000e+00\n",
       "[5881]  0.000000e+00  0.000000e+00  0.000000e+00  0.000000e+00  0.000000e+00\n",
       "[5886]  0.000000e+00  0.000000e+00  0.000000e+00  0.000000e+00  0.000000e+00\n",
       "[5891]  0.000000e+00  0.000000e+00  0.000000e+00  0.000000e+00  0.000000e+00\n",
       "[5896]  0.000000e+00  0.000000e+00  0.000000e+00  0.000000e+00  0.000000e+00\n",
       "[5901]  0.000000e+00  0.000000e+00  0.000000e+00  0.000000e+00  0.000000e+00\n",
       "[5906]  0.000000e+00  0.000000e+00  0.000000e+00  0.000000e+00  0.000000e+00\n",
       "[5911]  0.000000e+00  0.000000e+00  0.000000e+00  0.000000e+00  0.000000e+00\n",
       "[5916]  0.000000e+00  0.000000e+00  0.000000e+00  0.000000e+00  0.000000e+00\n",
       "[5921]  0.000000e+00  0.000000e+00  0.000000e+00  0.000000e+00  0.000000e+00\n",
       "[5926]  0.000000e+00  0.000000e+00  0.000000e+00  0.000000e+00  0.000000e+00\n",
       "[5931]  0.000000e+00  0.000000e+00  0.000000e+00  0.000000e+00  0.000000e+00\n",
       "[5936]  0.000000e+00  0.000000e+00  0.000000e+00  0.000000e+00  0.000000e+00\n",
       "[5941]  0.000000e+00  0.000000e+00  0.000000e+00  0.000000e+00  0.000000e+00\n",
       "[5946]  0.000000e+00  0.000000e+00  0.000000e+00  0.000000e+00  0.000000e+00\n",
       "[5951]  0.000000e+00  0.000000e+00  0.000000e+00  0.000000e+00  0.000000e+00\n",
       "[5956]  0.000000e+00  0.000000e+00  0.000000e+00  0.000000e+00  0.000000e+00\n",
       "[5961]  0.000000e+00  0.000000e+00  0.000000e+00  0.000000e+00  0.000000e+00\n",
       "[5966]  0.000000e+00  0.000000e+00  0.000000e+00  0.000000e+00  0.000000e+00\n",
       "[5971]  0.000000e+00  0.000000e+00  0.000000e+00  0.000000e+00  0.000000e+00\n",
       "[5976]  0.000000e+00  0.000000e+00  0.000000e+00  0.000000e+00  0.000000e+00\n",
       "[5981]  0.000000e+00  0.000000e+00  0.000000e+00  0.000000e+00  0.000000e+00\n",
       "[5986]  0.000000e+00  0.000000e+00  0.000000e+00  0.000000e+00  0.000000e+00\n",
       "[5991]  0.000000e+00  0.000000e+00  0.000000e+00  0.000000e+00  0.000000e+00\n",
       "[5996]  0.000000e+00  0.000000e+00  0.000000e+00  0.000000e+00  0.000000e+00\n",
       "[6001]  0.000000e+00  0.000000e+00  0.000000e+00  0.000000e+00  0.000000e+00\n",
       "[6006]  0.000000e+00  0.000000e+00  0.000000e+00  0.000000e+00  0.000000e+00\n",
       "[6011]  0.000000e+00  0.000000e+00  0.000000e+00  0.000000e+00  0.000000e+00\n",
       "[6016]  0.000000e+00  0.000000e+00  0.000000e+00  0.000000e+00  0.000000e+00\n",
       "[6021]  0.000000e+00  0.000000e+00  0.000000e+00  0.000000e+00  0.000000e+00\n",
       "[6026]  0.000000e+00  0.000000e+00  0.000000e+00  0.000000e+00  0.000000e+00\n",
       "[6031]  0.000000e+00  0.000000e+00  0.000000e+00  0.000000e+00  0.000000e+00\n",
       "[6036]  0.000000e+00  0.000000e+00  0.000000e+00  0.000000e+00  0.000000e+00\n",
       "[6041]  0.000000e+00  0.000000e+00  0.000000e+00  0.000000e+00  0.000000e+00\n",
       "[6046]  0.000000e+00  0.000000e+00  0.000000e+00  0.000000e+00  0.000000e+00\n",
       "[6051]  0.000000e+00  0.000000e+00  0.000000e+00  0.000000e+00  0.000000e+00\n",
       "[6056]  0.000000e+00  0.000000e+00  0.000000e+00  0.000000e+00  0.000000e+00\n",
       "[6061]  0.000000e+00  0.000000e+00  0.000000e+00  0.000000e+00  0.000000e+00\n",
       "[6066]  0.000000e+00  0.000000e+00  0.000000e+00  0.000000e+00  0.000000e+00\n",
       "[6071]  0.000000e+00  0.000000e+00  0.000000e+00  0.000000e+00  0.000000e+00\n",
       "[6076]  0.000000e+00  0.000000e+00  0.000000e+00  0.000000e+00  0.000000e+00\n",
       "[6081]  0.000000e+00  0.000000e+00  0.000000e+00  0.000000e+00  0.000000e+00\n",
       "[6086]  0.000000e+00  0.000000e+00  0.000000e+00  0.000000e+00  0.000000e+00\n",
       "[6091]  0.000000e+00  0.000000e+00  0.000000e+00  0.000000e+00  0.000000e+00\n",
       "[6096]  0.000000e+00  0.000000e+00  0.000000e+00  0.000000e+00  0.000000e+00\n",
       "[6101]  0.000000e+00  0.000000e+00  0.000000e+00  0.000000e+00  0.000000e+00\n",
       "[6106]  0.000000e+00  0.000000e+00  0.000000e+00  0.000000e+00  0.000000e+00\n",
       "[6111]  0.000000e+00  0.000000e+00  0.000000e+00  0.000000e+00  0.000000e+00\n",
       "[6116]  0.000000e+00  0.000000e+00  0.000000e+00  0.000000e+00  0.000000e+00\n",
       "[6121]  0.000000e+00  0.000000e+00  0.000000e+00  0.000000e+00  0.000000e+00\n",
       "[6126]  0.000000e+00  0.000000e+00  0.000000e+00  0.000000e+00  0.000000e+00\n",
       "[6131]  0.000000e+00  0.000000e+00  0.000000e+00  0.000000e+00  0.000000e+00\n",
       "[6136]  0.000000e+00  0.000000e+00  0.000000e+00  0.000000e+00  0.000000e+00\n",
       "[6141]  0.000000e+00  0.000000e+00  0.000000e+00  0.000000e+00  0.000000e+00\n",
       "[6146]  0.000000e+00  0.000000e+00  0.000000e+00  0.000000e+00  0.000000e+00\n",
       "[6151]  0.000000e+00  0.000000e+00  0.000000e+00  0.000000e+00  0.000000e+00\n",
       "[6156]  0.000000e+00  0.000000e+00  0.000000e+00  0.000000e+00  0.000000e+00\n",
       "[6161]  0.000000e+00  0.000000e+00  0.000000e+00  0.000000e+00  0.000000e+00\n",
       "[6166]  0.000000e+00  0.000000e+00  0.000000e+00  0.000000e+00  0.000000e+00\n",
       "[6171]  0.000000e+00  0.000000e+00  0.000000e+00  0.000000e+00  0.000000e+00\n",
       "[6176]  0.000000e+00  0.000000e+00  0.000000e+00  0.000000e+00  0.000000e+00\n",
       "[6181]  0.000000e+00  0.000000e+00  0.000000e+00  0.000000e+00  0.000000e+00\n",
       "[6186]  0.000000e+00  0.000000e+00  0.000000e+00  0.000000e+00  0.000000e+00\n",
       "[6191]  0.000000e+00  0.000000e+00  0.000000e+00  0.000000e+00  0.000000e+00\n",
       "[6196]  0.000000e+00  0.000000e+00  0.000000e+00  0.000000e+00  0.000000e+00\n",
       "[6201]  0.000000e+00  0.000000e+00  0.000000e+00  0.000000e+00  0.000000e+00\n",
       "[6206]  0.000000e+00  0.000000e+00  0.000000e+00  0.000000e+00  0.000000e+00\n",
       "[6211]  0.000000e+00  0.000000e+00  0.000000e+00  0.000000e+00  0.000000e+00\n",
       "[6216]  0.000000e+00  0.000000e+00  0.000000e+00  0.000000e+00  0.000000e+00\n",
       "[6221]  0.000000e+00  0.000000e+00  0.000000e+00  0.000000e+00  0.000000e+00\n",
       "[6226]  0.000000e+00  0.000000e+00  0.000000e+00  0.000000e+00  0.000000e+00\n",
       "[6231]  0.000000e+00  0.000000e+00  0.000000e+00  0.000000e+00  0.000000e+00\n",
       "[6236]  0.000000e+00  0.000000e+00  0.000000e+00  0.000000e+00  0.000000e+00\n",
       "[6241]  0.000000e+00  0.000000e+00  0.000000e+00  0.000000e+00  0.000000e+00\n",
       "[6246]  0.000000e+00  0.000000e+00  0.000000e+00  0.000000e+00  0.000000e+00\n",
       "[6251]  0.000000e+00  0.000000e+00  0.000000e+00  0.000000e+00  0.000000e+00\n",
       "[6256]  0.000000e+00  0.000000e+00  0.000000e+00  0.000000e+00  0.000000e+00\n",
       "[6261]  0.000000e+00  0.000000e+00  0.000000e+00  0.000000e+00  0.000000e+00\n",
       "[6266]  0.000000e+00  0.000000e+00  0.000000e+00  0.000000e+00  0.000000e+00\n",
       "[6271]  0.000000e+00  0.000000e+00  0.000000e+00  0.000000e+00  0.000000e+00\n",
       "[6276]  0.000000e+00  0.000000e+00  0.000000e+00  0.000000e+00  0.000000e+00\n",
       "[6281]  0.000000e+00  0.000000e+00  0.000000e+00  0.000000e+00  0.000000e+00\n",
       "[6286]  0.000000e+00  0.000000e+00  0.000000e+00  0.000000e+00  0.000000e+00\n",
       "[6291]  0.000000e+00  0.000000e+00  0.000000e+00  0.000000e+00  0.000000e+00\n",
       "[6296]  0.000000e+00  0.000000e+00  0.000000e+00  0.000000e+00  0.000000e+00\n",
       "[6301]  0.000000e+00  0.000000e+00  0.000000e+00  0.000000e+00  0.000000e+00\n",
       "[6306]  0.000000e+00  0.000000e+00  0.000000e+00  0.000000e+00  0.000000e+00\n",
       "[6311]  0.000000e+00  0.000000e+00  0.000000e+00  0.000000e+00  0.000000e+00\n",
       "[6316]  0.000000e+00  0.000000e+00  0.000000e+00  0.000000e+00  0.000000e+00\n",
       "[6321]  0.000000e+00  0.000000e+00  0.000000e+00  0.000000e+00  0.000000e+00\n",
       "[6326]  0.000000e+00  0.000000e+00  0.000000e+00  0.000000e+00  0.000000e+00\n",
       "[6331]  0.000000e+00  0.000000e+00  0.000000e+00  0.000000e+00  0.000000e+00\n",
       "[6336]  0.000000e+00  0.000000e+00  0.000000e+00  0.000000e+00  0.000000e+00\n",
       "[6341]  0.000000e+00  0.000000e+00  0.000000e+00  0.000000e+00  0.000000e+00\n",
       "[6346]  0.000000e+00  0.000000e+00  0.000000e+00  0.000000e+00  0.000000e+00\n",
       "[6351]  0.000000e+00  0.000000e+00  0.000000e+00  0.000000e+00  0.000000e+00\n",
       "[6356]  0.000000e+00  0.000000e+00  0.000000e+00  0.000000e+00  0.000000e+00\n",
       "[6361]  0.000000e+00  0.000000e+00  0.000000e+00  0.000000e+00  0.000000e+00\n",
       "[6366]  0.000000e+00  0.000000e+00  0.000000e+00  0.000000e+00  0.000000e+00\n",
       "[6371]  0.000000e+00  0.000000e+00  0.000000e+00  0.000000e+00  0.000000e+00\n",
       "[6376]  0.000000e+00  0.000000e+00  0.000000e+00  0.000000e+00  0.000000e+00\n",
       "[6381]  0.000000e+00  0.000000e+00  0.000000e+00  0.000000e+00  0.000000e+00\n",
       "[6386]  0.000000e+00  0.000000e+00  0.000000e+00  0.000000e+00  0.000000e+00\n",
       "[6391]  0.000000e+00  0.000000e+00  0.000000e+00  0.000000e+00  0.000000e+00\n",
       "[6396]  0.000000e+00  0.000000e+00  0.000000e+00  0.000000e+00  0.000000e+00\n",
       "[6401]  0.000000e+00  0.000000e+00  0.000000e+00  0.000000e+00  0.000000e+00\n",
       "[6406]  0.000000e+00  0.000000e+00  0.000000e+00  0.000000e+00  0.000000e+00\n",
       "[6411]  0.000000e+00  0.000000e+00  0.000000e+00  0.000000e+00  0.000000e+00\n",
       "[6416]  0.000000e+00  0.000000e+00  0.000000e+00  0.000000e+00  0.000000e+00\n",
       "[6421]  0.000000e+00  0.000000e+00  0.000000e+00  0.000000e+00  0.000000e+00\n",
       "[6426]  0.000000e+00  0.000000e+00  0.000000e+00  0.000000e+00  0.000000e+00\n",
       "[6431]  0.000000e+00  0.000000e+00  0.000000e+00  0.000000e+00  0.000000e+00\n",
       "[6436]  0.000000e+00  0.000000e+00  0.000000e+00  0.000000e+00  0.000000e+00\n",
       "[6441]  0.000000e+00  0.000000e+00  0.000000e+00  0.000000e+00  0.000000e+00\n",
       "[6446]  0.000000e+00  0.000000e+00  0.000000e+00  0.000000e+00  0.000000e+00\n",
       "[6451]  0.000000e+00  0.000000e+00  0.000000e+00  0.000000e+00  0.000000e+00\n",
       "[6456]  0.000000e+00  0.000000e+00  0.000000e+00  0.000000e+00  0.000000e+00\n",
       "[6461]  0.000000e+00  0.000000e+00  0.000000e+00  0.000000e+00  0.000000e+00\n",
       "[6466]  0.000000e+00  0.000000e+00  0.000000e+00  0.000000e+00  0.000000e+00\n",
       "[6471]  0.000000e+00  0.000000e+00  0.000000e+00  0.000000e+00  0.000000e+00\n",
       "[6476]  0.000000e+00  0.000000e+00  0.000000e+00  0.000000e+00  0.000000e+00\n",
       "[6481]  0.000000e+00  0.000000e+00  0.000000e+00  0.000000e+00  0.000000e+00\n",
       "[6486]  0.000000e+00  0.000000e+00  0.000000e+00  0.000000e+00  0.000000e+00\n",
       "[6491]  0.000000e+00  0.000000e+00  0.000000e+00  0.000000e+00  0.000000e+00\n",
       "[6496]  0.000000e+00  0.000000e+00  0.000000e+00  0.000000e+00  0.000000e+00\n",
       "[6501]  0.000000e+00  0.000000e+00  0.000000e+00  0.000000e+00  0.000000e+00\n",
       "[6506]  0.000000e+00  0.000000e+00  0.000000e+00  0.000000e+00  0.000000e+00\n",
       "[6511]  0.000000e+00  0.000000e+00  0.000000e+00  0.000000e+00  0.000000e+00\n",
       "[6516]  0.000000e+00  0.000000e+00  0.000000e+00  0.000000e+00  0.000000e+00\n",
       "[6521]  0.000000e+00  0.000000e+00  0.000000e+00  0.000000e+00  0.000000e+00\n",
       "[6526]  0.000000e+00  0.000000e+00  0.000000e+00  0.000000e+00  0.000000e+00\n",
       "[6531]  0.000000e+00  0.000000e+00  0.000000e+00  0.000000e+00  0.000000e+00\n",
       "[6536]  0.000000e+00  0.000000e+00  0.000000e+00  0.000000e+00  0.000000e+00\n",
       "[6541]  0.000000e+00  0.000000e+00  0.000000e+00  0.000000e+00  0.000000e+00\n",
       "[6546]  0.000000e+00  0.000000e+00  0.000000e+00  0.000000e+00  0.000000e+00\n",
       "[6551]  0.000000e+00  0.000000e+00  0.000000e+00  0.000000e+00  0.000000e+00\n",
       "[6556]  0.000000e+00  0.000000e+00  0.000000e+00  0.000000e+00  0.000000e+00\n",
       "[6561]  0.000000e+00  0.000000e+00  0.000000e+00  0.000000e+00  0.000000e+00\n",
       "[6566]  0.000000e+00  0.000000e+00  0.000000e+00  0.000000e+00  0.000000e+00\n",
       "[6571]  0.000000e+00  0.000000e+00  0.000000e+00  0.000000e+00  0.000000e+00\n",
       "[6576]  0.000000e+00  0.000000e+00  0.000000e+00  0.000000e+00  0.000000e+00\n",
       "[6581]  0.000000e+00  0.000000e+00  0.000000e+00  0.000000e+00  0.000000e+00\n",
       "[6586]  0.000000e+00  0.000000e+00  0.000000e+00  0.000000e+00  0.000000e+00\n",
       "[6591]  0.000000e+00  0.000000e+00  0.000000e+00  0.000000e+00  0.000000e+00\n",
       "[6596]  0.000000e+00  0.000000e+00  0.000000e+00  0.000000e+00  0.000000e+00\n",
       "[6601]  0.000000e+00  0.000000e+00  0.000000e+00  0.000000e+00  0.000000e+00\n",
       "[6606]  0.000000e+00  0.000000e+00  0.000000e+00  0.000000e+00  0.000000e+00\n",
       "[6611]  0.000000e+00  0.000000e+00  0.000000e+00  0.000000e+00  0.000000e+00\n",
       "[6616]  0.000000e+00  0.000000e+00  0.000000e+00  0.000000e+00  0.000000e+00\n",
       "[6621]  0.000000e+00  0.000000e+00  0.000000e+00  0.000000e+00  0.000000e+00\n",
       "[6626]  0.000000e+00  0.000000e+00  0.000000e+00  0.000000e+00  0.000000e+00\n",
       "[6631]  0.000000e+00  0.000000e+00  0.000000e+00  0.000000e+00  0.000000e+00\n",
       "[6636]  0.000000e+00  0.000000e+00  0.000000e+00  0.000000e+00  0.000000e+00\n",
       "[6641]  0.000000e+00  0.000000e+00  0.000000e+00  0.000000e+00  0.000000e+00\n",
       "[6646]  0.000000e+00  0.000000e+00  0.000000e+00  0.000000e+00  0.000000e+00\n",
       "[6651]  0.000000e+00  0.000000e+00  0.000000e+00  0.000000e+00  0.000000e+00\n",
       "[6656]  0.000000e+00  0.000000e+00  0.000000e+00  0.000000e+00  0.000000e+00\n",
       "[6661]  0.000000e+00  0.000000e+00  0.000000e+00  0.000000e+00  0.000000e+00\n",
       "[6666]  0.000000e+00  0.000000e+00  0.000000e+00  0.000000e+00  0.000000e+00\n",
       "[6671]  0.000000e+00  0.000000e+00  0.000000e+00  0.000000e+00  0.000000e+00\n",
       "[6676]  0.000000e+00  0.000000e+00  0.000000e+00  0.000000e+00  0.000000e+00\n",
       "[6681]  0.000000e+00  0.000000e+00  0.000000e+00  0.000000e+00  0.000000e+00\n",
       "[6686]  0.000000e+00  0.000000e+00  0.000000e+00  0.000000e+00  0.000000e+00\n",
       "[6691]  0.000000e+00  0.000000e+00  0.000000e+00  0.000000e+00  0.000000e+00\n",
       "[6696]  0.000000e+00  0.000000e+00  0.000000e+00  0.000000e+00  0.000000e+00\n",
       "[6701]  0.000000e+00  0.000000e+00  0.000000e+00  0.000000e+00  0.000000e+00\n",
       "[6706]  0.000000e+00  0.000000e+00  0.000000e+00  0.000000e+00  0.000000e+00\n",
       "[6711]  0.000000e+00  0.000000e+00  0.000000e+00  0.000000e+00  0.000000e+00\n",
       "[6716]  0.000000e+00  0.000000e+00  0.000000e+00  0.000000e+00  0.000000e+00\n",
       "[6721]  0.000000e+00  0.000000e+00  0.000000e+00  0.000000e+00  0.000000e+00\n",
       "[6726]  0.000000e+00  0.000000e+00  0.000000e+00  0.000000e+00  0.000000e+00\n",
       "[6731]  0.000000e+00  0.000000e+00  0.000000e+00  0.000000e+00  0.000000e+00\n",
       "[6736]  0.000000e+00  0.000000e+00  0.000000e+00  0.000000e+00  0.000000e+00\n",
       "[6741]  0.000000e+00  0.000000e+00  0.000000e+00  0.000000e+00  0.000000e+00\n",
       "[6746]  0.000000e+00  0.000000e+00  0.000000e+00  0.000000e+00  0.000000e+00\n",
       "[6751]  0.000000e+00  0.000000e+00  0.000000e+00  0.000000e+00  0.000000e+00\n",
       "[6756]  0.000000e+00  0.000000e+00  0.000000e+00  0.000000e+00  0.000000e+00\n",
       "[6761]  0.000000e+00  0.000000e+00  0.000000e+00  0.000000e+00  0.000000e+00\n",
       "[6766]  0.000000e+00  0.000000e+00  0.000000e+00  0.000000e+00  0.000000e+00\n",
       "[6771]  0.000000e+00  0.000000e+00  0.000000e+00  0.000000e+00  0.000000e+00\n",
       "[6776]  0.000000e+00  0.000000e+00  0.000000e+00  0.000000e+00  0.000000e+00\n",
       "[6781]  0.000000e+00  0.000000e+00  0.000000e+00  0.000000e+00  0.000000e+00\n",
       "[6786]  0.000000e+00  0.000000e+00  0.000000e+00  0.000000e+00  0.000000e+00\n",
       "[6791]  0.000000e+00  0.000000e+00  0.000000e+00  0.000000e+00  0.000000e+00\n",
       "[6796]  0.000000e+00  0.000000e+00  0.000000e+00  0.000000e+00  0.000000e+00\n",
       "[6801]  0.000000e+00  0.000000e+00  0.000000e+00  0.000000e+00  0.000000e+00\n",
       "[6806]  0.000000e+00  0.000000e+00  0.000000e+00  0.000000e+00  0.000000e+00\n",
       "[6811]  0.000000e+00  0.000000e+00  0.000000e+00  0.000000e+00  0.000000e+00\n",
       "[6816]  0.000000e+00  0.000000e+00  0.000000e+00  0.000000e+00  0.000000e+00\n",
       "[6821]  0.000000e+00  0.000000e+00  0.000000e+00  0.000000e+00  0.000000e+00\n",
       "[6826]  0.000000e+00  0.000000e+00  0.000000e+00  0.000000e+00  0.000000e+00\n",
       "[6831]  0.000000e+00  0.000000e+00  0.000000e+00  0.000000e+00  0.000000e+00\n",
       "[6836]  0.000000e+00  0.000000e+00  0.000000e+00  0.000000e+00  0.000000e+00\n",
       "[6841]  0.000000e+00  0.000000e+00  0.000000e+00  0.000000e+00  0.000000e+00\n",
       "[6846]  0.000000e+00  0.000000e+00  0.000000e+00  0.000000e+00  0.000000e+00\n",
       "[6851]  0.000000e+00  0.000000e+00  0.000000e+00  0.000000e+00  0.000000e+00\n",
       "[6856]  0.000000e+00  0.000000e+00  0.000000e+00  0.000000e+00  0.000000e+00\n",
       "[6861]  0.000000e+00  0.000000e+00  0.000000e+00  0.000000e+00  0.000000e+00\n",
       "[6866]  0.000000e+00  0.000000e+00  0.000000e+00  0.000000e+00  0.000000e+00\n",
       "[6871]  0.000000e+00  0.000000e+00  0.000000e+00  0.000000e+00  0.000000e+00\n",
       "[6876]  0.000000e+00  0.000000e+00  0.000000e+00  0.000000e+00  0.000000e+00\n",
       "[6881]  0.000000e+00  0.000000e+00  0.000000e+00  0.000000e+00  0.000000e+00\n",
       "[6886]  0.000000e+00  0.000000e+00  0.000000e+00  0.000000e+00  0.000000e+00\n",
       "[6891]  0.000000e+00  0.000000e+00  0.000000e+00  0.000000e+00  0.000000e+00\n",
       "[6896]  0.000000e+00  0.000000e+00  0.000000e+00  0.000000e+00  0.000000e+00\n",
       "[6901]  0.000000e+00  0.000000e+00  0.000000e+00  0.000000e+00  0.000000e+00\n",
       "[6906]  0.000000e+00  0.000000e+00  0.000000e+00  0.000000e+00  0.000000e+00\n",
       "[6911]  0.000000e+00  0.000000e+00  0.000000e+00  0.000000e+00  0.000000e+00\n",
       "[6916]  0.000000e+00  0.000000e+00  0.000000e+00  0.000000e+00  0.000000e+00\n",
       "[6921]  0.000000e+00  0.000000e+00  0.000000e+00  0.000000e+00  0.000000e+00\n",
       "[6926]  0.000000e+00  0.000000e+00  0.000000e+00  0.000000e+00  0.000000e+00\n",
       "[6931]  0.000000e+00  0.000000e+00  0.000000e+00  0.000000e+00  0.000000e+00\n",
       "[6936]  0.000000e+00  0.000000e+00  0.000000e+00  0.000000e+00  0.000000e+00\n",
       "[6941]  0.000000e+00  0.000000e+00  0.000000e+00  0.000000e+00  0.000000e+00\n",
       "[6946]  0.000000e+00  0.000000e+00  0.000000e+00  0.000000e+00  0.000000e+00\n",
       "[6951]  0.000000e+00  0.000000e+00  0.000000e+00  0.000000e+00  0.000000e+00\n",
       "[6956]  0.000000e+00  0.000000e+00  0.000000e+00  0.000000e+00  0.000000e+00\n",
       "[6961]  0.000000e+00  0.000000e+00  0.000000e+00  0.000000e+00  0.000000e+00\n",
       "[6966]  0.000000e+00  0.000000e+00  0.000000e+00  0.000000e+00  0.000000e+00\n",
       "[6971]  0.000000e+00  0.000000e+00  0.000000e+00  0.000000e+00  0.000000e+00\n",
       "[6976]  0.000000e+00  0.000000e+00  0.000000e+00  0.000000e+00  0.000000e+00\n",
       "[6981]  0.000000e+00  0.000000e+00  0.000000e+00  0.000000e+00  0.000000e+00\n",
       "[6986]  0.000000e+00  0.000000e+00  0.000000e+00  0.000000e+00  0.000000e+00\n",
       "[6991]  0.000000e+00  0.000000e+00  0.000000e+00  0.000000e+00  0.000000e+00\n",
       "[6996]  0.000000e+00  0.000000e+00  0.000000e+00  0.000000e+00  0.000000e+00\n",
       "[7001]  0.000000e+00  0.000000e+00  0.000000e+00  0.000000e+00  0.000000e+00\n",
       "[7006]  0.000000e+00  0.000000e+00  0.000000e+00  0.000000e+00  0.000000e+00\n",
       "[7011]  0.000000e+00  0.000000e+00  0.000000e+00  0.000000e+00  0.000000e+00\n",
       "[7016]  0.000000e+00  0.000000e+00  0.000000e+00  0.000000e+00  0.000000e+00\n",
       "[7021]  0.000000e+00  0.000000e+00  0.000000e+00  0.000000e+00  0.000000e+00\n",
       "[7026]  0.000000e+00  0.000000e+00  0.000000e+00  0.000000e+00  0.000000e+00\n",
       "[7031]  0.000000e+00  0.000000e+00  0.000000e+00  0.000000e+00  0.000000e+00\n",
       "[7036]  0.000000e+00  0.000000e+00  0.000000e+00  0.000000e+00  0.000000e+00\n",
       "[7041]  0.000000e+00  0.000000e+00  0.000000e+00  0.000000e+00  0.000000e+00\n",
       "[7046]  0.000000e+00  0.000000e+00  0.000000e+00  0.000000e+00  0.000000e+00\n",
       "[7051]  0.000000e+00  0.000000e+00  0.000000e+00  0.000000e+00  0.000000e+00\n",
       "[7056]  0.000000e+00  0.000000e+00  0.000000e+00  0.000000e+00  0.000000e+00\n",
       "[7061]  0.000000e+00  0.000000e+00  0.000000e+00  0.000000e+00  0.000000e+00\n",
       "[7066]  0.000000e+00  0.000000e+00  0.000000e+00  0.000000e+00  0.000000e+00\n",
       "[7071]  0.000000e+00  0.000000e+00  0.000000e+00  0.000000e+00  0.000000e+00\n",
       "[7076]  0.000000e+00  0.000000e+00  0.000000e+00  0.000000e+00  0.000000e+00\n",
       "[7081]  0.000000e+00  0.000000e+00  0.000000e+00  0.000000e+00  0.000000e+00\n",
       "[7086]  0.000000e+00  0.000000e+00  0.000000e+00  0.000000e+00  0.000000e+00\n",
       "[7091]  0.000000e+00  0.000000e+00  0.000000e+00  0.000000e+00  0.000000e+00\n",
       "[7096]  0.000000e+00  0.000000e+00  0.000000e+00  0.000000e+00  0.000000e+00\n",
       "[7101]  0.000000e+00  0.000000e+00  0.000000e+00  0.000000e+00  0.000000e+00\n",
       "[7106]  0.000000e+00  0.000000e+00"
      ]
     },
     "metadata": {},
     "output_type": "display_data"
    }
   ],
   "source": [
    "theta[((t - 1) * M + 1):(t * M)]"
   ]
  },
  {
   "cell_type": "code",
   "execution_count": 72,
   "metadata": {},
   "outputs": [
    {
     "data": {
      "text/html": [
       "1"
      ],
      "text/latex": [
       "1"
      ],
      "text/markdown": [
       "1"
      ],
      "text/plain": [
       "[1] 1"
      ]
     },
     "metadata": {},
     "output_type": "display_data"
    }
   ],
   "source": [
    "length(theta[((t - 1) * M + 1):t * M])"
   ]
  },
  {
   "cell_type": "code",
   "execution_count": 56,
   "metadata": {},
   "outputs": [
    {
     "data": {
      "text/html": [
       "348243"
      ],
      "text/latex": [
       "348243"
      ],
      "text/markdown": [
       "348243"
      ],
      "text/plain": [
       "[1] 348243"
      ]
     },
     "metadata": {},
     "output_type": "display_data"
    },
    {
     "data": {
      "text/html": [
       "0"
      ],
      "text/latex": [
       "0"
      ],
      "text/markdown": [
       "0"
      ],
      "text/plain": [
       "[1] 0"
      ]
     },
     "metadata": {},
     "output_type": "display_data"
    },
    {
     "data": {
      "text/html": [
       "0"
      ],
      "text/latex": [
       "0"
      ],
      "text/markdown": [
       "0"
      ],
      "text/plain": [
       "[1] 0"
      ]
     },
     "metadata": {},
     "output_type": "display_data"
    }
   ],
   "source": [
    "length(beta_j_lasso_matrix)\n",
    "sum(is.na(beta_j_lasso_matrix))\n",
    "sum(is.infinite(beta_j_lasso_matrix))"
   ]
  },
  {
   "cell_type": "code",
   "execution_count": 57,
   "metadata": {},
   "outputs": [
    {
     "data": {
      "text/html": [
       "0"
      ],
      "text/latex": [
       "0"
      ],
      "text/markdown": [
       "0"
      ],
      "text/plain": [
       "[1] 0"
      ]
     },
     "metadata": {},
     "output_type": "display_data"
    },
    {
     "data": {
      "text/html": [
       "0"
      ],
      "text/latex": [
       "0"
      ],
      "text/markdown": [
       "0"
      ],
      "text/plain": [
       "[1] 0"
      ]
     },
     "metadata": {},
     "output_type": "display_data"
    },
    {
     "data": {
      "text/html": [
       "48"
      ],
      "text/latex": [
       "48"
      ],
      "text/markdown": [
       "48"
      ],
      "text/plain": [
       "[1] 48"
      ]
     },
     "metadata": {},
     "output_type": "display_data"
    },
    {
     "data": {
      "text/html": [
       "236"
      ],
      "text/latex": [
       "236"
      ],
      "text/markdown": [
       "236"
      ],
      "text/plain": [
       "[1] 236"
      ]
     },
     "metadata": {},
     "output_type": "display_data"
    },
    {
     "data": {
      "text/html": [
       "48"
      ],
      "text/latex": [
       "48"
      ],
      "text/markdown": [
       "48"
      ],
      "text/plain": [
       "[1] 48"
      ]
     },
     "metadata": {},
     "output_type": "display_data"
    },
    {
     "data": {
      "text/html": [
       "236"
      ],
      "text/latex": [
       "236"
      ],
      "text/markdown": [
       "236"
      ],
      "text/plain": [
       "[1] 236"
      ]
     },
     "metadata": {},
     "output_type": "display_data"
    }
   ],
   "source": [
    "sum(is.na(initial_numeric))\n",
    "sum(is.infinite(initial_numeric))\n",
    "sum(is.na(single_est))\n",
    "sum(is.infinite(single_est))\n",
    "sum(is.na(theta))\n",
    "sum(is.infinite(theta))"
   ]
  },
  {
   "cell_type": "code",
   "execution_count": null,
   "metadata": {},
   "outputs": [],
   "source": []
  },
  {
   "cell_type": "code",
   "execution_count": 80,
   "metadata": {},
   "outputs": [
    {
     "data": {
      "text/html": [
       "46"
      ],
      "text/latex": [
       "46"
      ],
      "text/markdown": [
       "46"
      ],
      "text/plain": [
       "[1] 46"
      ]
     },
     "metadata": {},
     "output_type": "display_data"
    },
    {
     "data": {
      "text/html": [
       "0"
      ],
      "text/latex": [
       "0"
      ],
      "text/markdown": [
       "0"
      ],
      "text/plain": [
       "[1] 0"
      ]
     },
     "metadata": {},
     "output_type": "display_data"
    }
   ],
   "source": [
    "sum(is.na(single_est))\n",
    "sum(is.na(initial_numeric))"
   ]
  },
  {
   "cell_type": "code",
   "execution_count": 81,
   "metadata": {},
   "outputs": [
    {
     "data": {
      "text/html": [
       "Training error: NaN\n"
      ]
     },
     "metadata": {},
     "output_type": "display_data"
    },
    {
     "data": {
      "text/html": [
       "Testing error: NaN\n"
      ]
     },
     "metadata": {},
     "output_type": "display_data"
    },
    {
     "data": {
      "text/html": [
       0,
       0,
       0,
       0,
       0,
       0,
       0,
       0,
       0,
       0,
       0,
       0,
       0,
       0,
       0,
       0,
       0,
       0,
       0,
       0,
       0,
       0,
       0,
       0,
       0,
       0,
       0,
       0,
       0,
       0,
       0,
       0,
       0,
       0,
       0,
       0,
       0,
       0,
       0,
       0,
       0,
       0,
       0,
       0,
       0,
       0,
       0,
       0,
       0
      ]
     },
     "metadata": {},
     "output_type": "display_data"
    },
    {
     "name": "stderr",
     "output_type": "stream",
     "text": [
      "Warning message in if (theta[]) new_objV1 = new_objV1 + 1/2 * mean((Y[[t]] - X[[t]] %*% :\n",
      "“the condition has length > 1 and only the first element will be used”\n",
      "Warning message in if (theta[]) new_objV1 = new_objV1 + 1/2 * mean((Y[[t]] - X[[t]] %*% :\n",
      "“the condition has length > 1 and only the first element will be used”\n",
      "Warning message in if (theta[]) new_objV1 = new_objV1 + 1/2 * mean((Y[[t]] - X[[t]] %*% :\n",
      "“the condition has length > 1 and only the first element will be used”\n",
      "Warning message in if (theta[]) new_objV1 = new_objV1 + 1/2 * mean((Y[[t]] - X[[t]] %*% :\n",
      "“the condition has length > 1 and only the first element will be used”\n",
      "Warning message in if (theta[]) new_objV1 = new_objV1 + 1/2 * mean((Y[[t]] - X[[t]] %*% :\n",
      "“the condition has length > 1 and only the first element will be used”\n",
      "Warning message in if (theta[]) new_objV1 = new_objV1 + 1/2 * mean((Y[[t]] - X[[t]] %*% :\n",
      "“the condition has length > 1 and only the first element will be used”\n",
      "Warning message in if (theta[]) new_objV1 = new_objV1 + 1/2 * mean((Y[[t]] - X[[t]] %*% :\n",
      "“the condition has length > 1 and only the first element will be used”\n",
      "Warning message in if (theta[]) new_objV1 = new_objV1 + 1/2 * mean((Y[[t]] - X[[t]] %*% :\n",
      "“the condition has length > 1 and only the first element will be used”\n",
      "Warning message in if (theta[]) new_objV1 = new_objV1 + 1/2 * mean((Y[[t]] - X[[t]] %*% :\n",
      "“the condition has length > 1 and only the first element will be used”\n",
      "Warning message in if (theta[]) new_objV1 = new_objV1 + 1/2 * mean((Y[[t]] - X[[t]] %*% :\n",
      "“the condition has length > 1 and only the first element will be used”\n",
      "Warning message in if (theta[]) new_objV1 = new_objV1 + 1/2 * mean((Y[[t]] - X[[t]] %*% :\n",
      "“the condition has length > 1 and only the first element will be used”\n",
      "Warning message in if (theta[]) new_objV1 = new_objV1 + 1/2 * mean((Y[[t]] - X[[t]] %*% :\n",
      "“the condition has length > 1 and only the first element will be used”\n",
      "Warning message in if (theta[]) new_objV1 = new_objV1 + 1/2 * mean((Y[[t]] - X[[t]] %*% :\n",
      "“the condition has length > 1 and only the first element will be used”\n",
      "Warning message in if (theta[]) new_objV1 = new_objV1 + 1/2 * mean((Y[[t]] - X[[t]] %*% :\n",
      "“the condition has length > 1 and only the first element will be used”\n",
      "Warning message in if (theta[]) new_objV1 = new_objV1 + 1/2 * mean((Y[[t]] - X[[t]] %*% :\n",
      "“the condition has length > 1 and only the first element will be used”\n",
      "Warning message in if (theta[]) new_objV1 = new_objV1 + 1/2 * mean((Y[[t]] - X[[t]] %*% :\n",
      "“the condition has length > 1 and only the first element will be used”\n",
      "Warning message in if (theta[]) new_objV1 = new_objV1 + 1/2 * mean((Y[[t]] - X[[t]] %*% :\n",
      "“the condition has length > 1 and only the first element will be used”\n",
      "Warning message in if (theta[]) new_objV1 = new_objV1 + 1/2 * mean((Y[[t]] - X[[t]] %*% :\n",
      "“the condition has length > 1 and only the first element will be used”\n",
      "Warning message in if (theta[]) new_objV1 = new_objV1 + 1/2 * mean((Y[[t]] - X[[t]] %*% :\n",
      "“the condition has length > 1 and only the first element will be used”\n",
      "Warning message in if (theta[]) new_objV1 = new_objV1 + 1/2 * mean((Y[[t]] - X[[t]] %*% :\n",
      "“the condition has length > 1 and only the first element will be used”\n",
      "Warning message in if (theta[]) new_objV1 = new_objV1 + 1/2 * mean((Y[[t]] - X[[t]] %*% :\n",
      "“the condition has length > 1 and only the first element will be used”\n",
      "Warning message in if (theta[]) new_objV1 = new_objV1 + 1/2 * mean((Y[[t]] - X[[t]] %*% :\n",
      "“the condition has length > 1 and only the first element will be used”\n",
      "Warning message in if (theta[]) new_objV1 = new_objV1 + 1/2 * mean((Y[[t]] - X[[t]] %*% :\n",
      "“the condition has length > 1 and only the first element will be used”\n",
      "Warning message in if (theta[]) new_objV1 = new_objV1 + 1/2 * mean((Y[[t]] - X[[t]] %*% :\n",
      "“the condition has length > 1 and only the first element will be used”\n",
      "Warning message in if (theta[]) new_objV1 = new_objV1 + 1/2 * mean((Y[[t]] - X[[t]] %*% :\n",
      "“the condition has length > 1 and only the first element will be used”\n",
      "Warning message in if (theta[]) new_objV1 = new_objV1 + 1/2 * mean((Y[[t]] - X[[t]] %*% :\n",
      "“the condition has length > 1 and only the first element will be used”\n",
      "Warning message in if (theta[]) new_objV1 = new_objV1 + 1/2 * mean((Y[[t]] - X[[t]] %*% :\n",
      "“the condition has length > 1 and only the first element will be used”\n",
      "Warning message in if (theta[]) new_objV1 = new_objV1 + 1/2 * mean((Y[[t]] - X[[t]] %*% :\n",
      "“the condition has length > 1 and only the first element will be used”\n",
      "Warning message in if (theta[]) new_objV1 = new_objV1 + 1/2 * mean((Y[[t]] - X[[t]] %*% :\n",
      "“the condition has length > 1 and only the first element will be used”\n",
      "Warning message in if (theta[]) new_objV1 = new_objV1 + 1/2 * mean((Y[[t]] - X[[t]] %*% :\n",
      "“the condition has length > 1 and only the first element will be used”\n",
      "Warning message in if (theta[]) new_objV1 = new_objV1 + 1/2 * mean((Y[[t]] - X[[t]] %*% :\n",
      "“the condition has length > 1 and only the first element will be used”\n",
      "Warning message in if (theta[]) new_objV1 = new_objV1 + 1/2 * mean((Y[[t]] - X[[t]] %*% :\n",
      "“the condition has length > 1 and only the first element will be used”\n",
      "Warning message in if (theta[]) new_objV1 = new_objV1 + 1/2 * mean((Y[[t]] - X[[t]] %*% :\n",
      "“the condition has length > 1 and only the first element will be used”\n",
      "Warning message in if (theta[]) new_objV1 = new_objV1 + 1/2 * mean((Y[[t]] - X[[t]] %*% :\n",
      "“the condition has length > 1 and only the first element will be used”\n",
      "Warning message in if (theta[]) new_objV1 = new_objV1 + 1/2 * mean((Y[[t]] - X[[t]] %*% :\n",
      "“the condition has length > 1 and only the first element will be used”\n",
      "Warning message in if (theta[]) new_objV1 = new_objV1 + 1/2 * mean((Y[[t]] - X[[t]] %*% :\n",
      "“the condition has length > 1 and only the first element will be used”\n",
      "Warning message in if (theta[]) new_objV1 = new_objV1 + 1/2 * mean((Y[[t]] - X[[t]] %*% :\n",
      "“the condition has length > 1 and only the first element will be used”\n",
      "Warning message in if (theta[]) new_objV1 = new_objV1 + 1/2 * mean((Y[[t]] - X[[t]] %*% :\n",
      "“the condition has length > 1 and only the first element will be used”\n",
      "Warning message in if (theta[]) new_objV1 = new_objV1 + 1/2 * mean((Y[[t]] - X[[t]] %*% :\n",
      "“the condition has length > 1 and only the first element will be used”\n",
      "Warning message in if (theta[]) new_objV1 = new_objV1 + 1/2 * mean((Y[[t]] - X[[t]] %*% :\n",
      "“the condition has length > 1 and only the first element will be used”\n",
      "Warning message in if (theta[]) new_objV1 = new_objV1 + 1/2 * mean((Y[[t]] - X[[t]] %*% :\n",
      "“the condition has length > 1 and only the first element will be used”\n",
      "Warning message in if (theta[]) new_objV1 = new_objV1 + 1/2 * mean((Y[[t]] - X[[t]] %*% :\n",
      "“the condition has length > 1 and only the first element will be used”\n",
      "Warning message in if (theta[]) new_objV1 = new_objV1 + 1/2 * mean((Y[[t]] - X[[t]] %*% :\n",
      "“the condition has length > 1 and only the first element will be used”\n",
      "Warning message in if (theta[]) new_objV1 = new_objV1 + 1/2 * mean((Y[[t]] - X[[t]] %*% :\n",
      "“the condition has length > 1 and only the first element will be used”\n",
      "Warning message in if (theta[]) new_objV1 = new_objV1 + 1/2 * mean((Y[[t]] - X[[t]] %*% :\n",
      "“the condition has length > 1 and only the first element will be used”\n",
      "Warning message in if (theta[]) new_objV1 = new_objV1 + 1/2 * mean((Y[[t]] - X[[t]] %*% :\n",
      "“the condition has length > 1 and only the first element will be used”\n",
      "Warning message in if (theta[]) new_objV1 = new_objV1 + 1/2 * mean((Y[[t]] - X[[t]] %*% :\n",
      "“the condition has length > 1 and only the first element will be used”\n",
      "Warning message in if (theta[]) new_objV1 = new_objV1 + 1/2 * mean((Y[[t]] - X[[t]] %*% :\n",
      "“the condition has length > 1 and only the first element will be used”\n",
      "Warning message in if (theta[]) new_objV1 = new_objV1 + 1/2 * mean((Y[[t]] - X[[t]] %*% :\n",
      "“the condition has length > 1 and only the first element will be used”\n"
     ]
    },
    {
     "data": {
      "text/html": [
       "Training error: 0\n"
      ]
     },
     "metadata": {},
     "output_type": "display_data"
    },
    {
     "data": {
      "text/html": [
       "Testing error: NaN\n"
      ]
     },
     "metadata": {},
     "output_type": "display_data"
    },
    {
     "ename": "ERROR",
     "evalue": "Error in if (new_objV2 > old_objV2 | new_objV1 > old_objV1) {: missing value where TRUE/FALSE needed\n",
     "output_type": "error",
     "traceback": [
      "Error in if (new_objV2 > old_objV2 | new_objV1 > old_objV1) {: missing value where TRUE/FALSE needed\nTraceback:\n"
     ]
    }
   ],
   "source": [
    "# parameters\n",
    "lam = 1\n",
    "X=X_train\n",
    "Y=Y_train\n",
    "X1=X_tune\n",
    "Y1=Y_tune\n",
    "XX=XX_train\n",
    "Xnorm=Xnorm\n",
    "lambda1=lam_V[lam]\n",
    "lambda2=lam_V[lam]\n",
    "single_est = matrix(initial_numeric, M, P)\n",
    "theta=single_est\n",
    "maxiter = 10\n",
    "\n",
    "# wrapper function \n",
    "#dyn.load(\"/ysm-gpfs/pi/zhao/zy92/projects/utmost_update/CTIMP/optim.so\")\n",
    "dyn.load(\"/gpfs/project/zhao/zy92/utmost_update/CTIMP/optim.so\")\n",
    "\n",
    "bgt = Sys.time()\n",
    "M = nrow(XY)\n",
    "P = length(X)\n",
    "NN = unlist(lapply(X, nrow))\n",
    "old_objV1 = 0\n",
    "for(t in 1:P){\n",
    "    old_objV1 = old_objV1 + 1/2*mean((Y[[t]]-X[[t]]%*%theta[,t])^2)\n",
    "}\n",
    "IRdisplay::display_html(paste0(\"Training error: \", old_objV1, '\\n'))\n",
    "old_objV2 = 0\n",
    "for(t in 1:P){\n",
    "    old_objV2 = old_objV2 + 1/2*mean((Y1[[t]]-X1[[t]]%*%theta[,t])^2)\n",
    "}\n",
    "IRdisplay::display_html(paste0(\"Testing error: \", old_objV2, '\\n'))\n",
    "beta_j_lasso = rep(0, P)\n",
    "beta_j_lasso_matrix = rep(0, M*P)\n",
    "output_res = rep(0, P)\n",
    "tmp_XYj = 0\n",
    "\n",
    "for(i in 1:maxiter){\n",
    "    bgt = Sys.time()\n",
    "    res = .Call(\"wrapper\", XX, XY, theta, M, P, beta_j_lasso, beta_j_lasso_matrix, lambda1, lambda2, Xnorm, output_res)\n",
    "    #IRdisplay::display_html(res)\n",
    "    edt = Sys.time()\n",
    "    #print(edt-bgt)\n",
    "    IRdisplay::display_html(beta_j_lasso)\n",
    "    #IRdisplay::display_html(theta[1:6, 1:6])\n",
    "    new_objV1 = new_objV2 = 0\n",
    "    for(t in 1:P){\n",
    "        if (theta[])\n",
    "        new_objV1 = new_objV1 + 1/2*mean((Y[[t]]-X[[t]]%*%theta[,t])^2)\n",
    "        #IRdisplay::display_html(sum(is.na(X[[t]])))\n",
    "        #IRdisplay::display_html(sum(is.na(Y[[t]])))\n",
    "        #IRdisplay::display_html(theta[,t])\n",
    "    }\n",
    "    IRdisplay::display_html(paste0(\"Training error: \", new_objV1, '\\n'))\n",
    "    for(t in 1:P){\n",
    "        new_objV2 = new_objV2 + 1/2*mean((Y1[[t]]-X1[[t]]%*%theta[,t])^2)\n",
    "        #IRdisplay::display_html(sum(is.na(X[[t]])))\n",
    "        #IRdisplay::display_html(sum(is.na(Y[[t]])))\n",
    "        #IRdisplay::display_html(theta[,t])\n",
    "    }\n",
    "    IRdisplay::display_html(paste0(\"Testing error: \", new_objV2, '\\n'))\n",
    "    if(new_objV2 > old_objV2|new_objV1 > old_objV1){\n",
    "        break\n",
    "    }else{\n",
    "        old_objV2 = new_objV2\n",
    "    }\n",
    "    if(abs(new_objV1-old_objV1) < eps){\n",
    "        break\n",
    "    }else{\n",
    "        old_objV1 = new_objV1\n",
    "    }\n",
    "}\n",
    "#edt = Sys.time()\n",
    "#print(edt-bgt)\n",
    "#list(est = theta, tune_err = new_objV2)"
   ]
  },
  {
   "cell_type": "code",
   "execution_count": 56,
   "metadata": {},
   "outputs": [
    {
     "data": {
      "text/html": [
       "348243"
      ],
      "text/latex": [
       "348243"
      ],
      "text/markdown": [
       "348243"
      ],
      "text/plain": [
       "[1] 348243"
      ]
     },
     "metadata": {},
     "output_type": "display_data"
    },
    {
     "data": {
      "text/html": [
       "0"
      ],
      "text/latex": [
       "0"
      ],
      "text/markdown": [
       "0"
      ],
      "text/plain": [
       "[1] 0"
      ]
     },
     "metadata": {},
     "output_type": "display_data"
    },
    {
     "data": {
      "text/html": [
       "0"
      ],
      "text/latex": [
       "0"
      ],
      "text/markdown": [
       "0"
      ],
      "text/plain": [
       "[1] 0"
      ]
     },
     "metadata": {},
     "output_type": "display_data"
    }
   ],
   "source": [
    "length(beta_j_lasso_matrix)\n",
    "sum(is.na(beta_j_lasso_matrix))\n",
    "sum(is.infinite(beta_j_lasso_matrix))"
   ]
  },
  {
   "cell_type": "code",
   "execution_count": 57,
   "metadata": {},
   "outputs": [
    {
     "data": {
      "text/html": [
       "0"
      ],
      "text/latex": [
       "0"
      ],
      "text/markdown": [
       "0"
      ],
      "text/plain": [
       "[1] 0"
      ]
     },
     "metadata": {},
     "output_type": "display_data"
    },
    {
     "data": {
      "text/html": [
       "0"
      ],
      "text/latex": [
       "0"
      ],
      "text/markdown": [
       "0"
      ],
      "text/plain": [
       "[1] 0"
      ]
     },
     "metadata": {},
     "output_type": "display_data"
    },
    {
     "data": {
      "text/html": [
       "48"
      ],
      "text/latex": [
       "48"
      ],
      "text/markdown": [
       "48"
      ],
      "text/plain": [
       "[1] 48"
      ]
     },
     "metadata": {},
     "output_type": "display_data"
    },
    {
     "data": {
      "text/html": [
       "236"
      ],
      "text/latex": [
       "236"
      ],
      "text/markdown": [
       "236"
      ],
      "text/plain": [
       "[1] 236"
      ]
     },
     "metadata": {},
     "output_type": "display_data"
    },
    {
     "data": {
      "text/html": [
       "48"
      ],
      "text/latex": [
       "48"
      ],
      "text/markdown": [
       "48"
      ],
      "text/plain": [
       "[1] 48"
      ]
     },
     "metadata": {},
     "output_type": "display_data"
    },
    {
     "data": {
      "text/html": [
       "236"
      ],
      "text/latex": [
       "236"
      ],
      "text/markdown": [
       "236"
      ],
      "text/plain": [
       "[1] 236"
      ]
     },
     "metadata": {},
     "output_type": "display_data"
    }
   ],
   "source": [
    "sum(is.na(initial_numeric))\n",
    "sum(is.infinite(initial_numeric))\n",
    "sum(is.na(single_est))\n",
    "sum(is.infinite(single_est))\n",
    "sum(is.na(theta))\n",
    "sum(is.infinite(theta))"
   ]
  },
  {
   "cell_type": "code",
   "execution_count": 92,
   "metadata": {},
   "outputs": [
    {
     "data": {
      "text/html": [
       "NaN"
      ],
      "text/latex": [
       "NaN"
      ],
      "text/markdown": [
       "NaN"
      ],
      "text/plain": [
       "[1] NaN"
      ]
     },
     "metadata": {},
     "output_type": "display_data"
    }
   ],
   "source": [
    "# parameters\n",
    "lam = 1\n",
    "X=X_train\n",
    "Y=Y_train\n",
    "X1=X_tune\n",
    "Y1=Y_tune\n",
    "XX=XX_train\n",
    "Xnorm=Xnorm\n",
    "lambda1=lam_V[lam]\n",
    "lambda2=lam_V[lam]\n",
    "single_est = matrix(initial_numeric, M, P)\n",
    "theta=single_est\n",
    "maxiter = 10\n",
    "\n",
    "1/2*mean((Y[[t]]-X[[t]]%*%theta[,t])^2)"
   ]
  },
  {
   "cell_type": "code",
   "execution_count": 97,
   "metadata": {},
   "outputs": [
    {
     "data": {
      "text/html": [
       "0"
      ],
      "text/latex": [
       "0"
      ],
      "text/markdown": [
       "0"
      ],
      "text/plain": [
       "[1] 0"
      ]
     },
     "metadata": {},
     "output_type": "display_data"
    },
    {
     "data": {
      "text/html": [
       "0"
      ],
      "text/latex": [
       "0"
      ],
      "text/markdown": [
       "0"
      ],
      "text/plain": [
       "[1] 0"
      ]
     },
     "metadata": {},
     "output_type": "display_data"
    },
    {
     "data": {
      "text/html": [
       "0"
      ],
      "text/latex": [
       "0"
      ],
      "text/markdown": [
       "0"
      ],
      "text/plain": [
       "[1] 0"
      ]
     },
     "metadata": {},
     "output_type": "display_data"
    },
    {
     "data": {
      "text/html": [
       "122"
      ],
      "text/latex": [
       "122"
      ],
      "text/markdown": [
       "122"
      ],
      "text/plain": [
       "[1] 122"
      ]
     },
     "metadata": {},
     "output_type": "display_data"
    }
   ],
   "source": [
    "sum(is.na(X[[t]]))\n",
    "sum(is.na(initial_numeric))\n",
    "sum(is.na(theta[,t]))\n",
    "sum(is.na(X[[t]]%*%theta[,t]))"
   ]
  },
  {
   "cell_type": "code",
   "execution_count": 121,
   "metadata": {},
   "outputs": [
    {
     "data": {
      "text/html": [
       "98"
      ],
      "text/latex": [
       "98"
      ],
      "text/markdown": [
       "98"
      ],
      "text/plain": [
       "[1] 98"
      ]
     },
     "metadata": {},
     "output_type": "display_data"
    }
   ],
   "source": [
    "sum(is.infinite(initial_numeric))"
   ]
  },
  {
   "cell_type": "code",
   "execution_count": 109,
   "metadata": {},
   "outputs": [
    {
     "data": {
      "text/html": [
       "<style>\n",
       ".list-inline {list-style: none; margin:0; padding: 0}\n",
       ".list-inline>li {display: inline-block}\n",
       ".list-inline>li:not(:last-child)::after {content: \"\\00b7\"; padding: 0 .5ex}\n",
       "</style>\n",
       "<ol class=list-inline><li>273</li><li>1</li></ol>\n"
      ],
      "text/latex": [
       "\\begin{enumerate*}\n",
       "\\item 273\n",
       "\\item 1\n",
       "\\end{enumerate*}\n"
      ],
      "text/markdown": [
       "1. 273\n",
       "2. 1\n",
       "\n",
       "\n"
      ],
      "text/plain": [
       "[1] 273   1"
      ]
     },
     "metadata": {},
     "output_type": "display_data"
    }
   ],
   "source": [
    "dim(X[[t]]%*%theta[,t])"
   ]
  },
  {
   "cell_type": "code",
   "execution_count": 113,
   "metadata": {},
   "outputs": [
    {
     "data": {
      "text/html": [
       "<table>\n",
       "<caption>A matrix: 6 × 6 of type dbl</caption>\n",
       "<thead>\n",
       "\t<tr><th scope=col>chr1_23357048_G_A_b38</th><th scope=col>chr1_23357994_G_A_b38</th><th scope=col>chr1_23358241_G_A_b38</th><th scope=col>chr1_23358544_A_G_b38</th><th scope=col>chr1_23358915_T_C_b38</th><th scope=col>chr1_23358996_C_T_b38</th></tr>\n",
       "</thead>\n",
       "<tbody>\n",
       "\t<tr><td>-0.2195704</td><td>-0.2195704</td><td>-0.2195704</td><td>-0.04415274</td><td>-0.2637232</td><td> 0.8508353</td></tr>\n",
       "\t<tr><td>-0.2195704</td><td>-0.2195704</td><td>-0.2195704</td><td>-0.04415274</td><td>-0.2637232</td><td>-0.1491647</td></tr>\n",
       "\t<tr><td>-0.2195704</td><td>-0.2195704</td><td>-0.2195704</td><td>-0.04415274</td><td>-0.2637232</td><td>-0.1491647</td></tr>\n",
       "\t<tr><td>-0.2195704</td><td>-0.2195704</td><td>-0.2195704</td><td> 0.95584726</td><td> 0.7362768</td><td>-0.1491647</td></tr>\n",
       "\t<tr><td>-0.2195704</td><td>-0.2195704</td><td>-0.2195704</td><td>-0.04415274</td><td>-0.2637232</td><td> 1.8508353</td></tr>\n",
       "\t<tr><td>-0.2195704</td><td>-0.2195704</td><td>-0.2195704</td><td>-0.04415274</td><td>-0.2637232</td><td>-0.1491647</td></tr>\n",
       "</tbody>\n",
       "</table>\n"
      ],
      "text/latex": [
       "A matrix: 6 × 6 of type dbl\n",
       "\\begin{tabular}{llllll}\n",
       " chr1\\_23357048\\_G\\_A\\_b38 & chr1\\_23357994\\_G\\_A\\_b38 & chr1\\_23358241\\_G\\_A\\_b38 & chr1\\_23358544\\_A\\_G\\_b38 & chr1\\_23358915\\_T\\_C\\_b38 & chr1\\_23358996\\_C\\_T\\_b38\\\\\n",
       "\\hline\n",
       "\t -0.2195704 & -0.2195704 & -0.2195704 & -0.04415274 & -0.2637232 &  0.8508353\\\\\n",
       "\t -0.2195704 & -0.2195704 & -0.2195704 & -0.04415274 & -0.2637232 & -0.1491647\\\\\n",
       "\t -0.2195704 & -0.2195704 & -0.2195704 & -0.04415274 & -0.2637232 & -0.1491647\\\\\n",
       "\t -0.2195704 & -0.2195704 & -0.2195704 &  0.95584726 &  0.7362768 & -0.1491647\\\\\n",
       "\t -0.2195704 & -0.2195704 & -0.2195704 & -0.04415274 & -0.2637232 &  1.8508353\\\\\n",
       "\t -0.2195704 & -0.2195704 & -0.2195704 & -0.04415274 & -0.2637232 & -0.1491647\\\\\n",
       "\\end{tabular}\n"
      ],
      "text/markdown": [
       "\n",
       "A matrix: 6 × 6 of type dbl\n",
       "\n",
       "| chr1_23357048_G_A_b38 | chr1_23357994_G_A_b38 | chr1_23358241_G_A_b38 | chr1_23358544_A_G_b38 | chr1_23358915_T_C_b38 | chr1_23358996_C_T_b38 |\n",
       "|---|---|---|---|---|---|\n",
       "| -0.2195704 | -0.2195704 | -0.2195704 | -0.04415274 | -0.2637232 |  0.8508353 |\n",
       "| -0.2195704 | -0.2195704 | -0.2195704 | -0.04415274 | -0.2637232 | -0.1491647 |\n",
       "| -0.2195704 | -0.2195704 | -0.2195704 | -0.04415274 | -0.2637232 | -0.1491647 |\n",
       "| -0.2195704 | -0.2195704 | -0.2195704 |  0.95584726 |  0.7362768 | -0.1491647 |\n",
       "| -0.2195704 | -0.2195704 | -0.2195704 | -0.04415274 | -0.2637232 |  1.8508353 |\n",
       "| -0.2195704 | -0.2195704 | -0.2195704 | -0.04415274 | -0.2637232 | -0.1491647 |\n",
       "\n"
      ],
      "text/plain": [
       "     chr1_23357048_G_A_b38 chr1_23357994_G_A_b38 chr1_23358241_G_A_b38\n",
       "[1,] -0.2195704            -0.2195704            -0.2195704           \n",
       "[2,] -0.2195704            -0.2195704            -0.2195704           \n",
       "[3,] -0.2195704            -0.2195704            -0.2195704           \n",
       "[4,] -0.2195704            -0.2195704            -0.2195704           \n",
       "[5,] -0.2195704            -0.2195704            -0.2195704           \n",
       "[6,] -0.2195704            -0.2195704            -0.2195704           \n",
       "     chr1_23358544_A_G_b38 chr1_23358915_T_C_b38 chr1_23358996_C_T_b38\n",
       "[1,] -0.04415274           -0.2637232             0.8508353           \n",
       "[2,] -0.04415274           -0.2637232            -0.1491647           \n",
       "[3,] -0.04415274           -0.2637232            -0.1491647           \n",
       "[4,]  0.95584726            0.7362768            -0.1491647           \n",
       "[5,] -0.04415274           -0.2637232             1.8508353           \n",
       "[6,] -0.04415274           -0.2637232            -0.1491647           "
      ]
     },
     "metadata": {},
     "output_type": "display_data"
    },
    {
     "data": {
      "text/html": [
       "<style>\n",
       ".list-inline {list-style: none; margin:0; padding: 0}\n",
       ".list-inline>li {display: inline-block}\n",
       ".list-inline>li:not(:last-child)::after {content: \"\\00b7\"; padding: 0 .5ex}\n",
       "</style>\n",
       "<ol class=list-inline><li>-0.00613408336157477</li><li>-0.00701696757204621</li><li>-0.00319491747304993</li><li>0.00993761556082119</li><li>-0.00779394109415477</li><li>0.00202603961357956</li><li>-0.00593402447203296</li><li>0.00627438214039869</li><li>0.00180046207619568</li><li>0.00257074566595325</li><li>-0.0059596948551301</li><li>-0.00263058559042623</li><li>0.0121696526240775</li><li>0.00608874203051584</li><li>-0.0236679421831548</li><li>0.0031650989461491</li><li>-0.00596179861855283</li><li>0.00886399678019368</li><li>-0.0033226988903268</li><li>0.0301466802929564</li></ol>\n"
      ],
      "text/latex": [
       "\\begin{enumerate*}\n",
       "\\item -0.00613408336157477\n",
       "\\item -0.00701696757204621\n",
       "\\item -0.00319491747304993\n",
       "\\item 0.00993761556082119\n",
       "\\item -0.00779394109415477\n",
       "\\item 0.00202603961357956\n",
       "\\item -0.00593402447203296\n",
       "\\item 0.00627438214039869\n",
       "\\item 0.00180046207619568\n",
       "\\item 0.00257074566595325\n",
       "\\item -0.0059596948551301\n",
       "\\item -0.00263058559042623\n",
       "\\item 0.0121696526240775\n",
       "\\item 0.00608874203051584\n",
       "\\item -0.0236679421831548\n",
       "\\item 0.0031650989461491\n",
       "\\item -0.00596179861855283\n",
       "\\item 0.00886399678019368\n",
       "\\item -0.0033226988903268\n",
       "\\item 0.0301466802929564\n",
       "\\end{enumerate*}\n"
      ],
      "text/markdown": [
       "1. -0.00613408336157477\n",
       "2. -0.00701696757204621\n",
       "3. -0.00319491747304993\n",
       "4. 0.00993761556082119\n",
       "5. -0.00779394109415477\n",
       "6. 0.00202603961357956\n",
       "7. -0.00593402447203296\n",
       "8. 0.00627438214039869\n",
       "9. 0.00180046207619568\n",
       "10. 0.00257074566595325\n",
       "11. -0.0059596948551301\n",
       "12. -0.00263058559042623\n",
       "13. 0.0121696526240775\n",
       "14. 0.00608874203051584\n",
       "15. -0.0236679421831548\n",
       "16. 0.0031650989461491\n",
       "17. -0.00596179861855283\n",
       "18. 0.00886399678019368\n",
       "19. -0.0033226988903268\n",
       "20. 0.0301466802929564\n",
       "\n",
       "\n"
      ],
      "text/plain": [
       " [1] -0.006134083 -0.007016968 -0.003194917  0.009937616 -0.007793941\n",
       " [6]  0.002026040 -0.005934024  0.006274382  0.001800462  0.002570746\n",
       "[11] -0.005959695 -0.002630586  0.012169653  0.006088742 -0.023667942\n",
       "[16]  0.003165099 -0.005961799  0.008863997 -0.003322699  0.030146680"
      ]
     },
     "metadata": {},
     "output_type": "display_data"
    }
   ],
   "source": [
    "X[[t]][1:6, 1:6]\n",
    "theta[, t][1:20]"
   ]
  },
  {
   "cell_type": "code",
   "execution_count": 111,
   "metadata": {},
   "outputs": [
    {
     "data": {
      "text/html": [
       "<table>\n",
       "<caption>A matrix: 273 × 1 of type dbl</caption>\n",
       "<tbody>\n",
       "\t<tr><td> Inf</td></tr>\n",
       "\t<tr><td> NaN</td></tr>\n",
       "\t<tr><td> NaN</td></tr>\n",
       "\t<tr><td>-Inf</td></tr>\n",
       "\t<tr><td> NaN</td></tr>\n",
       "\t<tr><td>-Inf</td></tr>\n",
       "\t<tr><td> NaN</td></tr>\n",
       "\t<tr><td>-Inf</td></tr>\n",
       "\t<tr><td> NaN</td></tr>\n",
       "\t<tr><td> Inf</td></tr>\n",
       "\t<tr><td> Inf</td></tr>\n",
       "\t<tr><td> NaN</td></tr>\n",
       "\t<tr><td>-Inf</td></tr>\n",
       "\t<tr><td> NaN</td></tr>\n",
       "\t<tr><td>-Inf</td></tr>\n",
       "\t<tr><td>-Inf</td></tr>\n",
       "\t<tr><td> NaN</td></tr>\n",
       "\t<tr><td>-Inf</td></tr>\n",
       "\t<tr><td> NaN</td></tr>\n",
       "\t<tr><td> Inf</td></tr>\n",
       "\t<tr><td> NaN</td></tr>\n",
       "\t<tr><td>-Inf</td></tr>\n",
       "\t<tr><td> NaN</td></tr>\n",
       "\t<tr><td> NaN</td></tr>\n",
       "\t<tr><td>-Inf</td></tr>\n",
       "\t<tr><td>-Inf</td></tr>\n",
       "\t<tr><td> Inf</td></tr>\n",
       "\t<tr><td> Inf</td></tr>\n",
       "\t<tr><td>-Inf</td></tr>\n",
       "\t<tr><td> NaN</td></tr>\n",
       "\t<tr><td>⋮</td></tr>\n",
       "\t<tr><td> NaN</td></tr>\n",
       "\t<tr><td>-Inf</td></tr>\n",
       "\t<tr><td> NaN</td></tr>\n",
       "\t<tr><td> Inf</td></tr>\n",
       "\t<tr><td>-Inf</td></tr>\n",
       "\t<tr><td>-Inf</td></tr>\n",
       "\t<tr><td>-Inf</td></tr>\n",
       "\t<tr><td> NaN</td></tr>\n",
       "\t<tr><td>-Inf</td></tr>\n",
       "\t<tr><td> Inf</td></tr>\n",
       "\t<tr><td>-Inf</td></tr>\n",
       "\t<tr><td> NaN</td></tr>\n",
       "\t<tr><td>-Inf</td></tr>\n",
       "\t<tr><td>-Inf</td></tr>\n",
       "\t<tr><td> NaN</td></tr>\n",
       "\t<tr><td> Inf</td></tr>\n",
       "\t<tr><td> Inf</td></tr>\n",
       "\t<tr><td> NaN</td></tr>\n",
       "\t<tr><td> NaN</td></tr>\n",
       "\t<tr><td> NaN</td></tr>\n",
       "\t<tr><td>-Inf</td></tr>\n",
       "\t<tr><td>-Inf</td></tr>\n",
       "\t<tr><td>-Inf</td></tr>\n",
       "\t<tr><td> Inf</td></tr>\n",
       "\t<tr><td> NaN</td></tr>\n",
       "\t<tr><td>-Inf</td></tr>\n",
       "\t<tr><td> Inf</td></tr>\n",
       "\t<tr><td>-Inf</td></tr>\n",
       "\t<tr><td> NaN</td></tr>\n",
       "\t<tr><td> NaN</td></tr>\n",
       "</tbody>\n",
       "</table>\n"
      ],
      "text/latex": [
       "A matrix: 273 × 1 of type dbl\n",
       "\\begin{tabular}{l}\n",
       "\t  Inf\\\\\n",
       "\t  NaN\\\\\n",
       "\t  NaN\\\\\n",
       "\t -Inf\\\\\n",
       "\t  NaN\\\\\n",
       "\t -Inf\\\\\n",
       "\t  NaN\\\\\n",
       "\t -Inf\\\\\n",
       "\t  NaN\\\\\n",
       "\t  Inf\\\\\n",
       "\t  Inf\\\\\n",
       "\t  NaN\\\\\n",
       "\t -Inf\\\\\n",
       "\t  NaN\\\\\n",
       "\t -Inf\\\\\n",
       "\t -Inf\\\\\n",
       "\t  NaN\\\\\n",
       "\t -Inf\\\\\n",
       "\t  NaN\\\\\n",
       "\t  Inf\\\\\n",
       "\t  NaN\\\\\n",
       "\t -Inf\\\\\n",
       "\t  NaN\\\\\n",
       "\t  NaN\\\\\n",
       "\t -Inf\\\\\n",
       "\t -Inf\\\\\n",
       "\t  Inf\\\\\n",
       "\t  Inf\\\\\n",
       "\t -Inf\\\\\n",
       "\t  NaN\\\\\n",
       "\t ⋮\\\\\n",
       "\t  NaN\\\\\n",
       "\t -Inf\\\\\n",
       "\t  NaN\\\\\n",
       "\t  Inf\\\\\n",
       "\t -Inf\\\\\n",
       "\t -Inf\\\\\n",
       "\t -Inf\\\\\n",
       "\t  NaN\\\\\n",
       "\t -Inf\\\\\n",
       "\t  Inf\\\\\n",
       "\t -Inf\\\\\n",
       "\t  NaN\\\\\n",
       "\t -Inf\\\\\n",
       "\t -Inf\\\\\n",
       "\t  NaN\\\\\n",
       "\t  Inf\\\\\n",
       "\t  Inf\\\\\n",
       "\t  NaN\\\\\n",
       "\t  NaN\\\\\n",
       "\t  NaN\\\\\n",
       "\t -Inf\\\\\n",
       "\t -Inf\\\\\n",
       "\t -Inf\\\\\n",
       "\t  Inf\\\\\n",
       "\t  NaN\\\\\n",
       "\t -Inf\\\\\n",
       "\t  Inf\\\\\n",
       "\t -Inf\\\\\n",
       "\t  NaN\\\\\n",
       "\t  NaN\\\\\n",
       "\\end{tabular}\n"
      ],
      "text/markdown": [
       "\n",
       "A matrix: 273 × 1 of type dbl\n",
       "\n",
       "|  Inf |\n",
       "|  NaN |\n",
       "|  NaN |\n",
       "| -Inf |\n",
       "|  NaN |\n",
       "| -Inf |\n",
       "|  NaN |\n",
       "| -Inf |\n",
       "|  NaN |\n",
       "|  Inf |\n",
       "|  Inf |\n",
       "|  NaN |\n",
       "| -Inf |\n",
       "|  NaN |\n",
       "| -Inf |\n",
       "| -Inf |\n",
       "|  NaN |\n",
       "| -Inf |\n",
       "|  NaN |\n",
       "|  Inf |\n",
       "|  NaN |\n",
       "| -Inf |\n",
       "|  NaN |\n",
       "|  NaN |\n",
       "| -Inf |\n",
       "| -Inf |\n",
       "|  Inf |\n",
       "|  Inf |\n",
       "| -Inf |\n",
       "|  NaN |\n",
       "| ⋮ |\n",
       "|  NaN |\n",
       "| -Inf |\n",
       "|  NaN |\n",
       "|  Inf |\n",
       "| -Inf |\n",
       "| -Inf |\n",
       "| -Inf |\n",
       "|  NaN |\n",
       "| -Inf |\n",
       "|  Inf |\n",
       "| -Inf |\n",
       "|  NaN |\n",
       "| -Inf |\n",
       "| -Inf |\n",
       "|  NaN |\n",
       "|  Inf |\n",
       "|  Inf |\n",
       "|  NaN |\n",
       "|  NaN |\n",
       "|  NaN |\n",
       "| -Inf |\n",
       "| -Inf |\n",
       "| -Inf |\n",
       "|  Inf |\n",
       "|  NaN |\n",
       "| -Inf |\n",
       "|  Inf |\n",
       "| -Inf |\n",
       "|  NaN |\n",
       "|  NaN |\n",
       "\n"
      ],
      "text/plain": [
       "      [,1]\n",
       " [1,]  Inf\n",
       " [2,]  NaN\n",
       " [3,]  NaN\n",
       " [4,] -Inf\n",
       " [5,]  NaN\n",
       " [6,] -Inf\n",
       " [7,]  NaN\n",
       " [8,] -Inf\n",
       " [9,]  NaN\n",
       "[10,]  Inf\n",
       "[11,]  Inf\n",
       "[12,]  NaN\n",
       "[13,] -Inf\n",
       "[14,]  NaN\n",
       "[15,] -Inf\n",
       "[16,] -Inf\n",
       "[17,]  NaN\n",
       "[18,] -Inf\n",
       "[19,]  NaN\n",
       "[20,]  Inf\n",
       "[21,]  NaN\n",
       "[22,] -Inf\n",
       "[23,]  NaN\n",
       "[24,]  NaN\n",
       "[25,] -Inf\n",
       "[26,] -Inf\n",
       "[27,]  Inf\n",
       "[28,]  Inf\n",
       "[29,] -Inf\n",
       "[30,]  NaN\n",
       "[31,] ⋮   \n",
       "[32,]  NaN\n",
       "[33,] -Inf\n",
       "[34,]  NaN\n",
       "[35,]  Inf\n",
       "[36,] -Inf\n",
       "[37,] -Inf\n",
       "[38,] -Inf\n",
       "[39,]  NaN\n",
       "[40,] -Inf\n",
       "[41,]  Inf\n",
       "[42,] -Inf\n",
       "[43,]  NaN\n",
       "[44,] -Inf\n",
       "[45,] -Inf\n",
       "[46,]  NaN\n",
       "[47,]  Inf\n",
       "[48,]  Inf\n",
       "[49,]  NaN\n",
       "[50,]  NaN\n",
       "[51,]  NaN\n",
       "[52,] -Inf\n",
       "[53,] -Inf\n",
       "[54,] -Inf\n",
       "[55,]  Inf\n",
       "[56,]  NaN\n",
       "[57,] -Inf\n",
       "[58,]  Inf\n",
       "[59,] -Inf\n",
       "[60,]  NaN\n",
       "[61,]  NaN"
      ]
     },
     "metadata": {},
     "output_type": "display_data"
    }
   ],
   "source": [
    "X[[t]]%*%theta[,t]"
   ]
  },
  {
   "cell_type": "code",
   "execution_count": 114,
   "metadata": {},
   "outputs": [
    {
     "data": {
      "text/html": [
       "<table>\n",
       "<caption>A matrix: 6 × 1 of type dbl</caption>\n",
       "<tbody>\n",
       "\t<tr><td>0.006929587</td></tr>\n",
       "\t<tr><td>0.004903547</td></tr>\n",
       "\t<tr><td>0.004903547</td></tr>\n",
       "\t<tr><td>0.007047222</td></tr>\n",
       "\t<tr><td>0.008955626</td></tr>\n",
       "\t<tr><td>0.004903547</td></tr>\n",
       "</tbody>\n",
       "</table>\n"
      ],
      "text/latex": [
       "A matrix: 6 × 1 of type dbl\n",
       "\\begin{tabular}{l}\n",
       "\t 0.006929587\\\\\n",
       "\t 0.004903547\\\\\n",
       "\t 0.004903547\\\\\n",
       "\t 0.007047222\\\\\n",
       "\t 0.008955626\\\\\n",
       "\t 0.004903547\\\\\n",
       "\\end{tabular}\n"
      ],
      "text/markdown": [
       "\n",
       "A matrix: 6 × 1 of type dbl\n",
       "\n",
       "| 0.006929587 |\n",
       "| 0.004903547 |\n",
       "| 0.004903547 |\n",
       "| 0.007047222 |\n",
       "| 0.008955626 |\n",
       "| 0.004903547 |\n",
       "\n"
      ],
      "text/plain": [
       "     [,1]       \n",
       "[1,] 0.006929587\n",
       "[2,] 0.004903547\n",
       "[3,] 0.004903547\n",
       "[4,] 0.007047222\n",
       "[5,] 0.008955626\n",
       "[6,] 0.004903547"
      ]
     },
     "metadata": {},
     "output_type": "display_data"
    }
   ],
   "source": [
    "X[[t]][1:6, 1:6]%*%theta[,t][1:6]"
   ]
  },
  {
   "cell_type": "code",
   "execution_count": 119,
   "metadata": {},
   "outputs": [
    {
     "data": {
      "text/html": [
       "0"
      ],
      "text/latex": [
       "0"
      ],
      "text/markdown": [
       "0"
      ],
      "text/plain": [
       "[1] 0"
      ]
     },
     "metadata": {},
     "output_type": "display_data"
    },
    {
     "data": {
      "text/html": [
       "2"
      ],
      "text/latex": [
       "2"
      ],
      "text/markdown": [
       "2"
      ],
      "text/plain": [
       "[1] 2"
      ]
     },
     "metadata": {},
     "output_type": "display_data"
    },
    {
     "data": {
      "text/html": [
       "<style>\n",
       ".list-inline {list-style: none; margin:0; padding: 0}\n",
       ".list-inline>li {display: inline-block}\n",
       ".list-inline>li:not(:last-child)::after {content: \"\\00b7\"; padding: 0 .5ex}\n",
       "</style>\n",
       "<ol class=list-inline><li>839</li><li>840</li></ol>\n"
      ],
      "text/latex": [
       "\\begin{enumerate*}\n",
       "\\item 839\n",
       "\\item 840\n",
       "\\end{enumerate*}\n"
      ],
      "text/markdown": [
       "1. 839\n",
       "2. 840\n",
       "\n",
       "\n"
      ],
      "text/plain": [
       "[1] 839 840"
      ]
     },
     "metadata": {},
     "output_type": "display_data"
    }
   ],
   "source": [
    "sum(is.na(theta[,t][1:7106]))\n",
    "sum(is.infinite(theta[,t][1:7106]))\n",
    "which(is.infinite(theta[,t][1:7106]))"
   ]
  },
  {
   "cell_type": "code",
   "execution_count": 120,
   "metadata": {},
   "outputs": [
    {
     "data": {
      "text/html": [
       "Inf"
      ],
      "text/latex": [
       "Inf"
      ],
      "text/markdown": [
       "Inf"
      ],
      "text/plain": [
       "[1] Inf"
      ]
     },
     "metadata": {},
     "output_type": "display_data"
    }
   ],
   "source": [
    "theta[839]"
   ]
  },
  {
   "cell_type": "code",
   "execution_count": 116,
   "metadata": {},
   "outputs": [
    {
     "data": {
      "text/html": [
       "<table>\n",
       "<caption>A matrix: 6 × 1 of type dbl</caption>\n",
       "<tbody>\n",
       "\t<tr><td> Inf</td></tr>\n",
       "\t<tr><td> NaN</td></tr>\n",
       "\t<tr><td> NaN</td></tr>\n",
       "\t<tr><td>-Inf</td></tr>\n",
       "\t<tr><td> NaN</td></tr>\n",
       "\t<tr><td>-Inf</td></tr>\n",
       "</tbody>\n",
       "</table>\n"
      ],
      "text/latex": [
       "A matrix: 6 × 1 of type dbl\n",
       "\\begin{tabular}{l}\n",
       "\t  Inf\\\\\n",
       "\t  NaN\\\\\n",
       "\t  NaN\\\\\n",
       "\t -Inf\\\\\n",
       "\t  NaN\\\\\n",
       "\t -Inf\\\\\n",
       "\\end{tabular}\n"
      ],
      "text/markdown": [
       "\n",
       "A matrix: 6 × 1 of type dbl\n",
       "\n",
       "|  Inf |\n",
       "|  NaN |\n",
       "|  NaN |\n",
       "| -Inf |\n",
       "|  NaN |\n",
       "| -Inf |\n",
       "\n"
      ],
      "text/plain": [
       "     [,1]\n",
       "[1,]  Inf\n",
       "[2,]  NaN\n",
       "[3,]  NaN\n",
       "[4,] -Inf\n",
       "[5,]  NaN\n",
       "[6,] -Inf"
      ]
     },
     "metadata": {},
     "output_type": "display_data"
    }
   ],
   "source": [
    "X[[t]][1:6, 1:7106]%*%theta[,t][1:7106]"
   ]
  },
  {
   "cell_type": "code",
   "execution_count": 110,
   "metadata": {},
   "outputs": [
    {
     "data": {
      "image/png": "[encoded data removed]",
      "text/plain": [
       "Plot with title “Histogram of X[[t]]”"
      ]
     },
     "metadata": {
      "image/png": {
       "height": 420,
       "width": 420
      },
      "text/plain": {
       "height": 420,
       "width": 420
      }
     },
     "output_type": "display_data"
    }
   ],
   "source": [
    "hist(X[[t]])"
   ]
  },
  {
   "cell_type": "code",
   "execution_count": 107,
   "metadata": {},
   "outputs": [
    {
     "data": {
      "text/html": [
       "<style>\n",
       ".list-inline {list-style: none; margin:0; padding: 0}\n",
       ".list-inline>li {display: inline-block}\n",
       ".list-inline>li:not(:last-child)::after {content: \"\\00b7\"; padding: 0 .5ex}\n",
       "</style>\n",
       "<ol class=list-inline><li>273</li><li>7107</li></ol>\n"
      ],
      "text/latex": [
       "\\begin{enumerate*}\n",
       "\\item 273\n",
       "\\item 7107\n",
       "\\end{enumerate*}\n"
      ],
      "text/markdown": [
       "1. 273\n",
       "2. 7107\n",
       "\n",
       "\n"
      ],
      "text/plain": [
       "[1]  273 7107"
      ]
     },
     "metadata": {},
     "output_type": "display_data"
    }
   ],
   "source": [
    "dim(X[[t]])"
   ]
  },
  {
   "cell_type": "code",
   "execution_count": 104,
   "metadata": {},
   "outputs": [
    {
     "data": {
      "text/html": [
       "0"
      ],
      "text/latex": [
       "0"
      ],
      "text/markdown": [
       "0"
      ],
      "text/plain": [
       "[1] 0"
      ]
     },
     "metadata": {},
     "output_type": "display_data"
    }
   ],
   "source": [
    "sum(is.na(X[[t]][,3]))"
   ]
  },
  {
   "cell_type": "code",
   "execution_count": 105,
   "metadata": {},
   "outputs": [],
   "source": [
    "res_na <- apply(X[[t]], 1, function(x) sum(is.na(x)))"
   ]
  },
  {
   "cell_type": "code",
   "execution_count": 106,
   "metadata": {},
   "outputs": [
    {
     "data": {
      "text/html": [
       "273"
      ],
      "text/latex": [
       "273"
      ],
      "text/markdown": [
       "273"
      ],
      "text/plain": [
       "[1] 273"
      ]
     },
     "metadata": {},
     "output_type": "display_data"
    }
   ],
   "source": [
    "length(res_na)"
   ]
  },
  {
   "cell_type": "code",
   "execution_count": 108,
   "metadata": {},
   "outputs": [
    {
     "data": {
      "text/html": [
       "0"
      ],
      "text/latex": [
       "0"
      ],
      "text/markdown": [
       "0"
      ],
      "text/plain": [
       "[1] 0"
      ]
     },
     "metadata": {},
     "output_type": "display_data"
    }
   ],
   "source": [
    "sum(is.na(res_na))"
   ]
  },
  {
   "cell_type": "code",
   "execution_count": 98,
   "metadata": {},
   "outputs": [
    {
     "data": {
      "text/html": [
       "'matrix'"
      ],
      "text/latex": [
       "'matrix'"
      ],
      "text/markdown": [
       "'matrix'"
      ],
      "text/plain": [
       "[1] \"matrix\""
      ]
     },
     "metadata": {},
     "output_type": "display_data"
    }
   ],
   "source": [
    "class(X[[t]])"
   ]
  },
  {
   "cell_type": "code",
   "execution_count": 99,
   "metadata": {},
   "outputs": [
    {
     "data": {
      "text/html": [
       "'numeric'"
      ],
      "text/latex": [
       "'numeric'"
      ],
      "text/markdown": [
       "'numeric'"
      ],
      "text/plain": [
       "[1] \"numeric\""
      ]
     },
     "metadata": {},
     "output_type": "display_data"
    }
   ],
   "source": [
    "class(theta[,t])"
   ]
  },
  {
   "cell_type": "code",
   "execution_count": 95,
   "metadata": {},
   "outputs": [
    {
     "data": {
      "text/html": [
       "<table>\n",
       "<caption>A matrix: 273 × 1 of type dbl</caption>\n",
       "<tbody>\n",
       "\t<tr><td> Inf</td></tr>\n",
       "\t<tr><td> NaN</td></tr>\n",
       "\t<tr><td> NaN</td></tr>\n",
       "\t<tr><td>-Inf</td></tr>\n",
       "\t<tr><td> NaN</td></tr>\n",
       "\t<tr><td>-Inf</td></tr>\n",
       "\t<tr><td> NaN</td></tr>\n",
       "\t<tr><td>-Inf</td></tr>\n",
       "\t<tr><td> NaN</td></tr>\n",
       "\t<tr><td> Inf</td></tr>\n",
       "\t<tr><td> Inf</td></tr>\n",
       "\t<tr><td> NaN</td></tr>\n",
       "\t<tr><td>-Inf</td></tr>\n",
       "\t<tr><td> NaN</td></tr>\n",
       "\t<tr><td>-Inf</td></tr>\n",
       "\t<tr><td>-Inf</td></tr>\n",
       "\t<tr><td> NaN</td></tr>\n",
       "\t<tr><td>-Inf</td></tr>\n",
       "\t<tr><td> NaN</td></tr>\n",
       "\t<tr><td> Inf</td></tr>\n",
       "\t<tr><td> NaN</td></tr>\n",
       "\t<tr><td>-Inf</td></tr>\n",
       "\t<tr><td> NaN</td></tr>\n",
       "\t<tr><td> NaN</td></tr>\n",
       "\t<tr><td>-Inf</td></tr>\n",
       "\t<tr><td>-Inf</td></tr>\n",
       "\t<tr><td> Inf</td></tr>\n",
       "\t<tr><td> Inf</td></tr>\n",
       "\t<tr><td>-Inf</td></tr>\n",
       "\t<tr><td> NaN</td></tr>\n",
       "\t<tr><td>⋮</td></tr>\n",
       "\t<tr><td> NaN</td></tr>\n",
       "\t<tr><td>-Inf</td></tr>\n",
       "\t<tr><td> NaN</td></tr>\n",
       "\t<tr><td> Inf</td></tr>\n",
       "\t<tr><td>-Inf</td></tr>\n",
       "\t<tr><td>-Inf</td></tr>\n",
       "\t<tr><td>-Inf</td></tr>\n",
       "\t<tr><td> NaN</td></tr>\n",
       "\t<tr><td>-Inf</td></tr>\n",
       "\t<tr><td> Inf</td></tr>\n",
       "\t<tr><td>-Inf</td></tr>\n",
       "\t<tr><td> NaN</td></tr>\n",
       "\t<tr><td>-Inf</td></tr>\n",
       "\t<tr><td>-Inf</td></tr>\n",
       "\t<tr><td> NaN</td></tr>\n",
       "\t<tr><td> Inf</td></tr>\n",
       "\t<tr><td> Inf</td></tr>\n",
       "\t<tr><td> NaN</td></tr>\n",
       "\t<tr><td> NaN</td></tr>\n",
       "\t<tr><td> NaN</td></tr>\n",
       "\t<tr><td>-Inf</td></tr>\n",
       "\t<tr><td>-Inf</td></tr>\n",
       "\t<tr><td>-Inf</td></tr>\n",
       "\t<tr><td> Inf</td></tr>\n",
       "\t<tr><td> NaN</td></tr>\n",
       "\t<tr><td>-Inf</td></tr>\n",
       "\t<tr><td> Inf</td></tr>\n",
       "\t<tr><td>-Inf</td></tr>\n",
       "\t<tr><td> NaN</td></tr>\n",
       "\t<tr><td> NaN</td></tr>\n",
       "</tbody>\n",
       "</table>\n"
      ],
      "text/latex": [
       "A matrix: 273 × 1 of type dbl\n",
       "\\begin{tabular}{l}\n",
       "\t  Inf\\\\\n",
       "\t  NaN\\\\\n",
       "\t  NaN\\\\\n",
       "\t -Inf\\\\\n",
       "\t  NaN\\\\\n",
       "\t -Inf\\\\\n",
       "\t  NaN\\\\\n",
       "\t -Inf\\\\\n",
       "\t  NaN\\\\\n",
       "\t  Inf\\\\\n",
       "\t  Inf\\\\\n",
       "\t  NaN\\\\\n",
       "\t -Inf\\\\\n",
       "\t  NaN\\\\\n",
       "\t -Inf\\\\\n",
       "\t -Inf\\\\\n",
       "\t  NaN\\\\\n",
       "\t -Inf\\\\\n",
       "\t  NaN\\\\\n",
       "\t  Inf\\\\\n",
       "\t  NaN\\\\\n",
       "\t -Inf\\\\\n",
       "\t  NaN\\\\\n",
       "\t  NaN\\\\\n",
       "\t -Inf\\\\\n",
       "\t -Inf\\\\\n",
       "\t  Inf\\\\\n",
       "\t  Inf\\\\\n",
       "\t -Inf\\\\\n",
       "\t  NaN\\\\\n",
       "\t ⋮\\\\\n",
       "\t  NaN\\\\\n",
       "\t -Inf\\\\\n",
       "\t  NaN\\\\\n",
       "\t  Inf\\\\\n",
       "\t -Inf\\\\\n",
       "\t -Inf\\\\\n",
       "\t -Inf\\\\\n",
       "\t  NaN\\\\\n",
       "\t -Inf\\\\\n",
       "\t  Inf\\\\\n",
       "\t -Inf\\\\\n",
       "\t  NaN\\\\\n",
       "\t -Inf\\\\\n",
       "\t -Inf\\\\\n",
       "\t  NaN\\\\\n",
       "\t  Inf\\\\\n",
       "\t  Inf\\\\\n",
       "\t  NaN\\\\\n",
       "\t  NaN\\\\\n",
       "\t  NaN\\\\\n",
       "\t -Inf\\\\\n",
       "\t -Inf\\\\\n",
       "\t -Inf\\\\\n",
       "\t  Inf\\\\\n",
       "\t  NaN\\\\\n",
       "\t -Inf\\\\\n",
       "\t  Inf\\\\\n",
       "\t -Inf\\\\\n",
       "\t  NaN\\\\\n",
       "\t  NaN\\\\\n",
       "\\end{tabular}\n"
      ],
      "text/markdown": [
       "\n",
       "A matrix: 273 × 1 of type dbl\n",
       "\n",
       "|  Inf |\n",
       "|  NaN |\n",
       "|  NaN |\n",
       "| -Inf |\n",
       "|  NaN |\n",
       "| -Inf |\n",
       "|  NaN |\n",
       "| -Inf |\n",
       "|  NaN |\n",
       "|  Inf |\n",
       "|  Inf |\n",
       "|  NaN |\n",
       "| -Inf |\n",
       "|  NaN |\n",
       "| -Inf |\n",
       "| -Inf |\n",
       "|  NaN |\n",
       "| -Inf |\n",
       "|  NaN |\n",
       "|  Inf |\n",
       "|  NaN |\n",
       "| -Inf |\n",
       "|  NaN |\n",
       "|  NaN |\n",
       "| -Inf |\n",
       "| -Inf |\n",
       "|  Inf |\n",
       "|  Inf |\n",
       "| -Inf |\n",
       "|  NaN |\n",
       "| ⋮ |\n",
       "|  NaN |\n",
       "| -Inf |\n",
       "|  NaN |\n",
       "|  Inf |\n",
       "| -Inf |\n",
       "| -Inf |\n",
       "| -Inf |\n",
       "|  NaN |\n",
       "| -Inf |\n",
       "|  Inf |\n",
       "| -Inf |\n",
       "|  NaN |\n",
       "| -Inf |\n",
       "| -Inf |\n",
       "|  NaN |\n",
       "|  Inf |\n",
       "|  Inf |\n",
       "|  NaN |\n",
       "|  NaN |\n",
       "|  NaN |\n",
       "| -Inf |\n",
       "| -Inf |\n",
       "| -Inf |\n",
       "|  Inf |\n",
       "|  NaN |\n",
       "| -Inf |\n",
       "|  Inf |\n",
       "| -Inf |\n",
       "|  NaN |\n",
       "|  NaN |\n",
       "\n"
      ],
      "text/plain": [
       "      [,1]\n",
       " [1,]  Inf\n",
       " [2,]  NaN\n",
       " [3,]  NaN\n",
       " [4,] -Inf\n",
       " [5,]  NaN\n",
       " [6,] -Inf\n",
       " [7,]  NaN\n",
       " [8,] -Inf\n",
       " [9,]  NaN\n",
       "[10,]  Inf\n",
       "[11,]  Inf\n",
       "[12,]  NaN\n",
       "[13,] -Inf\n",
       "[14,]  NaN\n",
       "[15,] -Inf\n",
       "[16,] -Inf\n",
       "[17,]  NaN\n",
       "[18,] -Inf\n",
       "[19,]  NaN\n",
       "[20,]  Inf\n",
       "[21,]  NaN\n",
       "[22,] -Inf\n",
       "[23,]  NaN\n",
       "[24,]  NaN\n",
       "[25,] -Inf\n",
       "[26,] -Inf\n",
       "[27,]  Inf\n",
       "[28,]  Inf\n",
       "[29,] -Inf\n",
       "[30,]  NaN\n",
       "[31,] ⋮   \n",
       "[32,]  NaN\n",
       "[33,] -Inf\n",
       "[34,]  NaN\n",
       "[35,]  Inf\n",
       "[36,] -Inf\n",
       "[37,] -Inf\n",
       "[38,] -Inf\n",
       "[39,]  NaN\n",
       "[40,] -Inf\n",
       "[41,]  Inf\n",
       "[42,] -Inf\n",
       "[43,]  NaN\n",
       "[44,] -Inf\n",
       "[45,] -Inf\n",
       "[46,]  NaN\n",
       "[47,]  Inf\n",
       "[48,]  Inf\n",
       "[49,]  NaN\n",
       "[50,]  NaN\n",
       "[51,]  NaN\n",
       "[52,] -Inf\n",
       "[53,] -Inf\n",
       "[54,] -Inf\n",
       "[55,]  Inf\n",
       "[56,]  NaN\n",
       "[57,] -Inf\n",
       "[58,]  Inf\n",
       "[59,] -Inf\n",
       "[60,]  NaN\n",
       "[61,]  NaN"
      ]
     },
     "metadata": {},
     "output_type": "display_data"
    }
   ],
   "source": [
    "X[[t]]%*%theta[,t]"
   ]
  },
  {
   "cell_type": "code",
   "execution_count": 90,
   "metadata": {},
   "outputs": [
    {
     "data": {
      "text/html": [
       "0"
      ],
      "text/latex": [
       "0"
      ],
      "text/markdown": [
       "0"
      ],
      "text/plain": [
       "[1] 0"
      ]
     },
     "metadata": {},
     "output_type": "display_data"
    }
   ],
   "source": [
    "sum(is.na(matrix(initial_numeric, M, P)))"
   ]
  },
  {
   "cell_type": "code",
   "execution_count": 87,
   "metadata": {},
   "outputs": [
    {
     "data": {
      "text/html": [
       "NaN"
      ],
      "text/latex": [
       "NaN"
      ],
      "text/markdown": [
       "NaN"
      ],
      "text/plain": [
       "[1] NaN"
      ]
     },
     "metadata": {},
     "output_type": "display_data"
    }
   ],
   "source": [
    "sum(X[[t]]%*%theta[,t])"
   ]
  },
  {
   "cell_type": "code",
   "execution_count": 84,
   "metadata": {},
   "outputs": [
    {
     "data": {
      "text/html": [
       "1"
      ],
      "text/latex": [
       "1"
      ],
      "text/markdown": [
       "1"
      ],
      "text/plain": [
       "[1] 1"
      ]
     },
     "metadata": {},
     "output_type": "display_data"
    }
   ],
   "source": [
    "sum(is.na(theta[,t]))"
   ]
  },
  {
   "cell_type": "markdown",
   "metadata": {},
   "source": [
    "# Debugging "
   ]
  },
  {
   "cell_type": "code",
   "execution_count": null,
   "metadata": {},
   "outputs": [],
   "source": [
    "# parameters\n",
    "lam = 1\n",
    "X=X_train\n",
    "Y=Y_train\n",
    "X1=X_tune\n",
    "Y1=Y_tune\n",
    "XX=XX_train\n",
    "XY=XY\n",
    "Xnorm=Xnorm\n",
    "lambda1=lam_V[lam]\n",
    "lambda2=lam_V[lam]\n",
    "single_est = matrix(initial_numeric, M, P)\n",
    "theta=single_est\n",
    "maxiter = 10\n",
    "\n",
    "# wrapper function \n",
    "dyn.load(\"/ysm-gpfs/pi/zhao/zy92/projects/utmost_update/CTIMP/optim.so\")\n",
    "\n",
    "bgt = Sys.time()\n",
    "M = nrow(XY)\n",
    "P = length(X)\n",
    "NN = unlist(lapply(X, nrow))\n",
    "old_objV1 = 0\n",
    "for(t in 1:P){\n",
    "    old_objV1 = old_objV1 + 1/2*mean((Y[[t]]-X[[t]]%*%theta[,t])^2)\n",
    "}\n",
    "IRdisplay::display_html(paste0(\"Training error: \", old_objV1, '\\n'))\n",
    "old_objV2 = 0\n",
    "for(t in 1:P){\n",
    "    old_objV2 = old_objV2 + 1/2*mean((Y1[[t]]-X1[[t]]%*%theta[,t])^2)\n",
    "}\n",
    "IRdisplay::display_html(paste0(\"Testing error: \", old_objV2, '\\n'))\n",
    "beta_j_lasso = rep(0, P)\n",
    "beta_j_lasso_matrix = rep(0, M*P)\n",
    "output_res = rep(0, P)\n",
    "tmp_XYj = 0\n",
    "\n",
    "for(i in 1:maxiter){\n",
    "    bgt = Sys.time()\n",
    "    res = .Call(\"wrapper\", XX, XY, theta, M, P, beta_j_lasso, beta_j_lasso_matrix, lambda1, lambda2, Xnorm, output_res)\n",
    "    #IRdisplay::display_html(res)\n",
    "    edt = Sys.time()\n",
    "    #print(edt-bgt)\n",
    "    IRdisplay::display_html(beta_j_lasso)\n",
    "    #IRdisplay::display_html(theta[1:6, 1:6])\n",
    "    new_objV1 = new_objV2 = 0\n",
    "    for(t in 1:P){\n",
    "        if (theta[])\n",
    "        new_objV1 = new_objV1 + 1/2*mean((Y[[t]]-X[[t]]%*%theta[,t])^2)\n",
    "        #IRdisplay::display_html(sum(is.na(X[[t]])))\n",
    "        #IRdisplay::display_html(sum(is.na(Y[[t]])))\n",
    "        #IRdisplay::display_html(theta[,t])\n",
    "    }\n",
    "    IRdisplay::display_html(paste0(\"Training error: \", new_objV1, '\\n'))\n",
    "    for(t in 1:P){\n",
    "        new_objV2 = new_objV2 + 1/2*mean((Y1[[t]]-X1[[t]]%*%theta[,t])^2)\n",
    "        #IRdisplay::display_html(sum(is.na(X[[t]])))\n",
    "        #IRdisplay::display_html(sum(is.na(Y[[t]])))\n",
    "        #IRdisplay::display_html(theta[,t])\n",
    "    }\n",
    "    IRdisplay::display_html(paste0(\"Testing error: \", new_objV2, '\\n'))\n",
    "    if(new_objV2 > old_objV2|new_objV1 > old_objV1){\n",
    "        break\n",
    "    }else{\n",
    "        old_objV2 = new_objV2\n",
    "    }\n",
    "    if(abs(new_objV1-old_objV1) < eps){\n",
    "        break\n",
    "    }else{\n",
    "        old_objV1 = new_objV1\n",
    "    }\n",
    "}\n",
    "#edt = Sys.time()\n",
    "#print(edt-bgt)\n",
    "#list(est = theta, tune_err = new_objV2)"
   ]
  },
  {
   "cell_type": "code",
   "execution_count": null,
   "metadata": {},
   "outputs": [],
   "source": [
    "\n",
    "\n",
    "# parameters\n",
    "lam = 1\n",
    "X=X_train\n",
    "Y=Y_train\n",
    "X1=X_tune\n",
    "Y1=Y_tune\n",
    "XX=XX_train\n",
    "XY=XY\n",
    "Xnorm=Xnorm\n",
    "lambda1=lam_V[lam]\n",
    "lambda2=lam_V[lam]\n",
    "single_est = matrix(initial_numeric, M, P)\n",
    "theta=single_est\n",
    "maxiter = 10\n",
    "\n",
    "# function \n",
    "dyn.load(\"/gpfs/project/zhao/zy92/utmost_update/CTIMP/optim.so\")\n",
    "\n",
    "bgt = Sys.time()\n",
    "M = nrow(XY)\n",
    "P = length(X)\n",
    "NN = unlist(lapply(X, nrow))\n",
    "old_objV1 = 0\n",
    "for(t in 1:P){\n",
    "    old_objV1 = old_objV1 + 1/2*mean((Y[[t]]-X[[t]]%*%theta[,t])^2)\n",
    "}\n",
    "IRdisplay::display_html(paste0(\"Training error: \", old_objV1, '\\n'))\n",
    "old_objV2 = 0\n",
    "for(t in 1:P){\n",
    "    old_objV2 = old_objV2 + 1/2*mean((Y1[[t]]-X1[[t]]%*%theta[,t])^2)\n",
    "}\n",
    "IRdisplay::display_html(paste0(\"Testing error: \", old_objV2, '\\n'))\n",
    "beta_j_lasso = rep(0, P)\n",
    "beta_j_lasso_matrix = rep(0, M*P)\n",
    "output_res = rep(0, P)\n",
    "tmp_XYj = 0\n",
    "\n",
    "for(i in 1:maxiter){\n",
    "    bgt = Sys.time()\n",
    "    res = .Call(\"wrapper\", XX, XY, theta, M, P, beta_j_lasso, lambda1, lambda2, Xnorm, output_res)\n",
    "    #print(res)\n",
    "    edt = Sys.time()\n",
    "    #print(edt-bgt)\n",
    "    IRdisplay::display_html(beta_j_lasso)\n",
    "    #IRdisplay::display_html(theta[1:6, 1:6])\n",
    "    new_objV1 = new_objV2 = 0\n",
    "    for(t in 1:P){\n",
    "        if (theta[])\n",
    "        new_objV1 = new_objV1 + 1/2*mean((Y[[t]]-X[[t]]%*%theta[,t])^2)\n",
    "        #IRdisplay::display_html(sum(is.na(X[[t]])))\n",
    "        #IRdisplay::display_html(sum(is.na(Y[[t]])))\n",
    "        #IRdisplay::display_html(theta[,t])\n",
    "    }\n",
    "    IRdisplay::display_html(paste0(\"Training error: \", new_objV1, '\\n'))\n",
    "    for(t in 1:P){\n",
    "        new_objV2 = new_objV2 + 1/2*mean((Y1[[t]]-X1[[t]]%*%theta[,t])^2)\n",
    "        #IRdisplay::display_html(sum(is.na(X[[t]])))\n",
    "        #IRdisplay::display_html(sum(is.na(Y[[t]])))\n",
    "        #IRdisplay::display_html(theta[,t])\n",
    "    }\n",
    "    IRdisplay::display_html(paste0(\"Testing error: \", new_objV2, '\\n'))\n",
    "    if(new_objV2 > old_objV2|new_objV1 > old_objV1){\n",
    "        break\n",
    "    }else{\n",
    "        old_objV2 = new_objV2\n",
    "    }\n",
    "    if(abs(new_objV1-old_objV1) < eps){\n",
    "        break\n",
    "    }else{\n",
    "        old_objV1 = new_objV1\n",
    "    }\n",
    "}\n",
    "#edt = Sys.time()\n",
    "#print(edt-bgt)\n",
    "#list(est = theta, tune_err = new_objV2)"
   ]
  },
  {
   "cell_type": "code",
   "execution_count": null,
   "metadata": {},
   "outputs": [],
   "source": [
    "head(output_res)"
   ]
  },
  {
   "cell_type": "code",
   "execution_count": null,
   "metadata": {},
   "outputs": [],
   "source": []
  },
  {
   "cell_type": "code",
   "execution_count": null,
   "metadata": {},
   "outputs": [],
   "source": []
  },
  {
   "cell_type": "code",
   "execution_count": null,
   "metadata": {},
   "outputs": [],
   "source": []
  },
  {
   "cell_type": "code",
   "execution_count": null,
   "metadata": {},
   "outputs": [],
   "source": [
    "class(beta_j_lasso[[1]])"
   ]
  },
  {
   "cell_type": "code",
   "execution_count": null,
   "metadata": {},
   "outputs": [],
   "source": [
    "beta_j_lasso"
   ]
  },
  {
   "cell_type": "code",
   "execution_count": null,
   "metadata": {},
   "outputs": [],
   "source": [
    "output_res"
   ]
  },
  {
   "cell_type": "code",
   "execution_count": null,
   "metadata": {},
   "outputs": [],
   "source": [
    "beta_j_lasso[[2]]"
   ]
  },
  {
   "cell_type": "code",
   "execution_count": null,
   "metadata": {},
   "outputs": [],
   "source": []
  },
  {
   "cell_type": "code",
   "execution_count": null,
   "metadata": {},
   "outputs": [],
   "source": [
    "dim(single_est)"
   ]
  },
  {
   "cell_type": "code",
   "execution_count": null,
   "metadata": {},
   "outputs": [],
   "source": [
    "single_est[c()]"
   ]
  },
  {
   "cell_type": "code",
   "execution_count": null,
   "metadata": {},
   "outputs": [],
   "source": [
    "sum(is.na(dose_std))"
   ]
  },
  {
   "cell_type": "code",
   "execution_count": null,
   "metadata": {},
   "outputs": [],
   "source": [
    "hist(dose_std)"
   ]
  },
  {
   "cell_type": "code",
   "execution_count": null,
   "metadata": {},
   "outputs": [],
   "source": [
    "which(is.na(single_est))"
   ]
  },
  {
   "cell_type": "code",
   "execution_count": null,
   "metadata": {},
   "outputs": [],
   "source": [
    "which(is.na(initial_numeric))"
   ]
  },
  {
   "cell_type": "code",
   "execution_count": null,
   "metadata": {},
   "outputs": [],
   "source": [
    "head(initial_numeric)\n",
    "single_est[1, 1:6]"
   ]
  },
  {
   "cell_type": "code",
   "execution_count": null,
   "metadata": {},
   "outputs": [],
   "source": [
    "single_est = matrix(initial_numeric, M, P)"
   ]
  },
  {
   "cell_type": "code",
   "execution_count": null,
   "metadata": {},
   "outputs": [],
   "source": [
    "head(single_est)"
   ]
  },
  {
   "cell_type": "code",
   "execution_count": null,
   "metadata": {},
   "outputs": [],
   "source": [
    "head(single_est)"
   ]
  },
  {
   "cell_type": "code",
   "execution_count": null,
   "metadata": {},
   "outputs": [],
   "source": [
    "class(Y_train[[1]])"
   ]
  },
  {
   "cell_type": "code",
   "execution_count": null,
   "metadata": {},
   "outputs": [],
   "source": [
    "hist(Y_train[[2]])"
   ]
  },
  {
   "cell_type": "code",
   "execution_count": null,
   "metadata": {},
   "outputs": [],
   "source": [
    "for(lam in 1:ntune){\n",
    "        single_est = matrix(initial_numeric, M, P)\n",
    "        ans = glasso(X=X_train, Y=Y_train, X1=X_tune, Y1=Y_tune, XX=XX_train, XY=XY, Xnorm=Xnorm, lambda1=lam_V[lam], lambda2=lam_V[lam], theta=single_est)\n",
    "        res_tune[lam] = ans$tune_err\n",
    "        remove(single_est); remove(ans);\n",
    "}"
   ]
  },
  {
   "cell_type": "code",
   "execution_count": null,
   "metadata": {},
   "outputs": [],
   "source": []
  },
  {
   "cell_type": "code",
   "execution_count": null,
   "metadata": {},
   "outputs": [],
   "source": [
    "dim(single_est)"
   ]
  },
  {
   "cell_type": "code",
   "execution_count": null,
   "metadata": {},
   "outputs": [],
   "source": [
    "sum(is.na(single_est))"
   ]
  },
  {
   "cell_type": "code",
   "execution_count": null,
   "metadata": {},
   "outputs": [],
   "source": [
    "res_na <- apply(single_est, 1, function(x) sum(is.na(x)))"
   ]
  },
  {
   "cell_type": "code",
   "execution_count": null,
   "metadata": {},
   "outputs": [],
   "source": [
    "res_inf <- apply(single_est, 1, function(x) sum(!is.finite(x)))"
   ]
  },
  {
   "cell_type": "code",
   "execution_count": null,
   "metadata": {},
   "outputs": [],
   "source": [
    "which(res_na != 0)"
   ]
  },
  {
   "cell_type": "code",
   "execution_count": null,
   "metadata": {},
   "outputs": [],
   "source": [
    "which(res_inf != 0)"
   ]
  },
  {
   "cell_type": "code",
   "execution_count": null,
   "metadata": {},
   "outputs": [],
   "source": [
    "single_est[which(res_inf != 0), ]"
   ]
  },
  {
   "cell_type": "code",
   "execution_count": null,
   "metadata": {},
   "outputs": [],
   "source": [
    "dim(X_train[[1]])\n",
    "sum(is.na(X_train[[1]]))"
   ]
  },
  {
   "cell_type": "code",
   "execution_count": null,
   "metadata": {},
   "outputs": [],
   "source": [
    "res_l <- lapply(X_train, function(x) sum(is.na(x)))"
   ]
  },
  {
   "cell_type": "code",
   "execution_count": null,
   "metadata": {},
   "outputs": [],
   "source": [
    "res_l"
   ]
  },
  {
   "cell_type": "code",
   "execution_count": null,
   "metadata": {},
   "outputs": [],
   "source": [
    "hist(X_train[[1]])"
   ]
  },
  {
   "cell_type": "code",
   "execution_count": null,
   "metadata": {},
   "outputs": [],
   "source": [
    "dim(XY)\n",
    "class(XY)"
   ]
  },
  {
   "cell_type": "code",
   "execution_count": null,
   "metadata": {},
   "outputs": [],
   "source": [
    "sum(is.na(XY))"
   ]
  },
  {
   "cell_type": "code",
   "execution_count": null,
   "metadata": {},
   "outputs": [],
   "source": [
    "hist(XY[847, ])\n",
    "sum(is.na(XY[847, ]))"
   ]
  },
  {
   "cell_type": "code",
   "execution_count": null,
   "metadata": {},
   "outputs": [],
   "source": [
    "hist(XY[848, ])\n",
    "sum(is.na(XY[848, ]))"
   ]
  },
  {
   "cell_type": "code",
   "execution_count": null,
   "metadata": {},
   "outputs": [],
   "source": [
    "hist(dose_std[847, ])"
   ]
  },
  {
   "cell_type": "code",
   "execution_count": null,
   "metadata": {},
   "outputs": [],
   "source": [
    "hist(dose[847, ])"
   ]
  },
  {
   "cell_type": "code",
   "execution_count": null,
   "metadata": {},
   "outputs": [],
   "source": [
    "hist(dose_std[848, ])"
   ]
  },
  {
   "cell_type": "code",
   "execution_count": null,
   "metadata": {},
   "outputs": [],
   "source": [
    "dim(XX_train[[1]])"
   ]
  },
  {
   "cell_type": "code",
   "execution_count": null,
   "metadata": {},
   "outputs": [],
   "source": [
    "hist(XX_train[[1]][848, ])"
   ]
  },
  {
   "cell_type": "code",
   "execution_count": null,
   "metadata": {},
   "outputs": [],
   "source": [
    "length(dose_std[, 848])"
   ]
  },
  {
   "cell_type": "code",
   "execution_count": null,
   "metadata": {},
   "outputs": [],
   "source": [
    "dim(dose_std)"
   ]
  },
  {
   "cell_type": "code",
   "execution_count": null,
   "metadata": {},
   "outputs": [],
   "source": [
    "hist(dose_std[848, ])"
   ]
  },
  {
   "cell_type": "code",
   "execution_count": null,
   "metadata": {},
   "outputs": [],
   "source": [
    "dim(single_est[,idx])\n",
    "dim(dose_std[,idx])"
   ]
  },
  {
   "cell_type": "code",
   "execution_count": null,
   "metadata": {},
   "outputs": [],
   "source": [
    "idx = res_na[1]\n",
    "t(single_est[, idx]) %*% dose_std[, idx]"
   ]
  },
  {
   "cell_type": "code",
   "execution_count": null,
   "metadata": {},
   "outputs": [],
   "source": [
    "XX_train[[1]][848, ] %*% single_est[848, ]"
   ]
  },
  {
   "cell_type": "code",
   "execution_count": null,
   "metadata": {},
   "outputs": [],
   "source": [
    "head(single_est)"
   ]
  },
  {
   "cell_type": "code",
   "execution_count": null,
   "metadata": {},
   "outputs": [],
   "source": [
    "dim(beta_j_lasso[[1]])"
   ]
  },
  {
   "cell_type": "code",
   "execution_count": null,
   "metadata": {},
   "outputs": [],
   "source": []
  },
  {
   "cell_type": "code",
   "execution_count": null,
   "metadata": {},
   "outputs": [],
   "source": []
  },
  {
   "cell_type": "code",
   "execution_count": null,
   "metadata": {},
   "outputs": [],
   "source": [
    "#gene_id = gene_vec\n",
    "#if(P){\n",
    "\t\n",
    "\t\n",
    "\t## genotype files ##\n",
    "\t#dose = read.table(dose_path, header=F)\n",
    "    genotype_info <- read_plink(dose_path)\n",
    "    dose = genotype_info$X\n",
    "    dose_std = dose\n",
    "\tfor(j in 1:nrow(dose)){\n",
    "\t\tdose_std[j, is.na(dose[j, ])] <- mean(dose[j, ], na.rm = T)\n",
    "        dose_std[j, ] <- dose_std[j, ] - mean(dose[j, ], na.rm = T)\n",
    "\t}\n",
    "\tprint(\"INFO: section A\")\n",
    "\t## covariance matrix ##\n",
    "    n_sample = ncol(dose_std)\n",
    "\ttmp = as.matrix(dose_std)\n",
    "\tXX = t(tmp)%*%as.matrix(tmp)/n_sample\n",
    "\tXnorm = diag(XX)\n",
    "\tremove(tmp)\n",
    "    remove(XX)\n",
    "\tsub_id = colnames(dose_std)\n",
    "\tM = nrow(dose_std)\n",
    "\tsub_id_map = list()\n",
    "    sub_id_map_exp = list()\n",
    "\tfor(t in 1:T_num){\n",
    "    #for(t in 1:1){\n",
    "\t\t#tmp = rep(0, nrow(Y[[t]]))\n",
    "        exp_id <- as.character(sapply(Y[[t]][,1], function(x) substr(x, 1, 10)))\n",
    "        #print(head(exp_id))\n",
    "        # index of ids that have matched genotypes \n",
    "        # exp_id based on order of exp_id\n",
    "        match_id <- match(exp_id, sub_id)\n",
    "\t\tsub_id_map[[t]] <- na.omit(match_id)\n",
    "        sub_id_map_exp[[t]] <- !is.na(match_id)                           \n",
    "        #for(j in 1:length(tmp)){\n",
    "            # extract the id starting GTEX-xxxxx\n",
    "            \n",
    "\t\t\t#tmp[j] = which(sub_id==exp_id)\n",
    "\t\t#}\n",
    "\t\t#sub_id_map[[t]] = tmp\n",
    "\t}\n",
    "\t\n",
    "\tfold = 5\n",
    "\tprint(\"INFO: section B\")\n",
    "\tcv_config = cv_helper(n_sample, fold)\n",
    "\tcv_perm = cv_config$perm\n",
    "\tcv_idx = cv_config$idx\n",
    "\t\n",
    "\tsingle_res_test = list()\n",
    "\tsingle_lam = matrix(0,5,P)\n",
    "\tsingle_theta_est = list()\n",
    "\t\n",
    "\tmulti_res_test = list()\n",
    "\tmulti_lam = rep(0,5)\n",
    "\tmulti_theta_est = list()\n",
    "\t\n",
    "\tfor(f in 1:fold){\n",
    "        # one fold \n",
    "\t\tbgt = Sys.time()\n",
    "        print(paste0(\"INFO: fold \", f))\n",
    "\t\ttest_index = cv_perm[cv_idx[f,1]:cv_idx[f,2]]\n",
    "\t\ttest_id = sub_id[test_index]\n",
    "        \n",
    "        # move the tuning idx to another idx block\n",
    "\t\ttuning_index = cv_perm[cv_idx[f%%fold+1,1]:cv_idx[f%%fold+1,2]]\n",
    "\t\ttuning_id = sub_id[tuning_index]\n",
    "        \n",
    "        # idx list\n",
    "\t\tX_test = list()\n",
    "\t\tY_test = list()\n",
    "\t\tX_tune = list()\n",
    "\t\tY_tune = list()\n",
    "\t\tX_train = list()\n",
    "\t\tY_train = list()\n",
    "\t\tfor(t in 1:T_num){\n",
    "            # idx matching  \n",
    "            id_filter = !(sub_id_map[[t]]%in%c(test_index,tuning_index))\n",
    "            X_train_tmp = sub_id_map[[t]][id_filter]\n",
    "\t\t\tY_train_tmp = sub_id_map_exp[[t]][id_filter]\n",
    "            tuning_id_filter = sub_id_map[[t]]%in%tuning_index\n",
    "\t\t\tX_tuning_tmp = sub_id_map[[t]][tuning_id_filter]\n",
    "\t\t\tY_tuning_tmp = sub_id_map_exp[[t]][tuning_id_filter]\n",
    "            testing_id_filter = sub_id_map[[t]]%in%testing_index\n",
    "\t\t\tX_test_tmp = sub_id_map[[t]][testing_id_filter]\n",
    "\t\t\tY_test_tmp = sub_id_map_exp[[t]][testing_id_filter]\n",
    "            # training data\n",
    "\t\t\tX_train[[t]] = apply(as.matrix(dose_std[,X_train_tmp]),1,as.numeric)\n",
    "\t\t\tY_train[[t]] = Y[[t]]][Y_train_tmp, 2]\n",
    "\t\t\tX_tune[[t]] = apply(as.matrix(dose_std[,X_tuning_tmp]),1,as.numeric)\n",
    "\t\t\tY_tune[[t]] = Y[[t]][Y_tuning_tmp, 2]\n",
    "\t\t\tX_test[[t]] = apply(as.matrix(dose_std[,X_test_tmp]),1,as.numeric)\n",
    "\t\t\tY_test[[t]] = Y[[t]][Y_test_tmp, 2]\n",
    "\t\t}\n",
    "\t\t\n",
    "\t\t## model training ##\t\n",
    "\t\t## train elastic net and used average lambda as tuning parameters ##\n",
    "\t\tsingle_initial_est = matrix(0, ncol(X_train[[1]]), T_num)\n",
    "\t\tsingle_summary = list()\n",
    "\t\tfor(t in 1:T_num){\n",
    "            #print(Y_train[[t]])\n",
    "            #print(sum(is.na(X_train[[t]])))\n",
    "\t\t\ttt = cv.glmnet(X_train[[t]], Y_train[[t]], alpha = 0.5, nfolds = 5)\n",
    "\t\t\tsingle_summary[[t]] = tt\n",
    "\t\t\tsingle_initial_est[,t] = tt$glmnet.fit$beta[,which.min(tt$cvm)]\n",
    "\t\t}\n",
    "\t\t## performance of Elastic net on tuning and testing data with various tuning parameters\n",
    "\t\tels_output = elastic_net_mse(single_summary, X_tune, Y_tune, X_test, Y_test)\n",
    "\t\tsingle_res_test[[f]] = els_output$mse\n",
    "\t\tsingle_lam[f,] = els_output$lam\n",
    "\t\tsingle_theta_est[[f]] = els_output$est\n",
    "\t\tremove(els_output)\n",
    "\t\t\n",
    "\t\tinitial_numeric = as.numeric(single_initial_est)\n",
    "\t\tlam_range = minmax_lambda(single_summary)\n",
    "\t\tlam_V = seq(lam_range[1], lam_range[2], length.out = ntune)\n",
    "\t\tremove(single_summary); \n",
    "        remove(single_initial_est);\n",
    "\t\n",
    "\t\t## preparation\n",
    "\t\tXY = grad_prep(X_train, Y_train)\n",
    "#\t\tbgt = Sys.time()\n",
    "\t\tXX_train = lapply(X_train, function(x){t(x)%*%x/nrow(x)})\n",
    "#\t\tedt = Sys.time()\n",
    "#\t\tprint(edt-bgt)\n",
    "\t\n",
    "\t\t\n",
    "\t\tres_tune = rep(0, ntune)\n",
    "\t\tbest.lam = 0\n",
    "\t\n",
    "#\t\tbgt = Sys.time()\n",
    "\t\tfor(lam in 1:ntune){\n",
    "\t\t\tsingle_est = matrix(initial_numeric, M, P)\n",
    "\t\t\tans = glasso(X=X_train, Y=Y_train, X1=X_tune, Y1=Y_tune, XX=XX_train, XY=XY, Xnorm=Xnorm, lambda1=lam_V[lam], lambda2=lam_V[lam], theta=single_est)\n",
    "\t\t\tres_tune[lam] = ans$tune_err\n",
    "\t\t\tremove(single_est); remove(ans);\n",
    "\t\t}\n",
    "#\t\tedt = Sys.time()\n",
    "#\t\tprint(edt-bgt)\n",
    "\n",
    "\t\tbest.lam = lam_V[which.min(res_tune)]\n",
    "\t\tsingle_est = matrix(initial_numeric, M, P)\n",
    "\t\tans = glasso(X=X_train, Y=Y_train, X1=X_tune, Y1=Y_tune, XX=XX_train, XY=XY, Xnorm=Xnorm, lambda1=best.lam, lambda2=best.lam, theta=single_est)\n",
    "\t\tmulti_res_test[[f]] = multi_mse(ans$est, X_test, Y_test)\n",
    "\t\tmulti_lam[f] = best.lam\n",
    "\t\tmulti_theta_est[[f]] = ans$est\n",
    "\t\tremove(single_est)\n",
    "        remove(ans)\n",
    "\t\tedt = Sys.time()\n",
    "\t\tprint(edt-bgt)\n",
    "\t}\n",
    "    print(\"INFO: section C\")\n",
    "\tsave(single_res_test, single_lam, single_theta_est, multi_res_test, multi_lam, multi_theta_est, file = paste0('chr', chr, '.', k, '.', gene_id, \".RData\"))\n",
    "\t\n",
    "    # evaluation                                  \n",
    "    res_single = avg_perm(single_res_test)\n",
    "\tres_multi = avg_perm(multi_res_test)\n",
    "\tcat(\"Elastic net average testing error (all): \", apply(res_single, 2, mean), '\\n')\n",
    "    cat(\"glasso averge testing error (all): \", apply(res_multi, 2, mean), '\\n')\n",
    "\tcat(\"Number of all zero tissues in elastic net is \", sum(is.na(res_single[,1])), '\\n')\n",
    "\tcat(\"Number of all zero tissues in glasso is \", sum(is.na(res_multi[,1])), '\\n')\n",
    "\t#cat(\"Elastic net average testing error (non-zero): \", apply(res_single[!is.na(res_multi[,1]),], 2, mean), '\\n')\n",
    "\t#cat(\"glasso averge testing error (non-zero): \", apply(res_multi[!is.na(res_multi[,1]),], 2, mean), '\\n')\n",
    "\n",
    "\t## generate an estimate with whole data ##\n",
    "\tX_all = list()\n",
    "\tY_all = list()\n",
    "\tfor(t in 1:T_num){\n",
    "\t\tX_all_tmp = sub_id_map[[t]]\n",
    "\t\tX_all[[t]] = apply(as.matrix(dose[X_all_tmp, ]), 2, as.numeric)\n",
    "\t\tY_all[[t]] = Y[[t]][,2]\n",
    "\t}\n",
    "\t# initial values \n",
    "\tsingle_initial_est = matrix(0, ncol(X_train[[1]]), T_num)\n",
    "\tfor(t in 1:T_num){\n",
    "\t\ttt = cv.glmnet(X_all[[t]], Y_all[[t]], alpha = 0.5, nfolds = 5)\n",
    "\t\tsingle_initial_est[,t] = tt$glmnet.fit$beta[,which.min(tt$cvm)]\n",
    "\t}\n",
    "\tinitial_numeric = as.numeric(single_initial_est)\n",
    "\tremove(single_initial_est)\n",
    "\tXY = grad_prep(X_all, Y_all)\n",
    "\tXX_all = lapply(X_all, function(x){t(x)%*%x/nrow(x)})\n",
    "\ttmp_res = rep(0, fold)\n",
    "\tfor(f in 1:fold){\n",
    "\t\tans = glasso_no_early_stopping(X=X_all, Y=Y_all, XX=XX_all, XY=XY, Xnorm=Xnorm, lambda1=multi_lam[f], lambda2=multi_lam[f], theta=matrix(initial_numeric,M,P))\n",
    "\t\ttmp_res[f] = ans$train_err\n",
    "\t}\n",
    "\tans = glasso_no_early_stopping(X=X_all, Y=Y_all, XX=XX_all, XY=XY, Xnorm=Xnorm, lambda1=multi_lam[which.min(tmp_res)], lambda2=multi_lam[which.min(tmp_res)], theta=matrix(initial_numeric,M,P))\n",
    "\t# id ref alt\n",
    "    info = genotype$bim[, c(2,5,6)] \n",
    "\tdownstream_est = data.frame(info[,1:3], ans$est)\n",
    "    \n",
    "\twrite.table(downstream_est, paste0(gene_id, \".est\"), quote=F, row.names=F, col.names=c(\"SNP\", \"REF.0.\", \"ALT.1.\", Yt))\n",
    "#}"
   ]
  },
  {
   "cell_type": "markdown",
   "metadata": {},
   "source": [
    "### Preparation"
   ]
  },
  {
   "cell_type": "code",
   "execution_count": null,
   "metadata": {},
   "outputs": [],
   "source": [
    "# prepa\n",
    "dir.create(paste0(output_dir, \"chr\", chr), showWarnings = FALSE)\n",
    "dir.create(paste0(output_dir, \"chr\", chr, \"/\", gene_id), showWarnings = FALSE)\n",
    "setwd(paste0(output_dir, \"chr\", chr, \"/\", gene_id))\n",
    "## expr files ##\n",
    "Y = list()\n",
    "for(t in 1:P){\n",
    "    Y[[t]] = read.table(paste0(gtex_dir, \"adjusted_expr1/chr\", chr, \"/\", g, \"/\", Yt[t]), header=F)\n",
    "}\n",
    "ssize = unlist(lapply(Y, nrow))\n",
    "T_num = length(Yt)\n",
    "\n",
    "## genotype files ##\n",
    "#dose = read.table(dose_path, header=F)\n",
    "genotype_info <- read_plink(dose_path)\n",
    "dose = genotype_info$X\n",
    "dose_std = dose\n",
    "for(j in 1:nrow(dose)){\n",
    "    dose_std[j, is.na(dose[j, ])] <- mean(dose[j, ], na.rm = T)\n",
    "    dose_std[j, ] <- dose_std[j, ] - mean(dose[j, ], na.rm = T)\n",
    "}\n",
    "print(\"INFO: section A\")\n",
    "## covariance matrix ##\n",
    "n_sample = ncol(dose_std)\n",
    "tmp = as.matrix(dose_std)\n",
    "XX = t(tmp)%*%as.matrix(tmp)/n_sample\n",
    "Xnorm = diag(XX)\n",
    "remove(tmp)\n",
    "remove(XX)\n",
    "sub_id = colnames(dose_std)\n",
    "M = nrow(dose_std)\n",
    "sub_id_map = list()\n",
    "sub_id_map_genotype = list()\n",
    "for(t in 1:T_num){\n",
    "#for(t in 1:1){\n",
    "    #tmp = rep(0, nrow(Y[[t]]))\n",
    "    exp_id <- as.character(sapply(Y[[t]][,1], function(x) substr(x, 1, 10)))\n",
    "    #print(head(exp_id))\n",
    "    # index of ids that have matched genotypes \n",
    "    # exp_id based on order of exp_id\n",
    "    sub_id_map[[t]] <- na.omit(match(exp_id, sub_id))\n",
    "    sub_id_map_genotype[[t]] <- !is.na(match(exp_id, sub_id))                           \n",
    "    #for(j in 1:length(tmp)){\n",
    "        # extract the id starting GTEX-xxxxx\n",
    "\n",
    "        #tmp[j] = which(sub_id==exp_id)\n",
    "    #}\n",
    "    #sub_id_map[[t]] = tmp\n",
    "}\n",
    "\n",
    "fold = 5\n",
    "print(\"INFO: section B\")\n",
    "cv_config = cv_helper(n_sample, fold)\n",
    "cv_perm = cv_config$perm\n",
    "cv_idx = cv_config$idx\n",
    "\n",
    "single_res_test = list()\n",
    "single_lam = matrix(0,5,P)\n",
    "single_theta_est = list()\n",
    "\n",
    "multi_res_test = list()\n",
    "multi_lam = rep(0,5)\n",
    "multi_theta_est = list()"
   ]
  },
  {
   "cell_type": "markdown",
   "metadata": {},
   "source": [
    "### CV"
   ]
  },
  {
   "cell_type": "code",
   "execution_count": null,
   "metadata": {},
   "outputs": [],
   "source": [
    "### fold = 1\n",
    "    f = 1\n",
    "    bgt = Sys.time()\n",
    "    IRdisplay::display_html(paste0(\"INFO: fold \", f))\n",
    "    test_index = cv_perm[cv_idx[f,1]:cv_idx[f,2]]\n",
    "    test_id = sub_id[test_index]\n",
    "    tuning_index = cv_perm[cv_idx[f%%fold+1,1]:cv_idx[f%%fold+1,2]]\n",
    "    tuning_id = sub_id[tuning_index]\n",
    "\n",
    "    X_test = list()\n",
    "    Y_test = list()\n",
    "    X_tune = list()\n",
    "    Y_tune = list()\n",
    "    X_train = list()\n",
    "    Y_train = list()\n",
    "    for(t in 1:T_num){\n",
    "        X_train_tmp = sub_id_map[[t]][!(sub_id_map[[t]]%in%c(test_index,tuning_index))]\n",
    "        Y_train_tmp = !(sub_id_map[[t]]%in%c(test_index,tuning_index))\n",
    "        X_tuning_tmp = sub_id_map[[t]][(sub_id_map[[t]]%in%tuning_index)]\n",
    "        Y_tuning_tmp = (sub_id_map[[t]]%in%tuning_index)\n",
    "        X_test_tmp = sub_id_map[[t]][(sub_id_map[[t]]%in%test_index)]\n",
    "        Y_test_tmp = (sub_id_map[[t]]%in%test_index)\n",
    "        # training data\n",
    "        X_train[[t]] = apply(as.matrix(dose_std[,X_train_tmp]),1,as.numeric)\n",
    "        Y_train[[t]] = Y[[t]][sub_id_map_genotype[[t]],][Y_train_tmp, 2]\n",
    "        X_tune[[t]] = apply(as.matrix(dose_std[,X_tuning_tmp]),1,as.numeric)\n",
    "        Y_tune[[t]] = Y[[t]][sub_id_map_genotype[[t]],][Y_tuning_tmp, 2]\n",
    "        X_test[[t]] = apply(as.matrix(dose_std[,X_test_tmp]),1,as.numeric)\n",
    "        Y_test[[t]] = Y[[t]][sub_id_map_genotype[[t]],][Y_test_tmp, 2]\n",
    "    }\n",
    "\n",
    "    ## model training ##\t\n",
    "    ## train elastic net and used average lambda as tuning parameters ##\n",
    "    single_initial_est = matrix(0, ncol(X_train[[1]]), T_num)\n",
    "    single_summary = list()\n",
    "    for(t in 1:T_num){\n",
    "        IRdisplay::display_html(length(Y_train[[t]]))\n",
    "        IRdisplay::display_html(dim(X_train[[t]]))\n",
    "        tt = cv.glmnet(X_train[[t]], Y_train[[t]], alpha = 0.5, nfolds = 5)\n",
    "        single_summary[[t]] = tt\n",
    "        single_initial_est[,t] = tt$glmnet.fit$beta[,which.min(tt$cvm)]\n",
    "    }\n",
    "    ## performance of Elastic net on tuning and testing data with various tuning parameters\n",
    "    els_output = elastic_net_mse(single_summary, X_tune, Y_tune, X_test, Y_test)\n",
    "    single_res_test[[f]] = els_output$mse\n",
    "    single_lam[f,] = els_output$lam\n",
    "    single_theta_est[[f]] = els_output$est\n",
    "    remove(els_output)\n",
    "\n",
    "    initial_numeric = as.numeric(single_initial_est)\n",
    "    lam_range = minmax_lambda(single_summary)\n",
    "    lam_V = seq(lam_range[1], lam_range[2], length.out = ntune)\n",
    "    remove(single_summary); \n",
    "    remove(single_initial_est);\n",
    "\n",
    "    ## preparation\n",
    "    XY = grad_prep(X_train, Y_train)\n",
    "#\t\tbgt = Sys.time()\n",
    "    XX_train = lapply(X_train, function(x){t(x)%*%x/nrow(x)})\n",
    "#\t\tedt = Sys.time()\n",
    "#\t\tprint(edt-bgt)\n",
    "\n",
    "\n",
    "    res_tune = rep(0, ntune)\n",
    "    best.lam = 0\n",
    "\n",
    "#\t\tbgt = Sys.time()\n",
    "    print(\"INFO: section C\")\n",
    "    for(lam in 1:ntune){\n",
    "        single_est = matrix(initial_numeric, M, P)\n",
    "        ans = glasso(X=X_train, Y=Y_train, X1=X_tune, Y1=Y_tune, XX=XX_train, XY=XY, Xnorm=Xnorm, lambda1=lam_V[lam], lambda2=lam_V[lam], theta=single_est)\n",
    "        res_tune[lam] = ans$tune_err\n",
    "        remove(single_est); remove(ans);\n",
    "    }\n",
    "#\t\tedt = Sys.time()\n",
    "#\t\tprint(edt-bgt)\n",
    "    \n",
    "    \n",
    "    best.lam = lam_V[which.min(res_tune)]\n",
    "    single_est = matrix(initial_numeric, M, P)\n",
    "    ans = glasso(X=X_train, Y=Y_train, X1=X_tune, Y1=Y_tune, XX=XX_train, XY=XY, Xnorm=Xnorm, lambda1=best.lam, lambda2=best.lam, theta=single_est)\n",
    "    multi_res_test[[f]] = multi_mse(ans$est, X_test, Y_test)\n",
    "    multi_lam[f] = best.lam\n",
    "    multi_theta_est[[f]] = ans$est\n",
    "    remove(single_est)\n",
    "    remove(ans)\n",
    "    edt = Sys.time()\n",
    "    print(edt-bgt)"
   ]
  },
  {
   "cell_type": "code",
   "execution_count": null,
   "metadata": {},
   "outputs": [],
   "source": [
    "for(f in 1:fold){\n",
    "    bgt = Sys.time()\n",
    "    IRdisplay::display_html(paste0(\"INFO: fold \", f))\n",
    "    test_index = cv_perm[cv_idx[f,1]:cv_idx[f,2]]\n",
    "    test_id = sub_id[test_index]\n",
    "    tuning_index = cv_perm[cv_idx[f%%fold+1,1]:cv_idx[f%%fold+1,2]]\n",
    "    tuning_id = sub_id[tuning_index]\n",
    "\n",
    "    X_test = list()\n",
    "    Y_test = list()\n",
    "    X_tune = list()\n",
    "    Y_tune = list()\n",
    "    X_train = list()\n",
    "    Y_train = list()\n",
    "    for(t in 1:T_num){\n",
    "        X_train_tmp = sub_id_map[[t]][!(sub_id_map[[t]]%in%c(test_index,tuning_index))]\n",
    "        Y_train_tmp = !(sub_id_map[[t]]%in%c(test_index,tuning_index))\n",
    "        X_tuning_tmp = sub_id_map[[t]][(sub_id_map[[t]]%in%tuning_index)]\n",
    "        Y_tuning_tmp = (sub_id_map[[t]]%in%tuning_index)\n",
    "        X_test_tmp = sub_id_map[[t]][(sub_id_map[[t]]%in%test_index)]\n",
    "        Y_test_tmp = (sub_id_map[[t]]%in%test_index)\n",
    "        # training data\n",
    "        X_train[[t]] = apply(as.matrix(dose_std[,X_train_tmp]),1,as.numeric)\n",
    "        Y_train[[t]] = Y[[t]][sub_id_map_genotype[[t]],][Y_train_tmp, 2]\n",
    "        X_tune[[t]] = apply(as.matrix(dose_std[,X_tuning_tmp]),1,as.numeric)\n",
    "        Y_tune[[t]] = Y[[t]][sub_id_map_genotype[[t]],][Y_tuning_tmp, 2]\n",
    "        X_test[[t]] = apply(as.matrix(dose_std[,X_test_tmp]),1,as.numeric)\n",
    "        Y_test[[t]] = Y[[t]][sub_id_map_genotype[[t]],][Y_test_tmp, 2]\n",
    "    }\n",
    "\n",
    "    ## model training ##\t\n",
    "    ## train elastic net and used average lambda as tuning parameters ##\n",
    "    single_initial_est = matrix(0, ncol(X_train[[1]]), T_num)\n",
    "    single_summary = list()\n",
    "    for(t in 1:T_num){\n",
    "        IRdisplay::display_html(length(Y_train[[t]]))\n",
    "        IRdisplay::display_html(dim(X_train[[t]]))\n",
    "        tt = cv.glmnet(X_train[[t]], Y_train[[t]], alpha = 0.5, nfolds = 5)\n",
    "        single_summary[[t]] = tt\n",
    "        single_initial_est[,t] = tt$glmnet.fit$beta[,which.min(tt$cvm)]\n",
    "    }\n",
    "    ## performance of Elastic net on tuning and testing data with various tuning parameters\n",
    "    els_output = elastic_net_mse(single_summary, X_tune, Y_tune, X_test, Y_test)\n",
    "    single_res_test[[f]] = els_output$mse\n",
    "    single_lam[f,] = els_output$lam\n",
    "    single_theta_est[[f]] = els_output$est\n",
    "    remove(els_output)\n",
    "\n",
    "    initial_numeric = as.numeric(single_initial_est)\n",
    "    lam_range = minmax_lambda(single_summary)\n",
    "    lam_V = seq(lam_range[1], lam_range[2], length.out = ntune)\n",
    "    remove(single_summary); \n",
    "    remove(single_initial_est);\n",
    "\n",
    "    ## preparation\n",
    "    XY = grad_prep(X_train, Y_train)\n",
    "#\t\tbgt = Sys.time()\n",
    "    XX_train = lapply(X_train, function(x){t(x)%*%x/nrow(x)})\n",
    "#\t\tedt = Sys.time()\n",
    "#\t\tprint(edt-bgt)\n",
    "\n",
    "\n",
    "    res_tune = rep(0, ntune)\n",
    "    best.lam = 0\n",
    "\n",
    "#\t\tbgt = Sys.time()\n",
    "    print(\"INFO: section C\")\n",
    "    for(lam in 1:ntune){\n",
    "        single_est = matrix(initial_numeric, M, P)\n",
    "        ans = glasso(X=X_train, Y=Y_train, X1=X_tune, Y1=Y_tune, XX=XX_train, XY=XY, Xnorm=Xnorm, lambda1=lam_V[lam], lambda2=lam_V[lam], theta=single_est)\n",
    "        res_tune[lam] = ans$tune_err\n",
    "        remove(single_est); remove(ans);\n",
    "    }\n",
    "#\t\tedt = Sys.time()\n",
    "#\t\tprint(edt-bgt)\n",
    "    \n",
    "    \n",
    "    best.lam = lam_V[which.min(res_tune)]\n",
    "    single_est = matrix(initial_numeric, M, P)\n",
    "    ans = glasso(X=X_train, Y=Y_train, X1=X_tune, Y1=Y_tune, XX=XX_train, XY=XY, Xnorm=Xnorm, lambda1=best.lam, lambda2=best.lam, theta=single_est)\n",
    "    multi_res_test[[f]] = multi_mse(ans$est, X_test, Y_test)\n",
    "    multi_lam[f] = best.lam\n",
    "    multi_theta_est[[f]] = ans$est\n",
    "    remove(single_est)\n",
    "    remove(ans)\n",
    "    edt = Sys.time()\n",
    "    print(edt-bgt)\n",
    "}"
   ]
  },
  {
   "cell_type": "code",
   "execution_count": null,
   "metadata": {},
   "outputs": [],
   "source": [
    "    t <- 1\n",
    "dim(X_train[[t]])\n",
    "length(Y_train[[t]])\n",
    "head(Y_train[[t]])"
   ]
  },
  {
   "cell_type": "code",
   "execution_count": null,
   "metadata": {},
   "outputs": [],
   "source": []
  },
  {
   "cell_type": "code",
   "execution_count": null,
   "metadata": {},
   "outputs": [],
   "source": []
  },
  {
   "cell_type": "code",
   "execution_count": null,
   "metadata": {},
   "outputs": [],
   "source": []
  },
  {
   "cell_type": "code",
   "execution_count": null,
   "metadata": {},
   "outputs": [],
   "source": []
  },
  {
   "cell_type": "code",
   "execution_count": null,
   "metadata": {},
   "outputs": [],
   "source": []
  },
  {
   "cell_type": "code",
   "execution_count": null,
   "metadata": {},
   "outputs": [],
   "source": []
  },
  {
   "cell_type": "code",
   "execution_count": null,
   "metadata": {},
   "outputs": [],
   "source": []
  },
  {
   "cell_type": "code",
   "execution_count": null,
   "metadata": {},
   "outputs": [],
   "source": []
  },
  {
   "cell_type": "code",
   "execution_count": null,
   "metadata": {},
   "outputs": [],
   "source": []
  },
  {
   "cell_type": "code",
   "execution_count": null,
   "metadata": {},
   "outputs": [],
   "source": []
  },
  {
   "cell_type": "code",
   "execution_count": null,
   "metadata": {},
   "outputs": [],
   "source": []
  },
  {
   "cell_type": "code",
   "execution_count": null,
   "metadata": {},
   "outputs": [],
   "source": [
    "length(Y[[t]][Y_train_tmp, 2])"
   ]
  },
  {
   "cell_type": "code",
   "execution_count": null,
   "metadata": {},
   "outputs": [],
   "source": [
    "head(Y_train_tmp)\n",
    "sum(Y_train_tmp)"
   ]
  },
  {
   "cell_type": "code",
   "execution_count": null,
   "metadata": {},
   "outputs": [],
   "source": [
    "length(Y_train_tmp)"
   ]
  },
  {
   "cell_type": "code",
   "execution_count": null,
   "metadata": {},
   "outputs": [],
   "source": [
    "t = 1\n",
    "X_train_tmp = sub_id_map[[t]][!(sub_id_map[[t]]%in%c(test_index,tuning_index))]\n",
    "Y_train_tmp = !(sub_id_map[[t]]%in%c(test_index,tuning_index))"
   ]
  },
  {
   "cell_type": "code",
   "execution_count": null,
   "metadata": {},
   "outputs": [],
   "source": [
    "length(sub_id_map[[1]])"
   ]
  },
  {
   "cell_type": "code",
   "execution_count": null,
   "metadata": {},
   "outputs": [],
   "source": [
    "length(X_train_tmp)\n",
    "sum(Y_train_tmp)"
   ]
  },
  {
   "cell_type": "code",
   "execution_count": null,
   "metadata": {},
   "outputs": [],
   "source": [
    "X_train[[t]][1:6, 1:6]"
   ]
  },
  {
   "cell_type": "code",
   "execution_count": null,
   "metadata": {},
   "outputs": [],
   "source": [
    "sum(is.na(X_train[[t]]))"
   ]
  },
  {
   "cell_type": "code",
   "execution_count": null,
   "metadata": {},
   "outputs": [],
   "source": [
    "sum(is.na(dose))\n",
    "sum(is.na(dose_std))\n",
    "dim(dose)\n",
    "dim(dose_std)"
   ]
  },
  {
   "cell_type": "code",
   "execution_count": null,
   "metadata": {},
   "outputs": [],
   "source": [
    "dim(X_train[[t]])\n",
    "length(Y_train[[t]])"
   ]
  },
  {
   "cell_type": "code",
   "execution_count": null,
   "metadata": {},
   "outputs": [],
   "source": [
    "class(X_train_tmp)"
   ]
  },
  {
   "cell_type": "code",
   "execution_count": null,
   "metadata": {},
   "outputs": [],
   "source": [
    "exp_id <- as.character(sapply(Y[[t]][,1], function(x) substr(x, 1, 10)))\n",
    "print(head(exp_id))\n",
    "sub_id_map[[t]] <- match(exp_id, sub_id)"
   ]
  },
  {
   "cell_type": "code",
   "execution_count": null,
   "metadata": {},
   "outputs": [],
   "source": [
    "sum(is.na(sub_id_map[[t]]))\n",
    "length(sub_id_map[[t]])"
   ]
  },
  {
   "cell_type": "code",
   "execution_count": null,
   "metadata": {},
   "outputs": [],
   "source": [
    "length(sub_id)"
   ]
  },
  {
   "cell_type": "code",
   "execution_count": null,
   "metadata": {},
   "outputs": [],
   "source": [
    "for(t in 1:T_num){\n",
    "    #for(t in 1:1){\n",
    "\t\t#tmp = rep(0, nrow(Y[[t]]))\n",
    "        exp_id <- as.character(sapply(Y[[t]][,1], function(x) substr(x, 1, 10)))\n",
    "        print(head(exp_id))\n",
    "\t\tsub_id_map[[t]] <- match(exp_id, sub_id)\n",
    "        #for(j in 1:length(tmp)){\n",
    "            # extract the id starting GTEX-xxxxx\n",
    "            \n",
    "\t\t\t#tmp[j] = which(sub_id==exp_id)\n",
    "\t\t#}\n",
    "\t\t#sub_id_map[[t]] = tmp\n",
    "\t}"
   ]
  },
  {
   "cell_type": "code",
   "execution_count": null,
   "metadata": {},
   "outputs": [],
   "source": []
  },
  {
   "cell_type": "code",
   "execution_count": null,
   "metadata": {},
   "outputs": [],
   "source": []
  }
 ],
 "metadata": {
  "kernelspec": {
   "display_name": "R",
   "language": "R",
   "name": "ir"
  },
  "language_info": {
   "codemirror_mode": "r",
   "file_extension": ".r",
   "mimetype": "text/x-r-source",
   "name": "R",
   "pygments_lexer": "r",
   "version": "3.5.0"
  }
 },
 "nbformat": 4,
 "nbformat_minor": 4
}
