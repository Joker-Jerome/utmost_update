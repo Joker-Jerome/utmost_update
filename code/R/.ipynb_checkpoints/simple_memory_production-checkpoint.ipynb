{
 "cells": [
  {
   "cell_type": "code",
   "execution_count": 1,
   "metadata": {},
   "outputs": [
    {
     "name": "stderr",
     "output_type": "stream",
     "text": [
      "Loading required package: Matrix\n",
      "\n",
      "Loading required package: foreach\n",
      "\n",
      "Loaded glmnet 2.0-13\n",
      "\n",
      "\n"
     ]
    }
   ],
   "source": [
    "#-------------------------- arguments ---------------------------#\n",
    "options(stringsAsFactors=F)\n",
    "library(glmnet)\n",
    "library(foreach)\n",
    "library(genio)\n",
    "library(Rcpp)\n",
    "\n",
    "\n",
    "\n",
    "bgt_origin = Sys.time()\n",
    "\n",
    "#-------------------------- functions ---------------------------#  \n",
    "\n",
    "grad_prep <- function(X, Y){\n",
    "\t## pre-calculate some metrics for gradient\n",
    "\tll = length(Y)\n",
    "\tP = ncol(X[[1]])\n",
    "\tXY = matrix(0,P,ll)\n",
    "\tfor(i in 1:ll){\n",
    "\t\tXY[,i] = t(X[[i]])%*%Y[[i]]/nrow(X[[i]])\n",
    "\t}\n",
    "\tXY\n",
    "}\n",
    "\n",
    "cv_helper <- function(N, fold){\n",
    "\tvalid_num = floor(N/fold)\n",
    "\tset.seed(123)\n",
    "\tperm = sample(1:N, size = N)\n",
    "\tidx1 = seq(1,N,valid_num)\n",
    "\tidx2 = c(idx1[-1]-1,N)\n",
    "\tlist(perm=perm, idx=cbind(idx1,idx2))\n",
    "}\n",
    "\n",
    "minmax_lambda <- function(lst){\n",
    "\tmax_lam = max(unlist(lapply(lst, function(x){max(x$lambda)})))\n",
    "\tmin_lam = min(unlist(lapply(lst, function(x){min(x$lambda)})))\n",
    "\tc(min_lam, max_lam)\n",
    "}\n",
    "\n",
    "elastic_net_mse <- function(lst, X_tune, Y_tune, X_test, Y_test){\n",
    "\tP = length(lst)\n",
    "\tM = ncol(X_tune[[1]])\n",
    "\tlam_V = rep(0, P)\n",
    "\ttest_res = list()\n",
    "\ttest_beta = matrix(0, M, P)\n",
    "\tfor(t in 1:P){\n",
    "\t\tncv = length(lst[[t]]$lambda)\n",
    "\t\ttmp_mse = rep(0, ncv)\n",
    "\t\tfor(k in 1:ncv){\n",
    "\t\t\ttmp_mse[k] = mean((Y_tune[[t]] - X_tune[[t]]%*%lst[[t]]$glmnet.fit$beta[,k])^2)\n",
    "\t\t}\n",
    "\t\tss = which.min(tmp_mse)\n",
    "\t\ttest_beta[,t] = lst[[t]]$glmnet.fit$beta[,ss]\n",
    "\t\tlam_V[t] = lst[[t]]$lambda[ss]\n",
    "\t\tpredicted = X_test[[t]]%*%lst[[t]]$glmnet.fit$beta[,ss]\n",
    "\t\ttest_res[[t]] = cbind(Y_test[[t]], predicted)\n",
    "\t}\n",
    "\tlist(lam = lam_V, mse = test_res, est = test_beta)\n",
    "}\n",
    "\n",
    "multi_mse <- function(theta_est, X_test, Y_test){\n",
    "\tanswer = list()\n",
    "\tP = ncol(theta_est)\n",
    "\tfor(t in 1:P){\n",
    "\t\tpredicted = X_test[[t]]%*%theta_est[,t]\n",
    "\t\tanswer[[t]] = cbind(Y_test[[t]], predicted)\n",
    "\t}\n",
    "\tanswer\n",
    "}\n",
    "\n",
    "avg_perm <- function(mse_lst){\n",
    "\tfd = length(mse_lst)\n",
    "\tP = length(mse_lst[[1]])\n",
    "\trsq = mse = adj_mse = matrix(0, fd, P)\n",
    "\tfor(f in 1:fd){\n",
    "\t\tfor(t in 1:P){\n",
    "\t\t\trsq[f,t] = (cor(mse_lst[[f]][[t]])[1,2])^2\n",
    "\t\t\tmse[f,t] = mean((mse_lst[[f]][[t]][,1]-mse_lst[[f]][[t]][,2])^2)\n",
    "\t\t\tadj_mse[f,t] = mse[f,t]/var(mse_lst[[f]][[t]][,1])\n",
    "\t\t}\n",
    "\t}\n",
    "\tcbind(apply(rsq, 2, mean), apply(mse, 2, mean), apply(adj_mse, 2, mean))\n",
    "\n",
    "\t#list(rsq = apply(rsq, 2, mean), mse = apply(mse, 2, mean), adj_mse = apply(adj_mse, 2, mean))\n",
    "}\n",
    "\n",
    "## group lasso on data with missing covariates, use validation data for stopping criterion\n",
    "glasso <- function(X, Y, X1, Y1, XX, XY, Xnorm, lambda1, lambda2, theta, stepsize = 1e-4, maxiter = 50, eps = 1e-3, verbose = FALSE){\n",
    "\tBgt = Sys.time()\n",
    "\tM = nrow(XY)\n",
    "\tP = length(X)\n",
    "\tNN = unlist(lapply(X, nrow))\n",
    "\told_objV1 = rep(0,P)\n",
    "\tfor(t in 1:P){\n",
    "\t\told_objV1[t] = 1/2*mean((Y[[t]]-X[[t]]%*%theta[,t])^2)\n",
    "\t}\n",
    "  if (verbose) {\n",
    "    cat(\"Training error: \", old_objV1, '\\n')\t\n",
    "  }\n",
    "\told_objV2 = rep(0,P)\n",
    "\tfor(t in 1:P){\n",
    "\t\told_objV2[t] = 1/2*mean((Y1[[t]]-X1[[t]]%*%theta[,t])^2)\n",
    "\t}\n",
    "\tif (verbose) {\n",
    "    cat(\"Testing error: \", old_objV2, '\\n')\n",
    "  }\n",
    "\tbeta_j_lasso = rep(0, P)\n",
    "\ttmp_XYj = 0\n",
    "\tif(!is.loaded(\"wrapper\")){\n",
    "\t\tdyn.load(\"/ysm-gpfs/pi/zhao/from_louise/yh367/GTEX/codes/glasso.so\") # change this to the abs path to optim.so\n",
    "\t}\n",
    "\tfor(i in 1:maxiter){\n",
    "\t\tbgt = Sys.time()\n",
    "\t\tres = .Call(\"wrapper\", XX, XY, theta, M, P, beta_j_lasso, lambda1, lambda2, Xnorm)\n",
    "\t\tedt = Sys.time()\n",
    "\t\t\n",
    "\t\tnew_objV1 = new_objV2 = rep(0,P)\n",
    "\t\tfor(t in 1:P){\n",
    "\t\t\tnew_objV1[t] = 1/2*mean((Y[[t]]-X[[t]]%*%theta[,t])^2)\n",
    "\t\t}\n",
    "\t\tif (verbose) {IRdisplay::display_html(paste0(\"Training error: \", new_objV1, '\\n'))}\n",
    "\t\tfor(t in 1:P){\n",
    "\t\t\tnew_objV2[t] = 1/2*mean((Y1[[t]]-X1[[t]]%*%theta[,t])^2)\n",
    "\t\t}\n",
    "\t\tif (verbose) {IRdisplay::display_html(paste0(\"Testing error: \", new_objV2, '\\n'))}\n",
    "\t\tif(mean(new_objV2) > mean(old_objV2)|mean(new_objV1) > mean(old_objV1)){\n",
    "\t\t\tbreak\n",
    "\t\t}else{\n",
    "\t\t\told_objV2 = new_objV2\n",
    "\t\t}\n",
    "\t\tif(max(abs(new_objV1-old_objV1)) < eps){\n",
    "\t\t\tbreak\n",
    "\t\t}else{\n",
    "\t\t\told_objV1 = new_objV1\n",
    "\t\t}\n",
    "\t}\n",
    "\tEdt = Sys.time()\n",
    "\tcat(\"total training time: \", Edt-Bgt, \"\\n\")\n",
    "\tlist(est = theta, avg_tune_err = mean(new_objV2), tune_err=new_objV2)\n",
    "}\n",
    "\n",
    "## simpler version of glasso, train model until converges \n",
    "glasso_no_early_stopping <- function(X, Y, XX, XY, Xnorm, lambda1, lambda2, theta, stepsize = 1e-4, maxiter = 50, eps = 1e-3, verbose = FALSE){\n",
    "  cat(\"running glasso_no_early_stopping\\n\")\n",
    "\tM = nrow(XY)\n",
    "\tP = length(X)\n",
    "\tNN = unlist(lapply(X, nrow))\n",
    "\told_objV1 = rep(0,P)\n",
    "\tfor(t in 1:P){\n",
    "\t\told_objV1[t] = 1/2*mean((Y[[t]]-X[[t]]%*%theta[,t])^2)\n",
    "\t}\n",
    "\tif (verbose) {cat(\"Training error: \", mean(old_objV1), '\\n')}\n",
    "\tbeta_j_lasso = rep(0, P)\n",
    "\ttmp_XYj = 0\n",
    "\tif(!is.loaded(\"wrapper\")){\n",
    "\t\tdyn.load(\"optim.so\")\n",
    "\t}\n",
    "\tfor(i in 1:maxiter){\n",
    "\t\tres = .Call(\"wrapper\", XX, XY, theta, M, P, beta_j_lasso, lambda1, lambda2, Xnorm)\n",
    "\t\tnew_objV1 = rep(0,P)\n",
    "\t\tfor(t in 1:P){\n",
    "\t\t\tnew_objV1[t] = 1/2*mean((Y[[t]]-X[[t]]%*%theta[,t])^2)\n",
    "\t\t}\n",
    "\t\tif (verbose) {cat(\"Training error: \", mean(new_objV1), '\\n')}\n",
    "\t\tif(max(abs(new_objV1-old_objV1)) < eps|mean(new_objV1) > mean(old_objV1)){\n",
    "\t\t\tbreak\n",
    "\t\t}else{\n",
    "\t\t\told_objV1 = new_objV1\n",
    "\t\t}\n",
    "\t}\n",
    "\tlist(est = theta, avg_train_err = mean(new_objV1), train_err = new_objV1)\n",
    "}\n",
    "\n",
    "# glasso final \n",
    "glasso_all <- function(X, Y, XX, XY, Xnorm, lambda1, lambda2, theta, stepsize = 1e-4, maxiter = 50, eps = 1e-3, verbose = FALSE){\n",
    "\tBgt = Sys.time()\n",
    "\tM = nrow(XY)\n",
    "\tP = length(X)\n",
    "\tNN = unlist(lapply(X, nrow))\n",
    "\told_objV1 = rep(0,P)\n",
    "\tfor(t in 1:P){\n",
    "\t\told_objV1[t] = 1/2*mean((Y[[t]]-X[[t]]%*%theta[,t])^2)\n",
    "\t}\n",
    "  if (verbose) {\n",
    "    cat(\"Training error: \", old_objV1, '\\n')\t\n",
    "  }\n",
    "\t\n",
    "\tbeta_j_lasso = rep(0, P)\n",
    "\ttmp_XYj = 0\n",
    "\tif(!is.loaded(\"wrapper\")){\n",
    "\t\tdyn.load(\"/ysm-gpfs/pi/zhao/from_louise/yh367/GTEX/codes/glasso.so\") # change this to the abs path to optim.so\n",
    "\t}\n",
    "\tfor(i in 1:maxiter){\n",
    "\t\tbgt = Sys.time()\n",
    "\t\tres = .Call(\"wrapper\", XX, XY, theta, M, P, beta_j_lasso, lambda1, lambda2, Xnorm)\n",
    "\t\tedt = Sys.time()\n",
    "\t\t\n",
    "\t\tnew_objV1 = rep(0,P)\n",
    "\t\tfor(t in 1:P){\n",
    "\t\t\tnew_objV1[t] = 1/2*mean((Y[[t]]-X[[t]]%*%theta[,t])^2)\n",
    "\t\t}\n",
    "\t\tif (verbose) {IRdisplay::display_html(paste0(\"Training error: \", new_objV1, '\\n'))}\n",
    "\t\t\n",
    "        # mean objective\n",
    "\t\tif(mean(new_objV1) > mean(old_objV1)){\n",
    "\t\t\tbreak\n",
    "\t\t}\n",
    "        \n",
    "        # update criteria\n",
    "\t\tif (max(abs(new_objV1-old_objV1)) < eps) {\n",
    "\t\t\tbreak\n",
    "\t\t} else {\n",
    "\t\t\told_objV1 = new_objV1\n",
    "\t\t}\n",
    "\t}\n",
    "\tEdt = Sys.time()\n",
    "\tcat(\"total training time: \", Edt-Bgt, \"\\n\")\n",
    "\tlist(est = theta, avg_train_err = mean(new_objV1), train_err=new_objV1)\n",
    "}\n",
    "\n",
    "# extract genotype\n",
    "extract_genotype <- function(gene_idx, chr_str, genotype_dir, gene_vec) {\n",
    "    gene_dir <- paste0(genotype_dir, chr_str, gene_vec[gene_idx], \"/\", gene_vec[gene_idx])\n",
    "    genotype_info <- read_plink(gene_dir)\n",
    "    \n",
    "    print(paste0(\"INFO: genotype matrix dimension:\", dim(genotype_info$X)[1], \" * \", dim(genotype_info$X)[2]))\n",
    "    return(genotype_info)\n",
    "}\n",
    "\n"
   ]
  },
  {
   "cell_type": "code",
   "execution_count": 2,
   "metadata": {},
   "outputs": [
    {
     "name": "stdout",
     "output_type": "stream",
     "text": [
      "[1] \"INFO: loading expression files...\"\n",
      "[1] \"INFO: loading genotype files...\"\n"
     ]
    },
    {
     "name": "stderr",
     "output_type": "stream",
     "text": [
      "Reading: /ysm-gpfs/project/wl382/GTEx_v8/genotype/cis_loc/chr21/ENSG00000141956.13/ENSG00000141956.13.bim\n",
      "\n",
      "Reading: /ysm-gpfs/project/wl382/GTEx_v8/genotype/cis_loc/chr21/ENSG00000141956.13/ENSG00000141956.13.fam\n",
      "\n",
      "Reading: /ysm-gpfs/project/wl382/GTEx_v8/genotype/cis_loc/chr21/ENSG00000141956.13/ENSG00000141956.13.bed\n",
      "\n"
     ]
    }
   ],
   "source": [
    "#-------------------------- main ---------------------------#  \n",
    "\n",
    "# testing\n",
    "if (T) {\n",
    "    args <- c(\"21\", \"1\")\n",
    "} \n",
    "#args = commandArgs(trailingOnly = TRUE)\n",
    "chr = as.numeric(args[1])\n",
    "gene_idx = as.numeric(args[2])\n",
    "\n",
    "#-------------------------- data import ---------------------------#  \n",
    "\n",
    "\n",
    "k = \"V1\"\n",
    "genotype_dir = \"/ysm-gpfs/project/wl382/GTEx_v8/genotype/cis_loc/\"\n",
    "gtex_dir = \"/gpfs/loomis/project/zhao/zy92/GTEX/\" \n",
    "glist = dir(paste0(gtex_dir, \"adjusted_expr/chr\", chr))\n",
    "\n",
    "\n",
    "# idx \n",
    "chr_str = paste0(\"chr\", chr, \"/\")\n",
    "gene_vec = list.files(paste0(genotype_dir, chr_str))\n",
    "dose_idx = which(startsWith(gene_vec, glist[gene_idx]))\n",
    "gene_id = gene_vec[dose_idx]\n",
    "g = glist[gene_idx]\n",
    "dose_path = paste0(genotype_dir, chr_str, gene_id, \"/\", gene_id)\n",
    "Yt = dir(paste0(gtex_dir, \"adjusted_expr/\", chr_str, g, \"/\"))\n",
    "P = length(Yt)\n",
    "output_dir = \"/gpfs/loomis/project/zhao/zy92/GTEX/output/\" \n",
    "ntune = 5\n",
    "if_verbose = F\n",
    "# loading fast matrix operations \n",
    "#sourceCpp(\"/gpfs/project/zhao/zy92/utmost_update/CTIMP/MatrixMtp.cpp\") # call the C++ file and we have three functions as armaMatMult，eigenMatMult，eigenMapMatMult.\n",
    "sourceCpp(\"/gpfs/loomis/project/zhao/zy92/utmost_update/CTIMP/MatrixMtp.cpp\") # call the C++ file and we have three functions as armaMatMult，eigenMatMult，eigenMapMatMult.\n",
    "\n",
    "\n",
    "\n",
    "# create dirs\n",
    "dir.create(paste0(output_dir, \"chr\", chr), showWarnings = FALSE)\n",
    "dir.create(paste0(output_dir, \"chr\", chr, \"/\", gene_id), showWarnings = FALSE)\n",
    "setwd(paste0(output_dir, \"chr\", chr, \"/\", gene_id))\n",
    "\n",
    "# expr files \n",
    "print(\"INFO: loading expression files...\")\n",
    "Y = list()\n",
    "T_idx = c()\n",
    "for(t in 1:P){\n",
    "    tmp_exp = read.table(paste0(gtex_dir, \"adjusted_expr/chr\", chr, \"/\", g, \"/\", Yt[t]), header=F)\n",
    "    # check if the y is constant\n",
    "    if (!all(tmp_exp[,2] == tmp_exp[1,2])) {\n",
    "        T_idx = c(T_idx, t)\n",
    "        Y[[length(T_idx)]] = tmp_exp \n",
    "    }\n",
    "     \n",
    "}\n",
    "Yt = Yt[T_idx]\n",
    "ssize = unlist(lapply(Y, nrow))\n",
    "T_num = length(Yt)\n",
    "P = T_num\n",
    "\n",
    "# genotype files \n",
    "print(\"INFO: loading genotype files...\")\t\n",
    "genotype_info <- read_plink(dose_path)\n",
    "dose = genotype_info$X #[1:1000, ]\n",
    "dose_std = dose\n",
    "\n",
    "# center the dose\n",
    "for(j in 1:nrow(dose)){\n",
    "    dose_std[j, is.na(dose[j, ])] <- mean(dose[j, ], na.rm = T)\n",
    "    dose_std[j, ] <- dose_std[j, ] - mean(dose[j, ], na.rm = T)\n",
    "}\n",
    "\n",
    "# covariance matrix \n",
    "n_sample = ncol(dose_std)\n",
    "tmp = t(as.matrix(dose_std))\n",
    "XX = eigenMatMult(t(tmp), tmp)/n_sample \n",
    "Xnorm = diag(XX)\n",
    "remove(tmp)\n",
    "remove(XX)\n",
    "sub_id = colnames(dose_std)\n",
    "\n",
    "# number of snps\n",
    "M = nrow(dose_std)\n",
    "sub_id_map = list()\n",
    "sub_id_map_exp = list()\n",
    "\n",
    "# sample matching \n",
    "for(t in 1:T_num){\n",
    "    #tmp = rep(0, nrow(Y[[t]]))\n",
    "    exp_id <- as.character(sapply(Y[[t]][,1], function(x) substr(x, 1, 10)))\n",
    "    # index of ids that have matched genotypes \n",
    "    # exp_id based on order of exp_id\n",
    "    match_id <- match(exp_id, sub_id)\n",
    "    sub_id_map[[t]] <- na.omit(match_id)\n",
    "    sub_id_map_exp[[t]] <- !is.na(match_id)  \n",
    "}\n",
    "\n",
    "# cv  "
   ]
  },
  {
   "cell_type": "code",
   "execution_count": 3,
   "metadata": {},
   "outputs": [
    {
     "data": {
      "text/html": [
       "INFO: Tissue 1"
      ]
     },
     "metadata": {},
     "output_type": "display_data"
    },
    {
     "data": {
      "text/html": [
       "INFO: Tissue 2"
      ]
     },
     "metadata": {},
     "output_type": "display_data"
    },
    {
     "data": {
      "text/html": [
       "INFO: Tissue 3"
      ]
     },
     "metadata": {},
     "output_type": "display_data"
    },
    {
     "data": {
      "text/html": [
       "INFO: Tissue 4"
      ]
     },
     "metadata": {},
     "output_type": "display_data"
    },
    {
     "data": {
      "text/html": [
       "INFO: Tissue 5"
      ]
     },
     "metadata": {},
     "output_type": "display_data"
    },
    {
     "data": {
      "text/html": [
       "INFO: Tissue 6"
      ]
     },
     "metadata": {},
     "output_type": "display_data"
    },
    {
     "data": {
      "text/html": [
       "INFO: Tissue 7"
      ]
     },
     "metadata": {},
     "output_type": "display_data"
    },
    {
     "data": {
      "text/html": [
       "INFO: Tissue 8"
      ]
     },
     "metadata": {},
     "output_type": "display_data"
    },
    {
     "data": {
      "text/html": [
       "INFO: Tissue 9"
      ]
     },
     "metadata": {},
     "output_type": "display_data"
    },
    {
     "data": {
      "text/html": [
       "INFO: Tissue 10"
      ]
     },
     "metadata": {},
     "output_type": "display_data"
    },
    {
     "data": {
      "text/html": [
       "INFO: Tissue 11"
      ]
     },
     "metadata": {},
     "output_type": "display_data"
    },
    {
     "data": {
      "text/html": [
       "INFO: Tissue 12"
      ]
     },
     "metadata": {},
     "output_type": "display_data"
    },
    {
     "data": {
      "text/html": [
       "INFO: Tissue 13"
      ]
     },
     "metadata": {},
     "output_type": "display_data"
    },
    {
     "data": {
      "text/html": [
       "INFO: Tissue 14"
      ]
     },
     "metadata": {},
     "output_type": "display_data"
    },
    {
     "data": {
      "text/html": [
       "INFO: Tissue 15"
      ]
     },
     "metadata": {},
     "output_type": "display_data"
    },
    {
     "data": {
      "text/html": [
       "INFO: Tissue 16"
      ]
     },
     "metadata": {},
     "output_type": "display_data"
    },
    {
     "data": {
      "text/html": [
       "INFO: Tissue 17"
      ]
     },
     "metadata": {},
     "output_type": "display_data"
    },
    {
     "data": {
      "text/html": [
       "INFO: Tissue 18"
      ]
     },
     "metadata": {},
     "output_type": "display_data"
    },
    {
     "data": {
      "text/html": [
       "INFO: Tissue 19"
      ]
     },
     "metadata": {},
     "output_type": "display_data"
    },
    {
     "data": {
      "text/html": [
       "INFO: Tissue 20"
      ]
     },
     "metadata": {},
     "output_type": "display_data"
    },
    {
     "data": {
      "text/html": [
       "INFO: Tissue 21"
      ]
     },
     "metadata": {},
     "output_type": "display_data"
    },
    {
     "data": {
      "text/html": [
       "INFO: Tissue 22"
      ]
     },
     "metadata": {},
     "output_type": "display_data"
    },
    {
     "data": {
      "text/html": [
       "INFO: Tissue 23"
      ]
     },
     "metadata": {},
     "output_type": "display_data"
    },
    {
     "data": {
      "text/html": [
       "INFO: Tissue 24"
      ]
     },
     "metadata": {},
     "output_type": "display_data"
    },
    {
     "data": {
      "text/html": [
       "INFO: Tissue 25"
      ]
     },
     "metadata": {},
     "output_type": "display_data"
    },
    {
     "data": {
      "text/html": [
       "INFO: Tissue 26"
      ]
     },
     "metadata": {},
     "output_type": "display_data"
    },
    {
     "data": {
      "text/html": [
       "INFO: Tissue 27"
      ]
     },
     "metadata": {},
     "output_type": "display_data"
    },
    {
     "data": {
      "text/html": [
       "INFO: Tissue 28"
      ]
     },
     "metadata": {},
     "output_type": "display_data"
    },
    {
     "data": {
      "text/html": [
       "INFO: Tissue 29"
      ]
     },
     "metadata": {},
     "output_type": "display_data"
    },
    {
     "data": {
      "text/html": [
       "INFO: Tissue 30"
      ]
     },
     "metadata": {},
     "output_type": "display_data"
    },
    {
     "data": {
      "text/html": [
       "INFO: Tissue 31"
      ]
     },
     "metadata": {},
     "output_type": "display_data"
    },
    {
     "data": {
      "text/html": [
       "INFO: Tissue 32"
      ]
     },
     "metadata": {},
     "output_type": "display_data"
    },
    {
     "data": {
      "text/html": [
       "INFO: Tissue 33"
      ]
     },
     "metadata": {},
     "output_type": "display_data"
    },
    {
     "data": {
      "text/html": [
       "INFO: Tissue 34"
      ]
     },
     "metadata": {},
     "output_type": "display_data"
    },
    {
     "data": {
      "text/html": [
       "INFO: Tissue 35"
      ]
     },
     "metadata": {},
     "output_type": "display_data"
    },
    {
     "data": {
      "text/html": [
       "INFO: Tissue 36"
      ]
     },
     "metadata": {},
     "output_type": "display_data"
    },
    {
     "data": {
      "text/html": [
       "INFO: Tissue 37"
      ]
     },
     "metadata": {},
     "output_type": "display_data"
    },
    {
     "data": {
      "text/html": [
       "INFO: Tissue 38"
      ]
     },
     "metadata": {},
     "output_type": "display_data"
    },
    {
     "data": {
      "text/html": [
       "INFO: Tissue 39"
      ]
     },
     "metadata": {},
     "output_type": "display_data"
    },
    {
     "data": {
      "text/html": [
       "INFO: Tissue 40"
      ]
     },
     "metadata": {},
     "output_type": "display_data"
    },
    {
     "data": {
      "text/html": [
       "INFO: Tissue 41"
      ]
     },
     "metadata": {},
     "output_type": "display_data"
    },
    {
     "data": {
      "text/html": [
       "INFO: Tissue 42"
      ]
     },
     "metadata": {},
     "output_type": "display_data"
    },
    {
     "data": {
      "text/html": [
       "INFO: Tissue 43"
      ]
     },
     "metadata": {},
     "output_type": "display_data"
    },
    {
     "data": {
      "text/html": [
       "INFO: Tissue 44"
      ]
     },
     "metadata": {},
     "output_type": "display_data"
    },
    {
     "data": {
      "text/html": [
       "INFO: Tissue 45"
      ]
     },
     "metadata": {},
     "output_type": "display_data"
    },
    {
     "data": {
      "text/html": [
       "INFO: Tissue 46"
      ]
     },
     "metadata": {},
     "output_type": "display_data"
    },
    {
     "data": {
      "text/html": [
       "INFO: Tissue 47"
      ]
     },
     "metadata": {},
     "output_type": "display_data"
    },
    {
     "data": {
      "text/html": [
       "INFO: Tissue 48"
      ]
     },
     "metadata": {},
     "output_type": "display_data"
    },
    {
     "data": {
      "text/html": [
       "INFO: Tissue 49"
      ]
     },
     "metadata": {},
     "output_type": "display_data"
    },
    {
     "name": "stdout",
     "output_type": "stream",
     "text": [
      "[1] \"INFO: Number of SNPs 2890\"\n"
     ]
    }
   ],
   "source": [
    "\n",
    "# feature selection based on glmnet\n",
    "X_all = list()\n",
    "Y_all = list()\n",
    "glmnet_list = list()\n",
    "for(t in 1:T_num){\n",
    "    X_all[[t]] = apply(as.matrix(dose_std[, sub_id_map[[t]]]),1,as.numeric)\n",
    "    Y_all[[t]] = Y[[t]][which(sub_id_map_exp[[t]] == T), 2]\n",
    "}\n",
    "# initial values \n",
    "alpha_vec = seq(0, 1, 0.1)\n",
    "single_initial_est = matrix(0, ncol(X_all[[1]]), T_num)\n",
    "for(t in 1:T_num) {\n",
    "    IRdisplay::display_html(paste0(\"INFO: Tissue \", t))\n",
    "    cvm_min = c()\n",
    "    for (alpha in alpha_vec) {\n",
    "        set.seed(1)\n",
    "        tt = cv.glmnet(X_all[[t]], Y_all[[t]], alpha = alpha, nfolds = 5)\n",
    "        cvm_min = c(cvm_min, min(tt$cvm))\n",
    "        glmnet_list[[t]] = tt\n",
    "        # update the beta if the current cvm is the min\n",
    "        if (min(tt$cvm) == min(cvm_min)) {\n",
    "            single_initial_est[,t] = tt$glmnet.fit$beta[,which.min(tt$cvm)]\n",
    "        }\n",
    "        \n",
    "    }\n",
    "}\n",
    "\n",
    "# feature selection results\n",
    "initial_numeric_df = data.frame(matrix(single_initial_est, nrow= 49))\n",
    "zero_summary = apply(initial_numeric_df, 2, function(x) sum(x == 0))\n",
    "print(paste0(\"INFO: Number of SNPs \", sum(zero_summary != T_num)))\n",
    "\n",
    "                     \n"
   ]
  },
  {
   "cell_type": "code",
   "execution_count": 4,
   "metadata": {},
   "outputs": [
    {
     "data": {
      "text/html": [
       "'/gpfs/loomis/project/zhao/zy92/GTEX/output/chr21/ENSG00000141956.13'"
      ],
      "text/latex": [
       "'/gpfs/loomis/project/zhao/zy92/GTEX/output/chr21/ENSG00000141956.13'"
      ],
      "text/markdown": [
       "'/gpfs/loomis/project/zhao/zy92/GTEX/output/chr21/ENSG00000141956.13'"
      ],
      "text/plain": [
       "[1] \"/gpfs/loomis/project/zhao/zy92/GTEX/output/chr21/ENSG00000141956.13\""
      ]
     },
     "metadata": {},
     "output_type": "display_data"
    }
   ],
   "source": [
    "getwd()"
   ]
  },
  {
   "cell_type": "code",
   "execution_count": 6,
   "metadata": {},
   "outputs": [],
   "source": [
    "# subset index\n",
    "index_snp = which(zero_summary != T_num)\n",
    "M = length(index_snp)\n",
    "\n",
    "# subsetting the genotype \n",
    "dose = genotype_info$X[index_snp, ] #[1:1000, ]\n",
    "dose_std = dose\n",
    "\n",
    "# center the dose\n",
    "for(j in 1:nrow(dose)){\n",
    "    dose_std[j, is.na(dose[j, ])] <- mean(dose[j, ], na.rm = T)\n",
    "    dose_std[j, ] <- dose_std[j, ] - mean(dose[j, ], na.rm = T)\n",
    "}\n",
    "\n",
    "# covariance matrix \n",
    "n_sample = ncol(dose_std)\n",
    "tmp = t(as.matrix(dose_std))\n",
    "XX = eigenMatMult(t(tmp), tmp)/n_sample \n",
    "Xnorm = diag(XX)\n",
    "remove(tmp)\n",
    "remove(XX)\n",
    "sub_id = colnames(dose_std)\n",
    "\n"
   ]
  },
  {
   "cell_type": "code",
   "execution_count": null,
   "metadata": {},
   "outputs": [],
   "source": [
    "getwd()"
   ]
  },
  {
   "cell_type": "code",
   "execution_count": 7,
   "metadata": {},
   "outputs": [
    {
     "data": {
      "text/html": [
       "INFO: CV preparation"
      ]
     },
     "metadata": {},
     "output_type": "display_data"
    },
    {
     "data": {
      "text/html": [
       "INFO: fold 1"
      ]
     },
     "metadata": {},
     "output_type": "display_data"
    },
    {
     "data": {
      "text/html": [
       "INFO: glmnet cv tissue5"
      ]
     },
     "metadata": {},
     "output_type": "display_data"
    },
    {
     "data": {
      "text/html": [
       "INFO: glmnet cv tissue10"
      ]
     },
     "metadata": {},
     "output_type": "display_data"
    },
    {
     "data": {
      "text/html": [
       "INFO: glmnet cv tissue15"
      ]
     },
     "metadata": {},
     "output_type": "display_data"
    },
    {
     "data": {
      "text/html": [
       "INFO: glmnet cv tissue20"
      ]
     },
     "metadata": {},
     "output_type": "display_data"
    },
    {
     "data": {
      "text/html": [
       "INFO: glmnet cv tissue25"
      ]
     },
     "metadata": {},
     "output_type": "display_data"
    },
    {
     "data": {
      "text/html": [
       "INFO: glmnet cv tissue30"
      ]
     },
     "metadata": {},
     "output_type": "display_data"
    },
    {
     "data": {
      "text/html": [
       "INFO: glmnet cv tissue35"
      ]
     },
     "metadata": {},
     "output_type": "display_data"
    },
    {
     "data": {
      "text/html": [
       "INFO: glmnet cv tissue40"
      ]
     },
     "metadata": {},
     "output_type": "display_data"
    },
    {
     "data": {
      "text/html": [
       "INFO: glmnet cv tissue45"
      ]
     },
     "metadata": {},
     "output_type": "display_data"
    },
    {
     "data": {
      "text/html": [
       "starting train-validate-test\n"
      ]
     },
     "metadata": {},
     "output_type": "display_data"
    },
    {
     "data": {
      "text/html": [
       "saving cross-validation results for evaluation and analysis\n"
      ]
     },
     "metadata": {},
     "output_type": "display_data"
    },
    {
     "data": {
      "text/html": [
       "INFO: fold 2"
      ]
     },
     "metadata": {},
     "output_type": "display_data"
    },
    {
     "data": {
      "text/html": [
       "INFO: glmnet cv tissue5"
      ]
     },
     "metadata": {},
     "output_type": "display_data"
    },
    {
     "data": {
      "text/html": [
       "INFO: glmnet cv tissue10"
      ]
     },
     "metadata": {},
     "output_type": "display_data"
    },
    {
     "data": {
      "text/html": [
       "INFO: glmnet cv tissue15"
      ]
     },
     "metadata": {},
     "output_type": "display_data"
    },
    {
     "data": {
      "text/html": [
       "INFO: glmnet cv tissue20"
      ]
     },
     "metadata": {},
     "output_type": "display_data"
    },
    {
     "data": {
      "text/html": [
       "INFO: glmnet cv tissue25"
      ]
     },
     "metadata": {},
     "output_type": "display_data"
    },
    {
     "data": {
      "text/html": [
       "INFO: glmnet cv tissue30"
      ]
     },
     "metadata": {},
     "output_type": "display_data"
    },
    {
     "data": {
      "text/html": [
       "INFO: glmnet cv tissue35"
      ]
     },
     "metadata": {},
     "output_type": "display_data"
    },
    {
     "data": {
      "text/html": [
       "INFO: glmnet cv tissue40"
      ]
     },
     "metadata": {},
     "output_type": "display_data"
    },
    {
     "data": {
      "text/html": [
       "INFO: glmnet cv tissue45"
      ]
     },
     "metadata": {},
     "output_type": "display_data"
    },
    {
     "data": {
      "text/html": [
       "starting train-validate-test\n"
      ]
     },
     "metadata": {},
     "output_type": "display_data"
    },
    {
     "data": {
      "text/html": [
       "saving cross-validation results for evaluation and analysis\n"
      ]
     },
     "metadata": {},
     "output_type": "display_data"
    },
    {
     "data": {
      "text/html": [
       "INFO: fold 3"
      ]
     },
     "metadata": {},
     "output_type": "display_data"
    },
    {
     "data": {
      "text/html": [
       "INFO: glmnet cv tissue5"
      ]
     },
     "metadata": {},
     "output_type": "display_data"
    },
    {
     "data": {
      "text/html": [
       "INFO: glmnet cv tissue10"
      ]
     },
     "metadata": {},
     "output_type": "display_data"
    },
    {
     "data": {
      "text/html": [
       "INFO: glmnet cv tissue15"
      ]
     },
     "metadata": {},
     "output_type": "display_data"
    },
    {
     "data": {
      "text/html": [
       "INFO: glmnet cv tissue20"
      ]
     },
     "metadata": {},
     "output_type": "display_data"
    },
    {
     "data": {
      "text/html": [
       "INFO: glmnet cv tissue25"
      ]
     },
     "metadata": {},
     "output_type": "display_data"
    },
    {
     "data": {
      "text/html": [
       "INFO: glmnet cv tissue30"
      ]
     },
     "metadata": {},
     "output_type": "display_data"
    },
    {
     "data": {
      "text/html": [
       "INFO: glmnet cv tissue35"
      ]
     },
     "metadata": {},
     "output_type": "display_data"
    },
    {
     "data": {
      "text/html": [
       "INFO: glmnet cv tissue40"
      ]
     },
     "metadata": {},
     "output_type": "display_data"
    },
    {
     "data": {
      "text/html": [
       "INFO: glmnet cv tissue45"
      ]
     },
     "metadata": {},
     "output_type": "display_data"
    },
    {
     "data": {
      "text/html": [
       "starting train-validate-test\n"
      ]
     },
     "metadata": {},
     "output_type": "display_data"
    },
    {
     "data": {
      "text/html": [
       "saving cross-validation results for evaluation and analysis\n"
      ]
     },
     "metadata": {},
     "output_type": "display_data"
    },
    {
     "data": {
      "text/html": [
       "INFO: fold 4"
      ]
     },
     "metadata": {},
     "output_type": "display_data"
    },
    {
     "data": {
      "text/html": [
       "INFO: glmnet cv tissue5"
      ]
     },
     "metadata": {},
     "output_type": "display_data"
    },
    {
     "data": {
      "text/html": [
       "INFO: glmnet cv tissue10"
      ]
     },
     "metadata": {},
     "output_type": "display_data"
    },
    {
     "data": {
      "text/html": [
       "INFO: glmnet cv tissue15"
      ]
     },
     "metadata": {},
     "output_type": "display_data"
    },
    {
     "data": {
      "text/html": [
       "INFO: glmnet cv tissue20"
      ]
     },
     "metadata": {},
     "output_type": "display_data"
    },
    {
     "data": {
      "text/html": [
       "INFO: glmnet cv tissue25"
      ]
     },
     "metadata": {},
     "output_type": "display_data"
    },
    {
     "data": {
      "text/html": [
       "INFO: glmnet cv tissue30"
      ]
     },
     "metadata": {},
     "output_type": "display_data"
    },
    {
     "data": {
      "text/html": [
       "INFO: glmnet cv tissue35"
      ]
     },
     "metadata": {},
     "output_type": "display_data"
    },
    {
     "data": {
      "text/html": [
       "INFO: glmnet cv tissue40"
      ]
     },
     "metadata": {},
     "output_type": "display_data"
    },
    {
     "data": {
      "text/html": [
       "INFO: glmnet cv tissue45"
      ]
     },
     "metadata": {},
     "output_type": "display_data"
    },
    {
     "data": {
      "text/html": [
       "starting train-validate-test\n"
      ]
     },
     "metadata": {},
     "output_type": "display_data"
    },
    {
     "data": {
      "text/html": [
       "saving cross-validation results for evaluation and analysis\n"
      ]
     },
     "metadata": {},
     "output_type": "display_data"
    },
    {
     "data": {
      "text/html": [
       "INFO: fold 5"
      ]
     },
     "metadata": {},
     "output_type": "display_data"
    },
    {
     "data": {
      "text/html": [
       "INFO: glmnet cv tissue5"
      ]
     },
     "metadata": {},
     "output_type": "display_data"
    },
    {
     "data": {
      "text/html": [
       "INFO: glmnet cv tissue10"
      ]
     },
     "metadata": {},
     "output_type": "display_data"
    },
    {
     "data": {
      "text/html": [
       "INFO: glmnet cv tissue15"
      ]
     },
     "metadata": {},
     "output_type": "display_data"
    },
    {
     "data": {
      "text/html": [
       "INFO: glmnet cv tissue20"
      ]
     },
     "metadata": {},
     "output_type": "display_data"
    },
    {
     "data": {
      "text/html": [
       "INFO: glmnet cv tissue25"
      ]
     },
     "metadata": {},
     "output_type": "display_data"
    },
    {
     "data": {
      "text/html": [
       "INFO: glmnet cv tissue30"
      ]
     },
     "metadata": {},
     "output_type": "display_data"
    },
    {
     "data": {
      "text/html": [
       "INFO: glmnet cv tissue35"
      ]
     },
     "metadata": {},
     "output_type": "display_data"
    },
    {
     "data": {
      "text/html": [
       "INFO: glmnet cv tissue40"
      ]
     },
     "metadata": {},
     "output_type": "display_data"
    },
    {
     "data": {
      "text/html": [
       "INFO: glmnet cv tissue45"
      ]
     },
     "metadata": {},
     "output_type": "display_data"
    },
    {
     "data": {
      "text/html": [
       "starting train-validate-test\n"
      ]
     },
     "metadata": {},
     "output_type": "display_data"
    },
    {
     "data": {
      "text/html": [
       "saving cross-validation results for evaluation and analysis\n"
      ]
     },
     "metadata": {},
     "output_type": "display_data"
    },
    {
     "name": "stdout",
     "output_type": "stream",
     "text": [
      "total training time:  0.825814 \n",
      "total training time:  1.50407 \n",
      "total training time:  0.7923913 \n",
      "total training time:  0.7893031 \n",
      "total training time:  1.510996 \n",
      "total training time:  0.7972858 \n",
      "total training time:  0.8014014 \n",
      "total training time:  1.58857 \n",
      "total training time:  0.7948656 \n",
      "total training time:  0.7941935 \n",
      "total training time:  1.518249 \n",
      "total training time:  0.7994039 \n",
      "total training time:  0.7892284 \n",
      "total training time:  1.51073 \n",
      "total training time:  0.7974472 \n",
      "total training time:  1.509857 \n",
      "Time difference of 1.021057 mins\n",
      "total training time:  0.8013928 \n",
      "total training time:  0.8015103 \n",
      "total training time:  0.8077164 \n",
      "total training time:  0.8039656 \n",
      "total training time:  0.8032775 \n",
      "total training time:  0.8085999 \n",
      "total training time:  0.804569 \n",
      "total training time:  0.8022578 \n",
      "total training time:  0.8017499 \n",
      "total training time:  0.8125668 \n",
      "total training time:  0.8037021 \n",
      "total training time:  0.8048396 \n",
      "total training time:  0.8023646 \n",
      "total training time:  0.8070076 \n",
      "total training time:  0.8050048 \n",
      "total training time:  0.8074422 \n",
      "Time difference of 56.37202 secs\n",
      "total training time:  0.8007357 \n",
      "total training time:  0.8018098 \n",
      "total training time:  0.8024013 \n",
      "total training time:  0.8071482 \n",
      "total training time:  0.8100786 \n",
      "total training time:  0.8029168 \n",
      "total training time:  0.796447 \n",
      "total training time:  0.7955675 \n",
      "total training time:  0.7959356 \n",
      "total training time:  0.8048334 \n",
      "total training time:  0.7980151 \n",
      "Time difference of 50.58973 secs\n",
      "total training time:  0.7913537 \n",
      "total training time:  2.227105 \n",
      "total training time:  0.7913404 \n",
      "total training time:  0.8211324 \n",
      "total training time:  2.238696 \n",
      "total training time:  0.790978 \n",
      "total training time:  0.7955728 \n",
      "total training time:  4.366648 \n",
      "total training time:  0.7890768 \n",
      "total training time:  0.7879272 \n",
      "total training time:  4.393296 \n",
      "total training time:  0.7918277 \n",
      "total training time:  0.792244 \n",
      "total training time:  2.944345 \n",
      "total training time:  0.7947276 \n",
      "total training time:  2.237172 \n",
      "Time difference of 1.129809 mins\n",
      "total training time:  0.8221271 \n",
      "total training time:  1.51925 \n",
      "total training time:  0.810905 \n",
      "total training time:  0.8012674 \n",
      "total training time:  1.521601 \n",
      "total training time:  0.8068161 \n",
      "total training time:  0.8136415 \n",
      "total training time:  1.524324 \n",
      "total training time:  0.8046401 \n",
      "total training time:  0.7990367 \n",
      "total training time:  1.521001 \n",
      "total training time:  0.7987814 \n",
      "total training time:  0.7950828 \n",
      "total training time:  1.544709 \n",
      "total training time:  0.8929071 \n",
      "total training time:  1.51573 \n",
      "Time difference of 59.05282 secs\n",
      "[1] \"Final Time Cost: \"\n",
      "Time difference of 38.53548 mins\n"
     ]
    }
   ],
   "source": [
    "# tuning based on CV\n",
    "fold = 5\n",
    "#IR                                \n",
    "IRdisplay::display_html(\"INFO: CV preparation\")\n",
    "cv_config = cv_helper(n_sample, fold)\n",
    "cv_perm = cv_config$perm\n",
    "cv_idx = cv_config$idx\n",
    "\n",
    "single_res_test = list()\n",
    "single_lam = matrix(0, fold, T_num)\n",
    "single_theta_est = list()\n",
    "\t\n",
    "multi_res_test = list()\n",
    "multi_lam = matrix(0, fold, 2)\n",
    "multi_theta_est = list()\n",
    "\n",
    "multi_res_test2 = list()\n",
    "multi_lam2 = array(0, dim=c(fold, T_num, 2))\n",
    "multi_theta_est2 = list()\n",
    "                                  \n",
    "\n",
    "res_tune = list()\n",
    "rec_lamv = matrix(0, fold, ntune)                                 \n",
    "                                  \n",
    "for(f in 1:fold){\n",
    "#for(f in 1:1){\n",
    "    bgt = Sys.time()\n",
    "    IRdisplay::display_html(paste0(\"INFO: fold \", f))\n",
    "    test_index = cv_perm[cv_idx[f,1]:cv_idx[f,2]]\n",
    "    test_id = sub_id[test_index]\n",
    "\n",
    "    # move the tuning idx to another idx block\n",
    "    tuning_index = cv_perm[cv_idx[f%%fold+1,1]:cv_idx[f%%fold+1,2]]\n",
    "    tuning_id = sub_id[tuning_index]\n",
    "\n",
    "    # idx list\n",
    "    X_test = list()\n",
    "    Y_test = list()\n",
    "    X_tune = list()\n",
    "    Y_tune = list()\n",
    "    X_train = list()\n",
    "    Y_train = list()\n",
    "    for(t in 1:T_num){\n",
    "        # idx matching  \n",
    "        id_filter = !(sub_id_map[[t]]%in%c(test_index,tuning_index))\n",
    "        X_train_tmp = sub_id_map[[t]][id_filter]\n",
    "        Y_train_tmp = which(sub_id_map_exp[[t]] == T)[id_filter]\n",
    "        tuning_id_filter = sub_id_map[[t]]%in%tuning_index\n",
    "        X_tuning_tmp = sub_id_map[[t]][tuning_id_filter]\n",
    "        Y_tuning_tmp = which(sub_id_map_exp[[t]] == T)[tuning_id_filter]\n",
    "        testing_id_filter = sub_id_map[[t]]%in%test_index\n",
    "        X_test_tmp = sub_id_map[[t]][testing_id_filter]\n",
    "        Y_test_tmp = which(sub_id_map_exp[[t]] == T)[testing_id_filter]\n",
    "        # training data\n",
    "        X_train[[t]] = apply(as.matrix(dose_std[,X_train_tmp]),1,as.numeric)\n",
    "        Y_train[[t]] = Y[[t]][Y_train_tmp, 2]\n",
    "        X_tune[[t]] = apply(as.matrix(dose_std[,X_tuning_tmp]),1,as.numeric)\n",
    "        Y_tune[[t]] = Y[[t]][Y_tuning_tmp, 2]\n",
    "        X_test[[t]] = apply(as.matrix(dose_std[,X_test_tmp]),1,as.numeric)\n",
    "        Y_test[[t]] = Y[[t]][Y_test_tmp, 2]\n",
    "        #IRdisplay::display_html(length(X_train_tmp))\n",
    "        #IRdisplay::display_html(length(Y_train_tmp))\n",
    "        #IRdisplay::display_html(dim(X_train[[t]]))\n",
    "        #IRdisplay::display_html(length(Y_train[[t]]))\n",
    "    }\n",
    "\n",
    "    ## model training ##\t\n",
    "    ## train elastic net and used average lambda as tuning parameters ##\n",
    "    single_initial_est = matrix(0, ncol(X_train[[1]]), T_num)\n",
    "    single_summary = list()\n",
    "    for(t in 1:T_num) {\n",
    "        #print(Y_train[[t]])\n",
    "        #print(sum(is.na(X_train[[t]])))\n",
    "        if (t %% 5 == 0) {\n",
    "            IRdisplay::display_html(paste0(\"INFO: glmnet cv tissue\", t))\n",
    "        }\n",
    "        \n",
    "        \n",
    "        tt = cv.glmnet(X_train[[t]], Y_train[[t]], alpha = 0.5, nfolds = 5)\n",
    "        single_summary[[t]] = tt\n",
    "        single_initial_est[,t] = tt$glmnet.fit$beta[,which.min(tt$cvm)]\n",
    "    }\n",
    "    ## performance of Elastic net on tuning and testing data with various tuning parameters\n",
    "    els_output = elastic_net_mse(single_summary, X_tune, Y_tune, X_test, Y_test)\n",
    "    single_res_test[[f]] = els_output$mse\n",
    "    single_lam[f,] = els_output$lam\n",
    "    single_theta_est[[f]] = els_output$est\n",
    "    remove(els_output)\n",
    "\n",
    "    \n",
    "    ## use elastic net ests row norm as weights ##\n",
    "    lam_range = minmax_lambda(single_summary)\n",
    "    sig_norm = apply(single_initial_est, 1, function(x){sqrt(sum(x^2))})\n",
    "    sig_norm[sig_norm==0] = rep(min(sig_norm[sig_norm>0]), sum(sig_norm==0))/2\n",
    "    sig_norm = sig_norm/sum(sig_norm)\n",
    "    weights2 = 1/sig_norm; weights2 = weights2/sum(weights2);\n",
    "\n",
    "    tis_norm = apply(single_initial_est, 2, function(x){sum(abs(x))})\n",
    "    tis_norm[tis_norm==0] = rep(min(tis_norm[tis_norm>0]), sum(tis_norm==0))/2\n",
    "    tis_norm = tis_norm/sum(tis_norm)\n",
    "    weights1 = 1/tis_norm; weights1 = weights1/sum(weights1);\n",
    "    lam_V = seq(lam_range[1], lam_range[2], length.out = ntune)\n",
    "    \n",
    "    # initial value\n",
    "    initial_numeric = as.numeric(single_initial_est)\n",
    "\tremove(single_summary)\n",
    "    remove(single_initial_est)\n",
    "\n",
    "\n",
    "    #-------------------------- train - validate - test ---------------------------#\n",
    "    IRdisplay::display_html('starting train-validate-test\\n')\n",
    "    ## preparation\n",
    "    XY = grad_prep(X_train, Y_train)\n",
    "    #bgt = Sys.time()\n",
    "    XX_train = lapply(X_train, function(x) { eigenMatMult(t(x), x)/nrow(x)})\n",
    "    #edt = Sys.time()\n",
    "    #print(edt-bgt)\n",
    "    \n",
    "    spsz = unlist(lapply(X_train,nrow))\n",
    "    #res_tune = rep(0, ntune)\n",
    "    res_tune[[f]] = array(-1, dim=c(ntune, ntune, T_num))\n",
    "    #best.lam = 0\n",
    "    rec_lamv[f,] = lam_V\n",
    "    for(lam1 in 1:ntune){\n",
    "        for(lam2 in 1:ntune){\n",
    "            single_est = matrix(initial_numeric, M, T_num )\n",
    "            ans = glasso(X=X_train, Y=Y_train, X1=X_tune, Y1=Y_tune, XX=XX_train, XY=XY, Xnorm=Xnorm, lambda1=lam_V[lam1]/spsz, lambda2=lam_V[lam2], theta=single_est, verbose = if_verbose)\n",
    "            if(sum(ans$est!=0)>0){\n",
    "                res_tune[[f]][lam1,lam2, ] = ans$tune_err\n",
    "                if (if_verbose) { cat(\"lambda1=\",lam_V[lam1], \"; lambda2=\", lam_V[lam2], \"; avg tune err=\", ans$avg_tune_err, '\\n') }\n",
    "                remove(single_est); remove(ans);\n",
    "            }else{\n",
    "                remove(single_est); remove(ans);\n",
    "                break\n",
    "            }\t\t\t\n",
    "        }\n",
    "    }\n",
    "    \n",
    "    \n",
    "    #-------------------------- save results on test set for evaluation ---------------------------#\n",
    "    IRdisplay::display_html(\"saving cross-validation results for evaluation and analysis\\n\")\n",
    "    avg_tune_res = apply(res_tune[[f]], c(1,2), mean)\n",
    "    best.lam = which(avg_tune_res == min(avg_tune_res[avg_tune_res>=0]), arr.ind = TRUE)[1,]\n",
    "    single_est = matrix(initial_numeric, M, P)\n",
    "    ans = glasso(X=X_train, Y=Y_train, X1=X_tune, Y1=Y_tune, XX=XX_train, XY=XY, Xnorm=Xnorm, lambda1=lam_V[best.lam[1]]/spsz, lambda2=lam_V[best.lam[2]], theta=single_est, verbose = if_verbose)\n",
    "    multi_res_test[[f]] = multi_mse(ans$est, X_test, Y_test)\n",
    "    multi_lam[f,] = lam_V[best.lam]\n",
    "    multi_theta_est[[f]] = ans$est\n",
    "    remove(single_est)\n",
    "    remove(ans)\n",
    "\n",
    "    \n",
    "    edt = Sys.time()\n",
    "    print(edt-bgt)\n",
    "} # end of cv loop\n",
    "edt_origin = Sys.time() \n",
    "print(\"Final Time Cost: \")                                 \n",
    "print(edt_origin-bgt_origin)\n",
    "   "
   ]
  },
  {
   "cell_type": "code",
   "execution_count": 8,
   "metadata": {},
   "outputs": [
    {
     "data": {
      "text/html": [
       "Tissue 1"
      ]
     },
     "metadata": {},
     "output_type": "display_data"
    },
    {
     "data": {
      "text/html": [
       "Tissue 2"
      ]
     },
     "metadata": {},
     "output_type": "display_data"
    },
    {
     "data": {
      "text/html": [
       "Tissue 3"
      ]
     },
     "metadata": {},
     "output_type": "display_data"
    },
    {
     "data": {
      "text/html": [
       "Tissue 4"
      ]
     },
     "metadata": {},
     "output_type": "display_data"
    },
    {
     "data": {
      "text/html": [
       "Tissue 5"
      ]
     },
     "metadata": {},
     "output_type": "display_data"
    },
    {
     "data": {
      "text/html": [
       "Tissue 6"
      ]
     },
     "metadata": {},
     "output_type": "display_data"
    },
    {
     "data": {
      "text/html": [
       "Tissue 7"
      ]
     },
     "metadata": {},
     "output_type": "display_data"
    },
    {
     "data": {
      "text/html": [
       "Tissue 8"
      ]
     },
     "metadata": {},
     "output_type": "display_data"
    },
    {
     "data": {
      "text/html": [
       "Tissue 9"
      ]
     },
     "metadata": {},
     "output_type": "display_data"
    },
    {
     "data": {
      "text/html": [
       "Tissue 10"
      ]
     },
     "metadata": {},
     "output_type": "display_data"
    },
    {
     "data": {
      "text/html": [
       "Tissue 11"
      ]
     },
     "metadata": {},
     "output_type": "display_data"
    },
    {
     "data": {
      "text/html": [
       "Tissue 12"
      ]
     },
     "metadata": {},
     "output_type": "display_data"
    },
    {
     "data": {
      "text/html": [
       "Tissue 13"
      ]
     },
     "metadata": {},
     "output_type": "display_data"
    },
    {
     "data": {
      "text/html": [
       "Tissue 14"
      ]
     },
     "metadata": {},
     "output_type": "display_data"
    },
    {
     "data": {
      "text/html": [
       "Tissue 15"
      ]
     },
     "metadata": {},
     "output_type": "display_data"
    },
    {
     "data": {
      "text/html": [
       "Tissue 16"
      ]
     },
     "metadata": {},
     "output_type": "display_data"
    },
    {
     "data": {
      "text/html": [
       "Tissue 17"
      ]
     },
     "metadata": {},
     "output_type": "display_data"
    },
    {
     "data": {
      "text/html": [
       "Tissue 18"
      ]
     },
     "metadata": {},
     "output_type": "display_data"
    },
    {
     "data": {
      "text/html": [
       "Tissue 19"
      ]
     },
     "metadata": {},
     "output_type": "display_data"
    },
    {
     "data": {
      "text/html": [
       "Tissue 20"
      ]
     },
     "metadata": {},
     "output_type": "display_data"
    },
    {
     "data": {
      "text/html": [
       "Tissue 21"
      ]
     },
     "metadata": {},
     "output_type": "display_data"
    },
    {
     "data": {
      "text/html": [
       "Tissue 22"
      ]
     },
     "metadata": {},
     "output_type": "display_data"
    },
    {
     "data": {
      "text/html": [
       "Tissue 23"
      ]
     },
     "metadata": {},
     "output_type": "display_data"
    },
    {
     "data": {
      "text/html": [
       "Tissue 24"
      ]
     },
     "metadata": {},
     "output_type": "display_data"
    },
    {
     "data": {
      "text/html": [
       "Tissue 25"
      ]
     },
     "metadata": {},
     "output_type": "display_data"
    },
    {
     "data": {
      "text/html": [
       "Tissue 26"
      ]
     },
     "metadata": {},
     "output_type": "display_data"
    },
    {
     "data": {
      "text/html": [
       "Tissue 27"
      ]
     },
     "metadata": {},
     "output_type": "display_data"
    },
    {
     "data": {
      "text/html": [
       "Tissue 28"
      ]
     },
     "metadata": {},
     "output_type": "display_data"
    },
    {
     "data": {
      "text/html": [
       "Tissue 29"
      ]
     },
     "metadata": {},
     "output_type": "display_data"
    },
    {
     "data": {
      "text/html": [
       "Tissue 30"
      ]
     },
     "metadata": {},
     "output_type": "display_data"
    },
    {
     "data": {
      "text/html": [
       "Tissue 31"
      ]
     },
     "metadata": {},
     "output_type": "display_data"
    },
    {
     "data": {
      "text/html": [
       "Tissue 32"
      ]
     },
     "metadata": {},
     "output_type": "display_data"
    },
    {
     "data": {
      "text/html": [
       "Tissue 33"
      ]
     },
     "metadata": {},
     "output_type": "display_data"
    },
    {
     "data": {
      "text/html": [
       "Tissue 34"
      ]
     },
     "metadata": {},
     "output_type": "display_data"
    },
    {
     "data": {
      "text/html": [
       "Tissue 35"
      ]
     },
     "metadata": {},
     "output_type": "display_data"
    },
    {
     "data": {
      "text/html": [
       "Tissue 36"
      ]
     },
     "metadata": {},
     "output_type": "display_data"
    },
    {
     "data": {
      "text/html": [
       "Tissue 37"
      ]
     },
     "metadata": {},
     "output_type": "display_data"
    },
    {
     "data": {
      "text/html": [
       "Tissue 38"
      ]
     },
     "metadata": {},
     "output_type": "display_data"
    },
    {
     "data": {
      "text/html": [
       "Tissue 39"
      ]
     },
     "metadata": {},
     "output_type": "display_data"
    },
    {
     "data": {
      "text/html": [
       "Tissue 40"
      ]
     },
     "metadata": {},
     "output_type": "display_data"
    },
    {
     "data": {
      "text/html": [
       "Tissue 41"
      ]
     },
     "metadata": {},
     "output_type": "display_data"
    },
    {
     "data": {
      "text/html": [
       "Tissue 42"
      ]
     },
     "metadata": {},
     "output_type": "display_data"
    },
    {
     "data": {
      "text/html": [
       "Tissue 43"
      ]
     },
     "metadata": {},
     "output_type": "display_data"
    },
    {
     "data": {
      "text/html": [
       "Tissue 44"
      ]
     },
     "metadata": {},
     "output_type": "display_data"
    },
    {
     "data": {
      "text/html": [
       "Tissue 45"
      ]
     },
     "metadata": {},
     "output_type": "display_data"
    },
    {
     "data": {
      "text/html": [
       "Tissue 46"
      ]
     },
     "metadata": {},
     "output_type": "display_data"
    },
    {
     "data": {
      "text/html": [
       "Tissue 47"
      ]
     },
     "metadata": {},
     "output_type": "display_data"
    },
    {
     "data": {
      "text/html": [
       "Tissue 48"
      ]
     },
     "metadata": {},
     "output_type": "display_data"
    },
    {
     "data": {
      "text/html": [
       "Tissue 49"
      ]
     },
     "metadata": {},
     "output_type": "display_data"
    },
    {
     "name": "stdout",
     "output_type": "stream",
     "text": [
      "total training time:  0.8362935 \n",
      "total training time:  0.8319657 \n",
      "total training time:  2.306339 \n",
      "total training time:  0.8294854 \n",
      "total training time:  0.8268149 \n",
      "total training time:  2.29966 \n",
      "Time difference of 1.208086 mins\n",
      "[1] \"done!\"\n"
     ]
    }
   ],
   "source": [
    "\n",
    "bgt = Sys.time()\n",
    "X_all = list()\n",
    "Y_all = list()\n",
    "for(t in 1:T_num){\n",
    "    X_all_tmp = sub_id_map[[t]]\n",
    "    X_all[[t]] = apply(as.matrix(dose_std[,X_all_tmp]), 1, as.numeric)\n",
    "    Y_all[[t]] = Y[[t]][which(sub_id_map_exp[[t]] == T), 2]\n",
    "}\n",
    "# initial values \n",
    "single_initial_est = matrix(0, ncol(X_train[[1]]), T_num)\n",
    "for(t in 1:T_num){\n",
    "    IRdisplay::display_html(paste0(\"Tissue \", t))\n",
    "    tt = cv.glmnet(X_all[[t]], Y_all[[t]], alpha = 0.5, nfolds = 5)\n",
    "    single_initial_est[,t] = tt$glmnet.fit$beta[,which.min(tt$cvm)]\n",
    "}\n",
    "\n",
    "sig_norm = apply(single_initial_est, 1, function(x){sqrt(sum(x^2))})\n",
    "sig_norm[sig_norm==0] = rep(min(sig_norm[sig_norm>0]), sum(sig_norm==0))/2\n",
    "sig_norm = sig_norm/sum(sig_norm)\n",
    "weights2 = 1/sig_norm; weights2 = weights2/sum(weights2);\n",
    "\n",
    "tis_norm = apply(single_initial_est, 2, function(x){sum(abs(x))})\n",
    "tis_norm[tis_norm==0] = rep(min(tis_norm[tis_norm>0]), sum(tis_norm==0))/2\n",
    "tis_norm = tis_norm/sum(tis_norm)\n",
    "weights1 = 1/tis_norm; weights1 = weights1/sum(weights1);\n",
    "\n",
    "spsz = unlist(lapply(X_all,nrow))\n",
    "initial_numeric = as.numeric(single_initial_est)\n",
    "#remove(single_initial_est)\n",
    "XY = grad_prep(X_all, Y_all)\n",
    "\n",
    "XX_all = lapply(X_all, function(x){eigenMatMult(t(x), x)/nrow(x)})\n",
    "tmp_res = rep(0, fold)\n",
    "for(f in 1:fold){\n",
    "\n",
    "\n",
    "    ans = glasso_all(X=X_all, Y=Y_all, XX=XX_all, XY=XY, Xnorm=Xnorm, lambda1=multi_lam[f,1]/spsz, lambda2=multi_lam[f,2], theta=matrix(initial_numeric,M,P), verbose = if_verbose)\n",
    "    tmp_res[f] = ans$avg_train_err\n",
    "}\n",
    "final.lam = multi_lam[which.min(tmp_res),]\n",
    "ans = glasso_all(X=X_all, Y=Y_all, XX=XX_all, XY=XY, Xnorm=Xnorm, lambda1=final.lam[1]/spsz, lambda2=final.lam[2], theta=matrix(initial_numeric,M,P), verbose = if_verbose)\n",
    "#info = read.table(info_path, header=T, sep='\\t')\n",
    "#downstream_est = data.frame(info[,1:3], ans$est)\n",
    "multi_all_res = multi_mse(ans$est, X_all, Y_all)\n",
    "single_all_res = multi_mse(single_initial_est, X_all, Y_all)\n",
    "\n",
    "info = genotype_info$bim\n",
    "downstream_est = data.frame(info[index_snp, ], ans$est)\n",
    "edt = Sys.time()\n",
    "print(edt-bgt)\n",
    "\n",
    "# save the results\n",
    "save(single_res_test, single_lam, single_theta_est, multi_res_test, multi_lam, multi_theta_est, index_snp, file = paste0(k, 'chr', chr, '.', gene_id, \".RData\"))\n",
    "write.table(downstream_est, paste0(gene_id, \".est\"), quote=F, row.names=F, col.names=c(colnames(genotype_info$bim), Yt))\n",
    "print('done!')"
   ]
  },
  {
   "cell_type": "code",
   "execution_count": 9,
   "metadata": {},
   "outputs": [
    {
     "data": {
      "text/html": [
       "'/gpfs/loomis/project/zhao/zy92/GTEX/output/chr21/ENSG00000141956.13'"
      ],
      "text/latex": [
       "'/gpfs/loomis/project/zhao/zy92/GTEX/output/chr21/ENSG00000141956.13'"
      ],
      "text/markdown": [
       "'/gpfs/loomis/project/zhao/zy92/GTEX/output/chr21/ENSG00000141956.13'"
      ],
      "text/plain": [
       "[1] \"/gpfs/loomis/project/zhao/zy92/GTEX/output/chr21/ENSG00000141956.13\""
      ]
     },
     "metadata": {},
     "output_type": "display_data"
    }
   ],
   "source": [
    "getwd()"
   ]
  }
 ],
 "metadata": {
  "kernelspec": {
   "display_name": "R",
   "language": "R",
   "name": "ir"
  },
  "language_info": {
   "codemirror_mode": "r",
   "file_extension": ".r",
   "mimetype": "text/x-r-source",
   "name": "R",
   "pygments_lexer": "r",
   "version": "3.5.0"
  }
 },
 "nbformat": 4,
 "nbformat_minor": 4
}
