{
 "cells": [
  {
   "cell_type": "code",
   "execution_count": 1,
   "metadata": {},
   "outputs": [],
   "source": [
    "suppressPackageStartupMessages(library(dplyr))\n",
    "suppressPackageStartupMessages(library(data.table))\n"
   ]
  },
  {
   "cell_type": "code",
   "execution_count": 2,
   "metadata": {},
   "outputs": [
    {
     "data": {
      "text/html": [],
      "text/latex": [],
      "text/markdown": [],
      "text/plain": [
       "character(0)"
      ]
     },
     "metadata": {},
     "output_type": "display_data"
    }
   ],
   "source": [
    "inter_dir <- \"/ysm-gpfs/pi/zhao/zy92/projects/utmost_update/GTEX/adjusted_expr\"\n",
    "inter_files <- list.files(\"/ysm-gpfs/pi/zhao/zy92/projects/utmost_update/GTEX/adjusted_expr/\")\n",
    "head(inter_files)"
   ]
  },
  {
   "cell_type": "code",
   "execution_count": 3,
   "metadata": {},
   "outputs": [
    {
     "data": {
      "text/html": [
       "<ol class=list-inline>\n",
       "\t<li>'adjusted_expr'</li>\n",
       "\t<li>'expression_list_target.RData'</li>\n",
       "\t<li>'gene_info_target.RData'</li>\n",
       "\t<li>'gene_info.RData'</li>\n",
       "\t<li>'protein_coding.RData'</li>\n",
       "\t<li>'proteingene_list.RData'</li>\n",
       "</ol>\n"
      ],
      "text/latex": [
       "\\begin{enumerate*}\n",
       "\\item 'adjusted\\_expr'\n",
       "\\item 'expression\\_list\\_target.RData'\n",
       "\\item 'gene\\_info\\_target.RData'\n",
       "\\item 'gene\\_info.RData'\n",
       "\\item 'protein\\_coding.RData'\n",
       "\\item 'proteingene\\_list.RData'\n",
       "\\end{enumerate*}\n"
      ],
      "text/markdown": [
       "1. 'adjusted_expr'\n",
       "2. 'expression_list_target.RData'\n",
       "3. 'gene_info_target.RData'\n",
       "4. 'gene_info.RData'\n",
       "5. 'protein_coding.RData'\n",
       "6. 'proteingene_list.RData'\n",
       "\n",
       "\n"
      ],
      "text/plain": [
       "[1] \"adjusted_expr\"                \"expression_list_target.RData\"\n",
       "[3] \"gene_info_target.RData\"       \"gene_info.RData\"             \n",
       "[5] \"protein_coding.RData\"         \"proteingene_list.RData\"      "
      ]
     },
     "metadata": {},
     "output_type": "display_data"
    }
   ],
   "source": [
    "list.files(\"/ysm-gpfs/pi/zhao/zy92/projects/utmost_update//GTEX/\")"
   ]
  },
  {
   "cell_type": "code",
   "execution_count": 4,
   "metadata": {},
   "outputs": [
    {
     "data": {
      "text/html": [
       "'/ysm-gpfs/pi/zhao/zy92/projects/utmost_update/'"
      ],
      "text/latex": [
       "'/ysm-gpfs/pi/zhao/zy92/projects/utmost\\_update/'"
      ],
      "text/markdown": [
       "'/ysm-gpfs/pi/zhao/zy92/projects/utmost_update/'"
      ],
      "text/plain": [
       "[1] \"/ysm-gpfs/pi/zhao/zy92/projects/utmost_update/\""
      ]
     },
     "metadata": {},
     "output_type": "display_data"
    }
   ],
   "source": [
    "head((\"/ysm-gpfs/pi/zhao/zy92/projects/utmost_update/\"))"
   ]
  },
  {
   "cell_type": "code",
   "execution_count": 5,
   "metadata": {},
   "outputs": [
    {
     "data": {
      "text/html": [
       "'gene_info_target'"
      ],
      "text/latex": [
       "'gene\\_info\\_target'"
      ],
      "text/markdown": [
       "'gene_info_target'"
      ],
      "text/plain": [
       "[1] \"gene_info_target\""
      ]
     },
     "metadata": {},
     "output_type": "display_data"
    }
   ],
   "source": [
    "ln1 <- load(\"/ysm-gpfs/pi/zhao/zy92/projects/utmost_update//GTEX/gene_info_target.RData\")\n",
    "ln1"
   ]
  },
  {
   "cell_type": "code",
   "execution_count": 6,
   "metadata": {},
   "outputs": [
    {
     "data": {
      "text/html": [
       "<ol class=list-inline>\n",
       "\t<li>27208</li>\n",
       "\t<li>4</li>\n",
       "</ol>\n"
      ],
      "text/latex": [
       "\\begin{enumerate*}\n",
       "\\item 27208\n",
       "\\item 4\n",
       "\\end{enumerate*}\n"
      ],
      "text/markdown": [
       "1. 27208\n",
       "2. 4\n",
       "\n",
       "\n"
      ],
      "text/plain": [
       "[1] 27208     4"
      ]
     },
     "metadata": {},
     "output_type": "display_data"
    }
   ],
   "source": [
    "dim(gene_info_target)"
   ]
  },
  {
   "cell_type": "code",
   "execution_count": 7,
   "metadata": {},
   "outputs": [
    {
     "data": {
      "text/html": [
       "<ol class=list-inline>\n",
       "\t<li>'sample_count'</li>\n",
       "\t<li>'idx_list'</li>\n",
       "</ol>\n"
      ],
      "text/latex": [
       "\\begin{enumerate*}\n",
       "\\item 'sample\\_count'\n",
       "\\item 'idx\\_list'\n",
       "\\end{enumerate*}\n"
      ],
      "text/markdown": [
       "1. 'sample_count'\n",
       "2. 'idx_list'\n",
       "\n",
       "\n"
      ],
      "text/plain": [
       "[1] \"sample_count\" \"idx_list\"    "
      ]
     },
     "metadata": {},
     "output_type": "display_data"
    }
   ],
   "source": [
    "ln2 <- load(\"/ysm-gpfs/pi/zhao/zy92/projects/utmost_update/tissue_idx.RData\")\n",
    "ln2 "
   ]
  },
  {
   "cell_type": "code",
   "execution_count": 8,
   "metadata": {},
   "outputs": [
    {
     "data": {
      "text/html": [
       "<ol class=list-inline>\n",
       "\t<li>'Whole Blood'</li>\n",
       "\t<li>'Brain - Frontal Cortex (BA9)'</li>\n",
       "\t<li>'Adipose - Subcutaneous'</li>\n",
       "\t<li>'Muscle - Skeletal'</li>\n",
       "\t<li>'Artery - Tibial'</li>\n",
       "\t<li>'Artery - Coronary'</li>\n",
       "</ol>\n"
      ],
      "text/latex": [
       "\\begin{enumerate*}\n",
       "\\item 'Whole Blood'\n",
       "\\item 'Brain - Frontal Cortex (BA9)'\n",
       "\\item 'Adipose - Subcutaneous'\n",
       "\\item 'Muscle - Skeletal'\n",
       "\\item 'Artery - Tibial'\n",
       "\\item 'Artery - Coronary'\n",
       "\\end{enumerate*}\n"
      ],
      "text/markdown": [
       "1. 'Whole Blood'\n",
       "2. 'Brain - Frontal Cortex (BA9)'\n",
       "3. 'Adipose - Subcutaneous'\n",
       "4. 'Muscle - Skeletal'\n",
       "5. 'Artery - Tibial'\n",
       "6. 'Artery - Coronary'\n",
       "\n",
       "\n"
      ],
      "text/plain": [
       "[1] \"Whole Blood\"                  \"Brain - Frontal Cortex (BA9)\"\n",
       "[3] \"Adipose - Subcutaneous\"       \"Muscle - Skeletal\"           \n",
       "[5] \"Artery - Tibial\"              \"Artery - Coronary\"           "
      ]
     },
     "metadata": {},
     "output_type": "display_data"
    },
    {
     "data": {
      "text/html": [
       "<ol class=list-inline>\n",
       "\t<li>'GTEX-1117F-0003-SM-58Q7G'</li>\n",
       "\t<li>'GTEX-1117F-0003-SM-5DWSB'</li>\n",
       "\t<li>'GTEX-1117F-0003-SM-6WBT7'</li>\n",
       "\t<li>'GTEX-111CU-0003-SM-58Q95'</li>\n",
       "\t<li>'GTEX-111CU-0003-SM-5DWTR'</li>\n",
       "\t<li>'GTEX-111CU-0003-SM-6WBUD'</li>\n",
       "</ol>\n"
      ],
      "text/latex": [
       "\\begin{enumerate*}\n",
       "\\item 'GTEX-1117F-0003-SM-58Q7G'\n",
       "\\item 'GTEX-1117F-0003-SM-5DWSB'\n",
       "\\item 'GTEX-1117F-0003-SM-6WBT7'\n",
       "\\item 'GTEX-111CU-0003-SM-58Q95'\n",
       "\\item 'GTEX-111CU-0003-SM-5DWTR'\n",
       "\\item 'GTEX-111CU-0003-SM-6WBUD'\n",
       "\\end{enumerate*}\n"
      ],
      "text/markdown": [
       "1. 'GTEX-1117F-0003-SM-58Q7G'\n",
       "2. 'GTEX-1117F-0003-SM-5DWSB'\n",
       "3. 'GTEX-1117F-0003-SM-6WBT7'\n",
       "4. 'GTEX-111CU-0003-SM-58Q95'\n",
       "5. 'GTEX-111CU-0003-SM-5DWTR'\n",
       "6. 'GTEX-111CU-0003-SM-6WBUD'\n",
       "\n",
       "\n"
      ],
      "text/plain": [
       "[1] \"GTEX-1117F-0003-SM-58Q7G\" \"GTEX-1117F-0003-SM-5DWSB\"\n",
       "[3] \"GTEX-1117F-0003-SM-6WBT7\" \"GTEX-111CU-0003-SM-58Q95\"\n",
       "[5] \"GTEX-111CU-0003-SM-5DWTR\" \"GTEX-111CU-0003-SM-6WBUD\""
      ]
     },
     "metadata": {},
     "output_type": "display_data"
    }
   ],
   "source": [
    "head(names(idx_list))\n",
    "head(idx_list[['Whole Blood']])"
   ]
  },
  {
   "cell_type": "code",
   "execution_count": 9,
   "metadata": {},
   "outputs": [
    {
     "data": {
      "text/html": [
       "<ol class=list-inline>\n",
       "\t<li>56200</li>\n",
       "\t<li>17384</li>\n",
       "</ol>\n"
      ],
      "text/latex": [
       "\\begin{enumerate*}\n",
       "\\item 56200\n",
       "\\item 17384\n",
       "\\end{enumerate*}\n"
      ],
      "text/markdown": [
       "1. 56200\n",
       "2. 17384\n",
       "\n",
       "\n"
      ],
      "text/plain": [
       "[1] 56200 17384"
      ]
     },
     "metadata": {},
     "output_type": "display_data"
    }
   ],
   "source": [
    "# collect the data \n",
    "expression_df <- fread(\"/ysm-gpfs/pi/zhao-data/zy92/GTEx_V8/GTEx_Analysis_2017-06-05_v8_RNASeQCv1.1.9_gene_tpm.gct\")\n",
    "dim(expression_df)"
   ]
  },
  {
   "cell_type": "code",
   "execution_count": 10,
   "metadata": {},
   "outputs": [
    {
     "data": {
      "text/html": [
       "<ol class=list-inline>\n",
       "\t<li>'Name'</li>\n",
       "\t<li>'Description'</li>\n",
       "\t<li>'GTEX-1117F-0226-SM-5GZZ7'</li>\n",
       "\t<li>'GTEX-1117F-0426-SM-5EGHI'</li>\n",
       "\t<li>'GTEX-1117F-0526-SM-5EGHJ'</li>\n",
       "\t<li>'GTEX-1117F-0626-SM-5N9CS'</li>\n",
       "</ol>\n"
      ],
      "text/latex": [
       "\\begin{enumerate*}\n",
       "\\item 'Name'\n",
       "\\item 'Description'\n",
       "\\item 'GTEX-1117F-0226-SM-5GZZ7'\n",
       "\\item 'GTEX-1117F-0426-SM-5EGHI'\n",
       "\\item 'GTEX-1117F-0526-SM-5EGHJ'\n",
       "\\item 'GTEX-1117F-0626-SM-5N9CS'\n",
       "\\end{enumerate*}\n"
      ],
      "text/markdown": [
       "1. 'Name'\n",
       "2. 'Description'\n",
       "3. 'GTEX-1117F-0226-SM-5GZZ7'\n",
       "4. 'GTEX-1117F-0426-SM-5EGHI'\n",
       "5. 'GTEX-1117F-0526-SM-5EGHJ'\n",
       "6. 'GTEX-1117F-0626-SM-5N9CS'\n",
       "\n",
       "\n"
      ],
      "text/plain": [
       "[1] \"Name\"                     \"Description\"             \n",
       "[3] \"GTEX-1117F-0226-SM-5GZZ7\" \"GTEX-1117F-0426-SM-5EGHI\"\n",
       "[5] \"GTEX-1117F-0526-SM-5EGHJ\" \"GTEX-1117F-0626-SM-5N9CS\""
      ]
     },
     "metadata": {},
     "output_type": "display_data"
    }
   ],
   "source": [
    "head(colnames(expression_df))"
   ]
  },
  {
   "cell_type": "code",
   "execution_count": 11,
   "metadata": {},
   "outputs": [],
   "source": [
    "#target_idx <- idx_list[['Whole Blood']] %in% colnames(expression_df)\n",
    "# length(target_idx)\n",
    "# sum(target_idx)\n",
    "# head(target_idx)"
   ]
  },
  {
   "cell_type": "code",
   "execution_count": 12,
   "metadata": {},
   "outputs": [
    {
     "data": {
      "text/html": [
       "<ol class=list-inline>\n",
       "\t<li>56200</li>\n",
       "\t<li>17384</li>\n",
       "</ol>\n"
      ],
      "text/latex": [
       "\\begin{enumerate*}\n",
       "\\item 56200\n",
       "\\item 17384\n",
       "\\end{enumerate*}\n"
      ],
      "text/markdown": [
       "1. 56200\n",
       "2. 17384\n",
       "\n",
       "\n"
      ],
      "text/plain": [
       "[1] 56200 17384"
      ]
     },
     "metadata": {},
     "output_type": "display_data"
    },
    {
     "data": {
      "text/html": [
       "17384"
      ],
      "text/latex": [
       "17384"
      ],
      "text/markdown": [
       "17384"
      ],
      "text/plain": [
       "[1] 17384"
      ]
     },
     "metadata": {},
     "output_type": "display_data"
    }
   ],
   "source": [
    "dim(expression_df)\n",
    "length(colnames(expression_df))"
   ]
  },
  {
   "cell_type": "code",
   "execution_count": null,
   "metadata": {},
   "outputs": [],
   "source": []
  },
  {
   "cell_type": "code",
   "execution_count": 13,
   "metadata": {},
   "outputs": [
    {
     "data": {
      "text/html": [
       "<ol class=list-inline>\n",
       "\t<li>'GTEX-1117F-0003-SM-58Q7G'</li>\n",
       "\t<li>'GTEX-1117F-0003-SM-5DWSB'</li>\n",
       "\t<li>'GTEX-1117F-0003-SM-6WBT7'</li>\n",
       "\t<li>'GTEX-111CU-0003-SM-58Q95'</li>\n",
       "\t<li>'GTEX-111CU-0003-SM-5DWTR'</li>\n",
       "\t<li>'GTEX-111CU-0003-SM-6WBUD'</li>\n",
       "</ol>\n"
      ],
      "text/latex": [
       "\\begin{enumerate*}\n",
       "\\item 'GTEX-1117F-0003-SM-58Q7G'\n",
       "\\item 'GTEX-1117F-0003-SM-5DWSB'\n",
       "\\item 'GTEX-1117F-0003-SM-6WBT7'\n",
       "\\item 'GTEX-111CU-0003-SM-58Q95'\n",
       "\\item 'GTEX-111CU-0003-SM-5DWTR'\n",
       "\\item 'GTEX-111CU-0003-SM-6WBUD'\n",
       "\\end{enumerate*}\n"
      ],
      "text/markdown": [
       "1. 'GTEX-1117F-0003-SM-58Q7G'\n",
       "2. 'GTEX-1117F-0003-SM-5DWSB'\n",
       "3. 'GTEX-1117F-0003-SM-6WBT7'\n",
       "4. 'GTEX-111CU-0003-SM-58Q95'\n",
       "5. 'GTEX-111CU-0003-SM-5DWTR'\n",
       "6. 'GTEX-111CU-0003-SM-6WBUD'\n",
       "\n",
       "\n"
      ],
      "text/plain": [
       "[1] \"GTEX-1117F-0003-SM-58Q7G\" \"GTEX-1117F-0003-SM-5DWSB\"\n",
       "[3] \"GTEX-1117F-0003-SM-6WBT7\" \"GTEX-111CU-0003-SM-58Q95\"\n",
       "[5] \"GTEX-111CU-0003-SM-5DWTR\" \"GTEX-111CU-0003-SM-6WBUD\""
      ]
     },
     "metadata": {},
     "output_type": "display_data"
    }
   ],
   "source": [
    "head(idx_list[['Whole Blood']])"
   ]
  },
  {
   "cell_type": "code",
   "execution_count": 14,
   "metadata": {},
   "outputs": [
    {
     "data": {
      "text/html": [
       "3288"
      ],
      "text/latex": [
       "3288"
      ],
      "text/markdown": [
       "3288"
      ],
      "text/plain": [
       "[1] 3288"
      ]
     },
     "metadata": {},
     "output_type": "display_data"
    },
    {
     "data": {
      "text/html": [
       "3288"
      ],
      "text/latex": [
       "3288"
      ],
      "text/markdown": [
       "3288"
      ],
      "text/plain": [
       "[1] 3288"
      ]
     },
     "metadata": {},
     "output_type": "display_data"
    }
   ],
   "source": [
    "length(idx_list[['Whole Blood']])\n",
    "length(unique(idx_list[['Whole Blood']]))\n",
    "\n"
   ]
  },
  {
   "cell_type": "code",
   "execution_count": 15,
   "metadata": {},
   "outputs": [],
   "source": [
    "tissue <- \"Whole Blood\"\n",
    "header <- colnames(expression_df)\n",
    "target_idx <- match(idx_list[[tissue]], header)\n",
    "target_idx_col <- which(!is.na(target_idx))\n",
    "#target_idx <- target_idx[which(target_idx == T)]\n",
    "#expression_list[[tissue]] <- expression_df[, c(1,2,target_idx)]"
   ]
  },
  {
   "cell_type": "code",
   "execution_count": 16,
   "metadata": {},
   "outputs": [
    {
     "data": {
      "text/html": [
       "<ol class=list-inline>\n",
       "\t<li>16</li>\n",
       "\t<li>20</li>\n",
       "\t<li>24</li>\n",
       "\t<li>28</li>\n",
       "\t<li>32</li>\n",
       "\t<li>36</li>\n",
       "</ol>\n"
      ],
      "text/latex": [
       "\\begin{enumerate*}\n",
       "\\item 16\n",
       "\\item 20\n",
       "\\item 24\n",
       "\\item 28\n",
       "\\item 32\n",
       "\\item 36\n",
       "\\end{enumerate*}\n"
      ],
      "text/markdown": [
       "1. 16\n",
       "2. 20\n",
       "3. 24\n",
       "4. 28\n",
       "5. 32\n",
       "6. 36\n",
       "\n",
       "\n"
      ],
      "text/plain": [
       "[1] 16 20 24 28 32 36"
      ]
     },
     "metadata": {},
     "output_type": "display_data"
    }
   ],
   "source": [
    "head(target_idx_col)"
   ]
  },
  {
   "cell_type": "code",
   "execution_count": 17,
   "metadata": {},
   "outputs": [
    {
     "data": {
      "text/html": [
       "<ol class=list-inline>\n",
       "\t<li>'GTEX-1117F-0003-SM-58Q7G'</li>\n",
       "\t<li>'GTEX-1117F-0003-SM-5DWSB'</li>\n",
       "\t<li>'GTEX-1117F-0003-SM-6WBT7'</li>\n",
       "\t<li>'GTEX-111CU-0003-SM-58Q95'</li>\n",
       "\t<li>'GTEX-111CU-0003-SM-5DWTR'</li>\n",
       "\t<li>'GTEX-111CU-0003-SM-6WBUD'</li>\n",
       "</ol>\n"
      ],
      "text/latex": [
       "\\begin{enumerate*}\n",
       "\\item 'GTEX-1117F-0003-SM-58Q7G'\n",
       "\\item 'GTEX-1117F-0003-SM-5DWSB'\n",
       "\\item 'GTEX-1117F-0003-SM-6WBT7'\n",
       "\\item 'GTEX-111CU-0003-SM-58Q95'\n",
       "\\item 'GTEX-111CU-0003-SM-5DWTR'\n",
       "\\item 'GTEX-111CU-0003-SM-6WBUD'\n",
       "\\end{enumerate*}\n"
      ],
      "text/markdown": [
       "1. 'GTEX-1117F-0003-SM-58Q7G'\n",
       "2. 'GTEX-1117F-0003-SM-5DWSB'\n",
       "3. 'GTEX-1117F-0003-SM-6WBT7'\n",
       "4. 'GTEX-111CU-0003-SM-58Q95'\n",
       "5. 'GTEX-111CU-0003-SM-5DWTR'\n",
       "6. 'GTEX-111CU-0003-SM-6WBUD'\n",
       "\n",
       "\n"
      ],
      "text/plain": [
       "[1] \"GTEX-1117F-0003-SM-58Q7G\" \"GTEX-1117F-0003-SM-5DWSB\"\n",
       "[3] \"GTEX-1117F-0003-SM-6WBT7\" \"GTEX-111CU-0003-SM-58Q95\"\n",
       "[5] \"GTEX-111CU-0003-SM-5DWTR\" \"GTEX-111CU-0003-SM-6WBUD\""
      ]
     },
     "metadata": {},
     "output_type": "display_data"
    }
   ],
   "source": [
    "head(idx_list[[tissue]])"
   ]
  },
  {
   "cell_type": "code",
   "execution_count": 18,
   "metadata": {},
   "outputs": [
    {
     "data": {
      "text/html": [
       "<ol class=list-inline>\n",
       "\t<li>'Name'</li>\n",
       "\t<li>'Description'</li>\n",
       "\t<li>'GTEX-1117F-0226-SM-5GZZ7'</li>\n",
       "\t<li>'GTEX-1117F-0426-SM-5EGHI'</li>\n",
       "\t<li>'GTEX-1117F-0526-SM-5EGHJ'</li>\n",
       "\t<li>'GTEX-1117F-0626-SM-5N9CS'</li>\n",
       "</ol>\n"
      ],
      "text/latex": [
       "\\begin{enumerate*}\n",
       "\\item 'Name'\n",
       "\\item 'Description'\n",
       "\\item 'GTEX-1117F-0226-SM-5GZZ7'\n",
       "\\item 'GTEX-1117F-0426-SM-5EGHI'\n",
       "\\item 'GTEX-1117F-0526-SM-5EGHJ'\n",
       "\\item 'GTEX-1117F-0626-SM-5N9CS'\n",
       "\\end{enumerate*}\n"
      ],
      "text/markdown": [
       "1. 'Name'\n",
       "2. 'Description'\n",
       "3. 'GTEX-1117F-0226-SM-5GZZ7'\n",
       "4. 'GTEX-1117F-0426-SM-5EGHI'\n",
       "5. 'GTEX-1117F-0526-SM-5EGHJ'\n",
       "6. 'GTEX-1117F-0626-SM-5N9CS'\n",
       "\n",
       "\n"
      ],
      "text/plain": [
       "[1] \"Name\"                     \"Description\"             \n",
       "[3] \"GTEX-1117F-0226-SM-5GZZ7\" \"GTEX-1117F-0426-SM-5EGHI\"\n",
       "[5] \"GTEX-1117F-0526-SM-5EGHJ\" \"GTEX-1117F-0626-SM-5N9CS\""
      ]
     },
     "metadata": {},
     "output_type": "display_data"
    }
   ],
   "source": [
    "head(header)"
   ]
  },
  {
   "cell_type": "code",
   "execution_count": 19,
   "metadata": {},
   "outputs": [
    {
     "data": {
      "text/html": [
       "<ol class=list-inline>\n",
       "\t<li>&lt;NA&gt;</li>\n",
       "\t<li>&lt;NA&gt;</li>\n",
       "\t<li>&lt;NA&gt;</li>\n",
       "\t<li>&lt;NA&gt;</li>\n",
       "\t<li>&lt;NA&gt;</li>\n",
       "\t<li>&lt;NA&gt;</li>\n",
       "</ol>\n"
      ],
      "text/latex": [
       "\\begin{enumerate*}\n",
       "\\item <NA>\n",
       "\\item <NA>\n",
       "\\item <NA>\n",
       "\\item <NA>\n",
       "\\item <NA>\n",
       "\\item <NA>\n",
       "\\end{enumerate*}\n"
      ],
      "text/markdown": [
       "1. &lt;NA&gt;\n",
       "2. &lt;NA&gt;\n",
       "3. &lt;NA&gt;\n",
       "4. &lt;NA&gt;\n",
       "5. &lt;NA&gt;\n",
       "6. &lt;NA&gt;\n",
       "\n",
       "\n"
      ],
      "text/plain": [
       "[1] NA NA NA NA NA NA"
      ]
     },
     "metadata": {},
     "output_type": "display_data"
    }
   ],
   "source": [
    "head(target_idx)"
   ]
  },
  {
   "cell_type": "code",
   "execution_count": 20,
   "metadata": {},
   "outputs": [
    {
     "data": {
      "text/html": [
       "3288"
      ],
      "text/latex": [
       "3288"
      ],
      "text/markdown": [
       "3288"
      ],
      "text/plain": [
       "[1] 3288"
      ]
     },
     "metadata": {},
     "output_type": "display_data"
    }
   ],
   "source": [
    "length(target_idx)"
   ]
  },
  {
   "cell_type": "code",
   "execution_count": 21,
   "metadata": {},
   "outputs": [],
   "source": [
    "expression_df <- as.data.frame(expression_df)\n",
    "expression_df$NameClean <- as.character(sapply(expression_df$Name, function(x) unlist(strsplit(x, \"\\\\.\"))[[1]]))"
   ]
  },
  {
   "cell_type": "code",
   "execution_count": 22,
   "metadata": {},
   "outputs": [],
   "source": [
    "# extract the tissue-specific expression profile based on the tissue idx\n",
    "tissue_vec <- names(idx_list)\n",
    "expression_list <- list()\n",
    "header <- colnames(expression_df)\n",
    "for (tissue in tissue_vec) {\n",
    "    target_idx <- header %in% idx_list[[tissue]] \n",
    "    #target_idx <- target_idx[which(target_idx == T)]\n",
    "    expression_list[[tissue]] <- expression_df[, target_idx]\n",
    "    expression_list[[tissue]]$Name <- expression_df$Name\n",
    "    expression_list[[tissue]]$Description <- expression_df$Description\n",
    "}"
   ]
  },
  {
   "cell_type": "code",
   "execution_count": 23,
   "metadata": {},
   "outputs": [
    {
     "data": {
      "text/html": [
       "<ol class=list-inline>\n",
       "\t<li>'Name'</li>\n",
       "\t<li>'Description'</li>\n",
       "\t<li>'GTEX-1117F-0226-SM-5GZZ7'</li>\n",
       "\t<li>'GTEX-1117F-0426-SM-5EGHI'</li>\n",
       "\t<li>'GTEX-1117F-0526-SM-5EGHJ'</li>\n",
       "\t<li>'GTEX-1117F-0626-SM-5N9CS'</li>\n",
       "</ol>\n"
      ],
      "text/latex": [
       "\\begin{enumerate*}\n",
       "\\item 'Name'\n",
       "\\item 'Description'\n",
       "\\item 'GTEX-1117F-0226-SM-5GZZ7'\n",
       "\\item 'GTEX-1117F-0426-SM-5EGHI'\n",
       "\\item 'GTEX-1117F-0526-SM-5EGHJ'\n",
       "\\item 'GTEX-1117F-0626-SM-5N9CS'\n",
       "\\end{enumerate*}\n"
      ],
      "text/markdown": [
       "1. 'Name'\n",
       "2. 'Description'\n",
       "3. 'GTEX-1117F-0226-SM-5GZZ7'\n",
       "4. 'GTEX-1117F-0426-SM-5EGHI'\n",
       "5. 'GTEX-1117F-0526-SM-5EGHJ'\n",
       "6. 'GTEX-1117F-0626-SM-5N9CS'\n",
       "\n",
       "\n"
      ],
      "text/plain": [
       "[1] \"Name\"                     \"Description\"             \n",
       "[3] \"GTEX-1117F-0226-SM-5GZZ7\" \"GTEX-1117F-0426-SM-5EGHI\"\n",
       "[5] \"GTEX-1117F-0526-SM-5EGHJ\" \"GTEX-1117F-0626-SM-5N9CS\""
      ]
     },
     "metadata": {},
     "output_type": "display_data"
    }
   ],
   "source": [
    "head(header)"
   ]
  },
  {
   "cell_type": "code",
   "execution_count": 24,
   "metadata": {},
   "outputs": [
    {
     "data": {
      "text/html": [
       "'/gpfs/ysm/project/zhao/zy92/utmost_update/code/R'"
      ],
      "text/latex": [
       "'/gpfs/ysm/project/zhao/zy92/utmost\\_update/code/R'"
      ],
      "text/markdown": [
       "'/gpfs/ysm/project/zhao/zy92/utmost_update/code/R'"
      ],
      "text/plain": [
       "[1] \"/gpfs/ysm/project/zhao/zy92/utmost_update/code/R\""
      ]
     },
     "metadata": {},
     "output_type": "display_data"
    }
   ],
   "source": [
    "getwd()"
   ]
  },
  {
   "cell_type": "code",
   "execution_count": 25,
   "metadata": {},
   "outputs": [],
   "source": [
    "# /home/fas/radev/zy92/project/utmost_update/GTEX\n",
    "#save(expression_list, expression_df, file = \"/ysm-gpfs/pi/zhao/zy92/projects/utmost_update/GTEX/expression_list_target.RData\")\n",
    "#save(expression_list, expression_df, file = \"/gpfs/loomis/project/radev/zy92/utmost_update/GTEX/expression_list_target.RData\")"
   ]
  },
  {
   "cell_type": "code",
   "execution_count": 26,
   "metadata": {},
   "outputs": [
    {
     "data": {
      "text/html": [
       "<ol class=list-inline>\n",
       "\t<li>56200</li>\n",
       "\t<li>757</li>\n",
       "</ol>\n"
      ],
      "text/latex": [
       "\\begin{enumerate*}\n",
       "\\item 56200\n",
       "\\item 757\n",
       "\\end{enumerate*}\n"
      ],
      "text/markdown": [
       "1. 56200\n",
       "2. 757\n",
       "\n",
       "\n"
      ],
      "text/plain": [
       "[1] 56200   757"
      ]
     },
     "metadata": {},
     "output_type": "display_data"
    }
   ],
   "source": [
    "dim(expression_list[['Whole Blood']])"
   ]
  },
  {
   "cell_type": "code",
   "execution_count": 27,
   "metadata": {},
   "outputs": [
    {
     "data": {
      "text/html": [
       "'gene_info_target'"
      ],
      "text/latex": [
       "'gene\\_info\\_target'"
      ],
      "text/markdown": [
       "'gene_info_target'"
      ],
      "text/plain": [
       "[1] \"gene_info_target\""
      ]
     },
     "metadata": {},
     "output_type": "display_data"
    }
   ],
   "source": [
    "ln3 <- load(\"/ysm-gpfs/pi/zhao/zy92/projects/utmost_update/GTEX/gene_info_target.RData\")\n",
    "ln3"
   ]
  },
  {
   "cell_type": "code",
   "execution_count": 28,
   "metadata": {},
   "outputs": [
    {
     "data": {
      "text/html": [
       "'data.frame'"
      ],
      "text/latex": [
       "'data.frame'"
      ],
      "text/markdown": [
       "'data.frame'"
      ],
      "text/plain": [
       "[1] \"data.frame\""
      ]
     },
     "metadata": {},
     "output_type": "display_data"
    }
   ],
   "source": [
    "class(gene_info_target)"
   ]
  },
  {
   "cell_type": "code",
   "execution_count": 29,
   "metadata": {},
   "outputs": [
    {
     "data": {
      "text/html": [
       "<table>\n",
       "<caption>A data.frame: 27208 × 4</caption>\n",
       "<thead>\n",
       "\t<tr><th scope=col>ensembl_gene_id</th><th scope=col>hgnc_symbol</th><th scope=col>chromosome_name</th><th scope=col>transcript_biotype</th></tr>\n",
       "\t<tr><th scope=col>&lt;chr&gt;</th><th scope=col>&lt;chr&gt;</th><th scope=col>&lt;chr&gt;</th><th scope=col>&lt;chr&gt;</th></tr>\n",
       "</thead>\n",
       "<tbody>\n",
       "\t<tr><td>ENSG00000228229</td><td>        </td><td>1</td><td>lincRNA       </td></tr>\n",
       "\t<tr><td>ENSG00000237445</td><td>        </td><td>1</td><td>lincRNA       </td></tr>\n",
       "\t<tr><td>ENSG00000231606</td><td>        </td><td>1</td><td>lincRNA       </td></tr>\n",
       "\t<tr><td>ENSG00000234593</td><td>        </td><td>1</td><td>lincRNA       </td></tr>\n",
       "\t<tr><td>ENSG00000228140</td><td>        </td><td>1</td><td>lincRNA       </td></tr>\n",
       "\t<tr><td>ENSG00000186092</td><td>OR4F5   </td><td>1</td><td>protein_coding</td></tr>\n",
       "\t<tr><td>ENSG00000187634</td><td>SAMD11  </td><td>1</td><td>protein_coding</td></tr>\n",
       "\t<tr><td>ENSG00000188976</td><td>NOC2L   </td><td>1</td><td>protein_coding</td></tr>\n",
       "\t<tr><td>ENSG00000187961</td><td>KLHL17  </td><td>1</td><td>protein_coding</td></tr>\n",
       "\t<tr><td>ENSG00000187583</td><td>PLEKHN1 </td><td>1</td><td>protein_coding</td></tr>\n",
       "\t<tr><td>ENSG00000187642</td><td>C1orf170</td><td>1</td><td>protein_coding</td></tr>\n",
       "\t<tr><td>ENSG00000188290</td><td>HES4    </td><td>1</td><td>protein_coding</td></tr>\n",
       "\t<tr><td>ENSG00000187608</td><td>ISG15   </td><td>1</td><td>protein_coding</td></tr>\n",
       "\t<tr><td>ENSG00000188157</td><td>AGRN    </td><td>1</td><td>protein_coding</td></tr>\n",
       "\t<tr><td>ENSG00000237330</td><td>RNF223  </td><td>1</td><td>protein_coding</td></tr>\n",
       "\t<tr><td>ENSG00000131591</td><td>C1orf159</td><td>1</td><td>protein_coding</td></tr>\n",
       "\t<tr><td>ENSG00000162571</td><td>TTLL10  </td><td>1</td><td>protein_coding</td></tr>\n",
       "\t<tr><td>ENSG00000186891</td><td>TNFRSF18</td><td>1</td><td>protein_coding</td></tr>\n",
       "\t<tr><td>ENSG00000186827</td><td>TNFRSF4 </td><td>1</td><td>protein_coding</td></tr>\n",
       "\t<tr><td>ENSG00000078808</td><td>SDF4    </td><td>1</td><td>protein_coding</td></tr>\n",
       "\t<tr><td>ENSG00000176022</td><td>B3GALT6 </td><td>1</td><td>protein_coding</td></tr>\n",
       "\t<tr><td>ENSG00000184163</td><td>FAM132A </td><td>1</td><td>protein_coding</td></tr>\n",
       "\t<tr><td>ENSG00000160087</td><td>UBE2J2  </td><td>1</td><td>protein_coding</td></tr>\n",
       "\t<tr><td>ENSG00000162572</td><td>SCNN1D  </td><td>1</td><td>protein_coding</td></tr>\n",
       "\t<tr><td>ENSG00000131584</td><td>ACAP3   </td><td>1</td><td>protein_coding</td></tr>\n",
       "\t<tr><td>ENSG00000169972</td><td>PUSL1   </td><td>1</td><td>protein_coding</td></tr>\n",
       "\t<tr><td>ENSG00000127054</td><td>CPSF3L  </td><td>1</td><td>protein_coding</td></tr>\n",
       "\t<tr><td>ENSG00000224051</td><td>GLTPD1  </td><td>1</td><td>protein_coding</td></tr>\n",
       "\t<tr><td>ENSG00000169962</td><td>TAS1R3  </td><td>1</td><td>protein_coding</td></tr>\n",
       "\t<tr><td>ENSG00000107404</td><td>DVL1    </td><td>1</td><td>protein_coding</td></tr>\n",
       "\t<tr><td>⋮</td><td>⋮</td><td>⋮</td><td>⋮</td></tr>\n",
       "\t<tr><td>ENSG00000215560</td><td>TTTY5       </td><td>Y</td><td>lincRNA       </td></tr>\n",
       "\t<tr><td>ENSG00000235059</td><td>            </td><td>Y</td><td>lincRNA       </td></tr>\n",
       "\t<tr><td>ENSG00000131538</td><td>TTTY6       </td><td>Y</td><td>lincRNA       </td></tr>\n",
       "\t<tr><td>ENSG00000228240</td><td>TTTY17A     </td><td>Y</td><td>lincRNA       </td></tr>\n",
       "\t<tr><td>ENSG00000226906</td><td>TTTY4       </td><td>Y</td><td>lincRNA       </td></tr>\n",
       "\t<tr><td>ENSG00000198692</td><td>EIF1AY      </td><td>Y</td><td>protein_coding</td></tr>\n",
       "\t<tr><td>ENSG00000183146</td><td>CYorf17     </td><td>Y</td><td>protein_coding</td></tr>\n",
       "\t<tr><td>ENSG00000242875</td><td>RBMY1B      </td><td>Y</td><td>protein_coding</td></tr>\n",
       "\t<tr><td>ENSG00000234414</td><td>RBMY1A1     </td><td>Y</td><td>protein_coding</td></tr>\n",
       "\t<tr><td>ENSG00000233864</td><td>TTTY15      </td><td>Y</td><td>lincRNA       </td></tr>\n",
       "\t<tr><td>ENSG00000242389</td><td>RBMY1E      </td><td>Y</td><td>protein_coding</td></tr>\n",
       "\t<tr><td>ENSG00000239533</td><td>GOLGA2P2Y   </td><td>Y</td><td>miRNA         </td></tr>\n",
       "\t<tr><td>ENSG00000227439</td><td>TTTY17B     </td><td>Y</td><td>lincRNA       </td></tr>\n",
       "\t<tr><td>ENSG00000235412</td><td>TTTY4B      </td><td>Y</td><td>lincRNA       </td></tr>\n",
       "\t<tr><td>ENSG00000223517</td><td>            </td><td>Y</td><td>lincRNA       </td></tr>\n",
       "\t<tr><td>ENSG00000228296</td><td>TTTY4C      </td><td>Y</td><td>lincRNA       </td></tr>\n",
       "\t<tr><td>ENSG00000223641</td><td>TTTY17C     </td><td>Y</td><td>lincRNA       </td></tr>\n",
       "\t<tr><td>ENSG00000228786</td><td>LINC00266-4P</td><td>Y</td><td>lincRNA       </td></tr>\n",
       "\t<tr><td>ENSG00000244395</td><td>RBMY1D      </td><td>Y</td><td>protein_coding</td></tr>\n",
       "\t<tr><td>ENSG00000169807</td><td>PRY2        </td><td>Y</td><td>protein_coding</td></tr>\n",
       "\t<tr><td>ENSG00000169800</td><td>RBMY1F      </td><td>Y</td><td>protein_coding</td></tr>\n",
       "\t<tr><td>ENSG00000231141</td><td>TTTY3       </td><td>Y</td><td>lincRNA       </td></tr>\n",
       "\t<tr><td>ENSG00000226941</td><td>RBMY1J      </td><td>Y</td><td>protein_coding</td></tr>\n",
       "\t<tr><td>ENSG00000169789</td><td>PRY         </td><td>Y</td><td>protein_coding</td></tr>\n",
       "\t<tr><td>ENSG00000183753</td><td>BPY2        </td><td>Y</td><td>protein_coding</td></tr>\n",
       "\t<tr><td>ENSG00000188120</td><td>DAZ1        </td><td>Y</td><td>protein_coding</td></tr>\n",
       "\t<tr><td>ENSG00000205944</td><td>DAZ2        </td><td>Y</td><td>protein_coding</td></tr>\n",
       "\t<tr><td>ENSG00000168939</td><td>SPRY3       </td><td>X</td><td>protein_coding</td></tr>\n",
       "\t<tr><td>ENSG00000124333</td><td>VAMP7       </td><td>X</td><td>protein_coding</td></tr>\n",
       "\t<tr><td>ENSG00000124334</td><td>IL9R        </td><td>X</td><td>protein_coding</td></tr>\n",
       "</tbody>\n",
       "</table>\n"
      ],
      "text/latex": [
       "A data.frame: 27208 × 4\n",
       "\\begin{tabular}{r|llll}\n",
       " ensembl\\_gene\\_id & hgnc\\_symbol & chromosome\\_name & transcript\\_biotype\\\\\n",
       " <chr> & <chr> & <chr> & <chr>\\\\\n",
       "\\hline\n",
       "\t ENSG00000228229 &          & 1 & lincRNA       \\\\\n",
       "\t ENSG00000237445 &          & 1 & lincRNA       \\\\\n",
       "\t ENSG00000231606 &          & 1 & lincRNA       \\\\\n",
       "\t ENSG00000234593 &          & 1 & lincRNA       \\\\\n",
       "\t ENSG00000228140 &          & 1 & lincRNA       \\\\\n",
       "\t ENSG00000186092 & OR4F5    & 1 & protein\\_coding\\\\\n",
       "\t ENSG00000187634 & SAMD11   & 1 & protein\\_coding\\\\\n",
       "\t ENSG00000188976 & NOC2L    & 1 & protein\\_coding\\\\\n",
       "\t ENSG00000187961 & KLHL17   & 1 & protein\\_coding\\\\\n",
       "\t ENSG00000187583 & PLEKHN1  & 1 & protein\\_coding\\\\\n",
       "\t ENSG00000187642 & C1orf170 & 1 & protein\\_coding\\\\\n",
       "\t ENSG00000188290 & HES4     & 1 & protein\\_coding\\\\\n",
       "\t ENSG00000187608 & ISG15    & 1 & protein\\_coding\\\\\n",
       "\t ENSG00000188157 & AGRN     & 1 & protein\\_coding\\\\\n",
       "\t ENSG00000237330 & RNF223   & 1 & protein\\_coding\\\\\n",
       "\t ENSG00000131591 & C1orf159 & 1 & protein\\_coding\\\\\n",
       "\t ENSG00000162571 & TTLL10   & 1 & protein\\_coding\\\\\n",
       "\t ENSG00000186891 & TNFRSF18 & 1 & protein\\_coding\\\\\n",
       "\t ENSG00000186827 & TNFRSF4  & 1 & protein\\_coding\\\\\n",
       "\t ENSG00000078808 & SDF4     & 1 & protein\\_coding\\\\\n",
       "\t ENSG00000176022 & B3GALT6  & 1 & protein\\_coding\\\\\n",
       "\t ENSG00000184163 & FAM132A  & 1 & protein\\_coding\\\\\n",
       "\t ENSG00000160087 & UBE2J2   & 1 & protein\\_coding\\\\\n",
       "\t ENSG00000162572 & SCNN1D   & 1 & protein\\_coding\\\\\n",
       "\t ENSG00000131584 & ACAP3    & 1 & protein\\_coding\\\\\n",
       "\t ENSG00000169972 & PUSL1    & 1 & protein\\_coding\\\\\n",
       "\t ENSG00000127054 & CPSF3L   & 1 & protein\\_coding\\\\\n",
       "\t ENSG00000224051 & GLTPD1   & 1 & protein\\_coding\\\\\n",
       "\t ENSG00000169962 & TAS1R3   & 1 & protein\\_coding\\\\\n",
       "\t ENSG00000107404 & DVL1     & 1 & protein\\_coding\\\\\n",
       "\t ⋮ & ⋮ & ⋮ & ⋮\\\\\n",
       "\t ENSG00000215560 & TTTY5        & Y & lincRNA       \\\\\n",
       "\t ENSG00000235059 &              & Y & lincRNA       \\\\\n",
       "\t ENSG00000131538 & TTTY6        & Y & lincRNA       \\\\\n",
       "\t ENSG00000228240 & TTTY17A      & Y & lincRNA       \\\\\n",
       "\t ENSG00000226906 & TTTY4        & Y & lincRNA       \\\\\n",
       "\t ENSG00000198692 & EIF1AY       & Y & protein\\_coding\\\\\n",
       "\t ENSG00000183146 & CYorf17      & Y & protein\\_coding\\\\\n",
       "\t ENSG00000242875 & RBMY1B       & Y & protein\\_coding\\\\\n",
       "\t ENSG00000234414 & RBMY1A1      & Y & protein\\_coding\\\\\n",
       "\t ENSG00000233864 & TTTY15       & Y & lincRNA       \\\\\n",
       "\t ENSG00000242389 & RBMY1E       & Y & protein\\_coding\\\\\n",
       "\t ENSG00000239533 & GOLGA2P2Y    & Y & miRNA         \\\\\n",
       "\t ENSG00000227439 & TTTY17B      & Y & lincRNA       \\\\\n",
       "\t ENSG00000235412 & TTTY4B       & Y & lincRNA       \\\\\n",
       "\t ENSG00000223517 &              & Y & lincRNA       \\\\\n",
       "\t ENSG00000228296 & TTTY4C       & Y & lincRNA       \\\\\n",
       "\t ENSG00000223641 & TTTY17C      & Y & lincRNA       \\\\\n",
       "\t ENSG00000228786 & LINC00266-4P & Y & lincRNA       \\\\\n",
       "\t ENSG00000244395 & RBMY1D       & Y & protein\\_coding\\\\\n",
       "\t ENSG00000169807 & PRY2         & Y & protein\\_coding\\\\\n",
       "\t ENSG00000169800 & RBMY1F       & Y & protein\\_coding\\\\\n",
       "\t ENSG00000231141 & TTTY3        & Y & lincRNA       \\\\\n",
       "\t ENSG00000226941 & RBMY1J       & Y & protein\\_coding\\\\\n",
       "\t ENSG00000169789 & PRY          & Y & protein\\_coding\\\\\n",
       "\t ENSG00000183753 & BPY2         & Y & protein\\_coding\\\\\n",
       "\t ENSG00000188120 & DAZ1         & Y & protein\\_coding\\\\\n",
       "\t ENSG00000205944 & DAZ2         & Y & protein\\_coding\\\\\n",
       "\t ENSG00000168939 & SPRY3        & X & protein\\_coding\\\\\n",
       "\t ENSG00000124333 & VAMP7        & X & protein\\_coding\\\\\n",
       "\t ENSG00000124334 & IL9R         & X & protein\\_coding\\\\\n",
       "\\end{tabular}\n"
      ],
      "text/markdown": [
       "\n",
       "A data.frame: 27208 × 4\n",
       "\n",
       "| ensembl_gene_id &lt;chr&gt; | hgnc_symbol &lt;chr&gt; | chromosome_name &lt;chr&gt; | transcript_biotype &lt;chr&gt; |\n",
       "|---|---|---|---|\n",
       "| ENSG00000228229 | <!----> | 1 | lincRNA        |\n",
       "| ENSG00000237445 | <!----> | 1 | lincRNA        |\n",
       "| ENSG00000231606 | <!----> | 1 | lincRNA        |\n",
       "| ENSG00000234593 | <!----> | 1 | lincRNA        |\n",
       "| ENSG00000228140 | <!----> | 1 | lincRNA        |\n",
       "| ENSG00000186092 | OR4F5    | 1 | protein_coding |\n",
       "| ENSG00000187634 | SAMD11   | 1 | protein_coding |\n",
       "| ENSG00000188976 | NOC2L    | 1 | protein_coding |\n",
       "| ENSG00000187961 | KLHL17   | 1 | protein_coding |\n",
       "| ENSG00000187583 | PLEKHN1  | 1 | protein_coding |\n",
       "| ENSG00000187642 | C1orf170 | 1 | protein_coding |\n",
       "| ENSG00000188290 | HES4     | 1 | protein_coding |\n",
       "| ENSG00000187608 | ISG15    | 1 | protein_coding |\n",
       "| ENSG00000188157 | AGRN     | 1 | protein_coding |\n",
       "| ENSG00000237330 | RNF223   | 1 | protein_coding |\n",
       "| ENSG00000131591 | C1orf159 | 1 | protein_coding |\n",
       "| ENSG00000162571 | TTLL10   | 1 | protein_coding |\n",
       "| ENSG00000186891 | TNFRSF18 | 1 | protein_coding |\n",
       "| ENSG00000186827 | TNFRSF4  | 1 | protein_coding |\n",
       "| ENSG00000078808 | SDF4     | 1 | protein_coding |\n",
       "| ENSG00000176022 | B3GALT6  | 1 | protein_coding |\n",
       "| ENSG00000184163 | FAM132A  | 1 | protein_coding |\n",
       "| ENSG00000160087 | UBE2J2   | 1 | protein_coding |\n",
       "| ENSG00000162572 | SCNN1D   | 1 | protein_coding |\n",
       "| ENSG00000131584 | ACAP3    | 1 | protein_coding |\n",
       "| ENSG00000169972 | PUSL1    | 1 | protein_coding |\n",
       "| ENSG00000127054 | CPSF3L   | 1 | protein_coding |\n",
       "| ENSG00000224051 | GLTPD1   | 1 | protein_coding |\n",
       "| ENSG00000169962 | TAS1R3   | 1 | protein_coding |\n",
       "| ENSG00000107404 | DVL1     | 1 | protein_coding |\n",
       "| ⋮ | ⋮ | ⋮ | ⋮ |\n",
       "| ENSG00000215560 | TTTY5        | Y | lincRNA        |\n",
       "| ENSG00000235059 | <!----> | Y | lincRNA        |\n",
       "| ENSG00000131538 | TTTY6        | Y | lincRNA        |\n",
       "| ENSG00000228240 | TTTY17A      | Y | lincRNA        |\n",
       "| ENSG00000226906 | TTTY4        | Y | lincRNA        |\n",
       "| ENSG00000198692 | EIF1AY       | Y | protein_coding |\n",
       "| ENSG00000183146 | CYorf17      | Y | protein_coding |\n",
       "| ENSG00000242875 | RBMY1B       | Y | protein_coding |\n",
       "| ENSG00000234414 | RBMY1A1      | Y | protein_coding |\n",
       "| ENSG00000233864 | TTTY15       | Y | lincRNA        |\n",
       "| ENSG00000242389 | RBMY1E       | Y | protein_coding |\n",
       "| ENSG00000239533 | GOLGA2P2Y    | Y | miRNA          |\n",
       "| ENSG00000227439 | TTTY17B      | Y | lincRNA        |\n",
       "| ENSG00000235412 | TTTY4B       | Y | lincRNA        |\n",
       "| ENSG00000223517 | <!----> | Y | lincRNA        |\n",
       "| ENSG00000228296 | TTTY4C       | Y | lincRNA        |\n",
       "| ENSG00000223641 | TTTY17C      | Y | lincRNA        |\n",
       "| ENSG00000228786 | LINC00266-4P | Y | lincRNA        |\n",
       "| ENSG00000244395 | RBMY1D       | Y | protein_coding |\n",
       "| ENSG00000169807 | PRY2         | Y | protein_coding |\n",
       "| ENSG00000169800 | RBMY1F       | Y | protein_coding |\n",
       "| ENSG00000231141 | TTTY3        | Y | lincRNA        |\n",
       "| ENSG00000226941 | RBMY1J       | Y | protein_coding |\n",
       "| ENSG00000169789 | PRY          | Y | protein_coding |\n",
       "| ENSG00000183753 | BPY2         | Y | protein_coding |\n",
       "| ENSG00000188120 | DAZ1         | Y | protein_coding |\n",
       "| ENSG00000205944 | DAZ2         | Y | protein_coding |\n",
       "| ENSG00000168939 | SPRY3        | X | protein_coding |\n",
       "| ENSG00000124333 | VAMP7        | X | protein_coding |\n",
       "| ENSG00000124334 | IL9R         | X | protein_coding |\n",
       "\n"
      ],
      "text/plain": [
       "      ensembl_gene_id hgnc_symbol  chromosome_name transcript_biotype\n",
       "1     ENSG00000228229              1               lincRNA           \n",
       "2     ENSG00000237445              1               lincRNA           \n",
       "3     ENSG00000231606              1               lincRNA           \n",
       "4     ENSG00000234593              1               lincRNA           \n",
       "5     ENSG00000228140              1               lincRNA           \n",
       "6     ENSG00000186092 OR4F5        1               protein_coding    \n",
       "7     ENSG00000187634 SAMD11       1               protein_coding    \n",
       "8     ENSG00000188976 NOC2L        1               protein_coding    \n",
       "9     ENSG00000187961 KLHL17       1               protein_coding    \n",
       "10    ENSG00000187583 PLEKHN1      1               protein_coding    \n",
       "11    ENSG00000187642 C1orf170     1               protein_coding    \n",
       "12    ENSG00000188290 HES4         1               protein_coding    \n",
       "13    ENSG00000187608 ISG15        1               protein_coding    \n",
       "14    ENSG00000188157 AGRN         1               protein_coding    \n",
       "15    ENSG00000237330 RNF223       1               protein_coding    \n",
       "16    ENSG00000131591 C1orf159     1               protein_coding    \n",
       "17    ENSG00000162571 TTLL10       1               protein_coding    \n",
       "18    ENSG00000186891 TNFRSF18     1               protein_coding    \n",
       "19    ENSG00000186827 TNFRSF4      1               protein_coding    \n",
       "20    ENSG00000078808 SDF4         1               protein_coding    \n",
       "21    ENSG00000176022 B3GALT6      1               protein_coding    \n",
       "22    ENSG00000184163 FAM132A      1               protein_coding    \n",
       "23    ENSG00000160087 UBE2J2       1               protein_coding    \n",
       "24    ENSG00000162572 SCNN1D       1               protein_coding    \n",
       "25    ENSG00000131584 ACAP3        1               protein_coding    \n",
       "26    ENSG00000169972 PUSL1        1               protein_coding    \n",
       "27    ENSG00000127054 CPSF3L       1               protein_coding    \n",
       "28    ENSG00000224051 GLTPD1       1               protein_coding    \n",
       "29    ENSG00000169962 TAS1R3       1               protein_coding    \n",
       "30    ENSG00000107404 DVL1         1               protein_coding    \n",
       "⋮     ⋮               ⋮            ⋮               ⋮                 \n",
       "27179 ENSG00000215560 TTTY5        Y               lincRNA           \n",
       "27180 ENSG00000235059              Y               lincRNA           \n",
       "27181 ENSG00000131538 TTTY6        Y               lincRNA           \n",
       "27182 ENSG00000228240 TTTY17A      Y               lincRNA           \n",
       "27183 ENSG00000226906 TTTY4        Y               lincRNA           \n",
       "27184 ENSG00000198692 EIF1AY       Y               protein_coding    \n",
       "27185 ENSG00000183146 CYorf17      Y               protein_coding    \n",
       "27186 ENSG00000242875 RBMY1B       Y               protein_coding    \n",
       "27187 ENSG00000234414 RBMY1A1      Y               protein_coding    \n",
       "27188 ENSG00000233864 TTTY15       Y               lincRNA           \n",
       "27189 ENSG00000242389 RBMY1E       Y               protein_coding    \n",
       "27190 ENSG00000239533 GOLGA2P2Y    Y               miRNA             \n",
       "27191 ENSG00000227439 TTTY17B      Y               lincRNA           \n",
       "27192 ENSG00000235412 TTTY4B       Y               lincRNA           \n",
       "27193 ENSG00000223517              Y               lincRNA           \n",
       "27194 ENSG00000228296 TTTY4C       Y               lincRNA           \n",
       "27195 ENSG00000223641 TTTY17C      Y               lincRNA           \n",
       "27196 ENSG00000228786 LINC00266-4P Y               lincRNA           \n",
       "27197 ENSG00000244395 RBMY1D       Y               protein_coding    \n",
       "27198 ENSG00000169807 PRY2         Y               protein_coding    \n",
       "27199 ENSG00000169800 RBMY1F       Y               protein_coding    \n",
       "27200 ENSG00000231141 TTTY3        Y               lincRNA           \n",
       "27201 ENSG00000226941 RBMY1J       Y               protein_coding    \n",
       "27202 ENSG00000169789 PRY          Y               protein_coding    \n",
       "27203 ENSG00000183753 BPY2         Y               protein_coding    \n",
       "27204 ENSG00000188120 DAZ1         Y               protein_coding    \n",
       "27205 ENSG00000205944 DAZ2         Y               protein_coding    \n",
       "27206 ENSG00000168939 SPRY3        X               protein_coding    \n",
       "27207 ENSG00000124333 VAMP7        X               protein_coding    \n",
       "27208 ENSG00000124334 IL9R         X               protein_coding    "
      ]
     },
     "metadata": {},
     "output_type": "display_data"
    }
   ],
   "source": [
    "gene_info_target"
   ]
  },
  {
   "cell_type": "code",
   "execution_count": 30,
   "metadata": {},
   "outputs": [],
   "source": [
    "expression_df_target <- expression_df %>% \n",
    "    filter(Name %in% UQ(gene_info_target$ensembl_gene_id))"
   ]
  },
  {
   "cell_type": "code",
   "execution_count": 31,
   "metadata": {},
   "outputs": [
    {
     "data": {
      "text/html": [
       "<ol class=list-inline>\n",
       "\t<li>'ENSG00000228229'</li>\n",
       "\t<li>'ENSG00000237445'</li>\n",
       "\t<li>'ENSG00000231606'</li>\n",
       "\t<li>'ENSG00000234593'</li>\n",
       "\t<li>'ENSG00000228140'</li>\n",
       "\t<li>'ENSG00000186092'</li>\n",
       "</ol>\n"
      ],
      "text/latex": [
       "\\begin{enumerate*}\n",
       "\\item 'ENSG00000228229'\n",
       "\\item 'ENSG00000237445'\n",
       "\\item 'ENSG00000231606'\n",
       "\\item 'ENSG00000234593'\n",
       "\\item 'ENSG00000228140'\n",
       "\\item 'ENSG00000186092'\n",
       "\\end{enumerate*}\n"
      ],
      "text/markdown": [
       "1. 'ENSG00000228229'\n",
       "2. 'ENSG00000237445'\n",
       "3. 'ENSG00000231606'\n",
       "4. 'ENSG00000234593'\n",
       "5. 'ENSG00000228140'\n",
       "6. 'ENSG00000186092'\n",
       "\n",
       "\n"
      ],
      "text/plain": [
       "[1] \"ENSG00000228229\" \"ENSG00000237445\" \"ENSG00000231606\" \"ENSG00000234593\"\n",
       "[5] \"ENSG00000228140\" \"ENSG00000186092\""
      ]
     },
     "metadata": {},
     "output_type": "display_data"
    }
   ],
   "source": [
    "head(gene_info_target$ensembl_gene_id)"
   ]
  },
  {
   "cell_type": "code",
   "execution_count": 32,
   "metadata": {},
   "outputs": [
    {
     "data": {
      "text/html": [
       "<ol class=list-inline>\n",
       "\t<li>56200</li>\n",
       "\t<li>17385</li>\n",
       "</ol>\n"
      ],
      "text/latex": [
       "\\begin{enumerate*}\n",
       "\\item 56200\n",
       "\\item 17385\n",
       "\\end{enumerate*}\n"
      ],
      "text/markdown": [
       "1. 56200\n",
       "2. 17385\n",
       "\n",
       "\n"
      ],
      "text/plain": [
       "[1] 56200 17385"
      ]
     },
     "metadata": {},
     "output_type": "display_data"
    }
   ],
   "source": [
    "dim(expression_df)"
   ]
  },
  {
   "cell_type": "code",
   "execution_count": 33,
   "metadata": {},
   "outputs": [
    {
     "data": {
      "text/html": [
       "'data.frame'"
      ],
      "text/latex": [
       "'data.frame'"
      ],
      "text/markdown": [
       "'data.frame'"
      ],
      "text/plain": [
       "[1] \"data.frame\""
      ]
     },
     "metadata": {},
     "output_type": "display_data"
    }
   ],
   "source": [
    "class(expression_df)"
   ]
  },
  {
   "cell_type": "code",
   "execution_count": 34,
   "metadata": {},
   "outputs": [
    {
     "data": {
      "text/html": [
       "<table>\n",
       "<caption>A data.frame: 6 × 6</caption>\n",
       "<thead>\n",
       "\t<tr><th scope=col>Name</th><th scope=col>Description</th><th scope=col>GTEX-1117F-0226-SM-5GZZ7</th><th scope=col>GTEX-1117F-0426-SM-5EGHI</th><th scope=col>GTEX-1117F-0526-SM-5EGHJ</th><th scope=col>GTEX-1117F-0626-SM-5N9CS</th></tr>\n",
       "\t<tr><th scope=col>&lt;chr&gt;</th><th scope=col>&lt;chr&gt;</th><th scope=col>&lt;dbl&gt;</th><th scope=col>&lt;dbl&gt;</th><th scope=col>&lt;dbl&gt;</th><th scope=col>&lt;dbl&gt;</th></tr>\n",
       "</thead>\n",
       "<tbody>\n",
       "\t<tr><td>ENSG00000223972.5</td><td>DDX11L1    </td><td>0.00000</td><td>0.000</td><td>0.000</td><td> 0.00000</td></tr>\n",
       "\t<tr><td>ENSG00000227232.5</td><td>WASH7P     </td><td>8.76400</td><td>3.861</td><td>7.349</td><td>11.07000</td></tr>\n",
       "\t<tr><td>ENSG00000278267.1</td><td>MIR6859-1  </td><td>0.00000</td><td>0.000</td><td>1.004</td><td> 0.00000</td></tr>\n",
       "\t<tr><td>ENSG00000243485.5</td><td>MIR1302-2HG</td><td>0.07187</td><td>0.000</td><td>0.000</td><td> 0.06761</td></tr>\n",
       "\t<tr><td>ENSG00000237613.2</td><td>FAM138A    </td><td>0.00000</td><td>0.000</td><td>0.000</td><td> 0.00000</td></tr>\n",
       "\t<tr><td>ENSG00000268020.3</td><td>OR4G4P     </td><td>0.00000</td><td>0.056</td><td>0.000</td><td> 0.00000</td></tr>\n",
       "</tbody>\n",
       "</table>\n"
      ],
      "text/latex": [
       "A data.frame: 6 × 6\n",
       "\\begin{tabular}{r|llllll}\n",
       " Name & Description & GTEX-1117F-0226-SM-5GZZ7 & GTEX-1117F-0426-SM-5EGHI & GTEX-1117F-0526-SM-5EGHJ & GTEX-1117F-0626-SM-5N9CS\\\\\n",
       " <chr> & <chr> & <dbl> & <dbl> & <dbl> & <dbl>\\\\\n",
       "\\hline\n",
       "\t ENSG00000223972.5 & DDX11L1     & 0.00000 & 0.000 & 0.000 &  0.00000\\\\\n",
       "\t ENSG00000227232.5 & WASH7P      & 8.76400 & 3.861 & 7.349 & 11.07000\\\\\n",
       "\t ENSG00000278267.1 & MIR6859-1   & 0.00000 & 0.000 & 1.004 &  0.00000\\\\\n",
       "\t ENSG00000243485.5 & MIR1302-2HG & 0.07187 & 0.000 & 0.000 &  0.06761\\\\\n",
       "\t ENSG00000237613.2 & FAM138A     & 0.00000 & 0.000 & 0.000 &  0.00000\\\\\n",
       "\t ENSG00000268020.3 & OR4G4P      & 0.00000 & 0.056 & 0.000 &  0.00000\\\\\n",
       "\\end{tabular}\n"
      ],
      "text/markdown": [
       "\n",
       "A data.frame: 6 × 6\n",
       "\n",
       "| Name &lt;chr&gt; | Description &lt;chr&gt; | GTEX-1117F-0226-SM-5GZZ7 &lt;dbl&gt; | GTEX-1117F-0426-SM-5EGHI &lt;dbl&gt; | GTEX-1117F-0526-SM-5EGHJ &lt;dbl&gt; | GTEX-1117F-0626-SM-5N9CS &lt;dbl&gt; |\n",
       "|---|---|---|---|---|---|\n",
       "| ENSG00000223972.5 | DDX11L1     | 0.00000 | 0.000 | 0.000 |  0.00000 |\n",
       "| ENSG00000227232.5 | WASH7P      | 8.76400 | 3.861 | 7.349 | 11.07000 |\n",
       "| ENSG00000278267.1 | MIR6859-1   | 0.00000 | 0.000 | 1.004 |  0.00000 |\n",
       "| ENSG00000243485.5 | MIR1302-2HG | 0.07187 | 0.000 | 0.000 |  0.06761 |\n",
       "| ENSG00000237613.2 | FAM138A     | 0.00000 | 0.000 | 0.000 |  0.00000 |\n",
       "| ENSG00000268020.3 | OR4G4P      | 0.00000 | 0.056 | 0.000 |  0.00000 |\n",
       "\n"
      ],
      "text/plain": [
       "  Name              Description GTEX-1117F-0226-SM-5GZZ7\n",
       "1 ENSG00000223972.5 DDX11L1     0.00000                 \n",
       "2 ENSG00000227232.5 WASH7P      8.76400                 \n",
       "3 ENSG00000278267.1 MIR6859-1   0.00000                 \n",
       "4 ENSG00000243485.5 MIR1302-2HG 0.07187                 \n",
       "5 ENSG00000237613.2 FAM138A     0.00000                 \n",
       "6 ENSG00000268020.3 OR4G4P      0.00000                 \n",
       "  GTEX-1117F-0426-SM-5EGHI GTEX-1117F-0526-SM-5EGHJ GTEX-1117F-0626-SM-5N9CS\n",
       "1 0.000                    0.000                     0.00000                \n",
       "2 3.861                    7.349                    11.07000                \n",
       "3 0.000                    1.004                     0.00000                \n",
       "4 0.000                    0.000                     0.06761                \n",
       "5 0.000                    0.000                     0.00000                \n",
       "6 0.056                    0.000                     0.00000                "
      ]
     },
     "metadata": {},
     "output_type": "display_data"
    }
   ],
   "source": [
    "head(expression_df[,1:6])"
   ]
  },
  {
   "cell_type": "code",
   "execution_count": 35,
   "metadata": {},
   "outputs": [],
   "source": [
    "#gene_info_target$ensembl_gene_id"
   ]
  },
  {
   "cell_type": "code",
   "execution_count": 36,
   "metadata": {},
   "outputs": [],
   "source": [
    "expression_df$NameClean <- as.character(sapply(expression_df$Name, function(x) unlist(strsplit(x, \"\\\\.\"))[[1]]))"
   ]
  },
  {
   "cell_type": "code",
   "execution_count": 37,
   "metadata": {},
   "outputs": [
    {
     "data": {
      "text/html": [
       "'ENSG00000223972'"
      ],
      "text/latex": [
       "'ENSG00000223972'"
      ],
      "text/markdown": [
       "'ENSG00000223972'"
      ],
      "text/plain": [
       "[1] \"ENSG00000223972\""
      ]
     },
     "metadata": {},
     "output_type": "display_data"
    }
   ],
   "source": [
    "unlist(strsplit(expression_df$Name[1], \"\\\\.\"))[[1]]"
   ]
  },
  {
   "cell_type": "code",
   "execution_count": 38,
   "metadata": {},
   "outputs": [
    {
     "data": {
      "text/html": [
       "<ol class=list-inline>\n",
       "\t<li>0</li>\n",
       "\t<li>17385</li>\n",
       "</ol>\n"
      ],
      "text/latex": [
       "\\begin{enumerate*}\n",
       "\\item 0\n",
       "\\item 17385\n",
       "\\end{enumerate*}\n"
      ],
      "text/markdown": [
       "1. 0\n",
       "2. 17385\n",
       "\n",
       "\n"
      ],
      "text/plain": [
       "[1]     0 17385"
      ]
     },
     "metadata": {},
     "output_type": "display_data"
    }
   ],
   "source": [
    "dim(expression_df_target)"
   ]
  },
  {
   "cell_type": "code",
   "execution_count": 39,
   "metadata": {},
   "outputs": [
    {
     "data": {
      "text/html": [
       "'data.frame'"
      ],
      "text/latex": [
       "'data.frame'"
      ],
      "text/markdown": [
       "'data.frame'"
      ],
      "text/plain": [
       "[1] \"data.frame\""
      ]
     },
     "metadata": {},
     "output_type": "display_data"
    }
   ],
   "source": [
    "class(expression_df)"
   ]
  },
  {
   "cell_type": "code",
   "execution_count": 40,
   "metadata": {},
   "outputs": [
    {
     "data": {
      "text/html": [
       "<ol class=list-inline>\n",
       "\t<li>'Name'</li>\n",
       "\t<li>'Description'</li>\n",
       "\t<li>'GTEX-1117F-0226-SM-5GZZ7'</li>\n",
       "\t<li>'GTEX-1117F-0426-SM-5EGHI'</li>\n",
       "\t<li>'GTEX-1117F-0526-SM-5EGHJ'</li>\n",
       "\t<li>'GTEX-1117F-0626-SM-5N9CS'</li>\n",
       "</ol>\n"
      ],
      "text/latex": [
       "\\begin{enumerate*}\n",
       "\\item 'Name'\n",
       "\\item 'Description'\n",
       "\\item 'GTEX-1117F-0226-SM-5GZZ7'\n",
       "\\item 'GTEX-1117F-0426-SM-5EGHI'\n",
       "\\item 'GTEX-1117F-0526-SM-5EGHJ'\n",
       "\\item 'GTEX-1117F-0626-SM-5N9CS'\n",
       "\\end{enumerate*}\n"
      ],
      "text/markdown": [
       "1. 'Name'\n",
       "2. 'Description'\n",
       "3. 'GTEX-1117F-0226-SM-5GZZ7'\n",
       "4. 'GTEX-1117F-0426-SM-5EGHI'\n",
       "5. 'GTEX-1117F-0526-SM-5EGHJ'\n",
       "6. 'GTEX-1117F-0626-SM-5N9CS'\n",
       "\n",
       "\n"
      ],
      "text/plain": [
       "[1] \"Name\"                     \"Description\"             \n",
       "[3] \"GTEX-1117F-0226-SM-5GZZ7\" \"GTEX-1117F-0426-SM-5EGHI\"\n",
       "[5] \"GTEX-1117F-0526-SM-5EGHJ\" \"GTEX-1117F-0626-SM-5N9CS\""
      ]
     },
     "metadata": {},
     "output_type": "display_data"
    }
   ],
   "source": [
    "head(colnames(expression_df))"
   ]
  },
  {
   "cell_type": "code",
   "execution_count": 42,
   "metadata": {},
   "outputs": [],
   "source": [
    "#gene_vec[startsWith(gene_vec, \"DICER\")]\n",
    "dicer_expression <- expression_df %>% filter(Description == \"DICER1\")\n"
   ]
  },
  {
   "cell_type": "code",
   "execution_count": 43,
   "metadata": {},
   "outputs": [
    {
     "data": {
      "text/plain": [
       "\n",
       "       lincRNA          miRNA protein_coding \n",
       "          6724           1215          19269 "
      ]
     },
     "metadata": {},
     "output_type": "display_data"
    }
   ],
   "source": [
    "table(gene_info_target$transcript_biotype)"
   ]
  },
  {
   "cell_type": "code",
   "execution_count": 44,
   "metadata": {},
   "outputs": [],
   "source": [
    "mirna_info <- gene_info_target %>% filter(transcript_biotype == \"miRNA\")"
   ]
  },
  {
   "cell_type": "code",
   "execution_count": 45,
   "metadata": {},
   "outputs": [
    {
     "data": {
      "text/html": [
       "<ol class=list-inline>\n",
       "\t<li>'ensembl_gene_id'</li>\n",
       "\t<li>'hgnc_symbol'</li>\n",
       "\t<li>'chromosome_name'</li>\n",
       "\t<li>'transcript_biotype'</li>\n",
       "</ol>\n"
      ],
      "text/latex": [
       "\\begin{enumerate*}\n",
       "\\item 'ensembl\\_gene\\_id'\n",
       "\\item 'hgnc\\_symbol'\n",
       "\\item 'chromosome\\_name'\n",
       "\\item 'transcript\\_biotype'\n",
       "\\end{enumerate*}\n"
      ],
      "text/markdown": [
       "1. 'ensembl_gene_id'\n",
       "2. 'hgnc_symbol'\n",
       "3. 'chromosome_name'\n",
       "4. 'transcript_biotype'\n",
       "\n",
       "\n"
      ],
      "text/plain": [
       "[1] \"ensembl_gene_id\"    \"hgnc_symbol\"        \"chromosome_name\"   \n",
       "[4] \"transcript_biotype\""
      ]
     },
     "metadata": {},
     "output_type": "display_data"
    }
   ],
   "source": [
    "colnames(mirna_info)"
   ]
  },
  {
   "cell_type": "code",
   "execution_count": 46,
   "metadata": {},
   "outputs": [
    {
     "data": {
      "text/html": [
       "<ol class=list-inline>\n",
       "\t<li>'Name'</li>\n",
       "\t<li>'Description'</li>\n",
       "\t<li>'GTEX-1117F-0226-SM-5GZZ7'</li>\n",
       "\t<li>'GTEX-1117F-0426-SM-5EGHI'</li>\n",
       "\t<li>'GTEX-1117F-0526-SM-5EGHJ'</li>\n",
       "\t<li>'GTEX-1117F-0626-SM-5N9CS'</li>\n",
       "</ol>\n"
      ],
      "text/latex": [
       "\\begin{enumerate*}\n",
       "\\item 'Name'\n",
       "\\item 'Description'\n",
       "\\item 'GTEX-1117F-0226-SM-5GZZ7'\n",
       "\\item 'GTEX-1117F-0426-SM-5EGHI'\n",
       "\\item 'GTEX-1117F-0526-SM-5EGHJ'\n",
       "\\item 'GTEX-1117F-0626-SM-5N9CS'\n",
       "\\end{enumerate*}\n"
      ],
      "text/markdown": [
       "1. 'Name'\n",
       "2. 'Description'\n",
       "3. 'GTEX-1117F-0226-SM-5GZZ7'\n",
       "4. 'GTEX-1117F-0426-SM-5EGHI'\n",
       "5. 'GTEX-1117F-0526-SM-5EGHJ'\n",
       "6. 'GTEX-1117F-0626-SM-5N9CS'\n",
       "\n",
       "\n"
      ],
      "text/plain": [
       "[1] \"Name\"                     \"Description\"             \n",
       "[3] \"GTEX-1117F-0226-SM-5GZZ7\" \"GTEX-1117F-0426-SM-5EGHI\"\n",
       "[5] \"GTEX-1117F-0526-SM-5EGHJ\" \"GTEX-1117F-0626-SM-5N9CS\""
      ]
     },
     "metadata": {},
     "output_type": "display_data"
    }
   ],
   "source": [
    "head(colnames(expression_df))"
   ]
  },
  {
   "cell_type": "code",
   "execution_count": 47,
   "metadata": {},
   "outputs": [
    {
     "data": {
      "text/html": [
       "<ol class=list-inline>\n",
       "\t<li>'ENSG00000223972'</li>\n",
       "\t<li>'ENSG00000227232'</li>\n",
       "\t<li>'ENSG00000278267'</li>\n",
       "\t<li>'ENSG00000243485'</li>\n",
       "\t<li>'ENSG00000237613'</li>\n",
       "\t<li>'ENSG00000268020'</li>\n",
       "</ol>\n"
      ],
      "text/latex": [
       "\\begin{enumerate*}\n",
       "\\item 'ENSG00000223972'\n",
       "\\item 'ENSG00000227232'\n",
       "\\item 'ENSG00000278267'\n",
       "\\item 'ENSG00000243485'\n",
       "\\item 'ENSG00000237613'\n",
       "\\item 'ENSG00000268020'\n",
       "\\end{enumerate*}\n"
      ],
      "text/markdown": [
       "1. 'ENSG00000223972'\n",
       "2. 'ENSG00000227232'\n",
       "3. 'ENSG00000278267'\n",
       "4. 'ENSG00000243485'\n",
       "5. 'ENSG00000237613'\n",
       "6. 'ENSG00000268020'\n",
       "\n",
       "\n"
      ],
      "text/plain": [
       "[1] \"ENSG00000223972\" \"ENSG00000227232\" \"ENSG00000278267\" \"ENSG00000243485\"\n",
       "[5] \"ENSG00000237613\" \"ENSG00000268020\""
      ]
     },
     "metadata": {},
     "output_type": "display_data"
    }
   ],
   "source": [
    "head(expression_df$NameClean)"
   ]
  },
  {
   "cell_type": "code",
   "execution_count": 48,
   "metadata": {},
   "outputs": [
    {
     "data": {
      "text/html": [
       "<table>\n",
       "<caption>A data.frame: 6 × 4</caption>\n",
       "<thead>\n",
       "\t<tr><th scope=col>ensembl_gene_id</th><th scope=col>hgnc_symbol</th><th scope=col>chromosome_name</th><th scope=col>transcript_biotype</th></tr>\n",
       "\t<tr><th scope=col>&lt;chr&gt;</th><th scope=col>&lt;chr&gt;</th><th scope=col>&lt;chr&gt;</th><th scope=col>&lt;chr&gt;</th></tr>\n",
       "</thead>\n",
       "<tbody>\n",
       "\t<tr><td>ENSG00000243485</td><td>MIR1302-11</td><td>1</td><td>miRNA</td></tr>\n",
       "\t<tr><td>ENSG00000243485</td><td>MIR1302-10</td><td>1</td><td>miRNA</td></tr>\n",
       "\t<tr><td>ENSG00000243485</td><td>MIR1302-9 </td><td>1</td><td>miRNA</td></tr>\n",
       "\t<tr><td>ENSG00000243485</td><td>MIR1302-2 </td><td>1</td><td>miRNA</td></tr>\n",
       "\t<tr><td>ENSG00000207730</td><td>MIR200B   </td><td>1</td><td>miRNA</td></tr>\n",
       "\t<tr><td>ENSG00000207607</td><td>MIR200A   </td><td>1</td><td>miRNA</td></tr>\n",
       "</tbody>\n",
       "</table>\n"
      ],
      "text/latex": [
       "A data.frame: 6 × 4\n",
       "\\begin{tabular}{r|llll}\n",
       " ensembl\\_gene\\_id & hgnc\\_symbol & chromosome\\_name & transcript\\_biotype\\\\\n",
       " <chr> & <chr> & <chr> & <chr>\\\\\n",
       "\\hline\n",
       "\t ENSG00000243485 & MIR1302-11 & 1 & miRNA\\\\\n",
       "\t ENSG00000243485 & MIR1302-10 & 1 & miRNA\\\\\n",
       "\t ENSG00000243485 & MIR1302-9  & 1 & miRNA\\\\\n",
       "\t ENSG00000243485 & MIR1302-2  & 1 & miRNA\\\\\n",
       "\t ENSG00000207730 & MIR200B    & 1 & miRNA\\\\\n",
       "\t ENSG00000207607 & MIR200A    & 1 & miRNA\\\\\n",
       "\\end{tabular}\n"
      ],
      "text/markdown": [
       "\n",
       "A data.frame: 6 × 4\n",
       "\n",
       "| ensembl_gene_id &lt;chr&gt; | hgnc_symbol &lt;chr&gt; | chromosome_name &lt;chr&gt; | transcript_biotype &lt;chr&gt; |\n",
       "|---|---|---|---|\n",
       "| ENSG00000243485 | MIR1302-11 | 1 | miRNA |\n",
       "| ENSG00000243485 | MIR1302-10 | 1 | miRNA |\n",
       "| ENSG00000243485 | MIR1302-9  | 1 | miRNA |\n",
       "| ENSG00000243485 | MIR1302-2  | 1 | miRNA |\n",
       "| ENSG00000207730 | MIR200B    | 1 | miRNA |\n",
       "| ENSG00000207607 | MIR200A    | 1 | miRNA |\n",
       "\n"
      ],
      "text/plain": [
       "  ensembl_gene_id hgnc_symbol chromosome_name transcript_biotype\n",
       "1 ENSG00000243485 MIR1302-11  1               miRNA             \n",
       "2 ENSG00000243485 MIR1302-10  1               miRNA             \n",
       "3 ENSG00000243485 MIR1302-9   1               miRNA             \n",
       "4 ENSG00000243485 MIR1302-2   1               miRNA             \n",
       "5 ENSG00000207730 MIR200B     1               miRNA             \n",
       "6 ENSG00000207607 MIR200A     1               miRNA             "
      ]
     },
     "metadata": {},
     "output_type": "display_data"
    }
   ],
   "source": [
    "head(mirna_info)"
   ]
  },
  {
   "cell_type": "code",
   "execution_count": 49,
   "metadata": {},
   "outputs": [],
   "source": [
    "mirna_expression <- mirna_info %>%\n",
    "    left_join(expression_df, by = c(\"ensembl_gene_id\" = \"NameClean\")) "
   ]
  },
  {
   "cell_type": "code",
   "execution_count": 50,
   "metadata": {},
   "outputs": [
    {
     "data": {
      "text/html": [
       "<ol class=list-inline>\n",
       "\t<li>1217</li>\n",
       "\t<li>17388</li>\n",
       "</ol>\n"
      ],
      "text/latex": [
       "\\begin{enumerate*}\n",
       "\\item 1217\n",
       "\\item 17388\n",
       "\\end{enumerate*}\n"
      ],
      "text/markdown": [
       "1. 1217\n",
       "2. 17388\n",
       "\n",
       "\n"
      ],
      "text/plain": [
       "[1]  1217 17388"
      ]
     },
     "metadata": {},
     "output_type": "display_data"
    },
    {
     "data": {
      "text/html": [
       "<ol class=list-inline>\n",
       "\t<li>1</li>\n",
       "\t<li>17385</li>\n",
       "</ol>\n"
      ],
      "text/latex": [
       "\\begin{enumerate*}\n",
       "\\item 1\n",
       "\\item 17385\n",
       "\\end{enumerate*}\n"
      ],
      "text/markdown": [
       "1. 1\n",
       "2. 17385\n",
       "\n",
       "\n"
      ],
      "text/plain": [
       "[1]     1 17385"
      ]
     },
     "metadata": {},
     "output_type": "display_data"
    }
   ],
   "source": [
    "dim(mirna_expression)\n",
    "dim(dicer_expression)"
   ]
  },
  {
   "cell_type": "code",
   "execution_count": 51,
   "metadata": {},
   "outputs": [
    {
     "data": {
      "text/html": [
       "<ol class=list-inline>\n",
       "\t<li>1217</li>\n",
       "\t<li>17388</li>\n",
       "</ol>\n"
      ],
      "text/latex": [
       "\\begin{enumerate*}\n",
       "\\item 1217\n",
       "\\item 17388\n",
       "\\end{enumerate*}\n"
      ],
      "text/markdown": [
       "1. 1217\n",
       "2. 17388\n",
       "\n",
       "\n"
      ],
      "text/plain": [
       "[1]  1217 17388"
      ]
     },
     "metadata": {},
     "output_type": "display_data"
    }
   ],
   "source": [
    "dim(mirna_expression)"
   ]
  },
  {
   "cell_type": "code",
   "execution_count": 52,
   "metadata": {},
   "outputs": [
    {
     "data": {
      "text/html": [
       "<ol class=list-inline>\n",
       "\t<li>1</li>\n",
       "\t<li>17385</li>\n",
       "</ol>\n"
      ],
      "text/latex": [
       "\\begin{enumerate*}\n",
       "\\item 1\n",
       "\\item 17385\n",
       "\\end{enumerate*}\n"
      ],
      "text/markdown": [
       "1. 1\n",
       "2. 17385\n",
       "\n",
       "\n"
      ],
      "text/plain": [
       "[1]     1 17385"
      ]
     },
     "metadata": {},
     "output_type": "display_data"
    }
   ],
   "source": [
    "dim(dicer_expression)"
   ]
  },
  {
   "cell_type": "code",
   "execution_count": 53,
   "metadata": {},
   "outputs": [
    {
     "data": {
      "image/png": "[encoded data removed]",
      "text/plain": [
       "Plot with title “Histogram of as.numeric(dicer_expression[3:17384])”"
      ]
     },
     "metadata": {},
     "output_type": "display_data"
    }
   ],
   "source": [
    "hist(as.numeric(dicer_expression[3:17384]))"
   ]
  },
  {
   "cell_type": "code",
   "execution_count": 54,
   "metadata": {},
   "outputs": [],
   "source": [
    "dicer_expression_val <- as.numeric(dicer_expression[3:17384])\n",
    "mirna_expression_val <- as.numeric(mirna_expression[1, 7:17388])"
   ]
  },
  {
   "cell_type": "code",
   "execution_count": 64,
   "metadata": {},
   "outputs": [
    {
     "data": {
      "text/html": [
       "<table>\n",
       "<caption>A data.frame: 10 × 10</caption>\n",
       "<thead>\n",
       "\t<tr><th scope=col>ensembl_gene_id</th><th scope=col>hgnc_symbol</th><th scope=col>chromosome_name</th><th scope=col>transcript_biotype</th><th scope=col>Name</th><th scope=col>Description</th><th scope=col>GTEX-1117F-0226-SM-5GZZ7</th><th scope=col>GTEX-1117F-0426-SM-5EGHI</th><th scope=col>GTEX-1117F-0526-SM-5EGHJ</th><th scope=col>GTEX-1117F-0626-SM-5N9CS</th></tr>\n",
       "\t<tr><th scope=col>&lt;chr&gt;</th><th scope=col>&lt;chr&gt;</th><th scope=col>&lt;chr&gt;</th><th scope=col>&lt;chr&gt;</th><th scope=col>&lt;chr&gt;</th><th scope=col>&lt;chr&gt;</th><th scope=col>&lt;dbl&gt;</th><th scope=col>&lt;dbl&gt;</th><th scope=col>&lt;dbl&gt;</th><th scope=col>&lt;dbl&gt;</th></tr>\n",
       "</thead>\n",
       "<tbody>\n",
       "\t<tr><td>ENSG00000243485</td><td>MIR1302-11</td><td>1</td><td>miRNA</td><td>ENSG00000243485.5</td><td>MIR1302-2HG</td><td>0.07187</td><td>0.000</td><td>0.0000</td><td>0.06761</td></tr>\n",
       "\t<tr><td>ENSG00000243485</td><td>MIR1302-10</td><td>1</td><td>miRNA</td><td>ENSG00000243485.5</td><td>MIR1302-2HG</td><td>0.07187</td><td>0.000</td><td>0.0000</td><td>0.06761</td></tr>\n",
       "\t<tr><td>ENSG00000243485</td><td>MIR1302-9 </td><td>1</td><td>miRNA</td><td>ENSG00000243485.5</td><td>MIR1302-2HG</td><td>0.07187</td><td>0.000</td><td>0.0000</td><td>0.06761</td></tr>\n",
       "\t<tr><td>ENSG00000243485</td><td>MIR1302-2 </td><td>1</td><td>miRNA</td><td>ENSG00000243485.5</td><td>MIR1302-2HG</td><td>0.07187</td><td>0.000</td><td>0.0000</td><td>0.06761</td></tr>\n",
       "\t<tr><td>ENSG00000207730</td><td>MIR200B   </td><td>1</td><td>miRNA</td><td>ENSG00000207730.3</td><td>MIR200B    </td><td>0.65510</td><td>0.000</td><td>0.0000</td><td>0.00000</td></tr>\n",
       "\t<tr><td>ENSG00000207607</td><td>MIR200A   </td><td>1</td><td>miRNA</td><td>ENSG00000207607.3</td><td>MIR200A    </td><td>0.00000</td><td>0.000</td><td>0.0000</td><td>0.00000</td></tr>\n",
       "\t<tr><td>ENSG00000198976</td><td>MIR429    </td><td>1</td><td>miRNA</td><td>ENSG00000198976.1</td><td>MIR429     </td><td>0.00000</td><td>1.133</td><td>0.8223</td><td>0.00000</td></tr>\n",
       "\t<tr><td>ENSG00000207776</td><td>MIR551A   </td><td>1</td><td>miRNA</td><td>ENSG00000207776.1</td><td>MIR551A    </td><td>0.00000</td><td>0.000</td><td>0.0000</td><td>0.00000</td></tr>\n",
       "\t<tr><td>ENSG00000264341</td><td>MIR4417   </td><td>1</td><td>miRNA</td><td>ENSG00000264341.1</td><td>MIR4417    </td><td>0.00000</td><td>0.000</td><td>0.0000</td><td>0.00000</td></tr>\n",
       "\t<tr><td>ENSG00000264101</td><td>MIR4689   </td><td>1</td><td>miRNA</td><td>ENSG00000264101.1</td><td>MIR4689    </td><td>0.00000</td><td>0.000</td><td>0.0000</td><td>0.00000</td></tr>\n",
       "</tbody>\n",
       "</table>\n"
      ],
      "text/latex": [
       "A data.frame: 10 × 10\n",
       "\\begin{tabular}{r|llllllllll}\n",
       " ensembl\\_gene\\_id & hgnc\\_symbol & chromosome\\_name & transcript\\_biotype & Name & Description & GTEX-1117F-0226-SM-5GZZ7 & GTEX-1117F-0426-SM-5EGHI & GTEX-1117F-0526-SM-5EGHJ & GTEX-1117F-0626-SM-5N9CS\\\\\n",
       " <chr> & <chr> & <chr> & <chr> & <chr> & <chr> & <dbl> & <dbl> & <dbl> & <dbl>\\\\\n",
       "\\hline\n",
       "\t ENSG00000243485 & MIR1302-11 & 1 & miRNA & ENSG00000243485.5 & MIR1302-2HG & 0.07187 & 0.000 & 0.0000 & 0.06761\\\\\n",
       "\t ENSG00000243485 & MIR1302-10 & 1 & miRNA & ENSG00000243485.5 & MIR1302-2HG & 0.07187 & 0.000 & 0.0000 & 0.06761\\\\\n",
       "\t ENSG00000243485 & MIR1302-9  & 1 & miRNA & ENSG00000243485.5 & MIR1302-2HG & 0.07187 & 0.000 & 0.0000 & 0.06761\\\\\n",
       "\t ENSG00000243485 & MIR1302-2  & 1 & miRNA & ENSG00000243485.5 & MIR1302-2HG & 0.07187 & 0.000 & 0.0000 & 0.06761\\\\\n",
       "\t ENSG00000207730 & MIR200B    & 1 & miRNA & ENSG00000207730.3 & MIR200B     & 0.65510 & 0.000 & 0.0000 & 0.00000\\\\\n",
       "\t ENSG00000207607 & MIR200A    & 1 & miRNA & ENSG00000207607.3 & MIR200A     & 0.00000 & 0.000 & 0.0000 & 0.00000\\\\\n",
       "\t ENSG00000198976 & MIR429     & 1 & miRNA & ENSG00000198976.1 & MIR429      & 0.00000 & 1.133 & 0.8223 & 0.00000\\\\\n",
       "\t ENSG00000207776 & MIR551A    & 1 & miRNA & ENSG00000207776.1 & MIR551A     & 0.00000 & 0.000 & 0.0000 & 0.00000\\\\\n",
       "\t ENSG00000264341 & MIR4417    & 1 & miRNA & ENSG00000264341.1 & MIR4417     & 0.00000 & 0.000 & 0.0000 & 0.00000\\\\\n",
       "\t ENSG00000264101 & MIR4689    & 1 & miRNA & ENSG00000264101.1 & MIR4689     & 0.00000 & 0.000 & 0.0000 & 0.00000\\\\\n",
       "\\end{tabular}\n"
      ],
      "text/markdown": [
       "\n",
       "A data.frame: 10 × 10\n",
       "\n",
       "| ensembl_gene_id &lt;chr&gt; | hgnc_symbol &lt;chr&gt; | chromosome_name &lt;chr&gt; | transcript_biotype &lt;chr&gt; | Name &lt;chr&gt; | Description &lt;chr&gt; | GTEX-1117F-0226-SM-5GZZ7 &lt;dbl&gt; | GTEX-1117F-0426-SM-5EGHI &lt;dbl&gt; | GTEX-1117F-0526-SM-5EGHJ &lt;dbl&gt; | GTEX-1117F-0626-SM-5N9CS &lt;dbl&gt; |\n",
       "|---|---|---|---|---|---|---|---|---|---|\n",
       "| ENSG00000243485 | MIR1302-11 | 1 | miRNA | ENSG00000243485.5 | MIR1302-2HG | 0.07187 | 0.000 | 0.0000 | 0.06761 |\n",
       "| ENSG00000243485 | MIR1302-10 | 1 | miRNA | ENSG00000243485.5 | MIR1302-2HG | 0.07187 | 0.000 | 0.0000 | 0.06761 |\n",
       "| ENSG00000243485 | MIR1302-9  | 1 | miRNA | ENSG00000243485.5 | MIR1302-2HG | 0.07187 | 0.000 | 0.0000 | 0.06761 |\n",
       "| ENSG00000243485 | MIR1302-2  | 1 | miRNA | ENSG00000243485.5 | MIR1302-2HG | 0.07187 | 0.000 | 0.0000 | 0.06761 |\n",
       "| ENSG00000207730 | MIR200B    | 1 | miRNA | ENSG00000207730.3 | MIR200B     | 0.65510 | 0.000 | 0.0000 | 0.00000 |\n",
       "| ENSG00000207607 | MIR200A    | 1 | miRNA | ENSG00000207607.3 | MIR200A     | 0.00000 | 0.000 | 0.0000 | 0.00000 |\n",
       "| ENSG00000198976 | MIR429     | 1 | miRNA | ENSG00000198976.1 | MIR429      | 0.00000 | 1.133 | 0.8223 | 0.00000 |\n",
       "| ENSG00000207776 | MIR551A    | 1 | miRNA | ENSG00000207776.1 | MIR551A     | 0.00000 | 0.000 | 0.0000 | 0.00000 |\n",
       "| ENSG00000264341 | MIR4417    | 1 | miRNA | ENSG00000264341.1 | MIR4417     | 0.00000 | 0.000 | 0.0000 | 0.00000 |\n",
       "| ENSG00000264101 | MIR4689    | 1 | miRNA | ENSG00000264101.1 | MIR4689     | 0.00000 | 0.000 | 0.0000 | 0.00000 |\n",
       "\n"
      ],
      "text/plain": [
       "   ensembl_gene_id hgnc_symbol chromosome_name transcript_biotype\n",
       "1  ENSG00000243485 MIR1302-11  1               miRNA             \n",
       "2  ENSG00000243485 MIR1302-10  1               miRNA             \n",
       "3  ENSG00000243485 MIR1302-9   1               miRNA             \n",
       "4  ENSG00000243485 MIR1302-2   1               miRNA             \n",
       "5  ENSG00000207730 MIR200B     1               miRNA             \n",
       "6  ENSG00000207607 MIR200A     1               miRNA             \n",
       "7  ENSG00000198976 MIR429      1               miRNA             \n",
       "8  ENSG00000207776 MIR551A     1               miRNA             \n",
       "9  ENSG00000264341 MIR4417     1               miRNA             \n",
       "10 ENSG00000264101 MIR4689     1               miRNA             \n",
       "   Name              Description GTEX-1117F-0226-SM-5GZZ7\n",
       "1  ENSG00000243485.5 MIR1302-2HG 0.07187                 \n",
       "2  ENSG00000243485.5 MIR1302-2HG 0.07187                 \n",
       "3  ENSG00000243485.5 MIR1302-2HG 0.07187                 \n",
       "4  ENSG00000243485.5 MIR1302-2HG 0.07187                 \n",
       "5  ENSG00000207730.3 MIR200B     0.65510                 \n",
       "6  ENSG00000207607.3 MIR200A     0.00000                 \n",
       "7  ENSG00000198976.1 MIR429      0.00000                 \n",
       "8  ENSG00000207776.1 MIR551A     0.00000                 \n",
       "9  ENSG00000264341.1 MIR4417     0.00000                 \n",
       "10 ENSG00000264101.1 MIR4689     0.00000                 \n",
       "   GTEX-1117F-0426-SM-5EGHI GTEX-1117F-0526-SM-5EGHJ GTEX-1117F-0626-SM-5N9CS\n",
       "1  0.000                    0.0000                   0.06761                 \n",
       "2  0.000                    0.0000                   0.06761                 \n",
       "3  0.000                    0.0000                   0.06761                 \n",
       "4  0.000                    0.0000                   0.06761                 \n",
       "5  0.000                    0.0000                   0.00000                 \n",
       "6  0.000                    0.0000                   0.00000                 \n",
       "7  1.133                    0.8223                   0.00000                 \n",
       "8  0.000                    0.0000                   0.00000                 \n",
       "9  0.000                    0.0000                   0.00000                 \n",
       "10 0.000                    0.0000                   0.00000                 "
      ]
     },
     "metadata": {},
     "output_type": "display_data"
    }
   ],
   "source": [
    "mirna_expression[1:10, 1:10]"
   ]
  },
  {
   "cell_type": "code",
   "execution_count": 66,
   "metadata": {},
   "outputs": [],
   "source": [
    "mirna_expression_unique <- mirna_expression %>%\n",
    "    distinct(ensembl_gene_id, .keep_all = T)"
   ]
  },
  {
   "cell_type": "code",
   "execution_count": 67,
   "metadata": {},
   "outputs": [
    {
     "data": {
      "text/html": [
       "<ol class=list-inline>\n",
       "\t<li>1166</li>\n",
       "\t<li>17388</li>\n",
       "</ol>\n"
      ],
      "text/latex": [
       "\\begin{enumerate*}\n",
       "\\item 1166\n",
       "\\item 17388\n",
       "\\end{enumerate*}\n"
      ],
      "text/markdown": [
       "1. 1166\n",
       "2. 17388\n",
       "\n",
       "\n"
      ],
      "text/plain": [
       "[1]  1166 17388"
      ]
     },
     "metadata": {},
     "output_type": "display_data"
    }
   ],
   "source": [
    "dim(mirna_expression_unique)"
   ]
  },
  {
   "cell_type": "code",
   "execution_count": 68,
   "metadata": {},
   "outputs": [],
   "source": [
    "# plotting function\n",
    "plot_dicer_miRNA <- function(idx) {\n",
    "    mirna_expression_tpm <- as.numeric(mirna_expression_unique[idx, 7:17388])\n",
    "    plot(dicer_expression_val, mirna_expression_tpm)\n",
    "}\n",
    "\n",
    "cor_dicer_miRNA <- function(idx) {\n",
    "    mirna_expression_tpm <- as.numeric(mirna_expression_unique[idx, 7:17388])\n",
    "    return(cor(dicer_expression_val, mirna_expression_tpm))\n",
    "}\n",
    "\n",
    "dicer_miRNA <- function(idx) {\n",
    "    plot_dicer_miRNA(idx)\n",
    "    cor_dicer_miRNA(idx)\n",
    "}"
   ]
  },
  {
   "cell_type": "code",
   "execution_count": 56,
   "metadata": {},
   "outputs": [
    {
     "data": {
      "image/png": "[encoded data removed]",
      "text/plain": [
       "plot without title"
      ]
     },
     "metadata": {},
     "output_type": "display_data"
    }
   ],
   "source": [
    "plot(as.numeric(dicer_expression[3:17384]), as.numeric(mirna_expression[1, 7:17388]))"
   ]
  },
  {
   "cell_type": "code",
   "execution_count": 57,
   "metadata": {},
   "outputs": [
    {
     "data": {
      "text/html": [
       "<table>\n",
       "<caption>A data.frame: 10 × 10</caption>\n",
       "<thead>\n",
       "\t<tr><th scope=col>ensembl_gene_id</th><th scope=col>hgnc_symbol</th><th scope=col>chromosome_name</th><th scope=col>transcript_biotype</th><th scope=col>Name</th><th scope=col>Description</th><th scope=col>GTEX-1117F-0226-SM-5GZZ7</th><th scope=col>GTEX-1117F-0426-SM-5EGHI</th><th scope=col>GTEX-1117F-0526-SM-5EGHJ</th><th scope=col>GTEX-1117F-0626-SM-5N9CS</th></tr>\n",
       "\t<tr><th scope=col>&lt;chr&gt;</th><th scope=col>&lt;chr&gt;</th><th scope=col>&lt;chr&gt;</th><th scope=col>&lt;chr&gt;</th><th scope=col>&lt;chr&gt;</th><th scope=col>&lt;chr&gt;</th><th scope=col>&lt;dbl&gt;</th><th scope=col>&lt;dbl&gt;</th><th scope=col>&lt;dbl&gt;</th><th scope=col>&lt;dbl&gt;</th></tr>\n",
       "</thead>\n",
       "<tbody>\n",
       "\t<tr><td>ENSG00000243485</td><td>MIR1302-11</td><td>1</td><td>miRNA</td><td>ENSG00000243485.5</td><td>MIR1302-2HG</td><td>0.07187</td><td>0.000</td><td>0.0000</td><td>0.06761</td></tr>\n",
       "\t<tr><td>ENSG00000243485</td><td>MIR1302-10</td><td>1</td><td>miRNA</td><td>ENSG00000243485.5</td><td>MIR1302-2HG</td><td>0.07187</td><td>0.000</td><td>0.0000</td><td>0.06761</td></tr>\n",
       "\t<tr><td>ENSG00000243485</td><td>MIR1302-9 </td><td>1</td><td>miRNA</td><td>ENSG00000243485.5</td><td>MIR1302-2HG</td><td>0.07187</td><td>0.000</td><td>0.0000</td><td>0.06761</td></tr>\n",
       "\t<tr><td>ENSG00000243485</td><td>MIR1302-2 </td><td>1</td><td>miRNA</td><td>ENSG00000243485.5</td><td>MIR1302-2HG</td><td>0.07187</td><td>0.000</td><td>0.0000</td><td>0.06761</td></tr>\n",
       "\t<tr><td>ENSG00000207730</td><td>MIR200B   </td><td>1</td><td>miRNA</td><td>ENSG00000207730.3</td><td>MIR200B    </td><td>0.65510</td><td>0.000</td><td>0.0000</td><td>0.00000</td></tr>\n",
       "\t<tr><td>ENSG00000207607</td><td>MIR200A   </td><td>1</td><td>miRNA</td><td>ENSG00000207607.3</td><td>MIR200A    </td><td>0.00000</td><td>0.000</td><td>0.0000</td><td>0.00000</td></tr>\n",
       "\t<tr><td>ENSG00000198976</td><td>MIR429    </td><td>1</td><td>miRNA</td><td>ENSG00000198976.1</td><td>MIR429     </td><td>0.00000</td><td>1.133</td><td>0.8223</td><td>0.00000</td></tr>\n",
       "\t<tr><td>ENSG00000207776</td><td>MIR551A   </td><td>1</td><td>miRNA</td><td>ENSG00000207776.1</td><td>MIR551A    </td><td>0.00000</td><td>0.000</td><td>0.0000</td><td>0.00000</td></tr>\n",
       "\t<tr><td>ENSG00000264341</td><td>MIR4417   </td><td>1</td><td>miRNA</td><td>ENSG00000264341.1</td><td>MIR4417    </td><td>0.00000</td><td>0.000</td><td>0.0000</td><td>0.00000</td></tr>\n",
       "\t<tr><td>ENSG00000264101</td><td>MIR4689   </td><td>1</td><td>miRNA</td><td>ENSG00000264101.1</td><td>MIR4689    </td><td>0.00000</td><td>0.000</td><td>0.0000</td><td>0.00000</td></tr>\n",
       "</tbody>\n",
       "</table>\n"
      ],
      "text/latex": [
       "A data.frame: 10 × 10\n",
       "\\begin{tabular}{r|llllllllll}\n",
       " ensembl\\_gene\\_id & hgnc\\_symbol & chromosome\\_name & transcript\\_biotype & Name & Description & GTEX-1117F-0226-SM-5GZZ7 & GTEX-1117F-0426-SM-5EGHI & GTEX-1117F-0526-SM-5EGHJ & GTEX-1117F-0626-SM-5N9CS\\\\\n",
       " <chr> & <chr> & <chr> & <chr> & <chr> & <chr> & <dbl> & <dbl> & <dbl> & <dbl>\\\\\n",
       "\\hline\n",
       "\t ENSG00000243485 & MIR1302-11 & 1 & miRNA & ENSG00000243485.5 & MIR1302-2HG & 0.07187 & 0.000 & 0.0000 & 0.06761\\\\\n",
       "\t ENSG00000243485 & MIR1302-10 & 1 & miRNA & ENSG00000243485.5 & MIR1302-2HG & 0.07187 & 0.000 & 0.0000 & 0.06761\\\\\n",
       "\t ENSG00000243485 & MIR1302-9  & 1 & miRNA & ENSG00000243485.5 & MIR1302-2HG & 0.07187 & 0.000 & 0.0000 & 0.06761\\\\\n",
       "\t ENSG00000243485 & MIR1302-2  & 1 & miRNA & ENSG00000243485.5 & MIR1302-2HG & 0.07187 & 0.000 & 0.0000 & 0.06761\\\\\n",
       "\t ENSG00000207730 & MIR200B    & 1 & miRNA & ENSG00000207730.3 & MIR200B     & 0.65510 & 0.000 & 0.0000 & 0.00000\\\\\n",
       "\t ENSG00000207607 & MIR200A    & 1 & miRNA & ENSG00000207607.3 & MIR200A     & 0.00000 & 0.000 & 0.0000 & 0.00000\\\\\n",
       "\t ENSG00000198976 & MIR429     & 1 & miRNA & ENSG00000198976.1 & MIR429      & 0.00000 & 1.133 & 0.8223 & 0.00000\\\\\n",
       "\t ENSG00000207776 & MIR551A    & 1 & miRNA & ENSG00000207776.1 & MIR551A     & 0.00000 & 0.000 & 0.0000 & 0.00000\\\\\n",
       "\t ENSG00000264341 & MIR4417    & 1 & miRNA & ENSG00000264341.1 & MIR4417     & 0.00000 & 0.000 & 0.0000 & 0.00000\\\\\n",
       "\t ENSG00000264101 & MIR4689    & 1 & miRNA & ENSG00000264101.1 & MIR4689     & 0.00000 & 0.000 & 0.0000 & 0.00000\\\\\n",
       "\\end{tabular}\n"
      ],
      "text/markdown": [
       "\n",
       "A data.frame: 10 × 10\n",
       "\n",
       "| ensembl_gene_id &lt;chr&gt; | hgnc_symbol &lt;chr&gt; | chromosome_name &lt;chr&gt; | transcript_biotype &lt;chr&gt; | Name &lt;chr&gt; | Description &lt;chr&gt; | GTEX-1117F-0226-SM-5GZZ7 &lt;dbl&gt; | GTEX-1117F-0426-SM-5EGHI &lt;dbl&gt; | GTEX-1117F-0526-SM-5EGHJ &lt;dbl&gt; | GTEX-1117F-0626-SM-5N9CS &lt;dbl&gt; |\n",
       "|---|---|---|---|---|---|---|---|---|---|\n",
       "| ENSG00000243485 | MIR1302-11 | 1 | miRNA | ENSG00000243485.5 | MIR1302-2HG | 0.07187 | 0.000 | 0.0000 | 0.06761 |\n",
       "| ENSG00000243485 | MIR1302-10 | 1 | miRNA | ENSG00000243485.5 | MIR1302-2HG | 0.07187 | 0.000 | 0.0000 | 0.06761 |\n",
       "| ENSG00000243485 | MIR1302-9  | 1 | miRNA | ENSG00000243485.5 | MIR1302-2HG | 0.07187 | 0.000 | 0.0000 | 0.06761 |\n",
       "| ENSG00000243485 | MIR1302-2  | 1 | miRNA | ENSG00000243485.5 | MIR1302-2HG | 0.07187 | 0.000 | 0.0000 | 0.06761 |\n",
       "| ENSG00000207730 | MIR200B    | 1 | miRNA | ENSG00000207730.3 | MIR200B     | 0.65510 | 0.000 | 0.0000 | 0.00000 |\n",
       "| ENSG00000207607 | MIR200A    | 1 | miRNA | ENSG00000207607.3 | MIR200A     | 0.00000 | 0.000 | 0.0000 | 0.00000 |\n",
       "| ENSG00000198976 | MIR429     | 1 | miRNA | ENSG00000198976.1 | MIR429      | 0.00000 | 1.133 | 0.8223 | 0.00000 |\n",
       "| ENSG00000207776 | MIR551A    | 1 | miRNA | ENSG00000207776.1 | MIR551A     | 0.00000 | 0.000 | 0.0000 | 0.00000 |\n",
       "| ENSG00000264341 | MIR4417    | 1 | miRNA | ENSG00000264341.1 | MIR4417     | 0.00000 | 0.000 | 0.0000 | 0.00000 |\n",
       "| ENSG00000264101 | MIR4689    | 1 | miRNA | ENSG00000264101.1 | MIR4689     | 0.00000 | 0.000 | 0.0000 | 0.00000 |\n",
       "\n"
      ],
      "text/plain": [
       "   ensembl_gene_id hgnc_symbol chromosome_name transcript_biotype\n",
       "1  ENSG00000243485 MIR1302-11  1               miRNA             \n",
       "2  ENSG00000243485 MIR1302-10  1               miRNA             \n",
       "3  ENSG00000243485 MIR1302-9   1               miRNA             \n",
       "4  ENSG00000243485 MIR1302-2   1               miRNA             \n",
       "5  ENSG00000207730 MIR200B     1               miRNA             \n",
       "6  ENSG00000207607 MIR200A     1               miRNA             \n",
       "7  ENSG00000198976 MIR429      1               miRNA             \n",
       "8  ENSG00000207776 MIR551A     1               miRNA             \n",
       "9  ENSG00000264341 MIR4417     1               miRNA             \n",
       "10 ENSG00000264101 MIR4689     1               miRNA             \n",
       "   Name              Description GTEX-1117F-0226-SM-5GZZ7\n",
       "1  ENSG00000243485.5 MIR1302-2HG 0.07187                 \n",
       "2  ENSG00000243485.5 MIR1302-2HG 0.07187                 \n",
       "3  ENSG00000243485.5 MIR1302-2HG 0.07187                 \n",
       "4  ENSG00000243485.5 MIR1302-2HG 0.07187                 \n",
       "5  ENSG00000207730.3 MIR200B     0.65510                 \n",
       "6  ENSG00000207607.3 MIR200A     0.00000                 \n",
       "7  ENSG00000198976.1 MIR429      0.00000                 \n",
       "8  ENSG00000207776.1 MIR551A     0.00000                 \n",
       "9  ENSG00000264341.1 MIR4417     0.00000                 \n",
       "10 ENSG00000264101.1 MIR4689     0.00000                 \n",
       "   GTEX-1117F-0426-SM-5EGHI GTEX-1117F-0526-SM-5EGHJ GTEX-1117F-0626-SM-5N9CS\n",
       "1  0.000                    0.0000                   0.06761                 \n",
       "2  0.000                    0.0000                   0.06761                 \n",
       "3  0.000                    0.0000                   0.06761                 \n",
       "4  0.000                    0.0000                   0.06761                 \n",
       "5  0.000                    0.0000                   0.00000                 \n",
       "6  0.000                    0.0000                   0.00000                 \n",
       "7  1.133                    0.8223                   0.00000                 \n",
       "8  0.000                    0.0000                   0.00000                 \n",
       "9  0.000                    0.0000                   0.00000                 \n",
       "10 0.000                    0.0000                   0.00000                 "
      ]
     },
     "metadata": {},
     "output_type": "display_data"
    }
   ],
   "source": [
    "mirna_expression[1:10, 1:10]"
   ]
  },
  {
   "cell_type": "code",
   "execution_count": 58,
   "metadata": {},
   "outputs": [
    {
     "data": {
      "image/png": "[encoded data removed]",
      "text/plain": [
       "plot without title"
      ]
     },
     "metadata": {},
     "output_type": "display_data"
    }
   ],
   "source": [
    "plot_dicer_miRNA(2)"
   ]
  },
  {
   "cell_type": "code",
   "execution_count": null,
   "metadata": {},
   "outputs": [],
   "source": []
  },
  {
   "cell_type": "code",
   "execution_count": 62,
   "metadata": {},
   "outputs": [
    {
     "data": {
      "text/html": [
       "-0.0551383044785933"
      ],
      "text/latex": [
       "-0.0551383044785933"
      ],
      "text/markdown": [
       "-0.0551383044785933"
      ],
      "text/plain": [
       "[1] -0.0551383"
      ]
     },
     "metadata": {},
     "output_type": "display_data"
    },
    {
     "data": {
      "image/png": "[encoded data removed]",
      "text/plain": [
       "plot without title"
      ]
     },
     "metadata": {},
     "output_type": "display_data"
    }
   ],
   "source": [
    "plot_dicer_miRNA(3)\n",
    "cor_dicer_miRNA(3)"
   ]
  },
  {
   "cell_type": "code",
   "execution_count": 60,
   "metadata": {},
   "outputs": [
    {
     "data": {
      "text/html": [
       "-0.0551383044785933"
      ],
      "text/latex": [
       "-0.0551383044785933"
      ],
      "text/markdown": [
       "-0.0551383044785933"
      ],
      "text/plain": [
       "[1] -0.0551383"
      ]
     },
     "metadata": {},
     "output_type": "display_data"
    },
    {
     "data": {
      "image/png": "[encoded data removed]",
      "text/plain": [
       "plot without title"
      ]
     },
     "metadata": {},
     "output_type": "display_data"
    }
   ],
   "source": [
    "dicer_miRNA(1)"
   ]
  },
  {
   "cell_type": "code",
   "execution_count": 61,
   "metadata": {},
   "outputs": [
    {
     "data": {
      "text/html": [
       "-0.0551383044785933"
      ],
      "text/latex": [
       "-0.0551383044785933"
      ],
      "text/markdown": [
       "-0.0551383044785933"
      ],
      "text/plain": [
       "[1] -0.0551383"
      ]
     },
     "metadata": {},
     "output_type": "display_data"
    },
    {
     "data": {
      "image/png": "[encoded data removed]",
      "text/plain": [
       "plot without title"
      ]
     },
     "metadata": {},
     "output_type": "display_data"
    }
   ],
   "source": [
    "dicer_miRNA(2)"
   ]
  },
  {
   "cell_type": "code",
   "execution_count": 69,
   "metadata": {},
   "outputs": [
    {
     "data": {
      "text/html": [
       "-0.0551383044785933"
      ],
      "text/latex": [
       "-0.0551383044785933"
      ],
      "text/markdown": [
       "-0.0551383044785933"
      ],
      "text/plain": [
       "[1] -0.0551383"
      ]
     },
     "metadata": {},
     "output_type": "display_data"
    },
    {
     "data": {
      "image/png": "[encoded data removed]",
      "text/plain": [
       "plot without title"
      ]
     },
     "metadata": {},
     "output_type": "display_data"
    }
   ],
   "source": [
    "dicer_miRNA(1)"
   ]
  },
  {
   "cell_type": "code",
   "execution_count": 70,
   "metadata": {},
   "outputs": [
    {
     "data": {
      "text/html": [
       "0.00266669632929653"
      ],
      "text/latex": [
       "0.00266669632929653"
      ],
      "text/markdown": [
       "0.00266669632929653"
      ],
      "text/plain": [
       "[1] 0.002666696"
      ]
     },
     "metadata": {},
     "output_type": "display_data"
    },
    {
     "data": {
      "image/png": "[encoded data removed]",
      "text/plain": [
       "plot without title"
      ]
     },
     "metadata": {},
     "output_type": "display_data"
    }
   ],
   "source": [
    "dicer_miRNA(2)"
   ]
  },
  {
   "cell_type": "code",
   "execution_count": 71,
   "metadata": {},
   "outputs": [
    {
     "data": {
      "text/html": [
       "-0.003449527388882"
      ],
      "text/latex": [
       "-0.003449527388882"
      ],
      "text/markdown": [
       "-0.003449527388882"
      ],
      "text/plain": [
       "[1] -0.003449527"
      ]
     },
     "metadata": {},
     "output_type": "display_data"
    },
    {
     "data": {
      "image/png": "[encoded data removed]",
      "text/plain": [
       "plot without title"
      ]
     },
     "metadata": {},
     "output_type": "display_data"
    }
   ],
   "source": [
    "dicer_miRNA(3)"
   ]
  },
  {
   "cell_type": "code",
   "execution_count": 72,
   "metadata": {},
   "outputs": [
    {
     "name": "stderr",
     "output_type": "stream",
     "text": [
      "Warning message in cor(dicer_expression_val, mirna_expression_tpm):\n",
      "“the standard deviation is zero”Warning message in cor(dicer_expression_val, mirna_expression_tpm):\n",
      "“the standard deviation is zero”Warning message in cor(dicer_expression_val, mirna_expression_tpm):\n",
      "“the standard deviation is zero”Warning message in cor(dicer_expression_val, mirna_expression_tpm):\n",
      "“the standard deviation is zero”Warning message in cor(dicer_expression_val, mirna_expression_tpm):\n",
      "“the standard deviation is zero”Warning message in cor(dicer_expression_val, mirna_expression_tpm):\n",
      "“the standard deviation is zero”Warning message in cor(dicer_expression_val, mirna_expression_tpm):\n",
      "“the standard deviation is zero”Warning message in cor(dicer_expression_val, mirna_expression_tpm):\n",
      "“the standard deviation is zero”Warning message in cor(dicer_expression_val, mirna_expression_tpm):\n",
      "“the standard deviation is zero”Warning message in cor(dicer_expression_val, mirna_expression_tpm):\n",
      "“the standard deviation is zero”Warning message in cor(dicer_expression_val, mirna_expression_tpm):\n",
      "“the standard deviation is zero”Warning message in cor(dicer_expression_val, mirna_expression_tpm):\n",
      "“the standard deviation is zero”Warning message in cor(dicer_expression_val, mirna_expression_tpm):\n",
      "“the standard deviation is zero”Warning message in cor(dicer_expression_val, mirna_expression_tpm):\n",
      "“the standard deviation is zero”Warning message in cor(dicer_expression_val, mirna_expression_tpm):\n",
      "“the standard deviation is zero”Warning message in cor(dicer_expression_val, mirna_expression_tpm):\n",
      "“the standard deviation is zero”Warning message in cor(dicer_expression_val, mirna_expression_tpm):\n",
      "“the standard deviation is zero”Warning message in cor(dicer_expression_val, mirna_expression_tpm):\n",
      "“the standard deviation is zero”Warning message in cor(dicer_expression_val, mirna_expression_tpm):\n",
      "“the standard deviation is zero”Warning message in cor(dicer_expression_val, mirna_expression_tpm):\n",
      "“the standard deviation is zero”Warning message in cor(dicer_expression_val, mirna_expression_tpm):\n",
      "“the standard deviation is zero”Warning message in cor(dicer_expression_val, mirna_expression_tpm):\n",
      "“the standard deviation is zero”Warning message in cor(dicer_expression_val, mirna_expression_tpm):\n",
      "“the standard deviation is zero”Warning message in cor(dicer_expression_val, mirna_expression_tpm):\n",
      "“the standard deviation is zero”Warning message in cor(dicer_expression_val, mirna_expression_tpm):\n",
      "“the standard deviation is zero”Warning message in cor(dicer_expression_val, mirna_expression_tpm):\n",
      "“the standard deviation is zero”Warning message in cor(dicer_expression_val, mirna_expression_tpm):\n",
      "“the standard deviation is zero”Warning message in cor(dicer_expression_val, mirna_expression_tpm):\n",
      "“the standard deviation is zero”Warning message in cor(dicer_expression_val, mirna_expression_tpm):\n",
      "“the standard deviation is zero”Warning message in cor(dicer_expression_val, mirna_expression_tpm):\n",
      "“the standard deviation is zero”"
     ]
    }
   ],
   "source": [
    "cor_res <- as.numeric(sapply(1:1166, function(x) cor_dicer_miRNA(x)))"
   ]
  },
  {
   "cell_type": "code",
   "execution_count": 73,
   "metadata": {},
   "outputs": [
    {
     "data": {
      "image/png": "[encoded data removed]",
      "text/plain": [
       "Plot with title “Histogram of cor_res”"
      ]
     },
     "metadata": {},
     "output_type": "display_data"
    }
   ],
   "source": [
    "hist(cor_res)"
   ]
  },
  {
   "cell_type": "code",
   "execution_count": 79,
   "metadata": {},
   "outputs": [
    {
     "data": {
      "text/html": [
       "<ol class=list-inline>\n",
       "\t<li>698</li>\n",
       "\t<li>1032</li>\n",
       "</ol>\n"
      ],
      "text/latex": [
       "\\begin{enumerate*}\n",
       "\\item 698\n",
       "\\item 1032\n",
       "\\end{enumerate*}\n"
      ],
      "text/markdown": [
       "1. 698\n",
       "2. 1032\n",
       "\n",
       "\n"
      ],
      "text/plain": [
       "[1]  698 1032"
      ]
     },
     "metadata": {},
     "output_type": "display_data"
    }
   ],
   "source": [
    "idx <- which(cor_res > 0.5)\n",
    "idx"
   ]
  },
  {
   "cell_type": "code",
   "execution_count": 78,
   "metadata": {},
   "outputs": [
    {
     "data": {
      "text/html": [
       "<ol class=list-inline>\n",
       "\t<li>43</li>\n",
       "\t<li>47</li>\n",
       "\t<li>56</li>\n",
       "\t<li>59</li>\n",
       "\t<li>78</li>\n",
       "\t<li>87</li>\n",
       "\t<li>88</li>\n",
       "\t<li>103</li>\n",
       "\t<li>214</li>\n",
       "\t<li>234</li>\n",
       "\t<li>253</li>\n",
       "\t<li>262</li>\n",
       "\t<li>279</li>\n",
       "\t<li>294</li>\n",
       "\t<li>316</li>\n",
       "\t<li>336</li>\n",
       "\t<li>357</li>\n",
       "\t<li>363</li>\n",
       "\t<li>411</li>\n",
       "\t<li>416</li>\n",
       "\t<li>425</li>\n",
       "\t<li>429</li>\n",
       "\t<li>439</li>\n",
       "\t<li>477</li>\n",
       "\t<li>513</li>\n",
       "\t<li>520</li>\n",
       "\t<li>571</li>\n",
       "\t<li>620</li>\n",
       "\t<li>664</li>\n",
       "\t<li>698</li>\n",
       "\t<li>708</li>\n",
       "\t<li>781</li>\n",
       "\t<li>801</li>\n",
       "\t<li>835</li>\n",
       "\t<li>844</li>\n",
       "\t<li>867</li>\n",
       "\t<li>881</li>\n",
       "\t<li>882</li>\n",
       "\t<li>907</li>\n",
       "\t<li>912</li>\n",
       "\t<li>953</li>\n",
       "\t<li>962</li>\n",
       "\t<li>1032</li>\n",
       "\t<li>1041</li>\n",
       "\t<li>1166</li>\n",
       "</ol>\n"
      ],
      "text/latex": [
       "\\begin{enumerate*}\n",
       "\\item 43\n",
       "\\item 47\n",
       "\\item 56\n",
       "\\item 59\n",
       "\\item 78\n",
       "\\item 87\n",
       "\\item 88\n",
       "\\item 103\n",
       "\\item 214\n",
       "\\item 234\n",
       "\\item 253\n",
       "\\item 262\n",
       "\\item 279\n",
       "\\item 294\n",
       "\\item 316\n",
       "\\item 336\n",
       "\\item 357\n",
       "\\item 363\n",
       "\\item 411\n",
       "\\item 416\n",
       "\\item 425\n",
       "\\item 429\n",
       "\\item 439\n",
       "\\item 477\n",
       "\\item 513\n",
       "\\item 520\n",
       "\\item 571\n",
       "\\item 620\n",
       "\\item 664\n",
       "\\item 698\n",
       "\\item 708\n",
       "\\item 781\n",
       "\\item 801\n",
       "\\item 835\n",
       "\\item 844\n",
       "\\item 867\n",
       "\\item 881\n",
       "\\item 882\n",
       "\\item 907\n",
       "\\item 912\n",
       "\\item 953\n",
       "\\item 962\n",
       "\\item 1032\n",
       "\\item 1041\n",
       "\\item 1166\n",
       "\\end{enumerate*}\n"
      ],
      "text/markdown": [
       "1. 43\n",
       "2. 47\n",
       "3. 56\n",
       "4. 59\n",
       "5. 78\n",
       "6. 87\n",
       "7. 88\n",
       "8. 103\n",
       "9. 214\n",
       "10. 234\n",
       "11. 253\n",
       "12. 262\n",
       "13. 279\n",
       "14. 294\n",
       "15. 316\n",
       "16. 336\n",
       "17. 357\n",
       "18. 363\n",
       "19. 411\n",
       "20. 416\n",
       "21. 425\n",
       "22. 429\n",
       "23. 439\n",
       "24. 477\n",
       "25. 513\n",
       "26. 520\n",
       "27. 571\n",
       "28. 620\n",
       "29. 664\n",
       "30. 698\n",
       "31. 708\n",
       "32. 781\n",
       "33. 801\n",
       "34. 835\n",
       "35. 844\n",
       "36. 867\n",
       "37. 881\n",
       "38. 882\n",
       "39. 907\n",
       "40. 912\n",
       "41. 953\n",
       "42. 962\n",
       "43. 1032\n",
       "44. 1041\n",
       "45. 1166\n",
       "\n",
       "\n"
      ],
      "text/plain": [
       " [1]   43   47   56   59   78   87   88  103  214  234  253  262  279  294  316\n",
       "[16]  336  357  363  411  416  425  429  439  477  513  520  571  620  664  698\n",
       "[31]  708  781  801  835  844  867  881  882  907  912  953  962 1032 1041 1166"
      ]
     },
     "metadata": {},
     "output_type": "display_data"
    }
   ],
   "source": [
    "idx <- which(cor_res > 0.2)\n",
    "idx"
   ]
  },
  {
   "cell_type": "code",
   "execution_count": 77,
   "metadata": {},
   "outputs": [
    {
     "data": {
      "text/html": [
       "<ol class=list-inline>\n",
       "\t<li>43</li>\n",
       "\t<li>47</li>\n",
       "\t<li>56</li>\n",
       "\t<li>59</li>\n",
       "\t<li>78</li>\n",
       "\t<li>87</li>\n",
       "\t<li>88</li>\n",
       "\t<li>103</li>\n",
       "\t<li>214</li>\n",
       "\t<li>234</li>\n",
       "\t<li>253</li>\n",
       "\t<li>262</li>\n",
       "\t<li>279</li>\n",
       "\t<li>294</li>\n",
       "\t<li>316</li>\n",
       "\t<li>336</li>\n",
       "\t<li>357</li>\n",
       "\t<li>363</li>\n",
       "\t<li>411</li>\n",
       "\t<li>416</li>\n",
       "\t<li>425</li>\n",
       "\t<li>429</li>\n",
       "\t<li>439</li>\n",
       "\t<li>477</li>\n",
       "\t<li>513</li>\n",
       "\t<li>520</li>\n",
       "\t<li>571</li>\n",
       "\t<li>620</li>\n",
       "\t<li>664</li>\n",
       "\t<li>698</li>\n",
       "\t<li>708</li>\n",
       "\t<li>781</li>\n",
       "\t<li>801</li>\n",
       "\t<li>835</li>\n",
       "\t<li>844</li>\n",
       "\t<li>867</li>\n",
       "\t<li>881</li>\n",
       "\t<li>882</li>\n",
       "\t<li>907</li>\n",
       "\t<li>912</li>\n",
       "\t<li>953</li>\n",
       "\t<li>962</li>\n",
       "\t<li>1032</li>\n",
       "\t<li>1041</li>\n",
       "\t<li>1166</li>\n",
       "</ol>\n"
      ],
      "text/latex": [
       "\\begin{enumerate*}\n",
       "\\item 43\n",
       "\\item 47\n",
       "\\item 56\n",
       "\\item 59\n",
       "\\item 78\n",
       "\\item 87\n",
       "\\item 88\n",
       "\\item 103\n",
       "\\item 214\n",
       "\\item 234\n",
       "\\item 253\n",
       "\\item 262\n",
       "\\item 279\n",
       "\\item 294\n",
       "\\item 316\n",
       "\\item 336\n",
       "\\item 357\n",
       "\\item 363\n",
       "\\item 411\n",
       "\\item 416\n",
       "\\item 425\n",
       "\\item 429\n",
       "\\item 439\n",
       "\\item 477\n",
       "\\item 513\n",
       "\\item 520\n",
       "\\item 571\n",
       "\\item 620\n",
       "\\item 664\n",
       "\\item 698\n",
       "\\item 708\n",
       "\\item 781\n",
       "\\item 801\n",
       "\\item 835\n",
       "\\item 844\n",
       "\\item 867\n",
       "\\item 881\n",
       "\\item 882\n",
       "\\item 907\n",
       "\\item 912\n",
       "\\item 953\n",
       "\\item 962\n",
       "\\item 1032\n",
       "\\item 1041\n",
       "\\item 1166\n",
       "\\end{enumerate*}\n"
      ],
      "text/markdown": [
       "1. 43\n",
       "2. 47\n",
       "3. 56\n",
       "4. 59\n",
       "5. 78\n",
       "6. 87\n",
       "7. 88\n",
       "8. 103\n",
       "9. 214\n",
       "10. 234\n",
       "11. 253\n",
       "12. 262\n",
       "13. 279\n",
       "14. 294\n",
       "15. 316\n",
       "16. 336\n",
       "17. 357\n",
       "18. 363\n",
       "19. 411\n",
       "20. 416\n",
       "21. 425\n",
       "22. 429\n",
       "23. 439\n",
       "24. 477\n",
       "25. 513\n",
       "26. 520\n",
       "27. 571\n",
       "28. 620\n",
       "29. 664\n",
       "30. 698\n",
       "31. 708\n",
       "32. 781\n",
       "33. 801\n",
       "34. 835\n",
       "35. 844\n",
       "36. 867\n",
       "37. 881\n",
       "38. 882\n",
       "39. 907\n",
       "40. 912\n",
       "41. 953\n",
       "42. 962\n",
       "43. 1032\n",
       "44. 1041\n",
       "45. 1166\n",
       "\n",
       "\n"
      ],
      "text/plain": [
       " [1]   43   47   56   59   78   87   88  103  214  234  253  262  279  294  316\n",
       "[16]  336  357  363  411  416  425  429  439  477  513  520  571  620  664  698\n",
       "[31]  708  781  801  835  844  867  881  882  907  912  953  962 1032 1041 1166"
      ]
     },
     "metadata": {},
     "output_type": "display_data"
    }
   ],
   "source": [
    "idx"
   ]
  },
  {
   "cell_type": "code",
   "execution_count": 80,
   "metadata": {},
   "outputs": [
    {
     "data": {
      "text/html": [
       "0.519211197781053"
      ],
      "text/latex": [
       "0.519211197781053"
      ],
      "text/markdown": [
       "0.519211197781053"
      ],
      "text/plain": [
       "[1] 0.5192112"
      ]
     },
     "metadata": {},
     "output_type": "display_data"
    },
    {
     "data": {
      "image/png": "[encoded data removed]",
      "text/plain": [
       "plot without title"
      ]
     },
     "metadata": {},
     "output_type": "display_data"
    }
   ],
   "source": [
    "dicer_miRNA(698)"
   ]
  },
  {
   "cell_type": "code",
   "execution_count": null,
   "metadata": {},
   "outputs": [],
   "source": []
  },
  {
   "cell_type": "markdown",
   "metadata": {},
   "source": [
    "# normalized expression "
   ]
  },
  {
   "cell_type": "code",
   "execution_count": 1,
   "metadata": {},
   "outputs": [],
   "source": [
    "library(data.table)\n",
    "sample_df <- fread(\"/ysm-gpfs/pi/zhao-data/zy92/GTEx_V8/GTEx_Analysis_v8_eQTL_expression_matrices/Adrenal_Gland.v8.normalized_expression.bed\")"
   ]
  },
  {
   "cell_type": "code",
   "execution_count": null,
   "metadata": {},
   "outputs": [],
   "source": [
    "dim(sample_df)"
   ]
  },
  {
   "cell_type": "code",
   "execution_count": 1,
   "metadata": {},
   "outputs": [
    {
     "data": {
      "text/html": [
       "<style>\n",
       ".list-inline {list-style: none; margin:0; padding: 0}\n",
       ".list-inline>li {display: inline-block}\n",
       ".list-inline>li:not(:last-child)::after {content: \"\\00b7\"; padding: 0 .5ex}\n",
       "</style>\n",
       "<ol class=list-inline><li>'gene_info_target'</li><li>'expression_list_target'</li><li>'tissue_vec_target'</li></ol>\n"
      ],
      "text/latex": [
       "\\begin{enumerate*}\n",
       "\\item 'gene\\_info\\_target'\n",
       "\\item 'expression\\_list\\_target'\n",
       "\\item 'tissue\\_vec\\_target'\n",
       "\\end{enumerate*}\n"
      ],
      "text/markdown": [
       "1. 'gene_info_target'\n",
       "2. 'expression_list_target'\n",
       "3. 'tissue_vec_target'\n",
       "\n",
       "\n"
      ],
      "text/plain": [
       "[1] \"gene_info_target\"       \"expression_list_target\" \"tissue_vec_target\"     "
      ]
     },
     "metadata": {},
     "output_type": "display_data"
    }
   ],
   "source": [
    "ln <- load(\"/ysm-gpfs/pi/zhao/zy92/projects/utmost_update/GTEX/raw_expression.RData\")\n",
    "ln"
   ]
  },
  {
   "cell_type": "code",
   "execution_count": 1,
   "metadata": {},
   "outputs": [],
   "source": [
    "library(data.table)\n",
    "exp_df <- fread(\"/ysm-gpfs/pi/zhao-data/zy92/GTEx_V8/GTEx_Analysis_2017-06-05_v8_RNASeQCv1.1.9_gene_tpm.gct\")"
   ]
  },
  {
   "cell_type": "code",
   "execution_count": 2,
   "metadata": {},
   "outputs": [
    {
     "data": {
      "text/html": [
       "<style>\n",
       ".list-inline {list-style: none; margin:0; padding: 0}\n",
       ".list-inline>li {display: inline-block}\n",
       ".list-inline>li:not(:last-child)::after {content: \"\\00b7\"; padding: 0 .5ex}\n",
       "</style>\n",
       "<ol class=list-inline><li>56200</li><li>17384</li></ol>\n"
      ],
      "text/latex": [
       "\\begin{enumerate*}\n",
       "\\item 56200\n",
       "\\item 17384\n",
       "\\end{enumerate*}\n"
      ],
      "text/markdown": [
       "1. 56200\n",
       "2. 17384\n",
       "\n",
       "\n"
      ],
      "text/plain": [
       "[1] 56200 17384"
      ]
     },
     "metadata": {},
     "output_type": "display_data"
    }
   ],
   "source": [
    "dim(exp_df)"
   ]
  },
  {
   "cell_type": "code",
   "execution_count": 3,
   "metadata": {},
   "outputs": [
    {
     "data": {
      "text/html": [
       "<table>\n",
       "<caption>A data.table: 10 × 10</caption>\n",
       "<thead>\n",
       "\t<tr><th scope=col>Name</th><th scope=col>Description</th><th scope=col>GTEX-1117F-0226-SM-5GZZ7</th><th scope=col>GTEX-1117F-0426-SM-5EGHI</th><th scope=col>GTEX-1117F-0526-SM-5EGHJ</th><th scope=col>GTEX-1117F-0626-SM-5N9CS</th><th scope=col>GTEX-1117F-0726-SM-5GIEN</th><th scope=col>GTEX-1117F-1326-SM-5EGHH</th><th scope=col>GTEX-1117F-2426-SM-5EGGH</th><th scope=col>GTEX-1117F-2526-SM-5GZY6</th></tr>\n",
       "\t<tr><th scope=col>&lt;chr&gt;</th><th scope=col>&lt;chr&gt;</th><th scope=col>&lt;dbl&gt;</th><th scope=col>&lt;dbl&gt;</th><th scope=col>&lt;dbl&gt;</th><th scope=col>&lt;dbl&gt;</th><th scope=col>&lt;dbl&gt;</th><th scope=col>&lt;dbl&gt;</th><th scope=col>&lt;dbl&gt;</th><th scope=col>&lt;dbl&gt;</th></tr>\n",
       "</thead>\n",
       "<tbody>\n",
       "\t<tr><td>ENSG00000223972.5</td><td>DDX11L1     </td><td>0.00000</td><td>0.00000</td><td>0.00000</td><td> 0.00000</td><td>0.00000</td><td>0.00000</td><td> 0.00000</td><td> 0.00000</td></tr>\n",
       "\t<tr><td>ENSG00000227232.5</td><td>WASH7P      </td><td>8.76400</td><td>3.86100</td><td>7.34900</td><td>11.07000</td><td>3.30600</td><td>5.38900</td><td>11.99000</td><td>16.95000</td></tr>\n",
       "\t<tr><td>ENSG00000278267.1</td><td>MIR6859-1   </td><td>0.00000</td><td>0.00000</td><td>1.00400</td><td> 0.00000</td><td>0.00000</td><td>0.00000</td><td> 0.00000</td><td> 0.00000</td></tr>\n",
       "\t<tr><td>ENSG00000243485.5</td><td>MIR1302-2HG </td><td>0.07187</td><td>0.00000</td><td>0.00000</td><td> 0.06761</td><td>0.00000</td><td>0.00000</td><td> 0.00000</td><td> 0.00000</td></tr>\n",
       "\t<tr><td>ENSG00000237613.2</td><td>FAM138A     </td><td>0.00000</td><td>0.00000</td><td>0.00000</td><td> 0.00000</td><td>0.00000</td><td>0.00000</td><td> 0.00000</td><td> 0.03904</td></tr>\n",
       "\t<tr><td>ENSG00000268020.3</td><td>OR4G4P      </td><td>0.00000</td><td>0.05600</td><td>0.00000</td><td> 0.00000</td><td>0.00000</td><td>0.06130</td><td> 0.09523</td><td> 0.00000</td></tr>\n",
       "\t<tr><td>ENSG00000240361.1</td><td>OR4G11P     </td><td>0.06621</td><td>0.05004</td><td>0.00000</td><td> 0.00000</td><td>0.00000</td><td>0.00000</td><td> 0.00000</td><td> 0.00000</td></tr>\n",
       "\t<tr><td>ENSG00000186092.4</td><td>OR4F5       </td><td>0.00000</td><td>0.10250</td><td>0.07434</td><td> 0.00000</td><td>0.04233</td><td>0.05609</td><td> 0.17430</td><td> 0.00000</td></tr>\n",
       "\t<tr><td>ENSG00000238009.6</td><td>RP11-34P13.7</td><td>0.00000</td><td>0.04574</td><td>0.09953</td><td> 0.00000</td><td>0.07556</td><td>0.05006</td><td> 0.03889</td><td> 0.04627</td></tr>\n",
       "\t<tr><td>ENSG00000233750.3</td><td>CICP27      </td><td>0.03595</td><td>0.01359</td><td>0.00000</td><td> 0.00000</td><td>0.00000</td><td>0.00000</td><td> 0.00000</td><td> 0.02749</td></tr>\n",
       "</tbody>\n",
       "</table>\n"
      ],
      "text/latex": [
       "A data.table: 10 × 10\n",
       "\\begin{tabular}{llllllllll}\n",
       " Name & Description & GTEX-1117F-0226-SM-5GZZ7 & GTEX-1117F-0426-SM-5EGHI & GTEX-1117F-0526-SM-5EGHJ & GTEX-1117F-0626-SM-5N9CS & GTEX-1117F-0726-SM-5GIEN & GTEX-1117F-1326-SM-5EGHH & GTEX-1117F-2426-SM-5EGGH & GTEX-1117F-2526-SM-5GZY6\\\\\n",
       " <chr> & <chr> & <dbl> & <dbl> & <dbl> & <dbl> & <dbl> & <dbl> & <dbl> & <dbl>\\\\\n",
       "\\hline\n",
       "\t ENSG00000223972.5 & DDX11L1      & 0.00000 & 0.00000 & 0.00000 &  0.00000 & 0.00000 & 0.00000 &  0.00000 &  0.00000\\\\\n",
       "\t ENSG00000227232.5 & WASH7P       & 8.76400 & 3.86100 & 7.34900 & 11.07000 & 3.30600 & 5.38900 & 11.99000 & 16.95000\\\\\n",
       "\t ENSG00000278267.1 & MIR6859-1    & 0.00000 & 0.00000 & 1.00400 &  0.00000 & 0.00000 & 0.00000 &  0.00000 &  0.00000\\\\\n",
       "\t ENSG00000243485.5 & MIR1302-2HG  & 0.07187 & 0.00000 & 0.00000 &  0.06761 & 0.00000 & 0.00000 &  0.00000 &  0.00000\\\\\n",
       "\t ENSG00000237613.2 & FAM138A      & 0.00000 & 0.00000 & 0.00000 &  0.00000 & 0.00000 & 0.00000 &  0.00000 &  0.03904\\\\\n",
       "\t ENSG00000268020.3 & OR4G4P       & 0.00000 & 0.05600 & 0.00000 &  0.00000 & 0.00000 & 0.06130 &  0.09523 &  0.00000\\\\\n",
       "\t ENSG00000240361.1 & OR4G11P      & 0.06621 & 0.05004 & 0.00000 &  0.00000 & 0.00000 & 0.00000 &  0.00000 &  0.00000\\\\\n",
       "\t ENSG00000186092.4 & OR4F5        & 0.00000 & 0.10250 & 0.07434 &  0.00000 & 0.04233 & 0.05609 &  0.17430 &  0.00000\\\\\n",
       "\t ENSG00000238009.6 & RP11-34P13.7 & 0.00000 & 0.04574 & 0.09953 &  0.00000 & 0.07556 & 0.05006 &  0.03889 &  0.04627\\\\\n",
       "\t ENSG00000233750.3 & CICP27       & 0.03595 & 0.01359 & 0.00000 &  0.00000 & 0.00000 & 0.00000 &  0.00000 &  0.02749\\\\\n",
       "\\end{tabular}\n"
      ],
      "text/markdown": [
       "\n",
       "A data.table: 10 × 10\n",
       "\n",
       "| Name &lt;chr&gt; | Description &lt;chr&gt; | GTEX-1117F-0226-SM-5GZZ7 &lt;dbl&gt; | GTEX-1117F-0426-SM-5EGHI &lt;dbl&gt; | GTEX-1117F-0526-SM-5EGHJ &lt;dbl&gt; | GTEX-1117F-0626-SM-5N9CS &lt;dbl&gt; | GTEX-1117F-0726-SM-5GIEN &lt;dbl&gt; | GTEX-1117F-1326-SM-5EGHH &lt;dbl&gt; | GTEX-1117F-2426-SM-5EGGH &lt;dbl&gt; | GTEX-1117F-2526-SM-5GZY6 &lt;dbl&gt; |\n",
       "|---|---|---|---|---|---|---|---|---|---|\n",
       "| ENSG00000223972.5 | DDX11L1      | 0.00000 | 0.00000 | 0.00000 |  0.00000 | 0.00000 | 0.00000 |  0.00000 |  0.00000 |\n",
       "| ENSG00000227232.5 | WASH7P       | 8.76400 | 3.86100 | 7.34900 | 11.07000 | 3.30600 | 5.38900 | 11.99000 | 16.95000 |\n",
       "| ENSG00000278267.1 | MIR6859-1    | 0.00000 | 0.00000 | 1.00400 |  0.00000 | 0.00000 | 0.00000 |  0.00000 |  0.00000 |\n",
       "| ENSG00000243485.5 | MIR1302-2HG  | 0.07187 | 0.00000 | 0.00000 |  0.06761 | 0.00000 | 0.00000 |  0.00000 |  0.00000 |\n",
       "| ENSG00000237613.2 | FAM138A      | 0.00000 | 0.00000 | 0.00000 |  0.00000 | 0.00000 | 0.00000 |  0.00000 |  0.03904 |\n",
       "| ENSG00000268020.3 | OR4G4P       | 0.00000 | 0.05600 | 0.00000 |  0.00000 | 0.00000 | 0.06130 |  0.09523 |  0.00000 |\n",
       "| ENSG00000240361.1 | OR4G11P      | 0.06621 | 0.05004 | 0.00000 |  0.00000 | 0.00000 | 0.00000 |  0.00000 |  0.00000 |\n",
       "| ENSG00000186092.4 | OR4F5        | 0.00000 | 0.10250 | 0.07434 |  0.00000 | 0.04233 | 0.05609 |  0.17430 |  0.00000 |\n",
       "| ENSG00000238009.6 | RP11-34P13.7 | 0.00000 | 0.04574 | 0.09953 |  0.00000 | 0.07556 | 0.05006 |  0.03889 |  0.04627 |\n",
       "| ENSG00000233750.3 | CICP27       | 0.03595 | 0.01359 | 0.00000 |  0.00000 | 0.00000 | 0.00000 |  0.00000 |  0.02749 |\n",
       "\n"
      ],
      "text/plain": [
       "   Name              Description  GTEX-1117F-0226-SM-5GZZ7\n",
       "1  ENSG00000223972.5 DDX11L1      0.00000                 \n",
       "2  ENSG00000227232.5 WASH7P       8.76400                 \n",
       "3  ENSG00000278267.1 MIR6859-1    0.00000                 \n",
       "4  ENSG00000243485.5 MIR1302-2HG  0.07187                 \n",
       "5  ENSG00000237613.2 FAM138A      0.00000                 \n",
       "6  ENSG00000268020.3 OR4G4P       0.00000                 \n",
       "7  ENSG00000240361.1 OR4G11P      0.06621                 \n",
       "8  ENSG00000186092.4 OR4F5        0.00000                 \n",
       "9  ENSG00000238009.6 RP11-34P13.7 0.00000                 \n",
       "10 ENSG00000233750.3 CICP27       0.03595                 \n",
       "   GTEX-1117F-0426-SM-5EGHI GTEX-1117F-0526-SM-5EGHJ GTEX-1117F-0626-SM-5N9CS\n",
       "1  0.00000                  0.00000                   0.00000                \n",
       "2  3.86100                  7.34900                  11.07000                \n",
       "3  0.00000                  1.00400                   0.00000                \n",
       "4  0.00000                  0.00000                   0.06761                \n",
       "5  0.00000                  0.00000                   0.00000                \n",
       "6  0.05600                  0.00000                   0.00000                \n",
       "7  0.05004                  0.00000                   0.00000                \n",
       "8  0.10250                  0.07434                   0.00000                \n",
       "9  0.04574                  0.09953                   0.00000                \n",
       "10 0.01359                  0.00000                   0.00000                \n",
       "   GTEX-1117F-0726-SM-5GIEN GTEX-1117F-1326-SM-5EGHH GTEX-1117F-2426-SM-5EGGH\n",
       "1  0.00000                  0.00000                   0.00000                \n",
       "2  3.30600                  5.38900                  11.99000                \n",
       "3  0.00000                  0.00000                   0.00000                \n",
       "4  0.00000                  0.00000                   0.00000                \n",
       "5  0.00000                  0.00000                   0.00000                \n",
       "6  0.00000                  0.06130                   0.09523                \n",
       "7  0.00000                  0.00000                   0.00000                \n",
       "8  0.04233                  0.05609                   0.17430                \n",
       "9  0.07556                  0.05006                   0.03889                \n",
       "10 0.00000                  0.00000                   0.00000                \n",
       "   GTEX-1117F-2526-SM-5GZY6\n",
       "1   0.00000                \n",
       "2  16.95000                \n",
       "3   0.00000                \n",
       "4   0.00000                \n",
       "5   0.03904                \n",
       "6   0.00000                \n",
       "7   0.00000                \n",
       "8   0.00000                \n",
       "9   0.04627                \n",
       "10  0.02749                "
      ]
     },
     "metadata": {},
     "output_type": "display_data"
    }
   ],
   "source": [
    "exp_df[1:10, 1:10]"
   ]
  },
  {
   "cell_type": "code",
   "execution_count": 4,
   "metadata": {},
   "outputs": [
    {
     "data": {
      "text/html": [
       "<style>\n",
       ".list-inline {list-style: none; margin:0; padding: 0}\n",
       ".list-inline>li {display: inline-block}\n",
       ".list-inline>li:not(:last-child)::after {content: \"\\00b7\"; padding: 0 .5ex}\n",
       "</style>\n",
       "<ol class=list-inline><li>'Adipose_Subcutaneous.v8.covariates.txt'</li><li>'Adipose_Visceral_Omentum.v8.covariates.txt'</li><li>'Adrenal_Gland.v8.covariates.txt'</li><li>'Artery_Aorta.v8.covariates.txt'</li><li>'Artery_Coronary.v8.covariates.txt'</li><li>'Artery_Tibial.v8.covariates.txt'</li></ol>\n"
      ],
      "text/latex": [
       "\\begin{enumerate*}\n",
       "\\item 'Adipose\\_Subcutaneous.v8.covariates.txt'\n",
       "\\item 'Adipose\\_Visceral\\_Omentum.v8.covariates.txt'\n",
       "\\item 'Adrenal\\_Gland.v8.covariates.txt'\n",
       "\\item 'Artery\\_Aorta.v8.covariates.txt'\n",
       "\\item 'Artery\\_Coronary.v8.covariates.txt'\n",
       "\\item 'Artery\\_Tibial.v8.covariates.txt'\n",
       "\\end{enumerate*}\n"
      ],
      "text/markdown": [
       "1. 'Adipose_Subcutaneous.v8.covariates.txt'\n",
       "2. 'Adipose_Visceral_Omentum.v8.covariates.txt'\n",
       "3. 'Adrenal_Gland.v8.covariates.txt'\n",
       "4. 'Artery_Aorta.v8.covariates.txt'\n",
       "5. 'Artery_Coronary.v8.covariates.txt'\n",
       "6. 'Artery_Tibial.v8.covariates.txt'\n",
       "\n",
       "\n"
      ],
      "text/plain": [
       "[1] \"Adipose_Subcutaneous.v8.covariates.txt\"    \n",
       "[2] \"Adipose_Visceral_Omentum.v8.covariates.txt\"\n",
       "[3] \"Adrenal_Gland.v8.covariates.txt\"           \n",
       "[4] \"Artery_Aorta.v8.covariates.txt\"            \n",
       "[5] \"Artery_Coronary.v8.covariates.txt\"         \n",
       "[6] \"Artery_Tibial.v8.covariates.txt\"           "
      ]
     },
     "metadata": {},
     "output_type": "display_data"
    }
   ],
   "source": [
    "file_vec <- list.files(\"/ysm-gpfs/pi/zhao-data/zy92/GTEx_V8/GTEx_Analysis_v8_eQTL_covariates/\")\n",
    "head(file_vec)"
   ]
  },
  {
   "cell_type": "code",
   "execution_count": 5,
   "metadata": {},
   "outputs": [
    {
     "data": {
      "text/html": [
       "<style>\n",
       ".list-inline {list-style: none; margin:0; padding: 0}\n",
       ".list-inline>li {display: inline-block}\n",
       ".list-inline>li:not(:last-child)::after {content: \"\\00b7\"; padding: 0 .5ex}\n",
       "</style>\n",
       "<ol class=list-inline><li>'Adipose_Subcutaneous'</li><li>'Adipose_Visceral_Omentum'</li><li>'Adrenal_Gland'</li><li>'Artery_Aorta'</li><li>'Artery_Coronary'</li><li>'Artery_Tibial'</li><li>'Brain_Amygdala'</li><li>'Brain_Anterior_cingulate_cortex_BA24'</li><li>'Brain_Caudate_basal_ganglia'</li><li>'Brain_Cerebellar_Hemisphere'</li><li>'Brain_Cerebellum'</li><li>'Brain_Cortex'</li><li>'Brain_Frontal_Cortex_BA9'</li><li>'Brain_Hippocampus'</li><li>'Brain_Hypothalamus'</li><li>'Brain_Nucleus_accumbens_basal_ganglia'</li><li>'Brain_Putamen_basal_ganglia'</li><li>'Brain_Spinal_cord_cervical_c-1'</li><li>'Brain_Substantia_nigra'</li><li>'Breast_Mammary_Tissue'</li><li>'Cells_Cultured_fibroblasts'</li><li>'Cells_EBV-transformed_lymphocytes'</li><li>'Colon_Sigmoid'</li><li>'Colon_Transverse'</li><li>'Esophagus_Gastroesophageal_Junction'</li><li>'Esophagus_Mucosa'</li><li>'Esophagus_Muscularis'</li><li>'Heart_Atrial_Appendage'</li><li>'Heart_Left_Ventricle'</li><li>'Kidney_Cortex'</li><li>'Liver'</li><li>'Lung'</li><li>'Minor_Salivary_Gland'</li><li>'Muscle_Skeletal'</li><li>'Nerve_Tibial'</li><li>'Ovary'</li><li>'Pancreas'</li><li>'Pituitary'</li><li>'Prostate'</li><li>'Skin_Not_Sun_Exposed_Suprapubic'</li><li>'Skin_Sun_Exposed_Lower_leg'</li><li>'Small_Intestine_Terminal_Ileum'</li><li>'Spleen'</li><li>'Stomach'</li><li>'Testis'</li><li>'Thyroid'</li><li>'Uterus'</li><li>'Vagina'</li><li>'Whole_Blood'</li></ol>\n"
      ],
      "text/latex": [
       "\\begin{enumerate*}\n",
       "\\item 'Adipose\\_Subcutaneous'\n",
       "\\item 'Adipose\\_Visceral\\_Omentum'\n",
       "\\item 'Adrenal\\_Gland'\n",
       "\\item 'Artery\\_Aorta'\n",
       "\\item 'Artery\\_Coronary'\n",
       "\\item 'Artery\\_Tibial'\n",
       "\\item 'Brain\\_Amygdala'\n",
       "\\item 'Brain\\_Anterior\\_cingulate\\_cortex\\_BA24'\n",
       "\\item 'Brain\\_Caudate\\_basal\\_ganglia'\n",
       "\\item 'Brain\\_Cerebellar\\_Hemisphere'\n",
       "\\item 'Brain\\_Cerebellum'\n",
       "\\item 'Brain\\_Cortex'\n",
       "\\item 'Brain\\_Frontal\\_Cortex\\_BA9'\n",
       "\\item 'Brain\\_Hippocampus'\n",
       "\\item 'Brain\\_Hypothalamus'\n",
       "\\item 'Brain\\_Nucleus\\_accumbens\\_basal\\_ganglia'\n",
       "\\item 'Brain\\_Putamen\\_basal\\_ganglia'\n",
       "\\item 'Brain\\_Spinal\\_cord\\_cervical\\_c-1'\n",
       "\\item 'Brain\\_Substantia\\_nigra'\n",
       "\\item 'Breast\\_Mammary\\_Tissue'\n",
       "\\item 'Cells\\_Cultured\\_fibroblasts'\n",
       "\\item 'Cells\\_EBV-transformed\\_lymphocytes'\n",
       "\\item 'Colon\\_Sigmoid'\n",
       "\\item 'Colon\\_Transverse'\n",
       "\\item 'Esophagus\\_Gastroesophageal\\_Junction'\n",
       "\\item 'Esophagus\\_Mucosa'\n",
       "\\item 'Esophagus\\_Muscularis'\n",
       "\\item 'Heart\\_Atrial\\_Appendage'\n",
       "\\item 'Heart\\_Left\\_Ventricle'\n",
       "\\item 'Kidney\\_Cortex'\n",
       "\\item 'Liver'\n",
       "\\item 'Lung'\n",
       "\\item 'Minor\\_Salivary\\_Gland'\n",
       "\\item 'Muscle\\_Skeletal'\n",
       "\\item 'Nerve\\_Tibial'\n",
       "\\item 'Ovary'\n",
       "\\item 'Pancreas'\n",
       "\\item 'Pituitary'\n",
       "\\item 'Prostate'\n",
       "\\item 'Skin\\_Not\\_Sun\\_Exposed\\_Suprapubic'\n",
       "\\item 'Skin\\_Sun\\_Exposed\\_Lower\\_leg'\n",
       "\\item 'Small\\_Intestine\\_Terminal\\_Ileum'\n",
       "\\item 'Spleen'\n",
       "\\item 'Stomach'\n",
       "\\item 'Testis'\n",
       "\\item 'Thyroid'\n",
       "\\item 'Uterus'\n",
       "\\item 'Vagina'\n",
       "\\item 'Whole\\_Blood'\n",
       "\\end{enumerate*}\n"
      ],
      "text/markdown": [
       "1. 'Adipose_Subcutaneous'\n",
       "2. 'Adipose_Visceral_Omentum'\n",
       "3. 'Adrenal_Gland'\n",
       "4. 'Artery_Aorta'\n",
       "5. 'Artery_Coronary'\n",
       "6. 'Artery_Tibial'\n",
       "7. 'Brain_Amygdala'\n",
       "8. 'Brain_Anterior_cingulate_cortex_BA24'\n",
       "9. 'Brain_Caudate_basal_ganglia'\n",
       "10. 'Brain_Cerebellar_Hemisphere'\n",
       "11. 'Brain_Cerebellum'\n",
       "12. 'Brain_Cortex'\n",
       "13. 'Brain_Frontal_Cortex_BA9'\n",
       "14. 'Brain_Hippocampus'\n",
       "15. 'Brain_Hypothalamus'\n",
       "16. 'Brain_Nucleus_accumbens_basal_ganglia'\n",
       "17. 'Brain_Putamen_basal_ganglia'\n",
       "18. 'Brain_Spinal_cord_cervical_c-1'\n",
       "19. 'Brain_Substantia_nigra'\n",
       "20. 'Breast_Mammary_Tissue'\n",
       "21. 'Cells_Cultured_fibroblasts'\n",
       "22. 'Cells_EBV-transformed_lymphocytes'\n",
       "23. 'Colon_Sigmoid'\n",
       "24. 'Colon_Transverse'\n",
       "25. 'Esophagus_Gastroesophageal_Junction'\n",
       "26. 'Esophagus_Mucosa'\n",
       "27. 'Esophagus_Muscularis'\n",
       "28. 'Heart_Atrial_Appendage'\n",
       "29. 'Heart_Left_Ventricle'\n",
       "30. 'Kidney_Cortex'\n",
       "31. 'Liver'\n",
       "32. 'Lung'\n",
       "33. 'Minor_Salivary_Gland'\n",
       "34. 'Muscle_Skeletal'\n",
       "35. 'Nerve_Tibial'\n",
       "36. 'Ovary'\n",
       "37. 'Pancreas'\n",
       "38. 'Pituitary'\n",
       "39. 'Prostate'\n",
       "40. 'Skin_Not_Sun_Exposed_Suprapubic'\n",
       "41. 'Skin_Sun_Exposed_Lower_leg'\n",
       "42. 'Small_Intestine_Terminal_Ileum'\n",
       "43. 'Spleen'\n",
       "44. 'Stomach'\n",
       "45. 'Testis'\n",
       "46. 'Thyroid'\n",
       "47. 'Uterus'\n",
       "48. 'Vagina'\n",
       "49. 'Whole_Blood'\n",
       "\n",
       "\n"
      ],
      "text/plain": [
       " [1] \"Adipose_Subcutaneous\"                 \n",
       " [2] \"Adipose_Visceral_Omentum\"             \n",
       " [3] \"Adrenal_Gland\"                        \n",
       " [4] \"Artery_Aorta\"                         \n",
       " [5] \"Artery_Coronary\"                      \n",
       " [6] \"Artery_Tibial\"                        \n",
       " [7] \"Brain_Amygdala\"                       \n",
       " [8] \"Brain_Anterior_cingulate_cortex_BA24\" \n",
       " [9] \"Brain_Caudate_basal_ganglia\"          \n",
       "[10] \"Brain_Cerebellar_Hemisphere\"          \n",
       "[11] \"Brain_Cerebellum\"                     \n",
       "[12] \"Brain_Cortex\"                         \n",
       "[13] \"Brain_Frontal_Cortex_BA9\"             \n",
       "[14] \"Brain_Hippocampus\"                    \n",
       "[15] \"Brain_Hypothalamus\"                   \n",
       "[16] \"Brain_Nucleus_accumbens_basal_ganglia\"\n",
       "[17] \"Brain_Putamen_basal_ganglia\"          \n",
       "[18] \"Brain_Spinal_cord_cervical_c-1\"       \n",
       "[19] \"Brain_Substantia_nigra\"               \n",
       "[20] \"Breast_Mammary_Tissue\"                \n",
       "[21] \"Cells_Cultured_fibroblasts\"           \n",
       "[22] \"Cells_EBV-transformed_lymphocytes\"    \n",
       "[23] \"Colon_Sigmoid\"                        \n",
       "[24] \"Colon_Transverse\"                     \n",
       "[25] \"Esophagus_Gastroesophageal_Junction\"  \n",
       "[26] \"Esophagus_Mucosa\"                     \n",
       "[27] \"Esophagus_Muscularis\"                 \n",
       "[28] \"Heart_Atrial_Appendage\"               \n",
       "[29] \"Heart_Left_Ventricle\"                 \n",
       "[30] \"Kidney_Cortex\"                        \n",
       "[31] \"Liver\"                                \n",
       "[32] \"Lung\"                                 \n",
       "[33] \"Minor_Salivary_Gland\"                 \n",
       "[34] \"Muscle_Skeletal\"                      \n",
       "[35] \"Nerve_Tibial\"                         \n",
       "[36] \"Ovary\"                                \n",
       "[37] \"Pancreas\"                             \n",
       "[38] \"Pituitary\"                            \n",
       "[39] \"Prostate\"                             \n",
       "[40] \"Skin_Not_Sun_Exposed_Suprapubic\"      \n",
       "[41] \"Skin_Sun_Exposed_Lower_leg\"           \n",
       "[42] \"Small_Intestine_Terminal_Ileum\"       \n",
       "[43] \"Spleen\"                               \n",
       "[44] \"Stomach\"                              \n",
       "[45] \"Testis\"                               \n",
       "[46] \"Thyroid\"                              \n",
       "[47] \"Uterus\"                               \n",
       "[48] \"Vagina\"                               \n",
       "[49] \"Whole_Blood\"                          "
      ]
     },
     "metadata": {},
     "output_type": "display_data"
    }
   ],
   "source": [
    "as.character(sapply(file_vec, function(x) unlist(strsplit(x, \"\\\\.\"))[1]))"
   ]
  },
  {
   "cell_type": "code",
   "execution_count": null,
   "metadata": {},
   "outputs": [],
   "source": []
  },
  {
   "cell_type": "code",
   "execution_count": 6,
   "metadata": {},
   "outputs": [],
   "source": [
    "tissue_vec <- as.character(sapply(file_vec, function(x) unlist(strsplit(x, \"\\\\.\"))[1]))\n",
    "tissue_df <- list()\n",
    "tissue_idx <- list()\n",
    "for (i in 1:length(file_vec)) {\n",
    "    tmp_df <- as.data.frame(fread(paste0(\"/ysm-gpfs/pi/zhao-data/zy92/GTEx_V8/GTEx_Analysis_v8_eQTL_covariates/\", file_vec[i])))\n",
    "    tissue_df[[tissue_vec[i]]] <- tmp_df\n",
    "    tissue_idx[[tissue_vec[i]]] <- colnames(tmp_df)[2:ncol(tmp_df)]\n",
    "}\n",
    "                                  "
   ]
  },
  {
   "cell_type": "code",
   "execution_count": 7,
   "metadata": {},
   "outputs": [
    {
     "data": {
      "text/html": [
       "<style>\n",
       ".list-inline {list-style: none; margin:0; padding: 0}\n",
       ".list-inline>li {display: inline-block}\n",
       ".list-inline>li:not(:last-child)::after {content: \"\\00b7\"; padding: 0 .5ex}\n",
       "</style>\n",
       "<ol class=list-inline><li>'GTEX-1117F'</li><li>'GTEX-111CU'</li><li>'GTEX-111FC'</li><li>'GTEX-111VG'</li><li>'GTEX-111YS'</li><li>'GTEX-1122O'</li><li>'GTEX-1128S'</li><li>'GTEX-113IC'</li><li>'GTEX-117YX'</li><li>'GTEX-11DXX'</li><li>'GTEX-11DZ1'</li><li>'GTEX-11EI6'</li><li>'GTEX-11EM3'</li><li>'GTEX-11EMC'</li><li>'GTEX-11EQ8'</li><li>'GTEX-11EQ9'</li><li>'GTEX-11GS4'</li><li>'GTEX-11GSO'</li><li>'GTEX-11I78'</li><li>'GTEX-11LCK'</li><li>'GTEX-11NUK'</li><li>'GTEX-11O72'</li><li>'GTEX-11OF3'</li><li>'GTEX-11ONC'</li><li>'GTEX-11P7K'</li><li>'GTEX-11P81'</li><li>'GTEX-11P82'</li><li>'GTEX-11PRG'</li><li>'GTEX-11TT1'</li><li>'GTEX-11TTK'</li><li>'GTEX-11TUW'</li><li>'GTEX-11UD1'</li><li>'GTEX-11UD2'</li><li>'GTEX-11WQC'</li><li>'GTEX-11XUK'</li><li>'GTEX-11ZTS'</li><li>'GTEX-11ZTT'</li><li>'GTEX-11ZU8'</li><li>'GTEX-11ZUS'</li><li>'GTEX-11ZVC'</li><li>'GTEX-1211K'</li><li>'GTEX-12126'</li><li>'GTEX-1212Z'</li><li>'GTEX-12584'</li><li>'GTEX-12696'</li><li>'GTEX-1269C'</li><li>'GTEX-12C56'</li><li>'GTEX-12KS4'</li><li>'GTEX-12WSA'</li><li>'GTEX-12WSD'</li><li>'GTEX-12WSL'</li><li>'GTEX-12WSM'</li><li>'GTEX-12ZZX'</li><li>'GTEX-12ZZY'</li><li>'GTEX-12ZZZ'</li><li>'GTEX-13111'</li><li>'GTEX-13112'</li><li>'GTEX-13113'</li><li>'GTEX-1313W'</li><li>'GTEX-1314G'</li><li>'GTEX-131XE'</li><li>'GTEX-131XF'</li><li>'GTEX-131XW'</li><li>'GTEX-131YS'</li><li>'GTEX-132AR'</li><li>'GTEX-132QS'</li><li>'GTEX-133LE'</li><li>'GTEX-1399R'</li><li>'GTEX-1399T'</li><li>'GTEX-1399U'</li><li>'GTEX-139D8'</li><li>'GTEX-139T4'</li><li>'GTEX-139T6'</li><li>'GTEX-139TT'</li><li>'GTEX-139TU'</li><li>'GTEX-139YR'</li><li>'GTEX-13CF2'</li><li>'GTEX-13CF3'</li><li>'GTEX-13D11'</li><li>'GTEX-13FH7'</li><li>'GTEX-13FHO'</li><li>'GTEX-13FHP'</li><li>'GTEX-13FTW'</li><li>'GTEX-13FTY'</li><li>'GTEX-13G51'</li><li>'GTEX-13IVO'</li><li>'GTEX-13JUV'</li><li>'GTEX-13JVG'</li><li>'GTEX-13N11'</li><li>'GTEX-13N1W'</li><li>'GTEX-13N2G'</li><li>'GTEX-13NYB'</li><li>'GTEX-13NZ8'</li><li>'GTEX-13NZ9'</li><li>'GTEX-13NZA'</li><li>'GTEX-13NZB'</li><li>'GTEX-13O21'</li><li>'GTEX-13O3P'</li><li>'GTEX-13O3Q'</li><li>'GTEX-13O61'</li><li>'GTEX-13OVI'</li><li>'GTEX-13OVJ'</li><li>'GTEX-13OVK'</li><li>'GTEX-13OVL'</li><li>'GTEX-13OW6'</li><li>'GTEX-13OW7'</li><li>'GTEX-13OW8'</li><li>'GTEX-13PDP'</li><li>'GTEX-13PLJ'</li><li>'GTEX-13PVQ'</li><li>'GTEX-13PVR'</li><li>'GTEX-13QBU'</li><li>'GTEX-13QJ3'</li><li>'GTEX-13RTJ'</li><li>'GTEX-13S7M'</li><li>'GTEX-13SLW'</li><li>'GTEX-13SLX'</li><li>'GTEX-13U4I'</li><li>'GTEX-13VXT'</li><li>'GTEX-13VXU'</li><li>'GTEX-13W3W'</li><li>'GTEX-13X6J'</li><li>'GTEX-13X6K'</li><li>'GTEX-13YAN'</li><li>'GTEX-144FL'</li><li>'GTEX-144GL'</li><li>'GTEX-144GM'</li><li>'GTEX-145MF'</li><li>'GTEX-145MG'</li><li>'GTEX-145MI'</li><li>'GTEX-145MN'</li><li>'GTEX-145MO'</li><li>'GTEX-146FH'</li><li>'GTEX-146FQ'</li><li>'GTEX-146FR'</li><li>'GTEX-14753'</li><li>'GTEX-147F3'</li><li>'GTEX-147GR'</li><li>'GTEX-147JS'</li><li>'GTEX-148VI'</li><li>'GTEX-1497J'</li><li>'GTEX-14A5H'</li><li>'GTEX-14ABY'</li><li>'GTEX-14AS3'</li><li>'GTEX-14BIL'</li><li>'GTEX-14BIN'</li><li>'GTEX-14BMU'</li><li>'GTEX-14BMV'</li><li>'GTEX-14C39'</li><li>'GTEX-14C5O'</li><li>'GTEX-14DAQ'</li><li>'GTEX-14DAR'</li><li>'GTEX-14E1K'</li><li>'GTEX-14E6C'</li><li>'GTEX-14E6D'</li><li>'GTEX-14E6E'</li><li>'GTEX-14H4A'</li><li>'GTEX-14ICK'</li><li>'GTEX-14JG1'</li><li>'GTEX-14JG6'</li><li>'GTEX-14JIY'</li><li>'GTEX-14LLW'</li><li>'GTEX-14PHX'</li><li>'GTEX-14PII'</li><li>'GTEX-14PJ2'</li><li>'GTEX-14PJ3'</li><li>'GTEX-14PJ4'</li><li>'GTEX-14PJ6'</li><li>'GTEX-14PJM'</li><li>'GTEX-14PK6'</li><li>'GTEX-14PN3'</li><li>'GTEX-15CHQ'</li><li>'GTEX-15DCD'</li><li>'GTEX-15DDE'</li><li>'GTEX-15ER7'</li><li>'GTEX-15ETS'</li><li>'GTEX-15G19'</li><li>'GTEX-15RIE'</li><li>'GTEX-15SDE'</li><li>'GTEX-15UKP'</li><li>'GTEX-169BO'</li><li>'GTEX-16AAH'</li><li>'GTEX-16BQI'</li><li>'GTEX-16GPK'</li><li>'GTEX-16MT8'</li><li>'GTEX-16MTA'</li><li>'GTEX-16NGA'</li><li>'GTEX-16NPX'</li><li>'GTEX-16XZY'</li><li>'GTEX-16XZZ'</li><li>'GTEX-16YQH'</li><li>'GTEX-17EUY'</li><li>'GTEX-17EVP'</li><li>'GTEX-17F96'</li><li>'GTEX-17F97'</li><li>'GTEX-17F98'</li><li>'GTEX-17F9Y'</li><li>'GTEX-17HGU'</li><li>'GTEX-17HHE'</li><li>'GTEX-17HHY'</li><li>⋯</li><li>'GTEX-OHPM'</li><li>'GTEX-OHPN'</li><li>'GTEX-OIZF'</li><li>'GTEX-OIZG'</li><li>'GTEX-OIZH'</li><li>'GTEX-OIZI'</li><li>'GTEX-OOBJ'</li><li>'GTEX-OOBK'</li><li>'GTEX-OXRK'</li><li>'GTEX-OXRL'</li><li>'GTEX-OXRN'</li><li>'GTEX-OXRO'</li><li>'GTEX-OXRP'</li><li>'GTEX-P44G'</li><li>'GTEX-P44H'</li><li>'GTEX-P4PP'</li><li>'GTEX-P4PQ'</li><li>'GTEX-P4QS'</li><li>'GTEX-P4QT'</li><li>'GTEX-P78B'</li><li>'GTEX-PLZ4'</li><li>'GTEX-PLZ5'</li><li>'GTEX-PLZ6'</li><li>'GTEX-POMQ'</li><li>'GTEX-POYW'</li><li>'GTEX-PSDG'</li><li>'GTEX-PWCY'</li><li>'GTEX-PWN1'</li><li>'GTEX-PX3G'</li><li>'GTEX-Q2AG'</li><li>'GTEX-Q2AH'</li><li>'GTEX-Q2AI'</li><li>'GTEX-Q734'</li><li>'GTEX-QCQG'</li><li>'GTEX-QDT8'</li><li>'GTEX-QDVJ'</li><li>'GTEX-QDVN'</li><li>'GTEX-QEG4'</li><li>'GTEX-QEG5'</li><li>'GTEX-QEL4'</li><li>'GTEX-QESD'</li><li>'GTEX-QLQ7'</li><li>'GTEX-QMRM'</li><li>'GTEX-QV31'</li><li>'GTEX-QV44'</li><li>'GTEX-R3RS'</li><li>'GTEX-R53T'</li><li>'GTEX-R55C'</li><li>'GTEX-R55D'</li><li>'GTEX-R55G'</li><li>'GTEX-REY6'</li><li>'GTEX-RM2N'</li><li>'GTEX-RNOR'</li><li>'GTEX-RTLS'</li><li>'GTEX-RU72'</li><li>'GTEX-RUSQ'</li><li>'GTEX-RVPV'</li><li>'GTEX-RWSA'</li><li>'GTEX-S32W'</li><li>'GTEX-S33H'</li><li>'GTEX-S4P3'</li><li>'GTEX-S7SE'</li><li>'GTEX-S95S'</li><li>'GTEX-SIU8'</li><li>'GTEX-SJXC'</li><li>'GTEX-SN8G'</li><li>'GTEX-SNMC'</li><li>'GTEX-SNOS'</li><li>'GTEX-SSA3'</li><li>'GTEX-SUCS'</li><li>'GTEX-T2IS'</li><li>'GTEX-T5JC'</li><li>'GTEX-T5JW'</li><li>'GTEX-T6MN'</li><li>'GTEX-T6MO'</li><li>'GTEX-T8EM'</li><li>'GTEX-TKQ1'</li><li>'GTEX-TML8'</li><li>'GTEX-TMZS'</li><li>'GTEX-TSE9'</li><li>'GTEX-U3ZM'</li><li>'GTEX-U3ZN'</li><li>'GTEX-U412'</li><li>'GTEX-U4B1'</li><li>'GTEX-U8XE'</li><li>'GTEX-UJHI'</li><li>'GTEX-UTHO'</li><li>'GTEX-VJWN'</li><li>'GTEX-VJYA'</li><li>'GTEX-VUSG'</li><li>'GTEX-VUSH'</li><li>'GTEX-W5WG'</li><li>'GTEX-W5X1'</li><li>'GTEX-WEY5'</li><li>'GTEX-WFG7'</li><li>'GTEX-WFG8'</li><li>'GTEX-WFJO'</li><li>'GTEX-WFON'</li><li>'GTEX-WH7G'</li><li>'GTEX-WHPG'</li><li>'GTEX-WI4N'</li><li>'GTEX-WL46'</li><li>'GTEX-WVJS'</li><li>'GTEX-WVLH'</li><li>'GTEX-WY7C'</li><li>'GTEX-WYJK'</li><li>'GTEX-X15G'</li><li>'GTEX-X261'</li><li>'GTEX-X4EO'</li><li>'GTEX-X4LF'</li><li>'GTEX-X4XY'</li><li>'GTEX-X5EB'</li><li>'GTEX-X638'</li><li>'GTEX-X88G'</li><li>'GTEX-X8HC'</li><li>'GTEX-XAJ8'</li><li>'GTEX-XBEC'</li><li>'GTEX-XBED'</li><li>'GTEX-XBEW'</li><li>'GTEX-XGQ4'</li><li>'GTEX-XK95'</li><li>'GTEX-XLM4'</li><li>'GTEX-XMD2'</li><li>'GTEX-XMK1'</li><li>'GTEX-XOT4'</li><li>'GTEX-XPVG'</li><li>'GTEX-XQ3S'</li><li>'GTEX-XQ8I'</li><li>'GTEX-XUW1'</li><li>'GTEX-XUYS'</li><li>'GTEX-XUZC'</li><li>'GTEX-XV7Q'</li><li>'GTEX-XXEK'</li><li>'GTEX-XYKS'</li><li>'GTEX-Y111'</li><li>'GTEX-Y114'</li><li>'GTEX-Y3I4'</li><li>'GTEX-Y3IK'</li><li>'GTEX-Y5V5'</li><li>'GTEX-Y5V6'</li><li>'GTEX-Y8E4'</li><li>'GTEX-Y8E5'</li><li>'GTEX-Y8LW'</li><li>'GTEX-Y9LG'</li><li>'GTEX-YB5E'</li><li>'GTEX-YB5K'</li><li>'GTEX-YEC3'</li><li>'GTEX-YEC4'</li><li>'GTEX-YECK'</li><li>'GTEX-YF7O'</li><li>'GTEX-YFC4'</li><li>'GTEX-YJ89'</li><li>'GTEX-YJ8A'</li><li>'GTEX-YJ8O'</li><li>'GTEX-Z93S'</li><li>'GTEX-Z93T'</li><li>'GTEX-Z9EW'</li><li>'GTEX-ZAJG'</li><li>'GTEX-ZAK1'</li><li>'GTEX-ZC5H'</li><li>'GTEX-ZDTS'</li><li>'GTEX-ZDTT'</li><li>'GTEX-ZDXO'</li><li>'GTEX-ZDYS'</li><li>'GTEX-ZE7O'</li><li>'GTEX-ZEX8'</li><li>'GTEX-ZF28'</li><li>'GTEX-ZF29'</li><li>'GTEX-ZF3C'</li><li>'GTEX-ZGAY'</li><li>'GTEX-ZLFU'</li><li>'GTEX-ZLV1'</li><li>'GTEX-ZLWG'</li><li>'GTEX-ZP4G'</li><li>'GTEX-ZPCL'</li><li>'GTEX-ZPIC'</li><li>'GTEX-ZPU1'</li><li>'GTEX-ZQG8'</li><li>'GTEX-ZT9X'</li><li>'GTEX-ZTPG'</li><li>'GTEX-ZTSS'</li><li>'GTEX-ZTX8'</li><li>'GTEX-ZUA1'</li><li>'GTEX-ZV68'</li><li>'GTEX-ZVE2'</li><li>'GTEX-ZVP2'</li><li>'GTEX-ZVT2'</li><li>'GTEX-ZVT4'</li><li>'GTEX-ZVZO'</li><li>'GTEX-ZVZP'</li><li>'GTEX-ZXES'</li><li>'GTEX-ZXG5'</li><li>'GTEX-ZYFC'</li><li>'GTEX-ZYFD'</li><li>'GTEX-ZYT6'</li><li>'GTEX-ZYVF'</li><li>'GTEX-ZYW4'</li><li>'GTEX-ZYY3'</li><li>'GTEX-ZZ64'</li><li>'GTEX-ZZPU'</li></ol>\n"
      ],
      "text/latex": [
       "\\begin{enumerate*}\n",
       "\\item 'GTEX-1117F'\n",
       "\\item 'GTEX-111CU'\n",
       "\\item 'GTEX-111FC'\n",
       "\\item 'GTEX-111VG'\n",
       "\\item 'GTEX-111YS'\n",
       "\\item 'GTEX-1122O'\n",
       "\\item 'GTEX-1128S'\n",
       "\\item 'GTEX-113IC'\n",
       "\\item 'GTEX-117YX'\n",
       "\\item 'GTEX-11DXX'\n",
       "\\item 'GTEX-11DZ1'\n",
       "\\item 'GTEX-11EI6'\n",
       "\\item 'GTEX-11EM3'\n",
       "\\item 'GTEX-11EMC'\n",
       "\\item 'GTEX-11EQ8'\n",
       "\\item 'GTEX-11EQ9'\n",
       "\\item 'GTEX-11GS4'\n",
       "\\item 'GTEX-11GSO'\n",
       "\\item 'GTEX-11I78'\n",
       "\\item 'GTEX-11LCK'\n",
       "\\item 'GTEX-11NUK'\n",
       "\\item 'GTEX-11O72'\n",
       "\\item 'GTEX-11OF3'\n",
       "\\item 'GTEX-11ONC'\n",
       "\\item 'GTEX-11P7K'\n",
       "\\item 'GTEX-11P81'\n",
       "\\item 'GTEX-11P82'\n",
       "\\item 'GTEX-11PRG'\n",
       "\\item 'GTEX-11TT1'\n",
       "\\item 'GTEX-11TTK'\n",
       "\\item 'GTEX-11TUW'\n",
       "\\item 'GTEX-11UD1'\n",
       "\\item 'GTEX-11UD2'\n",
       "\\item 'GTEX-11WQC'\n",
       "\\item 'GTEX-11XUK'\n",
       "\\item 'GTEX-11ZTS'\n",
       "\\item 'GTEX-11ZTT'\n",
       "\\item 'GTEX-11ZU8'\n",
       "\\item 'GTEX-11ZUS'\n",
       "\\item 'GTEX-11ZVC'\n",
       "\\item 'GTEX-1211K'\n",
       "\\item 'GTEX-12126'\n",
       "\\item 'GTEX-1212Z'\n",
       "\\item 'GTEX-12584'\n",
       "\\item 'GTEX-12696'\n",
       "\\item 'GTEX-1269C'\n",
       "\\item 'GTEX-12C56'\n",
       "\\item 'GTEX-12KS4'\n",
       "\\item 'GTEX-12WSA'\n",
       "\\item 'GTEX-12WSD'\n",
       "\\item 'GTEX-12WSL'\n",
       "\\item 'GTEX-12WSM'\n",
       "\\item 'GTEX-12ZZX'\n",
       "\\item 'GTEX-12ZZY'\n",
       "\\item 'GTEX-12ZZZ'\n",
       "\\item 'GTEX-13111'\n",
       "\\item 'GTEX-13112'\n",
       "\\item 'GTEX-13113'\n",
       "\\item 'GTEX-1313W'\n",
       "\\item 'GTEX-1314G'\n",
       "\\item 'GTEX-131XE'\n",
       "\\item 'GTEX-131XF'\n",
       "\\item 'GTEX-131XW'\n",
       "\\item 'GTEX-131YS'\n",
       "\\item 'GTEX-132AR'\n",
       "\\item 'GTEX-132QS'\n",
       "\\item 'GTEX-133LE'\n",
       "\\item 'GTEX-1399R'\n",
       "\\item 'GTEX-1399T'\n",
       "\\item 'GTEX-1399U'\n",
       "\\item 'GTEX-139D8'\n",
       "\\item 'GTEX-139T4'\n",
       "\\item 'GTEX-139T6'\n",
       "\\item 'GTEX-139TT'\n",
       "\\item 'GTEX-139TU'\n",
       "\\item 'GTEX-139YR'\n",
       "\\item 'GTEX-13CF2'\n",
       "\\item 'GTEX-13CF3'\n",
       "\\item 'GTEX-13D11'\n",
       "\\item 'GTEX-13FH7'\n",
       "\\item 'GTEX-13FHO'\n",
       "\\item 'GTEX-13FHP'\n",
       "\\item 'GTEX-13FTW'\n",
       "\\item 'GTEX-13FTY'\n",
       "\\item 'GTEX-13G51'\n",
       "\\item 'GTEX-13IVO'\n",
       "\\item 'GTEX-13JUV'\n",
       "\\item 'GTEX-13JVG'\n",
       "\\item 'GTEX-13N11'\n",
       "\\item 'GTEX-13N1W'\n",
       "\\item 'GTEX-13N2G'\n",
       "\\item 'GTEX-13NYB'\n",
       "\\item 'GTEX-13NZ8'\n",
       "\\item 'GTEX-13NZ9'\n",
       "\\item 'GTEX-13NZA'\n",
       "\\item 'GTEX-13NZB'\n",
       "\\item 'GTEX-13O21'\n",
       "\\item 'GTEX-13O3P'\n",
       "\\item 'GTEX-13O3Q'\n",
       "\\item 'GTEX-13O61'\n",
       "\\item 'GTEX-13OVI'\n",
       "\\item 'GTEX-13OVJ'\n",
       "\\item 'GTEX-13OVK'\n",
       "\\item 'GTEX-13OVL'\n",
       "\\item 'GTEX-13OW6'\n",
       "\\item 'GTEX-13OW7'\n",
       "\\item 'GTEX-13OW8'\n",
       "\\item 'GTEX-13PDP'\n",
       "\\item 'GTEX-13PLJ'\n",
       "\\item 'GTEX-13PVQ'\n",
       "\\item 'GTEX-13PVR'\n",
       "\\item 'GTEX-13QBU'\n",
       "\\item 'GTEX-13QJ3'\n",
       "\\item 'GTEX-13RTJ'\n",
       "\\item 'GTEX-13S7M'\n",
       "\\item 'GTEX-13SLW'\n",
       "\\item 'GTEX-13SLX'\n",
       "\\item 'GTEX-13U4I'\n",
       "\\item 'GTEX-13VXT'\n",
       "\\item 'GTEX-13VXU'\n",
       "\\item 'GTEX-13W3W'\n",
       "\\item 'GTEX-13X6J'\n",
       "\\item 'GTEX-13X6K'\n",
       "\\item 'GTEX-13YAN'\n",
       "\\item 'GTEX-144FL'\n",
       "\\item 'GTEX-144GL'\n",
       "\\item 'GTEX-144GM'\n",
       "\\item 'GTEX-145MF'\n",
       "\\item 'GTEX-145MG'\n",
       "\\item 'GTEX-145MI'\n",
       "\\item 'GTEX-145MN'\n",
       "\\item 'GTEX-145MO'\n",
       "\\item 'GTEX-146FH'\n",
       "\\item 'GTEX-146FQ'\n",
       "\\item 'GTEX-146FR'\n",
       "\\item 'GTEX-14753'\n",
       "\\item 'GTEX-147F3'\n",
       "\\item 'GTEX-147GR'\n",
       "\\item 'GTEX-147JS'\n",
       "\\item 'GTEX-148VI'\n",
       "\\item 'GTEX-1497J'\n",
       "\\item 'GTEX-14A5H'\n",
       "\\item 'GTEX-14ABY'\n",
       "\\item 'GTEX-14AS3'\n",
       "\\item 'GTEX-14BIL'\n",
       "\\item 'GTEX-14BIN'\n",
       "\\item 'GTEX-14BMU'\n",
       "\\item 'GTEX-14BMV'\n",
       "\\item 'GTEX-14C39'\n",
       "\\item 'GTEX-14C5O'\n",
       "\\item 'GTEX-14DAQ'\n",
       "\\item 'GTEX-14DAR'\n",
       "\\item 'GTEX-14E1K'\n",
       "\\item 'GTEX-14E6C'\n",
       "\\item 'GTEX-14E6D'\n",
       "\\item 'GTEX-14E6E'\n",
       "\\item 'GTEX-14H4A'\n",
       "\\item 'GTEX-14ICK'\n",
       "\\item 'GTEX-14JG1'\n",
       "\\item 'GTEX-14JG6'\n",
       "\\item 'GTEX-14JIY'\n",
       "\\item 'GTEX-14LLW'\n",
       "\\item 'GTEX-14PHX'\n",
       "\\item 'GTEX-14PII'\n",
       "\\item 'GTEX-14PJ2'\n",
       "\\item 'GTEX-14PJ3'\n",
       "\\item 'GTEX-14PJ4'\n",
       "\\item 'GTEX-14PJ6'\n",
       "\\item 'GTEX-14PJM'\n",
       "\\item 'GTEX-14PK6'\n",
       "\\item 'GTEX-14PN3'\n",
       "\\item 'GTEX-15CHQ'\n",
       "\\item 'GTEX-15DCD'\n",
       "\\item 'GTEX-15DDE'\n",
       "\\item 'GTEX-15ER7'\n",
       "\\item 'GTEX-15ETS'\n",
       "\\item 'GTEX-15G19'\n",
       "\\item 'GTEX-15RIE'\n",
       "\\item 'GTEX-15SDE'\n",
       "\\item 'GTEX-15UKP'\n",
       "\\item 'GTEX-169BO'\n",
       "\\item 'GTEX-16AAH'\n",
       "\\item 'GTEX-16BQI'\n",
       "\\item 'GTEX-16GPK'\n",
       "\\item 'GTEX-16MT8'\n",
       "\\item 'GTEX-16MTA'\n",
       "\\item 'GTEX-16NGA'\n",
       "\\item 'GTEX-16NPX'\n",
       "\\item 'GTEX-16XZY'\n",
       "\\item 'GTEX-16XZZ'\n",
       "\\item 'GTEX-16YQH'\n",
       "\\item 'GTEX-17EUY'\n",
       "\\item 'GTEX-17EVP'\n",
       "\\item 'GTEX-17F96'\n",
       "\\item 'GTEX-17F97'\n",
       "\\item 'GTEX-17F98'\n",
       "\\item 'GTEX-17F9Y'\n",
       "\\item 'GTEX-17HGU'\n",
       "\\item 'GTEX-17HHE'\n",
       "\\item 'GTEX-17HHY'\n",
       "\\item ⋯\n",
       "\\item 'GTEX-OHPM'\n",
       "\\item 'GTEX-OHPN'\n",
       "\\item 'GTEX-OIZF'\n",
       "\\item 'GTEX-OIZG'\n",
       "\\item 'GTEX-OIZH'\n",
       "\\item 'GTEX-OIZI'\n",
       "\\item 'GTEX-OOBJ'\n",
       "\\item 'GTEX-OOBK'\n",
       "\\item 'GTEX-OXRK'\n",
       "\\item 'GTEX-OXRL'\n",
       "\\item 'GTEX-OXRN'\n",
       "\\item 'GTEX-OXRO'\n",
       "\\item 'GTEX-OXRP'\n",
       "\\item 'GTEX-P44G'\n",
       "\\item 'GTEX-P44H'\n",
       "\\item 'GTEX-P4PP'\n",
       "\\item 'GTEX-P4PQ'\n",
       "\\item 'GTEX-P4QS'\n",
       "\\item 'GTEX-P4QT'\n",
       "\\item 'GTEX-P78B'\n",
       "\\item 'GTEX-PLZ4'\n",
       "\\item 'GTEX-PLZ5'\n",
       "\\item 'GTEX-PLZ6'\n",
       "\\item 'GTEX-POMQ'\n",
       "\\item 'GTEX-POYW'\n",
       "\\item 'GTEX-PSDG'\n",
       "\\item 'GTEX-PWCY'\n",
       "\\item 'GTEX-PWN1'\n",
       "\\item 'GTEX-PX3G'\n",
       "\\item 'GTEX-Q2AG'\n",
       "\\item 'GTEX-Q2AH'\n",
       "\\item 'GTEX-Q2AI'\n",
       "\\item 'GTEX-Q734'\n",
       "\\item 'GTEX-QCQG'\n",
       "\\item 'GTEX-QDT8'\n",
       "\\item 'GTEX-QDVJ'\n",
       "\\item 'GTEX-QDVN'\n",
       "\\item 'GTEX-QEG4'\n",
       "\\item 'GTEX-QEG5'\n",
       "\\item 'GTEX-QEL4'\n",
       "\\item 'GTEX-QESD'\n",
       "\\item 'GTEX-QLQ7'\n",
       "\\item 'GTEX-QMRM'\n",
       "\\item 'GTEX-QV31'\n",
       "\\item 'GTEX-QV44'\n",
       "\\item 'GTEX-R3RS'\n",
       "\\item 'GTEX-R53T'\n",
       "\\item 'GTEX-R55C'\n",
       "\\item 'GTEX-R55D'\n",
       "\\item 'GTEX-R55G'\n",
       "\\item 'GTEX-REY6'\n",
       "\\item 'GTEX-RM2N'\n",
       "\\item 'GTEX-RNOR'\n",
       "\\item 'GTEX-RTLS'\n",
       "\\item 'GTEX-RU72'\n",
       "\\item 'GTEX-RUSQ'\n",
       "\\item 'GTEX-RVPV'\n",
       "\\item 'GTEX-RWSA'\n",
       "\\item 'GTEX-S32W'\n",
       "\\item 'GTEX-S33H'\n",
       "\\item 'GTEX-S4P3'\n",
       "\\item 'GTEX-S7SE'\n",
       "\\item 'GTEX-S95S'\n",
       "\\item 'GTEX-SIU8'\n",
       "\\item 'GTEX-SJXC'\n",
       "\\item 'GTEX-SN8G'\n",
       "\\item 'GTEX-SNMC'\n",
       "\\item 'GTEX-SNOS'\n",
       "\\item 'GTEX-SSA3'\n",
       "\\item 'GTEX-SUCS'\n",
       "\\item 'GTEX-T2IS'\n",
       "\\item 'GTEX-T5JC'\n",
       "\\item 'GTEX-T5JW'\n",
       "\\item 'GTEX-T6MN'\n",
       "\\item 'GTEX-T6MO'\n",
       "\\item 'GTEX-T8EM'\n",
       "\\item 'GTEX-TKQ1'\n",
       "\\item 'GTEX-TML8'\n",
       "\\item 'GTEX-TMZS'\n",
       "\\item 'GTEX-TSE9'\n",
       "\\item 'GTEX-U3ZM'\n",
       "\\item 'GTEX-U3ZN'\n",
       "\\item 'GTEX-U412'\n",
       "\\item 'GTEX-U4B1'\n",
       "\\item 'GTEX-U8XE'\n",
       "\\item 'GTEX-UJHI'\n",
       "\\item 'GTEX-UTHO'\n",
       "\\item 'GTEX-VJWN'\n",
       "\\item 'GTEX-VJYA'\n",
       "\\item 'GTEX-VUSG'\n",
       "\\item 'GTEX-VUSH'\n",
       "\\item 'GTEX-W5WG'\n",
       "\\item 'GTEX-W5X1'\n",
       "\\item 'GTEX-WEY5'\n",
       "\\item 'GTEX-WFG7'\n",
       "\\item 'GTEX-WFG8'\n",
       "\\item 'GTEX-WFJO'\n",
       "\\item 'GTEX-WFON'\n",
       "\\item 'GTEX-WH7G'\n",
       "\\item 'GTEX-WHPG'\n",
       "\\item 'GTEX-WI4N'\n",
       "\\item 'GTEX-WL46'\n",
       "\\item 'GTEX-WVJS'\n",
       "\\item 'GTEX-WVLH'\n",
       "\\item 'GTEX-WY7C'\n",
       "\\item 'GTEX-WYJK'\n",
       "\\item 'GTEX-X15G'\n",
       "\\item 'GTEX-X261'\n",
       "\\item 'GTEX-X4EO'\n",
       "\\item 'GTEX-X4LF'\n",
       "\\item 'GTEX-X4XY'\n",
       "\\item 'GTEX-X5EB'\n",
       "\\item 'GTEX-X638'\n",
       "\\item 'GTEX-X88G'\n",
       "\\item 'GTEX-X8HC'\n",
       "\\item 'GTEX-XAJ8'\n",
       "\\item 'GTEX-XBEC'\n",
       "\\item 'GTEX-XBED'\n",
       "\\item 'GTEX-XBEW'\n",
       "\\item 'GTEX-XGQ4'\n",
       "\\item 'GTEX-XK95'\n",
       "\\item 'GTEX-XLM4'\n",
       "\\item 'GTEX-XMD2'\n",
       "\\item 'GTEX-XMK1'\n",
       "\\item 'GTEX-XOT4'\n",
       "\\item 'GTEX-XPVG'\n",
       "\\item 'GTEX-XQ3S'\n",
       "\\item 'GTEX-XQ8I'\n",
       "\\item 'GTEX-XUW1'\n",
       "\\item 'GTEX-XUYS'\n",
       "\\item 'GTEX-XUZC'\n",
       "\\item 'GTEX-XV7Q'\n",
       "\\item 'GTEX-XXEK'\n",
       "\\item 'GTEX-XYKS'\n",
       "\\item 'GTEX-Y111'\n",
       "\\item 'GTEX-Y114'\n",
       "\\item 'GTEX-Y3I4'\n",
       "\\item 'GTEX-Y3IK'\n",
       "\\item 'GTEX-Y5V5'\n",
       "\\item 'GTEX-Y5V6'\n",
       "\\item 'GTEX-Y8E4'\n",
       "\\item 'GTEX-Y8E5'\n",
       "\\item 'GTEX-Y8LW'\n",
       "\\item 'GTEX-Y9LG'\n",
       "\\item 'GTEX-YB5E'\n",
       "\\item 'GTEX-YB5K'\n",
       "\\item 'GTEX-YEC3'\n",
       "\\item 'GTEX-YEC4'\n",
       "\\item 'GTEX-YECK'\n",
       "\\item 'GTEX-YF7O'\n",
       "\\item 'GTEX-YFC4'\n",
       "\\item 'GTEX-YJ89'\n",
       "\\item 'GTEX-YJ8A'\n",
       "\\item 'GTEX-YJ8O'\n",
       "\\item 'GTEX-Z93S'\n",
       "\\item 'GTEX-Z93T'\n",
       "\\item 'GTEX-Z9EW'\n",
       "\\item 'GTEX-ZAJG'\n",
       "\\item 'GTEX-ZAK1'\n",
       "\\item 'GTEX-ZC5H'\n",
       "\\item 'GTEX-ZDTS'\n",
       "\\item 'GTEX-ZDTT'\n",
       "\\item 'GTEX-ZDXO'\n",
       "\\item 'GTEX-ZDYS'\n",
       "\\item 'GTEX-ZE7O'\n",
       "\\item 'GTEX-ZEX8'\n",
       "\\item 'GTEX-ZF28'\n",
       "\\item 'GTEX-ZF29'\n",
       "\\item 'GTEX-ZF3C'\n",
       "\\item 'GTEX-ZGAY'\n",
       "\\item 'GTEX-ZLFU'\n",
       "\\item 'GTEX-ZLV1'\n",
       "\\item 'GTEX-ZLWG'\n",
       "\\item 'GTEX-ZP4G'\n",
       "\\item 'GTEX-ZPCL'\n",
       "\\item 'GTEX-ZPIC'\n",
       "\\item 'GTEX-ZPU1'\n",
       "\\item 'GTEX-ZQG8'\n",
       "\\item 'GTEX-ZT9X'\n",
       "\\item 'GTEX-ZTPG'\n",
       "\\item 'GTEX-ZTSS'\n",
       "\\item 'GTEX-ZTX8'\n",
       "\\item 'GTEX-ZUA1'\n",
       "\\item 'GTEX-ZV68'\n",
       "\\item 'GTEX-ZVE2'\n",
       "\\item 'GTEX-ZVP2'\n",
       "\\item 'GTEX-ZVT2'\n",
       "\\item 'GTEX-ZVT4'\n",
       "\\item 'GTEX-ZVZO'\n",
       "\\item 'GTEX-ZVZP'\n",
       "\\item 'GTEX-ZXES'\n",
       "\\item 'GTEX-ZXG5'\n",
       "\\item 'GTEX-ZYFC'\n",
       "\\item 'GTEX-ZYFD'\n",
       "\\item 'GTEX-ZYT6'\n",
       "\\item 'GTEX-ZYVF'\n",
       "\\item 'GTEX-ZYW4'\n",
       "\\item 'GTEX-ZYY3'\n",
       "\\item 'GTEX-ZZ64'\n",
       "\\item 'GTEX-ZZPU'\n",
       "\\end{enumerate*}\n"
      ],
      "text/markdown": [
       "1. 'GTEX-1117F'\n",
       "2. 'GTEX-111CU'\n",
       "3. 'GTEX-111FC'\n",
       "4. 'GTEX-111VG'\n",
       "5. 'GTEX-111YS'\n",
       "6. 'GTEX-1122O'\n",
       "7. 'GTEX-1128S'\n",
       "8. 'GTEX-113IC'\n",
       "9. 'GTEX-117YX'\n",
       "10. 'GTEX-11DXX'\n",
       "11. 'GTEX-11DZ1'\n",
       "12. 'GTEX-11EI6'\n",
       "13. 'GTEX-11EM3'\n",
       "14. 'GTEX-11EMC'\n",
       "15. 'GTEX-11EQ8'\n",
       "16. 'GTEX-11EQ9'\n",
       "17. 'GTEX-11GS4'\n",
       "18. 'GTEX-11GSO'\n",
       "19. 'GTEX-11I78'\n",
       "20. 'GTEX-11LCK'\n",
       "21. 'GTEX-11NUK'\n",
       "22. 'GTEX-11O72'\n",
       "23. 'GTEX-11OF3'\n",
       "24. 'GTEX-11ONC'\n",
       "25. 'GTEX-11P7K'\n",
       "26. 'GTEX-11P81'\n",
       "27. 'GTEX-11P82'\n",
       "28. 'GTEX-11PRG'\n",
       "29. 'GTEX-11TT1'\n",
       "30. 'GTEX-11TTK'\n",
       "31. 'GTEX-11TUW'\n",
       "32. 'GTEX-11UD1'\n",
       "33. 'GTEX-11UD2'\n",
       "34. 'GTEX-11WQC'\n",
       "35. 'GTEX-11XUK'\n",
       "36. 'GTEX-11ZTS'\n",
       "37. 'GTEX-11ZTT'\n",
       "38. 'GTEX-11ZU8'\n",
       "39. 'GTEX-11ZUS'\n",
       "40. 'GTEX-11ZVC'\n",
       "41. 'GTEX-1211K'\n",
       "42. 'GTEX-12126'\n",
       "43. 'GTEX-1212Z'\n",
       "44. 'GTEX-12584'\n",
       "45. 'GTEX-12696'\n",
       "46. 'GTEX-1269C'\n",
       "47. 'GTEX-12C56'\n",
       "48. 'GTEX-12KS4'\n",
       "49. 'GTEX-12WSA'\n",
       "50. 'GTEX-12WSD'\n",
       "51. 'GTEX-12WSL'\n",
       "52. 'GTEX-12WSM'\n",
       "53. 'GTEX-12ZZX'\n",
       "54. 'GTEX-12ZZY'\n",
       "55. 'GTEX-12ZZZ'\n",
       "56. 'GTEX-13111'\n",
       "57. 'GTEX-13112'\n",
       "58. 'GTEX-13113'\n",
       "59. 'GTEX-1313W'\n",
       "60. 'GTEX-1314G'\n",
       "61. 'GTEX-131XE'\n",
       "62. 'GTEX-131XF'\n",
       "63. 'GTEX-131XW'\n",
       "64. 'GTEX-131YS'\n",
       "65. 'GTEX-132AR'\n",
       "66. 'GTEX-132QS'\n",
       "67. 'GTEX-133LE'\n",
       "68. 'GTEX-1399R'\n",
       "69. 'GTEX-1399T'\n",
       "70. 'GTEX-1399U'\n",
       "71. 'GTEX-139D8'\n",
       "72. 'GTEX-139T4'\n",
       "73. 'GTEX-139T6'\n",
       "74. 'GTEX-139TT'\n",
       "75. 'GTEX-139TU'\n",
       "76. 'GTEX-139YR'\n",
       "77. 'GTEX-13CF2'\n",
       "78. 'GTEX-13CF3'\n",
       "79. 'GTEX-13D11'\n",
       "80. 'GTEX-13FH7'\n",
       "81. 'GTEX-13FHO'\n",
       "82. 'GTEX-13FHP'\n",
       "83. 'GTEX-13FTW'\n",
       "84. 'GTEX-13FTY'\n",
       "85. 'GTEX-13G51'\n",
       "86. 'GTEX-13IVO'\n",
       "87. 'GTEX-13JUV'\n",
       "88. 'GTEX-13JVG'\n",
       "89. 'GTEX-13N11'\n",
       "90. 'GTEX-13N1W'\n",
       "91. 'GTEX-13N2G'\n",
       "92. 'GTEX-13NYB'\n",
       "93. 'GTEX-13NZ8'\n",
       "94. 'GTEX-13NZ9'\n",
       "95. 'GTEX-13NZA'\n",
       "96. 'GTEX-13NZB'\n",
       "97. 'GTEX-13O21'\n",
       "98. 'GTEX-13O3P'\n",
       "99. 'GTEX-13O3Q'\n",
       "100. 'GTEX-13O61'\n",
       "101. 'GTEX-13OVI'\n",
       "102. 'GTEX-13OVJ'\n",
       "103. 'GTEX-13OVK'\n",
       "104. 'GTEX-13OVL'\n",
       "105. 'GTEX-13OW6'\n",
       "106. 'GTEX-13OW7'\n",
       "107. 'GTEX-13OW8'\n",
       "108. 'GTEX-13PDP'\n",
       "109. 'GTEX-13PLJ'\n",
       "110. 'GTEX-13PVQ'\n",
       "111. 'GTEX-13PVR'\n",
       "112. 'GTEX-13QBU'\n",
       "113. 'GTEX-13QJ3'\n",
       "114. 'GTEX-13RTJ'\n",
       "115. 'GTEX-13S7M'\n",
       "116. 'GTEX-13SLW'\n",
       "117. 'GTEX-13SLX'\n",
       "118. 'GTEX-13U4I'\n",
       "119. 'GTEX-13VXT'\n",
       "120. 'GTEX-13VXU'\n",
       "121. 'GTEX-13W3W'\n",
       "122. 'GTEX-13X6J'\n",
       "123. 'GTEX-13X6K'\n",
       "124. 'GTEX-13YAN'\n",
       "125. 'GTEX-144FL'\n",
       "126. 'GTEX-144GL'\n",
       "127. 'GTEX-144GM'\n",
       "128. 'GTEX-145MF'\n",
       "129. 'GTEX-145MG'\n",
       "130. 'GTEX-145MI'\n",
       "131. 'GTEX-145MN'\n",
       "132. 'GTEX-145MO'\n",
       "133. 'GTEX-146FH'\n",
       "134. 'GTEX-146FQ'\n",
       "135. 'GTEX-146FR'\n",
       "136. 'GTEX-14753'\n",
       "137. 'GTEX-147F3'\n",
       "138. 'GTEX-147GR'\n",
       "139. 'GTEX-147JS'\n",
       "140. 'GTEX-148VI'\n",
       "141. 'GTEX-1497J'\n",
       "142. 'GTEX-14A5H'\n",
       "143. 'GTEX-14ABY'\n",
       "144. 'GTEX-14AS3'\n",
       "145. 'GTEX-14BIL'\n",
       "146. 'GTEX-14BIN'\n",
       "147. 'GTEX-14BMU'\n",
       "148. 'GTEX-14BMV'\n",
       "149. 'GTEX-14C39'\n",
       "150. 'GTEX-14C5O'\n",
       "151. 'GTEX-14DAQ'\n",
       "152. 'GTEX-14DAR'\n",
       "153. 'GTEX-14E1K'\n",
       "154. 'GTEX-14E6C'\n",
       "155. 'GTEX-14E6D'\n",
       "156. 'GTEX-14E6E'\n",
       "157. 'GTEX-14H4A'\n",
       "158. 'GTEX-14ICK'\n",
       "159. 'GTEX-14JG1'\n",
       "160. 'GTEX-14JG6'\n",
       "161. 'GTEX-14JIY'\n",
       "162. 'GTEX-14LLW'\n",
       "163. 'GTEX-14PHX'\n",
       "164. 'GTEX-14PII'\n",
       "165. 'GTEX-14PJ2'\n",
       "166. 'GTEX-14PJ3'\n",
       "167. 'GTEX-14PJ4'\n",
       "168. 'GTEX-14PJ6'\n",
       "169. 'GTEX-14PJM'\n",
       "170. 'GTEX-14PK6'\n",
       "171. 'GTEX-14PN3'\n",
       "172. 'GTEX-15CHQ'\n",
       "173. 'GTEX-15DCD'\n",
       "174. 'GTEX-15DDE'\n",
       "175. 'GTEX-15ER7'\n",
       "176. 'GTEX-15ETS'\n",
       "177. 'GTEX-15G19'\n",
       "178. 'GTEX-15RIE'\n",
       "179. 'GTEX-15SDE'\n",
       "180. 'GTEX-15UKP'\n",
       "181. 'GTEX-169BO'\n",
       "182. 'GTEX-16AAH'\n",
       "183. 'GTEX-16BQI'\n",
       "184. 'GTEX-16GPK'\n",
       "185. 'GTEX-16MT8'\n",
       "186. 'GTEX-16MTA'\n",
       "187. 'GTEX-16NGA'\n",
       "188. 'GTEX-16NPX'\n",
       "189. 'GTEX-16XZY'\n",
       "190. 'GTEX-16XZZ'\n",
       "191. 'GTEX-16YQH'\n",
       "192. 'GTEX-17EUY'\n",
       "193. 'GTEX-17EVP'\n",
       "194. 'GTEX-17F96'\n",
       "195. 'GTEX-17F97'\n",
       "196. 'GTEX-17F98'\n",
       "197. 'GTEX-17F9Y'\n",
       "198. 'GTEX-17HGU'\n",
       "199. 'GTEX-17HHE'\n",
       "200. 'GTEX-17HHY'\n",
       "201. ⋯\n",
       "202. 'GTEX-OHPM'\n",
       "203. 'GTEX-OHPN'\n",
       "204. 'GTEX-OIZF'\n",
       "205. 'GTEX-OIZG'\n",
       "206. 'GTEX-OIZH'\n",
       "207. 'GTEX-OIZI'\n",
       "208. 'GTEX-OOBJ'\n",
       "209. 'GTEX-OOBK'\n",
       "210. 'GTEX-OXRK'\n",
       "211. 'GTEX-OXRL'\n",
       "212. 'GTEX-OXRN'\n",
       "213. 'GTEX-OXRO'\n",
       "214. 'GTEX-OXRP'\n",
       "215. 'GTEX-P44G'\n",
       "216. 'GTEX-P44H'\n",
       "217. 'GTEX-P4PP'\n",
       "218. 'GTEX-P4PQ'\n",
       "219. 'GTEX-P4QS'\n",
       "220. 'GTEX-P4QT'\n",
       "221. 'GTEX-P78B'\n",
       "222. 'GTEX-PLZ4'\n",
       "223. 'GTEX-PLZ5'\n",
       "224. 'GTEX-PLZ6'\n",
       "225. 'GTEX-POMQ'\n",
       "226. 'GTEX-POYW'\n",
       "227. 'GTEX-PSDG'\n",
       "228. 'GTEX-PWCY'\n",
       "229. 'GTEX-PWN1'\n",
       "230. 'GTEX-PX3G'\n",
       "231. 'GTEX-Q2AG'\n",
       "232. 'GTEX-Q2AH'\n",
       "233. 'GTEX-Q2AI'\n",
       "234. 'GTEX-Q734'\n",
       "235. 'GTEX-QCQG'\n",
       "236. 'GTEX-QDT8'\n",
       "237. 'GTEX-QDVJ'\n",
       "238. 'GTEX-QDVN'\n",
       "239. 'GTEX-QEG4'\n",
       "240. 'GTEX-QEG5'\n",
       "241. 'GTEX-QEL4'\n",
       "242. 'GTEX-QESD'\n",
       "243. 'GTEX-QLQ7'\n",
       "244. 'GTEX-QMRM'\n",
       "245. 'GTEX-QV31'\n",
       "246. 'GTEX-QV44'\n",
       "247. 'GTEX-R3RS'\n",
       "248. 'GTEX-R53T'\n",
       "249. 'GTEX-R55C'\n",
       "250. 'GTEX-R55D'\n",
       "251. 'GTEX-R55G'\n",
       "252. 'GTEX-REY6'\n",
       "253. 'GTEX-RM2N'\n",
       "254. 'GTEX-RNOR'\n",
       "255. 'GTEX-RTLS'\n",
       "256. 'GTEX-RU72'\n",
       "257. 'GTEX-RUSQ'\n",
       "258. 'GTEX-RVPV'\n",
       "259. 'GTEX-RWSA'\n",
       "260. 'GTEX-S32W'\n",
       "261. 'GTEX-S33H'\n",
       "262. 'GTEX-S4P3'\n",
       "263. 'GTEX-S7SE'\n",
       "264. 'GTEX-S95S'\n",
       "265. 'GTEX-SIU8'\n",
       "266. 'GTEX-SJXC'\n",
       "267. 'GTEX-SN8G'\n",
       "268. 'GTEX-SNMC'\n",
       "269. 'GTEX-SNOS'\n",
       "270. 'GTEX-SSA3'\n",
       "271. 'GTEX-SUCS'\n",
       "272. 'GTEX-T2IS'\n",
       "273. 'GTEX-T5JC'\n",
       "274. 'GTEX-T5JW'\n",
       "275. 'GTEX-T6MN'\n",
       "276. 'GTEX-T6MO'\n",
       "277. 'GTEX-T8EM'\n",
       "278. 'GTEX-TKQ1'\n",
       "279. 'GTEX-TML8'\n",
       "280. 'GTEX-TMZS'\n",
       "281. 'GTEX-TSE9'\n",
       "282. 'GTEX-U3ZM'\n",
       "283. 'GTEX-U3ZN'\n",
       "284. 'GTEX-U412'\n",
       "285. 'GTEX-U4B1'\n",
       "286. 'GTEX-U8XE'\n",
       "287. 'GTEX-UJHI'\n",
       "288. 'GTEX-UTHO'\n",
       "289. 'GTEX-VJWN'\n",
       "290. 'GTEX-VJYA'\n",
       "291. 'GTEX-VUSG'\n",
       "292. 'GTEX-VUSH'\n",
       "293. 'GTEX-W5WG'\n",
       "294. 'GTEX-W5X1'\n",
       "295. 'GTEX-WEY5'\n",
       "296. 'GTEX-WFG7'\n",
       "297. 'GTEX-WFG8'\n",
       "298. 'GTEX-WFJO'\n",
       "299. 'GTEX-WFON'\n",
       "300. 'GTEX-WH7G'\n",
       "301. 'GTEX-WHPG'\n",
       "302. 'GTEX-WI4N'\n",
       "303. 'GTEX-WL46'\n",
       "304. 'GTEX-WVJS'\n",
       "305. 'GTEX-WVLH'\n",
       "306. 'GTEX-WY7C'\n",
       "307. 'GTEX-WYJK'\n",
       "308. 'GTEX-X15G'\n",
       "309. 'GTEX-X261'\n",
       "310. 'GTEX-X4EO'\n",
       "311. 'GTEX-X4LF'\n",
       "312. 'GTEX-X4XY'\n",
       "313. 'GTEX-X5EB'\n",
       "314. 'GTEX-X638'\n",
       "315. 'GTEX-X88G'\n",
       "316. 'GTEX-X8HC'\n",
       "317. 'GTEX-XAJ8'\n",
       "318. 'GTEX-XBEC'\n",
       "319. 'GTEX-XBED'\n",
       "320. 'GTEX-XBEW'\n",
       "321. 'GTEX-XGQ4'\n",
       "322. 'GTEX-XK95'\n",
       "323. 'GTEX-XLM4'\n",
       "324. 'GTEX-XMD2'\n",
       "325. 'GTEX-XMK1'\n",
       "326. 'GTEX-XOT4'\n",
       "327. 'GTEX-XPVG'\n",
       "328. 'GTEX-XQ3S'\n",
       "329. 'GTEX-XQ8I'\n",
       "330. 'GTEX-XUW1'\n",
       "331. 'GTEX-XUYS'\n",
       "332. 'GTEX-XUZC'\n",
       "333. 'GTEX-XV7Q'\n",
       "334. 'GTEX-XXEK'\n",
       "335. 'GTEX-XYKS'\n",
       "336. 'GTEX-Y111'\n",
       "337. 'GTEX-Y114'\n",
       "338. 'GTEX-Y3I4'\n",
       "339. 'GTEX-Y3IK'\n",
       "340. 'GTEX-Y5V5'\n",
       "341. 'GTEX-Y5V6'\n",
       "342. 'GTEX-Y8E4'\n",
       "343. 'GTEX-Y8E5'\n",
       "344. 'GTEX-Y8LW'\n",
       "345. 'GTEX-Y9LG'\n",
       "346. 'GTEX-YB5E'\n",
       "347. 'GTEX-YB5K'\n",
       "348. 'GTEX-YEC3'\n",
       "349. 'GTEX-YEC4'\n",
       "350. 'GTEX-YECK'\n",
       "351. 'GTEX-YF7O'\n",
       "352. 'GTEX-YFC4'\n",
       "353. 'GTEX-YJ89'\n",
       "354. 'GTEX-YJ8A'\n",
       "355. 'GTEX-YJ8O'\n",
       "356. 'GTEX-Z93S'\n",
       "357. 'GTEX-Z93T'\n",
       "358. 'GTEX-Z9EW'\n",
       "359. 'GTEX-ZAJG'\n",
       "360. 'GTEX-ZAK1'\n",
       "361. 'GTEX-ZC5H'\n",
       "362. 'GTEX-ZDTS'\n",
       "363. 'GTEX-ZDTT'\n",
       "364. 'GTEX-ZDXO'\n",
       "365. 'GTEX-ZDYS'\n",
       "366. 'GTEX-ZE7O'\n",
       "367. 'GTEX-ZEX8'\n",
       "368. 'GTEX-ZF28'\n",
       "369. 'GTEX-ZF29'\n",
       "370. 'GTEX-ZF3C'\n",
       "371. 'GTEX-ZGAY'\n",
       "372. 'GTEX-ZLFU'\n",
       "373. 'GTEX-ZLV1'\n",
       "374. 'GTEX-ZLWG'\n",
       "375. 'GTEX-ZP4G'\n",
       "376. 'GTEX-ZPCL'\n",
       "377. 'GTEX-ZPIC'\n",
       "378. 'GTEX-ZPU1'\n",
       "379. 'GTEX-ZQG8'\n",
       "380. 'GTEX-ZT9X'\n",
       "381. 'GTEX-ZTPG'\n",
       "382. 'GTEX-ZTSS'\n",
       "383. 'GTEX-ZTX8'\n",
       "384. 'GTEX-ZUA1'\n",
       "385. 'GTEX-ZV68'\n",
       "386. 'GTEX-ZVE2'\n",
       "387. 'GTEX-ZVP2'\n",
       "388. 'GTEX-ZVT2'\n",
       "389. 'GTEX-ZVT4'\n",
       "390. 'GTEX-ZVZO'\n",
       "391. 'GTEX-ZVZP'\n",
       "392. 'GTEX-ZXES'\n",
       "393. 'GTEX-ZXG5'\n",
       "394. 'GTEX-ZYFC'\n",
       "395. 'GTEX-ZYFD'\n",
       "396. 'GTEX-ZYT6'\n",
       "397. 'GTEX-ZYVF'\n",
       "398. 'GTEX-ZYW4'\n",
       "399. 'GTEX-ZYY3'\n",
       "400. 'GTEX-ZZ64'\n",
       "401. 'GTEX-ZZPU'\n",
       "\n",
       "\n"
      ],
      "text/plain": [
       "  [1] \"GTEX-1117F\" \"GTEX-111CU\" \"GTEX-111FC\" \"GTEX-111VG\" \"GTEX-111YS\"\n",
       "  [6] \"GTEX-1122O\" \"GTEX-1128S\" \"GTEX-113IC\" \"GTEX-117YX\" \"GTEX-11DXX\"\n",
       " [11] \"GTEX-11DZ1\" \"GTEX-11EI6\" \"GTEX-11EM3\" \"GTEX-11EMC\" \"GTEX-11EQ8\"\n",
       " [16] \"GTEX-11EQ9\" \"GTEX-11GS4\" \"GTEX-11GSO\" \"GTEX-11I78\" \"GTEX-11LCK\"\n",
       " [21] \"GTEX-11NUK\" \"GTEX-11O72\" \"GTEX-11OF3\" \"GTEX-11ONC\" \"GTEX-11P7K\"\n",
       " [26] \"GTEX-11P81\" \"GTEX-11P82\" \"GTEX-11PRG\" \"GTEX-11TT1\" \"GTEX-11TTK\"\n",
       " [31] \"GTEX-11TUW\" \"GTEX-11UD1\" \"GTEX-11UD2\" \"GTEX-11WQC\" \"GTEX-11XUK\"\n",
       " [36] \"GTEX-11ZTS\" \"GTEX-11ZTT\" \"GTEX-11ZU8\" \"GTEX-11ZUS\" \"GTEX-11ZVC\"\n",
       " [41] \"GTEX-1211K\" \"GTEX-12126\" \"GTEX-1212Z\" \"GTEX-12584\" \"GTEX-12696\"\n",
       " [46] \"GTEX-1269C\" \"GTEX-12C56\" \"GTEX-12KS4\" \"GTEX-12WSA\" \"GTEX-12WSD\"\n",
       " [51] \"GTEX-12WSL\" \"GTEX-12WSM\" \"GTEX-12ZZX\" \"GTEX-12ZZY\" \"GTEX-12ZZZ\"\n",
       " [56] \"GTEX-13111\" \"GTEX-13112\" \"GTEX-13113\" \"GTEX-1313W\" \"GTEX-1314G\"\n",
       " [61] \"GTEX-131XE\" \"GTEX-131XF\" \"GTEX-131XW\" \"GTEX-131YS\" \"GTEX-132AR\"\n",
       " [66] \"GTEX-132QS\" \"GTEX-133LE\" \"GTEX-1399R\" \"GTEX-1399T\" \"GTEX-1399U\"\n",
       " [71] \"GTEX-139D8\" \"GTEX-139T4\" \"GTEX-139T6\" \"GTEX-139TT\" \"GTEX-139TU\"\n",
       " [76] \"GTEX-139YR\" \"GTEX-13CF2\" \"GTEX-13CF3\" \"GTEX-13D11\" \"GTEX-13FH7\"\n",
       " [81] \"GTEX-13FHO\" \"GTEX-13FHP\" \"GTEX-13FTW\" \"GTEX-13FTY\" \"GTEX-13G51\"\n",
       " [86] \"GTEX-13IVO\" \"GTEX-13JUV\" \"GTEX-13JVG\" \"GTEX-13N11\" \"GTEX-13N1W\"\n",
       " [91] \"GTEX-13N2G\" \"GTEX-13NYB\" \"GTEX-13NZ8\" \"GTEX-13NZ9\" \"GTEX-13NZA\"\n",
       " [96] \"GTEX-13NZB\" \"GTEX-13O21\" \"GTEX-13O3P\" \"GTEX-13O3Q\" \"GTEX-13O61\"\n",
       "[101] \"GTEX-13OVI\" \"GTEX-13OVJ\" \"GTEX-13OVK\" \"GTEX-13OVL\" \"GTEX-13OW6\"\n",
       "[106] \"GTEX-13OW7\" \"GTEX-13OW8\" \"GTEX-13PDP\" \"GTEX-13PLJ\" \"GTEX-13PVQ\"\n",
       "[111] \"GTEX-13PVR\" \"GTEX-13QBU\" \"GTEX-13QJ3\" \"GTEX-13RTJ\" \"GTEX-13S7M\"\n",
       "[116] \"GTEX-13SLW\" \"GTEX-13SLX\" \"GTEX-13U4I\" \"GTEX-13VXT\" \"GTEX-13VXU\"\n",
       "[121] \"GTEX-13W3W\" \"GTEX-13X6J\" \"GTEX-13X6K\" \"GTEX-13YAN\" \"GTEX-144FL\"\n",
       "[126] \"GTEX-144GL\" \"GTEX-144GM\" \"GTEX-145MF\" \"GTEX-145MG\" \"GTEX-145MI\"\n",
       "[131] \"GTEX-145MN\" \"GTEX-145MO\" \"GTEX-146FH\" \"GTEX-146FQ\" \"GTEX-146FR\"\n",
       "[136] \"GTEX-14753\" \"GTEX-147F3\" \"GTEX-147GR\" \"GTEX-147JS\" \"GTEX-148VI\"\n",
       "[141] \"GTEX-1497J\" \"GTEX-14A5H\" \"GTEX-14ABY\" \"GTEX-14AS3\" \"GTEX-14BIL\"\n",
       "[146] \"GTEX-14BIN\" \"GTEX-14BMU\" \"GTEX-14BMV\" \"GTEX-14C39\" \"GTEX-14C5O\"\n",
       "[151] \"GTEX-14DAQ\" \"GTEX-14DAR\" \"GTEX-14E1K\" \"GTEX-14E6C\" \"GTEX-14E6D\"\n",
       "[156] \"GTEX-14E6E\" \"GTEX-14H4A\" \"GTEX-14ICK\" \"GTEX-14JG1\" \"GTEX-14JG6\"\n",
       "[161] \"GTEX-14JIY\" \"GTEX-14LLW\" \"GTEX-14PHX\" \"GTEX-14PII\" \"GTEX-14PJ2\"\n",
       "[166] \"GTEX-14PJ3\" \"GTEX-14PJ4\" \"GTEX-14PJ6\" \"GTEX-14PJM\" \"GTEX-14PK6\"\n",
       "[171] \"GTEX-14PN3\" \"GTEX-15CHQ\" \"GTEX-15DCD\" \"GTEX-15DDE\" \"GTEX-15ER7\"\n",
       "[176] \"GTEX-15ETS\" \"GTEX-15G19\" \"GTEX-15RIE\" \"GTEX-15SDE\" \"GTEX-15UKP\"\n",
       "[181] \"GTEX-169BO\" \"GTEX-16AAH\" \"GTEX-16BQI\" \"GTEX-16GPK\" \"GTEX-16MT8\"\n",
       "[186] \"GTEX-16MTA\" \"GTEX-16NGA\" \"GTEX-16NPX\" \"GTEX-16XZY\" \"GTEX-16XZZ\"\n",
       "[191] \"GTEX-16YQH\" \"GTEX-17EUY\" \"GTEX-17EVP\" \"GTEX-17F96\" \"GTEX-17F97\"\n",
       "[196] \"GTEX-17F98\" \"GTEX-17F9Y\" \"GTEX-17HGU\" \"GTEX-17HHE\" \"GTEX-17HHY\"\n",
       "[201] \"GTEX-17HII\" \"GTEX-17KNJ\" \"GTEX-17MF6\" \"GTEX-17MFQ\" \"GTEX-183FY\"\n",
       "[206] \"GTEX-183WM\" \"GTEX-18465\" \"GTEX-18A66\" \"GTEX-18A67\" \"GTEX-18A6Q\"\n",
       "[211] \"GTEX-18A7A\" \"GTEX-18D9A\" \"GTEX-18D9U\" \"GTEX-18QFQ\" \"GTEX-1A32A\"\n",
       "[216] \"GTEX-1A3MV\" \"GTEX-1A3MW\" \"GTEX-1A3MX\" \"GTEX-1A8FM\" \"GTEX-1A8G6\"\n",
       "[221] \"GTEX-1A8G7\" \"GTEX-1AMEY\" \"GTEX-1AMFI\" \"GTEX-1AX9I\" \"GTEX-1AX9J\"\n",
       "[226] \"GTEX-1AX9K\" \"GTEX-1AYCT\" \"GTEX-1AYD5\" \"GTEX-1B8KE\" \"GTEX-1B8KZ\"\n",
       "[231] \"GTEX-1B8L1\" \"GTEX-1B8SF\" \"GTEX-1B8SG\" \"GTEX-1B932\" \"GTEX-1B933\"\n",
       "[236] \"GTEX-1B97I\" \"GTEX-1B996\" \"GTEX-1BAJH\" \"GTEX-1C2JI\" \"GTEX-1C475\"\n",
       "[241] \"GTEX-1C4CL\" \"GTEX-1C64O\" \"GTEX-1C6VQ\" \"GTEX-1C6VR\" \"GTEX-1C6WA\"\n",
       "[246] \"GTEX-1CAMQ\" \"GTEX-1CAMR\" \"GTEX-1CAMS\" \"GTEX-1CB4E\" \"GTEX-1CB4F\"\n",
       "[251] \"GTEX-1CB4G\" \"GTEX-1CB4H\" \"GTEX-1CB4I\" \"GTEX-1CB4J\" \"GTEX-1E1VI\"\n",
       "[256] \"GTEX-1E2YA\" \"GTEX-1EH9U\" \"GTEX-1EKGG\" \"GTEX-1EMGI\" \"GTEX-1EU9M\"\n",
       "[261] \"GTEX-1EWIQ\" \"GTEX-1EX96\" \"GTEX-1F48J\" \"GTEX-1F52S\" \"GTEX-1F5PK\"\n",
       "[266] \"GTEX-1F6I4\" \"GTEX-1F6RS\" \"GTEX-1F75A\" \"GTEX-1F75I\" \"GTEX-1F75W\"\n",
       "[271] \"GTEX-1F88E\" \"GTEX-1F88F\" \"GTEX-1FIGZ\" \"GTEX-1GF9V\" \"GTEX-1GF9X\"\n",
       "[276] \"GTEX-1GMR2\" \"GTEX-1GMR3\" \"GTEX-1GMR8\" \"GTEX-1GMRU\" \"GTEX-1GN1U\"\n",
       "[281] \"GTEX-1GN1V\" \"GTEX-1GN1W\" \"GTEX-1GN2E\" \"GTEX-1GN73\" \"GTEX-1GPI7\"\n",
       "[286] \"GTEX-1GTWX\" \"GTEX-1GZ2Q\" \"GTEX-1GZ4H\" \"GTEX-1GZ4I\" \"GTEX-1I4MK\"\n",
       "[291] \"GTEX-1I6K7\" \"GTEX-1ICG6\" \"GTEX-1ICLY\" \"GTEX-1ICLZ\" \"GTEX-1IDFM\"\n",
       "[296] \"GTEX-1IDJD\" \"GTEX-1IDJF\" \"GTEX-1JJ6O\" \"GTEX-1JKYN\" \"GTEX-1JKYR\"\n",
       "[301] \"GTEX-1JMLX\" \"GTEX-1JMPY\" \"GTEX-1JMQI\" \"GTEX-1JMQK\" \"GTEX-1JMQL\"\n",
       "[306] \"GTEX-1JN1M\" \"GTEX-1JN6P\" \"GTEX-1JN76\" \"GTEX-1K2DA\" \"GTEX-1K9T9\"\n",
       "[311] \"GTEX-1KAFJ\" \"GTEX-1KANA\" \"GTEX-1KD5A\" \"GTEX-1KWVE\" \"GTEX-1KXAM\"\n",
       "[316] \"GTEX-1L5NE\" \"GTEX-1LB8K\" \"GTEX-1LBAC\" \"GTEX-1LG7Y\" \"GTEX-1LG7Z\"\n",
       "[321] \"GTEX-1LGOU\" \"GTEX-1LGRB\" \"GTEX-1LH75\" \"GTEX-1LSNL\" \"GTEX-1LSNM\"\n",
       "[326] \"GTEX-1LSVX\" \"GTEX-1LVA9\" \"GTEX-1LVAN\" \"GTEX-1LVAO\" \"GTEX-1M5QR\"\n",
       "[331] \"GTEX-1MA7W\" \"GTEX-1MA7X\" \"GTEX-1MCC2\" \"GTEX-1MCYP\" \"GTEX-1MGNQ\"\n",
       "[336] \"GTEX-1MJK2\" \"GTEX-1MUQO\" \"GTEX-1N2DW\" \"GTEX-1N2EF\" \"GTEX-1NHNU\"\n",
       "[341] \"GTEX-1OFPY\" \"GTEX-1OJC4\" \"GTEX-1PBJI\" \"GTEX-1PDJ9\" \"GTEX-1PFEY\"\n",
       "[346] \"GTEX-1PIGE\" \"GTEX-1PIIG\" \"GTEX-1POEN\" \"GTEX-1PPGY\" \"GTEX-1PPH8\"\n",
       "[351] \"GTEX-1PWST\" \"GTEX-1QAET\" \"GTEX-1QCLY\" \"GTEX-1QEPI\" \"GTEX-1QP28\"\n",
       "[356] \"GTEX-1QP29\" \"GTEX-1QP2A\" \"GTEX-1QP66\" \"GTEX-1QP67\" \"GTEX-1QP6S\"\n",
       "[361] \"GTEX-1QP9N\" \"GTEX-1QPFJ\" \"GTEX-1QW4Y\" \"GTEX-1R46S\" \"GTEX-1R7EU\"\n",
       "[366] \"GTEX-1R7EV\" \"GTEX-1R9K5\" \"GTEX-1R9PM\" \"GTEX-1RAZA\" \"GTEX-1RAZQ\"\n",
       "[371] \"GTEX-1RAZR\" \"GTEX-1RQEC\" \"GTEX-1S5ZU\" \"GTEX-1S82P\" \"GTEX-1S831\"\n",
       "[376] \"GTEX-1S83E\" \"GTEX-N7MS\"  \"GTEX-NFK9\"  \"GTEX-NPJ8\"  \"GTEX-O5YT\" \n",
       "[381] \"GTEX-O5YV\"  \"GTEX-OHPM\"  \"GTEX-OHPN\"  \"GTEX-OIZF\"  \"GTEX-OIZG\" \n",
       "[386] \"GTEX-OIZH\"  \"GTEX-OIZI\"  \"GTEX-OOBJ\"  \"GTEX-OOBK\"  \"GTEX-OXRK\" \n",
       "[391] \"GTEX-OXRL\"  \"GTEX-OXRN\"  \"GTEX-OXRO\"  \"GTEX-OXRP\"  \"GTEX-P44G\" \n",
       "[396] \"GTEX-P44H\"  \"GTEX-P4PP\"  \"GTEX-P4PQ\"  \"GTEX-P4QS\"  \"GTEX-P4QT\" \n",
       "[401] \"GTEX-P78B\"  \"GTEX-PLZ4\"  \"GTEX-PLZ5\"  \"GTEX-PLZ6\"  \"GTEX-POMQ\" \n",
       "[406] \"GTEX-POYW\"  \"GTEX-PSDG\"  \"GTEX-PWCY\"  \"GTEX-PWN1\"  \"GTEX-PX3G\" \n",
       "[411] \"GTEX-Q2AG\"  \"GTEX-Q2AH\"  \"GTEX-Q2AI\"  \"GTEX-Q734\"  \"GTEX-QCQG\" \n",
       "[416] \"GTEX-QDT8\"  \"GTEX-QDVJ\"  \"GTEX-QDVN\"  \"GTEX-QEG4\"  \"GTEX-QEG5\" \n",
       "[421] \"GTEX-QEL4\"  \"GTEX-QESD\"  \"GTEX-QLQ7\"  \"GTEX-QMRM\"  \"GTEX-QV31\" \n",
       "[426] \"GTEX-QV44\"  \"GTEX-R3RS\"  \"GTEX-R53T\"  \"GTEX-R55C\"  \"GTEX-R55D\" \n",
       "[431] \"GTEX-R55G\"  \"GTEX-REY6\"  \"GTEX-RM2N\"  \"GTEX-RNOR\"  \"GTEX-RTLS\" \n",
       "[436] \"GTEX-RU72\"  \"GTEX-RUSQ\"  \"GTEX-RVPV\"  \"GTEX-RWSA\"  \"GTEX-S32W\" \n",
       "[441] \"GTEX-S33H\"  \"GTEX-S4P3\"  \"GTEX-S7SE\"  \"GTEX-S95S\"  \"GTEX-SIU8\" \n",
       "[446] \"GTEX-SJXC\"  \"GTEX-SN8G\"  \"GTEX-SNMC\"  \"GTEX-SNOS\"  \"GTEX-SSA3\" \n",
       "[451] \"GTEX-SUCS\"  \"GTEX-T2IS\"  \"GTEX-T5JC\"  \"GTEX-T5JW\"  \"GTEX-T6MN\" \n",
       "[456] \"GTEX-T6MO\"  \"GTEX-T8EM\"  \"GTEX-TKQ1\"  \"GTEX-TML8\"  \"GTEX-TMZS\" \n",
       "[461] \"GTEX-TSE9\"  \"GTEX-U3ZM\"  \"GTEX-U3ZN\"  \"GTEX-U412\"  \"GTEX-U4B1\" \n",
       "[466] \"GTEX-U8XE\"  \"GTEX-UJHI\"  \"GTEX-UTHO\"  \"GTEX-VJWN\"  \"GTEX-VJYA\" \n",
       "[471] \"GTEX-VUSG\"  \"GTEX-VUSH\"  \"GTEX-W5WG\"  \"GTEX-W5X1\"  \"GTEX-WEY5\" \n",
       "[476] \"GTEX-WFG7\"  \"GTEX-WFG8\"  \"GTEX-WFJO\"  \"GTEX-WFON\"  \"GTEX-WH7G\" \n",
       "[481] \"GTEX-WHPG\"  \"GTEX-WI4N\"  \"GTEX-WL46\"  \"GTEX-WVJS\"  \"GTEX-WVLH\" \n",
       "[486] \"GTEX-WY7C\"  \"GTEX-WYJK\"  \"GTEX-X15G\"  \"GTEX-X261\"  \"GTEX-X4EO\" \n",
       "[491] \"GTEX-X4LF\"  \"GTEX-X4XY\"  \"GTEX-X5EB\"  \"GTEX-X638\"  \"GTEX-X88G\" \n",
       "[496] \"GTEX-X8HC\"  \"GTEX-XAJ8\"  \"GTEX-XBEC\"  \"GTEX-XBED\"  \"GTEX-XBEW\" \n",
       "[501] \"GTEX-XGQ4\"  \"GTEX-XK95\"  \"GTEX-XLM4\"  \"GTEX-XMD2\"  \"GTEX-XMK1\" \n",
       "[506] \"GTEX-XOT4\"  \"GTEX-XPVG\"  \"GTEX-XQ3S\"  \"GTEX-XQ8I\"  \"GTEX-XUW1\" \n",
       "[511] \"GTEX-XUYS\"  \"GTEX-XUZC\"  \"GTEX-XV7Q\"  \"GTEX-XXEK\"  \"GTEX-XYKS\" \n",
       "[516] \"GTEX-Y111\"  \"GTEX-Y114\"  \"GTEX-Y3I4\"  \"GTEX-Y3IK\"  \"GTEX-Y5V5\" \n",
       "[521] \"GTEX-Y5V6\"  \"GTEX-Y8E4\"  \"GTEX-Y8E5\"  \"GTEX-Y8LW\"  \"GTEX-Y9LG\" \n",
       "[526] \"GTEX-YB5E\"  \"GTEX-YB5K\"  \"GTEX-YEC3\"  \"GTEX-YEC4\"  \"GTEX-YECK\" \n",
       "[531] \"GTEX-YF7O\"  \"GTEX-YFC4\"  \"GTEX-YJ89\"  \"GTEX-YJ8A\"  \"GTEX-YJ8O\" \n",
       "[536] \"GTEX-Z93S\"  \"GTEX-Z93T\"  \"GTEX-Z9EW\"  \"GTEX-ZAJG\"  \"GTEX-ZAK1\" \n",
       "[541] \"GTEX-ZC5H\"  \"GTEX-ZDTS\"  \"GTEX-ZDTT\"  \"GTEX-ZDXO\"  \"GTEX-ZDYS\" \n",
       "[546] \"GTEX-ZE7O\"  \"GTEX-ZEX8\"  \"GTEX-ZF28\"  \"GTEX-ZF29\"  \"GTEX-ZF3C\" \n",
       "[551] \"GTEX-ZGAY\"  \"GTEX-ZLFU\"  \"GTEX-ZLV1\"  \"GTEX-ZLWG\"  \"GTEX-ZP4G\" \n",
       "[556] \"GTEX-ZPCL\"  \"GTEX-ZPIC\"  \"GTEX-ZPU1\"  \"GTEX-ZQG8\"  \"GTEX-ZT9X\" \n",
       "[561] \"GTEX-ZTPG\"  \"GTEX-ZTSS\"  \"GTEX-ZTX8\"  \"GTEX-ZUA1\"  \"GTEX-ZV68\" \n",
       "[566] \"GTEX-ZVE2\"  \"GTEX-ZVP2\"  \"GTEX-ZVT2\"  \"GTEX-ZVT4\"  \"GTEX-ZVZO\" \n",
       "[571] \"GTEX-ZVZP\"  \"GTEX-ZXES\"  \"GTEX-ZXG5\"  \"GTEX-ZYFC\"  \"GTEX-ZYFD\" \n",
       "[576] \"GTEX-ZYT6\"  \"GTEX-ZYVF\"  \"GTEX-ZYW4\"  \"GTEX-ZYY3\"  \"GTEX-ZZ64\" \n",
       "[581] \"GTEX-ZZPU\" "
      ]
     },
     "metadata": {},
     "output_type": "display_data"
    }
   ],
   "source": [
    "tissue_idx[[tissue_vec[1]]]"
   ]
  },
  {
   "cell_type": "code",
   "execution_count": 8,
   "metadata": {},
   "outputs": [
    {
     "data": {
      "text/html": [
       "<style>\n",
       ".list-inline {list-style: none; margin:0; padding: 0}\n",
       ".list-inline>li {display: inline-block}\n",
       ".list-inline>li:not(:last-child)::after {content: \"\\00b7\"; padding: 0 .5ex}\n",
       "</style>\n",
       "<ol class=list-inline><li>'GTEX-1117F'</li><li>'GTEX-1117F'</li><li>'GTEX-1117F'</li><li>'GTEX-1117F'</li><li>'GTEX-1117F'</li><li>'GTEX-1117F'</li><li>'GTEX-1117F'</li><li>'GTEX-1117F'</li></ol>\n"
      ],
      "text/latex": [
       "\\begin{enumerate*}\n",
       "\\item 'GTEX-1117F'\n",
       "\\item 'GTEX-1117F'\n",
       "\\item 'GTEX-1117F'\n",
       "\\item 'GTEX-1117F'\n",
       "\\item 'GTEX-1117F'\n",
       "\\item 'GTEX-1117F'\n",
       "\\item 'GTEX-1117F'\n",
       "\\item 'GTEX-1117F'\n",
       "\\end{enumerate*}\n"
      ],
      "text/markdown": [
       "1. 'GTEX-1117F'\n",
       "2. 'GTEX-1117F'\n",
       "3. 'GTEX-1117F'\n",
       "4. 'GTEX-1117F'\n",
       "5. 'GTEX-1117F'\n",
       "6. 'GTEX-1117F'\n",
       "7. 'GTEX-1117F'\n",
       "8. 'GTEX-1117F'\n",
       "\n",
       "\n"
      ],
      "text/plain": [
       "[1] \"GTEX-1117F\" \"GTEX-1117F\" \"GTEX-1117F\" \"GTEX-1117F\" \"GTEX-1117F\"\n",
       "[6] \"GTEX-1117F\" \"GTEX-1117F\" \"GTEX-1117F\""
      ]
     },
     "metadata": {},
     "output_type": "display_data"
    }
   ],
   "source": [
    "substr(colnames(exp_df)[3:10], 1, 10)"
   ]
  },
  {
   "cell_type": "code",
   "execution_count": 9,
   "metadata": {},
   "outputs": [],
   "source": [
    "anno_df <- fread(\"/ysm-gpfs/pi/zhao-data/zy92/GTEx_V8/biobank_collection_20200909_070401.txt\")"
   ]
  },
  {
   "cell_type": "code",
   "execution_count": 10,
   "metadata": {},
   "outputs": [
    {
     "data": {
      "text/html": [
       "<table>\n",
       "<caption>A data.table: 6 × 19</caption>\n",
       "<thead>\n",
       "\t<tr><th scope=col>materialType</th><th scope=col>originalMaterialType</th><th scope=col>tissueSiteDetail</th><th scope=col>sex</th><th scope=col>ageBracket</th><th scope=col>hardyScale</th><th scope=col>brainTissueDonor</th><th scope=col>autolysisScore</th><th scope=col>rin</th><th scope=col>sampleId</th><th scope=col>tissueSampleId</th><th scope=col>subjectId</th><th scope=col>amount</th><th scope=col>volume</th><th scope=col>concentration</th><th scope=col>mass</th><th scope=col>pathologyNotes</th><th scope=col>hasExpressionData</th><th scope=col>hasGenotype</th></tr>\n",
       "\t<tr><th scope=col>&lt;chr&gt;</th><th scope=col>&lt;chr&gt;</th><th scope=col>&lt;chr&gt;</th><th scope=col>&lt;chr&gt;</th><th scope=col>&lt;chr&gt;</th><th scope=col>&lt;chr&gt;</th><th scope=col>&lt;lgl&gt;</th><th scope=col>&lt;lgl&gt;</th><th scope=col>&lt;dbl&gt;</th><th scope=col>&lt;chr&gt;</th><th scope=col>&lt;chr&gt;</th><th scope=col>&lt;chr&gt;</th><th scope=col>&lt;dbl&gt;</th><th scope=col>&lt;dbl&gt;</th><th scope=col>&lt;dbl&gt;</th><th scope=col>&lt;dbl&gt;</th><th scope=col>&lt;chr&gt;</th><th scope=col>&lt;lgl&gt;</th><th scope=col>&lt;lgl&gt;</th></tr>\n",
       "</thead>\n",
       "<tbody>\n",
       "\t<tr><td>DNA:DNA Genomic       </td><td>Whole Blood:Whole Blood      </td><td>Whole Blood                        </td><td>male  </td><td>50-59</td><td>Ventilator case            </td><td>FALSE</td><td>NA</td><td>      NA</td><td>GTEX-WYJK-0001-SM-3E5QC </td><td>GTEX-WYJK-0001 </td><td>GTEX-WYJK </td><td> 9813.246</td><td>491.42746</td><td> 19.96886</td><td> 0</td><td></td><td>FALSE</td><td> TRUE</td></tr>\n",
       "\t<tr><td>DNA:DNA Genomic       </td><td>Whole Blood:Whole Blood      </td><td>Whole Blood                        </td><td>female</td><td>40-49</td><td>Ventilator case            </td><td>FALSE</td><td>NA</td><td>      NA</td><td>GTEX-YB5K-0002-SM-3T6OW </td><td>GTEX-YB5K-0002 </td><td>GTEX-YB5K </td><td>72758.720</td><td>582.06976</td><td>125.00000</td><td> 0</td><td></td><td>FALSE</td><td>FALSE</td></tr>\n",
       "\t<tr><td>Cells:Cell Line Viable</td><td>Tissue:Fresh Tissue          </td><td>Cells - Transformed fibroblasts    </td><td>male  </td><td>50-59</td><td>Fast death - natural causes</td><td> TRUE</td><td>NA</td><td>      NA</td><td>GTEX-13112-0008-SM-4VDIJ</td><td>GTEX-13112-0008</td><td>GTEX-13112</td><td>    0.000</td><td>  0.00000</td><td>  0.00000</td><td> 0</td><td></td><td> TRUE</td><td> TRUE</td></tr>\n",
       "\t<tr><td>Cells:Cell Line Viable</td><td>Whole Blood:Whole Blood      </td><td>Cells - EBV-transformed lymphocytes</td><td>male  </td><td>50-59</td><td>Ventilator case            </td><td>FALSE</td><td>NA</td><td>      NA</td><td>GTEX-XXEK-0004-SM-43PHD </td><td>GTEX-XXEK-0004 </td><td>GTEX-XXEK </td><td>    0.000</td><td>  0.00000</td><td>  0.00000</td><td> 0</td><td></td><td> TRUE</td><td> TRUE</td></tr>\n",
       "\t<tr><td>Cells:Cell Line Viable</td><td>Whole Blood:Whole Blood      </td><td>Cells - EBV-transformed lymphocytes</td><td>male  </td><td>60-69</td><td>Intermediate death         </td><td>FALSE</td><td>NA</td><td>      NA</td><td>GTEX-ZYW4-0001-SM-5Q68K </td><td>GTEX-ZYW4-0001 </td><td>GTEX-ZYW4 </td><td>    0.000</td><td>  0.00000</td><td>  0.00000</td><td> 0</td><td></td><td>FALSE</td><td> TRUE</td></tr>\n",
       "\t<tr><td>RNA:Total RNA         </td><td>Whole Blood:PAXgene Preserved</td><td>Whole Blood                        </td><td>male  </td><td>50-59</td><td>Intermediate death         </td><td> TRUE</td><td>NA</td><td>8.761578</td><td>GTEX-ZYFD-0005-SM-4BS7Y </td><td>GTEX-ZYFD-0005 </td><td>GTEX-ZYFD </td><td>14946.000</td><td> 62.90404</td><td>237.60000</td><td>NA</td><td></td><td>FALSE</td><td> TRUE</td></tr>\n",
       "</tbody>\n",
       "</table>\n"
      ],
      "text/latex": [
       "A data.table: 6 × 19\n",
       "\\begin{tabular}{lllllllllllllllllll}\n",
       " materialType & originalMaterialType & tissueSiteDetail & sex & ageBracket & hardyScale & brainTissueDonor & autolysisScore & rin & sampleId & tissueSampleId & subjectId & amount & volume & concentration & mass & pathologyNotes & hasExpressionData & hasGenotype\\\\\n",
       " <chr> & <chr> & <chr> & <chr> & <chr> & <chr> & <lgl> & <lgl> & <dbl> & <chr> & <chr> & <chr> & <dbl> & <dbl> & <dbl> & <dbl> & <chr> & <lgl> & <lgl>\\\\\n",
       "\\hline\n",
       "\t DNA:DNA Genomic        & Whole Blood:Whole Blood       & Whole Blood                         & male   & 50-59 & Ventilator case             & FALSE & NA &       NA & GTEX-WYJK-0001-SM-3E5QC  & GTEX-WYJK-0001  & GTEX-WYJK  &  9813.246 & 491.42746 &  19.96886 &  0 &  & FALSE &  TRUE\\\\\n",
       "\t DNA:DNA Genomic        & Whole Blood:Whole Blood       & Whole Blood                         & female & 40-49 & Ventilator case             & FALSE & NA &       NA & GTEX-YB5K-0002-SM-3T6OW  & GTEX-YB5K-0002  & GTEX-YB5K  & 72758.720 & 582.06976 & 125.00000 &  0 &  & FALSE & FALSE\\\\\n",
       "\t Cells:Cell Line Viable & Tissue:Fresh Tissue           & Cells - Transformed fibroblasts     & male   & 50-59 & Fast death - natural causes &  TRUE & NA &       NA & GTEX-13112-0008-SM-4VDIJ & GTEX-13112-0008 & GTEX-13112 &     0.000 &   0.00000 &   0.00000 &  0 &  &  TRUE &  TRUE\\\\\n",
       "\t Cells:Cell Line Viable & Whole Blood:Whole Blood       & Cells - EBV-transformed lymphocytes & male   & 50-59 & Ventilator case             & FALSE & NA &       NA & GTEX-XXEK-0004-SM-43PHD  & GTEX-XXEK-0004  & GTEX-XXEK  &     0.000 &   0.00000 &   0.00000 &  0 &  &  TRUE &  TRUE\\\\\n",
       "\t Cells:Cell Line Viable & Whole Blood:Whole Blood       & Cells - EBV-transformed lymphocytes & male   & 60-69 & Intermediate death          & FALSE & NA &       NA & GTEX-ZYW4-0001-SM-5Q68K  & GTEX-ZYW4-0001  & GTEX-ZYW4  &     0.000 &   0.00000 &   0.00000 &  0 &  & FALSE &  TRUE\\\\\n",
       "\t RNA:Total RNA          & Whole Blood:PAXgene Preserved & Whole Blood                         & male   & 50-59 & Intermediate death          &  TRUE & NA & 8.761578 & GTEX-ZYFD-0005-SM-4BS7Y  & GTEX-ZYFD-0005  & GTEX-ZYFD  & 14946.000 &  62.90404 & 237.60000 & NA &  & FALSE &  TRUE\\\\\n",
       "\\end{tabular}\n"
      ],
      "text/markdown": [
       "\n",
       "A data.table: 6 × 19\n",
       "\n",
       "| materialType &lt;chr&gt; | originalMaterialType &lt;chr&gt; | tissueSiteDetail &lt;chr&gt; | sex &lt;chr&gt; | ageBracket &lt;chr&gt; | hardyScale &lt;chr&gt; | brainTissueDonor &lt;lgl&gt; | autolysisScore &lt;lgl&gt; | rin &lt;dbl&gt; | sampleId &lt;chr&gt; | tissueSampleId &lt;chr&gt; | subjectId &lt;chr&gt; | amount &lt;dbl&gt; | volume &lt;dbl&gt; | concentration &lt;dbl&gt; | mass &lt;dbl&gt; | pathologyNotes &lt;chr&gt; | hasExpressionData &lt;lgl&gt; | hasGenotype &lt;lgl&gt; |\n",
       "|---|---|---|---|---|---|---|---|---|---|---|---|---|---|---|---|---|---|---|\n",
       "| DNA:DNA Genomic        | Whole Blood:Whole Blood       | Whole Blood                         | male   | 50-59 | Ventilator case             | FALSE | NA |       NA | GTEX-WYJK-0001-SM-3E5QC  | GTEX-WYJK-0001  | GTEX-WYJK  |  9813.246 | 491.42746 |  19.96886 |  0 | <!----> | FALSE |  TRUE |\n",
       "| DNA:DNA Genomic        | Whole Blood:Whole Blood       | Whole Blood                         | female | 40-49 | Ventilator case             | FALSE | NA |       NA | GTEX-YB5K-0002-SM-3T6OW  | GTEX-YB5K-0002  | GTEX-YB5K  | 72758.720 | 582.06976 | 125.00000 |  0 | <!----> | FALSE | FALSE |\n",
       "| Cells:Cell Line Viable | Tissue:Fresh Tissue           | Cells - Transformed fibroblasts     | male   | 50-59 | Fast death - natural causes |  TRUE | NA |       NA | GTEX-13112-0008-SM-4VDIJ | GTEX-13112-0008 | GTEX-13112 |     0.000 |   0.00000 |   0.00000 |  0 | <!----> |  TRUE |  TRUE |\n",
       "| Cells:Cell Line Viable | Whole Blood:Whole Blood       | Cells - EBV-transformed lymphocytes | male   | 50-59 | Ventilator case             | FALSE | NA |       NA | GTEX-XXEK-0004-SM-43PHD  | GTEX-XXEK-0004  | GTEX-XXEK  |     0.000 |   0.00000 |   0.00000 |  0 | <!----> |  TRUE |  TRUE |\n",
       "| Cells:Cell Line Viable | Whole Blood:Whole Blood       | Cells - EBV-transformed lymphocytes | male   | 60-69 | Intermediate death          | FALSE | NA |       NA | GTEX-ZYW4-0001-SM-5Q68K  | GTEX-ZYW4-0001  | GTEX-ZYW4  |     0.000 |   0.00000 |   0.00000 |  0 | <!----> | FALSE |  TRUE |\n",
       "| RNA:Total RNA          | Whole Blood:PAXgene Preserved | Whole Blood                         | male   | 50-59 | Intermediate death          |  TRUE | NA | 8.761578 | GTEX-ZYFD-0005-SM-4BS7Y  | GTEX-ZYFD-0005  | GTEX-ZYFD  | 14946.000 |  62.90404 | 237.60000 | NA | <!----> | FALSE |  TRUE |\n",
       "\n"
      ],
      "text/plain": [
       "  materialType           originalMaterialType         \n",
       "1 DNA:DNA Genomic        Whole Blood:Whole Blood      \n",
       "2 DNA:DNA Genomic        Whole Blood:Whole Blood      \n",
       "3 Cells:Cell Line Viable Tissue:Fresh Tissue          \n",
       "4 Cells:Cell Line Viable Whole Blood:Whole Blood      \n",
       "5 Cells:Cell Line Viable Whole Blood:Whole Blood      \n",
       "6 RNA:Total RNA          Whole Blood:PAXgene Preserved\n",
       "  tissueSiteDetail                    sex    ageBracket\n",
       "1 Whole Blood                         male   50-59     \n",
       "2 Whole Blood                         female 40-49     \n",
       "3 Cells - Transformed fibroblasts     male   50-59     \n",
       "4 Cells - EBV-transformed lymphocytes male   50-59     \n",
       "5 Cells - EBV-transformed lymphocytes male   60-69     \n",
       "6 Whole Blood                         male   50-59     \n",
       "  hardyScale                  brainTissueDonor autolysisScore rin     \n",
       "1 Ventilator case             FALSE            NA                   NA\n",
       "2 Ventilator case             FALSE            NA                   NA\n",
       "3 Fast death - natural causes  TRUE            NA                   NA\n",
       "4 Ventilator case             FALSE            NA                   NA\n",
       "5 Intermediate death          FALSE            NA                   NA\n",
       "6 Intermediate death           TRUE            NA             8.761578\n",
       "  sampleId                 tissueSampleId  subjectId  amount    volume   \n",
       "1 GTEX-WYJK-0001-SM-3E5QC  GTEX-WYJK-0001  GTEX-WYJK   9813.246 491.42746\n",
       "2 GTEX-YB5K-0002-SM-3T6OW  GTEX-YB5K-0002  GTEX-YB5K  72758.720 582.06976\n",
       "3 GTEX-13112-0008-SM-4VDIJ GTEX-13112-0008 GTEX-13112     0.000   0.00000\n",
       "4 GTEX-XXEK-0004-SM-43PHD  GTEX-XXEK-0004  GTEX-XXEK      0.000   0.00000\n",
       "5 GTEX-ZYW4-0001-SM-5Q68K  GTEX-ZYW4-0001  GTEX-ZYW4      0.000   0.00000\n",
       "6 GTEX-ZYFD-0005-SM-4BS7Y  GTEX-ZYFD-0005  GTEX-ZYFD  14946.000  62.90404\n",
       "  concentration mass pathologyNotes hasExpressionData hasGenotype\n",
       "1  19.96886      0                  FALSE              TRUE      \n",
       "2 125.00000      0                  FALSE             FALSE      \n",
       "3   0.00000      0                   TRUE              TRUE      \n",
       "4   0.00000      0                   TRUE              TRUE      \n",
       "5   0.00000      0                  FALSE              TRUE      \n",
       "6 237.60000     NA                  FALSE              TRUE      "
      ]
     },
     "metadata": {},
     "output_type": "display_data"
    }
   ],
   "source": [
    "head(anno_df)"
   ]
  },
  {
   "cell_type": "code",
   "execution_count": 11,
   "metadata": {},
   "outputs": [
    {
     "data": {
      "text/html": [
       "53"
      ],
      "text/latex": [
       "53"
      ],
      "text/markdown": [
       "53"
      ],
      "text/plain": [
       "[1] 53"
      ]
     },
     "metadata": {},
     "output_type": "display_data"
    }
   ],
   "source": [
    "length(table(anno_df$tissueSiteDetail))"
   ]
  },
  {
   "cell_type": "code",
   "execution_count": 12,
   "metadata": {},
   "outputs": [],
   "source": [
    "anno_list <- split(anno_df, f = anno_df$tissueSiteDetail )"
   ]
  },
  {
   "cell_type": "code",
   "execution_count": 13,
   "metadata": {},
   "outputs": [
    {
     "data": {
      "text/html": [
       "53"
      ],
      "text/latex": [
       "53"
      ],
      "text/markdown": [
       "53"
      ],
      "text/plain": [
       "[1] 53"
      ]
     },
     "metadata": {},
     "output_type": "display_data"
    }
   ],
   "source": [
    "length(anno_list)"
   ]
  },
  {
   "cell_type": "code",
   "execution_count": 14,
   "metadata": {},
   "outputs": [
    {
     "data": {
      "text/html": [
       "<style>\n",
       ".list-inline {list-style: none; margin:0; padding: 0}\n",
       ".list-inline>li {display: inline-block}\n",
       ".list-inline>li:not(:last-child)::after {content: \"\\00b7\"; padding: 0 .5ex}\n",
       "</style>\n",
       "<ol class=list-inline><li>'Whole Blood'</li><li>'Cells - Transformed fibroblasts'</li><li>'Cells - EBV-transformed lymphocytes'</li><li>'Minor Salivary Gland'</li><li>'Lung'</li><li>'Skin - Sun Exposed (Lower leg)'</li><li>'Esophagus - Gastroesophageal Junction'</li><li>'Heart - Atrial Appendage'</li><li>'Nerve - Tibial'</li><li>'Breast - Mammary Tissue'</li><li>'Heart - Left Ventricle'</li><li>'Artery - Aorta'</li><li>'Thyroid'</li><li>'Colon - Sigmoid'</li><li>'Adipose - Visceral (Omentum)'</li><li>'Uterus'</li><li>'Spleen'</li><li>'Small Intestine - Terminal Ileum'</li><li>'Vagina'</li><li>'Kidney - Cortex'</li><li>'Prostate'</li><li>'Pancreas'</li><li>'Muscle - Skeletal'</li><li>'Colon - Transverse'</li><li>'Liver'</li><li>'Adrenal Gland'</li><li>'Artery - Coronary'</li><li>'Artery - Tibial'</li><li>'Esophagus - Muscularis'</li><li>'Testis'</li><li>'Skin - Not Sun Exposed (Suprapubic)'</li><li>'Brain - Cerebellum'</li><li>'Cervix - Ectocervix'</li><li>'Brain - Hypothalamus'</li><li>'Brain - Amygdala'</li><li>'Brain - Spinal cord (cervical c-1)'</li><li>'Brain - Cortex'</li><li>'Adipose - Subcutaneous'</li><li>'Esophagus - Mucosa'</li><li>'Pituitary'</li><li>'Brain - Hippocampus'</li><li>'Brain - Substantia nigra'</li><li>'Brain - Cerebellar Hemisphere'</li><li>'Stomach'</li><li>'Bladder'</li><li>'Brain - Anterior cingulate cortex (BA24)'</li><li>'Ovary'</li><li>'Brain - Nucleus accumbens (basal ganglia)'</li><li>'Brain - Caudate (basal ganglia)'</li><li>'Brain - Frontal Cortex (BA9)'</li><li>'Brain - Putamen (basal ganglia)'</li><li>'Cervix - Endocervix'</li><li>'Fallopian Tube'</li></ol>\n"
      ],
      "text/latex": [
       "\\begin{enumerate*}\n",
       "\\item 'Whole Blood'\n",
       "\\item 'Cells - Transformed fibroblasts'\n",
       "\\item 'Cells - EBV-transformed lymphocytes'\n",
       "\\item 'Minor Salivary Gland'\n",
       "\\item 'Lung'\n",
       "\\item 'Skin - Sun Exposed (Lower leg)'\n",
       "\\item 'Esophagus - Gastroesophageal Junction'\n",
       "\\item 'Heart - Atrial Appendage'\n",
       "\\item 'Nerve - Tibial'\n",
       "\\item 'Breast - Mammary Tissue'\n",
       "\\item 'Heart - Left Ventricle'\n",
       "\\item 'Artery - Aorta'\n",
       "\\item 'Thyroid'\n",
       "\\item 'Colon - Sigmoid'\n",
       "\\item 'Adipose - Visceral (Omentum)'\n",
       "\\item 'Uterus'\n",
       "\\item 'Spleen'\n",
       "\\item 'Small Intestine - Terminal Ileum'\n",
       "\\item 'Vagina'\n",
       "\\item 'Kidney - Cortex'\n",
       "\\item 'Prostate'\n",
       "\\item 'Pancreas'\n",
       "\\item 'Muscle - Skeletal'\n",
       "\\item 'Colon - Transverse'\n",
       "\\item 'Liver'\n",
       "\\item 'Adrenal Gland'\n",
       "\\item 'Artery - Coronary'\n",
       "\\item 'Artery - Tibial'\n",
       "\\item 'Esophagus - Muscularis'\n",
       "\\item 'Testis'\n",
       "\\item 'Skin - Not Sun Exposed (Suprapubic)'\n",
       "\\item 'Brain - Cerebellum'\n",
       "\\item 'Cervix - Ectocervix'\n",
       "\\item 'Brain - Hypothalamus'\n",
       "\\item 'Brain - Amygdala'\n",
       "\\item 'Brain - Spinal cord (cervical c-1)'\n",
       "\\item 'Brain - Cortex'\n",
       "\\item 'Adipose - Subcutaneous'\n",
       "\\item 'Esophagus - Mucosa'\n",
       "\\item 'Pituitary'\n",
       "\\item 'Brain - Hippocampus'\n",
       "\\item 'Brain - Substantia nigra'\n",
       "\\item 'Brain - Cerebellar Hemisphere'\n",
       "\\item 'Stomach'\n",
       "\\item 'Bladder'\n",
       "\\item 'Brain - Anterior cingulate cortex (BA24)'\n",
       "\\item 'Ovary'\n",
       "\\item 'Brain - Nucleus accumbens (basal ganglia)'\n",
       "\\item 'Brain - Caudate (basal ganglia)'\n",
       "\\item 'Brain - Frontal Cortex (BA9)'\n",
       "\\item 'Brain - Putamen (basal ganglia)'\n",
       "\\item 'Cervix - Endocervix'\n",
       "\\item 'Fallopian Tube'\n",
       "\\end{enumerate*}\n"
      ],
      "text/markdown": [
       "1. 'Whole Blood'\n",
       "2. 'Cells - Transformed fibroblasts'\n",
       "3. 'Cells - EBV-transformed lymphocytes'\n",
       "4. 'Minor Salivary Gland'\n",
       "5. 'Lung'\n",
       "6. 'Skin - Sun Exposed (Lower leg)'\n",
       "7. 'Esophagus - Gastroesophageal Junction'\n",
       "8. 'Heart - Atrial Appendage'\n",
       "9. 'Nerve - Tibial'\n",
       "10. 'Breast - Mammary Tissue'\n",
       "11. 'Heart - Left Ventricle'\n",
       "12. 'Artery - Aorta'\n",
       "13. 'Thyroid'\n",
       "14. 'Colon - Sigmoid'\n",
       "15. 'Adipose - Visceral (Omentum)'\n",
       "16. 'Uterus'\n",
       "17. 'Spleen'\n",
       "18. 'Small Intestine - Terminal Ileum'\n",
       "19. 'Vagina'\n",
       "20. 'Kidney - Cortex'\n",
       "21. 'Prostate'\n",
       "22. 'Pancreas'\n",
       "23. 'Muscle - Skeletal'\n",
       "24. 'Colon - Transverse'\n",
       "25. 'Liver'\n",
       "26. 'Adrenal Gland'\n",
       "27. 'Artery - Coronary'\n",
       "28. 'Artery - Tibial'\n",
       "29. 'Esophagus - Muscularis'\n",
       "30. 'Testis'\n",
       "31. 'Skin - Not Sun Exposed (Suprapubic)'\n",
       "32. 'Brain - Cerebellum'\n",
       "33. 'Cervix - Ectocervix'\n",
       "34. 'Brain - Hypothalamus'\n",
       "35. 'Brain - Amygdala'\n",
       "36. 'Brain - Spinal cord (cervical c-1)'\n",
       "37. 'Brain - Cortex'\n",
       "38. 'Adipose - Subcutaneous'\n",
       "39. 'Esophagus - Mucosa'\n",
       "40. 'Pituitary'\n",
       "41. 'Brain - Hippocampus'\n",
       "42. 'Brain - Substantia nigra'\n",
       "43. 'Brain - Cerebellar Hemisphere'\n",
       "44. 'Stomach'\n",
       "45. 'Bladder'\n",
       "46. 'Brain - Anterior cingulate cortex (BA24)'\n",
       "47. 'Ovary'\n",
       "48. 'Brain - Nucleus accumbens (basal ganglia)'\n",
       "49. 'Brain - Caudate (basal ganglia)'\n",
       "50. 'Brain - Frontal Cortex (BA9)'\n",
       "51. 'Brain - Putamen (basal ganglia)'\n",
       "52. 'Cervix - Endocervix'\n",
       "53. 'Fallopian Tube'\n",
       "\n",
       "\n"
      ],
      "text/plain": [
       " [1] \"Whole Blood\"                              \n",
       " [2] \"Cells - Transformed fibroblasts\"          \n",
       " [3] \"Cells - EBV-transformed lymphocytes\"      \n",
       " [4] \"Minor Salivary Gland\"                     \n",
       " [5] \"Lung\"                                     \n",
       " [6] \"Skin - Sun Exposed (Lower leg)\"           \n",
       " [7] \"Esophagus - Gastroesophageal Junction\"    \n",
       " [8] \"Heart - Atrial Appendage\"                 \n",
       " [9] \"Nerve - Tibial\"                           \n",
       "[10] \"Breast - Mammary Tissue\"                  \n",
       "[11] \"Heart - Left Ventricle\"                   \n",
       "[12] \"Artery - Aorta\"                           \n",
       "[13] \"Thyroid\"                                  \n",
       "[14] \"Colon - Sigmoid\"                          \n",
       "[15] \"Adipose - Visceral (Omentum)\"             \n",
       "[16] \"Uterus\"                                   \n",
       "[17] \"Spleen\"                                   \n",
       "[18] \"Small Intestine - Terminal Ileum\"         \n",
       "[19] \"Vagina\"                                   \n",
       "[20] \"Kidney - Cortex\"                          \n",
       "[21] \"Prostate\"                                 \n",
       "[22] \"Pancreas\"                                 \n",
       "[23] \"Muscle - Skeletal\"                        \n",
       "[24] \"Colon - Transverse\"                       \n",
       "[25] \"Liver\"                                    \n",
       "[26] \"Adrenal Gland\"                            \n",
       "[27] \"Artery - Coronary\"                        \n",
       "[28] \"Artery - Tibial\"                          \n",
       "[29] \"Esophagus - Muscularis\"                   \n",
       "[30] \"Testis\"                                   \n",
       "[31] \"Skin - Not Sun Exposed (Suprapubic)\"      \n",
       "[32] \"Brain - Cerebellum\"                       \n",
       "[33] \"Cervix - Ectocervix\"                      \n",
       "[34] \"Brain - Hypothalamus\"                     \n",
       "[35] \"Brain - Amygdala\"                         \n",
       "[36] \"Brain - Spinal cord (cervical c-1)\"       \n",
       "[37] \"Brain - Cortex\"                           \n",
       "[38] \"Adipose - Subcutaneous\"                   \n",
       "[39] \"Esophagus - Mucosa\"                       \n",
       "[40] \"Pituitary\"                                \n",
       "[41] \"Brain - Hippocampus\"                      \n",
       "[42] \"Brain - Substantia nigra\"                 \n",
       "[43] \"Brain - Cerebellar Hemisphere\"            \n",
       "[44] \"Stomach\"                                  \n",
       "[45] \"Bladder\"                                  \n",
       "[46] \"Brain - Anterior cingulate cortex (BA24)\" \n",
       "[47] \"Ovary\"                                    \n",
       "[48] \"Brain - Nucleus accumbens (basal ganglia)\"\n",
       "[49] \"Brain - Caudate (basal ganglia)\"          \n",
       "[50] \"Brain - Frontal Cortex (BA9)\"             \n",
       "[51] \"Brain - Putamen (basal ganglia)\"          \n",
       "[52] \"Cervix - Endocervix\"                      \n",
       "[53] \"Fallopian Tube\"                           "
      ]
     },
     "metadata": {},
     "output_type": "display_data"
    }
   ],
   "source": [
    "unique(anno_df$tissueSiteDetail)"
   ]
  },
  {
   "cell_type": "code",
   "execution_count": 15,
   "metadata": {},
   "outputs": [
    {
     "data": {
      "text/html": [
       "<style>\n",
       ".list-inline {list-style: none; margin:0; padding: 0}\n",
       ".list-inline>li {display: inline-block}\n",
       ".list-inline>li:not(:last-child)::after {content: \"\\00b7\"; padding: 0 .5ex}\n",
       "</style>\n",
       "<ol class=list-inline><li>'Adipose_Subcutaneous'</li><li>'Adipose_Visceral_Omentum'</li><li>'Adrenal_Gland'</li><li>'Artery_Aorta'</li><li>'Artery_Coronary'</li><li>'Artery_Tibial'</li><li>'Brain_Amygdala'</li><li>'Brain_Anterior_cingulate_cortex_BA24'</li><li>'Brain_Caudate_basal_ganglia'</li><li>'Brain_Cerebellar_Hemisphere'</li><li>'Brain_Cerebellum'</li><li>'Brain_Cortex'</li><li>'Brain_Frontal_Cortex_BA9'</li><li>'Brain_Hippocampus'</li><li>'Brain_Hypothalamus'</li><li>'Brain_Nucleus_accumbens_basal_ganglia'</li><li>'Brain_Putamen_basal_ganglia'</li><li>'Brain_Spinal_cord_cervical_c-1'</li><li>'Brain_Substantia_nigra'</li><li>'Breast_Mammary_Tissue'</li><li>'Cells_Cultured_fibroblasts'</li><li>'Cells_EBV-transformed_lymphocytes'</li><li>'Colon_Sigmoid'</li><li>'Colon_Transverse'</li><li>'Esophagus_Gastroesophageal_Junction'</li><li>'Esophagus_Mucosa'</li><li>'Esophagus_Muscularis'</li><li>'Heart_Atrial_Appendage'</li><li>'Heart_Left_Ventricle'</li><li>'Kidney_Cortex'</li><li>'Liver'</li><li>'Lung'</li><li>'Minor_Salivary_Gland'</li><li>'Muscle_Skeletal'</li><li>'Nerve_Tibial'</li><li>'Ovary'</li><li>'Pancreas'</li><li>'Pituitary'</li><li>'Prostate'</li><li>'Skin_Not_Sun_Exposed_Suprapubic'</li><li>'Skin_Sun_Exposed_Lower_leg'</li><li>'Small_Intestine_Terminal_Ileum'</li><li>'Spleen'</li><li>'Stomach'</li><li>'Testis'</li><li>'Thyroid'</li><li>'Uterus'</li><li>'Vagina'</li><li>'Whole_Blood'</li></ol>\n"
      ],
      "text/latex": [
       "\\begin{enumerate*}\n",
       "\\item 'Adipose\\_Subcutaneous'\n",
       "\\item 'Adipose\\_Visceral\\_Omentum'\n",
       "\\item 'Adrenal\\_Gland'\n",
       "\\item 'Artery\\_Aorta'\n",
       "\\item 'Artery\\_Coronary'\n",
       "\\item 'Artery\\_Tibial'\n",
       "\\item 'Brain\\_Amygdala'\n",
       "\\item 'Brain\\_Anterior\\_cingulate\\_cortex\\_BA24'\n",
       "\\item 'Brain\\_Caudate\\_basal\\_ganglia'\n",
       "\\item 'Brain\\_Cerebellar\\_Hemisphere'\n",
       "\\item 'Brain\\_Cerebellum'\n",
       "\\item 'Brain\\_Cortex'\n",
       "\\item 'Brain\\_Frontal\\_Cortex\\_BA9'\n",
       "\\item 'Brain\\_Hippocampus'\n",
       "\\item 'Brain\\_Hypothalamus'\n",
       "\\item 'Brain\\_Nucleus\\_accumbens\\_basal\\_ganglia'\n",
       "\\item 'Brain\\_Putamen\\_basal\\_ganglia'\n",
       "\\item 'Brain\\_Spinal\\_cord\\_cervical\\_c-1'\n",
       "\\item 'Brain\\_Substantia\\_nigra'\n",
       "\\item 'Breast\\_Mammary\\_Tissue'\n",
       "\\item 'Cells\\_Cultured\\_fibroblasts'\n",
       "\\item 'Cells\\_EBV-transformed\\_lymphocytes'\n",
       "\\item 'Colon\\_Sigmoid'\n",
       "\\item 'Colon\\_Transverse'\n",
       "\\item 'Esophagus\\_Gastroesophageal\\_Junction'\n",
       "\\item 'Esophagus\\_Mucosa'\n",
       "\\item 'Esophagus\\_Muscularis'\n",
       "\\item 'Heart\\_Atrial\\_Appendage'\n",
       "\\item 'Heart\\_Left\\_Ventricle'\n",
       "\\item 'Kidney\\_Cortex'\n",
       "\\item 'Liver'\n",
       "\\item 'Lung'\n",
       "\\item 'Minor\\_Salivary\\_Gland'\n",
       "\\item 'Muscle\\_Skeletal'\n",
       "\\item 'Nerve\\_Tibial'\n",
       "\\item 'Ovary'\n",
       "\\item 'Pancreas'\n",
       "\\item 'Pituitary'\n",
       "\\item 'Prostate'\n",
       "\\item 'Skin\\_Not\\_Sun\\_Exposed\\_Suprapubic'\n",
       "\\item 'Skin\\_Sun\\_Exposed\\_Lower\\_leg'\n",
       "\\item 'Small\\_Intestine\\_Terminal\\_Ileum'\n",
       "\\item 'Spleen'\n",
       "\\item 'Stomach'\n",
       "\\item 'Testis'\n",
       "\\item 'Thyroid'\n",
       "\\item 'Uterus'\n",
       "\\item 'Vagina'\n",
       "\\item 'Whole\\_Blood'\n",
       "\\end{enumerate*}\n"
      ],
      "text/markdown": [
       "1. 'Adipose_Subcutaneous'\n",
       "2. 'Adipose_Visceral_Omentum'\n",
       "3. 'Adrenal_Gland'\n",
       "4. 'Artery_Aorta'\n",
       "5. 'Artery_Coronary'\n",
       "6. 'Artery_Tibial'\n",
       "7. 'Brain_Amygdala'\n",
       "8. 'Brain_Anterior_cingulate_cortex_BA24'\n",
       "9. 'Brain_Caudate_basal_ganglia'\n",
       "10. 'Brain_Cerebellar_Hemisphere'\n",
       "11. 'Brain_Cerebellum'\n",
       "12. 'Brain_Cortex'\n",
       "13. 'Brain_Frontal_Cortex_BA9'\n",
       "14. 'Brain_Hippocampus'\n",
       "15. 'Brain_Hypothalamus'\n",
       "16. 'Brain_Nucleus_accumbens_basal_ganglia'\n",
       "17. 'Brain_Putamen_basal_ganglia'\n",
       "18. 'Brain_Spinal_cord_cervical_c-1'\n",
       "19. 'Brain_Substantia_nigra'\n",
       "20. 'Breast_Mammary_Tissue'\n",
       "21. 'Cells_Cultured_fibroblasts'\n",
       "22. 'Cells_EBV-transformed_lymphocytes'\n",
       "23. 'Colon_Sigmoid'\n",
       "24. 'Colon_Transverse'\n",
       "25. 'Esophagus_Gastroesophageal_Junction'\n",
       "26. 'Esophagus_Mucosa'\n",
       "27. 'Esophagus_Muscularis'\n",
       "28. 'Heart_Atrial_Appendage'\n",
       "29. 'Heart_Left_Ventricle'\n",
       "30. 'Kidney_Cortex'\n",
       "31. 'Liver'\n",
       "32. 'Lung'\n",
       "33. 'Minor_Salivary_Gland'\n",
       "34. 'Muscle_Skeletal'\n",
       "35. 'Nerve_Tibial'\n",
       "36. 'Ovary'\n",
       "37. 'Pancreas'\n",
       "38. 'Pituitary'\n",
       "39. 'Prostate'\n",
       "40. 'Skin_Not_Sun_Exposed_Suprapubic'\n",
       "41. 'Skin_Sun_Exposed_Lower_leg'\n",
       "42. 'Small_Intestine_Terminal_Ileum'\n",
       "43. 'Spleen'\n",
       "44. 'Stomach'\n",
       "45. 'Testis'\n",
       "46. 'Thyroid'\n",
       "47. 'Uterus'\n",
       "48. 'Vagina'\n",
       "49. 'Whole_Blood'\n",
       "\n",
       "\n"
      ],
      "text/plain": [
       " [1] \"Adipose_Subcutaneous\"                 \n",
       " [2] \"Adipose_Visceral_Omentum\"             \n",
       " [3] \"Adrenal_Gland\"                        \n",
       " [4] \"Artery_Aorta\"                         \n",
       " [5] \"Artery_Coronary\"                      \n",
       " [6] \"Artery_Tibial\"                        \n",
       " [7] \"Brain_Amygdala\"                       \n",
       " [8] \"Brain_Anterior_cingulate_cortex_BA24\" \n",
       " [9] \"Brain_Caudate_basal_ganglia\"          \n",
       "[10] \"Brain_Cerebellar_Hemisphere\"          \n",
       "[11] \"Brain_Cerebellum\"                     \n",
       "[12] \"Brain_Cortex\"                         \n",
       "[13] \"Brain_Frontal_Cortex_BA9\"             \n",
       "[14] \"Brain_Hippocampus\"                    \n",
       "[15] \"Brain_Hypothalamus\"                   \n",
       "[16] \"Brain_Nucleus_accumbens_basal_ganglia\"\n",
       "[17] \"Brain_Putamen_basal_ganglia\"          \n",
       "[18] \"Brain_Spinal_cord_cervical_c-1\"       \n",
       "[19] \"Brain_Substantia_nigra\"               \n",
       "[20] \"Breast_Mammary_Tissue\"                \n",
       "[21] \"Cells_Cultured_fibroblasts\"           \n",
       "[22] \"Cells_EBV-transformed_lymphocytes\"    \n",
       "[23] \"Colon_Sigmoid\"                        \n",
       "[24] \"Colon_Transverse\"                     \n",
       "[25] \"Esophagus_Gastroesophageal_Junction\"  \n",
       "[26] \"Esophagus_Mucosa\"                     \n",
       "[27] \"Esophagus_Muscularis\"                 \n",
       "[28] \"Heart_Atrial_Appendage\"               \n",
       "[29] \"Heart_Left_Ventricle\"                 \n",
       "[30] \"Kidney_Cortex\"                        \n",
       "[31] \"Liver\"                                \n",
       "[32] \"Lung\"                                 \n",
       "[33] \"Minor_Salivary_Gland\"                 \n",
       "[34] \"Muscle_Skeletal\"                      \n",
       "[35] \"Nerve_Tibial\"                         \n",
       "[36] \"Ovary\"                                \n",
       "[37] \"Pancreas\"                             \n",
       "[38] \"Pituitary\"                            \n",
       "[39] \"Prostate\"                             \n",
       "[40] \"Skin_Not_Sun_Exposed_Suprapubic\"      \n",
       "[41] \"Skin_Sun_Exposed_Lower_leg\"           \n",
       "[42] \"Small_Intestine_Terminal_Ileum\"       \n",
       "[43] \"Spleen\"                               \n",
       "[44] \"Stomach\"                              \n",
       "[45] \"Testis\"                               \n",
       "[46] \"Thyroid\"                              \n",
       "[47] \"Uterus\"                               \n",
       "[48] \"Vagina\"                               \n",
       "[49] \"Whole_Blood\"                          "
      ]
     },
     "metadata": {},
     "output_type": "display_data"
    }
   ],
   "source": [
    "tissue_vec"
   ]
  },
  {
   "cell_type": "code",
   "execution_count": 27,
   "metadata": {},
   "outputs": [],
   "source": [
    "convert_str <- function(str_a) {\n",
    "    str_a <- gsub(\"\\\\)\", \"\", str_a)\n",
    "    str_a <- gsub(\"\\\\(\", \"\", str_a)\n",
    "    str_a <- gsub(\" - \", \"_\", str_a)\n",
    "    str_b <- gsub(\" \", \"_\", str_a)\n",
    "    return(str_b)\n",
    "}"
   ]
  },
  {
   "cell_type": "code",
   "execution_count": 28,
   "metadata": {},
   "outputs": [],
   "source": [
    "tissue_vec_anno <- sapply(anno_df$tissueSiteDetail, convert_str)"
   ]
  },
  {
   "cell_type": "code",
   "execution_count": 18,
   "metadata": {},
   "outputs": [
    {
     "data": {
      "text/html": [
       "72513"
      ],
      "text/latex": [
       "72513"
      ],
      "text/markdown": [
       "72513"
      ],
      "text/plain": [
       "[1] 72513"
      ]
     },
     "metadata": {},
     "output_type": "display_data"
    }
   ],
   "source": [
    "length(tissue_vec_anno)"
   ]
  },
  {
   "cell_type": "code",
   "execution_count": 19,
   "metadata": {},
   "outputs": [
    {
     "data": {
      "text/html": [
       "<style>\n",
       ".list-inline {list-style: none; margin:0; padding: 0}\n",
       ".list-inline>li {display: inline-block}\n",
       ".list-inline>li:not(:last-child)::after {content: \"\\00b7\"; padding: 0 .5ex}\n",
       "</style>\n",
       "<ol class=list-inline><li>'Whole Blood'</li><li>'Cells - Transformed fibroblasts'</li><li>'Cells - EBV-transformed lymphocytes'</li><li>'Minor Salivary Gland'</li><li>'Lung'</li><li>'Skin - Sun Exposed (Lower leg)'</li><li>'Esophagus - Gastroesophageal Junction'</li><li>'Heart - Atrial Appendage'</li><li>'Nerve - Tibial'</li><li>'Breast - Mammary Tissue'</li><li>'Heart - Left Ventricle'</li><li>'Artery - Aorta'</li><li>'Thyroid'</li><li>'Colon - Sigmoid'</li><li>'Adipose - Visceral (Omentum)'</li><li>'Uterus'</li><li>'Spleen'</li><li>'Small Intestine - Terminal Ileum'</li><li>'Vagina'</li><li>'Kidney - Cortex'</li><li>'Prostate'</li><li>'Pancreas'</li><li>'Muscle - Skeletal'</li><li>'Colon - Transverse'</li><li>'Liver'</li><li>'Adrenal Gland'</li><li>'Artery - Coronary'</li><li>'Artery - Tibial'</li><li>'Esophagus - Muscularis'</li><li>'Testis'</li><li>'Skin - Not Sun Exposed (Suprapubic)'</li><li>'Brain - Cerebellum'</li><li>'Cervix - Ectocervix'</li><li>'Brain - Hypothalamus'</li><li>'Brain - Amygdala'</li><li>'Brain - Spinal cord (cervical c-1)'</li><li>'Brain - Cortex'</li><li>'Adipose - Subcutaneous'</li><li>'Esophagus - Mucosa'</li><li>'Pituitary'</li><li>'Brain - Hippocampus'</li><li>'Brain - Substantia nigra'</li><li>'Brain - Cerebellar Hemisphere'</li><li>'Stomach'</li><li>'Bladder'</li><li>'Brain - Anterior cingulate cortex (BA24)'</li><li>'Ovary'</li><li>'Brain - Nucleus accumbens (basal ganglia)'</li><li>'Brain - Caudate (basal ganglia)'</li><li>'Brain - Frontal Cortex (BA9)'</li><li>'Brain - Putamen (basal ganglia)'</li><li>'Cervix - Endocervix'</li><li>'Fallopian Tube'</li></ol>\n"
      ],
      "text/latex": [
       "\\begin{enumerate*}\n",
       "\\item 'Whole Blood'\n",
       "\\item 'Cells - Transformed fibroblasts'\n",
       "\\item 'Cells - EBV-transformed lymphocytes'\n",
       "\\item 'Minor Salivary Gland'\n",
       "\\item 'Lung'\n",
       "\\item 'Skin - Sun Exposed (Lower leg)'\n",
       "\\item 'Esophagus - Gastroesophageal Junction'\n",
       "\\item 'Heart - Atrial Appendage'\n",
       "\\item 'Nerve - Tibial'\n",
       "\\item 'Breast - Mammary Tissue'\n",
       "\\item 'Heart - Left Ventricle'\n",
       "\\item 'Artery - Aorta'\n",
       "\\item 'Thyroid'\n",
       "\\item 'Colon - Sigmoid'\n",
       "\\item 'Adipose - Visceral (Omentum)'\n",
       "\\item 'Uterus'\n",
       "\\item 'Spleen'\n",
       "\\item 'Small Intestine - Terminal Ileum'\n",
       "\\item 'Vagina'\n",
       "\\item 'Kidney - Cortex'\n",
       "\\item 'Prostate'\n",
       "\\item 'Pancreas'\n",
       "\\item 'Muscle - Skeletal'\n",
       "\\item 'Colon - Transverse'\n",
       "\\item 'Liver'\n",
       "\\item 'Adrenal Gland'\n",
       "\\item 'Artery - Coronary'\n",
       "\\item 'Artery - Tibial'\n",
       "\\item 'Esophagus - Muscularis'\n",
       "\\item 'Testis'\n",
       "\\item 'Skin - Not Sun Exposed (Suprapubic)'\n",
       "\\item 'Brain - Cerebellum'\n",
       "\\item 'Cervix - Ectocervix'\n",
       "\\item 'Brain - Hypothalamus'\n",
       "\\item 'Brain - Amygdala'\n",
       "\\item 'Brain - Spinal cord (cervical c-1)'\n",
       "\\item 'Brain - Cortex'\n",
       "\\item 'Adipose - Subcutaneous'\n",
       "\\item 'Esophagus - Mucosa'\n",
       "\\item 'Pituitary'\n",
       "\\item 'Brain - Hippocampus'\n",
       "\\item 'Brain - Substantia nigra'\n",
       "\\item 'Brain - Cerebellar Hemisphere'\n",
       "\\item 'Stomach'\n",
       "\\item 'Bladder'\n",
       "\\item 'Brain - Anterior cingulate cortex (BA24)'\n",
       "\\item 'Ovary'\n",
       "\\item 'Brain - Nucleus accumbens (basal ganglia)'\n",
       "\\item 'Brain - Caudate (basal ganglia)'\n",
       "\\item 'Brain - Frontal Cortex (BA9)'\n",
       "\\item 'Brain - Putamen (basal ganglia)'\n",
       "\\item 'Cervix - Endocervix'\n",
       "\\item 'Fallopian Tube'\n",
       "\\end{enumerate*}\n"
      ],
      "text/markdown": [
       "1. 'Whole Blood'\n",
       "2. 'Cells - Transformed fibroblasts'\n",
       "3. 'Cells - EBV-transformed lymphocytes'\n",
       "4. 'Minor Salivary Gland'\n",
       "5. 'Lung'\n",
       "6. 'Skin - Sun Exposed (Lower leg)'\n",
       "7. 'Esophagus - Gastroesophageal Junction'\n",
       "8. 'Heart - Atrial Appendage'\n",
       "9. 'Nerve - Tibial'\n",
       "10. 'Breast - Mammary Tissue'\n",
       "11. 'Heart - Left Ventricle'\n",
       "12. 'Artery - Aorta'\n",
       "13. 'Thyroid'\n",
       "14. 'Colon - Sigmoid'\n",
       "15. 'Adipose - Visceral (Omentum)'\n",
       "16. 'Uterus'\n",
       "17. 'Spleen'\n",
       "18. 'Small Intestine - Terminal Ileum'\n",
       "19. 'Vagina'\n",
       "20. 'Kidney - Cortex'\n",
       "21. 'Prostate'\n",
       "22. 'Pancreas'\n",
       "23. 'Muscle - Skeletal'\n",
       "24. 'Colon - Transverse'\n",
       "25. 'Liver'\n",
       "26. 'Adrenal Gland'\n",
       "27. 'Artery - Coronary'\n",
       "28. 'Artery - Tibial'\n",
       "29. 'Esophagus - Muscularis'\n",
       "30. 'Testis'\n",
       "31. 'Skin - Not Sun Exposed (Suprapubic)'\n",
       "32. 'Brain - Cerebellum'\n",
       "33. 'Cervix - Ectocervix'\n",
       "34. 'Brain - Hypothalamus'\n",
       "35. 'Brain - Amygdala'\n",
       "36. 'Brain - Spinal cord (cervical c-1)'\n",
       "37. 'Brain - Cortex'\n",
       "38. 'Adipose - Subcutaneous'\n",
       "39. 'Esophagus - Mucosa'\n",
       "40. 'Pituitary'\n",
       "41. 'Brain - Hippocampus'\n",
       "42. 'Brain - Substantia nigra'\n",
       "43. 'Brain - Cerebellar Hemisphere'\n",
       "44. 'Stomach'\n",
       "45. 'Bladder'\n",
       "46. 'Brain - Anterior cingulate cortex (BA24)'\n",
       "47. 'Ovary'\n",
       "48. 'Brain - Nucleus accumbens (basal ganglia)'\n",
       "49. 'Brain - Caudate (basal ganglia)'\n",
       "50. 'Brain - Frontal Cortex (BA9)'\n",
       "51. 'Brain - Putamen (basal ganglia)'\n",
       "52. 'Cervix - Endocervix'\n",
       "53. 'Fallopian Tube'\n",
       "\n",
       "\n"
      ],
      "text/plain": [
       " [1] \"Whole Blood\"                              \n",
       " [2] \"Cells - Transformed fibroblasts\"          \n",
       " [3] \"Cells - EBV-transformed lymphocytes\"      \n",
       " [4] \"Minor Salivary Gland\"                     \n",
       " [5] \"Lung\"                                     \n",
       " [6] \"Skin - Sun Exposed (Lower leg)\"           \n",
       " [7] \"Esophagus - Gastroesophageal Junction\"    \n",
       " [8] \"Heart - Atrial Appendage\"                 \n",
       " [9] \"Nerve - Tibial\"                           \n",
       "[10] \"Breast - Mammary Tissue\"                  \n",
       "[11] \"Heart - Left Ventricle\"                   \n",
       "[12] \"Artery - Aorta\"                           \n",
       "[13] \"Thyroid\"                                  \n",
       "[14] \"Colon - Sigmoid\"                          \n",
       "[15] \"Adipose - Visceral (Omentum)\"             \n",
       "[16] \"Uterus\"                                   \n",
       "[17] \"Spleen\"                                   \n",
       "[18] \"Small Intestine - Terminal Ileum\"         \n",
       "[19] \"Vagina\"                                   \n",
       "[20] \"Kidney - Cortex\"                          \n",
       "[21] \"Prostate\"                                 \n",
       "[22] \"Pancreas\"                                 \n",
       "[23] \"Muscle - Skeletal\"                        \n",
       "[24] \"Colon - Transverse\"                       \n",
       "[25] \"Liver\"                                    \n",
       "[26] \"Adrenal Gland\"                            \n",
       "[27] \"Artery - Coronary\"                        \n",
       "[28] \"Artery - Tibial\"                          \n",
       "[29] \"Esophagus - Muscularis\"                   \n",
       "[30] \"Testis\"                                   \n",
       "[31] \"Skin - Not Sun Exposed (Suprapubic)\"      \n",
       "[32] \"Brain - Cerebellum\"                       \n",
       "[33] \"Cervix - Ectocervix\"                      \n",
       "[34] \"Brain - Hypothalamus\"                     \n",
       "[35] \"Brain - Amygdala\"                         \n",
       "[36] \"Brain - Spinal cord (cervical c-1)\"       \n",
       "[37] \"Brain - Cortex\"                           \n",
       "[38] \"Adipose - Subcutaneous\"                   \n",
       "[39] \"Esophagus - Mucosa\"                       \n",
       "[40] \"Pituitary\"                                \n",
       "[41] \"Brain - Hippocampus\"                      \n",
       "[42] \"Brain - Substantia nigra\"                 \n",
       "[43] \"Brain - Cerebellar Hemisphere\"            \n",
       "[44] \"Stomach\"                                  \n",
       "[45] \"Bladder\"                                  \n",
       "[46] \"Brain - Anterior cingulate cortex (BA24)\" \n",
       "[47] \"Ovary\"                                    \n",
       "[48] \"Brain - Nucleus accumbens (basal ganglia)\"\n",
       "[49] \"Brain - Caudate (basal ganglia)\"          \n",
       "[50] \"Brain - Frontal Cortex (BA9)\"             \n",
       "[51] \"Brain - Putamen (basal ganglia)\"          \n",
       "[52] \"Cervix - Endocervix\"                      \n",
       "[53] \"Fallopian Tube\"                           "
      ]
     },
     "metadata": {},
     "output_type": "display_data"
    }
   ],
   "source": [
    "unique(anno_df$tissueSiteDetail)"
   ]
  },
  {
   "cell_type": "code",
   "execution_count": 33,
   "metadata": {},
   "outputs": [
    {
     "data": {
      "text/html": [
       "<style>\n",
       ".list-inline {list-style: none; margin:0; padding: 0}\n",
       ".list-inline>li {display: inline-block}\n",
       ".list-inline>li:not(:last-child)::after {content: \"\\00b7\"; padding: 0 .5ex}\n",
       "</style>\n",
       "<ol class=list-inline><li>'Whole_Blood'</li><li>'Cells_Transformed_fibroblasts'</li><li>'Cells_EBV-transformed_lymphocytes'</li><li>'Minor_Salivary_Gland'</li><li>'Lung'</li><li>'Skin_Sun_Exposed_Lower_leg'</li><li>'Esophagus_Gastroesophageal_Junction'</li><li>'Heart_Atrial_Appendage'</li><li>'Nerve_Tibial'</li><li>'Breast_Mammary_Tissue'</li><li>'Heart_Left_Ventricle'</li><li>'Artery_Aorta'</li><li>'Thyroid'</li><li>'Colon_Sigmoid'</li><li>'Adipose_Visceral_Omentum'</li><li>'Uterus'</li><li>'Spleen'</li><li>'Small_Intestine_Terminal_Ileum'</li><li>'Vagina'</li><li>'Kidney_Cortex'</li><li>'Prostate'</li><li>'Pancreas'</li><li>'Muscle_Skeletal'</li><li>'Colon_Transverse'</li><li>'Liver'</li><li>'Adrenal_Gland'</li><li>'Artery_Coronary'</li><li>'Artery_Tibial'</li><li>'Esophagus_Muscularis'</li><li>'Testis'</li><li>'Skin_Not_Sun_Exposed_Suprapubic'</li><li>'Brain_Cerebellum'</li><li>'Cervix_Ectocervix'</li><li>'Brain_Hypothalamus'</li><li>'Brain_Amygdala'</li><li>'Brain_Spinal_cord_cervical_c-1'</li><li>'Brain_Cortex'</li><li>'Adipose_Subcutaneous'</li><li>'Esophagus_Mucosa'</li><li>'Pituitary'</li><li>'Brain_Hippocampus'</li><li>'Brain_Substantia_nigra'</li><li>'Brain_Cerebellar_Hemisphere'</li><li>'Stomach'</li><li>'Bladder'</li><li>'Brain_Anterior_cingulate_cortex_BA24'</li><li>'Ovary'</li><li>'Brain_Nucleus_accumbens_basal_ganglia'</li><li>'Brain_Caudate_basal_ganglia'</li><li>'Brain_Frontal_Cortex_BA9'</li><li>'Brain_Putamen_basal_ganglia'</li><li>'Cervix_Endocervix'</li><li>'Fallopian_Tube'</li></ol>\n"
      ],
      "text/latex": [
       "\\begin{enumerate*}\n",
       "\\item 'Whole\\_Blood'\n",
       "\\item 'Cells\\_Transformed\\_fibroblasts'\n",
       "\\item 'Cells\\_EBV-transformed\\_lymphocytes'\n",
       "\\item 'Minor\\_Salivary\\_Gland'\n",
       "\\item 'Lung'\n",
       "\\item 'Skin\\_Sun\\_Exposed\\_Lower\\_leg'\n",
       "\\item 'Esophagus\\_Gastroesophageal\\_Junction'\n",
       "\\item 'Heart\\_Atrial\\_Appendage'\n",
       "\\item 'Nerve\\_Tibial'\n",
       "\\item 'Breast\\_Mammary\\_Tissue'\n",
       "\\item 'Heart\\_Left\\_Ventricle'\n",
       "\\item 'Artery\\_Aorta'\n",
       "\\item 'Thyroid'\n",
       "\\item 'Colon\\_Sigmoid'\n",
       "\\item 'Adipose\\_Visceral\\_Omentum'\n",
       "\\item 'Uterus'\n",
       "\\item 'Spleen'\n",
       "\\item 'Small\\_Intestine\\_Terminal\\_Ileum'\n",
       "\\item 'Vagina'\n",
       "\\item 'Kidney\\_Cortex'\n",
       "\\item 'Prostate'\n",
       "\\item 'Pancreas'\n",
       "\\item 'Muscle\\_Skeletal'\n",
       "\\item 'Colon\\_Transverse'\n",
       "\\item 'Liver'\n",
       "\\item 'Adrenal\\_Gland'\n",
       "\\item 'Artery\\_Coronary'\n",
       "\\item 'Artery\\_Tibial'\n",
       "\\item 'Esophagus\\_Muscularis'\n",
       "\\item 'Testis'\n",
       "\\item 'Skin\\_Not\\_Sun\\_Exposed\\_Suprapubic'\n",
       "\\item 'Brain\\_Cerebellum'\n",
       "\\item 'Cervix\\_Ectocervix'\n",
       "\\item 'Brain\\_Hypothalamus'\n",
       "\\item 'Brain\\_Amygdala'\n",
       "\\item 'Brain\\_Spinal\\_cord\\_cervical\\_c-1'\n",
       "\\item 'Brain\\_Cortex'\n",
       "\\item 'Adipose\\_Subcutaneous'\n",
       "\\item 'Esophagus\\_Mucosa'\n",
       "\\item 'Pituitary'\n",
       "\\item 'Brain\\_Hippocampus'\n",
       "\\item 'Brain\\_Substantia\\_nigra'\n",
       "\\item 'Brain\\_Cerebellar\\_Hemisphere'\n",
       "\\item 'Stomach'\n",
       "\\item 'Bladder'\n",
       "\\item 'Brain\\_Anterior\\_cingulate\\_cortex\\_BA24'\n",
       "\\item 'Ovary'\n",
       "\\item 'Brain\\_Nucleus\\_accumbens\\_basal\\_ganglia'\n",
       "\\item 'Brain\\_Caudate\\_basal\\_ganglia'\n",
       "\\item 'Brain\\_Frontal\\_Cortex\\_BA9'\n",
       "\\item 'Brain\\_Putamen\\_basal\\_ganglia'\n",
       "\\item 'Cervix\\_Endocervix'\n",
       "\\item 'Fallopian\\_Tube'\n",
       "\\end{enumerate*}\n"
      ],
      "text/markdown": [
       "1. 'Whole_Blood'\n",
       "2. 'Cells_Transformed_fibroblasts'\n",
       "3. 'Cells_EBV-transformed_lymphocytes'\n",
       "4. 'Minor_Salivary_Gland'\n",
       "5. 'Lung'\n",
       "6. 'Skin_Sun_Exposed_Lower_leg'\n",
       "7. 'Esophagus_Gastroesophageal_Junction'\n",
       "8. 'Heart_Atrial_Appendage'\n",
       "9. 'Nerve_Tibial'\n",
       "10. 'Breast_Mammary_Tissue'\n",
       "11. 'Heart_Left_Ventricle'\n",
       "12. 'Artery_Aorta'\n",
       "13. 'Thyroid'\n",
       "14. 'Colon_Sigmoid'\n",
       "15. 'Adipose_Visceral_Omentum'\n",
       "16. 'Uterus'\n",
       "17. 'Spleen'\n",
       "18. 'Small_Intestine_Terminal_Ileum'\n",
       "19. 'Vagina'\n",
       "20. 'Kidney_Cortex'\n",
       "21. 'Prostate'\n",
       "22. 'Pancreas'\n",
       "23. 'Muscle_Skeletal'\n",
       "24. 'Colon_Transverse'\n",
       "25. 'Liver'\n",
       "26. 'Adrenal_Gland'\n",
       "27. 'Artery_Coronary'\n",
       "28. 'Artery_Tibial'\n",
       "29. 'Esophagus_Muscularis'\n",
       "30. 'Testis'\n",
       "31. 'Skin_Not_Sun_Exposed_Suprapubic'\n",
       "32. 'Brain_Cerebellum'\n",
       "33. 'Cervix_Ectocervix'\n",
       "34. 'Brain_Hypothalamus'\n",
       "35. 'Brain_Amygdala'\n",
       "36. 'Brain_Spinal_cord_cervical_c-1'\n",
       "37. 'Brain_Cortex'\n",
       "38. 'Adipose_Subcutaneous'\n",
       "39. 'Esophagus_Mucosa'\n",
       "40. 'Pituitary'\n",
       "41. 'Brain_Hippocampus'\n",
       "42. 'Brain_Substantia_nigra'\n",
       "43. 'Brain_Cerebellar_Hemisphere'\n",
       "44. 'Stomach'\n",
       "45. 'Bladder'\n",
       "46. 'Brain_Anterior_cingulate_cortex_BA24'\n",
       "47. 'Ovary'\n",
       "48. 'Brain_Nucleus_accumbens_basal_ganglia'\n",
       "49. 'Brain_Caudate_basal_ganglia'\n",
       "50. 'Brain_Frontal_Cortex_BA9'\n",
       "51. 'Brain_Putamen_basal_ganglia'\n",
       "52. 'Cervix_Endocervix'\n",
       "53. 'Fallopian_Tube'\n",
       "\n",
       "\n"
      ],
      "text/plain": [
       " [1] \"Whole_Blood\"                          \n",
       " [2] \"Cells_Transformed_fibroblasts\"        \n",
       " [3] \"Cells_EBV-transformed_lymphocytes\"    \n",
       " [4] \"Minor_Salivary_Gland\"                 \n",
       " [5] \"Lung\"                                 \n",
       " [6] \"Skin_Sun_Exposed_Lower_leg\"           \n",
       " [7] \"Esophagus_Gastroesophageal_Junction\"  \n",
       " [8] \"Heart_Atrial_Appendage\"               \n",
       " [9] \"Nerve_Tibial\"                         \n",
       "[10] \"Breast_Mammary_Tissue\"                \n",
       "[11] \"Heart_Left_Ventricle\"                 \n",
       "[12] \"Artery_Aorta\"                         \n",
       "[13] \"Thyroid\"                              \n",
       "[14] \"Colon_Sigmoid\"                        \n",
       "[15] \"Adipose_Visceral_Omentum\"             \n",
       "[16] \"Uterus\"                               \n",
       "[17] \"Spleen\"                               \n",
       "[18] \"Small_Intestine_Terminal_Ileum\"       \n",
       "[19] \"Vagina\"                               \n",
       "[20] \"Kidney_Cortex\"                        \n",
       "[21] \"Prostate\"                             \n",
       "[22] \"Pancreas\"                             \n",
       "[23] \"Muscle_Skeletal\"                      \n",
       "[24] \"Colon_Transverse\"                     \n",
       "[25] \"Liver\"                                \n",
       "[26] \"Adrenal_Gland\"                        \n",
       "[27] \"Artery_Coronary\"                      \n",
       "[28] \"Artery_Tibial\"                        \n",
       "[29] \"Esophagus_Muscularis\"                 \n",
       "[30] \"Testis\"                               \n",
       "[31] \"Skin_Not_Sun_Exposed_Suprapubic\"      \n",
       "[32] \"Brain_Cerebellum\"                     \n",
       "[33] \"Cervix_Ectocervix\"                    \n",
       "[34] \"Brain_Hypothalamus\"                   \n",
       "[35] \"Brain_Amygdala\"                       \n",
       "[36] \"Brain_Spinal_cord_cervical_c-1\"       \n",
       "[37] \"Brain_Cortex\"                         \n",
       "[38] \"Adipose_Subcutaneous\"                 \n",
       "[39] \"Esophagus_Mucosa\"                     \n",
       "[40] \"Pituitary\"                            \n",
       "[41] \"Brain_Hippocampus\"                    \n",
       "[42] \"Brain_Substantia_nigra\"               \n",
       "[43] \"Brain_Cerebellar_Hemisphere\"          \n",
       "[44] \"Stomach\"                              \n",
       "[45] \"Bladder\"                              \n",
       "[46] \"Brain_Anterior_cingulate_cortex_BA24\" \n",
       "[47] \"Ovary\"                                \n",
       "[48] \"Brain_Nucleus_accumbens_basal_ganglia\"\n",
       "[49] \"Brain_Caudate_basal_ganglia\"          \n",
       "[50] \"Brain_Frontal_Cortex_BA9\"             \n",
       "[51] \"Brain_Putamen_basal_ganglia\"          \n",
       "[52] \"Cervix_Endocervix\"                    \n",
       "[53] \"Fallopian_Tube\"                       "
      ]
     },
     "metadata": {},
     "output_type": "display_data"
    }
   ],
   "source": [
    "tissue_anno_vec <- unique(tissue_vec_anno)\n",
    "tissue_anno_vec"
   ]
  },
  {
   "cell_type": "code",
   "execution_count": null,
   "metadata": {},
   "outputs": [],
   "source": []
  },
  {
   "cell_type": "code",
   "execution_count": 21,
   "metadata": {},
   "outputs": [
    {
     "data": {
      "text/html": [
       "<style>\n",
       ".list-inline {list-style: none; margin:0; padding: 0}\n",
       ".list-inline>li {display: inline-block}\n",
       ".list-inline>li:not(:last-child)::after {content: \"\\00b7\"; padding: 0 .5ex}\n",
       "</style>\n",
       "<ol class=list-inline><li>'Adipose_Subcutaneous'</li><li>'Adipose_Visceral_Omentum'</li><li>'Adrenal_Gland'</li><li>'Artery_Aorta'</li><li>'Artery_Coronary'</li><li>'Artery_Tibial'</li><li>'Brain_Amygdala'</li><li>'Brain_Anterior_cingulate_cortex_BA24'</li><li>'Brain_Caudate_basal_ganglia'</li><li>'Brain_Cerebellar_Hemisphere'</li><li>'Brain_Cerebellum'</li><li>'Brain_Cortex'</li><li>'Brain_Frontal_Cortex_BA9'</li><li>'Brain_Hippocampus'</li><li>'Brain_Hypothalamus'</li><li>'Brain_Nucleus_accumbens_basal_ganglia'</li><li>'Brain_Putamen_basal_ganglia'</li><li>'Brain_Spinal_cord_cervical_c-1'</li><li>'Brain_Substantia_nigra'</li><li>'Breast_Mammary_Tissue'</li><li>'Cells_Cultured_fibroblasts'</li><li>'Cells_EBV-transformed_lymphocytes'</li><li>'Colon_Sigmoid'</li><li>'Colon_Transverse'</li><li>'Esophagus_Gastroesophageal_Junction'</li><li>'Esophagus_Mucosa'</li><li>'Esophagus_Muscularis'</li><li>'Heart_Atrial_Appendage'</li><li>'Heart_Left_Ventricle'</li><li>'Kidney_Cortex'</li><li>'Liver'</li><li>'Lung'</li><li>'Minor_Salivary_Gland'</li><li>'Muscle_Skeletal'</li><li>'Nerve_Tibial'</li><li>'Ovary'</li><li>'Pancreas'</li><li>'Pituitary'</li><li>'Prostate'</li><li>'Skin_Not_Sun_Exposed_Suprapubic'</li><li>'Skin_Sun_Exposed_Lower_leg'</li><li>'Small_Intestine_Terminal_Ileum'</li><li>'Spleen'</li><li>'Stomach'</li><li>'Testis'</li><li>'Thyroid'</li><li>'Uterus'</li><li>'Vagina'</li><li>'Whole_Blood'</li></ol>\n"
      ],
      "text/latex": [
       "\\begin{enumerate*}\n",
       "\\item 'Adipose\\_Subcutaneous'\n",
       "\\item 'Adipose\\_Visceral\\_Omentum'\n",
       "\\item 'Adrenal\\_Gland'\n",
       "\\item 'Artery\\_Aorta'\n",
       "\\item 'Artery\\_Coronary'\n",
       "\\item 'Artery\\_Tibial'\n",
       "\\item 'Brain\\_Amygdala'\n",
       "\\item 'Brain\\_Anterior\\_cingulate\\_cortex\\_BA24'\n",
       "\\item 'Brain\\_Caudate\\_basal\\_ganglia'\n",
       "\\item 'Brain\\_Cerebellar\\_Hemisphere'\n",
       "\\item 'Brain\\_Cerebellum'\n",
       "\\item 'Brain\\_Cortex'\n",
       "\\item 'Brain\\_Frontal\\_Cortex\\_BA9'\n",
       "\\item 'Brain\\_Hippocampus'\n",
       "\\item 'Brain\\_Hypothalamus'\n",
       "\\item 'Brain\\_Nucleus\\_accumbens\\_basal\\_ganglia'\n",
       "\\item 'Brain\\_Putamen\\_basal\\_ganglia'\n",
       "\\item 'Brain\\_Spinal\\_cord\\_cervical\\_c-1'\n",
       "\\item 'Brain\\_Substantia\\_nigra'\n",
       "\\item 'Breast\\_Mammary\\_Tissue'\n",
       "\\item 'Cells\\_Cultured\\_fibroblasts'\n",
       "\\item 'Cells\\_EBV-transformed\\_lymphocytes'\n",
       "\\item 'Colon\\_Sigmoid'\n",
       "\\item 'Colon\\_Transverse'\n",
       "\\item 'Esophagus\\_Gastroesophageal\\_Junction'\n",
       "\\item 'Esophagus\\_Mucosa'\n",
       "\\item 'Esophagus\\_Muscularis'\n",
       "\\item 'Heart\\_Atrial\\_Appendage'\n",
       "\\item 'Heart\\_Left\\_Ventricle'\n",
       "\\item 'Kidney\\_Cortex'\n",
       "\\item 'Liver'\n",
       "\\item 'Lung'\n",
       "\\item 'Minor\\_Salivary\\_Gland'\n",
       "\\item 'Muscle\\_Skeletal'\n",
       "\\item 'Nerve\\_Tibial'\n",
       "\\item 'Ovary'\n",
       "\\item 'Pancreas'\n",
       "\\item 'Pituitary'\n",
       "\\item 'Prostate'\n",
       "\\item 'Skin\\_Not\\_Sun\\_Exposed\\_Suprapubic'\n",
       "\\item 'Skin\\_Sun\\_Exposed\\_Lower\\_leg'\n",
       "\\item 'Small\\_Intestine\\_Terminal\\_Ileum'\n",
       "\\item 'Spleen'\n",
       "\\item 'Stomach'\n",
       "\\item 'Testis'\n",
       "\\item 'Thyroid'\n",
       "\\item 'Uterus'\n",
       "\\item 'Vagina'\n",
       "\\item 'Whole\\_Blood'\n",
       "\\end{enumerate*}\n"
      ],
      "text/markdown": [
       "1. 'Adipose_Subcutaneous'\n",
       "2. 'Adipose_Visceral_Omentum'\n",
       "3. 'Adrenal_Gland'\n",
       "4. 'Artery_Aorta'\n",
       "5. 'Artery_Coronary'\n",
       "6. 'Artery_Tibial'\n",
       "7. 'Brain_Amygdala'\n",
       "8. 'Brain_Anterior_cingulate_cortex_BA24'\n",
       "9. 'Brain_Caudate_basal_ganglia'\n",
       "10. 'Brain_Cerebellar_Hemisphere'\n",
       "11. 'Brain_Cerebellum'\n",
       "12. 'Brain_Cortex'\n",
       "13. 'Brain_Frontal_Cortex_BA9'\n",
       "14. 'Brain_Hippocampus'\n",
       "15. 'Brain_Hypothalamus'\n",
       "16. 'Brain_Nucleus_accumbens_basal_ganglia'\n",
       "17. 'Brain_Putamen_basal_ganglia'\n",
       "18. 'Brain_Spinal_cord_cervical_c-1'\n",
       "19. 'Brain_Substantia_nigra'\n",
       "20. 'Breast_Mammary_Tissue'\n",
       "21. 'Cells_Cultured_fibroblasts'\n",
       "22. 'Cells_EBV-transformed_lymphocytes'\n",
       "23. 'Colon_Sigmoid'\n",
       "24. 'Colon_Transverse'\n",
       "25. 'Esophagus_Gastroesophageal_Junction'\n",
       "26. 'Esophagus_Mucosa'\n",
       "27. 'Esophagus_Muscularis'\n",
       "28. 'Heart_Atrial_Appendage'\n",
       "29. 'Heart_Left_Ventricle'\n",
       "30. 'Kidney_Cortex'\n",
       "31. 'Liver'\n",
       "32. 'Lung'\n",
       "33. 'Minor_Salivary_Gland'\n",
       "34. 'Muscle_Skeletal'\n",
       "35. 'Nerve_Tibial'\n",
       "36. 'Ovary'\n",
       "37. 'Pancreas'\n",
       "38. 'Pituitary'\n",
       "39. 'Prostate'\n",
       "40. 'Skin_Not_Sun_Exposed_Suprapubic'\n",
       "41. 'Skin_Sun_Exposed_Lower_leg'\n",
       "42. 'Small_Intestine_Terminal_Ileum'\n",
       "43. 'Spleen'\n",
       "44. 'Stomach'\n",
       "45. 'Testis'\n",
       "46. 'Thyroid'\n",
       "47. 'Uterus'\n",
       "48. 'Vagina'\n",
       "49. 'Whole_Blood'\n",
       "\n",
       "\n"
      ],
      "text/plain": [
       " [1] \"Adipose_Subcutaneous\"                 \n",
       " [2] \"Adipose_Visceral_Omentum\"             \n",
       " [3] \"Adrenal_Gland\"                        \n",
       " [4] \"Artery_Aorta\"                         \n",
       " [5] \"Artery_Coronary\"                      \n",
       " [6] \"Artery_Tibial\"                        \n",
       " [7] \"Brain_Amygdala\"                       \n",
       " [8] \"Brain_Anterior_cingulate_cortex_BA24\" \n",
       " [9] \"Brain_Caudate_basal_ganglia\"          \n",
       "[10] \"Brain_Cerebellar_Hemisphere\"          \n",
       "[11] \"Brain_Cerebellum\"                     \n",
       "[12] \"Brain_Cortex\"                         \n",
       "[13] \"Brain_Frontal_Cortex_BA9\"             \n",
       "[14] \"Brain_Hippocampus\"                    \n",
       "[15] \"Brain_Hypothalamus\"                   \n",
       "[16] \"Brain_Nucleus_accumbens_basal_ganglia\"\n",
       "[17] \"Brain_Putamen_basal_ganglia\"          \n",
       "[18] \"Brain_Spinal_cord_cervical_c-1\"       \n",
       "[19] \"Brain_Substantia_nigra\"               \n",
       "[20] \"Breast_Mammary_Tissue\"                \n",
       "[21] \"Cells_Cultured_fibroblasts\"           \n",
       "[22] \"Cells_EBV-transformed_lymphocytes\"    \n",
       "[23] \"Colon_Sigmoid\"                        \n",
       "[24] \"Colon_Transverse\"                     \n",
       "[25] \"Esophagus_Gastroesophageal_Junction\"  \n",
       "[26] \"Esophagus_Mucosa\"                     \n",
       "[27] \"Esophagus_Muscularis\"                 \n",
       "[28] \"Heart_Atrial_Appendage\"               \n",
       "[29] \"Heart_Left_Ventricle\"                 \n",
       "[30] \"Kidney_Cortex\"                        \n",
       "[31] \"Liver\"                                \n",
       "[32] \"Lung\"                                 \n",
       "[33] \"Minor_Salivary_Gland\"                 \n",
       "[34] \"Muscle_Skeletal\"                      \n",
       "[35] \"Nerve_Tibial\"                         \n",
       "[36] \"Ovary\"                                \n",
       "[37] \"Pancreas\"                             \n",
       "[38] \"Pituitary\"                            \n",
       "[39] \"Prostate\"                             \n",
       "[40] \"Skin_Not_Sun_Exposed_Suprapubic\"      \n",
       "[41] \"Skin_Sun_Exposed_Lower_leg\"           \n",
       "[42] \"Small_Intestine_Terminal_Ileum\"       \n",
       "[43] \"Spleen\"                               \n",
       "[44] \"Stomach\"                              \n",
       "[45] \"Testis\"                               \n",
       "[46] \"Thyroid\"                              \n",
       "[47] \"Uterus\"                               \n",
       "[48] \"Vagina\"                               \n",
       "[49] \"Whole_Blood\"                          "
      ]
     },
     "metadata": {},
     "output_type": "display_data"
    }
   ],
   "source": [
    "tissue_vec"
   ]
  },
  {
   "cell_type": "code",
   "execution_count": 30,
   "metadata": {},
   "outputs": [],
   "source": [
    "anno_df$tissue <- tissue_vec_anno"
   ]
  },
  {
   "cell_type": "code",
   "execution_count": 31,
   "metadata": {},
   "outputs": [],
   "source": [
    "anno_list <- split(anno_df, f = anno_df$tissue)"
   ]
  },
  {
   "cell_type": "code",
   "execution_count": 32,
   "metadata": {},
   "outputs": [
    {
     "data": {
      "text/html": [
       "<style>\n",
       ".list-inline {list-style: none; margin:0; padding: 0}\n",
       ".list-inline>li {display: inline-block}\n",
       ".list-inline>li:not(:last-child)::after {content: \"\\00b7\"; padding: 0 .5ex}\n",
       "</style>\n",
       "<ol class=list-inline><li>'GTEX-1HC8U-2526-SM-9P6XT'</li><li>'GTEX-11OC5-0226-SM-4I6R8'</li><li>'GTEX-ZTTD-0226-SM-5GJHE'</li><li>'GTEX-13N2G-2726-SM-58XCZ'</li><li>'GTEX-NL3H-0226-SM-22GRN'</li><li>'GTEX-1IDJC-2126-SM-9WLO6'</li></ol>\n"
      ],
      "text/latex": [
       "\\begin{enumerate*}\n",
       "\\item 'GTEX-1HC8U-2526-SM-9P6XT'\n",
       "\\item 'GTEX-11OC5-0226-SM-4I6R8'\n",
       "\\item 'GTEX-ZTTD-0226-SM-5GJHE'\n",
       "\\item 'GTEX-13N2G-2726-SM-58XCZ'\n",
       "\\item 'GTEX-NL3H-0226-SM-22GRN'\n",
       "\\item 'GTEX-1IDJC-2126-SM-9WLO6'\n",
       "\\end{enumerate*}\n"
      ],
      "text/markdown": [
       "1. 'GTEX-1HC8U-2526-SM-9P6XT'\n",
       "2. 'GTEX-11OC5-0226-SM-4I6R8'\n",
       "3. 'GTEX-ZTTD-0226-SM-5GJHE'\n",
       "4. 'GTEX-13N2G-2726-SM-58XCZ'\n",
       "5. 'GTEX-NL3H-0226-SM-22GRN'\n",
       "6. 'GTEX-1IDJC-2126-SM-9WLO6'\n",
       "\n",
       "\n"
      ],
      "text/plain": [
       "[1] \"GTEX-1HC8U-2526-SM-9P6XT\" \"GTEX-11OC5-0226-SM-4I6R8\"\n",
       "[3] \"GTEX-ZTTD-0226-SM-5GJHE\"  \"GTEX-13N2G-2726-SM-58XCZ\"\n",
       "[5] \"GTEX-NL3H-0226-SM-22GRN\"  \"GTEX-1IDJC-2126-SM-9WLO6\""
      ]
     },
     "metadata": {},
     "output_type": "display_data"
    }
   ],
   "source": [
    "head(anno_list[[1]]$sampleId)"
   ]
  },
  {
   "cell_type": "code",
   "execution_count": 47,
   "metadata": {},
   "outputs": [
    {
     "data": {
      "text/html": [
       "<style>\n",
       ".list-inline {list-style: none; margin:0; padding: 0}\n",
       ".list-inline>li {display: inline-block}\n",
       ".list-inline>li:not(:last-child)::after {content: \"\\00b7\"; padding: 0 .5ex}\n",
       "</style>\n",
       "<ol class=list-inline><li>'Name'</li><li>'Description'</li><li>'GTEX-1117F-0226-SM-5GZZ7'</li><li>'GTEX-1117F-0426-SM-5EGHI'</li><li>'GTEX-1117F-0526-SM-5EGHJ'</li><li>'GTEX-1117F-0626-SM-5N9CS'</li></ol>\n"
      ],
      "text/latex": [
       "\\begin{enumerate*}\n",
       "\\item 'Name'\n",
       "\\item 'Description'\n",
       "\\item 'GTEX-1117F-0226-SM-5GZZ7'\n",
       "\\item 'GTEX-1117F-0426-SM-5EGHI'\n",
       "\\item 'GTEX-1117F-0526-SM-5EGHJ'\n",
       "\\item 'GTEX-1117F-0626-SM-5N9CS'\n",
       "\\end{enumerate*}\n"
      ],
      "text/markdown": [
       "1. 'Name'\n",
       "2. 'Description'\n",
       "3. 'GTEX-1117F-0226-SM-5GZZ7'\n",
       "4. 'GTEX-1117F-0426-SM-5EGHI'\n",
       "5. 'GTEX-1117F-0526-SM-5EGHJ'\n",
       "6. 'GTEX-1117F-0626-SM-5N9CS'\n",
       "\n",
       "\n"
      ],
      "text/plain": [
       "[1] \"Name\"                     \"Description\"             \n",
       "[3] \"GTEX-1117F-0226-SM-5GZZ7\" \"GTEX-1117F-0426-SM-5EGHI\"\n",
       "[5] \"GTEX-1117F-0526-SM-5EGHJ\" \"GTEX-1117F-0626-SM-5N9CS\""
      ]
     },
     "metadata": {},
     "output_type": "display_data"
    }
   ],
   "source": [
    "head(sample_id)"
   ]
  },
  {
   "cell_type": "code",
   "execution_count": 49,
   "metadata": {},
   "outputs": [
    {
     "data": {
      "text/html": [
       "<style>\n",
       ".list-inline {list-style: none; margin:0; padding: 0}\n",
       ".list-inline>li {display: inline-block}\n",
       ".list-inline>li:not(:last-child)::after {content: \"\\00b7\"; padding: 0 .5ex}\n",
       "</style>\n",
       "<ol class=list-inline><li>'GTEX-P4PP-3126-SM-28NG4'</li><li>'GTEX-OHPK-2326-SM-GDLDS'</li><li>'GTEX-QVJO-3026-SM-2IIL4'</li><li>'GTEX-OHPK-2326-SM-24NRQ'</li><li>'GTEX-T6MO-1026-SM-2W2GQ'</li><li>'GTEX-RU1J-0926-SM-2L6NX'</li></ol>\n"
      ],
      "text/latex": [
       "\\begin{enumerate*}\n",
       "\\item 'GTEX-P4PP-3126-SM-28NG4'\n",
       "\\item 'GTEX-OHPK-2326-SM-GDLDS'\n",
       "\\item 'GTEX-QVJO-3026-SM-2IIL4'\n",
       "\\item 'GTEX-OHPK-2326-SM-24NRQ'\n",
       "\\item 'GTEX-T6MO-1026-SM-2W2GQ'\n",
       "\\item 'GTEX-RU1J-0926-SM-2L6NX'\n",
       "\\end{enumerate*}\n"
      ],
      "text/markdown": [
       "1. 'GTEX-P4PP-3126-SM-28NG4'\n",
       "2. 'GTEX-OHPK-2326-SM-GDLDS'\n",
       "3. 'GTEX-QVJO-3026-SM-2IIL4'\n",
       "4. 'GTEX-OHPK-2326-SM-24NRQ'\n",
       "5. 'GTEX-T6MO-1026-SM-2W2GQ'\n",
       "6. 'GTEX-RU1J-0926-SM-2L6NX'\n",
       "\n",
       "\n"
      ],
      "text/plain": [
       "[1] \"GTEX-P4PP-3126-SM-28NG4\" \"GTEX-OHPK-2326-SM-GDLDS\"\n",
       "[3] \"GTEX-QVJO-3026-SM-2IIL4\" \"GTEX-OHPK-2326-SM-24NRQ\"\n",
       "[5] \"GTEX-T6MO-1026-SM-2W2GQ\" \"GTEX-RU1J-0926-SM-2L6NX\""
      ]
     },
     "metadata": {},
     "output_type": "display_data"
    }
   ],
   "source": [
    "head(tissue_id)"
   ]
  },
  {
   "cell_type": "code",
   "execution_count": 48,
   "metadata": {},
   "outputs": [
    {
     "data": {
      "text/html": [
       "<style>\n",
       ".list-inline {list-style: none; margin:0; padding: 0}\n",
       ".list-inline>li {display: inline-block}\n",
       ".list-inline>li:not(:last-child)::after {content: \"\\00b7\"; padding: 0 .5ex}\n",
       "</style>\n",
       "<ol class=list-inline><li>&lt;NA&gt;</li><li>&lt;NA&gt;</li><li>&lt;NA&gt;</li><li>&lt;NA&gt;</li><li>&lt;NA&gt;</li><li>&lt;NA&gt;</li></ol>\n"
      ],
      "text/latex": [
       "\\begin{enumerate*}\n",
       "\\item <NA>\n",
       "\\item <NA>\n",
       "\\item <NA>\n",
       "\\item <NA>\n",
       "\\item <NA>\n",
       "\\item <NA>\n",
       "\\end{enumerate*}\n"
      ],
      "text/markdown": [
       "1. &lt;NA&gt;\n",
       "2. &lt;NA&gt;\n",
       "3. &lt;NA&gt;\n",
       "4. &lt;NA&gt;\n",
       "5. &lt;NA&gt;\n",
       "6. &lt;NA&gt;\n",
       "\n",
       "\n"
      ],
      "text/plain": [
       "[1] NA NA NA NA NA NA"
      ]
     },
     "metadata": {},
     "output_type": "display_data"
    }
   ],
   "source": [
    "head(idx_tissue)"
   ]
  },
  {
   "cell_type": "code",
   "execution_count": 51,
   "metadata": {},
   "outputs": [
    {
     "data": {
      "text/html": [
       "'Whole_Blood'"
      ],
      "text/latex": [
       "'Whole\\_Blood'"
      ],
      "text/markdown": [
       "'Whole_Blood'"
      ],
      "text/plain": [
       "[1] \"Whole_Blood\""
      ]
     },
     "metadata": {},
     "output_type": "display_data"
    },
    {
     "data": {
      "text/html": [
       "1329"
      ],
      "text/latex": [
       "1329"
      ],
      "text/markdown": [
       "1329"
      ],
      "text/plain": [
       "[1] 1329"
      ]
     },
     "metadata": {},
     "output_type": "display_data"
    }
   ],
   "source": [
    "tissue_anno_vec[1]\n",
    "length(anno_list[[tissue_anno_vec[1]]]$sampleId)"
   ]
  },
  {
   "cell_type": "code",
   "execution_count": 71,
   "metadata": {},
   "outputs": [],
   "source": [
    "res <- anno_list[[tissue_anno_vec[1]]]$sampleId %in% sample_id"
   ]
  },
  {
   "cell_type": "code",
   "execution_count": 72,
   "metadata": {},
   "outputs": [
    {
     "data": {
      "text/html": [
       "0"
      ],
      "text/latex": [
       "0"
      ],
      "text/markdown": [
       "0"
      ],
      "text/plain": [
       "[1] 0"
      ]
     },
     "metadata": {},
     "output_type": "display_data"
    }
   ],
   "source": [
    "sum(res)"
   ]
  },
  {
   "cell_type": "code",
   "execution_count": 69,
   "metadata": {},
   "outputs": [
    {
     "data": {
      "text/html": [
       "17384"
      ],
      "text/latex": [
       "17384"
      ],
      "text/markdown": [
       "17384"
      ],
      "text/plain": [
       "[1] 17384"
      ]
     },
     "metadata": {},
     "output_type": "display_data"
    }
   ],
   "source": [
    "length(sample_id)"
   ]
  },
  {
   "cell_type": "code",
   "execution_count": 53,
   "metadata": {},
   "outputs": [
    {
     "data": {
      "text/html": [
       "<style>\n",
       ".list-inline {list-style: none; margin:0; padding: 0}\n",
       ".list-inline>li {display: inline-block}\n",
       ".list-inline>li:not(:last-child)::after {content: \"\\00b7\"; padding: 0 .5ex}\n",
       "</style>\n",
       "<ol class=list-inline><li>&lt;NA&gt;</li><li>&lt;NA&gt;</li><li>&lt;NA&gt;</li><li>&lt;NA&gt;</li><li>&lt;NA&gt;</li><li>&lt;NA&gt;</li></ol>\n"
      ],
      "text/latex": [
       "\\begin{enumerate*}\n",
       "\\item <NA>\n",
       "\\item <NA>\n",
       "\\item <NA>\n",
       "\\item <NA>\n",
       "\\item <NA>\n",
       "\\item <NA>\n",
       "\\end{enumerate*}\n"
      ],
      "text/markdown": [
       "1. &lt;NA&gt;\n",
       "2. &lt;NA&gt;\n",
       "3. &lt;NA&gt;\n",
       "4. &lt;NA&gt;\n",
       "5. &lt;NA&gt;\n",
       "6. &lt;NA&gt;\n",
       "\n",
       "\n"
      ],
      "text/plain": [
       "[1] NA NA NA NA NA NA"
      ]
     },
     "metadata": {},
     "output_type": "display_data"
    }
   ],
   "source": [
    "head(match(tissue_id, sample_id))"
   ]
  },
  {
   "cell_type": "code",
   "execution_count": 54,
   "metadata": {},
   "outputs": [
    {
     "data": {
      "text/html": [
       "17384"
      ],
      "text/latex": [
       "17384"
      ],
      "text/markdown": [
       "17384"
      ],
      "text/plain": [
       "[1] 17384"
      ]
     },
     "metadata": {},
     "output_type": "display_data"
    }
   ],
   "source": [
    "length(sample_id)"
   ]
  },
  {
   "cell_type": "code",
   "execution_count": 55,
   "metadata": {},
   "outputs": [],
   "source": [
    "idx_tissue <- match(tissue_id, sample_id)"
   ]
  },
  {
   "cell_type": "code",
   "execution_count": 56,
   "metadata": {},
   "outputs": [
    {
     "data": {
      "text/html": [
       "89"
      ],
      "text/latex": [
       "89"
      ],
      "text/markdown": [
       "89"
      ],
      "text/plain": [
       "[1] 89"
      ]
     },
     "metadata": {},
     "output_type": "display_data"
    }
   ],
   "source": [
    "sum(is.na(idx_tissue))"
   ]
  },
  {
   "cell_type": "code",
   "execution_count": 59,
   "metadata": {},
   "outputs": [
    {
     "data": {
      "text/html": [],
      "text/latex": [],
      "text/markdown": [],
      "text/plain": [
       "integer(0)"
      ]
     },
     "metadata": {},
     "output_type": "display_data"
    }
   ],
   "source": [
    "idx_tissue[!is.na(idx_tissue)]"
   ]
  },
  {
   "cell_type": "code",
   "execution_count": 73,
   "metadata": {},
   "outputs": [
    {
     "data": {
      "text/html": [
       "'GTEX-P4PP-3126-SM-28NG4'"
      ],
      "text/latex": [
       "'GTEX-P4PP-3126-SM-28NG4'"
      ],
      "text/markdown": [
       "'GTEX-P4PP-3126-SM-28NG4'"
      ],
      "text/plain": [
       "[1] \"GTEX-P4PP-3126-SM-28NG4\""
      ]
     },
     "metadata": {},
     "output_type": "display_data"
    }
   ],
   "source": [
    "anno_list[[tissue]]$sampleId[1]"
   ]
  },
  {
   "cell_type": "code",
   "execution_count": null,
   "metadata": {},
   "outputs": [],
   "source": [
    "tissue"
   ]
  },
  {
   "cell_type": "code",
   "execution_count": 67,
   "metadata": {},
   "outputs": [
    {
     "name": "stdout",
     "output_type": "stream",
     "text": [
      "[1] \"INFO: 1\"\n",
      "[1] 1329\n",
      "[1] \"GTEX-WYJK-0001-SM-3E5QC\" \"GTEX-YB5K-0002-SM-3T6OW\"\n",
      "[3] \"GTEX-ZYFD-0005-SM-4BS7Y\" \"GTEX-XBED-0004-SM-3KL5O\"\n",
      "[5] \"GTEX-R55E-0003-SM-2K775\" \"GTEX-X261-0002-SM-3GRJB\"\n",
      "[1] NA NA NA NA NA NA\n",
      "[1] \"Name\"                     \"Description\"             \n",
      "[3] \"GTEX-1117F-0226-SM-5GZZ7\" \"GTEX-1117F-0426-SM-5EGHI\"\n",
      "[5] \"GTEX-1117F-0526-SM-5EGHJ\" \"GTEX-1117F-0626-SM-5N9CS\"\n",
      "[1] 0\n",
      "[1] \"INFO: 2\"\n",
      "[1] 1443\n",
      "[1] \"GTEX-13112-0008-SM-4VDIJ\" \"GTEX-11WQK-0008-SM-52TJ3\"\n",
      "[3] \"GTEX-X5EB-0008-SM-3L2BV\"  \"GTEX-Y3I4-0008-SM-3T6G6\" \n",
      "[5] \"GTEX-XBED-0008-SM-3MFU9\"  \"GTEX-13112-0008-SM-4VDIL\"\n",
      "[1] NA NA NA NA NA NA\n",
      "[1] \"Name\"                     \"Description\"             \n",
      "[3] \"GTEX-1117F-0226-SM-5GZZ7\" \"GTEX-1117F-0426-SM-5EGHI\"\n",
      "[5] \"GTEX-1117F-0526-SM-5EGHJ\" \"GTEX-1117F-0626-SM-5N9CS\"\n",
      "[1] 0\n",
      "[1] \"INFO: 3\"\n",
      "[1] 3076\n",
      "[1] \"GTEX-XXEK-0004-SM-43PHD\"  \"GTEX-ZYW4-0001-SM-5Q68K\" \n",
      "[3] \"GTEX-1399U-0001-SM-65SW8\" \"GTEX-ZF3C-0001-SM-5JK6W\" \n",
      "[5] \"GTEX-T5JW-0003-SM-3A9UV\"  \"GTEX-1KXAM-0001-SM-9WPEY\"\n",
      "[1] NA NA NA NA NA NA\n",
      "[1] \"Name\"                     \"Description\"             \n",
      "[3] \"GTEX-1117F-0226-SM-5GZZ7\" \"GTEX-1117F-0426-SM-5EGHI\"\n",
      "[5] \"GTEX-1117F-0526-SM-5EGHJ\" \"GTEX-1117F-0626-SM-5N9CS\"\n",
      "[1] 0\n",
      "[1] \"INFO: 4\"\n",
      "[1] 417\n",
      "[1] \"GTEX-14JIY-3026-SM-6CC7U\" \"GTEX-169BO-1226-SM-5LCKI\"\n",
      "[3] \"GTEX-1HCU7-0126-SM-ARXX9\" \"GTEX-14PJN-1726-SM-5CCJ7\"\n",
      "[5] \"GTEX-ZF29-2126-SM-4TVXI\"  \"GTEX-1MCC2-2226-SM-D4R8X\"\n",
      "[1] NA NA NA NA NA NA\n",
      "[1] \"Name\"                     \"Description\"             \n",
      "[3] \"GTEX-1117F-0226-SM-5GZZ7\" \"GTEX-1117F-0426-SM-5EGHI\"\n",
      "[5] \"GTEX-1117F-0526-SM-5EGHJ\" \"GTEX-1117F-0626-SM-5N9CS\"\n",
      "[1] 0\n",
      "[1] \"INFO: 5\"\n",
      "[1] 2267\n",
      "[1] \"GTEX-1IKOE-1226-SM-7IIQV\" \"GTEX-15SHW-0926-SM-5K4ZT\"\n",
      "[3] \"GTEX-13N11-0326-SM-5A91C\" \"GTEX-13CF3-0426-SM-5S5HB\"\n",
      "[5] \"GTEX-14C39-0326-SM-58X1K\" \"GTEX-1I1GS-1426-SM-BXZK9\"\n",
      "[1] NA NA NA NA NA NA\n",
      "[1] \"Name\"                     \"Description\"             \n",
      "[3] \"GTEX-1117F-0226-SM-5GZZ7\" \"GTEX-1117F-0426-SM-5EGHI\"\n",
      "[5] \"GTEX-1117F-0526-SM-5EGHJ\" \"GTEX-1117F-0626-SM-5N9CS\"\n",
      "[1] 0\n",
      "[1] \"INFO: 6\"\n",
      "[1] 2948\n",
      "[1] \"GTEX-QMRM-1826-SM-2HUI9\"  \"GTEX-14PN4-0126-SM-6A7ID\"\n",
      "[3] \"GTEX-ZT9X-1726-SM-4UJSJ\"  \"GTEX-1N2DV-0226-SM-D4R96\"\n",
      "[5] \"GTEX-1497J-2426-SM-5IWR2\" \"GTEX-1AX8Y-2026-SM-6DQ2E\"\n",
      "[1] NA NA NA NA NA NA\n",
      "[1] \"Name\"                     \"Description\"             \n",
      "[3] \"GTEX-1117F-0226-SM-5GZZ7\" \"GTEX-1117F-0426-SM-5EGHI\"\n",
      "[5] \"GTEX-1117F-0526-SM-5EGHJ\" \"GTEX-1117F-0626-SM-5N9CS\"\n",
      "[1] 0\n",
      "[1] \"INFO: 7\"\n",
      "[1] 1934\n",
      "[1] \"GTEX-145MF-1526-SM-5KMDH\" \"GTEX-X5EB-1026-SM-3KQCI\" \n",
      "[3] \"GTEX-1ICG6-2126-SM-AXRWB\" \"GTEX-1RNSC-2326-SM-DN2NZ\"\n",
      "[5] \"GTEX-12584-1826-SM-4MPBQ\" \"GTEX-ZF29-1426-SM-41TKG\" \n",
      "[1] NA NA NA NA NA NA\n",
      "[1] \"Name\"                     \"Description\"             \n",
      "[3] \"GTEX-1117F-0226-SM-5GZZ7\" \"GTEX-1117F-0426-SM-5EGHI\"\n",
      "[5] \"GTEX-1117F-0526-SM-5EGHJ\" \"GTEX-1117F-0626-SM-5N9CS\"\n",
      "[1] 0\n",
      "[1] \"INFO: 8\"\n",
      "[1] 1737\n",
      "[1] \"GTEX-15D1Q-0426-SM-5LARO\" \"GTEX-XQ8I-0226-SM-3MZOI\" \n",
      "[3] \"GTEX-1B98T-1326-SM-6ZIB6\" \"GTEX-ZZPT-0926-SM-687T7\" \n",
      "[5] \"GTEX-11PRG-1026-SM-4ZTCP\" \"GTEX-1HR9M-0926-SM-AL5QC\"\n",
      "[1] NA NA NA NA NA NA\n",
      "[1] \"Name\"                     \"Description\"             \n",
      "[3] \"GTEX-1117F-0226-SM-5GZZ7\" \"GTEX-1117F-0426-SM-5EGHI\"\n",
      "[5] \"GTEX-1117F-0526-SM-5EGHJ\" \"GTEX-1117F-0626-SM-5N9CS\"\n",
      "[1] 0\n",
      "[1] \"INFO: 9\"\n",
      "[1] 2738\n",
      "[1] \"GTEX-1GZ2Q-0526-SM-9JJ5C\" \"GTEX-1AMEY-1626-SM-6C6UA\"\n",
      "[3] \"GTEX-OXRP-2526-SM-GBVVC\"  \"GTEX-1A8FM-0326-SM-76LKL\"\n",
      "[5] \"GTEX-13PVR-2626-SM-5K3XM\" \"GTEX-1MA7X-1826-SM-9RR3C\"\n",
      "[1] NA NA NA NA NA NA\n",
      "[1] \"Name\"                     \"Description\"             \n",
      "[3] \"GTEX-1117F-0226-SM-5GZZ7\" \"GTEX-1117F-0426-SM-5EGHI\"\n",
      "[5] \"GTEX-1117F-0526-SM-5EGHJ\" \"GTEX-1117F-0626-SM-5N9CS\"\n",
      "[1] 0\n",
      "[1] \"INFO: 10\"\n",
      "[1] 2267\n",
      "[1] \"GTEX-13FXS-2326-SM-5XTY3\" \"GTEX-1HUB1-1626-SM-ASKLV\"\n",
      "[3] \"GTEX-1HFI6-2126-SM-9P6YO\" \"GTEX-131XW-0726-SM-4STZQ\"\n",
      "[5] \"GTEX-11NV4-2026-SM-4I3P9\" \"GTEX-1OKEX-0826-SM-CZC59\"\n",
      "[1] NA NA NA NA NA NA\n",
      "[1] \"Name\"                     \"Description\"             \n",
      "[3] \"GTEX-1117F-0226-SM-5GZZ7\" \"GTEX-1117F-0426-SM-5EGHI\"\n",
      "[5] \"GTEX-1117F-0526-SM-5EGHJ\" \"GTEX-1117F-0626-SM-5N9CS\"\n",
      "[1] 0\n",
      "[1] \"INFO: 11\"\n",
      "[1] 1923\n",
      "[1] \"GTEX-12WSC-1126-SM-4PT6J\" \"GTEX-15RIE-1726-SM-5IIM2\"\n",
      "[3] \"GTEX-YB5K-0126-SM-51P6I\"  \"GTEX-1GZHY-0926-SM-7FFHE\"\n",
      "[5] \"GTEX-1HFI6-0726-SM-7D6NC\" \"GTEX-1QMI2-1226-SM-ALTOB\"\n",
      "[1] NA NA NA NA NA NA\n",
      "[1] \"Name\"                     \"Description\"             \n",
      "[3] \"GTEX-1117F-0226-SM-5GZZ7\" \"GTEX-1117F-0426-SM-5EGHI\"\n",
      "[5] \"GTEX-1117F-0526-SM-5EGHJ\" \"GTEX-1117F-0626-SM-5N9CS\"\n",
      "[1] 0\n",
      "[1] \"INFO: 12\"\n",
      "[1] 2338\n",
      "[1] \"GTEX-12696-0426-SM-5YB77\" \"GTEX-WZTO-1626-SM-3FFQ4\" \n",
      "[3] \"GTEX-1A8G6-1526-SM-6ZHFA\" \"GTEX-12KS4-0626-SM-6BMFE\"\n",
      "[5] \"GTEX-Y3IK-0726-SM-EYI22\"  \"GTEX-1I1HK-0926-SM-7DN5S\"\n",
      "[1] NA NA NA NA NA NA\n",
      "[1] \"Name\"                     \"Description\"             \n",
      "[3] \"GTEX-1117F-0226-SM-5GZZ7\" \"GTEX-1117F-0426-SM-5EGHI\"\n",
      "[5] \"GTEX-1117F-0526-SM-5EGHJ\" \"GTEX-1117F-0626-SM-5N9CS\"\n",
      "[1] 0\n",
      "[1] \"INFO: 13\"\n",
      "[1] 2556\n",
      "[1] \"GTEX-1KANA-0126-SM-9J7U2\" \"GTEX-T6MN-0626-SM-2VMSH\" \n",
      "[3] \"GTEX-1HFI7-0326-SM-9QGN7\" \"GTEX-1K9T9-0826-SM-DHL21\"\n",
      "[5] \"GTEX-W5X1-0426-SM-9IXZH\"  \"GTEX-13CF2-0126-SM-4VSJY\"\n",
      "[1] NA NA NA NA NA NA\n",
      "[1] \"Name\"                     \"Description\"             \n",
      "[3] \"GTEX-1117F-0226-SM-5GZZ7\" \"GTEX-1117F-0426-SM-5EGHI\"\n",
      "[5] \"GTEX-1117F-0526-SM-5EGHJ\" \"GTEX-1117F-0626-SM-5N9CS\"\n",
      "[1] 0\n",
      "[1] \"INFO: 14\"\n",
      "[1] 1891\n",
      "[1] \"GTEX-1LG7Y-2226-SM-D5MCR\" \"GTEX-ZTPG-2526-SM-6DPHU\" \n",
      "[3] \"GTEX-1S5ZA-1426-SM-D4152\" \"GTEX-XV7Q-2226-SM-3U7LQ\" \n",
      "[5] \"GTEX-16MT8-2526-SM-5Z5E5\" \"GTEX-139TS-2226-SM-4VJFS\"\n",
      "[1] NA NA NA NA NA NA\n",
      "[1] \"Name\"                     \"Description\"             \n",
      "[3] \"GTEX-1117F-0226-SM-5GZZ7\" \"GTEX-1117F-0426-SM-5EGHI\"\n",
      "[5] \"GTEX-1117F-0526-SM-5EGHJ\" \"GTEX-1117F-0626-SM-5N9CS\"\n",
      "[1] 0\n",
      "[1] \"INFO: 15\"\n",
      "[1] 2399\n",
      "[1] \"GTEX-ZF28-1426-SM-4SR6R\"  \"GTEX-148VI-0426-SM-5IWPA\"\n",
      "[3] \"GTEX-13IVO-2426-SM-5971V\" \"GTEX-1ICLY-1426-SM-AXRU6\"\n",
      "[5] \"GTEX-15SHW-1726-SM-5K512\" \"GTEX-Y5V5-0226-SM-5FYRP\" \n",
      "[1] NA NA NA NA NA NA\n",
      "[1] \"Name\"                     \"Description\"             \n",
      "[3] \"GTEX-1117F-0226-SM-5GZZ7\" \"GTEX-1117F-0426-SM-5EGHI\"\n",
      "[5] \"GTEX-1117F-0526-SM-5EGHJ\" \"GTEX-1117F-0626-SM-5N9CS\"\n",
      "[1] 0\n",
      "[1] \"INFO: 16\"\n",
      "[1] 640\n",
      "[1] \"GTEX-1269C-2026-SM-5HNOX\" \"GTEX-14PHW-2426-SM-5C7R2\"\n",
      "[3] \"GTEX-1313W-2826-SM-4SH4H\" \"GTEX-1LGOU-1226-SM-CUWY5\"\n",
      "[5] \"GTEX-ZVT2-0426-SM-4AH6K\"  \"GTEX-1R9PN-0526-SM-D1BRK\"\n",
      "[1] NA NA NA NA NA NA\n",
      "[1] \"Name\"                     \"Description\"             \n",
      "[3] \"GTEX-1117F-0226-SM-5GZZ7\" \"GTEX-1117F-0426-SM-5EGHI\"\n",
      "[5] \"GTEX-1117F-0526-SM-5EGHJ\" \"GTEX-1117F-0626-SM-5N9CS\"\n",
      "[1] 0\n",
      "[1] \"INFO: 17\"\n",
      "[1] 2059\n",
      "[1] \"GTEX-S3XE-0626-SM-2ME8W\"  \"GTEX-1ICLY-1626-SM-ALIY6\"\n",
      "[3] \"GTEX-13S86-0126-SM-5JA9X\" \"GTEX-QXCU-1226-SM-2J9Y7\" \n",
      "[5] \"GTEX-18A66-1826-SM-5ZN1Z\" \"GTEX-131XH-0926-SM-4SQQ7\"\n",
      "[1] NA NA NA NA NA NA\n",
      "[1] \"Name\"                     \"Description\"             \n",
      "[3] \"GTEX-1117F-0226-SM-5GZZ7\" \"GTEX-1117F-0426-SM-5EGHI\"\n",
      "[5] \"GTEX-1117F-0526-SM-5EGHJ\" \"GTEX-1117F-0626-SM-5N9CS\"\n",
      "[1] 0\n",
      "[1] \"INFO: 18\"\n",
      "[1] 1094\n",
      "[1] \"GTEX-ZYFG-2026-SM-58SZP\"  \"GTEX-ZTSS-0926-SM-496O2\" \n",
      "[3] \"GTEX-1NSGN-2126-SM-CZC49\" \"GTEX-1BAJH-2526-SM-6ZHU5\"\n",
      "[5] \"GTEX-1PPGY-2726-SM-AKHAR\" \"GTEX-ZYVF-2626-SM-58SZR\" \n",
      "[1] NA NA NA NA NA NA\n",
      "[1] \"Name\"                     \"Description\"             \n",
      "[3] \"GTEX-1117F-0226-SM-5GZZ7\" \"GTEX-1117F-0426-SM-5EGHI\"\n",
      "[5] \"GTEX-1117F-0526-SM-5EGHJ\" \"GTEX-1117F-0626-SM-5N9CS\"\n",
      "[1] 0\n",
      "[1] \"INFO: 19\"\n",
      "[1] 677\n",
      "[1] \"GTEX-16MT9-2726-SM-5ZVT7\" \"GTEX-1F88F-2226-SM-71TDC\"\n",
      "[3] \"GTEX-WI4N-2626-SM-3DSNZ\"  \"GTEX-QVJO-2526-SM-2IIKY\" \n",
      "[5] \"GTEX-Q2AG-2226-SM-2DO9C\"  \"GTEX-131YS-2426-SM-61XO4\"\n",
      "[1] NA NA NA NA NA NA\n",
      "[1] \"Name\"                     \"Description\"             \n",
      "[3] \"GTEX-1117F-0226-SM-5GZZ7\" \"GTEX-1117F-0426-SM-5EGHI\"\n",
      "[5] \"GTEX-1117F-0526-SM-5EGHJ\" \"GTEX-1117F-0626-SM-5N9CS\"\n",
      "[1] 0\n",
      "[1] \"INFO: 20\"\n",
      "[1] 1152\n",
      "[1] \"GTEX-1JJ6O-2526-SM-AFPAW\" \"GTEX-ZTTD-2026-SM-5YZS1\" \n",
      "[3] \"GTEX-ZYT6-2226-SM-6887B\"  \"GTEX-16XZY-1026-SM-AJ7JM\"\n",
      "[5] \"GTEX-QDVN-1626-SM-2F4HB\"  \"GTEX-1HBPH-1826-SM-9QHW1\"\n",
      "[1] NA NA NA NA NA NA\n",
      "[1] \"Name\"                     \"Description\"             \n",
      "[3] \"GTEX-1117F-0226-SM-5GZZ7\" \"GTEX-1117F-0426-SM-5EGHI\"\n",
      "[5] \"GTEX-1117F-0526-SM-5EGHJ\" \"GTEX-1117F-0626-SM-5N9CS\"\n",
      "[1] 0\n",
      "[1] \"INFO: 21\"\n",
      "[1] 1326\n",
      "[1] \"GTEX-11UD2-2626-SM-6DCAJ\" \"GTEX-1GMR3-1826-SM-7F5VC\"\n",
      "[3] \"GTEX-X3Y1-1026-SM-3ILYQ\"  \"GTEX-XBED-1826-SM-3LT56\" \n",
      "[5] \"GTEX-UTHO-2726-SM-38ZXI\"  \"GTEX-ZZ64-0926-SM-4VC84\" \n",
      "[1] NA NA NA NA NA NA\n",
      "[1] \"Name\"                     \"Description\"             \n",
      "[3] \"GTEX-1117F-0226-SM-5GZZ7\" \"GTEX-1117F-0426-SM-5EGHI\"\n",
      "[5] \"GTEX-1117F-0526-SM-5EGHJ\" \"GTEX-1117F-0626-SM-5N9CS\"\n",
      "[1] 0\n",
      "[1] \"INFO: 22\"\n",
      "[1] 1871\n",
      "[1] \"GTEX-XBED-0226-SM-3LSA3\"  \"GTEX-147JS-2026-SM-5JUDC\"\n",
      "[3] \"GTEX-1R9PM-0626-SM-DLLLX\" \"GTEX-14C39-1026-SM-58X1R\"\n",
      "[5] \"GTEX-1497J-0426-SM-57OB8\" \"GTEX-12WSG-1026-SM-4PPKS\"\n",
      "[1] NA NA NA NA NA NA\n",
      "[1] \"Name\"                     \"Description\"             \n",
      "[3] \"GTEX-1117F-0226-SM-5GZZ7\" \"GTEX-1117F-0426-SM-5EGHI\"\n",
      "[5] \"GTEX-1117F-0526-SM-5EGHJ\" \"GTEX-1117F-0626-SM-5N9CS\"\n",
      "[1] 0\n",
      "[1] \"INFO: 23\"\n",
      "[1] 2769\n",
      "[1] \"GTEX-1IL2U-0726-SM-7JHFK\" \"GTEX-1HSKV-0126-SM-D1LYX\"\n",
      "[3] \"GTEX-1QP9N-1926-SM-AMVUA\" \"GTEX-1S5VW-0526-SM-DAMU1\"\n",
      "[5] \"GTEX-15D79-0526-SM-5LAT8\" \"GTEX-1C6VS-0126-SM-6NWVJ\"\n",
      "[1] NA NA NA NA NA NA\n",
      "[1] \"Name\"                     \"Description\"             \n",
      "[3] \"GTEX-1117F-0226-SM-5GZZ7\" \"GTEX-1117F-0426-SM-5EGHI\"\n",
      "[5] \"GTEX-1117F-0526-SM-5EGHJ\" \"GTEX-1117F-0626-SM-5N9CS\"\n",
      "[1] 0\n",
      "[1] \"INFO: 24\"\n",
      "[1] 2294\n",
      "[1] \"GTEX-1S831-1626-SM-D8JOB\" \"GTEX-1KANC-0926-SM-9J4WV\"\n",
      "[3] \"GTEX-1S831-1626-SM-D8M74\" \"GTEX-1R7EU-1926-SM-D6NNV\"\n",
      "[5] \"GTEX-ZDXO-1826-SM-41KQO\"  \"GTEX-1IDJC-1326-SM-ALA1B\"\n",
      "[1] NA NA NA NA NA NA\n",
      "[1] \"Name\"                     \"Description\"             \n",
      "[3] \"GTEX-1117F-0226-SM-5GZZ7\" \"GTEX-1117F-0426-SM-5EGHI\"\n",
      "[5] \"GTEX-1117F-0526-SM-5EGHJ\" \"GTEX-1117F-0626-SM-5N9CS\"\n",
      "[1] 0\n",
      "[1] \"INFO: 25\"\n",
      "[1] 1424\n",
      "[1] \"GTEX-ZYFD-1126-SM-4BRQ1\"  \"GTEX-WWYW-1026-SM-3G5JF\" \n",
      "[3] \"GTEX-S7SE-1326-SM-2OATZ\"  \"GTEX-15ER7-1826-SM-61TQ3\"\n",
      "[5] \"GTEX-1I1GS-0826-SM-9VD4V\" \"GTEX-1JN1M-1226-SM-CV6WZ\"\n",
      "[1] NA NA NA NA NA NA\n",
      "[1] \"Name\"                     \"Description\"             \n",
      "[3] \"GTEX-1117F-0226-SM-5GZZ7\" \"GTEX-1117F-0426-SM-5EGHI\"\n",
      "[5] \"GTEX-1117F-0526-SM-5EGHJ\" \"GTEX-1117F-0626-SM-5N9CS\"\n",
      "[1] 0\n",
      "[1] \"INFO: 26\"\n",
      "[1] 1724\n",
      "[1] \"GTEX-1JKYN-0126-SM-7MEIB\" \"GTEX-WVLH-1926-SM-3CTFE\" \n",
      "[3] \"GTEX-1HT8W-1026-SM-B4LU4\" \"GTEX-17EVQ-2526-SM-65ZYT\"\n",
      "[5] \"GTEX-147F4-2526-SM-5BK53\" \"GTEX-S32W-0126-SM-2OWXD\" \n",
      "[1] NA NA NA NA NA NA\n",
      "[1] \"Name\"                     \"Description\"             \n",
      "[3] \"GTEX-1117F-0226-SM-5GZZ7\" \"GTEX-1117F-0426-SM-5EGHI\"\n",
      "[5] \"GTEX-1117F-0526-SM-5EGHJ\" \"GTEX-1117F-0626-SM-5N9CS\"\n",
      "[1] 0\n",
      "[1] \"INFO: 27\"\n",
      "[1] 1447\n",
      "[1] \"GTEX-T6MN-1026-SM-2VMRL\"  \"GTEX-UPK5-0126-SM-36GHK\" \n",
      "[3] \"GTEX-WWYW-1226-SM-3DNLI\"  \"GTEX-11ILO-2326-SM-4GHJE\"\n",
      "[5] \"GTEX-145MG-1126-SM-5KMDQ\" \"GTEX-13NYS-2026-SM-64ITE\"\n",
      "[1] NA NA NA NA NA NA\n",
      "[1] \"Name\"                     \"Description\"             \n",
      "[3] \"GTEX-1117F-0226-SM-5GZZ7\" \"GTEX-1117F-0426-SM-5EGHI\"\n",
      "[5] \"GTEX-1117F-0526-SM-5EGHJ\" \"GTEX-1117F-0626-SM-5N9CS\"\n",
      "[1] 0\n",
      "[1] \"INFO: 28\"\n",
      "[1] 2726\n",
      "[1] \"GTEX-13N2G-2526-SM-68854\" \"GTEX-1211K-2426-SM-4YJTB\"\n",
      "[3] \"GTEX-1C6VS-0326-SM-6NWVL\" \"GTEX-11P82-2026-SM-4IOR3\"\n",
      "[5] \"GTEX-1A8G7-0426-SM-6L6JZ\" \"GTEX-OIZF-1826-SM-7B122\" \n",
      "[1] NA NA NA NA NA NA\n",
      "[1] \"Name\"                     \"Description\"             \n",
      "[3] \"GTEX-1117F-0226-SM-5GZZ7\" \"GTEX-1117F-0426-SM-5EGHI\"\n",
      "[5] \"GTEX-1117F-0526-SM-5EGHJ\" \"GTEX-1117F-0626-SM-5N9CS\"\n",
      "[1] 0\n",
      "[1] \"INFO: 29\"\n",
      "[1] 2464\n",
      "[1] \"GTEX-15EU6-1526-SM-5FV5U\" \"GTEX-15SHW-1926-SM-5K514\"\n",
      "[3] \"GTEX-1EWIQ-1626-SM-76UMN\" \"GTEX-1GN73-2026-SM-9QGNB\"\n",
      "[5] \"GTEX-1QW4Y-0426-SM-D88Q8\" \"GTEX-1I6K7-1526-SM-9W9KU\"\n",
      "[1] NA NA NA NA NA NA\n",
      "[1] \"Name\"                     \"Description\"             \n",
      "[3] \"GTEX-1117F-0226-SM-5GZZ7\" \"GTEX-1117F-0426-SM-5EGHI\"\n",
      "[5] \"GTEX-1117F-0526-SM-5EGHJ\" \"GTEX-1117F-0626-SM-5N9CS\"\n",
      "[1] 0\n",
      "[1] \"INFO: 30\"\n",
      "[1] 1557\n",
      "[1] \"GTEX-11DZ1-2826-SM-4F5MO\" \"GTEX-1E1VI-1026-SM-794O6\"\n",
      "[3] \"GTEX-XAJ8-1326-SM-3J7EF\"  \"GTEX-13NZ9-2826-SM-4YJB3\"\n",
      "[5] \"GTEX-15EU6-2326-SM-5FV63\" \"GTEX-12584-0626-SM-5C2TF\"\n",
      "[1] NA NA NA NA NA NA\n",
      "[1] \"Name\"                     \"Description\"             \n",
      "[3] \"GTEX-1117F-0226-SM-5GZZ7\" \"GTEX-1117F-0426-SM-5EGHI\"\n",
      "[5] \"GTEX-1117F-0526-SM-5EGHJ\" \"GTEX-1117F-0626-SM-5N9CS\"\n",
      "[1] 0\n",
      "[1] \"INFO: 31\"\n",
      "[1] 2419\n",
      "[1] \"GTEX-ZVE1-0726-SM-4ADQB\"  \"GTEX-ZYFD-0626-SM-4V8P2\" \n",
      "[3] \"GTEX-1S3DN-2126-SM-D1KVX\" \"GTEX-1399T-0326-SM-5BWE5\"\n",
      "[5] \"GTEX-YB5K-2026-SM-3T1EB\"  \"GTEX-131XG-0326-SM-5X15C\"\n",
      "[1] NA NA NA NA NA NA\n",
      "[1] \"Name\"                     \"Description\"             \n",
      "[3] \"GTEX-1117F-0226-SM-5GZZ7\" \"GTEX-1117F-0426-SM-5EGHI\"\n",
      "[5] \"GTEX-1117F-0526-SM-5EGHJ\" \"GTEX-1117F-0626-SM-5N9CS\"\n",
      "[1] 0\n",
      "[1] \"INFO: 32\"\n",
      "[1] 1175\n",
      "[1] \"GTEX-19HZE-3026-SM-6EF87\" \"GTEX-1QP6S-3026-SM-DCQPJ\"\n",
      "[3] \"GTEX-1RNSC-3126-SM-ARU6D\" \"GTEX-1H1CY-3026-SM-746YQ\"\n",
      "[5] \"GTEX-1EH9U-3126-SM-76LLJ\" \"GTEX-1I1GR-2826-SM-9UYCX\"\n",
      "[1] NA NA NA NA NA NA\n",
      "[1] \"Name\"                     \"Description\"             \n",
      "[3] \"GTEX-1117F-0226-SM-5GZZ7\" \"GTEX-1117F-0426-SM-5EGHI\"\n",
      "[5] \"GTEX-1117F-0526-SM-5EGHJ\" \"GTEX-1117F-0626-SM-5N9CS\"\n",
      "[1] 0\n",
      "[1] \"INFO: 33\"\n",
      "[1] 85\n",
      "[1] \"GTEX-N7MT-0825-SM-DKG9D\" \"GTEX-OXRO-2825-SM-DKG9A\"\n",
      "[3] \"GTEX-PWN1-2126-SM-2CUY6\" \"GTEX-SN8G-2126-SM-2Q1XT\"\n",
      "[5] \"GTEX-P78B-2326-SM-29FLW\" \"GTEX-PWN1-2126-SM-2DFRI\"\n",
      "[1] NA NA NA NA NA NA\n",
      "[1] \"Name\"                     \"Description\"             \n",
      "[3] \"GTEX-1117F-0226-SM-5GZZ7\" \"GTEX-1117F-0426-SM-5EGHI\"\n",
      "[5] \"GTEX-1117F-0526-SM-5EGHJ\" \"GTEX-1117F-0626-SM-5N9CS\"\n",
      "[1] 0\n",
      "[1] \"INFO: 34\"\n",
      "[1] 143\n",
      "[1] \"GTEX-T6MN-0011-R8A-SM-2LYBP\" \"GTEX-OHPN-0011-R8A-SM-1Z8SM\"\n",
      "[3] \"GTEX-RU72-0011-R8A-SM-2OKK1\" \"GTEX-X585-0011-R8A-SM-3TM77\"\n",
      "[5] \"GTEX-WWYW-0011-R8A-SM-3GS11\" \"GTEX-XLM4-0011-R8A-SM-3TWHL\"\n",
      "[1] NA NA NA NA NA NA\n",
      "[1] \"Name\"                     \"Description\"             \n",
      "[3] \"GTEX-1117F-0226-SM-5GZZ7\" \"GTEX-1117F-0426-SM-5EGHI\"\n",
      "[5] \"GTEX-1117F-0526-SM-5EGHJ\" \"GTEX-1117F-0626-SM-5N9CS\"\n",
      "[1] 0\n",
      "[1] \"INFO: 35\"\n",
      "[1] 133\n",
      "[1] \"GTEX-QVJO-0011-R4A-SM-EXXNX\"  \"GTEX-QDT8-0011-R4A-SM-1Z8TX\" \n",
      "[3] \"GTEX-UTHO-0011-R4A-SM-3A7AM\"  \"GTEX-N7MS-0011-R4a-SM-1UOZ4\" \n",
      "[5] \"GTEX-OXRO-0011-R4A-SM-77669\"  \"GTEX-12WSC-0011-R4a-SM-GIZX6\"\n",
      "[1] NA NA NA NA NA NA\n",
      "[1] \"Name\"                     \"Description\"             \n",
      "[3] \"GTEX-1117F-0226-SM-5GZZ7\" \"GTEX-1117F-0426-SM-5EGHI\"\n",
      "[5] \"GTEX-1117F-0526-SM-5EGHJ\" \"GTEX-1117F-0626-SM-5N9CS\"\n",
      "[1] 0\n",
      "[1] \"INFO: 36\"\n",
      "[1] 98\n",
      "[1] \"GTEX-TSE9-0011-R9A-SM-2LYB5\" \"GTEX-XLM4-0011-R9A-SM-3TWGL\"\n",
      "[3] \"GTEX-RU72-0011-R9A-SM-9SDB8\" \"GTEX-NL4W-0011-R9a-SM-776ER\"\n",
      "[5] \"GTEX-T5JC-0011-R9A-SM-2K5RF\" \"GTEX-NPJ7-0011-R9a-SM-7QITB\"\n",
      "[1] NA NA NA NA NA NA\n",
      "[1] \"Name\"                     \"Description\"             \n",
      "[3] \"GTEX-1117F-0226-SM-5GZZ7\" \"GTEX-1117F-0426-SM-5EGHI\"\n",
      "[5] \"GTEX-1117F-0526-SM-5EGHJ\" \"GTEX-1117F-0626-SM-5N9CS\"\n",
      "[1] 0\n",
      "[1] \"INFO: 37\"\n",
      "[1] 1195\n",
      "[1] \"GTEX-117XS-3026-SM-4WAN9\" \"GTEX-11DXY-3226-SM-4EVCX\"\n",
      "[3] \"GTEX-NL4W-1326-SM-AJ7AU\"  \"GTEX-12WSI-3026-SM-4Z8FA\"\n",
      "[5] \"GTEX-14E6D-2826-SM-5JABF\" \"GTEX-T2IS-3026-SM-2V4M8\" \n",
      "[1] NA NA NA NA NA NA\n",
      "[1] \"Name\"                     \"Description\"             \n",
      "[3] \"GTEX-1117F-0226-SM-5GZZ7\" \"GTEX-1117F-0426-SM-5EGHI\"\n",
      "[5] \"GTEX-1117F-0526-SM-5EGHJ\" \"GTEX-1117F-0626-SM-5N9CS\"\n",
      "[1] 0\n",
      "[1] \"INFO: 38\"\n",
      "[1] 2840\n",
      "[1] \"GTEX-1HC8U-2526-SM-9P6XT\" \"GTEX-11OC5-0226-SM-4I6R8\"\n",
      "[3] \"GTEX-ZTTD-0226-SM-5GJHE\"  \"GTEX-13N2G-2726-SM-58XCZ\"\n",
      "[5] \"GTEX-NL3H-0226-SM-22GRN\"  \"GTEX-1IDJC-2126-SM-9WLO6\"\n",
      "[1] NA NA NA NA NA NA\n",
      "[1] \"Name\"                     \"Description\"             \n",
      "[3] \"GTEX-1117F-0226-SM-5GZZ7\" \"GTEX-1117F-0426-SM-5EGHI\"\n",
      "[5] \"GTEX-1117F-0526-SM-5EGHJ\" \"GTEX-1117F-0626-SM-5N9CS\"\n",
      "[1] 0\n",
      "[1] \"INFO: 39\"\n",
      "[1] 2391\n",
      "[1] \"GTEX-14BIN-2726-SM-H5A1W\" \"GTEX-ZT9W-1326-SM-48H5C\" \n",
      "[3] \"GTEX-145LU-0926-SM-5KXTC\" \"GTEX-XQ3S-1126-SM-3SJVY\" \n",
      "[5] \"GTEX-1B933-2026-SM-6ZIBN\" \"GTEX-U8T8-1926-SM-2V1X5\" \n",
      "[1] NA NA NA NA NA NA\n",
      "[1] \"Name\"                     \"Description\"             \n",
      "[3] \"GTEX-1117F-0226-SM-5GZZ7\" \"GTEX-1117F-0426-SM-5EGHI\"\n",
      "[5] \"GTEX-1117F-0526-SM-5EGHJ\" \"GTEX-1117F-0626-SM-5N9CS\"\n",
      "[1] 0\n",
      "[1] \"INFO: 40\"\n",
      "[1] 1175\n",
      "[1] \"GTEX-11UD1-0826-SM-5LWSK\" \"GTEX-1B996-3026-SM-75R8P\"\n",
      "[3] \"GTEX-17EVP-3126-SM-687VA\" \"GTEX-X261-3226-SM-3ILU2\" \n",
      "[5] \"GTEX-1A3MX-3126-SM-6UQCW\" \"GTEX-13FHO-3126-SM-59X1Q\"\n",
      "[1] NA NA NA NA NA NA\n",
      "[1] \"Name\"                     \"Description\"             \n",
      "[3] \"GTEX-1117F-0226-SM-5GZZ7\" \"GTEX-1117F-0426-SM-5EGHI\"\n",
      "[5] \"GTEX-1117F-0526-SM-5EGHJ\" \"GTEX-1117F-0626-SM-5N9CS\"\n",
      "[1] 0\n",
      "[1] \"INFO: 41\"\n",
      "[1] 138\n",
      "[1] \"GTEX-XMD1-0011-R1A-SM-3CM7S\"  \"GTEX-13SLX-0011-R1a-SM-5CENU\"\n",
      "[3] \"GTEX-XOTO-0011-R1B-SM-3TWHS\"  \"GTEX-QDT8-0011-R1A-SM-2FKJ2\" \n",
      "[5] \"GTEX-13SLX-0011-R1a-SM-GJ17X\" \"GTEX-NL3H-0011-R1a-SM-23KQN\" \n",
      "[1] NA NA NA NA NA NA\n",
      "[1] \"Name\"                     \"Description\"             \n",
      "[3] \"GTEX-1117F-0226-SM-5GZZ7\" \"GTEX-1117F-0426-SM-5EGHI\"\n",
      "[5] \"GTEX-1117F-0526-SM-5EGHJ\" \"GTEX-1117F-0626-SM-5N9CS\"\n",
      "[1] 0\n",
      "[1] \"INFO: 42\"\n",
      "[1] 130\n",
      "[1] \"GTEX-WZTO-0011-R2A-SM-3JFK6\" \"GTEX-XMD1-0011-R2B-SM-3CM7V\"\n",
      "[3] \"GTEX-WHSE-0011-R2A-SM-3CTKE\" \"GTEX-OXRO-0011-R2A-SM-77667\"\n",
      "[5] \"GTEX-RU72-0011-R2A-SM-2OKJU\" \"GTEX-QDT8-0011-R2A-SM-2FKJ3\"\n",
      "[1] NA NA NA NA NA NA\n",
      "[1] \"Name\"                     \"Description\"             \n",
      "[3] \"GTEX-1117F-0226-SM-5GZZ7\" \"GTEX-1117F-0426-SM-5EGHI\"\n",
      "[5] \"GTEX-1117F-0526-SM-5EGHJ\" \"GTEX-1117F-0626-SM-5N9CS\"\n",
      "[1] 0\n",
      "[1] \"INFO: 43\"\n",
      "[1] 168\n",
      "[1] \"GTEX-QMR6-0011-R11A-SM-2HOGX\"  \"GTEX-P44H-0011-R11A-SM-25TVZ\" \n",
      "[3] \"GTEX-OHPN-0011-R11A-SM-25Z2G\"  \"GTEX-11GSO-0011-R11a-SM-4RY4S\"\n",
      "[5] \"GTEX-N7MT-0011-R11A-SM-776EF\"  \"GTEX-XMD1-0011-R11A-SM-3U32F\" \n",
      "[1] NA NA NA NA NA NA\n",
      "[1] \"Name\"                     \"Description\"             \n",
      "[3] \"GTEX-1117F-0226-SM-5GZZ7\" \"GTEX-1117F-0426-SM-5EGHI\"\n",
      "[5] \"GTEX-1117F-0526-SM-5EGHJ\" \"GTEX-1117F-0626-SM-5N9CS\"\n",
      "[1] 0\n",
      "[1] \"INFO: 44\"\n",
      "[1] 2154\n",
      "[1] \"GTEX-13O21-0926-SM-58YNB\" \"GTEX-12WSI-1326-SM-5HNO4\"\n",
      "[3] \"GTEX-14BMV-2226-SM-58R92\" \"GTEX-1JMLX-2426-SM-CJJZO\"\n",
      "[5] \"GTEX-13S86-1326-SM-5E6ID\" \"GTEX-1JN76-0926-SM-AFK4F\"\n",
      "[1] NA NA NA NA NA NA\n",
      "[1] \"Name\"                     \"Description\"             \n",
      "[3] \"GTEX-1117F-0226-SM-5GZZ7\" \"GTEX-1117F-0426-SM-5EGHI\"\n",
      "[5] \"GTEX-1117F-0526-SM-5EGHJ\" \"GTEX-1117F-0626-SM-5N9CS\"\n",
      "[1] 0\n",
      "[1] \"INFO: 45\"\n",
      "[1] 286\n",
      "[1] \"GTEX-QV31-0926-SM-2HM79\" \"GTEX-Q734-1226-SM-2DXMZ\"\n",
      "[3] \"GTEX-QLQW-0826-SM-2HC52\" \"GTEX-SIU7-1026-SM-2SASW\"\n",
      "[5] \"GTEX-TSE9-2426-SM-2XV49\" \"GTEX-P78B-2126-SM-29FLU\"\n",
      "[1] NA NA NA NA NA NA\n",
      "[1] \"Name\"                     \"Description\"             \n",
      "[3] \"GTEX-1117F-0226-SM-5GZZ7\" \"GTEX-1117F-0426-SM-5EGHI\"\n",
      "[5] \"GTEX-1117F-0526-SM-5EGHJ\" \"GTEX-1117F-0626-SM-5N9CS\"\n",
      "[1] 0\n",
      "[1] \"INFO: 46\"\n",
      "[1] 127\n",
      "[1] \"GTEX-XLM4-0011-R3B-SM-3CM97\" \"GTEX-XMD1-0011-R3B-SM-3TM7I\"\n",
      "[3] \"GTEX-NL3H-0011-R3a-SM-23KQP\" \"GTEX-RVPU-0011-R3A-SM-2QBFI\"\n",
      "[5] \"GTEX-X4XY-0011-R3B-SM-3CMB3\" \"GTEX-T5JC-0011-R3A-SM-2K5R3\"\n",
      "[1] NA NA NA NA NA NA\n",
      "[1] \"Name\"                     \"Description\"             \n",
      "[3] \"GTEX-1117F-0226-SM-5GZZ7\" \"GTEX-1117F-0426-SM-5EGHI\"\n",
      "[5] \"GTEX-1117F-0526-SM-5EGHJ\" \"GTEX-1117F-0626-SM-5N9CS\"\n",
      "[1] 0\n",
      "[1] \"INFO: 47\"\n",
      "[1] 644\n",
      "[1] \"GTEX-1AMEY-0926-SM-6C6U3\" \"GTEX-1AMFI-1426-SM-6UFDV\"\n",
      "[3] \"GTEX-145ME-1226-SM-5B48H\" \"GTEX-12WSJ-1226-SM-6AKHE\"\n",
      "[5] \"GTEX-1F52S-2226-SM-7ALXD\" \"GTEX-13O3O-2726-SM-5ATA9\"\n",
      "[1] NA NA NA NA NA NA\n",
      "[1] \"Name\"                     \"Description\"             \n",
      "[3] \"GTEX-1117F-0226-SM-5GZZ7\" \"GTEX-1117F-0426-SM-5EGHI\"\n",
      "[5] \"GTEX-1117F-0526-SM-5EGHJ\" \"GTEX-1117F-0626-SM-5N9CS\"\n",
      "[1] 0\n",
      "[1] \"INFO: 48\"\n",
      "[1] 139\n",
      "[1] \"GTEX-ZYY3-0011-R6a-SM-3VMWU\" \"GTEX-T2IS-0011-R6A-SM-2TT11\"\n",
      "[3] \"GTEX-WVLH-0011-R6A-SM-3EX58\" \"GTEX-WHSE-0011-R6A-SM-3CTLJ\"\n",
      "[5] \"GTEX-X261-0011-R6B-SM-3JFVY\" \"GTEX-XMD1-0011-R6A-SM-3TWHR\"\n",
      "[1] NA NA NA NA NA NA\n",
      "[1] \"Name\"                     \"Description\"             \n",
      "[3] \"GTEX-1117F-0226-SM-5GZZ7\" \"GTEX-1117F-0426-SM-5EGHI\"\n",
      "[5] \"GTEX-1117F-0526-SM-5EGHJ\" \"GTEX-1117F-0626-SM-5N9CS\"\n",
      "[1] 0\n",
      "[1] \"INFO: 49\"\n",
      "[1] 133\n",
      "[1] \"GTEX-UTHO-0011-R5A-SM-3A7AN\" \"GTEX-N7MT-0011-R5a-SM-1UOZO\"\n",
      "[3] \"GTEX-R55F-0011-R5A-SM-25TY6\" \"GTEX-X4EP-0011-R5A-SM-3M8FV\"\n",
      "[5] \"GTEX-TSE9-0011-R5A-SM-2YBX4\" \"GTEX-T6MN-0011-R5A-SM-2LYBJ\"\n",
      "[1] NA NA NA NA NA NA\n",
      "[1] \"Name\"                     \"Description\"             \n",
      "[3] \"GTEX-1117F-0226-SM-5GZZ7\" \"GTEX-1117F-0426-SM-5EGHI\"\n",
      "[5] \"GTEX-1117F-0526-SM-5EGHJ\" \"GTEX-1117F-0626-SM-5N9CS\"\n",
      "[1] 0\n",
      "[1] \"INFO: 50\"\n",
      "[1] 145\n",
      "[1] \"GTEX-Q2AG-0011-R10A-SM-IZACZ\" \"GTEX-N7MT-0011-R10A-SM-776EE\"\n",
      "[3] \"GTEX-OHPN-0011-R10A-SM-2APVM\" \"GTEX-X261-0011-R10B-SM-3ZZ5J\"\n",
      "[5] \"GTEX-RNOR-0011-R10A-SM-25U1C\" \"GTEX-N7MS-0011-R10A-SM-25Z2I\"\n",
      "[1] NA NA NA NA NA NA\n",
      "[1] \"Name\"                     \"Description\"             \n",
      "[3] \"GTEX-1117F-0226-SM-5GZZ7\" \"GTEX-1117F-0426-SM-5EGHI\"\n",
      "[5] \"GTEX-1117F-0526-SM-5EGHJ\" \"GTEX-1117F-0626-SM-5N9CS\"\n",
      "[1] 0\n",
      "[1] \"INFO: 51\"\n",
      "[1] 131\n",
      "[1] \"GTEX-Q2AG-0011-R7A-SM-25TUI\" \"GTEX-X4XX-0011-R7A-SM-3N9AT\"\n",
      "[3] \"GTEX-NPJ7-0011-R7b-SM-7PN7P\" \"GTEX-Y8DK-0011-R7A-SM-4MVMD\"\n",
      "[5] \"GTEX-PVOW-0011-R7A-SM-25TYW\" \"GTEX-PVOW-0011-R7A-SM-GIZXE\"\n",
      "[1] NA NA NA NA NA NA\n",
      "[1] \"Name\"                     \"Description\"             \n",
      "[3] \"GTEX-1117F-0226-SM-5GZZ7\" \"GTEX-1117F-0426-SM-5EGHI\"\n",
      "[5] \"GTEX-1117F-0526-SM-5EGHJ\" \"GTEX-1117F-0626-SM-5N9CS\"\n",
      "[1] 0\n",
      "[1] \"INFO: 52\"\n",
      "[1] 88\n",
      "[1] \"GTEX-T5JW-0826-SM-33FDQ\" \"GTEX-Q2AG-2426-SM-2D6O4\"\n",
      "[3] \"GTEX-ZPIC-1326-SM-4TVYN\" \"GTEX-RWS6-1526-SM-2LXJE\"\n",
      "[5] \"GTEX-RU1J-1226-SM-2LV23\" \"GTEX-S4UY-1526-SM-2Q4LH\"\n",
      "[1] NA NA NA NA NA NA\n",
      "[1] \"Name\"                     \"Description\"             \n",
      "[3] \"GTEX-1117F-0226-SM-5GZZ7\" \"GTEX-1117F-0426-SM-5EGHI\"\n",
      "[5] \"GTEX-1117F-0526-SM-5EGHJ\" \"GTEX-1117F-0626-SM-5N9CS\"\n",
      "[1] 0\n",
      "[1] \"INFO: 53\"\n",
      "[1] 89\n",
      "[1] \"GTEX-P4PP-3126-SM-28NG4\" \"GTEX-OHPK-2326-SM-GDLDS\"\n",
      "[3] \"GTEX-QVJO-3026-SM-2IIL4\" \"GTEX-OHPK-2326-SM-24NRQ\"\n",
      "[5] \"GTEX-T6MO-1026-SM-2W2GQ\" \"GTEX-RU1J-0926-SM-2L6NX\"\n",
      "[1] NA NA NA NA NA NA\n",
      "[1] \"Name\"                     \"Description\"             \n",
      "[3] \"GTEX-1117F-0226-SM-5GZZ7\" \"GTEX-1117F-0426-SM-5EGHI\"\n",
      "[5] \"GTEX-1117F-0526-SM-5EGHJ\" \"GTEX-1117F-0626-SM-5N9CS\"\n",
      "[1] 0\n"
     ]
    }
   ],
   "source": [
    "sample_id <- colnames(exp_df)\n",
    "df_list <- list()\n",
    "for (i in 1:length(tissue_anno_vec)) {\n",
    "    print(paste0(\"INFO: \", i))\n",
    "    tissue <- tissue_anno_vec[i]\n",
    "    tissue_id <- anno_list[[tissue]]$sampleId\n",
    "    print(length((tissue_id)))\n",
    "    print(head(tissue_id))\n",
    "    idx_tissue <- match(tissue_id, sample_id)\n",
    "    print(head(idx_tissue))\n",
    "    print(head(sample_id))\n",
    "    print(sum(!is.na(idx_tissue)))\n",
    "    df_list[[tissue]] <- anno_df[, c(1, 2, idx_tissue[!is.na(idx_tissue)])]\n",
    "} \n",
    "\n"
   ]
  },
  {
   "cell_type": "code",
   "execution_count": 39,
   "metadata": {},
   "outputs": [
    {
     "data": {
      "text/html": [
       "<style>\n",
       ".list-inline {list-style: none; margin:0; padding: 0}\n",
       ".list-inline>li {display: inline-block}\n",
       ".list-inline>li:not(:last-child)::after {content: \"\\00b7\"; padding: 0 .5ex}\n",
       "</style>\n",
       "<ol class=list-inline><li>'Whole_Blood'</li><li>'Cells_Transformed_fibroblasts'</li><li>'Cells_EBV-transformed_lymphocytes'</li><li>'Minor_Salivary_Gland'</li><li>'Lung'</li><li>'Skin_Sun_Exposed_Lower_leg'</li><li>'Esophagus_Gastroesophageal_Junction'</li><li>'Heart_Atrial_Appendage'</li><li>'Nerve_Tibial'</li><li>'Breast_Mammary_Tissue'</li><li>'Heart_Left_Ventricle'</li><li>'Artery_Aorta'</li><li>'Thyroid'</li><li>'Colon_Sigmoid'</li><li>'Adipose_Visceral_Omentum'</li><li>'Uterus'</li><li>'Spleen'</li><li>'Small_Intestine_Terminal_Ileum'</li><li>'Vagina'</li><li>'Kidney_Cortex'</li><li>'Prostate'</li><li>'Pancreas'</li><li>'Muscle_Skeletal'</li><li>'Colon_Transverse'</li><li>'Liver'</li><li>'Adrenal_Gland'</li><li>'Artery_Coronary'</li><li>'Artery_Tibial'</li><li>'Esophagus_Muscularis'</li><li>'Testis'</li><li>'Skin_Not_Sun_Exposed_Suprapubic'</li><li>'Brain_Cerebellum'</li><li>'Cervix_Ectocervix'</li><li>'Brain_Hypothalamus'</li><li>'Brain_Amygdala'</li><li>'Brain_Spinal_cord_cervical_c-1'</li><li>'Brain_Cortex'</li><li>'Adipose_Subcutaneous'</li><li>'Esophagus_Mucosa'</li><li>'Pituitary'</li><li>'Brain_Hippocampus'</li><li>'Brain_Substantia_nigra'</li><li>'Brain_Cerebellar_Hemisphere'</li><li>'Stomach'</li><li>'Bladder'</li><li>'Brain_Anterior_cingulate_cortex_BA24'</li><li>'Ovary'</li><li>'Brain_Nucleus_accumbens_basal_ganglia'</li><li>'Brain_Caudate_basal_ganglia'</li><li>'Brain_Frontal_Cortex_BA9'</li><li>'Brain_Putamen_basal_ganglia'</li><li>'Cervix_Endocervix'</li><li>'Fallopian_Tube'</li></ol>\n"
      ],
      "text/latex": [
       "\\begin{enumerate*}\n",
       "\\item 'Whole\\_Blood'\n",
       "\\item 'Cells\\_Transformed\\_fibroblasts'\n",
       "\\item 'Cells\\_EBV-transformed\\_lymphocytes'\n",
       "\\item 'Minor\\_Salivary\\_Gland'\n",
       "\\item 'Lung'\n",
       "\\item 'Skin\\_Sun\\_Exposed\\_Lower\\_leg'\n",
       "\\item 'Esophagus\\_Gastroesophageal\\_Junction'\n",
       "\\item 'Heart\\_Atrial\\_Appendage'\n",
       "\\item 'Nerve\\_Tibial'\n",
       "\\item 'Breast\\_Mammary\\_Tissue'\n",
       "\\item 'Heart\\_Left\\_Ventricle'\n",
       "\\item 'Artery\\_Aorta'\n",
       "\\item 'Thyroid'\n",
       "\\item 'Colon\\_Sigmoid'\n",
       "\\item 'Adipose\\_Visceral\\_Omentum'\n",
       "\\item 'Uterus'\n",
       "\\item 'Spleen'\n",
       "\\item 'Small\\_Intestine\\_Terminal\\_Ileum'\n",
       "\\item 'Vagina'\n",
       "\\item 'Kidney\\_Cortex'\n",
       "\\item 'Prostate'\n",
       "\\item 'Pancreas'\n",
       "\\item 'Muscle\\_Skeletal'\n",
       "\\item 'Colon\\_Transverse'\n",
       "\\item 'Liver'\n",
       "\\item 'Adrenal\\_Gland'\n",
       "\\item 'Artery\\_Coronary'\n",
       "\\item 'Artery\\_Tibial'\n",
       "\\item 'Esophagus\\_Muscularis'\n",
       "\\item 'Testis'\n",
       "\\item 'Skin\\_Not\\_Sun\\_Exposed\\_Suprapubic'\n",
       "\\item 'Brain\\_Cerebellum'\n",
       "\\item 'Cervix\\_Ectocervix'\n",
       "\\item 'Brain\\_Hypothalamus'\n",
       "\\item 'Brain\\_Amygdala'\n",
       "\\item 'Brain\\_Spinal\\_cord\\_cervical\\_c-1'\n",
       "\\item 'Brain\\_Cortex'\n",
       "\\item 'Adipose\\_Subcutaneous'\n",
       "\\item 'Esophagus\\_Mucosa'\n",
       "\\item 'Pituitary'\n",
       "\\item 'Brain\\_Hippocampus'\n",
       "\\item 'Brain\\_Substantia\\_nigra'\n",
       "\\item 'Brain\\_Cerebellar\\_Hemisphere'\n",
       "\\item 'Stomach'\n",
       "\\item 'Bladder'\n",
       "\\item 'Brain\\_Anterior\\_cingulate\\_cortex\\_BA24'\n",
       "\\item 'Ovary'\n",
       "\\item 'Brain\\_Nucleus\\_accumbens\\_basal\\_ganglia'\n",
       "\\item 'Brain\\_Caudate\\_basal\\_ganglia'\n",
       "\\item 'Brain\\_Frontal\\_Cortex\\_BA9'\n",
       "\\item 'Brain\\_Putamen\\_basal\\_ganglia'\n",
       "\\item 'Cervix\\_Endocervix'\n",
       "\\item 'Fallopian\\_Tube'\n",
       "\\end{enumerate*}\n"
      ],
      "text/markdown": [
       "1. 'Whole_Blood'\n",
       "2. 'Cells_Transformed_fibroblasts'\n",
       "3. 'Cells_EBV-transformed_lymphocytes'\n",
       "4. 'Minor_Salivary_Gland'\n",
       "5. 'Lung'\n",
       "6. 'Skin_Sun_Exposed_Lower_leg'\n",
       "7. 'Esophagus_Gastroesophageal_Junction'\n",
       "8. 'Heart_Atrial_Appendage'\n",
       "9. 'Nerve_Tibial'\n",
       "10. 'Breast_Mammary_Tissue'\n",
       "11. 'Heart_Left_Ventricle'\n",
       "12. 'Artery_Aorta'\n",
       "13. 'Thyroid'\n",
       "14. 'Colon_Sigmoid'\n",
       "15. 'Adipose_Visceral_Omentum'\n",
       "16. 'Uterus'\n",
       "17. 'Spleen'\n",
       "18. 'Small_Intestine_Terminal_Ileum'\n",
       "19. 'Vagina'\n",
       "20. 'Kidney_Cortex'\n",
       "21. 'Prostate'\n",
       "22. 'Pancreas'\n",
       "23. 'Muscle_Skeletal'\n",
       "24. 'Colon_Transverse'\n",
       "25. 'Liver'\n",
       "26. 'Adrenal_Gland'\n",
       "27. 'Artery_Coronary'\n",
       "28. 'Artery_Tibial'\n",
       "29. 'Esophagus_Muscularis'\n",
       "30. 'Testis'\n",
       "31. 'Skin_Not_Sun_Exposed_Suprapubic'\n",
       "32. 'Brain_Cerebellum'\n",
       "33. 'Cervix_Ectocervix'\n",
       "34. 'Brain_Hypothalamus'\n",
       "35. 'Brain_Amygdala'\n",
       "36. 'Brain_Spinal_cord_cervical_c-1'\n",
       "37. 'Brain_Cortex'\n",
       "38. 'Adipose_Subcutaneous'\n",
       "39. 'Esophagus_Mucosa'\n",
       "40. 'Pituitary'\n",
       "41. 'Brain_Hippocampus'\n",
       "42. 'Brain_Substantia_nigra'\n",
       "43. 'Brain_Cerebellar_Hemisphere'\n",
       "44. 'Stomach'\n",
       "45. 'Bladder'\n",
       "46. 'Brain_Anterior_cingulate_cortex_BA24'\n",
       "47. 'Ovary'\n",
       "48. 'Brain_Nucleus_accumbens_basal_ganglia'\n",
       "49. 'Brain_Caudate_basal_ganglia'\n",
       "50. 'Brain_Frontal_Cortex_BA9'\n",
       "51. 'Brain_Putamen_basal_ganglia'\n",
       "52. 'Cervix_Endocervix'\n",
       "53. 'Fallopian_Tube'\n",
       "\n",
       "\n"
      ],
      "text/plain": [
       " [1] \"Whole_Blood\"                          \n",
       " [2] \"Cells_Transformed_fibroblasts\"        \n",
       " [3] \"Cells_EBV-transformed_lymphocytes\"    \n",
       " [4] \"Minor_Salivary_Gland\"                 \n",
       " [5] \"Lung\"                                 \n",
       " [6] \"Skin_Sun_Exposed_Lower_leg\"           \n",
       " [7] \"Esophagus_Gastroesophageal_Junction\"  \n",
       " [8] \"Heart_Atrial_Appendage\"               \n",
       " [9] \"Nerve_Tibial\"                         \n",
       "[10] \"Breast_Mammary_Tissue\"                \n",
       "[11] \"Heart_Left_Ventricle\"                 \n",
       "[12] \"Artery_Aorta\"                         \n",
       "[13] \"Thyroid\"                              \n",
       "[14] \"Colon_Sigmoid\"                        \n",
       "[15] \"Adipose_Visceral_Omentum\"             \n",
       "[16] \"Uterus\"                               \n",
       "[17] \"Spleen\"                               \n",
       "[18] \"Small_Intestine_Terminal_Ileum\"       \n",
       "[19] \"Vagina\"                               \n",
       "[20] \"Kidney_Cortex\"                        \n",
       "[21] \"Prostate\"                             \n",
       "[22] \"Pancreas\"                             \n",
       "[23] \"Muscle_Skeletal\"                      \n",
       "[24] \"Colon_Transverse\"                     \n",
       "[25] \"Liver\"                                \n",
       "[26] \"Adrenal_Gland\"                        \n",
       "[27] \"Artery_Coronary\"                      \n",
       "[28] \"Artery_Tibial\"                        \n",
       "[29] \"Esophagus_Muscularis\"                 \n",
       "[30] \"Testis\"                               \n",
       "[31] \"Skin_Not_Sun_Exposed_Suprapubic\"      \n",
       "[32] \"Brain_Cerebellum\"                     \n",
       "[33] \"Cervix_Ectocervix\"                    \n",
       "[34] \"Brain_Hypothalamus\"                   \n",
       "[35] \"Brain_Amygdala\"                       \n",
       "[36] \"Brain_Spinal_cord_cervical_c-1\"       \n",
       "[37] \"Brain_Cortex\"                         \n",
       "[38] \"Adipose_Subcutaneous\"                 \n",
       "[39] \"Esophagus_Mucosa\"                     \n",
       "[40] \"Pituitary\"                            \n",
       "[41] \"Brain_Hippocampus\"                    \n",
       "[42] \"Brain_Substantia_nigra\"               \n",
       "[43] \"Brain_Cerebellar_Hemisphere\"          \n",
       "[44] \"Stomach\"                              \n",
       "[45] \"Bladder\"                              \n",
       "[46] \"Brain_Anterior_cingulate_cortex_BA24\" \n",
       "[47] \"Ovary\"                                \n",
       "[48] \"Brain_Nucleus_accumbens_basal_ganglia\"\n",
       "[49] \"Brain_Caudate_basal_ganglia\"          \n",
       "[50] \"Brain_Frontal_Cortex_BA9\"             \n",
       "[51] \"Brain_Putamen_basal_ganglia\"          \n",
       "[52] \"Cervix_Endocervix\"                    \n",
       "[53] \"Fallopian_Tube\"                       "
      ]
     },
     "metadata": {},
     "output_type": "display_data"
    }
   ],
   "source": [
    "names(df_list)"
   ]
  },
  {
   "cell_type": "code",
   "execution_count": 58,
   "metadata": {},
   "outputs": [
    {
     "data": {
      "text/plain": [
       "NULL"
      ]
     },
     "metadata": {},
     "output_type": "display_data"
    }
   ],
   "source": [
    "dim(df_list[[\"Whole_Blood\"]])"
   ]
  },
  {
   "cell_type": "code",
   "execution_count": null,
   "metadata": {},
   "outputs": [],
   "source": [
    "head(anno_list[[1]]$sampleId)"
   ]
  },
  {
   "cell_type": "code",
   "execution_count": null,
   "metadata": {},
   "outputs": [],
   "source": [
    "as.character(sapply(unique(anno_df$tissueSiteDetail), convert_str))"
   ]
  },
  {
   "cell_type": "code",
   "execution_count": 74,
   "metadata": {},
   "outputs": [
    {
     "data": {
      "text/html": [
       "'sample_annotation'"
      ],
      "text/latex": [
       "'sample\\_annotation'"
      ],
      "text/markdown": [
       "'sample_annotation'"
      ],
      "text/plain": [
       "[1] \"sample_annotation\""
      ]
     },
     "metadata": {},
     "output_type": "display_data"
    }
   ],
   "source": [
    "ln <- load(\"/gpfs/project/zhao/zy92/GTEX/sample_annotation.rdata\")\n",
    "ln"
   ]
  },
  {
   "cell_type": "code",
   "execution_count": 75,
   "metadata": {},
   "outputs": [
    {
     "data": {
      "text/html": [
       "<style>\n",
       ".list-inline {list-style: none; margin:0; padding: 0}\n",
       ".list-inline>li {display: inline-block}\n",
       ".list-inline>li:not(:last-child)::after {content: \"\\00b7\"; padding: 0 .5ex}\n",
       "</style>\n",
       "<ol class=list-inline><li>'data.table'</li><li>'data.frame'</li></ol>\n"
      ],
      "text/latex": [
       "\\begin{enumerate*}\n",
       "\\item 'data.table'\n",
       "\\item 'data.frame'\n",
       "\\end{enumerate*}\n"
      ],
      "text/markdown": [
       "1. 'data.table'\n",
       "2. 'data.frame'\n",
       "\n",
       "\n"
      ],
      "text/plain": [
       "[1] \"data.table\" \"data.frame\""
      ]
     },
     "metadata": {},
     "output_type": "display_data"
    }
   ],
   "source": [
    "class(sample_annotation)"
   ]
  },
  {
   "cell_type": "code",
   "execution_count": 76,
   "metadata": {},
   "outputs": [
    {
     "data": {
      "text/html": [
       "<table>\n",
       "<caption>A data.table: 6 × 63</caption>\n",
       "<thead>\n",
       "\t<tr><th scope=col>SAMPID</th><th scope=col>SMATSSCR</th><th scope=col>SMCENTER</th><th scope=col>SMPTHNTS</th><th scope=col>SMRIN</th><th scope=col>SMTS</th><th scope=col>SMTSD</th><th scope=col>SMUBRID</th><th scope=col>SMTSISCH</th><th scope=col>SMTSPAX</th><th scope=col>⋯</th><th scope=col>SME1ANTI</th><th scope=col>SMSPLTRD</th><th scope=col>SMBSMMRT</th><th scope=col>SME1SNSE</th><th scope=col>SME1PCTS</th><th scope=col>SMRRNART</th><th scope=col>SME1MPRT</th><th scope=col>SMNUM5CD</th><th scope=col>SMDPMPRT</th><th scope=col>SME2PCTS</th></tr>\n",
       "\t<tr><th scope=col>&lt;chr&gt;</th><th scope=col>&lt;int&gt;</th><th scope=col>&lt;chr&gt;</th><th scope=col>&lt;chr&gt;</th><th scope=col>&lt;dbl&gt;</th><th scope=col>&lt;chr&gt;</th><th scope=col>&lt;chr&gt;</th><th scope=col>&lt;chr&gt;</th><th scope=col>&lt;int&gt;</th><th scope=col>&lt;int&gt;</th><th scope=col>⋯</th><th scope=col>&lt;dbl&gt;</th><th scope=col>&lt;dbl&gt;</th><th scope=col>&lt;dbl&gt;</th><th scope=col>&lt;dbl&gt;</th><th scope=col>&lt;dbl&gt;</th><th scope=col>&lt;dbl&gt;</th><th scope=col>&lt;dbl&gt;</th><th scope=col>&lt;lgl&gt;</th><th scope=col>&lt;int&gt;</th><th scope=col>&lt;dbl&gt;</th></tr>\n",
       "</thead>\n",
       "<tbody>\n",
       "\t<tr><td>GTEX-1117F-0003-SM-58Q7G     </td><td>NA</td><td>B1    </td><td>                                            </td><td> NA</td><td>Blood         </td><td>Whole Blood                 </td><td>0013756</td><td>1188</td><td>  NA</td><td>⋯</td><td>      NA</td><td>      NA</td><td>        NA</td><td>      NA</td><td>     NA</td><td>        NA</td><td>     NA</td><td>NA</td><td>NA</td><td>     NA</td></tr>\n",
       "\t<tr><td>GTEX-1117F-0003-SM-5DWSB     </td><td>NA</td><td>B1    </td><td>                                            </td><td> NA</td><td>Blood         </td><td>Whole Blood                 </td><td>0013756</td><td>1188</td><td>  NA</td><td>⋯</td><td>      NA</td><td>      NA</td><td>        NA</td><td>      NA</td><td>     NA</td><td>        NA</td><td>     NA</td><td>NA</td><td>NA</td><td>     NA</td></tr>\n",
       "\t<tr><td>GTEX-1117F-0003-SM-6WBT7     </td><td>NA</td><td>B1    </td><td>                                            </td><td> NA</td><td>Blood         </td><td>Whole Blood                 </td><td>0013756</td><td>1188</td><td>  NA</td><td>⋯</td><td>      NA</td><td>      NA</td><td>        NA</td><td>      NA</td><td>     NA</td><td>        NA</td><td>     NA</td><td>NA</td><td>NA</td><td>     NA</td></tr>\n",
       "\t<tr><td>GTEX-1117F-0011-R10a-SM-AHZ7F</td><td>NA</td><td>B1, A1</td><td>                                            </td><td> NA</td><td>Brain         </td><td>Brain - Frontal Cortex (BA9)</td><td>0009834</td><td>1193</td><td>  NA</td><td>⋯</td><td>      NA</td><td>      NA</td><td>        NA</td><td>      NA</td><td>     NA</td><td>        NA</td><td>     NA</td><td>NA</td><td>NA</td><td>     NA</td></tr>\n",
       "\t<tr><td>GTEX-1117F-0011-R10b-SM-CYKQ8</td><td>NA</td><td>B1, A1</td><td>                                            </td><td>7.2</td><td>Brain         </td><td>Brain - Frontal Cortex (BA9)</td><td>0009834</td><td>1193</td><td>  NA</td><td>⋯</td><td>      NA</td><td>      NA</td><td>        NA</td><td>      NA</td><td>     NA</td><td>        NA</td><td>     NA</td><td>NA</td><td>NA</td><td>     NA</td></tr>\n",
       "\t<tr><td>GTEX-1117F-0226-SM-5GZZ7     </td><td> 0</td><td>B1    </td><td>2 pieces, ~15% vessel stroma, rep delineated</td><td>6.8</td><td>Adipose Tissue</td><td>Adipose - Subcutaneous      </td><td>0002190</td><td>1214</td><td>1125</td><td>⋯</td><td>14648800</td><td>11999300</td><td>0.00315785</td><td>14669500</td><td>50.0354</td><td>0.00310538</td><td>0.99474</td><td>NA</td><td> 0</td><td>50.1944</td></tr>\n",
       "</tbody>\n",
       "</table>\n"
      ],
      "text/latex": [
       "A data.table: 6 × 63\n",
       "\\begin{tabular}{lllllllllllllllllllll}\n",
       " SAMPID & SMATSSCR & SMCENTER & SMPTHNTS & SMRIN & SMTS & SMTSD & SMUBRID & SMTSISCH & SMTSPAX & ⋯ & SME1ANTI & SMSPLTRD & SMBSMMRT & SME1SNSE & SME1PCTS & SMRRNART & SME1MPRT & SMNUM5CD & SMDPMPRT & SME2PCTS\\\\\n",
       " <chr> & <int> & <chr> & <chr> & <dbl> & <chr> & <chr> & <chr> & <int> & <int> & ⋯ & <dbl> & <dbl> & <dbl> & <dbl> & <dbl> & <dbl> & <dbl> & <lgl> & <int> & <dbl>\\\\\n",
       "\\hline\n",
       "\t GTEX-1117F-0003-SM-58Q7G      & NA & B1     &                                              &  NA & Blood          & Whole Blood                  & 0013756 & 1188 &   NA & ⋯ &       NA &       NA &         NA &       NA &      NA &         NA &      NA & NA & NA &      NA\\\\\n",
       "\t GTEX-1117F-0003-SM-5DWSB      & NA & B1     &                                              &  NA & Blood          & Whole Blood                  & 0013756 & 1188 &   NA & ⋯ &       NA &       NA &         NA &       NA &      NA &         NA &      NA & NA & NA &      NA\\\\\n",
       "\t GTEX-1117F-0003-SM-6WBT7      & NA & B1     &                                              &  NA & Blood          & Whole Blood                  & 0013756 & 1188 &   NA & ⋯ &       NA &       NA &         NA &       NA &      NA &         NA &      NA & NA & NA &      NA\\\\\n",
       "\t GTEX-1117F-0011-R10a-SM-AHZ7F & NA & B1, A1 &                                              &  NA & Brain          & Brain - Frontal Cortex (BA9) & 0009834 & 1193 &   NA & ⋯ &       NA &       NA &         NA &       NA &      NA &         NA &      NA & NA & NA &      NA\\\\\n",
       "\t GTEX-1117F-0011-R10b-SM-CYKQ8 & NA & B1, A1 &                                              & 7.2 & Brain          & Brain - Frontal Cortex (BA9) & 0009834 & 1193 &   NA & ⋯ &       NA &       NA &         NA &       NA &      NA &         NA &      NA & NA & NA &      NA\\\\\n",
       "\t GTEX-1117F-0226-SM-5GZZ7      &  0 & B1     & 2 pieces, \\textasciitilde{}15\\% vessel stroma, rep delineated & 6.8 & Adipose Tissue & Adipose - Subcutaneous       & 0002190 & 1214 & 1125 & ⋯ & 14648800 & 11999300 & 0.00315785 & 14669500 & 50.0354 & 0.00310538 & 0.99474 & NA &  0 & 50.1944\\\\\n",
       "\\end{tabular}\n"
      ],
      "text/markdown": [
       "\n",
       "A data.table: 6 × 63\n",
       "\n",
       "| SAMPID &lt;chr&gt; | SMATSSCR &lt;int&gt; | SMCENTER &lt;chr&gt; | SMPTHNTS &lt;chr&gt; | SMRIN &lt;dbl&gt; | SMTS &lt;chr&gt; | SMTSD &lt;chr&gt; | SMUBRID &lt;chr&gt; | SMTSISCH &lt;int&gt; | SMTSPAX &lt;int&gt; | ⋯ ⋯ | SME1ANTI &lt;dbl&gt; | SMSPLTRD &lt;dbl&gt; | SMBSMMRT &lt;dbl&gt; | SME1SNSE &lt;dbl&gt; | SME1PCTS &lt;dbl&gt; | SMRRNART &lt;dbl&gt; | SME1MPRT &lt;dbl&gt; | SMNUM5CD &lt;lgl&gt; | SMDPMPRT &lt;int&gt; | SME2PCTS &lt;dbl&gt; |\n",
       "|---|---|---|---|---|---|---|---|---|---|---|---|---|---|---|---|---|---|---|---|---|\n",
       "| GTEX-1117F-0003-SM-58Q7G      | NA | B1     | <!----> |  NA | Blood          | Whole Blood                  | 0013756 | 1188 |   NA | ⋯ |       NA |       NA |         NA |       NA |      NA |         NA |      NA | NA | NA |      NA |\n",
       "| GTEX-1117F-0003-SM-5DWSB      | NA | B1     | <!----> |  NA | Blood          | Whole Blood                  | 0013756 | 1188 |   NA | ⋯ |       NA |       NA |         NA |       NA |      NA |         NA |      NA | NA | NA |      NA |\n",
       "| GTEX-1117F-0003-SM-6WBT7      | NA | B1     | <!----> |  NA | Blood          | Whole Blood                  | 0013756 | 1188 |   NA | ⋯ |       NA |       NA |         NA |       NA |      NA |         NA |      NA | NA | NA |      NA |\n",
       "| GTEX-1117F-0011-R10a-SM-AHZ7F | NA | B1, A1 | <!----> |  NA | Brain          | Brain - Frontal Cortex (BA9) | 0009834 | 1193 |   NA | ⋯ |       NA |       NA |         NA |       NA |      NA |         NA |      NA | NA | NA |      NA |\n",
       "| GTEX-1117F-0011-R10b-SM-CYKQ8 | NA | B1, A1 | <!----> | 7.2 | Brain          | Brain - Frontal Cortex (BA9) | 0009834 | 1193 |   NA | ⋯ |       NA |       NA |         NA |       NA |      NA |         NA |      NA | NA | NA |      NA |\n",
       "| GTEX-1117F-0226-SM-5GZZ7      |  0 | B1     | 2 pieces, ~15% vessel stroma, rep delineated | 6.8 | Adipose Tissue | Adipose - Subcutaneous       | 0002190 | 1214 | 1125 | ⋯ | 14648800 | 11999300 | 0.00315785 | 14669500 | 50.0354 | 0.00310538 | 0.99474 | NA |  0 | 50.1944 |\n",
       "\n"
      ],
      "text/plain": [
       "  SAMPID                        SMATSSCR SMCENTER\n",
       "1 GTEX-1117F-0003-SM-58Q7G      NA       B1      \n",
       "2 GTEX-1117F-0003-SM-5DWSB      NA       B1      \n",
       "3 GTEX-1117F-0003-SM-6WBT7      NA       B1      \n",
       "4 GTEX-1117F-0011-R10a-SM-AHZ7F NA       B1, A1  \n",
       "5 GTEX-1117F-0011-R10b-SM-CYKQ8 NA       B1, A1  \n",
       "6 GTEX-1117F-0226-SM-5GZZ7       0       B1      \n",
       "  SMPTHNTS                                     SMRIN SMTS          \n",
       "1                                               NA   Blood         \n",
       "2                                               NA   Blood         \n",
       "3                                               NA   Blood         \n",
       "4                                               NA   Brain         \n",
       "5                                              7.2   Brain         \n",
       "6 2 pieces, ~15% vessel stroma, rep delineated 6.8   Adipose Tissue\n",
       "  SMTSD                        SMUBRID SMTSISCH SMTSPAX ⋯ SME1ANTI SMSPLTRD\n",
       "1 Whole Blood                  0013756 1188       NA    ⋯       NA       NA\n",
       "2 Whole Blood                  0013756 1188       NA    ⋯       NA       NA\n",
       "3 Whole Blood                  0013756 1188       NA    ⋯       NA       NA\n",
       "4 Brain - Frontal Cortex (BA9) 0009834 1193       NA    ⋯       NA       NA\n",
       "5 Brain - Frontal Cortex (BA9) 0009834 1193       NA    ⋯       NA       NA\n",
       "6 Adipose - Subcutaneous       0002190 1214     1125    ⋯ 14648800 11999300\n",
       "  SMBSMMRT   SME1SNSE SME1PCTS SMRRNART   SME1MPRT SMNUM5CD SMDPMPRT SME2PCTS\n",
       "1         NA       NA      NA          NA      NA  NA       NA            NA \n",
       "2         NA       NA      NA          NA      NA  NA       NA            NA \n",
       "3         NA       NA      NA          NA      NA  NA       NA            NA \n",
       "4         NA       NA      NA          NA      NA  NA       NA            NA \n",
       "5         NA       NA      NA          NA      NA  NA       NA            NA \n",
       "6 0.00315785 14669500 50.0354  0.00310538 0.99474  NA        0       50.1944 "
      ]
     },
     "metadata": {},
     "output_type": "display_data"
    }
   ],
   "source": [
    "head(sample_annotation)"
   ]
  },
  {
   "cell_type": "code",
   "execution_count": 77,
   "metadata": {},
   "outputs": [
    {
     "data": {
      "text/html": [
       "<style>\n",
       ".list-inline {list-style: none; margin:0; padding: 0}\n",
       ".list-inline>li {display: inline-block}\n",
       ".list-inline>li:not(:last-child)::after {content: \"\\00b7\"; padding: 0 .5ex}\n",
       "</style>\n",
       "<ol class=list-inline><li>22951</li><li>63</li></ol>\n"
      ],
      "text/latex": [
       "\\begin{enumerate*}\n",
       "\\item 22951\n",
       "\\item 63\n",
       "\\end{enumerate*}\n"
      ],
      "text/markdown": [
       "1. 22951\n",
       "2. 63\n",
       "\n",
       "\n"
      ],
      "text/plain": [
       "[1] 22951    63"
      ]
     },
     "metadata": {},
     "output_type": "display_data"
    }
   ],
   "source": [
    "dim(sample_annotation)"
   ]
  },
  {
   "cell_type": "code",
   "execution_count": 78,
   "metadata": {},
   "outputs": [
    {
     "data": {
      "text/html": [
       "<style>\n",
       ".list-inline {list-style: none; margin:0; padding: 0}\n",
       ".list-inline>li {display: inline-block}\n",
       ".list-inline>li:not(:last-child)::after {content: \"\\00b7\"; padding: 0 .5ex}\n",
       "</style>\n",
       "<ol class=list-inline><li>56200</li><li>17384</li></ol>\n"
      ],
      "text/latex": [
       "\\begin{enumerate*}\n",
       "\\item 56200\n",
       "\\item 17384\n",
       "\\end{enumerate*}\n"
      ],
      "text/markdown": [
       "1. 56200\n",
       "2. 17384\n",
       "\n",
       "\n"
      ],
      "text/plain": [
       "[1] 56200 17384"
      ]
     },
     "metadata": {},
     "output_type": "display_data"
    }
   ],
   "source": [
    "dim(exp_df)"
   ]
  },
  {
   "cell_type": "code",
   "execution_count": 79,
   "metadata": {},
   "outputs": [
    {
     "data": {
      "text/html": [
       "17382"
      ],
      "text/latex": [
       "17382"
      ],
      "text/markdown": [
       "17382"
      ],
      "text/plain": [
       "[1] 17382"
      ]
     },
     "metadata": {},
     "output_type": "display_data"
    }
   ],
   "source": [
    "sum(sample_annotation$SAMPID %in% sample_id)"
   ]
  },
  {
   "cell_type": "code",
   "execution_count": 85,
   "metadata": {},
   "outputs": [],
   "source": [
    "tissue_anno_vec <- sapply(sample_annotation$SMTSD, convert_str)\n",
    "sample_annotation$tissue <- tissue_anno_vec"
   ]
  },
  {
   "cell_type": "code",
   "execution_count": 80,
   "metadata": {},
   "outputs": [],
   "source": [
    "anno_list <- split(sample_annotation, f = sample_annotation$SMTSD)"
   ]
  },
  {
   "cell_type": "code",
   "execution_count": 86,
   "metadata": {},
   "outputs": [
    {
     "name": "stderr",
     "output_type": "stream",
     "text": [
      "IOPub data rate exceeded.\n",
      "The notebook server will temporarily stop sending output\n",
      "to the client in order to avoid crashing it.\n",
      "To change this limit, set the config variable\n",
      "`--NotebookApp.iopub_data_rate_limit`.\n",
      "\n",
      "Current values:\n",
      "NotebookApp.iopub_data_rate_limit=1000000.0 (bytes/sec)\n",
      "NotebookApp.rate_limit_window=3.0 (secs)\n",
      "\n"
     ]
    }
   ],
   "source": [
    "sample_id <- colnames(exp_df)\n",
    "df_list <- list()\n",
    "for (i in 1:length(tissue_anno_vec)) {\n",
    "    print(paste0(\"INFO: \", i))\n",
    "    tissue <- tissue_anno_vec[i]\n",
    "    tissue_id <- anno_list[[tissue]]$tissue\n",
    "    idx_tissue <- match(tissue_id, sample_id)\n",
    "    print(head(sample_id))\n",
    "    print(sum(!is.na(idx_tissue)))\n",
    "    df_list[[tissue]] <- anno_df[, c(1, 2, idx_tissue[!is.na(idx_tissue)])]\n",
    "} "
   ]
  },
  {
   "cell_type": "code",
   "execution_count": null,
   "metadata": {},
   "outputs": [],
   "source": []
  }
 ],
 "metadata": {
  "kernelspec": {
   "display_name": "R",
   "language": "R",
   "name": "ir"
  },
  "language_info": {
   "codemirror_mode": "r",
   "file_extension": ".r",
   "mimetype": "text/x-r-source",
   "name": "R",
   "pygments_lexer": "r",
   "version": "3.5.0"
  }
 },
 "nbformat": 4,
 "nbformat_minor": 4
}
