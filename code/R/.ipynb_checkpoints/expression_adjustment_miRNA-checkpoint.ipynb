{
 "cells": [
  {
   "cell_type": "code",
   "execution_count": null,
   "metadata": {},
   "outputs": [],
   "source": [
    "suppressPackageStartupMessages(library(dplyr))\n",
    "suppressPackageStartupMessages(library(data.table))\n"
   ]
  },
  {
   "cell_type": "code",
   "execution_count": null,
   "metadata": {},
   "outputs": [],
   "source": [
    "inter_dir <- \"/ysm-gpfs/pi/zhao/zy92/projects/utmost_update/GTEX/adjusted_expr\"\n",
    "inter_files <- list.files(\"/ysm-gpfs/pi/zhao/zy92/projects/utmost_update/GTEX/adjusted_expr/\")\n",
    "head(inter_files)"
   ]
  },
  {
   "cell_type": "code",
   "execution_count": null,
   "metadata": {},
   "outputs": [],
   "source": [
    "list.files(\"/ysm-gpfs/pi/zhao/zy92/projects/utmost_update//GTEX/\")"
   ]
  },
  {
   "cell_type": "code",
   "execution_count": null,
   "metadata": {},
   "outputs": [],
   "source": [
    "head((\"/ysm-gpfs/pi/zhao/zy92/projects/utmost_update/\"))"
   ]
  },
  {
   "cell_type": "code",
   "execution_count": null,
   "metadata": {},
   "outputs": [],
   "source": [
    "ln1 <- load(\"/ysm-gpfs/pi/zhao/zy92/projects/utmost_update//GTEX/gene_info_target.RData\")\n",
    "ln1"
   ]
  },
  {
   "cell_type": "code",
   "execution_count": null,
   "metadata": {},
   "outputs": [],
   "source": [
    "dim(gene_info_target)"
   ]
  },
  {
   "cell_type": "code",
   "execution_count": null,
   "metadata": {},
   "outputs": [],
   "source": [
    "ln2 <- load(\"/ysm-gpfs/pi/zhao/zy92/projects/utmost_update/tissue_idx.RData\")\n",
    "ln2 "
   ]
  },
  {
   "cell_type": "code",
   "execution_count": null,
   "metadata": {},
   "outputs": [],
   "source": [
    "head(names(idx_list))\n",
    "head(idx_list[['Whole Blood']])"
   ]
  },
  {
   "cell_type": "code",
   "execution_count": null,
   "metadata": {},
   "outputs": [],
   "source": [
    "# collect the data \n",
    "expression_df <- fread(\"/ysm-gpfs/pi/zhao-data/zy92/GTEx_V8/GTEx_Analysis_2017-06-05_v8_RNASeQCv1.1.9_gene_tpm.gct\")\n",
    "dim(expression_df)"
   ]
  },
  {
   "cell_type": "code",
   "execution_count": null,
   "metadata": {},
   "outputs": [],
   "source": [
    "head(colnames(expression_df))"
   ]
  },
  {
   "cell_type": "code",
   "execution_count": null,
   "metadata": {},
   "outputs": [],
   "source": [
    "#target_idx <- idx_list[['Whole Blood']] %in% colnames(expression_df)"
   ]
  },
  {
   "cell_type": "code",
   "execution_count": null,
   "metadata": {},
   "outputs": [],
   "source": [
    "dim(expression_df)\n",
    "length(colnames(expression_df))"
   ]
  },
  {
   "cell_type": "code",
   "execution_count": null,
   "metadata": {},
   "outputs": [],
   "source": [
    "length(target_idx)\n",
    "sum(target_idx)\n",
    "head(target_idx)"
   ]
  },
  {
   "cell_type": "code",
   "execution_count": null,
   "metadata": {},
   "outputs": [],
   "source": [
    "head(idx_list[['Whole Blood']])"
   ]
  },
  {
   "cell_type": "code",
   "execution_count": null,
   "metadata": {},
   "outputs": [],
   "source": [
    "length(idx_list[['Whole Blood']])\n",
    "length(unique(idx_list[['Whole Blood']]))\n",
    "\n"
   ]
  },
  {
   "cell_type": "code",
   "execution_count": null,
   "metadata": {},
   "outputs": [],
   "source": [
    "tissue <- \"Whole Blood\"\n",
    "header <- colnames(expression_df)\n",
    "target_idx <- match(idx_list[[tissue]], header)\n",
    "target_idx_col <- which(!is.na(target_idx))\n",
    "#target_idx <- target_idx[which(target_idx == T)]\n",
    "#expression_list[[tissue]] <- expression_df[, c(1,2,target_idx)]"
   ]
  },
  {
   "cell_type": "code",
   "execution_count": null,
   "metadata": {},
   "outputs": [],
   "source": [
    "head(target_idx_col)"
   ]
  },
  {
   "cell_type": "code",
   "execution_count": null,
   "metadata": {},
   "outputs": [],
   "source": [
    "head(idx_list[[tissue]])"
   ]
  },
  {
   "cell_type": "code",
   "execution_count": null,
   "metadata": {},
   "outputs": [],
   "source": [
    "head(header)"
   ]
  },
  {
   "cell_type": "code",
   "execution_count": null,
   "metadata": {},
   "outputs": [],
   "source": [
    "head(target_idx)"
   ]
  },
  {
   "cell_type": "code",
   "execution_count": null,
   "metadata": {},
   "outputs": [],
   "source": [
    "length(target_idx)"
   ]
  },
  {
   "cell_type": "code",
   "execution_count": null,
   "metadata": {},
   "outputs": [],
   "source": [
    "expression_df <- as.data.frame(expression_df)"
   ]
  },
  {
   "cell_type": "code",
   "execution_count": null,
   "metadata": {},
   "outputs": [],
   "source": [
    "# extract the tissue-specific expression profile based on the tissue idx\n",
    "tissue_vec <- names(idx_list)\n",
    "expression_list <- list()\n",
    "header <- colnames(expression_df)\n",
    "for (tissue in tissue_vec) {\n",
    "    target_idx <- header %in% idx_list[[tissue]] \n",
    "    #target_idx <- target_idx[which(target_idx == T)]\n",
    "    expression_list[[tissue]] <- expression_df[, target_idx]\n",
    "    expression_list[[tissue]]$Name <- expression_df$Name\n",
    "    expression_list[[tissue]]$Description <- expression_df$Description\n",
    "}"
   ]
  },
  {
   "cell_type": "code",
   "execution_count": null,
   "metadata": {},
   "outputs": [],
   "source": [
    "head(header)"
   ]
  },
  {
   "cell_type": "code",
   "execution_count": null,
   "metadata": {},
   "outputs": [],
   "source": [
    "getwd()"
   ]
  },
  {
   "cell_type": "code",
   "execution_count": null,
   "metadata": {},
   "outputs": [],
   "source": [
    "# /home/fas/radev/zy92/project/utmost_update/GTEX\n",
    "#save(expression_list, expression_df, file = \"/ysm-gpfs/pi/zhao/zy92/projects/utmost_update/GTEX/expression_list_target.RData\")\n",
    "save(expression_list, expression_df, file = \"/gpfs/loomis/project/radev/zy92/utmost_update/GTEX/expression_list_target.RData\")"
   ]
  },
  {
   "cell_type": "code",
   "execution_count": null,
   "metadata": {},
   "outputs": [],
   "source": [
    "dim(expression_list[['Whole Blood']])"
   ]
  },
  {
   "cell_type": "code",
   "execution_count": null,
   "metadata": {},
   "outputs": [],
   "source": [
    "ln3 <- load(\"/ysm-gpfs/pi/zhao/zy92/projects/utmost_update/GTEX/gene_info_target.RData\")\n",
    "ln3"
   ]
  },
  {
   "cell_type": "code",
   "execution_count": null,
   "metadata": {},
   "outputs": [],
   "source": [
    "class(gene_info_target)"
   ]
  },
  {
   "cell_type": "code",
   "execution_count": null,
   "metadata": {},
   "outputs": [],
   "source": [
    "gene_info_target"
   ]
  },
  {
   "cell_type": "code",
   "execution_count": null,
   "metadata": {},
   "outputs": [],
   "source": [
    "expression_df_target <- expression_df %>% \n",
    "    filter(Name %in% UQ(gene_info_target$ensembl_gene_id))"
   ]
  },
  {
   "cell_type": "code",
   "execution_count": null,
   "metadata": {},
   "outputs": [],
   "source": [
    "head(gene_info_target$ensembl_gene_id)"
   ]
  },
  {
   "cell_type": "code",
   "execution_count": null,
   "metadata": {},
   "outputs": [],
   "source": [
    "dim(expression_df)"
   ]
  },
  {
   "cell_type": "code",
   "execution_count": null,
   "metadata": {},
   "outputs": [],
   "source": [
    "class(expression_df)"
   ]
  },
  {
   "cell_type": "code",
   "execution_count": null,
   "metadata": {},
   "outputs": [],
   "source": [
    "head(expression_df[,1:6])"
   ]
  },
  {
   "cell_type": "code",
   "execution_count": null,
   "metadata": {},
   "outputs": [],
   "source": [
    "#gene_info_target$ensembl_gene_id"
   ]
  },
  {
   "cell_type": "code",
   "execution_count": null,
   "metadata": {},
   "outputs": [],
   "source": [
    "expression_df$NameClean <- as.character(sapply(expression_df$Name, function(x) unlist(strsplit(x, \"\\\\.\"))[[1]]))"
   ]
  },
  {
   "cell_type": "code",
   "execution_count": null,
   "metadata": {},
   "outputs": [],
   "source": [
    "unlist(strsplit(expression_df$Name[1], \"\\\\.\"))[[1]]"
   ]
  },
  {
   "cell_type": "code",
   "execution_count": null,
   "metadata": {
    "jupyter": {
     "source_hidden": true
    }
   },
   "outputs": [],
   "source": [
    "dim(expression_df_target)"
   ]
  },
  {
   "cell_type": "code",
   "execution_count": null,
   "metadata": {},
   "outputs": [],
   "source": []
  },
  {
   "cell_type": "code",
   "execution_count": null,
   "metadata": {},
   "outputs": [],
   "source": []
  }
 ],
 "metadata": {
  "kernelspec": {
   "display_name": "R",
   "language": "R",
   "name": "ir"
  },
  "language_info": {
   "codemirror_mode": "r",
   "file_extension": ".r",
   "mimetype": "text/x-r-source",
   "name": "R",
   "pygments_lexer": "r",
   "version": "3.5.0"
  }
 },
 "nbformat": 4,
 "nbformat_minor": 4
}
