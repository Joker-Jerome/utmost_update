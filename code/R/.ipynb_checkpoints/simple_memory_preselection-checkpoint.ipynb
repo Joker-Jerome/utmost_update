{
 "cells": [
  {
   "cell_type": "code",
   "execution_count": 1,
   "metadata": {},
   "outputs": [
    {
     "name": "stderr",
     "output_type": "stream",
     "text": [
      "Loading required package: Matrix\n",
      "\n",
      "Loading required package: foreach\n",
      "\n",
      "Loaded glmnet 2.0-13\n",
      "\n",
      "\n"
     ]
    }
   ],
   "source": [
    "#-------------------------- arguments ---------------------------#\n",
    "options(stringsAsFactors=F)\n",
    "library(glmnet)\n",
    "library(foreach)\n",
    "library(genio)\n",
    "library(Rcpp)\n",
    "\n",
    "\n",
    "\n",
    "bgt_origin = Sys.time()\n",
    "\n",
    "#-------------------------- functions ---------------------------#  \n",
    "\n",
    "grad_prep <- function(X, Y){\n",
    "\t## pre-calculate some metrics for gradient\n",
    "\tll = length(Y)\n",
    "\tP = ncol(X[[1]])\n",
    "\tXY = matrix(0,P,ll)\n",
    "\tfor(i in 1:ll){\n",
    "\t\tXY[,i] = t(X[[i]])%*%Y[[i]]/nrow(X[[i]])\n",
    "\t}\n",
    "\tXY\n",
    "}\n",
    "\n",
    "cv_helper <- function(N, fold){\n",
    "\tvalid_num = floor(N/fold)\n",
    "\tset.seed(123)\n",
    "\tperm = sample(1:N, size = N)\n",
    "\tidx1 = seq(1,N,valid_num)\n",
    "\tidx2 = c(idx1[-1]-1,N)\n",
    "\tlist(perm=perm, idx=cbind(idx1,idx2))\n",
    "}\n",
    "\n",
    "minmax_lambda <- function(lst){\n",
    "\tmax_lam = max(unlist(lapply(lst, function(x){max(x$lambda)})))\n",
    "\tmin_lam = min(unlist(lapply(lst, function(x){min(x$lambda)})))\n",
    "\tc(min_lam, max_lam)\n",
    "}\n",
    "\n",
    "elastic_net_mse <- function(lst, X_tune, Y_tune, X_test, Y_test){\n",
    "\tP = length(lst)\n",
    "\tM = ncol(X_tune[[1]])\n",
    "\tlam_V = rep(0, P)\n",
    "\ttest_res = list()\n",
    "\ttest_beta = matrix(0, M, P)\n",
    "\tfor(t in 1:P){\n",
    "\t\tncv = length(lst[[t]]$lambda)\n",
    "\t\ttmp_mse = rep(0, ncv)\n",
    "\t\tfor(k in 1:ncv){\n",
    "\t\t\ttmp_mse[k] = mean((Y_tune[[t]] - X_tune[[t]]%*%lst[[t]]$glmnet.fit$beta[,k])^2)\n",
    "\t\t}\n",
    "\t\tss = which.min(tmp_mse)\n",
    "\t\ttest_beta[,t] = lst[[t]]$glmnet.fit$beta[,ss]\n",
    "\t\tlam_V[t] = lst[[t]]$lambda[ss]\n",
    "\t\tpredicted = X_test[[t]]%*%lst[[t]]$glmnet.fit$beta[,ss]\n",
    "\t\ttest_res[[t]] = cbind(Y_test[[t]], predicted)\n",
    "\t}\n",
    "\tlist(lam = lam_V, mse = test_res, est = test_beta)\n",
    "}\n",
    "\n",
    "multi_mse <- function(theta_est, X_test, Y_test){\n",
    "\tanswer = list()\n",
    "\tP = ncol(theta_est)\n",
    "\tfor(t in 1:P){\n",
    "\t\tpredicted = X_test[[t]]%*%theta_est[,t]\n",
    "\t\tanswer[[t]] = cbind(Y_test[[t]], predicted)\n",
    "\t}\n",
    "\tanswer\n",
    "}\n",
    "\n",
    "avg_perm <- function(mse_lst){\n",
    "\tfd = length(mse_lst)\n",
    "\tP = length(mse_lst[[1]])\n",
    "\trsq = mse = adj_mse = matrix(0, fd, P)\n",
    "\tfor(f in 1:fd){\n",
    "\t\tfor(t in 1:P){\n",
    "\t\t\trsq[f,t] = (cor(mse_lst[[f]][[t]])[1,2])^2\n",
    "\t\t\tmse[f,t] = mean((mse_lst[[f]][[t]][,1]-mse_lst[[f]][[t]][,2])^2)\n",
    "\t\t\tadj_mse[f,t] = mse[f,t]/var(mse_lst[[f]][[t]][,1])\n",
    "\t\t}\n",
    "\t}\n",
    "\tcbind(apply(rsq, 2, mean), apply(mse, 2, mean), apply(adj_mse, 2, mean))\n",
    "\n",
    "\t#list(rsq = apply(rsq, 2, mean), mse = apply(mse, 2, mean), adj_mse = apply(adj_mse, 2, mean))\n",
    "}\n",
    "\n",
    "## group lasso on data with missing covariates, use validation data for stopping criterion\n",
    "glasso <- function(X, Y, X1, Y1, XX, XY, Xnorm, lambda1, lambda2, theta, stepsize = 1e-4, maxiter = 50, eps = 1e-3, verbose = FALSE){\n",
    "\tBgt = Sys.time()\n",
    "\tM = nrow(XY)\n",
    "\tP = length(X)\n",
    "\tNN = unlist(lapply(X, nrow))\n",
    "\told_objV1 = rep(0,P)\n",
    "\tfor(t in 1:P){\n",
    "\t\told_objV1[t] = 1/2*mean((Y[[t]]-X[[t]]%*%theta[,t])^2)\n",
    "\t}\n",
    "  if (verbose) {\n",
    "    cat(\"Training error: \", old_objV1, '\\n')\t\n",
    "  }\n",
    "\told_objV2 = rep(0,P)\n",
    "\tfor(t in 1:P){\n",
    "\t\told_objV2[t] = 1/2*mean((Y1[[t]]-X1[[t]]%*%theta[,t])^2)\n",
    "\t}\n",
    "\tif (verbose) {\n",
    "    cat(\"Testing error: \", old_objV2, '\\n')\n",
    "  }\n",
    "\tbeta_j_lasso = rep(0, P)\n",
    "\ttmp_XYj = 0\n",
    "\tif(!is.loaded(\"wrapper\")){\n",
    "\t\tdyn.load(\"/ysm-gpfs/pi/zhao/from_louise/yh367/GTEX/codes/glasso.so\") # change this to the abs path to optim.so\n",
    "\t}\n",
    "\tfor(i in 1:maxiter){\n",
    "\t\tbgt = Sys.time()\n",
    "\t\tres = .Call(\"wrapper\", XX, XY, theta, M, P, beta_j_lasso, lambda1, lambda2, Xnorm)\n",
    "\t\tedt = Sys.time()\n",
    "\t\t\n",
    "\t\tnew_objV1 = new_objV2 = rep(0,P)\n",
    "\t\tfor(t in 1:P){\n",
    "\t\t\tnew_objV1[t] = 1/2*mean((Y[[t]]-X[[t]]%*%theta[,t])^2)\n",
    "\t\t}\n",
    "\t\tif (verbose) {IRdisplay::display_html(paste0(\"Training error: \", new_objV1, '\\n'))}\n",
    "\t\tfor(t in 1:P){\n",
    "\t\t\tnew_objV2[t] = 1/2*mean((Y1[[t]]-X1[[t]]%*%theta[,t])^2)\n",
    "\t\t}\n",
    "\t\tif (verbose) {IRdisplay::display_html(paste0(\"Testing error: \", new_objV2, '\\n'))}\n",
    "\t\tif(mean(new_objV2) > mean(old_objV2)|mean(new_objV1) > mean(old_objV1)){\n",
    "\t\t\tbreak\n",
    "\t\t}else{\n",
    "\t\t\told_objV2 = new_objV2\n",
    "\t\t}\n",
    "\t\tif(max(abs(new_objV1-old_objV1)) < eps){\n",
    "\t\t\tbreak\n",
    "\t\t}else{\n",
    "\t\t\told_objV1 = new_objV1\n",
    "\t\t}\n",
    "\t}\n",
    "\tEdt = Sys.time()\n",
    "\tcat(\"total training time: \", Edt-Bgt, \"\\n\")\n",
    "\tlist(est = theta, avg_tune_err = mean(new_objV2), tune_err=new_objV2)\n",
    "}\n",
    "\n",
    "## simpler version of glasso, train model until converges \n",
    "glasso_no_early_stopping <- function(X, Y, XX, XY, Xnorm, lambda1, lambda2, theta, stepsize = 1e-4, maxiter = 50, eps = 1e-3, verbose = FALSE){\n",
    "  cat(\"running glasso_no_early_stopping\\n\")\n",
    "\tM = nrow(XY)\n",
    "\tP = length(X)\n",
    "\tNN = unlist(lapply(X, nrow))\n",
    "\told_objV1 = rep(0,P)\n",
    "\tfor(t in 1:P){\n",
    "\t\told_objV1[t] = 1/2*mean((Y[[t]]-X[[t]]%*%theta[,t])^2)\n",
    "\t}\n",
    "\tif (verbose) {cat(\"Training error: \", mean(old_objV1), '\\n')}\n",
    "\tbeta_j_lasso = rep(0, P)\n",
    "\ttmp_XYj = 0\n",
    "\tif(!is.loaded(\"wrapper\")){\n",
    "\t\tdyn.load(\"optim.so\")\n",
    "\t}\n",
    "\tfor(i in 1:maxiter){\n",
    "\t\tres = .Call(\"wrapper\", XX, XY, theta, M, P, beta_j_lasso, lambda1, lambda2, Xnorm)\n",
    "\t\tnew_objV1 = rep(0,P)\n",
    "\t\tfor(t in 1:P){\n",
    "\t\t\tnew_objV1[t] = 1/2*mean((Y[[t]]-X[[t]]%*%theta[,t])^2)\n",
    "\t\t}\n",
    "\t\tif (verbose) {cat(\"Training error: \", mean(new_objV1), '\\n')}\n",
    "\t\tif(max(abs(new_objV1-old_objV1)) < eps|mean(new_objV1) > mean(old_objV1)){\n",
    "\t\t\tbreak\n",
    "\t\t}else{\n",
    "\t\t\told_objV1 = new_objV1\n",
    "\t\t}\n",
    "\t}\n",
    "\tlist(est = theta, avg_train_err = mean(new_objV1), train_err = new_objV1)\n",
    "}\n",
    "\n",
    "extract_genotype <- function(gene_idx, chr_str, genotype_dir, gene_vec) {\n",
    "    gene_dir <- paste0(genotype_dir, chr_str, gene_vec[gene_idx], \"/\", gene_vec[gene_idx])\n",
    "    genotype_info <- read_plink(gene_dir)\n",
    "    \n",
    "    print(paste0(\"INFO: genotype matrix dimension:\", dim(genotype_info$X)[1], \" * \", dim(genotype_info$X)[2]))\n",
    "    return(genotype_info)\n",
    "}\n",
    "\n"
   ]
  },
  {
   "cell_type": "code",
   "execution_count": 2,
   "metadata": {},
   "outputs": [
    {
     "name": "stdout",
     "output_type": "stream",
     "text": [
      "INFO: loading expression files...INFO: loading genotype files..."
     ]
    },
    {
     "name": "stderr",
     "output_type": "stream",
     "text": [
      "Reading: /ysm-gpfs/project/wl382/GTEx_v8/genotype/cis_loc/chr21/ENSG00000184012.11/ENSG00000184012.11.bim\n",
      "\n",
      "Reading: /ysm-gpfs/project/wl382/GTEx_v8/genotype/cis_loc/chr21/ENSG00000184012.11/ENSG00000184012.11.fam\n",
      "\n",
      "Reading: /ysm-gpfs/project/wl382/GTEx_v8/genotype/cis_loc/chr21/ENSG00000184012.11/ENSG00000184012.11.bed\n",
      "\n"
     ]
    }
   ],
   "source": [
    "#-------------------------- main ---------------------------#  \n",
    "\n",
    "# testing\n",
    "if (T) {\n",
    "    args <- c(\"21\", \"3\")\n",
    "} \n",
    "#args = commandArgs(trailingOnly = TRUE)\n",
    "chr = as.numeric(args[1])\n",
    "    \n",
    "\n",
    "#-------------------------- data import ---------------------------#  \n",
    "\n",
    "\n",
    "chr = \"21\"\n",
    "k = \"1\"\n",
    "genotype_dir <- \"/ysm-gpfs/project/wl382/GTEx_v8/genotype/cis_loc/\"\n",
    "gtex_dir <- \"/gpfs/loomis/project/zhao/zy92/GTEX/\" \n",
    "glist = dir(paste0(gtex_dir, \"adjusted_expr/chr\", chr))\n",
    "\n",
    "\n",
    "# idx \n",
    "\n",
    "chr_str <- paste0(\"chr\", chr, \"/\")\n",
    "gene_vec <- list.files(paste0(genotype_dir, chr_str))\n",
    "\n",
    "gene_idx = which(glist == \"ENSG00000184012\")\n",
    "dose_idx = which(startsWith(gene_vec, \"ENSG00000184012\"))\n",
    "\n",
    "gene_id <- gene_vec[dose_idx]\n",
    "g <- glist[gene_idx]\n",
    "dose_path = paste0(genotype_dir, chr_str, gene_id, \"/\", gene_id)\n",
    "Yt = dir(paste0(gtex_dir, \"adjusted_expr/\", chr_str, g, \"/\"))\n",
    "P = length(Yt)\n",
    "output_dir = \"/gpfs/loomis/project/zhao/zy92/GTEX/output/\" \n",
    "ntune = 5\n",
    "if_verbose = T\n",
    "# loading fast matrix operations \n",
    "#sourceCpp(\"/gpfs/project/zhao/zy92/utmost_update/CTIMP/MatrixMtp.cpp\") # call the C++ file and we have three functions as armaMatMult，eigenMatMult，eigenMapMatMult.\n",
    "sourceCpp(\"/gpfs/loomis/project/zhao/zy92/utmost_update/CTIMP/MatrixMtp.cpp\") # call the C++ file and we have three functions as armaMatMult，eigenMatMult，eigenMapMatMult.\n",
    "\n",
    "\n",
    "\n",
    "\n",
    "\n",
    "\n",
    "# create dirs\n",
    "dir.create(paste0(output_dir, \"chr\", chr), showWarnings = FALSE)\n",
    "dir.create(paste0(output_dir, \"chr\", chr, \"/\", gene_id), showWarnings = FALSE)\n",
    "setwd(paste0(output_dir, \"chr\", chr, \"/\", gene_id))\n",
    "\n",
    "# expr files \n",
    "cat(\"INFO: loading expression files...\")\n",
    "Y = list()\n",
    "T_idx = c()\n",
    "for(t in 1:P){\n",
    "    tmp_exp = read.table(paste0(gtex_dir, \"adjusted_expr/chr\", chr, \"/\", g, \"/\", Yt[t]), header=F)\n",
    "    # check if the y is constant\n",
    "    if (!all(tmp_exp[,2] == tmp_exp[1,2])) {\n",
    "        T_idx = c(T_idx, t)\n",
    "        Y[[length(T_idx)]] = tmp_exp \n",
    "    }\n",
    "     \n",
    "}\n",
    "Yt = Yt[T_idx]\n",
    "ssize = unlist(lapply(Y, nrow))\n",
    "T_num = length(Yt)\n",
    "P = T_num\n",
    "\n",
    "# genotype files \n",
    "cat(\"INFO: loading genotype files...\")\t\n",
    "genotype_info <- read_plink(dose_path)\n",
    "dose = genotype_info$X #[1:1000, ]\n",
    "dose_std = dose\n",
    "\n",
    "# center the dose\n",
    "for(j in 1:nrow(dose)){\n",
    "    dose_std[j, is.na(dose[j, ])] <- mean(dose[j, ], na.rm = T)\n",
    "    dose_std[j, ] <- dose_std[j, ] - mean(dose[j, ], na.rm = T)\n",
    "}\n",
    "\n",
    "# covariance matrix \n",
    "n_sample = ncol(dose_std)\n",
    "tmp = t(as.matrix(dose_std))\n",
    "XX = eigenMatMult(t(tmp), tmp)/n_sample \n",
    "Xnorm = diag(XX)\n",
    "remove(tmp)\n",
    "remove(XX)\n",
    "sub_id = colnames(dose_std)\n",
    "\n",
    "# number of snps\n",
    "M = nrow(dose_std)\n",
    "sub_id_map = list()\n",
    "sub_id_map_exp = list()\n",
    "\n",
    "# sample matching \n",
    "for(t in 1:T_num){\n",
    "    #tmp = rep(0, nrow(Y[[t]]))\n",
    "    exp_id <- as.character(sapply(Y[[t]][,1], function(x) substr(x, 1, 10)))\n",
    "    # index of ids that have matched genotypes \n",
    "    # exp_id based on order of exp_id\n",
    "    match_id <- match(exp_id, sub_id)\n",
    "    sub_id_map[[t]] <- na.omit(match_id)\n",
    "    sub_id_map_exp[[t]] <- !is.na(match_id)  \n",
    "}\n",
    "\n",
    "# cv                  "
   ]
  },
  {
   "cell_type": "code",
   "execution_count": 4,
   "metadata": {},
   "outputs": [
    {
     "data": {
      "text/html": [
       "Tissue 1"
      ]
     },
     "metadata": {},
     "output_type": "display_data"
    },
    {
     "data": {
      "text/html": [
       "Tissue 2"
      ]
     },
     "metadata": {},
     "output_type": "display_data"
    },
    {
     "data": {
      "text/html": [
       "Tissue 3"
      ]
     },
     "metadata": {},
     "output_type": "display_data"
    },
    {
     "data": {
      "text/html": [
       "Tissue 4"
      ]
     },
     "metadata": {},
     "output_type": "display_data"
    },
    {
     "data": {
      "text/html": [
       "Tissue 5"
      ]
     },
     "metadata": {},
     "output_type": "display_data"
    },
    {
     "data": {
      "text/html": [
       "Tissue 6"
      ]
     },
     "metadata": {},
     "output_type": "display_data"
    },
    {
     "data": {
      "text/html": [
       "Tissue 7"
      ]
     },
     "metadata": {},
     "output_type": "display_data"
    },
    {
     "data": {
      "text/html": [
       "Tissue 8"
      ]
     },
     "metadata": {},
     "output_type": "display_data"
    },
    {
     "data": {
      "text/html": [
       "Tissue 9"
      ]
     },
     "metadata": {},
     "output_type": "display_data"
    },
    {
     "data": {
      "text/html": [
       "Tissue 10"
      ]
     },
     "metadata": {},
     "output_type": "display_data"
    },
    {
     "data": {
      "text/html": [
       "Tissue 11"
      ]
     },
     "metadata": {},
     "output_type": "display_data"
    },
    {
     "data": {
      "text/html": [
       "Tissue 12"
      ]
     },
     "metadata": {},
     "output_type": "display_data"
    },
    {
     "data": {
      "text/html": [
       "Tissue 13"
      ]
     },
     "metadata": {},
     "output_type": "display_data"
    },
    {
     "data": {
      "text/html": [
       "Tissue 14"
      ]
     },
     "metadata": {},
     "output_type": "display_data"
    },
    {
     "data": {
      "text/html": [
       "Tissue 15"
      ]
     },
     "metadata": {},
     "output_type": "display_data"
    },
    {
     "data": {
      "text/html": [
       "Tissue 16"
      ]
     },
     "metadata": {},
     "output_type": "display_data"
    },
    {
     "data": {
      "text/html": [
       "Tissue 17"
      ]
     },
     "metadata": {},
     "output_type": "display_data"
    },
    {
     "data": {
      "text/html": [
       "Tissue 18"
      ]
     },
     "metadata": {},
     "output_type": "display_data"
    },
    {
     "data": {
      "text/html": [
       "Tissue 19"
      ]
     },
     "metadata": {},
     "output_type": "display_data"
    },
    {
     "data": {
      "text/html": [
       "Tissue 20"
      ]
     },
     "metadata": {},
     "output_type": "display_data"
    },
    {
     "data": {
      "text/html": [
       "Tissue 21"
      ]
     },
     "metadata": {},
     "output_type": "display_data"
    },
    {
     "data": {
      "text/html": [
       "Tissue 22"
      ]
     },
     "metadata": {},
     "output_type": "display_data"
    },
    {
     "data": {
      "text/html": [
       "Tissue 23"
      ]
     },
     "metadata": {},
     "output_type": "display_data"
    },
    {
     "data": {
      "text/html": [
       "Tissue 24"
      ]
     },
     "metadata": {},
     "output_type": "display_data"
    },
    {
     "data": {
      "text/html": [
       "Tissue 25"
      ]
     },
     "metadata": {},
     "output_type": "display_data"
    },
    {
     "data": {
      "text/html": [
       "Tissue 26"
      ]
     },
     "metadata": {},
     "output_type": "display_data"
    },
    {
     "data": {
      "text/html": [
       "Tissue 27"
      ]
     },
     "metadata": {},
     "output_type": "display_data"
    },
    {
     "data": {
      "text/html": [
       "Tissue 28"
      ]
     },
     "metadata": {},
     "output_type": "display_data"
    },
    {
     "data": {
      "text/html": [
       "Tissue 29"
      ]
     },
     "metadata": {},
     "output_type": "display_data"
    },
    {
     "data": {
      "text/html": [
       "Tissue 30"
      ]
     },
     "metadata": {},
     "output_type": "display_data"
    },
    {
     "data": {
      "text/html": [
       "Tissue 31"
      ]
     },
     "metadata": {},
     "output_type": "display_data"
    },
    {
     "data": {
      "text/html": [
       "Tissue 32"
      ]
     },
     "metadata": {},
     "output_type": "display_data"
    },
    {
     "data": {
      "text/html": [
       "Tissue 33"
      ]
     },
     "metadata": {},
     "output_type": "display_data"
    },
    {
     "data": {
      "text/html": [
       "Tissue 34"
      ]
     },
     "metadata": {},
     "output_type": "display_data"
    },
    {
     "data": {
      "text/html": [
       "Tissue 35"
      ]
     },
     "metadata": {},
     "output_type": "display_data"
    },
    {
     "data": {
      "text/html": [
       "Tissue 36"
      ]
     },
     "metadata": {},
     "output_type": "display_data"
    },
    {
     "data": {
      "text/html": [
       "Tissue 37"
      ]
     },
     "metadata": {},
     "output_type": "display_data"
    },
    {
     "data": {
      "text/html": [
       "Tissue 38"
      ]
     },
     "metadata": {},
     "output_type": "display_data"
    },
    {
     "data": {
      "text/html": [
       "Tissue 39"
      ]
     },
     "metadata": {},
     "output_type": "display_data"
    },
    {
     "data": {
      "text/html": [
       "Tissue 40"
      ]
     },
     "metadata": {},
     "output_type": "display_data"
    },
    {
     "data": {
      "text/html": [
       "Tissue 41"
      ]
     },
     "metadata": {},
     "output_type": "display_data"
    },
    {
     "data": {
      "text/html": [
       "Tissue 42"
      ]
     },
     "metadata": {},
     "output_type": "display_data"
    },
    {
     "data": {
      "text/html": [
       "Tissue 43"
      ]
     },
     "metadata": {},
     "output_type": "display_data"
    },
    {
     "data": {
      "text/html": [
       "Tissue 44"
      ]
     },
     "metadata": {},
     "output_type": "display_data"
    },
    {
     "data": {
      "text/html": [
       "Tissue 45"
      ]
     },
     "metadata": {},
     "output_type": "display_data"
    },
    {
     "data": {
      "text/html": [
       "Tissue 46"
      ]
     },
     "metadata": {},
     "output_type": "display_data"
    },
    {
     "data": {
      "text/html": [
       "Tissue 47"
      ]
     },
     "metadata": {},
     "output_type": "display_data"
    },
    {
     "data": {
      "text/html": [
       "Tissue 48"
      ]
     },
     "metadata": {},
     "output_type": "display_data"
    },
    {
     "data": {
      "text/html": [
       "Tissue 49"
      ]
     },
     "metadata": {},
     "output_type": "display_data"
    }
   ],
   "source": [
    "X_all = list()\n",
    "Y_all = list()\n",
    "for(t in 1:T_num){\n",
    "    X_all_tmp = sub_id_map[[t]]\n",
    "    X_all[[t]] = apply(as.matrix(dose_std[,X_all_tmp]),1,as.numeric)\n",
    "    Y_all[[t]] = Y[[t]][which(sub_id_map_exp[[t]] == T), 2]\n",
    "}\n",
    "# initial values \n",
    "single_initial_est = matrix(0, ncol(X_all[[1]]), T_num)\n",
    "for(t in 1:T_num){\n",
    "    IRdisplay::display_html(paste0(\"Tissue \", t))\n",
    "    tt = cv.glmnet(X_all[[t]], Y_all[[t]], alpha = 0.5, nfolds = 5)\n",
    "    single_initial_est[,t] = tt$glmnet.fit$beta[,which.min(tt$cvm)]\n",
    "}\n",
    "\n"
   ]
  },
  {
   "cell_type": "code",
   "execution_count": null,
   "metadata": {},
   "outputs": [],
   "source": [
    "plot_est <- function(initial_numeric) {\n",
    "    initial_numeric_df = data.frame(matrix(initial_numeric, nrow= 49))\n",
    "    zero_summary = apply(initial_numeric_df, 2, function(x) sum(x == 0))\n",
    "    hist(initial_numeric)\n",
    "    hist(zero_summary, breaks = 20)\n",
    "}"
   ]
  },
  {
   "cell_type": "code",
   "execution_count": null,
   "metadata": {},
   "outputs": [],
   "source": [
    "plot_est(single_initial_est)"
   ]
  },
  {
   "cell_type": "code",
   "execution_count": null,
   "metadata": {},
   "outputs": [],
   "source": [
    "\n",
    "#-------------------------- main ---------------------------#  \n",
    "\n",
    "# testing\n",
    "if (F) {\n",
    "    args <- c(\"21\", \"3\")\n",
    "} \n",
    "#args = commandArgs(trailingOnly = TRUE)\n",
    "chr = as.numeric(args[1])\n",
    "    \n",
    "\n",
    "#-------------------------- data import ---------------------------#  \n",
    "\n",
    "\n",
    "chr = \"21\"\n",
    "k = \"1\"\n",
    "genotype_dir <- \"/ysm-gpfs/project/wl382/GTEx_v8/genotype/cis_loc/\"\n",
    "gtex_dir <- \"/gpfs/loomis/project/zhao/zy92/GTEX/\" \n",
    "glist = dir(paste0(gtex_dir, \"adjusted_expr/chr\", chr))\n",
    "\n",
    "\n",
    "# idx \n",
    "\n",
    "chr_str <- paste0(\"chr\", chr, \"/\")\n",
    "gene_vec <- list.files(paste0(genotype_dir, chr_str))\n",
    "\n",
    "gene_idx = which(glist == \"ENSG00000184012\")\n",
    "dose_idx = which(startsWith(gene_vec, \"ENSG00000184012\"))\n",
    "\n",
    "gene_id <- gene_vec[dose_idx]\n",
    "g <- glist[gene_idx]\n",
    "dose_path = paste0(genotype_dir, chr_str, gene_id, \"/\", gene_id)\n",
    "Yt = dir(paste0(gtex_dir, \"adjusted_expr/\", chr_str, g, \"/\"))\n",
    "P = length(Yt)\n",
    "output_dir = \"/gpfs/loomis/project/zhao/zy92/GTEX/output/\" \n",
    "ntune = 5\n",
    "if_verbose = T\n",
    "# loading fast matrix operations \n",
    "#sourceCpp(\"/gpfs/project/zhao/zy92/utmost_update/CTIMP/MatrixMtp.cpp\") # call the C++ file and we have three functions as armaMatMult，eigenMatMult，eigenMapMatMult.\n",
    "sourceCpp(\"/gpfs/loomis/project/zhao/zy92/utmost_update/CTIMP/MatrixMtp.cpp\") # call the C++ file and we have three functions as armaMatMult，eigenMatMult，eigenMapMatMult.\n",
    "\n",
    "\n",
    "\n",
    "\n",
    "\n",
    "\n",
    "# create dirs\n",
    "dir.create(paste0(output_dir, \"chr\", chr), showWarnings = FALSE)\n",
    "dir.create(paste0(output_dir, \"chr\", chr, \"/\", gene_id), showWarnings = FALSE)\n",
    "setwd(paste0(output_dir, \"chr\", chr, \"/\", gene_id))\n",
    "\n",
    "# expr files \n",
    "cat(\"INFO: loading expression files...\")\n",
    "Y = list()\n",
    "T_idx = c()\n",
    "for(t in 1:P){\n",
    "    tmp_exp = read.table(paste0(gtex_dir, \"adjusted_expr/chr\", chr, \"/\", g, \"/\", Yt[t]), header=F)\n",
    "    # check if the y is constant\n",
    "    if (!all(tmp_exp[,2] == tmp_exp[1,2])) {\n",
    "        T_idx = c(T_idx, t)\n",
    "        Y[[length(T_idx)]] = tmp_exp \n",
    "    }\n",
    "     \n",
    "}\n",
    "Yt = Yt[T_idx]\n",
    "ssize = unlist(lapply(Y, nrow))\n",
    "T_num = length(Yt)\n",
    "P = T_num\n",
    "\n",
    "# genotype files \n",
    "cat(\"INFO: loading genotype files...\")\t\n",
    "genotype_info <- read_plink(dose_path)\n",
    "dose = genotype_info$X #[1:1000, ]\n",
    "dose_std = dose\n",
    "\n",
    "# center the dose\n",
    "for(j in 1:nrow(dose)){\n",
    "    dose_std[j, is.na(dose[j, ])] <- mean(dose[j, ], na.rm = T)\n",
    "    dose_std[j, ] <- dose_std[j, ] - mean(dose[j, ], na.rm = T)\n",
    "}\n",
    "\n",
    "# covariance matrix \n",
    "n_sample = ncol(dose_std)\n",
    "tmp = t(as.matrix(dose_std))\n",
    "XX = eigenMatMult(t(tmp), tmp)/n_sample \n",
    "Xnorm = diag(XX)\n",
    "remove(tmp)\n",
    "remove(XX)\n",
    "sub_id = colnames(dose_std)\n",
    "\n",
    "# number of snps\n",
    "M = nrow(dose_std)\n",
    "sub_id_map = list()\n",
    "sub_id_map_exp = list()\n",
    "\n",
    "# sample matching \n",
    "for(t in 1:T_num){\n",
    "    #tmp = rep(0, nrow(Y[[t]]))\n",
    "    exp_id <- as.character(sapply(Y[[t]][,1], function(x) substr(x, 1, 10)))\n",
    "    # index of ids that have matched genotypes \n",
    "    # exp_id based on order of exp_id\n",
    "    match_id <- match(exp_id, sub_id)\n",
    "    sub_id_map[[t]] <- na.omit(match_id)\n",
    "    sub_id_map_exp[[t]] <- !is.na(match_id)  \n",
    "}\n",
    "\n",
    "# cv                                   \n",
    "fold = 5\n",
    "#IR                                \n",
    "IRdisplay::display_html(\"INFO: CV preparation\")\n",
    "cv_config = cv_helper(n_sample, fold)\n",
    "cv_perm = cv_config$perm\n",
    "cv_idx = cv_config$idx\n",
    "\n",
    "single_res_test = list()\n",
    "single_lam = matrix(0, fold, T_num)\n",
    "single_theta_est = list()\n",
    "\t\n",
    "multi_res_test = list()\n",
    "multi_lam = matrix(0, fold, 2)\n",
    "multi_theta_est = list()\n",
    "\n",
    "multi_res_test2 = list()\n",
    "multi_lam2 = array(0, dim=c(fold, T_num, 2))\n",
    "multi_theta_est2 = list()\n",
    "                                  \n",
    "\n",
    "res_tune = list()\n",
    "rec_lamv = matrix(0, fold, ntune)                                 \n",
    "                                  \n",
    "for(f in 1:fold){\n",
    "#for(f in 1:1){\n",
    "    bgt = Sys.time()\n",
    "    IRdisplay::display_html(paste0(\"INFO: fold \", f))\n",
    "    test_index = cv_perm[cv_idx[f,1]:cv_idx[f,2]]\n",
    "    test_id = sub_id[test_index]\n",
    "\n",
    "    # move the tuning idx to another idx block\n",
    "    tuning_index = cv_perm[cv_idx[f%%fold+1,1]:cv_idx[f%%fold+1,2]]\n",
    "    tuning_id = sub_id[tuning_index]\n",
    "\n",
    "    # idx list\n",
    "    X_test = list()\n",
    "    Y_test = list()\n",
    "    X_tune = list()\n",
    "    Y_tune = list()\n",
    "    X_train = list()\n",
    "    Y_train = list()\n",
    "    for(t in 1:T_num){\n",
    "        # idx matching  \n",
    "        id_filter = !(sub_id_map[[t]]%in%c(test_index,tuning_index))\n",
    "        X_train_tmp = sub_id_map[[t]][id_filter]\n",
    "        Y_train_tmp = which(sub_id_map_exp[[t]] == T)[id_filter]\n",
    "        tuning_id_filter = sub_id_map[[t]]%in%tuning_index\n",
    "        X_tuning_tmp = sub_id_map[[t]][tuning_id_filter]\n",
    "        Y_tuning_tmp = which(sub_id_map_exp[[t]] == T)[tuning_id_filter]\n",
    "        testing_id_filter = sub_id_map[[t]]%in%test_index\n",
    "        X_test_tmp = sub_id_map[[t]][testing_id_filter]\n",
    "        Y_test_tmp = which(sub_id_map_exp[[t]] == T)[testing_id_filter]\n",
    "        # training data\n",
    "        X_train[[t]] = apply(as.matrix(dose_std[,X_train_tmp]),1,as.numeric)\n",
    "        Y_train[[t]] = Y[[t]][Y_train_tmp, 2]\n",
    "        X_tune[[t]] = apply(as.matrix(dose_std[,X_tuning_tmp]),1,as.numeric)\n",
    "        Y_tune[[t]] = Y[[t]][Y_tuning_tmp, 2]\n",
    "        X_test[[t]] = apply(as.matrix(dose_std[,X_test_tmp]),1,as.numeric)\n",
    "        Y_test[[t]] = Y[[t]][Y_test_tmp, 2]\n",
    "        #IRdisplay::display_html(length(X_train_tmp))\n",
    "        #IRdisplay::display_html(length(Y_train_tmp))\n",
    "        #IRdisplay::display_html(dim(X_train[[t]]))\n",
    "        #IRdisplay::display_html(length(Y_train[[t]]))\n",
    "    }\n",
    "\n",
    "    ## model training ##\t\n",
    "    ## train elastic net and used average lambda as tuning parameters ##\n",
    "    single_initial_est = matrix(0, ncol(X_train[[1]]), T_num)\n",
    "    single_summary = list()\n",
    "    for(t in 1:T_num) {\n",
    "        #print(Y_train[[t]])\n",
    "        #print(sum(is.na(X_train[[t]])))\n",
    "        if (t %% 5 == 0) {\n",
    "            IRdisplay::display_html(paste0(\"INFO: glmnet cv tissue\", t))\n",
    "        }\n",
    "        \n",
    "        \n",
    "        tt = cv.glmnet(X_train[[t]], Y_train[[t]], alpha = 0.5, nfolds = 5)\n",
    "        single_summary[[t]] = tt\n",
    "        single_initial_est[,t] = tt$glmnet.fit$beta[,which.min(tt$cvm)]\n",
    "    }\n",
    "    ## performance of Elastic net on tuning and testing data with various tuning parameters\n",
    "    els_output = elastic_net_mse(single_summary, X_tune, Y_tune, X_test, Y_test)\n",
    "    single_res_test[[f]] = els_output$mse\n",
    "    single_lam[f,] = els_output$lam\n",
    "    single_theta_est[[f]] = els_output$est\n",
    "    remove(els_output)\n",
    "\n",
    "    \n",
    "    ## use elastic net ests row norm as weights ##\n",
    "    lam_range = minmax_lambda(single_summary)\n",
    "    sig_norm = apply(single_initial_est, 1, function(x){sqrt(sum(x^2))})\n",
    "    sig_norm[sig_norm==0] = rep(min(sig_norm[sig_norm>0]), sum(sig_norm==0))/2\n",
    "    sig_norm = sig_norm/sum(sig_norm)\n",
    "    weights2 = 1/sig_norm; weights2 = weights2/sum(weights2);\n",
    "\n",
    "    tis_norm = apply(single_initial_est, 2, function(x){sum(abs(x))})\n",
    "    tis_norm[tis_norm==0] = rep(min(tis_norm[tis_norm>0]), sum(tis_norm==0))/2\n",
    "    tis_norm = tis_norm/sum(tis_norm)\n",
    "    weights1 = 1/tis_norm; weights1 = weights1/sum(weights1);\n",
    "    lam_V = seq(lam_range[1], lam_range[2], length.out = ntune)\n",
    "    \n",
    "    # initial value\n",
    "    initial_numeric = as.numeric(single_initial_est)\n",
    "\tremove(single_summary)\n",
    "    remove(single_initial_est)\n",
    "\n",
    "\n",
    "    #-------------------------- train - validate - test ---------------------------#\n",
    "    IRdisplay::display_html('starting train-validate-test\\n')\n",
    "    ## preparation\n",
    "    XY = grad_prep(X_train, Y_train)\n",
    "    #bgt = Sys.time()\n",
    "    XX_train = lapply(X_train, function(x) { eigenMatMult(t(x), x)/nrow(x)})\n",
    "    #edt = Sys.time()\n",
    "    #print(edt-bgt)\n",
    "    \n",
    "    spsz = unlist(lapply(X_train,nrow))\n",
    "    #res_tune = rep(0, ntune)\n",
    "    res_tune[[f]] = array(-1, dim=c(ntune, ntune, T_num))\n",
    "    #best.lam = 0\n",
    "    rec_lamv[f,] = lam_V\n",
    "    for(lam1 in 1:ntune){\n",
    "        for(lam2 in 1:ntune){\n",
    "            single_est = matrix(initial_numeric, M, T_num )\n",
    "            ans = glasso(X=X_train, Y=Y_train, X1=X_tune, Y1=Y_tune, XX=XX_train, XY=XY, Xnorm=Xnorm, lambda1=lam_V[lam1]/spsz, lambda2=lam_V[lam2], theta=single_est, verbose = if_verbose)\n",
    "            if(sum(ans$est!=0)>0){\n",
    "                res_tune[[f]][lam1,lam2, ] = ans$tune_err\n",
    "                if (if_verbose) { cat(\"lambda1=\",lam_V[lam1], \"; lambda2=\", lam_V[lam2], \"; avg tune err=\", ans$avg_tune_err, '\\n') }\n",
    "                remove(single_est); remove(ans);\n",
    "            }else{\n",
    "                remove(single_est); remove(ans);\n",
    "                break\n",
    "            }\t\t\t\n",
    "        }\n",
    "    }\n",
    "    \n",
    "    \n",
    "    #-------------------------- save results on test set for evaluation ---------------------------#\n",
    "    IRdisplay::display_html(\"saving cross-validation results for evaluation and analysis\\n\")\n",
    "    avg_tune_res = apply(res_tune[[f]], c(1,2), mean)\n",
    "    best.lam = which(avg_tune_res == min(avg_tune_res[avg_tune_res>=0]), arr.ind = TRUE)[1,]\n",
    "    single_est = matrix(initial_numeric, M, P)\n",
    "    ans = glasso(X=X_train, Y=Y_train, X1=X_tune, Y1=Y_tune, XX=XX_train, XY=XY, Xnorm=Xnorm, lambda1=lam_V[best.lam[1]]/spsz, lambda2=lam_V[best.lam[2]], theta=single_est, verbose = if_verbose)\n",
    "    multi_res_test[[f]] = multi_mse(ans$est, X_test, Y_test)\n",
    "    multi_lam[f,] = lam_V[best.lam]\n",
    "    multi_theta_est[[f]] = ans$est\n",
    "    remove(single_est)\n",
    "    remove(ans)\n",
    "\n",
    "    \n",
    "    edt = Sys.time()\n",
    "    print(edt-bgt)\n",
    "} # end of cv loop\n",
    "edt_origin = Sys.time() \n",
    "print(\"Final Time Cost: \")                                 \n",
    "print(edt_origin-bgt_origin)\n",
    "   "
   ]
  },
  {
   "cell_type": "code",
   "execution_count": null,
   "metadata": {},
   "outputs": [],
   "source": [
    "\n"
   ]
  },
  {
   "cell_type": "code",
   "execution_count": 4,
   "metadata": {},
   "outputs": [
    {
     "data": {
      "text/plain": [
       "NULL"
      ]
     },
     "metadata": {},
     "output_type": "display_data"
    }
   ],
   "source": [
    "dim(initial_numeric)"
   ]
  },
  {
   "cell_type": "code",
   "execution_count": null,
   "metadata": {},
   "outputs": [],
   "source": [
    "head(initial_numeric)\n",
    "length(initial_numeric)"
   ]
  },
  {
   "cell_type": "code",
   "execution_count": 6,
   "metadata": {},
   "outputs": [],
   "source": [
    "plot_est <- function(initial_numeric) {\n",
    "    initial_numeric_df = data.frame(matrix(initial_numeric, nrow= 49))\n",
    "    zero_summary = apply(initial_numeric_df, 2, function(x) sum(x == 0))\n",
    "    hist(initial_numeric)\n",
    "    hist(zero_summary, breaks = 20)\n",
    "}"
   ]
  },
  {
   "cell_type": "code",
   "execution_count": 17,
   "metadata": {},
   "outputs": [],
   "source": [
    "initial_numeric_df = data.frame(matrix(initial_numeric, 49, 1000))"
   ]
  },
  {
   "cell_type": "code",
   "execution_count": 18,
   "metadata": {},
   "outputs": [],
   "source": [
    "zero_summary = apply(initial_numeric_df, 2, function(x) sum(x == 0))"
   ]
  },
  {
   "cell_type": "code",
   "execution_count": 15,
   "metadata": {},
   "outputs": [
    {
     "data": {
      "text/html": [
       "0"
      ],
      "text/latex": [
       "0"
      ],
      "text/markdown": [
       "0"
      ],
      "text/plain": [
       "[1] 0"
      ]
     },
     "metadata": {},
     "output_type": "display_data"
    },
    {
     "data": {
      "image/png": "[encoded data removed]",
      "text/plain": [
       "Plot with title “Histogram of initial_numeric”"
      ]
     },
     "metadata": {
      "image/png": {
       "height": 420,
       "width": 420
      },
      "text/plain": {
       "height": 420,
       "width": 420
      }
     },
     "output_type": "display_data"
    }
   ],
   "source": [
    "sum(is.na(initial_numeric_df))\n",
    "hist(initial_numeric)"
   ]
  },
  {
   "cell_type": "code",
   "execution_count": 19,
   "metadata": {},
   "outputs": [
    {
     "data": {
      "image/png": "[encoded data removed]",
      "text/plain": [
       "Plot with title “Histogram of zero_summary”"
      ]
     },
     "metadata": {
      "image/png": {
       "height": 420,
       "width": 420
      },
      "text/plain": {
       "height": 420,
       "width": 420
      }
     },
     "output_type": "display_data"
    }
   ],
   "source": [
    "hist(zero_summary, breaks = 20)"
   ]
  },
  {
   "cell_type": "code",
   "execution_count": 26,
   "metadata": {},
   "outputs": [
    {
     "data": {
      "image/png": "[encoded data removed]",
      "text/plain": [
       "Plot with title “Histogram of initial_numeric”"
      ]
     },
     "metadata": {
      "image/png": {
       "height": 420,
       "width": 420
      },
      "text/plain": {
       "height": 420,
       "width": 420
      }
     },
     "output_type": "display_data"
    },
    {
     "data": {
      "image/png": "[encoded data removed]",
      "text/plain": [
       "Plot with title “Histogram of zero_summary”"
      ]
     },
     "metadata": {
      "image/png": {
       "height": 420,
       "width": 420
      },
      "text/plain": {
       "height": 420,
       "width": 420
      }
     },
     "output_type": "display_data"
    }
   ],
   "source": [
    "plot_est(multi_theta_est[[1]])"
   ]
  },
  {
   "cell_type": "code",
   "execution_count": 27,
   "metadata": {},
   "outputs": [
    {
     "data": {
      "image/png": "[encoded data removed]",
      "text/plain": [
       "Plot with title “Histogram of initial_numeric”"
      ]
     },
     "metadata": {
      "image/png": {
       "height": 420,
       "width": 420
      },
      "text/plain": {
       "height": 420,
       "width": 420
      }
     },
     "output_type": "display_data"
    },
    {
     "data": {
      "image/png": "[encoded data removed]",
      "text/plain": [
       "Plot with title “Histogram of zero_summary”"
      ]
     },
     "metadata": {
      "image/png": {
       "height": 420,
       "width": 420
      },
      "text/plain": {
       "height": 420,
       "width": 420
      }
     },
     "output_type": "display_data"
    }
   ],
   "source": [
    "plot_est(multi_theta_est[[2]])"
   ]
  },
  {
   "cell_type": "code",
   "execution_count": 28,
   "metadata": {},
   "outputs": [
    {
     "data": {
      "image/png": "[encoded data removed]",
      "text/plain": [
       "Plot with title “Histogram of initial_numeric”"
      ]
     },
     "metadata": {
      "image/png": {
       "height": 420,
       "width": 420
      },
      "text/plain": {
       "height": 420,
       "width": 420
      }
     },
     "output_type": "display_data"
    },
    {
     "data": {
      "image/png": "[encoded data removed]",
      "text/plain": [
       "Plot with title “Histogram of zero_summary”"
      ]
     },
     "metadata": {
      "image/png": {
       "height": 420,
       "width": 420
      },
      "text/plain": {
       "height": 420,
       "width": 420
      }
     },
     "output_type": "display_data"
    }
   ],
   "source": [
    "plot_est(multi_theta_est[[3]])"
   ]
  },
  {
   "cell_type": "code",
   "execution_count": 20,
   "metadata": {},
   "outputs": [
    {
     "data": {
      "text/html": [
       "34"
      ],
      "text/latex": [
       "34"
      ],
      "text/markdown": [
       "34"
      ],
      "text/plain": [
       "[1] 34"
      ]
     },
     "metadata": {},
     "output_type": "display_data"
    }
   ],
   "source": [
    "sum(zero_summary != 49)"
   ]
  },
  {
   "cell_type": "code",
   "execution_count": null,
   "metadata": {},
   "outputs": [],
   "source": [
    "length(zero_summary)"
   ]
  },
  {
   "cell_type": "code",
   "execution_count": null,
   "metadata": {},
   "outputs": [],
   "source": [
    "glasso <- function(X, Y, XX, XY, Xnorm, lambda1, lambda2, theta, stepsize = 1e-4, maxiter = 50, eps = 1e-3, verbose = FALSE){\n",
    "\tBgt = Sys.time()\n",
    "\tM = nrow(XY)\n",
    "\tP = length(X)\n",
    "\tNN = unlist(lapply(X, nrow))\n",
    "\told_objV1 = rep(0,P)\n",
    "\tfor(t in 1:P){\n",
    "\t\told_objV1[t] = 1/2*mean((Y[[t]]-X[[t]]%*%theta[,t])^2)\n",
    "\t}\n",
    "  if (verbose) {\n",
    "    cat(\"Training error: \", old_objV1, '\\n')\t\n",
    "  }\n",
    "\t\n",
    "\tbeta_j_lasso = rep(0, P)\n",
    "\ttmp_XYj = 0\n",
    "\tif(!is.loaded(\"wrapper\")){\n",
    "\t\tdyn.load(\"/ysm-gpfs/pi/zhao/from_louise/yh367/GTEX/codes/glasso.so\") # change this to the abs path to optim.so\n",
    "\t}\n",
    "\tfor(i in 1:maxiter){\n",
    "\t\tbgt = Sys.time()\n",
    "\t\tres = .Call(\"wrapper\", XX, XY, theta, M, P, beta_j_lasso, lambda1, lambda2, Xnorm)\n",
    "\t\tedt = Sys.time()\n",
    "\t\t\n",
    "\t\tnew_objV1 = rep(0,P)\n",
    "\t\tfor(t in 1:P){\n",
    "\t\t\tnew_objV1[t] = 1/2*mean((Y[[t]]-X[[t]]%*%theta[,t])^2)\n",
    "\t\t}\n",
    "\t\tif (verbose) {IRdisplay::display_html(paste0(\"Training error: \", new_objV1, '\\n'))}\n",
    "\t\t\n",
    "        # mean objective\n",
    "\t\tif(mean(new_objV1) > mean(old_objV1)){\n",
    "\t\t\tbreak\n",
    "\t\t}\n",
    "        \n",
    "        # update criteria\n",
    "\t\tif (max(abs(new_objV1-old_objV1)) < eps) {\n",
    "\t\t\tbreak\n",
    "\t\t} else {\n",
    "\t\t\told_objV1 = new_objV1\n",
    "\t\t}\n",
    "\t}\n",
    "\tEdt = Sys.time()\n",
    "\tcat(\"total training time: \", Edt-Bgt, \"\\n\")\n",
    "\tlist(est = theta, avg_train_err = mean(new_objV1), train_err=new_objV1)\n",
    "}"
   ]
  },
  {
   "cell_type": "code",
   "execution_count": 6,
   "metadata": {},
   "outputs": [
    {
     "data": {
      "text/html": [
       "Tissue 1"
      ]
     },
     "metadata": {},
     "output_type": "display_data"
    },
    {
     "data": {
      "text/html": [
       "Tissue 2"
      ]
     },
     "metadata": {},
     "output_type": "display_data"
    },
    {
     "data": {
      "text/html": [
       "Tissue 3"
      ]
     },
     "metadata": {},
     "output_type": "display_data"
    },
    {
     "data": {
      "text/html": [
       "Tissue 4"
      ]
     },
     "metadata": {},
     "output_type": "display_data"
    },
    {
     "data": {
      "text/html": [
       "Tissue 5"
      ]
     },
     "metadata": {},
     "output_type": "display_data"
    },
    {
     "data": {
      "text/html": [
       "Tissue 6"
      ]
     },
     "metadata": {},
     "output_type": "display_data"
    },
    {
     "data": {
      "text/html": [
       "Tissue 7"
      ]
     },
     "metadata": {},
     "output_type": "display_data"
    },
    {
     "data": {
      "text/html": [
       "Tissue 8"
      ]
     },
     "metadata": {},
     "output_type": "display_data"
    },
    {
     "data": {
      "text/html": [
       "Tissue 9"
      ]
     },
     "metadata": {},
     "output_type": "display_data"
    },
    {
     "data": {
      "text/html": [
       "Tissue 10"
      ]
     },
     "metadata": {},
     "output_type": "display_data"
    },
    {
     "data": {
      "text/html": [
       "Tissue 11"
      ]
     },
     "metadata": {},
     "output_type": "display_data"
    },
    {
     "data": {
      "text/html": [
       "Tissue 12"
      ]
     },
     "metadata": {},
     "output_type": "display_data"
    },
    {
     "data": {
      "text/html": [
       "Tissue 13"
      ]
     },
     "metadata": {},
     "output_type": "display_data"
    },
    {
     "data": {
      "text/html": [
       "Tissue 14"
      ]
     },
     "metadata": {},
     "output_type": "display_data"
    },
    {
     "data": {
      "text/html": [
       "Tissue 15"
      ]
     },
     "metadata": {},
     "output_type": "display_data"
    },
    {
     "data": {
      "text/html": [
       "Tissue 16"
      ]
     },
     "metadata": {},
     "output_type": "display_data"
    },
    {
     "data": {
      "text/html": [
       "Tissue 17"
      ]
     },
     "metadata": {},
     "output_type": "display_data"
    },
    {
     "data": {
      "text/html": [
       "Tissue 18"
      ]
     },
     "metadata": {},
     "output_type": "display_data"
    },
    {
     "data": {
      "text/html": [
       "Tissue 19"
      ]
     },
     "metadata": {},
     "output_type": "display_data"
    },
    {
     "data": {
      "text/html": [
       "Tissue 20"
      ]
     },
     "metadata": {},
     "output_type": "display_data"
    },
    {
     "data": {
      "text/html": [
       "Tissue 21"
      ]
     },
     "metadata": {},
     "output_type": "display_data"
    },
    {
     "data": {
      "text/html": [
       "Tissue 22"
      ]
     },
     "metadata": {},
     "output_type": "display_data"
    },
    {
     "data": {
      "text/html": [
       "Tissue 23"
      ]
     },
     "metadata": {},
     "output_type": "display_data"
    },
    {
     "data": {
      "text/html": [
       "Tissue 24"
      ]
     },
     "metadata": {},
     "output_type": "display_data"
    },
    {
     "data": {
      "text/html": [
       "Tissue 25"
      ]
     },
     "metadata": {},
     "output_type": "display_data"
    },
    {
     "data": {
      "text/html": [
       "Tissue 26"
      ]
     },
     "metadata": {},
     "output_type": "display_data"
    },
    {
     "data": {
      "text/html": [
       "Tissue 27"
      ]
     },
     "metadata": {},
     "output_type": "display_data"
    },
    {
     "data": {
      "text/html": [
       "Tissue 28"
      ]
     },
     "metadata": {},
     "output_type": "display_data"
    },
    {
     "data": {
      "text/html": [
       "Tissue 29"
      ]
     },
     "metadata": {},
     "output_type": "display_data"
    },
    {
     "data": {
      "text/html": [
       "Tissue 30"
      ]
     },
     "metadata": {},
     "output_type": "display_data"
    },
    {
     "data": {
      "text/html": [
       "Tissue 31"
      ]
     },
     "metadata": {},
     "output_type": "display_data"
    },
    {
     "data": {
      "text/html": [
       "Tissue 32"
      ]
     },
     "metadata": {},
     "output_type": "display_data"
    },
    {
     "data": {
      "text/html": [
       "Tissue 33"
      ]
     },
     "metadata": {},
     "output_type": "display_data"
    },
    {
     "data": {
      "text/html": [
       "Tissue 34"
      ]
     },
     "metadata": {},
     "output_type": "display_data"
    },
    {
     "data": {
      "text/html": [
       "Tissue 35"
      ]
     },
     "metadata": {},
     "output_type": "display_data"
    },
    {
     "data": {
      "text/html": [
       "Tissue 36"
      ]
     },
     "metadata": {},
     "output_type": "display_data"
    },
    {
     "data": {
      "text/html": [
       "Tissue 37"
      ]
     },
     "metadata": {},
     "output_type": "display_data"
    },
    {
     "data": {
      "text/html": [
       "Tissue 38"
      ]
     },
     "metadata": {},
     "output_type": "display_data"
    },
    {
     "data": {
      "text/html": [
       "Tissue 39"
      ]
     },
     "metadata": {},
     "output_type": "display_data"
    },
    {
     "data": {
      "text/html": [
       "Tissue 40"
      ]
     },
     "metadata": {},
     "output_type": "display_data"
    },
    {
     "data": {
      "text/html": [
       "Tissue 41"
      ]
     },
     "metadata": {},
     "output_type": "display_data"
    },
    {
     "data": {
      "text/html": [
       "Tissue 42"
      ]
     },
     "metadata": {},
     "output_type": "display_data"
    },
    {
     "data": {
      "text/html": [
       "Tissue 43"
      ]
     },
     "metadata": {},
     "output_type": "display_data"
    },
    {
     "data": {
      "text/html": [
       "Tissue 44"
      ]
     },
     "metadata": {},
     "output_type": "display_data"
    },
    {
     "data": {
      "text/html": [
       "Tissue 45"
      ]
     },
     "metadata": {},
     "output_type": "display_data"
    },
    {
     "data": {
      "text/html": [
       "Tissue 46"
      ]
     },
     "metadata": {},
     "output_type": "display_data"
    },
    {
     "data": {
      "text/html": [
       "Tissue 47"
      ]
     },
     "metadata": {},
     "output_type": "display_data"
    },
    {
     "data": {
      "text/html": [
       "Tissue 48"
      ]
     },
     "metadata": {},
     "output_type": "display_data"
    },
    {
     "data": {
      "text/html": [
       "Tissue 49"
      ]
     },
     "metadata": {},
     "output_type": "display_data"
    },
    {
     "name": "stdout",
     "output_type": "stream",
     "text": [
      "Training error:  87.53052 80.30783 1.579152 11.96649 7.101965 75.51774 27.44291 18.80179 2.310168 0.4344715 0.6302446 1.7194 4.407714 4.058322 6.340478 0.7986082 1.201295 1.756662 0.7670091 117.3791 5.573785 221.1587 11.67614 3.01597 6.035344 93.78616 79.91211 6.601775 2.044606 28.23102 0.4963709 14.54012 9.816847 1.443434 251.2447 6.078707 0.5228069 11.80341 2.602573 8.893407 14.56334 6.354834 607.6912 78.53181 0.9771653 63.51137 2.607468 16.1589 289.2907 \n"
     ]
    },
    {
     "ename": "ERROR",
     "evalue": "Error in mean((Y1[[t]] - X1[[t]] %*% theta[, t])^2): object 'Y1' not found\n",
     "output_type": "error",
     "traceback": [
      "Error in mean((Y1[[t]] - X1[[t]] %*% theta[, t])^2): object 'Y1' not found\nTraceback:\n",
      "1. glasso(X = X_all, Y = Y_all, XX = XX_all, XY = XY, Xnorm = Xnorm, \n .     lambda1 = multi_lam[f, 1]/spsz, lambda2 = multi_lam[f, 2], \n .     theta = matrix(initial_numeric, M, P), verbose = if_verbose)",
      "2. mean((Y1[[t]] - X1[[t]] %*% theta[, t])^2)   # at line 15 of file <text>"
     ]
    }
   ],
   "source": [
    "\n",
    "bgt = Sys.time()\n",
    "\n",
    "\n",
    "k = \"1\"\n",
    "X_all = list()\n",
    "Y_all = list()\n",
    "for(t in 1:T_num){\n",
    "    X_all_tmp = sub_id_map[[t]]\n",
    "    X_all[[t]] = apply(as.matrix(dose_std[,X_all_tmp]),1,as.numeric)\n",
    "    Y_all[[t]] = Y[[t]][which(sub_id_map_exp[[t]] == T), 2]\n",
    "}\n",
    "# initial values \n",
    "single_initial_est = matrix(0, ncol(X_train[[1]]), T_num)\n",
    "for(t in 1:T_num){\n",
    "    IRdisplay::display_html(paste0(\"Tissue \", t))\n",
    "    tt = cv.glmnet(X_all[[t]], Y_all[[t]], alpha = 0.5, nfolds = 5)\n",
    "    single_initial_est[,t] = tt$glmnet.fit$beta[,which.min(tt$cvm)]\n",
    "}\n",
    "\n",
    "sig_norm = apply(single_initial_est, 1, function(x){sqrt(sum(x^2))})\n",
    "sig_norm[sig_norm==0] = rep(min(sig_norm[sig_norm>0]), sum(sig_norm==0))/2\n",
    "sig_norm = sig_norm/sum(sig_norm)\n",
    "weights2 = 1/sig_norm; weights2 = weights2/sum(weights2);\n",
    "\n",
    "tis_norm = apply(single_initial_est, 2, function(x){sum(abs(x))})\n",
    "tis_norm[tis_norm==0] = rep(min(tis_norm[tis_norm>0]), sum(tis_norm==0))/2\n",
    "tis_norm = tis_norm/sum(tis_norm)\n",
    "weights1 = 1/tis_norm; weights1 = weights1/sum(weights1);\n",
    "\n",
    "spsz = unlist(lapply(X_all,nrow))\n",
    "initial_numeric = as.numeric(single_initial_est)\n",
    "#remove(single_initial_est)\n",
    "XY = grad_prep(X_all, Y_all)\n",
    "\n",
    "XX_all = lapply(X_all, function(x){eigenMatMult(t(x), x)/nrow(x)})\n",
    "tmp_res = rep(0, fold)\n",
    "for(f in 1:fold){\n",
    "\n",
    "\n",
    "    ans = glasso(X=X_all, Y=Y_all, XX=XX_all, XY=XY, Xnorm=Xnorm, lambda1=multi_lam[f,1]/spsz, lambda2=multi_lam[f,2], theta=matrix(initial_numeric,M,P), verbose = if_verbose)\n",
    "    tmp_res[f] = ans$avg_train_err\n",
    "}\n",
    "final.lam = multi_lam[which.min(tmp_res),]\n",
    "ans = glasso(X=X_all, Y=Y_all, XX=XX_all, XY=XY, Xnorm=Xnorm, lambda1=final.lam[1]/spsz, lambda2=final.lam[2], theta=matrix(initial_numeric,M,P), verbose = if_verbose)\n",
    "#info = read.table(info_path, header=T, sep='\\t')\n",
    "#downstream_est = data.frame(info[,1:3], ans$est)\n",
    "multi_all_res = multi_mse(ans$est, X_all, Y_all)\n",
    "single_all_res = multi_mse(single_initial_est, X_all, Y_all)\n",
    "\n",
    "#info = read.table(info_path, header=T, sep='\\t')\n",
    "info = genotype_info$bim\n",
    "downstream_est = data.frame(info[1:1000, ], ans$est)\n",
    "#downstream_est = data.frame(info, ans$est)\n",
    "edt = Sys.time()\n",
    "print(edt-bgt)"
   ]
  },
  {
   "cell_type": "code",
   "execution_count": 3,
   "metadata": {},
   "outputs": [],
   "source": [
    "save(downstream_est, file = \"test_est.RData\")"
   ]
  },
  {
   "cell_type": "code",
   "execution_count": 4,
   "metadata": {},
   "outputs": [
    {
     "data": {
      "text/html": [
       "<style>\n",
       ".list-inline {list-style: none; margin:0; padding: 0}\n",
       ".list-inline>li {display: inline-block}\n",
       ".list-inline>li:not(:last-child)::after {content: \"\\00b7\"; padding: 0 .5ex}\n",
       "</style>\n",
       "<ol class=list-inline><li>1000</li><li>55</li></ol>\n"
      ],
      "text/latex": [
       "\\begin{enumerate*}\n",
       "\\item 1000\n",
       "\\item 55\n",
       "\\end{enumerate*}\n"
      ],
      "text/markdown": [
       "1. 1000\n",
       "2. 55\n",
       "\n",
       "\n"
      ],
      "text/plain": [
       "[1] 1000   55"
      ]
     },
     "metadata": {},
     "output_type": "display_data"
    }
   ],
   "source": [
    "dim(downstream_est)"
   ]
  },
  {
   "cell_type": "code",
   "execution_count": 5,
   "metadata": {},
   "outputs": [
    {
     "data": {
      "text/html": [
       "<table>\n",
       "<caption>A data.frame: 100 × 50</caption>\n",
       "<thead>\n",
       "\t<tr><th></th><th scope=col>chr</th><th scope=col>id</th><th scope=col>posg</th><th scope=col>pos</th><th scope=col>ref</th><th scope=col>alt</th><th scope=col>X1</th><th scope=col>X2</th><th scope=col>X3</th><th scope=col>X4</th><th scope=col>⋯</th><th scope=col>X35</th><th scope=col>X36</th><th scope=col>X37</th><th scope=col>X38</th><th scope=col>X39</th><th scope=col>X40</th><th scope=col>X41</th><th scope=col>X42</th><th scope=col>X43</th><th scope=col>X44</th></tr>\n",
       "\t<tr><th></th><th scope=col>&lt;chr&gt;</th><th scope=col>&lt;chr&gt;</th><th scope=col>&lt;dbl&gt;</th><th scope=col>&lt;int&gt;</th><th scope=col>&lt;chr&gt;</th><th scope=col>&lt;chr&gt;</th><th scope=col>&lt;dbl&gt;</th><th scope=col>&lt;dbl&gt;</th><th scope=col>&lt;dbl&gt;</th><th scope=col>&lt;dbl&gt;</th><th scope=col>⋯</th><th scope=col>&lt;dbl&gt;</th><th scope=col>&lt;dbl&gt;</th><th scope=col>&lt;dbl&gt;</th><th scope=col>&lt;dbl&gt;</th><th scope=col>&lt;dbl&gt;</th><th scope=col>&lt;dbl&gt;</th><th scope=col>&lt;dbl&gt;</th><th scope=col>&lt;dbl&gt;</th><th scope=col>&lt;dbl&gt;</th><th scope=col>&lt;dbl&gt;</th></tr>\n",
       "</thead>\n",
       "<tbody>\n",
       "\t<tr><th scope=row>1</th><td>21</td><td>chr21_40464521_A_G_b38</td><td>0</td><td>40464521</td><td>G</td><td>A</td><td>0</td><td>0</td><td>0</td><td>0</td><td>⋯</td><td>0</td><td>0</td><td>0</td><td>0</td><td>0</td><td>0</td><td>0</td><td>0</td><td>0</td><td>0</td></tr>\n",
       "\t<tr><th scope=row>2</th><td>21</td><td>chr21_40464616_T_C_b38</td><td>0</td><td>40464616</td><td>C</td><td>T</td><td>0</td><td>0</td><td>0</td><td>0</td><td>⋯</td><td>0</td><td>0</td><td>0</td><td>0</td><td>0</td><td>0</td><td>0</td><td>0</td><td>0</td><td>0</td></tr>\n",
       "\t<tr><th scope=row>3</th><td>21</td><td>chr21_40464797_G_A_b38</td><td>0</td><td>40464797</td><td>A</td><td>G</td><td>0</td><td>0</td><td>0</td><td>0</td><td>⋯</td><td>0</td><td>0</td><td>0</td><td>0</td><td>0</td><td>0</td><td>0</td><td>0</td><td>0</td><td>0</td></tr>\n",
       "\t<tr><th scope=row>4</th><td>21</td><td>chr21_40464826_T_C_b38</td><td>0</td><td>40464826</td><td>C</td><td>T</td><td>0</td><td>0</td><td>0</td><td>0</td><td>⋯</td><td>0</td><td>0</td><td>0</td><td>0</td><td>0</td><td>0</td><td>0</td><td>0</td><td>0</td><td>0</td></tr>\n",
       "\t<tr><th scope=row>5</th><td>21</td><td>chr21_40464961_G_A_b38</td><td>0</td><td>40464961</td><td>A</td><td>G</td><td>0</td><td>0</td><td>0</td><td>0</td><td>⋯</td><td>0</td><td>0</td><td>0</td><td>0</td><td>0</td><td>0</td><td>0</td><td>0</td><td>0</td><td>0</td></tr>\n",
       "\t<tr><th scope=row>6</th><td>21</td><td>chr21_40465271_T_C_b38</td><td>0</td><td>40465271</td><td>T</td><td>C</td><td>0</td><td>0</td><td>0</td><td>0</td><td>⋯</td><td>0</td><td>0</td><td>0</td><td>0</td><td>0</td><td>0</td><td>0</td><td>0</td><td>0</td><td>0</td></tr>\n",
       "\t<tr><th scope=row>7</th><td>21</td><td>chr21_40465366_C_T_b38</td><td>0</td><td>40465366</td><td>T</td><td>C</td><td>0</td><td>0</td><td>0</td><td>0</td><td>⋯</td><td>0</td><td>0</td><td>0</td><td>0</td><td>0</td><td>0</td><td>0</td><td>0</td><td>0</td><td>0</td></tr>\n",
       "\t<tr><th scope=row>8</th><td>21</td><td>chr21_40466036_C_T_b38</td><td>0</td><td>40466036</td><td>T</td><td>C</td><td>0</td><td>0</td><td>0</td><td>0</td><td>⋯</td><td>0</td><td>0</td><td>0</td><td>0</td><td>0</td><td>0</td><td>0</td><td>0</td><td>0</td><td>0</td></tr>\n",
       "\t<tr><th scope=row>9</th><td>21</td><td>chr21_40466218_C_A_b38</td><td>0</td><td>40466218</td><td>A</td><td>C</td><td>0</td><td>0</td><td>0</td><td>0</td><td>⋯</td><td>0</td><td>0</td><td>0</td><td>0</td><td>0</td><td>0</td><td>0</td><td>0</td><td>0</td><td>0</td></tr>\n",
       "\t<tr><th scope=row>10</th><td>21</td><td>chr21_40466226_C_G_b38</td><td>0</td><td>40466226</td><td>G</td><td>C</td><td>0</td><td>0</td><td>0</td><td>0</td><td>⋯</td><td>0</td><td>0</td><td>0</td><td>0</td><td>0</td><td>0</td><td>0</td><td>0</td><td>0</td><td>0</td></tr>\n",
       "\t<tr><th scope=row>11</th><td>21</td><td>chr21_40466298_C_T_b38</td><td>0</td><td>40466298</td><td>T</td><td>C</td><td>0</td><td>0</td><td>0</td><td>0</td><td>⋯</td><td>0</td><td>0</td><td>0</td><td>0</td><td>0</td><td>0</td><td>0</td><td>0</td><td>0</td><td>0</td></tr>\n",
       "\t<tr><th scope=row>12</th><td>21</td><td>chr21_40466719_A_G_b38</td><td>0</td><td>40466719</td><td>G</td><td>A</td><td>0</td><td>0</td><td>0</td><td>0</td><td>⋯</td><td>0</td><td>0</td><td>0</td><td>0</td><td>0</td><td>0</td><td>0</td><td>0</td><td>0</td><td>0</td></tr>\n",
       "\t<tr><th scope=row>13</th><td>21</td><td>chr21_40466817_T_G_b38</td><td>0</td><td>40466817</td><td>T</td><td>G</td><td>0</td><td>0</td><td>0</td><td>0</td><td>⋯</td><td>0</td><td>0</td><td>0</td><td>0</td><td>0</td><td>0</td><td>0</td><td>0</td><td>0</td><td>0</td></tr>\n",
       "\t<tr><th scope=row>14</th><td>21</td><td>chr21_40466922_C_T_b38</td><td>0</td><td>40466922</td><td>T</td><td>C</td><td>0</td><td>0</td><td>0</td><td>0</td><td>⋯</td><td>0</td><td>0</td><td>0</td><td>0</td><td>0</td><td>0</td><td>0</td><td>0</td><td>0</td><td>0</td></tr>\n",
       "\t<tr><th scope=row>15</th><td>21</td><td>chr21_40467145_C_A_b38</td><td>0</td><td>40467145</td><td>A</td><td>C</td><td>0</td><td>0</td><td>0</td><td>0</td><td>⋯</td><td>0</td><td>0</td><td>0</td><td>0</td><td>0</td><td>0</td><td>0</td><td>0</td><td>0</td><td>0</td></tr>\n",
       "\t<tr><th scope=row>16</th><td>21</td><td>chr21_40467151_A_G_b38</td><td>0</td><td>40467151</td><td>G</td><td>A</td><td>0</td><td>0</td><td>0</td><td>0</td><td>⋯</td><td>0</td><td>0</td><td>0</td><td>0</td><td>0</td><td>0</td><td>0</td><td>0</td><td>0</td><td>0</td></tr>\n",
       "\t<tr><th scope=row>17</th><td>21</td><td>chr21_40467257_C_A_b38</td><td>0</td><td>40467257</td><td>A</td><td>C</td><td>0</td><td>0</td><td>0</td><td>0</td><td>⋯</td><td>0</td><td>0</td><td>0</td><td>0</td><td>0</td><td>0</td><td>0</td><td>0</td><td>0</td><td>0</td></tr>\n",
       "\t<tr><th scope=row>18</th><td>21</td><td>chr21_40467282_A_G_b38</td><td>0</td><td>40467282</td><td>A</td><td>G</td><td>0</td><td>0</td><td>0</td><td>0</td><td>⋯</td><td>0</td><td>0</td><td>0</td><td>0</td><td>0</td><td>0</td><td>0</td><td>0</td><td>0</td><td>0</td></tr>\n",
       "\t<tr><th scope=row>19</th><td>21</td><td>chr21_40467492_G_A_b38</td><td>0</td><td>40467492</td><td>A</td><td>G</td><td>0</td><td>0</td><td>0</td><td>0</td><td>⋯</td><td>0</td><td>0</td><td>0</td><td>0</td><td>0</td><td>0</td><td>0</td><td>0</td><td>0</td><td>0</td></tr>\n",
       "\t<tr><th scope=row>20</th><td>21</td><td>chr21_40467555_G_A_b38</td><td>0</td><td>40467555</td><td>A</td><td>G</td><td>0</td><td>0</td><td>0</td><td>0</td><td>⋯</td><td>0</td><td>0</td><td>0</td><td>0</td><td>0</td><td>0</td><td>0</td><td>0</td><td>0</td><td>0</td></tr>\n",
       "\t<tr><th scope=row>21</th><td>21</td><td>chr21_40467631_T_C_b38</td><td>0</td><td>40467631</td><td>C</td><td>T</td><td>0</td><td>0</td><td>0</td><td>0</td><td>⋯</td><td>0</td><td>0</td><td>0</td><td>0</td><td>0</td><td>0</td><td>0</td><td>0</td><td>0</td><td>0</td></tr>\n",
       "\t<tr><th scope=row>22</th><td>21</td><td>chr21_40468623_C_T_b38</td><td>0</td><td>40468623</td><td>T</td><td>C</td><td>0</td><td>0</td><td>0</td><td>0</td><td>⋯</td><td>0</td><td>0</td><td>0</td><td>0</td><td>0</td><td>0</td><td>0</td><td>0</td><td>0</td><td>0</td></tr>\n",
       "\t<tr><th scope=row>23</th><td>21</td><td>chr21_40468895_C_T_b38</td><td>0</td><td>40468895</td><td>T</td><td>C</td><td>0</td><td>0</td><td>0</td><td>0</td><td>⋯</td><td>0</td><td>0</td><td>0</td><td>0</td><td>0</td><td>0</td><td>0</td><td>0</td><td>0</td><td>0</td></tr>\n",
       "\t<tr><th scope=row>24</th><td>21</td><td>chr21_40469112_C_T_b38</td><td>0</td><td>40469112</td><td>T</td><td>C</td><td>0</td><td>0</td><td>0</td><td>0</td><td>⋯</td><td>0</td><td>0</td><td>0</td><td>0</td><td>0</td><td>0</td><td>0</td><td>0</td><td>0</td><td>0</td></tr>\n",
       "\t<tr><th scope=row>25</th><td>21</td><td>chr21_40469113_G_A_b38</td><td>0</td><td>40469113</td><td>A</td><td>G</td><td>0</td><td>0</td><td>0</td><td>0</td><td>⋯</td><td>0</td><td>0</td><td>0</td><td>0</td><td>0</td><td>0</td><td>0</td><td>0</td><td>0</td><td>0</td></tr>\n",
       "\t<tr><th scope=row>26</th><td>21</td><td>chr21_40469207_T_C_b38</td><td>0</td><td>40469207</td><td>C</td><td>T</td><td>0</td><td>0</td><td>0</td><td>0</td><td>⋯</td><td>0</td><td>0</td><td>0</td><td>0</td><td>0</td><td>0</td><td>0</td><td>0</td><td>0</td><td>0</td></tr>\n",
       "\t<tr><th scope=row>27</th><td>21</td><td>chr21_40469541_T_C_b38</td><td>0</td><td>40469541</td><td>C</td><td>T</td><td>0</td><td>0</td><td>0</td><td>0</td><td>⋯</td><td>0</td><td>0</td><td>0</td><td>0</td><td>0</td><td>0</td><td>0</td><td>0</td><td>0</td><td>0</td></tr>\n",
       "\t<tr><th scope=row>28</th><td>21</td><td>chr21_40469863_T_C_b38</td><td>0</td><td>40469863</td><td>C</td><td>T</td><td>0</td><td>0</td><td>0</td><td>0</td><td>⋯</td><td>0</td><td>0</td><td>0</td><td>0</td><td>0</td><td>0</td><td>0</td><td>0</td><td>0</td><td>0</td></tr>\n",
       "\t<tr><th scope=row>29</th><td>21</td><td>chr21_40470033_T_C_b38</td><td>0</td><td>40470033</td><td>C</td><td>T</td><td>0</td><td>0</td><td>0</td><td>0</td><td>⋯</td><td>0</td><td>0</td><td>0</td><td>0</td><td>0</td><td>0</td><td>0</td><td>0</td><td>0</td><td>0</td></tr>\n",
       "\t<tr><th scope=row>30</th><td>21</td><td>chr21_40470325_A_G_b38</td><td>0</td><td>40470325</td><td>G</td><td>A</td><td>0</td><td>0</td><td>0</td><td>0</td><td>⋯</td><td>0</td><td>0</td><td>0</td><td>0</td><td>0</td><td>0</td><td>0</td><td>0</td><td>0</td><td>0</td></tr>\n",
       "\t<tr><th scope=row>⋮</th><td>⋮</td><td>⋮</td><td>⋮</td><td>⋮</td><td>⋮</td><td>⋮</td><td>⋮</td><td>⋮</td><td>⋮</td><td>⋮</td><td>⋱</td><td>⋮</td><td>⋮</td><td>⋮</td><td>⋮</td><td>⋮</td><td>⋮</td><td>⋮</td><td>⋮</td><td>⋮</td><td>⋮</td></tr>\n",
       "\t<tr><th scope=row>71</th><td>21</td><td>chr21_40478709_T_C_b38 </td><td>0</td><td>40478709</td><td>C</td><td>T </td><td>0</td><td>0</td><td>0</td><td>0</td><td>⋯</td><td>0</td><td>0</td><td>0</td><td>0</td><td>0</td><td>0</td><td>0</td><td>0</td><td>0</td><td>0</td></tr>\n",
       "\t<tr><th scope=row>72</th><td>21</td><td>chr21_40478829_C_T_b38 </td><td>0</td><td>40478829</td><td>T</td><td>C </td><td>0</td><td>0</td><td>0</td><td>0</td><td>⋯</td><td>0</td><td>0</td><td>0</td><td>0</td><td>0</td><td>0</td><td>0</td><td>0</td><td>0</td><td>0</td></tr>\n",
       "\t<tr><th scope=row>73</th><td>21</td><td>chr21_40479135_G_C_b38 </td><td>0</td><td>40479135</td><td>G</td><td>C </td><td>0</td><td>0</td><td>0</td><td>0</td><td>⋯</td><td>0</td><td>0</td><td>0</td><td>0</td><td>0</td><td>0</td><td>0</td><td>0</td><td>0</td><td>0</td></tr>\n",
       "\t<tr><th scope=row>74</th><td>21</td><td>chr21_40479139_A_G_b38 </td><td>0</td><td>40479139</td><td>G</td><td>A </td><td>0</td><td>0</td><td>0</td><td>0</td><td>⋯</td><td>0</td><td>0</td><td>0</td><td>0</td><td>0</td><td>0</td><td>0</td><td>0</td><td>0</td><td>0</td></tr>\n",
       "\t<tr><th scope=row>75</th><td>21</td><td>chr21_40479151_A_C_b38 </td><td>0</td><td>40479151</td><td>C</td><td>A </td><td>0</td><td>0</td><td>0</td><td>0</td><td>⋯</td><td>0</td><td>0</td><td>0</td><td>0</td><td>0</td><td>0</td><td>0</td><td>0</td><td>0</td><td>0</td></tr>\n",
       "\t<tr><th scope=row>76</th><td>21</td><td>chr21_40479453_G_T_b38 </td><td>0</td><td>40479453</td><td>T</td><td>G </td><td>0</td><td>0</td><td>0</td><td>0</td><td>⋯</td><td>0</td><td>0</td><td>0</td><td>0</td><td>0</td><td>0</td><td>0</td><td>0</td><td>0</td><td>0</td></tr>\n",
       "\t<tr><th scope=row>77</th><td>21</td><td>chr21_40479524_T_C_b38 </td><td>0</td><td>40479524</td><td>C</td><td>T </td><td>0</td><td>0</td><td>0</td><td>0</td><td>⋯</td><td>0</td><td>0</td><td>0</td><td>0</td><td>0</td><td>0</td><td>0</td><td>0</td><td>0</td><td>0</td></tr>\n",
       "\t<tr><th scope=row>78</th><td>21</td><td>chr21_40479580_A_C_b38 </td><td>0</td><td>40479580</td><td>A</td><td>C </td><td>0</td><td>0</td><td>0</td><td>0</td><td>⋯</td><td>0</td><td>0</td><td>0</td><td>0</td><td>0</td><td>0</td><td>0</td><td>0</td><td>0</td><td>0</td></tr>\n",
       "\t<tr><th scope=row>79</th><td>21</td><td>chr21_40479820_GT_G_b38</td><td>0</td><td>40479820</td><td>G</td><td>GT</td><td>0</td><td>0</td><td>0</td><td>0</td><td>⋯</td><td>0</td><td>0</td><td>0</td><td>0</td><td>0</td><td>0</td><td>0</td><td>0</td><td>0</td><td>0</td></tr>\n",
       "\t<tr><th scope=row>80</th><td>21</td><td>chr21_40479827_T_C_b38 </td><td>0</td><td>40479827</td><td>C</td><td>T </td><td>0</td><td>0</td><td>0</td><td>0</td><td>⋯</td><td>0</td><td>0</td><td>0</td><td>0</td><td>0</td><td>0</td><td>0</td><td>0</td><td>0</td><td>0</td></tr>\n",
       "\t<tr><th scope=row>81</th><td>21</td><td>chr21_40479904_G_A_b38 </td><td>0</td><td>40479904</td><td>A</td><td>G </td><td>0</td><td>0</td><td>0</td><td>0</td><td>⋯</td><td>0</td><td>0</td><td>0</td><td>0</td><td>0</td><td>0</td><td>0</td><td>0</td><td>0</td><td>0</td></tr>\n",
       "\t<tr><th scope=row>82</th><td>21</td><td>chr21_40479952_T_C_b38 </td><td>0</td><td>40479952</td><td>C</td><td>T </td><td>0</td><td>0</td><td>0</td><td>0</td><td>⋯</td><td>0</td><td>0</td><td>0</td><td>0</td><td>0</td><td>0</td><td>0</td><td>0</td><td>0</td><td>0</td></tr>\n",
       "\t<tr><th scope=row>83</th><td>21</td><td>chr21_40480353_C_T_b38 </td><td>0</td><td>40480353</td><td>T</td><td>C </td><td>0</td><td>0</td><td>0</td><td>0</td><td>⋯</td><td>0</td><td>0</td><td>0</td><td>0</td><td>0</td><td>0</td><td>0</td><td>0</td><td>0</td><td>0</td></tr>\n",
       "\t<tr><th scope=row>84</th><td>21</td><td>chr21_40480595_A_G_b38 </td><td>0</td><td>40480595</td><td>A</td><td>G </td><td>0</td><td>0</td><td>0</td><td>0</td><td>⋯</td><td>0</td><td>0</td><td>0</td><td>0</td><td>0</td><td>0</td><td>0</td><td>0</td><td>0</td><td>0</td></tr>\n",
       "\t<tr><th scope=row>85</th><td>21</td><td>chr21_40480646_G_A_b38 </td><td>0</td><td>40480646</td><td>A</td><td>G </td><td>0</td><td>0</td><td>0</td><td>0</td><td>⋯</td><td>0</td><td>0</td><td>0</td><td>0</td><td>0</td><td>0</td><td>0</td><td>0</td><td>0</td><td>0</td></tr>\n",
       "\t<tr><th scope=row>86</th><td>21</td><td>chr21_40481005_A_C_b38 </td><td>0</td><td>40481005</td><td>C</td><td>A </td><td>0</td><td>0</td><td>0</td><td>0</td><td>⋯</td><td>0</td><td>0</td><td>0</td><td>0</td><td>0</td><td>0</td><td>0</td><td>0</td><td>0</td><td>0</td></tr>\n",
       "\t<tr><th scope=row>87</th><td>21</td><td>chr21_40481014_A_C_b38 </td><td>0</td><td>40481014</td><td>C</td><td>A </td><td>0</td><td>0</td><td>0</td><td>0</td><td>⋯</td><td>0</td><td>0</td><td>0</td><td>0</td><td>0</td><td>0</td><td>0</td><td>0</td><td>0</td><td>0</td></tr>\n",
       "\t<tr><th scope=row>88</th><td>21</td><td>chr21_40481081_T_C_b38 </td><td>0</td><td>40481081</td><td>C</td><td>T </td><td>0</td><td>0</td><td>0</td><td>0</td><td>⋯</td><td>0</td><td>0</td><td>0</td><td>0</td><td>0</td><td>0</td><td>0</td><td>0</td><td>0</td><td>0</td></tr>\n",
       "\t<tr><th scope=row>89</th><td>21</td><td>chr21_40481108_C_T_b38 </td><td>0</td><td>40481108</td><td>T</td><td>C </td><td>0</td><td>0</td><td>0</td><td>0</td><td>⋯</td><td>0</td><td>0</td><td>0</td><td>0</td><td>0</td><td>0</td><td>0</td><td>0</td><td>0</td><td>0</td></tr>\n",
       "\t<tr><th scope=row>90</th><td>21</td><td>chr21_40481255_C_T_b38 </td><td>0</td><td>40481255</td><td>T</td><td>C </td><td>0</td><td>0</td><td>0</td><td>0</td><td>⋯</td><td>0</td><td>0</td><td>0</td><td>0</td><td>0</td><td>0</td><td>0</td><td>0</td><td>0</td><td>0</td></tr>\n",
       "\t<tr><th scope=row>91</th><td>21</td><td>chr21_40481263_A_G_b38 </td><td>0</td><td>40481263</td><td>A</td><td>G </td><td>0</td><td>0</td><td>0</td><td>0</td><td>⋯</td><td>0</td><td>0</td><td>0</td><td>0</td><td>0</td><td>0</td><td>0</td><td>0</td><td>0</td><td>0</td></tr>\n",
       "\t<tr><th scope=row>92</th><td>21</td><td>chr21_40481754_T_C_b38 </td><td>0</td><td>40481754</td><td>C</td><td>T </td><td>0</td><td>0</td><td>0</td><td>0</td><td>⋯</td><td>0</td><td>0</td><td>0</td><td>0</td><td>0</td><td>0</td><td>0</td><td>0</td><td>0</td><td>0</td></tr>\n",
       "\t<tr><th scope=row>93</th><td>21</td><td>chr21_40481833_T_A_b38 </td><td>0</td><td>40481833</td><td>A</td><td>T </td><td>0</td><td>0</td><td>0</td><td>0</td><td>⋯</td><td>0</td><td>0</td><td>0</td><td>0</td><td>0</td><td>0</td><td>0</td><td>0</td><td>0</td><td>0</td></tr>\n",
       "\t<tr><th scope=row>94</th><td>21</td><td>chr21_40481865_G_A_b38 </td><td>0</td><td>40481865</td><td>A</td><td>G </td><td>0</td><td>0</td><td>0</td><td>0</td><td>⋯</td><td>0</td><td>0</td><td>0</td><td>0</td><td>0</td><td>0</td><td>0</td><td>0</td><td>0</td><td>0</td></tr>\n",
       "\t<tr><th scope=row>95</th><td>21</td><td>chr21_40482614_T_C_b38 </td><td>0</td><td>40482614</td><td>C</td><td>T </td><td>0</td><td>0</td><td>0</td><td>0</td><td>⋯</td><td>0</td><td>0</td><td>0</td><td>0</td><td>0</td><td>0</td><td>0</td><td>0</td><td>0</td><td>0</td></tr>\n",
       "\t<tr><th scope=row>96</th><td>21</td><td>chr21_40482734_T_C_b38 </td><td>0</td><td>40482734</td><td>C</td><td>T </td><td>0</td><td>0</td><td>0</td><td>0</td><td>⋯</td><td>0</td><td>0</td><td>0</td><td>0</td><td>0</td><td>0</td><td>0</td><td>0</td><td>0</td><td>0</td></tr>\n",
       "\t<tr><th scope=row>97</th><td>21</td><td>chr21_40482755_C_T_b38 </td><td>0</td><td>40482755</td><td>T</td><td>C </td><td>0</td><td>0</td><td>0</td><td>0</td><td>⋯</td><td>0</td><td>0</td><td>0</td><td>0</td><td>0</td><td>0</td><td>0</td><td>0</td><td>0</td><td>0</td></tr>\n",
       "\t<tr><th scope=row>98</th><td>21</td><td>chr21_40482866_T_A_b38 </td><td>0</td><td>40482866</td><td>T</td><td>A </td><td>0</td><td>0</td><td>0</td><td>0</td><td>⋯</td><td>0</td><td>0</td><td>0</td><td>0</td><td>0</td><td>0</td><td>0</td><td>0</td><td>0</td><td>0</td></tr>\n",
       "\t<tr><th scope=row>99</th><td>21</td><td>chr21_40483213_G_C_b38 </td><td>0</td><td>40483213</td><td>G</td><td>C </td><td>0</td><td>0</td><td>0</td><td>0</td><td>⋯</td><td>0</td><td>0</td><td>0</td><td>0</td><td>0</td><td>0</td><td>0</td><td>0</td><td>0</td><td>0</td></tr>\n",
       "\t<tr><th scope=row>100</th><td>21</td><td>chr21_40483657_T_C_b38 </td><td>0</td><td>40483657</td><td>C</td><td>T </td><td>0</td><td>0</td><td>0</td><td>0</td><td>⋯</td><td>0</td><td>0</td><td>0</td><td>0</td><td>0</td><td>0</td><td>0</td><td>0</td><td>0</td><td>0</td></tr>\n",
       "</tbody>\n",
       "</table>\n"
      ],
      "text/latex": [
       "A data.frame: 100 × 50\n",
       "\\begin{tabular}{r|lllllllllllllllllllll}\n",
       "  & chr & id & posg & pos & ref & alt & X1 & X2 & X3 & X4 & ⋯ & X35 & X36 & X37 & X38 & X39 & X40 & X41 & X42 & X43 & X44\\\\\n",
       "  & <chr> & <chr> & <dbl> & <int> & <chr> & <chr> & <dbl> & <dbl> & <dbl> & <dbl> & ⋯ & <dbl> & <dbl> & <dbl> & <dbl> & <dbl> & <dbl> & <dbl> & <dbl> & <dbl> & <dbl>\\\\\n",
       "\\hline\n",
       "\t1 & 21 & chr21\\_40464521\\_A\\_G\\_b38 & 0 & 40464521 & G & A & 0 & 0 & 0 & 0 & ⋯ & 0 & 0 & 0 & 0 & 0 & 0 & 0 & 0 & 0 & 0\\\\\n",
       "\t2 & 21 & chr21\\_40464616\\_T\\_C\\_b38 & 0 & 40464616 & C & T & 0 & 0 & 0 & 0 & ⋯ & 0 & 0 & 0 & 0 & 0 & 0 & 0 & 0 & 0 & 0\\\\\n",
       "\t3 & 21 & chr21\\_40464797\\_G\\_A\\_b38 & 0 & 40464797 & A & G & 0 & 0 & 0 & 0 & ⋯ & 0 & 0 & 0 & 0 & 0 & 0 & 0 & 0 & 0 & 0\\\\\n",
       "\t4 & 21 & chr21\\_40464826\\_T\\_C\\_b38 & 0 & 40464826 & C & T & 0 & 0 & 0 & 0 & ⋯ & 0 & 0 & 0 & 0 & 0 & 0 & 0 & 0 & 0 & 0\\\\\n",
       "\t5 & 21 & chr21\\_40464961\\_G\\_A\\_b38 & 0 & 40464961 & A & G & 0 & 0 & 0 & 0 & ⋯ & 0 & 0 & 0 & 0 & 0 & 0 & 0 & 0 & 0 & 0\\\\\n",
       "\t6 & 21 & chr21\\_40465271\\_T\\_C\\_b38 & 0 & 40465271 & T & C & 0 & 0 & 0 & 0 & ⋯ & 0 & 0 & 0 & 0 & 0 & 0 & 0 & 0 & 0 & 0\\\\\n",
       "\t7 & 21 & chr21\\_40465366\\_C\\_T\\_b38 & 0 & 40465366 & T & C & 0 & 0 & 0 & 0 & ⋯ & 0 & 0 & 0 & 0 & 0 & 0 & 0 & 0 & 0 & 0\\\\\n",
       "\t8 & 21 & chr21\\_40466036\\_C\\_T\\_b38 & 0 & 40466036 & T & C & 0 & 0 & 0 & 0 & ⋯ & 0 & 0 & 0 & 0 & 0 & 0 & 0 & 0 & 0 & 0\\\\\n",
       "\t9 & 21 & chr21\\_40466218\\_C\\_A\\_b38 & 0 & 40466218 & A & C & 0 & 0 & 0 & 0 & ⋯ & 0 & 0 & 0 & 0 & 0 & 0 & 0 & 0 & 0 & 0\\\\\n",
       "\t10 & 21 & chr21\\_40466226\\_C\\_G\\_b38 & 0 & 40466226 & G & C & 0 & 0 & 0 & 0 & ⋯ & 0 & 0 & 0 & 0 & 0 & 0 & 0 & 0 & 0 & 0\\\\\n",
       "\t11 & 21 & chr21\\_40466298\\_C\\_T\\_b38 & 0 & 40466298 & T & C & 0 & 0 & 0 & 0 & ⋯ & 0 & 0 & 0 & 0 & 0 & 0 & 0 & 0 & 0 & 0\\\\\n",
       "\t12 & 21 & chr21\\_40466719\\_A\\_G\\_b38 & 0 & 40466719 & G & A & 0 & 0 & 0 & 0 & ⋯ & 0 & 0 & 0 & 0 & 0 & 0 & 0 & 0 & 0 & 0\\\\\n",
       "\t13 & 21 & chr21\\_40466817\\_T\\_G\\_b38 & 0 & 40466817 & T & G & 0 & 0 & 0 & 0 & ⋯ & 0 & 0 & 0 & 0 & 0 & 0 & 0 & 0 & 0 & 0\\\\\n",
       "\t14 & 21 & chr21\\_40466922\\_C\\_T\\_b38 & 0 & 40466922 & T & C & 0 & 0 & 0 & 0 & ⋯ & 0 & 0 & 0 & 0 & 0 & 0 & 0 & 0 & 0 & 0\\\\\n",
       "\t15 & 21 & chr21\\_40467145\\_C\\_A\\_b38 & 0 & 40467145 & A & C & 0 & 0 & 0 & 0 & ⋯ & 0 & 0 & 0 & 0 & 0 & 0 & 0 & 0 & 0 & 0\\\\\n",
       "\t16 & 21 & chr21\\_40467151\\_A\\_G\\_b38 & 0 & 40467151 & G & A & 0 & 0 & 0 & 0 & ⋯ & 0 & 0 & 0 & 0 & 0 & 0 & 0 & 0 & 0 & 0\\\\\n",
       "\t17 & 21 & chr21\\_40467257\\_C\\_A\\_b38 & 0 & 40467257 & A & C & 0 & 0 & 0 & 0 & ⋯ & 0 & 0 & 0 & 0 & 0 & 0 & 0 & 0 & 0 & 0\\\\\n",
       "\t18 & 21 & chr21\\_40467282\\_A\\_G\\_b38 & 0 & 40467282 & A & G & 0 & 0 & 0 & 0 & ⋯ & 0 & 0 & 0 & 0 & 0 & 0 & 0 & 0 & 0 & 0\\\\\n",
       "\t19 & 21 & chr21\\_40467492\\_G\\_A\\_b38 & 0 & 40467492 & A & G & 0 & 0 & 0 & 0 & ⋯ & 0 & 0 & 0 & 0 & 0 & 0 & 0 & 0 & 0 & 0\\\\\n",
       "\t20 & 21 & chr21\\_40467555\\_G\\_A\\_b38 & 0 & 40467555 & A & G & 0 & 0 & 0 & 0 & ⋯ & 0 & 0 & 0 & 0 & 0 & 0 & 0 & 0 & 0 & 0\\\\\n",
       "\t21 & 21 & chr21\\_40467631\\_T\\_C\\_b38 & 0 & 40467631 & C & T & 0 & 0 & 0 & 0 & ⋯ & 0 & 0 & 0 & 0 & 0 & 0 & 0 & 0 & 0 & 0\\\\\n",
       "\t22 & 21 & chr21\\_40468623\\_C\\_T\\_b38 & 0 & 40468623 & T & C & 0 & 0 & 0 & 0 & ⋯ & 0 & 0 & 0 & 0 & 0 & 0 & 0 & 0 & 0 & 0\\\\\n",
       "\t23 & 21 & chr21\\_40468895\\_C\\_T\\_b38 & 0 & 40468895 & T & C & 0 & 0 & 0 & 0 & ⋯ & 0 & 0 & 0 & 0 & 0 & 0 & 0 & 0 & 0 & 0\\\\\n",
       "\t24 & 21 & chr21\\_40469112\\_C\\_T\\_b38 & 0 & 40469112 & T & C & 0 & 0 & 0 & 0 & ⋯ & 0 & 0 & 0 & 0 & 0 & 0 & 0 & 0 & 0 & 0\\\\\n",
       "\t25 & 21 & chr21\\_40469113\\_G\\_A\\_b38 & 0 & 40469113 & A & G & 0 & 0 & 0 & 0 & ⋯ & 0 & 0 & 0 & 0 & 0 & 0 & 0 & 0 & 0 & 0\\\\\n",
       "\t26 & 21 & chr21\\_40469207\\_T\\_C\\_b38 & 0 & 40469207 & C & T & 0 & 0 & 0 & 0 & ⋯ & 0 & 0 & 0 & 0 & 0 & 0 & 0 & 0 & 0 & 0\\\\\n",
       "\t27 & 21 & chr21\\_40469541\\_T\\_C\\_b38 & 0 & 40469541 & C & T & 0 & 0 & 0 & 0 & ⋯ & 0 & 0 & 0 & 0 & 0 & 0 & 0 & 0 & 0 & 0\\\\\n",
       "\t28 & 21 & chr21\\_40469863\\_T\\_C\\_b38 & 0 & 40469863 & C & T & 0 & 0 & 0 & 0 & ⋯ & 0 & 0 & 0 & 0 & 0 & 0 & 0 & 0 & 0 & 0\\\\\n",
       "\t29 & 21 & chr21\\_40470033\\_T\\_C\\_b38 & 0 & 40470033 & C & T & 0 & 0 & 0 & 0 & ⋯ & 0 & 0 & 0 & 0 & 0 & 0 & 0 & 0 & 0 & 0\\\\\n",
       "\t30 & 21 & chr21\\_40470325\\_A\\_G\\_b38 & 0 & 40470325 & G & A & 0 & 0 & 0 & 0 & ⋯ & 0 & 0 & 0 & 0 & 0 & 0 & 0 & 0 & 0 & 0\\\\\n",
       "\t⋮ & ⋮ & ⋮ & ⋮ & ⋮ & ⋮ & ⋮ & ⋮ & ⋮ & ⋮ & ⋮ & ⋱ & ⋮ & ⋮ & ⋮ & ⋮ & ⋮ & ⋮ & ⋮ & ⋮ & ⋮ & ⋮\\\\\n",
       "\t71 & 21 & chr21\\_40478709\\_T\\_C\\_b38  & 0 & 40478709 & C & T  & 0 & 0 & 0 & 0 & ⋯ & 0 & 0 & 0 & 0 & 0 & 0 & 0 & 0 & 0 & 0\\\\\n",
       "\t72 & 21 & chr21\\_40478829\\_C\\_T\\_b38  & 0 & 40478829 & T & C  & 0 & 0 & 0 & 0 & ⋯ & 0 & 0 & 0 & 0 & 0 & 0 & 0 & 0 & 0 & 0\\\\\n",
       "\t73 & 21 & chr21\\_40479135\\_G\\_C\\_b38  & 0 & 40479135 & G & C  & 0 & 0 & 0 & 0 & ⋯ & 0 & 0 & 0 & 0 & 0 & 0 & 0 & 0 & 0 & 0\\\\\n",
       "\t74 & 21 & chr21\\_40479139\\_A\\_G\\_b38  & 0 & 40479139 & G & A  & 0 & 0 & 0 & 0 & ⋯ & 0 & 0 & 0 & 0 & 0 & 0 & 0 & 0 & 0 & 0\\\\\n",
       "\t75 & 21 & chr21\\_40479151\\_A\\_C\\_b38  & 0 & 40479151 & C & A  & 0 & 0 & 0 & 0 & ⋯ & 0 & 0 & 0 & 0 & 0 & 0 & 0 & 0 & 0 & 0\\\\\n",
       "\t76 & 21 & chr21\\_40479453\\_G\\_T\\_b38  & 0 & 40479453 & T & G  & 0 & 0 & 0 & 0 & ⋯ & 0 & 0 & 0 & 0 & 0 & 0 & 0 & 0 & 0 & 0\\\\\n",
       "\t77 & 21 & chr21\\_40479524\\_T\\_C\\_b38  & 0 & 40479524 & C & T  & 0 & 0 & 0 & 0 & ⋯ & 0 & 0 & 0 & 0 & 0 & 0 & 0 & 0 & 0 & 0\\\\\n",
       "\t78 & 21 & chr21\\_40479580\\_A\\_C\\_b38  & 0 & 40479580 & A & C  & 0 & 0 & 0 & 0 & ⋯ & 0 & 0 & 0 & 0 & 0 & 0 & 0 & 0 & 0 & 0\\\\\n",
       "\t79 & 21 & chr21\\_40479820\\_GT\\_G\\_b38 & 0 & 40479820 & G & GT & 0 & 0 & 0 & 0 & ⋯ & 0 & 0 & 0 & 0 & 0 & 0 & 0 & 0 & 0 & 0\\\\\n",
       "\t80 & 21 & chr21\\_40479827\\_T\\_C\\_b38  & 0 & 40479827 & C & T  & 0 & 0 & 0 & 0 & ⋯ & 0 & 0 & 0 & 0 & 0 & 0 & 0 & 0 & 0 & 0\\\\\n",
       "\t81 & 21 & chr21\\_40479904\\_G\\_A\\_b38  & 0 & 40479904 & A & G  & 0 & 0 & 0 & 0 & ⋯ & 0 & 0 & 0 & 0 & 0 & 0 & 0 & 0 & 0 & 0\\\\\n",
       "\t82 & 21 & chr21\\_40479952\\_T\\_C\\_b38  & 0 & 40479952 & C & T  & 0 & 0 & 0 & 0 & ⋯ & 0 & 0 & 0 & 0 & 0 & 0 & 0 & 0 & 0 & 0\\\\\n",
       "\t83 & 21 & chr21\\_40480353\\_C\\_T\\_b38  & 0 & 40480353 & T & C  & 0 & 0 & 0 & 0 & ⋯ & 0 & 0 & 0 & 0 & 0 & 0 & 0 & 0 & 0 & 0\\\\\n",
       "\t84 & 21 & chr21\\_40480595\\_A\\_G\\_b38  & 0 & 40480595 & A & G  & 0 & 0 & 0 & 0 & ⋯ & 0 & 0 & 0 & 0 & 0 & 0 & 0 & 0 & 0 & 0\\\\\n",
       "\t85 & 21 & chr21\\_40480646\\_G\\_A\\_b38  & 0 & 40480646 & A & G  & 0 & 0 & 0 & 0 & ⋯ & 0 & 0 & 0 & 0 & 0 & 0 & 0 & 0 & 0 & 0\\\\\n",
       "\t86 & 21 & chr21\\_40481005\\_A\\_C\\_b38  & 0 & 40481005 & C & A  & 0 & 0 & 0 & 0 & ⋯ & 0 & 0 & 0 & 0 & 0 & 0 & 0 & 0 & 0 & 0\\\\\n",
       "\t87 & 21 & chr21\\_40481014\\_A\\_C\\_b38  & 0 & 40481014 & C & A  & 0 & 0 & 0 & 0 & ⋯ & 0 & 0 & 0 & 0 & 0 & 0 & 0 & 0 & 0 & 0\\\\\n",
       "\t88 & 21 & chr21\\_40481081\\_T\\_C\\_b38  & 0 & 40481081 & C & T  & 0 & 0 & 0 & 0 & ⋯ & 0 & 0 & 0 & 0 & 0 & 0 & 0 & 0 & 0 & 0\\\\\n",
       "\t89 & 21 & chr21\\_40481108\\_C\\_T\\_b38  & 0 & 40481108 & T & C  & 0 & 0 & 0 & 0 & ⋯ & 0 & 0 & 0 & 0 & 0 & 0 & 0 & 0 & 0 & 0\\\\\n",
       "\t90 & 21 & chr21\\_40481255\\_C\\_T\\_b38  & 0 & 40481255 & T & C  & 0 & 0 & 0 & 0 & ⋯ & 0 & 0 & 0 & 0 & 0 & 0 & 0 & 0 & 0 & 0\\\\\n",
       "\t91 & 21 & chr21\\_40481263\\_A\\_G\\_b38  & 0 & 40481263 & A & G  & 0 & 0 & 0 & 0 & ⋯ & 0 & 0 & 0 & 0 & 0 & 0 & 0 & 0 & 0 & 0\\\\\n",
       "\t92 & 21 & chr21\\_40481754\\_T\\_C\\_b38  & 0 & 40481754 & C & T  & 0 & 0 & 0 & 0 & ⋯ & 0 & 0 & 0 & 0 & 0 & 0 & 0 & 0 & 0 & 0\\\\\n",
       "\t93 & 21 & chr21\\_40481833\\_T\\_A\\_b38  & 0 & 40481833 & A & T  & 0 & 0 & 0 & 0 & ⋯ & 0 & 0 & 0 & 0 & 0 & 0 & 0 & 0 & 0 & 0\\\\\n",
       "\t94 & 21 & chr21\\_40481865\\_G\\_A\\_b38  & 0 & 40481865 & A & G  & 0 & 0 & 0 & 0 & ⋯ & 0 & 0 & 0 & 0 & 0 & 0 & 0 & 0 & 0 & 0\\\\\n",
       "\t95 & 21 & chr21\\_40482614\\_T\\_C\\_b38  & 0 & 40482614 & C & T  & 0 & 0 & 0 & 0 & ⋯ & 0 & 0 & 0 & 0 & 0 & 0 & 0 & 0 & 0 & 0\\\\\n",
       "\t96 & 21 & chr21\\_40482734\\_T\\_C\\_b38  & 0 & 40482734 & C & T  & 0 & 0 & 0 & 0 & ⋯ & 0 & 0 & 0 & 0 & 0 & 0 & 0 & 0 & 0 & 0\\\\\n",
       "\t97 & 21 & chr21\\_40482755\\_C\\_T\\_b38  & 0 & 40482755 & T & C  & 0 & 0 & 0 & 0 & ⋯ & 0 & 0 & 0 & 0 & 0 & 0 & 0 & 0 & 0 & 0\\\\\n",
       "\t98 & 21 & chr21\\_40482866\\_T\\_A\\_b38  & 0 & 40482866 & T & A  & 0 & 0 & 0 & 0 & ⋯ & 0 & 0 & 0 & 0 & 0 & 0 & 0 & 0 & 0 & 0\\\\\n",
       "\t99 & 21 & chr21\\_40483213\\_G\\_C\\_b38  & 0 & 40483213 & G & C  & 0 & 0 & 0 & 0 & ⋯ & 0 & 0 & 0 & 0 & 0 & 0 & 0 & 0 & 0 & 0\\\\\n",
       "\t100 & 21 & chr21\\_40483657\\_T\\_C\\_b38  & 0 & 40483657 & C & T  & 0 & 0 & 0 & 0 & ⋯ & 0 & 0 & 0 & 0 & 0 & 0 & 0 & 0 & 0 & 0\\\\\n",
       "\\end{tabular}\n"
      ],
      "text/markdown": [
       "\n",
       "A data.frame: 100 × 50\n",
       "\n",
       "| <!--/--> | chr &lt;chr&gt; | id &lt;chr&gt; | posg &lt;dbl&gt; | pos &lt;int&gt; | ref &lt;chr&gt; | alt &lt;chr&gt; | X1 &lt;dbl&gt; | X2 &lt;dbl&gt; | X3 &lt;dbl&gt; | X4 &lt;dbl&gt; | ⋯ ⋯ | X35 &lt;dbl&gt; | X36 &lt;dbl&gt; | X37 &lt;dbl&gt; | X38 &lt;dbl&gt; | X39 &lt;dbl&gt; | X40 &lt;dbl&gt; | X41 &lt;dbl&gt; | X42 &lt;dbl&gt; | X43 &lt;dbl&gt; | X44 &lt;dbl&gt; |\n",
       "|---|---|---|---|---|---|---|---|---|---|---|---|---|---|---|---|---|---|---|---|---|---|\n",
       "| 1 | 21 | chr21_40464521_A_G_b38 | 0 | 40464521 | G | A | 0 | 0 | 0 | 0 | ⋯ | 0 | 0 | 0 | 0 | 0 | 0 | 0 | 0 | 0 | 0 |\n",
       "| 2 | 21 | chr21_40464616_T_C_b38 | 0 | 40464616 | C | T | 0 | 0 | 0 | 0 | ⋯ | 0 | 0 | 0 | 0 | 0 | 0 | 0 | 0 | 0 | 0 |\n",
       "| 3 | 21 | chr21_40464797_G_A_b38 | 0 | 40464797 | A | G | 0 | 0 | 0 | 0 | ⋯ | 0 | 0 | 0 | 0 | 0 | 0 | 0 | 0 | 0 | 0 |\n",
       "| 4 | 21 | chr21_40464826_T_C_b38 | 0 | 40464826 | C | T | 0 | 0 | 0 | 0 | ⋯ | 0 | 0 | 0 | 0 | 0 | 0 | 0 | 0 | 0 | 0 |\n",
       "| 5 | 21 | chr21_40464961_G_A_b38 | 0 | 40464961 | A | G | 0 | 0 | 0 | 0 | ⋯ | 0 | 0 | 0 | 0 | 0 | 0 | 0 | 0 | 0 | 0 |\n",
       "| 6 | 21 | chr21_40465271_T_C_b38 | 0 | 40465271 | T | C | 0 | 0 | 0 | 0 | ⋯ | 0 | 0 | 0 | 0 | 0 | 0 | 0 | 0 | 0 | 0 |\n",
       "| 7 | 21 | chr21_40465366_C_T_b38 | 0 | 40465366 | T | C | 0 | 0 | 0 | 0 | ⋯ | 0 | 0 | 0 | 0 | 0 | 0 | 0 | 0 | 0 | 0 |\n",
       "| 8 | 21 | chr21_40466036_C_T_b38 | 0 | 40466036 | T | C | 0 | 0 | 0 | 0 | ⋯ | 0 | 0 | 0 | 0 | 0 | 0 | 0 | 0 | 0 | 0 |\n",
       "| 9 | 21 | chr21_40466218_C_A_b38 | 0 | 40466218 | A | C | 0 | 0 | 0 | 0 | ⋯ | 0 | 0 | 0 | 0 | 0 | 0 | 0 | 0 | 0 | 0 |\n",
       "| 10 | 21 | chr21_40466226_C_G_b38 | 0 | 40466226 | G | C | 0 | 0 | 0 | 0 | ⋯ | 0 | 0 | 0 | 0 | 0 | 0 | 0 | 0 | 0 | 0 |\n",
       "| 11 | 21 | chr21_40466298_C_T_b38 | 0 | 40466298 | T | C | 0 | 0 | 0 | 0 | ⋯ | 0 | 0 | 0 | 0 | 0 | 0 | 0 | 0 | 0 | 0 |\n",
       "| 12 | 21 | chr21_40466719_A_G_b38 | 0 | 40466719 | G | A | 0 | 0 | 0 | 0 | ⋯ | 0 | 0 | 0 | 0 | 0 | 0 | 0 | 0 | 0 | 0 |\n",
       "| 13 | 21 | chr21_40466817_T_G_b38 | 0 | 40466817 | T | G | 0 | 0 | 0 | 0 | ⋯ | 0 | 0 | 0 | 0 | 0 | 0 | 0 | 0 | 0 | 0 |\n",
       "| 14 | 21 | chr21_40466922_C_T_b38 | 0 | 40466922 | T | C | 0 | 0 | 0 | 0 | ⋯ | 0 | 0 | 0 | 0 | 0 | 0 | 0 | 0 | 0 | 0 |\n",
       "| 15 | 21 | chr21_40467145_C_A_b38 | 0 | 40467145 | A | C | 0 | 0 | 0 | 0 | ⋯ | 0 | 0 | 0 | 0 | 0 | 0 | 0 | 0 | 0 | 0 |\n",
       "| 16 | 21 | chr21_40467151_A_G_b38 | 0 | 40467151 | G | A | 0 | 0 | 0 | 0 | ⋯ | 0 | 0 | 0 | 0 | 0 | 0 | 0 | 0 | 0 | 0 |\n",
       "| 17 | 21 | chr21_40467257_C_A_b38 | 0 | 40467257 | A | C | 0 | 0 | 0 | 0 | ⋯ | 0 | 0 | 0 | 0 | 0 | 0 | 0 | 0 | 0 | 0 |\n",
       "| 18 | 21 | chr21_40467282_A_G_b38 | 0 | 40467282 | A | G | 0 | 0 | 0 | 0 | ⋯ | 0 | 0 | 0 | 0 | 0 | 0 | 0 | 0 | 0 | 0 |\n",
       "| 19 | 21 | chr21_40467492_G_A_b38 | 0 | 40467492 | A | G | 0 | 0 | 0 | 0 | ⋯ | 0 | 0 | 0 | 0 | 0 | 0 | 0 | 0 | 0 | 0 |\n",
       "| 20 | 21 | chr21_40467555_G_A_b38 | 0 | 40467555 | A | G | 0 | 0 | 0 | 0 | ⋯ | 0 | 0 | 0 | 0 | 0 | 0 | 0 | 0 | 0 | 0 |\n",
       "| 21 | 21 | chr21_40467631_T_C_b38 | 0 | 40467631 | C | T | 0 | 0 | 0 | 0 | ⋯ | 0 | 0 | 0 | 0 | 0 | 0 | 0 | 0 | 0 | 0 |\n",
       "| 22 | 21 | chr21_40468623_C_T_b38 | 0 | 40468623 | T | C | 0 | 0 | 0 | 0 | ⋯ | 0 | 0 | 0 | 0 | 0 | 0 | 0 | 0 | 0 | 0 |\n",
       "| 23 | 21 | chr21_40468895_C_T_b38 | 0 | 40468895 | T | C | 0 | 0 | 0 | 0 | ⋯ | 0 | 0 | 0 | 0 | 0 | 0 | 0 | 0 | 0 | 0 |\n",
       "| 24 | 21 | chr21_40469112_C_T_b38 | 0 | 40469112 | T | C | 0 | 0 | 0 | 0 | ⋯ | 0 | 0 | 0 | 0 | 0 | 0 | 0 | 0 | 0 | 0 |\n",
       "| 25 | 21 | chr21_40469113_G_A_b38 | 0 | 40469113 | A | G | 0 | 0 | 0 | 0 | ⋯ | 0 | 0 | 0 | 0 | 0 | 0 | 0 | 0 | 0 | 0 |\n",
       "| 26 | 21 | chr21_40469207_T_C_b38 | 0 | 40469207 | C | T | 0 | 0 | 0 | 0 | ⋯ | 0 | 0 | 0 | 0 | 0 | 0 | 0 | 0 | 0 | 0 |\n",
       "| 27 | 21 | chr21_40469541_T_C_b38 | 0 | 40469541 | C | T | 0 | 0 | 0 | 0 | ⋯ | 0 | 0 | 0 | 0 | 0 | 0 | 0 | 0 | 0 | 0 |\n",
       "| 28 | 21 | chr21_40469863_T_C_b38 | 0 | 40469863 | C | T | 0 | 0 | 0 | 0 | ⋯ | 0 | 0 | 0 | 0 | 0 | 0 | 0 | 0 | 0 | 0 |\n",
       "| 29 | 21 | chr21_40470033_T_C_b38 | 0 | 40470033 | C | T | 0 | 0 | 0 | 0 | ⋯ | 0 | 0 | 0 | 0 | 0 | 0 | 0 | 0 | 0 | 0 |\n",
       "| 30 | 21 | chr21_40470325_A_G_b38 | 0 | 40470325 | G | A | 0 | 0 | 0 | 0 | ⋯ | 0 | 0 | 0 | 0 | 0 | 0 | 0 | 0 | 0 | 0 |\n",
       "| ⋮ | ⋮ | ⋮ | ⋮ | ⋮ | ⋮ | ⋮ | ⋮ | ⋮ | ⋮ | ⋮ | ⋱ | ⋮ | ⋮ | ⋮ | ⋮ | ⋮ | ⋮ | ⋮ | ⋮ | ⋮ | ⋮ |\n",
       "| 71 | 21 | chr21_40478709_T_C_b38  | 0 | 40478709 | C | T  | 0 | 0 | 0 | 0 | ⋯ | 0 | 0 | 0 | 0 | 0 | 0 | 0 | 0 | 0 | 0 |\n",
       "| 72 | 21 | chr21_40478829_C_T_b38  | 0 | 40478829 | T | C  | 0 | 0 | 0 | 0 | ⋯ | 0 | 0 | 0 | 0 | 0 | 0 | 0 | 0 | 0 | 0 |\n",
       "| 73 | 21 | chr21_40479135_G_C_b38  | 0 | 40479135 | G | C  | 0 | 0 | 0 | 0 | ⋯ | 0 | 0 | 0 | 0 | 0 | 0 | 0 | 0 | 0 | 0 |\n",
       "| 74 | 21 | chr21_40479139_A_G_b38  | 0 | 40479139 | G | A  | 0 | 0 | 0 | 0 | ⋯ | 0 | 0 | 0 | 0 | 0 | 0 | 0 | 0 | 0 | 0 |\n",
       "| 75 | 21 | chr21_40479151_A_C_b38  | 0 | 40479151 | C | A  | 0 | 0 | 0 | 0 | ⋯ | 0 | 0 | 0 | 0 | 0 | 0 | 0 | 0 | 0 | 0 |\n",
       "| 76 | 21 | chr21_40479453_G_T_b38  | 0 | 40479453 | T | G  | 0 | 0 | 0 | 0 | ⋯ | 0 | 0 | 0 | 0 | 0 | 0 | 0 | 0 | 0 | 0 |\n",
       "| 77 | 21 | chr21_40479524_T_C_b38  | 0 | 40479524 | C | T  | 0 | 0 | 0 | 0 | ⋯ | 0 | 0 | 0 | 0 | 0 | 0 | 0 | 0 | 0 | 0 |\n",
       "| 78 | 21 | chr21_40479580_A_C_b38  | 0 | 40479580 | A | C  | 0 | 0 | 0 | 0 | ⋯ | 0 | 0 | 0 | 0 | 0 | 0 | 0 | 0 | 0 | 0 |\n",
       "| 79 | 21 | chr21_40479820_GT_G_b38 | 0 | 40479820 | G | GT | 0 | 0 | 0 | 0 | ⋯ | 0 | 0 | 0 | 0 | 0 | 0 | 0 | 0 | 0 | 0 |\n",
       "| 80 | 21 | chr21_40479827_T_C_b38  | 0 | 40479827 | C | T  | 0 | 0 | 0 | 0 | ⋯ | 0 | 0 | 0 | 0 | 0 | 0 | 0 | 0 | 0 | 0 |\n",
       "| 81 | 21 | chr21_40479904_G_A_b38  | 0 | 40479904 | A | G  | 0 | 0 | 0 | 0 | ⋯ | 0 | 0 | 0 | 0 | 0 | 0 | 0 | 0 | 0 | 0 |\n",
       "| 82 | 21 | chr21_40479952_T_C_b38  | 0 | 40479952 | C | T  | 0 | 0 | 0 | 0 | ⋯ | 0 | 0 | 0 | 0 | 0 | 0 | 0 | 0 | 0 | 0 |\n",
       "| 83 | 21 | chr21_40480353_C_T_b38  | 0 | 40480353 | T | C  | 0 | 0 | 0 | 0 | ⋯ | 0 | 0 | 0 | 0 | 0 | 0 | 0 | 0 | 0 | 0 |\n",
       "| 84 | 21 | chr21_40480595_A_G_b38  | 0 | 40480595 | A | G  | 0 | 0 | 0 | 0 | ⋯ | 0 | 0 | 0 | 0 | 0 | 0 | 0 | 0 | 0 | 0 |\n",
       "| 85 | 21 | chr21_40480646_G_A_b38  | 0 | 40480646 | A | G  | 0 | 0 | 0 | 0 | ⋯ | 0 | 0 | 0 | 0 | 0 | 0 | 0 | 0 | 0 | 0 |\n",
       "| 86 | 21 | chr21_40481005_A_C_b38  | 0 | 40481005 | C | A  | 0 | 0 | 0 | 0 | ⋯ | 0 | 0 | 0 | 0 | 0 | 0 | 0 | 0 | 0 | 0 |\n",
       "| 87 | 21 | chr21_40481014_A_C_b38  | 0 | 40481014 | C | A  | 0 | 0 | 0 | 0 | ⋯ | 0 | 0 | 0 | 0 | 0 | 0 | 0 | 0 | 0 | 0 |\n",
       "| 88 | 21 | chr21_40481081_T_C_b38  | 0 | 40481081 | C | T  | 0 | 0 | 0 | 0 | ⋯ | 0 | 0 | 0 | 0 | 0 | 0 | 0 | 0 | 0 | 0 |\n",
       "| 89 | 21 | chr21_40481108_C_T_b38  | 0 | 40481108 | T | C  | 0 | 0 | 0 | 0 | ⋯ | 0 | 0 | 0 | 0 | 0 | 0 | 0 | 0 | 0 | 0 |\n",
       "| 90 | 21 | chr21_40481255_C_T_b38  | 0 | 40481255 | T | C  | 0 | 0 | 0 | 0 | ⋯ | 0 | 0 | 0 | 0 | 0 | 0 | 0 | 0 | 0 | 0 |\n",
       "| 91 | 21 | chr21_40481263_A_G_b38  | 0 | 40481263 | A | G  | 0 | 0 | 0 | 0 | ⋯ | 0 | 0 | 0 | 0 | 0 | 0 | 0 | 0 | 0 | 0 |\n",
       "| 92 | 21 | chr21_40481754_T_C_b38  | 0 | 40481754 | C | T  | 0 | 0 | 0 | 0 | ⋯ | 0 | 0 | 0 | 0 | 0 | 0 | 0 | 0 | 0 | 0 |\n",
       "| 93 | 21 | chr21_40481833_T_A_b38  | 0 | 40481833 | A | T  | 0 | 0 | 0 | 0 | ⋯ | 0 | 0 | 0 | 0 | 0 | 0 | 0 | 0 | 0 | 0 |\n",
       "| 94 | 21 | chr21_40481865_G_A_b38  | 0 | 40481865 | A | G  | 0 | 0 | 0 | 0 | ⋯ | 0 | 0 | 0 | 0 | 0 | 0 | 0 | 0 | 0 | 0 |\n",
       "| 95 | 21 | chr21_40482614_T_C_b38  | 0 | 40482614 | C | T  | 0 | 0 | 0 | 0 | ⋯ | 0 | 0 | 0 | 0 | 0 | 0 | 0 | 0 | 0 | 0 |\n",
       "| 96 | 21 | chr21_40482734_T_C_b38  | 0 | 40482734 | C | T  | 0 | 0 | 0 | 0 | ⋯ | 0 | 0 | 0 | 0 | 0 | 0 | 0 | 0 | 0 | 0 |\n",
       "| 97 | 21 | chr21_40482755_C_T_b38  | 0 | 40482755 | T | C  | 0 | 0 | 0 | 0 | ⋯ | 0 | 0 | 0 | 0 | 0 | 0 | 0 | 0 | 0 | 0 |\n",
       "| 98 | 21 | chr21_40482866_T_A_b38  | 0 | 40482866 | T | A  | 0 | 0 | 0 | 0 | ⋯ | 0 | 0 | 0 | 0 | 0 | 0 | 0 | 0 | 0 | 0 |\n",
       "| 99 | 21 | chr21_40483213_G_C_b38  | 0 | 40483213 | G | C  | 0 | 0 | 0 | 0 | ⋯ | 0 | 0 | 0 | 0 | 0 | 0 | 0 | 0 | 0 | 0 |\n",
       "| 100 | 21 | chr21_40483657_T_C_b38  | 0 | 40483657 | C | T  | 0 | 0 | 0 | 0 | ⋯ | 0 | 0 | 0 | 0 | 0 | 0 | 0 | 0 | 0 | 0 |\n",
       "\n"
      ],
      "text/plain": [
       "    chr id                      posg pos      ref alt X1 X2 X3 X4 ⋯ X35 X36 X37\n",
       "1   21  chr21_40464521_A_G_b38  0    40464521 G   A   0  0  0  0  ⋯ 0   0   0  \n",
       "2   21  chr21_40464616_T_C_b38  0    40464616 C   T   0  0  0  0  ⋯ 0   0   0  \n",
       "3   21  chr21_40464797_G_A_b38  0    40464797 A   G   0  0  0  0  ⋯ 0   0   0  \n",
       "4   21  chr21_40464826_T_C_b38  0    40464826 C   T   0  0  0  0  ⋯ 0   0   0  \n",
       "5   21  chr21_40464961_G_A_b38  0    40464961 A   G   0  0  0  0  ⋯ 0   0   0  \n",
       "6   21  chr21_40465271_T_C_b38  0    40465271 T   C   0  0  0  0  ⋯ 0   0   0  \n",
       "7   21  chr21_40465366_C_T_b38  0    40465366 T   C   0  0  0  0  ⋯ 0   0   0  \n",
       "8   21  chr21_40466036_C_T_b38  0    40466036 T   C   0  0  0  0  ⋯ 0   0   0  \n",
       "9   21  chr21_40466218_C_A_b38  0    40466218 A   C   0  0  0  0  ⋯ 0   0   0  \n",
       "10  21  chr21_40466226_C_G_b38  0    40466226 G   C   0  0  0  0  ⋯ 0   0   0  \n",
       "11  21  chr21_40466298_C_T_b38  0    40466298 T   C   0  0  0  0  ⋯ 0   0   0  \n",
       "12  21  chr21_40466719_A_G_b38  0    40466719 G   A   0  0  0  0  ⋯ 0   0   0  \n",
       "13  21  chr21_40466817_T_G_b38  0    40466817 T   G   0  0  0  0  ⋯ 0   0   0  \n",
       "14  21  chr21_40466922_C_T_b38  0    40466922 T   C   0  0  0  0  ⋯ 0   0   0  \n",
       "15  21  chr21_40467145_C_A_b38  0    40467145 A   C   0  0  0  0  ⋯ 0   0   0  \n",
       "16  21  chr21_40467151_A_G_b38  0    40467151 G   A   0  0  0  0  ⋯ 0   0   0  \n",
       "17  21  chr21_40467257_C_A_b38  0    40467257 A   C   0  0  0  0  ⋯ 0   0   0  \n",
       "18  21  chr21_40467282_A_G_b38  0    40467282 A   G   0  0  0  0  ⋯ 0   0   0  \n",
       "19  21  chr21_40467492_G_A_b38  0    40467492 A   G   0  0  0  0  ⋯ 0   0   0  \n",
       "20  21  chr21_40467555_G_A_b38  0    40467555 A   G   0  0  0  0  ⋯ 0   0   0  \n",
       "21  21  chr21_40467631_T_C_b38  0    40467631 C   T   0  0  0  0  ⋯ 0   0   0  \n",
       "22  21  chr21_40468623_C_T_b38  0    40468623 T   C   0  0  0  0  ⋯ 0   0   0  \n",
       "23  21  chr21_40468895_C_T_b38  0    40468895 T   C   0  0  0  0  ⋯ 0   0   0  \n",
       "24  21  chr21_40469112_C_T_b38  0    40469112 T   C   0  0  0  0  ⋯ 0   0   0  \n",
       "25  21  chr21_40469113_G_A_b38  0    40469113 A   G   0  0  0  0  ⋯ 0   0   0  \n",
       "26  21  chr21_40469207_T_C_b38  0    40469207 C   T   0  0  0  0  ⋯ 0   0   0  \n",
       "27  21  chr21_40469541_T_C_b38  0    40469541 C   T   0  0  0  0  ⋯ 0   0   0  \n",
       "28  21  chr21_40469863_T_C_b38  0    40469863 C   T   0  0  0  0  ⋯ 0   0   0  \n",
       "29  21  chr21_40470033_T_C_b38  0    40470033 C   T   0  0  0  0  ⋯ 0   0   0  \n",
       "30  21  chr21_40470325_A_G_b38  0    40470325 G   A   0  0  0  0  ⋯ 0   0   0  \n",
       "⋮   ⋮   ⋮                       ⋮    ⋮        ⋮   ⋮   ⋮  ⋮  ⋮  ⋮  ⋱ ⋮   ⋮   ⋮  \n",
       "71  21  chr21_40478709_T_C_b38  0    40478709 C   T   0  0  0  0  ⋯ 0   0   0  \n",
       "72  21  chr21_40478829_C_T_b38  0    40478829 T   C   0  0  0  0  ⋯ 0   0   0  \n",
       "73  21  chr21_40479135_G_C_b38  0    40479135 G   C   0  0  0  0  ⋯ 0   0   0  \n",
       "74  21  chr21_40479139_A_G_b38  0    40479139 G   A   0  0  0  0  ⋯ 0   0   0  \n",
       "75  21  chr21_40479151_A_C_b38  0    40479151 C   A   0  0  0  0  ⋯ 0   0   0  \n",
       "76  21  chr21_40479453_G_T_b38  0    40479453 T   G   0  0  0  0  ⋯ 0   0   0  \n",
       "77  21  chr21_40479524_T_C_b38  0    40479524 C   T   0  0  0  0  ⋯ 0   0   0  \n",
       "78  21  chr21_40479580_A_C_b38  0    40479580 A   C   0  0  0  0  ⋯ 0   0   0  \n",
       "79  21  chr21_40479820_GT_G_b38 0    40479820 G   GT  0  0  0  0  ⋯ 0   0   0  \n",
       "80  21  chr21_40479827_T_C_b38  0    40479827 C   T   0  0  0  0  ⋯ 0   0   0  \n",
       "81  21  chr21_40479904_G_A_b38  0    40479904 A   G   0  0  0  0  ⋯ 0   0   0  \n",
       "82  21  chr21_40479952_T_C_b38  0    40479952 C   T   0  0  0  0  ⋯ 0   0   0  \n",
       "83  21  chr21_40480353_C_T_b38  0    40480353 T   C   0  0  0  0  ⋯ 0   0   0  \n",
       "84  21  chr21_40480595_A_G_b38  0    40480595 A   G   0  0  0  0  ⋯ 0   0   0  \n",
       "85  21  chr21_40480646_G_A_b38  0    40480646 A   G   0  0  0  0  ⋯ 0   0   0  \n",
       "86  21  chr21_40481005_A_C_b38  0    40481005 C   A   0  0  0  0  ⋯ 0   0   0  \n",
       "87  21  chr21_40481014_A_C_b38  0    40481014 C   A   0  0  0  0  ⋯ 0   0   0  \n",
       "88  21  chr21_40481081_T_C_b38  0    40481081 C   T   0  0  0  0  ⋯ 0   0   0  \n",
       "89  21  chr21_40481108_C_T_b38  0    40481108 T   C   0  0  0  0  ⋯ 0   0   0  \n",
       "90  21  chr21_40481255_C_T_b38  0    40481255 T   C   0  0  0  0  ⋯ 0   0   0  \n",
       "91  21  chr21_40481263_A_G_b38  0    40481263 A   G   0  0  0  0  ⋯ 0   0   0  \n",
       "92  21  chr21_40481754_T_C_b38  0    40481754 C   T   0  0  0  0  ⋯ 0   0   0  \n",
       "93  21  chr21_40481833_T_A_b38  0    40481833 A   T   0  0  0  0  ⋯ 0   0   0  \n",
       "94  21  chr21_40481865_G_A_b38  0    40481865 A   G   0  0  0  0  ⋯ 0   0   0  \n",
       "95  21  chr21_40482614_T_C_b38  0    40482614 C   T   0  0  0  0  ⋯ 0   0   0  \n",
       "96  21  chr21_40482734_T_C_b38  0    40482734 C   T   0  0  0  0  ⋯ 0   0   0  \n",
       "97  21  chr21_40482755_C_T_b38  0    40482755 T   C   0  0  0  0  ⋯ 0   0   0  \n",
       "98  21  chr21_40482866_T_A_b38  0    40482866 T   A   0  0  0  0  ⋯ 0   0   0  \n",
       "99  21  chr21_40483213_G_C_b38  0    40483213 G   C   0  0  0  0  ⋯ 0   0   0  \n",
       "100 21  chr21_40483657_T_C_b38  0    40483657 C   T   0  0  0  0  ⋯ 0   0   0  \n",
       "    X38 X39 X40 X41 X42 X43 X44\n",
       "1   0   0   0   0   0   0   0  \n",
       "2   0   0   0   0   0   0   0  \n",
       "3   0   0   0   0   0   0   0  \n",
       "4   0   0   0   0   0   0   0  \n",
       "5   0   0   0   0   0   0   0  \n",
       "6   0   0   0   0   0   0   0  \n",
       "7   0   0   0   0   0   0   0  \n",
       "8   0   0   0   0   0   0   0  \n",
       "9   0   0   0   0   0   0   0  \n",
       "10  0   0   0   0   0   0   0  \n",
       "11  0   0   0   0   0   0   0  \n",
       "12  0   0   0   0   0   0   0  \n",
       "13  0   0   0   0   0   0   0  \n",
       "14  0   0   0   0   0   0   0  \n",
       "15  0   0   0   0   0   0   0  \n",
       "16  0   0   0   0   0   0   0  \n",
       "17  0   0   0   0   0   0   0  \n",
       "18  0   0   0   0   0   0   0  \n",
       "19  0   0   0   0   0   0   0  \n",
       "20  0   0   0   0   0   0   0  \n",
       "21  0   0   0   0   0   0   0  \n",
       "22  0   0   0   0   0   0   0  \n",
       "23  0   0   0   0   0   0   0  \n",
       "24  0   0   0   0   0   0   0  \n",
       "25  0   0   0   0   0   0   0  \n",
       "26  0   0   0   0   0   0   0  \n",
       "27  0   0   0   0   0   0   0  \n",
       "28  0   0   0   0   0   0   0  \n",
       "29  0   0   0   0   0   0   0  \n",
       "30  0   0   0   0   0   0   0  \n",
       "⋮   ⋮   ⋮   ⋮   ⋮   ⋮   ⋮   ⋮  \n",
       "71  0   0   0   0   0   0   0  \n",
       "72  0   0   0   0   0   0   0  \n",
       "73  0   0   0   0   0   0   0  \n",
       "74  0   0   0   0   0   0   0  \n",
       "75  0   0   0   0   0   0   0  \n",
       "76  0   0   0   0   0   0   0  \n",
       "77  0   0   0   0   0   0   0  \n",
       "78  0   0   0   0   0   0   0  \n",
       "79  0   0   0   0   0   0   0  \n",
       "80  0   0   0   0   0   0   0  \n",
       "81  0   0   0   0   0   0   0  \n",
       "82  0   0   0   0   0   0   0  \n",
       "83  0   0   0   0   0   0   0  \n",
       "84  0   0   0   0   0   0   0  \n",
       "85  0   0   0   0   0   0   0  \n",
       "86  0   0   0   0   0   0   0  \n",
       "87  0   0   0   0   0   0   0  \n",
       "88  0   0   0   0   0   0   0  \n",
       "89  0   0   0   0   0   0   0  \n",
       "90  0   0   0   0   0   0   0  \n",
       "91  0   0   0   0   0   0   0  \n",
       "92  0   0   0   0   0   0   0  \n",
       "93  0   0   0   0   0   0   0  \n",
       "94  0   0   0   0   0   0   0  \n",
       "95  0   0   0   0   0   0   0  \n",
       "96  0   0   0   0   0   0   0  \n",
       "97  0   0   0   0   0   0   0  \n",
       "98  0   0   0   0   0   0   0  \n",
       "99  0   0   0   0   0   0   0  \n",
       "100 0   0   0   0   0   0   0  "
      ]
     },
     "metadata": {},
     "output_type": "display_data"
    }
   ],
   "source": [
    "downstream_est[1:100, 1:50]"
   ]
  },
  {
   "cell_type": "code",
   "execution_count": 8,
   "metadata": {},
   "outputs": [
    {
     "data": {
      "image/png": "[encoded data removed]",
      "text/plain": [
       "Plot with title “Histogram of initial_numeric”"
      ]
     },
     "metadata": {
      "image/png": {
       "height": 420,
       "width": 420
      },
      "text/plain": {
       "height": 420,
       "width": 420
      }
     },
     "output_type": "display_data"
    },
    {
     "data": {
      "image/png": "[encoded data removed]",
      "text/plain": [
       "Plot with title “Histogram of zero_summary”"
      ]
     },
     "metadata": {
      "image/png": {
       "height": 420,
       "width": 420
      },
      "text/plain": {
       "height": 420,
       "width": 420
      }
     },
     "output_type": "display_data"
    }
   ],
   "source": [
    "plot_est(t(downstream_est[,7:55]))"
   ]
  },
  {
   "cell_type": "code",
   "execution_count": 9,
   "metadata": {},
   "outputs": [
    {
     "data": {
      "image/png": "[encoded data removed]",
      "text/plain": [
       "Plot with title “Histogram of initial_numeric”"
      ]
     },
     "metadata": {
      "image/png": {
       "height": 420,
       "width": 420
      },
      "text/plain": {
       "height": 420,
       "width": 420
      }
     },
     "output_type": "display_data"
    },
    {
     "data": {
      "image/png": "[encoded data removed]",
      "text/plain": [
       "Plot with title “Histogram of zero_summary”"
      ]
     },
     "metadata": {
      "image/png": {
       "height": 420,
       "width": 420
      },
      "text/plain": {
       "height": 420,
       "width": 420
      }
     },
     "output_type": "display_data"
    }
   ],
   "source": [
    "plot_est(initial_numeric)"
   ]
  },
  {
   "cell_type": "code",
   "execution_count": 2,
   "metadata": {},
   "outputs": [
    {
     "name": "stdout",
     "output_type": "stream",
     "text": [
      "Training error: 2306.63991985794\n",
      "Training error: 2370.47650114781\n",
      "Training error: 2306.63991985794\n",
      "Training error: 2370.47650114781\n",
      "Training error: 2306.63991985794\n",
      "Training error: 2370.47650114781\n",
      "Training error: 2306.63991985794\n",
      "Training error: 2370.47650114781\n",
      "Training error: 2306.63991985794\n",
      "Training error: 2370.47650114781\n",
      "Training error: 2306.63991985794\n",
      "Training error: 2370.47650114781\n"
     ]
    }
   ],
   "source": [
    "save(single_res_test, single_lam, single_theta_est, multi_res_test, multi_lam, multi_theta_est, file = paste0('chr', chr, '.', k, '.', gene_id, \".RData\"))\n",
    "\t#res_single = avg_perm(single_res_test)\n",
    "\t#res_multi = avg_perm(multi_res_test)\n",
    "\t#cat(\"Elastic net average testing error (all): \", apply(res_single, 2, mean), '\\n')\n",
    "\t#cat(\"glasso averge testing error (all): \", apply(res_multi, 2, mean), '\\n')\n",
    "\t#cat(\"Number of all zero tissues in elastic net is \", sum(is.na(res_single[,1])), '\\n')\n",
    "\t#cat(\"Number of all zero tissues in glasso is \", sum(is.na(res_multi[,1])), '\\n')\n",
    "\t#cat(\"Elastic net average testing error (non-zero): \", apply(res_single[!is.na(res_multi[,1]),], 2, mean), '\\n')\n",
    "\t#cat(\"glasso averge testing error (non-zero): \", apply(res_multi[!is.na(res_multi[,1]),], 2, mean), '\\n')\n",
    "\n",
    "\t## generate an estimate with whole data ##\n",
    "\t\n",
    "\t#write.table(downstream_est, paste0(gene_id, \".est\"), quote=F, row.names=F, col.names=c(\"SNP\", \"REF.0.\", \"ALT.1.\", Yt))\n",
    "    write.table(downstream_est, paste0(gene_id, \".est\"), quote=F, row.names=F, col.names=c(colnames(genotype_info$bim), Yt))\n",
    "\n"
   ]
  },
  {
   "cell_type": "code",
   "execution_count": null,
   "metadata": {},
   "outputs": [],
   "source": []
  },
  {
   "cell_type": "code",
   "execution_count": 9,
   "metadata": {},
   "outputs": [
    {
     "data": {
      "text/html": [
       "523663"
      ],
      "text/latex": [
       "523663"
      ],
      "text/markdown": [
       "523663"
      ],
      "text/plain": [
       "[1] 523663"
      ]
     },
     "metadata": {},
     "output_type": "display_data"
    }
   ],
   "source": [
    "length(ans$est)"
   ]
  },
  {
   "cell_type": "code",
   "execution_count": 7,
   "metadata": {},
   "outputs": [
    {
     "data": {
      "text/html": [
       "523429"
      ],
      "text/latex": [
       "523429"
      ],
      "text/markdown": [
       "523429"
      ],
      "text/plain": [
       "[1] 523429"
      ]
     },
     "metadata": {},
     "output_type": "display_data"
    }
   ],
   "source": [
    "sum(initial_numeric == 0)"
   ]
  },
  {
   "cell_type": "code",
   "execution_count": 8,
   "metadata": {},
   "outputs": [
    {
     "data": {
      "text/html": [
       "523663"
      ],
      "text/latex": [
       "523663"
      ],
      "text/markdown": [
       "523663"
      ],
      "text/plain": [
       "[1] 523663"
      ]
     },
     "metadata": {},
     "output_type": "display_data"
    }
   ],
   "source": [
    "length(initial_numeric)"
   ]
  },
  {
   "cell_type": "code",
   "execution_count": null,
   "metadata": {},
   "outputs": [],
   "source": [
    "for (obj in ls()) { \n",
    "    message(obj)\n",
    "    print(object.size(get(obj)), units='auto') \n",
    "}"
   ]
  },
  {
   "cell_type": "code",
   "execution_count": 3,
   "metadata": {},
   "outputs": [
    {
     "data": {
      "text/html": [
       "49"
      ],
      "text/latex": [
       "49"
      ],
      "text/markdown": [
       "49"
      ],
      "text/plain": [
       "[1] 49"
      ]
     },
     "metadata": {},
     "output_type": "display_data"
    }
   ],
   "source": [
    "length(XX_train)"
   ]
  },
  {
   "cell_type": "code",
   "execution_count": 4,
   "metadata": {},
   "outputs": [
    {
     "data": {
      "text/html": [
       "<style>\n",
       ".list-inline {list-style: none; margin:0; padding: 0}\n",
       ".list-inline>li {display: inline-block}\n",
       ".list-inline>li:not(:last-child)::after {content: \"\\00b7\"; padding: 0 .5ex}\n",
       "</style>\n",
       "<ol class=list-inline><li>10687</li><li>10687</li></ol>\n"
      ],
      "text/latex": [
       "\\begin{enumerate*}\n",
       "\\item 10687\n",
       "\\item 10687\n",
       "\\end{enumerate*}\n"
      ],
      "text/markdown": [
       "1. 10687\n",
       "2. 10687\n",
       "\n",
       "\n"
      ],
      "text/plain": [
       "[1] 10687 10687"
      ]
     },
     "metadata": {},
     "output_type": "display_data"
    }
   ],
   "source": [
    "dim(XX_train[[1]])"
   ]
  },
  {
   "cell_type": "code",
   "execution_count": 5,
   "metadata": {},
   "outputs": [],
   "source": [
    "test_mtx <- as.big.matrix(XX_train[[1]])"
   ]
  },
  {
   "cell_type": "code",
   "execution_count": 6,
   "metadata": {},
   "outputs": [
    {
     "name": "stdout",
     "output_type": "stream",
     "text": [
      "871.4 Mb\n"
     ]
    }
   ],
   "source": [
    "print(object.size(XX_train[[1]]), units='auto')"
   ]
  },
  {
   "cell_type": "code",
   "execution_count": 7,
   "metadata": {},
   "outputs": [],
   "source": [
    "test_mtx <- matrix(1.57, 10000, 10000 )"
   ]
  },
  {
   "cell_type": "code",
   "execution_count": 8,
   "metadata": {},
   "outputs": [
    {
     "name": "stdout",
     "output_type": "stream",
     "text": [
      "762.9 Mb\n"
     ]
    }
   ],
   "source": [
    "print(object.size(test_mtx), units = \"auto\")"
   ]
  },
  {
   "cell_type": "code",
   "execution_count": null,
   "metadata": {},
   "outputs": [],
   "source": [
    "dim(test_mtx)"
   ]
  },
  {
   "cell_type": "code",
   "execution_count": 10,
   "metadata": {},
   "outputs": [
    {
     "data": {
      "text/html": [
       "<table>\n",
       "<caption>A matrix: 6 × 6 of type dbl</caption>\n",
       "<tbody>\n",
       "\t<tr><td>1.57</td><td>1.57</td><td>1.57</td><td>1.57</td><td>1.57</td><td>1.57</td></tr>\n",
       "\t<tr><td>1.57</td><td>1.57</td><td>1.57</td><td>1.57</td><td>1.57</td><td>1.57</td></tr>\n",
       "\t<tr><td>1.57</td><td>1.57</td><td>1.57</td><td>1.57</td><td>1.57</td><td>1.57</td></tr>\n",
       "\t<tr><td>1.57</td><td>1.57</td><td>1.57</td><td>1.57</td><td>1.57</td><td>1.57</td></tr>\n",
       "\t<tr><td>1.57</td><td>1.57</td><td>1.57</td><td>1.57</td><td>1.57</td><td>1.57</td></tr>\n",
       "\t<tr><td>1.57</td><td>1.57</td><td>1.57</td><td>1.57</td><td>1.57</td><td>1.57</td></tr>\n",
       "</tbody>\n",
       "</table>\n"
      ],
      "text/latex": [
       "A matrix: 6 × 6 of type dbl\n",
       "\\begin{tabular}{llllll}\n",
       "\t 1.57 & 1.57 & 1.57 & 1.57 & 1.57 & 1.57\\\\\n",
       "\t 1.57 & 1.57 & 1.57 & 1.57 & 1.57 & 1.57\\\\\n",
       "\t 1.57 & 1.57 & 1.57 & 1.57 & 1.57 & 1.57\\\\\n",
       "\t 1.57 & 1.57 & 1.57 & 1.57 & 1.57 & 1.57\\\\\n",
       "\t 1.57 & 1.57 & 1.57 & 1.57 & 1.57 & 1.57\\\\\n",
       "\t 1.57 & 1.57 & 1.57 & 1.57 & 1.57 & 1.57\\\\\n",
       "\\end{tabular}\n"
      ],
      "text/markdown": [
       "\n",
       "A matrix: 6 × 6 of type dbl\n",
       "\n",
       "| 1.57 | 1.57 | 1.57 | 1.57 | 1.57 | 1.57 |\n",
       "| 1.57 | 1.57 | 1.57 | 1.57 | 1.57 | 1.57 |\n",
       "| 1.57 | 1.57 | 1.57 | 1.57 | 1.57 | 1.57 |\n",
       "| 1.57 | 1.57 | 1.57 | 1.57 | 1.57 | 1.57 |\n",
       "| 1.57 | 1.57 | 1.57 | 1.57 | 1.57 | 1.57 |\n",
       "| 1.57 | 1.57 | 1.57 | 1.57 | 1.57 | 1.57 |\n",
       "\n"
      ],
      "text/plain": [
       "     [,1] [,2] [,3] [,4] [,5] [,6]\n",
       "[1,] 1.57 1.57 1.57 1.57 1.57 1.57\n",
       "[2,] 1.57 1.57 1.57 1.57 1.57 1.57\n",
       "[3,] 1.57 1.57 1.57 1.57 1.57 1.57\n",
       "[4,] 1.57 1.57 1.57 1.57 1.57 1.57\n",
       "[5,] 1.57 1.57 1.57 1.57 1.57 1.57\n",
       "[6,] 1.57 1.57 1.57 1.57 1.57 1.57"
      ]
     },
     "metadata": {},
     "output_type": "display_data"
    }
   ],
   "source": [
    "test_mtx[1:6, 1:6]"
   ]
  },
  {
   "cell_type": "code",
   "execution_count": 11,
   "metadata": {},
   "outputs": [
    {
     "data": {
      "text/html": [
       "<table>\n",
       "<caption>A matrix: 6 × 6 of type dbl</caption>\n",
       "<tbody>\n",
       "\t<tr><td> 0.11700682</td><td> 0.11700682</td><td>-0.01664066</td><td> 0.09849660</td><td> 0.10877685</td><td>-0.04667148</td></tr>\n",
       "\t<tr><td> 0.11700682</td><td> 0.11700682</td><td>-0.01664066</td><td> 0.09849660</td><td> 0.10877685</td><td>-0.04667148</td></tr>\n",
       "\t<tr><td>-0.01664066</td><td>-0.01664066</td><td> 0.21854696</td><td> 0.19724280</td><td>-0.01430092</td><td>-0.09354227</td></tr>\n",
       "\t<tr><td> 0.09849660</td><td> 0.09849660</td><td> 0.19724280</td><td> 0.30699923</td><td> 0.09279519</td><td>-0.15061144</td></tr>\n",
       "\t<tr><td> 0.10877685</td><td> 0.10877685</td><td>-0.01430092</td><td> 0.09279519</td><td> 0.10954468</td><td>-0.04445851</td></tr>\n",
       "\t<tr><td>-0.04667148</td><td>-0.04667148</td><td>-0.09354227</td><td>-0.15061144</td><td>-0.04445851</td><td> 0.48489715</td></tr>\n",
       "</tbody>\n",
       "</table>\n"
      ],
      "text/latex": [
       "A matrix: 6 × 6 of type dbl\n",
       "\\begin{tabular}{llllll}\n",
       "\t  0.11700682 &  0.11700682 & -0.01664066 &  0.09849660 &  0.10877685 & -0.04667148\\\\\n",
       "\t  0.11700682 &  0.11700682 & -0.01664066 &  0.09849660 &  0.10877685 & -0.04667148\\\\\n",
       "\t -0.01664066 & -0.01664066 &  0.21854696 &  0.19724280 & -0.01430092 & -0.09354227\\\\\n",
       "\t  0.09849660 &  0.09849660 &  0.19724280 &  0.30699923 &  0.09279519 & -0.15061144\\\\\n",
       "\t  0.10877685 &  0.10877685 & -0.01430092 &  0.09279519 &  0.10954468 & -0.04445851\\\\\n",
       "\t -0.04667148 & -0.04667148 & -0.09354227 & -0.15061144 & -0.04445851 &  0.48489715\\\\\n",
       "\\end{tabular}\n"
      ],
      "text/markdown": [
       "\n",
       "A matrix: 6 × 6 of type dbl\n",
       "\n",
       "|  0.11700682 |  0.11700682 | -0.01664066 |  0.09849660 |  0.10877685 | -0.04667148 |\n",
       "|  0.11700682 |  0.11700682 | -0.01664066 |  0.09849660 |  0.10877685 | -0.04667148 |\n",
       "| -0.01664066 | -0.01664066 |  0.21854696 |  0.19724280 | -0.01430092 | -0.09354227 |\n",
       "|  0.09849660 |  0.09849660 |  0.19724280 |  0.30699923 |  0.09279519 | -0.15061144 |\n",
       "|  0.10877685 |  0.10877685 | -0.01430092 |  0.09279519 |  0.10954468 | -0.04445851 |\n",
       "| -0.04667148 | -0.04667148 | -0.09354227 | -0.15061144 | -0.04445851 |  0.48489715 |\n",
       "\n"
      ],
      "text/plain": [
       "     [,1]        [,2]        [,3]        [,4]        [,5]        [,6]       \n",
       "[1,]  0.11700682  0.11700682 -0.01664066  0.09849660  0.10877685 -0.04667148\n",
       "[2,]  0.11700682  0.11700682 -0.01664066  0.09849660  0.10877685 -0.04667148\n",
       "[3,] -0.01664066 -0.01664066  0.21854696  0.19724280 -0.01430092 -0.09354227\n",
       "[4,]  0.09849660  0.09849660  0.19724280  0.30699923  0.09279519 -0.15061144\n",
       "[5,]  0.10877685  0.10877685 -0.01430092  0.09279519  0.10954468 -0.04445851\n",
       "[6,] -0.04667148 -0.04667148 -0.09354227 -0.15061144 -0.04445851  0.48489715"
      ]
     },
     "metadata": {},
     "output_type": "display_data"
    }
   ],
   "source": [
    "XX_train[[1]][1:6, 1:6]"
   ]
  },
  {
   "cell_type": "code",
   "execution_count": 5,
   "metadata": {},
   "outputs": [
    {
     "name": "stderr",
     "output_type": "stream",
     "text": [
      "Warning message in cor(mse_lst[[f]][[t]]):\n",
      "“the standard deviation is zero”\n",
      "Warning message in cor(mse_lst[[f]][[t]]):\n",
      "“the standard deviation is zero”\n",
      "Warning message in cor(mse_lst[[f]][[t]]):\n",
      "“the standard deviation is zero”\n",
      "Warning message in cor(mse_lst[[f]][[t]]):\n",
      "“the standard deviation is zero”\n",
      "Warning message in cor(mse_lst[[f]][[t]]):\n",
      "“the standard deviation is zero”\n",
      "Warning message in cor(mse_lst[[f]][[t]]):\n",
      "“the standard deviation is zero”\n",
      "Warning message in cor(mse_lst[[f]][[t]]):\n",
      "“the standard deviation is zero”\n",
      "Warning message in cor(mse_lst[[f]][[t]]):\n",
      "“the standard deviation is zero”\n",
      "Warning message in cor(mse_lst[[f]][[t]]):\n",
      "“the standard deviation is zero”\n",
      "Warning message in cor(mse_lst[[f]][[t]]):\n",
      "“the standard deviation is zero”\n",
      "Warning message in cor(mse_lst[[f]][[t]]):\n",
      "“the standard deviation is zero”\n",
      "Warning message in cor(mse_lst[[f]][[t]]):\n",
      "“the standard deviation is zero”\n",
      "Warning message in cor(mse_lst[[f]][[t]]):\n",
      "“the standard deviation is zero”\n",
      "Warning message in cor(mse_lst[[f]][[t]]):\n",
      "“the standard deviation is zero”\n",
      "Warning message in cor(mse_lst[[f]][[t]]):\n",
      "“the standard deviation is zero”\n",
      "Warning message in cor(mse_lst[[f]][[t]]):\n",
      "“the standard deviation is zero”\n",
      "Warning message in cor(mse_lst[[f]][[t]]):\n",
      "“the standard deviation is zero”\n",
      "Warning message in cor(mse_lst[[f]][[t]]):\n",
      "“the standard deviation is zero”\n",
      "Warning message in cor(mse_lst[[f]][[t]]):\n",
      "“the standard deviation is zero”\n",
      "Warning message in cor(mse_lst[[f]][[t]]):\n",
      "“the standard deviation is zero”\n",
      "Warning message in cor(mse_lst[[f]][[t]]):\n",
      "“the standard deviation is zero”\n",
      "Warning message in cor(mse_lst[[f]][[t]]):\n",
      "“the standard deviation is zero”\n",
      "Warning message in cor(mse_lst[[f]][[t]]):\n",
      "“the standard deviation is zero”\n",
      "Warning message in cor(mse_lst[[f]][[t]]):\n",
      "“the standard deviation is zero”\n",
      "Warning message in cor(mse_lst[[f]][[t]]):\n",
      "“the standard deviation is zero”\n",
      "Warning message in cor(mse_lst[[f]][[t]]):\n",
      "“the standard deviation is zero”\n",
      "Warning message in cor(mse_lst[[f]][[t]]):\n",
      "“the standard deviation is zero”\n",
      "Warning message in cor(mse_lst[[f]][[t]]):\n",
      "“the standard deviation is zero”\n",
      "Warning message in cor(mse_lst[[f]][[t]]):\n",
      "“the standard deviation is zero”\n",
      "Warning message in cor(mse_lst[[f]][[t]]):\n",
      "“the standard deviation is zero”\n",
      "Warning message in cor(mse_lst[[f]][[t]]):\n",
      "“the standard deviation is zero”\n",
      "Warning message in cor(mse_lst[[f]][[t]]):\n",
      "“the standard deviation is zero”\n",
      "Warning message in cor(mse_lst[[f]][[t]]):\n",
      "“the standard deviation is zero”\n",
      "Warning message in cor(mse_lst[[f]][[t]]):\n",
      "“the standard deviation is zero”\n",
      "Warning message in cor(mse_lst[[f]][[t]]):\n",
      "“the standard deviation is zero”\n",
      "Warning message in cor(mse_lst[[f]][[t]]):\n",
      "“the standard deviation is zero”\n",
      "Warning message in cor(mse_lst[[f]][[t]]):\n",
      "“the standard deviation is zero”\n",
      "Warning message in cor(mse_lst[[f]][[t]]):\n",
      "“the standard deviation is zero”\n",
      "Warning message in cor(mse_lst[[f]][[t]]):\n",
      "“the standard deviation is zero”\n",
      "Warning message in cor(mse_lst[[f]][[t]]):\n",
      "“the standard deviation is zero”\n",
      "Warning message in cor(mse_lst[[f]][[t]]):\n",
      "“the standard deviation is zero”\n",
      "Warning message in cor(mse_lst[[f]][[t]]):\n",
      "“the standard deviation is zero”\n",
      "Warning message in cor(mse_lst[[f]][[t]]):\n",
      "“the standard deviation is zero”\n",
      "Warning message in cor(mse_lst[[f]][[t]]):\n",
      "“the standard deviation is zero”\n",
      "Warning message in cor(mse_lst[[f]][[t]]):\n",
      "“the standard deviation is zero”\n",
      "Warning message in cor(mse_lst[[f]][[t]]):\n",
      "“the standard deviation is zero”\n",
      "Warning message in cor(mse_lst[[f]][[t]]):\n",
      "“the standard deviation is zero”\n",
      "Warning message in cor(mse_lst[[f]][[t]]):\n",
      "“the standard deviation is zero”\n",
      "Warning message in cor(mse_lst[[f]][[t]]):\n",
      "“the standard deviation is zero”\n",
      "Warning message in cor(mse_lst[[f]][[t]]):\n",
      "“the standard deviation is zero”\n",
      "Warning message in cor(mse_lst[[f]][[t]]):\n",
      "“the standard deviation is zero”\n",
      "Warning message in cor(mse_lst[[f]][[t]]):\n",
      "“the standard deviation is zero”\n",
      "Warning message in cor(mse_lst[[f]][[t]]):\n",
      "“the standard deviation is zero”\n",
      "Warning message in cor(mse_lst[[f]][[t]]):\n",
      "“the standard deviation is zero”\n",
      "Warning message in cor(mse_lst[[f]][[t]]):\n",
      "“the standard deviation is zero”\n",
      "Warning message in cor(mse_lst[[f]][[t]]):\n",
      "“the standard deviation is zero”\n",
      "Warning message in cor(mse_lst[[f]][[t]]):\n",
      "“the standard deviation is zero”\n",
      "Warning message in cor(mse_lst[[f]][[t]]):\n",
      "“the standard deviation is zero”\n",
      "Warning message in cor(mse_lst[[f]][[t]]):\n",
      "“the standard deviation is zero”\n",
      "Warning message in cor(mse_lst[[f]][[t]]):\n",
      "“the standard deviation is zero”\n",
      "Warning message in cor(mse_lst[[f]][[t]]):\n",
      "“the standard deviation is zero”\n",
      "Warning message in cor(mse_lst[[f]][[t]]):\n",
      "“the standard deviation is zero”\n",
      "Warning message in cor(mse_lst[[f]][[t]]):\n",
      "“the standard deviation is zero”\n",
      "Warning message in cor(mse_lst[[f]][[t]]):\n",
      "“the standard deviation is zero”\n",
      "Warning message in cor(mse_lst[[f]][[t]]):\n",
      "“the standard deviation is zero”\n",
      "Warning message in cor(mse_lst[[f]][[t]]):\n",
      "“the standard deviation is zero”\n",
      "Warning message in cor(mse_lst[[f]][[t]]):\n",
      "“the standard deviation is zero”\n",
      "Warning message in cor(mse_lst[[f]][[t]]):\n",
      "“the standard deviation is zero”\n",
      "Warning message in cor(mse_lst[[f]][[t]]):\n",
      "“the standard deviation is zero”\n",
      "Warning message in cor(mse_lst[[f]][[t]]):\n",
      "“the standard deviation is zero”\n",
      "Warning message in cor(mse_lst[[f]][[t]]):\n",
      "“the standard deviation is zero”\n",
      "Warning message in cor(mse_lst[[f]][[t]]):\n",
      "“the standard deviation is zero”\n",
      "Warning message in cor(mse_lst[[f]][[t]]):\n",
      "“the standard deviation is zero”\n",
      "Warning message in cor(mse_lst[[f]][[t]]):\n",
      "“the standard deviation is zero”\n",
      "Warning message in cor(mse_lst[[f]][[t]]):\n",
      "“the standard deviation is zero”\n",
      "Warning message in cor(mse_lst[[f]][[t]]):\n",
      "“the standard deviation is zero”\n",
      "Warning message in cor(mse_lst[[f]][[t]]):\n",
      "“the standard deviation is zero”\n",
      "Warning message in cor(mse_lst[[f]][[t]]):\n",
      "“the standard deviation is zero”\n",
      "Warning message in cor(mse_lst[[f]][[t]]):\n",
      "“the standard deviation is zero”\n",
      "Warning message in cor(mse_lst[[f]][[t]]):\n",
      "“the standard deviation is zero”\n",
      "Warning message in cor(mse_lst[[f]][[t]]):\n",
      "“the standard deviation is zero”\n",
      "Warning message in cor(mse_lst[[f]][[t]]):\n",
      "“the standard deviation is zero”\n",
      "Warning message in cor(mse_lst[[f]][[t]]):\n",
      "“the standard deviation is zero”\n",
      "Warning message in cor(mse_lst[[f]][[t]]):\n",
      "“the standard deviation is zero”\n",
      "Warning message in cor(mse_lst[[f]][[t]]):\n",
      "“the standard deviation is zero”\n",
      "Warning message in cor(mse_lst[[f]][[t]]):\n",
      "“the standard deviation is zero”\n",
      "Warning message in cor(mse_lst[[f]][[t]]):\n",
      "“the standard deviation is zero”\n",
      "Warning message in cor(mse_lst[[f]][[t]]):\n",
      "“the standard deviation is zero”\n",
      "Warning message in cor(mse_lst[[f]][[t]]):\n",
      "“the standard deviation is zero”\n",
      "Warning message in cor(mse_lst[[f]][[t]]):\n",
      "“the standard deviation is zero”\n",
      "Warning message in cor(mse_lst[[f]][[t]]):\n",
      "“the standard deviation is zero”\n",
      "Warning message in cor(mse_lst[[f]][[t]]):\n",
      "“the standard deviation is zero”\n",
      "Warning message in cor(mse_lst[[f]][[t]]):\n",
      "“the standard deviation is zero”\n",
      "Warning message in cor(mse_lst[[f]][[t]]):\n",
      "“the standard deviation is zero”\n",
      "Warning message in cor(mse_lst[[f]][[t]]):\n",
      "“the standard deviation is zero”\n",
      "Warning message in cor(mse_lst[[f]][[t]]):\n",
      "“the standard deviation is zero”\n",
      "Warning message in cor(mse_lst[[f]][[t]]):\n",
      "“the standard deviation is zero”\n",
      "Warning message in cor(mse_lst[[f]][[t]]):\n",
      "“the standard deviation is zero”\n",
      "Warning message in cor(mse_lst[[f]][[t]]):\n",
      "“the standard deviation is zero”\n",
      "Warning message in cor(mse_lst[[f]][[t]]):\n",
      "“the standard deviation is zero”\n",
      "Warning message in cor(mse_lst[[f]][[t]]):\n",
      "“the standard deviation is zero”\n",
      "Warning message in cor(mse_lst[[f]][[t]]):\n",
      "“the standard deviation is zero”\n",
      "Warning message in cor(mse_lst[[f]][[t]]):\n",
      "“the standard deviation is zero”\n",
      "Warning message in cor(mse_lst[[f]][[t]]):\n",
      "“the standard deviation is zero”\n",
      "Warning message in cor(mse_lst[[f]][[t]]):\n",
      "“the standard deviation is zero”\n",
      "Warning message in cor(mse_lst[[f]][[t]]):\n",
      "“the standard deviation is zero”\n",
      "Warning message in cor(mse_lst[[f]][[t]]):\n",
      "“the standard deviation is zero”\n",
      "Warning message in cor(mse_lst[[f]][[t]]):\n",
      "“the standard deviation is zero”\n",
      "Warning message in cor(mse_lst[[f]][[t]]):\n",
      "“the standard deviation is zero”\n",
      "Warning message in cor(mse_lst[[f]][[t]]):\n",
      "“the standard deviation is zero”\n",
      "Warning message in cor(mse_lst[[f]][[t]]):\n",
      "“the standard deviation is zero”\n",
      "Warning message in cor(mse_lst[[f]][[t]]):\n",
      "“the standard deviation is zero”\n",
      "Warning message in cor(mse_lst[[f]][[t]]):\n",
      "“the standard deviation is zero”\n",
      "Warning message in cor(mse_lst[[f]][[t]]):\n",
      "“the standard deviation is zero”\n",
      "Warning message in cor(mse_lst[[f]][[t]]):\n",
      "“the standard deviation is zero”\n",
      "Warning message in cor(mse_lst[[f]][[t]]):\n",
      "“the standard deviation is zero”\n",
      "Warning message in cor(mse_lst[[f]][[t]]):\n",
      "“the standard deviation is zero”\n",
      "Warning message in cor(mse_lst[[f]][[t]]):\n",
      "“the standard deviation is zero”\n",
      "Warning message in cor(mse_lst[[f]][[t]]):\n",
      "“the standard deviation is zero”\n",
      "Warning message in cor(mse_lst[[f]][[t]]):\n",
      "“the standard deviation is zero”\n",
      "Warning message in cor(mse_lst[[f]][[t]]):\n",
      "“the standard deviation is zero”\n",
      "Warning message in cor(mse_lst[[f]][[t]]):\n",
      "“the standard deviation is zero”\n",
      "Warning message in cor(mse_lst[[f]][[t]]):\n",
      "“the standard deviation is zero”\n",
      "Warning message in cor(mse_lst[[f]][[t]]):\n",
      "“the standard deviation is zero”\n",
      "Warning message in cor(mse_lst[[f]][[t]]):\n",
      "“the standard deviation is zero”\n",
      "Warning message in cor(mse_lst[[f]][[t]]):\n",
      "“the standard deviation is zero”\n",
      "Warning message in cor(mse_lst[[f]][[t]]):\n",
      "“the standard deviation is zero”\n",
      "Warning message in cor(mse_lst[[f]][[t]]):\n",
      "“the standard deviation is zero”\n",
      "Warning message in cor(mse_lst[[f]][[t]]):\n",
      "“the standard deviation is zero”\n",
      "Warning message in cor(mse_lst[[f]][[t]]):\n",
      "“the standard deviation is zero”\n",
      "Warning message in cor(mse_lst[[f]][[t]]):\n",
      "“the standard deviation is zero”\n",
      "Warning message in cor(mse_lst[[f]][[t]]):\n",
      "“the standard deviation is zero”\n",
      "Warning message in cor(mse_lst[[f]][[t]]):\n",
      "“the standard deviation is zero”\n",
      "Warning message in cor(mse_lst[[f]][[t]]):\n",
      "“the standard deviation is zero”\n",
      "Warning message in cor(mse_lst[[f]][[t]]):\n",
      "“the standard deviation is zero”\n",
      "Warning message in cor(mse_lst[[f]][[t]]):\n",
      "“the standard deviation is zero”\n",
      "Warning message in cor(mse_lst[[f]][[t]]):\n",
      "“the standard deviation is zero”\n",
      "Warning message in cor(mse_lst[[f]][[t]]):\n",
      "“the standard deviation is zero”\n",
      "Warning message in cor(mse_lst[[f]][[t]]):\n",
      "“the standard deviation is zero”\n",
      "Warning message in cor(mse_lst[[f]][[t]]):\n",
      "“the standard deviation is zero”\n",
      "Warning message in cor(mse_lst[[f]][[t]]):\n",
      "“the standard deviation is zero”\n",
      "Warning message in cor(mse_lst[[f]][[t]]):\n",
      "“the standard deviation is zero”\n",
      "Warning message in cor(mse_lst[[f]][[t]]):\n",
      "“the standard deviation is zero”\n",
      "Warning message in cor(mse_lst[[f]][[t]]):\n",
      "“the standard deviation is zero”\n",
      "Warning message in cor(mse_lst[[f]][[t]]):\n",
      "“the standard deviation is zero”\n",
      "Warning message in cor(mse_lst[[f]][[t]]):\n",
      "“the standard deviation is zero”\n",
      "Warning message in cor(mse_lst[[f]][[t]]):\n",
      "“the standard deviation is zero”\n",
      "Warning message in cor(mse_lst[[f]][[t]]):\n",
      "“the standard deviation is zero”\n",
      "Warning message in cor(mse_lst[[f]][[t]]):\n",
      "“the standard deviation is zero”\n",
      "Warning message in cor(mse_lst[[f]][[t]]):\n",
      "“the standard deviation is zero”\n",
      "Warning message in cor(mse_lst[[f]][[t]]):\n",
      "“the standard deviation is zero”\n",
      "Warning message in cor(mse_lst[[f]][[t]]):\n",
      "“the standard deviation is zero”\n",
      "Warning message in cor(mse_lst[[f]][[t]]):\n",
      "“the standard deviation is zero”\n",
      "Warning message in cor(mse_lst[[f]][[t]]):\n",
      "“the standard deviation is zero”\n",
      "Warning message in cor(mse_lst[[f]][[t]]):\n",
      "“the standard deviation is zero”\n",
      "Warning message in cor(mse_lst[[f]][[t]]):\n",
      "“the standard deviation is zero”\n",
      "Warning message in cor(mse_lst[[f]][[t]]):\n",
      "“the standard deviation is zero”\n",
      "Warning message in cor(mse_lst[[f]][[t]]):\n",
      "“the standard deviation is zero”\n",
      "Warning message in cor(mse_lst[[f]][[t]]):\n",
      "“the standard deviation is zero”\n",
      "Warning message in cor(mse_lst[[f]][[t]]):\n",
      "“the standard deviation is zero”\n",
      "Warning message in cor(mse_lst[[f]][[t]]):\n",
      "“the standard deviation is zero”\n",
      "Warning message in cor(mse_lst[[f]][[t]]):\n",
      "“the standard deviation is zero”\n",
      "Warning message in cor(mse_lst[[f]][[t]]):\n",
      "“the standard deviation is zero”\n",
      "Warning message in cor(mse_lst[[f]][[t]]):\n",
      "“the standard deviation is zero”\n",
      "Warning message in cor(mse_lst[[f]][[t]]):\n",
      "“the standard deviation is zero”\n",
      "Warning message in cor(mse_lst[[f]][[t]]):\n",
      "“the standard deviation is zero”\n",
      "Warning message in cor(mse_lst[[f]][[t]]):\n",
      "“the standard deviation is zero”\n",
      "Warning message in cor(mse_lst[[f]][[t]]):\n",
      "“the standard deviation is zero”\n",
      "Warning message in cor(mse_lst[[f]][[t]]):\n",
      "“the standard deviation is zero”\n",
      "Warning message in cor(mse_lst[[f]][[t]]):\n",
      "“the standard deviation is zero”\n",
      "Warning message in cor(mse_lst[[f]][[t]]):\n",
      "“the standard deviation is zero”\n",
      "Warning message in cor(mse_lst[[f]][[t]]):\n",
      "“the standard deviation is zero”\n",
      "Warning message in cor(mse_lst[[f]][[t]]):\n",
      "“the standard deviation is zero”\n",
      "Warning message in cor(mse_lst[[f]][[t]]):\n",
      "“the standard deviation is zero”\n",
      "Warning message in cor(mse_lst[[f]][[t]]):\n",
      "“the standard deviation is zero”\n",
      "Warning message in cor(mse_lst[[f]][[t]]):\n",
      "“the standard deviation is zero”\n",
      "Warning message in cor(mse_lst[[f]][[t]]):\n",
      "“the standard deviation is zero”\n",
      "Warning message in cor(mse_lst[[f]][[t]]):\n",
      "“the standard deviation is zero”\n",
      "Warning message in cor(mse_lst[[f]][[t]]):\n",
      "“the standard deviation is zero”\n",
      "Warning message in cor(mse_lst[[f]][[t]]):\n",
      "“the standard deviation is zero”\n",
      "Warning message in cor(mse_lst[[f]][[t]]):\n",
      "“the standard deviation is zero”\n",
      "Warning message in cor(mse_lst[[f]][[t]]):\n",
      "“the standard deviation is zero”\n",
      "Warning message in cor(mse_lst[[f]][[t]]):\n",
      "“the standard deviation is zero”\n",
      "Warning message in cor(mse_lst[[f]][[t]]):\n",
      "“the standard deviation is zero”\n",
      "Warning message in cor(mse_lst[[f]][[t]]):\n",
      "“the standard deviation is zero”\n",
      "Warning message in cor(mse_lst[[f]][[t]]):\n",
      "“the standard deviation is zero”\n",
      "Warning message in cor(mse_lst[[f]][[t]]):\n",
      "“the standard deviation is zero”\n",
      "Warning message in cor(mse_lst[[f]][[t]]):\n",
      "“the standard deviation is zero”\n",
      "Warning message in cor(mse_lst[[f]][[t]]):\n",
      "“the standard deviation is zero”\n",
      "Warning message in cor(mse_lst[[f]][[t]]):\n",
      "“the standard deviation is zero”\n",
      "Warning message in cor(mse_lst[[f]][[t]]):\n",
      "“the standard deviation is zero”\n",
      "Warning message in cor(mse_lst[[f]][[t]]):\n",
      "“the standard deviation is zero”\n",
      "Warning message in cor(mse_lst[[f]][[t]]):\n",
      "“the standard deviation is zero”\n",
      "Warning message in cor(mse_lst[[f]][[t]]):\n",
      "“the standard deviation is zero”\n",
      "Warning message in cor(mse_lst[[f]][[t]]):\n",
      "“the standard deviation is zero”\n",
      "Warning message in cor(mse_lst[[f]][[t]]):\n",
      "“the standard deviation is zero”\n",
      "Warning message in cor(mse_lst[[f]][[t]]):\n",
      "“the standard deviation is zero”\n",
      "Warning message in cor(mse_lst[[f]][[t]]):\n",
      "“the standard deviation is zero”\n",
      "Warning message in cor(mse_lst[[f]][[t]]):\n",
      "“the standard deviation is zero”\n",
      "Warning message in cor(mse_lst[[f]][[t]]):\n",
      "“the standard deviation is zero”\n",
      "Warning message in cor(mse_lst[[f]][[t]]):\n",
      "“the standard deviation is zero”\n",
      "Warning message in cor(mse_lst[[f]][[t]]):\n",
      "“the standard deviation is zero”\n",
      "Warning message in cor(mse_lst[[f]][[t]]):\n",
      "“the standard deviation is zero”\n",
      "Warning message in cor(mse_lst[[f]][[t]]):\n",
      "“the standard deviation is zero”\n",
      "Warning message in cor(mse_lst[[f]][[t]]):\n",
      "“the standard deviation is zero”\n",
      "Warning message in cor(mse_lst[[f]][[t]]):\n",
      "“the standard deviation is zero”\n",
      "Warning message in cor(mse_lst[[f]][[t]]):\n",
      "“the standard deviation is zero”\n",
      "Warning message in cor(mse_lst[[f]][[t]]):\n",
      "“the standard deviation is zero”\n",
      "Warning message in cor(mse_lst[[f]][[t]]):\n",
      "“the standard deviation is zero”\n",
      "Warning message in cor(mse_lst[[f]][[t]]):\n",
      "“the standard deviation is zero”\n",
      "Warning message in cor(mse_lst[[f]][[t]]):\n",
      "“the standard deviation is zero”\n",
      "Warning message in cor(mse_lst[[f]][[t]]):\n",
      "“the standard deviation is zero”\n",
      "Warning message in cor(mse_lst[[f]][[t]]):\n",
      "“the standard deviation is zero”\n",
      "Warning message in cor(mse_lst[[f]][[t]]):\n",
      "“the standard deviation is zero”\n",
      "Warning message in cor(mse_lst[[f]][[t]]):\n",
      "“the standard deviation is zero”\n",
      "Warning message in cor(mse_lst[[f]][[t]]):\n",
      "“the standard deviation is zero”\n",
      "Warning message in cor(mse_lst[[f]][[t]]):\n",
      "“the standard deviation is zero”\n",
      "Warning message in cor(mse_lst[[f]][[t]]):\n",
      "“the standard deviation is zero”\n",
      "Warning message in cor(mse_lst[[f]][[t]]):\n",
      "“the standard deviation is zero”\n",
      "Warning message in cor(mse_lst[[f]][[t]]):\n",
      "“the standard deviation is zero”\n",
      "Warning message in cor(mse_lst[[f]][[t]]):\n",
      "“the standard deviation is zero”\n",
      "Warning message in cor(mse_lst[[f]][[t]]):\n",
      "“the standard deviation is zero”\n",
      "Warning message in cor(mse_lst[[f]][[t]]):\n",
      "“the standard deviation is zero”\n",
      "Warning message in cor(mse_lst[[f]][[t]]):\n",
      "“the standard deviation is zero”\n",
      "Warning message in cor(mse_lst[[f]][[t]]):\n",
      "“the standard deviation is zero”\n",
      "Warning message in cor(mse_lst[[f]][[t]]):\n",
      "“the standard deviation is zero”\n",
      "Warning message in cor(mse_lst[[f]][[t]]):\n",
      "“the standard deviation is zero”\n",
      "Warning message in cor(mse_lst[[f]][[t]]):\n",
      "“the standard deviation is zero”\n",
      "Warning message in cor(mse_lst[[f]][[t]]):\n",
      "“the standard deviation is zero”\n",
      "Warning message in cor(mse_lst[[f]][[t]]):\n",
      "“the standard deviation is zero”\n",
      "Warning message in cor(mse_lst[[f]][[t]]):\n",
      "“the standard deviation is zero”\n",
      "Warning message in cor(mse_lst[[f]][[t]]):\n",
      "“the standard deviation is zero”\n",
      "Warning message in cor(mse_lst[[f]][[t]]):\n",
      "“the standard deviation is zero”\n",
      "Warning message in cor(mse_lst[[f]][[t]]):\n",
      "“the standard deviation is zero”\n",
      "Warning message in cor(mse_lst[[f]][[t]]):\n",
      "“the standard deviation is zero”\n",
      "Warning message in cor(mse_lst[[f]][[t]]):\n",
      "“the standard deviation is zero”\n",
      "Warning message in cor(mse_lst[[f]][[t]]):\n",
      "“the standard deviation is zero”\n",
      "Warning message in cor(mse_lst[[f]][[t]]):\n",
      "“the standard deviation is zero”\n",
      "Warning message in cor(mse_lst[[f]][[t]]):\n",
      "“the standard deviation is zero”\n",
      "Warning message in cor(mse_lst[[f]][[t]]):\n",
      "“the standard deviation is zero”\n",
      "Warning message in cor(mse_lst[[f]][[t]]):\n",
      "“the standard deviation is zero”\n",
      "Warning message in cor(mse_lst[[f]][[t]]):\n",
      "“the standard deviation is zero”\n",
      "Warning message in cor(mse_lst[[f]][[t]]):\n",
      "“the standard deviation is zero”\n",
      "Warning message in cor(mse_lst[[f]][[t]]):\n",
      "“the standard deviation is zero”\n",
      "Warning message in cor(mse_lst[[f]][[t]]):\n",
      "“the standard deviation is zero”\n",
      "Warning message in cor(mse_lst[[f]][[t]]):\n",
      "“the standard deviation is zero”\n",
      "Warning message in cor(mse_lst[[f]][[t]]):\n",
      "“the standard deviation is zero”\n",
      "Warning message in cor(mse_lst[[f]][[t]]):\n",
      "“the standard deviation is zero”\n",
      "Warning message in cor(mse_lst[[f]][[t]]):\n",
      "“the standard deviation is zero”\n",
      "Warning message in cor(mse_lst[[f]][[t]]):\n",
      "“the standard deviation is zero”\n",
      "Warning message in cor(mse_lst[[f]][[t]]):\n",
      "“the standard deviation is zero”\n",
      "Warning message in cor(mse_lst[[f]][[t]]):\n",
      "“the standard deviation is zero”\n",
      "Warning message in cor(mse_lst[[f]][[t]]):\n",
      "“the standard deviation is zero”\n",
      "Warning message in cor(mse_lst[[f]][[t]]):\n",
      "“the standard deviation is zero”\n",
      "Warning message in cor(mse_lst[[f]][[t]]):\n",
      "“the standard deviation is zero”\n",
      "Warning message in cor(mse_lst[[f]][[t]]):\n",
      "“the standard deviation is zero”\n",
      "Warning message in cor(mse_lst[[f]][[t]]):\n",
      "“the standard deviation is zero”\n",
      "Warning message in cor(mse_lst[[f]][[t]]):\n",
      "“the standard deviation is zero”\n",
      "Warning message in cor(mse_lst[[f]][[t]]):\n",
      "“the standard deviation is zero”\n",
      "Warning message in cor(mse_lst[[f]][[t]]):\n",
      "“the standard deviation is zero”\n",
      "Warning message in cor(mse_lst[[f]][[t]]):\n",
      "“the standard deviation is zero”\n",
      "Warning message in cor(mse_lst[[f]][[t]]):\n",
      "“the standard deviation is zero”\n",
      "Warning message in cor(mse_lst[[f]][[t]]):\n",
      "“the standard deviation is zero”\n",
      "Warning message in cor(mse_lst[[f]][[t]]):\n",
      "“the standard deviation is zero”\n",
      "Warning message in cor(mse_lst[[f]][[t]]):\n",
      "“the standard deviation is zero”\n",
      "Warning message in cor(mse_lst[[f]][[t]]):\n",
      "“the standard deviation is zero”\n",
      "Warning message in cor(mse_lst[[f]][[t]]):\n",
      "“the standard deviation is zero”\n",
      "Warning message in cor(mse_lst[[f]][[t]]):\n",
      "“the standard deviation is zero”\n",
      "Warning message in cor(mse_lst[[f]][[t]]):\n",
      "“the standard deviation is zero”\n",
      "Warning message in cor(mse_lst[[f]][[t]]):\n",
      "“the standard deviation is zero”\n",
      "Warning message in cor(mse_lst[[f]][[t]]):\n",
      "“the standard deviation is zero”\n",
      "Warning message in cor(mse_lst[[f]][[t]]):\n",
      "“the standard deviation is zero”\n",
      "Warning message in cor(mse_lst[[f]][[t]]):\n",
      "“the standard deviation is zero”\n",
      "Warning message in cor(mse_lst[[f]][[t]]):\n",
      "“the standard deviation is zero”\n",
      "Warning message in cor(mse_lst[[f]][[t]]):\n",
      "“the standard deviation is zero”\n",
      "Warning message in cor(mse_lst[[f]][[t]]):\n",
      "“the standard deviation is zero”\n",
      "Warning message in cor(mse_lst[[f]][[t]]):\n",
      "“the standard deviation is zero”\n",
      "Warning message in cor(mse_lst[[f]][[t]]):\n",
      "“the standard deviation is zero”\n",
      "Warning message in cor(mse_lst[[f]][[t]]):\n",
      "“the standard deviation is zero”\n",
      "Warning message in cor(mse_lst[[f]][[t]]):\n",
      "“the standard deviation is zero”\n",
      "Warning message in cor(mse_lst[[f]][[t]]):\n",
      "“the standard deviation is zero”\n",
      "Warning message in cor(mse_lst[[f]][[t]]):\n",
      "“the standard deviation is zero”\n",
      "Warning message in cor(mse_lst[[f]][[t]]):\n",
      "“the standard deviation is zero”\n",
      "Warning message in cor(mse_lst[[f]][[t]]):\n",
      "“the standard deviation is zero”\n",
      "Warning message in cor(mse_lst[[f]][[t]]):\n",
      "“the standard deviation is zero”\n",
      "Warning message in cor(mse_lst[[f]][[t]]):\n",
      "“the standard deviation is zero”\n",
      "Warning message in cor(mse_lst[[f]][[t]]):\n",
      "“the standard deviation is zero”\n",
      "Warning message in cor(mse_lst[[f]][[t]]):\n",
      "“the standard deviation is zero”\n",
      "Warning message in cor(mse_lst[[f]][[t]]):\n",
      "“the standard deviation is zero”\n",
      "Warning message in cor(mse_lst[[f]][[t]]):\n",
      "“the standard deviation is zero”\n",
      "Warning message in cor(mse_lst[[f]][[t]]):\n",
      "“the standard deviation is zero”\n",
      "Warning message in cor(mse_lst[[f]][[t]]):\n",
      "“the standard deviation is zero”\n",
      "Warning message in cor(mse_lst[[f]][[t]]):\n",
      "“the standard deviation is zero”\n",
      "Warning message in cor(mse_lst[[f]][[t]]):\n",
      "“the standard deviation is zero”\n",
      "Warning message in cor(mse_lst[[f]][[t]]):\n",
      "“the standard deviation is zero”\n",
      "Warning message in cor(mse_lst[[f]][[t]]):\n",
      "“the standard deviation is zero”\n",
      "Warning message in cor(mse_lst[[f]][[t]]):\n",
      "“the standard deviation is zero”\n",
      "Warning message in cor(mse_lst[[f]][[t]]):\n",
      "“the standard deviation is zero”\n",
      "Warning message in cor(mse_lst[[f]][[t]]):\n",
      "“the standard deviation is zero”\n",
      "Warning message in cor(mse_lst[[f]][[t]]):\n",
      "“the standard deviation is zero”\n",
      "Warning message in cor(mse_lst[[f]][[t]]):\n",
      "“the standard deviation is zero”\n",
      "Warning message in cor(mse_lst[[f]][[t]]):\n",
      "“the standard deviation is zero”\n",
      "Warning message in cor(mse_lst[[f]][[t]]):\n",
      "“the standard deviation is zero”\n",
      "Warning message in cor(mse_lst[[f]][[t]]):\n",
      "“the standard deviation is zero”\n",
      "Warning message in cor(mse_lst[[f]][[t]]):\n",
      "“the standard deviation is zero”\n",
      "Warning message in cor(mse_lst[[f]][[t]]):\n",
      "“the standard deviation is zero”\n",
      "Warning message in cor(mse_lst[[f]][[t]]):\n",
      "“the standard deviation is zero”\n",
      "Warning message in cor(mse_lst[[f]][[t]]):\n",
      "“the standard deviation is zero”\n",
      "Warning message in cor(mse_lst[[f]][[t]]):\n",
      "“the standard deviation is zero”\n",
      "Warning message in cor(mse_lst[[f]][[t]]):\n",
      "“the standard deviation is zero”\n",
      "Warning message in cor(mse_lst[[f]][[t]]):\n",
      "“the standard deviation is zero”\n",
      "Warning message in cor(mse_lst[[f]][[t]]):\n",
      "“the standard deviation is zero”\n",
      "Warning message in cor(mse_lst[[f]][[t]]):\n",
      "“the standard deviation is zero”\n",
      "Warning message in cor(mse_lst[[f]][[t]]):\n",
      "“the standard deviation is zero”\n",
      "Warning message in cor(mse_lst[[f]][[t]]):\n",
      "“the standard deviation is zero”\n",
      "Warning message in cor(mse_lst[[f]][[t]]):\n",
      "“the standard deviation is zero”\n",
      "Warning message in cor(mse_lst[[f]][[t]]):\n",
      "“the standard deviation is zero”\n",
      "Warning message in cor(mse_lst[[f]][[t]]):\n",
      "“the standard deviation is zero”\n",
      "Warning message in cor(mse_lst[[f]][[t]]):\n",
      "“the standard deviation is zero”\n",
      "Warning message in cor(mse_lst[[f]][[t]]):\n",
      "“the standard deviation is zero”\n",
      "Warning message in cor(mse_lst[[f]][[t]]):\n",
      "“the standard deviation is zero”\n",
      "Warning message in cor(mse_lst[[f]][[t]]):\n",
      "“the standard deviation is zero”\n",
      "Warning message in cor(mse_lst[[f]][[t]]):\n",
      "“the standard deviation is zero”\n",
      "Warning message in cor(mse_lst[[f]][[t]]):\n",
      "“the standard deviation is zero”\n",
      "Warning message in cor(mse_lst[[f]][[t]]):\n",
      "“the standard deviation is zero”\n",
      "Warning message in cor(mse_lst[[f]][[t]]):\n",
      "“the standard deviation is zero”\n",
      "Warning message in cor(mse_lst[[f]][[t]]):\n",
      "“the standard deviation is zero”\n",
      "Warning message in cor(mse_lst[[f]][[t]]):\n",
      "“the standard deviation is zero”\n",
      "Warning message in cor(mse_lst[[f]][[t]]):\n",
      "“the standard deviation is zero”\n",
      "Warning message in cor(mse_lst[[f]][[t]]):\n",
      "“the standard deviation is zero”\n",
      "Warning message in cor(mse_lst[[f]][[t]]):\n",
      "“the standard deviation is zero”\n",
      "Warning message in cor(mse_lst[[f]][[t]]):\n",
      "“the standard deviation is zero”\n",
      "Warning message in cor(mse_lst[[f]][[t]]):\n",
      "“the standard deviation is zero”\n",
      "Warning message in cor(mse_lst[[f]][[t]]):\n",
      "“the standard deviation is zero”\n",
      "Warning message in cor(mse_lst[[f]][[t]]):\n",
      "“the standard deviation is zero”\n",
      "Warning message in cor(mse_lst[[f]][[t]]):\n",
      "“the standard deviation is zero”\n",
      "Warning message in cor(mse_lst[[f]][[t]]):\n",
      "“the standard deviation is zero”\n",
      "Warning message in cor(mse_lst[[f]][[t]]):\n",
      "“the standard deviation is zero”\n",
      "Warning message in cor(mse_lst[[f]][[t]]):\n",
      "“the standard deviation is zero”\n",
      "Warning message in cor(mse_lst[[f]][[t]]):\n",
      "“the standard deviation is zero”\n",
      "Warning message in cor(mse_lst[[f]][[t]]):\n",
      "“the standard deviation is zero”\n",
      "Warning message in cor(mse_lst[[f]][[t]]):\n",
      "“the standard deviation is zero”\n",
      "Warning message in cor(mse_lst[[f]][[t]]):\n",
      "“the standard deviation is zero”\n",
      "Warning message in cor(mse_lst[[f]][[t]]):\n",
      "“the standard deviation is zero”\n",
      "Warning message in cor(mse_lst[[f]][[t]]):\n",
      "“the standard deviation is zero”\n",
      "Warning message in cor(mse_lst[[f]][[t]]):\n",
      "“the standard deviation is zero”\n",
      "Warning message in cor(mse_lst[[f]][[t]]):\n",
      "“the standard deviation is zero”\n",
      "Warning message in cor(mse_lst[[f]][[t]]):\n",
      "“the standard deviation is zero”\n",
      "Warning message in cor(mse_lst[[f]][[t]]):\n",
      "“the standard deviation is zero”\n",
      "Warning message in cor(mse_lst[[f]][[t]]):\n",
      "“the standard deviation is zero”\n",
      "Warning message in cor(mse_lst[[f]][[t]]):\n",
      "“the standard deviation is zero”\n",
      "Warning message in cor(mse_lst[[f]][[t]]):\n",
      "“the standard deviation is zero”\n",
      "Warning message in cor(mse_lst[[f]][[t]]):\n",
      "“the standard deviation is zero”\n",
      "Warning message in cor(mse_lst[[f]][[t]]):\n",
      "“the standard deviation is zero”\n",
      "Warning message in cor(mse_lst[[f]][[t]]):\n",
      "“the standard deviation is zero”\n",
      "Warning message in cor(mse_lst[[f]][[t]]):\n",
      "“the standard deviation is zero”\n",
      "Warning message in cor(mse_lst[[f]][[t]]):\n",
      "“the standard deviation is zero”\n",
      "Warning message in cor(mse_lst[[f]][[t]]):\n",
      "“the standard deviation is zero”\n",
      "Warning message in cor(mse_lst[[f]][[t]]):\n",
      "“the standard deviation is zero”\n",
      "Warning message in cor(mse_lst[[f]][[t]]):\n",
      "“the standard deviation is zero”\n",
      "Warning message in cor(mse_lst[[f]][[t]]):\n",
      "“the standard deviation is zero”\n",
      "Warning message in cor(mse_lst[[f]][[t]]):\n",
      "“the standard deviation is zero”\n",
      "Warning message in cor(mse_lst[[f]][[t]]):\n",
      "“the standard deviation is zero”\n",
      "Warning message in cor(mse_lst[[f]][[t]]):\n",
      "“the standard deviation is zero”\n"
     ]
    },
    {
     "name": "stdout",
     "output_type": "stream",
     "text": [
      "Elastic net average testing error (all):  NA 99.70318 1.093741 \n",
      "glasso averge testing error (all):  NA 96.68083 1.008235 \n",
      "Number of all zero tissues in elastic net is  47 \n",
      "Number of all zero tissues in glasso is  49 \n",
      "Elastic net average testing error (non-zero):  NaN NaN NaN \n",
      "glasso averge testing error (non-zero):  NaN NaN NaN \n",
      "training a model on entire data with parameters chosen from cv\n",
      "Training error: 2306.63991985794\n"
     ]
    },
    {
     "ename": "ERROR",
     "evalue": "Error in multi_lam[f, 1]: incorrect number of dimensions\n",
     "output_type": "error",
     "traceback": [
      "Error in multi_lam[f, 1]: incorrect number of dimensions\nTraceback:\n",
      "1. glasso_no_early_stopping(X = X_all, Y = Y_all, XX = XX_all, XY = XY, \n .     Xnorm = Xnorm, lambda1 = multi_lam[f, 1]/spsz, lambda2 = multi_lam[f, \n .         2], theta = matrix(initial_numeric, M, P))"
     ]
    }
   ],
   "source": [
    "#save(single_res_test, single_lam, single_theta_est, multi_res_test, multi_lam, multi_theta_est, res_tune, rec_lamv, file = paste0(output_dir, '/', gene_id, \".cv.evaluation.RData\"))\n",
    "save(single_res_test, single_lam, single_theta_est, multi_res_test, multi_lam, multi_theta_est, res_tune, file = paste0(output_dir, '/', gene_id, \".cv.evaluation.RData\"))\n",
    "                                  \n",
    "\tres_single = avg_perm(single_res_test)\n",
    "\tres_multi = avg_perm(multi_res_test)\n",
    "\tcat(\"Elastic net average testing error (all): \", apply(res_single, 2, mean), '\\n')\n",
    "\tcat(\"glasso averge testing error (all): \", apply(res_multi, 2, mean), '\\n')\n",
    "\tcat(\"Number of all zero tissues in elastic net is \", sum(is.na(res_single[,1])), '\\n')\n",
    "\tcat(\"Number of all zero tissues in glasso is \", sum(is.na(res_multi[,1])), '\\n')\n",
    "\tcat(\"Elastic net average testing error (non-zero): \", apply(res_single[!is.na(res_multi[,1]),], 2, mean), '\\n')\n",
    "\tcat(\"glasso averge testing error (non-zero): \", apply(res_multi[!is.na(res_multi[,1]),], 2, mean), '\\n')\n",
    "\n",
    "  #------------ use tuning parameter chosen above to train model on entire dataset -------------#\n",
    "\t## generate an estimate with whole data ##\n",
    "  cat('training a model on entire data with parameters chosen from cv\\n')\n",
    "\tX_all = list()\n",
    "\tY_all = list()\n",
    "\tfor(t in 1:T_num){\n",
    "\t\tX_all_tmp = sub_id_map[[t]]\n",
    "        X_all[[t]] = apply(as.matrix(dose_std[,X_all_tmp]),1,as.numeric)\n",
    "\t\t#X_all[[t]] = apply(as.matrix(dose[X_all_tmp,-c(1)]),2,as.numeric)\n",
    "\t\tY_all[[t]] = Y[[t]][which(sub_id_map_exp[[t]] == T), 2]\n",
    "\t}\n",
    "\t# initial values \n",
    "\tsingle_initial_est = matrix(0, ncol(X_train[[1]]), T_num)\n",
    "\tfor(t in 1:T_num){\n",
    "\t\ttt = cv.glmnet(X_all[[t]], Y_all[[t]], alpha = 0.5, nfolds = 5)\n",
    "\t\tsingle_initial_est[,t] = tt$glmnet.fit$beta[,which.min(tt$cvm)]\n",
    "\t}\n",
    "\n",
    "\tsig_norm = apply(single_initial_est, 1, function(x){sqrt(sum(x^2))})\n",
    "\tsig_norm[sig_norm==0] = rep(min(sig_norm[sig_norm>0]), sum(sig_norm==0))/2\n",
    "\tsig_norm = sig_norm/sum(sig_norm)\n",
    "\tweights2 = 1/sig_norm; weights2 = weights2/sum(weights2);\n",
    "\n",
    "\ttis_norm = apply(single_initial_est, 2, function(x){sum(abs(x))})\n",
    "\ttis_norm[tis_norm==0] = rep(min(tis_norm[tis_norm>0]), sum(tis_norm==0))/2\n",
    "\ttis_norm = tis_norm/sum(tis_norm)\n",
    "\tweights1 = 1/tis_norm; weights1 = weights1/sum(weights1);\n",
    "\n",
    "\tspsz = unlist(lapply(X_all,nrow))\n",
    "\tinitial_numeric = as.numeric(single_initial_est)\n",
    "\t#remove(single_initial_est)\n",
    "\tXY = grad_prep(X_all, Y_all)\n",
    "\tXX_all = lapply(X_all, function(x){t(x)%*%x/nrow(x)})\n",
    "\ttmp_res = rep(0, fold)\n",
    "\tfor (f in 1:fold){\n",
    "\t\t#ans = glasso_no_early_stopping(X=X_all, Y=Y_all, XX=XX_all, XY=XY, Xnorm=Xnorm, lambda1=multi_lam[f,1]/spsz, lambda2=multi_lam[f,2], theta=matrix(initial_numeric,M,P))#, verbose = if_verbose)\n",
    "\t\tans = glasso_no_early_stopping(X=X_all, Y=Y_all, XX=XX_all, XY=XY, Xnorm=Xnorm, lambda1=multi_lam[f]/spsz, lambda2=multi_lam[f], theta=matrix(initial_numeric,M,P))#, verbose = if_verbose)\n",
    "        tmp_res[f] = ans$avg_train_err\n",
    "\t}\n",
    "\tfinal.lam = multi_lam[which.min(tmp_res),]\n",
    "\tans = glasso_no_early_stopping(X=X_all, Y=Y_all, XX=XX_all, XY=XY, Xnorm=Xnorm, lambda1=final.lam[1]/spsz, lambda2=final.lam[2], theta=matrix(initial_numeric,M,P))#, verbose = if_verbose)\n",
    "\tinfo = read.table(info_path, header=T, sep='\\t')\n",
    "    downstream_est = data.frame(info[,1:3], ans$est)\n",
    "\tmulti_all_res = multi_mse(ans$est, X_all, Y_all)\n",
    "\tsingle_all_res = multi_mse(single_initial_est, X_all, Y_all)\n",
    "  cat('writing final estimates\\n')\n",
    "\twrite.table(downstream_est, paste0(output_dir, '/', gene_id, \".est\"), quote = F, row.names = F, col.names = c(\"SNP\", \"REF.0.\", \"ALT.1.\", Yt))\n",
    "\n",
    "  cat('saving the prediction on all data for future analysis\\n')\n",
    "\tsave(multi_all_res, single_all_res, final.lam, ans, file = paste0(output_dir, '/', gene_id, \".prediction_on_all_data.RData\"))\n",
    "  cat('done!\\n')\n",
    "    "
   ]
  },
  {
   "cell_type": "code",
   "execution_count": null,
   "metadata": {},
   "outputs": [],
   "source": []
  },
  {
   "cell_type": "code",
   "execution_count": null,
   "metadata": {},
   "outputs": [],
   "source": []
  }
 ],
 "metadata": {
  "kernelspec": {
   "display_name": "R",
   "language": "R",
   "name": "ir"
  },
  "language_info": {
   "codemirror_mode": "r",
   "file_extension": ".r",
   "mimetype": "text/x-r-source",
   "name": "R",
   "pygments_lexer": "r",
   "version": "3.5.0"
  }
 },
 "nbformat": 4,
 "nbformat_minor": 4
}
