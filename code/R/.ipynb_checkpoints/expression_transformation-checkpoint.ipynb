{
 "cells": [
  {
   "cell_type": "markdown",
   "metadata": {},
   "source": [
    "## expression scale"
   ]
  },
  {
   "cell_type": "code",
   "execution_count": 1,
   "metadata": {},
   "outputs": [
    {
     "name": "stderr",
     "output_type": "stream",
     "text": [
      "\n",
      "Attaching package: ‘dplyr’\n",
      "\n",
      "\n",
      "The following objects are masked from ‘package:data.table’:\n",
      "\n",
      "    between, first, last\n",
      "\n",
      "\n",
      "The following objects are masked from ‘package:stats’:\n",
      "\n",
      "    filter, lag\n",
      "\n",
      "\n",
      "The following objects are masked from ‘package:base’:\n",
      "\n",
      "    intersect, setdiff, setequal, union\n",
      "\n",
      "\n"
     ]
    }
   ],
   "source": [
    "library(data.table)\n",
    "library(dplyr)"
   ]
  },
  {
   "cell_type": "code",
   "execution_count": 2,
   "metadata": {},
   "outputs": [],
   "source": [
    "file_vec <- dir(\"/ysm-gpfs/pi/zhao-data/zy92/GTEx_V8/GTEx_Analysis_v8_eQTL_expression_matrices\",\n",
    "               pattern = \"*.bed$\")\n"
   ]
  },
  {
   "cell_type": "code",
   "execution_count": 3,
   "metadata": {},
   "outputs": [],
   "source": [
    "tissue_vec <- as.character(sapply(file_vec, function(x) unlist(strsplit(x, \"\\\\.\"))[1]))"
   ]
  },
  {
   "cell_type": "code",
   "execution_count": null,
   "metadata": {},
   "outputs": [],
   "source": [
    "head(file_vec)\n",
    "head(tissue_vec)\n"
   ]
  },
  {
   "cell_type": "code",
   "execution_count": 5,
   "metadata": {},
   "outputs": [],
   "source": [
    "exp_list <- list()\n",
    "for (i in 1:length(tissue_vec)) {\n",
    "    exp_list[[tissue_vec[i]]] <- fread(paste0(\"/ysm-gpfs/pi/zhao-data/zy92/GTEx_V8/GTEx_Analysis_v8_eQTL_expression_matrices/\", \n",
    "                                            tissue_vec[i], \n",
    "                                           \".v8.normalized_expression.bed\"))\n",
    "}"
   ]
  },
  {
   "cell_type": "code",
   "execution_count": 8,
   "metadata": {},
   "outputs": [
    {
     "data": {
      "text/html": [
       "<style>\n",
       ".list-inline {list-style: none; margin:0; padding: 0}\n",
       ".list-inline>li {display: inline-block}\n",
       ".list-inline>li:not(:last-child)::after {content: \"\\00b7\"; padding: 0 .5ex}\n",
       "</style>\n",
       "<ol class=list-inline><li>'Adipose_Subcutaneous'</li><li>'Adipose_Visceral_Omentum'</li><li>'Adrenal_Gland'</li><li>'Artery_Aorta'</li><li>'Artery_Coronary'</li><li>'Artery_Tibial'</li><li>'Brain_Amygdala'</li><li>'Brain_Anterior_cingulate_cortex_BA24'</li><li>'Brain_Caudate_basal_ganglia'</li><li>'Brain_Cerebellar_Hemisphere'</li><li>'Brain_Cerebellum'</li><li>'Brain_Cortex'</li><li>'Brain_Frontal_Cortex_BA9'</li><li>'Brain_Hippocampus'</li><li>'Brain_Hypothalamus'</li><li>'Brain_Nucleus_accumbens_basal_ganglia'</li><li>'Brain_Putamen_basal_ganglia'</li><li>'Brain_Spinal_cord_cervical_c-1'</li><li>'Brain_Substantia_nigra'</li><li>'Breast_Mammary_Tissue'</li><li>'Cells_Cultured_fibroblasts'</li><li>'Cells_EBV-transformed_lymphocytes'</li><li>'Colon_Sigmoid'</li><li>'Colon_Transverse'</li><li>'Esophagus_Gastroesophageal_Junction'</li><li>'Esophagus_Mucosa'</li><li>'Esophagus_Muscularis'</li><li>'Heart_Atrial_Appendage'</li><li>'Heart_Left_Ventricle'</li><li>'Kidney_Cortex'</li><li>'Liver'</li><li>'Lung'</li><li>'Minor_Salivary_Gland'</li><li>'Muscle_Skeletal'</li><li>'Nerve_Tibial'</li><li>'Ovary'</li><li>'Pancreas'</li><li>'Pituitary'</li><li>'Prostate'</li><li>'Skin_Not_Sun_Exposed_Suprapubic'</li><li>'Skin_Sun_Exposed_Lower_leg'</li><li>'Small_Intestine_Terminal_Ileum'</li><li>'Spleen'</li><li>'Stomach'</li><li>'Testis'</li><li>'Thyroid'</li><li>'Uterus'</li><li>'Vagina'</li><li>'Whole_Blood'</li></ol>\n"
      ],
      "text/latex": [
       "\\begin{enumerate*}\n",
       "\\item 'Adipose\\_Subcutaneous'\n",
       "\\item 'Adipose\\_Visceral\\_Omentum'\n",
       "\\item 'Adrenal\\_Gland'\n",
       "\\item 'Artery\\_Aorta'\n",
       "\\item 'Artery\\_Coronary'\n",
       "\\item 'Artery\\_Tibial'\n",
       "\\item 'Brain\\_Amygdala'\n",
       "\\item 'Brain\\_Anterior\\_cingulate\\_cortex\\_BA24'\n",
       "\\item 'Brain\\_Caudate\\_basal\\_ganglia'\n",
       "\\item 'Brain\\_Cerebellar\\_Hemisphere'\n",
       "\\item 'Brain\\_Cerebellum'\n",
       "\\item 'Brain\\_Cortex'\n",
       "\\item 'Brain\\_Frontal\\_Cortex\\_BA9'\n",
       "\\item 'Brain\\_Hippocampus'\n",
       "\\item 'Brain\\_Hypothalamus'\n",
       "\\item 'Brain\\_Nucleus\\_accumbens\\_basal\\_ganglia'\n",
       "\\item 'Brain\\_Putamen\\_basal\\_ganglia'\n",
       "\\item 'Brain\\_Spinal\\_cord\\_cervical\\_c-1'\n",
       "\\item 'Brain\\_Substantia\\_nigra'\n",
       "\\item 'Breast\\_Mammary\\_Tissue'\n",
       "\\item 'Cells\\_Cultured\\_fibroblasts'\n",
       "\\item 'Cells\\_EBV-transformed\\_lymphocytes'\n",
       "\\item 'Colon\\_Sigmoid'\n",
       "\\item 'Colon\\_Transverse'\n",
       "\\item 'Esophagus\\_Gastroesophageal\\_Junction'\n",
       "\\item 'Esophagus\\_Mucosa'\n",
       "\\item 'Esophagus\\_Muscularis'\n",
       "\\item 'Heart\\_Atrial\\_Appendage'\n",
       "\\item 'Heart\\_Left\\_Ventricle'\n",
       "\\item 'Kidney\\_Cortex'\n",
       "\\item 'Liver'\n",
       "\\item 'Lung'\n",
       "\\item 'Minor\\_Salivary\\_Gland'\n",
       "\\item 'Muscle\\_Skeletal'\n",
       "\\item 'Nerve\\_Tibial'\n",
       "\\item 'Ovary'\n",
       "\\item 'Pancreas'\n",
       "\\item 'Pituitary'\n",
       "\\item 'Prostate'\n",
       "\\item 'Skin\\_Not\\_Sun\\_Exposed\\_Suprapubic'\n",
       "\\item 'Skin\\_Sun\\_Exposed\\_Lower\\_leg'\n",
       "\\item 'Small\\_Intestine\\_Terminal\\_Ileum'\n",
       "\\item 'Spleen'\n",
       "\\item 'Stomach'\n",
       "\\item 'Testis'\n",
       "\\item 'Thyroid'\n",
       "\\item 'Uterus'\n",
       "\\item 'Vagina'\n",
       "\\item 'Whole\\_Blood'\n",
       "\\end{enumerate*}\n"
      ],
      "text/markdown": [
       "1. 'Adipose_Subcutaneous'\n",
       "2. 'Adipose_Visceral_Omentum'\n",
       "3. 'Adrenal_Gland'\n",
       "4. 'Artery_Aorta'\n",
       "5. 'Artery_Coronary'\n",
       "6. 'Artery_Tibial'\n",
       "7. 'Brain_Amygdala'\n",
       "8. 'Brain_Anterior_cingulate_cortex_BA24'\n",
       "9. 'Brain_Caudate_basal_ganglia'\n",
       "10. 'Brain_Cerebellar_Hemisphere'\n",
       "11. 'Brain_Cerebellum'\n",
       "12. 'Brain_Cortex'\n",
       "13. 'Brain_Frontal_Cortex_BA9'\n",
       "14. 'Brain_Hippocampus'\n",
       "15. 'Brain_Hypothalamus'\n",
       "16. 'Brain_Nucleus_accumbens_basal_ganglia'\n",
       "17. 'Brain_Putamen_basal_ganglia'\n",
       "18. 'Brain_Spinal_cord_cervical_c-1'\n",
       "19. 'Brain_Substantia_nigra'\n",
       "20. 'Breast_Mammary_Tissue'\n",
       "21. 'Cells_Cultured_fibroblasts'\n",
       "22. 'Cells_EBV-transformed_lymphocytes'\n",
       "23. 'Colon_Sigmoid'\n",
       "24. 'Colon_Transverse'\n",
       "25. 'Esophagus_Gastroesophageal_Junction'\n",
       "26. 'Esophagus_Mucosa'\n",
       "27. 'Esophagus_Muscularis'\n",
       "28. 'Heart_Atrial_Appendage'\n",
       "29. 'Heart_Left_Ventricle'\n",
       "30. 'Kidney_Cortex'\n",
       "31. 'Liver'\n",
       "32. 'Lung'\n",
       "33. 'Minor_Salivary_Gland'\n",
       "34. 'Muscle_Skeletal'\n",
       "35. 'Nerve_Tibial'\n",
       "36. 'Ovary'\n",
       "37. 'Pancreas'\n",
       "38. 'Pituitary'\n",
       "39. 'Prostate'\n",
       "40. 'Skin_Not_Sun_Exposed_Suprapubic'\n",
       "41. 'Skin_Sun_Exposed_Lower_leg'\n",
       "42. 'Small_Intestine_Terminal_Ileum'\n",
       "43. 'Spleen'\n",
       "44. 'Stomach'\n",
       "45. 'Testis'\n",
       "46. 'Thyroid'\n",
       "47. 'Uterus'\n",
       "48. 'Vagina'\n",
       "49. 'Whole_Blood'\n",
       "\n",
       "\n"
      ],
      "text/plain": [
       " [1] \"Adipose_Subcutaneous\"                 \n",
       " [2] \"Adipose_Visceral_Omentum\"             \n",
       " [3] \"Adrenal_Gland\"                        \n",
       " [4] \"Artery_Aorta\"                         \n",
       " [5] \"Artery_Coronary\"                      \n",
       " [6] \"Artery_Tibial\"                        \n",
       " [7] \"Brain_Amygdala\"                       \n",
       " [8] \"Brain_Anterior_cingulate_cortex_BA24\" \n",
       " [9] \"Brain_Caudate_basal_ganglia\"          \n",
       "[10] \"Brain_Cerebellar_Hemisphere\"          \n",
       "[11] \"Brain_Cerebellum\"                     \n",
       "[12] \"Brain_Cortex\"                         \n",
       "[13] \"Brain_Frontal_Cortex_BA9\"             \n",
       "[14] \"Brain_Hippocampus\"                    \n",
       "[15] \"Brain_Hypothalamus\"                   \n",
       "[16] \"Brain_Nucleus_accumbens_basal_ganglia\"\n",
       "[17] \"Brain_Putamen_basal_ganglia\"          \n",
       "[18] \"Brain_Spinal_cord_cervical_c-1\"       \n",
       "[19] \"Brain_Substantia_nigra\"               \n",
       "[20] \"Breast_Mammary_Tissue\"                \n",
       "[21] \"Cells_Cultured_fibroblasts\"           \n",
       "[22] \"Cells_EBV-transformed_lymphocytes\"    \n",
       "[23] \"Colon_Sigmoid\"                        \n",
       "[24] \"Colon_Transverse\"                     \n",
       "[25] \"Esophagus_Gastroesophageal_Junction\"  \n",
       "[26] \"Esophagus_Mucosa\"                     \n",
       "[27] \"Esophagus_Muscularis\"                 \n",
       "[28] \"Heart_Atrial_Appendage\"               \n",
       "[29] \"Heart_Left_Ventricle\"                 \n",
       "[30] \"Kidney_Cortex\"                        \n",
       "[31] \"Liver\"                                \n",
       "[32] \"Lung\"                                 \n",
       "[33] \"Minor_Salivary_Gland\"                 \n",
       "[34] \"Muscle_Skeletal\"                      \n",
       "[35] \"Nerve_Tibial\"                         \n",
       "[36] \"Ovary\"                                \n",
       "[37] \"Pancreas\"                             \n",
       "[38] \"Pituitary\"                            \n",
       "[39] \"Prostate\"                             \n",
       "[40] \"Skin_Not_Sun_Exposed_Suprapubic\"      \n",
       "[41] \"Skin_Sun_Exposed_Lower_leg\"           \n",
       "[42] \"Small_Intestine_Terminal_Ileum\"       \n",
       "[43] \"Spleen\"                               \n",
       "[44] \"Stomach\"                              \n",
       "[45] \"Testis\"                               \n",
       "[46] \"Thyroid\"                              \n",
       "[47] \"Uterus\"                               \n",
       "[48] \"Vagina\"                               \n",
       "[49] \"Whole_Blood\"                          "
      ]
     },
     "metadata": {},
     "output_type": "display_data"
    }
   ],
   "source": [
    "names(exp_list)"
   ]
  },
  {
   "cell_type": "code",
   "execution_count": 11,
   "metadata": {},
   "outputs": [
    {
     "data": {
      "text/html": [
       "<table>\n",
       "<caption>A data.table: 6 × 6</caption>\n",
       "<thead>\n",
       "\t<tr><th scope=col>#chr</th><th scope=col>start</th><th scope=col>end</th><th scope=col>gene_id</th><th scope=col>GTEX-1117F</th><th scope=col>GTEX-111CU</th></tr>\n",
       "\t<tr><th scope=col>&lt;chr&gt;</th><th scope=col>&lt;int&gt;</th><th scope=col>&lt;int&gt;</th><th scope=col>&lt;chr&gt;</th><th scope=col>&lt;dbl&gt;</th><th scope=col>&lt;dbl&gt;</th></tr>\n",
       "</thead>\n",
       "<tbody>\n",
       "\t<tr><td>chr1</td><td> 29552</td><td> 29553</td><td>ENSG00000227232.5</td><td> 1.31353292</td><td>-0.9007945</td></tr>\n",
       "\t<tr><td>chr1</td><td>135894</td><td>135895</td><td>ENSG00000268903.1</td><td>-0.39787592</td><td> 0.5724601</td></tr>\n",
       "\t<tr><td>chr1</td><td>137964</td><td>137965</td><td>ENSG00000269981.1</td><td> 0.06033348</td><td> 0.9953057</td></tr>\n",
       "\t<tr><td>chr1</td><td>173861</td><td>173862</td><td>ENSG00000241860.6</td><td> 0.22586574</td><td>-0.8197281</td></tr>\n",
       "\t<tr><td>chr1</td><td>195410</td><td>195411</td><td>ENSG00000279457.4</td><td> 0.29268956</td><td>-1.0023984</td></tr>\n",
       "\t<tr><td>chr1</td><td>297501</td><td>297502</td><td>ENSG00000228463.9</td><td>-0.53232385</td><td> 0.4165933</td></tr>\n",
       "</tbody>\n",
       "</table>\n"
      ],
      "text/latex": [
       "A data.table: 6 × 6\n",
       "\\begin{tabular}{llllll}\n",
       " \\#chr & start & end & gene\\_id & GTEX-1117F & GTEX-111CU\\\\\n",
       " <chr> & <int> & <int> & <chr> & <dbl> & <dbl>\\\\\n",
       "\\hline\n",
       "\t chr1 &  29552 &  29553 & ENSG00000227232.5 &  1.31353292 & -0.9007945\\\\\n",
       "\t chr1 & 135894 & 135895 & ENSG00000268903.1 & -0.39787592 &  0.5724601\\\\\n",
       "\t chr1 & 137964 & 137965 & ENSG00000269981.1 &  0.06033348 &  0.9953057\\\\\n",
       "\t chr1 & 173861 & 173862 & ENSG00000241860.6 &  0.22586574 & -0.8197281\\\\\n",
       "\t chr1 & 195410 & 195411 & ENSG00000279457.4 &  0.29268956 & -1.0023984\\\\\n",
       "\t chr1 & 297501 & 297502 & ENSG00000228463.9 & -0.53232385 &  0.4165933\\\\\n",
       "\\end{tabular}\n"
      ],
      "text/markdown": [
       "\n",
       "A data.table: 6 × 6\n",
       "\n",
       "| #chr &lt;chr&gt; | start &lt;int&gt; | end &lt;int&gt; | gene_id &lt;chr&gt; | GTEX-1117F &lt;dbl&gt; | GTEX-111CU &lt;dbl&gt; |\n",
       "|---|---|---|---|---|---|\n",
       "| chr1 |  29552 |  29553 | ENSG00000227232.5 |  1.31353292 | -0.9007945 |\n",
       "| chr1 | 135894 | 135895 | ENSG00000268903.1 | -0.39787592 |  0.5724601 |\n",
       "| chr1 | 137964 | 137965 | ENSG00000269981.1 |  0.06033348 |  0.9953057 |\n",
       "| chr1 | 173861 | 173862 | ENSG00000241860.6 |  0.22586574 | -0.8197281 |\n",
       "| chr1 | 195410 | 195411 | ENSG00000279457.4 |  0.29268956 | -1.0023984 |\n",
       "| chr1 | 297501 | 297502 | ENSG00000228463.9 | -0.53232385 |  0.4165933 |\n",
       "\n"
      ],
      "text/plain": [
       "  #chr start  end    gene_id           GTEX-1117F  GTEX-111CU\n",
       "1 chr1  29552  29553 ENSG00000227232.5  1.31353292 -0.9007945\n",
       "2 chr1 135894 135895 ENSG00000268903.1 -0.39787592  0.5724601\n",
       "3 chr1 137964 137965 ENSG00000269981.1  0.06033348  0.9953057\n",
       "4 chr1 173861 173862 ENSG00000241860.6  0.22586574 -0.8197281\n",
       "5 chr1 195410 195411 ENSG00000279457.4  0.29268956 -1.0023984\n",
       "6 chr1 297501 297502 ENSG00000228463.9 -0.53232385  0.4165933"
      ]
     },
     "metadata": {},
     "output_type": "display_data"
    }
   ],
   "source": [
    "exp_list[[\"Adipose_Subcutaneous\"]][1:6, 1:6]"
   ]
  },
  {
   "cell_type": "code",
   "execution_count": null,
   "metadata": {},
   "outputs": [],
   "source": [
    "exp_list[[\"Adipose_Subcutaneous\"]]$#"
   ]
  },
  {
   "cell_type": "code",
   "execution_count": null,
   "metadata": {},
   "outputs": [],
   "source": [
    "output_path <- \"/gpfs/project/zhao/zy92/GTEX/expr_normalized/\""
   ]
  },
  {
   "cell_type": "code",
   "execution_count": 13,
   "metadata": {},
   "outputs": [
    {
     "data": {
      "text/html": [
       "49"
      ],
      "text/latex": [
       "49"
      ],
      "text/markdown": [
       "49"
      ],
      "text/plain": [
       "[1] 49"
      ]
     },
     "metadata": {},
     "output_type": "display_data"
    }
   ],
   "source": [
    "length(file_vec)"
   ]
  },
  {
   "cell_type": "code",
   "execution_count": 25,
   "metadata": {},
   "outputs": [
    {
     "data": {
      "text/html": [
       "<style>\n",
       ".list-inline {list-style: none; margin:0; padding: 0}\n",
       ".list-inline>li {display: inline-block}\n",
       ".list-inline>li:not(:last-child)::after {content: \"\\00b7\"; padding: 0 .5ex}\n",
       "</style>\n",
       "<ol class=list-inline><li>'chr1'</li><li>'chr2'</li><li>'chr3'</li><li>'chr4'</li><li>'chr5'</li><li>'chr6'</li><li>'chr7'</li><li>'chr8'</li><li>'chr9'</li><li>'chr10'</li><li>'chr11'</li><li>'chr12'</li><li>'chr13'</li><li>'chr14'</li><li>'chr15'</li><li>'chr16'</li><li>'chr17'</li><li>'chr18'</li><li>'chr19'</li><li>'chr20'</li><li>'chr21'</li><li>'chr22'</li><li>'chrX'</li></ol>\n"
      ],
      "text/latex": [
       "\\begin{enumerate*}\n",
       "\\item 'chr1'\n",
       "\\item 'chr2'\n",
       "\\item 'chr3'\n",
       "\\item 'chr4'\n",
       "\\item 'chr5'\n",
       "\\item 'chr6'\n",
       "\\item 'chr7'\n",
       "\\item 'chr8'\n",
       "\\item 'chr9'\n",
       "\\item 'chr10'\n",
       "\\item 'chr11'\n",
       "\\item 'chr12'\n",
       "\\item 'chr13'\n",
       "\\item 'chr14'\n",
       "\\item 'chr15'\n",
       "\\item 'chr16'\n",
       "\\item 'chr17'\n",
       "\\item 'chr18'\n",
       "\\item 'chr19'\n",
       "\\item 'chr20'\n",
       "\\item 'chr21'\n",
       "\\item 'chr22'\n",
       "\\item 'chrX'\n",
       "\\end{enumerate*}\n"
      ],
      "text/markdown": [
       "1. 'chr1'\n",
       "2. 'chr2'\n",
       "3. 'chr3'\n",
       "4. 'chr4'\n",
       "5. 'chr5'\n",
       "6. 'chr6'\n",
       "7. 'chr7'\n",
       "8. 'chr8'\n",
       "9. 'chr9'\n",
       "10. 'chr10'\n",
       "11. 'chr11'\n",
       "12. 'chr12'\n",
       "13. 'chr13'\n",
       "14. 'chr14'\n",
       "15. 'chr15'\n",
       "16. 'chr16'\n",
       "17. 'chr17'\n",
       "18. 'chr18'\n",
       "19. 'chr19'\n",
       "20. 'chr20'\n",
       "21. 'chr21'\n",
       "22. 'chr22'\n",
       "23. 'chrX'\n",
       "\n",
       "\n"
      ],
      "text/plain": [
       " [1] \"chr1\"  \"chr2\"  \"chr3\"  \"chr4\"  \"chr5\"  \"chr6\"  \"chr7\"  \"chr8\"  \"chr9\" \n",
       "[10] \"chr10\" \"chr11\" \"chr12\" \"chr13\" \"chr14\" \"chr15\" \"chr16\" \"chr17\" \"chr18\"\n",
       "[19] \"chr19\" \"chr20\" \"chr21\" \"chr22\" \"chrX\" "
      ]
     },
     "metadata": {},
     "output_type": "display_data"
    }
   ],
   "source": [
    "unique(tissue_exp$chr)"
   ]
  },
  {
   "cell_type": "code",
   "execution_count": null,
   "metadata": {},
   "outputs": [],
   "source": [
    "for (chr in c(1:22, \"X\", \"Y\")) {\n",
    "        output_path_chr <- paste0(output_path, \"chr\", i, \"/\")\n",
    "        print(output_path_chr)\n",
    "        if (!dir.exists(output_path_chr)) {\n",
    "            dir.create(output_path_chr)\n",
    "        }\n",
    "    }"
   ]
  },
  {
   "cell_type": "code",
   "execution_count": 27,
   "metadata": {},
   "outputs": [
    {
     "data": {
      "text/html": [
       "INFO: 0.811 % processed."
      ]
     },
     "metadata": {},
     "output_type": "display_data"
    },
    {
     "data": {
      "text/html": [
       "INFO: 1.622 % processed."
      ]
     },
     "metadata": {},
     "output_type": "display_data"
    },
    {
     "data": {
      "text/html": [
       "INFO: 2.433 % processed."
      ]
     },
     "metadata": {},
     "output_type": "display_data"
    },
    {
     "data": {
      "text/html": [
       "INFO: 3.243 % processed."
      ]
     },
     "metadata": {},
     "output_type": "display_data"
    },
    {
     "data": {
      "text/html": [
       "INFO: 4.054 % processed."
      ]
     },
     "metadata": {},
     "output_type": "display_data"
    },
    {
     "data": {
      "text/html": [
       "INFO: 4.865 % processed."
      ]
     },
     "metadata": {},
     "output_type": "display_data"
    },
    {
     "data": {
      "text/html": [
       "INFO: 5.676 % processed."
      ]
     },
     "metadata": {},
     "output_type": "display_data"
    },
    {
     "data": {
      "text/html": [
       "INFO: 6.487 % processed."
      ]
     },
     "metadata": {},
     "output_type": "display_data"
    },
    {
     "data": {
      "text/html": [
       "INFO: 7.298 % processed."
      ]
     },
     "metadata": {},
     "output_type": "display_data"
    },
    {
     "data": {
      "text/html": [
       "INFO: 8.109 % processed."
      ]
     },
     "metadata": {},
     "output_type": "display_data"
    },
    {
     "data": {
      "text/html": [
       "INFO: 8.92 % processed."
      ]
     },
     "metadata": {},
     "output_type": "display_data"
    },
    {
     "data": {
      "text/html": [
       "INFO: 9.73 % processed."
      ]
     },
     "metadata": {},
     "output_type": "display_data"
    },
    {
     "data": {
      "text/html": [
       "INFO: 10.541 % processed."
      ]
     },
     "metadata": {},
     "output_type": "display_data"
    },
    {
     "data": {
      "text/html": [
       "INFO: 11.352 % processed."
      ]
     },
     "metadata": {},
     "output_type": "display_data"
    },
    {
     "data": {
      "text/html": [
       "INFO: 12.163 % processed."
      ]
     },
     "metadata": {},
     "output_type": "display_data"
    },
    {
     "data": {
      "text/html": [
       "INFO: 12.974 % processed."
      ]
     },
     "metadata": {},
     "output_type": "display_data"
    },
    {
     "data": {
      "text/html": [
       "INFO: 13.785 % processed."
      ]
     },
     "metadata": {},
     "output_type": "display_data"
    },
    {
     "data": {
      "text/html": [
       "INFO: 14.596 % processed."
      ]
     },
     "metadata": {},
     "output_type": "display_data"
    },
    {
     "data": {
      "text/html": [
       "INFO: 15.406 % processed."
      ]
     },
     "metadata": {},
     "output_type": "display_data"
    },
    {
     "data": {
      "text/html": [
       "INFO: 16.217 % processed."
      ]
     },
     "metadata": {},
     "output_type": "display_data"
    },
    {
     "data": {
      "text/html": [
       "INFO: 17.028 % processed."
      ]
     },
     "metadata": {},
     "output_type": "display_data"
    },
    {
     "data": {
      "text/html": [
       "INFO: 17.839 % processed."
      ]
     },
     "metadata": {},
     "output_type": "display_data"
    },
    {
     "data": {
      "text/html": [
       "INFO: 18.65 % processed."
      ]
     },
     "metadata": {},
     "output_type": "display_data"
    },
    {
     "data": {
      "text/html": [
       "INFO: 19.461 % processed."
      ]
     },
     "metadata": {},
     "output_type": "display_data"
    },
    {
     "data": {
      "text/html": [
       "INFO: 20.272 % processed."
      ]
     },
     "metadata": {},
     "output_type": "display_data"
    },
    {
     "data": {
      "text/html": [
       "INFO: 21.083 % processed."
      ]
     },
     "metadata": {},
     "output_type": "display_data"
    },
    {
     "data": {
      "text/html": [
       "INFO: 21.893 % processed."
      ]
     },
     "metadata": {},
     "output_type": "display_data"
    },
    {
     "data": {
      "text/html": [
       "INFO: 22.704 % processed."
      ]
     },
     "metadata": {},
     "output_type": "display_data"
    },
    {
     "data": {
      "text/html": [
       "INFO: 23.515 % processed."
      ]
     },
     "metadata": {},
     "output_type": "display_data"
    },
    {
     "data": {
      "text/html": [
       "INFO: 24.326 % processed."
      ]
     },
     "metadata": {},
     "output_type": "display_data"
    },
    {
     "data": {
      "text/html": [
       "INFO: 25.137 % processed."
      ]
     },
     "metadata": {},
     "output_type": "display_data"
    },
    {
     "data": {
      "text/html": [
       "INFO: 25.948 % processed."
      ]
     },
     "metadata": {},
     "output_type": "display_data"
    },
    {
     "data": {
      "text/html": [
       "INFO: 26.759 % processed."
      ]
     },
     "metadata": {},
     "output_type": "display_data"
    },
    {
     "data": {
      "text/html": [
       "INFO: 27.569 % processed."
      ]
     },
     "metadata": {},
     "output_type": "display_data"
    },
    {
     "data": {
      "text/html": [
       "INFO: 28.38 % processed."
      ]
     },
     "metadata": {},
     "output_type": "display_data"
    },
    {
     "data": {
      "text/html": [
       "INFO: 29.191 % processed."
      ]
     },
     "metadata": {},
     "output_type": "display_data"
    },
    {
     "data": {
      "text/html": [
       "INFO: 30.002 % processed."
      ]
     },
     "metadata": {},
     "output_type": "display_data"
    },
    {
     "data": {
      "text/html": [
       "INFO: 30.813 % processed."
      ]
     },
     "metadata": {},
     "output_type": "display_data"
    },
    {
     "data": {
      "text/html": [
       "INFO: 31.624 % processed."
      ]
     },
     "metadata": {},
     "output_type": "display_data"
    },
    {
     "data": {
      "text/html": [
       "INFO: 32.435 % processed."
      ]
     },
     "metadata": {},
     "output_type": "display_data"
    },
    {
     "data": {
      "text/html": [
       "INFO: 33.245 % processed."
      ]
     },
     "metadata": {},
     "output_type": "display_data"
    },
    {
     "data": {
      "text/html": [
       "INFO: 34.056 % processed."
      ]
     },
     "metadata": {},
     "output_type": "display_data"
    },
    {
     "data": {
      "text/html": [
       "INFO: 34.867 % processed."
      ]
     },
     "metadata": {},
     "output_type": "display_data"
    },
    {
     "data": {
      "text/html": [
       "INFO: 35.678 % processed."
      ]
     },
     "metadata": {},
     "output_type": "display_data"
    },
    {
     "data": {
      "text/html": [
       "INFO: 36.489 % processed."
      ]
     },
     "metadata": {},
     "output_type": "display_data"
    },
    {
     "data": {
      "text/html": [
       "INFO: 37.3 % processed."
      ]
     },
     "metadata": {},
     "output_type": "display_data"
    },
    {
     "data": {
      "text/html": [
       "INFO: 38.111 % processed."
      ]
     },
     "metadata": {},
     "output_type": "display_data"
    },
    {
     "data": {
      "text/html": [
       "INFO: 38.922 % processed."
      ]
     },
     "metadata": {},
     "output_type": "display_data"
    },
    {
     "data": {
      "text/html": [
       "INFO: 39.732 % processed."
      ]
     },
     "metadata": {},
     "output_type": "display_data"
    },
    {
     "data": {
      "text/html": [
       "INFO: 40.543 % processed."
      ]
     },
     "metadata": {},
     "output_type": "display_data"
    },
    {
     "data": {
      "text/html": [
       "INFO: 41.354 % processed."
      ]
     },
     "metadata": {},
     "output_type": "display_data"
    },
    {
     "data": {
      "text/html": [
       "INFO: 42.165 % processed."
      ]
     },
     "metadata": {},
     "output_type": "display_data"
    },
    {
     "data": {
      "text/html": [
       "INFO: 42.976 % processed."
      ]
     },
     "metadata": {},
     "output_type": "display_data"
    },
    {
     "data": {
      "text/html": [
       "INFO: 43.787 % processed."
      ]
     },
     "metadata": {},
     "output_type": "display_data"
    },
    {
     "data": {
      "text/html": [
       "INFO: 44.598 % processed."
      ]
     },
     "metadata": {},
     "output_type": "display_data"
    },
    {
     "data": {
      "text/html": [
       "INFO: 45.408 % processed."
      ]
     },
     "metadata": {},
     "output_type": "display_data"
    },
    {
     "data": {
      "text/html": [
       "INFO: 46.219 % processed."
      ]
     },
     "metadata": {},
     "output_type": "display_data"
    },
    {
     "data": {
      "text/html": [
       "INFO: 47.03 % processed."
      ]
     },
     "metadata": {},
     "output_type": "display_data"
    },
    {
     "data": {
      "text/html": [
       "INFO: 47.841 % processed."
      ]
     },
     "metadata": {},
     "output_type": "display_data"
    },
    {
     "data": {
      "text/html": [
       "INFO: 48.652 % processed."
      ]
     },
     "metadata": {},
     "output_type": "display_data"
    },
    {
     "data": {
      "text/html": [
       "INFO: 49.463 % processed."
      ]
     },
     "metadata": {},
     "output_type": "display_data"
    },
    {
     "data": {
      "text/html": [
       "INFO: 50.274 % processed."
      ]
     },
     "metadata": {},
     "output_type": "display_data"
    },
    {
     "data": {
      "text/html": [
       "INFO: 51.085 % processed."
      ]
     },
     "metadata": {},
     "output_type": "display_data"
    },
    {
     "data": {
      "text/html": [
       "INFO: 51.895 % processed."
      ]
     },
     "metadata": {},
     "output_type": "display_data"
    },
    {
     "data": {
      "text/html": [
       "INFO: 52.706 % processed."
      ]
     },
     "metadata": {},
     "output_type": "display_data"
    },
    {
     "data": {
      "text/html": [
       "INFO: 53.517 % processed."
      ]
     },
     "metadata": {},
     "output_type": "display_data"
    },
    {
     "data": {
      "text/html": [
       "INFO: 54.328 % processed."
      ]
     },
     "metadata": {},
     "output_type": "display_data"
    },
    {
     "data": {
      "text/html": [
       "INFO: 55.139 % processed."
      ]
     },
     "metadata": {},
     "output_type": "display_data"
    },
    {
     "data": {
      "text/html": [
       "INFO: 55.95 % processed."
      ]
     },
     "metadata": {},
     "output_type": "display_data"
    },
    {
     "data": {
      "text/html": [
       "INFO: 56.761 % processed."
      ]
     },
     "metadata": {},
     "output_type": "display_data"
    },
    {
     "data": {
      "text/html": [
       "INFO: 57.571 % processed."
      ]
     },
     "metadata": {},
     "output_type": "display_data"
    },
    {
     "data": {
      "text/html": [
       "INFO: 58.382 % processed."
      ]
     },
     "metadata": {},
     "output_type": "display_data"
    },
    {
     "data": {
      "text/html": [
       "INFO: 59.193 % processed."
      ]
     },
     "metadata": {},
     "output_type": "display_data"
    },
    {
     "data": {
      "text/html": [
       "INFO: 60.004 % processed."
      ]
     },
     "metadata": {},
     "output_type": "display_data"
    },
    {
     "data": {
      "text/html": [
       "INFO: 60.815 % processed."
      ]
     },
     "metadata": {},
     "output_type": "display_data"
    },
    {
     "data": {
      "text/html": [
       "INFO: 61.626 % processed."
      ]
     },
     "metadata": {},
     "output_type": "display_data"
    },
    {
     "data": {
      "text/html": [
       "INFO: 62.437 % processed."
      ]
     },
     "metadata": {},
     "output_type": "display_data"
    },
    {
     "data": {
      "text/html": [
       "INFO: 63.248 % processed."
      ]
     },
     "metadata": {},
     "output_type": "display_data"
    },
    {
     "data": {
      "text/html": [
       "INFO: 64.058 % processed."
      ]
     },
     "metadata": {},
     "output_type": "display_data"
    },
    {
     "data": {
      "text/html": [
       "INFO: 64.869 % processed."
      ]
     },
     "metadata": {},
     "output_type": "display_data"
    },
    {
     "data": {
      "text/html": [
       "INFO: 65.68 % processed."
      ]
     },
     "metadata": {},
     "output_type": "display_data"
    },
    {
     "data": {
      "text/html": [
       "INFO: 66.491 % processed."
      ]
     },
     "metadata": {},
     "output_type": "display_data"
    },
    {
     "data": {
      "text/html": [
       "INFO: 67.302 % processed."
      ]
     },
     "metadata": {},
     "output_type": "display_data"
    },
    {
     "data": {
      "text/html": [
       "INFO: 68.113 % processed."
      ]
     },
     "metadata": {},
     "output_type": "display_data"
    },
    {
     "data": {
      "text/html": [
       "INFO: 68.924 % processed."
      ]
     },
     "metadata": {},
     "output_type": "display_data"
    },
    {
     "data": {
      "text/html": [
       "INFO: 69.734 % processed."
      ]
     },
     "metadata": {},
     "output_type": "display_data"
    },
    {
     "data": {
      "text/html": [
       "INFO: 70.545 % processed."
      ]
     },
     "metadata": {},
     "output_type": "display_data"
    },
    {
     "data": {
      "text/html": [
       "INFO: 71.356 % processed."
      ]
     },
     "metadata": {},
     "output_type": "display_data"
    },
    {
     "data": {
      "text/html": [
       "INFO: 72.167 % processed."
      ]
     },
     "metadata": {},
     "output_type": "display_data"
    },
    {
     "data": {
      "text/html": [
       "INFO: 72.978 % processed."
      ]
     },
     "metadata": {},
     "output_type": "display_data"
    },
    {
     "data": {
      "text/html": [
       "INFO: 73.789 % processed."
      ]
     },
     "metadata": {},
     "output_type": "display_data"
    },
    {
     "data": {
      "text/html": [
       "INFO: 74.6 % processed."
      ]
     },
     "metadata": {},
     "output_type": "display_data"
    },
    {
     "data": {
      "text/html": [
       "INFO: 75.411 % processed."
      ]
     },
     "metadata": {},
     "output_type": "display_data"
    },
    {
     "data": {
      "text/html": [
       "INFO: 76.221 % processed."
      ]
     },
     "metadata": {},
     "output_type": "display_data"
    },
    {
     "data": {
      "text/html": [
       "INFO: 77.032 % processed."
      ]
     },
     "metadata": {},
     "output_type": "display_data"
    },
    {
     "data": {
      "text/html": [
       "INFO: 77.843 % processed."
      ]
     },
     "metadata": {},
     "output_type": "display_data"
    },
    {
     "data": {
      "text/html": [
       "INFO: 78.654 % processed."
      ]
     },
     "metadata": {},
     "output_type": "display_data"
    },
    {
     "data": {
      "text/html": [
       "INFO: 79.465 % processed."
      ]
     },
     "metadata": {},
     "output_type": "display_data"
    },
    {
     "data": {
      "text/html": [
       "INFO: 80.276 % processed."
      ]
     },
     "metadata": {},
     "output_type": "display_data"
    },
    {
     "data": {
      "text/html": [
       "INFO: 81.087 % processed."
      ]
     },
     "metadata": {},
     "output_type": "display_data"
    },
    {
     "data": {
      "text/html": [
       "INFO: 81.897 % processed."
      ]
     },
     "metadata": {},
     "output_type": "display_data"
    },
    {
     "data": {
      "text/html": [
       "INFO: 82.708 % processed."
      ]
     },
     "metadata": {},
     "output_type": "display_data"
    },
    {
     "data": {
      "text/html": [
       "INFO: 83.519 % processed."
      ]
     },
     "metadata": {},
     "output_type": "display_data"
    },
    {
     "data": {
      "text/html": [
       "INFO: 84.33 % processed."
      ]
     },
     "metadata": {},
     "output_type": "display_data"
    },
    {
     "data": {
      "text/html": [
       "INFO: 85.141 % processed."
      ]
     },
     "metadata": {},
     "output_type": "display_data"
    },
    {
     "data": {
      "text/html": [
       "INFO: 85.952 % processed."
      ]
     },
     "metadata": {},
     "output_type": "display_data"
    },
    {
     "data": {
      "text/html": [
       "INFO: 86.763 % processed."
      ]
     },
     "metadata": {},
     "output_type": "display_data"
    },
    {
     "data": {
      "text/html": [
       "INFO: 87.573 % processed."
      ]
     },
     "metadata": {},
     "output_type": "display_data"
    },
    {
     "data": {
      "text/html": [
       "INFO: 88.384 % processed."
      ]
     },
     "metadata": {},
     "output_type": "display_data"
    },
    {
     "data": {
      "text/html": [
       "INFO: 89.195 % processed."
      ]
     },
     "metadata": {},
     "output_type": "display_data"
    },
    {
     "data": {
      "text/html": [
       "INFO: 90.006 % processed."
      ]
     },
     "metadata": {},
     "output_type": "display_data"
    },
    {
     "data": {
      "text/html": [
       "INFO: 90.817 % processed."
      ]
     },
     "metadata": {},
     "output_type": "display_data"
    },
    {
     "data": {
      "text/html": [
       "INFO: 91.628 % processed."
      ]
     },
     "metadata": {},
     "output_type": "display_data"
    },
    {
     "data": {
      "text/html": [
       "INFO: 92.439 % processed."
      ]
     },
     "metadata": {},
     "output_type": "display_data"
    },
    {
     "data": {
      "text/html": [
       "INFO: 93.25 % processed."
      ]
     },
     "metadata": {},
     "output_type": "display_data"
    },
    {
     "data": {
      "text/html": [
       "INFO: 94.06 % processed."
      ]
     },
     "metadata": {},
     "output_type": "display_data"
    },
    {
     "data": {
      "text/html": [
       "INFO: 94.871 % processed."
      ]
     },
     "metadata": {},
     "output_type": "display_data"
    },
    {
     "data": {
      "text/html": [
       "INFO: 95.682 % processed."
      ]
     },
     "metadata": {},
     "output_type": "display_data"
    },
    {
     "data": {
      "text/html": [
       "INFO: 96.493 % processed."
      ]
     },
     "metadata": {},
     "output_type": "display_data"
    },
    {
     "name": "stderr",
     "output_type": "stream",
     "text": [
      "Warning message in dir.create(gene_dir):\n",
      "“cannot create dir '/gpfs/project/zhao/zy92/GTEX/expr_normalized//chrX/ENSG00000182378.13', reason 'No such file or directory'”\n",
      "Warning message in file(file, ifelse(append, \"a\", \"w\")):\n",
      "“cannot open file '/gpfs/project/zhao/zy92/GTEX/expr_normalized//chrX/ENSG00000182378.13/Adipose_Subcutaneous.txt': No such file or directory”\n"
     ]
    },
    {
     "ename": "ERROR",
     "evalue": "Error in file(file, ifelse(append, \"a\", \"w\")): cannot open the connection\n",
     "output_type": "error",
     "traceback": [
      "Error in file(file, ifelse(append, \"a\", \"w\")): cannot open the connection\nTraceback:\n",
      "1. write.table(tmp_df, file = tissue_file_name, row.names = F, col.names = F, \n .     quote = F)",
      "2. file(file, ifelse(append, \"a\", \"w\"))"
     ]
    }
   ],
   "source": [
    "\n",
    "library(data.table)\n",
    "library(dplyr)\n",
    "\n",
    "# arguments\n",
    "args = commandArgs(trailingOnly=TRUE)\n",
    "task_index = args[1] ## a file contains task index\n",
    "#task_index = 1 ## a file contains task index\n",
    "\n",
    "\n",
    "output_path <- \"/gpfs/project/zhao/zy92/GTEX/expr_normalized/\" ## path for saving outputs of tasks\n",
    "## e.g. Rscript --vanilla extract_raw_expression.R chr_idx \n",
    "\n",
    "# exp files \n",
    "file_vec <- dir(\"/ysm-gpfs/pi/zhao-data/zy92/GTEx_V8/GTEx_Analysis_v8_eQTL_expression_matrices\",\n",
    "               pattern = \"*.bed$\")\n",
    "tissue_vec <- as.character(sapply(file_vec, function(x) unlist(strsplit(x, \"\\\\.\"))[1]))\n",
    "exp_list <- list()\n",
    "for (i in 1:length(tissue_vec)) {\n",
    "    exp_list[[tissue_vec[i]]] <- fread(paste0(\"/ysm-gpfs/pi/zhao-data/zy92/GTEx_V8/GTEx_Analysis_v8_eQTL_expression_matrices/\", \n",
    "                                            tissue_vec[i], \n",
    "                                           \".v8.normalized_expression.bed\"))\n",
    "}                                  \n",
    "\n",
    "# extract the expression level and save in the directory\n",
    "# loop over tissue\n",
    "start_time <- Sys.time()\n",
    "                               \n",
    "for (i in 1) {   \n",
    "    \n",
    "    # create the chr path\n",
    "    for (chr in c(1:22, \"X\", \"Y\")) {\n",
    "        output_path_chr <- paste0(output_path, \"chr\", i, \"/\")\n",
    "        if (!dir.exists(output_path_chr)) {\n",
    "            dir.create(output_path_chr)\n",
    "        }\n",
    "    }\n",
    "    \n",
    "    # \n",
    "    tissue <- tissue_vec[i]\n",
    "    tissue_exp <- exp_list[[tissue]]\n",
    "    n_gene <- nrow(tissue_exp)\n",
    "    id_vec <- colnames(tissue_exp)[5:ncol(tissue_exp)]\n",
    "    colnames(tissue_exp)[1] <- \"chr\"\n",
    "    for (j in 1:n_gene) {\n",
    "        # info\n",
    "        if (j %% 500 == 0) { \n",
    "            IRdisplay::display_html(paste0(\"INFO: \", round(j*100/n_gene, 3), \" % processed.\")) \n",
    "        }\n",
    "        chr <- tissue_exp[j, 1]\n",
    "        gene <- tissue_exp[j, 4]\n",
    "        tmp_df <- data.frame(id = id_vec, exp = as.numeric(tissue_exp[j, 5:ncol(tissue_exp)]))\n",
    "    \n",
    "        gene_dir <- paste0(output_path, \"/\", chr, \"/\", gene)\n",
    "        tissue_file_name <- paste0(output_path, \"/\", chr, \"/\", gene, \"/\", tissue, \".txt\")\n",
    "        if (!dir.exists(gene_dir)) {\n",
    "            dir.create(gene_dir)\n",
    "        }\n",
    "            \n",
    "        write.table(tmp_df, file = tissue_file_name, row.names = F, col.names = F, quote = F)\n",
    "    }\n",
    "\n",
    "\n",
    "}\n",
    "end_time <- Sys.time()\n",
    "\n",
    "end_time - start_time  "
   ]
  },
  {
   "cell_type": "code",
   "execution_count": 28,
   "metadata": {},
   "outputs": [
    {
     "data": {
      "text/html": [
       "<style>\n",
       ".list-inline {list-style: none; margin:0; padding: 0}\n",
       ".list-inline>li {display: inline-block}\n",
       ".list-inline>li:not(:last-child)::after {content: \"\\00b7\"; padding: 0 .5ex}\n",
       "</style>\n",
       "<ol class=list-inline><li>'1'</li><li>'2'</li><li>'3'</li><li>'4'</li><li>'5'</li><li>'6'</li><li>'7'</li><li>'8'</li><li>'9'</li><li>'10'</li><li>'11'</li><li>'12'</li><li>'13'</li><li>'14'</li><li>'15'</li><li>'16'</li><li>'17'</li><li>'18'</li><li>'19'</li><li>'20'</li><li>'21'</li><li>'22'</li><li>'X'</li><li>'Y'</li></ol>\n"
      ],
      "text/latex": [
       "\\begin{enumerate*}\n",
       "\\item '1'\n",
       "\\item '2'\n",
       "\\item '3'\n",
       "\\item '4'\n",
       "\\item '5'\n",
       "\\item '6'\n",
       "\\item '7'\n",
       "\\item '8'\n",
       "\\item '9'\n",
       "\\item '10'\n",
       "\\item '11'\n",
       "\\item '12'\n",
       "\\item '13'\n",
       "\\item '14'\n",
       "\\item '15'\n",
       "\\item '16'\n",
       "\\item '17'\n",
       "\\item '18'\n",
       "\\item '19'\n",
       "\\item '20'\n",
       "\\item '21'\n",
       "\\item '22'\n",
       "\\item 'X'\n",
       "\\item 'Y'\n",
       "\\end{enumerate*}\n"
      ],
      "text/markdown": [
       "1. '1'\n",
       "2. '2'\n",
       "3. '3'\n",
       "4. '4'\n",
       "5. '5'\n",
       "6. '6'\n",
       "7. '7'\n",
       "8. '8'\n",
       "9. '9'\n",
       "10. '10'\n",
       "11. '11'\n",
       "12. '12'\n",
       "13. '13'\n",
       "14. '14'\n",
       "15. '15'\n",
       "16. '16'\n",
       "17. '17'\n",
       "18. '18'\n",
       "19. '19'\n",
       "20. '20'\n",
       "21. '21'\n",
       "22. '22'\n",
       "23. 'X'\n",
       "24. 'Y'\n",
       "\n",
       "\n"
      ],
      "text/plain": [
       " [1] \"1\"  \"2\"  \"3\"  \"4\"  \"5\"  \"6\"  \"7\"  \"8\"  \"9\"  \"10\" \"11\" \"12\" \"13\" \"14\" \"15\"\n",
       "[16] \"16\" \"17\" \"18\" \"19\" \"20\" \"21\" \"22\" \"X\"  \"Y\" "
      ]
     },
     "metadata": {},
     "output_type": "display_data"
    }
   ],
   "source": [
    "c(1:22, \"X\", \"Y\")"
   ]
  },
  {
   "cell_type": "code",
   "execution_count": 21,
   "metadata": {},
   "outputs": [],
   "source": [
    "fileConn <- (\"/gpfs/project/zhao/zy92/utmost_update/utmost_update/code/submit/extract_normalized_expression_task.txt\")\n",
    "for (i in 1:49) {\n",
    "   \n",
    "        write(paste0(\"Rscript --vanila /gpfs/project/zhao/zy92/utmost_update/utmost_update/code/R/extract_normalized_expression.R \", i), file = fileConn, append = T)\n",
    "        \n",
    "\n",
    "}\n",
    "\n"
   ]
  },
  {
   "cell_type": "code",
   "execution_count": 14,
   "metadata": {},
   "outputs": [
    {
     "data": {
      "text/html": [
       "'/gpfs/loomis/project/zhao/zy92/utmost_update/utmost_update/code/R'"
      ],
      "text/latex": [
       "'/gpfs/loomis/project/zhao/zy92/utmost\\_update/utmost\\_update/code/R'"
      ],
      "text/markdown": [
       "'/gpfs/loomis/project/zhao/zy92/utmost_update/utmost_update/code/R'"
      ],
      "text/plain": [
       "[1] \"/gpfs/loomis/project/zhao/zy92/utmost_update/utmost_update/code/R\""
      ]
     },
     "metadata": {},
     "output_type": "display_data"
    }
   ],
   "source": [
    "getwd()"
   ]
  },
  {
   "cell_type": "code",
   "execution_count": 16,
   "metadata": {},
   "outputs": [],
   "source": [
    "dir.create(\"./yeah/\")"
   ]
  },
  {
   "cell_type": "code",
   "execution_count": null,
   "metadata": {},
   "outputs": [],
   "source": [
    "# tissue-specific sample id \n",
    "    id_vec <- list()\n",
    "    for (tissue in tissue_vec_target) {\n",
    "        id_vec[[tissue]] <- colnames(expression_list_target_chr[[tissue]])[8:(7+as.numeric(n_sample[[tissue]]))]\n",
    "\n",
    "    }\n",
    "    # loop over gene\n",
    "    #gene2idx <- list()\n",
    "    #idx <- match(gene, )\n",
    "    for (j in 1:length(gene_vec)) {\n",
    "    #for (j in 1:1) {\n",
    "        gene <- gene_vec[j]\n",
    "        # watch the process\n",
    "        if (j %% 100 == 0) { \n",
    "            print(paste0(\"INFO: \", round(j*100/length(gene_vec), 3), \" % processed.\")) \n",
    "        }\n",
    "        output_path_chr_gene <- paste0(output_path_chr, gene)\n",
    "        if (!dir.exists(output_path_chr_gene)) {\n",
    "            dir.create(output_path_chr_gene)\n",
    "        } \n",
    "        \n",
    "        # loop over tissue\n",
    "        for (tissue in tissue_vec_target) {\n",
    "            tissue_file_name <- paste0(output_path_chr_gene, \"/\", tissue, \".txt\")\n",
    "            #exp_vec <- expression_list_target_chr[[tissue]] %>% \n",
    "                #filter(ensembl_gene_id == gene)\n",
    "            exp_vec <- expression_list_target_chr[[tissue]][j,]\n",
    "            #print(dim(exp_vec))\n",
    "            #print(n_sample[[tissue]])\n",
    "            #print(exp_vec[, 1:20])\n",
    "            exp_vec <- as.numeric(exp_vec[,8:(7+as.numeric(n_sample[[tissue]]))])\n",
    "            #print(head(exp_vec))\n",
    "            #id_vec <- colnames(expression_list_target_chr[[tissue]])[8:(7+as.numeric(n_sample[[tissue]]))]\n",
    "            output_df <- data.frame(id = id_vec[[tissue]], exp = exp_vec)\n",
    "            write.table(output_df, file = tissue_file_name, row.names = F, col.names = F, quote = F)\n",
    "        }"
   ]
  },
  {
   "cell_type": "code",
   "execution_count": null,
   "metadata": {},
   "outputs": [],
   "source": []
  }
 ],
 "metadata": {
  "kernelspec": {
   "display_name": "R",
   "language": "R",
   "name": "ir"
  },
  "language_info": {
   "codemirror_mode": "r",
   "file_extension": ".r",
   "mimetype": "text/x-r-source",
   "name": "R",
   "pygments_lexer": "r",
   "version": "3.5.0"
  }
 },
 "nbformat": 4,
 "nbformat_minor": 4
}
