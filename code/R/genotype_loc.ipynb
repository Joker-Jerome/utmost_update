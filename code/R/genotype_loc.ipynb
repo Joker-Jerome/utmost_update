{
 "cells": [
  {
   "cell_type": "code",
   "execution_count": 1,
   "metadata": {},
   "outputs": [
    {
     "name": "stderr",
     "output_type": "stream",
     "text": [
      "\n",
      "Attaching package: ‘dplyr’\n",
      "\n",
      "\n",
      "The following objects are masked from ‘package:data.table’:\n",
      "\n",
      "    between, first, last\n",
      "\n",
      "\n",
      "The following objects are masked from ‘package:stats’:\n",
      "\n",
      "    filter, lag\n",
      "\n",
      "\n",
      "The following objects are masked from ‘package:base’:\n",
      "\n",
      "    intersect, setdiff, setequal, union\n",
      "\n",
      "\n"
     ]
    }
   ],
   "source": [
    "library(data.table)\n",
    "library(dplyr)\n",
    "library(ggplot2)"
   ]
  },
  {
   "cell_type": "code",
   "execution_count": 2,
   "metadata": {},
   "outputs": [],
   "source": [
    "anno_df <- fread(\"gene_names_noVersion_locs_v8.txt\")"
   ]
  },
  {
   "cell_type": "code",
   "execution_count": 3,
   "metadata": {},
   "outputs": [
    {
     "data": {
      "text/html": [
       "<table>\n",
       "<caption>A data.table: 6 × 7</caption>\n",
       "<thead>\n",
       "\t<tr><th scope=col>Gene stable ID</th><th scope=col>Gene stable ID version</th><th scope=col>Gene name</th><th scope=col>Gene start (bp)</th><th scope=col>Gene end (bp)</th><th scope=col>Chromosome/scaffold name</th><th scope=col>Transcription start site (TSS)</th></tr>\n",
       "\t<tr><th scope=col>&lt;chr&gt;</th><th scope=col>&lt;chr&gt;</th><th scope=col>&lt;chr&gt;</th><th scope=col>&lt;int&gt;</th><th scope=col>&lt;int&gt;</th><th scope=col>&lt;chr&gt;</th><th scope=col>&lt;int&gt;</th></tr>\n",
       "</thead>\n",
       "<tbody>\n",
       "\t<tr><td>ENSG00000210049</td><td>ENSG00000210049.1</td><td>MT-TF  </td><td> 577</td><td> 647</td><td>MT</td><td> 577</td></tr>\n",
       "\t<tr><td>ENSG00000211459</td><td>ENSG00000211459.2</td><td>MT-RNR1</td><td> 648</td><td>1601</td><td>MT</td><td> 648</td></tr>\n",
       "\t<tr><td>ENSG00000210077</td><td>ENSG00000210077.1</td><td>MT-TV  </td><td>1602</td><td>1670</td><td>MT</td><td>1602</td></tr>\n",
       "\t<tr><td>ENSG00000210082</td><td>ENSG00000210082.2</td><td>MT-RNR2</td><td>1671</td><td>3229</td><td>MT</td><td>1671</td></tr>\n",
       "\t<tr><td>ENSG00000209082</td><td>ENSG00000209082.1</td><td>MT-TL1 </td><td>3230</td><td>3304</td><td>MT</td><td>3230</td></tr>\n",
       "\t<tr><td>ENSG00000198888</td><td>ENSG00000198888.2</td><td>MT-ND1 </td><td>3307</td><td>4262</td><td>MT</td><td>3307</td></tr>\n",
       "</tbody>\n",
       "</table>\n"
      ],
      "text/latex": [
       "A data.table: 6 × 7\n",
       "\\begin{tabular}{lllllll}\n",
       " Gene stable ID & Gene stable ID version & Gene name & Gene start (bp) & Gene end (bp) & Chromosome/scaffold name & Transcription start site (TSS)\\\\\n",
       " <chr> & <chr> & <chr> & <int> & <int> & <chr> & <int>\\\\\n",
       "\\hline\n",
       "\t ENSG00000210049 & ENSG00000210049.1 & MT-TF   &  577 &  647 & MT &  577\\\\\n",
       "\t ENSG00000211459 & ENSG00000211459.2 & MT-RNR1 &  648 & 1601 & MT &  648\\\\\n",
       "\t ENSG00000210077 & ENSG00000210077.1 & MT-TV   & 1602 & 1670 & MT & 1602\\\\\n",
       "\t ENSG00000210082 & ENSG00000210082.2 & MT-RNR2 & 1671 & 3229 & MT & 1671\\\\\n",
       "\t ENSG00000209082 & ENSG00000209082.1 & MT-TL1  & 3230 & 3304 & MT & 3230\\\\\n",
       "\t ENSG00000198888 & ENSG00000198888.2 & MT-ND1  & 3307 & 4262 & MT & 3307\\\\\n",
       "\\end{tabular}\n"
      ],
      "text/markdown": [
       "\n",
       "A data.table: 6 × 7\n",
       "\n",
       "| Gene stable ID &lt;chr&gt; | Gene stable ID version &lt;chr&gt; | Gene name &lt;chr&gt; | Gene start (bp) &lt;int&gt; | Gene end (bp) &lt;int&gt; | Chromosome/scaffold name &lt;chr&gt; | Transcription start site (TSS) &lt;int&gt; |\n",
       "|---|---|---|---|---|---|---|\n",
       "| ENSG00000210049 | ENSG00000210049.1 | MT-TF   |  577 |  647 | MT |  577 |\n",
       "| ENSG00000211459 | ENSG00000211459.2 | MT-RNR1 |  648 | 1601 | MT |  648 |\n",
       "| ENSG00000210077 | ENSG00000210077.1 | MT-TV   | 1602 | 1670 | MT | 1602 |\n",
       "| ENSG00000210082 | ENSG00000210082.2 | MT-RNR2 | 1671 | 3229 | MT | 1671 |\n",
       "| ENSG00000209082 | ENSG00000209082.1 | MT-TL1  | 3230 | 3304 | MT | 3230 |\n",
       "| ENSG00000198888 | ENSG00000198888.2 | MT-ND1  | 3307 | 4262 | MT | 3307 |\n",
       "\n"
      ],
      "text/plain": [
       "  Gene stable ID  Gene stable ID version Gene name Gene start (bp)\n",
       "1 ENSG00000210049 ENSG00000210049.1      MT-TF      577           \n",
       "2 ENSG00000211459 ENSG00000211459.2      MT-RNR1    648           \n",
       "3 ENSG00000210077 ENSG00000210077.1      MT-TV     1602           \n",
       "4 ENSG00000210082 ENSG00000210082.2      MT-RNR2   1671           \n",
       "5 ENSG00000209082 ENSG00000209082.1      MT-TL1    3230           \n",
       "6 ENSG00000198888 ENSG00000198888.2      MT-ND1    3307           \n",
       "  Gene end (bp) Chromosome/scaffold name Transcription start site (TSS)\n",
       "1  647          MT                        577                          \n",
       "2 1601          MT                        648                          \n",
       "3 1670          MT                       1602                          \n",
       "4 3229          MT                       1671                          \n",
       "5 3304          MT                       3230                          \n",
       "6 4262          MT                       3307                          "
      ]
     },
     "metadata": {},
     "output_type": "display_data"
    }
   ],
   "source": [
    "head(anno_df)"
   ]
  },
  {
   "cell_type": "code",
   "execution_count": 4,
   "metadata": {},
   "outputs": [],
   "source": [
    "# load mirna and lnc\n",
    "load(\"/gpfs/loomis/scratch60/zhao/zy92/GTEx_V8/exp_mirna.RData\")\n",
    "load(\"/gpfs/loomis/scratch60/zhao/zy92/GTEx_V8/exp_lnc.RData\")\n",
    "load(\"/gpfs/loomis/scratch60/zhao/zy92/GTEx_V8/exp_related_genes.RData\")"
   ]
  },
  {
   "cell_type": "code",
   "execution_count": null,
   "metadata": {},
   "outputs": [],
   "source": []
  },
  {
   "cell_type": "code",
   "execution_count": 7,
   "metadata": {},
   "outputs": [
    {
     "data": {
      "text/html": [
       "1574"
      ],
      "text/latex": [
       "1574"
      ],
      "text/markdown": [
       "1574"
      ],
      "text/plain": [
       "[1] 1574"
      ]
     },
     "metadata": {},
     "output_type": "display_data"
    }
   ],
   "source": [
    "sum(exp_mirna$Name %in% anno_df$`Gene stable ID version`)"
   ]
  },
  {
   "cell_type": "code",
   "execution_count": 6,
   "metadata": {},
   "outputs": [
    {
     "data": {
      "text/html": [
       "<style>\n",
       ".list-inline {list-style: none; margin:0; padding: 0}\n",
       ".list-inline>li {display: inline-block}\n",
       ".list-inline>li:not(:last-child)::after {content: \"\\00b7\"; padding: 0 .5ex}\n",
       "</style>\n",
       "<ol class=list-inline><li>'ENSG00000278267.1'</li><li>'ENSG00000273874.1'</li><li>'ENSG00000207730.3'</li><li>'ENSG00000207607.3'</li><li>'ENSG00000198976.1'</li><li>'ENSG00000278073.1'</li></ol>\n"
      ],
      "text/latex": [
       "\\begin{enumerate*}\n",
       "\\item 'ENSG00000278267.1'\n",
       "\\item 'ENSG00000273874.1'\n",
       "\\item 'ENSG00000207730.3'\n",
       "\\item 'ENSG00000207607.3'\n",
       "\\item 'ENSG00000198976.1'\n",
       "\\item 'ENSG00000278073.1'\n",
       "\\end{enumerate*}\n"
      ],
      "text/markdown": [
       "1. 'ENSG00000278267.1'\n",
       "2. 'ENSG00000273874.1'\n",
       "3. 'ENSG00000207730.3'\n",
       "4. 'ENSG00000207607.3'\n",
       "5. 'ENSG00000198976.1'\n",
       "6. 'ENSG00000278073.1'\n",
       "\n",
       "\n"
      ],
      "text/plain": [
       "[1] \"ENSG00000278267.1\" \"ENSG00000273874.1\" \"ENSG00000207730.3\"\n",
       "[4] \"ENSG00000207607.3\" \"ENSG00000198976.1\" \"ENSG00000278073.1\""
      ]
     },
     "metadata": {},
     "output_type": "display_data"
    }
   ],
   "source": [
    "head(exp_mirna$Name)"
   ]
  },
  {
   "cell_type": "code",
   "execution_count": 8,
   "metadata": {},
   "outputs": [
    {
     "data": {
      "text/html": [
       "10088"
      ],
      "text/latex": [
       "10088"
      ],
      "text/markdown": [
       "10088"
      ],
      "text/plain": [
       "[1] 10088"
      ]
     },
     "metadata": {},
     "output_type": "display_data"
    }
   ],
   "source": [
    "sum(exp_lnc$Name %in% anno_df$`Gene stable ID version`)"
   ]
  },
  {
   "cell_type": "code",
   "execution_count": null,
   "metadata": {},
   "outputs": [],
   "source": []
  }
 ],
 "metadata": {
  "kernelspec": {
   "display_name": "R",
   "language": "R",
   "name": "ir"
  },
  "language_info": {
   "codemirror_mode": "r",
   "file_extension": ".r",
   "mimetype": "text/x-r-source",
   "name": "R",
   "pygments_lexer": "r",
   "version": "3.5.0"
  }
 },
 "nbformat": 4,
 "nbformat_minor": 4
}
