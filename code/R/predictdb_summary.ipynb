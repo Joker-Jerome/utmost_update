{
 "cells": [
  {
   "cell_type": "markdown",
   "metadata": {},
   "source": [
    "### check predictDB signs and non-coding RNAs"
   ]
  },
  {
   "cell_type": "code",
   "execution_count": 2,
   "metadata": {},
   "outputs": [],
   "source": [
    "suppressPackageStartupMessages(library(formattable))\n",
    "suppressPackageStartupMessages(library(dplyr))\n",
    "suppressPackageStartupMessages(library(data.table))\n",
    "suppressPackageStartupMessages(library(kableExtra))\n",
    "suppressPackageStartupMessages(library(RSQLite))"
   ]
  },
  {
   "cell_type": "code",
   "execution_count": null,
   "metadata": {},
   "outputs": [],
   "source": []
  },
  {
   "cell_type": "code",
   "execution_count": 3,
   "metadata": {},
   "outputs": [],
   "source": [
    "predictDB_dir <- \"/ysm-gpfs/pi/zhao-data/zy92/predictDB/\"\n",
    "db_vec <- list.files(predictDB_dir, pattern = \"*.db\")"
   ]
  },
  {
   "cell_type": "code",
   "execution_count": 4,
   "metadata": {},
   "outputs": [],
   "source": [
    "## convenience query function\n",
    "sqlite <- dbDriver(\"SQLite\")\n",
    "query <- function(...) dbGetQuery(db, ...)"
   ]
  },
  {
   "cell_type": "code",
   "execution_count": 5,
   "metadata": {},
   "outputs": [
    {
     "data": {
      "text/html": [
       "INFO: reading gtex_v7_Adipose_Subcutaneous_imputed_europeans_tw_0.5_signif.db"
      ]
     },
     "metadata": {},
     "output_type": "display_data"
    },
    {
     "data": {
      "text/html": [
       "INFO: reading gtex_v7_Adipose_Visceral_Omentum_imputed_europeans_tw_0.5_signif.db"
      ]
     },
     "metadata": {},
     "output_type": "display_data"
    },
    {
     "data": {
      "text/html": [
       "INFO: reading gtex_v7_Adrenal_Gland_imputed_europeans_tw_0.5_signif.db"
      ]
     },
     "metadata": {},
     "output_type": "display_data"
    },
    {
     "data": {
      "text/html": [
       "INFO: reading gtex_v7_Artery_Aorta_imputed_europeans_tw_0.5_signif.db"
      ]
     },
     "metadata": {},
     "output_type": "display_data"
    },
    {
     "data": {
      "text/html": [
       "INFO: reading gtex_v7_Artery_Coronary_imputed_europeans_tw_0.5_signif.db"
      ]
     },
     "metadata": {},
     "output_type": "display_data"
    },
    {
     "data": {
      "text/html": [
       "INFO: reading gtex_v7_Artery_Tibial_imputed_europeans_tw_0.5_signif.db"
      ]
     },
     "metadata": {},
     "output_type": "display_data"
    },
    {
     "data": {
      "text/html": [
       "INFO: reading gtex_v7_Brain_Amygdala_imputed_europeans_tw_0.5_signif.db"
      ]
     },
     "metadata": {},
     "output_type": "display_data"
    },
    {
     "data": {
      "text/html": [
       "INFO: reading gtex_v7_Brain_Anterior_cingulate_cortex_BA24_imputed_europeans_tw_0.5_signif.db"
      ]
     },
     "metadata": {},
     "output_type": "display_data"
    },
    {
     "data": {
      "text/html": [
       "INFO: reading gtex_v7_Brain_Caudate_basal_ganglia_imputed_europeans_tw_0.5_signif.db"
      ]
     },
     "metadata": {},
     "output_type": "display_data"
    },
    {
     "data": {
      "text/html": [
       "INFO: reading gtex_v7_Brain_Cerebellar_Hemisphere_imputed_europeans_tw_0.5_signif.db"
      ]
     },
     "metadata": {},
     "output_type": "display_data"
    },
    {
     "data": {
      "text/html": [
       "INFO: reading gtex_v7_Brain_Cerebellum_imputed_europeans_tw_0.5_signif.db"
      ]
     },
     "metadata": {},
     "output_type": "display_data"
    },
    {
     "data": {
      "text/html": [
       "INFO: reading gtex_v7_Brain_Cortex_imputed_europeans_tw_0.5_signif.db"
      ]
     },
     "metadata": {},
     "output_type": "display_data"
    },
    {
     "data": {
      "text/html": [
       "INFO: reading gtex_v7_Brain_Frontal_Cortex_BA9_imputed_europeans_tw_0.5_signif.db"
      ]
     },
     "metadata": {},
     "output_type": "display_data"
    },
    {
     "data": {
      "text/html": [
       "INFO: reading gtex_v7_Brain_Hippocampus_imputed_europeans_tw_0.5_signif.db"
      ]
     },
     "metadata": {},
     "output_type": "display_data"
    },
    {
     "data": {
      "text/html": [
       "INFO: reading gtex_v7_Brain_Hypothalamus_imputed_europeans_tw_0.5_signif.db"
      ]
     },
     "metadata": {},
     "output_type": "display_data"
    },
    {
     "data": {
      "text/html": [
       "INFO: reading gtex_v7_Brain_Nucleus_accumbens_basal_ganglia_imputed_europeans_tw_0.5_signif.db"
      ]
     },
     "metadata": {},
     "output_type": "display_data"
    },
    {
     "data": {
      "text/html": [
       "INFO: reading gtex_v7_Brain_Putamen_basal_ganglia_imputed_europeans_tw_0.5_signif.db"
      ]
     },
     "metadata": {},
     "output_type": "display_data"
    },
    {
     "data": {
      "text/html": [
       "INFO: reading gtex_v7_Brain_Spinal_cord_cervical_c-1_imputed_europeans_tw_0.5_signif.db"
      ]
     },
     "metadata": {},
     "output_type": "display_data"
    },
    {
     "data": {
      "text/html": [
       "INFO: reading gtex_v7_Brain_Substantia_nigra_imputed_europeans_tw_0.5_signif.db"
      ]
     },
     "metadata": {},
     "output_type": "display_data"
    },
    {
     "data": {
      "text/html": [
       "INFO: reading gtex_v7_Breast_Mammary_Tissue_imputed_europeans_tw_0.5_signif.db"
      ]
     },
     "metadata": {},
     "output_type": "display_data"
    },
    {
     "data": {
      "text/html": [
       "INFO: reading gtex_v7_Cells_EBV-transformed_lymphocytes_imputed_europeans_tw_0.5_signif.db"
      ]
     },
     "metadata": {},
     "output_type": "display_data"
    },
    {
     "data": {
      "text/html": [
       "INFO: reading gtex_v7_Cells_Transformed_fibroblasts_imputed_europeans_tw_0.5_signif.db"
      ]
     },
     "metadata": {},
     "output_type": "display_data"
    },
    {
     "data": {
      "text/html": [
       "INFO: reading gtex_v7_Colon_Sigmoid_imputed_europeans_tw_0.5_signif.db"
      ]
     },
     "metadata": {},
     "output_type": "display_data"
    },
    {
     "data": {
      "text/html": [
       "INFO: reading gtex_v7_Colon_Transverse_imputed_europeans_tw_0.5_signif.db"
      ]
     },
     "metadata": {},
     "output_type": "display_data"
    },
    {
     "data": {
      "text/html": [
       "INFO: reading gtex_v7_Esophagus_Gastroesophageal_Junction_imputed_europeans_tw_0.5_signif.db"
      ]
     },
     "metadata": {},
     "output_type": "display_data"
    },
    {
     "data": {
      "text/html": [
       "INFO: reading gtex_v7_Esophagus_Mucosa_imputed_europeans_tw_0.5_signif.db"
      ]
     },
     "metadata": {},
     "output_type": "display_data"
    },
    {
     "data": {
      "text/html": [
       "INFO: reading gtex_v7_Esophagus_Muscularis_imputed_europeans_tw_0.5_signif.db"
      ]
     },
     "metadata": {},
     "output_type": "display_data"
    },
    {
     "data": {
      "text/html": [
       "INFO: reading gtex_v7_Heart_Atrial_Appendage_imputed_europeans_tw_0.5_signif.db"
      ]
     },
     "metadata": {},
     "output_type": "display_data"
    },
    {
     "data": {
      "text/html": [
       "INFO: reading gtex_v7_Heart_Left_Ventricle_imputed_europeans_tw_0.5_signif.db"
      ]
     },
     "metadata": {},
     "output_type": "display_data"
    },
    {
     "data": {
      "text/html": [
       "INFO: reading gtex_v7_Liver_imputed_europeans_tw_0.5_signif.db"
      ]
     },
     "metadata": {},
     "output_type": "display_data"
    },
    {
     "data": {
      "text/html": [
       "INFO: reading gtex_v7_Lung_imputed_europeans_tw_0.5_signif.db"
      ]
     },
     "metadata": {},
     "output_type": "display_data"
    },
    {
     "data": {
      "text/html": [
       "INFO: reading gtex_v7_Minor_Salivary_Gland_imputed_europeans_tw_0.5_signif.db"
      ]
     },
     "metadata": {},
     "output_type": "display_data"
    },
    {
     "data": {
      "text/html": [
       "INFO: reading gtex_v7_Muscle_Skeletal_imputed_europeans_tw_0.5_signif.db"
      ]
     },
     "metadata": {},
     "output_type": "display_data"
    },
    {
     "data": {
      "text/html": [
       "INFO: reading gtex_v7_Nerve_Tibial_imputed_europeans_tw_0.5_signif.db"
      ]
     },
     "metadata": {},
     "output_type": "display_data"
    },
    {
     "data": {
      "text/html": [
       "INFO: reading gtex_v7_Ovary_imputed_europeans_tw_0.5_signif.db"
      ]
     },
     "metadata": {},
     "output_type": "display_data"
    },
    {
     "data": {
      "text/html": [
       "INFO: reading gtex_v7_Pancreas_imputed_europeans_tw_0.5_signif.db"
      ]
     },
     "metadata": {},
     "output_type": "display_data"
    },
    {
     "data": {
      "text/html": [
       "INFO: reading gtex_v7_Pituitary_imputed_europeans_tw_0.5_signif.db"
      ]
     },
     "metadata": {},
     "output_type": "display_data"
    },
    {
     "data": {
      "text/html": [
       "INFO: reading gtex_v7_Prostate_imputed_europeans_tw_0.5_signif.db"
      ]
     },
     "metadata": {},
     "output_type": "display_data"
    },
    {
     "data": {
      "text/html": [
       "INFO: reading gtex_v7_Skin_Not_Sun_Exposed_Suprapubic_imputed_europeans_tw_0.5_signif.db"
      ]
     },
     "metadata": {},
     "output_type": "display_data"
    },
    {
     "data": {
      "text/html": [
       "INFO: reading gtex_v7_Skin_Sun_Exposed_Lower_leg_imputed_europeans_tw_0.5_signif.db"
      ]
     },
     "metadata": {},
     "output_type": "display_data"
    },
    {
     "data": {
      "text/html": [
       "INFO: reading gtex_v7_Small_Intestine_Terminal_Ileum_imputed_europeans_tw_0.5_signif.db"
      ]
     },
     "metadata": {},
     "output_type": "display_data"
    },
    {
     "data": {
      "text/html": [
       "INFO: reading gtex_v7_Spleen_imputed_europeans_tw_0.5_signif.db"
      ]
     },
     "metadata": {},
     "output_type": "display_data"
    },
    {
     "data": {
      "text/html": [
       "INFO: reading gtex_v7_Stomach_imputed_europeans_tw_0.5_signif.db"
      ]
     },
     "metadata": {},
     "output_type": "display_data"
    },
    {
     "data": {
      "text/html": [
       "INFO: reading gtex_v7_Testis_imputed_europeans_tw_0.5_signif.db"
      ]
     },
     "metadata": {},
     "output_type": "display_data"
    },
    {
     "data": {
      "text/html": [
       "INFO: reading gtex_v7_Thyroid_imputed_europeans_tw_0.5_signif.db"
      ]
     },
     "metadata": {},
     "output_type": "display_data"
    },
    {
     "data": {
      "text/html": [
       "INFO: reading gtex_v7_Uterus_imputed_europeans_tw_0.5_signif.db"
      ]
     },
     "metadata": {},
     "output_type": "display_data"
    },
    {
     "data": {
      "text/html": [
       "INFO: reading gtex_v7_Vagina_imputed_europeans_tw_0.5_signif.db"
      ]
     },
     "metadata": {},
     "output_type": "display_data"
    },
    {
     "data": {
      "text/html": [
       "INFO: reading gtex_v7_Whole_Blood_imputed_europeans_tw_0.5_signif.db"
      ]
     },
     "metadata": {},
     "output_type": "display_data"
    }
   ],
   "source": [
    "setwd(predictDB_dir)\n",
    "gene_list <- list()\n",
    "for(i in 1:length(db_vec))\n",
    "  {\n",
    "    IRdisplay::display_html(paste0(\"INFO: reading \", db_vec[i]))\n",
    "    dbname <- db_vec[i]\n",
    "    db <- dbConnect(sqlite, dbname)\n",
    "    #print(query('select count(*) from weights'))\n",
    "    gene_list[[dbname]] <- query(paste('select distinct(gene) from weights'))\n",
    "    \n",
    "}"
   ]
  },
  {
   "cell_type": "code",
   "execution_count": 6,
   "metadata": {},
   "outputs": [
    {
     "data": {
      "text/html": [
       "<table>\n",
       "<caption>A data.frame: 6 × 1</caption>\n",
       "<thead>\n",
       "\t<tr><th scope=col>gene</th></tr>\n",
       "\t<tr><th scope=col>&lt;chr&gt;</th></tr>\n",
       "</thead>\n",
       "<tbody>\n",
       "\t<tr><td>ENSG00000000457.9 </td></tr>\n",
       "\t<tr><td>ENSG00000000460.12</td></tr>\n",
       "\t<tr><td>ENSG00000000971.11</td></tr>\n",
       "\t<tr><td>ENSG00000001167.10</td></tr>\n",
       "\t<tr><td>ENSG00000001460.13</td></tr>\n",
       "\t<tr><td>ENSG00000001461.12</td></tr>\n",
       "</tbody>\n",
       "</table>\n"
      ],
      "text/latex": [
       "A data.frame: 6 × 1\n",
       "\\begin{tabular}{r|l}\n",
       " gene\\\\\n",
       " <chr>\\\\\n",
       "\\hline\n",
       "\t ENSG00000000457.9 \\\\\n",
       "\t ENSG00000000460.12\\\\\n",
       "\t ENSG00000000971.11\\\\\n",
       "\t ENSG00000001167.10\\\\\n",
       "\t ENSG00000001460.13\\\\\n",
       "\t ENSG00000001461.12\\\\\n",
       "\\end{tabular}\n"
      ],
      "text/markdown": [
       "\n",
       "A data.frame: 6 × 1\n",
       "\n",
       "| gene &lt;chr&gt; |\n",
       "|---|\n",
       "| ENSG00000000457.9  |\n",
       "| ENSG00000000460.12 |\n",
       "| ENSG00000000971.11 |\n",
       "| ENSG00000001167.10 |\n",
       "| ENSG00000001460.13 |\n",
       "| ENSG00000001461.12 |\n",
       "\n"
      ],
      "text/plain": [
       "  gene              \n",
       "1 ENSG00000000457.9 \n",
       "2 ENSG00000000460.12\n",
       "3 ENSG00000000971.11\n",
       "4 ENSG00000001167.10\n",
       "5 ENSG00000001460.13\n",
       "6 ENSG00000001461.12"
      ]
     },
     "metadata": {},
     "output_type": "display_data"
    }
   ],
   "source": [
    "head(gene_list[[1]])"
   ]
  },
  {
   "cell_type": "code",
   "execution_count": 7,
   "metadata": {},
   "outputs": [
    {
     "data": {
      "text/html": [
       "25851"
      ],
      "text/latex": [
       "25851"
      ],
      "text/markdown": [
       "25851"
      ],
      "text/plain": [
       "[1] 25851"
      ]
     },
     "metadata": {},
     "output_type": "display_data"
    }
   ],
   "source": [
    "gene_set <- unique(unlist(gene_list))\n",
    "length(gene_set)"
   ]
  },
  {
   "cell_type": "code",
   "execution_count": 8,
   "metadata": {},
   "outputs": [],
   "source": [
    "# preprocess\n",
    "gene_set_clean <- as.character(sapply(gene_set, \n",
    "                                function(x) \n",
    "                                unlist(stringr::str_split(x, pattern = \"\\\\.\"))[1]))\n",
    "                      "
   ]
  },
  {
   "cell_type": "code",
   "execution_count": 9,
   "metadata": {},
   "outputs": [],
   "source": [
    "# grch37 \n",
    "suppressPackageStartupMessages(library(biomaRt))\n",
    "#grch37 = useMart(biomart=\"ENSEMBL_MART_ENSEMBL\", host=\"grch37.ensembl.org\", path=\"/biomart/martservice\", dataset=\"hsapiens_gene_ensembl\")\n",
    "us_mart <- useEnsembl(biomart = \"ensembl\", mirror = \"uswest\", dataset=\"hsapiens_gene_ensembl\")\n",
    "#grch37 = useMart(biomart=\"ensembl\", mirror = \"uswest\", dataset=\"hsapiens_gene_ensembl\")\n",
    "\n",
    "\n",
    "gene_info = getBM(filters= \"ensembl_gene_id\", \n",
    "                  attributes= c(\"ensembl_gene_id\",'hgnc_symbol','chromosome_name',\"transcript_biotype\"), \n",
    "                  values= gene_set_clean, \n",
    "                  #mart= grch37)\n",
    "                   mart= us_mart)"
   ]
  },
  {
   "cell_type": "code",
   "execution_count": 10,
   "metadata": {},
   "outputs": [
    {
     "data": {
      "text/html": [
       "<ol class=list-inline>\n",
       "\t<li>50484</li>\n",
       "\t<li>4</li>\n",
       "</ol>\n"
      ],
      "text/latex": [
       "\\begin{enumerate*}\n",
       "\\item 50484\n",
       "\\item 4\n",
       "\\end{enumerate*}\n"
      ],
      "text/markdown": [
       "1. 50484\n",
       "2. 4\n",
       "\n",
       "\n"
      ],
      "text/plain": [
       "[1] 50484     4"
      ]
     },
     "metadata": {},
     "output_type": "display_data"
    },
    {
     "data": {
      "text/html": [
       "<table>\n",
       "<caption>A data.frame: 6 × 4</caption>\n",
       "<thead>\n",
       "\t<tr><th scope=col>ensembl_gene_id</th><th scope=col>hgnc_symbol</th><th scope=col>chromosome_name</th><th scope=col>transcript_biotype</th></tr>\n",
       "\t<tr><th scope=col>&lt;chr&gt;</th><th scope=col>&lt;chr&gt;</th><th scope=col>&lt;chr&gt;</th><th scope=col>&lt;chr&gt;</th></tr>\n",
       "</thead>\n",
       "<tbody>\n",
       "\t<tr><td>ENSG00000000457</td><td>SCYL3   </td><td>1</td><td>protein_coding         </td></tr>\n",
       "\t<tr><td>ENSG00000000457</td><td>SCYL3   </td><td>1</td><td>processed_transcript   </td></tr>\n",
       "\t<tr><td>ENSG00000000460</td><td>C1orf112</td><td>1</td><td>processed_transcript   </td></tr>\n",
       "\t<tr><td>ENSG00000000460</td><td>C1orf112</td><td>1</td><td>protein_coding         </td></tr>\n",
       "\t<tr><td>ENSG00000000460</td><td>C1orf112</td><td>1</td><td>nonsense_mediated_decay</td></tr>\n",
       "\t<tr><td>ENSG00000000971</td><td>CFH     </td><td>1</td><td>protein_coding         </td></tr>\n",
       "</tbody>\n",
       "</table>\n"
      ],
      "text/latex": [
       "A data.frame: 6 × 4\n",
       "\\begin{tabular}{r|llll}\n",
       " ensembl\\_gene\\_id & hgnc\\_symbol & chromosome\\_name & transcript\\_biotype\\\\\n",
       " <chr> & <chr> & <chr> & <chr>\\\\\n",
       "\\hline\n",
       "\t ENSG00000000457 & SCYL3    & 1 & protein\\_coding         \\\\\n",
       "\t ENSG00000000457 & SCYL3    & 1 & processed\\_transcript   \\\\\n",
       "\t ENSG00000000460 & C1orf112 & 1 & processed\\_transcript   \\\\\n",
       "\t ENSG00000000460 & C1orf112 & 1 & protein\\_coding         \\\\\n",
       "\t ENSG00000000460 & C1orf112 & 1 & nonsense\\_mediated\\_decay\\\\\n",
       "\t ENSG00000000971 & CFH      & 1 & protein\\_coding         \\\\\n",
       "\\end{tabular}\n"
      ],
      "text/markdown": [
       "\n",
       "A data.frame: 6 × 4\n",
       "\n",
       "| ensembl_gene_id &lt;chr&gt; | hgnc_symbol &lt;chr&gt; | chromosome_name &lt;chr&gt; | transcript_biotype &lt;chr&gt; |\n",
       "|---|---|---|---|\n",
       "| ENSG00000000457 | SCYL3    | 1 | protein_coding          |\n",
       "| ENSG00000000457 | SCYL3    | 1 | processed_transcript    |\n",
       "| ENSG00000000460 | C1orf112 | 1 | processed_transcript    |\n",
       "| ENSG00000000460 | C1orf112 | 1 | protein_coding          |\n",
       "| ENSG00000000460 | C1orf112 | 1 | nonsense_mediated_decay |\n",
       "| ENSG00000000971 | CFH      | 1 | protein_coding          |\n",
       "\n"
      ],
      "text/plain": [
       "  ensembl_gene_id hgnc_symbol chromosome_name transcript_biotype     \n",
       "1 ENSG00000000457 SCYL3       1               protein_coding         \n",
       "2 ENSG00000000457 SCYL3       1               processed_transcript   \n",
       "3 ENSG00000000460 C1orf112    1               processed_transcript   \n",
       "4 ENSG00000000460 C1orf112    1               protein_coding         \n",
       "5 ENSG00000000460 C1orf112    1               nonsense_mediated_decay\n",
       "6 ENSG00000000971 CFH         1               protein_coding         "
      ]
     },
     "metadata": {},
     "output_type": "display_data"
    }
   ],
   "source": [
    "dim(gene_info)\n",
    "head(gene_info)"
   ]
  },
  {
   "cell_type": "code",
   "execution_count": 11,
   "metadata": {},
   "outputs": [
    {
     "data": {
      "text/plain": [
       "\n",
       "                         IG_V_gene                             lncRNA \n",
       "                                 1                               3917 \n",
       "                          misc_RNA                     non_stop_decay \n",
       "                                 6                                 77 \n",
       "           nonsense_mediated_decay             polymorphic_pseudogene \n",
       "                              6472                                 20 \n",
       "              processed_pseudogene               processed_transcript \n",
       "                              2789                              10035 \n",
       "                    protein_coding                         pseudogene \n",
       "                             16686                                  5 \n",
       "                   retained_intron                              scRNA \n",
       "                              8894                                  1 \n",
       "                            snoRNA                                TEC \n",
       "                                 5                                 56 \n",
       "  transcribed_processed_pseudogene     transcribed_unitary_pseudogene \n",
       "                               276                                 80 \n",
       "transcribed_unprocessed_pseudogene                 unitary_pseudogene \n",
       "                               564                                 28 \n",
       "            unprocessed_pseudogene \n",
       "                               572 "
      ]
     },
     "metadata": {},
     "output_type": "display_data"
    }
   ],
   "source": [
    "table(gene_info$transcript_biotype)"
   ]
  },
  {
   "cell_type": "code",
   "execution_count": 12,
   "metadata": {},
   "outputs": [],
   "source": [
    "lnc_info <- gene_info %>% filter(transcript_biotype == \"lncRNA\")"
   ]
  },
  {
   "cell_type": "code",
   "execution_count": 13,
   "metadata": {},
   "outputs": [
    {
     "data": {
      "text/html": [
       "<ol class=list-inline>\n",
       "\t<li>3917</li>\n",
       "\t<li>4</li>\n",
       "</ol>\n"
      ],
      "text/latex": [
       "\\begin{enumerate*}\n",
       "\\item 3917\n",
       "\\item 4\n",
       "\\end{enumerate*}\n"
      ],
      "text/markdown": [
       "1. 3917\n",
       "2. 4\n",
       "\n",
       "\n"
      ],
      "text/plain": [
       "[1] 3917    4"
      ]
     },
     "metadata": {},
     "output_type": "display_data"
    },
    {
     "data": {
      "text/html": [
       "<table>\n",
       "<caption>A data.frame: 6 × 4</caption>\n",
       "<thead>\n",
       "\t<tr><th scope=col>ensembl_gene_id</th><th scope=col>hgnc_symbol</th><th scope=col>chromosome_name</th><th scope=col>transcript_biotype</th></tr>\n",
       "\t<tr><th scope=col>&lt;chr&gt;</th><th scope=col>&lt;chr&gt;</th><th scope=col>&lt;chr&gt;</th><th scope=col>&lt;chr&gt;</th></tr>\n",
       "</thead>\n",
       "<tbody>\n",
       "\t<tr><td>ENSG00000103472</td><td>RRN3P2     </td><td>16</td><td>lncRNA</td></tr>\n",
       "\t<tr><td>ENSG00000122548</td><td>KIAA0087   </td><td>7 </td><td>lncRNA</td></tr>\n",
       "\t<tr><td>ENSG00000164385</td><td>LINC01600  </td><td>6 </td><td>lncRNA</td></tr>\n",
       "\t<tr><td>ENSG00000165511</td><td>C10orf25   </td><td>10</td><td>lncRNA</td></tr>\n",
       "\t<tr><td>ENSG00000167920</td><td>TMEM99     </td><td>17</td><td>lncRNA</td></tr>\n",
       "\t<tr><td>ENSG00000172965</td><td>MIR4435-2HG</td><td>2 </td><td>lncRNA</td></tr>\n",
       "</tbody>\n",
       "</table>\n"
      ],
      "text/latex": [
       "A data.frame: 6 × 4\n",
       "\\begin{tabular}{r|llll}\n",
       " ensembl\\_gene\\_id & hgnc\\_symbol & chromosome\\_name & transcript\\_biotype\\\\\n",
       " <chr> & <chr> & <chr> & <chr>\\\\\n",
       "\\hline\n",
       "\t ENSG00000103472 & RRN3P2      & 16 & lncRNA\\\\\n",
       "\t ENSG00000122548 & KIAA0087    & 7  & lncRNA\\\\\n",
       "\t ENSG00000164385 & LINC01600   & 6  & lncRNA\\\\\n",
       "\t ENSG00000165511 & C10orf25    & 10 & lncRNA\\\\\n",
       "\t ENSG00000167920 & TMEM99      & 17 & lncRNA\\\\\n",
       "\t ENSG00000172965 & MIR4435-2HG & 2  & lncRNA\\\\\n",
       "\\end{tabular}\n"
      ],
      "text/markdown": [
       "\n",
       "A data.frame: 6 × 4\n",
       "\n",
       "| ensembl_gene_id &lt;chr&gt; | hgnc_symbol &lt;chr&gt; | chromosome_name &lt;chr&gt; | transcript_biotype &lt;chr&gt; |\n",
       "|---|---|---|---|\n",
       "| ENSG00000103472 | RRN3P2      | 16 | lncRNA |\n",
       "| ENSG00000122548 | KIAA0087    | 7  | lncRNA |\n",
       "| ENSG00000164385 | LINC01600   | 6  | lncRNA |\n",
       "| ENSG00000165511 | C10orf25    | 10 | lncRNA |\n",
       "| ENSG00000167920 | TMEM99      | 17 | lncRNA |\n",
       "| ENSG00000172965 | MIR4435-2HG | 2  | lncRNA |\n",
       "\n"
      ],
      "text/plain": [
       "  ensembl_gene_id hgnc_symbol chromosome_name transcript_biotype\n",
       "1 ENSG00000103472 RRN3P2      16              lncRNA            \n",
       "2 ENSG00000122548 KIAA0087    7               lncRNA            \n",
       "3 ENSG00000164385 LINC01600   6               lncRNA            \n",
       "4 ENSG00000165511 C10orf25    10              lncRNA            \n",
       "5 ENSG00000167920 TMEM99      17              lncRNA            \n",
       "6 ENSG00000172965 MIR4435-2HG 2               lncRNA            "
      ]
     },
     "metadata": {},
     "output_type": "display_data"
    }
   ],
   "source": [
    "dim(lnc_info)\n",
    "head(lnc_info)"
   ]
  },
  {
   "cell_type": "code",
   "execution_count": 14,
   "metadata": {},
   "outputs": [
    {
     "data": {
      "text/html": [
       "1161"
      ],
      "text/latex": [
       "1161"
      ],
      "text/markdown": [
       "1161"
      ],
      "text/plain": [
       "[1] 1161"
      ]
     },
     "metadata": {},
     "output_type": "display_data"
    }
   ],
   "source": [
    "sum(startsWith(lnc_info$hgnc_symbol, \"LINC\"))"
   ]
  },
  {
   "cell_type": "code",
   "execution_count": 15,
   "metadata": {},
   "outputs": [],
   "source": [
    "### check the weight directions\n"
   ]
  },
  {
   "cell_type": "code",
   "execution_count": 16,
   "metadata": {},
   "outputs": [
    {
     "data": {
      "text/html": [
       "<ol class=list-inline>\n",
       "\t<li>'gtex_v7_Adipose_Subcutaneous_imputed_europeans_tw_0.5_signif.db'</li>\n",
       "\t<li>'gtex_v7_Adipose_Visceral_Omentum_imputed_europeans_tw_0.5_signif.db'</li>\n",
       "\t<li>'gtex_v7_Adrenal_Gland_imputed_europeans_tw_0.5_signif.db'</li>\n",
       "\t<li>'gtex_v7_Artery_Aorta_imputed_europeans_tw_0.5_signif.db'</li>\n",
       "\t<li>'gtex_v7_Artery_Coronary_imputed_europeans_tw_0.5_signif.db'</li>\n",
       "\t<li>'gtex_v7_Artery_Tibial_imputed_europeans_tw_0.5_signif.db'</li>\n",
       "\t<li>'gtex_v7_Brain_Amygdala_imputed_europeans_tw_0.5_signif.db'</li>\n",
       "\t<li>'gtex_v7_Brain_Anterior_cingulate_cortex_BA24_imputed_europeans_tw_0.5_signif.db'</li>\n",
       "\t<li>'gtex_v7_Brain_Caudate_basal_ganglia_imputed_europeans_tw_0.5_signif.db'</li>\n",
       "\t<li>'gtex_v7_Brain_Cerebellar_Hemisphere_imputed_europeans_tw_0.5_signif.db'</li>\n",
       "\t<li>'gtex_v7_Brain_Cerebellum_imputed_europeans_tw_0.5_signif.db'</li>\n",
       "\t<li>'gtex_v7_Brain_Cortex_imputed_europeans_tw_0.5_signif.db'</li>\n",
       "\t<li>'gtex_v7_Brain_Frontal_Cortex_BA9_imputed_europeans_tw_0.5_signif.db'</li>\n",
       "\t<li>'gtex_v7_Brain_Hippocampus_imputed_europeans_tw_0.5_signif.db'</li>\n",
       "\t<li>'gtex_v7_Brain_Hypothalamus_imputed_europeans_tw_0.5_signif.db'</li>\n",
       "\t<li>'gtex_v7_Brain_Nucleus_accumbens_basal_ganglia_imputed_europeans_tw_0.5_signif.db'</li>\n",
       "\t<li>'gtex_v7_Brain_Putamen_basal_ganglia_imputed_europeans_tw_0.5_signif.db'</li>\n",
       "\t<li>'gtex_v7_Brain_Spinal_cord_cervical_c-1_imputed_europeans_tw_0.5_signif.db'</li>\n",
       "\t<li>'gtex_v7_Brain_Substantia_nigra_imputed_europeans_tw_0.5_signif.db'</li>\n",
       "\t<li>'gtex_v7_Breast_Mammary_Tissue_imputed_europeans_tw_0.5_signif.db'</li>\n",
       "\t<li>'gtex_v7_Cells_EBV-transformed_lymphocytes_imputed_europeans_tw_0.5_signif.db'</li>\n",
       "\t<li>'gtex_v7_Cells_Transformed_fibroblasts_imputed_europeans_tw_0.5_signif.db'</li>\n",
       "\t<li>'gtex_v7_Colon_Sigmoid_imputed_europeans_tw_0.5_signif.db'</li>\n",
       "\t<li>'gtex_v7_Colon_Transverse_imputed_europeans_tw_0.5_signif.db'</li>\n",
       "\t<li>'gtex_v7_Esophagus_Gastroesophageal_Junction_imputed_europeans_tw_0.5_signif.db'</li>\n",
       "\t<li>'gtex_v7_Esophagus_Mucosa_imputed_europeans_tw_0.5_signif.db'</li>\n",
       "\t<li>'gtex_v7_Esophagus_Muscularis_imputed_europeans_tw_0.5_signif.db'</li>\n",
       "\t<li>'gtex_v7_Heart_Atrial_Appendage_imputed_europeans_tw_0.5_signif.db'</li>\n",
       "\t<li>'gtex_v7_Heart_Left_Ventricle_imputed_europeans_tw_0.5_signif.db'</li>\n",
       "\t<li>'gtex_v7_Liver_imputed_europeans_tw_0.5_signif.db'</li>\n",
       "\t<li>'gtex_v7_Lung_imputed_europeans_tw_0.5_signif.db'</li>\n",
       "\t<li>'gtex_v7_Minor_Salivary_Gland_imputed_europeans_tw_0.5_signif.db'</li>\n",
       "\t<li>'gtex_v7_Muscle_Skeletal_imputed_europeans_tw_0.5_signif.db'</li>\n",
       "\t<li>'gtex_v7_Nerve_Tibial_imputed_europeans_tw_0.5_signif.db'</li>\n",
       "\t<li>'gtex_v7_Ovary_imputed_europeans_tw_0.5_signif.db'</li>\n",
       "\t<li>'gtex_v7_Pancreas_imputed_europeans_tw_0.5_signif.db'</li>\n",
       "\t<li>'gtex_v7_Pituitary_imputed_europeans_tw_0.5_signif.db'</li>\n",
       "\t<li>'gtex_v7_Prostate_imputed_europeans_tw_0.5_signif.db'</li>\n",
       "\t<li>'gtex_v7_Skin_Not_Sun_Exposed_Suprapubic_imputed_europeans_tw_0.5_signif.db'</li>\n",
       "\t<li>'gtex_v7_Skin_Sun_Exposed_Lower_leg_imputed_europeans_tw_0.5_signif.db'</li>\n",
       "\t<li>'gtex_v7_Small_Intestine_Terminal_Ileum_imputed_europeans_tw_0.5_signif.db'</li>\n",
       "\t<li>'gtex_v7_Spleen_imputed_europeans_tw_0.5_signif.db'</li>\n",
       "\t<li>'gtex_v7_Stomach_imputed_europeans_tw_0.5_signif.db'</li>\n",
       "\t<li>'gtex_v7_Testis_imputed_europeans_tw_0.5_signif.db'</li>\n",
       "\t<li>'gtex_v7_Thyroid_imputed_europeans_tw_0.5_signif.db'</li>\n",
       "\t<li>'gtex_v7_Uterus_imputed_europeans_tw_0.5_signif.db'</li>\n",
       "\t<li>'gtex_v7_Vagina_imputed_europeans_tw_0.5_signif.db'</li>\n",
       "\t<li>'gtex_v7_Whole_Blood_imputed_europeans_tw_0.5_signif.db'</li>\n",
       "</ol>\n"
      ],
      "text/latex": [
       "\\begin{enumerate*}\n",
       "\\item 'gtex\\_v7\\_Adipose\\_Subcutaneous\\_imputed\\_europeans\\_tw\\_0.5\\_signif.db'\n",
       "\\item 'gtex\\_v7\\_Adipose\\_Visceral\\_Omentum\\_imputed\\_europeans\\_tw\\_0.5\\_signif.db'\n",
       "\\item 'gtex\\_v7\\_Adrenal\\_Gland\\_imputed\\_europeans\\_tw\\_0.5\\_signif.db'\n",
       "\\item 'gtex\\_v7\\_Artery\\_Aorta\\_imputed\\_europeans\\_tw\\_0.5\\_signif.db'\n",
       "\\item 'gtex\\_v7\\_Artery\\_Coronary\\_imputed\\_europeans\\_tw\\_0.5\\_signif.db'\n",
       "\\item 'gtex\\_v7\\_Artery\\_Tibial\\_imputed\\_europeans\\_tw\\_0.5\\_signif.db'\n",
       "\\item 'gtex\\_v7\\_Brain\\_Amygdala\\_imputed\\_europeans\\_tw\\_0.5\\_signif.db'\n",
       "\\item 'gtex\\_v7\\_Brain\\_Anterior\\_cingulate\\_cortex\\_BA24\\_imputed\\_europeans\\_tw\\_0.5\\_signif.db'\n",
       "\\item 'gtex\\_v7\\_Brain\\_Caudate\\_basal\\_ganglia\\_imputed\\_europeans\\_tw\\_0.5\\_signif.db'\n",
       "\\item 'gtex\\_v7\\_Brain\\_Cerebellar\\_Hemisphere\\_imputed\\_europeans\\_tw\\_0.5\\_signif.db'\n",
       "\\item 'gtex\\_v7\\_Brain\\_Cerebellum\\_imputed\\_europeans\\_tw\\_0.5\\_signif.db'\n",
       "\\item 'gtex\\_v7\\_Brain\\_Cortex\\_imputed\\_europeans\\_tw\\_0.5\\_signif.db'\n",
       "\\item 'gtex\\_v7\\_Brain\\_Frontal\\_Cortex\\_BA9\\_imputed\\_europeans\\_tw\\_0.5\\_signif.db'\n",
       "\\item 'gtex\\_v7\\_Brain\\_Hippocampus\\_imputed\\_europeans\\_tw\\_0.5\\_signif.db'\n",
       "\\item 'gtex\\_v7\\_Brain\\_Hypothalamus\\_imputed\\_europeans\\_tw\\_0.5\\_signif.db'\n",
       "\\item 'gtex\\_v7\\_Brain\\_Nucleus\\_accumbens\\_basal\\_ganglia\\_imputed\\_europeans\\_tw\\_0.5\\_signif.db'\n",
       "\\item 'gtex\\_v7\\_Brain\\_Putamen\\_basal\\_ganglia\\_imputed\\_europeans\\_tw\\_0.5\\_signif.db'\n",
       "\\item 'gtex\\_v7\\_Brain\\_Spinal\\_cord\\_cervical\\_c-1\\_imputed\\_europeans\\_tw\\_0.5\\_signif.db'\n",
       "\\item 'gtex\\_v7\\_Brain\\_Substantia\\_nigra\\_imputed\\_europeans\\_tw\\_0.5\\_signif.db'\n",
       "\\item 'gtex\\_v7\\_Breast\\_Mammary\\_Tissue\\_imputed\\_europeans\\_tw\\_0.5\\_signif.db'\n",
       "\\item 'gtex\\_v7\\_Cells\\_EBV-transformed\\_lymphocytes\\_imputed\\_europeans\\_tw\\_0.5\\_signif.db'\n",
       "\\item 'gtex\\_v7\\_Cells\\_Transformed\\_fibroblasts\\_imputed\\_europeans\\_tw\\_0.5\\_signif.db'\n",
       "\\item 'gtex\\_v7\\_Colon\\_Sigmoid\\_imputed\\_europeans\\_tw\\_0.5\\_signif.db'\n",
       "\\item 'gtex\\_v7\\_Colon\\_Transverse\\_imputed\\_europeans\\_tw\\_0.5\\_signif.db'\n",
       "\\item 'gtex\\_v7\\_Esophagus\\_Gastroesophageal\\_Junction\\_imputed\\_europeans\\_tw\\_0.5\\_signif.db'\n",
       "\\item 'gtex\\_v7\\_Esophagus\\_Mucosa\\_imputed\\_europeans\\_tw\\_0.5\\_signif.db'\n",
       "\\item 'gtex\\_v7\\_Esophagus\\_Muscularis\\_imputed\\_europeans\\_tw\\_0.5\\_signif.db'\n",
       "\\item 'gtex\\_v7\\_Heart\\_Atrial\\_Appendage\\_imputed\\_europeans\\_tw\\_0.5\\_signif.db'\n",
       "\\item 'gtex\\_v7\\_Heart\\_Left\\_Ventricle\\_imputed\\_europeans\\_tw\\_0.5\\_signif.db'\n",
       "\\item 'gtex\\_v7\\_Liver\\_imputed\\_europeans\\_tw\\_0.5\\_signif.db'\n",
       "\\item 'gtex\\_v7\\_Lung\\_imputed\\_europeans\\_tw\\_0.5\\_signif.db'\n",
       "\\item 'gtex\\_v7\\_Minor\\_Salivary\\_Gland\\_imputed\\_europeans\\_tw\\_0.5\\_signif.db'\n",
       "\\item 'gtex\\_v7\\_Muscle\\_Skeletal\\_imputed\\_europeans\\_tw\\_0.5\\_signif.db'\n",
       "\\item 'gtex\\_v7\\_Nerve\\_Tibial\\_imputed\\_europeans\\_tw\\_0.5\\_signif.db'\n",
       "\\item 'gtex\\_v7\\_Ovary\\_imputed\\_europeans\\_tw\\_0.5\\_signif.db'\n",
       "\\item 'gtex\\_v7\\_Pancreas\\_imputed\\_europeans\\_tw\\_0.5\\_signif.db'\n",
       "\\item 'gtex\\_v7\\_Pituitary\\_imputed\\_europeans\\_tw\\_0.5\\_signif.db'\n",
       "\\item 'gtex\\_v7\\_Prostate\\_imputed\\_europeans\\_tw\\_0.5\\_signif.db'\n",
       "\\item 'gtex\\_v7\\_Skin\\_Not\\_Sun\\_Exposed\\_Suprapubic\\_imputed\\_europeans\\_tw\\_0.5\\_signif.db'\n",
       "\\item 'gtex\\_v7\\_Skin\\_Sun\\_Exposed\\_Lower\\_leg\\_imputed\\_europeans\\_tw\\_0.5\\_signif.db'\n",
       "\\item 'gtex\\_v7\\_Small\\_Intestine\\_Terminal\\_Ileum\\_imputed\\_europeans\\_tw\\_0.5\\_signif.db'\n",
       "\\item 'gtex\\_v7\\_Spleen\\_imputed\\_europeans\\_tw\\_0.5\\_signif.db'\n",
       "\\item 'gtex\\_v7\\_Stomach\\_imputed\\_europeans\\_tw\\_0.5\\_signif.db'\n",
       "\\item 'gtex\\_v7\\_Testis\\_imputed\\_europeans\\_tw\\_0.5\\_signif.db'\n",
       "\\item 'gtex\\_v7\\_Thyroid\\_imputed\\_europeans\\_tw\\_0.5\\_signif.db'\n",
       "\\item 'gtex\\_v7\\_Uterus\\_imputed\\_europeans\\_tw\\_0.5\\_signif.db'\n",
       "\\item 'gtex\\_v7\\_Vagina\\_imputed\\_europeans\\_tw\\_0.5\\_signif.db'\n",
       "\\item 'gtex\\_v7\\_Whole\\_Blood\\_imputed\\_europeans\\_tw\\_0.5\\_signif.db'\n",
       "\\end{enumerate*}\n"
      ],
      "text/markdown": [
       "1. 'gtex_v7_Adipose_Subcutaneous_imputed_europeans_tw_0.5_signif.db'\n",
       "2. 'gtex_v7_Adipose_Visceral_Omentum_imputed_europeans_tw_0.5_signif.db'\n",
       "3. 'gtex_v7_Adrenal_Gland_imputed_europeans_tw_0.5_signif.db'\n",
       "4. 'gtex_v7_Artery_Aorta_imputed_europeans_tw_0.5_signif.db'\n",
       "5. 'gtex_v7_Artery_Coronary_imputed_europeans_tw_0.5_signif.db'\n",
       "6. 'gtex_v7_Artery_Tibial_imputed_europeans_tw_0.5_signif.db'\n",
       "7. 'gtex_v7_Brain_Amygdala_imputed_europeans_tw_0.5_signif.db'\n",
       "8. 'gtex_v7_Brain_Anterior_cingulate_cortex_BA24_imputed_europeans_tw_0.5_signif.db'\n",
       "9. 'gtex_v7_Brain_Caudate_basal_ganglia_imputed_europeans_tw_0.5_signif.db'\n",
       "10. 'gtex_v7_Brain_Cerebellar_Hemisphere_imputed_europeans_tw_0.5_signif.db'\n",
       "11. 'gtex_v7_Brain_Cerebellum_imputed_europeans_tw_0.5_signif.db'\n",
       "12. 'gtex_v7_Brain_Cortex_imputed_europeans_tw_0.5_signif.db'\n",
       "13. 'gtex_v7_Brain_Frontal_Cortex_BA9_imputed_europeans_tw_0.5_signif.db'\n",
       "14. 'gtex_v7_Brain_Hippocampus_imputed_europeans_tw_0.5_signif.db'\n",
       "15. 'gtex_v7_Brain_Hypothalamus_imputed_europeans_tw_0.5_signif.db'\n",
       "16. 'gtex_v7_Brain_Nucleus_accumbens_basal_ganglia_imputed_europeans_tw_0.5_signif.db'\n",
       "17. 'gtex_v7_Brain_Putamen_basal_ganglia_imputed_europeans_tw_0.5_signif.db'\n",
       "18. 'gtex_v7_Brain_Spinal_cord_cervical_c-1_imputed_europeans_tw_0.5_signif.db'\n",
       "19. 'gtex_v7_Brain_Substantia_nigra_imputed_europeans_tw_0.5_signif.db'\n",
       "20. 'gtex_v7_Breast_Mammary_Tissue_imputed_europeans_tw_0.5_signif.db'\n",
       "21. 'gtex_v7_Cells_EBV-transformed_lymphocytes_imputed_europeans_tw_0.5_signif.db'\n",
       "22. 'gtex_v7_Cells_Transformed_fibroblasts_imputed_europeans_tw_0.5_signif.db'\n",
       "23. 'gtex_v7_Colon_Sigmoid_imputed_europeans_tw_0.5_signif.db'\n",
       "24. 'gtex_v7_Colon_Transverse_imputed_europeans_tw_0.5_signif.db'\n",
       "25. 'gtex_v7_Esophagus_Gastroesophageal_Junction_imputed_europeans_tw_0.5_signif.db'\n",
       "26. 'gtex_v7_Esophagus_Mucosa_imputed_europeans_tw_0.5_signif.db'\n",
       "27. 'gtex_v7_Esophagus_Muscularis_imputed_europeans_tw_0.5_signif.db'\n",
       "28. 'gtex_v7_Heart_Atrial_Appendage_imputed_europeans_tw_0.5_signif.db'\n",
       "29. 'gtex_v7_Heart_Left_Ventricle_imputed_europeans_tw_0.5_signif.db'\n",
       "30. 'gtex_v7_Liver_imputed_europeans_tw_0.5_signif.db'\n",
       "31. 'gtex_v7_Lung_imputed_europeans_tw_0.5_signif.db'\n",
       "32. 'gtex_v7_Minor_Salivary_Gland_imputed_europeans_tw_0.5_signif.db'\n",
       "33. 'gtex_v7_Muscle_Skeletal_imputed_europeans_tw_0.5_signif.db'\n",
       "34. 'gtex_v7_Nerve_Tibial_imputed_europeans_tw_0.5_signif.db'\n",
       "35. 'gtex_v7_Ovary_imputed_europeans_tw_0.5_signif.db'\n",
       "36. 'gtex_v7_Pancreas_imputed_europeans_tw_0.5_signif.db'\n",
       "37. 'gtex_v7_Pituitary_imputed_europeans_tw_0.5_signif.db'\n",
       "38. 'gtex_v7_Prostate_imputed_europeans_tw_0.5_signif.db'\n",
       "39. 'gtex_v7_Skin_Not_Sun_Exposed_Suprapubic_imputed_europeans_tw_0.5_signif.db'\n",
       "40. 'gtex_v7_Skin_Sun_Exposed_Lower_leg_imputed_europeans_tw_0.5_signif.db'\n",
       "41. 'gtex_v7_Small_Intestine_Terminal_Ileum_imputed_europeans_tw_0.5_signif.db'\n",
       "42. 'gtex_v7_Spleen_imputed_europeans_tw_0.5_signif.db'\n",
       "43. 'gtex_v7_Stomach_imputed_europeans_tw_0.5_signif.db'\n",
       "44. 'gtex_v7_Testis_imputed_europeans_tw_0.5_signif.db'\n",
       "45. 'gtex_v7_Thyroid_imputed_europeans_tw_0.5_signif.db'\n",
       "46. 'gtex_v7_Uterus_imputed_europeans_tw_0.5_signif.db'\n",
       "47. 'gtex_v7_Vagina_imputed_europeans_tw_0.5_signif.db'\n",
       "48. 'gtex_v7_Whole_Blood_imputed_europeans_tw_0.5_signif.db'\n",
       "\n",
       "\n"
      ],
      "text/plain": [
       " [1] \"gtex_v7_Adipose_Subcutaneous_imputed_europeans_tw_0.5_signif.db\"                 \n",
       " [2] \"gtex_v7_Adipose_Visceral_Omentum_imputed_europeans_tw_0.5_signif.db\"             \n",
       " [3] \"gtex_v7_Adrenal_Gland_imputed_europeans_tw_0.5_signif.db\"                        \n",
       " [4] \"gtex_v7_Artery_Aorta_imputed_europeans_tw_0.5_signif.db\"                         \n",
       " [5] \"gtex_v7_Artery_Coronary_imputed_europeans_tw_0.5_signif.db\"                      \n",
       " [6] \"gtex_v7_Artery_Tibial_imputed_europeans_tw_0.5_signif.db\"                        \n",
       " [7] \"gtex_v7_Brain_Amygdala_imputed_europeans_tw_0.5_signif.db\"                       \n",
       " [8] \"gtex_v7_Brain_Anterior_cingulate_cortex_BA24_imputed_europeans_tw_0.5_signif.db\" \n",
       " [9] \"gtex_v7_Brain_Caudate_basal_ganglia_imputed_europeans_tw_0.5_signif.db\"          \n",
       "[10] \"gtex_v7_Brain_Cerebellar_Hemisphere_imputed_europeans_tw_0.5_signif.db\"          \n",
       "[11] \"gtex_v7_Brain_Cerebellum_imputed_europeans_tw_0.5_signif.db\"                     \n",
       "[12] \"gtex_v7_Brain_Cortex_imputed_europeans_tw_0.5_signif.db\"                         \n",
       "[13] \"gtex_v7_Brain_Frontal_Cortex_BA9_imputed_europeans_tw_0.5_signif.db\"             \n",
       "[14] \"gtex_v7_Brain_Hippocampus_imputed_europeans_tw_0.5_signif.db\"                    \n",
       "[15] \"gtex_v7_Brain_Hypothalamus_imputed_europeans_tw_0.5_signif.db\"                   \n",
       "[16] \"gtex_v7_Brain_Nucleus_accumbens_basal_ganglia_imputed_europeans_tw_0.5_signif.db\"\n",
       "[17] \"gtex_v7_Brain_Putamen_basal_ganglia_imputed_europeans_tw_0.5_signif.db\"          \n",
       "[18] \"gtex_v7_Brain_Spinal_cord_cervical_c-1_imputed_europeans_tw_0.5_signif.db\"       \n",
       "[19] \"gtex_v7_Brain_Substantia_nigra_imputed_europeans_tw_0.5_signif.db\"               \n",
       "[20] \"gtex_v7_Breast_Mammary_Tissue_imputed_europeans_tw_0.5_signif.db\"                \n",
       "[21] \"gtex_v7_Cells_EBV-transformed_lymphocytes_imputed_europeans_tw_0.5_signif.db\"    \n",
       "[22] \"gtex_v7_Cells_Transformed_fibroblasts_imputed_europeans_tw_0.5_signif.db\"        \n",
       "[23] \"gtex_v7_Colon_Sigmoid_imputed_europeans_tw_0.5_signif.db\"                        \n",
       "[24] \"gtex_v7_Colon_Transverse_imputed_europeans_tw_0.5_signif.db\"                     \n",
       "[25] \"gtex_v7_Esophagus_Gastroesophageal_Junction_imputed_europeans_tw_0.5_signif.db\"  \n",
       "[26] \"gtex_v7_Esophagus_Mucosa_imputed_europeans_tw_0.5_signif.db\"                     \n",
       "[27] \"gtex_v7_Esophagus_Muscularis_imputed_europeans_tw_0.5_signif.db\"                 \n",
       "[28] \"gtex_v7_Heart_Atrial_Appendage_imputed_europeans_tw_0.5_signif.db\"               \n",
       "[29] \"gtex_v7_Heart_Left_Ventricle_imputed_europeans_tw_0.5_signif.db\"                 \n",
       "[30] \"gtex_v7_Liver_imputed_europeans_tw_0.5_signif.db\"                                \n",
       "[31] \"gtex_v7_Lung_imputed_europeans_tw_0.5_signif.db\"                                 \n",
       "[32] \"gtex_v7_Minor_Salivary_Gland_imputed_europeans_tw_0.5_signif.db\"                 \n",
       "[33] \"gtex_v7_Muscle_Skeletal_imputed_europeans_tw_0.5_signif.db\"                      \n",
       "[34] \"gtex_v7_Nerve_Tibial_imputed_europeans_tw_0.5_signif.db\"                         \n",
       "[35] \"gtex_v7_Ovary_imputed_europeans_tw_0.5_signif.db\"                                \n",
       "[36] \"gtex_v7_Pancreas_imputed_europeans_tw_0.5_signif.db\"                             \n",
       "[37] \"gtex_v7_Pituitary_imputed_europeans_tw_0.5_signif.db\"                            \n",
       "[38] \"gtex_v7_Prostate_imputed_europeans_tw_0.5_signif.db\"                             \n",
       "[39] \"gtex_v7_Skin_Not_Sun_Exposed_Suprapubic_imputed_europeans_tw_0.5_signif.db\"      \n",
       "[40] \"gtex_v7_Skin_Sun_Exposed_Lower_leg_imputed_europeans_tw_0.5_signif.db\"           \n",
       "[41] \"gtex_v7_Small_Intestine_Terminal_Ileum_imputed_europeans_tw_0.5_signif.db\"       \n",
       "[42] \"gtex_v7_Spleen_imputed_europeans_tw_0.5_signif.db\"                               \n",
       "[43] \"gtex_v7_Stomach_imputed_europeans_tw_0.5_signif.db\"                              \n",
       "[44] \"gtex_v7_Testis_imputed_europeans_tw_0.5_signif.db\"                               \n",
       "[45] \"gtex_v7_Thyroid_imputed_europeans_tw_0.5_signif.db\"                              \n",
       "[46] \"gtex_v7_Uterus_imputed_europeans_tw_0.5_signif.db\"                               \n",
       "[47] \"gtex_v7_Vagina_imputed_europeans_tw_0.5_signif.db\"                               \n",
       "[48] \"gtex_v7_Whole_Blood_imputed_europeans_tw_0.5_signif.db\"                          "
      ]
     },
     "metadata": {},
     "output_type": "display_data"
    }
   ],
   "source": [
    "db_vec"
   ]
  },
  {
   "cell_type": "code",
   "execution_count": 17,
   "metadata": {},
   "outputs": [
    {
     "data": {
      "text/html": [
       "'/gpfs/ysm/pi/zhao-data/zy92/predictDB'"
      ],
      "text/latex": [
       "'/gpfs/ysm/pi/zhao-data/zy92/predictDB'"
      ],
      "text/markdown": [
       "'/gpfs/ysm/pi/zhao-data/zy92/predictDB'"
      ],
      "text/plain": [
       "[1] \"/gpfs/ysm/pi/zhao-data/zy92/predictDB\""
      ]
     },
     "metadata": {},
     "output_type": "display_data"
    }
   ],
   "source": [
    "getwd()"
   ]
  },
  {
   "cell_type": "code",
   "execution_count": 39,
   "metadata": {},
   "outputs": [],
   "source": [
    "check_weights <- function(gene)  { \n",
    "    snp_total <- c()\n",
    "    snp_gene <- list()\n",
    "    weights_gene <- list()\n",
    "    #IRdisplay::display_html(paste0(\"INFO: reading snp info\"))\n",
    "    for(i in 1:length(db_vec))\n",
    "      { \n",
    "        dbname <- db_vec[i]\n",
    "        db <- dbConnect(sqlite,dbname)\n",
    "        query <- function(...) dbGetQuery(db, ...)\n",
    "        #print(query('select count(*) from weights'))\n",
    "        snp_cur <- query(paste0('select * from weights where gene = \"', gene, '\"', sep = \"\"))$rsid\n",
    "        snp_gene[[dbname]] <- snp_cur\n",
    "        snp_total <- c(snp_total, snp_cur)\n",
    "        weights_gene[[dbname]] <- query(paste('select * from weights where gene = \"', gene, '\"', sep = \"\"))$weight\n",
    "      }\n",
    "    \n",
    "    snp_total <- unique(snp_total)\n",
    "    weights <- matrix(0, length(snp_total), length(db_vec))\n",
    "    #IRdisplay::display_html(paste0(\"INFO: finish loading snp info\"))\n",
    "    for(i in 1:length(db_vec))\n",
    "      { \n",
    "        total_snp <- c()\n",
    "        #IRdisplay::display_html(paste0(\"INFO: reading \", db_vec[i]))\n",
    "        dbname <- db_vec[i]\n",
    "        #db <- dbConnect(sqlite,dbname)\n",
    "        #print(query('select count(*) from weights'))\n",
    "        snp_cur <- snp_gene[[dbname]]\n",
    "        index <- match(snp_cur, snp_total)\n",
    "        indi <- is.na(index) == FALSE\n",
    "        index <- match(snp_cur, snp_total)\n",
    "        indi <- !is.na(index)\n",
    "        weights[index[indi],i] <- weights_gene[[dbname]][indi]\n",
    "    }\n",
    "    #return(list(output1 = weights, output2 = weights_gene))  \n",
    "    return(weights)\n",
    "}"
   ]
  },
  {
   "cell_type": "code",
   "execution_count": 19,
   "metadata": {},
   "outputs": [],
   "source": [
    "query <- function(...) dbGetQuery(db, ...)"
   ]
  },
  {
   "cell_type": "code",
   "execution_count": 20,
   "metadata": {},
   "outputs": [
    {
     "data": {
      "text/html": [
       "INFO: reading snp info"
      ]
     },
     "metadata": {},
     "output_type": "display_data"
    },
    {
     "data": {
      "text/html": [
       "INFO: finish loading snp info"
      ]
     },
     "metadata": {},
     "output_type": "display_data"
    }
   ],
   "source": [
    "test_weights <- check_weights(\"ENSG00000228327.2\")"
   ]
  },
  {
   "cell_type": "code",
   "execution_count": 25,
   "metadata": {},
   "outputs": [
    {
     "data": {
      "text/html": [
       "'matrix'"
      ],
      "text/latex": [
       "'matrix'"
      ],
      "text/markdown": [
       "'matrix'"
      ],
      "text/plain": [
       "[1] \"matrix\""
      ]
     },
     "metadata": {},
     "output_type": "display_data"
    },
    {
     "data": {
      "text/html": [
       "<ol class=list-inline>\n",
       "\t<li>143</li>\n",
       "\t<li>48</li>\n",
       "</ol>\n"
      ],
      "text/latex": [
       "\\begin{enumerate*}\n",
       "\\item 143\n",
       "\\item 48\n",
       "\\end{enumerate*}\n"
      ],
      "text/markdown": [
       "1. 143\n",
       "2. 48\n",
       "\n",
       "\n"
      ],
      "text/plain": [
       "[1] 143  48"
      ]
     },
     "metadata": {},
     "output_type": "display_data"
    }
   ],
   "source": [
    "class(test_weights)\n",
    "dim(test_weights)"
   ]
  },
  {
   "cell_type": "code",
   "execution_count": 34,
   "metadata": {},
   "outputs": [
    {
     "data": {
      "text/html": [
       "<table>\n",
       "<caption>A matrix: 6 × 48 of type dbl</caption>\n",
       "<tbody>\n",
       "\t<tr><td>0</td><td>0</td><td>0</td><td>0</td><td>0</td><td>-0.06196984</td><td>0</td><td>0</td><td>0</td><td>0</td><td>⋯</td><td> 0.000000000</td><td>0</td><td>0</td><td>0</td><td> 0.0000000</td><td>0</td><td>0.00000000</td><td>0</td><td>0</td><td>0</td></tr>\n",
       "\t<tr><td>0</td><td>0</td><td>0</td><td>0</td><td>0</td><td>-0.02233228</td><td>0</td><td>0</td><td>0</td><td>0</td><td>⋯</td><td> 0.000000000</td><td>0</td><td>0</td><td>0</td><td> 0.0000000</td><td>0</td><td>0.00000000</td><td>0</td><td>0</td><td>0</td></tr>\n",
       "\t<tr><td>0</td><td>0</td><td>0</td><td>0</td><td>0</td><td> 0.04236974</td><td>0</td><td>0</td><td>0</td><td>0</td><td>⋯</td><td> 0.000000000</td><td>0</td><td>0</td><td>0</td><td>-0.1428288</td><td>0</td><td>0.00000000</td><td>0</td><td>0</td><td>0</td></tr>\n",
       "\t<tr><td>0</td><td>0</td><td>0</td><td>0</td><td>0</td><td>-0.08358777</td><td>0</td><td>0</td><td>0</td><td>0</td><td>⋯</td><td>-0.007685157</td><td>0</td><td>0</td><td>0</td><td> 0.0000000</td><td>0</td><td>0.16563189</td><td>0</td><td>0</td><td>0</td></tr>\n",
       "\t<tr><td>0</td><td>0</td><td>0</td><td>0</td><td>0</td><td> 0.20049585</td><td>0</td><td>0</td><td>0</td><td>0</td><td>⋯</td><td>-0.015274046</td><td>0</td><td>0</td><td>0</td><td> 0.0000000</td><td>0</td><td>0.00000000</td><td>0</td><td>0</td><td>0</td></tr>\n",
       "\t<tr><td>0</td><td>0</td><td>0</td><td>0</td><td>0</td><td> 0.12979086</td><td>0</td><td>0</td><td>0</td><td>0</td><td>⋯</td><td> 0.000000000</td><td>0</td><td>0</td><td>0</td><td> 0.0000000</td><td>0</td><td>0.02350298</td><td>0</td><td>0</td><td>0</td></tr>\n",
       "</tbody>\n",
       "</table>\n"
      ],
      "text/latex": [
       "A matrix: 6 × 48 of type dbl\n",
       "\\begin{tabular}{llllllllllllllllllllllllllllllllllllllllllllllll}\n",
       "\t 0 & 0 & 0 & 0 & 0 & -0.06196984 & 0 & 0 & 0 & 0 & 0 & 0 & 0 & 0 & 0 & 0 & 0 & 0 & 0 & 0 & 0 & 0 & 0 & 0 & 0 & 0 & 0 & 0 & 0 & 0 & 0 & 0 &  0.0000000 & 0.0000000 & 0 & 0 & 0 & 0 &  0.000000000 & 0 & 0 & 0 &  0.0000000 & 0 & 0.00000000 & 0 & 0 & 0\\\\\n",
       "\t 0 & 0 & 0 & 0 & 0 & -0.02233228 & 0 & 0 & 0 & 0 & 0 & 0 & 0 & 0 & 0 & 0 & 0 & 0 & 0 & 0 & 0 & 0 & 0 & 0 & 0 & 0 & 0 & 0 & 0 & 0 & 0 & 0 &  0.0000000 & 0.0000000 & 0 & 0 & 0 & 0 &  0.000000000 & 0 & 0 & 0 &  0.0000000 & 0 & 0.00000000 & 0 & 0 & 0\\\\\n",
       "\t 0 & 0 & 0 & 0 & 0 &  0.04236974 & 0 & 0 & 0 & 0 & 0 & 0 & 0 & 0 & 0 & 0 & 0 & 0 & 0 & 0 & 0 & 0 & 0 & 0 & 0 & 0 & 0 & 0 & 0 & 0 & 0 & 0 & -0.1503525 & 0.0000000 & 0 & 0 & 0 & 0 &  0.000000000 & 0 & 0 & 0 & -0.1428288 & 0 & 0.00000000 & 0 & 0 & 0\\\\\n",
       "\t 0 & 0 & 0 & 0 & 0 & -0.08358777 & 0 & 0 & 0 & 0 & 0 & 0 & 0 & 0 & 0 & 0 & 0 & 0 & 0 & 0 & 0 & 0 & 0 & 0 & 0 & 0 & 0 & 0 & 0 & 0 & 0 & 0 &  0.0000000 & 0.0000000 & 0 & 0 & 0 & 0 & -0.007685157 & 0 & 0 & 0 &  0.0000000 & 0 & 0.16563189 & 0 & 0 & 0\\\\\n",
       "\t 0 & 0 & 0 & 0 & 0 &  0.20049585 & 0 & 0 & 0 & 0 & 0 & 0 & 0 & 0 & 0 & 0 & 0 & 0 & 0 & 0 & 0 & 0 & 0 & 0 & 0 & 0 & 0 & 0 & 0 & 0 & 0 & 0 &  0.0000000 & 0.1204981 & 0 & 0 & 0 & 0 & -0.015274046 & 0 & 0 & 0 &  0.0000000 & 0 & 0.00000000 & 0 & 0 & 0\\\\\n",
       "\t 0 & 0 & 0 & 0 & 0 &  0.12979086 & 0 & 0 & 0 & 0 & 0 & 0 & 0 & 0 & 0 & 0 & 0 & 0 & 0 & 0 & 0 & 0 & 0 & 0 & 0 & 0 & 0 & 0 & 0 & 0 & 0 & 0 &  0.0000000 & 0.0000000 & 0 & 0 & 0 & 0 &  0.000000000 & 0 & 0 & 0 &  0.0000000 & 0 & 0.02350298 & 0 & 0 & 0\\\\\n",
       "\\end{tabular}\n"
      ],
      "text/markdown": [
       "\n",
       "A matrix: 6 × 48 of type dbl\n",
       "\n",
       "| 0 | 0 | 0 | 0 | 0 | -0.06196984 | 0 | 0 | 0 | 0 | ⋯ |  0.000000000 | 0 | 0 | 0 |  0.0000000 | 0 | 0.00000000 | 0 | 0 | 0 |\n",
       "| 0 | 0 | 0 | 0 | 0 | -0.02233228 | 0 | 0 | 0 | 0 | ⋯ |  0.000000000 | 0 | 0 | 0 |  0.0000000 | 0 | 0.00000000 | 0 | 0 | 0 |\n",
       "| 0 | 0 | 0 | 0 | 0 |  0.04236974 | 0 | 0 | 0 | 0 | ⋯ |  0.000000000 | 0 | 0 | 0 | -0.1428288 | 0 | 0.00000000 | 0 | 0 | 0 |\n",
       "| 0 | 0 | 0 | 0 | 0 | -0.08358777 | 0 | 0 | 0 | 0 | ⋯ | -0.007685157 | 0 | 0 | 0 |  0.0000000 | 0 | 0.16563189 | 0 | 0 | 0 |\n",
       "| 0 | 0 | 0 | 0 | 0 |  0.20049585 | 0 | 0 | 0 | 0 | ⋯ | -0.015274046 | 0 | 0 | 0 |  0.0000000 | 0 | 0.00000000 | 0 | 0 | 0 |\n",
       "| 0 | 0 | 0 | 0 | 0 |  0.12979086 | 0 | 0 | 0 | 0 | ⋯ |  0.000000000 | 0 | 0 | 0 |  0.0000000 | 0 | 0.02350298 | 0 | 0 | 0 |\n",
       "\n"
      ],
      "text/plain": [
       "     [,1] [,2] [,3] [,4] [,5] [,6]        [,7] [,8] [,9] [,10] [,11]\n",
       "[1,] 0    0    0    0    0    -0.06196984 0    0    0    0     ⋯    \n",
       "[2,] 0    0    0    0    0    -0.02233228 0    0    0    0     ⋯    \n",
       "[3,] 0    0    0    0    0     0.04236974 0    0    0    0     ⋯    \n",
       "[4,] 0    0    0    0    0    -0.08358777 0    0    0    0     ⋯    \n",
       "[5,] 0    0    0    0    0     0.20049585 0    0    0    0     ⋯    \n",
       "[6,] 0    0    0    0    0     0.12979086 0    0    0    0     ⋯    \n",
       "     [,12]        [,13] [,14] [,15] [,16]      [,17] [,18]      [,19] [,20]\n",
       "[1,]  0.000000000 0     0     0      0.0000000 0     0.00000000 0     0    \n",
       "[2,]  0.000000000 0     0     0      0.0000000 0     0.00000000 0     0    \n",
       "[3,]  0.000000000 0     0     0     -0.1428288 0     0.00000000 0     0    \n",
       "[4,] -0.007685157 0     0     0      0.0000000 0     0.16563189 0     0    \n",
       "[5,] -0.015274046 0     0     0      0.0000000 0     0.00000000 0     0    \n",
       "[6,]  0.000000000 0     0     0      0.0000000 0     0.02350298 0     0    \n",
       "     [,21]\n",
       "[1,] 0    \n",
       "[2,] 0    \n",
       "[3,] 0    \n",
       "[4,] 0    \n",
       "[5,] 0    \n",
       "[6,] 0    "
      ]
     },
     "metadata": {},
     "output_type": "display_data"
    }
   ],
   "source": [
    "head(test_weights)"
   ]
  },
  {
   "cell_type": "code",
   "execution_count": 29,
   "metadata": {},
   "outputs": [
    {
     "name": "stderr",
     "output_type": "stream",
     "text": [
      "Warning message in f(...):\n",
      "“Raster pixels are placed at uneven horizontal intervals and will be shifted. Consider using geom_tile() instead.”"
     ]
    },
    {
     "data": {
      "image/png": "[encoded data removed]",
      "text/plain": [
       "plot without title"
      ]
     },
     "metadata": {},
     "output_type": "display_data"
    }
   ],
   "source": [
    "suppressPackageStartupMessages(library(reshape2))\n",
    "suppressPackageStartupMessages(library(ggplot2))\n",
    "\n",
    "longData<-melt(test_weights)\n",
    "longData<-longData[longData$value!=0,]\n",
    "\n",
    "ggplot(longData, aes(x = Var2, y = Var1)) + \n",
    "  geom_raster(aes(fill=value)) + \n",
    "  scale_fill_gradient2() + \n",
    "  #scale_fill_gradientn(colours=c(\"blue\",\"red\"), \n",
    "  #  values=rescale(c(-1, 0, 1))) + \n",
    "    #values=rescale(c(-1,0-.Machine$double.eps,0,0+.Machine$double.eps,1)))\n",
    "\n",
    "\n",
    "\n",
    "  #scale_fill_gradient(low=\"blue\", high=\"red\") +\n",
    "  labs(x=\"tissues\", y=\"SNPs\", title=\"Weight Values\") +\n",
    "  theme_bw() + theme(axis.text.x=element_text(size=5, angle=0),\n",
    "                     axis.text.y=element_text(size=5),\n",
    "                    plot.title=element_text(size=11))\n"
   ]
  },
  {
   "cell_type": "code",
   "execution_count": 24,
   "metadata": {},
   "outputs": [],
   "source": [
    "plot_weights <- function(test_weights) {\n",
    "\n",
    "    longData<-melt(test_weights)\n",
    "    longData<-longData[longData$value!=0,]\n",
    "\n",
    "    ggplot(longData, aes(x = Var1, y = Var2)) + \n",
    "      geom_raster(aes(fill=value)) + \n",
    "      scale_fill_gradient2() + \n",
    "      labs(x=\"SNPs\", y=\"tissues\", title=\"Weight Values\") +\n",
    "      theme_bw() + theme(axis.text.x=element_text(size=5, angle=0),\n",
    "                         axis.text.y=element_text(size=5),\n",
    "                        plot.title=element_text(size=11))\n",
    "    }"
   ]
  },
  {
   "cell_type": "code",
   "execution_count": 27,
   "metadata": {},
   "outputs": [],
   "source": [
    "\n",
    "\n",
    "\n",
    "plot_weights <- function(gene) {\n",
    "    test_weights <- check_weights(gene)\n",
    "    longData<-melt(test_weights)\n",
    "    longData<-longData[longData$value!=0,]\n",
    "\n",
    "    ggplot(longData, aes(x = Var1, y = Var2)) + \n",
    "      geom_raster(aes(fill=value)) + \n",
    "      scale_fill_gradient2() + \n",
    "      labs(x=\"SNPs\", y=\"tissues\", title=\"Weight Values\") +\n",
    "      theme_bw() + theme(axis.text.x=element_text(size=11, angle=0),\n",
    "                         axis.text.y=element_text(size=11),\n",
    "                        plot.title=element_text(size=11))\n",
    "    }\n",
    "\n"
   ]
  },
  {
   "cell_type": "code",
   "execution_count": 37,
   "metadata": {},
   "outputs": [
    {
     "data": {
      "text/html": [
       "<ol class=list-inline>\n",
       "\t<li>0</li>\n",
       "\t<li>0</li>\n",
       "\t<li>0</li>\n",
       "\t<li>0</li>\n",
       "\t<li>0</li>\n",
       "\t<li>-1</li>\n",
       "\t<li>0</li>\n",
       "\t<li>0</li>\n",
       "\t<li>0</li>\n",
       "\t<li>0</li>\n",
       "\t<li>0</li>\n",
       "\t<li>0</li>\n",
       "\t<li>0</li>\n",
       "\t<li>0</li>\n",
       "\t<li>0</li>\n",
       "\t<li>0</li>\n",
       "\t<li>0</li>\n",
       "\t<li>0</li>\n",
       "\t<li>0</li>\n",
       "\t<li>0</li>\n",
       "\t<li>0</li>\n",
       "\t<li>0</li>\n",
       "\t<li>0</li>\n",
       "\t<li>0</li>\n",
       "\t<li>0</li>\n",
       "\t<li>0</li>\n",
       "\t<li>0</li>\n",
       "\t<li>0</li>\n",
       "\t<li>0</li>\n",
       "\t<li>0</li>\n",
       "\t<li>0</li>\n",
       "\t<li>0</li>\n",
       "\t<li>0</li>\n",
       "\t<li>0</li>\n",
       "\t<li>0</li>\n",
       "\t<li>0</li>\n",
       "\t<li>0</li>\n",
       "\t<li>0</li>\n",
       "\t<li>0</li>\n",
       "\t<li>0</li>\n",
       "\t<li>0</li>\n",
       "\t<li>0</li>\n",
       "\t<li>0</li>\n",
       "\t<li>0</li>\n",
       "\t<li>0</li>\n",
       "\t<li>0</li>\n",
       "\t<li>0</li>\n",
       "\t<li>0</li>\n",
       "</ol>\n"
      ],
      "text/latex": [
       "\\begin{enumerate*}\n",
       "\\item 0\n",
       "\\item 0\n",
       "\\item 0\n",
       "\\item 0\n",
       "\\item 0\n",
       "\\item -1\n",
       "\\item 0\n",
       "\\item 0\n",
       "\\item 0\n",
       "\\item 0\n",
       "\\item 0\n",
       "\\item 0\n",
       "\\item 0\n",
       "\\item 0\n",
       "\\item 0\n",
       "\\item 0\n",
       "\\item 0\n",
       "\\item 0\n",
       "\\item 0\n",
       "\\item 0\n",
       "\\item 0\n",
       "\\item 0\n",
       "\\item 0\n",
       "\\item 0\n",
       "\\item 0\n",
       "\\item 0\n",
       "\\item 0\n",
       "\\item 0\n",
       "\\item 0\n",
       "\\item 0\n",
       "\\item 0\n",
       "\\item 0\n",
       "\\item 0\n",
       "\\item 0\n",
       "\\item 0\n",
       "\\item 0\n",
       "\\item 0\n",
       "\\item 0\n",
       "\\item 0\n",
       "\\item 0\n",
       "\\item 0\n",
       "\\item 0\n",
       "\\item 0\n",
       "\\item 0\n",
       "\\item 0\n",
       "\\item 0\n",
       "\\item 0\n",
       "\\item 0\n",
       "\\end{enumerate*}\n"
      ],
      "text/markdown": [
       "1. 0\n",
       "2. 0\n",
       "3. 0\n",
       "4. 0\n",
       "5. 0\n",
       "6. -1\n",
       "7. 0\n",
       "8. 0\n",
       "9. 0\n",
       "10. 0\n",
       "11. 0\n",
       "12. 0\n",
       "13. 0\n",
       "14. 0\n",
       "15. 0\n",
       "16. 0\n",
       "17. 0\n",
       "18. 0\n",
       "19. 0\n",
       "20. 0\n",
       "21. 0\n",
       "22. 0\n",
       "23. 0\n",
       "24. 0\n",
       "25. 0\n",
       "26. 0\n",
       "27. 0\n",
       "28. 0\n",
       "29. 0\n",
       "30. 0\n",
       "31. 0\n",
       "32. 0\n",
       "33. 0\n",
       "34. 0\n",
       "35. 0\n",
       "36. 0\n",
       "37. 0\n",
       "38. 0\n",
       "39. 0\n",
       "40. 0\n",
       "41. 0\n",
       "42. 0\n",
       "43. 0\n",
       "44. 0\n",
       "45. 0\n",
       "46. 0\n",
       "47. 0\n",
       "48. 0\n",
       "\n",
       "\n"
      ],
      "text/plain": [
       " [1]  0  0  0  0  0 -1  0  0  0  0  0  0  0  0  0  0  0  0  0  0  0  0  0  0  0\n",
       "[26]  0  0  0  0  0  0  0  0  0  0  0  0  0  0  0  0  0  0  0  0  0  0  0"
      ]
     },
     "metadata": {},
     "output_type": "display_data"
    }
   ],
   "source": [
    "sign(test_weights[1,])"
   ]
  },
  {
   "cell_type": "code",
   "execution_count": 40,
   "metadata": {},
   "outputs": [],
   "source": [
    "test_opt <- analyze_weights(gene)"
   ]
  },
  {
   "cell_type": "code",
   "execution_count": 45,
   "metadata": {},
   "outputs": [
    {
     "data": {
      "text/html": [
       "2"
      ],
      "text/latex": [
       "2"
      ],
      "text/markdown": [
       "2"
      ],
      "text/plain": [
       "[1] 2"
      ]
     },
     "metadata": {},
     "output_type": "display_data"
    }
   ],
   "source": [
    "length(test_opt)"
   ]
  },
  {
   "cell_type": "code",
   "execution_count": 43,
   "metadata": {},
   "outputs": [
    {
     "data": {
      "text/html": [
       "'ENSG00000000457.9'"
      ],
      "text/latex": [
       "'ENSG00000000457.9'"
      ],
      "text/markdown": [
       "'ENSG00000000457.9'"
      ],
      "text/plain": [
       "[1] \"ENSG00000000457.9\""
      ]
     },
     "metadata": {},
     "output_type": "display_data"
    }
   ],
   "source": [
    "gene_set[1]"
   ]
  },
  {
   "cell_type": "code",
   "execution_count": 61,
   "metadata": {},
   "outputs": [
    {
     "data": {
      "text/html": [
       "INFO: gene500"
      ]
     },
     "metadata": {},
     "output_type": "display_data"
    },
    {
     "data": {
      "text/html": [
       "INFO: gene1000"
      ]
     },
     "metadata": {},
     "output_type": "display_data"
    },
    {
     "data": {
      "text/html": [
       "INFO: gene1500"
      ]
     },
     "metadata": {},
     "output_type": "display_data"
    },
    {
     "data": {
      "text/html": [
       "INFO: gene2000"
      ]
     },
     "metadata": {},
     "output_type": "display_data"
    },
    {
     "data": {
      "text/html": [
       "INFO: gene2500"
      ]
     },
     "metadata": {},
     "output_type": "display_data"
    },
    {
     "data": {
      "text/html": [
       "INFO: gene3000"
      ]
     },
     "metadata": {},
     "output_type": "display_data"
    },
    {
     "data": {
      "text/html": [
       "INFO: gene3500"
      ]
     },
     "metadata": {},
     "output_type": "display_data"
    },
    {
     "data": {
      "text/html": [
       "INFO: gene4000"
      ]
     },
     "metadata": {},
     "output_type": "display_data"
    },
    {
     "data": {
      "text/html": [
       "INFO: gene4500"
      ]
     },
     "metadata": {},
     "output_type": "display_data"
    },
    {
     "data": {
      "text/html": [
       "INFO: gene5000"
      ]
     },
     "metadata": {},
     "output_type": "display_data"
    },
    {
     "data": {
      "text/html": [
       "INFO: gene5500"
      ]
     },
     "metadata": {},
     "output_type": "display_data"
    },
    {
     "data": {
      "text/html": [
       "INFO: gene6000"
      ]
     },
     "metadata": {},
     "output_type": "display_data"
    },
    {
     "data": {
      "text/html": [
       "INFO: gene6500"
      ]
     },
     "metadata": {},
     "output_type": "display_data"
    },
    {
     "data": {
      "text/html": [
       "INFO: gene7000"
      ]
     },
     "metadata": {},
     "output_type": "display_data"
    },
    {
     "data": {
      "text/html": [
       "INFO: gene7500"
      ]
     },
     "metadata": {},
     "output_type": "display_data"
    },
    {
     "data": {
      "text/html": [
       "INFO: gene8000"
      ]
     },
     "metadata": {},
     "output_type": "display_data"
    },
    {
     "data": {
      "text/html": [
       "INFO: gene8500"
      ]
     },
     "metadata": {},
     "output_type": "display_data"
    },
    {
     "data": {
      "text/html": [
       "INFO: gene9000"
      ]
     },
     "metadata": {},
     "output_type": "display_data"
    },
    {
     "data": {
      "text/html": [
       "INFO: gene9500"
      ]
     },
     "metadata": {},
     "output_type": "display_data"
    },
    {
     "data": {
      "text/html": [
       "INFO: gene10000"
      ]
     },
     "metadata": {},
     "output_type": "display_data"
    },
    {
     "data": {
      "text/html": [
       "INFO: gene10500"
      ]
     },
     "metadata": {},
     "output_type": "display_data"
    },
    {
     "data": {
      "text/html": [
       "INFO: gene11000"
      ]
     },
     "metadata": {},
     "output_type": "display_data"
    },
    {
     "data": {
      "text/html": [
       "INFO: gene11500"
      ]
     },
     "metadata": {},
     "output_type": "display_data"
    },
    {
     "data": {
      "text/html": [
       "INFO: gene12000"
      ]
     },
     "metadata": {},
     "output_type": "display_data"
    },
    {
     "data": {
      "text/html": [
       "INFO: gene12500"
      ]
     },
     "metadata": {},
     "output_type": "display_data"
    },
    {
     "data": {
      "text/html": [
       "INFO: gene13000"
      ]
     },
     "metadata": {},
     "output_type": "display_data"
    },
    {
     "data": {
      "text/html": [
       "INFO: gene13500"
      ]
     },
     "metadata": {},
     "output_type": "display_data"
    },
    {
     "data": {
      "text/html": [
       "INFO: gene14000"
      ]
     },
     "metadata": {},
     "output_type": "display_data"
    },
    {
     "data": {
      "text/html": [
       "INFO: gene14500"
      ]
     },
     "metadata": {},
     "output_type": "display_data"
    },
    {
     "data": {
      "text/html": [
       "INFO: gene15000"
      ]
     },
     "metadata": {},
     "output_type": "display_data"
    },
    {
     "data": {
      "text/html": [
       "INFO: gene15500"
      ]
     },
     "metadata": {},
     "output_type": "display_data"
    },
    {
     "data": {
      "text/html": [
       "INFO: gene16000"
      ]
     },
     "metadata": {},
     "output_type": "display_data"
    },
    {
     "data": {
      "text/html": [
       "INFO: gene16500"
      ]
     },
     "metadata": {},
     "output_type": "display_data"
    },
    {
     "data": {
      "text/html": [
       "INFO: gene17000"
      ]
     },
     "metadata": {},
     "output_type": "display_data"
    },
    {
     "data": {
      "text/html": [
       "INFO: gene17500"
      ]
     },
     "metadata": {},
     "output_type": "display_data"
    },
    {
     "data": {
      "text/html": [
       "INFO: gene18000"
      ]
     },
     "metadata": {},
     "output_type": "display_data"
    },
    {
     "data": {
      "text/html": [
       "INFO: gene18500"
      ]
     },
     "metadata": {},
     "output_type": "display_data"
    },
    {
     "data": {
      "text/html": [
       "INFO: gene19000"
      ]
     },
     "metadata": {},
     "output_type": "display_data"
    },
    {
     "data": {
      "text/html": [
       "INFO: gene19500"
      ]
     },
     "metadata": {},
     "output_type": "display_data"
    },
    {
     "data": {
      "text/html": [
       "INFO: gene20000"
      ]
     },
     "metadata": {},
     "output_type": "display_data"
    },
    {
     "data": {
      "text/html": [
       "INFO: gene20500"
      ]
     },
     "metadata": {},
     "output_type": "display_data"
    },
    {
     "data": {
      "text/html": [
       "INFO: gene21000"
      ]
     },
     "metadata": {},
     "output_type": "display_data"
    },
    {
     "data": {
      "text/html": [
       "INFO: gene21500"
      ]
     },
     "metadata": {},
     "output_type": "display_data"
    },
    {
     "data": {
      "text/html": [
       "INFO: gene22000"
      ]
     },
     "metadata": {},
     "output_type": "display_data"
    },
    {
     "data": {
      "text/html": [
       "INFO: gene22500"
      ]
     },
     "metadata": {},
     "output_type": "display_data"
    },
    {
     "data": {
      "text/html": [
       "INFO: gene23000"
      ]
     },
     "metadata": {},
     "output_type": "display_data"
    },
    {
     "data": {
      "text/html": [
       "INFO: gene23500"
      ]
     },
     "metadata": {},
     "output_type": "display_data"
    },
    {
     "data": {
      "text/html": [
       "INFO: gene24000"
      ]
     },
     "metadata": {},
     "output_type": "display_data"
    },
    {
     "data": {
      "text/html": [
       "INFO: gene24500"
      ]
     },
     "metadata": {},
     "output_type": "display_data"
    },
    {
     "data": {
      "text/html": [
       "INFO: gene25000"
      ]
     },
     "metadata": {},
     "output_type": "display_data"
    },
    {
     "data": {
      "text/html": [
       "INFO: gene25500"
      ]
     },
     "metadata": {},
     "output_type": "display_data"
    }
   ],
   "source": [
    "summary_list <- list()\n",
    "# function \n",
    "analyze_weights <- function(gene, summary_list) {\n",
    "    test_weights <- check_weights(gene)\n",
    "    n_snp <- nrow(test_weights)\n",
    "    n_tissue <- ncol(test_weights)\n",
    "    \n",
    "    snp_vec <- c()\n",
    "    for (i in 1:n_snp) {\n",
    "        vec_sign <- sign(test_weights[i,])\n",
    "        res_positive <- length(which(vec_sign > 0))\n",
    "        res_negative <- length(which(vec_sign < 0))\n",
    "        # if the vector contains both postive values and negative values\n",
    "        if (res_positive > 0 & res_negative > 0) {\n",
    "             snp_vec <- c(snp_vec, i)\n",
    "        }\n",
    "    }\n",
    "    output_list <- list(snp_vec = snp_vec, num = length(snp_vec)) \n",
    "    return(output_list)    \n",
    "}\n",
    "\n",
    "for (i in 1:length(gene_set)) {\n",
    "    if (i %% 500 == 0 ) { IRdisplay::display_html(paste0(\"INFO: gene\", i)) }\n",
    "    gene <- gene_set[i]\n",
    "    summary_list[[gene]] <- analyze_weights(gene)\n",
    "}\n"
   ]
  },
  {
   "cell_type": "code",
   "execution_count": 54,
   "metadata": {},
   "outputs": [
    {
     "data": {
      "text/html": [
       "25851"
      ],
      "text/latex": [
       "25851"
      ],
      "text/markdown": [
       "25851"
      ],
      "text/plain": [
       "[1] 25851"
      ]
     },
     "metadata": {},
     "output_type": "display_data"
    }
   ],
   "source": [
    "length(summary_list)"
   ]
  },
  {
   "cell_type": "code",
   "execution_count": 56,
   "metadata": {},
   "outputs": [
    {
     "data": {
      "text/html": [
       "'ENSG00000000457.9'"
      ],
      "text/latex": [
       "'ENSG00000000457.9'"
      ],
      "text/markdown": [
       "'ENSG00000000457.9'"
      ],
      "text/plain": [
       "[1] \"ENSG00000000457.9\""
      ]
     },
     "metadata": {},
     "output_type": "display_data"
    }
   ],
   "source": [
    "names(summary_list)[[1]]"
   ]
  },
  {
   "cell_type": "code",
   "execution_count": 57,
   "metadata": {},
   "outputs": [],
   "source": [
    "count <- 0 \n",
    "for (gene in names(summary_list)) {\n",
    "    if (summary_list[[gene]]$num > 0 ) { count <- count + 1}\n",
    "}"
   ]
  },
  {
   "cell_type": "code",
   "execution_count": 58,
   "metadata": {},
   "outputs": [
    {
     "data": {
      "text/html": [
       "25622"
      ],
      "text/latex": [
       "25622"
      ],
      "text/markdown": [
       "25622"
      ],
      "text/plain": [
       "[1] 25622"
      ]
     },
     "metadata": {},
     "output_type": "display_data"
    }
   ],
   "source": [
    "count"
   ]
  },
  {
   "cell_type": "code",
   "execution_count": 60,
   "metadata": {},
   "outputs": [
    {
     "data": {
      "text/html": [
       "<ol class=list-inline>\n",
       "\t<li>0.024853414565751</li>\n",
       "\t<li>0</li>\n",
       "\t<li>0</li>\n",
       "\t<li>0</li>\n",
       "\t<li>0</li>\n",
       "\t<li>0</li>\n",
       "\t<li>0</li>\n",
       "\t<li>0</li>\n",
       "\t<li>0</li>\n",
       "\t<li>0</li>\n",
       "\t<li>0</li>\n",
       "\t<li>0</li>\n",
       "\t<li>0</li>\n",
       "\t<li>0</li>\n",
       "\t<li>0</li>\n",
       "\t<li>0</li>\n",
       "\t<li>0</li>\n",
       "\t<li>0</li>\n",
       "\t<li>0</li>\n",
       "\t<li>0</li>\n",
       "\t<li>0</li>\n",
       "\t<li>0</li>\n",
       "\t<li>0</li>\n",
       "\t<li>0</li>\n",
       "\t<li>0</li>\n",
       "\t<li>0</li>\n",
       "\t<li>0</li>\n",
       "\t<li>0</li>\n",
       "\t<li>0</li>\n",
       "\t<li>0</li>\n",
       "\t<li>0</li>\n",
       "\t<li>0</li>\n",
       "\t<li>0</li>\n",
       "\t<li>0</li>\n",
       "\t<li>0</li>\n",
       "\t<li>0</li>\n",
       "\t<li>0</li>\n",
       "\t<li>0</li>\n",
       "\t<li>0</li>\n",
       "\t<li>0</li>\n",
       "\t<li>0</li>\n",
       "\t<li>0</li>\n",
       "\t<li>0</li>\n",
       "\t<li>0</li>\n",
       "\t<li>0</li>\n",
       "\t<li>0</li>\n",
       "\t<li>0</li>\n",
       "\t<li>0</li>\n",
       "</ol>\n"
      ],
      "text/latex": [
       "\\begin{enumerate*}\n",
       "\\item 0.024853414565751\n",
       "\\item 0\n",
       "\\item 0\n",
       "\\item 0\n",
       "\\item 0\n",
       "\\item 0\n",
       "\\item 0\n",
       "\\item 0\n",
       "\\item 0\n",
       "\\item 0\n",
       "\\item 0\n",
       "\\item 0\n",
       "\\item 0\n",
       "\\item 0\n",
       "\\item 0\n",
       "\\item 0\n",
       "\\item 0\n",
       "\\item 0\n",
       "\\item 0\n",
       "\\item 0\n",
       "\\item 0\n",
       "\\item 0\n",
       "\\item 0\n",
       "\\item 0\n",
       "\\item 0\n",
       "\\item 0\n",
       "\\item 0\n",
       "\\item 0\n",
       "\\item 0\n",
       "\\item 0\n",
       "\\item 0\n",
       "\\item 0\n",
       "\\item 0\n",
       "\\item 0\n",
       "\\item 0\n",
       "\\item 0\n",
       "\\item 0\n",
       "\\item 0\n",
       "\\item 0\n",
       "\\item 0\n",
       "\\item 0\n",
       "\\item 0\n",
       "\\item 0\n",
       "\\item 0\n",
       "\\item 0\n",
       "\\item 0\n",
       "\\item 0\n",
       "\\item 0\n",
       "\\end{enumerate*}\n"
      ],
      "text/markdown": [
       "1. 0.024853414565751\n",
       "2. 0\n",
       "3. 0\n",
       "4. 0\n",
       "5. 0\n",
       "6. 0\n",
       "7. 0\n",
       "8. 0\n",
       "9. 0\n",
       "10. 0\n",
       "11. 0\n",
       "12. 0\n",
       "13. 0\n",
       "14. 0\n",
       "15. 0\n",
       "16. 0\n",
       "17. 0\n",
       "18. 0\n",
       "19. 0\n",
       "20. 0\n",
       "21. 0\n",
       "22. 0\n",
       "23. 0\n",
       "24. 0\n",
       "25. 0\n",
       "26. 0\n",
       "27. 0\n",
       "28. 0\n",
       "29. 0\n",
       "30. 0\n",
       "31. 0\n",
       "32. 0\n",
       "33. 0\n",
       "34. 0\n",
       "35. 0\n",
       "36. 0\n",
       "37. 0\n",
       "38. 0\n",
       "39. 0\n",
       "40. 0\n",
       "41. 0\n",
       "42. 0\n",
       "43. 0\n",
       "44. 0\n",
       "45. 0\n",
       "46. 0\n",
       "47. 0\n",
       "48. 0\n",
       "\n",
       "\n"
      ],
      "text/plain": [
       " [1] 0.02485341 0.00000000 0.00000000 0.00000000 0.00000000 0.00000000\n",
       " [7] 0.00000000 0.00000000 0.00000000 0.00000000 0.00000000 0.00000000\n",
       "[13] 0.00000000 0.00000000 0.00000000 0.00000000 0.00000000 0.00000000\n",
       "[19] 0.00000000 0.00000000 0.00000000 0.00000000 0.00000000 0.00000000\n",
       "[25] 0.00000000 0.00000000 0.00000000 0.00000000 0.00000000 0.00000000\n",
       "[31] 0.00000000 0.00000000 0.00000000 0.00000000 0.00000000 0.00000000\n",
       "[37] 0.00000000 0.00000000 0.00000000 0.00000000 0.00000000 0.00000000\n",
       "[43] 0.00000000 0.00000000 0.00000000 0.00000000 0.00000000 0.00000000"
      ]
     },
     "metadata": {},
     "output_type": "display_data"
    }
   ],
   "source": [
    "check_weights(names(summary_list)[[1]])[1,]"
   ]
  },
  {
   "cell_type": "code",
   "execution_count": 55,
   "metadata": {},
   "outputs": [
    {
     "data": {
      "text/html": [
       "<dl>\n",
       "\t<dt>$snp_vec</dt>\n",
       "\t\t<dd><ol class=list-inline>\n",
       "\t<li>1</li>\n",
       "\t<li>2</li>\n",
       "\t<li>3</li>\n",
       "\t<li>4</li>\n",
       "\t<li>5</li>\n",
       "\t<li>55</li>\n",
       "\t<li>59</li>\n",
       "\t<li>60</li>\n",
       "\t<li>61</li>\n",
       "\t<li>62</li>\n",
       "\t<li>79</li>\n",
       "\t<li>80</li>\n",
       "\t<li>81</li>\n",
       "\t<li>82</li>\n",
       "\t<li>84</li>\n",
       "\t<li>85</li>\n",
       "\t<li>88</li>\n",
       "\t<li>89</li>\n",
       "\t<li>91</li>\n",
       "\t<li>93</li>\n",
       "\t<li>94</li>\n",
       "\t<li>95</li>\n",
       "\t<li>96</li>\n",
       "\t<li>97</li>\n",
       "\t<li>98</li>\n",
       "\t<li>99</li>\n",
       "\t<li>101</li>\n",
       "\t<li>109</li>\n",
       "\t<li>110</li>\n",
       "\t<li>111</li>\n",
       "\t<li>112</li>\n",
       "\t<li>135</li>\n",
       "\t<li>136</li>\n",
       "\t<li>137</li>\n",
       "\t<li>140</li>\n",
       "\t<li>141</li>\n",
       "\t<li>145</li>\n",
       "\t<li>146</li>\n",
       "\t<li>149</li>\n",
       "\t<li>154</li>\n",
       "\t<li>155</li>\n",
       "\t<li>164</li>\n",
       "\t<li>165</li>\n",
       "\t<li>166</li>\n",
       "\t<li>168</li>\n",
       "\t<li>169</li>\n",
       "\t<li>171</li>\n",
       "\t<li>174</li>\n",
       "\t<li>175</li>\n",
       "\t<li>177</li>\n",
       "\t<li>178</li>\n",
       "\t<li>179</li>\n",
       "\t<li>180</li>\n",
       "\t<li>181</li>\n",
       "\t<li>183</li>\n",
       "\t<li>205</li>\n",
       "\t<li>206</li>\n",
       "\t<li>207</li>\n",
       "\t<li>208</li>\n",
       "\t<li>209</li>\n",
       "\t<li>210</li>\n",
       "\t<li>211</li>\n",
       "\t<li>212</li>\n",
       "\t<li>214</li>\n",
       "\t<li>215</li>\n",
       "\t<li>218</li>\n",
       "\t<li>223</li>\n",
       "\t<li>230</li>\n",
       "\t<li>231</li>\n",
       "\t<li>232</li>\n",
       "\t<li>233</li>\n",
       "\t<li>235</li>\n",
       "\t<li>236</li>\n",
       "\t<li>237</li>\n",
       "\t<li>238</li>\n",
       "\t<li>239</li>\n",
       "\t<li>240</li>\n",
       "\t<li>241</li>\n",
       "\t<li>242</li>\n",
       "\t<li>243</li>\n",
       "\t<li>244</li>\n",
       "\t<li>245</li>\n",
       "\t<li>246</li>\n",
       "\t<li>247</li>\n",
       "\t<li>248</li>\n",
       "\t<li>249</li>\n",
       "\t<li>250</li>\n",
       "\t<li>251</li>\n",
       "\t<li>253</li>\n",
       "\t<li>254</li>\n",
       "\t<li>255</li>\n",
       "\t<li>256</li>\n",
       "\t<li>260</li>\n",
       "\t<li>263</li>\n",
       "\t<li>266</li>\n",
       "\t<li>269</li>\n",
       "\t<li>270</li>\n",
       "\t<li>271</li>\n",
       "\t<li>274</li>\n",
       "\t<li>275</li>\n",
       "\t<li>276</li>\n",
       "\t<li>277</li>\n",
       "\t<li>278</li>\n",
       "\t<li>279</li>\n",
       "\t<li>280</li>\n",
       "\t<li>281</li>\n",
       "\t<li>282</li>\n",
       "\t<li>283</li>\n",
       "\t<li>303</li>\n",
       "\t<li>304</li>\n",
       "\t<li>306</li>\n",
       "\t<li>307</li>\n",
       "\t<li>308</li>\n",
       "\t<li>309</li>\n",
       "\t<li>310</li>\n",
       "\t<li>311</li>\n",
       "\t<li>313</li>\n",
       "\t<li>314</li>\n",
       "\t<li>315</li>\n",
       "\t<li>316</li>\n",
       "\t<li>319</li>\n",
       "\t<li>320</li>\n",
       "\t<li>335</li>\n",
       "\t<li>336</li>\n",
       "\t<li>337</li>\n",
       "\t<li>338</li>\n",
       "\t<li>346</li>\n",
       "\t<li>347</li>\n",
       "\t<li>348</li>\n",
       "\t<li>349</li>\n",
       "\t<li>351</li>\n",
       "\t<li>363</li>\n",
       "\t<li>364</li>\n",
       "\t<li>365</li>\n",
       "\t<li>366</li>\n",
       "\t<li>368</li>\n",
       "\t<li>369</li>\n",
       "\t<li>370</li>\n",
       "\t<li>376</li>\n",
       "\t<li>377</li>\n",
       "\t<li>378</li>\n",
       "\t<li>379</li>\n",
       "\t<li>382</li>\n",
       "\t<li>383</li>\n",
       "\t<li>385</li>\n",
       "\t<li>386</li>\n",
       "\t<li>389</li>\n",
       "\t<li>399</li>\n",
       "\t<li>412</li>\n",
       "\t<li>413</li>\n",
       "\t<li>415</li>\n",
       "\t<li>418</li>\n",
       "\t<li>419</li>\n",
       "\t<li>420</li>\n",
       "\t<li>421</li>\n",
       "\t<li>422</li>\n",
       "\t<li>423</li>\n",
       "\t<li>424</li>\n",
       "\t<li>425</li>\n",
       "\t<li>426</li>\n",
       "\t<li>432</li>\n",
       "\t<li>434</li>\n",
       "\t<li>440</li>\n",
       "\t<li>441</li>\n",
       "\t<li>442</li>\n",
       "\t<li>443</li>\n",
       "\t<li>444</li>\n",
       "\t<li>446</li>\n",
       "\t<li>447</li>\n",
       "\t<li>448</li>\n",
       "\t<li>449</li>\n",
       "\t<li>450</li>\n",
       "\t<li>451</li>\n",
       "\t<li>452</li>\n",
       "\t<li>453</li>\n",
       "\t<li>454</li>\n",
       "\t<li>455</li>\n",
       "\t<li>456</li>\n",
       "\t<li>457</li>\n",
       "\t<li>459</li>\n",
       "\t<li>460</li>\n",
       "\t<li>461</li>\n",
       "\t<li>462</li>\n",
       "\t<li>463</li>\n",
       "\t<li>465</li>\n",
       "\t<li>466</li>\n",
       "\t<li>478</li>\n",
       "\t<li>479</li>\n",
       "\t<li>480</li>\n",
       "\t<li>481</li>\n",
       "\t<li>482</li>\n",
       "\t<li>483</li>\n",
       "\t<li>484</li>\n",
       "\t<li>485</li>\n",
       "\t<li>486</li>\n",
       "\t<li>487</li>\n",
       "\t<li>488</li>\n",
       "\t<li>489</li>\n",
       "\t<li>490</li>\n",
       "</ol>\n",
       "</dd>\n",
       "\t<dt>$num</dt>\n",
       "\t\t<dd>199</dd>\n",
       "</dl>\n"
      ],
      "text/latex": [
       "\\begin{description}\n",
       "\\item[\\$snp\\_vec] \\begin{enumerate*}\n",
       "\\item 1\n",
       "\\item 2\n",
       "\\item 3\n",
       "\\item 4\n",
       "\\item 5\n",
       "\\item 55\n",
       "\\item 59\n",
       "\\item 60\n",
       "\\item 61\n",
       "\\item 62\n",
       "\\item 79\n",
       "\\item 80\n",
       "\\item 81\n",
       "\\item 82\n",
       "\\item 84\n",
       "\\item 85\n",
       "\\item 88\n",
       "\\item 89\n",
       "\\item 91\n",
       "\\item 93\n",
       "\\item 94\n",
       "\\item 95\n",
       "\\item 96\n",
       "\\item 97\n",
       "\\item 98\n",
       "\\item 99\n",
       "\\item 101\n",
       "\\item 109\n",
       "\\item 110\n",
       "\\item 111\n",
       "\\item 112\n",
       "\\item 135\n",
       "\\item 136\n",
       "\\item 137\n",
       "\\item 140\n",
       "\\item 141\n",
       "\\item 145\n",
       "\\item 146\n",
       "\\item 149\n",
       "\\item 154\n",
       "\\item 155\n",
       "\\item 164\n",
       "\\item 165\n",
       "\\item 166\n",
       "\\item 168\n",
       "\\item 169\n",
       "\\item 171\n",
       "\\item 174\n",
       "\\item 175\n",
       "\\item 177\n",
       "\\item 178\n",
       "\\item 179\n",
       "\\item 180\n",
       "\\item 181\n",
       "\\item 183\n",
       "\\item 205\n",
       "\\item 206\n",
       "\\item 207\n",
       "\\item 208\n",
       "\\item 209\n",
       "\\item 210\n",
       "\\item 211\n",
       "\\item 212\n",
       "\\item 214\n",
       "\\item 215\n",
       "\\item 218\n",
       "\\item 223\n",
       "\\item 230\n",
       "\\item 231\n",
       "\\item 232\n",
       "\\item 233\n",
       "\\item 235\n",
       "\\item 236\n",
       "\\item 237\n",
       "\\item 238\n",
       "\\item 239\n",
       "\\item 240\n",
       "\\item 241\n",
       "\\item 242\n",
       "\\item 243\n",
       "\\item 244\n",
       "\\item 245\n",
       "\\item 246\n",
       "\\item 247\n",
       "\\item 248\n",
       "\\item 249\n",
       "\\item 250\n",
       "\\item 251\n",
       "\\item 253\n",
       "\\item 254\n",
       "\\item 255\n",
       "\\item 256\n",
       "\\item 260\n",
       "\\item 263\n",
       "\\item 266\n",
       "\\item 269\n",
       "\\item 270\n",
       "\\item 271\n",
       "\\item 274\n",
       "\\item 275\n",
       "\\item 276\n",
       "\\item 277\n",
       "\\item 278\n",
       "\\item 279\n",
       "\\item 280\n",
       "\\item 281\n",
       "\\item 282\n",
       "\\item 283\n",
       "\\item 303\n",
       "\\item 304\n",
       "\\item 306\n",
       "\\item 307\n",
       "\\item 308\n",
       "\\item 309\n",
       "\\item 310\n",
       "\\item 311\n",
       "\\item 313\n",
       "\\item 314\n",
       "\\item 315\n",
       "\\item 316\n",
       "\\item 319\n",
       "\\item 320\n",
       "\\item 335\n",
       "\\item 336\n",
       "\\item 337\n",
       "\\item 338\n",
       "\\item 346\n",
       "\\item 347\n",
       "\\item 348\n",
       "\\item 349\n",
       "\\item 351\n",
       "\\item 363\n",
       "\\item 364\n",
       "\\item 365\n",
       "\\item 366\n",
       "\\item 368\n",
       "\\item 369\n",
       "\\item 370\n",
       "\\item 376\n",
       "\\item 377\n",
       "\\item 378\n",
       "\\item 379\n",
       "\\item 382\n",
       "\\item 383\n",
       "\\item 385\n",
       "\\item 386\n",
       "\\item 389\n",
       "\\item 399\n",
       "\\item 412\n",
       "\\item 413\n",
       "\\item 415\n",
       "\\item 418\n",
       "\\item 419\n",
       "\\item 420\n",
       "\\item 421\n",
       "\\item 422\n",
       "\\item 423\n",
       "\\item 424\n",
       "\\item 425\n",
       "\\item 426\n",
       "\\item 432\n",
       "\\item 434\n",
       "\\item 440\n",
       "\\item 441\n",
       "\\item 442\n",
       "\\item 443\n",
       "\\item 444\n",
       "\\item 446\n",
       "\\item 447\n",
       "\\item 448\n",
       "\\item 449\n",
       "\\item 450\n",
       "\\item 451\n",
       "\\item 452\n",
       "\\item 453\n",
       "\\item 454\n",
       "\\item 455\n",
       "\\item 456\n",
       "\\item 457\n",
       "\\item 459\n",
       "\\item 460\n",
       "\\item 461\n",
       "\\item 462\n",
       "\\item 463\n",
       "\\item 465\n",
       "\\item 466\n",
       "\\item 478\n",
       "\\item 479\n",
       "\\item 480\n",
       "\\item 481\n",
       "\\item 482\n",
       "\\item 483\n",
       "\\item 484\n",
       "\\item 485\n",
       "\\item 486\n",
       "\\item 487\n",
       "\\item 488\n",
       "\\item 489\n",
       "\\item 490\n",
       "\\end{enumerate*}\n",
       "\n",
       "\\item[\\$num] 199\n",
       "\\end{description}\n"
      ],
      "text/markdown": [
       "$snp_vec\n",
       ":   1. 1\n",
       "2. 2\n",
       "3. 3\n",
       "4. 4\n",
       "5. 5\n",
       "6. 55\n",
       "7. 59\n",
       "8. 60\n",
       "9. 61\n",
       "10. 62\n",
       "11. 79\n",
       "12. 80\n",
       "13. 81\n",
       "14. 82\n",
       "15. 84\n",
       "16. 85\n",
       "17. 88\n",
       "18. 89\n",
       "19. 91\n",
       "20. 93\n",
       "21. 94\n",
       "22. 95\n",
       "23. 96\n",
       "24. 97\n",
       "25. 98\n",
       "26. 99\n",
       "27. 101\n",
       "28. 109\n",
       "29. 110\n",
       "30. 111\n",
       "31. 112\n",
       "32. 135\n",
       "33. 136\n",
       "34. 137\n",
       "35. 140\n",
       "36. 141\n",
       "37. 145\n",
       "38. 146\n",
       "39. 149\n",
       "40. 154\n",
       "41. 155\n",
       "42. 164\n",
       "43. 165\n",
       "44. 166\n",
       "45. 168\n",
       "46. 169\n",
       "47. 171\n",
       "48. 174\n",
       "49. 175\n",
       "50. 177\n",
       "51. 178\n",
       "52. 179\n",
       "53. 180\n",
       "54. 181\n",
       "55. 183\n",
       "56. 205\n",
       "57. 206\n",
       "58. 207\n",
       "59. 208\n",
       "60. 209\n",
       "61. 210\n",
       "62. 211\n",
       "63. 212\n",
       "64. 214\n",
       "65. 215\n",
       "66. 218\n",
       "67. 223\n",
       "68. 230\n",
       "69. 231\n",
       "70. 232\n",
       "71. 233\n",
       "72. 235\n",
       "73. 236\n",
       "74. 237\n",
       "75. 238\n",
       "76. 239\n",
       "77. 240\n",
       "78. 241\n",
       "79. 242\n",
       "80. 243\n",
       "81. 244\n",
       "82. 245\n",
       "83. 246\n",
       "84. 247\n",
       "85. 248\n",
       "86. 249\n",
       "87. 250\n",
       "88. 251\n",
       "89. 253\n",
       "90. 254\n",
       "91. 255\n",
       "92. 256\n",
       "93. 260\n",
       "94. 263\n",
       "95. 266\n",
       "96. 269\n",
       "97. 270\n",
       "98. 271\n",
       "99. 274\n",
       "100. 275\n",
       "101. 276\n",
       "102. 277\n",
       "103. 278\n",
       "104. 279\n",
       "105. 280\n",
       "106. 281\n",
       "107. 282\n",
       "108. 283\n",
       "109. 303\n",
       "110. 304\n",
       "111. 306\n",
       "112. 307\n",
       "113. 308\n",
       "114. 309\n",
       "115. 310\n",
       "116. 311\n",
       "117. 313\n",
       "118. 314\n",
       "119. 315\n",
       "120. 316\n",
       "121. 319\n",
       "122. 320\n",
       "123. 335\n",
       "124. 336\n",
       "125. 337\n",
       "126. 338\n",
       "127. 346\n",
       "128. 347\n",
       "129. 348\n",
       "130. 349\n",
       "131. 351\n",
       "132. 363\n",
       "133. 364\n",
       "134. 365\n",
       "135. 366\n",
       "136. 368\n",
       "137. 369\n",
       "138. 370\n",
       "139. 376\n",
       "140. 377\n",
       "141. 378\n",
       "142. 379\n",
       "143. 382\n",
       "144. 383\n",
       "145. 385\n",
       "146. 386\n",
       "147. 389\n",
       "148. 399\n",
       "149. 412\n",
       "150. 413\n",
       "151. 415\n",
       "152. 418\n",
       "153. 419\n",
       "154. 420\n",
       "155. 421\n",
       "156. 422\n",
       "157. 423\n",
       "158. 424\n",
       "159. 425\n",
       "160. 426\n",
       "161. 432\n",
       "162. 434\n",
       "163. 440\n",
       "164. 441\n",
       "165. 442\n",
       "166. 443\n",
       "167. 444\n",
       "168. 446\n",
       "169. 447\n",
       "170. 448\n",
       "171. 449\n",
       "172. 450\n",
       "173. 451\n",
       "174. 452\n",
       "175. 453\n",
       "176. 454\n",
       "177. 455\n",
       "178. 456\n",
       "179. 457\n",
       "180. 459\n",
       "181. 460\n",
       "182. 461\n",
       "183. 462\n",
       "184. 463\n",
       "185. 465\n",
       "186. 466\n",
       "187. 478\n",
       "188. 479\n",
       "189. 480\n",
       "190. 481\n",
       "191. 482\n",
       "192. 483\n",
       "193. 484\n",
       "194. 485\n",
       "195. 486\n",
       "196. 487\n",
       "197. 488\n",
       "198. 489\n",
       "199. 490\n",
       "\n",
       "\n",
       "\n",
       "$num\n",
       ":   199\n",
       "\n",
       "\n"
      ],
      "text/plain": [
       "$snp_vec\n",
       "  [1]   1   2   3   4   5  55  59  60  61  62  79  80  81  82  84  85  88  89\n",
       " [19]  91  93  94  95  96  97  98  99 101 109 110 111 112 135 136 137 140 141\n",
       " [37] 145 146 149 154 155 164 165 166 168 169 171 174 175 177 178 179 180 181\n",
       " [55] 183 205 206 207 208 209 210 211 212 214 215 218 223 230 231 232 233 235\n",
       " [73] 236 237 238 239 240 241 242 243 244 245 246 247 248 249 250 251 253 254\n",
       " [91] 255 256 260 263 266 269 270 271 274 275 276 277 278 279 280 281 282 283\n",
       "[109] 303 304 306 307 308 309 310 311 313 314 315 316 319 320 335 336 337 338\n",
       "[127] 346 347 348 349 351 363 364 365 366 368 369 370 376 377 378 379 382 383\n",
       "[145] 385 386 389 399 412 413 415 418 419 420 421 422 423 424 425 426 432 434\n",
       "[163] 440 441 442 443 444 446 447 448 449 450 451 452 453 454 455 456 457 459\n",
       "[181] 460 461 462 463 465 466 478 479 480 481 482 483 484 485 486 487 488 489\n",
       "[199] 490\n",
       "\n",
       "$num\n",
       "[1] 199\n"
      ]
     },
     "metadata": {},
     "output_type": "display_data"
    }
   ],
   "source": [
    "summary_list[[1]]"
   ]
  },
  {
   "cell_type": "code",
   "execution_count": 30,
   "metadata": {},
   "outputs": [
    {
     "data": {
      "text/html": [
       "'ENSG00000000457.9'"
      ],
      "text/latex": [
       "'ENSG00000000457.9'"
      ],
      "text/markdown": [
       "'ENSG00000000457.9'"
      ],
      "text/plain": [
       "[1] \"ENSG00000000457.9\""
      ]
     },
     "metadata": {},
     "output_type": "display_data"
    },
    {
     "data": {
      "text/html": [
       "INFO: reading snp info"
      ]
     },
     "metadata": {},
     "output_type": "display_data"
    },
    {
     "data": {
      "text/html": [
       "INFO: finish loading snp info"
      ]
     },
     "metadata": {},
     "output_type": "display_data"
    },
    {
     "name": "stderr",
     "output_type": "stream",
     "text": [
      "Warning message in f(...):\n",
      "“Raster pixels are placed at uneven vertical intervals and will be shifted. Consider using geom_tile() instead.”"
     ]
    },
    {
     "data": {
      "image/png": "[encoded data removed]",
      "text/plain": [
       "plot without title"
      ]
     },
     "metadata": {},
     "output_type": "display_data"
    }
   ],
   "source": [
    "\n",
    "gene_set[1]\n",
    "plot_weights(gene_set[1])"
   ]
  },
  {
   "cell_type": "code",
   "execution_count": 31,
   "metadata": {},
   "outputs": [
    {
     "data": {
      "text/html": [
       "'ENSG00000000460.12'"
      ],
      "text/latex": [
       "'ENSG00000000460.12'"
      ],
      "text/markdown": [
       "'ENSG00000000460.12'"
      ],
      "text/plain": [
       "[1] \"ENSG00000000460.12\""
      ]
     },
     "metadata": {},
     "output_type": "display_data"
    },
    {
     "data": {
      "text/html": [
       "INFO: reading snp info"
      ]
     },
     "metadata": {},
     "output_type": "display_data"
    },
    {
     "data": {
      "text/html": [
       "INFO: finish loading snp info"
      ]
     },
     "metadata": {},
     "output_type": "display_data"
    },
    {
     "name": "stderr",
     "output_type": "stream",
     "text": [
      "Warning message in f(...):\n",
      "“Raster pixels are placed at uneven vertical intervals and will be shifted. Consider using geom_tile() instead.”"
     ]
    },
    {
     "data": {
      "image/png": "[encoded data removed]",
      "text/plain": [
       "plot without title"
      ]
     },
     "metadata": {},
     "output_type": "display_data"
    }
   ],
   "source": [
    "gene_set[2]\n",
    "plot_weights(gene_set[2])"
   ]
  },
  {
   "cell_type": "code",
   "execution_count": 32,
   "metadata": {},
   "outputs": [
    {
     "data": {
      "text/html": [
       "'ENSG00000000971.11'"
      ],
      "text/latex": [
       "'ENSG00000000971.11'"
      ],
      "text/markdown": [
       "'ENSG00000000971.11'"
      ],
      "text/plain": [
       "[1] \"ENSG00000000971.11\""
      ]
     },
     "metadata": {},
     "output_type": "display_data"
    },
    {
     "data": {
      "text/html": [
       "INFO: reading snp info"
      ]
     },
     "metadata": {},
     "output_type": "display_data"
    },
    {
     "data": {
      "text/html": [
       "INFO: finish loading snp info"
      ]
     },
     "metadata": {},
     "output_type": "display_data"
    },
    {
     "name": "stderr",
     "output_type": "stream",
     "text": [
      "Warning message in f(...):\n",
      "“Raster pixels are placed at uneven vertical intervals and will be shifted. Consider using geom_tile() instead.”"
     ]
    },
    {
     "data": {
      "image/png": "[encoded data removed]",
      "text/plain": [
       "plot without title"
      ]
     },
     "metadata": {},
     "output_type": "display_data"
    }
   ],
   "source": [
    "gene_set[3]\n",
    "plot_weights(gene_set[3])"
   ]
  },
  {
   "cell_type": "markdown",
   "metadata": {},
   "source": [
    "### summary of different directions"
   ]
  },
  {
   "cell_type": "code",
   "execution_count": 33,
   "metadata": {},
   "outputs": [
    {
     "data": {
      "text/html": [
       "25851"
      ],
      "text/latex": [
       "25851"
      ],
      "text/markdown": [
       "25851"
      ],
      "text/plain": [
       "[1] 25851"
      ]
     },
     "metadata": {},
     "output_type": "display_data"
    }
   ],
   "source": [
    "length(gene_set)"
   ]
  },
  {
   "cell_type": "code",
   "execution_count": null,
   "metadata": {},
   "outputs": [],
   "source": []
  },
  {
   "cell_type": "code",
   "execution_count": null,
   "metadata": {},
   "outputs": [],
   "source": [
    "library(smoothAPC)\n",
    "plot(test_weights, labs = c(\"tissues\", \"SNPs\"), color.palette = c(\"default\"), main = \"Weight Values\")"
   ]
  },
  {
   "cell_type": "code",
   "execution_count": null,
   "metadata": {},
   "outputs": [],
   "source": [
    "# Library\n",
    "library(ggplot2)\n",
    "\n",
    "# Dummy data\n",
    "plot+matrix function()\n",
    "x <- \n",
    "y <- paste0(\"var\", seq(1,20))\n",
    "data <- expand.grid(X=x, Y=y)\n",
    "data$Z <- runif(400, 0, 5)\n",
    " \n",
    "# Heatmap \n",
    "ggplot(data, aes(X, Y, fill= Z)) + \n",
    "  geom_tile()"
   ]
  },
  {
   "cell_type": "code",
   "execution_count": null,
   "metadata": {},
   "outputs": [],
   "source": [
    "suppressPackageStartupMessages(library(raster))"
   ]
  },
  {
   "cell_type": "code",
   "execution_count": null,
   "metadata": {},
   "outputs": [],
   "source": [
    "plot(raster(test_weights))"
   ]
  },
  {
   "cell_type": "code",
   "execution_count": null,
   "metadata": {},
   "outputs": [],
   "source": [
    "check_weights(\"ENSG00000237491.4\")"
   ]
  },
  {
   "cell_type": "code",
   "execution_count": null,
   "metadata": {},
   "outputs": [],
   "source": []
  }
 ],
 "metadata": {
  "kernelspec": {
   "display_name": "R",
   "language": "R",
   "name": "ir"
  },
  "language_info": {
   "codemirror_mode": "r",
   "file_extension": ".r",
   "mimetype": "text/x-r-source",
   "name": "R",
   "pygments_lexer": "r",
   "version": "3.5.0"
  }
 },
 "nbformat": 4,
 "nbformat_minor": 4
}
