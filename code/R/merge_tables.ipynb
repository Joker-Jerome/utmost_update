{
 "cells": [
  {
   "cell_type": "code",
   "execution_count": 1,
   "metadata": {},
   "outputs": [],
   "source": [
    "file_vec <- list.files(\"/gpfs/project/zhao/zy92/GTEX/weight/chr11\", pattern = \"*.weight.txt\")"
   ]
  },
  {
   "cell_type": "code",
   "execution_count": 2,
   "metadata": {},
   "outputs": [
    {
     "data": {
      "text/html": [
       "<style>\n",
       ".list-inline {list-style: none; margin:0; padding: 0}\n",
       ".list-inline>li {display: inline-block}\n",
       ".list-inline>li:not(:last-child)::after {content: \"\\00b7\"; padding: 0 .5ex}\n",
       "</style>\n",
       "<ol class=list-inline><li>'Adipose_Subcutaneous.weight.txt'</li><li>'Adipose_Visceral_Omentum.weight.txt'</li><li>'Adrenal_Gland.weight.txt'</li><li>'Artery_Aorta.weight.txt'</li><li>'Artery_Coronary.weight.txt'</li><li>'Artery_Tibial.weight.txt'</li><li>'Brain_Amygdala.weight.txt'</li><li>'Brain_Anterior_cingulate_cortex_BA24.weight.txt'</li><li>'Brain_Caudate_basal_ganglia.weight.txt'</li><li>'Brain_Cerebellar_Hemisphere.weight.txt'</li><li>'Brain_Cerebellum.weight.txt'</li><li>'Brain_Cortex.weight.txt'</li><li>'Brain_Frontal_Cortex_BA9.weight.txt'</li><li>'Brain_Hippocampus.weight.txt'</li><li>'Brain_Hypothalamus.weight.txt'</li><li>'Brain_Nucleus_accumbens_basal_ganglia.weight.txt'</li><li>'Brain_Putamen_basal_ganglia.weight.txt'</li><li>'Brain_Spinal_cord_cervical_c-1.weight.txt'</li><li>'Brain_Substantia_nigra.weight.txt'</li><li>'Breast_Mammary_Tissue.weight.txt'</li><li>'Cells_Cultured_fibroblasts.weight.txt'</li><li>'Cells_EBV-transformed_lymphocytes.weight.txt'</li><li>'Colon_Sigmoid.weight.txt'</li><li>'Colon_Transverse.weight.txt'</li><li>'Esophagus_Gastroesophageal_Junction.weight.txt'</li><li>'Esophagus_Mucosa.weight.txt'</li><li>'Esophagus_Muscularis.weight.txt'</li><li>'Heart_Atrial_Appendage.weight.txt'</li><li>'Heart_Left_Ventricle.weight.txt'</li><li>'Kidney_Cortex.weight.txt'</li><li>'Liver.weight.txt'</li><li>'Lung.weight.txt'</li><li>'Minor_Salivary_Gland.weight.txt'</li><li>'Muscle_Skeletal.weight.txt'</li><li>'Nerve_Tibial.weight.txt'</li><li>'Ovary.weight.txt'</li><li>'Pancreas.weight.txt'</li><li>'Pituitary.weight.txt'</li><li>'Prostate.weight.txt'</li><li>'Skin_Not_Sun_Exposed_Suprapubic.weight.txt'</li><li>'Skin_Sun_Exposed_Lower_leg.weight.txt'</li><li>'Small_Intestine_Terminal_Ileum.weight.txt'</li><li>'Spleen.weight.txt'</li><li>'Stomach.weight.txt'</li><li>'Testis.weight.txt'</li><li>'Thyroid.weight.txt'</li><li>'Uterus.weight.txt'</li><li>'Vagina.weight.txt'</li><li>'Whole_Blood.weight.txt'</li></ol>\n"
      ],
      "text/latex": [
       "\\begin{enumerate*}\n",
       "\\item 'Adipose\\_Subcutaneous.weight.txt'\n",
       "\\item 'Adipose\\_Visceral\\_Omentum.weight.txt'\n",
       "\\item 'Adrenal\\_Gland.weight.txt'\n",
       "\\item 'Artery\\_Aorta.weight.txt'\n",
       "\\item 'Artery\\_Coronary.weight.txt'\n",
       "\\item 'Artery\\_Tibial.weight.txt'\n",
       "\\item 'Brain\\_Amygdala.weight.txt'\n",
       "\\item 'Brain\\_Anterior\\_cingulate\\_cortex\\_BA24.weight.txt'\n",
       "\\item 'Brain\\_Caudate\\_basal\\_ganglia.weight.txt'\n",
       "\\item 'Brain\\_Cerebellar\\_Hemisphere.weight.txt'\n",
       "\\item 'Brain\\_Cerebellum.weight.txt'\n",
       "\\item 'Brain\\_Cortex.weight.txt'\n",
       "\\item 'Brain\\_Frontal\\_Cortex\\_BA9.weight.txt'\n",
       "\\item 'Brain\\_Hippocampus.weight.txt'\n",
       "\\item 'Brain\\_Hypothalamus.weight.txt'\n",
       "\\item 'Brain\\_Nucleus\\_accumbens\\_basal\\_ganglia.weight.txt'\n",
       "\\item 'Brain\\_Putamen\\_basal\\_ganglia.weight.txt'\n",
       "\\item 'Brain\\_Spinal\\_cord\\_cervical\\_c-1.weight.txt'\n",
       "\\item 'Brain\\_Substantia\\_nigra.weight.txt'\n",
       "\\item 'Breast\\_Mammary\\_Tissue.weight.txt'\n",
       "\\item 'Cells\\_Cultured\\_fibroblasts.weight.txt'\n",
       "\\item 'Cells\\_EBV-transformed\\_lymphocytes.weight.txt'\n",
       "\\item 'Colon\\_Sigmoid.weight.txt'\n",
       "\\item 'Colon\\_Transverse.weight.txt'\n",
       "\\item 'Esophagus\\_Gastroesophageal\\_Junction.weight.txt'\n",
       "\\item 'Esophagus\\_Mucosa.weight.txt'\n",
       "\\item 'Esophagus\\_Muscularis.weight.txt'\n",
       "\\item 'Heart\\_Atrial\\_Appendage.weight.txt'\n",
       "\\item 'Heart\\_Left\\_Ventricle.weight.txt'\n",
       "\\item 'Kidney\\_Cortex.weight.txt'\n",
       "\\item 'Liver.weight.txt'\n",
       "\\item 'Lung.weight.txt'\n",
       "\\item 'Minor\\_Salivary\\_Gland.weight.txt'\n",
       "\\item 'Muscle\\_Skeletal.weight.txt'\n",
       "\\item 'Nerve\\_Tibial.weight.txt'\n",
       "\\item 'Ovary.weight.txt'\n",
       "\\item 'Pancreas.weight.txt'\n",
       "\\item 'Pituitary.weight.txt'\n",
       "\\item 'Prostate.weight.txt'\n",
       "\\item 'Skin\\_Not\\_Sun\\_Exposed\\_Suprapubic.weight.txt'\n",
       "\\item 'Skin\\_Sun\\_Exposed\\_Lower\\_leg.weight.txt'\n",
       "\\item 'Small\\_Intestine\\_Terminal\\_Ileum.weight.txt'\n",
       "\\item 'Spleen.weight.txt'\n",
       "\\item 'Stomach.weight.txt'\n",
       "\\item 'Testis.weight.txt'\n",
       "\\item 'Thyroid.weight.txt'\n",
       "\\item 'Uterus.weight.txt'\n",
       "\\item 'Vagina.weight.txt'\n",
       "\\item 'Whole\\_Blood.weight.txt'\n",
       "\\end{enumerate*}\n"
      ],
      "text/markdown": [
       "1. 'Adipose_Subcutaneous.weight.txt'\n",
       "2. 'Adipose_Visceral_Omentum.weight.txt'\n",
       "3. 'Adrenal_Gland.weight.txt'\n",
       "4. 'Artery_Aorta.weight.txt'\n",
       "5. 'Artery_Coronary.weight.txt'\n",
       "6. 'Artery_Tibial.weight.txt'\n",
       "7. 'Brain_Amygdala.weight.txt'\n",
       "8. 'Brain_Anterior_cingulate_cortex_BA24.weight.txt'\n",
       "9. 'Brain_Caudate_basal_ganglia.weight.txt'\n",
       "10. 'Brain_Cerebellar_Hemisphere.weight.txt'\n",
       "11. 'Brain_Cerebellum.weight.txt'\n",
       "12. 'Brain_Cortex.weight.txt'\n",
       "13. 'Brain_Frontal_Cortex_BA9.weight.txt'\n",
       "14. 'Brain_Hippocampus.weight.txt'\n",
       "15. 'Brain_Hypothalamus.weight.txt'\n",
       "16. 'Brain_Nucleus_accumbens_basal_ganglia.weight.txt'\n",
       "17. 'Brain_Putamen_basal_ganglia.weight.txt'\n",
       "18. 'Brain_Spinal_cord_cervical_c-1.weight.txt'\n",
       "19. 'Brain_Substantia_nigra.weight.txt'\n",
       "20. 'Breast_Mammary_Tissue.weight.txt'\n",
       "21. 'Cells_Cultured_fibroblasts.weight.txt'\n",
       "22. 'Cells_EBV-transformed_lymphocytes.weight.txt'\n",
       "23. 'Colon_Sigmoid.weight.txt'\n",
       "24. 'Colon_Transverse.weight.txt'\n",
       "25. 'Esophagus_Gastroesophageal_Junction.weight.txt'\n",
       "26. 'Esophagus_Mucosa.weight.txt'\n",
       "27. 'Esophagus_Muscularis.weight.txt'\n",
       "28. 'Heart_Atrial_Appendage.weight.txt'\n",
       "29. 'Heart_Left_Ventricle.weight.txt'\n",
       "30. 'Kidney_Cortex.weight.txt'\n",
       "31. 'Liver.weight.txt'\n",
       "32. 'Lung.weight.txt'\n",
       "33. 'Minor_Salivary_Gland.weight.txt'\n",
       "34. 'Muscle_Skeletal.weight.txt'\n",
       "35. 'Nerve_Tibial.weight.txt'\n",
       "36. 'Ovary.weight.txt'\n",
       "37. 'Pancreas.weight.txt'\n",
       "38. 'Pituitary.weight.txt'\n",
       "39. 'Prostate.weight.txt'\n",
       "40. 'Skin_Not_Sun_Exposed_Suprapubic.weight.txt'\n",
       "41. 'Skin_Sun_Exposed_Lower_leg.weight.txt'\n",
       "42. 'Small_Intestine_Terminal_Ileum.weight.txt'\n",
       "43. 'Spleen.weight.txt'\n",
       "44. 'Stomach.weight.txt'\n",
       "45. 'Testis.weight.txt'\n",
       "46. 'Thyroid.weight.txt'\n",
       "47. 'Uterus.weight.txt'\n",
       "48. 'Vagina.weight.txt'\n",
       "49. 'Whole_Blood.weight.txt'\n",
       "\n",
       "\n"
      ],
      "text/plain": [
       " [1] \"Adipose_Subcutaneous.weight.txt\"                 \n",
       " [2] \"Adipose_Visceral_Omentum.weight.txt\"             \n",
       " [3] \"Adrenal_Gland.weight.txt\"                        \n",
       " [4] \"Artery_Aorta.weight.txt\"                         \n",
       " [5] \"Artery_Coronary.weight.txt\"                      \n",
       " [6] \"Artery_Tibial.weight.txt\"                        \n",
       " [7] \"Brain_Amygdala.weight.txt\"                       \n",
       " [8] \"Brain_Anterior_cingulate_cortex_BA24.weight.txt\" \n",
       " [9] \"Brain_Caudate_basal_ganglia.weight.txt\"          \n",
       "[10] \"Brain_Cerebellar_Hemisphere.weight.txt\"          \n",
       "[11] \"Brain_Cerebellum.weight.txt\"                     \n",
       "[12] \"Brain_Cortex.weight.txt\"                         \n",
       "[13] \"Brain_Frontal_Cortex_BA9.weight.txt\"             \n",
       "[14] \"Brain_Hippocampus.weight.txt\"                    \n",
       "[15] \"Brain_Hypothalamus.weight.txt\"                   \n",
       "[16] \"Brain_Nucleus_accumbens_basal_ganglia.weight.txt\"\n",
       "[17] \"Brain_Putamen_basal_ganglia.weight.txt\"          \n",
       "[18] \"Brain_Spinal_cord_cervical_c-1.weight.txt\"       \n",
       "[19] \"Brain_Substantia_nigra.weight.txt\"               \n",
       "[20] \"Breast_Mammary_Tissue.weight.txt\"                \n",
       "[21] \"Cells_Cultured_fibroblasts.weight.txt\"           \n",
       "[22] \"Cells_EBV-transformed_lymphocytes.weight.txt\"    \n",
       "[23] \"Colon_Sigmoid.weight.txt\"                        \n",
       "[24] \"Colon_Transverse.weight.txt\"                     \n",
       "[25] \"Esophagus_Gastroesophageal_Junction.weight.txt\"  \n",
       "[26] \"Esophagus_Mucosa.weight.txt\"                     \n",
       "[27] \"Esophagus_Muscularis.weight.txt\"                 \n",
       "[28] \"Heart_Atrial_Appendage.weight.txt\"               \n",
       "[29] \"Heart_Left_Ventricle.weight.txt\"                 \n",
       "[30] \"Kidney_Cortex.weight.txt\"                        \n",
       "[31] \"Liver.weight.txt\"                                \n",
       "[32] \"Lung.weight.txt\"                                 \n",
       "[33] \"Minor_Salivary_Gland.weight.txt\"                 \n",
       "[34] \"Muscle_Skeletal.weight.txt\"                      \n",
       "[35] \"Nerve_Tibial.weight.txt\"                         \n",
       "[36] \"Ovary.weight.txt\"                                \n",
       "[37] \"Pancreas.weight.txt\"                             \n",
       "[38] \"Pituitary.weight.txt\"                            \n",
       "[39] \"Prostate.weight.txt\"                             \n",
       "[40] \"Skin_Not_Sun_Exposed_Suprapubic.weight.txt\"      \n",
       "[41] \"Skin_Sun_Exposed_Lower_leg.weight.txt\"           \n",
       "[42] \"Small_Intestine_Terminal_Ileum.weight.txt\"       \n",
       "[43] \"Spleen.weight.txt\"                               \n",
       "[44] \"Stomach.weight.txt\"                              \n",
       "[45] \"Testis.weight.txt\"                               \n",
       "[46] \"Thyroid.weight.txt\"                              \n",
       "[47] \"Uterus.weight.txt\"                               \n",
       "[48] \"Vagina.weight.txt\"                               \n",
       "[49] \"Whole_Blood.weight.txt\"                          "
      ]
     },
     "metadata": {},
     "output_type": "display_data"
    }
   ],
   "source": [
    "file_vec"
   ]
  },
  {
   "cell_type": "code",
   "execution_count": 3,
   "metadata": {},
   "outputs": [],
   "source": [
    "tissue_vec <- as.character(sapply(file_vec, function(x) unlist(strsplit(x, \"\\\\.\"))[1]))"
   ]
  },
  {
   "cell_type": "code",
   "execution_count": 4,
   "metadata": {},
   "outputs": [
    {
     "data": {
      "text/html": [
       "<style>\n",
       ".list-inline {list-style: none; margin:0; padding: 0}\n",
       ".list-inline>li {display: inline-block}\n",
       ".list-inline>li:not(:last-child)::after {content: \"\\00b7\"; padding: 0 .5ex}\n",
       "</style>\n",
       "<ol class=list-inline><li>'Adipose_Subcutaneous'</li><li>'Adipose_Visceral_Omentum'</li><li>'Adrenal_Gland'</li><li>'Artery_Aorta'</li><li>'Artery_Coronary'</li><li>'Artery_Tibial'</li></ol>\n"
      ],
      "text/latex": [
       "\\begin{enumerate*}\n",
       "\\item 'Adipose\\_Subcutaneous'\n",
       "\\item 'Adipose\\_Visceral\\_Omentum'\n",
       "\\item 'Adrenal\\_Gland'\n",
       "\\item 'Artery\\_Aorta'\n",
       "\\item 'Artery\\_Coronary'\n",
       "\\item 'Artery\\_Tibial'\n",
       "\\end{enumerate*}\n"
      ],
      "text/markdown": [
       "1. 'Adipose_Subcutaneous'\n",
       "2. 'Adipose_Visceral_Omentum'\n",
       "3. 'Adrenal_Gland'\n",
       "4. 'Artery_Aorta'\n",
       "5. 'Artery_Coronary'\n",
       "6. 'Artery_Tibial'\n",
       "\n",
       "\n"
      ],
      "text/plain": [
       "[1] \"Adipose_Subcutaneous\"     \"Adipose_Visceral_Omentum\"\n",
       "[3] \"Adrenal_Gland\"            \"Artery_Aorta\"            \n",
       "[5] \"Artery_Coronary\"          \"Artery_Tibial\"           "
      ]
     },
     "metadata": {},
     "output_type": "display_data"
    }
   ],
   "source": [
    "head(tissue_vec)"
   ]
  },
  {
   "cell_type": "code",
   "execution_count": 5,
   "metadata": {},
   "outputs": [],
   "source": [
    "for (i in 1:length(tissue_vec)) {\n",
    "    file_dir = paste0(\"/gpfs/project/zhao/zy92/GTEX/weight_sparse/merged/\", tissue_vec[i], \".sample.txt\")\n",
    "    df <- data.frame(n.samples = 500)\n",
    "    write.table(df, file = file_dir, quote = F, row.names = F)\n",
    "}"
   ]
  },
  {
   "cell_type": "code",
   "execution_count": 6,
   "metadata": {},
   "outputs": [],
   "source": [
    "for (i in 1:length(tissue_vec)) {\n",
    "    file_dir = paste0(\"/gpfs/project/zhao/zy92/GTEX/weight_sparse/merged/\", tissue_vec[i], \".construction.txt\")\n",
    "    df <- data.frame(chr = 1:22, cv.seed = 1)\n",
    "    write.table(df, file = file_dir, quote = F, row.names = F)\n",
    "}"
   ]
  },
  {
   "cell_type": "code",
   "execution_count": 10,
   "metadata": {},
   "outputs": [
    {
     "data": {
      "text/html": [
       "'Adipose_Subcutaneous Adipose_Visceral_Omentum Adrenal_Gland Artery_Aorta Artery_Coronary Artery_Tibial Brain_Amygdala Brain_Anterior_cingulate_cortex_BA24 Brain_Caudate_basal_ganglia Brain_Cerebellar_Hemisphere Brain_Cerebellum Brain_Cortex Brain_Frontal_Cortex_BA9 Brain_Hippocampus Brain_Hypothalamus Brain_Nucleus_accumbens_basal_ganglia Brain_Putamen_basal_ganglia Brain_Spinal_cord_cervical_c-1 Brain_Substantia_nigra Breast_Mammary_Tissue Cells_Cultured_fibroblasts Cells_EBV-transformed_lymphocytes Colon_Sigmoid Colon_Transverse Esophagus_Gastroesophageal_Junction Esophagus_Mucosa Esophagus_Muscularis Heart_Atrial_Appendage Heart_Left_Ventricle Kidney_Cortex Liver Lung Minor_Salivary_Gland Muscle_Skeletal Nerve_Tibial Ovary Pancreas Pituitary Prostate Skin_Not_Sun_Exposed_Suprapubic Skin_Sun_Exposed_Lower_leg Small_Intestine_Terminal_Ileum Spleen Stomach Testis Thyroid Uterus Vagina Whole_Blood'"
      ],
      "text/latex": [
       "'Adipose\\_Subcutaneous Adipose\\_Visceral\\_Omentum Adrenal\\_Gland Artery\\_Aorta Artery\\_Coronary Artery\\_Tibial Brain\\_Amygdala Brain\\_Anterior\\_cingulate\\_cortex\\_BA24 Brain\\_Caudate\\_basal\\_ganglia Brain\\_Cerebellar\\_Hemisphere Brain\\_Cerebellum Brain\\_Cortex Brain\\_Frontal\\_Cortex\\_BA9 Brain\\_Hippocampus Brain\\_Hypothalamus Brain\\_Nucleus\\_accumbens\\_basal\\_ganglia Brain\\_Putamen\\_basal\\_ganglia Brain\\_Spinal\\_cord\\_cervical\\_c-1 Brain\\_Substantia\\_nigra Breast\\_Mammary\\_Tissue Cells\\_Cultured\\_fibroblasts Cells\\_EBV-transformed\\_lymphocytes Colon\\_Sigmoid Colon\\_Transverse Esophagus\\_Gastroesophageal\\_Junction Esophagus\\_Mucosa Esophagus\\_Muscularis Heart\\_Atrial\\_Appendage Heart\\_Left\\_Ventricle Kidney\\_Cortex Liver Lung Minor\\_Salivary\\_Gland Muscle\\_Skeletal Nerve\\_Tibial Ovary Pancreas Pituitary Prostate Skin\\_Not\\_Sun\\_Exposed\\_Suprapubic Skin\\_Sun\\_Exposed\\_Lower\\_leg Small\\_Intestine\\_Terminal\\_Ileum Spleen Stomach Testis Thyroid Uterus Vagina Whole\\_Blood'"
      ],
      "text/markdown": [
       "'Adipose_Subcutaneous Adipose_Visceral_Omentum Adrenal_Gland Artery_Aorta Artery_Coronary Artery_Tibial Brain_Amygdala Brain_Anterior_cingulate_cortex_BA24 Brain_Caudate_basal_ganglia Brain_Cerebellar_Hemisphere Brain_Cerebellum Brain_Cortex Brain_Frontal_Cortex_BA9 Brain_Hippocampus Brain_Hypothalamus Brain_Nucleus_accumbens_basal_ganglia Brain_Putamen_basal_ganglia Brain_Spinal_cord_cervical_c-1 Brain_Substantia_nigra Breast_Mammary_Tissue Cells_Cultured_fibroblasts Cells_EBV-transformed_lymphocytes Colon_Sigmoid Colon_Transverse Esophagus_Gastroesophageal_Junction Esophagus_Mucosa Esophagus_Muscularis Heart_Atrial_Appendage Heart_Left_Ventricle Kidney_Cortex Liver Lung Minor_Salivary_Gland Muscle_Skeletal Nerve_Tibial Ovary Pancreas Pituitary Prostate Skin_Not_Sun_Exposed_Suprapubic Skin_Sun_Exposed_Lower_leg Small_Intestine_Terminal_Ileum Spleen Stomach Testis Thyroid Uterus Vagina Whole_Blood'"
      ],
      "text/plain": [
       "[1] \"Adipose_Subcutaneous Adipose_Visceral_Omentum Adrenal_Gland Artery_Aorta Artery_Coronary Artery_Tibial Brain_Amygdala Brain_Anterior_cingulate_cortex_BA24 Brain_Caudate_basal_ganglia Brain_Cerebellar_Hemisphere Brain_Cerebellum Brain_Cortex Brain_Frontal_Cortex_BA9 Brain_Hippocampus Brain_Hypothalamus Brain_Nucleus_accumbens_basal_ganglia Brain_Putamen_basal_ganglia Brain_Spinal_cord_cervical_c-1 Brain_Substantia_nigra Breast_Mammary_Tissue Cells_Cultured_fibroblasts Cells_EBV-transformed_lymphocytes Colon_Sigmoid Colon_Transverse Esophagus_Gastroesophageal_Junction Esophagus_Mucosa Esophagus_Muscularis Heart_Atrial_Appendage Heart_Left_Ventricle Kidney_Cortex Liver Lung Minor_Salivary_Gland Muscle_Skeletal Nerve_Tibial Ovary Pancreas Pituitary Prostate Skin_Not_Sun_Exposed_Suprapubic Skin_Sun_Exposed_Lower_leg Small_Intestine_Terminal_Ileum Spleen Stomach Testis Thyroid Uterus Vagina Whole_Blood\""
      ]
     },
     "metadata": {},
     "output_type": "display_data"
    }
   ],
   "source": [
    "paste(tissue_vec, collapse =\" \")"
   ]
  },
  {
   "cell_type": "code",
   "execution_count": null,
   "metadata": {},
   "outputs": [],
   "source": [
    "TISSUE_GTEx = "
   ]
  }
 ],
 "metadata": {
  "kernelspec": {
   "display_name": "R",
   "language": "R",
   "name": "ir"
  },
  "language_info": {
   "codemirror_mode": "r",
   "file_extension": ".r",
   "mimetype": "text/x-r-source",
   "name": "R",
   "pygments_lexer": "r",
   "version": "3.5.0"
  }
 },
 "nbformat": 4,
 "nbformat_minor": 4
}
