{
 "cells": [
  {
   "cell_type": "markdown",
   "metadata": {},
   "source": [
    "## Weight Analysis"
   ]
  },
  {
   "cell_type": "code",
   "execution_count": 8,
   "metadata": {},
   "outputs": [],
   "source": [
    "weight_dir <- \"/gpfs/scratch60/zhao/zy92/GTEX/output\"\n",
    "setwd(weight_dir)"
   ]
  },
  {
   "cell_type": "code",
   "execution_count": 5,
   "metadata": {},
   "outputs": [
    {
     "data": {
      "text/html": [
       "<style>\n",
       ".list-inline {list-style: none; margin:0; padding: 0}\n",
       ".list-inline>li {display: inline-block}\n",
       ".list-inline>li:not(:last-child)::after {content: \"\\00b7\"; padding: 0 .5ex}\n",
       "</style>\n",
       "<ol class=list-inline><li>'chr1'</li><li>'chr10'</li><li>'chr11'</li><li>'chr12'</li><li>'chr13'</li><li>'chr14'</li><li>'chr15'</li><li>'chr16'</li><li>'chr17'</li><li>'chr18'</li><li>'chr19'</li><li>'chr2'</li><li>'chr20'</li><li>'chr21'</li><li>'chr22'</li><li>'chr3'</li><li>'chr4'</li><li>'chr5'</li><li>'chr6'</li><li>'chr7'</li><li>'chr8'</li><li>'chr9'</li></ol>\n"
      ],
      "text/latex": [
       "\\begin{enumerate*}\n",
       "\\item 'chr1'\n",
       "\\item 'chr10'\n",
       "\\item 'chr11'\n",
       "\\item 'chr12'\n",
       "\\item 'chr13'\n",
       "\\item 'chr14'\n",
       "\\item 'chr15'\n",
       "\\item 'chr16'\n",
       "\\item 'chr17'\n",
       "\\item 'chr18'\n",
       "\\item 'chr19'\n",
       "\\item 'chr2'\n",
       "\\item 'chr20'\n",
       "\\item 'chr21'\n",
       "\\item 'chr22'\n",
       "\\item 'chr3'\n",
       "\\item 'chr4'\n",
       "\\item 'chr5'\n",
       "\\item 'chr6'\n",
       "\\item 'chr7'\n",
       "\\item 'chr8'\n",
       "\\item 'chr9'\n",
       "\\end{enumerate*}\n"
      ],
      "text/markdown": [
       "1. 'chr1'\n",
       "2. 'chr10'\n",
       "3. 'chr11'\n",
       "4. 'chr12'\n",
       "5. 'chr13'\n",
       "6. 'chr14'\n",
       "7. 'chr15'\n",
       "8. 'chr16'\n",
       "9. 'chr17'\n",
       "10. 'chr18'\n",
       "11. 'chr19'\n",
       "12. 'chr2'\n",
       "13. 'chr20'\n",
       "14. 'chr21'\n",
       "15. 'chr22'\n",
       "16. 'chr3'\n",
       "17. 'chr4'\n",
       "18. 'chr5'\n",
       "19. 'chr6'\n",
       "20. 'chr7'\n",
       "21. 'chr8'\n",
       "22. 'chr9'\n",
       "\n",
       "\n"
      ],
      "text/plain": [
       " [1] \"chr1\"  \"chr10\" \"chr11\" \"chr12\" \"chr13\" \"chr14\" \"chr15\" \"chr16\" \"chr17\"\n",
       "[10] \"chr18\" \"chr19\" \"chr2\"  \"chr20\" \"chr21\" \"chr22\" \"chr3\"  \"chr4\"  \"chr5\" \n",
       "[19] \"chr6\"  \"chr7\"  \"chr8\"  \"chr9\" "
      ]
     },
     "metadata": {},
     "output_type": "display_data"
    }
   ],
   "source": [
    "chr_vec <- list.files(weight_dir)\n",
    "chr_vec"
   ]
  },
  {
   "cell_type": "code",
   "execution_count": 15,
   "metadata": {},
   "outputs": [
    {
     "data": {
      "text/html": [
       "<style>\n",
       ".list-inline {list-style: none; margin:0; padding: 0}\n",
       ".list-inline>li {display: inline-block}\n",
       ".list-inline>li:not(:last-child)::after {content: \"\\00b7\"; padding: 0 .5ex}\n",
       "</style>\n",
       "<ol class=list-inline><li>'ENSG00000005238.19'</li><li>'ENSG00000010438.16'</li><li>'ENSG00000011454.16'</li><li>'ENSG00000023318.7'</li><li>'ENSG00000030304.13'</li><li>'ENSG00000041982.15'</li></ol>\n"
      ],
      "text/latex": [
       "\\begin{enumerate*}\n",
       "\\item 'ENSG00000005238.19'\n",
       "\\item 'ENSG00000010438.16'\n",
       "\\item 'ENSG00000011454.16'\n",
       "\\item 'ENSG00000023318.7'\n",
       "\\item 'ENSG00000030304.13'\n",
       "\\item 'ENSG00000041982.15'\n",
       "\\end{enumerate*}\n"
      ],
      "text/markdown": [
       "1. 'ENSG00000005238.19'\n",
       "2. 'ENSG00000010438.16'\n",
       "3. 'ENSG00000011454.16'\n",
       "4. 'ENSG00000023318.7'\n",
       "5. 'ENSG00000030304.13'\n",
       "6. 'ENSG00000041982.15'\n",
       "\n",
       "\n"
      ],
      "text/plain": [
       "[1] \"ENSG00000005238.19\" \"ENSG00000010438.16\" \"ENSG00000011454.16\"\n",
       "[4] \"ENSG00000023318.7\"  \"ENSG00000030304.13\" \"ENSG00000041982.15\""
      ]
     },
     "metadata": {},
     "output_type": "display_data"
    },
    {
     "data": {
      "text/html": [
       "'./chr9/ENSG00000005238.19'"
      ],
      "text/latex": [
       "'./chr9/ENSG00000005238.19'"
      ],
      "text/markdown": [
       "'./chr9/ENSG00000005238.19'"
      ],
      "text/plain": [
       "[1] \"./chr9/ENSG00000005238.19\""
      ]
     },
     "metadata": {},
     "output_type": "display_data"
    },
    {
     "data": {
      "text/html": [],
      "text/latex": [],
      "text/markdown": [],
      "text/plain": [
       "character(0)"
      ]
     },
     "metadata": {},
     "output_type": "display_data"
    },
    {
     "data": {
      "text/html": [
       "'chr9.1.ENSG00000005238.19.RData'"
      ],
      "text/latex": [
       "'chr9.1.ENSG00000005238.19.RData'"
      ],
      "text/markdown": [
       "'chr9.1.ENSG00000005238.19.RData'"
      ],
      "text/plain": [
       "[1] \"chr9.1.ENSG00000005238.19.RData\""
      ]
     },
     "metadata": {},
     "output_type": "display_data"
    }
   ],
   "source": [
    "gene_list <- list.files(chr_vec[i])\n",
    "head(gene_list)\n",
    "j = 1\n",
    "tmp_dir <- paste0(\"./\", chr_vec[i], \"/\", gene_list[j])\n",
    "tmp_dir\n",
    "list.files(tmp_dir, pattern = \"*.est\")\n",
    "list.files(tmp_dir)\n",
    "\n"
   ]
  },
  {
   "cell_type": "code",
   "execution_count": 14,
   "metadata": {},
   "outputs": [
    {
     "data": {
      "text/html": [
       "'/gpfs/loomis/scratch60/zhao/zy92/GTEX/output'"
      ],
      "text/latex": [
       "'/gpfs/loomis/scratch60/zhao/zy92/GTEX/output'"
      ],
      "text/markdown": [
       "'/gpfs/loomis/scratch60/zhao/zy92/GTEX/output'"
      ],
      "text/plain": [
       "[1] \"/gpfs/loomis/scratch60/zhao/zy92/GTEX/output\""
      ]
     },
     "metadata": {},
     "output_type": "display_data"
    }
   ],
   "source": [
    "getwd()"
   ]
  },
  {
   "cell_type": "code",
   "execution_count": 19,
   "metadata": {},
   "outputs": [
    {
     "data": {
      "text/html": [
       "INFO: chr 1"
      ]
     },
     "metadata": {},
     "output_type": "display_data"
    },
    {
     "data": {
      "text/html": [
       "INFO: chr 2"
      ]
     },
     "metadata": {},
     "output_type": "display_data"
    },
    {
     "data": {
      "text/html": [
       "INFO: chr 3"
      ]
     },
     "metadata": {},
     "output_type": "display_data"
    },
    {
     "data": {
      "text/html": [
       "INFO: chr 4"
      ]
     },
     "metadata": {},
     "output_type": "display_data"
    },
    {
     "data": {
      "text/html": [
       "INFO: chr 5"
      ]
     },
     "metadata": {},
     "output_type": "display_data"
    },
    {
     "data": {
      "text/html": [
       "INFO: chr 6"
      ]
     },
     "metadata": {},
     "output_type": "display_data"
    },
    {
     "data": {
      "text/html": [
       "INFO: chr 7"
      ]
     },
     "metadata": {},
     "output_type": "display_data"
    },
    {
     "data": {
      "text/html": [
       "INFO: chr 8"
      ]
     },
     "metadata": {},
     "output_type": "display_data"
    },
    {
     "data": {
      "text/html": [
       "INFO: chr 9"
      ]
     },
     "metadata": {},
     "output_type": "display_data"
    },
    {
     "data": {
      "text/html": [
       "INFO: chr 10"
      ]
     },
     "metadata": {},
     "output_type": "display_data"
    },
    {
     "data": {
      "text/html": [
       "INFO: chr 11"
      ]
     },
     "metadata": {},
     "output_type": "display_data"
    },
    {
     "data": {
      "text/html": [
       "INFO: chr 12"
      ]
     },
     "metadata": {},
     "output_type": "display_data"
    },
    {
     "data": {
      "text/html": [
       "INFO: chr 13"
      ]
     },
     "metadata": {},
     "output_type": "display_data"
    },
    {
     "data": {
      "text/html": [
       "INFO: chr 14"
      ]
     },
     "metadata": {},
     "output_type": "display_data"
    },
    {
     "data": {
      "text/html": [
       "INFO: chr 15"
      ]
     },
     "metadata": {},
     "output_type": "display_data"
    },
    {
     "data": {
      "text/html": [
       "INFO: chr 16"
      ]
     },
     "metadata": {},
     "output_type": "display_data"
    },
    {
     "data": {
      "text/html": [
       "INFO: chr 17"
      ]
     },
     "metadata": {},
     "output_type": "display_data"
    },
    {
     "data": {
      "text/html": [
       "INFO: chr 18"
      ]
     },
     "metadata": {},
     "output_type": "display_data"
    },
    {
     "data": {
      "text/html": [
       "INFO: chr 19"
      ]
     },
     "metadata": {},
     "output_type": "display_data"
    },
    {
     "data": {
      "text/html": [
       "INFO: chr 20"
      ]
     },
     "metadata": {},
     "output_type": "display_data"
    },
    {
     "data": {
      "text/html": [
       "INFO: chr 21"
      ]
     },
     "metadata": {},
     "output_type": "display_data"
    },
    {
     "data": {
      "text/html": [
       "INFO: chr 22"
      ]
     },
     "metadata": {},
     "output_type": "display_data"
    }
   ],
   "source": [
    "weight_list <- list()\n",
    "warning_count <- 0\n",
    "for (i in 1:length(chr_vec)) {\n",
    "    IRdisplay::display_html(paste0(\"INFO: chr \", i))\n",
    "    gene_list <- list.files(chr_vec[i])\n",
    "    weight_list[[chr_vec[i]]] <- list()\n",
    "    for (j in 1:length(gene_list)) {\n",
    "        tmp_dir <- paste0(\"./\", chr_vec[i], \"/\", gene_list[j], \"/\")\n",
    "        weight_file <- list.files(tmp_dir, pattern = \"*.est\")\n",
    "        if (length(weight_file) > 0) {\n",
    "              tryCatch(\n",
    "                  weight_list[[chr_vec[i]]] <- data.table::fread(paste0(tmp_dir, weight_file)),\n",
    "                    error = function(c) \"error\",\n",
    "                    warning = function(c) warning_count = warning_count + 1,\n",
    "                    message = function(c) \"message\"\n",
    "              )\n",
    "            \n",
    "        }\n",
    "    }\n",
    "}"
   ]
  },
  {
   "cell_type": "code",
   "execution_count": null,
   "metadata": {},
   "outputs": [],
   "source": []
  }
 ],
 "metadata": {
  "kernelspec": {
   "display_name": "R",
   "language": "R",
   "name": "ir"
  },
  "language_info": {
   "codemirror_mode": "r",
   "file_extension": ".r",
   "mimetype": "text/x-r-source",
   "name": "R",
   "pygments_lexer": "r",
   "version": "3.5.0"
  }
 },
 "nbformat": 4,
 "nbformat_minor": 4
}
