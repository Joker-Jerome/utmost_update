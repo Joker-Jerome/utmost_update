{
 "cells": [
  {
   "cell_type": "markdown",
   "metadata": {},
   "source": [
    "## gene id prep"
   ]
  },
  {
   "cell_type": "code",
   "execution_count": null,
   "metadata": {},
   "outputs": [],
   "source": [
    "library(biomaRt)\n",
    "\n",
    "grch37 = useMart(biomart=\"ENSEMBL_MART_ENSEMBL\", host=\"grch37.ensembl.org\", path=\"/biomart/martservice\", dataset=\"hsapiens_gene_ensembl\")\n",
    "#head(listFilters(grch37))\n",
    "#listAttributes(grch37)\n",
    "\n",
    "#gene_info <- getBM(filters= c(\"ensembl_gene_id\",\"biotype\"), attributes= c(\"ensembl_gene_id\",'hgnc_symbol','chromosome_name'), values= list(c(\"ENSG00000130203.5\"),\"protein_coding\"), mart= grch37)\n",
    "\n",
    "## get ensembl ID\n",
    "helper <- function(str){\n",
    "\tunlist(strsplit(str, '\\\\.'))[1]\n",
    "}\n",
    "get_gene_index <- function(chr){\n",
    "\tglist = dir(paste0(\"/ysm-gpfs/pi/zhao/from_louise/yh367/GTEX/adjusted_expr1/chr\", chr));\n",
    "\ttmp = sapply(glist, helper)\n",
    "\tunname(tmp)\n",
    "}\n",
    "\n",
    "pc_gene = list()\n",
    "pc_num = c()\n",
    "org_num = c()\n",
    "for(chr in 1:22){\n",
    "\tesd = get_gene_index(chr)\n",
    "\tgene_info = getBM(filters= c(\"ensembl_gene_id\",\"biotype\"), attributes= c(\"ensembl_gene_id\",'hgnc_symbol','chromosome_name'), values= list(esd,\"protein_coding\"), mart= grch37)\n",
    "\tpc_gene[[chr]] = gene_info\n",
    "\tpc_num = c(pc_num, nrow(gene_info))\n",
    "\torg_num = c(org_num, length(esd))\n",
    "}\n",
    "#save(pc_gene, pc_num, org_num, file=\"/ysm-gpfs/pi/zhao/from_louise/yh367/GTEX/protein_coding.RData\")\n"
   ]
  },
  {
   "cell_type": "code",
   "execution_count": null,
   "metadata": {},
   "outputs": [],
   "source": []
  },
  {
   "cell_type": "code",
   "execution_count": null,
   "metadata": {},
   "outputs": [],
   "source": []
  },
  {
   "cell_type": "code",
   "execution_count": null,
   "metadata": {},
   "outputs": [],
   "source": []
  },
  {
   "cell_type": "code",
   "execution_count": null,
   "metadata": {},
   "outputs": [],
   "source": []
  },
  {
   "cell_type": "code",
   "execution_count": null,
   "metadata": {},
   "outputs": [],
   "source": []
  }
 ],
 "metadata": {
  "kernelspec": {
   "display_name": "R",
   "language": "R",
   "name": "ir"
  },
  "language_info": {
   "codemirror_mode": "r",
   "file_extension": ".r",
   "mimetype": "text/x-r-source",
   "name": "R",
   "pygments_lexer": "r",
   "version": "3.5.0"
  }
 },
 "nbformat": 4,
 "nbformat_minor": 4
}
