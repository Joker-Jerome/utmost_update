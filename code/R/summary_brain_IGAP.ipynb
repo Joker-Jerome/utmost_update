{
 "cells": [
  {
   "cell_type": "code",
   "execution_count": 1,
   "metadata": {},
   "outputs": [
    {
     "name": "stderr",
     "output_type": "stream",
     "text": [
      "\n",
      "\n",
      "For example usage please run: vignette('qqman')\n",
      "\n",
      "\n",
      "\n",
      "Citation appreciated but not required:\n",
      "\n",
      "Turner, S.D. qqman: an R package for visualizing GWAS results using Q-Q and manhattan plots. biorXiv DOI: 10.1101/005165 (2014).\n",
      "\n",
      "\n",
      "\n",
      "\n",
      "Attaching package: ‘dplyr’\n",
      "\n",
      "\n",
      "The following objects are masked from ‘package:data.table’:\n",
      "\n",
      "    between, first, last\n",
      "\n",
      "\n",
      "The following objects are masked from ‘package:stats’:\n",
      "\n",
      "    filter, lag\n",
      "\n",
      "\n",
      "The following objects are masked from ‘package:base’:\n",
      "\n",
      "    intersect, setdiff, setequal, union\n",
      "\n",
      "\n"
     ]
    }
   ],
   "source": [
    "# summary\n",
    "library(qqman)\n",
    "library(data.table)\n",
    "library(dplyr)"
   ]
  },
  {
   "cell_type": "code",
   "execution_count": 2,
   "metadata": {},
   "outputs": [
    {
     "data": {
      "text/html": [
       "<style>\n",
       ".list-inline {list-style: none; margin:0; padding: 0}\n",
       ".list-inline>li {display: inline-block}\n",
       ".list-inline>li:not(:last-child)::after {content: \"\\00b7\"; padding: 0 .5ex}\n",
       "</style>\n",
       "<ol class=list-inline><li>'datProbes'</li><li>'probes'</li></ol>\n"
      ],
      "text/latex": [
       "\\begin{enumerate*}\n",
       "\\item 'datProbes'\n",
       "\\item 'probes'\n",
       "\\end{enumerate*}\n"
      ],
      "text/markdown": [
       "1. 'datProbes'\n",
       "2. 'probes'\n",
       "\n",
       "\n"
      ],
      "text/plain": [
       "[1] \"datProbes\" \"probes\"   "
      ]
     },
     "metadata": {},
     "output_type": "display_data"
    }
   ],
   "source": [
    "ln <- load(\"/ysm-gpfs/pi/zhao-data/zy92/update_utmost/datProbes.RData\")\n",
    "ln"
   ]
  },
  {
   "cell_type": "code",
   "execution_count": 3,
   "metadata": {},
   "outputs": [],
   "source": [
    "tissue <- \"Brain_Hippocampus\"\n",
    "res_file <- paste0(tissue, \".csv\")"
   ]
  },
  {
   "cell_type": "code",
   "execution_count": 4,
   "metadata": {},
   "outputs": [],
   "source": [
    "vec <- c(\"IGAP_NR\", \"IGAP_normalized_pruned\", \"IGAP_BVLS_ENET\", \"IGAP_ENET\")\n",
    "res_list <- list()\n",
    "for (name in vec) {\n",
    "    res_dir <- paste0(\"/ysm-gpfs/pi/zhao-data/zy92/update_utmost/\", name, \"/single/\", res_file)\n",
    "    res_list[[name]] <- fread(res_dir)\n",
    "}"
   ]
  },
  {
   "cell_type": "code",
   "execution_count": 12,
   "metadata": {},
   "outputs": [
    {
     "data": {
      "text/html": [
       "<style>\n",
       ".list-inline {list-style: none; margin:0; padding: 0}\n",
       ".list-inline>li {display: inline-block}\n",
       ".list-inline>li:not(:last-child)::after {content: \"\\00b7\"; padding: 0 .5ex}\n",
       "</style>\n",
       "<ol class=list-inline><li>11432</li><li>13</li></ol>\n"
      ],
      "text/latex": [
       "\\begin{enumerate*}\n",
       "\\item 11432\n",
       "\\item 13\n",
       "\\end{enumerate*}\n"
      ],
      "text/markdown": [
       "1. 11432\n",
       "2. 13\n",
       "\n",
       "\n"
      ],
      "text/plain": [
       "[1] 11432    13"
      ]
     },
     "metadata": {},
     "output_type": "display_data"
    },
    {
     "data": {
      "text/html": [
       "<table>\n",
       "<caption>A data.table: 6 × 13</caption>\n",
       "<thead>\n",
       "\t<tr><th scope=col>V1</th><th scope=col>gene</th><th scope=col>gene_name</th><th scope=col>zscore</th><th scope=col>effect_size</th><th scope=col>pvalue</th><th scope=col>var_g</th><th scope=col>pred_perf_r2</th><th scope=col>pred_perf_pval</th><th scope=col>pred_perf_qval</th><th scope=col>n_snps_used</th><th scope=col>n_snps_in_cov</th><th scope=col>n_snps_in_model</th></tr>\n",
       "\t<tr><th scope=col>&lt;int&gt;</th><th scope=col>&lt;chr&gt;</th><th scope=col>&lt;chr&gt;</th><th scope=col>&lt;dbl&gt;</th><th scope=col>&lt;dbl&gt;</th><th scope=col>&lt;dbl&gt;</th><th scope=col>&lt;dbl&gt;</th><th scope=col>&lt;dbl&gt;</th><th scope=col>&lt;dbl&gt;</th><th scope=col>&lt;dbl&gt;</th><th scope=col>&lt;int&gt;</th><th scope=col>&lt;dbl&gt;</th><th scope=col>&lt;int&gt;</th></tr>\n",
       "</thead>\n",
       "<tbody>\n",
       "\t<tr><td>0</td><td>EXTL3   </td><td>EXTL3   </td><td>       NA</td><td>          NA</td><td>          NA</td><td>8.136115e-05</td><td>0.5</td><td>1e-10</td><td>1e-10</td><td>  4</td><td>  4</td><td>  4</td></tr>\n",
       "\t<tr><td>1</td><td>ZNF227  </td><td>ZNF227  </td><td>-8.138708</td><td>-12.32800438</td><td>3.995189e-16</td><td>5.834859e-05</td><td>0.5</td><td>1e-10</td><td>1e-10</td><td> 17</td><td> 18</td><td> 18</td></tr>\n",
       "\t<tr><td>2</td><td>ZNF296  </td><td>ZNF296  </td><td>-7.715224</td><td> -4.62330597</td><td>1.207695e-14</td><td>4.237091e-04</td><td>0.5</td><td>1e-10</td><td>1e-10</td><td> 55</td><td> 66</td><td> 68</td></tr>\n",
       "\t<tr><td>3</td><td>APOE    </td><td>APOE    </td><td>-7.225216</td><td> -0.04150919</td><td>5.003072e-13</td><td>7.590933e+00</td><td>0.5</td><td>1e-10</td><td>1e-10</td><td> 11</td><td> 12</td><td> 12</td></tr>\n",
       "\t<tr><td>4</td><td>CEACAM19</td><td>CEACAM19</td><td> 6.718607</td><td>  0.82539595</td><td>1.834703e-11</td><td>1.047997e-02</td><td>0.5</td><td>1e-10</td><td>1e-10</td><td>135</td><td>153</td><td>154</td></tr>\n",
       "\t<tr><td>5</td><td>BCAM    </td><td>BCAM    </td><td>       NA</td><td>          NA</td><td>          NA</td><td>3.367672e-09</td><td>0.5</td><td>1e-10</td><td>1e-10</td><td>  1</td><td>  1</td><td>  1</td></tr>\n",
       "</tbody>\n",
       "</table>\n"
      ],
      "text/latex": [
       "A data.table: 6 × 13\n",
       "\\begin{tabular}{lllllllllllll}\n",
       " V1 & gene & gene\\_name & zscore & effect\\_size & pvalue & var\\_g & pred\\_perf\\_r2 & pred\\_perf\\_pval & pred\\_perf\\_qval & n\\_snps\\_used & n\\_snps\\_in\\_cov & n\\_snps\\_in\\_model\\\\\n",
       " <int> & <chr> & <chr> & <dbl> & <dbl> & <dbl> & <dbl> & <dbl> & <dbl> & <dbl> & <int> & <dbl> & <int>\\\\\n",
       "\\hline\n",
       "\t 0 & EXTL3    & EXTL3    &        NA &           NA &           NA & 8.136115e-05 & 0.5 & 1e-10 & 1e-10 &   4 &   4 &   4\\\\\n",
       "\t 1 & ZNF227   & ZNF227   & -8.138708 & -12.32800438 & 3.995189e-16 & 5.834859e-05 & 0.5 & 1e-10 & 1e-10 &  17 &  18 &  18\\\\\n",
       "\t 2 & ZNF296   & ZNF296   & -7.715224 &  -4.62330597 & 1.207695e-14 & 4.237091e-04 & 0.5 & 1e-10 & 1e-10 &  55 &  66 &  68\\\\\n",
       "\t 3 & APOE     & APOE     & -7.225216 &  -0.04150919 & 5.003072e-13 & 7.590933e+00 & 0.5 & 1e-10 & 1e-10 &  11 &  12 &  12\\\\\n",
       "\t 4 & CEACAM19 & CEACAM19 &  6.718607 &   0.82539595 & 1.834703e-11 & 1.047997e-02 & 0.5 & 1e-10 & 1e-10 & 135 & 153 & 154\\\\\n",
       "\t 5 & BCAM     & BCAM     &        NA &           NA &           NA & 3.367672e-09 & 0.5 & 1e-10 & 1e-10 &   1 &   1 &   1\\\\\n",
       "\\end{tabular}\n"
      ],
      "text/markdown": [
       "\n",
       "A data.table: 6 × 13\n",
       "\n",
       "| V1 &lt;int&gt; | gene &lt;chr&gt; | gene_name &lt;chr&gt; | zscore &lt;dbl&gt; | effect_size &lt;dbl&gt; | pvalue &lt;dbl&gt; | var_g &lt;dbl&gt; | pred_perf_r2 &lt;dbl&gt; | pred_perf_pval &lt;dbl&gt; | pred_perf_qval &lt;dbl&gt; | n_snps_used &lt;int&gt; | n_snps_in_cov &lt;dbl&gt; | n_snps_in_model &lt;int&gt; |\n",
       "|---|---|---|---|---|---|---|---|---|---|---|---|---|\n",
       "| 0 | EXTL3    | EXTL3    |        NA |           NA |           NA | 8.136115e-05 | 0.5 | 1e-10 | 1e-10 |   4 |   4 |   4 |\n",
       "| 1 | ZNF227   | ZNF227   | -8.138708 | -12.32800438 | 3.995189e-16 | 5.834859e-05 | 0.5 | 1e-10 | 1e-10 |  17 |  18 |  18 |\n",
       "| 2 | ZNF296   | ZNF296   | -7.715224 |  -4.62330597 | 1.207695e-14 | 4.237091e-04 | 0.5 | 1e-10 | 1e-10 |  55 |  66 |  68 |\n",
       "| 3 | APOE     | APOE     | -7.225216 |  -0.04150919 | 5.003072e-13 | 7.590933e+00 | 0.5 | 1e-10 | 1e-10 |  11 |  12 |  12 |\n",
       "| 4 | CEACAM19 | CEACAM19 |  6.718607 |   0.82539595 | 1.834703e-11 | 1.047997e-02 | 0.5 | 1e-10 | 1e-10 | 135 | 153 | 154 |\n",
       "| 5 | BCAM     | BCAM     |        NA |           NA |           NA | 3.367672e-09 | 0.5 | 1e-10 | 1e-10 |   1 |   1 |   1 |\n",
       "\n"
      ],
      "text/plain": [
       "  V1 gene     gene_name zscore    effect_size  pvalue       var_g       \n",
       "1 0  EXTL3    EXTL3            NA           NA           NA 8.136115e-05\n",
       "2 1  ZNF227   ZNF227    -8.138708 -12.32800438 3.995189e-16 5.834859e-05\n",
       "3 2  ZNF296   ZNF296    -7.715224  -4.62330597 1.207695e-14 4.237091e-04\n",
       "4 3  APOE     APOE      -7.225216  -0.04150919 5.003072e-13 7.590933e+00\n",
       "5 4  CEACAM19 CEACAM19   6.718607   0.82539595 1.834703e-11 1.047997e-02\n",
       "6 5  BCAM     BCAM             NA           NA           NA 3.367672e-09\n",
       "  pred_perf_r2 pred_perf_pval pred_perf_qval n_snps_used n_snps_in_cov\n",
       "1 0.5          1e-10          1e-10            4           4          \n",
       "2 0.5          1e-10          1e-10           17          18          \n",
       "3 0.5          1e-10          1e-10           55          66          \n",
       "4 0.5          1e-10          1e-10           11          12          \n",
       "5 0.5          1e-10          1e-10          135         153          \n",
       "6 0.5          1e-10          1e-10            1           1          \n",
       "  n_snps_in_model\n",
       "1   4            \n",
       "2  18            \n",
       "3  68            \n",
       "4  12            \n",
       "5 154            \n",
       "6   1            "
      ]
     },
     "metadata": {},
     "output_type": "display_data"
    }
   ],
   "source": [
    "dim(res_list[[1]])\n",
    "head(res_list[[1]])"
   ]
  },
  {
   "cell_type": "code",
   "execution_count": 11,
   "metadata": {},
   "outputs": [
    {
     "data": {
      "text/html": [
       "<style>\n",
       ".list-inline {list-style: none; margin:0; padding: 0}\n",
       ".list-inline>li {display: inline-block}\n",
       ".list-inline>li:not(:last-child)::after {content: \"\\00b7\"; padding: 0 .5ex}\n",
       "</style>\n",
       "<ol class=list-inline><li>15885</li><li>12</li></ol>\n"
      ],
      "text/latex": [
       "\\begin{enumerate*}\n",
       "\\item 15885\n",
       "\\item 12\n",
       "\\end{enumerate*}\n"
      ],
      "text/markdown": [
       "1. 15885\n",
       "2. 12\n",
       "\n",
       "\n"
      ],
      "text/plain": [
       "[1] 15885    12"
      ]
     },
     "metadata": {},
     "output_type": "display_data"
    },
    {
     "data": {
      "text/html": [
       "<table>\n",
       "<caption>A data.table: 6 × 12</caption>\n",
       "<thead>\n",
       "\t<tr><th scope=col>gene</th><th scope=col>gene_name</th><th scope=col>zscore</th><th scope=col>effect_size</th><th scope=col>pvalue</th><th scope=col>var_g</th><th scope=col>pred_perf_r2</th><th scope=col>pred_perf_pval</th><th scope=col>pred_perf_qval</th><th scope=col>n_snps_used</th><th scope=col>n_snps_in_cov</th><th scope=col>n_snps_in_model</th></tr>\n",
       "\t<tr><th scope=col>&lt;chr&gt;</th><th scope=col>&lt;chr&gt;</th><th scope=col>&lt;dbl&gt;</th><th scope=col>&lt;dbl&gt;</th><th scope=col>&lt;dbl&gt;</th><th scope=col>&lt;dbl&gt;</th><th scope=col>&lt;dbl&gt;</th><th scope=col>&lt;dbl&gt;</th><th scope=col>&lt;dbl&gt;</th><th scope=col>&lt;int&gt;</th><th scope=col>&lt;int&gt;</th><th scope=col>&lt;int&gt;</th></tr>\n",
       "</thead>\n",
       "<tbody>\n",
       "\t<tr><td>ENSG00000187244.10</td><td>ENSG00000187244.10</td><td>-21.30609</td><td>-36.271398</td><td>9.968705e-101</td><td>9.697234e-05</td><td>0.5</td><td>1e-10</td><td>1e-10</td><td> 2</td><td> 4</td><td> 85</td></tr>\n",
       "\t<tr><td>ENSG00000186567.12</td><td>ENSG00000186567.12</td><td>-16.23072</td><td> -4.550429</td><td> 3.058621e-59</td><td>3.793846e-03</td><td>0.5</td><td>1e-10</td><td>1e-10</td><td>23</td><td>27</td><td>290</td></tr>\n",
       "\t<tr><td>ENSG00000130202.9 </td><td>ENSG00000130202.9 </td><td> 15.85279</td><td> 14.210501</td><td> 1.344715e-56</td><td>3.428667e-04</td><td>0.5</td><td>1e-10</td><td>1e-10</td><td> 6</td><td> 9</td><td>149</td></tr>\n",
       "\t<tr><td>ENSG00000130208.9 </td><td>ENSG00000130208.9 </td><td> 13.63933</td><td> 25.214345</td><td> 2.336889e-42</td><td>1.278690e-04</td><td>0.5</td><td>1e-10</td><td>1e-10</td><td> 5</td><td> 5</td><td>147</td></tr>\n",
       "\t<tr><td>ENSG00000104936.17</td><td>ENSG00000104936.17</td><td> 11.49069</td><td> 52.347126</td><td> 1.469300e-30</td><td>1.356085e-05</td><td>0.5</td><td>1e-10</td><td>1e-10</td><td> 8</td><td> 8</td><td>184</td></tr>\n",
       "\t<tr><td>ENSG00000266903.1 </td><td>ENSG00000266903.1 </td><td>-11.20153</td><td> -1.275109</td><td> 4.007386e-29</td><td>1.308347e-02</td><td>0.5</td><td>1e-10</td><td>1e-10</td><td>10</td><td>10</td><td>580</td></tr>\n",
       "</tbody>\n",
       "</table>\n"
      ],
      "text/latex": [
       "A data.table: 6 × 12\n",
       "\\begin{tabular}{llllllllllll}\n",
       " gene & gene\\_name & zscore & effect\\_size & pvalue & var\\_g & pred\\_perf\\_r2 & pred\\_perf\\_pval & pred\\_perf\\_qval & n\\_snps\\_used & n\\_snps\\_in\\_cov & n\\_snps\\_in\\_model\\\\\n",
       " <chr> & <chr> & <dbl> & <dbl> & <dbl> & <dbl> & <dbl> & <dbl> & <dbl> & <int> & <int> & <int>\\\\\n",
       "\\hline\n",
       "\t ENSG00000187244.10 & ENSG00000187244.10 & -21.30609 & -36.271398 & 9.968705e-101 & 9.697234e-05 & 0.5 & 1e-10 & 1e-10 &  2 &  4 &  85\\\\\n",
       "\t ENSG00000186567.12 & ENSG00000186567.12 & -16.23072 &  -4.550429 &  3.058621e-59 & 3.793846e-03 & 0.5 & 1e-10 & 1e-10 & 23 & 27 & 290\\\\\n",
       "\t ENSG00000130202.9  & ENSG00000130202.9  &  15.85279 &  14.210501 &  1.344715e-56 & 3.428667e-04 & 0.5 & 1e-10 & 1e-10 &  6 &  9 & 149\\\\\n",
       "\t ENSG00000130208.9  & ENSG00000130208.9  &  13.63933 &  25.214345 &  2.336889e-42 & 1.278690e-04 & 0.5 & 1e-10 & 1e-10 &  5 &  5 & 147\\\\\n",
       "\t ENSG00000104936.17 & ENSG00000104936.17 &  11.49069 &  52.347126 &  1.469300e-30 & 1.356085e-05 & 0.5 & 1e-10 & 1e-10 &  8 &  8 & 184\\\\\n",
       "\t ENSG00000266903.1  & ENSG00000266903.1  & -11.20153 &  -1.275109 &  4.007386e-29 & 1.308347e-02 & 0.5 & 1e-10 & 1e-10 & 10 & 10 & 580\\\\\n",
       "\\end{tabular}\n"
      ],
      "text/markdown": [
       "\n",
       "A data.table: 6 × 12\n",
       "\n",
       "| gene &lt;chr&gt; | gene_name &lt;chr&gt; | zscore &lt;dbl&gt; | effect_size &lt;dbl&gt; | pvalue &lt;dbl&gt; | var_g &lt;dbl&gt; | pred_perf_r2 &lt;dbl&gt; | pred_perf_pval &lt;dbl&gt; | pred_perf_qval &lt;dbl&gt; | n_snps_used &lt;int&gt; | n_snps_in_cov &lt;int&gt; | n_snps_in_model &lt;int&gt; |\n",
       "|---|---|---|---|---|---|---|---|---|---|---|---|\n",
       "| ENSG00000187244.10 | ENSG00000187244.10 | -21.30609 | -36.271398 | 9.968705e-101 | 9.697234e-05 | 0.5 | 1e-10 | 1e-10 |  2 |  4 |  85 |\n",
       "| ENSG00000186567.12 | ENSG00000186567.12 | -16.23072 |  -4.550429 |  3.058621e-59 | 3.793846e-03 | 0.5 | 1e-10 | 1e-10 | 23 | 27 | 290 |\n",
       "| ENSG00000130202.9  | ENSG00000130202.9  |  15.85279 |  14.210501 |  1.344715e-56 | 3.428667e-04 | 0.5 | 1e-10 | 1e-10 |  6 |  9 | 149 |\n",
       "| ENSG00000130208.9  | ENSG00000130208.9  |  13.63933 |  25.214345 |  2.336889e-42 | 1.278690e-04 | 0.5 | 1e-10 | 1e-10 |  5 |  5 | 147 |\n",
       "| ENSG00000104936.17 | ENSG00000104936.17 |  11.49069 |  52.347126 |  1.469300e-30 | 1.356085e-05 | 0.5 | 1e-10 | 1e-10 |  8 |  8 | 184 |\n",
       "| ENSG00000266903.1  | ENSG00000266903.1  | -11.20153 |  -1.275109 |  4.007386e-29 | 1.308347e-02 | 0.5 | 1e-10 | 1e-10 | 10 | 10 | 580 |\n",
       "\n"
      ],
      "text/plain": [
       "  gene               gene_name          zscore    effect_size pvalue       \n",
       "1 ENSG00000187244.10 ENSG00000187244.10 -21.30609 -36.271398  9.968705e-101\n",
       "2 ENSG00000186567.12 ENSG00000186567.12 -16.23072  -4.550429   3.058621e-59\n",
       "3 ENSG00000130202.9  ENSG00000130202.9   15.85279  14.210501   1.344715e-56\n",
       "4 ENSG00000130208.9  ENSG00000130208.9   13.63933  25.214345   2.336889e-42\n",
       "5 ENSG00000104936.17 ENSG00000104936.17  11.49069  52.347126   1.469300e-30\n",
       "6 ENSG00000266903.1  ENSG00000266903.1  -11.20153  -1.275109   4.007386e-29\n",
       "  var_g        pred_perf_r2 pred_perf_pval pred_perf_qval n_snps_used\n",
       "1 9.697234e-05 0.5          1e-10          1e-10           2         \n",
       "2 3.793846e-03 0.5          1e-10          1e-10          23         \n",
       "3 3.428667e-04 0.5          1e-10          1e-10           6         \n",
       "4 1.278690e-04 0.5          1e-10          1e-10           5         \n",
       "5 1.356085e-05 0.5          1e-10          1e-10           8         \n",
       "6 1.308347e-02 0.5          1e-10          1e-10          10         \n",
       "  n_snps_in_cov n_snps_in_model\n",
       "1  4             85            \n",
       "2 27            290            \n",
       "3  9            149            \n",
       "4  5            147            \n",
       "5  8            184            \n",
       "6 10            580            "
      ]
     },
     "metadata": {},
     "output_type": "display_data"
    }
   ],
   "source": [
    "dim(res_list[[2]])\n",
    "head(res_list[[2]])"
   ]
  },
  {
   "cell_type": "code",
   "execution_count": 10,
   "metadata": {},
   "outputs": [
    {
     "data": {
      "text/html": [
       "<style>\n",
       ".list-inline {list-style: none; margin:0; padding: 0}\n",
       ".list-inline>li {display: inline-block}\n",
       ".list-inline>li:not(:last-child)::after {content: \"\\00b7\"; padding: 0 .5ex}\n",
       "</style>\n",
       "<ol class=list-inline><li>11625</li><li>12</li></ol>\n"
      ],
      "text/latex": [
       "\\begin{enumerate*}\n",
       "\\item 11625\n",
       "\\item 12\n",
       "\\end{enumerate*}\n"
      ],
      "text/markdown": [
       "1. 11625\n",
       "2. 12\n",
       "\n",
       "\n"
      ],
      "text/plain": [
       "[1] 11625    12"
      ]
     },
     "metadata": {},
     "output_type": "display_data"
    },
    {
     "data": {
      "text/html": [
       "<table>\n",
       "<caption>A data.table: 6 × 12</caption>\n",
       "<thead>\n",
       "\t<tr><th scope=col>gene</th><th scope=col>gene_name</th><th scope=col>zscore</th><th scope=col>effect_size</th><th scope=col>pvalue</th><th scope=col>var_g</th><th scope=col>pred_perf_r2</th><th scope=col>pred_perf_pval</th><th scope=col>pred_perf_qval</th><th scope=col>n_snps_used</th><th scope=col>n_snps_in_cov</th><th scope=col>n_snps_in_model</th></tr>\n",
       "\t<tr><th scope=col>&lt;chr&gt;</th><th scope=col>&lt;chr&gt;</th><th scope=col>&lt;dbl&gt;</th><th scope=col>&lt;dbl&gt;</th><th scope=col>&lt;dbl&gt;</th><th scope=col>&lt;dbl&gt;</th><th scope=col>&lt;dbl&gt;</th><th scope=col>&lt;dbl&gt;</th><th scope=col>&lt;dbl&gt;</th><th scope=col>&lt;int&gt;</th><th scope=col>&lt;int&gt;</th><th scope=col>&lt;int&gt;</th></tr>\n",
       "</thead>\n",
       "<tbody>\n",
       "\t<tr><td>ENSG00000182087.12</td><td>ENSG00000182087.12</td><td> 3.339531</td><td> 5.3388826</td><td>0.000839200</td><td>1.563266e-04</td><td>0.5</td><td>1e-10</td><td>1e-10</td><td>1</td><td>21</td><td>936</td></tr>\n",
       "\t<tr><td>ENSG00000071655.17</td><td>ENSG00000071655.17</td><td> 3.266723</td><td>14.3400580</td><td>0.001088000</td><td>1.007288e-05</td><td>0.5</td><td>1e-10</td><td>1e-10</td><td>1</td><td>87</td><td>961</td></tr>\n",
       "\t<tr><td>ENSG00000085514.15</td><td>ENSG00000085514.15</td><td> 3.126168</td><td> 0.8017184</td><td>0.001771001</td><td>1.741982e-03</td><td>0.5</td><td>1e-10</td><td>1e-10</td><td>1</td><td>31</td><td>507</td></tr>\n",
       "\t<tr><td>ENSG00000138744.14</td><td>ENSG00000138744.14</td><td>-3.045327</td><td>-1.1767249</td><td>0.002324271</td><td>8.181458e-04</td><td>0.5</td><td>1e-10</td><td>1e-10</td><td>2</td><td>82</td><td>581</td></tr>\n",
       "\t<tr><td>ENSG00000138380.17</td><td>ENSG00000138380.17</td><td> 2.986598</td><td>10.1705698</td><td>0.002821000</td><td>1.266722e-05</td><td>0.5</td><td>1e-10</td><td>1e-10</td><td>1</td><td> 9</td><td>411</td></tr>\n",
       "\t<tr><td>ENSG00000093000.18</td><td>ENSG00000093000.18</td><td>-2.944574</td><td>-1.3341026</td><td>0.003234000</td><td>6.939486e-04</td><td>0.5</td><td>1e-10</td><td>1e-10</td><td>1</td><td>13</td><td>861</td></tr>\n",
       "</tbody>\n",
       "</table>\n"
      ],
      "text/latex": [
       "A data.table: 6 × 12\n",
       "\\begin{tabular}{llllllllllll}\n",
       " gene & gene\\_name & zscore & effect\\_size & pvalue & var\\_g & pred\\_perf\\_r2 & pred\\_perf\\_pval & pred\\_perf\\_qval & n\\_snps\\_used & n\\_snps\\_in\\_cov & n\\_snps\\_in\\_model\\\\\n",
       " <chr> & <chr> & <dbl> & <dbl> & <dbl> & <dbl> & <dbl> & <dbl> & <dbl> & <int> & <int> & <int>\\\\\n",
       "\\hline\n",
       "\t ENSG00000182087.12 & ENSG00000182087.12 &  3.339531 &  5.3388826 & 0.000839200 & 1.563266e-04 & 0.5 & 1e-10 & 1e-10 & 1 & 21 & 936\\\\\n",
       "\t ENSG00000071655.17 & ENSG00000071655.17 &  3.266723 & 14.3400580 & 0.001088000 & 1.007288e-05 & 0.5 & 1e-10 & 1e-10 & 1 & 87 & 961\\\\\n",
       "\t ENSG00000085514.15 & ENSG00000085514.15 &  3.126168 &  0.8017184 & 0.001771001 & 1.741982e-03 & 0.5 & 1e-10 & 1e-10 & 1 & 31 & 507\\\\\n",
       "\t ENSG00000138744.14 & ENSG00000138744.14 & -3.045327 & -1.1767249 & 0.002324271 & 8.181458e-04 & 0.5 & 1e-10 & 1e-10 & 2 & 82 & 581\\\\\n",
       "\t ENSG00000138380.17 & ENSG00000138380.17 &  2.986598 & 10.1705698 & 0.002821000 & 1.266722e-05 & 0.5 & 1e-10 & 1e-10 & 1 &  9 & 411\\\\\n",
       "\t ENSG00000093000.18 & ENSG00000093000.18 & -2.944574 & -1.3341026 & 0.003234000 & 6.939486e-04 & 0.5 & 1e-10 & 1e-10 & 1 & 13 & 861\\\\\n",
       "\\end{tabular}\n"
      ],
      "text/markdown": [
       "\n",
       "A data.table: 6 × 12\n",
       "\n",
       "| gene &lt;chr&gt; | gene_name &lt;chr&gt; | zscore &lt;dbl&gt; | effect_size &lt;dbl&gt; | pvalue &lt;dbl&gt; | var_g &lt;dbl&gt; | pred_perf_r2 &lt;dbl&gt; | pred_perf_pval &lt;dbl&gt; | pred_perf_qval &lt;dbl&gt; | n_snps_used &lt;int&gt; | n_snps_in_cov &lt;int&gt; | n_snps_in_model &lt;int&gt; |\n",
       "|---|---|---|---|---|---|---|---|---|---|---|---|\n",
       "| ENSG00000182087.12 | ENSG00000182087.12 |  3.339531 |  5.3388826 | 0.000839200 | 1.563266e-04 | 0.5 | 1e-10 | 1e-10 | 1 | 21 | 936 |\n",
       "| ENSG00000071655.17 | ENSG00000071655.17 |  3.266723 | 14.3400580 | 0.001088000 | 1.007288e-05 | 0.5 | 1e-10 | 1e-10 | 1 | 87 | 961 |\n",
       "| ENSG00000085514.15 | ENSG00000085514.15 |  3.126168 |  0.8017184 | 0.001771001 | 1.741982e-03 | 0.5 | 1e-10 | 1e-10 | 1 | 31 | 507 |\n",
       "| ENSG00000138744.14 | ENSG00000138744.14 | -3.045327 | -1.1767249 | 0.002324271 | 8.181458e-04 | 0.5 | 1e-10 | 1e-10 | 2 | 82 | 581 |\n",
       "| ENSG00000138380.17 | ENSG00000138380.17 |  2.986598 | 10.1705698 | 0.002821000 | 1.266722e-05 | 0.5 | 1e-10 | 1e-10 | 1 |  9 | 411 |\n",
       "| ENSG00000093000.18 | ENSG00000093000.18 | -2.944574 | -1.3341026 | 0.003234000 | 6.939486e-04 | 0.5 | 1e-10 | 1e-10 | 1 | 13 | 861 |\n",
       "\n"
      ],
      "text/plain": [
       "  gene               gene_name          zscore    effect_size pvalue     \n",
       "1 ENSG00000182087.12 ENSG00000182087.12  3.339531  5.3388826  0.000839200\n",
       "2 ENSG00000071655.17 ENSG00000071655.17  3.266723 14.3400580  0.001088000\n",
       "3 ENSG00000085514.15 ENSG00000085514.15  3.126168  0.8017184  0.001771001\n",
       "4 ENSG00000138744.14 ENSG00000138744.14 -3.045327 -1.1767249  0.002324271\n",
       "5 ENSG00000138380.17 ENSG00000138380.17  2.986598 10.1705698  0.002821000\n",
       "6 ENSG00000093000.18 ENSG00000093000.18 -2.944574 -1.3341026  0.003234000\n",
       "  var_g        pred_perf_r2 pred_perf_pval pred_perf_qval n_snps_used\n",
       "1 1.563266e-04 0.5          1e-10          1e-10          1          \n",
       "2 1.007288e-05 0.5          1e-10          1e-10          1          \n",
       "3 1.741982e-03 0.5          1e-10          1e-10          1          \n",
       "4 8.181458e-04 0.5          1e-10          1e-10          2          \n",
       "5 1.266722e-05 0.5          1e-10          1e-10          1          \n",
       "6 6.939486e-04 0.5          1e-10          1e-10          1          \n",
       "  n_snps_in_cov n_snps_in_model\n",
       "1 21            936            \n",
       "2 87            961            \n",
       "3 31            507            \n",
       "4 82            581            \n",
       "5  9            411            \n",
       "6 13            861            "
      ]
     },
     "metadata": {},
     "output_type": "display_data"
    }
   ],
   "source": [
    "dim(res_list[[3]])\n",
    "head(res_list[[3]])"
   ]
  },
  {
   "cell_type": "code",
   "execution_count": 9,
   "metadata": {},
   "outputs": [
    {
     "data": {
      "text/html": [
       "<style>\n",
       ".list-inline {list-style: none; margin:0; padding: 0}\n",
       ".list-inline>li {display: inline-block}\n",
       ".list-inline>li:not(:last-child)::after {content: \"\\00b7\"; padding: 0 .5ex}\n",
       "</style>\n",
       "<ol class=list-inline><li>5959</li><li>12</li></ol>\n"
      ],
      "text/latex": [
       "\\begin{enumerate*}\n",
       "\\item 5959\n",
       "\\item 12\n",
       "\\end{enumerate*}\n"
      ],
      "text/markdown": [
       "1. 5959\n",
       "2. 12\n",
       "\n",
       "\n"
      ],
      "text/plain": [
       "[1] 5959   12"
      ]
     },
     "metadata": {},
     "output_type": "display_data"
    },
    {
     "data": {
      "text/html": [
       "<table>\n",
       "<caption>A data.table: 6 × 12</caption>\n",
       "<thead>\n",
       "\t<tr><th scope=col>gene</th><th scope=col>gene_name</th><th scope=col>zscore</th><th scope=col>effect_size</th><th scope=col>pvalue</th><th scope=col>var_g</th><th scope=col>pred_perf_r2</th><th scope=col>pred_perf_pval</th><th scope=col>pred_perf_qval</th><th scope=col>n_snps_used</th><th scope=col>n_snps_in_cov</th><th scope=col>n_snps_in_model</th></tr>\n",
       "\t<tr><th scope=col>&lt;chr&gt;</th><th scope=col>&lt;chr&gt;</th><th scope=col>&lt;dbl&gt;</th><th scope=col>&lt;dbl&gt;</th><th scope=col>&lt;dbl&gt;</th><th scope=col>&lt;dbl&gt;</th><th scope=col>&lt;dbl&gt;</th><th scope=col>&lt;dbl&gt;</th><th scope=col>&lt;dbl&gt;</th><th scope=col>&lt;int&gt;</th><th scope=col>&lt;int&gt;</th><th scope=col>&lt;int&gt;</th></tr>\n",
       "</thead>\n",
       "<tbody>\n",
       "\t<tr><td>ENSG00000172247.3 </td><td>ENSG00000172247.3 </td><td>-4.558909</td><td>-4.215455</td><td>5.141994e-06</td><td>1.587549e-04</td><td>0.5</td><td>1e-10</td><td>1e-10</td><td>1</td><td> 30</td><td>463</td></tr>\n",
       "\t<tr><td>ENSG00000250635.1 </td><td>ENSG00000250635.1 </td><td> 3.547233</td><td> 7.627294</td><td>3.893000e-04</td><td>2.799531e-05</td><td>0.5</td><td>1e-10</td><td>1e-10</td><td>1</td><td>  8</td><td>349</td></tr>\n",
       "\t<tr><td>ENSG00000085514.15</td><td>ENSG00000085514.15</td><td> 3.126168</td><td> 1.510807</td><td>1.771001e-03</td><td>4.905340e-04</td><td>0.5</td><td>1e-10</td><td>1e-10</td><td>1</td><td> 31</td><td>507</td></tr>\n",
       "\t<tr><td>ENSG00000110497.14</td><td>ENSG00000110497.14</td><td>-3.124182</td><td>-5.848581</td><td>1.783000e-03</td><td>3.437446e-05</td><td>0.5</td><td>1e-10</td><td>1e-10</td><td>1</td><td> 35</td><td>459</td></tr>\n",
       "\t<tr><td>ENSG00000138744.14</td><td>ENSG00000138744.14</td><td>-3.099267</td><td>-1.969373</td><td>1.939999e-03</td><td>3.032032e-04</td><td>0.5</td><td>1e-10</td><td>1e-10</td><td>1</td><td> 82</td><td>581</td></tr>\n",
       "\t<tr><td>ENSG00000119048.7 </td><td>ENSG00000119048.7 </td><td>-2.540797</td><td>-7.696134</td><td>1.106000e-02</td><td>1.296036e-05</td><td>0.5</td><td>1e-10</td><td>1e-10</td><td>1</td><td>189</td><td>496</td></tr>\n",
       "</tbody>\n",
       "</table>\n"
      ],
      "text/latex": [
       "A data.table: 6 × 12\n",
       "\\begin{tabular}{llllllllllll}\n",
       " gene & gene\\_name & zscore & effect\\_size & pvalue & var\\_g & pred\\_perf\\_r2 & pred\\_perf\\_pval & pred\\_perf\\_qval & n\\_snps\\_used & n\\_snps\\_in\\_cov & n\\_snps\\_in\\_model\\\\\n",
       " <chr> & <chr> & <dbl> & <dbl> & <dbl> & <dbl> & <dbl> & <dbl> & <dbl> & <int> & <int> & <int>\\\\\n",
       "\\hline\n",
       "\t ENSG00000172247.3  & ENSG00000172247.3  & -4.558909 & -4.215455 & 5.141994e-06 & 1.587549e-04 & 0.5 & 1e-10 & 1e-10 & 1 &  30 & 463\\\\\n",
       "\t ENSG00000250635.1  & ENSG00000250635.1  &  3.547233 &  7.627294 & 3.893000e-04 & 2.799531e-05 & 0.5 & 1e-10 & 1e-10 & 1 &   8 & 349\\\\\n",
       "\t ENSG00000085514.15 & ENSG00000085514.15 &  3.126168 &  1.510807 & 1.771001e-03 & 4.905340e-04 & 0.5 & 1e-10 & 1e-10 & 1 &  31 & 507\\\\\n",
       "\t ENSG00000110497.14 & ENSG00000110497.14 & -3.124182 & -5.848581 & 1.783000e-03 & 3.437446e-05 & 0.5 & 1e-10 & 1e-10 & 1 &  35 & 459\\\\\n",
       "\t ENSG00000138744.14 & ENSG00000138744.14 & -3.099267 & -1.969373 & 1.939999e-03 & 3.032032e-04 & 0.5 & 1e-10 & 1e-10 & 1 &  82 & 581\\\\\n",
       "\t ENSG00000119048.7  & ENSG00000119048.7  & -2.540797 & -7.696134 & 1.106000e-02 & 1.296036e-05 & 0.5 & 1e-10 & 1e-10 & 1 & 189 & 496\\\\\n",
       "\\end{tabular}\n"
      ],
      "text/markdown": [
       "\n",
       "A data.table: 6 × 12\n",
       "\n",
       "| gene &lt;chr&gt; | gene_name &lt;chr&gt; | zscore &lt;dbl&gt; | effect_size &lt;dbl&gt; | pvalue &lt;dbl&gt; | var_g &lt;dbl&gt; | pred_perf_r2 &lt;dbl&gt; | pred_perf_pval &lt;dbl&gt; | pred_perf_qval &lt;dbl&gt; | n_snps_used &lt;int&gt; | n_snps_in_cov &lt;int&gt; | n_snps_in_model &lt;int&gt; |\n",
       "|---|---|---|---|---|---|---|---|---|---|---|---|\n",
       "| ENSG00000172247.3  | ENSG00000172247.3  | -4.558909 | -4.215455 | 5.141994e-06 | 1.587549e-04 | 0.5 | 1e-10 | 1e-10 | 1 |  30 | 463 |\n",
       "| ENSG00000250635.1  | ENSG00000250635.1  |  3.547233 |  7.627294 | 3.893000e-04 | 2.799531e-05 | 0.5 | 1e-10 | 1e-10 | 1 |   8 | 349 |\n",
       "| ENSG00000085514.15 | ENSG00000085514.15 |  3.126168 |  1.510807 | 1.771001e-03 | 4.905340e-04 | 0.5 | 1e-10 | 1e-10 | 1 |  31 | 507 |\n",
       "| ENSG00000110497.14 | ENSG00000110497.14 | -3.124182 | -5.848581 | 1.783000e-03 | 3.437446e-05 | 0.5 | 1e-10 | 1e-10 | 1 |  35 | 459 |\n",
       "| ENSG00000138744.14 | ENSG00000138744.14 | -3.099267 | -1.969373 | 1.939999e-03 | 3.032032e-04 | 0.5 | 1e-10 | 1e-10 | 1 |  82 | 581 |\n",
       "| ENSG00000119048.7  | ENSG00000119048.7  | -2.540797 | -7.696134 | 1.106000e-02 | 1.296036e-05 | 0.5 | 1e-10 | 1e-10 | 1 | 189 | 496 |\n",
       "\n"
      ],
      "text/plain": [
       "  gene               gene_name          zscore    effect_size pvalue      \n",
       "1 ENSG00000172247.3  ENSG00000172247.3  -4.558909 -4.215455   5.141994e-06\n",
       "2 ENSG00000250635.1  ENSG00000250635.1   3.547233  7.627294   3.893000e-04\n",
       "3 ENSG00000085514.15 ENSG00000085514.15  3.126168  1.510807   1.771001e-03\n",
       "4 ENSG00000110497.14 ENSG00000110497.14 -3.124182 -5.848581   1.783000e-03\n",
       "5 ENSG00000138744.14 ENSG00000138744.14 -3.099267 -1.969373   1.939999e-03\n",
       "6 ENSG00000119048.7  ENSG00000119048.7  -2.540797 -7.696134   1.106000e-02\n",
       "  var_g        pred_perf_r2 pred_perf_pval pred_perf_qval n_snps_used\n",
       "1 1.587549e-04 0.5          1e-10          1e-10          1          \n",
       "2 2.799531e-05 0.5          1e-10          1e-10          1          \n",
       "3 4.905340e-04 0.5          1e-10          1e-10          1          \n",
       "4 3.437446e-05 0.5          1e-10          1e-10          1          \n",
       "5 3.032032e-04 0.5          1e-10          1e-10          1          \n",
       "6 1.296036e-05 0.5          1e-10          1e-10          1          \n",
       "  n_snps_in_cov n_snps_in_model\n",
       "1  30           463            \n",
       "2   8           349            \n",
       "3  31           507            \n",
       "4  35           459            \n",
       "5  82           581            \n",
       "6 189           496            "
      ]
     },
     "metadata": {},
     "output_type": "display_data"
    }
   ],
   "source": [
    "dim(res_list[[4]])\n",
    "head(res_list[[4]])"
   ]
  },
  {
   "cell_type": "code",
   "execution_count": 25,
   "metadata": {},
   "outputs": [
    {
     "data": {
      "text/html": [
       "'/gpfs/loomis/project/zhao/zy92/utmost_update/utmost_update/code/R'"
      ],
      "text/latex": [
       "'/gpfs/loomis/project/zhao/zy92/utmost\\_update/utmost\\_update/code/R'"
      ],
      "text/markdown": [
       "'/gpfs/loomis/project/zhao/zy92/utmost_update/utmost_update/code/R'"
      ],
      "text/plain": [
       "[1] \"/gpfs/loomis/project/zhao/zy92/utmost_update/utmost_update/code/R\""
      ]
     },
     "metadata": {},
     "output_type": "display_data"
    }
   ],
   "source": [
    "getwd()"
   ]
  },
  {
   "cell_type": "code",
   "execution_count": 19,
   "metadata": {},
   "outputs": [],
   "source": [
    "tissue <- \"Brain_Cortex\"\n",
    "res_file <- paste0(tissue, \".csv\")"
   ]
  },
  {
   "cell_type": "code",
   "execution_count": 20,
   "metadata": {},
   "outputs": [],
   "source": [
    "vec <- c(\"IGAP_NR\", \"IGAP_normalized_pruned\", \"IGAP_BVLS_ENET\", \"IGAP_ENET\")\n",
    "res_list_cortex <- list()\n",
    "for (name in vec) {\n",
    "    res_dir <- paste0(\"/ysm-gpfs/pi/zhao-data/zy92/update_utmost/\", name, \"/single/\", res_file)\n",
    "    res_list_cortex[[name]] <- fread(res_dir)\n",
    "}"
   ]
  },
  {
   "cell_type": "code",
   "execution_count": 21,
   "metadata": {},
   "outputs": [
    {
     "data": {
      "text/html": [
       "<style>\n",
       ".list-inline {list-style: none; margin:0; padding: 0}\n",
       ".list-inline>li {display: inline-block}\n",
       ".list-inline>li:not(:last-child)::after {content: \"\\00b7\"; padding: 0 .5ex}\n",
       "</style>\n",
       "<ol class=list-inline><li>11408</li><li>13</li></ol>\n"
      ],
      "text/latex": [
       "\\begin{enumerate*}\n",
       "\\item 11408\n",
       "\\item 13\n",
       "\\end{enumerate*}\n"
      ],
      "text/markdown": [
       "1. 11408\n",
       "2. 13\n",
       "\n",
       "\n"
      ],
      "text/plain": [
       "[1] 11408    13"
      ]
     },
     "metadata": {},
     "output_type": "display_data"
    },
    {
     "data": {
      "text/html": [
       "<table>\n",
       "<caption>A data.table: 6 × 13</caption>\n",
       "<thead>\n",
       "\t<tr><th scope=col>V1</th><th scope=col>gene</th><th scope=col>gene_name</th><th scope=col>zscore</th><th scope=col>effect_size</th><th scope=col>pvalue</th><th scope=col>var_g</th><th scope=col>pred_perf_r2</th><th scope=col>pred_perf_pval</th><th scope=col>pred_perf_qval</th><th scope=col>n_snps_used</th><th scope=col>n_snps_in_cov</th><th scope=col>n_snps_in_model</th></tr>\n",
       "\t<tr><th scope=col>&lt;int&gt;</th><th scope=col>&lt;chr&gt;</th><th scope=col>&lt;chr&gt;</th><th scope=col>&lt;dbl&gt;</th><th scope=col>&lt;dbl&gt;</th><th scope=col>&lt;dbl&gt;</th><th scope=col>&lt;dbl&gt;</th><th scope=col>&lt;dbl&gt;</th><th scope=col>&lt;dbl&gt;</th><th scope=col>&lt;dbl&gt;</th><th scope=col>&lt;int&gt;</th><th scope=col>&lt;dbl&gt;</th><th scope=col>&lt;int&gt;</th></tr>\n",
       "</thead>\n",
       "<tbody>\n",
       "\t<tr><td>0</td><td>PVRL2 </td><td>PVRL2 </td><td> 14.466154</td><td>  6.19658967</td><td>1.982520e-47</td><td>1.000979e-03</td><td>0.5</td><td>1e-10</td><td>1e-10</td><td>22</td><td>27</td><td>27</td></tr>\n",
       "\t<tr><td>1</td><td>ZNF221</td><td>ZNF221</td><td>-14.051365</td><td>-91.01083886</td><td>7.556372e-45</td><td>2.854500e-06</td><td>0.5</td><td>1e-10</td><td>1e-10</td><td> 6</td><td> 6</td><td> 6</td></tr>\n",
       "\t<tr><td>2</td><td>ZNF235</td><td>ZNF235</td><td>-13.379455</td><td>-38.21722110</td><td>7.972987e-41</td><td>1.868424e-05</td><td>0.5</td><td>1e-10</td><td>1e-10</td><td>22</td><td>23</td><td>23</td></tr>\n",
       "\t<tr><td>3</td><td>ZNF227</td><td>ZNF227</td><td>-11.555213</td><td>-12.54855251</td><td>6.947496e-31</td><td>1.242309e-04</td><td>0.5</td><td>1e-10</td><td>1e-10</td><td>17</td><td>18</td><td>18</td></tr>\n",
       "\t<tr><td>4</td><td>CLU   </td><td>CLU   </td><td> -8.089079</td><td> -0.01367282</td><td>6.011773e-16</td><td>4.672681e+01</td><td>0.5</td><td>1e-10</td><td>1e-10</td><td>23</td><td>23</td><td>23</td></tr>\n",
       "\t<tr><td>5</td><td>BCAM  </td><td>BCAM  </td><td>        NA</td><td>          NA</td><td>          NA</td><td>4.538370e-05</td><td>0.5</td><td>1e-10</td><td>1e-10</td><td> 1</td><td> 1</td><td> 1</td></tr>\n",
       "</tbody>\n",
       "</table>\n"
      ],
      "text/latex": [
       "A data.table: 6 × 13\n",
       "\\begin{tabular}{lllllllllllll}\n",
       " V1 & gene & gene\\_name & zscore & effect\\_size & pvalue & var\\_g & pred\\_perf\\_r2 & pred\\_perf\\_pval & pred\\_perf\\_qval & n\\_snps\\_used & n\\_snps\\_in\\_cov & n\\_snps\\_in\\_model\\\\\n",
       " <int> & <chr> & <chr> & <dbl> & <dbl> & <dbl> & <dbl> & <dbl> & <dbl> & <dbl> & <int> & <dbl> & <int>\\\\\n",
       "\\hline\n",
       "\t 0 & PVRL2  & PVRL2  &  14.466154 &   6.19658967 & 1.982520e-47 & 1.000979e-03 & 0.5 & 1e-10 & 1e-10 & 22 & 27 & 27\\\\\n",
       "\t 1 & ZNF221 & ZNF221 & -14.051365 & -91.01083886 & 7.556372e-45 & 2.854500e-06 & 0.5 & 1e-10 & 1e-10 &  6 &  6 &  6\\\\\n",
       "\t 2 & ZNF235 & ZNF235 & -13.379455 & -38.21722110 & 7.972987e-41 & 1.868424e-05 & 0.5 & 1e-10 & 1e-10 & 22 & 23 & 23\\\\\n",
       "\t 3 & ZNF227 & ZNF227 & -11.555213 & -12.54855251 & 6.947496e-31 & 1.242309e-04 & 0.5 & 1e-10 & 1e-10 & 17 & 18 & 18\\\\\n",
       "\t 4 & CLU    & CLU    &  -8.089079 &  -0.01367282 & 6.011773e-16 & 4.672681e+01 & 0.5 & 1e-10 & 1e-10 & 23 & 23 & 23\\\\\n",
       "\t 5 & BCAM   & BCAM   &         NA &           NA &           NA & 4.538370e-05 & 0.5 & 1e-10 & 1e-10 &  1 &  1 &  1\\\\\n",
       "\\end{tabular}\n"
      ],
      "text/markdown": [
       "\n",
       "A data.table: 6 × 13\n",
       "\n",
       "| V1 &lt;int&gt; | gene &lt;chr&gt; | gene_name &lt;chr&gt; | zscore &lt;dbl&gt; | effect_size &lt;dbl&gt; | pvalue &lt;dbl&gt; | var_g &lt;dbl&gt; | pred_perf_r2 &lt;dbl&gt; | pred_perf_pval &lt;dbl&gt; | pred_perf_qval &lt;dbl&gt; | n_snps_used &lt;int&gt; | n_snps_in_cov &lt;dbl&gt; | n_snps_in_model &lt;int&gt; |\n",
       "|---|---|---|---|---|---|---|---|---|---|---|---|---|\n",
       "| 0 | PVRL2  | PVRL2  |  14.466154 |   6.19658967 | 1.982520e-47 | 1.000979e-03 | 0.5 | 1e-10 | 1e-10 | 22 | 27 | 27 |\n",
       "| 1 | ZNF221 | ZNF221 | -14.051365 | -91.01083886 | 7.556372e-45 | 2.854500e-06 | 0.5 | 1e-10 | 1e-10 |  6 |  6 |  6 |\n",
       "| 2 | ZNF235 | ZNF235 | -13.379455 | -38.21722110 | 7.972987e-41 | 1.868424e-05 | 0.5 | 1e-10 | 1e-10 | 22 | 23 | 23 |\n",
       "| 3 | ZNF227 | ZNF227 | -11.555213 | -12.54855251 | 6.947496e-31 | 1.242309e-04 | 0.5 | 1e-10 | 1e-10 | 17 | 18 | 18 |\n",
       "| 4 | CLU    | CLU    |  -8.089079 |  -0.01367282 | 6.011773e-16 | 4.672681e+01 | 0.5 | 1e-10 | 1e-10 | 23 | 23 | 23 |\n",
       "| 5 | BCAM   | BCAM   |         NA |           NA |           NA | 4.538370e-05 | 0.5 | 1e-10 | 1e-10 |  1 |  1 |  1 |\n",
       "\n"
      ],
      "text/plain": [
       "  V1 gene   gene_name zscore     effect_size  pvalue       var_g       \n",
       "1 0  PVRL2  PVRL2      14.466154   6.19658967 1.982520e-47 1.000979e-03\n",
       "2 1  ZNF221 ZNF221    -14.051365 -91.01083886 7.556372e-45 2.854500e-06\n",
       "3 2  ZNF235 ZNF235    -13.379455 -38.21722110 7.972987e-41 1.868424e-05\n",
       "4 3  ZNF227 ZNF227    -11.555213 -12.54855251 6.947496e-31 1.242309e-04\n",
       "5 4  CLU    CLU        -8.089079  -0.01367282 6.011773e-16 4.672681e+01\n",
       "6 5  BCAM   BCAM              NA           NA           NA 4.538370e-05\n",
       "  pred_perf_r2 pred_perf_pval pred_perf_qval n_snps_used n_snps_in_cov\n",
       "1 0.5          1e-10          1e-10          22          27           \n",
       "2 0.5          1e-10          1e-10           6           6           \n",
       "3 0.5          1e-10          1e-10          22          23           \n",
       "4 0.5          1e-10          1e-10          17          18           \n",
       "5 0.5          1e-10          1e-10          23          23           \n",
       "6 0.5          1e-10          1e-10           1           1           \n",
       "  n_snps_in_model\n",
       "1 27             \n",
       "2  6             \n",
       "3 23             \n",
       "4 18             \n",
       "5 23             \n",
       "6  1             "
      ]
     },
     "metadata": {},
     "output_type": "display_data"
    }
   ],
   "source": [
    "dim(res_list_cortex[[1]])\n",
    "head(res_list_cortex[[1]])"
   ]
  },
  {
   "cell_type": "code",
   "execution_count": 22,
   "metadata": {},
   "outputs": [
    {
     "data": {
      "text/html": [
       "<style>\n",
       ".list-inline {list-style: none; margin:0; padding: 0}\n",
       ".list-inline>li {display: inline-block}\n",
       ".list-inline>li:not(:last-child)::after {content: \"\\00b7\"; padding: 0 .5ex}\n",
       "</style>\n",
       "<ol class=list-inline><li>16052</li><li>12</li></ol>\n"
      ],
      "text/latex": [
       "\\begin{enumerate*}\n",
       "\\item 16052\n",
       "\\item 12\n",
       "\\end{enumerate*}\n"
      ],
      "text/markdown": [
       "1. 16052\n",
       "2. 12\n",
       "\n",
       "\n"
      ],
      "text/plain": [
       "[1] 16052    12"
      ]
     },
     "metadata": {},
     "output_type": "display_data"
    },
    {
     "data": {
      "text/html": [
       "<table>\n",
       "<caption>A data.table: 6 × 12</caption>\n",
       "<thead>\n",
       "\t<tr><th scope=col>gene</th><th scope=col>gene_name</th><th scope=col>zscore</th><th scope=col>effect_size</th><th scope=col>pvalue</th><th scope=col>var_g</th><th scope=col>pred_perf_r2</th><th scope=col>pred_perf_pval</th><th scope=col>pred_perf_qval</th><th scope=col>n_snps_used</th><th scope=col>n_snps_in_cov</th><th scope=col>n_snps_in_model</th></tr>\n",
       "\t<tr><th scope=col>&lt;chr&gt;</th><th scope=col>&lt;chr&gt;</th><th scope=col>&lt;dbl&gt;</th><th scope=col>&lt;dbl&gt;</th><th scope=col>&lt;dbl&gt;</th><th scope=col>&lt;dbl&gt;</th><th scope=col>&lt;dbl&gt;</th><th scope=col>&lt;dbl&gt;</th><th scope=col>&lt;dbl&gt;</th><th scope=col>&lt;int&gt;</th><th scope=col>&lt;int&gt;</th><th scope=col>&lt;int&gt;</th></tr>\n",
       "</thead>\n",
       "<tbody>\n",
       "\t<tr><td>ENSG00000130202.9 </td><td>ENSG00000130202.9 </td><td> 19.24919</td><td> 26.155950</td><td>1.433958e-82</td><td>1.610147e-04</td><td>0.5</td><td>1e-10</td><td>1e-10</td><td> 6</td><td> 9</td><td>149</td></tr>\n",
       "\t<tr><td>ENSG00000130204.12</td><td>ENSG00000130204.12</td><td>-19.19353</td><td>-11.395854</td><td>4.191845e-82</td><td>4.866532e-04</td><td>0.5</td><td>1e-10</td><td>1e-10</td><td> 7</td><td>10</td><td> 80</td></tr>\n",
       "\t<tr><td>ENSG00000177051.5 </td><td>ENSG00000177051.5 </td><td>-18.87349</td><td>-54.579878</td><td>1.884396e-79</td><td>3.378311e-05</td><td>0.5</td><td>1e-10</td><td>1e-10</td><td> 4</td><td> 4</td><td> 47</td></tr>\n",
       "\t<tr><td>ENSG00000104859.14</td><td>ENSG00000104859.14</td><td> 15.35569</td><td> 45.512537</td><td>3.244201e-53</td><td>3.633994e-05</td><td>0.5</td><td>1e-10</td><td>1e-10</td><td> 4</td><td> 5</td><td> 69</td></tr>\n",
       "\t<tr><td>ENSG00000186567.12</td><td>ENSG00000186567.12</td><td>-14.81245</td><td> -4.353517</td><td>1.217203e-49</td><td>3.736308e-03</td><td>0.5</td><td>1e-10</td><td>1e-10</td><td>23</td><td>27</td><td>290</td></tr>\n",
       "\t<tr><td>ENSG00000266903.1 </td><td>ENSG00000266903.1 </td><td>-11.26336</td><td> -1.307712</td><td>1.990273e-29</td><td>1.517677e-02</td><td>0.5</td><td>1e-10</td><td>1e-10</td><td>10</td><td>10</td><td>580</td></tr>\n",
       "</tbody>\n",
       "</table>\n"
      ],
      "text/latex": [
       "A data.table: 6 × 12\n",
       "\\begin{tabular}{llllllllllll}\n",
       " gene & gene\\_name & zscore & effect\\_size & pvalue & var\\_g & pred\\_perf\\_r2 & pred\\_perf\\_pval & pred\\_perf\\_qval & n\\_snps\\_used & n\\_snps\\_in\\_cov & n\\_snps\\_in\\_model\\\\\n",
       " <chr> & <chr> & <dbl> & <dbl> & <dbl> & <dbl> & <dbl> & <dbl> & <dbl> & <int> & <int> & <int>\\\\\n",
       "\\hline\n",
       "\t ENSG00000130202.9  & ENSG00000130202.9  &  19.24919 &  26.155950 & 1.433958e-82 & 1.610147e-04 & 0.5 & 1e-10 & 1e-10 &  6 &  9 & 149\\\\\n",
       "\t ENSG00000130204.12 & ENSG00000130204.12 & -19.19353 & -11.395854 & 4.191845e-82 & 4.866532e-04 & 0.5 & 1e-10 & 1e-10 &  7 & 10 &  80\\\\\n",
       "\t ENSG00000177051.5  & ENSG00000177051.5  & -18.87349 & -54.579878 & 1.884396e-79 & 3.378311e-05 & 0.5 & 1e-10 & 1e-10 &  4 &  4 &  47\\\\\n",
       "\t ENSG00000104859.14 & ENSG00000104859.14 &  15.35569 &  45.512537 & 3.244201e-53 & 3.633994e-05 & 0.5 & 1e-10 & 1e-10 &  4 &  5 &  69\\\\\n",
       "\t ENSG00000186567.12 & ENSG00000186567.12 & -14.81245 &  -4.353517 & 1.217203e-49 & 3.736308e-03 & 0.5 & 1e-10 & 1e-10 & 23 & 27 & 290\\\\\n",
       "\t ENSG00000266903.1  & ENSG00000266903.1  & -11.26336 &  -1.307712 & 1.990273e-29 & 1.517677e-02 & 0.5 & 1e-10 & 1e-10 & 10 & 10 & 580\\\\\n",
       "\\end{tabular}\n"
      ],
      "text/markdown": [
       "\n",
       "A data.table: 6 × 12\n",
       "\n",
       "| gene &lt;chr&gt; | gene_name &lt;chr&gt; | zscore &lt;dbl&gt; | effect_size &lt;dbl&gt; | pvalue &lt;dbl&gt; | var_g &lt;dbl&gt; | pred_perf_r2 &lt;dbl&gt; | pred_perf_pval &lt;dbl&gt; | pred_perf_qval &lt;dbl&gt; | n_snps_used &lt;int&gt; | n_snps_in_cov &lt;int&gt; | n_snps_in_model &lt;int&gt; |\n",
       "|---|---|---|---|---|---|---|---|---|---|---|---|\n",
       "| ENSG00000130202.9  | ENSG00000130202.9  |  19.24919 |  26.155950 | 1.433958e-82 | 1.610147e-04 | 0.5 | 1e-10 | 1e-10 |  6 |  9 | 149 |\n",
       "| ENSG00000130204.12 | ENSG00000130204.12 | -19.19353 | -11.395854 | 4.191845e-82 | 4.866532e-04 | 0.5 | 1e-10 | 1e-10 |  7 | 10 |  80 |\n",
       "| ENSG00000177051.5  | ENSG00000177051.5  | -18.87349 | -54.579878 | 1.884396e-79 | 3.378311e-05 | 0.5 | 1e-10 | 1e-10 |  4 |  4 |  47 |\n",
       "| ENSG00000104859.14 | ENSG00000104859.14 |  15.35569 |  45.512537 | 3.244201e-53 | 3.633994e-05 | 0.5 | 1e-10 | 1e-10 |  4 |  5 |  69 |\n",
       "| ENSG00000186567.12 | ENSG00000186567.12 | -14.81245 |  -4.353517 | 1.217203e-49 | 3.736308e-03 | 0.5 | 1e-10 | 1e-10 | 23 | 27 | 290 |\n",
       "| ENSG00000266903.1  | ENSG00000266903.1  | -11.26336 |  -1.307712 | 1.990273e-29 | 1.517677e-02 | 0.5 | 1e-10 | 1e-10 | 10 | 10 | 580 |\n",
       "\n"
      ],
      "text/plain": [
       "  gene               gene_name          zscore    effect_size pvalue      \n",
       "1 ENSG00000130202.9  ENSG00000130202.9   19.24919  26.155950  1.433958e-82\n",
       "2 ENSG00000130204.12 ENSG00000130204.12 -19.19353 -11.395854  4.191845e-82\n",
       "3 ENSG00000177051.5  ENSG00000177051.5  -18.87349 -54.579878  1.884396e-79\n",
       "4 ENSG00000104859.14 ENSG00000104859.14  15.35569  45.512537  3.244201e-53\n",
       "5 ENSG00000186567.12 ENSG00000186567.12 -14.81245  -4.353517  1.217203e-49\n",
       "6 ENSG00000266903.1  ENSG00000266903.1  -11.26336  -1.307712  1.990273e-29\n",
       "  var_g        pred_perf_r2 pred_perf_pval pred_perf_qval n_snps_used\n",
       "1 1.610147e-04 0.5          1e-10          1e-10           6         \n",
       "2 4.866532e-04 0.5          1e-10          1e-10           7         \n",
       "3 3.378311e-05 0.5          1e-10          1e-10           4         \n",
       "4 3.633994e-05 0.5          1e-10          1e-10           4         \n",
       "5 3.736308e-03 0.5          1e-10          1e-10          23         \n",
       "6 1.517677e-02 0.5          1e-10          1e-10          10         \n",
       "  n_snps_in_cov n_snps_in_model\n",
       "1  9            149            \n",
       "2 10             80            \n",
       "3  4             47            \n",
       "4  5             69            \n",
       "5 27            290            \n",
       "6 10            580            "
      ]
     },
     "metadata": {},
     "output_type": "display_data"
    }
   ],
   "source": [
    "dim(res_list_cortex[[2]])\n",
    "head(res_list_cortex[[2]])"
   ]
  },
  {
   "cell_type": "code",
   "execution_count": 23,
   "metadata": {},
   "outputs": [
    {
     "data": {
      "text/html": [
       "<style>\n",
       ".list-inline {list-style: none; margin:0; padding: 0}\n",
       ".list-inline>li {display: inline-block}\n",
       ".list-inline>li:not(:last-child)::after {content: \"\\00b7\"; padding: 0 .5ex}\n",
       "</style>\n",
       "<ol class=list-inline><li>11519</li><li>12</li></ol>\n"
      ],
      "text/latex": [
       "\\begin{enumerate*}\n",
       "\\item 11519\n",
       "\\item 12\n",
       "\\end{enumerate*}\n"
      ],
      "text/markdown": [
       "1. 11519\n",
       "2. 12\n",
       "\n",
       "\n"
      ],
      "text/plain": [
       "[1] 11519    12"
      ]
     },
     "metadata": {},
     "output_type": "display_data"
    },
    {
     "data": {
      "text/html": [
       "<table>\n",
       "<caption>A data.table: 6 × 12</caption>\n",
       "<thead>\n",
       "\t<tr><th scope=col>gene</th><th scope=col>gene_name</th><th scope=col>zscore</th><th scope=col>effect_size</th><th scope=col>pvalue</th><th scope=col>var_g</th><th scope=col>pred_perf_r2</th><th scope=col>pred_perf_pval</th><th scope=col>pred_perf_qval</th><th scope=col>n_snps_used</th><th scope=col>n_snps_in_cov</th><th scope=col>n_snps_in_model</th></tr>\n",
       "\t<tr><th scope=col>&lt;chr&gt;</th><th scope=col>&lt;chr&gt;</th><th scope=col>&lt;dbl&gt;</th><th scope=col>&lt;dbl&gt;</th><th scope=col>&lt;dbl&gt;</th><th scope=col>&lt;dbl&gt;</th><th scope=col>&lt;dbl&gt;</th><th scope=col>&lt;dbl&gt;</th><th scope=col>&lt;dbl&gt;</th><th scope=col>&lt;int&gt;</th><th scope=col>&lt;int&gt;</th><th scope=col>&lt;int&gt;</th></tr>\n",
       "</thead>\n",
       "<tbody>\n",
       "\t<tr><td>ENSG00000172247.3 </td><td>ENSG00000172247.3 </td><td>-4.558909</td><td>-9.0107635</td><td>5.141994e-06</td><td>3.474505e-05</td><td>0.5</td><td>1e-10</td><td>1e-10</td><td>1</td><td> 34</td><td>463</td></tr>\n",
       "\t<tr><td>ENSG00000182087.12</td><td>ENSG00000182087.12</td><td> 3.339531</td><td> 4.9908131</td><td>8.392000e-04</td><td>1.788920e-04</td><td>0.5</td><td>1e-10</td><td>1e-10</td><td>1</td><td> 23</td><td>936</td></tr>\n",
       "\t<tr><td>ENSG00000085514.15</td><td>ENSG00000085514.15</td><td> 3.126168</td><td> 0.9072401</td><td>1.771001e-03</td><td>1.360326e-03</td><td>0.5</td><td>1e-10</td><td>1e-10</td><td>1</td><td> 31</td><td>507</td></tr>\n",
       "\t<tr><td>ENSG00000152779.13</td><td>ENSG00000152779.13</td><td>-3.120572</td><td>-2.9799724</td><td>1.805000e-03</td><td>1.251724e-04</td><td>0.5</td><td>1e-10</td><td>1e-10</td><td>1</td><td> 68</td><td>637</td></tr>\n",
       "\t<tr><td>ENSG00000113209.8 </td><td>ENSG00000113209.8 </td><td> 3.049137</td><td> 1.5449769</td><td>2.295001e-03</td><td>5.113572e-04</td><td>0.5</td><td>1e-10</td><td>1e-10</td><td>1</td><td>149</td><td>488</td></tr>\n",
       "\t<tr><td>ENSG00000093000.18</td><td>ENSG00000093000.18</td><td>-2.944574</td><td>-1.0818764</td><td>3.234000e-03</td><td>1.055238e-03</td><td>0.5</td><td>1e-10</td><td>1e-10</td><td>1</td><td> 13</td><td>861</td></tr>\n",
       "</tbody>\n",
       "</table>\n"
      ],
      "text/latex": [
       "A data.table: 6 × 12\n",
       "\\begin{tabular}{llllllllllll}\n",
       " gene & gene\\_name & zscore & effect\\_size & pvalue & var\\_g & pred\\_perf\\_r2 & pred\\_perf\\_pval & pred\\_perf\\_qval & n\\_snps\\_used & n\\_snps\\_in\\_cov & n\\_snps\\_in\\_model\\\\\n",
       " <chr> & <chr> & <dbl> & <dbl> & <dbl> & <dbl> & <dbl> & <dbl> & <dbl> & <int> & <int> & <int>\\\\\n",
       "\\hline\n",
       "\t ENSG00000172247.3  & ENSG00000172247.3  & -4.558909 & -9.0107635 & 5.141994e-06 & 3.474505e-05 & 0.5 & 1e-10 & 1e-10 & 1 &  34 & 463\\\\\n",
       "\t ENSG00000182087.12 & ENSG00000182087.12 &  3.339531 &  4.9908131 & 8.392000e-04 & 1.788920e-04 & 0.5 & 1e-10 & 1e-10 & 1 &  23 & 936\\\\\n",
       "\t ENSG00000085514.15 & ENSG00000085514.15 &  3.126168 &  0.9072401 & 1.771001e-03 & 1.360326e-03 & 0.5 & 1e-10 & 1e-10 & 1 &  31 & 507\\\\\n",
       "\t ENSG00000152779.13 & ENSG00000152779.13 & -3.120572 & -2.9799724 & 1.805000e-03 & 1.251724e-04 & 0.5 & 1e-10 & 1e-10 & 1 &  68 & 637\\\\\n",
       "\t ENSG00000113209.8  & ENSG00000113209.8  &  3.049137 &  1.5449769 & 2.295001e-03 & 5.113572e-04 & 0.5 & 1e-10 & 1e-10 & 1 & 149 & 488\\\\\n",
       "\t ENSG00000093000.18 & ENSG00000093000.18 & -2.944574 & -1.0818764 & 3.234000e-03 & 1.055238e-03 & 0.5 & 1e-10 & 1e-10 & 1 &  13 & 861\\\\\n",
       "\\end{tabular}\n"
      ],
      "text/markdown": [
       "\n",
       "A data.table: 6 × 12\n",
       "\n",
       "| gene &lt;chr&gt; | gene_name &lt;chr&gt; | zscore &lt;dbl&gt; | effect_size &lt;dbl&gt; | pvalue &lt;dbl&gt; | var_g &lt;dbl&gt; | pred_perf_r2 &lt;dbl&gt; | pred_perf_pval &lt;dbl&gt; | pred_perf_qval &lt;dbl&gt; | n_snps_used &lt;int&gt; | n_snps_in_cov &lt;int&gt; | n_snps_in_model &lt;int&gt; |\n",
       "|---|---|---|---|---|---|---|---|---|---|---|---|\n",
       "| ENSG00000172247.3  | ENSG00000172247.3  | -4.558909 | -9.0107635 | 5.141994e-06 | 3.474505e-05 | 0.5 | 1e-10 | 1e-10 | 1 |  34 | 463 |\n",
       "| ENSG00000182087.12 | ENSG00000182087.12 |  3.339531 |  4.9908131 | 8.392000e-04 | 1.788920e-04 | 0.5 | 1e-10 | 1e-10 | 1 |  23 | 936 |\n",
       "| ENSG00000085514.15 | ENSG00000085514.15 |  3.126168 |  0.9072401 | 1.771001e-03 | 1.360326e-03 | 0.5 | 1e-10 | 1e-10 | 1 |  31 | 507 |\n",
       "| ENSG00000152779.13 | ENSG00000152779.13 | -3.120572 | -2.9799724 | 1.805000e-03 | 1.251724e-04 | 0.5 | 1e-10 | 1e-10 | 1 |  68 | 637 |\n",
       "| ENSG00000113209.8  | ENSG00000113209.8  |  3.049137 |  1.5449769 | 2.295001e-03 | 5.113572e-04 | 0.5 | 1e-10 | 1e-10 | 1 | 149 | 488 |\n",
       "| ENSG00000093000.18 | ENSG00000093000.18 | -2.944574 | -1.0818764 | 3.234000e-03 | 1.055238e-03 | 0.5 | 1e-10 | 1e-10 | 1 |  13 | 861 |\n",
       "\n"
      ],
      "text/plain": [
       "  gene               gene_name          zscore    effect_size pvalue      \n",
       "1 ENSG00000172247.3  ENSG00000172247.3  -4.558909 -9.0107635  5.141994e-06\n",
       "2 ENSG00000182087.12 ENSG00000182087.12  3.339531  4.9908131  8.392000e-04\n",
       "3 ENSG00000085514.15 ENSG00000085514.15  3.126168  0.9072401  1.771001e-03\n",
       "4 ENSG00000152779.13 ENSG00000152779.13 -3.120572 -2.9799724  1.805000e-03\n",
       "5 ENSG00000113209.8  ENSG00000113209.8   3.049137  1.5449769  2.295001e-03\n",
       "6 ENSG00000093000.18 ENSG00000093000.18 -2.944574 -1.0818764  3.234000e-03\n",
       "  var_g        pred_perf_r2 pred_perf_pval pred_perf_qval n_snps_used\n",
       "1 3.474505e-05 0.5          1e-10          1e-10          1          \n",
       "2 1.788920e-04 0.5          1e-10          1e-10          1          \n",
       "3 1.360326e-03 0.5          1e-10          1e-10          1          \n",
       "4 1.251724e-04 0.5          1e-10          1e-10          1          \n",
       "5 5.113572e-04 0.5          1e-10          1e-10          1          \n",
       "6 1.055238e-03 0.5          1e-10          1e-10          1          \n",
       "  n_snps_in_cov n_snps_in_model\n",
       "1  34           463            \n",
       "2  23           936            \n",
       "3  31           507            \n",
       "4  68           637            \n",
       "5 149           488            \n",
       "6  13           861            "
      ]
     },
     "metadata": {},
     "output_type": "display_data"
    }
   ],
   "source": [
    "dim(res_list_cortex[[3]])\n",
    "head(res_list_cortex[[3]])"
   ]
  },
  {
   "cell_type": "code",
   "execution_count": 24,
   "metadata": {},
   "outputs": [
    {
     "data": {
      "text/html": [
       "<style>\n",
       ".list-inline {list-style: none; margin:0; padding: 0}\n",
       ".list-inline>li {display: inline-block}\n",
       ".list-inline>li:not(:last-child)::after {content: \"\\00b7\"; padding: 0 .5ex}\n",
       "</style>\n",
       "<ol class=list-inline><li>6479</li><li>12</li></ol>\n"
      ],
      "text/latex": [
       "\\begin{enumerate*}\n",
       "\\item 6479\n",
       "\\item 12\n",
       "\\end{enumerate*}\n"
      ],
      "text/markdown": [
       "1. 6479\n",
       "2. 12\n",
       "\n",
       "\n"
      ],
      "text/plain": [
       "[1] 6479   12"
      ]
     },
     "metadata": {},
     "output_type": "display_data"
    },
    {
     "data": {
      "text/html": [
       "<table>\n",
       "<caption>A data.table: 6 × 12</caption>\n",
       "<thead>\n",
       "\t<tr><th scope=col>gene</th><th scope=col>gene_name</th><th scope=col>zscore</th><th scope=col>effect_size</th><th scope=col>pvalue</th><th scope=col>var_g</th><th scope=col>pred_perf_r2</th><th scope=col>pred_perf_pval</th><th scope=col>pred_perf_qval</th><th scope=col>n_snps_used</th><th scope=col>n_snps_in_cov</th><th scope=col>n_snps_in_model</th></tr>\n",
       "\t<tr><th scope=col>&lt;chr&gt;</th><th scope=col>&lt;chr&gt;</th><th scope=col>&lt;dbl&gt;</th><th scope=col>&lt;dbl&gt;</th><th scope=col>&lt;dbl&gt;</th><th scope=col>&lt;dbl&gt;</th><th scope=col>&lt;dbl&gt;</th><th scope=col>&lt;dbl&gt;</th><th scope=col>&lt;dbl&gt;</th><th scope=col>&lt;int&gt;</th><th scope=col>&lt;int&gt;</th><th scope=col>&lt;int&gt;</th></tr>\n",
       "</thead>\n",
       "<tbody>\n",
       "\t<tr><td>ENSG00000107669.17</td><td>ENSG00000107669.17</td><td> 3.988616</td><td> 3.2137893</td><td>6.645997e-05</td><td>1.783813e-04</td><td>0.5</td><td>1e-10</td><td>1e-10</td><td>1</td><td>80</td><td>689</td></tr>\n",
       "\t<tr><td>ENSG00000085514.15</td><td>ENSG00000085514.15</td><td> 3.126168</td><td> 0.5047672</td><td>1.771001e-03</td><td>4.394456e-03</td><td>0.5</td><td>1e-10</td><td>1e-10</td><td>1</td><td>31</td><td>507</td></tr>\n",
       "\t<tr><td>ENSG00000138744.14</td><td>ENSG00000138744.14</td><td>-3.099267</td><td>-0.7059943</td><td>1.939999e-03</td><td>2.359323e-03</td><td>0.5</td><td>1e-10</td><td>1e-10</td><td>1</td><td>82</td><td>581</td></tr>\n",
       "\t<tr><td>ENSG00000047579.19</td><td>ENSG00000047579.19</td><td>-2.793630</td><td>-2.6400653</td><td>5.212002e-03</td><td>1.938533e-04</td><td>0.5</td><td>1e-10</td><td>1e-10</td><td>1</td><td>12</td><td>642</td></tr>\n",
       "\t<tr><td>ENSG00000104435.13</td><td>ENSG00000104435.13</td><td>-2.667359</td><td>-9.4053557</td><td>7.644999e-03</td><td>1.186205e-05</td><td>0.5</td><td>1e-10</td><td>1e-10</td><td>1</td><td>60</td><td>562</td></tr>\n",
       "\t<tr><td>ENSG00000139537.10</td><td>ENSG00000139537.10</td><td> 2.657939</td><td> 3.2883842</td><td>7.862002e-03</td><td>9.131722e-05</td><td>0.5</td><td>1e-10</td><td>1e-10</td><td>1</td><td>92</td><td>471</td></tr>\n",
       "</tbody>\n",
       "</table>\n"
      ],
      "text/latex": [
       "A data.table: 6 × 12\n",
       "\\begin{tabular}{llllllllllll}\n",
       " gene & gene\\_name & zscore & effect\\_size & pvalue & var\\_g & pred\\_perf\\_r2 & pred\\_perf\\_pval & pred\\_perf\\_qval & n\\_snps\\_used & n\\_snps\\_in\\_cov & n\\_snps\\_in\\_model\\\\\n",
       " <chr> & <chr> & <dbl> & <dbl> & <dbl> & <dbl> & <dbl> & <dbl> & <dbl> & <int> & <int> & <int>\\\\\n",
       "\\hline\n",
       "\t ENSG00000107669.17 & ENSG00000107669.17 &  3.988616 &  3.2137893 & 6.645997e-05 & 1.783813e-04 & 0.5 & 1e-10 & 1e-10 & 1 & 80 & 689\\\\\n",
       "\t ENSG00000085514.15 & ENSG00000085514.15 &  3.126168 &  0.5047672 & 1.771001e-03 & 4.394456e-03 & 0.5 & 1e-10 & 1e-10 & 1 & 31 & 507\\\\\n",
       "\t ENSG00000138744.14 & ENSG00000138744.14 & -3.099267 & -0.7059943 & 1.939999e-03 & 2.359323e-03 & 0.5 & 1e-10 & 1e-10 & 1 & 82 & 581\\\\\n",
       "\t ENSG00000047579.19 & ENSG00000047579.19 & -2.793630 & -2.6400653 & 5.212002e-03 & 1.938533e-04 & 0.5 & 1e-10 & 1e-10 & 1 & 12 & 642\\\\\n",
       "\t ENSG00000104435.13 & ENSG00000104435.13 & -2.667359 & -9.4053557 & 7.644999e-03 & 1.186205e-05 & 0.5 & 1e-10 & 1e-10 & 1 & 60 & 562\\\\\n",
       "\t ENSG00000139537.10 & ENSG00000139537.10 &  2.657939 &  3.2883842 & 7.862002e-03 & 9.131722e-05 & 0.5 & 1e-10 & 1e-10 & 1 & 92 & 471\\\\\n",
       "\\end{tabular}\n"
      ],
      "text/markdown": [
       "\n",
       "A data.table: 6 × 12\n",
       "\n",
       "| gene &lt;chr&gt; | gene_name &lt;chr&gt; | zscore &lt;dbl&gt; | effect_size &lt;dbl&gt; | pvalue &lt;dbl&gt; | var_g &lt;dbl&gt; | pred_perf_r2 &lt;dbl&gt; | pred_perf_pval &lt;dbl&gt; | pred_perf_qval &lt;dbl&gt; | n_snps_used &lt;int&gt; | n_snps_in_cov &lt;int&gt; | n_snps_in_model &lt;int&gt; |\n",
       "|---|---|---|---|---|---|---|---|---|---|---|---|\n",
       "| ENSG00000107669.17 | ENSG00000107669.17 |  3.988616 |  3.2137893 | 6.645997e-05 | 1.783813e-04 | 0.5 | 1e-10 | 1e-10 | 1 | 80 | 689 |\n",
       "| ENSG00000085514.15 | ENSG00000085514.15 |  3.126168 |  0.5047672 | 1.771001e-03 | 4.394456e-03 | 0.5 | 1e-10 | 1e-10 | 1 | 31 | 507 |\n",
       "| ENSG00000138744.14 | ENSG00000138744.14 | -3.099267 | -0.7059943 | 1.939999e-03 | 2.359323e-03 | 0.5 | 1e-10 | 1e-10 | 1 | 82 | 581 |\n",
       "| ENSG00000047579.19 | ENSG00000047579.19 | -2.793630 | -2.6400653 | 5.212002e-03 | 1.938533e-04 | 0.5 | 1e-10 | 1e-10 | 1 | 12 | 642 |\n",
       "| ENSG00000104435.13 | ENSG00000104435.13 | -2.667359 | -9.4053557 | 7.644999e-03 | 1.186205e-05 | 0.5 | 1e-10 | 1e-10 | 1 | 60 | 562 |\n",
       "| ENSG00000139537.10 | ENSG00000139537.10 |  2.657939 |  3.2883842 | 7.862002e-03 | 9.131722e-05 | 0.5 | 1e-10 | 1e-10 | 1 | 92 | 471 |\n",
       "\n"
      ],
      "text/plain": [
       "  gene               gene_name          zscore    effect_size pvalue      \n",
       "1 ENSG00000107669.17 ENSG00000107669.17  3.988616  3.2137893  6.645997e-05\n",
       "2 ENSG00000085514.15 ENSG00000085514.15  3.126168  0.5047672  1.771001e-03\n",
       "3 ENSG00000138744.14 ENSG00000138744.14 -3.099267 -0.7059943  1.939999e-03\n",
       "4 ENSG00000047579.19 ENSG00000047579.19 -2.793630 -2.6400653  5.212002e-03\n",
       "5 ENSG00000104435.13 ENSG00000104435.13 -2.667359 -9.4053557  7.644999e-03\n",
       "6 ENSG00000139537.10 ENSG00000139537.10  2.657939  3.2883842  7.862002e-03\n",
       "  var_g        pred_perf_r2 pred_perf_pval pred_perf_qval n_snps_used\n",
       "1 1.783813e-04 0.5          1e-10          1e-10          1          \n",
       "2 4.394456e-03 0.5          1e-10          1e-10          1          \n",
       "3 2.359323e-03 0.5          1e-10          1e-10          1          \n",
       "4 1.938533e-04 0.5          1e-10          1e-10          1          \n",
       "5 1.186205e-05 0.5          1e-10          1e-10          1          \n",
       "6 9.131722e-05 0.5          1e-10          1e-10          1          \n",
       "  n_snps_in_cov n_snps_in_model\n",
       "1 80            689            \n",
       "2 31            507            \n",
       "3 82            581            \n",
       "4 12            642            \n",
       "5 60            562            \n",
       "6 92            471            "
      ]
     },
     "metadata": {},
     "output_type": "display_data"
    }
   ],
   "source": [
    "dim(res_list_cortex[[4]])\n",
    "head(res_list_cortex[[4]])"
   ]
  },
  {
   "cell_type": "code",
   "execution_count": 26,
   "metadata": {},
   "outputs": [],
   "source": [
    "sig_num <- function(df) {\n",
    "    n <- nrow(df)\n",
    "    sig <- df %>% \n",
    "        filter(pvalue < 0.05/n)\n",
    "    return(nrow(sig))\n",
    "}"
   ]
  },
  {
   "cell_type": "code",
   "execution_count": 28,
   "metadata": {},
   "outputs": [
    {
     "data": {
      "text/html": [
       "<style>\n",
       ".list-inline {list-style: none; margin:0; padding: 0}\n",
       ".list-inline>li {display: inline-block}\n",
       ".list-inline>li:not(:last-child)::after {content: \"\\00b7\"; padding: 0 .5ex}\n",
       "</style>\n",
       "<ol class=list-inline><li>9</li><li>17</li><li>0</li><li>1</li></ol>\n"
      ],
      "text/latex": [
       "\\begin{enumerate*}\n",
       "\\item 9\n",
       "\\item 17\n",
       "\\item 0\n",
       "\\item 1\n",
       "\\end{enumerate*}\n"
      ],
      "text/markdown": [
       "1. 9\n",
       "2. 17\n",
       "3. 0\n",
       "4. 1\n",
       "\n",
       "\n"
      ],
      "text/plain": [
       "[1]  9 17  0  1"
      ]
     },
     "metadata": {},
     "output_type": "display_data"
    }
   ],
   "source": [
    "as.numeric(lapply(res_list, sig_num))"
   ]
  },
  {
   "cell_type": "code",
   "execution_count": 29,
   "metadata": {},
   "outputs": [
    {
     "data": {
      "text/html": [
       "<style>\n",
       ".list-inline {list-style: none; margin:0; padding: 0}\n",
       ".list-inline>li {display: inline-block}\n",
       ".list-inline>li:not(:last-child)::after {content: \"\\00b7\"; padding: 0 .5ex}\n",
       "</style>\n",
       "<ol class=list-inline><li>14</li><li>21</li><li>0</li><li>0</li></ol>\n"
      ],
      "text/latex": [
       "\\begin{enumerate*}\n",
       "\\item 14\n",
       "\\item 21\n",
       "\\item 0\n",
       "\\item 0\n",
       "\\end{enumerate*}\n"
      ],
      "text/markdown": [
       "1. 14\n",
       "2. 21\n",
       "3. 0\n",
       "4. 0\n",
       "\n",
       "\n"
      ],
      "text/plain": [
       "[1] 14 21  0  0"
      ]
     },
     "metadata": {},
     "output_type": "display_data"
    }
   ],
   "source": [
    "as.numeric(lapply(res_list_cortex, sig_num))"
   ]
  },
  {
   "cell_type": "code",
   "execution_count": null,
   "metadata": {},
   "outputs": [],
   "source": []
  },
  {
   "cell_type": "code",
   "execution_count": 30,
   "metadata": {},
   "outputs": [],
   "source": [
    "tissue <- \"Brain_Anterior_cingulate_cortex_BA24\"\n",
    "res_file <- paste0(tissue, \".csv\")"
   ]
  },
  {
   "cell_type": "code",
   "execution_count": 31,
   "metadata": {},
   "outputs": [],
   "source": [
    "vec <- c(\"IGAP_NR\", \"IGAP_normalized_pruned\", \"IGAP_BVLS_ENET\", \"IGAP_ENET\")\n",
    "res_list <- list()\n",
    "for (name in vec) {\n",
    "    res_dir <- paste0(\"/ysm-gpfs/pi/zhao-data/zy92/update_utmost/\", name, \"/single/\", res_file)\n",
    "    res_list[[name]] <- fread(res_dir)\n",
    "}"
   ]
  },
  {
   "cell_type": "code",
   "execution_count": 32,
   "metadata": {},
   "outputs": [
    {
     "data": {
      "text/html": [
       "<style>\n",
       ".list-inline {list-style: none; margin:0; padding: 0}\n",
       ".list-inline>li {display: inline-block}\n",
       ".list-inline>li:not(:last-child)::after {content: \"\\00b7\"; padding: 0 .5ex}\n",
       "</style>\n",
       "<ol class=list-inline><li>11</li><li>18</li><li>0</li><li>0</li></ol>\n"
      ],
      "text/latex": [
       "\\begin{enumerate*}\n",
       "\\item 11\n",
       "\\item 18\n",
       "\\item 0\n",
       "\\item 0\n",
       "\\end{enumerate*}\n"
      ],
      "text/markdown": [
       "1. 11\n",
       "2. 18\n",
       "3. 0\n",
       "4. 0\n",
       "\n",
       "\n"
      ],
      "text/plain": [
       "[1] 11 18  0  0"
      ]
     },
     "metadata": {},
     "output_type": "display_data"
    }
   ],
   "source": [
    "as.numeric(lapply(res_list, sig_num))"
   ]
  },
  {
   "cell_type": "code",
   "execution_count": null,
   "metadata": {},
   "outputs": [],
   "source": []
  },
  {
   "cell_type": "code",
   "execution_count": 33,
   "metadata": {},
   "outputs": [],
   "source": [
    "tissue <- \"Brain_Caudate_basal_ganglia\"\n",
    "res_file <- paste0(tissue, \".csv\")"
   ]
  },
  {
   "cell_type": "code",
   "execution_count": 34,
   "metadata": {},
   "outputs": [],
   "source": [
    "vec <- c(\"IGAP_NR\", \"IGAP_normalized_pruned\", \"IGAP_BVLS_ENET\", \"IGAP_ENET\")\n",
    "res_list <- list()\n",
    "for (name in vec) {\n",
    "    res_dir <- paste0(\"/ysm-gpfs/pi/zhao-data/zy92/update_utmost/\", name, \"/single/\", res_file)\n",
    "    res_list[[name]] <- fread(res_dir)\n",
    "}"
   ]
  },
  {
   "cell_type": "code",
   "execution_count": 35,
   "metadata": {},
   "outputs": [
    {
     "data": {
      "text/html": [
       "<style>\n",
       ".list-inline {list-style: none; margin:0; padding: 0}\n",
       ".list-inline>li {display: inline-block}\n",
       ".list-inline>li:not(:last-child)::after {content: \"\\00b7\"; padding: 0 .5ex}\n",
       "</style>\n",
       "<ol class=list-inline><li>12</li><li>13</li><li>0</li><li>0</li></ol>\n"
      ],
      "text/latex": [
       "\\begin{enumerate*}\n",
       "\\item 12\n",
       "\\item 13\n",
       "\\item 0\n",
       "\\item 0\n",
       "\\end{enumerate*}\n"
      ],
      "text/markdown": [
       "1. 12\n",
       "2. 13\n",
       "3. 0\n",
       "4. 0\n",
       "\n",
       "\n"
      ],
      "text/plain": [
       "[1] 12 13  0  0"
      ]
     },
     "metadata": {},
     "output_type": "display_data"
    }
   ],
   "source": [
    "as.numeric(lapply(res_list, sig_num))"
   ]
  },
  {
   "cell_type": "code",
   "execution_count": null,
   "metadata": {},
   "outputs": [],
   "source": []
  },
  {
   "cell_type": "code",
   "execution_count": null,
   "metadata": {},
   "outputs": [],
   "source": []
  },
  {
   "cell_type": "code",
   "execution_count": 36,
   "metadata": {},
   "outputs": [],
   "source": [
    "tissue <- \"Brain_Frontal_Cortex_BA9\"\n",
    "res_file <- paste0(tissue, \".csv\")"
   ]
  },
  {
   "cell_type": "code",
   "execution_count": 37,
   "metadata": {},
   "outputs": [],
   "source": [
    "vec <- c(\"IGAP_NR\", \"IGAP_normalized_pruned\", \"IGAP_BVLS_ENET\", \"IGAP_ENET\")\n",
    "res_list <- list()\n",
    "for (name in vec) {\n",
    "    res_dir <- paste0(\"/ysm-gpfs/pi/zhao-data/zy92/update_utmost/\", name, \"/single/\", res_file)\n",
    "    res_list[[name]] <- fread(res_dir)\n",
    "}"
   ]
  },
  {
   "cell_type": "code",
   "execution_count": 38,
   "metadata": {},
   "outputs": [
    {
     "data": {
      "text/html": [
       "<style>\n",
       ".list-inline {list-style: none; margin:0; padding: 0}\n",
       ".list-inline>li {display: inline-block}\n",
       ".list-inline>li:not(:last-child)::after {content: \"\\00b7\"; padding: 0 .5ex}\n",
       "</style>\n",
       "<ol class=list-inline><li>15</li><li>19</li><li>0</li><li>0</li></ol>\n"
      ],
      "text/latex": [
       "\\begin{enumerate*}\n",
       "\\item 15\n",
       "\\item 19\n",
       "\\item 0\n",
       "\\item 0\n",
       "\\end{enumerate*}\n"
      ],
      "text/markdown": [
       "1. 15\n",
       "2. 19\n",
       "3. 0\n",
       "4. 0\n",
       "\n",
       "\n"
      ],
      "text/plain": [
       "[1] 15 19  0  0"
      ]
     },
     "metadata": {},
     "output_type": "display_data"
    }
   ],
   "source": [
    "as.numeric(lapply(res_list, sig_num))"
   ]
  },
  {
   "cell_type": "code",
   "execution_count": null,
   "metadata": {},
   "outputs": [],
   "source": []
  }
 ],
 "metadata": {
  "kernelspec": {
   "display_name": "R",
   "language": "R",
   "name": "ir"
  },
  "language_info": {
   "codemirror_mode": "r",
   "file_extension": ".r",
   "mimetype": "text/x-r-source",
   "name": "R",
   "pygments_lexer": "r",
   "version": "3.5.0"
  }
 },
 "nbformat": 4,
 "nbformat_minor": 4
}
