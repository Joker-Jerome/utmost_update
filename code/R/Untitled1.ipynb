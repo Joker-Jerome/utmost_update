{
 "cells": [
  {
   "cell_type": "code",
   "execution_count": 1,
   "metadata": {},
   "outputs": [],
   "source": [
    "# gene number across different chr "
   ]
  },
  {
   "cell_type": "code",
   "execution_count": 6,
   "metadata": {},
   "outputs": [],
   "source": [
    "gene_count = c()\n",
    "gtex_dir = \"/gpfs/loomis/project/zhao/zy92/GTEX/\" \n",
    "\n",
    "for (chr in 1:22) {\n",
    "    chr_str = paste0(\"chr\", chr, \"/\")\n",
    "    glist = dir(paste0(gtex_dir, \"adjusted_expr/chr\", chr))\n",
    "    gene_count = c(gene_count, length(glist))\n",
    "\n",
    "}"
   ]
  },
  {
   "cell_type": "code",
   "execution_count": 7,
   "metadata": {},
   "outputs": [
    {
     "data": {
      "text/html": [
       "<style>\n",
       ".list-inline {list-style: none; margin:0; padding: 0}\n",
       ".list-inline>li {display: inline-block}\n",
       ".list-inline>li:not(:last-child)::after {content: \"\\00b7\"; padding: 0 .5ex}\n",
       "</style>\n",
       "<ol class=list-inline><li>2584</li><li>1850</li><li>1443</li><li>1195</li><li>1380</li><li>1356</li><li>1187</li><li>1093</li><li>1035</li><li>1015</li><li>1587</li><li>1419</li><li>529</li><li>938</li><li>852</li><li>1158</li><li>1414</li><li>510</li><li>1675</li><li>713</li><li>377</li><li>565</li></ol>\n"
      ],
      "text/latex": [
       "\\begin{enumerate*}\n",
       "\\item 2584\n",
       "\\item 1850\n",
       "\\item 1443\n",
       "\\item 1195\n",
       "\\item 1380\n",
       "\\item 1356\n",
       "\\item 1187\n",
       "\\item 1093\n",
       "\\item 1035\n",
       "\\item 1015\n",
       "\\item 1587\n",
       "\\item 1419\n",
       "\\item 529\n",
       "\\item 938\n",
       "\\item 852\n",
       "\\item 1158\n",
       "\\item 1414\n",
       "\\item 510\n",
       "\\item 1675\n",
       "\\item 713\n",
       "\\item 377\n",
       "\\item 565\n",
       "\\end{enumerate*}\n"
      ],
      "text/markdown": [
       "1. 2584\n",
       "2. 1850\n",
       "3. 1443\n",
       "4. 1195\n",
       "5. 1380\n",
       "6. 1356\n",
       "7. 1187\n",
       "8. 1093\n",
       "9. 1035\n",
       "10. 1015\n",
       "11. 1587\n",
       "12. 1419\n",
       "13. 529\n",
       "14. 938\n",
       "15. 852\n",
       "16. 1158\n",
       "17. 1414\n",
       "18. 510\n",
       "19. 1675\n",
       "20. 713\n",
       "21. 377\n",
       "22. 565\n",
       "\n",
       "\n"
      ],
      "text/plain": [
       " [1] 2584 1850 1443 1195 1380 1356 1187 1093 1035 1015 1587 1419  529  938  852\n",
       "[16] 1158 1414  510 1675  713  377  565"
      ]
     },
     "metadata": {},
     "output_type": "display_data"
    }
   ],
   "source": [
    "gene_count"
   ]
  },
  {
   "cell_type": "code",
   "execution_count": 17,
   "metadata": {},
   "outputs": [],
   "source": [
    "fileConn <- (\"/ysm-gpfs/pi/zhao/zy92/projects/utmost_update/utmost_update/code/submit/training_task_test_1.txt\")\n",
    "for (i in 1:6) {\n",
    "    for (j in 1:gene_count[i]) {\n",
    "        write(paste0(\"Rscript --vanila /gpfs/project/zhao/zy92/utmost_update/utmost_update/code/R/model_training.R \", i, \" \", j), file = fileConn, append = T)\n",
    "        \n",
    "    }\n",
    "}\n"
   ]
  },
  {
   "cell_type": "code",
   "execution_count": 18,
   "metadata": {},
   "outputs": [],
   "source": [
    "fileConn <- (\"/ysm-gpfs/pi/zhao/zy92/projects/utmost_update/utmost_update/code/submit/training_task_test_2.txt\")\n",
    "for (i in 7:13) {\n",
    "    for (j in 1:gene_count[i]) {\n",
    "        write(paste0(\"Rscript --vanila /gpfs/project/zhao/zy92/utmost_update/utmost_update/code/R/model_training.R \", i, \" \", j), file = fileConn, append = T)\n",
    "        \n",
    "    }\n",
    "}"
   ]
  },
  {
   "cell_type": "code",
   "execution_count": 19,
   "metadata": {},
   "outputs": [],
   "source": [
    "fileConn <- (\"/ysm-gpfs/pi/zhao/zy92/projects/utmost_update/utmost_update/code/submit/training_task_test_3.txt\")\n",
    "for (i in 7:13) {\n",
    "    for (j in 1:gene_count[i]) {\n",
    "        write(paste0(\"Rscript --vanila /gpfs/project/zhao/zy92/utmost_update/utmost_update/code/R/model_training.R \", i, \" \", j), file = fileConn, append = T)\n",
    "        \n",
    "    }\n",
    "}"
   ]
  }
 ],
 "metadata": {
  "kernelspec": {
   "display_name": "R",
   "language": "R",
   "name": "ir"
  },
  "language_info": {
   "codemirror_mode": "r",
   "file_extension": ".r",
   "mimetype": "text/x-r-source",
   "name": "R",
   "pygments_lexer": "r",
   "version": "3.5.0"
  }
 },
 "nbformat": 4,
 "nbformat_minor": 4
}
