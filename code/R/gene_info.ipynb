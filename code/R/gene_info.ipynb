{
 "cells": [
  {
   "cell_type": "code",
   "execution_count": 1,
   "metadata": {},
   "outputs": [
    {
     "data": {
      "text/html": [
       "'gene_info_target'"
      ],
      "text/latex": [
       "'gene\\_info\\_target'"
      ],
      "text/markdown": [
       "'gene_info_target'"
      ],
      "text/plain": [
       "[1] \"gene_info_target\""
      ]
     },
     "metadata": {},
     "output_type": "display_data"
    }
   ],
   "source": [
    "ln <- load(\"/ysm-gpfs/pi/zhao/zy92/projects/utmost_update/GTEX/gene_info_target.RData\")\n",
    "ln"
   ]
  },
  {
   "cell_type": "code",
   "execution_count": 2,
   "metadata": {},
   "outputs": [
    {
     "data": {
      "text/html": [
       "<table>\n",
       "<caption>A data.frame: 6 × 4</caption>\n",
       "<thead>\n",
       "\t<tr><th scope=col>ensembl_gene_id</th><th scope=col>hgnc_symbol</th><th scope=col>chromosome_name</th><th scope=col>transcript_biotype</th></tr>\n",
       "\t<tr><th scope=col>&lt;chr&gt;</th><th scope=col>&lt;chr&gt;</th><th scope=col>&lt;chr&gt;</th><th scope=col>&lt;chr&gt;</th></tr>\n",
       "</thead>\n",
       "<tbody>\n",
       "\t<tr><td>ENSG00000228229</td><td>     </td><td>1</td><td>lincRNA       </td></tr>\n",
       "\t<tr><td>ENSG00000237445</td><td>     </td><td>1</td><td>lincRNA       </td></tr>\n",
       "\t<tr><td>ENSG00000231606</td><td>     </td><td>1</td><td>lincRNA       </td></tr>\n",
       "\t<tr><td>ENSG00000234593</td><td>     </td><td>1</td><td>lincRNA       </td></tr>\n",
       "\t<tr><td>ENSG00000228140</td><td>     </td><td>1</td><td>lincRNA       </td></tr>\n",
       "\t<tr><td>ENSG00000186092</td><td>OR4F5</td><td>1</td><td>protein_coding</td></tr>\n",
       "</tbody>\n",
       "</table>\n"
      ],
      "text/latex": [
       "A data.frame: 6 × 4\n",
       "\\begin{tabular}{r|llll}\n",
       " ensembl\\_gene\\_id & hgnc\\_symbol & chromosome\\_name & transcript\\_biotype\\\\\n",
       " <chr> & <chr> & <chr> & <chr>\\\\\n",
       "\\hline\n",
       "\t ENSG00000228229 &       & 1 & lincRNA       \\\\\n",
       "\t ENSG00000237445 &       & 1 & lincRNA       \\\\\n",
       "\t ENSG00000231606 &       & 1 & lincRNA       \\\\\n",
       "\t ENSG00000234593 &       & 1 & lincRNA       \\\\\n",
       "\t ENSG00000228140 &       & 1 & lincRNA       \\\\\n",
       "\t ENSG00000186092 & OR4F5 & 1 & protein\\_coding\\\\\n",
       "\\end{tabular}\n"
      ],
      "text/markdown": [
       "\n",
       "A data.frame: 6 × 4\n",
       "\n",
       "| ensembl_gene_id &lt;chr&gt; | hgnc_symbol &lt;chr&gt; | chromosome_name &lt;chr&gt; | transcript_biotype &lt;chr&gt; |\n",
       "|---|---|---|---|\n",
       "| ENSG00000228229 | <!----> | 1 | lincRNA        |\n",
       "| ENSG00000237445 | <!----> | 1 | lincRNA        |\n",
       "| ENSG00000231606 | <!----> | 1 | lincRNA        |\n",
       "| ENSG00000234593 | <!----> | 1 | lincRNA        |\n",
       "| ENSG00000228140 | <!----> | 1 | lincRNA        |\n",
       "| ENSG00000186092 | OR4F5 | 1 | protein_coding |\n",
       "\n"
      ],
      "text/plain": [
       "  ensembl_gene_id hgnc_symbol chromosome_name transcript_biotype\n",
       "1 ENSG00000228229             1               lincRNA           \n",
       "2 ENSG00000237445             1               lincRNA           \n",
       "3 ENSG00000231606             1               lincRNA           \n",
       "4 ENSG00000234593             1               lincRNA           \n",
       "5 ENSG00000228140             1               lincRNA           \n",
       "6 ENSG00000186092 OR4F5       1               protein_coding    "
      ]
     },
     "metadata": {},
     "output_type": "display_data"
    }
   ],
   "source": [
    "head(gene_info_target)"
   ]
  },
  {
   "cell_type": "code",
   "execution_count": 3,
   "metadata": {},
   "outputs": [
    {
     "data": {
      "text/html": [
       "27093"
      ],
      "text/latex": [
       "27093"
      ],
      "text/markdown": [
       "27093"
      ],
      "text/plain": [
       "[1] 27093"
      ]
     },
     "metadata": {},
     "output_type": "display_data"
    }
   ],
   "source": [
    "length(unique(gene_info_target$ensembl_gene_id))"
   ]
  },
  {
   "cell_type": "code",
   "execution_count": 4,
   "metadata": {},
   "outputs": [
    {
     "data": {
      "text/html": [
       "<ol class=list-inline>\n",
       "\t<li>27208</li>\n",
       "\t<li>4</li>\n",
       "</ol>\n"
      ],
      "text/latex": [
       "\\begin{enumerate*}\n",
       "\\item 27208\n",
       "\\item 4\n",
       "\\end{enumerate*}\n"
      ],
      "text/markdown": [
       "1. 27208\n",
       "2. 4\n",
       "\n",
       "\n"
      ],
      "text/plain": [
       "[1] 27208     4"
      ]
     },
     "metadata": {},
     "output_type": "display_data"
    }
   ],
   "source": [
    "dim(gene_info_target)"
   ]
  },
  {
   "cell_type": "code",
   "execution_count": 5,
   "metadata": {},
   "outputs": [
    {
     "data": {
      "text/plain": [
       "\n",
       "                  1                  10                  11                  12 \n",
       "               2595                1015                1591                1419 \n",
       "                 13                  14                  15                  16 \n",
       "                530                 939                 868                1163 \n",
       "                 17                  18                  19                   2 \n",
       "               1427                 511                1678                1856 \n",
       "                 20                  21                  22                   3 \n",
       "                715                 378                 565                1444 \n",
       "                  4                   5                   6                   7 \n",
       "               1197                1383                1356                1193 \n",
       "                  8                   9        HG1032_PATCH   HG104_HG975_PATCH \n",
       "               1101                1041                   1                   1 \n",
       " HG1082_HG167_PATCH        HG1211_PATCH        HG1257_PATCH        HG1287_PATCH \n",
       "                  1                  13                   2                  29 \n",
       "       HG1292_PATCH        HG1293_PATCH        HG1308_PATCH  HG1350_HG959_PATCH \n",
       "                  5                   4                   1                   1 \n",
       "         HG14_PATCH        HG1433_PATCH HG1436_HG1432_PATCH        HG1438_PATCH \n",
       "                  1                   2                   3                   2 \n",
       "       HG1440_PATCH        HG1441_PATCH HG1443_HG1444_PATCH        HG1458_PATCH \n",
       "                  3                   2                   5                   1 \n",
       "       HG1459_PATCH        HG1463_PATCH        HG1486_PATCH        HG1497_PATCH \n",
       "                  3                   1                   1                  10 \n",
       "       HG1592_PATCH   HG174_HG254_PATCH         HG183_PATCH         HG185_PATCH \n",
       "                  2                   1                   2                   1 \n",
       "        HG186_PATCH         HG237_PATCH         HG243_PATCH         HG256_PATCH \n",
       "                  1                   1                   4                   1 \n",
       "        HG271_PATCH         HG305_PATCH         HG357_PATCH         HG375_PATCH \n",
       "                  1                   1                   1                   1 \n",
       "        HG385_PATCH         HG417_PATCH         HG444_PATCH         HG536_PATCH \n",
       "                  9                   1                   2                   2 \n",
       "        HG544_PATCH         HG686_PATCH         HG748_PATCH          HG75_PATCH \n",
       "                  1                   1                   1                   1 \n",
       "        HG905_PATCH         HG957_PATCH         HG987_PATCH       HG998_1_PATCH \n",
       "                  2                   1                   1                   1 \n",
       "      HG998_2_PATCH       HG999_1_PATCH     HSCHR6_MHC_MANN                  MT \n",
       "                  1                   1                   1                  13 \n",
       "                  X                   Y \n",
       "                999                  96 "
      ]
     },
     "metadata": {},
     "output_type": "display_data"
    }
   ],
   "source": [
    "table(gene_info_target$chromosome_name)"
   ]
  },
  {
   "cell_type": "code",
   "execution_count": null,
   "metadata": {},
   "outputs": [],
   "source": [
    "gene_info_target %>% filter(chr)"
   ]
  }
 ],
 "metadata": {
  "kernelspec": {
   "display_name": "R",
   "language": "R",
   "name": "ir"
  },
  "language_info": {
   "codemirror_mode": "r",
   "file_extension": ".r",
   "mimetype": "text/x-r-source",
   "name": "R",
   "pygments_lexer": "r",
   "version": "3.5.0"
  }
 },
 "nbformat": 4,
 "nbformat_minor": 4
}
