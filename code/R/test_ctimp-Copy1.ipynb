{
 "cells": [
  {
   "cell_type": "markdown",
   "metadata": {},
   "source": [
    "### Reading dosage and info"
   ]
  },
  {
   "cell_type": "code",
   "execution_count": null,
   "metadata": {},
   "outputs": [],
   "source": []
  },
  {
   "cell_type": "code",
   "execution_count": null,
   "metadata": {},
   "outputs": [],
   "source": []
  },
  {
   "cell_type": "code",
   "execution_count": null,
   "metadata": {},
   "outputs": [],
   "source": [
    "\n"
   ]
  },
  {
   "cell_type": "code",
   "execution_count": null,
   "metadata": {},
   "outputs": [],
   "source": []
  },
  {
   "cell_type": "markdown",
   "metadata": {},
   "source": [
    "### glasso test"
   ]
  },
  {
   "cell_type": "code",
   "execution_count": 1,
   "metadata": {},
   "outputs": [],
   "source": [
    "# functions\n",
    "grad_prep <- function(X, Y){\n",
    "\t## pre-calculate some metrics for gradient\n",
    "\tll = length(Y)\n",
    "\tP = ncol(X[[1]])\n",
    "\tXY = matrix(0,P,ll)\n",
    "\tfor(i in 1:ll){\n",
    "\t\tXY[,i] = t(X[[i]])%*%Y[[i]]/nrow(X[[i]])\n",
    "\t}\n",
    "\tXY\n",
    "}\n",
    "\n",
    "cv_helper <- function(N, fold){\n",
    "\tvalid_num = floor(N/fold)\n",
    "\tset.seed(123)\n",
    "\tperm = sample(1:N, size = N)\n",
    "\tidx1 = seq(1,N,valid_num)\n",
    "\tidx2 = c(idx1[-1]-1,N)\n",
    "\tlist(perm=perm, idx=cbind(idx1,idx2))\n",
    "}\n",
    "\n",
    "minmax_lambda <- function(lst){\n",
    "\tmax_lam = max(unlist(lapply(lst, function(x){max(x$lambda)})))\n",
    "\tmin_lam = min(unlist(lapply(lst, function(x){min(x$lambda)})))\n",
    "\tc(min_lam, max_lam)\n",
    "}\n",
    "\n",
    "elastic_net_mse <- function(lst, X_tune, Y_tune, X_test, Y_test){\n",
    "\tP = length(lst)\n",
    "\tM = ncol(X_tune[[1]])\n",
    "\tlam_V = rep(0, P)\n",
    "\ttest_res = list()\n",
    "\ttest_beta = matrix(0, M, P)\n",
    "\tfor(t in 1:P){\n",
    "\t\tncv = length(lst[[t]]$lambda)\n",
    "\t\ttmp_mse = rep(0, ncv)\n",
    "\t\tfor(k in 1:ncv){\n",
    "\t\t\ttmp_mse[k] = mean((Y_tune[[t]] - X_tune[[t]]%*%lst[[t]]$glmnet.fit$beta[,k])^2)\n",
    "\t\t}\n",
    "\t\tss = which.min(tmp_mse)\n",
    "\t\ttest_beta[,t] = lst[[t]]$glmnet.fit$beta[,ss]\n",
    "\t\tlam_V[t] = lst[[t]]$lambda[ss]\n",
    "\t\tpredicted = X_test[[t]]%*%lst[[t]]$glmnet.fit$beta[,ss]\n",
    "\t\ttest_res[[t]] = cbind(Y_test[[t]], predicted)\n",
    "\t}\n",
    "\tlist(lam = lam_V, mse = test_res, est = test_beta)\n",
    "}\n",
    "\n",
    "multi_mse <- function(theta_est, X_test, Y_test){\n",
    "\tanswer = list()\n",
    "\tP = ncol(theta_est)\n",
    "\tfor(t in 1:P){\n",
    "\t\tpredicted = X_test[[t]]%*%theta_est[,t]\n",
    "\t\tanswer[[t]] = cbind(Y_test[[t]], predicted)\n",
    "\t}\n",
    "\tanswer\n",
    "}\n",
    "\n",
    "avg_perm <- function(mse_lst){\n",
    "\tfd = length(mse_lst)\n",
    "\tP = length(mse_lst[[1]])\n",
    "\trsq = mse = adj_mse = matrix(0, fd, P)\n",
    "\tfor(f in 1:fd){\n",
    "\t\tfor(t in 1:P){\n",
    "\t\t\trsq[f,t] = (cor(mse_lst[[f]][[t]])[1,2])^2\n",
    "\t\t\tmse[f,t] = mean((mse_lst[[f]][[t]][,1]-mse_lst[[f]][[t]][,2])^2)\n",
    "\t\t\tadj_mse[f,t] = mse[f,t]/var(mse_lst[[f]][[t]][,1])\n",
    "\t\t}\n",
    "\t}\n",
    "\tcbind(apply(rsq, 2, mean), apply(mse, 2, mean), apply(adj_mse, 2, mean))\n",
    "\n",
    "\t#list(rsq = apply(rsq, 2, mean), mse = apply(mse, 2, mean), adj_mse = apply(adj_mse, 2, mean))\n",
    "}\n",
    "\n",
    "glasso <- function(X, Y, X1, Y1, XX, XY, Xnorm, lambda1, lambda2, theta, stepsize = 1e-4, maxiter = 250, eps = 1e-4){\n",
    "\tbgt = Sys.time()\n",
    "\tM = nrow(XY)\n",
    "\tP = length(X)\n",
    "\tNN = unlist(lapply(X, nrow))\n",
    "\told_objV1 = 0\n",
    "\tfor(t in 1:P){\n",
    "\t\told_objV1 = old_objV1 + 1/2*mean((Y[[t]]-X[[t]]%*%theta[,t])^2)\n",
    "\t}\n",
    "\tIRdisplay::display_html(paste0(\"Training error: \", old_objV1, '\\n'))\n",
    "\told_objV2 = 0\n",
    "\tfor(t in 1:P){\n",
    "\t\told_objV2 = old_objV2 + 1/2*mean((Y1[[t]]-X1[[t]]%*%theta[,t])^2)\n",
    "\t}\n",
    "\tIRdisplay::display_html(paste0(\"Testing error: \", old_objV2, '\\n'))\n",
    "\tbeta_j_lasso = rep(0, P)\n",
    "\ttmp_XYj = 0\n",
    "\tif(!is.loaded(\"wrapper\")){\n",
    "\t\tdyn.load(\"/ysm-gpfs/pi/zhao/from_louise/yh367/GTEX/codes/glasso.so\")\n",
    "\t}\n",
    "    \n",
    "\tfor(i in 1:maxiter){\n",
    "\t\tbgt = Sys.time()\n",
    "\t\tres = .Call(\"wrapper\", XX, XY, theta, M, P, beta_j_lasso, lambda1, lambda2, Xnorm)\n",
    "\t\tedt = Sys.time()\n",
    "\t\t#print(edt-bgt)\n",
    "\t\tnew_objV1 = new_objV2 = 0\n",
    "\t\tfor(t in 1:P){\n",
    "\t\t\tnew_objV1 = new_objV1 + 1/2*mean((Y[[t]]-X[[t]]%*%theta[,t])^2)\n",
    "            IRdisplay::display_html(sum(is.na(X[[t]])))\n",
    "            IRdisplay::display_html(sum(is.na(Y[[t]])))\n",
    "\t\t}\n",
    "\t\tIRdisplay::display_html(paste0(\"Training error: \", new_objV1, '\\n'))\n",
    "\t\tfor(t in 1:P){\n",
    "\t\t\tnew_objV2 = new_objV2 + 1/2*mean((Y1[[t]]-X1[[t]]%*%theta[,t])^2)\n",
    "            IRdisplay::display_html(sum(is.na(X[[t]])))\n",
    "            IRdisplay::display_html(sum(is.na(Y[[t]])))\n",
    "\t\t}\n",
    "\t\tIRdisplay::display_html(paste0(\"Testing error: \", new_objV2, '\\n'))\n",
    "\t\tif(new_objV2 > old_objV2|new_objV1 > old_objV1){\n",
    "\t\t\tbreak\n",
    "\t\t}else{\n",
    "\t\t\told_objV2 = new_objV2\n",
    "\t\t}\n",
    "\t\tif(abs(new_objV1-old_objV1) < eps){\n",
    "\t\t\tbreak\n",
    "\t\t}else{\n",
    "\t\t\told_objV1 = new_objV1\n",
    "\t\t}\n",
    "\t}\n",
    "\t#edt = Sys.time()\n",
    "\t#print(edt-bgt)\n",
    "\tlist(est = theta, tune_err = new_objV2)\n",
    "}\n",
    "\n",
    "glasso_no_early_stopping <- function(X, Y, XX, XY, Xnorm, lambda1, lambda2, theta, stepsize = 1e-4, maxiter = 250, eps = 1e-3){\n",
    "\tM = nrow(XY)\n",
    "\tP = length(X)\n",
    "\tNN = unlist(lapply(X, nrow))\n",
    "\told_objV1 = 0\n",
    "\tfor(t in 1:P){\n",
    "\t\told_objV1 = old_objV1 + 1/2*mean((Y[[t]]-X[[t]]%*%theta[,t])^2)\n",
    "\t}\n",
    "\tIRdisplay::display_html(paste0(\"Training error: \", old_objV1, '\\n'))\n",
    "\tbeta_j_lasso = rep(0, P)\n",
    "\ttmp_XYj = 0\n",
    "\tif(!is.loaded(\"wrapper\")){\n",
    "\t\tdyn.load(\"/ysm-gpfs/pi/zhao/from_louise/yh367/GTEX/codes/glasso.so\")\n",
    "\t}\n",
    "\tfor(i in 1:maxiter){\n",
    "\t\tres = .Call(\"wrapper\", XX, XY, theta, M, P, beta_j_lasso, lambda1, lambda2, Xnorm)\n",
    "\t\tnew_objV1 = 0\n",
    "\t\tfor(t in 1:P){\n",
    "\t\t\tnew_objV1 = new_objV1 + 1/2*mean((Y[[t]]-X[[t]]%*%theta[,t])^2)\n",
    "\t\t}\n",
    "\t\tIRdisplay::display_html(paste0(\"Training error: \", new_objV1, '\\n'))\n",
    "\t\tif(abs(new_objV1-old_objV1) < eps|new_objV1 > old_objV1){\n",
    "\t\t\tbreak\n",
    "\t\t}else{\n",
    "\t\t\told_objV1 = new_objV1\n",
    "\t\t}\n",
    "\t}\n",
    "\tlist(est = theta, train_err = new_objV1)\n",
    "}\n",
    "\n",
    "extract_genotype <- function(gene_idx, chr_str, genotype_dir, gene_vec) {\n",
    "    gene_dir <- paste0(genotype_dir, chr_str, gene_vec[gene_idx], \"/\", gene_vec[gene_idx])\n",
    "    genotype_info <- read_plink(gene_dir)\n",
    "    \n",
    "    print(paste0(\"INFO: genotype matrix dimension:\", dim(genotype_info$X)[1], \" * \", dim(genotype_info$X)[2]))\n",
    "    return(genotype_info)\n",
    "}\n",
    "\n"
   ]
  },
  {
   "cell_type": "code",
   "execution_count": 2,
   "metadata": {},
   "outputs": [
    {
     "name": "stderr",
     "output_type": "stream",
     "text": [
      "Loading required package: Matrix\n",
      "\n",
      "Loading required package: foreach\n",
      "\n",
      "Loaded glmnet 2.0-13\n",
      "\n",
      "\n"
     ]
    }
   ],
   "source": [
    "### command line input ###\n",
    "# chr = as.numeric(args[1])\n",
    "# k = as.numeric(args[2])\n",
    "# gene_id = args[3]\n",
    "### data import ###\n",
    "options(stringsAsFactors=F)\n",
    "library(glmnet)\n",
    "library(foreach)\n",
    "library(genio)\n",
    "ntune = 100\n",
    "\n",
    "genotype_dir <- \"/ysm-gpfs/project/wl382/GTEx_v8/genotype/cis_loc/\"\n",
    "chr <- 1\n",
    "gene_idx <- 5\n",
    "chr_str <- paste0(\"chr\", chr, \"/\")\n",
    "gene_vec <- list.files(paste0(genotype_dir, chr_str))\n",
    "gene_id = gene_vec[gene_idx]\n",
    "gtex_dir = \"/gpfs/loomis/project/zhao/zy92/GTEX/\" \n",
    "glist = dir(paste0(gtex_dir, \"adjusted_expr/chr\", chr))\n",
    "g = glist[gene_idx]\n",
    "\n",
    "### format for dose and info\n",
    "# dose:\n",
    "# GTEX-P4PP-0004-SM-2H2WW->GTEX-P4PP-0004-SM-2H2WW        DOSE    0.000   0.014   0.000   0.000   0.000\n",
    "# info:\n",
    "# SNP     REF(0)  ALT(1)  ALT_Frq MAF     AvgCall Rsq     Genotyped       LooRsq  EmpR    EmpRsq  Dose0   Dose1\n",
    "# 1_157695412_G_A_b37     G       A       -               -       -       Typed_Only      -       -\n",
    "#       -       -       -\n",
    "\n",
    "dose_path = paste0(genotype_dir, chr_str, gene_id, \"/\", gene_id)\n",
    "#info_path = paste0(gtex_dir, \"cis_snp/chr\", chr, \"/\", g, \"/\", g, \".mach.info\")\n",
    "Yt = dir(paste0(gtex_dir, \"adjusted_expr/\", chr_str, g, \"/\"))\n",
    "P = length(Yt)\n",
    "\n",
    "output_dir = \"/gpfs/loomis/project/zhao/zy92/GTEX/output/\" "
   ]
  },
  {
   "cell_type": "code",
   "execution_count": 3,
   "metadata": {},
   "outputs": [
    {
     "data": {
      "text/html": [
       "'/gpfs/loomis/project/zhao/zy92/GTEX/adjusted_expr/chr1/ENSG00000001460/'"
      ],
      "text/latex": [
       "'/gpfs/loomis/project/zhao/zy92/GTEX/adjusted\\_expr/chr1/ENSG00000001460/'"
      ],
      "text/markdown": [
       "'/gpfs/loomis/project/zhao/zy92/GTEX/adjusted_expr/chr1/ENSG00000001460/'"
      ],
      "text/plain": [
       "[1] \"/gpfs/loomis/project/zhao/zy92/GTEX/adjusted_expr/chr1/ENSG00000001460/\""
      ]
     },
     "metadata": {},
     "output_type": "display_data"
    },
    {
     "data": {
      "text/html": [
       "49"
      ],
      "text/latex": [
       "49"
      ],
      "text/markdown": [
       "49"
      ],
      "text/plain": [
       "[1] 49"
      ]
     },
     "metadata": {},
     "output_type": "display_data"
    }
   ],
   "source": [
    "paste0(gtex_dir, \"adjusted_expr/\", chr_str, g, \"/\")\n",
    "length(dir(paste0(gtex_dir, \"adjusted_expr/\", chr_str, g, \"/\")))"
   ]
  },
  {
   "cell_type": "code",
   "execution_count": 4,
   "metadata": {},
   "outputs": [],
   "source": [
    "fold = 5\n",
    "cv_config = cv_helper(450, fold)\n",
    "#cv_config"
   ]
  },
  {
   "cell_type": "code",
   "execution_count": 5,
   "metadata": {},
   "outputs": [
    {
     "data": {
      "text/html": [
       "'/gpfs/loomis/project/zhao/zy92/GTEX/output/'"
      ],
      "text/latex": [
       "'/gpfs/loomis/project/zhao/zy92/GTEX/output/'"
      ],
      "text/markdown": [
       "'/gpfs/loomis/project/zhao/zy92/GTEX/output/'"
      ],
      "text/plain": [
       "[1] \"/gpfs/loomis/project/zhao/zy92/GTEX/output/\""
      ]
     },
     "metadata": {},
     "output_type": "display_data"
    }
   ],
   "source": [
    "output_dir = \"/gpfs/loomis/project/zhao/zy92/GTEX/output/\" \n",
    "output_dir"
   ]
  },
  {
   "cell_type": "code",
   "execution_count": 6,
   "metadata": {},
   "outputs": [],
   "source": [
    "# create dirs\n",
    "dir.create(paste0(output_dir, \"chr\", chr), showWarnings = FALSE)\n",
    "dir.create(paste0(output_dir, \"chr\", chr, \"/\", gene_id), showWarnings = FALSE)\n",
    "setwd(paste0(output_dir, \"chr\", chr, \"/\", gene_id))\n",
    "\n",
    "# expr files #\n",
    "Y = list()\n",
    "for(t in 1:P){\n",
    "    Y[[t]] = read.table(paste0(gtex_dir, \"adjusted_expr/chr\", chr, \"/\", g, \"/\", Yt[t]), header=F)\n",
    "}\n",
    "ssize = unlist(lapply(Y, nrow))\n",
    "T_num = length(Yt)"
   ]
  },
  {
   "cell_type": "code",
   "execution_count": null,
   "metadata": {},
   "outputs": [],
   "source": []
  },
  {
   "cell_type": "code",
   "execution_count": null,
   "metadata": {},
   "outputs": [],
   "source": []
  },
  {
   "cell_type": "code",
   "execution_count": 7,
   "metadata": {},
   "outputs": [
    {
     "name": "stderr",
     "output_type": "stream",
     "text": [
      "Reading: /ysm-gpfs/project/wl382/GTEx_v8/genotype/cis_loc/chr1/ENSG00000001460.17/ENSG00000001460.17.bim\n",
      "\n",
      "Reading: /ysm-gpfs/project/wl382/GTEx_v8/genotype/cis_loc/chr1/ENSG00000001460.17/ENSG00000001460.17.fam\n",
      "\n",
      "Reading: /ysm-gpfs/project/wl382/GTEx_v8/genotype/cis_loc/chr1/ENSG00000001460.17/ENSG00000001460.17.bed\n",
      "\n"
     ]
    },
    {
     "name": "stdout",
     "output_type": "stream",
     "text": [
      "[1] \"INFO: section A\"\n"
     ]
    }
   ],
   "source": [
    "## genotype files ##\n",
    "\t\n",
    "genotype_info <- read_plink(dose_path)\n",
    "dose = genotype_info$X\n",
    "dose_std = dose\n",
    "for(j in 1:nrow(dose)){\n",
    "    dose_std[j, is.na(dose[j, ])] <- mean(dose[j, ], na.rm = T)\n",
    "    dose_std[j, ] <- dose_std[j, ] - mean(dose[j, ], na.rm = T)\n",
    "}\n",
    "print(\"INFO: section A\")\n",
    "## covariance matrix ##\n",
    "n_sample = ncol(dose_std)\n",
    "tmp = as.matrix(dose_std)\n",
    "XX = t(tmp)%*%as.matrix(tmp)/n_sample\n",
    "Xnorm = diag(XX)\n",
    "remove(tmp)\n",
    "remove(XX)\n",
    "sub_id = colnames(dose_std)\n",
    "M = nrow(dose_std)\n",
    "sub_id_map = list()\n",
    "sub_id_map_exp = list()\n",
    "for(t in 1:T_num){\n",
    "#for(t in 1:1){\n",
    "    #tmp = rep(0, nrow(Y[[t]]))\n",
    "    exp_id <- as.character(sapply(Y[[t]][,1], function(x) substr(x, 1, 10)))\n",
    "    #print(head(exp_id))\n",
    "    # index of ids that have matched genotypes \n",
    "    # exp_id based on order of exp_id\n",
    "    match_id <- match(exp_id, sub_id)\n",
    "    sub_id_map[[t]] <- na.omit(match_id)\n",
    "    sub_id_map_exp[[t]] <- !is.na(match_id)  \n",
    "    #print(length(sub_id_map[[t]]))\n",
    "    #print(sum(sub_id_map_exp[[t]]))\n",
    "    #for(j in 1:length(tmp)){\n",
    "        # extract the id starting GTEX-xxxxx\n",
    "\n",
    "        #tmp[j] = which(sub_id==exp_id)\n",
    "    #}\n",
    "    #sub_id_map[[t]] = tmp\n",
    "}"
   ]
  },
  {
   "cell_type": "code",
   "execution_count": 8,
   "metadata": {},
   "outputs": [
    {
     "name": "stdout",
     "output_type": "stream",
     "text": [
      "[1] \"INFO: section B\"\n"
     ]
    }
   ],
   "source": [
    "fold = 5\n",
    "print(\"INFO: section B\")\n",
    "cv_config = cv_helper(n_sample, fold)\n",
    "cv_perm = cv_config$perm\n",
    "cv_idx = cv_config$idx\n",
    "\n",
    "single_res_test = list()\n",
    "single_lam = matrix(0,5,P)\n",
    "single_theta_est = list()\n",
    "\n",
    "multi_res_test = list()\n",
    "multi_lam = rep(0,5)\n",
    "multi_theta_est = list()"
   ]
  },
  {
   "cell_type": "code",
   "execution_count": null,
   "metadata": {},
   "outputs": [
    {
     "data": {
      "text/html": [
       "INFO: fold 1"
      ]
     },
     "metadata": {},
     "output_type": "display_data"
    },
    {
     "data": {
      "text/html": [
       "INFO: glmnet cv tissue1"
      ]
     },
     "metadata": {},
     "output_type": "display_data"
    },
    {
     "data": {
      "text/html": [
       "INFO: glmnet cv tissue2"
      ]
     },
     "metadata": {},
     "output_type": "display_data"
    },
    {
     "data": {
      "text/html": [
       "INFO: glmnet cv tissue3"
      ]
     },
     "metadata": {},
     "output_type": "display_data"
    },
    {
     "data": {
      "text/html": [
       "INFO: glmnet cv tissue4"
      ]
     },
     "metadata": {},
     "output_type": "display_data"
    },
    {
     "data": {
      "text/html": [
       "INFO: glmnet cv tissue5"
      ]
     },
     "metadata": {},
     "output_type": "display_data"
    },
    {
     "data": {
      "text/html": [
       "INFO: glmnet cv tissue6"
      ]
     },
     "metadata": {},
     "output_type": "display_data"
    },
    {
     "data": {
      "text/html": [
       "INFO: glmnet cv tissue7"
      ]
     },
     "metadata": {},
     "output_type": "display_data"
    },
    {
     "data": {
      "text/html": [
       "INFO: glmnet cv tissue8"
      ]
     },
     "metadata": {},
     "output_type": "display_data"
    },
    {
     "data": {
      "text/html": [
       "INFO: glmnet cv tissue9"
      ]
     },
     "metadata": {},
     "output_type": "display_data"
    },
    {
     "data": {
      "text/html": [
       "INFO: glmnet cv tissue10"
      ]
     },
     "metadata": {},
     "output_type": "display_data"
    }
   ],
   "source": [
    "#for(f in 1:fold){\n",
    "for(f in 1:1){\n",
    "    # one fold \n",
    "    bgt = Sys.time()\n",
    "    IRdisplay::display_html(paste0(\"INFO: fold \", f))\n",
    "    test_index = cv_perm[cv_idx[f,1]:cv_idx[f,2]]\n",
    "    test_id = sub_id[test_index]\n",
    "\n",
    "    # move the tuning idx to another idx block\n",
    "    tuning_index = cv_perm[cv_idx[f%%fold+1,1]:cv_idx[f%%fold+1,2]]\n",
    "    tuning_id = sub_id[tuning_index]\n",
    "\n",
    "    # idx list\n",
    "    X_test = list()\n",
    "    Y_test = list()\n",
    "    X_tune = list()\n",
    "    Y_tune = list()\n",
    "    X_train = list()\n",
    "    Y_train = list()\n",
    "    for(t in 1:T_num){\n",
    "        # idx matching  \n",
    "        id_filter = !(sub_id_map[[t]]%in%c(test_index,tuning_index))\n",
    "        X_train_tmp = sub_id_map[[t]][id_filter]\n",
    "        Y_train_tmp = which(sub_id_map_exp[[t]] == T)[id_filter]\n",
    "        tuning_id_filter = sub_id_map[[t]]%in%tuning_index\n",
    "        X_tuning_tmp = sub_id_map[[t]][tuning_id_filter]\n",
    "        Y_tuning_tmp = which(sub_id_map_exp[[t]] == T)[tuning_id_filter]\n",
    "        testing_id_filter = sub_id_map[[t]]%in%test_index\n",
    "        X_test_tmp = sub_id_map[[t]][testing_id_filter]\n",
    "        Y_test_tmp = which(sub_id_map_exp[[t]] == T)[testing_id_filter]\n",
    "        # training data\n",
    "        X_train[[t]] = apply(as.matrix(dose_std[,X_train_tmp]),1,as.numeric)\n",
    "        Y_train[[t]] = Y[[t]][Y_train_tmp, 2]\n",
    "        X_tune[[t]] = apply(as.matrix(dose_std[,X_tuning_tmp]),1,as.numeric)\n",
    "        Y_tune[[t]] = Y[[t]][Y_tuning_tmp, 2]\n",
    "        X_test[[t]] = apply(as.matrix(dose_std[,X_test_tmp]),1,as.numeric)\n",
    "        Y_test[[t]] = Y[[t]][Y_test_tmp, 2]\n",
    "        #IRdisplay::display_html(length(X_train_tmp))\n",
    "        #IRdisplay::display_html(length(Y_train_tmp))\n",
    "        #IRdisplay::display_html(dim(X_train[[t]]))\n",
    "        #IRdisplay::display_html(length(Y_train[[t]]))\n",
    "    }\n",
    "\n",
    "    ## model training ##\t\n",
    "    ## train elastic net and used average lambda as tuning parameters ##\n",
    "    single_initial_est = matrix(0, ncol(X_train[[1]]), T_num)\n",
    "    single_summary = list()\n",
    "    for(t in 1:T_num){\n",
    "        #print(Y_train[[t]])\n",
    "        #print(sum(is.na(X_train[[t]])))\n",
    "        IRdisplay::display_html(paste0(\"INFO: glmnet cv tissue\", t))\n",
    "        tt = cv.glmnet(X_train[[t]], Y_train[[t]], alpha = 0.5, nfolds = 5)\n",
    "        single_summary[[t]] = tt\n",
    "        single_initial_est[,t] = tt$glmnet.fit$beta[,which.min(tt$cvm)]\n",
    "    }\n",
    "    ## performance of Elastic net on tuning and testing data with various tuning parameters\n",
    "    els_output = elastic_net_mse(single_summary, X_tune, Y_tune, X_test, Y_test)\n",
    "    single_res_test[[f]] = els_output$mse\n",
    "    single_lam[f,] = els_output$lam\n",
    "    single_theta_est[[f]] = els_output$est\n",
    "    remove(els_output)\n",
    "\n",
    "    initial_numeric = as.numeric(single_initial_est)\n",
    "    lam_range = minmax_lambda(single_summary)\n",
    "    lam_V = seq(lam_range[1], lam_range[2], length.out = ntune)\n",
    "    remove(single_summary)\n",
    "    remove(single_initial_est)\n",
    "\n",
    "    ## preparation\n",
    "    XY = grad_prep(X_train, Y_train)\n",
    "#\t\tbgt = Sys.time()\n",
    "    XX_train = lapply(X_train, function(x){t(x)%*%x/nrow(x)})\n",
    "#\t\tedt = Sys.time()\n",
    "#\t\tprint(edt-bgt)\n",
    "\n",
    "\n",
    "    res_tune = rep(0, ntune)\n",
    "    best.lam = 0\n",
    "\n",
    "#\t\tbgt = Sys.time()\n",
    "    IRdisplay::display_html(paste0(\"INFO: tuning \"))\n",
    "    for(lam in 1:ntune){\n",
    "        single_est = matrix(initial_numeric, M, P)\n",
    "        ans = glasso(X=X_train, Y=Y_train, X1=X_tune, Y1=Y_tune, XX=XX_train, XY=XY, Xnorm=Xnorm, lambda1=lam_V[lam], lambda2=lam_V[lam], theta=single_est)\n",
    "        res_tune[lam] = ans$tune_err\n",
    "        remove(single_est); remove(ans);\n",
    "    }\n",
    "#\t\tedt = Sys.time()\n",
    "#\t\tprint(edt-bgt)\n",
    "\n",
    "    best.lam = lam_V[which.min(res_tune)]\n",
    "    single_est = matrix(initial_numeric, M, P)\n",
    "    ans = glasso(X=X_train, Y=Y_train, X1=X_tune, Y1=Y_tune, XX=XX_train, XY=XY, Xnorm=Xnorm, lambda1=best.lam, lambda2=best.lam, theta=single_est)\n",
    "    multi_res_test[[f]] = multi_mse(ans$est, X_test, Y_test)\n",
    "    multi_lam[f] = best.lam\n",
    "    multi_theta_est[[f]] = ans$est\n",
    "    remove(single_est)\n",
    "    remove(ans)\n",
    "    edt = Sys.time()\n",
    "    print(edt-bgt)\n",
    "}"
   ]
  },
  {
   "cell_type": "markdown",
   "metadata": {},
   "source": [
    "# Debugging "
   ]
  },
  {
   "cell_type": "code",
   "execution_count": 1,
   "metadata": {},
   "outputs": [
    {
     "ename": "ERROR",
     "evalue": "Error in eval(expr, envir, enclos): object 'X_train' not found\n",
     "output_type": "error",
     "traceback": [
      "Error in eval(expr, envir, enclos): object 'X_train' not found\nTraceback:\n"
     ]
    }
   ],
   "source": [
    "\n",
    "\n",
    "# parameters\n",
    "lam = 1\n",
    "X=X_train\n",
    "Y=Y_train\n",
    "X1=X_tune\n",
    "Y1=Y_tune\n",
    "XX=XX_train\n",
    "XY=XY\n",
    "Xnorm=Xnorm\n",
    "lambda1=lam_V[lam]\n",
    "lambda2=lam_V[lam]\n",
    "single_est = matrix(initial_numeric, M, P)\n",
    "theta=single_est\n",
    "maxiter = 10\n",
    "\n",
    "# function \n",
    "dyn.load(\"/ysm-gpfs/pi/zhao/zy92/projects/utmost_update/CTIMP/optim.so\")\n",
    "\n",
    "bgt = Sys.time()\n",
    "M = nrow(XY)\n",
    "P = length(X)\n",
    "NN = unlist(lapply(X, nrow))\n",
    "old_objV1 = 0\n",
    "for(t in 1:P){\n",
    "    old_objV1 = old_objV1 + 1/2*mean((Y[[t]]-X[[t]]%*%theta[,t])^2)\n",
    "}\n",
    "IRdisplay::display_html(paste0(\"Training error: \", old_objV1, '\\n'))\n",
    "old_objV2 = 0\n",
    "for(t in 1:P){\n",
    "    old_objV2 = old_objV2 + 1/2*mean((Y1[[t]]-X1[[t]]%*%theta[,t])^2)\n",
    "}\n",
    "IRdisplay::display_html(paste0(\"Testing error: \", old_objV2, '\\n'))\n",
    "beta_j_lasso = rep(0, P)\n",
    "output_res = rep(0, P)\n",
    "tmp_XYj = 0\n",
    "\n",
    "for(i in 1:maxiter){\n",
    "    bgt = Sys.time()\n",
    "    res = .Call(\"wrapper\", XX, XY, theta, M, P, beta_j_lasso, lambda1, lambda2, Xnorm, output_res)\n",
    "    #print(res)\n",
    "    edt = Sys.time()\n",
    "    #print(edt-bgt)\n",
    "    IRdisplay::display_html(beta_j_lasso)\n",
    "    #IRdisplay::display_html(theta[1:6, 1:6])\n",
    "    new_objV1 = new_objV2 = 0\n",
    "    for(t in 1:P){\n",
    "        if (theta[])\n",
    "        new_objV1 = new_objV1 + 1/2*mean((Y[[t]]-X[[t]]%*%theta[,t])^2)\n",
    "        #IRdisplay::display_html(sum(is.na(X[[t]])))\n",
    "        #IRdisplay::display_html(sum(is.na(Y[[t]])))\n",
    "        #IRdisplay::display_html(theta[,t])\n",
    "    }\n",
    "    IRdisplay::display_html(paste0(\"Training error: \", new_objV1, '\\n'))\n",
    "    for(t in 1:P){\n",
    "        new_objV2 = new_objV2 + 1/2*mean((Y1[[t]]-X1[[t]]%*%theta[,t])^2)\n",
    "        #IRdisplay::display_html(sum(is.na(X[[t]])))\n",
    "        #IRdisplay::display_html(sum(is.na(Y[[t]])))\n",
    "        #IRdisplay::display_html(theta[,t])\n",
    "    }\n",
    "    IRdisplay::display_html(paste0(\"Testing error: \", new_objV2, '\\n'))\n",
    "    if(new_objV2 > old_objV2|new_objV1 > old_objV1){\n",
    "        break\n",
    "    }else{\n",
    "        old_objV2 = new_objV2\n",
    "    }\n",
    "    if(abs(new_objV1-old_objV1) < eps){\n",
    "        break\n",
    "    }else{\n",
    "        old_objV1 = new_objV1\n",
    "    }\n",
    "}\n",
    "#edt = Sys.time()\n",
    "#print(edt-bgt)\n",
    "#list(est = theta, tune_err = new_objV2)"
   ]
  },
  {
   "cell_type": "code",
   "execution_count": null,
   "metadata": {},
   "outputs": [],
   "source": [
    "class(beta_j_lasso[[1]])"
   ]
  },
  {
   "cell_type": "code",
   "execution_count": null,
   "metadata": {},
   "outputs": [],
   "source": [
    "beta_j_lasso"
   ]
  },
  {
   "cell_type": "code",
   "execution_count": null,
   "metadata": {},
   "outputs": [],
   "source": [
    "output_res"
   ]
  },
  {
   "cell_type": "code",
   "execution_count": null,
   "metadata": {},
   "outputs": [],
   "source": [
    "beta_j_lasso[[2]]"
   ]
  },
  {
   "cell_type": "code",
   "execution_count": null,
   "metadata": {},
   "outputs": [],
   "source": []
  },
  {
   "cell_type": "code",
   "execution_count": null,
   "metadata": {},
   "outputs": [],
   "source": [
    "dim(single_est)"
   ]
  },
  {
   "cell_type": "code",
   "execution_count": null,
   "metadata": {},
   "outputs": [],
   "source": [
    "single_est[c()]"
   ]
  },
  {
   "cell_type": "code",
   "execution_count": null,
   "metadata": {},
   "outputs": [],
   "source": [
    "sum(is.na(dose_std))"
   ]
  },
  {
   "cell_type": "code",
   "execution_count": null,
   "metadata": {},
   "outputs": [],
   "source": [
    "hist(dose_std)"
   ]
  },
  {
   "cell_type": "code",
   "execution_count": null,
   "metadata": {},
   "outputs": [],
   "source": [
    "which(is.na(single_est))"
   ]
  },
  {
   "cell_type": "code",
   "execution_count": null,
   "metadata": {},
   "outputs": [],
   "source": [
    "which(is.na(initial_numeric))"
   ]
  },
  {
   "cell_type": "code",
   "execution_count": null,
   "metadata": {},
   "outputs": [],
   "source": [
    "head(initial_numeric)\n",
    "single_est[1, 1:6]"
   ]
  },
  {
   "cell_type": "code",
   "execution_count": null,
   "metadata": {},
   "outputs": [],
   "source": [
    "single_est = matrix(initial_numeric, M, P)"
   ]
  },
  {
   "cell_type": "code",
   "execution_count": null,
   "metadata": {},
   "outputs": [],
   "source": [
    "head(single_est)"
   ]
  },
  {
   "cell_type": "code",
   "execution_count": null,
   "metadata": {},
   "outputs": [],
   "source": [
    "head(single_est)"
   ]
  },
  {
   "cell_type": "code",
   "execution_count": null,
   "metadata": {},
   "outputs": [],
   "source": [
    "class(Y_train[[1]])"
   ]
  },
  {
   "cell_type": "code",
   "execution_count": null,
   "metadata": {},
   "outputs": [],
   "source": [
    "hist(Y_train[[2]])"
   ]
  },
  {
   "cell_type": "code",
   "execution_count": null,
   "metadata": {},
   "outputs": [],
   "source": [
    "for(lam in 1:ntune){\n",
    "        single_est = matrix(initial_numeric, M, P)\n",
    "        ans = glasso(X=X_train, Y=Y_train, X1=X_tune, Y1=Y_tune, XX=XX_train, XY=XY, Xnorm=Xnorm, lambda1=lam_V[lam], lambda2=lam_V[lam], theta=single_est)\n",
    "        res_tune[lam] = ans$tune_err\n",
    "        remove(single_est); remove(ans);\n",
    "}"
   ]
  },
  {
   "cell_type": "code",
   "execution_count": null,
   "metadata": {},
   "outputs": [],
   "source": []
  },
  {
   "cell_type": "code",
   "execution_count": null,
   "metadata": {},
   "outputs": [],
   "source": [
    "dim(single_est)"
   ]
  },
  {
   "cell_type": "code",
   "execution_count": null,
   "metadata": {},
   "outputs": [],
   "source": [
    "sum(is.na(single_est))"
   ]
  },
  {
   "cell_type": "code",
   "execution_count": null,
   "metadata": {},
   "outputs": [],
   "source": [
    "res_na <- apply(single_est, 1, function(x) sum(is.na(x)))"
   ]
  },
  {
   "cell_type": "code",
   "execution_count": null,
   "metadata": {},
   "outputs": [],
   "source": [
    "res_inf <- apply(single_est, 1, function(x) sum(!is.finite(x)))"
   ]
  },
  {
   "cell_type": "code",
   "execution_count": null,
   "metadata": {},
   "outputs": [],
   "source": [
    "which(res_na != 0)"
   ]
  },
  {
   "cell_type": "code",
   "execution_count": null,
   "metadata": {},
   "outputs": [],
   "source": [
    "which(res_inf != 0)"
   ]
  },
  {
   "cell_type": "code",
   "execution_count": null,
   "metadata": {},
   "outputs": [],
   "source": [
    "single_est[which(res_inf != 0), ]"
   ]
  },
  {
   "cell_type": "code",
   "execution_count": null,
   "metadata": {},
   "outputs": [],
   "source": [
    "dim(X_train[[1]])\n",
    "sum(is.na(X_train[[1]]))"
   ]
  },
  {
   "cell_type": "code",
   "execution_count": null,
   "metadata": {},
   "outputs": [],
   "source": [
    "res_l <- lapply(X_train, function(x) sum(is.na(x)))"
   ]
  },
  {
   "cell_type": "code",
   "execution_count": null,
   "metadata": {},
   "outputs": [],
   "source": [
    "res_l"
   ]
  },
  {
   "cell_type": "code",
   "execution_count": null,
   "metadata": {},
   "outputs": [],
   "source": [
    "hist(X_train[[1]])"
   ]
  },
  {
   "cell_type": "code",
   "execution_count": null,
   "metadata": {},
   "outputs": [],
   "source": [
    "dim(XY)\n",
    "class(XY)"
   ]
  },
  {
   "cell_type": "code",
   "execution_count": null,
   "metadata": {},
   "outputs": [],
   "source": [
    "sum(is.na(XY))"
   ]
  },
  {
   "cell_type": "code",
   "execution_count": null,
   "metadata": {},
   "outputs": [],
   "source": [
    "hist(XY[847, ])\n",
    "sum(is.na(XY[847, ]))"
   ]
  },
  {
   "cell_type": "code",
   "execution_count": null,
   "metadata": {},
   "outputs": [],
   "source": [
    "hist(XY[848, ])\n",
    "sum(is.na(XY[848, ]))"
   ]
  },
  {
   "cell_type": "code",
   "execution_count": null,
   "metadata": {},
   "outputs": [],
   "source": [
    "hist(dose_std[847, ])"
   ]
  },
  {
   "cell_type": "code",
   "execution_count": null,
   "metadata": {},
   "outputs": [],
   "source": [
    "hist(dose[847, ])"
   ]
  },
  {
   "cell_type": "code",
   "execution_count": null,
   "metadata": {},
   "outputs": [],
   "source": [
    "hist(dose_std[848, ])"
   ]
  },
  {
   "cell_type": "code",
   "execution_count": null,
   "metadata": {},
   "outputs": [],
   "source": [
    "dim(XX_train[[1]])"
   ]
  },
  {
   "cell_type": "code",
   "execution_count": null,
   "metadata": {},
   "outputs": [],
   "source": [
    "hist(XX_train[[1]][848, ])"
   ]
  },
  {
   "cell_type": "code",
   "execution_count": null,
   "metadata": {},
   "outputs": [],
   "source": [
    "length(dose_std[, 848])"
   ]
  },
  {
   "cell_type": "code",
   "execution_count": null,
   "metadata": {},
   "outputs": [],
   "source": [
    "dim(dose_std)"
   ]
  },
  {
   "cell_type": "code",
   "execution_count": null,
   "metadata": {},
   "outputs": [],
   "source": [
    "hist(dose_std[848, ])"
   ]
  },
  {
   "cell_type": "code",
   "execution_count": null,
   "metadata": {},
   "outputs": [],
   "source": [
    "dim(single_est[,idx])\n",
    "dim(dose_std[,idx])"
   ]
  },
  {
   "cell_type": "code",
   "execution_count": null,
   "metadata": {},
   "outputs": [],
   "source": [
    "idx = res_na[1]\n",
    "t(single_est[, idx]) %*% dose_std[, idx]"
   ]
  },
  {
   "cell_type": "code",
   "execution_count": null,
   "metadata": {},
   "outputs": [],
   "source": [
    "XX_train[[1]][848, ] %*% single_est[848, ]"
   ]
  },
  {
   "cell_type": "code",
   "execution_count": null,
   "metadata": {},
   "outputs": [],
   "source": [
    "head(single_est)"
   ]
  },
  {
   "cell_type": "code",
   "execution_count": null,
   "metadata": {},
   "outputs": [],
   "source": [
    "dim(beta_j_lasso[[1]])"
   ]
  },
  {
   "cell_type": "code",
   "execution_count": null,
   "metadata": {},
   "outputs": [],
   "source": []
  },
  {
   "cell_type": "code",
   "execution_count": null,
   "metadata": {},
   "outputs": [],
   "source": []
  },
  {
   "cell_type": "code",
   "execution_count": null,
   "metadata": {},
   "outputs": [],
   "source": [
    "#gene_id = gene_vec\n",
    "#if(P){\n",
    "\t\n",
    "\t\n",
    "\t## genotype files ##\n",
    "\t#dose = read.table(dose_path, header=F)\n",
    "    genotype_info <- read_plink(dose_path)\n",
    "    dose = genotype_info$X\n",
    "    dose_std = dose\n",
    "\tfor(j in 1:nrow(dose)){\n",
    "\t\tdose_std[j, is.na(dose[j, ])] <- mean(dose[j, ], na.rm = T)\n",
    "        dose_std[j, ] <- dose_std[j, ] - mean(dose[j, ], na.rm = T)\n",
    "\t}\n",
    "\tprint(\"INFO: section A\")\n",
    "\t## covariance matrix ##\n",
    "    n_sample = ncol(dose_std)\n",
    "\ttmp = as.matrix(dose_std)\n",
    "\tXX = t(tmp)%*%as.matrix(tmp)/n_sample\n",
    "\tXnorm = diag(XX)\n",
    "\tremove(tmp)\n",
    "    remove(XX)\n",
    "\tsub_id = colnames(dose_std)\n",
    "\tM = nrow(dose_std)\n",
    "\tsub_id_map = list()\n",
    "    sub_id_map_exp = list()\n",
    "\tfor(t in 1:T_num){\n",
    "    #for(t in 1:1){\n",
    "\t\t#tmp = rep(0, nrow(Y[[t]]))\n",
    "        exp_id <- as.character(sapply(Y[[t]][,1], function(x) substr(x, 1, 10)))\n",
    "        #print(head(exp_id))\n",
    "        # index of ids that have matched genotypes \n",
    "        # exp_id based on order of exp_id\n",
    "        match_id <- match(exp_id, sub_id)\n",
    "\t\tsub_id_map[[t]] <- na.omit(match_id)\n",
    "        sub_id_map_exp[[t]] <- !is.na(match_id)                           \n",
    "        #for(j in 1:length(tmp)){\n",
    "            # extract the id starting GTEX-xxxxx\n",
    "            \n",
    "\t\t\t#tmp[j] = which(sub_id==exp_id)\n",
    "\t\t#}\n",
    "\t\t#sub_id_map[[t]] = tmp\n",
    "\t}\n",
    "\t\n",
    "\tfold = 5\n",
    "\tprint(\"INFO: section B\")\n",
    "\tcv_config = cv_helper(n_sample, fold)\n",
    "\tcv_perm = cv_config$perm\n",
    "\tcv_idx = cv_config$idx\n",
    "\t\n",
    "\tsingle_res_test = list()\n",
    "\tsingle_lam = matrix(0,5,P)\n",
    "\tsingle_theta_est = list()\n",
    "\t\n",
    "\tmulti_res_test = list()\n",
    "\tmulti_lam = rep(0,5)\n",
    "\tmulti_theta_est = list()\n",
    "\t\n",
    "\tfor(f in 1:fold){\n",
    "        # one fold \n",
    "\t\tbgt = Sys.time()\n",
    "        print(paste0(\"INFO: fold \", f))\n",
    "\t\ttest_index = cv_perm[cv_idx[f,1]:cv_idx[f,2]]\n",
    "\t\ttest_id = sub_id[test_index]\n",
    "        \n",
    "        # move the tuning idx to another idx block\n",
    "\t\ttuning_index = cv_perm[cv_idx[f%%fold+1,1]:cv_idx[f%%fold+1,2]]\n",
    "\t\ttuning_id = sub_id[tuning_index]\n",
    "        \n",
    "        # idx list\n",
    "\t\tX_test = list()\n",
    "\t\tY_test = list()\n",
    "\t\tX_tune = list()\n",
    "\t\tY_tune = list()\n",
    "\t\tX_train = list()\n",
    "\t\tY_train = list()\n",
    "\t\tfor(t in 1:T_num){\n",
    "            # idx matching  \n",
    "            id_filter = !(sub_id_map[[t]]%in%c(test_index,tuning_index))\n",
    "            X_train_tmp = sub_id_map[[t]][id_filter]\n",
    "\t\t\tY_train_tmp = sub_id_map_exp[[t]][id_filter]\n",
    "            tuning_id_filter = sub_id_map[[t]]%in%tuning_index\n",
    "\t\t\tX_tuning_tmp = sub_id_map[[t]][tuning_id_filter]\n",
    "\t\t\tY_tuning_tmp = sub_id_map_exp[[t]][tuning_id_filter]\n",
    "            testing_id_filter = sub_id_map[[t]]%in%testing_index\n",
    "\t\t\tX_test_tmp = sub_id_map[[t]][testing_id_filter]\n",
    "\t\t\tY_test_tmp = sub_id_map_exp[[t]][testing_id_filter]\n",
    "            # training data\n",
    "\t\t\tX_train[[t]] = apply(as.matrix(dose_std[,X_train_tmp]),1,as.numeric)\n",
    "\t\t\tY_train[[t]] = Y[[t]]][Y_train_tmp, 2]\n",
    "\t\t\tX_tune[[t]] = apply(as.matrix(dose_std[,X_tuning_tmp]),1,as.numeric)\n",
    "\t\t\tY_tune[[t]] = Y[[t]][Y_tuning_tmp, 2]\n",
    "\t\t\tX_test[[t]] = apply(as.matrix(dose_std[,X_test_tmp]),1,as.numeric)\n",
    "\t\t\tY_test[[t]] = Y[[t]][Y_test_tmp, 2]\n",
    "\t\t}\n",
    "\t\t\n",
    "\t\t## model training ##\t\n",
    "\t\t## train elastic net and used average lambda as tuning parameters ##\n",
    "\t\tsingle_initial_est = matrix(0, ncol(X_train[[1]]), T_num)\n",
    "\t\tsingle_summary = list()\n",
    "\t\tfor(t in 1:T_num){\n",
    "            #print(Y_train[[t]])\n",
    "            #print(sum(is.na(X_train[[t]])))\n",
    "\t\t\ttt = cv.glmnet(X_train[[t]], Y_train[[t]], alpha = 0.5, nfolds = 5)\n",
    "\t\t\tsingle_summary[[t]] = tt\n",
    "\t\t\tsingle_initial_est[,t] = tt$glmnet.fit$beta[,which.min(tt$cvm)]\n",
    "\t\t}\n",
    "\t\t## performance of Elastic net on tuning and testing data with various tuning parameters\n",
    "\t\tels_output = elastic_net_mse(single_summary, X_tune, Y_tune, X_test, Y_test)\n",
    "\t\tsingle_res_test[[f]] = els_output$mse\n",
    "\t\tsingle_lam[f,] = els_output$lam\n",
    "\t\tsingle_theta_est[[f]] = els_output$est\n",
    "\t\tremove(els_output)\n",
    "\t\t\n",
    "\t\tinitial_numeric = as.numeric(single_initial_est)\n",
    "\t\tlam_range = minmax_lambda(single_summary)\n",
    "\t\tlam_V = seq(lam_range[1], lam_range[2], length.out = ntune)\n",
    "\t\tremove(single_summary); \n",
    "        remove(single_initial_est);\n",
    "\t\n",
    "\t\t## preparation\n",
    "\t\tXY = grad_prep(X_train, Y_train)\n",
    "#\t\tbgt = Sys.time()\n",
    "\t\tXX_train = lapply(X_train, function(x){t(x)%*%x/nrow(x)})\n",
    "#\t\tedt = Sys.time()\n",
    "#\t\tprint(edt-bgt)\n",
    "\t\n",
    "\t\t\n",
    "\t\tres_tune = rep(0, ntune)\n",
    "\t\tbest.lam = 0\n",
    "\t\n",
    "#\t\tbgt = Sys.time()\n",
    "\t\tfor(lam in 1:ntune){\n",
    "\t\t\tsingle_est = matrix(initial_numeric, M, P)\n",
    "\t\t\tans = glasso(X=X_train, Y=Y_train, X1=X_tune, Y1=Y_tune, XX=XX_train, XY=XY, Xnorm=Xnorm, lambda1=lam_V[lam], lambda2=lam_V[lam], theta=single_est)\n",
    "\t\t\tres_tune[lam] = ans$tune_err\n",
    "\t\t\tremove(single_est); remove(ans);\n",
    "\t\t}\n",
    "#\t\tedt = Sys.time()\n",
    "#\t\tprint(edt-bgt)\n",
    "\n",
    "\t\tbest.lam = lam_V[which.min(res_tune)]\n",
    "\t\tsingle_est = matrix(initial_numeric, M, P)\n",
    "\t\tans = glasso(X=X_train, Y=Y_train, X1=X_tune, Y1=Y_tune, XX=XX_train, XY=XY, Xnorm=Xnorm, lambda1=best.lam, lambda2=best.lam, theta=single_est)\n",
    "\t\tmulti_res_test[[f]] = multi_mse(ans$est, X_test, Y_test)\n",
    "\t\tmulti_lam[f] = best.lam\n",
    "\t\tmulti_theta_est[[f]] = ans$est\n",
    "\t\tremove(single_est)\n",
    "        remove(ans)\n",
    "\t\tedt = Sys.time()\n",
    "\t\tprint(edt-bgt)\n",
    "\t}\n",
    "    print(\"INFO: section C\")\n",
    "\tsave(single_res_test, single_lam, single_theta_est, multi_res_test, multi_lam, multi_theta_est, file = paste0('chr', chr, '.', k, '.', gene_id, \".RData\"))\n",
    "\t\n",
    "    # evaluation                                  \n",
    "    res_single = avg_perm(single_res_test)\n",
    "\tres_multi = avg_perm(multi_res_test)\n",
    "\tcat(\"Elastic net average testing error (all): \", apply(res_single, 2, mean), '\\n')\n",
    "    cat(\"glasso averge testing error (all): \", apply(res_multi, 2, mean), '\\n')\n",
    "\tcat(\"Number of all zero tissues in elastic net is \", sum(is.na(res_single[,1])), '\\n')\n",
    "\tcat(\"Number of all zero tissues in glasso is \", sum(is.na(res_multi[,1])), '\\n')\n",
    "\t#cat(\"Elastic net average testing error (non-zero): \", apply(res_single[!is.na(res_multi[,1]),], 2, mean), '\\n')\n",
    "\t#cat(\"glasso averge testing error (non-zero): \", apply(res_multi[!is.na(res_multi[,1]),], 2, mean), '\\n')\n",
    "\n",
    "\t## generate an estimate with whole data ##\n",
    "\tX_all = list()\n",
    "\tY_all = list()\n",
    "\tfor(t in 1:T_num){\n",
    "\t\tX_all_tmp = sub_id_map[[t]]\n",
    "\t\tX_all[[t]] = apply(as.matrix(dose[X_all_tmp, ]), 2, as.numeric)\n",
    "\t\tY_all[[t]] = Y[[t]][,2]\n",
    "\t}\n",
    "\t# initial values \n",
    "\tsingle_initial_est = matrix(0, ncol(X_train[[1]]), T_num)\n",
    "\tfor(t in 1:T_num){\n",
    "\t\ttt = cv.glmnet(X_all[[t]], Y_all[[t]], alpha = 0.5, nfolds = 5)\n",
    "\t\tsingle_initial_est[,t] = tt$glmnet.fit$beta[,which.min(tt$cvm)]\n",
    "\t}\n",
    "\tinitial_numeric = as.numeric(single_initial_est)\n",
    "\tremove(single_initial_est)\n",
    "\tXY = grad_prep(X_all, Y_all)\n",
    "\tXX_all = lapply(X_all, function(x){t(x)%*%x/nrow(x)})\n",
    "\ttmp_res = rep(0, fold)\n",
    "\tfor(f in 1:fold){\n",
    "\t\tans = glasso_no_early_stopping(X=X_all, Y=Y_all, XX=XX_all, XY=XY, Xnorm=Xnorm, lambda1=multi_lam[f], lambda2=multi_lam[f], theta=matrix(initial_numeric,M,P))\n",
    "\t\ttmp_res[f] = ans$train_err\n",
    "\t}\n",
    "\tans = glasso_no_early_stopping(X=X_all, Y=Y_all, XX=XX_all, XY=XY, Xnorm=Xnorm, lambda1=multi_lam[which.min(tmp_res)], lambda2=multi_lam[which.min(tmp_res)], theta=matrix(initial_numeric,M,P))\n",
    "\t# id ref alt\n",
    "    info = genotype$bim[, c(2,5,6)] \n",
    "\tdownstream_est = data.frame(info[,1:3], ans$est)\n",
    "    \n",
    "\twrite.table(downstream_est, paste0(gene_id, \".est\"), quote=F, row.names=F, col.names=c(\"SNP\", \"REF.0.\", \"ALT.1.\", Yt))\n",
    "#}"
   ]
  },
  {
   "cell_type": "markdown",
   "metadata": {},
   "source": [
    "### Preparation"
   ]
  },
  {
   "cell_type": "code",
   "execution_count": null,
   "metadata": {},
   "outputs": [],
   "source": [
    "# prepa\n",
    "dir.create(paste0(output_dir, \"chr\", chr), showWarnings = FALSE)\n",
    "dir.create(paste0(output_dir, \"chr\", chr, \"/\", gene_id), showWarnings = FALSE)\n",
    "setwd(paste0(output_dir, \"chr\", chr, \"/\", gene_id))\n",
    "## expr files ##\n",
    "Y = list()\n",
    "for(t in 1:P){\n",
    "    Y[[t]] = read.table(paste0(gtex_dir, \"adjusted_expr1/chr\", chr, \"/\", g, \"/\", Yt[t]), header=F)\n",
    "}\n",
    "ssize = unlist(lapply(Y, nrow))\n",
    "T_num = length(Yt)\n",
    "\n",
    "## genotype files ##\n",
    "#dose = read.table(dose_path, header=F)\n",
    "genotype_info <- read_plink(dose_path)\n",
    "dose = genotype_info$X\n",
    "dose_std = dose\n",
    "for(j in 1:nrow(dose)){\n",
    "    dose_std[j, is.na(dose[j, ])] <- mean(dose[j, ], na.rm = T)\n",
    "    dose_std[j, ] <- dose_std[j, ] - mean(dose[j, ], na.rm = T)\n",
    "}\n",
    "print(\"INFO: section A\")\n",
    "## covariance matrix ##\n",
    "n_sample = ncol(dose_std)\n",
    "tmp = as.matrix(dose_std)\n",
    "XX = t(tmp)%*%as.matrix(tmp)/n_sample\n",
    "Xnorm = diag(XX)\n",
    "remove(tmp)\n",
    "remove(XX)\n",
    "sub_id = colnames(dose_std)\n",
    "M = nrow(dose_std)\n",
    "sub_id_map = list()\n",
    "sub_id_map_genotype = list()\n",
    "for(t in 1:T_num){\n",
    "#for(t in 1:1){\n",
    "    #tmp = rep(0, nrow(Y[[t]]))\n",
    "    exp_id <- as.character(sapply(Y[[t]][,1], function(x) substr(x, 1, 10)))\n",
    "    #print(head(exp_id))\n",
    "    # index of ids that have matched genotypes \n",
    "    # exp_id based on order of exp_id\n",
    "    sub_id_map[[t]] <- na.omit(match(exp_id, sub_id))\n",
    "    sub_id_map_genotype[[t]] <- !is.na(match(exp_id, sub_id))                           \n",
    "    #for(j in 1:length(tmp)){\n",
    "        # extract the id starting GTEX-xxxxx\n",
    "\n",
    "        #tmp[j] = which(sub_id==exp_id)\n",
    "    #}\n",
    "    #sub_id_map[[t]] = tmp\n",
    "}\n",
    "\n",
    "fold = 5\n",
    "print(\"INFO: section B\")\n",
    "cv_config = cv_helper(n_sample, fold)\n",
    "cv_perm = cv_config$perm\n",
    "cv_idx = cv_config$idx\n",
    "\n",
    "single_res_test = list()\n",
    "single_lam = matrix(0,5,P)\n",
    "single_theta_est = list()\n",
    "\n",
    "multi_res_test = list()\n",
    "multi_lam = rep(0,5)\n",
    "multi_theta_est = list()"
   ]
  },
  {
   "cell_type": "markdown",
   "metadata": {},
   "source": [
    "### CV"
   ]
  },
  {
   "cell_type": "code",
   "execution_count": null,
   "metadata": {},
   "outputs": [],
   "source": [
    "### fold = 1\n",
    "    f = 1\n",
    "    bgt = Sys.time()\n",
    "    IRdisplay::display_html(paste0(\"INFO: fold \", f))\n",
    "    test_index = cv_perm[cv_idx[f,1]:cv_idx[f,2]]\n",
    "    test_id = sub_id[test_index]\n",
    "    tuning_index = cv_perm[cv_idx[f%%fold+1,1]:cv_idx[f%%fold+1,2]]\n",
    "    tuning_id = sub_id[tuning_index]\n",
    "\n",
    "    X_test = list()\n",
    "    Y_test = list()\n",
    "    X_tune = list()\n",
    "    Y_tune = list()\n",
    "    X_train = list()\n",
    "    Y_train = list()\n",
    "    for(t in 1:T_num){\n",
    "        X_train_tmp = sub_id_map[[t]][!(sub_id_map[[t]]%in%c(test_index,tuning_index))]\n",
    "        Y_train_tmp = !(sub_id_map[[t]]%in%c(test_index,tuning_index))\n",
    "        X_tuning_tmp = sub_id_map[[t]][(sub_id_map[[t]]%in%tuning_index)]\n",
    "        Y_tuning_tmp = (sub_id_map[[t]]%in%tuning_index)\n",
    "        X_test_tmp = sub_id_map[[t]][(sub_id_map[[t]]%in%test_index)]\n",
    "        Y_test_tmp = (sub_id_map[[t]]%in%test_index)\n",
    "        # training data\n",
    "        X_train[[t]] = apply(as.matrix(dose_std[,X_train_tmp]),1,as.numeric)\n",
    "        Y_train[[t]] = Y[[t]][sub_id_map_genotype[[t]],][Y_train_tmp, 2]\n",
    "        X_tune[[t]] = apply(as.matrix(dose_std[,X_tuning_tmp]),1,as.numeric)\n",
    "        Y_tune[[t]] = Y[[t]][sub_id_map_genotype[[t]],][Y_tuning_tmp, 2]\n",
    "        X_test[[t]] = apply(as.matrix(dose_std[,X_test_tmp]),1,as.numeric)\n",
    "        Y_test[[t]] = Y[[t]][sub_id_map_genotype[[t]],][Y_test_tmp, 2]\n",
    "    }\n",
    "\n",
    "    ## model training ##\t\n",
    "    ## train elastic net and used average lambda as tuning parameters ##\n",
    "    single_initial_est = matrix(0, ncol(X_train[[1]]), T_num)\n",
    "    single_summary = list()\n",
    "    for(t in 1:T_num){\n",
    "        IRdisplay::display_html(length(Y_train[[t]]))\n",
    "        IRdisplay::display_html(dim(X_train[[t]]))\n",
    "        tt = cv.glmnet(X_train[[t]], Y_train[[t]], alpha = 0.5, nfolds = 5)\n",
    "        single_summary[[t]] = tt\n",
    "        single_initial_est[,t] = tt$glmnet.fit$beta[,which.min(tt$cvm)]\n",
    "    }\n",
    "    ## performance of Elastic net on tuning and testing data with various tuning parameters\n",
    "    els_output = elastic_net_mse(single_summary, X_tune, Y_tune, X_test, Y_test)\n",
    "    single_res_test[[f]] = els_output$mse\n",
    "    single_lam[f,] = els_output$lam\n",
    "    single_theta_est[[f]] = els_output$est\n",
    "    remove(els_output)\n",
    "\n",
    "    initial_numeric = as.numeric(single_initial_est)\n",
    "    lam_range = minmax_lambda(single_summary)\n",
    "    lam_V = seq(lam_range[1], lam_range[2], length.out = ntune)\n",
    "    remove(single_summary); \n",
    "    remove(single_initial_est);\n",
    "\n",
    "    ## preparation\n",
    "    XY = grad_prep(X_train, Y_train)\n",
    "#\t\tbgt = Sys.time()\n",
    "    XX_train = lapply(X_train, function(x){t(x)%*%x/nrow(x)})\n",
    "#\t\tedt = Sys.time()\n",
    "#\t\tprint(edt-bgt)\n",
    "\n",
    "\n",
    "    res_tune = rep(0, ntune)\n",
    "    best.lam = 0\n",
    "\n",
    "#\t\tbgt = Sys.time()\n",
    "    print(\"INFO: section C\")\n",
    "    for(lam in 1:ntune){\n",
    "        single_est = matrix(initial_numeric, M, P)\n",
    "        ans = glasso(X=X_train, Y=Y_train, X1=X_tune, Y1=Y_tune, XX=XX_train, XY=XY, Xnorm=Xnorm, lambda1=lam_V[lam], lambda2=lam_V[lam], theta=single_est)\n",
    "        res_tune[lam] = ans$tune_err\n",
    "        remove(single_est); remove(ans);\n",
    "    }\n",
    "#\t\tedt = Sys.time()\n",
    "#\t\tprint(edt-bgt)\n",
    "    \n",
    "    \n",
    "    best.lam = lam_V[which.min(res_tune)]\n",
    "    single_est = matrix(initial_numeric, M, P)\n",
    "    ans = glasso(X=X_train, Y=Y_train, X1=X_tune, Y1=Y_tune, XX=XX_train, XY=XY, Xnorm=Xnorm, lambda1=best.lam, lambda2=best.lam, theta=single_est)\n",
    "    multi_res_test[[f]] = multi_mse(ans$est, X_test, Y_test)\n",
    "    multi_lam[f] = best.lam\n",
    "    multi_theta_est[[f]] = ans$est\n",
    "    remove(single_est)\n",
    "    remove(ans)\n",
    "    edt = Sys.time()\n",
    "    print(edt-bgt)"
   ]
  },
  {
   "cell_type": "code",
   "execution_count": null,
   "metadata": {},
   "outputs": [],
   "source": [
    "for(f in 1:fold){\n",
    "    bgt = Sys.time()\n",
    "    IRdisplay::display_html(paste0(\"INFO: fold \", f))\n",
    "    test_index = cv_perm[cv_idx[f,1]:cv_idx[f,2]]\n",
    "    test_id = sub_id[test_index]\n",
    "    tuning_index = cv_perm[cv_idx[f%%fold+1,1]:cv_idx[f%%fold+1,2]]\n",
    "    tuning_id = sub_id[tuning_index]\n",
    "\n",
    "    X_test = list()\n",
    "    Y_test = list()\n",
    "    X_tune = list()\n",
    "    Y_tune = list()\n",
    "    X_train = list()\n",
    "    Y_train = list()\n",
    "    for(t in 1:T_num){\n",
    "        X_train_tmp = sub_id_map[[t]][!(sub_id_map[[t]]%in%c(test_index,tuning_index))]\n",
    "        Y_train_tmp = !(sub_id_map[[t]]%in%c(test_index,tuning_index))\n",
    "        X_tuning_tmp = sub_id_map[[t]][(sub_id_map[[t]]%in%tuning_index)]\n",
    "        Y_tuning_tmp = (sub_id_map[[t]]%in%tuning_index)\n",
    "        X_test_tmp = sub_id_map[[t]][(sub_id_map[[t]]%in%test_index)]\n",
    "        Y_test_tmp = (sub_id_map[[t]]%in%test_index)\n",
    "        # training data\n",
    "        X_train[[t]] = apply(as.matrix(dose_std[,X_train_tmp]),1,as.numeric)\n",
    "        Y_train[[t]] = Y[[t]][sub_id_map_genotype[[t]],][Y_train_tmp, 2]\n",
    "        X_tune[[t]] = apply(as.matrix(dose_std[,X_tuning_tmp]),1,as.numeric)\n",
    "        Y_tune[[t]] = Y[[t]][sub_id_map_genotype[[t]],][Y_tuning_tmp, 2]\n",
    "        X_test[[t]] = apply(as.matrix(dose_std[,X_test_tmp]),1,as.numeric)\n",
    "        Y_test[[t]] = Y[[t]][sub_id_map_genotype[[t]],][Y_test_tmp, 2]\n",
    "    }\n",
    "\n",
    "    ## model training ##\t\n",
    "    ## train elastic net and used average lambda as tuning parameters ##\n",
    "    single_initial_est = matrix(0, ncol(X_train[[1]]), T_num)\n",
    "    single_summary = list()\n",
    "    for(t in 1:T_num){\n",
    "        IRdisplay::display_html(length(Y_train[[t]]))\n",
    "        IRdisplay::display_html(dim(X_train[[t]]))\n",
    "        tt = cv.glmnet(X_train[[t]], Y_train[[t]], alpha = 0.5, nfolds = 5)\n",
    "        single_summary[[t]] = tt\n",
    "        single_initial_est[,t] = tt$glmnet.fit$beta[,which.min(tt$cvm)]\n",
    "    }\n",
    "    ## performance of Elastic net on tuning and testing data with various tuning parameters\n",
    "    els_output = elastic_net_mse(single_summary, X_tune, Y_tune, X_test, Y_test)\n",
    "    single_res_test[[f]] = els_output$mse\n",
    "    single_lam[f,] = els_output$lam\n",
    "    single_theta_est[[f]] = els_output$est\n",
    "    remove(els_output)\n",
    "\n",
    "    initial_numeric = as.numeric(single_initial_est)\n",
    "    lam_range = minmax_lambda(single_summary)\n",
    "    lam_V = seq(lam_range[1], lam_range[2], length.out = ntune)\n",
    "    remove(single_summary); \n",
    "    remove(single_initial_est);\n",
    "\n",
    "    ## preparation\n",
    "    XY = grad_prep(X_train, Y_train)\n",
    "#\t\tbgt = Sys.time()\n",
    "    XX_train = lapply(X_train, function(x){t(x)%*%x/nrow(x)})\n",
    "#\t\tedt = Sys.time()\n",
    "#\t\tprint(edt-bgt)\n",
    "\n",
    "\n",
    "    res_tune = rep(0, ntune)\n",
    "    best.lam = 0\n",
    "\n",
    "#\t\tbgt = Sys.time()\n",
    "    print(\"INFO: section C\")\n",
    "    for(lam in 1:ntune){\n",
    "        single_est = matrix(initial_numeric, M, P)\n",
    "        ans = glasso(X=X_train, Y=Y_train, X1=X_tune, Y1=Y_tune, XX=XX_train, XY=XY, Xnorm=Xnorm, lambda1=lam_V[lam], lambda2=lam_V[lam], theta=single_est)\n",
    "        res_tune[lam] = ans$tune_err\n",
    "        remove(single_est); remove(ans);\n",
    "    }\n",
    "#\t\tedt = Sys.time()\n",
    "#\t\tprint(edt-bgt)\n",
    "    \n",
    "    \n",
    "    best.lam = lam_V[which.min(res_tune)]\n",
    "    single_est = matrix(initial_numeric, M, P)\n",
    "    ans = glasso(X=X_train, Y=Y_train, X1=X_tune, Y1=Y_tune, XX=XX_train, XY=XY, Xnorm=Xnorm, lambda1=best.lam, lambda2=best.lam, theta=single_est)\n",
    "    multi_res_test[[f]] = multi_mse(ans$est, X_test, Y_test)\n",
    "    multi_lam[f] = best.lam\n",
    "    multi_theta_est[[f]] = ans$est\n",
    "    remove(single_est)\n",
    "    remove(ans)\n",
    "    edt = Sys.time()\n",
    "    print(edt-bgt)\n",
    "}"
   ]
  },
  {
   "cell_type": "code",
   "execution_count": null,
   "metadata": {},
   "outputs": [],
   "source": [
    "    t <- 1\n",
    "dim(X_train[[t]])\n",
    "length(Y_train[[t]])\n",
    "head(Y_train[[t]])"
   ]
  },
  {
   "cell_type": "code",
   "execution_count": null,
   "metadata": {},
   "outputs": [],
   "source": []
  },
  {
   "cell_type": "code",
   "execution_count": null,
   "metadata": {},
   "outputs": [],
   "source": []
  },
  {
   "cell_type": "code",
   "execution_count": null,
   "metadata": {},
   "outputs": [],
   "source": []
  },
  {
   "cell_type": "code",
   "execution_count": null,
   "metadata": {},
   "outputs": [],
   "source": []
  },
  {
   "cell_type": "code",
   "execution_count": null,
   "metadata": {},
   "outputs": [],
   "source": []
  },
  {
   "cell_type": "code",
   "execution_count": null,
   "metadata": {},
   "outputs": [],
   "source": []
  },
  {
   "cell_type": "code",
   "execution_count": null,
   "metadata": {},
   "outputs": [],
   "source": []
  },
  {
   "cell_type": "code",
   "execution_count": null,
   "metadata": {},
   "outputs": [],
   "source": []
  },
  {
   "cell_type": "code",
   "execution_count": null,
   "metadata": {},
   "outputs": [],
   "source": []
  },
  {
   "cell_type": "code",
   "execution_count": null,
   "metadata": {},
   "outputs": [],
   "source": []
  },
  {
   "cell_type": "code",
   "execution_count": null,
   "metadata": {},
   "outputs": [],
   "source": []
  },
  {
   "cell_type": "code",
   "execution_count": null,
   "metadata": {},
   "outputs": [],
   "source": [
    "length(Y[[t]][Y_train_tmp, 2])"
   ]
  },
  {
   "cell_type": "code",
   "execution_count": null,
   "metadata": {},
   "outputs": [],
   "source": [
    "head(Y_train_tmp)\n",
    "sum(Y_train_tmp)"
   ]
  },
  {
   "cell_type": "code",
   "execution_count": null,
   "metadata": {},
   "outputs": [],
   "source": [
    "length(Y_train_tmp)"
   ]
  },
  {
   "cell_type": "code",
   "execution_count": null,
   "metadata": {},
   "outputs": [],
   "source": [
    "t = 1\n",
    "X_train_tmp = sub_id_map[[t]][!(sub_id_map[[t]]%in%c(test_index,tuning_index))]\n",
    "Y_train_tmp = !(sub_id_map[[t]]%in%c(test_index,tuning_index))"
   ]
  },
  {
   "cell_type": "code",
   "execution_count": null,
   "metadata": {},
   "outputs": [],
   "source": [
    "length(sub_id_map[[1]])"
   ]
  },
  {
   "cell_type": "code",
   "execution_count": null,
   "metadata": {},
   "outputs": [],
   "source": [
    "length(X_train_tmp)\n",
    "sum(Y_train_tmp)"
   ]
  },
  {
   "cell_type": "code",
   "execution_count": null,
   "metadata": {},
   "outputs": [],
   "source": [
    "X_train[[t]][1:6, 1:6]"
   ]
  },
  {
   "cell_type": "code",
   "execution_count": null,
   "metadata": {},
   "outputs": [],
   "source": [
    "sum(is.na(X_train[[t]]))"
   ]
  },
  {
   "cell_type": "code",
   "execution_count": null,
   "metadata": {},
   "outputs": [],
   "source": [
    "sum(is.na(dose))\n",
    "sum(is.na(dose_std))\n",
    "dim(dose)\n",
    "dim(dose_std)"
   ]
  },
  {
   "cell_type": "code",
   "execution_count": null,
   "metadata": {},
   "outputs": [],
   "source": [
    "dim(X_train[[t]])\n",
    "length(Y_train[[t]])"
   ]
  },
  {
   "cell_type": "code",
   "execution_count": null,
   "metadata": {},
   "outputs": [],
   "source": [
    "class(X_train_tmp)"
   ]
  },
  {
   "cell_type": "code",
   "execution_count": null,
   "metadata": {},
   "outputs": [],
   "source": [
    "exp_id <- as.character(sapply(Y[[t]][,1], function(x) substr(x, 1, 10)))\n",
    "print(head(exp_id))\n",
    "sub_id_map[[t]] <- match(exp_id, sub_id)"
   ]
  },
  {
   "cell_type": "code",
   "execution_count": null,
   "metadata": {},
   "outputs": [],
   "source": [
    "sum(is.na(sub_id_map[[t]]))\n",
    "length(sub_id_map[[t]])"
   ]
  },
  {
   "cell_type": "code",
   "execution_count": null,
   "metadata": {},
   "outputs": [],
   "source": [
    "length(sub_id)"
   ]
  },
  {
   "cell_type": "code",
   "execution_count": null,
   "metadata": {},
   "outputs": [],
   "source": [
    "for(t in 1:T_num){\n",
    "    #for(t in 1:1){\n",
    "\t\t#tmp = rep(0, nrow(Y[[t]]))\n",
    "        exp_id <- as.character(sapply(Y[[t]][,1], function(x) substr(x, 1, 10)))\n",
    "        print(head(exp_id))\n",
    "\t\tsub_id_map[[t]] <- match(exp_id, sub_id)\n",
    "        #for(j in 1:length(tmp)){\n",
    "            # extract the id starting GTEX-xxxxx\n",
    "            \n",
    "\t\t\t#tmp[j] = which(sub_id==exp_id)\n",
    "\t\t#}\n",
    "\t\t#sub_id_map[[t]] = tmp\n",
    "\t}"
   ]
  },
  {
   "cell_type": "code",
   "execution_count": null,
   "metadata": {},
   "outputs": [],
   "source": []
  },
  {
   "cell_type": "code",
   "execution_count": null,
   "metadata": {},
   "outputs": [],
   "source": []
  }
 ],
 "metadata": {
  "kernelspec": {
   "display_name": "R",
   "language": "R",
   "name": "ir"
  },
  "language_info": {
   "codemirror_mode": "r",
   "file_extension": ".r",
   "mimetype": "text/x-r-source",
   "name": "R",
   "pygments_lexer": "r",
   "version": "3.5.0"
  }
 },
 "nbformat": 4,
 "nbformat_minor": 4
}
