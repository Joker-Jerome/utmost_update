{
 "cells": [
  {
   "cell_type": "code",
   "execution_count": 1,
   "metadata": {},
   "outputs": [],
   "source": [
    "suppressPackageStartupMessages(library(dplyr))\n",
    "suppressPackageStartupMessages(library(data.table))\n"
   ]
  },
  {
   "cell_type": "code",
   "execution_count": 2,
   "metadata": {},
   "outputs": [
    {
     "data": {
      "text/html": [],
      "text/latex": [],
      "text/markdown": [],
      "text/plain": [
       "character(0)"
      ]
     },
     "metadata": {},
     "output_type": "display_data"
    }
   ],
   "source": [
    "inter_dir <- \"/ysm-gpfs/pi/zhao/zy92/projects/utmost_update/GTEX/adjusted_expr\"\n",
    "inter_files <- list.files(\"/ysm-gpfs/pi/zhao/zy92/projects/utmost_update/GTEX/adjusted_expr/\")\n",
    "head(inter_files)"
   ]
  },
  {
   "cell_type": "code",
   "execution_count": 3,
   "metadata": {},
   "outputs": [
    {
     "data": {
      "text/html": [
       "<ol class=list-inline>\n",
       "\t<li>'adjusted_expr'</li>\n",
       "\t<li>'expression_list_target.RData'</li>\n",
       "\t<li>'gene_info_target.RData'</li>\n",
       "\t<li>'gene_info.RData'</li>\n",
       "\t<li>'protein_coding.RData'</li>\n",
       "\t<li>'proteingene_list.RData'</li>\n",
       "</ol>\n"
      ],
      "text/latex": [
       "\\begin{enumerate*}\n",
       "\\item 'adjusted\\_expr'\n",
       "\\item 'expression\\_list\\_target.RData'\n",
       "\\item 'gene\\_info\\_target.RData'\n",
       "\\item 'gene\\_info.RData'\n",
       "\\item 'protein\\_coding.RData'\n",
       "\\item 'proteingene\\_list.RData'\n",
       "\\end{enumerate*}\n"
      ],
      "text/markdown": [
       "1. 'adjusted_expr'\n",
       "2. 'expression_list_target.RData'\n",
       "3. 'gene_info_target.RData'\n",
       "4. 'gene_info.RData'\n",
       "5. 'protein_coding.RData'\n",
       "6. 'proteingene_list.RData'\n",
       "\n",
       "\n"
      ],
      "text/plain": [
       "[1] \"adjusted_expr\"                \"expression_list_target.RData\"\n",
       "[3] \"gene_info_target.RData\"       \"gene_info.RData\"             \n",
       "[5] \"protein_coding.RData\"         \"proteingene_list.RData\"      "
      ]
     },
     "metadata": {},
     "output_type": "display_data"
    }
   ],
   "source": [
    "list.files(\"/ysm-gpfs/pi/zhao/zy92/projects/utmost_update//GTEX/\")"
   ]
  },
  {
   "cell_type": "code",
   "execution_count": 4,
   "metadata": {},
   "outputs": [
    {
     "data": {
      "text/html": [
       "'/ysm-gpfs/pi/zhao/zy92/projects/utmost_update/'"
      ],
      "text/latex": [
       "'/ysm-gpfs/pi/zhao/zy92/projects/utmost\\_update/'"
      ],
      "text/markdown": [
       "'/ysm-gpfs/pi/zhao/zy92/projects/utmost_update/'"
      ],
      "text/plain": [
       "[1] \"/ysm-gpfs/pi/zhao/zy92/projects/utmost_update/\""
      ]
     },
     "metadata": {},
     "output_type": "display_data"
    }
   ],
   "source": [
    "head((\"/ysm-gpfs/pi/zhao/zy92/projects/utmost_update/\"))"
   ]
  },
  {
   "cell_type": "code",
   "execution_count": 5,
   "metadata": {},
   "outputs": [
    {
     "data": {
      "text/html": [
       "'gene_info_target'"
      ],
      "text/latex": [
       "'gene\\_info\\_target'"
      ],
      "text/markdown": [
       "'gene_info_target'"
      ],
      "text/plain": [
       "[1] \"gene_info_target\""
      ]
     },
     "metadata": {},
     "output_type": "display_data"
    }
   ],
   "source": [
    "ln1 <- load(\"/ysm-gpfs/pi/zhao/zy92/projects/utmost_update//GTEX/gene_info_target.RData\")\n",
    "ln1"
   ]
  },
  {
   "cell_type": "code",
   "execution_count": 6,
   "metadata": {},
   "outputs": [
    {
     "data": {
      "text/html": [
       "<ol class=list-inline>\n",
       "\t<li>27208</li>\n",
       "\t<li>4</li>\n",
       "</ol>\n"
      ],
      "text/latex": [
       "\\begin{enumerate*}\n",
       "\\item 27208\n",
       "\\item 4\n",
       "\\end{enumerate*}\n"
      ],
      "text/markdown": [
       "1. 27208\n",
       "2. 4\n",
       "\n",
       "\n"
      ],
      "text/plain": [
       "[1] 27208     4"
      ]
     },
     "metadata": {},
     "output_type": "display_data"
    }
   ],
   "source": [
    "dim(gene_info_target)"
   ]
  },
  {
   "cell_type": "code",
   "execution_count": 7,
   "metadata": {},
   "outputs": [
    {
     "data": {
      "text/html": [
       "<ol class=list-inline>\n",
       "\t<li>'sample_count'</li>\n",
       "\t<li>'idx_list'</li>\n",
       "</ol>\n"
      ],
      "text/latex": [
       "\\begin{enumerate*}\n",
       "\\item 'sample\\_count'\n",
       "\\item 'idx\\_list'\n",
       "\\end{enumerate*}\n"
      ],
      "text/markdown": [
       "1. 'sample_count'\n",
       "2. 'idx_list'\n",
       "\n",
       "\n"
      ],
      "text/plain": [
       "[1] \"sample_count\" \"idx_list\"    "
      ]
     },
     "metadata": {},
     "output_type": "display_data"
    }
   ],
   "source": [
    "ln2 <- load(\"/ysm-gpfs/pi/zhao/zy92/projects/utmost_update/tissue_idx.RData\")\n",
    "ln2 "
   ]
  },
  {
   "cell_type": "code",
   "execution_count": 8,
   "metadata": {},
   "outputs": [
    {
     "data": {
      "text/html": [
       "<ol class=list-inline>\n",
       "\t<li>'Whole Blood'</li>\n",
       "\t<li>'Brain - Frontal Cortex (BA9)'</li>\n",
       "\t<li>'Adipose - Subcutaneous'</li>\n",
       "\t<li>'Muscle - Skeletal'</li>\n",
       "\t<li>'Artery - Tibial'</li>\n",
       "\t<li>'Artery - Coronary'</li>\n",
       "</ol>\n"
      ],
      "text/latex": [
       "\\begin{enumerate*}\n",
       "\\item 'Whole Blood'\n",
       "\\item 'Brain - Frontal Cortex (BA9)'\n",
       "\\item 'Adipose - Subcutaneous'\n",
       "\\item 'Muscle - Skeletal'\n",
       "\\item 'Artery - Tibial'\n",
       "\\item 'Artery - Coronary'\n",
       "\\end{enumerate*}\n"
      ],
      "text/markdown": [
       "1. 'Whole Blood'\n",
       "2. 'Brain - Frontal Cortex (BA9)'\n",
       "3. 'Adipose - Subcutaneous'\n",
       "4. 'Muscle - Skeletal'\n",
       "5. 'Artery - Tibial'\n",
       "6. 'Artery - Coronary'\n",
       "\n",
       "\n"
      ],
      "text/plain": [
       "[1] \"Whole Blood\"                  \"Brain - Frontal Cortex (BA9)\"\n",
       "[3] \"Adipose - Subcutaneous\"       \"Muscle - Skeletal\"           \n",
       "[5] \"Artery - Tibial\"              \"Artery - Coronary\"           "
      ]
     },
     "metadata": {},
     "output_type": "display_data"
    },
    {
     "data": {
      "text/html": [
       "<ol class=list-inline>\n",
       "\t<li>'GTEX-1117F-0003-SM-58Q7G'</li>\n",
       "\t<li>'GTEX-1117F-0003-SM-5DWSB'</li>\n",
       "\t<li>'GTEX-1117F-0003-SM-6WBT7'</li>\n",
       "\t<li>'GTEX-111CU-0003-SM-58Q95'</li>\n",
       "\t<li>'GTEX-111CU-0003-SM-5DWTR'</li>\n",
       "\t<li>'GTEX-111CU-0003-SM-6WBUD'</li>\n",
       "</ol>\n"
      ],
      "text/latex": [
       "\\begin{enumerate*}\n",
       "\\item 'GTEX-1117F-0003-SM-58Q7G'\n",
       "\\item 'GTEX-1117F-0003-SM-5DWSB'\n",
       "\\item 'GTEX-1117F-0003-SM-6WBT7'\n",
       "\\item 'GTEX-111CU-0003-SM-58Q95'\n",
       "\\item 'GTEX-111CU-0003-SM-5DWTR'\n",
       "\\item 'GTEX-111CU-0003-SM-6WBUD'\n",
       "\\end{enumerate*}\n"
      ],
      "text/markdown": [
       "1. 'GTEX-1117F-0003-SM-58Q7G'\n",
       "2. 'GTEX-1117F-0003-SM-5DWSB'\n",
       "3. 'GTEX-1117F-0003-SM-6WBT7'\n",
       "4. 'GTEX-111CU-0003-SM-58Q95'\n",
       "5. 'GTEX-111CU-0003-SM-5DWTR'\n",
       "6. 'GTEX-111CU-0003-SM-6WBUD'\n",
       "\n",
       "\n"
      ],
      "text/plain": [
       "[1] \"GTEX-1117F-0003-SM-58Q7G\" \"GTEX-1117F-0003-SM-5DWSB\"\n",
       "[3] \"GTEX-1117F-0003-SM-6WBT7\" \"GTEX-111CU-0003-SM-58Q95\"\n",
       "[5] \"GTEX-111CU-0003-SM-5DWTR\" \"GTEX-111CU-0003-SM-6WBUD\""
      ]
     },
     "metadata": {},
     "output_type": "display_data"
    }
   ],
   "source": [
    "head(names(idx_list))\n",
    "head(idx_list[['Whole Blood']])"
   ]
  },
  {
   "cell_type": "code",
   "execution_count": 9,
   "metadata": {},
   "outputs": [
    {
     "data": {
      "text/html": [
       "<ol class=list-inline>\n",
       "\t<li>56200</li>\n",
       "\t<li>17384</li>\n",
       "</ol>\n"
      ],
      "text/latex": [
       "\\begin{enumerate*}\n",
       "\\item 56200\n",
       "\\item 17384\n",
       "\\end{enumerate*}\n"
      ],
      "text/markdown": [
       "1. 56200\n",
       "2. 17384\n",
       "\n",
       "\n"
      ],
      "text/plain": [
       "[1] 56200 17384"
      ]
     },
     "metadata": {},
     "output_type": "display_data"
    }
   ],
   "source": [
    "# collect the data \n",
    "expression_df <- fread(\"/ysm-gpfs/pi/zhao-data/zy92/GTEx_V8/GTEx_Analysis_2017-06-05_v8_RNASeQCv1.1.9_gene_tpm.gct\")\n",
    "dim(expression_df)"
   ]
  },
  {
   "cell_type": "code",
   "execution_count": 10,
   "metadata": {},
   "outputs": [
    {
     "data": {
      "text/html": [
       "<ol class=list-inline>\n",
       "\t<li>'Name'</li>\n",
       "\t<li>'Description'</li>\n",
       "\t<li>'GTEX-1117F-0226-SM-5GZZ7'</li>\n",
       "\t<li>'GTEX-1117F-0426-SM-5EGHI'</li>\n",
       "\t<li>'GTEX-1117F-0526-SM-5EGHJ'</li>\n",
       "\t<li>'GTEX-1117F-0626-SM-5N9CS'</li>\n",
       "</ol>\n"
      ],
      "text/latex": [
       "\\begin{enumerate*}\n",
       "\\item 'Name'\n",
       "\\item 'Description'\n",
       "\\item 'GTEX-1117F-0226-SM-5GZZ7'\n",
       "\\item 'GTEX-1117F-0426-SM-5EGHI'\n",
       "\\item 'GTEX-1117F-0526-SM-5EGHJ'\n",
       "\\item 'GTEX-1117F-0626-SM-5N9CS'\n",
       "\\end{enumerate*}\n"
      ],
      "text/markdown": [
       "1. 'Name'\n",
       "2. 'Description'\n",
       "3. 'GTEX-1117F-0226-SM-5GZZ7'\n",
       "4. 'GTEX-1117F-0426-SM-5EGHI'\n",
       "5. 'GTEX-1117F-0526-SM-5EGHJ'\n",
       "6. 'GTEX-1117F-0626-SM-5N9CS'\n",
       "\n",
       "\n"
      ],
      "text/plain": [
       "[1] \"Name\"                     \"Description\"             \n",
       "[3] \"GTEX-1117F-0226-SM-5GZZ7\" \"GTEX-1117F-0426-SM-5EGHI\"\n",
       "[5] \"GTEX-1117F-0526-SM-5EGHJ\" \"GTEX-1117F-0626-SM-5N9CS\""
      ]
     },
     "metadata": {},
     "output_type": "display_data"
    }
   ],
   "source": [
    "head(colnames(expression_df))"
   ]
  },
  {
   "cell_type": "code",
   "execution_count": 11,
   "metadata": {},
   "outputs": [],
   "source": [
    "#target_idx <- idx_list[['Whole Blood']] %in% colnames(expression_df)\n",
    "# length(target_idx)\n",
    "# sum(target_idx)\n",
    "# head(target_idx)"
   ]
  },
  {
   "cell_type": "code",
   "execution_count": 12,
   "metadata": {},
   "outputs": [
    {
     "data": {
      "text/html": [
       "<ol class=list-inline>\n",
       "\t<li>56200</li>\n",
       "\t<li>17384</li>\n",
       "</ol>\n"
      ],
      "text/latex": [
       "\\begin{enumerate*}\n",
       "\\item 56200\n",
       "\\item 17384\n",
       "\\end{enumerate*}\n"
      ],
      "text/markdown": [
       "1. 56200\n",
       "2. 17384\n",
       "\n",
       "\n"
      ],
      "text/plain": [
       "[1] 56200 17384"
      ]
     },
     "metadata": {},
     "output_type": "display_data"
    },
    {
     "data": {
      "text/html": [
       "17384"
      ],
      "text/latex": [
       "17384"
      ],
      "text/markdown": [
       "17384"
      ],
      "text/plain": [
       "[1] 17384"
      ]
     },
     "metadata": {},
     "output_type": "display_data"
    }
   ],
   "source": [
    "dim(expression_df)\n",
    "length(colnames(expression_df))"
   ]
  },
  {
   "cell_type": "code",
   "execution_count": 13,
   "metadata": {},
   "outputs": [
    {
     "data": {
      "text/html": [
       "<ol class=list-inline>\n",
       "\t<li>'GTEX-1117F-0003-SM-58Q7G'</li>\n",
       "\t<li>'GTEX-1117F-0003-SM-5DWSB'</li>\n",
       "\t<li>'GTEX-1117F-0003-SM-6WBT7'</li>\n",
       "\t<li>'GTEX-111CU-0003-SM-58Q95'</li>\n",
       "\t<li>'GTEX-111CU-0003-SM-5DWTR'</li>\n",
       "\t<li>'GTEX-111CU-0003-SM-6WBUD'</li>\n",
       "</ol>\n"
      ],
      "text/latex": [
       "\\begin{enumerate*}\n",
       "\\item 'GTEX-1117F-0003-SM-58Q7G'\n",
       "\\item 'GTEX-1117F-0003-SM-5DWSB'\n",
       "\\item 'GTEX-1117F-0003-SM-6WBT7'\n",
       "\\item 'GTEX-111CU-0003-SM-58Q95'\n",
       "\\item 'GTEX-111CU-0003-SM-5DWTR'\n",
       "\\item 'GTEX-111CU-0003-SM-6WBUD'\n",
       "\\end{enumerate*}\n"
      ],
      "text/markdown": [
       "1. 'GTEX-1117F-0003-SM-58Q7G'\n",
       "2. 'GTEX-1117F-0003-SM-5DWSB'\n",
       "3. 'GTEX-1117F-0003-SM-6WBT7'\n",
       "4. 'GTEX-111CU-0003-SM-58Q95'\n",
       "5. 'GTEX-111CU-0003-SM-5DWTR'\n",
       "6. 'GTEX-111CU-0003-SM-6WBUD'\n",
       "\n",
       "\n"
      ],
      "text/plain": [
       "[1] \"GTEX-1117F-0003-SM-58Q7G\" \"GTEX-1117F-0003-SM-5DWSB\"\n",
       "[3] \"GTEX-1117F-0003-SM-6WBT7\" \"GTEX-111CU-0003-SM-58Q95\"\n",
       "[5] \"GTEX-111CU-0003-SM-5DWTR\" \"GTEX-111CU-0003-SM-6WBUD\""
      ]
     },
     "metadata": {},
     "output_type": "display_data"
    }
   ],
   "source": [
    "head(idx_list[['Whole Blood']])"
   ]
  },
  {
   "cell_type": "code",
   "execution_count": 14,
   "metadata": {},
   "outputs": [
    {
     "data": {
      "text/html": [
       "3288"
      ],
      "text/latex": [
       "3288"
      ],
      "text/markdown": [
       "3288"
      ],
      "text/plain": [
       "[1] 3288"
      ]
     },
     "metadata": {},
     "output_type": "display_data"
    },
    {
     "data": {
      "text/html": [
       "3288"
      ],
      "text/latex": [
       "3288"
      ],
      "text/markdown": [
       "3288"
      ],
      "text/plain": [
       "[1] 3288"
      ]
     },
     "metadata": {},
     "output_type": "display_data"
    }
   ],
   "source": [
    "length(idx_list[['Whole Blood']])\n",
    "length(unique(idx_list[['Whole Blood']]))\n",
    "\n"
   ]
  },
  {
   "cell_type": "code",
   "execution_count": 15,
   "metadata": {},
   "outputs": [],
   "source": [
    "tissue <- \"Whole Blood\"\n",
    "header <- colnames(expression_df)\n",
    "target_idx <- match(idx_list[[tissue]], header)\n",
    "target_idx_col <- which(!is.na(target_idx))\n",
    "#target_idx <- target_idx[which(target_idx == T)]\n",
    "#expression_list[[tissue]] <- expression_df[, c(1,2,target_idx)]"
   ]
  },
  {
   "cell_type": "code",
   "execution_count": 16,
   "metadata": {},
   "outputs": [
    {
     "data": {
      "text/html": [
       "<ol class=list-inline>\n",
       "\t<li>16</li>\n",
       "\t<li>20</li>\n",
       "\t<li>24</li>\n",
       "\t<li>28</li>\n",
       "\t<li>32</li>\n",
       "\t<li>36</li>\n",
       "</ol>\n"
      ],
      "text/latex": [
       "\\begin{enumerate*}\n",
       "\\item 16\n",
       "\\item 20\n",
       "\\item 24\n",
       "\\item 28\n",
       "\\item 32\n",
       "\\item 36\n",
       "\\end{enumerate*}\n"
      ],
      "text/markdown": [
       "1. 16\n",
       "2. 20\n",
       "3. 24\n",
       "4. 28\n",
       "5. 32\n",
       "6. 36\n",
       "\n",
       "\n"
      ],
      "text/plain": [
       "[1] 16 20 24 28 32 36"
      ]
     },
     "metadata": {},
     "output_type": "display_data"
    }
   ],
   "source": [
    "head(target_idx_col)"
   ]
  },
  {
   "cell_type": "code",
   "execution_count": 17,
   "metadata": {},
   "outputs": [
    {
     "data": {
      "text/html": [
       "<ol class=list-inline>\n",
       "\t<li>'GTEX-1117F-0003-SM-58Q7G'</li>\n",
       "\t<li>'GTEX-1117F-0003-SM-5DWSB'</li>\n",
       "\t<li>'GTEX-1117F-0003-SM-6WBT7'</li>\n",
       "\t<li>'GTEX-111CU-0003-SM-58Q95'</li>\n",
       "\t<li>'GTEX-111CU-0003-SM-5DWTR'</li>\n",
       "\t<li>'GTEX-111CU-0003-SM-6WBUD'</li>\n",
       "</ol>\n"
      ],
      "text/latex": [
       "\\begin{enumerate*}\n",
       "\\item 'GTEX-1117F-0003-SM-58Q7G'\n",
       "\\item 'GTEX-1117F-0003-SM-5DWSB'\n",
       "\\item 'GTEX-1117F-0003-SM-6WBT7'\n",
       "\\item 'GTEX-111CU-0003-SM-58Q95'\n",
       "\\item 'GTEX-111CU-0003-SM-5DWTR'\n",
       "\\item 'GTEX-111CU-0003-SM-6WBUD'\n",
       "\\end{enumerate*}\n"
      ],
      "text/markdown": [
       "1. 'GTEX-1117F-0003-SM-58Q7G'\n",
       "2. 'GTEX-1117F-0003-SM-5DWSB'\n",
       "3. 'GTEX-1117F-0003-SM-6WBT7'\n",
       "4. 'GTEX-111CU-0003-SM-58Q95'\n",
       "5. 'GTEX-111CU-0003-SM-5DWTR'\n",
       "6. 'GTEX-111CU-0003-SM-6WBUD'\n",
       "\n",
       "\n"
      ],
      "text/plain": [
       "[1] \"GTEX-1117F-0003-SM-58Q7G\" \"GTEX-1117F-0003-SM-5DWSB\"\n",
       "[3] \"GTEX-1117F-0003-SM-6WBT7\" \"GTEX-111CU-0003-SM-58Q95\"\n",
       "[5] \"GTEX-111CU-0003-SM-5DWTR\" \"GTEX-111CU-0003-SM-6WBUD\""
      ]
     },
     "metadata": {},
     "output_type": "display_data"
    }
   ],
   "source": [
    "head(idx_list[[tissue]])"
   ]
  },
  {
   "cell_type": "code",
   "execution_count": 18,
   "metadata": {},
   "outputs": [
    {
     "data": {
      "text/html": [
       "<ol class=list-inline>\n",
       "\t<li>'Name'</li>\n",
       "\t<li>'Description'</li>\n",
       "\t<li>'GTEX-1117F-0226-SM-5GZZ7'</li>\n",
       "\t<li>'GTEX-1117F-0426-SM-5EGHI'</li>\n",
       "\t<li>'GTEX-1117F-0526-SM-5EGHJ'</li>\n",
       "\t<li>'GTEX-1117F-0626-SM-5N9CS'</li>\n",
       "</ol>\n"
      ],
      "text/latex": [
       "\\begin{enumerate*}\n",
       "\\item 'Name'\n",
       "\\item 'Description'\n",
       "\\item 'GTEX-1117F-0226-SM-5GZZ7'\n",
       "\\item 'GTEX-1117F-0426-SM-5EGHI'\n",
       "\\item 'GTEX-1117F-0526-SM-5EGHJ'\n",
       "\\item 'GTEX-1117F-0626-SM-5N9CS'\n",
       "\\end{enumerate*}\n"
      ],
      "text/markdown": [
       "1. 'Name'\n",
       "2. 'Description'\n",
       "3. 'GTEX-1117F-0226-SM-5GZZ7'\n",
       "4. 'GTEX-1117F-0426-SM-5EGHI'\n",
       "5. 'GTEX-1117F-0526-SM-5EGHJ'\n",
       "6. 'GTEX-1117F-0626-SM-5N9CS'\n",
       "\n",
       "\n"
      ],
      "text/plain": [
       "[1] \"Name\"                     \"Description\"             \n",
       "[3] \"GTEX-1117F-0226-SM-5GZZ7\" \"GTEX-1117F-0426-SM-5EGHI\"\n",
       "[5] \"GTEX-1117F-0526-SM-5EGHJ\" \"GTEX-1117F-0626-SM-5N9CS\""
      ]
     },
     "metadata": {},
     "output_type": "display_data"
    }
   ],
   "source": [
    "head(header)"
   ]
  },
  {
   "cell_type": "code",
   "execution_count": 19,
   "metadata": {},
   "outputs": [
    {
     "data": {
      "text/html": [
       "<ol class=list-inline>\n",
       "\t<li>&lt;NA&gt;</li>\n",
       "\t<li>&lt;NA&gt;</li>\n",
       "\t<li>&lt;NA&gt;</li>\n",
       "\t<li>&lt;NA&gt;</li>\n",
       "\t<li>&lt;NA&gt;</li>\n",
       "\t<li>&lt;NA&gt;</li>\n",
       "</ol>\n"
      ],
      "text/latex": [
       "\\begin{enumerate*}\n",
       "\\item <NA>\n",
       "\\item <NA>\n",
       "\\item <NA>\n",
       "\\item <NA>\n",
       "\\item <NA>\n",
       "\\item <NA>\n",
       "\\end{enumerate*}\n"
      ],
      "text/markdown": [
       "1. &lt;NA&gt;\n",
       "2. &lt;NA&gt;\n",
       "3. &lt;NA&gt;\n",
       "4. &lt;NA&gt;\n",
       "5. &lt;NA&gt;\n",
       "6. &lt;NA&gt;\n",
       "\n",
       "\n"
      ],
      "text/plain": [
       "[1] NA NA NA NA NA NA"
      ]
     },
     "metadata": {},
     "output_type": "display_data"
    }
   ],
   "source": [
    "head(target_idx)"
   ]
  },
  {
   "cell_type": "code",
   "execution_count": 20,
   "metadata": {},
   "outputs": [
    {
     "data": {
      "text/html": [
       "3288"
      ],
      "text/latex": [
       "3288"
      ],
      "text/markdown": [
       "3288"
      ],
      "text/plain": [
       "[1] 3288"
      ]
     },
     "metadata": {},
     "output_type": "display_data"
    }
   ],
   "source": [
    "length(target_idx)"
   ]
  },
  {
   "cell_type": "code",
   "execution_count": 21,
   "metadata": {},
   "outputs": [],
   "source": [
    "expression_df <- as.data.frame(expression_df)"
   ]
  },
  {
   "cell_type": "code",
   "execution_count": 22,
   "metadata": {},
   "outputs": [],
   "source": [
    "# extract the tissue-specific expression profile based on the tissue idx\n",
    "tissue_vec <- names(idx_list)\n",
    "expression_list <- list()\n",
    "header <- colnames(expression_df)\n",
    "for (tissue in tissue_vec) {\n",
    "    target_idx <- header %in% idx_list[[tissue]] \n",
    "    #target_idx <- target_idx[which(target_idx == T)]\n",
    "    expression_list[[tissue]] <- expression_df[, target_idx]\n",
    "    expression_list[[tissue]]$Name <- expression_df$Name\n",
    "    expression_list[[tissue]]$Description <- expression_df$Description\n",
    "}"
   ]
  },
  {
   "cell_type": "code",
   "execution_count": 23,
   "metadata": {},
   "outputs": [
    {
     "data": {
      "text/html": [
       "<ol class=list-inline>\n",
       "\t<li>'Name'</li>\n",
       "\t<li>'Description'</li>\n",
       "\t<li>'GTEX-1117F-0226-SM-5GZZ7'</li>\n",
       "\t<li>'GTEX-1117F-0426-SM-5EGHI'</li>\n",
       "\t<li>'GTEX-1117F-0526-SM-5EGHJ'</li>\n",
       "\t<li>'GTEX-1117F-0626-SM-5N9CS'</li>\n",
       "</ol>\n"
      ],
      "text/latex": [
       "\\begin{enumerate*}\n",
       "\\item 'Name'\n",
       "\\item 'Description'\n",
       "\\item 'GTEX-1117F-0226-SM-5GZZ7'\n",
       "\\item 'GTEX-1117F-0426-SM-5EGHI'\n",
       "\\item 'GTEX-1117F-0526-SM-5EGHJ'\n",
       "\\item 'GTEX-1117F-0626-SM-5N9CS'\n",
       "\\end{enumerate*}\n"
      ],
      "text/markdown": [
       "1. 'Name'\n",
       "2. 'Description'\n",
       "3. 'GTEX-1117F-0226-SM-5GZZ7'\n",
       "4. 'GTEX-1117F-0426-SM-5EGHI'\n",
       "5. 'GTEX-1117F-0526-SM-5EGHJ'\n",
       "6. 'GTEX-1117F-0626-SM-5N9CS'\n",
       "\n",
       "\n"
      ],
      "text/plain": [
       "[1] \"Name\"                     \"Description\"             \n",
       "[3] \"GTEX-1117F-0226-SM-5GZZ7\" \"GTEX-1117F-0426-SM-5EGHI\"\n",
       "[5] \"GTEX-1117F-0526-SM-5EGHJ\" \"GTEX-1117F-0626-SM-5N9CS\""
      ]
     },
     "metadata": {},
     "output_type": "display_data"
    }
   ],
   "source": [
    "head(header)"
   ]
  },
  {
   "cell_type": "code",
   "execution_count": 24,
   "metadata": {},
   "outputs": [
    {
     "data": {
      "text/html": [
       "'/gpfs/ysm/project/zhao/zy92/utmost_update/code/R'"
      ],
      "text/latex": [
       "'/gpfs/ysm/project/zhao/zy92/utmost\\_update/code/R'"
      ],
      "text/markdown": [
       "'/gpfs/ysm/project/zhao/zy92/utmost_update/code/R'"
      ],
      "text/plain": [
       "[1] \"/gpfs/ysm/project/zhao/zy92/utmost_update/code/R\""
      ]
     },
     "metadata": {},
     "output_type": "display_data"
    }
   ],
   "source": [
    "getwd()"
   ]
  },
  {
   "cell_type": "code",
   "execution_count": 25,
   "metadata": {},
   "outputs": [],
   "source": [
    "# /home/fas/radev/zy92/project/utmost_update/GTEX\n",
    "#save(expression_list, expression_df, file = \"/ysm-gpfs/pi/zhao/zy92/projects/utmost_update/GTEX/expression_list_target.RData\")\n",
    "save(expression_list, expression_df, file = \"/gpfs/loomis/project/radev/zy92/utmost_update/GTEX/expression_list_target.RData\")"
   ]
  },
  {
   "cell_type": "code",
   "execution_count": 26,
   "metadata": {},
   "outputs": [
    {
     "data": {
      "text/html": [
       "<ol class=list-inline>\n",
       "\t<li>56200</li>\n",
       "\t<li>757</li>\n",
       "</ol>\n"
      ],
      "text/latex": [
       "\\begin{enumerate*}\n",
       "\\item 56200\n",
       "\\item 757\n",
       "\\end{enumerate*}\n"
      ],
      "text/markdown": [
       "1. 56200\n",
       "2. 757\n",
       "\n",
       "\n"
      ],
      "text/plain": [
       "[1] 56200   757"
      ]
     },
     "metadata": {},
     "output_type": "display_data"
    }
   ],
   "source": [
    "dim(expression_list[['Whole Blood']])"
   ]
  },
  {
   "cell_type": "code",
   "execution_count": 27,
   "metadata": {},
   "outputs": [
    {
     "data": {
      "text/html": [
       "'gene_info_target'"
      ],
      "text/latex": [
       "'gene\\_info\\_target'"
      ],
      "text/markdown": [
       "'gene_info_target'"
      ],
      "text/plain": [
       "[1] \"gene_info_target\""
      ]
     },
     "metadata": {},
     "output_type": "display_data"
    }
   ],
   "source": [
    "ln3 <- load(\"/ysm-gpfs/pi/zhao/zy92/projects/utmost_update/GTEX/gene_info_target.RData\")\n",
    "ln3"
   ]
  },
  {
   "cell_type": "code",
   "execution_count": 28,
   "metadata": {},
   "outputs": [
    {
     "data": {
      "text/html": [
       "'data.frame'"
      ],
      "text/latex": [
       "'data.frame'"
      ],
      "text/markdown": [
       "'data.frame'"
      ],
      "text/plain": [
       "[1] \"data.frame\""
      ]
     },
     "metadata": {},
     "output_type": "display_data"
    }
   ],
   "source": [
    "class(gene_info_target)"
   ]
  },
  {
   "cell_type": "code",
   "execution_count": 29,
   "metadata": {},
   "outputs": [
    {
     "data": {
      "text/html": [
       "<table>\n",
       "<caption>A data.frame: 27208 × 4</caption>\n",
       "<thead>\n",
       "\t<tr><th scope=col>ensembl_gene_id</th><th scope=col>hgnc_symbol</th><th scope=col>chromosome_name</th><th scope=col>transcript_biotype</th></tr>\n",
       "\t<tr><th scope=col>&lt;chr&gt;</th><th scope=col>&lt;chr&gt;</th><th scope=col>&lt;chr&gt;</th><th scope=col>&lt;chr&gt;</th></tr>\n",
       "</thead>\n",
       "<tbody>\n",
       "\t<tr><td>ENSG00000228229</td><td>        </td><td>1</td><td>lincRNA       </td></tr>\n",
       "\t<tr><td>ENSG00000237445</td><td>        </td><td>1</td><td>lincRNA       </td></tr>\n",
       "\t<tr><td>ENSG00000231606</td><td>        </td><td>1</td><td>lincRNA       </td></tr>\n",
       "\t<tr><td>ENSG00000234593</td><td>        </td><td>1</td><td>lincRNA       </td></tr>\n",
       "\t<tr><td>ENSG00000228140</td><td>        </td><td>1</td><td>lincRNA       </td></tr>\n",
       "\t<tr><td>ENSG00000186092</td><td>OR4F5   </td><td>1</td><td>protein_coding</td></tr>\n",
       "\t<tr><td>ENSG00000187634</td><td>SAMD11  </td><td>1</td><td>protein_coding</td></tr>\n",
       "\t<tr><td>ENSG00000188976</td><td>NOC2L   </td><td>1</td><td>protein_coding</td></tr>\n",
       "\t<tr><td>ENSG00000187961</td><td>KLHL17  </td><td>1</td><td>protein_coding</td></tr>\n",
       "\t<tr><td>ENSG00000187583</td><td>PLEKHN1 </td><td>1</td><td>protein_coding</td></tr>\n",
       "\t<tr><td>ENSG00000187642</td><td>C1orf170</td><td>1</td><td>protein_coding</td></tr>\n",
       "\t<tr><td>ENSG00000188290</td><td>HES4    </td><td>1</td><td>protein_coding</td></tr>\n",
       "\t<tr><td>ENSG00000187608</td><td>ISG15   </td><td>1</td><td>protein_coding</td></tr>\n",
       "\t<tr><td>ENSG00000188157</td><td>AGRN    </td><td>1</td><td>protein_coding</td></tr>\n",
       "\t<tr><td>ENSG00000237330</td><td>RNF223  </td><td>1</td><td>protein_coding</td></tr>\n",
       "\t<tr><td>ENSG00000131591</td><td>C1orf159</td><td>1</td><td>protein_coding</td></tr>\n",
       "\t<tr><td>ENSG00000162571</td><td>TTLL10  </td><td>1</td><td>protein_coding</td></tr>\n",
       "\t<tr><td>ENSG00000186891</td><td>TNFRSF18</td><td>1</td><td>protein_coding</td></tr>\n",
       "\t<tr><td>ENSG00000186827</td><td>TNFRSF4 </td><td>1</td><td>protein_coding</td></tr>\n",
       "\t<tr><td>ENSG00000078808</td><td>SDF4    </td><td>1</td><td>protein_coding</td></tr>\n",
       "\t<tr><td>ENSG00000176022</td><td>B3GALT6 </td><td>1</td><td>protein_coding</td></tr>\n",
       "\t<tr><td>ENSG00000184163</td><td>FAM132A </td><td>1</td><td>protein_coding</td></tr>\n",
       "\t<tr><td>ENSG00000160087</td><td>UBE2J2  </td><td>1</td><td>protein_coding</td></tr>\n",
       "\t<tr><td>ENSG00000162572</td><td>SCNN1D  </td><td>1</td><td>protein_coding</td></tr>\n",
       "\t<tr><td>ENSG00000131584</td><td>ACAP3   </td><td>1</td><td>protein_coding</td></tr>\n",
       "\t<tr><td>ENSG00000169972</td><td>PUSL1   </td><td>1</td><td>protein_coding</td></tr>\n",
       "\t<tr><td>ENSG00000127054</td><td>CPSF3L  </td><td>1</td><td>protein_coding</td></tr>\n",
       "\t<tr><td>ENSG00000224051</td><td>GLTPD1  </td><td>1</td><td>protein_coding</td></tr>\n",
       "\t<tr><td>ENSG00000169962</td><td>TAS1R3  </td><td>1</td><td>protein_coding</td></tr>\n",
       "\t<tr><td>ENSG00000107404</td><td>DVL1    </td><td>1</td><td>protein_coding</td></tr>\n",
       "\t<tr><td>⋮</td><td>⋮</td><td>⋮</td><td>⋮</td></tr>\n",
       "\t<tr><td>ENSG00000215560</td><td>TTTY5       </td><td>Y</td><td>lincRNA       </td></tr>\n",
       "\t<tr><td>ENSG00000235059</td><td>            </td><td>Y</td><td>lincRNA       </td></tr>\n",
       "\t<tr><td>ENSG00000131538</td><td>TTTY6       </td><td>Y</td><td>lincRNA       </td></tr>\n",
       "\t<tr><td>ENSG00000228240</td><td>TTTY17A     </td><td>Y</td><td>lincRNA       </td></tr>\n",
       "\t<tr><td>ENSG00000226906</td><td>TTTY4       </td><td>Y</td><td>lincRNA       </td></tr>\n",
       "\t<tr><td>ENSG00000198692</td><td>EIF1AY      </td><td>Y</td><td>protein_coding</td></tr>\n",
       "\t<tr><td>ENSG00000183146</td><td>CYorf17     </td><td>Y</td><td>protein_coding</td></tr>\n",
       "\t<tr><td>ENSG00000242875</td><td>RBMY1B      </td><td>Y</td><td>protein_coding</td></tr>\n",
       "\t<tr><td>ENSG00000234414</td><td>RBMY1A1     </td><td>Y</td><td>protein_coding</td></tr>\n",
       "\t<tr><td>ENSG00000233864</td><td>TTTY15      </td><td>Y</td><td>lincRNA       </td></tr>\n",
       "\t<tr><td>ENSG00000242389</td><td>RBMY1E      </td><td>Y</td><td>protein_coding</td></tr>\n",
       "\t<tr><td>ENSG00000239533</td><td>GOLGA2P2Y   </td><td>Y</td><td>miRNA         </td></tr>\n",
       "\t<tr><td>ENSG00000227439</td><td>TTTY17B     </td><td>Y</td><td>lincRNA       </td></tr>\n",
       "\t<tr><td>ENSG00000235412</td><td>TTTY4B      </td><td>Y</td><td>lincRNA       </td></tr>\n",
       "\t<tr><td>ENSG00000223517</td><td>            </td><td>Y</td><td>lincRNA       </td></tr>\n",
       "\t<tr><td>ENSG00000228296</td><td>TTTY4C      </td><td>Y</td><td>lincRNA       </td></tr>\n",
       "\t<tr><td>ENSG00000223641</td><td>TTTY17C     </td><td>Y</td><td>lincRNA       </td></tr>\n",
       "\t<tr><td>ENSG00000228786</td><td>LINC00266-4P</td><td>Y</td><td>lincRNA       </td></tr>\n",
       "\t<tr><td>ENSG00000244395</td><td>RBMY1D      </td><td>Y</td><td>protein_coding</td></tr>\n",
       "\t<tr><td>ENSG00000169807</td><td>PRY2        </td><td>Y</td><td>protein_coding</td></tr>\n",
       "\t<tr><td>ENSG00000169800</td><td>RBMY1F      </td><td>Y</td><td>protein_coding</td></tr>\n",
       "\t<tr><td>ENSG00000231141</td><td>TTTY3       </td><td>Y</td><td>lincRNA       </td></tr>\n",
       "\t<tr><td>ENSG00000226941</td><td>RBMY1J      </td><td>Y</td><td>protein_coding</td></tr>\n",
       "\t<tr><td>ENSG00000169789</td><td>PRY         </td><td>Y</td><td>protein_coding</td></tr>\n",
       "\t<tr><td>ENSG00000183753</td><td>BPY2        </td><td>Y</td><td>protein_coding</td></tr>\n",
       "\t<tr><td>ENSG00000188120</td><td>DAZ1        </td><td>Y</td><td>protein_coding</td></tr>\n",
       "\t<tr><td>ENSG00000205944</td><td>DAZ2        </td><td>Y</td><td>protein_coding</td></tr>\n",
       "\t<tr><td>ENSG00000168939</td><td>SPRY3       </td><td>X</td><td>protein_coding</td></tr>\n",
       "\t<tr><td>ENSG00000124333</td><td>VAMP7       </td><td>X</td><td>protein_coding</td></tr>\n",
       "\t<tr><td>ENSG00000124334</td><td>IL9R        </td><td>X</td><td>protein_coding</td></tr>\n",
       "</tbody>\n",
       "</table>\n"
      ],
      "text/latex": [
       "A data.frame: 27208 × 4\n",
       "\\begin{tabular}{r|llll}\n",
       " ensembl\\_gene\\_id & hgnc\\_symbol & chromosome\\_name & transcript\\_biotype\\\\\n",
       " <chr> & <chr> & <chr> & <chr>\\\\\n",
       "\\hline\n",
       "\t ENSG00000228229 &          & 1 & lincRNA       \\\\\n",
       "\t ENSG00000237445 &          & 1 & lincRNA       \\\\\n",
       "\t ENSG00000231606 &          & 1 & lincRNA       \\\\\n",
       "\t ENSG00000234593 &          & 1 & lincRNA       \\\\\n",
       "\t ENSG00000228140 &          & 1 & lincRNA       \\\\\n",
       "\t ENSG00000186092 & OR4F5    & 1 & protein\\_coding\\\\\n",
       "\t ENSG00000187634 & SAMD11   & 1 & protein\\_coding\\\\\n",
       "\t ENSG00000188976 & NOC2L    & 1 & protein\\_coding\\\\\n",
       "\t ENSG00000187961 & KLHL17   & 1 & protein\\_coding\\\\\n",
       "\t ENSG00000187583 & PLEKHN1  & 1 & protein\\_coding\\\\\n",
       "\t ENSG00000187642 & C1orf170 & 1 & protein\\_coding\\\\\n",
       "\t ENSG00000188290 & HES4     & 1 & protein\\_coding\\\\\n",
       "\t ENSG00000187608 & ISG15    & 1 & protein\\_coding\\\\\n",
       "\t ENSG00000188157 & AGRN     & 1 & protein\\_coding\\\\\n",
       "\t ENSG00000237330 & RNF223   & 1 & protein\\_coding\\\\\n",
       "\t ENSG00000131591 & C1orf159 & 1 & protein\\_coding\\\\\n",
       "\t ENSG00000162571 & TTLL10   & 1 & protein\\_coding\\\\\n",
       "\t ENSG00000186891 & TNFRSF18 & 1 & protein\\_coding\\\\\n",
       "\t ENSG00000186827 & TNFRSF4  & 1 & protein\\_coding\\\\\n",
       "\t ENSG00000078808 & SDF4     & 1 & protein\\_coding\\\\\n",
       "\t ENSG00000176022 & B3GALT6  & 1 & protein\\_coding\\\\\n",
       "\t ENSG00000184163 & FAM132A  & 1 & protein\\_coding\\\\\n",
       "\t ENSG00000160087 & UBE2J2   & 1 & protein\\_coding\\\\\n",
       "\t ENSG00000162572 & SCNN1D   & 1 & protein\\_coding\\\\\n",
       "\t ENSG00000131584 & ACAP3    & 1 & protein\\_coding\\\\\n",
       "\t ENSG00000169972 & PUSL1    & 1 & protein\\_coding\\\\\n",
       "\t ENSG00000127054 & CPSF3L   & 1 & protein\\_coding\\\\\n",
       "\t ENSG00000224051 & GLTPD1   & 1 & protein\\_coding\\\\\n",
       "\t ENSG00000169962 & TAS1R3   & 1 & protein\\_coding\\\\\n",
       "\t ENSG00000107404 & DVL1     & 1 & protein\\_coding\\\\\n",
       "\t ⋮ & ⋮ & ⋮ & ⋮\\\\\n",
       "\t ENSG00000215560 & TTTY5        & Y & lincRNA       \\\\\n",
       "\t ENSG00000235059 &              & Y & lincRNA       \\\\\n",
       "\t ENSG00000131538 & TTTY6        & Y & lincRNA       \\\\\n",
       "\t ENSG00000228240 & TTTY17A      & Y & lincRNA       \\\\\n",
       "\t ENSG00000226906 & TTTY4        & Y & lincRNA       \\\\\n",
       "\t ENSG00000198692 & EIF1AY       & Y & protein\\_coding\\\\\n",
       "\t ENSG00000183146 & CYorf17      & Y & protein\\_coding\\\\\n",
       "\t ENSG00000242875 & RBMY1B       & Y & protein\\_coding\\\\\n",
       "\t ENSG00000234414 & RBMY1A1      & Y & protein\\_coding\\\\\n",
       "\t ENSG00000233864 & TTTY15       & Y & lincRNA       \\\\\n",
       "\t ENSG00000242389 & RBMY1E       & Y & protein\\_coding\\\\\n",
       "\t ENSG00000239533 & GOLGA2P2Y    & Y & miRNA         \\\\\n",
       "\t ENSG00000227439 & TTTY17B      & Y & lincRNA       \\\\\n",
       "\t ENSG00000235412 & TTTY4B       & Y & lincRNA       \\\\\n",
       "\t ENSG00000223517 &              & Y & lincRNA       \\\\\n",
       "\t ENSG00000228296 & TTTY4C       & Y & lincRNA       \\\\\n",
       "\t ENSG00000223641 & TTTY17C      & Y & lincRNA       \\\\\n",
       "\t ENSG00000228786 & LINC00266-4P & Y & lincRNA       \\\\\n",
       "\t ENSG00000244395 & RBMY1D       & Y & protein\\_coding\\\\\n",
       "\t ENSG00000169807 & PRY2         & Y & protein\\_coding\\\\\n",
       "\t ENSG00000169800 & RBMY1F       & Y & protein\\_coding\\\\\n",
       "\t ENSG00000231141 & TTTY3        & Y & lincRNA       \\\\\n",
       "\t ENSG00000226941 & RBMY1J       & Y & protein\\_coding\\\\\n",
       "\t ENSG00000169789 & PRY          & Y & protein\\_coding\\\\\n",
       "\t ENSG00000183753 & BPY2         & Y & protein\\_coding\\\\\n",
       "\t ENSG00000188120 & DAZ1         & Y & protein\\_coding\\\\\n",
       "\t ENSG00000205944 & DAZ2         & Y & protein\\_coding\\\\\n",
       "\t ENSG00000168939 & SPRY3        & X & protein\\_coding\\\\\n",
       "\t ENSG00000124333 & VAMP7        & X & protein\\_coding\\\\\n",
       "\t ENSG00000124334 & IL9R         & X & protein\\_coding\\\\\n",
       "\\end{tabular}\n"
      ],
      "text/markdown": [
       "\n",
       "A data.frame: 27208 × 4\n",
       "\n",
       "| ensembl_gene_id &lt;chr&gt; | hgnc_symbol &lt;chr&gt; | chromosome_name &lt;chr&gt; | transcript_biotype &lt;chr&gt; |\n",
       "|---|---|---|---|\n",
       "| ENSG00000228229 | <!----> | 1 | lincRNA        |\n",
       "| ENSG00000237445 | <!----> | 1 | lincRNA        |\n",
       "| ENSG00000231606 | <!----> | 1 | lincRNA        |\n",
       "| ENSG00000234593 | <!----> | 1 | lincRNA        |\n",
       "| ENSG00000228140 | <!----> | 1 | lincRNA        |\n",
       "| ENSG00000186092 | OR4F5    | 1 | protein_coding |\n",
       "| ENSG00000187634 | SAMD11   | 1 | protein_coding |\n",
       "| ENSG00000188976 | NOC2L    | 1 | protein_coding |\n",
       "| ENSG00000187961 | KLHL17   | 1 | protein_coding |\n",
       "| ENSG00000187583 | PLEKHN1  | 1 | protein_coding |\n",
       "| ENSG00000187642 | C1orf170 | 1 | protein_coding |\n",
       "| ENSG00000188290 | HES4     | 1 | protein_coding |\n",
       "| ENSG00000187608 | ISG15    | 1 | protein_coding |\n",
       "| ENSG00000188157 | AGRN     | 1 | protein_coding |\n",
       "| ENSG00000237330 | RNF223   | 1 | protein_coding |\n",
       "| ENSG00000131591 | C1orf159 | 1 | protein_coding |\n",
       "| ENSG00000162571 | TTLL10   | 1 | protein_coding |\n",
       "| ENSG00000186891 | TNFRSF18 | 1 | protein_coding |\n",
       "| ENSG00000186827 | TNFRSF4  | 1 | protein_coding |\n",
       "| ENSG00000078808 | SDF4     | 1 | protein_coding |\n",
       "| ENSG00000176022 | B3GALT6  | 1 | protein_coding |\n",
       "| ENSG00000184163 | FAM132A  | 1 | protein_coding |\n",
       "| ENSG00000160087 | UBE2J2   | 1 | protein_coding |\n",
       "| ENSG00000162572 | SCNN1D   | 1 | protein_coding |\n",
       "| ENSG00000131584 | ACAP3    | 1 | protein_coding |\n",
       "| ENSG00000169972 | PUSL1    | 1 | protein_coding |\n",
       "| ENSG00000127054 | CPSF3L   | 1 | protein_coding |\n",
       "| ENSG00000224051 | GLTPD1   | 1 | protein_coding |\n",
       "| ENSG00000169962 | TAS1R3   | 1 | protein_coding |\n",
       "| ENSG00000107404 | DVL1     | 1 | protein_coding |\n",
       "| ⋮ | ⋮ | ⋮ | ⋮ |\n",
       "| ENSG00000215560 | TTTY5        | Y | lincRNA        |\n",
       "| ENSG00000235059 | <!----> | Y | lincRNA        |\n",
       "| ENSG00000131538 | TTTY6        | Y | lincRNA        |\n",
       "| ENSG00000228240 | TTTY17A      | Y | lincRNA        |\n",
       "| ENSG00000226906 | TTTY4        | Y | lincRNA        |\n",
       "| ENSG00000198692 | EIF1AY       | Y | protein_coding |\n",
       "| ENSG00000183146 | CYorf17      | Y | protein_coding |\n",
       "| ENSG00000242875 | RBMY1B       | Y | protein_coding |\n",
       "| ENSG00000234414 | RBMY1A1      | Y | protein_coding |\n",
       "| ENSG00000233864 | TTTY15       | Y | lincRNA        |\n",
       "| ENSG00000242389 | RBMY1E       | Y | protein_coding |\n",
       "| ENSG00000239533 | GOLGA2P2Y    | Y | miRNA          |\n",
       "| ENSG00000227439 | TTTY17B      | Y | lincRNA        |\n",
       "| ENSG00000235412 | TTTY4B       | Y | lincRNA        |\n",
       "| ENSG00000223517 | <!----> | Y | lincRNA        |\n",
       "| ENSG00000228296 | TTTY4C       | Y | lincRNA        |\n",
       "| ENSG00000223641 | TTTY17C      | Y | lincRNA        |\n",
       "| ENSG00000228786 | LINC00266-4P | Y | lincRNA        |\n",
       "| ENSG00000244395 | RBMY1D       | Y | protein_coding |\n",
       "| ENSG00000169807 | PRY2         | Y | protein_coding |\n",
       "| ENSG00000169800 | RBMY1F       | Y | protein_coding |\n",
       "| ENSG00000231141 | TTTY3        | Y | lincRNA        |\n",
       "| ENSG00000226941 | RBMY1J       | Y | protein_coding |\n",
       "| ENSG00000169789 | PRY          | Y | protein_coding |\n",
       "| ENSG00000183753 | BPY2         | Y | protein_coding |\n",
       "| ENSG00000188120 | DAZ1         | Y | protein_coding |\n",
       "| ENSG00000205944 | DAZ2         | Y | protein_coding |\n",
       "| ENSG00000168939 | SPRY3        | X | protein_coding |\n",
       "| ENSG00000124333 | VAMP7        | X | protein_coding |\n",
       "| ENSG00000124334 | IL9R         | X | protein_coding |\n",
       "\n"
      ],
      "text/plain": [
       "      ensembl_gene_id hgnc_symbol  chromosome_name transcript_biotype\n",
       "1     ENSG00000228229              1               lincRNA           \n",
       "2     ENSG00000237445              1               lincRNA           \n",
       "3     ENSG00000231606              1               lincRNA           \n",
       "4     ENSG00000234593              1               lincRNA           \n",
       "5     ENSG00000228140              1               lincRNA           \n",
       "6     ENSG00000186092 OR4F5        1               protein_coding    \n",
       "7     ENSG00000187634 SAMD11       1               protein_coding    \n",
       "8     ENSG00000188976 NOC2L        1               protein_coding    \n",
       "9     ENSG00000187961 KLHL17       1               protein_coding    \n",
       "10    ENSG00000187583 PLEKHN1      1               protein_coding    \n",
       "11    ENSG00000187642 C1orf170     1               protein_coding    \n",
       "12    ENSG00000188290 HES4         1               protein_coding    \n",
       "13    ENSG00000187608 ISG15        1               protein_coding    \n",
       "14    ENSG00000188157 AGRN         1               protein_coding    \n",
       "15    ENSG00000237330 RNF223       1               protein_coding    \n",
       "16    ENSG00000131591 C1orf159     1               protein_coding    \n",
       "17    ENSG00000162571 TTLL10       1               protein_coding    \n",
       "18    ENSG00000186891 TNFRSF18     1               protein_coding    \n",
       "19    ENSG00000186827 TNFRSF4      1               protein_coding    \n",
       "20    ENSG00000078808 SDF4         1               protein_coding    \n",
       "21    ENSG00000176022 B3GALT6      1               protein_coding    \n",
       "22    ENSG00000184163 FAM132A      1               protein_coding    \n",
       "23    ENSG00000160087 UBE2J2       1               protein_coding    \n",
       "24    ENSG00000162572 SCNN1D       1               protein_coding    \n",
       "25    ENSG00000131584 ACAP3        1               protein_coding    \n",
       "26    ENSG00000169972 PUSL1        1               protein_coding    \n",
       "27    ENSG00000127054 CPSF3L       1               protein_coding    \n",
       "28    ENSG00000224051 GLTPD1       1               protein_coding    \n",
       "29    ENSG00000169962 TAS1R3       1               protein_coding    \n",
       "30    ENSG00000107404 DVL1         1               protein_coding    \n",
       "⋮     ⋮               ⋮            ⋮               ⋮                 \n",
       "27179 ENSG00000215560 TTTY5        Y               lincRNA           \n",
       "27180 ENSG00000235059              Y               lincRNA           \n",
       "27181 ENSG00000131538 TTTY6        Y               lincRNA           \n",
       "27182 ENSG00000228240 TTTY17A      Y               lincRNA           \n",
       "27183 ENSG00000226906 TTTY4        Y               lincRNA           \n",
       "27184 ENSG00000198692 EIF1AY       Y               protein_coding    \n",
       "27185 ENSG00000183146 CYorf17      Y               protein_coding    \n",
       "27186 ENSG00000242875 RBMY1B       Y               protein_coding    \n",
       "27187 ENSG00000234414 RBMY1A1      Y               protein_coding    \n",
       "27188 ENSG00000233864 TTTY15       Y               lincRNA           \n",
       "27189 ENSG00000242389 RBMY1E       Y               protein_coding    \n",
       "27190 ENSG00000239533 GOLGA2P2Y    Y               miRNA             \n",
       "27191 ENSG00000227439 TTTY17B      Y               lincRNA           \n",
       "27192 ENSG00000235412 TTTY4B       Y               lincRNA           \n",
       "27193 ENSG00000223517              Y               lincRNA           \n",
       "27194 ENSG00000228296 TTTY4C       Y               lincRNA           \n",
       "27195 ENSG00000223641 TTTY17C      Y               lincRNA           \n",
       "27196 ENSG00000228786 LINC00266-4P Y               lincRNA           \n",
       "27197 ENSG00000244395 RBMY1D       Y               protein_coding    \n",
       "27198 ENSG00000169807 PRY2         Y               protein_coding    \n",
       "27199 ENSG00000169800 RBMY1F       Y               protein_coding    \n",
       "27200 ENSG00000231141 TTTY3        Y               lincRNA           \n",
       "27201 ENSG00000226941 RBMY1J       Y               protein_coding    \n",
       "27202 ENSG00000169789 PRY          Y               protein_coding    \n",
       "27203 ENSG00000183753 BPY2         Y               protein_coding    \n",
       "27204 ENSG00000188120 DAZ1         Y               protein_coding    \n",
       "27205 ENSG00000205944 DAZ2         Y               protein_coding    \n",
       "27206 ENSG00000168939 SPRY3        X               protein_coding    \n",
       "27207 ENSG00000124333 VAMP7        X               protein_coding    \n",
       "27208 ENSG00000124334 IL9R         X               protein_coding    "
      ]
     },
     "metadata": {},
     "output_type": "display_data"
    }
   ],
   "source": [
    "gene_info_target"
   ]
  },
  {
   "cell_type": "code",
   "execution_count": 30,
   "metadata": {},
   "outputs": [],
   "source": [
    "expression_df_target <- expression_df %>% \n",
    "    filter(Name %in% UQ(gene_info_target$ensembl_gene_id))"
   ]
  },
  {
   "cell_type": "code",
   "execution_count": 31,
   "metadata": {},
   "outputs": [
    {
     "data": {
      "text/html": [
       "<ol class=list-inline>\n",
       "\t<li>'ENSG00000228229'</li>\n",
       "\t<li>'ENSG00000237445'</li>\n",
       "\t<li>'ENSG00000231606'</li>\n",
       "\t<li>'ENSG00000234593'</li>\n",
       "\t<li>'ENSG00000228140'</li>\n",
       "\t<li>'ENSG00000186092'</li>\n",
       "</ol>\n"
      ],
      "text/latex": [
       "\\begin{enumerate*}\n",
       "\\item 'ENSG00000228229'\n",
       "\\item 'ENSG00000237445'\n",
       "\\item 'ENSG00000231606'\n",
       "\\item 'ENSG00000234593'\n",
       "\\item 'ENSG00000228140'\n",
       "\\item 'ENSG00000186092'\n",
       "\\end{enumerate*}\n"
      ],
      "text/markdown": [
       "1. 'ENSG00000228229'\n",
       "2. 'ENSG00000237445'\n",
       "3. 'ENSG00000231606'\n",
       "4. 'ENSG00000234593'\n",
       "5. 'ENSG00000228140'\n",
       "6. 'ENSG00000186092'\n",
       "\n",
       "\n"
      ],
      "text/plain": [
       "[1] \"ENSG00000228229\" \"ENSG00000237445\" \"ENSG00000231606\" \"ENSG00000234593\"\n",
       "[5] \"ENSG00000228140\" \"ENSG00000186092\""
      ]
     },
     "metadata": {},
     "output_type": "display_data"
    }
   ],
   "source": [
    "head(gene_info_target$ensembl_gene_id)"
   ]
  },
  {
   "cell_type": "code",
   "execution_count": 32,
   "metadata": {},
   "outputs": [
    {
     "data": {
      "text/html": [
       "<ol class=list-inline>\n",
       "\t<li>56200</li>\n",
       "\t<li>17384</li>\n",
       "</ol>\n"
      ],
      "text/latex": [
       "\\begin{enumerate*}\n",
       "\\item 56200\n",
       "\\item 17384\n",
       "\\end{enumerate*}\n"
      ],
      "text/markdown": [
       "1. 56200\n",
       "2. 17384\n",
       "\n",
       "\n"
      ],
      "text/plain": [
       "[1] 56200 17384"
      ]
     },
     "metadata": {},
     "output_type": "display_data"
    }
   ],
   "source": [
    "dim(expression_df)"
   ]
  },
  {
   "cell_type": "code",
   "execution_count": 33,
   "metadata": {},
   "outputs": [
    {
     "data": {
      "text/html": [
       "'data.frame'"
      ],
      "text/latex": [
       "'data.frame'"
      ],
      "text/markdown": [
       "'data.frame'"
      ],
      "text/plain": [
       "[1] \"data.frame\""
      ]
     },
     "metadata": {},
     "output_type": "display_data"
    }
   ],
   "source": [
    "class(expression_df)"
   ]
  },
  {
   "cell_type": "code",
   "execution_count": 34,
   "metadata": {},
   "outputs": [
    {
     "data": {
      "text/html": [
       "<table>\n",
       "<caption>A data.frame: 6 × 6</caption>\n",
       "<thead>\n",
       "\t<tr><th scope=col>Name</th><th scope=col>Description</th><th scope=col>GTEX-1117F-0226-SM-5GZZ7</th><th scope=col>GTEX-1117F-0426-SM-5EGHI</th><th scope=col>GTEX-1117F-0526-SM-5EGHJ</th><th scope=col>GTEX-1117F-0626-SM-5N9CS</th></tr>\n",
       "\t<tr><th scope=col>&lt;chr&gt;</th><th scope=col>&lt;chr&gt;</th><th scope=col>&lt;dbl&gt;</th><th scope=col>&lt;dbl&gt;</th><th scope=col>&lt;dbl&gt;</th><th scope=col>&lt;dbl&gt;</th></tr>\n",
       "</thead>\n",
       "<tbody>\n",
       "\t<tr><td>ENSG00000223972.5</td><td>DDX11L1    </td><td>0.00000</td><td>0.000</td><td>0.000</td><td> 0.00000</td></tr>\n",
       "\t<tr><td>ENSG00000227232.5</td><td>WASH7P     </td><td>8.76400</td><td>3.861</td><td>7.349</td><td>11.07000</td></tr>\n",
       "\t<tr><td>ENSG00000278267.1</td><td>MIR6859-1  </td><td>0.00000</td><td>0.000</td><td>1.004</td><td> 0.00000</td></tr>\n",
       "\t<tr><td>ENSG00000243485.5</td><td>MIR1302-2HG</td><td>0.07187</td><td>0.000</td><td>0.000</td><td> 0.06761</td></tr>\n",
       "\t<tr><td>ENSG00000237613.2</td><td>FAM138A    </td><td>0.00000</td><td>0.000</td><td>0.000</td><td> 0.00000</td></tr>\n",
       "\t<tr><td>ENSG00000268020.3</td><td>OR4G4P     </td><td>0.00000</td><td>0.056</td><td>0.000</td><td> 0.00000</td></tr>\n",
       "</tbody>\n",
       "</table>\n"
      ],
      "text/latex": [
       "A data.frame: 6 × 6\n",
       "\\begin{tabular}{r|llllll}\n",
       " Name & Description & GTEX-1117F-0226-SM-5GZZ7 & GTEX-1117F-0426-SM-5EGHI & GTEX-1117F-0526-SM-5EGHJ & GTEX-1117F-0626-SM-5N9CS\\\\\n",
       " <chr> & <chr> & <dbl> & <dbl> & <dbl> & <dbl>\\\\\n",
       "\\hline\n",
       "\t ENSG00000223972.5 & DDX11L1     & 0.00000 & 0.000 & 0.000 &  0.00000\\\\\n",
       "\t ENSG00000227232.5 & WASH7P      & 8.76400 & 3.861 & 7.349 & 11.07000\\\\\n",
       "\t ENSG00000278267.1 & MIR6859-1   & 0.00000 & 0.000 & 1.004 &  0.00000\\\\\n",
       "\t ENSG00000243485.5 & MIR1302-2HG & 0.07187 & 0.000 & 0.000 &  0.06761\\\\\n",
       "\t ENSG00000237613.2 & FAM138A     & 0.00000 & 0.000 & 0.000 &  0.00000\\\\\n",
       "\t ENSG00000268020.3 & OR4G4P      & 0.00000 & 0.056 & 0.000 &  0.00000\\\\\n",
       "\\end{tabular}\n"
      ],
      "text/markdown": [
       "\n",
       "A data.frame: 6 × 6\n",
       "\n",
       "| Name &lt;chr&gt; | Description &lt;chr&gt; | GTEX-1117F-0226-SM-5GZZ7 &lt;dbl&gt; | GTEX-1117F-0426-SM-5EGHI &lt;dbl&gt; | GTEX-1117F-0526-SM-5EGHJ &lt;dbl&gt; | GTEX-1117F-0626-SM-5N9CS &lt;dbl&gt; |\n",
       "|---|---|---|---|---|---|\n",
       "| ENSG00000223972.5 | DDX11L1     | 0.00000 | 0.000 | 0.000 |  0.00000 |\n",
       "| ENSG00000227232.5 | WASH7P      | 8.76400 | 3.861 | 7.349 | 11.07000 |\n",
       "| ENSG00000278267.1 | MIR6859-1   | 0.00000 | 0.000 | 1.004 |  0.00000 |\n",
       "| ENSG00000243485.5 | MIR1302-2HG | 0.07187 | 0.000 | 0.000 |  0.06761 |\n",
       "| ENSG00000237613.2 | FAM138A     | 0.00000 | 0.000 | 0.000 |  0.00000 |\n",
       "| ENSG00000268020.3 | OR4G4P      | 0.00000 | 0.056 | 0.000 |  0.00000 |\n",
       "\n"
      ],
      "text/plain": [
       "  Name              Description GTEX-1117F-0226-SM-5GZZ7\n",
       "1 ENSG00000223972.5 DDX11L1     0.00000                 \n",
       "2 ENSG00000227232.5 WASH7P      8.76400                 \n",
       "3 ENSG00000278267.1 MIR6859-1   0.00000                 \n",
       "4 ENSG00000243485.5 MIR1302-2HG 0.07187                 \n",
       "5 ENSG00000237613.2 FAM138A     0.00000                 \n",
       "6 ENSG00000268020.3 OR4G4P      0.00000                 \n",
       "  GTEX-1117F-0426-SM-5EGHI GTEX-1117F-0526-SM-5EGHJ GTEX-1117F-0626-SM-5N9CS\n",
       "1 0.000                    0.000                     0.00000                \n",
       "2 3.861                    7.349                    11.07000                \n",
       "3 0.000                    1.004                     0.00000                \n",
       "4 0.000                    0.000                     0.06761                \n",
       "5 0.000                    0.000                     0.00000                \n",
       "6 0.056                    0.000                     0.00000                "
      ]
     },
     "metadata": {},
     "output_type": "display_data"
    }
   ],
   "source": [
    "head(expression_df[,1:6])"
   ]
  },
  {
   "cell_type": "code",
   "execution_count": null,
   "metadata": {},
   "outputs": [],
   "source": [
    "#gene_info_target$ensembl_gene_id"
   ]
  },
  {
   "cell_type": "code",
   "execution_count": null,
   "metadata": {},
   "outputs": [],
   "source": [
    "expression_df$NameClean <- as.character(sapply(expression_df$Name, function(x) unlist(strsplit(x, \"\\\\.\"))[[1]]))"
   ]
  },
  {
   "cell_type": "code",
   "execution_count": null,
   "metadata": {},
   "outputs": [],
   "source": [
    "unlist(strsplit(expression_df$Name[1], \"\\\\.\"))[[1]]"
   ]
  },
  {
   "cell_type": "code",
   "execution_count": null,
   "metadata": {
    "jupyter": {
     "source_hidden": true
    }
   },
   "outputs": [],
   "source": [
    "dim(expression_df_target)"
   ]
  },
  {
   "cell_type": "code",
   "execution_count": null,
   "metadata": {},
   "outputs": [],
   "source": [
    "head(expression_df$NameClean)"
   ]
  },
  {
   "cell_type": "code",
   "execution_count": null,
   "metadata": {},
   "outputs": [],
   "source": [
    "getwd()"
   ]
  },
  {
   "cell_type": "code",
   "execution_count": null,
   "metadata": {},
   "outputs": [],
   "source": []
  }
 ],
 "metadata": {
  "kernelspec": {
   "display_name": "R",
   "language": "R",
   "name": "ir"
  },
  "language_info": {
   "codemirror_mode": "r",
   "file_extension": ".r",
   "mimetype": "text/x-r-source",
   "name": "R",
   "pygments_lexer": "r",
   "version": "3.5.0"
  }
 },
 "nbformat": 4,
 "nbformat_minor": 4
}
