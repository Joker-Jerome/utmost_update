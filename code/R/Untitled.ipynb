{
 "cells": [
  {
   "cell_type": "code",
   "execution_count": 1,
   "metadata": {},
   "outputs": [
    {
     "data": {
      "text/html": [
       "<ol class=list-inline>\n",
       "\t<li>'gene_info_target'</li>\n",
       "\t<li>'expression_list_target'</li>\n",
       "\t<li>'tissue_vec_target'</li>\n",
       "</ol>\n"
      ],
      "text/latex": [
       "\\begin{enumerate*}\n",
       "\\item 'gene\\_info\\_target'\n",
       "\\item 'expression\\_list\\_target'\n",
       "\\item 'tissue\\_vec\\_target'\n",
       "\\end{enumerate*}\n"
      ],
      "text/markdown": [
       "1. 'gene_info_target'\n",
       "2. 'expression_list_target'\n",
       "3. 'tissue_vec_target'\n",
       "\n",
       "\n"
      ],
      "text/plain": [
       "[1] \"gene_info_target\"       \"expression_list_target\" \"tissue_vec_target\"     "
      ]
     },
     "metadata": {},
     "output_type": "display_data"
    }
   ],
   "source": [
    "ln <- load(\"/gpfs/loomis/project/radev/zy92/utmost_update/GTEX/raw_expression.RData\")\n",
    "ln "
   ]
  },
  {
   "cell_type": "code",
   "execution_count": 2,
   "metadata": {},
   "outputs": [
    {
     "data": {
      "text/html": [
       "49"
      ],
      "text/latex": [
       "49"
      ],
      "text/markdown": [
       "49"
      ],
      "text/plain": [
       "[1] 49"
      ]
     },
     "metadata": {},
     "output_type": "display_data"
    }
   ],
   "source": [
    "length(tissue_vec_target)"
   ]
  },
  {
   "cell_type": "code",
   "execution_count": null,
   "metadata": {},
   "outputs": [],
   "source": []
  }
 ],
 "metadata": {
  "kernelspec": {
   "display_name": "R",
   "language": "R",
   "name": "ir"
  },
  "language_info": {
   "codemirror_mode": "r",
   "file_extension": ".r",
   "mimetype": "text/x-r-source",
   "name": "R",
   "pygments_lexer": "r",
   "version": "3.5.0"
  }
 },
 "nbformat": 4,
 "nbformat_minor": 4
}
