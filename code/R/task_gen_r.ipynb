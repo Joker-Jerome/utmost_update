{
 "cells": [
  {
   "cell_type": "code",
   "execution_count": 5,
   "metadata": {},
   "outputs": [],
   "source": [
    "file_vec = list.files(\"/ysm-gpfs/pi/zhao-data/zy92/GTEx_V8/GTEx_Analysis_v8_eQTL_expression_matrices\", pattern = \"*.bed$\")"
   ]
  },
  {
   "cell_type": "code",
   "execution_count": 6,
   "metadata": {},
   "outputs": [
    {
     "data": {
      "text/html": [
       "49"
      ],
      "text/latex": [
       "49"
      ],
      "text/markdown": [
       "49"
      ],
      "text/plain": [
       "[1] 49"
      ]
     },
     "metadata": {},
     "output_type": "display_data"
    }
   ],
   "source": [
    "length(file_vec)"
   ]
  },
  {
   "cell_type": "code",
   "execution_count": 7,
   "metadata": {},
   "outputs": [
    {
     "data": {
      "text/html": [
       "<style>\n",
       ".list-inline {list-style: none; margin:0; padding: 0}\n",
       ".list-inline>li {display: inline-block}\n",
       ".list-inline>li:not(:last-child)::after {content: \"\\00b7\"; padding: 0 .5ex}\n",
       "</style>\n",
       "<ol class=list-inline><li>'Adipose_Subcutaneous.v8.normalized_expression.bed'</li><li>'Adipose_Visceral_Omentum.v8.normalized_expression.bed'</li><li>'Adrenal_Gland.v8.normalized_expression.bed'</li><li>'Artery_Aorta.v8.normalized_expression.bed'</li><li>'Artery_Coronary.v8.normalized_expression.bed'</li><li>'Artery_Tibial.v8.normalized_expression.bed'</li></ol>\n"
      ],
      "text/latex": [
       "\\begin{enumerate*}\n",
       "\\item 'Adipose\\_Subcutaneous.v8.normalized\\_expression.bed'\n",
       "\\item 'Adipose\\_Visceral\\_Omentum.v8.normalized\\_expression.bed'\n",
       "\\item 'Adrenal\\_Gland.v8.normalized\\_expression.bed'\n",
       "\\item 'Artery\\_Aorta.v8.normalized\\_expression.bed'\n",
       "\\item 'Artery\\_Coronary.v8.normalized\\_expression.bed'\n",
       "\\item 'Artery\\_Tibial.v8.normalized\\_expression.bed'\n",
       "\\end{enumerate*}\n"
      ],
      "text/markdown": [
       "1. 'Adipose_Subcutaneous.v8.normalized_expression.bed'\n",
       "2. 'Adipose_Visceral_Omentum.v8.normalized_expression.bed'\n",
       "3. 'Adrenal_Gland.v8.normalized_expression.bed'\n",
       "4. 'Artery_Aorta.v8.normalized_expression.bed'\n",
       "5. 'Artery_Coronary.v8.normalized_expression.bed'\n",
       "6. 'Artery_Tibial.v8.normalized_expression.bed'\n",
       "\n",
       "\n"
      ],
      "text/plain": [
       "[1] \"Adipose_Subcutaneous.v8.normalized_expression.bed\"    \n",
       "[2] \"Adipose_Visceral_Omentum.v8.normalized_expression.bed\"\n",
       "[3] \"Adrenal_Gland.v8.normalized_expression.bed\"           \n",
       "[4] \"Artery_Aorta.v8.normalized_expression.bed\"            \n",
       "[5] \"Artery_Coronary.v8.normalized_expression.bed\"         \n",
       "[6] \"Artery_Tibial.v8.normalized_expression.bed\"           "
      ]
     },
     "metadata": {},
     "output_type": "display_data"
    }
   ],
   "source": [
    "head(file_vec)"
   ]
  },
  {
   "cell_type": "code",
   "execution_count": 20,
   "metadata": {},
   "outputs": [],
   "source": [
    "task_str <- paste0(\"ulimit -c 0; Rscript /gpfs/project/zhao/zy92/utmost_update/utmost_update/code/R/split_bychr_gene.R /ysm-gpfs/pi/zhao-data/zy92/GTEx_V8/GTEx_Analysis_v8_eQTL_expression_matrices/\", file_vec, \" zy92\") "
   ]
  },
  {
   "cell_type": "code",
   "execution_count": 21,
   "metadata": {},
   "outputs": [],
   "source": [
    "fileConn <- file(\"../submit/expression_split_task.txt\")\n",
    "writeLines(task_str, fileConn)\n",
    "close(fileConn)"
   ]
  },
  {
   "cell_type": "code",
   "execution_count": 14,
   "metadata": {},
   "outputs": [
    {
     "data": {
      "text/html": [
       "'Adipose_Subcutaneous'"
      ],
      "text/latex": [
       "'Adipose\\_Subcutaneous'"
      ],
      "text/markdown": [
       "'Adipose_Subcutaneous'"
      ],
      "text/plain": [
       "[1] \"Adipose_Subcutaneous\""
      ]
     },
     "metadata": {},
     "output_type": "display_data"
    }
   ],
   "source": [
    "tissue <- gsub(\"\\\\.v8\\\\.normalized_expression\\\\.bed\",\"\",basename(\"Adipose_Subcutaneous.v8.normalized_expression.bed\"))\n",
    "tissue\n"
   ]
  },
  {
   "cell_type": "code",
   "execution_count": 11,
   "metadata": {},
   "outputs": [
    {
     "data": {
      "text/html": [
       "'Adipose_Subcutaneous.v8.normalized_expression.bed'"
      ],
      "text/latex": [
       "'Adipose\\_Subcutaneous.v8.normalized\\_expression.bed'"
      ],
      "text/markdown": [
       "'Adipose_Subcutaneous.v8.normalized_expression.bed'"
      ],
      "text/plain": [
       "[1] \"Adipose_Subcutaneous.v8.normalized_expression.bed\""
      ]
     },
     "metadata": {},
     "output_type": "display_data"
    }
   ],
   "source": [
    "basename(\"xxxx//Adipose_Subcutaneous.v8.normalized_expression.bed\")"
   ]
  },
  {
   "cell_type": "code",
   "execution_count": 9,
   "metadata": {},
   "outputs": [
    {
     "data": {
      "text/html": [
       "'Adipose_Subcutaneous.v8.normalized_expression.bed'"
      ],
      "text/latex": [
       "'Adipose\\_Subcutaneous.v8.normalized\\_expression.bed'"
      ],
      "text/markdown": [
       "'Adipose_Subcutaneous.v8.normalized_expression.bed'"
      ],
      "text/plain": [
       "[1] \"Adipose_Subcutaneous.v8.normalized_expression.bed\""
      ]
     },
     "metadata": {},
     "output_type": "display_data"
    }
   ],
   "source": [
    "tissue"
   ]
  },
  {
   "cell_type": "code",
   "execution_count": 13,
   "metadata": {},
   "outputs": [
    {
     "data": {
      "text/html": [
       "'a_a_b_b_c a_a_nd ABC'"
      ],
      "text/latex": [
       "'a\\_a\\_b\\_b\\_c a\\_a\\_nd ABC'"
      ],
      "text/markdown": [
       "'a_a_b_b_c a_a_nd ABC'"
      ],
      "text/plain": [
       "[1] \"a_a_b_b_c a_a_nd ABC\""
      ]
     },
     "metadata": {},
     "output_type": "display_data"
    }
   ],
   "source": [
    "gsub(\"([ab])\", \"\\\\1_\\\\1_\", \"abc and ABC\")"
   ]
  },
  {
   "cell_type": "code",
   "execution_count": 5,
   "metadata": {},
   "outputs": [],
   "source": [
    "task_str <- paste0(\"ulimit -c 0; Rscript /gpfs/project/zhao/zy92/utmost_update/utmost_update/code/R/adjust_expression_gtex8_updated.R \", 1:22, \" zy92\") "
   ]
  },
  {
   "cell_type": "code",
   "execution_count": null,
   "metadata": {},
   "outputs": [],
   "source": [
    "module --ignore-cache load R/3.5.0-foss-2016b-avx2; Rscript /ysm-gpfs/pi/zhao-data/wl382/cWAS/scripts/deal_expr/adjust_expression_gtex8.R 22 wl382"
   ]
  },
  {
   "cell_type": "code",
   "execution_count": 6,
   "metadata": {},
   "outputs": [
    {
     "data": {
      "text/html": [
       "<style>\n",
       ".list-inline {list-style: none; margin:0; padding: 0}\n",
       ".list-inline>li {display: inline-block}\n",
       ".list-inline>li:not(:last-child)::after {content: \"\\00b7\"; padding: 0 .5ex}\n",
       "</style>\n",
       "<ol class=list-inline><li>'ulimit -c 0; Rscript /gpfs/project/zhao/zy92/utmost_update/utmost_update/code/R/adjust_expression_gtex8_updated.R 1 zy92'</li><li>'ulimit -c 0; Rscript /gpfs/project/zhao/zy92/utmost_update/utmost_update/code/R/adjust_expression_gtex8_updated.R 2 zy92'</li><li>'ulimit -c 0; Rscript /gpfs/project/zhao/zy92/utmost_update/utmost_update/code/R/adjust_expression_gtex8_updated.R 3 zy92'</li><li>'ulimit -c 0; Rscript /gpfs/project/zhao/zy92/utmost_update/utmost_update/code/R/adjust_expression_gtex8_updated.R 4 zy92'</li><li>'ulimit -c 0; Rscript /gpfs/project/zhao/zy92/utmost_update/utmost_update/code/R/adjust_expression_gtex8_updated.R 5 zy92'</li><li>'ulimit -c 0; Rscript /gpfs/project/zhao/zy92/utmost_update/utmost_update/code/R/adjust_expression_gtex8_updated.R 6 zy92'</li><li>'ulimit -c 0; Rscript /gpfs/project/zhao/zy92/utmost_update/utmost_update/code/R/adjust_expression_gtex8_updated.R 7 zy92'</li><li>'ulimit -c 0; Rscript /gpfs/project/zhao/zy92/utmost_update/utmost_update/code/R/adjust_expression_gtex8_updated.R 8 zy92'</li><li>'ulimit -c 0; Rscript /gpfs/project/zhao/zy92/utmost_update/utmost_update/code/R/adjust_expression_gtex8_updated.R 9 zy92'</li><li>'ulimit -c 0; Rscript /gpfs/project/zhao/zy92/utmost_update/utmost_update/code/R/adjust_expression_gtex8_updated.R 10 zy92'</li><li>'ulimit -c 0; Rscript /gpfs/project/zhao/zy92/utmost_update/utmost_update/code/R/adjust_expression_gtex8_updated.R 11 zy92'</li><li>'ulimit -c 0; Rscript /gpfs/project/zhao/zy92/utmost_update/utmost_update/code/R/adjust_expression_gtex8_updated.R 12 zy92'</li><li>'ulimit -c 0; Rscript /gpfs/project/zhao/zy92/utmost_update/utmost_update/code/R/adjust_expression_gtex8_updated.R 13 zy92'</li><li>'ulimit -c 0; Rscript /gpfs/project/zhao/zy92/utmost_update/utmost_update/code/R/adjust_expression_gtex8_updated.R 14 zy92'</li><li>'ulimit -c 0; Rscript /gpfs/project/zhao/zy92/utmost_update/utmost_update/code/R/adjust_expression_gtex8_updated.R 15 zy92'</li><li>'ulimit -c 0; Rscript /gpfs/project/zhao/zy92/utmost_update/utmost_update/code/R/adjust_expression_gtex8_updated.R 16 zy92'</li><li>'ulimit -c 0; Rscript /gpfs/project/zhao/zy92/utmost_update/utmost_update/code/R/adjust_expression_gtex8_updated.R 17 zy92'</li><li>'ulimit -c 0; Rscript /gpfs/project/zhao/zy92/utmost_update/utmost_update/code/R/adjust_expression_gtex8_updated.R 18 zy92'</li><li>'ulimit -c 0; Rscript /gpfs/project/zhao/zy92/utmost_update/utmost_update/code/R/adjust_expression_gtex8_updated.R 19 zy92'</li><li>'ulimit -c 0; Rscript /gpfs/project/zhao/zy92/utmost_update/utmost_update/code/R/adjust_expression_gtex8_updated.R 20 zy92'</li><li>'ulimit -c 0; Rscript /gpfs/project/zhao/zy92/utmost_update/utmost_update/code/R/adjust_expression_gtex8_updated.R 21 zy92'</li><li>'ulimit -c 0; Rscript /gpfs/project/zhao/zy92/utmost_update/utmost_update/code/R/adjust_expression_gtex8_updated.R 22 zy92'</li></ol>\n"
      ],
      "text/latex": [
       "\\begin{enumerate*}\n",
       "\\item 'ulimit -c 0; Rscript /gpfs/project/zhao/zy92/utmost\\_update/utmost\\_update/code/R/adjust\\_expression\\_gtex8\\_updated.R 1 zy92'\n",
       "\\item 'ulimit -c 0; Rscript /gpfs/project/zhao/zy92/utmost\\_update/utmost\\_update/code/R/adjust\\_expression\\_gtex8\\_updated.R 2 zy92'\n",
       "\\item 'ulimit -c 0; Rscript /gpfs/project/zhao/zy92/utmost\\_update/utmost\\_update/code/R/adjust\\_expression\\_gtex8\\_updated.R 3 zy92'\n",
       "\\item 'ulimit -c 0; Rscript /gpfs/project/zhao/zy92/utmost\\_update/utmost\\_update/code/R/adjust\\_expression\\_gtex8\\_updated.R 4 zy92'\n",
       "\\item 'ulimit -c 0; Rscript /gpfs/project/zhao/zy92/utmost\\_update/utmost\\_update/code/R/adjust\\_expression\\_gtex8\\_updated.R 5 zy92'\n",
       "\\item 'ulimit -c 0; Rscript /gpfs/project/zhao/zy92/utmost\\_update/utmost\\_update/code/R/adjust\\_expression\\_gtex8\\_updated.R 6 zy92'\n",
       "\\item 'ulimit -c 0; Rscript /gpfs/project/zhao/zy92/utmost\\_update/utmost\\_update/code/R/adjust\\_expression\\_gtex8\\_updated.R 7 zy92'\n",
       "\\item 'ulimit -c 0; Rscript /gpfs/project/zhao/zy92/utmost\\_update/utmost\\_update/code/R/adjust\\_expression\\_gtex8\\_updated.R 8 zy92'\n",
       "\\item 'ulimit -c 0; Rscript /gpfs/project/zhao/zy92/utmost\\_update/utmost\\_update/code/R/adjust\\_expression\\_gtex8\\_updated.R 9 zy92'\n",
       "\\item 'ulimit -c 0; Rscript /gpfs/project/zhao/zy92/utmost\\_update/utmost\\_update/code/R/adjust\\_expression\\_gtex8\\_updated.R 10 zy92'\n",
       "\\item 'ulimit -c 0; Rscript /gpfs/project/zhao/zy92/utmost\\_update/utmost\\_update/code/R/adjust\\_expression\\_gtex8\\_updated.R 11 zy92'\n",
       "\\item 'ulimit -c 0; Rscript /gpfs/project/zhao/zy92/utmost\\_update/utmost\\_update/code/R/adjust\\_expression\\_gtex8\\_updated.R 12 zy92'\n",
       "\\item 'ulimit -c 0; Rscript /gpfs/project/zhao/zy92/utmost\\_update/utmost\\_update/code/R/adjust\\_expression\\_gtex8\\_updated.R 13 zy92'\n",
       "\\item 'ulimit -c 0; Rscript /gpfs/project/zhao/zy92/utmost\\_update/utmost\\_update/code/R/adjust\\_expression\\_gtex8\\_updated.R 14 zy92'\n",
       "\\item 'ulimit -c 0; Rscript /gpfs/project/zhao/zy92/utmost\\_update/utmost\\_update/code/R/adjust\\_expression\\_gtex8\\_updated.R 15 zy92'\n",
       "\\item 'ulimit -c 0; Rscript /gpfs/project/zhao/zy92/utmost\\_update/utmost\\_update/code/R/adjust\\_expression\\_gtex8\\_updated.R 16 zy92'\n",
       "\\item 'ulimit -c 0; Rscript /gpfs/project/zhao/zy92/utmost\\_update/utmost\\_update/code/R/adjust\\_expression\\_gtex8\\_updated.R 17 zy92'\n",
       "\\item 'ulimit -c 0; Rscript /gpfs/project/zhao/zy92/utmost\\_update/utmost\\_update/code/R/adjust\\_expression\\_gtex8\\_updated.R 18 zy92'\n",
       "\\item 'ulimit -c 0; Rscript /gpfs/project/zhao/zy92/utmost\\_update/utmost\\_update/code/R/adjust\\_expression\\_gtex8\\_updated.R 19 zy92'\n",
       "\\item 'ulimit -c 0; Rscript /gpfs/project/zhao/zy92/utmost\\_update/utmost\\_update/code/R/adjust\\_expression\\_gtex8\\_updated.R 20 zy92'\n",
       "\\item 'ulimit -c 0; Rscript /gpfs/project/zhao/zy92/utmost\\_update/utmost\\_update/code/R/adjust\\_expression\\_gtex8\\_updated.R 21 zy92'\n",
       "\\item 'ulimit -c 0; Rscript /gpfs/project/zhao/zy92/utmost\\_update/utmost\\_update/code/R/adjust\\_expression\\_gtex8\\_updated.R 22 zy92'\n",
       "\\end{enumerate*}\n"
      ],
      "text/markdown": [
       "1. 'ulimit -c 0; Rscript /gpfs/project/zhao/zy92/utmost_update/utmost_update/code/R/adjust_expression_gtex8_updated.R 1 zy92'\n",
       "2. 'ulimit -c 0; Rscript /gpfs/project/zhao/zy92/utmost_update/utmost_update/code/R/adjust_expression_gtex8_updated.R 2 zy92'\n",
       "3. 'ulimit -c 0; Rscript /gpfs/project/zhao/zy92/utmost_update/utmost_update/code/R/adjust_expression_gtex8_updated.R 3 zy92'\n",
       "4. 'ulimit -c 0; Rscript /gpfs/project/zhao/zy92/utmost_update/utmost_update/code/R/adjust_expression_gtex8_updated.R 4 zy92'\n",
       "5. 'ulimit -c 0; Rscript /gpfs/project/zhao/zy92/utmost_update/utmost_update/code/R/adjust_expression_gtex8_updated.R 5 zy92'\n",
       "6. 'ulimit -c 0; Rscript /gpfs/project/zhao/zy92/utmost_update/utmost_update/code/R/adjust_expression_gtex8_updated.R 6 zy92'\n",
       "7. 'ulimit -c 0; Rscript /gpfs/project/zhao/zy92/utmost_update/utmost_update/code/R/adjust_expression_gtex8_updated.R 7 zy92'\n",
       "8. 'ulimit -c 0; Rscript /gpfs/project/zhao/zy92/utmost_update/utmost_update/code/R/adjust_expression_gtex8_updated.R 8 zy92'\n",
       "9. 'ulimit -c 0; Rscript /gpfs/project/zhao/zy92/utmost_update/utmost_update/code/R/adjust_expression_gtex8_updated.R 9 zy92'\n",
       "10. 'ulimit -c 0; Rscript /gpfs/project/zhao/zy92/utmost_update/utmost_update/code/R/adjust_expression_gtex8_updated.R 10 zy92'\n",
       "11. 'ulimit -c 0; Rscript /gpfs/project/zhao/zy92/utmost_update/utmost_update/code/R/adjust_expression_gtex8_updated.R 11 zy92'\n",
       "12. 'ulimit -c 0; Rscript /gpfs/project/zhao/zy92/utmost_update/utmost_update/code/R/adjust_expression_gtex8_updated.R 12 zy92'\n",
       "13. 'ulimit -c 0; Rscript /gpfs/project/zhao/zy92/utmost_update/utmost_update/code/R/adjust_expression_gtex8_updated.R 13 zy92'\n",
       "14. 'ulimit -c 0; Rscript /gpfs/project/zhao/zy92/utmost_update/utmost_update/code/R/adjust_expression_gtex8_updated.R 14 zy92'\n",
       "15. 'ulimit -c 0; Rscript /gpfs/project/zhao/zy92/utmost_update/utmost_update/code/R/adjust_expression_gtex8_updated.R 15 zy92'\n",
       "16. 'ulimit -c 0; Rscript /gpfs/project/zhao/zy92/utmost_update/utmost_update/code/R/adjust_expression_gtex8_updated.R 16 zy92'\n",
       "17. 'ulimit -c 0; Rscript /gpfs/project/zhao/zy92/utmost_update/utmost_update/code/R/adjust_expression_gtex8_updated.R 17 zy92'\n",
       "18. 'ulimit -c 0; Rscript /gpfs/project/zhao/zy92/utmost_update/utmost_update/code/R/adjust_expression_gtex8_updated.R 18 zy92'\n",
       "19. 'ulimit -c 0; Rscript /gpfs/project/zhao/zy92/utmost_update/utmost_update/code/R/adjust_expression_gtex8_updated.R 19 zy92'\n",
       "20. 'ulimit -c 0; Rscript /gpfs/project/zhao/zy92/utmost_update/utmost_update/code/R/adjust_expression_gtex8_updated.R 20 zy92'\n",
       "21. 'ulimit -c 0; Rscript /gpfs/project/zhao/zy92/utmost_update/utmost_update/code/R/adjust_expression_gtex8_updated.R 21 zy92'\n",
       "22. 'ulimit -c 0; Rscript /gpfs/project/zhao/zy92/utmost_update/utmost_update/code/R/adjust_expression_gtex8_updated.R 22 zy92'\n",
       "\n",
       "\n"
      ],
      "text/plain": [
       " [1] \"ulimit -c 0; Rscript /gpfs/project/zhao/zy92/utmost_update/utmost_update/code/R/adjust_expression_gtex8_updated.R 1 zy92\" \n",
       " [2] \"ulimit -c 0; Rscript /gpfs/project/zhao/zy92/utmost_update/utmost_update/code/R/adjust_expression_gtex8_updated.R 2 zy92\" \n",
       " [3] \"ulimit -c 0; Rscript /gpfs/project/zhao/zy92/utmost_update/utmost_update/code/R/adjust_expression_gtex8_updated.R 3 zy92\" \n",
       " [4] \"ulimit -c 0; Rscript /gpfs/project/zhao/zy92/utmost_update/utmost_update/code/R/adjust_expression_gtex8_updated.R 4 zy92\" \n",
       " [5] \"ulimit -c 0; Rscript /gpfs/project/zhao/zy92/utmost_update/utmost_update/code/R/adjust_expression_gtex8_updated.R 5 zy92\" \n",
       " [6] \"ulimit -c 0; Rscript /gpfs/project/zhao/zy92/utmost_update/utmost_update/code/R/adjust_expression_gtex8_updated.R 6 zy92\" \n",
       " [7] \"ulimit -c 0; Rscript /gpfs/project/zhao/zy92/utmost_update/utmost_update/code/R/adjust_expression_gtex8_updated.R 7 zy92\" \n",
       " [8] \"ulimit -c 0; Rscript /gpfs/project/zhao/zy92/utmost_update/utmost_update/code/R/adjust_expression_gtex8_updated.R 8 zy92\" \n",
       " [9] \"ulimit -c 0; Rscript /gpfs/project/zhao/zy92/utmost_update/utmost_update/code/R/adjust_expression_gtex8_updated.R 9 zy92\" \n",
       "[10] \"ulimit -c 0; Rscript /gpfs/project/zhao/zy92/utmost_update/utmost_update/code/R/adjust_expression_gtex8_updated.R 10 zy92\"\n",
       "[11] \"ulimit -c 0; Rscript /gpfs/project/zhao/zy92/utmost_update/utmost_update/code/R/adjust_expression_gtex8_updated.R 11 zy92\"\n",
       "[12] \"ulimit -c 0; Rscript /gpfs/project/zhao/zy92/utmost_update/utmost_update/code/R/adjust_expression_gtex8_updated.R 12 zy92\"\n",
       "[13] \"ulimit -c 0; Rscript /gpfs/project/zhao/zy92/utmost_update/utmost_update/code/R/adjust_expression_gtex8_updated.R 13 zy92\"\n",
       "[14] \"ulimit -c 0; Rscript /gpfs/project/zhao/zy92/utmost_update/utmost_update/code/R/adjust_expression_gtex8_updated.R 14 zy92\"\n",
       "[15] \"ulimit -c 0; Rscript /gpfs/project/zhao/zy92/utmost_update/utmost_update/code/R/adjust_expression_gtex8_updated.R 15 zy92\"\n",
       "[16] \"ulimit -c 0; Rscript /gpfs/project/zhao/zy92/utmost_update/utmost_update/code/R/adjust_expression_gtex8_updated.R 16 zy92\"\n",
       "[17] \"ulimit -c 0; Rscript /gpfs/project/zhao/zy92/utmost_update/utmost_update/code/R/adjust_expression_gtex8_updated.R 17 zy92\"\n",
       "[18] \"ulimit -c 0; Rscript /gpfs/project/zhao/zy92/utmost_update/utmost_update/code/R/adjust_expression_gtex8_updated.R 18 zy92\"\n",
       "[19] \"ulimit -c 0; Rscript /gpfs/project/zhao/zy92/utmost_update/utmost_update/code/R/adjust_expression_gtex8_updated.R 19 zy92\"\n",
       "[20] \"ulimit -c 0; Rscript /gpfs/project/zhao/zy92/utmost_update/utmost_update/code/R/adjust_expression_gtex8_updated.R 20 zy92\"\n",
       "[21] \"ulimit -c 0; Rscript /gpfs/project/zhao/zy92/utmost_update/utmost_update/code/R/adjust_expression_gtex8_updated.R 21 zy92\"\n",
       "[22] \"ulimit -c 0; Rscript /gpfs/project/zhao/zy92/utmost_update/utmost_update/code/R/adjust_expression_gtex8_updated.R 22 zy92\""
      ]
     },
     "metadata": {},
     "output_type": "display_data"
    }
   ],
   "source": [
    "task_str"
   ]
  },
  {
   "cell_type": "code",
   "execution_count": 7,
   "metadata": {},
   "outputs": [],
   "source": [
    "fileConn <- file(\"../submit/expression_adjustment_task.txt\")\n",
    "writeLines(task_str, fileConn)\n",
    "close(fileConn)"
   ]
  },
  {
   "cell_type": "markdown",
   "metadata": {},
   "source": [
    "## Expression extraction LNC"
   ]
  },
  {
   "cell_type": "code",
   "execution_count": 1,
   "metadata": {},
   "outputs": [],
   "source": [
    "task_str <- paste0(\"ulimit -c 0; Rscript /gpfs/project/zhao/zy92/utmost_update/utmost_update/code/R/extract_normalized_expression_lnc.R \", 1:22) "
   ]
  },
  {
   "cell_type": "code",
   "execution_count": 2,
   "metadata": {},
   "outputs": [
    {
     "data": {
      "text/html": [
       "<style>\n",
       ".list-inline {list-style: none; margin:0; padding: 0}\n",
       ".list-inline>li {display: inline-block}\n",
       ".list-inline>li:not(:last-child)::after {content: \"\\00b7\"; padding: 0 .5ex}\n",
       "</style>\n",
       "<ol class=list-inline><li>'ulimit -c 0; Rscript /gpfs/project/zhao/zy92/utmost_update/utmost_update/code/R/extract_normalized_expression_lnc.R 1'</li><li>'ulimit -c 0; Rscript /gpfs/project/zhao/zy92/utmost_update/utmost_update/code/R/extract_normalized_expression_lnc.R 2'</li><li>'ulimit -c 0; Rscript /gpfs/project/zhao/zy92/utmost_update/utmost_update/code/R/extract_normalized_expression_lnc.R 3'</li><li>'ulimit -c 0; Rscript /gpfs/project/zhao/zy92/utmost_update/utmost_update/code/R/extract_normalized_expression_lnc.R 4'</li><li>'ulimit -c 0; Rscript /gpfs/project/zhao/zy92/utmost_update/utmost_update/code/R/extract_normalized_expression_lnc.R 5'</li><li>'ulimit -c 0; Rscript /gpfs/project/zhao/zy92/utmost_update/utmost_update/code/R/extract_normalized_expression_lnc.R 6'</li><li>'ulimit -c 0; Rscript /gpfs/project/zhao/zy92/utmost_update/utmost_update/code/R/extract_normalized_expression_lnc.R 7'</li><li>'ulimit -c 0; Rscript /gpfs/project/zhao/zy92/utmost_update/utmost_update/code/R/extract_normalized_expression_lnc.R 8'</li><li>'ulimit -c 0; Rscript /gpfs/project/zhao/zy92/utmost_update/utmost_update/code/R/extract_normalized_expression_lnc.R 9'</li><li>'ulimit -c 0; Rscript /gpfs/project/zhao/zy92/utmost_update/utmost_update/code/R/extract_normalized_expression_lnc.R 10'</li><li>'ulimit -c 0; Rscript /gpfs/project/zhao/zy92/utmost_update/utmost_update/code/R/extract_normalized_expression_lnc.R 11'</li><li>'ulimit -c 0; Rscript /gpfs/project/zhao/zy92/utmost_update/utmost_update/code/R/extract_normalized_expression_lnc.R 12'</li><li>'ulimit -c 0; Rscript /gpfs/project/zhao/zy92/utmost_update/utmost_update/code/R/extract_normalized_expression_lnc.R 13'</li><li>'ulimit -c 0; Rscript /gpfs/project/zhao/zy92/utmost_update/utmost_update/code/R/extract_normalized_expression_lnc.R 14'</li><li>'ulimit -c 0; Rscript /gpfs/project/zhao/zy92/utmost_update/utmost_update/code/R/extract_normalized_expression_lnc.R 15'</li><li>'ulimit -c 0; Rscript /gpfs/project/zhao/zy92/utmost_update/utmost_update/code/R/extract_normalized_expression_lnc.R 16'</li><li>'ulimit -c 0; Rscript /gpfs/project/zhao/zy92/utmost_update/utmost_update/code/R/extract_normalized_expression_lnc.R 17'</li><li>'ulimit -c 0; Rscript /gpfs/project/zhao/zy92/utmost_update/utmost_update/code/R/extract_normalized_expression_lnc.R 18'</li><li>'ulimit -c 0; Rscript /gpfs/project/zhao/zy92/utmost_update/utmost_update/code/R/extract_normalized_expression_lnc.R 19'</li><li>'ulimit -c 0; Rscript /gpfs/project/zhao/zy92/utmost_update/utmost_update/code/R/extract_normalized_expression_lnc.R 20'</li><li>'ulimit -c 0; Rscript /gpfs/project/zhao/zy92/utmost_update/utmost_update/code/R/extract_normalized_expression_lnc.R 21'</li><li>'ulimit -c 0; Rscript /gpfs/project/zhao/zy92/utmost_update/utmost_update/code/R/extract_normalized_expression_lnc.R 22'</li></ol>\n"
      ],
      "text/latex": [
       "\\begin{enumerate*}\n",
       "\\item 'ulimit -c 0; Rscript /gpfs/project/zhao/zy92/utmost\\_update/utmost\\_update/code/R/extract\\_normalized\\_expression\\_lnc.R 1'\n",
       "\\item 'ulimit -c 0; Rscript /gpfs/project/zhao/zy92/utmost\\_update/utmost\\_update/code/R/extract\\_normalized\\_expression\\_lnc.R 2'\n",
       "\\item 'ulimit -c 0; Rscript /gpfs/project/zhao/zy92/utmost\\_update/utmost\\_update/code/R/extract\\_normalized\\_expression\\_lnc.R 3'\n",
       "\\item 'ulimit -c 0; Rscript /gpfs/project/zhao/zy92/utmost\\_update/utmost\\_update/code/R/extract\\_normalized\\_expression\\_lnc.R 4'\n",
       "\\item 'ulimit -c 0; Rscript /gpfs/project/zhao/zy92/utmost\\_update/utmost\\_update/code/R/extract\\_normalized\\_expression\\_lnc.R 5'\n",
       "\\item 'ulimit -c 0; Rscript /gpfs/project/zhao/zy92/utmost\\_update/utmost\\_update/code/R/extract\\_normalized\\_expression\\_lnc.R 6'\n",
       "\\item 'ulimit -c 0; Rscript /gpfs/project/zhao/zy92/utmost\\_update/utmost\\_update/code/R/extract\\_normalized\\_expression\\_lnc.R 7'\n",
       "\\item 'ulimit -c 0; Rscript /gpfs/project/zhao/zy92/utmost\\_update/utmost\\_update/code/R/extract\\_normalized\\_expression\\_lnc.R 8'\n",
       "\\item 'ulimit -c 0; Rscript /gpfs/project/zhao/zy92/utmost\\_update/utmost\\_update/code/R/extract\\_normalized\\_expression\\_lnc.R 9'\n",
       "\\item 'ulimit -c 0; Rscript /gpfs/project/zhao/zy92/utmost\\_update/utmost\\_update/code/R/extract\\_normalized\\_expression\\_lnc.R 10'\n",
       "\\item 'ulimit -c 0; Rscript /gpfs/project/zhao/zy92/utmost\\_update/utmost\\_update/code/R/extract\\_normalized\\_expression\\_lnc.R 11'\n",
       "\\item 'ulimit -c 0; Rscript /gpfs/project/zhao/zy92/utmost\\_update/utmost\\_update/code/R/extract\\_normalized\\_expression\\_lnc.R 12'\n",
       "\\item 'ulimit -c 0; Rscript /gpfs/project/zhao/zy92/utmost\\_update/utmost\\_update/code/R/extract\\_normalized\\_expression\\_lnc.R 13'\n",
       "\\item 'ulimit -c 0; Rscript /gpfs/project/zhao/zy92/utmost\\_update/utmost\\_update/code/R/extract\\_normalized\\_expression\\_lnc.R 14'\n",
       "\\item 'ulimit -c 0; Rscript /gpfs/project/zhao/zy92/utmost\\_update/utmost\\_update/code/R/extract\\_normalized\\_expression\\_lnc.R 15'\n",
       "\\item 'ulimit -c 0; Rscript /gpfs/project/zhao/zy92/utmost\\_update/utmost\\_update/code/R/extract\\_normalized\\_expression\\_lnc.R 16'\n",
       "\\item 'ulimit -c 0; Rscript /gpfs/project/zhao/zy92/utmost\\_update/utmost\\_update/code/R/extract\\_normalized\\_expression\\_lnc.R 17'\n",
       "\\item 'ulimit -c 0; Rscript /gpfs/project/zhao/zy92/utmost\\_update/utmost\\_update/code/R/extract\\_normalized\\_expression\\_lnc.R 18'\n",
       "\\item 'ulimit -c 0; Rscript /gpfs/project/zhao/zy92/utmost\\_update/utmost\\_update/code/R/extract\\_normalized\\_expression\\_lnc.R 19'\n",
       "\\item 'ulimit -c 0; Rscript /gpfs/project/zhao/zy92/utmost\\_update/utmost\\_update/code/R/extract\\_normalized\\_expression\\_lnc.R 20'\n",
       "\\item 'ulimit -c 0; Rscript /gpfs/project/zhao/zy92/utmost\\_update/utmost\\_update/code/R/extract\\_normalized\\_expression\\_lnc.R 21'\n",
       "\\item 'ulimit -c 0; Rscript /gpfs/project/zhao/zy92/utmost\\_update/utmost\\_update/code/R/extract\\_normalized\\_expression\\_lnc.R 22'\n",
       "\\end{enumerate*}\n"
      ],
      "text/markdown": [
       "1. 'ulimit -c 0; Rscript /gpfs/project/zhao/zy92/utmost_update/utmost_update/code/R/extract_normalized_expression_lnc.R 1'\n",
       "2. 'ulimit -c 0; Rscript /gpfs/project/zhao/zy92/utmost_update/utmost_update/code/R/extract_normalized_expression_lnc.R 2'\n",
       "3. 'ulimit -c 0; Rscript /gpfs/project/zhao/zy92/utmost_update/utmost_update/code/R/extract_normalized_expression_lnc.R 3'\n",
       "4. 'ulimit -c 0; Rscript /gpfs/project/zhao/zy92/utmost_update/utmost_update/code/R/extract_normalized_expression_lnc.R 4'\n",
       "5. 'ulimit -c 0; Rscript /gpfs/project/zhao/zy92/utmost_update/utmost_update/code/R/extract_normalized_expression_lnc.R 5'\n",
       "6. 'ulimit -c 0; Rscript /gpfs/project/zhao/zy92/utmost_update/utmost_update/code/R/extract_normalized_expression_lnc.R 6'\n",
       "7. 'ulimit -c 0; Rscript /gpfs/project/zhao/zy92/utmost_update/utmost_update/code/R/extract_normalized_expression_lnc.R 7'\n",
       "8. 'ulimit -c 0; Rscript /gpfs/project/zhao/zy92/utmost_update/utmost_update/code/R/extract_normalized_expression_lnc.R 8'\n",
       "9. 'ulimit -c 0; Rscript /gpfs/project/zhao/zy92/utmost_update/utmost_update/code/R/extract_normalized_expression_lnc.R 9'\n",
       "10. 'ulimit -c 0; Rscript /gpfs/project/zhao/zy92/utmost_update/utmost_update/code/R/extract_normalized_expression_lnc.R 10'\n",
       "11. 'ulimit -c 0; Rscript /gpfs/project/zhao/zy92/utmost_update/utmost_update/code/R/extract_normalized_expression_lnc.R 11'\n",
       "12. 'ulimit -c 0; Rscript /gpfs/project/zhao/zy92/utmost_update/utmost_update/code/R/extract_normalized_expression_lnc.R 12'\n",
       "13. 'ulimit -c 0; Rscript /gpfs/project/zhao/zy92/utmost_update/utmost_update/code/R/extract_normalized_expression_lnc.R 13'\n",
       "14. 'ulimit -c 0; Rscript /gpfs/project/zhao/zy92/utmost_update/utmost_update/code/R/extract_normalized_expression_lnc.R 14'\n",
       "15. 'ulimit -c 0; Rscript /gpfs/project/zhao/zy92/utmost_update/utmost_update/code/R/extract_normalized_expression_lnc.R 15'\n",
       "16. 'ulimit -c 0; Rscript /gpfs/project/zhao/zy92/utmost_update/utmost_update/code/R/extract_normalized_expression_lnc.R 16'\n",
       "17. 'ulimit -c 0; Rscript /gpfs/project/zhao/zy92/utmost_update/utmost_update/code/R/extract_normalized_expression_lnc.R 17'\n",
       "18. 'ulimit -c 0; Rscript /gpfs/project/zhao/zy92/utmost_update/utmost_update/code/R/extract_normalized_expression_lnc.R 18'\n",
       "19. 'ulimit -c 0; Rscript /gpfs/project/zhao/zy92/utmost_update/utmost_update/code/R/extract_normalized_expression_lnc.R 19'\n",
       "20. 'ulimit -c 0; Rscript /gpfs/project/zhao/zy92/utmost_update/utmost_update/code/R/extract_normalized_expression_lnc.R 20'\n",
       "21. 'ulimit -c 0; Rscript /gpfs/project/zhao/zy92/utmost_update/utmost_update/code/R/extract_normalized_expression_lnc.R 21'\n",
       "22. 'ulimit -c 0; Rscript /gpfs/project/zhao/zy92/utmost_update/utmost_update/code/R/extract_normalized_expression_lnc.R 22'\n",
       "\n",
       "\n"
      ],
      "text/plain": [
       " [1] \"ulimit -c 0; Rscript /gpfs/project/zhao/zy92/utmost_update/utmost_update/code/R/extract_normalized_expression_lnc.R 1\" \n",
       " [2] \"ulimit -c 0; Rscript /gpfs/project/zhao/zy92/utmost_update/utmost_update/code/R/extract_normalized_expression_lnc.R 2\" \n",
       " [3] \"ulimit -c 0; Rscript /gpfs/project/zhao/zy92/utmost_update/utmost_update/code/R/extract_normalized_expression_lnc.R 3\" \n",
       " [4] \"ulimit -c 0; Rscript /gpfs/project/zhao/zy92/utmost_update/utmost_update/code/R/extract_normalized_expression_lnc.R 4\" \n",
       " [5] \"ulimit -c 0; Rscript /gpfs/project/zhao/zy92/utmost_update/utmost_update/code/R/extract_normalized_expression_lnc.R 5\" \n",
       " [6] \"ulimit -c 0; Rscript /gpfs/project/zhao/zy92/utmost_update/utmost_update/code/R/extract_normalized_expression_lnc.R 6\" \n",
       " [7] \"ulimit -c 0; Rscript /gpfs/project/zhao/zy92/utmost_update/utmost_update/code/R/extract_normalized_expression_lnc.R 7\" \n",
       " [8] \"ulimit -c 0; Rscript /gpfs/project/zhao/zy92/utmost_update/utmost_update/code/R/extract_normalized_expression_lnc.R 8\" \n",
       " [9] \"ulimit -c 0; Rscript /gpfs/project/zhao/zy92/utmost_update/utmost_update/code/R/extract_normalized_expression_lnc.R 9\" \n",
       "[10] \"ulimit -c 0; Rscript /gpfs/project/zhao/zy92/utmost_update/utmost_update/code/R/extract_normalized_expression_lnc.R 10\"\n",
       "[11] \"ulimit -c 0; Rscript /gpfs/project/zhao/zy92/utmost_update/utmost_update/code/R/extract_normalized_expression_lnc.R 11\"\n",
       "[12] \"ulimit -c 0; Rscript /gpfs/project/zhao/zy92/utmost_update/utmost_update/code/R/extract_normalized_expression_lnc.R 12\"\n",
       "[13] \"ulimit -c 0; Rscript /gpfs/project/zhao/zy92/utmost_update/utmost_update/code/R/extract_normalized_expression_lnc.R 13\"\n",
       "[14] \"ulimit -c 0; Rscript /gpfs/project/zhao/zy92/utmost_update/utmost_update/code/R/extract_normalized_expression_lnc.R 14\"\n",
       "[15] \"ulimit -c 0; Rscript /gpfs/project/zhao/zy92/utmost_update/utmost_update/code/R/extract_normalized_expression_lnc.R 15\"\n",
       "[16] \"ulimit -c 0; Rscript /gpfs/project/zhao/zy92/utmost_update/utmost_update/code/R/extract_normalized_expression_lnc.R 16\"\n",
       "[17] \"ulimit -c 0; Rscript /gpfs/project/zhao/zy92/utmost_update/utmost_update/code/R/extract_normalized_expression_lnc.R 17\"\n",
       "[18] \"ulimit -c 0; Rscript /gpfs/project/zhao/zy92/utmost_update/utmost_update/code/R/extract_normalized_expression_lnc.R 18\"\n",
       "[19] \"ulimit -c 0; Rscript /gpfs/project/zhao/zy92/utmost_update/utmost_update/code/R/extract_normalized_expression_lnc.R 19\"\n",
       "[20] \"ulimit -c 0; Rscript /gpfs/project/zhao/zy92/utmost_update/utmost_update/code/R/extract_normalized_expression_lnc.R 20\"\n",
       "[21] \"ulimit -c 0; Rscript /gpfs/project/zhao/zy92/utmost_update/utmost_update/code/R/extract_normalized_expression_lnc.R 21\"\n",
       "[22] \"ulimit -c 0; Rscript /gpfs/project/zhao/zy92/utmost_update/utmost_update/code/R/extract_normalized_expression_lnc.R 22\""
      ]
     },
     "metadata": {},
     "output_type": "display_data"
    }
   ],
   "source": [
    "task_str"
   ]
  },
  {
   "cell_type": "code",
   "execution_count": 7,
   "metadata": {},
   "outputs": [],
   "source": [
    "fileConn <- file(\"../submit/extract_normalized_expression_lnc_task.txt\")\n",
    "writeLines(task_str, fileConn)\n",
    "close(fileConn)"
   ]
  },
  {
   "cell_type": "markdown",
   "metadata": {},
   "source": [
    "## Expression extraction mirna"
   ]
  },
  {
   "cell_type": "code",
   "execution_count": 4,
   "metadata": {},
   "outputs": [],
   "source": [
    "task_str <- paste0(\"ulimit -c 0; Rscript /gpfs/project/zhao/zy92/utmost_update/utmost_update/code/R/extract_normalized_expression_mirna.R \", 1:22) "
   ]
  },
  {
   "cell_type": "code",
   "execution_count": 5,
   "metadata": {},
   "outputs": [
    {
     "data": {
      "text/html": [
       "<style>\n",
       ".list-inline {list-style: none; margin:0; padding: 0}\n",
       ".list-inline>li {display: inline-block}\n",
       ".list-inline>li:not(:last-child)::after {content: \"\\00b7\"; padding: 0 .5ex}\n",
       "</style>\n",
       "<ol class=list-inline><li>'ulimit -c 0; Rscript /gpfs/project/zhao/zy92/utmost_update/utmost_update/code/R/extract_normalized_expression_mirna.R 1'</li><li>'ulimit -c 0; Rscript /gpfs/project/zhao/zy92/utmost_update/utmost_update/code/R/extract_normalized_expression_mirna.R 2'</li><li>'ulimit -c 0; Rscript /gpfs/project/zhao/zy92/utmost_update/utmost_update/code/R/extract_normalized_expression_mirna.R 3'</li><li>'ulimit -c 0; Rscript /gpfs/project/zhao/zy92/utmost_update/utmost_update/code/R/extract_normalized_expression_mirna.R 4'</li><li>'ulimit -c 0; Rscript /gpfs/project/zhao/zy92/utmost_update/utmost_update/code/R/extract_normalized_expression_mirna.R 5'</li><li>'ulimit -c 0; Rscript /gpfs/project/zhao/zy92/utmost_update/utmost_update/code/R/extract_normalized_expression_mirna.R 6'</li><li>'ulimit -c 0; Rscript /gpfs/project/zhao/zy92/utmost_update/utmost_update/code/R/extract_normalized_expression_mirna.R 7'</li><li>'ulimit -c 0; Rscript /gpfs/project/zhao/zy92/utmost_update/utmost_update/code/R/extract_normalized_expression_mirna.R 8'</li><li>'ulimit -c 0; Rscript /gpfs/project/zhao/zy92/utmost_update/utmost_update/code/R/extract_normalized_expression_mirna.R 9'</li><li>'ulimit -c 0; Rscript /gpfs/project/zhao/zy92/utmost_update/utmost_update/code/R/extract_normalized_expression_mirna.R 10'</li><li>'ulimit -c 0; Rscript /gpfs/project/zhao/zy92/utmost_update/utmost_update/code/R/extract_normalized_expression_mirna.R 11'</li><li>'ulimit -c 0; Rscript /gpfs/project/zhao/zy92/utmost_update/utmost_update/code/R/extract_normalized_expression_mirna.R 12'</li><li>'ulimit -c 0; Rscript /gpfs/project/zhao/zy92/utmost_update/utmost_update/code/R/extract_normalized_expression_mirna.R 13'</li><li>'ulimit -c 0; Rscript /gpfs/project/zhao/zy92/utmost_update/utmost_update/code/R/extract_normalized_expression_mirna.R 14'</li><li>'ulimit -c 0; Rscript /gpfs/project/zhao/zy92/utmost_update/utmost_update/code/R/extract_normalized_expression_mirna.R 15'</li><li>'ulimit -c 0; Rscript /gpfs/project/zhao/zy92/utmost_update/utmost_update/code/R/extract_normalized_expression_mirna.R 16'</li><li>'ulimit -c 0; Rscript /gpfs/project/zhao/zy92/utmost_update/utmost_update/code/R/extract_normalized_expression_mirna.R 17'</li><li>'ulimit -c 0; Rscript /gpfs/project/zhao/zy92/utmost_update/utmost_update/code/R/extract_normalized_expression_mirna.R 18'</li><li>'ulimit -c 0; Rscript /gpfs/project/zhao/zy92/utmost_update/utmost_update/code/R/extract_normalized_expression_mirna.R 19'</li><li>'ulimit -c 0; Rscript /gpfs/project/zhao/zy92/utmost_update/utmost_update/code/R/extract_normalized_expression_mirna.R 20'</li><li>'ulimit -c 0; Rscript /gpfs/project/zhao/zy92/utmost_update/utmost_update/code/R/extract_normalized_expression_mirna.R 21'</li><li>'ulimit -c 0; Rscript /gpfs/project/zhao/zy92/utmost_update/utmost_update/code/R/extract_normalized_expression_mirna.R 22'</li></ol>\n"
      ],
      "text/latex": [
       "\\begin{enumerate*}\n",
       "\\item 'ulimit -c 0; Rscript /gpfs/project/zhao/zy92/utmost\\_update/utmost\\_update/code/R/extract\\_normalized\\_expression\\_mirna.R 1'\n",
       "\\item 'ulimit -c 0; Rscript /gpfs/project/zhao/zy92/utmost\\_update/utmost\\_update/code/R/extract\\_normalized\\_expression\\_mirna.R 2'\n",
       "\\item 'ulimit -c 0; Rscript /gpfs/project/zhao/zy92/utmost\\_update/utmost\\_update/code/R/extract\\_normalized\\_expression\\_mirna.R 3'\n",
       "\\item 'ulimit -c 0; Rscript /gpfs/project/zhao/zy92/utmost\\_update/utmost\\_update/code/R/extract\\_normalized\\_expression\\_mirna.R 4'\n",
       "\\item 'ulimit -c 0; Rscript /gpfs/project/zhao/zy92/utmost\\_update/utmost\\_update/code/R/extract\\_normalized\\_expression\\_mirna.R 5'\n",
       "\\item 'ulimit -c 0; Rscript /gpfs/project/zhao/zy92/utmost\\_update/utmost\\_update/code/R/extract\\_normalized\\_expression\\_mirna.R 6'\n",
       "\\item 'ulimit -c 0; Rscript /gpfs/project/zhao/zy92/utmost\\_update/utmost\\_update/code/R/extract\\_normalized\\_expression\\_mirna.R 7'\n",
       "\\item 'ulimit -c 0; Rscript /gpfs/project/zhao/zy92/utmost\\_update/utmost\\_update/code/R/extract\\_normalized\\_expression\\_mirna.R 8'\n",
       "\\item 'ulimit -c 0; Rscript /gpfs/project/zhao/zy92/utmost\\_update/utmost\\_update/code/R/extract\\_normalized\\_expression\\_mirna.R 9'\n",
       "\\item 'ulimit -c 0; Rscript /gpfs/project/zhao/zy92/utmost\\_update/utmost\\_update/code/R/extract\\_normalized\\_expression\\_mirna.R 10'\n",
       "\\item 'ulimit -c 0; Rscript /gpfs/project/zhao/zy92/utmost\\_update/utmost\\_update/code/R/extract\\_normalized\\_expression\\_mirna.R 11'\n",
       "\\item 'ulimit -c 0; Rscript /gpfs/project/zhao/zy92/utmost\\_update/utmost\\_update/code/R/extract\\_normalized\\_expression\\_mirna.R 12'\n",
       "\\item 'ulimit -c 0; Rscript /gpfs/project/zhao/zy92/utmost\\_update/utmost\\_update/code/R/extract\\_normalized\\_expression\\_mirna.R 13'\n",
       "\\item 'ulimit -c 0; Rscript /gpfs/project/zhao/zy92/utmost\\_update/utmost\\_update/code/R/extract\\_normalized\\_expression\\_mirna.R 14'\n",
       "\\item 'ulimit -c 0; Rscript /gpfs/project/zhao/zy92/utmost\\_update/utmost\\_update/code/R/extract\\_normalized\\_expression\\_mirna.R 15'\n",
       "\\item 'ulimit -c 0; Rscript /gpfs/project/zhao/zy92/utmost\\_update/utmost\\_update/code/R/extract\\_normalized\\_expression\\_mirna.R 16'\n",
       "\\item 'ulimit -c 0; Rscript /gpfs/project/zhao/zy92/utmost\\_update/utmost\\_update/code/R/extract\\_normalized\\_expression\\_mirna.R 17'\n",
       "\\item 'ulimit -c 0; Rscript /gpfs/project/zhao/zy92/utmost\\_update/utmost\\_update/code/R/extract\\_normalized\\_expression\\_mirna.R 18'\n",
       "\\item 'ulimit -c 0; Rscript /gpfs/project/zhao/zy92/utmost\\_update/utmost\\_update/code/R/extract\\_normalized\\_expression\\_mirna.R 19'\n",
       "\\item 'ulimit -c 0; Rscript /gpfs/project/zhao/zy92/utmost\\_update/utmost\\_update/code/R/extract\\_normalized\\_expression\\_mirna.R 20'\n",
       "\\item 'ulimit -c 0; Rscript /gpfs/project/zhao/zy92/utmost\\_update/utmost\\_update/code/R/extract\\_normalized\\_expression\\_mirna.R 21'\n",
       "\\item 'ulimit -c 0; Rscript /gpfs/project/zhao/zy92/utmost\\_update/utmost\\_update/code/R/extract\\_normalized\\_expression\\_mirna.R 22'\n",
       "\\end{enumerate*}\n"
      ],
      "text/markdown": [
       "1. 'ulimit -c 0; Rscript /gpfs/project/zhao/zy92/utmost_update/utmost_update/code/R/extract_normalized_expression_mirna.R 1'\n",
       "2. 'ulimit -c 0; Rscript /gpfs/project/zhao/zy92/utmost_update/utmost_update/code/R/extract_normalized_expression_mirna.R 2'\n",
       "3. 'ulimit -c 0; Rscript /gpfs/project/zhao/zy92/utmost_update/utmost_update/code/R/extract_normalized_expression_mirna.R 3'\n",
       "4. 'ulimit -c 0; Rscript /gpfs/project/zhao/zy92/utmost_update/utmost_update/code/R/extract_normalized_expression_mirna.R 4'\n",
       "5. 'ulimit -c 0; Rscript /gpfs/project/zhao/zy92/utmost_update/utmost_update/code/R/extract_normalized_expression_mirna.R 5'\n",
       "6. 'ulimit -c 0; Rscript /gpfs/project/zhao/zy92/utmost_update/utmost_update/code/R/extract_normalized_expression_mirna.R 6'\n",
       "7. 'ulimit -c 0; Rscript /gpfs/project/zhao/zy92/utmost_update/utmost_update/code/R/extract_normalized_expression_mirna.R 7'\n",
       "8. 'ulimit -c 0; Rscript /gpfs/project/zhao/zy92/utmost_update/utmost_update/code/R/extract_normalized_expression_mirna.R 8'\n",
       "9. 'ulimit -c 0; Rscript /gpfs/project/zhao/zy92/utmost_update/utmost_update/code/R/extract_normalized_expression_mirna.R 9'\n",
       "10. 'ulimit -c 0; Rscript /gpfs/project/zhao/zy92/utmost_update/utmost_update/code/R/extract_normalized_expression_mirna.R 10'\n",
       "11. 'ulimit -c 0; Rscript /gpfs/project/zhao/zy92/utmost_update/utmost_update/code/R/extract_normalized_expression_mirna.R 11'\n",
       "12. 'ulimit -c 0; Rscript /gpfs/project/zhao/zy92/utmost_update/utmost_update/code/R/extract_normalized_expression_mirna.R 12'\n",
       "13. 'ulimit -c 0; Rscript /gpfs/project/zhao/zy92/utmost_update/utmost_update/code/R/extract_normalized_expression_mirna.R 13'\n",
       "14. 'ulimit -c 0; Rscript /gpfs/project/zhao/zy92/utmost_update/utmost_update/code/R/extract_normalized_expression_mirna.R 14'\n",
       "15. 'ulimit -c 0; Rscript /gpfs/project/zhao/zy92/utmost_update/utmost_update/code/R/extract_normalized_expression_mirna.R 15'\n",
       "16. 'ulimit -c 0; Rscript /gpfs/project/zhao/zy92/utmost_update/utmost_update/code/R/extract_normalized_expression_mirna.R 16'\n",
       "17. 'ulimit -c 0; Rscript /gpfs/project/zhao/zy92/utmost_update/utmost_update/code/R/extract_normalized_expression_mirna.R 17'\n",
       "18. 'ulimit -c 0; Rscript /gpfs/project/zhao/zy92/utmost_update/utmost_update/code/R/extract_normalized_expression_mirna.R 18'\n",
       "19. 'ulimit -c 0; Rscript /gpfs/project/zhao/zy92/utmost_update/utmost_update/code/R/extract_normalized_expression_mirna.R 19'\n",
       "20. 'ulimit -c 0; Rscript /gpfs/project/zhao/zy92/utmost_update/utmost_update/code/R/extract_normalized_expression_mirna.R 20'\n",
       "21. 'ulimit -c 0; Rscript /gpfs/project/zhao/zy92/utmost_update/utmost_update/code/R/extract_normalized_expression_mirna.R 21'\n",
       "22. 'ulimit -c 0; Rscript /gpfs/project/zhao/zy92/utmost_update/utmost_update/code/R/extract_normalized_expression_mirna.R 22'\n",
       "\n",
       "\n"
      ],
      "text/plain": [
       " [1] \"ulimit -c 0; Rscript /gpfs/project/zhao/zy92/utmost_update/utmost_update/code/R/extract_normalized_expression_mirna.R 1\" \n",
       " [2] \"ulimit -c 0; Rscript /gpfs/project/zhao/zy92/utmost_update/utmost_update/code/R/extract_normalized_expression_mirna.R 2\" \n",
       " [3] \"ulimit -c 0; Rscript /gpfs/project/zhao/zy92/utmost_update/utmost_update/code/R/extract_normalized_expression_mirna.R 3\" \n",
       " [4] \"ulimit -c 0; Rscript /gpfs/project/zhao/zy92/utmost_update/utmost_update/code/R/extract_normalized_expression_mirna.R 4\" \n",
       " [5] \"ulimit -c 0; Rscript /gpfs/project/zhao/zy92/utmost_update/utmost_update/code/R/extract_normalized_expression_mirna.R 5\" \n",
       " [6] \"ulimit -c 0; Rscript /gpfs/project/zhao/zy92/utmost_update/utmost_update/code/R/extract_normalized_expression_mirna.R 6\" \n",
       " [7] \"ulimit -c 0; Rscript /gpfs/project/zhao/zy92/utmost_update/utmost_update/code/R/extract_normalized_expression_mirna.R 7\" \n",
       " [8] \"ulimit -c 0; Rscript /gpfs/project/zhao/zy92/utmost_update/utmost_update/code/R/extract_normalized_expression_mirna.R 8\" \n",
       " [9] \"ulimit -c 0; Rscript /gpfs/project/zhao/zy92/utmost_update/utmost_update/code/R/extract_normalized_expression_mirna.R 9\" \n",
       "[10] \"ulimit -c 0; Rscript /gpfs/project/zhao/zy92/utmost_update/utmost_update/code/R/extract_normalized_expression_mirna.R 10\"\n",
       "[11] \"ulimit -c 0; Rscript /gpfs/project/zhao/zy92/utmost_update/utmost_update/code/R/extract_normalized_expression_mirna.R 11\"\n",
       "[12] \"ulimit -c 0; Rscript /gpfs/project/zhao/zy92/utmost_update/utmost_update/code/R/extract_normalized_expression_mirna.R 12\"\n",
       "[13] \"ulimit -c 0; Rscript /gpfs/project/zhao/zy92/utmost_update/utmost_update/code/R/extract_normalized_expression_mirna.R 13\"\n",
       "[14] \"ulimit -c 0; Rscript /gpfs/project/zhao/zy92/utmost_update/utmost_update/code/R/extract_normalized_expression_mirna.R 14\"\n",
       "[15] \"ulimit -c 0; Rscript /gpfs/project/zhao/zy92/utmost_update/utmost_update/code/R/extract_normalized_expression_mirna.R 15\"\n",
       "[16] \"ulimit -c 0; Rscript /gpfs/project/zhao/zy92/utmost_update/utmost_update/code/R/extract_normalized_expression_mirna.R 16\"\n",
       "[17] \"ulimit -c 0; Rscript /gpfs/project/zhao/zy92/utmost_update/utmost_update/code/R/extract_normalized_expression_mirna.R 17\"\n",
       "[18] \"ulimit -c 0; Rscript /gpfs/project/zhao/zy92/utmost_update/utmost_update/code/R/extract_normalized_expression_mirna.R 18\"\n",
       "[19] \"ulimit -c 0; Rscript /gpfs/project/zhao/zy92/utmost_update/utmost_update/code/R/extract_normalized_expression_mirna.R 19\"\n",
       "[20] \"ulimit -c 0; Rscript /gpfs/project/zhao/zy92/utmost_update/utmost_update/code/R/extract_normalized_expression_mirna.R 20\"\n",
       "[21] \"ulimit -c 0; Rscript /gpfs/project/zhao/zy92/utmost_update/utmost_update/code/R/extract_normalized_expression_mirna.R 21\"\n",
       "[22] \"ulimit -c 0; Rscript /gpfs/project/zhao/zy92/utmost_update/utmost_update/code/R/extract_normalized_expression_mirna.R 22\""
      ]
     },
     "metadata": {},
     "output_type": "display_data"
    }
   ],
   "source": [
    "task_str"
   ]
  },
  {
   "cell_type": "code",
   "execution_count": 7,
   "metadata": {},
   "outputs": [],
   "source": [
    "fileConn <- file(\"../submit/extract_normalized_expression_mirna_task.txt\")\n",
    "writeLines(task_str, fileConn)\n",
    "close(fileConn)"
   ]
  },
  {
   "cell_type": "code",
   "execution_count": null,
   "metadata": {},
   "outputs": [],
   "source": []
  },
  {
   "cell_type": "code",
   "execution_count": null,
   "metadata": {},
   "outputs": [],
   "source": [
    "task_str <- paste0(\"ulimit -c 0; Rscript /gpfs/project/zhao/zy92/utmost_update/utmost_update/code/R/extract_normalized_expression_mirna.R \", 1:22) \n",
    "\n",
    "fileConn <- file(\"../submit/extract_normalized_expression_mirna_task.txt\")\n",
    "writeLines(task_str, fileConn)\n",
    "close(fileConn)"
   ]
  },
  {
   "cell_type": "markdown",
   "metadata": {},
   "source": [
    "### Single tissue covariance"
   ]
  },
  {
   "cell_type": "code",
   "execution_count": null,
   "metadata": {},
   "outputs": [],
   "source": [
    "ulimit -c 0; bash single_tissue_covariance_brain.sh 0"
   ]
  },
  {
   "cell_type": "code",
   "execution_count": 2,
   "metadata": {},
   "outputs": [],
   "source": [
    "task_str <- paste0(\"ulimit -c 0; bash single_tissue_covariance_brain.sh \", 0:13) \n",
    "\n",
    "fileConn <- file(\"../submit/single_tissue_covariance_task_brain.txt\")\n",
    "writeLines(task_str, fileConn)\n",
    "close(fileConn)"
   ]
  },
  {
   "cell_type": "code",
   "execution_count": null,
   "metadata": {},
   "outputs": [],
   "source": []
  }
 ],
 "metadata": {
  "kernelspec": {
   "display_name": "R",
   "language": "R",
   "name": "ir"
  },
  "language_info": {
   "codemirror_mode": "r",
   "file_extension": ".r",
   "mimetype": "text/x-r-source",
   "name": "R",
   "pygments_lexer": "r",
   "version": "3.5.0"
  }
 },
 "nbformat": 4,
 "nbformat_minor": 4
}
